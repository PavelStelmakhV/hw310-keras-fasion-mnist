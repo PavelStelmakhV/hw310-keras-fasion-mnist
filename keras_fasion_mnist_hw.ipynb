{
  "nbformat": 4,
  "nbformat_minor": 0,
  "metadata": {
    "colab": {
      "provenance": [],
      "gpuType": "T4",
      "authorship_tag": "ABX9TyMCCPY8a4agmKxCFIxlF8/q",
      "include_colab_link": true
    },
    "kernelspec": {
      "name": "python3",
      "display_name": "Python 3"
    },
    "language_info": {
      "name": "python"
    },
    "accelerator": "GPU"
  },
  "cells": [
    {
      "cell_type": "markdown",
      "metadata": {
        "id": "view-in-github",
        "colab_type": "text"
      },
      "source": [
        "<a href=\"https://colab.research.google.com/github/PavelStelmakhV/hw310-keras-fasion-mnist/blob/main/keras_fasion_mnist_hw.ipynb\" target=\"_parent\"><img src=\"https://colab.research.google.com/assets/colab-badge.svg\" alt=\"Open In Colab\"/></a>"
      ]
    },
    {
      "cell_type": "code",
      "source": [
        "import tensorflow as tf\n",
        "from tensorflow.python.client import device_lib\n",
        "print(device_lib.list_local_devices())"
      ],
      "metadata": {
        "colab": {
          "base_uri": "https://localhost:8080/"
        },
        "id": "CQL6wYJUms6Y",
        "outputId": "cf952783-c946-4f08-8057-e81d6cae749a"
      },
      "execution_count": 39,
      "outputs": [
        {
          "output_type": "stream",
          "name": "stdout",
          "text": [
            "[name: \"/device:CPU:0\"\n",
            "device_type: \"CPU\"\n",
            "memory_limit: 268435456\n",
            "locality {\n",
            "}\n",
            "incarnation: 15329042143808567588\n",
            "xla_global_id: -1\n",
            "]\n"
          ]
        }
      ]
    },
    {
      "cell_type": "code",
      "execution_count": 40,
      "metadata": {
        "id": "vv7w0bgAVQPO"
      },
      "outputs": [],
      "source": [
        "import tensorflow as tf\n",
        "import numpy as np\n",
        "import matplotlib.pyplot as plt\n",
        "import tf_keras\n",
        "\n",
        "from keras import layers\n",
        "from keras import models\n",
        "from keras import regularizers\n",
        "from keras import callbacks\n",
        "from keras import initializers\n",
        "from keras.layers import BatchNormalization\n",
        "from keras.models import load_model\n",
        "from tensorflow.keras.utils import to_categorical"
      ]
    },
    {
      "cell_type": "code",
      "source": [
        "num_classes = 10"
      ],
      "metadata": {
        "id": "RvT1uYJsa5cn"
      },
      "execution_count": 41,
      "outputs": []
    },
    {
      "cell_type": "code",
      "source": [
        "fashion_mnist = tf.keras.datasets.fashion_mnist\n",
        "\n",
        "(x_train, y_train), (x_test, y_test) = fashion_mnist.load_data()"
      ],
      "metadata": {
        "id": "mOpywsNAzfGB"
      },
      "execution_count": 42,
      "outputs": []
    },
    {
      "cell_type": "code",
      "source": [
        "def drow_hist(data):\n",
        "  plt.figure(figsize=(8,6), dpi= 80)\n",
        "  _ = plt.hist(data,\n",
        "              bins=num_classes,\n",
        "              stacked=True,\n",
        "              density=False,\n",
        "              range=(0,10),\n",
        "              rwidth=0.9,\n",
        "              )"
      ],
      "metadata": {
        "id": "NjEvuOvomEoT"
      },
      "execution_count": 43,
      "outputs": []
    },
    {
      "cell_type": "code",
      "source": [
        "# create validation data\n",
        "val_size = 6600\n",
        "\n",
        "x_val = x_train[-val_size:, :, :]\n",
        "x_train = x_train[:-val_size, :, :]\n",
        "\n",
        "y_val = y_train[-val_size:]\n",
        "y_train = y_train[:-val_size]"
      ],
      "metadata": {
        "id": "jAs92sDoVU89"
      },
      "execution_count": 44,
      "outputs": []
    },
    {
      "cell_type": "code",
      "source": [
        "# mirror train image\n",
        "x_train_add = np.rot90(x_train, k=1, axes=(1,2))\n",
        "x_train_add = np.transpose(x_train_add, (0, 2, 1))"
      ],
      "metadata": {
        "id": "UHNuw-3D_v7x"
      },
      "execution_count": 45,
      "outputs": []
    },
    {
      "cell_type": "code",
      "source": [
        "y_train_add = y_train.copy()"
      ],
      "metadata": {
        "id": "TNDXV8RfZbt1"
      },
      "execution_count": 46,
      "outputs": []
    },
    {
      "cell_type": "code",
      "source": [
        "# remove boots image from addition data [5, 7, 9]\n",
        "for i in [5, 7, 9]:\n",
        "    index = np.where(y_train_add == i )\n",
        "    x_train_add = np.delete(x_train_add, index , axis=0)\n",
        "    y_train_add = np.delete(y_train_add, index , axis=0)"
      ],
      "metadata": {
        "id": "506yp4e5UqKp"
      },
      "execution_count": 47,
      "outputs": []
    },
    {
      "cell_type": "code",
      "source": [
        "x_train_add.shape"
      ],
      "metadata": {
        "colab": {
          "base_uri": "https://localhost:8080/"
        },
        "id": "WB-PVgBb116E",
        "outputId": "e1323d33-a727-4e34-df93-6b1e6ee9c6ee"
      },
      "execution_count": 48,
      "outputs": [
        {
          "output_type": "execute_result",
          "data": {
            "text/plain": [
              "(37342, 28, 28)"
            ]
          },
          "metadata": {},
          "execution_count": 48
        }
      ]
    },
    {
      "cell_type": "code",
      "source": [
        "y_train_add.shape"
      ],
      "metadata": {
        "colab": {
          "base_uri": "https://localhost:8080/"
        },
        "id": "MjteIWwr2V-N",
        "outputId": "e467471b-524d-4e02-ed94-5ce4f5535e51"
      },
      "execution_count": 49,
      "outputs": [
        {
          "output_type": "execute_result",
          "data": {
            "text/plain": [
              "(37342,)"
            ]
          },
          "metadata": {},
          "execution_count": 49
        }
      ]
    },
    {
      "cell_type": "code",
      "source": [
        "# x_train = np.concatenate([\n",
        "#     x_train,\n",
        "#     x_train_add[:10000:, :, :]\n",
        "# ])"
      ],
      "metadata": {
        "id": "C25g0-L5PuhV"
      },
      "execution_count": 50,
      "outputs": []
    },
    {
      "cell_type": "code",
      "source": [
        "# y_train = np.concatenate([\n",
        "#     y_train,\n",
        "#     y_train_add[:10000]\n",
        "# ])"
      ],
      "metadata": {
        "id": "JiyI9CE-RWnR"
      },
      "execution_count": 51,
      "outputs": []
    },
    {
      "cell_type": "code",
      "source": [
        "drow_hist(y_train)"
      ],
      "metadata": {
        "colab": {
          "base_uri": "https://localhost:8080/",
          "height": 420
        },
        "id": "j0FZ4_7DpRVw",
        "outputId": "3e8b2f53-7338-4164-9522-7e14dc0b2c24"
      },
      "execution_count": 52,
      "outputs": [
        {
          "output_type": "display_data",
          "data": {
            "text/plain": [
              "<Figure size 640x480 with 1 Axes>"
            ],
            "image/png": "[encoded data removed]"
          },
          "metadata": {}
        }
      ]
    },
    {
      "cell_type": "code",
      "source": [
        "# plt.figure()\n",
        "# plt.imshow(x_train[7])\n",
        "# plt.colorbar()\n",
        "# plt.grid(False)\n",
        "# plt.show()"
      ],
      "metadata": {
        "id": "mq_QalIABCeU"
      },
      "execution_count": 53,
      "outputs": []
    },
    {
      "cell_type": "code",
      "source": [
        "# plt.figure()\n",
        "# plt.imshow(x_train_add[0])\n",
        "# plt.colorbar()\n",
        "# plt.grid(False)\n",
        "# plt.show()"
      ],
      "metadata": {
        "id": "CDLNL7Zw3HEc"
      },
      "execution_count": 54,
      "outputs": []
    },
    {
      "cell_type": "code",
      "source": [
        "x_train = x_train.astype('float32') / 255\n",
        "x_test = x_test.astype('float32') / 255\n",
        "x_val = x_val.astype('float32') / 255\n",
        "\n",
        "y_train = to_categorical(y_train)\n",
        "y_test = to_categorical(y_test)\n",
        "y_val = to_categorical(y_val)"
      ],
      "metadata": {
        "id": "t2gucjsJ0KUi"
      },
      "execution_count": 55,
      "outputs": []
    },
    {
      "cell_type": "code",
      "source": [
        "# class_names = ['T-shirt/top', 'Trouser', 'Pullover', 'Dress', 'Coat',\n",
        "#                'Sandal', 'Shirt', 'Sneaker', 'Bag', 'Ankle boot']\n",
        "\n",
        "# plt.figure(figsize=(10,10))\n",
        "# for i in range(25):\n",
        "#     plt.subplot(5,5,i+1)\n",
        "#     plt.xticks([])\n",
        "#     plt.yticks([])\n",
        "#     plt.grid(False)\n",
        "#     plt.imshow(x_train[i+50000], cmap=plt.cm.binary)\n",
        "#     plt.xlabel(class_names[int(y_train[i+50000])])\n",
        "# plt.show()"
      ],
      "metadata": {
        "id": "h4LveKxM4hyC"
      },
      "execution_count": 56,
      "outputs": []
    },
    {
      "cell_type": "code",
      "source": [
        "# plt.figure(figsize=(10,10))\n",
        "# for i in range(25):\n",
        "#     plt.subplot(5,5,i+1)\n",
        "#     plt.xticks([])\n",
        "#     plt.yticks([])\n",
        "#     plt.grid(False)\n",
        "#     plt.imshow(x_train[i], cmap=plt.cm.binary)\n",
        "#     plt.xlabel(class_names[int(y_train[i])])\n",
        "# plt.show()"
      ],
      "metadata": {
        "id": "hljEDYd55d8Q"
      },
      "execution_count": 57,
      "outputs": []
    },
    {
      "cell_type": "code",
      "source": [
        "w_init_tanh = initializers.glorot_normal(seed=111)\n",
        "w_init_relu = initializers.HeNormal(seed=66)\n",
        "# w_init_relu = initializers.HeUniform(seed=24)\n",
        "b_init = initializers.Zeros()"
      ],
      "metadata": {
        "id": "yL9QTEtBGy4N"
      },
      "execution_count": 58,
      "outputs": []
    },
    {
      "cell_type": "code",
      "source": [
        "drop_out = 0.1"
      ],
      "metadata": {
        "id": "flsDcVTnU10J"
      },
      "execution_count": 59,
      "outputs": []
    },
    {
      "cell_type": "code",
      "source": [
        "def layer_relu(model, neurons):\n",
        "  model.add(BatchNormalization())\n",
        "  model.add(layers.Dense(neurons,\n",
        "                       activation='relu',\n",
        "                       kernel_initializer=w_init_relu,\n",
        "                       bias_initializer=b_init))\n",
        "  model.add(layers.Dropout(drop_out))\n",
        "  print(drop_out)\n",
        "  return model"
      ],
      "metadata": {
        "id": "ZZgs_25rKBCp"
      },
      "execution_count": 60,
      "outputs": []
    },
    {
      "cell_type": "code",
      "source": [
        "def layer_tanh(model, neurons):\n",
        "  model.add(BatchNormalization())\n",
        "  model.add(layers.Dense(neurons,\n",
        "                        activation='tanh',\n",
        "                        kernel_initializer=w_init_tanh,\n",
        "                        bias_initializer=b_init))\n",
        "  model.add(layers.Dropout(drop_out))\n",
        "  return model"
      ],
      "metadata": {
        "id": "90JLLnkBR50t"
      },
      "execution_count": 61,
      "outputs": []
    },
    {
      "cell_type": "code",
      "source": [
        "model = models.Sequential()\n",
        "\n",
        "neurons = 256\n",
        "\n",
        "model.add(layers.Flatten(input_shape=(28, 28)))\n",
        "model.add(layers.Dropout(0.4))\n",
        "\n",
        "model = layer_relu(model, neurons*1)\n",
        "model = layer_tanh(model, neurons*2)\n",
        "model = layer_relu(model, neurons*2)\n",
        "# model = layer_relu(model, neurons*2)\n",
        "\n",
        "\n",
        "model.add(layers.Dense(10, activation='softmax'))"
      ],
      "metadata": {
        "id": "atS39i4d0aqW"
      },
      "execution_count": 62,
      "outputs": []
    },
    {
      "cell_type": "markdown",
      "source": [
        "++++++++++++++++++++++++++++++++++++++++++++++++++++++++++++++++++++++++++++++++"
      ],
      "metadata": {
        "id": "tZO7hl7pM63y"
      }
    },
    {
      "cell_type": "code",
      "source": [
        "optimizer = tf.keras.optimizers.Nadam(learning_rate=0.0004,\n",
        "                                      beta_1=0.9,\n",
        "                                      beta_2=0.999,\n",
        "                                      epsilon=1e-06\n",
        ")\n",
        "# optimizer = tf.keras.optimizers.experimental.RMSprop(learning_rate=0.0005,\n",
        "#                                                     rho=0.5,\n",
        "#                                                     momentum=-16,\n",
        "#                                                     epsilon=1e-07,\n",
        "#                                                     centered=False,\n",
        "#                                                     weight_decay=None,\n",
        "#                                                     clipnorm=None,\n",
        "#                                                     clipvalue=None,\n",
        "#                                                     global_clipnorm=None,\n",
        "#                                                     use_ema=False,\n",
        "#                                                     ema_momentum=0.99,\n",
        "#                                                     ema_overwrite_frequency=100,\n",
        "#                                                     jit_compile=True,\n",
        "#                                                     name='RMSprop',\n",
        "# )"
      ],
      "metadata": {
        "id": "EzfnaqIZlfy8"
      },
      "execution_count": 63,
      "outputs": []
    },
    {
      "cell_type": "markdown",
      "source": [
        "++++++++++++++++++++++++++++++++++++++++++++++++++++++++++++++++++++++++++++++++"
      ],
      "metadata": {
        "id": "KHmBptvOM95Z"
      }
    },
    {
      "cell_type": "code",
      "source": [
        "model.compile(#optimizer='adam',\n",
        "              # optimizer='adamax',\n",
        "              optimizer=optimizer,\n",
        "              # optimizer='rmsprop',\n",
        "              # optimizer='sgd',\n",
        "              # optimizer='adadelta',\n",
        "              # loss='binary_crossentropy',\n",
        "              loss=tf.keras.losses.CategoricalCrossentropy(),\n",
        "              metrics=['categorical_accuracy']) # sparse_categorical_accuracy"
      ],
      "metadata": {
        "id": "hENVaAC7ilNY"
      },
      "execution_count": 64,
      "outputs": []
    },
    {
      "cell_type": "code",
      "source": [
        "# callback = callbacks.EarlyStopping(monitor='val_loss',\n",
        "#                                    patience=15,\n",
        "#                                    restore_best_weights=True,\n",
        "#                                    )\n",
        "es = callbacks.EarlyStopping(monitor='val_loss', mode='min', verbose=0, patience=60)\n",
        "mc = callbacks.ModelCheckpoint('best_model.h5', monitor='categorical_accuracy', mode='max', verbose=0, save_best_only=True)\n"
      ],
      "metadata": {
        "id": "5ihU4exVlsjm"
      },
      "execution_count": 65,
      "outputs": []
    },
    {
      "cell_type": "code",
      "source": [
        "history = model.fit(x_train, y_train,\n",
        "                    epochs=1000,\n",
        "                    batch_size=128,\n",
        "                    # callbacks=[callback],\n",
        "                    callbacks=[mc, es],\n",
        "                    verbose=1, #многословие\n",
        "                    # validation_split=0.2\n",
        "                    validation_data=(x_val, y_val)\n",
        "                    )\n",
        "test_loss, test_acc = model.evaluate(x_test, y_test)\n",
        "print('\\nTest accuracy:', test_acc)"
      ],
      "metadata": {
        "id": "FH8HcMNm233I",
        "outputId": "568da01b-b8e6-473f-d8fa-0f54c312cd57",
        "colab": {
          "base_uri": "https://localhost:8080/"
        }
      },
      "execution_count": 66,
      "outputs": [
        {
          "output_type": "stream",
          "name": "stdout",
          "text": [
            "Epoch 1/1000\n",
            "418/418 [==============================] - 21s 44ms/step - loss: 0.7127 - categorical_accuracy: 0.7405 - val_loss: 0.4742 - val_categorical_accuracy: 0.8205\n",
            "Epoch 2/1000\n",
            "418/418 [==============================] - 19s 46ms/step - loss: 0.5267 - categorical_accuracy: 0.8054 - val_loss: 0.4006 - val_categorical_accuracy: 0.8532\n",
            "Epoch 3/1000\n",
            "418/418 [==============================] - 11s 26ms/step - loss: 0.4719 - categorical_accuracy: 0.8251 - val_loss: 0.3731 - val_categorical_accuracy: 0.8588\n",
            "Epoch 4/1000\n",
            "418/418 [==============================] - 11s 27ms/step - loss: 0.4433 - categorical_accuracy: 0.8333 - val_loss: 0.3601 - val_categorical_accuracy: 0.8674\n",
            "Epoch 5/1000\n",
            "418/418 [==============================] - 11s 25ms/step - loss: 0.4223 - categorical_accuracy: 0.8424 - val_loss: 0.3532 - val_categorical_accuracy: 0.8692\n",
            "Epoch 6/1000\n",
            "418/418 [==============================] - 10s 25ms/step - loss: 0.4118 - categorical_accuracy: 0.8468 - val_loss: 0.3492 - val_categorical_accuracy: 0.8711\n",
            "Epoch 7/1000\n",
            "418/418 [==============================] - 11s 26ms/step - loss: 0.3958 - categorical_accuracy: 0.8513 - val_loss: 0.3494 - val_categorical_accuracy: 0.8682\n",
            "Epoch 8/1000\n",
            "418/418 [==============================] - 11s 26ms/step - loss: 0.3855 - categorical_accuracy: 0.8550 - val_loss: 0.3683 - val_categorical_accuracy: 0.8652\n",
            "Epoch 9/1000\n",
            "418/418 [==============================] - 11s 26ms/step - loss: 0.3777 - categorical_accuracy: 0.8569 - val_loss: 0.3374 - val_categorical_accuracy: 0.8755\n",
            "Epoch 10/1000\n",
            "418/418 [==============================] - 11s 27ms/step - loss: 0.3727 - categorical_accuracy: 0.8593 - val_loss: 0.3218 - val_categorical_accuracy: 0.8788\n",
            "Epoch 11/1000\n",
            "418/418 [==============================] - 13s 30ms/step - loss: 0.3639 - categorical_accuracy: 0.8632 - val_loss: 0.3198 - val_categorical_accuracy: 0.8808\n",
            "Epoch 12/1000\n",
            "418/418 [==============================] - 11s 25ms/step - loss: 0.3611 - categorical_accuracy: 0.8638 - val_loss: 0.3229 - val_categorical_accuracy: 0.8789\n",
            "Epoch 13/1000\n",
            "418/418 [==============================] - 10s 25ms/step - loss: 0.3541 - categorical_accuracy: 0.8645 - val_loss: 0.3114 - val_categorical_accuracy: 0.8802\n",
            "Epoch 14/1000\n",
            "418/418 [==============================] - 11s 26ms/step - loss: 0.3469 - categorical_accuracy: 0.8678 - val_loss: 0.3000 - val_categorical_accuracy: 0.8859\n",
            "Epoch 15/1000\n",
            "418/418 [==============================] - 11s 26ms/step - loss: 0.3430 - categorical_accuracy: 0.8691 - val_loss: 0.3057 - val_categorical_accuracy: 0.8845\n",
            "Epoch 16/1000\n",
            "418/418 [==============================] - 11s 27ms/step - loss: 0.3390 - categorical_accuracy: 0.8722 - val_loss: 0.2966 - val_categorical_accuracy: 0.8900\n",
            "Epoch 17/1000\n",
            "418/418 [==============================] - 11s 26ms/step - loss: 0.3327 - categorical_accuracy: 0.8731 - val_loss: 0.3022 - val_categorical_accuracy: 0.8880\n",
            "Epoch 18/1000\n",
            "418/418 [==============================] - 11s 26ms/step - loss: 0.3336 - categorical_accuracy: 0.8730 - val_loss: 0.3030 - val_categorical_accuracy: 0.8868\n",
            "Epoch 19/1000\n",
            "418/418 [==============================] - 10s 24ms/step - loss: 0.3283 - categorical_accuracy: 0.8741 - val_loss: 0.2942 - val_categorical_accuracy: 0.8879\n",
            "Epoch 20/1000\n",
            "418/418 [==============================] - 11s 26ms/step - loss: 0.3250 - categorical_accuracy: 0.8759 - val_loss: 0.2967 - val_categorical_accuracy: 0.8894\n",
            "Epoch 21/1000\n",
            "418/418 [==============================] - 11s 26ms/step - loss: 0.3173 - categorical_accuracy: 0.8798 - val_loss: 0.3018 - val_categorical_accuracy: 0.8877\n",
            "Epoch 22/1000\n",
            "418/418 [==============================] - 11s 26ms/step - loss: 0.3172 - categorical_accuracy: 0.8799 - val_loss: 0.2894 - val_categorical_accuracy: 0.8921\n",
            "Epoch 23/1000\n",
            "418/418 [==============================] - 11s 26ms/step - loss: 0.3164 - categorical_accuracy: 0.8794 - val_loss: 0.2962 - val_categorical_accuracy: 0.8905\n",
            "Epoch 24/1000\n",
            "418/418 [==============================] - 11s 26ms/step - loss: 0.3102 - categorical_accuracy: 0.8801 - val_loss: 0.2915 - val_categorical_accuracy: 0.8912\n",
            "Epoch 25/1000\n",
            "418/418 [==============================] - 10s 25ms/step - loss: 0.3081 - categorical_accuracy: 0.8815 - val_loss: 0.2921 - val_categorical_accuracy: 0.8900\n",
            "Epoch 26/1000\n",
            "418/418 [==============================] - 11s 25ms/step - loss: 0.3039 - categorical_accuracy: 0.8833 - val_loss: 0.2942 - val_categorical_accuracy: 0.8912\n",
            "Epoch 27/1000\n",
            "418/418 [==============================] - 11s 26ms/step - loss: 0.3042 - categorical_accuracy: 0.8827 - val_loss: 0.2884 - val_categorical_accuracy: 0.8939\n",
            "Epoch 28/1000\n",
            "418/418 [==============================] - 11s 26ms/step - loss: 0.2991 - categorical_accuracy: 0.8855 - val_loss: 0.2896 - val_categorical_accuracy: 0.8935\n",
            "Epoch 29/1000\n",
            "418/418 [==============================] - 11s 26ms/step - loss: 0.2995 - categorical_accuracy: 0.8857 - val_loss: 0.2813 - val_categorical_accuracy: 0.8945\n",
            "Epoch 30/1000\n",
            "418/418 [==============================] - 11s 26ms/step - loss: 0.2963 - categorical_accuracy: 0.8863 - val_loss: 0.2813 - val_categorical_accuracy: 0.8921\n",
            "Epoch 31/1000\n",
            "418/418 [==============================] - 11s 25ms/step - loss: 0.2933 - categorical_accuracy: 0.8885 - val_loss: 0.2828 - val_categorical_accuracy: 0.8938\n",
            "Epoch 32/1000\n",
            "418/418 [==============================] - 10s 25ms/step - loss: 0.2916 - categorical_accuracy: 0.8887 - val_loss: 0.2783 - val_categorical_accuracy: 0.8977\n",
            "Epoch 33/1000\n",
            "418/418 [==============================] - 11s 26ms/step - loss: 0.2907 - categorical_accuracy: 0.8888 - val_loss: 0.2760 - val_categorical_accuracy: 0.8961\n",
            "Epoch 34/1000\n",
            "418/418 [==============================] - 11s 26ms/step - loss: 0.2890 - categorical_accuracy: 0.8894 - val_loss: 0.2842 - val_categorical_accuracy: 0.8936\n",
            "Epoch 35/1000\n",
            "418/418 [==============================] - 11s 26ms/step - loss: 0.2855 - categorical_accuracy: 0.8901 - val_loss: 0.2751 - val_categorical_accuracy: 0.8962\n",
            "Epoch 36/1000\n",
            "418/418 [==============================] - 11s 26ms/step - loss: 0.2815 - categorical_accuracy: 0.8918 - val_loss: 0.2739 - val_categorical_accuracy: 0.8955\n",
            "Epoch 37/1000\n",
            "418/418 [==============================] - 11s 26ms/step - loss: 0.2835 - categorical_accuracy: 0.8912 - val_loss: 0.2714 - val_categorical_accuracy: 0.8992\n",
            "Epoch 38/1000\n",
            "418/418 [==============================] - 10s 24ms/step - loss: 0.2810 - categorical_accuracy: 0.8927 - val_loss: 0.2838 - val_categorical_accuracy: 0.8926\n",
            "Epoch 39/1000\n",
            "418/418 [==============================] - 11s 26ms/step - loss: 0.2771 - categorical_accuracy: 0.8946 - val_loss: 0.2793 - val_categorical_accuracy: 0.8958\n",
            "Epoch 40/1000\n",
            "418/418 [==============================] - 11s 26ms/step - loss: 0.2744 - categorical_accuracy: 0.8953 - val_loss: 0.2772 - val_categorical_accuracy: 0.8983\n",
            "Epoch 41/1000\n",
            "418/418 [==============================] - 11s 26ms/step - loss: 0.2746 - categorical_accuracy: 0.8941 - val_loss: 0.2733 - val_categorical_accuracy: 0.8971\n",
            "Epoch 42/1000\n",
            "418/418 [==============================] - 11s 26ms/step - loss: 0.2741 - categorical_accuracy: 0.8941 - val_loss: 0.2715 - val_categorical_accuracy: 0.8968\n",
            "Epoch 43/1000\n",
            "418/418 [==============================] - 11s 26ms/step - loss: 0.2711 - categorical_accuracy: 0.8945 - val_loss: 0.2753 - val_categorical_accuracy: 0.8982\n",
            "Epoch 44/1000\n",
            "418/418 [==============================] - 10s 24ms/step - loss: 0.2658 - categorical_accuracy: 0.8994 - val_loss: 0.2724 - val_categorical_accuracy: 0.9002\n",
            "Epoch 45/1000\n",
            "418/418 [==============================] - 11s 26ms/step - loss: 0.2709 - categorical_accuracy: 0.8959 - val_loss: 0.2782 - val_categorical_accuracy: 0.8967\n",
            "Epoch 46/1000\n",
            "418/418 [==============================] - 11s 26ms/step - loss: 0.2650 - categorical_accuracy: 0.8980 - val_loss: 0.2733 - val_categorical_accuracy: 0.9006\n",
            "Epoch 47/1000\n",
            "418/418 [==============================] - 11s 26ms/step - loss: 0.2619 - categorical_accuracy: 0.8979 - val_loss: 0.2743 - val_categorical_accuracy: 0.8976\n",
            "Epoch 48/1000\n",
            "418/418 [==============================] - 11s 26ms/step - loss: 0.2622 - categorical_accuracy: 0.8993 - val_loss: 0.2712 - val_categorical_accuracy: 0.9018\n",
            "Epoch 49/1000\n",
            "418/418 [==============================] - 11s 26ms/step - loss: 0.2614 - categorical_accuracy: 0.8988 - val_loss: 0.2727 - val_categorical_accuracy: 0.8985\n",
            "Epoch 50/1000\n",
            "418/418 [==============================] - 10s 24ms/step - loss: 0.2606 - categorical_accuracy: 0.8990 - val_loss: 0.2817 - val_categorical_accuracy: 0.8977\n",
            "Epoch 51/1000\n",
            "418/418 [==============================] - 11s 26ms/step - loss: 0.2607 - categorical_accuracy: 0.8992 - val_loss: 0.2755 - val_categorical_accuracy: 0.8998\n",
            "Epoch 52/1000\n",
            "418/418 [==============================] - 11s 26ms/step - loss: 0.2596 - categorical_accuracy: 0.8991 - val_loss: 0.2777 - val_categorical_accuracy: 0.9038\n",
            "Epoch 53/1000\n",
            "418/418 [==============================] - 11s 26ms/step - loss: 0.2584 - categorical_accuracy: 0.8996 - val_loss: 0.2757 - val_categorical_accuracy: 0.8986\n",
            "Epoch 54/1000\n",
            "418/418 [==============================] - 11s 26ms/step - loss: 0.2536 - categorical_accuracy: 0.9011 - val_loss: 0.2783 - val_categorical_accuracy: 0.8977\n",
            "Epoch 55/1000\n",
            "418/418 [==============================] - 11s 26ms/step - loss: 0.2561 - categorical_accuracy: 0.8999 - val_loss: 0.2736 - val_categorical_accuracy: 0.9014\n",
            "Epoch 56/1000\n",
            "418/418 [==============================] - 10s 24ms/step - loss: 0.2556 - categorical_accuracy: 0.9010 - val_loss: 0.2745 - val_categorical_accuracy: 0.9018\n",
            "Epoch 57/1000\n",
            "418/418 [==============================] - 11s 26ms/step - loss: 0.2498 - categorical_accuracy: 0.9036 - val_loss: 0.2690 - val_categorical_accuracy: 0.9044\n",
            "Epoch 58/1000\n",
            "418/418 [==============================] - 11s 26ms/step - loss: 0.2509 - categorical_accuracy: 0.9025 - val_loss: 0.2731 - val_categorical_accuracy: 0.9018\n",
            "Epoch 59/1000\n",
            "418/418 [==============================] - 11s 26ms/step - loss: 0.2492 - categorical_accuracy: 0.9038 - val_loss: 0.2746 - val_categorical_accuracy: 0.9003\n",
            "Epoch 60/1000\n",
            "418/418 [==============================] - 11s 26ms/step - loss: 0.2491 - categorical_accuracy: 0.9034 - val_loss: 0.2685 - val_categorical_accuracy: 0.9018\n",
            "Epoch 61/1000\n",
            "418/418 [==============================] - 11s 25ms/step - loss: 0.2474 - categorical_accuracy: 0.9053 - val_loss: 0.2734 - val_categorical_accuracy: 0.9015\n",
            "Epoch 62/1000\n",
            "418/418 [==============================] - 10s 24ms/step - loss: 0.2456 - categorical_accuracy: 0.9043 - val_loss: 0.2751 - val_categorical_accuracy: 0.9018\n",
            "Epoch 63/1000\n",
            "418/418 [==============================] - 11s 26ms/step - loss: 0.2462 - categorical_accuracy: 0.9050 - val_loss: 0.2747 - val_categorical_accuracy: 0.9020\n",
            "Epoch 64/1000\n",
            "418/418 [==============================] - 11s 26ms/step - loss: 0.2454 - categorical_accuracy: 0.9041 - val_loss: 0.2740 - val_categorical_accuracy: 0.9018\n",
            "Epoch 65/1000\n",
            "418/418 [==============================] - 11s 26ms/step - loss: 0.2429 - categorical_accuracy: 0.9055 - val_loss: 0.2725 - val_categorical_accuracy: 0.9020\n",
            "Epoch 66/1000\n",
            "418/418 [==============================] - 11s 27ms/step - loss: 0.2442 - categorical_accuracy: 0.9036 - val_loss: 0.2773 - val_categorical_accuracy: 0.9029\n",
            "Epoch 67/1000\n",
            "418/418 [==============================] - 11s 26ms/step - loss: 0.2423 - categorical_accuracy: 0.9072 - val_loss: 0.2751 - val_categorical_accuracy: 0.9005\n",
            "Epoch 68/1000\n",
            "418/418 [==============================] - 10s 24ms/step - loss: 0.2394 - categorical_accuracy: 0.9067 - val_loss: 0.2733 - val_categorical_accuracy: 0.9003\n",
            "Epoch 69/1000\n",
            "418/418 [==============================] - 11s 26ms/step - loss: 0.2424 - categorical_accuracy: 0.9057 - val_loss: 0.2767 - val_categorical_accuracy: 0.9021\n",
            "Epoch 70/1000\n",
            "418/418 [==============================] - 11s 26ms/step - loss: 0.2388 - categorical_accuracy: 0.9076 - val_loss: 0.2694 - val_categorical_accuracy: 0.9029\n",
            "Epoch 71/1000\n",
            "418/418 [==============================] - 11s 26ms/step - loss: 0.2391 - categorical_accuracy: 0.9067 - val_loss: 0.2730 - val_categorical_accuracy: 0.9015\n",
            "Epoch 72/1000\n",
            "418/418 [==============================] - 11s 26ms/step - loss: 0.2357 - categorical_accuracy: 0.9078 - val_loss: 0.2709 - val_categorical_accuracy: 0.9032\n",
            "Epoch 73/1000\n",
            "418/418 [==============================] - 11s 26ms/step - loss: 0.2373 - categorical_accuracy: 0.9077 - val_loss: 0.2682 - val_categorical_accuracy: 0.9005\n",
            "Epoch 74/1000\n",
            "418/418 [==============================] - 10s 25ms/step - loss: 0.2381 - categorical_accuracy: 0.9069 - val_loss: 0.2789 - val_categorical_accuracy: 0.8997\n",
            "Epoch 75/1000\n",
            "418/418 [==============================] - 11s 26ms/step - loss: 0.2351 - categorical_accuracy: 0.9081 - val_loss: 0.2733 - val_categorical_accuracy: 0.9024\n",
            "Epoch 76/1000\n",
            "418/418 [==============================] - 11s 26ms/step - loss: 0.2326 - categorical_accuracy: 0.9096 - val_loss: 0.2737 - val_categorical_accuracy: 0.9011\n",
            "Epoch 77/1000\n",
            "418/418 [==============================] - 11s 26ms/step - loss: 0.2355 - categorical_accuracy: 0.9080 - val_loss: 0.2657 - val_categorical_accuracy: 0.9045\n",
            "Epoch 78/1000\n",
            "418/418 [==============================] - 11s 26ms/step - loss: 0.2314 - categorical_accuracy: 0.9102 - val_loss: 0.2759 - val_categorical_accuracy: 0.9027\n",
            "Epoch 79/1000\n",
            "418/418 [==============================] - 11s 26ms/step - loss: 0.2304 - categorical_accuracy: 0.9102 - val_loss: 0.2740 - val_categorical_accuracy: 0.9018\n",
            "Epoch 80/1000\n",
            "418/418 [==============================] - 10s 25ms/step - loss: 0.2315 - categorical_accuracy: 0.9092 - val_loss: 0.2774 - val_categorical_accuracy: 0.9044\n",
            "Epoch 81/1000\n",
            "418/418 [==============================] - 11s 25ms/step - loss: 0.2298 - categorical_accuracy: 0.9100 - val_loss: 0.2737 - val_categorical_accuracy: 0.9027\n",
            "Epoch 82/1000\n",
            "418/418 [==============================] - 11s 26ms/step - loss: 0.2302 - categorical_accuracy: 0.9103 - val_loss: 0.2753 - val_categorical_accuracy: 0.9023\n",
            "Epoch 83/1000\n",
            "418/418 [==============================] - 11s 26ms/step - loss: 0.2282 - categorical_accuracy: 0.9116 - val_loss: 0.2755 - val_categorical_accuracy: 0.9027\n",
            "Epoch 84/1000\n",
            "418/418 [==============================] - 11s 26ms/step - loss: 0.2293 - categorical_accuracy: 0.9098 - val_loss: 0.2770 - val_categorical_accuracy: 0.9017\n",
            "Epoch 85/1000\n",
            "418/418 [==============================] - 11s 26ms/step - loss: 0.2281 - categorical_accuracy: 0.9110 - val_loss: 0.2732 - val_categorical_accuracy: 0.9015\n",
            "Epoch 86/1000\n",
            "418/418 [==============================] - 11s 25ms/step - loss: 0.2269 - categorical_accuracy: 0.9108 - val_loss: 0.2728 - val_categorical_accuracy: 0.9035\n",
            "Epoch 87/1000\n",
            "418/418 [==============================] - 10s 25ms/step - loss: 0.2245 - categorical_accuracy: 0.9118 - val_loss: 0.2721 - val_categorical_accuracy: 0.9036\n",
            "Epoch 88/1000\n",
            "418/418 [==============================] - 11s 26ms/step - loss: 0.2258 - categorical_accuracy: 0.9123 - val_loss: 0.2723 - val_categorical_accuracy: 0.9056\n",
            "Epoch 89/1000\n",
            "418/418 [==============================] - 11s 26ms/step - loss: 0.2261 - categorical_accuracy: 0.9111 - val_loss: 0.2739 - val_categorical_accuracy: 0.9018\n",
            "Epoch 90/1000\n",
            "418/418 [==============================] - 11s 26ms/step - loss: 0.2215 - categorical_accuracy: 0.9142 - val_loss: 0.2735 - val_categorical_accuracy: 0.9038\n",
            "Epoch 91/1000\n",
            "418/418 [==============================] - 11s 27ms/step - loss: 0.2223 - categorical_accuracy: 0.9122 - val_loss: 0.2755 - val_categorical_accuracy: 0.9014\n",
            "Epoch 92/1000\n",
            "418/418 [==============================] - 11s 26ms/step - loss: 0.2214 - categorical_accuracy: 0.9125 - val_loss: 0.2676 - val_categorical_accuracy: 0.9067\n",
            "Epoch 93/1000\n",
            "418/418 [==============================] - 10s 24ms/step - loss: 0.2214 - categorical_accuracy: 0.9124 - val_loss: 0.2703 - val_categorical_accuracy: 0.9044\n",
            "Epoch 94/1000\n",
            "418/418 [==============================] - 11s 26ms/step - loss: 0.2208 - categorical_accuracy: 0.9138 - val_loss: 0.2719 - val_categorical_accuracy: 0.9050\n",
            "Epoch 95/1000\n",
            "418/418 [==============================] - 11s 26ms/step - loss: 0.2241 - categorical_accuracy: 0.9119 - val_loss: 0.2722 - val_categorical_accuracy: 0.9027\n",
            "Epoch 96/1000\n",
            "418/418 [==============================] - 11s 26ms/step - loss: 0.2204 - categorical_accuracy: 0.9147 - val_loss: 0.2709 - val_categorical_accuracy: 0.9050\n",
            "Epoch 97/1000\n",
            "418/418 [==============================] - 11s 27ms/step - loss: 0.2189 - categorical_accuracy: 0.9151 - val_loss: 0.2735 - val_categorical_accuracy: 0.9064\n",
            "Epoch 98/1000\n",
            "418/418 [==============================] - 11s 26ms/step - loss: 0.2177 - categorical_accuracy: 0.9148 - val_loss: 0.2730 - val_categorical_accuracy: 0.9036\n",
            "Epoch 99/1000\n",
            "418/418 [==============================] - 10s 24ms/step - loss: 0.2208 - categorical_accuracy: 0.9138 - val_loss: 0.2639 - val_categorical_accuracy: 0.9068\n",
            "Epoch 100/1000\n",
            "418/418 [==============================] - 11s 26ms/step - loss: 0.2212 - categorical_accuracy: 0.9137 - val_loss: 0.2759 - val_categorical_accuracy: 0.9006\n",
            "Epoch 101/1000\n",
            "418/418 [==============================] - 11s 26ms/step - loss: 0.2158 - categorical_accuracy: 0.9151 - val_loss: 0.2789 - val_categorical_accuracy: 0.9030\n",
            "Epoch 102/1000\n",
            "418/418 [==============================] - 11s 27ms/step - loss: 0.2188 - categorical_accuracy: 0.9155 - val_loss: 0.2788 - val_categorical_accuracy: 0.9015\n",
            "Epoch 103/1000\n",
            "418/418 [==============================] - 11s 26ms/step - loss: 0.2164 - categorical_accuracy: 0.9147 - val_loss: 0.2743 - val_categorical_accuracy: 0.9036\n",
            "Epoch 104/1000\n",
            "418/418 [==============================] - 11s 27ms/step - loss: 0.2142 - categorical_accuracy: 0.9157 - val_loss: 0.2745 - val_categorical_accuracy: 0.9061\n",
            "Epoch 105/1000\n",
            "418/418 [==============================] - 10s 25ms/step - loss: 0.2152 - categorical_accuracy: 0.9160 - val_loss: 0.2758 - val_categorical_accuracy: 0.9023\n",
            "Epoch 106/1000\n",
            "418/418 [==============================] - 11s 26ms/step - loss: 0.2144 - categorical_accuracy: 0.9163 - val_loss: 0.2800 - val_categorical_accuracy: 0.9041\n",
            "Epoch 107/1000\n",
            "418/418 [==============================] - 11s 26ms/step - loss: 0.2117 - categorical_accuracy: 0.9181 - val_loss: 0.2741 - val_categorical_accuracy: 0.9041\n",
            "Epoch 108/1000\n",
            "418/418 [==============================] - 11s 26ms/step - loss: 0.2158 - categorical_accuracy: 0.9171 - val_loss: 0.2749 - val_categorical_accuracy: 0.9032\n",
            "Epoch 109/1000\n",
            "418/418 [==============================] - 11s 27ms/step - loss: 0.2120 - categorical_accuracy: 0.9172 - val_loss: 0.2778 - val_categorical_accuracy: 0.9068\n",
            "Epoch 110/1000\n",
            "418/418 [==============================] - 11s 26ms/step - loss: 0.2125 - categorical_accuracy: 0.9182 - val_loss: 0.2808 - val_categorical_accuracy: 0.9026\n",
            "Epoch 111/1000\n",
            "418/418 [==============================] - 11s 26ms/step - loss: 0.2141 - categorical_accuracy: 0.9163 - val_loss: 0.2773 - val_categorical_accuracy: 0.9041\n",
            "Epoch 112/1000\n",
            "418/418 [==============================] - 10s 25ms/step - loss: 0.2094 - categorical_accuracy: 0.9173 - val_loss: 0.2813 - val_categorical_accuracy: 0.9027\n",
            "Epoch 113/1000\n",
            "418/418 [==============================] - 11s 26ms/step - loss: 0.2089 - categorical_accuracy: 0.9180 - val_loss: 0.2804 - val_categorical_accuracy: 0.9055\n",
            "Epoch 114/1000\n",
            "418/418 [==============================] - 11s 26ms/step - loss: 0.2119 - categorical_accuracy: 0.9159 - val_loss: 0.2809 - val_categorical_accuracy: 0.9011\n",
            "Epoch 115/1000\n",
            "418/418 [==============================] - 11s 26ms/step - loss: 0.2102 - categorical_accuracy: 0.9178 - val_loss: 0.2802 - val_categorical_accuracy: 0.9030\n",
            "Epoch 116/1000\n",
            "418/418 [==============================] - 11s 26ms/step - loss: 0.2082 - categorical_accuracy: 0.9185 - val_loss: 0.2781 - val_categorical_accuracy: 0.9032\n",
            "Epoch 117/1000\n",
            "418/418 [==============================] - 11s 26ms/step - loss: 0.2073 - categorical_accuracy: 0.9192 - val_loss: 0.2772 - val_categorical_accuracy: 0.9052\n",
            "Epoch 118/1000\n",
            "418/418 [==============================] - 10s 24ms/step - loss: 0.2070 - categorical_accuracy: 0.9190 - val_loss: 0.2719 - val_categorical_accuracy: 0.9056\n",
            "Epoch 119/1000\n",
            "418/418 [==============================] - 11s 26ms/step - loss: 0.2113 - categorical_accuracy: 0.9183 - val_loss: 0.2829 - val_categorical_accuracy: 0.9035\n",
            "Epoch 120/1000\n",
            "418/418 [==============================] - 11s 27ms/step - loss: 0.2053 - categorical_accuracy: 0.9198 - val_loss: 0.2821 - val_categorical_accuracy: 0.9041\n",
            "Epoch 121/1000\n",
            "418/418 [==============================] - 11s 26ms/step - loss: 0.2075 - categorical_accuracy: 0.9189 - val_loss: 0.2819 - val_categorical_accuracy: 0.9044\n",
            "Epoch 122/1000\n",
            "418/418 [==============================] - 11s 26ms/step - loss: 0.2054 - categorical_accuracy: 0.9197 - val_loss: 0.2827 - val_categorical_accuracy: 0.9044\n",
            "Epoch 123/1000\n",
            "418/418 [==============================] - 11s 27ms/step - loss: 0.2065 - categorical_accuracy: 0.9202 - val_loss: 0.2781 - val_categorical_accuracy: 0.9030\n",
            "Epoch 124/1000\n",
            "418/418 [==============================] - 10s 25ms/step - loss: 0.2065 - categorical_accuracy: 0.9191 - val_loss: 0.2738 - val_categorical_accuracy: 0.9073\n",
            "Epoch 125/1000\n",
            "418/418 [==============================] - 11s 26ms/step - loss: 0.2053 - categorical_accuracy: 0.9204 - val_loss: 0.2731 - val_categorical_accuracy: 0.9070\n",
            "Epoch 126/1000\n",
            "418/418 [==============================] - 11s 26ms/step - loss: 0.2070 - categorical_accuracy: 0.9198 - val_loss: 0.2789 - val_categorical_accuracy: 0.9029\n",
            "Epoch 127/1000\n",
            "418/418 [==============================] - 11s 26ms/step - loss: 0.2043 - categorical_accuracy: 0.9199 - val_loss: 0.2792 - val_categorical_accuracy: 0.9068\n",
            "Epoch 128/1000\n",
            "418/418 [==============================] - 11s 26ms/step - loss: 0.2047 - categorical_accuracy: 0.9204 - val_loss: 0.2779 - val_categorical_accuracy: 0.9042\n",
            "Epoch 129/1000\n",
            "418/418 [==============================] - 11s 26ms/step - loss: 0.2046 - categorical_accuracy: 0.9193 - val_loss: 0.2812 - val_categorical_accuracy: 0.9048\n",
            "Epoch 130/1000\n",
            "418/418 [==============================] - 11s 25ms/step - loss: 0.2040 - categorical_accuracy: 0.9212 - val_loss: 0.2715 - val_categorical_accuracy: 0.9073\n",
            "Epoch 131/1000\n",
            "418/418 [==============================] - 11s 26ms/step - loss: 0.2019 - categorical_accuracy: 0.9214 - val_loss: 0.2722 - val_categorical_accuracy: 0.9064\n",
            "Epoch 132/1000\n",
            "418/418 [==============================] - 11s 27ms/step - loss: 0.2032 - categorical_accuracy: 0.9206 - val_loss: 0.2816 - val_categorical_accuracy: 0.9024\n",
            "Epoch 133/1000\n",
            "418/418 [==============================] - 11s 26ms/step - loss: 0.2036 - categorical_accuracy: 0.9198 - val_loss: 0.2842 - val_categorical_accuracy: 0.9017\n",
            "Epoch 134/1000\n",
            "418/418 [==============================] - 11s 27ms/step - loss: 0.2005 - categorical_accuracy: 0.9202 - val_loss: 0.2791 - val_categorical_accuracy: 0.9041\n",
            "Epoch 135/1000\n",
            "418/418 [==============================] - 11s 27ms/step - loss: 0.2003 - categorical_accuracy: 0.9215 - val_loss: 0.2755 - val_categorical_accuracy: 0.9038\n",
            "Epoch 136/1000\n",
            "418/418 [==============================] - 11s 27ms/step - loss: 0.1982 - categorical_accuracy: 0.9223 - val_loss: 0.2833 - val_categorical_accuracy: 0.9052\n",
            "Epoch 137/1000\n",
            "418/418 [==============================] - 10s 25ms/step - loss: 0.2016 - categorical_accuracy: 0.9203 - val_loss: 0.2746 - val_categorical_accuracy: 0.9052\n",
            "Epoch 138/1000\n",
            "418/418 [==============================] - 11s 26ms/step - loss: 0.1952 - categorical_accuracy: 0.9231 - val_loss: 0.2827 - val_categorical_accuracy: 0.9041\n",
            "Epoch 139/1000\n",
            "418/418 [==============================] - 20s 48ms/step - loss: 0.2014 - categorical_accuracy: 0.9220 - val_loss: 0.2842 - val_categorical_accuracy: 0.9026\n",
            "Epoch 140/1000\n",
            "418/418 [==============================] - 12s 28ms/step - loss: 0.1984 - categorical_accuracy: 0.9225 - val_loss: 0.2800 - val_categorical_accuracy: 0.9041\n",
            "Epoch 141/1000\n",
            "418/418 [==============================] - 10s 25ms/step - loss: 0.1997 - categorical_accuracy: 0.9230 - val_loss: 0.2787 - val_categorical_accuracy: 0.9071\n",
            "Epoch 142/1000\n",
            "418/418 [==============================] - 11s 26ms/step - loss: 0.1971 - categorical_accuracy: 0.9220 - val_loss: 0.2769 - val_categorical_accuracy: 0.9038\n",
            "Epoch 143/1000\n",
            "418/418 [==============================] - 11s 27ms/step - loss: 0.1968 - categorical_accuracy: 0.9213 - val_loss: 0.2811 - val_categorical_accuracy: 0.9056\n",
            "Epoch 144/1000\n",
            "418/418 [==============================] - 11s 26ms/step - loss: 0.1995 - categorical_accuracy: 0.9219 - val_loss: 0.2801 - val_categorical_accuracy: 0.9047\n",
            "Epoch 145/1000\n",
            "418/418 [==============================] - 11s 27ms/step - loss: 0.1972 - categorical_accuracy: 0.9213 - val_loss: 0.2859 - val_categorical_accuracy: 0.9030\n",
            "Epoch 146/1000\n",
            "418/418 [==============================] - 11s 26ms/step - loss: 0.1979 - categorical_accuracy: 0.9227 - val_loss: 0.2691 - val_categorical_accuracy: 0.9044\n",
            "Epoch 147/1000\n",
            "418/418 [==============================] - 11s 27ms/step - loss: 0.1986 - categorical_accuracy: 0.9237 - val_loss: 0.2797 - val_categorical_accuracy: 0.9027\n",
            "Epoch 148/1000\n",
            "418/418 [==============================] - 10s 24ms/step - loss: 0.1963 - categorical_accuracy: 0.9234 - val_loss: 0.2790 - val_categorical_accuracy: 0.9033\n",
            "Epoch 149/1000\n",
            "418/418 [==============================] - 11s 27ms/step - loss: 0.1936 - categorical_accuracy: 0.9247 - val_loss: 0.2832 - val_categorical_accuracy: 0.9047\n",
            "Epoch 150/1000\n",
            "418/418 [==============================] - 11s 26ms/step - loss: 0.1955 - categorical_accuracy: 0.9224 - val_loss: 0.2802 - val_categorical_accuracy: 0.9026\n",
            "Epoch 151/1000\n",
            "418/418 [==============================] - 11s 27ms/step - loss: 0.1938 - categorical_accuracy: 0.9232 - val_loss: 0.2774 - val_categorical_accuracy: 0.9061\n",
            "Epoch 152/1000\n",
            "418/418 [==============================] - 11s 27ms/step - loss: 0.1965 - categorical_accuracy: 0.9230 - val_loss: 0.2733 - val_categorical_accuracy: 0.9053\n",
            "Epoch 153/1000\n",
            "418/418 [==============================] - 11s 26ms/step - loss: 0.1934 - categorical_accuracy: 0.9242 - val_loss: 0.2806 - val_categorical_accuracy: 0.9052\n",
            "Epoch 154/1000\n",
            "418/418 [==============================] - 10s 24ms/step - loss: 0.1934 - categorical_accuracy: 0.9250 - val_loss: 0.2754 - val_categorical_accuracy: 0.9058\n",
            "Epoch 155/1000\n",
            "418/418 [==============================] - 11s 27ms/step - loss: 0.1926 - categorical_accuracy: 0.9248 - val_loss: 0.2768 - val_categorical_accuracy: 0.9065\n",
            "Epoch 156/1000\n",
            "418/418 [==============================] - 11s 27ms/step - loss: 0.1932 - categorical_accuracy: 0.9253 - val_loss: 0.2820 - val_categorical_accuracy: 0.9070\n",
            "Epoch 157/1000\n",
            "418/418 [==============================] - 11s 27ms/step - loss: 0.1918 - categorical_accuracy: 0.9241 - val_loss: 0.2806 - val_categorical_accuracy: 0.9041\n",
            "Epoch 158/1000\n",
            "418/418 [==============================] - 11s 27ms/step - loss: 0.1931 - categorical_accuracy: 0.9244 - val_loss: 0.2780 - val_categorical_accuracy: 0.9062\n",
            "Epoch 159/1000\n",
            "418/418 [==============================] - 11s 27ms/step - loss: 0.1900 - categorical_accuracy: 0.9253 - val_loss: 0.2895 - val_categorical_accuracy: 0.9032\n",
            "313/313 [==============================] - 1s 4ms/step - loss: 0.3220 - categorical_accuracy: 0.8962\n",
            "\n",
            "Test accuracy: 0.8962000012397766\n"
          ]
        }
      ]
    },
    {
      "cell_type": "code",
      "source": [
        "print('\\nhistory dict:', list(history.history.keys()))"
      ],
      "metadata": {
        "id": "CxRE-B_Q6Sii",
        "outputId": "fb45ef16-d333-4b3d-a652-2453af4a74b1",
        "colab": {
          "base_uri": "https://localhost:8080/"
        }
      },
      "execution_count": 67,
      "outputs": [
        {
          "output_type": "stream",
          "name": "stdout",
          "text": [
            "\n",
            "history dict: ['loss', 'categorical_accuracy', 'val_loss', 'val_categorical_accuracy']\n"
          ]
        }
      ]
    },
    {
      "cell_type": "code",
      "source": [
        "result = model.evaluate(x_test, y_test)\n",
        "print(result)"
      ],
      "metadata": {
        "id": "YXpwRRTvTBNg",
        "outputId": "94ee592b-7ee1-4c8a-ff1f-5febbed9efa7",
        "colab": {
          "base_uri": "https://localhost:8080/"
        }
      },
      "execution_count": 68,
      "outputs": [
        {
          "output_type": "stream",
          "name": "stdout",
          "text": [
            "313/313 [==============================] - 1s 3ms/step - loss: 0.3220 - categorical_accuracy: 0.8962\n",
            "[0.3220266103744507, 0.8962000012397766]\n"
          ]
        }
      ]
    },
    {
      "cell_type": "code",
      "source": [
        "saved_model = load_model('best_model.h5')\n",
        "result = saved_model.evaluate(x_test, y_test)\n",
        "print(result)"
      ],
      "metadata": {
        "id": "dpaZAW0vp1AZ",
        "outputId": "abd10a87-655e-4dbb-995e-365fe848fd56",
        "colab": {
          "base_uri": "https://localhost:8080/"
        }
      },
      "execution_count": 69,
      "outputs": [
        {
          "output_type": "stream",
          "name": "stdout",
          "text": [
            "313/313 [==============================] - 1s 4ms/step - loss: 0.3159 - categorical_accuracy: 0.8986\n",
            "[0.3158681094646454, 0.8985999822616577]\n"
          ]
        }
      ]
    },
    {
      "cell_type": "code",
      "source": [
        "# from keras.models import load_model\n",
        "# saved_model = load_model('best_model.h5')\n",
        "# # _, train_acc = saved_model.evaluate(x_train, y_train, verbose=0)\n",
        "# _, test_acc = saved_model.evaluate(x_test, y_test, verbose=0)\n",
        "# print('Test: %.3f' % (test_acc))"
      ],
      "metadata": {
        "id": "DR_MS9DABo_K"
      },
      "execution_count": 70,
      "outputs": []
    },
    {
      "cell_type": "code",
      "source": [
        "history_dict = history.history\n",
        "loss_values = history_dict['loss']\n",
        "val_loss_values = history_dict['val_loss']\n",
        "\n",
        "epochs = range(1, len(history_dict['loss']) + 1)\n",
        "\n",
        "plt.figure(figsize=(10, 5))\n",
        "plt.plot(epochs, loss_values, 'bo', label='Training loss')\n",
        "plt.plot(epochs, val_loss_values, 'r', label='Validation loss')\n",
        "# plt.ylim (0.2, 0.5)\n",
        "plt.title('Training and validation loss')\n",
        "plt.xlabel('Epochs')\n",
        "plt.ylabel('Loss')\n",
        "plt.legend()\n",
        "plt.grid(True)\n",
        "plt.show()\n",
        "1\n",
        "plt.clf()\n",
        "plt.figure(figsize=(10, 5))\n",
        "val_acc_values = history_dict['categorical_accuracy']\n",
        "plt.plot(epochs, history_dict['categorical_accuracy'], 'bo', label='Training acc')\n",
        "plt.plot(epochs, history_dict['val_categorical_accuracy'], 'r', label='Validation acc')\n",
        "plt.ylim (0.86, 0.94)\n",
        "plt.title('Training and validation accuracy')\n",
        "plt.xlabel('Epochs')\n",
        "plt.ylabel('Accuracy')\n",
        "plt.legend()\n",
        "plt.grid(True)"
      ],
      "metadata": {
        "id": "2Ll_5sGlXKMH",
        "outputId": "6c8fdf62-1386-4fa3-a348-ba84bfd34fd6",
        "colab": {
          "base_uri": "https://localhost:8080/",
          "height": 975
        }
      },
      "execution_count": 71,
      "outputs": [
        {
          "output_type": "display_data",
          "data": {
            "text/plain": [
              "<Figure size 1000x500 with 1 Axes>"
            ],
            "image/png": "[encoded data removed]"
          },
          "metadata": {}
        },
        {
          "output_type": "display_data",
          "data": {
            "text/plain": [
              "<Figure size 640x480 with 0 Axes>"
            ]
          },
          "metadata": {}
        },
        {
          "output_type": "display_data",
          "data": {
            "text/plain": [
              "<Figure size 1000x500 with 1 Axes>"
            ],
            "image/png": "[encoded data removed]"
          },
          "metadata": {}
        }
      ]
    },
    {
      "cell_type": "code",
      "source": [
        "probability_model = tf.keras.Sequential([model,\n",
        "                                         tf.keras.layers.Softmax()])"
      ],
      "metadata": {
        "id": "VzOdKAT_uV-f"
      },
      "execution_count": 72,
      "outputs": []
    },
    {
      "cell_type": "code",
      "source": [
        "predictions = probability_model.predict(x_test)"
      ],
      "metadata": {
        "id": "f4is3NFruYom",
        "outputId": "8d6dce7c-83ac-4da5-d4b0-3432e0caf70b",
        "colab": {
          "base_uri": "https://localhost:8080/"
        }
      },
      "execution_count": 73,
      "outputs": [
        {
          "output_type": "stream",
          "name": "stdout",
          "text": [
            "313/313 [==============================] - 2s 5ms/step\n"
          ]
        }
      ]
    },
    {
      "cell_type": "code",
      "source": [
        "predictions[0]"
      ],
      "metadata": {
        "id": "82cigvlZudz_",
        "outputId": "cf423ce0-3272-45f0-a700-180858d302b3",
        "colab": {
          "base_uri": "https://localhost:8080/"
        }
      },
      "execution_count": 74,
      "outputs": [
        {
          "output_type": "execute_result",
          "data": {
            "text/plain": [
              "array([0.0853404 , 0.0853404 , 0.0853404 , 0.0853404 , 0.0853404 ,\n",
              "       0.08534063, 0.0853404 , 0.08536507, 0.0853404 , 0.23191153],\n",
              "      dtype=float32)"
            ]
          },
          "metadata": {},
          "execution_count": 74
        }
      ]
    },
    {
      "cell_type": "code",
      "source": [
        "model.summary()"
      ],
      "metadata": {
        "id": "6RsQPHyYuNGe",
        "outputId": "05e9aa26-5780-44c6-99b8-f7405a6fdc8a",
        "colab": {
          "base_uri": "https://localhost:8080/"
        }
      },
      "execution_count": 75,
      "outputs": [
        {
          "output_type": "stream",
          "name": "stdout",
          "text": [
            "Model: \"sequential_2\"\n",
            "_________________________________________________________________\n",
            " Layer (type)                Output Shape              Param #   \n",
            "=================================================================\n",
            " flatten_1 (Flatten)         (None, 784)               0         \n",
            "                                                                 \n",
            " dropout_4 (Dropout)         (None, 784)               0         \n",
            "                                                                 \n",
            " batch_normalization_3 (Bat  (None, 784)               3136      \n",
            " chNormalization)                                                \n",
            "                                                                 \n",
            " dense_4 (Dense)             (None, 256)               200960    \n",
            "                                                                 \n",
            " dropout_5 (Dropout)         (None, 256)               0         \n",
            "                                                                 \n",
            " batch_normalization_4 (Bat  (None, 256)               1024      \n",
            " chNormalization)                                                \n",
            "                                                                 \n",
            " dense_5 (Dense)             (None, 512)               131584    \n",
            "                                                                 \n",
            " dropout_6 (Dropout)         (None, 512)               0         \n",
            "                                                                 \n",
            " batch_normalization_5 (Bat  (None, 512)               2048      \n",
            " chNormalization)                                                \n",
            "                                                                 \n",
            " dense_6 (Dense)             (None, 512)               262656    \n",
            "                                                                 \n",
            " dropout_7 (Dropout)         (None, 512)               0         \n",
            "                                                                 \n",
            " dense_7 (Dense)             (None, 10)                5130      \n",
            "                                                                 \n",
            "=================================================================\n",
            "Total params: 606538 (2.31 MB)\n",
            "Trainable params: 603434 (2.30 MB)\n",
            "Non-trainable params: 3104 (12.12 KB)\n",
            "_________________________________________________________________\n"
          ]
        }
      ]
    },
    {
      "cell_type": "code",
      "source": [
        "\n",
        "\n",
        "hnyetjn hrte()"
      ],
      "metadata": {
        "id": "S4hcxZttmp-0",
        "outputId": "35f2142a-e59c-4815-fea1-a2b12858f71a",
        "colab": {
          "base_uri": "https://localhost:8080/",
          "height": 108
        }
      },
      "execution_count": 76,
      "outputs": [
        {
          "output_type": "error",
          "ename": "SyntaxError",
          "evalue": "invalid syntax (<ipython-input-76-1a3818e70946>, line 1)",
          "traceback": [
            "\u001b[0;36m  File \u001b[0;32m\"<ipython-input-76-1a3818e70946>\"\u001b[0;36m, line \u001b[0;32m1\u001b[0m\n\u001b[0;31m    hnyetjn hrte()\u001b[0m\n\u001b[0m            ^\u001b[0m\n\u001b[0;31mSyntaxError\u001b[0m\u001b[0;31m:\u001b[0m invalid syntax\n"
          ]
        }
      ]
    }
  ]
}