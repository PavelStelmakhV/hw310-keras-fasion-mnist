{
  "nbformat": 4,
  "nbformat_minor": 0,
  "metadata": {
    "colab": {
      "provenance": [],
      "gpuType": "T4",
      "authorship_tag": "ABX9TyOKWr4rfcdo+02aIDSuLWRU",
      "include_colab_link": true
    },
    "kernelspec": {
      "name": "python3",
      "display_name": "Python 3"
    },
    "language_info": {
      "name": "python"
    },
    "accelerator": "GPU"
  },
  "cells": [
    {
      "cell_type": "markdown",
      "metadata": {
        "id": "view-in-github",
        "colab_type": "text"
      },
      "source": [
        "<a href=\"https://colab.research.google.com/github/PavelStelmakhV/hw310-keras-fasion-mnist/blob/main/keras_fasion_mnist_hw.ipynb\" target=\"_parent\"><img src=\"https://colab.research.google.com/assets/colab-badge.svg\" alt=\"Open In Colab\"/></a>"
      ]
    },
    {
      "cell_type": "code",
      "execution_count": 200,
      "metadata": {
        "id": "vv7w0bgAVQPO"
      },
      "outputs": [],
      "source": [
        "import tensorflow as tf\n",
        "import numpy as np\n",
        "import matplotlib.pyplot as plt\n",
        "\n",
        "from keras import layers\n",
        "from keras import regularizers\n",
        "from keras import callbacks\n",
        "from keras import initializers\n",
        "from keras.layers import BatchNormalization\n",
        "from keras.models import load_model"
      ]
    },
    {
      "cell_type": "code",
      "source": [
        "fashion_mnist = tf.keras.datasets.fashion_mnist\n",
        "\n",
        "(x_train, y_train), (x_test, y_test) = fashion_mnist.load_data()"
      ],
      "metadata": {
        "id": "mOpywsNAzfGB"
      },
      "execution_count": 201,
      "outputs": []
    },
    {
      "cell_type": "code",
      "source": [
        "# x_train = x_train.reshape(60000, 784).astype('float32') / 255\n",
        "# x_test = x_test.reshape(10000, 784).astype('float32') / 255\n",
        "x_train = x_train.astype('float32') / 255\n",
        "x_test = x_test.astype('float32') / 255\n",
        "\n",
        "y_train = y_train.astype('float32')\n",
        "y_test = y_test.astype('float32')\n",
        "\n",
        "# Перемешаем тренировочные данные\n",
        "# train_data = tf.data.Dataset.from_tensor_slices((x_train, y_train))\n",
        "# train_data = train_data.repeat().shuffle(5000).batch(batch_size).prefetch(1)"
      ],
      "metadata": {
        "id": "t2gucjsJ0KUi"
      },
      "execution_count": 202,
      "outputs": []
    },
    {
      "cell_type": "code",
      "source": [
        "# x_val = x_train[-10000:]\n",
        "# y_val = y_train[-10000:]\n",
        "# x_train = x_train[:-10000]\n",
        "# y_train = y_train[:-10000]"
      ],
      "metadata": {
        "id": "fLPNXab5dHwO"
      },
      "execution_count": 203,
      "outputs": []
    },
    {
      "cell_type": "code",
      "source": [],
      "metadata": {
        "id": "bU5TK5YdlnU5"
      },
      "execution_count": 203,
      "outputs": []
    },
    {
      "cell_type": "code",
      "source": [
        "w_init_tanh = initializers.glorot_normal(seed=42)\n",
        "w_init_relu = initializers.HeNormal(seed=42)\n",
        "b_init = initializers.Zeros()"
      ],
      "metadata": {
        "id": "yL9QTEtBGy4N"
      },
      "execution_count": 204,
      "outputs": []
    },
    {
      "cell_type": "code",
      "source": [
        "model = tf.keras.Sequential()\n",
        "\n",
        "drop_out = 0.40\n",
        "lern_rat = 0.001\n",
        "neurons = 256\n",
        "\n",
        "model.add(layers.Flatten(input_shape=(28, 28)))\n",
        "model.add(layers.Dropout(drop_out))\n",
        "\n",
        "model.add(BatchNormalization())\n",
        "model.add(layers.Dense(neurons * 1,\n",
        "                       activation='relu',\n",
        "                       kernel_initializer=w_init_relu,\n",
        "                       bias_initializer=b_init)) #, kernel_regularizer=regularizers.l2(lern_rat)\n",
        "model.add(layers.Dropout(drop_out))\n",
        "\n",
        "# model.add(BatchNormalization())\n",
        "# model.add(layers.Dense(neurons * 1,\n",
        "#                        activation='relu',\n",
        "#                        kernel_initializer=w_init_relu,\n",
        "#                        bias_initializer=b_init)) #, kernel_regularizer=regularizers.l2(lern_rat)\n",
        "# model.add(layers.Dropout(drop_out))\n",
        "\n",
        "# model.add(BatchNormalization())\n",
        "# model.add(layers.Dense(neurons * 1,\n",
        "#                        activation='relu',\n",
        "#                        kernel_initializer=w_init_relu,\n",
        "#                        bias_initializer=b_init)) #, kernel_regularizer=regularizers.l2(lern_rat)\n",
        "# model.add(layers.Dropout(drop_out))\n",
        "\n",
        "model.add(BatchNormalization())\n",
        "model.add(layers.Dense(neurons * 2,\n",
        "                       activation='relu',\n",
        "                       kernel_initializer=w_init_relu,\n",
        "                       bias_initializer=b_init)) #, kernel_regularizer=regularizers.l2(lern_rat)\n",
        "model.add(layers.Dropout(drop_out))\n",
        "\n",
        "# model.add(BatchNormalization())\n",
        "# model.add(layers.Dense(neurons * 2,\n",
        "#                        activation='tanh',\n",
        "#                        kernel_initializer=w_init_tanh,\n",
        "#                        bias_initializer=b_init))\n",
        "# model.add(layers.Dropout(drop_out))\n",
        "\n",
        "model.add(BatchNormalization())\n",
        "model.add(layers.Dense(neurons * 2,\n",
        "                       activation='relu',\n",
        "                       kernel_initializer=w_init_relu,\n",
        "                       bias_initializer=b_init))\n",
        "model.add(layers.Dropout(drop_out))\n",
        "\n",
        "# model.add(layers.Dense(neurons * 2, activation='relu'))\n",
        "# model.add(BatchNormalization())\n",
        "# model.add(layers.Dropout(drop_out * 2))\n",
        "\n",
        "model.add(layers.Dense(10, activation='softmax'))"
      ],
      "metadata": {
        "id": "atS39i4d0aqW"
      },
      "execution_count": 205,
      "outputs": []
    },
    {
      "cell_type": "code",
      "source": [],
      "metadata": {
        "id": "EzfnaqIZlfy8"
      },
      "execution_count": 205,
      "outputs": []
    },
    {
      "cell_type": "code",
      "source": [
        "model.compile(#optimizer='adam',\n",
        "              # optimizer='adamax',\n",
        "              optimizer='nadam',\n",
        "              # optimizer='rmsprop',\n",
        "              # optimizer='sgd',\n",
        "              # optimizer='adadelta',\n",
        "              # loss='binary_crossentropy',\n",
        "              loss=tf.keras.losses.SparseCategoricalCrossentropy(),\n",
        "              metrics=['sparse_categorical_accuracy']) # sparse_categorical_accuracy"
      ],
      "metadata": {
        "id": "hENVaAC7ilNY"
      },
      "execution_count": 206,
      "outputs": []
    },
    {
      "cell_type": "code",
      "source": [
        "x = np.random.random((1, 28, 28))\n",
        "a = model.predict(x)\n",
        "_ = plt.hist(np.transpose(a))"
      ],
      "metadata": {
        "id": "RFgZHNNFMa8p",
        "outputId": "91d9629d-bd87-4b50-9f63-1d27e0ca89b5",
        "colab": {
          "base_uri": "https://localhost:8080/",
          "height": 448
        }
      },
      "execution_count": 207,
      "outputs": [
        {
          "output_type": "stream",
          "name": "stdout",
          "text": [
            "1/1 [==============================] - 0s 99ms/step\n"
          ]
        },
        {
          "output_type": "display_data",
          "data": {
            "text/plain": [
              "<Figure size 640x480 with 1 Axes>"
            ],
            "image/png": "[encoded data removed]"
          },
          "metadata": {}
        }
      ]
    },
    {
      "cell_type": "code",
      "source": [
        "y_pred = model.predict(x_test)"
      ],
      "metadata": {
        "id": "UDP8OKKZ8oQa",
        "outputId": "2ffdd7d3-a398-494e-f059-8a269a589b83",
        "colab": {
          "base_uri": "https://localhost:8080/"
        }
      },
      "execution_count": 208,
      "outputs": [
        {
          "output_type": "stream",
          "name": "stdout",
          "text": [
            "313/313 [==============================] - 1s 2ms/step\n"
          ]
        }
      ]
    },
    {
      "cell_type": "code",
      "source": [
        "callback = callbacks.EarlyStopping(monitor='val_loss',\n",
        "                                   patience=50,\n",
        "                                   restore_best_weights=True,\n",
        "                                   )\n",
        "es = callbacks.EarlyStopping(monitor='val_loss', mode='min', verbose=1, patience=200)\n",
        "mc = callbacks.ModelCheckpoint('best_model.h5', monitor='sparse_categorical_accuracy', mode='max', verbose=0, save_best_only=True)\n"
      ],
      "metadata": {
        "id": "5ihU4exVlsjm"
      },
      "execution_count": 209,
      "outputs": []
    },
    {
      "cell_type": "code",
      "source": [
        "# model.fit(train_images, train_labels, epochs=20)\n",
        "history = model.fit(x_train, y_train,\n",
        "                    epochs=40,\n",
        "                    batch_size=128,\n",
        "                    # callbacks=[callback],\n",
        "                    callbacks=[mc],\n",
        "                    verbose=1, #многословие\n",
        "                    validation_split=0.2\n",
        "                    # validation_data=(x_val, y_val)\n",
        "                    )\n",
        "test_loss, test_acc = model.evaluate(x_test, y_test)\n",
        "print('\\nTest accuracy:', test_acc)"
      ],
      "metadata": {
        "id": "FH8HcMNm233I",
        "outputId": "ce5131d8-8703-403d-c20f-80042b6da197",
        "colab": {
          "base_uri": "https://localhost:8080/"
        }
      },
      "execution_count": 210,
      "outputs": [
        {
          "output_type": "stream",
          "name": "stdout",
          "text": [
            "Epoch 1/40\n",
            "375/375 [==============================] - 6s 7ms/step - loss: 0.9378 - sparse_categorical_accuracy: 0.6735 - val_loss: 0.5091 - val_sparse_categorical_accuracy: 0.8094\n",
            "Epoch 2/40\n",
            "375/375 [==============================] - 2s 6ms/step - loss: 0.6224 - sparse_categorical_accuracy: 0.7720 - val_loss: 0.4489 - val_sparse_categorical_accuracy: 0.8295\n",
            "Epoch 3/40\n",
            "375/375 [==============================] - 2s 6ms/step - loss: 0.5608 - sparse_categorical_accuracy: 0.7937 - val_loss: 0.4137 - val_sparse_categorical_accuracy: 0.8482\n",
            "Epoch 4/40\n",
            "375/375 [==============================] - 3s 7ms/step - loss: 0.5252 - sparse_categorical_accuracy: 0.8064 - val_loss: 0.4037 - val_sparse_categorical_accuracy: 0.8506\n",
            "Epoch 5/40\n",
            "375/375 [==============================] - 3s 7ms/step - loss: 0.5021 - sparse_categorical_accuracy: 0.8125 - val_loss: 0.3824 - val_sparse_categorical_accuracy: 0.8595\n",
            "Epoch 6/40\n",
            "375/375 [==============================] - 2s 7ms/step - loss: 0.4842 - sparse_categorical_accuracy: 0.8196 - val_loss: 0.3779 - val_sparse_categorical_accuracy: 0.8622\n",
            "Epoch 7/40\n",
            "375/375 [==============================] - 3s 7ms/step - loss: 0.4714 - sparse_categorical_accuracy: 0.8248 - val_loss: 0.3662 - val_sparse_categorical_accuracy: 0.8617\n",
            "Epoch 8/40\n",
            "375/375 [==============================] - 3s 7ms/step - loss: 0.4594 - sparse_categorical_accuracy: 0.8321 - val_loss: 0.3716 - val_sparse_categorical_accuracy: 0.8636\n",
            "Epoch 9/40\n",
            "375/375 [==============================] - 3s 7ms/step - loss: 0.4512 - sparse_categorical_accuracy: 0.8330 - val_loss: 0.3595 - val_sparse_categorical_accuracy: 0.8668\n",
            "Epoch 10/40\n",
            "375/375 [==============================] - 2s 6ms/step - loss: 0.4402 - sparse_categorical_accuracy: 0.8364 - val_loss: 0.3525 - val_sparse_categorical_accuracy: 0.8686\n",
            "Epoch 11/40\n",
            "375/375 [==============================] - 2s 6ms/step - loss: 0.4371 - sparse_categorical_accuracy: 0.8369 - val_loss: 0.3518 - val_sparse_categorical_accuracy: 0.8705\n",
            "Epoch 12/40\n",
            "375/375 [==============================] - 2s 6ms/step - loss: 0.4284 - sparse_categorical_accuracy: 0.8415 - val_loss: 0.3474 - val_sparse_categorical_accuracy: 0.8729\n",
            "Epoch 13/40\n",
            "375/375 [==============================] - 2s 7ms/step - loss: 0.4265 - sparse_categorical_accuracy: 0.8418 - val_loss: 0.3464 - val_sparse_categorical_accuracy: 0.8733\n",
            "Epoch 14/40\n",
            "375/375 [==============================] - 3s 7ms/step - loss: 0.4203 - sparse_categorical_accuracy: 0.8441 - val_loss: 0.3342 - val_sparse_categorical_accuracy: 0.8778\n",
            "Epoch 15/40\n",
            "375/375 [==============================] - 2s 7ms/step - loss: 0.4132 - sparse_categorical_accuracy: 0.8468 - val_loss: 0.3428 - val_sparse_categorical_accuracy: 0.8759\n",
            "Epoch 16/40\n",
            "375/375 [==============================] - 2s 7ms/step - loss: 0.4100 - sparse_categorical_accuracy: 0.8485 - val_loss: 0.3321 - val_sparse_categorical_accuracy: 0.8766\n",
            "Epoch 17/40\n",
            "375/375 [==============================] - 3s 7ms/step - loss: 0.4028 - sparse_categorical_accuracy: 0.8502 - val_loss: 0.3343 - val_sparse_categorical_accuracy: 0.8760\n",
            "Epoch 18/40\n",
            "375/375 [==============================] - 3s 7ms/step - loss: 0.4044 - sparse_categorical_accuracy: 0.8506 - val_loss: 0.3279 - val_sparse_categorical_accuracy: 0.8783\n",
            "Epoch 19/40\n",
            "375/375 [==============================] - 3s 7ms/step - loss: 0.3980 - sparse_categorical_accuracy: 0.8522 - val_loss: 0.3212 - val_sparse_categorical_accuracy: 0.8792\n",
            "Epoch 20/40\n",
            "375/375 [==============================] - 3s 7ms/step - loss: 0.3969 - sparse_categorical_accuracy: 0.8543 - val_loss: 0.3253 - val_sparse_categorical_accuracy: 0.8795\n",
            "Epoch 21/40\n",
            "375/375 [==============================] - 2s 6ms/step - loss: 0.3953 - sparse_categorical_accuracy: 0.8511 - val_loss: 0.3190 - val_sparse_categorical_accuracy: 0.8822\n",
            "Epoch 22/40\n",
            "375/375 [==============================] - 3s 7ms/step - loss: 0.3891 - sparse_categorical_accuracy: 0.8543 - val_loss: 0.3216 - val_sparse_categorical_accuracy: 0.8840\n",
            "Epoch 23/40\n",
            "375/375 [==============================] - 3s 7ms/step - loss: 0.3885 - sparse_categorical_accuracy: 0.8557 - val_loss: 0.3167 - val_sparse_categorical_accuracy: 0.8832\n",
            "Epoch 24/40\n",
            "375/375 [==============================] - 3s 7ms/step - loss: 0.3879 - sparse_categorical_accuracy: 0.8574 - val_loss: 0.3151 - val_sparse_categorical_accuracy: 0.8829\n",
            "Epoch 25/40\n",
            "375/375 [==============================] - 2s 7ms/step - loss: 0.3828 - sparse_categorical_accuracy: 0.8576 - val_loss: 0.3153 - val_sparse_categorical_accuracy: 0.8872\n",
            "Epoch 26/40\n",
            "375/375 [==============================] - 2s 6ms/step - loss: 0.3775 - sparse_categorical_accuracy: 0.8596 - val_loss: 0.3120 - val_sparse_categorical_accuracy: 0.8847\n",
            "Epoch 27/40\n",
            "375/375 [==============================] - 3s 7ms/step - loss: 0.3786 - sparse_categorical_accuracy: 0.8600 - val_loss: 0.3120 - val_sparse_categorical_accuracy: 0.8849\n",
            "Epoch 28/40\n",
            "375/375 [==============================] - 3s 7ms/step - loss: 0.3781 - sparse_categorical_accuracy: 0.8602 - val_loss: 0.3089 - val_sparse_categorical_accuracy: 0.8867\n",
            "Epoch 29/40\n",
            "375/375 [==============================] - 3s 7ms/step - loss: 0.3721 - sparse_categorical_accuracy: 0.8619 - val_loss: 0.3082 - val_sparse_categorical_accuracy: 0.8885\n",
            "Epoch 30/40\n",
            "375/375 [==============================] - 2s 6ms/step - loss: 0.3727 - sparse_categorical_accuracy: 0.8614 - val_loss: 0.3066 - val_sparse_categorical_accuracy: 0.8879\n",
            "Epoch 31/40\n",
            "375/375 [==============================] - 2s 7ms/step - loss: 0.3696 - sparse_categorical_accuracy: 0.8629 - val_loss: 0.3076 - val_sparse_categorical_accuracy: 0.8889\n",
            "Epoch 32/40\n",
            "375/375 [==============================] - 3s 7ms/step - loss: 0.3680 - sparse_categorical_accuracy: 0.8643 - val_loss: 0.3054 - val_sparse_categorical_accuracy: 0.8883\n",
            "Epoch 33/40\n",
            "375/375 [==============================] - 3s 7ms/step - loss: 0.3675 - sparse_categorical_accuracy: 0.8630 - val_loss: 0.3114 - val_sparse_categorical_accuracy: 0.8834\n",
            "Epoch 34/40\n",
            "375/375 [==============================] - 2s 7ms/step - loss: 0.3659 - sparse_categorical_accuracy: 0.8618 - val_loss: 0.3067 - val_sparse_categorical_accuracy: 0.8871\n",
            "Epoch 35/40\n",
            "375/375 [==============================] - 2s 6ms/step - loss: 0.3671 - sparse_categorical_accuracy: 0.8621 - val_loss: 0.3012 - val_sparse_categorical_accuracy: 0.8874\n",
            "Epoch 36/40\n",
            "375/375 [==============================] - 2s 7ms/step - loss: 0.3616 - sparse_categorical_accuracy: 0.8648 - val_loss: 0.2981 - val_sparse_categorical_accuracy: 0.8908\n",
            "Epoch 37/40\n",
            "375/375 [==============================] - 3s 7ms/step - loss: 0.3614 - sparse_categorical_accuracy: 0.8649 - val_loss: 0.3006 - val_sparse_categorical_accuracy: 0.8910\n",
            "Epoch 38/40\n",
            "375/375 [==============================] - 3s 7ms/step - loss: 0.3586 - sparse_categorical_accuracy: 0.8664 - val_loss: 0.3024 - val_sparse_categorical_accuracy: 0.8875\n",
            "Epoch 39/40\n",
            "375/375 [==============================] - 2s 6ms/step - loss: 0.3647 - sparse_categorical_accuracy: 0.8637 - val_loss: 0.3010 - val_sparse_categorical_accuracy: 0.8882\n",
            "Epoch 40/40\n",
            "375/375 [==============================] - 2s 6ms/step - loss: 0.3630 - sparse_categorical_accuracy: 0.8643 - val_loss: 0.3015 - val_sparse_categorical_accuracy: 0.8901\n",
            "313/313 [==============================] - 1s 3ms/step - loss: 0.3275 - sparse_categorical_accuracy: 0.8798\n",
            "\n",
            "Test accuracy: 0.879800021648407\n"
          ]
        }
      ]
    },
    {
      "cell_type": "code",
      "source": [
        "print('\\nhistory dict:', list(history.history.keys()))"
      ],
      "metadata": {
        "id": "CxRE-B_Q6Sii",
        "colab": {
          "base_uri": "https://localhost:8080/"
        },
        "outputId": "1b918222-b0b0-4866-e75e-551e0162ff26"
      },
      "execution_count": 211,
      "outputs": [
        {
          "output_type": "stream",
          "name": "stdout",
          "text": [
            "\n",
            "history dict: ['loss', 'sparse_categorical_accuracy', 'val_loss', 'val_sparse_categorical_accuracy']\n"
          ]
        }
      ]
    },
    {
      "cell_type": "code",
      "source": [
        "result = model.evaluate(x_test, y_test)\n",
        "print(result)"
      ],
      "metadata": {
        "id": "YXpwRRTvTBNg",
        "colab": {
          "base_uri": "https://localhost:8080/"
        },
        "outputId": "d3992a9b-ae26-449f-cac9-60a60adf1d37"
      },
      "execution_count": 212,
      "outputs": [
        {
          "output_type": "stream",
          "name": "stdout",
          "text": [
            "313/313 [==============================] - 1s 3ms/step - loss: 0.3275 - sparse_categorical_accuracy: 0.8798\n",
            "[0.32748278975486755, 0.879800021648407]\n"
          ]
        }
      ]
    },
    {
      "cell_type": "code",
      "source": [
        "saved_model = load_model('best_model.h5')\n",
        "result = saved_model.evaluate(x_test, y_test)\n",
        "print(result)"
      ],
      "metadata": {
        "colab": {
          "base_uri": "https://localhost:8080/"
        },
        "id": "dpaZAW0vp1AZ",
        "outputId": "675441c1-1d6b-4ae1-cdde-34fcb5c8e595"
      },
      "execution_count": 213,
      "outputs": [
        {
          "output_type": "stream",
          "name": "stdout",
          "text": [
            "313/313 [==============================] - 1s 3ms/step - loss: 0.3276 - sparse_categorical_accuracy: 0.8793\n",
            "[0.3276306986808777, 0.8792999982833862]\n"
          ]
        }
      ]
    },
    {
      "cell_type": "code",
      "source": [
        "# from keras.models import load_model\n",
        "# saved_model = load_model('best_model.h5')\n",
        "# # _, train_acc = saved_model.evaluate(x_train, y_train, verbose=0)\n",
        "# _, test_acc = saved_model.evaluate(x_test, y_test, verbose=0)\n",
        "# print('Test: %.3f' % (test_acc))"
      ],
      "metadata": {
        "id": "DR_MS9DABo_K"
      },
      "execution_count": 214,
      "outputs": []
    },
    {
      "cell_type": "code",
      "source": [
        "history_dict = history.history\n",
        "loss_values = history_dict['loss']\n",
        "val_loss_values = history_dict['val_loss']\n",
        "\n",
        "epochs = range(1, len(history_dict['loss']) + 1)\n",
        "\n",
        "plt.figure(figsize=(10, 5))\n",
        "plt.plot(epochs, loss_values, 'bo', label='Training loss')\n",
        "plt.plot(epochs, val_loss_values, 'r', label='Validation loss')\n",
        "# plt.ylim (0.2, 0.5)\n",
        "plt.title('Training and validation loss')\n",
        "plt.xlabel('Epochs')\n",
        "plt.ylabel('Loss')\n",
        "# plt.legend()\n",
        "plt.grid(True)\n",
        "plt.show()\n",
        "1\n",
        "plt.clf()\n",
        "plt.figure(figsize=(10, 5))\n",
        "val_acc_values = history_dict['sparse_categorical_accuracy']\n",
        "plt.plot(epochs, history_dict['sparse_categorical_accuracy'], 'bo', label='Training acc')\n",
        "plt.plot(epochs, history_dict['val_sparse_categorical_accuracy'], 'r', label='Validation acc')\n",
        "# plt.ylim (0.80, 0.94)\n",
        "plt.title('Training and validation accuracy')\n",
        "plt.xlabel('Epochs')\n",
        "plt.ylabel('Accuracy')\n",
        "plt.legend()\n",
        "plt.grid(True)"
      ],
      "metadata": {
        "id": "2Ll_5sGlXKMH",
        "colab": {
          "base_uri": "https://localhost:8080/",
          "height": 975
        },
        "outputId": "d824525d-8b25-44ee-b764-d10adb6bd965"
      },
      "execution_count": 215,
      "outputs": [
        {
          "output_type": "display_data",
          "data": {
            "text/plain": [
              "<Figure size 1000x500 with 1 Axes>"
            ],
            "image/png": "[encoded data removed]"
          },
          "metadata": {}
        },
        {
          "output_type": "display_data",
          "data": {
            "text/plain": [
              "<Figure size 640x480 with 0 Axes>"
            ]
          },
          "metadata": {}
        },
        {
          "output_type": "display_data",
          "data": {
            "text/plain": [
              "<Figure size 1000x500 with 1 Axes>"
            ],
            "image/png": "[encoded data removed]"
          },
          "metadata": {}
        }
      ]
    },
    {
      "cell_type": "code",
      "source": [
        "probability_model = tf.keras.Sequential([model,\n",
        "                                         tf.keras.layers.Softmax()])"
      ],
      "metadata": {
        "id": "VzOdKAT_uV-f"
      },
      "execution_count": 216,
      "outputs": []
    },
    {
      "cell_type": "code",
      "source": [
        "predictions = probability_model.predict(x_test)"
      ],
      "metadata": {
        "id": "f4is3NFruYom",
        "colab": {
          "base_uri": "https://localhost:8080/"
        },
        "outputId": "df43edf2-9347-4625-e4c9-7bbeacebe56f"
      },
      "execution_count": 217,
      "outputs": [
        {
          "output_type": "stream",
          "name": "stdout",
          "text": [
            "313/313 [==============================] - 1s 2ms/step\n"
          ]
        }
      ]
    },
    {
      "cell_type": "code",
      "source": [
        "predictions[0]"
      ],
      "metadata": {
        "id": "82cigvlZudz_",
        "colab": {
          "base_uri": "https://localhost:8080/"
        },
        "outputId": "65d50cd0-ee92-4b72-94bb-195e35daed68"
      },
      "execution_count": 218,
      "outputs": [
        {
          "output_type": "execute_result",
          "data": {
            "text/plain": [
              "array([0.08725065, 0.08725078, 0.08725066, 0.08725073, 0.08725072,\n",
              "       0.08819523, 0.08725068, 0.10376807, 0.08725139, 0.19728106],\n",
              "      dtype=float32)"
            ]
          },
          "metadata": {},
          "execution_count": 218
        }
      ]
    },
    {
      "cell_type": "code",
      "source": [
        "model.summary()"
      ],
      "metadata": {
        "id": "6RsQPHyYuNGe",
        "colab": {
          "base_uri": "https://localhost:8080/"
        },
        "outputId": "06765a1d-0656-4dc8-c907-0aed768777ad"
      },
      "execution_count": 219,
      "outputs": [
        {
          "output_type": "stream",
          "name": "stdout",
          "text": [
            "Model: \"sequential_20\"\n",
            "_________________________________________________________________\n",
            " Layer (type)                Output Shape              Param #   \n",
            "=================================================================\n",
            " flatten_10 (Flatten)        (None, 784)               0         \n",
            "                                                                 \n",
            " dropout_51 (Dropout)        (None, 784)               0         \n",
            "                                                                 \n",
            " batch_normalization_41 (Ba  (None, 784)               3136      \n",
            " tchNormalization)                                               \n",
            "                                                                 \n",
            " dense_51 (Dense)            (None, 256)               200960    \n",
            "                                                                 \n",
            " dropout_52 (Dropout)        (None, 256)               0         \n",
            "                                                                 \n",
            " batch_normalization_42 (Ba  (None, 256)               1024      \n",
            " tchNormalization)                                               \n",
            "                                                                 \n",
            " dense_52 (Dense)            (None, 512)               131584    \n",
            "                                                                 \n",
            " dropout_53 (Dropout)        (None, 512)               0         \n",
            "                                                                 \n",
            " batch_normalization_43 (Ba  (None, 512)               2048      \n",
            " tchNormalization)                                               \n",
            "                                                                 \n",
            " dense_53 (Dense)            (None, 512)               262656    \n",
            "                                                                 \n",
            " dropout_54 (Dropout)        (None, 512)               0         \n",
            "                                                                 \n",
            " dense_54 (Dense)            (None, 10)                5130      \n",
            "                                                                 \n",
            "=================================================================\n",
            "Total params: 606538 (2.31 MB)\n",
            "Trainable params: 603434 (2.30 MB)\n",
            "Non-trainable params: 3104 (12.12 KB)\n",
            "_________________________________________________________________\n"
          ]
        }
      ]
    }
  ]
}