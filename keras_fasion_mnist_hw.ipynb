{
  "nbformat": 4,
  "nbformat_minor": 0,
  "metadata": {
    "colab": {
      "provenance": [],
      "gpuType": "T4",
      "authorship_tag": "ABX9TyO0ai3G0UmNGlpCuOkfEnpA",
      "include_colab_link": true
    },
    "kernelspec": {
      "name": "python3",
      "display_name": "Python 3"
    },
    "language_info": {
      "name": "python"
    },
    "accelerator": "GPU"
  },
  "cells": [
    {
      "cell_type": "markdown",
      "metadata": {
        "id": "view-in-github",
        "colab_type": "text"
      },
      "source": [
        "<a href=\"https://colab.research.google.com/github/PavelStelmakhV/hw310-keras-fasion-mnist/blob/main/keras_fasion_mnist_hw.ipynb\" target=\"_parent\"><img src=\"https://colab.research.google.com/assets/colab-badge.svg\" alt=\"Open In Colab\"/></a>"
      ]
    },
    {
      "cell_type": "code",
      "execution_count": 49,
      "metadata": {
        "id": "vv7w0bgAVQPO"
      },
      "outputs": [],
      "source": [
        "import tensorflow as tf\n",
        "import numpy as np\n",
        "import matplotlib.pyplot as plt\n",
        "import tf_keras\n",
        "\n",
        "from keras import layers\n",
        "from keras import regularizers\n",
        "from keras import callbacks\n",
        "from keras import initializers\n",
        "from keras.layers import BatchNormalization\n",
        "from keras.models import load_model"
      ]
    },
    {
      "cell_type": "code",
      "source": [
        "fashion_mnist = tf.keras.datasets.fashion_mnist\n",
        "\n",
        "(x_train, y_train), (x_test, y_test) = fashion_mnist.load_data()"
      ],
      "metadata": {
        "id": "mOpywsNAzfGB"
      },
      "execution_count": 50,
      "outputs": []
    },
    {
      "cell_type": "code",
      "source": [
        "x_train = x_train.astype('float32') / 255\n",
        "x_test = x_test.astype('float32') / 255\n",
        "\n",
        "y_train = y_train.astype('float32')\n",
        "y_test = y_test.astype('float32')"
      ],
      "metadata": {
        "id": "t2gucjsJ0KUi"
      },
      "execution_count": 51,
      "outputs": []
    },
    {
      "cell_type": "code",
      "source": [
        "w_init_tanh = initializers.glorot_normal(seed=66)\n",
        "w_init_relu = initializers.HeNormal(seed=66)\n",
        "b_init = initializers.Zeros()"
      ],
      "metadata": {
        "id": "yL9QTEtBGy4N"
      },
      "execution_count": 52,
      "outputs": []
    },
    {
      "cell_type": "code",
      "source": [
        "drop_out = 0.25"
      ],
      "metadata": {
        "id": "flsDcVTnU10J"
      },
      "execution_count": 53,
      "outputs": []
    },
    {
      "cell_type": "code",
      "source": [
        "def layer_relu(model, neurons):\n",
        "  model.add(BatchNormalization())\n",
        "  model.add(layers.Dense(neurons,\n",
        "                       activation='relu',\n",
        "                       kernel_initializer=w_init_relu,\n",
        "                       bias_initializer=b_init))\n",
        "  model.add(layers.Dropout(drop_out))\n",
        "  return model"
      ],
      "metadata": {
        "id": "ZZgs_25rKBCp"
      },
      "execution_count": 54,
      "outputs": []
    },
    {
      "cell_type": "code",
      "source": [
        "def layer_tanh(model, neurons):\n",
        "  model.add(BatchNormalization())\n",
        "  model.add(layers.Dense(neurons,\n",
        "                        activation='tanh',\n",
        "                        kernel_initializer=w_init_tanh,\n",
        "                        bias_initializer=b_init))\n",
        "  model.add(layers.Dropout(drop_out))\n",
        "  return model"
      ],
      "metadata": {
        "id": "90JLLnkBR50t"
      },
      "execution_count": 55,
      "outputs": []
    },
    {
      "cell_type": "code",
      "source": [],
      "metadata": {
        "id": "Va9BaQ9eG_uz"
      },
      "execution_count": 55,
      "outputs": []
    },
    {
      "cell_type": "code",
      "source": [
        "model = tf.keras.Sequential()\n",
        "\n",
        "# drop_out = 0.50\n",
        "neurons = 256\n",
        "\n",
        "model.add(layers.Flatten(input_shape=(28, 28)))\n",
        "model.add(layers.Dropout(drop_out))\n",
        "\n",
        "model = layer_relu(model, neurons*1)\n",
        "# model = layer_tanh(model, neurons*1)\n",
        "model = layer_tanh(model, neurons*2)\n",
        "model = layer_relu(model, neurons*2)\n",
        "\n",
        "model.add(layers.Dense(10, activation='softmax'))"
      ],
      "metadata": {
        "id": "atS39i4d0aqW"
      },
      "execution_count": 56,
      "outputs": []
    },
    {
      "cell_type": "markdown",
      "source": [
        "++++++++++++++++++++++++++++++++++++++++++++++++++++++++++++++++++++++++++++++++"
      ],
      "metadata": {
        "id": "tZO7hl7pM63y"
      }
    },
    {
      "cell_type": "code",
      "source": [
        "optimizer = tf.keras.optimizers.Nadam(learning_rate=0.0006,\n",
        "                                      beta_1=0.92,\n",
        "                                      beta_2=0.999,\n",
        "                                      epsilon=1e-04\n",
        ")"
      ],
      "metadata": {
        "id": "EzfnaqIZlfy8"
      },
      "execution_count": 57,
      "outputs": []
    },
    {
      "cell_type": "markdown",
      "source": [
        "++++++++++++++++++++++++++++++++++++++++++++++++++++++++++++++++++++++++++++++++"
      ],
      "metadata": {
        "id": "KHmBptvOM95Z"
      }
    },
    {
      "cell_type": "code",
      "source": [
        "model.compile(#optimizer='adam',\n",
        "              # optimizer='adamax',\n",
        "              optimizer=optimizer,\n",
        "              # optimizer='rmsprop',\n",
        "              # optimizer='sgd',\n",
        "              # optimizer='adadelta',\n",
        "              # loss='binary_crossentropy',\n",
        "              loss=tf.keras.losses.SparseCategoricalCrossentropy(),\n",
        "              metrics=['sparse_categorical_accuracy']) # sparse_categorical_accuracy"
      ],
      "metadata": {
        "id": "hENVaAC7ilNY"
      },
      "execution_count": 58,
      "outputs": []
    },
    {
      "cell_type": "code",
      "source": [
        "x = np.random.random((1, 28, 28))\n",
        "a = model.predict(x)\n",
        "_ = plt.hist(np.transpose(a))"
      ],
      "metadata": {
        "id": "RFgZHNNFMa8p",
        "outputId": "cf5cb5b9-13a8-4c12-bb8d-5fe5f72e6dfd",
        "colab": {
          "base_uri": "https://localhost:8080/",
          "height": 448
        }
      },
      "execution_count": 59,
      "outputs": [
        {
          "output_type": "stream",
          "name": "stdout",
          "text": [
            "1/1 [==============================] - 0s 112ms/step\n"
          ]
        },
        {
          "output_type": "display_data",
          "data": {
            "text/plain": [
              "<Figure size 640x480 with 1 Axes>"
            ],
            "image/png": "[encoded data removed]"
          },
          "metadata": {}
        }
      ]
    },
    {
      "cell_type": "code",
      "source": [
        "y_pred = model.predict(x_test)"
      ],
      "metadata": {
        "id": "UDP8OKKZ8oQa",
        "outputId": "b77332e3-ef40-49c3-8512-49d358d89a93",
        "colab": {
          "base_uri": "https://localhost:8080/"
        }
      },
      "execution_count": 60,
      "outputs": [
        {
          "output_type": "stream",
          "name": "stdout",
          "text": [
            "313/313 [==============================] - 1s 3ms/step\n"
          ]
        }
      ]
    },
    {
      "cell_type": "code",
      "source": [
        "callback = callbacks.EarlyStopping(monitor='val_loss',\n",
        "                                   patience=50,\n",
        "                                   restore_best_weights=True,\n",
        "                                   )\n",
        "es = callbacks.EarlyStopping(monitor='val_loss', mode='min', verbose=0, patience=40)\n",
        "mc = callbacks.ModelCheckpoint('best_model.h5', monitor='sparse_categorical_accuracy', mode='max', verbose=0, save_best_only=True)\n"
      ],
      "metadata": {
        "id": "5ihU4exVlsjm"
      },
      "execution_count": 61,
      "outputs": []
    },
    {
      "cell_type": "code",
      "source": [
        "history = model.fit(x_train, y_train,\n",
        "                    epochs=400,\n",
        "                    batch_size=128,\n",
        "                    # callbacks=[callback],\n",
        "                    callbacks=[mc],\n",
        "                    verbose=1, #многословие\n",
        "                    validation_split=0.1\n",
        "                    # validation_data=(x_val, y_val)\n",
        "                    )\n",
        "test_loss, test_acc = model.evaluate(x_test, y_test)\n",
        "print('\\nTest accuracy:', test_acc)"
      ],
      "metadata": {
        "id": "FH8HcMNm233I",
        "outputId": "3f229efc-56f6-45da-bb3f-77d191b8ea70",
        "colab": {
          "base_uri": "https://localhost:8080/"
        }
      },
      "execution_count": 62,
      "outputs": [
        {
          "output_type": "stream",
          "name": "stdout",
          "text": [
            "Epoch 1/400\n",
            "422/422 [==============================] - 13s 25ms/step - loss: 0.7267 - sparse_categorical_accuracy: 0.7469 - val_loss: 0.4327 - val_sparse_categorical_accuracy: 0.8423\n",
            "Epoch 2/400\n",
            "422/422 [==============================] - 10s 24ms/step - loss: 0.5199 - sparse_categorical_accuracy: 0.8099 - val_loss: 0.3939 - val_sparse_categorical_accuracy: 0.8513\n",
            "Epoch 3/400\n",
            "422/422 [==============================] - 10s 24ms/step - loss: 0.4580 - sparse_categorical_accuracy: 0.8296 - val_loss: 0.3584 - val_sparse_categorical_accuracy: 0.8655\n",
            "Epoch 4/400\n",
            "422/422 [==============================] - 10s 24ms/step - loss: 0.4347 - sparse_categorical_accuracy: 0.8381 - val_loss: 0.3456 - val_sparse_categorical_accuracy: 0.8717\n",
            "Epoch 5/400\n",
            "422/422 [==============================] - 9s 21ms/step - loss: 0.4079 - sparse_categorical_accuracy: 0.8482 - val_loss: 0.3395 - val_sparse_categorical_accuracy: 0.8737\n",
            "Epoch 6/400\n",
            "422/422 [==============================] - 10s 24ms/step - loss: 0.3944 - sparse_categorical_accuracy: 0.8539 - val_loss: 0.3349 - val_sparse_categorical_accuracy: 0.8732\n",
            "Epoch 7/400\n",
            "422/422 [==============================] - 10s 24ms/step - loss: 0.3843 - sparse_categorical_accuracy: 0.8572 - val_loss: 0.3343 - val_sparse_categorical_accuracy: 0.8755\n",
            "Epoch 8/400\n",
            "422/422 [==============================] - 10s 24ms/step - loss: 0.3720 - sparse_categorical_accuracy: 0.8623 - val_loss: 0.3347 - val_sparse_categorical_accuracy: 0.8742\n",
            "Epoch 9/400\n",
            "422/422 [==============================] - 10s 24ms/step - loss: 0.3667 - sparse_categorical_accuracy: 0.8625 - val_loss: 0.3177 - val_sparse_categorical_accuracy: 0.8817\n",
            "Epoch 10/400\n",
            "422/422 [==============================] - 9s 22ms/step - loss: 0.3582 - sparse_categorical_accuracy: 0.8667 - val_loss: 0.3185 - val_sparse_categorical_accuracy: 0.8825\n",
            "Epoch 11/400\n",
            "422/422 [==============================] - 10s 23ms/step - loss: 0.3496 - sparse_categorical_accuracy: 0.8685 - val_loss: 0.3115 - val_sparse_categorical_accuracy: 0.8843\n",
            "Epoch 12/400\n",
            "422/422 [==============================] - 10s 24ms/step - loss: 0.3447 - sparse_categorical_accuracy: 0.8702 - val_loss: 0.3014 - val_sparse_categorical_accuracy: 0.8883\n",
            "Epoch 13/400\n",
            "422/422 [==============================] - 10s 24ms/step - loss: 0.3382 - sparse_categorical_accuracy: 0.8735 - val_loss: 0.3004 - val_sparse_categorical_accuracy: 0.8923\n",
            "Epoch 14/400\n",
            "422/422 [==============================] - 10s 23ms/step - loss: 0.3347 - sparse_categorical_accuracy: 0.8749 - val_loss: 0.2970 - val_sparse_categorical_accuracy: 0.8893\n",
            "Epoch 15/400\n",
            "422/422 [==============================] - 9s 22ms/step - loss: 0.3261 - sparse_categorical_accuracy: 0.8765 - val_loss: 0.2998 - val_sparse_categorical_accuracy: 0.8903\n",
            "Epoch 16/400\n",
            "422/422 [==============================] - 10s 23ms/step - loss: 0.3248 - sparse_categorical_accuracy: 0.8766 - val_loss: 0.2982 - val_sparse_categorical_accuracy: 0.8910\n",
            "Epoch 17/400\n",
            "422/422 [==============================] - 10s 24ms/step - loss: 0.3193 - sparse_categorical_accuracy: 0.8784 - val_loss: 0.2895 - val_sparse_categorical_accuracy: 0.8915\n",
            "Epoch 18/400\n",
            "422/422 [==============================] - 10s 23ms/step - loss: 0.3168 - sparse_categorical_accuracy: 0.8818 - val_loss: 0.2888 - val_sparse_categorical_accuracy: 0.8937\n",
            "Epoch 19/400\n",
            "422/422 [==============================] - 9s 21ms/step - loss: 0.3143 - sparse_categorical_accuracy: 0.8815 - val_loss: 0.2921 - val_sparse_categorical_accuracy: 0.8965\n",
            "Epoch 20/400\n",
            "422/422 [==============================] - 10s 24ms/step - loss: 0.3108 - sparse_categorical_accuracy: 0.8820 - val_loss: 0.3002 - val_sparse_categorical_accuracy: 0.8907\n",
            "Epoch 21/400\n",
            "422/422 [==============================] - 10s 24ms/step - loss: 0.3065 - sparse_categorical_accuracy: 0.8826 - val_loss: 0.2850 - val_sparse_categorical_accuracy: 0.8925\n",
            "Epoch 22/400\n",
            "422/422 [==============================] - 10s 24ms/step - loss: 0.3055 - sparse_categorical_accuracy: 0.8840 - val_loss: 0.2815 - val_sparse_categorical_accuracy: 0.8953\n",
            "Epoch 23/400\n",
            "422/422 [==============================] - 10s 24ms/step - loss: 0.2987 - sparse_categorical_accuracy: 0.8864 - val_loss: 0.2848 - val_sparse_categorical_accuracy: 0.8965\n",
            "Epoch 24/400\n",
            "422/422 [==============================] - 9s 22ms/step - loss: 0.2978 - sparse_categorical_accuracy: 0.8861 - val_loss: 0.2810 - val_sparse_categorical_accuracy: 0.8967\n",
            "Epoch 25/400\n",
            "422/422 [==============================] - 10s 24ms/step - loss: 0.2954 - sparse_categorical_accuracy: 0.8876 - val_loss: 0.2865 - val_sparse_categorical_accuracy: 0.8933\n",
            "Epoch 26/400\n",
            "422/422 [==============================] - 10s 24ms/step - loss: 0.2926 - sparse_categorical_accuracy: 0.8882 - val_loss: 0.2830 - val_sparse_categorical_accuracy: 0.8983\n",
            "Epoch 27/400\n",
            "422/422 [==============================] - 10s 24ms/step - loss: 0.2901 - sparse_categorical_accuracy: 0.8903 - val_loss: 0.2782 - val_sparse_categorical_accuracy: 0.8983\n",
            "Epoch 28/400\n",
            "422/422 [==============================] - 10s 24ms/step - loss: 0.2901 - sparse_categorical_accuracy: 0.8908 - val_loss: 0.2773 - val_sparse_categorical_accuracy: 0.8977\n",
            "Epoch 29/400\n",
            "422/422 [==============================] - 10s 23ms/step - loss: 0.2872 - sparse_categorical_accuracy: 0.8910 - val_loss: 0.2781 - val_sparse_categorical_accuracy: 0.8978\n",
            "Epoch 30/400\n",
            "422/422 [==============================] - 10s 23ms/step - loss: 0.2821 - sparse_categorical_accuracy: 0.8931 - val_loss: 0.2773 - val_sparse_categorical_accuracy: 0.8977\n",
            "Epoch 31/400\n",
            "422/422 [==============================] - 10s 24ms/step - loss: 0.2845 - sparse_categorical_accuracy: 0.8928 - val_loss: 0.2765 - val_sparse_categorical_accuracy: 0.8985\n",
            "Epoch 32/400\n",
            "422/422 [==============================] - 10s 24ms/step - loss: 0.2784 - sparse_categorical_accuracy: 0.8929 - val_loss: 0.2760 - val_sparse_categorical_accuracy: 0.8973\n",
            "Epoch 33/400\n",
            "422/422 [==============================] - 10s 24ms/step - loss: 0.2766 - sparse_categorical_accuracy: 0.8940 - val_loss: 0.2783 - val_sparse_categorical_accuracy: 0.9002\n",
            "Epoch 34/400\n",
            "422/422 [==============================] - 10s 25ms/step - loss: 0.2776 - sparse_categorical_accuracy: 0.8939 - val_loss: 0.2783 - val_sparse_categorical_accuracy: 0.8958\n",
            "Epoch 35/400\n",
            "422/422 [==============================] - 9s 22ms/step - loss: 0.2770 - sparse_categorical_accuracy: 0.8942 - val_loss: 0.2725 - val_sparse_categorical_accuracy: 0.8977\n",
            "Epoch 36/400\n",
            "422/422 [==============================] - 10s 24ms/step - loss: 0.2731 - sparse_categorical_accuracy: 0.8953 - val_loss: 0.2772 - val_sparse_categorical_accuracy: 0.8980\n",
            "Epoch 37/400\n",
            "422/422 [==============================] - 10s 24ms/step - loss: 0.2725 - sparse_categorical_accuracy: 0.8972 - val_loss: 0.2702 - val_sparse_categorical_accuracy: 0.8988\n",
            "Epoch 38/400\n",
            "422/422 [==============================] - 10s 24ms/step - loss: 0.2714 - sparse_categorical_accuracy: 0.8965 - val_loss: 0.2764 - val_sparse_categorical_accuracy: 0.8985\n",
            "Epoch 39/400\n",
            "422/422 [==============================] - 10s 24ms/step - loss: 0.2650 - sparse_categorical_accuracy: 0.8990 - val_loss: 0.2750 - val_sparse_categorical_accuracy: 0.8960\n",
            "Epoch 40/400\n",
            "422/422 [==============================] - 9s 22ms/step - loss: 0.2697 - sparse_categorical_accuracy: 0.8978 - val_loss: 0.2768 - val_sparse_categorical_accuracy: 0.8995\n",
            "Epoch 41/400\n",
            "422/422 [==============================] - 10s 24ms/step - loss: 0.2684 - sparse_categorical_accuracy: 0.8982 - val_loss: 0.2757 - val_sparse_categorical_accuracy: 0.8993\n",
            "Epoch 42/400\n",
            "422/422 [==============================] - 10s 24ms/step - loss: 0.2671 - sparse_categorical_accuracy: 0.8981 - val_loss: 0.2725 - val_sparse_categorical_accuracy: 0.9013\n",
            "Epoch 43/400\n",
            "422/422 [==============================] - 10s 24ms/step - loss: 0.2630 - sparse_categorical_accuracy: 0.8992 - val_loss: 0.2685 - val_sparse_categorical_accuracy: 0.9032\n",
            "Epoch 44/400\n",
            "422/422 [==============================] - 10s 24ms/step - loss: 0.2642 - sparse_categorical_accuracy: 0.9000 - val_loss: 0.2756 - val_sparse_categorical_accuracy: 0.9020\n",
            "Epoch 45/400\n",
            "422/422 [==============================] - 9s 22ms/step - loss: 0.2605 - sparse_categorical_accuracy: 0.9002 - val_loss: 0.2759 - val_sparse_categorical_accuracy: 0.9003\n",
            "Epoch 46/400\n",
            "422/422 [==============================] - 10s 24ms/step - loss: 0.2613 - sparse_categorical_accuracy: 0.9009 - val_loss: 0.2748 - val_sparse_categorical_accuracy: 0.9000\n",
            "Epoch 47/400\n",
            "422/422 [==============================] - 10s 24ms/step - loss: 0.2594 - sparse_categorical_accuracy: 0.9009 - val_loss: 0.2737 - val_sparse_categorical_accuracy: 0.9030\n",
            "Epoch 48/400\n",
            "422/422 [==============================] - 10s 24ms/step - loss: 0.2586 - sparse_categorical_accuracy: 0.9008 - val_loss: 0.2748 - val_sparse_categorical_accuracy: 0.9000\n",
            "Epoch 49/400\n",
            "422/422 [==============================] - 10s 24ms/step - loss: 0.2558 - sparse_categorical_accuracy: 0.9024 - val_loss: 0.2760 - val_sparse_categorical_accuracy: 0.9012\n",
            "Epoch 50/400\n",
            "422/422 [==============================] - 9s 22ms/step - loss: 0.2616 - sparse_categorical_accuracy: 0.9006 - val_loss: 0.2692 - val_sparse_categorical_accuracy: 0.9023\n",
            "Epoch 51/400\n",
            "422/422 [==============================] - 10s 24ms/step - loss: 0.2528 - sparse_categorical_accuracy: 0.9030 - val_loss: 0.2672 - val_sparse_categorical_accuracy: 0.9037\n",
            "Epoch 52/400\n",
            "422/422 [==============================] - 10s 24ms/step - loss: 0.2545 - sparse_categorical_accuracy: 0.9035 - val_loss: 0.2701 - val_sparse_categorical_accuracy: 0.9008\n",
            "Epoch 53/400\n",
            "422/422 [==============================] - 10s 24ms/step - loss: 0.2544 - sparse_categorical_accuracy: 0.9033 - val_loss: 0.2709 - val_sparse_categorical_accuracy: 0.9008\n",
            "Epoch 54/400\n",
            "422/422 [==============================] - 10s 24ms/step - loss: 0.2518 - sparse_categorical_accuracy: 0.9039 - val_loss: 0.2617 - val_sparse_categorical_accuracy: 0.9047\n",
            "Epoch 55/400\n",
            "422/422 [==============================] - 9s 22ms/step - loss: 0.2495 - sparse_categorical_accuracy: 0.9045 - val_loss: 0.2628 - val_sparse_categorical_accuracy: 0.9027\n",
            "Epoch 56/400\n",
            "422/422 [==============================] - 10s 24ms/step - loss: 0.2460 - sparse_categorical_accuracy: 0.9042 - val_loss: 0.2747 - val_sparse_categorical_accuracy: 0.9022\n",
            "Epoch 57/400\n",
            "422/422 [==============================] - 10s 24ms/step - loss: 0.2468 - sparse_categorical_accuracy: 0.9046 - val_loss: 0.2714 - val_sparse_categorical_accuracy: 0.9020\n",
            "Epoch 58/400\n",
            "422/422 [==============================] - 10s 24ms/step - loss: 0.2470 - sparse_categorical_accuracy: 0.9058 - val_loss: 0.2772 - val_sparse_categorical_accuracy: 0.8998\n",
            "Epoch 59/400\n",
            "422/422 [==============================] - 10s 24ms/step - loss: 0.2468 - sparse_categorical_accuracy: 0.9056 - val_loss: 0.2645 - val_sparse_categorical_accuracy: 0.9045\n",
            "Epoch 60/400\n",
            "422/422 [==============================] - 9s 22ms/step - loss: 0.2481 - sparse_categorical_accuracy: 0.9060 - val_loss: 0.2729 - val_sparse_categorical_accuracy: 0.9050\n",
            "Epoch 61/400\n",
            "422/422 [==============================] - 10s 24ms/step - loss: 0.2460 - sparse_categorical_accuracy: 0.9056 - val_loss: 0.2755 - val_sparse_categorical_accuracy: 0.9003\n",
            "Epoch 62/400\n",
            "422/422 [==============================] - 10s 24ms/step - loss: 0.2440 - sparse_categorical_accuracy: 0.9061 - val_loss: 0.2717 - val_sparse_categorical_accuracy: 0.8992\n",
            "Epoch 63/400\n",
            "422/422 [==============================] - 10s 24ms/step - loss: 0.2432 - sparse_categorical_accuracy: 0.9065 - val_loss: 0.2670 - val_sparse_categorical_accuracy: 0.9037\n",
            "Epoch 64/400\n",
            "422/422 [==============================] - 10s 25ms/step - loss: 0.2448 - sparse_categorical_accuracy: 0.9078 - val_loss: 0.2693 - val_sparse_categorical_accuracy: 0.9040\n",
            "Epoch 65/400\n",
            "422/422 [==============================] - 9s 22ms/step - loss: 0.2417 - sparse_categorical_accuracy: 0.9084 - val_loss: 0.2719 - val_sparse_categorical_accuracy: 0.9045\n",
            "Epoch 66/400\n",
            "422/422 [==============================] - 10s 24ms/step - loss: 0.2419 - sparse_categorical_accuracy: 0.9065 - val_loss: 0.2747 - val_sparse_categorical_accuracy: 0.9022\n",
            "Epoch 67/400\n",
            "422/422 [==============================] - 10s 24ms/step - loss: 0.2399 - sparse_categorical_accuracy: 0.9077 - val_loss: 0.2754 - val_sparse_categorical_accuracy: 0.9010\n",
            "Epoch 68/400\n",
            "422/422 [==============================] - 10s 24ms/step - loss: 0.2431 - sparse_categorical_accuracy: 0.9058 - val_loss: 0.2704 - val_sparse_categorical_accuracy: 0.9033\n",
            "Epoch 69/400\n",
            "422/422 [==============================] - 10s 24ms/step - loss: 0.2392 - sparse_categorical_accuracy: 0.9081 - val_loss: 0.2712 - val_sparse_categorical_accuracy: 0.9042\n",
            "Epoch 70/400\n",
            "422/422 [==============================] - 9s 22ms/step - loss: 0.2390 - sparse_categorical_accuracy: 0.9089 - val_loss: 0.2677 - val_sparse_categorical_accuracy: 0.9033\n",
            "Epoch 71/400\n",
            "422/422 [==============================] - 10s 24ms/step - loss: 0.2369 - sparse_categorical_accuracy: 0.9099 - val_loss: 0.2819 - val_sparse_categorical_accuracy: 0.9033\n",
            "Epoch 72/400\n",
            "422/422 [==============================] - 10s 24ms/step - loss: 0.2358 - sparse_categorical_accuracy: 0.9092 - val_loss: 0.2720 - val_sparse_categorical_accuracy: 0.9033\n",
            "Epoch 73/400\n",
            "422/422 [==============================] - 10s 23ms/step - loss: 0.2391 - sparse_categorical_accuracy: 0.9084 - val_loss: 0.2724 - val_sparse_categorical_accuracy: 0.9012\n",
            "Epoch 74/400\n",
            "422/422 [==============================] - 10s 23ms/step - loss: 0.2388 - sparse_categorical_accuracy: 0.9093 - val_loss: 0.2740 - val_sparse_categorical_accuracy: 0.9027\n",
            "Epoch 75/400\n",
            "422/422 [==============================] - 9s 22ms/step - loss: 0.2351 - sparse_categorical_accuracy: 0.9109 - val_loss: 0.2689 - val_sparse_categorical_accuracy: 0.9028\n",
            "Epoch 76/400\n",
            "422/422 [==============================] - 10s 24ms/step - loss: 0.2377 - sparse_categorical_accuracy: 0.9107 - val_loss: 0.2703 - val_sparse_categorical_accuracy: 0.9023\n",
            "Epoch 77/400\n",
            "422/422 [==============================] - 10s 24ms/step - loss: 0.2362 - sparse_categorical_accuracy: 0.9096 - val_loss: 0.2643 - val_sparse_categorical_accuracy: 0.9047\n",
            "Epoch 78/400\n",
            "422/422 [==============================] - 10s 25ms/step - loss: 0.2327 - sparse_categorical_accuracy: 0.9110 - val_loss: 0.2696 - val_sparse_categorical_accuracy: 0.9038\n",
            "Epoch 79/400\n",
            "422/422 [==============================] - 10s 24ms/step - loss: 0.2312 - sparse_categorical_accuracy: 0.9108 - val_loss: 0.2703 - val_sparse_categorical_accuracy: 0.9030\n",
            "Epoch 80/400\n",
            "422/422 [==============================] - 9s 22ms/step - loss: 0.2350 - sparse_categorical_accuracy: 0.9099 - val_loss: 0.2712 - val_sparse_categorical_accuracy: 0.9032\n",
            "Epoch 81/400\n",
            "422/422 [==============================] - 10s 24ms/step - loss: 0.2313 - sparse_categorical_accuracy: 0.9104 - val_loss: 0.2730 - val_sparse_categorical_accuracy: 0.9025\n",
            "Epoch 82/400\n",
            "422/422 [==============================] - 10s 24ms/step - loss: 0.2336 - sparse_categorical_accuracy: 0.9107 - val_loss: 0.2724 - val_sparse_categorical_accuracy: 0.9062\n",
            "Epoch 83/400\n",
            "422/422 [==============================] - 10s 24ms/step - loss: 0.2323 - sparse_categorical_accuracy: 0.9105 - val_loss: 0.2716 - val_sparse_categorical_accuracy: 0.9002\n",
            "Epoch 84/400\n",
            "422/422 [==============================] - 10s 23ms/step - loss: 0.2276 - sparse_categorical_accuracy: 0.9117 - val_loss: 0.2658 - val_sparse_categorical_accuracy: 0.9018\n",
            "Epoch 85/400\n",
            "422/422 [==============================] - 9s 22ms/step - loss: 0.2293 - sparse_categorical_accuracy: 0.9115 - val_loss: 0.2664 - val_sparse_categorical_accuracy: 0.9057\n",
            "Epoch 86/400\n",
            "422/422 [==============================] - 10s 24ms/step - loss: 0.2307 - sparse_categorical_accuracy: 0.9112 - val_loss: 0.2688 - val_sparse_categorical_accuracy: 0.9065\n",
            "Epoch 87/400\n",
            "422/422 [==============================] - 10s 24ms/step - loss: 0.2283 - sparse_categorical_accuracy: 0.9115 - val_loss: 0.2696 - val_sparse_categorical_accuracy: 0.9032\n",
            "Epoch 88/400\n",
            "422/422 [==============================] - 10s 24ms/step - loss: 0.2289 - sparse_categorical_accuracy: 0.9121 - val_loss: 0.2691 - val_sparse_categorical_accuracy: 0.9057\n",
            "Epoch 89/400\n",
            "422/422 [==============================] - 10s 24ms/step - loss: 0.2285 - sparse_categorical_accuracy: 0.9128 - val_loss: 0.2660 - val_sparse_categorical_accuracy: 0.9045\n",
            "Epoch 90/400\n",
            "422/422 [==============================] - 9s 22ms/step - loss: 0.2257 - sparse_categorical_accuracy: 0.9127 - val_loss: 0.2664 - val_sparse_categorical_accuracy: 0.9058\n",
            "Epoch 91/400\n",
            "422/422 [==============================] - 10s 24ms/step - loss: 0.2258 - sparse_categorical_accuracy: 0.9131 - val_loss: 0.2684 - val_sparse_categorical_accuracy: 0.9037\n",
            "Epoch 92/400\n",
            "422/422 [==============================] - 10s 24ms/step - loss: 0.2293 - sparse_categorical_accuracy: 0.9116 - val_loss: 0.2693 - val_sparse_categorical_accuracy: 0.9020\n",
            "Epoch 93/400\n",
            "422/422 [==============================] - 10s 24ms/step - loss: 0.2268 - sparse_categorical_accuracy: 0.9125 - val_loss: 0.2748 - val_sparse_categorical_accuracy: 0.9048\n",
            "Epoch 94/400\n",
            "422/422 [==============================] - 10s 25ms/step - loss: 0.2255 - sparse_categorical_accuracy: 0.9138 - val_loss: 0.2668 - val_sparse_categorical_accuracy: 0.9048\n",
            "Epoch 95/400\n",
            "422/422 [==============================] - 9s 22ms/step - loss: 0.2233 - sparse_categorical_accuracy: 0.9149 - val_loss: 0.2741 - val_sparse_categorical_accuracy: 0.9062\n",
            "Epoch 96/400\n",
            "422/422 [==============================] - 10s 24ms/step - loss: 0.2281 - sparse_categorical_accuracy: 0.9124 - val_loss: 0.2758 - val_sparse_categorical_accuracy: 0.9053\n",
            "Epoch 97/400\n",
            "422/422 [==============================] - 10s 24ms/step - loss: 0.2254 - sparse_categorical_accuracy: 0.9127 - val_loss: 0.2767 - val_sparse_categorical_accuracy: 0.9025\n",
            "Epoch 98/400\n",
            "422/422 [==============================] - 10s 24ms/step - loss: 0.2222 - sparse_categorical_accuracy: 0.9156 - val_loss: 0.2700 - val_sparse_categorical_accuracy: 0.9047\n",
            "Epoch 99/400\n",
            "422/422 [==============================] - 10s 24ms/step - loss: 0.2256 - sparse_categorical_accuracy: 0.9133 - val_loss: 0.2706 - val_sparse_categorical_accuracy: 0.9028\n",
            "Epoch 100/400\n",
            "422/422 [==============================] - 9s 22ms/step - loss: 0.2241 - sparse_categorical_accuracy: 0.9143 - val_loss: 0.2735 - val_sparse_categorical_accuracy: 0.9065\n",
            "Epoch 101/400\n",
            "422/422 [==============================] - 10s 24ms/step - loss: 0.2212 - sparse_categorical_accuracy: 0.9139 - val_loss: 0.2730 - val_sparse_categorical_accuracy: 0.9045\n",
            "Epoch 102/400\n",
            "422/422 [==============================] - 10s 25ms/step - loss: 0.2240 - sparse_categorical_accuracy: 0.9145 - val_loss: 0.2709 - val_sparse_categorical_accuracy: 0.9055\n",
            "Epoch 103/400\n",
            "422/422 [==============================] - 10s 25ms/step - loss: 0.2188 - sparse_categorical_accuracy: 0.9156 - val_loss: 0.2788 - val_sparse_categorical_accuracy: 0.9040\n",
            "Epoch 104/400\n",
            "422/422 [==============================] - 10s 24ms/step - loss: 0.2221 - sparse_categorical_accuracy: 0.9142 - val_loss: 0.2788 - val_sparse_categorical_accuracy: 0.9057\n",
            "Epoch 105/400\n",
            "422/422 [==============================] - 9s 22ms/step - loss: 0.2185 - sparse_categorical_accuracy: 0.9164 - val_loss: 0.2775 - val_sparse_categorical_accuracy: 0.9060\n",
            "Epoch 106/400\n",
            "422/422 [==============================] - 10s 24ms/step - loss: 0.2190 - sparse_categorical_accuracy: 0.9168 - val_loss: 0.2710 - val_sparse_categorical_accuracy: 0.9065\n",
            "Epoch 107/400\n",
            "422/422 [==============================] - 10s 24ms/step - loss: 0.2231 - sparse_categorical_accuracy: 0.9140 - val_loss: 0.2717 - val_sparse_categorical_accuracy: 0.9067\n",
            "Epoch 108/400\n",
            "422/422 [==============================] - 10s 24ms/step - loss: 0.2224 - sparse_categorical_accuracy: 0.9150 - val_loss: 0.2681 - val_sparse_categorical_accuracy: 0.9030\n",
            "Epoch 109/400\n",
            "422/422 [==============================] - 10s 24ms/step - loss: 0.2211 - sparse_categorical_accuracy: 0.9151 - val_loss: 0.2634 - val_sparse_categorical_accuracy: 0.9070\n",
            "Epoch 110/400\n",
            "422/422 [==============================] - 9s 22ms/step - loss: 0.2200 - sparse_categorical_accuracy: 0.9160 - val_loss: 0.2696 - val_sparse_categorical_accuracy: 0.9070\n",
            "Epoch 111/400\n",
            "422/422 [==============================] - 10s 24ms/step - loss: 0.2188 - sparse_categorical_accuracy: 0.9158 - val_loss: 0.2683 - val_sparse_categorical_accuracy: 0.9053\n",
            "Epoch 112/400\n",
            "422/422 [==============================] - 10s 24ms/step - loss: 0.2176 - sparse_categorical_accuracy: 0.9152 - val_loss: 0.2664 - val_sparse_categorical_accuracy: 0.9077\n",
            "Epoch 113/400\n",
            "422/422 [==============================] - 10s 24ms/step - loss: 0.2164 - sparse_categorical_accuracy: 0.9175 - val_loss: 0.2674 - val_sparse_categorical_accuracy: 0.9052\n",
            "Epoch 114/400\n",
            "422/422 [==============================] - 10s 24ms/step - loss: 0.2170 - sparse_categorical_accuracy: 0.9161 - val_loss: 0.2778 - val_sparse_categorical_accuracy: 0.9057\n",
            "Epoch 115/400\n",
            "422/422 [==============================] - 9s 22ms/step - loss: 0.2168 - sparse_categorical_accuracy: 0.9160 - val_loss: 0.2730 - val_sparse_categorical_accuracy: 0.9057\n",
            "Epoch 116/400\n",
            "422/422 [==============================] - 10s 24ms/step - loss: 0.2174 - sparse_categorical_accuracy: 0.9164 - val_loss: 0.2681 - val_sparse_categorical_accuracy: 0.9075\n",
            "Epoch 117/400\n",
            "422/422 [==============================] - 10s 24ms/step - loss: 0.2164 - sparse_categorical_accuracy: 0.9168 - val_loss: 0.2686 - val_sparse_categorical_accuracy: 0.9028\n",
            "Epoch 118/400\n",
            "422/422 [==============================] - 10s 25ms/step - loss: 0.2130 - sparse_categorical_accuracy: 0.9189 - val_loss: 0.2768 - val_sparse_categorical_accuracy: 0.9050\n",
            "Epoch 119/400\n",
            "422/422 [==============================] - 10s 25ms/step - loss: 0.2155 - sparse_categorical_accuracy: 0.9158 - val_loss: 0.2668 - val_sparse_categorical_accuracy: 0.9055\n",
            "Epoch 120/400\n",
            "422/422 [==============================] - 9s 22ms/step - loss: 0.2141 - sparse_categorical_accuracy: 0.9176 - val_loss: 0.2647 - val_sparse_categorical_accuracy: 0.9058\n",
            "Epoch 121/400\n",
            "422/422 [==============================] - 10s 24ms/step - loss: 0.2147 - sparse_categorical_accuracy: 0.9160 - val_loss: 0.2629 - val_sparse_categorical_accuracy: 0.9080\n",
            "Epoch 122/400\n",
            "422/422 [==============================] - 10s 24ms/step - loss: 0.2131 - sparse_categorical_accuracy: 0.9177 - val_loss: 0.2690 - val_sparse_categorical_accuracy: 0.9055\n",
            "Epoch 123/400\n",
            "422/422 [==============================] - 10s 25ms/step - loss: 0.2158 - sparse_categorical_accuracy: 0.9162 - val_loss: 0.2586 - val_sparse_categorical_accuracy: 0.9087\n",
            "Epoch 124/400\n",
            "422/422 [==============================] - 11s 25ms/step - loss: 0.2125 - sparse_categorical_accuracy: 0.9181 - val_loss: 0.2685 - val_sparse_categorical_accuracy: 0.9058\n",
            "Epoch 125/400\n",
            "422/422 [==============================] - 10s 23ms/step - loss: 0.2121 - sparse_categorical_accuracy: 0.9186 - val_loss: 0.2709 - val_sparse_categorical_accuracy: 0.9072\n",
            "Epoch 126/400\n",
            "422/422 [==============================] - 10s 24ms/step - loss: 0.2094 - sparse_categorical_accuracy: 0.9204 - val_loss: 0.2707 - val_sparse_categorical_accuracy: 0.9073\n",
            "Epoch 127/400\n",
            "422/422 [==============================] - 10s 25ms/step - loss: 0.2124 - sparse_categorical_accuracy: 0.9182 - val_loss: 0.2774 - val_sparse_categorical_accuracy: 0.9037\n",
            "Epoch 128/400\n",
            "422/422 [==============================] - 10s 24ms/step - loss: 0.2151 - sparse_categorical_accuracy: 0.9174 - val_loss: 0.2732 - val_sparse_categorical_accuracy: 0.9045\n",
            "Epoch 129/400\n",
            "422/422 [==============================] - 10s 25ms/step - loss: 0.2143 - sparse_categorical_accuracy: 0.9181 - val_loss: 0.2649 - val_sparse_categorical_accuracy: 0.9063\n",
            "Epoch 130/400\n",
            "422/422 [==============================] - 10s 25ms/step - loss: 0.2096 - sparse_categorical_accuracy: 0.9195 - val_loss: 0.2761 - val_sparse_categorical_accuracy: 0.9075\n",
            "Epoch 131/400\n",
            "422/422 [==============================] - 9s 22ms/step - loss: 0.2155 - sparse_categorical_accuracy: 0.9171 - val_loss: 0.2632 - val_sparse_categorical_accuracy: 0.9050\n",
            "Epoch 132/400\n",
            "422/422 [==============================] - 10s 25ms/step - loss: 0.2094 - sparse_categorical_accuracy: 0.9204 - val_loss: 0.2662 - val_sparse_categorical_accuracy: 0.9040\n",
            "Epoch 133/400\n",
            "422/422 [==============================] - 10s 24ms/step - loss: 0.2086 - sparse_categorical_accuracy: 0.9197 - val_loss: 0.2736 - val_sparse_categorical_accuracy: 0.9055\n",
            "Epoch 134/400\n",
            "422/422 [==============================] - 10s 25ms/step - loss: 0.2152 - sparse_categorical_accuracy: 0.9182 - val_loss: 0.2745 - val_sparse_categorical_accuracy: 0.9068\n",
            "Epoch 135/400\n",
            "422/422 [==============================] - 10s 25ms/step - loss: 0.2067 - sparse_categorical_accuracy: 0.9215 - val_loss: 0.2687 - val_sparse_categorical_accuracy: 0.9060\n",
            "Epoch 136/400\n",
            "422/422 [==============================] - 9s 22ms/step - loss: 0.2094 - sparse_categorical_accuracy: 0.9189 - val_loss: 0.2702 - val_sparse_categorical_accuracy: 0.9045\n",
            "Epoch 137/400\n",
            "422/422 [==============================] - 10s 24ms/step - loss: 0.2120 - sparse_categorical_accuracy: 0.9189 - val_loss: 0.2786 - val_sparse_categorical_accuracy: 0.9047\n",
            "Epoch 138/400\n",
            "422/422 [==============================] - 10s 25ms/step - loss: 0.2073 - sparse_categorical_accuracy: 0.9196 - val_loss: 0.2745 - val_sparse_categorical_accuracy: 0.9042\n",
            "Epoch 139/400\n",
            "422/422 [==============================] - 11s 25ms/step - loss: 0.2086 - sparse_categorical_accuracy: 0.9193 - val_loss: 0.2759 - val_sparse_categorical_accuracy: 0.9072\n",
            "Epoch 140/400\n",
            "422/422 [==============================] - 11s 25ms/step - loss: 0.2102 - sparse_categorical_accuracy: 0.9196 - val_loss: 0.2683 - val_sparse_categorical_accuracy: 0.9092\n",
            "Epoch 141/400\n",
            "422/422 [==============================] - 10s 24ms/step - loss: 0.2112 - sparse_categorical_accuracy: 0.9183 - val_loss: 0.2724 - val_sparse_categorical_accuracy: 0.9082\n",
            "Epoch 142/400\n",
            "422/422 [==============================] - 10s 24ms/step - loss: 0.2097 - sparse_categorical_accuracy: 0.9183 - val_loss: 0.2631 - val_sparse_categorical_accuracy: 0.9060\n",
            "Epoch 143/400\n",
            "422/422 [==============================] - 11s 25ms/step - loss: 0.2061 - sparse_categorical_accuracy: 0.9212 - val_loss: 0.2757 - val_sparse_categorical_accuracy: 0.9075\n",
            "Epoch 144/400\n",
            "422/422 [==============================] - 10s 25ms/step - loss: 0.2076 - sparse_categorical_accuracy: 0.9209 - val_loss: 0.2703 - val_sparse_categorical_accuracy: 0.9095\n",
            "Epoch 145/400\n",
            "422/422 [==============================] - 11s 25ms/step - loss: 0.2102 - sparse_categorical_accuracy: 0.9200 - val_loss: 0.2715 - val_sparse_categorical_accuracy: 0.9077\n",
            "Epoch 146/400\n",
            "422/422 [==============================] - 10s 25ms/step - loss: 0.2057 - sparse_categorical_accuracy: 0.9217 - val_loss: 0.2695 - val_sparse_categorical_accuracy: 0.9072\n",
            "Epoch 147/400\n",
            "422/422 [==============================] - 9s 22ms/step - loss: 0.2109 - sparse_categorical_accuracy: 0.9190 - val_loss: 0.2675 - val_sparse_categorical_accuracy: 0.9065\n",
            "Epoch 148/400\n",
            "422/422 [==============================] - 11s 25ms/step - loss: 0.2063 - sparse_categorical_accuracy: 0.9206 - val_loss: 0.2739 - val_sparse_categorical_accuracy: 0.9068\n",
            "Epoch 149/400\n",
            "422/422 [==============================] - 10s 25ms/step - loss: 0.2022 - sparse_categorical_accuracy: 0.9227 - val_loss: 0.2761 - val_sparse_categorical_accuracy: 0.9052\n",
            "Epoch 150/400\n",
            "422/422 [==============================] - 10s 24ms/step - loss: 0.2076 - sparse_categorical_accuracy: 0.9204 - val_loss: 0.2677 - val_sparse_categorical_accuracy: 0.9070\n",
            "Epoch 151/400\n",
            "422/422 [==============================] - 10s 24ms/step - loss: 0.2050 - sparse_categorical_accuracy: 0.9219 - val_loss: 0.2715 - val_sparse_categorical_accuracy: 0.9063\n",
            "Epoch 152/400\n",
            "422/422 [==============================] - 9s 22ms/step - loss: 0.2045 - sparse_categorical_accuracy: 0.9200 - val_loss: 0.2721 - val_sparse_categorical_accuracy: 0.9067\n",
            "Epoch 153/400\n",
            "422/422 [==============================] - 10s 24ms/step - loss: 0.2066 - sparse_categorical_accuracy: 0.9216 - val_loss: 0.2738 - val_sparse_categorical_accuracy: 0.9037\n",
            "Epoch 154/400\n",
            "422/422 [==============================] - 10s 24ms/step - loss: 0.2043 - sparse_categorical_accuracy: 0.9208 - val_loss: 0.2794 - val_sparse_categorical_accuracy: 0.9050\n",
            "Epoch 155/400\n",
            "422/422 [==============================] - 10s 24ms/step - loss: 0.2031 - sparse_categorical_accuracy: 0.9225 - val_loss: 0.2755 - val_sparse_categorical_accuracy: 0.9065\n",
            "Epoch 156/400\n",
            "422/422 [==============================] - 10s 24ms/step - loss: 0.2030 - sparse_categorical_accuracy: 0.9218 - val_loss: 0.2774 - val_sparse_categorical_accuracy: 0.9063\n",
            "Epoch 157/400\n",
            "422/422 [==============================] - 9s 22ms/step - loss: 0.2065 - sparse_categorical_accuracy: 0.9215 - val_loss: 0.2723 - val_sparse_categorical_accuracy: 0.9078\n",
            "Epoch 158/400\n",
            "422/422 [==============================] - 10s 24ms/step - loss: 0.2022 - sparse_categorical_accuracy: 0.9227 - val_loss: 0.2756 - val_sparse_categorical_accuracy: 0.9050\n",
            "Epoch 159/400\n",
            "422/422 [==============================] - 10s 24ms/step - loss: 0.2042 - sparse_categorical_accuracy: 0.9213 - val_loss: 0.2778 - val_sparse_categorical_accuracy: 0.9070\n",
            "Epoch 160/400\n",
            "422/422 [==============================] - 10s 25ms/step - loss: 0.2038 - sparse_categorical_accuracy: 0.9221 - val_loss: 0.2724 - val_sparse_categorical_accuracy: 0.9050\n",
            "Epoch 161/400\n",
            "422/422 [==============================] - 10s 24ms/step - loss: 0.2003 - sparse_categorical_accuracy: 0.9224 - val_loss: 0.2727 - val_sparse_categorical_accuracy: 0.9078\n",
            "Epoch 162/400\n",
            "422/422 [==============================] - 9s 22ms/step - loss: 0.2052 - sparse_categorical_accuracy: 0.9199 - val_loss: 0.2769 - val_sparse_categorical_accuracy: 0.9047\n",
            "Epoch 163/400\n",
            "422/422 [==============================] - 10s 24ms/step - loss: 0.2025 - sparse_categorical_accuracy: 0.9210 - val_loss: 0.2749 - val_sparse_categorical_accuracy: 0.9053\n",
            "Epoch 164/400\n",
            "422/422 [==============================] - 10s 24ms/step - loss: 0.2031 - sparse_categorical_accuracy: 0.9216 - val_loss: 0.2764 - val_sparse_categorical_accuracy: 0.9085\n",
            "Epoch 165/400\n",
            "422/422 [==============================] - 10s 25ms/step - loss: 0.2046 - sparse_categorical_accuracy: 0.9210 - val_loss: 0.2704 - val_sparse_categorical_accuracy: 0.9070\n",
            "Epoch 166/400\n",
            "422/422 [==============================] - 11s 26ms/step - loss: 0.2045 - sparse_categorical_accuracy: 0.9212 - val_loss: 0.2832 - val_sparse_categorical_accuracy: 0.9037\n",
            "Epoch 167/400\n",
            "422/422 [==============================] - 10s 24ms/step - loss: 0.2005 - sparse_categorical_accuracy: 0.9226 - val_loss: 0.2769 - val_sparse_categorical_accuracy: 0.9055\n",
            "Epoch 168/400\n",
            "422/422 [==============================] - 10s 23ms/step - loss: 0.2037 - sparse_categorical_accuracy: 0.9220 - val_loss: 0.2760 - val_sparse_categorical_accuracy: 0.9047\n",
            "Epoch 169/400\n",
            "422/422 [==============================] - 10s 25ms/step - loss: 0.2027 - sparse_categorical_accuracy: 0.9228 - val_loss: 0.2699 - val_sparse_categorical_accuracy: 0.9052\n",
            "Epoch 170/400\n",
            "422/422 [==============================] - 10s 25ms/step - loss: 0.2030 - sparse_categorical_accuracy: 0.9217 - val_loss: 0.2758 - val_sparse_categorical_accuracy: 0.9063\n",
            "Epoch 171/400\n",
            "422/422 [==============================] - 10s 24ms/step - loss: 0.1995 - sparse_categorical_accuracy: 0.9235 - val_loss: 0.2706 - val_sparse_categorical_accuracy: 0.9060\n",
            "Epoch 172/400\n",
            "422/422 [==============================] - 10s 24ms/step - loss: 0.2015 - sparse_categorical_accuracy: 0.9238 - val_loss: 0.2828 - val_sparse_categorical_accuracy: 0.9083\n",
            "Epoch 173/400\n",
            "422/422 [==============================] - 9s 22ms/step - loss: 0.2018 - sparse_categorical_accuracy: 0.9219 - val_loss: 0.2752 - val_sparse_categorical_accuracy: 0.9068\n",
            "Epoch 174/400\n",
            "422/422 [==============================] - 10s 24ms/step - loss: 0.1984 - sparse_categorical_accuracy: 0.9224 - val_loss: 0.2770 - val_sparse_categorical_accuracy: 0.9050\n",
            "Epoch 175/400\n",
            "422/422 [==============================] - 10s 24ms/step - loss: 0.1992 - sparse_categorical_accuracy: 0.9242 - val_loss: 0.2738 - val_sparse_categorical_accuracy: 0.9073\n",
            "Epoch 176/400\n",
            "422/422 [==============================] - 10s 25ms/step - loss: 0.2024 - sparse_categorical_accuracy: 0.9220 - val_loss: 0.2728 - val_sparse_categorical_accuracy: 0.9060\n",
            "Epoch 177/400\n",
            "422/422 [==============================] - 10s 24ms/step - loss: 0.2010 - sparse_categorical_accuracy: 0.9238 - val_loss: 0.2803 - val_sparse_categorical_accuracy: 0.9057\n",
            "Epoch 178/400\n",
            "422/422 [==============================] - 9s 22ms/step - loss: 0.1983 - sparse_categorical_accuracy: 0.9239 - val_loss: 0.2838 - val_sparse_categorical_accuracy: 0.9070\n",
            "Epoch 179/400\n",
            "422/422 [==============================] - 10s 24ms/step - loss: 0.2008 - sparse_categorical_accuracy: 0.9231 - val_loss: 0.2828 - val_sparse_categorical_accuracy: 0.9057\n",
            "Epoch 180/400\n",
            "422/422 [==============================] - 11s 25ms/step - loss: 0.1952 - sparse_categorical_accuracy: 0.9245 - val_loss: 0.2807 - val_sparse_categorical_accuracy: 0.9065\n",
            "Epoch 181/400\n",
            "422/422 [==============================] - 11s 25ms/step - loss: 0.2011 - sparse_categorical_accuracy: 0.9225 - val_loss: 0.2729 - val_sparse_categorical_accuracy: 0.9087\n",
            "Epoch 182/400\n",
            "422/422 [==============================] - 10s 24ms/step - loss: 0.1981 - sparse_categorical_accuracy: 0.9232 - val_loss: 0.2765 - val_sparse_categorical_accuracy: 0.9072\n",
            "Epoch 183/400\n",
            "422/422 [==============================] - 9s 23ms/step - loss: 0.1965 - sparse_categorical_accuracy: 0.9248 - val_loss: 0.2709 - val_sparse_categorical_accuracy: 0.9070\n",
            "Epoch 184/400\n",
            "422/422 [==============================] - 10s 25ms/step - loss: 0.1979 - sparse_categorical_accuracy: 0.9242 - val_loss: 0.2847 - val_sparse_categorical_accuracy: 0.9058\n",
            "Epoch 185/400\n",
            "422/422 [==============================] - 10s 25ms/step - loss: 0.1952 - sparse_categorical_accuracy: 0.9248 - val_loss: 0.2731 - val_sparse_categorical_accuracy: 0.9082\n",
            "Epoch 186/400\n",
            "422/422 [==============================] - 10s 25ms/step - loss: 0.1978 - sparse_categorical_accuracy: 0.9236 - val_loss: 0.2741 - val_sparse_categorical_accuracy: 0.9053\n",
            "Epoch 187/400\n",
            "422/422 [==============================] - 11s 25ms/step - loss: 0.1987 - sparse_categorical_accuracy: 0.9248 - val_loss: 0.2721 - val_sparse_categorical_accuracy: 0.9072\n",
            "Epoch 188/400\n",
            "422/422 [==============================] - 10s 23ms/step - loss: 0.1994 - sparse_categorical_accuracy: 0.9249 - val_loss: 0.2787 - val_sparse_categorical_accuracy: 0.9055\n",
            "Epoch 189/400\n",
            "422/422 [==============================] - 10s 24ms/step - loss: 0.1982 - sparse_categorical_accuracy: 0.9242 - val_loss: 0.2837 - val_sparse_categorical_accuracy: 0.9077\n",
            "Epoch 190/400\n",
            "422/422 [==============================] - 10s 25ms/step - loss: 0.1996 - sparse_categorical_accuracy: 0.9237 - val_loss: 0.2736 - val_sparse_categorical_accuracy: 0.9073\n",
            "Epoch 191/400\n",
            "422/422 [==============================] - 10s 25ms/step - loss: 0.1975 - sparse_categorical_accuracy: 0.9231 - val_loss: 0.2747 - val_sparse_categorical_accuracy: 0.9075\n",
            "Epoch 192/400\n",
            "422/422 [==============================] - 10s 25ms/step - loss: 0.1978 - sparse_categorical_accuracy: 0.9231 - val_loss: 0.2765 - val_sparse_categorical_accuracy: 0.9075\n",
            "Epoch 193/400\n",
            "422/422 [==============================] - 10s 24ms/step - loss: 0.1976 - sparse_categorical_accuracy: 0.9240 - val_loss: 0.2780 - val_sparse_categorical_accuracy: 0.9072\n",
            "Epoch 194/400\n",
            "422/422 [==============================] - 10s 23ms/step - loss: 0.1985 - sparse_categorical_accuracy: 0.9233 - val_loss: 0.2749 - val_sparse_categorical_accuracy: 0.9073\n",
            "Epoch 195/400\n",
            "422/422 [==============================] - 10s 24ms/step - loss: 0.1969 - sparse_categorical_accuracy: 0.9242 - val_loss: 0.2680 - val_sparse_categorical_accuracy: 0.9068\n",
            "Epoch 196/400\n",
            "422/422 [==============================] - 10s 25ms/step - loss: 0.1935 - sparse_categorical_accuracy: 0.9253 - val_loss: 0.2739 - val_sparse_categorical_accuracy: 0.9058\n",
            "Epoch 197/400\n",
            "422/422 [==============================] - 10s 25ms/step - loss: 0.1940 - sparse_categorical_accuracy: 0.9248 - val_loss: 0.2783 - val_sparse_categorical_accuracy: 0.9052\n",
            "Epoch 198/400\n",
            "422/422 [==============================] - 11s 25ms/step - loss: 0.1912 - sparse_categorical_accuracy: 0.9264 - val_loss: 0.2749 - val_sparse_categorical_accuracy: 0.9052\n",
            "Epoch 199/400\n",
            "422/422 [==============================] - 10s 23ms/step - loss: 0.1966 - sparse_categorical_accuracy: 0.9241 - val_loss: 0.2743 - val_sparse_categorical_accuracy: 0.9090\n",
            "Epoch 200/400\n",
            "422/422 [==============================] - 10s 25ms/step - loss: 0.1961 - sparse_categorical_accuracy: 0.9247 - val_loss: 0.2822 - val_sparse_categorical_accuracy: 0.9042\n",
            "Epoch 201/400\n",
            "422/422 [==============================] - 11s 25ms/step - loss: 0.1954 - sparse_categorical_accuracy: 0.9249 - val_loss: 0.2759 - val_sparse_categorical_accuracy: 0.9058\n",
            "Epoch 202/400\n",
            "422/422 [==============================] - 11s 25ms/step - loss: 0.1953 - sparse_categorical_accuracy: 0.9236 - val_loss: 0.2777 - val_sparse_categorical_accuracy: 0.9083\n",
            "Epoch 203/400\n",
            "422/422 [==============================] - 11s 26ms/step - loss: 0.1994 - sparse_categorical_accuracy: 0.9241 - val_loss: 0.2760 - val_sparse_categorical_accuracy: 0.9082\n",
            "Epoch 204/400\n",
            "422/422 [==============================] - 11s 25ms/step - loss: 0.1962 - sparse_categorical_accuracy: 0.9234 - val_loss: 0.2758 - val_sparse_categorical_accuracy: 0.9068\n",
            "Epoch 205/400\n",
            "422/422 [==============================] - 10s 24ms/step - loss: 0.1944 - sparse_categorical_accuracy: 0.9253 - val_loss: 0.2759 - val_sparse_categorical_accuracy: 0.9072\n",
            "Epoch 206/400\n",
            "422/422 [==============================] - 11s 26ms/step - loss: 0.1953 - sparse_categorical_accuracy: 0.9256 - val_loss: 0.2810 - val_sparse_categorical_accuracy: 0.9075\n",
            "Epoch 207/400\n",
            "422/422 [==============================] - 11s 25ms/step - loss: 0.1914 - sparse_categorical_accuracy: 0.9275 - val_loss: 0.2746 - val_sparse_categorical_accuracy: 0.9057\n",
            "Epoch 208/400\n",
            "422/422 [==============================] - 10s 25ms/step - loss: 0.1965 - sparse_categorical_accuracy: 0.9238 - val_loss: 0.2767 - val_sparse_categorical_accuracy: 0.9073\n",
            "Epoch 209/400\n",
            "422/422 [==============================] - 11s 25ms/step - loss: 0.1954 - sparse_categorical_accuracy: 0.9250 - val_loss: 0.2807 - val_sparse_categorical_accuracy: 0.9078\n",
            "Epoch 210/400\n",
            "422/422 [==============================] - 10s 24ms/step - loss: 0.1918 - sparse_categorical_accuracy: 0.9257 - val_loss: 0.2845 - val_sparse_categorical_accuracy: 0.9063\n",
            "Epoch 211/400\n",
            "422/422 [==============================] - 10s 25ms/step - loss: 0.1938 - sparse_categorical_accuracy: 0.9242 - val_loss: 0.2819 - val_sparse_categorical_accuracy: 0.9023\n",
            "Epoch 212/400\n",
            "422/422 [==============================] - 11s 25ms/step - loss: 0.1945 - sparse_categorical_accuracy: 0.9244 - val_loss: 0.2757 - val_sparse_categorical_accuracy: 0.9062\n",
            "Epoch 213/400\n",
            "422/422 [==============================] - 11s 25ms/step - loss: 0.1943 - sparse_categorical_accuracy: 0.9267 - val_loss: 0.2751 - val_sparse_categorical_accuracy: 0.9085\n",
            "Epoch 214/400\n",
            "422/422 [==============================] - 11s 25ms/step - loss: 0.1912 - sparse_categorical_accuracy: 0.9271 - val_loss: 0.2809 - val_sparse_categorical_accuracy: 0.9070\n",
            "Epoch 215/400\n",
            "422/422 [==============================] - 11s 25ms/step - loss: 0.1916 - sparse_categorical_accuracy: 0.9279 - val_loss: 0.2824 - val_sparse_categorical_accuracy: 0.9090\n",
            "Epoch 216/400\n",
            "422/422 [==============================] - 10s 23ms/step - loss: 0.1899 - sparse_categorical_accuracy: 0.9270 - val_loss: 0.2811 - val_sparse_categorical_accuracy: 0.9082\n",
            "Epoch 217/400\n",
            "422/422 [==============================] - 11s 25ms/step - loss: 0.1897 - sparse_categorical_accuracy: 0.9267 - val_loss: 0.2814 - val_sparse_categorical_accuracy: 0.9095\n",
            "Epoch 218/400\n",
            "422/422 [==============================] - 11s 25ms/step - loss: 0.1889 - sparse_categorical_accuracy: 0.9265 - val_loss: 0.2866 - val_sparse_categorical_accuracy: 0.9107\n",
            "Epoch 219/400\n",
            "422/422 [==============================] - 11s 25ms/step - loss: 0.1898 - sparse_categorical_accuracy: 0.9265 - val_loss: 0.2759 - val_sparse_categorical_accuracy: 0.9085\n",
            "Epoch 220/400\n",
            "422/422 [==============================] - 11s 25ms/step - loss: 0.1922 - sparse_categorical_accuracy: 0.9268 - val_loss: 0.2800 - val_sparse_categorical_accuracy: 0.9085\n",
            "Epoch 221/400\n",
            "422/422 [==============================] - 11s 25ms/step - loss: 0.1874 - sparse_categorical_accuracy: 0.9281 - val_loss: 0.2836 - val_sparse_categorical_accuracy: 0.9075\n",
            "Epoch 222/400\n",
            "422/422 [==============================] - 10s 23ms/step - loss: 0.1923 - sparse_categorical_accuracy: 0.9259 - val_loss: 0.2828 - val_sparse_categorical_accuracy: 0.9085\n",
            "Epoch 223/400\n",
            "422/422 [==============================] - 10s 25ms/step - loss: 0.1903 - sparse_categorical_accuracy: 0.9270 - val_loss: 0.2791 - val_sparse_categorical_accuracy: 0.9065\n",
            "Epoch 224/400\n",
            "422/422 [==============================] - 11s 25ms/step - loss: 0.1897 - sparse_categorical_accuracy: 0.9274 - val_loss: 0.2808 - val_sparse_categorical_accuracy: 0.9078\n",
            "Epoch 225/400\n",
            "422/422 [==============================] - 11s 26ms/step - loss: 0.1906 - sparse_categorical_accuracy: 0.9278 - val_loss: 0.2784 - val_sparse_categorical_accuracy: 0.9070\n",
            "Epoch 226/400\n",
            "422/422 [==============================] - 11s 27ms/step - loss: 0.1881 - sparse_categorical_accuracy: 0.9274 - val_loss: 0.2873 - val_sparse_categorical_accuracy: 0.9053\n",
            "Epoch 227/400\n",
            "422/422 [==============================] - 11s 25ms/step - loss: 0.1935 - sparse_categorical_accuracy: 0.9256 - val_loss: 0.2803 - val_sparse_categorical_accuracy: 0.9102\n",
            "Epoch 228/400\n",
            "422/422 [==============================] - 10s 24ms/step - loss: 0.1913 - sparse_categorical_accuracy: 0.9264 - val_loss: 0.2731 - val_sparse_categorical_accuracy: 0.9067\n",
            "Epoch 229/400\n",
            "422/422 [==============================] - 11s 26ms/step - loss: 0.1892 - sparse_categorical_accuracy: 0.9275 - val_loss: 0.2781 - val_sparse_categorical_accuracy: 0.9075\n",
            "Epoch 230/400\n",
            "422/422 [==============================] - 11s 26ms/step - loss: 0.1874 - sparse_categorical_accuracy: 0.9277 - val_loss: 0.2829 - val_sparse_categorical_accuracy: 0.9068\n",
            "Epoch 231/400\n",
            "422/422 [==============================] - 11s 26ms/step - loss: 0.1910 - sparse_categorical_accuracy: 0.9266 - val_loss: 0.2753 - val_sparse_categorical_accuracy: 0.9082\n",
            "Epoch 232/400\n",
            "422/422 [==============================] - 11s 26ms/step - loss: 0.1898 - sparse_categorical_accuracy: 0.9264 - val_loss: 0.2786 - val_sparse_categorical_accuracy: 0.9072\n",
            "Epoch 233/400\n",
            "422/422 [==============================] - 11s 25ms/step - loss: 0.1904 - sparse_categorical_accuracy: 0.9271 - val_loss: 0.2848 - val_sparse_categorical_accuracy: 0.9068\n",
            "Epoch 234/400\n",
            "422/422 [==============================] - 9s 22ms/step - loss: 0.1875 - sparse_categorical_accuracy: 0.9279 - val_loss: 0.2787 - val_sparse_categorical_accuracy: 0.9060\n",
            "Epoch 235/400\n",
            "422/422 [==============================] - 10s 25ms/step - loss: 0.1927 - sparse_categorical_accuracy: 0.9262 - val_loss: 0.2781 - val_sparse_categorical_accuracy: 0.9103\n",
            "Epoch 236/400\n",
            "422/422 [==============================] - 11s 25ms/step - loss: 0.1896 - sparse_categorical_accuracy: 0.9269 - val_loss: 0.2800 - val_sparse_categorical_accuracy: 0.9050\n",
            "Epoch 237/400\n",
            "422/422 [==============================] - 10s 25ms/step - loss: 0.1925 - sparse_categorical_accuracy: 0.9268 - val_loss: 0.2779 - val_sparse_categorical_accuracy: 0.9077\n",
            "Epoch 238/400\n",
            "422/422 [==============================] - 10s 25ms/step - loss: 0.1881 - sparse_categorical_accuracy: 0.9276 - val_loss: 0.2827 - val_sparse_categorical_accuracy: 0.9082\n",
            "Epoch 239/400\n",
            "422/422 [==============================] - 9s 22ms/step - loss: 0.1860 - sparse_categorical_accuracy: 0.9279 - val_loss: 0.2798 - val_sparse_categorical_accuracy: 0.9083\n",
            "Epoch 240/400\n",
            "422/422 [==============================] - 10s 25ms/step - loss: 0.1891 - sparse_categorical_accuracy: 0.9262 - val_loss: 0.2832 - val_sparse_categorical_accuracy: 0.9070\n",
            "Epoch 241/400\n",
            "422/422 [==============================] - 11s 25ms/step - loss: 0.1855 - sparse_categorical_accuracy: 0.9281 - val_loss: 0.2810 - val_sparse_categorical_accuracy: 0.9043\n",
            "Epoch 242/400\n",
            "422/422 [==============================] - 11s 25ms/step - loss: 0.1891 - sparse_categorical_accuracy: 0.9276 - val_loss: 0.2782 - val_sparse_categorical_accuracy: 0.9060\n",
            "Epoch 243/400\n",
            "422/422 [==============================] - 11s 26ms/step - loss: 0.1850 - sparse_categorical_accuracy: 0.9281 - val_loss: 0.2766 - val_sparse_categorical_accuracy: 0.9063\n",
            "Epoch 244/400\n",
            "422/422 [==============================] - 11s 27ms/step - loss: 0.1880 - sparse_categorical_accuracy: 0.9291 - val_loss: 0.2760 - val_sparse_categorical_accuracy: 0.9088\n",
            "Epoch 245/400\n",
            "422/422 [==============================] - 11s 25ms/step - loss: 0.1874 - sparse_categorical_accuracy: 0.9281 - val_loss: 0.2871 - val_sparse_categorical_accuracy: 0.9067\n",
            "Epoch 246/400\n",
            "422/422 [==============================] - 10s 25ms/step - loss: 0.1866 - sparse_categorical_accuracy: 0.9281 - val_loss: 0.2818 - val_sparse_categorical_accuracy: 0.9065\n",
            "Epoch 247/400\n",
            "422/422 [==============================] - 11s 26ms/step - loss: 0.1880 - sparse_categorical_accuracy: 0.9279 - val_loss: 0.2788 - val_sparse_categorical_accuracy: 0.9070\n",
            "Epoch 248/400\n",
            "422/422 [==============================] - 11s 25ms/step - loss: 0.1869 - sparse_categorical_accuracy: 0.9280 - val_loss: 0.2843 - val_sparse_categorical_accuracy: 0.9070\n",
            "Epoch 249/400\n",
            "422/422 [==============================] - 11s 25ms/step - loss: 0.1862 - sparse_categorical_accuracy: 0.9285 - val_loss: 0.2787 - val_sparse_categorical_accuracy: 0.9082\n",
            "Epoch 250/400\n",
            "422/422 [==============================] - 11s 26ms/step - loss: 0.1857 - sparse_categorical_accuracy: 0.9291 - val_loss: 0.2753 - val_sparse_categorical_accuracy: 0.9085\n",
            "Epoch 251/400\n",
            "422/422 [==============================] - 10s 25ms/step - loss: 0.1869 - sparse_categorical_accuracy: 0.9290 - val_loss: 0.2882 - val_sparse_categorical_accuracy: 0.9060\n",
            "Epoch 252/400\n",
            "422/422 [==============================] - 10s 24ms/step - loss: 0.1878 - sparse_categorical_accuracy: 0.9279 - val_loss: 0.2789 - val_sparse_categorical_accuracy: 0.9042\n",
            "Epoch 253/400\n",
            "422/422 [==============================] - 11s 26ms/step - loss: 0.1883 - sparse_categorical_accuracy: 0.9275 - val_loss: 0.2915 - val_sparse_categorical_accuracy: 0.9055\n",
            "Epoch 254/400\n",
            "422/422 [==============================] - 11s 25ms/step - loss: 0.1887 - sparse_categorical_accuracy: 0.9269 - val_loss: 0.2802 - val_sparse_categorical_accuracy: 0.9083\n",
            "Epoch 255/400\n",
            "422/422 [==============================] - 11s 25ms/step - loss: 0.1844 - sparse_categorical_accuracy: 0.9293 - val_loss: 0.2823 - val_sparse_categorical_accuracy: 0.9060\n",
            "Epoch 256/400\n",
            "422/422 [==============================] - 11s 26ms/step - loss: 0.1841 - sparse_categorical_accuracy: 0.9296 - val_loss: 0.2845 - val_sparse_categorical_accuracy: 0.9063\n",
            "Epoch 257/400\n",
            "422/422 [==============================] - 10s 24ms/step - loss: 0.1863 - sparse_categorical_accuracy: 0.9282 - val_loss: 0.2839 - val_sparse_categorical_accuracy: 0.9043\n",
            "Epoch 258/400\n",
            "422/422 [==============================] - 10s 24ms/step - loss: 0.1820 - sparse_categorical_accuracy: 0.9305 - val_loss: 0.2861 - val_sparse_categorical_accuracy: 0.9063\n",
            "Epoch 259/400\n",
            "422/422 [==============================] - 11s 25ms/step - loss: 0.1856 - sparse_categorical_accuracy: 0.9272 - val_loss: 0.2834 - val_sparse_categorical_accuracy: 0.9070\n",
            "Epoch 260/400\n",
            "422/422 [==============================] - 11s 25ms/step - loss: 0.1878 - sparse_categorical_accuracy: 0.9286 - val_loss: 0.2831 - val_sparse_categorical_accuracy: 0.9048\n",
            "Epoch 261/400\n",
            "422/422 [==============================] - 10s 25ms/step - loss: 0.1884 - sparse_categorical_accuracy: 0.9282 - val_loss: 0.2810 - val_sparse_categorical_accuracy: 0.9067\n",
            "Epoch 262/400\n",
            "422/422 [==============================] - 11s 25ms/step - loss: 0.1866 - sparse_categorical_accuracy: 0.9289 - val_loss: 0.2805 - val_sparse_categorical_accuracy: 0.9037\n",
            "Epoch 263/400\n",
            "422/422 [==============================] - 9s 22ms/step - loss: 0.1834 - sparse_categorical_accuracy: 0.9290 - val_loss: 0.2909 - val_sparse_categorical_accuracy: 0.9033\n",
            "Epoch 264/400\n",
            "422/422 [==============================] - 11s 25ms/step - loss: 0.1847 - sparse_categorical_accuracy: 0.9292 - val_loss: 0.2839 - val_sparse_categorical_accuracy: 0.9073\n",
            "Epoch 265/400\n",
            "422/422 [==============================] - 11s 26ms/step - loss: 0.1862 - sparse_categorical_accuracy: 0.9282 - val_loss: 0.2764 - val_sparse_categorical_accuracy: 0.9037\n",
            "Epoch 266/400\n",
            "422/422 [==============================] - 11s 26ms/step - loss: 0.1892 - sparse_categorical_accuracy: 0.9271 - val_loss: 0.2722 - val_sparse_categorical_accuracy: 0.9088\n",
            "Epoch 267/400\n",
            "422/422 [==============================] - 11s 26ms/step - loss: 0.1861 - sparse_categorical_accuracy: 0.9290 - val_loss: 0.2896 - val_sparse_categorical_accuracy: 0.9065\n",
            "Epoch 268/400\n",
            "422/422 [==============================] - 11s 25ms/step - loss: 0.1836 - sparse_categorical_accuracy: 0.9294 - val_loss: 0.2870 - val_sparse_categorical_accuracy: 0.9073\n",
            "Epoch 269/400\n",
            "422/422 [==============================] - 10s 23ms/step - loss: 0.1849 - sparse_categorical_accuracy: 0.9295 - val_loss: 0.2861 - val_sparse_categorical_accuracy: 0.9038\n",
            "Epoch 270/400\n",
            "422/422 [==============================] - 11s 25ms/step - loss: 0.1874 - sparse_categorical_accuracy: 0.9283 - val_loss: 0.2823 - val_sparse_categorical_accuracy: 0.9063\n",
            "Epoch 271/400\n",
            "422/422 [==============================] - 11s 25ms/step - loss: 0.1842 - sparse_categorical_accuracy: 0.9285 - val_loss: 0.2828 - val_sparse_categorical_accuracy: 0.9080\n",
            "Epoch 272/400\n",
            "422/422 [==============================] - 11s 25ms/step - loss: 0.1855 - sparse_categorical_accuracy: 0.9288 - val_loss: 0.2828 - val_sparse_categorical_accuracy: 0.9067\n",
            "Epoch 273/400\n",
            "422/422 [==============================] - 11s 25ms/step - loss: 0.1832 - sparse_categorical_accuracy: 0.9290 - val_loss: 0.2860 - val_sparse_categorical_accuracy: 0.9070\n",
            "Epoch 274/400\n",
            "422/422 [==============================] - 10s 23ms/step - loss: 0.1832 - sparse_categorical_accuracy: 0.9301 - val_loss: 0.2891 - val_sparse_categorical_accuracy: 0.9077\n",
            "Epoch 275/400\n",
            "422/422 [==============================] - 10s 25ms/step - loss: 0.1850 - sparse_categorical_accuracy: 0.9289 - val_loss: 0.2818 - val_sparse_categorical_accuracy: 0.9082\n",
            "Epoch 276/400\n",
            "422/422 [==============================] - 11s 25ms/step - loss: 0.1832 - sparse_categorical_accuracy: 0.9309 - val_loss: 0.2840 - val_sparse_categorical_accuracy: 0.9053\n",
            "Epoch 277/400\n",
            "422/422 [==============================] - 11s 25ms/step - loss: 0.1856 - sparse_categorical_accuracy: 0.9286 - val_loss: 0.2840 - val_sparse_categorical_accuracy: 0.9053\n",
            "Epoch 278/400\n",
            "422/422 [==============================] - 11s 25ms/step - loss: 0.1855 - sparse_categorical_accuracy: 0.9279 - val_loss: 0.2821 - val_sparse_categorical_accuracy: 0.9060\n",
            "Epoch 279/400\n",
            "422/422 [==============================] - 10s 24ms/step - loss: 0.1811 - sparse_categorical_accuracy: 0.9289 - val_loss: 0.2763 - val_sparse_categorical_accuracy: 0.9105\n",
            "Epoch 280/400\n",
            "422/422 [==============================] - 10s 24ms/step - loss: 0.1827 - sparse_categorical_accuracy: 0.9298 - val_loss: 0.2768 - val_sparse_categorical_accuracy: 0.9095\n",
            "Epoch 281/400\n",
            "422/422 [==============================] - 11s 25ms/step - loss: 0.1833 - sparse_categorical_accuracy: 0.9289 - val_loss: 0.2815 - val_sparse_categorical_accuracy: 0.9092\n",
            "Epoch 282/400\n",
            "422/422 [==============================] - 11s 25ms/step - loss: 0.1879 - sparse_categorical_accuracy: 0.9275 - val_loss: 0.2796 - val_sparse_categorical_accuracy: 0.9082\n",
            "Epoch 283/400\n",
            "422/422 [==============================] - 11s 25ms/step - loss: 0.1831 - sparse_categorical_accuracy: 0.9292 - val_loss: 0.2822 - val_sparse_categorical_accuracy: 0.9088\n",
            "Epoch 284/400\n",
            "422/422 [==============================] - 11s 26ms/step - loss: 0.1796 - sparse_categorical_accuracy: 0.9311 - val_loss: 0.2869 - val_sparse_categorical_accuracy: 0.9083\n",
            "Epoch 285/400\n",
            "422/422 [==============================] - 10s 23ms/step - loss: 0.1820 - sparse_categorical_accuracy: 0.9290 - val_loss: 0.2865 - val_sparse_categorical_accuracy: 0.9048\n",
            "Epoch 286/400\n",
            "422/422 [==============================] - 11s 25ms/step - loss: 0.1827 - sparse_categorical_accuracy: 0.9303 - val_loss: 0.2804 - val_sparse_categorical_accuracy: 0.9073\n",
            "Epoch 287/400\n",
            "422/422 [==============================] - 11s 26ms/step - loss: 0.1812 - sparse_categorical_accuracy: 0.9303 - val_loss: 0.2854 - val_sparse_categorical_accuracy: 0.9065\n",
            "Epoch 288/400\n",
            "422/422 [==============================] - 11s 26ms/step - loss: 0.1824 - sparse_categorical_accuracy: 0.9304 - val_loss: 0.2809 - val_sparse_categorical_accuracy: 0.9063\n",
            "Epoch 289/400\n",
            "422/422 [==============================] - 11s 26ms/step - loss: 0.1841 - sparse_categorical_accuracy: 0.9287 - val_loss: 0.2807 - val_sparse_categorical_accuracy: 0.9058\n",
            "Epoch 290/400\n",
            "422/422 [==============================] - 11s 26ms/step - loss: 0.1821 - sparse_categorical_accuracy: 0.9293 - val_loss: 0.2865 - val_sparse_categorical_accuracy: 0.9075\n",
            "Epoch 291/400\n",
            "422/422 [==============================] - 10s 23ms/step - loss: 0.1833 - sparse_categorical_accuracy: 0.9299 - val_loss: 0.2851 - val_sparse_categorical_accuracy: 0.9063\n",
            "Epoch 292/400\n",
            "422/422 [==============================] - 11s 25ms/step - loss: 0.1817 - sparse_categorical_accuracy: 0.9297 - val_loss: 0.2844 - val_sparse_categorical_accuracy: 0.9078\n",
            "Epoch 293/400\n",
            "422/422 [==============================] - 11s 25ms/step - loss: 0.1817 - sparse_categorical_accuracy: 0.9280 - val_loss: 0.2822 - val_sparse_categorical_accuracy: 0.9098\n",
            "Epoch 294/400\n",
            "422/422 [==============================] - 11s 25ms/step - loss: 0.1836 - sparse_categorical_accuracy: 0.9298 - val_loss: 0.2838 - val_sparse_categorical_accuracy: 0.9077\n",
            "Epoch 295/400\n",
            "422/422 [==============================] - 11s 26ms/step - loss: 0.1804 - sparse_categorical_accuracy: 0.9299 - val_loss: 0.2818 - val_sparse_categorical_accuracy: 0.9097\n",
            "Epoch 296/400\n",
            "422/422 [==============================] - 10s 24ms/step - loss: 0.1808 - sparse_categorical_accuracy: 0.9302 - val_loss: 0.2839 - val_sparse_categorical_accuracy: 0.9075\n",
            "Epoch 297/400\n",
            "422/422 [==============================] - 10s 24ms/step - loss: 0.1790 - sparse_categorical_accuracy: 0.9308 - val_loss: 0.2802 - val_sparse_categorical_accuracy: 0.9063\n",
            "Epoch 298/400\n",
            "422/422 [==============================] - 11s 26ms/step - loss: 0.1807 - sparse_categorical_accuracy: 0.9313 - val_loss: 0.2850 - val_sparse_categorical_accuracy: 0.9075\n",
            "Epoch 299/400\n",
            "422/422 [==============================] - 11s 26ms/step - loss: 0.1816 - sparse_categorical_accuracy: 0.9290 - val_loss: 0.2768 - val_sparse_categorical_accuracy: 0.9062\n",
            "Epoch 300/400\n",
            "422/422 [==============================] - 11s 26ms/step - loss: 0.1798 - sparse_categorical_accuracy: 0.9315 - val_loss: 0.2832 - val_sparse_categorical_accuracy: 0.9060\n",
            "Epoch 301/400\n",
            "422/422 [==============================] - 11s 26ms/step - loss: 0.1832 - sparse_categorical_accuracy: 0.9302 - val_loss: 0.2828 - val_sparse_categorical_accuracy: 0.9082\n",
            "Epoch 302/400\n",
            "422/422 [==============================] - 10s 24ms/step - loss: 0.1803 - sparse_categorical_accuracy: 0.9311 - val_loss: 0.2819 - val_sparse_categorical_accuracy: 0.9072\n",
            "Epoch 303/400\n",
            "422/422 [==============================] - 10s 25ms/step - loss: 0.1829 - sparse_categorical_accuracy: 0.9287 - val_loss: 0.2773 - val_sparse_categorical_accuracy: 0.9083\n",
            "Epoch 304/400\n",
            "422/422 [==============================] - 11s 26ms/step - loss: 0.1793 - sparse_categorical_accuracy: 0.9306 - val_loss: 0.2782 - val_sparse_categorical_accuracy: 0.9087\n",
            "Epoch 305/400\n",
            "422/422 [==============================] - 11s 26ms/step - loss: 0.1784 - sparse_categorical_accuracy: 0.9319 - val_loss: 0.2818 - val_sparse_categorical_accuracy: 0.9092\n",
            "Epoch 306/400\n",
            "422/422 [==============================] - 11s 26ms/step - loss: 0.1781 - sparse_categorical_accuracy: 0.9306 - val_loss: 0.2849 - val_sparse_categorical_accuracy: 0.9087\n",
            "Epoch 307/400\n",
            "422/422 [==============================] - 11s 26ms/step - loss: 0.1803 - sparse_categorical_accuracy: 0.9302 - val_loss: 0.2903 - val_sparse_categorical_accuracy: 0.9088\n",
            "Epoch 308/400\n",
            "422/422 [==============================] - 11s 25ms/step - loss: 0.1793 - sparse_categorical_accuracy: 0.9313 - val_loss: 0.2871 - val_sparse_categorical_accuracy: 0.9067\n",
            "Epoch 309/400\n",
            "422/422 [==============================] - 10s 24ms/step - loss: 0.1808 - sparse_categorical_accuracy: 0.9302 - val_loss: 0.2838 - val_sparse_categorical_accuracy: 0.9068\n",
            "Epoch 310/400\n",
            "422/422 [==============================] - 11s 26ms/step - loss: 0.1797 - sparse_categorical_accuracy: 0.9299 - val_loss: 0.2824 - val_sparse_categorical_accuracy: 0.9078\n",
            "Epoch 311/400\n",
            "422/422 [==============================] - 11s 27ms/step - loss: 0.1802 - sparse_categorical_accuracy: 0.9303 - val_loss: 0.2822 - val_sparse_categorical_accuracy: 0.9083\n",
            "Epoch 312/400\n",
            "422/422 [==============================] - 12s 27ms/step - loss: 0.1791 - sparse_categorical_accuracy: 0.9294 - val_loss: 0.2826 - val_sparse_categorical_accuracy: 0.9073\n",
            "Epoch 313/400\n",
            "422/422 [==============================] - 11s 27ms/step - loss: 0.1813 - sparse_categorical_accuracy: 0.9309 - val_loss: 0.2850 - val_sparse_categorical_accuracy: 0.9067\n",
            "Epoch 314/400\n",
            "422/422 [==============================] - 11s 27ms/step - loss: 0.1795 - sparse_categorical_accuracy: 0.9310 - val_loss: 0.2863 - val_sparse_categorical_accuracy: 0.9080\n",
            "Epoch 315/400\n",
            "422/422 [==============================] - 11s 25ms/step - loss: 0.1778 - sparse_categorical_accuracy: 0.9312 - val_loss: 0.2842 - val_sparse_categorical_accuracy: 0.9130\n",
            "Epoch 316/400\n",
            "422/422 [==============================] - 10s 24ms/step - loss: 0.1763 - sparse_categorical_accuracy: 0.9315 - val_loss: 0.2857 - val_sparse_categorical_accuracy: 0.9092\n",
            "Epoch 317/400\n",
            "422/422 [==============================] - 11s 26ms/step - loss: 0.1812 - sparse_categorical_accuracy: 0.9296 - val_loss: 0.2834 - val_sparse_categorical_accuracy: 0.9070\n",
            "Epoch 318/400\n",
            "422/422 [==============================] - 11s 26ms/step - loss: 0.1812 - sparse_categorical_accuracy: 0.9305 - val_loss: 0.2842 - val_sparse_categorical_accuracy: 0.9072\n",
            "Epoch 319/400\n",
            "422/422 [==============================] - 11s 26ms/step - loss: 0.1796 - sparse_categorical_accuracy: 0.9314 - val_loss: 0.2867 - val_sparse_categorical_accuracy: 0.9073\n",
            "Epoch 320/400\n",
            "422/422 [==============================] - 11s 26ms/step - loss: 0.1797 - sparse_categorical_accuracy: 0.9308 - val_loss: 0.2829 - val_sparse_categorical_accuracy: 0.9103\n",
            "Epoch 321/400\n",
            "422/422 [==============================] - 11s 26ms/step - loss: 0.1790 - sparse_categorical_accuracy: 0.9311 - val_loss: 0.2877 - val_sparse_categorical_accuracy: 0.9088\n",
            "Epoch 322/400\n",
            "422/422 [==============================] - 10s 24ms/step - loss: 0.1765 - sparse_categorical_accuracy: 0.9321 - val_loss: 0.2871 - val_sparse_categorical_accuracy: 0.9098\n",
            "Epoch 323/400\n",
            "422/422 [==============================] - 11s 26ms/step - loss: 0.1787 - sparse_categorical_accuracy: 0.9321 - val_loss: 0.2873 - val_sparse_categorical_accuracy: 0.9087\n",
            "Epoch 324/400\n",
            "422/422 [==============================] - 11s 26ms/step - loss: 0.1809 - sparse_categorical_accuracy: 0.9309 - val_loss: 0.2852 - val_sparse_categorical_accuracy: 0.9065\n",
            "Epoch 325/400\n",
            "422/422 [==============================] - 11s 26ms/step - loss: 0.1770 - sparse_categorical_accuracy: 0.9326 - val_loss: 0.2865 - val_sparse_categorical_accuracy: 0.9078\n",
            "Epoch 326/400\n",
            "422/422 [==============================] - 11s 26ms/step - loss: 0.1788 - sparse_categorical_accuracy: 0.9314 - val_loss: 0.2829 - val_sparse_categorical_accuracy: 0.9088\n",
            "Epoch 327/400\n",
            "422/422 [==============================] - 11s 26ms/step - loss: 0.1796 - sparse_categorical_accuracy: 0.9301 - val_loss: 0.2946 - val_sparse_categorical_accuracy: 0.9073\n",
            "Epoch 328/400\n",
            "422/422 [==============================] - 10s 23ms/step - loss: 0.1790 - sparse_categorical_accuracy: 0.9308 - val_loss: 0.2809 - val_sparse_categorical_accuracy: 0.9088\n",
            "Epoch 329/400\n",
            "422/422 [==============================] - 11s 26ms/step - loss: 0.1747 - sparse_categorical_accuracy: 0.9330 - val_loss: 0.2861 - val_sparse_categorical_accuracy: 0.9063\n",
            "Epoch 330/400\n",
            "422/422 [==============================] - 11s 26ms/step - loss: 0.1763 - sparse_categorical_accuracy: 0.9321 - val_loss: 0.2813 - val_sparse_categorical_accuracy: 0.9075\n",
            "Epoch 331/400\n",
            "422/422 [==============================] - 11s 27ms/step - loss: 0.1769 - sparse_categorical_accuracy: 0.9314 - val_loss: 0.2865 - val_sparse_categorical_accuracy: 0.9090\n",
            "Epoch 332/400\n",
            "422/422 [==============================] - 11s 27ms/step - loss: 0.1802 - sparse_categorical_accuracy: 0.9312 - val_loss: 0.2762 - val_sparse_categorical_accuracy: 0.9085\n",
            "Epoch 333/400\n",
            "422/422 [==============================] - 11s 27ms/step - loss: 0.1749 - sparse_categorical_accuracy: 0.9329 - val_loss: 0.2874 - val_sparse_categorical_accuracy: 0.9092\n",
            "Epoch 334/400\n",
            "422/422 [==============================] - 12s 28ms/step - loss: 0.1797 - sparse_categorical_accuracy: 0.9312 - val_loss: 0.2869 - val_sparse_categorical_accuracy: 0.9075\n",
            "Epoch 335/400\n",
            "422/422 [==============================] - 11s 26ms/step - loss: 0.1807 - sparse_categorical_accuracy: 0.9299 - val_loss: 0.2838 - val_sparse_categorical_accuracy: 0.9038\n",
            "Epoch 336/400\n",
            "422/422 [==============================] - 11s 27ms/step - loss: 0.1780 - sparse_categorical_accuracy: 0.9324 - val_loss: 0.2921 - val_sparse_categorical_accuracy: 0.9038\n",
            "Epoch 337/400\n",
            "422/422 [==============================] - 12s 29ms/step - loss: 0.1760 - sparse_categorical_accuracy: 0.9317 - val_loss: 0.2849 - val_sparse_categorical_accuracy: 0.9080\n",
            "Epoch 338/400\n",
            "422/422 [==============================] - 12s 27ms/step - loss: 0.1776 - sparse_categorical_accuracy: 0.9314 - val_loss: 0.2812 - val_sparse_categorical_accuracy: 0.9088\n",
            "Epoch 339/400\n",
            "422/422 [==============================] - 12s 28ms/step - loss: 0.1755 - sparse_categorical_accuracy: 0.9327 - val_loss: 0.2913 - val_sparse_categorical_accuracy: 0.9042\n",
            "Epoch 340/400\n",
            "422/422 [==============================] - 12s 28ms/step - loss: 0.1768 - sparse_categorical_accuracy: 0.9323 - val_loss: 0.2912 - val_sparse_categorical_accuracy: 0.9092\n",
            "Epoch 341/400\n",
            "422/422 [==============================] - 12s 28ms/step - loss: 0.1783 - sparse_categorical_accuracy: 0.9326 - val_loss: 0.2870 - val_sparse_categorical_accuracy: 0.9062\n",
            "Epoch 342/400\n",
            "422/422 [==============================] - 12s 29ms/step - loss: 0.1777 - sparse_categorical_accuracy: 0.9331 - val_loss: 0.2815 - val_sparse_categorical_accuracy: 0.9082\n",
            "Epoch 343/400\n",
            "422/422 [==============================] - 12s 28ms/step - loss: 0.1792 - sparse_categorical_accuracy: 0.9304 - val_loss: 0.2782 - val_sparse_categorical_accuracy: 0.9083\n",
            "Epoch 344/400\n",
            "422/422 [==============================] - 12s 29ms/step - loss: 0.1748 - sparse_categorical_accuracy: 0.9323 - val_loss: 0.2783 - val_sparse_categorical_accuracy: 0.9078\n",
            "Epoch 345/400\n",
            "422/422 [==============================] - 12s 28ms/step - loss: 0.1778 - sparse_categorical_accuracy: 0.9311 - val_loss: 0.2876 - val_sparse_categorical_accuracy: 0.9068\n",
            "Epoch 346/400\n",
            "422/422 [==============================] - 11s 27ms/step - loss: 0.1773 - sparse_categorical_accuracy: 0.9320 - val_loss: 0.2831 - val_sparse_categorical_accuracy: 0.9100\n",
            "Epoch 347/400\n",
            "422/422 [==============================] - 11s 26ms/step - loss: 0.1774 - sparse_categorical_accuracy: 0.9310 - val_loss: 0.2946 - val_sparse_categorical_accuracy: 0.9085\n",
            "Epoch 348/400\n",
            "422/422 [==============================] - 12s 28ms/step - loss: 0.1767 - sparse_categorical_accuracy: 0.9309 - val_loss: 0.2887 - val_sparse_categorical_accuracy: 0.9072\n",
            "Epoch 349/400\n",
            "422/422 [==============================] - 12s 28ms/step - loss: 0.1771 - sparse_categorical_accuracy: 0.9326 - val_loss: 0.2827 - val_sparse_categorical_accuracy: 0.9085\n",
            "Epoch 350/400\n",
            "422/422 [==============================] - 11s 27ms/step - loss: 0.1789 - sparse_categorical_accuracy: 0.9316 - val_loss: 0.2844 - val_sparse_categorical_accuracy: 0.9103\n",
            "Epoch 351/400\n",
            "422/422 [==============================] - 12s 27ms/step - loss: 0.1771 - sparse_categorical_accuracy: 0.9321 - val_loss: 0.2907 - val_sparse_categorical_accuracy: 0.9065\n",
            "Epoch 352/400\n",
            "422/422 [==============================] - 12s 28ms/step - loss: 0.1770 - sparse_categorical_accuracy: 0.9339 - val_loss: 0.2875 - val_sparse_categorical_accuracy: 0.9067\n",
            "Epoch 353/400\n",
            "422/422 [==============================] - 12s 27ms/step - loss: 0.1768 - sparse_categorical_accuracy: 0.9319 - val_loss: 0.2922 - val_sparse_categorical_accuracy: 0.9058\n",
            "Epoch 354/400\n",
            "422/422 [==============================] - 12s 28ms/step - loss: 0.1786 - sparse_categorical_accuracy: 0.9312 - val_loss: 0.2889 - val_sparse_categorical_accuracy: 0.9073\n",
            "Epoch 355/400\n",
            "422/422 [==============================] - 11s 26ms/step - loss: 0.1773 - sparse_categorical_accuracy: 0.9320 - val_loss: 0.2882 - val_sparse_categorical_accuracy: 0.9070\n",
            "Epoch 356/400\n",
            "422/422 [==============================] - 11s 26ms/step - loss: 0.1749 - sparse_categorical_accuracy: 0.9328 - val_loss: 0.2920 - val_sparse_categorical_accuracy: 0.9058\n",
            "Epoch 357/400\n",
            "422/422 [==============================] - 12s 27ms/step - loss: 0.1739 - sparse_categorical_accuracy: 0.9330 - val_loss: 0.2814 - val_sparse_categorical_accuracy: 0.9070\n",
            "Epoch 358/400\n",
            "422/422 [==============================] - 12s 27ms/step - loss: 0.1766 - sparse_categorical_accuracy: 0.9314 - val_loss: 0.2827 - val_sparse_categorical_accuracy: 0.9093\n",
            "Epoch 359/400\n",
            "422/422 [==============================] - 12s 28ms/step - loss: 0.1735 - sparse_categorical_accuracy: 0.9331 - val_loss: 0.2876 - val_sparse_categorical_accuracy: 0.9072\n",
            "Epoch 360/400\n",
            "422/422 [==============================] - 12s 28ms/step - loss: 0.1766 - sparse_categorical_accuracy: 0.9311 - val_loss: 0.2883 - val_sparse_categorical_accuracy: 0.9067\n",
            "Epoch 361/400\n",
            "422/422 [==============================] - 12s 28ms/step - loss: 0.1740 - sparse_categorical_accuracy: 0.9336 - val_loss: 0.2823 - val_sparse_categorical_accuracy: 0.9070\n",
            "Epoch 362/400\n",
            "422/422 [==============================] - 12s 28ms/step - loss: 0.1719 - sparse_categorical_accuracy: 0.9343 - val_loss: 0.2911 - val_sparse_categorical_accuracy: 0.9065\n",
            "Epoch 363/400\n",
            "422/422 [==============================] - 12s 27ms/step - loss: 0.1750 - sparse_categorical_accuracy: 0.9322 - val_loss: 0.2808 - val_sparse_categorical_accuracy: 0.9092\n",
            "Epoch 364/400\n",
            "422/422 [==============================] - 11s 26ms/step - loss: 0.1736 - sparse_categorical_accuracy: 0.9343 - val_loss: 0.2915 - val_sparse_categorical_accuracy: 0.9072\n",
            "Epoch 365/400\n",
            "422/422 [==============================] - 11s 26ms/step - loss: 0.1738 - sparse_categorical_accuracy: 0.9337 - val_loss: 0.2900 - val_sparse_categorical_accuracy: 0.9042\n",
            "Epoch 366/400\n",
            "422/422 [==============================] - 11s 27ms/step - loss: 0.1747 - sparse_categorical_accuracy: 0.9317 - val_loss: 0.2806 - val_sparse_categorical_accuracy: 0.9093\n",
            "Epoch 367/400\n",
            "422/422 [==============================] - 11s 27ms/step - loss: 0.1733 - sparse_categorical_accuracy: 0.9341 - val_loss: 0.2790 - val_sparse_categorical_accuracy: 0.9072\n",
            "Epoch 368/400\n",
            "422/422 [==============================] - 11s 27ms/step - loss: 0.1747 - sparse_categorical_accuracy: 0.9321 - val_loss: 0.2806 - val_sparse_categorical_accuracy: 0.9067\n",
            "Epoch 369/400\n",
            "422/422 [==============================] - 11s 27ms/step - loss: 0.1769 - sparse_categorical_accuracy: 0.9313 - val_loss: 0.2848 - val_sparse_categorical_accuracy: 0.9060\n",
            "Epoch 370/400\n",
            "422/422 [==============================] - 12s 27ms/step - loss: 0.1738 - sparse_categorical_accuracy: 0.9330 - val_loss: 0.2800 - val_sparse_categorical_accuracy: 0.9088\n",
            "Epoch 371/400\n",
            "422/422 [==============================] - 11s 27ms/step - loss: 0.1764 - sparse_categorical_accuracy: 0.9332 - val_loss: 0.2826 - val_sparse_categorical_accuracy: 0.9087\n",
            "Epoch 372/400\n",
            "422/422 [==============================] - 11s 26ms/step - loss: 0.1730 - sparse_categorical_accuracy: 0.9332 - val_loss: 0.2851 - val_sparse_categorical_accuracy: 0.9082\n",
            "Epoch 373/400\n",
            "422/422 [==============================] - 12s 27ms/step - loss: 0.1758 - sparse_categorical_accuracy: 0.9321 - val_loss: 0.2835 - val_sparse_categorical_accuracy: 0.9090\n",
            "Epoch 374/400\n",
            "422/422 [==============================] - 11s 27ms/step - loss: 0.1769 - sparse_categorical_accuracy: 0.9321 - val_loss: 0.2838 - val_sparse_categorical_accuracy: 0.9078\n",
            "Epoch 375/400\n",
            "422/422 [==============================] - 12s 28ms/step - loss: 0.1738 - sparse_categorical_accuracy: 0.9329 - val_loss: 0.2891 - val_sparse_categorical_accuracy: 0.9082\n",
            "Epoch 376/400\n",
            "422/422 [==============================] - 12s 28ms/step - loss: 0.1740 - sparse_categorical_accuracy: 0.9321 - val_loss: 0.2898 - val_sparse_categorical_accuracy: 0.9082\n",
            "Epoch 377/400\n",
            "422/422 [==============================] - 12s 28ms/step - loss: 0.1751 - sparse_categorical_accuracy: 0.9322 - val_loss: 0.2882 - val_sparse_categorical_accuracy: 0.9067\n",
            "Epoch 378/400\n",
            "422/422 [==============================] - 12s 28ms/step - loss: 0.1751 - sparse_categorical_accuracy: 0.9337 - val_loss: 0.2928 - val_sparse_categorical_accuracy: 0.9067\n",
            "Epoch 379/400\n",
            "422/422 [==============================] - 12s 28ms/step - loss: 0.1744 - sparse_categorical_accuracy: 0.9323 - val_loss: 0.2880 - val_sparse_categorical_accuracy: 0.9100\n",
            "Epoch 380/400\n",
            "422/422 [==============================] - 12s 28ms/step - loss: 0.1699 - sparse_categorical_accuracy: 0.9356 - val_loss: 0.2842 - val_sparse_categorical_accuracy: 0.9103\n",
            "Epoch 381/400\n",
            "422/422 [==============================] - 12s 27ms/step - loss: 0.1729 - sparse_categorical_accuracy: 0.9351 - val_loss: 0.2907 - val_sparse_categorical_accuracy: 0.9085\n",
            "Epoch 382/400\n",
            "422/422 [==============================] - 12s 28ms/step - loss: 0.1730 - sparse_categorical_accuracy: 0.9328 - val_loss: 0.2872 - val_sparse_categorical_accuracy: 0.9080\n",
            "Epoch 383/400\n",
            "422/422 [==============================] - 11s 27ms/step - loss: 0.1734 - sparse_categorical_accuracy: 0.9333 - val_loss: 0.2895 - val_sparse_categorical_accuracy: 0.9045\n",
            "Epoch 384/400\n",
            "422/422 [==============================] - 11s 26ms/step - loss: 0.1726 - sparse_categorical_accuracy: 0.9334 - val_loss: 0.2916 - val_sparse_categorical_accuracy: 0.9080\n",
            "Epoch 385/400\n",
            "422/422 [==============================] - 12s 27ms/step - loss: 0.1726 - sparse_categorical_accuracy: 0.9344 - val_loss: 0.2851 - val_sparse_categorical_accuracy: 0.9058\n",
            "Epoch 386/400\n",
            "422/422 [==============================] - 11s 27ms/step - loss: 0.1744 - sparse_categorical_accuracy: 0.9327 - val_loss: 0.2934 - val_sparse_categorical_accuracy: 0.9062\n",
            "Epoch 387/400\n",
            "422/422 [==============================] - 11s 27ms/step - loss: 0.1745 - sparse_categorical_accuracy: 0.9335 - val_loss: 0.2848 - val_sparse_categorical_accuracy: 0.9095\n",
            "Epoch 388/400\n",
            "422/422 [==============================] - 11s 27ms/step - loss: 0.1719 - sparse_categorical_accuracy: 0.9336 - val_loss: 0.2804 - val_sparse_categorical_accuracy: 0.9082\n",
            "Epoch 389/400\n",
            "422/422 [==============================] - 11s 27ms/step - loss: 0.1728 - sparse_categorical_accuracy: 0.9332 - val_loss: 0.2802 - val_sparse_categorical_accuracy: 0.9097\n",
            "Epoch 390/400\n",
            "422/422 [==============================] - 11s 27ms/step - loss: 0.1704 - sparse_categorical_accuracy: 0.9355 - val_loss: 0.2789 - val_sparse_categorical_accuracy: 0.9100\n",
            "Epoch 391/400\n",
            "422/422 [==============================] - 11s 27ms/step - loss: 0.1735 - sparse_categorical_accuracy: 0.9334 - val_loss: 0.2900 - val_sparse_categorical_accuracy: 0.9068\n",
            "Epoch 392/400\n",
            "422/422 [==============================] - 11s 26ms/step - loss: 0.1735 - sparse_categorical_accuracy: 0.9339 - val_loss: 0.2864 - val_sparse_categorical_accuracy: 0.9083\n",
            "Epoch 393/400\n",
            "422/422 [==============================] - 11s 27ms/step - loss: 0.1728 - sparse_categorical_accuracy: 0.9331 - val_loss: 0.2906 - val_sparse_categorical_accuracy: 0.9098\n",
            "Epoch 394/400\n",
            "422/422 [==============================] - 12s 27ms/step - loss: 0.1722 - sparse_categorical_accuracy: 0.9339 - val_loss: 0.2819 - val_sparse_categorical_accuracy: 0.9105\n",
            "Epoch 395/400\n",
            "422/422 [==============================] - 11s 27ms/step - loss: 0.1742 - sparse_categorical_accuracy: 0.9327 - val_loss: 0.2845 - val_sparse_categorical_accuracy: 0.9095\n",
            "Epoch 396/400\n",
            "422/422 [==============================] - 11s 27ms/step - loss: 0.1731 - sparse_categorical_accuracy: 0.9340 - val_loss: 0.2954 - val_sparse_categorical_accuracy: 0.9087\n",
            "Epoch 397/400\n",
            "422/422 [==============================] - 11s 27ms/step - loss: 0.1724 - sparse_categorical_accuracy: 0.9332 - val_loss: 0.2881 - val_sparse_categorical_accuracy: 0.9077\n",
            "Epoch 398/400\n",
            "422/422 [==============================] - 12s 28ms/step - loss: 0.1683 - sparse_categorical_accuracy: 0.9345 - val_loss: 0.3005 - val_sparse_categorical_accuracy: 0.9038\n",
            "Epoch 399/400\n",
            "422/422 [==============================] - 12s 28ms/step - loss: 0.1721 - sparse_categorical_accuracy: 0.9336 - val_loss: 0.2839 - val_sparse_categorical_accuracy: 0.9075\n",
            "Epoch 400/400\n",
            "422/422 [==============================] - 12s 27ms/step - loss: 0.1712 - sparse_categorical_accuracy: 0.9337 - val_loss: 0.2856 - val_sparse_categorical_accuracy: 0.9047\n",
            "313/313 [==============================] - 1s 4ms/step - loss: 0.3180 - sparse_categorical_accuracy: 0.9043\n",
            "\n",
            "Test accuracy: 0.9042999744415283\n"
          ]
        }
      ]
    },
    {
      "cell_type": "code",
      "source": [
        "print('\\nhistory dict:', list(history.history.keys()))"
      ],
      "metadata": {
        "id": "CxRE-B_Q6Sii",
        "colab": {
          "base_uri": "https://localhost:8080/"
        },
        "outputId": "085b06e9-cf10-40be-8a6e-ef23cc22bfd9"
      },
      "execution_count": 63,
      "outputs": [
        {
          "output_type": "stream",
          "name": "stdout",
          "text": [
            "\n",
            "history dict: ['loss', 'sparse_categorical_accuracy', 'val_loss', 'val_sparse_categorical_accuracy']\n"
          ]
        }
      ]
    },
    {
      "cell_type": "code",
      "source": [
        "result = model.evaluate(x_test, y_test)\n",
        "print(result)"
      ],
      "metadata": {
        "id": "YXpwRRTvTBNg",
        "colab": {
          "base_uri": "https://localhost:8080/"
        },
        "outputId": "df38c2f7-9ad1-49c6-fa2b-59351a4dee8f"
      },
      "execution_count": 64,
      "outputs": [
        {
          "output_type": "stream",
          "name": "stdout",
          "text": [
            "313/313 [==============================] - 1s 4ms/step - loss: 0.3180 - sparse_categorical_accuracy: 0.9043\n",
            "[0.31803083419799805, 0.9042999744415283]\n"
          ]
        }
      ]
    },
    {
      "cell_type": "code",
      "source": [
        "saved_model = load_model('best_model.h5')\n",
        "result = saved_model.evaluate(x_test, y_test)\n",
        "print(result)"
      ],
      "metadata": {
        "colab": {
          "base_uri": "https://localhost:8080/"
        },
        "id": "dpaZAW0vp1AZ",
        "outputId": "84ce32d5-1181-4105-fccc-c4987f7fe40a"
      },
      "execution_count": 65,
      "outputs": [
        {
          "output_type": "stream",
          "name": "stdout",
          "text": [
            "313/313 [==============================] - 2s 4ms/step - loss: 0.3190 - sparse_categorical_accuracy: 0.9025\n",
            "[0.31903114914894104, 0.9024999737739563]\n"
          ]
        }
      ]
    },
    {
      "cell_type": "code",
      "source": [
        "# from keras.models import load_model\n",
        "# saved_model = load_model('best_model.h5')\n",
        "# # _, train_acc = saved_model.evaluate(x_train, y_train, verbose=0)\n",
        "# _, test_acc = saved_model.evaluate(x_test, y_test, verbose=0)\n",
        "# print('Test: %.3f' % (test_acc))"
      ],
      "metadata": {
        "id": "DR_MS9DABo_K"
      },
      "execution_count": 66,
      "outputs": []
    },
    {
      "cell_type": "code",
      "source": [
        "history_dict = history.history\n",
        "loss_values = history_dict['loss']\n",
        "val_loss_values = history_dict['val_loss']\n",
        "\n",
        "epochs = range(1, len(history_dict['loss']) + 1)\n",
        "\n",
        "plt.figure(figsize=(10, 5))\n",
        "plt.plot(epochs, loss_values, 'bo', label='Training loss')\n",
        "plt.plot(epochs, val_loss_values, 'r', label='Validation loss')\n",
        "plt.ylim (0.2, 0.5)\n",
        "plt.title('Training and validation loss')\n",
        "plt.xlabel('Epochs')\n",
        "plt.ylabel('Loss')\n",
        "plt.legend()\n",
        "plt.grid(True)\n",
        "plt.show()\n",
        "1\n",
        "plt.clf()\n",
        "plt.figure(figsize=(10, 5))\n",
        "val_acc_values = history_dict['sparse_categorical_accuracy']\n",
        "plt.plot(epochs, history_dict['sparse_categorical_accuracy'], 'bo', label='Training acc')\n",
        "plt.plot(epochs, history_dict['val_sparse_categorical_accuracy'], 'r', label='Validation acc')\n",
        "plt.ylim (0.88, 0.94)\n",
        "plt.title('Training and validation accuracy')\n",
        "plt.xlabel('Epochs')\n",
        "plt.ylabel('Accuracy')\n",
        "plt.legend()\n",
        "plt.grid(True)"
      ],
      "metadata": {
        "id": "2Ll_5sGlXKMH",
        "colab": {
          "base_uri": "https://localhost:8080/",
          "height": 975
        },
        "outputId": "61c507b8-1406-4ce0-b98c-47da40353786"
      },
      "execution_count": 67,
      "outputs": [
        {
          "output_type": "display_data",
          "data": {
            "text/plain": [
              "<Figure size 1000x500 with 1 Axes>"
            ],
            "image/png": "[encoded data removed]"
          },
          "metadata": {}
        },
        {
          "output_type": "display_data",
          "data": {
            "text/plain": [
              "<Figure size 640x480 with 0 Axes>"
            ]
          },
          "metadata": {}
        },
        {
          "output_type": "display_data",
          "data": {
            "text/plain": [
              "<Figure size 1000x500 with 1 Axes>"
            ],
            "image/png": "[encoded data removed]"
          },
          "metadata": {}
        }
      ]
    },
    {
      "cell_type": "code",
      "source": [
        "probability_model = tf.keras.Sequential([model,\n",
        "                                         tf.keras.layers.Softmax()])"
      ],
      "metadata": {
        "id": "VzOdKAT_uV-f"
      },
      "execution_count": 68,
      "outputs": []
    },
    {
      "cell_type": "code",
      "source": [
        "predictions = probability_model.predict(x_test)"
      ],
      "metadata": {
        "id": "f4is3NFruYom",
        "colab": {
          "base_uri": "https://localhost:8080/"
        },
        "outputId": "93f2b40d-8bbd-4aab-a202-415a3a76ca16"
      },
      "execution_count": 69,
      "outputs": [
        {
          "output_type": "stream",
          "name": "stdout",
          "text": [
            "313/313 [==============================] - 1s 3ms/step\n"
          ]
        }
      ]
    },
    {
      "cell_type": "code",
      "source": [
        "predictions[0]"
      ],
      "metadata": {
        "id": "82cigvlZudz_",
        "colab": {
          "base_uri": "https://localhost:8080/"
        },
        "outputId": "67918cc6-3b00-4a0a-d2ee-a5f6c8951b33"
      },
      "execution_count": 70,
      "outputs": [
        {
          "output_type": "execute_result",
          "data": {
            "text/plain": [
              "array([0.08533692, 0.08533692, 0.08533692, 0.08533692, 0.08533692,\n",
              "       0.08533709, 0.08533692, 0.0853379 , 0.08533692, 0.23196666],\n",
              "      dtype=float32)"
            ]
          },
          "metadata": {},
          "execution_count": 70
        }
      ]
    },
    {
      "cell_type": "code",
      "source": [
        "model.summary()"
      ],
      "metadata": {
        "id": "6RsQPHyYuNGe",
        "colab": {
          "base_uri": "https://localhost:8080/"
        },
        "outputId": "fe7c2dcc-6a62-4291-ef96-b8e401ae6688"
      },
      "execution_count": 71,
      "outputs": [
        {
          "output_type": "stream",
          "name": "stdout",
          "text": [
            "Model: \"sequential_4\"\n",
            "_________________________________________________________________\n",
            " Layer (type)                Output Shape              Param #   \n",
            "=================================================================\n",
            " flatten_2 (Flatten)         (None, 784)               0         \n",
            "                                                                 \n",
            " dropout_8 (Dropout)         (None, 784)               0         \n",
            "                                                                 \n",
            " batch_normalization_6 (Bat  (None, 784)               3136      \n",
            " chNormalization)                                                \n",
            "                                                                 \n",
            " dense_8 (Dense)             (None, 256)               200960    \n",
            "                                                                 \n",
            " dropout_9 (Dropout)         (None, 256)               0         \n",
            "                                                                 \n",
            " batch_normalization_7 (Bat  (None, 256)               1024      \n",
            " chNormalization)                                                \n",
            "                                                                 \n",
            " dense_9 (Dense)             (None, 512)               131584    \n",
            "                                                                 \n",
            " dropout_10 (Dropout)        (None, 512)               0         \n",
            "                                                                 \n",
            " batch_normalization_8 (Bat  (None, 512)               2048      \n",
            " chNormalization)                                                \n",
            "                                                                 \n",
            " dense_10 (Dense)            (None, 512)               262656    \n",
            "                                                                 \n",
            " dropout_11 (Dropout)        (None, 512)               0         \n",
            "                                                                 \n",
            " dense_11 (Dense)            (None, 10)                5130      \n",
            "                                                                 \n",
            "=================================================================\n",
            "Total params: 606538 (2.31 MB)\n",
            "Trainable params: 603434 (2.30 MB)\n",
            "Non-trainable params: 3104 (12.12 KB)\n",
            "_________________________________________________________________\n"
          ]
        }
      ]
    },
    {
      "cell_type": "code",
      "source": [
        "hnyetjn hrte()"
      ],
      "metadata": {
        "id": "S4hcxZttmp-0",
        "outputId": "c9235178-77cd-4389-835c-1a181cf18fea",
        "colab": {
          "base_uri": "https://localhost:8080/",
          "height": 143
        }
      },
      "execution_count": 72,
      "outputs": [
        {
          "output_type": "error",
          "ename": "SyntaxError",
          "evalue": "invalid syntax (<ipython-input-72-1a3818e70946>, line 1)",
          "traceback": [
            "\u001b[0;36m  File \u001b[0;32m\"<ipython-input-72-1a3818e70946>\"\u001b[0;36m, line \u001b[0;32m1\u001b[0m\n\u001b[0;31m    hnyetjn hrte()\u001b[0m\n\u001b[0m            ^\u001b[0m\n\u001b[0;31mSyntaxError\u001b[0m\u001b[0;31m:\u001b[0m invalid syntax\n"
          ]
        }
      ]
    }
  ]
}