{
  "nbformat": 4,
  "nbformat_minor": 0,
  "metadata": {
    "colab": {
      "provenance": [],
      "gpuType": "T4",
      "authorship_tag": "ABX9TyPvHiNfcv/8jZiyBYxwX1jH",
      "include_colab_link": true
    },
    "kernelspec": {
      "name": "python3",
      "display_name": "Python 3"
    },
    "language_info": {
      "name": "python"
    },
    "accelerator": "GPU"
  },
  "cells": [
    {
      "cell_type": "markdown",
      "metadata": {
        "id": "view-in-github",
        "colab_type": "text"
      },
      "source": [
        "<a href=\"https://colab.research.google.com/github/PavelStelmakhV/hw310-keras-fasion-mnist/blob/main/keras_fasion_mnist_hw.ipynb\" target=\"_parent\"><img src=\"https://colab.research.google.com/assets/colab-badge.svg\" alt=\"Open In Colab\"/></a>"
      ]
    },
    {
      "cell_type": "code",
      "execution_count": 23,
      "metadata": {
        "id": "vv7w0bgAVQPO"
      },
      "outputs": [],
      "source": [
        "import tensorflow as tf\n",
        "import numpy as np\n",
        "import matplotlib.pyplot as plt\n",
        "\n",
        "from keras import layers\n",
        "from keras import regularizers\n",
        "from keras import callbacks\n",
        "from keras import initializers\n",
        "from keras.layers import BatchNormalization\n",
        "from keras.models import load_model"
      ]
    },
    {
      "cell_type": "code",
      "source": [
        "fashion_mnist = tf.keras.datasets.fashion_mnist\n",
        "\n",
        "(x_train, y_train), (x_test, y_test) = fashion_mnist.load_data()"
      ],
      "metadata": {
        "id": "mOpywsNAzfGB"
      },
      "execution_count": 24,
      "outputs": []
    },
    {
      "cell_type": "code",
      "source": [
        "# x_train = x_train.reshape(60000, 784).astype('float32') / 255\n",
        "# x_test = x_test.reshape(10000, 784).astype('float32') / 255\n",
        "x_train = x_train.astype('float32') / 255\n",
        "x_test = x_test.astype('float32') / 255\n",
        "\n",
        "y_train = y_train.astype('float32')\n",
        "y_test = y_test.astype('float32')\n",
        "\n",
        "# Перемешаем тренировочные данные\n",
        "# train_data = tf.data.Dataset.from_tensor_slices((x_train, y_train))\n",
        "# train_data = train_data.repeat().shuffle(5000).batch(batch_size).prefetch(1)"
      ],
      "metadata": {
        "id": "t2gucjsJ0KUi"
      },
      "execution_count": 25,
      "outputs": []
    },
    {
      "cell_type": "code",
      "source": [
        "# x_val = x_train[-10000:]\n",
        "# y_val = y_train[-10000:]\n",
        "# x_train = x_train[:-10000]\n",
        "# y_train = y_train[:-10000]"
      ],
      "metadata": {
        "id": "fLPNXab5dHwO"
      },
      "execution_count": 26,
      "outputs": []
    },
    {
      "cell_type": "code",
      "source": [],
      "metadata": {
        "id": "bU5TK5YdlnU5"
      },
      "execution_count": 26,
      "outputs": []
    },
    {
      "cell_type": "code",
      "source": [
        "w_init_tanh = initializers.glorot_normal(seed=42)\n",
        "w_init_relu = initializers.HeNormal(seed=42)\n",
        "b_init = initializers.Zeros()"
      ],
      "metadata": {
        "id": "yL9QTEtBGy4N"
      },
      "execution_count": 27,
      "outputs": []
    },
    {
      "cell_type": "code",
      "source": [
        "def layer_relu(model, neurons):\n",
        "  model.add(BatchNormalization())\n",
        "  model.add(layers.Dense(neurons,\n",
        "                       activation='relu',\n",
        "                       kernel_initializer=w_init_relu,\n",
        "                       bias_initializer=b_init))\n",
        "  model.add(layers.Dropout(drop_out))\n",
        "  return model"
      ],
      "metadata": {
        "id": "ZZgs_25rKBCp"
      },
      "execution_count": 28,
      "outputs": []
    },
    {
      "cell_type": "code",
      "source": [
        "def layer_tanh(model, neurons):\n",
        "  model.add(BatchNormalization())\n",
        "  model.add(layers.Dense(neurons,\n",
        "                        activation='tanh',\n",
        "                        kernel_initializer=w_init_tanh,\n",
        "                        bias_initializer=b_init))\n",
        "  model.add(layers.Dropout(drop_out))\n",
        "  return model"
      ],
      "metadata": {
        "id": "90JLLnkBR50t"
      },
      "execution_count": 29,
      "outputs": []
    },
    {
      "cell_type": "code",
      "source": [
        "model = tf.keras.Sequential()\n",
        "\n",
        "drop_out = 0.30\n",
        "lern_rat = 0.001\n",
        "neurons = 256\n",
        "\n",
        "model.add(layers.Flatten(input_shape=(28, 28)))\n",
        "model.add(layers.Dropout(drop_out))\n",
        "\n",
        "model = layer_tanh(model, neurons*1)\n",
        "model = layer_tanh(model, neurons*1)\n",
        "model = layer_relu(model, neurons*2)\n",
        "\n",
        "model.add(layers.Dense(10, activation='softmax'))"
      ],
      "metadata": {
        "id": "atS39i4d0aqW"
      },
      "execution_count": 30,
      "outputs": []
    },
    {
      "cell_type": "code",
      "source": [],
      "metadata": {
        "id": "EzfnaqIZlfy8"
      },
      "execution_count": 30,
      "outputs": []
    },
    {
      "cell_type": "code",
      "source": [
        "model.compile(#optimizer='adam',\n",
        "              # optimizer='adamax',\n",
        "              optimizer='nadam',\n",
        "              # optimizer='rmsprop',\n",
        "              # optimizer='sgd',\n",
        "              # optimizer='adadelta',\n",
        "              # loss='binary_crossentropy',\n",
        "              loss=tf.keras.losses.SparseCategoricalCrossentropy(),\n",
        "              metrics=['sparse_categorical_accuracy']) # sparse_categorical_accuracy"
      ],
      "metadata": {
        "id": "hENVaAC7ilNY"
      },
      "execution_count": 31,
      "outputs": []
    },
    {
      "cell_type": "code",
      "source": [
        "x = np.random.random((1, 28, 28))\n",
        "a = model.predict(x)\n",
        "_ = plt.hist(np.transpose(a))"
      ],
      "metadata": {
        "id": "RFgZHNNFMa8p",
        "outputId": "6410b26d-5973-471c-dda9-500105d0994e",
        "colab": {
          "base_uri": "https://localhost:8080/",
          "height": 448
        }
      },
      "execution_count": 32,
      "outputs": [
        {
          "output_type": "stream",
          "name": "stdout",
          "text": [
            "1/1 [==============================] - 0s 108ms/step\n"
          ]
        },
        {
          "output_type": "display_data",
          "data": {
            "text/plain": [
              "<Figure size 640x480 with 1 Axes>"
            ],
            "image/png": "[encoded data removed]"
          },
          "metadata": {}
        }
      ]
    },
    {
      "cell_type": "code",
      "source": [
        "y_pred = model.predict(x_test)"
      ],
      "metadata": {
        "id": "UDP8OKKZ8oQa",
        "outputId": "c5f2567d-404b-4838-a9a0-bb29106bef0d",
        "colab": {
          "base_uri": "https://localhost:8080/"
        }
      },
      "execution_count": 33,
      "outputs": [
        {
          "output_type": "stream",
          "name": "stdout",
          "text": [
            "313/313 [==============================] - 1s 2ms/step\n"
          ]
        }
      ]
    },
    {
      "cell_type": "code",
      "source": [
        "callback = callbacks.EarlyStopping(monitor='val_loss',\n",
        "                                   patience=50,\n",
        "                                   restore_best_weights=True,\n",
        "                                   )\n",
        "es = callbacks.EarlyStopping(monitor='val_loss', mode='min', verbose=1, patience=200)\n",
        "mc = callbacks.ModelCheckpoint('best_model.h5', monitor='sparse_categorical_accuracy', mode='max', verbose=0, save_best_only=True)\n"
      ],
      "metadata": {
        "id": "5ihU4exVlsjm"
      },
      "execution_count": 34,
      "outputs": []
    },
    {
      "cell_type": "code",
      "source": [
        "history = model.fit(x_train, y_train,\n",
        "                    epochs=150,\n",
        "                    batch_size=128,\n",
        "                    # callbacks=[callback],\n",
        "                    callbacks=[mc],\n",
        "                    verbose=1, #многословие\n",
        "                    validation_split=0.2\n",
        "                    # validation_data=(x_val, y_val)\n",
        "                    )\n",
        "test_loss, test_acc = model.evaluate(x_test, y_test)\n",
        "print('\\nTest accuracy:', test_acc)"
      ],
      "metadata": {
        "id": "FH8HcMNm233I",
        "outputId": "4fbc3cec-9b06-4541-e7af-c1a3364c872a",
        "colab": {
          "base_uri": "https://localhost:8080/"
        }
      },
      "execution_count": 35,
      "outputs": [
        {
          "output_type": "stream",
          "name": "stdout",
          "text": [
            "Epoch 1/150\n",
            "375/375 [==============================] - 5s 7ms/step - loss: 0.7509 - sparse_categorical_accuracy: 0.7366 - val_loss: 0.4557 - val_sparse_categorical_accuracy: 0.8409\n",
            "Epoch 2/150\n",
            "375/375 [==============================] - 3s 7ms/step - loss: 0.5309 - sparse_categorical_accuracy: 0.8067 - val_loss: 0.3950 - val_sparse_categorical_accuracy: 0.8573\n",
            "Epoch 3/150\n",
            "375/375 [==============================] - 2s 6ms/step - loss: 0.4878 - sparse_categorical_accuracy: 0.8206 - val_loss: 0.3809 - val_sparse_categorical_accuracy: 0.8612\n",
            "Epoch 4/150\n",
            "375/375 [==============================] - 2s 6ms/step - loss: 0.4577 - sparse_categorical_accuracy: 0.8309 - val_loss: 0.3737 - val_sparse_categorical_accuracy: 0.8620\n",
            "Epoch 5/150\n",
            "375/375 [==============================] - 2s 6ms/step - loss: 0.4375 - sparse_categorical_accuracy: 0.8388 - val_loss: 0.3632 - val_sparse_categorical_accuracy: 0.8670\n",
            "Epoch 6/150\n",
            "375/375 [==============================] - 2s 6ms/step - loss: 0.4260 - sparse_categorical_accuracy: 0.8429 - val_loss: 0.3575 - val_sparse_categorical_accuracy: 0.8677\n",
            "Epoch 7/150\n",
            "375/375 [==============================] - 3s 7ms/step - loss: 0.4163 - sparse_categorical_accuracy: 0.8443 - val_loss: 0.3521 - val_sparse_categorical_accuracy: 0.8704\n",
            "Epoch 8/150\n",
            "375/375 [==============================] - 2s 6ms/step - loss: 0.4086 - sparse_categorical_accuracy: 0.8484 - val_loss: 0.3343 - val_sparse_categorical_accuracy: 0.8789\n",
            "Epoch 9/150\n",
            "375/375 [==============================] - 2s 6ms/step - loss: 0.3990 - sparse_categorical_accuracy: 0.8510 - val_loss: 0.3389 - val_sparse_categorical_accuracy: 0.8784\n",
            "Epoch 10/150\n",
            "375/375 [==============================] - 2s 6ms/step - loss: 0.3933 - sparse_categorical_accuracy: 0.8541 - val_loss: 0.3355 - val_sparse_categorical_accuracy: 0.8742\n",
            "Epoch 11/150\n",
            "375/375 [==============================] - 2s 6ms/step - loss: 0.3890 - sparse_categorical_accuracy: 0.8554 - val_loss: 0.3246 - val_sparse_categorical_accuracy: 0.8813\n",
            "Epoch 12/150\n",
            "375/375 [==============================] - 3s 7ms/step - loss: 0.3843 - sparse_categorical_accuracy: 0.8545 - val_loss: 0.3272 - val_sparse_categorical_accuracy: 0.8788\n",
            "Epoch 13/150\n",
            "375/375 [==============================] - 2s 6ms/step - loss: 0.3779 - sparse_categorical_accuracy: 0.8584 - val_loss: 0.3257 - val_sparse_categorical_accuracy: 0.8808\n",
            "Epoch 14/150\n",
            "375/375 [==============================] - 3s 7ms/step - loss: 0.3747 - sparse_categorical_accuracy: 0.8591 - val_loss: 0.3167 - val_sparse_categorical_accuracy: 0.8861\n",
            "Epoch 15/150\n",
            "375/375 [==============================] - 3s 7ms/step - loss: 0.3706 - sparse_categorical_accuracy: 0.8620 - val_loss: 0.3210 - val_sparse_categorical_accuracy: 0.8805\n",
            "Epoch 16/150\n",
            "375/375 [==============================] - 2s 6ms/step - loss: 0.3668 - sparse_categorical_accuracy: 0.8625 - val_loss: 0.3242 - val_sparse_categorical_accuracy: 0.8807\n",
            "Epoch 17/150\n",
            "375/375 [==============================] - 3s 7ms/step - loss: 0.3657 - sparse_categorical_accuracy: 0.8637 - val_loss: 0.3177 - val_sparse_categorical_accuracy: 0.8810\n",
            "Epoch 18/150\n",
            "375/375 [==============================] - 2s 6ms/step - loss: 0.3626 - sparse_categorical_accuracy: 0.8641 - val_loss: 0.3102 - val_sparse_categorical_accuracy: 0.8869\n",
            "Epoch 19/150\n",
            "375/375 [==============================] - 2s 6ms/step - loss: 0.3565 - sparse_categorical_accuracy: 0.8653 - val_loss: 0.3134 - val_sparse_categorical_accuracy: 0.8838\n",
            "Epoch 20/150\n",
            "375/375 [==============================] - 2s 6ms/step - loss: 0.3601 - sparse_categorical_accuracy: 0.8658 - val_loss: 0.3107 - val_sparse_categorical_accuracy: 0.8830\n",
            "Epoch 21/150\n",
            "375/375 [==============================] - 2s 6ms/step - loss: 0.3564 - sparse_categorical_accuracy: 0.8659 - val_loss: 0.3051 - val_sparse_categorical_accuracy: 0.8869\n",
            "Epoch 22/150\n",
            "375/375 [==============================] - 3s 7ms/step - loss: 0.3512 - sparse_categorical_accuracy: 0.8673 - val_loss: 0.3053 - val_sparse_categorical_accuracy: 0.8899\n",
            "Epoch 23/150\n",
            "375/375 [==============================] - 2s 6ms/step - loss: 0.3489 - sparse_categorical_accuracy: 0.8705 - val_loss: 0.3037 - val_sparse_categorical_accuracy: 0.8909\n",
            "Epoch 24/150\n",
            "375/375 [==============================] - 2s 6ms/step - loss: 0.3469 - sparse_categorical_accuracy: 0.8690 - val_loss: 0.3103 - val_sparse_categorical_accuracy: 0.8863\n",
            "Epoch 25/150\n",
            "375/375 [==============================] - 2s 6ms/step - loss: 0.3453 - sparse_categorical_accuracy: 0.8711 - val_loss: 0.3038 - val_sparse_categorical_accuracy: 0.8898\n",
            "Epoch 26/150\n",
            "375/375 [==============================] - 2s 6ms/step - loss: 0.3454 - sparse_categorical_accuracy: 0.8706 - val_loss: 0.3072 - val_sparse_categorical_accuracy: 0.8894\n",
            "Epoch 27/150\n",
            "375/375 [==============================] - 3s 7ms/step - loss: 0.3433 - sparse_categorical_accuracy: 0.8706 - val_loss: 0.3048 - val_sparse_categorical_accuracy: 0.8891\n",
            "Epoch 28/150\n",
            "375/375 [==============================] - 2s 6ms/step - loss: 0.3434 - sparse_categorical_accuracy: 0.8719 - val_loss: 0.3018 - val_sparse_categorical_accuracy: 0.8888\n",
            "Epoch 29/150\n",
            "375/375 [==============================] - 2s 6ms/step - loss: 0.3429 - sparse_categorical_accuracy: 0.8719 - val_loss: 0.3031 - val_sparse_categorical_accuracy: 0.8898\n",
            "Epoch 30/150\n",
            "375/375 [==============================] - 2s 6ms/step - loss: 0.3380 - sparse_categorical_accuracy: 0.8743 - val_loss: 0.3070 - val_sparse_categorical_accuracy: 0.8843\n",
            "Epoch 31/150\n",
            "375/375 [==============================] - 2s 6ms/step - loss: 0.3359 - sparse_categorical_accuracy: 0.8737 - val_loss: 0.3060 - val_sparse_categorical_accuracy: 0.8860\n",
            "Epoch 32/150\n",
            "375/375 [==============================] - 3s 7ms/step - loss: 0.3364 - sparse_categorical_accuracy: 0.8737 - val_loss: 0.3077 - val_sparse_categorical_accuracy: 0.8857\n",
            "Epoch 33/150\n",
            "375/375 [==============================] - 2s 6ms/step - loss: 0.3359 - sparse_categorical_accuracy: 0.8754 - val_loss: 0.2995 - val_sparse_categorical_accuracy: 0.8896\n",
            "Epoch 34/150\n",
            "375/375 [==============================] - 2s 6ms/step - loss: 0.3376 - sparse_categorical_accuracy: 0.8737 - val_loss: 0.2990 - val_sparse_categorical_accuracy: 0.8910\n",
            "Epoch 35/150\n",
            "375/375 [==============================] - 2s 6ms/step - loss: 0.3327 - sparse_categorical_accuracy: 0.8767 - val_loss: 0.2948 - val_sparse_categorical_accuracy: 0.8888\n",
            "Epoch 36/150\n",
            "375/375 [==============================] - 2s 6ms/step - loss: 0.3326 - sparse_categorical_accuracy: 0.8745 - val_loss: 0.2949 - val_sparse_categorical_accuracy: 0.8907\n",
            "Epoch 37/150\n",
            "375/375 [==============================] - 2s 7ms/step - loss: 0.3283 - sparse_categorical_accuracy: 0.8757 - val_loss: 0.2984 - val_sparse_categorical_accuracy: 0.8896\n",
            "Epoch 38/150\n",
            "375/375 [==============================] - 2s 6ms/step - loss: 0.3287 - sparse_categorical_accuracy: 0.8774 - val_loss: 0.3045 - val_sparse_categorical_accuracy: 0.8889\n",
            "Epoch 39/150\n",
            "375/375 [==============================] - 2s 6ms/step - loss: 0.3282 - sparse_categorical_accuracy: 0.8761 - val_loss: 0.2985 - val_sparse_categorical_accuracy: 0.8907\n",
            "Epoch 40/150\n",
            "375/375 [==============================] - 2s 6ms/step - loss: 0.3286 - sparse_categorical_accuracy: 0.8765 - val_loss: 0.2960 - val_sparse_categorical_accuracy: 0.8911\n",
            "Epoch 41/150\n",
            "375/375 [==============================] - 2s 6ms/step - loss: 0.3262 - sparse_categorical_accuracy: 0.8775 - val_loss: 0.2913 - val_sparse_categorical_accuracy: 0.8912\n",
            "Epoch 42/150\n",
            "375/375 [==============================] - 2s 7ms/step - loss: 0.3263 - sparse_categorical_accuracy: 0.8785 - val_loss: 0.3091 - val_sparse_categorical_accuracy: 0.8888\n",
            "Epoch 43/150\n",
            "375/375 [==============================] - 2s 6ms/step - loss: 0.3242 - sparse_categorical_accuracy: 0.8767 - val_loss: 0.2990 - val_sparse_categorical_accuracy: 0.8916\n",
            "Epoch 44/150\n",
            "375/375 [==============================] - 2s 6ms/step - loss: 0.3247 - sparse_categorical_accuracy: 0.8791 - val_loss: 0.3011 - val_sparse_categorical_accuracy: 0.8913\n",
            "Epoch 45/150\n",
            "375/375 [==============================] - 2s 6ms/step - loss: 0.3231 - sparse_categorical_accuracy: 0.8779 - val_loss: 0.3041 - val_sparse_categorical_accuracy: 0.8914\n",
            "Epoch 46/150\n",
            "375/375 [==============================] - 2s 6ms/step - loss: 0.3251 - sparse_categorical_accuracy: 0.8776 - val_loss: 0.3002 - val_sparse_categorical_accuracy: 0.8893\n",
            "Epoch 47/150\n",
            "375/375 [==============================] - 2s 6ms/step - loss: 0.3207 - sparse_categorical_accuracy: 0.8784 - val_loss: 0.2983 - val_sparse_categorical_accuracy: 0.8923\n",
            "Epoch 48/150\n",
            "375/375 [==============================] - 2s 7ms/step - loss: 0.3260 - sparse_categorical_accuracy: 0.8767 - val_loss: 0.2952 - val_sparse_categorical_accuracy: 0.8902\n",
            "Epoch 49/150\n",
            "375/375 [==============================] - 2s 6ms/step - loss: 0.3202 - sparse_categorical_accuracy: 0.8792 - val_loss: 0.2930 - val_sparse_categorical_accuracy: 0.8934\n",
            "Epoch 50/150\n",
            "375/375 [==============================] - 2s 6ms/step - loss: 0.3186 - sparse_categorical_accuracy: 0.8801 - val_loss: 0.2921 - val_sparse_categorical_accuracy: 0.8932\n",
            "Epoch 51/150\n",
            "375/375 [==============================] - 2s 6ms/step - loss: 0.3214 - sparse_categorical_accuracy: 0.8792 - val_loss: 0.2979 - val_sparse_categorical_accuracy: 0.8914\n",
            "Epoch 52/150\n",
            "375/375 [==============================] - 2s 6ms/step - loss: 0.3171 - sparse_categorical_accuracy: 0.8809 - val_loss: 0.2967 - val_sparse_categorical_accuracy: 0.8906\n",
            "Epoch 53/150\n",
            "375/375 [==============================] - 2s 7ms/step - loss: 0.3172 - sparse_categorical_accuracy: 0.8799 - val_loss: 0.2946 - val_sparse_categorical_accuracy: 0.8908\n",
            "Epoch 54/150\n",
            "375/375 [==============================] - 2s 6ms/step - loss: 0.3153 - sparse_categorical_accuracy: 0.8807 - val_loss: 0.2928 - val_sparse_categorical_accuracy: 0.8895\n",
            "Epoch 55/150\n",
            "375/375 [==============================] - 2s 6ms/step - loss: 0.3167 - sparse_categorical_accuracy: 0.8803 - val_loss: 0.2978 - val_sparse_categorical_accuracy: 0.8929\n",
            "Epoch 56/150\n",
            "375/375 [==============================] - 2s 6ms/step - loss: 0.3132 - sparse_categorical_accuracy: 0.8813 - val_loss: 0.2928 - val_sparse_categorical_accuracy: 0.8921\n",
            "Epoch 57/150\n",
            "375/375 [==============================] - 2s 6ms/step - loss: 0.3153 - sparse_categorical_accuracy: 0.8812 - val_loss: 0.2934 - val_sparse_categorical_accuracy: 0.8895\n",
            "Epoch 58/150\n",
            "375/375 [==============================] - 3s 7ms/step - loss: 0.3126 - sparse_categorical_accuracy: 0.8819 - val_loss: 0.3011 - val_sparse_categorical_accuracy: 0.8922\n",
            "Epoch 59/150\n",
            "375/375 [==============================] - 2s 6ms/step - loss: 0.3082 - sparse_categorical_accuracy: 0.8828 - val_loss: 0.2959 - val_sparse_categorical_accuracy: 0.8930\n",
            "Epoch 60/150\n",
            "375/375 [==============================] - 2s 6ms/step - loss: 0.3127 - sparse_categorical_accuracy: 0.8820 - val_loss: 0.2891 - val_sparse_categorical_accuracy: 0.8949\n",
            "Epoch 61/150\n",
            "375/375 [==============================] - 2s 6ms/step - loss: 0.3121 - sparse_categorical_accuracy: 0.8812 - val_loss: 0.2957 - val_sparse_categorical_accuracy: 0.8923\n",
            "Epoch 62/150\n",
            "375/375 [==============================] - 2s 6ms/step - loss: 0.3103 - sparse_categorical_accuracy: 0.8824 - val_loss: 0.2872 - val_sparse_categorical_accuracy: 0.8948\n",
            "Epoch 63/150\n",
            "375/375 [==============================] - 3s 7ms/step - loss: 0.3111 - sparse_categorical_accuracy: 0.8810 - val_loss: 0.2871 - val_sparse_categorical_accuracy: 0.8950\n",
            "Epoch 64/150\n",
            "375/375 [==============================] - 2s 6ms/step - loss: 0.3089 - sparse_categorical_accuracy: 0.8832 - val_loss: 0.2929 - val_sparse_categorical_accuracy: 0.8916\n",
            "Epoch 65/150\n",
            "375/375 [==============================] - 2s 6ms/step - loss: 0.3114 - sparse_categorical_accuracy: 0.8815 - val_loss: 0.2932 - val_sparse_categorical_accuracy: 0.8944\n",
            "Epoch 66/150\n",
            "375/375 [==============================] - 2s 6ms/step - loss: 0.3119 - sparse_categorical_accuracy: 0.8824 - val_loss: 0.2914 - val_sparse_categorical_accuracy: 0.8952\n",
            "Epoch 67/150\n",
            "375/375 [==============================] - 2s 6ms/step - loss: 0.3143 - sparse_categorical_accuracy: 0.8825 - val_loss: 0.2927 - val_sparse_categorical_accuracy: 0.8920\n",
            "Epoch 68/150\n",
            "375/375 [==============================] - 3s 7ms/step - loss: 0.3095 - sparse_categorical_accuracy: 0.8828 - val_loss: 0.2921 - val_sparse_categorical_accuracy: 0.8923\n",
            "Epoch 69/150\n",
            "375/375 [==============================] - 2s 6ms/step - loss: 0.3091 - sparse_categorical_accuracy: 0.8826 - val_loss: 0.2935 - val_sparse_categorical_accuracy: 0.8957\n",
            "Epoch 70/150\n",
            "375/375 [==============================] - 2s 6ms/step - loss: 0.3093 - sparse_categorical_accuracy: 0.8816 - val_loss: 0.2928 - val_sparse_categorical_accuracy: 0.8949\n",
            "Epoch 71/150\n",
            "375/375 [==============================] - 2s 6ms/step - loss: 0.3071 - sparse_categorical_accuracy: 0.8846 - val_loss: 0.2895 - val_sparse_categorical_accuracy: 0.8948\n",
            "Epoch 72/150\n",
            "375/375 [==============================] - 2s 6ms/step - loss: 0.3082 - sparse_categorical_accuracy: 0.8830 - val_loss: 0.2920 - val_sparse_categorical_accuracy: 0.8951\n",
            "Epoch 73/150\n",
            "375/375 [==============================] - 3s 7ms/step - loss: 0.3046 - sparse_categorical_accuracy: 0.8839 - val_loss: 0.2926 - val_sparse_categorical_accuracy: 0.8933\n",
            "Epoch 74/150\n",
            "375/375 [==============================] - 2s 6ms/step - loss: 0.3052 - sparse_categorical_accuracy: 0.8835 - val_loss: 0.2864 - val_sparse_categorical_accuracy: 0.8950\n",
            "Epoch 75/150\n",
            "375/375 [==============================] - 2s 6ms/step - loss: 0.3033 - sparse_categorical_accuracy: 0.8838 - val_loss: 0.2906 - val_sparse_categorical_accuracy: 0.8960\n",
            "Epoch 76/150\n",
            "375/375 [==============================] - 2s 6ms/step - loss: 0.3038 - sparse_categorical_accuracy: 0.8851 - val_loss: 0.2959 - val_sparse_categorical_accuracy: 0.8953\n",
            "Epoch 77/150\n",
            "375/375 [==============================] - 2s 6ms/step - loss: 0.3067 - sparse_categorical_accuracy: 0.8829 - val_loss: 0.2909 - val_sparse_categorical_accuracy: 0.8948\n",
            "Epoch 78/150\n",
            "375/375 [==============================] - 3s 7ms/step - loss: 0.3024 - sparse_categorical_accuracy: 0.8856 - val_loss: 0.2896 - val_sparse_categorical_accuracy: 0.8977\n",
            "Epoch 79/150\n",
            "375/375 [==============================] - 2s 6ms/step - loss: 0.3025 - sparse_categorical_accuracy: 0.8848 - val_loss: 0.2880 - val_sparse_categorical_accuracy: 0.8949\n",
            "Epoch 80/150\n",
            "375/375 [==============================] - 2s 6ms/step - loss: 0.3047 - sparse_categorical_accuracy: 0.8848 - val_loss: 0.2935 - val_sparse_categorical_accuracy: 0.8934\n",
            "Epoch 81/150\n",
            "375/375 [==============================] - 2s 6ms/step - loss: 0.3015 - sparse_categorical_accuracy: 0.8862 - val_loss: 0.2879 - val_sparse_categorical_accuracy: 0.8957\n",
            "Epoch 82/150\n",
            "375/375 [==============================] - 2s 6ms/step - loss: 0.2998 - sparse_categorical_accuracy: 0.8865 - val_loss: 0.2918 - val_sparse_categorical_accuracy: 0.8948\n",
            "Epoch 83/150\n",
            "375/375 [==============================] - 3s 7ms/step - loss: 0.2998 - sparse_categorical_accuracy: 0.8856 - val_loss: 0.2906 - val_sparse_categorical_accuracy: 0.8974\n",
            "Epoch 84/150\n",
            "375/375 [==============================] - 2s 6ms/step - loss: 0.3052 - sparse_categorical_accuracy: 0.8842 - val_loss: 0.2898 - val_sparse_categorical_accuracy: 0.8963\n",
            "Epoch 85/150\n",
            "375/375 [==============================] - 2s 6ms/step - loss: 0.3021 - sparse_categorical_accuracy: 0.8857 - val_loss: 0.2926 - val_sparse_categorical_accuracy: 0.8946\n",
            "Epoch 86/150\n",
            "375/375 [==============================] - 2s 6ms/step - loss: 0.2984 - sparse_categorical_accuracy: 0.8880 - val_loss: 0.2945 - val_sparse_categorical_accuracy: 0.8943\n",
            "Epoch 87/150\n",
            "375/375 [==============================] - 2s 6ms/step - loss: 0.3002 - sparse_categorical_accuracy: 0.8865 - val_loss: 0.2946 - val_sparse_categorical_accuracy: 0.8939\n",
            "Epoch 88/150\n",
            "375/375 [==============================] - 3s 7ms/step - loss: 0.2970 - sparse_categorical_accuracy: 0.8862 - val_loss: 0.2906 - val_sparse_categorical_accuracy: 0.8964\n",
            "Epoch 89/150\n",
            "375/375 [==============================] - 2s 6ms/step - loss: 0.2988 - sparse_categorical_accuracy: 0.8855 - val_loss: 0.2867 - val_sparse_categorical_accuracy: 0.8953\n",
            "Epoch 90/150\n",
            "375/375 [==============================] - 2s 6ms/step - loss: 0.2983 - sparse_categorical_accuracy: 0.8866 - val_loss: 0.2905 - val_sparse_categorical_accuracy: 0.8942\n",
            "Epoch 91/150\n",
            "375/375 [==============================] - 2s 6ms/step - loss: 0.2975 - sparse_categorical_accuracy: 0.8867 - val_loss: 0.2842 - val_sparse_categorical_accuracy: 0.8958\n",
            "Epoch 92/150\n",
            "375/375 [==============================] - 2s 6ms/step - loss: 0.2958 - sparse_categorical_accuracy: 0.8887 - val_loss: 0.2877 - val_sparse_categorical_accuracy: 0.8941\n",
            "Epoch 93/150\n",
            "375/375 [==============================] - 2s 7ms/step - loss: 0.2958 - sparse_categorical_accuracy: 0.8868 - val_loss: 0.2892 - val_sparse_categorical_accuracy: 0.8960\n",
            "Epoch 94/150\n",
            "375/375 [==============================] - 2s 7ms/step - loss: 0.2934 - sparse_categorical_accuracy: 0.8887 - val_loss: 0.2932 - val_sparse_categorical_accuracy: 0.8950\n",
            "Epoch 95/150\n",
            "375/375 [==============================] - 2s 6ms/step - loss: 0.2944 - sparse_categorical_accuracy: 0.8882 - val_loss: 0.2844 - val_sparse_categorical_accuracy: 0.8961\n",
            "Epoch 96/150\n",
            "375/375 [==============================] - 2s 6ms/step - loss: 0.2979 - sparse_categorical_accuracy: 0.8881 - val_loss: 0.2862 - val_sparse_categorical_accuracy: 0.8997\n",
            "Epoch 97/150\n",
            "375/375 [==============================] - 2s 6ms/step - loss: 0.2956 - sparse_categorical_accuracy: 0.8878 - val_loss: 0.2862 - val_sparse_categorical_accuracy: 0.8962\n",
            "Epoch 98/150\n",
            "375/375 [==============================] - 2s 6ms/step - loss: 0.2962 - sparse_categorical_accuracy: 0.8873 - val_loss: 0.2869 - val_sparse_categorical_accuracy: 0.8985\n",
            "Epoch 99/150\n",
            "375/375 [==============================] - 3s 7ms/step - loss: 0.2971 - sparse_categorical_accuracy: 0.8870 - val_loss: 0.2871 - val_sparse_categorical_accuracy: 0.8980\n",
            "Epoch 100/150\n",
            "375/375 [==============================] - 2s 6ms/step - loss: 0.2939 - sparse_categorical_accuracy: 0.8889 - val_loss: 0.2912 - val_sparse_categorical_accuracy: 0.8978\n",
            "Epoch 101/150\n",
            "375/375 [==============================] - 2s 6ms/step - loss: 0.2939 - sparse_categorical_accuracy: 0.8881 - val_loss: 0.2866 - val_sparse_categorical_accuracy: 0.8987\n",
            "Epoch 102/150\n",
            "375/375 [==============================] - 2s 6ms/step - loss: 0.2949 - sparse_categorical_accuracy: 0.8872 - val_loss: 0.2926 - val_sparse_categorical_accuracy: 0.8975\n",
            "Epoch 103/150\n",
            "375/375 [==============================] - 2s 7ms/step - loss: 0.2950 - sparse_categorical_accuracy: 0.8875 - val_loss: 0.2883 - val_sparse_categorical_accuracy: 0.8969\n",
            "Epoch 104/150\n",
            "375/375 [==============================] - 2s 7ms/step - loss: 0.2937 - sparse_categorical_accuracy: 0.8895 - val_loss: 0.2884 - val_sparse_categorical_accuracy: 0.8955\n",
            "Epoch 105/150\n",
            "375/375 [==============================] - 2s 6ms/step - loss: 0.2925 - sparse_categorical_accuracy: 0.8881 - val_loss: 0.2949 - val_sparse_categorical_accuracy: 0.8957\n",
            "Epoch 106/150\n",
            "375/375 [==============================] - 2s 6ms/step - loss: 0.2908 - sparse_categorical_accuracy: 0.8901 - val_loss: 0.2879 - val_sparse_categorical_accuracy: 0.8945\n",
            "Epoch 107/150\n",
            "375/375 [==============================] - 2s 6ms/step - loss: 0.2922 - sparse_categorical_accuracy: 0.8892 - val_loss: 0.2899 - val_sparse_categorical_accuracy: 0.8972\n",
            "Epoch 108/150\n",
            "375/375 [==============================] - 2s 7ms/step - loss: 0.2927 - sparse_categorical_accuracy: 0.8882 - val_loss: 0.2915 - val_sparse_categorical_accuracy: 0.8960\n",
            "Epoch 109/150\n",
            "375/375 [==============================] - 3s 7ms/step - loss: 0.2908 - sparse_categorical_accuracy: 0.8893 - val_loss: 0.2884 - val_sparse_categorical_accuracy: 0.8971\n",
            "Epoch 110/150\n",
            "375/375 [==============================] - 2s 6ms/step - loss: 0.2946 - sparse_categorical_accuracy: 0.8885 - val_loss: 0.2912 - val_sparse_categorical_accuracy: 0.8978\n",
            "Epoch 111/150\n",
            "375/375 [==============================] - 2s 6ms/step - loss: 0.2912 - sparse_categorical_accuracy: 0.8898 - val_loss: 0.2892 - val_sparse_categorical_accuracy: 0.8972\n",
            "Epoch 112/150\n",
            "375/375 [==============================] - 2s 6ms/step - loss: 0.2878 - sparse_categorical_accuracy: 0.8923 - val_loss: 0.2941 - val_sparse_categorical_accuracy: 0.8960\n",
            "Epoch 113/150\n",
            "375/375 [==============================] - 2s 7ms/step - loss: 0.2929 - sparse_categorical_accuracy: 0.8899 - val_loss: 0.2865 - val_sparse_categorical_accuracy: 0.8977\n",
            "Epoch 114/150\n",
            "375/375 [==============================] - 3s 7ms/step - loss: 0.2910 - sparse_categorical_accuracy: 0.8906 - val_loss: 0.2828 - val_sparse_categorical_accuracy: 0.8980\n",
            "Epoch 115/150\n",
            "375/375 [==============================] - 2s 6ms/step - loss: 0.2918 - sparse_categorical_accuracy: 0.8896 - val_loss: 0.2857 - val_sparse_categorical_accuracy: 0.8979\n",
            "Epoch 116/150\n",
            "375/375 [==============================] - 2s 6ms/step - loss: 0.2889 - sparse_categorical_accuracy: 0.8904 - val_loss: 0.2865 - val_sparse_categorical_accuracy: 0.8979\n",
            "Epoch 117/150\n",
            "375/375 [==============================] - 2s 6ms/step - loss: 0.2860 - sparse_categorical_accuracy: 0.8914 - val_loss: 0.2872 - val_sparse_categorical_accuracy: 0.8992\n",
            "Epoch 118/150\n",
            "375/375 [==============================] - 2s 7ms/step - loss: 0.2898 - sparse_categorical_accuracy: 0.8887 - val_loss: 0.2827 - val_sparse_categorical_accuracy: 0.8986\n",
            "Epoch 119/150\n",
            "375/375 [==============================] - 2s 6ms/step - loss: 0.2878 - sparse_categorical_accuracy: 0.8897 - val_loss: 0.2839 - val_sparse_categorical_accuracy: 0.9011\n",
            "Epoch 120/150\n",
            "375/375 [==============================] - 2s 6ms/step - loss: 0.2903 - sparse_categorical_accuracy: 0.8892 - val_loss: 0.2817 - val_sparse_categorical_accuracy: 0.8992\n",
            "Epoch 121/150\n",
            "375/375 [==============================] - 2s 6ms/step - loss: 0.2917 - sparse_categorical_accuracy: 0.8896 - val_loss: 0.2838 - val_sparse_categorical_accuracy: 0.8990\n",
            "Epoch 122/150\n",
            "375/375 [==============================] - 2s 6ms/step - loss: 0.2886 - sparse_categorical_accuracy: 0.8898 - val_loss: 0.2850 - val_sparse_categorical_accuracy: 0.8983\n",
            "Epoch 123/150\n",
            "375/375 [==============================] - 2s 7ms/step - loss: 0.2900 - sparse_categorical_accuracy: 0.8906 - val_loss: 0.2873 - val_sparse_categorical_accuracy: 0.8992\n",
            "Epoch 124/150\n",
            "375/375 [==============================] - 3s 7ms/step - loss: 0.2915 - sparse_categorical_accuracy: 0.8901 - val_loss: 0.2840 - val_sparse_categorical_accuracy: 0.8981\n",
            "Epoch 125/150\n",
            "375/375 [==============================] - 2s 6ms/step - loss: 0.2877 - sparse_categorical_accuracy: 0.8906 - val_loss: 0.2886 - val_sparse_categorical_accuracy: 0.8988\n",
            "Epoch 126/150\n",
            "375/375 [==============================] - 2s 6ms/step - loss: 0.2847 - sparse_categorical_accuracy: 0.8902 - val_loss: 0.2897 - val_sparse_categorical_accuracy: 0.8980\n",
            "Epoch 127/150\n",
            "375/375 [==============================] - 2s 6ms/step - loss: 0.2887 - sparse_categorical_accuracy: 0.8920 - val_loss: 0.2845 - val_sparse_categorical_accuracy: 0.8984\n",
            "Epoch 128/150\n",
            "375/375 [==============================] - 3s 7ms/step - loss: 0.2851 - sparse_categorical_accuracy: 0.8930 - val_loss: 0.2864 - val_sparse_categorical_accuracy: 0.9000\n",
            "Epoch 129/150\n",
            "375/375 [==============================] - 3s 7ms/step - loss: 0.2892 - sparse_categorical_accuracy: 0.8913 - val_loss: 0.2826 - val_sparse_categorical_accuracy: 0.9001\n",
            "Epoch 130/150\n",
            "375/375 [==============================] - 2s 6ms/step - loss: 0.2898 - sparse_categorical_accuracy: 0.8895 - val_loss: 0.2843 - val_sparse_categorical_accuracy: 0.8974\n",
            "Epoch 131/150\n",
            "375/375 [==============================] - 2s 6ms/step - loss: 0.2862 - sparse_categorical_accuracy: 0.8921 - val_loss: 0.2815 - val_sparse_categorical_accuracy: 0.8988\n",
            "Epoch 132/150\n",
            "375/375 [==============================] - 2s 6ms/step - loss: 0.2859 - sparse_categorical_accuracy: 0.8921 - val_loss: 0.2877 - val_sparse_categorical_accuracy: 0.8971\n",
            "Epoch 133/150\n",
            "375/375 [==============================] - 2s 6ms/step - loss: 0.2848 - sparse_categorical_accuracy: 0.8915 - val_loss: 0.2845 - val_sparse_categorical_accuracy: 0.8967\n",
            "Epoch 134/150\n",
            "375/375 [==============================] - 3s 7ms/step - loss: 0.2824 - sparse_categorical_accuracy: 0.8919 - val_loss: 0.2857 - val_sparse_categorical_accuracy: 0.8975\n",
            "Epoch 135/150\n",
            "375/375 [==============================] - 2s 6ms/step - loss: 0.2871 - sparse_categorical_accuracy: 0.8913 - val_loss: 0.2884 - val_sparse_categorical_accuracy: 0.8983\n",
            "Epoch 136/150\n",
            "375/375 [==============================] - 2s 6ms/step - loss: 0.2831 - sparse_categorical_accuracy: 0.8917 - val_loss: 0.2833 - val_sparse_categorical_accuracy: 0.8992\n",
            "Epoch 137/150\n",
            "375/375 [==============================] - 2s 6ms/step - loss: 0.2836 - sparse_categorical_accuracy: 0.8924 - val_loss: 0.2836 - val_sparse_categorical_accuracy: 0.9005\n",
            "Epoch 138/150\n",
            "375/375 [==============================] - 2s 7ms/step - loss: 0.2844 - sparse_categorical_accuracy: 0.8921 - val_loss: 0.2848 - val_sparse_categorical_accuracy: 0.9002\n",
            "Epoch 139/150\n",
            "375/375 [==============================] - 3s 7ms/step - loss: 0.2826 - sparse_categorical_accuracy: 0.8922 - val_loss: 0.2892 - val_sparse_categorical_accuracy: 0.8972\n",
            "Epoch 140/150\n",
            "375/375 [==============================] - 2s 6ms/step - loss: 0.2881 - sparse_categorical_accuracy: 0.8893 - val_loss: 0.2814 - val_sparse_categorical_accuracy: 0.9011\n",
            "Epoch 141/150\n",
            "375/375 [==============================] - 2s 6ms/step - loss: 0.2833 - sparse_categorical_accuracy: 0.8942 - val_loss: 0.2825 - val_sparse_categorical_accuracy: 0.8995\n",
            "Epoch 142/150\n",
            "375/375 [==============================] - 2s 6ms/step - loss: 0.2858 - sparse_categorical_accuracy: 0.8915 - val_loss: 0.2771 - val_sparse_categorical_accuracy: 0.9014\n",
            "Epoch 143/150\n",
            "375/375 [==============================] - 2s 6ms/step - loss: 0.2827 - sparse_categorical_accuracy: 0.8925 - val_loss: 0.2797 - val_sparse_categorical_accuracy: 0.8975\n",
            "Epoch 144/150\n",
            "375/375 [==============================] - 2s 6ms/step - loss: 0.2819 - sparse_categorical_accuracy: 0.8931 - val_loss: 0.2785 - val_sparse_categorical_accuracy: 0.8969\n",
            "Epoch 145/150\n",
            "375/375 [==============================] - 2s 6ms/step - loss: 0.2841 - sparse_categorical_accuracy: 0.8920 - val_loss: 0.2831 - val_sparse_categorical_accuracy: 0.9002\n",
            "Epoch 146/150\n",
            "375/375 [==============================] - 2s 6ms/step - loss: 0.2855 - sparse_categorical_accuracy: 0.8912 - val_loss: 0.2835 - val_sparse_categorical_accuracy: 0.8989\n",
            "Epoch 147/150\n",
            "375/375 [==============================] - 2s 6ms/step - loss: 0.2821 - sparse_categorical_accuracy: 0.8932 - val_loss: 0.2832 - val_sparse_categorical_accuracy: 0.8997\n",
            "Epoch 148/150\n",
            "375/375 [==============================] - 2s 6ms/step - loss: 0.2836 - sparse_categorical_accuracy: 0.8908 - val_loss: 0.2833 - val_sparse_categorical_accuracy: 0.8988\n",
            "Epoch 149/150\n",
            "375/375 [==============================] - 3s 7ms/step - loss: 0.2838 - sparse_categorical_accuracy: 0.8921 - val_loss: 0.2833 - val_sparse_categorical_accuracy: 0.8985\n",
            "Epoch 150/150\n",
            "375/375 [==============================] - 2s 6ms/step - loss: 0.2839 - sparse_categorical_accuracy: 0.8935 - val_loss: 0.2799 - val_sparse_categorical_accuracy: 0.8988\n",
            "313/313 [==============================] - 1s 2ms/step - loss: 0.3118 - sparse_categorical_accuracy: 0.8902\n",
            "\n",
            "Test accuracy: 0.8902000188827515\n"
          ]
        }
      ]
    },
    {
      "cell_type": "code",
      "source": [
        "print('\\nhistory dict:', list(history.history.keys()))"
      ],
      "metadata": {
        "id": "CxRE-B_Q6Sii",
        "colab": {
          "base_uri": "https://localhost:8080/"
        },
        "outputId": "5a6e95d8-3b45-4fdc-b9cf-0dbbb7469776"
      },
      "execution_count": 36,
      "outputs": [
        {
          "output_type": "stream",
          "name": "stdout",
          "text": [
            "\n",
            "history dict: ['loss', 'sparse_categorical_accuracy', 'val_loss', 'val_sparse_categorical_accuracy']\n"
          ]
        }
      ]
    },
    {
      "cell_type": "code",
      "source": [
        "result = model.evaluate(x_test, y_test)\n",
        "print(result)"
      ],
      "metadata": {
        "id": "YXpwRRTvTBNg",
        "colab": {
          "base_uri": "https://localhost:8080/"
        },
        "outputId": "ecd00351-fdc6-4108-957a-d0763464385f"
      },
      "execution_count": 37,
      "outputs": [
        {
          "output_type": "stream",
          "name": "stdout",
          "text": [
            "313/313 [==============================] - 1s 2ms/step - loss: 0.3118 - sparse_categorical_accuracy: 0.8902\n",
            "[0.31176042556762695, 0.8902000188827515]\n"
          ]
        }
      ]
    },
    {
      "cell_type": "code",
      "source": [
        "saved_model = load_model('best_model.h5')\n",
        "result = saved_model.evaluate(x_test, y_test)\n",
        "print(result)"
      ],
      "metadata": {
        "colab": {
          "base_uri": "https://localhost:8080/"
        },
        "id": "dpaZAW0vp1AZ",
        "outputId": "c5fe70a5-038d-49e0-c9e2-9fceb204c7ba"
      },
      "execution_count": 38,
      "outputs": [
        {
          "output_type": "stream",
          "name": "stdout",
          "text": [
            "313/313 [==============================] - 1s 2ms/step - loss: 0.3082 - sparse_categorical_accuracy: 0.8925\n",
            "[0.3082434833049774, 0.8924999833106995]\n"
          ]
        }
      ]
    },
    {
      "cell_type": "code",
      "source": [
        "# from keras.models import load_model\n",
        "# saved_model = load_model('best_model.h5')\n",
        "# # _, train_acc = saved_model.evaluate(x_train, y_train, verbose=0)\n",
        "# _, test_acc = saved_model.evaluate(x_test, y_test, verbose=0)\n",
        "# print('Test: %.3f' % (test_acc))"
      ],
      "metadata": {
        "id": "DR_MS9DABo_K"
      },
      "execution_count": 39,
      "outputs": []
    },
    {
      "cell_type": "code",
      "source": [
        "history_dict = history.history\n",
        "loss_values = history_dict['loss']\n",
        "val_loss_values = history_dict['val_loss']\n",
        "\n",
        "epochs = range(1, len(history_dict['loss']) + 1)\n",
        "\n",
        "plt.figure(figsize=(10, 5))\n",
        "plt.plot(epochs, loss_values, 'bo', label='Training loss')\n",
        "plt.plot(epochs, val_loss_values, 'r', label='Validation loss')\n",
        "# plt.ylim (0.2, 0.5)\n",
        "plt.title('Training and validation loss')\n",
        "plt.xlabel('Epochs')\n",
        "plt.ylabel('Loss')\n",
        "# plt.legend()\n",
        "plt.grid(True)\n",
        "plt.show()\n",
        "1\n",
        "plt.clf()\n",
        "plt.figure(figsize=(10, 5))\n",
        "val_acc_values = history_dict['sparse_categorical_accuracy']\n",
        "plt.plot(epochs, history_dict['sparse_categorical_accuracy'], 'bo', label='Training acc')\n",
        "plt.plot(epochs, history_dict['val_sparse_categorical_accuracy'], 'r', label='Validation acc')\n",
        "plt.ylim (0.88, 0.94)\n",
        "plt.title('Training and validation accuracy')\n",
        "plt.xlabel('Epochs')\n",
        "plt.ylabel('Accuracy')\n",
        "plt.legend()\n",
        "plt.grid(True)"
      ],
      "metadata": {
        "id": "2Ll_5sGlXKMH",
        "colab": {
          "base_uri": "https://localhost:8080/",
          "height": 975
        },
        "outputId": "cab9e2b3-e80e-432a-8cd5-8fe1d6097a28"
      },
      "execution_count": 40,
      "outputs": [
        {
          "output_type": "display_data",
          "data": {
            "text/plain": [
              "<Figure size 1000x500 with 1 Axes>"
            ],
            "image/png": "[encoded data removed]"
          },
          "metadata": {}
        },
        {
          "output_type": "display_data",
          "data": {
            "text/plain": [
              "<Figure size 640x480 with 0 Axes>"
            ]
          },
          "metadata": {}
        },
        {
          "output_type": "display_data",
          "data": {
            "text/plain": [
              "<Figure size 1000x500 with 1 Axes>"
            ],
            "image/png": "[encoded data removed]"
          },
          "metadata": {}
        }
      ]
    },
    {
      "cell_type": "code",
      "source": [
        "probability_model = tf.keras.Sequential([model,\n",
        "                                         tf.keras.layers.Softmax()])"
      ],
      "metadata": {
        "id": "VzOdKAT_uV-f"
      },
      "execution_count": 41,
      "outputs": []
    },
    {
      "cell_type": "code",
      "source": [
        "predictions = probability_model.predict(x_test)"
      ],
      "metadata": {
        "id": "f4is3NFruYom",
        "colab": {
          "base_uri": "https://localhost:8080/"
        },
        "outputId": "b1ebca11-5897-4056-fadd-b524ded06201"
      },
      "execution_count": 42,
      "outputs": [
        {
          "output_type": "stream",
          "name": "stdout",
          "text": [
            "313/313 [==============================] - 1s 2ms/step\n"
          ]
        }
      ]
    },
    {
      "cell_type": "code",
      "source": [
        "predictions[0]"
      ],
      "metadata": {
        "id": "82cigvlZudz_",
        "colab": {
          "base_uri": "https://localhost:8080/"
        },
        "outputId": "d585f8f4-dfbe-41da-dcb3-dcca5f87290e"
      },
      "execution_count": 43,
      "outputs": [
        {
          "output_type": "execute_result",
          "data": {
            "text/plain": [
              "array([0.08561753, 0.08561753, 0.08561753, 0.08561753, 0.08561753,\n",
              "       0.08574039, 0.08561753, 0.08747649, 0.08561753, 0.22746041],\n",
              "      dtype=float32)"
            ]
          },
          "metadata": {},
          "execution_count": 43
        }
      ]
    },
    {
      "cell_type": "code",
      "source": [
        "model.summary()"
      ],
      "metadata": {
        "id": "6RsQPHyYuNGe",
        "colab": {
          "base_uri": "https://localhost:8080/"
        },
        "outputId": "84377d4e-0b4a-4ec8-b77e-d01ff730ab61"
      },
      "execution_count": 44,
      "outputs": [
        {
          "output_type": "stream",
          "name": "stdout",
          "text": [
            "Model: \"sequential_2\"\n",
            "_________________________________________________________________\n",
            " Layer (type)                Output Shape              Param #   \n",
            "=================================================================\n",
            " flatten_1 (Flatten)         (None, 784)               0         \n",
            "                                                                 \n",
            " dropout_4 (Dropout)         (None, 784)               0         \n",
            "                                                                 \n",
            " batch_normalization_3 (Bat  (None, 784)               3136      \n",
            " chNormalization)                                                \n",
            "                                                                 \n",
            " dense_4 (Dense)             (None, 256)               200960    \n",
            "                                                                 \n",
            " dropout_5 (Dropout)         (None, 256)               0         \n",
            "                                                                 \n",
            " batch_normalization_4 (Bat  (None, 256)               1024      \n",
            " chNormalization)                                                \n",
            "                                                                 \n",
            " dense_5 (Dense)             (None, 256)               65792     \n",
            "                                                                 \n",
            " dropout_6 (Dropout)         (None, 256)               0         \n",
            "                                                                 \n",
            " batch_normalization_5 (Bat  (None, 256)               1024      \n",
            " chNormalization)                                                \n",
            "                                                                 \n",
            " dense_6 (Dense)             (None, 512)               131584    \n",
            "                                                                 \n",
            " dropout_7 (Dropout)         (None, 512)               0         \n",
            "                                                                 \n",
            " dense_7 (Dense)             (None, 10)                5130      \n",
            "                                                                 \n",
            "=================================================================\n",
            "Total params: 408650 (1.56 MB)\n",
            "Trainable params: 406058 (1.55 MB)\n",
            "Non-trainable params: 2592 (10.12 KB)\n",
            "_________________________________________________________________\n"
          ]
        }
      ]
    }
  ]
}