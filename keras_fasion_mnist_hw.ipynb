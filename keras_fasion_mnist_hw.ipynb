{
  "nbformat": 4,
  "nbformat_minor": 0,
  "metadata": {
    "colab": {
      "provenance": [],
      "gpuType": "T4",
      "authorship_tag": "ABX9TyNWqeP85PBwEg78kv0CVTKj",
      "include_colab_link": true
    },
    "kernelspec": {
      "name": "python3",
      "display_name": "Python 3"
    },
    "language_info": {
      "name": "python"
    },
    "accelerator": "GPU"
  },
  "cells": [
    {
      "cell_type": "markdown",
      "metadata": {
        "id": "view-in-github",
        "colab_type": "text"
      },
      "source": [
        "<a href=\"https://colab.research.google.com/github/PavelStelmakhV/hw310-keras-fasion-mnist/blob/main/keras_fasion_mnist_hw.ipynb\" target=\"_parent\"><img src=\"https://colab.research.google.com/assets/colab-badge.svg\" alt=\"Open In Colab\"/></a>"
      ]
    },
    {
      "cell_type": "code",
      "source": [
        "import tensorflow as tf\n",
        "from tensorflow.python.client import device_lib\n",
        "print(device_lib.list_local_devices())"
      ],
      "metadata": {
        "colab": {
          "base_uri": "https://localhost:8080/"
        },
        "id": "CQL6wYJUms6Y",
        "outputId": "32adb46f-5f6b-477e-c690-735e4ea9a19a"
      },
      "execution_count": 201,
      "outputs": [
        {
          "output_type": "stream",
          "name": "stdout",
          "text": [
            "[name: \"/device:CPU:0\"\n",
            "device_type: \"CPU\"\n",
            "memory_limit: 268435456\n",
            "locality {\n",
            "}\n",
            "incarnation: 7427826091006073329\n",
            "xla_global_id: -1\n",
            "]\n"
          ]
        }
      ]
    },
    {
      "cell_type": "code",
      "execution_count": 202,
      "metadata": {
        "id": "vv7w0bgAVQPO"
      },
      "outputs": [],
      "source": [
        "import tensorflow as tf\n",
        "import numpy as np\n",
        "import matplotlib.pyplot as plt\n",
        "import tf_keras\n",
        "\n",
        "from keras import layers\n",
        "from keras import models\n",
        "from keras import regularizers\n",
        "from keras import callbacks\n",
        "from keras import initializers\n",
        "from keras.layers import BatchNormalization\n",
        "from keras.models import load_model"
      ]
    },
    {
      "cell_type": "code",
      "source": [
        "num_classes = 10"
      ],
      "metadata": {
        "id": "RvT1uYJsa5cn"
      },
      "execution_count": 203,
      "outputs": []
    },
    {
      "cell_type": "code",
      "source": [
        "fashion_mnist = tf.keras.datasets.fashion_mnist\n",
        "\n",
        "(x_train, y_train), (x_test, y_test) = fashion_mnist.load_data()"
      ],
      "metadata": {
        "id": "mOpywsNAzfGB"
      },
      "execution_count": 204,
      "outputs": []
    },
    {
      "cell_type": "code",
      "source": [
        "np.transpose(y_train).shape"
      ],
      "metadata": {
        "id": "djIFwQxwMvQR",
        "outputId": "44657ae7-dba9-492e-c626-c559e4aef235",
        "colab": {
          "base_uri": "https://localhost:8080/"
        }
      },
      "execution_count": 205,
      "outputs": [
        {
          "output_type": "execute_result",
          "data": {
            "text/plain": [
              "(60000,)"
            ]
          },
          "metadata": {},
          "execution_count": 205
        }
      ]
    },
    {
      "cell_type": "code",
      "source": [
        "y_train.shape"
      ],
      "metadata": {
        "id": "clHS88VQNR82",
        "outputId": "ace31702-d891-4f64-aeb2-959f2446b30c",
        "colab": {
          "base_uri": "https://localhost:8080/"
        }
      },
      "execution_count": 206,
      "outputs": [
        {
          "output_type": "execute_result",
          "data": {
            "text/plain": [
              "(60000,)"
            ]
          },
          "metadata": {},
          "execution_count": 206
        }
      ]
    },
    {
      "cell_type": "code",
      "source": [
        "def drow_hist(data):\n",
        "  plt.figure(figsize=(8,6), dpi= 80)\n",
        "  _ = plt.hist(data,\n",
        "              bins=num_classes,\n",
        "              stacked=True,\n",
        "              density=False,\n",
        "              range=(0,10),\n",
        "              rwidth=0.9,\n",
        "              )"
      ],
      "metadata": {
        "id": "NjEvuOvomEoT"
      },
      "execution_count": 207,
      "outputs": []
    },
    {
      "cell_type": "code",
      "source": [
        "# create validation data\n",
        "val_size = 10000\n",
        "\n",
        "x_val = x_train[-val_size:, :, :]\n",
        "x_train = x_train[:-val_size, :, :]\n",
        "\n",
        "y_val = y_train[-val_size:]\n",
        "y_train = y_train[:-val_size]"
      ],
      "metadata": {
        "id": "jAs92sDoVU89"
      },
      "execution_count": 208,
      "outputs": []
    },
    {
      "cell_type": "code",
      "source": [
        "# mirror train image\n",
        "x_train_add = np.rot90(x_train, k=1, axes=(1,2))\n",
        "x_train_add = np.transpose(x_train_add, (0, 2, 1))"
      ],
      "metadata": {
        "id": "UHNuw-3D_v7x"
      },
      "execution_count": 209,
      "outputs": []
    },
    {
      "cell_type": "code",
      "source": [
        "y_train_add = y_train.copy()"
      ],
      "metadata": {
        "id": "TNDXV8RfZbt1"
      },
      "execution_count": 210,
      "outputs": []
    },
    {
      "cell_type": "code",
      "source": [
        "# remove boots image from addition data [5, 7, 9]\n",
        "for i in [5, 7, 9]:\n",
        "    index = np.where(y_train_add == i )\n",
        "    x_train_add = np.delete(x_train_add, index , axis=0)\n",
        "    y_train_add = np.delete(y_train_add, index , axis=0)"
      ],
      "metadata": {
        "id": "506yp4e5UqKp"
      },
      "execution_count": 211,
      "outputs": []
    },
    {
      "cell_type": "code",
      "source": [
        "x_train_add.shape"
      ],
      "metadata": {
        "colab": {
          "base_uri": "https://localhost:8080/"
        },
        "id": "WB-PVgBb116E",
        "outputId": "f0055e19-9ec2-4c9e-95a0-9430ab090e14"
      },
      "execution_count": 212,
      "outputs": [
        {
          "output_type": "execute_result",
          "data": {
            "text/plain": [
              "(34972, 28, 28)"
            ]
          },
          "metadata": {},
          "execution_count": 212
        }
      ]
    },
    {
      "cell_type": "code",
      "source": [
        "y_train_add.shape"
      ],
      "metadata": {
        "colab": {
          "base_uri": "https://localhost:8080/"
        },
        "id": "MjteIWwr2V-N",
        "outputId": "5e301a38-abba-43d4-ab4c-edc0a4772f1b"
      },
      "execution_count": 213,
      "outputs": [
        {
          "output_type": "execute_result",
          "data": {
            "text/plain": [
              "(34972,)"
            ]
          },
          "metadata": {},
          "execution_count": 213
        }
      ]
    },
    {
      "cell_type": "code",
      "source": [
        "x_train = np.concatenate([\n",
        "    x_train,\n",
        "    x_train_add[:10000:, :, :]\n",
        "])"
      ],
      "metadata": {
        "id": "C25g0-L5PuhV"
      },
      "execution_count": 214,
      "outputs": []
    },
    {
      "cell_type": "code",
      "source": [
        "y_train = np.concatenate([\n",
        "    y_train,\n",
        "    y_train_add[:10000]\n",
        "])"
      ],
      "metadata": {
        "id": "JiyI9CE-RWnR"
      },
      "execution_count": 215,
      "outputs": []
    },
    {
      "cell_type": "code",
      "source": [
        "drow_hist(y_train)"
      ],
      "metadata": {
        "colab": {
          "base_uri": "https://localhost:8080/",
          "height": 420
        },
        "id": "j0FZ4_7DpRVw",
        "outputId": "51592306-0a61-4eae-ce1e-7715f53b2020"
      },
      "execution_count": 216,
      "outputs": [
        {
          "output_type": "display_data",
          "data": {
            "text/plain": [
              "<Figure size 640x480 with 1 Axes>"
            ],
            "image/png": "[encoded data removed]"
          },
          "metadata": {}
        }
      ]
    },
    {
      "cell_type": "code",
      "source": [
        "# plt.figure()\n",
        "# plt.imshow(x_train[7])\n",
        "# plt.colorbar()\n",
        "# plt.grid(False)\n",
        "# plt.show()"
      ],
      "metadata": {
        "id": "mq_QalIABCeU"
      },
      "execution_count": 217,
      "outputs": []
    },
    {
      "cell_type": "code",
      "source": [
        "# plt.figure()\n",
        "# plt.imshow(x_train_add[0])\n",
        "# plt.colorbar()\n",
        "# plt.grid(False)\n",
        "# plt.show()"
      ],
      "metadata": {
        "id": "CDLNL7Zw3HEc"
      },
      "execution_count": 218,
      "outputs": []
    },
    {
      "cell_type": "code",
      "source": [
        "x_train = x_train.astype('float32') / 255\n",
        "x_test = x_test.astype('float32') / 255\n",
        "\n",
        "y_train = y_train.astype('float32')\n",
        "y_test = y_test.astype('float32')\n",
        "\n",
        "x_val = x_val.astype('float32') / 255\n",
        "y_val = y_val.astype('float32')"
      ],
      "metadata": {
        "id": "t2gucjsJ0KUi"
      },
      "execution_count": 219,
      "outputs": []
    },
    {
      "cell_type": "code",
      "source": [
        "# class_names = ['T-shirt/top', 'Trouser', 'Pullover', 'Dress', 'Coat',\n",
        "#                'Sandal', 'Shirt', 'Sneaker', 'Bag', 'Ankle boot']\n",
        "\n",
        "# plt.figure(figsize=(10,10))\n",
        "# for i in range(25):\n",
        "#     plt.subplot(5,5,i+1)\n",
        "#     plt.xticks([])\n",
        "#     plt.yticks([])\n",
        "#     plt.grid(False)\n",
        "#     plt.imshow(x_train[i+50000], cmap=plt.cm.binary)\n",
        "#     plt.xlabel(class_names[int(y_train[i+50000])])\n",
        "# plt.show()"
      ],
      "metadata": {
        "id": "h4LveKxM4hyC"
      },
      "execution_count": 220,
      "outputs": []
    },
    {
      "cell_type": "code",
      "source": [
        "# plt.figure(figsize=(10,10))\n",
        "# for i in range(25):\n",
        "#     plt.subplot(5,5,i+1)\n",
        "#     plt.xticks([])\n",
        "#     plt.yticks([])\n",
        "#     plt.grid(False)\n",
        "#     plt.imshow(x_train[i], cmap=plt.cm.binary)\n",
        "#     plt.xlabel(class_names[int(y_train[i])])\n",
        "# plt.show()"
      ],
      "metadata": {
        "id": "hljEDYd55d8Q"
      },
      "execution_count": 221,
      "outputs": []
    },
    {
      "cell_type": "code",
      "source": [
        "w_init_tanh = initializers.glorot_normal(seed=111)\n",
        "w_init_relu = initializers.HeNormal(seed=66)\n",
        "# w_init_relu = initializers.HeUniform(seed=24)\n",
        "b_init = initializers.Zeros()"
      ],
      "metadata": {
        "id": "yL9QTEtBGy4N"
      },
      "execution_count": 222,
      "outputs": []
    },
    {
      "cell_type": "code",
      "source": [
        "drop_out = 0.27"
      ],
      "metadata": {
        "id": "flsDcVTnU10J"
      },
      "execution_count": 223,
      "outputs": []
    },
    {
      "cell_type": "code",
      "source": [
        "def layer_relu(model, neurons):\n",
        "  model.add(BatchNormalization())\n",
        "  model.add(layers.Dense(neurons,\n",
        "                       activation='relu',\n",
        "                       kernel_initializer=w_init_relu,\n",
        "                       bias_initializer=b_init))\n",
        "  model.add(layers.Dropout(drop_out))\n",
        "  return model"
      ],
      "metadata": {
        "id": "ZZgs_25rKBCp"
      },
      "execution_count": 224,
      "outputs": []
    },
    {
      "cell_type": "code",
      "source": [
        "def layer_tanh(model, neurons):\n",
        "  model.add(BatchNormalization())\n",
        "  model.add(layers.Dense(neurons,\n",
        "                        activation='tanh',\n",
        "                        kernel_initializer=w_init_tanh,\n",
        "                        bias_initializer=b_init))\n",
        "  model.add(layers.Dropout(drop_out))\n",
        "  return model"
      ],
      "metadata": {
        "id": "90JLLnkBR50t"
      },
      "execution_count": 225,
      "outputs": []
    },
    {
      "cell_type": "code",
      "source": [
        "model = models.Sequential()\n",
        "\n",
        "neurons = 256\n",
        "\n",
        "model.add(layers.Flatten(input_shape=(28, 28)))\n",
        "model.add(layers.Dropout(drop_out))\n",
        "\n",
        "model = layer_relu(model, neurons*1)\n",
        "model = layer_relu(model, neurons*2)\n",
        "model = layer_relu(model, neurons*2)\n",
        "# model = layer_relu(model, neurons*1)\n",
        "\n",
        "\n",
        "model.add(layers.Dense(10, activation='softmax'))"
      ],
      "metadata": {
        "id": "atS39i4d0aqW"
      },
      "execution_count": 226,
      "outputs": []
    },
    {
      "cell_type": "markdown",
      "source": [
        "++++++++++++++++++++++++++++++++++++++++++++++++++++++++++++++++++++++++++++++++"
      ],
      "metadata": {
        "id": "tZO7hl7pM63y"
      }
    },
    {
      "cell_type": "code",
      "source": [
        "optimizer = tf.keras.optimizers.Nadam(learning_rate=0.0003,\n",
        "                                      beta_1=0.9,\n",
        "                                      beta_2=0.999,\n",
        "                                      epsilon=1e-04\n",
        ")\n",
        "# optimizer = tf.keras.optimizers.experimental.RMSprop(learning_rate=0.0005,\n",
        "#                                                     rho=0.5,\n",
        "#                                                     momentum=-16,\n",
        "#                                                     epsilon=1e-07,\n",
        "#                                                     centered=False,\n",
        "#                                                     weight_decay=None,\n",
        "#                                                     clipnorm=None,\n",
        "#                                                     clipvalue=None,\n",
        "#                                                     global_clipnorm=None,\n",
        "#                                                     use_ema=False,\n",
        "#                                                     ema_momentum=0.99,\n",
        "#                                                     ema_overwrite_frequency=100,\n",
        "#                                                     jit_compile=True,\n",
        "#                                                     name='RMSprop',\n",
        "# )"
      ],
      "metadata": {
        "id": "EzfnaqIZlfy8"
      },
      "execution_count": 227,
      "outputs": []
    },
    {
      "cell_type": "markdown",
      "source": [
        "++++++++++++++++++++++++++++++++++++++++++++++++++++++++++++++++++++++++++++++++"
      ],
      "metadata": {
        "id": "KHmBptvOM95Z"
      }
    },
    {
      "cell_type": "code",
      "source": [
        "model.compile(#optimizer='adam',\n",
        "              # optimizer='adamax',\n",
        "              optimizer=optimizer,\n",
        "              # optimizer='rmsprop',\n",
        "              # optimizer='sgd',\n",
        "              # optimizer='adadelta',\n",
        "              # loss='binary_crossentropy',\n",
        "              loss=tf.keras.losses.SparseCategoricalCrossentropy(),\n",
        "              metrics=['sparse_categorical_accuracy']) # sparse_categorical_accuracy"
      ],
      "metadata": {
        "id": "hENVaAC7ilNY"
      },
      "execution_count": 228,
      "outputs": []
    },
    {
      "cell_type": "code",
      "source": [
        "# callback = callbacks.EarlyStopping(monitor='val_loss',\n",
        "#                                    patience=15,\n",
        "#                                    restore_best_weights=True,\n",
        "#                                    )\n",
        "es = callbacks.EarlyStopping(monitor='val_loss', mode='min', verbose=0, patience=15)\n",
        "mc = callbacks.ModelCheckpoint('best_model.h5', monitor='sparse_categorical_accuracy', mode='max', verbose=0, save_best_only=True)\n"
      ],
      "metadata": {
        "id": "5ihU4exVlsjm"
      },
      "execution_count": 229,
      "outputs": []
    },
    {
      "cell_type": "code",
      "source": [
        "history = model.fit(x_train, y_train,\n",
        "                    epochs=200,\n",
        "                    batch_size=128,\n",
        "                    # callbacks=[callback],\n",
        "                    callbacks=[mc, es],\n",
        "                    verbose=1, #многословие\n",
        "                    # validation_split=0.2\n",
        "                    validation_data=(x_val, y_val)\n",
        "                    )\n",
        "test_loss, test_acc = model.evaluate(x_test, y_test)\n",
        "print('\\nTest accuracy:', test_acc)"
      ],
      "metadata": {
        "id": "FH8HcMNm233I",
        "outputId": "bc8275ab-8b1d-437f-8f2a-6fef1a9143a7",
        "colab": {
          "base_uri": "https://localhost:8080/"
        }
      },
      "execution_count": 230,
      "outputs": [
        {
          "output_type": "stream",
          "name": "stdout",
          "text": [
            "Epoch 1/200\n",
            "469/469 [==============================] - 16s 28ms/step - loss: 0.9201 - sparse_categorical_accuracy: 0.6758 - val_loss: 0.4941 - val_sparse_categorical_accuracy: 0.8186\n",
            "Epoch 2/200\n",
            "469/469 [==============================] - 13s 27ms/step - loss: 0.6224 - sparse_categorical_accuracy: 0.7745 - val_loss: 0.4574 - val_sparse_categorical_accuracy: 0.8309\n",
            "Epoch 3/200\n",
            "469/469 [==============================] - 13s 27ms/step - loss: 0.5530 - sparse_categorical_accuracy: 0.7983 - val_loss: 0.4178 - val_sparse_categorical_accuracy: 0.8459\n",
            "Epoch 4/200\n",
            "469/469 [==============================] - 13s 28ms/step - loss: 0.5145 - sparse_categorical_accuracy: 0.8098 - val_loss: 0.4015 - val_sparse_categorical_accuracy: 0.8514\n",
            "Epoch 5/200\n",
            "469/469 [==============================] - 13s 27ms/step - loss: 0.4866 - sparse_categorical_accuracy: 0.8199 - val_loss: 0.3923 - val_sparse_categorical_accuracy: 0.8572\n",
            "Epoch 6/200\n",
            "469/469 [==============================] - 13s 27ms/step - loss: 0.4669 - sparse_categorical_accuracy: 0.8260 - val_loss: 0.3819 - val_sparse_categorical_accuracy: 0.8600\n",
            "Epoch 7/200\n",
            "469/469 [==============================] - 13s 27ms/step - loss: 0.4524 - sparse_categorical_accuracy: 0.8320 - val_loss: 0.3676 - val_sparse_categorical_accuracy: 0.8659\n",
            "Epoch 8/200\n",
            "469/469 [==============================] - 13s 27ms/step - loss: 0.4369 - sparse_categorical_accuracy: 0.8363 - val_loss: 0.3658 - val_sparse_categorical_accuracy: 0.8655\n",
            "Epoch 9/200\n",
            "469/469 [==============================] - 12s 27ms/step - loss: 0.4244 - sparse_categorical_accuracy: 0.8423 - val_loss: 0.3442 - val_sparse_categorical_accuracy: 0.8730\n",
            "Epoch 10/200\n",
            "469/469 [==============================] - 13s 27ms/step - loss: 0.4159 - sparse_categorical_accuracy: 0.8446 - val_loss: 0.3444 - val_sparse_categorical_accuracy: 0.8723\n",
            "Epoch 11/200\n",
            "469/469 [==============================] - 13s 27ms/step - loss: 0.4091 - sparse_categorical_accuracy: 0.8461 - val_loss: 0.3325 - val_sparse_categorical_accuracy: 0.8760\n",
            "Epoch 12/200\n",
            "469/469 [==============================] - 13s 28ms/step - loss: 0.4020 - sparse_categorical_accuracy: 0.8497 - val_loss: 0.3358 - val_sparse_categorical_accuracy: 0.8754\n",
            "Epoch 13/200\n",
            "469/469 [==============================] - 13s 27ms/step - loss: 0.3927 - sparse_categorical_accuracy: 0.8528 - val_loss: 0.3228 - val_sparse_categorical_accuracy: 0.8809\n",
            "Epoch 14/200\n",
            "469/469 [==============================] - 13s 28ms/step - loss: 0.3870 - sparse_categorical_accuracy: 0.8558 - val_loss: 0.3305 - val_sparse_categorical_accuracy: 0.8792\n",
            "Epoch 15/200\n",
            "469/469 [==============================] - 13s 27ms/step - loss: 0.3799 - sparse_categorical_accuracy: 0.8568 - val_loss: 0.3218 - val_sparse_categorical_accuracy: 0.8806\n",
            "Epoch 16/200\n",
            "469/469 [==============================] - 13s 28ms/step - loss: 0.3751 - sparse_categorical_accuracy: 0.8589 - val_loss: 0.3219 - val_sparse_categorical_accuracy: 0.8816\n",
            "Epoch 17/200\n",
            "469/469 [==============================] - 13s 28ms/step - loss: 0.3662 - sparse_categorical_accuracy: 0.8614 - val_loss: 0.3177 - val_sparse_categorical_accuracy: 0.8798\n",
            "Epoch 18/200\n",
            "469/469 [==============================] - 12s 26ms/step - loss: 0.3664 - sparse_categorical_accuracy: 0.8611 - val_loss: 0.3179 - val_sparse_categorical_accuracy: 0.8832\n",
            "Epoch 19/200\n",
            "469/469 [==============================] - 13s 27ms/step - loss: 0.3612 - sparse_categorical_accuracy: 0.8650 - val_loss: 0.3084 - val_sparse_categorical_accuracy: 0.8843\n",
            "Epoch 20/200\n",
            "469/469 [==============================] - 13s 28ms/step - loss: 0.3550 - sparse_categorical_accuracy: 0.8664 - val_loss: 0.3084 - val_sparse_categorical_accuracy: 0.8845\n",
            "Epoch 21/200\n",
            "469/469 [==============================] - 13s 27ms/step - loss: 0.3519 - sparse_categorical_accuracy: 0.8673 - val_loss: 0.3003 - val_sparse_categorical_accuracy: 0.8899\n",
            "Epoch 22/200\n",
            "469/469 [==============================] - 13s 28ms/step - loss: 0.3506 - sparse_categorical_accuracy: 0.8683 - val_loss: 0.3024 - val_sparse_categorical_accuracy: 0.8866\n",
            "Epoch 23/200\n",
            "469/469 [==============================] - 13s 28ms/step - loss: 0.3481 - sparse_categorical_accuracy: 0.8675 - val_loss: 0.3078 - val_sparse_categorical_accuracy: 0.8856\n",
            "Epoch 24/200\n",
            "469/469 [==============================] - 13s 27ms/step - loss: 0.3443 - sparse_categorical_accuracy: 0.8700 - val_loss: 0.3039 - val_sparse_categorical_accuracy: 0.8870\n",
            "Epoch 25/200\n",
            "469/469 [==============================] - 13s 27ms/step - loss: 0.3367 - sparse_categorical_accuracy: 0.8720 - val_loss: 0.3033 - val_sparse_categorical_accuracy: 0.8874\n",
            "Epoch 26/200\n",
            "469/469 [==============================] - 13s 28ms/step - loss: 0.3350 - sparse_categorical_accuracy: 0.8726 - val_loss: 0.2976 - val_sparse_categorical_accuracy: 0.8890\n",
            "Epoch 27/200\n",
            "469/469 [==============================] - 13s 27ms/step - loss: 0.3358 - sparse_categorical_accuracy: 0.8730 - val_loss: 0.2912 - val_sparse_categorical_accuracy: 0.8898\n",
            "Epoch 28/200\n",
            "469/469 [==============================] - 13s 28ms/step - loss: 0.3291 - sparse_categorical_accuracy: 0.8750 - val_loss: 0.2911 - val_sparse_categorical_accuracy: 0.8896\n",
            "Epoch 29/200\n",
            "469/469 [==============================] - 12s 27ms/step - loss: 0.3305 - sparse_categorical_accuracy: 0.8745 - val_loss: 0.2992 - val_sparse_categorical_accuracy: 0.8876\n",
            "Epoch 30/200\n",
            "469/469 [==============================] - 13s 28ms/step - loss: 0.3251 - sparse_categorical_accuracy: 0.8763 - val_loss: 0.2909 - val_sparse_categorical_accuracy: 0.8922\n",
            "Epoch 31/200\n",
            "469/469 [==============================] - 13s 28ms/step - loss: 0.3229 - sparse_categorical_accuracy: 0.8775 - val_loss: 0.2949 - val_sparse_categorical_accuracy: 0.8901\n",
            "Epoch 32/200\n",
            "469/469 [==============================] - 13s 28ms/step - loss: 0.3260 - sparse_categorical_accuracy: 0.8754 - val_loss: 0.2860 - val_sparse_categorical_accuracy: 0.8909\n",
            "Epoch 33/200\n",
            "469/469 [==============================] - 13s 27ms/step - loss: 0.3188 - sparse_categorical_accuracy: 0.8785 - val_loss: 0.2911 - val_sparse_categorical_accuracy: 0.8913\n",
            "Epoch 34/200\n",
            "469/469 [==============================] - 13s 27ms/step - loss: 0.3154 - sparse_categorical_accuracy: 0.8800 - val_loss: 0.2902 - val_sparse_categorical_accuracy: 0.8916\n",
            "Epoch 35/200\n",
            "469/469 [==============================] - 13s 27ms/step - loss: 0.3174 - sparse_categorical_accuracy: 0.8787 - val_loss: 0.2867 - val_sparse_categorical_accuracy: 0.8937\n",
            "Epoch 36/200\n",
            "469/469 [==============================] - 13s 28ms/step - loss: 0.3123 - sparse_categorical_accuracy: 0.8794 - val_loss: 0.2881 - val_sparse_categorical_accuracy: 0.8938\n",
            "Epoch 37/200\n",
            "469/469 [==============================] - 13s 27ms/step - loss: 0.3105 - sparse_categorical_accuracy: 0.8808 - val_loss: 0.2867 - val_sparse_categorical_accuracy: 0.8930\n",
            "Epoch 38/200\n",
            "469/469 [==============================] - 13s 28ms/step - loss: 0.3104 - sparse_categorical_accuracy: 0.8815 - val_loss: 0.2780 - val_sparse_categorical_accuracy: 0.8968\n",
            "Epoch 39/200\n",
            "469/469 [==============================] - 13s 27ms/step - loss: 0.3073 - sparse_categorical_accuracy: 0.8826 - val_loss: 0.2843 - val_sparse_categorical_accuracy: 0.8953\n",
            "Epoch 40/200\n",
            "469/469 [==============================] - 13s 28ms/step - loss: 0.3027 - sparse_categorical_accuracy: 0.8838 - val_loss: 0.2878 - val_sparse_categorical_accuracy: 0.8936\n",
            "Epoch 41/200\n",
            "469/469 [==============================] - 13s 28ms/step - loss: 0.3075 - sparse_categorical_accuracy: 0.8831 - val_loss: 0.2847 - val_sparse_categorical_accuracy: 0.8923\n",
            "Epoch 42/200\n",
            "469/469 [==============================] - 13s 28ms/step - loss: 0.3047 - sparse_categorical_accuracy: 0.8833 - val_loss: 0.2762 - val_sparse_categorical_accuracy: 0.8948\n",
            "Epoch 43/200\n",
            "469/469 [==============================] - 13s 27ms/step - loss: 0.3018 - sparse_categorical_accuracy: 0.8840 - val_loss: 0.2802 - val_sparse_categorical_accuracy: 0.8944\n",
            "Epoch 44/200\n",
            "469/469 [==============================] - 13s 27ms/step - loss: 0.3001 - sparse_categorical_accuracy: 0.8863 - val_loss: 0.2861 - val_sparse_categorical_accuracy: 0.8923\n",
            "Epoch 45/200\n",
            "469/469 [==============================] - 13s 28ms/step - loss: 0.2979 - sparse_categorical_accuracy: 0.8858 - val_loss: 0.2783 - val_sparse_categorical_accuracy: 0.8958\n",
            "Epoch 46/200\n",
            "469/469 [==============================] - 13s 27ms/step - loss: 0.2966 - sparse_categorical_accuracy: 0.8866 - val_loss: 0.2774 - val_sparse_categorical_accuracy: 0.8947\n",
            "Epoch 47/200\n",
            "469/469 [==============================] - 13s 28ms/step - loss: 0.2943 - sparse_categorical_accuracy: 0.8873 - val_loss: 0.2826 - val_sparse_categorical_accuracy: 0.8953\n",
            "Epoch 48/200\n",
            "469/469 [==============================] - 13s 27ms/step - loss: 0.2904 - sparse_categorical_accuracy: 0.8889 - val_loss: 0.2815 - val_sparse_categorical_accuracy: 0.8962\n",
            "Epoch 49/200\n",
            "469/469 [==============================] - 13s 28ms/step - loss: 0.2906 - sparse_categorical_accuracy: 0.8900 - val_loss: 0.2853 - val_sparse_categorical_accuracy: 0.8943\n",
            "Epoch 50/200\n",
            "469/469 [==============================] - 13s 28ms/step - loss: 0.2917 - sparse_categorical_accuracy: 0.8884 - val_loss: 0.2769 - val_sparse_categorical_accuracy: 0.8940\n",
            "Epoch 51/200\n",
            "469/469 [==============================] - 12s 27ms/step - loss: 0.2917 - sparse_categorical_accuracy: 0.8865 - val_loss: 0.2847 - val_sparse_categorical_accuracy: 0.8928\n",
            "Epoch 52/200\n",
            "469/469 [==============================] - 13s 27ms/step - loss: 0.2867 - sparse_categorical_accuracy: 0.8886 - val_loss: 0.2790 - val_sparse_categorical_accuracy: 0.8968\n",
            "Epoch 53/200\n",
            "469/469 [==============================] - 13s 28ms/step - loss: 0.2872 - sparse_categorical_accuracy: 0.8901 - val_loss: 0.2754 - val_sparse_categorical_accuracy: 0.8951\n",
            "Epoch 54/200\n",
            "469/469 [==============================] - 13s 27ms/step - loss: 0.2871 - sparse_categorical_accuracy: 0.8904 - val_loss: 0.2740 - val_sparse_categorical_accuracy: 0.8983\n",
            "Epoch 55/200\n",
            "469/469 [==============================] - 17s 37ms/step - loss: 0.2817 - sparse_categorical_accuracy: 0.8921 - val_loss: 0.2774 - val_sparse_categorical_accuracy: 0.8967\n",
            "Epoch 56/200\n",
            "469/469 [==============================] - 19s 41ms/step - loss: 0.2837 - sparse_categorical_accuracy: 0.8900 - val_loss: 0.2723 - val_sparse_categorical_accuracy: 0.8984\n",
            "Epoch 57/200\n",
            "469/469 [==============================] - 21s 46ms/step - loss: 0.2832 - sparse_categorical_accuracy: 0.8931 - val_loss: 0.2768 - val_sparse_categorical_accuracy: 0.8973\n",
            "Epoch 58/200\n",
            "469/469 [==============================] - 21s 45ms/step - loss: 0.2831 - sparse_categorical_accuracy: 0.8906 - val_loss: 0.2765 - val_sparse_categorical_accuracy: 0.8973\n",
            "Epoch 59/200\n",
            "469/469 [==============================] - 22s 46ms/step - loss: 0.2816 - sparse_categorical_accuracy: 0.8921 - val_loss: 0.2834 - val_sparse_categorical_accuracy: 0.8969\n",
            "Epoch 60/200\n",
            "469/469 [==============================] - 19s 41ms/step - loss: 0.2811 - sparse_categorical_accuracy: 0.8916 - val_loss: 0.2777 - val_sparse_categorical_accuracy: 0.8956\n",
            "Epoch 61/200\n",
            "469/469 [==============================] - 18s 39ms/step - loss: 0.2791 - sparse_categorical_accuracy: 0.8920 - val_loss: 0.2726 - val_sparse_categorical_accuracy: 0.8980\n",
            "Epoch 62/200\n",
            "469/469 [==============================] - 22s 46ms/step - loss: 0.2776 - sparse_categorical_accuracy: 0.8914 - val_loss: 0.2877 - val_sparse_categorical_accuracy: 0.8938\n",
            "Epoch 63/200\n",
            "469/469 [==============================] - 21s 44ms/step - loss: 0.2765 - sparse_categorical_accuracy: 0.8924 - val_loss: 0.2736 - val_sparse_categorical_accuracy: 0.8994\n",
            "Epoch 64/200\n",
            "469/469 [==============================] - 27s 57ms/step - loss: 0.2770 - sparse_categorical_accuracy: 0.8935 - val_loss: 0.2802 - val_sparse_categorical_accuracy: 0.8979\n",
            "Epoch 65/200\n",
            "469/469 [==============================] - 24s 52ms/step - loss: 0.2715 - sparse_categorical_accuracy: 0.8961 - val_loss: 0.2742 - val_sparse_categorical_accuracy: 0.8995\n",
            "Epoch 66/200\n",
            "469/469 [==============================] - 22s 47ms/step - loss: 0.2733 - sparse_categorical_accuracy: 0.8946 - val_loss: 0.2851 - val_sparse_categorical_accuracy: 0.8953\n",
            "Epoch 67/200\n",
            "469/469 [==============================] - 23s 50ms/step - loss: 0.2731 - sparse_categorical_accuracy: 0.8957 - val_loss: 0.2772 - val_sparse_categorical_accuracy: 0.8964\n",
            "Epoch 68/200\n",
            "469/469 [==============================] - 21s 44ms/step - loss: 0.2724 - sparse_categorical_accuracy: 0.8948 - val_loss: 0.2754 - val_sparse_categorical_accuracy: 0.8988\n",
            "Epoch 69/200\n",
            "469/469 [==============================] - 20s 43ms/step - loss: 0.2714 - sparse_categorical_accuracy: 0.8960 - val_loss: 0.2773 - val_sparse_categorical_accuracy: 0.8986\n",
            "Epoch 70/200\n",
            "469/469 [==============================] - 21s 45ms/step - loss: 0.2703 - sparse_categorical_accuracy: 0.8961 - val_loss: 0.2718 - val_sparse_categorical_accuracy: 0.9002\n",
            "Epoch 71/200\n",
            "469/469 [==============================] - 20s 44ms/step - loss: 0.2703 - sparse_categorical_accuracy: 0.8967 - val_loss: 0.2719 - val_sparse_categorical_accuracy: 0.9002\n",
            "Epoch 72/200\n",
            "469/469 [==============================] - 17s 36ms/step - loss: 0.2697 - sparse_categorical_accuracy: 0.8953 - val_loss: 0.2815 - val_sparse_categorical_accuracy: 0.8978\n",
            "Epoch 73/200\n",
            "469/469 [==============================] - 15s 33ms/step - loss: 0.2643 - sparse_categorical_accuracy: 0.8977 - val_loss: 0.2758 - val_sparse_categorical_accuracy: 0.8996\n",
            "Epoch 74/200\n",
            "469/469 [==============================] - 14s 29ms/step - loss: 0.2685 - sparse_categorical_accuracy: 0.8973 - val_loss: 0.2727 - val_sparse_categorical_accuracy: 0.9018\n",
            "Epoch 75/200\n",
            "469/469 [==============================] - 14s 29ms/step - loss: 0.2687 - sparse_categorical_accuracy: 0.8958 - val_loss: 0.2713 - val_sparse_categorical_accuracy: 0.9021\n",
            "Epoch 76/200\n",
            "469/469 [==============================] - 13s 28ms/step - loss: 0.2649 - sparse_categorical_accuracy: 0.8978 - val_loss: 0.2725 - val_sparse_categorical_accuracy: 0.9024\n",
            "Epoch 77/200\n",
            "469/469 [==============================] - 13s 29ms/step - loss: 0.2634 - sparse_categorical_accuracy: 0.8974 - val_loss: 0.2741 - val_sparse_categorical_accuracy: 0.9002\n",
            "Epoch 78/200\n",
            "469/469 [==============================] - 14s 29ms/step - loss: 0.2644 - sparse_categorical_accuracy: 0.8991 - val_loss: 0.2687 - val_sparse_categorical_accuracy: 0.9025\n",
            "Epoch 79/200\n",
            "469/469 [==============================] - 13s 28ms/step - loss: 0.2626 - sparse_categorical_accuracy: 0.8983 - val_loss: 0.2726 - val_sparse_categorical_accuracy: 0.9018\n",
            "Epoch 80/200\n",
            "469/469 [==============================] - 13s 28ms/step - loss: 0.2613 - sparse_categorical_accuracy: 0.8982 - val_loss: 0.2817 - val_sparse_categorical_accuracy: 0.8995\n",
            "Epoch 81/200\n",
            "469/469 [==============================] - 13s 28ms/step - loss: 0.2632 - sparse_categorical_accuracy: 0.8981 - val_loss: 0.2774 - val_sparse_categorical_accuracy: 0.9014\n",
            "Epoch 82/200\n",
            "469/469 [==============================] - 13s 28ms/step - loss: 0.2630 - sparse_categorical_accuracy: 0.8993 - val_loss: 0.2755 - val_sparse_categorical_accuracy: 0.9004\n",
            "Epoch 83/200\n",
            "469/469 [==============================] - 13s 28ms/step - loss: 0.2622 - sparse_categorical_accuracy: 0.9000 - val_loss: 0.2778 - val_sparse_categorical_accuracy: 0.9012\n",
            "Epoch 84/200\n",
            "469/469 [==============================] - 13s 28ms/step - loss: 0.2598 - sparse_categorical_accuracy: 0.9004 - val_loss: 0.2786 - val_sparse_categorical_accuracy: 0.8984\n",
            "Epoch 85/200\n",
            "469/469 [==============================] - 13s 28ms/step - loss: 0.2548 - sparse_categorical_accuracy: 0.9018 - val_loss: 0.2734 - val_sparse_categorical_accuracy: 0.9018\n",
            "Epoch 86/200\n",
            "469/469 [==============================] - 13s 28ms/step - loss: 0.2584 - sparse_categorical_accuracy: 0.8995 - val_loss: 0.2745 - val_sparse_categorical_accuracy: 0.9011\n",
            "Epoch 87/200\n",
            "469/469 [==============================] - 13s 27ms/step - loss: 0.2560 - sparse_categorical_accuracy: 0.9015 - val_loss: 0.2764 - val_sparse_categorical_accuracy: 0.8992\n",
            "Epoch 88/200\n",
            "469/469 [==============================] - 13s 28ms/step - loss: 0.2549 - sparse_categorical_accuracy: 0.9012 - val_loss: 0.2729 - val_sparse_categorical_accuracy: 0.8999\n",
            "Epoch 89/200\n",
            "469/469 [==============================] - 13s 28ms/step - loss: 0.2587 - sparse_categorical_accuracy: 0.9008 - val_loss: 0.2720 - val_sparse_categorical_accuracy: 0.9007\n",
            "Epoch 90/200\n",
            "469/469 [==============================] - 13s 27ms/step - loss: 0.2581 - sparse_categorical_accuracy: 0.9000 - val_loss: 0.2754 - val_sparse_categorical_accuracy: 0.9001\n",
            "Epoch 91/200\n",
            "469/469 [==============================] - 13s 27ms/step - loss: 0.2547 - sparse_categorical_accuracy: 0.9026 - val_loss: 0.2812 - val_sparse_categorical_accuracy: 0.8987\n",
            "Epoch 92/200\n",
            "469/469 [==============================] - 13s 27ms/step - loss: 0.2546 - sparse_categorical_accuracy: 0.9009 - val_loss: 0.2718 - val_sparse_categorical_accuracy: 0.9021\n",
            "Epoch 93/200\n",
            "469/469 [==============================] - 13s 28ms/step - loss: 0.2547 - sparse_categorical_accuracy: 0.9014 - val_loss: 0.2768 - val_sparse_categorical_accuracy: 0.9009\n",
            "313/313 [==============================] - 1s 4ms/step - loss: 0.2957 - sparse_categorical_accuracy: 0.8942\n",
            "\n",
            "Test accuracy: 0.8942000269889832\n"
          ]
        }
      ]
    },
    {
      "cell_type": "code",
      "source": [
        "print('\\nhistory dict:', list(history.history.keys()))"
      ],
      "metadata": {
        "id": "CxRE-B_Q6Sii",
        "colab": {
          "base_uri": "https://localhost:8080/"
        },
        "outputId": "59944b2f-040d-494a-c7f6-0bcdf0b4b42f"
      },
      "execution_count": 231,
      "outputs": [
        {
          "output_type": "stream",
          "name": "stdout",
          "text": [
            "\n",
            "history dict: ['loss', 'sparse_categorical_accuracy', 'val_loss', 'val_sparse_categorical_accuracy']\n"
          ]
        }
      ]
    },
    {
      "cell_type": "code",
      "source": [
        "result = model.evaluate(x_test, y_test)\n",
        "print(result)"
      ],
      "metadata": {
        "id": "YXpwRRTvTBNg",
        "colab": {
          "base_uri": "https://localhost:8080/"
        },
        "outputId": "93586d69-6cbb-4cc4-d5ae-975c07362ca9"
      },
      "execution_count": 232,
      "outputs": [
        {
          "output_type": "stream",
          "name": "stdout",
          "text": [
            "313/313 [==============================] - 1s 4ms/step - loss: 0.2957 - sparse_categorical_accuracy: 0.8942\n",
            "[0.29569315910339355, 0.8942000269889832]\n"
          ]
        }
      ]
    },
    {
      "cell_type": "code",
      "source": [
        "saved_model = load_model('best_model.h5')\n",
        "result = saved_model.evaluate(x_test, y_test)\n",
        "print(result)"
      ],
      "metadata": {
        "id": "dpaZAW0vp1AZ",
        "colab": {
          "base_uri": "https://localhost:8080/"
        },
        "outputId": "3c9e16bf-a794-4068-876e-4979ed9e3d25"
      },
      "execution_count": 233,
      "outputs": [
        {
          "output_type": "stream",
          "name": "stdout",
          "text": [
            "313/313 [==============================] - 1s 3ms/step - loss: 0.2983 - sparse_categorical_accuracy: 0.8943\n",
            "[0.2983125150203705, 0.8942999839782715]\n"
          ]
        }
      ]
    },
    {
      "cell_type": "code",
      "source": [
        "# from keras.models import load_model\n",
        "# saved_model = load_model('best_model.h5')\n",
        "# # _, train_acc = saved_model.evaluate(x_train, y_train, verbose=0)\n",
        "# _, test_acc = saved_model.evaluate(x_test, y_test, verbose=0)\n",
        "# print('Test: %.3f' % (test_acc))"
      ],
      "metadata": {
        "id": "DR_MS9DABo_K"
      },
      "execution_count": 234,
      "outputs": []
    },
    {
      "cell_type": "code",
      "source": [
        "history_dict = history.history\n",
        "loss_values = history_dict['loss']\n",
        "val_loss_values = history_dict['val_loss']\n",
        "\n",
        "epochs = range(1, len(history_dict['loss']) + 1)\n",
        "\n",
        "plt.figure(figsize=(10, 5))\n",
        "plt.plot(epochs, loss_values, 'bo', label='Training loss')\n",
        "plt.plot(epochs, val_loss_values, 'r', label='Validation loss')\n",
        "# plt.ylim (0.2, 0.5)\n",
        "plt.title('Training and validation loss')\n",
        "plt.xlabel('Epochs')\n",
        "plt.ylabel('Loss')\n",
        "plt.legend()\n",
        "plt.grid(True)\n",
        "plt.show()\n",
        "1\n",
        "plt.clf()\n",
        "plt.figure(figsize=(10, 5))\n",
        "val_acc_values = history_dict['sparse_categorical_accuracy']\n",
        "plt.plot(epochs, history_dict['sparse_categorical_accuracy'], 'bo', label='Training acc')\n",
        "plt.plot(epochs, history_dict['val_sparse_categorical_accuracy'], 'r', label='Validation acc')\n",
        "plt.ylim (0.86, 0.92)\n",
        "plt.title('Training and validation accuracy')\n",
        "plt.xlabel('Epochs')\n",
        "plt.ylabel('Accuracy')\n",
        "plt.legend()\n",
        "plt.grid(True)"
      ],
      "metadata": {
        "id": "2Ll_5sGlXKMH",
        "colab": {
          "base_uri": "https://localhost:8080/",
          "height": 975
        },
        "outputId": "30992b91-b951-4e48-f5cb-9d55983fd0e8"
      },
      "execution_count": 235,
      "outputs": [
        {
          "output_type": "display_data",
          "data": {
            "text/plain": [
              "<Figure size 1000x500 with 1 Axes>"
            ],
            "image/png": "[encoded data removed]"
          },
          "metadata": {}
        },
        {
          "output_type": "display_data",
          "data": {
            "text/plain": [
              "<Figure size 640x480 with 0 Axes>"
            ]
          },
          "metadata": {}
        },
        {
          "output_type": "display_data",
          "data": {
            "text/plain": [
              "<Figure size 1000x500 with 1 Axes>"
            ],
            "image/png": "[encoded data removed]"
          },
          "metadata": {}
        }
      ]
    },
    {
      "cell_type": "code",
      "source": [
        "probability_model = tf.keras.Sequential([model,\n",
        "                                         tf.keras.layers.Softmax()])"
      ],
      "metadata": {
        "id": "VzOdKAT_uV-f"
      },
      "execution_count": 236,
      "outputs": []
    },
    {
      "cell_type": "code",
      "source": [
        "predictions = probability_model.predict(x_test)"
      ],
      "metadata": {
        "id": "f4is3NFruYom",
        "colab": {
          "base_uri": "https://localhost:8080/"
        },
        "outputId": "d1dbca69-bcc9-4190-c1c2-7a0ef5e85940"
      },
      "execution_count": 237,
      "outputs": [
        {
          "output_type": "stream",
          "name": "stdout",
          "text": [
            "313/313 [==============================] - 1s 3ms/step\n"
          ]
        }
      ]
    },
    {
      "cell_type": "code",
      "source": [
        "predictions[0]"
      ],
      "metadata": {
        "id": "82cigvlZudz_",
        "colab": {
          "base_uri": "https://localhost:8080/"
        },
        "outputId": "3aa018b6-ac96-4ff3-996b-a9a78d17aac9"
      },
      "execution_count": 238,
      "outputs": [
        {
          "output_type": "execute_result",
          "data": {
            "text/plain": [
              "array([0.08535863, 0.08535863, 0.08535863, 0.08535863, 0.08535863,\n",
              "       0.08536439, 0.08535863, 0.08550256, 0.08535863, 0.23162262],\n",
              "      dtype=float32)"
            ]
          },
          "metadata": {},
          "execution_count": 238
        }
      ]
    },
    {
      "cell_type": "code",
      "source": [
        "model.summary()"
      ],
      "metadata": {
        "id": "6RsQPHyYuNGe",
        "colab": {
          "base_uri": "https://localhost:8080/"
        },
        "outputId": "6353cfab-ba05-4972-f801-689fb4853dff"
      },
      "execution_count": 239,
      "outputs": [
        {
          "output_type": "stream",
          "name": "stdout",
          "text": [
            "Model: \"sequential_10\"\n",
            "_________________________________________________________________\n",
            " Layer (type)                Output Shape              Param #   \n",
            "=================================================================\n",
            " flatten_5 (Flatten)         (None, 784)               0         \n",
            "                                                                 \n",
            " dropout_20 (Dropout)        (None, 784)               0         \n",
            "                                                                 \n",
            " batch_normalization_15 (Ba  (None, 784)               3136      \n",
            " tchNormalization)                                               \n",
            "                                                                 \n",
            " dense_20 (Dense)            (None, 256)               200960    \n",
            "                                                                 \n",
            " dropout_21 (Dropout)        (None, 256)               0         \n",
            "                                                                 \n",
            " batch_normalization_16 (Ba  (None, 256)               1024      \n",
            " tchNormalization)                                               \n",
            "                                                                 \n",
            " dense_21 (Dense)            (None, 512)               131584    \n",
            "                                                                 \n",
            " dropout_22 (Dropout)        (None, 512)               0         \n",
            "                                                                 \n",
            " batch_normalization_17 (Ba  (None, 512)               2048      \n",
            " tchNormalization)                                               \n",
            "                                                                 \n",
            " dense_22 (Dense)            (None, 512)               262656    \n",
            "                                                                 \n",
            " dropout_23 (Dropout)        (None, 512)               0         \n",
            "                                                                 \n",
            " dense_23 (Dense)            (None, 10)                5130      \n",
            "                                                                 \n",
            "=================================================================\n",
            "Total params: 606538 (2.31 MB)\n",
            "Trainable params: 603434 (2.30 MB)\n",
            "Non-trainable params: 3104 (12.12 KB)\n",
            "_________________________________________________________________\n"
          ]
        }
      ]
    },
    {
      "cell_type": "code",
      "source": [
        "\n",
        "\n",
        "\n",
        "hnyetjn hrte()"
      ],
      "metadata": {
        "id": "S4hcxZttmp-0",
        "colab": {
          "base_uri": "https://localhost:8080/",
          "height": 108
        },
        "outputId": "8592fe34-14d3-43db-a3d6-69a98b00c7d8"
      },
      "execution_count": 240,
      "outputs": [
        {
          "output_type": "error",
          "ename": "SyntaxError",
          "evalue": "invalid syntax (<ipython-input-240-1a3818e70946>, line 1)",
          "traceback": [
            "\u001b[0;36m  File \u001b[0;32m\"<ipython-input-240-1a3818e70946>\"\u001b[0;36m, line \u001b[0;32m1\u001b[0m\n\u001b[0;31m    hnyetjn hrte()\u001b[0m\n\u001b[0m            ^\u001b[0m\n\u001b[0;31mSyntaxError\u001b[0m\u001b[0;31m:\u001b[0m invalid syntax\n"
          ]
        }
      ]
    }
  ]
}