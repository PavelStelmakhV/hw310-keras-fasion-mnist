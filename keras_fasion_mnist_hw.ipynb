{
  "nbformat": 4,
  "nbformat_minor": 0,
  "metadata": {
    "colab": {
      "provenance": [],
      "gpuType": "T4",
      "authorship_tag": "ABX9TyNgDxKcYQvaiP2NkDg1sKh/",
      "include_colab_link": true
    },
    "kernelspec": {
      "name": "python3",
      "display_name": "Python 3"
    },
    "language_info": {
      "name": "python"
    },
    "accelerator": "GPU"
  },
  "cells": [
    {
      "cell_type": "markdown",
      "metadata": {
        "id": "view-in-github",
        "colab_type": "text"
      },
      "source": [
        "<a href=\"https://colab.research.google.com/github/PavelStelmakhV/hw310-keras-fasion-mnist/blob/main/keras_fasion_mnist_hw.ipynb\" target=\"_parent\"><img src=\"https://colab.research.google.com/assets/colab-badge.svg\" alt=\"Open In Colab\"/></a>"
      ]
    },
    {
      "cell_type": "code",
      "source": [
        "import tensorflow as tf\n",
        "from tensorflow.python.client import device_lib\n",
        "print(device_lib.list_local_devices())"
      ],
      "metadata": {
        "colab": {
          "base_uri": "https://localhost:8080/"
        },
        "id": "CQL6wYJUms6Y",
        "outputId": "a013193f-244f-4337-d3c9-98eb704c69c6"
      },
      "execution_count": 1,
      "outputs": [
        {
          "output_type": "stream",
          "name": "stdout",
          "text": [
            "[name: \"/device:CPU:0\"\n",
            "device_type: \"CPU\"\n",
            "memory_limit: 268435456\n",
            "locality {\n",
            "}\n",
            "incarnation: 12256124548659425127\n",
            "xla_global_id: -1\n",
            "]\n"
          ]
        }
      ]
    },
    {
      "cell_type": "code",
      "execution_count": 2,
      "metadata": {
        "id": "vv7w0bgAVQPO"
      },
      "outputs": [],
      "source": [
        "import tensorflow as tf\n",
        "import numpy as np\n",
        "import matplotlib.pyplot as plt\n",
        "import tf_keras\n",
        "\n",
        "from keras import layers\n",
        "from keras import models\n",
        "from keras import regularizers\n",
        "from keras import callbacks\n",
        "from keras import initializers\n",
        "from keras.layers import BatchNormalization\n",
        "from keras.models import load_model\n",
        "from tensorflow.keras.utils import to_categorical"
      ]
    },
    {
      "cell_type": "code",
      "source": [
        "num_classes = 10"
      ],
      "metadata": {
        "id": "RvT1uYJsa5cn"
      },
      "execution_count": 3,
      "outputs": []
    },
    {
      "cell_type": "code",
      "source": [
        "fashion_mnist = tf.keras.datasets.fashion_mnist\n",
        "\n",
        "(x_train, y_train), (x_test, y_test) = fashion_mnist.load_data()"
      ],
      "metadata": {
        "id": "mOpywsNAzfGB",
        "outputId": "24cd65de-4041-44c5-e2f6-71c27b9d676f",
        "colab": {
          "base_uri": "https://localhost:8080/"
        }
      },
      "execution_count": 4,
      "outputs": [
        {
          "output_type": "stream",
          "name": "stdout",
          "text": [
            "Downloading data from https://storage.googleapis.com/tensorflow/tf-keras-datasets/train-labels-idx1-ubyte.gz\n",
            "29515/29515 [==============================] - 0s 0us/step\n",
            "Downloading data from https://storage.googleapis.com/tensorflow/tf-keras-datasets/train-images-idx3-ubyte.gz\n",
            "26421880/26421880 [==============================] - 0s 0us/step\n",
            "Downloading data from https://storage.googleapis.com/tensorflow/tf-keras-datasets/t10k-labels-idx1-ubyte.gz\n",
            "5148/5148 [==============================] - 0s 0us/step\n",
            "Downloading data from https://storage.googleapis.com/tensorflow/tf-keras-datasets/t10k-images-idx3-ubyte.gz\n",
            "4422102/4422102 [==============================] - 0s 0us/step\n"
          ]
        }
      ]
    },
    {
      "cell_type": "code",
      "source": [
        "def drow_hist(data):\n",
        "  plt.figure(figsize=(8,6), dpi= 80)\n",
        "  _ = plt.hist(data,\n",
        "              bins=num_classes,\n",
        "              stacked=True,\n",
        "              density=False,\n",
        "              range=(0,10),\n",
        "              rwidth=0.9,\n",
        "              )"
      ],
      "metadata": {
        "id": "NjEvuOvomEoT"
      },
      "execution_count": 5,
      "outputs": []
    },
    {
      "cell_type": "code",
      "source": [
        "# create validation data\n",
        "val_size =6000\n",
        "\n",
        "x_val = x_train[-val_size:, :, :]\n",
        "x_train = x_train[:-val_size, :, :]\n",
        "\n",
        "y_val = y_train[-val_size:]\n",
        "y_train = y_train[:-val_size]"
      ],
      "metadata": {
        "id": "jAs92sDoVU89"
      },
      "execution_count": 6,
      "outputs": []
    },
    {
      "cell_type": "code",
      "source": [
        "x_train = x_train.astype('float32') / 255\n",
        "x_test = x_test.astype('float32') / 255\n",
        "x_val = x_val.astype('float32') / 255\n",
        "\n",
        "y_train = to_categorical(y_train)\n",
        "y_test = to_categorical(y_test)\n",
        "y_val = to_categorical(y_val)"
      ],
      "metadata": {
        "id": "t2gucjsJ0KUi"
      },
      "execution_count": 7,
      "outputs": []
    },
    {
      "cell_type": "code",
      "source": [
        "w_init_tanh = initializers.glorot_normal(seed=111)\n",
        "w_init_relu = initializers.HeNormal(seed=66)\n",
        "# w_init_relu = initializers.HeUniform(seed=24)\n",
        "b_init = initializers.Zeros()"
      ],
      "metadata": {
        "id": "yL9QTEtBGy4N"
      },
      "execution_count": 8,
      "outputs": []
    },
    {
      "cell_type": "code",
      "source": [
        "def layer_relu(model, neurons, drop_out):\n",
        "  model.add(BatchNormalization())\n",
        "  model.add(layers.Dense(neurons,\n",
        "                        activation='relu',\n",
        "                        kernel_initializer=w_init_relu,\n",
        "                        bias_initializer=b_init,\n",
        "                        kernel_regularizer=regularizers.L1L2(l1=1e-4, l2=1e-4),\n",
        "                        bias_regularizer=regularizers.L1L2(l1=1e-4, l2=1e-4),\n",
        "                        activity_regularizer=regularizers.L1L2(l1=1e-4, l2=1e-4)\n",
        "                         )\n",
        "  )\n",
        "  model.add(layers.Dropout(drop_out))\n",
        "  print(drop_out)\n",
        "  return model"
      ],
      "metadata": {
        "id": "ZZgs_25rKBCp"
      },
      "execution_count": 9,
      "outputs": []
    },
    {
      "cell_type": "code",
      "source": [
        "def layer_tanh(model, neurons, drop_out):\n",
        "  model.add(BatchNormalization())\n",
        "  model.add(layers.Dense(neurons,\n",
        "                        activation='tanh',\n",
        "                        kernel_initializer=w_init_tanh,\n",
        "                        bias_initializer=b_init\n",
        "                         )\n",
        "  )\n",
        "  model.add(layers.Dropout(drop_out))\n",
        "  return model"
      ],
      "metadata": {
        "id": "90JLLnkBR50t"
      },
      "execution_count": 10,
      "outputs": []
    },
    {
      "cell_type": "code",
      "source": [
        "model = models.Sequential()\n",
        "\n",
        "neurons = 256\n",
        "drop_out = 0.35\n",
        "\n",
        "model.add(layers.Flatten(input_shape=(28, 28)))\n",
        "model.add(layers.Dropout(0.13))\n",
        "\n",
        "model = layer_relu(model, neurons*1, 0.3)\n",
        "model = layer_relu(model, neurons*2, 0.35)\n",
        "model = layer_relu(model, neurons*2, 0.4)\n",
        "# model = layer_relu(model, neurons*2)\n",
        "\n",
        "\n",
        "model.add(layers.Dense(10, activation='softmax'))"
      ],
      "metadata": {
        "id": "atS39i4d0aqW",
        "colab": {
          "base_uri": "https://localhost:8080/"
        },
        "outputId": "7699db97-0893-45e0-b7b4-b6b133549c62"
      },
      "execution_count": 11,
      "outputs": [
        {
          "output_type": "stream",
          "name": "stdout",
          "text": [
            "0.3\n",
            "0.35\n",
            "0.4\n"
          ]
        }
      ]
    },
    {
      "cell_type": "markdown",
      "source": [
        "++++++++++++++++++++++++++++++++++++++++++++++++++++++++++++++++++++++++++++++++"
      ],
      "metadata": {
        "id": "tZO7hl7pM63y"
      }
    },
    {
      "cell_type": "code",
      "source": [
        "optimizer = tf.keras.optimizers.Nadam(learning_rate=0.0004,\n",
        "                                      beta_1=0.9,\n",
        "                                      beta_2=0.999,\n",
        "                                      epsilon=1e-06\n",
        ")\n",
        "# optimizer = tf.keras.optimizers.experimental.RMSprop(learning_rate=0.0005,\n",
        "#                                                     rho=0.5,\n",
        "#                                                     momentum=-16,\n",
        "#                                                     epsilon=1e-07,\n",
        "#                                                     centered=False,\n",
        "#                                                     weight_decay=None,\n",
        "#                                                     clipnorm=None,\n",
        "#                                                     clipvalue=None,\n",
        "#                                                     global_clipnorm=None,\n",
        "#                                                     use_ema=False,\n",
        "#                                                     ema_momentum=0.99,\n",
        "#                                                     ema_overwrite_frequency=100,\n",
        "#                                                     jit_compile=True,\n",
        "#                                                     name='RMSprop',\n",
        "# )"
      ],
      "metadata": {
        "id": "EzfnaqIZlfy8"
      },
      "execution_count": 12,
      "outputs": []
    },
    {
      "cell_type": "markdown",
      "source": [
        "++++++++++++++++++++++++++++++++++++++++++++++++++++++++++++++++++++++++++++++++"
      ],
      "metadata": {
        "id": "KHmBptvOM95Z"
      }
    },
    {
      "cell_type": "code",
      "source": [
        "model.compile(#optimizer='adam',\n",
        "              # optimizer='adamax',\n",
        "              optimizer=optimizer,\n",
        "              # optimizer='rmsprop',\n",
        "              # optimizer='sgd',\n",
        "              # optimizer='adadelta',\n",
        "              # loss='binary_crossentropy',\n",
        "              loss=tf.keras.losses.CategoricalCrossentropy(),\n",
        "              metrics=['categorical_accuracy']) # sparse_categorical_accuracy"
      ],
      "metadata": {
        "id": "hENVaAC7ilNY"
      },
      "execution_count": 13,
      "outputs": []
    },
    {
      "cell_type": "code",
      "source": [
        "# callback = callbacks.EarlyStopping(monitor='val_loss',\n",
        "#                                    patience=15,\n",
        "#                                    restore_best_weights=True,\n",
        "#                                    )\n",
        "es = callbacks.EarlyStopping(monitor='val_loss', mode='min', verbose=0, patience=60)\n",
        "mc = callbacks.ModelCheckpoint('best_model.h5', monitor='categorical_accuracy', mode='max', verbose=0, save_best_only=True)\n"
      ],
      "metadata": {
        "id": "5ihU4exVlsjm"
      },
      "execution_count": 14,
      "outputs": []
    },
    {
      "cell_type": "code",
      "source": [
        "history = model.fit(x_train, y_train,\n",
        "                    epochs=300,\n",
        "                    batch_size=128,\n",
        "                    # callbacks=[callback],\n",
        "                    callbacks=[mc, es],\n",
        "                    verbose=1, #многословие\n",
        "                    # validation_split=0.2\n",
        "                    validation_data=(x_val, y_val)\n",
        "                    )\n",
        "test_loss, test_acc = model.evaluate(x_test, y_test)\n",
        "print('\\nTest accuracy:', test_acc)"
      ],
      "metadata": {
        "id": "FH8HcMNm233I",
        "outputId": "89d18dbc-3a06-4351-d916-baa0839d1add",
        "colab": {
          "base_uri": "https://localhost:8080/"
        }
      },
      "execution_count": 15,
      "outputs": [
        {
          "output_type": "stream",
          "name": "stdout",
          "text": [
            "Epoch 1/300\n",
            "422/422 [==============================] - 31s 49ms/step - loss: 4.3079 - categorical_accuracy: 0.6991 - val_loss: 3.6020 - val_categorical_accuracy: 0.8312\n",
            "Epoch 2/300\n",
            "  4/422 [..............................] - ETA: 9s - loss: 3.7429 - categorical_accuracy: 0.8086 "
          ]
        },
        {
          "output_type": "stream",
          "name": "stderr",
          "text": [
            "/usr/local/lib/python3.10/dist-packages/keras/src/engine/training.py:3103: UserWarning: You are saving your model as an HDF5 file via `model.save()`. This file format is considered legacy. We recommend using instead the native Keras format, e.g. `model.save('my_model.keras')`.\n",
            "  saving_api.save_model(\n"
          ]
        },
        {
          "output_type": "stream",
          "name": "stdout",
          "text": [
            "422/422 [==============================] - 12s 29ms/step - loss: 3.5636 - categorical_accuracy: 0.7968 - val_loss: 3.1240 - val_categorical_accuracy: 0.8503\n",
            "Epoch 3/300\n",
            "422/422 [==============================] - 12s 28ms/step - loss: 3.0238 - categorical_accuracy: 0.8220 - val_loss: 2.6564 - val_categorical_accuracy: 0.8507\n",
            "Epoch 4/300\n",
            "422/422 [==============================] - 12s 28ms/step - loss: 2.5316 - categorical_accuracy: 0.8334 - val_loss: 2.2055 - val_categorical_accuracy: 0.8627\n",
            "Epoch 5/300\n",
            "422/422 [==============================] - 12s 28ms/step - loss: 2.0893 - categorical_accuracy: 0.8445 - val_loss: 1.8097 - val_categorical_accuracy: 0.8742\n",
            "Epoch 6/300\n",
            "422/422 [==============================] - 12s 29ms/step - loss: 1.7186 - categorical_accuracy: 0.8499 - val_loss: 1.5010 - val_categorical_accuracy: 0.8682\n",
            "Epoch 7/300\n",
            "422/422 [==============================] - 12s 29ms/step - loss: 1.4316 - categorical_accuracy: 0.8554 - val_loss: 1.2644 - val_categorical_accuracy: 0.8707\n",
            "Epoch 8/300\n",
            "422/422 [==============================] - 12s 29ms/step - loss: 1.2114 - categorical_accuracy: 0.8588 - val_loss: 1.0653 - val_categorical_accuracy: 0.8763\n",
            "Epoch 9/300\n",
            "422/422 [==============================] - 13s 30ms/step - loss: 1.0576 - categorical_accuracy: 0.8604 - val_loss: 0.9457 - val_categorical_accuracy: 0.8808\n",
            "Epoch 10/300\n",
            "422/422 [==============================] - 12s 29ms/step - loss: 0.9590 - categorical_accuracy: 0.8608 - val_loss: 0.8684 - val_categorical_accuracy: 0.8748\n",
            "Epoch 11/300\n",
            "422/422 [==============================] - 12s 29ms/step - loss: 0.8823 - categorical_accuracy: 0.8624 - val_loss: 0.8035 - val_categorical_accuracy: 0.8802\n",
            "Epoch 12/300\n",
            "422/422 [==============================] - 14s 33ms/step - loss: 0.8407 - categorical_accuracy: 0.8632 - val_loss: 0.7739 - val_categorical_accuracy: 0.8767\n",
            "Epoch 13/300\n",
            "422/422 [==============================] - 15s 35ms/step - loss: 0.8041 - categorical_accuracy: 0.8647 - val_loss: 0.7435 - val_categorical_accuracy: 0.8790\n",
            "Epoch 14/300\n",
            "422/422 [==============================] - 12s 29ms/step - loss: 0.7795 - categorical_accuracy: 0.8651 - val_loss: 0.7246 - val_categorical_accuracy: 0.8787\n",
            "Epoch 15/300\n",
            "422/422 [==============================] - 12s 29ms/step - loss: 0.7632 - categorical_accuracy: 0.8656 - val_loss: 0.7164 - val_categorical_accuracy: 0.8772\n",
            "Epoch 16/300\n",
            "422/422 [==============================] - 12s 29ms/step - loss: 0.7520 - categorical_accuracy: 0.8668 - val_loss: 0.7054 - val_categorical_accuracy: 0.8808\n",
            "Epoch 17/300\n",
            "422/422 [==============================] - 12s 29ms/step - loss: 0.7455 - categorical_accuracy: 0.8657 - val_loss: 0.6947 - val_categorical_accuracy: 0.8802\n",
            "Epoch 18/300\n",
            "422/422 [==============================] - 12s 29ms/step - loss: 0.7363 - categorical_accuracy: 0.8659 - val_loss: 0.6808 - val_categorical_accuracy: 0.8830\n",
            "Epoch 19/300\n",
            "422/422 [==============================] - 12s 29ms/step - loss: 0.7251 - categorical_accuracy: 0.8693 - val_loss: 0.6662 - val_categorical_accuracy: 0.8848\n",
            "Epoch 20/300\n",
            "422/422 [==============================] - 12s 30ms/step - loss: 0.7193 - categorical_accuracy: 0.8682 - val_loss: 0.6753 - val_categorical_accuracy: 0.8832\n",
            "Epoch 21/300\n",
            "422/422 [==============================] - 12s 29ms/step - loss: 0.7153 - categorical_accuracy: 0.8674 - val_loss: 0.6751 - val_categorical_accuracy: 0.8797\n",
            "Epoch 22/300\n",
            "422/422 [==============================] - 12s 29ms/step - loss: 0.7173 - categorical_accuracy: 0.8676 - val_loss: 0.6647 - val_categorical_accuracy: 0.8833\n",
            "Epoch 23/300\n",
            "422/422 [==============================] - 12s 29ms/step - loss: 0.7067 - categorical_accuracy: 0.8697 - val_loss: 0.6600 - val_categorical_accuracy: 0.8823\n",
            "Epoch 24/300\n",
            "422/422 [==============================] - 12s 29ms/step - loss: 0.7045 - categorical_accuracy: 0.8697 - val_loss: 0.6577 - val_categorical_accuracy: 0.8867\n",
            "Epoch 25/300\n",
            "422/422 [==============================] - 12s 28ms/step - loss: 0.6993 - categorical_accuracy: 0.8704 - val_loss: 0.6586 - val_categorical_accuracy: 0.8865\n",
            "Epoch 26/300\n",
            "422/422 [==============================] - 12s 28ms/step - loss: 0.7004 - categorical_accuracy: 0.8698 - val_loss: 0.6575 - val_categorical_accuracy: 0.8788\n",
            "Epoch 27/300\n",
            "422/422 [==============================] - 12s 28ms/step - loss: 0.6952 - categorical_accuracy: 0.8699 - val_loss: 0.6670 - val_categorical_accuracy: 0.8815\n",
            "Epoch 28/300\n",
            "422/422 [==============================] - 12s 29ms/step - loss: 0.6930 - categorical_accuracy: 0.8721 - val_loss: 0.6569 - val_categorical_accuracy: 0.8797\n",
            "Epoch 29/300\n",
            "422/422 [==============================] - 12s 29ms/step - loss: 0.6960 - categorical_accuracy: 0.8711 - val_loss: 0.6548 - val_categorical_accuracy: 0.8838\n",
            "Epoch 30/300\n",
            "422/422 [==============================] - 12s 28ms/step - loss: 0.6895 - categorical_accuracy: 0.8714 - val_loss: 0.6477 - val_categorical_accuracy: 0.8827\n",
            "Epoch 31/300\n",
            "422/422 [==============================] - 12s 29ms/step - loss: 0.6854 - categorical_accuracy: 0.8713 - val_loss: 0.6467 - val_categorical_accuracy: 0.8797\n",
            "Epoch 32/300\n",
            "422/422 [==============================] - 12s 29ms/step - loss: 0.6819 - categorical_accuracy: 0.8724 - val_loss: 0.6400 - val_categorical_accuracy: 0.8810\n",
            "Epoch 33/300\n",
            "422/422 [==============================] - 12s 29ms/step - loss: 0.6786 - categorical_accuracy: 0.8722 - val_loss: 0.6446 - val_categorical_accuracy: 0.8807\n",
            "Epoch 34/300\n",
            "422/422 [==============================] - 12s 29ms/step - loss: 0.6877 - categorical_accuracy: 0.8706 - val_loss: 0.6419 - val_categorical_accuracy: 0.8842\n",
            "Epoch 35/300\n",
            "422/422 [==============================] - 12s 29ms/step - loss: 0.6839 - categorical_accuracy: 0.8706 - val_loss: 0.6304 - val_categorical_accuracy: 0.8860\n",
            "Epoch 36/300\n",
            "422/422 [==============================] - 12s 29ms/step - loss: 0.6795 - categorical_accuracy: 0.8746 - val_loss: 0.6350 - val_categorical_accuracy: 0.8867\n",
            "Epoch 37/300\n",
            "422/422 [==============================] - 12s 29ms/step - loss: 0.6797 - categorical_accuracy: 0.8733 - val_loss: 0.6283 - val_categorical_accuracy: 0.8892\n",
            "Epoch 38/300\n",
            "422/422 [==============================] - 12s 29ms/step - loss: 0.6679 - categorical_accuracy: 0.8756 - val_loss: 0.6392 - val_categorical_accuracy: 0.8763\n",
            "Epoch 39/300\n",
            "422/422 [==============================] - 12s 28ms/step - loss: 0.6731 - categorical_accuracy: 0.8722 - val_loss: 0.6352 - val_categorical_accuracy: 0.8838\n",
            "Epoch 40/300\n",
            "422/422 [==============================] - 12s 27ms/step - loss: 0.6662 - categorical_accuracy: 0.8749 - val_loss: 0.6362 - val_categorical_accuracy: 0.8825\n",
            "Epoch 41/300\n",
            "422/422 [==============================] - 12s 28ms/step - loss: 0.6741 - categorical_accuracy: 0.8717 - val_loss: 0.6333 - val_categorical_accuracy: 0.8845\n",
            "Epoch 42/300\n",
            "422/422 [==============================] - 12s 29ms/step - loss: 0.6689 - categorical_accuracy: 0.8725 - val_loss: 0.6262 - val_categorical_accuracy: 0.8840\n",
            "Epoch 43/300\n",
            "422/422 [==============================] - 12s 29ms/step - loss: 0.6624 - categorical_accuracy: 0.8728 - val_loss: 0.6171 - val_categorical_accuracy: 0.8872\n",
            "Epoch 44/300\n",
            "422/422 [==============================] - 12s 29ms/step - loss: 0.6616 - categorical_accuracy: 0.8740 - val_loss: 0.6260 - val_categorical_accuracy: 0.8838\n",
            "Epoch 45/300\n",
            "422/422 [==============================] - 13s 30ms/step - loss: 0.6647 - categorical_accuracy: 0.8739 - val_loss: 0.6124 - val_categorical_accuracy: 0.8868\n",
            "Epoch 46/300\n",
            "422/422 [==============================] - 13s 30ms/step - loss: 0.6681 - categorical_accuracy: 0.8715 - val_loss: 0.6388 - val_categorical_accuracy: 0.8817\n",
            "Epoch 47/300\n",
            "422/422 [==============================] - 13s 30ms/step - loss: 0.6673 - categorical_accuracy: 0.8725 - val_loss: 0.6224 - val_categorical_accuracy: 0.8845\n",
            "Epoch 48/300\n",
            "422/422 [==============================] - 13s 30ms/step - loss: 0.6651 - categorical_accuracy: 0.8744 - val_loss: 0.6313 - val_categorical_accuracy: 0.8867\n",
            "Epoch 49/300\n",
            "422/422 [==============================] - 13s 31ms/step - loss: 0.6599 - categorical_accuracy: 0.8735 - val_loss: 0.6160 - val_categorical_accuracy: 0.8865\n",
            "Epoch 50/300\n",
            "422/422 [==============================] - 12s 30ms/step - loss: 0.6623 - categorical_accuracy: 0.8730 - val_loss: 0.6165 - val_categorical_accuracy: 0.8833\n",
            "Epoch 51/300\n",
            "422/422 [==============================] - 13s 31ms/step - loss: 0.6524 - categorical_accuracy: 0.8748 - val_loss: 0.6083 - val_categorical_accuracy: 0.8878\n",
            "Epoch 52/300\n",
            "422/422 [==============================] - 12s 29ms/step - loss: 0.6552 - categorical_accuracy: 0.8750 - val_loss: 0.6206 - val_categorical_accuracy: 0.8810\n",
            "Epoch 53/300\n",
            "422/422 [==============================] - 12s 29ms/step - loss: 0.6537 - categorical_accuracy: 0.8738 - val_loss: 0.6103 - val_categorical_accuracy: 0.8867\n",
            "Epoch 54/300\n",
            "422/422 [==============================] - 12s 29ms/step - loss: 0.6525 - categorical_accuracy: 0.8732 - val_loss: 0.6103 - val_categorical_accuracy: 0.8858\n",
            "Epoch 55/300\n",
            "422/422 [==============================] - 13s 30ms/step - loss: 0.6448 - categorical_accuracy: 0.8758 - val_loss: 0.6070 - val_categorical_accuracy: 0.8882\n",
            "Epoch 56/300\n",
            "422/422 [==============================] - 13s 30ms/step - loss: 0.6535 - categorical_accuracy: 0.8737 - val_loss: 0.6040 - val_categorical_accuracy: 0.8882\n",
            "Epoch 57/300\n",
            "422/422 [==============================] - 12s 29ms/step - loss: 0.6429 - categorical_accuracy: 0.8729 - val_loss: 0.5964 - val_categorical_accuracy: 0.8882\n",
            "Epoch 58/300\n",
            "422/422 [==============================] - 12s 28ms/step - loss: 0.6474 - categorical_accuracy: 0.8740 - val_loss: 0.6054 - val_categorical_accuracy: 0.8873\n",
            "Epoch 59/300\n",
            "422/422 [==============================] - 12s 28ms/step - loss: 0.6387 - categorical_accuracy: 0.8748 - val_loss: 0.6060 - val_categorical_accuracy: 0.8863\n",
            "Epoch 60/300\n",
            "422/422 [==============================] - 12s 28ms/step - loss: 0.6437 - categorical_accuracy: 0.8749 - val_loss: 0.5952 - val_categorical_accuracy: 0.8868\n",
            "Epoch 61/300\n",
            "422/422 [==============================] - 12s 29ms/step - loss: 0.6435 - categorical_accuracy: 0.8731 - val_loss: 0.6028 - val_categorical_accuracy: 0.8860\n",
            "Epoch 62/300\n",
            "422/422 [==============================] - 12s 29ms/step - loss: 0.6394 - categorical_accuracy: 0.8747 - val_loss: 0.5991 - val_categorical_accuracy: 0.8885\n",
            "Epoch 63/300\n",
            "422/422 [==============================] - 12s 30ms/step - loss: 0.6425 - categorical_accuracy: 0.8740 - val_loss: 0.5971 - val_categorical_accuracy: 0.8897\n",
            "Epoch 64/300\n",
            "422/422 [==============================] - 13s 30ms/step - loss: 0.6412 - categorical_accuracy: 0.8739 - val_loss: 0.6011 - val_categorical_accuracy: 0.8830\n",
            "Epoch 65/300\n",
            "422/422 [==============================] - 13s 30ms/step - loss: 0.6328 - categorical_accuracy: 0.8744 - val_loss: 0.5994 - val_categorical_accuracy: 0.8807\n",
            "Epoch 66/300\n",
            "422/422 [==============================] - 13s 30ms/step - loss: 0.6325 - categorical_accuracy: 0.8752 - val_loss: 0.5860 - val_categorical_accuracy: 0.8873\n",
            "Epoch 67/300\n",
            "422/422 [==============================] - 12s 29ms/step - loss: 0.6332 - categorical_accuracy: 0.8746 - val_loss: 0.5998 - val_categorical_accuracy: 0.8880\n",
            "Epoch 68/300\n",
            "422/422 [==============================] - 13s 30ms/step - loss: 0.6268 - categorical_accuracy: 0.8749 - val_loss: 0.5939 - val_categorical_accuracy: 0.8840\n",
            "Epoch 69/300\n",
            "422/422 [==============================] - 12s 29ms/step - loss: 0.6298 - categorical_accuracy: 0.8737 - val_loss: 0.5888 - val_categorical_accuracy: 0.8875\n",
            "Epoch 70/300\n",
            "422/422 [==============================] - 12s 29ms/step - loss: 0.6255 - categorical_accuracy: 0.8753 - val_loss: 0.5920 - val_categorical_accuracy: 0.8853\n",
            "Epoch 71/300\n",
            "422/422 [==============================] - 12s 29ms/step - loss: 0.6203 - categorical_accuracy: 0.8755 - val_loss: 0.5894 - val_categorical_accuracy: 0.8872\n",
            "Epoch 72/300\n",
            "422/422 [==============================] - 13s 30ms/step - loss: 0.6281 - categorical_accuracy: 0.8753 - val_loss: 0.5751 - val_categorical_accuracy: 0.8895\n",
            "Epoch 73/300\n",
            "422/422 [==============================] - 13s 30ms/step - loss: 0.6189 - categorical_accuracy: 0.8752 - val_loss: 0.5751 - val_categorical_accuracy: 0.8865\n",
            "Epoch 74/300\n",
            "422/422 [==============================] - 13s 30ms/step - loss: 0.6203 - categorical_accuracy: 0.8747 - val_loss: 0.5775 - val_categorical_accuracy: 0.8895\n",
            "Epoch 75/300\n",
            "422/422 [==============================] - 13s 30ms/step - loss: 0.6151 - categorical_accuracy: 0.8759 - val_loss: 0.5761 - val_categorical_accuracy: 0.8920\n",
            "Epoch 76/300\n",
            "422/422 [==============================] - 13s 30ms/step - loss: 0.6171 - categorical_accuracy: 0.8752 - val_loss: 0.5926 - val_categorical_accuracy: 0.8838\n",
            "Epoch 77/300\n",
            "422/422 [==============================] - 12s 29ms/step - loss: 0.6199 - categorical_accuracy: 0.8741 - val_loss: 0.5779 - val_categorical_accuracy: 0.8893\n",
            "Epoch 78/300\n",
            "422/422 [==============================] - 12s 28ms/step - loss: 0.6205 - categorical_accuracy: 0.8743 - val_loss: 0.5651 - val_categorical_accuracy: 0.8905\n",
            "Epoch 79/300\n",
            "422/422 [==============================] - 12s 29ms/step - loss: 0.6087 - categorical_accuracy: 0.8754 - val_loss: 0.5665 - val_categorical_accuracy: 0.8875\n",
            "Epoch 80/300\n",
            "422/422 [==============================] - 12s 28ms/step - loss: 0.6000 - categorical_accuracy: 0.8769 - val_loss: 0.5683 - val_categorical_accuracy: 0.8865\n",
            "Epoch 81/300\n",
            "422/422 [==============================] - 12s 28ms/step - loss: 0.6049 - categorical_accuracy: 0.8776 - val_loss: 0.5868 - val_categorical_accuracy: 0.8833\n",
            "Epoch 82/300\n",
            "422/422 [==============================] - 12s 29ms/step - loss: 0.6058 - categorical_accuracy: 0.8766 - val_loss: 0.5750 - val_categorical_accuracy: 0.8858\n",
            "Epoch 83/300\n",
            "422/422 [==============================] - 12s 29ms/step - loss: 0.6098 - categorical_accuracy: 0.8757 - val_loss: 0.5813 - val_categorical_accuracy: 0.8855\n",
            "Epoch 84/300\n",
            "422/422 [==============================] - 12s 29ms/step - loss: 0.6073 - categorical_accuracy: 0.8743 - val_loss: 0.5645 - val_categorical_accuracy: 0.8893\n",
            "Epoch 85/300\n",
            "422/422 [==============================] - 12s 29ms/step - loss: 0.6001 - categorical_accuracy: 0.8768 - val_loss: 0.5512 - val_categorical_accuracy: 0.8948\n",
            "Epoch 86/300\n",
            "422/422 [==============================] - 12s 29ms/step - loss: 0.6029 - categorical_accuracy: 0.8755 - val_loss: 0.5672 - val_categorical_accuracy: 0.8865\n",
            "Epoch 87/300\n",
            "422/422 [==============================] - 12s 29ms/step - loss: 0.6011 - categorical_accuracy: 0.8770 - val_loss: 0.5585 - val_categorical_accuracy: 0.8893\n",
            "Epoch 88/300\n",
            "422/422 [==============================] - 12s 29ms/step - loss: 0.6019 - categorical_accuracy: 0.8753 - val_loss: 0.5607 - val_categorical_accuracy: 0.8872\n",
            "Epoch 89/300\n",
            "422/422 [==============================] - 12s 29ms/step - loss: 0.5991 - categorical_accuracy: 0.8741 - val_loss: 0.5730 - val_categorical_accuracy: 0.8895\n",
            "Epoch 90/300\n",
            "422/422 [==============================] - 12s 29ms/step - loss: 0.5985 - categorical_accuracy: 0.8766 - val_loss: 0.5462 - val_categorical_accuracy: 0.8930\n",
            "Epoch 91/300\n",
            "422/422 [==============================] - 12s 29ms/step - loss: 0.5943 - categorical_accuracy: 0.8763 - val_loss: 0.5496 - val_categorical_accuracy: 0.8938\n",
            "Epoch 92/300\n",
            "422/422 [==============================] - 12s 29ms/step - loss: 0.5927 - categorical_accuracy: 0.8767 - val_loss: 0.5482 - val_categorical_accuracy: 0.8905\n",
            "Epoch 93/300\n",
            "422/422 [==============================] - 12s 29ms/step - loss: 0.5935 - categorical_accuracy: 0.8762 - val_loss: 0.5530 - val_categorical_accuracy: 0.8927\n",
            "Epoch 94/300\n",
            "422/422 [==============================] - 12s 28ms/step - loss: 0.5960 - categorical_accuracy: 0.8751 - val_loss: 0.5520 - val_categorical_accuracy: 0.8897\n",
            "Epoch 95/300\n",
            "422/422 [==============================] - 12s 29ms/step - loss: 0.5926 - categorical_accuracy: 0.8759 - val_loss: 0.5561 - val_categorical_accuracy: 0.8880\n",
            "Epoch 96/300\n",
            "422/422 [==============================] - 12s 28ms/step - loss: 0.5879 - categorical_accuracy: 0.8761 - val_loss: 0.5525 - val_categorical_accuracy: 0.8885\n",
            "Epoch 97/300\n",
            "422/422 [==============================] - 12s 29ms/step - loss: 0.5908 - categorical_accuracy: 0.8748 - val_loss: 0.5550 - val_categorical_accuracy: 0.8877\n",
            "Epoch 98/300\n",
            "422/422 [==============================] - 12s 29ms/step - loss: 0.5840 - categorical_accuracy: 0.8770 - val_loss: 0.5390 - val_categorical_accuracy: 0.8908\n",
            "Epoch 99/300\n",
            "422/422 [==============================] - 12s 29ms/step - loss: 0.5811 - categorical_accuracy: 0.8772 - val_loss: 0.5470 - val_categorical_accuracy: 0.8887\n",
            "Epoch 100/300\n",
            "422/422 [==============================] - 12s 29ms/step - loss: 0.5822 - categorical_accuracy: 0.8775 - val_loss: 0.5454 - val_categorical_accuracy: 0.8868\n",
            "Epoch 101/300\n",
            "422/422 [==============================] - 12s 29ms/step - loss: 0.5850 - categorical_accuracy: 0.8787 - val_loss: 0.5460 - val_categorical_accuracy: 0.8928\n",
            "Epoch 102/300\n",
            "422/422 [==============================] - 13s 30ms/step - loss: 0.5817 - categorical_accuracy: 0.8797 - val_loss: 0.5425 - val_categorical_accuracy: 0.8913\n",
            "Epoch 103/300\n",
            "422/422 [==============================] - 12s 29ms/step - loss: 0.5811 - categorical_accuracy: 0.8759 - val_loss: 0.5371 - val_categorical_accuracy: 0.8890\n",
            "Epoch 104/300\n",
            "422/422 [==============================] - 14s 33ms/step - loss: 0.5810 - categorical_accuracy: 0.8758 - val_loss: 0.5461 - val_categorical_accuracy: 0.8892\n",
            "Epoch 105/300\n",
            "422/422 [==============================] - 14s 34ms/step - loss: 0.5759 - categorical_accuracy: 0.8793 - val_loss: 0.5441 - val_categorical_accuracy: 0.8887\n",
            "Epoch 106/300\n",
            "422/422 [==============================] - 13s 31ms/step - loss: 0.5885 - categorical_accuracy: 0.8743 - val_loss: 0.5463 - val_categorical_accuracy: 0.8895\n",
            "Epoch 107/300\n",
            "422/422 [==============================] - 13s 31ms/step - loss: 0.5801 - categorical_accuracy: 0.8766 - val_loss: 0.5328 - val_categorical_accuracy: 0.8877\n",
            "Epoch 108/300\n",
            "422/422 [==============================] - 12s 29ms/step - loss: 0.5750 - categorical_accuracy: 0.8770 - val_loss: 0.5370 - val_categorical_accuracy: 0.8843\n",
            "Epoch 109/300\n",
            "422/422 [==============================] - 12s 29ms/step - loss: 0.5762 - categorical_accuracy: 0.8775 - val_loss: 0.5561 - val_categorical_accuracy: 0.8898\n",
            "Epoch 110/300\n",
            "422/422 [==============================] - 12s 29ms/step - loss: 0.5770 - categorical_accuracy: 0.8761 - val_loss: 0.5435 - val_categorical_accuracy: 0.8883\n",
            "Epoch 111/300\n",
            "422/422 [==============================] - 12s 29ms/step - loss: 0.5763 - categorical_accuracy: 0.8778 - val_loss: 0.5414 - val_categorical_accuracy: 0.8862\n",
            "Epoch 112/300\n",
            "422/422 [==============================] - 12s 29ms/step - loss: 0.5801 - categorical_accuracy: 0.8755 - val_loss: 0.5360 - val_categorical_accuracy: 0.8902\n",
            "Epoch 113/300\n",
            "422/422 [==============================] - 12s 29ms/step - loss: 0.5741 - categorical_accuracy: 0.8765 - val_loss: 0.5399 - val_categorical_accuracy: 0.8853\n",
            "Epoch 114/300\n",
            "422/422 [==============================] - 12s 29ms/step - loss: 0.5711 - categorical_accuracy: 0.8766 - val_loss: 0.5377 - val_categorical_accuracy: 0.8902\n",
            "Epoch 115/300\n",
            "422/422 [==============================] - 12s 29ms/step - loss: 0.5690 - categorical_accuracy: 0.8766 - val_loss: 0.5304 - val_categorical_accuracy: 0.8890\n",
            "Epoch 116/300\n",
            "422/422 [==============================] - 12s 28ms/step - loss: 0.5706 - categorical_accuracy: 0.8779 - val_loss: 0.5360 - val_categorical_accuracy: 0.8887\n",
            "Epoch 117/300\n",
            "422/422 [==============================] - 12s 29ms/step - loss: 0.5764 - categorical_accuracy: 0.8771 - val_loss: 0.5287 - val_categorical_accuracy: 0.8907\n",
            "Epoch 118/300\n",
            "422/422 [==============================] - 12s 29ms/step - loss: 0.5736 - categorical_accuracy: 0.8773 - val_loss: 0.5369 - val_categorical_accuracy: 0.8873\n",
            "Epoch 119/300\n",
            "422/422 [==============================] - 12s 29ms/step - loss: 0.5709 - categorical_accuracy: 0.8773 - val_loss: 0.5383 - val_categorical_accuracy: 0.8917\n",
            "Epoch 120/300\n",
            "422/422 [==============================] - 13s 30ms/step - loss: 0.5706 - categorical_accuracy: 0.8764 - val_loss: 0.5379 - val_categorical_accuracy: 0.8838\n",
            "Epoch 121/300\n",
            "422/422 [==============================] - 12s 30ms/step - loss: 0.5697 - categorical_accuracy: 0.8771 - val_loss: 0.5249 - val_categorical_accuracy: 0.8890\n",
            "Epoch 122/300\n",
            "422/422 [==============================] - 12s 30ms/step - loss: 0.5680 - categorical_accuracy: 0.8757 - val_loss: 0.5241 - val_categorical_accuracy: 0.8900\n",
            "Epoch 123/300\n",
            "422/422 [==============================] - 12s 29ms/step - loss: 0.5633 - categorical_accuracy: 0.8776 - val_loss: 0.5177 - val_categorical_accuracy: 0.8890\n",
            "Epoch 124/300\n",
            "422/422 [==============================] - 13s 30ms/step - loss: 0.5621 - categorical_accuracy: 0.8765 - val_loss: 0.5269 - val_categorical_accuracy: 0.8890\n",
            "Epoch 125/300\n",
            "422/422 [==============================] - 12s 30ms/step - loss: 0.5620 - categorical_accuracy: 0.8798 - val_loss: 0.5277 - val_categorical_accuracy: 0.8892\n",
            "Epoch 126/300\n",
            "422/422 [==============================] - 12s 29ms/step - loss: 0.5663 - categorical_accuracy: 0.8777 - val_loss: 0.5368 - val_categorical_accuracy: 0.8893\n",
            "Epoch 127/300\n",
            "422/422 [==============================] - 12s 29ms/step - loss: 0.5631 - categorical_accuracy: 0.8783 - val_loss: 0.5280 - val_categorical_accuracy: 0.8873\n",
            "Epoch 128/300\n",
            "422/422 [==============================] - 12s 29ms/step - loss: 0.5626 - categorical_accuracy: 0.8788 - val_loss: 0.5277 - val_categorical_accuracy: 0.8883\n",
            "Epoch 129/300\n",
            "422/422 [==============================] - 12s 29ms/step - loss: 0.5620 - categorical_accuracy: 0.8789 - val_loss: 0.5195 - val_categorical_accuracy: 0.8912\n",
            "Epoch 130/300\n",
            "422/422 [==============================] - 12s 29ms/step - loss: 0.5589 - categorical_accuracy: 0.8791 - val_loss: 0.5175 - val_categorical_accuracy: 0.8893\n",
            "Epoch 131/300\n",
            "422/422 [==============================] - 12s 29ms/step - loss: 0.5579 - categorical_accuracy: 0.8791 - val_loss: 0.5240 - val_categorical_accuracy: 0.8865\n",
            "Epoch 132/300\n",
            "422/422 [==============================] - 12s 29ms/step - loss: 0.5592 - categorical_accuracy: 0.8776 - val_loss: 0.5167 - val_categorical_accuracy: 0.8873\n",
            "Epoch 133/300\n",
            "422/422 [==============================] - 12s 30ms/step - loss: 0.5632 - categorical_accuracy: 0.8759 - val_loss: 0.5269 - val_categorical_accuracy: 0.8883\n",
            "Epoch 134/300\n",
            "422/422 [==============================] - 12s 29ms/step - loss: 0.5612 - categorical_accuracy: 0.8774 - val_loss: 0.5242 - val_categorical_accuracy: 0.8870\n",
            "Epoch 135/300\n",
            "422/422 [==============================] - 12s 29ms/step - loss: 0.5607 - categorical_accuracy: 0.8771 - val_loss: 0.5306 - val_categorical_accuracy: 0.8893\n",
            "Epoch 136/300\n",
            "422/422 [==============================] - 12s 29ms/step - loss: 0.5565 - categorical_accuracy: 0.8785 - val_loss: 0.5203 - val_categorical_accuracy: 0.8855\n",
            "Epoch 137/300\n",
            "422/422 [==============================] - 12s 29ms/step - loss: 0.5570 - categorical_accuracy: 0.8779 - val_loss: 0.5200 - val_categorical_accuracy: 0.8862\n",
            "Epoch 138/300\n",
            "422/422 [==============================] - 12s 29ms/step - loss: 0.5571 - categorical_accuracy: 0.8775 - val_loss: 0.5181 - val_categorical_accuracy: 0.8917\n",
            "Epoch 139/300\n",
            "422/422 [==============================] - 12s 29ms/step - loss: 0.5521 - categorical_accuracy: 0.8777 - val_loss: 0.5310 - val_categorical_accuracy: 0.8878\n",
            "Epoch 140/300\n",
            "422/422 [==============================] - 12s 29ms/step - loss: 0.5607 - categorical_accuracy: 0.8768 - val_loss: 0.5217 - val_categorical_accuracy: 0.8892\n",
            "Epoch 141/300\n",
            "422/422 [==============================] - 12s 29ms/step - loss: 0.5552 - categorical_accuracy: 0.8776 - val_loss: 0.5179 - val_categorical_accuracy: 0.8895\n",
            "Epoch 142/300\n",
            "422/422 [==============================] - 12s 29ms/step - loss: 0.5587 - categorical_accuracy: 0.8757 - val_loss: 0.5099 - val_categorical_accuracy: 0.8898\n",
            "Epoch 143/300\n",
            "422/422 [==============================] - 12s 29ms/step - loss: 0.5489 - categorical_accuracy: 0.8791 - val_loss: 0.5141 - val_categorical_accuracy: 0.8920\n",
            "Epoch 144/300\n",
            "422/422 [==============================] - 13s 30ms/step - loss: 0.5555 - categorical_accuracy: 0.8771 - val_loss: 0.5148 - val_categorical_accuracy: 0.8895\n",
            "Epoch 145/300\n",
            "422/422 [==============================] - 13s 30ms/step - loss: 0.5509 - categorical_accuracy: 0.8789 - val_loss: 0.5172 - val_categorical_accuracy: 0.8875\n",
            "Epoch 146/300\n",
            "422/422 [==============================] - 12s 30ms/step - loss: 0.5521 - categorical_accuracy: 0.8769 - val_loss: 0.5084 - val_categorical_accuracy: 0.8908\n",
            "Epoch 147/300\n",
            "422/422 [==============================] - 12s 29ms/step - loss: 0.5524 - categorical_accuracy: 0.8771 - val_loss: 0.5166 - val_categorical_accuracy: 0.8870\n",
            "Epoch 148/300\n",
            "422/422 [==============================] - 12s 29ms/step - loss: 0.5523 - categorical_accuracy: 0.8775 - val_loss: 0.5271 - val_categorical_accuracy: 0.8847\n",
            "Epoch 149/300\n",
            "422/422 [==============================] - 12s 29ms/step - loss: 0.5501 - categorical_accuracy: 0.8793 - val_loss: 0.5227 - val_categorical_accuracy: 0.8857\n",
            "Epoch 150/300\n",
            "422/422 [==============================] - 13s 30ms/step - loss: 0.5546 - categorical_accuracy: 0.8775 - val_loss: 0.5142 - val_categorical_accuracy: 0.8913\n",
            "Epoch 151/300\n",
            "422/422 [==============================] - 13s 30ms/step - loss: 0.5505 - categorical_accuracy: 0.8780 - val_loss: 0.5185 - val_categorical_accuracy: 0.8877\n",
            "Epoch 152/300\n",
            "422/422 [==============================] - 12s 30ms/step - loss: 0.5537 - categorical_accuracy: 0.8769 - val_loss: 0.5131 - val_categorical_accuracy: 0.8898\n",
            "Epoch 153/300\n",
            "422/422 [==============================] - 13s 30ms/step - loss: 0.5582 - categorical_accuracy: 0.8769 - val_loss: 0.5191 - val_categorical_accuracy: 0.8895\n",
            "Epoch 154/300\n",
            "422/422 [==============================] - 13s 30ms/step - loss: 0.5534 - categorical_accuracy: 0.8782 - val_loss: 0.5061 - val_categorical_accuracy: 0.8927\n",
            "Epoch 155/300\n",
            "422/422 [==============================] - 12s 29ms/step - loss: 0.5457 - categorical_accuracy: 0.8798 - val_loss: 0.5111 - val_categorical_accuracy: 0.8890\n",
            "Epoch 156/300\n",
            "422/422 [==============================] - 12s 29ms/step - loss: 0.5467 - categorical_accuracy: 0.8785 - val_loss: 0.5063 - val_categorical_accuracy: 0.8878\n",
            "Epoch 157/300\n",
            "422/422 [==============================] - 12s 29ms/step - loss: 0.5501 - categorical_accuracy: 0.8789 - val_loss: 0.5039 - val_categorical_accuracy: 0.8898\n",
            "Epoch 158/300\n",
            "422/422 [==============================] - 12s 29ms/step - loss: 0.5454 - categorical_accuracy: 0.8786 - val_loss: 0.5132 - val_categorical_accuracy: 0.8897\n",
            "Epoch 159/300\n",
            "422/422 [==============================] - 12s 29ms/step - loss: 0.5481 - categorical_accuracy: 0.8770 - val_loss: 0.5099 - val_categorical_accuracy: 0.8893\n",
            "Epoch 160/300\n",
            "422/422 [==============================] - 12s 29ms/step - loss: 0.5509 - categorical_accuracy: 0.8766 - val_loss: 0.5102 - val_categorical_accuracy: 0.8912\n",
            "Epoch 161/300\n",
            "422/422 [==============================] - 13s 30ms/step - loss: 0.5454 - categorical_accuracy: 0.8776 - val_loss: 0.5029 - val_categorical_accuracy: 0.8945\n",
            "Epoch 162/300\n",
            "422/422 [==============================] - 12s 29ms/step - loss: 0.5409 - categorical_accuracy: 0.8780 - val_loss: 0.5018 - val_categorical_accuracy: 0.8937\n",
            "Epoch 163/300\n",
            "422/422 [==============================] - 13s 30ms/step - loss: 0.5462 - categorical_accuracy: 0.8788 - val_loss: 0.5186 - val_categorical_accuracy: 0.8850\n",
            "Epoch 164/300\n",
            "422/422 [==============================] - 12s 30ms/step - loss: 0.5465 - categorical_accuracy: 0.8788 - val_loss: 0.5106 - val_categorical_accuracy: 0.8925\n",
            "Epoch 165/300\n",
            "422/422 [==============================] - 12s 30ms/step - loss: 0.5433 - categorical_accuracy: 0.8784 - val_loss: 0.5090 - val_categorical_accuracy: 0.8863\n",
            "Epoch 166/300\n",
            "422/422 [==============================] - 13s 30ms/step - loss: 0.5479 - categorical_accuracy: 0.8772 - val_loss: 0.5190 - val_categorical_accuracy: 0.8870\n",
            "Epoch 167/300\n",
            "422/422 [==============================] - 13s 30ms/step - loss: 0.5491 - categorical_accuracy: 0.8771 - val_loss: 0.5021 - val_categorical_accuracy: 0.8908\n",
            "Epoch 168/300\n",
            "422/422 [==============================] - 13s 30ms/step - loss: 0.5452 - categorical_accuracy: 0.8779 - val_loss: 0.5164 - val_categorical_accuracy: 0.8887\n",
            "Epoch 169/300\n",
            "422/422 [==============================] - 12s 30ms/step - loss: 0.5429 - categorical_accuracy: 0.8798 - val_loss: 0.5106 - val_categorical_accuracy: 0.8915\n",
            "Epoch 170/300\n",
            "422/422 [==============================] - 13s 30ms/step - loss: 0.5468 - categorical_accuracy: 0.8777 - val_loss: 0.5027 - val_categorical_accuracy: 0.8887\n",
            "Epoch 171/300\n",
            "422/422 [==============================] - 12s 30ms/step - loss: 0.5403 - categorical_accuracy: 0.8793 - val_loss: 0.5106 - val_categorical_accuracy: 0.8885\n",
            "Epoch 172/300\n",
            "422/422 [==============================] - 12s 30ms/step - loss: 0.5359 - categorical_accuracy: 0.8794 - val_loss: 0.5017 - val_categorical_accuracy: 0.8908\n",
            "Epoch 173/300\n",
            "422/422 [==============================] - 12s 30ms/step - loss: 0.5421 - categorical_accuracy: 0.8762 - val_loss: 0.5096 - val_categorical_accuracy: 0.8883\n",
            "Epoch 174/300\n",
            "422/422 [==============================] - 12s 30ms/step - loss: 0.5405 - categorical_accuracy: 0.8777 - val_loss: 0.5008 - val_categorical_accuracy: 0.8865\n",
            "Epoch 175/300\n",
            "422/422 [==============================] - 12s 29ms/step - loss: 0.5404 - categorical_accuracy: 0.8778 - val_loss: 0.4971 - val_categorical_accuracy: 0.8882\n",
            "Epoch 176/300\n",
            "422/422 [==============================] - 12s 29ms/step - loss: 0.5399 - categorical_accuracy: 0.8781 - val_loss: 0.5128 - val_categorical_accuracy: 0.8872\n",
            "Epoch 177/300\n",
            "422/422 [==============================] - 12s 29ms/step - loss: 0.5469 - categorical_accuracy: 0.8754 - val_loss: 0.5057 - val_categorical_accuracy: 0.8863\n",
            "Epoch 178/300\n",
            "422/422 [==============================] - 12s 29ms/step - loss: 0.5461 - categorical_accuracy: 0.8768 - val_loss: 0.4967 - val_categorical_accuracy: 0.8927\n",
            "Epoch 179/300\n",
            "422/422 [==============================] - 13s 30ms/step - loss: 0.5407 - categorical_accuracy: 0.8778 - val_loss: 0.5094 - val_categorical_accuracy: 0.8918\n",
            "Epoch 180/300\n",
            "422/422 [==============================] - 12s 29ms/step - loss: 0.5371 - categorical_accuracy: 0.8801 - val_loss: 0.5033 - val_categorical_accuracy: 0.8918\n",
            "Epoch 181/300\n",
            "422/422 [==============================] - 13s 30ms/step - loss: 0.5375 - categorical_accuracy: 0.8786 - val_loss: 0.4998 - val_categorical_accuracy: 0.8888\n",
            "Epoch 182/300\n",
            "422/422 [==============================] - 13s 30ms/step - loss: 0.5425 - categorical_accuracy: 0.8784 - val_loss: 0.5077 - val_categorical_accuracy: 0.8950\n",
            "Epoch 183/300\n",
            "422/422 [==============================] - 13s 30ms/step - loss: 0.5411 - categorical_accuracy: 0.8776 - val_loss: 0.4984 - val_categorical_accuracy: 0.8907\n",
            "Epoch 184/300\n",
            "422/422 [==============================] - 12s 30ms/step - loss: 0.5395 - categorical_accuracy: 0.8781 - val_loss: 0.5012 - val_categorical_accuracy: 0.8928\n",
            "Epoch 185/300\n",
            "422/422 [==============================] - 13s 30ms/step - loss: 0.5405 - categorical_accuracy: 0.8781 - val_loss: 0.5047 - val_categorical_accuracy: 0.8897\n",
            "Epoch 186/300\n",
            "422/422 [==============================] - 13s 30ms/step - loss: 0.5364 - categorical_accuracy: 0.8801 - val_loss: 0.5072 - val_categorical_accuracy: 0.8883\n",
            "Epoch 187/300\n",
            "422/422 [==============================] - 13s 30ms/step - loss: 0.5419 - categorical_accuracy: 0.8787 - val_loss: 0.5067 - val_categorical_accuracy: 0.8925\n",
            "Epoch 188/300\n",
            "422/422 [==============================] - 13s 30ms/step - loss: 0.5408 - categorical_accuracy: 0.8786 - val_loss: 0.5113 - val_categorical_accuracy: 0.8880\n",
            "Epoch 189/300\n",
            "422/422 [==============================] - 13s 30ms/step - loss: 0.5415 - categorical_accuracy: 0.8780 - val_loss: 0.4999 - val_categorical_accuracy: 0.8908\n",
            "Epoch 190/300\n",
            "422/422 [==============================] - 13s 30ms/step - loss: 0.5396 - categorical_accuracy: 0.8775 - val_loss: 0.5147 - val_categorical_accuracy: 0.8855\n",
            "Epoch 191/300\n",
            "422/422 [==============================] - 13s 30ms/step - loss: 0.5376 - categorical_accuracy: 0.8786 - val_loss: 0.4995 - val_categorical_accuracy: 0.8910\n",
            "Epoch 192/300\n",
            "422/422 [==============================] - 13s 31ms/step - loss: 0.5384 - categorical_accuracy: 0.8786 - val_loss: 0.5008 - val_categorical_accuracy: 0.8908\n",
            "Epoch 193/300\n",
            "422/422 [==============================] - 13s 30ms/step - loss: 0.5373 - categorical_accuracy: 0.8791 - val_loss: 0.5005 - val_categorical_accuracy: 0.8908\n",
            "Epoch 194/300\n",
            "422/422 [==============================] - 13s 30ms/step - loss: 0.5361 - categorical_accuracy: 0.8778 - val_loss: 0.4942 - val_categorical_accuracy: 0.8903\n",
            "Epoch 195/300\n",
            "422/422 [==============================] - 13s 30ms/step - loss: 0.5343 - categorical_accuracy: 0.8788 - val_loss: 0.5045 - val_categorical_accuracy: 0.8883\n",
            "Epoch 196/300\n",
            "422/422 [==============================] - 13s 30ms/step - loss: 0.5365 - categorical_accuracy: 0.8777 - val_loss: 0.5011 - val_categorical_accuracy: 0.8913\n",
            "Epoch 197/300\n",
            "422/422 [==============================] - 13s 30ms/step - loss: 0.5337 - categorical_accuracy: 0.8800 - val_loss: 0.5010 - val_categorical_accuracy: 0.8895\n",
            "Epoch 198/300\n",
            "422/422 [==============================] - 13s 30ms/step - loss: 0.5373 - categorical_accuracy: 0.8780 - val_loss: 0.5071 - val_categorical_accuracy: 0.8880\n",
            "Epoch 199/300\n",
            "422/422 [==============================] - 12s 29ms/step - loss: 0.5403 - categorical_accuracy: 0.8773 - val_loss: 0.5045 - val_categorical_accuracy: 0.8875\n",
            "Epoch 200/300\n",
            "422/422 [==============================] - 12s 30ms/step - loss: 0.5353 - categorical_accuracy: 0.8793 - val_loss: 0.5074 - val_categorical_accuracy: 0.8860\n",
            "Epoch 201/300\n",
            "422/422 [==============================] - 12s 29ms/step - loss: 0.5412 - categorical_accuracy: 0.8785 - val_loss: 0.4981 - val_categorical_accuracy: 0.8887\n",
            "Epoch 202/300\n",
            "422/422 [==============================] - 12s 30ms/step - loss: 0.5397 - categorical_accuracy: 0.8780 - val_loss: 0.5040 - val_categorical_accuracy: 0.8878\n",
            "Epoch 203/300\n",
            "422/422 [==============================] - 12s 29ms/step - loss: 0.5377 - categorical_accuracy: 0.8782 - val_loss: 0.5021 - val_categorical_accuracy: 0.8885\n",
            "Epoch 204/300\n",
            "422/422 [==============================] - 13s 30ms/step - loss: 0.5328 - categorical_accuracy: 0.8781 - val_loss: 0.5063 - val_categorical_accuracy: 0.8875\n",
            "Epoch 205/300\n",
            "422/422 [==============================] - 13s 30ms/step - loss: 0.5356 - categorical_accuracy: 0.8782 - val_loss: 0.5097 - val_categorical_accuracy: 0.8880\n",
            "Epoch 206/300\n",
            "422/422 [==============================] - 13s 30ms/step - loss: 0.5387 - categorical_accuracy: 0.8769 - val_loss: 0.4949 - val_categorical_accuracy: 0.8920\n",
            "Epoch 207/300\n",
            "422/422 [==============================] - 13s 30ms/step - loss: 0.5333 - categorical_accuracy: 0.8803 - val_loss: 0.4896 - val_categorical_accuracy: 0.8932\n",
            "Epoch 208/300\n",
            "422/422 [==============================] - 13s 32ms/step - loss: 0.5367 - categorical_accuracy: 0.8784 - val_loss: 0.4984 - val_categorical_accuracy: 0.8898\n",
            "Epoch 209/300\n",
            "422/422 [==============================] - 15s 35ms/step - loss: 0.5371 - categorical_accuracy: 0.8775 - val_loss: 0.4952 - val_categorical_accuracy: 0.8913\n",
            "Epoch 210/300\n",
            "422/422 [==============================] - 14s 34ms/step - loss: 0.5353 - categorical_accuracy: 0.8785 - val_loss: 0.5065 - val_categorical_accuracy: 0.8902\n",
            "Epoch 211/300\n",
            "422/422 [==============================] - 14s 34ms/step - loss: 0.5396 - categorical_accuracy: 0.8756 - val_loss: 0.4948 - val_categorical_accuracy: 0.8920\n",
            "Epoch 212/300\n",
            "422/422 [==============================] - 14s 34ms/step - loss: 0.5338 - categorical_accuracy: 0.8785 - val_loss: 0.4942 - val_categorical_accuracy: 0.8923\n",
            "Epoch 213/300\n",
            "422/422 [==============================] - 14s 34ms/step - loss: 0.5319 - categorical_accuracy: 0.8794 - val_loss: 0.4926 - val_categorical_accuracy: 0.8928\n",
            "Epoch 214/300\n",
            "422/422 [==============================] - 14s 32ms/step - loss: 0.5366 - categorical_accuracy: 0.8773 - val_loss: 0.4959 - val_categorical_accuracy: 0.8905\n",
            "Epoch 215/300\n",
            "422/422 [==============================] - 15s 36ms/step - loss: 0.5357 - categorical_accuracy: 0.8780 - val_loss: 0.4912 - val_categorical_accuracy: 0.8930\n",
            "Epoch 216/300\n",
            "422/422 [==============================] - 14s 34ms/step - loss: 0.5315 - categorical_accuracy: 0.8779 - val_loss: 0.4946 - val_categorical_accuracy: 0.8898\n",
            "Epoch 217/300\n",
            "422/422 [==============================] - 15s 36ms/step - loss: 0.5336 - categorical_accuracy: 0.8781 - val_loss: 0.5036 - val_categorical_accuracy: 0.8913\n",
            "Epoch 218/300\n",
            "422/422 [==============================] - 15s 35ms/step - loss: 0.5333 - categorical_accuracy: 0.8792 - val_loss: 0.5025 - val_categorical_accuracy: 0.8895\n",
            "Epoch 219/300\n",
            "422/422 [==============================] - 15s 35ms/step - loss: 0.5332 - categorical_accuracy: 0.8775 - val_loss: 0.5047 - val_categorical_accuracy: 0.8900\n",
            "Epoch 220/300\n",
            "422/422 [==============================] - 16s 37ms/step - loss: 0.5310 - categorical_accuracy: 0.8781 - val_loss: 0.5052 - val_categorical_accuracy: 0.8888\n",
            "Epoch 221/300\n",
            "422/422 [==============================] - 14s 33ms/step - loss: 0.5293 - categorical_accuracy: 0.8801 - val_loss: 0.4987 - val_categorical_accuracy: 0.8882\n",
            "Epoch 222/300\n",
            "422/422 [==============================] - 15s 36ms/step - loss: 0.5322 - categorical_accuracy: 0.8778 - val_loss: 0.4979 - val_categorical_accuracy: 0.8927\n",
            "Epoch 223/300\n",
            "422/422 [==============================] - 16s 37ms/step - loss: 0.5308 - categorical_accuracy: 0.8781 - val_loss: 0.5006 - val_categorical_accuracy: 0.8863\n",
            "Epoch 224/300\n",
            "422/422 [==============================] - 15s 36ms/step - loss: 0.5337 - categorical_accuracy: 0.8782 - val_loss: 0.4910 - val_categorical_accuracy: 0.8858\n",
            "Epoch 225/300\n",
            "422/422 [==============================] - 14s 34ms/step - loss: 0.5327 - categorical_accuracy: 0.8780 - val_loss: 0.4956 - val_categorical_accuracy: 0.8873\n",
            "Epoch 226/300\n",
            "422/422 [==============================] - 15s 35ms/step - loss: 0.5331 - categorical_accuracy: 0.8791 - val_loss: 0.4997 - val_categorical_accuracy: 0.8873\n",
            "Epoch 227/300\n",
            "422/422 [==============================] - 15s 36ms/step - loss: 0.5326 - categorical_accuracy: 0.8784 - val_loss: 0.4959 - val_categorical_accuracy: 0.8875\n",
            "Epoch 228/300\n",
            "422/422 [==============================] - 15s 37ms/step - loss: 0.5304 - categorical_accuracy: 0.8783 - val_loss: 0.4962 - val_categorical_accuracy: 0.8867\n",
            "Epoch 229/300\n",
            "422/422 [==============================] - 15s 35ms/step - loss: 0.5339 - categorical_accuracy: 0.8779 - val_loss: 0.5011 - val_categorical_accuracy: 0.8900\n",
            "Epoch 230/300\n",
            "422/422 [==============================] - 15s 36ms/step - loss: 0.5356 - categorical_accuracy: 0.8769 - val_loss: 0.4924 - val_categorical_accuracy: 0.8902\n",
            "Epoch 231/300\n",
            "422/422 [==============================] - 16s 37ms/step - loss: 0.5314 - categorical_accuracy: 0.8790 - val_loss: 0.5014 - val_categorical_accuracy: 0.8883\n",
            "Epoch 232/300\n",
            "422/422 [==============================] - 15s 36ms/step - loss: 0.5337 - categorical_accuracy: 0.8780 - val_loss: 0.5067 - val_categorical_accuracy: 0.8857\n",
            "Epoch 233/300\n",
            "422/422 [==============================] - 14s 33ms/step - loss: 0.5353 - categorical_accuracy: 0.8782 - val_loss: 0.4934 - val_categorical_accuracy: 0.8875\n",
            "Epoch 234/300\n",
            "422/422 [==============================] - 14s 33ms/step - loss: 0.5309 - categorical_accuracy: 0.8788 - val_loss: 0.5022 - val_categorical_accuracy: 0.8867\n",
            "Epoch 235/300\n",
            "422/422 [==============================] - 15s 35ms/step - loss: 0.5301 - categorical_accuracy: 0.8793 - val_loss: 0.5041 - val_categorical_accuracy: 0.8857\n",
            "Epoch 236/300\n",
            "422/422 [==============================] - 16s 37ms/step - loss: 0.5302 - categorical_accuracy: 0.8793 - val_loss: 0.4928 - val_categorical_accuracy: 0.8908\n",
            "Epoch 237/300\n",
            "422/422 [==============================] - 14s 32ms/step - loss: 0.5290 - categorical_accuracy: 0.8794 - val_loss: 0.4933 - val_categorical_accuracy: 0.8897\n",
            "Epoch 238/300\n",
            "422/422 [==============================] - 14s 32ms/step - loss: 0.5308 - categorical_accuracy: 0.8798 - val_loss: 0.4979 - val_categorical_accuracy: 0.8877\n",
            "Epoch 239/300\n",
            "422/422 [==============================] - 14s 33ms/step - loss: 0.5331 - categorical_accuracy: 0.8776 - val_loss: 0.5013 - val_categorical_accuracy: 0.8897\n",
            "Epoch 240/300\n",
            "422/422 [==============================] - 14s 33ms/step - loss: 0.5295 - categorical_accuracy: 0.8786 - val_loss: 0.5013 - val_categorical_accuracy: 0.8865\n",
            "Epoch 241/300\n",
            "422/422 [==============================] - 14s 33ms/step - loss: 0.5328 - categorical_accuracy: 0.8769 - val_loss: 0.4898 - val_categorical_accuracy: 0.8868\n",
            "Epoch 242/300\n",
            "422/422 [==============================] - 13s 32ms/step - loss: 0.5309 - categorical_accuracy: 0.8794 - val_loss: 0.4891 - val_categorical_accuracy: 0.8905\n",
            "Epoch 243/300\n",
            "422/422 [==============================] - 14s 32ms/step - loss: 0.5263 - categorical_accuracy: 0.8792 - val_loss: 0.4930 - val_categorical_accuracy: 0.8878\n",
            "Epoch 244/300\n",
            "422/422 [==============================] - 13s 32ms/step - loss: 0.5280 - categorical_accuracy: 0.8797 - val_loss: 0.4898 - val_categorical_accuracy: 0.8898\n",
            "Epoch 245/300\n",
            "422/422 [==============================] - 13s 31ms/step - loss: 0.5264 - categorical_accuracy: 0.8801 - val_loss: 0.4943 - val_categorical_accuracy: 0.8935\n",
            "Epoch 246/300\n",
            "422/422 [==============================] - 14s 32ms/step - loss: 0.5303 - categorical_accuracy: 0.8773 - val_loss: 0.4891 - val_categorical_accuracy: 0.8928\n",
            "Epoch 247/300\n",
            "422/422 [==============================] - 13s 32ms/step - loss: 0.5254 - categorical_accuracy: 0.8783 - val_loss: 0.4834 - val_categorical_accuracy: 0.8897\n",
            "Epoch 248/300\n",
            "422/422 [==============================] - 14s 32ms/step - loss: 0.5315 - categorical_accuracy: 0.8780 - val_loss: 0.5026 - val_categorical_accuracy: 0.8872\n",
            "Epoch 249/300\n",
            "422/422 [==============================] - 14s 32ms/step - loss: 0.5333 - categorical_accuracy: 0.8776 - val_loss: 0.4936 - val_categorical_accuracy: 0.8863\n",
            "Epoch 250/300\n",
            "422/422 [==============================] - 13s 32ms/step - loss: 0.5278 - categorical_accuracy: 0.8781 - val_loss: 0.4972 - val_categorical_accuracy: 0.8867\n",
            "Epoch 251/300\n",
            "422/422 [==============================] - 14s 33ms/step - loss: 0.5270 - categorical_accuracy: 0.8800 - val_loss: 0.4878 - val_categorical_accuracy: 0.8887\n",
            "Epoch 252/300\n",
            "422/422 [==============================] - 14s 33ms/step - loss: 0.5266 - categorical_accuracy: 0.8791 - val_loss: 0.4859 - val_categorical_accuracy: 0.8910\n",
            "Epoch 253/300\n",
            "422/422 [==============================] - 13s 32ms/step - loss: 0.5273 - categorical_accuracy: 0.8803 - val_loss: 0.4908 - val_categorical_accuracy: 0.8910\n",
            "Epoch 254/300\n",
            "422/422 [==============================] - 14s 32ms/step - loss: 0.5294 - categorical_accuracy: 0.8777 - val_loss: 0.4843 - val_categorical_accuracy: 0.8905\n",
            "Epoch 255/300\n",
            "422/422 [==============================] - 13s 32ms/step - loss: 0.5299 - categorical_accuracy: 0.8778 - val_loss: 0.4827 - val_categorical_accuracy: 0.8943\n",
            "Epoch 256/300\n",
            "422/422 [==============================] - 14s 33ms/step - loss: 0.5250 - categorical_accuracy: 0.8791 - val_loss: 0.4940 - val_categorical_accuracy: 0.8890\n",
            "Epoch 257/300\n",
            "422/422 [==============================] - 14s 33ms/step - loss: 0.5298 - categorical_accuracy: 0.8791 - val_loss: 0.5025 - val_categorical_accuracy: 0.8892\n",
            "Epoch 258/300\n",
            "422/422 [==============================] - 14s 32ms/step - loss: 0.5297 - categorical_accuracy: 0.8782 - val_loss: 0.4928 - val_categorical_accuracy: 0.8893\n",
            "Epoch 259/300\n",
            "422/422 [==============================] - 14s 33ms/step - loss: 0.5323 - categorical_accuracy: 0.8786 - val_loss: 0.4875 - val_categorical_accuracy: 0.8930\n",
            "Epoch 260/300\n",
            "422/422 [==============================] - 14s 33ms/step - loss: 0.5281 - categorical_accuracy: 0.8774 - val_loss: 0.4892 - val_categorical_accuracy: 0.8898\n",
            "Epoch 261/300\n",
            "422/422 [==============================] - 13s 32ms/step - loss: 0.5275 - categorical_accuracy: 0.8777 - val_loss: 0.4821 - val_categorical_accuracy: 0.8925\n",
            "Epoch 262/300\n",
            "422/422 [==============================] - 14s 32ms/step - loss: 0.5270 - categorical_accuracy: 0.8768 - val_loss: 0.4900 - val_categorical_accuracy: 0.8913\n",
            "Epoch 263/300\n",
            "422/422 [==============================] - 13s 32ms/step - loss: 0.5277 - categorical_accuracy: 0.8790 - val_loss: 0.4912 - val_categorical_accuracy: 0.8890\n",
            "Epoch 264/300\n",
            "422/422 [==============================] - 14s 33ms/step - loss: 0.5249 - categorical_accuracy: 0.8785 - val_loss: 0.4891 - val_categorical_accuracy: 0.8922\n",
            "Epoch 265/300\n",
            "422/422 [==============================] - 14s 33ms/step - loss: 0.5267 - categorical_accuracy: 0.8785 - val_loss: 0.4881 - val_categorical_accuracy: 0.8928\n",
            "Epoch 266/300\n",
            "422/422 [==============================] - 14s 33ms/step - loss: 0.5274 - categorical_accuracy: 0.8781 - val_loss: 0.4900 - val_categorical_accuracy: 0.8917\n",
            "Epoch 267/300\n",
            "422/422 [==============================] - 14s 33ms/step - loss: 0.5274 - categorical_accuracy: 0.8776 - val_loss: 0.4982 - val_categorical_accuracy: 0.8888\n",
            "Epoch 268/300\n",
            "422/422 [==============================] - 14s 33ms/step - loss: 0.5267 - categorical_accuracy: 0.8780 - val_loss: 0.4818 - val_categorical_accuracy: 0.8907\n",
            "Epoch 269/300\n",
            "422/422 [==============================] - 14s 33ms/step - loss: 0.5271 - categorical_accuracy: 0.8773 - val_loss: 0.4896 - val_categorical_accuracy: 0.8868\n",
            "Epoch 270/300\n",
            "422/422 [==============================] - 14s 32ms/step - loss: 0.5263 - categorical_accuracy: 0.8771 - val_loss: 0.4957 - val_categorical_accuracy: 0.8880\n",
            "Epoch 271/300\n",
            "422/422 [==============================] - 14s 32ms/step - loss: 0.5227 - categorical_accuracy: 0.8784 - val_loss: 0.4960 - val_categorical_accuracy: 0.8882\n",
            "Epoch 272/300\n",
            "422/422 [==============================] - 14s 33ms/step - loss: 0.5290 - categorical_accuracy: 0.8767 - val_loss: 0.4914 - val_categorical_accuracy: 0.8890\n",
            "Epoch 273/300\n",
            "422/422 [==============================] - 14s 32ms/step - loss: 0.5229 - categorical_accuracy: 0.8791 - val_loss: 0.4869 - val_categorical_accuracy: 0.8868\n",
            "Epoch 274/300\n",
            "422/422 [==============================] - 14s 33ms/step - loss: 0.5232 - categorical_accuracy: 0.8786 - val_loss: 0.4847 - val_categorical_accuracy: 0.8872\n",
            "Epoch 275/300\n",
            "422/422 [==============================] - 14s 33ms/step - loss: 0.5247 - categorical_accuracy: 0.8788 - val_loss: 0.4852 - val_categorical_accuracy: 0.8923\n",
            "Epoch 276/300\n",
            "422/422 [==============================] - 14s 32ms/step - loss: 0.5289 - categorical_accuracy: 0.8771 - val_loss: 0.4911 - val_categorical_accuracy: 0.8867\n",
            "Epoch 277/300\n",
            "422/422 [==============================] - 14s 33ms/step - loss: 0.5250 - categorical_accuracy: 0.8773 - val_loss: 0.4935 - val_categorical_accuracy: 0.8888\n",
            "Epoch 278/300\n",
            "422/422 [==============================] - 14s 33ms/step - loss: 0.5208 - categorical_accuracy: 0.8791 - val_loss: 0.4892 - val_categorical_accuracy: 0.8880\n",
            "Epoch 279/300\n",
            "422/422 [==============================] - 14s 32ms/step - loss: 0.5290 - categorical_accuracy: 0.8781 - val_loss: 0.4879 - val_categorical_accuracy: 0.8912\n",
            "Epoch 280/300\n",
            "422/422 [==============================] - 13s 32ms/step - loss: 0.5249 - categorical_accuracy: 0.8790 - val_loss: 0.4830 - val_categorical_accuracy: 0.8897\n",
            "Epoch 281/300\n",
            "422/422 [==============================] - 13s 32ms/step - loss: 0.5244 - categorical_accuracy: 0.8787 - val_loss: 0.4829 - val_categorical_accuracy: 0.8898\n",
            "Epoch 282/300\n",
            "422/422 [==============================] - 13s 32ms/step - loss: 0.5232 - categorical_accuracy: 0.8796 - val_loss: 0.4827 - val_categorical_accuracy: 0.8905\n",
            "Epoch 283/300\n",
            "422/422 [==============================] - 14s 32ms/step - loss: 0.5260 - categorical_accuracy: 0.8795 - val_loss: 0.4891 - val_categorical_accuracy: 0.8892\n",
            "Epoch 284/300\n",
            "422/422 [==============================] - 13s 32ms/step - loss: 0.5198 - categorical_accuracy: 0.8799 - val_loss: 0.4843 - val_categorical_accuracy: 0.8892\n",
            "Epoch 285/300\n",
            "422/422 [==============================] - 14s 33ms/step - loss: 0.5165 - categorical_accuracy: 0.8798 - val_loss: 0.4881 - val_categorical_accuracy: 0.8888\n",
            "Epoch 286/300\n",
            "422/422 [==============================] - 14s 33ms/step - loss: 0.5260 - categorical_accuracy: 0.8780 - val_loss: 0.4863 - val_categorical_accuracy: 0.8938\n",
            "Epoch 287/300\n",
            "422/422 [==============================] - 14s 32ms/step - loss: 0.5248 - categorical_accuracy: 0.8791 - val_loss: 0.4883 - val_categorical_accuracy: 0.8885\n",
            "Epoch 288/300\n",
            "422/422 [==============================] - 14s 33ms/step - loss: 0.5239 - categorical_accuracy: 0.8783 - val_loss: 0.4923 - val_categorical_accuracy: 0.8882\n",
            "Epoch 289/300\n",
            "422/422 [==============================] - 14s 32ms/step - loss: 0.5205 - categorical_accuracy: 0.8794 - val_loss: 0.4926 - val_categorical_accuracy: 0.8905\n",
            "Epoch 290/300\n",
            "422/422 [==============================] - 14s 32ms/step - loss: 0.5244 - categorical_accuracy: 0.8791 - val_loss: 0.4872 - val_categorical_accuracy: 0.8873\n",
            "Epoch 291/300\n",
            "422/422 [==============================] - 14s 33ms/step - loss: 0.5225 - categorical_accuracy: 0.8805 - val_loss: 0.4864 - val_categorical_accuracy: 0.8887\n",
            "Epoch 292/300\n",
            "422/422 [==============================] - 14s 33ms/step - loss: 0.5213 - categorical_accuracy: 0.8794 - val_loss: 0.4859 - val_categorical_accuracy: 0.8907\n",
            "Epoch 293/300\n",
            "422/422 [==============================] - 14s 33ms/step - loss: 0.5243 - categorical_accuracy: 0.8784 - val_loss: 0.4833 - val_categorical_accuracy: 0.8930\n",
            "Epoch 294/300\n",
            "422/422 [==============================] - 14s 33ms/step - loss: 0.5209 - categorical_accuracy: 0.8799 - val_loss: 0.4807 - val_categorical_accuracy: 0.8898\n",
            "Epoch 295/300\n",
            "422/422 [==============================] - 14s 33ms/step - loss: 0.5236 - categorical_accuracy: 0.8780 - val_loss: 0.4831 - val_categorical_accuracy: 0.8910\n",
            "Epoch 296/300\n",
            "422/422 [==============================] - 14s 32ms/step - loss: 0.5225 - categorical_accuracy: 0.8788 - val_loss: 0.4798 - val_categorical_accuracy: 0.8912\n",
            "Epoch 297/300\n",
            "422/422 [==============================] - 14s 32ms/step - loss: 0.5182 - categorical_accuracy: 0.8782 - val_loss: 0.4930 - val_categorical_accuracy: 0.8893\n",
            "Epoch 298/300\n",
            "422/422 [==============================] - 13s 32ms/step - loss: 0.5229 - categorical_accuracy: 0.8771 - val_loss: 0.4833 - val_categorical_accuracy: 0.8932\n",
            "Epoch 299/300\n",
            "422/422 [==============================] - 13s 32ms/step - loss: 0.5245 - categorical_accuracy: 0.8787 - val_loss: 0.4779 - val_categorical_accuracy: 0.8943\n",
            "Epoch 300/300\n",
            "422/422 [==============================] - 14s 33ms/step - loss: 0.5195 - categorical_accuracy: 0.8793 - val_loss: 0.4795 - val_categorical_accuracy: 0.8922\n",
            "313/313 [==============================] - 2s 6ms/step - loss: 0.5115 - categorical_accuracy: 0.8832\n",
            "\n",
            "Test accuracy: 0.8831999897956848\n"
          ]
        }
      ]
    },
    {
      "cell_type": "code",
      "source": [
        "print('\\nhistory dict:', list(history.history.keys()))"
      ],
      "metadata": {
        "id": "CxRE-B_Q6Sii",
        "outputId": "d17996e7-a81a-4d01-9752-4d474fbae58c",
        "colab": {
          "base_uri": "https://localhost:8080/"
        }
      },
      "execution_count": 16,
      "outputs": [
        {
          "output_type": "stream",
          "name": "stdout",
          "text": [
            "\n",
            "history dict: ['loss', 'categorical_accuracy', 'val_loss', 'val_categorical_accuracy']\n"
          ]
        }
      ]
    },
    {
      "cell_type": "code",
      "source": [
        "result = model.evaluate(x_test, y_test)\n",
        "print(result)"
      ],
      "metadata": {
        "id": "YXpwRRTvTBNg",
        "outputId": "af3b5fa8-5347-4974-f2af-850f8bb4a462",
        "colab": {
          "base_uri": "https://localhost:8080/"
        }
      },
      "execution_count": 17,
      "outputs": [
        {
          "output_type": "stream",
          "name": "stdout",
          "text": [
            "313/313 [==============================] - 2s 8ms/step - loss: 0.5115 - categorical_accuracy: 0.8832\n",
            "[0.5114728808403015, 0.8831999897956848]\n"
          ]
        }
      ]
    },
    {
      "cell_type": "code",
      "source": [
        "saved_model = load_model('best_model.h5')\n",
        "result = saved_model.evaluate(x_test, y_test)\n",
        "print(result)"
      ],
      "metadata": {
        "id": "dpaZAW0vp1AZ",
        "outputId": "6ac304db-c31c-4155-d6bf-cce4b34cae58",
        "colab": {
          "base_uri": "https://localhost:8080/"
        }
      },
      "execution_count": 18,
      "outputs": [
        {
          "output_type": "stream",
          "name": "stdout",
          "text": [
            "313/313 [==============================] - 2s 5ms/step - loss: 0.5071 - categorical_accuracy: 0.8820\n",
            "[0.5071057677268982, 0.8820000290870667]\n"
          ]
        }
      ]
    },
    {
      "cell_type": "code",
      "source": [
        "# from keras.models import load_model\n",
        "# saved_model = load_model('best_model.h5')\n",
        "# # _, train_acc = saved_model.evaluate(x_train, y_train, verbose=0)\n",
        "# _, test_acc = saved_model.evaluate(x_test, y_test, verbose=0)\n",
        "# print('Test: %.3f' % (test_acc))"
      ],
      "metadata": {
        "id": "DR_MS9DABo_K"
      },
      "execution_count": 19,
      "outputs": []
    },
    {
      "cell_type": "code",
      "source": [
        "history_dict = history.history\n",
        "loss_values = history_dict['loss']\n",
        "val_loss_values = history_dict['val_loss']\n",
        "\n",
        "epochs = range(1, len(history_dict['loss']) + 1)\n",
        "\n",
        "plt.figure(figsize=(10, 5))\n",
        "plt.plot(epochs, loss_values, 'bo', label='Training loss')\n",
        "plt.plot(epochs, val_loss_values, 'r', label='Validation loss')\n",
        "plt.ylim (0.2, 0.5)\n",
        "plt.title('Training and validation loss')\n",
        "plt.xlabel('Epochs')\n",
        "plt.ylabel('Loss')\n",
        "plt.legend()\n",
        "plt.grid(True)\n",
        "plt.show()\n",
        "1\n",
        "plt.clf()\n",
        "plt.figure(figsize=(10, 5))\n",
        "val_acc_values = history_dict['categorical_accuracy']\n",
        "plt.plot(epochs, history_dict['categorical_accuracy'], 'bo', label='Training acc')\n",
        "plt.plot(epochs, history_dict['val_categorical_accuracy'], 'r', label='Validation acc')\n",
        "plt.ylim (0.86, 0.94)\n",
        "plt.title('Training and validation accuracy')\n",
        "plt.xlabel('Epochs')\n",
        "plt.ylabel('Accuracy')\n",
        "plt.legend()\n",
        "plt.grid(True)"
      ],
      "metadata": {
        "id": "2Ll_5sGlXKMH",
        "outputId": "23d31f5d-75ce-48c8-853d-51332a90a949",
        "colab": {
          "base_uri": "https://localhost:8080/",
          "height": 975
        }
      },
      "execution_count": 20,
      "outputs": [
        {
          "output_type": "display_data",
          "data": {
            "text/plain": [
              "<Figure size 1000x500 with 1 Axes>"
            ],
            "image/png": "[encoded data removed]"
          },
          "metadata": {}
        },
        {
          "output_type": "display_data",
          "data": {
            "text/plain": [
              "<Figure size 640x480 with 0 Axes>"
            ]
          },
          "metadata": {}
        },
        {
          "output_type": "display_data",
          "data": {
            "text/plain": [
              "<Figure size 1000x500 with 1 Axes>"
            ],
            "image/png": "[encoded data removed]"
          },
          "metadata": {}
        }
      ]
    },
    {
      "cell_type": "code",
      "source": [
        "probability_model = tf.keras.Sequential([model,\n",
        "                                         tf.keras.layers.Softmax()])"
      ],
      "metadata": {
        "id": "VzOdKAT_uV-f"
      },
      "execution_count": 21,
      "outputs": []
    },
    {
      "cell_type": "code",
      "source": [
        "predictions = probability_model.predict(x_test)"
      ],
      "metadata": {
        "id": "f4is3NFruYom",
        "outputId": "54a05755-123b-402e-84ce-913cd900b0b0",
        "colab": {
          "base_uri": "https://localhost:8080/"
        }
      },
      "execution_count": 22,
      "outputs": [
        {
          "output_type": "stream",
          "name": "stdout",
          "text": [
            "313/313 [==============================] - 1s 4ms/step\n"
          ]
        }
      ]
    },
    {
      "cell_type": "code",
      "source": [
        "predictions[0]"
      ],
      "metadata": {
        "id": "82cigvlZudz_",
        "outputId": "6a4292b2-acde-48b9-b73b-33ee61f43a20",
        "colab": {
          "base_uri": "https://localhost:8080/"
        }
      },
      "execution_count": 23,
      "outputs": [
        {
          "output_type": "execute_result",
          "data": {
            "text/plain": [
              "array([0.08658932, 0.0865887 , 0.08658883, 0.08658931, 0.0865888 ,\n",
              "       0.08697829, 0.08658922, 0.09635162, 0.08660223, 0.21053363],\n",
              "      dtype=float32)"
            ]
          },
          "metadata": {},
          "execution_count": 23
        }
      ]
    },
    {
      "cell_type": "code",
      "source": [
        "model.summary()"
      ],
      "metadata": {
        "id": "6RsQPHyYuNGe",
        "outputId": "6b0b124f-c579-428b-f0a3-13789079cf7e",
        "colab": {
          "base_uri": "https://localhost:8080/"
        }
      },
      "execution_count": 24,
      "outputs": [
        {
          "output_type": "stream",
          "name": "stdout",
          "text": [
            "Model: \"sequential\"\n",
            "_________________________________________________________________\n",
            " Layer (type)                Output Shape              Param #   \n",
            "=================================================================\n",
            " flatten (Flatten)           (None, 784)               0         \n",
            "                                                                 \n",
            " dropout (Dropout)           (None, 784)               0         \n",
            "                                                                 \n",
            " batch_normalization (Batch  (None, 784)               3136      \n",
            " Normalization)                                                  \n",
            "                                                                 \n",
            " dense (Dense)               (None, 256)               200960    \n",
            "                                                                 \n",
            " dropout_1 (Dropout)         (None, 256)               0         \n",
            "                                                                 \n",
            " batch_normalization_1 (Bat  (None, 256)               1024      \n",
            " chNormalization)                                                \n",
            "                                                                 \n",
            " dense_1 (Dense)             (None, 512)               131584    \n",
            "                                                                 \n",
            " dropout_2 (Dropout)         (None, 512)               0         \n",
            "                                                                 \n",
            " batch_normalization_2 (Bat  (None, 512)               2048      \n",
            " chNormalization)                                                \n",
            "                                                                 \n",
            " dense_2 (Dense)             (None, 512)               262656    \n",
            "                                                                 \n",
            " dropout_3 (Dropout)         (None, 512)               0         \n",
            "                                                                 \n",
            " dense_3 (Dense)             (None, 10)                5130      \n",
            "                                                                 \n",
            "=================================================================\n",
            "Total params: 606538 (2.31 MB)\n",
            "Trainable params: 603434 (2.30 MB)\n",
            "Non-trainable params: 3104 (12.12 KB)\n",
            "_________________________________________________________________\n"
          ]
        }
      ]
    }
  ]
}