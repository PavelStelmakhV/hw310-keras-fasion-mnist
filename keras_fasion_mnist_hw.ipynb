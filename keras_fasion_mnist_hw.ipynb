{
  "nbformat": 4,
  "nbformat_minor": 0,
  "metadata": {
    "colab": {
      "provenance": [],
      "authorship_tag": "ABX9TyNSph+19/UINFFXBnceSr42",
      "include_colab_link": true
    },
    "kernelspec": {
      "name": "python3",
      "display_name": "Python 3"
    },
    "language_info": {
      "name": "python"
    }
  },
  "cells": [
    {
      "cell_type": "markdown",
      "metadata": {
        "id": "view-in-github",
        "colab_type": "text"
      },
      "source": [
        "<a href=\"https://colab.research.google.com/github/PavelStelmakhV/hw310-keras-fasion-mnist/blob/main/keras_fasion_mnist_hw.ipynb\" target=\"_parent\"><img src=\"https://colab.research.google.com/assets/colab-badge.svg\" alt=\"Open In Colab\"/></a>"
      ]
    },
    {
      "cell_type": "code",
      "source": [
        "import tensorflow as tf\n",
        "from tensorflow.python.client import device_lib\n",
        "print(device_lib.list_local_devices())"
      ],
      "metadata": {
        "colab": {
          "base_uri": "https://localhost:8080/"
        },
        "id": "CQL6wYJUms6Y",
        "outputId": "214b47e2-5fda-4036-d770-a0bc134d1fbc"
      },
      "execution_count": 276,
      "outputs": [
        {
          "output_type": "stream",
          "name": "stdout",
          "text": [
            "[name: \"/device:CPU:0\"\n",
            "device_type: \"CPU\"\n",
            "memory_limit: 268435456\n",
            "locality {\n",
            "}\n",
            "incarnation: 10089336871917086698\n",
            "xla_global_id: -1\n",
            "]\n"
          ]
        }
      ]
    },
    {
      "cell_type": "code",
      "execution_count": 277,
      "metadata": {
        "id": "vv7w0bgAVQPO"
      },
      "outputs": [],
      "source": [
        "import tensorflow as tf\n",
        "import numpy as np\n",
        "import matplotlib.pyplot as plt\n",
        "import tf_keras\n",
        "\n",
        "from keras import layers\n",
        "from keras import models\n",
        "from keras import regularizers\n",
        "from keras import callbacks\n",
        "from keras import initializers\n",
        "from keras.layers import BatchNormalization\n",
        "from keras.models import load_model"
      ]
    },
    {
      "cell_type": "code",
      "source": [
        "num_classes = 10"
      ],
      "metadata": {
        "id": "RvT1uYJsa5cn"
      },
      "execution_count": 278,
      "outputs": []
    },
    {
      "cell_type": "code",
      "source": [
        "fashion_mnist = tf.keras.datasets.fashion_mnist\n",
        "\n",
        "(x_train, y_train), (x_test, y_test) = fashion_mnist.load_data()"
      ],
      "metadata": {
        "id": "mOpywsNAzfGB"
      },
      "execution_count": 279,
      "outputs": []
    },
    {
      "cell_type": "code",
      "source": [
        "np.transpose(y_train).shape"
      ],
      "metadata": {
        "id": "djIFwQxwMvQR",
        "outputId": "15c090b8-42a9-4a87-9add-7c79bea57f2e",
        "colab": {
          "base_uri": "https://localhost:8080/"
        }
      },
      "execution_count": 280,
      "outputs": [
        {
          "output_type": "execute_result",
          "data": {
            "text/plain": [
              "(60000,)"
            ]
          },
          "metadata": {},
          "execution_count": 280
        }
      ]
    },
    {
      "cell_type": "code",
      "source": [
        "y_train.shape"
      ],
      "metadata": {
        "id": "clHS88VQNR82",
        "outputId": "e15e3a33-22bc-486a-ac48-077b735cbe35",
        "colab": {
          "base_uri": "https://localhost:8080/"
        }
      },
      "execution_count": 281,
      "outputs": [
        {
          "output_type": "execute_result",
          "data": {
            "text/plain": [
              "(60000,)"
            ]
          },
          "metadata": {},
          "execution_count": 281
        }
      ]
    },
    {
      "cell_type": "code",
      "source": [
        "def drow_hist(data):\n",
        "  plt.figure(figsize=(8,6), dpi= 80)\n",
        "  _ = plt.hist(data,\n",
        "              bins=num_classes,\n",
        "              stacked=True,\n",
        "              density=False,\n",
        "              range=(0,10),\n",
        "              rwidth=0.9,\n",
        "              )"
      ],
      "metadata": {
        "id": "NjEvuOvomEoT"
      },
      "execution_count": 282,
      "outputs": []
    },
    {
      "cell_type": "code",
      "source": [
        "# create validation data\n",
        "val_size = 10000\n",
        "\n",
        "x_val = x_train[-val_size:, :, :]\n",
        "x_train = x_train[:-val_size, :, :]\n",
        "\n",
        "y_val = y_train[-val_size:]\n",
        "y_train = y_train[:-val_size]"
      ],
      "metadata": {
        "id": "jAs92sDoVU89"
      },
      "execution_count": 283,
      "outputs": []
    },
    {
      "cell_type": "code",
      "source": [
        "# mirror train image\n",
        "x_train_add = np.rot90(x_train, k=1, axes=(1,2))\n",
        "x_train_add = np.transpose(x_train_add, (0, 2, 1))"
      ],
      "metadata": {
        "id": "UHNuw-3D_v7x"
      },
      "execution_count": 284,
      "outputs": []
    },
    {
      "cell_type": "code",
      "source": [
        "y_train_add = y_train.copy()"
      ],
      "metadata": {
        "id": "TNDXV8RfZbt1"
      },
      "execution_count": 285,
      "outputs": []
    },
    {
      "cell_type": "code",
      "source": [
        "# remove boots image from addition data [5, 7, 9]\n",
        "for i in [5, 7, 9]:\n",
        "    index = np.where(y_train_add == i )\n",
        "    x_train_add = np.delete(x_train_add, index , axis=0)\n",
        "    y_train_add = np.delete(y_train_add, index , axis=0)"
      ],
      "metadata": {
        "id": "506yp4e5UqKp"
      },
      "execution_count": 286,
      "outputs": []
    },
    {
      "cell_type": "code",
      "source": [
        "x_train_add.shape"
      ],
      "metadata": {
        "colab": {
          "base_uri": "https://localhost:8080/"
        },
        "id": "WB-PVgBb116E",
        "outputId": "9c9d2b02-e1fc-412f-f88a-baa0c84421b8"
      },
      "execution_count": 287,
      "outputs": [
        {
          "output_type": "execute_result",
          "data": {
            "text/plain": [
              "(34972, 28, 28)"
            ]
          },
          "metadata": {},
          "execution_count": 287
        }
      ]
    },
    {
      "cell_type": "code",
      "source": [
        "y_train_add.shape"
      ],
      "metadata": {
        "colab": {
          "base_uri": "https://localhost:8080/"
        },
        "id": "MjteIWwr2V-N",
        "outputId": "55425532-a632-4c1e-b697-758263d9d12e"
      },
      "execution_count": 288,
      "outputs": [
        {
          "output_type": "execute_result",
          "data": {
            "text/plain": [
              "(34972,)"
            ]
          },
          "metadata": {},
          "execution_count": 288
        }
      ]
    },
    {
      "cell_type": "code",
      "source": [
        "x_train = np.concatenate([\n",
        "    x_train,\n",
        "    x_train_add[:10000:, :, :]\n",
        "])"
      ],
      "metadata": {
        "id": "C25g0-L5PuhV"
      },
      "execution_count": 289,
      "outputs": []
    },
    {
      "cell_type": "code",
      "source": [
        "y_train = np.concatenate([\n",
        "    y_train,\n",
        "    y_train_add[:10000]\n",
        "])"
      ],
      "metadata": {
        "id": "JiyI9CE-RWnR"
      },
      "execution_count": 290,
      "outputs": []
    },
    {
      "cell_type": "code",
      "source": [
        "drow_hist(y_train)"
      ],
      "metadata": {
        "colab": {
          "base_uri": "https://localhost:8080/",
          "height": 420
        },
        "id": "j0FZ4_7DpRVw",
        "outputId": "14800b41-d44f-40f3-9a4a-13bb3784b0fb"
      },
      "execution_count": 291,
      "outputs": [
        {
          "output_type": "display_data",
          "data": {
            "text/plain": [
              "<Figure size 640x480 with 1 Axes>"
            ],
            "image/png": "[encoded data removed]"
          },
          "metadata": {}
        }
      ]
    },
    {
      "cell_type": "code",
      "source": [
        "# plt.figure()\n",
        "# plt.imshow(x_train[7])\n",
        "# plt.colorbar()\n",
        "# plt.grid(False)\n",
        "# plt.show()"
      ],
      "metadata": {
        "id": "mq_QalIABCeU"
      },
      "execution_count": 292,
      "outputs": []
    },
    {
      "cell_type": "code",
      "source": [
        "# plt.figure()\n",
        "# plt.imshow(x_train_add[0])\n",
        "# plt.colorbar()\n",
        "# plt.grid(False)\n",
        "# plt.show()"
      ],
      "metadata": {
        "id": "CDLNL7Zw3HEc"
      },
      "execution_count": 293,
      "outputs": []
    },
    {
      "cell_type": "code",
      "source": [
        "x_train = x_train.astype('float32') / 255\n",
        "x_test = x_test.astype('float32') / 255\n",
        "\n",
        "y_train = y_train.astype('float32')\n",
        "y_test = y_test.astype('float32')\n",
        "\n",
        "x_val = x_val.astype('float32') / 255\n",
        "y_val = y_val.astype('float32')"
      ],
      "metadata": {
        "id": "t2gucjsJ0KUi"
      },
      "execution_count": 294,
      "outputs": []
    },
    {
      "cell_type": "code",
      "source": [
        "# class_names = ['T-shirt/top', 'Trouser', 'Pullover', 'Dress', 'Coat',\n",
        "#                'Sandal', 'Shirt', 'Sneaker', 'Bag', 'Ankle boot']\n",
        "\n",
        "# plt.figure(figsize=(10,10))\n",
        "# for i in range(25):\n",
        "#     plt.subplot(5,5,i+1)\n",
        "#     plt.xticks([])\n",
        "#     plt.yticks([])\n",
        "#     plt.grid(False)\n",
        "#     plt.imshow(x_train[i+50000], cmap=plt.cm.binary)\n",
        "#     plt.xlabel(class_names[int(y_train[i+50000])])\n",
        "# plt.show()"
      ],
      "metadata": {
        "id": "h4LveKxM4hyC"
      },
      "execution_count": 295,
      "outputs": []
    },
    {
      "cell_type": "code",
      "source": [
        "# plt.figure(figsize=(10,10))\n",
        "# for i in range(25):\n",
        "#     plt.subplot(5,5,i+1)\n",
        "#     plt.xticks([])\n",
        "#     plt.yticks([])\n",
        "#     plt.grid(False)\n",
        "#     plt.imshow(x_train[i], cmap=plt.cm.binary)\n",
        "#     plt.xlabel(class_names[int(y_train[i])])\n",
        "# plt.show()"
      ],
      "metadata": {
        "id": "hljEDYd55d8Q"
      },
      "execution_count": 296,
      "outputs": []
    },
    {
      "cell_type": "code",
      "source": [
        "w_init_tanh = initializers.glorot_normal(seed=111)\n",
        "w_init_relu = initializers.HeNormal(seed=66)\n",
        "# w_init_relu = initializers.HeUniform(seed=24)\n",
        "b_init = initializers.Zeros()"
      ],
      "metadata": {
        "id": "yL9QTEtBGy4N"
      },
      "execution_count": 297,
      "outputs": []
    },
    {
      "cell_type": "code",
      "source": [
        "drop_out = 0.33"
      ],
      "metadata": {
        "id": "flsDcVTnU10J"
      },
      "execution_count": 298,
      "outputs": []
    },
    {
      "cell_type": "code",
      "source": [
        "def layer_relu(model, neurons):\n",
        "  model.add(BatchNormalization())\n",
        "  model.add(layers.Dense(neurons,\n",
        "                       activation='relu',\n",
        "                       kernel_initializer=w_init_relu,\n",
        "                       bias_initializer=b_init))\n",
        "  model.add(layers.Dropout(drop_out))\n",
        "  return model"
      ],
      "metadata": {
        "id": "ZZgs_25rKBCp"
      },
      "execution_count": 299,
      "outputs": []
    },
    {
      "cell_type": "code",
      "source": [
        "def layer_tanh(model, neurons):\n",
        "  model.add(BatchNormalization())\n",
        "  model.add(layers.Dense(neurons,\n",
        "                        activation='tanh',\n",
        "                        kernel_initializer=w_init_tanh,\n",
        "                        bias_initializer=b_init))\n",
        "  model.add(layers.Dropout(drop_out))\n",
        "  return model"
      ],
      "metadata": {
        "id": "90JLLnkBR50t"
      },
      "execution_count": 300,
      "outputs": []
    },
    {
      "cell_type": "code",
      "source": [
        "model = models.Sequential()\n",
        "\n",
        "neurons = 256\n",
        "\n",
        "model.add(layers.Flatten(input_shape=(28, 28)))\n",
        "model.add(layers.Dropout(drop_out))\n",
        "\n",
        "model = layer_relu(model, neurons*1)\n",
        "model = layer_relu(model, neurons*2)\n",
        "model = layer_relu(model, neurons*2)\n",
        "# model = layer_relu(model, neurons*1)\n",
        "\n",
        "\n",
        "model.add(layers.Dense(10, activation='softmax'))"
      ],
      "metadata": {
        "id": "atS39i4d0aqW"
      },
      "execution_count": 301,
      "outputs": []
    },
    {
      "cell_type": "markdown",
      "source": [
        "++++++++++++++++++++++++++++++++++++++++++++++++++++++++++++++++++++++++++++++++"
      ],
      "metadata": {
        "id": "tZO7hl7pM63y"
      }
    },
    {
      "cell_type": "code",
      "source": [
        "# optimizer = tf.keras.optimizers.Nadam(learning_rate=0.0003,\n",
        "#                                       beta_1=0.92,\n",
        "#                                       beta_2=0.999,\n",
        "#                                       epsilon=1e-04\n",
        "# )\n",
        "optimizer = tf.keras.optimizers.experimental.RMSprop(learning_rate=0.001,\n",
        "                                                    rho=0.9,\n",
        "                                                    momentum=-4,\n",
        "                                                    epsilon=1e-07,\n",
        "                                                    centered=False,\n",
        "                                                    weight_decay=None,\n",
        "                                                    clipnorm=None,\n",
        "                                                    clipvalue=None,\n",
        "                                                    global_clipnorm=None,\n",
        "                                                    use_ema=False,\n",
        "                                                    ema_momentum=0.99,\n",
        "                                                    ema_overwrite_frequency=100,\n",
        "                                                    jit_compile=True,\n",
        "                                                    name='RMSprop',\n",
        ")"
      ],
      "metadata": {
        "id": "EzfnaqIZlfy8"
      },
      "execution_count": 302,
      "outputs": []
    },
    {
      "cell_type": "markdown",
      "source": [
        "++++++++++++++++++++++++++++++++++++++++++++++++++++++++++++++++++++++++++++++++"
      ],
      "metadata": {
        "id": "KHmBptvOM95Z"
      }
    },
    {
      "cell_type": "code",
      "source": [
        "model.compile(#optimizer='adam',\n",
        "              # optimizer='adamax',\n",
        "              optimizer=optimizer,\n",
        "              # optimizer='rmsprop',\n",
        "              # optimizer='sgd',\n",
        "              # optimizer='adadelta',\n",
        "              # loss='binary_crossentropy',\n",
        "              loss=tf.keras.losses.SparseCategoricalCrossentropy(),\n",
        "              metrics=['sparse_categorical_accuracy']) # sparse_categorical_accuracy"
      ],
      "metadata": {
        "id": "hENVaAC7ilNY"
      },
      "execution_count": 303,
      "outputs": []
    },
    {
      "cell_type": "code",
      "source": [
        "x = np.random.random((1, 28, 28))\n",
        "a = model.predict(x)\n",
        "_ = plt.hist(np.transpose(a))"
      ],
      "metadata": {
        "id": "RFgZHNNFMa8p",
        "outputId": "862a71d0-3271-4efd-a0d9-25033ce67dff",
        "colab": {
          "base_uri": "https://localhost:8080/",
          "height": 448
        }
      },
      "execution_count": 304,
      "outputs": [
        {
          "output_type": "stream",
          "name": "stdout",
          "text": [
            "1/1 [==============================] - 0s 127ms/step\n"
          ]
        },
        {
          "output_type": "display_data",
          "data": {
            "text/plain": [
              "<Figure size 640x480 with 1 Axes>"
            ],
            "image/png": "[encoded data removed]"
          },
          "metadata": {}
        }
      ]
    },
    {
      "cell_type": "code",
      "source": [
        "y_pred = model.predict(x_test)"
      ],
      "metadata": {
        "id": "UDP8OKKZ8oQa",
        "outputId": "2a34bf04-1f6c-42e9-bce2-9ee93022dcc6",
        "colab": {
          "base_uri": "https://localhost:8080/"
        }
      },
      "execution_count": 305,
      "outputs": [
        {
          "output_type": "stream",
          "name": "stdout",
          "text": [
            "313/313 [==============================] - 1s 4ms/step\n"
          ]
        }
      ]
    },
    {
      "cell_type": "code",
      "source": [
        "callback = callbacks.EarlyStopping(monitor='val_loss',\n",
        "                                   patience=15,\n",
        "                                   restore_best_weights=True,\n",
        "                                   )\n",
        "es = callbacks.EarlyStopping(monitor='val_loss', mode='min', verbose=0, patience=15)\n",
        "mc = callbacks.ModelCheckpoint('best_model.h5', monitor='sparse_categorical_accuracy', mode='max', verbose=0, save_best_only=True)\n"
      ],
      "metadata": {
        "id": "5ihU4exVlsjm"
      },
      "execution_count": 306,
      "outputs": []
    },
    {
      "cell_type": "code",
      "source": [
        "history = model.fit(x_train, y_train,\n",
        "                    epochs=200,\n",
        "                    batch_size=64,\n",
        "                    # callbacks=[callback],\n",
        "                    callbacks=[mc, es],\n",
        "                    verbose=1, #многословие\n",
        "                    # validation_split=0.2\n",
        "                    validation_data=(x_val, y_val)\n",
        "                    )\n",
        "test_loss, test_acc = model.evaluate(x_test, y_test)\n",
        "print('\\nTest accuracy:', test_acc)"
      ],
      "metadata": {
        "id": "FH8HcMNm233I",
        "outputId": "565fa2cd-fc91-4134-9b64-9d993515ee5f",
        "colab": {
          "base_uri": "https://localhost:8080/"
        }
      },
      "execution_count": 307,
      "outputs": [
        {
          "output_type": "stream",
          "name": "stdout",
          "text": [
            "Epoch 1/200\n",
            "938/938 [==============================] - 16s 16ms/step - loss: 0.7726 - sparse_categorical_accuracy: 0.7321 - val_loss: 0.4867 - val_sparse_categorical_accuracy: 0.8195\n",
            "Epoch 2/200\n",
            "938/938 [==============================] - 15s 16ms/step - loss: 0.5839 - sparse_categorical_accuracy: 0.7930 - val_loss: 0.4377 - val_sparse_categorical_accuracy: 0.8409\n",
            "Epoch 3/200\n",
            "938/938 [==============================] - 15s 16ms/step - loss: 0.5421 - sparse_categorical_accuracy: 0.8085 - val_loss: 0.4009 - val_sparse_categorical_accuracy: 0.8587\n",
            "Epoch 4/200\n",
            "938/938 [==============================] - 15s 16ms/step - loss: 0.5231 - sparse_categorical_accuracy: 0.8155 - val_loss: 0.3826 - val_sparse_categorical_accuracy: 0.8634\n",
            "Epoch 5/200\n",
            "938/938 [==============================] - 15s 16ms/step - loss: 0.5102 - sparse_categorical_accuracy: 0.8213 - val_loss: 0.4047 - val_sparse_categorical_accuracy: 0.8529\n",
            "Epoch 6/200\n",
            "938/938 [==============================] - 15s 16ms/step - loss: 0.5004 - sparse_categorical_accuracy: 0.8252 - val_loss: 0.3898 - val_sparse_categorical_accuracy: 0.8545\n",
            "Epoch 7/200\n",
            "938/938 [==============================] - 16s 17ms/step - loss: 0.4897 - sparse_categorical_accuracy: 0.8273 - val_loss: 0.3856 - val_sparse_categorical_accuracy: 0.8666\n",
            "Epoch 8/200\n",
            "938/938 [==============================] - 16s 17ms/step - loss: 0.4823 - sparse_categorical_accuracy: 0.8295 - val_loss: 0.3913 - val_sparse_categorical_accuracy: 0.8607\n",
            "Epoch 9/200\n",
            "938/938 [==============================] - 15s 16ms/step - loss: 0.4821 - sparse_categorical_accuracy: 0.8300 - val_loss: 0.3626 - val_sparse_categorical_accuracy: 0.8678\n",
            "Epoch 10/200\n",
            "938/938 [==============================] - 15s 16ms/step - loss: 0.4700 - sparse_categorical_accuracy: 0.8361 - val_loss: 0.3520 - val_sparse_categorical_accuracy: 0.8751\n",
            "Epoch 11/200\n",
            "938/938 [==============================] - 15s 16ms/step - loss: 0.4625 - sparse_categorical_accuracy: 0.8380 - val_loss: 0.3498 - val_sparse_categorical_accuracy: 0.8754\n",
            "Epoch 12/200\n",
            "938/938 [==============================] - 15s 16ms/step - loss: 0.4624 - sparse_categorical_accuracy: 0.8362 - val_loss: 0.3439 - val_sparse_categorical_accuracy: 0.8739\n",
            "Epoch 13/200\n",
            "938/938 [==============================] - 16s 17ms/step - loss: 0.4552 - sparse_categorical_accuracy: 0.8407 - val_loss: 0.3603 - val_sparse_categorical_accuracy: 0.8750\n",
            "Epoch 14/200\n",
            "938/938 [==============================] - 15s 16ms/step - loss: 0.4551 - sparse_categorical_accuracy: 0.8404 - val_loss: 0.3716 - val_sparse_categorical_accuracy: 0.8673\n",
            "Epoch 15/200\n",
            "938/938 [==============================] - 15s 15ms/step - loss: 0.4498 - sparse_categorical_accuracy: 0.8418 - val_loss: 0.3484 - val_sparse_categorical_accuracy: 0.8772\n",
            "Epoch 16/200\n",
            "938/938 [==============================] - 15s 16ms/step - loss: 0.4472 - sparse_categorical_accuracy: 0.8420 - val_loss: 0.3415 - val_sparse_categorical_accuracy: 0.8787\n",
            "Epoch 17/200\n",
            "938/938 [==============================] - 15s 16ms/step - loss: 0.4397 - sparse_categorical_accuracy: 0.8424 - val_loss: 0.3343 - val_sparse_categorical_accuracy: 0.8776\n",
            "Epoch 18/200\n",
            "938/938 [==============================] - 15s 16ms/step - loss: 0.4392 - sparse_categorical_accuracy: 0.8454 - val_loss: 0.3388 - val_sparse_categorical_accuracy: 0.8773\n",
            "Epoch 19/200\n",
            "938/938 [==============================] - 16s 17ms/step - loss: 0.4383 - sparse_categorical_accuracy: 0.8459 - val_loss: 0.3498 - val_sparse_categorical_accuracy: 0.8719\n",
            "Epoch 20/200\n",
            "938/938 [==============================] - 15s 15ms/step - loss: 0.4390 - sparse_categorical_accuracy: 0.8455 - val_loss: 0.3450 - val_sparse_categorical_accuracy: 0.8738\n",
            "Epoch 21/200\n",
            "938/938 [==============================] - 15s 15ms/step - loss: 0.4293 - sparse_categorical_accuracy: 0.8477 - val_loss: 0.3356 - val_sparse_categorical_accuracy: 0.8800\n",
            "Epoch 22/200\n",
            "938/938 [==============================] - 15s 16ms/step - loss: 0.4270 - sparse_categorical_accuracy: 0.8493 - val_loss: 0.3333 - val_sparse_categorical_accuracy: 0.8816\n",
            "Epoch 23/200\n",
            "938/938 [==============================] - 15s 16ms/step - loss: 0.4266 - sparse_categorical_accuracy: 0.8503 - val_loss: 0.3297 - val_sparse_categorical_accuracy: 0.8800\n",
            "Epoch 24/200\n",
            "938/938 [==============================] - 15s 16ms/step - loss: 0.4187 - sparse_categorical_accuracy: 0.8512 - val_loss: 0.3260 - val_sparse_categorical_accuracy: 0.8840\n",
            "Epoch 25/200\n",
            "938/938 [==============================] - 15s 16ms/step - loss: 0.4178 - sparse_categorical_accuracy: 0.8539 - val_loss: 0.3378 - val_sparse_categorical_accuracy: 0.8824\n",
            "Epoch 26/200\n",
            "938/938 [==============================] - 15s 16ms/step - loss: 0.4178 - sparse_categorical_accuracy: 0.8532 - val_loss: 0.3293 - val_sparse_categorical_accuracy: 0.8830\n",
            "Epoch 27/200\n",
            "938/938 [==============================] - 15s 16ms/step - loss: 0.4173 - sparse_categorical_accuracy: 0.8519 - val_loss: 0.3272 - val_sparse_categorical_accuracy: 0.8815\n",
            "Epoch 28/200\n",
            "938/938 [==============================] - 15s 16ms/step - loss: 0.4132 - sparse_categorical_accuracy: 0.8539 - val_loss: 0.3250 - val_sparse_categorical_accuracy: 0.8819\n",
            "Epoch 29/200\n",
            "938/938 [==============================] - 16s 17ms/step - loss: 0.4067 - sparse_categorical_accuracy: 0.8553 - val_loss: 0.3422 - val_sparse_categorical_accuracy: 0.8814\n",
            "Epoch 30/200\n",
            "938/938 [==============================] - 15s 16ms/step - loss: 0.4115 - sparse_categorical_accuracy: 0.8551 - val_loss: 0.3245 - val_sparse_categorical_accuracy: 0.8842\n",
            "Epoch 31/200\n",
            "938/938 [==============================] - 15s 16ms/step - loss: 0.4062 - sparse_categorical_accuracy: 0.8561 - val_loss: 0.3228 - val_sparse_categorical_accuracy: 0.8873\n",
            "Epoch 32/200\n",
            "938/938 [==============================] - 16s 17ms/step - loss: 0.4087 - sparse_categorical_accuracy: 0.8566 - val_loss: 0.3389 - val_sparse_categorical_accuracy: 0.8795\n",
            "Epoch 33/200\n",
            "938/938 [==============================] - 15s 16ms/step - loss: 0.4058 - sparse_categorical_accuracy: 0.8560 - val_loss: 0.3098 - val_sparse_categorical_accuracy: 0.8874\n",
            "Epoch 34/200\n",
            "938/938 [==============================] - 16s 17ms/step - loss: 0.4066 - sparse_categorical_accuracy: 0.8562 - val_loss: 0.3223 - val_sparse_categorical_accuracy: 0.8864\n",
            "Epoch 35/200\n",
            "938/938 [==============================] - 15s 16ms/step - loss: 0.3986 - sparse_categorical_accuracy: 0.8587 - val_loss: 0.3255 - val_sparse_categorical_accuracy: 0.8837\n",
            "Epoch 36/200\n",
            "938/938 [==============================] - 15s 16ms/step - loss: 0.4003 - sparse_categorical_accuracy: 0.8575 - val_loss: 0.3342 - val_sparse_categorical_accuracy: 0.8797\n",
            "Epoch 37/200\n",
            "938/938 [==============================] - 15s 16ms/step - loss: 0.4017 - sparse_categorical_accuracy: 0.8566 - val_loss: 0.3200 - val_sparse_categorical_accuracy: 0.8829\n",
            "Epoch 38/200\n",
            "938/938 [==============================] - 15s 16ms/step - loss: 0.3987 - sparse_categorical_accuracy: 0.8587 - val_loss: 0.3181 - val_sparse_categorical_accuracy: 0.8835\n",
            "Epoch 39/200\n",
            "938/938 [==============================] - 15s 17ms/step - loss: 0.4008 - sparse_categorical_accuracy: 0.8593 - val_loss: 0.3155 - val_sparse_categorical_accuracy: 0.8875\n",
            "Epoch 40/200\n",
            "938/938 [==============================] - 15s 16ms/step - loss: 0.3995 - sparse_categorical_accuracy: 0.8589 - val_loss: 0.3243 - val_sparse_categorical_accuracy: 0.8889\n",
            "Epoch 41/200\n",
            "938/938 [==============================] - 15s 16ms/step - loss: 0.4007 - sparse_categorical_accuracy: 0.8583 - val_loss: 0.3134 - val_sparse_categorical_accuracy: 0.8877\n",
            "Epoch 42/200\n",
            "938/938 [==============================] - 15s 16ms/step - loss: 0.3998 - sparse_categorical_accuracy: 0.8582 - val_loss: 0.3386 - val_sparse_categorical_accuracy: 0.8801\n",
            "Epoch 43/200\n",
            "938/938 [==============================] - 15s 16ms/step - loss: 0.3954 - sparse_categorical_accuracy: 0.8606 - val_loss: 0.3183 - val_sparse_categorical_accuracy: 0.8857\n",
            "Epoch 44/200\n",
            "938/938 [==============================] - 17s 18ms/step - loss: 0.3947 - sparse_categorical_accuracy: 0.8596 - val_loss: 0.3152 - val_sparse_categorical_accuracy: 0.8874\n",
            "Epoch 45/200\n",
            "938/938 [==============================] - 15s 16ms/step - loss: 0.3911 - sparse_categorical_accuracy: 0.8607 - val_loss: 0.3135 - val_sparse_categorical_accuracy: 0.8891\n",
            "Epoch 46/200\n",
            "938/938 [==============================] - 15s 16ms/step - loss: 0.3899 - sparse_categorical_accuracy: 0.8608 - val_loss: 0.3205 - val_sparse_categorical_accuracy: 0.8877\n",
            "Epoch 47/200\n",
            "938/938 [==============================] - 15s 16ms/step - loss: 0.3950 - sparse_categorical_accuracy: 0.8604 - val_loss: 0.3240 - val_sparse_categorical_accuracy: 0.8840\n",
            "Epoch 48/200\n",
            "938/938 [==============================] - 15s 16ms/step - loss: 0.3919 - sparse_categorical_accuracy: 0.8616 - val_loss: 0.3073 - val_sparse_categorical_accuracy: 0.8881\n",
            "Epoch 49/200\n",
            "938/938 [==============================] - 16s 17ms/step - loss: 0.3869 - sparse_categorical_accuracy: 0.8626 - val_loss: 0.3159 - val_sparse_categorical_accuracy: 0.8894\n",
            "Epoch 50/200\n",
            "938/938 [==============================] - 15s 16ms/step - loss: 0.3968 - sparse_categorical_accuracy: 0.8616 - val_loss: 0.3170 - val_sparse_categorical_accuracy: 0.8839\n",
            "Epoch 51/200\n",
            "938/938 [==============================] - 15s 16ms/step - loss: 0.3913 - sparse_categorical_accuracy: 0.8608 - val_loss: 0.3104 - val_sparse_categorical_accuracy: 0.8882\n",
            "Epoch 52/200\n",
            "938/938 [==============================] - 15s 16ms/step - loss: 0.3925 - sparse_categorical_accuracy: 0.8609 - val_loss: 0.3205 - val_sparse_categorical_accuracy: 0.8868\n",
            "Epoch 53/200\n",
            "938/938 [==============================] - 15s 16ms/step - loss: 0.3915 - sparse_categorical_accuracy: 0.8618 - val_loss: 0.3278 - val_sparse_categorical_accuracy: 0.8834\n",
            "Epoch 54/200\n",
            "938/938 [==============================] - 16s 17ms/step - loss: 0.3880 - sparse_categorical_accuracy: 0.8636 - val_loss: 0.3205 - val_sparse_categorical_accuracy: 0.8878\n",
            "Epoch 55/200\n",
            "938/938 [==============================] - 15s 16ms/step - loss: 0.3882 - sparse_categorical_accuracy: 0.8629 - val_loss: 0.3151 - val_sparse_categorical_accuracy: 0.8864\n",
            "Epoch 56/200\n",
            "938/938 [==============================] - 15s 16ms/step - loss: 0.3924 - sparse_categorical_accuracy: 0.8616 - val_loss: 0.3112 - val_sparse_categorical_accuracy: 0.8878\n",
            "Epoch 57/200\n",
            "938/938 [==============================] - 16s 17ms/step - loss: 0.3902 - sparse_categorical_accuracy: 0.8619 - val_loss: 0.3088 - val_sparse_categorical_accuracy: 0.8893\n",
            "Epoch 58/200\n",
            "938/938 [==============================] - 15s 16ms/step - loss: 0.3864 - sparse_categorical_accuracy: 0.8627 - val_loss: 0.3190 - val_sparse_categorical_accuracy: 0.8843\n",
            "Epoch 59/200\n",
            "938/938 [==============================] - 16s 17ms/step - loss: 0.3876 - sparse_categorical_accuracy: 0.8637 - val_loss: 0.3065 - val_sparse_categorical_accuracy: 0.8885\n",
            "Epoch 60/200\n",
            "938/938 [==============================] - 15s 16ms/step - loss: 0.3884 - sparse_categorical_accuracy: 0.8632 - val_loss: 0.3059 - val_sparse_categorical_accuracy: 0.8915\n",
            "Epoch 61/200\n",
            "938/938 [==============================] - 15s 16ms/step - loss: 0.3868 - sparse_categorical_accuracy: 0.8640 - val_loss: 0.3243 - val_sparse_categorical_accuracy: 0.8858\n",
            "Epoch 62/200\n",
            "938/938 [==============================] - 15s 16ms/step - loss: 0.3894 - sparse_categorical_accuracy: 0.8645 - val_loss: 0.3258 - val_sparse_categorical_accuracy: 0.8864\n",
            "Epoch 63/200\n",
            "938/938 [==============================] - 15s 16ms/step - loss: 0.3844 - sparse_categorical_accuracy: 0.8641 - val_loss: 0.3072 - val_sparse_categorical_accuracy: 0.8906\n",
            "Epoch 64/200\n",
            "938/938 [==============================] - 15s 16ms/step - loss: 0.3857 - sparse_categorical_accuracy: 0.8639 - val_loss: 0.3229 - val_sparse_categorical_accuracy: 0.8851\n",
            "Epoch 65/200\n",
            "938/938 [==============================] - 15s 16ms/step - loss: 0.3871 - sparse_categorical_accuracy: 0.8627 - val_loss: 0.3180 - val_sparse_categorical_accuracy: 0.8846\n",
            "Epoch 66/200\n",
            "938/938 [==============================] - 15s 16ms/step - loss: 0.3874 - sparse_categorical_accuracy: 0.8635 - val_loss: 0.3250 - val_sparse_categorical_accuracy: 0.8867\n",
            "Epoch 67/200\n",
            "938/938 [==============================] - 15s 16ms/step - loss: 0.3914 - sparse_categorical_accuracy: 0.8625 - val_loss: 0.3055 - val_sparse_categorical_accuracy: 0.8906\n",
            "Epoch 68/200\n",
            "938/938 [==============================] - 15s 16ms/step - loss: 0.3851 - sparse_categorical_accuracy: 0.8652 - val_loss: 0.3219 - val_sparse_categorical_accuracy: 0.8854\n",
            "Epoch 69/200\n",
            "938/938 [==============================] - 16s 17ms/step - loss: 0.3879 - sparse_categorical_accuracy: 0.8640 - val_loss: 0.3150 - val_sparse_categorical_accuracy: 0.8899\n",
            "Epoch 70/200\n",
            "938/938 [==============================] - 16s 17ms/step - loss: 0.3896 - sparse_categorical_accuracy: 0.8637 - val_loss: 0.3091 - val_sparse_categorical_accuracy: 0.8920\n",
            "Epoch 71/200\n",
            "938/938 [==============================] - 15s 16ms/step - loss: 0.3897 - sparse_categorical_accuracy: 0.8650 - val_loss: 0.3329 - val_sparse_categorical_accuracy: 0.8864\n",
            "Epoch 72/200\n",
            "938/938 [==============================] - 15s 16ms/step - loss: 0.3871 - sparse_categorical_accuracy: 0.8645 - val_loss: 0.3048 - val_sparse_categorical_accuracy: 0.8902\n",
            "Epoch 73/200\n",
            "938/938 [==============================] - 15s 16ms/step - loss: 0.3814 - sparse_categorical_accuracy: 0.8647 - val_loss: 0.3142 - val_sparse_categorical_accuracy: 0.8869\n",
            "Epoch 74/200\n",
            "938/938 [==============================] - 15s 16ms/step - loss: 0.3886 - sparse_categorical_accuracy: 0.8640 - val_loss: 0.3074 - val_sparse_categorical_accuracy: 0.8890\n",
            "Epoch 75/200\n",
            "938/938 [==============================] - 15s 16ms/step - loss: 0.3869 - sparse_categorical_accuracy: 0.8650 - val_loss: 0.3164 - val_sparse_categorical_accuracy: 0.8878\n",
            "Epoch 76/200\n",
            "938/938 [==============================] - 15s 16ms/step - loss: 0.3881 - sparse_categorical_accuracy: 0.8638 - val_loss: 0.3231 - val_sparse_categorical_accuracy: 0.8846\n",
            "Epoch 77/200\n",
            "938/938 [==============================] - 15s 16ms/step - loss: 0.3850 - sparse_categorical_accuracy: 0.8632 - val_loss: 0.3230 - val_sparse_categorical_accuracy: 0.8851\n",
            "Epoch 78/200\n",
            "938/938 [==============================] - 15s 16ms/step - loss: 0.3900 - sparse_categorical_accuracy: 0.8638 - val_loss: 0.3201 - val_sparse_categorical_accuracy: 0.8862\n",
            "Epoch 79/200\n",
            "938/938 [==============================] - 15s 16ms/step - loss: 0.3930 - sparse_categorical_accuracy: 0.8628 - val_loss: 0.3085 - val_sparse_categorical_accuracy: 0.8902\n",
            "Epoch 80/200\n",
            "938/938 [==============================] - 16s 17ms/step - loss: 0.3914 - sparse_categorical_accuracy: 0.8629 - val_loss: 0.3100 - val_sparse_categorical_accuracy: 0.8890\n",
            "Epoch 81/200\n",
            "938/938 [==============================] - 15s 16ms/step - loss: 0.3876 - sparse_categorical_accuracy: 0.8641 - val_loss: 0.3048 - val_sparse_categorical_accuracy: 0.8921\n",
            "Epoch 82/200\n",
            "938/938 [==============================] - 16s 17ms/step - loss: 0.3871 - sparse_categorical_accuracy: 0.8634 - val_loss: 0.3095 - val_sparse_categorical_accuracy: 0.8928\n",
            "Epoch 83/200\n",
            "938/938 [==============================] - 15s 16ms/step - loss: 0.3829 - sparse_categorical_accuracy: 0.8653 - val_loss: 0.3162 - val_sparse_categorical_accuracy: 0.8914\n",
            "Epoch 84/200\n",
            "938/938 [==============================] - 15s 16ms/step - loss: 0.3831 - sparse_categorical_accuracy: 0.8644 - val_loss: 0.3139 - val_sparse_categorical_accuracy: 0.8898\n",
            "Epoch 85/200\n",
            "938/938 [==============================] - 16s 17ms/step - loss: 0.3844 - sparse_categorical_accuracy: 0.8659 - val_loss: 0.3170 - val_sparse_categorical_accuracy: 0.8853\n",
            "Epoch 86/200\n",
            "938/938 [==============================] - 15s 16ms/step - loss: 0.3827 - sparse_categorical_accuracy: 0.8671 - val_loss: 0.3131 - val_sparse_categorical_accuracy: 0.8881\n",
            "Epoch 87/200\n",
            "938/938 [==============================] - 15s 16ms/step - loss: 0.3856 - sparse_categorical_accuracy: 0.8652 - val_loss: 0.3219 - val_sparse_categorical_accuracy: 0.8869\n",
            "Epoch 88/200\n",
            "938/938 [==============================] - 15s 16ms/step - loss: 0.3868 - sparse_categorical_accuracy: 0.8645 - val_loss: 0.3369 - val_sparse_categorical_accuracy: 0.8830\n",
            "Epoch 89/200\n",
            "938/938 [==============================] - 15s 16ms/step - loss: 0.3818 - sparse_categorical_accuracy: 0.8672 - val_loss: 0.3391 - val_sparse_categorical_accuracy: 0.8833\n",
            "Epoch 90/200\n",
            "938/938 [==============================] - 15s 16ms/step - loss: 0.3880 - sparse_categorical_accuracy: 0.8642 - val_loss: 0.3191 - val_sparse_categorical_accuracy: 0.8892\n",
            "Epoch 91/200\n",
            "938/938 [==============================] - 15s 16ms/step - loss: 0.3853 - sparse_categorical_accuracy: 0.8644 - val_loss: 0.3389 - val_sparse_categorical_accuracy: 0.8845\n",
            "Epoch 92/200\n",
            "938/938 [==============================] - 15s 16ms/step - loss: 0.3865 - sparse_categorical_accuracy: 0.8644 - val_loss: 0.3136 - val_sparse_categorical_accuracy: 0.8921\n",
            "Epoch 93/200\n",
            "938/938 [==============================] - 15s 16ms/step - loss: 0.3914 - sparse_categorical_accuracy: 0.8623 - val_loss: 0.3234 - val_sparse_categorical_accuracy: 0.8839\n",
            "Epoch 94/200\n",
            "938/938 [==============================] - 15s 16ms/step - loss: 0.3828 - sparse_categorical_accuracy: 0.8653 - val_loss: 0.3117 - val_sparse_categorical_accuracy: 0.8898\n",
            "Epoch 95/200\n",
            "938/938 [==============================] - 16s 17ms/step - loss: 0.3869 - sparse_categorical_accuracy: 0.8658 - val_loss: 0.3149 - val_sparse_categorical_accuracy: 0.8899\n",
            "Epoch 96/200\n",
            "938/938 [==============================] - 16s 17ms/step - loss: 0.3856 - sparse_categorical_accuracy: 0.8648 - val_loss: 0.3086 - val_sparse_categorical_accuracy: 0.8882\n",
            "313/313 [==============================] - 1s 3ms/step - loss: 0.3268 - sparse_categorical_accuracy: 0.8827\n",
            "\n",
            "Test accuracy: 0.8827000260353088\n"
          ]
        }
      ]
    },
    {
      "cell_type": "code",
      "source": [
        "print('\\nhistory dict:', list(history.history.keys()))"
      ],
      "metadata": {
        "id": "CxRE-B_Q6Sii",
        "colab": {
          "base_uri": "https://localhost:8080/"
        },
        "outputId": "5f09fa2b-f5f3-49ea-b6e0-b8e406d4daac"
      },
      "execution_count": 308,
      "outputs": [
        {
          "output_type": "stream",
          "name": "stdout",
          "text": [
            "\n",
            "history dict: ['loss', 'sparse_categorical_accuracy', 'val_loss', 'val_sparse_categorical_accuracy']\n"
          ]
        }
      ]
    },
    {
      "cell_type": "code",
      "source": [
        "result = model.evaluate(x_test, y_test)\n",
        "print(result)"
      ],
      "metadata": {
        "id": "YXpwRRTvTBNg",
        "colab": {
          "base_uri": "https://localhost:8080/"
        },
        "outputId": "d3f5c41b-c77e-44bb-8189-c1f630c7b87e"
      },
      "execution_count": 309,
      "outputs": [
        {
          "output_type": "stream",
          "name": "stdout",
          "text": [
            "313/313 [==============================] - 1s 3ms/step - loss: 0.3268 - sparse_categorical_accuracy: 0.8827\n",
            "[0.3267543613910675, 0.8827000260353088]\n"
          ]
        }
      ]
    },
    {
      "cell_type": "code",
      "source": [
        "saved_model = load_model('best_model.h5')\n",
        "result = saved_model.evaluate(x_test, y_test)\n",
        "print(result)"
      ],
      "metadata": {
        "id": "dpaZAW0vp1AZ",
        "colab": {
          "base_uri": "https://localhost:8080/"
        },
        "outputId": "4090cd74-89e8-4860-ab78-e8b2a7cdb0b4"
      },
      "execution_count": 310,
      "outputs": [
        {
          "output_type": "stream",
          "name": "stdout",
          "text": [
            "313/313 [==============================] - 1s 4ms/step - loss: 0.3577 - sparse_categorical_accuracy: 0.8795\n",
            "[0.35768675804138184, 0.8794999718666077]\n"
          ]
        }
      ]
    },
    {
      "cell_type": "code",
      "source": [
        "# from keras.models import load_model\n",
        "# saved_model = load_model('best_model.h5')\n",
        "# # _, train_acc = saved_model.evaluate(x_train, y_train, verbose=0)\n",
        "# _, test_acc = saved_model.evaluate(x_test, y_test, verbose=0)\n",
        "# print('Test: %.3f' % (test_acc))"
      ],
      "metadata": {
        "id": "DR_MS9DABo_K"
      },
      "execution_count": 311,
      "outputs": []
    },
    {
      "cell_type": "code",
      "source": [
        "history_dict = history.history\n",
        "loss_values = history_dict['loss']\n",
        "val_loss_values = history_dict['val_loss']\n",
        "\n",
        "epochs = range(1, len(history_dict['loss']) + 1)\n",
        "\n",
        "plt.figure(figsize=(10, 5))\n",
        "plt.plot(epochs, loss_values, 'bo', label='Training loss')\n",
        "plt.plot(epochs, val_loss_values, 'r', label='Validation loss')\n",
        "# plt.ylim (0.2, 0.5)\n",
        "plt.title('Training and validation loss')\n",
        "plt.xlabel('Epochs')\n",
        "plt.ylabel('Loss')\n",
        "plt.legend()\n",
        "plt.grid(True)\n",
        "plt.show()\n",
        "1\n",
        "plt.clf()\n",
        "plt.figure(figsize=(10, 5))\n",
        "val_acc_values = history_dict['sparse_categorical_accuracy']\n",
        "plt.plot(epochs, history_dict['sparse_categorical_accuracy'], 'bo', label='Training acc')\n",
        "plt.plot(epochs, history_dict['val_sparse_categorical_accuracy'], 'r', label='Validation acc')\n",
        "plt.ylim (0.86, 0.92)\n",
        "plt.title('Training and validation accuracy')\n",
        "plt.xlabel('Epochs')\n",
        "plt.ylabel('Accuracy')\n",
        "plt.legend()\n",
        "plt.grid(True)"
      ],
      "metadata": {
        "id": "2Ll_5sGlXKMH",
        "colab": {
          "base_uri": "https://localhost:8080/",
          "height": 975
        },
        "outputId": "5548c08b-eadc-4eb6-e96c-00de13dfecbc"
      },
      "execution_count": 312,
      "outputs": [
        {
          "output_type": "display_data",
          "data": {
            "text/plain": [
              "<Figure size 1000x500 with 1 Axes>"
            ],
            "image/png": "[encoded data removed]"
          },
          "metadata": {}
        },
        {
          "output_type": "display_data",
          "data": {
            "text/plain": [
              "<Figure size 640x480 with 0 Axes>"
            ]
          },
          "metadata": {}
        },
        {
          "output_type": "display_data",
          "data": {
            "text/plain": [
              "<Figure size 1000x500 with 1 Axes>"
            ],
            "image/png": "[encoded data removed]"
          },
          "metadata": {}
        }
      ]
    },
    {
      "cell_type": "code",
      "source": [
        "probability_model = tf.keras.Sequential([model,\n",
        "                                         tf.keras.layers.Softmax()])"
      ],
      "metadata": {
        "id": "VzOdKAT_uV-f"
      },
      "execution_count": 313,
      "outputs": []
    },
    {
      "cell_type": "code",
      "source": [
        "predictions = probability_model.predict(x_test)"
      ],
      "metadata": {
        "id": "f4is3NFruYom",
        "colab": {
          "base_uri": "https://localhost:8080/"
        },
        "outputId": "8d44fdf8-9000-4b57-e8a2-48fb4998d349"
      },
      "execution_count": 314,
      "outputs": [
        {
          "output_type": "stream",
          "name": "stdout",
          "text": [
            "313/313 [==============================] - 2s 6ms/step\n"
          ]
        }
      ]
    },
    {
      "cell_type": "code",
      "source": [
        "predictions[0]"
      ],
      "metadata": {
        "id": "82cigvlZudz_",
        "colab": {
          "base_uri": "https://localhost:8080/"
        },
        "outputId": "b8d7a0bf-0b14-4609-bf4d-fdd7a454e626"
      },
      "execution_count": 315,
      "outputs": [
        {
          "output_type": "execute_result",
          "data": {
            "text/plain": [
              "array([0.0863426 , 0.0863426 , 0.0863426 , 0.0863426 , 0.0863426 ,\n",
              "       0.08810407, 0.0863426 , 0.09227533, 0.08634301, 0.21522185],\n",
              "      dtype=float32)"
            ]
          },
          "metadata": {},
          "execution_count": 315
        }
      ]
    },
    {
      "cell_type": "code",
      "source": [
        "model.summary()"
      ],
      "metadata": {
        "id": "6RsQPHyYuNGe",
        "colab": {
          "base_uri": "https://localhost:8080/"
        },
        "outputId": "35293ceb-a66e-44cd-d949-0a1e84d14c39"
      },
      "execution_count": 316,
      "outputs": [
        {
          "output_type": "stream",
          "name": "stdout",
          "text": [
            "Model: \"sequential_11\"\n",
            "_________________________________________________________________\n",
            " Layer (type)                Output Shape              Param #   \n",
            "=================================================================\n",
            " flatten_6 (Flatten)         (None, 784)               0         \n",
            "                                                                 \n",
            " dropout_24 (Dropout)        (None, 784)               0         \n",
            "                                                                 \n",
            " batch_normalization_18 (Ba  (None, 784)               3136      \n",
            " tchNormalization)                                               \n",
            "                                                                 \n",
            " dense_24 (Dense)            (None, 256)               200960    \n",
            "                                                                 \n",
            " dropout_25 (Dropout)        (None, 256)               0         \n",
            "                                                                 \n",
            " batch_normalization_19 (Ba  (None, 256)               1024      \n",
            " tchNormalization)                                               \n",
            "                                                                 \n",
            " dense_25 (Dense)            (None, 512)               131584    \n",
            "                                                                 \n",
            " dropout_26 (Dropout)        (None, 512)               0         \n",
            "                                                                 \n",
            " batch_normalization_20 (Ba  (None, 512)               2048      \n",
            " tchNormalization)                                               \n",
            "                                                                 \n",
            " dense_26 (Dense)            (None, 512)               262656    \n",
            "                                                                 \n",
            " dropout_27 (Dropout)        (None, 512)               0         \n",
            "                                                                 \n",
            " dense_27 (Dense)            (None, 10)                5130      \n",
            "                                                                 \n",
            "=================================================================\n",
            "Total params: 606538 (2.31 MB)\n",
            "Trainable params: 603434 (2.30 MB)\n",
            "Non-trainable params: 3104 (12.12 KB)\n",
            "_________________________________________________________________\n"
          ]
        }
      ]
    },
    {
      "cell_type": "code",
      "source": [
        "\n",
        "\n",
        "\n",
        "\n",
        "hnyetjn hrte()"
      ],
      "metadata": {
        "id": "S4hcxZttmp-0",
        "colab": {
          "base_uri": "https://localhost:8080/",
          "height": 108
        },
        "outputId": "714e1d3a-9f3b-41a8-da8b-3e88bc7023b1"
      },
      "execution_count": 317,
      "outputs": [
        {
          "output_type": "error",
          "ename": "SyntaxError",
          "evalue": "invalid syntax (<ipython-input-317-1a3818e70946>, line 1)",
          "traceback": [
            "\u001b[0;36m  File \u001b[0;32m\"<ipython-input-317-1a3818e70946>\"\u001b[0;36m, line \u001b[0;32m1\u001b[0m\n\u001b[0;31m    hnyetjn hrte()\u001b[0m\n\u001b[0m            ^\u001b[0m\n\u001b[0;31mSyntaxError\u001b[0m\u001b[0;31m:\u001b[0m invalid syntax\n"
          ]
        }
      ]
    }
  ]
}