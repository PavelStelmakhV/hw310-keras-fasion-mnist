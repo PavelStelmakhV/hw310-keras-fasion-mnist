{
  "nbformat": 4,
  "nbformat_minor": 0,
  "metadata": {
    "colab": {
      "provenance": [],
      "gpuType": "T4",
      "authorship_tag": "ABX9TyNUDbjSrKQKql0L3wW1blL7",
      "include_colab_link": true
    },
    "kernelspec": {
      "name": "python3",
      "display_name": "Python 3"
    },
    "language_info": {
      "name": "python"
    },
    "accelerator": "GPU"
  },
  "cells": [
    {
      "cell_type": "markdown",
      "metadata": {
        "id": "view-in-github",
        "colab_type": "text"
      },
      "source": [
        "<a href=\"https://colab.research.google.com/github/PavelStelmakhV/hw310-keras-fasion-mnist/blob/main/keras_fasion_mnist_hw.ipynb\" target=\"_parent\"><img src=\"https://colab.research.google.com/assets/colab-badge.svg\" alt=\"Open In Colab\"/></a>"
      ]
    },
    {
      "cell_type": "code",
      "execution_count": 20,
      "metadata": {
        "id": "vv7w0bgAVQPO"
      },
      "outputs": [],
      "source": [
        "import tensorflow as tf\n",
        "import numpy as np\n",
        "import matplotlib.pyplot as plt\n",
        "\n",
        "from keras import layers\n",
        "from keras import regularizers\n",
        "from keras import callbacks\n",
        "from keras import initializers\n",
        "from keras.layers import BatchNormalization"
      ]
    },
    {
      "cell_type": "code",
      "source": [
        "fashion_mnist = tf.keras.datasets.fashion_mnist\n",
        "\n",
        "(x_train, y_train), (x_test, y_test) = fashion_mnist.load_data()"
      ],
      "metadata": {
        "id": "mOpywsNAzfGB"
      },
      "execution_count": 21,
      "outputs": []
    },
    {
      "cell_type": "code",
      "source": [
        "# x_train = x_train.reshape(60000, 784).astype('float32') / 255\n",
        "# x_test = x_test.reshape(10000, 784).astype('float32') / 255\n",
        "x_train = x_train.astype('float32') / 255\n",
        "x_test = x_test.astype('float32') / 255\n",
        "\n",
        "y_train = y_train.astype('float32')\n",
        "y_test = y_test.astype('float32')\n",
        "\n",
        "# Перемешаем тренировочные данные\n",
        "# train_data = tf.data.Dataset.from_tensor_slices((x_train, y_train))\n",
        "# train_data = train_data.repeat().shuffle(5000).batch(batch_size).prefetch(1)"
      ],
      "metadata": {
        "id": "t2gucjsJ0KUi"
      },
      "execution_count": 22,
      "outputs": []
    },
    {
      "cell_type": "code",
      "source": [
        "x_val = x_train[-10000:]\n",
        "y_val = y_train[-10000:]\n",
        "x_train = x_train[:-10000]\n",
        "y_train = y_train[:-10000]"
      ],
      "metadata": {
        "id": "fLPNXab5dHwO"
      },
      "execution_count": 23,
      "outputs": []
    },
    {
      "cell_type": "code",
      "source": [],
      "metadata": {
        "id": "bU5TK5YdlnU5"
      },
      "execution_count": 23,
      "outputs": []
    },
    {
      "cell_type": "code",
      "source": [
        "w_init = initializers.glorot_normal()\n",
        "b_init = initializers.Zeros()"
      ],
      "metadata": {
        "id": "yL9QTEtBGy4N"
      },
      "execution_count": 24,
      "outputs": []
    },
    {
      "cell_type": "code",
      "source": [
        "model = tf.keras.Sequential()\n",
        "\n",
        "drop_out = 0.20\n",
        "lern_rat = 0.001\n",
        "neurons = 256\n",
        "\n",
        "model.add(layers.Flatten(input_shape=(28, 28)))\n",
        "model.add(layers.Dropout(drop_out))\n",
        "\n",
        "model.add(layers.Dense(neurons * 1, activation='relu', kernel_initializer=w_init, bias_initializer=b_init)) #, kernel_regularizer=regularizers.l2(lern_rat)\n",
        "model.add(BatchNormalization())\n",
        "model.add(layers.Dropout(drop_out))\n",
        "\n",
        "model.add(layers.Dense(neurons * 2, activation='tanh'))\n",
        "model.add(BatchNormalization())\n",
        "model.add(layers.Dropout(drop_out))\n",
        "\n",
        "model.add(layers.Dense(neurons * 2, activation='relu'))\n",
        "model.add(BatchNormalization())\n",
        "model.add(layers.Dropout(drop_out))\n",
        "\n",
        "# model.add(layers.Dense(neurons * 2, activation='relu'))\n",
        "# model.add(BatchNormalization())\n",
        "# model.add(layers.Dropout(drop_out * 2))\n",
        "\n",
        "model.add(layers.Dense(10, activation='softmax'))"
      ],
      "metadata": {
        "id": "atS39i4d0aqW"
      },
      "execution_count": 25,
      "outputs": []
    },
    {
      "cell_type": "code",
      "source": [],
      "metadata": {
        "id": "EzfnaqIZlfy8"
      },
      "execution_count": 25,
      "outputs": []
    },
    {
      "cell_type": "code",
      "source": [
        "model.compile(#optimizer='adam',\n",
        "              # optimizer='adamax',\n",
        "              optimizer='nadam',\n",
        "              # optimizer='rmsprop',\n",
        "              # optimizer='sgd',\n",
        "              # optimizer='adadelta',\n",
        "              # loss='binary_crossentropy',\n",
        "              loss=tf.keras.losses.SparseCategoricalCrossentropy(),\n",
        "              metrics=['sparse_categorical_accuracy']) # sparse_categorical_accuracy"
      ],
      "metadata": {
        "id": "hENVaAC7ilNY"
      },
      "execution_count": 26,
      "outputs": []
    },
    {
      "cell_type": "code",
      "source": [
        "x = np.random.random((1, 28, 28))\n",
        "a = model.predict(x)\n",
        "_ = plt.hist(np.transpose(a))"
      ],
      "metadata": {
        "id": "RFgZHNNFMa8p",
        "outputId": "03cde2a1-8986-4993-a5d6-3a914eb5a494",
        "colab": {
          "base_uri": "https://localhost:8080/",
          "height": 448
        }
      },
      "execution_count": 27,
      "outputs": [
        {
          "output_type": "stream",
          "name": "stdout",
          "text": [
            "1/1 [==============================] - 0s 200ms/step\n"
          ]
        },
        {
          "output_type": "display_data",
          "data": {
            "text/plain": [
              "<Figure size 640x480 with 1 Axes>"
            ],
            "image/png": "[encoded data removed]"
          },
          "metadata": {}
        }
      ]
    },
    {
      "cell_type": "code",
      "source": [
        "y_pred = model.predict(x_test)"
      ],
      "metadata": {
        "id": "UDP8OKKZ8oQa",
        "outputId": "b534a94d-eaaa-4362-a65e-32b7e18eb436",
        "colab": {
          "base_uri": "https://localhost:8080/"
        }
      },
      "execution_count": 28,
      "outputs": [
        {
          "output_type": "stream",
          "name": "stdout",
          "text": [
            "313/313 [==============================] - 1s 3ms/step\n"
          ]
        }
      ]
    },
    {
      "cell_type": "code",
      "source": [
        "callback = callbacks.EarlyStopping(monitor='val_loss',\n",
        "                                   patience=50,\n",
        "                                   restore_best_weights=True,\n",
        "                                   )\n",
        "es = callbacks.EarlyStopping(monitor='val_loss', mode='min', verbose=1, patience=200)\n",
        "mc = callbacks.ModelCheckpoint('best_model.h5', monitor='val_accuracy', mode='max', verbose=1, save_best_only=True)\n"
      ],
      "metadata": {
        "id": "5ihU4exVlsjm"
      },
      "execution_count": 29,
      "outputs": []
    },
    {
      "cell_type": "code",
      "source": [
        "# model.fit(train_images, train_labels, epochs=20)\n",
        "history = model.fit(x_train, y_train,\n",
        "                    epochs=300,\n",
        "                    batch_size=128,\n",
        "                    # callbacks=[callback],\n",
        "                    # callbacks=[es, mc],\n",
        "                    verbose=1, #многословие\n",
        "                    validation_data=(x_val, y_val))\n",
        "test_loss, test_acc = model.evaluate(x_test, y_test)\n",
        "print('\\nTest accuracy:', test_acc)"
      ],
      "metadata": {
        "id": "FH8HcMNm233I",
        "outputId": "b87b8f9a-e2a6-43ef-d08f-9af64b3609c9",
        "colab": {
          "base_uri": "https://localhost:8080/"
        }
      },
      "execution_count": 30,
      "outputs": [
        {
          "output_type": "stream",
          "name": "stdout",
          "text": [
            "Epoch 1/300\n",
            "391/391 [==============================] - 13s 25ms/step - loss: 0.6179 - sparse_categorical_accuracy: 0.7825 - val_loss: 0.4378 - val_sparse_categorical_accuracy: 0.8401\n",
            "Epoch 2/300\n",
            "391/391 [==============================] - 8s 21ms/step - loss: 0.4562 - sparse_categorical_accuracy: 0.8320 - val_loss: 0.3863 - val_sparse_categorical_accuracy: 0.8566\n",
            "Epoch 3/300\n",
            "391/391 [==============================] - 9s 24ms/step - loss: 0.4153 - sparse_categorical_accuracy: 0.8463 - val_loss: 0.3799 - val_sparse_categorical_accuracy: 0.8623\n",
            "Epoch 4/300\n",
            "391/391 [==============================] - 10s 25ms/step - loss: 0.3923 - sparse_categorical_accuracy: 0.8538 - val_loss: 0.3453 - val_sparse_categorical_accuracy: 0.8706\n",
            "Epoch 5/300\n",
            "391/391 [==============================] - 9s 23ms/step - loss: 0.3821 - sparse_categorical_accuracy: 0.8577 - val_loss: 0.3419 - val_sparse_categorical_accuracy: 0.8728\n",
            "Epoch 6/300\n",
            "391/391 [==============================] - 9s 24ms/step - loss: 0.3678 - sparse_categorical_accuracy: 0.8627 - val_loss: 0.3463 - val_sparse_categorical_accuracy: 0.8744\n",
            "Epoch 7/300\n",
            "391/391 [==============================] - 10s 25ms/step - loss: 0.3574 - sparse_categorical_accuracy: 0.8663 - val_loss: 0.3308 - val_sparse_categorical_accuracy: 0.8780\n",
            "Epoch 8/300\n",
            "391/391 [==============================] - 8s 21ms/step - loss: 0.3539 - sparse_categorical_accuracy: 0.8678 - val_loss: 0.3147 - val_sparse_categorical_accuracy: 0.8848\n",
            "Epoch 9/300\n",
            "391/391 [==============================] - 9s 23ms/step - loss: 0.3437 - sparse_categorical_accuracy: 0.8711 - val_loss: 0.3201 - val_sparse_categorical_accuracy: 0.8823\n",
            "Epoch 10/300\n",
            "391/391 [==============================] - 10s 24ms/step - loss: 0.3419 - sparse_categorical_accuracy: 0.8719 - val_loss: 0.3342 - val_sparse_categorical_accuracy: 0.8751\n",
            "Epoch 11/300\n",
            "391/391 [==============================] - 8s 21ms/step - loss: 0.3354 - sparse_categorical_accuracy: 0.8742 - val_loss: 0.3081 - val_sparse_categorical_accuracy: 0.8858\n",
            "Epoch 12/300\n",
            "391/391 [==============================] - 9s 24ms/step - loss: 0.3306 - sparse_categorical_accuracy: 0.8751 - val_loss: 0.3257 - val_sparse_categorical_accuracy: 0.8816\n",
            "Epoch 13/300\n",
            "391/391 [==============================] - 9s 23ms/step - loss: 0.3282 - sparse_categorical_accuracy: 0.8757 - val_loss: 0.3137 - val_sparse_categorical_accuracy: 0.8870\n",
            "Epoch 14/300\n",
            "391/391 [==============================] - 8s 21ms/step - loss: 0.3188 - sparse_categorical_accuracy: 0.8795 - val_loss: 0.3337 - val_sparse_categorical_accuracy: 0.8798\n",
            "Epoch 15/300\n",
            "391/391 [==============================] - 9s 24ms/step - loss: 0.3166 - sparse_categorical_accuracy: 0.8805 - val_loss: 0.3148 - val_sparse_categorical_accuracy: 0.8827\n",
            "Epoch 16/300\n",
            "391/391 [==============================] - 9s 23ms/step - loss: 0.3141 - sparse_categorical_accuracy: 0.8821 - val_loss: 0.2948 - val_sparse_categorical_accuracy: 0.8923\n",
            "Epoch 17/300\n",
            "391/391 [==============================] - 8s 21ms/step - loss: 0.3076 - sparse_categorical_accuracy: 0.8838 - val_loss: 0.3199 - val_sparse_categorical_accuracy: 0.8824\n",
            "Epoch 18/300\n",
            "391/391 [==============================] - 10s 24ms/step - loss: 0.3046 - sparse_categorical_accuracy: 0.8844 - val_loss: 0.2970 - val_sparse_categorical_accuracy: 0.8922\n",
            "Epoch 19/300\n",
            "391/391 [==============================] - 10s 25ms/step - loss: 0.3013 - sparse_categorical_accuracy: 0.8867 - val_loss: 0.2995 - val_sparse_categorical_accuracy: 0.8918\n",
            "Epoch 20/300\n",
            "391/391 [==============================] - 8s 21ms/step - loss: 0.2982 - sparse_categorical_accuracy: 0.8862 - val_loss: 0.2945 - val_sparse_categorical_accuracy: 0.8955\n",
            "Epoch 21/300\n",
            "391/391 [==============================] - 10s 25ms/step - loss: 0.2955 - sparse_categorical_accuracy: 0.8878 - val_loss: 0.3007 - val_sparse_categorical_accuracy: 0.8903\n",
            "Epoch 22/300\n",
            "391/391 [==============================] - 10s 25ms/step - loss: 0.2942 - sparse_categorical_accuracy: 0.8881 - val_loss: 0.2939 - val_sparse_categorical_accuracy: 0.8939\n",
            "Epoch 23/300\n",
            "391/391 [==============================] - 9s 24ms/step - loss: 0.2928 - sparse_categorical_accuracy: 0.8892 - val_loss: 0.2973 - val_sparse_categorical_accuracy: 0.8885\n",
            "Epoch 24/300\n",
            "391/391 [==============================] - 9s 23ms/step - loss: 0.2878 - sparse_categorical_accuracy: 0.8905 - val_loss: 0.2972 - val_sparse_categorical_accuracy: 0.8900\n",
            "Epoch 25/300\n",
            "391/391 [==============================] - 10s 24ms/step - loss: 0.2867 - sparse_categorical_accuracy: 0.8913 - val_loss: 0.3238 - val_sparse_categorical_accuracy: 0.8822\n",
            "Epoch 26/300\n",
            "391/391 [==============================] - 9s 22ms/step - loss: 0.2804 - sparse_categorical_accuracy: 0.8937 - val_loss: 0.2813 - val_sparse_categorical_accuracy: 0.8985\n",
            "Epoch 27/300\n",
            "391/391 [==============================] - 9s 23ms/step - loss: 0.2803 - sparse_categorical_accuracy: 0.8945 - val_loss: 0.2932 - val_sparse_categorical_accuracy: 0.8943\n",
            "Epoch 28/300\n",
            "391/391 [==============================] - 10s 25ms/step - loss: 0.2757 - sparse_categorical_accuracy: 0.8965 - val_loss: 0.2992 - val_sparse_categorical_accuracy: 0.8883\n",
            "Epoch 29/300\n",
            "391/391 [==============================] - 9s 23ms/step - loss: 0.2736 - sparse_categorical_accuracy: 0.8970 - val_loss: 0.2916 - val_sparse_categorical_accuracy: 0.8940\n",
            "Epoch 30/300\n",
            "391/391 [==============================] - 8s 22ms/step - loss: 0.2720 - sparse_categorical_accuracy: 0.8957 - val_loss: 0.3000 - val_sparse_categorical_accuracy: 0.8941\n",
            "Epoch 31/300\n",
            "391/391 [==============================] - 9s 24ms/step - loss: 0.2690 - sparse_categorical_accuracy: 0.8984 - val_loss: 0.2864 - val_sparse_categorical_accuracy: 0.8940\n",
            "Epoch 32/300\n",
            "391/391 [==============================] - 9s 22ms/step - loss: 0.2684 - sparse_categorical_accuracy: 0.8977 - val_loss: 0.2807 - val_sparse_categorical_accuracy: 0.8969\n",
            "Epoch 33/300\n",
            "391/391 [==============================] - 9s 23ms/step - loss: 0.2645 - sparse_categorical_accuracy: 0.8994 - val_loss: 0.2881 - val_sparse_categorical_accuracy: 0.8951\n",
            "Epoch 34/300\n",
            "391/391 [==============================] - 10s 24ms/step - loss: 0.2621 - sparse_categorical_accuracy: 0.9001 - val_loss: 0.2945 - val_sparse_categorical_accuracy: 0.8908\n",
            "Epoch 35/300\n",
            "391/391 [==============================] - 9s 22ms/step - loss: 0.2671 - sparse_categorical_accuracy: 0.8975 - val_loss: 0.2841 - val_sparse_categorical_accuracy: 0.8958\n",
            "Epoch 36/300\n",
            "391/391 [==============================] - 9s 22ms/step - loss: 0.2584 - sparse_categorical_accuracy: 0.9001 - val_loss: 0.2911 - val_sparse_categorical_accuracy: 0.8971\n",
            "Epoch 37/300\n",
            "391/391 [==============================] - 9s 24ms/step - loss: 0.2538 - sparse_categorical_accuracy: 0.9016 - val_loss: 0.2796 - val_sparse_categorical_accuracy: 0.8987\n",
            "Epoch 38/300\n",
            "391/391 [==============================] - 9s 22ms/step - loss: 0.2588 - sparse_categorical_accuracy: 0.9016 - val_loss: 0.2820 - val_sparse_categorical_accuracy: 0.8977\n",
            "Epoch 39/300\n",
            "391/391 [==============================] - 9s 22ms/step - loss: 0.2544 - sparse_categorical_accuracy: 0.9030 - val_loss: 0.2875 - val_sparse_categorical_accuracy: 0.8969\n",
            "Epoch 40/300\n",
            "391/391 [==============================] - 11s 28ms/step - loss: 0.2546 - sparse_categorical_accuracy: 0.9032 - val_loss: 0.2880 - val_sparse_categorical_accuracy: 0.8964\n",
            "Epoch 41/300\n",
            "391/391 [==============================] - 8s 21ms/step - loss: 0.2540 - sparse_categorical_accuracy: 0.9013 - val_loss: 0.2949 - val_sparse_categorical_accuracy: 0.8906\n",
            "Epoch 42/300\n",
            "391/391 [==============================] - 9s 24ms/step - loss: 0.2518 - sparse_categorical_accuracy: 0.9042 - val_loss: 0.2877 - val_sparse_categorical_accuracy: 0.8981\n",
            "Epoch 43/300\n",
            "391/391 [==============================] - 10s 24ms/step - loss: 0.2514 - sparse_categorical_accuracy: 0.9031 - val_loss: 0.2805 - val_sparse_categorical_accuracy: 0.8978\n",
            "Epoch 44/300\n",
            "391/391 [==============================] - 8s 21ms/step - loss: 0.2483 - sparse_categorical_accuracy: 0.9052 - val_loss: 0.2799 - val_sparse_categorical_accuracy: 0.8964\n",
            "Epoch 45/300\n",
            "391/391 [==============================] - 9s 24ms/step - loss: 0.2482 - sparse_categorical_accuracy: 0.9043 - val_loss: 0.2860 - val_sparse_categorical_accuracy: 0.8975\n",
            "Epoch 46/300\n",
            "391/391 [==============================] - 9s 24ms/step - loss: 0.2476 - sparse_categorical_accuracy: 0.9054 - val_loss: 0.2778 - val_sparse_categorical_accuracy: 0.8982\n",
            "Epoch 47/300\n",
            "391/391 [==============================] - 8s 21ms/step - loss: 0.2436 - sparse_categorical_accuracy: 0.9058 - val_loss: 0.2876 - val_sparse_categorical_accuracy: 0.8988\n",
            "Epoch 48/300\n",
            "391/391 [==============================] - 9s 23ms/step - loss: 0.2452 - sparse_categorical_accuracy: 0.9055 - val_loss: 0.2813 - val_sparse_categorical_accuracy: 0.8970\n",
            "Epoch 49/300\n",
            "391/391 [==============================] - 9s 24ms/step - loss: 0.2442 - sparse_categorical_accuracy: 0.9071 - val_loss: 0.2863 - val_sparse_categorical_accuracy: 0.8961\n",
            "Epoch 50/300\n",
            "391/391 [==============================] - 8s 21ms/step - loss: 0.2433 - sparse_categorical_accuracy: 0.9069 - val_loss: 0.2867 - val_sparse_categorical_accuracy: 0.8958\n",
            "Epoch 51/300\n",
            "391/391 [==============================] - 9s 24ms/step - loss: 0.2395 - sparse_categorical_accuracy: 0.9078 - val_loss: 0.2690 - val_sparse_categorical_accuracy: 0.9032\n",
            "Epoch 52/300\n",
            "391/391 [==============================] - 10s 24ms/step - loss: 0.2407 - sparse_categorical_accuracy: 0.9079 - val_loss: 0.2830 - val_sparse_categorical_accuracy: 0.8963\n",
            "Epoch 53/300\n",
            "391/391 [==============================] - 8s 21ms/step - loss: 0.2387 - sparse_categorical_accuracy: 0.9073 - val_loss: 0.2816 - val_sparse_categorical_accuracy: 0.9001\n",
            "Epoch 54/300\n",
            "391/391 [==============================] - 10s 24ms/step - loss: 0.2372 - sparse_categorical_accuracy: 0.9097 - val_loss: 0.2749 - val_sparse_categorical_accuracy: 0.9006\n",
            "Epoch 55/300\n",
            "391/391 [==============================] - 9s 24ms/step - loss: 0.2366 - sparse_categorical_accuracy: 0.9098 - val_loss: 0.2798 - val_sparse_categorical_accuracy: 0.8973\n",
            "Epoch 56/300\n",
            "391/391 [==============================] - 8s 21ms/step - loss: 0.2347 - sparse_categorical_accuracy: 0.9117 - val_loss: 0.2880 - val_sparse_categorical_accuracy: 0.8993\n",
            "Epoch 57/300\n",
            "391/391 [==============================] - 9s 23ms/step - loss: 0.2339 - sparse_categorical_accuracy: 0.9089 - val_loss: 0.2785 - val_sparse_categorical_accuracy: 0.8978\n",
            "Epoch 58/300\n",
            "391/391 [==============================] - 11s 28ms/step - loss: 0.2371 - sparse_categorical_accuracy: 0.9087 - val_loss: 0.2857 - val_sparse_categorical_accuracy: 0.9004\n",
            "Epoch 59/300\n",
            "391/391 [==============================] - 8s 21ms/step - loss: 0.2293 - sparse_categorical_accuracy: 0.9125 - val_loss: 0.2744 - val_sparse_categorical_accuracy: 0.8998\n",
            "Epoch 60/300\n",
            "391/391 [==============================] - 9s 23ms/step - loss: 0.2321 - sparse_categorical_accuracy: 0.9098 - val_loss: 0.2809 - val_sparse_categorical_accuracy: 0.8983\n",
            "Epoch 61/300\n",
            "391/391 [==============================] - 9s 24ms/step - loss: 0.2309 - sparse_categorical_accuracy: 0.9112 - val_loss: 0.2778 - val_sparse_categorical_accuracy: 0.9024\n",
            "Epoch 62/300\n",
            "391/391 [==============================] - 8s 21ms/step - loss: 0.2332 - sparse_categorical_accuracy: 0.9105 - val_loss: 0.2807 - val_sparse_categorical_accuracy: 0.9014\n",
            "Epoch 63/300\n",
            "391/391 [==============================] - 9s 23ms/step - loss: 0.2263 - sparse_categorical_accuracy: 0.9133 - val_loss: 0.2814 - val_sparse_categorical_accuracy: 0.9015\n",
            "Epoch 64/300\n",
            "391/391 [==============================] - 9s 24ms/step - loss: 0.2269 - sparse_categorical_accuracy: 0.9126 - val_loss: 0.2850 - val_sparse_categorical_accuracy: 0.8973\n",
            "Epoch 65/300\n",
            "391/391 [==============================] - 8s 20ms/step - loss: 0.2282 - sparse_categorical_accuracy: 0.9126 - val_loss: 0.2803 - val_sparse_categorical_accuracy: 0.9032\n",
            "Epoch 66/300\n",
            "391/391 [==============================] - 10s 24ms/step - loss: 0.2234 - sparse_categorical_accuracy: 0.9141 - val_loss: 0.2770 - val_sparse_categorical_accuracy: 0.9014\n",
            "Epoch 67/300\n",
            "391/391 [==============================] - 9s 24ms/step - loss: 0.2239 - sparse_categorical_accuracy: 0.9128 - val_loss: 0.2721 - val_sparse_categorical_accuracy: 0.9021\n",
            "Epoch 68/300\n",
            "391/391 [==============================] - 8s 21ms/step - loss: 0.2248 - sparse_categorical_accuracy: 0.9125 - val_loss: 0.2785 - val_sparse_categorical_accuracy: 0.9011\n",
            "Epoch 69/300\n",
            "391/391 [==============================] - 9s 24ms/step - loss: 0.2248 - sparse_categorical_accuracy: 0.9144 - val_loss: 0.2810 - val_sparse_categorical_accuracy: 0.9000\n",
            "Epoch 70/300\n",
            "391/391 [==============================] - 9s 24ms/step - loss: 0.2217 - sparse_categorical_accuracy: 0.9155 - val_loss: 0.2718 - val_sparse_categorical_accuracy: 0.9022\n",
            "Epoch 71/300\n",
            "391/391 [==============================] - 8s 21ms/step - loss: 0.2193 - sparse_categorical_accuracy: 0.9153 - val_loss: 0.2837 - val_sparse_categorical_accuracy: 0.8996\n",
            "Epoch 72/300\n",
            "391/391 [==============================] - 9s 24ms/step - loss: 0.2237 - sparse_categorical_accuracy: 0.9137 - val_loss: 0.2828 - val_sparse_categorical_accuracy: 0.8996\n",
            "Epoch 73/300\n",
            "391/391 [==============================] - 9s 24ms/step - loss: 0.2201 - sparse_categorical_accuracy: 0.9150 - val_loss: 0.2755 - val_sparse_categorical_accuracy: 0.9024\n",
            "Epoch 74/300\n",
            "391/391 [==============================] - 8s 21ms/step - loss: 0.2191 - sparse_categorical_accuracy: 0.9143 - val_loss: 0.2766 - val_sparse_categorical_accuracy: 0.9025\n",
            "Epoch 75/300\n",
            "391/391 [==============================] - 10s 26ms/step - loss: 0.2166 - sparse_categorical_accuracy: 0.9162 - val_loss: 0.2845 - val_sparse_categorical_accuracy: 0.8986\n",
            "Epoch 76/300\n",
            "391/391 [==============================] - 10s 25ms/step - loss: 0.2200 - sparse_categorical_accuracy: 0.9157 - val_loss: 0.2816 - val_sparse_categorical_accuracy: 0.9016\n",
            "Epoch 77/300\n",
            "391/391 [==============================] - 8s 21ms/step - loss: 0.2183 - sparse_categorical_accuracy: 0.9160 - val_loss: 0.2750 - val_sparse_categorical_accuracy: 0.9036\n",
            "Epoch 78/300\n",
            "391/391 [==============================] - 9s 23ms/step - loss: 0.2158 - sparse_categorical_accuracy: 0.9163 - val_loss: 0.2820 - val_sparse_categorical_accuracy: 0.9008\n",
            "Epoch 79/300\n",
            "391/391 [==============================] - 9s 23ms/step - loss: 0.2174 - sparse_categorical_accuracy: 0.9170 - val_loss: 0.2878 - val_sparse_categorical_accuracy: 0.8981\n",
            "Epoch 80/300\n",
            "391/391 [==============================] - 8s 20ms/step - loss: 0.2166 - sparse_categorical_accuracy: 0.9169 - val_loss: 0.2841 - val_sparse_categorical_accuracy: 0.9005\n",
            "Epoch 81/300\n",
            "391/391 [==============================] - 9s 24ms/step - loss: 0.2144 - sparse_categorical_accuracy: 0.9175 - val_loss: 0.2747 - val_sparse_categorical_accuracy: 0.9036\n",
            "Epoch 82/300\n",
            "391/391 [==============================] - 9s 24ms/step - loss: 0.2152 - sparse_categorical_accuracy: 0.9163 - val_loss: 0.2778 - val_sparse_categorical_accuracy: 0.9011\n",
            "Epoch 83/300\n",
            "391/391 [==============================] - 8s 21ms/step - loss: 0.2161 - sparse_categorical_accuracy: 0.9168 - val_loss: 0.2769 - val_sparse_categorical_accuracy: 0.9028\n",
            "Epoch 84/300\n",
            "391/391 [==============================] - 9s 24ms/step - loss: 0.2137 - sparse_categorical_accuracy: 0.9175 - val_loss: 0.2838 - val_sparse_categorical_accuracy: 0.9010\n",
            "Epoch 85/300\n",
            "391/391 [==============================] - 9s 24ms/step - loss: 0.2133 - sparse_categorical_accuracy: 0.9177 - val_loss: 0.2760 - val_sparse_categorical_accuracy: 0.9016\n",
            "Epoch 86/300\n",
            "391/391 [==============================] - 8s 21ms/step - loss: 0.2096 - sparse_categorical_accuracy: 0.9192 - val_loss: 0.2922 - val_sparse_categorical_accuracy: 0.8974\n",
            "Epoch 87/300\n",
            "391/391 [==============================] - 9s 23ms/step - loss: 0.2111 - sparse_categorical_accuracy: 0.9189 - val_loss: 0.2763 - val_sparse_categorical_accuracy: 0.9034\n",
            "Epoch 88/300\n",
            "391/391 [==============================] - 9s 24ms/step - loss: 0.2140 - sparse_categorical_accuracy: 0.9181 - val_loss: 0.2837 - val_sparse_categorical_accuracy: 0.9027\n",
            "Epoch 89/300\n",
            "391/391 [==============================] - 8s 21ms/step - loss: 0.2119 - sparse_categorical_accuracy: 0.9188 - val_loss: 0.2856 - val_sparse_categorical_accuracy: 0.9024\n",
            "Epoch 90/300\n",
            "391/391 [==============================] - 9s 24ms/step - loss: 0.2132 - sparse_categorical_accuracy: 0.9179 - val_loss: 0.2863 - val_sparse_categorical_accuracy: 0.9022\n",
            "Epoch 91/300\n",
            "391/391 [==============================] - 9s 24ms/step - loss: 0.2078 - sparse_categorical_accuracy: 0.9195 - val_loss: 0.2861 - val_sparse_categorical_accuracy: 0.9005\n",
            "Epoch 92/300\n",
            "391/391 [==============================] - 8s 20ms/step - loss: 0.2094 - sparse_categorical_accuracy: 0.9191 - val_loss: 0.2713 - val_sparse_categorical_accuracy: 0.9038\n",
            "Epoch 93/300\n",
            "391/391 [==============================] - 11s 28ms/step - loss: 0.2099 - sparse_categorical_accuracy: 0.9187 - val_loss: 0.2832 - val_sparse_categorical_accuracy: 0.9021\n",
            "Epoch 94/300\n",
            "391/391 [==============================] - 9s 23ms/step - loss: 0.2066 - sparse_categorical_accuracy: 0.9202 - val_loss: 0.2817 - val_sparse_categorical_accuracy: 0.9007\n",
            "Epoch 95/300\n",
            "391/391 [==============================] - 8s 20ms/step - loss: 0.2099 - sparse_categorical_accuracy: 0.9195 - val_loss: 0.2841 - val_sparse_categorical_accuracy: 0.9051\n",
            "Epoch 96/300\n",
            "391/391 [==============================] - 9s 23ms/step - loss: 0.2064 - sparse_categorical_accuracy: 0.9196 - val_loss: 0.2840 - val_sparse_categorical_accuracy: 0.9013\n",
            "Epoch 97/300\n",
            "391/391 [==============================] - 9s 23ms/step - loss: 0.2083 - sparse_categorical_accuracy: 0.9187 - val_loss: 0.2823 - val_sparse_categorical_accuracy: 0.9048\n",
            "Epoch 98/300\n",
            "391/391 [==============================] - 8s 21ms/step - loss: 0.2076 - sparse_categorical_accuracy: 0.9200 - val_loss: 0.2910 - val_sparse_categorical_accuracy: 0.8993\n",
            "Epoch 99/300\n",
            "391/391 [==============================] - 9s 24ms/step - loss: 0.2055 - sparse_categorical_accuracy: 0.9200 - val_loss: 0.2793 - val_sparse_categorical_accuracy: 0.9015\n",
            "Epoch 100/300\n",
            "391/391 [==============================] - 9s 23ms/step - loss: 0.2055 - sparse_categorical_accuracy: 0.9206 - val_loss: 0.2903 - val_sparse_categorical_accuracy: 0.8975\n",
            "Epoch 101/300\n",
            "391/391 [==============================] - 8s 21ms/step - loss: 0.2064 - sparse_categorical_accuracy: 0.9200 - val_loss: 0.2802 - val_sparse_categorical_accuracy: 0.8996\n",
            "Epoch 102/300\n",
            "391/391 [==============================] - 9s 24ms/step - loss: 0.2043 - sparse_categorical_accuracy: 0.9227 - val_loss: 0.2786 - val_sparse_categorical_accuracy: 0.9041\n",
            "Epoch 103/300\n",
            "391/391 [==============================] - 9s 22ms/step - loss: 0.2021 - sparse_categorical_accuracy: 0.9211 - val_loss: 0.2879 - val_sparse_categorical_accuracy: 0.8992\n",
            "Epoch 104/300\n",
            "391/391 [==============================] - 8s 22ms/step - loss: 0.2030 - sparse_categorical_accuracy: 0.9212 - val_loss: 0.2912 - val_sparse_categorical_accuracy: 0.8978\n",
            "Epoch 105/300\n",
            "391/391 [==============================] - 10s 24ms/step - loss: 0.2023 - sparse_categorical_accuracy: 0.9218 - val_loss: 0.2827 - val_sparse_categorical_accuracy: 0.9015\n",
            "Epoch 106/300\n",
            "391/391 [==============================] - 8s 22ms/step - loss: 0.2026 - sparse_categorical_accuracy: 0.9209 - val_loss: 0.2829 - val_sparse_categorical_accuracy: 0.9023\n",
            "Epoch 107/300\n",
            "391/391 [==============================] - 9s 22ms/step - loss: 0.2017 - sparse_categorical_accuracy: 0.9222 - val_loss: 0.2842 - val_sparse_categorical_accuracy: 0.9014\n",
            "Epoch 108/300\n",
            "391/391 [==============================] - 9s 24ms/step - loss: 0.2036 - sparse_categorical_accuracy: 0.9227 - val_loss: 0.2751 - val_sparse_categorical_accuracy: 0.9032\n",
            "Epoch 109/300\n",
            "391/391 [==============================] - 8s 21ms/step - loss: 0.2015 - sparse_categorical_accuracy: 0.9209 - val_loss: 0.2732 - val_sparse_categorical_accuracy: 0.9043\n",
            "Epoch 110/300\n",
            "391/391 [==============================] - 9s 24ms/step - loss: 0.1990 - sparse_categorical_accuracy: 0.9218 - val_loss: 0.2763 - val_sparse_categorical_accuracy: 0.9038\n",
            "Epoch 111/300\n",
            "391/391 [==============================] - 11s 27ms/step - loss: 0.1994 - sparse_categorical_accuracy: 0.9215 - val_loss: 0.2869 - val_sparse_categorical_accuracy: 0.9038\n",
            "Epoch 112/300\n",
            "391/391 [==============================] - 9s 23ms/step - loss: 0.2013 - sparse_categorical_accuracy: 0.9224 - val_loss: 0.2768 - val_sparse_categorical_accuracy: 0.9051\n",
            "Epoch 113/300\n",
            "391/391 [==============================] - 8s 22ms/step - loss: 0.1998 - sparse_categorical_accuracy: 0.9234 - val_loss: 0.2820 - val_sparse_categorical_accuracy: 0.9013\n",
            "Epoch 114/300\n",
            "391/391 [==============================] - 9s 24ms/step - loss: 0.1980 - sparse_categorical_accuracy: 0.9230 - val_loss: 0.2894 - val_sparse_categorical_accuracy: 0.9034\n",
            "Epoch 115/300\n",
            "391/391 [==============================] - 8s 22ms/step - loss: 0.2000 - sparse_categorical_accuracy: 0.9226 - val_loss: 0.2826 - val_sparse_categorical_accuracy: 0.9030\n",
            "Epoch 116/300\n",
            "391/391 [==============================] - 9s 23ms/step - loss: 0.1987 - sparse_categorical_accuracy: 0.9231 - val_loss: 0.2777 - val_sparse_categorical_accuracy: 0.9027\n",
            "Epoch 117/300\n",
            "391/391 [==============================] - 9s 24ms/step - loss: 0.1977 - sparse_categorical_accuracy: 0.9234 - val_loss: 0.2865 - val_sparse_categorical_accuracy: 0.9002\n",
            "Epoch 118/300\n",
            "391/391 [==============================] - 8s 21ms/step - loss: 0.1964 - sparse_categorical_accuracy: 0.9234 - val_loss: 0.2840 - val_sparse_categorical_accuracy: 0.9046\n",
            "Epoch 119/300\n",
            "391/391 [==============================] - 9s 23ms/step - loss: 0.1951 - sparse_categorical_accuracy: 0.9236 - val_loss: 0.2873 - val_sparse_categorical_accuracy: 0.9010\n",
            "Epoch 120/300\n",
            "391/391 [==============================] - 9s 24ms/step - loss: 0.1938 - sparse_categorical_accuracy: 0.9230 - val_loss: 0.2798 - val_sparse_categorical_accuracy: 0.9037\n",
            "Epoch 121/300\n",
            "391/391 [==============================] - 8s 21ms/step - loss: 0.1973 - sparse_categorical_accuracy: 0.9235 - val_loss: 0.2780 - val_sparse_categorical_accuracy: 0.9038\n",
            "Epoch 122/300\n",
            "391/391 [==============================] - 9s 23ms/step - loss: 0.1959 - sparse_categorical_accuracy: 0.9246 - val_loss: 0.2855 - val_sparse_categorical_accuracy: 0.9042\n",
            "Epoch 123/300\n",
            "391/391 [==============================] - 10s 26ms/step - loss: 0.1954 - sparse_categorical_accuracy: 0.9241 - val_loss: 0.2822 - val_sparse_categorical_accuracy: 0.9020\n",
            "Epoch 124/300\n",
            "391/391 [==============================] - 8s 21ms/step - loss: 0.1974 - sparse_categorical_accuracy: 0.9229 - val_loss: 0.2941 - val_sparse_categorical_accuracy: 0.9019\n",
            "Epoch 125/300\n",
            "391/391 [==============================] - 9s 23ms/step - loss: 0.1930 - sparse_categorical_accuracy: 0.9254 - val_loss: 0.2843 - val_sparse_categorical_accuracy: 0.9038\n",
            "Epoch 126/300\n",
            "391/391 [==============================] - 10s 24ms/step - loss: 0.1898 - sparse_categorical_accuracy: 0.9252 - val_loss: 0.2820 - val_sparse_categorical_accuracy: 0.9049\n",
            "Epoch 127/300\n",
            "391/391 [==============================] - 8s 21ms/step - loss: 0.1901 - sparse_categorical_accuracy: 0.9265 - val_loss: 0.2847 - val_sparse_categorical_accuracy: 0.9051\n",
            "Epoch 128/300\n",
            "391/391 [==============================] - 11s 27ms/step - loss: 0.1909 - sparse_categorical_accuracy: 0.9245 - val_loss: 0.2851 - val_sparse_categorical_accuracy: 0.9037\n",
            "Epoch 129/300\n",
            "391/391 [==============================] - 9s 24ms/step - loss: 0.1916 - sparse_categorical_accuracy: 0.9261 - val_loss: 0.2805 - val_sparse_categorical_accuracy: 0.9013\n",
            "Epoch 130/300\n",
            "391/391 [==============================] - 8s 20ms/step - loss: 0.1909 - sparse_categorical_accuracy: 0.9266 - val_loss: 0.2793 - val_sparse_categorical_accuracy: 0.9048\n",
            "Epoch 131/300\n",
            "391/391 [==============================] - 9s 23ms/step - loss: 0.1919 - sparse_categorical_accuracy: 0.9244 - val_loss: 0.2795 - val_sparse_categorical_accuracy: 0.9031\n",
            "Epoch 132/300\n",
            "391/391 [==============================] - 9s 24ms/step - loss: 0.1899 - sparse_categorical_accuracy: 0.9279 - val_loss: 0.2850 - val_sparse_categorical_accuracy: 0.9012\n",
            "Epoch 133/300\n",
            "391/391 [==============================] - 8s 20ms/step - loss: 0.1887 - sparse_categorical_accuracy: 0.9267 - val_loss: 0.2826 - val_sparse_categorical_accuracy: 0.9042\n",
            "Epoch 134/300\n",
            "391/391 [==============================] - 9s 24ms/step - loss: 0.1884 - sparse_categorical_accuracy: 0.9269 - val_loss: 0.2900 - val_sparse_categorical_accuracy: 0.9024\n",
            "Epoch 135/300\n",
            "391/391 [==============================] - 9s 24ms/step - loss: 0.1911 - sparse_categorical_accuracy: 0.9263 - val_loss: 0.2794 - val_sparse_categorical_accuracy: 0.9061\n",
            "Epoch 136/300\n",
            "391/391 [==============================] - 8s 21ms/step - loss: 0.1911 - sparse_categorical_accuracy: 0.9257 - val_loss: 0.2878 - val_sparse_categorical_accuracy: 0.9018\n",
            "Epoch 137/300\n",
            "391/391 [==============================] - 9s 24ms/step - loss: 0.1893 - sparse_categorical_accuracy: 0.9263 - val_loss: 0.2927 - val_sparse_categorical_accuracy: 0.9009\n",
            "Epoch 138/300\n",
            "391/391 [==============================] - 9s 24ms/step - loss: 0.1860 - sparse_categorical_accuracy: 0.9274 - val_loss: 0.2830 - val_sparse_categorical_accuracy: 0.9042\n",
            "Epoch 139/300\n",
            "391/391 [==============================] - 8s 20ms/step - loss: 0.1876 - sparse_categorical_accuracy: 0.9272 - val_loss: 0.2818 - val_sparse_categorical_accuracy: 0.9070\n",
            "Epoch 140/300\n",
            "391/391 [==============================] - 9s 24ms/step - loss: 0.1894 - sparse_categorical_accuracy: 0.9261 - val_loss: 0.2845 - val_sparse_categorical_accuracy: 0.9039\n",
            "Epoch 141/300\n",
            "391/391 [==============================] - 9s 23ms/step - loss: 0.1902 - sparse_categorical_accuracy: 0.9255 - val_loss: 0.2893 - val_sparse_categorical_accuracy: 0.9023\n",
            "Epoch 142/300\n",
            "391/391 [==============================] - 8s 21ms/step - loss: 0.1853 - sparse_categorical_accuracy: 0.9283 - val_loss: 0.2874 - val_sparse_categorical_accuracy: 0.9021\n",
            "Epoch 143/300\n",
            "391/391 [==============================] - 10s 24ms/step - loss: 0.1869 - sparse_categorical_accuracy: 0.9276 - val_loss: 0.2831 - val_sparse_categorical_accuracy: 0.9051\n",
            "Epoch 144/300\n",
            "391/391 [==============================] - 9s 23ms/step - loss: 0.1857 - sparse_categorical_accuracy: 0.9278 - val_loss: 0.2834 - val_sparse_categorical_accuracy: 0.9011\n",
            "Epoch 145/300\n",
            "391/391 [==============================] - 10s 24ms/step - loss: 0.1849 - sparse_categorical_accuracy: 0.9280 - val_loss: 0.2779 - val_sparse_categorical_accuracy: 0.9073\n",
            "Epoch 146/300\n",
            "391/391 [==============================] - 9s 24ms/step - loss: 0.1846 - sparse_categorical_accuracy: 0.9285 - val_loss: 0.2810 - val_sparse_categorical_accuracy: 0.9053\n",
            "Epoch 147/300\n",
            "391/391 [==============================] - 9s 24ms/step - loss: 0.1856 - sparse_categorical_accuracy: 0.9285 - val_loss: 0.2803 - val_sparse_categorical_accuracy: 0.9047\n",
            "Epoch 148/300\n",
            "391/391 [==============================] - 8s 20ms/step - loss: 0.1870 - sparse_categorical_accuracy: 0.9276 - val_loss: 0.2776 - val_sparse_categorical_accuracy: 0.9048\n",
            "Epoch 149/300\n",
            "391/391 [==============================] - 9s 24ms/step - loss: 0.1840 - sparse_categorical_accuracy: 0.9286 - val_loss: 0.2920 - val_sparse_categorical_accuracy: 0.9056\n",
            "Epoch 150/300\n",
            "391/391 [==============================] - 9s 24ms/step - loss: 0.1899 - sparse_categorical_accuracy: 0.9262 - val_loss: 0.2784 - val_sparse_categorical_accuracy: 0.9063\n",
            "Epoch 151/300\n",
            "391/391 [==============================] - 8s 21ms/step - loss: 0.1873 - sparse_categorical_accuracy: 0.9269 - val_loss: 0.2825 - val_sparse_categorical_accuracy: 0.9036\n",
            "Epoch 152/300\n",
            "391/391 [==============================] - 9s 24ms/step - loss: 0.1842 - sparse_categorical_accuracy: 0.9283 - val_loss: 0.2941 - val_sparse_categorical_accuracy: 0.9012\n",
            "Epoch 153/300\n",
            "391/391 [==============================] - 9s 23ms/step - loss: 0.1863 - sparse_categorical_accuracy: 0.9278 - val_loss: 0.2793 - val_sparse_categorical_accuracy: 0.9049\n",
            "Epoch 154/300\n",
            "391/391 [==============================] - 8s 21ms/step - loss: 0.1834 - sparse_categorical_accuracy: 0.9283 - val_loss: 0.2825 - val_sparse_categorical_accuracy: 0.9051\n",
            "Epoch 155/300\n",
            "391/391 [==============================] - 10s 24ms/step - loss: 0.1874 - sparse_categorical_accuracy: 0.9284 - val_loss: 0.2852 - val_sparse_categorical_accuracy: 0.9012\n",
            "Epoch 156/300\n",
            "391/391 [==============================] - 9s 22ms/step - loss: 0.1790 - sparse_categorical_accuracy: 0.9296 - val_loss: 0.2825 - val_sparse_categorical_accuracy: 0.9042\n",
            "Epoch 157/300\n",
            "391/391 [==============================] - 9s 22ms/step - loss: 0.1831 - sparse_categorical_accuracy: 0.9296 - val_loss: 0.2938 - val_sparse_categorical_accuracy: 0.9021\n",
            "Epoch 158/300\n",
            "391/391 [==============================] - 9s 24ms/step - loss: 0.1857 - sparse_categorical_accuracy: 0.9285 - val_loss: 0.2913 - val_sparse_categorical_accuracy: 0.9020\n",
            "Epoch 159/300\n",
            "391/391 [==============================] - 8s 22ms/step - loss: 0.1828 - sparse_categorical_accuracy: 0.9305 - val_loss: 0.2857 - val_sparse_categorical_accuracy: 0.9067\n",
            "Epoch 160/300\n",
            "391/391 [==============================] - 9s 23ms/step - loss: 0.1815 - sparse_categorical_accuracy: 0.9301 - val_loss: 0.2862 - val_sparse_categorical_accuracy: 0.9060\n",
            "Epoch 161/300\n",
            "391/391 [==============================] - 9s 24ms/step - loss: 0.1846 - sparse_categorical_accuracy: 0.9292 - val_loss: 0.2753 - val_sparse_categorical_accuracy: 0.9056\n",
            "Epoch 162/300\n",
            "391/391 [==============================] - 10s 25ms/step - loss: 0.1816 - sparse_categorical_accuracy: 0.9300 - val_loss: 0.2817 - val_sparse_categorical_accuracy: 0.9036\n",
            "Epoch 163/300\n",
            "391/391 [==============================] - 9s 23ms/step - loss: 0.1825 - sparse_categorical_accuracy: 0.9288 - val_loss: 0.2844 - val_sparse_categorical_accuracy: 0.9030\n",
            "Epoch 164/300\n",
            "391/391 [==============================] - 9s 24ms/step - loss: 0.1826 - sparse_categorical_accuracy: 0.9295 - val_loss: 0.2991 - val_sparse_categorical_accuracy: 0.8986\n",
            "Epoch 165/300\n",
            "391/391 [==============================] - 8s 21ms/step - loss: 0.1844 - sparse_categorical_accuracy: 0.9289 - val_loss: 0.2823 - val_sparse_categorical_accuracy: 0.9046\n",
            "Epoch 166/300\n",
            "391/391 [==============================] - 9s 24ms/step - loss: 0.1802 - sparse_categorical_accuracy: 0.9297 - val_loss: 0.2823 - val_sparse_categorical_accuracy: 0.9018\n",
            "Epoch 167/300\n",
            "391/391 [==============================] - 9s 24ms/step - loss: 0.1800 - sparse_categorical_accuracy: 0.9291 - val_loss: 0.2865 - val_sparse_categorical_accuracy: 0.9045\n",
            "Epoch 168/300\n",
            "391/391 [==============================] - 8s 21ms/step - loss: 0.1811 - sparse_categorical_accuracy: 0.9301 - val_loss: 0.2893 - val_sparse_categorical_accuracy: 0.9008\n",
            "Epoch 169/300\n",
            "391/391 [==============================] - 9s 24ms/step - loss: 0.1819 - sparse_categorical_accuracy: 0.9290 - val_loss: 0.2865 - val_sparse_categorical_accuracy: 0.9008\n",
            "Epoch 170/300\n",
            "391/391 [==============================] - 9s 24ms/step - loss: 0.1779 - sparse_categorical_accuracy: 0.9312 - val_loss: 0.2858 - val_sparse_categorical_accuracy: 0.9040\n",
            "Epoch 171/300\n",
            "391/391 [==============================] - 8s 21ms/step - loss: 0.1792 - sparse_categorical_accuracy: 0.9300 - val_loss: 0.2842 - val_sparse_categorical_accuracy: 0.9058\n",
            "Epoch 172/300\n",
            "391/391 [==============================] - 10s 25ms/step - loss: 0.1788 - sparse_categorical_accuracy: 0.9298 - val_loss: 0.2849 - val_sparse_categorical_accuracy: 0.9056\n",
            "Epoch 173/300\n",
            "391/391 [==============================] - 10s 25ms/step - loss: 0.1758 - sparse_categorical_accuracy: 0.9313 - val_loss: 0.2887 - val_sparse_categorical_accuracy: 0.9060\n",
            "Epoch 174/300\n",
            "391/391 [==============================] - 9s 23ms/step - loss: 0.1817 - sparse_categorical_accuracy: 0.9306 - val_loss: 0.2867 - val_sparse_categorical_accuracy: 0.9069\n",
            "Epoch 175/300\n",
            "391/391 [==============================] - 9s 24ms/step - loss: 0.1804 - sparse_categorical_accuracy: 0.9300 - val_loss: 0.2872 - val_sparse_categorical_accuracy: 0.9033\n",
            "Epoch 176/300\n",
            "391/391 [==============================] - 10s 25ms/step - loss: 0.1768 - sparse_categorical_accuracy: 0.9295 - val_loss: 0.2881 - val_sparse_categorical_accuracy: 0.9036\n",
            "Epoch 177/300\n",
            "391/391 [==============================] - 9s 23ms/step - loss: 0.1789 - sparse_categorical_accuracy: 0.9311 - val_loss: 0.2829 - val_sparse_categorical_accuracy: 0.9059\n",
            "Epoch 178/300\n",
            "391/391 [==============================] - 9s 23ms/step - loss: 0.1799 - sparse_categorical_accuracy: 0.9303 - val_loss: 0.2869 - val_sparse_categorical_accuracy: 0.9064\n",
            "Epoch 179/300\n",
            "391/391 [==============================] - 11s 29ms/step - loss: 0.1751 - sparse_categorical_accuracy: 0.9320 - val_loss: 0.2958 - val_sparse_categorical_accuracy: 0.9024\n",
            "Epoch 180/300\n",
            "391/391 [==============================] - 8s 22ms/step - loss: 0.1756 - sparse_categorical_accuracy: 0.9304 - val_loss: 0.2891 - val_sparse_categorical_accuracy: 0.9045\n",
            "Epoch 181/300\n",
            "391/391 [==============================] - 10s 24ms/step - loss: 0.1762 - sparse_categorical_accuracy: 0.9316 - val_loss: 0.2840 - val_sparse_categorical_accuracy: 0.9038\n",
            "Epoch 182/300\n",
            "391/391 [==============================] - 10s 24ms/step - loss: 0.1751 - sparse_categorical_accuracy: 0.9312 - val_loss: 0.2954 - val_sparse_categorical_accuracy: 0.9024\n",
            "Epoch 183/300\n",
            "391/391 [==============================] - 8s 22ms/step - loss: 0.1728 - sparse_categorical_accuracy: 0.9331 - val_loss: 0.2910 - val_sparse_categorical_accuracy: 0.9018\n",
            "Epoch 184/300\n",
            "391/391 [==============================] - 9s 24ms/step - loss: 0.1749 - sparse_categorical_accuracy: 0.9327 - val_loss: 0.2947 - val_sparse_categorical_accuracy: 0.9053\n",
            "Epoch 185/300\n",
            "391/391 [==============================] - 10s 25ms/step - loss: 0.1748 - sparse_categorical_accuracy: 0.9326 - val_loss: 0.2890 - val_sparse_categorical_accuracy: 0.9015\n",
            "Epoch 186/300\n",
            "391/391 [==============================] - 9s 22ms/step - loss: 0.1770 - sparse_categorical_accuracy: 0.9308 - val_loss: 0.2894 - val_sparse_categorical_accuracy: 0.9067\n",
            "Epoch 187/300\n",
            "391/391 [==============================] - 9s 24ms/step - loss: 0.1752 - sparse_categorical_accuracy: 0.9319 - val_loss: 0.2866 - val_sparse_categorical_accuracy: 0.9069\n",
            "Epoch 188/300\n",
            "391/391 [==============================] - 10s 24ms/step - loss: 0.1760 - sparse_categorical_accuracy: 0.9311 - val_loss: 0.2905 - val_sparse_categorical_accuracy: 0.9011\n",
            "Epoch 189/300\n",
            "391/391 [==============================] - 9s 23ms/step - loss: 0.1732 - sparse_categorical_accuracy: 0.9331 - val_loss: 0.2947 - val_sparse_categorical_accuracy: 0.9010\n",
            "Epoch 190/300\n",
            "391/391 [==============================] - 9s 23ms/step - loss: 0.1750 - sparse_categorical_accuracy: 0.9325 - val_loss: 0.2958 - val_sparse_categorical_accuracy: 0.9050\n",
            "Epoch 191/300\n",
            "391/391 [==============================] - 10s 24ms/step - loss: 0.1761 - sparse_categorical_accuracy: 0.9334 - val_loss: 0.2941 - val_sparse_categorical_accuracy: 0.9031\n",
            "Epoch 192/300\n",
            "391/391 [==============================] - 9s 22ms/step - loss: 0.1785 - sparse_categorical_accuracy: 0.9301 - val_loss: 0.2814 - val_sparse_categorical_accuracy: 0.9086\n",
            "Epoch 193/300\n",
            "391/391 [==============================] - 9s 24ms/step - loss: 0.1740 - sparse_categorical_accuracy: 0.9316 - val_loss: 0.2816 - val_sparse_categorical_accuracy: 0.9067\n",
            "Epoch 194/300\n",
            "391/391 [==============================] - 10s 25ms/step - loss: 0.1746 - sparse_categorical_accuracy: 0.9321 - val_loss: 0.2860 - val_sparse_categorical_accuracy: 0.9027\n",
            "Epoch 195/300\n",
            "391/391 [==============================] - 11s 28ms/step - loss: 0.1735 - sparse_categorical_accuracy: 0.9317 - val_loss: 0.2910 - val_sparse_categorical_accuracy: 0.9060\n",
            "Epoch 196/300\n",
            "391/391 [==============================] - 9s 22ms/step - loss: 0.1722 - sparse_categorical_accuracy: 0.9347 - val_loss: 0.2886 - val_sparse_categorical_accuracy: 0.9056\n",
            "Epoch 197/300\n",
            "391/391 [==============================] - 10s 25ms/step - loss: 0.1761 - sparse_categorical_accuracy: 0.9316 - val_loss: 0.2886 - val_sparse_categorical_accuracy: 0.9045\n",
            "Epoch 198/300\n",
            "391/391 [==============================] - 9s 24ms/step - loss: 0.1700 - sparse_categorical_accuracy: 0.9332 - val_loss: 0.2930 - val_sparse_categorical_accuracy: 0.9053\n",
            "Epoch 199/300\n",
            "391/391 [==============================] - 8s 21ms/step - loss: 0.1719 - sparse_categorical_accuracy: 0.9323 - val_loss: 0.2854 - val_sparse_categorical_accuracy: 0.9043\n",
            "Epoch 200/300\n",
            "391/391 [==============================] - 10s 25ms/step - loss: 0.1677 - sparse_categorical_accuracy: 0.9338 - val_loss: 0.2927 - val_sparse_categorical_accuracy: 0.9043\n",
            "Epoch 201/300\n",
            "391/391 [==============================] - 9s 24ms/step - loss: 0.1763 - sparse_categorical_accuracy: 0.9322 - val_loss: 0.2891 - val_sparse_categorical_accuracy: 0.9022\n",
            "Epoch 202/300\n",
            "391/391 [==============================] - 9s 22ms/step - loss: 0.1729 - sparse_categorical_accuracy: 0.9320 - val_loss: 0.2898 - val_sparse_categorical_accuracy: 0.9040\n",
            "Epoch 203/300\n",
            "391/391 [==============================] - 10s 25ms/step - loss: 0.1759 - sparse_categorical_accuracy: 0.9330 - val_loss: 0.2858 - val_sparse_categorical_accuracy: 0.9053\n",
            "Epoch 204/300\n",
            "391/391 [==============================] - 10s 25ms/step - loss: 0.1722 - sparse_categorical_accuracy: 0.9330 - val_loss: 0.2903 - val_sparse_categorical_accuracy: 0.9072\n",
            "Epoch 205/300\n",
            "391/391 [==============================] - 9s 22ms/step - loss: 0.1723 - sparse_categorical_accuracy: 0.9329 - val_loss: 0.2935 - val_sparse_categorical_accuracy: 0.9046\n",
            "Epoch 206/300\n",
            "391/391 [==============================] - 10s 25ms/step - loss: 0.1690 - sparse_categorical_accuracy: 0.9354 - val_loss: 0.2872 - val_sparse_categorical_accuracy: 0.9070\n",
            "Epoch 207/300\n",
            "391/391 [==============================] - 10s 25ms/step - loss: 0.1692 - sparse_categorical_accuracy: 0.9350 - val_loss: 0.2881 - val_sparse_categorical_accuracy: 0.9055\n",
            "Epoch 208/300\n",
            "391/391 [==============================] - 8s 21ms/step - loss: 0.1713 - sparse_categorical_accuracy: 0.9333 - val_loss: 0.2912 - val_sparse_categorical_accuracy: 0.9066\n",
            "Epoch 209/300\n",
            "391/391 [==============================] - 10s 25ms/step - loss: 0.1729 - sparse_categorical_accuracy: 0.9334 - val_loss: 0.2930 - val_sparse_categorical_accuracy: 0.9068\n",
            "Epoch 210/300\n",
            "391/391 [==============================] - 10s 25ms/step - loss: 0.1738 - sparse_categorical_accuracy: 0.9333 - val_loss: 0.2874 - val_sparse_categorical_accuracy: 0.9053\n",
            "Epoch 211/300\n",
            "391/391 [==============================] - 10s 25ms/step - loss: 0.1689 - sparse_categorical_accuracy: 0.9345 - val_loss: 0.2898 - val_sparse_categorical_accuracy: 0.9062\n",
            "Epoch 212/300\n",
            "391/391 [==============================] - 10s 25ms/step - loss: 0.1703 - sparse_categorical_accuracy: 0.9331 - val_loss: 0.2868 - val_sparse_categorical_accuracy: 0.9063\n",
            "Epoch 213/300\n",
            "391/391 [==============================] - 10s 25ms/step - loss: 0.1683 - sparse_categorical_accuracy: 0.9353 - val_loss: 0.2987 - val_sparse_categorical_accuracy: 0.9051\n",
            "Epoch 214/300\n",
            "391/391 [==============================] - 9s 22ms/step - loss: 0.1719 - sparse_categorical_accuracy: 0.9334 - val_loss: 0.2835 - val_sparse_categorical_accuracy: 0.9069\n",
            "Epoch 215/300\n",
            "391/391 [==============================] - 10s 25ms/step - loss: 0.1713 - sparse_categorical_accuracy: 0.9328 - val_loss: 0.2860 - val_sparse_categorical_accuracy: 0.9072\n",
            "Epoch 216/300\n",
            "391/391 [==============================] - 10s 25ms/step - loss: 0.1713 - sparse_categorical_accuracy: 0.9340 - val_loss: 0.2949 - val_sparse_categorical_accuracy: 0.9047\n",
            "Epoch 217/300\n",
            "391/391 [==============================] - 9s 22ms/step - loss: 0.1680 - sparse_categorical_accuracy: 0.9347 - val_loss: 0.2947 - val_sparse_categorical_accuracy: 0.9046\n",
            "Epoch 218/300\n",
            "391/391 [==============================] - 10s 25ms/step - loss: 0.1693 - sparse_categorical_accuracy: 0.9352 - val_loss: 0.2895 - val_sparse_categorical_accuracy: 0.9059\n",
            "Epoch 219/300\n",
            "391/391 [==============================] - 10s 25ms/step - loss: 0.1691 - sparse_categorical_accuracy: 0.9340 - val_loss: 0.2979 - val_sparse_categorical_accuracy: 0.9025\n",
            "Epoch 220/300\n",
            "391/391 [==============================] - 9s 22ms/step - loss: 0.1675 - sparse_categorical_accuracy: 0.9353 - val_loss: 0.2848 - val_sparse_categorical_accuracy: 0.9071\n",
            "Epoch 221/300\n",
            "391/391 [==============================] - 9s 23ms/step - loss: 0.1700 - sparse_categorical_accuracy: 0.9356 - val_loss: 0.2856 - val_sparse_categorical_accuracy: 0.9073\n",
            "Epoch 222/300\n",
            "391/391 [==============================] - 10s 25ms/step - loss: 0.1687 - sparse_categorical_accuracy: 0.9340 - val_loss: 0.3006 - val_sparse_categorical_accuracy: 0.9025\n",
            "Epoch 223/300\n",
            "391/391 [==============================] - 9s 22ms/step - loss: 0.1657 - sparse_categorical_accuracy: 0.9360 - val_loss: 0.2972 - val_sparse_categorical_accuracy: 0.9059\n",
            "Epoch 224/300\n",
            "391/391 [==============================] - 10s 24ms/step - loss: 0.1674 - sparse_categorical_accuracy: 0.9349 - val_loss: 0.3021 - val_sparse_categorical_accuracy: 0.9002\n",
            "Epoch 225/300\n",
            "391/391 [==============================] - 10s 25ms/step - loss: 0.1682 - sparse_categorical_accuracy: 0.9348 - val_loss: 0.2950 - val_sparse_categorical_accuracy: 0.9032\n",
            "Epoch 226/300\n",
            "391/391 [==============================] - 9s 23ms/step - loss: 0.1653 - sparse_categorical_accuracy: 0.9365 - val_loss: 0.2899 - val_sparse_categorical_accuracy: 0.9055\n",
            "Epoch 227/300\n",
            "391/391 [==============================] - 9s 24ms/step - loss: 0.1656 - sparse_categorical_accuracy: 0.9355 - val_loss: 0.2963 - val_sparse_categorical_accuracy: 0.9053\n",
            "Epoch 228/300\n",
            "391/391 [==============================] - 11s 29ms/step - loss: 0.1640 - sparse_categorical_accuracy: 0.9361 - val_loss: 0.2919 - val_sparse_categorical_accuracy: 0.9053\n",
            "Epoch 229/300\n",
            "391/391 [==============================] - 9s 24ms/step - loss: 0.1677 - sparse_categorical_accuracy: 0.9339 - val_loss: 0.2988 - val_sparse_categorical_accuracy: 0.9040\n",
            "Epoch 230/300\n",
            "391/391 [==============================] - 9s 23ms/step - loss: 0.1662 - sparse_categorical_accuracy: 0.9353 - val_loss: 0.2967 - val_sparse_categorical_accuracy: 0.9038\n",
            "Epoch 231/300\n",
            "391/391 [==============================] - 10s 25ms/step - loss: 0.1653 - sparse_categorical_accuracy: 0.9364 - val_loss: 0.2967 - val_sparse_categorical_accuracy: 0.9056\n",
            "Epoch 232/300\n",
            "391/391 [==============================] - 10s 25ms/step - loss: 0.1651 - sparse_categorical_accuracy: 0.9364 - val_loss: 0.2971 - val_sparse_categorical_accuracy: 0.9041\n",
            "Epoch 233/300\n",
            "391/391 [==============================] - 9s 22ms/step - loss: 0.1666 - sparse_categorical_accuracy: 0.9361 - val_loss: 0.2919 - val_sparse_categorical_accuracy: 0.9066\n",
            "Epoch 234/300\n",
            "391/391 [==============================] - 10s 25ms/step - loss: 0.1668 - sparse_categorical_accuracy: 0.9349 - val_loss: 0.2921 - val_sparse_categorical_accuracy: 0.9052\n",
            "Epoch 235/300\n",
            "391/391 [==============================] - 10s 25ms/step - loss: 0.1660 - sparse_categorical_accuracy: 0.9348 - val_loss: 0.2922 - val_sparse_categorical_accuracy: 0.9065\n",
            "Epoch 236/300\n",
            "391/391 [==============================] - 9s 22ms/step - loss: 0.1661 - sparse_categorical_accuracy: 0.9358 - val_loss: 0.2938 - val_sparse_categorical_accuracy: 0.9055\n",
            "Epoch 237/300\n",
            "391/391 [==============================] - 10s 26ms/step - loss: 0.1667 - sparse_categorical_accuracy: 0.9352 - val_loss: 0.2960 - val_sparse_categorical_accuracy: 0.9069\n",
            "Epoch 238/300\n",
            "391/391 [==============================] - 10s 25ms/step - loss: 0.1675 - sparse_categorical_accuracy: 0.9345 - val_loss: 0.2938 - val_sparse_categorical_accuracy: 0.9057\n",
            "Epoch 239/300\n",
            "391/391 [==============================] - 8s 21ms/step - loss: 0.1638 - sparse_categorical_accuracy: 0.9361 - val_loss: 0.3010 - val_sparse_categorical_accuracy: 0.9054\n",
            "Epoch 240/300\n",
            "391/391 [==============================] - 10s 25ms/step - loss: 0.1636 - sparse_categorical_accuracy: 0.9361 - val_loss: 0.2958 - val_sparse_categorical_accuracy: 0.9056\n",
            "Epoch 241/300\n",
            "391/391 [==============================] - 10s 25ms/step - loss: 0.1615 - sparse_categorical_accuracy: 0.9376 - val_loss: 0.2956 - val_sparse_categorical_accuracy: 0.9073\n",
            "Epoch 242/300\n",
            "391/391 [==============================] - 8s 22ms/step - loss: 0.1631 - sparse_categorical_accuracy: 0.9367 - val_loss: 0.2891 - val_sparse_categorical_accuracy: 0.9069\n",
            "Epoch 243/300\n",
            "391/391 [==============================] - 10s 26ms/step - loss: 0.1633 - sparse_categorical_accuracy: 0.9373 - val_loss: 0.2938 - val_sparse_categorical_accuracy: 0.9057\n",
            "Epoch 244/300\n",
            "391/391 [==============================] - 11s 27ms/step - loss: 0.1632 - sparse_categorical_accuracy: 0.9364 - val_loss: 0.3021 - val_sparse_categorical_accuracy: 0.9068\n",
            "Epoch 245/300\n",
            "391/391 [==============================] - 9s 23ms/step - loss: 0.1627 - sparse_categorical_accuracy: 0.9371 - val_loss: 0.2986 - val_sparse_categorical_accuracy: 0.9035\n",
            "Epoch 246/300\n",
            "391/391 [==============================] - 9s 24ms/step - loss: 0.1636 - sparse_categorical_accuracy: 0.9368 - val_loss: 0.2950 - val_sparse_categorical_accuracy: 0.9060\n",
            "Epoch 247/300\n",
            "391/391 [==============================] - 10s 26ms/step - loss: 0.1635 - sparse_categorical_accuracy: 0.9363 - val_loss: 0.2997 - val_sparse_categorical_accuracy: 0.9031\n",
            "Epoch 248/300\n",
            "391/391 [==============================] - 9s 24ms/step - loss: 0.1680 - sparse_categorical_accuracy: 0.9340 - val_loss: 0.2920 - val_sparse_categorical_accuracy: 0.9045\n",
            "Epoch 249/300\n",
            "391/391 [==============================] - 9s 23ms/step - loss: 0.1634 - sparse_categorical_accuracy: 0.9362 - val_loss: 0.3024 - val_sparse_categorical_accuracy: 0.9038\n",
            "Epoch 250/300\n",
            "391/391 [==============================] - 10s 25ms/step - loss: 0.1632 - sparse_categorical_accuracy: 0.9363 - val_loss: 0.2873 - val_sparse_categorical_accuracy: 0.9077\n",
            "Epoch 251/300\n",
            "391/391 [==============================] - 10s 25ms/step - loss: 0.1602 - sparse_categorical_accuracy: 0.9376 - val_loss: 0.2990 - val_sparse_categorical_accuracy: 0.9071\n",
            "Epoch 252/300\n",
            "391/391 [==============================] - 9s 24ms/step - loss: 0.1633 - sparse_categorical_accuracy: 0.9373 - val_loss: 0.2988 - val_sparse_categorical_accuracy: 0.9071\n",
            "Epoch 253/300\n",
            "391/391 [==============================] - 10s 25ms/step - loss: 0.1637 - sparse_categorical_accuracy: 0.9356 - val_loss: 0.2956 - val_sparse_categorical_accuracy: 0.9031\n",
            "Epoch 254/300\n",
            "391/391 [==============================] - 10s 25ms/step - loss: 0.1619 - sparse_categorical_accuracy: 0.9371 - val_loss: 0.2971 - val_sparse_categorical_accuracy: 0.9043\n",
            "Epoch 255/300\n",
            "391/391 [==============================] - 9s 22ms/step - loss: 0.1622 - sparse_categorical_accuracy: 0.9370 - val_loss: 0.2900 - val_sparse_categorical_accuracy: 0.9058\n",
            "Epoch 256/300\n",
            "391/391 [==============================] - 10s 26ms/step - loss: 0.1616 - sparse_categorical_accuracy: 0.9371 - val_loss: 0.2929 - val_sparse_categorical_accuracy: 0.9081\n",
            "Epoch 257/300\n",
            "391/391 [==============================] - 10s 26ms/step - loss: 0.1602 - sparse_categorical_accuracy: 0.9373 - val_loss: 0.2973 - val_sparse_categorical_accuracy: 0.9052\n",
            "Epoch 258/300\n",
            "391/391 [==============================] - 8s 22ms/step - loss: 0.1633 - sparse_categorical_accuracy: 0.9357 - val_loss: 0.2956 - val_sparse_categorical_accuracy: 0.9077\n",
            "Epoch 259/300\n",
            "391/391 [==============================] - 11s 29ms/step - loss: 0.1600 - sparse_categorical_accuracy: 0.9382 - val_loss: 0.2877 - val_sparse_categorical_accuracy: 0.9072\n",
            "Epoch 260/300\n",
            "391/391 [==============================] - 10s 26ms/step - loss: 0.1618 - sparse_categorical_accuracy: 0.9378 - val_loss: 0.2953 - val_sparse_categorical_accuracy: 0.9079\n",
            "Epoch 261/300\n",
            "391/391 [==============================] - 9s 24ms/step - loss: 0.1625 - sparse_categorical_accuracy: 0.9370 - val_loss: 0.3032 - val_sparse_categorical_accuracy: 0.9054\n",
            "Epoch 262/300\n",
            "391/391 [==============================] - 9s 22ms/step - loss: 0.1603 - sparse_categorical_accuracy: 0.9374 - val_loss: 0.2939 - val_sparse_categorical_accuracy: 0.9054\n",
            "Epoch 263/300\n",
            "391/391 [==============================] - 10s 25ms/step - loss: 0.1614 - sparse_categorical_accuracy: 0.9372 - val_loss: 0.2976 - val_sparse_categorical_accuracy: 0.9029\n",
            "Epoch 264/300\n",
            "391/391 [==============================] - 10s 25ms/step - loss: 0.1607 - sparse_categorical_accuracy: 0.9367 - val_loss: 0.2963 - val_sparse_categorical_accuracy: 0.9043\n",
            "Epoch 265/300\n",
            "391/391 [==============================] - 9s 22ms/step - loss: 0.1595 - sparse_categorical_accuracy: 0.9380 - val_loss: 0.3010 - val_sparse_categorical_accuracy: 0.9065\n",
            "Epoch 266/300\n",
            "391/391 [==============================] - 10s 26ms/step - loss: 0.1637 - sparse_categorical_accuracy: 0.9371 - val_loss: 0.2998 - val_sparse_categorical_accuracy: 0.9037\n",
            "Epoch 267/300\n",
            "391/391 [==============================] - 10s 25ms/step - loss: 0.1582 - sparse_categorical_accuracy: 0.9389 - val_loss: 0.2968 - val_sparse_categorical_accuracy: 0.9020\n",
            "Epoch 268/300\n",
            "391/391 [==============================] - 9s 22ms/step - loss: 0.1581 - sparse_categorical_accuracy: 0.9382 - val_loss: 0.2894 - val_sparse_categorical_accuracy: 0.9047\n",
            "Epoch 269/300\n",
            "391/391 [==============================] - 10s 25ms/step - loss: 0.1595 - sparse_categorical_accuracy: 0.9384 - val_loss: 0.2986 - val_sparse_categorical_accuracy: 0.9038\n",
            "Epoch 270/300\n",
            "391/391 [==============================] - 10s 26ms/step - loss: 0.1603 - sparse_categorical_accuracy: 0.9378 - val_loss: 0.2964 - val_sparse_categorical_accuracy: 0.9055\n",
            "Epoch 271/300\n",
            "391/391 [==============================] - 9s 22ms/step - loss: 0.1591 - sparse_categorical_accuracy: 0.9383 - val_loss: 0.2934 - val_sparse_categorical_accuracy: 0.9066\n",
            "Epoch 272/300\n",
            "391/391 [==============================] - 10s 26ms/step - loss: 0.1608 - sparse_categorical_accuracy: 0.9377 - val_loss: 0.2992 - val_sparse_categorical_accuracy: 0.9059\n",
            "Epoch 273/300\n",
            "391/391 [==============================] - 10s 26ms/step - loss: 0.1601 - sparse_categorical_accuracy: 0.9378 - val_loss: 0.3036 - val_sparse_categorical_accuracy: 0.9057\n",
            "Epoch 274/300\n",
            "391/391 [==============================] - 9s 22ms/step - loss: 0.1606 - sparse_categorical_accuracy: 0.9384 - val_loss: 0.3066 - val_sparse_categorical_accuracy: 0.9036\n",
            "Epoch 275/300\n",
            "391/391 [==============================] - 12s 30ms/step - loss: 0.1604 - sparse_categorical_accuracy: 0.9383 - val_loss: 0.2954 - val_sparse_categorical_accuracy: 0.9073\n",
            "Epoch 276/300\n",
            "391/391 [==============================] - 10s 26ms/step - loss: 0.1589 - sparse_categorical_accuracy: 0.9379 - val_loss: 0.2891 - val_sparse_categorical_accuracy: 0.9092\n",
            "Epoch 277/300\n",
            "391/391 [==============================] - 10s 25ms/step - loss: 0.1557 - sparse_categorical_accuracy: 0.9401 - val_loss: 0.2969 - val_sparse_categorical_accuracy: 0.9062\n",
            "Epoch 278/300\n",
            "391/391 [==============================] - 9s 24ms/step - loss: 0.1585 - sparse_categorical_accuracy: 0.9384 - val_loss: 0.2951 - val_sparse_categorical_accuracy: 0.9062\n",
            "Epoch 279/300\n",
            "391/391 [==============================] - 10s 26ms/step - loss: 0.1580 - sparse_categorical_accuracy: 0.9382 - val_loss: 0.2910 - val_sparse_categorical_accuracy: 0.9058\n",
            "Epoch 280/300\n",
            "391/391 [==============================] - 10s 26ms/step - loss: 0.1594 - sparse_categorical_accuracy: 0.9377 - val_loss: 0.2947 - val_sparse_categorical_accuracy: 0.9067\n",
            "Epoch 281/300\n",
            "391/391 [==============================] - 9s 23ms/step - loss: 0.1612 - sparse_categorical_accuracy: 0.9377 - val_loss: 0.2962 - val_sparse_categorical_accuracy: 0.9053\n",
            "Epoch 282/300\n",
            "391/391 [==============================] - 10s 26ms/step - loss: 0.1575 - sparse_categorical_accuracy: 0.9387 - val_loss: 0.3082 - val_sparse_categorical_accuracy: 0.9054\n",
            "Epoch 283/300\n",
            "391/391 [==============================] - 10s 27ms/step - loss: 0.1589 - sparse_categorical_accuracy: 0.9375 - val_loss: 0.3028 - val_sparse_categorical_accuracy: 0.9065\n",
            "Epoch 284/300\n",
            "391/391 [==============================] - 9s 23ms/step - loss: 0.1557 - sparse_categorical_accuracy: 0.9383 - val_loss: 0.2953 - val_sparse_categorical_accuracy: 0.9076\n",
            "Epoch 285/300\n",
            "391/391 [==============================] - 10s 24ms/step - loss: 0.1581 - sparse_categorical_accuracy: 0.9386 - val_loss: 0.2903 - val_sparse_categorical_accuracy: 0.9073\n",
            "Epoch 286/300\n",
            "391/391 [==============================] - 10s 26ms/step - loss: 0.1573 - sparse_categorical_accuracy: 0.9388 - val_loss: 0.2954 - val_sparse_categorical_accuracy: 0.9069\n",
            "Epoch 287/300\n",
            "391/391 [==============================] - 10s 25ms/step - loss: 0.1544 - sparse_categorical_accuracy: 0.9399 - val_loss: 0.2944 - val_sparse_categorical_accuracy: 0.9062\n",
            "Epoch 288/300\n",
            "391/391 [==============================] - 9s 24ms/step - loss: 0.1549 - sparse_categorical_accuracy: 0.9406 - val_loss: 0.2987 - val_sparse_categorical_accuracy: 0.9076\n",
            "Epoch 289/300\n",
            "391/391 [==============================] - 10s 26ms/step - loss: 0.1551 - sparse_categorical_accuracy: 0.9400 - val_loss: 0.2924 - val_sparse_categorical_accuracy: 0.9071\n",
            "Epoch 290/300\n",
            "391/391 [==============================] - 12s 31ms/step - loss: 0.1599 - sparse_categorical_accuracy: 0.9385 - val_loss: 0.2926 - val_sparse_categorical_accuracy: 0.9055\n",
            "Epoch 291/300\n",
            "391/391 [==============================] - 9s 22ms/step - loss: 0.1562 - sparse_categorical_accuracy: 0.9382 - val_loss: 0.2947 - val_sparse_categorical_accuracy: 0.9082\n",
            "Epoch 292/300\n",
            "391/391 [==============================] - 10s 26ms/step - loss: 0.1582 - sparse_categorical_accuracy: 0.9388 - val_loss: 0.2913 - val_sparse_categorical_accuracy: 0.9083\n",
            "Epoch 293/300\n",
            "391/391 [==============================] - 10s 26ms/step - loss: 0.1564 - sparse_categorical_accuracy: 0.9400 - val_loss: 0.2924 - val_sparse_categorical_accuracy: 0.9052\n",
            "Epoch 294/300\n",
            "391/391 [==============================] - 9s 23ms/step - loss: 0.1565 - sparse_categorical_accuracy: 0.9393 - val_loss: 0.2937 - val_sparse_categorical_accuracy: 0.9074\n",
            "Epoch 295/300\n",
            "391/391 [==============================] - 10s 26ms/step - loss: 0.1567 - sparse_categorical_accuracy: 0.9377 - val_loss: 0.2927 - val_sparse_categorical_accuracy: 0.9082\n",
            "Epoch 296/300\n",
            "391/391 [==============================] - 10s 26ms/step - loss: 0.1571 - sparse_categorical_accuracy: 0.9389 - val_loss: 0.2987 - val_sparse_categorical_accuracy: 0.9064\n",
            "Epoch 297/300\n",
            "391/391 [==============================] - 9s 24ms/step - loss: 0.1551 - sparse_categorical_accuracy: 0.9393 - val_loss: 0.2926 - val_sparse_categorical_accuracy: 0.9111\n",
            "Epoch 298/300\n",
            "391/391 [==============================] - 10s 25ms/step - loss: 0.1536 - sparse_categorical_accuracy: 0.9407 - val_loss: 0.2985 - val_sparse_categorical_accuracy: 0.9062\n",
            "Epoch 299/300\n",
            "391/391 [==============================] - 10s 26ms/step - loss: 0.1576 - sparse_categorical_accuracy: 0.9399 - val_loss: 0.2935 - val_sparse_categorical_accuracy: 0.9083\n",
            "Epoch 300/300\n",
            "391/391 [==============================] - 10s 26ms/step - loss: 0.1544 - sparse_categorical_accuracy: 0.9400 - val_loss: 0.2924 - val_sparse_categorical_accuracy: 0.9086\n",
            "313/313 [==============================] - 1s 3ms/step - loss: 0.3299 - sparse_categorical_accuracy: 0.8977\n",
            "\n",
            "Test accuracy: 0.8977000117301941\n"
          ]
        }
      ]
    },
    {
      "cell_type": "code",
      "source": [
        "print('\\nhistory dict:', list(history.history.keys()))"
      ],
      "metadata": {
        "id": "CxRE-B_Q6Sii",
        "colab": {
          "base_uri": "https://localhost:8080/"
        },
        "outputId": "f1a5f264-4ca6-41fa-c313-20f93494b277"
      },
      "execution_count": 31,
      "outputs": [
        {
          "output_type": "stream",
          "name": "stdout",
          "text": [
            "\n",
            "history dict: ['loss', 'sparse_categorical_accuracy', 'val_loss', 'val_sparse_categorical_accuracy']\n"
          ]
        }
      ]
    },
    {
      "cell_type": "code",
      "source": [
        "result = model.evaluate(x_test, y_test)\n",
        "print(result)"
      ],
      "metadata": {
        "id": "YXpwRRTvTBNg",
        "colab": {
          "base_uri": "https://localhost:8080/"
        },
        "outputId": "9112e344-666f-4b76-dc87-7ef733cd7dca"
      },
      "execution_count": 32,
      "outputs": [
        {
          "output_type": "stream",
          "name": "stdout",
          "text": [
            "313/313 [==============================] - 1s 3ms/step - loss: 0.3299 - sparse_categorical_accuracy: 0.8977\n",
            "[0.3299191892147064, 0.8977000117301941]\n"
          ]
        }
      ]
    },
    {
      "cell_type": "code",
      "source": [
        "# from keras.models import load_model\n",
        "# saved_model = load_model('best_model.h5')\n",
        "# # _, train_acc = saved_model.evaluate(x_train, y_train, verbose=0)\n",
        "# _, test_acc = saved_model.evaluate(x_test, y_test, verbose=0)\n",
        "# print('Test: %.3f' % (test_acc))"
      ],
      "metadata": {
        "id": "DR_MS9DABo_K"
      },
      "execution_count": 33,
      "outputs": []
    },
    {
      "cell_type": "code",
      "source": [
        "history_dict = history.history\n",
        "loss_values = history_dict['loss']\n",
        "val_loss_values = history_dict['val_loss']\n",
        "\n",
        "epochs = range(1, len(history_dict['loss']) + 1)\n",
        "\n",
        "plt.figure(figsize=(10, 5))\n",
        "plt.plot(epochs, loss_values, 'bo', label='Training loss')\n",
        "plt.plot(epochs, val_loss_values, 'r', label='Validation loss')\n",
        "plt.title('Training and validation loss')\n",
        "plt.xlabel('Epochs')\n",
        "plt.ylabel('Loss')\n",
        "# plt.legend()\n",
        "plt.grid(True)\n",
        "plt.show()\n",
        "1\n",
        "plt.clf()\n",
        "plt.figure(figsize=(10, 5))\n",
        "val_acc_values = history_dict['sparse_categorical_accuracy']\n",
        "plt.plot(epochs, history_dict['sparse_categorical_accuracy'], 'bo', label='Training acc')\n",
        "plt.plot(epochs, history_dict['val_sparse_categorical_accuracy'], 'r', label='Validation acc')\n",
        "plt.ylim (0.88, 0.92)\n",
        "plt.title('Training and validation accuracy')\n",
        "plt.xlabel('Epochs')\n",
        "plt.ylabel('Accuracy')\n",
        "plt.legend()\n",
        "plt.grid(True)"
      ],
      "metadata": {
        "id": "2Ll_5sGlXKMH",
        "colab": {
          "base_uri": "https://localhost:8080/",
          "height": 975
        },
        "outputId": "c3e5a4f2-2352-431c-d1c1-59beca62c9ba"
      },
      "execution_count": 34,
      "outputs": [
        {
          "output_type": "display_data",
          "data": {
            "text/plain": [
              "<Figure size 1000x500 with 1 Axes>"
            ],
            "image/png": "[encoded data removed]"
          },
          "metadata": {}
        },
        {
          "output_type": "display_data",
          "data": {
            "text/plain": [
              "<Figure size 640x480 with 0 Axes>"
            ]
          },
          "metadata": {}
        },
        {
          "output_type": "display_data",
          "data": {
            "text/plain": [
              "<Figure size 1000x500 with 1 Axes>"
            ],
            "image/png": "[encoded data removed]"
          },
          "metadata": {}
        }
      ]
    },
    {
      "cell_type": "code",
      "source": [
        "probability_model = tf.keras.Sequential([model,\n",
        "                                         tf.keras.layers.Softmax()])"
      ],
      "metadata": {
        "id": "VzOdKAT_uV-f"
      },
      "execution_count": 35,
      "outputs": []
    },
    {
      "cell_type": "code",
      "source": [
        "predictions = probability_model.predict(x_test)"
      ],
      "metadata": {
        "id": "f4is3NFruYom",
        "colab": {
          "base_uri": "https://localhost:8080/"
        },
        "outputId": "4e1ed964-f73c-4f34-9a92-a7cf6147a066"
      },
      "execution_count": 36,
      "outputs": [
        {
          "output_type": "stream",
          "name": "stdout",
          "text": [
            "313/313 [==============================] - 1s 3ms/step\n"
          ]
        }
      ]
    },
    {
      "cell_type": "code",
      "source": [
        "predictions[0]"
      ],
      "metadata": {
        "id": "82cigvlZudz_",
        "colab": {
          "base_uri": "https://localhost:8080/"
        },
        "outputId": "e0c295ab-5d26-432b-dead-f88e6c32ea8c"
      },
      "execution_count": 37,
      "outputs": [
        {
          "output_type": "execute_result",
          "data": {
            "text/plain": [
              "array([0.08533701, 0.08533701, 0.08533701, 0.08533701, 0.08533701,\n",
              "       0.08533701, 0.08533701, 0.08533878, 0.08533701, 0.23196517],\n",
              "      dtype=float32)"
            ]
          },
          "metadata": {},
          "execution_count": 37
        }
      ]
    },
    {
      "cell_type": "code",
      "source": [
        "model.summary()"
      ],
      "metadata": {
        "id": "6RsQPHyYuNGe",
        "colab": {
          "base_uri": "https://localhost:8080/"
        },
        "outputId": "b82a803e-4d4f-4233-ee53-449127af8462"
      },
      "execution_count": 38,
      "outputs": [
        {
          "output_type": "stream",
          "name": "stdout",
          "text": [
            "Model: \"sequential_2\"\n",
            "_________________________________________________________________\n",
            " Layer (type)                Output Shape              Param #   \n",
            "=================================================================\n",
            " flatten_1 (Flatten)         (None, 784)               0         \n",
            "                                                                 \n",
            " dropout_4 (Dropout)         (None, 784)               0         \n",
            "                                                                 \n",
            " dense_4 (Dense)             (None, 256)               200960    \n",
            "                                                                 \n",
            " batch_normalization_3 (Bat  (None, 256)               1024      \n",
            " chNormalization)                                                \n",
            "                                                                 \n",
            " dropout_5 (Dropout)         (None, 256)               0         \n",
            "                                                                 \n",
            " dense_5 (Dense)             (None, 512)               131584    \n",
            "                                                                 \n",
            " batch_normalization_4 (Bat  (None, 512)               2048      \n",
            " chNormalization)                                                \n",
            "                                                                 \n",
            " dropout_6 (Dropout)         (None, 512)               0         \n",
            "                                                                 \n",
            " dense_6 (Dense)             (None, 512)               262656    \n",
            "                                                                 \n",
            " batch_normalization_5 (Bat  (None, 512)               2048      \n",
            " chNormalization)                                                \n",
            "                                                                 \n",
            " dropout_7 (Dropout)         (None, 512)               0         \n",
            "                                                                 \n",
            " dense_7 (Dense)             (None, 10)                5130      \n",
            "                                                                 \n",
            "=================================================================\n",
            "Total params: 605450 (2.31 MB)\n",
            "Trainable params: 602890 (2.30 MB)\n",
            "Non-trainable params: 2560 (10.00 KB)\n",
            "_________________________________________________________________\n"
          ]
        }
      ]
    }
  ]
}