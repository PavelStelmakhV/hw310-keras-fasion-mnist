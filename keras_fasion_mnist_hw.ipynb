{
  "nbformat": 4,
  "nbformat_minor": 0,
  "metadata": {
    "colab": {
      "provenance": [],
      "gpuType": "T4",
      "authorship_tag": "ABX9TyM62mpTer4r7zO1QAE4FZDw",
      "include_colab_link": true
    },
    "kernelspec": {
      "name": "python3",
      "display_name": "Python 3"
    },
    "language_info": {
      "name": "python"
    },
    "accelerator": "GPU"
  },
  "cells": [
    {
      "cell_type": "markdown",
      "metadata": {
        "id": "view-in-github",
        "colab_type": "text"
      },
      "source": [
        "<a href=\"https://colab.research.google.com/github/PavelStelmakhV/hw310-keras-fasion-mnist/blob/main/keras_fasion_mnist_hw.ipynb\" target=\"_parent\"><img src=\"https://colab.research.google.com/assets/colab-badge.svg\" alt=\"Open In Colab\"/></a>"
      ]
    },
    {
      "cell_type": "code",
      "execution_count": 99,
      "metadata": {
        "id": "vv7w0bgAVQPO"
      },
      "outputs": [],
      "source": [
        "import tensorflow as tf\n",
        "\n",
        "import numpy as np\n",
        "import matplotlib.pyplot as plt\n",
        "from keras import layers\n",
        "from keras import regularizers"
      ]
    },
    {
      "cell_type": "code",
      "source": [
        "fashion_mnist = tf.keras.datasets.fashion_mnist\n",
        "\n",
        "(x_train, y_train), (x_test, y_test) = fashion_mnist.load_data()"
      ],
      "metadata": {
        "id": "mOpywsNAzfGB"
      },
      "execution_count": 100,
      "outputs": []
    },
    {
      "cell_type": "code",
      "source": [
        "# x_train = x_train.reshape(60000, 784).astype('float32') / 255\n",
        "# x_test = x_test.reshape(10000, 784).astype('float32') / 255\n",
        "x_train = x_train.astype('float32') / 255\n",
        "x_test = x_test.astype('float32') / 255\n",
        "\n",
        "y_train = y_train.astype('float32')\n",
        "y_test = y_test.astype('float32')\n",
        "\n",
        "# Перемешаем тренировочные данные\n",
        "# train_data = tf.data.Dataset.from_tensor_slices((x_train, y_train))\n",
        "# train_data = train_data.repeat().shuffle(5000).batch(batch_size).prefetch(1)"
      ],
      "metadata": {
        "id": "t2gucjsJ0KUi"
      },
      "execution_count": 101,
      "outputs": []
    },
    {
      "cell_type": "code",
      "source": [
        "x_val = x_train[-10000:]\n",
        "y_val = y_train[-10000:]\n",
        "x_train = x_train[:-10000]\n",
        "y_train = y_train[:-10000]"
      ],
      "metadata": {
        "id": "fLPNXab5dHwO"
      },
      "execution_count": 102,
      "outputs": []
    },
    {
      "cell_type": "code",
      "source": [
        "model = tf.keras.Sequential()\n",
        "\n",
        "drop_out = 0.4\n",
        "lern_rat = 0.00001\n",
        "neurons = 5000\n",
        "\n",
        "model.add(layers.Flatten(input_shape=(28, 28)))\n",
        "# model.add(layers.Dropout(0.2))\n",
        "model.add(layers.Dense(neurons, activation='relu', kernel_regularizer=regularizers.l2(lern_rat)))\n",
        "model.add(layers.Dropout(drop_out))\n",
        "model.add(layers.Dense(neurons, activation='sigmoid', kernel_regularizer=regularizers.l2(lern_rat)))\n",
        "model.add(layers.Dropout(drop_out))\n",
        "\n",
        "model.add(layers.Dense(neurons, activation='relu', kernel_regularizer=regularizers.l2(lern_rat)))\n",
        "model.add(layers.Dropout(drop_out))\n",
        "model.add(layers.Dense(neurons, activation='sigmoid', kernel_regularizer=regularizers.l2(lern_rat)))\n",
        "model.add(layers.Dropout(drop_out))\n",
        "# model.add(layers.Dense(512, activation='relu', kernel_regularizer=regularizers.l2(lern_rat)))\n",
        "# model.add(layers.Dropout(drop_out))\n",
        "\n",
        "# model.add(layers.Dense(216, activation='relu', kernel_regularizer=regularizers.l2(0.001)))\n",
        "# model.add(layers.Dense(512, activation='sigmoid', kernel_regularizer=regularizers.l2(0.00001)))\n",
        "# model.add(layers.Dropout(0.5))\n",
        "# model.add(layers.Dense(512, activation='sigmoid', kernel_regularizer=regularizers.l2(0.00001)))\n",
        "# model.add(layers.Dropout(0.5))\n",
        "# model.add(layers.Dense(500, activation='sigmoid', kernel_regularizer=regularizers.l2(0.000001)))\n",
        "# model.add(layers.Dense(500, activation='relu', kernel_regularizer=regularizers.l2(0.000001)))\n",
        "# # model.add(layers.Dense(80, activation='relu', kernel_regularizer=regularizers.l2(0.001)))\n",
        "# model.add(layers.Dropout(0.5))\n",
        "# model.add(layers.Dense(500, activation='relu', kernel_regularizer=regularizers.l2(0.000001)))\n",
        "# model.add(layers.Dropout(0.5))\n",
        "# # model.add(layers.Dense(40, activation='relu', kernel_regularizer=regularizers.l2(0.001)))\n",
        "\n",
        "model.add(layers.Dense(10, activation='softmax'))\n",
        "# model.add(layers.Softmax())"
      ],
      "metadata": {
        "id": "atS39i4d0aqW"
      },
      "execution_count": 103,
      "outputs": []
    },
    {
      "cell_type": "code",
      "source": [
        "model.compile(#optimizer='adam',\n",
        "              optimizer='adamax',\n",
        "              # optimizer='nadam',\n",
        "              # optimizer='rmsprop',\n",
        "              # optimizer='sgd',\n",
        "              # optimizer='adadelta',\n",
        "              # loss='binary_crossentropy',\n",
        "              loss=tf.keras.losses.SparseCategoricalCrossentropy(),\n",
        "              metrics=['sparse_categorical_accuracy'])"
      ],
      "metadata": {
        "id": "hENVaAC7ilNY"
      },
      "execution_count": 104,
      "outputs": []
    },
    {
      "cell_type": "code",
      "source": [
        "# model.fit(train_images, train_labels, epochs=20)\n",
        "history = model.fit(x_train, y_train,\n",
        "                    epochs=20,\n",
        "                    batch_size=1024,\n",
        "                    validation_data=(x_val, y_val))\n",
        "test_loss, test_acc = model.evaluate(x_test, y_test)\n",
        "print('\\nTest accuracy:', test_acc)"
      ],
      "metadata": {
        "id": "FH8HcMNm233I",
        "outputId": "6e14fe8f-e07d-44d2-cc3a-b2fc4cad54cc",
        "colab": {
          "base_uri": "https://localhost:8080/"
        }
      },
      "execution_count": 105,
      "outputs": [
        {
          "output_type": "stream",
          "name": "stdout",
          "text": [
            "Epoch 1/20\n",
            "49/49 [==============================] - 10s 164ms/step - loss: 4.7836 - sparse_categorical_accuracy: 0.1425 - val_loss: 1.6808 - val_sparse_categorical_accuracy: 0.3894\n",
            "Epoch 2/20\n",
            "49/49 [==============================] - 8s 165ms/step - loss: 1.3576 - sparse_categorical_accuracy: 0.4942 - val_loss: 0.9356 - val_sparse_categorical_accuracy: 0.6735\n",
            "Epoch 3/20\n",
            "49/49 [==============================] - 8s 163ms/step - loss: 0.8874 - sparse_categorical_accuracy: 0.7170 - val_loss: 0.6895 - val_sparse_categorical_accuracy: 0.8026\n",
            "Epoch 4/20\n",
            "49/49 [==============================] - 8s 168ms/step - loss: 0.7194 - sparse_categorical_accuracy: 0.7967 - val_loss: 0.6267 - val_sparse_categorical_accuracy: 0.8292\n",
            "Epoch 5/20\n",
            "49/49 [==============================] - 8s 169ms/step - loss: 0.6511 - sparse_categorical_accuracy: 0.8215 - val_loss: 0.5950 - val_sparse_categorical_accuracy: 0.8366\n",
            "Epoch 6/20\n",
            "49/49 [==============================] - 8s 166ms/step - loss: 0.6092 - sparse_categorical_accuracy: 0.8347 - val_loss: 0.5845 - val_sparse_categorical_accuracy: 0.8416\n",
            "Epoch 7/20\n",
            "49/49 [==============================] - 8s 168ms/step - loss: 0.5786 - sparse_categorical_accuracy: 0.8460 - val_loss: 0.5352 - val_sparse_categorical_accuracy: 0.8553\n",
            "Epoch 8/20\n",
            "49/49 [==============================] - 8s 169ms/step - loss: 0.5460 - sparse_categorical_accuracy: 0.8553 - val_loss: 0.5195 - val_sparse_categorical_accuracy: 0.8611\n",
            "Epoch 9/20\n",
            "49/49 [==============================] - 8s 168ms/step - loss: 0.5339 - sparse_categorical_accuracy: 0.8572 - val_loss: 0.5089 - val_sparse_categorical_accuracy: 0.8663\n",
            "Epoch 10/20\n",
            "49/49 [==============================] - 8s 170ms/step - loss: 0.5164 - sparse_categorical_accuracy: 0.8625 - val_loss: 0.4955 - val_sparse_categorical_accuracy: 0.8711\n",
            "Epoch 11/20\n",
            "49/49 [==============================] - 8s 169ms/step - loss: 0.5027 - sparse_categorical_accuracy: 0.8672 - val_loss: 0.4970 - val_sparse_categorical_accuracy: 0.8724\n",
            "Epoch 12/20\n",
            "49/49 [==============================] - 8s 170ms/step - loss: 0.4913 - sparse_categorical_accuracy: 0.8705 - val_loss: 0.4989 - val_sparse_categorical_accuracy: 0.8685\n",
            "Epoch 13/20\n",
            "49/49 [==============================] - 8s 169ms/step - loss: 0.4785 - sparse_categorical_accuracy: 0.8736 - val_loss: 0.4847 - val_sparse_categorical_accuracy: 0.8723\n",
            "Epoch 14/20\n",
            "49/49 [==============================] - 8s 169ms/step - loss: 0.4671 - sparse_categorical_accuracy: 0.8779 - val_loss: 0.4654 - val_sparse_categorical_accuracy: 0.8777\n",
            "Epoch 15/20\n",
            "49/49 [==============================] - 8s 172ms/step - loss: 0.4558 - sparse_categorical_accuracy: 0.8806 - val_loss: 0.4590 - val_sparse_categorical_accuracy: 0.8782\n",
            "Epoch 16/20\n",
            "49/49 [==============================] - 8s 170ms/step - loss: 0.4468 - sparse_categorical_accuracy: 0.8836 - val_loss: 0.4531 - val_sparse_categorical_accuracy: 0.8834\n",
            "Epoch 17/20\n",
            "49/49 [==============================] - 8s 168ms/step - loss: 0.4354 - sparse_categorical_accuracy: 0.8872 - val_loss: 0.4459 - val_sparse_categorical_accuracy: 0.8819\n",
            "Epoch 18/20\n",
            "49/49 [==============================] - 8s 173ms/step - loss: 0.4331 - sparse_categorical_accuracy: 0.8867 - val_loss: 0.4463 - val_sparse_categorical_accuracy: 0.8855\n",
            "Epoch 19/20\n",
            "49/49 [==============================] - 8s 172ms/step - loss: 0.4222 - sparse_categorical_accuracy: 0.8889 - val_loss: 0.4498 - val_sparse_categorical_accuracy: 0.8836\n",
            "Epoch 20/20\n",
            "49/49 [==============================] - 8s 169ms/step - loss: 0.4224 - sparse_categorical_accuracy: 0.8882 - val_loss: 0.4451 - val_sparse_categorical_accuracy: 0.8841\n",
            "313/313 [==============================] - 2s 5ms/step - loss: 0.4703 - sparse_categorical_accuracy: 0.8741\n",
            "\n",
            "Test accuracy: 0.8741000294685364\n"
          ]
        }
      ]
    },
    {
      "cell_type": "code",
      "source": [
        "print('\\nhistory dict:', list(history.history.keys()))"
      ],
      "metadata": {
        "id": "CxRE-B_Q6Sii",
        "outputId": "fd57eb77-3f95-4c07-fc2e-7b387ca6a2fe",
        "colab": {
          "base_uri": "https://localhost:8080/"
        }
      },
      "execution_count": 106,
      "outputs": [
        {
          "output_type": "stream",
          "name": "stdout",
          "text": [
            "\n",
            "history dict: ['loss', 'sparse_categorical_accuracy', 'val_loss', 'val_sparse_categorical_accuracy']\n"
          ]
        }
      ]
    },
    {
      "cell_type": "code",
      "source": [
        "history_dict = history.history\n",
        "loss_values = history_dict['loss']\n",
        "val_loss_values = history_dict['val_loss']\n",
        "\n",
        "epochs = range(1, len(history_dict['loss']) + 1)\n",
        "\n",
        "plt.figure(figsize=(10, 5))\n",
        "plt.plot(epochs, loss_values, 'bo', label='Training loss')\n",
        "plt.plot(epochs, val_loss_values, 'b', label='Validation loss')\n",
        "plt.title('Training and validation loss')\n",
        "plt.xlabel('Epochs')\n",
        "plt.ylabel('Loss')\n",
        "plt.legend()\n",
        "plt.grid(True)\n",
        "plt.show()\n",
        "\n",
        "plt.clf()\n",
        "plt.figure(figsize=(10, 5))\n",
        "val_acc_values = history_dict['sparse_categorical_accuracy']\n",
        "plt.plot(epochs, history_dict['sparse_categorical_accuracy'], 'bo', label='Training acc')\n",
        "plt.plot(epochs, history_dict['val_sparse_categorical_accuracy'], 'b', label='Validation acc')\n",
        "plt.title('Training and validation accuracy')\n",
        "plt.xlabel('Epochs')\n",
        "plt.ylabel('Accuracy')\n",
        "plt.legend()\n",
        "plt.grid(True)"
      ],
      "metadata": {
        "colab": {
          "base_uri": "https://localhost:8080/",
          "height": 975
        },
        "id": "2Ll_5sGlXKMH",
        "outputId": "f887ef99-776f-4181-b3cf-feb7085ddbc8"
      },
      "execution_count": 107,
      "outputs": [
        {
          "output_type": "display_data",
          "data": {
            "text/plain": [
              "<Figure size 1000x500 with 1 Axes>"
            ],
            "image/png": "[encoded data removed]"
          },
          "metadata": {}
        },
        {
          "output_type": "display_data",
          "data": {
            "text/plain": [
              "<Figure size 640x480 with 0 Axes>"
            ]
          },
          "metadata": {}
        },
        {
          "output_type": "display_data",
          "data": {
            "text/plain": [
              "<Figure size 1000x500 with 1 Axes>"
            ],
            "image/png": "[encoded data removed]"
          },
          "metadata": {}
        }
      ]
    },
    {
      "cell_type": "code",
      "source": [
        "probability_model = tf.keras.Sequential([model,\n",
        "                                         tf.keras.layers.Softmax()])"
      ],
      "metadata": {
        "id": "VzOdKAT_uV-f"
      },
      "execution_count": 108,
      "outputs": []
    },
    {
      "cell_type": "code",
      "source": [
        "predictions = probability_model.predict(x_test)"
      ],
      "metadata": {
        "id": "f4is3NFruYom",
        "outputId": "68ad4d1a-dcc9-41d2-a382-c236164f0dca",
        "colab": {
          "base_uri": "https://localhost:8080/"
        }
      },
      "execution_count": 109,
      "outputs": [
        {
          "output_type": "stream",
          "name": "stdout",
          "text": [
            "313/313 [==============================] - 1s 2ms/step\n"
          ]
        }
      ]
    },
    {
      "cell_type": "code",
      "source": [
        "predictions[0]"
      ],
      "metadata": {
        "id": "82cigvlZudz_",
        "outputId": "dda333c1-f21a-4fa7-bcf6-054877d7b065",
        "colab": {
          "base_uri": "https://localhost:8080/"
        }
      },
      "execution_count": 110,
      "outputs": [
        {
          "output_type": "execute_result",
          "data": {
            "text/plain": [
              "array([0.08546155, 0.0854617 , 0.0854605 , 0.0854616 , 0.08546077,\n",
              "       0.08554827, 0.08546057, 0.08619439, 0.08548928, 0.23000136],\n",
              "      dtype=float32)"
            ]
          },
          "metadata": {},
          "execution_count": 110
        }
      ]
    },
    {
      "cell_type": "code",
      "source": [
        "model.summary()"
      ],
      "metadata": {
        "id": "6RsQPHyYuNGe",
        "outputId": "0b95c8a2-5e5a-48af-edf4-c2b9bef007ec",
        "colab": {
          "base_uri": "https://localhost:8080/"
        }
      },
      "execution_count": 111,
      "outputs": [
        {
          "output_type": "stream",
          "name": "stdout",
          "text": [
            "Model: \"sequential_15\"\n",
            "_________________________________________________________________\n",
            " Layer (type)                Output Shape              Param #   \n",
            "=================================================================\n",
            " flatten_8 (Flatten)         (None, 784)               0         \n",
            "                                                                 \n",
            " dense_38 (Dense)            (None, 5000)              3925000   \n",
            "                                                                 \n",
            " dropout_30 (Dropout)        (None, 5000)              0         \n",
            "                                                                 \n",
            " dense_39 (Dense)            (None, 5000)              25005000  \n",
            "                                                                 \n",
            " dropout_31 (Dropout)        (None, 5000)              0         \n",
            "                                                                 \n",
            " dense_40 (Dense)            (None, 5000)              25005000  \n",
            "                                                                 \n",
            " dropout_32 (Dropout)        (None, 5000)              0         \n",
            "                                                                 \n",
            " dense_41 (Dense)            (None, 5000)              25005000  \n",
            "                                                                 \n",
            " dropout_33 (Dropout)        (None, 5000)              0         \n",
            "                                                                 \n",
            " dense_42 (Dense)            (None, 10)                50010     \n",
            "                                                                 \n",
            "=================================================================\n",
            "Total params: 78990010 (301.32 MB)\n",
            "Trainable params: 78990010 (301.32 MB)\n",
            "Non-trainable params: 0 (0.00 Byte)\n",
            "_________________________________________________________________\n"
          ]
        }
      ]
    }
  ]
}