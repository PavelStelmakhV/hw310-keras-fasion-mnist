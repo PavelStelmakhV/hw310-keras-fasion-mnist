{
  "nbformat": 4,
  "nbformat_minor": 0,
  "metadata": {
    "colab": {
      "provenance": [],
      "gpuType": "T4",
      "authorship_tag": "ABX9TyNQbM7YC8pQGJ35cOOLa3Jt",
      "include_colab_link": true
    },
    "kernelspec": {
      "name": "python3",
      "display_name": "Python 3"
    },
    "language_info": {
      "name": "python"
    },
    "accelerator": "GPU"
  },
  "cells": [
    {
      "cell_type": "markdown",
      "metadata": {
        "id": "view-in-github",
        "colab_type": "text"
      },
      "source": [
        "<a href=\"https://colab.research.google.com/github/PavelStelmakhV/hw310-keras-fasion-mnist/blob/main/keras_fasion_mnist_hw.ipynb\" target=\"_parent\"><img src=\"https://colab.research.google.com/assets/colab-badge.svg\" alt=\"Open In Colab\"/></a>"
      ]
    },
    {
      "cell_type": "code",
      "source": [
        "import tensorflow as tf\n",
        "from tensorflow.python.client import device_lib\n",
        "print(device_lib.list_local_devices())"
      ],
      "metadata": {
        "colab": {
          "base_uri": "https://localhost:8080/"
        },
        "id": "CQL6wYJUms6Y",
        "outputId": "09c5895a-96bd-4b80-d181-529c5b4cd33c"
      },
      "execution_count": 233,
      "outputs": [
        {
          "output_type": "stream",
          "name": "stdout",
          "text": [
            "[name: \"/device:CPU:0\"\n",
            "device_type: \"CPU\"\n",
            "memory_limit: 268435456\n",
            "locality {\n",
            "}\n",
            "incarnation: 5556124005398177395\n",
            "xla_global_id: -1\n",
            ", name: \"/device:GPU:0\"\n",
            "device_type: \"GPU\"\n",
            "memory_limit: 14626652160\n",
            "locality {\n",
            "  bus_id: 1\n",
            "  links {\n",
            "  }\n",
            "}\n",
            "incarnation: 11254974625213096812\n",
            "physical_device_desc: \"device: 0, name: Tesla T4, pci bus id: 0000:00:04.0, compute capability: 7.5\"\n",
            "xla_global_id: 416903419\n",
            "]\n"
          ]
        }
      ]
    },
    {
      "cell_type": "code",
      "execution_count": 234,
      "metadata": {
        "id": "vv7w0bgAVQPO"
      },
      "outputs": [],
      "source": [
        "import tensorflow as tf\n",
        "import numpy as np\n",
        "import matplotlib.pyplot as plt\n",
        "import tf_keras\n",
        "\n",
        "from keras import layers\n",
        "from keras import models\n",
        "from keras import regularizers\n",
        "from keras import callbacks\n",
        "from keras import initializers\n",
        "from keras.layers import BatchNormalization\n",
        "from keras.models import load_model\n",
        "from tensorflow.keras.utils import to_categorical"
      ]
    },
    {
      "cell_type": "code",
      "source": [
        "num_classes = 10"
      ],
      "metadata": {
        "id": "RvT1uYJsa5cn"
      },
      "execution_count": 235,
      "outputs": []
    },
    {
      "cell_type": "code",
      "source": [
        "fashion_mnist = tf.keras.datasets.fashion_mnist\n",
        "\n",
        "(x_train, y_train), (x_test, y_test) = fashion_mnist.load_data()"
      ],
      "metadata": {
        "id": "mOpywsNAzfGB"
      },
      "execution_count": 236,
      "outputs": []
    },
    {
      "cell_type": "code",
      "source": [
        "def drow_hist(data):\n",
        "  plt.figure(figsize=(8,6), dpi= 80)\n",
        "  _ = plt.hist(data,\n",
        "              bins=num_classes,\n",
        "              stacked=True,\n",
        "              density=False,\n",
        "              range=(0,10),\n",
        "              rwidth=0.9,\n",
        "              )"
      ],
      "metadata": {
        "id": "NjEvuOvomEoT"
      },
      "execution_count": 237,
      "outputs": []
    },
    {
      "cell_type": "code",
      "source": [
        "# create validation data\n",
        "val_size = 6600\n",
        "\n",
        "x_val = x_train[-val_size:, :, :]\n",
        "x_train = x_train[:-val_size, :, :]\n",
        "\n",
        "y_val = y_train[-val_size:]\n",
        "y_train = y_train[:-val_size]"
      ],
      "metadata": {
        "id": "jAs92sDoVU89"
      },
      "execution_count": 238,
      "outputs": []
    },
    {
      "cell_type": "code",
      "source": [
        "# mirror train image\n",
        "x_train_add = np.rot90(x_train, k=1, axes=(1,2))\n",
        "x_train_add = np.transpose(x_train_add, (0, 2, 1))"
      ],
      "metadata": {
        "id": "UHNuw-3D_v7x"
      },
      "execution_count": 239,
      "outputs": []
    },
    {
      "cell_type": "code",
      "source": [
        "y_train_add = y_train.copy()"
      ],
      "metadata": {
        "id": "TNDXV8RfZbt1"
      },
      "execution_count": 240,
      "outputs": []
    },
    {
      "cell_type": "code",
      "source": [
        "# remove boots image from addition data [5, 7, 9]\n",
        "for i in [5, 7, 9]:\n",
        "    index = np.where(y_train_add == i )\n",
        "    x_train_add = np.delete(x_train_add, index , axis=0)\n",
        "    y_train_add = np.delete(y_train_add, index , axis=0)"
      ],
      "metadata": {
        "id": "506yp4e5UqKp"
      },
      "execution_count": 241,
      "outputs": []
    },
    {
      "cell_type": "code",
      "source": [
        "x_train_add.shape"
      ],
      "metadata": {
        "colab": {
          "base_uri": "https://localhost:8080/"
        },
        "id": "WB-PVgBb116E",
        "outputId": "68450258-a9cb-4477-975b-edc5bc1ab2c5"
      },
      "execution_count": 242,
      "outputs": [
        {
          "output_type": "execute_result",
          "data": {
            "text/plain": [
              "(37342, 28, 28)"
            ]
          },
          "metadata": {},
          "execution_count": 242
        }
      ]
    },
    {
      "cell_type": "code",
      "source": [
        "y_train_add.shape"
      ],
      "metadata": {
        "colab": {
          "base_uri": "https://localhost:8080/"
        },
        "id": "MjteIWwr2V-N",
        "outputId": "32be56e3-2a63-4b0d-cddd-67c4274d0ee8"
      },
      "execution_count": 243,
      "outputs": [
        {
          "output_type": "execute_result",
          "data": {
            "text/plain": [
              "(37342,)"
            ]
          },
          "metadata": {},
          "execution_count": 243
        }
      ]
    },
    {
      "cell_type": "code",
      "source": [
        "# x_train = np.concatenate([\n",
        "#     x_train,\n",
        "#     x_train_add[:10000:, :, :]\n",
        "# ])"
      ],
      "metadata": {
        "id": "C25g0-L5PuhV"
      },
      "execution_count": 244,
      "outputs": []
    },
    {
      "cell_type": "code",
      "source": [
        "# y_train = np.concatenate([\n",
        "#     y_train,\n",
        "#     y_train_add[:10000]\n",
        "# ])"
      ],
      "metadata": {
        "id": "JiyI9CE-RWnR"
      },
      "execution_count": 245,
      "outputs": []
    },
    {
      "cell_type": "code",
      "source": [
        "drow_hist(y_train)"
      ],
      "metadata": {
        "colab": {
          "base_uri": "https://localhost:8080/",
          "height": 420
        },
        "id": "j0FZ4_7DpRVw",
        "outputId": "629d5e59-2339-4d11-b2da-ff0237e090cf"
      },
      "execution_count": 246,
      "outputs": [
        {
          "output_type": "display_data",
          "data": {
            "text/plain": [
              "<Figure size 640x480 with 1 Axes>"
            ],
            "image/png": "[encoded data removed]"
          },
          "metadata": {}
        }
      ]
    },
    {
      "cell_type": "code",
      "source": [
        "# plt.figure()\n",
        "# plt.imshow(x_train[7])\n",
        "# plt.colorbar()\n",
        "# plt.grid(False)\n",
        "# plt.show()"
      ],
      "metadata": {
        "id": "mq_QalIABCeU"
      },
      "execution_count": 247,
      "outputs": []
    },
    {
      "cell_type": "code",
      "source": [
        "# plt.figure()\n",
        "# plt.imshow(x_train_add[0])\n",
        "# plt.colorbar()\n",
        "# plt.grid(False)\n",
        "# plt.show()"
      ],
      "metadata": {
        "id": "CDLNL7Zw3HEc"
      },
      "execution_count": 248,
      "outputs": []
    },
    {
      "cell_type": "code",
      "source": [
        "x_train = x_train.astype('float32') / 255\n",
        "x_test = x_test.astype('float32') / 255\n",
        "x_val = x_val.astype('float32') / 255\n",
        "\n",
        "y_train = to_categorical(y_train)\n",
        "y_test = to_categorical(y_test)\n",
        "y_val = to_categorical(y_val)"
      ],
      "metadata": {
        "id": "t2gucjsJ0KUi"
      },
      "execution_count": 249,
      "outputs": []
    },
    {
      "cell_type": "code",
      "source": [
        "# class_names = ['T-shirt/top', 'Trouser', 'Pullover', 'Dress', 'Coat',\n",
        "#                'Sandal', 'Shirt', 'Sneaker', 'Bag', 'Ankle boot']\n",
        "\n",
        "# plt.figure(figsize=(10,10))\n",
        "# for i in range(25):\n",
        "#     plt.subplot(5,5,i+1)\n",
        "#     plt.xticks([])\n",
        "#     plt.yticks([])\n",
        "#     plt.grid(False)\n",
        "#     plt.imshow(x_train[i+50000], cmap=plt.cm.binary)\n",
        "#     plt.xlabel(class_names[int(y_train[i+50000])])\n",
        "# plt.show()"
      ],
      "metadata": {
        "id": "h4LveKxM4hyC"
      },
      "execution_count": 250,
      "outputs": []
    },
    {
      "cell_type": "code",
      "source": [
        "# plt.figure(figsize=(10,10))\n",
        "# for i in range(25):\n",
        "#     plt.subplot(5,5,i+1)\n",
        "#     plt.xticks([])\n",
        "#     plt.yticks([])\n",
        "#     plt.grid(False)\n",
        "#     plt.imshow(x_train[i], cmap=plt.cm.binary)\n",
        "#     plt.xlabel(class_names[int(y_train[i])])\n",
        "# plt.show()"
      ],
      "metadata": {
        "id": "hljEDYd55d8Q"
      },
      "execution_count": 251,
      "outputs": []
    },
    {
      "cell_type": "code",
      "source": [
        "w_init_tanh = initializers.glorot_normal(seed=111)\n",
        "w_init_relu = initializers.HeNormal(seed=66)\n",
        "# w_init_relu = initializers.HeUniform(seed=24)\n",
        "b_init = initializers.Zeros()"
      ],
      "metadata": {
        "id": "yL9QTEtBGy4N"
      },
      "execution_count": 252,
      "outputs": []
    },
    {
      "cell_type": "code",
      "source": [
        "drop_out = 0.4"
      ],
      "metadata": {
        "id": "flsDcVTnU10J"
      },
      "execution_count": 253,
      "outputs": []
    },
    {
      "cell_type": "code",
      "source": [
        "def layer_relu(model, neurons):\n",
        "  model.add(BatchNormalization())\n",
        "  model.add(layers.Dense(neurons,\n",
        "                       activation='relu',\n",
        "                       kernel_initializer=w_init_relu,\n",
        "                       bias_initializer=b_init))\n",
        "  model.add(layers.Dropout(drop_out))\n",
        "  return model"
      ],
      "metadata": {
        "id": "ZZgs_25rKBCp"
      },
      "execution_count": 254,
      "outputs": []
    },
    {
      "cell_type": "code",
      "source": [
        "def layer_tanh(model, neurons):\n",
        "  model.add(BatchNormalization())\n",
        "  model.add(layers.Dense(neurons,\n",
        "                        activation='tanh',\n",
        "                        kernel_initializer=w_init_tanh,\n",
        "                        bias_initializer=b_init))\n",
        "  model.add(layers.Dropout(drop_out))\n",
        "  return model"
      ],
      "metadata": {
        "id": "90JLLnkBR50t"
      },
      "execution_count": 255,
      "outputs": []
    },
    {
      "cell_type": "code",
      "source": [
        "model = models.Sequential()\n",
        "\n",
        "neurons = 256\n",
        "\n",
        "model.add(layers.Flatten(input_shape=(28, 28)))\n",
        "model.add(layers.Dropout(0.5))\n",
        "\n",
        "model = layer_relu(model, neurons*1)\n",
        "model = layer_tanh(model, neurons*2)\n",
        "model = layer_relu(model, neurons*2)\n",
        "# model = layer_relu(model, neurons*2)\n",
        "\n",
        "\n",
        "model.add(layers.Dense(10, activation='softmax'))"
      ],
      "metadata": {
        "id": "atS39i4d0aqW"
      },
      "execution_count": 256,
      "outputs": []
    },
    {
      "cell_type": "markdown",
      "source": [
        "++++++++++++++++++++++++++++++++++++++++++++++++++++++++++++++++++++++++++++++++"
      ],
      "metadata": {
        "id": "tZO7hl7pM63y"
      }
    },
    {
      "cell_type": "code",
      "source": [
        "optimizer = tf.keras.optimizers.Nadam(learning_rate=0.0003,\n",
        "                                      beta_1=0.9,\n",
        "                                      beta_2=0.999,\n",
        "                                      epsilon=1e-06\n",
        ")\n",
        "# optimizer = tf.keras.optimizers.experimental.RMSprop(learning_rate=0.0005,\n",
        "#                                                     rho=0.5,\n",
        "#                                                     momentum=-16,\n",
        "#                                                     epsilon=1e-07,\n",
        "#                                                     centered=False,\n",
        "#                                                     weight_decay=None,\n",
        "#                                                     clipnorm=None,\n",
        "#                                                     clipvalue=None,\n",
        "#                                                     global_clipnorm=None,\n",
        "#                                                     use_ema=False,\n",
        "#                                                     ema_momentum=0.99,\n",
        "#                                                     ema_overwrite_frequency=100,\n",
        "#                                                     jit_compile=True,\n",
        "#                                                     name='RMSprop',\n",
        "# )"
      ],
      "metadata": {
        "id": "EzfnaqIZlfy8"
      },
      "execution_count": 257,
      "outputs": []
    },
    {
      "cell_type": "markdown",
      "source": [
        "++++++++++++++++++++++++++++++++++++++++++++++++++++++++++++++++++++++++++++++++"
      ],
      "metadata": {
        "id": "KHmBptvOM95Z"
      }
    },
    {
      "cell_type": "code",
      "source": [
        "model.compile(#optimizer='adam',\n",
        "              # optimizer='adamax',\n",
        "              optimizer=optimizer,\n",
        "              # optimizer='rmsprop',\n",
        "              # optimizer='sgd',\n",
        "              # optimizer='adadelta',\n",
        "              # loss='binary_crossentropy',\n",
        "              loss=tf.keras.losses.CategoricalCrossentropy(),\n",
        "              metrics=['categorical_accuracy']) # sparse_categorical_accuracy"
      ],
      "metadata": {
        "id": "hENVaAC7ilNY"
      },
      "execution_count": 258,
      "outputs": []
    },
    {
      "cell_type": "code",
      "source": [
        "# callback = callbacks.EarlyStopping(monitor='val_loss',\n",
        "#                                    patience=15,\n",
        "#                                    restore_best_weights=True,\n",
        "#                                    )\n",
        "es = callbacks.EarlyStopping(monitor='val_loss', mode='min', verbose=0, patience=60)\n",
        "mc = callbacks.ModelCheckpoint('best_model.h5', monitor='categorical_accuracy', mode='max', verbose=0, save_best_only=True)\n"
      ],
      "metadata": {
        "id": "5ihU4exVlsjm"
      },
      "execution_count": 259,
      "outputs": []
    },
    {
      "cell_type": "code",
      "source": [
        "history = model.fit(x_train, y_train,\n",
        "                    epochs=1000,\n",
        "                    batch_size=128,\n",
        "                    # callbacks=[callback],\n",
        "                    callbacks=[mc, es],\n",
        "                    verbose=1, #многословие\n",
        "                    # validation_split=0.2\n",
        "                    validation_data=(x_val, y_val)\n",
        "                    )\n",
        "test_loss, test_acc = model.evaluate(x_test, y_test)\n",
        "print('\\nTest accuracy:', test_acc)"
      ],
      "metadata": {
        "id": "FH8HcMNm233I",
        "outputId": "8f14bf4b-e831-4738-b8e8-f7b6461a0117",
        "colab": {
          "base_uri": "https://localhost:8080/"
        }
      },
      "execution_count": 260,
      "outputs": [
        {
          "output_type": "stream",
          "name": "stdout",
          "text": [
            "Epoch 1/1000\n",
            "418/418 [==============================] - 7s 9ms/step - loss: 1.1911 - categorical_accuracy: 0.5968 - val_loss: 0.5700 - val_categorical_accuracy: 0.7967\n",
            "Epoch 2/1000\n",
            "418/418 [==============================] - 3s 7ms/step - loss: 0.7795 - categorical_accuracy: 0.7188 - val_loss: 0.5341 - val_categorical_accuracy: 0.8080\n",
            "Epoch 3/1000\n",
            "418/418 [==============================] - 3s 7ms/step - loss: 0.6896 - categorical_accuracy: 0.7461 - val_loss: 0.4795 - val_categorical_accuracy: 0.8215\n",
            "Epoch 4/1000\n",
            "418/418 [==============================] - 3s 8ms/step - loss: 0.6310 - categorical_accuracy: 0.7657 - val_loss: 0.4475 - val_categorical_accuracy: 0.8285\n",
            "Epoch 5/1000\n",
            "418/418 [==============================] - 3s 7ms/step - loss: 0.6007 - categorical_accuracy: 0.7778 - val_loss: 0.4346 - val_categorical_accuracy: 0.8329\n",
            "Epoch 6/1000\n",
            "418/418 [==============================] - 3s 7ms/step - loss: 0.5718 - categorical_accuracy: 0.7869 - val_loss: 0.4241 - val_categorical_accuracy: 0.8358\n",
            "Epoch 7/1000\n",
            "418/418 [==============================] - 3s 7ms/step - loss: 0.5525 - categorical_accuracy: 0.7944 - val_loss: 0.4211 - val_categorical_accuracy: 0.8385\n",
            "Epoch 8/1000\n",
            "418/418 [==============================] - 3s 8ms/step - loss: 0.5372 - categorical_accuracy: 0.7999 - val_loss: 0.4148 - val_categorical_accuracy: 0.8406\n",
            "Epoch 9/1000\n",
            "418/418 [==============================] - 3s 7ms/step - loss: 0.5278 - categorical_accuracy: 0.8034 - val_loss: 0.4030 - val_categorical_accuracy: 0.8408\n",
            "Epoch 10/1000\n",
            "418/418 [==============================] - 3s 7ms/step - loss: 0.5140 - categorical_accuracy: 0.8070 - val_loss: 0.4007 - val_categorical_accuracy: 0.8485\n",
            "Epoch 11/1000\n",
            "418/418 [==============================] - 3s 7ms/step - loss: 0.5025 - categorical_accuracy: 0.8127 - val_loss: 0.3868 - val_categorical_accuracy: 0.8505\n",
            "Epoch 12/1000\n",
            "418/418 [==============================] - 3s 8ms/step - loss: 0.4941 - categorical_accuracy: 0.8143 - val_loss: 0.3855 - val_categorical_accuracy: 0.8533\n",
            "Epoch 13/1000\n",
            "418/418 [==============================] - 3s 7ms/step - loss: 0.4917 - categorical_accuracy: 0.8164 - val_loss: 0.3858 - val_categorical_accuracy: 0.8515\n",
            "Epoch 14/1000\n",
            "418/418 [==============================] - 3s 7ms/step - loss: 0.4783 - categorical_accuracy: 0.8208 - val_loss: 0.3788 - val_categorical_accuracy: 0.8544\n",
            "Epoch 15/1000\n",
            "418/418 [==============================] - 3s 7ms/step - loss: 0.4726 - categorical_accuracy: 0.8227 - val_loss: 0.3645 - val_categorical_accuracy: 0.8620\n",
            "Epoch 16/1000\n",
            "418/418 [==============================] - 4s 9ms/step - loss: 0.4651 - categorical_accuracy: 0.8236 - val_loss: 0.3698 - val_categorical_accuracy: 0.8633\n",
            "Epoch 17/1000\n",
            "418/418 [==============================] - 3s 7ms/step - loss: 0.4606 - categorical_accuracy: 0.8263 - val_loss: 0.3688 - val_categorical_accuracy: 0.8626\n",
            "Epoch 18/1000\n",
            "418/418 [==============================] - 3s 7ms/step - loss: 0.4563 - categorical_accuracy: 0.8291 - val_loss: 0.3537 - val_categorical_accuracy: 0.8661\n",
            "Epoch 19/1000\n",
            "418/418 [==============================] - 3s 7ms/step - loss: 0.4532 - categorical_accuracy: 0.8295 - val_loss: 0.3545 - val_categorical_accuracy: 0.8629\n",
            "Epoch 20/1000\n",
            "418/418 [==============================] - 4s 8ms/step - loss: 0.4467 - categorical_accuracy: 0.8315 - val_loss: 0.3576 - val_categorical_accuracy: 0.8671\n",
            "Epoch 21/1000\n",
            "418/418 [==============================] - 3s 7ms/step - loss: 0.4430 - categorical_accuracy: 0.8328 - val_loss: 0.3491 - val_categorical_accuracy: 0.8668\n",
            "Epoch 22/1000\n",
            "418/418 [==============================] - 3s 7ms/step - loss: 0.4398 - categorical_accuracy: 0.8357 - val_loss: 0.3483 - val_categorical_accuracy: 0.8674\n",
            "Epoch 23/1000\n",
            "418/418 [==============================] - 3s 8ms/step - loss: 0.4389 - categorical_accuracy: 0.8346 - val_loss: 0.3447 - val_categorical_accuracy: 0.8709\n",
            "Epoch 24/1000\n",
            "418/418 [==============================] - 3s 8ms/step - loss: 0.4329 - categorical_accuracy: 0.8390 - val_loss: 0.3500 - val_categorical_accuracy: 0.8655\n",
            "Epoch 25/1000\n",
            "418/418 [==============================] - 3s 7ms/step - loss: 0.4294 - categorical_accuracy: 0.8388 - val_loss: 0.3469 - val_categorical_accuracy: 0.8689\n",
            "Epoch 26/1000\n",
            "418/418 [==============================] - 3s 7ms/step - loss: 0.4270 - categorical_accuracy: 0.8410 - val_loss: 0.3443 - val_categorical_accuracy: 0.8718\n",
            "Epoch 27/1000\n",
            "418/418 [==============================] - 3s 8ms/step - loss: 0.4242 - categorical_accuracy: 0.8406 - val_loss: 0.3383 - val_categorical_accuracy: 0.8747\n",
            "Epoch 28/1000\n",
            "418/418 [==============================] - 3s 8ms/step - loss: 0.4260 - categorical_accuracy: 0.8414 - val_loss: 0.3321 - val_categorical_accuracy: 0.8747\n",
            "Epoch 29/1000\n",
            "418/418 [==============================] - 3s 7ms/step - loss: 0.4196 - categorical_accuracy: 0.8444 - val_loss: 0.3386 - val_categorical_accuracy: 0.8711\n",
            "Epoch 30/1000\n",
            "418/418 [==============================] - 3s 7ms/step - loss: 0.4159 - categorical_accuracy: 0.8431 - val_loss: 0.3270 - val_categorical_accuracy: 0.8789\n",
            "Epoch 31/1000\n",
            "418/418 [==============================] - 3s 8ms/step - loss: 0.4154 - categorical_accuracy: 0.8434 - val_loss: 0.3301 - val_categorical_accuracy: 0.8788\n",
            "Epoch 32/1000\n",
            "418/418 [==============================] - 3s 7ms/step - loss: 0.4112 - categorical_accuracy: 0.8456 - val_loss: 0.3283 - val_categorical_accuracy: 0.8758\n",
            "Epoch 33/1000\n",
            "418/418 [==============================] - 3s 7ms/step - loss: 0.4080 - categorical_accuracy: 0.8454 - val_loss: 0.3249 - val_categorical_accuracy: 0.8780\n",
            "Epoch 34/1000\n",
            "418/418 [==============================] - 3s 7ms/step - loss: 0.4099 - categorical_accuracy: 0.8464 - val_loss: 0.3321 - val_categorical_accuracy: 0.8758\n",
            "Epoch 35/1000\n",
            "418/418 [==============================] - 3s 8ms/step - loss: 0.4060 - categorical_accuracy: 0.8478 - val_loss: 0.3317 - val_categorical_accuracy: 0.8791\n",
            "Epoch 36/1000\n",
            "418/418 [==============================] - 3s 7ms/step - loss: 0.4061 - categorical_accuracy: 0.8463 - val_loss: 0.3288 - val_categorical_accuracy: 0.8756\n",
            "Epoch 37/1000\n",
            "418/418 [==============================] - 3s 7ms/step - loss: 0.4022 - categorical_accuracy: 0.8492 - val_loss: 0.3256 - val_categorical_accuracy: 0.8768\n",
            "Epoch 38/1000\n",
            "418/418 [==============================] - 3s 7ms/step - loss: 0.4002 - categorical_accuracy: 0.8478 - val_loss: 0.3256 - val_categorical_accuracy: 0.8785\n",
            "Epoch 39/1000\n",
            "418/418 [==============================] - 4s 9ms/step - loss: 0.4025 - categorical_accuracy: 0.8480 - val_loss: 0.3204 - val_categorical_accuracy: 0.8803\n",
            "Epoch 40/1000\n",
            "418/418 [==============================] - 3s 8ms/step - loss: 0.3972 - categorical_accuracy: 0.8503 - val_loss: 0.3204 - val_categorical_accuracy: 0.8811\n",
            "Epoch 41/1000\n",
            "418/418 [==============================] - 3s 7ms/step - loss: 0.3971 - categorical_accuracy: 0.8520 - val_loss: 0.3171 - val_categorical_accuracy: 0.8821\n",
            "Epoch 42/1000\n",
            "418/418 [==============================] - 3s 7ms/step - loss: 0.3950 - categorical_accuracy: 0.8504 - val_loss: 0.3173 - val_categorical_accuracy: 0.8835\n",
            "Epoch 43/1000\n",
            "418/418 [==============================] - 4s 9ms/step - loss: 0.3995 - categorical_accuracy: 0.8512 - val_loss: 0.3194 - val_categorical_accuracy: 0.8821\n",
            "Epoch 44/1000\n",
            "418/418 [==============================] - 3s 7ms/step - loss: 0.3922 - categorical_accuracy: 0.8526 - val_loss: 0.3160 - val_categorical_accuracy: 0.8842\n",
            "Epoch 45/1000\n",
            "418/418 [==============================] - 3s 8ms/step - loss: 0.3934 - categorical_accuracy: 0.8535 - val_loss: 0.3121 - val_categorical_accuracy: 0.8823\n",
            "Epoch 46/1000\n",
            "418/418 [==============================] - 3s 8ms/step - loss: 0.3925 - categorical_accuracy: 0.8538 - val_loss: 0.3095 - val_categorical_accuracy: 0.8850\n",
            "Epoch 47/1000\n",
            "418/418 [==============================] - 3s 8ms/step - loss: 0.3897 - categorical_accuracy: 0.8534 - val_loss: 0.3176 - val_categorical_accuracy: 0.8812\n",
            "Epoch 48/1000\n",
            "418/418 [==============================] - 3s 7ms/step - loss: 0.3888 - categorical_accuracy: 0.8524 - val_loss: 0.3157 - val_categorical_accuracy: 0.8842\n",
            "Epoch 49/1000\n",
            "418/418 [==============================] - 3s 7ms/step - loss: 0.3890 - categorical_accuracy: 0.8529 - val_loss: 0.3156 - val_categorical_accuracy: 0.8862\n",
            "Epoch 50/1000\n",
            "418/418 [==============================] - 3s 8ms/step - loss: 0.3858 - categorical_accuracy: 0.8554 - val_loss: 0.3128 - val_categorical_accuracy: 0.8839\n",
            "Epoch 51/1000\n",
            "418/418 [==============================] - 3s 8ms/step - loss: 0.3823 - categorical_accuracy: 0.8561 - val_loss: 0.3127 - val_categorical_accuracy: 0.8842\n",
            "Epoch 52/1000\n",
            "418/418 [==============================] - 3s 7ms/step - loss: 0.3830 - categorical_accuracy: 0.8555 - val_loss: 0.3162 - val_categorical_accuracy: 0.8808\n",
            "Epoch 53/1000\n",
            "418/418 [==============================] - 3s 7ms/step - loss: 0.3830 - categorical_accuracy: 0.8557 - val_loss: 0.3127 - val_categorical_accuracy: 0.8833\n",
            "Epoch 54/1000\n",
            "418/418 [==============================] - 3s 8ms/step - loss: 0.3859 - categorical_accuracy: 0.8549 - val_loss: 0.3077 - val_categorical_accuracy: 0.8856\n",
            "Epoch 55/1000\n",
            "418/418 [==============================] - 3s 8ms/step - loss: 0.3820 - categorical_accuracy: 0.8568 - val_loss: 0.3060 - val_categorical_accuracy: 0.8874\n",
            "Epoch 56/1000\n",
            "418/418 [==============================] - 3s 7ms/step - loss: 0.3833 - categorical_accuracy: 0.8558 - val_loss: 0.3062 - val_categorical_accuracy: 0.8862\n",
            "Epoch 57/1000\n",
            "418/418 [==============================] - 3s 7ms/step - loss: 0.3749 - categorical_accuracy: 0.8575 - val_loss: 0.3043 - val_categorical_accuracy: 0.8883\n",
            "Epoch 58/1000\n",
            "418/418 [==============================] - 4s 8ms/step - loss: 0.3806 - categorical_accuracy: 0.8565 - val_loss: 0.3109 - val_categorical_accuracy: 0.8868\n",
            "Epoch 59/1000\n",
            "418/418 [==============================] - 3s 7ms/step - loss: 0.3757 - categorical_accuracy: 0.8574 - val_loss: 0.3076 - val_categorical_accuracy: 0.8862\n",
            "Epoch 60/1000\n",
            "418/418 [==============================] - 3s 7ms/step - loss: 0.3767 - categorical_accuracy: 0.8593 - val_loss: 0.3066 - val_categorical_accuracy: 0.8865\n",
            "Epoch 61/1000\n",
            "418/418 [==============================] - 3s 7ms/step - loss: 0.3772 - categorical_accuracy: 0.8584 - val_loss: 0.3077 - val_categorical_accuracy: 0.8865\n",
            "Epoch 62/1000\n",
            "418/418 [==============================] - 4s 9ms/step - loss: 0.3746 - categorical_accuracy: 0.8600 - val_loss: 0.3080 - val_categorical_accuracy: 0.8874\n",
            "Epoch 63/1000\n",
            "418/418 [==============================] - 3s 7ms/step - loss: 0.3726 - categorical_accuracy: 0.8581 - val_loss: 0.3083 - val_categorical_accuracy: 0.8861\n",
            "Epoch 64/1000\n",
            "418/418 [==============================] - 3s 7ms/step - loss: 0.3741 - categorical_accuracy: 0.8602 - val_loss: 0.3023 - val_categorical_accuracy: 0.8867\n",
            "Epoch 65/1000\n",
            "418/418 [==============================] - 3s 7ms/step - loss: 0.3729 - categorical_accuracy: 0.8597 - val_loss: 0.3054 - val_categorical_accuracy: 0.8885\n",
            "Epoch 66/1000\n",
            "418/418 [==============================] - 3s 8ms/step - loss: 0.3723 - categorical_accuracy: 0.8599 - val_loss: 0.2980 - val_categorical_accuracy: 0.8924\n",
            "Epoch 67/1000\n",
            "418/418 [==============================] - 3s 7ms/step - loss: 0.3731 - categorical_accuracy: 0.8606 - val_loss: 0.3032 - val_categorical_accuracy: 0.8877\n",
            "Epoch 68/1000\n",
            "418/418 [==============================] - 3s 7ms/step - loss: 0.3722 - categorical_accuracy: 0.8599 - val_loss: 0.3040 - val_categorical_accuracy: 0.8871\n",
            "Epoch 69/1000\n",
            "418/418 [==============================] - 3s 7ms/step - loss: 0.3710 - categorical_accuracy: 0.8612 - val_loss: 0.2979 - val_categorical_accuracy: 0.8908\n",
            "Epoch 70/1000\n",
            "418/418 [==============================] - 3s 8ms/step - loss: 0.3687 - categorical_accuracy: 0.8608 - val_loss: 0.3012 - val_categorical_accuracy: 0.8885\n",
            "Epoch 71/1000\n",
            "418/418 [==============================] - 3s 7ms/step - loss: 0.3676 - categorical_accuracy: 0.8618 - val_loss: 0.3065 - val_categorical_accuracy: 0.8867\n",
            "Epoch 72/1000\n",
            "418/418 [==============================] - 3s 8ms/step - loss: 0.3673 - categorical_accuracy: 0.8634 - val_loss: 0.3053 - val_categorical_accuracy: 0.8879\n",
            "Epoch 73/1000\n",
            "418/418 [==============================] - 3s 8ms/step - loss: 0.3669 - categorical_accuracy: 0.8622 - val_loss: 0.3051 - val_categorical_accuracy: 0.8877\n",
            "Epoch 74/1000\n",
            "418/418 [==============================] - 3s 8ms/step - loss: 0.3674 - categorical_accuracy: 0.8607 - val_loss: 0.3033 - val_categorical_accuracy: 0.8862\n",
            "Epoch 75/1000\n",
            "418/418 [==============================] - 3s 7ms/step - loss: 0.3639 - categorical_accuracy: 0.8628 - val_loss: 0.3036 - val_categorical_accuracy: 0.8873\n",
            "Epoch 76/1000\n",
            "418/418 [==============================] - 3s 7ms/step - loss: 0.3666 - categorical_accuracy: 0.8615 - val_loss: 0.2979 - val_categorical_accuracy: 0.8906\n",
            "Epoch 77/1000\n",
            "418/418 [==============================] - 3s 8ms/step - loss: 0.3687 - categorical_accuracy: 0.8616 - val_loss: 0.3008 - val_categorical_accuracy: 0.8888\n",
            "Epoch 78/1000\n",
            "418/418 [==============================] - 3s 8ms/step - loss: 0.3662 - categorical_accuracy: 0.8631 - val_loss: 0.2996 - val_categorical_accuracy: 0.8897\n",
            "Epoch 79/1000\n",
            "418/418 [==============================] - 3s 7ms/step - loss: 0.3642 - categorical_accuracy: 0.8627 - val_loss: 0.3046 - val_categorical_accuracy: 0.8871\n",
            "Epoch 80/1000\n",
            "418/418 [==============================] - 3s 7ms/step - loss: 0.3645 - categorical_accuracy: 0.8626 - val_loss: 0.3021 - val_categorical_accuracy: 0.8877\n",
            "Epoch 81/1000\n",
            "418/418 [==============================] - 4s 8ms/step - loss: 0.3605 - categorical_accuracy: 0.8637 - val_loss: 0.2915 - val_categorical_accuracy: 0.8912\n",
            "Epoch 82/1000\n",
            "418/418 [==============================] - 3s 8ms/step - loss: 0.3594 - categorical_accuracy: 0.8635 - val_loss: 0.2979 - val_categorical_accuracy: 0.8908\n",
            "Epoch 83/1000\n",
            "418/418 [==============================] - 3s 8ms/step - loss: 0.3602 - categorical_accuracy: 0.8636 - val_loss: 0.3063 - val_categorical_accuracy: 0.8882\n",
            "Epoch 84/1000\n",
            "418/418 [==============================] - 3s 8ms/step - loss: 0.3644 - categorical_accuracy: 0.8612 - val_loss: 0.2969 - val_categorical_accuracy: 0.8917\n",
            "Epoch 85/1000\n",
            "418/418 [==============================] - 4s 9ms/step - loss: 0.3570 - categorical_accuracy: 0.8647 - val_loss: 0.2975 - val_categorical_accuracy: 0.8911\n",
            "Epoch 86/1000\n",
            "418/418 [==============================] - 3s 7ms/step - loss: 0.3615 - categorical_accuracy: 0.8645 - val_loss: 0.2947 - val_categorical_accuracy: 0.8929\n",
            "Epoch 87/1000\n",
            "418/418 [==============================] - 3s 7ms/step - loss: 0.3618 - categorical_accuracy: 0.8640 - val_loss: 0.2926 - val_categorical_accuracy: 0.8912\n",
            "Epoch 88/1000\n",
            "418/418 [==============================] - 3s 7ms/step - loss: 0.3593 - categorical_accuracy: 0.8650 - val_loss: 0.2942 - val_categorical_accuracy: 0.8920\n",
            "Epoch 89/1000\n",
            "418/418 [==============================] - 4s 9ms/step - loss: 0.3596 - categorical_accuracy: 0.8642 - val_loss: 0.2936 - val_categorical_accuracy: 0.8914\n",
            "Epoch 90/1000\n",
            "418/418 [==============================] - 3s 8ms/step - loss: 0.3552 - categorical_accuracy: 0.8678 - val_loss: 0.2965 - val_categorical_accuracy: 0.8911\n",
            "Epoch 91/1000\n",
            "418/418 [==============================] - 3s 7ms/step - loss: 0.3545 - categorical_accuracy: 0.8660 - val_loss: 0.2906 - val_categorical_accuracy: 0.8927\n",
            "Epoch 92/1000\n",
            "418/418 [==============================] - 3s 8ms/step - loss: 0.3566 - categorical_accuracy: 0.8661 - val_loss: 0.2932 - val_categorical_accuracy: 0.8917\n",
            "Epoch 93/1000\n",
            "418/418 [==============================] - 3s 8ms/step - loss: 0.3567 - categorical_accuracy: 0.8657 - val_loss: 0.2904 - val_categorical_accuracy: 0.8930\n",
            "Epoch 94/1000\n",
            "418/418 [==============================] - 3s 7ms/step - loss: 0.3570 - categorical_accuracy: 0.8658 - val_loss: 0.2922 - val_categorical_accuracy: 0.8909\n",
            "Epoch 95/1000\n",
            "418/418 [==============================] - 3s 7ms/step - loss: 0.3554 - categorical_accuracy: 0.8667 - val_loss: 0.2909 - val_categorical_accuracy: 0.8941\n",
            "Epoch 96/1000\n",
            "418/418 [==============================] - 3s 8ms/step - loss: 0.3588 - categorical_accuracy: 0.8643 - val_loss: 0.2953 - val_categorical_accuracy: 0.8885\n",
            "Epoch 97/1000\n",
            "418/418 [==============================] - 3s 8ms/step - loss: 0.3522 - categorical_accuracy: 0.8668 - val_loss: 0.2968 - val_categorical_accuracy: 0.8926\n",
            "Epoch 98/1000\n",
            "418/418 [==============================] - 3s 7ms/step - loss: 0.3544 - categorical_accuracy: 0.8663 - val_loss: 0.2911 - val_categorical_accuracy: 0.8927\n",
            "Epoch 99/1000\n",
            "418/418 [==============================] - 3s 7ms/step - loss: 0.3546 - categorical_accuracy: 0.8654 - val_loss: 0.2891 - val_categorical_accuracy: 0.8923\n",
            "Epoch 100/1000\n",
            "418/418 [==============================] - 3s 8ms/step - loss: 0.3555 - categorical_accuracy: 0.8674 - val_loss: 0.2906 - val_categorical_accuracy: 0.8921\n",
            "Epoch 101/1000\n",
            "418/418 [==============================] - 3s 7ms/step - loss: 0.3541 - categorical_accuracy: 0.8648 - val_loss: 0.2912 - val_categorical_accuracy: 0.8927\n",
            "Epoch 102/1000\n",
            "418/418 [==============================] - 3s 7ms/step - loss: 0.3531 - categorical_accuracy: 0.8664 - val_loss: 0.2868 - val_categorical_accuracy: 0.8933\n",
            "Epoch 103/1000\n",
            "418/418 [==============================] - 3s 7ms/step - loss: 0.3544 - categorical_accuracy: 0.8656 - val_loss: 0.2871 - val_categorical_accuracy: 0.8956\n",
            "Epoch 104/1000\n",
            "418/418 [==============================] - 4s 9ms/step - loss: 0.3550 - categorical_accuracy: 0.8668 - val_loss: 0.2924 - val_categorical_accuracy: 0.8932\n",
            "Epoch 105/1000\n",
            "418/418 [==============================] - 3s 7ms/step - loss: 0.3530 - categorical_accuracy: 0.8666 - val_loss: 0.2892 - val_categorical_accuracy: 0.8952\n",
            "Epoch 106/1000\n",
            "418/418 [==============================] - 3s 7ms/step - loss: 0.3495 - categorical_accuracy: 0.8680 - val_loss: 0.2868 - val_categorical_accuracy: 0.8921\n",
            "Epoch 107/1000\n",
            "418/418 [==============================] - 3s 7ms/step - loss: 0.3527 - categorical_accuracy: 0.8676 - val_loss: 0.2950 - val_categorical_accuracy: 0.8906\n",
            "Epoch 108/1000\n",
            "418/418 [==============================] - 3s 8ms/step - loss: 0.3516 - categorical_accuracy: 0.8682 - val_loss: 0.2903 - val_categorical_accuracy: 0.8921\n",
            "Epoch 109/1000\n",
            "418/418 [==============================] - 3s 7ms/step - loss: 0.3520 - categorical_accuracy: 0.8669 - val_loss: 0.2931 - val_categorical_accuracy: 0.8914\n",
            "Epoch 110/1000\n",
            "418/418 [==============================] - 3s 7ms/step - loss: 0.3518 - categorical_accuracy: 0.8667 - val_loss: 0.2923 - val_categorical_accuracy: 0.8927\n",
            "Epoch 111/1000\n",
            "418/418 [==============================] - 3s 7ms/step - loss: 0.3516 - categorical_accuracy: 0.8671 - val_loss: 0.2908 - val_categorical_accuracy: 0.8930\n",
            "Epoch 112/1000\n",
            "418/418 [==============================] - 3s 8ms/step - loss: 0.3506 - categorical_accuracy: 0.8680 - val_loss: 0.2923 - val_categorical_accuracy: 0.8927\n",
            "Epoch 113/1000\n",
            "418/418 [==============================] - 3s 7ms/step - loss: 0.3497 - categorical_accuracy: 0.8676 - val_loss: 0.2889 - val_categorical_accuracy: 0.8929\n",
            "Epoch 114/1000\n",
            "418/418 [==============================] - 3s 7ms/step - loss: 0.3479 - categorical_accuracy: 0.8691 - val_loss: 0.2942 - val_categorical_accuracy: 0.8927\n",
            "Epoch 115/1000\n",
            "418/418 [==============================] - 3s 8ms/step - loss: 0.3502 - categorical_accuracy: 0.8690 - val_loss: 0.2867 - val_categorical_accuracy: 0.8956\n",
            "Epoch 116/1000\n",
            "418/418 [==============================] - 4s 9ms/step - loss: 0.3489 - categorical_accuracy: 0.8693 - val_loss: 0.2899 - val_categorical_accuracy: 0.8932\n",
            "Epoch 117/1000\n",
            "418/418 [==============================] - 3s 7ms/step - loss: 0.3485 - categorical_accuracy: 0.8674 - val_loss: 0.2903 - val_categorical_accuracy: 0.8945\n",
            "Epoch 118/1000\n",
            "418/418 [==============================] - 3s 7ms/step - loss: 0.3470 - categorical_accuracy: 0.8679 - val_loss: 0.2873 - val_categorical_accuracy: 0.8927\n",
            "Epoch 119/1000\n",
            "418/418 [==============================] - 3s 7ms/step - loss: 0.3484 - categorical_accuracy: 0.8673 - val_loss: 0.2878 - val_categorical_accuracy: 0.8942\n",
            "Epoch 120/1000\n",
            "418/418 [==============================] - 3s 8ms/step - loss: 0.3433 - categorical_accuracy: 0.8707 - val_loss: 0.2883 - val_categorical_accuracy: 0.8947\n",
            "Epoch 121/1000\n",
            "418/418 [==============================] - 3s 7ms/step - loss: 0.3475 - categorical_accuracy: 0.8673 - val_loss: 0.2860 - val_categorical_accuracy: 0.8956\n",
            "Epoch 122/1000\n",
            "418/418 [==============================] - 3s 8ms/step - loss: 0.3458 - categorical_accuracy: 0.8694 - val_loss: 0.2900 - val_categorical_accuracy: 0.8932\n",
            "Epoch 123/1000\n",
            "418/418 [==============================] - 3s 8ms/step - loss: 0.3481 - categorical_accuracy: 0.8687 - val_loss: 0.2862 - val_categorical_accuracy: 0.8927\n",
            "Epoch 124/1000\n",
            "418/418 [==============================] - 3s 8ms/step - loss: 0.3447 - categorical_accuracy: 0.8703 - val_loss: 0.2847 - val_categorical_accuracy: 0.8950\n",
            "Epoch 125/1000\n",
            "418/418 [==============================] - 3s 7ms/step - loss: 0.3475 - categorical_accuracy: 0.8684 - val_loss: 0.2866 - val_categorical_accuracy: 0.8942\n",
            "Epoch 126/1000\n",
            "418/418 [==============================] - 3s 7ms/step - loss: 0.3469 - categorical_accuracy: 0.8697 - val_loss: 0.2918 - val_categorical_accuracy: 0.8944\n",
            "Epoch 127/1000\n",
            "418/418 [==============================] - 4s 9ms/step - loss: 0.3438 - categorical_accuracy: 0.8707 - val_loss: 0.2864 - val_categorical_accuracy: 0.8956\n",
            "Epoch 128/1000\n",
            "418/418 [==============================] - 3s 7ms/step - loss: 0.3454 - categorical_accuracy: 0.8694 - val_loss: 0.2863 - val_categorical_accuracy: 0.8915\n",
            "Epoch 129/1000\n",
            "418/418 [==============================] - 3s 7ms/step - loss: 0.3426 - categorical_accuracy: 0.8719 - val_loss: 0.2838 - val_categorical_accuracy: 0.8935\n",
            "Epoch 130/1000\n",
            "418/418 [==============================] - 3s 7ms/step - loss: 0.3438 - categorical_accuracy: 0.8701 - val_loss: 0.2881 - val_categorical_accuracy: 0.8924\n",
            "Epoch 131/1000\n",
            "418/418 [==============================] - 4s 8ms/step - loss: 0.3462 - categorical_accuracy: 0.8694 - val_loss: 0.2823 - val_categorical_accuracy: 0.8933\n",
            "Epoch 132/1000\n",
            "418/418 [==============================] - 3s 7ms/step - loss: 0.3436 - categorical_accuracy: 0.8709 - val_loss: 0.2889 - val_categorical_accuracy: 0.8894\n",
            "Epoch 133/1000\n",
            "418/418 [==============================] - 3s 7ms/step - loss: 0.3443 - categorical_accuracy: 0.8704 - val_loss: 0.2860 - val_categorical_accuracy: 0.8947\n",
            "Epoch 134/1000\n",
            "418/418 [==============================] - 3s 7ms/step - loss: 0.3397 - categorical_accuracy: 0.8708 - val_loss: 0.2850 - val_categorical_accuracy: 0.8932\n",
            "Epoch 135/1000\n",
            "418/418 [==============================] - 4s 9ms/step - loss: 0.3424 - categorical_accuracy: 0.8700 - val_loss: 0.2851 - val_categorical_accuracy: 0.8947\n",
            "Epoch 136/1000\n",
            "418/418 [==============================] - 3s 7ms/step - loss: 0.3431 - categorical_accuracy: 0.8710 - val_loss: 0.2835 - val_categorical_accuracy: 0.8958\n",
            "Epoch 137/1000\n",
            "418/418 [==============================] - 3s 7ms/step - loss: 0.3445 - categorical_accuracy: 0.8694 - val_loss: 0.2847 - val_categorical_accuracy: 0.8958\n",
            "Epoch 138/1000\n",
            "418/418 [==============================] - 3s 7ms/step - loss: 0.3432 - categorical_accuracy: 0.8710 - val_loss: 0.2863 - val_categorical_accuracy: 0.8933\n",
            "Epoch 139/1000\n",
            "418/418 [==============================] - 4s 9ms/step - loss: 0.3406 - categorical_accuracy: 0.8712 - val_loss: 0.2856 - val_categorical_accuracy: 0.8938\n",
            "Epoch 140/1000\n",
            "418/418 [==============================] - 3s 7ms/step - loss: 0.3414 - categorical_accuracy: 0.8704 - val_loss: 0.2833 - val_categorical_accuracy: 0.8942\n",
            "Epoch 141/1000\n",
            "418/418 [==============================] - 3s 7ms/step - loss: 0.3427 - categorical_accuracy: 0.8714 - val_loss: 0.2834 - val_categorical_accuracy: 0.8950\n",
            "Epoch 142/1000\n",
            "418/418 [==============================] - 3s 8ms/step - loss: 0.3423 - categorical_accuracy: 0.8712 - val_loss: 0.2827 - val_categorical_accuracy: 0.8955\n",
            "Epoch 143/1000\n",
            "418/418 [==============================] - 3s 8ms/step - loss: 0.3420 - categorical_accuracy: 0.8710 - val_loss: 0.2839 - val_categorical_accuracy: 0.8947\n",
            "Epoch 144/1000\n",
            "418/418 [==============================] - 3s 7ms/step - loss: 0.3420 - categorical_accuracy: 0.8703 - val_loss: 0.2875 - val_categorical_accuracy: 0.8955\n",
            "Epoch 145/1000\n",
            "418/418 [==============================] - 3s 7ms/step - loss: 0.3327 - categorical_accuracy: 0.8748 - val_loss: 0.2927 - val_categorical_accuracy: 0.8918\n",
            "Epoch 146/1000\n",
            "418/418 [==============================] - 3s 8ms/step - loss: 0.3385 - categorical_accuracy: 0.8729 - val_loss: 0.2811 - val_categorical_accuracy: 0.8933\n",
            "Epoch 147/1000\n",
            "418/418 [==============================] - 3s 8ms/step - loss: 0.3415 - categorical_accuracy: 0.8729 - val_loss: 0.2837 - val_categorical_accuracy: 0.8958\n",
            "Epoch 148/1000\n",
            "418/418 [==============================] - 3s 8ms/step - loss: 0.3403 - categorical_accuracy: 0.8725 - val_loss: 0.2852 - val_categorical_accuracy: 0.8930\n",
            "Epoch 149/1000\n",
            "418/418 [==============================] - 3s 8ms/step - loss: 0.3354 - categorical_accuracy: 0.8725 - val_loss: 0.2836 - val_categorical_accuracy: 0.8955\n",
            "Epoch 150/1000\n",
            "418/418 [==============================] - 4s 9ms/step - loss: 0.3369 - categorical_accuracy: 0.8721 - val_loss: 0.2830 - val_categorical_accuracy: 0.8977\n",
            "Epoch 151/1000\n",
            "418/418 [==============================] - 3s 7ms/step - loss: 0.3415 - categorical_accuracy: 0.8716 - val_loss: 0.2860 - val_categorical_accuracy: 0.8926\n",
            "Epoch 152/1000\n",
            "418/418 [==============================] - 3s 7ms/step - loss: 0.3392 - categorical_accuracy: 0.8719 - val_loss: 0.2827 - val_categorical_accuracy: 0.8953\n",
            "Epoch 153/1000\n",
            "418/418 [==============================] - 3s 7ms/step - loss: 0.3351 - categorical_accuracy: 0.8742 - val_loss: 0.2783 - val_categorical_accuracy: 0.8979\n",
            "Epoch 154/1000\n",
            "418/418 [==============================] - 4s 9ms/step - loss: 0.3387 - categorical_accuracy: 0.8711 - val_loss: 0.2797 - val_categorical_accuracy: 0.8965\n",
            "Epoch 155/1000\n",
            "418/418 [==============================] - 3s 8ms/step - loss: 0.3372 - categorical_accuracy: 0.8729 - val_loss: 0.2843 - val_categorical_accuracy: 0.8936\n",
            "Epoch 156/1000\n",
            "418/418 [==============================] - 3s 7ms/step - loss: 0.3362 - categorical_accuracy: 0.8735 - val_loss: 0.2824 - val_categorical_accuracy: 0.8938\n",
            "Epoch 157/1000\n",
            "418/418 [==============================] - 3s 7ms/step - loss: 0.3397 - categorical_accuracy: 0.8713 - val_loss: 0.2867 - val_categorical_accuracy: 0.8953\n",
            "Epoch 158/1000\n",
            "418/418 [==============================] - 4s 8ms/step - loss: 0.3356 - categorical_accuracy: 0.8735 - val_loss: 0.2860 - val_categorical_accuracy: 0.8932\n",
            "Epoch 159/1000\n",
            "418/418 [==============================] - 3s 7ms/step - loss: 0.3386 - categorical_accuracy: 0.8726 - val_loss: 0.2878 - val_categorical_accuracy: 0.8926\n",
            "Epoch 160/1000\n",
            "418/418 [==============================] - 3s 7ms/step - loss: 0.3357 - categorical_accuracy: 0.8732 - val_loss: 0.2808 - val_categorical_accuracy: 0.8948\n",
            "Epoch 161/1000\n",
            "418/418 [==============================] - 3s 8ms/step - loss: 0.3329 - categorical_accuracy: 0.8751 - val_loss: 0.2829 - val_categorical_accuracy: 0.8947\n",
            "Epoch 162/1000\n",
            "418/418 [==============================] - 3s 8ms/step - loss: 0.3345 - categorical_accuracy: 0.8738 - val_loss: 0.2847 - val_categorical_accuracy: 0.8944\n",
            "Epoch 163/1000\n",
            "418/418 [==============================] - 3s 7ms/step - loss: 0.3337 - categorical_accuracy: 0.8742 - val_loss: 0.2814 - val_categorical_accuracy: 0.8979\n",
            "Epoch 164/1000\n",
            "418/418 [==============================] - 3s 7ms/step - loss: 0.3386 - categorical_accuracy: 0.8730 - val_loss: 0.2811 - val_categorical_accuracy: 0.8947\n",
            "Epoch 165/1000\n",
            "418/418 [==============================] - 3s 8ms/step - loss: 0.3350 - categorical_accuracy: 0.8732 - val_loss: 0.2845 - val_categorical_accuracy: 0.8941\n",
            "Epoch 166/1000\n",
            "418/418 [==============================] - 3s 8ms/step - loss: 0.3415 - categorical_accuracy: 0.8705 - val_loss: 0.2804 - val_categorical_accuracy: 0.8958\n",
            "Epoch 167/1000\n",
            "418/418 [==============================] - 3s 7ms/step - loss: 0.3350 - categorical_accuracy: 0.8741 - val_loss: 0.2833 - val_categorical_accuracy: 0.8959\n",
            "Epoch 168/1000\n",
            "418/418 [==============================] - 3s 8ms/step - loss: 0.3351 - categorical_accuracy: 0.8737 - val_loss: 0.2784 - val_categorical_accuracy: 0.8958\n",
            "Epoch 169/1000\n",
            "418/418 [==============================] - 3s 8ms/step - loss: 0.3363 - categorical_accuracy: 0.8745 - val_loss: 0.2844 - val_categorical_accuracy: 0.8935\n",
            "Epoch 170/1000\n",
            "418/418 [==============================] - 3s 8ms/step - loss: 0.3354 - categorical_accuracy: 0.8728 - val_loss: 0.2830 - val_categorical_accuracy: 0.8944\n",
            "Epoch 171/1000\n",
            "418/418 [==============================] - 3s 7ms/step - loss: 0.3355 - categorical_accuracy: 0.8747 - val_loss: 0.2810 - val_categorical_accuracy: 0.8967\n",
            "Epoch 172/1000\n",
            "418/418 [==============================] - 3s 8ms/step - loss: 0.3334 - categorical_accuracy: 0.8731 - val_loss: 0.2834 - val_categorical_accuracy: 0.8945\n",
            "Epoch 173/1000\n",
            "418/418 [==============================] - 3s 8ms/step - loss: 0.3316 - categorical_accuracy: 0.8743 - val_loss: 0.2830 - val_categorical_accuracy: 0.8950\n",
            "Epoch 174/1000\n",
            "418/418 [==============================] - 3s 7ms/step - loss: 0.3344 - categorical_accuracy: 0.8739 - val_loss: 0.2852 - val_categorical_accuracy: 0.8941\n",
            "Epoch 175/1000\n",
            "418/418 [==============================] - 3s 7ms/step - loss: 0.3302 - categorical_accuracy: 0.8758 - val_loss: 0.2801 - val_categorical_accuracy: 0.8947\n",
            "Epoch 176/1000\n",
            "418/418 [==============================] - 3s 7ms/step - loss: 0.3318 - categorical_accuracy: 0.8721 - val_loss: 0.2864 - val_categorical_accuracy: 0.8929\n",
            "Epoch 177/1000\n",
            "418/418 [==============================] - 4s 9ms/step - loss: 0.3366 - categorical_accuracy: 0.8727 - val_loss: 0.2814 - val_categorical_accuracy: 0.8961\n",
            "Epoch 178/1000\n",
            "418/418 [==============================] - 3s 7ms/step - loss: 0.3350 - categorical_accuracy: 0.8745 - val_loss: 0.2843 - val_categorical_accuracy: 0.8962\n",
            "Epoch 179/1000\n",
            "418/418 [==============================] - 3s 7ms/step - loss: 0.3337 - categorical_accuracy: 0.8737 - val_loss: 0.2788 - val_categorical_accuracy: 0.8961\n",
            "Epoch 180/1000\n",
            "418/418 [==============================] - 3s 8ms/step - loss: 0.3305 - categorical_accuracy: 0.8755 - val_loss: 0.2864 - val_categorical_accuracy: 0.8944\n",
            "Epoch 181/1000\n",
            "418/418 [==============================] - 3s 8ms/step - loss: 0.3315 - categorical_accuracy: 0.8749 - val_loss: 0.2869 - val_categorical_accuracy: 0.8938\n",
            "Epoch 182/1000\n",
            "418/418 [==============================] - 3s 7ms/step - loss: 0.3370 - categorical_accuracy: 0.8718 - val_loss: 0.2775 - val_categorical_accuracy: 0.8970\n",
            "Epoch 183/1000\n",
            "418/418 [==============================] - 3s 7ms/step - loss: 0.3332 - categorical_accuracy: 0.8742 - val_loss: 0.2789 - val_categorical_accuracy: 0.8974\n",
            "Epoch 184/1000\n",
            "418/418 [==============================] - 3s 8ms/step - loss: 0.3312 - categorical_accuracy: 0.8742 - val_loss: 0.2830 - val_categorical_accuracy: 0.8971\n",
            "Epoch 185/1000\n",
            "418/418 [==============================] - 3s 8ms/step - loss: 0.3291 - categorical_accuracy: 0.8756 - val_loss: 0.2816 - val_categorical_accuracy: 0.8974\n",
            "Epoch 186/1000\n",
            "418/418 [==============================] - 3s 7ms/step - loss: 0.3348 - categorical_accuracy: 0.8734 - val_loss: 0.2811 - val_categorical_accuracy: 0.8941\n",
            "Epoch 187/1000\n",
            "418/418 [==============================] - 3s 7ms/step - loss: 0.3350 - categorical_accuracy: 0.8737 - val_loss: 0.2814 - val_categorical_accuracy: 0.8958\n",
            "Epoch 188/1000\n",
            "418/418 [==============================] - 3s 8ms/step - loss: 0.3325 - categorical_accuracy: 0.8751 - val_loss: 0.2828 - val_categorical_accuracy: 0.8952\n",
            "Epoch 189/1000\n",
            "418/418 [==============================] - 3s 8ms/step - loss: 0.3328 - categorical_accuracy: 0.8758 - val_loss: 0.2831 - val_categorical_accuracy: 0.8944\n",
            "Epoch 190/1000\n",
            "418/418 [==============================] - 3s 7ms/step - loss: 0.3313 - categorical_accuracy: 0.8752 - val_loss: 0.2833 - val_categorical_accuracy: 0.8935\n",
            "Epoch 191/1000\n",
            "418/418 [==============================] - 3s 7ms/step - loss: 0.3338 - categorical_accuracy: 0.8748 - val_loss: 0.2787 - val_categorical_accuracy: 0.8956\n",
            "Epoch 192/1000\n",
            "418/418 [==============================] - 3s 8ms/step - loss: 0.3358 - categorical_accuracy: 0.8746 - val_loss: 0.2800 - val_categorical_accuracy: 0.8952\n",
            "Epoch 193/1000\n",
            "418/418 [==============================] - 3s 8ms/step - loss: 0.3314 - categorical_accuracy: 0.8746 - val_loss: 0.2831 - val_categorical_accuracy: 0.8958\n",
            "Epoch 194/1000\n",
            "418/418 [==============================] - 3s 8ms/step - loss: 0.3309 - categorical_accuracy: 0.8746 - val_loss: 0.2757 - val_categorical_accuracy: 0.8968\n",
            "Epoch 195/1000\n",
            "418/418 [==============================] - 3s 7ms/step - loss: 0.3308 - categorical_accuracy: 0.8738 - val_loss: 0.2817 - val_categorical_accuracy: 0.8939\n",
            "Epoch 196/1000\n",
            "418/418 [==============================] - 4s 9ms/step - loss: 0.3269 - categorical_accuracy: 0.8760 - val_loss: 0.2823 - val_categorical_accuracy: 0.8953\n",
            "Epoch 197/1000\n",
            "418/418 [==============================] - 3s 7ms/step - loss: 0.3330 - categorical_accuracy: 0.8734 - val_loss: 0.2764 - val_categorical_accuracy: 0.8965\n",
            "Epoch 198/1000\n",
            "418/418 [==============================] - 3s 7ms/step - loss: 0.3322 - categorical_accuracy: 0.8734 - val_loss: 0.2792 - val_categorical_accuracy: 0.8953\n",
            "Epoch 199/1000\n",
            "418/418 [==============================] - 3s 8ms/step - loss: 0.3319 - categorical_accuracy: 0.8740 - val_loss: 0.2792 - val_categorical_accuracy: 0.8965\n",
            "Epoch 200/1000\n",
            "418/418 [==============================] - 4s 9ms/step - loss: 0.3301 - categorical_accuracy: 0.8750 - val_loss: 0.2801 - val_categorical_accuracy: 0.8964\n",
            "Epoch 201/1000\n",
            "418/418 [==============================] - 3s 7ms/step - loss: 0.3313 - categorical_accuracy: 0.8749 - val_loss: 0.2842 - val_categorical_accuracy: 0.8936\n",
            "Epoch 202/1000\n",
            "418/418 [==============================] - 3s 8ms/step - loss: 0.3274 - categorical_accuracy: 0.8759 - val_loss: 0.2772 - val_categorical_accuracy: 0.8958\n",
            "Epoch 203/1000\n",
            "418/418 [==============================] - 3s 8ms/step - loss: 0.3301 - categorical_accuracy: 0.8746 - val_loss: 0.2870 - val_categorical_accuracy: 0.8926\n",
            "Epoch 204/1000\n",
            "418/418 [==============================] - 4s 8ms/step - loss: 0.3290 - categorical_accuracy: 0.8763 - val_loss: 0.2789 - val_categorical_accuracy: 0.8958\n",
            "Epoch 205/1000\n",
            "418/418 [==============================] - 3s 8ms/step - loss: 0.3288 - categorical_accuracy: 0.8744 - val_loss: 0.2827 - val_categorical_accuracy: 0.8968\n",
            "Epoch 206/1000\n",
            "418/418 [==============================] - 3s 7ms/step - loss: 0.3320 - categorical_accuracy: 0.8750 - val_loss: 0.2797 - val_categorical_accuracy: 0.8964\n",
            "Epoch 207/1000\n",
            "418/418 [==============================] - 3s 8ms/step - loss: 0.3273 - categorical_accuracy: 0.8755 - val_loss: 0.2836 - val_categorical_accuracy: 0.8976\n",
            "Epoch 208/1000\n",
            "418/418 [==============================] - 3s 8ms/step - loss: 0.3293 - categorical_accuracy: 0.8781 - val_loss: 0.2758 - val_categorical_accuracy: 0.8982\n",
            "Epoch 209/1000\n",
            "418/418 [==============================] - 3s 7ms/step - loss: 0.3296 - categorical_accuracy: 0.8745 - val_loss: 0.2806 - val_categorical_accuracy: 0.8967\n",
            "Epoch 210/1000\n",
            "418/418 [==============================] - 3s 8ms/step - loss: 0.3262 - categorical_accuracy: 0.8759 - val_loss: 0.2760 - val_categorical_accuracy: 0.8964\n",
            "Epoch 211/1000\n",
            "418/418 [==============================] - 4s 9ms/step - loss: 0.3272 - categorical_accuracy: 0.8765 - val_loss: 0.2773 - val_categorical_accuracy: 0.8952\n",
            "Epoch 212/1000\n",
            "418/418 [==============================] - 3s 7ms/step - loss: 0.3276 - categorical_accuracy: 0.8752 - val_loss: 0.2782 - val_categorical_accuracy: 0.8947\n",
            "Epoch 213/1000\n",
            "418/418 [==============================] - 3s 7ms/step - loss: 0.3290 - categorical_accuracy: 0.8747 - val_loss: 0.2803 - val_categorical_accuracy: 0.8959\n",
            "Epoch 214/1000\n",
            "418/418 [==============================] - 3s 7ms/step - loss: 0.3298 - categorical_accuracy: 0.8761 - val_loss: 0.2786 - val_categorical_accuracy: 0.8967\n",
            "Epoch 215/1000\n",
            "418/418 [==============================] - 4s 9ms/step - loss: 0.3276 - categorical_accuracy: 0.8776 - val_loss: 0.2797 - val_categorical_accuracy: 0.8965\n",
            "Epoch 216/1000\n",
            "418/418 [==============================] - 3s 8ms/step - loss: 0.3265 - categorical_accuracy: 0.8772 - val_loss: 0.2755 - val_categorical_accuracy: 0.8970\n",
            "Epoch 217/1000\n",
            "418/418 [==============================] - 3s 8ms/step - loss: 0.3267 - categorical_accuracy: 0.8780 - val_loss: 0.2769 - val_categorical_accuracy: 0.8962\n",
            "Epoch 218/1000\n",
            "418/418 [==============================] - 3s 7ms/step - loss: 0.3264 - categorical_accuracy: 0.8766 - val_loss: 0.2807 - val_categorical_accuracy: 0.8962\n",
            "Epoch 219/1000\n",
            "418/418 [==============================] - 4s 9ms/step - loss: 0.3270 - categorical_accuracy: 0.8745 - val_loss: 0.2781 - val_categorical_accuracy: 0.8959\n",
            "Epoch 220/1000\n",
            "418/418 [==============================] - 3s 7ms/step - loss: 0.3280 - categorical_accuracy: 0.8764 - val_loss: 0.2796 - val_categorical_accuracy: 0.8982\n",
            "Epoch 221/1000\n",
            "418/418 [==============================] - 3s 7ms/step - loss: 0.3273 - categorical_accuracy: 0.8749 - val_loss: 0.2761 - val_categorical_accuracy: 0.8973\n",
            "Epoch 222/1000\n",
            "418/418 [==============================] - 3s 8ms/step - loss: 0.3259 - categorical_accuracy: 0.8769 - val_loss: 0.2773 - val_categorical_accuracy: 0.8962\n",
            "Epoch 223/1000\n",
            "418/418 [==============================] - 4s 8ms/step - loss: 0.3254 - categorical_accuracy: 0.8760 - val_loss: 0.2806 - val_categorical_accuracy: 0.8964\n",
            "Epoch 224/1000\n",
            "418/418 [==============================] - 3s 7ms/step - loss: 0.3287 - categorical_accuracy: 0.8754 - val_loss: 0.2779 - val_categorical_accuracy: 0.8968\n",
            "Epoch 225/1000\n",
            "418/418 [==============================] - 3s 7ms/step - loss: 0.3260 - categorical_accuracy: 0.8765 - val_loss: 0.2813 - val_categorical_accuracy: 0.8952\n",
            "Epoch 226/1000\n",
            "418/418 [==============================] - 3s 8ms/step - loss: 0.3246 - categorical_accuracy: 0.8778 - val_loss: 0.2797 - val_categorical_accuracy: 0.8964\n",
            "Epoch 227/1000\n",
            "418/418 [==============================] - 3s 8ms/step - loss: 0.3269 - categorical_accuracy: 0.8761 - val_loss: 0.2784 - val_categorical_accuracy: 0.8965\n",
            "Epoch 228/1000\n",
            "418/418 [==============================] - 3s 7ms/step - loss: 0.3275 - categorical_accuracy: 0.8754 - val_loss: 0.2776 - val_categorical_accuracy: 0.8976\n",
            "Epoch 229/1000\n",
            "418/418 [==============================] - 3s 7ms/step - loss: 0.3223 - categorical_accuracy: 0.8779 - val_loss: 0.2780 - val_categorical_accuracy: 0.8967\n",
            "Epoch 230/1000\n",
            "418/418 [==============================] - 3s 8ms/step - loss: 0.3237 - categorical_accuracy: 0.8766 - val_loss: 0.2793 - val_categorical_accuracy: 0.8988\n",
            "Epoch 231/1000\n",
            "418/418 [==============================] - 3s 8ms/step - loss: 0.3226 - categorical_accuracy: 0.8784 - val_loss: 0.2751 - val_categorical_accuracy: 0.8977\n",
            "Epoch 232/1000\n",
            "418/418 [==============================] - 3s 7ms/step - loss: 0.3265 - categorical_accuracy: 0.8747 - val_loss: 0.2760 - val_categorical_accuracy: 0.8962\n",
            "Epoch 233/1000\n",
            "418/418 [==============================] - 3s 8ms/step - loss: 0.3215 - categorical_accuracy: 0.8780 - val_loss: 0.2772 - val_categorical_accuracy: 0.8980\n",
            "Epoch 234/1000\n",
            "418/418 [==============================] - 4s 9ms/step - loss: 0.3257 - categorical_accuracy: 0.8765 - val_loss: 0.2762 - val_categorical_accuracy: 0.8970\n",
            "Epoch 235/1000\n",
            "418/418 [==============================] - 3s 7ms/step - loss: 0.3271 - categorical_accuracy: 0.8758 - val_loss: 0.2751 - val_categorical_accuracy: 0.8988\n",
            "Epoch 236/1000\n",
            "418/418 [==============================] - 3s 7ms/step - loss: 0.3195 - categorical_accuracy: 0.8780 - val_loss: 0.2769 - val_categorical_accuracy: 0.8967\n",
            "Epoch 237/1000\n",
            "418/418 [==============================] - 3s 7ms/step - loss: 0.3218 - categorical_accuracy: 0.8790 - val_loss: 0.2785 - val_categorical_accuracy: 0.8970\n",
            "Epoch 238/1000\n",
            "418/418 [==============================] - 4s 9ms/step - loss: 0.3282 - categorical_accuracy: 0.8753 - val_loss: 0.2778 - val_categorical_accuracy: 0.8953\n",
            "Epoch 239/1000\n",
            "418/418 [==============================] - 3s 7ms/step - loss: 0.3196 - categorical_accuracy: 0.8783 - val_loss: 0.2764 - val_categorical_accuracy: 0.8982\n",
            "Epoch 240/1000\n",
            "418/418 [==============================] - 3s 7ms/step - loss: 0.3253 - categorical_accuracy: 0.8765 - val_loss: 0.2776 - val_categorical_accuracy: 0.8974\n",
            "Epoch 241/1000\n",
            "418/418 [==============================] - 3s 8ms/step - loss: 0.3278 - categorical_accuracy: 0.8754 - val_loss: 0.2779 - val_categorical_accuracy: 0.8980\n",
            "Epoch 242/1000\n",
            "418/418 [==============================] - 4s 9ms/step - loss: 0.3223 - categorical_accuracy: 0.8791 - val_loss: 0.2749 - val_categorical_accuracy: 0.8985\n",
            "Epoch 243/1000\n",
            "418/418 [==============================] - 3s 7ms/step - loss: 0.3288 - categorical_accuracy: 0.8760 - val_loss: 0.2747 - val_categorical_accuracy: 0.8970\n",
            "Epoch 244/1000\n",
            "418/418 [==============================] - 3s 8ms/step - loss: 0.3247 - categorical_accuracy: 0.8778 - val_loss: 0.2762 - val_categorical_accuracy: 0.8986\n",
            "Epoch 245/1000\n",
            "418/418 [==============================] - 4s 9ms/step - loss: 0.3218 - categorical_accuracy: 0.8772 - val_loss: 0.2764 - val_categorical_accuracy: 0.8974\n",
            "Epoch 246/1000\n",
            "418/418 [==============================] - 3s 8ms/step - loss: 0.3251 - categorical_accuracy: 0.8767 - val_loss: 0.2748 - val_categorical_accuracy: 0.8974\n",
            "Epoch 247/1000\n",
            "418/418 [==============================] - 3s 7ms/step - loss: 0.3225 - categorical_accuracy: 0.8762 - val_loss: 0.2766 - val_categorical_accuracy: 0.8982\n",
            "Epoch 248/1000\n",
            "418/418 [==============================] - 3s 7ms/step - loss: 0.3242 - categorical_accuracy: 0.8763 - val_loss: 0.2771 - val_categorical_accuracy: 0.8979\n",
            "Epoch 249/1000\n",
            "418/418 [==============================] - 4s 9ms/step - loss: 0.3234 - categorical_accuracy: 0.8776 - val_loss: 0.2756 - val_categorical_accuracy: 0.8982\n",
            "Epoch 250/1000\n",
            "418/418 [==============================] - 3s 8ms/step - loss: 0.3215 - categorical_accuracy: 0.8787 - val_loss: 0.2726 - val_categorical_accuracy: 0.9005\n",
            "Epoch 251/1000\n",
            "418/418 [==============================] - 3s 8ms/step - loss: 0.3235 - categorical_accuracy: 0.8768 - val_loss: 0.2776 - val_categorical_accuracy: 0.8970\n",
            "Epoch 252/1000\n",
            "418/418 [==============================] - 3s 8ms/step - loss: 0.3241 - categorical_accuracy: 0.8783 - val_loss: 0.2729 - val_categorical_accuracy: 0.8976\n",
            "Epoch 253/1000\n",
            "418/418 [==============================] - 4s 9ms/step - loss: 0.3228 - categorical_accuracy: 0.8780 - val_loss: 0.2722 - val_categorical_accuracy: 0.8976\n",
            "Epoch 254/1000\n",
            "418/418 [==============================] - 3s 8ms/step - loss: 0.3218 - categorical_accuracy: 0.8786 - val_loss: 0.2779 - val_categorical_accuracy: 0.8964\n",
            "Epoch 255/1000\n",
            "418/418 [==============================] - 3s 8ms/step - loss: 0.3207 - categorical_accuracy: 0.8787 - val_loss: 0.2784 - val_categorical_accuracy: 0.8979\n",
            "Epoch 256/1000\n",
            "418/418 [==============================] - 3s 8ms/step - loss: 0.3222 - categorical_accuracy: 0.8779 - val_loss: 0.2738 - val_categorical_accuracy: 0.8965\n",
            "Epoch 257/1000\n",
            "418/418 [==============================] - 4s 8ms/step - loss: 0.3196 - categorical_accuracy: 0.8789 - val_loss: 0.2747 - val_categorical_accuracy: 0.8980\n",
            "Epoch 258/1000\n",
            "418/418 [==============================] - 3s 7ms/step - loss: 0.3228 - categorical_accuracy: 0.8768 - val_loss: 0.2763 - val_categorical_accuracy: 0.8965\n",
            "Epoch 259/1000\n",
            "418/418 [==============================] - 3s 8ms/step - loss: 0.3214 - categorical_accuracy: 0.8784 - val_loss: 0.2768 - val_categorical_accuracy: 0.8973\n",
            "Epoch 260/1000\n",
            "418/418 [==============================] - 4s 9ms/step - loss: 0.3220 - categorical_accuracy: 0.8782 - val_loss: 0.2735 - val_categorical_accuracy: 0.8982\n",
            "Epoch 261/1000\n",
            "418/418 [==============================] - 3s 8ms/step - loss: 0.3190 - categorical_accuracy: 0.8776 - val_loss: 0.2740 - val_categorical_accuracy: 0.8979\n",
            "Epoch 262/1000\n",
            "418/418 [==============================] - 3s 8ms/step - loss: 0.3214 - categorical_accuracy: 0.8791 - val_loss: 0.2745 - val_categorical_accuracy: 0.8970\n",
            "Epoch 263/1000\n",
            "418/418 [==============================] - 3s 7ms/step - loss: 0.3222 - categorical_accuracy: 0.8779 - val_loss: 0.2739 - val_categorical_accuracy: 0.8967\n",
            "Epoch 264/1000\n",
            "418/418 [==============================] - 4s 9ms/step - loss: 0.3229 - categorical_accuracy: 0.8780 - val_loss: 0.2788 - val_categorical_accuracy: 0.8964\n",
            "Epoch 265/1000\n",
            "418/418 [==============================] - 3s 8ms/step - loss: 0.3213 - categorical_accuracy: 0.8780 - val_loss: 0.2766 - val_categorical_accuracy: 0.8955\n",
            "Epoch 266/1000\n",
            "418/418 [==============================] - 3s 7ms/step - loss: 0.3212 - categorical_accuracy: 0.8790 - val_loss: 0.2728 - val_categorical_accuracy: 0.8985\n",
            "Epoch 267/1000\n",
            "418/418 [==============================] - 3s 7ms/step - loss: 0.3216 - categorical_accuracy: 0.8786 - val_loss: 0.2752 - val_categorical_accuracy: 0.8979\n",
            "Epoch 268/1000\n",
            "418/418 [==============================] - 4s 9ms/step - loss: 0.3221 - categorical_accuracy: 0.8777 - val_loss: 0.2760 - val_categorical_accuracy: 0.8997\n",
            "Epoch 269/1000\n",
            "418/418 [==============================] - 3s 7ms/step - loss: 0.3210 - categorical_accuracy: 0.8783 - val_loss: 0.2762 - val_categorical_accuracy: 0.8980\n",
            "Epoch 270/1000\n",
            "418/418 [==============================] - 3s 8ms/step - loss: 0.3210 - categorical_accuracy: 0.8773 - val_loss: 0.2731 - val_categorical_accuracy: 0.8986\n",
            "Epoch 271/1000\n",
            "418/418 [==============================] - 3s 8ms/step - loss: 0.3201 - categorical_accuracy: 0.8791 - val_loss: 0.2781 - val_categorical_accuracy: 0.8964\n",
            "Epoch 272/1000\n",
            "418/418 [==============================] - 4s 9ms/step - loss: 0.3203 - categorical_accuracy: 0.8789 - val_loss: 0.2776 - val_categorical_accuracy: 0.8977\n",
            "Epoch 273/1000\n",
            "418/418 [==============================] - 3s 8ms/step - loss: 0.3194 - categorical_accuracy: 0.8801 - val_loss: 0.2750 - val_categorical_accuracy: 0.8977\n",
            "Epoch 274/1000\n",
            "418/418 [==============================] - 3s 8ms/step - loss: 0.3217 - categorical_accuracy: 0.8781 - val_loss: 0.2768 - val_categorical_accuracy: 0.8988\n",
            "Epoch 275/1000\n",
            "418/418 [==============================] - 4s 9ms/step - loss: 0.3211 - categorical_accuracy: 0.8781 - val_loss: 0.2747 - val_categorical_accuracy: 0.8985\n",
            "Epoch 276/1000\n",
            "418/418 [==============================] - 3s 8ms/step - loss: 0.3202 - categorical_accuracy: 0.8790 - val_loss: 0.2741 - val_categorical_accuracy: 0.8974\n",
            "Epoch 277/1000\n",
            "418/418 [==============================] - 3s 8ms/step - loss: 0.3218 - categorical_accuracy: 0.8779 - val_loss: 0.2756 - val_categorical_accuracy: 0.8968\n",
            "Epoch 278/1000\n",
            "418/418 [==============================] - 3s 8ms/step - loss: 0.3195 - categorical_accuracy: 0.8803 - val_loss: 0.2753 - val_categorical_accuracy: 0.8971\n",
            "Epoch 279/1000\n",
            "418/418 [==============================] - 4s 9ms/step - loss: 0.3178 - categorical_accuracy: 0.8792 - val_loss: 0.2775 - val_categorical_accuracy: 0.8973\n",
            "Epoch 280/1000\n",
            "418/418 [==============================] - 3s 7ms/step - loss: 0.3196 - categorical_accuracy: 0.8781 - val_loss: 0.2752 - val_categorical_accuracy: 0.8997\n",
            "Epoch 281/1000\n",
            "418/418 [==============================] - 3s 8ms/step - loss: 0.3187 - categorical_accuracy: 0.8799 - val_loss: 0.2748 - val_categorical_accuracy: 0.8994\n",
            "Epoch 282/1000\n",
            "418/418 [==============================] - 3s 8ms/step - loss: 0.3216 - categorical_accuracy: 0.8780 - val_loss: 0.2801 - val_categorical_accuracy: 0.8970\n",
            "Epoch 283/1000\n",
            "418/418 [==============================] - 4s 10ms/step - loss: 0.3199 - categorical_accuracy: 0.8792 - val_loss: 0.2775 - val_categorical_accuracy: 0.8971\n",
            "Epoch 284/1000\n",
            "418/418 [==============================] - 3s 8ms/step - loss: 0.3172 - categorical_accuracy: 0.8797 - val_loss: 0.2727 - val_categorical_accuracy: 0.8980\n",
            "Epoch 285/1000\n",
            "418/418 [==============================] - 3s 7ms/step - loss: 0.3189 - categorical_accuracy: 0.8794 - val_loss: 0.2761 - val_categorical_accuracy: 0.8979\n",
            "Epoch 286/1000\n",
            "418/418 [==============================] - 3s 8ms/step - loss: 0.3202 - categorical_accuracy: 0.8783 - val_loss: 0.2754 - val_categorical_accuracy: 0.8994\n",
            "Epoch 287/1000\n",
            "418/418 [==============================] - 4s 9ms/step - loss: 0.3190 - categorical_accuracy: 0.8801 - val_loss: 0.2739 - val_categorical_accuracy: 0.8979\n",
            "Epoch 288/1000\n",
            "418/418 [==============================] - 3s 8ms/step - loss: 0.3186 - categorical_accuracy: 0.8793 - val_loss: 0.2758 - val_categorical_accuracy: 0.8976\n",
            "Epoch 289/1000\n",
            "418/418 [==============================] - 3s 7ms/step - loss: 0.3200 - categorical_accuracy: 0.8785 - val_loss: 0.2744 - val_categorical_accuracy: 0.8989\n",
            "Epoch 290/1000\n",
            "418/418 [==============================] - 4s 8ms/step - loss: 0.3180 - categorical_accuracy: 0.8789 - val_loss: 0.2741 - val_categorical_accuracy: 0.8973\n",
            "Epoch 291/1000\n",
            "418/418 [==============================] - 3s 8ms/step - loss: 0.3181 - categorical_accuracy: 0.8786 - val_loss: 0.2746 - val_categorical_accuracy: 0.8979\n",
            "Epoch 292/1000\n",
            "418/418 [==============================] - 3s 8ms/step - loss: 0.3213 - categorical_accuracy: 0.8791 - val_loss: 0.2731 - val_categorical_accuracy: 0.9000\n",
            "Epoch 293/1000\n",
            "418/418 [==============================] - 3s 8ms/step - loss: 0.3216 - categorical_accuracy: 0.8789 - val_loss: 0.2746 - val_categorical_accuracy: 0.8998\n",
            "Epoch 294/1000\n",
            "418/418 [==============================] - 4s 9ms/step - loss: 0.3222 - categorical_accuracy: 0.8780 - val_loss: 0.2744 - val_categorical_accuracy: 0.8964\n",
            "Epoch 295/1000\n",
            "418/418 [==============================] - 3s 8ms/step - loss: 0.3191 - categorical_accuracy: 0.8771 - val_loss: 0.2793 - val_categorical_accuracy: 0.8953\n",
            "Epoch 296/1000\n",
            "418/418 [==============================] - 3s 8ms/step - loss: 0.3197 - categorical_accuracy: 0.8788 - val_loss: 0.2760 - val_categorical_accuracy: 0.8986\n",
            "Epoch 297/1000\n",
            "418/418 [==============================] - 3s 8ms/step - loss: 0.3181 - categorical_accuracy: 0.8786 - val_loss: 0.2749 - val_categorical_accuracy: 0.8985\n",
            "Epoch 298/1000\n",
            "418/418 [==============================] - 4s 9ms/step - loss: 0.3177 - categorical_accuracy: 0.8802 - val_loss: 0.2741 - val_categorical_accuracy: 0.8992\n",
            "Epoch 299/1000\n",
            "418/418 [==============================] - 3s 8ms/step - loss: 0.3165 - categorical_accuracy: 0.8797 - val_loss: 0.2695 - val_categorical_accuracy: 0.9002\n",
            "Epoch 300/1000\n",
            "418/418 [==============================] - 3s 8ms/step - loss: 0.3184 - categorical_accuracy: 0.8794 - val_loss: 0.2717 - val_categorical_accuracy: 0.9012\n",
            "Epoch 301/1000\n",
            "418/418 [==============================] - 4s 8ms/step - loss: 0.3177 - categorical_accuracy: 0.8796 - val_loss: 0.2776 - val_categorical_accuracy: 0.8961\n",
            "Epoch 302/1000\n",
            "418/418 [==============================] - 4s 9ms/step - loss: 0.3148 - categorical_accuracy: 0.8810 - val_loss: 0.2721 - val_categorical_accuracy: 0.8971\n",
            "Epoch 303/1000\n",
            "418/418 [==============================] - 3s 8ms/step - loss: 0.3187 - categorical_accuracy: 0.8774 - val_loss: 0.2742 - val_categorical_accuracy: 0.8994\n",
            "Epoch 304/1000\n",
            "418/418 [==============================] - 3s 7ms/step - loss: 0.3171 - categorical_accuracy: 0.8804 - val_loss: 0.2726 - val_categorical_accuracy: 0.9000\n",
            "Epoch 305/1000\n",
            "418/418 [==============================] - 4s 9ms/step - loss: 0.3173 - categorical_accuracy: 0.8799 - val_loss: 0.2761 - val_categorical_accuracy: 0.8989\n",
            "Epoch 306/1000\n",
            "418/418 [==============================] - 3s 8ms/step - loss: 0.3188 - categorical_accuracy: 0.8780 - val_loss: 0.2725 - val_categorical_accuracy: 0.8986\n",
            "Epoch 307/1000\n",
            "418/418 [==============================] - 3s 8ms/step - loss: 0.3162 - categorical_accuracy: 0.8806 - val_loss: 0.2751 - val_categorical_accuracy: 0.8962\n",
            "Epoch 308/1000\n",
            "418/418 [==============================] - 3s 7ms/step - loss: 0.3170 - categorical_accuracy: 0.8796 - val_loss: 0.2760 - val_categorical_accuracy: 0.8991\n",
            "Epoch 309/1000\n",
            "418/418 [==============================] - 4s 9ms/step - loss: 0.3150 - categorical_accuracy: 0.8801 - val_loss: 0.2729 - val_categorical_accuracy: 0.8997\n",
            "Epoch 310/1000\n",
            "418/418 [==============================] - 3s 7ms/step - loss: 0.3171 - categorical_accuracy: 0.8789 - val_loss: 0.2746 - val_categorical_accuracy: 0.8994\n",
            "Epoch 311/1000\n",
            "418/418 [==============================] - 3s 8ms/step - loss: 0.3155 - categorical_accuracy: 0.8801 - val_loss: 0.2747 - val_categorical_accuracy: 0.9002\n",
            "Epoch 312/1000\n",
            "418/418 [==============================] - 3s 8ms/step - loss: 0.3188 - categorical_accuracy: 0.8782 - val_loss: 0.2740 - val_categorical_accuracy: 0.8986\n",
            "Epoch 313/1000\n",
            "418/418 [==============================] - 4s 9ms/step - loss: 0.3177 - categorical_accuracy: 0.8799 - val_loss: 0.2774 - val_categorical_accuracy: 0.8964\n",
            "Epoch 314/1000\n",
            "418/418 [==============================] - 3s 8ms/step - loss: 0.3140 - categorical_accuracy: 0.8816 - val_loss: 0.2727 - val_categorical_accuracy: 0.8998\n",
            "Epoch 315/1000\n",
            "418/418 [==============================] - 3s 7ms/step - loss: 0.3177 - categorical_accuracy: 0.8811 - val_loss: 0.2747 - val_categorical_accuracy: 0.8976\n",
            "Epoch 316/1000\n",
            "418/418 [==============================] - 3s 8ms/step - loss: 0.3187 - categorical_accuracy: 0.8797 - val_loss: 0.2784 - val_categorical_accuracy: 0.8965\n",
            "Epoch 317/1000\n",
            "418/418 [==============================] - 4s 9ms/step - loss: 0.3186 - categorical_accuracy: 0.8774 - val_loss: 0.2767 - val_categorical_accuracy: 0.8971\n",
            "Epoch 318/1000\n",
            "418/418 [==============================] - 3s 7ms/step - loss: 0.3161 - categorical_accuracy: 0.8810 - val_loss: 0.2810 - val_categorical_accuracy: 0.8964\n",
            "Epoch 319/1000\n",
            "418/418 [==============================] - 3s 7ms/step - loss: 0.3211 - categorical_accuracy: 0.8786 - val_loss: 0.2709 - val_categorical_accuracy: 0.8992\n",
            "Epoch 320/1000\n",
            "418/418 [==============================] - 4s 8ms/step - loss: 0.3169 - categorical_accuracy: 0.8790 - val_loss: 0.2786 - val_categorical_accuracy: 0.8961\n",
            "Epoch 321/1000\n",
            "418/418 [==============================] - 3s 8ms/step - loss: 0.3197 - categorical_accuracy: 0.8795 - val_loss: 0.2737 - val_categorical_accuracy: 0.8976\n",
            "Epoch 322/1000\n",
            "418/418 [==============================] - 3s 8ms/step - loss: 0.3140 - categorical_accuracy: 0.8811 - val_loss: 0.2721 - val_categorical_accuracy: 0.8985\n",
            "Epoch 323/1000\n",
            "418/418 [==============================] - 3s 7ms/step - loss: 0.3136 - categorical_accuracy: 0.8815 - val_loss: 0.2751 - val_categorical_accuracy: 0.8982\n",
            "Epoch 324/1000\n",
            "418/418 [==============================] - 4s 9ms/step - loss: 0.3151 - categorical_accuracy: 0.8808 - val_loss: 0.2709 - val_categorical_accuracy: 0.8979\n",
            "Epoch 325/1000\n",
            "418/418 [==============================] - 3s 7ms/step - loss: 0.3171 - categorical_accuracy: 0.8802 - val_loss: 0.2740 - val_categorical_accuracy: 0.8992\n",
            "Epoch 326/1000\n",
            "418/418 [==============================] - 3s 8ms/step - loss: 0.3153 - categorical_accuracy: 0.8793 - val_loss: 0.2734 - val_categorical_accuracy: 0.8982\n",
            "Epoch 327/1000\n",
            "418/418 [==============================] - 3s 8ms/step - loss: 0.3125 - categorical_accuracy: 0.8805 - val_loss: 0.2747 - val_categorical_accuracy: 0.8976\n",
            "Epoch 328/1000\n",
            "418/418 [==============================] - 4s 9ms/step - loss: 0.3160 - categorical_accuracy: 0.8798 - val_loss: 0.2678 - val_categorical_accuracy: 0.8985\n",
            "Epoch 329/1000\n",
            "418/418 [==============================] - 3s 7ms/step - loss: 0.3163 - categorical_accuracy: 0.8791 - val_loss: 0.2738 - val_categorical_accuracy: 0.8982\n",
            "Epoch 330/1000\n",
            "418/418 [==============================] - 3s 7ms/step - loss: 0.3139 - categorical_accuracy: 0.8800 - val_loss: 0.2717 - val_categorical_accuracy: 0.8971\n",
            "Epoch 331/1000\n",
            "418/418 [==============================] - 3s 7ms/step - loss: 0.3138 - categorical_accuracy: 0.8814 - val_loss: 0.2766 - val_categorical_accuracy: 0.8973\n",
            "Epoch 332/1000\n",
            "418/418 [==============================] - 4s 9ms/step - loss: 0.3163 - categorical_accuracy: 0.8784 - val_loss: 0.2737 - val_categorical_accuracy: 0.8988\n",
            "Epoch 333/1000\n",
            "418/418 [==============================] - 3s 7ms/step - loss: 0.3143 - categorical_accuracy: 0.8807 - val_loss: 0.2758 - val_categorical_accuracy: 0.8988\n",
            "Epoch 334/1000\n",
            "418/418 [==============================] - 3s 8ms/step - loss: 0.3122 - categorical_accuracy: 0.8826 - val_loss: 0.2739 - val_categorical_accuracy: 0.8980\n",
            "Epoch 335/1000\n",
            "418/418 [==============================] - 3s 8ms/step - loss: 0.3158 - categorical_accuracy: 0.8807 - val_loss: 0.2736 - val_categorical_accuracy: 0.8986\n",
            "Epoch 336/1000\n",
            "418/418 [==============================] - 3s 8ms/step - loss: 0.3162 - categorical_accuracy: 0.8807 - val_loss: 0.2748 - val_categorical_accuracy: 0.8997\n",
            "Epoch 337/1000\n",
            "418/418 [==============================] - 3s 7ms/step - loss: 0.3141 - categorical_accuracy: 0.8805 - val_loss: 0.2743 - val_categorical_accuracy: 0.8983\n",
            "Epoch 338/1000\n",
            "418/418 [==============================] - 3s 7ms/step - loss: 0.3138 - categorical_accuracy: 0.8814 - val_loss: 0.2723 - val_categorical_accuracy: 0.9006\n",
            "Epoch 339/1000\n",
            "418/418 [==============================] - 3s 8ms/step - loss: 0.3155 - categorical_accuracy: 0.8814 - val_loss: 0.2699 - val_categorical_accuracy: 0.8986\n",
            "Epoch 340/1000\n",
            "418/418 [==============================] - 3s 8ms/step - loss: 0.3136 - categorical_accuracy: 0.8811 - val_loss: 0.2714 - val_categorical_accuracy: 0.8994\n",
            "Epoch 341/1000\n",
            "418/418 [==============================] - 3s 7ms/step - loss: 0.3149 - categorical_accuracy: 0.8804 - val_loss: 0.2751 - val_categorical_accuracy: 0.8988\n",
            "Epoch 342/1000\n",
            "418/418 [==============================] - 3s 8ms/step - loss: 0.3134 - categorical_accuracy: 0.8807 - val_loss: 0.2718 - val_categorical_accuracy: 0.8994\n",
            "Epoch 343/1000\n",
            "418/418 [==============================] - 4s 9ms/step - loss: 0.3170 - categorical_accuracy: 0.8791 - val_loss: 0.2749 - val_categorical_accuracy: 0.8995\n",
            "Epoch 344/1000\n",
            "418/418 [==============================] - 3s 8ms/step - loss: 0.3144 - categorical_accuracy: 0.8798 - val_loss: 0.2708 - val_categorical_accuracy: 0.8995\n",
            "Epoch 345/1000\n",
            "418/418 [==============================] - 3s 8ms/step - loss: 0.3120 - categorical_accuracy: 0.8821 - val_loss: 0.2780 - val_categorical_accuracy: 0.8997\n",
            "Epoch 346/1000\n",
            "418/418 [==============================] - 3s 8ms/step - loss: 0.3171 - categorical_accuracy: 0.8808 - val_loss: 0.2723 - val_categorical_accuracy: 0.9000\n",
            "Epoch 347/1000\n",
            "418/418 [==============================] - 4s 9ms/step - loss: 0.3145 - categorical_accuracy: 0.8819 - val_loss: 0.2740 - val_categorical_accuracy: 0.8985\n",
            "Epoch 348/1000\n",
            "418/418 [==============================] - 3s 7ms/step - loss: 0.3142 - categorical_accuracy: 0.8808 - val_loss: 0.2741 - val_categorical_accuracy: 0.8971\n",
            "Epoch 349/1000\n",
            "418/418 [==============================] - 3s 8ms/step - loss: 0.3116 - categorical_accuracy: 0.8810 - val_loss: 0.2742 - val_categorical_accuracy: 0.8991\n",
            "Epoch 350/1000\n",
            "418/418 [==============================] - 3s 7ms/step - loss: 0.3144 - categorical_accuracy: 0.8817 - val_loss: 0.2765 - val_categorical_accuracy: 0.8977\n",
            "Epoch 351/1000\n",
            "418/418 [==============================] - 4s 9ms/step - loss: 0.3153 - categorical_accuracy: 0.8804 - val_loss: 0.2724 - val_categorical_accuracy: 0.8995\n",
            "Epoch 352/1000\n",
            "418/418 [==============================] - 3s 8ms/step - loss: 0.3157 - categorical_accuracy: 0.8825 - val_loss: 0.2746 - val_categorical_accuracy: 0.8982\n",
            "Epoch 353/1000\n",
            "418/418 [==============================] - 3s 8ms/step - loss: 0.3164 - categorical_accuracy: 0.8811 - val_loss: 0.2734 - val_categorical_accuracy: 0.8997\n",
            "Epoch 354/1000\n",
            "418/418 [==============================] - 3s 8ms/step - loss: 0.3148 - categorical_accuracy: 0.8808 - val_loss: 0.2739 - val_categorical_accuracy: 0.8985\n",
            "Epoch 355/1000\n",
            "418/418 [==============================] - 4s 9ms/step - loss: 0.3131 - categorical_accuracy: 0.8815 - val_loss: 0.2755 - val_categorical_accuracy: 0.9003\n",
            "Epoch 356/1000\n",
            "418/418 [==============================] - 3s 8ms/step - loss: 0.3162 - categorical_accuracy: 0.8808 - val_loss: 0.2728 - val_categorical_accuracy: 0.8971\n",
            "Epoch 357/1000\n",
            "418/418 [==============================] - 3s 8ms/step - loss: 0.3139 - categorical_accuracy: 0.8808 - val_loss: 0.2738 - val_categorical_accuracy: 0.9005\n",
            "Epoch 358/1000\n",
            "418/418 [==============================] - 3s 8ms/step - loss: 0.3169 - categorical_accuracy: 0.8791 - val_loss: 0.2717 - val_categorical_accuracy: 0.8986\n",
            "Epoch 359/1000\n",
            "418/418 [==============================] - 3s 8ms/step - loss: 0.3164 - categorical_accuracy: 0.8800 - val_loss: 0.2720 - val_categorical_accuracy: 0.8982\n",
            "Epoch 360/1000\n",
            "418/418 [==============================] - 3s 8ms/step - loss: 0.3136 - categorical_accuracy: 0.8803 - val_loss: 0.2725 - val_categorical_accuracy: 0.8989\n",
            "Epoch 361/1000\n",
            "418/418 [==============================] - 3s 8ms/step - loss: 0.3098 - categorical_accuracy: 0.8830 - val_loss: 0.2738 - val_categorical_accuracy: 0.9005\n",
            "Epoch 362/1000\n",
            "418/418 [==============================] - 4s 9ms/step - loss: 0.3160 - categorical_accuracy: 0.8808 - val_loss: 0.2761 - val_categorical_accuracy: 0.8985\n",
            "Epoch 363/1000\n",
            "418/418 [==============================] - 3s 8ms/step - loss: 0.3158 - categorical_accuracy: 0.8808 - val_loss: 0.2709 - val_categorical_accuracy: 0.9012\n",
            "Epoch 364/1000\n",
            "418/418 [==============================] - 3s 8ms/step - loss: 0.3140 - categorical_accuracy: 0.8803 - val_loss: 0.2726 - val_categorical_accuracy: 0.8974\n",
            "Epoch 365/1000\n",
            "418/418 [==============================] - 3s 8ms/step - loss: 0.3161 - categorical_accuracy: 0.8798 - val_loss: 0.2725 - val_categorical_accuracy: 0.8991\n",
            "Epoch 366/1000\n",
            "418/418 [==============================] - 4s 9ms/step - loss: 0.3131 - categorical_accuracy: 0.8806 - val_loss: 0.2750 - val_categorical_accuracy: 0.8979\n",
            "Epoch 367/1000\n",
            "418/418 [==============================] - 3s 7ms/step - loss: 0.3124 - categorical_accuracy: 0.8804 - val_loss: 0.2744 - val_categorical_accuracy: 0.8970\n",
            "Epoch 368/1000\n",
            "418/418 [==============================] - 3s 8ms/step - loss: 0.3132 - categorical_accuracy: 0.8812 - val_loss: 0.2725 - val_categorical_accuracy: 0.8991\n",
            "Epoch 369/1000\n",
            "418/418 [==============================] - 3s 8ms/step - loss: 0.3123 - categorical_accuracy: 0.8815 - val_loss: 0.2698 - val_categorical_accuracy: 0.8991\n",
            "Epoch 370/1000\n",
            "418/418 [==============================] - 4s 9ms/step - loss: 0.3120 - categorical_accuracy: 0.8828 - val_loss: 0.2699 - val_categorical_accuracy: 0.8989\n",
            "Epoch 371/1000\n",
            "418/418 [==============================] - 3s 7ms/step - loss: 0.3140 - categorical_accuracy: 0.8814 - val_loss: 0.2694 - val_categorical_accuracy: 0.8989\n",
            "Epoch 372/1000\n",
            "418/418 [==============================] - 3s 7ms/step - loss: 0.3105 - categorical_accuracy: 0.8828 - val_loss: 0.2724 - val_categorical_accuracy: 0.8976\n",
            "Epoch 373/1000\n",
            "418/418 [==============================] - 3s 8ms/step - loss: 0.3129 - categorical_accuracy: 0.8822 - val_loss: 0.2735 - val_categorical_accuracy: 0.9000\n",
            "Epoch 374/1000\n",
            "418/418 [==============================] - 3s 8ms/step - loss: 0.3148 - categorical_accuracy: 0.8802 - val_loss: 0.2739 - val_categorical_accuracy: 0.8998\n",
            "Epoch 375/1000\n",
            "418/418 [==============================] - 3s 8ms/step - loss: 0.3087 - categorical_accuracy: 0.8810 - val_loss: 0.2714 - val_categorical_accuracy: 0.8994\n",
            "Epoch 376/1000\n",
            "418/418 [==============================] - 3s 7ms/step - loss: 0.3104 - categorical_accuracy: 0.8817 - val_loss: 0.2736 - val_categorical_accuracy: 0.9012\n",
            "Epoch 377/1000\n",
            "418/418 [==============================] - 4s 8ms/step - loss: 0.3148 - categorical_accuracy: 0.8819 - val_loss: 0.2722 - val_categorical_accuracy: 0.8976\n",
            "Epoch 378/1000\n",
            "418/418 [==============================] - 3s 8ms/step - loss: 0.3121 - categorical_accuracy: 0.8806 - val_loss: 0.2713 - val_categorical_accuracy: 0.8986\n",
            "Epoch 379/1000\n",
            "418/418 [==============================] - 3s 7ms/step - loss: 0.3113 - categorical_accuracy: 0.8815 - val_loss: 0.2725 - val_categorical_accuracy: 0.8991\n",
            "Epoch 380/1000\n",
            "418/418 [==============================] - 3s 8ms/step - loss: 0.3138 - categorical_accuracy: 0.8798 - val_loss: 0.2748 - val_categorical_accuracy: 0.9009\n",
            "Epoch 381/1000\n",
            "418/418 [==============================] - 4s 9ms/step - loss: 0.3148 - categorical_accuracy: 0.8810 - val_loss: 0.2699 - val_categorical_accuracy: 0.8995\n",
            "Epoch 382/1000\n",
            "418/418 [==============================] - 3s 8ms/step - loss: 0.3144 - categorical_accuracy: 0.8820 - val_loss: 0.2712 - val_categorical_accuracy: 0.8989\n",
            "Epoch 383/1000\n",
            "418/418 [==============================] - 3s 7ms/step - loss: 0.3143 - categorical_accuracy: 0.8813 - val_loss: 0.2718 - val_categorical_accuracy: 0.8977\n",
            "Epoch 384/1000\n",
            "418/418 [==============================] - 3s 8ms/step - loss: 0.3078 - categorical_accuracy: 0.8830 - val_loss: 0.2706 - val_categorical_accuracy: 0.9000\n",
            "Epoch 385/1000\n",
            "418/418 [==============================] - 4s 9ms/step - loss: 0.3111 - categorical_accuracy: 0.8830 - val_loss: 0.2707 - val_categorical_accuracy: 0.8998\n",
            "Epoch 386/1000\n",
            "418/418 [==============================] - 3s 8ms/step - loss: 0.3078 - categorical_accuracy: 0.8835 - val_loss: 0.2714 - val_categorical_accuracy: 0.8988\n",
            "Epoch 387/1000\n",
            "418/418 [==============================] - 3s 7ms/step - loss: 0.3124 - categorical_accuracy: 0.8814 - val_loss: 0.2726 - val_categorical_accuracy: 0.8967\n",
            "Epoch 388/1000\n",
            "418/418 [==============================] - 3s 8ms/step - loss: 0.3105 - categorical_accuracy: 0.8825 - val_loss: 0.2746 - val_categorical_accuracy: 0.8998\n",
            "313/313 [==============================] - 1s 4ms/step - loss: 0.2951 - categorical_accuracy: 0.8921\n",
            "\n",
            "Test accuracy: 0.8920999765396118\n"
          ]
        }
      ]
    },
    {
      "cell_type": "code",
      "source": [
        "print('\\nhistory dict:', list(history.history.keys()))"
      ],
      "metadata": {
        "id": "CxRE-B_Q6Sii",
        "outputId": "74768ec3-5ed4-498f-a080-fb612cd5c16c",
        "colab": {
          "base_uri": "https://localhost:8080/"
        }
      },
      "execution_count": 261,
      "outputs": [
        {
          "output_type": "stream",
          "name": "stdout",
          "text": [
            "\n",
            "history dict: ['loss', 'categorical_accuracy', 'val_loss', 'val_categorical_accuracy']\n"
          ]
        }
      ]
    },
    {
      "cell_type": "code",
      "source": [
        "result = model.evaluate(x_test, y_test)\n",
        "print(result)"
      ],
      "metadata": {
        "id": "YXpwRRTvTBNg",
        "outputId": "788cbf16-208e-494f-b13c-2c0977d17eab",
        "colab": {
          "base_uri": "https://localhost:8080/"
        }
      },
      "execution_count": 262,
      "outputs": [
        {
          "output_type": "stream",
          "name": "stdout",
          "text": [
            "313/313 [==============================] - 1s 4ms/step - loss: 0.2951 - categorical_accuracy: 0.8921\n",
            "[0.2951306700706482, 0.8920999765396118]\n"
          ]
        }
      ]
    },
    {
      "cell_type": "code",
      "source": [
        "saved_model = load_model('best_model.h5')\n",
        "result = saved_model.evaluate(x_test, y_test)\n",
        "print(result)"
      ],
      "metadata": {
        "id": "dpaZAW0vp1AZ",
        "outputId": "e08b8150-8592-4d98-dc4d-3c9f870788c4",
        "colab": {
          "base_uri": "https://localhost:8080/"
        }
      },
      "execution_count": 263,
      "outputs": [
        {
          "output_type": "stream",
          "name": "stdout",
          "text": [
            "313/313 [==============================] - 1s 3ms/step - loss: 0.2916 - categorical_accuracy: 0.8930\n",
            "[0.2916193902492523, 0.8930000066757202]\n"
          ]
        }
      ]
    },
    {
      "cell_type": "code",
      "source": [
        "# from keras.models import load_model\n",
        "# saved_model = load_model('best_model.h5')\n",
        "# # _, train_acc = saved_model.evaluate(x_train, y_train, verbose=0)\n",
        "# _, test_acc = saved_model.evaluate(x_test, y_test, verbose=0)\n",
        "# print('Test: %.3f' % (test_acc))"
      ],
      "metadata": {
        "id": "DR_MS9DABo_K"
      },
      "execution_count": 264,
      "outputs": []
    },
    {
      "cell_type": "code",
      "source": [
        "history_dict = history.history\n",
        "loss_values = history_dict['loss']\n",
        "val_loss_values = history_dict['val_loss']\n",
        "\n",
        "epochs = range(1, len(history_dict['loss']) + 1)\n",
        "\n",
        "plt.figure(figsize=(10, 5))\n",
        "plt.plot(epochs, loss_values, 'bo', label='Training loss')\n",
        "plt.plot(epochs, val_loss_values, 'r', label='Validation loss')\n",
        "# plt.ylim (0.2, 0.5)\n",
        "plt.title('Training and validation loss')\n",
        "plt.xlabel('Epochs')\n",
        "plt.ylabel('Loss')\n",
        "plt.legend()\n",
        "plt.grid(True)\n",
        "plt.show()\n",
        "1\n",
        "plt.clf()\n",
        "plt.figure(figsize=(10, 5))\n",
        "val_acc_values = history_dict['categorical_accuracy']\n",
        "plt.plot(epochs, history_dict['categorical_accuracy'], 'bo', label='Training acc')\n",
        "plt.plot(epochs, history_dict['val_categorical_accuracy'], 'r', label='Validation acc')\n",
        "plt.ylim (0.86, 0.94)\n",
        "plt.title('Training and validation accuracy')\n",
        "plt.xlabel('Epochs')\n",
        "plt.ylabel('Accuracy')\n",
        "plt.legend()\n",
        "plt.grid(True)"
      ],
      "metadata": {
        "id": "2Ll_5sGlXKMH",
        "outputId": "194d28f4-9c4b-4272-c092-4bd7409702a5",
        "colab": {
          "base_uri": "https://localhost:8080/",
          "height": 975
        }
      },
      "execution_count": 265,
      "outputs": [
        {
          "output_type": "display_data",
          "data": {
            "text/plain": [
              "<Figure size 1000x500 with 1 Axes>"
            ],
            "image/png": "[encoded data removed]"
          },
          "metadata": {}
        },
        {
          "output_type": "display_data",
          "data": {
            "text/plain": [
              "<Figure size 640x480 with 0 Axes>"
            ]
          },
          "metadata": {}
        },
        {
          "output_type": "display_data",
          "data": {
            "text/plain": [
              "<Figure size 1000x500 with 1 Axes>"
            ],
            "image/png": "[encoded data removed]"
          },
          "metadata": {}
        }
      ]
    },
    {
      "cell_type": "code",
      "source": [
        "probability_model = tf.keras.Sequential([model,\n",
        "                                         tf.keras.layers.Softmax()])"
      ],
      "metadata": {
        "id": "VzOdKAT_uV-f"
      },
      "execution_count": 266,
      "outputs": []
    },
    {
      "cell_type": "code",
      "source": [
        "predictions = probability_model.predict(x_test)"
      ],
      "metadata": {
        "id": "f4is3NFruYom",
        "outputId": "8a554bab-0b1d-4285-dd16-2d0c2c83144f",
        "colab": {
          "base_uri": "https://localhost:8080/"
        }
      },
      "execution_count": 267,
      "outputs": [
        {
          "output_type": "stream",
          "name": "stdout",
          "text": [
            "313/313 [==============================] - 1s 2ms/step\n"
          ]
        }
      ]
    },
    {
      "cell_type": "code",
      "source": [
        "predictions[0]"
      ],
      "metadata": {
        "id": "82cigvlZudz_",
        "outputId": "d2af3864-f8ea-4597-da26-1a0e57c3833b",
        "colab": {
          "base_uri": "https://localhost:8080/"
        }
      },
      "execution_count": 268,
      "outputs": [
        {
          "output_type": "execute_result",
          "data": {
            "text/plain": [
              "array([0.08552459, 0.08552459, 0.08552459, 0.08552459, 0.08552459,\n",
              "       0.08563282, 0.08552459, 0.08672633, 0.08552459, 0.22896874],\n",
              "      dtype=float32)"
            ]
          },
          "metadata": {},
          "execution_count": 268
        }
      ]
    },
    {
      "cell_type": "code",
      "source": [
        "model.summary()"
      ],
      "metadata": {
        "id": "6RsQPHyYuNGe",
        "outputId": "02193ae2-c30e-48b2-9b86-378fc1edd429",
        "colab": {
          "base_uri": "https://localhost:8080/"
        }
      },
      "execution_count": 269,
      "outputs": [
        {
          "output_type": "stream",
          "name": "stdout",
          "text": [
            "Model: \"sequential_12\"\n",
            "_________________________________________________________________\n",
            " Layer (type)                Output Shape              Param #   \n",
            "=================================================================\n",
            " flatten_6 (Flatten)         (None, 784)               0         \n",
            "                                                                 \n",
            " dropout_24 (Dropout)        (None, 784)               0         \n",
            "                                                                 \n",
            " batch_normalization_18 (Ba  (None, 784)               3136      \n",
            " tchNormalization)                                               \n",
            "                                                                 \n",
            " dense_24 (Dense)            (None, 256)               200960    \n",
            "                                                                 \n",
            " dropout_25 (Dropout)        (None, 256)               0         \n",
            "                                                                 \n",
            " batch_normalization_19 (Ba  (None, 256)               1024      \n",
            " tchNormalization)                                               \n",
            "                                                                 \n",
            " dense_25 (Dense)            (None, 512)               131584    \n",
            "                                                                 \n",
            " dropout_26 (Dropout)        (None, 512)               0         \n",
            "                                                                 \n",
            " batch_normalization_20 (Ba  (None, 512)               2048      \n",
            " tchNormalization)                                               \n",
            "                                                                 \n",
            " dense_26 (Dense)            (None, 512)               262656    \n",
            "                                                                 \n",
            " dropout_27 (Dropout)        (None, 512)               0         \n",
            "                                                                 \n",
            " dense_27 (Dense)            (None, 10)                5130      \n",
            "                                                                 \n",
            "=================================================================\n",
            "Total params: 606538 (2.31 MB)\n",
            "Trainable params: 603434 (2.30 MB)\n",
            "Non-trainable params: 3104 (12.12 KB)\n",
            "_________________________________________________________________\n"
          ]
        }
      ]
    },
    {
      "cell_type": "code",
      "source": [
        "\n",
        "\n",
        "hnyetjn hrte()"
      ],
      "metadata": {
        "id": "S4hcxZttmp-0",
        "outputId": "1724c8b6-0ce9-4721-f440-afa3000f9ff4",
        "colab": {
          "base_uri": "https://localhost:8080/",
          "height": 108
        }
      },
      "execution_count": 270,
      "outputs": [
        {
          "output_type": "error",
          "ename": "SyntaxError",
          "evalue": "invalid syntax (<ipython-input-270-1a3818e70946>, line 1)",
          "traceback": [
            "\u001b[0;36m  File \u001b[0;32m\"<ipython-input-270-1a3818e70946>\"\u001b[0;36m, line \u001b[0;32m1\u001b[0m\n\u001b[0;31m    hnyetjn hrte()\u001b[0m\n\u001b[0m            ^\u001b[0m\n\u001b[0;31mSyntaxError\u001b[0m\u001b[0;31m:\u001b[0m invalid syntax\n"
          ]
        }
      ]
    }
  ]
}