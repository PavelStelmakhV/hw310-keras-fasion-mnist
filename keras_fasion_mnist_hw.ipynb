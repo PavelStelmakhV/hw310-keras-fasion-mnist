{
  "nbformat": 4,
  "nbformat_minor": 0,
  "metadata": {
    "colab": {
      "provenance": [],
      "gpuType": "T4",
      "authorship_tag": "ABX9TyN9f0KnweDCEHdKxaPdqmWO",
      "include_colab_link": true
    },
    "kernelspec": {
      "name": "python3",
      "display_name": "Python 3"
    },
    "language_info": {
      "name": "python"
    },
    "accelerator": "GPU"
  },
  "cells": [
    {
      "cell_type": "markdown",
      "metadata": {
        "id": "view-in-github",
        "colab_type": "text"
      },
      "source": [
        "<a href=\"https://colab.research.google.com/github/PavelStelmakhV/hw310-keras-fasion-mnist/blob/main/keras_fasion_mnist_hw.ipynb\" target=\"_parent\"><img src=\"https://colab.research.google.com/assets/colab-badge.svg\" alt=\"Open In Colab\"/></a>"
      ]
    },
    {
      "cell_type": "code",
      "source": [
        "import tensorflow as tf\n",
        "from tensorflow.python.client import device_lib\n",
        "print(device_lib.list_local_devices())"
      ],
      "metadata": {
        "colab": {
          "base_uri": "https://localhost:8080/"
        },
        "id": "CQL6wYJUms6Y",
        "outputId": "fa1adcaa-d5de-4ef9-a34a-5408268cf358"
      },
      "execution_count": 541,
      "outputs": [
        {
          "output_type": "stream",
          "name": "stdout",
          "text": [
            "[name: \"/device:CPU:0\"\n",
            "device_type: \"CPU\"\n",
            "memory_limit: 268435456\n",
            "locality {\n",
            "}\n",
            "incarnation: 7617742265848468204\n",
            "xla_global_id: -1\n",
            "]\n"
          ]
        }
      ]
    },
    {
      "cell_type": "code",
      "execution_count": 542,
      "metadata": {
        "id": "vv7w0bgAVQPO"
      },
      "outputs": [],
      "source": [
        "import tensorflow as tf\n",
        "import numpy as np\n",
        "import matplotlib.pyplot as plt\n",
        "import tf_keras\n",
        "\n",
        "from keras import layers\n",
        "from keras import models\n",
        "from keras import regularizers\n",
        "from keras import callbacks\n",
        "from keras import initializers\n",
        "from keras.layers import BatchNormalization\n",
        "from keras.models import load_model\n",
        "from tensorflow.keras.utils import to_categorical"
      ]
    },
    {
      "cell_type": "code",
      "source": [
        "num_classes = 10"
      ],
      "metadata": {
        "id": "RvT1uYJsa5cn"
      },
      "execution_count": 543,
      "outputs": []
    },
    {
      "cell_type": "code",
      "source": [
        "fashion_mnist = tf.keras.datasets.fashion_mnist\n",
        "\n",
        "(x_train, y_train), (x_test, y_test) = fashion_mnist.load_data()"
      ],
      "metadata": {
        "id": "mOpywsNAzfGB"
      },
      "execution_count": 544,
      "outputs": []
    },
    {
      "cell_type": "code",
      "source": [
        "def drow_hist(data):\n",
        "  plt.figure(figsize=(8,6), dpi= 80)\n",
        "  _ = plt.hist(data,\n",
        "              bins=num_classes,\n",
        "              stacked=True,\n",
        "              density=False,\n",
        "              range=(0,10),\n",
        "              rwidth=0.9,\n",
        "              )"
      ],
      "metadata": {
        "id": "NjEvuOvomEoT"
      },
      "execution_count": 545,
      "outputs": []
    },
    {
      "cell_type": "code",
      "source": [
        "# create validation data\n",
        "val_size = 6600\n",
        "\n",
        "x_val = x_train[-val_size:, :, :]\n",
        "x_train = x_train[:-val_size, :, :]\n",
        "\n",
        "y_val = y_train[-val_size:]\n",
        "y_train = y_train[:-val_size]"
      ],
      "metadata": {
        "id": "jAs92sDoVU89"
      },
      "execution_count": 546,
      "outputs": []
    },
    {
      "cell_type": "code",
      "source": [
        "# mirror train image\n",
        "# x_train_add = np.rot90(x_train, k=1, axes=(1,2))\n",
        "# x_train_add = np.transpose(x_train_add, (0, 2, 1))"
      ],
      "metadata": {
        "id": "UHNuw-3D_v7x"
      },
      "execution_count": 547,
      "outputs": []
    },
    {
      "cell_type": "code",
      "source": [
        "# y_train_add = y_train.copy()"
      ],
      "metadata": {
        "id": "TNDXV8RfZbt1"
      },
      "execution_count": 548,
      "outputs": []
    },
    {
      "cell_type": "code",
      "source": [
        "# # remove boots image from addition data [5, 7, 9]\n",
        "# for i in [5, 7, 9]:\n",
        "#     index = np.where(y_train_add == i )\n",
        "#     x_train_add = np.delete(x_train_add, index , axis=0)\n",
        "#     y_train_add = np.delete(y_train_add, index , axis=0)"
      ],
      "metadata": {
        "id": "506yp4e5UqKp"
      },
      "execution_count": 549,
      "outputs": []
    },
    {
      "cell_type": "code",
      "source": [
        "# x_train_add.shape"
      ],
      "metadata": {
        "id": "WB-PVgBb116E"
      },
      "execution_count": 550,
      "outputs": []
    },
    {
      "cell_type": "code",
      "source": [
        "# y_train_add.shape"
      ],
      "metadata": {
        "id": "MjteIWwr2V-N"
      },
      "execution_count": 551,
      "outputs": []
    },
    {
      "cell_type": "code",
      "source": [
        "# x_train = np.concatenate([\n",
        "#     x_train,\n",
        "#     x_train_add[:10000:, :, :]\n",
        "# ])"
      ],
      "metadata": {
        "id": "C25g0-L5PuhV"
      },
      "execution_count": 552,
      "outputs": []
    },
    {
      "cell_type": "code",
      "source": [
        "# y_train = np.concatenate([\n",
        "#     y_train,\n",
        "#     y_train_add[:10000]\n",
        "# ])"
      ],
      "metadata": {
        "id": "JiyI9CE-RWnR"
      },
      "execution_count": 553,
      "outputs": []
    },
    {
      "cell_type": "code",
      "source": [
        "# drow_hist(y_train)"
      ],
      "metadata": {
        "id": "j0FZ4_7DpRVw"
      },
      "execution_count": 554,
      "outputs": []
    },
    {
      "cell_type": "code",
      "source": [
        "# plt.figure()\n",
        "# plt.imshow(x_train[7])\n",
        "# plt.colorbar()\n",
        "# plt.grid(False)\n",
        "# plt.show()"
      ],
      "metadata": {
        "id": "mq_QalIABCeU"
      },
      "execution_count": 555,
      "outputs": []
    },
    {
      "cell_type": "code",
      "source": [
        "# plt.figure()\n",
        "# plt.imshow(x_train_add[0])\n",
        "# plt.colorbar()\n",
        "# plt.grid(False)\n",
        "# plt.show()"
      ],
      "metadata": {
        "id": "CDLNL7Zw3HEc"
      },
      "execution_count": 556,
      "outputs": []
    },
    {
      "cell_type": "code",
      "source": [
        "x_train = x_train.astype('float32') / 255\n",
        "x_test = x_test.astype('float32') / 255\n",
        "x_val = x_val.astype('float32') / 255\n",
        "\n",
        "y_train = to_categorical(y_train)\n",
        "y_test = to_categorical(y_test)\n",
        "y_val = to_categorical(y_val)"
      ],
      "metadata": {
        "id": "t2gucjsJ0KUi"
      },
      "execution_count": 557,
      "outputs": []
    },
    {
      "cell_type": "code",
      "source": [
        "# class_names = ['T-shirt/top', 'Trouser', 'Pullover', 'Dress', 'Coat',\n",
        "#                'Sandal', 'Shirt', 'Sneaker', 'Bag', 'Ankle boot']\n",
        "\n",
        "# plt.figure(figsize=(10,10))\n",
        "# for i in range(25):\n",
        "#     plt.subplot(5,5,i+1)\n",
        "#     plt.xticks([])\n",
        "#     plt.yticks([])\n",
        "#     plt.grid(False)\n",
        "#     plt.imshow(x_train[i+50000], cmap=plt.cm.binary)\n",
        "#     plt.xlabel(class_names[int(y_train[i+50000])])\n",
        "# plt.show()"
      ],
      "metadata": {
        "id": "h4LveKxM4hyC"
      },
      "execution_count": 558,
      "outputs": []
    },
    {
      "cell_type": "code",
      "source": [
        "# plt.figure(figsize=(10,10))\n",
        "# for i in range(25):\n",
        "#     plt.subplot(5,5,i+1)\n",
        "#     plt.xticks([])\n",
        "#     plt.yticks([])\n",
        "#     plt.grid(False)\n",
        "#     plt.imshow(x_train[i], cmap=plt.cm.binary)\n",
        "#     plt.xlabel(class_names[int(y_train[i])])\n",
        "# plt.show()"
      ],
      "metadata": {
        "id": "hljEDYd55d8Q"
      },
      "execution_count": 559,
      "outputs": []
    },
    {
      "cell_type": "code",
      "source": [
        "w_init_tanh = initializers.glorot_normal(seed=111)\n",
        "w_init_relu = initializers.HeNormal(seed=66)\n",
        "# w_init_relu = initializers.HeUniform(seed=24)\n",
        "b_init = initializers.Zeros()"
      ],
      "metadata": {
        "id": "yL9QTEtBGy4N"
      },
      "execution_count": 560,
      "outputs": []
    },
    {
      "cell_type": "code",
      "source": [
        "def layer_relu(model, neurons, drop_out):\n",
        "  model.add(BatchNormalization())\n",
        "  model.add(layers.Dense(neurons,\n",
        "                       activation='relu',\n",
        "                       kernel_initializer=w_init_relu,\n",
        "                       bias_initializer=b_init))\n",
        "  model.add(layers.Dropout(drop_out))\n",
        "  print(drop_out)\n",
        "  return model"
      ],
      "metadata": {
        "id": "ZZgs_25rKBCp"
      },
      "execution_count": 561,
      "outputs": []
    },
    {
      "cell_type": "code",
      "source": [
        "def layer_tanh(model, neurons, drop_out):\n",
        "  model.add(BatchNormalization())\n",
        "  model.add(layers.Dense(neurons,\n",
        "                        activation='tanh',\n",
        "                        kernel_initializer=w_init_tanh,\n",
        "                        bias_initializer=b_init))\n",
        "  model.add(layers.Dropout(drop_out))\n",
        "  return model"
      ],
      "metadata": {
        "id": "90JLLnkBR50t"
      },
      "execution_count": 562,
      "outputs": []
    },
    {
      "cell_type": "code",
      "source": [
        "model = models.Sequential()\n",
        "\n",
        "neurons = 256\n",
        "drop_out = 0.35\n",
        "\n",
        "model.add(layers.Flatten(input_shape=(28, 28)))\n",
        "model.add(layers.Dropout(0.18))\n",
        "\n",
        "model = layer_relu(model, neurons*1, drop_out)\n",
        "model = layer_tanh(model, neurons*2, drop_out)\n",
        "model = layer_relu(model, neurons*2, drop_out)\n",
        "# model = layer_relu(model, neurons*2)\n",
        "\n",
        "\n",
        "model.add(layers.Dense(10, activation='softmax'))"
      ],
      "metadata": {
        "id": "atS39i4d0aqW",
        "colab": {
          "base_uri": "https://localhost:8080/"
        },
        "outputId": "65c5a411-5fcf-412e-b0af-870f9a3c18ba"
      },
      "execution_count": 563,
      "outputs": [
        {
          "output_type": "stream",
          "name": "stdout",
          "text": [
            "0.35\n",
            "0.35\n"
          ]
        }
      ]
    },
    {
      "cell_type": "markdown",
      "source": [
        "++++++++++++++++++++++++++++++++++++++++++++++++++++++++++++++++++++++++++++++++"
      ],
      "metadata": {
        "id": "tZO7hl7pM63y"
      }
    },
    {
      "cell_type": "code",
      "source": [
        "optimizer = tf.keras.optimizers.Nadam(learning_rate=0.0004,\n",
        "                                      beta_1=0.9,\n",
        "                                      beta_2=0.999,\n",
        "                                      epsilon=1e-06\n",
        ")\n",
        "# optimizer = tf.keras.optimizers.experimental.RMSprop(learning_rate=0.0005,\n",
        "#                                                     rho=0.5,\n",
        "#                                                     momentum=-16,\n",
        "#                                                     epsilon=1e-07,\n",
        "#                                                     centered=False,\n",
        "#                                                     weight_decay=None,\n",
        "#                                                     clipnorm=None,\n",
        "#                                                     clipvalue=None,\n",
        "#                                                     global_clipnorm=None,\n",
        "#                                                     use_ema=False,\n",
        "#                                                     ema_momentum=0.99,\n",
        "#                                                     ema_overwrite_frequency=100,\n",
        "#                                                     jit_compile=True,\n",
        "#                                                     name='RMSprop',\n",
        "# )"
      ],
      "metadata": {
        "id": "EzfnaqIZlfy8"
      },
      "execution_count": 564,
      "outputs": []
    },
    {
      "cell_type": "markdown",
      "source": [
        "++++++++++++++++++++++++++++++++++++++++++++++++++++++++++++++++++++++++++++++++"
      ],
      "metadata": {
        "id": "KHmBptvOM95Z"
      }
    },
    {
      "cell_type": "code",
      "source": [
        "model.compile(#optimizer='adam',\n",
        "              # optimizer='adamax',\n",
        "              optimizer=optimizer,\n",
        "              # optimizer='rmsprop',\n",
        "              # optimizer='sgd',\n",
        "              # optimizer='adadelta',\n",
        "              # loss='binary_crossentropy',\n",
        "              loss=tf.keras.losses.CategoricalCrossentropy(),\n",
        "              metrics=['categorical_accuracy']) # sparse_categorical_accuracy"
      ],
      "metadata": {
        "id": "hENVaAC7ilNY"
      },
      "execution_count": 565,
      "outputs": []
    },
    {
      "cell_type": "code",
      "source": [
        "# callback = callbacks.EarlyStopping(monitor='val_loss',\n",
        "#                                    patience=15,\n",
        "#                                    restore_best_weights=True,\n",
        "#                                    )\n",
        "es = callbacks.EarlyStopping(monitor='val_loss', mode='min', verbose=0, patience=60)\n",
        "mc = callbacks.ModelCheckpoint('best_model.h5', monitor='categorical_accuracy', mode='max', verbose=0, save_best_only=True)\n"
      ],
      "metadata": {
        "id": "5ihU4exVlsjm"
      },
      "execution_count": 566,
      "outputs": []
    },
    {
      "cell_type": "code",
      "source": [
        "history = model.fit(x_train, y_train,\n",
        "                    epochs=1000,\n",
        "                    batch_size=128,\n",
        "                    # callbacks=[callback],\n",
        "                    callbacks=[mc, es],\n",
        "                    verbose=1, #многословие\n",
        "                    # validation_split=0.2\n",
        "                    validation_data=(x_val, y_val)\n",
        "                    )\n",
        "test_loss, test_acc = model.evaluate(x_test, y_test)\n",
        "print('\\nTest accuracy:', test_acc)"
      ],
      "metadata": {
        "id": "FH8HcMNm233I",
        "outputId": "6b2cbb2c-9d12-4018-f9a0-f1ebf827b8be",
        "colab": {
          "base_uri": "https://localhost:8080/"
        }
      },
      "execution_count": null,
      "outputs": [
        {
          "output_type": "stream",
          "name": "stdout",
          "text": [
            "Epoch 1/1000\n",
            "418/418 [==============================] - 21s 34ms/step - loss: 0.8508 - categorical_accuracy: 0.7063 - val_loss: 0.4638 - val_categorical_accuracy: 0.8268\n",
            "Epoch 2/1000\n",
            "418/418 [==============================] - 14s 33ms/step - loss: 0.5720 - categorical_accuracy: 0.7933 - val_loss: 0.4162 - val_categorical_accuracy: 0.8462\n",
            "Epoch 3/1000\n",
            "418/418 [==============================] - 14s 33ms/step - loss: 0.5077 - categorical_accuracy: 0.8145 - val_loss: 0.3841 - val_categorical_accuracy: 0.8564\n",
            "Epoch 4/1000\n",
            "418/418 [==============================] - 14s 33ms/step - loss: 0.4671 - categorical_accuracy: 0.8291 - val_loss: 0.3689 - val_categorical_accuracy: 0.8642\n",
            "Epoch 5/1000\n",
            "418/418 [==============================] - 14s 33ms/step - loss: 0.4441 - categorical_accuracy: 0.8347 - val_loss: 0.3647 - val_categorical_accuracy: 0.8644\n",
            "Epoch 6/1000\n",
            "418/418 [==============================] - 14s 34ms/step - loss: 0.4242 - categorical_accuracy: 0.8428 - val_loss: 0.3617 - val_categorical_accuracy: 0.8665\n",
            "Epoch 7/1000\n",
            "418/418 [==============================] - 15s 36ms/step - loss: 0.4121 - categorical_accuracy: 0.8483 - val_loss: 0.3428 - val_categorical_accuracy: 0.8708\n",
            "Epoch 8/1000\n",
            "418/418 [==============================] - 15s 35ms/step - loss: 0.3971 - categorical_accuracy: 0.8542 - val_loss: 0.3334 - val_categorical_accuracy: 0.8756\n",
            "Epoch 9/1000\n",
            "418/418 [==============================] - 14s 34ms/step - loss: 0.3851 - categorical_accuracy: 0.8570 - val_loss: 0.3260 - val_categorical_accuracy: 0.8785\n",
            "Epoch 10/1000\n",
            "418/418 [==============================] - 14s 33ms/step - loss: 0.3796 - categorical_accuracy: 0.8584 - val_loss: 0.3234 - val_categorical_accuracy: 0.8791\n",
            "Epoch 11/1000\n",
            "418/418 [==============================] - 14s 33ms/step - loss: 0.3705 - categorical_accuracy: 0.8605 - val_loss: 0.3308 - val_categorical_accuracy: 0.8768\n",
            "Epoch 12/1000\n",
            "418/418 [==============================] - 14s 33ms/step - loss: 0.3635 - categorical_accuracy: 0.8648 - val_loss: 0.3107 - val_categorical_accuracy: 0.8868\n",
            "Epoch 13/1000\n",
            "418/418 [==============================] - 14s 33ms/step - loss: 0.3582 - categorical_accuracy: 0.8664 - val_loss: 0.3105 - val_categorical_accuracy: 0.8836\n",
            "Epoch 14/1000\n",
            "418/418 [==============================] - 14s 33ms/step - loss: 0.3519 - categorical_accuracy: 0.8675 - val_loss: 0.3053 - val_categorical_accuracy: 0.8855\n",
            "Epoch 15/1000\n",
            "418/418 [==============================] - 14s 34ms/step - loss: 0.3452 - categorical_accuracy: 0.8728 - val_loss: 0.3122 - val_categorical_accuracy: 0.8841\n",
            "Epoch 16/1000\n",
            "418/418 [==============================] - 14s 34ms/step - loss: 0.3410 - categorical_accuracy: 0.8716 - val_loss: 0.3006 - val_categorical_accuracy: 0.8888\n",
            "Epoch 17/1000\n",
            "418/418 [==============================] - 14s 33ms/step - loss: 0.3358 - categorical_accuracy: 0.8747 - val_loss: 0.3055 - val_categorical_accuracy: 0.8873\n",
            "Epoch 18/1000\n",
            "418/418 [==============================] - 14s 33ms/step - loss: 0.3321 - categorical_accuracy: 0.8759 - val_loss: 0.3030 - val_categorical_accuracy: 0.8882\n",
            "Epoch 19/1000\n",
            "418/418 [==============================] - 14s 33ms/step - loss: 0.3275 - categorical_accuracy: 0.8768 - val_loss: 0.3004 - val_categorical_accuracy: 0.8906\n",
            "Epoch 20/1000\n",
            "418/418 [==============================] - 14s 33ms/step - loss: 0.3231 - categorical_accuracy: 0.8783 - val_loss: 0.2926 - val_categorical_accuracy: 0.8915\n",
            "Epoch 21/1000\n",
            "418/418 [==============================] - 14s 34ms/step - loss: 0.3194 - categorical_accuracy: 0.8812 - val_loss: 0.2925 - val_categorical_accuracy: 0.8917\n",
            "Epoch 22/1000\n",
            "418/418 [==============================] - 14s 33ms/step - loss: 0.3174 - categorical_accuracy: 0.8812 - val_loss: 0.3007 - val_categorical_accuracy: 0.8885\n",
            "Epoch 23/1000\n",
            "418/418 [==============================] - 14s 33ms/step - loss: 0.3155 - categorical_accuracy: 0.8806 - val_loss: 0.2947 - val_categorical_accuracy: 0.8911\n",
            "Epoch 24/1000\n",
            "418/418 [==============================] - 14s 33ms/step - loss: 0.3117 - categorical_accuracy: 0.8815 - val_loss: 0.2929 - val_categorical_accuracy: 0.8906\n",
            "Epoch 25/1000\n",
            "418/418 [==============================] - 14s 34ms/step - loss: 0.3088 - categorical_accuracy: 0.8829 - val_loss: 0.2843 - val_categorical_accuracy: 0.8958\n",
            "Epoch 26/1000\n",
            "418/418 [==============================] - 14s 34ms/step - loss: 0.3053 - categorical_accuracy: 0.8853 - val_loss: 0.2959 - val_categorical_accuracy: 0.8888\n",
            "Epoch 27/1000\n",
            "418/418 [==============================] - 15s 35ms/step - loss: 0.3065 - categorical_accuracy: 0.8832 - val_loss: 0.2915 - val_categorical_accuracy: 0.8923\n",
            "Epoch 28/1000\n",
            " 73/418 [====>.........................] - ETA: 10s - loss: 0.2985 - categorical_accuracy: 0.8859"
          ]
        }
      ]
    },
    {
      "cell_type": "code",
      "source": [
        "print('\\nhistory dict:', list(history.history.keys()))"
      ],
      "metadata": {
        "id": "CxRE-B_Q6Sii"
      },
      "execution_count": null,
      "outputs": []
    },
    {
      "cell_type": "code",
      "source": [
        "result = model.evaluate(x_test, y_test)\n",
        "print(result)"
      ],
      "metadata": {
        "id": "YXpwRRTvTBNg"
      },
      "execution_count": null,
      "outputs": []
    },
    {
      "cell_type": "code",
      "source": [
        "saved_model = load_model('best_model.h5')\n",
        "result = saved_model.evaluate(x_test, y_test)\n",
        "print(result)"
      ],
      "metadata": {
        "id": "dpaZAW0vp1AZ"
      },
      "execution_count": null,
      "outputs": []
    },
    {
      "cell_type": "code",
      "source": [
        "# from keras.models import load_model\n",
        "# saved_model = load_model('best_model.h5')\n",
        "# # _, train_acc = saved_model.evaluate(x_train, y_train, verbose=0)\n",
        "# _, test_acc = saved_model.evaluate(x_test, y_test, verbose=0)\n",
        "# print('Test: %.3f' % (test_acc))"
      ],
      "metadata": {
        "id": "DR_MS9DABo_K"
      },
      "execution_count": null,
      "outputs": []
    },
    {
      "cell_type": "code",
      "source": [
        "history_dict = history.history\n",
        "loss_values = history_dict['loss']\n",
        "val_loss_values = history_dict['val_loss']\n",
        "\n",
        "epochs = range(1, len(history_dict['loss']) + 1)\n",
        "\n",
        "plt.figure(figsize=(10, 5))\n",
        "plt.plot(epochs, loss_values, 'bo', label='Training loss')\n",
        "plt.plot(epochs, val_loss_values, 'r', label='Validation loss')\n",
        "# plt.ylim (0.2, 0.5)\n",
        "plt.title('Training and validation loss')\n",
        "plt.xlabel('Epochs')\n",
        "plt.ylabel('Loss')\n",
        "plt.legend()\n",
        "plt.grid(True)\n",
        "plt.show()\n",
        "1\n",
        "plt.clf()\n",
        "plt.figure(figsize=(10, 5))\n",
        "val_acc_values = history_dict['categorical_accuracy']\n",
        "plt.plot(epochs, history_dict['categorical_accuracy'], 'bo', label='Training acc')\n",
        "plt.plot(epochs, history_dict['val_categorical_accuracy'], 'r', label='Validation acc')\n",
        "plt.ylim (0.86, 0.94)\n",
        "plt.title('Training and validation accuracy')\n",
        "plt.xlabel('Epochs')\n",
        "plt.ylabel('Accuracy')\n",
        "plt.legend()\n",
        "plt.grid(True)"
      ],
      "metadata": {
        "id": "2Ll_5sGlXKMH"
      },
      "execution_count": null,
      "outputs": []
    },
    {
      "cell_type": "code",
      "source": [
        "probability_model = tf.keras.Sequential([model,\n",
        "                                         tf.keras.layers.Softmax()])"
      ],
      "metadata": {
        "id": "VzOdKAT_uV-f"
      },
      "execution_count": null,
      "outputs": []
    },
    {
      "cell_type": "code",
      "source": [
        "predictions = probability_model.predict(x_test)"
      ],
      "metadata": {
        "id": "f4is3NFruYom"
      },
      "execution_count": null,
      "outputs": []
    },
    {
      "cell_type": "code",
      "source": [
        "predictions[0]"
      ],
      "metadata": {
        "id": "82cigvlZudz_"
      },
      "execution_count": null,
      "outputs": []
    },
    {
      "cell_type": "code",
      "source": [
        "model.summary()"
      ],
      "metadata": {
        "id": "6RsQPHyYuNGe"
      },
      "execution_count": null,
      "outputs": []
    }
  ]
}