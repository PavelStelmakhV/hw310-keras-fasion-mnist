{
  "nbformat": 4,
  "nbformat_minor": 0,
  "metadata": {
    "colab": {
      "provenance": [],
      "gpuType": "T4",
      "authorship_tag": "ABX9TyMgylEiJWPDyHEWzs/w9Ukh",
      "include_colab_link": true
    },
    "kernelspec": {
      "name": "python3",
      "display_name": "Python 3"
    },
    "language_info": {
      "name": "python"
    },
    "accelerator": "GPU"
  },
  "cells": [
    {
      "cell_type": "markdown",
      "metadata": {
        "id": "view-in-github",
        "colab_type": "text"
      },
      "source": [
        "<a href=\"https://colab.research.google.com/github/PavelStelmakhV/hw310-keras-fasion-mnist/blob/main/keras_fasion_mnist_hw.ipynb\" target=\"_parent\"><img src=\"https://colab.research.google.com/assets/colab-badge.svg\" alt=\"Open In Colab\"/></a>"
      ]
    },
    {
      "cell_type": "code",
      "source": [
        "import tensorflow as tf\n",
        "from tensorflow.python.client import device_lib\n",
        "print(device_lib.list_local_devices())"
      ],
      "metadata": {
        "colab": {
          "base_uri": "https://localhost:8080/"
        },
        "id": "CQL6wYJUms6Y",
        "outputId": "808d06c6-3e0f-424c-a0fc-ce1d6da171ca"
      },
      "execution_count": 184,
      "outputs": [
        {
          "metadata": {
            "tags": null
          },
          "name": "stdout",
          "output_type": "stream",
          "text": [
            "[name: \"/device:CPU:0\"\n",
            "device_type: \"CPU\"\n",
            "memory_limit: 268435456\n",
            "locality {\n",
            "}\n",
            "incarnation: 15796382278081985988\n",
            "xla_global_id: -1\n",
            "]\n"
          ]
        }
      ]
    },
    {
      "cell_type": "code",
      "execution_count": 185,
      "metadata": {
        "id": "vv7w0bgAVQPO"
      },
      "outputs": [],
      "source": [
        "import tensorflow as tf\n",
        "import numpy as np\n",
        "import matplotlib.pyplot as plt\n",
        "import tf_keras\n",
        "\n",
        "from keras import layers\n",
        "from keras import models\n",
        "from keras import regularizers\n",
        "from keras import callbacks\n",
        "from keras import initializers\n",
        "from keras.layers import BatchNormalization\n",
        "from keras.models import load_model\n",
        "from tensorflow.keras.utils import to_categorical"
      ]
    },
    {
      "cell_type": "code",
      "source": [
        "num_classes = 10"
      ],
      "metadata": {
        "id": "RvT1uYJsa5cn"
      },
      "execution_count": 186,
      "outputs": []
    },
    {
      "cell_type": "code",
      "source": [
        "fashion_mnist = tf.keras.datasets.fashion_mnist\n",
        "\n",
        "(x_train, y_train), (x_test, y_test) = fashion_mnist.load_data()"
      ],
      "metadata": {
        "id": "mOpywsNAzfGB"
      },
      "execution_count": 187,
      "outputs": []
    },
    {
      "cell_type": "code",
      "source": [
        "def drow_hist(data):\n",
        "  plt.figure(figsize=(8,6), dpi= 80)\n",
        "  _ = plt.hist(data,\n",
        "              bins=num_classes,\n",
        "              stacked=True,\n",
        "              density=False,\n",
        "              range=(0,10),\n",
        "              rwidth=0.9,\n",
        "              )"
      ],
      "metadata": {
        "id": "NjEvuOvomEoT"
      },
      "execution_count": 188,
      "outputs": []
    },
    {
      "cell_type": "code",
      "source": [
        "# create validation data\n",
        "val_size =6000\n",
        "\n",
        "x_val = x_train[-val_size:, :, :]\n",
        "x_train = x_train[:-val_size, :, :]\n",
        "\n",
        "y_val = y_train[-val_size:]\n",
        "y_train = y_train[:-val_size]"
      ],
      "metadata": {
        "id": "jAs92sDoVU89"
      },
      "execution_count": 189,
      "outputs": []
    },
    {
      "cell_type": "code",
      "source": [
        "x_train = x_train.astype('float32') / 255\n",
        "x_test = x_test.astype('float32') / 255\n",
        "x_val = x_val.astype('float32') / 255\n",
        "\n",
        "y_train = to_categorical(y_train)\n",
        "y_test = to_categorical(y_test)\n",
        "y_val = to_categorical(y_val)"
      ],
      "metadata": {
        "id": "t2gucjsJ0KUi"
      },
      "execution_count": 190,
      "outputs": []
    },
    {
      "cell_type": "code",
      "source": [
        "w_init_tanh = initializers.glorot_normal(seed=111)\n",
        "w_init_relu = initializers.HeNormal(seed=66)\n",
        "# w_init_relu = initializers.HeUniform(seed=24)\n",
        "b_init = initializers.Zeros()"
      ],
      "metadata": {
        "id": "yL9QTEtBGy4N"
      },
      "execution_count": 191,
      "outputs": []
    },
    {
      "cell_type": "code",
      "source": [
        "def layer_relu(model, neurons, drop_out):\n",
        "  model.add(BatchNormalization())\n",
        "  model.add(layers.Dense(neurons,\n",
        "                        activation='relu',\n",
        "                        kernel_initializer=w_init_relu,\n",
        "                        bias_initializer=b_init,\n",
        "                        kernel_regularizer=regularizers.L2(1e-5),\n",
        "                        bias_regularizer=regularizers.L2(1e-4),\n",
        "                        activity_regularizer=regularizers.L2(1e-5)\n",
        "                         )\n",
        "  )\n",
        "  model.add(layers.Dropout(drop_out))\n",
        "  print(drop_out)\n",
        "  return model"
      ],
      "metadata": {
        "id": "ZZgs_25rKBCp"
      },
      "execution_count": 192,
      "outputs": []
    },
    {
      "cell_type": "code",
      "source": [
        "def layer_tanh(model, neurons, drop_out):\n",
        "  model.add(BatchNormalization())\n",
        "  model.add(layers.Dense(neurons,\n",
        "                        activation='tanh',\n",
        "                        kernel_initializer=w_init_tanh,\n",
        "                        bias_initializer=b_init\n",
        "                         )\n",
        "  )\n",
        "  model.add(layers.Dropout(drop_out))\n",
        "  return model"
      ],
      "metadata": {
        "id": "90JLLnkBR50t"
      },
      "execution_count": 193,
      "outputs": []
    },
    {
      "cell_type": "code",
      "source": [
        "model = models.Sequential()\n",
        "\n",
        "neurons = 256\n",
        "drop_out = 0.35\n",
        "\n",
        "model.add(layers.Flatten(input_shape=(28, 28)))\n",
        "model.add(layers.Dropout(0.13))\n",
        "\n",
        "model = layer_relu(model, neurons*1, drop_out)\n",
        "model = layer_relu(model, neurons*2, drop_out)\n",
        "model = layer_relu(model, neurons*2, drop_out)\n",
        "# model = layer_relu(model, neurons*2)\n",
        "\n",
        "\n",
        "model.add(layers.Dense(10, activation='softmax'))"
      ],
      "metadata": {
        "id": "atS39i4d0aqW",
        "colab": {
          "base_uri": "https://localhost:8080/"
        },
        "outputId": "ae2a8c8d-eb16-4654-c38f-42cba00cba30"
      },
      "execution_count": 194,
      "outputs": [
        {
          "metadata": {
            "tags": null
          },
          "name": "stdout",
          "output_type": "stream",
          "text": [
            "0.35\n",
            "0.35\n",
            "0.35\n"
          ]
        }
      ]
    },
    {
      "cell_type": "markdown",
      "source": [
        "++++++++++++++++++++++++++++++++++++++++++++++++++++++++++++++++++++++++++++++++"
      ],
      "metadata": {
        "id": "tZO7hl7pM63y"
      }
    },
    {
      "cell_type": "code",
      "source": [
        "optimizer = tf.keras.optimizers.Nadam(learning_rate=0.0004,\n",
        "                                      beta_1=0.9,\n",
        "                                      beta_2=0.999,\n",
        "                                      epsilon=1e-06\n",
        ")\n",
        "# optimizer = tf.keras.optimizers.experimental.RMSprop(learning_rate=0.0005,\n",
        "#                                                     rho=0.5,\n",
        "#                                                     momentum=-16,\n",
        "#                                                     epsilon=1e-07,\n",
        "#                                                     centered=False,\n",
        "#                                                     weight_decay=None,\n",
        "#                                                     clipnorm=None,\n",
        "#                                                     clipvalue=None,\n",
        "#                                                     global_clipnorm=None,\n",
        "#                                                     use_ema=False,\n",
        "#                                                     ema_momentum=0.99,\n",
        "#                                                     ema_overwrite_frequency=100,\n",
        "#                                                     jit_compile=True,\n",
        "#                                                     name='RMSprop',\n",
        "# )"
      ],
      "metadata": {
        "id": "EzfnaqIZlfy8"
      },
      "execution_count": 195,
      "outputs": []
    },
    {
      "cell_type": "markdown",
      "source": [
        "++++++++++++++++++++++++++++++++++++++++++++++++++++++++++++++++++++++++++++++++"
      ],
      "metadata": {
        "id": "KHmBptvOM95Z"
      }
    },
    {
      "cell_type": "code",
      "source": [
        "model.compile(#optimizer='adam',\n",
        "              # optimizer='adamax',\n",
        "              optimizer=optimizer,\n",
        "              # optimizer='rmsprop',\n",
        "              # optimizer='sgd',\n",
        "              # optimizer='adadelta',\n",
        "              # loss='binary_crossentropy',\n",
        "              loss=tf.keras.losses.CategoricalCrossentropy(),\n",
        "              metrics=['categorical_accuracy']) # sparse_categorical_accuracy"
      ],
      "metadata": {
        "id": "hENVaAC7ilNY"
      },
      "execution_count": 196,
      "outputs": []
    },
    {
      "cell_type": "code",
      "source": [
        "# callback = callbacks.EarlyStopping(monitor='val_loss',\n",
        "#                                    patience=15,\n",
        "#                                    restore_best_weights=True,\n",
        "#                                    )\n",
        "es = callbacks.EarlyStopping(monitor='val_loss', mode='min', verbose=0, patience=60)\n",
        "mc = callbacks.ModelCheckpoint('best_model.h5', monitor='categorical_accuracy', mode='max', verbose=0, save_best_only=True)\n"
      ],
      "metadata": {
        "id": "5ihU4exVlsjm"
      },
      "execution_count": 197,
      "outputs": []
    },
    {
      "cell_type": "code",
      "source": [
        "history = model.fit(x_train, y_train,\n",
        "                    epochs=500,\n",
        "                    batch_size=128,\n",
        "                    # callbacks=[callback],\n",
        "                    callbacks=[mc, es],\n",
        "                    verbose=1, #многословие\n",
        "                    # validation_split=0.2\n",
        "                    validation_data=(x_val, y_val)\n",
        "                    )\n",
        "test_loss, test_acc = model.evaluate(x_test, y_test)\n",
        "print('\\nTest accuracy:', test_acc)"
      ],
      "metadata": {
        "id": "FH8HcMNm233I",
        "outputId": "8e48c09c-e5f8-4f0c-fa13-b2422f099967",
        "colab": {
          "base_uri": "https://localhost:8080/"
        }
      },
      "execution_count": 174,
      "outputs": [
        {
          "metadata": {
            "tags": null
          },
          "name": "stdout",
          "output_type": "stream",
          "text": [
            "Epoch 1/500\n",
            "422/422 [==============================] - 22s 44ms/step - loss: 0.8180 - categorical_accuracy: 0.7163 - val_loss: 0.4341 - val_categorical_accuracy: 0.8377\n",
            "Epoch 2/500\n",
            "422/422 [==============================] - 17s 41ms/step - loss: 0.5399 - categorical_accuracy: 0.8067 - val_loss: 0.3854 - val_categorical_accuracy: 0.8537\n",
            "Epoch 3/500\n",
            "422/422 [==============================] - 17s 40ms/step - loss: 0.4778 - categorical_accuracy: 0.8254 - val_loss: 0.3769 - val_categorical_accuracy: 0.8572\n",
            "Epoch 4/500\n",
            "422/422 [==============================] - 19s 44ms/step - loss: 0.4422 - categorical_accuracy: 0.8384 - val_loss: 0.3561 - val_categorical_accuracy: 0.8720\n",
            "Epoch 5/500\n",
            "422/422 [==============================] - 17s 41ms/step - loss: 0.4194 - categorical_accuracy: 0.8457 - val_loss: 0.3469 - val_categorical_accuracy: 0.8728\n",
            "Epoch 6/500\n",
            "422/422 [==============================] - 18s 42ms/step - loss: 0.4034 - categorical_accuracy: 0.8511 - val_loss: 0.3438 - val_categorical_accuracy: 0.8738\n",
            "Epoch 7/500\n",
            "422/422 [==============================] - 19s 44ms/step - loss: 0.3841 - categorical_accuracy: 0.8574 - val_loss: 0.3270 - val_categorical_accuracy: 0.8830\n",
            "Epoch 8/500\n",
            "422/422 [==============================] - 17s 41ms/step - loss: 0.3738 - categorical_accuracy: 0.8624 - val_loss: 0.3285 - val_categorical_accuracy: 0.8797\n",
            "Epoch 9/500\n",
            "422/422 [==============================] - 17s 40ms/step - loss: 0.3614 - categorical_accuracy: 0.8654 - val_loss: 0.3129 - val_categorical_accuracy: 0.8848\n",
            "Epoch 10/500\n",
            "422/422 [==============================] - 19s 45ms/step - loss: 0.3517 - categorical_accuracy: 0.8694 - val_loss: 0.3153 - val_categorical_accuracy: 0.8840\n",
            "Epoch 11/500\n",
            "422/422 [==============================] - 17s 41ms/step - loss: 0.3436 - categorical_accuracy: 0.8717 - val_loss: 0.3114 - val_categorical_accuracy: 0.8842\n",
            "Epoch 12/500\n",
            "422/422 [==============================] - 17s 41ms/step - loss: 0.3375 - categorical_accuracy: 0.8742 - val_loss: 0.3019 - val_categorical_accuracy: 0.8867\n",
            "Epoch 13/500\n",
            "422/422 [==============================] - 18s 43ms/step - loss: 0.3292 - categorical_accuracy: 0.8774 - val_loss: 0.3000 - val_categorical_accuracy: 0.8880\n",
            "Epoch 14/500\n",
            "422/422 [==============================] - 17s 41ms/step - loss: 0.3206 - categorical_accuracy: 0.8800 - val_loss: 0.2924 - val_categorical_accuracy: 0.8935\n",
            "Epoch 15/500\n",
            "422/422 [==============================] - 17s 41ms/step - loss: 0.3156 - categorical_accuracy: 0.8830 - val_loss: 0.2909 - val_categorical_accuracy: 0.8967\n",
            "Epoch 16/500\n",
            "422/422 [==============================] - 18s 43ms/step - loss: 0.3099 - categorical_accuracy: 0.8850 - val_loss: 0.2928 - val_categorical_accuracy: 0.8937\n",
            "Epoch 17/500\n",
            "422/422 [==============================] - 17s 41ms/step - loss: 0.3052 - categorical_accuracy: 0.8841 - val_loss: 0.2928 - val_categorical_accuracy: 0.8935\n",
            "Epoch 18/500\n",
            "422/422 [==============================] - 17s 41ms/step - loss: 0.3023 - categorical_accuracy: 0.8857 - val_loss: 0.2894 - val_categorical_accuracy: 0.8945\n",
            "Epoch 19/500\n",
            "422/422 [==============================] - 18s 43ms/step - loss: 0.2965 - categorical_accuracy: 0.8890 - val_loss: 0.2914 - val_categorical_accuracy: 0.8930\n",
            "Epoch 20/500\n",
            "422/422 [==============================] - 17s 41ms/step - loss: 0.2909 - categorical_accuracy: 0.8909 - val_loss: 0.2866 - val_categorical_accuracy: 0.8958\n",
            "Epoch 21/500\n",
            "422/422 [==============================] - 17s 41ms/step - loss: 0.2878 - categorical_accuracy: 0.8912 - val_loss: 0.2810 - val_categorical_accuracy: 0.8953\n",
            "Epoch 22/500\n",
            "422/422 [==============================] - 19s 44ms/step - loss: 0.2860 - categorical_accuracy: 0.8909 - val_loss: 0.2744 - val_categorical_accuracy: 0.8992\n",
            "Epoch 23/500\n",
            "422/422 [==============================] - 17s 41ms/step - loss: 0.2778 - categorical_accuracy: 0.8959 - val_loss: 0.2813 - val_categorical_accuracy: 0.9005\n",
            "Epoch 24/500\n",
            "422/422 [==============================] - 17s 41ms/step - loss: 0.2771 - categorical_accuracy: 0.8956 - val_loss: 0.2800 - val_categorical_accuracy: 0.8995\n",
            "Epoch 25/500\n",
            "422/422 [==============================] - 18s 43ms/step - loss: 0.2739 - categorical_accuracy: 0.8955 - val_loss: 0.2776 - val_categorical_accuracy: 0.8955\n",
            "Epoch 26/500\n",
            "422/422 [==============================] - 17s 40ms/step - loss: 0.2737 - categorical_accuracy: 0.8969 - val_loss: 0.2718 - val_categorical_accuracy: 0.8992\n",
            "Epoch 27/500\n",
            "422/422 [==============================] - 17s 41ms/step - loss: 0.2656 - categorical_accuracy: 0.8999 - val_loss: 0.2797 - val_categorical_accuracy: 0.8982\n",
            "Epoch 28/500\n",
            "422/422 [==============================] - 19s 45ms/step - loss: 0.2639 - categorical_accuracy: 0.9007 - val_loss: 0.2761 - val_categorical_accuracy: 0.9000\n",
            "Epoch 29/500\n",
            "422/422 [==============================] - 17s 41ms/step - loss: 0.2615 - categorical_accuracy: 0.8996 - val_loss: 0.2732 - val_categorical_accuracy: 0.9002\n",
            "Epoch 30/500\n",
            "422/422 [==============================] - 17s 41ms/step - loss: 0.2576 - categorical_accuracy: 0.9020 - val_loss: 0.2746 - val_categorical_accuracy: 0.9007\n",
            "Epoch 31/500\n",
            "422/422 [==============================] - 19s 44ms/step - loss: 0.2536 - categorical_accuracy: 0.9038 - val_loss: 0.2751 - val_categorical_accuracy: 0.9008\n",
            "Epoch 32/500\n",
            "422/422 [==============================] - 17s 41ms/step - loss: 0.2550 - categorical_accuracy: 0.9029 - val_loss: 0.2739 - val_categorical_accuracy: 0.9008\n",
            "Epoch 33/500\n",
            "422/422 [==============================] - 17s 41ms/step - loss: 0.2495 - categorical_accuracy: 0.9054 - val_loss: 0.2692 - val_categorical_accuracy: 0.9042\n",
            "Epoch 34/500\n",
            "422/422 [==============================] - 18s 44ms/step - loss: 0.2449 - categorical_accuracy: 0.9074 - val_loss: 0.2726 - val_categorical_accuracy: 0.9027\n",
            "Epoch 35/500\n",
            "422/422 [==============================] - 17s 41ms/step - loss: 0.2451 - categorical_accuracy: 0.9056 - val_loss: 0.2679 - val_categorical_accuracy: 0.9020\n",
            "Epoch 36/500\n",
            "422/422 [==============================] - 18s 42ms/step - loss: 0.2423 - categorical_accuracy: 0.9084 - val_loss: 0.2709 - val_categorical_accuracy: 0.9032\n",
            "Epoch 37/500\n",
            "422/422 [==============================] - 18s 43ms/step - loss: 0.2404 - categorical_accuracy: 0.9083 - val_loss: 0.2673 - val_categorical_accuracy: 0.9057\n",
            "Epoch 38/500\n",
            "422/422 [==============================] - 17s 41ms/step - loss: 0.2364 - categorical_accuracy: 0.9114 - val_loss: 0.2710 - val_categorical_accuracy: 0.9072\n",
            "Epoch 39/500\n",
            "422/422 [==============================] - 18s 44ms/step - loss: 0.2365 - categorical_accuracy: 0.9109 - val_loss: 0.2689 - val_categorical_accuracy: 0.9057\n",
            "Epoch 40/500\n",
            "422/422 [==============================] - 18s 42ms/step - loss: 0.2373 - categorical_accuracy: 0.9099 - val_loss: 0.2694 - val_categorical_accuracy: 0.9047\n",
            "Epoch 41/500\n",
            "422/422 [==============================] - 17s 41ms/step - loss: 0.2351 - categorical_accuracy: 0.9109 - val_loss: 0.2610 - val_categorical_accuracy: 0.9047\n",
            "Epoch 42/500\n",
            "422/422 [==============================] - 18s 43ms/step - loss: 0.2298 - categorical_accuracy: 0.9124 - val_loss: 0.2681 - val_categorical_accuracy: 0.9042\n",
            "Epoch 43/500\n",
            "422/422 [==============================] - 17s 41ms/step - loss: 0.2298 - categorical_accuracy: 0.9129 - val_loss: 0.2712 - val_categorical_accuracy: 0.9057\n",
            "Epoch 44/500\n",
            "422/422 [==============================] - 17s 41ms/step - loss: 0.2276 - categorical_accuracy: 0.9124 - val_loss: 0.2702 - val_categorical_accuracy: 0.9045\n",
            "Epoch 45/500\n",
            "422/422 [==============================] - 18s 43ms/step - loss: 0.2259 - categorical_accuracy: 0.9135 - val_loss: 0.2746 - val_categorical_accuracy: 0.9063\n",
            "Epoch 46/500\n",
            "422/422 [==============================] - 17s 41ms/step - loss: 0.2231 - categorical_accuracy: 0.9139 - val_loss: 0.2728 - val_categorical_accuracy: 0.9058\n",
            "Epoch 47/500\n",
            "422/422 [==============================] - 18s 42ms/step - loss: 0.2242 - categorical_accuracy: 0.9150 - val_loss: 0.2666 - val_categorical_accuracy: 0.9058\n",
            "Epoch 48/500\n",
            "422/422 [==============================] - 19s 44ms/step - loss: 0.2206 - categorical_accuracy: 0.9171 - val_loss: 0.2769 - val_categorical_accuracy: 0.9052\n",
            "Epoch 49/500\n",
            "422/422 [==============================] - 17s 41ms/step - loss: 0.2208 - categorical_accuracy: 0.9156 - val_loss: 0.2677 - val_categorical_accuracy: 0.9063\n",
            "Epoch 50/500\n",
            "422/422 [==============================] - 17s 41ms/step - loss: 0.2157 - categorical_accuracy: 0.9177 - val_loss: 0.2740 - val_categorical_accuracy: 0.9040\n",
            "Epoch 51/500\n",
            "422/422 [==============================] - 18s 44ms/step - loss: 0.2143 - categorical_accuracy: 0.9174 - val_loss: 0.2725 - val_categorical_accuracy: 0.9053\n",
            "Epoch 52/500\n",
            "422/422 [==============================] - 17s 41ms/step - loss: 0.2138 - categorical_accuracy: 0.9186 - val_loss: 0.2756 - val_categorical_accuracy: 0.9017\n",
            "Epoch 53/500\n",
            "422/422 [==============================] - 17s 41ms/step - loss: 0.2171 - categorical_accuracy: 0.9166 - val_loss: 0.2687 - val_categorical_accuracy: 0.9065\n",
            "Epoch 54/500\n",
            "422/422 [==============================] - 18s 43ms/step - loss: 0.2109 - categorical_accuracy: 0.9199 - val_loss: 0.2756 - val_categorical_accuracy: 0.9080\n",
            "Epoch 55/500\n",
            "422/422 [==============================] - 17s 41ms/step - loss: 0.2118 - categorical_accuracy: 0.9194 - val_loss: 0.2694 - val_categorical_accuracy: 0.9077\n",
            "Epoch 56/500\n",
            "422/422 [==============================] - 17s 41ms/step - loss: 0.2084 - categorical_accuracy: 0.9201 - val_loss: 0.2734 - val_categorical_accuracy: 0.9062\n",
            "Epoch 57/500\n",
            "422/422 [==============================] - 19s 45ms/step - loss: 0.2064 - categorical_accuracy: 0.9219 - val_loss: 0.2726 - val_categorical_accuracy: 0.9047\n",
            "Epoch 58/500\n",
            "422/422 [==============================] - 17s 41ms/step - loss: 0.2047 - categorical_accuracy: 0.9219 - val_loss: 0.2731 - val_categorical_accuracy: 0.9062\n",
            "Epoch 59/500\n",
            "422/422 [==============================] - 17s 41ms/step - loss: 0.2088 - categorical_accuracy: 0.9206 - val_loss: 0.2665 - val_categorical_accuracy: 0.9080\n",
            "Epoch 60/500\n",
            "422/422 [==============================] - 19s 44ms/step - loss: 0.2055 - categorical_accuracy: 0.9216 - val_loss: 0.2726 - val_categorical_accuracy: 0.9060\n",
            "Epoch 61/500\n",
            "422/422 [==============================] - 17s 41ms/step - loss: 0.2051 - categorical_accuracy: 0.9224 - val_loss: 0.2753 - val_categorical_accuracy: 0.9070\n",
            "Epoch 62/500\n",
            "422/422 [==============================] - 17s 41ms/step - loss: 0.2028 - categorical_accuracy: 0.9231 - val_loss: 0.2751 - val_categorical_accuracy: 0.9082\n",
            "Epoch 63/500\n",
            "422/422 [==============================] - 19s 44ms/step - loss: 0.2072 - categorical_accuracy: 0.9213 - val_loss: 0.2694 - val_categorical_accuracy: 0.9057\n",
            "Epoch 64/500\n",
            "422/422 [==============================] - 17s 41ms/step - loss: 0.1977 - categorical_accuracy: 0.9244 - val_loss: 0.2722 - val_categorical_accuracy: 0.9040\n",
            "Epoch 65/500\n",
            "422/422 [==============================] - 17s 41ms/step - loss: 0.2020 - categorical_accuracy: 0.9232 - val_loss: 0.2748 - val_categorical_accuracy: 0.9063\n",
            "Epoch 66/500\n",
            "422/422 [==============================] - 19s 44ms/step - loss: 0.1977 - categorical_accuracy: 0.9249 - val_loss: 0.2728 - val_categorical_accuracy: 0.9063\n",
            "Epoch 67/500\n",
            "422/422 [==============================] - 18s 42ms/step - loss: 0.1962 - categorical_accuracy: 0.9257 - val_loss: 0.2740 - val_categorical_accuracy: 0.9053\n",
            "Epoch 68/500\n",
            "422/422 [==============================] - 18s 42ms/step - loss: 0.1954 - categorical_accuracy: 0.9258 - val_loss: 0.2708 - val_categorical_accuracy: 0.9102\n",
            "Epoch 69/500\n",
            "422/422 [==============================] - 19s 44ms/step - loss: 0.1980 - categorical_accuracy: 0.9256 - val_loss: 0.2705 - val_categorical_accuracy: 0.9085\n",
            "Epoch 70/500\n",
            "422/422 [==============================] - 17s 41ms/step - loss: 0.1968 - categorical_accuracy: 0.9251 - val_loss: 0.2734 - val_categorical_accuracy: 0.9060\n",
            "Epoch 71/500\n",
            "422/422 [==============================] - 16s 39ms/step - loss: 0.1920 - categorical_accuracy: 0.9270 - val_loss: 0.2744 - val_categorical_accuracy: 0.9033\n",
            "Epoch 72/500\n",
            "422/422 [==============================] - 18s 42ms/step - loss: 0.1945 - categorical_accuracy: 0.9268 - val_loss: 0.2824 - val_categorical_accuracy: 0.9070\n",
            "Epoch 73/500\n",
            "422/422 [==============================] - 17s 41ms/step - loss: 0.1913 - categorical_accuracy: 0.9268 - val_loss: 0.2740 - val_categorical_accuracy: 0.9053\n",
            "Epoch 74/500\n",
            "422/422 [==============================] - 17s 40ms/step - loss: 0.1910 - categorical_accuracy: 0.9277 - val_loss: 0.2741 - val_categorical_accuracy: 0.9075\n",
            "Epoch 75/500\n",
            "422/422 [==============================] - 18s 42ms/step - loss: 0.1911 - categorical_accuracy: 0.9275 - val_loss: 0.2782 - val_categorical_accuracy: 0.9060\n",
            "Epoch 76/500\n",
            "422/422 [==============================] - 17s 40ms/step - loss: 0.1909 - categorical_accuracy: 0.9277 - val_loss: 0.2721 - val_categorical_accuracy: 0.9078\n",
            "Epoch 77/500\n",
            "422/422 [==============================] - 17s 39ms/step - loss: 0.1867 - categorical_accuracy: 0.9279 - val_loss: 0.2787 - val_categorical_accuracy: 0.9065\n",
            "Epoch 78/500\n",
            "422/422 [==============================] - 18s 42ms/step - loss: 0.1881 - categorical_accuracy: 0.9288 - val_loss: 0.2800 - val_categorical_accuracy: 0.9065\n",
            "Epoch 79/500\n",
            "422/422 [==============================] - 16s 39ms/step - loss: 0.1875 - categorical_accuracy: 0.9297 - val_loss: 0.2732 - val_categorical_accuracy: 0.9068\n",
            "Epoch 80/500\n",
            "422/422 [==============================] - 17s 40ms/step - loss: 0.1876 - categorical_accuracy: 0.9284 - val_loss: 0.2671 - val_categorical_accuracy: 0.9077\n",
            "Epoch 81/500\n",
            "422/422 [==============================] - 17s 41ms/step - loss: 0.1862 - categorical_accuracy: 0.9293 - val_loss: 0.2683 - val_categorical_accuracy: 0.9082\n",
            "Epoch 82/500\n",
            "422/422 [==============================] - 17s 39ms/step - loss: 0.1868 - categorical_accuracy: 0.9295 - val_loss: 0.2708 - val_categorical_accuracy: 0.9063\n",
            "Epoch 83/500\n",
            "422/422 [==============================] - 17s 40ms/step - loss: 0.1843 - categorical_accuracy: 0.9304 - val_loss: 0.2703 - val_categorical_accuracy: 0.9072\n",
            "Epoch 84/500\n",
            "422/422 [==============================] - 18s 42ms/step - loss: 0.1803 - categorical_accuracy: 0.9303 - val_loss: 0.2805 - val_categorical_accuracy: 0.9060\n",
            "Epoch 85/500\n",
            "422/422 [==============================] - 17s 40ms/step - loss: 0.1841 - categorical_accuracy: 0.9305 - val_loss: 0.2758 - val_categorical_accuracy: 0.9055\n",
            "Epoch 86/500\n",
            "422/422 [==============================] - 17s 40ms/step - loss: 0.1822 - categorical_accuracy: 0.9307 - val_loss: 0.2679 - val_categorical_accuracy: 0.9090\n",
            "Epoch 87/500\n",
            "422/422 [==============================] - 17s 41ms/step - loss: 0.1809 - categorical_accuracy: 0.9314 - val_loss: 0.2755 - val_categorical_accuracy: 0.9065\n",
            "Epoch 88/500\n",
            "422/422 [==============================] - 17s 39ms/step - loss: 0.1786 - categorical_accuracy: 0.9311 - val_loss: 0.2773 - val_categorical_accuracy: 0.9058\n",
            "Epoch 89/500\n",
            "422/422 [==============================] - 17s 40ms/step - loss: 0.1810 - categorical_accuracy: 0.9320 - val_loss: 0.2732 - val_categorical_accuracy: 0.9073\n",
            "Epoch 90/500\n",
            "422/422 [==============================] - 18s 42ms/step - loss: 0.1772 - categorical_accuracy: 0.9321 - val_loss: 0.2802 - val_categorical_accuracy: 0.9045\n",
            "Epoch 91/500\n",
            "422/422 [==============================] - 16s 39ms/step - loss: 0.1803 - categorical_accuracy: 0.9305 - val_loss: 0.2786 - val_categorical_accuracy: 0.9050\n",
            "Epoch 92/500\n",
            "422/422 [==============================] - 17s 40ms/step - loss: 0.1773 - categorical_accuracy: 0.9327 - val_loss: 0.2767 - val_categorical_accuracy: 0.9063\n",
            "Epoch 93/500\n",
            "422/422 [==============================] - 18s 42ms/step - loss: 0.1780 - categorical_accuracy: 0.9326 - val_loss: 0.2745 - val_categorical_accuracy: 0.9105\n",
            "Epoch 94/500\n",
            "422/422 [==============================] - 17s 40ms/step - loss: 0.1763 - categorical_accuracy: 0.9334 - val_loss: 0.2748 - val_categorical_accuracy: 0.9060\n",
            "Epoch 95/500\n",
            "422/422 [==============================] - 17s 39ms/step - loss: 0.1733 - categorical_accuracy: 0.9341 - val_loss: 0.2659 - val_categorical_accuracy: 0.9090\n",
            "Epoch 96/500\n",
            "422/422 [==============================] - 18s 42ms/step - loss: 0.1742 - categorical_accuracy: 0.9325 - val_loss: 0.2757 - val_categorical_accuracy: 0.9087\n",
            "Epoch 97/500\n",
            "422/422 [==============================] - 17s 40ms/step - loss: 0.1760 - categorical_accuracy: 0.9318 - val_loss: 0.2756 - val_categorical_accuracy: 0.9105\n",
            "Epoch 98/500\n",
            "422/422 [==============================] - 17s 40ms/step - loss: 0.1734 - categorical_accuracy: 0.9334 - val_loss: 0.2779 - val_categorical_accuracy: 0.9073\n",
            "Epoch 99/500\n",
            "422/422 [==============================] - 18s 42ms/step - loss: 0.1713 - categorical_accuracy: 0.9351 - val_loss: 0.2838 - val_categorical_accuracy: 0.9058\n",
            "Epoch 100/500\n",
            "422/422 [==============================] - 17s 39ms/step - loss: 0.1730 - categorical_accuracy: 0.9344 - val_loss: 0.2752 - val_categorical_accuracy: 0.9078\n",
            "Epoch 101/500\n",
            "422/422 [==============================] - 16s 39ms/step - loss: 0.1696 - categorical_accuracy: 0.9350 - val_loss: 0.2793 - val_categorical_accuracy: 0.9060\n",
            "313/313 [==============================] - 2s 6ms/step - loss: 0.3007 - categorical_accuracy: 0.9046\n",
            "\n",
            "Test accuracy: 0.9046000242233276\n"
          ]
        }
      ]
    },
    {
      "cell_type": "code",
      "source": [
        "print('\\nhistory dict:', list(history.history.keys()))"
      ],
      "metadata": {
        "id": "CxRE-B_Q6Sii",
        "outputId": "267aa806-bf43-4d3a-8150-e08fbf09aac1",
        "colab": {
          "base_uri": "https://localhost:8080/"
        }
      },
      "execution_count": 175,
      "outputs": [
        {
          "metadata": {
            "tags": null
          },
          "name": "stdout",
          "output_type": "stream",
          "text": [
            "\n",
            "history dict: ['loss', 'categorical_accuracy', 'val_loss', 'val_categorical_accuracy']\n"
          ]
        }
      ]
    },
    {
      "cell_type": "code",
      "source": [
        "result = model.evaluate(x_test, y_test)\n",
        "print(result)"
      ],
      "metadata": {
        "id": "YXpwRRTvTBNg",
        "outputId": "46a05646-1a5c-44cd-81b8-fe46aba050f6",
        "colab": {
          "base_uri": "https://localhost:8080/"
        }
      },
      "execution_count": 176,
      "outputs": [
        {
          "metadata": {
            "tags": null
          },
          "name": "stdout",
          "output_type": "stream",
          "text": [
            "313/313 [==============================] - 2s 5ms/step - loss: 0.3007 - categorical_accuracy: 0.9046\n",
            "[0.3006812632083893, 0.9046000242233276]\n"
          ]
        }
      ]
    },
    {
      "cell_type": "code",
      "source": [
        "saved_model = load_model('best_model.h5')\n",
        "result = saved_model.evaluate(x_test, y_test)\n",
        "print(result)"
      ],
      "metadata": {
        "id": "dpaZAW0vp1AZ",
        "outputId": "607b27c7-bd5a-436e-fbf1-f71e155e637a",
        "colab": {
          "base_uri": "https://localhost:8080/"
        }
      },
      "execution_count": 177,
      "outputs": [
        {
          "metadata": {
            "tags": null
          },
          "name": "stdout",
          "output_type": "stream",
          "text": [
            "313/313 [==============================] - 2s 4ms/step - loss: 0.3041 - categorical_accuracy: 0.9041\n",
            "[0.3040943443775177, 0.9041000008583069]\n"
          ]
        }
      ]
    },
    {
      "cell_type": "code",
      "source": [
        "# from keras.models import load_model\n",
        "# saved_model = load_model('best_model.h5')\n",
        "# # _, train_acc = saved_model.evaluate(x_train, y_train, verbose=0)\n",
        "# _, test_acc = saved_model.evaluate(x_test, y_test, verbose=0)\n",
        "# print('Test: %.3f' % (test_acc))"
      ],
      "metadata": {
        "id": "DR_MS9DABo_K"
      },
      "execution_count": 178,
      "outputs": []
    },
    {
      "cell_type": "code",
      "source": [
        "history_dict = history.history\n",
        "loss_values = history_dict['loss']\n",
        "val_loss_values = history_dict['val_loss']\n",
        "\n",
        "epochs = range(1, len(history_dict['loss']) + 1)\n",
        "\n",
        "plt.figure(figsize=(10, 5))\n",
        "plt.plot(epochs, loss_values, 'bo', label='Training loss')\n",
        "plt.plot(epochs, val_loss_values, 'r', label='Validation loss')\n",
        "# plt.ylim (0.2, 0.5)\n",
        "plt.title('Training and validation loss')\n",
        "plt.xlabel('Epochs')\n",
        "plt.ylabel('Loss')\n",
        "plt.legend()\n",
        "plt.grid(True)\n",
        "plt.show()\n",
        "1\n",
        "plt.clf()\n",
        "plt.figure(figsize=(10, 5))\n",
        "val_acc_values = history_dict['categorical_accuracy']\n",
        "plt.plot(epochs, history_dict['categorical_accuracy'], 'bo', label='Training acc')\n",
        "plt.plot(epochs, history_dict['val_categorical_accuracy'], 'r', label='Validation acc')\n",
        "plt.ylim (0.86, 0.94)\n",
        "plt.title('Training and validation accuracy')\n",
        "plt.xlabel('Epochs')\n",
        "plt.ylabel('Accuracy')\n",
        "plt.legend()\n",
        "plt.grid(True)"
      ],
      "metadata": {
        "id": "2Ll_5sGlXKMH",
        "outputId": "d87aa534-8e4a-4e24-c11f-3a6679cd1323",
        "colab": {
          "base_uri": "https://localhost:8080/",
          "height": 975
        }
      },
      "execution_count": 179,
      "outputs": [
        {
          "data": {
            "image/png": "[encoded data removed]",
            "text/plain": [
              "<Figure size 1000x500 with 1 Axes>"
            ]
          },
          "metadata": {},
          "output_type": "display_data"
        },
        {
          "data": {
            "text/plain": [
              "<Figure size 640x480 with 0 Axes>"
            ]
          },
          "metadata": {},
          "output_type": "display_data"
        },
        {
          "data": {
            "image/png": "[encoded data removed]",
            "text/plain": [
              "<Figure size 1000x500 with 1 Axes>"
            ]
          },
          "metadata": {},
          "output_type": "display_data"
        }
      ]
    },
    {
      "cell_type": "code",
      "source": [
        "probability_model = tf.keras.Sequential([model,\n",
        "                                         tf.keras.layers.Softmax()])"
      ],
      "metadata": {
        "id": "VzOdKAT_uV-f"
      },
      "execution_count": 180,
      "outputs": []
    },
    {
      "cell_type": "code",
      "source": [
        "predictions = probability_model.predict(x_test)"
      ],
      "metadata": {
        "id": "f4is3NFruYom",
        "outputId": "1cbd0cf3-f681-44a1-fa38-f8957c48ea1f",
        "colab": {
          "base_uri": "https://localhost:8080/"
        }
      },
      "execution_count": 181,
      "outputs": [
        {
          "metadata": {
            "tags": null
          },
          "name": "stdout",
          "output_type": "stream",
          "text": [
            "313/313 [==============================] - 1s 4ms/step\n"
          ]
        }
      ]
    },
    {
      "cell_type": "code",
      "source": [
        "predictions[0]"
      ],
      "metadata": {
        "id": "82cigvlZudz_",
        "outputId": "05a7ed5b-dec6-493d-84f8-8d1e0e912b1e",
        "colab": {
          "base_uri": "https://localhost:8080/"
        }
      },
      "execution_count": 182,
      "outputs": [
        {
          "data": {
            "text/plain": [
              "array([0.08533962, 0.08533962, 0.08533962, 0.08533962, 0.08533962,\n",
              "       0.08534038, 0.08533962, 0.08535851, 0.08533962, 0.23192377],\n",
              "      dtype=float32)"
            ]
          },
          "execution_count": 182,
          "metadata": {},
          "output_type": "execute_result"
        }
      ]
    },
    {
      "cell_type": "code",
      "source": [
        "model.summary()"
      ],
      "metadata": {
        "id": "6RsQPHyYuNGe",
        "outputId": "11bc5e49-e6a6-41a9-b8e1-386046bc83b8",
        "colab": {
          "base_uri": "https://localhost:8080/"
        }
      },
      "execution_count": 183,
      "outputs": [
        {
          "metadata": {
            "tags": null
          },
          "name": "stdout",
          "output_type": "stream",
          "text": [
            "Model: \"sequential_11\"\n",
            "_________________________________________________________________\n",
            " Layer (type)                Output Shape              Param #   \n",
            "=================================================================\n",
            " flatten_6 (Flatten)         (None, 784)               0         \n",
            "                                                                 \n",
            " dropout_24 (Dropout)        (None, 784)               0         \n",
            "                                                                 \n",
            " batch_normalization_18 (Ba  (None, 784)               3136      \n",
            " tchNormalization)                                               \n",
            "                                                                 \n",
            " dense_24 (Dense)            (None, 512)               401920    \n",
            "                                                                 \n",
            " dropout_25 (Dropout)        (None, 512)               0         \n",
            "                                                                 \n",
            " batch_normalization_19 (Ba  (None, 512)               2048      \n",
            " tchNormalization)                                               \n",
            "                                                                 \n",
            " dense_25 (Dense)            (None, 512)               262656    \n",
            "                                                                 \n",
            " dropout_26 (Dropout)        (None, 512)               0         \n",
            "                                                                 \n",
            " batch_normalization_20 (Ba  (None, 512)               2048      \n",
            " tchNormalization)                                               \n",
            "                                                                 \n",
            " dense_26 (Dense)            (None, 512)               262656    \n",
            "                                                                 \n",
            " dropout_27 (Dropout)        (None, 512)               0         \n",
            "                                                                 \n",
            " dense_27 (Dense)            (None, 10)                5130      \n",
            "                                                                 \n",
            "=================================================================\n",
            "Total params: 939594 (3.58 MB)\n",
            "Trainable params: 935978 (3.57 MB)\n",
            "Non-trainable params: 3616 (14.12 KB)\n",
            "_________________________________________________________________\n"
          ]
        }
      ]
    }
  ]
}