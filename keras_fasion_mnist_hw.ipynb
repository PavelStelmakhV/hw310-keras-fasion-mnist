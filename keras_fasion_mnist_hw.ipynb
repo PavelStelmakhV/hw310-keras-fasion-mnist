{
  "nbformat": 4,
  "nbformat_minor": 0,
  "metadata": {
    "colab": {
      "provenance": [],
      "authorship_tag": "ABX9TyOnWTioZMncjjH85mWtJEoL",
      "include_colab_link": true
    },
    "kernelspec": {
      "name": "python3",
      "display_name": "Python 3"
    },
    "language_info": {
      "name": "python"
    }
  },
  "cells": [
    {
      "cell_type": "markdown",
      "metadata": {
        "id": "view-in-github",
        "colab_type": "text"
      },
      "source": [
        "<a href=\"https://colab.research.google.com/github/PavelStelmakhV/hw310-keras-fasion-mnist/blob/main/keras_fasion_mnist_hw.ipynb\" target=\"_parent\"><img src=\"https://colab.research.google.com/assets/colab-badge.svg\" alt=\"Open In Colab\"/></a>"
      ]
    },
    {
      "cell_type": "code",
      "execution_count": 90,
      "metadata": {
        "id": "vv7w0bgAVQPO"
      },
      "outputs": [],
      "source": [
        "import tensorflow as tf\n",
        "\n",
        "import numpy as np\n",
        "import matplotlib.pyplot as plt\n",
        "from keras import layers\n",
        "from keras import regularizers"
      ]
    },
    {
      "cell_type": "code",
      "source": [
        "fashion_mnist = tf.keras.datasets.fashion_mnist\n",
        "\n",
        "(x_train, y_train), (x_test, y_test) = fashion_mnist.load_data()"
      ],
      "metadata": {
        "id": "mOpywsNAzfGB"
      },
      "execution_count": 91,
      "outputs": []
    },
    {
      "cell_type": "code",
      "source": [
        "# x_train = x_train.reshape(60000, 784).astype('float32') / 255\n",
        "# x_test = x_test.reshape(10000, 784).astype('float32') / 255\n",
        "x_train = x_train.astype('float32') / 255\n",
        "x_test = x_test.astype('float32') / 255\n",
        "\n",
        "y_train = y_train.astype('float32')\n",
        "y_test = y_test.astype('float32')\n",
        "\n",
        "# Перемешаем тренировочные данные\n",
        "# train_data = tf.data.Dataset.from_tensor_slices((x_train, y_train))\n",
        "# train_data = train_data.repeat().shuffle(5000).batch(batch_size).prefetch(1)"
      ],
      "metadata": {
        "id": "t2gucjsJ0KUi"
      },
      "execution_count": 92,
      "outputs": []
    },
    {
      "cell_type": "code",
      "source": [
        "x_val = x_train[-10000:]\n",
        "y_val = y_train[-10000:]\n",
        "x_train = x_train[:-10000]\n",
        "y_train = y_train[:-10000]"
      ],
      "metadata": {
        "id": "fLPNXab5dHwO"
      },
      "execution_count": 93,
      "outputs": []
    },
    {
      "cell_type": "code",
      "source": [
        "model = tf.keras.Sequential()\n",
        "\n",
        "model.add(layers.Flatten(input_shape=(28, 28)))\n",
        "# model.add(layers.Dropout(0.2))\n",
        "model.add(layers.Dense(512, activation='relu', kernel_regularizer=regularizers.l2(0.001)))\n",
        "model.add(layers.Dropout(0.4))\n",
        "model.add(layers.Dense(512, activation='relu', kernel_regularizer=regularizers.l2(0.001)))\n",
        "model.add(layers.Dropout(0.4))\n",
        "model.add(layers.Dense(256, activation='relu', kernel_regularizer=regularizers.l2(0.001)))\n",
        "model.add(layers.Dropout(0.4))\n",
        "model.add(layers.Dense(128, activation='relu', kernel_regularizer=regularizers.l1(0.001)))\n",
        "model.add(layers.Dropout(0.4))\n",
        "model.add(layers.Dense(64, activation='relu', kernel_regularizer=regularizers.l2(0.001)))\n",
        "# model.add(layers.Dense(256, activation='relu', kernel_regularizer=regularizers.l2(0.00001)))\n",
        "# model.add(layers.Dropout(0.2))\n",
        "\n",
        "# model.add(layers.Dense(216, activation='relu', kernel_regularizer=regularizers.l2(0.001)))\n",
        "# model.add(layers.Dense(512, activation='sigmoid', kernel_regularizer=regularizers.l2(0.00001)))\n",
        "# model.add(layers.Dropout(0.5))\n",
        "# model.add(layers.Dense(512, activation='sigmoid', kernel_regularizer=regularizers.l2(0.00001)))\n",
        "# model.add(layers.Dropout(0.5))\n",
        "# model.add(layers.Dense(500, activation='sigmoid', kernel_regularizer=regularizers.l2(0.000001)))\n",
        "# model.add(layers.Dense(500, activation='relu', kernel_regularizer=regularizers.l2(0.000001)))\n",
        "# # model.add(layers.Dense(80, activation='relu', kernel_regularizer=regularizers.l2(0.001)))\n",
        "# model.add(layers.Dropout(0.5))\n",
        "# model.add(layers.Dense(500, activation='relu', kernel_regularizer=regularizers.l2(0.000001)))\n",
        "# model.add(layers.Dropout(0.5))\n",
        "# # model.add(layers.Dense(40, activation='relu', kernel_regularizer=regularizers.l2(0.001)))\n",
        "\n",
        "model.add(layers.Dense(10, activation='softmax'))\n",
        "# model.add(layers.Softmax())"
      ],
      "metadata": {
        "id": "atS39i4d0aqW"
      },
      "execution_count": 94,
      "outputs": []
    },
    {
      "cell_type": "code",
      "source": [
        "model.compile(#optimizer='adam',\n",
        "              optimizer='adamax',\n",
        "              # optimizer='nadam',\n",
        "              # optimizer='rmsprop',\n",
        "              # optimizer='sgd',\n",
        "              # optimizer='adadelta',\n",
        "              # loss='binary_crossentropy',\n",
        "              loss=tf.keras.losses.SparseCategoricalCrossentropy(),\n",
        "              metrics=['sparse_categorical_accuracy'])"
      ],
      "metadata": {
        "id": "hENVaAC7ilNY"
      },
      "execution_count": 95,
      "outputs": []
    },
    {
      "cell_type": "code",
      "source": [
        "# model.fit(train_images, train_labels, epochs=20)\n",
        "history = model.fit(x_train, y_train,\n",
        "                    epochs=60,\n",
        "                    batch_size=128,\n",
        "                    validation_data=(x_val, y_val))\n",
        "test_loss, test_acc = model.evaluate(x_test, y_test)\n",
        "print('\\nTest accuracy:', test_acc)"
      ],
      "metadata": {
        "id": "FH8HcMNm233I",
        "outputId": "67bbc1cb-16e5-401d-a70e-5ba20adc5897",
        "colab": {
          "base_uri": "https://localhost:8080/"
        }
      },
      "execution_count": 96,
      "outputs": [
        {
          "output_type": "stream",
          "name": "stdout",
          "text": [
            "Epoch 1/60\n",
            "391/391 [==============================] - 7s 17ms/step - loss: 3.4007 - sparse_categorical_accuracy: 0.6165 - val_loss: 2.3129 - val_sparse_categorical_accuracy: 0.7884\n",
            "Epoch 2/60\n",
            "391/391 [==============================] - 6s 15ms/step - loss: 1.9891 - sparse_categorical_accuracy: 0.7928 - val_loss: 1.5736 - val_sparse_categorical_accuracy: 0.8354\n",
            "Epoch 3/60\n",
            "391/391 [==============================] - 6s 16ms/step - loss: 1.4366 - sparse_categorical_accuracy: 0.8251 - val_loss: 1.1897 - val_sparse_categorical_accuracy: 0.8464\n",
            "Epoch 4/60\n",
            "391/391 [==============================] - 6s 16ms/step - loss: 1.1354 - sparse_categorical_accuracy: 0.8378 - val_loss: 0.9799 - val_sparse_categorical_accuracy: 0.8523\n",
            "Epoch 5/60\n",
            "391/391 [==============================] - 6s 16ms/step - loss: 0.9685 - sparse_categorical_accuracy: 0.8444 - val_loss: 0.8426 - val_sparse_categorical_accuracy: 0.8620\n",
            "Epoch 6/60\n",
            "391/391 [==============================] - 6s 15ms/step - loss: 0.8599 - sparse_categorical_accuracy: 0.8497 - val_loss: 0.7731 - val_sparse_categorical_accuracy: 0.8645\n",
            "Epoch 7/60\n",
            "391/391 [==============================] - 6s 16ms/step - loss: 0.7947 - sparse_categorical_accuracy: 0.8544 - val_loss: 0.7212 - val_sparse_categorical_accuracy: 0.8680\n",
            "Epoch 8/60\n",
            "391/391 [==============================] - 6s 16ms/step - loss: 0.7444 - sparse_categorical_accuracy: 0.8567 - val_loss: 0.6975 - val_sparse_categorical_accuracy: 0.8639\n",
            "Epoch 9/60\n",
            "391/391 [==============================] - 6s 16ms/step - loss: 0.7076 - sparse_categorical_accuracy: 0.8624 - val_loss: 0.6571 - val_sparse_categorical_accuracy: 0.8694\n",
            "Epoch 10/60\n",
            "391/391 [==============================] - 7s 17ms/step - loss: 0.6875 - sparse_categorical_accuracy: 0.8601 - val_loss: 0.6745 - val_sparse_categorical_accuracy: 0.8573\n",
            "Epoch 11/60\n",
            "391/391 [==============================] - 6s 15ms/step - loss: 0.6678 - sparse_categorical_accuracy: 0.8643 - val_loss: 0.6218 - val_sparse_categorical_accuracy: 0.8746\n",
            "Epoch 12/60\n",
            "391/391 [==============================] - 6s 16ms/step - loss: 0.6482 - sparse_categorical_accuracy: 0.8657 - val_loss: 0.6095 - val_sparse_categorical_accuracy: 0.8717\n",
            "Epoch 13/60\n",
            "391/391 [==============================] - 6s 15ms/step - loss: 0.6385 - sparse_categorical_accuracy: 0.8651 - val_loss: 0.5942 - val_sparse_categorical_accuracy: 0.8777\n",
            "Epoch 14/60\n",
            "391/391 [==============================] - 6s 16ms/step - loss: 0.6244 - sparse_categorical_accuracy: 0.8684 - val_loss: 0.5843 - val_sparse_categorical_accuracy: 0.8780\n",
            "Epoch 15/60\n",
            "391/391 [==============================] - 6s 15ms/step - loss: 0.6106 - sparse_categorical_accuracy: 0.8712 - val_loss: 0.5780 - val_sparse_categorical_accuracy: 0.8760\n",
            "Epoch 16/60\n",
            "391/391 [==============================] - 6s 16ms/step - loss: 0.6030 - sparse_categorical_accuracy: 0.8715 - val_loss: 0.5869 - val_sparse_categorical_accuracy: 0.8692\n",
            "Epoch 17/60\n",
            "391/391 [==============================] - 6s 15ms/step - loss: 0.5989 - sparse_categorical_accuracy: 0.8723 - val_loss: 0.5667 - val_sparse_categorical_accuracy: 0.8782\n",
            "Epoch 18/60\n",
            "391/391 [==============================] - 7s 17ms/step - loss: 0.5900 - sparse_categorical_accuracy: 0.8729 - val_loss: 0.5677 - val_sparse_categorical_accuracy: 0.8741\n",
            "Epoch 19/60\n",
            "391/391 [==============================] - 6s 15ms/step - loss: 0.5866 - sparse_categorical_accuracy: 0.8734 - val_loss: 0.5620 - val_sparse_categorical_accuracy: 0.8760\n",
            "Epoch 20/60\n",
            "391/391 [==============================] - 6s 16ms/step - loss: 0.5783 - sparse_categorical_accuracy: 0.8736 - val_loss: 0.5510 - val_sparse_categorical_accuracy: 0.8823\n",
            "Epoch 21/60\n",
            "391/391 [==============================] - 6s 15ms/step - loss: 0.5741 - sparse_categorical_accuracy: 0.8755 - val_loss: 0.5457 - val_sparse_categorical_accuracy: 0.8845\n",
            "Epoch 22/60\n",
            "391/391 [==============================] - 6s 17ms/step - loss: 0.5660 - sparse_categorical_accuracy: 0.8779 - val_loss: 0.5500 - val_sparse_categorical_accuracy: 0.8808\n",
            "Epoch 23/60\n",
            "391/391 [==============================] - 6s 16ms/step - loss: 0.5634 - sparse_categorical_accuracy: 0.8772 - val_loss: 0.5533 - val_sparse_categorical_accuracy: 0.8750\n",
            "Epoch 24/60\n",
            "391/391 [==============================] - 6s 15ms/step - loss: 0.5611 - sparse_categorical_accuracy: 0.8777 - val_loss: 0.5566 - val_sparse_categorical_accuracy: 0.8725\n",
            "Epoch 25/60\n",
            "391/391 [==============================] - 6s 16ms/step - loss: 0.5591 - sparse_categorical_accuracy: 0.8779 - val_loss: 0.5521 - val_sparse_categorical_accuracy: 0.8758\n",
            "Epoch 26/60\n",
            "391/391 [==============================] - 6s 16ms/step - loss: 0.5533 - sparse_categorical_accuracy: 0.8792 - val_loss: 0.5432 - val_sparse_categorical_accuracy: 0.8816\n",
            "Epoch 27/60\n",
            "391/391 [==============================] - 6s 16ms/step - loss: 0.5479 - sparse_categorical_accuracy: 0.8808 - val_loss: 0.5415 - val_sparse_categorical_accuracy: 0.8775\n",
            "Epoch 28/60\n",
            "391/391 [==============================] - 6s 16ms/step - loss: 0.5490 - sparse_categorical_accuracy: 0.8800 - val_loss: 0.5377 - val_sparse_categorical_accuracy: 0.8773\n",
            "Epoch 29/60\n",
            "391/391 [==============================] - 6s 16ms/step - loss: 0.5441 - sparse_categorical_accuracy: 0.8792 - val_loss: 0.5409 - val_sparse_categorical_accuracy: 0.8782\n",
            "Epoch 30/60\n",
            "391/391 [==============================] - 6s 15ms/step - loss: 0.5428 - sparse_categorical_accuracy: 0.8796 - val_loss: 0.5281 - val_sparse_categorical_accuracy: 0.8831\n",
            "Epoch 31/60\n",
            "391/391 [==============================] - 6s 16ms/step - loss: 0.5410 - sparse_categorical_accuracy: 0.8804 - val_loss: 0.5330 - val_sparse_categorical_accuracy: 0.8795\n",
            "Epoch 32/60\n",
            "391/391 [==============================] - 6s 16ms/step - loss: 0.5344 - sparse_categorical_accuracy: 0.8819 - val_loss: 0.5380 - val_sparse_categorical_accuracy: 0.8783\n",
            "Epoch 33/60\n",
            "391/391 [==============================] - 6s 15ms/step - loss: 0.5324 - sparse_categorical_accuracy: 0.8836 - val_loss: 0.5303 - val_sparse_categorical_accuracy: 0.8797\n",
            "Epoch 34/60\n",
            "391/391 [==============================] - 6s 16ms/step - loss: 0.5306 - sparse_categorical_accuracy: 0.8828 - val_loss: 0.5225 - val_sparse_categorical_accuracy: 0.8804\n",
            "Epoch 35/60\n",
            "391/391 [==============================] - 6s 16ms/step - loss: 0.5316 - sparse_categorical_accuracy: 0.8825 - val_loss: 0.5267 - val_sparse_categorical_accuracy: 0.8816\n",
            "Epoch 36/60\n",
            "391/391 [==============================] - 6s 16ms/step - loss: 0.5258 - sparse_categorical_accuracy: 0.8850 - val_loss: 0.5342 - val_sparse_categorical_accuracy: 0.8783\n",
            "Epoch 37/60\n",
            "391/391 [==============================] - 6s 15ms/step - loss: 0.5240 - sparse_categorical_accuracy: 0.8839 - val_loss: 0.5421 - val_sparse_categorical_accuracy: 0.8765\n",
            "Epoch 38/60\n",
            "391/391 [==============================] - 6s 16ms/step - loss: 0.5210 - sparse_categorical_accuracy: 0.8845 - val_loss: 0.5176 - val_sparse_categorical_accuracy: 0.8840\n",
            "Epoch 39/60\n",
            "391/391 [==============================] - 6s 16ms/step - loss: 0.5223 - sparse_categorical_accuracy: 0.8836 - val_loss: 0.5240 - val_sparse_categorical_accuracy: 0.8828\n",
            "Epoch 40/60\n",
            "391/391 [==============================] - 6s 16ms/step - loss: 0.5149 - sparse_categorical_accuracy: 0.8873 - val_loss: 0.5027 - val_sparse_categorical_accuracy: 0.8873\n",
            "Epoch 41/60\n",
            "391/391 [==============================] - 6s 16ms/step - loss: 0.5172 - sparse_categorical_accuracy: 0.8864 - val_loss: 0.5227 - val_sparse_categorical_accuracy: 0.8794\n",
            "Epoch 42/60\n",
            "391/391 [==============================] - 6s 15ms/step - loss: 0.5169 - sparse_categorical_accuracy: 0.8867 - val_loss: 0.5139 - val_sparse_categorical_accuracy: 0.8847\n",
            "Epoch 43/60\n",
            "391/391 [==============================] - 6s 16ms/step - loss: 0.5142 - sparse_categorical_accuracy: 0.8854 - val_loss: 0.5132 - val_sparse_categorical_accuracy: 0.8843\n",
            "Epoch 44/60\n",
            "391/391 [==============================] - 6s 15ms/step - loss: 0.5131 - sparse_categorical_accuracy: 0.8882 - val_loss: 0.5122 - val_sparse_categorical_accuracy: 0.8853\n",
            "Epoch 45/60\n",
            "391/391 [==============================] - 6s 16ms/step - loss: 0.5091 - sparse_categorical_accuracy: 0.8887 - val_loss: 0.5163 - val_sparse_categorical_accuracy: 0.8827\n",
            "Epoch 46/60\n",
            "391/391 [==============================] - 6s 15ms/step - loss: 0.5107 - sparse_categorical_accuracy: 0.8884 - val_loss: 0.5112 - val_sparse_categorical_accuracy: 0.8855\n",
            "Epoch 47/60\n",
            "391/391 [==============================] - 6s 16ms/step - loss: 0.5091 - sparse_categorical_accuracy: 0.8881 - val_loss: 0.5259 - val_sparse_categorical_accuracy: 0.8798\n",
            "Epoch 48/60\n",
            "391/391 [==============================] - 6s 16ms/step - loss: 0.5099 - sparse_categorical_accuracy: 0.8882 - val_loss: 0.5278 - val_sparse_categorical_accuracy: 0.8786\n",
            "Epoch 49/60\n",
            "391/391 [==============================] - 6s 16ms/step - loss: 0.5078 - sparse_categorical_accuracy: 0.8875 - val_loss: 0.5084 - val_sparse_categorical_accuracy: 0.8860\n",
            "Epoch 50/60\n",
            "391/391 [==============================] - 6s 15ms/step - loss: 0.5030 - sparse_categorical_accuracy: 0.8891 - val_loss: 0.5182 - val_sparse_categorical_accuracy: 0.8824\n",
            "Epoch 51/60\n",
            "391/391 [==============================] - 6s 16ms/step - loss: 0.5067 - sparse_categorical_accuracy: 0.8879 - val_loss: 0.5045 - val_sparse_categorical_accuracy: 0.8881\n",
            "Epoch 52/60\n",
            "391/391 [==============================] - 6s 16ms/step - loss: 0.5042 - sparse_categorical_accuracy: 0.8899 - val_loss: 0.5092 - val_sparse_categorical_accuracy: 0.8851\n",
            "Epoch 53/60\n",
            "391/391 [==============================] - 6s 15ms/step - loss: 0.4995 - sparse_categorical_accuracy: 0.8908 - val_loss: 0.5058 - val_sparse_categorical_accuracy: 0.8870\n",
            "Epoch 54/60\n",
            "391/391 [==============================] - 6s 16ms/step - loss: 0.5020 - sparse_categorical_accuracy: 0.8902 - val_loss: 0.5340 - val_sparse_categorical_accuracy: 0.8788\n",
            "Epoch 55/60\n",
            "391/391 [==============================] - 6s 15ms/step - loss: 0.5048 - sparse_categorical_accuracy: 0.8869 - val_loss: 0.5101 - val_sparse_categorical_accuracy: 0.8882\n",
            "Epoch 56/60\n",
            "391/391 [==============================] - 6s 16ms/step - loss: 0.4988 - sparse_categorical_accuracy: 0.8917 - val_loss: 0.5078 - val_sparse_categorical_accuracy: 0.8904\n",
            "Epoch 57/60\n",
            "391/391 [==============================] - 6s 15ms/step - loss: 0.4995 - sparse_categorical_accuracy: 0.8909 - val_loss: 0.5018 - val_sparse_categorical_accuracy: 0.8872\n",
            "Epoch 58/60\n",
            "391/391 [==============================] - 6s 16ms/step - loss: 0.4989 - sparse_categorical_accuracy: 0.8908 - val_loss: 0.5068 - val_sparse_categorical_accuracy: 0.8860\n",
            "Epoch 59/60\n",
            "391/391 [==============================] - 6s 15ms/step - loss: 0.4992 - sparse_categorical_accuracy: 0.8905 - val_loss: 0.5040 - val_sparse_categorical_accuracy: 0.8844\n",
            "Epoch 60/60\n",
            "391/391 [==============================] - 6s 16ms/step - loss: 0.4952 - sparse_categorical_accuracy: 0.8906 - val_loss: 0.5044 - val_sparse_categorical_accuracy: 0.8859\n",
            "313/313 [==============================] - 1s 2ms/step - loss: 0.5258 - sparse_categorical_accuracy: 0.8766\n",
            "\n",
            "Test accuracy: 0.8766000270843506\n"
          ]
        }
      ]
    },
    {
      "cell_type": "code",
      "source": [
        "print('\\nhistory dict:', list(history.history.keys()))"
      ],
      "metadata": {
        "id": "CxRE-B_Q6Sii",
        "outputId": "c78e1787-2dc6-4a1a-a95d-8c887c84f0e0",
        "colab": {
          "base_uri": "https://localhost:8080/"
        }
      },
      "execution_count": 97,
      "outputs": [
        {
          "output_type": "stream",
          "name": "stdout",
          "text": [
            "\n",
            "history dict: ['loss', 'sparse_categorical_accuracy', 'val_loss', 'val_sparse_categorical_accuracy']\n"
          ]
        }
      ]
    },
    {
      "cell_type": "code",
      "source": [
        "history_dict = history.history\n",
        "loss_values = history_dict['loss']\n",
        "val_loss_values = history_dict['val_loss']\n",
        "\n",
        "epochs = range(1, len(history_dict['loss']) + 1)\n",
        "\n",
        "plt.figure(figsize=(10, 5))\n",
        "plt.plot(epochs, loss_values, 'bo', label='Training loss')\n",
        "plt.plot(epochs, val_loss_values, 'b', label='Validation loss')\n",
        "plt.title('Training and validation loss')\n",
        "plt.xlabel('Epochs')\n",
        "plt.ylabel('Loss')\n",
        "plt.legend()\n",
        "plt.show()\n",
        "\n",
        "plt.clf()\n",
        "plt.figure(figsize=(10, 5))\n",
        "val_acc_values = history_dict['sparse_categorical_accuracy']\n",
        "plt.plot(epochs, history_dict['sparse_categorical_accuracy'], 'bo', label='Training acc')\n",
        "plt.plot(epochs, history_dict['val_sparse_categorical_accuracy'], 'b', label='Validation acc')\n",
        "plt.title('Training and validation accuracy')\n",
        "plt.xlabel('Epochs')\n",
        "plt.ylabel('Accuracy')\n",
        "plt.legend()"
      ],
      "metadata": {
        "colab": {
          "base_uri": "https://localhost:8080/",
          "height": 993
        },
        "id": "2Ll_5sGlXKMH",
        "outputId": "f0e1f0a4-e5c3-45fd-a229-72e0b5497a0e"
      },
      "execution_count": 98,
      "outputs": [
        {
          "output_type": "display_data",
          "data": {
            "text/plain": [
              "<Figure size 1000x500 with 1 Axes>"
            ],
            "image/png": "[encoded data removed]"
          },
          "metadata": {}
        },
        {
          "output_type": "execute_result",
          "data": {
            "text/plain": [
              "<matplotlib.legend.Legend at 0x781699032fe0>"
            ]
          },
          "metadata": {},
          "execution_count": 98
        },
        {
          "output_type": "display_data",
          "data": {
            "text/plain": [
              "<Figure size 640x480 with 0 Axes>"
            ]
          },
          "metadata": {}
        },
        {
          "output_type": "display_data",
          "data": {
            "text/plain": [
              "<Figure size 1000x500 with 1 Axes>"
            ],
            "image/png": "[encoded data removed]"
          },
          "metadata": {}
        }
      ]
    },
    {
      "cell_type": "code",
      "source": [
        "probability_model = tf.keras.Sequential([model,\n",
        "                                         tf.keras.layers.Softmax()])"
      ],
      "metadata": {
        "id": "VzOdKAT_uV-f"
      },
      "execution_count": 99,
      "outputs": []
    },
    {
      "cell_type": "code",
      "source": [
        "predictions = probability_model.predict(x_test)"
      ],
      "metadata": {
        "id": "f4is3NFruYom",
        "outputId": "1c6a7d18-f9fc-496a-b2a5-8401cd05b894",
        "colab": {
          "base_uri": "https://localhost:8080/"
        }
      },
      "execution_count": 100,
      "outputs": [
        {
          "output_type": "stream",
          "name": "stdout",
          "text": [
            "313/313 [==============================] - 1s 2ms/step\n"
          ]
        }
      ]
    },
    {
      "cell_type": "code",
      "source": [
        "predictions[0]"
      ],
      "metadata": {
        "id": "82cigvlZudz_",
        "outputId": "d36d41bc-8c37-41e6-ec7c-ef4b521d25ac",
        "colab": {
          "base_uri": "https://localhost:8080/"
        }
      },
      "execution_count": 101,
      "outputs": [
        {
          "output_type": "execute_result",
          "data": {
            "text/plain": [
              "array([0.08572837, 0.08573265, 0.08573425, 0.08572828, 0.0857283 ,\n",
              "       0.08591042, 0.08572816, 0.08832163, 0.08574151, 0.22564638],\n",
              "      dtype=float32)"
            ]
          },
          "metadata": {},
          "execution_count": 101
        }
      ]
    },
    {
      "cell_type": "code",
      "source": [
        "model.summary()"
      ],
      "metadata": {
        "id": "6RsQPHyYuNGe",
        "outputId": "e0aa7054-12a7-4dc7-85c1-6ec5bb46fb5b",
        "colab": {
          "base_uri": "https://localhost:8080/"
        }
      },
      "execution_count": 102,
      "outputs": [
        {
          "output_type": "stream",
          "name": "stdout",
          "text": [
            "Model: \"sequential_14\"\n",
            "_________________________________________________________________\n",
            " Layer (type)                Output Shape              Param #   \n",
            "=================================================================\n",
            " flatten_8 (Flatten)         (None, 784)               0         \n",
            "                                                                 \n",
            " dense_44 (Dense)            (None, 512)               401920    \n",
            "                                                                 \n",
            " dropout_29 (Dropout)        (None, 512)               0         \n",
            "                                                                 \n",
            " dense_45 (Dense)            (None, 512)               262656    \n",
            "                                                                 \n",
            " dropout_30 (Dropout)        (None, 512)               0         \n",
            "                                                                 \n",
            " dense_46 (Dense)            (None, 256)               131328    \n",
            "                                                                 \n",
            " dropout_31 (Dropout)        (None, 256)               0         \n",
            "                                                                 \n",
            " dense_47 (Dense)            (None, 128)               32896     \n",
            "                                                                 \n",
            " dropout_32 (Dropout)        (None, 128)               0         \n",
            "                                                                 \n",
            " dense_48 (Dense)            (None, 64)                8256      \n",
            "                                                                 \n",
            " dense_49 (Dense)            (None, 10)                650       \n",
            "                                                                 \n",
            "=================================================================\n",
            "Total params: 837706 (3.20 MB)\n",
            "Trainable params: 837706 (3.20 MB)\n",
            "Non-trainable params: 0 (0.00 Byte)\n",
            "_________________________________________________________________\n"
          ]
        }
      ]
    }
  ]
}