{
  "nbformat": 4,
  "nbformat_minor": 0,
  "metadata": {
    "colab": {
      "provenance": [],
      "gpuType": "T4",
      "authorship_tag": "ABX9TyNz5Tj0gOKiHvohy0668gMG",
      "include_colab_link": true
    },
    "kernelspec": {
      "name": "python3",
      "display_name": "Python 3"
    },
    "language_info": {
      "name": "python"
    },
    "accelerator": "GPU"
  },
  "cells": [
    {
      "cell_type": "markdown",
      "metadata": {
        "id": "view-in-github",
        "colab_type": "text"
      },
      "source": [
        "<a href=\"https://colab.research.google.com/github/PavelStelmakhV/hw310-keras-fasion-mnist/blob/main/keras_fasion_mnist_hw.ipynb\" target=\"_parent\"><img src=\"https://colab.research.google.com/assets/colab-badge.svg\" alt=\"Open In Colab\"/></a>"
      ]
    },
    {
      "cell_type": "code",
      "source": [
        "import tensorflow as tf\n",
        "from tensorflow.python.client import device_lib\n",
        "print(device_lib.list_local_devices())"
      ],
      "metadata": {
        "colab": {
          "base_uri": "https://localhost:8080/"
        },
        "id": "CQL6wYJUms6Y",
        "outputId": "521f5675-460c-43ad-c0ae-31208e8cd84e"
      },
      "execution_count": null,
      "outputs": [
        {
          "output_type": "stream",
          "name": "stdout",
          "text": [
            "[name: \"/device:CPU:0\"\n",
            "device_type: \"CPU\"\n",
            "memory_limit: 268435456\n",
            "locality {\n",
            "}\n",
            "incarnation: 15936691688325992871\n",
            "xla_global_id: -1\n",
            "]\n"
          ]
        }
      ]
    },
    {
      "cell_type": "code",
      "execution_count": null,
      "metadata": {
        "id": "vv7w0bgAVQPO"
      },
      "outputs": [],
      "source": [
        "import tensorflow as tf\n",
        "import numpy as np\n",
        "import matplotlib.pyplot as plt\n",
        "import tf_keras\n",
        "\n",
        "from keras import layers\n",
        "from keras import models\n",
        "from keras import regularizers\n",
        "from keras import callbacks\n",
        "from keras import initializers\n",
        "from keras.layers import BatchNormalization\n",
        "from keras.models import load_model\n",
        "from tensorflow.keras.utils import to_categorical"
      ]
    },
    {
      "cell_type": "code",
      "source": [
        "num_classes = 10"
      ],
      "metadata": {
        "id": "RvT1uYJsa5cn"
      },
      "execution_count": null,
      "outputs": []
    },
    {
      "cell_type": "code",
      "source": [
        "fashion_mnist = tf.keras.datasets.fashion_mnist\n",
        "\n",
        "(x_train, y_train), (x_test, y_test) = fashion_mnist.load_data()"
      ],
      "metadata": {
        "id": "mOpywsNAzfGB"
      },
      "execution_count": null,
      "outputs": []
    },
    {
      "cell_type": "code",
      "source": [
        "def drow_hist(data):\n",
        "  plt.figure(figsize=(8,6), dpi= 80)\n",
        "  _ = plt.hist(data,\n",
        "              bins=num_classes,\n",
        "              stacked=True,\n",
        "              density=False,\n",
        "              range=(0,10),\n",
        "              rwidth=0.9,\n",
        "              )"
      ],
      "metadata": {
        "id": "NjEvuOvomEoT"
      },
      "execution_count": null,
      "outputs": []
    },
    {
      "cell_type": "code",
      "source": [
        "# create validation data\n",
        "val_size =6000\n",
        "\n",
        "x_val = x_train[-val_size:, :, :]\n",
        "x_train = x_train[:-val_size, :, :]\n",
        "\n",
        "y_val = y_train[-val_size:]\n",
        "y_train = y_train[:-val_size]"
      ],
      "metadata": {
        "id": "jAs92sDoVU89"
      },
      "execution_count": null,
      "outputs": []
    },
    {
      "cell_type": "code",
      "source": [
        "x_train = x_train.astype('float32') / 255\n",
        "x_test = x_test.astype('float32') / 255\n",
        "x_val = x_val.astype('float32') / 255\n",
        "\n",
        "y_train = to_categorical(y_train)\n",
        "y_test = to_categorical(y_test)\n",
        "y_val = to_categorical(y_val)"
      ],
      "metadata": {
        "id": "t2gucjsJ0KUi"
      },
      "execution_count": null,
      "outputs": []
    },
    {
      "cell_type": "code",
      "source": [
        "w_init_tanh = initializers.glorot_normal(seed=111)\n",
        "w_init_relu = initializers.HeNormal(seed=66)\n",
        "# w_init_relu = initializers.HeUniform(seed=24)\n",
        "b_init = initializers.Zeros()"
      ],
      "metadata": {
        "id": "yL9QTEtBGy4N"
      },
      "execution_count": null,
      "outputs": []
    },
    {
      "cell_type": "code",
      "source": [
        "def layer_relu(model, neurons, drop_out):\n",
        "  model.add(BatchNormalization())\n",
        "  model.add(layers.Dense(neurons,\n",
        "                       activation='relu',\n",
        "                       kernel_initializer=w_init_relu,\n",
        "                       bias_initializer=b_init))\n",
        "  model.add(layers.Dropout(drop_out))\n",
        "  print(drop_out)\n",
        "  return model"
      ],
      "metadata": {
        "id": "ZZgs_25rKBCp"
      },
      "execution_count": null,
      "outputs": []
    },
    {
      "cell_type": "code",
      "source": [
        "def layer_tanh(model, neurons, drop_out):\n",
        "  model.add(BatchNormalization())\n",
        "  model.add(layers.Dense(neurons,\n",
        "                        activation='tanh',\n",
        "                        kernel_initializer=w_init_tanh,\n",
        "                        bias_initializer=b_init,\n",
        "                        kernel_regularizer=regularizers.L2(1e-5),\n",
        "                        bias_regularizer=regularizers.L2(1e-4),\n",
        "                        activity_regularizer=regularizers.L2(1e-5)\n",
        "                         )\n",
        "  )\n",
        "  model.add(layers.Dropout(drop_out))\n",
        "  return model"
      ],
      "metadata": {
        "id": "90JLLnkBR50t"
      },
      "execution_count": null,
      "outputs": []
    },
    {
      "cell_type": "code",
      "source": [
        "model = models.Sequential()\n",
        "\n",
        "neurons = 256\n",
        "drop_out = 0.35\n",
        "\n",
        "model.add(layers.Flatten(input_shape=(28, 28)))\n",
        "model.add(layers.Dropout(0.13))\n",
        "\n",
        "model = layer_relu(model, neurons*2, drop_out)\n",
        "model = layer_tanh(model, neurons*2, drop_out)\n",
        "model = layer_relu(model, neurons*2, drop_out)\n",
        "# model = layer_relu(model, neurons*2)\n",
        "\n",
        "\n",
        "model.add(layers.Dense(10, activation='softmax'))"
      ],
      "metadata": {
        "id": "atS39i4d0aqW",
        "colab": {
          "base_uri": "https://localhost:8080/"
        },
        "outputId": "e20a6e41-dc7e-43b2-e62e-912036f1a475"
      },
      "execution_count": null,
      "outputs": [
        {
          "output_type": "stream",
          "name": "stdout",
          "text": [
            "0.35\n",
            "0.35\n"
          ]
        }
      ]
    },
    {
      "cell_type": "markdown",
      "source": [
        "++++++++++++++++++++++++++++++++++++++++++++++++++++++++++++++++++++++++++++++++"
      ],
      "metadata": {
        "id": "tZO7hl7pM63y"
      }
    },
    {
      "cell_type": "code",
      "source": [
        "optimizer = tf.keras.optimizers.Nadam(learning_rate=0.0004,\n",
        "                                      beta_1=0.9,\n",
        "                                      beta_2=0.999,\n",
        "                                      epsilon=1e-06\n",
        ")\n",
        "# optimizer = tf.keras.optimizers.experimental.RMSprop(learning_rate=0.0005,\n",
        "#                                                     rho=0.5,\n",
        "#                                                     momentum=-16,\n",
        "#                                                     epsilon=1e-07,\n",
        "#                                                     centered=False,\n",
        "#                                                     weight_decay=None,\n",
        "#                                                     clipnorm=None,\n",
        "#                                                     clipvalue=None,\n",
        "#                                                     global_clipnorm=None,\n",
        "#                                                     use_ema=False,\n",
        "#                                                     ema_momentum=0.99,\n",
        "#                                                     ema_overwrite_frequency=100,\n",
        "#                                                     jit_compile=True,\n",
        "#                                                     name='RMSprop',\n",
        "# )"
      ],
      "metadata": {
        "id": "EzfnaqIZlfy8"
      },
      "execution_count": null,
      "outputs": []
    },
    {
      "cell_type": "markdown",
      "source": [
        "++++++++++++++++++++++++++++++++++++++++++++++++++++++++++++++++++++++++++++++++"
      ],
      "metadata": {
        "id": "KHmBptvOM95Z"
      }
    },
    {
      "cell_type": "code",
      "source": [
        "model.compile(#optimizer='adam',\n",
        "              # optimizer='adamax',\n",
        "              optimizer=optimizer,\n",
        "              # optimizer='rmsprop',\n",
        "              # optimizer='sgd',\n",
        "              # optimizer='adadelta',\n",
        "              # loss='binary_crossentropy',\n",
        "              loss=tf.keras.losses.CategoricalCrossentropy(),\n",
        "              metrics=['categorical_accuracy']) # sparse_categorical_accuracy"
      ],
      "metadata": {
        "id": "hENVaAC7ilNY"
      },
      "execution_count": null,
      "outputs": []
    },
    {
      "cell_type": "code",
      "source": [
        "# callback = callbacks.EarlyStopping(monitor='val_loss',\n",
        "#                                    patience=15,\n",
        "#                                    restore_best_weights=True,\n",
        "#                                    )\n",
        "es = callbacks.EarlyStopping(monitor='val_loss', mode='min', verbose=0, patience=60)\n",
        "mc = callbacks.ModelCheckpoint('best_model.h5', monitor='categorical_accuracy', mode='max', verbose=0, save_best_only=True)\n"
      ],
      "metadata": {
        "id": "5ihU4exVlsjm"
      },
      "execution_count": null,
      "outputs": []
    },
    {
      "cell_type": "code",
      "source": [
        "history = model.fit(x_train, y_train,\n",
        "                    epochs=500,\n",
        "                    batch_size=128,\n",
        "                    # callbacks=[callback],\n",
        "                    callbacks=[mc, es],\n",
        "                    verbose=1, #многословие\n",
        "                    # validation_split=0.2\n",
        "                    validation_data=(x_val, y_val)\n",
        "                    )\n",
        "test_loss, test_acc = model.evaluate(x_test, y_test)\n",
        "print('\\nTest accuracy:', test_acc)"
      ],
      "metadata": {
        "id": "FH8HcMNm233I",
        "outputId": "a21ebc99-5887-4b3d-98b5-e4d9497db74f",
        "colab": {
          "base_uri": "https://localhost:8080/"
        }
      },
      "execution_count": null,
      "outputs": [
        {
          "output_type": "stream",
          "name": "stdout",
          "text": [
            "Epoch 1/500\n",
            "422/422 [==============================] - 16s 32ms/step - loss: 0.7752 - categorical_accuracy: 0.7364 - val_loss: 0.4421 - val_categorical_accuracy: 0.8432\n",
            "Epoch 2/500\n",
            "422/422 [==============================] - 14s 33ms/step - loss: 0.5325 - categorical_accuracy: 0.8100 - val_loss: 0.3845 - val_categorical_accuracy: 0.8607\n",
            "Epoch 3/500\n",
            "422/422 [==============================] - 14s 33ms/step - loss: 0.4719 - categorical_accuracy: 0.8278 - val_loss: 0.3614 - val_categorical_accuracy: 0.8660\n",
            "Epoch 4/500\n",
            "422/422 [==============================] - 13s 32ms/step - loss: 0.4301 - categorical_accuracy: 0.8429 - val_loss: 0.3567 - val_categorical_accuracy: 0.8650\n",
            "Epoch 5/500\n",
            "422/422 [==============================] - 13s 32ms/step - loss: 0.4039 - categorical_accuracy: 0.8512 - val_loss: 0.3382 - val_categorical_accuracy: 0.8702\n",
            "Epoch 6/500\n",
            "422/422 [==============================] - 13s 32ms/step - loss: 0.3929 - categorical_accuracy: 0.8544 - val_loss: 0.3323 - val_categorical_accuracy: 0.8770\n",
            "Epoch 7/500\n",
            "422/422 [==============================] - 13s 32ms/step - loss: 0.3750 - categorical_accuracy: 0.8621 - val_loss: 0.3245 - val_categorical_accuracy: 0.8807\n",
            "Epoch 8/500\n",
            "422/422 [==============================] - 13s 32ms/step - loss: 0.3643 - categorical_accuracy: 0.8645 - val_loss: 0.3189 - val_categorical_accuracy: 0.8813\n",
            "Epoch 9/500\n",
            "422/422 [==============================] - 13s 32ms/step - loss: 0.3501 - categorical_accuracy: 0.8695 - val_loss: 0.3114 - val_categorical_accuracy: 0.8885\n",
            "Epoch 10/500\n",
            "422/422 [==============================] - 13s 32ms/step - loss: 0.3425 - categorical_accuracy: 0.8719 - val_loss: 0.3118 - val_categorical_accuracy: 0.8852\n",
            "Epoch 11/500\n",
            "422/422 [==============================] - 14s 32ms/step - loss: 0.3302 - categorical_accuracy: 0.8761 - val_loss: 0.3146 - val_categorical_accuracy: 0.8823\n",
            "Epoch 12/500\n",
            "422/422 [==============================] - 13s 32ms/step - loss: 0.3273 - categorical_accuracy: 0.8762 - val_loss: 0.3002 - val_categorical_accuracy: 0.8850\n",
            "Epoch 13/500\n",
            "422/422 [==============================] - 13s 31ms/step - loss: 0.3202 - categorical_accuracy: 0.8785 - val_loss: 0.2954 - val_categorical_accuracy: 0.8897\n",
            "Epoch 14/500\n",
            "422/422 [==============================] - 13s 32ms/step - loss: 0.3127 - categorical_accuracy: 0.8831 - val_loss: 0.2912 - val_categorical_accuracy: 0.8900\n",
            "Epoch 15/500\n",
            "422/422 [==============================] - 13s 32ms/step - loss: 0.3083 - categorical_accuracy: 0.8842 - val_loss: 0.2856 - val_categorical_accuracy: 0.8913\n",
            "Epoch 16/500\n",
            "422/422 [==============================] - 14s 33ms/step - loss: 0.3031 - categorical_accuracy: 0.8866 - val_loss: 0.2927 - val_categorical_accuracy: 0.8945\n",
            "Epoch 17/500\n",
            "422/422 [==============================] - 14s 32ms/step - loss: 0.3022 - categorical_accuracy: 0.8862 - val_loss: 0.3008 - val_categorical_accuracy: 0.8903\n",
            "Epoch 18/500\n",
            "422/422 [==============================] - 14s 32ms/step - loss: 0.2944 - categorical_accuracy: 0.8891 - val_loss: 0.2828 - val_categorical_accuracy: 0.8960\n",
            "Epoch 19/500\n",
            "422/422 [==============================] - 13s 32ms/step - loss: 0.2881 - categorical_accuracy: 0.8914 - val_loss: 0.2876 - val_categorical_accuracy: 0.8930\n",
            "Epoch 20/500\n",
            "422/422 [==============================] - 14s 32ms/step - loss: 0.2866 - categorical_accuracy: 0.8914 - val_loss: 0.2824 - val_categorical_accuracy: 0.8960\n",
            "Epoch 21/500\n",
            "422/422 [==============================] - 13s 32ms/step - loss: 0.2783 - categorical_accuracy: 0.8952 - val_loss: 0.2916 - val_categorical_accuracy: 0.8938\n",
            "Epoch 22/500\n",
            "422/422 [==============================] - 13s 32ms/step - loss: 0.2752 - categorical_accuracy: 0.8965 - val_loss: 0.2891 - val_categorical_accuracy: 0.8965\n",
            "Epoch 23/500\n",
            "422/422 [==============================] - 13s 32ms/step - loss: 0.2733 - categorical_accuracy: 0.8958 - val_loss: 0.2851 - val_categorical_accuracy: 0.8970\n",
            "Epoch 24/500\n",
            "422/422 [==============================] - 13s 32ms/step - loss: 0.2724 - categorical_accuracy: 0.8956 - val_loss: 0.2775 - val_categorical_accuracy: 0.8987\n",
            "Epoch 25/500\n",
            "422/422 [==============================] - 13s 32ms/step - loss: 0.2646 - categorical_accuracy: 0.8994 - val_loss: 0.2783 - val_categorical_accuracy: 0.8965\n",
            "Epoch 26/500\n",
            "422/422 [==============================] - 13s 32ms/step - loss: 0.2628 - categorical_accuracy: 0.8998 - val_loss: 0.2809 - val_categorical_accuracy: 0.8963\n",
            "Epoch 27/500\n",
            "422/422 [==============================] - 13s 32ms/step - loss: 0.2622 - categorical_accuracy: 0.9009 - val_loss: 0.2784 - val_categorical_accuracy: 0.8987\n",
            "Epoch 28/500\n",
            "422/422 [==============================] - 13s 32ms/step - loss: 0.2564 - categorical_accuracy: 0.9037 - val_loss: 0.2713 - val_categorical_accuracy: 0.9010\n",
            "Epoch 29/500\n",
            "422/422 [==============================] - 13s 32ms/step - loss: 0.2568 - categorical_accuracy: 0.9024 - val_loss: 0.2827 - val_categorical_accuracy: 0.8977\n",
            "Epoch 30/500\n",
            "422/422 [==============================] - 13s 31ms/step - loss: 0.2532 - categorical_accuracy: 0.9034 - val_loss: 0.2761 - val_categorical_accuracy: 0.9003\n",
            "Epoch 31/500\n",
            "422/422 [==============================] - 14s 33ms/step - loss: 0.2484 - categorical_accuracy: 0.9059 - val_loss: 0.2775 - val_categorical_accuracy: 0.9008\n",
            "Epoch 32/500\n",
            "422/422 [==============================] - 14s 33ms/step - loss: 0.2489 - categorical_accuracy: 0.9055 - val_loss: 0.2858 - val_categorical_accuracy: 0.8983\n",
            "Epoch 33/500\n",
            "422/422 [==============================] - 14s 32ms/step - loss: 0.2503 - categorical_accuracy: 0.9037 - val_loss: 0.2740 - val_categorical_accuracy: 0.9010\n",
            "Epoch 34/500\n",
            "422/422 [==============================] - 14s 32ms/step - loss: 0.2441 - categorical_accuracy: 0.9075 - val_loss: 0.2780 - val_categorical_accuracy: 0.9007\n",
            "Epoch 35/500\n",
            "422/422 [==============================] - 13s 32ms/step - loss: 0.2444 - categorical_accuracy: 0.9069 - val_loss: 0.2799 - val_categorical_accuracy: 0.9002\n",
            "Epoch 36/500\n",
            "422/422 [==============================] - 13s 32ms/step - loss: 0.2406 - categorical_accuracy: 0.9076 - val_loss: 0.2763 - val_categorical_accuracy: 0.8998\n",
            "Epoch 37/500\n",
            "422/422 [==============================] - 13s 32ms/step - loss: 0.2382 - categorical_accuracy: 0.9082 - val_loss: 0.2781 - val_categorical_accuracy: 0.9000\n",
            "Epoch 38/500\n",
            "422/422 [==============================] - 13s 32ms/step - loss: 0.2360 - categorical_accuracy: 0.9104 - val_loss: 0.2739 - val_categorical_accuracy: 0.9023\n",
            "Epoch 39/500\n",
            "422/422 [==============================] - 13s 32ms/step - loss: 0.2343 - categorical_accuracy: 0.9120 - val_loss: 0.2756 - val_categorical_accuracy: 0.9015\n",
            "Epoch 40/500\n",
            "422/422 [==============================] - 13s 32ms/step - loss: 0.2327 - categorical_accuracy: 0.9112 - val_loss: 0.2738 - val_categorical_accuracy: 0.9030\n",
            "Epoch 41/500\n",
            "422/422 [==============================] - 13s 32ms/step - loss: 0.2317 - categorical_accuracy: 0.9112 - val_loss: 0.2752 - val_categorical_accuracy: 0.9025\n",
            "Epoch 42/500\n",
            "422/422 [==============================] - 14s 32ms/step - loss: 0.2302 - categorical_accuracy: 0.9124 - val_loss: 0.2747 - val_categorical_accuracy: 0.9053\n",
            "Epoch 43/500\n",
            "422/422 [==============================] - 14s 32ms/step - loss: 0.2262 - categorical_accuracy: 0.9133 - val_loss: 0.2799 - val_categorical_accuracy: 0.9003\n",
            "Epoch 44/500\n",
            "422/422 [==============================] - 13s 32ms/step - loss: 0.2257 - categorical_accuracy: 0.9137 - val_loss: 0.2756 - val_categorical_accuracy: 0.9048\n",
            "Epoch 45/500\n",
            "422/422 [==============================] - 14s 33ms/step - loss: 0.2227 - categorical_accuracy: 0.9135 - val_loss: 0.2735 - val_categorical_accuracy: 0.9038\n",
            "Epoch 46/500\n",
            "422/422 [==============================] - 14s 33ms/step - loss: 0.2238 - categorical_accuracy: 0.9147 - val_loss: 0.2767 - val_categorical_accuracy: 0.9043\n",
            "Epoch 47/500\n",
            "422/422 [==============================] - 13s 32ms/step - loss: 0.2225 - categorical_accuracy: 0.9144 - val_loss: 0.2734 - val_categorical_accuracy: 0.9008\n",
            "Epoch 48/500\n",
            "422/422 [==============================] - 13s 32ms/step - loss: 0.2179 - categorical_accuracy: 0.9158 - val_loss: 0.2794 - val_categorical_accuracy: 0.9053\n",
            "Epoch 49/500\n",
            "422/422 [==============================] - 13s 32ms/step - loss: 0.2173 - categorical_accuracy: 0.9173 - val_loss: 0.2756 - val_categorical_accuracy: 0.9045\n",
            "Epoch 50/500\n",
            "422/422 [==============================] - 13s 32ms/step - loss: 0.2214 - categorical_accuracy: 0.9163 - val_loss: 0.2787 - val_categorical_accuracy: 0.9027\n",
            "Epoch 51/500\n",
            "422/422 [==============================] - 14s 32ms/step - loss: 0.2165 - categorical_accuracy: 0.9170 - val_loss: 0.2781 - val_categorical_accuracy: 0.9013\n",
            "Epoch 52/500\n",
            "422/422 [==============================] - 13s 32ms/step - loss: 0.2139 - categorical_accuracy: 0.9172 - val_loss: 0.2772 - val_categorical_accuracy: 0.9035\n",
            "Epoch 53/500\n",
            "422/422 [==============================] - 13s 32ms/step - loss: 0.2140 - categorical_accuracy: 0.9174 - val_loss: 0.2831 - val_categorical_accuracy: 0.9030\n",
            "Epoch 54/500\n",
            "422/422 [==============================] - 13s 32ms/step - loss: 0.2137 - categorical_accuracy: 0.9179 - val_loss: 0.2754 - val_categorical_accuracy: 0.9042\n",
            "Epoch 55/500\n",
            "422/422 [==============================] - 14s 32ms/step - loss: 0.2086 - categorical_accuracy: 0.9203 - val_loss: 0.2794 - val_categorical_accuracy: 0.9040\n",
            "Epoch 56/500\n",
            "422/422 [==============================] - 13s 32ms/step - loss: 0.2092 - categorical_accuracy: 0.9193 - val_loss: 0.2853 - val_categorical_accuracy: 0.9015\n",
            "Epoch 57/500\n",
            "422/422 [==============================] - 14s 32ms/step - loss: 0.2054 - categorical_accuracy: 0.9205 - val_loss: 0.2876 - val_categorical_accuracy: 0.9030\n",
            "Epoch 58/500\n",
            "422/422 [==============================] - 13s 32ms/step - loss: 0.2067 - categorical_accuracy: 0.9214 - val_loss: 0.2817 - val_categorical_accuracy: 0.9065\n",
            "Epoch 59/500\n",
            "422/422 [==============================] - 14s 33ms/step - loss: 0.2052 - categorical_accuracy: 0.9219 - val_loss: 0.2946 - val_categorical_accuracy: 0.9017\n",
            "Epoch 60/500\n",
            "422/422 [==============================] - 14s 33ms/step - loss: 0.2066 - categorical_accuracy: 0.9206 - val_loss: 0.2809 - val_categorical_accuracy: 0.9047\n",
            "Epoch 61/500\n",
            "422/422 [==============================] - 13s 32ms/step - loss: 0.2060 - categorical_accuracy: 0.9213 - val_loss: 0.2751 - val_categorical_accuracy: 0.9060\n",
            "Epoch 62/500\n",
            "422/422 [==============================] - 13s 32ms/step - loss: 0.2026 - categorical_accuracy: 0.9219 - val_loss: 0.2807 - val_categorical_accuracy: 0.9040\n",
            "Epoch 63/500\n",
            "422/422 [==============================] - 13s 32ms/step - loss: 0.2044 - categorical_accuracy: 0.9223 - val_loss: 0.2768 - val_categorical_accuracy: 0.9050\n",
            "Epoch 64/500\n",
            "422/422 [==============================] - 14s 32ms/step - loss: 0.1992 - categorical_accuracy: 0.9231 - val_loss: 0.2703 - val_categorical_accuracy: 0.9103\n",
            "Epoch 65/500\n",
            "422/422 [==============================] - 13s 32ms/step - loss: 0.2013 - categorical_accuracy: 0.9226 - val_loss: 0.2776 - val_categorical_accuracy: 0.9040\n",
            "Epoch 66/500\n",
            "422/422 [==============================] - 13s 32ms/step - loss: 0.2029 - categorical_accuracy: 0.9226 - val_loss: 0.2780 - val_categorical_accuracy: 0.9063\n",
            "Epoch 67/500\n",
            "422/422 [==============================] - 14s 32ms/step - loss: 0.1967 - categorical_accuracy: 0.9245 - val_loss: 0.2761 - val_categorical_accuracy: 0.9080\n",
            "Epoch 68/500\n",
            "422/422 [==============================] - 13s 32ms/step - loss: 0.1991 - categorical_accuracy: 0.9234 - val_loss: 0.2781 - val_categorical_accuracy: 0.9062\n",
            "Epoch 69/500\n",
            "422/422 [==============================] - 13s 32ms/step - loss: 0.1975 - categorical_accuracy: 0.9228 - val_loss: 0.2796 - val_categorical_accuracy: 0.9033\n",
            "Epoch 70/500\n",
            "422/422 [==============================] - 14s 32ms/step - loss: 0.1951 - categorical_accuracy: 0.9250 - val_loss: 0.2852 - val_categorical_accuracy: 0.9037\n",
            "Epoch 71/500\n",
            "422/422 [==============================] - 13s 32ms/step - loss: 0.1926 - categorical_accuracy: 0.9263 - val_loss: 0.2774 - val_categorical_accuracy: 0.9053\n",
            "Epoch 72/500\n",
            "422/422 [==============================] - 14s 32ms/step - loss: 0.1923 - categorical_accuracy: 0.9256 - val_loss: 0.2751 - val_categorical_accuracy: 0.9027\n",
            "Epoch 73/500\n",
            "422/422 [==============================] - 14s 34ms/step - loss: 0.1961 - categorical_accuracy: 0.9254 - val_loss: 0.2834 - val_categorical_accuracy: 0.9057\n",
            "Epoch 74/500\n",
            "422/422 [==============================] - 14s 32ms/step - loss: 0.1932 - categorical_accuracy: 0.9263 - val_loss: 0.2835 - val_categorical_accuracy: 0.9047\n",
            "Epoch 75/500\n",
            "422/422 [==============================] - 13s 32ms/step - loss: 0.1940 - categorical_accuracy: 0.9256 - val_loss: 0.2791 - val_categorical_accuracy: 0.9070\n",
            "Epoch 76/500\n",
            "422/422 [==============================] - 13s 32ms/step - loss: 0.1917 - categorical_accuracy: 0.9275 - val_loss: 0.2855 - val_categorical_accuracy: 0.9025\n",
            "Epoch 77/500\n",
            "422/422 [==============================] - 14s 32ms/step - loss: 0.1905 - categorical_accuracy: 0.9259 - val_loss: 0.2859 - val_categorical_accuracy: 0.9047\n",
            "Epoch 78/500\n",
            "422/422 [==============================] - 14s 32ms/step - loss: 0.1869 - categorical_accuracy: 0.9280 - val_loss: 0.2868 - val_categorical_accuracy: 0.9058\n",
            "Epoch 79/500\n",
            "422/422 [==============================] - 14s 32ms/step - loss: 0.1835 - categorical_accuracy: 0.9293 - val_loss: 0.2800 - val_categorical_accuracy: 0.9082\n",
            "Epoch 80/500\n",
            "422/422 [==============================] - 13s 32ms/step - loss: 0.1886 - categorical_accuracy: 0.9288 - val_loss: 0.2913 - val_categorical_accuracy: 0.9053\n",
            "Epoch 81/500\n",
            "422/422 [==============================] - 13s 32ms/step - loss: 0.1854 - categorical_accuracy: 0.9297 - val_loss: 0.2833 - val_categorical_accuracy: 0.9058\n",
            "Epoch 82/500\n",
            "422/422 [==============================] - 14s 32ms/step - loss: 0.1875 - categorical_accuracy: 0.9289 - val_loss: 0.2920 - val_categorical_accuracy: 0.9062\n",
            "Epoch 83/500\n",
            "422/422 [==============================] - 13s 32ms/step - loss: 0.1843 - categorical_accuracy: 0.9297 - val_loss: 0.2863 - val_categorical_accuracy: 0.9063\n",
            "Epoch 84/500\n",
            "422/422 [==============================] - 14s 32ms/step - loss: 0.1845 - categorical_accuracy: 0.9297 - val_loss: 0.2893 - val_categorical_accuracy: 0.9043\n",
            "Epoch 85/500\n",
            "422/422 [==============================] - 14s 33ms/step - loss: 0.1836 - categorical_accuracy: 0.9293 - val_loss: 0.2849 - val_categorical_accuracy: 0.9063\n",
            "Epoch 86/500\n",
            "422/422 [==============================] - 14s 34ms/step - loss: 0.1830 - categorical_accuracy: 0.9304 - val_loss: 0.2842 - val_categorical_accuracy: 0.9063\n",
            "Epoch 87/500\n",
            "422/422 [==============================] - 14s 32ms/step - loss: 0.1843 - categorical_accuracy: 0.9305 - val_loss: 0.2951 - val_categorical_accuracy: 0.9062\n",
            "Epoch 88/500\n",
            "422/422 [==============================] - 14s 32ms/step - loss: 0.1782 - categorical_accuracy: 0.9308 - val_loss: 0.2842 - val_categorical_accuracy: 0.9073\n",
            "Epoch 89/500\n",
            "422/422 [==============================] - 14s 32ms/step - loss: 0.1806 - categorical_accuracy: 0.9320 - val_loss: 0.2802 - val_categorical_accuracy: 0.9082\n",
            "Epoch 90/500\n",
            "422/422 [==============================] - 14s 32ms/step - loss: 0.1825 - categorical_accuracy: 0.9296 - val_loss: 0.2844 - val_categorical_accuracy: 0.9073\n",
            "Epoch 91/500\n",
            "422/422 [==============================] - 14s 32ms/step - loss: 0.1783 - categorical_accuracy: 0.9324 - val_loss: 0.2889 - val_categorical_accuracy: 0.9057\n",
            "Epoch 92/500\n",
            "422/422 [==============================] - 13s 32ms/step - loss: 0.1749 - categorical_accuracy: 0.9335 - val_loss: 0.2905 - val_categorical_accuracy: 0.9073\n",
            "Epoch 93/500\n",
            "422/422 [==============================] - 13s 32ms/step - loss: 0.1789 - categorical_accuracy: 0.9306 - val_loss: 0.2844 - val_categorical_accuracy: 0.9047\n",
            "Epoch 94/500\n",
            "422/422 [==============================] - 13s 32ms/step - loss: 0.1743 - categorical_accuracy: 0.9331 - val_loss: 0.2955 - val_categorical_accuracy: 0.9053\n",
            "Epoch 95/500\n",
            "422/422 [==============================] - 13s 32ms/step - loss: 0.1758 - categorical_accuracy: 0.9317 - val_loss: 0.2915 - val_categorical_accuracy: 0.9070\n",
            "Epoch 96/500\n",
            "422/422 [==============================] - 14s 33ms/step - loss: 0.1791 - categorical_accuracy: 0.9328 - val_loss: 0.2830 - val_categorical_accuracy: 0.9083\n",
            "Epoch 97/500\n",
            "422/422 [==============================] - 14s 33ms/step - loss: 0.1774 - categorical_accuracy: 0.9337 - val_loss: 0.2969 - val_categorical_accuracy: 0.9068\n",
            "Epoch 98/500\n",
            "422/422 [==============================] - 14s 34ms/step - loss: 0.1749 - categorical_accuracy: 0.9329 - val_loss: 0.2896 - val_categorical_accuracy: 0.9048\n",
            "Epoch 99/500\n",
            "422/422 [==============================] - 14s 33ms/step - loss: 0.1743 - categorical_accuracy: 0.9331 - val_loss: 0.2834 - val_categorical_accuracy: 0.9067\n",
            "Epoch 100/500\n",
            "422/422 [==============================] - 14s 32ms/step - loss: 0.1727 - categorical_accuracy: 0.9332 - val_loss: 0.2956 - val_categorical_accuracy: 0.9070\n",
            "Epoch 101/500\n",
            "422/422 [==============================] - 14s 32ms/step - loss: 0.1727 - categorical_accuracy: 0.9347 - val_loss: 0.3053 - val_categorical_accuracy: 0.9073\n",
            "Epoch 102/500\n",
            "422/422 [==============================] - 14s 32ms/step - loss: 0.1755 - categorical_accuracy: 0.9335 - val_loss: 0.2882 - val_categorical_accuracy: 0.9103\n",
            "Epoch 103/500\n",
            "422/422 [==============================] - 14s 32ms/step - loss: 0.1711 - categorical_accuracy: 0.9348 - val_loss: 0.2992 - val_categorical_accuracy: 0.9085\n",
            "Epoch 104/500\n",
            "422/422 [==============================] - 14s 32ms/step - loss: 0.1735 - categorical_accuracy: 0.9337 - val_loss: 0.2914 - val_categorical_accuracy: 0.9090\n",
            "Epoch 105/500\n",
            "422/422 [==============================] - 14s 32ms/step - loss: 0.1732 - categorical_accuracy: 0.9346 - val_loss: 0.2960 - val_categorical_accuracy: 0.9045\n",
            "Epoch 106/500\n",
            "422/422 [==============================] - 14s 32ms/step - loss: 0.1702 - categorical_accuracy: 0.9341 - val_loss: 0.2963 - val_categorical_accuracy: 0.9070\n",
            "Epoch 107/500\n",
            "422/422 [==============================] - 14s 32ms/step - loss: 0.1710 - categorical_accuracy: 0.9349 - val_loss: 0.2979 - val_categorical_accuracy: 0.9057\n",
            "Epoch 108/500\n",
            "422/422 [==============================] - 14s 32ms/step - loss: 0.1699 - categorical_accuracy: 0.9347 - val_loss: 0.2994 - val_categorical_accuracy: 0.9058\n",
            "Epoch 109/500\n",
            "422/422 [==============================] - 14s 32ms/step - loss: 0.1721 - categorical_accuracy: 0.9346 - val_loss: 0.2832 - val_categorical_accuracy: 0.9073\n",
            "Epoch 110/500\n",
            "422/422 [==============================] - 14s 33ms/step - loss: 0.1682 - categorical_accuracy: 0.9353 - val_loss: 0.2997 - val_categorical_accuracy: 0.9063\n",
            "Epoch 111/500\n",
            "422/422 [==============================] - 14s 33ms/step - loss: 0.1673 - categorical_accuracy: 0.9356 - val_loss: 0.2951 - val_categorical_accuracy: 0.9065\n",
            "Epoch 112/500\n",
            "422/422 [==============================] - 14s 33ms/step - loss: 0.1694 - categorical_accuracy: 0.9361 - val_loss: 0.2916 - val_categorical_accuracy: 0.9107\n",
            "Epoch 113/500\n",
            "422/422 [==============================] - 14s 32ms/step - loss: 0.1708 - categorical_accuracy: 0.9351 - val_loss: 0.2860 - val_categorical_accuracy: 0.9063\n",
            "Epoch 114/500\n",
            "422/422 [==============================] - 14s 32ms/step - loss: 0.1667 - categorical_accuracy: 0.9359 - val_loss: 0.3011 - val_categorical_accuracy: 0.9058\n",
            "Epoch 115/500\n",
            "422/422 [==============================] - 14s 32ms/step - loss: 0.1680 - categorical_accuracy: 0.9370 - val_loss: 0.2955 - val_categorical_accuracy: 0.9073\n",
            "Epoch 116/500\n",
            "422/422 [==============================] - 13s 32ms/step - loss: 0.1729 - categorical_accuracy: 0.9346 - val_loss: 0.2885 - val_categorical_accuracy: 0.9087\n",
            "Epoch 117/500\n",
            "422/422 [==============================] - 14s 32ms/step - loss: 0.1680 - categorical_accuracy: 0.9367 - val_loss: 0.2895 - val_categorical_accuracy: 0.9107\n",
            "Epoch 118/500\n",
            "422/422 [==============================] - 14s 32ms/step - loss: 0.1670 - categorical_accuracy: 0.9368 - val_loss: 0.2900 - val_categorical_accuracy: 0.9088\n",
            "Epoch 119/500\n",
            "422/422 [==============================] - 14s 32ms/step - loss: 0.1644 - categorical_accuracy: 0.9367 - val_loss: 0.2889 - val_categorical_accuracy: 0.9077\n",
            "Epoch 120/500\n",
            "422/422 [==============================] - 14s 32ms/step - loss: 0.1666 - categorical_accuracy: 0.9369 - val_loss: 0.2918 - val_categorical_accuracy: 0.9082\n",
            "Epoch 121/500\n",
            "422/422 [==============================] - 14s 32ms/step - loss: 0.1661 - categorical_accuracy: 0.9365 - val_loss: 0.2973 - val_categorical_accuracy: 0.9068\n",
            "Epoch 122/500\n",
            "422/422 [==============================] - 14s 33ms/step - loss: 0.1649 - categorical_accuracy: 0.9365 - val_loss: 0.2939 - val_categorical_accuracy: 0.9068\n",
            "Epoch 123/500\n",
            "422/422 [==============================] - 14s 34ms/step - loss: 0.1675 - categorical_accuracy: 0.9358 - val_loss: 0.2965 - val_categorical_accuracy: 0.9073\n",
            "Epoch 124/500\n",
            "422/422 [==============================] - 14s 32ms/step - loss: 0.1624 - categorical_accuracy: 0.9377 - val_loss: 0.2932 - val_categorical_accuracy: 0.9085\n",
            "313/313 [==============================] - 1s 3ms/step - loss: 0.3133 - categorical_accuracy: 0.9035\n",
            "\n",
            "Test accuracy: 0.9035000205039978\n"
          ]
        }
      ]
    },
    {
      "cell_type": "code",
      "source": [
        "print('\\nhistory dict:', list(history.history.keys()))"
      ],
      "metadata": {
        "id": "CxRE-B_Q6Sii",
        "outputId": "add9fae9-4913-4700-ae66-2f82095ff27a",
        "colab": {
          "base_uri": "https://localhost:8080/"
        }
      },
      "execution_count": null,
      "outputs": [
        {
          "output_type": "stream",
          "name": "stdout",
          "text": [
            "\n",
            "history dict: ['loss', 'categorical_accuracy', 'val_loss', 'val_categorical_accuracy']\n"
          ]
        }
      ]
    },
    {
      "cell_type": "code",
      "source": [
        "result = model.evaluate(x_test, y_test)\n",
        "print(result)"
      ],
      "metadata": {
        "id": "YXpwRRTvTBNg",
        "outputId": "0f50ffc9-2865-48ac-dda8-983881ce0c46",
        "colab": {
          "base_uri": "https://localhost:8080/"
        }
      },
      "execution_count": null,
      "outputs": [
        {
          "output_type": "stream",
          "name": "stdout",
          "text": [
            "313/313 [==============================] - 2s 5ms/step - loss: 0.3133 - categorical_accuracy: 0.9035\n",
            "[0.31331416964530945, 0.9035000205039978]\n"
          ]
        }
      ]
    },
    {
      "cell_type": "code",
      "source": [
        "saved_model = load_model('best_model.h5')\n",
        "result = saved_model.evaluate(x_test, y_test)\n",
        "print(result)"
      ],
      "metadata": {
        "id": "dpaZAW0vp1AZ",
        "outputId": "f5e68f95-c153-4ac4-d729-fa4df546ad8d",
        "colab": {
          "base_uri": "https://localhost:8080/"
        }
      },
      "execution_count": null,
      "outputs": [
        {
          "output_type": "stream",
          "name": "stdout",
          "text": [
            "313/313 [==============================] - 1s 4ms/step - loss: 0.3133 - categorical_accuracy: 0.9035\n",
            "[0.31331416964530945, 0.9035000205039978]\n"
          ]
        }
      ]
    },
    {
      "cell_type": "code",
      "source": [
        "# from keras.models import load_model\n",
        "# saved_model = load_model('best_model.h5')\n",
        "# # _, train_acc = saved_model.evaluate(x_train, y_train, verbose=0)\n",
        "# _, test_acc = saved_model.evaluate(x_test, y_test, verbose=0)\n",
        "# print('Test: %.3f' % (test_acc))"
      ],
      "metadata": {
        "id": "DR_MS9DABo_K"
      },
      "execution_count": null,
      "outputs": []
    },
    {
      "cell_type": "code",
      "source": [
        "history_dict = history.history\n",
        "loss_values = history_dict['loss']\n",
        "val_loss_values = history_dict['val_loss']\n",
        "\n",
        "epochs = range(1, len(history_dict['loss']) + 1)\n",
        "\n",
        "plt.figure(figsize=(10, 5))\n",
        "plt.plot(epochs, loss_values, 'bo', label='Training loss')\n",
        "plt.plot(epochs, val_loss_values, 'r', label='Validation loss')\n",
        "# plt.ylim (0.2, 0.5)\n",
        "plt.title('Training and validation loss')\n",
        "plt.xlabel('Epochs')\n",
        "plt.ylabel('Loss')\n",
        "plt.legend()\n",
        "plt.grid(True)\n",
        "plt.show()\n",
        "1\n",
        "plt.clf()\n",
        "plt.figure(figsize=(10, 5))\n",
        "val_acc_values = history_dict['categorical_accuracy']\n",
        "plt.plot(epochs, history_dict['categorical_accuracy'], 'bo', label='Training acc')\n",
        "plt.plot(epochs, history_dict['val_categorical_accuracy'], 'r', label='Validation acc')\n",
        "plt.ylim (0.86, 0.94)\n",
        "plt.title('Training and validation accuracy')\n",
        "plt.xlabel('Epochs')\n",
        "plt.ylabel('Accuracy')\n",
        "plt.legend()\n",
        "plt.grid(True)"
      ],
      "metadata": {
        "id": "2Ll_5sGlXKMH",
        "outputId": "d10bd910-18ce-4c47-f9e2-52ba150d25e0",
        "colab": {
          "base_uri": "https://localhost:8080/",
          "height": 975
        }
      },
      "execution_count": null,
      "outputs": [
        {
          "output_type": "display_data",
          "data": {
            "text/plain": [
              "<Figure size 1000x500 with 1 Axes>"
            ],
            "image/png": "[encoded data removed]"
          },
          "metadata": {}
        },
        {
          "output_type": "display_data",
          "data": {
            "text/plain": [
              "<Figure size 640x480 with 0 Axes>"
            ]
          },
          "metadata": {}
        },
        {
          "output_type": "display_data",
          "data": {
            "text/plain": [
              "<Figure size 1000x500 with 1 Axes>"
            ],
            "image/png": "[encoded data removed]"
          },
          "metadata": {}
        }
      ]
    },
    {
      "cell_type": "code",
      "source": [
        "probability_model = tf.keras.Sequential([model,\n",
        "                                         tf.keras.layers.Softmax()])"
      ],
      "metadata": {
        "id": "VzOdKAT_uV-f"
      },
      "execution_count": null,
      "outputs": []
    },
    {
      "cell_type": "code",
      "source": [
        "predictions = probability_model.predict(x_test)"
      ],
      "metadata": {
        "id": "f4is3NFruYom",
        "outputId": "87d31559-9d0f-448d-c814-fd787bf333cf",
        "colab": {
          "base_uri": "https://localhost:8080/"
        }
      },
      "execution_count": null,
      "outputs": [
        {
          "output_type": "stream",
          "name": "stdout",
          "text": [
            "313/313 [==============================] - 1s 3ms/step\n"
          ]
        }
      ]
    },
    {
      "cell_type": "code",
      "source": [
        "predictions[0]"
      ],
      "metadata": {
        "id": "82cigvlZudz_",
        "outputId": "8e212f9b-69c0-4c24-d99a-6db2496ba65d",
        "colab": {
          "base_uri": "https://localhost:8080/"
        }
      },
      "execution_count": null,
      "outputs": [
        {
          "output_type": "execute_result",
          "data": {
            "text/plain": [
              "array([0.08533873, 0.08533873, 0.08533873, 0.08533873, 0.08533873,\n",
              "       0.08533956, 0.08533873, 0.08535141, 0.08533873, 0.23193799],\n",
              "      dtype=float32)"
            ]
          },
          "metadata": {},
          "execution_count": 143
        }
      ]
    },
    {
      "cell_type": "code",
      "source": [
        "model.summary()"
      ],
      "metadata": {
        "id": "6RsQPHyYuNGe",
        "outputId": "b9659249-371f-4449-ae9c-a255659be91a",
        "colab": {
          "base_uri": "https://localhost:8080/"
        }
      },
      "execution_count": null,
      "outputs": [
        {
          "output_type": "stream",
          "name": "stdout",
          "text": [
            "Model: \"sequential_6\"\n",
            "_________________________________________________________________\n",
            " Layer (type)                Output Shape              Param #   \n",
            "=================================================================\n",
            " flatten_3 (Flatten)         (None, 784)               0         \n",
            "                                                                 \n",
            " dropout_12 (Dropout)        (None, 784)               0         \n",
            "                                                                 \n",
            " batch_normalization_9 (Bat  (None, 784)               3136      \n",
            " chNormalization)                                                \n",
            "                                                                 \n",
            " dense_12 (Dense)            (None, 512)               401920    \n",
            "                                                                 \n",
            " dropout_13 (Dropout)        (None, 512)               0         \n",
            "                                                                 \n",
            " batch_normalization_10 (Ba  (None, 512)               2048      \n",
            " tchNormalization)                                               \n",
            "                                                                 \n",
            " dense_13 (Dense)            (None, 512)               262656    \n",
            "                                                                 \n",
            " dropout_14 (Dropout)        (None, 512)               0         \n",
            "                                                                 \n",
            " batch_normalization_11 (Ba  (None, 512)               2048      \n",
            " tchNormalization)                                               \n",
            "                                                                 \n",
            " dense_14 (Dense)            (None, 512)               262656    \n",
            "                                                                 \n",
            " dropout_15 (Dropout)        (None, 512)               0         \n",
            "                                                                 \n",
            " dense_15 (Dense)            (None, 10)                5130      \n",
            "                                                                 \n",
            "=================================================================\n",
            "Total params: 939594 (3.58 MB)\n",
            "Trainable params: 935978 (3.57 MB)\n",
            "Non-trainable params: 3616 (14.12 KB)\n",
            "_________________________________________________________________\n"
          ]
        }
      ]
    }
  ]
}