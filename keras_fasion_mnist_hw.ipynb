{
  "nbformat": 4,
  "nbformat_minor": 0,
  "metadata": {
    "colab": {
      "provenance": [],
      "gpuType": "T4",
      "authorship_tag": "ABX9TyN14fpTKzjmQxJqhXnFR6GV",
      "include_colab_link": true
    },
    "kernelspec": {
      "name": "python3",
      "display_name": "Python 3"
    },
    "language_info": {
      "name": "python"
    },
    "accelerator": "GPU"
  },
  "cells": [
    {
      "cell_type": "markdown",
      "metadata": {
        "id": "view-in-github",
        "colab_type": "text"
      },
      "source": [
        "<a href=\"https://colab.research.google.com/github/PavelStelmakhV/hw310-keras-fasion-mnist/blob/main/keras_fasion_mnist_hw.ipynb\" target=\"_parent\"><img src=\"https://colab.research.google.com/assets/colab-badge.svg\" alt=\"Open In Colab\"/></a>"
      ]
    },
    {
      "cell_type": "code",
      "execution_count": 76,
      "metadata": {
        "id": "vv7w0bgAVQPO"
      },
      "outputs": [],
      "source": [
        "import tensorflow as tf\n",
        "import numpy as np\n",
        "import matplotlib.pyplot as plt\n",
        "import tf_keras\n",
        "\n",
        "from keras import layers\n",
        "from keras import regularizers\n",
        "from keras import callbacks\n",
        "from keras import initializers\n",
        "from keras.layers import BatchNormalization\n",
        "from keras.models import load_model"
      ]
    },
    {
      "cell_type": "code",
      "source": [
        "fashion_mnist = tf.keras.datasets.fashion_mnist\n",
        "\n",
        "(x_train, y_train), (x_test, y_test) = fashion_mnist.load_data()"
      ],
      "metadata": {
        "id": "mOpywsNAzfGB"
      },
      "execution_count": 77,
      "outputs": []
    },
    {
      "cell_type": "code",
      "source": [
        "x_train = x_train.astype('float32') / 255\n",
        "x_test = x_test.astype('float32') / 255\n",
        "\n",
        "y_train = y_train.astype('float32')\n",
        "y_test = y_test.astype('float32')"
      ],
      "metadata": {
        "id": "t2gucjsJ0KUi"
      },
      "execution_count": 78,
      "outputs": []
    },
    {
      "cell_type": "code",
      "source": [
        "w_init_tanh = initializers.glorot_normal(seed=111)\n",
        "# w_init_relu = initializers.HeNormal(seed=66)\n",
        "w_init_relu = initializers.HeUniform(seed=24)\n",
        "b_init = initializers.Zeros()"
      ],
      "metadata": {
        "id": "yL9QTEtBGy4N"
      },
      "execution_count": 79,
      "outputs": []
    },
    {
      "cell_type": "code",
      "source": [
        "drop_out = 0.33"
      ],
      "metadata": {
        "id": "flsDcVTnU10J"
      },
      "execution_count": 80,
      "outputs": []
    },
    {
      "cell_type": "code",
      "source": [
        "def layer_relu(model, neurons):\n",
        "  model.add(BatchNormalization())\n",
        "  model.add(layers.Dense(neurons,\n",
        "                       activation='relu',\n",
        "                       kernel_initializer=w_init_relu,\n",
        "                       bias_initializer=b_init))\n",
        "  model.add(layers.Dropout(drop_out))\n",
        "  return model"
      ],
      "metadata": {
        "id": "ZZgs_25rKBCp"
      },
      "execution_count": 81,
      "outputs": []
    },
    {
      "cell_type": "code",
      "source": [
        "def layer_tanh(model, neurons):\n",
        "  model.add(BatchNormalization())\n",
        "  model.add(layers.Dense(neurons,\n",
        "                        activation='tanh',\n",
        "                        kernel_initializer=w_init_tanh,\n",
        "                        bias_initializer=b_init))\n",
        "  model.add(layers.Dropout(drop_out))\n",
        "  return model"
      ],
      "metadata": {
        "id": "90JLLnkBR50t"
      },
      "execution_count": 82,
      "outputs": []
    },
    {
      "cell_type": "code",
      "source": [],
      "metadata": {
        "id": "Va9BaQ9eG_uz"
      },
      "execution_count": 82,
      "outputs": []
    },
    {
      "cell_type": "code",
      "source": [
        "model = tf.keras.Sequential()\n",
        "\n",
        "neurons = 256\n",
        "\n",
        "model.add(layers.Flatten(input_shape=(28, 28)))\n",
        "model.add(layers.Dropout(drop_out))\n",
        "\n",
        "model = layer_relu(model, neurons*1)\n",
        "model = layer_relu(model, neurons*1)\n",
        "model = layer_tanh(model, neurons*2)\n",
        "model = layer_relu(model, neurons*2)\n",
        "\n",
        "model.add(layers.Dense(10, activation='softmax'))"
      ],
      "metadata": {
        "id": "atS39i4d0aqW"
      },
      "execution_count": 83,
      "outputs": []
    },
    {
      "cell_type": "markdown",
      "source": [
        "++++++++++++++++++++++++++++++++++++++++++++++++++++++++++++++++++++++++++++++++"
      ],
      "metadata": {
        "id": "tZO7hl7pM63y"
      }
    },
    {
      "cell_type": "code",
      "source": [
        "optimizer = tf.keras.optimizers.Nadam(learning_rate=0.0003,\n",
        "                                      beta_1=0.92,\n",
        "                                      beta_2=0.999,\n",
        "                                      epsilon=1e-04\n",
        ")"
      ],
      "metadata": {
        "id": "EzfnaqIZlfy8"
      },
      "execution_count": 84,
      "outputs": []
    },
    {
      "cell_type": "markdown",
      "source": [
        "++++++++++++++++++++++++++++++++++++++++++++++++++++++++++++++++++++++++++++++++"
      ],
      "metadata": {
        "id": "KHmBptvOM95Z"
      }
    },
    {
      "cell_type": "code",
      "source": [
        "model.compile(#optimizer='adam',\n",
        "              # optimizer='adamax',\n",
        "              optimizer=optimizer,\n",
        "              # optimizer='rmsprop',\n",
        "              # optimizer='sgd',\n",
        "              # optimizer='adadelta',\n",
        "              # loss='binary_crossentropy',\n",
        "              loss=tf.keras.losses.SparseCategoricalCrossentropy(),\n",
        "              metrics=['sparse_categorical_accuracy']) # sparse_categorical_accuracy"
      ],
      "metadata": {
        "id": "hENVaAC7ilNY"
      },
      "execution_count": 85,
      "outputs": []
    },
    {
      "cell_type": "code",
      "source": [
        "x = np.random.random((1, 28, 28))\n",
        "a = model.predict(x)\n",
        "_ = plt.hist(np.transpose(a))"
      ],
      "metadata": {
        "id": "RFgZHNNFMa8p",
        "outputId": "5006b44f-1c75-472e-989d-4403807580a2",
        "colab": {
          "base_uri": "https://localhost:8080/",
          "height": 448
        }
      },
      "execution_count": 86,
      "outputs": [
        {
          "output_type": "stream",
          "name": "stdout",
          "text": [
            "1/1 [==============================] - 0s 123ms/step\n"
          ]
        },
        {
          "output_type": "display_data",
          "data": {
            "text/plain": [
              "<Figure size 640x480 with 1 Axes>"
            ],
            "image/png": "[encoded data removed]"
          },
          "metadata": {}
        }
      ]
    },
    {
      "cell_type": "code",
      "source": [
        "y_pred = model.predict(x_test)"
      ],
      "metadata": {
        "id": "UDP8OKKZ8oQa",
        "outputId": "0ffc3451-1443-4ecd-aeda-43f8ec69ae94",
        "colab": {
          "base_uri": "https://localhost:8080/"
        }
      },
      "execution_count": 87,
      "outputs": [
        {
          "output_type": "stream",
          "name": "stdout",
          "text": [
            "313/313 [==============================] - 1s 2ms/step\n"
          ]
        }
      ]
    },
    {
      "cell_type": "code",
      "source": [
        "callback = callbacks.EarlyStopping(monitor='val_loss',\n",
        "                                   patience=50,\n",
        "                                   restore_best_weights=True,\n",
        "                                   )\n",
        "es = callbacks.EarlyStopping(monitor='val_loss', mode='min', verbose=0, patience=75)\n",
        "mc = callbacks.ModelCheckpoint('best_model.h5', monitor='sparse_categorical_accuracy', mode='max', verbose=0, save_best_only=True)\n"
      ],
      "metadata": {
        "id": "5ihU4exVlsjm"
      },
      "execution_count": 88,
      "outputs": []
    },
    {
      "cell_type": "code",
      "source": [
        "history = model.fit(x_train, y_train,\n",
        "                    epochs=500,\n",
        "                    batch_size=128,\n",
        "                    # callbacks=[callback],\n",
        "                    callbacks=[mc, es],\n",
        "                    verbose=1, #многословие\n",
        "                    validation_split=0.1\n",
        "                    # validation_data=(x_val, y_val)\n",
        "                    )\n",
        "test_loss, test_acc = model.evaluate(x_test, y_test)\n",
        "print('\\nTest accuracy:', test_acc)"
      ],
      "metadata": {
        "id": "FH8HcMNm233I",
        "outputId": "b164ae49-910c-43ff-caad-4b80cb3ca35c",
        "colab": {
          "base_uri": "https://localhost:8080/"
        }
      },
      "execution_count": 89,
      "outputs": [
        {
          "output_type": "stream",
          "name": "stdout",
          "text": [
            "Epoch 1/500\n",
            "422/422 [==============================] - 9s 8ms/step - loss: 1.1354 - sparse_categorical_accuracy: 0.6102 - val_loss: 0.5702 - val_sparse_categorical_accuracy: 0.7920\n",
            "Epoch 2/500\n",
            "422/422 [==============================] - 3s 8ms/step - loss: 0.7245 - sparse_categorical_accuracy: 0.7377 - val_loss: 0.5001 - val_sparse_categorical_accuracy: 0.8160\n",
            "Epoch 3/500\n",
            "422/422 [==============================] - 4s 9ms/step - loss: 0.6323 - sparse_categorical_accuracy: 0.7690 - val_loss: 0.4532 - val_sparse_categorical_accuracy: 0.8300\n",
            "Epoch 4/500\n",
            "422/422 [==============================] - 3s 8ms/step - loss: 0.5782 - sparse_categorical_accuracy: 0.7871 - val_loss: 0.4360 - val_sparse_categorical_accuracy: 0.8358\n",
            "Epoch 5/500\n",
            "422/422 [==============================] - 4s 9ms/step - loss: 0.5477 - sparse_categorical_accuracy: 0.7998 - val_loss: 0.4334 - val_sparse_categorical_accuracy: 0.8378\n",
            "Epoch 6/500\n",
            "422/422 [==============================] - 4s 9ms/step - loss: 0.5226 - sparse_categorical_accuracy: 0.8060 - val_loss: 0.3971 - val_sparse_categorical_accuracy: 0.8512\n",
            "Epoch 7/500\n",
            "422/422 [==============================] - 4s 9ms/step - loss: 0.5110 - sparse_categorical_accuracy: 0.8100 - val_loss: 0.4003 - val_sparse_categorical_accuracy: 0.8507\n",
            "Epoch 8/500\n",
            "422/422 [==============================] - 4s 8ms/step - loss: 0.4932 - sparse_categorical_accuracy: 0.8200 - val_loss: 0.3923 - val_sparse_categorical_accuracy: 0.8557\n",
            "Epoch 9/500\n",
            "422/422 [==============================] - 4s 9ms/step - loss: 0.4779 - sparse_categorical_accuracy: 0.8229 - val_loss: 0.3746 - val_sparse_categorical_accuracy: 0.8602\n",
            "Epoch 10/500\n",
            "422/422 [==============================] - 4s 9ms/step - loss: 0.4648 - sparse_categorical_accuracy: 0.8288 - val_loss: 0.3691 - val_sparse_categorical_accuracy: 0.8605\n",
            "Epoch 11/500\n",
            "422/422 [==============================] - 3s 8ms/step - loss: 0.4592 - sparse_categorical_accuracy: 0.8315 - val_loss: 0.3681 - val_sparse_categorical_accuracy: 0.8638\n",
            "Epoch 12/500\n",
            "422/422 [==============================] - 3s 8ms/step - loss: 0.4514 - sparse_categorical_accuracy: 0.8319 - val_loss: 0.3630 - val_sparse_categorical_accuracy: 0.8665\n",
            "Epoch 13/500\n",
            "422/422 [==============================] - 5s 11ms/step - loss: 0.4386 - sparse_categorical_accuracy: 0.8370 - val_loss: 0.3567 - val_sparse_categorical_accuracy: 0.8700\n",
            "Epoch 14/500\n",
            "422/422 [==============================] - 3s 8ms/step - loss: 0.4313 - sparse_categorical_accuracy: 0.8402 - val_loss: 0.3573 - val_sparse_categorical_accuracy: 0.8708\n",
            "Epoch 15/500\n",
            "422/422 [==============================] - 3s 8ms/step - loss: 0.4278 - sparse_categorical_accuracy: 0.8411 - val_loss: 0.3552 - val_sparse_categorical_accuracy: 0.8702\n",
            "Epoch 16/500\n",
            "422/422 [==============================] - 4s 9ms/step - loss: 0.4237 - sparse_categorical_accuracy: 0.8440 - val_loss: 0.3419 - val_sparse_categorical_accuracy: 0.8740\n",
            "Epoch 17/500\n",
            "422/422 [==============================] - 3s 8ms/step - loss: 0.4185 - sparse_categorical_accuracy: 0.8447 - val_loss: 0.3427 - val_sparse_categorical_accuracy: 0.8787\n",
            "Epoch 18/500\n",
            "422/422 [==============================] - 3s 8ms/step - loss: 0.4078 - sparse_categorical_accuracy: 0.8480 - val_loss: 0.3382 - val_sparse_categorical_accuracy: 0.8792\n",
            "Epoch 19/500\n",
            "422/422 [==============================] - 4s 9ms/step - loss: 0.4056 - sparse_categorical_accuracy: 0.8490 - val_loss: 0.3272 - val_sparse_categorical_accuracy: 0.8783\n",
            "Epoch 20/500\n",
            "422/422 [==============================] - 4s 9ms/step - loss: 0.3999 - sparse_categorical_accuracy: 0.8524 - val_loss: 0.3298 - val_sparse_categorical_accuracy: 0.8815\n",
            "Epoch 21/500\n",
            "422/422 [==============================] - 3s 8ms/step - loss: 0.3987 - sparse_categorical_accuracy: 0.8518 - val_loss: 0.3301 - val_sparse_categorical_accuracy: 0.8790\n",
            "Epoch 22/500\n",
            "422/422 [==============================] - 3s 8ms/step - loss: 0.3952 - sparse_categorical_accuracy: 0.8562 - val_loss: 0.3252 - val_sparse_categorical_accuracy: 0.8845\n",
            "Epoch 23/500\n",
            "422/422 [==============================] - 4s 9ms/step - loss: 0.3936 - sparse_categorical_accuracy: 0.8548 - val_loss: 0.3209 - val_sparse_categorical_accuracy: 0.8802\n",
            "Epoch 24/500\n",
            "422/422 [==============================] - 3s 8ms/step - loss: 0.3840 - sparse_categorical_accuracy: 0.8571 - val_loss: 0.3236 - val_sparse_categorical_accuracy: 0.8833\n",
            "Epoch 25/500\n",
            "422/422 [==============================] - 3s 8ms/step - loss: 0.3817 - sparse_categorical_accuracy: 0.8576 - val_loss: 0.3177 - val_sparse_categorical_accuracy: 0.8848\n",
            "Epoch 26/500\n",
            "422/422 [==============================] - 4s 9ms/step - loss: 0.3800 - sparse_categorical_accuracy: 0.8586 - val_loss: 0.3175 - val_sparse_categorical_accuracy: 0.8818\n",
            "Epoch 27/500\n",
            "422/422 [==============================] - 4s 8ms/step - loss: 0.3756 - sparse_categorical_accuracy: 0.8580 - val_loss: 0.3139 - val_sparse_categorical_accuracy: 0.8858\n",
            "Epoch 28/500\n",
            "422/422 [==============================] - 4s 8ms/step - loss: 0.3708 - sparse_categorical_accuracy: 0.8600 - val_loss: 0.3164 - val_sparse_categorical_accuracy: 0.8842\n",
            "Epoch 29/500\n",
            "422/422 [==============================] - 4s 9ms/step - loss: 0.3708 - sparse_categorical_accuracy: 0.8615 - val_loss: 0.3112 - val_sparse_categorical_accuracy: 0.8873\n",
            "Epoch 30/500\n",
            "422/422 [==============================] - 4s 9ms/step - loss: 0.3662 - sparse_categorical_accuracy: 0.8623 - val_loss: 0.3145 - val_sparse_categorical_accuracy: 0.8853\n",
            "Epoch 31/500\n",
            "422/422 [==============================] - 3s 8ms/step - loss: 0.3630 - sparse_categorical_accuracy: 0.8641 - val_loss: 0.3083 - val_sparse_categorical_accuracy: 0.8888\n",
            "Epoch 32/500\n",
            "422/422 [==============================] - 3s 8ms/step - loss: 0.3670 - sparse_categorical_accuracy: 0.8628 - val_loss: 0.3076 - val_sparse_categorical_accuracy: 0.8912\n",
            "Epoch 33/500\n",
            "422/422 [==============================] - 4s 9ms/step - loss: 0.3623 - sparse_categorical_accuracy: 0.8655 - val_loss: 0.3059 - val_sparse_categorical_accuracy: 0.8863\n",
            "Epoch 34/500\n",
            "422/422 [==============================] - 3s 8ms/step - loss: 0.3593 - sparse_categorical_accuracy: 0.8664 - val_loss: 0.3085 - val_sparse_categorical_accuracy: 0.8870\n",
            "Epoch 35/500\n",
            "422/422 [==============================] - 3s 8ms/step - loss: 0.3585 - sparse_categorical_accuracy: 0.8678 - val_loss: 0.3000 - val_sparse_categorical_accuracy: 0.8877\n",
            "Epoch 36/500\n",
            "422/422 [==============================] - 4s 9ms/step - loss: 0.3564 - sparse_categorical_accuracy: 0.8672 - val_loss: 0.3011 - val_sparse_categorical_accuracy: 0.8900\n",
            "Epoch 37/500\n",
            "422/422 [==============================] - 4s 9ms/step - loss: 0.3556 - sparse_categorical_accuracy: 0.8682 - val_loss: 0.3045 - val_sparse_categorical_accuracy: 0.8882\n",
            "Epoch 38/500\n",
            "422/422 [==============================] - 4s 8ms/step - loss: 0.3508 - sparse_categorical_accuracy: 0.8693 - val_loss: 0.2940 - val_sparse_categorical_accuracy: 0.8913\n",
            "Epoch 39/500\n",
            "422/422 [==============================] - 3s 8ms/step - loss: 0.3481 - sparse_categorical_accuracy: 0.8693 - val_loss: 0.2953 - val_sparse_categorical_accuracy: 0.8923\n",
            "Epoch 40/500\n",
            "422/422 [==============================] - 4s 9ms/step - loss: 0.3487 - sparse_categorical_accuracy: 0.8702 - val_loss: 0.2945 - val_sparse_categorical_accuracy: 0.8908\n",
            "Epoch 41/500\n",
            "422/422 [==============================] - 3s 8ms/step - loss: 0.3481 - sparse_categorical_accuracy: 0.8721 - val_loss: 0.2982 - val_sparse_categorical_accuracy: 0.8885\n",
            "Epoch 42/500\n",
            "422/422 [==============================] - 3s 8ms/step - loss: 0.3428 - sparse_categorical_accuracy: 0.8713 - val_loss: 0.2955 - val_sparse_categorical_accuracy: 0.8910\n",
            "Epoch 43/500\n",
            "422/422 [==============================] - 4s 10ms/step - loss: 0.3454 - sparse_categorical_accuracy: 0.8711 - val_loss: 0.2975 - val_sparse_categorical_accuracy: 0.8900\n",
            "Epoch 44/500\n",
            "422/422 [==============================] - 3s 8ms/step - loss: 0.3456 - sparse_categorical_accuracy: 0.8713 - val_loss: 0.2898 - val_sparse_categorical_accuracy: 0.8932\n",
            "Epoch 45/500\n",
            "422/422 [==============================] - 3s 8ms/step - loss: 0.3414 - sparse_categorical_accuracy: 0.8716 - val_loss: 0.2950 - val_sparse_categorical_accuracy: 0.8928\n",
            "Epoch 46/500\n",
            "422/422 [==============================] - 4s 9ms/step - loss: 0.3395 - sparse_categorical_accuracy: 0.8727 - val_loss: 0.2949 - val_sparse_categorical_accuracy: 0.8915\n",
            "Epoch 47/500\n",
            "422/422 [==============================] - 4s 9ms/step - loss: 0.3384 - sparse_categorical_accuracy: 0.8730 - val_loss: 0.2904 - val_sparse_categorical_accuracy: 0.8930\n",
            "Epoch 48/500\n",
            "422/422 [==============================] - 3s 8ms/step - loss: 0.3379 - sparse_categorical_accuracy: 0.8731 - val_loss: 0.2886 - val_sparse_categorical_accuracy: 0.8945\n",
            "Epoch 49/500\n",
            "422/422 [==============================] - 3s 8ms/step - loss: 0.3372 - sparse_categorical_accuracy: 0.8755 - val_loss: 0.2887 - val_sparse_categorical_accuracy: 0.8945\n",
            "Epoch 50/500\n",
            "422/422 [==============================] - 4s 9ms/step - loss: 0.3361 - sparse_categorical_accuracy: 0.8738 - val_loss: 0.2887 - val_sparse_categorical_accuracy: 0.8918\n",
            "Epoch 51/500\n",
            "422/422 [==============================] - 3s 8ms/step - loss: 0.3355 - sparse_categorical_accuracy: 0.8749 - val_loss: 0.2895 - val_sparse_categorical_accuracy: 0.8927\n",
            "Epoch 52/500\n",
            "422/422 [==============================] - 3s 8ms/step - loss: 0.3327 - sparse_categorical_accuracy: 0.8765 - val_loss: 0.2830 - val_sparse_categorical_accuracy: 0.8943\n",
            "Epoch 53/500\n",
            "422/422 [==============================] - 4s 9ms/step - loss: 0.3336 - sparse_categorical_accuracy: 0.8761 - val_loss: 0.2968 - val_sparse_categorical_accuracy: 0.8898\n",
            "Epoch 54/500\n",
            "422/422 [==============================] - 4s 9ms/step - loss: 0.3286 - sparse_categorical_accuracy: 0.8759 - val_loss: 0.2843 - val_sparse_categorical_accuracy: 0.8960\n",
            "Epoch 55/500\n",
            "422/422 [==============================] - 3s 8ms/step - loss: 0.3285 - sparse_categorical_accuracy: 0.8771 - val_loss: 0.2870 - val_sparse_categorical_accuracy: 0.8952\n",
            "Epoch 56/500\n",
            "422/422 [==============================] - 3s 8ms/step - loss: 0.3280 - sparse_categorical_accuracy: 0.8764 - val_loss: 0.2845 - val_sparse_categorical_accuracy: 0.8952\n",
            "Epoch 57/500\n",
            "422/422 [==============================] - 4s 9ms/step - loss: 0.3249 - sparse_categorical_accuracy: 0.8781 - val_loss: 0.2913 - val_sparse_categorical_accuracy: 0.8953\n",
            "Epoch 58/500\n",
            "422/422 [==============================] - 4s 9ms/step - loss: 0.3258 - sparse_categorical_accuracy: 0.8784 - val_loss: 0.2860 - val_sparse_categorical_accuracy: 0.8973\n",
            "Epoch 59/500\n",
            "422/422 [==============================] - 3s 8ms/step - loss: 0.3237 - sparse_categorical_accuracy: 0.8777 - val_loss: 0.2868 - val_sparse_categorical_accuracy: 0.8962\n",
            "Epoch 60/500\n",
            "422/422 [==============================] - 4s 9ms/step - loss: 0.3251 - sparse_categorical_accuracy: 0.8763 - val_loss: 0.2835 - val_sparse_categorical_accuracy: 0.8962\n",
            "Epoch 61/500\n",
            "422/422 [==============================] - 3s 8ms/step - loss: 0.3245 - sparse_categorical_accuracy: 0.8763 - val_loss: 0.2808 - val_sparse_categorical_accuracy: 0.8970\n",
            "Epoch 62/500\n",
            "422/422 [==============================] - 3s 8ms/step - loss: 0.3247 - sparse_categorical_accuracy: 0.8779 - val_loss: 0.2783 - val_sparse_categorical_accuracy: 0.8978\n",
            "Epoch 63/500\n",
            "422/422 [==============================] - 4s 9ms/step - loss: 0.3190 - sparse_categorical_accuracy: 0.8804 - val_loss: 0.2826 - val_sparse_categorical_accuracy: 0.8975\n",
            "Epoch 64/500\n",
            "422/422 [==============================] - 4s 9ms/step - loss: 0.3203 - sparse_categorical_accuracy: 0.8799 - val_loss: 0.2827 - val_sparse_categorical_accuracy: 0.8950\n",
            "Epoch 65/500\n",
            "422/422 [==============================] - 3s 8ms/step - loss: 0.3202 - sparse_categorical_accuracy: 0.8787 - val_loss: 0.2800 - val_sparse_categorical_accuracy: 0.8987\n",
            "Epoch 66/500\n",
            "422/422 [==============================] - 3s 8ms/step - loss: 0.3174 - sparse_categorical_accuracy: 0.8799 - val_loss: 0.2809 - val_sparse_categorical_accuracy: 0.8957\n",
            "Epoch 67/500\n",
            "422/422 [==============================] - 4s 10ms/step - loss: 0.3159 - sparse_categorical_accuracy: 0.8820 - val_loss: 0.2810 - val_sparse_categorical_accuracy: 0.8973\n",
            "Epoch 68/500\n",
            "422/422 [==============================] - 3s 8ms/step - loss: 0.3163 - sparse_categorical_accuracy: 0.8806 - val_loss: 0.2769 - val_sparse_categorical_accuracy: 0.8975\n",
            "Epoch 69/500\n",
            "422/422 [==============================] - 3s 8ms/step - loss: 0.3172 - sparse_categorical_accuracy: 0.8805 - val_loss: 0.2769 - val_sparse_categorical_accuracy: 0.8982\n",
            "Epoch 70/500\n",
            "422/422 [==============================] - 4s 9ms/step - loss: 0.3173 - sparse_categorical_accuracy: 0.8803 - val_loss: 0.2817 - val_sparse_categorical_accuracy: 0.8977\n",
            "Epoch 71/500\n",
            "422/422 [==============================] - 3s 8ms/step - loss: 0.3144 - sparse_categorical_accuracy: 0.8816 - val_loss: 0.2791 - val_sparse_categorical_accuracy: 0.9013\n",
            "Epoch 72/500\n",
            "422/422 [==============================] - 4s 8ms/step - loss: 0.3139 - sparse_categorical_accuracy: 0.8826 - val_loss: 0.2747 - val_sparse_categorical_accuracy: 0.8965\n",
            "Epoch 73/500\n",
            "422/422 [==============================] - 4s 9ms/step - loss: 0.3170 - sparse_categorical_accuracy: 0.8805 - val_loss: 0.2768 - val_sparse_categorical_accuracy: 0.8978\n",
            "Epoch 74/500\n",
            "422/422 [==============================] - 4s 9ms/step - loss: 0.3093 - sparse_categorical_accuracy: 0.8844 - val_loss: 0.2824 - val_sparse_categorical_accuracy: 0.8940\n",
            "Epoch 75/500\n",
            "422/422 [==============================] - 3s 8ms/step - loss: 0.3128 - sparse_categorical_accuracy: 0.8820 - val_loss: 0.2768 - val_sparse_categorical_accuracy: 0.8963\n",
            "Epoch 76/500\n",
            "422/422 [==============================] - 3s 8ms/step - loss: 0.3110 - sparse_categorical_accuracy: 0.8832 - val_loss: 0.2786 - val_sparse_categorical_accuracy: 0.8963\n",
            "Epoch 77/500\n",
            "422/422 [==============================] - 4s 9ms/step - loss: 0.3136 - sparse_categorical_accuracy: 0.8822 - val_loss: 0.2744 - val_sparse_categorical_accuracy: 0.8958\n",
            "Epoch 78/500\n",
            "422/422 [==============================] - 3s 8ms/step - loss: 0.3078 - sparse_categorical_accuracy: 0.8837 - val_loss: 0.2817 - val_sparse_categorical_accuracy: 0.8992\n",
            "Epoch 79/500\n",
            "422/422 [==============================] - 3s 8ms/step - loss: 0.3088 - sparse_categorical_accuracy: 0.8834 - val_loss: 0.2782 - val_sparse_categorical_accuracy: 0.8957\n",
            "Epoch 80/500\n",
            "422/422 [==============================] - 4s 9ms/step - loss: 0.3100 - sparse_categorical_accuracy: 0.8843 - val_loss: 0.2835 - val_sparse_categorical_accuracy: 0.8932\n",
            "Epoch 81/500\n",
            "422/422 [==============================] - 3s 8ms/step - loss: 0.3075 - sparse_categorical_accuracy: 0.8839 - val_loss: 0.2751 - val_sparse_categorical_accuracy: 0.8962\n",
            "Epoch 82/500\n",
            "422/422 [==============================] - 3s 8ms/step - loss: 0.3070 - sparse_categorical_accuracy: 0.8844 - val_loss: 0.2757 - val_sparse_categorical_accuracy: 0.8972\n",
            "Epoch 83/500\n",
            "422/422 [==============================] - 4s 9ms/step - loss: 0.3087 - sparse_categorical_accuracy: 0.8837 - val_loss: 0.2715 - val_sparse_categorical_accuracy: 0.8968\n",
            "Epoch 84/500\n",
            "422/422 [==============================] - 4s 9ms/step - loss: 0.3042 - sparse_categorical_accuracy: 0.8847 - val_loss: 0.2747 - val_sparse_categorical_accuracy: 0.8985\n",
            "Epoch 85/500\n",
            "422/422 [==============================] - 3s 8ms/step - loss: 0.3048 - sparse_categorical_accuracy: 0.8848 - val_loss: 0.2763 - val_sparse_categorical_accuracy: 0.8967\n",
            "Epoch 86/500\n",
            "422/422 [==============================] - 3s 8ms/step - loss: 0.3044 - sparse_categorical_accuracy: 0.8859 - val_loss: 0.2785 - val_sparse_categorical_accuracy: 0.8957\n",
            "Epoch 87/500\n",
            "422/422 [==============================] - 4s 9ms/step - loss: 0.3044 - sparse_categorical_accuracy: 0.8841 - val_loss: 0.2736 - val_sparse_categorical_accuracy: 0.8967\n",
            "Epoch 88/500\n",
            "422/422 [==============================] - 3s 8ms/step - loss: 0.3045 - sparse_categorical_accuracy: 0.8849 - val_loss: 0.2768 - val_sparse_categorical_accuracy: 0.8963\n",
            "Epoch 89/500\n",
            "422/422 [==============================] - 3s 8ms/step - loss: 0.3019 - sparse_categorical_accuracy: 0.8854 - val_loss: 0.2750 - val_sparse_categorical_accuracy: 0.8975\n",
            "Epoch 90/500\n",
            "422/422 [==============================] - 4s 9ms/step - loss: 0.3067 - sparse_categorical_accuracy: 0.8840 - val_loss: 0.2756 - val_sparse_categorical_accuracy: 0.8992\n",
            "Epoch 91/500\n",
            "422/422 [==============================] - 4s 9ms/step - loss: 0.3050 - sparse_categorical_accuracy: 0.8845 - val_loss: 0.2764 - val_sparse_categorical_accuracy: 0.9012\n",
            "Epoch 92/500\n",
            "422/422 [==============================] - 4s 8ms/step - loss: 0.3027 - sparse_categorical_accuracy: 0.8859 - val_loss: 0.2720 - val_sparse_categorical_accuracy: 0.9020\n",
            "Epoch 93/500\n",
            "422/422 [==============================] - 4s 9ms/step - loss: 0.3015 - sparse_categorical_accuracy: 0.8861 - val_loss: 0.2708 - val_sparse_categorical_accuracy: 0.8987\n",
            "Epoch 94/500\n",
            "422/422 [==============================] - 4s 9ms/step - loss: 0.2982 - sparse_categorical_accuracy: 0.8876 - val_loss: 0.2696 - val_sparse_categorical_accuracy: 0.9007\n",
            "Epoch 95/500\n",
            "422/422 [==============================] - 3s 8ms/step - loss: 0.2988 - sparse_categorical_accuracy: 0.8869 - val_loss: 0.2782 - val_sparse_categorical_accuracy: 0.8958\n",
            "Epoch 96/500\n",
            "422/422 [==============================] - 3s 8ms/step - loss: 0.2994 - sparse_categorical_accuracy: 0.8867 - val_loss: 0.2769 - val_sparse_categorical_accuracy: 0.8963\n",
            "Epoch 97/500\n",
            "422/422 [==============================] - 4s 9ms/step - loss: 0.3017 - sparse_categorical_accuracy: 0.8871 - val_loss: 0.2722 - val_sparse_categorical_accuracy: 0.8987\n",
            "Epoch 98/500\n",
            "422/422 [==============================] - 3s 8ms/step - loss: 0.2996 - sparse_categorical_accuracy: 0.8872 - val_loss: 0.2694 - val_sparse_categorical_accuracy: 0.8992\n",
            "Epoch 99/500\n",
            "422/422 [==============================] - 4s 8ms/step - loss: 0.2948 - sparse_categorical_accuracy: 0.8886 - val_loss: 0.2686 - val_sparse_categorical_accuracy: 0.8993\n",
            "Epoch 100/500\n",
            "422/422 [==============================] - 4s 9ms/step - loss: 0.2978 - sparse_categorical_accuracy: 0.8881 - val_loss: 0.2700 - val_sparse_categorical_accuracy: 0.8997\n",
            "Epoch 101/500\n",
            "422/422 [==============================] - 4s 9ms/step - loss: 0.2947 - sparse_categorical_accuracy: 0.8881 - val_loss: 0.2745 - val_sparse_categorical_accuracy: 0.8970\n",
            "Epoch 102/500\n",
            "422/422 [==============================] - 3s 8ms/step - loss: 0.2965 - sparse_categorical_accuracy: 0.8903 - val_loss: 0.2699 - val_sparse_categorical_accuracy: 0.9002\n",
            "Epoch 103/500\n",
            "422/422 [==============================] - 3s 8ms/step - loss: 0.2935 - sparse_categorical_accuracy: 0.8884 - val_loss: 0.2696 - val_sparse_categorical_accuracy: 0.8988\n",
            "Epoch 104/500\n",
            "422/422 [==============================] - 4s 9ms/step - loss: 0.3003 - sparse_categorical_accuracy: 0.8862 - val_loss: 0.2770 - val_sparse_categorical_accuracy: 0.8993\n",
            "Epoch 105/500\n",
            "422/422 [==============================] - 3s 8ms/step - loss: 0.2953 - sparse_categorical_accuracy: 0.8883 - val_loss: 0.2729 - val_sparse_categorical_accuracy: 0.9007\n",
            "Epoch 106/500\n",
            "422/422 [==============================] - 3s 8ms/step - loss: 0.2924 - sparse_categorical_accuracy: 0.8893 - val_loss: 0.2659 - val_sparse_categorical_accuracy: 0.8987\n",
            "Epoch 107/500\n",
            "422/422 [==============================] - 4s 9ms/step - loss: 0.2962 - sparse_categorical_accuracy: 0.8879 - val_loss: 0.2709 - val_sparse_categorical_accuracy: 0.8973\n",
            "Epoch 108/500\n",
            "422/422 [==============================] - 4s 8ms/step - loss: 0.2926 - sparse_categorical_accuracy: 0.8898 - val_loss: 0.2740 - val_sparse_categorical_accuracy: 0.8985\n",
            "Epoch 109/500\n",
            "422/422 [==============================] - 4s 8ms/step - loss: 0.2926 - sparse_categorical_accuracy: 0.8899 - val_loss: 0.2705 - val_sparse_categorical_accuracy: 0.8995\n",
            "Epoch 110/500\n",
            "422/422 [==============================] - 4s 9ms/step - loss: 0.2898 - sparse_categorical_accuracy: 0.8919 - val_loss: 0.2696 - val_sparse_categorical_accuracy: 0.8973\n",
            "Epoch 111/500\n",
            "422/422 [==============================] - 4s 9ms/step - loss: 0.2909 - sparse_categorical_accuracy: 0.8903 - val_loss: 0.2679 - val_sparse_categorical_accuracy: 0.8990\n",
            "Epoch 112/500\n",
            "422/422 [==============================] - 3s 8ms/step - loss: 0.2936 - sparse_categorical_accuracy: 0.8907 - val_loss: 0.2680 - val_sparse_categorical_accuracy: 0.8990\n",
            "Epoch 113/500\n",
            "422/422 [==============================] - 3s 8ms/step - loss: 0.2918 - sparse_categorical_accuracy: 0.8916 - val_loss: 0.2733 - val_sparse_categorical_accuracy: 0.8975\n",
            "Epoch 114/500\n",
            "422/422 [==============================] - 4s 9ms/step - loss: 0.2905 - sparse_categorical_accuracy: 0.8917 - val_loss: 0.2721 - val_sparse_categorical_accuracy: 0.8968\n",
            "Epoch 115/500\n",
            "422/422 [==============================] - 4s 8ms/step - loss: 0.2885 - sparse_categorical_accuracy: 0.8923 - val_loss: 0.2674 - val_sparse_categorical_accuracy: 0.9007\n",
            "Epoch 116/500\n",
            "422/422 [==============================] - 3s 8ms/step - loss: 0.2911 - sparse_categorical_accuracy: 0.8898 - val_loss: 0.2690 - val_sparse_categorical_accuracy: 0.8997\n",
            "Epoch 117/500\n",
            "422/422 [==============================] - 4s 9ms/step - loss: 0.2912 - sparse_categorical_accuracy: 0.8901 - val_loss: 0.2635 - val_sparse_categorical_accuracy: 0.9027\n",
            "Epoch 118/500\n",
            "422/422 [==============================] - 4s 9ms/step - loss: 0.2874 - sparse_categorical_accuracy: 0.8919 - val_loss: 0.2686 - val_sparse_categorical_accuracy: 0.9007\n",
            "Epoch 119/500\n",
            "422/422 [==============================] - 4s 8ms/step - loss: 0.2906 - sparse_categorical_accuracy: 0.8910 - val_loss: 0.2690 - val_sparse_categorical_accuracy: 0.8988\n",
            "Epoch 120/500\n",
            "422/422 [==============================] - 4s 8ms/step - loss: 0.2886 - sparse_categorical_accuracy: 0.8902 - val_loss: 0.2689 - val_sparse_categorical_accuracy: 0.8973\n",
            "Epoch 121/500\n",
            "422/422 [==============================] - 4s 9ms/step - loss: 0.2880 - sparse_categorical_accuracy: 0.8901 - val_loss: 0.2685 - val_sparse_categorical_accuracy: 0.8963\n",
            "Epoch 122/500\n",
            "422/422 [==============================] - 4s 8ms/step - loss: 0.2870 - sparse_categorical_accuracy: 0.8925 - val_loss: 0.2699 - val_sparse_categorical_accuracy: 0.8977\n",
            "Epoch 123/500\n",
            "422/422 [==============================] - 4s 8ms/step - loss: 0.2890 - sparse_categorical_accuracy: 0.8891 - val_loss: 0.2665 - val_sparse_categorical_accuracy: 0.9017\n",
            "Epoch 124/500\n",
            "422/422 [==============================] - 4s 10ms/step - loss: 0.2849 - sparse_categorical_accuracy: 0.8925 - val_loss: 0.2680 - val_sparse_categorical_accuracy: 0.8982\n",
            "Epoch 125/500\n",
            "422/422 [==============================] - 4s 9ms/step - loss: 0.2867 - sparse_categorical_accuracy: 0.8919 - val_loss: 0.2699 - val_sparse_categorical_accuracy: 0.8992\n",
            "Epoch 126/500\n",
            "422/422 [==============================] - 4s 9ms/step - loss: 0.2915 - sparse_categorical_accuracy: 0.8906 - val_loss: 0.2672 - val_sparse_categorical_accuracy: 0.9000\n",
            "Epoch 127/500\n",
            "422/422 [==============================] - 4s 9ms/step - loss: 0.2894 - sparse_categorical_accuracy: 0.8924 - val_loss: 0.2667 - val_sparse_categorical_accuracy: 0.9000\n",
            "Epoch 128/500\n",
            "422/422 [==============================] - 3s 8ms/step - loss: 0.2888 - sparse_categorical_accuracy: 0.8919 - val_loss: 0.2690 - val_sparse_categorical_accuracy: 0.9012\n",
            "Epoch 129/500\n",
            "422/422 [==============================] - 4s 9ms/step - loss: 0.2896 - sparse_categorical_accuracy: 0.8916 - val_loss: 0.2669 - val_sparse_categorical_accuracy: 0.9017\n",
            "Epoch 130/500\n",
            "422/422 [==============================] - 4s 9ms/step - loss: 0.2861 - sparse_categorical_accuracy: 0.8923 - val_loss: 0.2697 - val_sparse_categorical_accuracy: 0.8990\n",
            "Epoch 131/500\n",
            "422/422 [==============================] - 4s 9ms/step - loss: 0.2895 - sparse_categorical_accuracy: 0.8908 - val_loss: 0.2672 - val_sparse_categorical_accuracy: 0.9010\n",
            "Epoch 132/500\n",
            "422/422 [==============================] - 4s 8ms/step - loss: 0.2857 - sparse_categorical_accuracy: 0.8924 - val_loss: 0.2653 - val_sparse_categorical_accuracy: 0.9022\n",
            "Epoch 133/500\n",
            "422/422 [==============================] - 4s 9ms/step - loss: 0.2885 - sparse_categorical_accuracy: 0.8926 - val_loss: 0.2654 - val_sparse_categorical_accuracy: 0.9015\n",
            "Epoch 134/500\n",
            "422/422 [==============================] - 4s 10ms/step - loss: 0.2855 - sparse_categorical_accuracy: 0.8933 - val_loss: 0.2679 - val_sparse_categorical_accuracy: 0.9007\n",
            "Epoch 135/500\n",
            "422/422 [==============================] - 3s 8ms/step - loss: 0.2839 - sparse_categorical_accuracy: 0.8930 - val_loss: 0.2666 - val_sparse_categorical_accuracy: 0.8993\n",
            "Epoch 136/500\n",
            "422/422 [==============================] - 3s 8ms/step - loss: 0.2831 - sparse_categorical_accuracy: 0.8930 - val_loss: 0.2662 - val_sparse_categorical_accuracy: 0.8978\n",
            "Epoch 137/500\n",
            "422/422 [==============================] - 4s 9ms/step - loss: 0.2860 - sparse_categorical_accuracy: 0.8923 - val_loss: 0.2626 - val_sparse_categorical_accuracy: 0.9032\n",
            "Epoch 138/500\n",
            "422/422 [==============================] - 4s 9ms/step - loss: 0.2834 - sparse_categorical_accuracy: 0.8930 - val_loss: 0.2661 - val_sparse_categorical_accuracy: 0.9008\n",
            "Epoch 139/500\n",
            "422/422 [==============================] - 4s 9ms/step - loss: 0.2848 - sparse_categorical_accuracy: 0.8914 - val_loss: 0.2694 - val_sparse_categorical_accuracy: 0.9022\n",
            "Epoch 140/500\n",
            "422/422 [==============================] - 4s 10ms/step - loss: 0.2775 - sparse_categorical_accuracy: 0.8949 - val_loss: 0.2676 - val_sparse_categorical_accuracy: 0.9017\n",
            "Epoch 141/500\n",
            "422/422 [==============================] - 4s 9ms/step - loss: 0.2828 - sparse_categorical_accuracy: 0.8931 - val_loss: 0.2652 - val_sparse_categorical_accuracy: 0.9018\n",
            "Epoch 142/500\n",
            "422/422 [==============================] - 4s 9ms/step - loss: 0.2846 - sparse_categorical_accuracy: 0.8920 - val_loss: 0.2693 - val_sparse_categorical_accuracy: 0.9008\n",
            "Epoch 143/500\n",
            "422/422 [==============================] - 4s 9ms/step - loss: 0.2828 - sparse_categorical_accuracy: 0.8927 - val_loss: 0.2709 - val_sparse_categorical_accuracy: 0.8985\n",
            "Epoch 144/500\n",
            "422/422 [==============================] - 4s 9ms/step - loss: 0.2816 - sparse_categorical_accuracy: 0.8947 - val_loss: 0.2697 - val_sparse_categorical_accuracy: 0.8992\n",
            "Epoch 145/500\n",
            "422/422 [==============================] - 4s 8ms/step - loss: 0.2805 - sparse_categorical_accuracy: 0.8935 - val_loss: 0.2732 - val_sparse_categorical_accuracy: 0.9018\n",
            "Epoch 146/500\n",
            "422/422 [==============================] - 4s 9ms/step - loss: 0.2826 - sparse_categorical_accuracy: 0.8945 - val_loss: 0.2669 - val_sparse_categorical_accuracy: 0.9022\n",
            "Epoch 147/500\n",
            "422/422 [==============================] - 4s 9ms/step - loss: 0.2820 - sparse_categorical_accuracy: 0.8943 - val_loss: 0.2648 - val_sparse_categorical_accuracy: 0.8993\n",
            "Epoch 148/500\n",
            "422/422 [==============================] - 4s 8ms/step - loss: 0.2790 - sparse_categorical_accuracy: 0.8942 - val_loss: 0.2632 - val_sparse_categorical_accuracy: 0.9013\n",
            "Epoch 149/500\n",
            "422/422 [==============================] - 3s 8ms/step - loss: 0.2780 - sparse_categorical_accuracy: 0.8949 - val_loss: 0.2709 - val_sparse_categorical_accuracy: 0.8992\n",
            "Epoch 150/500\n",
            "422/422 [==============================] - 4s 9ms/step - loss: 0.2788 - sparse_categorical_accuracy: 0.8954 - val_loss: 0.2670 - val_sparse_categorical_accuracy: 0.9018\n",
            "Epoch 151/500\n",
            "422/422 [==============================] - 3s 8ms/step - loss: 0.2781 - sparse_categorical_accuracy: 0.8951 - val_loss: 0.2689 - val_sparse_categorical_accuracy: 0.8997\n",
            "Epoch 152/500\n",
            "422/422 [==============================] - 4s 8ms/step - loss: 0.2800 - sparse_categorical_accuracy: 0.8946 - val_loss: 0.2681 - val_sparse_categorical_accuracy: 0.9037\n",
            "Epoch 153/500\n",
            "422/422 [==============================] - 4s 9ms/step - loss: 0.2784 - sparse_categorical_accuracy: 0.8941 - val_loss: 0.2661 - val_sparse_categorical_accuracy: 0.9012\n",
            "Epoch 154/500\n",
            "422/422 [==============================] - 4s 9ms/step - loss: 0.2786 - sparse_categorical_accuracy: 0.8940 - val_loss: 0.2639 - val_sparse_categorical_accuracy: 0.9042\n",
            "Epoch 155/500\n",
            "422/422 [==============================] - 4s 8ms/step - loss: 0.2758 - sparse_categorical_accuracy: 0.8966 - val_loss: 0.2676 - val_sparse_categorical_accuracy: 0.9028\n",
            "Epoch 156/500\n",
            "422/422 [==============================] - 3s 8ms/step - loss: 0.2815 - sparse_categorical_accuracy: 0.8927 - val_loss: 0.2714 - val_sparse_categorical_accuracy: 0.9010\n",
            "Epoch 157/500\n",
            "422/422 [==============================] - 4s 9ms/step - loss: 0.2797 - sparse_categorical_accuracy: 0.8945 - val_loss: 0.2698 - val_sparse_categorical_accuracy: 0.9038\n",
            "Epoch 158/500\n",
            "422/422 [==============================] - 3s 8ms/step - loss: 0.2803 - sparse_categorical_accuracy: 0.8943 - val_loss: 0.2662 - val_sparse_categorical_accuracy: 0.9027\n",
            "Epoch 159/500\n",
            "422/422 [==============================] - 4s 8ms/step - loss: 0.2781 - sparse_categorical_accuracy: 0.8953 - val_loss: 0.2642 - val_sparse_categorical_accuracy: 0.9015\n",
            "Epoch 160/500\n",
            "422/422 [==============================] - 4s 9ms/step - loss: 0.2762 - sparse_categorical_accuracy: 0.8962 - val_loss: 0.2713 - val_sparse_categorical_accuracy: 0.9030\n",
            "Epoch 161/500\n",
            "422/422 [==============================] - 4s 8ms/step - loss: 0.2794 - sparse_categorical_accuracy: 0.8944 - val_loss: 0.2632 - val_sparse_categorical_accuracy: 0.9037\n",
            "Epoch 162/500\n",
            "422/422 [==============================] - 3s 8ms/step - loss: 0.2788 - sparse_categorical_accuracy: 0.8931 - val_loss: 0.2642 - val_sparse_categorical_accuracy: 0.9047\n",
            "Epoch 163/500\n",
            "422/422 [==============================] - 4s 9ms/step - loss: 0.2755 - sparse_categorical_accuracy: 0.8956 - val_loss: 0.2651 - val_sparse_categorical_accuracy: 0.9008\n",
            "Epoch 164/500\n",
            "422/422 [==============================] - 4s 9ms/step - loss: 0.2772 - sparse_categorical_accuracy: 0.8956 - val_loss: 0.2701 - val_sparse_categorical_accuracy: 0.8985\n",
            "Epoch 165/500\n",
            "422/422 [==============================] - 3s 8ms/step - loss: 0.2775 - sparse_categorical_accuracy: 0.8950 - val_loss: 0.2623 - val_sparse_categorical_accuracy: 0.9033\n",
            "Epoch 166/500\n",
            "422/422 [==============================] - 3s 8ms/step - loss: 0.2761 - sparse_categorical_accuracy: 0.8958 - val_loss: 0.2680 - val_sparse_categorical_accuracy: 0.9008\n",
            "Epoch 167/500\n",
            "422/422 [==============================] - 4s 9ms/step - loss: 0.2751 - sparse_categorical_accuracy: 0.8949 - val_loss: 0.2659 - val_sparse_categorical_accuracy: 0.9018\n",
            "Epoch 168/500\n",
            "422/422 [==============================] - 3s 8ms/step - loss: 0.2727 - sparse_categorical_accuracy: 0.8969 - val_loss: 0.2641 - val_sparse_categorical_accuracy: 0.9038\n",
            "Epoch 169/500\n",
            "422/422 [==============================] - 3s 8ms/step - loss: 0.2738 - sparse_categorical_accuracy: 0.8969 - val_loss: 0.2654 - val_sparse_categorical_accuracy: 0.9030\n",
            "Epoch 170/500\n",
            "422/422 [==============================] - 4s 9ms/step - loss: 0.2738 - sparse_categorical_accuracy: 0.8967 - val_loss: 0.2696 - val_sparse_categorical_accuracy: 0.9008\n",
            "Epoch 171/500\n",
            "422/422 [==============================] - 3s 8ms/step - loss: 0.2731 - sparse_categorical_accuracy: 0.8963 - val_loss: 0.2621 - val_sparse_categorical_accuracy: 0.9028\n",
            "Epoch 172/500\n",
            "422/422 [==============================] - 4s 8ms/step - loss: 0.2762 - sparse_categorical_accuracy: 0.8955 - val_loss: 0.2599 - val_sparse_categorical_accuracy: 0.9028\n",
            "Epoch 173/500\n",
            "422/422 [==============================] - 4s 8ms/step - loss: 0.2783 - sparse_categorical_accuracy: 0.8943 - val_loss: 0.2641 - val_sparse_categorical_accuracy: 0.9020\n",
            "Epoch 174/500\n",
            "422/422 [==============================] - 4s 9ms/step - loss: 0.2777 - sparse_categorical_accuracy: 0.8957 - val_loss: 0.2675 - val_sparse_categorical_accuracy: 0.9020\n",
            "Epoch 175/500\n",
            "422/422 [==============================] - 4s 8ms/step - loss: 0.2759 - sparse_categorical_accuracy: 0.8955 - val_loss: 0.2625 - val_sparse_categorical_accuracy: 0.9017\n",
            "Epoch 176/500\n",
            "422/422 [==============================] - 4s 8ms/step - loss: 0.2764 - sparse_categorical_accuracy: 0.8942 - val_loss: 0.2603 - val_sparse_categorical_accuracy: 0.9048\n",
            "Epoch 177/500\n",
            "422/422 [==============================] - 4s 10ms/step - loss: 0.2749 - sparse_categorical_accuracy: 0.8953 - val_loss: 0.2678 - val_sparse_categorical_accuracy: 0.9020\n",
            "Epoch 178/500\n",
            "422/422 [==============================] - 4s 8ms/step - loss: 0.2706 - sparse_categorical_accuracy: 0.8962 - val_loss: 0.2630 - val_sparse_categorical_accuracy: 0.9038\n",
            "Epoch 179/500\n",
            "422/422 [==============================] - 4s 8ms/step - loss: 0.2733 - sparse_categorical_accuracy: 0.8959 - val_loss: 0.2665 - val_sparse_categorical_accuracy: 0.9020\n",
            "Epoch 180/500\n",
            "422/422 [==============================] - 4s 9ms/step - loss: 0.2730 - sparse_categorical_accuracy: 0.8976 - val_loss: 0.2659 - val_sparse_categorical_accuracy: 0.9025\n",
            "Epoch 181/500\n",
            "422/422 [==============================] - 4s 9ms/step - loss: 0.2742 - sparse_categorical_accuracy: 0.8966 - val_loss: 0.2679 - val_sparse_categorical_accuracy: 0.9023\n",
            "Epoch 182/500\n",
            "422/422 [==============================] - 4s 8ms/step - loss: 0.2747 - sparse_categorical_accuracy: 0.8984 - val_loss: 0.2660 - val_sparse_categorical_accuracy: 0.9013\n",
            "Epoch 183/500\n",
            "422/422 [==============================] - 4s 9ms/step - loss: 0.2726 - sparse_categorical_accuracy: 0.8973 - val_loss: 0.2647 - val_sparse_categorical_accuracy: 0.9022\n",
            "Epoch 184/500\n",
            "422/422 [==============================] - 4s 9ms/step - loss: 0.2720 - sparse_categorical_accuracy: 0.8975 - val_loss: 0.2638 - val_sparse_categorical_accuracy: 0.9032\n",
            "Epoch 185/500\n",
            "422/422 [==============================] - 3s 8ms/step - loss: 0.2751 - sparse_categorical_accuracy: 0.8957 - val_loss: 0.2648 - val_sparse_categorical_accuracy: 0.9022\n",
            "Epoch 186/500\n",
            "422/422 [==============================] - 3s 8ms/step - loss: 0.2705 - sparse_categorical_accuracy: 0.8955 - val_loss: 0.2684 - val_sparse_categorical_accuracy: 0.9032\n",
            "Epoch 187/500\n",
            "422/422 [==============================] - 4s 9ms/step - loss: 0.2720 - sparse_categorical_accuracy: 0.8972 - val_loss: 0.2625 - val_sparse_categorical_accuracy: 0.9010\n",
            "Epoch 188/500\n",
            "422/422 [==============================] - 4s 8ms/step - loss: 0.2697 - sparse_categorical_accuracy: 0.8990 - val_loss: 0.2630 - val_sparse_categorical_accuracy: 0.9042\n",
            "Epoch 189/500\n",
            "422/422 [==============================] - 4s 8ms/step - loss: 0.2710 - sparse_categorical_accuracy: 0.8964 - val_loss: 0.2622 - val_sparse_categorical_accuracy: 0.9030\n",
            "Epoch 190/500\n",
            "422/422 [==============================] - 4s 9ms/step - loss: 0.2718 - sparse_categorical_accuracy: 0.8979 - val_loss: 0.2591 - val_sparse_categorical_accuracy: 0.9035\n",
            "Epoch 191/500\n",
            "422/422 [==============================] - 4s 9ms/step - loss: 0.2717 - sparse_categorical_accuracy: 0.8982 - val_loss: 0.2623 - val_sparse_categorical_accuracy: 0.9033\n",
            "Epoch 192/500\n",
            "422/422 [==============================] - 3s 8ms/step - loss: 0.2690 - sparse_categorical_accuracy: 0.8970 - val_loss: 0.2638 - val_sparse_categorical_accuracy: 0.9020\n",
            "Epoch 193/500\n",
            "422/422 [==============================] - 3s 8ms/step - loss: 0.2732 - sparse_categorical_accuracy: 0.8961 - val_loss: 0.2581 - val_sparse_categorical_accuracy: 0.9037\n",
            "Epoch 194/500\n",
            "422/422 [==============================] - 4s 9ms/step - loss: 0.2725 - sparse_categorical_accuracy: 0.8959 - val_loss: 0.2666 - val_sparse_categorical_accuracy: 0.9012\n",
            "Epoch 195/500\n",
            "422/422 [==============================] - 3s 8ms/step - loss: 0.2701 - sparse_categorical_accuracy: 0.8981 - val_loss: 0.2664 - val_sparse_categorical_accuracy: 0.9025\n",
            "Epoch 196/500\n",
            "422/422 [==============================] - 4s 8ms/step - loss: 0.2696 - sparse_categorical_accuracy: 0.8983 - val_loss: 0.2698 - val_sparse_categorical_accuracy: 0.9017\n",
            "Epoch 197/500\n",
            "422/422 [==============================] - 4s 9ms/step - loss: 0.2711 - sparse_categorical_accuracy: 0.8976 - val_loss: 0.2657 - val_sparse_categorical_accuracy: 0.9025\n",
            "Epoch 198/500\n",
            "422/422 [==============================] - 3s 8ms/step - loss: 0.2687 - sparse_categorical_accuracy: 0.8980 - val_loss: 0.2722 - val_sparse_categorical_accuracy: 0.9033\n",
            "Epoch 199/500\n",
            "422/422 [==============================] - 3s 8ms/step - loss: 0.2683 - sparse_categorical_accuracy: 0.8978 - val_loss: 0.2672 - val_sparse_categorical_accuracy: 0.9008\n",
            "Epoch 200/500\n",
            "422/422 [==============================] - 4s 9ms/step - loss: 0.2693 - sparse_categorical_accuracy: 0.8972 - val_loss: 0.2702 - val_sparse_categorical_accuracy: 0.9018\n",
            "Epoch 201/500\n",
            "422/422 [==============================] - 4s 9ms/step - loss: 0.2659 - sparse_categorical_accuracy: 0.8995 - val_loss: 0.2609 - val_sparse_categorical_accuracy: 0.9032\n",
            "Epoch 202/500\n",
            "422/422 [==============================] - 3s 8ms/step - loss: 0.2707 - sparse_categorical_accuracy: 0.8998 - val_loss: 0.2650 - val_sparse_categorical_accuracy: 0.9033\n",
            "Epoch 203/500\n",
            "422/422 [==============================] - 4s 8ms/step - loss: 0.2668 - sparse_categorical_accuracy: 0.8991 - val_loss: 0.2693 - val_sparse_categorical_accuracy: 0.9005\n",
            "Epoch 204/500\n",
            "422/422 [==============================] - 4s 9ms/step - loss: 0.2664 - sparse_categorical_accuracy: 0.8990 - val_loss: 0.2679 - val_sparse_categorical_accuracy: 0.9002\n",
            "Epoch 205/500\n",
            "422/422 [==============================] - 4s 9ms/step - loss: 0.2682 - sparse_categorical_accuracy: 0.8993 - val_loss: 0.2683 - val_sparse_categorical_accuracy: 0.9035\n",
            "Epoch 206/500\n",
            "422/422 [==============================] - 4s 9ms/step - loss: 0.2689 - sparse_categorical_accuracy: 0.8981 - val_loss: 0.2641 - val_sparse_categorical_accuracy: 0.9013\n",
            "Epoch 207/500\n",
            "422/422 [==============================] - 4s 10ms/step - loss: 0.2664 - sparse_categorical_accuracy: 0.8985 - val_loss: 0.2632 - val_sparse_categorical_accuracy: 0.9028\n",
            "Epoch 208/500\n",
            "422/422 [==============================] - 4s 8ms/step - loss: 0.2700 - sparse_categorical_accuracy: 0.8978 - val_loss: 0.2617 - val_sparse_categorical_accuracy: 0.9038\n",
            "Epoch 209/500\n",
            "422/422 [==============================] - 4s 8ms/step - loss: 0.2685 - sparse_categorical_accuracy: 0.8985 - val_loss: 0.2622 - val_sparse_categorical_accuracy: 0.9063\n",
            "Epoch 210/500\n",
            "422/422 [==============================] - 4s 9ms/step - loss: 0.2662 - sparse_categorical_accuracy: 0.8993 - val_loss: 0.2653 - val_sparse_categorical_accuracy: 0.9015\n",
            "Epoch 211/500\n",
            "422/422 [==============================] - 4s 9ms/step - loss: 0.2701 - sparse_categorical_accuracy: 0.8983 - val_loss: 0.2632 - val_sparse_categorical_accuracy: 0.9055\n",
            "Epoch 212/500\n",
            "422/422 [==============================] - 4s 8ms/step - loss: 0.2680 - sparse_categorical_accuracy: 0.8977 - val_loss: 0.2644 - val_sparse_categorical_accuracy: 0.9047\n",
            "Epoch 213/500\n",
            "422/422 [==============================] - 4s 8ms/step - loss: 0.2693 - sparse_categorical_accuracy: 0.8979 - val_loss: 0.2640 - val_sparse_categorical_accuracy: 0.9023\n",
            "Epoch 214/500\n",
            "422/422 [==============================] - 4s 10ms/step - loss: 0.2671 - sparse_categorical_accuracy: 0.9003 - val_loss: 0.2632 - val_sparse_categorical_accuracy: 0.9042\n",
            "Epoch 215/500\n",
            "422/422 [==============================] - 4s 8ms/step - loss: 0.2649 - sparse_categorical_accuracy: 0.8994 - val_loss: 0.2640 - val_sparse_categorical_accuracy: 0.9017\n",
            "Epoch 216/500\n",
            "422/422 [==============================] - 4s 8ms/step - loss: 0.2682 - sparse_categorical_accuracy: 0.8976 - val_loss: 0.2589 - val_sparse_categorical_accuracy: 0.9045\n",
            "Epoch 217/500\n",
            "422/422 [==============================] - 4s 10ms/step - loss: 0.2658 - sparse_categorical_accuracy: 0.9001 - val_loss: 0.2653 - val_sparse_categorical_accuracy: 0.8987\n",
            "Epoch 218/500\n",
            "422/422 [==============================] - 4s 8ms/step - loss: 0.2655 - sparse_categorical_accuracy: 0.8979 - val_loss: 0.2695 - val_sparse_categorical_accuracy: 0.9022\n",
            "Epoch 219/500\n",
            "422/422 [==============================] - 4s 8ms/step - loss: 0.2664 - sparse_categorical_accuracy: 0.8989 - val_loss: 0.2661 - val_sparse_categorical_accuracy: 0.9027\n",
            "Epoch 220/500\n",
            "422/422 [==============================] - 4s 9ms/step - loss: 0.2674 - sparse_categorical_accuracy: 0.8989 - val_loss: 0.2616 - val_sparse_categorical_accuracy: 0.9028\n",
            "Epoch 221/500\n",
            "422/422 [==============================] - 4s 9ms/step - loss: 0.2619 - sparse_categorical_accuracy: 0.9011 - val_loss: 0.2645 - val_sparse_categorical_accuracy: 0.9033\n",
            "Epoch 222/500\n",
            "422/422 [==============================] - 3s 8ms/step - loss: 0.2683 - sparse_categorical_accuracy: 0.8976 - val_loss: 0.2626 - val_sparse_categorical_accuracy: 0.9037\n",
            "Epoch 223/500\n",
            "422/422 [==============================] - 4s 8ms/step - loss: 0.2646 - sparse_categorical_accuracy: 0.8995 - val_loss: 0.2612 - val_sparse_categorical_accuracy: 0.9037\n",
            "Epoch 224/500\n",
            "422/422 [==============================] - 4s 10ms/step - loss: 0.2677 - sparse_categorical_accuracy: 0.8992 - val_loss: 0.2645 - val_sparse_categorical_accuracy: 0.9033\n",
            "Epoch 225/500\n",
            "422/422 [==============================] - 4s 9ms/step - loss: 0.2644 - sparse_categorical_accuracy: 0.8990 - val_loss: 0.2615 - val_sparse_categorical_accuracy: 0.9023\n",
            "Epoch 226/500\n",
            "422/422 [==============================] - 4s 8ms/step - loss: 0.2677 - sparse_categorical_accuracy: 0.8985 - val_loss: 0.2636 - val_sparse_categorical_accuracy: 0.9030\n",
            "Epoch 227/500\n",
            "422/422 [==============================] - 4s 10ms/step - loss: 0.2645 - sparse_categorical_accuracy: 0.8987 - val_loss: 0.2628 - val_sparse_categorical_accuracy: 0.9053\n",
            "Epoch 228/500\n",
            "422/422 [==============================] - 4s 8ms/step - loss: 0.2652 - sparse_categorical_accuracy: 0.8998 - val_loss: 0.2635 - val_sparse_categorical_accuracy: 0.9067\n",
            "Epoch 229/500\n",
            "422/422 [==============================] - 3s 8ms/step - loss: 0.2624 - sparse_categorical_accuracy: 0.8982 - val_loss: 0.2625 - val_sparse_categorical_accuracy: 0.9057\n",
            "Epoch 230/500\n",
            "422/422 [==============================] - 4s 9ms/step - loss: 0.2645 - sparse_categorical_accuracy: 0.8998 - val_loss: 0.2596 - val_sparse_categorical_accuracy: 0.9035\n",
            "Epoch 231/500\n",
            "422/422 [==============================] - 4s 9ms/step - loss: 0.2622 - sparse_categorical_accuracy: 0.9004 - val_loss: 0.2632 - val_sparse_categorical_accuracy: 0.9018\n",
            "Epoch 232/500\n",
            "422/422 [==============================] - 3s 8ms/step - loss: 0.2645 - sparse_categorical_accuracy: 0.9002 - val_loss: 0.2668 - val_sparse_categorical_accuracy: 0.9020\n",
            "Epoch 233/500\n",
            "422/422 [==============================] - 4s 8ms/step - loss: 0.2639 - sparse_categorical_accuracy: 0.8998 - val_loss: 0.2637 - val_sparse_categorical_accuracy: 0.9030\n",
            "Epoch 234/500\n",
            "422/422 [==============================] - 4s 9ms/step - loss: 0.2634 - sparse_categorical_accuracy: 0.9002 - val_loss: 0.2632 - val_sparse_categorical_accuracy: 0.9032\n",
            "Epoch 235/500\n",
            "422/422 [==============================] - 4s 8ms/step - loss: 0.2620 - sparse_categorical_accuracy: 0.8998 - val_loss: 0.2606 - val_sparse_categorical_accuracy: 0.9020\n",
            "Epoch 236/500\n",
            "422/422 [==============================] - 4s 8ms/step - loss: 0.2605 - sparse_categorical_accuracy: 0.9005 - val_loss: 0.2698 - val_sparse_categorical_accuracy: 0.9022\n",
            "Epoch 237/500\n",
            "422/422 [==============================] - 4s 9ms/step - loss: 0.2650 - sparse_categorical_accuracy: 0.9002 - val_loss: 0.2630 - val_sparse_categorical_accuracy: 0.9042\n",
            "Epoch 238/500\n",
            "422/422 [==============================] - 4s 9ms/step - loss: 0.2611 - sparse_categorical_accuracy: 0.9023 - val_loss: 0.2652 - val_sparse_categorical_accuracy: 0.9040\n",
            "Epoch 239/500\n",
            "422/422 [==============================] - 4s 8ms/step - loss: 0.2608 - sparse_categorical_accuracy: 0.9016 - val_loss: 0.2652 - val_sparse_categorical_accuracy: 0.9025\n",
            "Epoch 240/500\n",
            "422/422 [==============================] - 4s 9ms/step - loss: 0.2632 - sparse_categorical_accuracy: 0.8999 - val_loss: 0.2631 - val_sparse_categorical_accuracy: 0.9025\n",
            "Epoch 241/500\n",
            "422/422 [==============================] - 4s 9ms/step - loss: 0.2604 - sparse_categorical_accuracy: 0.9009 - val_loss: 0.2630 - val_sparse_categorical_accuracy: 0.9038\n",
            "Epoch 242/500\n",
            "422/422 [==============================] - 4s 8ms/step - loss: 0.2651 - sparse_categorical_accuracy: 0.9008 - val_loss: 0.2623 - val_sparse_categorical_accuracy: 0.9028\n",
            "Epoch 243/500\n",
            "422/422 [==============================] - 4s 9ms/step - loss: 0.2652 - sparse_categorical_accuracy: 0.9000 - val_loss: 0.2594 - val_sparse_categorical_accuracy: 0.9052\n",
            "Epoch 244/500\n",
            "422/422 [==============================] - 4s 9ms/step - loss: 0.2658 - sparse_categorical_accuracy: 0.8992 - val_loss: 0.2634 - val_sparse_categorical_accuracy: 0.9042\n",
            "Epoch 245/500\n",
            "422/422 [==============================] - 3s 8ms/step - loss: 0.2647 - sparse_categorical_accuracy: 0.9011 - val_loss: 0.2623 - val_sparse_categorical_accuracy: 0.9042\n",
            "Epoch 246/500\n",
            "422/422 [==============================] - 3s 8ms/step - loss: 0.2628 - sparse_categorical_accuracy: 0.8994 - val_loss: 0.2654 - val_sparse_categorical_accuracy: 0.9040\n",
            "Epoch 247/500\n",
            "422/422 [==============================] - 4s 9ms/step - loss: 0.2628 - sparse_categorical_accuracy: 0.9011 - val_loss: 0.2670 - val_sparse_categorical_accuracy: 0.9028\n",
            "Epoch 248/500\n",
            "422/422 [==============================] - 4s 8ms/step - loss: 0.2595 - sparse_categorical_accuracy: 0.9009 - val_loss: 0.2619 - val_sparse_categorical_accuracy: 0.9017\n",
            "Epoch 249/500\n",
            "422/422 [==============================] - 4s 8ms/step - loss: 0.2635 - sparse_categorical_accuracy: 0.9006 - val_loss: 0.2630 - val_sparse_categorical_accuracy: 0.9037\n",
            "Epoch 250/500\n",
            "422/422 [==============================] - 3s 8ms/step - loss: 0.2618 - sparse_categorical_accuracy: 0.8996 - val_loss: 0.2637 - val_sparse_categorical_accuracy: 0.9023\n",
            "Epoch 251/500\n",
            "422/422 [==============================] - 4s 9ms/step - loss: 0.2594 - sparse_categorical_accuracy: 0.9012 - val_loss: 0.2618 - val_sparse_categorical_accuracy: 0.9040\n",
            "Epoch 252/500\n",
            "422/422 [==============================] - 3s 8ms/step - loss: 0.2598 - sparse_categorical_accuracy: 0.9016 - val_loss: 0.2614 - val_sparse_categorical_accuracy: 0.9038\n",
            "Epoch 253/500\n",
            "422/422 [==============================] - 4s 9ms/step - loss: 0.2632 - sparse_categorical_accuracy: 0.8997 - val_loss: 0.2625 - val_sparse_categorical_accuracy: 0.9028\n",
            "Epoch 254/500\n",
            "422/422 [==============================] - 4s 10ms/step - loss: 0.2620 - sparse_categorical_accuracy: 0.9006 - val_loss: 0.2627 - val_sparse_categorical_accuracy: 0.9023\n",
            "Epoch 255/500\n",
            "422/422 [==============================] - 4s 9ms/step - loss: 0.2632 - sparse_categorical_accuracy: 0.8998 - val_loss: 0.2647 - val_sparse_categorical_accuracy: 0.9022\n",
            "Epoch 256/500\n",
            "422/422 [==============================] - 4s 8ms/step - loss: 0.2599 - sparse_categorical_accuracy: 0.9004 - val_loss: 0.2652 - val_sparse_categorical_accuracy: 0.9028\n",
            "Epoch 257/500\n",
            "422/422 [==============================] - 4s 9ms/step - loss: 0.2605 - sparse_categorical_accuracy: 0.9011 - val_loss: 0.2679 - val_sparse_categorical_accuracy: 0.9053\n",
            "Epoch 258/500\n",
            "422/422 [==============================] - 4s 9ms/step - loss: 0.2632 - sparse_categorical_accuracy: 0.8993 - val_loss: 0.2601 - val_sparse_categorical_accuracy: 0.9048\n",
            "Epoch 259/500\n",
            "422/422 [==============================] - 4s 8ms/step - loss: 0.2625 - sparse_categorical_accuracy: 0.9011 - val_loss: 0.2637 - val_sparse_categorical_accuracy: 0.9062\n",
            "Epoch 260/500\n",
            "422/422 [==============================] - 3s 8ms/step - loss: 0.2632 - sparse_categorical_accuracy: 0.9002 - val_loss: 0.2635 - val_sparse_categorical_accuracy: 0.9023\n",
            "Epoch 261/500\n",
            "422/422 [==============================] - 4s 9ms/step - loss: 0.2584 - sparse_categorical_accuracy: 0.9006 - val_loss: 0.2629 - val_sparse_categorical_accuracy: 0.9050\n",
            "Epoch 262/500\n",
            "422/422 [==============================] - 4s 8ms/step - loss: 0.2621 - sparse_categorical_accuracy: 0.9017 - val_loss: 0.2591 - val_sparse_categorical_accuracy: 0.9037\n",
            "Epoch 263/500\n",
            "422/422 [==============================] - 4s 8ms/step - loss: 0.2619 - sparse_categorical_accuracy: 0.9013 - val_loss: 0.2616 - val_sparse_categorical_accuracy: 0.9025\n",
            "Epoch 264/500\n",
            "422/422 [==============================] - 4s 10ms/step - loss: 0.2567 - sparse_categorical_accuracy: 0.9025 - val_loss: 0.2603 - val_sparse_categorical_accuracy: 0.9007\n",
            "Epoch 265/500\n",
            "422/422 [==============================] - 4s 8ms/step - loss: 0.2608 - sparse_categorical_accuracy: 0.9016 - val_loss: 0.2588 - val_sparse_categorical_accuracy: 0.9040\n",
            "Epoch 266/500\n",
            "422/422 [==============================] - 3s 8ms/step - loss: 0.2606 - sparse_categorical_accuracy: 0.9018 - val_loss: 0.2587 - val_sparse_categorical_accuracy: 0.9068\n",
            "Epoch 267/500\n",
            "422/422 [==============================] - 4s 9ms/step - loss: 0.2607 - sparse_categorical_accuracy: 0.9010 - val_loss: 0.2631 - val_sparse_categorical_accuracy: 0.9022\n",
            "Epoch 268/500\n",
            "422/422 [==============================] - 4s 9ms/step - loss: 0.2608 - sparse_categorical_accuracy: 0.9016 - val_loss: 0.2654 - val_sparse_categorical_accuracy: 0.9028\n",
            "313/313 [==============================] - 1s 3ms/step - loss: 0.2950 - sparse_categorical_accuracy: 0.8952\n",
            "\n",
            "Test accuracy: 0.8952000141143799\n"
          ]
        }
      ]
    },
    {
      "cell_type": "code",
      "source": [
        "print('\\nhistory dict:', list(history.history.keys()))"
      ],
      "metadata": {
        "id": "CxRE-B_Q6Sii",
        "outputId": "33195c09-1704-4d74-9560-50f9f2e995e6",
        "colab": {
          "base_uri": "https://localhost:8080/"
        }
      },
      "execution_count": 90,
      "outputs": [
        {
          "output_type": "stream",
          "name": "stdout",
          "text": [
            "\n",
            "history dict: ['loss', 'sparse_categorical_accuracy', 'val_loss', 'val_sparse_categorical_accuracy']\n"
          ]
        }
      ]
    },
    {
      "cell_type": "code",
      "source": [
        "result = model.evaluate(x_test, y_test)\n",
        "print(result)"
      ],
      "metadata": {
        "id": "YXpwRRTvTBNg",
        "outputId": "ba8e8d7d-a258-4dc0-c4fe-eac5973e59a7",
        "colab": {
          "base_uri": "https://localhost:8080/"
        }
      },
      "execution_count": 91,
      "outputs": [
        {
          "output_type": "stream",
          "name": "stdout",
          "text": [
            "313/313 [==============================] - 1s 2ms/step - loss: 0.2950 - sparse_categorical_accuracy: 0.8952\n",
            "[0.2949862778186798, 0.8952000141143799]\n"
          ]
        }
      ]
    },
    {
      "cell_type": "code",
      "source": [
        "saved_model = load_model('best_model.h5')\n",
        "result = saved_model.evaluate(x_test, y_test)\n",
        "print(result)"
      ],
      "metadata": {
        "id": "dpaZAW0vp1AZ",
        "outputId": "d1cfc0d0-15b4-4921-cbfd-eb2e8f8566fa",
        "colab": {
          "base_uri": "https://localhost:8080/"
        }
      },
      "execution_count": 92,
      "outputs": [
        {
          "output_type": "stream",
          "name": "stdout",
          "text": [
            "313/313 [==============================] - 1s 3ms/step - loss: 0.2844 - sparse_categorical_accuracy: 0.8987\n",
            "[0.28443145751953125, 0.8986999988555908]\n"
          ]
        }
      ]
    },
    {
      "cell_type": "code",
      "source": [
        "# from keras.models import load_model\n",
        "# saved_model = load_model('best_model.h5')\n",
        "# # _, train_acc = saved_model.evaluate(x_train, y_train, verbose=0)\n",
        "# _, test_acc = saved_model.evaluate(x_test, y_test, verbose=0)\n",
        "# print('Test: %.3f' % (test_acc))"
      ],
      "metadata": {
        "id": "DR_MS9DABo_K"
      },
      "execution_count": 93,
      "outputs": []
    },
    {
      "cell_type": "code",
      "source": [
        "history_dict = history.history\n",
        "loss_values = history_dict['loss']\n",
        "val_loss_values = history_dict['val_loss']\n",
        "\n",
        "epochs = range(1, len(history_dict['loss']) + 1)\n",
        "\n",
        "plt.figure(figsize=(10, 5))\n",
        "plt.plot(epochs, loss_values, 'bo', label='Training loss')\n",
        "plt.plot(epochs, val_loss_values, 'r', label='Validation loss')\n",
        "plt.ylim (0.2, 0.5)\n",
        "plt.title('Training and validation loss')\n",
        "plt.xlabel('Epochs')\n",
        "plt.ylabel('Loss')\n",
        "plt.legend()\n",
        "plt.grid(True)\n",
        "plt.show()\n",
        "1\n",
        "plt.clf()\n",
        "plt.figure(figsize=(10, 5))\n",
        "val_acc_values = history_dict['sparse_categorical_accuracy']\n",
        "plt.plot(epochs, history_dict['sparse_categorical_accuracy'], 'bo', label='Training acc')\n",
        "plt.plot(epochs, history_dict['val_sparse_categorical_accuracy'], 'r', label='Validation acc')\n",
        "plt.ylim (0.88, 0.92)\n",
        "plt.title('Training and validation accuracy')\n",
        "plt.xlabel('Epochs')\n",
        "plt.ylabel('Accuracy')\n",
        "plt.legend()\n",
        "plt.grid(True)"
      ],
      "metadata": {
        "id": "2Ll_5sGlXKMH",
        "outputId": "8b4f2787-9cd8-4340-ff67-03d62ee60d2f",
        "colab": {
          "base_uri": "https://localhost:8080/",
          "height": 975
        }
      },
      "execution_count": 94,
      "outputs": [
        {
          "output_type": "display_data",
          "data": {
            "text/plain": [
              "<Figure size 1000x500 with 1 Axes>"
            ],
            "image/png": "[encoded data removed]"
          },
          "metadata": {}
        },
        {
          "output_type": "display_data",
          "data": {
            "text/plain": [
              "<Figure size 640x480 with 0 Axes>"
            ]
          },
          "metadata": {}
        },
        {
          "output_type": "display_data",
          "data": {
            "text/plain": [
              "<Figure size 1000x500 with 1 Axes>"
            ],
            "image/png": "[encoded data removed]"
          },
          "metadata": {}
        }
      ]
    },
    {
      "cell_type": "code",
      "source": [
        "probability_model = tf.keras.Sequential([model,\n",
        "                                         tf.keras.layers.Softmax()])"
      ],
      "metadata": {
        "id": "VzOdKAT_uV-f"
      },
      "execution_count": 95,
      "outputs": []
    },
    {
      "cell_type": "code",
      "source": [
        "predictions = probability_model.predict(x_test)"
      ],
      "metadata": {
        "id": "f4is3NFruYom",
        "outputId": "2eab86be-8e14-4feb-fe7c-1ba95869d801",
        "colab": {
          "base_uri": "https://localhost:8080/"
        }
      },
      "execution_count": 96,
      "outputs": [
        {
          "output_type": "stream",
          "name": "stdout",
          "text": [
            "313/313 [==============================] - 1s 2ms/step\n"
          ]
        }
      ]
    },
    {
      "cell_type": "code",
      "source": [
        "predictions[0]"
      ],
      "metadata": {
        "id": "82cigvlZudz_",
        "outputId": "f92aca21-2b1b-4cf5-b071-782f9e93374a",
        "colab": {
          "base_uri": "https://localhost:8080/"
        }
      },
      "execution_count": 97,
      "outputs": [
        {
          "output_type": "execute_result",
          "data": {
            "text/plain": [
              "array([0.08537909, 0.08537909, 0.08537909, 0.08537909, 0.08537909,\n",
              "       0.08538563, 0.08537909, 0.08566283, 0.08537909, 0.23129798],\n",
              "      dtype=float32)"
            ]
          },
          "metadata": {},
          "execution_count": 97
        }
      ]
    },
    {
      "cell_type": "code",
      "source": [
        "model.summary()"
      ],
      "metadata": {
        "id": "6RsQPHyYuNGe",
        "outputId": "ec859b3e-243d-4ff7-cc6f-566fa4c2b109",
        "colab": {
          "base_uri": "https://localhost:8080/"
        }
      },
      "execution_count": 98,
      "outputs": [
        {
          "output_type": "stream",
          "name": "stdout",
          "text": [
            "Model: \"sequential_6\"\n",
            "_________________________________________________________________\n",
            " Layer (type)                Output Shape              Param #   \n",
            "=================================================================\n",
            " flatten_3 (Flatten)         (None, 784)               0         \n",
            "                                                                 \n",
            " dropout_12 (Dropout)        (None, 784)               0         \n",
            "                                                                 \n",
            " batch_normalization_9 (Bat  (None, 784)               3136      \n",
            " chNormalization)                                                \n",
            "                                                                 \n",
            " dense_12 (Dense)            (None, 256)               200960    \n",
            "                                                                 \n",
            " dropout_13 (Dropout)        (None, 256)               0         \n",
            "                                                                 \n",
            " batch_normalization_10 (Ba  (None, 256)               1024      \n",
            " tchNormalization)                                               \n",
            "                                                                 \n",
            " dense_13 (Dense)            (None, 256)               65792     \n",
            "                                                                 \n",
            " dropout_14 (Dropout)        (None, 256)               0         \n",
            "                                                                 \n",
            " batch_normalization_11 (Ba  (None, 256)               1024      \n",
            " tchNormalization)                                               \n",
            "                                                                 \n",
            " dense_14 (Dense)            (None, 512)               131584    \n",
            "                                                                 \n",
            " dropout_15 (Dropout)        (None, 512)               0         \n",
            "                                                                 \n",
            " batch_normalization_12 (Ba  (None, 512)               2048      \n",
            " tchNormalization)                                               \n",
            "                                                                 \n",
            " dense_15 (Dense)            (None, 512)               262656    \n",
            "                                                                 \n",
            " dropout_16 (Dropout)        (None, 512)               0         \n",
            "                                                                 \n",
            " dense_16 (Dense)            (None, 10)                5130      \n",
            "                                                                 \n",
            "=================================================================\n",
            "Total params: 673354 (2.57 MB)\n",
            "Trainable params: 669738 (2.55 MB)\n",
            "Non-trainable params: 3616 (14.12 KB)\n",
            "_________________________________________________________________\n"
          ]
        }
      ]
    },
    {
      "cell_type": "code",
      "source": [
        "\n",
        "\n",
        "\n",
        "\n",
        "hnyetjn hrte()"
      ],
      "metadata": {
        "id": "S4hcxZttmp-0",
        "outputId": "7a7859ee-6a5a-42f5-fa6b-706e74d3d3aa",
        "colab": {
          "base_uri": "https://localhost:8080/",
          "height": 143
        }
      },
      "execution_count": 99,
      "outputs": [
        {
          "output_type": "error",
          "ename": "SyntaxError",
          "evalue": "invalid syntax (<ipython-input-99-1a3818e70946>, line 1)",
          "traceback": [
            "\u001b[0;36m  File \u001b[0;32m\"<ipython-input-99-1a3818e70946>\"\u001b[0;36m, line \u001b[0;32m1\u001b[0m\n\u001b[0;31m    hnyetjn hrte()\u001b[0m\n\u001b[0m            ^\u001b[0m\n\u001b[0;31mSyntaxError\u001b[0m\u001b[0;31m:\u001b[0m invalid syntax\n"
          ]
        }
      ]
    }
  ]
}