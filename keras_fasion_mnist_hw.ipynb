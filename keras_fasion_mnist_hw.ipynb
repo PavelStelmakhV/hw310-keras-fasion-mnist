{
  "nbformat": 4,
  "nbformat_minor": 0,
  "metadata": {
    "colab": {
      "provenance": [],
      "gpuType": "T4",
      "authorship_tag": "ABX9TyMaGYzLRoapoD9kuFCHOnHL",
      "include_colab_link": true
    },
    "kernelspec": {
      "name": "python3",
      "display_name": "Python 3"
    },
    "language_info": {
      "name": "python"
    },
    "accelerator": "GPU"
  },
  "cells": [
    {
      "cell_type": "markdown",
      "metadata": {
        "id": "view-in-github",
        "colab_type": "text"
      },
      "source": [
        "<a href=\"https://colab.research.google.com/github/PavelStelmakhV/hw310-keras-fasion-mnist/blob/main/keras_fasion_mnist_hw.ipynb\" target=\"_parent\"><img src=\"https://colab.research.google.com/assets/colab-badge.svg\" alt=\"Open In Colab\"/></a>"
      ]
    },
    {
      "cell_type": "code",
      "source": [
        "import tensorflow as tf\n",
        "from tensorflow.python.client import device_lib\n",
        "print(device_lib.list_local_devices())"
      ],
      "metadata": {
        "colab": {
          "base_uri": "https://localhost:8080/"
        },
        "id": "CQL6wYJUms6Y",
        "outputId": "74c98917-b980-4bb1-e451-b5354cca7d9e"
      },
      "execution_count": 342,
      "outputs": [
        {
          "output_type": "stream",
          "name": "stdout",
          "text": [
            "[name: \"/device:CPU:0\"\n",
            "device_type: \"CPU\"\n",
            "memory_limit: 268435456\n",
            "locality {\n",
            "}\n",
            "incarnation: 11665403496325850667\n",
            "xla_global_id: -1\n",
            "]\n"
          ]
        }
      ]
    },
    {
      "cell_type": "code",
      "execution_count": 343,
      "metadata": {
        "id": "vv7w0bgAVQPO"
      },
      "outputs": [],
      "source": [
        "import tensorflow as tf\n",
        "import numpy as np\n",
        "import matplotlib.pyplot as plt\n",
        "import tf_keras\n",
        "\n",
        "from keras import layers\n",
        "from keras import models\n",
        "from keras import regularizers\n",
        "from keras import callbacks\n",
        "from keras import initializers\n",
        "from keras.layers import BatchNormalization\n",
        "from keras.models import load_model\n",
        "from tensorflow.keras.utils import to_categorical"
      ]
    },
    {
      "cell_type": "code",
      "source": [
        "num_classes = 10"
      ],
      "metadata": {
        "id": "RvT1uYJsa5cn"
      },
      "execution_count": 344,
      "outputs": []
    },
    {
      "cell_type": "code",
      "source": [
        "fashion_mnist = tf.keras.datasets.fashion_mnist\n",
        "\n",
        "(x_train, y_train), (x_test, y_test) = fashion_mnist.load_data()"
      ],
      "metadata": {
        "id": "mOpywsNAzfGB"
      },
      "execution_count": 345,
      "outputs": []
    },
    {
      "cell_type": "code",
      "source": [
        "def drow_hist(data):\n",
        "  plt.figure(figsize=(8,6), dpi= 80)\n",
        "  _ = plt.hist(data,\n",
        "              bins=num_classes,\n",
        "              stacked=True,\n",
        "              density=False,\n",
        "              range=(0,10),\n",
        "              rwidth=0.9,\n",
        "              )"
      ],
      "metadata": {
        "id": "NjEvuOvomEoT"
      },
      "execution_count": 346,
      "outputs": []
    },
    {
      "cell_type": "code",
      "source": [
        "# create validation data\n",
        "val_size = 6600\n",
        "\n",
        "x_val = x_train[-val_size:, :, :]\n",
        "x_train = x_train[:-val_size, :, :]\n",
        "\n",
        "y_val = y_train[-val_size:]\n",
        "y_train = y_train[:-val_size]"
      ],
      "metadata": {
        "id": "jAs92sDoVU89"
      },
      "execution_count": 347,
      "outputs": []
    },
    {
      "cell_type": "code",
      "source": [
        "# mirror train image\n",
        "# x_train_add = np.rot90(x_train, k=1, axes=(1,2))\n",
        "# x_train_add = np.transpose(x_train_add, (0, 2, 1))"
      ],
      "metadata": {
        "id": "UHNuw-3D_v7x"
      },
      "execution_count": 348,
      "outputs": []
    },
    {
      "cell_type": "code",
      "source": [
        "# y_train_add = y_train.copy()"
      ],
      "metadata": {
        "id": "TNDXV8RfZbt1"
      },
      "execution_count": 349,
      "outputs": []
    },
    {
      "cell_type": "code",
      "source": [
        "# # remove boots image from addition data [5, 7, 9]\n",
        "# for i in [5, 7, 9]:\n",
        "#     index = np.where(y_train_add == i )\n",
        "#     x_train_add = np.delete(x_train_add, index , axis=0)\n",
        "#     y_train_add = np.delete(y_train_add, index , axis=0)"
      ],
      "metadata": {
        "id": "506yp4e5UqKp"
      },
      "execution_count": 350,
      "outputs": []
    },
    {
      "cell_type": "code",
      "source": [
        "# x_train_add.shape"
      ],
      "metadata": {
        "id": "WB-PVgBb116E"
      },
      "execution_count": 351,
      "outputs": []
    },
    {
      "cell_type": "code",
      "source": [
        "# y_train_add.shape"
      ],
      "metadata": {
        "id": "MjteIWwr2V-N"
      },
      "execution_count": 352,
      "outputs": []
    },
    {
      "cell_type": "code",
      "source": [
        "# x_train = np.concatenate([\n",
        "#     x_train,\n",
        "#     x_train_add[:10000:, :, :]\n",
        "# ])"
      ],
      "metadata": {
        "id": "C25g0-L5PuhV"
      },
      "execution_count": 353,
      "outputs": []
    },
    {
      "cell_type": "code",
      "source": [
        "# y_train = np.concatenate([\n",
        "#     y_train,\n",
        "#     y_train_add[:10000]\n",
        "# ])"
      ],
      "metadata": {
        "id": "JiyI9CE-RWnR"
      },
      "execution_count": 354,
      "outputs": []
    },
    {
      "cell_type": "code",
      "source": [
        "# drow_hist(y_train)"
      ],
      "metadata": {
        "id": "j0FZ4_7DpRVw"
      },
      "execution_count": 355,
      "outputs": []
    },
    {
      "cell_type": "code",
      "source": [
        "# plt.figure()\n",
        "# plt.imshow(x_train[7])\n",
        "# plt.colorbar()\n",
        "# plt.grid(False)\n",
        "# plt.show()"
      ],
      "metadata": {
        "id": "mq_QalIABCeU"
      },
      "execution_count": 356,
      "outputs": []
    },
    {
      "cell_type": "code",
      "source": [
        "# plt.figure()\n",
        "# plt.imshow(x_train_add[0])\n",
        "# plt.colorbar()\n",
        "# plt.grid(False)\n",
        "# plt.show()"
      ],
      "metadata": {
        "id": "CDLNL7Zw3HEc"
      },
      "execution_count": 357,
      "outputs": []
    },
    {
      "cell_type": "code",
      "source": [
        "x_train = x_train.astype('float32') / 255\n",
        "x_test = x_test.astype('float32') / 255\n",
        "x_val = x_val.astype('float32') / 255\n",
        "\n",
        "y_train = to_categorical(y_train)\n",
        "y_test = to_categorical(y_test)\n",
        "y_val = to_categorical(y_val)"
      ],
      "metadata": {
        "id": "t2gucjsJ0KUi"
      },
      "execution_count": 358,
      "outputs": []
    },
    {
      "cell_type": "code",
      "source": [
        "# class_names = ['T-shirt/top', 'Trouser', 'Pullover', 'Dress', 'Coat',\n",
        "#                'Sandal', 'Shirt', 'Sneaker', 'Bag', 'Ankle boot']\n",
        "\n",
        "# plt.figure(figsize=(10,10))\n",
        "# for i in range(25):\n",
        "#     plt.subplot(5,5,i+1)\n",
        "#     plt.xticks([])\n",
        "#     plt.yticks([])\n",
        "#     plt.grid(False)\n",
        "#     plt.imshow(x_train[i+50000], cmap=plt.cm.binary)\n",
        "#     plt.xlabel(class_names[int(y_train[i+50000])])\n",
        "# plt.show()"
      ],
      "metadata": {
        "id": "h4LveKxM4hyC"
      },
      "execution_count": 359,
      "outputs": []
    },
    {
      "cell_type": "code",
      "source": [
        "# plt.figure(figsize=(10,10))\n",
        "# for i in range(25):\n",
        "#     plt.subplot(5,5,i+1)\n",
        "#     plt.xticks([])\n",
        "#     plt.yticks([])\n",
        "#     plt.grid(False)\n",
        "#     plt.imshow(x_train[i], cmap=plt.cm.binary)\n",
        "#     plt.xlabel(class_names[int(y_train[i])])\n",
        "# plt.show()"
      ],
      "metadata": {
        "id": "hljEDYd55d8Q"
      },
      "execution_count": 360,
      "outputs": []
    },
    {
      "cell_type": "code",
      "source": [
        "w_init_tanh = initializers.glorot_normal(seed=111)\n",
        "w_init_relu = initializers.HeNormal(seed=66)\n",
        "# w_init_relu = initializers.HeUniform(seed=24)\n",
        "b_init = initializers.Zeros()"
      ],
      "metadata": {
        "id": "yL9QTEtBGy4N"
      },
      "execution_count": 361,
      "outputs": []
    },
    {
      "cell_type": "code",
      "source": [
        "def layer_relu(model, neurons, drop_out):\n",
        "  model.add(BatchNormalization())\n",
        "  model.add(layers.Dense(neurons,\n",
        "                       activation='relu',\n",
        "                       kernel_initializer=w_init_relu,\n",
        "                       bias_initializer=b_init))\n",
        "  model.add(layers.Dropout(drop_out))\n",
        "  print(drop_out)\n",
        "  return model"
      ],
      "metadata": {
        "id": "ZZgs_25rKBCp"
      },
      "execution_count": 362,
      "outputs": []
    },
    {
      "cell_type": "code",
      "source": [
        "def layer_tanh(model, neurons, drop_out):\n",
        "  model.add(BatchNormalization())\n",
        "  model.add(layers.Dense(neurons,\n",
        "                        activation='tanh',\n",
        "                        kernel_initializer=w_init_tanh,\n",
        "                        bias_initializer=b_init))\n",
        "  model.add(layers.Dropout(drop_out))\n",
        "  return model"
      ],
      "metadata": {
        "id": "90JLLnkBR50t"
      },
      "execution_count": 363,
      "outputs": []
    },
    {
      "cell_type": "code",
      "source": [
        "model = models.Sequential()\n",
        "\n",
        "neurons = 256\n",
        "drop_out = 0.2\n",
        "\n",
        "model.add(layers.Flatten(input_shape=(28, 28)))\n",
        "model.add(layers.Dropout(0.3))\n",
        "\n",
        "model = layer_relu(model, neurons*1, drop_out)\n",
        "model = layer_tanh(model, neurons*2, drop_out)\n",
        "model = layer_relu(model, neurons*2, drop_out)\n",
        "# model = layer_relu(model, neurons*2)\n",
        "\n",
        "\n",
        "model.add(layers.Dense(10, activation='softmax'))"
      ],
      "metadata": {
        "id": "atS39i4d0aqW",
        "colab": {
          "base_uri": "https://localhost:8080/"
        },
        "outputId": "4b1bee64-4961-4293-c64c-0061dae9318d"
      },
      "execution_count": 364,
      "outputs": [
        {
          "output_type": "stream",
          "name": "stdout",
          "text": [
            "0.2\n",
            "0.2\n"
          ]
        }
      ]
    },
    {
      "cell_type": "markdown",
      "source": [
        "++++++++++++++++++++++++++++++++++++++++++++++++++++++++++++++++++++++++++++++++"
      ],
      "metadata": {
        "id": "tZO7hl7pM63y"
      }
    },
    {
      "cell_type": "code",
      "source": [
        "optimizer = tf.keras.optimizers.Nadam(learning_rate=0.0004,\n",
        "                                      beta_1=0.9,\n",
        "                                      beta_2=0.999,\n",
        "                                      epsilon=1e-06\n",
        ")\n",
        "# optimizer = tf.keras.optimizers.experimental.RMSprop(learning_rate=0.0005,\n",
        "#                                                     rho=0.5,\n",
        "#                                                     momentum=-16,\n",
        "#                                                     epsilon=1e-07,\n",
        "#                                                     centered=False,\n",
        "#                                                     weight_decay=None,\n",
        "#                                                     clipnorm=None,\n",
        "#                                                     clipvalue=None,\n",
        "#                                                     global_clipnorm=None,\n",
        "#                                                     use_ema=False,\n",
        "#                                                     ema_momentum=0.99,\n",
        "#                                                     ema_overwrite_frequency=100,\n",
        "#                                                     jit_compile=True,\n",
        "#                                                     name='RMSprop',\n",
        "# )"
      ],
      "metadata": {
        "id": "EzfnaqIZlfy8"
      },
      "execution_count": 365,
      "outputs": []
    },
    {
      "cell_type": "markdown",
      "source": [
        "++++++++++++++++++++++++++++++++++++++++++++++++++++++++++++++++++++++++++++++++"
      ],
      "metadata": {
        "id": "KHmBptvOM95Z"
      }
    },
    {
      "cell_type": "code",
      "source": [
        "model.compile(#optimizer='adam',\n",
        "              # optimizer='adamax',\n",
        "              optimizer=optimizer,\n",
        "              # optimizer='rmsprop',\n",
        "              # optimizer='sgd',\n",
        "              # optimizer='adadelta',\n",
        "              # loss='binary_crossentropy',\n",
        "              loss=tf.keras.losses.CategoricalCrossentropy(),\n",
        "              metrics=['categorical_accuracy']) # sparse_categorical_accuracy"
      ],
      "metadata": {
        "id": "hENVaAC7ilNY"
      },
      "execution_count": 366,
      "outputs": []
    },
    {
      "cell_type": "code",
      "source": [
        "# callback = callbacks.EarlyStopping(monitor='val_loss',\n",
        "#                                    patience=15,\n",
        "#                                    restore_best_weights=True,\n",
        "#                                    )\n",
        "es = callbacks.EarlyStopping(monitor='val_loss', mode='min', verbose=0, patience=60)\n",
        "mc = callbacks.ModelCheckpoint('best_model.h5', monitor='categorical_accuracy', mode='max', verbose=0, save_best_only=True)\n"
      ],
      "metadata": {
        "id": "5ihU4exVlsjm"
      },
      "execution_count": 367,
      "outputs": []
    },
    {
      "cell_type": "code",
      "source": [
        "history = model.fit(x_train, y_train,\n",
        "                    epochs=1000,\n",
        "                    batch_size=128,\n",
        "                    # callbacks=[callback],\n",
        "                    callbacks=[mc, es],\n",
        "                    verbose=1, #многословие\n",
        "                    # validation_split=0.2\n",
        "                    validation_data=(x_val, y_val)\n",
        "                    )\n",
        "test_loss, test_acc = model.evaluate(x_test, y_test)\n",
        "print('\\nTest accuracy:', test_acc)"
      ],
      "metadata": {
        "id": "FH8HcMNm233I",
        "outputId": "a06d2841-4b2b-4705-b2b6-5c806f6d13a8",
        "colab": {
          "base_uri": "https://localhost:8080/"
        }
      },
      "execution_count": 368,
      "outputs": [
        {
          "output_type": "stream",
          "name": "stdout",
          "text": [
            "Epoch 1/1000\n",
            "418/418 [==============================] - 14s 26ms/step - loss: 0.7552 - categorical_accuracy: 0.7334 - val_loss: 0.4379 - val_categorical_accuracy: 0.8320\n",
            "Epoch 2/1000\n",
            "418/418 [==============================] - 11s 27ms/step - loss: 0.5393 - categorical_accuracy: 0.8027 - val_loss: 0.3939 - val_categorical_accuracy: 0.8530\n",
            "Epoch 3/1000\n",
            "418/418 [==============================] - 11s 27ms/step - loss: 0.4789 - categorical_accuracy: 0.8227 - val_loss: 0.3837 - val_categorical_accuracy: 0.8589\n",
            "Epoch 4/1000\n",
            "418/418 [==============================] - 11s 27ms/step - loss: 0.4475 - categorical_accuracy: 0.8349 - val_loss: 0.3556 - val_categorical_accuracy: 0.8665\n",
            "Epoch 5/1000\n",
            "418/418 [==============================] - 11s 27ms/step - loss: 0.4242 - categorical_accuracy: 0.8423 - val_loss: 0.3476 - val_categorical_accuracy: 0.8732\n",
            "Epoch 6/1000\n",
            "418/418 [==============================] - 11s 26ms/step - loss: 0.4065 - categorical_accuracy: 0.8484 - val_loss: 0.3439 - val_categorical_accuracy: 0.8733\n",
            "Epoch 7/1000\n",
            "418/418 [==============================] - 11s 25ms/step - loss: 0.3991 - categorical_accuracy: 0.8510 - val_loss: 0.3306 - val_categorical_accuracy: 0.8786\n",
            "Epoch 8/1000\n",
            "418/418 [==============================] - 11s 25ms/step - loss: 0.3875 - categorical_accuracy: 0.8537 - val_loss: 0.3324 - val_categorical_accuracy: 0.8786\n",
            "Epoch 9/1000\n",
            "418/418 [==============================] - 11s 26ms/step - loss: 0.3744 - categorical_accuracy: 0.8590 - val_loss: 0.3217 - val_categorical_accuracy: 0.8802\n",
            "Epoch 10/1000\n",
            "418/418 [==============================] - 11s 27ms/step - loss: 0.3702 - categorical_accuracy: 0.8616 - val_loss: 0.3205 - val_categorical_accuracy: 0.8800\n",
            "Epoch 11/1000\n",
            "418/418 [==============================] - 11s 27ms/step - loss: 0.3612 - categorical_accuracy: 0.8648 - val_loss: 0.3179 - val_categorical_accuracy: 0.8824\n",
            "Epoch 12/1000\n",
            "418/418 [==============================] - 11s 27ms/step - loss: 0.3565 - categorical_accuracy: 0.8664 - val_loss: 0.3141 - val_categorical_accuracy: 0.8826\n",
            "Epoch 13/1000\n",
            "418/418 [==============================] - 11s 27ms/step - loss: 0.3530 - categorical_accuracy: 0.8666 - val_loss: 0.3050 - val_categorical_accuracy: 0.8868\n",
            "Epoch 14/1000\n",
            "418/418 [==============================] - 11s 25ms/step - loss: 0.3414 - categorical_accuracy: 0.8716 - val_loss: 0.3201 - val_categorical_accuracy: 0.8802\n",
            "Epoch 15/1000\n",
            "418/418 [==============================] - 11s 26ms/step - loss: 0.3420 - categorical_accuracy: 0.8715 - val_loss: 0.3059 - val_categorical_accuracy: 0.8864\n",
            "Epoch 16/1000\n",
            "418/418 [==============================] - 11s 27ms/step - loss: 0.3352 - categorical_accuracy: 0.8731 - val_loss: 0.3075 - val_categorical_accuracy: 0.8861\n",
            "Epoch 17/1000\n",
            "418/418 [==============================] - 11s 27ms/step - loss: 0.3314 - categorical_accuracy: 0.8746 - val_loss: 0.3009 - val_categorical_accuracy: 0.8888\n",
            "Epoch 18/1000\n",
            "418/418 [==============================] - 11s 27ms/step - loss: 0.3256 - categorical_accuracy: 0.8770 - val_loss: 0.3037 - val_categorical_accuracy: 0.8894\n",
            "Epoch 19/1000\n",
            "418/418 [==============================] - 11s 27ms/step - loss: 0.3214 - categorical_accuracy: 0.8772 - val_loss: 0.3026 - val_categorical_accuracy: 0.8891\n",
            "Epoch 20/1000\n",
            "418/418 [==============================] - 11s 27ms/step - loss: 0.3188 - categorical_accuracy: 0.8788 - val_loss: 0.2996 - val_categorical_accuracy: 0.8862\n",
            "Epoch 21/1000\n",
            "418/418 [==============================] - 10s 25ms/step - loss: 0.3159 - categorical_accuracy: 0.8800 - val_loss: 0.3035 - val_categorical_accuracy: 0.8888\n",
            "Epoch 22/1000\n",
            "418/418 [==============================] - 11s 26ms/step - loss: 0.3134 - categorical_accuracy: 0.8807 - val_loss: 0.2865 - val_categorical_accuracy: 0.8924\n",
            "Epoch 23/1000\n",
            "418/418 [==============================] - 11s 27ms/step - loss: 0.3103 - categorical_accuracy: 0.8822 - val_loss: 0.2942 - val_categorical_accuracy: 0.8909\n",
            "Epoch 24/1000\n",
            "418/418 [==============================] - 11s 27ms/step - loss: 0.3057 - categorical_accuracy: 0.8831 - val_loss: 0.2877 - val_categorical_accuracy: 0.8917\n",
            "Epoch 25/1000\n",
            "418/418 [==============================] - 11s 27ms/step - loss: 0.3020 - categorical_accuracy: 0.8856 - val_loss: 0.2903 - val_categorical_accuracy: 0.8926\n",
            "Epoch 26/1000\n",
            "418/418 [==============================] - 11s 27ms/step - loss: 0.3041 - categorical_accuracy: 0.8843 - val_loss: 0.2886 - val_categorical_accuracy: 0.8932\n",
            "Epoch 27/1000\n",
            "418/418 [==============================] - 11s 27ms/step - loss: 0.2989 - categorical_accuracy: 0.8855 - val_loss: 0.2921 - val_categorical_accuracy: 0.8921\n",
            "Epoch 28/1000\n",
            "418/418 [==============================] - 10s 25ms/step - loss: 0.2963 - categorical_accuracy: 0.8875 - val_loss: 0.2835 - val_categorical_accuracy: 0.8936\n",
            "Epoch 29/1000\n",
            "418/418 [==============================] - 11s 26ms/step - loss: 0.2971 - categorical_accuracy: 0.8866 - val_loss: 0.2822 - val_categorical_accuracy: 0.8948\n",
            "Epoch 30/1000\n",
            "418/418 [==============================] - 12s 28ms/step - loss: 0.2924 - categorical_accuracy: 0.8883 - val_loss: 0.2829 - val_categorical_accuracy: 0.8947\n",
            "Epoch 31/1000\n",
            "418/418 [==============================] - 11s 27ms/step - loss: 0.2888 - categorical_accuracy: 0.8893 - val_loss: 0.2803 - val_categorical_accuracy: 0.8985\n",
            "Epoch 32/1000\n",
            "418/418 [==============================] - 11s 27ms/step - loss: 0.2896 - categorical_accuracy: 0.8893 - val_loss: 0.2849 - val_categorical_accuracy: 0.8950\n",
            "Epoch 33/1000\n",
            "418/418 [==============================] - 11s 27ms/step - loss: 0.2836 - categorical_accuracy: 0.8911 - val_loss: 0.2855 - val_categorical_accuracy: 0.8955\n",
            "Epoch 34/1000\n",
            "418/418 [==============================] - 11s 27ms/step - loss: 0.2845 - categorical_accuracy: 0.8926 - val_loss: 0.2748 - val_categorical_accuracy: 0.9005\n",
            "Epoch 35/1000\n",
            "418/418 [==============================] - 11s 25ms/step - loss: 0.2815 - categorical_accuracy: 0.8935 - val_loss: 0.2878 - val_categorical_accuracy: 0.8973\n",
            "Epoch 36/1000\n",
            "418/418 [==============================] - 11s 26ms/step - loss: 0.2809 - categorical_accuracy: 0.8926 - val_loss: 0.2839 - val_categorical_accuracy: 0.8955\n",
            "Epoch 37/1000\n",
            "418/418 [==============================] - 11s 27ms/step - loss: 0.2781 - categorical_accuracy: 0.8946 - val_loss: 0.2739 - val_categorical_accuracy: 0.8985\n",
            "Epoch 38/1000\n",
            "418/418 [==============================] - 11s 27ms/step - loss: 0.2758 - categorical_accuracy: 0.8946 - val_loss: 0.2799 - val_categorical_accuracy: 0.8973\n",
            "Epoch 39/1000\n",
            "418/418 [==============================] - 11s 27ms/step - loss: 0.2731 - categorical_accuracy: 0.8968 - val_loss: 0.2779 - val_categorical_accuracy: 0.8967\n",
            "Epoch 40/1000\n",
            "418/418 [==============================] - 11s 27ms/step - loss: 0.2720 - categorical_accuracy: 0.8968 - val_loss: 0.2777 - val_categorical_accuracy: 0.8977\n",
            "Epoch 41/1000\n",
            "418/418 [==============================] - 11s 27ms/step - loss: 0.2746 - categorical_accuracy: 0.8939 - val_loss: 0.2726 - val_categorical_accuracy: 0.8994\n",
            "Epoch 42/1000\n",
            "418/418 [==============================] - 10s 25ms/step - loss: 0.2713 - categorical_accuracy: 0.8972 - val_loss: 0.2736 - val_categorical_accuracy: 0.8983\n",
            "Epoch 43/1000\n",
            "418/418 [==============================] - 11s 25ms/step - loss: 0.2674 - categorical_accuracy: 0.8975 - val_loss: 0.2722 - val_categorical_accuracy: 0.9002\n",
            "Epoch 44/1000\n",
            "418/418 [==============================] - 11s 27ms/step - loss: 0.2659 - categorical_accuracy: 0.8989 - val_loss: 0.2804 - val_categorical_accuracy: 0.8982\n",
            "Epoch 45/1000\n",
            "418/418 [==============================] - 11s 27ms/step - loss: 0.2665 - categorical_accuracy: 0.8981 - val_loss: 0.2718 - val_categorical_accuracy: 0.9008\n",
            "Epoch 46/1000\n",
            "418/418 [==============================] - 11s 26ms/step - loss: 0.2663 - categorical_accuracy: 0.8981 - val_loss: 0.2706 - val_categorical_accuracy: 0.9003\n",
            "Epoch 47/1000\n",
            "418/418 [==============================] - 11s 27ms/step - loss: 0.2628 - categorical_accuracy: 0.8990 - val_loss: 0.2717 - val_categorical_accuracy: 0.8983\n",
            "Epoch 48/1000\n",
            "418/418 [==============================] - 11s 27ms/step - loss: 0.2620 - categorical_accuracy: 0.8996 - val_loss: 0.2740 - val_categorical_accuracy: 0.9008\n",
            "Epoch 49/1000\n",
            "418/418 [==============================] - 10s 25ms/step - loss: 0.2605 - categorical_accuracy: 0.8992 - val_loss: 0.2720 - val_categorical_accuracy: 0.9008\n",
            "Epoch 50/1000\n",
            "418/418 [==============================] - 11s 26ms/step - loss: 0.2610 - categorical_accuracy: 0.9005 - val_loss: 0.2695 - val_categorical_accuracy: 0.9027\n",
            "Epoch 51/1000\n",
            "418/418 [==============================] - 12s 28ms/step - loss: 0.2558 - categorical_accuracy: 0.9005 - val_loss: 0.2761 - val_categorical_accuracy: 0.8992\n",
            "Epoch 52/1000\n",
            "418/418 [==============================] - 11s 27ms/step - loss: 0.2569 - categorical_accuracy: 0.9012 - val_loss: 0.2816 - val_categorical_accuracy: 0.8982\n",
            "Epoch 53/1000\n",
            "418/418 [==============================] - 11s 27ms/step - loss: 0.2592 - categorical_accuracy: 0.9004 - val_loss: 0.2705 - val_categorical_accuracy: 0.8994\n",
            "Epoch 54/1000\n",
            "418/418 [==============================] - 11s 27ms/step - loss: 0.2553 - categorical_accuracy: 0.9011 - val_loss: 0.2748 - val_categorical_accuracy: 0.9008\n",
            "Epoch 55/1000\n",
            "418/418 [==============================] - 11s 27ms/step - loss: 0.2550 - categorical_accuracy: 0.9014 - val_loss: 0.2735 - val_categorical_accuracy: 0.9006\n",
            "Epoch 56/1000\n",
            "418/418 [==============================] - 11s 25ms/step - loss: 0.2515 - categorical_accuracy: 0.9040 - val_loss: 0.2723 - val_categorical_accuracy: 0.9017\n",
            "Epoch 57/1000\n",
            "418/418 [==============================] - 11s 26ms/step - loss: 0.2521 - categorical_accuracy: 0.9032 - val_loss: 0.2609 - val_categorical_accuracy: 0.9055\n",
            "Epoch 58/1000\n",
            "418/418 [==============================] - 11s 27ms/step - loss: 0.2524 - categorical_accuracy: 0.9038 - val_loss: 0.2689 - val_categorical_accuracy: 0.9032\n",
            "Epoch 59/1000\n",
            "418/418 [==============================] - 11s 27ms/step - loss: 0.2498 - categorical_accuracy: 0.9039 - val_loss: 0.2680 - val_categorical_accuracy: 0.9033\n",
            "Epoch 60/1000\n",
            "418/418 [==============================] - 12s 28ms/step - loss: 0.2508 - categorical_accuracy: 0.9043 - val_loss: 0.2691 - val_categorical_accuracy: 0.9018\n",
            "Epoch 61/1000\n",
            "418/418 [==============================] - 11s 27ms/step - loss: 0.2474 - categorical_accuracy: 0.9038 - val_loss: 0.2755 - val_categorical_accuracy: 0.9003\n",
            "Epoch 62/1000\n",
            "418/418 [==============================] - 11s 27ms/step - loss: 0.2474 - categorical_accuracy: 0.9044 - val_loss: 0.2764 - val_categorical_accuracy: 0.9020\n",
            "Epoch 63/1000\n",
            "418/418 [==============================] - 11s 26ms/step - loss: 0.2458 - categorical_accuracy: 0.9058 - val_loss: 0.2686 - val_categorical_accuracy: 0.9047\n",
            "Epoch 64/1000\n",
            "418/418 [==============================] - 11s 26ms/step - loss: 0.2448 - categorical_accuracy: 0.9070 - val_loss: 0.2699 - val_categorical_accuracy: 0.9024\n",
            "Epoch 65/1000\n",
            "418/418 [==============================] - 11s 27ms/step - loss: 0.2426 - categorical_accuracy: 0.9085 - val_loss: 0.2684 - val_categorical_accuracy: 0.9015\n",
            "Epoch 66/1000\n",
            "418/418 [==============================] - 12s 29ms/step - loss: 0.2435 - categorical_accuracy: 0.9070 - val_loss: 0.2724 - val_categorical_accuracy: 0.8995\n",
            "Epoch 67/1000\n",
            "418/418 [==============================] - 12s 28ms/step - loss: 0.2435 - categorical_accuracy: 0.9055 - val_loss: 0.2660 - val_categorical_accuracy: 0.9014\n",
            "Epoch 68/1000\n",
            "418/418 [==============================] - 11s 27ms/step - loss: 0.2426 - categorical_accuracy: 0.9057 - val_loss: 0.2758 - val_categorical_accuracy: 0.8988\n",
            "Epoch 69/1000\n",
            "418/418 [==============================] - 11s 27ms/step - loss: 0.2406 - categorical_accuracy: 0.9072 - val_loss: 0.2727 - val_categorical_accuracy: 0.9018\n",
            "Epoch 70/1000\n",
            "418/418 [==============================] - 11s 27ms/step - loss: 0.2393 - categorical_accuracy: 0.9077 - val_loss: 0.2731 - val_categorical_accuracy: 0.9026\n",
            "Epoch 71/1000\n",
            "418/418 [==============================] - 11s 25ms/step - loss: 0.2424 - categorical_accuracy: 0.9074 - val_loss: 0.2665 - val_categorical_accuracy: 0.9018\n",
            "Epoch 72/1000\n",
            "418/418 [==============================] - 11s 26ms/step - loss: 0.2389 - categorical_accuracy: 0.9070 - val_loss: 0.2698 - val_categorical_accuracy: 0.9026\n",
            "Epoch 73/1000\n",
            "418/418 [==============================] - 11s 27ms/step - loss: 0.2405 - categorical_accuracy: 0.9075 - val_loss: 0.2756 - val_categorical_accuracy: 0.9041\n",
            "Epoch 74/1000\n",
            "418/418 [==============================] - 12s 28ms/step - loss: 0.2402 - categorical_accuracy: 0.9077 - val_loss: 0.2769 - val_categorical_accuracy: 0.9032\n",
            "Epoch 75/1000\n",
            "418/418 [==============================] - 12s 28ms/step - loss: 0.2343 - categorical_accuracy: 0.9088 - val_loss: 0.2734 - val_categorical_accuracy: 0.9006\n",
            "Epoch 76/1000\n",
            "418/418 [==============================] - 11s 27ms/step - loss: 0.2347 - categorical_accuracy: 0.9094 - val_loss: 0.2699 - val_categorical_accuracy: 0.9029\n",
            "Epoch 77/1000\n",
            "418/418 [==============================] - 11s 27ms/step - loss: 0.2362 - categorical_accuracy: 0.9104 - val_loss: 0.2728 - val_categorical_accuracy: 0.9003\n",
            "Epoch 78/1000\n",
            "418/418 [==============================] - 11s 26ms/step - loss: 0.2339 - categorical_accuracy: 0.9101 - val_loss: 0.2685 - val_categorical_accuracy: 0.9044\n",
            "Epoch 79/1000\n",
            "418/418 [==============================] - 11s 25ms/step - loss: 0.2348 - categorical_accuracy: 0.9090 - val_loss: 0.2731 - val_categorical_accuracy: 0.9008\n",
            "Epoch 80/1000\n",
            "418/418 [==============================] - 13s 30ms/step - loss: 0.2315 - categorical_accuracy: 0.9098 - val_loss: 0.2698 - val_categorical_accuracy: 0.9023\n",
            "Epoch 81/1000\n",
            "418/418 [==============================] - 11s 27ms/step - loss: 0.2360 - categorical_accuracy: 0.9076 - val_loss: 0.2744 - val_categorical_accuracy: 0.8998\n",
            "Epoch 82/1000\n",
            "418/418 [==============================] - 11s 27ms/step - loss: 0.2285 - categorical_accuracy: 0.9125 - val_loss: 0.2705 - val_categorical_accuracy: 0.9015\n",
            "Epoch 83/1000\n",
            "418/418 [==============================] - 12s 28ms/step - loss: 0.2330 - categorical_accuracy: 0.9090 - val_loss: 0.2692 - val_categorical_accuracy: 0.9005\n",
            "Epoch 84/1000\n",
            "418/418 [==============================] - 11s 27ms/step - loss: 0.2324 - categorical_accuracy: 0.9101 - val_loss: 0.2767 - val_categorical_accuracy: 0.9030\n",
            "Epoch 85/1000\n",
            "418/418 [==============================] - 10s 25ms/step - loss: 0.2295 - categorical_accuracy: 0.9119 - val_loss: 0.2670 - val_categorical_accuracy: 0.9038\n",
            "Epoch 86/1000\n",
            "418/418 [==============================] - 11s 26ms/step - loss: 0.2314 - categorical_accuracy: 0.9105 - val_loss: 0.2657 - val_categorical_accuracy: 0.9065\n",
            "Epoch 87/1000\n",
            "418/418 [==============================] - 11s 27ms/step - loss: 0.2298 - categorical_accuracy: 0.9109 - val_loss: 0.2705 - val_categorical_accuracy: 0.9011\n",
            "Epoch 88/1000\n",
            "418/418 [==============================] - 11s 27ms/step - loss: 0.2303 - categorical_accuracy: 0.9108 - val_loss: 0.2729 - val_categorical_accuracy: 0.9030\n",
            "Epoch 89/1000\n",
            "418/418 [==============================] - 11s 27ms/step - loss: 0.2289 - categorical_accuracy: 0.9108 - val_loss: 0.2692 - val_categorical_accuracy: 0.9021\n",
            "Epoch 90/1000\n",
            "418/418 [==============================] - 11s 27ms/step - loss: 0.2266 - categorical_accuracy: 0.9128 - val_loss: 0.2681 - val_categorical_accuracy: 0.9056\n",
            "Epoch 91/1000\n",
            "418/418 [==============================] - 11s 26ms/step - loss: 0.2292 - categorical_accuracy: 0.9109 - val_loss: 0.2639 - val_categorical_accuracy: 0.9053\n",
            "Epoch 92/1000\n",
            "418/418 [==============================] - 10s 25ms/step - loss: 0.2247 - categorical_accuracy: 0.9126 - val_loss: 0.2737 - val_categorical_accuracy: 0.9053\n",
            "Epoch 93/1000\n",
            "418/418 [==============================] - 12s 30ms/step - loss: 0.2249 - categorical_accuracy: 0.9125 - val_loss: 0.2705 - val_categorical_accuracy: 0.9047\n",
            "Epoch 94/1000\n",
            "418/418 [==============================] - 11s 27ms/step - loss: 0.2236 - categorical_accuracy: 0.9134 - val_loss: 0.2685 - val_categorical_accuracy: 0.9070\n",
            "Epoch 95/1000\n",
            "418/418 [==============================] - 11s 27ms/step - loss: 0.2261 - categorical_accuracy: 0.9126 - val_loss: 0.2710 - val_categorical_accuracy: 0.9014\n",
            "Epoch 96/1000\n",
            "418/418 [==============================] - 11s 27ms/step - loss: 0.2247 - categorical_accuracy: 0.9131 - val_loss: 0.2716 - val_categorical_accuracy: 0.9023\n",
            "Epoch 97/1000\n",
            "418/418 [==============================] - 11s 27ms/step - loss: 0.2209 - categorical_accuracy: 0.9151 - val_loss: 0.2639 - val_categorical_accuracy: 0.9055\n",
            "Epoch 98/1000\n",
            "418/418 [==============================] - 11s 27ms/step - loss: 0.2212 - categorical_accuracy: 0.9157 - val_loss: 0.2740 - val_categorical_accuracy: 0.9029\n",
            "Epoch 99/1000\n",
            "418/418 [==============================] - 11s 26ms/step - loss: 0.2239 - categorical_accuracy: 0.9135 - val_loss: 0.2740 - val_categorical_accuracy: 0.9039\n",
            "Epoch 100/1000\n",
            "418/418 [==============================] - 11s 26ms/step - loss: 0.2250 - categorical_accuracy: 0.9129 - val_loss: 0.2705 - val_categorical_accuracy: 0.9032\n",
            "Epoch 101/1000\n",
            "418/418 [==============================] - 11s 27ms/step - loss: 0.2201 - categorical_accuracy: 0.9156 - val_loss: 0.2721 - val_categorical_accuracy: 0.9000\n",
            "Epoch 102/1000\n",
            "418/418 [==============================] - 11s 27ms/step - loss: 0.2198 - categorical_accuracy: 0.9156 - val_loss: 0.2677 - val_categorical_accuracy: 0.9045\n",
            "Epoch 103/1000\n",
            "418/418 [==============================] - 12s 28ms/step - loss: 0.2207 - categorical_accuracy: 0.9144 - val_loss: 0.2752 - val_categorical_accuracy: 0.9024\n",
            "Epoch 104/1000\n",
            "418/418 [==============================] - 11s 27ms/step - loss: 0.2209 - categorical_accuracy: 0.9142 - val_loss: 0.2772 - val_categorical_accuracy: 0.9050\n",
            "Epoch 105/1000\n",
            "418/418 [==============================] - 11s 27ms/step - loss: 0.2187 - categorical_accuracy: 0.9150 - val_loss: 0.2751 - val_categorical_accuracy: 0.9089\n",
            "Epoch 106/1000\n",
            "418/418 [==============================] - 11s 27ms/step - loss: 0.2207 - categorical_accuracy: 0.9140 - val_loss: 0.2717 - val_categorical_accuracy: 0.9047\n",
            "Epoch 107/1000\n",
            "418/418 [==============================] - 12s 27ms/step - loss: 0.2192 - categorical_accuracy: 0.9143 - val_loss: 0.2729 - val_categorical_accuracy: 0.9035\n",
            "Epoch 108/1000\n",
            "418/418 [==============================] - 12s 28ms/step - loss: 0.2176 - categorical_accuracy: 0.9160 - val_loss: 0.2706 - val_categorical_accuracy: 0.9048\n",
            "Epoch 109/1000\n",
            "418/418 [==============================] - 11s 27ms/step - loss: 0.2167 - categorical_accuracy: 0.9152 - val_loss: 0.2684 - val_categorical_accuracy: 0.9065\n",
            "Epoch 110/1000\n",
            "418/418 [==============================] - 11s 27ms/step - loss: 0.2182 - categorical_accuracy: 0.9156 - val_loss: 0.2687 - val_categorical_accuracy: 0.9071\n",
            "Epoch 111/1000\n",
            "418/418 [==============================] - 11s 27ms/step - loss: 0.2186 - categorical_accuracy: 0.9167 - val_loss: 0.2692 - val_categorical_accuracy: 0.9074\n",
            "Epoch 112/1000\n",
            "418/418 [==============================] - 12s 28ms/step - loss: 0.2178 - categorical_accuracy: 0.9158 - val_loss: 0.2708 - val_categorical_accuracy: 0.9079\n",
            "Epoch 113/1000\n",
            "418/418 [==============================] - 11s 26ms/step - loss: 0.2151 - categorical_accuracy: 0.9165 - val_loss: 0.2760 - val_categorical_accuracy: 0.9053\n",
            "Epoch 114/1000\n",
            "418/418 [==============================] - 11s 26ms/step - loss: 0.2144 - categorical_accuracy: 0.9165 - val_loss: 0.2762 - val_categorical_accuracy: 0.9085\n",
            "Epoch 115/1000\n",
            "418/418 [==============================] - 11s 27ms/step - loss: 0.2158 - categorical_accuracy: 0.9175 - val_loss: 0.2700 - val_categorical_accuracy: 0.9070\n",
            "Epoch 116/1000\n",
            "418/418 [==============================] - 11s 27ms/step - loss: 0.2119 - categorical_accuracy: 0.9185 - val_loss: 0.2751 - val_categorical_accuracy: 0.9059\n",
            "Epoch 117/1000\n",
            "418/418 [==============================] - 11s 27ms/step - loss: 0.2164 - categorical_accuracy: 0.9163 - val_loss: 0.2775 - val_categorical_accuracy: 0.9065\n",
            "313/313 [==============================] - 1s 4ms/step - loss: 0.3137 - categorical_accuracy: 0.8966\n",
            "\n",
            "Test accuracy: 0.8966000080108643\n"
          ]
        }
      ]
    },
    {
      "cell_type": "code",
      "source": [
        "print('\\nhistory dict:', list(history.history.keys()))"
      ],
      "metadata": {
        "id": "CxRE-B_Q6Sii",
        "outputId": "fd019ace-bab6-43d3-d670-cebd77e30523",
        "colab": {
          "base_uri": "https://localhost:8080/"
        }
      },
      "execution_count": 369,
      "outputs": [
        {
          "output_type": "stream",
          "name": "stdout",
          "text": [
            "\n",
            "history dict: ['loss', 'categorical_accuracy', 'val_loss', 'val_categorical_accuracy']\n"
          ]
        }
      ]
    },
    {
      "cell_type": "code",
      "source": [
        "result = model.evaluate(x_test, y_test)\n",
        "print(result)"
      ],
      "metadata": {
        "id": "YXpwRRTvTBNg",
        "outputId": "e931ffed-b48a-4f4b-cb9c-25254a484fa9",
        "colab": {
          "base_uri": "https://localhost:8080/"
        }
      },
      "execution_count": 370,
      "outputs": [
        {
          "output_type": "stream",
          "name": "stdout",
          "text": [
            "313/313 [==============================] - 1s 4ms/step - loss: 0.3137 - categorical_accuracy: 0.8966\n",
            "[0.31371834874153137, 0.8966000080108643]\n"
          ]
        }
      ]
    },
    {
      "cell_type": "code",
      "source": [
        "saved_model = load_model('best_model.h5')\n",
        "result = saved_model.evaluate(x_test, y_test)\n",
        "print(result)"
      ],
      "metadata": {
        "id": "dpaZAW0vp1AZ",
        "outputId": "068bff85-ba9f-45cc-d992-661366bf431f",
        "colab": {
          "base_uri": "https://localhost:8080/"
        }
      },
      "execution_count": 371,
      "outputs": [
        {
          "output_type": "stream",
          "name": "stdout",
          "text": [
            "313/313 [==============================] - 1s 4ms/step - loss: 0.3027 - categorical_accuracy: 0.9015\n",
            "[0.302721232175827, 0.9014999866485596]\n"
          ]
        }
      ]
    },
    {
      "cell_type": "code",
      "source": [
        "# from keras.models import load_model\n",
        "# saved_model = load_model('best_model.h5')\n",
        "# # _, train_acc = saved_model.evaluate(x_train, y_train, verbose=0)\n",
        "# _, test_acc = saved_model.evaluate(x_test, y_test, verbose=0)\n",
        "# print('Test: %.3f' % (test_acc))"
      ],
      "metadata": {
        "id": "DR_MS9DABo_K"
      },
      "execution_count": 372,
      "outputs": []
    },
    {
      "cell_type": "code",
      "source": [
        "history_dict = history.history\n",
        "loss_values = history_dict['loss']\n",
        "val_loss_values = history_dict['val_loss']\n",
        "\n",
        "epochs = range(1, len(history_dict['loss']) + 1)\n",
        "\n",
        "plt.figure(figsize=(10, 5))\n",
        "plt.plot(epochs, loss_values, 'bo', label='Training loss')\n",
        "plt.plot(epochs, val_loss_values, 'r', label='Validation loss')\n",
        "# plt.ylim (0.2, 0.5)\n",
        "plt.title('Training and validation loss')\n",
        "plt.xlabel('Epochs')\n",
        "plt.ylabel('Loss')\n",
        "plt.legend()\n",
        "plt.grid(True)\n",
        "plt.show()\n",
        "1\n",
        "plt.clf()\n",
        "plt.figure(figsize=(10, 5))\n",
        "val_acc_values = history_dict['categorical_accuracy']\n",
        "plt.plot(epochs, history_dict['categorical_accuracy'], 'bo', label='Training acc')\n",
        "plt.plot(epochs, history_dict['val_categorical_accuracy'], 'r', label='Validation acc')\n",
        "plt.ylim (0.86, 0.94)\n",
        "plt.title('Training and validation accuracy')\n",
        "plt.xlabel('Epochs')\n",
        "plt.ylabel('Accuracy')\n",
        "plt.legend()\n",
        "plt.grid(True)"
      ],
      "metadata": {
        "id": "2Ll_5sGlXKMH",
        "outputId": "3fe3b811-615e-43c6-c1a0-23095bc50a22",
        "colab": {
          "base_uri": "https://localhost:8080/",
          "height": 975
        }
      },
      "execution_count": 373,
      "outputs": [
        {
          "output_type": "display_data",
          "data": {
            "text/plain": [
              "<Figure size 1000x500 with 1 Axes>"
            ],
            "image/png": "[encoded data removed]"
          },
          "metadata": {}
        },
        {
          "output_type": "display_data",
          "data": {
            "text/plain": [
              "<Figure size 640x480 with 0 Axes>"
            ]
          },
          "metadata": {}
        },
        {
          "output_type": "display_data",
          "data": {
            "text/plain": [
              "<Figure size 1000x500 with 1 Axes>"
            ],
            "image/png": "[encoded data removed]"
          },
          "metadata": {}
        }
      ]
    },
    {
      "cell_type": "code",
      "source": [
        "probability_model = tf.keras.Sequential([model,\n",
        "                                         tf.keras.layers.Softmax()])"
      ],
      "metadata": {
        "id": "VzOdKAT_uV-f"
      },
      "execution_count": 374,
      "outputs": []
    },
    {
      "cell_type": "code",
      "source": [
        "predictions = probability_model.predict(x_test)"
      ],
      "metadata": {
        "id": "f4is3NFruYom",
        "outputId": "73dc6663-6c4a-4685-a33a-0ccd4420f4da",
        "colab": {
          "base_uri": "https://localhost:8080/"
        }
      },
      "execution_count": 375,
      "outputs": [
        {
          "output_type": "stream",
          "name": "stdout",
          "text": [
            "313/313 [==============================] - 2s 5ms/step\n"
          ]
        }
      ]
    },
    {
      "cell_type": "code",
      "source": [
        "predictions[0]"
      ],
      "metadata": {
        "id": "82cigvlZudz_",
        "outputId": "7508e6f7-5809-4304-d836-74e1476a9cd8",
        "colab": {
          "base_uri": "https://localhost:8080/"
        }
      },
      "execution_count": 376,
      "outputs": [
        {
          "output_type": "execute_result",
          "data": {
            "text/plain": [
              "array([0.08534426, 0.08534426, 0.08534426, 0.08534426, 0.08534426,\n",
              "       0.08534455, 0.08534426, 0.08539527, 0.08534426, 0.23185039],\n",
              "      dtype=float32)"
            ]
          },
          "metadata": {},
          "execution_count": 376
        }
      ]
    },
    {
      "cell_type": "code",
      "source": [
        "model.summary()"
      ],
      "metadata": {
        "id": "6RsQPHyYuNGe",
        "outputId": "ac924507-f358-474d-d25c-9da42cbb2931",
        "colab": {
          "base_uri": "https://localhost:8080/"
        }
      },
      "execution_count": 377,
      "outputs": [
        {
          "output_type": "stream",
          "name": "stdout",
          "text": [
            "Model: \"sequential_18\"\n",
            "_________________________________________________________________\n",
            " Layer (type)                Output Shape              Param #   \n",
            "=================================================================\n",
            " flatten_9 (Flatten)         (None, 784)               0         \n",
            "                                                                 \n",
            " dropout_36 (Dropout)        (None, 784)               0         \n",
            "                                                                 \n",
            " batch_normalization_27 (Ba  (None, 784)               3136      \n",
            " tchNormalization)                                               \n",
            "                                                                 \n",
            " dense_36 (Dense)            (None, 256)               200960    \n",
            "                                                                 \n",
            " dropout_37 (Dropout)        (None, 256)               0         \n",
            "                                                                 \n",
            " batch_normalization_28 (Ba  (None, 256)               1024      \n",
            " tchNormalization)                                               \n",
            "                                                                 \n",
            " dense_37 (Dense)            (None, 512)               131584    \n",
            "                                                                 \n",
            " dropout_38 (Dropout)        (None, 512)               0         \n",
            "                                                                 \n",
            " batch_normalization_29 (Ba  (None, 512)               2048      \n",
            " tchNormalization)                                               \n",
            "                                                                 \n",
            " dense_38 (Dense)            (None, 512)               262656    \n",
            "                                                                 \n",
            " dropout_39 (Dropout)        (None, 512)               0         \n",
            "                                                                 \n",
            " dense_39 (Dense)            (None, 10)                5130      \n",
            "                                                                 \n",
            "=================================================================\n",
            "Total params: 606538 (2.31 MB)\n",
            "Trainable params: 603434 (2.30 MB)\n",
            "Non-trainable params: 3104 (12.12 KB)\n",
            "_________________________________________________________________\n"
          ]
        }
      ]
    },
    {
      "cell_type": "code",
      "source": [
        "\n",
        "\n",
        "hnyetjn hrte()"
      ],
      "metadata": {
        "id": "S4hcxZttmp-0",
        "outputId": "03b133e6-5519-4c5f-db41-92f1e7323e97",
        "colab": {
          "base_uri": "https://localhost:8080/",
          "height": 108
        }
      },
      "execution_count": 378,
      "outputs": [
        {
          "output_type": "error",
          "ename": "SyntaxError",
          "evalue": "invalid syntax (<ipython-input-378-1a3818e70946>, line 1)",
          "traceback": [
            "\u001b[0;36m  File \u001b[0;32m\"<ipython-input-378-1a3818e70946>\"\u001b[0;36m, line \u001b[0;32m1\u001b[0m\n\u001b[0;31m    hnyetjn hrte()\u001b[0m\n\u001b[0m            ^\u001b[0m\n\u001b[0;31mSyntaxError\u001b[0m\u001b[0;31m:\u001b[0m invalid syntax\n"
          ]
        }
      ]
    }
  ]
}