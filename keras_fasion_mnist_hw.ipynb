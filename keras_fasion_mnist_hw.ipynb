{
  "nbformat": 4,
  "nbformat_minor": 0,
  "metadata": {
    "colab": {
      "provenance": [],
      "gpuType": "T4",
      "authorship_tag": "ABX9TyNREC6VR11pN7YLJ66+3Pts",
      "include_colab_link": true
    },
    "kernelspec": {
      "name": "python3",
      "display_name": "Python 3"
    },
    "language_info": {
      "name": "python"
    },
    "accelerator": "GPU"
  },
  "cells": [
    {
      "cell_type": "markdown",
      "metadata": {
        "id": "view-in-github",
        "colab_type": "text"
      },
      "source": [
        "<a href=\"https://colab.research.google.com/github/PavelStelmakhV/hw310-keras-fasion-mnist/blob/main/keras_fasion_mnist_hw.ipynb\" target=\"_parent\"><img src=\"https://colab.research.google.com/assets/colab-badge.svg\" alt=\"Open In Colab\"/></a>"
      ]
    },
    {
      "cell_type": "code",
      "source": [
        "import tensorflow as tf\n",
        "from tensorflow.python.client import device_lib\n",
        "print(device_lib.list_local_devices())"
      ],
      "metadata": {
        "colab": {
          "base_uri": "https://localhost:8080/"
        },
        "id": "CQL6wYJUms6Y",
        "outputId": "0b0205fd-8ad2-4375-b726-b5d859118a92"
      },
      "execution_count": 161,
      "outputs": [
        {
          "output_type": "stream",
          "name": "stdout",
          "text": [
            "[name: \"/device:CPU:0\"\n",
            "device_type: \"CPU\"\n",
            "memory_limit: 268435456\n",
            "locality {\n",
            "}\n",
            "incarnation: 1467573037292355367\n",
            "xla_global_id: -1\n",
            "]\n"
          ]
        }
      ]
    },
    {
      "cell_type": "code",
      "execution_count": 162,
      "metadata": {
        "id": "vv7w0bgAVQPO"
      },
      "outputs": [],
      "source": [
        "import tensorflow as tf\n",
        "import numpy as np\n",
        "import matplotlib.pyplot as plt\n",
        "import tf_keras\n",
        "\n",
        "from keras import layers\n",
        "from keras import models\n",
        "from keras import regularizers\n",
        "from keras import callbacks\n",
        "from keras import initializers\n",
        "from keras.layers import BatchNormalization\n",
        "from keras.models import load_model"
      ]
    },
    {
      "cell_type": "code",
      "source": [
        "num_classes = 10"
      ],
      "metadata": {
        "id": "RvT1uYJsa5cn"
      },
      "execution_count": 163,
      "outputs": []
    },
    {
      "cell_type": "code",
      "source": [
        "fashion_mnist = tf.keras.datasets.fashion_mnist\n",
        "\n",
        "(x_train, y_train), (x_test, y_test) = fashion_mnist.load_data()"
      ],
      "metadata": {
        "id": "mOpywsNAzfGB"
      },
      "execution_count": 164,
      "outputs": []
    },
    {
      "cell_type": "code",
      "source": [
        "np.transpose(y_train).shape"
      ],
      "metadata": {
        "id": "djIFwQxwMvQR",
        "outputId": "92258977-97cf-46c5-cf8a-01cb8de5d1b9",
        "colab": {
          "base_uri": "https://localhost:8080/"
        }
      },
      "execution_count": 165,
      "outputs": [
        {
          "output_type": "execute_result",
          "data": {
            "text/plain": [
              "(60000,)"
            ]
          },
          "metadata": {},
          "execution_count": 165
        }
      ]
    },
    {
      "cell_type": "code",
      "source": [
        "y_train.shape"
      ],
      "metadata": {
        "id": "clHS88VQNR82",
        "outputId": "66c5f984-7f73-4669-b651-a9889ddbb0f3",
        "colab": {
          "base_uri": "https://localhost:8080/"
        }
      },
      "execution_count": 166,
      "outputs": [
        {
          "output_type": "execute_result",
          "data": {
            "text/plain": [
              "(60000,)"
            ]
          },
          "metadata": {},
          "execution_count": 166
        }
      ]
    },
    {
      "cell_type": "code",
      "source": [
        "def drow_hist(data):\n",
        "  plt.figure(figsize=(8,6), dpi= 80)\n",
        "  _ = plt.hist(data,\n",
        "              bins=num_classes,\n",
        "              stacked=True,\n",
        "              density=False,\n",
        "              range=(0,10),\n",
        "              rwidth=0.9,\n",
        "              )"
      ],
      "metadata": {
        "id": "NjEvuOvomEoT"
      },
      "execution_count": 167,
      "outputs": []
    },
    {
      "cell_type": "code",
      "source": [
        "# create validation data\n",
        "val_size = 10000\n",
        "\n",
        "x_val = x_train[-val_size:, :, :]\n",
        "x_train = x_train[:-val_size, :, :]\n",
        "\n",
        "y_val = y_train[-val_size:]\n",
        "y_train = y_train[:-val_size]"
      ],
      "metadata": {
        "id": "jAs92sDoVU89"
      },
      "execution_count": 168,
      "outputs": []
    },
    {
      "cell_type": "code",
      "source": [
        "# mirror train image\n",
        "x_train_add = np.rot90(x_train, k=1, axes=(1,2))\n",
        "x_train_add = np.transpose(x_train_add, (0, 2, 1))"
      ],
      "metadata": {
        "id": "UHNuw-3D_v7x"
      },
      "execution_count": 169,
      "outputs": []
    },
    {
      "cell_type": "code",
      "source": [
        "y_train_add = y_train.copy()"
      ],
      "metadata": {
        "id": "TNDXV8RfZbt1"
      },
      "execution_count": 170,
      "outputs": []
    },
    {
      "cell_type": "code",
      "source": [
        "# remove boots image from addition data [5, 7, 9]\n",
        "for i in [5, 7, 9]:\n",
        "    index = np.where(y_train_add == i )\n",
        "    x_train_add = np.delete(x_train_add, index , axis=0)\n",
        "    y_train_add = np.delete(y_train_add, index , axis=0)"
      ],
      "metadata": {
        "id": "506yp4e5UqKp"
      },
      "execution_count": 171,
      "outputs": []
    },
    {
      "cell_type": "code",
      "source": [
        "x_train_add.shape"
      ],
      "metadata": {
        "colab": {
          "base_uri": "https://localhost:8080/"
        },
        "id": "WB-PVgBb116E",
        "outputId": "73e4b483-e12d-4414-d827-b3f62bc6a53e"
      },
      "execution_count": 172,
      "outputs": [
        {
          "output_type": "execute_result",
          "data": {
            "text/plain": [
              "(34972, 28, 28)"
            ]
          },
          "metadata": {},
          "execution_count": 172
        }
      ]
    },
    {
      "cell_type": "code",
      "source": [
        "y_train_add.shape"
      ],
      "metadata": {
        "colab": {
          "base_uri": "https://localhost:8080/"
        },
        "id": "MjteIWwr2V-N",
        "outputId": "e62e0658-bb00-486a-8fda-a8362df4a2c2"
      },
      "execution_count": 173,
      "outputs": [
        {
          "output_type": "execute_result",
          "data": {
            "text/plain": [
              "(34972,)"
            ]
          },
          "metadata": {},
          "execution_count": 173
        }
      ]
    },
    {
      "cell_type": "code",
      "source": [
        "x_train = np.concatenate([\n",
        "    x_train,\n",
        "    x_train_add[:10000:, :, :]\n",
        "])"
      ],
      "metadata": {
        "id": "C25g0-L5PuhV"
      },
      "execution_count": 174,
      "outputs": []
    },
    {
      "cell_type": "code",
      "source": [
        "y_train = np.concatenate([\n",
        "    y_train,\n",
        "    y_train_add[:10000]\n",
        "])"
      ],
      "metadata": {
        "id": "JiyI9CE-RWnR"
      },
      "execution_count": 175,
      "outputs": []
    },
    {
      "cell_type": "code",
      "source": [
        "drow_hist(y_train)"
      ],
      "metadata": {
        "colab": {
          "base_uri": "https://localhost:8080/",
          "height": 420
        },
        "id": "j0FZ4_7DpRVw",
        "outputId": "08cacc14-8448-451b-a7b5-f7a21a5491d2"
      },
      "execution_count": 176,
      "outputs": [
        {
          "output_type": "display_data",
          "data": {
            "text/plain": [
              "<Figure size 640x480 with 1 Axes>"
            ],
            "image/png": "[encoded data removed]"
          },
          "metadata": {}
        }
      ]
    },
    {
      "cell_type": "code",
      "source": [
        "# plt.figure()\n",
        "# plt.imshow(x_train[7])\n",
        "# plt.colorbar()\n",
        "# plt.grid(False)\n",
        "# plt.show()"
      ],
      "metadata": {
        "id": "mq_QalIABCeU"
      },
      "execution_count": 177,
      "outputs": []
    },
    {
      "cell_type": "code",
      "source": [
        "# plt.figure()\n",
        "# plt.imshow(x_train_add[0])\n",
        "# plt.colorbar()\n",
        "# plt.grid(False)\n",
        "# plt.show()"
      ],
      "metadata": {
        "id": "CDLNL7Zw3HEc"
      },
      "execution_count": 178,
      "outputs": []
    },
    {
      "cell_type": "code",
      "source": [
        "x_train = x_train.astype('float32') / 255\n",
        "x_test = x_test.astype('float32') / 255\n",
        "\n",
        "y_train = y_train.astype('float32')\n",
        "y_test = y_test.astype('float32')\n",
        "\n",
        "x_val = x_val.astype('float32') / 255\n",
        "y_val = y_val.astype('float32')"
      ],
      "metadata": {
        "id": "t2gucjsJ0KUi"
      },
      "execution_count": 179,
      "outputs": []
    },
    {
      "cell_type": "code",
      "source": [
        "# class_names = ['T-shirt/top', 'Trouser', 'Pullover', 'Dress', 'Coat',\n",
        "#                'Sandal', 'Shirt', 'Sneaker', 'Bag', 'Ankle boot']\n",
        "\n",
        "# plt.figure(figsize=(10,10))\n",
        "# for i in range(25):\n",
        "#     plt.subplot(5,5,i+1)\n",
        "#     plt.xticks([])\n",
        "#     plt.yticks([])\n",
        "#     plt.grid(False)\n",
        "#     plt.imshow(x_train[i+50000], cmap=plt.cm.binary)\n",
        "#     plt.xlabel(class_names[int(y_train[i+50000])])\n",
        "# plt.show()"
      ],
      "metadata": {
        "id": "h4LveKxM4hyC"
      },
      "execution_count": 180,
      "outputs": []
    },
    {
      "cell_type": "code",
      "source": [
        "# plt.figure(figsize=(10,10))\n",
        "# for i in range(25):\n",
        "#     plt.subplot(5,5,i+1)\n",
        "#     plt.xticks([])\n",
        "#     plt.yticks([])\n",
        "#     plt.grid(False)\n",
        "#     plt.imshow(x_train[i], cmap=plt.cm.binary)\n",
        "#     plt.xlabel(class_names[int(y_train[i])])\n",
        "# plt.show()"
      ],
      "metadata": {
        "id": "hljEDYd55d8Q"
      },
      "execution_count": 181,
      "outputs": []
    },
    {
      "cell_type": "code",
      "source": [
        "w_init_tanh = initializers.glorot_normal(seed=111)\n",
        "w_init_relu = initializers.HeNormal(seed=66)\n",
        "# w_init_relu = initializers.HeUniform(seed=24)\n",
        "b_init = initializers.Zeros()"
      ],
      "metadata": {
        "id": "yL9QTEtBGy4N"
      },
      "execution_count": 182,
      "outputs": []
    },
    {
      "cell_type": "code",
      "source": [
        "drop_out = 0.33"
      ],
      "metadata": {
        "id": "flsDcVTnU10J"
      },
      "execution_count": 183,
      "outputs": []
    },
    {
      "cell_type": "code",
      "source": [
        "def layer_relu(model, neurons):\n",
        "  model.add(BatchNormalization())\n",
        "  model.add(layers.Dense(neurons,\n",
        "                       activation='relu',\n",
        "                       kernel_initializer=w_init_relu,\n",
        "                       bias_initializer=b_init))\n",
        "  model.add(layers.Dropout(drop_out))\n",
        "  return model"
      ],
      "metadata": {
        "id": "ZZgs_25rKBCp"
      },
      "execution_count": 184,
      "outputs": []
    },
    {
      "cell_type": "code",
      "source": [
        "def layer_tanh(model, neurons):\n",
        "  model.add(BatchNormalization())\n",
        "  model.add(layers.Dense(neurons,\n",
        "                        activation='tanh',\n",
        "                        kernel_initializer=w_init_tanh,\n",
        "                        bias_initializer=b_init))\n",
        "  model.add(layers.Dropout(drop_out))\n",
        "  return model"
      ],
      "metadata": {
        "id": "90JLLnkBR50t"
      },
      "execution_count": 185,
      "outputs": []
    },
    {
      "cell_type": "code",
      "source": [
        "model = models.Sequential()\n",
        "\n",
        "neurons = 256\n",
        "\n",
        "model.add(layers.Flatten(input_shape=(28, 28)))\n",
        "model.add(layers.Dropout(drop_out))\n",
        "\n",
        "model = layer_relu(model, neurons*1)\n",
        "model = layer_relu(model, neurons*2)\n",
        "model = layer_relu(model, neurons*2)\n",
        "# model = layer_relu(model, neurons*1)\n",
        "\n",
        "\n",
        "model.add(layers.Dense(10, activation='softmax'))"
      ],
      "metadata": {
        "id": "atS39i4d0aqW"
      },
      "execution_count": 186,
      "outputs": []
    },
    {
      "cell_type": "markdown",
      "source": [
        "++++++++++++++++++++++++++++++++++++++++++++++++++++++++++++++++++++++++++++++++"
      ],
      "metadata": {
        "id": "tZO7hl7pM63y"
      }
    },
    {
      "cell_type": "code",
      "source": [
        "optimizer = tf.keras.optimizers.Nadam(learning_rate=0.0003,\n",
        "                                      beta_1=-0.10,\n",
        "                                      beta_2=0.999,\n",
        "                                      epsilon=1e-04\n",
        ")\n",
        "# optimizer = tf.keras.optimizers.experimental.RMSprop(learning_rate=0.0005,\n",
        "#                                                     rho=0.5,\n",
        "#                                                     momentum=-16,\n",
        "#                                                     epsilon=1e-07,\n",
        "#                                                     centered=False,\n",
        "#                                                     weight_decay=None,\n",
        "#                                                     clipnorm=None,\n",
        "#                                                     clipvalue=None,\n",
        "#                                                     global_clipnorm=None,\n",
        "#                                                     use_ema=False,\n",
        "#                                                     ema_momentum=0.99,\n",
        "#                                                     ema_overwrite_frequency=100,\n",
        "#                                                     jit_compile=True,\n",
        "#                                                     name='RMSprop',\n",
        "# )"
      ],
      "metadata": {
        "id": "EzfnaqIZlfy8"
      },
      "execution_count": 187,
      "outputs": []
    },
    {
      "cell_type": "markdown",
      "source": [
        "++++++++++++++++++++++++++++++++++++++++++++++++++++++++++++++++++++++++++++++++"
      ],
      "metadata": {
        "id": "KHmBptvOM95Z"
      }
    },
    {
      "cell_type": "code",
      "source": [
        "model.compile(#optimizer='adam',\n",
        "              # optimizer='adamax',\n",
        "              optimizer=optimizer,\n",
        "              # optimizer='rmsprop',\n",
        "              # optimizer='sgd',\n",
        "              # optimizer='adadelta',\n",
        "              # loss='binary_crossentropy',\n",
        "              loss=tf.keras.losses.SparseCategoricalCrossentropy(),\n",
        "              metrics=['sparse_categorical_accuracy']) # sparse_categorical_accuracy"
      ],
      "metadata": {
        "id": "hENVaAC7ilNY"
      },
      "execution_count": 188,
      "outputs": []
    },
    {
      "cell_type": "code",
      "source": [
        "# callback = callbacks.EarlyStopping(monitor='val_loss',\n",
        "#                                    patience=15,\n",
        "#                                    restore_best_weights=True,\n",
        "#                                    )\n",
        "es = callbacks.EarlyStopping(monitor='val_loss', mode='min', verbose=0, patience=15)\n",
        "mc = callbacks.ModelCheckpoint('best_model.h5', monitor='sparse_categorical_accuracy', mode='max', verbose=0, save_best_only=True)\n"
      ],
      "metadata": {
        "id": "5ihU4exVlsjm"
      },
      "execution_count": 189,
      "outputs": []
    },
    {
      "cell_type": "code",
      "source": [
        "history = model.fit(x_train, y_train,\n",
        "                    epochs=200,\n",
        "                    batch_size=128,\n",
        "                    # callbacks=[callback],\n",
        "                    callbacks=[mc, es],\n",
        "                    verbose=1, #многословие\n",
        "                    # validation_split=0.2\n",
        "                    validation_data=(x_val, y_val)\n",
        "                    )\n",
        "test_loss, test_acc = model.evaluate(x_test, y_test)\n",
        "print('\\nTest accuracy:', test_acc)"
      ],
      "metadata": {
        "id": "FH8HcMNm233I",
        "outputId": "905fcb8c-e7ab-4cd5-e96d-7b46602b6920",
        "colab": {
          "base_uri": "https://localhost:8080/"
        }
      },
      "execution_count": 190,
      "outputs": [
        {
          "output_type": "stream",
          "name": "stdout",
          "text": [
            "Epoch 1/200\n",
            "469/469 [==============================] - 16s 28ms/step - loss: 1.0306 - sparse_categorical_accuracy: 0.6395 - val_loss: 0.5172 - val_sparse_categorical_accuracy: 0.8100\n",
            "Epoch 2/200\n",
            "469/469 [==============================] - 13s 27ms/step - loss: 0.6868 - sparse_categorical_accuracy: 0.7497 - val_loss: 0.4514 - val_sparse_categorical_accuracy: 0.8330\n",
            "Epoch 3/200\n",
            "469/469 [==============================] - 13s 27ms/step - loss: 0.6103 - sparse_categorical_accuracy: 0.7767 - val_loss: 0.4483 - val_sparse_categorical_accuracy: 0.8339\n",
            "Epoch 4/200\n",
            "469/469 [==============================] - 13s 27ms/step - loss: 0.5624 - sparse_categorical_accuracy: 0.7932 - val_loss: 0.4279 - val_sparse_categorical_accuracy: 0.8406\n",
            "Epoch 5/200\n",
            "469/469 [==============================] - 13s 27ms/step - loss: 0.5318 - sparse_categorical_accuracy: 0.8033 - val_loss: 0.4146 - val_sparse_categorical_accuracy: 0.8440\n",
            "Epoch 6/200\n",
            "469/469 [==============================] - 13s 27ms/step - loss: 0.5080 - sparse_categorical_accuracy: 0.8104 - val_loss: 0.3878 - val_sparse_categorical_accuracy: 0.8560\n",
            "Epoch 7/200\n",
            "469/469 [==============================] - 13s 27ms/step - loss: 0.4934 - sparse_categorical_accuracy: 0.8160 - val_loss: 0.3902 - val_sparse_categorical_accuracy: 0.8537\n",
            "Epoch 8/200\n",
            "469/469 [==============================] - 13s 27ms/step - loss: 0.4776 - sparse_categorical_accuracy: 0.8199 - val_loss: 0.3738 - val_sparse_categorical_accuracy: 0.8604\n",
            "Epoch 9/200\n",
            "469/469 [==============================] - 13s 27ms/step - loss: 0.4721 - sparse_categorical_accuracy: 0.8250 - val_loss: 0.3764 - val_sparse_categorical_accuracy: 0.8623\n",
            "Epoch 10/200\n",
            "469/469 [==============================] - 13s 28ms/step - loss: 0.4574 - sparse_categorical_accuracy: 0.8307 - val_loss: 0.3654 - val_sparse_categorical_accuracy: 0.8649\n",
            "Epoch 11/200\n",
            "469/469 [==============================] - 13s 27ms/step - loss: 0.4466 - sparse_categorical_accuracy: 0.8316 - val_loss: 0.3665 - val_sparse_categorical_accuracy: 0.8648\n",
            "Epoch 12/200\n",
            "469/469 [==============================] - 13s 27ms/step - loss: 0.4395 - sparse_categorical_accuracy: 0.8364 - val_loss: 0.3537 - val_sparse_categorical_accuracy: 0.8683\n",
            "Epoch 13/200\n",
            "469/469 [==============================] - 13s 27ms/step - loss: 0.4335 - sparse_categorical_accuracy: 0.8384 - val_loss: 0.3558 - val_sparse_categorical_accuracy: 0.8683\n",
            "Epoch 14/200\n",
            "469/469 [==============================] - 14s 29ms/step - loss: 0.4257 - sparse_categorical_accuracy: 0.8414 - val_loss: 0.3409 - val_sparse_categorical_accuracy: 0.8743\n",
            "Epoch 15/200\n",
            "469/469 [==============================] - 13s 27ms/step - loss: 0.4174 - sparse_categorical_accuracy: 0.8439 - val_loss: 0.3503 - val_sparse_categorical_accuracy: 0.8721\n",
            "Epoch 16/200\n",
            "469/469 [==============================] - 13s 28ms/step - loss: 0.4097 - sparse_categorical_accuracy: 0.8457 - val_loss: 0.3414 - val_sparse_categorical_accuracy: 0.8762\n",
            "Epoch 17/200\n",
            "469/469 [==============================] - 13s 28ms/step - loss: 0.4070 - sparse_categorical_accuracy: 0.8476 - val_loss: 0.3423 - val_sparse_categorical_accuracy: 0.8746\n",
            "Epoch 18/200\n",
            "469/469 [==============================] - 13s 27ms/step - loss: 0.4040 - sparse_categorical_accuracy: 0.8477 - val_loss: 0.3305 - val_sparse_categorical_accuracy: 0.8777\n",
            "Epoch 19/200\n",
            "469/469 [==============================] - 13s 27ms/step - loss: 0.3966 - sparse_categorical_accuracy: 0.8510 - val_loss: 0.3288 - val_sparse_categorical_accuracy: 0.8775\n",
            "Epoch 20/200\n",
            "469/469 [==============================] - 13s 27ms/step - loss: 0.3922 - sparse_categorical_accuracy: 0.8525 - val_loss: 0.3239 - val_sparse_categorical_accuracy: 0.8801\n",
            "Epoch 21/200\n",
            "469/469 [==============================] - 13s 27ms/step - loss: 0.3870 - sparse_categorical_accuracy: 0.8548 - val_loss: 0.3310 - val_sparse_categorical_accuracy: 0.8768\n",
            "Epoch 22/200\n",
            "469/469 [==============================] - 13s 27ms/step - loss: 0.3866 - sparse_categorical_accuracy: 0.8548 - val_loss: 0.3240 - val_sparse_categorical_accuracy: 0.8788\n",
            "Epoch 23/200\n",
            "469/469 [==============================] - 13s 27ms/step - loss: 0.3785 - sparse_categorical_accuracy: 0.8573 - val_loss: 0.3303 - val_sparse_categorical_accuracy: 0.8768\n",
            "Epoch 24/200\n",
            "469/469 [==============================] - 13s 27ms/step - loss: 0.3768 - sparse_categorical_accuracy: 0.8593 - val_loss: 0.3176 - val_sparse_categorical_accuracy: 0.8831\n",
            "Epoch 25/200\n",
            "469/469 [==============================] - 13s 27ms/step - loss: 0.3744 - sparse_categorical_accuracy: 0.8587 - val_loss: 0.3153 - val_sparse_categorical_accuracy: 0.8830\n",
            "Epoch 26/200\n",
            "469/469 [==============================] - 13s 27ms/step - loss: 0.3702 - sparse_categorical_accuracy: 0.8594 - val_loss: 0.3110 - val_sparse_categorical_accuracy: 0.8852\n",
            "Epoch 27/200\n",
            "469/469 [==============================] - 13s 28ms/step - loss: 0.3695 - sparse_categorical_accuracy: 0.8600 - val_loss: 0.3158 - val_sparse_categorical_accuracy: 0.8831\n",
            "Epoch 28/200\n",
            "469/469 [==============================] - 13s 27ms/step - loss: 0.3660 - sparse_categorical_accuracy: 0.8612 - val_loss: 0.3134 - val_sparse_categorical_accuracy: 0.8837\n",
            "Epoch 29/200\n",
            "469/469 [==============================] - 13s 27ms/step - loss: 0.3678 - sparse_categorical_accuracy: 0.8611 - val_loss: 0.3131 - val_sparse_categorical_accuracy: 0.8836\n",
            "Epoch 30/200\n",
            "469/469 [==============================] - 13s 28ms/step - loss: 0.3617 - sparse_categorical_accuracy: 0.8620 - val_loss: 0.3072 - val_sparse_categorical_accuracy: 0.8869\n",
            "Epoch 31/200\n",
            "469/469 [==============================] - 13s 27ms/step - loss: 0.3599 - sparse_categorical_accuracy: 0.8647 - val_loss: 0.3074 - val_sparse_categorical_accuracy: 0.8862\n",
            "Epoch 32/200\n",
            "469/469 [==============================] - 13s 27ms/step - loss: 0.3542 - sparse_categorical_accuracy: 0.8661 - val_loss: 0.3084 - val_sparse_categorical_accuracy: 0.8852\n",
            "Epoch 33/200\n",
            "469/469 [==============================] - 13s 27ms/step - loss: 0.3554 - sparse_categorical_accuracy: 0.8655 - val_loss: 0.3045 - val_sparse_categorical_accuracy: 0.8883\n",
            "Epoch 34/200\n",
            "469/469 [==============================] - 13s 27ms/step - loss: 0.3513 - sparse_categorical_accuracy: 0.8671 - val_loss: 0.2972 - val_sparse_categorical_accuracy: 0.8900\n",
            "Epoch 35/200\n",
            "469/469 [==============================] - 14s 30ms/step - loss: 0.3539 - sparse_categorical_accuracy: 0.8655 - val_loss: 0.3010 - val_sparse_categorical_accuracy: 0.8881\n",
            "Epoch 36/200\n",
            "469/469 [==============================] - 13s 27ms/step - loss: 0.3470 - sparse_categorical_accuracy: 0.8672 - val_loss: 0.3029 - val_sparse_categorical_accuracy: 0.8866\n",
            "Epoch 37/200\n",
            "469/469 [==============================] - 13s 27ms/step - loss: 0.3468 - sparse_categorical_accuracy: 0.8695 - val_loss: 0.2960 - val_sparse_categorical_accuracy: 0.8894\n",
            "Epoch 38/200\n",
            "469/469 [==============================] - 13s 28ms/step - loss: 0.3453 - sparse_categorical_accuracy: 0.8693 - val_loss: 0.3014 - val_sparse_categorical_accuracy: 0.8862\n",
            "Epoch 39/200\n",
            "469/469 [==============================] - 13s 28ms/step - loss: 0.3441 - sparse_categorical_accuracy: 0.8691 - val_loss: 0.3042 - val_sparse_categorical_accuracy: 0.8874\n",
            "Epoch 40/200\n",
            "469/469 [==============================] - 13s 29ms/step - loss: 0.3399 - sparse_categorical_accuracy: 0.8710 - val_loss: 0.2960 - val_sparse_categorical_accuracy: 0.8909\n",
            "Epoch 41/200\n",
            "469/469 [==============================] - 13s 29ms/step - loss: 0.3390 - sparse_categorical_accuracy: 0.8720 - val_loss: 0.2944 - val_sparse_categorical_accuracy: 0.8912\n",
            "Epoch 42/200\n",
            "469/469 [==============================] - 14s 29ms/step - loss: 0.3393 - sparse_categorical_accuracy: 0.8731 - val_loss: 0.2961 - val_sparse_categorical_accuracy: 0.8911\n",
            "Epoch 43/200\n",
            "469/469 [==============================] - 13s 28ms/step - loss: 0.3402 - sparse_categorical_accuracy: 0.8713 - val_loss: 0.2930 - val_sparse_categorical_accuracy: 0.8927\n",
            "Epoch 44/200\n",
            "469/469 [==============================] - 13s 27ms/step - loss: 0.3343 - sparse_categorical_accuracy: 0.8729 - val_loss: 0.2897 - val_sparse_categorical_accuracy: 0.8926\n",
            "Epoch 45/200\n",
            "469/469 [==============================] - 13s 28ms/step - loss: 0.3360 - sparse_categorical_accuracy: 0.8723 - val_loss: 0.2892 - val_sparse_categorical_accuracy: 0.8937\n",
            "Epoch 46/200\n",
            "469/469 [==============================] - 13s 27ms/step - loss: 0.3337 - sparse_categorical_accuracy: 0.8729 - val_loss: 0.2908 - val_sparse_categorical_accuracy: 0.8923\n",
            "Epoch 47/200\n",
            "469/469 [==============================] - 13s 27ms/step - loss: 0.3342 - sparse_categorical_accuracy: 0.8733 - val_loss: 0.2842 - val_sparse_categorical_accuracy: 0.8949\n",
            "Epoch 48/200\n",
            "469/469 [==============================] - 13s 27ms/step - loss: 0.3314 - sparse_categorical_accuracy: 0.8728 - val_loss: 0.2946 - val_sparse_categorical_accuracy: 0.8922\n",
            "Epoch 49/200\n",
            "469/469 [==============================] - 13s 27ms/step - loss: 0.3312 - sparse_categorical_accuracy: 0.8751 - val_loss: 0.2874 - val_sparse_categorical_accuracy: 0.8925\n",
            "Epoch 50/200\n",
            "469/469 [==============================] - 13s 27ms/step - loss: 0.3285 - sparse_categorical_accuracy: 0.8756 - val_loss: 0.2888 - val_sparse_categorical_accuracy: 0.8920\n",
            "Epoch 51/200\n",
            "469/469 [==============================] - 13s 27ms/step - loss: 0.3279 - sparse_categorical_accuracy: 0.8767 - val_loss: 0.2849 - val_sparse_categorical_accuracy: 0.8939\n",
            "Epoch 52/200\n",
            "469/469 [==============================] - 13s 27ms/step - loss: 0.3235 - sparse_categorical_accuracy: 0.8779 - val_loss: 0.2919 - val_sparse_categorical_accuracy: 0.8911\n",
            "Epoch 53/200\n",
            "469/469 [==============================] - 13s 27ms/step - loss: 0.3240 - sparse_categorical_accuracy: 0.8762 - val_loss: 0.2883 - val_sparse_categorical_accuracy: 0.8921\n",
            "Epoch 54/200\n",
            "469/469 [==============================] - 13s 28ms/step - loss: 0.3244 - sparse_categorical_accuracy: 0.8759 - val_loss: 0.2857 - val_sparse_categorical_accuracy: 0.8935\n",
            "Epoch 55/200\n",
            "469/469 [==============================] - 13s 28ms/step - loss: 0.3225 - sparse_categorical_accuracy: 0.8756 - val_loss: 0.2876 - val_sparse_categorical_accuracy: 0.8940\n",
            "Epoch 56/200\n",
            "469/469 [==============================] - 14s 30ms/step - loss: 0.3207 - sparse_categorical_accuracy: 0.8780 - val_loss: 0.2840 - val_sparse_categorical_accuracy: 0.8931\n",
            "Epoch 57/200\n",
            "469/469 [==============================] - 13s 27ms/step - loss: 0.3209 - sparse_categorical_accuracy: 0.8777 - val_loss: 0.2820 - val_sparse_categorical_accuracy: 0.8950\n",
            "Epoch 58/200\n",
            "469/469 [==============================] - 13s 27ms/step - loss: 0.3210 - sparse_categorical_accuracy: 0.8782 - val_loss: 0.2797 - val_sparse_categorical_accuracy: 0.8957\n",
            "Epoch 59/200\n",
            "469/469 [==============================] - 13s 28ms/step - loss: 0.3191 - sparse_categorical_accuracy: 0.8787 - val_loss: 0.2860 - val_sparse_categorical_accuracy: 0.8940\n",
            "Epoch 60/200\n",
            "469/469 [==============================] - 13s 27ms/step - loss: 0.3174 - sparse_categorical_accuracy: 0.8798 - val_loss: 0.2883 - val_sparse_categorical_accuracy: 0.8939\n",
            "Epoch 61/200\n",
            "469/469 [==============================] - 13s 27ms/step - loss: 0.3161 - sparse_categorical_accuracy: 0.8806 - val_loss: 0.2908 - val_sparse_categorical_accuracy: 0.8935\n",
            "Epoch 62/200\n",
            "469/469 [==============================] - 13s 27ms/step - loss: 0.3160 - sparse_categorical_accuracy: 0.8809 - val_loss: 0.2797 - val_sparse_categorical_accuracy: 0.8972\n",
            "Epoch 63/200\n",
            "469/469 [==============================] - 13s 27ms/step - loss: 0.3148 - sparse_categorical_accuracy: 0.8802 - val_loss: 0.2818 - val_sparse_categorical_accuracy: 0.8953\n",
            "Epoch 64/200\n",
            "469/469 [==============================] - 13s 27ms/step - loss: 0.3132 - sparse_categorical_accuracy: 0.8806 - val_loss: 0.2866 - val_sparse_categorical_accuracy: 0.8944\n",
            "Epoch 65/200\n",
            "469/469 [==============================] - 13s 28ms/step - loss: 0.3125 - sparse_categorical_accuracy: 0.8815 - val_loss: 0.2778 - val_sparse_categorical_accuracy: 0.8976\n",
            "Epoch 66/200\n",
            "469/469 [==============================] - 13s 27ms/step - loss: 0.3112 - sparse_categorical_accuracy: 0.8835 - val_loss: 0.2781 - val_sparse_categorical_accuracy: 0.8964\n",
            "Epoch 67/200\n",
            "469/469 [==============================] - 13s 27ms/step - loss: 0.3115 - sparse_categorical_accuracy: 0.8818 - val_loss: 0.2803 - val_sparse_categorical_accuracy: 0.8954\n",
            "Epoch 68/200\n",
            "469/469 [==============================] - 13s 27ms/step - loss: 0.3100 - sparse_categorical_accuracy: 0.8815 - val_loss: 0.2734 - val_sparse_categorical_accuracy: 0.8998\n",
            "Epoch 69/200\n",
            "469/469 [==============================] - 13s 27ms/step - loss: 0.3070 - sparse_categorical_accuracy: 0.8825 - val_loss: 0.2836 - val_sparse_categorical_accuracy: 0.8963\n",
            "Epoch 70/200\n",
            "469/469 [==============================] - 13s 27ms/step - loss: 0.3088 - sparse_categorical_accuracy: 0.8831 - val_loss: 0.2821 - val_sparse_categorical_accuracy: 0.8960\n",
            "Epoch 71/200\n",
            "469/469 [==============================] - 13s 27ms/step - loss: 0.3078 - sparse_categorical_accuracy: 0.8833 - val_loss: 0.2809 - val_sparse_categorical_accuracy: 0.8968\n",
            "Epoch 72/200\n",
            "469/469 [==============================] - 13s 27ms/step - loss: 0.3073 - sparse_categorical_accuracy: 0.8825 - val_loss: 0.2788 - val_sparse_categorical_accuracy: 0.8965\n",
            "Epoch 73/200\n",
            "469/469 [==============================] - 13s 27ms/step - loss: 0.3070 - sparse_categorical_accuracy: 0.8835 - val_loss: 0.2809 - val_sparse_categorical_accuracy: 0.8942\n",
            "Epoch 74/200\n",
            "469/469 [==============================] - 13s 27ms/step - loss: 0.3066 - sparse_categorical_accuracy: 0.8834 - val_loss: 0.2752 - val_sparse_categorical_accuracy: 0.8963\n",
            "Epoch 75/200\n",
            "469/469 [==============================] - 13s 27ms/step - loss: 0.3051 - sparse_categorical_accuracy: 0.8845 - val_loss: 0.2798 - val_sparse_categorical_accuracy: 0.8945\n",
            "Epoch 76/200\n",
            "469/469 [==============================] - 13s 27ms/step - loss: 0.3016 - sparse_categorical_accuracy: 0.8849 - val_loss: 0.2768 - val_sparse_categorical_accuracy: 0.8987\n",
            "Epoch 77/200\n",
            "469/469 [==============================] - 14s 30ms/step - loss: 0.3051 - sparse_categorical_accuracy: 0.8829 - val_loss: 0.2762 - val_sparse_categorical_accuracy: 0.8965\n",
            "Epoch 78/200\n",
            "469/469 [==============================] - 13s 27ms/step - loss: 0.3023 - sparse_categorical_accuracy: 0.8839 - val_loss: 0.2806 - val_sparse_categorical_accuracy: 0.8950\n",
            "Epoch 79/200\n",
            "469/469 [==============================] - 13s 27ms/step - loss: 0.3034 - sparse_categorical_accuracy: 0.8838 - val_loss: 0.2821 - val_sparse_categorical_accuracy: 0.8962\n",
            "Epoch 80/200\n",
            "469/469 [==============================] - 13s 28ms/step - loss: 0.3017 - sparse_categorical_accuracy: 0.8857 - val_loss: 0.2801 - val_sparse_categorical_accuracy: 0.8944\n",
            "Epoch 81/200\n",
            "469/469 [==============================] - 13s 28ms/step - loss: 0.3023 - sparse_categorical_accuracy: 0.8856 - val_loss: 0.2731 - val_sparse_categorical_accuracy: 0.8994\n",
            "Epoch 82/200\n",
            "469/469 [==============================] - 13s 27ms/step - loss: 0.3016 - sparse_categorical_accuracy: 0.8840 - val_loss: 0.2712 - val_sparse_categorical_accuracy: 0.8980\n",
            "Epoch 83/200\n",
            "469/469 [==============================] - 13s 27ms/step - loss: 0.2996 - sparse_categorical_accuracy: 0.8853 - val_loss: 0.2738 - val_sparse_categorical_accuracy: 0.8991\n",
            "Epoch 84/200\n",
            "469/469 [==============================] - 13s 27ms/step - loss: 0.3017 - sparse_categorical_accuracy: 0.8855 - val_loss: 0.2715 - val_sparse_categorical_accuracy: 0.8999\n",
            "Epoch 85/200\n",
            "469/469 [==============================] - 13s 28ms/step - loss: 0.2988 - sparse_categorical_accuracy: 0.8863 - val_loss: 0.2761 - val_sparse_categorical_accuracy: 0.8980\n",
            "Epoch 86/200\n",
            "469/469 [==============================] - 13s 27ms/step - loss: 0.2982 - sparse_categorical_accuracy: 0.8862 - val_loss: 0.2722 - val_sparse_categorical_accuracy: 0.8992\n",
            "Epoch 87/200\n",
            "469/469 [==============================] - 13s 27ms/step - loss: 0.2983 - sparse_categorical_accuracy: 0.8870 - val_loss: 0.2728 - val_sparse_categorical_accuracy: 0.8989\n",
            "Epoch 88/200\n",
            "469/469 [==============================] - 13s 28ms/step - loss: 0.2977 - sparse_categorical_accuracy: 0.8868 - val_loss: 0.2773 - val_sparse_categorical_accuracy: 0.8972\n",
            "Epoch 89/200\n",
            "469/469 [==============================] - 13s 28ms/step - loss: 0.2968 - sparse_categorical_accuracy: 0.8874 - val_loss: 0.2743 - val_sparse_categorical_accuracy: 0.8970\n",
            "Epoch 90/200\n",
            "469/469 [==============================] - 13s 28ms/step - loss: 0.2966 - sparse_categorical_accuracy: 0.8866 - val_loss: 0.2754 - val_sparse_categorical_accuracy: 0.8977\n",
            "Epoch 91/200\n",
            "469/469 [==============================] - 13s 28ms/step - loss: 0.2964 - sparse_categorical_accuracy: 0.8863 - val_loss: 0.2803 - val_sparse_categorical_accuracy: 0.8963\n",
            "Epoch 92/200\n",
            "469/469 [==============================] - 13s 28ms/step - loss: 0.2951 - sparse_categorical_accuracy: 0.8881 - val_loss: 0.2756 - val_sparse_categorical_accuracy: 0.8971\n",
            "Epoch 93/200\n",
            "469/469 [==============================] - 13s 28ms/step - loss: 0.2925 - sparse_categorical_accuracy: 0.8882 - val_loss: 0.2756 - val_sparse_categorical_accuracy: 0.8966\n",
            "Epoch 94/200\n",
            "469/469 [==============================] - 13s 27ms/step - loss: 0.2920 - sparse_categorical_accuracy: 0.8888 - val_loss: 0.2716 - val_sparse_categorical_accuracy: 0.8976\n",
            "Epoch 95/200\n",
            "469/469 [==============================] - 13s 28ms/step - loss: 0.2921 - sparse_categorical_accuracy: 0.8888 - val_loss: 0.2732 - val_sparse_categorical_accuracy: 0.9000\n",
            "Epoch 96/200\n",
            "469/469 [==============================] - 13s 27ms/step - loss: 0.2919 - sparse_categorical_accuracy: 0.8899 - val_loss: 0.2749 - val_sparse_categorical_accuracy: 0.8977\n",
            "Epoch 97/200\n",
            "469/469 [==============================] - 13s 27ms/step - loss: 0.2899 - sparse_categorical_accuracy: 0.8892 - val_loss: 0.2753 - val_sparse_categorical_accuracy: 0.8988\n",
            "313/313 [==============================] - 1s 4ms/step - loss: 0.2985 - sparse_categorical_accuracy: 0.8936\n",
            "\n",
            "Test accuracy: 0.8935999870300293\n"
          ]
        }
      ]
    },
    {
      "cell_type": "code",
      "source": [
        "print('\\nhistory dict:', list(history.history.keys()))"
      ],
      "metadata": {
        "id": "CxRE-B_Q6Sii",
        "outputId": "78ca25b2-b04d-41b3-bee8-a3ea11088537",
        "colab": {
          "base_uri": "https://localhost:8080/"
        }
      },
      "execution_count": 191,
      "outputs": [
        {
          "output_type": "stream",
          "name": "stdout",
          "text": [
            "\n",
            "history dict: ['loss', 'sparse_categorical_accuracy', 'val_loss', 'val_sparse_categorical_accuracy']\n"
          ]
        }
      ]
    },
    {
      "cell_type": "code",
      "source": [
        "result = model.evaluate(x_test, y_test)\n",
        "print(result)"
      ],
      "metadata": {
        "id": "YXpwRRTvTBNg",
        "outputId": "6a7b964a-6618-4001-ad35-e9ba4e1ef7cb",
        "colab": {
          "base_uri": "https://localhost:8080/"
        }
      },
      "execution_count": 192,
      "outputs": [
        {
          "output_type": "stream",
          "name": "stdout",
          "text": [
            "313/313 [==============================] - 1s 3ms/step - loss: 0.2985 - sparse_categorical_accuracy: 0.8936\n",
            "[0.2984909117221832, 0.8935999870300293]\n"
          ]
        }
      ]
    },
    {
      "cell_type": "code",
      "source": [
        "saved_model = load_model('best_model.h5')\n",
        "result = saved_model.evaluate(x_test, y_test)\n",
        "print(result)"
      ],
      "metadata": {
        "id": "dpaZAW0vp1AZ",
        "outputId": "8c15656b-3c35-4aa9-a86c-a07178560ac7",
        "colab": {
          "base_uri": "https://localhost:8080/"
        }
      },
      "execution_count": 193,
      "outputs": [
        {
          "output_type": "stream",
          "name": "stdout",
          "text": [
            "313/313 [==============================] - 1s 3ms/step - loss: 0.2975 - sparse_categorical_accuracy: 0.8922\n",
            "[0.2974729835987091, 0.8921999931335449]\n"
          ]
        }
      ]
    },
    {
      "cell_type": "code",
      "source": [
        "# from keras.models import load_model\n",
        "# saved_model = load_model('best_model.h5')\n",
        "# # _, train_acc = saved_model.evaluate(x_train, y_train, verbose=0)\n",
        "# _, test_acc = saved_model.evaluate(x_test, y_test, verbose=0)\n",
        "# print('Test: %.3f' % (test_acc))"
      ],
      "metadata": {
        "id": "DR_MS9DABo_K"
      },
      "execution_count": 194,
      "outputs": []
    },
    {
      "cell_type": "code",
      "source": [
        "history_dict = history.history\n",
        "loss_values = history_dict['loss']\n",
        "val_loss_values = history_dict['val_loss']\n",
        "\n",
        "epochs = range(1, len(history_dict['loss']) + 1)\n",
        "\n",
        "plt.figure(figsize=(10, 5))\n",
        "plt.plot(epochs, loss_values, 'bo', label='Training loss')\n",
        "plt.plot(epochs, val_loss_values, 'r', label='Validation loss')\n",
        "# plt.ylim (0.2, 0.5)\n",
        "plt.title('Training and validation loss')\n",
        "plt.xlabel('Epochs')\n",
        "plt.ylabel('Loss')\n",
        "plt.legend()\n",
        "plt.grid(True)\n",
        "plt.show()\n",
        "1\n",
        "plt.clf()\n",
        "plt.figure(figsize=(10, 5))\n",
        "val_acc_values = history_dict['sparse_categorical_accuracy']\n",
        "plt.plot(epochs, history_dict['sparse_categorical_accuracy'], 'bo', label='Training acc')\n",
        "plt.plot(epochs, history_dict['val_sparse_categorical_accuracy'], 'r', label='Validation acc')\n",
        "plt.ylim (0.86, 0.92)\n",
        "plt.title('Training and validation accuracy')\n",
        "plt.xlabel('Epochs')\n",
        "plt.ylabel('Accuracy')\n",
        "plt.legend()\n",
        "plt.grid(True)"
      ],
      "metadata": {
        "id": "2Ll_5sGlXKMH",
        "outputId": "033188d4-db34-49e2-ee4c-73ff2ebf3241",
        "colab": {
          "base_uri": "https://localhost:8080/",
          "height": 975
        }
      },
      "execution_count": 195,
      "outputs": [
        {
          "output_type": "display_data",
          "data": {
            "text/plain": [
              "<Figure size 1000x500 with 1 Axes>"
            ],
            "image/png": "[encoded data removed]"
          },
          "metadata": {}
        },
        {
          "output_type": "display_data",
          "data": {
            "text/plain": [
              "<Figure size 640x480 with 0 Axes>"
            ]
          },
          "metadata": {}
        },
        {
          "output_type": "display_data",
          "data": {
            "text/plain": [
              "<Figure size 1000x500 with 1 Axes>"
            ],
            "image/png": "[encoded data removed]"
          },
          "metadata": {}
        }
      ]
    },
    {
      "cell_type": "code",
      "source": [
        "probability_model = tf.keras.Sequential([model,\n",
        "                                         tf.keras.layers.Softmax()])"
      ],
      "metadata": {
        "id": "VzOdKAT_uV-f"
      },
      "execution_count": 196,
      "outputs": []
    },
    {
      "cell_type": "code",
      "source": [
        "predictions = probability_model.predict(x_test)"
      ],
      "metadata": {
        "id": "f4is3NFruYom",
        "outputId": "90d8f92d-400a-4da4-f998-ea704277e31b",
        "colab": {
          "base_uri": "https://localhost:8080/"
        }
      },
      "execution_count": 197,
      "outputs": [
        {
          "output_type": "stream",
          "name": "stdout",
          "text": [
            "313/313 [==============================] - 2s 5ms/step\n"
          ]
        }
      ]
    },
    {
      "cell_type": "code",
      "source": [
        "predictions[0]"
      ],
      "metadata": {
        "id": "82cigvlZudz_",
        "outputId": "8b7ab62c-f24d-4506-be10-5e3e57702e5c",
        "colab": {
          "base_uri": "https://localhost:8080/"
        }
      },
      "execution_count": 198,
      "outputs": [
        {
          "output_type": "execute_result",
          "data": {
            "text/plain": [
              "array([0.08557664, 0.08557664, 0.08557664, 0.08557664, 0.08557664,\n",
              "       0.08563599, 0.08557664, 0.0872031 , 0.08557664, 0.2281245 ],\n",
              "      dtype=float32)"
            ]
          },
          "metadata": {},
          "execution_count": 198
        }
      ]
    },
    {
      "cell_type": "code",
      "source": [
        "model.summary()"
      ],
      "metadata": {
        "id": "6RsQPHyYuNGe",
        "outputId": "0bbb6b78-5faf-44f1-d36f-c8218d76e8e3",
        "colab": {
          "base_uri": "https://localhost:8080/"
        }
      },
      "execution_count": 199,
      "outputs": [
        {
          "output_type": "stream",
          "name": "stdout",
          "text": [
            "Model: \"sequential_8\"\n",
            "_________________________________________________________________\n",
            " Layer (type)                Output Shape              Param #   \n",
            "=================================================================\n",
            " flatten_4 (Flatten)         (None, 784)               0         \n",
            "                                                                 \n",
            " dropout_16 (Dropout)        (None, 784)               0         \n",
            "                                                                 \n",
            " batch_normalization_12 (Ba  (None, 784)               3136      \n",
            " tchNormalization)                                               \n",
            "                                                                 \n",
            " dense_16 (Dense)            (None, 256)               200960    \n",
            "                                                                 \n",
            " dropout_17 (Dropout)        (None, 256)               0         \n",
            "                                                                 \n",
            " batch_normalization_13 (Ba  (None, 256)               1024      \n",
            " tchNormalization)                                               \n",
            "                                                                 \n",
            " dense_17 (Dense)            (None, 512)               131584    \n",
            "                                                                 \n",
            " dropout_18 (Dropout)        (None, 512)               0         \n",
            "                                                                 \n",
            " batch_normalization_14 (Ba  (None, 512)               2048      \n",
            " tchNormalization)                                               \n",
            "                                                                 \n",
            " dense_18 (Dense)            (None, 512)               262656    \n",
            "                                                                 \n",
            " dropout_19 (Dropout)        (None, 512)               0         \n",
            "                                                                 \n",
            " dense_19 (Dense)            (None, 10)                5130      \n",
            "                                                                 \n",
            "=================================================================\n",
            "Total params: 606538 (2.31 MB)\n",
            "Trainable params: 603434 (2.30 MB)\n",
            "Non-trainable params: 3104 (12.12 KB)\n",
            "_________________________________________________________________\n"
          ]
        }
      ]
    },
    {
      "cell_type": "code",
      "source": [
        "\n",
        "\n",
        "\n",
        "\n",
        "hnyetjn hrte()"
      ],
      "metadata": {
        "id": "S4hcxZttmp-0",
        "outputId": "20fd5ff6-b9f0-4b23-8dd9-7957042b9e04",
        "colab": {
          "base_uri": "https://localhost:8080/",
          "height": 108
        }
      },
      "execution_count": 200,
      "outputs": [
        {
          "output_type": "error",
          "ename": "SyntaxError",
          "evalue": "invalid syntax (<ipython-input-200-1a3818e70946>, line 1)",
          "traceback": [
            "\u001b[0;36m  File \u001b[0;32m\"<ipython-input-200-1a3818e70946>\"\u001b[0;36m, line \u001b[0;32m1\u001b[0m\n\u001b[0;31m    hnyetjn hrte()\u001b[0m\n\u001b[0m            ^\u001b[0m\n\u001b[0;31mSyntaxError\u001b[0m\u001b[0;31m:\u001b[0m invalid syntax\n"
          ]
        }
      ]
    }
  ]
}