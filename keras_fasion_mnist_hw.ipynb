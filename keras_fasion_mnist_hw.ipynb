{
  "nbformat": 4,
  "nbformat_minor": 0,
  "metadata": {
    "colab": {
      "provenance": [],
      "gpuType": "T4",
      "authorship_tag": "ABX9TyPxzvOtcGIF0HVRJXY3iae1",
      "include_colab_link": true
    },
    "kernelspec": {
      "name": "python3",
      "display_name": "Python 3"
    },
    "language_info": {
      "name": "python"
    },
    "accelerator": "GPU"
  },
  "cells": [
    {
      "cell_type": "markdown",
      "metadata": {
        "id": "view-in-github",
        "colab_type": "text"
      },
      "source": [
        "<a href=\"https://colab.research.google.com/github/PavelStelmakhV/hw310-keras-fasion-mnist/blob/main/keras_fasion_mnist_hw.ipynb\" target=\"_parent\"><img src=\"https://colab.research.google.com/assets/colab-badge.svg\" alt=\"Open In Colab\"/></a>"
      ]
    },
    {
      "cell_type": "code",
      "execution_count": 202,
      "metadata": {
        "id": "vv7w0bgAVQPO"
      },
      "outputs": [],
      "source": [
        "import tensorflow as tf\n",
        "import numpy as np\n",
        "import matplotlib.pyplot as plt\n",
        "\n",
        "from keras import layers\n",
        "from keras import regularizers\n",
        "from keras import callbacks\n",
        "from keras import initializers\n",
        "from keras.layers import BatchNormalization\n",
        "from keras.models import load_model"
      ]
    },
    {
      "cell_type": "code",
      "source": [
        "fashion_mnist = tf.keras.datasets.fashion_mnist\n",
        "\n",
        "(x_train, y_train), (x_test, y_test) = fashion_mnist.load_data()"
      ],
      "metadata": {
        "id": "mOpywsNAzfGB"
      },
      "execution_count": 203,
      "outputs": []
    },
    {
      "cell_type": "code",
      "source": [
        "# x_train = x_train.reshape(60000, 784).astype('float32') / 255\n",
        "# x_test = x_test.reshape(10000, 784).astype('float32') / 255\n",
        "x_train = x_train.astype('float32') / 255\n",
        "x_test = x_test.astype('float32') / 255\n",
        "\n",
        "y_train = y_train.astype('float32')\n",
        "y_test = y_test.astype('float32')\n",
        "\n",
        "# Перемешаем тренировочные данные\n",
        "# train_data = tf.data.Dataset.from_tensor_slices((x_train, y_train))\n",
        "# train_data = train_data.repeat().shuffle(5000).batch(batch_size).prefetch(1)"
      ],
      "metadata": {
        "id": "t2gucjsJ0KUi"
      },
      "execution_count": 204,
      "outputs": []
    },
    {
      "cell_type": "code",
      "source": [
        "x_val = x_train[-10000:]\n",
        "y_val = y_train[-10000:]\n",
        "x_train = x_train[:-10000]\n",
        "y_train = y_train[:-10000]"
      ],
      "metadata": {
        "id": "fLPNXab5dHwO"
      },
      "execution_count": 205,
      "outputs": []
    },
    {
      "cell_type": "code",
      "source": [],
      "metadata": {
        "id": "bU5TK5YdlnU5"
      },
      "execution_count": 205,
      "outputs": []
    },
    {
      "cell_type": "code",
      "source": [
        "w_init = initializers.glorot_normal()\n",
        "b_init = initializers.Zeros()"
      ],
      "metadata": {
        "id": "yL9QTEtBGy4N"
      },
      "execution_count": 206,
      "outputs": []
    },
    {
      "cell_type": "code",
      "source": [
        "model = tf.keras.Sequential()\n",
        "\n",
        "drop_out = 0.30\n",
        "lern_rat = 0.001\n",
        "neurons = 256\n",
        "\n",
        "model.add(layers.Flatten(input_shape=(28, 28)))\n",
        "model.add(layers.Dropout(drop_out))\n",
        "\n",
        "model.add(layers.Dense(neurons * 1, activation='relu', kernel_initializer=w_init, bias_initializer=b_init)) #, kernel_regularizer=regularizers.l2(lern_rat)\n",
        "model.add(BatchNormalization())\n",
        "model.add(layers.Dropout(drop_out))\n",
        "\n",
        "model.add(layers.Dense(neurons * 2, activation='tanh'))\n",
        "model.add(layers.Dropout(drop_out))\n",
        "\n",
        "model.add(layers.Dense(neurons * 2, activation='relu'))\n",
        "model.add(BatchNormalization())\n",
        "model.add(layers.Dropout(drop_out))\n",
        "\n",
        "# model.add(layers.Dense(neurons * 2, activation='relu'))\n",
        "# model.add(BatchNormalization())\n",
        "# model.add(layers.Dropout(drop_out * 2))\n",
        "\n",
        "model.add(layers.Dense(10, activation='softmax'))"
      ],
      "metadata": {
        "id": "atS39i4d0aqW"
      },
      "execution_count": 207,
      "outputs": []
    },
    {
      "cell_type": "code",
      "source": [],
      "metadata": {
        "id": "EzfnaqIZlfy8"
      },
      "execution_count": 207,
      "outputs": []
    },
    {
      "cell_type": "code",
      "source": [
        "model.compile(#optimizer='adam',\n",
        "              # optimizer='adamax',\n",
        "              optimizer='nadam',\n",
        "              # optimizer='rmsprop',\n",
        "              # optimizer='sgd',\n",
        "              # optimizer='adadelta',\n",
        "              # loss='binary_crossentropy',\n",
        "              loss=tf.keras.losses.SparseCategoricalCrossentropy(),\n",
        "              metrics=['sparse_categorical_accuracy']) # sparse_categorical_accuracy"
      ],
      "metadata": {
        "id": "hENVaAC7ilNY"
      },
      "execution_count": 208,
      "outputs": []
    },
    {
      "cell_type": "code",
      "source": [
        "x = np.random.random((1, 28, 28))\n",
        "a = model.predict(x)\n",
        "_ = plt.hist(np.transpose(a))"
      ],
      "metadata": {
        "id": "RFgZHNNFMa8p",
        "outputId": "d74280a4-3277-488b-d894-0bc9aa18c9d2",
        "colab": {
          "base_uri": "https://localhost:8080/",
          "height": 448
        }
      },
      "execution_count": 209,
      "outputs": [
        {
          "output_type": "stream",
          "name": "stdout",
          "text": [
            "1/1 [==============================] - 0s 127ms/step\n"
          ]
        },
        {
          "output_type": "display_data",
          "data": {
            "text/plain": [
              "<Figure size 640x480 with 1 Axes>"
            ],
            "image/png": "[encoded data removed]"
          },
          "metadata": {}
        }
      ]
    },
    {
      "cell_type": "code",
      "source": [
        "y_pred = model.predict(x_test)"
      ],
      "metadata": {
        "id": "UDP8OKKZ8oQa",
        "outputId": "1a712553-f595-485e-a5c4-09fc218996ca",
        "colab": {
          "base_uri": "https://localhost:8080/"
        }
      },
      "execution_count": 210,
      "outputs": [
        {
          "output_type": "stream",
          "name": "stdout",
          "text": [
            "313/313 [==============================] - 1s 3ms/step\n"
          ]
        }
      ]
    },
    {
      "cell_type": "code",
      "source": [
        "callback = callbacks.EarlyStopping(monitor='val_loss',\n",
        "                                   patience=50,\n",
        "                                   restore_best_weights=True,\n",
        "                                   )\n",
        "es = callbacks.EarlyStopping(monitor='val_loss', mode='min', verbose=1, patience=200)\n",
        "mc = callbacks.ModelCheckpoint('best_model.h5', monitor='sparse_categorical_accuracy', mode='max', verbose=0, save_best_only=True)\n"
      ],
      "metadata": {
        "id": "5ihU4exVlsjm"
      },
      "execution_count": 211,
      "outputs": []
    },
    {
      "cell_type": "code",
      "source": [
        "# model.fit(train_images, train_labels, epochs=20)\n",
        "history = model.fit(x_train, y_train,\n",
        "                    epochs=400,\n",
        "                    batch_size=128,\n",
        "                    # callbacks=[callback],\n",
        "                    callbacks=[mc],\n",
        "                    verbose=1, #многословие\n",
        "                    validation_data=(x_val, y_val))\n",
        "test_loss, test_acc = model.evaluate(x_test, y_test)\n",
        "print('\\nTest accuracy:', test_acc)"
      ],
      "metadata": {
        "id": "FH8HcMNm233I",
        "outputId": "ae9b575c-2846-40de-e8c6-f943cb3b462e",
        "colab": {
          "base_uri": "https://localhost:8080/"
        }
      },
      "execution_count": null,
      "outputs": [
        {
          "output_type": "stream",
          "name": "stdout",
          "text": [
            "Epoch 1/400\n",
            "391/391 [==============================] - 3s 7ms/step - loss: 0.6369 - sparse_categorical_accuracy: 0.7715 - val_loss: 0.4380 - val_sparse_categorical_accuracy: 0.8424\n",
            "Epoch 2/400\n",
            "391/391 [==============================] - 2s 6ms/step - loss: 0.5077 - sparse_categorical_accuracy: 0.8124 - val_loss: 0.4080 - val_sparse_categorical_accuracy: 0.8472\n",
            "Epoch 3/400\n",
            "391/391 [==============================] - 3s 7ms/step - loss: 0.4634 - sparse_categorical_accuracy: 0.8279 - val_loss: 0.3882 - val_sparse_categorical_accuracy: 0.8564\n",
            "Epoch 4/400\n",
            "391/391 [==============================] - 3s 7ms/step - loss: 0.4406 - sparse_categorical_accuracy: 0.8376 - val_loss: 0.3680 - val_sparse_categorical_accuracy: 0.8596\n",
            "Epoch 5/400\n",
            "391/391 [==============================] - 3s 7ms/step - loss: 0.4259 - sparse_categorical_accuracy: 0.8412 - val_loss: 0.3588 - val_sparse_categorical_accuracy: 0.8657\n",
            "Epoch 6/400\n",
            "391/391 [==============================] - 2s 6ms/step - loss: 0.4139 - sparse_categorical_accuracy: 0.8452 - val_loss: 0.3508 - val_sparse_categorical_accuracy: 0.8705\n",
            "Epoch 7/400\n",
            "391/391 [==============================] - 3s 7ms/step - loss: 0.4041 - sparse_categorical_accuracy: 0.8483 - val_loss: 0.3490 - val_sparse_categorical_accuracy: 0.8729\n",
            "Epoch 8/400\n",
            "391/391 [==============================] - 3s 8ms/step - loss: 0.3980 - sparse_categorical_accuracy: 0.8512 - val_loss: 0.3603 - val_sparse_categorical_accuracy: 0.8682\n",
            "Epoch 9/400\n",
            "391/391 [==============================] - 3s 7ms/step - loss: 0.3915 - sparse_categorical_accuracy: 0.8532 - val_loss: 0.3412 - val_sparse_categorical_accuracy: 0.8761\n",
            "Epoch 10/400\n",
            "391/391 [==============================] - 3s 7ms/step - loss: 0.3843 - sparse_categorical_accuracy: 0.8571 - val_loss: 0.3436 - val_sparse_categorical_accuracy: 0.8714\n",
            "Epoch 11/400\n",
            "391/391 [==============================] - 3s 7ms/step - loss: 0.3769 - sparse_categorical_accuracy: 0.8581 - val_loss: 0.3388 - val_sparse_categorical_accuracy: 0.8772\n",
            "Epoch 12/400\n",
            "391/391 [==============================] - 3s 7ms/step - loss: 0.3740 - sparse_categorical_accuracy: 0.8593 - val_loss: 0.3329 - val_sparse_categorical_accuracy: 0.8739\n",
            "Epoch 13/400\n",
            "391/391 [==============================] - 3s 8ms/step - loss: 0.3698 - sparse_categorical_accuracy: 0.8622 - val_loss: 0.3412 - val_sparse_categorical_accuracy: 0.8733\n",
            "Epoch 14/400\n",
            "391/391 [==============================] - 3s 7ms/step - loss: 0.3670 - sparse_categorical_accuracy: 0.8610 - val_loss: 0.3207 - val_sparse_categorical_accuracy: 0.8854\n",
            "Epoch 15/400\n",
            "391/391 [==============================] - 3s 6ms/step - loss: 0.3632 - sparse_categorical_accuracy: 0.8645 - val_loss: 0.3133 - val_sparse_categorical_accuracy: 0.8834\n",
            "Epoch 16/400\n",
            "391/391 [==============================] - 3s 7ms/step - loss: 0.3564 - sparse_categorical_accuracy: 0.8673 - val_loss: 0.3268 - val_sparse_categorical_accuracy: 0.8789\n",
            "Epoch 17/400\n",
            "391/391 [==============================] - 3s 7ms/step - loss: 0.3525 - sparse_categorical_accuracy: 0.8662 - val_loss: 0.3336 - val_sparse_categorical_accuracy: 0.8757\n",
            "Epoch 18/400\n",
            "391/391 [==============================] - 3s 7ms/step - loss: 0.3494 - sparse_categorical_accuracy: 0.8682 - val_loss: 0.3051 - val_sparse_categorical_accuracy: 0.8859\n",
            "Epoch 19/400\n",
            "391/391 [==============================] - 3s 6ms/step - loss: 0.3443 - sparse_categorical_accuracy: 0.8707 - val_loss: 0.3100 - val_sparse_categorical_accuracy: 0.8847\n",
            "Epoch 20/400\n",
            "391/391 [==============================] - 3s 7ms/step - loss: 0.3480 - sparse_categorical_accuracy: 0.8707 - val_loss: 0.3079 - val_sparse_categorical_accuracy: 0.8866\n",
            "Epoch 21/400\n",
            "391/391 [==============================] - 2s 6ms/step - loss: 0.3389 - sparse_categorical_accuracy: 0.8717 - val_loss: 0.3097 - val_sparse_categorical_accuracy: 0.8851\n",
            "Epoch 22/400\n",
            "391/391 [==============================] - 3s 7ms/step - loss: 0.3389 - sparse_categorical_accuracy: 0.8724 - val_loss: 0.3102 - val_sparse_categorical_accuracy: 0.8845\n",
            "Epoch 23/400\n",
            "391/391 [==============================] - 3s 8ms/step - loss: 0.3360 - sparse_categorical_accuracy: 0.8715 - val_loss: 0.3089 - val_sparse_categorical_accuracy: 0.8863\n",
            "Epoch 24/400\n",
            "391/391 [==============================] - 2s 6ms/step - loss: 0.3361 - sparse_categorical_accuracy: 0.8739 - val_loss: 0.2998 - val_sparse_categorical_accuracy: 0.8862\n",
            "Epoch 25/400\n",
            "391/391 [==============================] - 3s 7ms/step - loss: 0.3346 - sparse_categorical_accuracy: 0.8740 - val_loss: 0.3057 - val_sparse_categorical_accuracy: 0.8864\n",
            "Epoch 26/400\n",
            "391/391 [==============================] - 2s 6ms/step - loss: 0.3294 - sparse_categorical_accuracy: 0.8756 - val_loss: 0.2966 - val_sparse_categorical_accuracy: 0.8888\n",
            "Epoch 27/400\n",
            "391/391 [==============================] - 3s 8ms/step - loss: 0.3284 - sparse_categorical_accuracy: 0.8759 - val_loss: 0.3127 - val_sparse_categorical_accuracy: 0.8831\n",
            "Epoch 28/400\n",
            "391/391 [==============================] - 3s 8ms/step - loss: 0.3236 - sparse_categorical_accuracy: 0.8796 - val_loss: 0.3106 - val_sparse_categorical_accuracy: 0.8835\n",
            "Epoch 29/400\n",
            "391/391 [==============================] - 2s 6ms/step - loss: 0.3221 - sparse_categorical_accuracy: 0.8781 - val_loss: 0.3003 - val_sparse_categorical_accuracy: 0.8866\n",
            "Epoch 30/400\n",
            "391/391 [==============================] - 2s 6ms/step - loss: 0.3227 - sparse_categorical_accuracy: 0.8770 - val_loss: 0.2985 - val_sparse_categorical_accuracy: 0.8889\n",
            "Epoch 31/400\n",
            "391/391 [==============================] - 2s 6ms/step - loss: 0.3211 - sparse_categorical_accuracy: 0.8781 - val_loss: 0.3026 - val_sparse_categorical_accuracy: 0.8891\n",
            "Epoch 32/400\n",
            "391/391 [==============================] - 3s 7ms/step - loss: 0.3163 - sparse_categorical_accuracy: 0.8810 - val_loss: 0.2887 - val_sparse_categorical_accuracy: 0.8937\n",
            "Epoch 33/400\n",
            "391/391 [==============================] - 3s 7ms/step - loss: 0.3174 - sparse_categorical_accuracy: 0.8793 - val_loss: 0.3088 - val_sparse_categorical_accuracy: 0.8861\n",
            "Epoch 34/400\n",
            "391/391 [==============================] - 2s 6ms/step - loss: 0.3139 - sparse_categorical_accuracy: 0.8807 - val_loss: 0.2935 - val_sparse_categorical_accuracy: 0.8901\n",
            "Epoch 35/400\n",
            "391/391 [==============================] - 2s 6ms/step - loss: 0.3155 - sparse_categorical_accuracy: 0.8803 - val_loss: 0.2944 - val_sparse_categorical_accuracy: 0.8930\n",
            "Epoch 36/400\n",
            "391/391 [==============================] - 2s 6ms/step - loss: 0.3147 - sparse_categorical_accuracy: 0.8815 - val_loss: 0.2942 - val_sparse_categorical_accuracy: 0.8901\n",
            "Epoch 37/400\n",
            "391/391 [==============================] - 3s 7ms/step - loss: 0.3083 - sparse_categorical_accuracy: 0.8834 - val_loss: 0.3007 - val_sparse_categorical_accuracy: 0.8881\n",
            "Epoch 38/400\n",
            "391/391 [==============================] - 3s 7ms/step - loss: 0.3079 - sparse_categorical_accuracy: 0.8831 - val_loss: 0.2876 - val_sparse_categorical_accuracy: 0.8928\n",
            "Epoch 39/400\n",
            "391/391 [==============================] - 3s 7ms/step - loss: 0.3060 - sparse_categorical_accuracy: 0.8850 - val_loss: 0.2944 - val_sparse_categorical_accuracy: 0.8924\n",
            "Epoch 40/400\n",
            "391/391 [==============================] - 2s 6ms/step - loss: 0.3071 - sparse_categorical_accuracy: 0.8840 - val_loss: 0.2880 - val_sparse_categorical_accuracy: 0.8901\n",
            "Epoch 41/400\n",
            "391/391 [==============================] - 2s 6ms/step - loss: 0.3037 - sparse_categorical_accuracy: 0.8848 - val_loss: 0.2939 - val_sparse_categorical_accuracy: 0.8893\n",
            "Epoch 42/400\n",
            "391/391 [==============================] - 3s 7ms/step - loss: 0.3062 - sparse_categorical_accuracy: 0.8836 - val_loss: 0.2989 - val_sparse_categorical_accuracy: 0.8899\n",
            "Epoch 43/400\n",
            "391/391 [==============================] - 3s 7ms/step - loss: 0.3028 - sparse_categorical_accuracy: 0.8860 - val_loss: 0.2898 - val_sparse_categorical_accuracy: 0.8949\n",
            "Epoch 44/400\n",
            "391/391 [==============================] - 3s 6ms/step - loss: 0.3047 - sparse_categorical_accuracy: 0.8848 - val_loss: 0.2827 - val_sparse_categorical_accuracy: 0.8972\n",
            "Epoch 45/400\n",
            "391/391 [==============================] - 2s 6ms/step - loss: 0.2993 - sparse_categorical_accuracy: 0.8863 - val_loss: 0.2817 - val_sparse_categorical_accuracy: 0.8962\n",
            "Epoch 46/400\n",
            "391/391 [==============================] - 3s 7ms/step - loss: 0.2998 - sparse_categorical_accuracy: 0.8857 - val_loss: 0.2981 - val_sparse_categorical_accuracy: 0.8870\n",
            "Epoch 47/400\n",
            "391/391 [==============================] - 3s 8ms/step - loss: 0.2999 - sparse_categorical_accuracy: 0.8865 - val_loss: 0.2970 - val_sparse_categorical_accuracy: 0.8884\n",
            "Epoch 48/400\n",
            "391/391 [==============================] - 3s 7ms/step - loss: 0.2951 - sparse_categorical_accuracy: 0.8877 - val_loss: 0.2968 - val_sparse_categorical_accuracy: 0.8903\n",
            "Epoch 49/400\n",
            "391/391 [==============================] - 2s 6ms/step - loss: 0.2939 - sparse_categorical_accuracy: 0.8872 - val_loss: 0.2862 - val_sparse_categorical_accuracy: 0.8973\n",
            "Epoch 50/400\n",
            "391/391 [==============================] - 3s 6ms/step - loss: 0.2934 - sparse_categorical_accuracy: 0.8885 - val_loss: 0.2862 - val_sparse_categorical_accuracy: 0.8943\n",
            "Epoch 51/400\n",
            "391/391 [==============================] - 3s 7ms/step - loss: 0.2938 - sparse_categorical_accuracy: 0.8904 - val_loss: 0.2863 - val_sparse_categorical_accuracy: 0.8942\n",
            "Epoch 52/400\n",
            "391/391 [==============================] - 3s 8ms/step - loss: 0.2933 - sparse_categorical_accuracy: 0.8887 - val_loss: 0.2895 - val_sparse_categorical_accuracy: 0.8927\n",
            "Epoch 53/400\n",
            "391/391 [==============================] - 2s 6ms/step - loss: 0.2950 - sparse_categorical_accuracy: 0.8878 - val_loss: 0.2818 - val_sparse_categorical_accuracy: 0.8948\n",
            "Epoch 54/400\n",
            "391/391 [==============================] - 2s 6ms/step - loss: 0.2932 - sparse_categorical_accuracy: 0.8891 - val_loss: 0.2843 - val_sparse_categorical_accuracy: 0.8966\n",
            "Epoch 55/400\n",
            "391/391 [==============================] - 2s 6ms/step - loss: 0.2885 - sparse_categorical_accuracy: 0.8905 - val_loss: 0.2820 - val_sparse_categorical_accuracy: 0.8951\n",
            "Epoch 56/400\n",
            "391/391 [==============================] - 3s 7ms/step - loss: 0.2883 - sparse_categorical_accuracy: 0.8905 - val_loss: 0.2790 - val_sparse_categorical_accuracy: 0.8968\n",
            "Epoch 57/400\n",
            "391/391 [==============================] - 3s 8ms/step - loss: 0.2884 - sparse_categorical_accuracy: 0.8912 - val_loss: 0.2832 - val_sparse_categorical_accuracy: 0.8928\n",
            "Epoch 58/400\n",
            "391/391 [==============================] - 3s 7ms/step - loss: 0.2885 - sparse_categorical_accuracy: 0.8901 - val_loss: 0.2833 - val_sparse_categorical_accuracy: 0.8999\n",
            "Epoch 59/400\n",
            "391/391 [==============================] - 3s 7ms/step - loss: 0.2841 - sparse_categorical_accuracy: 0.8926 - val_loss: 0.2774 - val_sparse_categorical_accuracy: 0.8987\n",
            "Epoch 60/400\n",
            "391/391 [==============================] - 3s 7ms/step - loss: 0.2872 - sparse_categorical_accuracy: 0.8899 - val_loss: 0.2791 - val_sparse_categorical_accuracy: 0.8959\n",
            "Epoch 61/400\n",
            "391/391 [==============================] - 3s 7ms/step - loss: 0.2882 - sparse_categorical_accuracy: 0.8899 - val_loss: 0.2794 - val_sparse_categorical_accuracy: 0.8947\n",
            "Epoch 62/400\n",
            "391/391 [==============================] - 3s 8ms/step - loss: 0.2839 - sparse_categorical_accuracy: 0.8921 - val_loss: 0.2790 - val_sparse_categorical_accuracy: 0.8977\n",
            "Epoch 63/400\n",
            "391/391 [==============================] - 3s 7ms/step - loss: 0.2853 - sparse_categorical_accuracy: 0.8907 - val_loss: 0.2742 - val_sparse_categorical_accuracy: 0.8989\n",
            "Epoch 64/400\n",
            "391/391 [==============================] - 2s 6ms/step - loss: 0.2836 - sparse_categorical_accuracy: 0.8919 - val_loss: 0.2797 - val_sparse_categorical_accuracy: 0.8972\n",
            "Epoch 65/400\n",
            "391/391 [==============================] - 3s 7ms/step - loss: 0.2818 - sparse_categorical_accuracy: 0.8924 - val_loss: 0.2875 - val_sparse_categorical_accuracy: 0.8964\n",
            "Epoch 66/400\n",
            "391/391 [==============================] - 3s 7ms/step - loss: 0.2843 - sparse_categorical_accuracy: 0.8913 - val_loss: 0.2817 - val_sparse_categorical_accuracy: 0.8973\n",
            "Epoch 67/400\n",
            "391/391 [==============================] - 3s 8ms/step - loss: 0.2816 - sparse_categorical_accuracy: 0.8934 - val_loss: 0.2851 - val_sparse_categorical_accuracy: 0.8958\n",
            "Epoch 68/400\n",
            "391/391 [==============================] - 3s 7ms/step - loss: 0.2777 - sparse_categorical_accuracy: 0.8931 - val_loss: 0.2818 - val_sparse_categorical_accuracy: 0.8987\n",
            "Epoch 69/400\n",
            "391/391 [==============================] - 3s 7ms/step - loss: 0.2793 - sparse_categorical_accuracy: 0.8941 - val_loss: 0.2793 - val_sparse_categorical_accuracy: 0.8952\n",
            "Epoch 70/400\n",
            "391/391 [==============================] - 3s 7ms/step - loss: 0.2800 - sparse_categorical_accuracy: 0.8927 - val_loss: 0.2755 - val_sparse_categorical_accuracy: 0.8998\n",
            "Epoch 71/400\n",
            "391/391 [==============================] - 3s 7ms/step - loss: 0.2806 - sparse_categorical_accuracy: 0.8939 - val_loss: 0.2759 - val_sparse_categorical_accuracy: 0.8969\n",
            "Epoch 72/400\n",
            "391/391 [==============================] - 3s 7ms/step - loss: 0.2754 - sparse_categorical_accuracy: 0.8954 - val_loss: 0.2784 - val_sparse_categorical_accuracy: 0.8989\n",
            "Epoch 73/400\n",
            "391/391 [==============================] - 3s 7ms/step - loss: 0.2754 - sparse_categorical_accuracy: 0.8952 - val_loss: 0.2752 - val_sparse_categorical_accuracy: 0.9012\n",
            "Epoch 74/400\n",
            "391/391 [==============================] - 3s 7ms/step - loss: 0.2746 - sparse_categorical_accuracy: 0.8953 - val_loss: 0.2759 - val_sparse_categorical_accuracy: 0.8991\n",
            "Epoch 75/400\n",
            "391/391 [==============================] - 3s 7ms/step - loss: 0.2731 - sparse_categorical_accuracy: 0.8962 - val_loss: 0.2813 - val_sparse_categorical_accuracy: 0.8938\n",
            "Epoch 76/400\n",
            "391/391 [==============================] - 3s 8ms/step - loss: 0.2741 - sparse_categorical_accuracy: 0.8948 - val_loss: 0.2794 - val_sparse_categorical_accuracy: 0.8975\n",
            "Epoch 77/400\n",
            "391/391 [==============================] - 3s 7ms/step - loss: 0.2758 - sparse_categorical_accuracy: 0.8963 - val_loss: 0.2865 - val_sparse_categorical_accuracy: 0.8951\n",
            "Epoch 78/400\n",
            "391/391 [==============================] - 2s 6ms/step - loss: 0.2721 - sparse_categorical_accuracy: 0.8960 - val_loss: 0.2822 - val_sparse_categorical_accuracy: 0.8970\n",
            "Epoch 79/400\n",
            "391/391 [==============================] - 2s 6ms/step - loss: 0.2705 - sparse_categorical_accuracy: 0.8962 - val_loss: 0.2807 - val_sparse_categorical_accuracy: 0.8950\n",
            "Epoch 80/400\n",
            "391/391 [==============================] - 3s 6ms/step - loss: 0.2723 - sparse_categorical_accuracy: 0.8965 - val_loss: 0.2793 - val_sparse_categorical_accuracy: 0.8947\n",
            "Epoch 81/400\n",
            "391/391 [==============================] - 3s 8ms/step - loss: 0.2736 - sparse_categorical_accuracy: 0.8969 - val_loss: 0.2761 - val_sparse_categorical_accuracy: 0.8962\n",
            "Epoch 82/400\n",
            "391/391 [==============================] - 2s 6ms/step - loss: 0.2716 - sparse_categorical_accuracy: 0.8969 - val_loss: 0.2755 - val_sparse_categorical_accuracy: 0.8968\n",
            "Epoch 83/400\n",
            "391/391 [==============================] - 3s 7ms/step - loss: 0.2705 - sparse_categorical_accuracy: 0.8975 - val_loss: 0.2772 - val_sparse_categorical_accuracy: 0.8986\n",
            "Epoch 84/400\n",
            "391/391 [==============================] - 3s 7ms/step - loss: 0.2719 - sparse_categorical_accuracy: 0.8962 - val_loss: 0.2748 - val_sparse_categorical_accuracy: 0.8982\n",
            "Epoch 85/400\n",
            "391/391 [==============================] - 3s 7ms/step - loss: 0.2697 - sparse_categorical_accuracy: 0.8972 - val_loss: 0.2730 - val_sparse_categorical_accuracy: 0.8972\n",
            "Epoch 86/400\n",
            "391/391 [==============================] - 3s 7ms/step - loss: 0.2722 - sparse_categorical_accuracy: 0.8949 - val_loss: 0.2827 - val_sparse_categorical_accuracy: 0.8939\n",
            "Epoch 87/400\n",
            "391/391 [==============================] - 3s 6ms/step - loss: 0.2694 - sparse_categorical_accuracy: 0.8965 - val_loss: 0.2759 - val_sparse_categorical_accuracy: 0.9004\n",
            "Epoch 88/400\n",
            "391/391 [==============================] - 3s 7ms/step - loss: 0.2653 - sparse_categorical_accuracy: 0.8990 - val_loss: 0.2788 - val_sparse_categorical_accuracy: 0.8952\n",
            "Epoch 89/400\n",
            "391/391 [==============================] - 3s 7ms/step - loss: 0.2688 - sparse_categorical_accuracy: 0.8969 - val_loss: 0.2688 - val_sparse_categorical_accuracy: 0.8995\n",
            "Epoch 90/400\n",
            "391/391 [==============================] - 3s 7ms/step - loss: 0.2689 - sparse_categorical_accuracy: 0.8974 - val_loss: 0.2705 - val_sparse_categorical_accuracy: 0.8990\n",
            "Epoch 91/400\n",
            "391/391 [==============================] - 3s 8ms/step - loss: 0.2708 - sparse_categorical_accuracy: 0.8955 - val_loss: 0.2744 - val_sparse_categorical_accuracy: 0.8975\n",
            "Epoch 92/400\n",
            "391/391 [==============================] - 2s 6ms/step - loss: 0.2689 - sparse_categorical_accuracy: 0.8974 - val_loss: 0.2702 - val_sparse_categorical_accuracy: 0.8997\n",
            "Epoch 93/400\n",
            "391/391 [==============================] - 3s 7ms/step - loss: 0.2660 - sparse_categorical_accuracy: 0.8985 - val_loss: 0.2747 - val_sparse_categorical_accuracy: 0.8972\n",
            "Epoch 94/400\n",
            "391/391 [==============================] - 2s 6ms/step - loss: 0.2664 - sparse_categorical_accuracy: 0.8972 - val_loss: 0.2703 - val_sparse_categorical_accuracy: 0.8982\n",
            "Epoch 95/400\n",
            "391/391 [==============================] - 3s 7ms/step - loss: 0.2641 - sparse_categorical_accuracy: 0.8985 - val_loss: 0.2770 - val_sparse_categorical_accuracy: 0.8986\n",
            "Epoch 96/400\n",
            "391/391 [==============================] - 3s 8ms/step - loss: 0.2630 - sparse_categorical_accuracy: 0.8995 - val_loss: 0.2794 - val_sparse_categorical_accuracy: 0.8976\n",
            "Epoch 97/400\n",
            "391/391 [==============================] - 3s 7ms/step - loss: 0.2640 - sparse_categorical_accuracy: 0.8981 - val_loss: 0.2751 - val_sparse_categorical_accuracy: 0.8974\n",
            "Epoch 98/400\n",
            "391/391 [==============================] - 2s 6ms/step - loss: 0.2665 - sparse_categorical_accuracy: 0.8974 - val_loss: 0.2885 - val_sparse_categorical_accuracy: 0.8917\n",
            "Epoch 99/400\n",
            "391/391 [==============================] - 2s 6ms/step - loss: 0.2672 - sparse_categorical_accuracy: 0.8983 - val_loss: 0.2698 - val_sparse_categorical_accuracy: 0.9000\n",
            "Epoch 100/400\n",
            "391/391 [==============================] - 3s 7ms/step - loss: 0.2620 - sparse_categorical_accuracy: 0.9008 - val_loss: 0.2741 - val_sparse_categorical_accuracy: 0.8972\n",
            "Epoch 101/400\n",
            "391/391 [==============================] - 3s 7ms/step - loss: 0.2652 - sparse_categorical_accuracy: 0.8988 - val_loss: 0.2785 - val_sparse_categorical_accuracy: 0.8997\n",
            "Epoch 102/400\n",
            "391/391 [==============================] - 3s 7ms/step - loss: 0.2613 - sparse_categorical_accuracy: 0.9005 - val_loss: 0.2757 - val_sparse_categorical_accuracy: 0.8976\n",
            "Epoch 103/400\n",
            "391/391 [==============================] - 3s 7ms/step - loss: 0.2611 - sparse_categorical_accuracy: 0.9024 - val_loss: 0.2757 - val_sparse_categorical_accuracy: 0.8962\n",
            "Epoch 104/400\n",
            "391/391 [==============================] - 3s 7ms/step - loss: 0.2582 - sparse_categorical_accuracy: 0.9008 - val_loss: 0.2749 - val_sparse_categorical_accuracy: 0.8998\n",
            "Epoch 105/400\n",
            "391/391 [==============================] - 3s 8ms/step - loss: 0.2598 - sparse_categorical_accuracy: 0.8999 - val_loss: 0.2831 - val_sparse_categorical_accuracy: 0.8950\n",
            "Epoch 106/400\n",
            "391/391 [==============================] - 3s 7ms/step - loss: 0.2604 - sparse_categorical_accuracy: 0.9005 - val_loss: 0.2895 - val_sparse_categorical_accuracy: 0.8943\n",
            "Epoch 107/400\n",
            "391/391 [==============================] - ETA: 0s - loss: 0.2609 - sparse_categorical_accuracy: 0.8998"
          ]
        }
      ]
    },
    {
      "cell_type": "code",
      "source": [
        "print('\\nhistory dict:', list(history.history.keys()))"
      ],
      "metadata": {
        "id": "CxRE-B_Q6Sii"
      },
      "execution_count": null,
      "outputs": []
    },
    {
      "cell_type": "code",
      "source": [
        "result = model.evaluate(x_test, y_test)\n",
        "print(result)"
      ],
      "metadata": {
        "id": "YXpwRRTvTBNg"
      },
      "execution_count": null,
      "outputs": []
    },
    {
      "cell_type": "code",
      "source": [
        "saved_model = load_model('best_model.h5')\n",
        "result = saved_model.evaluate(x_test, y_test)\n",
        "print(result)"
      ],
      "metadata": {
        "id": "dpaZAW0vp1AZ"
      },
      "execution_count": null,
      "outputs": []
    },
    {
      "cell_type": "code",
      "source": [
        "# from keras.models import load_model\n",
        "# saved_model = load_model('best_model.h5')\n",
        "# # _, train_acc = saved_model.evaluate(x_train, y_train, verbose=0)\n",
        "# _, test_acc = saved_model.evaluate(x_test, y_test, verbose=0)\n",
        "# print('Test: %.3f' % (test_acc))"
      ],
      "metadata": {
        "id": "DR_MS9DABo_K"
      },
      "execution_count": null,
      "outputs": []
    },
    {
      "cell_type": "code",
      "source": [
        "history_dict = history.history\n",
        "loss_values = history_dict['loss']\n",
        "val_loss_values = history_dict['val_loss']\n",
        "\n",
        "epochs = range(1, len(history_dict['loss']) + 1)\n",
        "\n",
        "plt.figure(figsize=(10, 5))\n",
        "plt.plot(epochs, loss_values, 'bo', label='Training loss')\n",
        "plt.plot(epochs, val_loss_values, 'r', label='Validation loss')\n",
        "plt.title('Training and validation loss')\n",
        "plt.xlabel('Epochs')\n",
        "plt.ylabel('Loss')\n",
        "# plt.legend()\n",
        "plt.grid(True)\n",
        "plt.show()\n",
        "1\n",
        "plt.clf()\n",
        "plt.figure(figsize=(10, 5))\n",
        "val_acc_values = history_dict['sparse_categorical_accuracy']\n",
        "plt.plot(epochs, history_dict['sparse_categorical_accuracy'], 'bo', label='Training acc')\n",
        "plt.plot(epochs, history_dict['val_sparse_categorical_accuracy'], 'r', label='Validation acc')\n",
        "plt.ylim (0.88, 0.94)\n",
        "plt.title('Training and validation accuracy')\n",
        "plt.xlabel('Epochs')\n",
        "plt.ylabel('Accuracy')\n",
        "plt.legend()\n",
        "plt.grid(True)"
      ],
      "metadata": {
        "id": "2Ll_5sGlXKMH"
      },
      "execution_count": null,
      "outputs": []
    },
    {
      "cell_type": "code",
      "source": [
        "probability_model = tf.keras.Sequential([model,\n",
        "                                         tf.keras.layers.Softmax()])"
      ],
      "metadata": {
        "id": "VzOdKAT_uV-f"
      },
      "execution_count": null,
      "outputs": []
    },
    {
      "cell_type": "code",
      "source": [
        "predictions = probability_model.predict(x_test)"
      ],
      "metadata": {
        "id": "f4is3NFruYom"
      },
      "execution_count": null,
      "outputs": []
    },
    {
      "cell_type": "code",
      "source": [
        "predictions[0]"
      ],
      "metadata": {
        "id": "82cigvlZudz_"
      },
      "execution_count": null,
      "outputs": []
    },
    {
      "cell_type": "code",
      "source": [
        "model.summary()"
      ],
      "metadata": {
        "id": "6RsQPHyYuNGe"
      },
      "execution_count": null,
      "outputs": []
    }
  ]
}