{
  "nbformat": 4,
  "nbformat_minor": 0,
  "metadata": {
    "colab": {
      "provenance": [],
      "gpuType": "T4",
      "authorship_tag": "ABX9TyN2cp2tArWratRc58AT0NSE",
      "include_colab_link": true
    },
    "kernelspec": {
      "name": "python3",
      "display_name": "Python 3"
    },
    "language_info": {
      "name": "python"
    },
    "accelerator": "GPU"
  },
  "cells": [
    {
      "cell_type": "markdown",
      "metadata": {
        "id": "view-in-github",
        "colab_type": "text"
      },
      "source": [
        "<a href=\"https://colab.research.google.com/github/PavelStelmakhV/hw310-keras-fasion-mnist/blob/main/keras_fasion_mnist_hw.ipynb\" target=\"_parent\"><img src=\"https://colab.research.google.com/assets/colab-badge.svg\" alt=\"Open In Colab\"/></a>"
      ]
    },
    {
      "cell_type": "code",
      "execution_count": 39,
      "metadata": {
        "id": "vv7w0bgAVQPO"
      },
      "outputs": [],
      "source": [
        "import tensorflow as tf\n",
        "import numpy as np\n",
        "import matplotlib.pyplot as plt\n",
        "\n",
        "from keras import layers\n",
        "from keras import regularizers\n",
        "from keras import callbacks\n",
        "from keras import initializers\n",
        "from keras.layers import BatchNormalization"
      ]
    },
    {
      "cell_type": "code",
      "source": [
        "fashion_mnist = tf.keras.datasets.fashion_mnist\n",
        "\n",
        "(x_train, y_train), (x_test, y_test) = fashion_mnist.load_data()"
      ],
      "metadata": {
        "id": "mOpywsNAzfGB"
      },
      "execution_count": 40,
      "outputs": []
    },
    {
      "cell_type": "code",
      "source": [
        "# x_train = x_train.reshape(60000, 784).astype('float32') / 255\n",
        "# x_test = x_test.reshape(10000, 784).astype('float32') / 255\n",
        "x_train = x_train.astype('float32') / 255\n",
        "x_test = x_test.astype('float32') / 255\n",
        "\n",
        "y_train = y_train.astype('float32')\n",
        "y_test = y_test.astype('float32')\n",
        "\n",
        "# Перемешаем тренировочные данные\n",
        "# train_data = tf.data.Dataset.from_tensor_slices((x_train, y_train))\n",
        "# train_data = train_data.repeat().shuffle(5000).batch(batch_size).prefetch(1)"
      ],
      "metadata": {
        "id": "t2gucjsJ0KUi"
      },
      "execution_count": 41,
      "outputs": []
    },
    {
      "cell_type": "code",
      "source": [
        "x_val = x_train[-10000:]\n",
        "y_val = y_train[-10000:]\n",
        "x_train = x_train[:-10000]\n",
        "y_train = y_train[:-10000]"
      ],
      "metadata": {
        "id": "fLPNXab5dHwO"
      },
      "execution_count": 42,
      "outputs": []
    },
    {
      "cell_type": "code",
      "source": [],
      "metadata": {
        "id": "bU5TK5YdlnU5"
      },
      "execution_count": 42,
      "outputs": []
    },
    {
      "cell_type": "code",
      "source": [
        "w_init = initializers.glorot_normal()\n",
        "b_init = initializers.Zeros()"
      ],
      "metadata": {
        "id": "yL9QTEtBGy4N"
      },
      "execution_count": 43,
      "outputs": []
    },
    {
      "cell_type": "code",
      "source": [
        "model = tf.keras.Sequential()\n",
        "\n",
        "drop_out = 0.20\n",
        "lern_rat = 0.001\n",
        "neurons = 256\n",
        "\n",
        "model.add(layers.Flatten(input_shape=(28, 28)))\n",
        "model.add(layers.Dropout(drop_out))\n",
        "\n",
        "model.add(layers.Dense(neurons * 1, activation='relu', kernel_initializer=w_init, bias_initializer=b_init)) #, kernel_regularizer=regularizers.l2(lern_rat)\n",
        "model.add(BatchNormalization())\n",
        "model.add(layers.Dropout(drop_out))\n",
        "model.add(layers.Dense(neurons * 2, activation='tanh'))\n",
        "model.add(BatchNormalization())\n",
        "model.add(layers.Dropout(drop_out))\n",
        "\n",
        "# model.add(layers.Dense(neurons * 2, activation='relu'))\n",
        "# model.add(BatchNormalization())\n",
        "# model.add(layers.Dropout(drop_out))\n",
        "\n",
        "# model.add(layers.Dense(neurons * 2, activation='tanh'))\n",
        "# model.add(BatchNormalization())\n",
        "# model.add(layers.Dropout(drop_out * 2))\n",
        "\n",
        "model.add(layers.Dense(10, activation='softmax'))"
      ],
      "metadata": {
        "id": "atS39i4d0aqW"
      },
      "execution_count": 44,
      "outputs": []
    },
    {
      "cell_type": "code",
      "source": [],
      "metadata": {
        "id": "EzfnaqIZlfy8"
      },
      "execution_count": 44,
      "outputs": []
    },
    {
      "cell_type": "code",
      "source": [
        "model.compile(#optimizer='adam',\n",
        "              # optimizer='adamax',\n",
        "              optimizer='nadam',\n",
        "              # optimizer='rmsprop',\n",
        "              # optimizer='sgd',\n",
        "              # optimizer='adadelta',\n",
        "              # loss='binary_crossentropy',\n",
        "              loss=tf.keras.losses.SparseCategoricalCrossentropy(),\n",
        "              metrics=['sparse_categorical_accuracy']) # sparse_categorical_accuracy"
      ],
      "metadata": {
        "id": "hENVaAC7ilNY"
      },
      "execution_count": 45,
      "outputs": []
    },
    {
      "cell_type": "code",
      "source": [
        "x = np.random.random((1, 28, 28))\n",
        "a = model.predict(x)\n",
        "_ = plt.hist(np.transpose(a))"
      ],
      "metadata": {
        "id": "RFgZHNNFMa8p",
        "outputId": "5dcc9bdb-75c6-40ec-f6bb-437ad5734f49",
        "colab": {
          "base_uri": "https://localhost:8080/",
          "height": 448
        }
      },
      "execution_count": 46,
      "outputs": [
        {
          "output_type": "stream",
          "name": "stdout",
          "text": [
            "1/1 [==============================] - 0s 95ms/step\n"
          ]
        },
        {
          "output_type": "display_data",
          "data": {
            "text/plain": [
              "<Figure size 640x480 with 1 Axes>"
            ],
            "image/png": "[encoded data removed]"
          },
          "metadata": {}
        }
      ]
    },
    {
      "cell_type": "code",
      "source": [
        "y_pred = model.predict(x_test)"
      ],
      "metadata": {
        "id": "UDP8OKKZ8oQa",
        "outputId": "6c01d446-53d0-4905-ba78-3f9a8037a391",
        "colab": {
          "base_uri": "https://localhost:8080/"
        }
      },
      "execution_count": 47,
      "outputs": [
        {
          "output_type": "stream",
          "name": "stdout",
          "text": [
            "313/313 [==============================] - 1s 3ms/step\n"
          ]
        }
      ]
    },
    {
      "cell_type": "code",
      "source": [
        "callback = callbacks.EarlyStopping(monitor='val_loss',\n",
        "                                   patience=50,\n",
        "                                   restore_best_weights=True,\n",
        "                                   )\n",
        "es = callbacks.EarlyStopping(monitor='val_loss', mode='min', verbose=1, patience=200)\n",
        "mc = callbacks.ModelCheckpoint('best_model.h5', monitor='val_accuracy', mode='max', verbose=1, save_best_only=True)\n"
      ],
      "metadata": {
        "id": "5ihU4exVlsjm"
      },
      "execution_count": 48,
      "outputs": []
    },
    {
      "cell_type": "code",
      "source": [
        "# model.fit(train_images, train_labels, epochs=20)\n",
        "history = model.fit(x_train, y_train,\n",
        "                    epochs=300,\n",
        "                    batch_size=64 ,\n",
        "                    # callbacks=[callback],\n",
        "                    # callbacks=[es, mc],\n",
        "                    verbose=1, #многословие\n",
        "                    validation_data=(x_val, y_val))\n",
        "test_loss, test_acc = model.evaluate(x_test, y_test)\n",
        "print('\\nTest accuracy:', test_acc)"
      ],
      "metadata": {
        "id": "FH8HcMNm233I",
        "outputId": "90241525-1164-4918-9563-a8a653c3ec5b",
        "colab": {
          "base_uri": "https://localhost:8080/"
        }
      },
      "execution_count": 49,
      "outputs": [
        {
          "output_type": "stream",
          "name": "stdout",
          "text": [
            "Epoch 1/300\n",
            "782/782 [==============================] - 13s 14ms/step - loss: 0.6185 - sparse_categorical_accuracy: 0.7815 - val_loss: 0.5038 - val_sparse_categorical_accuracy: 0.8152\n",
            "Epoch 2/300\n",
            "782/782 [==============================] - 11s 14ms/step - loss: 0.4736 - sparse_categorical_accuracy: 0.8260 - val_loss: 0.4522 - val_sparse_categorical_accuracy: 0.8367\n",
            "Epoch 3/300\n",
            "782/782 [==============================] - 10s 12ms/step - loss: 0.4350 - sparse_categorical_accuracy: 0.8396 - val_loss: 0.4020 - val_sparse_categorical_accuracy: 0.8486\n",
            "Epoch 4/300\n",
            "782/782 [==============================] - 10s 13ms/step - loss: 0.4167 - sparse_categorical_accuracy: 0.8462 - val_loss: 0.3605 - val_sparse_categorical_accuracy: 0.8685\n",
            "Epoch 5/300\n",
            "782/782 [==============================] - 10s 13ms/step - loss: 0.3993 - sparse_categorical_accuracy: 0.8538 - val_loss: 0.3834 - val_sparse_categorical_accuracy: 0.8607\n",
            "Epoch 6/300\n",
            "782/782 [==============================] - 10s 13ms/step - loss: 0.3910 - sparse_categorical_accuracy: 0.8544 - val_loss: 0.3380 - val_sparse_categorical_accuracy: 0.8752\n",
            "Epoch 7/300\n",
            "782/782 [==============================] - 9s 12ms/step - loss: 0.3798 - sparse_categorical_accuracy: 0.8580 - val_loss: 0.3580 - val_sparse_categorical_accuracy: 0.8697\n",
            "Epoch 8/300\n",
            "782/782 [==============================] - 10s 13ms/step - loss: 0.3651 - sparse_categorical_accuracy: 0.8637 - val_loss: 0.3436 - val_sparse_categorical_accuracy: 0.8716\n",
            "Epoch 9/300\n",
            "782/782 [==============================] - 10s 13ms/step - loss: 0.3626 - sparse_categorical_accuracy: 0.8654 - val_loss: 0.3322 - val_sparse_categorical_accuracy: 0.8749\n",
            "Epoch 10/300\n",
            "782/782 [==============================] - 9s 11ms/step - loss: 0.3543 - sparse_categorical_accuracy: 0.8688 - val_loss: 0.3216 - val_sparse_categorical_accuracy: 0.8829\n",
            "Epoch 11/300\n",
            "782/782 [==============================] - 10s 13ms/step - loss: 0.3493 - sparse_categorical_accuracy: 0.8692 - val_loss: 0.3283 - val_sparse_categorical_accuracy: 0.8790\n",
            "Epoch 12/300\n",
            "782/782 [==============================] - 10s 13ms/step - loss: 0.3419 - sparse_categorical_accuracy: 0.8710 - val_loss: 0.3142 - val_sparse_categorical_accuracy: 0.8841\n",
            "Epoch 13/300\n",
            "782/782 [==============================] - 9s 12ms/step - loss: 0.3383 - sparse_categorical_accuracy: 0.8736 - val_loss: 0.3135 - val_sparse_categorical_accuracy: 0.8821\n",
            "Epoch 14/300\n",
            "782/782 [==============================] - 10s 12ms/step - loss: 0.3338 - sparse_categorical_accuracy: 0.8750 - val_loss: 0.3117 - val_sparse_categorical_accuracy: 0.8844\n",
            "Epoch 15/300\n",
            "782/782 [==============================] - 10s 13ms/step - loss: 0.3321 - sparse_categorical_accuracy: 0.8751 - val_loss: 0.3287 - val_sparse_categorical_accuracy: 0.8756\n",
            "Epoch 16/300\n",
            "782/782 [==============================] - 10s 13ms/step - loss: 0.3259 - sparse_categorical_accuracy: 0.8778 - val_loss: 0.3226 - val_sparse_categorical_accuracy: 0.8827\n",
            "Epoch 17/300\n",
            "782/782 [==============================] - 9s 11ms/step - loss: 0.3244 - sparse_categorical_accuracy: 0.8778 - val_loss: 0.3067 - val_sparse_categorical_accuracy: 0.8843\n",
            "Epoch 18/300\n",
            "782/782 [==============================] - 10s 13ms/step - loss: 0.3227 - sparse_categorical_accuracy: 0.8777 - val_loss: 0.3080 - val_sparse_categorical_accuracy: 0.8868\n",
            "Epoch 19/300\n",
            "782/782 [==============================] - 10s 13ms/step - loss: 0.3173 - sparse_categorical_accuracy: 0.8800 - val_loss: 0.3143 - val_sparse_categorical_accuracy: 0.8816\n",
            "Epoch 20/300\n",
            "782/782 [==============================] - 10s 12ms/step - loss: 0.3136 - sparse_categorical_accuracy: 0.8798 - val_loss: 0.3088 - val_sparse_categorical_accuracy: 0.8839\n",
            "Epoch 21/300\n",
            "782/782 [==============================] - 9s 12ms/step - loss: 0.3130 - sparse_categorical_accuracy: 0.8821 - val_loss: 0.3278 - val_sparse_categorical_accuracy: 0.8805\n",
            "Epoch 22/300\n",
            "782/782 [==============================] - 10s 13ms/step - loss: 0.3077 - sparse_categorical_accuracy: 0.8843 - val_loss: 0.2961 - val_sparse_categorical_accuracy: 0.8943\n",
            "Epoch 23/300\n",
            "782/782 [==============================] - 10s 13ms/step - loss: 0.3041 - sparse_categorical_accuracy: 0.8848 - val_loss: 0.3073 - val_sparse_categorical_accuracy: 0.8874\n",
            "Epoch 24/300\n",
            "782/782 [==============================] - 9s 11ms/step - loss: 0.3008 - sparse_categorical_accuracy: 0.8858 - val_loss: 0.2913 - val_sparse_categorical_accuracy: 0.8926\n",
            "Epoch 25/300\n",
            "782/782 [==============================] - 10s 13ms/step - loss: 0.3005 - sparse_categorical_accuracy: 0.8869 - val_loss: 0.2868 - val_sparse_categorical_accuracy: 0.8949\n",
            "Epoch 26/300\n",
            "782/782 [==============================] - 10s 13ms/step - loss: 0.2951 - sparse_categorical_accuracy: 0.8868 - val_loss: 0.2980 - val_sparse_categorical_accuracy: 0.8896\n",
            "Epoch 27/300\n",
            "782/782 [==============================] - 10s 13ms/step - loss: 0.2967 - sparse_categorical_accuracy: 0.8868 - val_loss: 0.2933 - val_sparse_categorical_accuracy: 0.8905\n",
            "Epoch 28/300\n",
            "782/782 [==============================] - 9s 12ms/step - loss: 0.2967 - sparse_categorical_accuracy: 0.8884 - val_loss: 0.2869 - val_sparse_categorical_accuracy: 0.8928\n",
            "Epoch 29/300\n",
            "782/782 [==============================] - 10s 13ms/step - loss: 0.2936 - sparse_categorical_accuracy: 0.8893 - val_loss: 0.2891 - val_sparse_categorical_accuracy: 0.8920\n",
            "Epoch 30/300\n",
            "782/782 [==============================] - 10s 13ms/step - loss: 0.2922 - sparse_categorical_accuracy: 0.8886 - val_loss: 0.2947 - val_sparse_categorical_accuracy: 0.8903\n",
            "Epoch 31/300\n",
            "782/782 [==============================] - 9s 11ms/step - loss: 0.2881 - sparse_categorical_accuracy: 0.8907 - val_loss: 0.2921 - val_sparse_categorical_accuracy: 0.8928\n",
            "Epoch 32/300\n",
            "782/782 [==============================] - 10s 13ms/step - loss: 0.2872 - sparse_categorical_accuracy: 0.8929 - val_loss: 0.2871 - val_sparse_categorical_accuracy: 0.8932\n",
            "Epoch 33/300\n",
            "782/782 [==============================] - 10s 13ms/step - loss: 0.2837 - sparse_categorical_accuracy: 0.8930 - val_loss: 0.2932 - val_sparse_categorical_accuracy: 0.8944\n",
            "Epoch 34/300\n",
            "782/782 [==============================] - 10s 13ms/step - loss: 0.2835 - sparse_categorical_accuracy: 0.8924 - val_loss: 0.2836 - val_sparse_categorical_accuracy: 0.8947\n",
            "Epoch 35/300\n",
            "782/782 [==============================] - 9s 12ms/step - loss: 0.2794 - sparse_categorical_accuracy: 0.8939 - val_loss: 0.2926 - val_sparse_categorical_accuracy: 0.8945\n",
            "Epoch 36/300\n",
            "782/782 [==============================] - 10s 13ms/step - loss: 0.2795 - sparse_categorical_accuracy: 0.8929 - val_loss: 0.2958 - val_sparse_categorical_accuracy: 0.8931\n",
            "Epoch 37/300\n",
            "782/782 [==============================] - 10s 13ms/step - loss: 0.2809 - sparse_categorical_accuracy: 0.8928 - val_loss: 0.2939 - val_sparse_categorical_accuracy: 0.8927\n",
            "Epoch 38/300\n",
            "782/782 [==============================] - 9s 11ms/step - loss: 0.2769 - sparse_categorical_accuracy: 0.8943 - val_loss: 0.2837 - val_sparse_categorical_accuracy: 0.8956\n",
            "Epoch 39/300\n",
            "782/782 [==============================] - 10s 13ms/step - loss: 0.2759 - sparse_categorical_accuracy: 0.8962 - val_loss: 0.2874 - val_sparse_categorical_accuracy: 0.8931\n",
            "Epoch 40/300\n",
            "782/782 [==============================] - 10s 13ms/step - loss: 0.2716 - sparse_categorical_accuracy: 0.8969 - val_loss: 0.3054 - val_sparse_categorical_accuracy: 0.8887\n",
            "Epoch 41/300\n",
            "782/782 [==============================] - 10s 13ms/step - loss: 0.2720 - sparse_categorical_accuracy: 0.8956 - val_loss: 0.2787 - val_sparse_categorical_accuracy: 0.8970\n",
            "Epoch 42/300\n",
            "782/782 [==============================] - 9s 12ms/step - loss: 0.2713 - sparse_categorical_accuracy: 0.8964 - val_loss: 0.2794 - val_sparse_categorical_accuracy: 0.8969\n",
            "Epoch 43/300\n",
            "782/782 [==============================] - 10s 13ms/step - loss: 0.2703 - sparse_categorical_accuracy: 0.8979 - val_loss: 0.2865 - val_sparse_categorical_accuracy: 0.8944\n",
            "Epoch 44/300\n",
            "782/782 [==============================] - 10s 13ms/step - loss: 0.2662 - sparse_categorical_accuracy: 0.8989 - val_loss: 0.2868 - val_sparse_categorical_accuracy: 0.8973\n",
            "Epoch 45/300\n",
            "782/782 [==============================] - 9s 11ms/step - loss: 0.2689 - sparse_categorical_accuracy: 0.8967 - val_loss: 0.2865 - val_sparse_categorical_accuracy: 0.8964\n",
            "Epoch 46/300\n",
            "782/782 [==============================] - 10s 13ms/step - loss: 0.2694 - sparse_categorical_accuracy: 0.8966 - val_loss: 0.2795 - val_sparse_categorical_accuracy: 0.8960\n",
            "Epoch 47/300\n",
            "782/782 [==============================] - 10s 13ms/step - loss: 0.2664 - sparse_categorical_accuracy: 0.8983 - val_loss: 0.2765 - val_sparse_categorical_accuracy: 0.8965\n",
            "Epoch 48/300\n",
            "782/782 [==============================] - 10s 13ms/step - loss: 0.2652 - sparse_categorical_accuracy: 0.8984 - val_loss: 0.2733 - val_sparse_categorical_accuracy: 0.8977\n",
            "Epoch 49/300\n",
            "782/782 [==============================] - 9s 11ms/step - loss: 0.2664 - sparse_categorical_accuracy: 0.8981 - val_loss: 0.2884 - val_sparse_categorical_accuracy: 0.8923\n",
            "Epoch 50/300\n",
            "782/782 [==============================] - 10s 13ms/step - loss: 0.2640 - sparse_categorical_accuracy: 0.8986 - val_loss: 0.2710 - val_sparse_categorical_accuracy: 0.9008\n",
            "Epoch 51/300\n",
            "782/782 [==============================] - 10s 13ms/step - loss: 0.2615 - sparse_categorical_accuracy: 0.9012 - val_loss: 0.2788 - val_sparse_categorical_accuracy: 0.8967\n",
            "Epoch 52/300\n",
            "782/782 [==============================] - 10s 12ms/step - loss: 0.2606 - sparse_categorical_accuracy: 0.9017 - val_loss: 0.2749 - val_sparse_categorical_accuracy: 0.8974\n",
            "Epoch 53/300\n",
            "782/782 [==============================] - 10s 12ms/step - loss: 0.2602 - sparse_categorical_accuracy: 0.9017 - val_loss: 0.2900 - val_sparse_categorical_accuracy: 0.8929\n",
            "Epoch 54/300\n",
            "782/782 [==============================] - 10s 13ms/step - loss: 0.2585 - sparse_categorical_accuracy: 0.9009 - val_loss: 0.2755 - val_sparse_categorical_accuracy: 0.8995\n",
            "Epoch 55/300\n",
            "782/782 [==============================] - 10s 13ms/step - loss: 0.2584 - sparse_categorical_accuracy: 0.9017 - val_loss: 0.2845 - val_sparse_categorical_accuracy: 0.8942\n",
            "Epoch 56/300\n",
            "782/782 [==============================] - 9s 12ms/step - loss: 0.2576 - sparse_categorical_accuracy: 0.9013 - val_loss: 0.2717 - val_sparse_categorical_accuracy: 0.8985\n",
            "Epoch 57/300\n",
            "782/782 [==============================] - 10s 13ms/step - loss: 0.2556 - sparse_categorical_accuracy: 0.9020 - val_loss: 0.2773 - val_sparse_categorical_accuracy: 0.8980\n",
            "Epoch 58/300\n",
            "782/782 [==============================] - 10s 13ms/step - loss: 0.2583 - sparse_categorical_accuracy: 0.9020 - val_loss: 0.2783 - val_sparse_categorical_accuracy: 0.8989\n",
            "Epoch 59/300\n",
            "782/782 [==============================] - 10s 13ms/step - loss: 0.2550 - sparse_categorical_accuracy: 0.9029 - val_loss: 0.2791 - val_sparse_categorical_accuracy: 0.9001\n",
            "Epoch 60/300\n",
            "782/782 [==============================] - 9s 12ms/step - loss: 0.2548 - sparse_categorical_accuracy: 0.9033 - val_loss: 0.2795 - val_sparse_categorical_accuracy: 0.8961\n",
            "Epoch 61/300\n",
            "782/782 [==============================] - 10s 13ms/step - loss: 0.2536 - sparse_categorical_accuracy: 0.9040 - val_loss: 0.2829 - val_sparse_categorical_accuracy: 0.8956\n",
            "Epoch 62/300\n",
            "782/782 [==============================] - 10s 13ms/step - loss: 0.2556 - sparse_categorical_accuracy: 0.9013 - val_loss: 0.2737 - val_sparse_categorical_accuracy: 0.8994\n",
            "Epoch 63/300\n",
            "782/782 [==============================] - 9s 12ms/step - loss: 0.2515 - sparse_categorical_accuracy: 0.9045 - val_loss: 0.2779 - val_sparse_categorical_accuracy: 0.8985\n",
            "Epoch 64/300\n",
            "782/782 [==============================] - 10s 13ms/step - loss: 0.2487 - sparse_categorical_accuracy: 0.9049 - val_loss: 0.2838 - val_sparse_categorical_accuracy: 0.8964\n",
            "Epoch 65/300\n",
            "782/782 [==============================] - 10s 13ms/step - loss: 0.2514 - sparse_categorical_accuracy: 0.9048 - val_loss: 0.2778 - val_sparse_categorical_accuracy: 0.9010\n",
            "Epoch 66/300\n",
            "782/782 [==============================] - 10s 13ms/step - loss: 0.2500 - sparse_categorical_accuracy: 0.9037 - val_loss: 0.2821 - val_sparse_categorical_accuracy: 0.8995\n",
            "Epoch 67/300\n",
            "782/782 [==============================] - 9s 12ms/step - loss: 0.2502 - sparse_categorical_accuracy: 0.9045 - val_loss: 0.2798 - val_sparse_categorical_accuracy: 0.8969\n",
            "Epoch 68/300\n",
            "782/782 [==============================] - 10s 13ms/step - loss: 0.2506 - sparse_categorical_accuracy: 0.9035 - val_loss: 0.2781 - val_sparse_categorical_accuracy: 0.8998\n",
            "Epoch 69/300\n",
            "782/782 [==============================] - 10s 13ms/step - loss: 0.2499 - sparse_categorical_accuracy: 0.9043 - val_loss: 0.2798 - val_sparse_categorical_accuracy: 0.8999\n",
            "Epoch 70/300\n",
            "782/782 [==============================] - 10s 13ms/step - loss: 0.2474 - sparse_categorical_accuracy: 0.9053 - val_loss: 0.2760 - val_sparse_categorical_accuracy: 0.8987\n",
            "Epoch 71/300\n",
            "782/782 [==============================] - 10s 12ms/step - loss: 0.2489 - sparse_categorical_accuracy: 0.9052 - val_loss: 0.2850 - val_sparse_categorical_accuracy: 0.8963\n",
            "Epoch 72/300\n",
            "782/782 [==============================] - 10s 13ms/step - loss: 0.2428 - sparse_categorical_accuracy: 0.9062 - val_loss: 0.2787 - val_sparse_categorical_accuracy: 0.9004\n",
            "Epoch 73/300\n",
            "782/782 [==============================] - 10s 13ms/step - loss: 0.2470 - sparse_categorical_accuracy: 0.9071 - val_loss: 0.2755 - val_sparse_categorical_accuracy: 0.8983\n",
            "Epoch 74/300\n",
            "782/782 [==============================] - 9s 12ms/step - loss: 0.2441 - sparse_categorical_accuracy: 0.9066 - val_loss: 0.2753 - val_sparse_categorical_accuracy: 0.8987\n",
            "Epoch 75/300\n",
            "782/782 [==============================] - 10s 13ms/step - loss: 0.2394 - sparse_categorical_accuracy: 0.9083 - val_loss: 0.2874 - val_sparse_categorical_accuracy: 0.8945\n",
            "Epoch 76/300\n",
            "782/782 [==============================] - 10s 13ms/step - loss: 0.2420 - sparse_categorical_accuracy: 0.9079 - val_loss: 0.2810 - val_sparse_categorical_accuracy: 0.8985\n",
            "Epoch 77/300\n",
            "782/782 [==============================] - 10s 12ms/step - loss: 0.2404 - sparse_categorical_accuracy: 0.9074 - val_loss: 0.2746 - val_sparse_categorical_accuracy: 0.9004\n",
            "Epoch 78/300\n",
            "782/782 [==============================] - 10s 12ms/step - loss: 0.2438 - sparse_categorical_accuracy: 0.9065 - val_loss: 0.2774 - val_sparse_categorical_accuracy: 0.8993\n",
            "Epoch 79/300\n",
            "782/782 [==============================] - 10s 13ms/step - loss: 0.2417 - sparse_categorical_accuracy: 0.9068 - val_loss: 0.2769 - val_sparse_categorical_accuracy: 0.8991\n",
            "Epoch 80/300\n",
            "782/782 [==============================] - 10s 13ms/step - loss: 0.2423 - sparse_categorical_accuracy: 0.9068 - val_loss: 0.2740 - val_sparse_categorical_accuracy: 0.9005\n",
            "Epoch 81/300\n",
            "782/782 [==============================] - 9s 11ms/step - loss: 0.2390 - sparse_categorical_accuracy: 0.9082 - val_loss: 0.2705 - val_sparse_categorical_accuracy: 0.8992\n",
            "Epoch 82/300\n",
            "782/782 [==============================] - 10s 13ms/step - loss: 0.2418 - sparse_categorical_accuracy: 0.9081 - val_loss: 0.2859 - val_sparse_categorical_accuracy: 0.8931\n",
            "Epoch 83/300\n",
            "782/782 [==============================] - 10s 13ms/step - loss: 0.2427 - sparse_categorical_accuracy: 0.9066 - val_loss: 0.2722 - val_sparse_categorical_accuracy: 0.9003\n",
            "Epoch 84/300\n",
            "782/782 [==============================] - 9s 11ms/step - loss: 0.2390 - sparse_categorical_accuracy: 0.9082 - val_loss: 0.2796 - val_sparse_categorical_accuracy: 0.8982\n",
            "Epoch 85/300\n",
            "782/782 [==============================] - 10s 13ms/step - loss: 0.2354 - sparse_categorical_accuracy: 0.9098 - val_loss: 0.2709 - val_sparse_categorical_accuracy: 0.9001\n",
            "Epoch 86/300\n",
            "782/782 [==============================] - 11s 14ms/step - loss: 0.2377 - sparse_categorical_accuracy: 0.9100 - val_loss: 0.2697 - val_sparse_categorical_accuracy: 0.9007\n",
            "Epoch 87/300\n",
            "782/782 [==============================] - 10s 13ms/step - loss: 0.2358 - sparse_categorical_accuracy: 0.9103 - val_loss: 0.2784 - val_sparse_categorical_accuracy: 0.8993\n",
            "Epoch 88/300\n",
            "782/782 [==============================] - 9s 12ms/step - loss: 0.2385 - sparse_categorical_accuracy: 0.9081 - val_loss: 0.2731 - val_sparse_categorical_accuracy: 0.8979\n",
            "Epoch 89/300\n",
            "782/782 [==============================] - 10s 13ms/step - loss: 0.2383 - sparse_categorical_accuracy: 0.9090 - val_loss: 0.2760 - val_sparse_categorical_accuracy: 0.8997\n",
            "Epoch 90/300\n",
            "782/782 [==============================] - 10s 13ms/step - loss: 0.2353 - sparse_categorical_accuracy: 0.9095 - val_loss: 0.2778 - val_sparse_categorical_accuracy: 0.9003\n",
            "Epoch 91/300\n",
            "782/782 [==============================] - 9s 12ms/step - loss: 0.2355 - sparse_categorical_accuracy: 0.9104 - val_loss: 0.2717 - val_sparse_categorical_accuracy: 0.9013\n",
            "Epoch 92/300\n",
            "782/782 [==============================] - 10s 13ms/step - loss: 0.2371 - sparse_categorical_accuracy: 0.9092 - val_loss: 0.2743 - val_sparse_categorical_accuracy: 0.8998\n",
            "Epoch 93/300\n",
            "782/782 [==============================] - 10s 13ms/step - loss: 0.2346 - sparse_categorical_accuracy: 0.9100 - val_loss: 0.2744 - val_sparse_categorical_accuracy: 0.9017\n",
            "Epoch 94/300\n",
            "782/782 [==============================] - 10s 13ms/step - loss: 0.2355 - sparse_categorical_accuracy: 0.9110 - val_loss: 0.2774 - val_sparse_categorical_accuracy: 0.9003\n",
            "Epoch 95/300\n",
            "782/782 [==============================] - 9s 12ms/step - loss: 0.2336 - sparse_categorical_accuracy: 0.9121 - val_loss: 0.2798 - val_sparse_categorical_accuracy: 0.8975\n",
            "Epoch 96/300\n",
            "782/782 [==============================] - 10s 13ms/step - loss: 0.2356 - sparse_categorical_accuracy: 0.9095 - val_loss: 0.2720 - val_sparse_categorical_accuracy: 0.9003\n",
            "Epoch 97/300\n",
            "782/782 [==============================] - 10s 13ms/step - loss: 0.2341 - sparse_categorical_accuracy: 0.9109 - val_loss: 0.2771 - val_sparse_categorical_accuracy: 0.8987\n",
            "Epoch 98/300\n",
            "782/782 [==============================] - 9s 12ms/step - loss: 0.2332 - sparse_categorical_accuracy: 0.9106 - val_loss: 0.2784 - val_sparse_categorical_accuracy: 0.8981\n",
            "Epoch 99/300\n",
            "782/782 [==============================] - 10s 13ms/step - loss: 0.2291 - sparse_categorical_accuracy: 0.9129 - val_loss: 0.2758 - val_sparse_categorical_accuracy: 0.8996\n",
            "Epoch 100/300\n",
            "782/782 [==============================] - 10s 13ms/step - loss: 0.2330 - sparse_categorical_accuracy: 0.9100 - val_loss: 0.2707 - val_sparse_categorical_accuracy: 0.9026\n",
            "Epoch 101/300\n",
            "782/782 [==============================] - 10s 13ms/step - loss: 0.2317 - sparse_categorical_accuracy: 0.9119 - val_loss: 0.2674 - val_sparse_categorical_accuracy: 0.9039\n",
            "Epoch 102/300\n",
            "782/782 [==============================] - 9s 12ms/step - loss: 0.2306 - sparse_categorical_accuracy: 0.9114 - val_loss: 0.2751 - val_sparse_categorical_accuracy: 0.9002\n",
            "Epoch 103/300\n",
            "782/782 [==============================] - 10s 13ms/step - loss: 0.2292 - sparse_categorical_accuracy: 0.9125 - val_loss: 0.2746 - val_sparse_categorical_accuracy: 0.9007\n",
            "Epoch 104/300\n",
            "782/782 [==============================] - 10s 13ms/step - loss: 0.2307 - sparse_categorical_accuracy: 0.9116 - val_loss: 0.2759 - val_sparse_categorical_accuracy: 0.9000\n",
            "Epoch 105/300\n",
            "782/782 [==============================] - 9s 12ms/step - loss: 0.2279 - sparse_categorical_accuracy: 0.9115 - val_loss: 0.2763 - val_sparse_categorical_accuracy: 0.8985\n",
            "Epoch 106/300\n",
            "782/782 [==============================] - 10s 13ms/step - loss: 0.2291 - sparse_categorical_accuracy: 0.9118 - val_loss: 0.2768 - val_sparse_categorical_accuracy: 0.9018\n",
            "Epoch 107/300\n",
            "782/782 [==============================] - 11s 13ms/step - loss: 0.2298 - sparse_categorical_accuracy: 0.9138 - val_loss: 0.2753 - val_sparse_categorical_accuracy: 0.9010\n",
            "Epoch 108/300\n",
            "782/782 [==============================] - 11s 14ms/step - loss: 0.2273 - sparse_categorical_accuracy: 0.9132 - val_loss: 0.2725 - val_sparse_categorical_accuracy: 0.9022\n",
            "Epoch 109/300\n",
            "782/782 [==============================] - 9s 12ms/step - loss: 0.2276 - sparse_categorical_accuracy: 0.9115 - val_loss: 0.2736 - val_sparse_categorical_accuracy: 0.9003\n",
            "Epoch 110/300\n",
            "782/782 [==============================] - 10s 13ms/step - loss: 0.2279 - sparse_categorical_accuracy: 0.9134 - val_loss: 0.2742 - val_sparse_categorical_accuracy: 0.9017\n",
            "Epoch 111/300\n",
            "782/782 [==============================] - 11s 14ms/step - loss: 0.2285 - sparse_categorical_accuracy: 0.9118 - val_loss: 0.2721 - val_sparse_categorical_accuracy: 0.9011\n",
            "Epoch 112/300\n",
            "782/782 [==============================] - 11s 13ms/step - loss: 0.2287 - sparse_categorical_accuracy: 0.9122 - val_loss: 0.2785 - val_sparse_categorical_accuracy: 0.8986\n",
            "Epoch 113/300\n",
            "782/782 [==============================] - 9s 12ms/step - loss: 0.2272 - sparse_categorical_accuracy: 0.9141 - val_loss: 0.2798 - val_sparse_categorical_accuracy: 0.8984\n",
            "Epoch 114/300\n",
            "782/782 [==============================] - 11s 13ms/step - loss: 0.2280 - sparse_categorical_accuracy: 0.9127 - val_loss: 0.2794 - val_sparse_categorical_accuracy: 0.8995\n",
            "Epoch 115/300\n",
            "782/782 [==============================] - 11s 13ms/step - loss: 0.2251 - sparse_categorical_accuracy: 0.9136 - val_loss: 0.2705 - val_sparse_categorical_accuracy: 0.9026\n",
            "Epoch 116/300\n",
            "782/782 [==============================] - 10s 13ms/step - loss: 0.2246 - sparse_categorical_accuracy: 0.9148 - val_loss: 0.2730 - val_sparse_categorical_accuracy: 0.9029\n",
            "Epoch 117/300\n",
            "782/782 [==============================] - 10s 12ms/step - loss: 0.2273 - sparse_categorical_accuracy: 0.9125 - val_loss: 0.2670 - val_sparse_categorical_accuracy: 0.9038\n",
            "Epoch 118/300\n",
            "782/782 [==============================] - 10s 13ms/step - loss: 0.2297 - sparse_categorical_accuracy: 0.9127 - val_loss: 0.2727 - val_sparse_categorical_accuracy: 0.9020\n",
            "Epoch 119/300\n",
            "782/782 [==============================] - 11s 13ms/step - loss: 0.2274 - sparse_categorical_accuracy: 0.9131 - val_loss: 0.2706 - val_sparse_categorical_accuracy: 0.9028\n",
            "Epoch 120/300\n",
            "782/782 [==============================] - 9s 12ms/step - loss: 0.2243 - sparse_categorical_accuracy: 0.9134 - val_loss: 0.2723 - val_sparse_categorical_accuracy: 0.9039\n",
            "Epoch 121/300\n",
            "782/782 [==============================] - 10s 13ms/step - loss: 0.2254 - sparse_categorical_accuracy: 0.9125 - val_loss: 0.2734 - val_sparse_categorical_accuracy: 0.9012\n",
            "Epoch 122/300\n",
            "782/782 [==============================] - 10s 13ms/step - loss: 0.2243 - sparse_categorical_accuracy: 0.9136 - val_loss: 0.2767 - val_sparse_categorical_accuracy: 0.9020\n",
            "Epoch 123/300\n",
            "782/782 [==============================] - 11s 13ms/step - loss: 0.2253 - sparse_categorical_accuracy: 0.9139 - val_loss: 0.2799 - val_sparse_categorical_accuracy: 0.9003\n",
            "Epoch 124/300\n",
            "782/782 [==============================] - 9s 12ms/step - loss: 0.2223 - sparse_categorical_accuracy: 0.9143 - val_loss: 0.2728 - val_sparse_categorical_accuracy: 0.9013\n",
            "Epoch 125/300\n",
            "782/782 [==============================] - 10s 13ms/step - loss: 0.2244 - sparse_categorical_accuracy: 0.9147 - val_loss: 0.2746 - val_sparse_categorical_accuracy: 0.9007\n",
            "Epoch 126/300\n",
            "782/782 [==============================] - 10s 13ms/step - loss: 0.2237 - sparse_categorical_accuracy: 0.9143 - val_loss: 0.2772 - val_sparse_categorical_accuracy: 0.9011\n",
            "Epoch 127/300\n",
            "782/782 [==============================] - 10s 13ms/step - loss: 0.2210 - sparse_categorical_accuracy: 0.9141 - val_loss: 0.2747 - val_sparse_categorical_accuracy: 0.9035\n",
            "Epoch 128/300\n",
            "782/782 [==============================] - 10s 12ms/step - loss: 0.2232 - sparse_categorical_accuracy: 0.9151 - val_loss: 0.2691 - val_sparse_categorical_accuracy: 0.9028\n",
            "Epoch 129/300\n",
            "782/782 [==============================] - 10s 13ms/step - loss: 0.2226 - sparse_categorical_accuracy: 0.9149 - val_loss: 0.2709 - val_sparse_categorical_accuracy: 0.9030\n",
            "Epoch 130/300\n",
            "782/782 [==============================] - 10s 13ms/step - loss: 0.2235 - sparse_categorical_accuracy: 0.9127 - val_loss: 0.2689 - val_sparse_categorical_accuracy: 0.9024\n",
            "Epoch 131/300\n",
            "782/782 [==============================] - 9s 12ms/step - loss: 0.2238 - sparse_categorical_accuracy: 0.9150 - val_loss: 0.2727 - val_sparse_categorical_accuracy: 0.9025\n",
            "Epoch 132/300\n",
            "782/782 [==============================] - 10s 13ms/step - loss: 0.2222 - sparse_categorical_accuracy: 0.9138 - val_loss: 0.2675 - val_sparse_categorical_accuracy: 0.9034\n",
            "Epoch 133/300\n",
            "782/782 [==============================] - 10s 13ms/step - loss: 0.2184 - sparse_categorical_accuracy: 0.9165 - val_loss: 0.2735 - val_sparse_categorical_accuracy: 0.9027\n",
            "Epoch 134/300\n",
            "782/782 [==============================] - 10s 13ms/step - loss: 0.2195 - sparse_categorical_accuracy: 0.9168 - val_loss: 0.2735 - val_sparse_categorical_accuracy: 0.9029\n",
            "Epoch 135/300\n",
            "782/782 [==============================] - 9s 12ms/step - loss: 0.2237 - sparse_categorical_accuracy: 0.9143 - val_loss: 0.2752 - val_sparse_categorical_accuracy: 0.9018\n",
            "Epoch 136/300\n",
            "782/782 [==============================] - 11s 14ms/step - loss: 0.2219 - sparse_categorical_accuracy: 0.9141 - val_loss: 0.2721 - val_sparse_categorical_accuracy: 0.9008\n",
            "Epoch 137/300\n",
            "782/782 [==============================] - 11s 14ms/step - loss: 0.2168 - sparse_categorical_accuracy: 0.9160 - val_loss: 0.2760 - val_sparse_categorical_accuracy: 0.9036\n",
            "Epoch 138/300\n",
            "782/782 [==============================] - 10s 13ms/step - loss: 0.2205 - sparse_categorical_accuracy: 0.9141 - val_loss: 0.2715 - val_sparse_categorical_accuracy: 0.9007\n",
            "Epoch 139/300\n",
            "782/782 [==============================] - 10s 12ms/step - loss: 0.2183 - sparse_categorical_accuracy: 0.9169 - val_loss: 0.2680 - val_sparse_categorical_accuracy: 0.9044\n",
            "Epoch 140/300\n",
            "782/782 [==============================] - 10s 13ms/step - loss: 0.2206 - sparse_categorical_accuracy: 0.9163 - val_loss: 0.2658 - val_sparse_categorical_accuracy: 0.9067\n",
            "Epoch 141/300\n",
            "782/782 [==============================] - 11s 14ms/step - loss: 0.2204 - sparse_categorical_accuracy: 0.9162 - val_loss: 0.2736 - val_sparse_categorical_accuracy: 0.9036\n",
            "Epoch 142/300\n",
            "782/782 [==============================] - 9s 12ms/step - loss: 0.2195 - sparse_categorical_accuracy: 0.9162 - val_loss: 0.2680 - val_sparse_categorical_accuracy: 0.9048\n",
            "Epoch 143/300\n",
            "782/782 [==============================] - 10s 13ms/step - loss: 0.2172 - sparse_categorical_accuracy: 0.9165 - val_loss: 0.2678 - val_sparse_categorical_accuracy: 0.9033\n",
            "Epoch 144/300\n",
            "782/782 [==============================] - 10s 13ms/step - loss: 0.2179 - sparse_categorical_accuracy: 0.9168 - val_loss: 0.2690 - val_sparse_categorical_accuracy: 0.9030\n",
            "Epoch 145/300\n",
            "782/782 [==============================] - 10s 13ms/step - loss: 0.2190 - sparse_categorical_accuracy: 0.9167 - val_loss: 0.2670 - val_sparse_categorical_accuracy: 0.9043\n",
            "Epoch 146/300\n",
            "782/782 [==============================] - 9s 12ms/step - loss: 0.2194 - sparse_categorical_accuracy: 0.9163 - val_loss: 0.2743 - val_sparse_categorical_accuracy: 0.9025\n",
            "Epoch 147/300\n",
            "782/782 [==============================] - 11s 14ms/step - loss: 0.2128 - sparse_categorical_accuracy: 0.9182 - val_loss: 0.2743 - val_sparse_categorical_accuracy: 0.9025\n",
            "Epoch 148/300\n",
            "782/782 [==============================] - 10s 13ms/step - loss: 0.2194 - sparse_categorical_accuracy: 0.9160 - val_loss: 0.2700 - val_sparse_categorical_accuracy: 0.9045\n",
            "Epoch 149/300\n",
            "782/782 [==============================] - 10s 13ms/step - loss: 0.2163 - sparse_categorical_accuracy: 0.9171 - val_loss: 0.2672 - val_sparse_categorical_accuracy: 0.9025\n",
            "Epoch 150/300\n",
            "782/782 [==============================] - 10s 13ms/step - loss: 0.2155 - sparse_categorical_accuracy: 0.9161 - val_loss: 0.2745 - val_sparse_categorical_accuracy: 0.9036\n",
            "Epoch 151/300\n",
            "782/782 [==============================] - 11s 14ms/step - loss: 0.2174 - sparse_categorical_accuracy: 0.9160 - val_loss: 0.2771 - val_sparse_categorical_accuracy: 0.8987\n",
            "Epoch 152/300\n",
            "782/782 [==============================] - 11s 14ms/step - loss: 0.2165 - sparse_categorical_accuracy: 0.9164 - val_loss: 0.2683 - val_sparse_categorical_accuracy: 0.9042\n",
            "Epoch 153/300\n",
            "782/782 [==============================] - 9s 12ms/step - loss: 0.2178 - sparse_categorical_accuracy: 0.9166 - val_loss: 0.2744 - val_sparse_categorical_accuracy: 0.9027\n",
            "Epoch 154/300\n",
            "782/782 [==============================] - 10s 13ms/step - loss: 0.2150 - sparse_categorical_accuracy: 0.9187 - val_loss: 0.2673 - val_sparse_categorical_accuracy: 0.9043\n",
            "Epoch 155/300\n",
            "782/782 [==============================] - 11s 14ms/step - loss: 0.2170 - sparse_categorical_accuracy: 0.9166 - val_loss: 0.2751 - val_sparse_categorical_accuracy: 0.9022\n",
            "Epoch 156/300\n",
            "782/782 [==============================] - 11s 14ms/step - loss: 0.2149 - sparse_categorical_accuracy: 0.9179 - val_loss: 0.2730 - val_sparse_categorical_accuracy: 0.9042\n",
            "Epoch 157/300\n",
            "782/782 [==============================] - 9s 12ms/step - loss: 0.2113 - sparse_categorical_accuracy: 0.9193 - val_loss: 0.2717 - val_sparse_categorical_accuracy: 0.9053\n",
            "Epoch 158/300\n",
            "782/782 [==============================] - 11s 14ms/step - loss: 0.2106 - sparse_categorical_accuracy: 0.9182 - val_loss: 0.2791 - val_sparse_categorical_accuracy: 0.8999\n",
            "Epoch 159/300\n",
            "782/782 [==============================] - 11s 14ms/step - loss: 0.2150 - sparse_categorical_accuracy: 0.9165 - val_loss: 0.2729 - val_sparse_categorical_accuracy: 0.9035\n",
            "Epoch 160/300\n",
            "782/782 [==============================] - 11s 14ms/step - loss: 0.2137 - sparse_categorical_accuracy: 0.9192 - val_loss: 0.2848 - val_sparse_categorical_accuracy: 0.8986\n",
            "Epoch 161/300\n",
            "782/782 [==============================] - 9s 12ms/step - loss: 0.2158 - sparse_categorical_accuracy: 0.9164 - val_loss: 0.2730 - val_sparse_categorical_accuracy: 0.9028\n",
            "Epoch 162/300\n",
            "782/782 [==============================] - 11s 14ms/step - loss: 0.2152 - sparse_categorical_accuracy: 0.9176 - val_loss: 0.2644 - val_sparse_categorical_accuracy: 0.9039\n",
            "Epoch 163/300\n",
            "782/782 [==============================] - 11s 14ms/step - loss: 0.2141 - sparse_categorical_accuracy: 0.9169 - val_loss: 0.2725 - val_sparse_categorical_accuracy: 0.9048\n",
            "Epoch 164/300\n",
            "782/782 [==============================] - 11s 14ms/step - loss: 0.2102 - sparse_categorical_accuracy: 0.9197 - val_loss: 0.2665 - val_sparse_categorical_accuracy: 0.9050\n",
            "Epoch 165/300\n",
            "782/782 [==============================] - 10s 12ms/step - loss: 0.2137 - sparse_categorical_accuracy: 0.9166 - val_loss: 0.2753 - val_sparse_categorical_accuracy: 0.9018\n",
            "Epoch 166/300\n",
            "782/782 [==============================] - 11s 14ms/step - loss: 0.2112 - sparse_categorical_accuracy: 0.9185 - val_loss: 0.2752 - val_sparse_categorical_accuracy: 0.9003\n",
            "Epoch 167/300\n",
            "782/782 [==============================] - 11s 14ms/step - loss: 0.2127 - sparse_categorical_accuracy: 0.9183 - val_loss: 0.2710 - val_sparse_categorical_accuracy: 0.9002\n",
            "Epoch 168/300\n",
            "782/782 [==============================] - 10s 13ms/step - loss: 0.2142 - sparse_categorical_accuracy: 0.9176 - val_loss: 0.2724 - val_sparse_categorical_accuracy: 0.9024\n",
            "Epoch 169/300\n",
            "782/782 [==============================] - 10s 12ms/step - loss: 0.2125 - sparse_categorical_accuracy: 0.9181 - val_loss: 0.2647 - val_sparse_categorical_accuracy: 0.9062\n",
            "Epoch 170/300\n",
            "782/782 [==============================] - 11s 14ms/step - loss: 0.2106 - sparse_categorical_accuracy: 0.9186 - val_loss: 0.2698 - val_sparse_categorical_accuracy: 0.9046\n",
            "Epoch 171/300\n",
            "782/782 [==============================] - 11s 14ms/step - loss: 0.2101 - sparse_categorical_accuracy: 0.9200 - val_loss: 0.2669 - val_sparse_categorical_accuracy: 0.9025\n",
            "Epoch 172/300\n",
            "782/782 [==============================] - 10s 13ms/step - loss: 0.2111 - sparse_categorical_accuracy: 0.9194 - val_loss: 0.2752 - val_sparse_categorical_accuracy: 0.9021\n",
            "Epoch 173/300\n",
            "782/782 [==============================] - 10s 13ms/step - loss: 0.2115 - sparse_categorical_accuracy: 0.9182 - val_loss: 0.2695 - val_sparse_categorical_accuracy: 0.9040\n",
            "Epoch 174/300\n",
            "782/782 [==============================] - 11s 14ms/step - loss: 0.2140 - sparse_categorical_accuracy: 0.9183 - val_loss: 0.2780 - val_sparse_categorical_accuracy: 0.9029\n",
            "Epoch 175/300\n",
            "782/782 [==============================] - 11s 14ms/step - loss: 0.2104 - sparse_categorical_accuracy: 0.9195 - val_loss: 0.2707 - val_sparse_categorical_accuracy: 0.9006\n",
            "Epoch 176/300\n",
            "782/782 [==============================] - 10s 13ms/step - loss: 0.2092 - sparse_categorical_accuracy: 0.9180 - val_loss: 0.2714 - val_sparse_categorical_accuracy: 0.9030\n",
            "Epoch 177/300\n",
            "782/782 [==============================] - 10s 13ms/step - loss: 0.2098 - sparse_categorical_accuracy: 0.9194 - val_loss: 0.2729 - val_sparse_categorical_accuracy: 0.9024\n",
            "Epoch 178/300\n",
            "782/782 [==============================] - 11s 14ms/step - loss: 0.2080 - sparse_categorical_accuracy: 0.9212 - val_loss: 0.2689 - val_sparse_categorical_accuracy: 0.9033\n",
            "Epoch 179/300\n",
            "782/782 [==============================] - 11s 14ms/step - loss: 0.2106 - sparse_categorical_accuracy: 0.9189 - val_loss: 0.2678 - val_sparse_categorical_accuracy: 0.9049\n",
            "Epoch 180/300\n",
            "782/782 [==============================] - 10s 13ms/step - loss: 0.2098 - sparse_categorical_accuracy: 0.9187 - val_loss: 0.2694 - val_sparse_categorical_accuracy: 0.9011\n",
            "Epoch 181/300\n",
            "782/782 [==============================] - 10s 13ms/step - loss: 0.2043 - sparse_categorical_accuracy: 0.9220 - val_loss: 0.2737 - val_sparse_categorical_accuracy: 0.9040\n",
            "Epoch 182/300\n",
            "782/782 [==============================] - 11s 14ms/step - loss: 0.2114 - sparse_categorical_accuracy: 0.9182 - val_loss: 0.2721 - val_sparse_categorical_accuracy: 0.9035\n",
            "Epoch 183/300\n",
            "782/782 [==============================] - 11s 14ms/step - loss: 0.2086 - sparse_categorical_accuracy: 0.9198 - val_loss: 0.2762 - val_sparse_categorical_accuracy: 0.9026\n",
            "Epoch 184/300\n",
            "782/782 [==============================] - 10s 13ms/step - loss: 0.2082 - sparse_categorical_accuracy: 0.9205 - val_loss: 0.2727 - val_sparse_categorical_accuracy: 0.9033\n",
            "Epoch 185/300\n",
            "782/782 [==============================] - 10s 13ms/step - loss: 0.2072 - sparse_categorical_accuracy: 0.9207 - val_loss: 0.2709 - val_sparse_categorical_accuracy: 0.9054\n",
            "Epoch 186/300\n",
            "782/782 [==============================] - 11s 14ms/step - loss: 0.2078 - sparse_categorical_accuracy: 0.9214 - val_loss: 0.2742 - val_sparse_categorical_accuracy: 0.9007\n",
            "Epoch 187/300\n",
            "782/782 [==============================] - 11s 14ms/step - loss: 0.2082 - sparse_categorical_accuracy: 0.9217 - val_loss: 0.2660 - val_sparse_categorical_accuracy: 0.9040\n",
            "Epoch 188/300\n",
            "782/782 [==============================] - 10s 13ms/step - loss: 0.2053 - sparse_categorical_accuracy: 0.9229 - val_loss: 0.2675 - val_sparse_categorical_accuracy: 0.9036\n",
            "Epoch 189/300\n",
            "782/782 [==============================] - 10s 13ms/step - loss: 0.2097 - sparse_categorical_accuracy: 0.9185 - val_loss: 0.2689 - val_sparse_categorical_accuracy: 0.9030\n",
            "Epoch 190/300\n",
            "782/782 [==============================] - 11s 14ms/step - loss: 0.2087 - sparse_categorical_accuracy: 0.9190 - val_loss: 0.2709 - val_sparse_categorical_accuracy: 0.9035\n",
            "Epoch 191/300\n",
            "782/782 [==============================] - 11s 14ms/step - loss: 0.2087 - sparse_categorical_accuracy: 0.9204 - val_loss: 0.2720 - val_sparse_categorical_accuracy: 0.9047\n",
            "Epoch 192/300\n",
            "782/782 [==============================] - 9s 12ms/step - loss: 0.2079 - sparse_categorical_accuracy: 0.9222 - val_loss: 0.2689 - val_sparse_categorical_accuracy: 0.9041\n",
            "Epoch 193/300\n",
            "782/782 [==============================] - 11s 13ms/step - loss: 0.2051 - sparse_categorical_accuracy: 0.9214 - val_loss: 0.2674 - val_sparse_categorical_accuracy: 0.9048\n",
            "Epoch 194/300\n",
            "782/782 [==============================] - 11s 14ms/step - loss: 0.2092 - sparse_categorical_accuracy: 0.9217 - val_loss: 0.2741 - val_sparse_categorical_accuracy: 0.9038\n",
            "Epoch 195/300\n",
            "782/782 [==============================] - 11s 14ms/step - loss: 0.2067 - sparse_categorical_accuracy: 0.9219 - val_loss: 0.2649 - val_sparse_categorical_accuracy: 0.9066\n",
            "Epoch 196/300\n",
            "782/782 [==============================] - 10s 12ms/step - loss: 0.2069 - sparse_categorical_accuracy: 0.9202 - val_loss: 0.2690 - val_sparse_categorical_accuracy: 0.9018\n",
            "Epoch 197/300\n",
            "782/782 [==============================] - 11s 14ms/step - loss: 0.2068 - sparse_categorical_accuracy: 0.9206 - val_loss: 0.2743 - val_sparse_categorical_accuracy: 0.9040\n",
            "Epoch 198/300\n",
            "782/782 [==============================] - 11s 14ms/step - loss: 0.2072 - sparse_categorical_accuracy: 0.9211 - val_loss: 0.2734 - val_sparse_categorical_accuracy: 0.9032\n",
            "Epoch 199/300\n",
            "782/782 [==============================] - 11s 14ms/step - loss: 0.2047 - sparse_categorical_accuracy: 0.9230 - val_loss: 0.2736 - val_sparse_categorical_accuracy: 0.9046\n",
            "Epoch 200/300\n",
            "782/782 [==============================] - 9s 12ms/step - loss: 0.2042 - sparse_categorical_accuracy: 0.9217 - val_loss: 0.2697 - val_sparse_categorical_accuracy: 0.9054\n",
            "Epoch 201/300\n",
            "782/782 [==============================] - 11s 14ms/step - loss: 0.2067 - sparse_categorical_accuracy: 0.9206 - val_loss: 0.2707 - val_sparse_categorical_accuracy: 0.9052\n",
            "Epoch 202/300\n",
            "782/782 [==============================] - 11s 14ms/step - loss: 0.2066 - sparse_categorical_accuracy: 0.9220 - val_loss: 0.2738 - val_sparse_categorical_accuracy: 0.9013\n",
            "Epoch 203/300\n",
            "782/782 [==============================] - 11s 14ms/step - loss: 0.2054 - sparse_categorical_accuracy: 0.9209 - val_loss: 0.2670 - val_sparse_categorical_accuracy: 0.9070\n",
            "Epoch 204/300\n",
            "782/782 [==============================] - 10s 12ms/step - loss: 0.2047 - sparse_categorical_accuracy: 0.9209 - val_loss: 0.2787 - val_sparse_categorical_accuracy: 0.9034\n",
            "Epoch 205/300\n",
            "782/782 [==============================] - 11s 14ms/step - loss: 0.2052 - sparse_categorical_accuracy: 0.9215 - val_loss: 0.2753 - val_sparse_categorical_accuracy: 0.9013\n",
            "Epoch 206/300\n",
            "782/782 [==============================] - 11s 14ms/step - loss: 0.2035 - sparse_categorical_accuracy: 0.9220 - val_loss: 0.2691 - val_sparse_categorical_accuracy: 0.9054\n",
            "Epoch 207/300\n",
            "782/782 [==============================] - 11s 14ms/step - loss: 0.2087 - sparse_categorical_accuracy: 0.9202 - val_loss: 0.2760 - val_sparse_categorical_accuracy: 0.9030\n",
            "Epoch 208/300\n",
            "782/782 [==============================] - 10s 13ms/step - loss: 0.2037 - sparse_categorical_accuracy: 0.9217 - val_loss: 0.2734 - val_sparse_categorical_accuracy: 0.9034\n",
            "Epoch 209/300\n",
            "782/782 [==============================] - 11s 14ms/step - loss: 0.2047 - sparse_categorical_accuracy: 0.9204 - val_loss: 0.2707 - val_sparse_categorical_accuracy: 0.9053\n",
            "Epoch 210/300\n",
            "782/782 [==============================] - 11s 14ms/step - loss: 0.2008 - sparse_categorical_accuracy: 0.9221 - val_loss: 0.2749 - val_sparse_categorical_accuracy: 0.9046\n",
            "Epoch 211/300\n",
            "782/782 [==============================] - 11s 14ms/step - loss: 0.2051 - sparse_categorical_accuracy: 0.9220 - val_loss: 0.2757 - val_sparse_categorical_accuracy: 0.9039\n",
            "Epoch 212/300\n",
            "782/782 [==============================] - 10s 12ms/step - loss: 0.2055 - sparse_categorical_accuracy: 0.9214 - val_loss: 0.2713 - val_sparse_categorical_accuracy: 0.9032\n",
            "Epoch 213/300\n",
            "782/782 [==============================] - 11s 14ms/step - loss: 0.2033 - sparse_categorical_accuracy: 0.9225 - val_loss: 0.2679 - val_sparse_categorical_accuracy: 0.9060\n",
            "Epoch 214/300\n",
            "782/782 [==============================] - 11s 14ms/step - loss: 0.2050 - sparse_categorical_accuracy: 0.9195 - val_loss: 0.2723 - val_sparse_categorical_accuracy: 0.9040\n",
            "Epoch 215/300\n",
            "782/782 [==============================] - 11s 14ms/step - loss: 0.2027 - sparse_categorical_accuracy: 0.9225 - val_loss: 0.2771 - val_sparse_categorical_accuracy: 0.9011\n",
            "Epoch 216/300\n",
            "782/782 [==============================] - 10s 12ms/step - loss: 0.2045 - sparse_categorical_accuracy: 0.9219 - val_loss: 0.2743 - val_sparse_categorical_accuracy: 0.9045\n",
            "Epoch 217/300\n",
            "782/782 [==============================] - 11s 14ms/step - loss: 0.2035 - sparse_categorical_accuracy: 0.9229 - val_loss: 0.2682 - val_sparse_categorical_accuracy: 0.9054\n",
            "Epoch 218/300\n",
            "782/782 [==============================] - 11s 14ms/step - loss: 0.1997 - sparse_categorical_accuracy: 0.9243 - val_loss: 0.2733 - val_sparse_categorical_accuracy: 0.9051\n",
            "Epoch 219/300\n",
            "782/782 [==============================] - 11s 14ms/step - loss: 0.2044 - sparse_categorical_accuracy: 0.9216 - val_loss: 0.2722 - val_sparse_categorical_accuracy: 0.9049\n",
            "Epoch 220/300\n",
            "782/782 [==============================] - 10s 12ms/step - loss: 0.2026 - sparse_categorical_accuracy: 0.9222 - val_loss: 0.2714 - val_sparse_categorical_accuracy: 0.9037\n",
            "Epoch 221/300\n",
            "782/782 [==============================] - 11s 14ms/step - loss: 0.2019 - sparse_categorical_accuracy: 0.9222 - val_loss: 0.2737 - val_sparse_categorical_accuracy: 0.9051\n",
            "Epoch 222/300\n",
            "782/782 [==============================] - 11s 14ms/step - loss: 0.2021 - sparse_categorical_accuracy: 0.9226 - val_loss: 0.2647 - val_sparse_categorical_accuracy: 0.9069\n",
            "Epoch 223/300\n",
            "782/782 [==============================] - 11s 14ms/step - loss: 0.1978 - sparse_categorical_accuracy: 0.9245 - val_loss: 0.2743 - val_sparse_categorical_accuracy: 0.9052\n",
            "Epoch 224/300\n",
            "782/782 [==============================] - 9s 12ms/step - loss: 0.1988 - sparse_categorical_accuracy: 0.9237 - val_loss: 0.2740 - val_sparse_categorical_accuracy: 0.9040\n",
            "Epoch 225/300\n",
            "782/782 [==============================] - 11s 14ms/step - loss: 0.2023 - sparse_categorical_accuracy: 0.9237 - val_loss: 0.2645 - val_sparse_categorical_accuracy: 0.9052\n",
            "Epoch 226/300\n",
            "782/782 [==============================] - 11s 14ms/step - loss: 0.2001 - sparse_categorical_accuracy: 0.9237 - val_loss: 0.2703 - val_sparse_categorical_accuracy: 0.9037\n",
            "Epoch 227/300\n",
            "782/782 [==============================] - 11s 14ms/step - loss: 0.2013 - sparse_categorical_accuracy: 0.9230 - val_loss: 0.2734 - val_sparse_categorical_accuracy: 0.9049\n",
            "Epoch 228/300\n",
            "782/782 [==============================] - 10s 12ms/step - loss: 0.2047 - sparse_categorical_accuracy: 0.9223 - val_loss: 0.2692 - val_sparse_categorical_accuracy: 0.9043\n",
            "Epoch 229/300\n",
            "782/782 [==============================] - 11s 14ms/step - loss: 0.2018 - sparse_categorical_accuracy: 0.9226 - val_loss: 0.2676 - val_sparse_categorical_accuracy: 0.9066\n",
            "Epoch 230/300\n",
            "782/782 [==============================] - 11s 14ms/step - loss: 0.2015 - sparse_categorical_accuracy: 0.9226 - val_loss: 0.2727 - val_sparse_categorical_accuracy: 0.9063\n",
            "Epoch 231/300\n",
            "782/782 [==============================] - 10s 13ms/step - loss: 0.1979 - sparse_categorical_accuracy: 0.9231 - val_loss: 0.2773 - val_sparse_categorical_accuracy: 0.9033\n",
            "Epoch 232/300\n",
            "782/782 [==============================] - 10s 13ms/step - loss: 0.1996 - sparse_categorical_accuracy: 0.9246 - val_loss: 0.2733 - val_sparse_categorical_accuracy: 0.9023\n",
            "Epoch 233/300\n",
            "782/782 [==============================] - 11s 14ms/step - loss: 0.2019 - sparse_categorical_accuracy: 0.9217 - val_loss: 0.2763 - val_sparse_categorical_accuracy: 0.9014\n",
            "Epoch 234/300\n",
            "782/782 [==============================] - 11s 14ms/step - loss: 0.2010 - sparse_categorical_accuracy: 0.9224 - val_loss: 0.2680 - val_sparse_categorical_accuracy: 0.9050\n",
            "Epoch 235/300\n",
            "782/782 [==============================] - 10s 13ms/step - loss: 0.2035 - sparse_categorical_accuracy: 0.9219 - val_loss: 0.2657 - val_sparse_categorical_accuracy: 0.9056\n",
            "Epoch 236/300\n",
            "782/782 [==============================] - 10s 13ms/step - loss: 0.2009 - sparse_categorical_accuracy: 0.9226 - val_loss: 0.2702 - val_sparse_categorical_accuracy: 0.9051\n",
            "Epoch 237/300\n",
            "782/782 [==============================] - 11s 14ms/step - loss: 0.2012 - sparse_categorical_accuracy: 0.9224 - val_loss: 0.2696 - val_sparse_categorical_accuracy: 0.9056\n",
            "Epoch 238/300\n",
            "782/782 [==============================] - 11s 14ms/step - loss: 0.2013 - sparse_categorical_accuracy: 0.9220 - val_loss: 0.2712 - val_sparse_categorical_accuracy: 0.9056\n",
            "Epoch 239/300\n",
            "782/782 [==============================] - 10s 13ms/step - loss: 0.1994 - sparse_categorical_accuracy: 0.9242 - val_loss: 0.2791 - val_sparse_categorical_accuracy: 0.9031\n",
            "Epoch 240/300\n",
            "782/782 [==============================] - 10s 13ms/step - loss: 0.1983 - sparse_categorical_accuracy: 0.9233 - val_loss: 0.2755 - val_sparse_categorical_accuracy: 0.9038\n",
            "Epoch 241/300\n",
            "782/782 [==============================] - 11s 14ms/step - loss: 0.2038 - sparse_categorical_accuracy: 0.9215 - val_loss: 0.2775 - val_sparse_categorical_accuracy: 0.9029\n",
            "Epoch 242/300\n",
            "782/782 [==============================] - 11s 14ms/step - loss: 0.1993 - sparse_categorical_accuracy: 0.9248 - val_loss: 0.2758 - val_sparse_categorical_accuracy: 0.9048\n",
            "Epoch 243/300\n",
            "782/782 [==============================] - 9s 12ms/step - loss: 0.1995 - sparse_categorical_accuracy: 0.9243 - val_loss: 0.2749 - val_sparse_categorical_accuracy: 0.9047\n",
            "Epoch 244/300\n",
            "782/782 [==============================] - 11s 14ms/step - loss: 0.1991 - sparse_categorical_accuracy: 0.9232 - val_loss: 0.2769 - val_sparse_categorical_accuracy: 0.9061\n",
            "Epoch 245/300\n",
            "782/782 [==============================] - 11s 14ms/step - loss: 0.2007 - sparse_categorical_accuracy: 0.9237 - val_loss: 0.2679 - val_sparse_categorical_accuracy: 0.9068\n",
            "Epoch 246/300\n",
            "782/782 [==============================] - 10s 13ms/step - loss: 0.1963 - sparse_categorical_accuracy: 0.9233 - val_loss: 0.2761 - val_sparse_categorical_accuracy: 0.9037\n",
            "Epoch 247/300\n",
            "782/782 [==============================] - 10s 13ms/step - loss: 0.1992 - sparse_categorical_accuracy: 0.9233 - val_loss: 0.2791 - val_sparse_categorical_accuracy: 0.9030\n",
            "Epoch 248/300\n",
            "782/782 [==============================] - 11s 14ms/step - loss: 0.1993 - sparse_categorical_accuracy: 0.9233 - val_loss: 0.2748 - val_sparse_categorical_accuracy: 0.9064\n",
            "Epoch 249/300\n",
            "782/782 [==============================] - 11s 14ms/step - loss: 0.1971 - sparse_categorical_accuracy: 0.9256 - val_loss: 0.2739 - val_sparse_categorical_accuracy: 0.9017\n",
            "Epoch 250/300\n",
            "782/782 [==============================] - 10s 13ms/step - loss: 0.1985 - sparse_categorical_accuracy: 0.9233 - val_loss: 0.2731 - val_sparse_categorical_accuracy: 0.9057\n",
            "Epoch 251/300\n",
            "782/782 [==============================] - 10s 13ms/step - loss: 0.2019 - sparse_categorical_accuracy: 0.9235 - val_loss: 0.2683 - val_sparse_categorical_accuracy: 0.9045\n",
            "Epoch 252/300\n",
            "782/782 [==============================] - 11s 14ms/step - loss: 0.1962 - sparse_categorical_accuracy: 0.9236 - val_loss: 0.2700 - val_sparse_categorical_accuracy: 0.9053\n",
            "Epoch 253/300\n",
            "782/782 [==============================] - 11s 14ms/step - loss: 0.1999 - sparse_categorical_accuracy: 0.9236 - val_loss: 0.2703 - val_sparse_categorical_accuracy: 0.9071\n",
            "Epoch 254/300\n",
            "782/782 [==============================] - 10s 13ms/step - loss: 0.1957 - sparse_categorical_accuracy: 0.9251 - val_loss: 0.2773 - val_sparse_categorical_accuracy: 0.9041\n",
            "Epoch 255/300\n",
            "782/782 [==============================] - 10s 13ms/step - loss: 0.1965 - sparse_categorical_accuracy: 0.9255 - val_loss: 0.2796 - val_sparse_categorical_accuracy: 0.9032\n",
            "Epoch 256/300\n",
            "782/782 [==============================] - 11s 14ms/step - loss: 0.1972 - sparse_categorical_accuracy: 0.9239 - val_loss: 0.2805 - val_sparse_categorical_accuracy: 0.9059\n",
            "Epoch 257/300\n",
            "782/782 [==============================] - 11s 14ms/step - loss: 0.1995 - sparse_categorical_accuracy: 0.9234 - val_loss: 0.2705 - val_sparse_categorical_accuracy: 0.9034\n",
            "Epoch 258/300\n",
            "782/782 [==============================] - 10s 13ms/step - loss: 0.1974 - sparse_categorical_accuracy: 0.9245 - val_loss: 0.2737 - val_sparse_categorical_accuracy: 0.9081\n",
            "Epoch 259/300\n",
            "782/782 [==============================] - 10s 13ms/step - loss: 0.1959 - sparse_categorical_accuracy: 0.9246 - val_loss: 0.2733 - val_sparse_categorical_accuracy: 0.9062\n",
            "Epoch 260/300\n",
            "782/782 [==============================] - 11s 14ms/step - loss: 0.1987 - sparse_categorical_accuracy: 0.9225 - val_loss: 0.2736 - val_sparse_categorical_accuracy: 0.9067\n",
            "Epoch 261/300\n",
            "782/782 [==============================] - 11s 14ms/step - loss: 0.1967 - sparse_categorical_accuracy: 0.9240 - val_loss: 0.2815 - val_sparse_categorical_accuracy: 0.9026\n",
            "Epoch 262/300\n",
            "782/782 [==============================] - 11s 14ms/step - loss: 0.1977 - sparse_categorical_accuracy: 0.9253 - val_loss: 0.2721 - val_sparse_categorical_accuracy: 0.9071\n",
            "Epoch 263/300\n",
            "782/782 [==============================] - 10s 13ms/step - loss: 0.1986 - sparse_categorical_accuracy: 0.9238 - val_loss: 0.2686 - val_sparse_categorical_accuracy: 0.9041\n",
            "Epoch 264/300\n",
            "782/782 [==============================] - 11s 14ms/step - loss: 0.1921 - sparse_categorical_accuracy: 0.9267 - val_loss: 0.2779 - val_sparse_categorical_accuracy: 0.9060\n",
            "Epoch 265/300\n",
            "782/782 [==============================] - 11s 14ms/step - loss: 0.1971 - sparse_categorical_accuracy: 0.9246 - val_loss: 0.2770 - val_sparse_categorical_accuracy: 0.9047\n",
            "Epoch 266/300\n",
            "782/782 [==============================] - 11s 13ms/step - loss: 0.1974 - sparse_categorical_accuracy: 0.9236 - val_loss: 0.2698 - val_sparse_categorical_accuracy: 0.9075\n",
            "Epoch 267/300\n",
            "782/782 [==============================] - 10s 13ms/step - loss: 0.2011 - sparse_categorical_accuracy: 0.9222 - val_loss: 0.2726 - val_sparse_categorical_accuracy: 0.9034\n",
            "Epoch 268/300\n",
            "782/782 [==============================] - 11s 14ms/step - loss: 0.1976 - sparse_categorical_accuracy: 0.9246 - val_loss: 0.2670 - val_sparse_categorical_accuracy: 0.9074\n",
            "Epoch 269/300\n",
            "782/782 [==============================] - 11s 14ms/step - loss: 0.1949 - sparse_categorical_accuracy: 0.9250 - val_loss: 0.2698 - val_sparse_categorical_accuracy: 0.9061\n",
            "Epoch 270/300\n",
            "782/782 [==============================] - 10s 13ms/step - loss: 0.1944 - sparse_categorical_accuracy: 0.9251 - val_loss: 0.2735 - val_sparse_categorical_accuracy: 0.9063\n",
            "Epoch 271/300\n",
            "782/782 [==============================] - 10s 13ms/step - loss: 0.1966 - sparse_categorical_accuracy: 0.9251 - val_loss: 0.2721 - val_sparse_categorical_accuracy: 0.9059\n",
            "Epoch 272/300\n",
            "782/782 [==============================] - 11s 14ms/step - loss: 0.1994 - sparse_categorical_accuracy: 0.9236 - val_loss: 0.2707 - val_sparse_categorical_accuracy: 0.9039\n",
            "Epoch 273/300\n",
            "782/782 [==============================] - 11s 14ms/step - loss: 0.1957 - sparse_categorical_accuracy: 0.9261 - val_loss: 0.2727 - val_sparse_categorical_accuracy: 0.9066\n",
            "Epoch 274/300\n",
            "782/782 [==============================] - 10s 13ms/step - loss: 0.1964 - sparse_categorical_accuracy: 0.9256 - val_loss: 0.2680 - val_sparse_categorical_accuracy: 0.9041\n",
            "Epoch 275/300\n",
            "782/782 [==============================] - 10s 13ms/step - loss: 0.1956 - sparse_categorical_accuracy: 0.9254 - val_loss: 0.2653 - val_sparse_categorical_accuracy: 0.9063\n",
            "Epoch 276/300\n",
            "782/782 [==============================] - 11s 14ms/step - loss: 0.1951 - sparse_categorical_accuracy: 0.9260 - val_loss: 0.2764 - val_sparse_categorical_accuracy: 0.9049\n",
            "Epoch 277/300\n",
            "782/782 [==============================] - 11s 14ms/step - loss: 0.1947 - sparse_categorical_accuracy: 0.9264 - val_loss: 0.2750 - val_sparse_categorical_accuracy: 0.9044\n",
            "Epoch 278/300\n",
            "782/782 [==============================] - 10s 13ms/step - loss: 0.1933 - sparse_categorical_accuracy: 0.9256 - val_loss: 0.2724 - val_sparse_categorical_accuracy: 0.9042\n",
            "Epoch 279/300\n",
            "782/782 [==============================] - 10s 13ms/step - loss: 0.1965 - sparse_categorical_accuracy: 0.9245 - val_loss: 0.2690 - val_sparse_categorical_accuracy: 0.9070\n",
            "Epoch 280/300\n",
            "782/782 [==============================] - 11s 14ms/step - loss: 0.1944 - sparse_categorical_accuracy: 0.9258 - val_loss: 0.2724 - val_sparse_categorical_accuracy: 0.9054\n",
            "Epoch 281/300\n",
            "782/782 [==============================] - 11s 14ms/step - loss: 0.1944 - sparse_categorical_accuracy: 0.9247 - val_loss: 0.2712 - val_sparse_categorical_accuracy: 0.9051\n",
            "Epoch 282/300\n",
            "782/782 [==============================] - 10s 13ms/step - loss: 0.1933 - sparse_categorical_accuracy: 0.9264 - val_loss: 0.2700 - val_sparse_categorical_accuracy: 0.9094\n",
            "Epoch 283/300\n",
            "782/782 [==============================] - 10s 13ms/step - loss: 0.1935 - sparse_categorical_accuracy: 0.9268 - val_loss: 0.2728 - val_sparse_categorical_accuracy: 0.9074\n",
            "Epoch 284/300\n",
            "782/782 [==============================] - 11s 14ms/step - loss: 0.1910 - sparse_categorical_accuracy: 0.9272 - val_loss: 0.2764 - val_sparse_categorical_accuracy: 0.9046\n",
            "Epoch 285/300\n",
            "782/782 [==============================] - 11s 14ms/step - loss: 0.1960 - sparse_categorical_accuracy: 0.9242 - val_loss: 0.2731 - val_sparse_categorical_accuracy: 0.9058\n",
            "Epoch 286/300\n",
            "782/782 [==============================] - 11s 14ms/step - loss: 0.1956 - sparse_categorical_accuracy: 0.9260 - val_loss: 0.2767 - val_sparse_categorical_accuracy: 0.9060\n",
            "Epoch 287/300\n",
            "782/782 [==============================] - 10s 13ms/step - loss: 0.1908 - sparse_categorical_accuracy: 0.9260 - val_loss: 0.2695 - val_sparse_categorical_accuracy: 0.9085\n",
            "Epoch 288/300\n",
            "782/782 [==============================] - 11s 14ms/step - loss: 0.1949 - sparse_categorical_accuracy: 0.9243 - val_loss: 0.2686 - val_sparse_categorical_accuracy: 0.9081\n",
            "Epoch 289/300\n",
            "782/782 [==============================] - 11s 14ms/step - loss: 0.1928 - sparse_categorical_accuracy: 0.9253 - val_loss: 0.2747 - val_sparse_categorical_accuracy: 0.9043\n",
            "Epoch 290/300\n",
            "782/782 [==============================] - 11s 14ms/step - loss: 0.1951 - sparse_categorical_accuracy: 0.9246 - val_loss: 0.2738 - val_sparse_categorical_accuracy: 0.9031\n",
            "Epoch 291/300\n",
            "782/782 [==============================] - 10s 13ms/step - loss: 0.1955 - sparse_categorical_accuracy: 0.9253 - val_loss: 0.2710 - val_sparse_categorical_accuracy: 0.9087\n",
            "Epoch 292/300\n",
            "782/782 [==============================] - 11s 14ms/step - loss: 0.1941 - sparse_categorical_accuracy: 0.9251 - val_loss: 0.2689 - val_sparse_categorical_accuracy: 0.9047\n",
            "Epoch 293/300\n",
            "782/782 [==============================] - 11s 14ms/step - loss: 0.1899 - sparse_categorical_accuracy: 0.9265 - val_loss: 0.2783 - val_sparse_categorical_accuracy: 0.9048\n",
            "Epoch 294/300\n",
            "782/782 [==============================] - 10s 13ms/step - loss: 0.1961 - sparse_categorical_accuracy: 0.9245 - val_loss: 0.2690 - val_sparse_categorical_accuracy: 0.9080\n",
            "Epoch 295/300\n",
            "782/782 [==============================] - 11s 14ms/step - loss: 0.1958 - sparse_categorical_accuracy: 0.9247 - val_loss: 0.2687 - val_sparse_categorical_accuracy: 0.9071\n",
            "Epoch 296/300\n",
            "782/782 [==============================] - 11s 15ms/step - loss: 0.1944 - sparse_categorical_accuracy: 0.9254 - val_loss: 0.2696 - val_sparse_categorical_accuracy: 0.9086\n",
            "Epoch 297/300\n",
            "782/782 [==============================] - 11s 14ms/step - loss: 0.1945 - sparse_categorical_accuracy: 0.9264 - val_loss: 0.2661 - val_sparse_categorical_accuracy: 0.9071\n",
            "Epoch 298/300\n",
            "782/782 [==============================] - 10s 13ms/step - loss: 0.1945 - sparse_categorical_accuracy: 0.9250 - val_loss: 0.2730 - val_sparse_categorical_accuracy: 0.9046\n",
            "Epoch 299/300\n",
            "782/782 [==============================] - 10s 13ms/step - loss: 0.1954 - sparse_categorical_accuracy: 0.9263 - val_loss: 0.2688 - val_sparse_categorical_accuracy: 0.9080\n",
            "Epoch 300/300\n",
            "782/782 [==============================] - 11s 14ms/step - loss: 0.1918 - sparse_categorical_accuracy: 0.9271 - val_loss: 0.2835 - val_sparse_categorical_accuracy: 0.9057\n",
            "313/313 [==============================] - 1s 3ms/step - loss: 0.3126 - sparse_categorical_accuracy: 0.8985\n",
            "\n",
            "Test accuracy: 0.8985000252723694\n"
          ]
        }
      ]
    },
    {
      "cell_type": "code",
      "source": [
        "print('\\nhistory dict:', list(history.history.keys()))"
      ],
      "metadata": {
        "id": "CxRE-B_Q6Sii",
        "colab": {
          "base_uri": "https://localhost:8080/"
        },
        "outputId": "f2cad733-ea49-4cb2-a450-3eea09110247"
      },
      "execution_count": 50,
      "outputs": [
        {
          "output_type": "stream",
          "name": "stdout",
          "text": [
            "\n",
            "history dict: ['loss', 'sparse_categorical_accuracy', 'val_loss', 'val_sparse_categorical_accuracy']\n"
          ]
        }
      ]
    },
    {
      "cell_type": "code",
      "source": [
        "result = model.evaluate(x_test, y_test)\n",
        "print(result)"
      ],
      "metadata": {
        "id": "YXpwRRTvTBNg",
        "colab": {
          "base_uri": "https://localhost:8080/"
        },
        "outputId": "61ba92bf-bfd4-470b-f4b6-50105ca3fa58"
      },
      "execution_count": 51,
      "outputs": [
        {
          "output_type": "stream",
          "name": "stdout",
          "text": [
            "313/313 [==============================] - 1s 3ms/step - loss: 0.3126 - sparse_categorical_accuracy: 0.8985\n",
            "[0.3126084506511688, 0.8985000252723694]\n"
          ]
        }
      ]
    },
    {
      "cell_type": "code",
      "source": [
        "# from keras.models import load_model\n",
        "# saved_model = load_model('best_model.h5')\n",
        "# # _, train_acc = saved_model.evaluate(x_train, y_train, verbose=0)\n",
        "# _, test_acc = saved_model.evaluate(x_test, y_test, verbose=0)\n",
        "# print('Test: %.3f' % (test_acc))"
      ],
      "metadata": {
        "id": "DR_MS9DABo_K"
      },
      "execution_count": 52,
      "outputs": []
    },
    {
      "cell_type": "code",
      "source": [
        "history_dict = history.history\n",
        "loss_values = history_dict['loss']\n",
        "val_loss_values = history_dict['val_loss']\n",
        "\n",
        "epochs = range(1, len(history_dict['loss']) + 1)\n",
        "\n",
        "plt.figure(figsize=(10, 5))\n",
        "plt.plot(epochs, loss_values, 'bo', label='Training loss')\n",
        "plt.plot(epochs, val_loss_values, 'r', label='Validation loss')\n",
        "plt.title('Training and validation loss')\n",
        "plt.xlabel('Epochs')\n",
        "plt.ylabel('Loss')\n",
        "# plt.legend()\n",
        "plt.grid(True)\n",
        "plt.show()\n",
        "\n",
        "plt.clf()\n",
        "plt.figure(figsize=(10, 5))\n",
        "val_acc_values = history_dict['sparse_categorical_accuracy']\n",
        "plt.plot(epochs, history_dict['sparse_categorical_accuracy'], 'bo', label='Training acc')\n",
        "plt.plot(epochs, history_dict['val_sparse_categorical_accuracy'], 'r', label='Validation acc')\n",
        "plt.title('Training and validation accuracy')\n",
        "plt.xlabel('Epochs')\n",
        "plt.ylabel('Accuracy')\n",
        "plt.legend()\n",
        "plt.grid(True)"
      ],
      "metadata": {
        "id": "2Ll_5sGlXKMH",
        "colab": {
          "base_uri": "https://localhost:8080/",
          "height": 975
        },
        "outputId": "e30f8824-002b-4ad5-dc21-f352ef9194b0"
      },
      "execution_count": 53,
      "outputs": [
        {
          "output_type": "display_data",
          "data": {
            "text/plain": [
              "<Figure size 1000x500 with 1 Axes>"
            ],
            "image/png": "[encoded data removed]"
          },
          "metadata": {}
        },
        {
          "output_type": "display_data",
          "data": {
            "text/plain": [
              "<Figure size 640x480 with 0 Axes>"
            ]
          },
          "metadata": {}
        },
        {
          "output_type": "display_data",
          "data": {
            "text/plain": [
              "<Figure size 1000x500 with 1 Axes>"
            ],
            "image/png": "[encoded data removed]"
          },
          "metadata": {}
        }
      ]
    },
    {
      "cell_type": "code",
      "source": [
        "probability_model = tf.keras.Sequential([model,\n",
        "                                         tf.keras.layers.Softmax()])"
      ],
      "metadata": {
        "id": "VzOdKAT_uV-f"
      },
      "execution_count": 54,
      "outputs": []
    },
    {
      "cell_type": "code",
      "source": [
        "predictions = probability_model.predict(x_test)"
      ],
      "metadata": {
        "id": "f4is3NFruYom",
        "colab": {
          "base_uri": "https://localhost:8080/"
        },
        "outputId": "67907b9a-7bf9-477a-cba8-7657bd2d3010"
      },
      "execution_count": 55,
      "outputs": [
        {
          "output_type": "stream",
          "name": "stdout",
          "text": [
            "313/313 [==============================] - 1s 3ms/step\n"
          ]
        }
      ]
    },
    {
      "cell_type": "code",
      "source": [
        "predictions[0]"
      ],
      "metadata": {
        "id": "82cigvlZudz_",
        "colab": {
          "base_uri": "https://localhost:8080/"
        },
        "outputId": "899bbe63-2a77-41af-c199-fb41955dd525"
      },
      "execution_count": 56,
      "outputs": [
        {
          "output_type": "execute_result",
          "data": {
            "text/plain": [
              "array([0.08534236, 0.08534236, 0.08534236, 0.08534236, 0.08534236,\n",
              "       0.08534475, 0.08534236, 0.08537831, 0.08534236, 0.2318804 ],\n",
              "      dtype=float32)"
            ]
          },
          "metadata": {},
          "execution_count": 56
        }
      ]
    },
    {
      "cell_type": "code",
      "source": [
        "model.summary()"
      ],
      "metadata": {
        "id": "6RsQPHyYuNGe",
        "colab": {
          "base_uri": "https://localhost:8080/"
        },
        "outputId": "778f8b34-73b4-430b-eb13-e80bac9203bd"
      },
      "execution_count": 57,
      "outputs": [
        {
          "output_type": "stream",
          "name": "stdout",
          "text": [
            "Model: \"sequential_4\"\n",
            "_________________________________________________________________\n",
            " Layer (type)                Output Shape              Param #   \n",
            "=================================================================\n",
            " flatten_2 (Flatten)         (None, 784)               0         \n",
            "                                                                 \n",
            " dropout_7 (Dropout)         (None, 784)               0         \n",
            "                                                                 \n",
            " dense_7 (Dense)             (None, 256)               200960    \n",
            "                                                                 \n",
            " batch_normalization_5 (Bat  (None, 256)               1024      \n",
            " chNormalization)                                                \n",
            "                                                                 \n",
            " dropout_8 (Dropout)         (None, 256)               0         \n",
            "                                                                 \n",
            " dense_8 (Dense)             (None, 512)               131584    \n",
            "                                                                 \n",
            " batch_normalization_6 (Bat  (None, 512)               2048      \n",
            " chNormalization)                                                \n",
            "                                                                 \n",
            " dropout_9 (Dropout)         (None, 512)               0         \n",
            "                                                                 \n",
            " dense_9 (Dense)             (None, 10)                5130      \n",
            "                                                                 \n",
            "=================================================================\n",
            "Total params: 340746 (1.30 MB)\n",
            "Trainable params: 339210 (1.29 MB)\n",
            "Non-trainable params: 1536 (6.00 KB)\n",
            "_________________________________________________________________\n"
          ]
        }
      ]
    }
  ]
}