{
  "nbformat": 4,
  "nbformat_minor": 0,
  "metadata": {
    "colab": {
      "provenance": [],
      "gpuType": "T4",
      "authorship_tag": "ABX9TyPWRBA9fL8woOYk4iUiYjEW",
      "include_colab_link": true
    },
    "kernelspec": {
      "name": "python3",
      "display_name": "Python 3"
    },
    "language_info": {
      "name": "python"
    },
    "accelerator": "GPU"
  },
  "cells": [
    {
      "cell_type": "markdown",
      "metadata": {
        "id": "view-in-github",
        "colab_type": "text"
      },
      "source": [
        "<a href=\"https://colab.research.google.com/github/PavelStelmakhV/hw310-keras-fasion-mnist/blob/main/keras_fasion_mnist_hw.ipynb\" target=\"_parent\"><img src=\"https://colab.research.google.com/assets/colab-badge.svg\" alt=\"Open In Colab\"/></a>"
      ]
    },
    {
      "cell_type": "code",
      "execution_count": 108,
      "metadata": {
        "id": "vv7w0bgAVQPO"
      },
      "outputs": [],
      "source": [
        "import tensorflow as tf\n",
        "import numpy as np\n",
        "import matplotlib.pyplot as plt\n",
        "import tf_keras\n",
        "\n",
        "from keras import layers\n",
        "from keras import regularizers\n",
        "from keras import callbacks\n",
        "from keras import initializers\n",
        "from keras.layers import BatchNormalization\n",
        "from keras.models import load_model"
      ]
    },
    {
      "cell_type": "code",
      "source": [
        "fashion_mnist = tf.keras.datasets.fashion_mnist\n",
        "\n",
        "(x_train, y_train), (x_test, y_test) = fashion_mnist.load_data()"
      ],
      "metadata": {
        "id": "mOpywsNAzfGB"
      },
      "execution_count": 109,
      "outputs": []
    },
    {
      "cell_type": "code",
      "source": [
        "# create validation data\n",
        "x_val = x_train[-10000:, :, :]\n",
        "x_train = x_train[:-10000, :, :]\n",
        "\n",
        "y_val = y_train[-10000:]\n",
        "y_train = y_train[:-10000]"
      ],
      "metadata": {
        "id": "jAs92sDoVU89"
      },
      "execution_count": 110,
      "outputs": []
    },
    {
      "cell_type": "code",
      "source": [
        "# mirror train image\n",
        "x_train_add = np.rot90(x_train, k=1, axes=(1,2))\n",
        "x_train_add = np.transpose(x_train_add, (0, 2, 1))"
      ],
      "metadata": {
        "id": "UHNuw-3D_v7x"
      },
      "execution_count": 111,
      "outputs": []
    },
    {
      "cell_type": "code",
      "source": [
        "y_train_add = y_train.copy()"
      ],
      "metadata": {
        "id": "TNDXV8RfZbt1"
      },
      "execution_count": 112,
      "outputs": []
    },
    {
      "cell_type": "code",
      "source": [
        "# remove boots image from addition data [5, 7, 9]\n",
        "for i in [5, 7, 9]:\n",
        "    index = np.where(y_train_add == i )\n",
        "    x_train_add = np.delete(x_train_add, index , axis=0)\n",
        "    y_train_add = np.delete(y_train_add, index , axis=0)"
      ],
      "metadata": {
        "id": "506yp4e5UqKp"
      },
      "execution_count": 113,
      "outputs": []
    },
    {
      "cell_type": "code",
      "source": [
        "x_train_add.shape"
      ],
      "metadata": {
        "colab": {
          "base_uri": "https://localhost:8080/"
        },
        "id": "WB-PVgBb116E",
        "outputId": "74387819-bba0-4056-8a0b-466d5f740d7c"
      },
      "execution_count": 114,
      "outputs": [
        {
          "output_type": "execute_result",
          "data": {
            "text/plain": [
              "(34972, 28, 28)"
            ]
          },
          "metadata": {},
          "execution_count": 114
        }
      ]
    },
    {
      "cell_type": "code",
      "source": [
        "y_train_add.shape"
      ],
      "metadata": {
        "colab": {
          "base_uri": "https://localhost:8080/"
        },
        "id": "MjteIWwr2V-N",
        "outputId": "2037d6cd-198a-49d4-f50b-d87fce52cac7"
      },
      "execution_count": 115,
      "outputs": [
        {
          "output_type": "execute_result",
          "data": {
            "text/plain": [
              "(34972,)"
            ]
          },
          "metadata": {},
          "execution_count": 115
        }
      ]
    },
    {
      "cell_type": "code",
      "source": [
        "x_train = np.concatenate([\n",
        "    x_train,\n",
        "    x_train_add\n",
        "])"
      ],
      "metadata": {
        "id": "C25g0-L5PuhV"
      },
      "execution_count": 116,
      "outputs": []
    },
    {
      "cell_type": "code",
      "source": [
        "y_train = np.concatenate([\n",
        "    y_train,\n",
        "    y_train_add\n",
        "])"
      ],
      "metadata": {
        "id": "JiyI9CE-RWnR"
      },
      "execution_count": 117,
      "outputs": []
    },
    {
      "cell_type": "code",
      "source": [
        "plt.figure()\n",
        "plt.imshow(x_train[1])\n",
        "plt.colorbar()\n",
        "plt.grid(False)\n",
        "plt.show()"
      ],
      "metadata": {
        "colab": {
          "base_uri": "https://localhost:8080/",
          "height": 430
        },
        "id": "mq_QalIABCeU",
        "outputId": "7f77ec88-5b0b-4076-c8be-9016772719b1"
      },
      "execution_count": 118,
      "outputs": [
        {
          "output_type": "display_data",
          "data": {
            "text/plain": [
              "<Figure size 640x480 with 2 Axes>"
            ],
            "image/png": "[encoded data removed]"
          },
          "metadata": {}
        }
      ]
    },
    {
      "cell_type": "code",
      "source": [
        "plt.figure()\n",
        "plt.imshow(x_train_add[0])\n",
        "plt.colorbar()\n",
        "plt.grid(False)\n",
        "plt.show()"
      ],
      "metadata": {
        "colab": {
          "base_uri": "https://localhost:8080/",
          "height": 430
        },
        "id": "CDLNL7Zw3HEc",
        "outputId": "e2ee29d3-368c-4259-8cea-df018e415d88"
      },
      "execution_count": 119,
      "outputs": [
        {
          "output_type": "display_data",
          "data": {
            "text/plain": [
              "<Figure size 640x480 with 2 Axes>"
            ],
            "image/png": "[encoded data removed]"
          },
          "metadata": {}
        }
      ]
    },
    {
      "cell_type": "code",
      "source": [
        "y_train[0]"
      ],
      "metadata": {
        "id": "wsP4Wjjp__SX",
        "outputId": "c14b6fe7-df04-470f-925c-42781603c263",
        "colab": {
          "base_uri": "https://localhost:8080/"
        }
      },
      "execution_count": 120,
      "outputs": [
        {
          "output_type": "execute_result",
          "data": {
            "text/plain": [
              "9"
            ]
          },
          "metadata": {},
          "execution_count": 120
        }
      ]
    },
    {
      "cell_type": "code",
      "source": [
        "y_train[50002]"
      ],
      "metadata": {
        "id": "CGosWf8dAI5S",
        "outputId": "766fe902-e1a5-4065-da34-0533194b3cfa",
        "colab": {
          "base_uri": "https://localhost:8080/"
        }
      },
      "execution_count": 121,
      "outputs": [
        {
          "output_type": "execute_result",
          "data": {
            "text/plain": [
              "3"
            ]
          },
          "metadata": {},
          "execution_count": 121
        }
      ]
    },
    {
      "cell_type": "code",
      "source": [
        "x_train = x_train.astype('float32') / 255\n",
        "x_test = x_test.astype('float32') / 255\n",
        "\n",
        "y_train = y_train.astype('float32')\n",
        "y_test = y_test.astype('float32')\n",
        "\n",
        "x_val = x_val.astype('float32') / 255\n",
        "y_val = y_val.astype('float32')"
      ],
      "metadata": {
        "id": "t2gucjsJ0KUi"
      },
      "execution_count": 122,
      "outputs": []
    },
    {
      "cell_type": "code",
      "source": [
        "w_init_tanh = initializers.glorot_normal(seed=111)\n",
        "# w_init_relu = initializers.HeNormal(seed=66)\n",
        "w_init_relu = initializers.HeUniform(seed=24)\n",
        "b_init = initializers.Zeros()"
      ],
      "metadata": {
        "id": "yL9QTEtBGy4N"
      },
      "execution_count": 123,
      "outputs": []
    },
    {
      "cell_type": "code",
      "source": [
        "drop_out = 0.33"
      ],
      "metadata": {
        "id": "flsDcVTnU10J"
      },
      "execution_count": 124,
      "outputs": []
    },
    {
      "cell_type": "code",
      "source": [
        "def layer_relu(model, neurons):\n",
        "  model.add(BatchNormalization())\n",
        "  model.add(layers.Dense(neurons,\n",
        "                       activation='relu',\n",
        "                       kernel_initializer=w_init_relu,\n",
        "                       bias_initializer=b_init))\n",
        "  model.add(layers.Dropout(drop_out))\n",
        "  return model"
      ],
      "metadata": {
        "id": "ZZgs_25rKBCp"
      },
      "execution_count": 125,
      "outputs": []
    },
    {
      "cell_type": "code",
      "source": [
        "def layer_tanh(model, neurons):\n",
        "  model.add(BatchNormalization())\n",
        "  model.add(layers.Dense(neurons,\n",
        "                        activation='tanh',\n",
        "                        kernel_initializer=w_init_tanh,\n",
        "                        bias_initializer=b_init))\n",
        "  model.add(layers.Dropout(drop_out))\n",
        "  return model"
      ],
      "metadata": {
        "id": "90JLLnkBR50t"
      },
      "execution_count": 126,
      "outputs": []
    },
    {
      "cell_type": "code",
      "source": [
        "model = tf.keras.Sequential()\n",
        "\n",
        "neurons = 256\n",
        "\n",
        "model.add(layers.Flatten(input_shape=(28, 28)))\n",
        "model.add(layers.Dropout(drop_out))\n",
        "\n",
        "model = layer_relu(model, neurons*1)\n",
        "model = layer_relu(model, neurons*2)\n",
        "model = layer_relu(model, neurons*2)\n",
        "# model = layer_relu(model, neurons*1)\n",
        "\n",
        "\n",
        "model.add(layers.Dense(10, activation='softmax'))"
      ],
      "metadata": {
        "id": "atS39i4d0aqW"
      },
      "execution_count": 127,
      "outputs": []
    },
    {
      "cell_type": "markdown",
      "source": [
        "++++++++++++++++++++++++++++++++++++++++++++++++++++++++++++++++++++++++++++++++"
      ],
      "metadata": {
        "id": "tZO7hl7pM63y"
      }
    },
    {
      "cell_type": "code",
      "source": [
        "optimizer = tf.keras.optimizers.Nadam(learning_rate=0.001,\n",
        "                                      beta_1=0.92,\n",
        "                                      beta_2=0.999,\n",
        "                                      epsilon=1e-04\n",
        ")"
      ],
      "metadata": {
        "id": "EzfnaqIZlfy8"
      },
      "execution_count": 128,
      "outputs": []
    },
    {
      "cell_type": "markdown",
      "source": [
        "++++++++++++++++++++++++++++++++++++++++++++++++++++++++++++++++++++++++++++++++"
      ],
      "metadata": {
        "id": "KHmBptvOM95Z"
      }
    },
    {
      "cell_type": "code",
      "source": [
        "model.compile(#optimizer='adam',\n",
        "              # optimizer='adamax',\n",
        "              optimizer=optimizer,\n",
        "              # optimizer='rmsprop',\n",
        "              # optimizer='sgd',\n",
        "              # optimizer='adadelta',\n",
        "              # loss='binary_crossentropy',\n",
        "              loss=tf.keras.losses.SparseCategoricalCrossentropy(),\n",
        "              metrics=['accuracy']) # sparse_categorical_accuracy"
      ],
      "metadata": {
        "id": "hENVaAC7ilNY"
      },
      "execution_count": 129,
      "outputs": []
    },
    {
      "cell_type": "code",
      "source": [
        "x = np.random.random((1, 28, 28))\n",
        "a = model.predict(x)\n",
        "_ = plt.hist(np.transpose(a))"
      ],
      "metadata": {
        "id": "RFgZHNNFMa8p",
        "outputId": "52a99a7c-c921-4875-f1a0-81905d96506d",
        "colab": {
          "base_uri": "https://localhost:8080/",
          "height": 448
        }
      },
      "execution_count": 130,
      "outputs": [
        {
          "output_type": "stream",
          "name": "stdout",
          "text": [
            "1/1 [==============================] - 0s 120ms/step\n"
          ]
        },
        {
          "output_type": "display_data",
          "data": {
            "text/plain": [
              "<Figure size 640x480 with 1 Axes>"
            ],
            "image/png": "[encoded data removed]"
          },
          "metadata": {}
        }
      ]
    },
    {
      "cell_type": "code",
      "source": [
        "y_pred = model.predict(x_test)"
      ],
      "metadata": {
        "id": "UDP8OKKZ8oQa",
        "outputId": "571690ae-b464-475b-b97b-6d769f1c3deb",
        "colab": {
          "base_uri": "https://localhost:8080/"
        }
      },
      "execution_count": 131,
      "outputs": [
        {
          "output_type": "stream",
          "name": "stdout",
          "text": [
            "313/313 [==============================] - 1s 3ms/step\n"
          ]
        }
      ]
    },
    {
      "cell_type": "code",
      "source": [
        "callback = callbacks.EarlyStopping(monitor='val_loss',\n",
        "                                   patience=50,\n",
        "                                   restore_best_weights=True,\n",
        "                                   )\n",
        "es = callbacks.EarlyStopping(monitor='val_loss', mode='min', verbose=0, patience=60)\n",
        "mc = callbacks.ModelCheckpoint('best_model.h5', monitor='accuracy', mode='max', verbose=0, save_best_only=True)\n"
      ],
      "metadata": {
        "id": "5ihU4exVlsjm"
      },
      "execution_count": 132,
      "outputs": []
    },
    {
      "cell_type": "code",
      "source": [
        "history = model.fit(x_train, y_train,\n",
        "                    epochs=660,\n",
        "                    batch_size=128,\n",
        "                    # callbacks=[callback],\n",
        "                    callbacks=[mc, es],\n",
        "                    verbose=1, #многословие\n",
        "                    # validation_split=0.2\n",
        "                    validation_data=(x_val, y_val)\n",
        "                    )\n",
        "test_loss, test_acc = model.evaluate(x_test, y_test)\n",
        "print('\\nTest accuracy:', test_acc)"
      ],
      "metadata": {
        "id": "FH8HcMNm233I",
        "outputId": "d8b8aa3c-5b4f-49ba-a729-bcd4978143ec",
        "colab": {
          "base_uri": "https://localhost:8080/"
        }
      },
      "execution_count": 133,
      "outputs": [
        {
          "output_type": "stream",
          "name": "stdout",
          "text": [
            "Epoch 1/660\n",
            "664/664 [==============================] - 32s 38ms/step - loss: 0.6729 - accuracy: 0.7578 - val_loss: 0.4014 - val_accuracy: 0.8517\n",
            "Epoch 2/660\n",
            "664/664 [==============================] - 16s 24ms/step - loss: 0.4894 - accuracy: 0.8175 - val_loss: 0.3742 - val_accuracy: 0.8624\n",
            "Epoch 3/660\n",
            "664/664 [==============================] - 15s 23ms/step - loss: 0.4513 - accuracy: 0.8307 - val_loss: 0.3548 - val_accuracy: 0.8700\n",
            "Epoch 4/660\n",
            "664/664 [==============================] - 15s 23ms/step - loss: 0.4273 - accuracy: 0.8404 - val_loss: 0.3468 - val_accuracy: 0.8684\n",
            "Epoch 5/660\n",
            "664/664 [==============================] - 16s 24ms/step - loss: 0.4114 - accuracy: 0.8449 - val_loss: 0.3261 - val_accuracy: 0.8800\n",
            "Epoch 6/660\n",
            "664/664 [==============================] - 16s 24ms/step - loss: 0.3964 - accuracy: 0.8516 - val_loss: 0.3230 - val_accuracy: 0.8811\n",
            "Epoch 7/660\n",
            "664/664 [==============================] - 15s 23ms/step - loss: 0.3859 - accuracy: 0.8556 - val_loss: 0.3140 - val_accuracy: 0.8856\n",
            "Epoch 8/660\n",
            "664/664 [==============================] - 15s 23ms/step - loss: 0.3745 - accuracy: 0.8590 - val_loss: 0.3106 - val_accuracy: 0.8850\n",
            "Epoch 9/660\n",
            "664/664 [==============================] - 16s 24ms/step - loss: 0.3702 - accuracy: 0.8614 - val_loss: 0.3097 - val_accuracy: 0.8858\n",
            "Epoch 10/660\n",
            "664/664 [==============================] - 15s 23ms/step - loss: 0.3617 - accuracy: 0.8644 - val_loss: 0.3011 - val_accuracy: 0.8887\n",
            "Epoch 11/660\n",
            "664/664 [==============================] - 15s 23ms/step - loss: 0.3569 - accuracy: 0.8658 - val_loss: 0.3026 - val_accuracy: 0.8891\n",
            "Epoch 12/660\n",
            "664/664 [==============================] - 15s 23ms/step - loss: 0.3499 - accuracy: 0.8674 - val_loss: 0.2951 - val_accuracy: 0.8914\n",
            "Epoch 13/660\n",
            "664/664 [==============================] - 16s 24ms/step - loss: 0.3465 - accuracy: 0.8690 - val_loss: 0.2948 - val_accuracy: 0.8888\n",
            "Epoch 14/660\n",
            "664/664 [==============================] - 15s 23ms/step - loss: 0.3397 - accuracy: 0.8704 - val_loss: 0.2869 - val_accuracy: 0.8955\n",
            "Epoch 15/660\n",
            "664/664 [==============================] - 16s 24ms/step - loss: 0.3361 - accuracy: 0.8729 - val_loss: 0.2879 - val_accuracy: 0.8902\n",
            "Epoch 16/660\n",
            "664/664 [==============================] - 15s 23ms/step - loss: 0.3331 - accuracy: 0.8731 - val_loss: 0.2891 - val_accuracy: 0.8901\n",
            "Epoch 17/660\n",
            "664/664 [==============================] - 15s 23ms/step - loss: 0.3292 - accuracy: 0.8745 - val_loss: 0.2886 - val_accuracy: 0.8927\n",
            "Epoch 18/660\n",
            "664/664 [==============================] - 15s 23ms/step - loss: 0.3242 - accuracy: 0.8766 - val_loss: 0.2830 - val_accuracy: 0.8937\n",
            "Epoch 19/660\n",
            "664/664 [==============================] - 15s 23ms/step - loss: 0.3212 - accuracy: 0.8776 - val_loss: 0.2934 - val_accuracy: 0.8932\n",
            "Epoch 20/660\n",
            "664/664 [==============================] - 15s 23ms/step - loss: 0.3189 - accuracy: 0.8786 - val_loss: 0.2889 - val_accuracy: 0.8931\n",
            "Epoch 21/660\n",
            "664/664 [==============================] - 15s 23ms/step - loss: 0.3153 - accuracy: 0.8801 - val_loss: 0.2855 - val_accuracy: 0.8951\n",
            "Epoch 22/660\n",
            "664/664 [==============================] - 16s 24ms/step - loss: 0.3121 - accuracy: 0.8812 - val_loss: 0.2869 - val_accuracy: 0.8918\n",
            "Epoch 23/660\n",
            "664/664 [==============================] - 15s 23ms/step - loss: 0.3097 - accuracy: 0.8821 - val_loss: 0.2776 - val_accuracy: 0.8973\n",
            "Epoch 24/660\n",
            "664/664 [==============================] - 15s 23ms/step - loss: 0.3081 - accuracy: 0.8825 - val_loss: 0.2837 - val_accuracy: 0.8969\n",
            "Epoch 25/660\n",
            "664/664 [==============================] - 15s 23ms/step - loss: 0.3057 - accuracy: 0.8835 - val_loss: 0.2778 - val_accuracy: 0.8994\n",
            "Epoch 26/660\n",
            "664/664 [==============================] - 16s 24ms/step - loss: 0.3023 - accuracy: 0.8846 - val_loss: 0.2833 - val_accuracy: 0.8945\n",
            "Epoch 27/660\n",
            "664/664 [==============================] - 16s 24ms/step - loss: 0.3021 - accuracy: 0.8844 - val_loss: 0.2856 - val_accuracy: 0.8973\n",
            "Epoch 28/660\n",
            "664/664 [==============================] - 15s 23ms/step - loss: 0.2978 - accuracy: 0.8860 - val_loss: 0.2842 - val_accuracy: 0.8967\n",
            "Epoch 29/660\n",
            "664/664 [==============================] - 15s 23ms/step - loss: 0.2972 - accuracy: 0.8855 - val_loss: 0.2757 - val_accuracy: 0.8984\n",
            "Epoch 30/660\n",
            "664/664 [==============================] - 16s 24ms/step - loss: 0.2947 - accuracy: 0.8865 - val_loss: 0.2759 - val_accuracy: 0.8982\n",
            "Epoch 31/660\n",
            "664/664 [==============================] - 15s 23ms/step - loss: 0.2929 - accuracy: 0.8875 - val_loss: 0.2803 - val_accuracy: 0.8984\n",
            "Epoch 32/660\n",
            "664/664 [==============================] - 15s 23ms/step - loss: 0.2911 - accuracy: 0.8881 - val_loss: 0.2791 - val_accuracy: 0.8976\n",
            "Epoch 33/660\n",
            "664/664 [==============================] - 15s 23ms/step - loss: 0.2897 - accuracy: 0.8891 - val_loss: 0.2711 - val_accuracy: 0.8998\n",
            "Epoch 34/660\n",
            "664/664 [==============================] - 15s 23ms/step - loss: 0.2868 - accuracy: 0.8902 - val_loss: 0.2743 - val_accuracy: 0.8985\n",
            "Epoch 35/660\n",
            "664/664 [==============================] - 16s 24ms/step - loss: 0.2858 - accuracy: 0.8899 - val_loss: 0.2763 - val_accuracy: 0.9001\n",
            "Epoch 36/660\n",
            "664/664 [==============================] - 15s 23ms/step - loss: 0.2861 - accuracy: 0.8907 - val_loss: 0.2794 - val_accuracy: 0.8984\n",
            "Epoch 37/660\n",
            "664/664 [==============================] - 15s 23ms/step - loss: 0.2831 - accuracy: 0.8913 - val_loss: 0.2702 - val_accuracy: 0.9011\n",
            "Epoch 38/660\n",
            "664/664 [==============================] - 15s 23ms/step - loss: 0.2816 - accuracy: 0.8917 - val_loss: 0.2752 - val_accuracy: 0.8989\n",
            "Epoch 39/660\n",
            "664/664 [==============================] - 17s 26ms/step - loss: 0.2798 - accuracy: 0.8927 - val_loss: 0.2769 - val_accuracy: 0.8999\n",
            "Epoch 40/660\n",
            "664/664 [==============================] - 15s 23ms/step - loss: 0.2789 - accuracy: 0.8932 - val_loss: 0.2802 - val_accuracy: 0.9016\n",
            "Epoch 41/660\n",
            "664/664 [==============================] - 15s 23ms/step - loss: 0.2783 - accuracy: 0.8928 - val_loss: 0.2730 - val_accuracy: 0.9004\n",
            "Epoch 42/660\n",
            "664/664 [==============================] - 15s 23ms/step - loss: 0.2781 - accuracy: 0.8936 - val_loss: 0.2768 - val_accuracy: 0.8976\n",
            "Epoch 43/660\n",
            "664/664 [==============================] - 16s 24ms/step - loss: 0.2769 - accuracy: 0.8934 - val_loss: 0.2772 - val_accuracy: 0.9015\n",
            "Epoch 44/660\n",
            "664/664 [==============================] - 15s 23ms/step - loss: 0.2759 - accuracy: 0.8937 - val_loss: 0.2759 - val_accuracy: 0.8988\n",
            "Epoch 45/660\n",
            "664/664 [==============================] - 15s 23ms/step - loss: 0.2740 - accuracy: 0.8938 - val_loss: 0.2716 - val_accuracy: 0.9017\n",
            "Epoch 46/660\n",
            "664/664 [==============================] - 15s 23ms/step - loss: 0.2719 - accuracy: 0.8956 - val_loss: 0.2742 - val_accuracy: 0.9012\n",
            "Epoch 47/660\n",
            "664/664 [==============================] - 16s 24ms/step - loss: 0.2711 - accuracy: 0.8955 - val_loss: 0.2735 - val_accuracy: 0.9015\n",
            "Epoch 48/660\n",
            "664/664 [==============================] - 16s 23ms/step - loss: 0.2709 - accuracy: 0.8964 - val_loss: 0.2791 - val_accuracy: 0.9017\n",
            "Epoch 49/660\n",
            "664/664 [==============================] - 15s 23ms/step - loss: 0.2678 - accuracy: 0.8975 - val_loss: 0.2705 - val_accuracy: 0.9010\n",
            "Epoch 50/660\n",
            "664/664 [==============================] - 15s 23ms/step - loss: 0.2688 - accuracy: 0.8959 - val_loss: 0.2796 - val_accuracy: 0.9011\n",
            "Epoch 51/660\n",
            "664/664 [==============================] - 15s 23ms/step - loss: 0.2669 - accuracy: 0.8973 - val_loss: 0.2806 - val_accuracy: 0.9005\n",
            "Epoch 52/660\n",
            "664/664 [==============================] - 17s 25ms/step - loss: 0.2661 - accuracy: 0.8978 - val_loss: 0.2726 - val_accuracy: 0.9017\n",
            "Epoch 53/660\n",
            "664/664 [==============================] - 15s 23ms/step - loss: 0.2655 - accuracy: 0.8969 - val_loss: 0.2717 - val_accuracy: 0.9002\n",
            "Epoch 54/660\n",
            "664/664 [==============================] - 15s 23ms/step - loss: 0.2616 - accuracy: 0.8984 - val_loss: 0.2722 - val_accuracy: 0.9030\n",
            "Epoch 55/660\n",
            "664/664 [==============================] - 15s 23ms/step - loss: 0.2624 - accuracy: 0.8981 - val_loss: 0.2813 - val_accuracy: 0.8991\n",
            "Epoch 56/660\n",
            "664/664 [==============================] - 16s 24ms/step - loss: 0.2638 - accuracy: 0.8995 - val_loss: 0.2695 - val_accuracy: 0.9041\n",
            "Epoch 57/660\n",
            "664/664 [==============================] - 15s 23ms/step - loss: 0.2635 - accuracy: 0.8993 - val_loss: 0.2750 - val_accuracy: 0.9037\n",
            "Epoch 58/660\n",
            "664/664 [==============================] - 15s 23ms/step - loss: 0.2610 - accuracy: 0.8992 - val_loss: 0.2726 - val_accuracy: 0.9045\n",
            "Epoch 59/660\n",
            "664/664 [==============================] - 15s 23ms/step - loss: 0.2586 - accuracy: 0.9012 - val_loss: 0.2731 - val_accuracy: 0.9022\n",
            "Epoch 60/660\n",
            "664/664 [==============================] - 16s 24ms/step - loss: 0.2601 - accuracy: 0.9003 - val_loss: 0.2747 - val_accuracy: 0.9035\n",
            "Epoch 61/660\n",
            "664/664 [==============================] - 15s 23ms/step - loss: 0.2592 - accuracy: 0.8991 - val_loss: 0.2696 - val_accuracy: 0.9032\n",
            "Epoch 62/660\n",
            "664/664 [==============================] - 15s 23ms/step - loss: 0.2579 - accuracy: 0.9009 - val_loss: 0.2836 - val_accuracy: 0.9008\n",
            "Epoch 63/660\n",
            "664/664 [==============================] - 15s 23ms/step - loss: 0.2575 - accuracy: 0.9021 - val_loss: 0.2714 - val_accuracy: 0.9044\n",
            "Epoch 64/660\n",
            "664/664 [==============================] - 17s 25ms/step - loss: 0.2568 - accuracy: 0.9014 - val_loss: 0.2771 - val_accuracy: 0.9037\n",
            "Epoch 65/660\n",
            "664/664 [==============================] - 16s 24ms/step - loss: 0.2567 - accuracy: 0.9003 - val_loss: 0.2793 - val_accuracy: 0.9029\n",
            "Epoch 66/660\n",
            "664/664 [==============================] - 16s 23ms/step - loss: 0.2540 - accuracy: 0.9020 - val_loss: 0.2724 - val_accuracy: 0.9034\n",
            "Epoch 67/660\n",
            "664/664 [==============================] - 16s 23ms/step - loss: 0.2525 - accuracy: 0.9030 - val_loss: 0.2721 - val_accuracy: 0.9048\n",
            "Epoch 68/660\n",
            "664/664 [==============================] - 17s 25ms/step - loss: 0.2528 - accuracy: 0.9026 - val_loss: 0.2743 - val_accuracy: 0.9031\n",
            "Epoch 69/660\n",
            "664/664 [==============================] - 16s 25ms/step - loss: 0.2525 - accuracy: 0.9028 - val_loss: 0.2769 - val_accuracy: 0.9037\n",
            "Epoch 70/660\n",
            "664/664 [==============================] - 16s 24ms/step - loss: 0.2513 - accuracy: 0.9027 - val_loss: 0.2760 - val_accuracy: 0.9045\n",
            "Epoch 71/660\n",
            "664/664 [==============================] - 16s 24ms/step - loss: 0.2504 - accuracy: 0.9042 - val_loss: 0.2770 - val_accuracy: 0.9040\n",
            "Epoch 72/660\n",
            "664/664 [==============================] - 16s 24ms/step - loss: 0.2505 - accuracy: 0.9033 - val_loss: 0.2736 - val_accuracy: 0.9033\n",
            "Epoch 73/660\n",
            "664/664 [==============================] - 16s 24ms/step - loss: 0.2498 - accuracy: 0.9034 - val_loss: 0.2691 - val_accuracy: 0.9063\n",
            "Epoch 74/660\n",
            "664/664 [==============================] - 15s 23ms/step - loss: 0.2471 - accuracy: 0.9055 - val_loss: 0.2790 - val_accuracy: 0.9016\n",
            "Epoch 75/660\n",
            "664/664 [==============================] - 17s 26ms/step - loss: 0.2462 - accuracy: 0.9041 - val_loss: 0.2747 - val_accuracy: 0.9047\n",
            "Epoch 76/660\n",
            "664/664 [==============================] - 16s 24ms/step - loss: 0.2487 - accuracy: 0.9039 - val_loss: 0.2732 - val_accuracy: 0.9018\n",
            "Epoch 77/660\n",
            "664/664 [==============================] - 15s 23ms/step - loss: 0.2480 - accuracy: 0.9027 - val_loss: 0.2722 - val_accuracy: 0.9045\n",
            "Epoch 78/660\n",
            "664/664 [==============================] - 15s 23ms/step - loss: 0.2467 - accuracy: 0.9049 - val_loss: 0.2812 - val_accuracy: 0.9047\n",
            "Epoch 79/660\n",
            "664/664 [==============================] - 16s 24ms/step - loss: 0.2451 - accuracy: 0.9055 - val_loss: 0.2752 - val_accuracy: 0.9061\n",
            "Epoch 80/660\n",
            "664/664 [==============================] - 15s 23ms/step - loss: 0.2457 - accuracy: 0.9042 - val_loss: 0.2721 - val_accuracy: 0.9057\n",
            "Epoch 81/660\n",
            "664/664 [==============================] - 15s 23ms/step - loss: 0.2459 - accuracy: 0.9047 - val_loss: 0.2761 - val_accuracy: 0.9053\n",
            "Epoch 82/660\n",
            "664/664 [==============================] - 15s 23ms/step - loss: 0.2449 - accuracy: 0.9046 - val_loss: 0.2707 - val_accuracy: 0.9023\n",
            "Epoch 83/660\n",
            "664/664 [==============================] - 16s 24ms/step - loss: 0.2424 - accuracy: 0.9058 - val_loss: 0.2718 - val_accuracy: 0.9045\n",
            "Epoch 84/660\n",
            "664/664 [==============================] - 16s 24ms/step - loss: 0.2417 - accuracy: 0.9059 - val_loss: 0.2702 - val_accuracy: 0.9038\n",
            "Epoch 85/660\n",
            "664/664 [==============================] - 15s 23ms/step - loss: 0.2420 - accuracy: 0.9053 - val_loss: 0.2695 - val_accuracy: 0.9075\n",
            "Epoch 86/660\n",
            "664/664 [==============================] - 15s 23ms/step - loss: 0.2444 - accuracy: 0.9057 - val_loss: 0.2686 - val_accuracy: 0.9056\n",
            "Epoch 87/660\n",
            "664/664 [==============================] - 17s 25ms/step - loss: 0.2409 - accuracy: 0.9072 - val_loss: 0.2806 - val_accuracy: 0.9039\n",
            "Epoch 88/660\n",
            "664/664 [==============================] - 16s 24ms/step - loss: 0.2412 - accuracy: 0.9062 - val_loss: 0.2708 - val_accuracy: 0.9064\n",
            "Epoch 89/660\n",
            "664/664 [==============================] - 15s 23ms/step - loss: 0.2405 - accuracy: 0.9075 - val_loss: 0.2839 - val_accuracy: 0.9039\n",
            "Epoch 90/660\n",
            "664/664 [==============================] - 15s 23ms/step - loss: 0.2396 - accuracy: 0.9079 - val_loss: 0.2801 - val_accuracy: 0.9053\n",
            "Epoch 91/660\n",
            "664/664 [==============================] - 15s 23ms/step - loss: 0.2380 - accuracy: 0.9076 - val_loss: 0.2728 - val_accuracy: 0.9061\n",
            "Epoch 92/660\n",
            "664/664 [==============================] - 16s 24ms/step - loss: 0.2406 - accuracy: 0.9075 - val_loss: 0.2749 - val_accuracy: 0.9058\n",
            "Epoch 93/660\n",
            "664/664 [==============================] - 15s 23ms/step - loss: 0.2391 - accuracy: 0.9081 - val_loss: 0.2781 - val_accuracy: 0.9053\n",
            "Epoch 94/660\n",
            "664/664 [==============================] - 15s 23ms/step - loss: 0.2379 - accuracy: 0.9084 - val_loss: 0.2715 - val_accuracy: 0.9069\n",
            "Epoch 95/660\n",
            "664/664 [==============================] - 16s 23ms/step - loss: 0.2369 - accuracy: 0.9090 - val_loss: 0.2711 - val_accuracy: 0.9068\n",
            "Epoch 96/660\n",
            "664/664 [==============================] - 16s 24ms/step - loss: 0.2383 - accuracy: 0.9078 - val_loss: 0.2758 - val_accuracy: 0.9057\n",
            "Epoch 97/660\n",
            "664/664 [==============================] - 15s 23ms/step - loss: 0.2335 - accuracy: 0.9102 - val_loss: 0.2811 - val_accuracy: 0.9045\n",
            "Epoch 98/660\n",
            "664/664 [==============================] - 16s 25ms/step - loss: 0.2359 - accuracy: 0.9082 - val_loss: 0.2760 - val_accuracy: 0.9034\n",
            "Epoch 99/660\n",
            "664/664 [==============================] - 16s 24ms/step - loss: 0.2371 - accuracy: 0.9094 - val_loss: 0.2729 - val_accuracy: 0.9043\n",
            "Epoch 100/660\n",
            "664/664 [==============================] - 16s 24ms/step - loss: 0.2377 - accuracy: 0.9078 - val_loss: 0.2713 - val_accuracy: 0.9062\n",
            "Epoch 101/660\n",
            "664/664 [==============================] - 15s 23ms/step - loss: 0.2339 - accuracy: 0.9092 - val_loss: 0.2737 - val_accuracy: 0.9065\n",
            "Epoch 102/660\n",
            "664/664 [==============================] - 15s 23ms/step - loss: 0.2363 - accuracy: 0.9083 - val_loss: 0.2683 - val_accuracy: 0.9066\n",
            "Epoch 103/660\n",
            "664/664 [==============================] - 16s 24ms/step - loss: 0.2334 - accuracy: 0.9098 - val_loss: 0.2733 - val_accuracy: 0.9064\n",
            "Epoch 104/660\n",
            "664/664 [==============================] - 16s 24ms/step - loss: 0.2346 - accuracy: 0.9089 - val_loss: 0.2799 - val_accuracy: 0.9036\n",
            "Epoch 105/660\n",
            "664/664 [==============================] - 16s 23ms/step - loss: 0.2345 - accuracy: 0.9086 - val_loss: 0.2753 - val_accuracy: 0.9037\n",
            "Epoch 106/660\n",
            "664/664 [==============================] - 15s 23ms/step - loss: 0.2317 - accuracy: 0.9091 - val_loss: 0.2818 - val_accuracy: 0.9033\n",
            "Epoch 107/660\n",
            "664/664 [==============================] - 16s 24ms/step - loss: 0.2319 - accuracy: 0.9107 - val_loss: 0.2735 - val_accuracy: 0.9040\n",
            "Epoch 108/660\n",
            "664/664 [==============================] - 16s 24ms/step - loss: 0.2316 - accuracy: 0.9103 - val_loss: 0.2801 - val_accuracy: 0.9039\n",
            "Epoch 109/660\n",
            "664/664 [==============================] - 16s 23ms/step - loss: 0.2323 - accuracy: 0.9104 - val_loss: 0.2789 - val_accuracy: 0.9026\n",
            "Epoch 110/660\n",
            "664/664 [==============================] - 17s 25ms/step - loss: 0.2326 - accuracy: 0.9109 - val_loss: 0.2733 - val_accuracy: 0.9047\n",
            "Epoch 111/660\n",
            "664/664 [==============================] - 16s 24ms/step - loss: 0.2305 - accuracy: 0.9102 - val_loss: 0.2763 - val_accuracy: 0.9053\n",
            "Epoch 112/660\n",
            "664/664 [==============================] - 16s 23ms/step - loss: 0.2320 - accuracy: 0.9107 - val_loss: 0.2739 - val_accuracy: 0.9062\n",
            "Epoch 113/660\n",
            "664/664 [==============================] - 16s 23ms/step - loss: 0.2327 - accuracy: 0.9098 - val_loss: 0.2756 - val_accuracy: 0.9055\n",
            "Epoch 114/660\n",
            "664/664 [==============================] - 15s 23ms/step - loss: 0.2276 - accuracy: 0.9120 - val_loss: 0.2775 - val_accuracy: 0.9056\n",
            "Epoch 115/660\n",
            "664/664 [==============================] - 16s 25ms/step - loss: 0.2297 - accuracy: 0.9107 - val_loss: 0.2782 - val_accuracy: 0.9068\n",
            "Epoch 116/660\n",
            "664/664 [==============================] - 16s 24ms/step - loss: 0.2284 - accuracy: 0.9131 - val_loss: 0.2693 - val_accuracy: 0.9060\n",
            "Epoch 117/660\n",
            "664/664 [==============================] - 16s 24ms/step - loss: 0.2315 - accuracy: 0.9106 - val_loss: 0.2690 - val_accuracy: 0.9067\n",
            "Epoch 118/660\n",
            "664/664 [==============================] - 15s 23ms/step - loss: 0.2256 - accuracy: 0.9131 - val_loss: 0.2769 - val_accuracy: 0.9059\n",
            "Epoch 119/660\n",
            "664/664 [==============================] - 16s 25ms/step - loss: 0.2272 - accuracy: 0.9120 - val_loss: 0.2783 - val_accuracy: 0.9047\n",
            "Epoch 120/660\n",
            "664/664 [==============================] - 16s 24ms/step - loss: 0.2269 - accuracy: 0.9125 - val_loss: 0.2786 - val_accuracy: 0.9063\n",
            "Epoch 121/660\n",
            "664/664 [==============================] - 17s 25ms/step - loss: 0.2273 - accuracy: 0.9121 - val_loss: 0.2730 - val_accuracy: 0.9062\n",
            "Epoch 122/660\n",
            "664/664 [==============================] - 16s 24ms/step - loss: 0.2246 - accuracy: 0.9136 - val_loss: 0.2765 - val_accuracy: 0.9069\n",
            "Epoch 123/660\n",
            "664/664 [==============================] - 16s 24ms/step - loss: 0.2259 - accuracy: 0.9109 - val_loss: 0.2739 - val_accuracy: 0.9048\n",
            "Epoch 124/660\n",
            "664/664 [==============================] - 15s 23ms/step - loss: 0.2261 - accuracy: 0.9131 - val_loss: 0.2730 - val_accuracy: 0.9064\n",
            "Epoch 125/660\n",
            "664/664 [==============================] - 15s 23ms/step - loss: 0.2287 - accuracy: 0.9101 - val_loss: 0.2707 - val_accuracy: 0.9077\n",
            "Epoch 126/660\n",
            "664/664 [==============================] - 16s 24ms/step - loss: 0.2251 - accuracy: 0.9136 - val_loss: 0.2718 - val_accuracy: 0.9052\n",
            "Epoch 127/660\n",
            "664/664 [==============================] - 16s 24ms/step - loss: 0.2237 - accuracy: 0.9131 - val_loss: 0.2799 - val_accuracy: 0.9042\n",
            "Epoch 128/660\n",
            "664/664 [==============================] - 15s 23ms/step - loss: 0.2245 - accuracy: 0.9129 - val_loss: 0.2759 - val_accuracy: 0.9055\n",
            "Epoch 129/660\n",
            "664/664 [==============================] - 15s 23ms/step - loss: 0.2248 - accuracy: 0.9132 - val_loss: 0.2720 - val_accuracy: 0.9075\n",
            "Epoch 130/660\n",
            "664/664 [==============================] - 16s 23ms/step - loss: 0.2230 - accuracy: 0.9134 - val_loss: 0.2772 - val_accuracy: 0.9057\n",
            "Epoch 131/660\n",
            "664/664 [==============================] - 16s 25ms/step - loss: 0.2248 - accuracy: 0.9135 - val_loss: 0.2857 - val_accuracy: 0.9057\n",
            "Epoch 132/660\n",
            "664/664 [==============================] - 16s 25ms/step - loss: 0.2246 - accuracy: 0.9138 - val_loss: 0.2783 - val_accuracy: 0.9083\n",
            "Epoch 133/660\n",
            "664/664 [==============================] - 16s 23ms/step - loss: 0.2219 - accuracy: 0.9137 - val_loss: 0.2788 - val_accuracy: 0.9060\n",
            "Epoch 134/660\n",
            "664/664 [==============================] - 16s 24ms/step - loss: 0.2215 - accuracy: 0.9137 - val_loss: 0.2821 - val_accuracy: 0.9032\n",
            "Epoch 135/660\n",
            "664/664 [==============================] - 16s 23ms/step - loss: 0.2219 - accuracy: 0.9150 - val_loss: 0.2799 - val_accuracy: 0.9054\n",
            "Epoch 136/660\n",
            "664/664 [==============================] - 16s 23ms/step - loss: 0.2228 - accuracy: 0.9131 - val_loss: 0.2761 - val_accuracy: 0.9080\n",
            "Epoch 137/660\n",
            "664/664 [==============================] - 16s 23ms/step - loss: 0.2211 - accuracy: 0.9151 - val_loss: 0.2862 - val_accuracy: 0.9046\n",
            "Epoch 138/660\n",
            "664/664 [==============================] - 16s 24ms/step - loss: 0.2213 - accuracy: 0.9141 - val_loss: 0.2781 - val_accuracy: 0.9058\n",
            "Epoch 139/660\n",
            "664/664 [==============================] - 16s 24ms/step - loss: 0.2212 - accuracy: 0.9152 - val_loss: 0.2851 - val_accuracy: 0.9062\n",
            "Epoch 140/660\n",
            "664/664 [==============================] - 15s 23ms/step - loss: 0.2216 - accuracy: 0.9142 - val_loss: 0.2805 - val_accuracy: 0.9064\n",
            "Epoch 141/660\n",
            "664/664 [==============================] - 15s 23ms/step - loss: 0.2206 - accuracy: 0.9138 - val_loss: 0.2844 - val_accuracy: 0.9057\n",
            "Epoch 142/660\n",
            "664/664 [==============================] - 16s 23ms/step - loss: 0.2228 - accuracy: 0.9134 - val_loss: 0.2753 - val_accuracy: 0.9069\n",
            "Epoch 143/660\n",
            "664/664 [==============================] - 16s 24ms/step - loss: 0.2211 - accuracy: 0.9146 - val_loss: 0.2904 - val_accuracy: 0.9045\n",
            "Epoch 144/660\n",
            "664/664 [==============================] - 16s 25ms/step - loss: 0.2215 - accuracy: 0.9146 - val_loss: 0.2759 - val_accuracy: 0.9039\n",
            "Epoch 145/660\n",
            "664/664 [==============================] - 16s 23ms/step - loss: 0.2195 - accuracy: 0.9144 - val_loss: 0.2786 - val_accuracy: 0.9055\n",
            "Epoch 146/660\n",
            "664/664 [==============================] - 16s 24ms/step - loss: 0.2190 - accuracy: 0.9156 - val_loss: 0.2797 - val_accuracy: 0.9079\n",
            "Epoch 147/660\n",
            "664/664 [==============================] - 16s 24ms/step - loss: 0.2168 - accuracy: 0.9163 - val_loss: 0.2819 - val_accuracy: 0.9054\n",
            "Epoch 148/660\n",
            "664/664 [==============================] - 16s 23ms/step - loss: 0.2197 - accuracy: 0.9150 - val_loss: 0.2796 - val_accuracy: 0.9077\n",
            "Epoch 149/660\n",
            "664/664 [==============================] - 16s 23ms/step - loss: 0.2189 - accuracy: 0.9159 - val_loss: 0.2801 - val_accuracy: 0.9076\n",
            "Epoch 150/660\n",
            "664/664 [==============================] - 16s 24ms/step - loss: 0.2161 - accuracy: 0.9154 - val_loss: 0.2820 - val_accuracy: 0.9053\n",
            "Epoch 151/660\n",
            "664/664 [==============================] - 16s 23ms/step - loss: 0.2173 - accuracy: 0.9154 - val_loss: 0.2834 - val_accuracy: 0.9069\n",
            "Epoch 152/660\n",
            "664/664 [==============================] - 16s 23ms/step - loss: 0.2175 - accuracy: 0.9160 - val_loss: 0.2942 - val_accuracy: 0.9053\n",
            "Epoch 153/660\n",
            "664/664 [==============================] - 16s 23ms/step - loss: 0.2165 - accuracy: 0.9163 - val_loss: 0.2779 - val_accuracy: 0.9051\n",
            "Epoch 154/660\n",
            "664/664 [==============================] - 16s 24ms/step - loss: 0.2165 - accuracy: 0.9147 - val_loss: 0.2820 - val_accuracy: 0.9067\n",
            "Epoch 155/660\n",
            "664/664 [==============================] - 17s 25ms/step - loss: 0.2157 - accuracy: 0.9157 - val_loss: 0.2839 - val_accuracy: 0.9078\n",
            "Epoch 156/660\n",
            "664/664 [==============================] - 15s 23ms/step - loss: 0.2176 - accuracy: 0.9159 - val_loss: 0.2790 - val_accuracy: 0.9074\n",
            "Epoch 157/660\n",
            "664/664 [==============================] - 16s 23ms/step - loss: 0.2171 - accuracy: 0.9156 - val_loss: 0.2821 - val_accuracy: 0.9068\n",
            "Epoch 158/660\n",
            "664/664 [==============================] - 16s 24ms/step - loss: 0.2207 - accuracy: 0.9149 - val_loss: 0.2881 - val_accuracy: 0.9043\n",
            "Epoch 159/660\n",
            "664/664 [==============================] - 16s 24ms/step - loss: 0.2134 - accuracy: 0.9182 - val_loss: 0.2823 - val_accuracy: 0.9049\n",
            "Epoch 160/660\n",
            "664/664 [==============================] - 16s 23ms/step - loss: 0.2172 - accuracy: 0.9157 - val_loss: 0.2823 - val_accuracy: 0.9057\n",
            "Epoch 161/660\n",
            "664/664 [==============================] - 16s 23ms/step - loss: 0.2147 - accuracy: 0.9181 - val_loss: 0.2744 - val_accuracy: 0.9056\n",
            "Epoch 162/660\n",
            "664/664 [==============================] - 16s 24ms/step - loss: 0.2150 - accuracy: 0.9169 - val_loss: 0.2779 - val_accuracy: 0.9073\n",
            "313/313 [==============================] - 1s 3ms/step - loss: 0.2940 - accuracy: 0.9026\n",
            "\n",
            "Test accuracy: 0.9025999903678894\n"
          ]
        }
      ]
    },
    {
      "cell_type": "code",
      "source": [
        "print('\\nhistory dict:', list(history.history.keys()))"
      ],
      "metadata": {
        "id": "CxRE-B_Q6Sii",
        "colab": {
          "base_uri": "https://localhost:8080/"
        },
        "outputId": "28c03606-5897-4bf4-ed52-c0f9effa99eb"
      },
      "execution_count": 134,
      "outputs": [
        {
          "output_type": "stream",
          "name": "stdout",
          "text": [
            "\n",
            "history dict: ['loss', 'accuracy', 'val_loss', 'val_accuracy']\n"
          ]
        }
      ]
    },
    {
      "cell_type": "code",
      "source": [
        "result = model.evaluate(x_test, y_test)\n",
        "print(result)"
      ],
      "metadata": {
        "id": "YXpwRRTvTBNg",
        "colab": {
          "base_uri": "https://localhost:8080/"
        },
        "outputId": "282a38a1-aba5-40cf-84bc-279b33c04ad0"
      },
      "execution_count": 135,
      "outputs": [
        {
          "output_type": "stream",
          "name": "stdout",
          "text": [
            "313/313 [==============================] - 2s 5ms/step - loss: 0.2940 - accuracy: 0.9026\n",
            "[0.29402387142181396, 0.9025999903678894]\n"
          ]
        }
      ]
    },
    {
      "cell_type": "code",
      "source": [
        "saved_model = load_model('best_model.h5')\n",
        "result = saved_model.evaluate(x_test, y_test)\n",
        "print(result)"
      ],
      "metadata": {
        "id": "dpaZAW0vp1AZ",
        "colab": {
          "base_uri": "https://localhost:8080/"
        },
        "outputId": "f53702ca-09b9-4854-bc64-0ff65c97ff46"
      },
      "execution_count": 136,
      "outputs": [
        {
          "output_type": "stream",
          "name": "stdout",
          "text": [
            "313/313 [==============================] - 1s 3ms/step - loss: 0.3032 - accuracy: 0.9002\n",
            "[0.30315443873405457, 0.9002000093460083]\n"
          ]
        }
      ]
    },
    {
      "cell_type": "code",
      "source": [
        "# from keras.models import load_model\n",
        "# saved_model = load_model('best_model.h5')\n",
        "# # _, train_acc = saved_model.evaluate(x_train, y_train, verbose=0)\n",
        "# _, test_acc = saved_model.evaluate(x_test, y_test, verbose=0)\n",
        "# print('Test: %.3f' % (test_acc))"
      ],
      "metadata": {
        "id": "DR_MS9DABo_K"
      },
      "execution_count": 137,
      "outputs": []
    },
    {
      "cell_type": "code",
      "source": [
        "history_dict = history.history\n",
        "loss_values = history_dict['loss']\n",
        "val_loss_values = history_dict['val_loss']\n",
        "\n",
        "epochs = range(1, len(history_dict['loss']) + 1)\n",
        "\n",
        "plt.figure(figsize=(10, 5))\n",
        "plt.plot(epochs, loss_values, 'bo', label='Training loss')\n",
        "plt.plot(epochs, val_loss_values, 'r', label='Validation loss')\n",
        "plt.ylim (0.2, 0.5)\n",
        "plt.title('Training and validation loss')\n",
        "plt.xlabel('Epochs')\n",
        "plt.ylabel('Loss')\n",
        "plt.legend()\n",
        "plt.grid(True)\n",
        "plt.show()\n",
        "1\n",
        "plt.clf()\n",
        "plt.figure(figsize=(10, 5))\n",
        "val_acc_values = history_dict['accuracy']\n",
        "plt.plot(epochs, history_dict['accuracy'], 'bo', label='Training acc')\n",
        "plt.plot(epochs, history_dict['val_accuracy'], 'r', label='Validation acc')\n",
        "plt.ylim (0.88, 0.92)\n",
        "plt.title('Training and validation accuracy')\n",
        "plt.xlabel('Epochs')\n",
        "plt.ylabel('Accuracy')\n",
        "plt.legend()\n",
        "plt.grid(True)"
      ],
      "metadata": {
        "id": "2Ll_5sGlXKMH",
        "colab": {
          "base_uri": "https://localhost:8080/",
          "height": 975
        },
        "outputId": "96531ba3-4f5a-4ff8-e321-67f3944580d1"
      },
      "execution_count": 138,
      "outputs": [
        {
          "output_type": "display_data",
          "data": {
            "text/plain": [
              "<Figure size 1000x500 with 1 Axes>"
            ],
            "image/png": "[encoded data removed]"
          },
          "metadata": {}
        },
        {
          "output_type": "display_data",
          "data": {
            "text/plain": [
              "<Figure size 640x480 with 0 Axes>"
            ]
          },
          "metadata": {}
        },
        {
          "output_type": "display_data",
          "data": {
            "text/plain": [
              "<Figure size 1000x500 with 1 Axes>"
            ],
            "image/png": "[encoded data removed]"
          },
          "metadata": {}
        }
      ]
    },
    {
      "cell_type": "code",
      "source": [
        "probability_model = tf.keras.Sequential([model,\n",
        "                                         tf.keras.layers.Softmax()])"
      ],
      "metadata": {
        "id": "VzOdKAT_uV-f"
      },
      "execution_count": 139,
      "outputs": []
    },
    {
      "cell_type": "code",
      "source": [
        "predictions = probability_model.predict(x_test)"
      ],
      "metadata": {
        "id": "f4is3NFruYom",
        "colab": {
          "base_uri": "https://localhost:8080/"
        },
        "outputId": "9f88cc23-eeb0-4c18-ad93-c9419acf75f1"
      },
      "execution_count": 140,
      "outputs": [
        {
          "output_type": "stream",
          "name": "stdout",
          "text": [
            "313/313 [==============================] - 2s 4ms/step\n"
          ]
        }
      ]
    },
    {
      "cell_type": "code",
      "source": [
        "predictions[0]"
      ],
      "metadata": {
        "id": "82cigvlZudz_",
        "colab": {
          "base_uri": "https://localhost:8080/"
        },
        "outputId": "4f177965-b736-4365-bf96-8c7a5f917864"
      },
      "execution_count": 141,
      "outputs": [
        {
          "output_type": "execute_result",
          "data": {
            "text/plain": [
              "array([0.08537816, 0.08537816, 0.08537816, 0.08537816, 0.08537816,\n",
              "       0.0853837 , 0.08537816, 0.08565664, 0.08537816, 0.23131241],\n",
              "      dtype=float32)"
            ]
          },
          "metadata": {},
          "execution_count": 141
        }
      ]
    },
    {
      "cell_type": "code",
      "source": [
        "model.summary()"
      ],
      "metadata": {
        "id": "6RsQPHyYuNGe",
        "colab": {
          "base_uri": "https://localhost:8080/"
        },
        "outputId": "866b12cf-2892-45ef-a3cb-cdb4fe3ca2bb"
      },
      "execution_count": 142,
      "outputs": [
        {
          "output_type": "stream",
          "name": "stdout",
          "text": [
            "Model: \"sequential_3\"\n",
            "_________________________________________________________________\n",
            " Layer (type)                Output Shape              Param #   \n",
            "=================================================================\n",
            " flatten_2 (Flatten)         (None, 784)               0         \n",
            "                                                                 \n",
            " dropout_8 (Dropout)         (None, 784)               0         \n",
            "                                                                 \n",
            " batch_normalization_6 (Bat  (None, 784)               3136      \n",
            " chNormalization)                                                \n",
            "                                                                 \n",
            " dense_8 (Dense)             (None, 256)               200960    \n",
            "                                                                 \n",
            " dropout_9 (Dropout)         (None, 256)               0         \n",
            "                                                                 \n",
            " batch_normalization_7 (Bat  (None, 256)               1024      \n",
            " chNormalization)                                                \n",
            "                                                                 \n",
            " dense_9 (Dense)             (None, 512)               131584    \n",
            "                                                                 \n",
            " dropout_10 (Dropout)        (None, 512)               0         \n",
            "                                                                 \n",
            " batch_normalization_8 (Bat  (None, 512)               2048      \n",
            " chNormalization)                                                \n",
            "                                                                 \n",
            " dense_10 (Dense)            (None, 512)               262656    \n",
            "                                                                 \n",
            " dropout_11 (Dropout)        (None, 512)               0         \n",
            "                                                                 \n",
            " dense_11 (Dense)            (None, 10)                5130      \n",
            "                                                                 \n",
            "=================================================================\n",
            "Total params: 606538 (2.31 MB)\n",
            "Trainable params: 603434 (2.30 MB)\n",
            "Non-trainable params: 3104 (12.12 KB)\n",
            "_________________________________________________________________\n"
          ]
        }
      ]
    },
    {
      "cell_type": "code",
      "source": [
        "\n",
        "\n",
        "\n",
        "\n",
        "hnyetjn hrte()"
      ],
      "metadata": {
        "id": "S4hcxZttmp-0",
        "colab": {
          "base_uri": "https://localhost:8080/",
          "height": 143
        },
        "outputId": "5308c286-3b7a-42ba-8335-d809f23cc231"
      },
      "execution_count": 143,
      "outputs": [
        {
          "output_type": "error",
          "ename": "SyntaxError",
          "evalue": "invalid syntax (<ipython-input-143-1a3818e70946>, line 1)",
          "traceback": [
            "\u001b[0;36m  File \u001b[0;32m\"<ipython-input-143-1a3818e70946>\"\u001b[0;36m, line \u001b[0;32m1\u001b[0m\n\u001b[0;31m    hnyetjn hrte()\u001b[0m\n\u001b[0m            ^\u001b[0m\n\u001b[0;31mSyntaxError\u001b[0m\u001b[0;31m:\u001b[0m invalid syntax\n"
          ]
        }
      ]
    }
  ]
}