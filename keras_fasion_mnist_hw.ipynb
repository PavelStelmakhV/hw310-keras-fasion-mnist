{
  "nbformat": 4,
  "nbformat_minor": 0,
  "metadata": {
    "colab": {
      "provenance": [],
      "authorship_tag": "ABX9TyPKwKbTcW2WQzy7Ug9mpdSA",
      "include_colab_link": true
    },
    "kernelspec": {
      "name": "python3",
      "display_name": "Python 3"
    },
    "language_info": {
      "name": "python"
    }
  },
  "cells": [
    {
      "cell_type": "markdown",
      "metadata": {
        "id": "view-in-github",
        "colab_type": "text"
      },
      "source": [
        "<a href=\"https://colab.research.google.com/github/PavelStelmakhV/hw310-keras-fasion-mnist/blob/main/keras_fasion_mnist_hw.ipynb\" target=\"_parent\"><img src=\"https://colab.research.google.com/assets/colab-badge.svg\" alt=\"Open In Colab\"/></a>"
      ]
    },
    {
      "cell_type": "code",
      "execution_count": 1,
      "metadata": {
        "id": "vv7w0bgAVQPO"
      },
      "outputs": [],
      "source": [
        "import tensorflow as tf\n",
        "\n",
        "import numpy as np\n",
        "import matplotlib.pyplot as plt\n",
        "from keras import layers\n",
        "from keras import regularizers"
      ]
    },
    {
      "cell_type": "code",
      "source": [
        "fashion_mnist = tf.keras.datasets.fashion_mnist\n",
        "\n",
        "(x_train, y_train), (x_test, y_test) = fashion_mnist.load_data()"
      ],
      "metadata": {
        "id": "mOpywsNAzfGB",
        "outputId": "adf9e1ab-0acf-4775-d491-c35cff055433",
        "colab": {
          "base_uri": "https://localhost:8080/"
        }
      },
      "execution_count": 2,
      "outputs": [
        {
          "output_type": "stream",
          "name": "stdout",
          "text": [
            "Downloading data from https://storage.googleapis.com/tensorflow/tf-keras-datasets/train-labels-idx1-ubyte.gz\n",
            "29515/29515 [==============================] - 0s 0us/step\n",
            "Downloading data from https://storage.googleapis.com/tensorflow/tf-keras-datasets/train-images-idx3-ubyte.gz\n",
            "26421880/26421880 [==============================] - 1s 0us/step\n",
            "Downloading data from https://storage.googleapis.com/tensorflow/tf-keras-datasets/t10k-labels-idx1-ubyte.gz\n",
            "5148/5148 [==============================] - 0s 0us/step\n",
            "Downloading data from https://storage.googleapis.com/tensorflow/tf-keras-datasets/t10k-images-idx3-ubyte.gz\n",
            "4422102/4422102 [==============================] - 1s 0us/step\n"
          ]
        }
      ]
    },
    {
      "cell_type": "code",
      "source": [
        "# x_train = x_train.reshape(60000, 784).astype('float32') / 255\n",
        "# x_test = x_test.reshape(10000, 784).astype('float32') / 255\n",
        "x_train = x_train.astype('float32') / 255\n",
        "x_test = x_test.astype('float32') / 255\n",
        "\n",
        "y_train = y_train.astype('float32')\n",
        "y_test = y_test.astype('float32')"
      ],
      "metadata": {
        "id": "t2gucjsJ0KUi"
      },
      "execution_count": 3,
      "outputs": []
    },
    {
      "cell_type": "code",
      "source": [
        "x_val = x_train[-10000:]\n",
        "y_val = y_train[-10000:]\n",
        "x_train = x_train[:-10000]\n",
        "y_train = y_train[:-10000]"
      ],
      "metadata": {
        "id": "fLPNXab5dHwO"
      },
      "execution_count": 4,
      "outputs": []
    },
    {
      "cell_type": "code",
      "source": [
        "model = tf.keras.Sequential()\n",
        "\n",
        "model.add(layers.Flatten(input_shape=(28, 28)))\n",
        "model.add(layers.Dropout(0.2))\n",
        "model.add(layers.Dense(512, activation='relu', kernel_regularizer=regularizers.l2(0.00001)))\n",
        "model.add(layers.Dropout(0.2))\n",
        "model.add(layers.Dense(256, activation='relu', kernel_regularizer=regularizers.l2(0.00001)))\n",
        "model.add(layers.Dropout(0.2))\n",
        "\n",
        "# model.add(layers.Dense(216, activation='relu', kernel_regularizer=regularizers.l2(0.001)))\n",
        "# model.add(layers.Dense(512, activation='sigmoid', kernel_regularizer=regularizers.l2(0.00001)))\n",
        "# model.add(layers.Dropout(0.5))\n",
        "# model.add(layers.Dense(512, activation='sigmoid', kernel_regularizer=regularizers.l2(0.00001)))\n",
        "# model.add(layers.Dropout(0.5))\n",
        "# model.add(layers.Dense(500, activation='sigmoid', kernel_regularizer=regularizers.l2(0.000001)))\n",
        "# model.add(layers.Dense(500, activation='relu', kernel_regularizer=regularizers.l2(0.000001)))\n",
        "# # model.add(layers.Dense(80, activation='relu', kernel_regularizer=regularizers.l2(0.001)))\n",
        "# model.add(layers.Dropout(0.5))\n",
        "# model.add(layers.Dense(500, activation='relu', kernel_regularizer=regularizers.l2(0.000001)))\n",
        "# model.add(layers.Dropout(0.5))\n",
        "# # model.add(layers.Dense(40, activation='relu', kernel_regularizer=regularizers.l2(0.001)))\n",
        "\n",
        "model.add(layers.Dense(10, activation='softmax'))\n",
        "# model.add(layers.Softmax())"
      ],
      "metadata": {
        "id": "atS39i4d0aqW"
      },
      "execution_count": 5,
      "outputs": []
    },
    {
      "cell_type": "code",
      "source": [
        "model.compile(#optimizer='adam',\n",
        "              optimizer='adamax',\n",
        "              # optimizer='nadam',\n",
        "              # optimizer='rmsprop',\n",
        "              # optimizer='sgd',\n",
        "              # optimizer='adadelta',\n",
        "              # loss='binary_crossentropy',\n",
        "              loss=tf.keras.losses.SparseCategoricalCrossentropy(),\n",
        "              metrics=['sparse_categorical_accuracy'])"
      ],
      "metadata": {
        "id": "hENVaAC7ilNY"
      },
      "execution_count": 6,
      "outputs": []
    },
    {
      "cell_type": "code",
      "source": [
        "# model.fit(train_images, train_labels, epochs=20)\n",
        "history = model.fit(x_train, y_train,\n",
        "                    epochs=120,\n",
        "                    batch_size=128,\n",
        "                    validation_data=(x_val, y_val))\n",
        "test_loss, test_acc = model.evaluate(x_test, y_test)\n",
        "print('\\nTest accuracy:', test_acc)"
      ],
      "metadata": {
        "id": "FH8HcMNm233I",
        "outputId": "06bf0677-9901-4047-e004-ea3c2223496c",
        "colab": {
          "base_uri": "https://localhost:8080/"
        }
      },
      "execution_count": 7,
      "outputs": [
        {
          "output_type": "stream",
          "name": "stdout",
          "text": [
            "Epoch 1/120\n",
            "391/391 [==============================] - 8s 17ms/step - loss: 0.6713 - sparse_categorical_accuracy: 0.7653 - val_loss: 0.4761 - val_sparse_categorical_accuracy: 0.8314\n",
            "Epoch 2/120\n",
            "391/391 [==============================] - 5s 13ms/step - loss: 0.4937 - sparse_categorical_accuracy: 0.8277 - val_loss: 0.4219 - val_sparse_categorical_accuracy: 0.8477\n",
            "Epoch 3/120\n",
            "391/391 [==============================] - 6s 15ms/step - loss: 0.4523 - sparse_categorical_accuracy: 0.8400 - val_loss: 0.4074 - val_sparse_categorical_accuracy: 0.8587\n",
            "Epoch 4/120\n",
            "391/391 [==============================] - 6s 14ms/step - loss: 0.4263 - sparse_categorical_accuracy: 0.8487 - val_loss: 0.3764 - val_sparse_categorical_accuracy: 0.8706\n",
            "Epoch 5/120\n",
            "391/391 [==============================] - 5s 13ms/step - loss: 0.4092 - sparse_categorical_accuracy: 0.8542 - val_loss: 0.3660 - val_sparse_categorical_accuracy: 0.8712\n",
            "Epoch 6/120\n",
            "391/391 [==============================] - 6s 16ms/step - loss: 0.3897 - sparse_categorical_accuracy: 0.8614 - val_loss: 0.3617 - val_sparse_categorical_accuracy: 0.8723\n",
            "Epoch 7/120\n",
            "391/391 [==============================] - 5s 13ms/step - loss: 0.3782 - sparse_categorical_accuracy: 0.8639 - val_loss: 0.3528 - val_sparse_categorical_accuracy: 0.8752\n",
            "Epoch 8/120\n",
            "391/391 [==============================] - 7s 17ms/step - loss: 0.3673 - sparse_categorical_accuracy: 0.8693 - val_loss: 0.3381 - val_sparse_categorical_accuracy: 0.8811\n",
            "Epoch 9/120\n",
            "391/391 [==============================] - 5s 13ms/step - loss: 0.3582 - sparse_categorical_accuracy: 0.8719 - val_loss: 0.3384 - val_sparse_categorical_accuracy: 0.8820\n",
            "Epoch 10/120\n",
            "391/391 [==============================] - 6s 14ms/step - loss: 0.3515 - sparse_categorical_accuracy: 0.8745 - val_loss: 0.3329 - val_sparse_categorical_accuracy: 0.8837\n",
            "Epoch 11/120\n",
            "391/391 [==============================] - 6s 15ms/step - loss: 0.3472 - sparse_categorical_accuracy: 0.8744 - val_loss: 0.3381 - val_sparse_categorical_accuracy: 0.8831\n",
            "Epoch 12/120\n",
            "391/391 [==============================] - 5s 13ms/step - loss: 0.3411 - sparse_categorical_accuracy: 0.8777 - val_loss: 0.3252 - val_sparse_categorical_accuracy: 0.8869\n",
            "Epoch 13/120\n",
            "391/391 [==============================] - 7s 18ms/step - loss: 0.3300 - sparse_categorical_accuracy: 0.8826 - val_loss: 0.3262 - val_sparse_categorical_accuracy: 0.8873\n",
            "Epoch 14/120\n",
            "391/391 [==============================] - 5s 13ms/step - loss: 0.3282 - sparse_categorical_accuracy: 0.8836 - val_loss: 0.3251 - val_sparse_categorical_accuracy: 0.8848\n",
            "Epoch 15/120\n",
            "391/391 [==============================] - 6s 16ms/step - loss: 0.3243 - sparse_categorical_accuracy: 0.8834 - val_loss: 0.3172 - val_sparse_categorical_accuracy: 0.8887\n",
            "Epoch 16/120\n",
            "391/391 [==============================] - 5s 13ms/step - loss: 0.3220 - sparse_categorical_accuracy: 0.8848 - val_loss: 0.3081 - val_sparse_categorical_accuracy: 0.8946\n",
            "Epoch 17/120\n",
            "391/391 [==============================] - 5s 14ms/step - loss: 0.3130 - sparse_categorical_accuracy: 0.8868 - val_loss: 0.3070 - val_sparse_categorical_accuracy: 0.8917\n",
            "Epoch 18/120\n",
            "391/391 [==============================] - 6s 15ms/step - loss: 0.3095 - sparse_categorical_accuracy: 0.8887 - val_loss: 0.3110 - val_sparse_categorical_accuracy: 0.8890\n",
            "Epoch 19/120\n",
            "391/391 [==============================] - 5s 13ms/step - loss: 0.3063 - sparse_categorical_accuracy: 0.8884 - val_loss: 0.3055 - val_sparse_categorical_accuracy: 0.8916\n",
            "Epoch 20/120\n",
            "391/391 [==============================] - 7s 17ms/step - loss: 0.3028 - sparse_categorical_accuracy: 0.8905 - val_loss: 0.3168 - val_sparse_categorical_accuracy: 0.8880\n",
            "Epoch 21/120\n",
            "391/391 [==============================] - 5s 14ms/step - loss: 0.2998 - sparse_categorical_accuracy: 0.8922 - val_loss: 0.3012 - val_sparse_categorical_accuracy: 0.8945\n",
            "Epoch 22/120\n",
            "391/391 [==============================] - 7s 17ms/step - loss: 0.2971 - sparse_categorical_accuracy: 0.8937 - val_loss: 0.3126 - val_sparse_categorical_accuracy: 0.8914\n",
            "Epoch 23/120\n",
            "391/391 [==============================] - 5s 13ms/step - loss: 0.2947 - sparse_categorical_accuracy: 0.8934 - val_loss: 0.3060 - val_sparse_categorical_accuracy: 0.8916\n",
            "Epoch 24/120\n",
            "391/391 [==============================] - 6s 15ms/step - loss: 0.2918 - sparse_categorical_accuracy: 0.8944 - val_loss: 0.3077 - val_sparse_categorical_accuracy: 0.8936\n",
            "Epoch 25/120\n",
            "391/391 [==============================] - 6s 16ms/step - loss: 0.2883 - sparse_categorical_accuracy: 0.8948 - val_loss: 0.3095 - val_sparse_categorical_accuracy: 0.8911\n",
            "Epoch 26/120\n",
            "391/391 [==============================] - 5s 14ms/step - loss: 0.2834 - sparse_categorical_accuracy: 0.8981 - val_loss: 0.3034 - val_sparse_categorical_accuracy: 0.8906\n",
            "Epoch 27/120\n",
            "391/391 [==============================] - 7s 18ms/step - loss: 0.2791 - sparse_categorical_accuracy: 0.8993 - val_loss: 0.3017 - val_sparse_categorical_accuracy: 0.8937\n",
            "Epoch 28/120\n",
            "391/391 [==============================] - 5s 13ms/step - loss: 0.2813 - sparse_categorical_accuracy: 0.8981 - val_loss: 0.3032 - val_sparse_categorical_accuracy: 0.8919\n",
            "Epoch 29/120\n",
            "391/391 [==============================] - 7s 19ms/step - loss: 0.2775 - sparse_categorical_accuracy: 0.9006 - val_loss: 0.2989 - val_sparse_categorical_accuracy: 0.8930\n",
            "Epoch 30/120\n",
            "391/391 [==============================] - 5s 14ms/step - loss: 0.2737 - sparse_categorical_accuracy: 0.9023 - val_loss: 0.2983 - val_sparse_categorical_accuracy: 0.8955\n",
            "Epoch 31/120\n",
            "391/391 [==============================] - 7s 19ms/step - loss: 0.2766 - sparse_categorical_accuracy: 0.9007 - val_loss: 0.2921 - val_sparse_categorical_accuracy: 0.8964\n",
            "Epoch 32/120\n",
            "391/391 [==============================] - 6s 15ms/step - loss: 0.2699 - sparse_categorical_accuracy: 0.9036 - val_loss: 0.3048 - val_sparse_categorical_accuracy: 0.8947\n",
            "Epoch 33/120\n",
            "391/391 [==============================] - 7s 18ms/step - loss: 0.2693 - sparse_categorical_accuracy: 0.9035 - val_loss: 0.3008 - val_sparse_categorical_accuracy: 0.8955\n",
            "Epoch 34/120\n",
            "391/391 [==============================] - 6s 16ms/step - loss: 0.2671 - sparse_categorical_accuracy: 0.9034 - val_loss: 0.2938 - val_sparse_categorical_accuracy: 0.8959\n",
            "Epoch 35/120\n",
            "391/391 [==============================] - 9s 23ms/step - loss: 0.2659 - sparse_categorical_accuracy: 0.9034 - val_loss: 0.2974 - val_sparse_categorical_accuracy: 0.8948\n",
            "Epoch 36/120\n",
            "391/391 [==============================] - 6s 15ms/step - loss: 0.2631 - sparse_categorical_accuracy: 0.9041 - val_loss: 0.2965 - val_sparse_categorical_accuracy: 0.8952\n",
            "Epoch 37/120\n",
            "391/391 [==============================] - 6s 16ms/step - loss: 0.2610 - sparse_categorical_accuracy: 0.9055 - val_loss: 0.3013 - val_sparse_categorical_accuracy: 0.8955\n",
            "Epoch 38/120\n",
            "391/391 [==============================] - 6s 16ms/step - loss: 0.2588 - sparse_categorical_accuracy: 0.9061 - val_loss: 0.2945 - val_sparse_categorical_accuracy: 0.8973\n",
            "Epoch 39/120\n",
            "391/391 [==============================] - 5s 14ms/step - loss: 0.2585 - sparse_categorical_accuracy: 0.9077 - val_loss: 0.2997 - val_sparse_categorical_accuracy: 0.8963\n",
            "Epoch 40/120\n",
            "391/391 [==============================] - 7s 17ms/step - loss: 0.2546 - sparse_categorical_accuracy: 0.9098 - val_loss: 0.2897 - val_sparse_categorical_accuracy: 0.8996\n",
            "Epoch 41/120\n",
            "391/391 [==============================] - 5s 14ms/step - loss: 0.2543 - sparse_categorical_accuracy: 0.9086 - val_loss: 0.2911 - val_sparse_categorical_accuracy: 0.8979\n",
            "Epoch 42/120\n",
            "391/391 [==============================] - 7s 18ms/step - loss: 0.2531 - sparse_categorical_accuracy: 0.9093 - val_loss: 0.2982 - val_sparse_categorical_accuracy: 0.8956\n",
            "Epoch 43/120\n",
            "391/391 [==============================] - 6s 14ms/step - loss: 0.2509 - sparse_categorical_accuracy: 0.9109 - val_loss: 0.2959 - val_sparse_categorical_accuracy: 0.8967\n",
            "Epoch 44/120\n",
            "391/391 [==============================] - 7s 17ms/step - loss: 0.2500 - sparse_categorical_accuracy: 0.9101 - val_loss: 0.2971 - val_sparse_categorical_accuracy: 0.8977\n",
            "Epoch 45/120\n",
            "391/391 [==============================] - 5s 14ms/step - loss: 0.2483 - sparse_categorical_accuracy: 0.9120 - val_loss: 0.2932 - val_sparse_categorical_accuracy: 0.8974\n",
            "Epoch 46/120\n",
            "391/391 [==============================] - 6s 16ms/step - loss: 0.2470 - sparse_categorical_accuracy: 0.9122 - val_loss: 0.2879 - val_sparse_categorical_accuracy: 0.8995\n",
            "Epoch 47/120\n",
            "391/391 [==============================] - 6s 16ms/step - loss: 0.2463 - sparse_categorical_accuracy: 0.9117 - val_loss: 0.2937 - val_sparse_categorical_accuracy: 0.8985\n",
            "Epoch 48/120\n",
            "391/391 [==============================] - 5s 14ms/step - loss: 0.2460 - sparse_categorical_accuracy: 0.9127 - val_loss: 0.2859 - val_sparse_categorical_accuracy: 0.9009\n",
            "Epoch 49/120\n",
            "391/391 [==============================] - 7s 17ms/step - loss: 0.2410 - sparse_categorical_accuracy: 0.9146 - val_loss: 0.2863 - val_sparse_categorical_accuracy: 0.8999\n",
            "Epoch 50/120\n",
            "391/391 [==============================] - 6s 14ms/step - loss: 0.2411 - sparse_categorical_accuracy: 0.9145 - val_loss: 0.2913 - val_sparse_categorical_accuracy: 0.8988\n",
            "Epoch 51/120\n",
            "391/391 [==============================] - 7s 17ms/step - loss: 0.2400 - sparse_categorical_accuracy: 0.9144 - val_loss: 0.2890 - val_sparse_categorical_accuracy: 0.9003\n",
            "Epoch 52/120\n",
            "391/391 [==============================] - 5s 14ms/step - loss: 0.2377 - sparse_categorical_accuracy: 0.9153 - val_loss: 0.2920 - val_sparse_categorical_accuracy: 0.9001\n",
            "Epoch 53/120\n",
            "391/391 [==============================] - 7s 17ms/step - loss: 0.2344 - sparse_categorical_accuracy: 0.9167 - val_loss: 0.2931 - val_sparse_categorical_accuracy: 0.9000\n",
            "Epoch 54/120\n",
            "391/391 [==============================] - 5s 14ms/step - loss: 0.2359 - sparse_categorical_accuracy: 0.9161 - val_loss: 0.2900 - val_sparse_categorical_accuracy: 0.8997\n",
            "Epoch 55/120\n",
            "391/391 [==============================] - 6s 16ms/step - loss: 0.2334 - sparse_categorical_accuracy: 0.9161 - val_loss: 0.2859 - val_sparse_categorical_accuracy: 0.9008\n",
            "Epoch 56/120\n",
            "391/391 [==============================] - 6s 16ms/step - loss: 0.2330 - sparse_categorical_accuracy: 0.9174 - val_loss: 0.2895 - val_sparse_categorical_accuracy: 0.9014\n",
            "Epoch 57/120\n",
            "391/391 [==============================] - 6s 14ms/step - loss: 0.2297 - sparse_categorical_accuracy: 0.9175 - val_loss: 0.2872 - val_sparse_categorical_accuracy: 0.9025\n",
            "Epoch 58/120\n",
            "391/391 [==============================] - 7s 18ms/step - loss: 0.2321 - sparse_categorical_accuracy: 0.9172 - val_loss: 0.2844 - val_sparse_categorical_accuracy: 0.9024\n",
            "Epoch 59/120\n",
            "391/391 [==============================] - 6s 14ms/step - loss: 0.2292 - sparse_categorical_accuracy: 0.9183 - val_loss: 0.2896 - val_sparse_categorical_accuracy: 0.9009\n",
            "Epoch 60/120\n",
            "391/391 [==============================] - 7s 19ms/step - loss: 0.2292 - sparse_categorical_accuracy: 0.9187 - val_loss: 0.2929 - val_sparse_categorical_accuracy: 0.9015\n",
            "Epoch 61/120\n",
            "391/391 [==============================] - 6s 14ms/step - loss: 0.2270 - sparse_categorical_accuracy: 0.9185 - val_loss: 0.2924 - val_sparse_categorical_accuracy: 0.9015\n",
            "Epoch 62/120\n",
            "391/391 [==============================] - 7s 18ms/step - loss: 0.2284 - sparse_categorical_accuracy: 0.9190 - val_loss: 0.2838 - val_sparse_categorical_accuracy: 0.9017\n",
            "Epoch 63/120\n",
            "391/391 [==============================] - 5s 14ms/step - loss: 0.2274 - sparse_categorical_accuracy: 0.9179 - val_loss: 0.2968 - val_sparse_categorical_accuracy: 0.9009\n",
            "Epoch 64/120\n",
            "391/391 [==============================] - 7s 18ms/step - loss: 0.2255 - sparse_categorical_accuracy: 0.9193 - val_loss: 0.2915 - val_sparse_categorical_accuracy: 0.9021\n",
            "Epoch 65/120\n",
            "391/391 [==============================] - 6s 14ms/step - loss: 0.2243 - sparse_categorical_accuracy: 0.9210 - val_loss: 0.2970 - val_sparse_categorical_accuracy: 0.8979\n",
            "Epoch 66/120\n",
            "391/391 [==============================] - 7s 17ms/step - loss: 0.2223 - sparse_categorical_accuracy: 0.9210 - val_loss: 0.2886 - val_sparse_categorical_accuracy: 0.9018\n",
            "Epoch 67/120\n",
            "391/391 [==============================] - 6s 15ms/step - loss: 0.2219 - sparse_categorical_accuracy: 0.9215 - val_loss: 0.2921 - val_sparse_categorical_accuracy: 0.9020\n",
            "Epoch 68/120\n",
            "391/391 [==============================] - 6s 15ms/step - loss: 0.2199 - sparse_categorical_accuracy: 0.9224 - val_loss: 0.2897 - val_sparse_categorical_accuracy: 0.9009\n",
            "Epoch 69/120\n",
            "391/391 [==============================] - 7s 18ms/step - loss: 0.2193 - sparse_categorical_accuracy: 0.9223 - val_loss: 0.2817 - val_sparse_categorical_accuracy: 0.9035\n",
            "Epoch 70/120\n",
            "391/391 [==============================] - 6s 14ms/step - loss: 0.2191 - sparse_categorical_accuracy: 0.9218 - val_loss: 0.2858 - val_sparse_categorical_accuracy: 0.9016\n",
            "Epoch 71/120\n",
            "391/391 [==============================] - 7s 18ms/step - loss: 0.2164 - sparse_categorical_accuracy: 0.9243 - val_loss: 0.2912 - val_sparse_categorical_accuracy: 0.9010\n",
            "Epoch 72/120\n",
            "391/391 [==============================] - 6s 15ms/step - loss: 0.2171 - sparse_categorical_accuracy: 0.9234 - val_loss: 0.2885 - val_sparse_categorical_accuracy: 0.9020\n",
            "Epoch 73/120\n",
            "391/391 [==============================] - 7s 17ms/step - loss: 0.2154 - sparse_categorical_accuracy: 0.9229 - val_loss: 0.2894 - val_sparse_categorical_accuracy: 0.9024\n",
            "Epoch 74/120\n",
            "391/391 [==============================] - 5s 14ms/step - loss: 0.2153 - sparse_categorical_accuracy: 0.9232 - val_loss: 0.2888 - val_sparse_categorical_accuracy: 0.9026\n",
            "Epoch 75/120\n",
            "391/391 [==============================] - 7s 18ms/step - loss: 0.2141 - sparse_categorical_accuracy: 0.9245 - val_loss: 0.2900 - val_sparse_categorical_accuracy: 0.9006\n",
            "Epoch 76/120\n",
            "391/391 [==============================] - 5s 14ms/step - loss: 0.2122 - sparse_categorical_accuracy: 0.9240 - val_loss: 0.2888 - val_sparse_categorical_accuracy: 0.9038\n",
            "Epoch 77/120\n",
            "391/391 [==============================] - 6s 17ms/step - loss: 0.2107 - sparse_categorical_accuracy: 0.9248 - val_loss: 0.2937 - val_sparse_categorical_accuracy: 0.9011\n",
            "Epoch 78/120\n",
            "391/391 [==============================] - 6s 15ms/step - loss: 0.2133 - sparse_categorical_accuracy: 0.9238 - val_loss: 0.2853 - val_sparse_categorical_accuracy: 0.9011\n",
            "Epoch 79/120\n",
            "391/391 [==============================] - 6s 15ms/step - loss: 0.2097 - sparse_categorical_accuracy: 0.9243 - val_loss: 0.2881 - val_sparse_categorical_accuracy: 0.9012\n",
            "Epoch 80/120\n",
            "391/391 [==============================] - 8s 22ms/step - loss: 0.2110 - sparse_categorical_accuracy: 0.9252 - val_loss: 0.2958 - val_sparse_categorical_accuracy: 0.9020\n",
            "Epoch 81/120\n",
            "391/391 [==============================] - 6s 15ms/step - loss: 0.2085 - sparse_categorical_accuracy: 0.9266 - val_loss: 0.2917 - val_sparse_categorical_accuracy: 0.9039\n",
            "Epoch 82/120\n",
            "391/391 [==============================] - 6s 16ms/step - loss: 0.2110 - sparse_categorical_accuracy: 0.9246 - val_loss: 0.2907 - val_sparse_categorical_accuracy: 0.9054\n",
            "Epoch 83/120\n",
            "391/391 [==============================] - 5s 14ms/step - loss: 0.2099 - sparse_categorical_accuracy: 0.9265 - val_loss: 0.2975 - val_sparse_categorical_accuracy: 0.9040\n",
            "Epoch 84/120\n",
            "391/391 [==============================] - 7s 17ms/step - loss: 0.2082 - sparse_categorical_accuracy: 0.9263 - val_loss: 0.2923 - val_sparse_categorical_accuracy: 0.9019\n",
            "Epoch 85/120\n",
            "391/391 [==============================] - 5s 14ms/step - loss: 0.2049 - sparse_categorical_accuracy: 0.9265 - val_loss: 0.2957 - val_sparse_categorical_accuracy: 0.8992\n",
            "Epoch 86/120\n",
            "391/391 [==============================] - 7s 18ms/step - loss: 0.2060 - sparse_categorical_accuracy: 0.9278 - val_loss: 0.2913 - val_sparse_categorical_accuracy: 0.9028\n",
            "Epoch 87/120\n",
            "391/391 [==============================] - 5s 14ms/step - loss: 0.2035 - sparse_categorical_accuracy: 0.9279 - val_loss: 0.2910 - val_sparse_categorical_accuracy: 0.9023\n",
            "Epoch 88/120\n",
            "391/391 [==============================] - 6s 16ms/step - loss: 0.2044 - sparse_categorical_accuracy: 0.9289 - val_loss: 0.2934 - val_sparse_categorical_accuracy: 0.9039\n",
            "Epoch 89/120\n",
            "391/391 [==============================] - 6s 15ms/step - loss: 0.2038 - sparse_categorical_accuracy: 0.9288 - val_loss: 0.2875 - val_sparse_categorical_accuracy: 0.9027\n",
            "Epoch 90/120\n",
            "391/391 [==============================] - 6s 15ms/step - loss: 0.2017 - sparse_categorical_accuracy: 0.9282 - val_loss: 0.2937 - val_sparse_categorical_accuracy: 0.9013\n",
            "Epoch 91/120\n",
            "391/391 [==============================] - 6s 16ms/step - loss: 0.2026 - sparse_categorical_accuracy: 0.9278 - val_loss: 0.2955 - val_sparse_categorical_accuracy: 0.9029\n",
            "Epoch 92/120\n",
            "391/391 [==============================] - 5s 14ms/step - loss: 0.2029 - sparse_categorical_accuracy: 0.9272 - val_loss: 0.2867 - val_sparse_categorical_accuracy: 0.9039\n",
            "Epoch 93/120\n",
            "391/391 [==============================] - 7s 17ms/step - loss: 0.1978 - sparse_categorical_accuracy: 0.9301 - val_loss: 0.2925 - val_sparse_categorical_accuracy: 0.9029\n",
            "Epoch 94/120\n",
            "391/391 [==============================] - 5s 14ms/step - loss: 0.2010 - sparse_categorical_accuracy: 0.9312 - val_loss: 0.2883 - val_sparse_categorical_accuracy: 0.9024\n",
            "Epoch 95/120\n",
            "391/391 [==============================] - 7s 18ms/step - loss: 0.1992 - sparse_categorical_accuracy: 0.9298 - val_loss: 0.2899 - val_sparse_categorical_accuracy: 0.9039\n",
            "Epoch 96/120\n",
            "391/391 [==============================] - 5s 14ms/step - loss: 0.1950 - sparse_categorical_accuracy: 0.9322 - val_loss: 0.2899 - val_sparse_categorical_accuracy: 0.9038\n",
            "Epoch 97/120\n",
            "391/391 [==============================] - 6s 15ms/step - loss: 0.1984 - sparse_categorical_accuracy: 0.9294 - val_loss: 0.2935 - val_sparse_categorical_accuracy: 0.9041\n",
            "Epoch 98/120\n",
            "391/391 [==============================] - 6s 15ms/step - loss: 0.1980 - sparse_categorical_accuracy: 0.9302 - val_loss: 0.2979 - val_sparse_categorical_accuracy: 0.9017\n",
            "Epoch 99/120\n",
            "391/391 [==============================] - 5s 13ms/step - loss: 0.1992 - sparse_categorical_accuracy: 0.9308 - val_loss: 0.2951 - val_sparse_categorical_accuracy: 0.9041\n",
            "Epoch 100/120\n",
            "391/391 [==============================] - 7s 17ms/step - loss: 0.1993 - sparse_categorical_accuracy: 0.9310 - val_loss: 0.2905 - val_sparse_categorical_accuracy: 0.9026\n",
            "Epoch 101/120\n",
            "391/391 [==============================] - 5s 13ms/step - loss: 0.1964 - sparse_categorical_accuracy: 0.9310 - val_loss: 0.2897 - val_sparse_categorical_accuracy: 0.9038\n",
            "Epoch 102/120\n",
            "391/391 [==============================] - 7s 17ms/step - loss: 0.1940 - sparse_categorical_accuracy: 0.9320 - val_loss: 0.2984 - val_sparse_categorical_accuracy: 0.9016\n",
            "Epoch 103/120\n",
            "391/391 [==============================] - 5s 14ms/step - loss: 0.1941 - sparse_categorical_accuracy: 0.9329 - val_loss: 0.2929 - val_sparse_categorical_accuracy: 0.9023\n",
            "Epoch 104/120\n",
            "391/391 [==============================] - 6s 16ms/step - loss: 0.1951 - sparse_categorical_accuracy: 0.9323 - val_loss: 0.2986 - val_sparse_categorical_accuracy: 0.9025\n",
            "Epoch 105/120\n",
            "391/391 [==============================] - 6s 14ms/step - loss: 0.1941 - sparse_categorical_accuracy: 0.9314 - val_loss: 0.2927 - val_sparse_categorical_accuracy: 0.9028\n",
            "Epoch 106/120\n",
            "391/391 [==============================] - 6s 14ms/step - loss: 0.1942 - sparse_categorical_accuracy: 0.9314 - val_loss: 0.2902 - val_sparse_categorical_accuracy: 0.9027\n",
            "Epoch 107/120\n",
            "391/391 [==============================] - 6s 16ms/step - loss: 0.1934 - sparse_categorical_accuracy: 0.9319 - val_loss: 0.2950 - val_sparse_categorical_accuracy: 0.9049\n",
            "Epoch 108/120\n",
            "391/391 [==============================] - 5s 14ms/step - loss: 0.1932 - sparse_categorical_accuracy: 0.9322 - val_loss: 0.2969 - val_sparse_categorical_accuracy: 0.9022\n",
            "Epoch 109/120\n",
            "391/391 [==============================] - 7s 17ms/step - loss: 0.1945 - sparse_categorical_accuracy: 0.9324 - val_loss: 0.2920 - val_sparse_categorical_accuracy: 0.9038\n",
            "Epoch 110/120\n",
            "391/391 [==============================] - 5s 14ms/step - loss: 0.1896 - sparse_categorical_accuracy: 0.9338 - val_loss: 0.3015 - val_sparse_categorical_accuracy: 0.9032\n",
            "Epoch 111/120\n",
            "391/391 [==============================] - 7s 17ms/step - loss: 0.1945 - sparse_categorical_accuracy: 0.9315 - val_loss: 0.2947 - val_sparse_categorical_accuracy: 0.9033\n",
            "Epoch 112/120\n",
            "391/391 [==============================] - 5s 14ms/step - loss: 0.1900 - sparse_categorical_accuracy: 0.9352 - val_loss: 0.2949 - val_sparse_categorical_accuracy: 0.9043\n",
            "Epoch 113/120\n",
            "391/391 [==============================] - 6s 16ms/step - loss: 0.1902 - sparse_categorical_accuracy: 0.9343 - val_loss: 0.2963 - val_sparse_categorical_accuracy: 0.9065\n",
            "Epoch 114/120\n",
            "391/391 [==============================] - 6s 15ms/step - loss: 0.1894 - sparse_categorical_accuracy: 0.9330 - val_loss: 0.2933 - val_sparse_categorical_accuracy: 0.9030\n",
            "Epoch 115/120\n",
            "391/391 [==============================] - 6s 14ms/step - loss: 0.1885 - sparse_categorical_accuracy: 0.9339 - val_loss: 0.2915 - val_sparse_categorical_accuracy: 0.9045\n",
            "Epoch 116/120\n",
            "391/391 [==============================] - 7s 17ms/step - loss: 0.1868 - sparse_categorical_accuracy: 0.9342 - val_loss: 0.2945 - val_sparse_categorical_accuracy: 0.9052\n",
            "Epoch 117/120\n",
            "391/391 [==============================] - 5s 14ms/step - loss: 0.1874 - sparse_categorical_accuracy: 0.9340 - val_loss: 0.2992 - val_sparse_categorical_accuracy: 0.9039\n",
            "Epoch 118/120\n",
            "391/391 [==============================] - 7s 17ms/step - loss: 0.1872 - sparse_categorical_accuracy: 0.9350 - val_loss: 0.2929 - val_sparse_categorical_accuracy: 0.9029\n",
            "Epoch 119/120\n",
            "391/391 [==============================] - 5s 14ms/step - loss: 0.1870 - sparse_categorical_accuracy: 0.9352 - val_loss: 0.2968 - val_sparse_categorical_accuracy: 0.9042\n",
            "Epoch 120/120\n",
            "391/391 [==============================] - 7s 18ms/step - loss: 0.1857 - sparse_categorical_accuracy: 0.9362 - val_loss: 0.2995 - val_sparse_categorical_accuracy: 0.9037\n",
            "313/313 [==============================] - 1s 2ms/step - loss: 0.3211 - sparse_categorical_accuracy: 0.9019\n",
            "\n",
            "Test accuracy: 0.9018999934196472\n"
          ]
        }
      ]
    },
    {
      "cell_type": "code",
      "source": [
        "print('\\nhistory dict:', list(history.history.keys()))"
      ],
      "metadata": {
        "id": "CxRE-B_Q6Sii",
        "outputId": "91a65211-4589-4f4e-d3a3-93602667820e",
        "colab": {
          "base_uri": "https://localhost:8080/"
        }
      },
      "execution_count": 8,
      "outputs": [
        {
          "output_type": "stream",
          "name": "stdout",
          "text": [
            "\n",
            "history dict: ['loss', 'sparse_categorical_accuracy', 'val_loss', 'val_sparse_categorical_accuracy']\n"
          ]
        }
      ]
    },
    {
      "cell_type": "code",
      "source": [
        "history_dict = history.history\n",
        "loss_values = history_dict['loss']\n",
        "val_loss_values = history_dict['val_loss']\n",
        "\n",
        "epochs = range(1, len(history_dict['loss']) + 1)\n",
        "\n",
        "plt.figure(figsize=(10, 5))\n",
        "plt.plot(epochs, loss_values, 'bo', label='Training loss')\n",
        "plt.plot(epochs, val_loss_values, 'b', label='Validation loss')\n",
        "plt.title('Training and validation loss')\n",
        "plt.xlabel('Epochs')\n",
        "plt.ylabel('Loss')\n",
        "plt.legend()\n",
        "plt.show()\n",
        "\n",
        "plt.clf()\n",
        "plt.figure(figsize=(10, 5))\n",
        "val_acc_values = history_dict['sparse_categorical_accuracy']\n",
        "plt.plot(epochs, history_dict['sparse_categorical_accuracy'], 'bo', label='Training acc')\n",
        "plt.plot(epochs, history_dict['val_sparse_categorical_accuracy'], 'b', label='Validation acc')\n",
        "plt.title('Training and validation accuracy')\n",
        "plt.xlabel('Epochs')\n",
        "plt.ylabel('Accuracy')\n",
        "plt.legend()"
      ],
      "metadata": {
        "colab": {
          "base_uri": "https://localhost:8080/",
          "height": 993
        },
        "id": "2Ll_5sGlXKMH",
        "outputId": "95b45819-f687-467a-c480-3b16795610cd"
      },
      "execution_count": 9,
      "outputs": [
        {
          "output_type": "display_data",
          "data": {
            "text/plain": [
              "<Figure size 1000x500 with 1 Axes>"
            ],
            "image/png": "[encoded data removed]"
          },
          "metadata": {}
        },
        {
          "output_type": "execute_result",
          "data": {
            "text/plain": [
              "<matplotlib.legend.Legend at 0x7d8109fa9660>"
            ]
          },
          "metadata": {},
          "execution_count": 9
        },
        {
          "output_type": "display_data",
          "data": {
            "text/plain": [
              "<Figure size 640x480 with 0 Axes>"
            ]
          },
          "metadata": {}
        },
        {
          "output_type": "display_data",
          "data": {
            "text/plain": [
              "<Figure size 1000x500 with 1 Axes>"
            ],
            "image/png": "[encoded data removed]"
          },
          "metadata": {}
        }
      ]
    },
    {
      "cell_type": "code",
      "source": [
        "probability_model = tf.keras.Sequential([model,\n",
        "                                         tf.keras.layers.Softmax()])"
      ],
      "metadata": {
        "id": "VzOdKAT_uV-f"
      },
      "execution_count": 10,
      "outputs": []
    },
    {
      "cell_type": "code",
      "source": [
        "predictions = probability_model.predict(x_test)"
      ],
      "metadata": {
        "id": "f4is3NFruYom",
        "outputId": "70e73d89-ff04-4749-af8e-e2caf3febaab",
        "colab": {
          "base_uri": "https://localhost:8080/"
        }
      },
      "execution_count": 11,
      "outputs": [
        {
          "output_type": "stream",
          "name": "stdout",
          "text": [
            "313/313 [==============================] - 1s 2ms/step\n"
          ]
        }
      ]
    },
    {
      "cell_type": "code",
      "source": [
        "predictions[0]"
      ],
      "metadata": {
        "id": "82cigvlZudz_",
        "outputId": "9aaba8a3-c27b-40d8-82e2-82e579a3d1c8",
        "colab": {
          "base_uri": "https://localhost:8080/"
        }
      },
      "execution_count": 12,
      "outputs": [
        {
          "output_type": "execute_result",
          "data": {
            "text/plain": [
              "array([0.08533872, 0.08533872, 0.08533871, 0.08533871, 0.08533871,\n",
              "       0.08533945, 0.08533871, 0.08535142, 0.08533871, 0.23193812],\n",
              "      dtype=float32)"
            ]
          },
          "metadata": {},
          "execution_count": 12
        }
      ]
    },
    {
      "cell_type": "code",
      "source": [
        "model.summary()"
      ],
      "metadata": {
        "id": "6RsQPHyYuNGe",
        "outputId": "a4249de7-adaf-4e73-8859-8717bed13fee",
        "colab": {
          "base_uri": "https://localhost:8080/"
        }
      },
      "execution_count": 13,
      "outputs": [
        {
          "output_type": "stream",
          "name": "stdout",
          "text": [
            "Model: \"sequential\"\n",
            "_________________________________________________________________\n",
            " Layer (type)                Output Shape              Param #   \n",
            "=================================================================\n",
            " flatten (Flatten)           (None, 784)               0         \n",
            "                                                                 \n",
            " dropout (Dropout)           (None, 784)               0         \n",
            "                                                                 \n",
            " dense (Dense)               (None, 512)               401920    \n",
            "                                                                 \n",
            " dropout_1 (Dropout)         (None, 512)               0         \n",
            "                                                                 \n",
            " dense_1 (Dense)             (None, 256)               131328    \n",
            "                                                                 \n",
            " dropout_2 (Dropout)         (None, 256)               0         \n",
            "                                                                 \n",
            " dense_2 (Dense)             (None, 10)                2570      \n",
            "                                                                 \n",
            "=================================================================\n",
            "Total params: 535818 (2.04 MB)\n",
            "Trainable params: 535818 (2.04 MB)\n",
            "Non-trainable params: 0 (0.00 Byte)\n",
            "_________________________________________________________________\n"
          ]
        }
      ]
    }
  ]
}