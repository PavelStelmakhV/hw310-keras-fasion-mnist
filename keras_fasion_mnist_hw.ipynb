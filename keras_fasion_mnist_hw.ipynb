{
  "nbformat": 4,
  "nbformat_minor": 0,
  "metadata": {
    "colab": {
      "provenance": [],
      "authorship_tag": "ABX9TyNvahPjUNCC+8JiTiK/szTD",
      "include_colab_link": true
    },
    "kernelspec": {
      "name": "python3",
      "display_name": "Python 3"
    },
    "language_info": {
      "name": "python"
    }
  },
  "cells": [
    {
      "cell_type": "markdown",
      "metadata": {
        "id": "view-in-github",
        "colab_type": "text"
      },
      "source": [
        "<a href=\"https://colab.research.google.com/github/PavelStelmakhV/hw310-keras-fasion-mnist/blob/main/keras_fasion_mnist_hw.ipynb\" target=\"_parent\"><img src=\"https://colab.research.google.com/assets/colab-badge.svg\" alt=\"Open In Colab\"/></a>"
      ]
    },
    {
      "cell_type": "code",
      "source": [
        "import tensorflow as tf\n",
        "from tensorflow.python.client import device_lib\n",
        "print(device_lib.list_local_devices())"
      ],
      "metadata": {
        "colab": {
          "base_uri": "https://localhost:8080/"
        },
        "id": "CQL6wYJUms6Y",
        "outputId": "c0bb6fd4-8809-476e-ae6f-3a5725580b5b"
      },
      "execution_count": 85,
      "outputs": [
        {
          "output_type": "stream",
          "name": "stdout",
          "text": [
            "[name: \"/device:CPU:0\"\n",
            "device_type: \"CPU\"\n",
            "memory_limit: 268435456\n",
            "locality {\n",
            "}\n",
            "incarnation: 8647713570641434483\n",
            "xla_global_id: -1\n",
            "]\n"
          ]
        }
      ]
    },
    {
      "cell_type": "code",
      "execution_count": 86,
      "metadata": {
        "id": "vv7w0bgAVQPO"
      },
      "outputs": [],
      "source": [
        "import tensorflow as tf\n",
        "import numpy as np\n",
        "import matplotlib.pyplot as plt\n",
        "import tf_keras\n",
        "\n",
        "from keras import layers\n",
        "from keras import regularizers\n",
        "from keras import callbacks\n",
        "from keras import initializers\n",
        "from keras.layers import BatchNormalization\n",
        "from keras.models import load_model"
      ]
    },
    {
      "cell_type": "code",
      "source": [
        "num_classes = 10"
      ],
      "metadata": {
        "id": "RvT1uYJsa5cn"
      },
      "execution_count": 87,
      "outputs": []
    },
    {
      "cell_type": "code",
      "source": [
        "fashion_mnist = tf.keras.datasets.fashion_mnist\n",
        "\n",
        "(x_train, y_train), (x_test, y_test) = fashion_mnist.load_data()"
      ],
      "metadata": {
        "id": "mOpywsNAzfGB"
      },
      "execution_count": 88,
      "outputs": []
    },
    {
      "cell_type": "code",
      "source": [
        "np.transpose(y_train).shape"
      ],
      "metadata": {
        "id": "djIFwQxwMvQR",
        "outputId": "a9023e2b-519c-476d-fd19-c6e088a73fb3",
        "colab": {
          "base_uri": "https://localhost:8080/"
        }
      },
      "execution_count": 89,
      "outputs": [
        {
          "output_type": "execute_result",
          "data": {
            "text/plain": [
              "(60000,)"
            ]
          },
          "metadata": {},
          "execution_count": 89
        }
      ]
    },
    {
      "cell_type": "code",
      "source": [
        "y_train.shape"
      ],
      "metadata": {
        "id": "clHS88VQNR82",
        "outputId": "2af54cb0-d649-4fb5-f125-059268ffc2f1",
        "colab": {
          "base_uri": "https://localhost:8080/"
        }
      },
      "execution_count": 90,
      "outputs": [
        {
          "output_type": "execute_result",
          "data": {
            "text/plain": [
              "(60000,)"
            ]
          },
          "metadata": {},
          "execution_count": 90
        }
      ]
    },
    {
      "cell_type": "code",
      "source": [
        "def drow_hist(data):\n",
        "  plt.figure(figsize=(8,6), dpi= 80)\n",
        "  _ = plt.hist(data,\n",
        "              bins=num_classes,\n",
        "              stacked=True,\n",
        "              density=False,\n",
        "              range=(0,10),\n",
        "              rwidth=0.9,\n",
        "              )"
      ],
      "metadata": {
        "id": "NjEvuOvomEoT"
      },
      "execution_count": 91,
      "outputs": []
    },
    {
      "cell_type": "code",
      "source": [
        "drow_hist(y_train)"
      ],
      "metadata": {
        "id": "6nndQcy0mmLN",
        "outputId": "a7608fa4-714b-4d9c-dd50-fcdff3435558",
        "colab": {
          "base_uri": "https://localhost:8080/",
          "height": 420
        }
      },
      "execution_count": 92,
      "outputs": [
        {
          "output_type": "display_data",
          "data": {
            "text/plain": [
              "<Figure size 640x480 with 1 Axes>"
            ],
            "image/png": "[encoded data removed]"
          },
          "metadata": {}
        }
      ]
    },
    {
      "cell_type": "code",
      "source": [
        "drow_hist(y_test)"
      ],
      "metadata": {
        "id": "NcnBshyymg0C",
        "outputId": "d044ec07-8f82-49a8-be6e-60a6e9948ce5",
        "colab": {
          "base_uri": "https://localhost:8080/",
          "height": 420
        }
      },
      "execution_count": 93,
      "outputs": [
        {
          "output_type": "display_data",
          "data": {
            "text/plain": [
              "<Figure size 640x480 with 1 Axes>"
            ],
            "image/png": "[encoded data removed]"
          },
          "metadata": {}
        }
      ]
    },
    {
      "cell_type": "code",
      "source": [
        "# create validation data\n",
        "val_size = 10000\n",
        "\n",
        "x_val = x_train[-val_size:, :, :]\n",
        "x_train = x_train[:-val_size, :, :]\n",
        "\n",
        "y_val = y_train[-val_size:]\n",
        "y_train = y_train[:-val_size]"
      ],
      "metadata": {
        "id": "jAs92sDoVU89"
      },
      "execution_count": 94,
      "outputs": []
    },
    {
      "cell_type": "code",
      "source": [
        "drow_hist(y_val)"
      ],
      "metadata": {
        "id": "kd3Pcxulml7p",
        "outputId": "53825881-c301-4d41-d8ab-24368c7c72dd",
        "colab": {
          "base_uri": "https://localhost:8080/",
          "height": 420
        }
      },
      "execution_count": 95,
      "outputs": [
        {
          "output_type": "display_data",
          "data": {
            "text/plain": [
              "<Figure size 640x480 with 1 Axes>"
            ],
            "image/png": "[encoded data removed]"
          },
          "metadata": {}
        }
      ]
    },
    {
      "cell_type": "code",
      "source": [
        "drow_hist(y_train)"
      ],
      "metadata": {
        "id": "g8XF8chDmxJh",
        "outputId": "39a7be7c-26cd-4f79-c2b1-8e262c8cd119",
        "colab": {
          "base_uri": "https://localhost:8080/",
          "height": 420
        }
      },
      "execution_count": 96,
      "outputs": [
        {
          "output_type": "display_data",
          "data": {
            "text/plain": [
              "<Figure size 640x480 with 1 Axes>"
            ],
            "image/png": "[encoded data removed]"
          },
          "metadata": {}
        }
      ]
    },
    {
      "cell_type": "code",
      "source": [
        "# mirror train image\n",
        "x_train_add = np.rot90(x_train, k=1, axes=(1,2))\n",
        "x_train_add = np.transpose(x_train_add, (0, 2, 1))"
      ],
      "metadata": {
        "id": "UHNuw-3D_v7x"
      },
      "execution_count": 97,
      "outputs": []
    },
    {
      "cell_type": "code",
      "source": [
        "y_train_add = y_train.copy()"
      ],
      "metadata": {
        "id": "TNDXV8RfZbt1"
      },
      "execution_count": 98,
      "outputs": []
    },
    {
      "cell_type": "code",
      "source": [
        "drow_hist(y_train_add)"
      ],
      "metadata": {
        "id": "Xt30hD_Qn6Du",
        "outputId": "e7845330-b43f-4f2b-bc28-fa5a804950cd",
        "colab": {
          "base_uri": "https://localhost:8080/",
          "height": 420
        }
      },
      "execution_count": 99,
      "outputs": [
        {
          "output_type": "display_data",
          "data": {
            "text/plain": [
              "<Figure size 640x480 with 1 Axes>"
            ],
            "image/png": "[encoded data removed]"
          },
          "metadata": {}
        }
      ]
    },
    {
      "cell_type": "code",
      "source": [
        "# remove boots image from addition data [5, 7, 9]\n",
        "for i in [5, 7, 9]:\n",
        "    print(i)\n",
        "    index = np.where(y_train_add == i )\n",
        "    x_train_add = np.delete(x_train_add, index , axis=0)\n",
        "    y_train_add = np.delete(y_train_add, index , axis=0)"
      ],
      "metadata": {
        "id": "506yp4e5UqKp",
        "colab": {
          "base_uri": "https://localhost:8080/"
        },
        "outputId": "92fc044b-25ac-49f0-8c31-3041eff2b6eb"
      },
      "execution_count": 100,
      "outputs": [
        {
          "output_type": "stream",
          "name": "stdout",
          "text": [
            "5\n",
            "7\n",
            "9\n"
          ]
        }
      ]
    },
    {
      "cell_type": "code",
      "source": [
        "drow_hist(y_train_add)"
      ],
      "metadata": {
        "id": "Jq5jbBppnBPL",
        "outputId": "66ce5da4-d696-4190-b474-20f5441e69a8",
        "colab": {
          "base_uri": "https://localhost:8080/",
          "height": 420
        }
      },
      "execution_count": 101,
      "outputs": [
        {
          "output_type": "display_data",
          "data": {
            "text/plain": [
              "<Figure size 640x480 with 1 Axes>"
            ],
            "image/png": "[encoded data removed]"
          },
          "metadata": {}
        }
      ]
    },
    {
      "cell_type": "code",
      "source": [
        "x_train_add.shape"
      ],
      "metadata": {
        "colab": {
          "base_uri": "https://localhost:8080/"
        },
        "id": "WB-PVgBb116E",
        "outputId": "9a93add4-7748-4fbd-e8ee-84dacd79b092"
      },
      "execution_count": 102,
      "outputs": [
        {
          "output_type": "execute_result",
          "data": {
            "text/plain": [
              "(34972, 28, 28)"
            ]
          },
          "metadata": {},
          "execution_count": 102
        }
      ]
    },
    {
      "cell_type": "code",
      "source": [
        "y_train_add.shape"
      ],
      "metadata": {
        "colab": {
          "base_uri": "https://localhost:8080/"
        },
        "id": "MjteIWwr2V-N",
        "outputId": "e469d5c2-49c9-4a47-f803-867dc0e2381d"
      },
      "execution_count": 103,
      "outputs": [
        {
          "output_type": "execute_result",
          "data": {
            "text/plain": [
              "(34972,)"
            ]
          },
          "metadata": {},
          "execution_count": 103
        }
      ]
    },
    {
      "cell_type": "code",
      "source": [
        "x_train = np.concatenate([\n",
        "    x_train,\n",
        "    x_train_add[:10000:, :, :]\n",
        "])"
      ],
      "metadata": {
        "id": "C25g0-L5PuhV"
      },
      "execution_count": 104,
      "outputs": []
    },
    {
      "cell_type": "code",
      "source": [
        "y_train = np.concatenate([\n",
        "    y_train,\n",
        "    y_train_add[:10000]\n",
        "])"
      ],
      "metadata": {
        "id": "JiyI9CE-RWnR"
      },
      "execution_count": 105,
      "outputs": []
    },
    {
      "cell_type": "code",
      "source": [
        "drow_hist(y_train_add[:10000])"
      ],
      "metadata": {
        "id": "k0Dv8AirnEHC",
        "colab": {
          "base_uri": "https://localhost:8080/",
          "height": 420
        },
        "outputId": "69a46135-2010-4af0-cb91-427f9b9d4d24"
      },
      "execution_count": 106,
      "outputs": [
        {
          "output_type": "display_data",
          "data": {
            "text/plain": [
              "<Figure size 640x480 with 1 Axes>"
            ],
            "image/png": "[encoded data removed]"
          },
          "metadata": {}
        }
      ]
    },
    {
      "cell_type": "code",
      "source": [
        "drow_hist(y_train)"
      ],
      "metadata": {
        "colab": {
          "base_uri": "https://localhost:8080/",
          "height": 420
        },
        "id": "j0FZ4_7DpRVw",
        "outputId": "40d2140d-b210-4d56-f975-a3d81e075258"
      },
      "execution_count": 107,
      "outputs": [
        {
          "output_type": "display_data",
          "data": {
            "text/plain": [
              "<Figure size 640x480 with 1 Axes>"
            ],
            "image/png": "[encoded data removed]"
          },
          "metadata": {}
        }
      ]
    },
    {
      "cell_type": "code",
      "source": [
        "# plt.figure()\n",
        "# plt.imshow(x_train[7])\n",
        "# plt.colorbar()\n",
        "# plt.grid(False)\n",
        "# plt.show()"
      ],
      "metadata": {
        "id": "mq_QalIABCeU"
      },
      "execution_count": 108,
      "outputs": []
    },
    {
      "cell_type": "code",
      "source": [
        "# plt.figure()\n",
        "# plt.imshow(x_train_add[0])\n",
        "# plt.colorbar()\n",
        "# plt.grid(False)\n",
        "# plt.show()"
      ],
      "metadata": {
        "id": "CDLNL7Zw3HEc"
      },
      "execution_count": 109,
      "outputs": []
    },
    {
      "cell_type": "code",
      "source": [
        "x_train = x_train.astype('float32') / 255\n",
        "x_test = x_test.astype('float32') / 255\n",
        "\n",
        "y_train = y_train.astype('float32')\n",
        "y_test = y_test.astype('float32')\n",
        "\n",
        "x_val = x_val.astype('float32') / 255\n",
        "y_val = y_val.astype('float32')"
      ],
      "metadata": {
        "id": "t2gucjsJ0KUi"
      },
      "execution_count": 110,
      "outputs": []
    },
    {
      "cell_type": "code",
      "source": [
        "# class_names = ['T-shirt/top', 'Trouser', 'Pullover', 'Dress', 'Coat',\n",
        "#                'Sandal', 'Shirt', 'Sneaker', 'Bag', 'Ankle boot']\n",
        "\n",
        "# plt.figure(figsize=(10,10))\n",
        "# for i in range(25):\n",
        "#     plt.subplot(5,5,i+1)\n",
        "#     plt.xticks([])\n",
        "#     plt.yticks([])\n",
        "#     plt.grid(False)\n",
        "#     plt.imshow(x_train[i+50000], cmap=plt.cm.binary)\n",
        "#     plt.xlabel(class_names[int(y_train[i+50000])])\n",
        "# plt.show()"
      ],
      "metadata": {
        "id": "h4LveKxM4hyC"
      },
      "execution_count": 111,
      "outputs": []
    },
    {
      "cell_type": "code",
      "source": [
        "# plt.figure(figsize=(10,10))\n",
        "# for i in range(25):\n",
        "#     plt.subplot(5,5,i+1)\n",
        "#     plt.xticks([])\n",
        "#     plt.yticks([])\n",
        "#     plt.grid(False)\n",
        "#     plt.imshow(x_train[i], cmap=plt.cm.binary)\n",
        "#     plt.xlabel(class_names[int(y_train[i])])\n",
        "# plt.show()"
      ],
      "metadata": {
        "id": "hljEDYd55d8Q"
      },
      "execution_count": 112,
      "outputs": []
    },
    {
      "cell_type": "code",
      "source": [
        "w_init_tanh = initializers.glorot_normal(seed=111)\n",
        "w_init_relu = initializers.HeNormal(seed=66)\n",
        "# w_init_relu = initializers.HeUniform(seed=24)\n",
        "b_init = initializers.Zeros()"
      ],
      "metadata": {
        "id": "yL9QTEtBGy4N"
      },
      "execution_count": 113,
      "outputs": []
    },
    {
      "cell_type": "code",
      "source": [
        "drop_out = 0.33"
      ],
      "metadata": {
        "id": "flsDcVTnU10J"
      },
      "execution_count": 114,
      "outputs": []
    },
    {
      "cell_type": "code",
      "source": [
        "def layer_relu(model, neurons):\n",
        "  model.add(BatchNormalization())\n",
        "  model.add(layers.Dense(neurons,\n",
        "                       activation='relu',\n",
        "                       kernel_initializer=w_init_relu,\n",
        "                       bias_initializer=b_init))\n",
        "  model.add(layers.Dropout(drop_out))\n",
        "  return model"
      ],
      "metadata": {
        "id": "ZZgs_25rKBCp"
      },
      "execution_count": 115,
      "outputs": []
    },
    {
      "cell_type": "code",
      "source": [
        "def layer_tanh(model, neurons):\n",
        "  model.add(BatchNormalization())\n",
        "  model.add(layers.Dense(neurons,\n",
        "                        activation='tanh',\n",
        "                        kernel_initializer=w_init_tanh,\n",
        "                        bias_initializer=b_init))\n",
        "  model.add(layers.Dropout(drop_out))\n",
        "  return model"
      ],
      "metadata": {
        "id": "90JLLnkBR50t"
      },
      "execution_count": 116,
      "outputs": []
    },
    {
      "cell_type": "code",
      "source": [
        "model =  ()\n",
        "\n",
        "neurons = 256\n",
        "\n",
        "model.add(layers.Flatten(input_shape=(28, 28)))\n",
        "model.add(layers.Dropout(drop_out))\n",
        "\n",
        "model = layer_relu(model, neurons*1)\n",
        "model = layer_relu(model, neurons*2)\n",
        "model = layer_relu(model, neurons*2)\n",
        "# model = layer_relu(model, neurons*1)\n",
        "\n",
        "\n",
        "model.add(layers.Dense(10, activation='softmax'))"
      ],
      "metadata": {
        "id": "atS39i4d0aqW"
      },
      "execution_count": 117,
      "outputs": []
    },
    {
      "cell_type": "markdown",
      "source": [
        "++++++++++++++++++++++++++++++++++++++++++++++++++++++++++++++++++++++++++++++++"
      ],
      "metadata": {
        "id": "tZO7hl7pM63y"
      }
    },
    {
      "cell_type": "code",
      "source": [
        "# optimizer = tf.keras.optimizers.Nadam(learning_rate=0.0003,\n",
        "#                                       beta_1=0.92,\n",
        "#                                       beta_2=0.999,\n",
        "#                                       epsilon=1e-04\n",
        "# )\n",
        "optimizer = tf.keras.optimizers.experimental.RMSprop(learning_rate=0.001,\n",
        "                                                    rho=0.9,\n",
        "                                                    momentum=0.0,\n",
        "                                                    epsilon=1e-07,\n",
        "                                                    centered=False,\n",
        "                                                    weight_decay=None,\n",
        "                                                    clipnorm=None,\n",
        "                                                    clipvalue=None,\n",
        "                                                    global_clipnorm=None,\n",
        "                                                    use_ema=False,\n",
        "                                                    ema_momentum=0.99,\n",
        "                                                    ema_overwrite_frequency=100,\n",
        "                                                    jit_compile=True,\n",
        "                                                    name='RMSprop',\n",
        ")"
      ],
      "metadata": {
        "id": "EzfnaqIZlfy8"
      },
      "execution_count": 120,
      "outputs": []
    },
    {
      "cell_type": "markdown",
      "source": [
        "++++++++++++++++++++++++++++++++++++++++++++++++++++++++++++++++++++++++++++++++"
      ],
      "metadata": {
        "id": "KHmBptvOM95Z"
      }
    },
    {
      "cell_type": "code",
      "source": [
        "model.compile(#optimizer='adam',\n",
        "              # optimizer='adamax',\n",
        "              optimizer=optimizer,\n",
        "              # optimizer='rmsprop',\n",
        "              # optimizer='sgd',\n",
        "              # optimizer='adadelta',\n",
        "              # loss='binary_crossentropy',\n",
        "              loss=tf.keras.losses.SparseCategoricalCrossentropy(),\n",
        "              metrics=['sparse_categorical_accuracy']) # sparse_categorical_accuracy"
      ],
      "metadata": {
        "id": "hENVaAC7ilNY"
      },
      "execution_count": 121,
      "outputs": []
    },
    {
      "cell_type": "code",
      "source": [
        "x = np.random.random((1, 28, 28))\n",
        "a = model.predict(x)\n",
        "_ = plt.hist(np.transpose(a))"
      ],
      "metadata": {
        "id": "RFgZHNNFMa8p",
        "outputId": "96d80c3c-2e96-42c2-c2fa-0fe07142109e",
        "colab": {
          "base_uri": "https://localhost:8080/",
          "height": 448
        }
      },
      "execution_count": 122,
      "outputs": [
        {
          "output_type": "stream",
          "name": "stdout",
          "text": [
            "1/1 [==============================] - 0s 123ms/step\n"
          ]
        },
        {
          "output_type": "display_data",
          "data": {
            "text/plain": [
              "<Figure size 640x480 with 1 Axes>"
            ],
            "image/png": "[encoded data removed]"
          },
          "metadata": {}
        }
      ]
    },
    {
      "cell_type": "code",
      "source": [
        "y_pred = model.predict(x_test)"
      ],
      "metadata": {
        "id": "UDP8OKKZ8oQa",
        "outputId": "92be1097-d0a8-4516-c883-c7a09d7a45f5",
        "colab": {
          "base_uri": "https://localhost:8080/"
        }
      },
      "execution_count": 123,
      "outputs": [
        {
          "output_type": "stream",
          "name": "stdout",
          "text": [
            "313/313 [==============================] - 1s 4ms/step\n"
          ]
        }
      ]
    },
    {
      "cell_type": "code",
      "source": [
        "callback = callbacks.EarlyStopping(monitor='val_loss',\n",
        "                                   patience=50,\n",
        "                                   restore_best_weights=True,\n",
        "                                   )\n",
        "es = callbacks.EarlyStopping(monitor='val_loss', mode='min', verbose=0, patience=60)\n",
        "mc = callbacks.ModelCheckpoint('best_model.h5', monitor='sparse_categorical_accuracy', mode='max', verbose=0, save_best_only=True)\n"
      ],
      "metadata": {
        "id": "5ihU4exVlsjm"
      },
      "execution_count": 124,
      "outputs": []
    },
    {
      "cell_type": "code",
      "source": [
        "history = model.fit(x_train, y_train,\n",
        "                    epochs=200,\n",
        "                    batch_size=64,\n",
        "                    # callbacks=[callback],\n",
        "                    callbacks=[mc],\n",
        "                    verbose=1, #многословие\n",
        "                    # validation_split=0.2\n",
        "                    validation_data=(x_val, y_val)\n",
        "                    )\n",
        "test_loss, test_acc = model.evaluate(x_test, y_test)\n",
        "print('\\nTest accuracy:', test_acc)"
      ],
      "metadata": {
        "id": "FH8HcMNm233I",
        "outputId": "1d7fc2aa-6850-4269-a4e9-e08e769225cc",
        "colab": {
          "base_uri": "https://localhost:8080/"
        }
      },
      "execution_count": 125,
      "outputs": [
        {
          "output_type": "stream",
          "name": "stdout",
          "text": [
            "Epoch 1/200\n",
            "938/938 [==============================] - 71s 17ms/step - loss: 0.7738 - sparse_categorical_accuracy: 0.7312 - val_loss: 0.4662 - val_sparse_categorical_accuracy: 0.8333\n",
            "Epoch 2/200\n",
            "938/938 [==============================] - 19s 20ms/step - loss: 0.5843 - sparse_categorical_accuracy: 0.7920 - val_loss: 0.4333 - val_sparse_categorical_accuracy: 0.8436\n",
            "Epoch 3/200\n",
            "938/938 [==============================] - 22s 23ms/step - loss: 0.5436 - sparse_categorical_accuracy: 0.8090 - val_loss: 0.3880 - val_sparse_categorical_accuracy: 0.8596\n",
            "Epoch 4/200\n",
            "938/938 [==============================] - 18s 19ms/step - loss: 0.5209 - sparse_categorical_accuracy: 0.8172 - val_loss: 0.4004 - val_sparse_categorical_accuracy: 0.8540\n",
            "Epoch 5/200\n",
            "938/938 [==============================] - 16s 17ms/step - loss: 0.5078 - sparse_categorical_accuracy: 0.8208 - val_loss: 0.3770 - val_sparse_categorical_accuracy: 0.8643\n",
            "Epoch 6/200\n",
            "938/938 [==============================] - 16s 17ms/step - loss: 0.5013 - sparse_categorical_accuracy: 0.8241 - val_loss: 0.3618 - val_sparse_categorical_accuracy: 0.8694\n",
            "Epoch 7/200\n",
            "938/938 [==============================] - 17s 18ms/step - loss: 0.4915 - sparse_categorical_accuracy: 0.8277 - val_loss: 0.3643 - val_sparse_categorical_accuracy: 0.8714\n",
            "Epoch 8/200\n",
            "938/938 [==============================] - 17s 18ms/step - loss: 0.4859 - sparse_categorical_accuracy: 0.8302 - val_loss: 0.3714 - val_sparse_categorical_accuracy: 0.8683\n",
            "Epoch 9/200\n",
            "938/938 [==============================] - 16s 17ms/step - loss: 0.4816 - sparse_categorical_accuracy: 0.8319 - val_loss: 0.3627 - val_sparse_categorical_accuracy: 0.8739\n",
            "Epoch 10/200\n",
            "938/938 [==============================] - 17s 18ms/step - loss: 0.4716 - sparse_categorical_accuracy: 0.8353 - val_loss: 0.3801 - val_sparse_categorical_accuracy: 0.8650\n",
            "Epoch 11/200\n",
            "938/938 [==============================] - 17s 18ms/step - loss: 0.4662 - sparse_categorical_accuracy: 0.8380 - val_loss: 0.3662 - val_sparse_categorical_accuracy: 0.8657\n",
            "Epoch 12/200\n",
            "938/938 [==============================] - 18s 19ms/step - loss: 0.4583 - sparse_categorical_accuracy: 0.8381 - val_loss: 0.3476 - val_sparse_categorical_accuracy: 0.8759\n",
            "Epoch 13/200\n",
            "938/938 [==============================] - 17s 18ms/step - loss: 0.4595 - sparse_categorical_accuracy: 0.8394 - val_loss: 0.3654 - val_sparse_categorical_accuracy: 0.8691\n",
            "Epoch 14/200\n",
            "938/938 [==============================] - 17s 18ms/step - loss: 0.4562 - sparse_categorical_accuracy: 0.8397 - val_loss: 0.3448 - val_sparse_categorical_accuracy: 0.8734\n",
            "Epoch 15/200\n",
            "938/938 [==============================] - 16s 17ms/step - loss: 0.4512 - sparse_categorical_accuracy: 0.8427 - val_loss: 0.3715 - val_sparse_categorical_accuracy: 0.8670\n",
            "Epoch 16/200\n",
            "938/938 [==============================] - 17s 18ms/step - loss: 0.4470 - sparse_categorical_accuracy: 0.8428 - val_loss: 0.3419 - val_sparse_categorical_accuracy: 0.8789\n",
            "Epoch 17/200\n",
            "938/938 [==============================] - 17s 18ms/step - loss: 0.4444 - sparse_categorical_accuracy: 0.8430 - val_loss: 0.3362 - val_sparse_categorical_accuracy: 0.8795\n",
            "Epoch 18/200\n",
            "938/938 [==============================] - 17s 18ms/step - loss: 0.4363 - sparse_categorical_accuracy: 0.8472 - val_loss: 0.3317 - val_sparse_categorical_accuracy: 0.8804\n",
            "Epoch 19/200\n",
            "938/938 [==============================] - 17s 18ms/step - loss: 0.4345 - sparse_categorical_accuracy: 0.8474 - val_loss: 0.3331 - val_sparse_categorical_accuracy: 0.8819\n",
            "Epoch 20/200\n",
            "938/938 [==============================] - 17s 18ms/step - loss: 0.4339 - sparse_categorical_accuracy: 0.8479 - val_loss: 0.3423 - val_sparse_categorical_accuracy: 0.8760\n",
            "Epoch 21/200\n",
            "938/938 [==============================] - 17s 18ms/step - loss: 0.4301 - sparse_categorical_accuracy: 0.8497 - val_loss: 0.3294 - val_sparse_categorical_accuracy: 0.8831\n",
            "Epoch 22/200\n",
            "938/938 [==============================] - 16s 17ms/step - loss: 0.4269 - sparse_categorical_accuracy: 0.8501 - val_loss: 0.3326 - val_sparse_categorical_accuracy: 0.8795\n",
            "Epoch 23/200\n",
            "938/938 [==============================] - 16s 17ms/step - loss: 0.4205 - sparse_categorical_accuracy: 0.8515 - val_loss: 0.3255 - val_sparse_categorical_accuracy: 0.8836\n",
            "Epoch 24/200\n",
            "938/938 [==============================] - 18s 19ms/step - loss: 0.4188 - sparse_categorical_accuracy: 0.8522 - val_loss: 0.3317 - val_sparse_categorical_accuracy: 0.8817\n",
            "Epoch 25/200\n",
            "938/938 [==============================] - 16s 17ms/step - loss: 0.4195 - sparse_categorical_accuracy: 0.8525 - val_loss: 0.3254 - val_sparse_categorical_accuracy: 0.8821\n",
            "Epoch 26/200\n",
            "938/938 [==============================] - 16s 17ms/step - loss: 0.4162 - sparse_categorical_accuracy: 0.8521 - val_loss: 0.3228 - val_sparse_categorical_accuracy: 0.8838\n",
            "Epoch 27/200\n",
            "938/938 [==============================] - 17s 18ms/step - loss: 0.4162 - sparse_categorical_accuracy: 0.8534 - val_loss: 0.3162 - val_sparse_categorical_accuracy: 0.8851\n",
            "Epoch 28/200\n",
            "938/938 [==============================] - 17s 18ms/step - loss: 0.4129 - sparse_categorical_accuracy: 0.8543 - val_loss: 0.3182 - val_sparse_categorical_accuracy: 0.8861\n",
            "Epoch 29/200\n",
            "938/938 [==============================] - 17s 18ms/step - loss: 0.4161 - sparse_categorical_accuracy: 0.8544 - val_loss: 0.3192 - val_sparse_categorical_accuracy: 0.8850\n",
            "Epoch 30/200\n",
            "938/938 [==============================] - 17s 18ms/step - loss: 0.4140 - sparse_categorical_accuracy: 0.8564 - val_loss: 0.3156 - val_sparse_categorical_accuracy: 0.8818\n",
            "Epoch 31/200\n",
            "938/938 [==============================] - 16s 17ms/step - loss: 0.4112 - sparse_categorical_accuracy: 0.8557 - val_loss: 0.3277 - val_sparse_categorical_accuracy: 0.8812\n",
            "Epoch 32/200\n",
            "938/938 [==============================] - 16s 17ms/step - loss: 0.4044 - sparse_categorical_accuracy: 0.8560 - val_loss: 0.3154 - val_sparse_categorical_accuracy: 0.8846\n",
            "Epoch 33/200\n",
            "938/938 [==============================] - 16s 18ms/step - loss: 0.4050 - sparse_categorical_accuracy: 0.8565 - val_loss: 0.3150 - val_sparse_categorical_accuracy: 0.8879\n",
            "Epoch 34/200\n",
            "938/938 [==============================] - 17s 18ms/step - loss: 0.4098 - sparse_categorical_accuracy: 0.8554 - val_loss: 0.3078 - val_sparse_categorical_accuracy: 0.8887\n",
            "Epoch 35/200\n",
            "938/938 [==============================] - 18s 19ms/step - loss: 0.4049 - sparse_categorical_accuracy: 0.8583 - val_loss: 0.3268 - val_sparse_categorical_accuracy: 0.8810\n",
            "Epoch 36/200\n",
            "938/938 [==============================] - 19s 20ms/step - loss: 0.4079 - sparse_categorical_accuracy: 0.8548 - val_loss: 0.3143 - val_sparse_categorical_accuracy: 0.8887\n",
            "Epoch 37/200\n",
            "938/938 [==============================] - 18s 20ms/step - loss: 0.4027 - sparse_categorical_accuracy: 0.8564 - val_loss: 0.3142 - val_sparse_categorical_accuracy: 0.8860\n",
            "Epoch 38/200\n",
            "938/938 [==============================] - 16s 17ms/step - loss: 0.4067 - sparse_categorical_accuracy: 0.8573 - val_loss: 0.3240 - val_sparse_categorical_accuracy: 0.8863\n",
            "Epoch 39/200\n",
            "938/938 [==============================] - 17s 18ms/step - loss: 0.3992 - sparse_categorical_accuracy: 0.8583 - val_loss: 0.3160 - val_sparse_categorical_accuracy: 0.8877\n",
            "Epoch 40/200\n",
            "938/938 [==============================] - 16s 17ms/step - loss: 0.3976 - sparse_categorical_accuracy: 0.8589 - val_loss: 0.3205 - val_sparse_categorical_accuracy: 0.8864\n",
            "Epoch 41/200\n",
            "938/938 [==============================] - 18s 19ms/step - loss: 0.3997 - sparse_categorical_accuracy: 0.8596 - val_loss: 0.3145 - val_sparse_categorical_accuracy: 0.8884\n",
            "Epoch 42/200\n",
            "938/938 [==============================] - 17s 18ms/step - loss: 0.4015 - sparse_categorical_accuracy: 0.8591 - val_loss: 0.3229 - val_sparse_categorical_accuracy: 0.8838\n",
            "Epoch 43/200\n",
            "938/938 [==============================] - 16s 18ms/step - loss: 0.3962 - sparse_categorical_accuracy: 0.8605 - val_loss: 0.3147 - val_sparse_categorical_accuracy: 0.8890\n",
            "Epoch 44/200\n",
            "938/938 [==============================] - 16s 17ms/step - loss: 0.4010 - sparse_categorical_accuracy: 0.8593 - val_loss: 0.3128 - val_sparse_categorical_accuracy: 0.8876\n",
            "Epoch 45/200\n",
            "938/938 [==============================] - 16s 17ms/step - loss: 0.3994 - sparse_categorical_accuracy: 0.8596 - val_loss: 0.3124 - val_sparse_categorical_accuracy: 0.8898\n",
            "Epoch 46/200\n",
            "938/938 [==============================] - 18s 19ms/step - loss: 0.4023 - sparse_categorical_accuracy: 0.8575 - val_loss: 0.3220 - val_sparse_categorical_accuracy: 0.8875\n",
            "Epoch 47/200\n",
            "938/938 [==============================] - 16s 17ms/step - loss: 0.3940 - sparse_categorical_accuracy: 0.8611 - val_loss: 0.3090 - val_sparse_categorical_accuracy: 0.8893\n",
            "Epoch 48/200\n",
            "938/938 [==============================] - 16s 17ms/step - loss: 0.3969 - sparse_categorical_accuracy: 0.8607 - val_loss: 0.3140 - val_sparse_categorical_accuracy: 0.8875\n",
            "Epoch 49/200\n",
            "938/938 [==============================] - 16s 18ms/step - loss: 0.3971 - sparse_categorical_accuracy: 0.8615 - val_loss: 0.3177 - val_sparse_categorical_accuracy: 0.8872\n",
            "Epoch 50/200\n",
            "938/938 [==============================] - 16s 18ms/step - loss: 0.3936 - sparse_categorical_accuracy: 0.8605 - val_loss: 0.3091 - val_sparse_categorical_accuracy: 0.8884\n",
            "Epoch 51/200\n",
            "938/938 [==============================] - 17s 18ms/step - loss: 0.3935 - sparse_categorical_accuracy: 0.8607 - val_loss: 0.3298 - val_sparse_categorical_accuracy: 0.8849\n",
            "Epoch 52/200\n",
            "938/938 [==============================] - 16s 18ms/step - loss: 0.3930 - sparse_categorical_accuracy: 0.8611 - val_loss: 0.3103 - val_sparse_categorical_accuracy: 0.8907\n",
            "Epoch 53/200\n",
            "938/938 [==============================] - 20s 22ms/step - loss: 0.3951 - sparse_categorical_accuracy: 0.8598 - val_loss: 0.3157 - val_sparse_categorical_accuracy: 0.8895\n",
            "Epoch 54/200\n",
            "938/938 [==============================] - 16s 17ms/step - loss: 0.3904 - sparse_categorical_accuracy: 0.8608 - val_loss: 0.3181 - val_sparse_categorical_accuracy: 0.8889\n",
            "Epoch 55/200\n",
            "938/938 [==============================] - 16s 17ms/step - loss: 0.3923 - sparse_categorical_accuracy: 0.8609 - val_loss: 0.3159 - val_sparse_categorical_accuracy: 0.8892\n",
            "Epoch 56/200\n",
            "938/938 [==============================] - 18s 19ms/step - loss: 0.3997 - sparse_categorical_accuracy: 0.8607 - val_loss: 0.3177 - val_sparse_categorical_accuracy: 0.8846\n",
            "Epoch 57/200\n",
            "938/938 [==============================] - 18s 19ms/step - loss: 0.3902 - sparse_categorical_accuracy: 0.8613 - val_loss: 0.3076 - val_sparse_categorical_accuracy: 0.8911\n",
            "Epoch 58/200\n",
            "938/938 [==============================] - 17s 18ms/step - loss: 0.3901 - sparse_categorical_accuracy: 0.8621 - val_loss: 0.3258 - val_sparse_categorical_accuracy: 0.8894\n",
            "Epoch 59/200\n",
            "938/938 [==============================] - 16s 17ms/step - loss: 0.3936 - sparse_categorical_accuracy: 0.8620 - val_loss: 0.3199 - val_sparse_categorical_accuracy: 0.8876\n",
            "Epoch 60/200\n",
            "938/938 [==============================] - 16s 17ms/step - loss: 0.3923 - sparse_categorical_accuracy: 0.8617 - val_loss: 0.3175 - val_sparse_categorical_accuracy: 0.8871\n",
            "Epoch 61/200\n",
            "938/938 [==============================] - 16s 17ms/step - loss: 0.3913 - sparse_categorical_accuracy: 0.8633 - val_loss: 0.3194 - val_sparse_categorical_accuracy: 0.8891\n",
            "Epoch 62/200\n",
            "938/938 [==============================] - 17s 18ms/step - loss: 0.3920 - sparse_categorical_accuracy: 0.8620 - val_loss: 0.3316 - val_sparse_categorical_accuracy: 0.8835\n",
            "Epoch 63/200\n",
            "938/938 [==============================] - 16s 17ms/step - loss: 0.3912 - sparse_categorical_accuracy: 0.8620 - val_loss: 0.3116 - val_sparse_categorical_accuracy: 0.8907\n",
            "Epoch 64/200\n",
            "938/938 [==============================] - 16s 17ms/step - loss: 0.3918 - sparse_categorical_accuracy: 0.8621 - val_loss: 0.3129 - val_sparse_categorical_accuracy: 0.8860\n",
            "Epoch 65/200\n",
            "938/938 [==============================] - 16s 17ms/step - loss: 0.3878 - sparse_categorical_accuracy: 0.8633 - val_loss: 0.3123 - val_sparse_categorical_accuracy: 0.8882\n",
            "Epoch 66/200\n",
            "938/938 [==============================] - 17s 18ms/step - loss: 0.3891 - sparse_categorical_accuracy: 0.8631 - val_loss: 0.3084 - val_sparse_categorical_accuracy: 0.8883\n",
            "Epoch 67/200\n",
            "938/938 [==============================] - 16s 17ms/step - loss: 0.3914 - sparse_categorical_accuracy: 0.8646 - val_loss: 0.3185 - val_sparse_categorical_accuracy: 0.8908\n",
            "Epoch 68/200\n",
            "938/938 [==============================] - 16s 17ms/step - loss: 0.3908 - sparse_categorical_accuracy: 0.8618 - val_loss: 0.3214 - val_sparse_categorical_accuracy: 0.8818\n",
            "Epoch 69/200\n",
            "938/938 [==============================] - 18s 19ms/step - loss: 0.3891 - sparse_categorical_accuracy: 0.8638 - val_loss: 0.3085 - val_sparse_categorical_accuracy: 0.8919\n",
            "Epoch 70/200\n",
            "938/938 [==============================] - 17s 18ms/step - loss: 0.3880 - sparse_categorical_accuracy: 0.8651 - val_loss: 0.3104 - val_sparse_categorical_accuracy: 0.8885\n",
            "Epoch 71/200\n",
            "938/938 [==============================] - 16s 17ms/step - loss: 0.3884 - sparse_categorical_accuracy: 0.8626 - val_loss: 0.3162 - val_sparse_categorical_accuracy: 0.8902\n",
            "Epoch 72/200\n",
            "938/938 [==============================] - 17s 18ms/step - loss: 0.3888 - sparse_categorical_accuracy: 0.8644 - val_loss: 0.3293 - val_sparse_categorical_accuracy: 0.8839\n",
            "Epoch 73/200\n",
            "938/938 [==============================] - 18s 19ms/step - loss: 0.3921 - sparse_categorical_accuracy: 0.8624 - val_loss: 0.3167 - val_sparse_categorical_accuracy: 0.8895\n",
            "Epoch 74/200\n",
            "938/938 [==============================] - 16s 17ms/step - loss: 0.3869 - sparse_categorical_accuracy: 0.8638 - val_loss: 0.3161 - val_sparse_categorical_accuracy: 0.8896\n",
            "Epoch 75/200\n",
            "938/938 [==============================] - 16s 17ms/step - loss: 0.3890 - sparse_categorical_accuracy: 0.8623 - val_loss: 0.3115 - val_sparse_categorical_accuracy: 0.8887\n",
            "Epoch 76/200\n",
            "938/938 [==============================] - 17s 18ms/step - loss: 0.3898 - sparse_categorical_accuracy: 0.8628 - val_loss: 0.3203 - val_sparse_categorical_accuracy: 0.8825\n",
            "Epoch 77/200\n",
            "938/938 [==============================] - 16s 17ms/step - loss: 0.3889 - sparse_categorical_accuracy: 0.8658 - val_loss: 0.3149 - val_sparse_categorical_accuracy: 0.8870\n",
            "Epoch 78/200\n",
            "938/938 [==============================] - 16s 17ms/step - loss: 0.3868 - sparse_categorical_accuracy: 0.8640 - val_loss: 0.3066 - val_sparse_categorical_accuracy: 0.8903\n",
            "Epoch 79/200\n",
            "938/938 [==============================] - 16s 17ms/step - loss: 0.3907 - sparse_categorical_accuracy: 0.8648 - val_loss: 0.3212 - val_sparse_categorical_accuracy: 0.8903\n",
            "Epoch 80/200\n",
            "938/938 [==============================] - 17s 18ms/step - loss: 0.3987 - sparse_categorical_accuracy: 0.8630 - val_loss: 0.3329 - val_sparse_categorical_accuracy: 0.8867\n",
            "Epoch 81/200\n",
            "938/938 [==============================] - 17s 18ms/step - loss: 0.3902 - sparse_categorical_accuracy: 0.8648 - val_loss: 0.3157 - val_sparse_categorical_accuracy: 0.8892\n",
            "Epoch 82/200\n",
            "938/938 [==============================] - 17s 18ms/step - loss: 0.3921 - sparse_categorical_accuracy: 0.8631 - val_loss: 0.3164 - val_sparse_categorical_accuracy: 0.8899\n",
            "Epoch 83/200\n",
            "938/938 [==============================] - 17s 19ms/step - loss: 0.3919 - sparse_categorical_accuracy: 0.8628 - val_loss: 0.3100 - val_sparse_categorical_accuracy: 0.8922\n",
            "Epoch 84/200\n",
            "938/938 [==============================] - 16s 17ms/step - loss: 0.3902 - sparse_categorical_accuracy: 0.8640 - val_loss: 0.3196 - val_sparse_categorical_accuracy: 0.8903\n",
            "Epoch 85/200\n",
            "938/938 [==============================] - 17s 18ms/step - loss: 0.3929 - sparse_categorical_accuracy: 0.8631 - val_loss: 0.3102 - val_sparse_categorical_accuracy: 0.8913\n",
            "Epoch 86/200\n",
            "938/938 [==============================] - 18s 19ms/step - loss: 0.3877 - sparse_categorical_accuracy: 0.8651 - val_loss: 0.3324 - val_sparse_categorical_accuracy: 0.8908\n",
            "Epoch 87/200\n",
            "938/938 [==============================] - 17s 18ms/step - loss: 0.3908 - sparse_categorical_accuracy: 0.8637 - val_loss: 0.3139 - val_sparse_categorical_accuracy: 0.8916\n",
            "Epoch 88/200\n",
            "938/938 [==============================] - 16s 17ms/step - loss: 0.3898 - sparse_categorical_accuracy: 0.8651 - val_loss: 0.3038 - val_sparse_categorical_accuracy: 0.8934\n",
            "Epoch 89/200\n",
            "938/938 [==============================] - 17s 18ms/step - loss: 0.3891 - sparse_categorical_accuracy: 0.8636 - val_loss: 0.3152 - val_sparse_categorical_accuracy: 0.8918\n",
            "Epoch 90/200\n",
            "938/938 [==============================] - 17s 18ms/step - loss: 0.3894 - sparse_categorical_accuracy: 0.8651 - val_loss: 0.3230 - val_sparse_categorical_accuracy: 0.8860\n",
            "Epoch 91/200\n",
            "938/938 [==============================] - 16s 17ms/step - loss: 0.3894 - sparse_categorical_accuracy: 0.8641 - val_loss: 0.3633 - val_sparse_categorical_accuracy: 0.8761\n",
            "Epoch 92/200\n",
            "938/938 [==============================] - 18s 20ms/step - loss: 0.3882 - sparse_categorical_accuracy: 0.8652 - val_loss: 0.3400 - val_sparse_categorical_accuracy: 0.8804\n",
            "Epoch 93/200\n",
            "938/938 [==============================] - 17s 18ms/step - loss: 0.3940 - sparse_categorical_accuracy: 0.8637 - val_loss: 0.3247 - val_sparse_categorical_accuracy: 0.8896\n",
            "Epoch 94/200\n",
            "938/938 [==============================] - 17s 18ms/step - loss: 0.3894 - sparse_categorical_accuracy: 0.8631 - val_loss: 0.3234 - val_sparse_categorical_accuracy: 0.8893\n",
            "Epoch 95/200\n",
            "938/938 [==============================] - 17s 18ms/step - loss: 0.3905 - sparse_categorical_accuracy: 0.8637 - val_loss: 0.3146 - val_sparse_categorical_accuracy: 0.8928\n",
            "Epoch 96/200\n",
            "938/938 [==============================] - 16s 17ms/step - loss: 0.3916 - sparse_categorical_accuracy: 0.8638 - val_loss: 0.3180 - val_sparse_categorical_accuracy: 0.8903\n",
            "Epoch 97/200\n",
            "938/938 [==============================] - 16s 17ms/step - loss: 0.3969 - sparse_categorical_accuracy: 0.8625 - val_loss: 0.3119 - val_sparse_categorical_accuracy: 0.8901\n",
            "Epoch 98/200\n",
            "938/938 [==============================] - 17s 18ms/step - loss: 0.3959 - sparse_categorical_accuracy: 0.8621 - val_loss: 0.3268 - val_sparse_categorical_accuracy: 0.8839\n",
            "Epoch 99/200\n",
            "938/938 [==============================] - 17s 18ms/step - loss: 0.3950 - sparse_categorical_accuracy: 0.8642 - val_loss: 0.3048 - val_sparse_categorical_accuracy: 0.8916\n",
            "Epoch 100/200\n",
            "938/938 [==============================] - 17s 18ms/step - loss: 0.3903 - sparse_categorical_accuracy: 0.8639 - val_loss: 0.3026 - val_sparse_categorical_accuracy: 0.8916\n",
            "Epoch 101/200\n",
            "938/938 [==============================] - 17s 18ms/step - loss: 0.3912 - sparse_categorical_accuracy: 0.8630 - val_loss: 0.3174 - val_sparse_categorical_accuracy: 0.8894\n",
            "Epoch 102/200\n",
            "938/938 [==============================] - 17s 18ms/step - loss: 0.3908 - sparse_categorical_accuracy: 0.8640 - val_loss: 0.3175 - val_sparse_categorical_accuracy: 0.8923\n",
            "Epoch 103/200\n",
            "938/938 [==============================] - 18s 19ms/step - loss: 0.3905 - sparse_categorical_accuracy: 0.8639 - val_loss: 0.3221 - val_sparse_categorical_accuracy: 0.8901\n",
            "Epoch 104/200\n",
            "938/938 [==============================] - 17s 18ms/step - loss: 0.3909 - sparse_categorical_accuracy: 0.8648 - val_loss: 0.3145 - val_sparse_categorical_accuracy: 0.8913\n",
            "Epoch 105/200\n",
            "938/938 [==============================] - 16s 18ms/step - loss: 0.3898 - sparse_categorical_accuracy: 0.8655 - val_loss: 0.3174 - val_sparse_categorical_accuracy: 0.8895\n",
            "Epoch 106/200\n",
            "938/938 [==============================] - 17s 18ms/step - loss: 0.3873 - sparse_categorical_accuracy: 0.8649 - val_loss: 0.3226 - val_sparse_categorical_accuracy: 0.8886\n",
            "Epoch 107/200\n",
            "938/938 [==============================] - 17s 18ms/step - loss: 0.3927 - sparse_categorical_accuracy: 0.8633 - val_loss: 0.3311 - val_sparse_categorical_accuracy: 0.8886\n",
            "Epoch 108/200\n",
            "938/938 [==============================] - 18s 19ms/step - loss: 0.3909 - sparse_categorical_accuracy: 0.8642 - val_loss: 0.3211 - val_sparse_categorical_accuracy: 0.8891\n",
            "Epoch 109/200\n",
            "938/938 [==============================] - 17s 18ms/step - loss: 0.3962 - sparse_categorical_accuracy: 0.8636 - val_loss: 0.3263 - val_sparse_categorical_accuracy: 0.8888\n",
            "Epoch 110/200\n",
            "938/938 [==============================] - 17s 18ms/step - loss: 0.3971 - sparse_categorical_accuracy: 0.8622 - val_loss: 0.3066 - val_sparse_categorical_accuracy: 0.8936\n",
            "Epoch 111/200\n",
            "938/938 [==============================] - 17s 18ms/step - loss: 0.3901 - sparse_categorical_accuracy: 0.8656 - val_loss: 0.3090 - val_sparse_categorical_accuracy: 0.8920\n",
            "Epoch 112/200\n",
            "938/938 [==============================] - 17s 18ms/step - loss: 0.3913 - sparse_categorical_accuracy: 0.8646 - val_loss: 0.3323 - val_sparse_categorical_accuracy: 0.8905\n",
            "Epoch 113/200\n",
            "938/938 [==============================] - 17s 18ms/step - loss: 0.3961 - sparse_categorical_accuracy: 0.8645 - val_loss: 0.3143 - val_sparse_categorical_accuracy: 0.8865\n",
            "Epoch 114/200\n",
            "938/938 [==============================] - 17s 18ms/step - loss: 0.3912 - sparse_categorical_accuracy: 0.8645 - val_loss: 0.3195 - val_sparse_categorical_accuracy: 0.8913\n",
            "Epoch 115/200\n",
            "938/938 [==============================] - 17s 19ms/step - loss: 0.3878 - sparse_categorical_accuracy: 0.8662 - val_loss: 0.3160 - val_sparse_categorical_accuracy: 0.8916\n",
            "Epoch 116/200\n",
            "938/938 [==============================] - 17s 18ms/step - loss: 0.3953 - sparse_categorical_accuracy: 0.8626 - val_loss: 0.3099 - val_sparse_categorical_accuracy: 0.8907\n",
            "Epoch 117/200\n",
            "938/938 [==============================] - 17s 18ms/step - loss: 0.3929 - sparse_categorical_accuracy: 0.8647 - val_loss: 0.3195 - val_sparse_categorical_accuracy: 0.8877\n",
            "Epoch 118/200\n",
            "938/938 [==============================] - 16s 17ms/step - loss: 0.3927 - sparse_categorical_accuracy: 0.8641 - val_loss: 0.3058 - val_sparse_categorical_accuracy: 0.8945\n",
            "Epoch 119/200\n",
            "938/938 [==============================] - 17s 18ms/step - loss: 0.3921 - sparse_categorical_accuracy: 0.8651 - val_loss: 0.3317 - val_sparse_categorical_accuracy: 0.8858\n",
            "Epoch 120/200\n",
            "938/938 [==============================] - 17s 18ms/step - loss: 0.3943 - sparse_categorical_accuracy: 0.8643 - val_loss: 0.3138 - val_sparse_categorical_accuracy: 0.8901\n",
            "Epoch 121/200\n",
            "938/938 [==============================] - 17s 18ms/step - loss: 0.3927 - sparse_categorical_accuracy: 0.8645 - val_loss: 0.3201 - val_sparse_categorical_accuracy: 0.8889\n",
            "Epoch 122/200\n",
            "938/938 [==============================] - 16s 17ms/step - loss: 0.3908 - sparse_categorical_accuracy: 0.8642 - val_loss: 0.3155 - val_sparse_categorical_accuracy: 0.8877\n",
            "Epoch 123/200\n",
            "938/938 [==============================] - 18s 19ms/step - loss: 0.3884 - sparse_categorical_accuracy: 0.8640 - val_loss: 0.3176 - val_sparse_categorical_accuracy: 0.8939\n",
            "Epoch 124/200\n",
            "938/938 [==============================] - 17s 18ms/step - loss: 0.3939 - sparse_categorical_accuracy: 0.8637 - val_loss: 0.3049 - val_sparse_categorical_accuracy: 0.8936\n",
            "Epoch 125/200\n",
            "938/938 [==============================] - 17s 18ms/step - loss: 0.3922 - sparse_categorical_accuracy: 0.8643 - val_loss: 0.3136 - val_sparse_categorical_accuracy: 0.8903\n",
            "Epoch 126/200\n",
            "938/938 [==============================] - 17s 19ms/step - loss: 0.3904 - sparse_categorical_accuracy: 0.8659 - val_loss: 0.3207 - val_sparse_categorical_accuracy: 0.8908\n",
            "Epoch 127/200\n",
            "938/938 [==============================] - 17s 18ms/step - loss: 0.3925 - sparse_categorical_accuracy: 0.8652 - val_loss: 0.3162 - val_sparse_categorical_accuracy: 0.8907\n",
            "Epoch 128/200\n",
            "938/938 [==============================] - 18s 20ms/step - loss: 0.3931 - sparse_categorical_accuracy: 0.8648 - val_loss: 0.3287 - val_sparse_categorical_accuracy: 0.8858\n",
            "Epoch 129/200\n",
            "938/938 [==============================] - 17s 18ms/step - loss: 0.3935 - sparse_categorical_accuracy: 0.8643 - val_loss: 0.3562 - val_sparse_categorical_accuracy: 0.8907\n",
            "Epoch 130/200\n",
            "938/938 [==============================] - 17s 19ms/step - loss: 0.3965 - sparse_categorical_accuracy: 0.8631 - val_loss: 0.3329 - val_sparse_categorical_accuracy: 0.8898\n",
            "Epoch 131/200\n",
            "938/938 [==============================] - 17s 18ms/step - loss: 0.3964 - sparse_categorical_accuracy: 0.8622 - val_loss: 0.3168 - val_sparse_categorical_accuracy: 0.8895\n",
            "Epoch 132/200\n",
            "938/938 [==============================] - 17s 18ms/step - loss: 0.3925 - sparse_categorical_accuracy: 0.8648 - val_loss: 0.3341 - val_sparse_categorical_accuracy: 0.8871\n",
            "Epoch 133/200\n",
            "938/938 [==============================] - 17s 18ms/step - loss: 0.3909 - sparse_categorical_accuracy: 0.8640 - val_loss: 0.3212 - val_sparse_categorical_accuracy: 0.8892\n",
            "Epoch 134/200\n",
            "938/938 [==============================] - 17s 18ms/step - loss: 0.3996 - sparse_categorical_accuracy: 0.8632 - val_loss: 0.3188 - val_sparse_categorical_accuracy: 0.8921\n",
            "Epoch 135/200\n",
            "938/938 [==============================] - 16s 17ms/step - loss: 0.3930 - sparse_categorical_accuracy: 0.8650 - val_loss: 0.3246 - val_sparse_categorical_accuracy: 0.8917\n",
            "Epoch 136/200\n",
            "938/938 [==============================] - 17s 18ms/step - loss: 0.3902 - sparse_categorical_accuracy: 0.8649 - val_loss: 0.3199 - val_sparse_categorical_accuracy: 0.8916\n",
            "Epoch 137/200\n",
            "938/938 [==============================] - 17s 18ms/step - loss: 0.3903 - sparse_categorical_accuracy: 0.8654 - val_loss: 0.3373 - val_sparse_categorical_accuracy: 0.8881\n",
            "Epoch 138/200\n",
            "938/938 [==============================] - 18s 19ms/step - loss: 0.3925 - sparse_categorical_accuracy: 0.8654 - val_loss: 0.3184 - val_sparse_categorical_accuracy: 0.8908\n",
            "Epoch 139/200\n",
            "938/938 [==============================] - 18s 19ms/step - loss: 0.3912 - sparse_categorical_accuracy: 0.8644 - val_loss: 0.3196 - val_sparse_categorical_accuracy: 0.8911\n",
            "Epoch 140/200\n",
            "938/938 [==============================] - 17s 18ms/step - loss: 0.3961 - sparse_categorical_accuracy: 0.8639 - val_loss: 0.3117 - val_sparse_categorical_accuracy: 0.8911\n",
            "Epoch 141/200\n",
            "938/938 [==============================] - 17s 18ms/step - loss: 0.3897 - sparse_categorical_accuracy: 0.8639 - val_loss: 0.3102 - val_sparse_categorical_accuracy: 0.8879\n",
            "Epoch 142/200\n",
            "938/938 [==============================] - 17s 18ms/step - loss: 0.3924 - sparse_categorical_accuracy: 0.8663 - val_loss: 0.3248 - val_sparse_categorical_accuracy: 0.8880\n",
            "Epoch 143/200\n",
            "938/938 [==============================] - 16s 17ms/step - loss: 0.3893 - sparse_categorical_accuracy: 0.8657 - val_loss: 0.3197 - val_sparse_categorical_accuracy: 0.8898\n",
            "Epoch 144/200\n",
            "938/938 [==============================] - 17s 18ms/step - loss: 0.3955 - sparse_categorical_accuracy: 0.8644 - val_loss: 0.3118 - val_sparse_categorical_accuracy: 0.8896\n",
            "Epoch 145/200\n",
            "938/938 [==============================] - 18s 19ms/step - loss: 0.3958 - sparse_categorical_accuracy: 0.8631 - val_loss: 0.3059 - val_sparse_categorical_accuracy: 0.8927\n",
            "Epoch 146/200\n",
            "938/938 [==============================] - 16s 17ms/step - loss: 0.3899 - sparse_categorical_accuracy: 0.8667 - val_loss: 0.3084 - val_sparse_categorical_accuracy: 0.8937\n",
            "Epoch 147/200\n",
            "938/938 [==============================] - 17s 18ms/step - loss: 0.3889 - sparse_categorical_accuracy: 0.8650 - val_loss: 0.3042 - val_sparse_categorical_accuracy: 0.8944\n",
            "Epoch 148/200\n",
            "938/938 [==============================] - 17s 18ms/step - loss: 0.3932 - sparse_categorical_accuracy: 0.8652 - val_loss: 0.3321 - val_sparse_categorical_accuracy: 0.8851\n",
            "Epoch 149/200\n",
            "938/938 [==============================] - 18s 19ms/step - loss: 0.3960 - sparse_categorical_accuracy: 0.8627 - val_loss: 0.3178 - val_sparse_categorical_accuracy: 0.8890\n",
            "Epoch 150/200\n",
            "938/938 [==============================] - 16s 18ms/step - loss: 0.3957 - sparse_categorical_accuracy: 0.8651 - val_loss: 0.3144 - val_sparse_categorical_accuracy: 0.8904\n",
            "Epoch 151/200\n",
            "938/938 [==============================] - 17s 18ms/step - loss: 0.3910 - sparse_categorical_accuracy: 0.8661 - val_loss: 0.3102 - val_sparse_categorical_accuracy: 0.8933\n",
            "Epoch 152/200\n",
            "938/938 [==============================] - 17s 18ms/step - loss: 0.3964 - sparse_categorical_accuracy: 0.8654 - val_loss: 0.3194 - val_sparse_categorical_accuracy: 0.8930\n",
            "Epoch 153/200\n",
            "938/938 [==============================] - 16s 17ms/step - loss: 0.3993 - sparse_categorical_accuracy: 0.8645 - val_loss: 0.3161 - val_sparse_categorical_accuracy: 0.8897\n",
            "Epoch 154/200\n",
            "938/938 [==============================] - 17s 18ms/step - loss: 0.3955 - sparse_categorical_accuracy: 0.8651 - val_loss: 0.3171 - val_sparse_categorical_accuracy: 0.8899\n",
            "Epoch 155/200\n",
            "938/938 [==============================] - 18s 19ms/step - loss: 0.3962 - sparse_categorical_accuracy: 0.8625 - val_loss: 0.3189 - val_sparse_categorical_accuracy: 0.8868\n",
            "Epoch 156/200\n",
            "938/938 [==============================] - 17s 18ms/step - loss: 0.3930 - sparse_categorical_accuracy: 0.8641 - val_loss: 0.3221 - val_sparse_categorical_accuracy: 0.8943\n",
            "Epoch 157/200\n",
            "938/938 [==============================] - 16s 18ms/step - loss: 0.3969 - sparse_categorical_accuracy: 0.8625 - val_loss: 0.3184 - val_sparse_categorical_accuracy: 0.8940\n",
            "Epoch 158/200\n",
            "938/938 [==============================] - 17s 18ms/step - loss: 0.3936 - sparse_categorical_accuracy: 0.8654 - val_loss: 0.3136 - val_sparse_categorical_accuracy: 0.8959\n",
            "Epoch 159/200\n",
            "938/938 [==============================] - 17s 18ms/step - loss: 0.3910 - sparse_categorical_accuracy: 0.8650 - val_loss: 0.3097 - val_sparse_categorical_accuracy: 0.8901\n",
            "Epoch 160/200\n",
            "938/938 [==============================] - 16s 17ms/step - loss: 0.3978 - sparse_categorical_accuracy: 0.8642 - val_loss: 0.3135 - val_sparse_categorical_accuracy: 0.8939\n",
            "Epoch 161/200\n",
            "938/938 [==============================] - 19s 20ms/step - loss: 0.4024 - sparse_categorical_accuracy: 0.8618 - val_loss: 0.3117 - val_sparse_categorical_accuracy: 0.8905\n",
            "Epoch 162/200\n",
            "938/938 [==============================] - 17s 18ms/step - loss: 0.3936 - sparse_categorical_accuracy: 0.8641 - val_loss: 0.3203 - val_sparse_categorical_accuracy: 0.8886\n",
            "Epoch 163/200\n",
            "938/938 [==============================] - 16s 17ms/step - loss: 0.3979 - sparse_categorical_accuracy: 0.8646 - val_loss: 0.3059 - val_sparse_categorical_accuracy: 0.8925\n",
            "Epoch 164/200\n",
            "938/938 [==============================] - 18s 19ms/step - loss: 0.3938 - sparse_categorical_accuracy: 0.8642 - val_loss: 0.3115 - val_sparse_categorical_accuracy: 0.8946\n",
            "Epoch 165/200\n",
            "938/938 [==============================] - 17s 18ms/step - loss: 0.3964 - sparse_categorical_accuracy: 0.8636 - val_loss: 0.3212 - val_sparse_categorical_accuracy: 0.8944\n",
            "Epoch 166/200\n",
            "938/938 [==============================] - 16s 17ms/step - loss: 0.3958 - sparse_categorical_accuracy: 0.8647 - val_loss: 0.3167 - val_sparse_categorical_accuracy: 0.8864\n",
            "Epoch 167/200\n",
            "938/938 [==============================] - 17s 18ms/step - loss: 0.3951 - sparse_categorical_accuracy: 0.8650 - val_loss: 0.3258 - val_sparse_categorical_accuracy: 0.8905\n",
            "Epoch 168/200\n",
            "938/938 [==============================] - 17s 18ms/step - loss: 0.3953 - sparse_categorical_accuracy: 0.8654 - val_loss: 0.3150 - val_sparse_categorical_accuracy: 0.8874\n",
            "Epoch 169/200\n",
            "938/938 [==============================] - 17s 18ms/step - loss: 0.3954 - sparse_categorical_accuracy: 0.8646 - val_loss: 0.3271 - val_sparse_categorical_accuracy: 0.8917\n",
            "Epoch 170/200\n",
            "938/938 [==============================] - 17s 18ms/step - loss: 0.3980 - sparse_categorical_accuracy: 0.8653 - val_loss: 0.3207 - val_sparse_categorical_accuracy: 0.8939\n",
            "Epoch 171/200\n",
            "938/938 [==============================] - 18s 19ms/step - loss: 0.3896 - sparse_categorical_accuracy: 0.8661 - val_loss: 0.3172 - val_sparse_categorical_accuracy: 0.8947\n",
            "Epoch 172/200\n",
            "938/938 [==============================] - 17s 18ms/step - loss: 0.3926 - sparse_categorical_accuracy: 0.8649 - val_loss: 0.3105 - val_sparse_categorical_accuracy: 0.8913\n",
            "Epoch 173/200\n",
            "938/938 [==============================] - 18s 19ms/step - loss: 0.3948 - sparse_categorical_accuracy: 0.8662 - val_loss: 0.3261 - val_sparse_categorical_accuracy: 0.8931\n",
            "Epoch 174/200\n",
            "938/938 [==============================] - 18s 19ms/step - loss: 0.3982 - sparse_categorical_accuracy: 0.8645 - val_loss: 0.3272 - val_sparse_categorical_accuracy: 0.8870\n",
            "Epoch 175/200\n",
            "938/938 [==============================] - 17s 18ms/step - loss: 0.3972 - sparse_categorical_accuracy: 0.8629 - val_loss: 0.3227 - val_sparse_categorical_accuracy: 0.8937\n",
            "Epoch 176/200\n",
            "938/938 [==============================] - 17s 19ms/step - loss: 0.3992 - sparse_categorical_accuracy: 0.8625 - val_loss: 0.3065 - val_sparse_categorical_accuracy: 0.8893\n",
            "Epoch 177/200\n",
            "938/938 [==============================] - 17s 18ms/step - loss: 0.3938 - sparse_categorical_accuracy: 0.8625 - val_loss: 0.3320 - val_sparse_categorical_accuracy: 0.8905\n",
            "Epoch 178/200\n",
            "938/938 [==============================] - 17s 18ms/step - loss: 0.3919 - sparse_categorical_accuracy: 0.8665 - val_loss: 0.3029 - val_sparse_categorical_accuracy: 0.8931\n",
            "Epoch 179/200\n",
            "938/938 [==============================] - 17s 18ms/step - loss: 0.3964 - sparse_categorical_accuracy: 0.8640 - val_loss: 0.3167 - val_sparse_categorical_accuracy: 0.8894\n",
            "Epoch 180/200\n",
            "938/938 [==============================] - 18s 19ms/step - loss: 0.3980 - sparse_categorical_accuracy: 0.8644 - val_loss: 0.3046 - val_sparse_categorical_accuracy: 0.8929\n",
            "Epoch 181/200\n",
            "938/938 [==============================] - 17s 18ms/step - loss: 0.3974 - sparse_categorical_accuracy: 0.8671 - val_loss: 0.3103 - val_sparse_categorical_accuracy: 0.8911\n",
            "Epoch 182/200\n",
            "938/938 [==============================] - 17s 18ms/step - loss: 0.3974 - sparse_categorical_accuracy: 0.8639 - val_loss: 0.3214 - val_sparse_categorical_accuracy: 0.8940\n",
            "Epoch 183/200\n",
            "938/938 [==============================] - 18s 19ms/step - loss: 0.3953 - sparse_categorical_accuracy: 0.8651 - val_loss: 0.3439 - val_sparse_categorical_accuracy: 0.8759\n",
            "Epoch 184/200\n",
            "938/938 [==============================] - 18s 19ms/step - loss: 0.3985 - sparse_categorical_accuracy: 0.8648 - val_loss: 0.3559 - val_sparse_categorical_accuracy: 0.8813\n",
            "Epoch 185/200\n",
            "938/938 [==============================] - 18s 20ms/step - loss: 0.3957 - sparse_categorical_accuracy: 0.8635 - val_loss: 0.3548 - val_sparse_categorical_accuracy: 0.8852\n",
            "Epoch 186/200\n",
            "938/938 [==============================] - 17s 18ms/step - loss: 0.3929 - sparse_categorical_accuracy: 0.8662 - val_loss: 0.3097 - val_sparse_categorical_accuracy: 0.8912\n",
            "Epoch 187/200\n",
            "938/938 [==============================] - 17s 18ms/step - loss: 0.3962 - sparse_categorical_accuracy: 0.8646 - val_loss: 0.3470 - val_sparse_categorical_accuracy: 0.8853\n",
            "Epoch 188/200\n",
            "938/938 [==============================] - 18s 19ms/step - loss: 0.3981 - sparse_categorical_accuracy: 0.8668 - val_loss: 0.3253 - val_sparse_categorical_accuracy: 0.8933\n",
            "Epoch 189/200\n",
            "938/938 [==============================] - 17s 18ms/step - loss: 0.3930 - sparse_categorical_accuracy: 0.8654 - val_loss: 0.3120 - val_sparse_categorical_accuracy: 0.8936\n",
            "Epoch 190/200\n",
            "938/938 [==============================] - 17s 18ms/step - loss: 0.3952 - sparse_categorical_accuracy: 0.8636 - val_loss: 0.3428 - val_sparse_categorical_accuracy: 0.8785\n",
            "Epoch 191/200\n",
            "938/938 [==============================] - 18s 20ms/step - loss: 0.3976 - sparse_categorical_accuracy: 0.8622 - val_loss: 0.3183 - val_sparse_categorical_accuracy: 0.8891\n",
            "Epoch 192/200\n",
            "938/938 [==============================] - 17s 18ms/step - loss: 0.3900 - sparse_categorical_accuracy: 0.8659 - val_loss: 0.3417 - val_sparse_categorical_accuracy: 0.8884\n",
            "Epoch 193/200\n",
            "938/938 [==============================] - 17s 19ms/step - loss: 0.3969 - sparse_categorical_accuracy: 0.8640 - val_loss: 0.3200 - val_sparse_categorical_accuracy: 0.8944\n",
            "Epoch 194/200\n",
            "938/938 [==============================] - 19s 20ms/step - loss: 0.3941 - sparse_categorical_accuracy: 0.8658 - val_loss: 0.3379 - val_sparse_categorical_accuracy: 0.8888\n",
            "Epoch 195/200\n",
            "938/938 [==============================] - 17s 18ms/step - loss: 0.3956 - sparse_categorical_accuracy: 0.8650 - val_loss: 0.3079 - val_sparse_categorical_accuracy: 0.8906\n",
            "Epoch 196/200\n",
            "938/938 [==============================] - 18s 19ms/step - loss: 0.3968 - sparse_categorical_accuracy: 0.8650 - val_loss: 0.3149 - val_sparse_categorical_accuracy: 0.8916\n",
            "Epoch 197/200\n",
            "938/938 [==============================] - 18s 19ms/step - loss: 0.3942 - sparse_categorical_accuracy: 0.8638 - val_loss: 0.3102 - val_sparse_categorical_accuracy: 0.8957\n",
            "Epoch 198/200\n",
            "938/938 [==============================] - 17s 18ms/step - loss: 0.3919 - sparse_categorical_accuracy: 0.8648 - val_loss: 0.3418 - val_sparse_categorical_accuracy: 0.8893\n",
            "Epoch 199/200\n",
            "938/938 [==============================] - 17s 19ms/step - loss: 0.3946 - sparse_categorical_accuracy: 0.8655 - val_loss: 0.3397 - val_sparse_categorical_accuracy: 0.8830\n",
            "Epoch 200/200\n",
            "938/938 [==============================] - 18s 19ms/step - loss: 0.3954 - sparse_categorical_accuracy: 0.8650 - val_loss: 0.3172 - val_sparse_categorical_accuracy: 0.8906\n",
            "313/313 [==============================] - 2s 5ms/step - loss: 0.3310 - sparse_categorical_accuracy: 0.8846\n",
            "\n",
            "Test accuracy: 0.8845999836921692\n"
          ]
        }
      ]
    },
    {
      "cell_type": "code",
      "source": [
        "print('\\nhistory dict:', list(history.history.keys()))"
      ],
      "metadata": {
        "id": "CxRE-B_Q6Sii",
        "colab": {
          "base_uri": "https://localhost:8080/"
        },
        "outputId": "5bf69f57-d0c5-44cb-a337-62335f02c519"
      },
      "execution_count": 126,
      "outputs": [
        {
          "output_type": "stream",
          "name": "stdout",
          "text": [
            "\n",
            "history dict: ['loss', 'sparse_categorical_accuracy', 'val_loss', 'val_sparse_categorical_accuracy']\n"
          ]
        }
      ]
    },
    {
      "cell_type": "code",
      "source": [
        "result = model.evaluate(x_test, y_test)\n",
        "print(result)"
      ],
      "metadata": {
        "id": "YXpwRRTvTBNg",
        "colab": {
          "base_uri": "https://localhost:8080/"
        },
        "outputId": "6df7d5c3-f6bc-481c-ced6-d06a83b30bb9"
      },
      "execution_count": 127,
      "outputs": [
        {
          "output_type": "stream",
          "name": "stdout",
          "text": [
            "313/313 [==============================] - 1s 4ms/step - loss: 0.3310 - sparse_categorical_accuracy: 0.8846\n",
            "[0.331014484167099, 0.8845999836921692]\n"
          ]
        }
      ]
    },
    {
      "cell_type": "code",
      "source": [
        "saved_model = load_model('best_model.h5')\n",
        "result = saved_model.evaluate(x_test, y_test)\n",
        "print(result)"
      ],
      "metadata": {
        "id": "dpaZAW0vp1AZ",
        "colab": {
          "base_uri": "https://localhost:8080/"
        },
        "outputId": "fd5b9455-62af-41b8-91dc-9f52e03e8eb0"
      },
      "execution_count": 128,
      "outputs": [
        {
          "output_type": "stream",
          "name": "stdout",
          "text": [
            "313/313 [==============================] - 1s 4ms/step - loss: 0.3286 - sparse_categorical_accuracy: 0.8840\n",
            "[0.328641802072525, 0.8840000033378601]\n"
          ]
        }
      ]
    },
    {
      "cell_type": "code",
      "source": [
        "# from keras.models import load_model\n",
        "# saved_model = load_model('best_model.h5')\n",
        "# # _, train_acc = saved_model.evaluate(x_train, y_train, verbose=0)\n",
        "# _, test_acc = saved_model.evaluate(x_test, y_test, verbose=0)\n",
        "# print('Test: %.3f' % (test_acc))"
      ],
      "metadata": {
        "id": "DR_MS9DABo_K"
      },
      "execution_count": 129,
      "outputs": []
    },
    {
      "cell_type": "code",
      "source": [
        "history_dict = history.history\n",
        "loss_values = history_dict['loss']\n",
        "val_loss_values = history_dict['val_loss']\n",
        "\n",
        "epochs = range(1, len(history_dict['loss']) + 1)\n",
        "\n",
        "plt.figure(figsize=(10, 5))\n",
        "plt.plot(epochs, loss_values, 'bo', label='Training loss')\n",
        "plt.plot(epochs, val_loss_values, 'r', label='Validation loss')\n",
        "plt.ylim (0.2, 0.5)\n",
        "plt.title('Training and validation loss')\n",
        "plt.xlabel('Epochs')\n",
        "plt.ylabel('Loss')\n",
        "plt.legend()\n",
        "plt.grid(True)\n",
        "plt.show()\n",
        "1\n",
        "plt.clf()\n",
        "plt.figure(figsize=(10, 5))\n",
        "val_acc_values = history_dict['sparse_categorical_accuracy']\n",
        "plt.plot(epochs, history_dict['sparse_categorical_accuracy'], 'bo', label='Training acc')\n",
        "plt.plot(epochs, history_dict['val_sparse_categorical_accuracy'], 'r', label='Validation acc')\n",
        "plt.ylim (0.88, 0.92)\n",
        "plt.title('Training and validation accuracy')\n",
        "plt.xlabel('Epochs')\n",
        "plt.ylabel('Accuracy')\n",
        "plt.legend()\n",
        "plt.grid(True)"
      ],
      "metadata": {
        "id": "2Ll_5sGlXKMH",
        "colab": {
          "base_uri": "https://localhost:8080/",
          "height": 975
        },
        "outputId": "8509d5af-3713-40e3-cbd3-983468321413"
      },
      "execution_count": 130,
      "outputs": [
        {
          "output_type": "display_data",
          "data": {
            "text/plain": [
              "<Figure size 1000x500 with 1 Axes>"
            ],
            "image/png": "[encoded data removed]"
          },
          "metadata": {}
        },
        {
          "output_type": "display_data",
          "data": {
            "text/plain": [
              "<Figure size 640x480 with 0 Axes>"
            ]
          },
          "metadata": {}
        },
        {
          "output_type": "display_data",
          "data": {
            "text/plain": [
              "<Figure size 1000x500 with 1 Axes>"
            ],
            "image/png": "[encoded data removed]"
          },
          "metadata": {}
        }
      ]
    },
    {
      "cell_type": "code",
      "source": [
        "probability_model = tf.keras.Sequential([model,\n",
        "                                         tf.keras.layers.Softmax()])"
      ],
      "metadata": {
        "id": "VzOdKAT_uV-f"
      },
      "execution_count": 131,
      "outputs": []
    },
    {
      "cell_type": "code",
      "source": [
        "predictions = probability_model.predict(x_test)"
      ],
      "metadata": {
        "id": "f4is3NFruYom",
        "colab": {
          "base_uri": "https://localhost:8080/"
        },
        "outputId": "e9cadfda-91ce-469f-c909-d0ddaa6d0077"
      },
      "execution_count": 132,
      "outputs": [
        {
          "output_type": "stream",
          "name": "stdout",
          "text": [
            "313/313 [==============================] - 2s 5ms/step\n"
          ]
        }
      ]
    },
    {
      "cell_type": "code",
      "source": [
        "predictions[0]"
      ],
      "metadata": {
        "id": "82cigvlZudz_",
        "colab": {
          "base_uri": "https://localhost:8080/"
        },
        "outputId": "0b850f2e-df5c-44cc-8e7e-4e311b81f9ab"
      },
      "execution_count": 133,
      "outputs": [
        {
          "output_type": "execute_result",
          "data": {
            "text/plain": [
              "array([0.08778431, 0.08778431, 0.08778431, 0.08778431, 0.08778431,\n",
              "       0.09045144, 0.08778431, 0.10964493, 0.08778431, 0.18541342],\n",
              "      dtype=float32)"
            ]
          },
          "metadata": {},
          "execution_count": 133
        }
      ]
    },
    {
      "cell_type": "code",
      "source": [
        "model.summary()"
      ],
      "metadata": {
        "id": "6RsQPHyYuNGe",
        "colab": {
          "base_uri": "https://localhost:8080/"
        },
        "outputId": "2e9ae912-6da0-402a-9f3c-3d1ac899a7f1"
      },
      "execution_count": 134,
      "outputs": [
        {
          "output_type": "stream",
          "name": "stdout",
          "text": [
            "Model: \"sequential_2\"\n",
            "_________________________________________________________________\n",
            " Layer (type)                Output Shape              Param #   \n",
            "=================================================================\n",
            " flatten_1 (Flatten)         (None, 784)               0         \n",
            "                                                                 \n",
            " dropout_4 (Dropout)         (None, 784)               0         \n",
            "                                                                 \n",
            " batch_normalization_3 (Bat  (None, 784)               3136      \n",
            " chNormalization)                                                \n",
            "                                                                 \n",
            " dense_4 (Dense)             (None, 256)               200960    \n",
            "                                                                 \n",
            " dropout_5 (Dropout)         (None, 256)               0         \n",
            "                                                                 \n",
            " batch_normalization_4 (Bat  (None, 256)               1024      \n",
            " chNormalization)                                                \n",
            "                                                                 \n",
            " dense_5 (Dense)             (None, 512)               131584    \n",
            "                                                                 \n",
            " dropout_6 (Dropout)         (None, 512)               0         \n",
            "                                                                 \n",
            " batch_normalization_5 (Bat  (None, 512)               2048      \n",
            " chNormalization)                                                \n",
            "                                                                 \n",
            " dense_6 (Dense)             (None, 512)               262656    \n",
            "                                                                 \n",
            " dropout_7 (Dropout)         (None, 512)               0         \n",
            "                                                                 \n",
            " dense_7 (Dense)             (None, 10)                5130      \n",
            "                                                                 \n",
            "=================================================================\n",
            "Total params: 606538 (2.31 MB)\n",
            "Trainable params: 603434 (2.30 MB)\n",
            "Non-trainable params: 3104 (12.12 KB)\n",
            "_________________________________________________________________\n"
          ]
        }
      ]
    },
    {
      "cell_type": "code",
      "source": [
        "\n",
        "\n",
        "\n",
        "\n",
        "hnyetjn hrte()"
      ],
      "metadata": {
        "id": "S4hcxZttmp-0",
        "colab": {
          "base_uri": "https://localhost:8080/",
          "height": 108
        },
        "outputId": "d2f36c01-8f35-42c5-802e-9faf66fb7073"
      },
      "execution_count": 135,
      "outputs": [
        {
          "output_type": "error",
          "ename": "SyntaxError",
          "evalue": "invalid syntax (<ipython-input-135-1a3818e70946>, line 1)",
          "traceback": [
            "\u001b[0;36m  File \u001b[0;32m\"<ipython-input-135-1a3818e70946>\"\u001b[0;36m, line \u001b[0;32m1\u001b[0m\n\u001b[0;31m    hnyetjn hrte()\u001b[0m\n\u001b[0m            ^\u001b[0m\n\u001b[0;31mSyntaxError\u001b[0m\u001b[0;31m:\u001b[0m invalid syntax\n"
          ]
        }
      ]
    }
  ]
}