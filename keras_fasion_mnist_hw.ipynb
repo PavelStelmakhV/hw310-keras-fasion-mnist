{
  "nbformat": 4,
  "nbformat_minor": 0,
  "metadata": {
    "colab": {
      "provenance": [],
      "gpuType": "T4",
      "authorship_tag": "ABX9TyOE1HkaxftMo8+ASvGSUJlI",
      "include_colab_link": true
    },
    "kernelspec": {
      "name": "python3",
      "display_name": "Python 3"
    },
    "language_info": {
      "name": "python"
    },
    "accelerator": "GPU"
  },
  "cells": [
    {
      "cell_type": "markdown",
      "metadata": {
        "id": "view-in-github",
        "colab_type": "text"
      },
      "source": [
        "<a href=\"https://colab.research.google.com/github/PavelStelmakhV/hw310-keras-fasion-mnist/blob/main/keras_fasion_mnist_hw.ipynb\" target=\"_parent\"><img src=\"https://colab.research.google.com/assets/colab-badge.svg\" alt=\"Open In Colab\"/></a>"
      ]
    },
    {
      "cell_type": "code",
      "execution_count": 73,
      "metadata": {
        "id": "vv7w0bgAVQPO"
      },
      "outputs": [],
      "source": [
        "import tensorflow as tf\n",
        "import numpy as np\n",
        "import matplotlib.pyplot as plt\n",
        "\n",
        "from keras import layers\n",
        "from keras import regularizers\n",
        "from keras import callbacks\n",
        "from keras import initializers\n",
        "from keras.layers import BatchNormalization"
      ]
    },
    {
      "cell_type": "code",
      "source": [
        "fashion_mnist = tf.keras.datasets.fashion_mnist\n",
        "\n",
        "(x_train, y_train), (x_test, y_test) = fashion_mnist.load_data()"
      ],
      "metadata": {
        "id": "mOpywsNAzfGB"
      },
      "execution_count": 74,
      "outputs": []
    },
    {
      "cell_type": "code",
      "source": [
        "# x_train = x_train.reshape(60000, 784).astype('float32') / 255\n",
        "# x_test = x_test.reshape(10000, 784).astype('float32') / 255\n",
        "x_train = x_train.astype('float32') / 255\n",
        "x_test = x_test.astype('float32') / 255\n",
        "\n",
        "y_train = y_train.astype('float32')\n",
        "y_test = y_test.astype('float32')\n",
        "\n",
        "# Перемешаем тренировочные данные\n",
        "# train_data = tf.data.Dataset.from_tensor_slices((x_train, y_train))\n",
        "# train_data = train_data.repeat().shuffle(5000).batch(batch_size).prefetch(1)"
      ],
      "metadata": {
        "id": "t2gucjsJ0KUi"
      },
      "execution_count": 75,
      "outputs": []
    },
    {
      "cell_type": "code",
      "source": [
        "x_val = x_train[-10000:]\n",
        "y_val = y_train[-10000:]\n",
        "x_train = x_train[:-10000]\n",
        "y_train = y_train[:-10000]"
      ],
      "metadata": {
        "id": "fLPNXab5dHwO"
      },
      "execution_count": 76,
      "outputs": []
    },
    {
      "cell_type": "code",
      "source": [],
      "metadata": {
        "id": "bU5TK5YdlnU5"
      },
      "execution_count": 76,
      "outputs": []
    },
    {
      "cell_type": "code",
      "source": [
        "w_init = initializers.glorot_normal()\n",
        "b_init = initializers.Zeros()"
      ],
      "metadata": {
        "id": "yL9QTEtBGy4N"
      },
      "execution_count": 77,
      "outputs": []
    },
    {
      "cell_type": "code",
      "source": [
        "model = tf.keras.Sequential()\n",
        "\n",
        "drop_out = 0.2\n",
        "lern_rat = 0.001\n",
        "neurons = 128\n",
        "\n",
        "model.add(layers.Flatten(input_shape=(28, 28)))\n",
        "model.add(layers.Dropout(0.35))\n",
        "\n",
        "model.add(layers.Dense(neurons * 1, activation='relu', kernel_initializer=w_init, bias_initializer=b_init)) #, kernel_regularizer=regularizers.l2(lern_rat)\n",
        "model.add(BatchNormalization())\n",
        "# model.add(layers.Dropout(drop_out))\n",
        "model.add(layers.Dense(neurons * 2, activation='relu'))\n",
        "model.add(BatchNormalization())\n",
        "model.add(layers.Dropout(drop_out))\n",
        "\n",
        "model.add(layers.Dense(neurons * 4, activation='tanh'))\n",
        "model.add(BatchNormalization())\n",
        "model.add(layers.Dropout(drop_out * 1.5))\n",
        "\n",
        "# model.add(layers.Dense(neurons * 8, activation='tanh'))\n",
        "# model.add(BatchNormalization())\n",
        "# model.add(layers.Dropout(drop_out * 2))\n",
        "\n",
        "model.add(layers.Dense(10, activation='softmax'))"
      ],
      "metadata": {
        "id": "atS39i4d0aqW"
      },
      "execution_count": 78,
      "outputs": []
    },
    {
      "cell_type": "code",
      "source": [],
      "metadata": {
        "id": "EzfnaqIZlfy8"
      },
      "execution_count": 78,
      "outputs": []
    },
    {
      "cell_type": "code",
      "source": [
        "model.compile(#optimizer='adam',\n",
        "              optimizer='adamax',\n",
        "              # optimizer='nadam',\n",
        "              # optimizer='rmsprop',\n",
        "              # optimizer='sgd',\n",
        "              # optimizer='adadelta',\n",
        "              # loss='binary_crossentropy',\n",
        "              loss=tf.keras.losses.SparseCategoricalCrossentropy(),\n",
        "              metrics=['accuracy']) # sparse_categorical_accuracy"
      ],
      "metadata": {
        "id": "hENVaAC7ilNY"
      },
      "execution_count": 79,
      "outputs": []
    },
    {
      "cell_type": "code",
      "source": [
        "x = np.random.random((1, 28, 28))\n",
        "a = model.predict(x)\n",
        "_ = plt.hist(np.transpose(a))"
      ],
      "metadata": {
        "id": "RFgZHNNFMa8p",
        "outputId": "a4d7c2f6-f5a7-4c0e-95b9-4229fd3bbf64",
        "colab": {
          "base_uri": "https://localhost:8080/",
          "height": 448
        }
      },
      "execution_count": 80,
      "outputs": [
        {
          "output_type": "stream",
          "name": "stdout",
          "text": [
            "1/1 [==============================] - 0s 123ms/step\n"
          ]
        },
        {
          "output_type": "display_data",
          "data": {
            "text/plain": [
              "<Figure size 640x480 with 1 Axes>"
            ],
            "image/png": "[encoded data removed]"
          },
          "metadata": {}
        }
      ]
    },
    {
      "cell_type": "code",
      "source": [
        "y_pred = model.predict(x_test)"
      ],
      "metadata": {
        "id": "UDP8OKKZ8oQa",
        "outputId": "1c688853-f763-48c2-ce33-662426cb1208",
        "colab": {
          "base_uri": "https://localhost:8080/"
        }
      },
      "execution_count": 81,
      "outputs": [
        {
          "output_type": "stream",
          "name": "stdout",
          "text": [
            "313/313 [==============================] - 1s 2ms/step\n"
          ]
        }
      ]
    },
    {
      "cell_type": "code",
      "source": [
        "callback = callbacks.EarlyStopping(monitor='val_loss',\n",
        "                                   patience=20,\n",
        "                                   restore_best_weights=True,\n",
        "                                   )"
      ],
      "metadata": {
        "id": "5ihU4exVlsjm"
      },
      "execution_count": 82,
      "outputs": []
    },
    {
      "cell_type": "code",
      "source": [
        "# model.fit(train_images, train_labels, epochs=20)\n",
        "history = model.fit(x_train, y_train,\n",
        "                    epochs=300,\n",
        "                    batch_size=128,\n",
        "                    callbacks=[callback],\n",
        "                    verbose=1, #многословие\n",
        "                    validation_data=(x_val, y_val))\n",
        "test_loss, test_acc = model.evaluate(x_test, y_test)\n",
        "print('\\nTest accuracy:', test_acc)"
      ],
      "metadata": {
        "id": "FH8HcMNm233I",
        "outputId": "4bf54ee3-b3cc-4dfe-97cc-8d0f3473ea82",
        "colab": {
          "base_uri": "https://localhost:8080/"
        }
      },
      "execution_count": null,
      "outputs": [
        {
          "output_type": "stream",
          "name": "stdout",
          "text": [
            "Epoch 1/300\n",
            "391/391 [==============================] - 9s 17ms/step - loss: 0.8178 - accuracy: 0.7133 - val_loss: 0.5168 - val_accuracy: 0.8125\n",
            "Epoch 2/300\n",
            "391/391 [==============================] - 7s 17ms/step - loss: 0.6088 - accuracy: 0.7807 - val_loss: 0.4493 - val_accuracy: 0.8400\n",
            "Epoch 3/300\n",
            "391/391 [==============================] - 7s 18ms/step - loss: 0.5467 - accuracy: 0.8019 - val_loss: 0.4288 - val_accuracy: 0.8403\n",
            "Epoch 4/300\n",
            "391/391 [==============================] - 5s 13ms/step - loss: 0.4999 - accuracy: 0.8174 - val_loss: 0.3934 - val_accuracy: 0.8559\n",
            "Epoch 5/300\n",
            "391/391 [==============================] - 6s 16ms/step - loss: 0.4711 - accuracy: 0.8264 - val_loss: 0.3880 - val_accuracy: 0.8560\n",
            "Epoch 6/300\n",
            "391/391 [==============================] - 6s 14ms/step - loss: 0.4507 - accuracy: 0.8332 - val_loss: 0.3704 - val_accuracy: 0.8650\n",
            "Epoch 7/300\n",
            "391/391 [==============================] - 5s 13ms/step - loss: 0.4338 - accuracy: 0.8405 - val_loss: 0.3638 - val_accuracy: 0.8655\n",
            "Epoch 8/300\n",
            "391/391 [==============================] - 6s 16ms/step - loss: 0.4201 - accuracy: 0.8436 - val_loss: 0.3515 - val_accuracy: 0.8707\n",
            "Epoch 9/300\n",
            "391/391 [==============================] - 5s 14ms/step - loss: 0.4081 - accuracy: 0.8471 - val_loss: 0.3614 - val_accuracy: 0.8698\n",
            "Epoch 10/300\n",
            "391/391 [==============================] - 7s 17ms/step - loss: 0.3994 - accuracy: 0.8503 - val_loss: 0.3469 - val_accuracy: 0.8729\n",
            "Epoch 11/300\n",
            "391/391 [==============================] - 5s 13ms/step - loss: 0.3916 - accuracy: 0.8539 - val_loss: 0.3457 - val_accuracy: 0.8721\n",
            "Epoch 12/300\n",
            "391/391 [==============================] - 6s 16ms/step - loss: 0.3861 - accuracy: 0.8545 - val_loss: 0.3360 - val_accuracy: 0.8768\n",
            "Epoch 13/300\n",
            "391/391 [==============================] - 6s 14ms/step - loss: 0.3785 - accuracy: 0.8578 - val_loss: 0.3296 - val_accuracy: 0.8791\n",
            "Epoch 14/300\n",
            "391/391 [==============================] - 5s 13ms/step - loss: 0.3739 - accuracy: 0.8603 - val_loss: 0.3212 - val_accuracy: 0.8791\n",
            "Epoch 15/300\n",
            "391/391 [==============================] - 6s 17ms/step - loss: 0.3659 - accuracy: 0.8617 - val_loss: 0.3214 - val_accuracy: 0.8804\n",
            "Epoch 16/300\n",
            "391/391 [==============================] - 5s 14ms/step - loss: 0.3602 - accuracy: 0.8639 - val_loss: 0.3287 - val_accuracy: 0.8784\n",
            "Epoch 17/300\n",
            "391/391 [==============================] - 7s 17ms/step - loss: 0.3565 - accuracy: 0.8669 - val_loss: 0.3239 - val_accuracy: 0.8812\n",
            "Epoch 18/300\n",
            "391/391 [==============================] - 5s 14ms/step - loss: 0.3557 - accuracy: 0.8667 - val_loss: 0.3176 - val_accuracy: 0.8837\n",
            "Epoch 19/300\n",
            "391/391 [==============================] - 6s 16ms/step - loss: 0.3479 - accuracy: 0.8695 - val_loss: 0.3155 - val_accuracy: 0.8866\n",
            "Epoch 20/300\n",
            "391/391 [==============================] - 6s 14ms/step - loss: 0.3429 - accuracy: 0.8715 - val_loss: 0.3169 - val_accuracy: 0.8821\n",
            "Epoch 21/300\n",
            "391/391 [==============================] - 5s 14ms/step - loss: 0.3404 - accuracy: 0.8723 - val_loss: 0.3140 - val_accuracy: 0.8825\n",
            "Epoch 22/300\n",
            "391/391 [==============================] - 6s 16ms/step - loss: 0.3419 - accuracy: 0.8703 - val_loss: 0.3068 - val_accuracy: 0.8857\n",
            "Epoch 23/300\n",
            "391/391 [==============================] - 5s 13ms/step - loss: 0.3369 - accuracy: 0.8720 - val_loss: 0.3199 - val_accuracy: 0.8847\n",
            "Epoch 24/300\n",
            "391/391 [==============================] - 6s 17ms/step - loss: 0.3325 - accuracy: 0.8749 - val_loss: 0.3060 - val_accuracy: 0.8855\n",
            "Epoch 25/300\n",
            "391/391 [==============================] - 5s 13ms/step - loss: 0.3288 - accuracy: 0.8752 - val_loss: 0.3148 - val_accuracy: 0.8811\n",
            "Epoch 26/300\n",
            "391/391 [==============================] - 6s 16ms/step - loss: 0.3323 - accuracy: 0.8760 - val_loss: 0.3106 - val_accuracy: 0.8853\n",
            "Epoch 27/300\n",
            "391/391 [==============================] - 6s 14ms/step - loss: 0.3226 - accuracy: 0.8785 - val_loss: 0.3008 - val_accuracy: 0.8885\n",
            "Epoch 28/300\n",
            "391/391 [==============================] - 5s 13ms/step - loss: 0.3260 - accuracy: 0.8767 - val_loss: 0.3053 - val_accuracy: 0.8853\n",
            "Epoch 29/300\n",
            "391/391 [==============================] - 6s 16ms/step - loss: 0.3219 - accuracy: 0.8791 - val_loss: 0.3024 - val_accuracy: 0.8896\n",
            "Epoch 30/300\n",
            "391/391 [==============================] - 5s 14ms/step - loss: 0.3185 - accuracy: 0.8776 - val_loss: 0.2941 - val_accuracy: 0.8902\n",
            "Epoch 31/300\n",
            "391/391 [==============================] - 6s 16ms/step - loss: 0.3196 - accuracy: 0.8778 - val_loss: 0.2934 - val_accuracy: 0.8905\n",
            "Epoch 32/300\n",
            "391/391 [==============================] - 5s 13ms/step - loss: 0.3141 - accuracy: 0.8807 - val_loss: 0.3004 - val_accuracy: 0.8873\n",
            "Epoch 33/300\n",
            "391/391 [==============================] - 6s 15ms/step - loss: 0.3134 - accuracy: 0.8822 - val_loss: 0.2945 - val_accuracy: 0.8885\n",
            "Epoch 34/300\n",
            "391/391 [==============================] - 6s 15ms/step - loss: 0.3106 - accuracy: 0.8815 - val_loss: 0.2928 - val_accuracy: 0.8904\n",
            "Epoch 35/300\n",
            "391/391 [==============================] - 5s 13ms/step - loss: 0.3126 - accuracy: 0.8823 - val_loss: 0.2901 - val_accuracy: 0.8903\n",
            "Epoch 36/300\n",
            "391/391 [==============================] - 7s 17ms/step - loss: 0.3069 - accuracy: 0.8845 - val_loss: 0.2919 - val_accuracy: 0.8924\n",
            "Epoch 37/300\n",
            "391/391 [==============================] - 5s 13ms/step - loss: 0.3086 - accuracy: 0.8830 - val_loss: 0.2854 - val_accuracy: 0.8942\n",
            "Epoch 38/300\n",
            "391/391 [==============================] - 9s 23ms/step - loss: 0.3044 - accuracy: 0.8832 - val_loss: 0.2971 - val_accuracy: 0.8873\n",
            "Epoch 39/300\n",
            "391/391 [==============================] - 6s 15ms/step - loss: 0.3023 - accuracy: 0.8845 - val_loss: 0.2900 - val_accuracy: 0.8935\n",
            "Epoch 40/300\n",
            "391/391 [==============================] - 6s 17ms/step - loss: 0.2999 - accuracy: 0.8859 - val_loss: 0.2878 - val_accuracy: 0.8934\n",
            "Epoch 41/300\n",
            "391/391 [==============================] - 5s 13ms/step - loss: 0.2985 - accuracy: 0.8851 - val_loss: 0.2896 - val_accuracy: 0.8929\n",
            "Epoch 42/300\n",
            "391/391 [==============================] - 7s 17ms/step - loss: 0.2986 - accuracy: 0.8859 - val_loss: 0.2882 - val_accuracy: 0.8917\n",
            "Epoch 43/300\n",
            "391/391 [==============================] - 6s 16ms/step - loss: 0.2998 - accuracy: 0.8856 - val_loss: 0.2899 - val_accuracy: 0.8924\n",
            "Epoch 44/300\n",
            "391/391 [==============================] - 6s 15ms/step - loss: 0.2970 - accuracy: 0.8866 - val_loss: 0.2953 - val_accuracy: 0.8898\n",
            "Epoch 45/300\n",
            "391/391 [==============================] - 6s 15ms/step - loss: 0.2975 - accuracy: 0.8875 - val_loss: 0.2891 - val_accuracy: 0.8918\n",
            "Epoch 46/300\n",
            "336/391 [========================>.....] - ETA: 0s - loss: 0.2926 - accuracy: 0.8896"
          ]
        }
      ]
    },
    {
      "cell_type": "code",
      "source": [
        "print('\\nhistory dict:', list(history.history.keys()))"
      ],
      "metadata": {
        "id": "CxRE-B_Q6Sii"
      },
      "execution_count": null,
      "outputs": []
    },
    {
      "cell_type": "code",
      "source": [
        "result = model.evaluate(x_test, y_test)\n",
        "print(result)"
      ],
      "metadata": {
        "id": "YXpwRRTvTBNg"
      },
      "execution_count": null,
      "outputs": []
    },
    {
      "cell_type": "code",
      "source": [
        "history_dict = history.history\n",
        "loss_values = history_dict['loss']\n",
        "val_loss_values = history_dict['val_loss']\n",
        "\n",
        "epochs = range(1, len(history_dict['loss']) + 1)\n",
        "\n",
        "plt.figure(figsize=(10, 5))\n",
        "plt.plot(epochs, loss_values, 'bo', label='Training loss')\n",
        "plt.plot(epochs, val_loss_values, 'r', label='Validation loss')\n",
        "plt.title('Training and validation loss')\n",
        "plt.xlabel('Epochs')\n",
        "plt.ylabel('Loss')\n",
        "plt.legend()\n",
        "plt.grid(True)\n",
        "plt.show()\n",
        "\n",
        "plt.clf()\n",
        "plt.figure(figsize=(10, 5))\n",
        "val_acc_values = history_dict['accuracy']\n",
        "plt.plot(epochs, history_dict['accuracy'], 'bo', label='Training acc')\n",
        "plt.plot(epochs, history_dict['val_accuracy'], 'r', label='Validation acc')\n",
        "plt.title('Training and validation accuracy')\n",
        "plt.xlabel('Epochs')\n",
        "plt.ylabel('Accuracy')\n",
        "plt.legend()\n",
        "plt.grid(True)"
      ],
      "metadata": {
        "id": "2Ll_5sGlXKMH"
      },
      "execution_count": null,
      "outputs": []
    },
    {
      "cell_type": "code",
      "source": [
        "probability_model = tf.keras.Sequential([model,\n",
        "                                         tf.keras.layers.Softmax()])"
      ],
      "metadata": {
        "id": "VzOdKAT_uV-f"
      },
      "execution_count": null,
      "outputs": []
    },
    {
      "cell_type": "code",
      "source": [
        "predictions = probability_model.predict(x_test)"
      ],
      "metadata": {
        "id": "f4is3NFruYom"
      },
      "execution_count": null,
      "outputs": []
    },
    {
      "cell_type": "code",
      "source": [
        "predictions[0]"
      ],
      "metadata": {
        "id": "82cigvlZudz_"
      },
      "execution_count": null,
      "outputs": []
    },
    {
      "cell_type": "code",
      "source": [
        "model.summary()"
      ],
      "metadata": {
        "id": "6RsQPHyYuNGe"
      },
      "execution_count": null,
      "outputs": []
    }
  ]
}