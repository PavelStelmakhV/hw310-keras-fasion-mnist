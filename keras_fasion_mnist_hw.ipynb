{
  "nbformat": 4,
  "nbformat_minor": 0,
  "metadata": {
    "colab": {
      "provenance": [],
      "gpuType": "T4",
      "authorship_tag": "ABX9TyOIZqrftoBvdLHYWeXf9W2i",
      "include_colab_link": true
    },
    "kernelspec": {
      "name": "python3",
      "display_name": "Python 3"
    },
    "language_info": {
      "name": "python"
    },
    "accelerator": "GPU"
  },
  "cells": [
    {
      "cell_type": "markdown",
      "metadata": {
        "id": "view-in-github",
        "colab_type": "text"
      },
      "source": [
        "<a href=\"https://colab.research.google.com/github/PavelStelmakhV/hw310-keras-fasion-mnist/blob/main/keras_fasion_mnist_hw.ipynb\" target=\"_parent\"><img src=\"https://colab.research.google.com/assets/colab-badge.svg\" alt=\"Open In Colab\"/></a>"
      ]
    },
    {
      "cell_type": "code",
      "source": [
        "import tensorflow as tf\n",
        "from tensorflow.python.client import device_lib\n",
        "print(device_lib.list_local_devices())"
      ],
      "metadata": {
        "colab": {
          "base_uri": "https://localhost:8080/"
        },
        "id": "CQL6wYJUms6Y",
        "outputId": "ec6cd4b8-00a0-42e5-c624-ef779a034855"
      },
      "execution_count": 181,
      "outputs": [
        {
          "output_type": "stream",
          "name": "stdout",
          "text": [
            "[name: \"/device:CPU:0\"\n",
            "device_type: \"CPU\"\n",
            "memory_limit: 268435456\n",
            "locality {\n",
            "}\n",
            "incarnation: 14075099520886581747\n",
            "xla_global_id: -1\n",
            "]\n"
          ]
        }
      ]
    },
    {
      "cell_type": "code",
      "execution_count": 182,
      "metadata": {
        "id": "vv7w0bgAVQPO"
      },
      "outputs": [],
      "source": [
        "import tensorflow as tf\n",
        "import numpy as np\n",
        "import matplotlib.pyplot as plt\n",
        "import tf_keras\n",
        "\n",
        "from keras import layers\n",
        "from keras import models\n",
        "from keras import regularizers\n",
        "from keras import callbacks\n",
        "from keras import initializers\n",
        "from keras.layers import BatchNormalization\n",
        "from keras.models import load_model\n",
        "from tensorflow.keras.utils import to_categorical"
      ]
    },
    {
      "cell_type": "code",
      "source": [
        "num_classes = 10"
      ],
      "metadata": {
        "id": "RvT1uYJsa5cn"
      },
      "execution_count": 183,
      "outputs": []
    },
    {
      "cell_type": "code",
      "source": [
        "fashion_mnist = tf.keras.datasets.fashion_mnist\n",
        "\n",
        "(x_train, y_train), (x_test, y_test) = fashion_mnist.load_data()"
      ],
      "metadata": {
        "id": "mOpywsNAzfGB"
      },
      "execution_count": 184,
      "outputs": []
    },
    {
      "cell_type": "code",
      "source": [
        "def drow_hist(data):\n",
        "  plt.figure(figsize=(8,6), dpi= 80)\n",
        "  _ = plt.hist(data,\n",
        "              bins=num_classes,\n",
        "              stacked=True,\n",
        "              density=False,\n",
        "              range=(0,10),\n",
        "              rwidth=0.9,\n",
        "              )"
      ],
      "metadata": {
        "id": "NjEvuOvomEoT"
      },
      "execution_count": 185,
      "outputs": []
    },
    {
      "cell_type": "code",
      "source": [
        "# create validation data\n",
        "val_size =6000\n",
        "\n",
        "x_val = x_train[-val_size:, :, :]\n",
        "x_train = x_train[:-val_size, :, :]\n",
        "\n",
        "y_val = y_train[-val_size:]\n",
        "y_train = y_train[:-val_size]"
      ],
      "metadata": {
        "id": "jAs92sDoVU89"
      },
      "execution_count": 186,
      "outputs": []
    },
    {
      "cell_type": "code",
      "source": [
        "# mirror train image\n",
        "# x_train_add = np.rot90(x_train, k=1, axes=(1,2))\n",
        "# x_train_add = np.transpose(x_train_add, (0, 2, 1))"
      ],
      "metadata": {
        "id": "UHNuw-3D_v7x"
      },
      "execution_count": 187,
      "outputs": []
    },
    {
      "cell_type": "code",
      "source": [
        "# y_train_add = y_train.copy()"
      ],
      "metadata": {
        "id": "TNDXV8RfZbt1"
      },
      "execution_count": 188,
      "outputs": []
    },
    {
      "cell_type": "code",
      "source": [
        "# # remove boots image from addition data [5, 7, 9]\n",
        "# for i in [5, 7, 9]:\n",
        "#     index = np.where(y_train_add == i )\n",
        "#     x_train_add = np.delete(x_train_add, index , axis=0)\n",
        "#     y_train_add = np.delete(y_train_add, index , axis=0)"
      ],
      "metadata": {
        "id": "506yp4e5UqKp"
      },
      "execution_count": 189,
      "outputs": []
    },
    {
      "cell_type": "code",
      "source": [
        "# x_train_add.shape"
      ],
      "metadata": {
        "id": "WB-PVgBb116E"
      },
      "execution_count": 190,
      "outputs": []
    },
    {
      "cell_type": "code",
      "source": [
        "# y_train_add.shape"
      ],
      "metadata": {
        "id": "MjteIWwr2V-N"
      },
      "execution_count": 191,
      "outputs": []
    },
    {
      "cell_type": "code",
      "source": [
        "# x_train = np.concatenate([\n",
        "#     x_train,\n",
        "#     x_train_add[:10000:, :, :]\n",
        "# ])"
      ],
      "metadata": {
        "id": "C25g0-L5PuhV"
      },
      "execution_count": 192,
      "outputs": []
    },
    {
      "cell_type": "code",
      "source": [
        "# y_train = np.concatenate([\n",
        "#     y_train,\n",
        "#     y_train_add[:10000]\n",
        "# ])"
      ],
      "metadata": {
        "id": "JiyI9CE-RWnR"
      },
      "execution_count": 193,
      "outputs": []
    },
    {
      "cell_type": "code",
      "source": [
        "# drow_hist(y_train)"
      ],
      "metadata": {
        "id": "j0FZ4_7DpRVw"
      },
      "execution_count": 194,
      "outputs": []
    },
    {
      "cell_type": "code",
      "source": [
        "# plt.figure()\n",
        "# plt.imshow(x_train[7])\n",
        "# plt.colorbar()\n",
        "# plt.grid(False)\n",
        "# plt.show()"
      ],
      "metadata": {
        "id": "mq_QalIABCeU"
      },
      "execution_count": 195,
      "outputs": []
    },
    {
      "cell_type": "code",
      "source": [
        "# plt.figure()\n",
        "# plt.imshow(x_train_add[0])\n",
        "# plt.colorbar()\n",
        "# plt.grid(False)\n",
        "# plt.show()"
      ],
      "metadata": {
        "id": "CDLNL7Zw3HEc"
      },
      "execution_count": 196,
      "outputs": []
    },
    {
      "cell_type": "code",
      "source": [
        "x_train = x_train.astype('float32') / 255\n",
        "x_test = x_test.astype('float32') / 255\n",
        "x_val = x_val.astype('float32') / 255\n",
        "\n",
        "y_train = to_categorical(y_train)\n",
        "y_test = to_categorical(y_test)\n",
        "y_val = to_categorical(y_val)"
      ],
      "metadata": {
        "id": "t2gucjsJ0KUi"
      },
      "execution_count": 197,
      "outputs": []
    },
    {
      "cell_type": "code",
      "source": [
        "# class_names = ['T-shirt/top', 'Trouser', 'Pullover', 'Dress', 'Coat',\n",
        "#                'Sandal', 'Shirt', 'Sneaker', 'Bag', 'Ankle boot']\n",
        "\n",
        "# plt.figure(figsize=(10,10))\n",
        "# for i in range(25):\n",
        "#     plt.subplot(5,5,i+1)\n",
        "#     plt.xticks([])\n",
        "#     plt.yticks([])\n",
        "#     plt.grid(False)\n",
        "#     plt.imshow(x_train[i+50000], cmap=plt.cm.binary)\n",
        "#     plt.xlabel(class_names[int(y_train[i+50000])])\n",
        "# plt.show()"
      ],
      "metadata": {
        "id": "h4LveKxM4hyC"
      },
      "execution_count": 198,
      "outputs": []
    },
    {
      "cell_type": "code",
      "source": [
        "# plt.figure(figsize=(10,10))\n",
        "# for i in range(25):\n",
        "#     plt.subplot(5,5,i+1)\n",
        "#     plt.xticks([])\n",
        "#     plt.yticks([])\n",
        "#     plt.grid(False)\n",
        "#     plt.imshow(x_train[i], cmap=plt.cm.binary)\n",
        "#     plt.xlabel(class_names[int(y_train[i])])\n",
        "# plt.show()"
      ],
      "metadata": {
        "id": "hljEDYd55d8Q"
      },
      "execution_count": 199,
      "outputs": []
    },
    {
      "cell_type": "code",
      "source": [
        "w_init_tanh = initializers.glorot_normal(seed=111)\n",
        "w_init_relu = initializers.HeNormal(seed=66)\n",
        "# w_init_relu = initializers.HeUniform(seed=24)\n",
        "b_init = initializers.Zeros()"
      ],
      "metadata": {
        "id": "yL9QTEtBGy4N"
      },
      "execution_count": 200,
      "outputs": []
    },
    {
      "cell_type": "code",
      "source": [
        "def layer_relu(model, neurons, drop_out):\n",
        "  model.add(BatchNormalization())\n",
        "  model.add(layers.Dense(neurons,\n",
        "                       activation='relu',\n",
        "                       kernel_initializer=w_init_relu,\n",
        "                       bias_initializer=b_init))\n",
        "  model.add(layers.Dropout(drop_out))\n",
        "  print(drop_out)\n",
        "  return model"
      ],
      "metadata": {
        "id": "ZZgs_25rKBCp"
      },
      "execution_count": 201,
      "outputs": []
    },
    {
      "cell_type": "code",
      "source": [
        "def layer_tanh(model, neurons, drop_out):\n",
        "  model.add(BatchNormalization())\n",
        "  model.add(layers.Dense(neurons,\n",
        "                        activation='tanh',\n",
        "                        kernel_initializer=w_init_tanh,\n",
        "                        bias_initializer=b_init))\n",
        "  model.add(layers.Dropout(drop_out))\n",
        "  return model"
      ],
      "metadata": {
        "id": "90JLLnkBR50t"
      },
      "execution_count": 202,
      "outputs": []
    },
    {
      "cell_type": "code",
      "source": [
        "model = models.Sequential()\n",
        "\n",
        "neurons = 256\n",
        "drop_out = 0.35\n",
        "\n",
        "model.add(layers.Flatten(input_shape=(28, 28)))\n",
        "model.add(layers.Dropout(0.13))\n",
        "\n",
        "model = layer_relu(model, neurons*1, drop_out)\n",
        "model = layer_tanh(model, neurons*2, drop_out)\n",
        "model = layer_relu(model, neurons*2, drop_out)\n",
        "# model = layer_relu(model, neurons*2)\n",
        "\n",
        "\n",
        "model.add(layers.Dense(10, activation='softmax'))"
      ],
      "metadata": {
        "id": "atS39i4d0aqW",
        "colab": {
          "base_uri": "https://localhost:8080/"
        },
        "outputId": "4a2192b7-dbc6-464d-ba2e-3d065fbef16b"
      },
      "execution_count": 203,
      "outputs": [
        {
          "output_type": "stream",
          "name": "stdout",
          "text": [
            "0.35\n",
            "0.35\n"
          ]
        }
      ]
    },
    {
      "cell_type": "markdown",
      "source": [
        "++++++++++++++++++++++++++++++++++++++++++++++++++++++++++++++++++++++++++++++++"
      ],
      "metadata": {
        "id": "tZO7hl7pM63y"
      }
    },
    {
      "cell_type": "code",
      "source": [
        "optimizer = tf.keras.optimizers.Nadam(learning_rate=0.0004,\n",
        "                                      beta_1=0.9,\n",
        "                                      beta_2=0.999,\n",
        "                                      epsilon=1e-06\n",
        ")\n",
        "# optimizer = tf.keras.optimizers.experimental.RMSprop(learning_rate=0.0005,\n",
        "#                                                     rho=0.5,\n",
        "#                                                     momentum=-16,\n",
        "#                                                     epsilon=1e-07,\n",
        "#                                                     centered=False,\n",
        "#                                                     weight_decay=None,\n",
        "#                                                     clipnorm=None,\n",
        "#                                                     clipvalue=None,\n",
        "#                                                     global_clipnorm=None,\n",
        "#                                                     use_ema=False,\n",
        "#                                                     ema_momentum=0.99,\n",
        "#                                                     ema_overwrite_frequency=100,\n",
        "#                                                     jit_compile=True,\n",
        "#                                                     name='RMSprop',\n",
        "# )"
      ],
      "metadata": {
        "id": "EzfnaqIZlfy8"
      },
      "execution_count": 204,
      "outputs": []
    },
    {
      "cell_type": "markdown",
      "source": [
        "++++++++++++++++++++++++++++++++++++++++++++++++++++++++++++++++++++++++++++++++"
      ],
      "metadata": {
        "id": "KHmBptvOM95Z"
      }
    },
    {
      "cell_type": "code",
      "source": [
        "model.compile(#optimizer='adam',\n",
        "              # optimizer='adamax',\n",
        "              optimizer=optimizer,\n",
        "              # optimizer='rmsprop',\n",
        "              # optimizer='sgd',\n",
        "              # optimizer='adadelta',\n",
        "              # loss='binary_crossentropy',\n",
        "              loss=tf.keras.losses.CategoricalCrossentropy(),\n",
        "              metrics=['categorical_accuracy']) # sparse_categorical_accuracy"
      ],
      "metadata": {
        "id": "hENVaAC7ilNY"
      },
      "execution_count": 205,
      "outputs": []
    },
    {
      "cell_type": "code",
      "source": [
        "# callback = callbacks.EarlyStopping(monitor='val_loss',\n",
        "#                                    patience=15,\n",
        "#                                    restore_best_weights=True,\n",
        "#                                    )\n",
        "es = callbacks.EarlyStopping(monitor='val_loss', mode='min', verbose=0, patience=60)\n",
        "mc = callbacks.ModelCheckpoint('best_model.h5', monitor='categorical_accuracy', mode='max', verbose=0, save_best_only=True)\n"
      ],
      "metadata": {
        "id": "5ihU4exVlsjm"
      },
      "execution_count": 206,
      "outputs": []
    },
    {
      "cell_type": "code",
      "source": [
        "history = model.fit(x_train, y_train,\n",
        "                    epochs=1000,\n",
        "                    batch_size=128,\n",
        "                    # callbacks=[callback],\n",
        "                    callbacks=[mc, es],\n",
        "                    verbose=1, #многословие\n",
        "                    # validation_split=0.2\n",
        "                    validation_data=(x_val, y_val)\n",
        "                    )\n",
        "test_loss, test_acc = model.evaluate(x_test, y_test)\n",
        "print('\\nTest accuracy:', test_acc)"
      ],
      "metadata": {
        "id": "FH8HcMNm233I",
        "outputId": "8e87e50c-9980-4288-d24d-5b5885928b0b",
        "colab": {
          "base_uri": "https://localhost:8080/"
        }
      },
      "execution_count": 207,
      "outputs": [
        {
          "output_type": "stream",
          "name": "stdout",
          "text": [
            "Epoch 1/1000\n",
            "422/422 [==============================] - 8s 15ms/step - loss: 0.8239 - categorical_accuracy: 0.7203 - val_loss: 0.4574 - val_categorical_accuracy: 0.8348\n",
            "Epoch 2/1000\n",
            "422/422 [==============================] - 6s 14ms/step - loss: 0.5570 - categorical_accuracy: 0.8004 - val_loss: 0.3937 - val_categorical_accuracy: 0.8523\n",
            "Epoch 3/1000\n",
            "422/422 [==============================] - 6s 15ms/step - loss: 0.4929 - categorical_accuracy: 0.8216 - val_loss: 0.3781 - val_categorical_accuracy: 0.8627\n",
            "Epoch 4/1000\n",
            "422/422 [==============================] - 6s 14ms/step - loss: 0.4496 - categorical_accuracy: 0.8357 - val_loss: 0.3539 - val_categorical_accuracy: 0.8675\n",
            "Epoch 5/1000\n",
            "422/422 [==============================] - 6s 15ms/step - loss: 0.4306 - categorical_accuracy: 0.8409 - val_loss: 0.3440 - val_categorical_accuracy: 0.8720\n",
            "Epoch 6/1000\n",
            "422/422 [==============================] - 6s 14ms/step - loss: 0.4087 - categorical_accuracy: 0.8496 - val_loss: 0.3432 - val_categorical_accuracy: 0.8747\n",
            "Epoch 7/1000\n",
            "422/422 [==============================] - 6s 14ms/step - loss: 0.3943 - categorical_accuracy: 0.8537 - val_loss: 0.3310 - val_categorical_accuracy: 0.8800\n",
            "Epoch 8/1000\n",
            "422/422 [==============================] - 6s 15ms/step - loss: 0.3805 - categorical_accuracy: 0.8588 - val_loss: 0.3271 - val_categorical_accuracy: 0.8792\n",
            "Epoch 9/1000\n",
            "422/422 [==============================] - 6s 14ms/step - loss: 0.3720 - categorical_accuracy: 0.8612 - val_loss: 0.3214 - val_categorical_accuracy: 0.8847\n",
            "Epoch 10/1000\n",
            "422/422 [==============================] - 6s 15ms/step - loss: 0.3592 - categorical_accuracy: 0.8658 - val_loss: 0.3245 - val_categorical_accuracy: 0.8810\n",
            "Epoch 11/1000\n",
            "422/422 [==============================] - 6s 14ms/step - loss: 0.3570 - categorical_accuracy: 0.8661 - val_loss: 0.3108 - val_categorical_accuracy: 0.8852\n",
            "Epoch 12/1000\n",
            "422/422 [==============================] - 6s 15ms/step - loss: 0.3489 - categorical_accuracy: 0.8697 - val_loss: 0.3060 - val_categorical_accuracy: 0.8867\n",
            "Epoch 13/1000\n",
            "422/422 [==============================] - 6s 13ms/step - loss: 0.3434 - categorical_accuracy: 0.8731 - val_loss: 0.3064 - val_categorical_accuracy: 0.8887\n",
            "Epoch 14/1000\n",
            "422/422 [==============================] - 6s 15ms/step - loss: 0.3360 - categorical_accuracy: 0.8739 - val_loss: 0.3091 - val_categorical_accuracy: 0.8883\n",
            "Epoch 15/1000\n",
            "422/422 [==============================] - 6s 14ms/step - loss: 0.3314 - categorical_accuracy: 0.8759 - val_loss: 0.3022 - val_categorical_accuracy: 0.8878\n",
            "Epoch 16/1000\n",
            "422/422 [==============================] - 6s 15ms/step - loss: 0.3228 - categorical_accuracy: 0.8794 - val_loss: 0.2941 - val_categorical_accuracy: 0.8935\n",
            "Epoch 17/1000\n",
            "422/422 [==============================] - 6s 13ms/step - loss: 0.3190 - categorical_accuracy: 0.8800 - val_loss: 0.3010 - val_categorical_accuracy: 0.8908\n",
            "Epoch 18/1000\n",
            "422/422 [==============================] - 6s 15ms/step - loss: 0.3170 - categorical_accuracy: 0.8808 - val_loss: 0.2975 - val_categorical_accuracy: 0.8878\n",
            "Epoch 19/1000\n",
            "422/422 [==============================] - 6s 13ms/step - loss: 0.3124 - categorical_accuracy: 0.8832 - val_loss: 0.2902 - val_categorical_accuracy: 0.8933\n",
            "Epoch 20/1000\n",
            "422/422 [==============================] - 6s 15ms/step - loss: 0.3081 - categorical_accuracy: 0.8836 - val_loss: 0.2882 - val_categorical_accuracy: 0.8962\n",
            "Epoch 21/1000\n",
            "422/422 [==============================] - 6s 14ms/step - loss: 0.3003 - categorical_accuracy: 0.8860 - val_loss: 0.2910 - val_categorical_accuracy: 0.8948\n",
            "Epoch 22/1000\n",
            "422/422 [==============================] - 6s 15ms/step - loss: 0.3008 - categorical_accuracy: 0.8871 - val_loss: 0.2899 - val_categorical_accuracy: 0.8930\n",
            "Epoch 23/1000\n",
            "422/422 [==============================] - 6s 13ms/step - loss: 0.2997 - categorical_accuracy: 0.8876 - val_loss: 0.2880 - val_categorical_accuracy: 0.8978\n",
            "Epoch 24/1000\n",
            "422/422 [==============================] - 6s 15ms/step - loss: 0.2965 - categorical_accuracy: 0.8881 - val_loss: 0.2872 - val_categorical_accuracy: 0.8967\n",
            "Epoch 25/1000\n",
            "422/422 [==============================] - 6s 13ms/step - loss: 0.2928 - categorical_accuracy: 0.8898 - val_loss: 0.2906 - val_categorical_accuracy: 0.8957\n",
            "Epoch 26/1000\n",
            "422/422 [==============================] - 6s 15ms/step - loss: 0.2902 - categorical_accuracy: 0.8891 - val_loss: 0.2908 - val_categorical_accuracy: 0.8952\n",
            "Epoch 27/1000\n",
            "422/422 [==============================] - 6s 14ms/step - loss: 0.2841 - categorical_accuracy: 0.8925 - val_loss: 0.2832 - val_categorical_accuracy: 0.8967\n",
            "Epoch 28/1000\n",
            "422/422 [==============================] - 6s 14ms/step - loss: 0.2859 - categorical_accuracy: 0.8932 - val_loss: 0.2901 - val_categorical_accuracy: 0.8980\n",
            "Epoch 29/1000\n",
            "422/422 [==============================] - 6s 14ms/step - loss: 0.2821 - categorical_accuracy: 0.8915 - val_loss: 0.2926 - val_categorical_accuracy: 0.8973\n",
            "Epoch 30/1000\n",
            "422/422 [==============================] - 6s 14ms/step - loss: 0.2784 - categorical_accuracy: 0.8945 - val_loss: 0.2764 - val_categorical_accuracy: 0.9000\n",
            "Epoch 31/1000\n",
            "422/422 [==============================] - 6s 14ms/step - loss: 0.2788 - categorical_accuracy: 0.8941 - val_loss: 0.2855 - val_categorical_accuracy: 0.8967\n",
            "Epoch 32/1000\n",
            "422/422 [==============================] - 6s 14ms/step - loss: 0.2765 - categorical_accuracy: 0.8956 - val_loss: 0.2809 - val_categorical_accuracy: 0.8960\n",
            "Epoch 33/1000\n",
            "422/422 [==============================] - 6s 14ms/step - loss: 0.2761 - categorical_accuracy: 0.8952 - val_loss: 0.2811 - val_categorical_accuracy: 0.9010\n",
            "Epoch 34/1000\n",
            "422/422 [==============================] - 6s 14ms/step - loss: 0.2706 - categorical_accuracy: 0.8975 - val_loss: 0.2796 - val_categorical_accuracy: 0.9002\n",
            "Epoch 35/1000\n",
            "422/422 [==============================] - 6s 15ms/step - loss: 0.2688 - categorical_accuracy: 0.8976 - val_loss: 0.2809 - val_categorical_accuracy: 0.8990\n",
            "Epoch 36/1000\n",
            "422/422 [==============================] - 6s 14ms/step - loss: 0.2672 - categorical_accuracy: 0.8988 - val_loss: 0.2861 - val_categorical_accuracy: 0.8992\n",
            "Epoch 37/1000\n",
            "422/422 [==============================] - 6s 15ms/step - loss: 0.2674 - categorical_accuracy: 0.8982 - val_loss: 0.2806 - val_categorical_accuracy: 0.9020\n",
            "Epoch 38/1000\n",
            "422/422 [==============================] - 6s 14ms/step - loss: 0.2650 - categorical_accuracy: 0.8990 - val_loss: 0.2831 - val_categorical_accuracy: 0.9005\n",
            "Epoch 39/1000\n",
            "422/422 [==============================] - 6s 15ms/step - loss: 0.2629 - categorical_accuracy: 0.9003 - val_loss: 0.2825 - val_categorical_accuracy: 0.9022\n",
            "Epoch 40/1000\n",
            "422/422 [==============================] - 6s 14ms/step - loss: 0.2616 - categorical_accuracy: 0.9004 - val_loss: 0.2772 - val_categorical_accuracy: 0.9020\n",
            "Epoch 41/1000\n",
            "422/422 [==============================] - 6s 15ms/step - loss: 0.2619 - categorical_accuracy: 0.9008 - val_loss: 0.2781 - val_categorical_accuracy: 0.9023\n",
            "Epoch 42/1000\n",
            "422/422 [==============================] - 6s 14ms/step - loss: 0.2577 - categorical_accuracy: 0.9014 - val_loss: 0.2835 - val_categorical_accuracy: 0.9012\n",
            "Epoch 43/1000\n",
            "422/422 [==============================] - 6s 15ms/step - loss: 0.2588 - categorical_accuracy: 0.9002 - val_loss: 0.2803 - val_categorical_accuracy: 0.9045\n",
            "Epoch 44/1000\n",
            "422/422 [==============================] - 6s 14ms/step - loss: 0.2576 - categorical_accuracy: 0.9024 - val_loss: 0.2734 - val_categorical_accuracy: 0.9037\n",
            "Epoch 45/1000\n",
            "422/422 [==============================] - 6s 15ms/step - loss: 0.2493 - categorical_accuracy: 0.9050 - val_loss: 0.2832 - val_categorical_accuracy: 0.9022\n",
            "Epoch 46/1000\n",
            "422/422 [==============================] - 6s 14ms/step - loss: 0.2527 - categorical_accuracy: 0.9031 - val_loss: 0.2781 - val_categorical_accuracy: 0.9048\n",
            "Epoch 47/1000\n",
            "422/422 [==============================] - 6s 15ms/step - loss: 0.2513 - categorical_accuracy: 0.9035 - val_loss: 0.2743 - val_categorical_accuracy: 0.9042\n",
            "Epoch 48/1000\n",
            "422/422 [==============================] - 6s 14ms/step - loss: 0.2522 - categorical_accuracy: 0.9052 - val_loss: 0.2753 - val_categorical_accuracy: 0.9033\n",
            "Epoch 49/1000\n",
            "422/422 [==============================] - 6s 14ms/step - loss: 0.2495 - categorical_accuracy: 0.9043 - val_loss: 0.2791 - val_categorical_accuracy: 0.9043\n",
            "Epoch 50/1000\n",
            "422/422 [==============================] - 6s 14ms/step - loss: 0.2477 - categorical_accuracy: 0.9050 - val_loss: 0.2702 - val_categorical_accuracy: 0.9030\n",
            "Epoch 51/1000\n",
            "422/422 [==============================] - 6s 14ms/step - loss: 0.2496 - categorical_accuracy: 0.9065 - val_loss: 0.2755 - val_categorical_accuracy: 0.9020\n",
            "Epoch 52/1000\n",
            "422/422 [==============================] - 6s 15ms/step - loss: 0.2457 - categorical_accuracy: 0.9071 - val_loss: 0.2902 - val_categorical_accuracy: 0.9013\n",
            "Epoch 53/1000\n",
            "422/422 [==============================] - 6s 14ms/step - loss: 0.2438 - categorical_accuracy: 0.9087 - val_loss: 0.2812 - val_categorical_accuracy: 0.9022\n",
            "Epoch 54/1000\n",
            "422/422 [==============================] - 6s 15ms/step - loss: 0.2446 - categorical_accuracy: 0.9077 - val_loss: 0.2757 - val_categorical_accuracy: 0.9045\n",
            "Epoch 55/1000\n",
            "422/422 [==============================] - 6s 14ms/step - loss: 0.2457 - categorical_accuracy: 0.9068 - val_loss: 0.2745 - val_categorical_accuracy: 0.9048\n",
            "Epoch 56/1000\n",
            "422/422 [==============================] - 6s 15ms/step - loss: 0.2442 - categorical_accuracy: 0.9074 - val_loss: 0.2759 - val_categorical_accuracy: 0.9035\n",
            "Epoch 57/1000\n",
            "422/422 [==============================] - 6s 14ms/step - loss: 0.2402 - categorical_accuracy: 0.9086 - val_loss: 0.2739 - val_categorical_accuracy: 0.9040\n",
            "Epoch 58/1000\n",
            "422/422 [==============================] - 6s 15ms/step - loss: 0.2407 - categorical_accuracy: 0.9097 - val_loss: 0.2780 - val_categorical_accuracy: 0.9037\n",
            "Epoch 59/1000\n",
            "422/422 [==============================] - 6s 14ms/step - loss: 0.2368 - categorical_accuracy: 0.9095 - val_loss: 0.2786 - val_categorical_accuracy: 0.9042\n",
            "Epoch 60/1000\n",
            "422/422 [==============================] - 6s 15ms/step - loss: 0.2376 - categorical_accuracy: 0.9093 - val_loss: 0.2782 - val_categorical_accuracy: 0.9030\n",
            "Epoch 61/1000\n",
            "422/422 [==============================] - 6s 14ms/step - loss: 0.2369 - categorical_accuracy: 0.9089 - val_loss: 0.2796 - val_categorical_accuracy: 0.9047\n",
            "Epoch 62/1000\n",
            "422/422 [==============================] - 6s 15ms/step - loss: 0.2335 - categorical_accuracy: 0.9102 - val_loss: 0.2774 - val_categorical_accuracy: 0.9035\n",
            "Epoch 63/1000\n",
            "422/422 [==============================] - 6s 14ms/step - loss: 0.2369 - categorical_accuracy: 0.9101 - val_loss: 0.2789 - val_categorical_accuracy: 0.9022\n",
            "Epoch 64/1000\n",
            "422/422 [==============================] - 6s 15ms/step - loss: 0.2340 - categorical_accuracy: 0.9098 - val_loss: 0.2821 - val_categorical_accuracy: 0.9033\n",
            "Epoch 65/1000\n",
            "422/422 [==============================] - 6s 14ms/step - loss: 0.2351 - categorical_accuracy: 0.9116 - val_loss: 0.2790 - val_categorical_accuracy: 0.9002\n",
            "Epoch 66/1000\n",
            "422/422 [==============================] - 6s 15ms/step - loss: 0.2300 - categorical_accuracy: 0.9126 - val_loss: 0.2706 - val_categorical_accuracy: 0.9043\n",
            "Epoch 67/1000\n",
            "422/422 [==============================] - 6s 14ms/step - loss: 0.2363 - categorical_accuracy: 0.9097 - val_loss: 0.2860 - val_categorical_accuracy: 0.9033\n",
            "Epoch 68/1000\n",
            "422/422 [==============================] - 6s 15ms/step - loss: 0.2322 - categorical_accuracy: 0.9128 - val_loss: 0.2743 - val_categorical_accuracy: 0.9018\n",
            "Epoch 69/1000\n",
            "422/422 [==============================] - 6s 14ms/step - loss: 0.2322 - categorical_accuracy: 0.9120 - val_loss: 0.2758 - val_categorical_accuracy: 0.9047\n",
            "Epoch 70/1000\n",
            "422/422 [==============================] - 6s 14ms/step - loss: 0.2282 - categorical_accuracy: 0.9129 - val_loss: 0.2759 - val_categorical_accuracy: 0.9060\n",
            "Epoch 71/1000\n",
            "422/422 [==============================] - 6s 15ms/step - loss: 0.2286 - categorical_accuracy: 0.9134 - val_loss: 0.2756 - val_categorical_accuracy: 0.9043\n",
            "Epoch 72/1000\n",
            "422/422 [==============================] - 6s 14ms/step - loss: 0.2281 - categorical_accuracy: 0.9140 - val_loss: 0.2774 - val_categorical_accuracy: 0.9063\n",
            "Epoch 73/1000\n",
            "422/422 [==============================] - 6s 15ms/step - loss: 0.2282 - categorical_accuracy: 0.9129 - val_loss: 0.2746 - val_categorical_accuracy: 0.9070\n",
            "Epoch 74/1000\n",
            "422/422 [==============================] - 6s 14ms/step - loss: 0.2273 - categorical_accuracy: 0.9142 - val_loss: 0.2746 - val_categorical_accuracy: 0.9047\n",
            "Epoch 75/1000\n",
            "422/422 [==============================] - 6s 15ms/step - loss: 0.2270 - categorical_accuracy: 0.9136 - val_loss: 0.2785 - val_categorical_accuracy: 0.9038\n",
            "Epoch 76/1000\n",
            "422/422 [==============================] - 6s 14ms/step - loss: 0.2261 - categorical_accuracy: 0.9150 - val_loss: 0.2796 - val_categorical_accuracy: 0.9033\n",
            "Epoch 77/1000\n",
            "422/422 [==============================] - 6s 15ms/step - loss: 0.2244 - categorical_accuracy: 0.9140 - val_loss: 0.2818 - val_categorical_accuracy: 0.9043\n",
            "Epoch 78/1000\n",
            "422/422 [==============================] - 6s 14ms/step - loss: 0.2209 - categorical_accuracy: 0.9156 - val_loss: 0.2701 - val_categorical_accuracy: 0.9052\n",
            "Epoch 79/1000\n",
            "422/422 [==============================] - 6s 15ms/step - loss: 0.2243 - categorical_accuracy: 0.9147 - val_loss: 0.2739 - val_categorical_accuracy: 0.9057\n",
            "Epoch 80/1000\n",
            "422/422 [==============================] - 6s 14ms/step - loss: 0.2216 - categorical_accuracy: 0.9145 - val_loss: 0.2718 - val_categorical_accuracy: 0.9050\n",
            "Epoch 81/1000\n",
            "422/422 [==============================] - 6s 15ms/step - loss: 0.2220 - categorical_accuracy: 0.9154 - val_loss: 0.2706 - val_categorical_accuracy: 0.9048\n",
            "Epoch 82/1000\n",
            "422/422 [==============================] - 6s 14ms/step - loss: 0.2209 - categorical_accuracy: 0.9164 - val_loss: 0.2726 - val_categorical_accuracy: 0.9062\n",
            "Epoch 83/1000\n",
            "422/422 [==============================] - 6s 15ms/step - loss: 0.2216 - categorical_accuracy: 0.9171 - val_loss: 0.2747 - val_categorical_accuracy: 0.9055\n",
            "Epoch 84/1000\n",
            "422/422 [==============================] - 6s 14ms/step - loss: 0.2211 - categorical_accuracy: 0.9151 - val_loss: 0.2772 - val_categorical_accuracy: 0.9040\n",
            "Epoch 85/1000\n",
            "422/422 [==============================] - 6s 15ms/step - loss: 0.2185 - categorical_accuracy: 0.9168 - val_loss: 0.2791 - val_categorical_accuracy: 0.9080\n",
            "Epoch 86/1000\n",
            "422/422 [==============================] - 6s 14ms/step - loss: 0.2189 - categorical_accuracy: 0.9167 - val_loss: 0.2766 - val_categorical_accuracy: 0.9055\n",
            "Epoch 87/1000\n",
            "422/422 [==============================] - 6s 15ms/step - loss: 0.2204 - categorical_accuracy: 0.9156 - val_loss: 0.2746 - val_categorical_accuracy: 0.9048\n",
            "Epoch 88/1000\n",
            "422/422 [==============================] - 6s 15ms/step - loss: 0.2179 - categorical_accuracy: 0.9177 - val_loss: 0.2779 - val_categorical_accuracy: 0.9065\n",
            "Epoch 89/1000\n",
            "422/422 [==============================] - 6s 14ms/step - loss: 0.2184 - categorical_accuracy: 0.9174 - val_loss: 0.2711 - val_categorical_accuracy: 0.9062\n",
            "Epoch 90/1000\n",
            "422/422 [==============================] - 6s 15ms/step - loss: 0.2166 - categorical_accuracy: 0.9189 - val_loss: 0.2720 - val_categorical_accuracy: 0.9070\n",
            "Epoch 91/1000\n",
            "422/422 [==============================] - 6s 14ms/step - loss: 0.2196 - categorical_accuracy: 0.9167 - val_loss: 0.2741 - val_categorical_accuracy: 0.9063\n",
            "Epoch 92/1000\n",
            "422/422 [==============================] - 6s 15ms/step - loss: 0.2154 - categorical_accuracy: 0.9196 - val_loss: 0.2738 - val_categorical_accuracy: 0.9067\n",
            "Epoch 93/1000\n",
            "422/422 [==============================] - 6s 14ms/step - loss: 0.2179 - categorical_accuracy: 0.9165 - val_loss: 0.2682 - val_categorical_accuracy: 0.9085\n",
            "Epoch 94/1000\n",
            "422/422 [==============================] - 6s 15ms/step - loss: 0.2163 - categorical_accuracy: 0.9176 - val_loss: 0.2752 - val_categorical_accuracy: 0.9082\n",
            "Epoch 95/1000\n",
            "422/422 [==============================] - 6s 14ms/step - loss: 0.2149 - categorical_accuracy: 0.9178 - val_loss: 0.2826 - val_categorical_accuracy: 0.9077\n",
            "Epoch 96/1000\n",
            "422/422 [==============================] - 6s 15ms/step - loss: 0.2159 - categorical_accuracy: 0.9184 - val_loss: 0.2700 - val_categorical_accuracy: 0.9080\n",
            "Epoch 97/1000\n",
            "422/422 [==============================] - 6s 14ms/step - loss: 0.2143 - categorical_accuracy: 0.9192 - val_loss: 0.2749 - val_categorical_accuracy: 0.9057\n",
            "Epoch 98/1000\n",
            "422/422 [==============================] - 6s 15ms/step - loss: 0.2127 - categorical_accuracy: 0.9189 - val_loss: 0.2766 - val_categorical_accuracy: 0.9067\n",
            "Epoch 99/1000\n",
            "422/422 [==============================] - 6s 14ms/step - loss: 0.2157 - categorical_accuracy: 0.9181 - val_loss: 0.2771 - val_categorical_accuracy: 0.9050\n",
            "Epoch 100/1000\n",
            "422/422 [==============================] - 6s 15ms/step - loss: 0.2113 - categorical_accuracy: 0.9212 - val_loss: 0.2791 - val_categorical_accuracy: 0.9073\n",
            "Epoch 101/1000\n",
            "422/422 [==============================] - 6s 14ms/step - loss: 0.2141 - categorical_accuracy: 0.9202 - val_loss: 0.2780 - val_categorical_accuracy: 0.9057\n",
            "Epoch 102/1000\n",
            "422/422 [==============================] - 6s 15ms/step - loss: 0.2103 - categorical_accuracy: 0.9193 - val_loss: 0.2852 - val_categorical_accuracy: 0.9058\n",
            "Epoch 103/1000\n",
            "422/422 [==============================] - 6s 14ms/step - loss: 0.2124 - categorical_accuracy: 0.9193 - val_loss: 0.2791 - val_categorical_accuracy: 0.9112\n",
            "Epoch 104/1000\n",
            "422/422 [==============================] - 6s 15ms/step - loss: 0.2119 - categorical_accuracy: 0.9190 - val_loss: 0.2833 - val_categorical_accuracy: 0.9057\n",
            "Epoch 105/1000\n",
            "422/422 [==============================] - 6s 14ms/step - loss: 0.2061 - categorical_accuracy: 0.9217 - val_loss: 0.2819 - val_categorical_accuracy: 0.9073\n",
            "Epoch 106/1000\n",
            "422/422 [==============================] - 6s 14ms/step - loss: 0.2128 - categorical_accuracy: 0.9184 - val_loss: 0.2813 - val_categorical_accuracy: 0.9063\n",
            "Epoch 107/1000\n",
            "422/422 [==============================] - 6s 15ms/step - loss: 0.2089 - categorical_accuracy: 0.9188 - val_loss: 0.2758 - val_categorical_accuracy: 0.9055\n",
            "Epoch 108/1000\n",
            "422/422 [==============================] - 6s 14ms/step - loss: 0.2096 - categorical_accuracy: 0.9201 - val_loss: 0.2734 - val_categorical_accuracy: 0.9075\n",
            "Epoch 109/1000\n",
            "422/422 [==============================] - 6s 15ms/step - loss: 0.2087 - categorical_accuracy: 0.9210 - val_loss: 0.2711 - val_categorical_accuracy: 0.9057\n",
            "Epoch 110/1000\n",
            "422/422 [==============================] - 6s 14ms/step - loss: 0.2077 - categorical_accuracy: 0.9196 - val_loss: 0.2762 - val_categorical_accuracy: 0.9055\n",
            "Epoch 111/1000\n",
            "422/422 [==============================] - 6s 15ms/step - loss: 0.2074 - categorical_accuracy: 0.9213 - val_loss: 0.2808 - val_categorical_accuracy: 0.9067\n",
            "Epoch 112/1000\n",
            "422/422 [==============================] - 6s 14ms/step - loss: 0.2088 - categorical_accuracy: 0.9210 - val_loss: 0.2846 - val_categorical_accuracy: 0.9020\n",
            "Epoch 113/1000\n",
            "422/422 [==============================] - 6s 15ms/step - loss: 0.2069 - categorical_accuracy: 0.9210 - val_loss: 0.2901 - val_categorical_accuracy: 0.9058\n",
            "Epoch 114/1000\n",
            "422/422 [==============================] - 6s 14ms/step - loss: 0.2078 - categorical_accuracy: 0.9218 - val_loss: 0.2819 - val_categorical_accuracy: 0.9080\n",
            "Epoch 115/1000\n",
            "422/422 [==============================] - 6s 15ms/step - loss: 0.2066 - categorical_accuracy: 0.9229 - val_loss: 0.2827 - val_categorical_accuracy: 0.9060\n",
            "Epoch 116/1000\n",
            "422/422 [==============================] - 6s 14ms/step - loss: 0.2089 - categorical_accuracy: 0.9217 - val_loss: 0.2708 - val_categorical_accuracy: 0.9085\n",
            "Epoch 117/1000\n",
            "422/422 [==============================] - 6s 15ms/step - loss: 0.2051 - categorical_accuracy: 0.9206 - val_loss: 0.2743 - val_categorical_accuracy: 0.9075\n",
            "Epoch 118/1000\n",
            "422/422 [==============================] - 6s 14ms/step - loss: 0.2060 - categorical_accuracy: 0.9218 - val_loss: 0.2768 - val_categorical_accuracy: 0.9095\n",
            "Epoch 119/1000\n",
            "422/422 [==============================] - 6s 15ms/step - loss: 0.2051 - categorical_accuracy: 0.9217 - val_loss: 0.2715 - val_categorical_accuracy: 0.9083\n",
            "Epoch 120/1000\n",
            "422/422 [==============================] - 6s 14ms/step - loss: 0.2017 - categorical_accuracy: 0.9221 - val_loss: 0.2768 - val_categorical_accuracy: 0.9088\n",
            "Epoch 121/1000\n",
            "422/422 [==============================] - 6s 15ms/step - loss: 0.2079 - categorical_accuracy: 0.9199 - val_loss: 0.2788 - val_categorical_accuracy: 0.9045\n",
            "Epoch 122/1000\n",
            "422/422 [==============================] - 6s 14ms/step - loss: 0.2015 - categorical_accuracy: 0.9223 - val_loss: 0.2748 - val_categorical_accuracy: 0.9098\n",
            "Epoch 123/1000\n",
            "422/422 [==============================] - 6s 15ms/step - loss: 0.2047 - categorical_accuracy: 0.9233 - val_loss: 0.2804 - val_categorical_accuracy: 0.9068\n",
            "Epoch 124/1000\n",
            "422/422 [==============================] - 6s 15ms/step - loss: 0.2026 - categorical_accuracy: 0.9232 - val_loss: 0.2894 - val_categorical_accuracy: 0.9027\n",
            "Epoch 125/1000\n",
            "422/422 [==============================] - 6s 14ms/step - loss: 0.2045 - categorical_accuracy: 0.9231 - val_loss: 0.2800 - val_categorical_accuracy: 0.9097\n",
            "Epoch 126/1000\n",
            "422/422 [==============================] - 6s 15ms/step - loss: 0.2017 - categorical_accuracy: 0.9235 - val_loss: 0.2796 - val_categorical_accuracy: 0.9063\n",
            "Epoch 127/1000\n",
            "422/422 [==============================] - 6s 14ms/step - loss: 0.2050 - categorical_accuracy: 0.9213 - val_loss: 0.2820 - val_categorical_accuracy: 0.9068\n",
            "Epoch 128/1000\n",
            "422/422 [==============================] - 6s 15ms/step - loss: 0.2048 - categorical_accuracy: 0.9225 - val_loss: 0.2771 - val_categorical_accuracy: 0.9070\n",
            "Epoch 129/1000\n",
            "422/422 [==============================] - 6s 14ms/step - loss: 0.2019 - categorical_accuracy: 0.9235 - val_loss: 0.2742 - val_categorical_accuracy: 0.9085\n",
            "Epoch 130/1000\n",
            "422/422 [==============================] - 6s 15ms/step - loss: 0.1986 - categorical_accuracy: 0.9233 - val_loss: 0.2812 - val_categorical_accuracy: 0.9105\n",
            "Epoch 131/1000\n",
            "422/422 [==============================] - 6s 14ms/step - loss: 0.1997 - categorical_accuracy: 0.9238 - val_loss: 0.2822 - val_categorical_accuracy: 0.9095\n",
            "Epoch 132/1000\n",
            "422/422 [==============================] - 6s 15ms/step - loss: 0.2013 - categorical_accuracy: 0.9236 - val_loss: 0.2816 - val_categorical_accuracy: 0.9052\n",
            "Epoch 133/1000\n",
            "422/422 [==============================] - 6s 14ms/step - loss: 0.1994 - categorical_accuracy: 0.9241 - val_loss: 0.2810 - val_categorical_accuracy: 0.9102\n",
            "Epoch 134/1000\n",
            "422/422 [==============================] - 6s 15ms/step - loss: 0.2011 - categorical_accuracy: 0.9239 - val_loss: 0.2824 - val_categorical_accuracy: 0.9073\n",
            "Epoch 135/1000\n",
            "422/422 [==============================] - 6s 14ms/step - loss: 0.1992 - categorical_accuracy: 0.9262 - val_loss: 0.2772 - val_categorical_accuracy: 0.9095\n",
            "Epoch 136/1000\n",
            "422/422 [==============================] - 6s 15ms/step - loss: 0.1988 - categorical_accuracy: 0.9244 - val_loss: 0.2847 - val_categorical_accuracy: 0.9072\n",
            "Epoch 137/1000\n",
            "422/422 [==============================] - 6s 14ms/step - loss: 0.1967 - categorical_accuracy: 0.9250 - val_loss: 0.2855 - val_categorical_accuracy: 0.9062\n",
            "Epoch 138/1000\n",
            "422/422 [==============================] - 6s 15ms/step - loss: 0.1982 - categorical_accuracy: 0.9245 - val_loss: 0.2790 - val_categorical_accuracy: 0.9088\n",
            "Epoch 139/1000\n",
            "422/422 [==============================] - 6s 14ms/step - loss: 0.2005 - categorical_accuracy: 0.9242 - val_loss: 0.2800 - val_categorical_accuracy: 0.9070\n",
            "Epoch 140/1000\n",
            "422/422 [==============================] - 6s 15ms/step - loss: 0.1948 - categorical_accuracy: 0.9256 - val_loss: 0.2778 - val_categorical_accuracy: 0.9070\n",
            "Epoch 141/1000\n",
            "422/422 [==============================] - 6s 14ms/step - loss: 0.1954 - categorical_accuracy: 0.9274 - val_loss: 0.2771 - val_categorical_accuracy: 0.9068\n",
            "Epoch 142/1000\n",
            "422/422 [==============================] - 6s 14ms/step - loss: 0.1950 - categorical_accuracy: 0.9259 - val_loss: 0.2847 - val_categorical_accuracy: 0.9078\n",
            "Epoch 143/1000\n",
            "422/422 [==============================] - 6s 15ms/step - loss: 0.1989 - categorical_accuracy: 0.9256 - val_loss: 0.2804 - val_categorical_accuracy: 0.9085\n",
            "Epoch 144/1000\n",
            "422/422 [==============================] - 6s 14ms/step - loss: 0.1928 - categorical_accuracy: 0.9272 - val_loss: 0.2806 - val_categorical_accuracy: 0.9092\n",
            "Epoch 145/1000\n",
            "422/422 [==============================] - 6s 15ms/step - loss: 0.1992 - categorical_accuracy: 0.9243 - val_loss: 0.2873 - val_categorical_accuracy: 0.9078\n",
            "Epoch 146/1000\n",
            "422/422 [==============================] - 6s 14ms/step - loss: 0.1955 - categorical_accuracy: 0.9250 - val_loss: 0.2794 - val_categorical_accuracy: 0.9052\n",
            "Epoch 147/1000\n",
            "422/422 [==============================] - 6s 15ms/step - loss: 0.1942 - categorical_accuracy: 0.9259 - val_loss: 0.2778 - val_categorical_accuracy: 0.9092\n",
            "Epoch 148/1000\n",
            "422/422 [==============================] - 6s 14ms/step - loss: 0.1941 - categorical_accuracy: 0.9255 - val_loss: 0.2863 - val_categorical_accuracy: 0.9073\n",
            "Epoch 149/1000\n",
            "422/422 [==============================] - 6s 15ms/step - loss: 0.1951 - categorical_accuracy: 0.9255 - val_loss: 0.2762 - val_categorical_accuracy: 0.9102\n",
            "Epoch 150/1000\n",
            "422/422 [==============================] - 6s 14ms/step - loss: 0.1950 - categorical_accuracy: 0.9250 - val_loss: 0.2730 - val_categorical_accuracy: 0.9077\n",
            "Epoch 151/1000\n",
            "422/422 [==============================] - 6s 15ms/step - loss: 0.1961 - categorical_accuracy: 0.9263 - val_loss: 0.2705 - val_categorical_accuracy: 0.9087\n",
            "Epoch 152/1000\n",
            "422/422 [==============================] - 6s 14ms/step - loss: 0.1931 - categorical_accuracy: 0.9271 - val_loss: 0.2783 - val_categorical_accuracy: 0.9052\n",
            "Epoch 153/1000\n",
            "422/422 [==============================] - 6s 15ms/step - loss: 0.1950 - categorical_accuracy: 0.9265 - val_loss: 0.2769 - val_categorical_accuracy: 0.9068\n",
            "313/313 [==============================] - 1s 2ms/step - loss: 0.2971 - categorical_accuracy: 0.9030\n",
            "\n",
            "Test accuracy: 0.902999997138977\n"
          ]
        }
      ]
    },
    {
      "cell_type": "code",
      "source": [
        "print('\\nhistory dict:', list(history.history.keys()))"
      ],
      "metadata": {
        "id": "CxRE-B_Q6Sii",
        "outputId": "991faf65-91be-4284-8b24-f45a5a2e64bb",
        "colab": {
          "base_uri": "https://localhost:8080/"
        }
      },
      "execution_count": 208,
      "outputs": [
        {
          "output_type": "stream",
          "name": "stdout",
          "text": [
            "\n",
            "history dict: ['loss', 'categorical_accuracy', 'val_loss', 'val_categorical_accuracy']\n"
          ]
        }
      ]
    },
    {
      "cell_type": "code",
      "source": [
        "result = model.evaluate(x_test, y_test)\n",
        "print(result)"
      ],
      "metadata": {
        "id": "YXpwRRTvTBNg",
        "outputId": "d0a81004-9797-45e9-dac6-3dd36b03b834",
        "colab": {
          "base_uri": "https://localhost:8080/"
        }
      },
      "execution_count": 209,
      "outputs": [
        {
          "output_type": "stream",
          "name": "stdout",
          "text": [
            "313/313 [==============================] - 1s 2ms/step - loss: 0.2971 - categorical_accuracy: 0.9030\n",
            "[0.29711177945137024, 0.902999997138977]\n"
          ]
        }
      ]
    },
    {
      "cell_type": "code",
      "source": [
        "saved_model = load_model('best_model.h5')\n",
        "result = saved_model.evaluate(x_test, y_test)\n",
        "print(result)"
      ],
      "metadata": {
        "id": "dpaZAW0vp1AZ",
        "outputId": "3c1a1941-986b-407a-ca69-2ce58f4b16f7",
        "colab": {
          "base_uri": "https://localhost:8080/"
        }
      },
      "execution_count": 210,
      "outputs": [
        {
          "output_type": "stream",
          "name": "stdout",
          "text": [
            "313/313 [==============================] - 1s 2ms/step - loss: 0.2970 - categorical_accuracy: 0.9043\n",
            "[0.29698991775512695, 0.9042999744415283]\n"
          ]
        }
      ]
    },
    {
      "cell_type": "code",
      "source": [
        "# from keras.models import load_model\n",
        "# saved_model = load_model('best_model.h5')\n",
        "# # _, train_acc = saved_model.evaluate(x_train, y_train, verbose=0)\n",
        "# _, test_acc = saved_model.evaluate(x_test, y_test, verbose=0)\n",
        "# print('Test: %.3f' % (test_acc))"
      ],
      "metadata": {
        "id": "DR_MS9DABo_K"
      },
      "execution_count": 211,
      "outputs": []
    },
    {
      "cell_type": "code",
      "source": [
        "history_dict = history.history\n",
        "loss_values = history_dict['loss']\n",
        "val_loss_values = history_dict['val_loss']\n",
        "\n",
        "epochs = range(1, len(history_dict['loss']) + 1)\n",
        "\n",
        "plt.figure(figsize=(10, 5))\n",
        "plt.plot(epochs, loss_values, 'bo', label='Training loss')\n",
        "plt.plot(epochs, val_loss_values, 'r', label='Validation loss')\n",
        "# plt.ylim (0.2, 0.5)\n",
        "plt.title('Training and validation loss')\n",
        "plt.xlabel('Epochs')\n",
        "plt.ylabel('Loss')\n",
        "plt.legend()\n",
        "plt.grid(True)\n",
        "plt.show()\n",
        "1\n",
        "plt.clf()\n",
        "plt.figure(figsize=(10, 5))\n",
        "val_acc_values = history_dict['categorical_accuracy']\n",
        "plt.plot(epochs, history_dict['categorical_accuracy'], 'bo', label='Training acc')\n",
        "plt.plot(epochs, history_dict['val_categorical_accuracy'], 'r', label='Validation acc')\n",
        "plt.ylim (0.86, 0.94)\n",
        "plt.title('Training and validation accuracy')\n",
        "plt.xlabel('Epochs')\n",
        "plt.ylabel('Accuracy')\n",
        "plt.legend()\n",
        "plt.grid(True)"
      ],
      "metadata": {
        "id": "2Ll_5sGlXKMH",
        "outputId": "2ef8fb80-d1e5-47e6-cce0-d6c87a66eb40",
        "colab": {
          "base_uri": "https://localhost:8080/",
          "height": 975
        }
      },
      "execution_count": 212,
      "outputs": [
        {
          "output_type": "display_data",
          "data": {
            "text/plain": [
              "<Figure size 1000x500 with 1 Axes>"
            ],
            "image/png": "[encoded data removed]"
          },
          "metadata": {}
        },
        {
          "output_type": "display_data",
          "data": {
            "text/plain": [
              "<Figure size 640x480 with 0 Axes>"
            ]
          },
          "metadata": {}
        },
        {
          "output_type": "display_data",
          "data": {
            "text/plain": [
              "<Figure size 1000x500 with 1 Axes>"
            ],
            "image/png": "[encoded data removed]"
          },
          "metadata": {}
        }
      ]
    },
    {
      "cell_type": "code",
      "source": [
        "probability_model = tf.keras.Sequential([model,\n",
        "                                         tf.keras.layers.Softmax()])"
      ],
      "metadata": {
        "id": "VzOdKAT_uV-f"
      },
      "execution_count": 213,
      "outputs": []
    },
    {
      "cell_type": "code",
      "source": [
        "predictions = probability_model.predict(x_test)"
      ],
      "metadata": {
        "id": "f4is3NFruYom",
        "outputId": "4d975a06-db65-4bc9-9a20-0da1b23bce88",
        "colab": {
          "base_uri": "https://localhost:8080/"
        }
      },
      "execution_count": 214,
      "outputs": [
        {
          "output_type": "stream",
          "name": "stdout",
          "text": [
            "313/313 [==============================] - 1s 2ms/step\n"
          ]
        }
      ]
    },
    {
      "cell_type": "code",
      "source": [
        "predictions[0]"
      ],
      "metadata": {
        "id": "82cigvlZudz_",
        "outputId": "e113b2c0-2fd3-4fdd-d86c-0312c9092677",
        "colab": {
          "base_uri": "https://localhost:8080/"
        }
      },
      "execution_count": 215,
      "outputs": [
        {
          "output_type": "execute_result",
          "data": {
            "text/plain": [
              "array([0.08533689, 0.08533689, 0.08533689, 0.08533689, 0.08533689,\n",
              "       0.08533691, 0.08533689, 0.08533786, 0.08533689, 0.23196697],\n",
              "      dtype=float32)"
            ]
          },
          "metadata": {},
          "execution_count": 215
        }
      ]
    },
    {
      "cell_type": "code",
      "source": [
        "model.summary()"
      ],
      "metadata": {
        "id": "6RsQPHyYuNGe",
        "outputId": "d3116b8e-b7d0-4ce7-ab10-1896a87f1793",
        "colab": {
          "base_uri": "https://localhost:8080/"
        }
      },
      "execution_count": 216,
      "outputs": [
        {
          "output_type": "stream",
          "name": "stdout",
          "text": [
            "Model: \"sequential_10\"\n",
            "_________________________________________________________________\n",
            " Layer (type)                Output Shape              Param #   \n",
            "=================================================================\n",
            " flatten_5 (Flatten)         (None, 784)               0         \n",
            "                                                                 \n",
            " dropout_20 (Dropout)        (None, 784)               0         \n",
            "                                                                 \n",
            " batch_normalization_15 (Ba  (None, 784)               3136      \n",
            " tchNormalization)                                               \n",
            "                                                                 \n",
            " dense_20 (Dense)            (None, 256)               200960    \n",
            "                                                                 \n",
            " dropout_21 (Dropout)        (None, 256)               0         \n",
            "                                                                 \n",
            " batch_normalization_16 (Ba  (None, 256)               1024      \n",
            " tchNormalization)                                               \n",
            "                                                                 \n",
            " dense_21 (Dense)            (None, 512)               131584    \n",
            "                                                                 \n",
            " dropout_22 (Dropout)        (None, 512)               0         \n",
            "                                                                 \n",
            " batch_normalization_17 (Ba  (None, 512)               2048      \n",
            " tchNormalization)                                               \n",
            "                                                                 \n",
            " dense_22 (Dense)            (None, 512)               262656    \n",
            "                                                                 \n",
            " dropout_23 (Dropout)        (None, 512)               0         \n",
            "                                                                 \n",
            " dense_23 (Dense)            (None, 10)                5130      \n",
            "                                                                 \n",
            "=================================================================\n",
            "Total params: 606538 (2.31 MB)\n",
            "Trainable params: 603434 (2.30 MB)\n",
            "Non-trainable params: 3104 (12.12 KB)\n",
            "_________________________________________________________________\n"
          ]
        }
      ]
    }
  ]
}