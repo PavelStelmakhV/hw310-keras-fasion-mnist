{
  "nbformat": 4,
  "nbformat_minor": 0,
  "metadata": {
    "colab": {
      "provenance": [],
      "gpuType": "T4",
      "authorship_tag": "ABX9TyMiO3Jfweii26lV8GWZMNoy",
      "include_colab_link": true
    },
    "kernelspec": {
      "name": "python3",
      "display_name": "Python 3"
    },
    "language_info": {
      "name": "python"
    },
    "accelerator": "GPU"
  },
  "cells": [
    {
      "cell_type": "markdown",
      "metadata": {
        "id": "view-in-github",
        "colab_type": "text"
      },
      "source": [
        "<a href=\"https://colab.research.google.com/github/PavelStelmakhV/hw310-keras-fasion-mnist/blob/main/keras_fasion_mnist_hw.ipynb\" target=\"_parent\"><img src=\"https://colab.research.google.com/assets/colab-badge.svg\" alt=\"Open In Colab\"/></a>"
      ]
    },
    {
      "cell_type": "code",
      "execution_count": 49,
      "metadata": {
        "id": "vv7w0bgAVQPO"
      },
      "outputs": [],
      "source": [
        "import tensorflow as tf\n",
        "import numpy as np\n",
        "import matplotlib.pyplot as plt\n",
        "import tf_keras\n",
        "\n",
        "from keras import layers\n",
        "from keras import regularizers\n",
        "from keras import callbacks\n",
        "from keras import initializers\n",
        "from keras.layers import BatchNormalization\n",
        "from keras.models import load_model"
      ]
    },
    {
      "cell_type": "code",
      "source": [
        "fashion_mnist = tf.keras.datasets.fashion_mnist\n",
        "\n",
        "(x_train, y_train), (x_test, y_test) = fashion_mnist.load_data()"
      ],
      "metadata": {
        "id": "mOpywsNAzfGB"
      },
      "execution_count": 50,
      "outputs": []
    },
    {
      "cell_type": "code",
      "source": [
        "# x_train = x_train.reshape(60000, 784).astype('float32') / 255\n",
        "# x_test = x_test.reshape(10000, 784).astype('float32') / 255\n",
        "x_train = x_train.astype('float32') / 255\n",
        "x_test = x_test.astype('float32') / 255\n",
        "\n",
        "y_train = y_train.astype('float32')\n",
        "y_test = y_test.astype('float32')\n",
        "\n",
        "# Перемешаем тренировочные данные\n",
        "# train_data = tf.data.Dataset.from_tensor_slices((x_train, y_train))\n",
        "# train_data = train_data.repeat().shuffle(5000).batch(batch_size).prefetch(1)"
      ],
      "metadata": {
        "id": "t2gucjsJ0KUi"
      },
      "execution_count": 51,
      "outputs": []
    },
    {
      "cell_type": "code",
      "source": [
        "# x_val = x_train[-10000:]\n",
        "# y_val = y_train[-10000:]\n",
        "# x_train = x_train[:-10000]\n",
        "# y_train = y_train[:-10000]"
      ],
      "metadata": {
        "id": "fLPNXab5dHwO"
      },
      "execution_count": 52,
      "outputs": []
    },
    {
      "cell_type": "code",
      "source": [],
      "metadata": {
        "id": "bU5TK5YdlnU5"
      },
      "execution_count": 52,
      "outputs": []
    },
    {
      "cell_type": "code",
      "source": [
        "w_init_tanh = initializers.glorot_normal(seed=66)\n",
        "w_init_relu = initializers.HeNormal(seed=66)\n",
        "b_init = initializers.Zeros()"
      ],
      "metadata": {
        "id": "yL9QTEtBGy4N"
      },
      "execution_count": 53,
      "outputs": []
    },
    {
      "cell_type": "code",
      "source": [
        "drop_out = 0.25"
      ],
      "metadata": {
        "id": "flsDcVTnU10J"
      },
      "execution_count": 54,
      "outputs": []
    },
    {
      "cell_type": "code",
      "source": [
        "def layer_relu(model, neurons):\n",
        "  model.add(BatchNormalization())\n",
        "  model.add(layers.Dense(neurons,\n",
        "                       activation='relu',\n",
        "                       kernel_initializer=w_init_relu,\n",
        "                       bias_initializer=b_init))\n",
        "  model.add(layers.Dropout(drop_out))\n",
        "  return model"
      ],
      "metadata": {
        "id": "ZZgs_25rKBCp"
      },
      "execution_count": 55,
      "outputs": []
    },
    {
      "cell_type": "code",
      "source": [
        "def layer_tanh(model, neurons):\n",
        "  model.add(BatchNormalization())\n",
        "  model.add(layers.Dense(neurons,\n",
        "                        activation='tanh',\n",
        "                        kernel_initializer=w_init_tanh,\n",
        "                        bias_initializer=b_init))\n",
        "  model.add(layers.Dropout(drop_out))\n",
        "  return model"
      ],
      "metadata": {
        "id": "90JLLnkBR50t"
      },
      "execution_count": 56,
      "outputs": []
    },
    {
      "cell_type": "code",
      "source": [],
      "metadata": {
        "id": "Va9BaQ9eG_uz"
      },
      "execution_count": 56,
      "outputs": []
    },
    {
      "cell_type": "code",
      "source": [
        "model = tf.keras.Sequential()\n",
        "\n",
        "# drop_out = 0.50\n",
        "neurons = 256\n",
        "\n",
        "model.add(layers.Flatten(input_shape=(28, 28)))\n",
        "model.add(layers.Dropout(drop_out))\n",
        "\n",
        "model = layer_relu(model, neurons*1)\n",
        "# model = layer_tanh(model, neurons*1)\n",
        "model = layer_tanh(model, neurons*2)\n",
        "model = layer_relu(model, neurons*2)\n",
        "\n",
        "model.add(layers.Dense(10, activation='softmax'))"
      ],
      "metadata": {
        "id": "atS39i4d0aqW"
      },
      "execution_count": 57,
      "outputs": []
    },
    {
      "cell_type": "markdown",
      "source": [
        "++++++++++++++++++++++++++++++++++++++++++++++++++++++++++++++++++++++++++++++++"
      ],
      "metadata": {
        "id": "tZO7hl7pM63y"
      }
    },
    {
      "cell_type": "code",
      "source": [
        "optimizer = tf.keras.optimizers.Nadam(learning_rate=0.0003,\n",
        "                                      beta_1=0.9,\n",
        "                                      beta_2=0.999,\n",
        "                                      epsilon=1e-04\n",
        ")"
      ],
      "metadata": {
        "id": "EzfnaqIZlfy8"
      },
      "execution_count": 58,
      "outputs": []
    },
    {
      "cell_type": "markdown",
      "source": [
        "++++++++++++++++++++++++++++++++++++++++++++++++++++++++++++++++++++++++++++++++"
      ],
      "metadata": {
        "id": "KHmBptvOM95Z"
      }
    },
    {
      "cell_type": "code",
      "source": [
        "model.compile(#optimizer='adam',\n",
        "              # optimizer='adamax',\n",
        "              optimizer=optimizer,\n",
        "              # optimizer='rmsprop',\n",
        "              # optimizer='sgd',\n",
        "              # optimizer='adadelta',\n",
        "              # loss='binary_crossentropy',\n",
        "              loss=tf.keras.losses.SparseCategoricalCrossentropy(),\n",
        "              metrics=['sparse_categorical_accuracy']) # sparse_categorical_accuracy"
      ],
      "metadata": {
        "id": "hENVaAC7ilNY"
      },
      "execution_count": 59,
      "outputs": []
    },
    {
      "cell_type": "code",
      "source": [
        "x = np.random.random((1, 28, 28))\n",
        "a = model.predict(x)\n",
        "_ = plt.hist(np.transpose(a))"
      ],
      "metadata": {
        "id": "RFgZHNNFMa8p",
        "outputId": "bfe013b9-0fd9-4624-fa53-a54497ccb1d8",
        "colab": {
          "base_uri": "https://localhost:8080/",
          "height": 448
        }
      },
      "execution_count": 60,
      "outputs": [
        {
          "output_type": "stream",
          "name": "stdout",
          "text": [
            "1/1 [==============================] - 0s 201ms/step\n"
          ]
        },
        {
          "output_type": "display_data",
          "data": {
            "text/plain": [
              "<Figure size 640x480 with 1 Axes>"
            ],
            "image/png": "[encoded data removed]"
          },
          "metadata": {}
        }
      ]
    },
    {
      "cell_type": "code",
      "source": [
        "y_pred = model.predict(x_test)"
      ],
      "metadata": {
        "id": "UDP8OKKZ8oQa",
        "outputId": "ba5cfdc0-8fc8-4ad5-a95e-0f658f6a72be",
        "colab": {
          "base_uri": "https://localhost:8080/"
        }
      },
      "execution_count": 61,
      "outputs": [
        {
          "output_type": "stream",
          "name": "stdout",
          "text": [
            "313/313 [==============================] - 1s 4ms/step\n"
          ]
        }
      ]
    },
    {
      "cell_type": "code",
      "source": [
        "callback = callbacks.EarlyStopping(monitor='val_loss',\n",
        "                                   patience=50,\n",
        "                                   restore_best_weights=True,\n",
        "                                   )\n",
        "es = callbacks.EarlyStopping(monitor='val_loss', mode='min', verbose=0, patience=40)\n",
        "mc = callbacks.ModelCheckpoint('best_model.h5', monitor='sparse_categorical_accuracy', mode='max', verbose=0, save_best_only=True)\n"
      ],
      "metadata": {
        "id": "5ihU4exVlsjm"
      },
      "execution_count": 62,
      "outputs": []
    },
    {
      "cell_type": "code",
      "source": [
        "history = model.fit(x_train, y_train,\n",
        "                    epochs=300,\n",
        "                    batch_size=128,\n",
        "                    # callbacks=[callback],\n",
        "                    callbacks=[mc],\n",
        "                    verbose=1, #многословие\n",
        "                    validation_split=0.10\n",
        "                    # validation_data=(x_val, y_val)\n",
        "                    )\n",
        "test_loss, test_acc = model.evaluate(x_test, y_test)\n",
        "print('\\nTest accuracy:', test_acc)"
      ],
      "metadata": {
        "id": "FH8HcMNm233I",
        "outputId": "8c8c4b07-3006-4355-8089-d3c5b9da1167",
        "colab": {
          "base_uri": "https://localhost:8080/"
        }
      },
      "execution_count": 63,
      "outputs": [
        {
          "output_type": "stream",
          "name": "stdout",
          "text": [
            "Epoch 1/300\n",
            "422/422 [==============================] - 7s 7ms/step - loss: 0.8155 - sparse_categorical_accuracy: 0.7165 - val_loss: 0.4557 - val_sparse_categorical_accuracy: 0.8333\n",
            "Epoch 2/300\n",
            "422/422 [==============================] - 3s 7ms/step - loss: 0.5714 - sparse_categorical_accuracy: 0.7930 - val_loss: 0.4016 - val_sparse_categorical_accuracy: 0.8498\n",
            "Epoch 3/300\n",
            "422/422 [==============================] - 3s 8ms/step - loss: 0.5089 - sparse_categorical_accuracy: 0.8132 - val_loss: 0.3894 - val_sparse_categorical_accuracy: 0.8557\n",
            "Epoch 4/300\n",
            "422/422 [==============================] - 3s 7ms/step - loss: 0.4708 - sparse_categorical_accuracy: 0.8260 - val_loss: 0.3816 - val_sparse_categorical_accuracy: 0.8610\n",
            "Epoch 5/300\n",
            "422/422 [==============================] - 3s 7ms/step - loss: 0.4468 - sparse_categorical_accuracy: 0.8356 - val_loss: 0.3735 - val_sparse_categorical_accuracy: 0.8653\n",
            "Epoch 6/300\n",
            "422/422 [==============================] - 3s 7ms/step - loss: 0.4292 - sparse_categorical_accuracy: 0.8401 - val_loss: 0.3456 - val_sparse_categorical_accuracy: 0.8738\n",
            "Epoch 7/300\n",
            "422/422 [==============================] - 3s 8ms/step - loss: 0.4124 - sparse_categorical_accuracy: 0.8468 - val_loss: 0.3419 - val_sparse_categorical_accuracy: 0.8745\n",
            "Epoch 8/300\n",
            "422/422 [==============================] - 3s 7ms/step - loss: 0.3999 - sparse_categorical_accuracy: 0.8511 - val_loss: 0.3503 - val_sparse_categorical_accuracy: 0.8732\n",
            "Epoch 9/300\n",
            "422/422 [==============================] - 3s 7ms/step - loss: 0.3907 - sparse_categorical_accuracy: 0.8551 - val_loss: 0.3370 - val_sparse_categorical_accuracy: 0.8755\n",
            "Epoch 10/300\n",
            "422/422 [==============================] - 3s 7ms/step - loss: 0.3803 - sparse_categorical_accuracy: 0.8570 - val_loss: 0.3302 - val_sparse_categorical_accuracy: 0.8767\n",
            "Epoch 11/300\n",
            "422/422 [==============================] - 3s 8ms/step - loss: 0.3737 - sparse_categorical_accuracy: 0.8603 - val_loss: 0.3237 - val_sparse_categorical_accuracy: 0.8783\n",
            "Epoch 12/300\n",
            "422/422 [==============================] - 3s 7ms/step - loss: 0.3686 - sparse_categorical_accuracy: 0.8613 - val_loss: 0.3226 - val_sparse_categorical_accuracy: 0.8795\n",
            "Epoch 13/300\n",
            "422/422 [==============================] - 3s 7ms/step - loss: 0.3646 - sparse_categorical_accuracy: 0.8637 - val_loss: 0.3169 - val_sparse_categorical_accuracy: 0.8862\n",
            "Epoch 14/300\n",
            "422/422 [==============================] - 3s 7ms/step - loss: 0.3575 - sparse_categorical_accuracy: 0.8683 - val_loss: 0.3133 - val_sparse_categorical_accuracy: 0.8855\n",
            "Epoch 15/300\n",
            "422/422 [==============================] - 3s 8ms/step - loss: 0.3497 - sparse_categorical_accuracy: 0.8690 - val_loss: 0.3127 - val_sparse_categorical_accuracy: 0.8860\n",
            "Epoch 16/300\n",
            "422/422 [==============================] - 3s 7ms/step - loss: 0.3446 - sparse_categorical_accuracy: 0.8707 - val_loss: 0.3079 - val_sparse_categorical_accuracy: 0.8863\n",
            "Epoch 17/300\n",
            "422/422 [==============================] - 3s 7ms/step - loss: 0.3451 - sparse_categorical_accuracy: 0.8706 - val_loss: 0.3076 - val_sparse_categorical_accuracy: 0.8862\n",
            "Epoch 18/300\n",
            "422/422 [==============================] - 3s 7ms/step - loss: 0.3339 - sparse_categorical_accuracy: 0.8727 - val_loss: 0.3032 - val_sparse_categorical_accuracy: 0.8857\n",
            "Epoch 19/300\n",
            "422/422 [==============================] - 3s 8ms/step - loss: 0.3326 - sparse_categorical_accuracy: 0.8738 - val_loss: 0.3070 - val_sparse_categorical_accuracy: 0.8873\n",
            "Epoch 20/300\n",
            "422/422 [==============================] - 3s 7ms/step - loss: 0.3294 - sparse_categorical_accuracy: 0.8752 - val_loss: 0.2982 - val_sparse_categorical_accuracy: 0.8887\n",
            "Epoch 21/300\n",
            "422/422 [==============================] - 3s 7ms/step - loss: 0.3266 - sparse_categorical_accuracy: 0.8768 - val_loss: 0.2954 - val_sparse_categorical_accuracy: 0.8895\n",
            "Epoch 22/300\n",
            "422/422 [==============================] - 3s 8ms/step - loss: 0.3228 - sparse_categorical_accuracy: 0.8783 - val_loss: 0.2994 - val_sparse_categorical_accuracy: 0.8892\n",
            "Epoch 23/300\n",
            "422/422 [==============================] - 3s 8ms/step - loss: 0.3195 - sparse_categorical_accuracy: 0.8789 - val_loss: 0.2944 - val_sparse_categorical_accuracy: 0.8895\n",
            "Epoch 24/300\n",
            "422/422 [==============================] - 3s 7ms/step - loss: 0.3154 - sparse_categorical_accuracy: 0.8815 - val_loss: 0.2931 - val_sparse_categorical_accuracy: 0.8923\n",
            "Epoch 25/300\n",
            "422/422 [==============================] - 3s 7ms/step - loss: 0.3145 - sparse_categorical_accuracy: 0.8800 - val_loss: 0.2890 - val_sparse_categorical_accuracy: 0.8922\n",
            "Epoch 26/300\n",
            "422/422 [==============================] - 3s 7ms/step - loss: 0.3076 - sparse_categorical_accuracy: 0.8831 - val_loss: 0.2920 - val_sparse_categorical_accuracy: 0.8907\n",
            "Epoch 27/300\n",
            "422/422 [==============================] - 3s 8ms/step - loss: 0.3080 - sparse_categorical_accuracy: 0.8847 - val_loss: 0.2905 - val_sparse_categorical_accuracy: 0.8933\n",
            "Epoch 28/300\n",
            "422/422 [==============================] - 3s 7ms/step - loss: 0.3052 - sparse_categorical_accuracy: 0.8841 - val_loss: 0.2893 - val_sparse_categorical_accuracy: 0.8920\n",
            "Epoch 29/300\n",
            "422/422 [==============================] - 3s 7ms/step - loss: 0.3000 - sparse_categorical_accuracy: 0.8869 - val_loss: 0.2869 - val_sparse_categorical_accuracy: 0.8922\n",
            "Epoch 30/300\n",
            "422/422 [==============================] - 3s 8ms/step - loss: 0.2989 - sparse_categorical_accuracy: 0.8868 - val_loss: 0.2883 - val_sparse_categorical_accuracy: 0.8942\n",
            "Epoch 31/300\n",
            "422/422 [==============================] - 4s 10ms/step - loss: 0.2991 - sparse_categorical_accuracy: 0.8856 - val_loss: 0.2816 - val_sparse_categorical_accuracy: 0.8967\n",
            "Epoch 32/300\n",
            "422/422 [==============================] - 3s 8ms/step - loss: 0.2955 - sparse_categorical_accuracy: 0.8877 - val_loss: 0.2861 - val_sparse_categorical_accuracy: 0.8978\n",
            "Epoch 33/300\n",
            "422/422 [==============================] - 3s 7ms/step - loss: 0.2888 - sparse_categorical_accuracy: 0.8900 - val_loss: 0.2882 - val_sparse_categorical_accuracy: 0.8953\n",
            "Epoch 34/300\n",
            "422/422 [==============================] - 3s 7ms/step - loss: 0.2933 - sparse_categorical_accuracy: 0.8882 - val_loss: 0.2791 - val_sparse_categorical_accuracy: 0.8968\n",
            "Epoch 35/300\n",
            "422/422 [==============================] - 3s 8ms/step - loss: 0.2910 - sparse_categorical_accuracy: 0.8885 - val_loss: 0.2819 - val_sparse_categorical_accuracy: 0.8968\n",
            "Epoch 36/300\n",
            "422/422 [==============================] - 3s 7ms/step - loss: 0.2873 - sparse_categorical_accuracy: 0.8899 - val_loss: 0.2758 - val_sparse_categorical_accuracy: 0.8987\n",
            "Epoch 37/300\n",
            "422/422 [==============================] - 3s 7ms/step - loss: 0.2847 - sparse_categorical_accuracy: 0.8925 - val_loss: 0.2973 - val_sparse_categorical_accuracy: 0.8947\n",
            "Epoch 38/300\n",
            "422/422 [==============================] - 3s 7ms/step - loss: 0.2828 - sparse_categorical_accuracy: 0.8921 - val_loss: 0.2873 - val_sparse_categorical_accuracy: 0.8970\n",
            "Epoch 39/300\n",
            "422/422 [==============================] - 3s 8ms/step - loss: 0.2819 - sparse_categorical_accuracy: 0.8928 - val_loss: 0.2796 - val_sparse_categorical_accuracy: 0.9007\n",
            "Epoch 40/300\n",
            "422/422 [==============================] - 3s 7ms/step - loss: 0.2804 - sparse_categorical_accuracy: 0.8935 - val_loss: 0.2793 - val_sparse_categorical_accuracy: 0.8980\n",
            "Epoch 41/300\n",
            "422/422 [==============================] - 3s 7ms/step - loss: 0.2800 - sparse_categorical_accuracy: 0.8919 - val_loss: 0.2803 - val_sparse_categorical_accuracy: 0.8992\n",
            "Epoch 42/300\n",
            "422/422 [==============================] - 3s 7ms/step - loss: 0.2774 - sparse_categorical_accuracy: 0.8955 - val_loss: 0.2776 - val_sparse_categorical_accuracy: 0.8992\n",
            "Epoch 43/300\n",
            "422/422 [==============================] - 3s 8ms/step - loss: 0.2749 - sparse_categorical_accuracy: 0.8951 - val_loss: 0.2769 - val_sparse_categorical_accuracy: 0.9002\n",
            "Epoch 44/300\n",
            "422/422 [==============================] - 3s 7ms/step - loss: 0.2714 - sparse_categorical_accuracy: 0.8952 - val_loss: 0.2803 - val_sparse_categorical_accuracy: 0.8985\n",
            "Epoch 45/300\n",
            "422/422 [==============================] - 3s 7ms/step - loss: 0.2743 - sparse_categorical_accuracy: 0.8948 - val_loss: 0.2744 - val_sparse_categorical_accuracy: 0.8983\n",
            "Epoch 46/300\n",
            "422/422 [==============================] - 3s 7ms/step - loss: 0.2691 - sparse_categorical_accuracy: 0.8968 - val_loss: 0.2773 - val_sparse_categorical_accuracy: 0.9010\n",
            "Epoch 47/300\n",
            "422/422 [==============================] - 3s 8ms/step - loss: 0.2662 - sparse_categorical_accuracy: 0.8976 - val_loss: 0.2798 - val_sparse_categorical_accuracy: 0.8977\n",
            "Epoch 48/300\n",
            "422/422 [==============================] - 3s 7ms/step - loss: 0.2704 - sparse_categorical_accuracy: 0.8976 - val_loss: 0.2733 - val_sparse_categorical_accuracy: 0.9015\n",
            "Epoch 49/300\n",
            "422/422 [==============================] - 3s 7ms/step - loss: 0.2660 - sparse_categorical_accuracy: 0.8976 - val_loss: 0.2828 - val_sparse_categorical_accuracy: 0.9028\n",
            "Epoch 50/300\n",
            "422/422 [==============================] - 3s 7ms/step - loss: 0.2695 - sparse_categorical_accuracy: 0.8964 - val_loss: 0.2754 - val_sparse_categorical_accuracy: 0.9033\n",
            "Epoch 51/300\n",
            "422/422 [==============================] - 3s 8ms/step - loss: 0.2643 - sparse_categorical_accuracy: 0.8991 - val_loss: 0.2745 - val_sparse_categorical_accuracy: 0.9008\n",
            "Epoch 52/300\n",
            "422/422 [==============================] - 3s 7ms/step - loss: 0.2642 - sparse_categorical_accuracy: 0.8983 - val_loss: 0.2767 - val_sparse_categorical_accuracy: 0.9013\n",
            "Epoch 53/300\n",
            "422/422 [==============================] - 3s 7ms/step - loss: 0.2608 - sparse_categorical_accuracy: 0.9010 - val_loss: 0.2730 - val_sparse_categorical_accuracy: 0.9030\n",
            "Epoch 54/300\n",
            "422/422 [==============================] - 3s 7ms/step - loss: 0.2614 - sparse_categorical_accuracy: 0.8992 - val_loss: 0.2774 - val_sparse_categorical_accuracy: 0.9007\n",
            "Epoch 55/300\n",
            "422/422 [==============================] - 3s 8ms/step - loss: 0.2627 - sparse_categorical_accuracy: 0.9003 - val_loss: 0.2705 - val_sparse_categorical_accuracy: 0.9020\n",
            "Epoch 56/300\n",
            "422/422 [==============================] - 3s 7ms/step - loss: 0.2600 - sparse_categorical_accuracy: 0.9006 - val_loss: 0.2774 - val_sparse_categorical_accuracy: 0.9002\n",
            "Epoch 57/300\n",
            "422/422 [==============================] - 3s 7ms/step - loss: 0.2599 - sparse_categorical_accuracy: 0.8998 - val_loss: 0.2719 - val_sparse_categorical_accuracy: 0.9028\n",
            "Epoch 58/300\n",
            "422/422 [==============================] - 3s 7ms/step - loss: 0.2578 - sparse_categorical_accuracy: 0.9003 - val_loss: 0.2702 - val_sparse_categorical_accuracy: 0.9033\n",
            "Epoch 59/300\n",
            "422/422 [==============================] - 3s 8ms/step - loss: 0.2579 - sparse_categorical_accuracy: 0.8997 - val_loss: 0.2717 - val_sparse_categorical_accuracy: 0.9013\n",
            "Epoch 60/300\n",
            "422/422 [==============================] - 3s 7ms/step - loss: 0.2541 - sparse_categorical_accuracy: 0.9025 - val_loss: 0.2712 - val_sparse_categorical_accuracy: 0.9010\n",
            "Epoch 61/300\n",
            "422/422 [==============================] - 3s 7ms/step - loss: 0.2537 - sparse_categorical_accuracy: 0.9009 - val_loss: 0.2731 - val_sparse_categorical_accuracy: 0.9040\n",
            "Epoch 62/300\n",
            "422/422 [==============================] - 3s 7ms/step - loss: 0.2552 - sparse_categorical_accuracy: 0.9021 - val_loss: 0.2676 - val_sparse_categorical_accuracy: 0.9048\n",
            "Epoch 63/300\n",
            "422/422 [==============================] - 3s 8ms/step - loss: 0.2546 - sparse_categorical_accuracy: 0.9024 - val_loss: 0.2694 - val_sparse_categorical_accuracy: 0.9017\n",
            "Epoch 64/300\n",
            "422/422 [==============================] - 3s 7ms/step - loss: 0.2532 - sparse_categorical_accuracy: 0.9037 - val_loss: 0.2705 - val_sparse_categorical_accuracy: 0.9018\n",
            "Epoch 65/300\n",
            "422/422 [==============================] - 3s 7ms/step - loss: 0.2535 - sparse_categorical_accuracy: 0.9036 - val_loss: 0.2688 - val_sparse_categorical_accuracy: 0.9042\n",
            "Epoch 66/300\n",
            "422/422 [==============================] - 3s 7ms/step - loss: 0.2486 - sparse_categorical_accuracy: 0.9045 - val_loss: 0.2681 - val_sparse_categorical_accuracy: 0.9040\n",
            "Epoch 67/300\n",
            "422/422 [==============================] - 3s 8ms/step - loss: 0.2472 - sparse_categorical_accuracy: 0.9048 - val_loss: 0.2712 - val_sparse_categorical_accuracy: 0.9017\n",
            "Epoch 68/300\n",
            "422/422 [==============================] - 3s 7ms/step - loss: 0.2499 - sparse_categorical_accuracy: 0.9045 - val_loss: 0.2734 - val_sparse_categorical_accuracy: 0.9070\n",
            "Epoch 69/300\n",
            "422/422 [==============================] - 3s 7ms/step - loss: 0.2472 - sparse_categorical_accuracy: 0.9048 - val_loss: 0.2746 - val_sparse_categorical_accuracy: 0.9028\n",
            "Epoch 70/300\n",
            "422/422 [==============================] - 3s 7ms/step - loss: 0.2476 - sparse_categorical_accuracy: 0.9049 - val_loss: 0.2705 - val_sparse_categorical_accuracy: 0.9063\n",
            "Epoch 71/300\n",
            "422/422 [==============================] - 3s 8ms/step - loss: 0.2494 - sparse_categorical_accuracy: 0.9041 - val_loss: 0.2662 - val_sparse_categorical_accuracy: 0.9035\n",
            "Epoch 72/300\n",
            "422/422 [==============================] - 3s 7ms/step - loss: 0.2449 - sparse_categorical_accuracy: 0.9043 - val_loss: 0.2748 - val_sparse_categorical_accuracy: 0.9050\n",
            "Epoch 73/300\n",
            "422/422 [==============================] - 3s 7ms/step - loss: 0.2434 - sparse_categorical_accuracy: 0.9054 - val_loss: 0.2669 - val_sparse_categorical_accuracy: 0.9062\n",
            "Epoch 74/300\n",
            "422/422 [==============================] - 3s 8ms/step - loss: 0.2430 - sparse_categorical_accuracy: 0.9065 - val_loss: 0.2689 - val_sparse_categorical_accuracy: 0.9022\n",
            "Epoch 75/300\n",
            "422/422 [==============================] - 3s 8ms/step - loss: 0.2454 - sparse_categorical_accuracy: 0.9058 - val_loss: 0.2681 - val_sparse_categorical_accuracy: 0.9052\n",
            "Epoch 76/300\n",
            "422/422 [==============================] - 3s 7ms/step - loss: 0.2429 - sparse_categorical_accuracy: 0.9071 - val_loss: 0.2697 - val_sparse_categorical_accuracy: 0.9050\n",
            "Epoch 77/300\n",
            "422/422 [==============================] - 3s 7ms/step - loss: 0.2421 - sparse_categorical_accuracy: 0.9072 - val_loss: 0.2673 - val_sparse_categorical_accuracy: 0.9062\n",
            "Epoch 78/300\n",
            "422/422 [==============================] - 3s 8ms/step - loss: 0.2405 - sparse_categorical_accuracy: 0.9075 - val_loss: 0.2707 - val_sparse_categorical_accuracy: 0.9060\n",
            "Epoch 79/300\n",
            "422/422 [==============================] - 3s 8ms/step - loss: 0.2423 - sparse_categorical_accuracy: 0.9067 - val_loss: 0.2662 - val_sparse_categorical_accuracy: 0.9063\n",
            "Epoch 80/300\n",
            "422/422 [==============================] - 3s 7ms/step - loss: 0.2394 - sparse_categorical_accuracy: 0.9069 - val_loss: 0.2674 - val_sparse_categorical_accuracy: 0.9030\n",
            "Epoch 81/300\n",
            "422/422 [==============================] - 3s 7ms/step - loss: 0.2383 - sparse_categorical_accuracy: 0.9095 - val_loss: 0.2703 - val_sparse_categorical_accuracy: 0.9033\n",
            "Epoch 82/300\n",
            "422/422 [==============================] - 3s 8ms/step - loss: 0.2362 - sparse_categorical_accuracy: 0.9114 - val_loss: 0.2663 - val_sparse_categorical_accuracy: 0.9067\n",
            "Epoch 83/300\n",
            "422/422 [==============================] - 3s 7ms/step - loss: 0.2384 - sparse_categorical_accuracy: 0.9082 - val_loss: 0.2660 - val_sparse_categorical_accuracy: 0.9052\n",
            "Epoch 84/300\n",
            "422/422 [==============================] - 3s 7ms/step - loss: 0.2369 - sparse_categorical_accuracy: 0.9091 - val_loss: 0.2657 - val_sparse_categorical_accuracy: 0.9058\n",
            "Epoch 85/300\n",
            "422/422 [==============================] - 3s 7ms/step - loss: 0.2359 - sparse_categorical_accuracy: 0.9086 - val_loss: 0.2699 - val_sparse_categorical_accuracy: 0.9033\n",
            "Epoch 86/300\n",
            "422/422 [==============================] - 3s 8ms/step - loss: 0.2377 - sparse_categorical_accuracy: 0.9098 - val_loss: 0.2671 - val_sparse_categorical_accuracy: 0.9068\n",
            "Epoch 87/300\n",
            "422/422 [==============================] - 3s 7ms/step - loss: 0.2357 - sparse_categorical_accuracy: 0.9099 - val_loss: 0.2677 - val_sparse_categorical_accuracy: 0.9048\n",
            "Epoch 88/300\n",
            "422/422 [==============================] - 3s 7ms/step - loss: 0.2343 - sparse_categorical_accuracy: 0.9097 - val_loss: 0.2651 - val_sparse_categorical_accuracy: 0.9060\n",
            "Epoch 89/300\n",
            "422/422 [==============================] - 3s 7ms/step - loss: 0.2314 - sparse_categorical_accuracy: 0.9111 - val_loss: 0.2722 - val_sparse_categorical_accuracy: 0.9030\n",
            "Epoch 90/300\n",
            "422/422 [==============================] - 3s 8ms/step - loss: 0.2335 - sparse_categorical_accuracy: 0.9101 - val_loss: 0.2674 - val_sparse_categorical_accuracy: 0.9053\n",
            "Epoch 91/300\n",
            "422/422 [==============================] - 3s 8ms/step - loss: 0.2326 - sparse_categorical_accuracy: 0.9106 - val_loss: 0.2688 - val_sparse_categorical_accuracy: 0.9045\n",
            "Epoch 92/300\n",
            "422/422 [==============================] - 3s 8ms/step - loss: 0.2352 - sparse_categorical_accuracy: 0.9106 - val_loss: 0.2660 - val_sparse_categorical_accuracy: 0.9065\n",
            "Epoch 93/300\n",
            "422/422 [==============================] - 3s 8ms/step - loss: 0.2319 - sparse_categorical_accuracy: 0.9092 - val_loss: 0.2687 - val_sparse_categorical_accuracy: 0.9057\n",
            "Epoch 94/300\n",
            "422/422 [==============================] - 3s 8ms/step - loss: 0.2304 - sparse_categorical_accuracy: 0.9116 - val_loss: 0.2697 - val_sparse_categorical_accuracy: 0.9062\n",
            "Epoch 95/300\n",
            "422/422 [==============================] - 3s 7ms/step - loss: 0.2299 - sparse_categorical_accuracy: 0.9107 - val_loss: 0.2666 - val_sparse_categorical_accuracy: 0.9062\n",
            "Epoch 96/300\n",
            "422/422 [==============================] - 3s 7ms/step - loss: 0.2281 - sparse_categorical_accuracy: 0.9121 - val_loss: 0.2697 - val_sparse_categorical_accuracy: 0.9080\n",
            "Epoch 97/300\n",
            "422/422 [==============================] - 3s 8ms/step - loss: 0.2323 - sparse_categorical_accuracy: 0.9109 - val_loss: 0.2668 - val_sparse_categorical_accuracy: 0.9057\n",
            "Epoch 98/300\n",
            "422/422 [==============================] - 3s 8ms/step - loss: 0.2254 - sparse_categorical_accuracy: 0.9122 - val_loss: 0.2736 - val_sparse_categorical_accuracy: 0.9052\n",
            "Epoch 99/300\n",
            "422/422 [==============================] - 3s 7ms/step - loss: 0.2304 - sparse_categorical_accuracy: 0.9111 - val_loss: 0.2723 - val_sparse_categorical_accuracy: 0.9065\n",
            "Epoch 100/300\n",
            "422/422 [==============================] - 3s 7ms/step - loss: 0.2266 - sparse_categorical_accuracy: 0.9121 - val_loss: 0.2689 - val_sparse_categorical_accuracy: 0.9060\n",
            "Epoch 101/300\n",
            "422/422 [==============================] - 4s 9ms/step - loss: 0.2275 - sparse_categorical_accuracy: 0.9124 - val_loss: 0.2703 - val_sparse_categorical_accuracy: 0.9085\n",
            "Epoch 102/300\n",
            "422/422 [==============================] - 3s 7ms/step - loss: 0.2246 - sparse_categorical_accuracy: 0.9132 - val_loss: 0.2659 - val_sparse_categorical_accuracy: 0.9092\n",
            "Epoch 103/300\n",
            "422/422 [==============================] - 3s 7ms/step - loss: 0.2244 - sparse_categorical_accuracy: 0.9142 - val_loss: 0.2670 - val_sparse_categorical_accuracy: 0.9053\n",
            "Epoch 104/300\n",
            "422/422 [==============================] - 3s 7ms/step - loss: 0.2291 - sparse_categorical_accuracy: 0.9124 - val_loss: 0.2689 - val_sparse_categorical_accuracy: 0.9012\n",
            "Epoch 105/300\n",
            "422/422 [==============================] - 4s 8ms/step - loss: 0.2248 - sparse_categorical_accuracy: 0.9121 - val_loss: 0.2800 - val_sparse_categorical_accuracy: 0.9022\n",
            "Epoch 106/300\n",
            "422/422 [==============================] - 3s 7ms/step - loss: 0.2259 - sparse_categorical_accuracy: 0.9140 - val_loss: 0.2711 - val_sparse_categorical_accuracy: 0.9055\n",
            "Epoch 107/300\n",
            "422/422 [==============================] - 3s 7ms/step - loss: 0.2238 - sparse_categorical_accuracy: 0.9134 - val_loss: 0.2770 - val_sparse_categorical_accuracy: 0.9045\n",
            "Epoch 108/300\n",
            "422/422 [==============================] - 3s 7ms/step - loss: 0.2253 - sparse_categorical_accuracy: 0.9138 - val_loss: 0.2691 - val_sparse_categorical_accuracy: 0.9027\n",
            "Epoch 109/300\n",
            "422/422 [==============================] - 4s 8ms/step - loss: 0.2273 - sparse_categorical_accuracy: 0.9133 - val_loss: 0.2654 - val_sparse_categorical_accuracy: 0.9085\n",
            "Epoch 110/300\n",
            "422/422 [==============================] - 3s 7ms/step - loss: 0.2256 - sparse_categorical_accuracy: 0.9128 - val_loss: 0.2643 - val_sparse_categorical_accuracy: 0.9072\n",
            "Epoch 111/300\n",
            "422/422 [==============================] - 3s 7ms/step - loss: 0.2230 - sparse_categorical_accuracy: 0.9141 - val_loss: 0.2647 - val_sparse_categorical_accuracy: 0.9070\n",
            "Epoch 112/300\n",
            "422/422 [==============================] - 3s 8ms/step - loss: 0.2229 - sparse_categorical_accuracy: 0.9136 - val_loss: 0.2674 - val_sparse_categorical_accuracy: 0.9040\n",
            "Epoch 113/300\n",
            "422/422 [==============================] - 3s 8ms/step - loss: 0.2203 - sparse_categorical_accuracy: 0.9161 - val_loss: 0.2705 - val_sparse_categorical_accuracy: 0.9067\n",
            "Epoch 114/300\n",
            "422/422 [==============================] - 3s 7ms/step - loss: 0.2231 - sparse_categorical_accuracy: 0.9130 - val_loss: 0.2700 - val_sparse_categorical_accuracy: 0.9087\n",
            "Epoch 115/300\n",
            "422/422 [==============================] - 3s 7ms/step - loss: 0.2223 - sparse_categorical_accuracy: 0.9146 - val_loss: 0.2743 - val_sparse_categorical_accuracy: 0.9045\n",
            "Epoch 116/300\n",
            "422/422 [==============================] - 3s 8ms/step - loss: 0.2193 - sparse_categorical_accuracy: 0.9153 - val_loss: 0.2710 - val_sparse_categorical_accuracy: 0.9032\n",
            "Epoch 117/300\n",
            "422/422 [==============================] - 3s 7ms/step - loss: 0.2207 - sparse_categorical_accuracy: 0.9147 - val_loss: 0.2741 - val_sparse_categorical_accuracy: 0.9035\n",
            "Epoch 118/300\n",
            "422/422 [==============================] - 3s 7ms/step - loss: 0.2229 - sparse_categorical_accuracy: 0.9142 - val_loss: 0.2748 - val_sparse_categorical_accuracy: 0.9050\n",
            "Epoch 119/300\n",
            "422/422 [==============================] - 3s 7ms/step - loss: 0.2182 - sparse_categorical_accuracy: 0.9162 - val_loss: 0.2716 - val_sparse_categorical_accuracy: 0.9052\n",
            "Epoch 120/300\n",
            "422/422 [==============================] - 4s 8ms/step - loss: 0.2146 - sparse_categorical_accuracy: 0.9173 - val_loss: 0.2690 - val_sparse_categorical_accuracy: 0.9060\n",
            "Epoch 121/300\n",
            "422/422 [==============================] - 3s 7ms/step - loss: 0.2177 - sparse_categorical_accuracy: 0.9159 - val_loss: 0.2703 - val_sparse_categorical_accuracy: 0.9043\n",
            "Epoch 122/300\n",
            "422/422 [==============================] - 3s 7ms/step - loss: 0.2184 - sparse_categorical_accuracy: 0.9165 - val_loss: 0.2722 - val_sparse_categorical_accuracy: 0.9092\n",
            "Epoch 123/300\n",
            "422/422 [==============================] - 3s 7ms/step - loss: 0.2170 - sparse_categorical_accuracy: 0.9165 - val_loss: 0.2750 - val_sparse_categorical_accuracy: 0.9090\n",
            "Epoch 124/300\n",
            "422/422 [==============================] - 3s 8ms/step - loss: 0.2180 - sparse_categorical_accuracy: 0.9150 - val_loss: 0.2710 - val_sparse_categorical_accuracy: 0.9053\n",
            "Epoch 125/300\n",
            "422/422 [==============================] - 3s 7ms/step - loss: 0.2171 - sparse_categorical_accuracy: 0.9174 - val_loss: 0.2691 - val_sparse_categorical_accuracy: 0.9062\n",
            "Epoch 126/300\n",
            "422/422 [==============================] - 3s 7ms/step - loss: 0.2170 - sparse_categorical_accuracy: 0.9161 - val_loss: 0.2745 - val_sparse_categorical_accuracy: 0.9057\n",
            "Epoch 127/300\n",
            "422/422 [==============================] - 3s 7ms/step - loss: 0.2189 - sparse_categorical_accuracy: 0.9164 - val_loss: 0.2766 - val_sparse_categorical_accuracy: 0.9065\n",
            "Epoch 128/300\n",
            "422/422 [==============================] - 3s 8ms/step - loss: 0.2165 - sparse_categorical_accuracy: 0.9161 - val_loss: 0.2731 - val_sparse_categorical_accuracy: 0.9043\n",
            "Epoch 129/300\n",
            "422/422 [==============================] - 3s 7ms/step - loss: 0.2153 - sparse_categorical_accuracy: 0.9186 - val_loss: 0.2745 - val_sparse_categorical_accuracy: 0.9068\n",
            "Epoch 130/300\n",
            "422/422 [==============================] - 3s 7ms/step - loss: 0.2139 - sparse_categorical_accuracy: 0.9173 - val_loss: 0.2717 - val_sparse_categorical_accuracy: 0.9077\n",
            "Epoch 131/300\n",
            "422/422 [==============================] - 3s 7ms/step - loss: 0.2165 - sparse_categorical_accuracy: 0.9168 - val_loss: 0.2722 - val_sparse_categorical_accuracy: 0.9058\n",
            "Epoch 132/300\n",
            "422/422 [==============================] - 3s 8ms/step - loss: 0.2124 - sparse_categorical_accuracy: 0.9168 - val_loss: 0.2692 - val_sparse_categorical_accuracy: 0.9080\n",
            "Epoch 133/300\n",
            "422/422 [==============================] - 3s 7ms/step - loss: 0.2131 - sparse_categorical_accuracy: 0.9189 - val_loss: 0.2710 - val_sparse_categorical_accuracy: 0.9053\n",
            "Epoch 134/300\n",
            "422/422 [==============================] - 3s 7ms/step - loss: 0.2140 - sparse_categorical_accuracy: 0.9186 - val_loss: 0.2705 - val_sparse_categorical_accuracy: 0.9065\n",
            "Epoch 135/300\n",
            "422/422 [==============================] - 3s 7ms/step - loss: 0.2146 - sparse_categorical_accuracy: 0.9173 - val_loss: 0.2681 - val_sparse_categorical_accuracy: 0.9052\n",
            "Epoch 136/300\n",
            "422/422 [==============================] - 4s 8ms/step - loss: 0.2139 - sparse_categorical_accuracy: 0.9174 - val_loss: 0.2776 - val_sparse_categorical_accuracy: 0.9042\n",
            "Epoch 137/300\n",
            "422/422 [==============================] - 3s 7ms/step - loss: 0.2107 - sparse_categorical_accuracy: 0.9197 - val_loss: 0.2747 - val_sparse_categorical_accuracy: 0.9077\n",
            "Epoch 138/300\n",
            "422/422 [==============================] - 3s 7ms/step - loss: 0.2105 - sparse_categorical_accuracy: 0.9191 - val_loss: 0.2712 - val_sparse_categorical_accuracy: 0.9073\n",
            "Epoch 139/300\n",
            "422/422 [==============================] - 3s 7ms/step - loss: 0.2109 - sparse_categorical_accuracy: 0.9189 - val_loss: 0.2681 - val_sparse_categorical_accuracy: 0.9058\n",
            "Epoch 140/300\n",
            "422/422 [==============================] - 3s 8ms/step - loss: 0.2152 - sparse_categorical_accuracy: 0.9179 - val_loss: 0.2740 - val_sparse_categorical_accuracy: 0.9060\n",
            "Epoch 141/300\n",
            "422/422 [==============================] - 3s 7ms/step - loss: 0.2117 - sparse_categorical_accuracy: 0.9170 - val_loss: 0.2704 - val_sparse_categorical_accuracy: 0.9058\n",
            "Epoch 142/300\n",
            "422/422 [==============================] - 3s 7ms/step - loss: 0.2101 - sparse_categorical_accuracy: 0.9190 - val_loss: 0.2706 - val_sparse_categorical_accuracy: 0.9113\n",
            "Epoch 143/300\n",
            "422/422 [==============================] - 3s 8ms/step - loss: 0.2095 - sparse_categorical_accuracy: 0.9204 - val_loss: 0.2654 - val_sparse_categorical_accuracy: 0.9095\n",
            "Epoch 144/300\n",
            "422/422 [==============================] - 3s 8ms/step - loss: 0.2115 - sparse_categorical_accuracy: 0.9179 - val_loss: 0.2704 - val_sparse_categorical_accuracy: 0.9082\n",
            "Epoch 145/300\n",
            "422/422 [==============================] - 3s 7ms/step - loss: 0.2066 - sparse_categorical_accuracy: 0.9200 - val_loss: 0.2685 - val_sparse_categorical_accuracy: 0.9068\n",
            "Epoch 146/300\n",
            "422/422 [==============================] - 3s 7ms/step - loss: 0.2086 - sparse_categorical_accuracy: 0.9199 - val_loss: 0.2671 - val_sparse_categorical_accuracy: 0.9080\n",
            "Epoch 147/300\n",
            "422/422 [==============================] - 3s 8ms/step - loss: 0.2098 - sparse_categorical_accuracy: 0.9184 - val_loss: 0.2705 - val_sparse_categorical_accuracy: 0.9080\n",
            "Epoch 148/300\n",
            "422/422 [==============================] - 3s 7ms/step - loss: 0.2097 - sparse_categorical_accuracy: 0.9199 - val_loss: 0.2674 - val_sparse_categorical_accuracy: 0.9063\n",
            "Epoch 149/300\n",
            "422/422 [==============================] - 3s 7ms/step - loss: 0.2105 - sparse_categorical_accuracy: 0.9185 - val_loss: 0.2741 - val_sparse_categorical_accuracy: 0.9067\n",
            "Epoch 150/300\n",
            "422/422 [==============================] - 3s 7ms/step - loss: 0.2100 - sparse_categorical_accuracy: 0.9192 - val_loss: 0.2691 - val_sparse_categorical_accuracy: 0.9070\n",
            "Epoch 151/300\n",
            "422/422 [==============================] - 3s 8ms/step - loss: 0.2071 - sparse_categorical_accuracy: 0.9194 - val_loss: 0.2658 - val_sparse_categorical_accuracy: 0.9083\n",
            "Epoch 152/300\n",
            "422/422 [==============================] - 3s 8ms/step - loss: 0.2064 - sparse_categorical_accuracy: 0.9217 - val_loss: 0.2725 - val_sparse_categorical_accuracy: 0.9060\n",
            "Epoch 153/300\n",
            "422/422 [==============================] - 3s 7ms/step - loss: 0.2079 - sparse_categorical_accuracy: 0.9199 - val_loss: 0.2699 - val_sparse_categorical_accuracy: 0.9062\n",
            "Epoch 154/300\n",
            "422/422 [==============================] - 3s 7ms/step - loss: 0.2082 - sparse_categorical_accuracy: 0.9200 - val_loss: 0.2752 - val_sparse_categorical_accuracy: 0.9063\n",
            "Epoch 155/300\n",
            "422/422 [==============================] - 3s 8ms/step - loss: 0.2065 - sparse_categorical_accuracy: 0.9211 - val_loss: 0.2700 - val_sparse_categorical_accuracy: 0.9063\n",
            "Epoch 156/300\n",
            "422/422 [==============================] - 3s 7ms/step - loss: 0.2071 - sparse_categorical_accuracy: 0.9204 - val_loss: 0.2716 - val_sparse_categorical_accuracy: 0.9073\n",
            "Epoch 157/300\n",
            "422/422 [==============================] - 3s 7ms/step - loss: 0.2067 - sparse_categorical_accuracy: 0.9199 - val_loss: 0.2691 - val_sparse_categorical_accuracy: 0.9073\n",
            "Epoch 158/300\n",
            "422/422 [==============================] - 3s 7ms/step - loss: 0.2061 - sparse_categorical_accuracy: 0.9202 - val_loss: 0.2739 - val_sparse_categorical_accuracy: 0.9073\n",
            "Epoch 159/300\n",
            "422/422 [==============================] - 3s 8ms/step - loss: 0.2048 - sparse_categorical_accuracy: 0.9206 - val_loss: 0.2729 - val_sparse_categorical_accuracy: 0.9048\n",
            "Epoch 160/300\n",
            "422/422 [==============================] - 3s 7ms/step - loss: 0.2086 - sparse_categorical_accuracy: 0.9199 - val_loss: 0.2731 - val_sparse_categorical_accuracy: 0.9098\n",
            "Epoch 161/300\n",
            "422/422 [==============================] - 3s 7ms/step - loss: 0.2084 - sparse_categorical_accuracy: 0.9206 - val_loss: 0.2723 - val_sparse_categorical_accuracy: 0.9080\n",
            "Epoch 162/300\n",
            "422/422 [==============================] - 3s 7ms/step - loss: 0.2035 - sparse_categorical_accuracy: 0.9208 - val_loss: 0.2667 - val_sparse_categorical_accuracy: 0.9075\n",
            "Epoch 163/300\n",
            "422/422 [==============================] - 3s 8ms/step - loss: 0.2035 - sparse_categorical_accuracy: 0.9211 - val_loss: 0.2669 - val_sparse_categorical_accuracy: 0.9053\n",
            "Epoch 164/300\n",
            "422/422 [==============================] - 3s 7ms/step - loss: 0.2048 - sparse_categorical_accuracy: 0.9207 - val_loss: 0.2686 - val_sparse_categorical_accuracy: 0.9073\n",
            "Epoch 165/300\n",
            "422/422 [==============================] - 3s 7ms/step - loss: 0.2055 - sparse_categorical_accuracy: 0.9209 - val_loss: 0.2735 - val_sparse_categorical_accuracy: 0.9067\n",
            "Epoch 166/300\n",
            "422/422 [==============================] - 3s 7ms/step - loss: 0.2040 - sparse_categorical_accuracy: 0.9217 - val_loss: 0.2771 - val_sparse_categorical_accuracy: 0.9075\n",
            "Epoch 167/300\n",
            "422/422 [==============================] - 3s 8ms/step - loss: 0.2042 - sparse_categorical_accuracy: 0.9214 - val_loss: 0.2774 - val_sparse_categorical_accuracy: 0.9068\n",
            "Epoch 168/300\n",
            "422/422 [==============================] - 3s 7ms/step - loss: 0.2035 - sparse_categorical_accuracy: 0.9206 - val_loss: 0.2716 - val_sparse_categorical_accuracy: 0.9073\n",
            "Epoch 169/300\n",
            "422/422 [==============================] - 3s 7ms/step - loss: 0.2059 - sparse_categorical_accuracy: 0.9211 - val_loss: 0.2691 - val_sparse_categorical_accuracy: 0.9088\n",
            "Epoch 170/300\n",
            "422/422 [==============================] - 3s 7ms/step - loss: 0.2044 - sparse_categorical_accuracy: 0.9215 - val_loss: 0.2733 - val_sparse_categorical_accuracy: 0.9075\n",
            "Epoch 171/300\n",
            "422/422 [==============================] - 4s 9ms/step - loss: 0.2052 - sparse_categorical_accuracy: 0.9198 - val_loss: 0.2722 - val_sparse_categorical_accuracy: 0.9067\n",
            "Epoch 172/300\n",
            "422/422 [==============================] - 3s 7ms/step - loss: 0.2052 - sparse_categorical_accuracy: 0.9203 - val_loss: 0.2685 - val_sparse_categorical_accuracy: 0.9062\n",
            "Epoch 173/300\n",
            "422/422 [==============================] - 3s 7ms/step - loss: 0.2028 - sparse_categorical_accuracy: 0.9214 - val_loss: 0.2718 - val_sparse_categorical_accuracy: 0.9068\n",
            "Epoch 174/300\n",
            "422/422 [==============================] - 3s 7ms/step - loss: 0.2038 - sparse_categorical_accuracy: 0.9200 - val_loss: 0.2750 - val_sparse_categorical_accuracy: 0.9070\n",
            "Epoch 175/300\n",
            "422/422 [==============================] - 4s 8ms/step - loss: 0.2012 - sparse_categorical_accuracy: 0.9229 - val_loss: 0.2747 - val_sparse_categorical_accuracy: 0.9063\n",
            "Epoch 176/300\n",
            "422/422 [==============================] - 3s 7ms/step - loss: 0.2038 - sparse_categorical_accuracy: 0.9212 - val_loss: 0.2746 - val_sparse_categorical_accuracy: 0.9057\n",
            "Epoch 177/300\n",
            "422/422 [==============================] - 3s 7ms/step - loss: 0.2023 - sparse_categorical_accuracy: 0.9226 - val_loss: 0.2804 - val_sparse_categorical_accuracy: 0.9035\n",
            "Epoch 178/300\n",
            "422/422 [==============================] - 3s 8ms/step - loss: 0.1998 - sparse_categorical_accuracy: 0.9223 - val_loss: 0.2766 - val_sparse_categorical_accuracy: 0.9060\n",
            "Epoch 179/300\n",
            "422/422 [==============================] - 3s 8ms/step - loss: 0.2016 - sparse_categorical_accuracy: 0.9219 - val_loss: 0.2763 - val_sparse_categorical_accuracy: 0.9042\n",
            "Epoch 180/300\n",
            "422/422 [==============================] - 3s 7ms/step - loss: 0.2012 - sparse_categorical_accuracy: 0.9228 - val_loss: 0.2712 - val_sparse_categorical_accuracy: 0.9073\n",
            "Epoch 181/300\n",
            "422/422 [==============================] - 3s 7ms/step - loss: 0.1999 - sparse_categorical_accuracy: 0.9221 - val_loss: 0.2781 - val_sparse_categorical_accuracy: 0.9055\n",
            "Epoch 182/300\n",
            "422/422 [==============================] - 3s 8ms/step - loss: 0.2038 - sparse_categorical_accuracy: 0.9224 - val_loss: 0.2740 - val_sparse_categorical_accuracy: 0.9062\n",
            "Epoch 183/300\n",
            "422/422 [==============================] - 3s 8ms/step - loss: 0.1975 - sparse_categorical_accuracy: 0.9237 - val_loss: 0.2726 - val_sparse_categorical_accuracy: 0.9077\n",
            "Epoch 184/300\n",
            "422/422 [==============================] - 3s 7ms/step - loss: 0.1982 - sparse_categorical_accuracy: 0.9236 - val_loss: 0.2791 - val_sparse_categorical_accuracy: 0.9082\n",
            "Epoch 185/300\n",
            "422/422 [==============================] - 3s 7ms/step - loss: 0.2007 - sparse_categorical_accuracy: 0.9233 - val_loss: 0.2735 - val_sparse_categorical_accuracy: 0.9073\n",
            "Epoch 186/300\n",
            "422/422 [==============================] - 3s 8ms/step - loss: 0.1971 - sparse_categorical_accuracy: 0.9231 - val_loss: 0.2825 - val_sparse_categorical_accuracy: 0.9060\n",
            "Epoch 187/300\n",
            "422/422 [==============================] - 3s 8ms/step - loss: 0.1967 - sparse_categorical_accuracy: 0.9242 - val_loss: 0.2769 - val_sparse_categorical_accuracy: 0.9090\n",
            "Epoch 188/300\n",
            "422/422 [==============================] - 3s 7ms/step - loss: 0.1986 - sparse_categorical_accuracy: 0.9236 - val_loss: 0.2766 - val_sparse_categorical_accuracy: 0.9088\n",
            "Epoch 189/300\n",
            "422/422 [==============================] - 3s 7ms/step - loss: 0.1969 - sparse_categorical_accuracy: 0.9248 - val_loss: 0.2758 - val_sparse_categorical_accuracy: 0.9090\n",
            "Epoch 190/300\n",
            "422/422 [==============================] - 3s 8ms/step - loss: 0.2008 - sparse_categorical_accuracy: 0.9220 - val_loss: 0.2791 - val_sparse_categorical_accuracy: 0.9068\n",
            "Epoch 191/300\n",
            "422/422 [==============================] - 3s 8ms/step - loss: 0.2014 - sparse_categorical_accuracy: 0.9224 - val_loss: 0.2752 - val_sparse_categorical_accuracy: 0.9083\n",
            "Epoch 192/300\n",
            "422/422 [==============================] - 3s 7ms/step - loss: 0.1981 - sparse_categorical_accuracy: 0.9248 - val_loss: 0.2696 - val_sparse_categorical_accuracy: 0.9112\n",
            "Epoch 193/300\n",
            "422/422 [==============================] - 3s 7ms/step - loss: 0.1977 - sparse_categorical_accuracy: 0.9228 - val_loss: 0.2742 - val_sparse_categorical_accuracy: 0.9083\n",
            "Epoch 194/300\n",
            "422/422 [==============================] - 4s 8ms/step - loss: 0.1998 - sparse_categorical_accuracy: 0.9224 - val_loss: 0.2694 - val_sparse_categorical_accuracy: 0.9127\n",
            "Epoch 195/300\n",
            "422/422 [==============================] - 3s 7ms/step - loss: 0.1970 - sparse_categorical_accuracy: 0.9241 - val_loss: 0.2721 - val_sparse_categorical_accuracy: 0.9087\n",
            "Epoch 196/300\n",
            "422/422 [==============================] - 3s 7ms/step - loss: 0.1961 - sparse_categorical_accuracy: 0.9249 - val_loss: 0.2689 - val_sparse_categorical_accuracy: 0.9102\n",
            "Epoch 197/300\n",
            "422/422 [==============================] - 3s 7ms/step - loss: 0.1997 - sparse_categorical_accuracy: 0.9239 - val_loss: 0.2739 - val_sparse_categorical_accuracy: 0.9100\n",
            "Epoch 198/300\n",
            "422/422 [==============================] - 3s 8ms/step - loss: 0.1998 - sparse_categorical_accuracy: 0.9233 - val_loss: 0.2715 - val_sparse_categorical_accuracy: 0.9068\n",
            "Epoch 199/300\n",
            "422/422 [==============================] - 3s 7ms/step - loss: 0.1972 - sparse_categorical_accuracy: 0.9235 - val_loss: 0.2704 - val_sparse_categorical_accuracy: 0.9083\n",
            "Epoch 200/300\n",
            "422/422 [==============================] - 3s 7ms/step - loss: 0.1972 - sparse_categorical_accuracy: 0.9239 - val_loss: 0.2699 - val_sparse_categorical_accuracy: 0.9105\n",
            "Epoch 201/300\n",
            "422/422 [==============================] - 3s 7ms/step - loss: 0.1939 - sparse_categorical_accuracy: 0.9251 - val_loss: 0.2730 - val_sparse_categorical_accuracy: 0.9077\n",
            "Epoch 202/300\n",
            "422/422 [==============================] - 4s 8ms/step - loss: 0.1979 - sparse_categorical_accuracy: 0.9239 - val_loss: 0.2717 - val_sparse_categorical_accuracy: 0.9083\n",
            "Epoch 203/300\n",
            "422/422 [==============================] - 3s 7ms/step - loss: 0.1975 - sparse_categorical_accuracy: 0.9249 - val_loss: 0.2750 - val_sparse_categorical_accuracy: 0.9093\n",
            "Epoch 204/300\n",
            "422/422 [==============================] - 3s 7ms/step - loss: 0.1974 - sparse_categorical_accuracy: 0.9235 - val_loss: 0.2711 - val_sparse_categorical_accuracy: 0.9078\n",
            "Epoch 205/300\n",
            "422/422 [==============================] - 3s 7ms/step - loss: 0.1929 - sparse_categorical_accuracy: 0.9257 - val_loss: 0.2709 - val_sparse_categorical_accuracy: 0.9108\n",
            "Epoch 206/300\n",
            "422/422 [==============================] - 4s 8ms/step - loss: 0.1939 - sparse_categorical_accuracy: 0.9253 - val_loss: 0.2762 - val_sparse_categorical_accuracy: 0.9073\n",
            "Epoch 207/300\n",
            "422/422 [==============================] - 3s 7ms/step - loss: 0.1953 - sparse_categorical_accuracy: 0.9242 - val_loss: 0.2741 - val_sparse_categorical_accuracy: 0.9072\n",
            "Epoch 208/300\n",
            "422/422 [==============================] - 3s 7ms/step - loss: 0.1958 - sparse_categorical_accuracy: 0.9246 - val_loss: 0.2726 - val_sparse_categorical_accuracy: 0.9102\n",
            "Epoch 209/300\n",
            "422/422 [==============================] - 3s 8ms/step - loss: 0.1942 - sparse_categorical_accuracy: 0.9261 - val_loss: 0.2723 - val_sparse_categorical_accuracy: 0.9100\n",
            "Epoch 210/300\n",
            "422/422 [==============================] - 3s 8ms/step - loss: 0.1928 - sparse_categorical_accuracy: 0.9252 - val_loss: 0.2694 - val_sparse_categorical_accuracy: 0.9092\n",
            "Epoch 211/300\n",
            "422/422 [==============================] - 3s 7ms/step - loss: 0.1949 - sparse_categorical_accuracy: 0.9250 - val_loss: 0.2805 - val_sparse_categorical_accuracy: 0.9083\n",
            "Epoch 212/300\n",
            "422/422 [==============================] - 3s 7ms/step - loss: 0.1926 - sparse_categorical_accuracy: 0.9247 - val_loss: 0.2743 - val_sparse_categorical_accuracy: 0.9092\n",
            "Epoch 213/300\n",
            "422/422 [==============================] - 3s 8ms/step - loss: 0.1951 - sparse_categorical_accuracy: 0.9244 - val_loss: 0.2740 - val_sparse_categorical_accuracy: 0.9078\n",
            "Epoch 214/300\n",
            "422/422 [==============================] - 3s 8ms/step - loss: 0.1924 - sparse_categorical_accuracy: 0.9250 - val_loss: 0.2745 - val_sparse_categorical_accuracy: 0.9082\n",
            "Epoch 215/300\n",
            "422/422 [==============================] - 3s 7ms/step - loss: 0.1932 - sparse_categorical_accuracy: 0.9246 - val_loss: 0.2739 - val_sparse_categorical_accuracy: 0.9077\n",
            "Epoch 216/300\n",
            "422/422 [==============================] - 3s 7ms/step - loss: 0.1938 - sparse_categorical_accuracy: 0.9256 - val_loss: 0.2761 - val_sparse_categorical_accuracy: 0.9110\n",
            "Epoch 217/300\n",
            "422/422 [==============================] - 3s 8ms/step - loss: 0.1942 - sparse_categorical_accuracy: 0.9254 - val_loss: 0.2765 - val_sparse_categorical_accuracy: 0.9072\n",
            "Epoch 218/300\n",
            "422/422 [==============================] - 3s 8ms/step - loss: 0.1930 - sparse_categorical_accuracy: 0.9246 - val_loss: 0.2783 - val_sparse_categorical_accuracy: 0.9093\n",
            "Epoch 219/300\n",
            "422/422 [==============================] - 3s 7ms/step - loss: 0.1915 - sparse_categorical_accuracy: 0.9255 - val_loss: 0.2735 - val_sparse_categorical_accuracy: 0.9113\n",
            "Epoch 220/300\n",
            "422/422 [==============================] - 3s 7ms/step - loss: 0.1940 - sparse_categorical_accuracy: 0.9255 - val_loss: 0.2698 - val_sparse_categorical_accuracy: 0.9098\n",
            "Epoch 221/300\n",
            "422/422 [==============================] - 4s 9ms/step - loss: 0.1941 - sparse_categorical_accuracy: 0.9238 - val_loss: 0.2721 - val_sparse_categorical_accuracy: 0.9083\n",
            "Epoch 222/300\n",
            "422/422 [==============================] - 3s 8ms/step - loss: 0.1936 - sparse_categorical_accuracy: 0.9260 - val_loss: 0.2715 - val_sparse_categorical_accuracy: 0.9082\n",
            "Epoch 223/300\n",
            "422/422 [==============================] - 3s 8ms/step - loss: 0.1910 - sparse_categorical_accuracy: 0.9268 - val_loss: 0.2710 - val_sparse_categorical_accuracy: 0.9113\n",
            "Epoch 224/300\n",
            "422/422 [==============================] - 3s 7ms/step - loss: 0.1930 - sparse_categorical_accuracy: 0.9246 - val_loss: 0.2680 - val_sparse_categorical_accuracy: 0.9083\n",
            "Epoch 225/300\n",
            "422/422 [==============================] - 4s 9ms/step - loss: 0.1884 - sparse_categorical_accuracy: 0.9271 - val_loss: 0.2769 - val_sparse_categorical_accuracy: 0.9098\n",
            "Epoch 226/300\n",
            "422/422 [==============================] - 3s 8ms/step - loss: 0.1905 - sparse_categorical_accuracy: 0.9263 - val_loss: 0.2748 - val_sparse_categorical_accuracy: 0.9085\n",
            "Epoch 227/300\n",
            "422/422 [==============================] - 3s 8ms/step - loss: 0.1951 - sparse_categorical_accuracy: 0.9247 - val_loss: 0.2723 - val_sparse_categorical_accuracy: 0.9085\n",
            "Epoch 228/300\n",
            "422/422 [==============================] - 3s 8ms/step - loss: 0.1903 - sparse_categorical_accuracy: 0.9271 - val_loss: 0.2761 - val_sparse_categorical_accuracy: 0.9090\n",
            "Epoch 229/300\n",
            "422/422 [==============================] - 3s 8ms/step - loss: 0.1924 - sparse_categorical_accuracy: 0.9252 - val_loss: 0.2720 - val_sparse_categorical_accuracy: 0.9087\n",
            "Epoch 230/300\n",
            "422/422 [==============================] - 3s 8ms/step - loss: 0.1863 - sparse_categorical_accuracy: 0.9293 - val_loss: 0.2790 - val_sparse_categorical_accuracy: 0.9085\n",
            "Epoch 231/300\n",
            "422/422 [==============================] - 3s 8ms/step - loss: 0.1908 - sparse_categorical_accuracy: 0.9273 - val_loss: 0.2756 - val_sparse_categorical_accuracy: 0.9102\n",
            "Epoch 232/300\n",
            "422/422 [==============================] - 4s 8ms/step - loss: 0.1923 - sparse_categorical_accuracy: 0.9251 - val_loss: 0.2721 - val_sparse_categorical_accuracy: 0.9083\n",
            "Epoch 233/300\n",
            "422/422 [==============================] - 3s 8ms/step - loss: 0.1930 - sparse_categorical_accuracy: 0.9261 - val_loss: 0.2708 - val_sparse_categorical_accuracy: 0.9113\n",
            "Epoch 234/300\n",
            "422/422 [==============================] - 3s 7ms/step - loss: 0.1907 - sparse_categorical_accuracy: 0.9268 - val_loss: 0.2761 - val_sparse_categorical_accuracy: 0.9098\n",
            "Epoch 235/300\n",
            "422/422 [==============================] - 3s 8ms/step - loss: 0.1893 - sparse_categorical_accuracy: 0.9276 - val_loss: 0.2758 - val_sparse_categorical_accuracy: 0.9092\n",
            "Epoch 236/300\n",
            "422/422 [==============================] - 4s 9ms/step - loss: 0.1914 - sparse_categorical_accuracy: 0.9260 - val_loss: 0.2741 - val_sparse_categorical_accuracy: 0.9095\n",
            "Epoch 237/300\n",
            "422/422 [==============================] - 3s 8ms/step - loss: 0.1906 - sparse_categorical_accuracy: 0.9261 - val_loss: 0.2733 - val_sparse_categorical_accuracy: 0.9122\n",
            "Epoch 238/300\n",
            "422/422 [==============================] - 3s 8ms/step - loss: 0.1899 - sparse_categorical_accuracy: 0.9269 - val_loss: 0.2749 - val_sparse_categorical_accuracy: 0.9090\n",
            "Epoch 239/300\n",
            "422/422 [==============================] - 3s 8ms/step - loss: 0.1880 - sparse_categorical_accuracy: 0.9279 - val_loss: 0.2761 - val_sparse_categorical_accuracy: 0.9092\n",
            "Epoch 240/300\n",
            "422/422 [==============================] - 4s 8ms/step - loss: 0.1911 - sparse_categorical_accuracy: 0.9262 - val_loss: 0.2740 - val_sparse_categorical_accuracy: 0.9113\n",
            "Epoch 241/300\n",
            "422/422 [==============================] - 3s 8ms/step - loss: 0.1905 - sparse_categorical_accuracy: 0.9261 - val_loss: 0.2722 - val_sparse_categorical_accuracy: 0.9080\n",
            "Epoch 242/300\n",
            "422/422 [==============================] - 3s 7ms/step - loss: 0.1887 - sparse_categorical_accuracy: 0.9282 - val_loss: 0.2749 - val_sparse_categorical_accuracy: 0.9118\n",
            "Epoch 243/300\n",
            "422/422 [==============================] - 3s 8ms/step - loss: 0.1871 - sparse_categorical_accuracy: 0.9266 - val_loss: 0.2807 - val_sparse_categorical_accuracy: 0.9070\n",
            "Epoch 244/300\n",
            "422/422 [==============================] - 4s 8ms/step - loss: 0.1874 - sparse_categorical_accuracy: 0.9283 - val_loss: 0.2754 - val_sparse_categorical_accuracy: 0.9098\n",
            "Epoch 245/300\n",
            "422/422 [==============================] - 3s 8ms/step - loss: 0.1904 - sparse_categorical_accuracy: 0.9259 - val_loss: 0.2732 - val_sparse_categorical_accuracy: 0.9093\n",
            "Epoch 246/300\n",
            "422/422 [==============================] - 3s 7ms/step - loss: 0.1901 - sparse_categorical_accuracy: 0.9267 - val_loss: 0.2743 - val_sparse_categorical_accuracy: 0.9103\n",
            "Epoch 247/300\n",
            "422/422 [==============================] - 4s 9ms/step - loss: 0.1860 - sparse_categorical_accuracy: 0.9283 - val_loss: 0.2749 - val_sparse_categorical_accuracy: 0.9090\n",
            "Epoch 248/300\n",
            "422/422 [==============================] - 3s 8ms/step - loss: 0.1884 - sparse_categorical_accuracy: 0.9265 - val_loss: 0.2741 - val_sparse_categorical_accuracy: 0.9082\n",
            "Epoch 249/300\n",
            "422/422 [==============================] - 3s 7ms/step - loss: 0.1884 - sparse_categorical_accuracy: 0.9279 - val_loss: 0.2688 - val_sparse_categorical_accuracy: 0.9090\n",
            "Epoch 250/300\n",
            "422/422 [==============================] - 3s 7ms/step - loss: 0.1859 - sparse_categorical_accuracy: 0.9281 - val_loss: 0.2785 - val_sparse_categorical_accuracy: 0.9085\n",
            "Epoch 251/300\n",
            "422/422 [==============================] - 4s 9ms/step - loss: 0.1892 - sparse_categorical_accuracy: 0.9278 - val_loss: 0.2724 - val_sparse_categorical_accuracy: 0.9097\n",
            "Epoch 252/300\n",
            "422/422 [==============================] - 3s 7ms/step - loss: 0.1873 - sparse_categorical_accuracy: 0.9288 - val_loss: 0.2742 - val_sparse_categorical_accuracy: 0.9110\n",
            "Epoch 253/300\n",
            "422/422 [==============================] - 3s 7ms/step - loss: 0.1899 - sparse_categorical_accuracy: 0.9269 - val_loss: 0.2723 - val_sparse_categorical_accuracy: 0.9088\n",
            "Epoch 254/300\n",
            "422/422 [==============================] - 3s 7ms/step - loss: 0.1884 - sparse_categorical_accuracy: 0.9271 - val_loss: 0.2757 - val_sparse_categorical_accuracy: 0.9107\n",
            "Epoch 255/300\n",
            "422/422 [==============================] - 4s 9ms/step - loss: 0.1895 - sparse_categorical_accuracy: 0.9272 - val_loss: 0.2776 - val_sparse_categorical_accuracy: 0.9070\n",
            "Epoch 256/300\n",
            "422/422 [==============================] - 4s 9ms/step - loss: 0.1881 - sparse_categorical_accuracy: 0.9283 - val_loss: 0.2807 - val_sparse_categorical_accuracy: 0.9090\n",
            "Epoch 257/300\n",
            "422/422 [==============================] - 4s 8ms/step - loss: 0.1838 - sparse_categorical_accuracy: 0.9284 - val_loss: 0.2752 - val_sparse_categorical_accuracy: 0.9063\n",
            "Epoch 258/300\n",
            "422/422 [==============================] - 3s 7ms/step - loss: 0.1858 - sparse_categorical_accuracy: 0.9279 - val_loss: 0.2767 - val_sparse_categorical_accuracy: 0.9113\n",
            "Epoch 259/300\n",
            "422/422 [==============================] - 4s 9ms/step - loss: 0.1871 - sparse_categorical_accuracy: 0.9282 - val_loss: 0.2776 - val_sparse_categorical_accuracy: 0.9110\n",
            "Epoch 260/300\n",
            "422/422 [==============================] - 3s 7ms/step - loss: 0.1857 - sparse_categorical_accuracy: 0.9286 - val_loss: 0.2808 - val_sparse_categorical_accuracy: 0.9080\n",
            "Epoch 261/300\n",
            "422/422 [==============================] - 3s 7ms/step - loss: 0.1873 - sparse_categorical_accuracy: 0.9285 - val_loss: 0.2740 - val_sparse_categorical_accuracy: 0.9097\n",
            "Epoch 262/300\n",
            "422/422 [==============================] - 3s 7ms/step - loss: 0.1847 - sparse_categorical_accuracy: 0.9288 - val_loss: 0.2828 - val_sparse_categorical_accuracy: 0.9087\n",
            "Epoch 263/300\n",
            "422/422 [==============================] - 4s 8ms/step - loss: 0.1883 - sparse_categorical_accuracy: 0.9276 - val_loss: 0.2783 - val_sparse_categorical_accuracy: 0.9075\n",
            "Epoch 264/300\n",
            "422/422 [==============================] - 3s 7ms/step - loss: 0.1865 - sparse_categorical_accuracy: 0.9278 - val_loss: 0.2773 - val_sparse_categorical_accuracy: 0.9098\n",
            "Epoch 265/300\n",
            "422/422 [==============================] - 3s 7ms/step - loss: 0.1873 - sparse_categorical_accuracy: 0.9277 - val_loss: 0.2771 - val_sparse_categorical_accuracy: 0.9080\n",
            "Epoch 266/300\n",
            "422/422 [==============================] - 3s 7ms/step - loss: 0.1872 - sparse_categorical_accuracy: 0.9284 - val_loss: 0.2805 - val_sparse_categorical_accuracy: 0.9063\n",
            "Epoch 267/300\n",
            "422/422 [==============================] - 4s 9ms/step - loss: 0.1881 - sparse_categorical_accuracy: 0.9274 - val_loss: 0.2795 - val_sparse_categorical_accuracy: 0.9080\n",
            "Epoch 268/300\n",
            "422/422 [==============================] - 3s 7ms/step - loss: 0.1835 - sparse_categorical_accuracy: 0.9285 - val_loss: 0.2794 - val_sparse_categorical_accuracy: 0.9097\n",
            "Epoch 269/300\n",
            "422/422 [==============================] - 3s 7ms/step - loss: 0.1886 - sparse_categorical_accuracy: 0.9277 - val_loss: 0.2770 - val_sparse_categorical_accuracy: 0.9097\n",
            "Epoch 270/300\n",
            "422/422 [==============================] - 3s 7ms/step - loss: 0.1839 - sparse_categorical_accuracy: 0.9291 - val_loss: 0.2754 - val_sparse_categorical_accuracy: 0.9098\n",
            "Epoch 271/300\n",
            "422/422 [==============================] - 4s 9ms/step - loss: 0.1839 - sparse_categorical_accuracy: 0.9293 - val_loss: 0.2785 - val_sparse_categorical_accuracy: 0.9115\n",
            "Epoch 272/300\n",
            "422/422 [==============================] - 3s 8ms/step - loss: 0.1832 - sparse_categorical_accuracy: 0.9283 - val_loss: 0.2741 - val_sparse_categorical_accuracy: 0.9092\n",
            "Epoch 273/300\n",
            "422/422 [==============================] - 3s 7ms/step - loss: 0.1829 - sparse_categorical_accuracy: 0.9290 - val_loss: 0.2778 - val_sparse_categorical_accuracy: 0.9070\n",
            "Epoch 274/300\n",
            "422/422 [==============================] - 3s 8ms/step - loss: 0.1840 - sparse_categorical_accuracy: 0.9289 - val_loss: 0.2769 - val_sparse_categorical_accuracy: 0.9108\n",
            "Epoch 275/300\n",
            "422/422 [==============================] - 3s 8ms/step - loss: 0.1841 - sparse_categorical_accuracy: 0.9292 - val_loss: 0.2781 - val_sparse_categorical_accuracy: 0.9127\n",
            "Epoch 276/300\n",
            "422/422 [==============================] - 3s 7ms/step - loss: 0.1825 - sparse_categorical_accuracy: 0.9297 - val_loss: 0.2760 - val_sparse_categorical_accuracy: 0.9103\n",
            "Epoch 277/300\n",
            "422/422 [==============================] - 3s 8ms/step - loss: 0.1809 - sparse_categorical_accuracy: 0.9298 - val_loss: 0.2831 - val_sparse_categorical_accuracy: 0.9085\n",
            "Epoch 278/300\n",
            "422/422 [==============================] - 3s 8ms/step - loss: 0.1854 - sparse_categorical_accuracy: 0.9282 - val_loss: 0.2812 - val_sparse_categorical_accuracy: 0.9063\n",
            "Epoch 279/300\n",
            "422/422 [==============================] - 3s 8ms/step - loss: 0.1839 - sparse_categorical_accuracy: 0.9289 - val_loss: 0.2809 - val_sparse_categorical_accuracy: 0.9083\n",
            "Epoch 280/300\n",
            "422/422 [==============================] - 3s 7ms/step - loss: 0.1845 - sparse_categorical_accuracy: 0.9283 - val_loss: 0.2792 - val_sparse_categorical_accuracy: 0.9077\n",
            "Epoch 281/300\n",
            "422/422 [==============================] - 3s 7ms/step - loss: 0.1828 - sparse_categorical_accuracy: 0.9292 - val_loss: 0.2769 - val_sparse_categorical_accuracy: 0.9108\n",
            "Epoch 282/300\n",
            "422/422 [==============================] - 4s 9ms/step - loss: 0.1842 - sparse_categorical_accuracy: 0.9290 - val_loss: 0.2857 - val_sparse_categorical_accuracy: 0.9080\n",
            "Epoch 283/300\n",
            "422/422 [==============================] - 3s 7ms/step - loss: 0.1868 - sparse_categorical_accuracy: 0.9284 - val_loss: 0.2757 - val_sparse_categorical_accuracy: 0.9107\n",
            "Epoch 284/300\n",
            "422/422 [==============================] - 3s 8ms/step - loss: 0.1833 - sparse_categorical_accuracy: 0.9288 - val_loss: 0.2779 - val_sparse_categorical_accuracy: 0.9120\n",
            "Epoch 285/300\n",
            "422/422 [==============================] - 3s 8ms/step - loss: 0.1824 - sparse_categorical_accuracy: 0.9299 - val_loss: 0.2807 - val_sparse_categorical_accuracy: 0.9097\n",
            "Epoch 286/300\n",
            "422/422 [==============================] - 4s 8ms/step - loss: 0.1856 - sparse_categorical_accuracy: 0.9274 - val_loss: 0.2812 - val_sparse_categorical_accuracy: 0.9098\n",
            "Epoch 287/300\n",
            "422/422 [==============================] - 3s 8ms/step - loss: 0.1829 - sparse_categorical_accuracy: 0.9278 - val_loss: 0.2778 - val_sparse_categorical_accuracy: 0.9088\n",
            "Epoch 288/300\n",
            "422/422 [==============================] - 3s 7ms/step - loss: 0.1865 - sparse_categorical_accuracy: 0.9280 - val_loss: 0.2824 - val_sparse_categorical_accuracy: 0.9083\n",
            "Epoch 289/300\n",
            "422/422 [==============================] - 3s 7ms/step - loss: 0.1817 - sparse_categorical_accuracy: 0.9303 - val_loss: 0.2822 - val_sparse_categorical_accuracy: 0.9092\n",
            "Epoch 290/300\n",
            "422/422 [==============================] - 4s 9ms/step - loss: 0.1826 - sparse_categorical_accuracy: 0.9303 - val_loss: 0.2830 - val_sparse_categorical_accuracy: 0.9083\n",
            "Epoch 291/300\n",
            "422/422 [==============================] - 3s 7ms/step - loss: 0.1832 - sparse_categorical_accuracy: 0.9289 - val_loss: 0.2841 - val_sparse_categorical_accuracy: 0.9083\n",
            "Epoch 292/300\n",
            "422/422 [==============================] - 3s 7ms/step - loss: 0.1839 - sparse_categorical_accuracy: 0.9295 - val_loss: 0.2822 - val_sparse_categorical_accuracy: 0.9098\n",
            "Epoch 293/300\n",
            "422/422 [==============================] - 3s 7ms/step - loss: 0.1808 - sparse_categorical_accuracy: 0.9299 - val_loss: 0.2826 - val_sparse_categorical_accuracy: 0.9090\n",
            "Epoch 294/300\n",
            "422/422 [==============================] - 3s 8ms/step - loss: 0.1842 - sparse_categorical_accuracy: 0.9284 - val_loss: 0.2841 - val_sparse_categorical_accuracy: 0.9108\n",
            "Epoch 295/300\n",
            "422/422 [==============================] - 3s 7ms/step - loss: 0.1805 - sparse_categorical_accuracy: 0.9300 - val_loss: 0.2802 - val_sparse_categorical_accuracy: 0.9108\n",
            "Epoch 296/300\n",
            "422/422 [==============================] - 3s 7ms/step - loss: 0.1809 - sparse_categorical_accuracy: 0.9308 - val_loss: 0.2802 - val_sparse_categorical_accuracy: 0.9092\n",
            "Epoch 297/300\n",
            "422/422 [==============================] - 3s 8ms/step - loss: 0.1803 - sparse_categorical_accuracy: 0.9294 - val_loss: 0.2882 - val_sparse_categorical_accuracy: 0.9075\n",
            "Epoch 298/300\n",
            "422/422 [==============================] - 3s 8ms/step - loss: 0.1804 - sparse_categorical_accuracy: 0.9303 - val_loss: 0.2846 - val_sparse_categorical_accuracy: 0.9088\n",
            "Epoch 299/300\n",
            "422/422 [==============================] - 3s 7ms/step - loss: 0.1816 - sparse_categorical_accuracy: 0.9292 - val_loss: 0.2879 - val_sparse_categorical_accuracy: 0.9098\n",
            "Epoch 300/300\n",
            "422/422 [==============================] - 3s 7ms/step - loss: 0.1825 - sparse_categorical_accuracy: 0.9298 - val_loss: 0.2877 - val_sparse_categorical_accuracy: 0.9063\n",
            "313/313 [==============================] - 1s 3ms/step - loss: 0.3048 - sparse_categorical_accuracy: 0.9022\n",
            "\n",
            "Test accuracy: 0.9021999835968018\n"
          ]
        }
      ]
    },
    {
      "cell_type": "code",
      "source": [
        "print('\\nhistory dict:', list(history.history.keys()))"
      ],
      "metadata": {
        "id": "CxRE-B_Q6Sii",
        "colab": {
          "base_uri": "https://localhost:8080/"
        },
        "outputId": "a3fdddff-bf54-428c-c1b6-ea2aa92f062e"
      },
      "execution_count": 64,
      "outputs": [
        {
          "output_type": "stream",
          "name": "stdout",
          "text": [
            "\n",
            "history dict: ['loss', 'sparse_categorical_accuracy', 'val_loss', 'val_sparse_categorical_accuracy']\n"
          ]
        }
      ]
    },
    {
      "cell_type": "code",
      "source": [
        "result = model.evaluate(x_test, y_test)\n",
        "print(result)"
      ],
      "metadata": {
        "id": "YXpwRRTvTBNg",
        "colab": {
          "base_uri": "https://localhost:8080/"
        },
        "outputId": "b580935d-b64b-44ef-f0bf-1995bd9505ed"
      },
      "execution_count": 65,
      "outputs": [
        {
          "output_type": "stream",
          "name": "stdout",
          "text": [
            "313/313 [==============================] - 1s 3ms/step - loss: 0.3048 - sparse_categorical_accuracy: 0.9022\n",
            "[0.3047731816768646, 0.9021999835968018]\n"
          ]
        }
      ]
    },
    {
      "cell_type": "code",
      "source": [
        "saved_model = load_model('best_model.h5')\n",
        "result = saved_model.evaluate(x_test, y_test)\n",
        "print(result)"
      ],
      "metadata": {
        "colab": {
          "base_uri": "https://localhost:8080/"
        },
        "id": "dpaZAW0vp1AZ",
        "outputId": "c4fbe089-f2ff-4bfa-f86f-9146c9261804"
      },
      "execution_count": 66,
      "outputs": [
        {
          "output_type": "stream",
          "name": "stdout",
          "text": [
            "313/313 [==============================] - 1s 4ms/step - loss: 0.3041 - sparse_categorical_accuracy: 0.9032\n",
            "[0.3040904402732849, 0.9031999707221985]\n"
          ]
        }
      ]
    },
    {
      "cell_type": "code",
      "source": [
        "# from keras.models import load_model\n",
        "# saved_model = load_model('best_model.h5')\n",
        "# # _, train_acc = saved_model.evaluate(x_train, y_train, verbose=0)\n",
        "# _, test_acc = saved_model.evaluate(x_test, y_test, verbose=0)\n",
        "# print('Test: %.3f' % (test_acc))"
      ],
      "metadata": {
        "id": "DR_MS9DABo_K"
      },
      "execution_count": 67,
      "outputs": []
    },
    {
      "cell_type": "code",
      "source": [
        "history_dict = history.history\n",
        "loss_values = history_dict['loss']\n",
        "val_loss_values = history_dict['val_loss']\n",
        "\n",
        "epochs = range(1, len(history_dict['loss']) + 1)\n",
        "\n",
        "plt.figure(figsize=(10, 5))\n",
        "plt.plot(epochs, loss_values, 'bo', label='Training loss')\n",
        "plt.plot(epochs, val_loss_values, 'r', label='Validation loss')\n",
        "plt.ylim (0.2, 0.5)\n",
        "plt.title('Training and validation loss')\n",
        "plt.xlabel('Epochs')\n",
        "plt.ylabel('Loss')\n",
        "# plt.legend()\n",
        "plt.grid(True)\n",
        "plt.show()\n",
        "1\n",
        "plt.clf()\n",
        "plt.figure(figsize=(10, 5))\n",
        "val_acc_values = history_dict['sparse_categorical_accuracy']\n",
        "plt.plot(epochs, history_dict['sparse_categorical_accuracy'], 'bo', label='Training acc')\n",
        "plt.plot(epochs, history_dict['val_sparse_categorical_accuracy'], 'r', label='Validation acc')\n",
        "plt.ylim (0.88, 0.94)\n",
        "plt.title('Training and validation accuracy')\n",
        "plt.xlabel('Epochs')\n",
        "plt.ylabel('Accuracy')\n",
        "plt.legend()\n",
        "plt.grid(True)"
      ],
      "metadata": {
        "id": "2Ll_5sGlXKMH",
        "colab": {
          "base_uri": "https://localhost:8080/",
          "height": 975
        },
        "outputId": "18a2f7b4-045d-4e7a-cc8a-2d8ba5eb2f68"
      },
      "execution_count": 68,
      "outputs": [
        {
          "output_type": "display_data",
          "data": {
            "text/plain": [
              "<Figure size 1000x500 with 1 Axes>"
            ],
            "image/png": "[encoded data removed]"
          },
          "metadata": {}
        },
        {
          "output_type": "display_data",
          "data": {
            "text/plain": [
              "<Figure size 640x480 with 0 Axes>"
            ]
          },
          "metadata": {}
        },
        {
          "output_type": "display_data",
          "data": {
            "text/plain": [
              "<Figure size 1000x500 with 1 Axes>"
            ],
            "image/png": "[encoded data removed]"
          },
          "metadata": {}
        }
      ]
    },
    {
      "cell_type": "code",
      "source": [
        "probability_model = tf.keras.Sequential([model,\n",
        "                                         tf.keras.layers.Softmax()])"
      ],
      "metadata": {
        "id": "VzOdKAT_uV-f"
      },
      "execution_count": 69,
      "outputs": []
    },
    {
      "cell_type": "code",
      "source": [
        "predictions = probability_model.predict(x_test)"
      ],
      "metadata": {
        "id": "f4is3NFruYom",
        "colab": {
          "base_uri": "https://localhost:8080/"
        },
        "outputId": "8505cacd-572b-4d1b-b8b6-87a355234d58"
      },
      "execution_count": 70,
      "outputs": [
        {
          "output_type": "stream",
          "name": "stdout",
          "text": [
            "313/313 [==============================] - 1s 2ms/step\n"
          ]
        }
      ]
    },
    {
      "cell_type": "code",
      "source": [
        "predictions[0]"
      ],
      "metadata": {
        "id": "82cigvlZudz_",
        "colab": {
          "base_uri": "https://localhost:8080/"
        },
        "outputId": "097a8823-60a5-4215-99d4-63d090902c8d"
      },
      "execution_count": 71,
      "outputs": [
        {
          "output_type": "execute_result",
          "data": {
            "text/plain": [
              "array([0.08533715, 0.08533715, 0.08533715, 0.08533715, 0.08533715,\n",
              "       0.08533737, 0.08533715, 0.08533965, 0.08533715, 0.23196301],\n",
              "      dtype=float32)"
            ]
          },
          "metadata": {},
          "execution_count": 71
        }
      ]
    },
    {
      "cell_type": "code",
      "source": [
        "model.summary()"
      ],
      "metadata": {
        "id": "6RsQPHyYuNGe",
        "colab": {
          "base_uri": "https://localhost:8080/"
        },
        "outputId": "dadb4103-11e1-463d-986e-987829ce08de"
      },
      "execution_count": 72,
      "outputs": [
        {
          "output_type": "stream",
          "name": "stdout",
          "text": [
            "Model: \"sequential_4\"\n",
            "_________________________________________________________________\n",
            " Layer (type)                Output Shape              Param #   \n",
            "=================================================================\n",
            " flatten_2 (Flatten)         (None, 784)               0         \n",
            "                                                                 \n",
            " dropout_8 (Dropout)         (None, 784)               0         \n",
            "                                                                 \n",
            " batch_normalization_6 (Bat  (None, 784)               3136      \n",
            " chNormalization)                                                \n",
            "                                                                 \n",
            " dense_8 (Dense)             (None, 256)               200960    \n",
            "                                                                 \n",
            " dropout_9 (Dropout)         (None, 256)               0         \n",
            "                                                                 \n",
            " batch_normalization_7 (Bat  (None, 256)               1024      \n",
            " chNormalization)                                                \n",
            "                                                                 \n",
            " dense_9 (Dense)             (None, 512)               131584    \n",
            "                                                                 \n",
            " dropout_10 (Dropout)        (None, 512)               0         \n",
            "                                                                 \n",
            " batch_normalization_8 (Bat  (None, 512)               2048      \n",
            " chNormalization)                                                \n",
            "                                                                 \n",
            " dense_10 (Dense)            (None, 512)               262656    \n",
            "                                                                 \n",
            " dropout_11 (Dropout)        (None, 512)               0         \n",
            "                                                                 \n",
            " dense_11 (Dense)            (None, 10)                5130      \n",
            "                                                                 \n",
            "=================================================================\n",
            "Total params: 606538 (2.31 MB)\n",
            "Trainable params: 603434 (2.30 MB)\n",
            "Non-trainable params: 3104 (12.12 KB)\n",
            "_________________________________________________________________\n"
          ]
        }
      ]
    }
  ]
}