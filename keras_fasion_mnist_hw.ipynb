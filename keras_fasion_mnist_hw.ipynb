{
  "nbformat": 4,
  "nbformat_minor": 0,
  "metadata": {
    "colab": {
      "provenance": [],
      "gpuType": "T4",
      "authorship_tag": "ABX9TyPU0q6UqJefU+gVq+17Q2lQ",
      "include_colab_link": true
    },
    "kernelspec": {
      "name": "python3",
      "display_name": "Python 3"
    },
    "language_info": {
      "name": "python"
    },
    "accelerator": "GPU"
  },
  "cells": [
    {
      "cell_type": "markdown",
      "metadata": {
        "id": "view-in-github",
        "colab_type": "text"
      },
      "source": [
        "<a href=\"https://colab.research.google.com/github/PavelStelmakhV/hw310-keras-fasion-mnist/blob/main/keras_fasion_mnist_hw.ipynb\" target=\"_parent\"><img src=\"https://colab.research.google.com/assets/colab-badge.svg\" alt=\"Open In Colab\"/></a>"
      ]
    },
    {
      "cell_type": "code",
      "source": [
        "import tensorflow as tf\n",
        "from tensorflow.python.client import device_lib\n",
        "print(device_lib.list_local_devices())"
      ],
      "metadata": {
        "colab": {
          "base_uri": "https://localhost:8080/"
        },
        "id": "CQL6wYJUms6Y",
        "outputId": "82f82da6-ac06-48e0-bf75-3bdb490b6ed8"
      },
      "execution_count": 49,
      "outputs": [
        {
          "output_type": "stream",
          "name": "stdout",
          "text": [
            "[name: \"/device:CPU:0\"\n",
            "device_type: \"CPU\"\n",
            "memory_limit: 268435456\n",
            "locality {\n",
            "}\n",
            "incarnation: 10490592271580688719\n",
            "xla_global_id: -1\n",
            "]\n"
          ]
        }
      ]
    },
    {
      "cell_type": "code",
      "execution_count": 50,
      "metadata": {
        "id": "vv7w0bgAVQPO"
      },
      "outputs": [],
      "source": [
        "import tensorflow as tf\n",
        "import numpy as np\n",
        "import matplotlib.pyplot as plt\n",
        "import tf_keras\n",
        "\n",
        "from keras import layers\n",
        "from keras import models\n",
        "from keras import regularizers\n",
        "from keras import callbacks\n",
        "from keras import initializers\n",
        "from keras.layers import BatchNormalization\n",
        "from keras.models import load_model\n",
        "from tensorflow.keras.utils import to_categorical"
      ]
    },
    {
      "cell_type": "code",
      "source": [
        "num_classes = 10"
      ],
      "metadata": {
        "id": "RvT1uYJsa5cn"
      },
      "execution_count": 51,
      "outputs": []
    },
    {
      "cell_type": "code",
      "source": [
        "fashion_mnist = tf.keras.datasets.fashion_mnist\n",
        "\n",
        "(x_train, y_train), (x_test, y_test) = fashion_mnist.load_data()"
      ],
      "metadata": {
        "id": "mOpywsNAzfGB"
      },
      "execution_count": 52,
      "outputs": []
    },
    {
      "cell_type": "code",
      "source": [
        "def drow_hist(data):\n",
        "  plt.figure(figsize=(8,6), dpi= 80)\n",
        "  _ = plt.hist(data,\n",
        "              bins=num_classes,\n",
        "              stacked=True,\n",
        "              density=False,\n",
        "              range=(0,10),\n",
        "              rwidth=0.9,\n",
        "              )"
      ],
      "metadata": {
        "id": "NjEvuOvomEoT"
      },
      "execution_count": 53,
      "outputs": []
    },
    {
      "cell_type": "code",
      "source": [
        "# create validation data\n",
        "val_size =6000\n",
        "\n",
        "x_val = x_train[-val_size:, :, :]\n",
        "x_train = x_train[:-val_size, :, :]\n",
        "\n",
        "y_val = y_train[-val_size:]\n",
        "y_train = y_train[:-val_size]"
      ],
      "metadata": {
        "id": "jAs92sDoVU89"
      },
      "execution_count": 54,
      "outputs": []
    },
    {
      "cell_type": "code",
      "source": [
        "x_train = x_train.astype('float32') / 255\n",
        "x_test = x_test.astype('float32') / 255\n",
        "x_val = x_val.astype('float32') / 255\n",
        "\n",
        "y_train = to_categorical(y_train)\n",
        "y_test = to_categorical(y_test)\n",
        "y_val = to_categorical(y_val)"
      ],
      "metadata": {
        "id": "t2gucjsJ0KUi"
      },
      "execution_count": 55,
      "outputs": []
    },
    {
      "cell_type": "code",
      "source": [
        "w_init_tanh = initializers.glorot_normal(seed=111)\n",
        "w_init_relu = initializers.HeNormal(seed=66)\n",
        "# w_init_relu = initializers.HeUniform(seed=24)\n",
        "b_init = initializers.Zeros()"
      ],
      "metadata": {
        "id": "yL9QTEtBGy4N"
      },
      "execution_count": 56,
      "outputs": []
    },
    {
      "cell_type": "code",
      "source": [
        "def layer_relu(model, neurons, drop_out):\n",
        "  l1 = 1e-8\n",
        "  l2 = 1e-8\n",
        "  model.add(BatchNormalization())\n",
        "  model.add(layers.Dense(neurons,\n",
        "                        activation='relu',\n",
        "                        kernel_initializer=w_init_relu,\n",
        "                        bias_initializer=b_init,\n",
        "                        kernel_regularizer=regularizers.L1L2(l1=l1, l2=l2),\n",
        "                        bias_regularizer=regularizers.L1L2(l1=l1, l2=l2),\n",
        "                        activity_regularizer=regularizers.L1L2(l1=l1, l2=l2)\n",
        "                         )\n",
        "  )\n",
        "  model.add(layers.Dropout(drop_out))\n",
        "  print(drop_out)\n",
        "  return model"
      ],
      "metadata": {
        "id": "ZZgs_25rKBCp"
      },
      "execution_count": 57,
      "outputs": []
    },
    {
      "cell_type": "code",
      "source": [
        "def layer_tanh(model, neurons, drop_out):\n",
        "  model.add(BatchNormalization())\n",
        "  model.add(layers.Dense(neurons,\n",
        "                        activation='tanh',\n",
        "                        kernel_initializer=w_init_tanh,\n",
        "                        bias_initializer=b_init\n",
        "                         )\n",
        "  )\n",
        "  model.add(layers.Dropout(drop_out))\n",
        "  return model"
      ],
      "metadata": {
        "id": "90JLLnkBR50t"
      },
      "execution_count": 58,
      "outputs": []
    },
    {
      "cell_type": "code",
      "source": [
        "model = models.Sequential()\n",
        "\n",
        "neurons = 256\n",
        "drop_out = 0.28\n",
        "\n",
        "model.add(layers.Flatten(input_shape=(28, 28)))\n",
        "model.add(layers.Dropout(0.2))\n",
        "\n",
        "model = layer_relu(model, neurons*1, drop_out)\n",
        "model = layer_relu(model, neurons*2, drop_out)\n",
        "model = layer_relu(model, neurons*2, drop_out)\n",
        "# model = layer_relu(model, neurons*2)\n",
        "\n",
        "\n",
        "model.add(layers.Dense(10, activation='softmax'))"
      ],
      "metadata": {
        "id": "atS39i4d0aqW",
        "colab": {
          "base_uri": "https://localhost:8080/"
        },
        "outputId": "7e0a9651-d7e4-49b0-8459-28449e5167b6"
      },
      "execution_count": 59,
      "outputs": [
        {
          "output_type": "stream",
          "name": "stdout",
          "text": [
            "0.35\n",
            "0.35\n",
            "0.35\n"
          ]
        }
      ]
    },
    {
      "cell_type": "markdown",
      "source": [
        "++++++++++++++++++++++++++++++++++++++++++++++++++++++++++++++++++++++++++++++++"
      ],
      "metadata": {
        "id": "tZO7hl7pM63y"
      }
    },
    {
      "cell_type": "code",
      "source": [
        "optimizer = tf.keras.optimizers.Nadam(learning_rate=0.0004,\n",
        "                                      beta_1=0.9,\n",
        "                                      beta_2=0.999,\n",
        "                                      epsilon=1e-06\n",
        ")\n",
        "# optimizer = tf.keras.optimizers.experimental.RMSprop(learning_rate=0.0005,\n",
        "#                                                     rho=0.5,\n",
        "#                                                     momentum=-16,\n",
        "#                                                     epsilon=1e-07,\n",
        "#                                                     centered=False,\n",
        "#                                                     weight_decay=None,\n",
        "#                                                     clipnorm=None,\n",
        "#                                                     clipvalue=None,\n",
        "#                                                     global_clipnorm=None,\n",
        "#                                                     use_ema=False,\n",
        "#                                                     ema_momentum=0.99,\n",
        "#                                                     ema_overwrite_frequency=100,\n",
        "#                                                     jit_compile=True,\n",
        "#                                                     name='RMSprop',\n",
        "# )"
      ],
      "metadata": {
        "id": "EzfnaqIZlfy8"
      },
      "execution_count": 60,
      "outputs": []
    },
    {
      "cell_type": "markdown",
      "source": [
        "++++++++++++++++++++++++++++++++++++++++++++++++++++++++++++++++++++++++++++++++"
      ],
      "metadata": {
        "id": "KHmBptvOM95Z"
      }
    },
    {
      "cell_type": "code",
      "source": [
        "model.compile(#optimizer='adam',\n",
        "              # optimizer='adamax',\n",
        "              optimizer=optimizer,\n",
        "              # optimizer='rmsprop',\n",
        "              # optimizer='sgd',\n",
        "              # optimizer='adadelta',\n",
        "              # loss='binary_crossentropy',\n",
        "              loss=tf.keras.losses.CategoricalCrossentropy(),\n",
        "              metrics=['categorical_accuracy']) # sparse_categorical_accuracy"
      ],
      "metadata": {
        "id": "hENVaAC7ilNY"
      },
      "execution_count": 61,
      "outputs": []
    },
    {
      "cell_type": "code",
      "source": [
        "# callback = callbacks.EarlyStopping(monitor='val_loss',\n",
        "#                                    patience=15,\n",
        "#                                    restore_best_weights=True,\n",
        "#                                    )\n",
        "es = callbacks.EarlyStopping(monitor='val_loss', mode='min', verbose=0, patience=60)\n",
        "mc = callbacks.ModelCheckpoint('best_model.h5', monitor='categorical_accuracy', mode='max', verbose=0, save_best_only=True)\n"
      ],
      "metadata": {
        "id": "5ihU4exVlsjm"
      },
      "execution_count": 62,
      "outputs": []
    },
    {
      "cell_type": "code",
      "source": [
        "history = model.fit(x_train, y_train,\n",
        "                    epochs=300,\n",
        "                    batch_size=128,\n",
        "                    # callbacks=[callback],\n",
        "                    callbacks=[mc, es],\n",
        "                    verbose=1, #многословие\n",
        "                    # validation_split=0.2\n",
        "                    validation_data=(x_val, y_val)\n",
        "                    )\n",
        "test_loss, test_acc = model.evaluate(x_test, y_test)\n",
        "print('\\nTest accuracy:', test_acc)"
      ],
      "metadata": {
        "id": "FH8HcMNm233I",
        "outputId": "bcbcf5ed-4fd1-4500-b2e7-2e70b294d419",
        "colab": {
          "base_uri": "https://localhost:8080/"
        }
      },
      "execution_count": 63,
      "outputs": [
        {
          "output_type": "stream",
          "name": "stdout",
          "text": [
            "Epoch 1/300\n",
            "422/422 [==============================] - 29s 59ms/step - loss: 0.8880 - categorical_accuracy: 0.6968 - val_loss: 0.4688 - val_categorical_accuracy: 0.8245\n",
            "Epoch 2/300\n",
            "422/422 [==============================] - 17s 41ms/step - loss: 0.5756 - categorical_accuracy: 0.7948 - val_loss: 0.4055 - val_categorical_accuracy: 0.8442\n",
            "Epoch 3/300\n",
            "422/422 [==============================] - 14s 33ms/step - loss: 0.5131 - categorical_accuracy: 0.8129 - val_loss: 0.3893 - val_categorical_accuracy: 0.8503\n",
            "Epoch 4/300\n",
            "422/422 [==============================] - 14s 33ms/step - loss: 0.4713 - categorical_accuracy: 0.8269 - val_loss: 0.3693 - val_categorical_accuracy: 0.8642\n",
            "Epoch 5/300\n",
            "422/422 [==============================] - 14s 32ms/step - loss: 0.4454 - categorical_accuracy: 0.8381 - val_loss: 0.3631 - val_categorical_accuracy: 0.8615\n",
            "Epoch 6/300\n",
            "422/422 [==============================] - 14s 33ms/step - loss: 0.4233 - categorical_accuracy: 0.8447 - val_loss: 0.3503 - val_categorical_accuracy: 0.8692\n",
            "Epoch 7/300\n",
            "422/422 [==============================] - 13s 32ms/step - loss: 0.4095 - categorical_accuracy: 0.8490 - val_loss: 0.3540 - val_categorical_accuracy: 0.8703\n",
            "Epoch 8/300\n",
            "422/422 [==============================] - 14s 33ms/step - loss: 0.3934 - categorical_accuracy: 0.8542 - val_loss: 0.3309 - val_categorical_accuracy: 0.8763\n",
            "Epoch 9/300\n",
            "422/422 [==============================] - 15s 35ms/step - loss: 0.3826 - categorical_accuracy: 0.8573 - val_loss: 0.3367 - val_categorical_accuracy: 0.8728\n",
            "Epoch 10/300\n",
            "422/422 [==============================] - 15s 36ms/step - loss: 0.3746 - categorical_accuracy: 0.8612 - val_loss: 0.3301 - val_categorical_accuracy: 0.8788\n",
            "Epoch 11/300\n",
            "422/422 [==============================] - 14s 32ms/step - loss: 0.3624 - categorical_accuracy: 0.8657 - val_loss: 0.3176 - val_categorical_accuracy: 0.8807\n",
            "Epoch 12/300\n",
            "422/422 [==============================] - 14s 32ms/step - loss: 0.3583 - categorical_accuracy: 0.8665 - val_loss: 0.3109 - val_categorical_accuracy: 0.8837\n",
            "Epoch 13/300\n",
            "422/422 [==============================] - 14s 33ms/step - loss: 0.3489 - categorical_accuracy: 0.8708 - val_loss: 0.3036 - val_categorical_accuracy: 0.8897\n",
            "Epoch 14/300\n",
            "422/422 [==============================] - 13s 32ms/step - loss: 0.3457 - categorical_accuracy: 0.8717 - val_loss: 0.3126 - val_categorical_accuracy: 0.8857\n",
            "Epoch 15/300\n",
            "422/422 [==============================] - 13s 31ms/step - loss: 0.3417 - categorical_accuracy: 0.8727 - val_loss: 0.3079 - val_categorical_accuracy: 0.8870\n",
            "Epoch 16/300\n",
            "422/422 [==============================] - 13s 31ms/step - loss: 0.3337 - categorical_accuracy: 0.8754 - val_loss: 0.3060 - val_categorical_accuracy: 0.8852\n",
            "Epoch 17/300\n",
            "422/422 [==============================] - 13s 32ms/step - loss: 0.3291 - categorical_accuracy: 0.8762 - val_loss: 0.2960 - val_categorical_accuracy: 0.8898\n",
            "Epoch 18/300\n",
            "422/422 [==============================] - 13s 32ms/step - loss: 0.3203 - categorical_accuracy: 0.8793 - val_loss: 0.2974 - val_categorical_accuracy: 0.8922\n",
            "Epoch 19/300\n",
            "422/422 [==============================] - 14s 32ms/step - loss: 0.3169 - categorical_accuracy: 0.8816 - val_loss: 0.2884 - val_categorical_accuracy: 0.8945\n",
            "Epoch 20/300\n",
            "422/422 [==============================] - 14s 32ms/step - loss: 0.3159 - categorical_accuracy: 0.8813 - val_loss: 0.2970 - val_categorical_accuracy: 0.8905\n",
            "Epoch 21/300\n",
            "422/422 [==============================] - 14s 33ms/step - loss: 0.3117 - categorical_accuracy: 0.8854 - val_loss: 0.2917 - val_categorical_accuracy: 0.8938\n",
            "Epoch 22/300\n",
            "422/422 [==============================] - 13s 31ms/step - loss: 0.3077 - categorical_accuracy: 0.8841 - val_loss: 0.2947 - val_categorical_accuracy: 0.8918\n",
            "Epoch 23/300\n",
            "422/422 [==============================] - 14s 33ms/step - loss: 0.3070 - categorical_accuracy: 0.8846 - val_loss: 0.2946 - val_categorical_accuracy: 0.8920\n",
            "Epoch 24/300\n",
            "422/422 [==============================] - 13s 32ms/step - loss: 0.3005 - categorical_accuracy: 0.8876 - val_loss: 0.2882 - val_categorical_accuracy: 0.8935\n",
            "Epoch 25/300\n",
            "422/422 [==============================] - 14s 33ms/step - loss: 0.2986 - categorical_accuracy: 0.8877 - val_loss: 0.2842 - val_categorical_accuracy: 0.8935\n",
            "Epoch 26/300\n",
            "422/422 [==============================] - 14s 32ms/step - loss: 0.2956 - categorical_accuracy: 0.8894 - val_loss: 0.2911 - val_categorical_accuracy: 0.8952\n",
            "Epoch 27/300\n",
            "422/422 [==============================] - 14s 33ms/step - loss: 0.2935 - categorical_accuracy: 0.8901 - val_loss: 0.2864 - val_categorical_accuracy: 0.8965\n",
            "Epoch 28/300\n",
            "422/422 [==============================] - 14s 34ms/step - loss: 0.2929 - categorical_accuracy: 0.8905 - val_loss: 0.2864 - val_categorical_accuracy: 0.8970\n",
            "Epoch 29/300\n",
            "422/422 [==============================] - 15s 35ms/step - loss: 0.2870 - categorical_accuracy: 0.8913 - val_loss: 0.2880 - val_categorical_accuracy: 0.8953\n",
            "Epoch 30/300\n",
            "422/422 [==============================] - 14s 34ms/step - loss: 0.2854 - categorical_accuracy: 0.8920 - val_loss: 0.2841 - val_categorical_accuracy: 0.8975\n",
            "Epoch 31/300\n",
            "422/422 [==============================] - 14s 34ms/step - loss: 0.2822 - categorical_accuracy: 0.8939 - val_loss: 0.2838 - val_categorical_accuracy: 0.8978\n",
            "Epoch 32/300\n",
            "422/422 [==============================] - 15s 35ms/step - loss: 0.2808 - categorical_accuracy: 0.8929 - val_loss: 0.2835 - val_categorical_accuracy: 0.8993\n",
            "Epoch 33/300\n",
            "422/422 [==============================] - 14s 33ms/step - loss: 0.2831 - categorical_accuracy: 0.8944 - val_loss: 0.2868 - val_categorical_accuracy: 0.8962\n",
            "Epoch 34/300\n",
            "422/422 [==============================] - 14s 34ms/step - loss: 0.2798 - categorical_accuracy: 0.8947 - val_loss: 0.2803 - val_categorical_accuracy: 0.8968\n",
            "Epoch 35/300\n",
            "422/422 [==============================] - 14s 34ms/step - loss: 0.2753 - categorical_accuracy: 0.8972 - val_loss: 0.2828 - val_categorical_accuracy: 0.8993\n",
            "Epoch 36/300\n",
            "422/422 [==============================] - 14s 34ms/step - loss: 0.2717 - categorical_accuracy: 0.8970 - val_loss: 0.2821 - val_categorical_accuracy: 0.8973\n",
            "Epoch 37/300\n",
            "422/422 [==============================] - 14s 34ms/step - loss: 0.2716 - categorical_accuracy: 0.8973 - val_loss: 0.2868 - val_categorical_accuracy: 0.8932\n",
            "Epoch 38/300\n",
            "422/422 [==============================] - 14s 34ms/step - loss: 0.2691 - categorical_accuracy: 0.8981 - val_loss: 0.2803 - val_categorical_accuracy: 0.8965\n",
            "Epoch 39/300\n",
            "422/422 [==============================] - 15s 34ms/step - loss: 0.2675 - categorical_accuracy: 0.8991 - val_loss: 0.2859 - val_categorical_accuracy: 0.8992\n",
            "Epoch 40/300\n",
            "422/422 [==============================] - 15s 35ms/step - loss: 0.2642 - categorical_accuracy: 0.9015 - val_loss: 0.2832 - val_categorical_accuracy: 0.9003\n",
            "Epoch 41/300\n",
            "422/422 [==============================] - 15s 35ms/step - loss: 0.2656 - categorical_accuracy: 0.8997 - val_loss: 0.2805 - val_categorical_accuracy: 0.8987\n",
            "Epoch 42/300\n",
            "422/422 [==============================] - 14s 33ms/step - loss: 0.2614 - categorical_accuracy: 0.9021 - val_loss: 0.2884 - val_categorical_accuracy: 0.8988\n",
            "Epoch 43/300\n",
            "422/422 [==============================] - 14s 34ms/step - loss: 0.2591 - categorical_accuracy: 0.9004 - val_loss: 0.2822 - val_categorical_accuracy: 0.9012\n",
            "Epoch 44/300\n",
            "422/422 [==============================] - 14s 34ms/step - loss: 0.2606 - categorical_accuracy: 0.9030 - val_loss: 0.2809 - val_categorical_accuracy: 0.8995\n",
            "Epoch 45/300\n",
            "422/422 [==============================] - 14s 34ms/step - loss: 0.2559 - categorical_accuracy: 0.9031 - val_loss: 0.2762 - val_categorical_accuracy: 0.9023\n",
            "Epoch 46/300\n",
            "422/422 [==============================] - 14s 34ms/step - loss: 0.2560 - categorical_accuracy: 0.9028 - val_loss: 0.2798 - val_categorical_accuracy: 0.9008\n",
            "Epoch 47/300\n",
            "422/422 [==============================] - 14s 33ms/step - loss: 0.2551 - categorical_accuracy: 0.9019 - val_loss: 0.2793 - val_categorical_accuracy: 0.8990\n",
            "Epoch 48/300\n",
            "422/422 [==============================] - 14s 34ms/step - loss: 0.2565 - categorical_accuracy: 0.9021 - val_loss: 0.2762 - val_categorical_accuracy: 0.8978\n",
            "Epoch 49/300\n",
            "422/422 [==============================] - 14s 34ms/step - loss: 0.2559 - categorical_accuracy: 0.9036 - val_loss: 0.2790 - val_categorical_accuracy: 0.8992\n",
            "Epoch 50/300\n",
            "422/422 [==============================] - 14s 34ms/step - loss: 0.2504 - categorical_accuracy: 0.9045 - val_loss: 0.2824 - val_categorical_accuracy: 0.8988\n",
            "Epoch 51/300\n",
            "422/422 [==============================] - 15s 35ms/step - loss: 0.2480 - categorical_accuracy: 0.9060 - val_loss: 0.2813 - val_categorical_accuracy: 0.9007\n",
            "Epoch 52/300\n",
            "422/422 [==============================] - 14s 34ms/step - loss: 0.2505 - categorical_accuracy: 0.9047 - val_loss: 0.2734 - val_categorical_accuracy: 0.9002\n",
            "Epoch 53/300\n",
            "422/422 [==============================] - 15s 35ms/step - loss: 0.2476 - categorical_accuracy: 0.9063 - val_loss: 0.2695 - val_categorical_accuracy: 0.8988\n",
            "Epoch 54/300\n",
            "422/422 [==============================] - 14s 34ms/step - loss: 0.2447 - categorical_accuracy: 0.9070 - val_loss: 0.2743 - val_categorical_accuracy: 0.9010\n",
            "Epoch 55/300\n",
            "422/422 [==============================] - 14s 34ms/step - loss: 0.2437 - categorical_accuracy: 0.9078 - val_loss: 0.2840 - val_categorical_accuracy: 0.8985\n",
            "Epoch 56/300\n",
            "422/422 [==============================] - 14s 34ms/step - loss: 0.2439 - categorical_accuracy: 0.9081 - val_loss: 0.2697 - val_categorical_accuracy: 0.9007\n",
            "Epoch 57/300\n",
            "422/422 [==============================] - 14s 34ms/step - loss: 0.2455 - categorical_accuracy: 0.9064 - val_loss: 0.2774 - val_categorical_accuracy: 0.8993\n",
            "Epoch 58/300\n",
            "422/422 [==============================] - 15s 34ms/step - loss: 0.2409 - categorical_accuracy: 0.9082 - val_loss: 0.2728 - val_categorical_accuracy: 0.8997\n",
            "Epoch 59/300\n",
            "422/422 [==============================] - 15s 34ms/step - loss: 0.2391 - categorical_accuracy: 0.9089 - val_loss: 0.2799 - val_categorical_accuracy: 0.9007\n",
            "Epoch 60/300\n",
            "422/422 [==============================] - 14s 34ms/step - loss: 0.2377 - categorical_accuracy: 0.9100 - val_loss: 0.2742 - val_categorical_accuracy: 0.9017\n",
            "Epoch 61/300\n",
            "422/422 [==============================] - 15s 35ms/step - loss: 0.2391 - categorical_accuracy: 0.9104 - val_loss: 0.2824 - val_categorical_accuracy: 0.8987\n",
            "Epoch 62/300\n",
            "422/422 [==============================] - 15s 35ms/step - loss: 0.2380 - categorical_accuracy: 0.9084 - val_loss: 0.2754 - val_categorical_accuracy: 0.9018\n",
            "Epoch 63/300\n",
            "422/422 [==============================] - 15s 34ms/step - loss: 0.2378 - categorical_accuracy: 0.9097 - val_loss: 0.2788 - val_categorical_accuracy: 0.8997\n",
            "Epoch 64/300\n",
            "422/422 [==============================] - 14s 34ms/step - loss: 0.2379 - categorical_accuracy: 0.9088 - val_loss: 0.2710 - val_categorical_accuracy: 0.9032\n",
            "Epoch 65/300\n",
            "422/422 [==============================] - 15s 34ms/step - loss: 0.2354 - categorical_accuracy: 0.9110 - val_loss: 0.2732 - val_categorical_accuracy: 0.8988\n",
            "Epoch 66/300\n",
            "422/422 [==============================] - 14s 34ms/step - loss: 0.2344 - categorical_accuracy: 0.9107 - val_loss: 0.2734 - val_categorical_accuracy: 0.9013\n",
            "Epoch 67/300\n",
            "422/422 [==============================] - 14s 34ms/step - loss: 0.2380 - categorical_accuracy: 0.9104 - val_loss: 0.2686 - val_categorical_accuracy: 0.9050\n",
            "Epoch 68/300\n",
            "422/422 [==============================] - 14s 34ms/step - loss: 0.2328 - categorical_accuracy: 0.9125 - val_loss: 0.2708 - val_categorical_accuracy: 0.9007\n",
            "Epoch 69/300\n",
            "422/422 [==============================] - 15s 35ms/step - loss: 0.2340 - categorical_accuracy: 0.9111 - val_loss: 0.2677 - val_categorical_accuracy: 0.9060\n",
            "Epoch 70/300\n",
            "422/422 [==============================] - 14s 34ms/step - loss: 0.2275 - categorical_accuracy: 0.9123 - val_loss: 0.2813 - val_categorical_accuracy: 0.9008\n",
            "Epoch 71/300\n",
            "422/422 [==============================] - 15s 35ms/step - loss: 0.2322 - categorical_accuracy: 0.9106 - val_loss: 0.2671 - val_categorical_accuracy: 0.9055\n",
            "Epoch 72/300\n",
            "422/422 [==============================] - 15s 35ms/step - loss: 0.2288 - categorical_accuracy: 0.9127 - val_loss: 0.2660 - val_categorical_accuracy: 0.9040\n",
            "Epoch 73/300\n",
            "422/422 [==============================] - 15s 35ms/step - loss: 0.2257 - categorical_accuracy: 0.9149 - val_loss: 0.2794 - val_categorical_accuracy: 0.8983\n",
            "Epoch 74/300\n",
            "422/422 [==============================] - 14s 34ms/step - loss: 0.2293 - categorical_accuracy: 0.9130 - val_loss: 0.2788 - val_categorical_accuracy: 0.9012\n",
            "Epoch 75/300\n",
            "422/422 [==============================] - 15s 35ms/step - loss: 0.2285 - categorical_accuracy: 0.9139 - val_loss: 0.2732 - val_categorical_accuracy: 0.9010\n",
            "Epoch 76/300\n",
            "422/422 [==============================] - 15s 34ms/step - loss: 0.2293 - categorical_accuracy: 0.9131 - val_loss: 0.2728 - val_categorical_accuracy: 0.9030\n",
            "Epoch 77/300\n",
            "422/422 [==============================] - 14s 34ms/step - loss: 0.2229 - categorical_accuracy: 0.9150 - val_loss: 0.2702 - val_categorical_accuracy: 0.9038\n",
            "Epoch 78/300\n",
            "422/422 [==============================] - 14s 34ms/step - loss: 0.2268 - categorical_accuracy: 0.9134 - val_loss: 0.2654 - val_categorical_accuracy: 0.9038\n",
            "Epoch 79/300\n",
            "422/422 [==============================] - 14s 34ms/step - loss: 0.2243 - categorical_accuracy: 0.9143 - val_loss: 0.2705 - val_categorical_accuracy: 0.9020\n",
            "Epoch 80/300\n",
            "422/422 [==============================] - 15s 35ms/step - loss: 0.2257 - categorical_accuracy: 0.9132 - val_loss: 0.2646 - val_categorical_accuracy: 0.9063\n",
            "Epoch 81/300\n",
            "422/422 [==============================] - 15s 34ms/step - loss: 0.2214 - categorical_accuracy: 0.9156 - val_loss: 0.2693 - val_categorical_accuracy: 0.9037\n",
            "Epoch 82/300\n",
            "422/422 [==============================] - 15s 35ms/step - loss: 0.2235 - categorical_accuracy: 0.9148 - val_loss: 0.2692 - val_categorical_accuracy: 0.9062\n",
            "Epoch 83/300\n",
            "422/422 [==============================] - 15s 34ms/step - loss: 0.2242 - categorical_accuracy: 0.9145 - val_loss: 0.2710 - val_categorical_accuracy: 0.9055\n",
            "Epoch 84/300\n",
            "422/422 [==============================] - 14s 34ms/step - loss: 0.2230 - categorical_accuracy: 0.9151 - val_loss: 0.2810 - val_categorical_accuracy: 0.9030\n",
            "Epoch 85/300\n",
            "422/422 [==============================] - 14s 34ms/step - loss: 0.2210 - categorical_accuracy: 0.9147 - val_loss: 0.2715 - val_categorical_accuracy: 0.9047\n",
            "Epoch 86/300\n",
            "422/422 [==============================] - 15s 35ms/step - loss: 0.2193 - categorical_accuracy: 0.9174 - val_loss: 0.2766 - val_categorical_accuracy: 0.9050\n",
            "Epoch 87/300\n",
            "422/422 [==============================] - 14s 34ms/step - loss: 0.2201 - categorical_accuracy: 0.9163 - val_loss: 0.2739 - val_categorical_accuracy: 0.9045\n",
            "Epoch 88/300\n",
            "422/422 [==============================] - 15s 34ms/step - loss: 0.2209 - categorical_accuracy: 0.9162 - val_loss: 0.2717 - val_categorical_accuracy: 0.9052\n",
            "Epoch 89/300\n",
            "422/422 [==============================] - 15s 34ms/step - loss: 0.2230 - categorical_accuracy: 0.9155 - val_loss: 0.2667 - val_categorical_accuracy: 0.9048\n",
            "Epoch 90/300\n",
            "422/422 [==============================] - 15s 35ms/step - loss: 0.2187 - categorical_accuracy: 0.9151 - val_loss: 0.2623 - val_categorical_accuracy: 0.9050\n",
            "Epoch 91/300\n",
            "422/422 [==============================] - 15s 35ms/step - loss: 0.2155 - categorical_accuracy: 0.9176 - val_loss: 0.2692 - val_categorical_accuracy: 0.9045\n",
            "Epoch 92/300\n",
            "422/422 [==============================] - 14s 34ms/step - loss: 0.2208 - categorical_accuracy: 0.9174 - val_loss: 0.2621 - val_categorical_accuracy: 0.9028\n",
            "Epoch 93/300\n",
            "422/422 [==============================] - 15s 35ms/step - loss: 0.2163 - categorical_accuracy: 0.9171 - val_loss: 0.2725 - val_categorical_accuracy: 0.9028\n",
            "Epoch 94/300\n",
            "422/422 [==============================] - 15s 36ms/step - loss: 0.2158 - categorical_accuracy: 0.9183 - val_loss: 0.2724 - val_categorical_accuracy: 0.9047\n",
            "Epoch 95/300\n",
            "422/422 [==============================] - 14s 34ms/step - loss: 0.2150 - categorical_accuracy: 0.9178 - val_loss: 0.2700 - val_categorical_accuracy: 0.9022\n",
            "Epoch 96/300\n",
            "422/422 [==============================] - 15s 34ms/step - loss: 0.2145 - categorical_accuracy: 0.9193 - val_loss: 0.2653 - val_categorical_accuracy: 0.9053\n",
            "Epoch 97/300\n",
            "422/422 [==============================] - 14s 34ms/step - loss: 0.2172 - categorical_accuracy: 0.9166 - val_loss: 0.2708 - val_categorical_accuracy: 0.9018\n",
            "Epoch 98/300\n",
            "422/422 [==============================] - 15s 35ms/step - loss: 0.2127 - categorical_accuracy: 0.9193 - val_loss: 0.2668 - val_categorical_accuracy: 0.9052\n",
            "Epoch 99/300\n",
            "422/422 [==============================] - 14s 34ms/step - loss: 0.2139 - categorical_accuracy: 0.9185 - val_loss: 0.2691 - val_categorical_accuracy: 0.9052\n",
            "Epoch 100/300\n",
            "422/422 [==============================] - 15s 35ms/step - loss: 0.2108 - categorical_accuracy: 0.9197 - val_loss: 0.2618 - val_categorical_accuracy: 0.9047\n",
            "Epoch 101/300\n",
            "422/422 [==============================] - 14s 34ms/step - loss: 0.2119 - categorical_accuracy: 0.9202 - val_loss: 0.2745 - val_categorical_accuracy: 0.9030\n",
            "Epoch 102/300\n",
            "422/422 [==============================] - 14s 34ms/step - loss: 0.2122 - categorical_accuracy: 0.9186 - val_loss: 0.2736 - val_categorical_accuracy: 0.9013\n",
            "Epoch 103/300\n",
            "422/422 [==============================] - 15s 36ms/step - loss: 0.2132 - categorical_accuracy: 0.9203 - val_loss: 0.2649 - val_categorical_accuracy: 0.9045\n",
            "Epoch 104/300\n",
            "422/422 [==============================] - 15s 36ms/step - loss: 0.2099 - categorical_accuracy: 0.9199 - val_loss: 0.2796 - val_categorical_accuracy: 0.8992\n",
            "Epoch 105/300\n",
            "422/422 [==============================] - 14s 34ms/step - loss: 0.2085 - categorical_accuracy: 0.9213 - val_loss: 0.2738 - val_categorical_accuracy: 0.9017\n",
            "Epoch 106/300\n",
            "422/422 [==============================] - 14s 34ms/step - loss: 0.2089 - categorical_accuracy: 0.9199 - val_loss: 0.2722 - val_categorical_accuracy: 0.9033\n",
            "Epoch 107/300\n",
            "422/422 [==============================] - 15s 35ms/step - loss: 0.2059 - categorical_accuracy: 0.9218 - val_loss: 0.2743 - val_categorical_accuracy: 0.9057\n",
            "Epoch 108/300\n",
            "422/422 [==============================] - 14s 34ms/step - loss: 0.2093 - categorical_accuracy: 0.9191 - val_loss: 0.2757 - val_categorical_accuracy: 0.9043\n",
            "Epoch 109/300\n",
            "422/422 [==============================] - 15s 35ms/step - loss: 0.2094 - categorical_accuracy: 0.9209 - val_loss: 0.2761 - val_categorical_accuracy: 0.9037\n",
            "Epoch 110/300\n",
            "422/422 [==============================] - 15s 34ms/step - loss: 0.2060 - categorical_accuracy: 0.9216 - val_loss: 0.2700 - val_categorical_accuracy: 0.9040\n",
            "Epoch 111/300\n",
            "422/422 [==============================] - 15s 35ms/step - loss: 0.2066 - categorical_accuracy: 0.9211 - val_loss: 0.2709 - val_categorical_accuracy: 0.9022\n",
            "Epoch 112/300\n",
            "422/422 [==============================] - 15s 35ms/step - loss: 0.2065 - categorical_accuracy: 0.9209 - val_loss: 0.2660 - val_categorical_accuracy: 0.9053\n",
            "Epoch 113/300\n",
            "422/422 [==============================] - 15s 35ms/step - loss: 0.2102 - categorical_accuracy: 0.9202 - val_loss: 0.2686 - val_categorical_accuracy: 0.9052\n",
            "Epoch 114/300\n",
            "422/422 [==============================] - 15s 35ms/step - loss: 0.2078 - categorical_accuracy: 0.9215 - val_loss: 0.2683 - val_categorical_accuracy: 0.9043\n",
            "Epoch 115/300\n",
            "422/422 [==============================] - 14s 34ms/step - loss: 0.2082 - categorical_accuracy: 0.9213 - val_loss: 0.2691 - val_categorical_accuracy: 0.9050\n",
            "Epoch 116/300\n",
            "422/422 [==============================] - 15s 34ms/step - loss: 0.2034 - categorical_accuracy: 0.9222 - val_loss: 0.2661 - val_categorical_accuracy: 0.9032\n",
            "Epoch 117/300\n",
            "422/422 [==============================] - 14s 34ms/step - loss: 0.2052 - categorical_accuracy: 0.9220 - val_loss: 0.2694 - val_categorical_accuracy: 0.9062\n",
            "Epoch 118/300\n",
            "422/422 [==============================] - 14s 34ms/step - loss: 0.2067 - categorical_accuracy: 0.9215 - val_loss: 0.2722 - val_categorical_accuracy: 0.9047\n",
            "Epoch 119/300\n",
            "422/422 [==============================] - 15s 35ms/step - loss: 0.2054 - categorical_accuracy: 0.9218 - val_loss: 0.2703 - val_categorical_accuracy: 0.9077\n",
            "Epoch 120/300\n",
            "422/422 [==============================] - 14s 34ms/step - loss: 0.2052 - categorical_accuracy: 0.9220 - val_loss: 0.2791 - val_categorical_accuracy: 0.9013\n",
            "Epoch 121/300\n",
            "422/422 [==============================] - 14s 34ms/step - loss: 0.2047 - categorical_accuracy: 0.9228 - val_loss: 0.2746 - val_categorical_accuracy: 0.9023\n",
            "Epoch 122/300\n",
            "422/422 [==============================] - 15s 35ms/step - loss: 0.2025 - categorical_accuracy: 0.9227 - val_loss: 0.2735 - val_categorical_accuracy: 0.9055\n",
            "Epoch 123/300\n",
            "422/422 [==============================] - 15s 35ms/step - loss: 0.2022 - categorical_accuracy: 0.9228 - val_loss: 0.2691 - val_categorical_accuracy: 0.9047\n",
            "Epoch 124/300\n",
            "422/422 [==============================] - 15s 36ms/step - loss: 0.2047 - categorical_accuracy: 0.9224 - val_loss: 0.2676 - val_categorical_accuracy: 0.9042\n",
            "Epoch 125/300\n",
            "422/422 [==============================] - 14s 34ms/step - loss: 0.1991 - categorical_accuracy: 0.9254 - val_loss: 0.2729 - val_categorical_accuracy: 0.9045\n",
            "Epoch 126/300\n",
            "422/422 [==============================] - 14s 34ms/step - loss: 0.2027 - categorical_accuracy: 0.9239 - val_loss: 0.2789 - val_categorical_accuracy: 0.9013\n",
            "Epoch 127/300\n",
            "422/422 [==============================] - 15s 35ms/step - loss: 0.2018 - categorical_accuracy: 0.9235 - val_loss: 0.2738 - val_categorical_accuracy: 0.9060\n",
            "Epoch 128/300\n",
            "422/422 [==============================] - 15s 35ms/step - loss: 0.2022 - categorical_accuracy: 0.9238 - val_loss: 0.2702 - val_categorical_accuracy: 0.9035\n",
            "Epoch 129/300\n",
            "422/422 [==============================] - 15s 35ms/step - loss: 0.2009 - categorical_accuracy: 0.9236 - val_loss: 0.2717 - val_categorical_accuracy: 0.9045\n",
            "Epoch 130/300\n",
            "422/422 [==============================] - 15s 35ms/step - loss: 0.1943 - categorical_accuracy: 0.9261 - val_loss: 0.2763 - val_categorical_accuracy: 0.9048\n",
            "Epoch 131/300\n",
            "422/422 [==============================] - 15s 35ms/step - loss: 0.2014 - categorical_accuracy: 0.9224 - val_loss: 0.2730 - val_categorical_accuracy: 0.9060\n",
            "Epoch 132/300\n",
            "422/422 [==============================] - 14s 34ms/step - loss: 0.1988 - categorical_accuracy: 0.9237 - val_loss: 0.2713 - val_categorical_accuracy: 0.9033\n",
            "Epoch 133/300\n",
            "422/422 [==============================] - 15s 35ms/step - loss: 0.2004 - categorical_accuracy: 0.9243 - val_loss: 0.2656 - val_categorical_accuracy: 0.9050\n",
            "Epoch 134/300\n",
            "422/422 [==============================] - 15s 36ms/step - loss: 0.1970 - categorical_accuracy: 0.9244 - val_loss: 0.2748 - val_categorical_accuracy: 0.9028\n",
            "Epoch 135/300\n",
            "422/422 [==============================] - 14s 34ms/step - loss: 0.1985 - categorical_accuracy: 0.9232 - val_loss: 0.2797 - val_categorical_accuracy: 0.9025\n",
            "Epoch 136/300\n",
            "422/422 [==============================] - 15s 35ms/step - loss: 0.1990 - categorical_accuracy: 0.9248 - val_loss: 0.2769 - val_categorical_accuracy: 0.9058\n",
            "Epoch 137/300\n",
            "422/422 [==============================] - 15s 35ms/step - loss: 0.1990 - categorical_accuracy: 0.9234 - val_loss: 0.2760 - val_categorical_accuracy: 0.9007\n",
            "Epoch 138/300\n",
            "422/422 [==============================] - 14s 34ms/step - loss: 0.1976 - categorical_accuracy: 0.9247 - val_loss: 0.2751 - val_categorical_accuracy: 0.9053\n",
            "Epoch 139/300\n",
            "422/422 [==============================] - 14s 33ms/step - loss: 0.1969 - categorical_accuracy: 0.9250 - val_loss: 0.2694 - val_categorical_accuracy: 0.9058\n",
            "Epoch 140/300\n",
            "422/422 [==============================] - 14s 33ms/step - loss: 0.1975 - categorical_accuracy: 0.9243 - val_loss: 0.2685 - val_categorical_accuracy: 0.9043\n",
            "Epoch 141/300\n",
            "422/422 [==============================] - 14s 33ms/step - loss: 0.1979 - categorical_accuracy: 0.9254 - val_loss: 0.2785 - val_categorical_accuracy: 0.9038\n",
            "Epoch 142/300\n",
            "422/422 [==============================] - 14s 33ms/step - loss: 0.1953 - categorical_accuracy: 0.9258 - val_loss: 0.2722 - val_categorical_accuracy: 0.9067\n",
            "Epoch 143/300\n",
            "422/422 [==============================] - 14s 34ms/step - loss: 0.1988 - categorical_accuracy: 0.9246 - val_loss: 0.2731 - val_categorical_accuracy: 0.9058\n",
            "Epoch 144/300\n",
            "422/422 [==============================] - 14s 32ms/step - loss: 0.1982 - categorical_accuracy: 0.9253 - val_loss: 0.2694 - val_categorical_accuracy: 0.9042\n",
            "Epoch 145/300\n",
            "422/422 [==============================] - 14s 32ms/step - loss: 0.1966 - categorical_accuracy: 0.9259 - val_loss: 0.2744 - val_categorical_accuracy: 0.9060\n",
            "Epoch 146/300\n",
            "422/422 [==============================] - 14s 32ms/step - loss: 0.1964 - categorical_accuracy: 0.9252 - val_loss: 0.2728 - val_categorical_accuracy: 0.9058\n",
            "Epoch 147/300\n",
            "422/422 [==============================] - 14s 34ms/step - loss: 0.1986 - categorical_accuracy: 0.9240 - val_loss: 0.2703 - val_categorical_accuracy: 0.9053\n",
            "Epoch 148/300\n",
            "422/422 [==============================] - 14s 34ms/step - loss: 0.1971 - categorical_accuracy: 0.9250 - val_loss: 0.2790 - val_categorical_accuracy: 0.9025\n",
            "Epoch 149/300\n",
            "422/422 [==============================] - 14s 33ms/step - loss: 0.1936 - categorical_accuracy: 0.9270 - val_loss: 0.2726 - val_categorical_accuracy: 0.9033\n",
            "Epoch 150/300\n",
            "422/422 [==============================] - 14s 33ms/step - loss: 0.1967 - categorical_accuracy: 0.9252 - val_loss: 0.2708 - val_categorical_accuracy: 0.9040\n",
            "Epoch 151/300\n",
            "422/422 [==============================] - 14s 32ms/step - loss: 0.1925 - categorical_accuracy: 0.9267 - val_loss: 0.2768 - val_categorical_accuracy: 0.9047\n",
            "Epoch 152/300\n",
            "422/422 [==============================] - 14s 32ms/step - loss: 0.1960 - categorical_accuracy: 0.9247 - val_loss: 0.2701 - val_categorical_accuracy: 0.9047\n",
            "Epoch 153/300\n",
            "422/422 [==============================] - 14s 34ms/step - loss: 0.1940 - categorical_accuracy: 0.9258 - val_loss: 0.2750 - val_categorical_accuracy: 0.9068\n",
            "Epoch 154/300\n",
            "422/422 [==============================] - 14s 34ms/step - loss: 0.1918 - categorical_accuracy: 0.9257 - val_loss: 0.2669 - val_categorical_accuracy: 0.9047\n",
            "Epoch 155/300\n",
            "422/422 [==============================] - 15s 35ms/step - loss: 0.1928 - categorical_accuracy: 0.9257 - val_loss: 0.2695 - val_categorical_accuracy: 0.9035\n",
            "Epoch 156/300\n",
            "422/422 [==============================] - 14s 34ms/step - loss: 0.1958 - categorical_accuracy: 0.9263 - val_loss: 0.2714 - val_categorical_accuracy: 0.9052\n",
            "Epoch 157/300\n",
            "422/422 [==============================] - 14s 34ms/step - loss: 0.1913 - categorical_accuracy: 0.9270 - val_loss: 0.2717 - val_categorical_accuracy: 0.9053\n",
            "Epoch 158/300\n",
            "422/422 [==============================] - 14s 33ms/step - loss: 0.1936 - categorical_accuracy: 0.9265 - val_loss: 0.2726 - val_categorical_accuracy: 0.9042\n",
            "Epoch 159/300\n",
            "422/422 [==============================] - 14s 32ms/step - loss: 0.1917 - categorical_accuracy: 0.9264 - val_loss: 0.2704 - val_categorical_accuracy: 0.9055\n",
            "Epoch 160/300\n",
            "422/422 [==============================] - 14s 34ms/step - loss: 0.1922 - categorical_accuracy: 0.9257 - val_loss: 0.2747 - val_categorical_accuracy: 0.9022\n",
            "313/313 [==============================] - 2s 6ms/step - loss: 0.2959 - categorical_accuracy: 0.9002\n",
            "\n",
            "Test accuracy: 0.9002000093460083\n"
          ]
        }
      ]
    },
    {
      "cell_type": "code",
      "source": [
        "print('\\nhistory dict:', list(history.history.keys()))"
      ],
      "metadata": {
        "id": "CxRE-B_Q6Sii",
        "outputId": "c6d03c0a-19c6-4c58-88f4-3253d1e02ff4",
        "colab": {
          "base_uri": "https://localhost:8080/"
        }
      },
      "execution_count": 64,
      "outputs": [
        {
          "output_type": "stream",
          "name": "stdout",
          "text": [
            "\n",
            "history dict: ['loss', 'categorical_accuracy', 'val_loss', 'val_categorical_accuracy']\n"
          ]
        }
      ]
    },
    {
      "cell_type": "code",
      "source": [
        "result = model.evaluate(x_test, y_test)\n",
        "print(result)"
      ],
      "metadata": {
        "id": "YXpwRRTvTBNg",
        "outputId": "cabf5e43-2de6-492e-92b7-a80bbd813bbb",
        "colab": {
          "base_uri": "https://localhost:8080/"
        }
      },
      "execution_count": 65,
      "outputs": [
        {
          "output_type": "stream",
          "name": "stdout",
          "text": [
            "313/313 [==============================] - 2s 7ms/step - loss: 0.2959 - categorical_accuracy: 0.9002\n",
            "[0.2958831489086151, 0.9002000093460083]\n"
          ]
        }
      ]
    },
    {
      "cell_type": "code",
      "source": [
        "saved_model = load_model('best_model.h5')\n",
        "result = saved_model.evaluate(x_test, y_test)\n",
        "print(result)"
      ],
      "metadata": {
        "id": "dpaZAW0vp1AZ",
        "outputId": "bc114b85-df80-466c-b1a9-b620047ce5ab",
        "colab": {
          "base_uri": "https://localhost:8080/"
        }
      },
      "execution_count": 66,
      "outputs": [
        {
          "output_type": "stream",
          "name": "stdout",
          "text": [
            "313/313 [==============================] - 2s 5ms/step - loss: 0.2854 - categorical_accuracy: 0.9036\n",
            "[0.2853904366493225, 0.9035999774932861]\n"
          ]
        }
      ]
    },
    {
      "cell_type": "code",
      "source": [
        "# from keras.models import load_model\n",
        "# saved_model = load_model('best_model.h5')\n",
        "# # _, train_acc = saved_model.evaluate(x_train, y_train, verbose=0)\n",
        "# _, test_acc = saved_model.evaluate(x_test, y_test, verbose=0)\n",
        "# print('Test: %.3f' % (test_acc))"
      ],
      "metadata": {
        "id": "DR_MS9DABo_K"
      },
      "execution_count": 67,
      "outputs": []
    },
    {
      "cell_type": "code",
      "source": [
        "history_dict = history.history\n",
        "loss_values = history_dict['loss']\n",
        "val_loss_values = history_dict['val_loss']\n",
        "\n",
        "epochs = range(1, len(history_dict['loss']) + 1)\n",
        "\n",
        "plt.figure(figsize=(10, 5))\n",
        "plt.plot(epochs, loss_values, 'bo', label='Training loss')\n",
        "plt.plot(epochs, val_loss_values, 'r', label='Validation loss')\n",
        "plt.ylim (0.2, 0.5)\n",
        "plt.title('Training and validation loss')\n",
        "plt.xlabel('Epochs')\n",
        "plt.ylabel('Loss')\n",
        "plt.legend()\n",
        "plt.grid(True)\n",
        "plt.show()\n",
        "1\n",
        "plt.clf()\n",
        "plt.figure(figsize=(10, 5))\n",
        "val_acc_values = history_dict['categorical_accuracy']\n",
        "plt.plot(epochs, history_dict['categorical_accuracy'], 'bo', label='Training acc')\n",
        "plt.plot(epochs, history_dict['val_categorical_accuracy'], 'r', label='Validation acc')\n",
        "plt.ylim (0.86, 0.94)\n",
        "plt.title('Training and validation accuracy')\n",
        "plt.xlabel('Epochs')\n",
        "plt.ylabel('Accuracy')\n",
        "plt.legend()\n",
        "plt.grid(True)"
      ],
      "metadata": {
        "id": "2Ll_5sGlXKMH",
        "outputId": "6a296a55-8918-459c-96c8-1568a338aabc",
        "colab": {
          "base_uri": "https://localhost:8080/",
          "height": 975
        }
      },
      "execution_count": 68,
      "outputs": [
        {
          "output_type": "display_data",
          "data": {
            "text/plain": [
              "<Figure size 1000x500 with 1 Axes>"
            ],
            "image/png": "[encoded data removed]"
          },
          "metadata": {}
        },
        {
          "output_type": "display_data",
          "data": {
            "text/plain": [
              "<Figure size 640x480 with 0 Axes>"
            ]
          },
          "metadata": {}
        },
        {
          "output_type": "display_data",
          "data": {
            "text/plain": [
              "<Figure size 1000x500 with 1 Axes>"
            ],
            "image/png": "[encoded data removed]"
          },
          "metadata": {}
        }
      ]
    },
    {
      "cell_type": "code",
      "source": [
        "probability_model = tf.keras.Sequential([model,\n",
        "                                         tf.keras.layers.Softmax()])"
      ],
      "metadata": {
        "id": "VzOdKAT_uV-f"
      },
      "execution_count": 69,
      "outputs": []
    },
    {
      "cell_type": "code",
      "source": [
        "predictions = probability_model.predict(x_test)"
      ],
      "metadata": {
        "id": "f4is3NFruYom",
        "outputId": "e0a169c0-f975-4481-ee8d-a05b41597ef1",
        "colab": {
          "base_uri": "https://localhost:8080/"
        }
      },
      "execution_count": 70,
      "outputs": [
        {
          "output_type": "stream",
          "name": "stdout",
          "text": [
            "313/313 [==============================] - 1s 4ms/step\n"
          ]
        }
      ]
    },
    {
      "cell_type": "code",
      "source": [
        "predictions[0]"
      ],
      "metadata": {
        "id": "82cigvlZudz_",
        "outputId": "860d9f19-5b7d-4e67-82bb-2780618236be",
        "colab": {
          "base_uri": "https://localhost:8080/"
        }
      },
      "execution_count": 71,
      "outputs": [
        {
          "output_type": "execute_result",
          "data": {
            "text/plain": [
              "array([0.08534846, 0.08534846, 0.08534846, 0.08534846, 0.08534846,\n",
              "       0.085349  , 0.08534846, 0.08542794, 0.08534846, 0.23178384],\n",
              "      dtype=float32)"
            ]
          },
          "metadata": {},
          "execution_count": 71
        }
      ]
    },
    {
      "cell_type": "code",
      "source": [
        "model.summary()"
      ],
      "metadata": {
        "id": "6RsQPHyYuNGe",
        "outputId": "842fc467-c16e-4971-8740-7581d5c26c3f",
        "colab": {
          "base_uri": "https://localhost:8080/"
        }
      },
      "execution_count": 72,
      "outputs": [
        {
          "output_type": "stream",
          "name": "stdout",
          "text": [
            "Model: \"sequential_4\"\n",
            "_________________________________________________________________\n",
            " Layer (type)                Output Shape              Param #   \n",
            "=================================================================\n",
            " flatten_2 (Flatten)         (None, 784)               0         \n",
            "                                                                 \n",
            " dropout_8 (Dropout)         (None, 784)               0         \n",
            "                                                                 \n",
            " batch_normalization_6 (Bat  (None, 784)               3136      \n",
            " chNormalization)                                                \n",
            "                                                                 \n",
            " dense_8 (Dense)             (None, 256)               200960    \n",
            "                                                                 \n",
            " dropout_9 (Dropout)         (None, 256)               0         \n",
            "                                                                 \n",
            " batch_normalization_7 (Bat  (None, 256)               1024      \n",
            " chNormalization)                                                \n",
            "                                                                 \n",
            " dense_9 (Dense)             (None, 512)               131584    \n",
            "                                                                 \n",
            " dropout_10 (Dropout)        (None, 512)               0         \n",
            "                                                                 \n",
            " batch_normalization_8 (Bat  (None, 512)               2048      \n",
            " chNormalization)                                                \n",
            "                                                                 \n",
            " dense_10 (Dense)            (None, 512)               262656    \n",
            "                                                                 \n",
            " dropout_11 (Dropout)        (None, 512)               0         \n",
            "                                                                 \n",
            " dense_11 (Dense)            (None, 10)                5130      \n",
            "                                                                 \n",
            "=================================================================\n",
            "Total params: 606538 (2.31 MB)\n",
            "Trainable params: 603434 (2.30 MB)\n",
            "Non-trainable params: 3104 (12.12 KB)\n",
            "_________________________________________________________________\n"
          ]
        }
      ]
    }
  ]
}