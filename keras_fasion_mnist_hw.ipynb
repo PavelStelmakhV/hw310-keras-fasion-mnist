{
  "nbformat": 4,
  "nbformat_minor": 0,
  "metadata": {
    "colab": {
      "provenance": [],
      "gpuType": "T4",
      "authorship_tag": "ABX9TyMfD59lCXzeYT5NndC/6tul",
      "include_colab_link": true
    },
    "kernelspec": {
      "name": "python3",
      "display_name": "Python 3"
    },
    "language_info": {
      "name": "python"
    },
    "accelerator": "GPU"
  },
  "cells": [
    {
      "cell_type": "markdown",
      "metadata": {
        "id": "view-in-github",
        "colab_type": "text"
      },
      "source": [
        "<a href=\"https://colab.research.google.com/github/PavelStelmakhV/hw310-keras-fasion-mnist/blob/main/keras_fasion_mnist_hw.ipynb\" target=\"_parent\"><img src=\"https://colab.research.google.com/assets/colab-badge.svg\" alt=\"Open In Colab\"/></a>"
      ]
    },
    {
      "cell_type": "code",
      "execution_count": 1,
      "metadata": {
        "id": "vv7w0bgAVQPO"
      },
      "outputs": [],
      "source": [
        "import tensorflow as tf\n",
        "import numpy as np\n",
        "import matplotlib.pyplot as plt\n",
        "\n",
        "from keras import layers\n",
        "from keras import regularizers\n",
        "from keras import callbacks\n",
        "from keras import initializers\n",
        "from keras.layers import BatchNormalization\n",
        "from keras.models import load_model"
      ]
    },
    {
      "cell_type": "code",
      "source": [
        "fashion_mnist = tf.keras.datasets.fashion_mnist\n",
        "\n",
        "(x_train, y_train), (x_test, y_test) = fashion_mnist.load_data()"
      ],
      "metadata": {
        "id": "mOpywsNAzfGB",
        "colab": {
          "base_uri": "https://localhost:8080/"
        },
        "outputId": "e3aebe97-0aa5-45c2-d31d-480e674e4ac3"
      },
      "execution_count": 2,
      "outputs": [
        {
          "output_type": "stream",
          "name": "stdout",
          "text": [
            "Downloading data from https://storage.googleapis.com/tensorflow/tf-keras-datasets/train-labels-idx1-ubyte.gz\n",
            "29515/29515 [==============================] - 0s 0us/step\n",
            "Downloading data from https://storage.googleapis.com/tensorflow/tf-keras-datasets/train-images-idx3-ubyte.gz\n",
            "26421880/26421880 [==============================] - 1s 0us/step\n",
            "Downloading data from https://storage.googleapis.com/tensorflow/tf-keras-datasets/t10k-labels-idx1-ubyte.gz\n",
            "5148/5148 [==============================] - 0s 0us/step\n",
            "Downloading data from https://storage.googleapis.com/tensorflow/tf-keras-datasets/t10k-images-idx3-ubyte.gz\n",
            "4422102/4422102 [==============================] - 1s 0us/step\n"
          ]
        }
      ]
    },
    {
      "cell_type": "code",
      "source": [
        "# x_train = x_train.reshape(60000, 784).astype('float32') / 255\n",
        "# x_test = x_test.reshape(10000, 784).astype('float32') / 255\n",
        "x_train = x_train.astype('float32') / 255\n",
        "x_test = x_test.astype('float32') / 255\n",
        "\n",
        "y_train = y_train.astype('float32')\n",
        "y_test = y_test.astype('float32')\n",
        "\n",
        "# Перемешаем тренировочные данные\n",
        "# train_data = tf.data.Dataset.from_tensor_slices((x_train, y_train))\n",
        "# train_data = train_data.repeat().shuffle(5000).batch(batch_size).prefetch(1)"
      ],
      "metadata": {
        "id": "t2gucjsJ0KUi"
      },
      "execution_count": 3,
      "outputs": []
    },
    {
      "cell_type": "code",
      "source": [
        "# x_val = x_train[-10000:]\n",
        "# y_val = y_train[-10000:]\n",
        "# x_train = x_train[:-10000]\n",
        "# y_train = y_train[:-10000]"
      ],
      "metadata": {
        "id": "fLPNXab5dHwO"
      },
      "execution_count": 4,
      "outputs": []
    },
    {
      "cell_type": "code",
      "source": [],
      "metadata": {
        "id": "bU5TK5YdlnU5"
      },
      "execution_count": 4,
      "outputs": []
    },
    {
      "cell_type": "code",
      "source": [
        "w_init_tanh = initializers.glorot_normal(seed=42)\n",
        "w_init_relu = initializers.HeNormal(seed=42)\n",
        "b_init = initializers.Zeros()"
      ],
      "metadata": {
        "id": "yL9QTEtBGy4N"
      },
      "execution_count": 5,
      "outputs": []
    },
    {
      "cell_type": "code",
      "source": [
        "model = tf.keras.Sequential()\n",
        "\n",
        "drop_out = 0.30\n",
        "lern_rat = 0.001\n",
        "neurons = 256\n",
        "\n",
        "model.add(layers.Flatten(input_shape=(28, 28)))\n",
        "model.add(layers.Dropout(drop_out))\n",
        "\n",
        "model.add(layers.Dense(neurons * 1, activation='elu', kernel_initializer=w_init_relu, bias_initializer=b_init)) #, kernel_regularizer=regularizers.l2(lern_rat)\n",
        "model.add(BatchNormalization())\n",
        "model.add(layers.Dropout(drop_out))\n",
        "\n",
        "model.add(layers.Dense(neurons * 2, activation='tanh', kernel_initializer=w_init_tanh))\n",
        "model.add(layers.Dropout(drop_out))\n",
        "\n",
        "model.add(layers.Dense(neurons * 2, activation='elu', kernel_initializer=w_init_relu))\n",
        "model.add(BatchNormalization())\n",
        "model.add(layers.Dropout(drop_out))\n",
        "\n",
        "# model.add(layers.Dense(neurons * 2, activation='relu'))\n",
        "# model.add(BatchNormalization())\n",
        "# model.add(layers.Dropout(drop_out * 2))\n",
        "\n",
        "model.add(layers.Dense(10, activation='softmax'))"
      ],
      "metadata": {
        "id": "atS39i4d0aqW"
      },
      "execution_count": 6,
      "outputs": []
    },
    {
      "cell_type": "code",
      "source": [],
      "metadata": {
        "id": "EzfnaqIZlfy8"
      },
      "execution_count": 6,
      "outputs": []
    },
    {
      "cell_type": "code",
      "source": [
        "model.compile(#optimizer='adam',\n",
        "              # optimizer='adamax',\n",
        "              optimizer='nadam',\n",
        "              # optimizer='rmsprop',\n",
        "              # optimizer='sgd',\n",
        "              # optimizer='adadelta',\n",
        "              # loss='binary_crossentropy',\n",
        "              loss=tf.keras.losses.SparseCategoricalCrossentropy(),\n",
        "              metrics=['sparse_categorical_accuracy']) # sparse_categorical_accuracy"
      ],
      "metadata": {
        "id": "hENVaAC7ilNY"
      },
      "execution_count": 7,
      "outputs": []
    },
    {
      "cell_type": "code",
      "source": [
        "x = np.random.random((1, 28, 28))\n",
        "a = model.predict(x)\n",
        "_ = plt.hist(np.transpose(a))"
      ],
      "metadata": {
        "id": "RFgZHNNFMa8p",
        "outputId": "3d338c60-1f7e-401b-8563-92c37bfd28a9",
        "colab": {
          "base_uri": "https://localhost:8080/",
          "height": 448
        }
      },
      "execution_count": 8,
      "outputs": [
        {
          "output_type": "stream",
          "name": "stdout",
          "text": [
            "1/1 [==============================] - 1s 820ms/step\n"
          ]
        },
        {
          "output_type": "display_data",
          "data": {
            "text/plain": [
              "<Figure size 640x480 with 1 Axes>"
            ],
            "image/png": "[encoded data removed]"
          },
          "metadata": {}
        }
      ]
    },
    {
      "cell_type": "code",
      "source": [
        "y_pred = model.predict(x_test)"
      ],
      "metadata": {
        "id": "UDP8OKKZ8oQa",
        "outputId": "7d15c108-fc5c-45cd-cbeb-74f239929055",
        "colab": {
          "base_uri": "https://localhost:8080/"
        }
      },
      "execution_count": 9,
      "outputs": [
        {
          "output_type": "stream",
          "name": "stdout",
          "text": [
            "313/313 [==============================] - 1s 3ms/step\n"
          ]
        }
      ]
    },
    {
      "cell_type": "code",
      "source": [
        "callback = callbacks.EarlyStopping(monitor='val_loss',\n",
        "                                   patience=50,\n",
        "                                   restore_best_weights=True,\n",
        "                                   )\n",
        "es = callbacks.EarlyStopping(monitor='val_loss', mode='min', verbose=1, patience=200)\n",
        "mc = callbacks.ModelCheckpoint('best_model.h5', monitor='sparse_categorical_accuracy', mode='max', verbose=0, save_best_only=True)\n"
      ],
      "metadata": {
        "id": "5ihU4exVlsjm"
      },
      "execution_count": 10,
      "outputs": []
    },
    {
      "cell_type": "code",
      "source": [
        "# model.fit(train_images, train_labels, epochs=20)\n",
        "history = model.fit(x_train, y_train,\n",
        "                    epochs=100,\n",
        "                    batch_size=128,\n",
        "                    # callbacks=[callback],\n",
        "                    callbacks=[mc],\n",
        "                    verbose=1, #многословие\n",
        "                    validation_split=0.2\n",
        "                    # validation_data=(x_val, y_val)\n",
        "                    )\n",
        "test_loss, test_acc = model.evaluate(x_test, y_test)\n",
        "print('\\nTest accuracy:', test_acc)"
      ],
      "metadata": {
        "id": "FH8HcMNm233I",
        "outputId": "4c677bf4-9548-4d04-c6a5-65f0acd5c88f",
        "colab": {
          "base_uri": "https://localhost:8080/"
        }
      },
      "execution_count": 11,
      "outputs": [
        {
          "output_type": "stream",
          "name": "stdout",
          "text": [
            "Epoch 1/100\n",
            "375/375 [==============================] - 16s 13ms/step - loss: 0.7214 - sparse_categorical_accuracy: 0.7499 - val_loss: 0.4719 - val_sparse_categorical_accuracy: 0.8340\n",
            "Epoch 2/100\n",
            " 20/375 [>.............................] - ETA: 1s - loss: 0.5636 - sparse_categorical_accuracy: 0.7887"
          ]
        },
        {
          "output_type": "stream",
          "name": "stderr",
          "text": [
            "/usr/local/lib/python3.10/dist-packages/keras/src/engine/training.py:3103: UserWarning: You are saving your model as an HDF5 file via `model.save()`. This file format is considered legacy. We recommend using instead the native Keras format, e.g. `model.save('my_model.keras')`.\n",
            "  saving_api.save_model(\n"
          ]
        },
        {
          "output_type": "stream",
          "name": "stdout",
          "text": [
            "375/375 [==============================] - 2s 6ms/step - loss: 0.5329 - sparse_categorical_accuracy: 0.8062 - val_loss: 0.4189 - val_sparse_categorical_accuracy: 0.8516\n",
            "Epoch 3/100\n",
            "375/375 [==============================] - 2s 6ms/step - loss: 0.4806 - sparse_categorical_accuracy: 0.8241 - val_loss: 0.3844 - val_sparse_categorical_accuracy: 0.8584\n",
            "Epoch 4/100\n",
            "375/375 [==============================] - 2s 6ms/step - loss: 0.4528 - sparse_categorical_accuracy: 0.8319 - val_loss: 0.3597 - val_sparse_categorical_accuracy: 0.8677\n",
            "Epoch 5/100\n",
            "375/375 [==============================] - 2s 6ms/step - loss: 0.4320 - sparse_categorical_accuracy: 0.8393 - val_loss: 0.3681 - val_sparse_categorical_accuracy: 0.8643\n",
            "Epoch 6/100\n",
            "375/375 [==============================] - 3s 7ms/step - loss: 0.4223 - sparse_categorical_accuracy: 0.8428 - val_loss: 0.3460 - val_sparse_categorical_accuracy: 0.8732\n",
            "Epoch 7/100\n",
            "375/375 [==============================] - 2s 6ms/step - loss: 0.4084 - sparse_categorical_accuracy: 0.8474 - val_loss: 0.3452 - val_sparse_categorical_accuracy: 0.8725\n",
            "Epoch 8/100\n",
            "375/375 [==============================] - 2s 6ms/step - loss: 0.3954 - sparse_categorical_accuracy: 0.8516 - val_loss: 0.3370 - val_sparse_categorical_accuracy: 0.8754\n",
            "Epoch 9/100\n",
            "375/375 [==============================] - 2s 6ms/step - loss: 0.3880 - sparse_categorical_accuracy: 0.8545 - val_loss: 0.3413 - val_sparse_categorical_accuracy: 0.8728\n",
            "Epoch 10/100\n",
            "375/375 [==============================] - 2s 6ms/step - loss: 0.3808 - sparse_categorical_accuracy: 0.8602 - val_loss: 0.3405 - val_sparse_categorical_accuracy: 0.8733\n",
            "Epoch 11/100\n",
            "375/375 [==============================] - 2s 6ms/step - loss: 0.3746 - sparse_categorical_accuracy: 0.8585 - val_loss: 0.3568 - val_sparse_categorical_accuracy: 0.8666\n",
            "Epoch 12/100\n",
            "375/375 [==============================] - 2s 6ms/step - loss: 0.3694 - sparse_categorical_accuracy: 0.8606 - val_loss: 0.3525 - val_sparse_categorical_accuracy: 0.8698\n",
            "Epoch 13/100\n",
            "375/375 [==============================] - 2s 6ms/step - loss: 0.3645 - sparse_categorical_accuracy: 0.8635 - val_loss: 0.3389 - val_sparse_categorical_accuracy: 0.8763\n",
            "Epoch 14/100\n",
            "375/375 [==============================] - 2s 6ms/step - loss: 0.3584 - sparse_categorical_accuracy: 0.8635 - val_loss: 0.3154 - val_sparse_categorical_accuracy: 0.8852\n",
            "Epoch 15/100\n",
            "375/375 [==============================] - 2s 6ms/step - loss: 0.3531 - sparse_categorical_accuracy: 0.8674 - val_loss: 0.3067 - val_sparse_categorical_accuracy: 0.8856\n",
            "Epoch 16/100\n",
            "375/375 [==============================] - 2s 6ms/step - loss: 0.3471 - sparse_categorical_accuracy: 0.8699 - val_loss: 0.3065 - val_sparse_categorical_accuracy: 0.8860\n",
            "Epoch 17/100\n",
            "375/375 [==============================] - 3s 7ms/step - loss: 0.3464 - sparse_categorical_accuracy: 0.8687 - val_loss: 0.3105 - val_sparse_categorical_accuracy: 0.8822\n",
            "Epoch 18/100\n",
            "375/375 [==============================] - 2s 6ms/step - loss: 0.3428 - sparse_categorical_accuracy: 0.8708 - val_loss: 0.3079 - val_sparse_categorical_accuracy: 0.8852\n",
            "Epoch 19/100\n",
            "375/375 [==============================] - 2s 6ms/step - loss: 0.3398 - sparse_categorical_accuracy: 0.8721 - val_loss: 0.3114 - val_sparse_categorical_accuracy: 0.8845\n",
            "Epoch 20/100\n",
            "375/375 [==============================] - 2s 6ms/step - loss: 0.3359 - sparse_categorical_accuracy: 0.8723 - val_loss: 0.3055 - val_sparse_categorical_accuracy: 0.8888\n",
            "Epoch 21/100\n",
            "375/375 [==============================] - 2s 6ms/step - loss: 0.3313 - sparse_categorical_accuracy: 0.8744 - val_loss: 0.3004 - val_sparse_categorical_accuracy: 0.8892\n",
            "Epoch 22/100\n",
            "375/375 [==============================] - 2s 6ms/step - loss: 0.3320 - sparse_categorical_accuracy: 0.8727 - val_loss: 0.3046 - val_sparse_categorical_accuracy: 0.8853\n",
            "Epoch 23/100\n",
            "375/375 [==============================] - 2s 6ms/step - loss: 0.3304 - sparse_categorical_accuracy: 0.8764 - val_loss: 0.3068 - val_sparse_categorical_accuracy: 0.8866\n",
            "Epoch 24/100\n",
            "375/375 [==============================] - 2s 6ms/step - loss: 0.3224 - sparse_categorical_accuracy: 0.8777 - val_loss: 0.3089 - val_sparse_categorical_accuracy: 0.8888\n",
            "Epoch 25/100\n",
            "375/375 [==============================] - 2s 6ms/step - loss: 0.3184 - sparse_categorical_accuracy: 0.8796 - val_loss: 0.3066 - val_sparse_categorical_accuracy: 0.8842\n",
            "Epoch 26/100\n",
            "375/375 [==============================] - 2s 5ms/step - loss: 0.3144 - sparse_categorical_accuracy: 0.8792 - val_loss: 0.2991 - val_sparse_categorical_accuracy: 0.8892\n",
            "Epoch 27/100\n",
            "375/375 [==============================] - 2s 6ms/step - loss: 0.3170 - sparse_categorical_accuracy: 0.8801 - val_loss: 0.2885 - val_sparse_categorical_accuracy: 0.8915\n",
            "Epoch 28/100\n",
            "375/375 [==============================] - 2s 6ms/step - loss: 0.3172 - sparse_categorical_accuracy: 0.8794 - val_loss: 0.3079 - val_sparse_categorical_accuracy: 0.8865\n",
            "Epoch 29/100\n",
            "375/375 [==============================] - 2s 6ms/step - loss: 0.3143 - sparse_categorical_accuracy: 0.8786 - val_loss: 0.2910 - val_sparse_categorical_accuracy: 0.8937\n",
            "Epoch 30/100\n",
            "375/375 [==============================] - 2s 6ms/step - loss: 0.3111 - sparse_categorical_accuracy: 0.8806 - val_loss: 0.2977 - val_sparse_categorical_accuracy: 0.8889\n",
            "Epoch 31/100\n",
            "375/375 [==============================] - 2s 6ms/step - loss: 0.3064 - sparse_categorical_accuracy: 0.8842 - val_loss: 0.2872 - val_sparse_categorical_accuracy: 0.8957\n",
            "Epoch 32/100\n",
            "375/375 [==============================] - 2s 6ms/step - loss: 0.3040 - sparse_categorical_accuracy: 0.8860 - val_loss: 0.2892 - val_sparse_categorical_accuracy: 0.8942\n",
            "Epoch 33/100\n",
            "375/375 [==============================] - 2s 6ms/step - loss: 0.3057 - sparse_categorical_accuracy: 0.8839 - val_loss: 0.2826 - val_sparse_categorical_accuracy: 0.8969\n",
            "Epoch 34/100\n",
            "375/375 [==============================] - 2s 6ms/step - loss: 0.3012 - sparse_categorical_accuracy: 0.8860 - val_loss: 0.2886 - val_sparse_categorical_accuracy: 0.8950\n",
            "Epoch 35/100\n",
            "375/375 [==============================] - 2s 6ms/step - loss: 0.2968 - sparse_categorical_accuracy: 0.8868 - val_loss: 0.2889 - val_sparse_categorical_accuracy: 0.8968\n",
            "Epoch 36/100\n",
            "375/375 [==============================] - 2s 6ms/step - loss: 0.2985 - sparse_categorical_accuracy: 0.8858 - val_loss: 0.2828 - val_sparse_categorical_accuracy: 0.8943\n",
            "Epoch 37/100\n",
            "375/375 [==============================] - 2s 5ms/step - loss: 0.2967 - sparse_categorical_accuracy: 0.8868 - val_loss: 0.2856 - val_sparse_categorical_accuracy: 0.8932\n",
            "Epoch 38/100\n",
            "375/375 [==============================] - 2s 6ms/step - loss: 0.2951 - sparse_categorical_accuracy: 0.8891 - val_loss: 0.2791 - val_sparse_categorical_accuracy: 0.8979\n",
            "Epoch 39/100\n",
            "375/375 [==============================] - 2s 6ms/step - loss: 0.2942 - sparse_categorical_accuracy: 0.8879 - val_loss: 0.2806 - val_sparse_categorical_accuracy: 0.8962\n",
            "Epoch 40/100\n",
            "375/375 [==============================] - 2s 6ms/step - loss: 0.2948 - sparse_categorical_accuracy: 0.8875 - val_loss: 0.2827 - val_sparse_categorical_accuracy: 0.8955\n",
            "Epoch 41/100\n",
            "375/375 [==============================] - 2s 6ms/step - loss: 0.2883 - sparse_categorical_accuracy: 0.8907 - val_loss: 0.2874 - val_sparse_categorical_accuracy: 0.8962\n",
            "Epoch 42/100\n",
            "375/375 [==============================] - 2s 6ms/step - loss: 0.2908 - sparse_categorical_accuracy: 0.8886 - val_loss: 0.2886 - val_sparse_categorical_accuracy: 0.8902\n",
            "Epoch 43/100\n",
            "375/375 [==============================] - 2s 6ms/step - loss: 0.2859 - sparse_categorical_accuracy: 0.8914 - val_loss: 0.2876 - val_sparse_categorical_accuracy: 0.8939\n",
            "Epoch 44/100\n",
            "375/375 [==============================] - 2s 7ms/step - loss: 0.2878 - sparse_categorical_accuracy: 0.8893 - val_loss: 0.2773 - val_sparse_categorical_accuracy: 0.8995\n",
            "Epoch 45/100\n",
            "375/375 [==============================] - 2s 6ms/step - loss: 0.2867 - sparse_categorical_accuracy: 0.8909 - val_loss: 0.2781 - val_sparse_categorical_accuracy: 0.8970\n",
            "Epoch 46/100\n",
            "375/375 [==============================] - 2s 6ms/step - loss: 0.2855 - sparse_categorical_accuracy: 0.8921 - val_loss: 0.2785 - val_sparse_categorical_accuracy: 0.8976\n",
            "Epoch 47/100\n",
            "375/375 [==============================] - 2s 6ms/step - loss: 0.2831 - sparse_categorical_accuracy: 0.8935 - val_loss: 0.2798 - val_sparse_categorical_accuracy: 0.8973\n",
            "Epoch 48/100\n",
            "375/375 [==============================] - 2s 6ms/step - loss: 0.2817 - sparse_categorical_accuracy: 0.8923 - val_loss: 0.2754 - val_sparse_categorical_accuracy: 0.8955\n",
            "Epoch 49/100\n",
            "375/375 [==============================] - 3s 9ms/step - loss: 0.2829 - sparse_categorical_accuracy: 0.8923 - val_loss: 0.2769 - val_sparse_categorical_accuracy: 0.8962\n",
            "Epoch 50/100\n",
            "375/375 [==============================] - 2s 6ms/step - loss: 0.2811 - sparse_categorical_accuracy: 0.8944 - val_loss: 0.2812 - val_sparse_categorical_accuracy: 0.8971\n",
            "Epoch 51/100\n",
            "375/375 [==============================] - 2s 6ms/step - loss: 0.2801 - sparse_categorical_accuracy: 0.8937 - val_loss: 0.2789 - val_sparse_categorical_accuracy: 0.8983\n",
            "Epoch 52/100\n",
            "375/375 [==============================] - 2s 6ms/step - loss: 0.2750 - sparse_categorical_accuracy: 0.8955 - val_loss: 0.2843 - val_sparse_categorical_accuracy: 0.8963\n",
            "Epoch 53/100\n",
            "375/375 [==============================] - 2s 6ms/step - loss: 0.2794 - sparse_categorical_accuracy: 0.8928 - val_loss: 0.2887 - val_sparse_categorical_accuracy: 0.8950\n",
            "Epoch 54/100\n",
            "375/375 [==============================] - 2s 6ms/step - loss: 0.2773 - sparse_categorical_accuracy: 0.8934 - val_loss: 0.2797 - val_sparse_categorical_accuracy: 0.8984\n",
            "Epoch 55/100\n",
            "375/375 [==============================] - 2s 6ms/step - loss: 0.2762 - sparse_categorical_accuracy: 0.8934 - val_loss: 0.2722 - val_sparse_categorical_accuracy: 0.8993\n",
            "Epoch 56/100\n",
            "375/375 [==============================] - 2s 6ms/step - loss: 0.2759 - sparse_categorical_accuracy: 0.8942 - val_loss: 0.2815 - val_sparse_categorical_accuracy: 0.8983\n",
            "Epoch 57/100\n",
            "375/375 [==============================] - 2s 6ms/step - loss: 0.2749 - sparse_categorical_accuracy: 0.8933 - val_loss: 0.2806 - val_sparse_categorical_accuracy: 0.8977\n",
            "Epoch 58/100\n",
            "375/375 [==============================] - 2s 6ms/step - loss: 0.2719 - sparse_categorical_accuracy: 0.8966 - val_loss: 0.2776 - val_sparse_categorical_accuracy: 0.8991\n",
            "Epoch 59/100\n",
            "375/375 [==============================] - 2s 5ms/step - loss: 0.2742 - sparse_categorical_accuracy: 0.8946 - val_loss: 0.2769 - val_sparse_categorical_accuracy: 0.8995\n",
            "Epoch 60/100\n",
            "375/375 [==============================] - 2s 7ms/step - loss: 0.2698 - sparse_categorical_accuracy: 0.8988 - val_loss: 0.2738 - val_sparse_categorical_accuracy: 0.9004\n",
            "Epoch 61/100\n",
            "375/375 [==============================] - 2s 6ms/step - loss: 0.2676 - sparse_categorical_accuracy: 0.8993 - val_loss: 0.2702 - val_sparse_categorical_accuracy: 0.9014\n",
            "Epoch 62/100\n",
            "375/375 [==============================] - 2s 6ms/step - loss: 0.2701 - sparse_categorical_accuracy: 0.8982 - val_loss: 0.2740 - val_sparse_categorical_accuracy: 0.9000\n",
            "Epoch 63/100\n",
            "375/375 [==============================] - 2s 6ms/step - loss: 0.2684 - sparse_categorical_accuracy: 0.8972 - val_loss: 0.2822 - val_sparse_categorical_accuracy: 0.8971\n",
            "Epoch 64/100\n",
            "375/375 [==============================] - 2s 6ms/step - loss: 0.2681 - sparse_categorical_accuracy: 0.8957 - val_loss: 0.2751 - val_sparse_categorical_accuracy: 0.8992\n",
            "Epoch 65/100\n",
            "375/375 [==============================] - 2s 6ms/step - loss: 0.2645 - sparse_categorical_accuracy: 0.8990 - val_loss: 0.2687 - val_sparse_categorical_accuracy: 0.9018\n",
            "Epoch 66/100\n",
            "375/375 [==============================] - 2s 6ms/step - loss: 0.2641 - sparse_categorical_accuracy: 0.8990 - val_loss: 0.2772 - val_sparse_categorical_accuracy: 0.8991\n",
            "Epoch 67/100\n",
            "375/375 [==============================] - 2s 5ms/step - loss: 0.2671 - sparse_categorical_accuracy: 0.8989 - val_loss: 0.2768 - val_sparse_categorical_accuracy: 0.8981\n",
            "Epoch 68/100\n",
            "375/375 [==============================] - 2s 5ms/step - loss: 0.2656 - sparse_categorical_accuracy: 0.8986 - val_loss: 0.2773 - val_sparse_categorical_accuracy: 0.8998\n",
            "Epoch 69/100\n",
            "375/375 [==============================] - 2s 5ms/step - loss: 0.2645 - sparse_categorical_accuracy: 0.8983 - val_loss: 0.2669 - val_sparse_categorical_accuracy: 0.9028\n",
            "Epoch 70/100\n",
            "375/375 [==============================] - 2s 6ms/step - loss: 0.2646 - sparse_categorical_accuracy: 0.8998 - val_loss: 0.2785 - val_sparse_categorical_accuracy: 0.8982\n",
            "Epoch 71/100\n",
            "375/375 [==============================] - 3s 7ms/step - loss: 0.2641 - sparse_categorical_accuracy: 0.8992 - val_loss: 0.2736 - val_sparse_categorical_accuracy: 0.9028\n",
            "Epoch 72/100\n",
            "375/375 [==============================] - 2s 6ms/step - loss: 0.2637 - sparse_categorical_accuracy: 0.8987 - val_loss: 0.2713 - val_sparse_categorical_accuracy: 0.9014\n",
            "Epoch 73/100\n",
            "375/375 [==============================] - 2s 5ms/step - loss: 0.2618 - sparse_categorical_accuracy: 0.8995 - val_loss: 0.2671 - val_sparse_categorical_accuracy: 0.9032\n",
            "Epoch 74/100\n",
            "375/375 [==============================] - 2s 6ms/step - loss: 0.2606 - sparse_categorical_accuracy: 0.9006 - val_loss: 0.2750 - val_sparse_categorical_accuracy: 0.8996\n",
            "Epoch 75/100\n",
            "375/375 [==============================] - 2s 6ms/step - loss: 0.2602 - sparse_categorical_accuracy: 0.9003 - val_loss: 0.2726 - val_sparse_categorical_accuracy: 0.9004\n",
            "Epoch 76/100\n",
            "375/375 [==============================] - 2s 6ms/step - loss: 0.2638 - sparse_categorical_accuracy: 0.8992 - val_loss: 0.2765 - val_sparse_categorical_accuracy: 0.8997\n",
            "Epoch 77/100\n",
            "375/375 [==============================] - 2s 7ms/step - loss: 0.2598 - sparse_categorical_accuracy: 0.8999 - val_loss: 0.2796 - val_sparse_categorical_accuracy: 0.8977\n",
            "Epoch 78/100\n",
            "375/375 [==============================] - 2s 6ms/step - loss: 0.2604 - sparse_categorical_accuracy: 0.8997 - val_loss: 0.2787 - val_sparse_categorical_accuracy: 0.8982\n",
            "Epoch 79/100\n",
            "375/375 [==============================] - 2s 6ms/step - loss: 0.2574 - sparse_categorical_accuracy: 0.9013 - val_loss: 0.2744 - val_sparse_categorical_accuracy: 0.8994\n",
            "Epoch 80/100\n",
            "375/375 [==============================] - 2s 6ms/step - loss: 0.2564 - sparse_categorical_accuracy: 0.9030 - val_loss: 0.2766 - val_sparse_categorical_accuracy: 0.9020\n",
            "Epoch 81/100\n",
            "375/375 [==============================] - 2s 6ms/step - loss: 0.2605 - sparse_categorical_accuracy: 0.9014 - val_loss: 0.2706 - val_sparse_categorical_accuracy: 0.9024\n",
            "Epoch 82/100\n",
            "375/375 [==============================] - 2s 6ms/step - loss: 0.2578 - sparse_categorical_accuracy: 0.9014 - val_loss: 0.2724 - val_sparse_categorical_accuracy: 0.9000\n",
            "Epoch 83/100\n",
            "375/375 [==============================] - 2s 6ms/step - loss: 0.2545 - sparse_categorical_accuracy: 0.9031 - val_loss: 0.2702 - val_sparse_categorical_accuracy: 0.9016\n",
            "Epoch 84/100\n",
            "375/375 [==============================] - 2s 6ms/step - loss: 0.2566 - sparse_categorical_accuracy: 0.9032 - val_loss: 0.2694 - val_sparse_categorical_accuracy: 0.9022\n",
            "Epoch 85/100\n",
            "375/375 [==============================] - 2s 6ms/step - loss: 0.2586 - sparse_categorical_accuracy: 0.9019 - val_loss: 0.2779 - val_sparse_categorical_accuracy: 0.9003\n",
            "Epoch 86/100\n",
            "375/375 [==============================] - 2s 5ms/step - loss: 0.2554 - sparse_categorical_accuracy: 0.9025 - val_loss: 0.2725 - val_sparse_categorical_accuracy: 0.9007\n",
            "Epoch 87/100\n",
            "375/375 [==============================] - 2s 6ms/step - loss: 0.2538 - sparse_categorical_accuracy: 0.9030 - val_loss: 0.2712 - val_sparse_categorical_accuracy: 0.9019\n",
            "Epoch 88/100\n",
            "375/375 [==============================] - 2s 6ms/step - loss: 0.2533 - sparse_categorical_accuracy: 0.9025 - val_loss: 0.2738 - val_sparse_categorical_accuracy: 0.8997\n",
            "Epoch 89/100\n",
            "375/375 [==============================] - 2s 5ms/step - loss: 0.2555 - sparse_categorical_accuracy: 0.9027 - val_loss: 0.2745 - val_sparse_categorical_accuracy: 0.8981\n",
            "Epoch 90/100\n",
            "375/375 [==============================] - 2s 6ms/step - loss: 0.2528 - sparse_categorical_accuracy: 0.9039 - val_loss: 0.2761 - val_sparse_categorical_accuracy: 0.8982\n",
            "Epoch 91/100\n",
            "375/375 [==============================] - 2s 6ms/step - loss: 0.2511 - sparse_categorical_accuracy: 0.9041 - val_loss: 0.2734 - val_sparse_categorical_accuracy: 0.9018\n",
            "Epoch 92/100\n",
            "375/375 [==============================] - 2s 6ms/step - loss: 0.2501 - sparse_categorical_accuracy: 0.9026 - val_loss: 0.2741 - val_sparse_categorical_accuracy: 0.9007\n",
            "Epoch 93/100\n",
            "375/375 [==============================] - 2s 6ms/step - loss: 0.2480 - sparse_categorical_accuracy: 0.9047 - val_loss: 0.2672 - val_sparse_categorical_accuracy: 0.9023\n",
            "Epoch 94/100\n",
            "375/375 [==============================] - 2s 6ms/step - loss: 0.2516 - sparse_categorical_accuracy: 0.9038 - val_loss: 0.2810 - val_sparse_categorical_accuracy: 0.8984\n",
            "Epoch 95/100\n",
            "375/375 [==============================] - 2s 6ms/step - loss: 0.2489 - sparse_categorical_accuracy: 0.9046 - val_loss: 0.2749 - val_sparse_categorical_accuracy: 0.8986\n",
            "Epoch 96/100\n",
            "375/375 [==============================] - 2s 6ms/step - loss: 0.2490 - sparse_categorical_accuracy: 0.9050 - val_loss: 0.2739 - val_sparse_categorical_accuracy: 0.9017\n",
            "Epoch 97/100\n",
            "375/375 [==============================] - 2s 6ms/step - loss: 0.2496 - sparse_categorical_accuracy: 0.9044 - val_loss: 0.2738 - val_sparse_categorical_accuracy: 0.9020\n",
            "Epoch 98/100\n",
            "375/375 [==============================] - 3s 7ms/step - loss: 0.2495 - sparse_categorical_accuracy: 0.9043 - val_loss: 0.2749 - val_sparse_categorical_accuracy: 0.9006\n",
            "Epoch 99/100\n",
            "375/375 [==============================] - 2s 6ms/step - loss: 0.2482 - sparse_categorical_accuracy: 0.9046 - val_loss: 0.2717 - val_sparse_categorical_accuracy: 0.9029\n",
            "Epoch 100/100\n",
            "375/375 [==============================] - 2s 6ms/step - loss: 0.2488 - sparse_categorical_accuracy: 0.9047 - val_loss: 0.2706 - val_sparse_categorical_accuracy: 0.9023\n",
            "313/313 [==============================] - 1s 3ms/step - loss: 0.2947 - sparse_categorical_accuracy: 0.8978\n",
            "\n",
            "Test accuracy: 0.8978000283241272\n"
          ]
        }
      ]
    },
    {
      "cell_type": "code",
      "source": [
        "print('\\nhistory dict:', list(history.history.keys()))"
      ],
      "metadata": {
        "id": "CxRE-B_Q6Sii",
        "colab": {
          "base_uri": "https://localhost:8080/"
        },
        "outputId": "882729bc-6f22-4074-c842-678f59b34954"
      },
      "execution_count": 12,
      "outputs": [
        {
          "output_type": "stream",
          "name": "stdout",
          "text": [
            "\n",
            "history dict: ['loss', 'sparse_categorical_accuracy', 'val_loss', 'val_sparse_categorical_accuracy']\n"
          ]
        }
      ]
    },
    {
      "cell_type": "code",
      "source": [
        "result = model.evaluate(x_test, y_test)\n",
        "print(result)"
      ],
      "metadata": {
        "id": "YXpwRRTvTBNg",
        "colab": {
          "base_uri": "https://localhost:8080/"
        },
        "outputId": "ea12252b-77ab-416e-f837-b6dc88f7edde"
      },
      "execution_count": 13,
      "outputs": [
        {
          "output_type": "stream",
          "name": "stdout",
          "text": [
            "313/313 [==============================] - 1s 2ms/step - loss: 0.2947 - sparse_categorical_accuracy: 0.8978\n",
            "[0.2947491705417633, 0.8978000283241272]\n"
          ]
        }
      ]
    },
    {
      "cell_type": "code",
      "source": [
        "saved_model = load_model('best_model.h5')\n",
        "result = saved_model.evaluate(x_test, y_test)\n",
        "print(result)"
      ],
      "metadata": {
        "colab": {
          "base_uri": "https://localhost:8080/"
        },
        "id": "dpaZAW0vp1AZ",
        "outputId": "f19a03df-6ee3-41fb-9019-97912f880ebc"
      },
      "execution_count": 14,
      "outputs": [
        {
          "output_type": "stream",
          "name": "stdout",
          "text": [
            "313/313 [==============================] - 1s 2ms/step - loss: 0.2985 - sparse_categorical_accuracy: 0.8944\n",
            "[0.29852694272994995, 0.8944000005722046]\n"
          ]
        }
      ]
    },
    {
      "cell_type": "code",
      "source": [
        "# from keras.models import load_model\n",
        "# saved_model = load_model('best_model.h5')\n",
        "# # _, train_acc = saved_model.evaluate(x_train, y_train, verbose=0)\n",
        "# _, test_acc = saved_model.evaluate(x_test, y_test, verbose=0)\n",
        "# print('Test: %.3f' % (test_acc))"
      ],
      "metadata": {
        "id": "DR_MS9DABo_K"
      },
      "execution_count": 15,
      "outputs": []
    },
    {
      "cell_type": "code",
      "source": [
        "history_dict = history.history\n",
        "loss_values = history_dict['loss']\n",
        "val_loss_values = history_dict['val_loss']\n",
        "\n",
        "epochs = range(1, len(history_dict['loss']) + 1)\n",
        "\n",
        "plt.figure(figsize=(10, 5))\n",
        "plt.plot(epochs, loss_values, 'bo', label='Training loss')\n",
        "plt.plot(epochs, val_loss_values, 'r', label='Validation loss')\n",
        "plt.title('Training and validation loss')\n",
        "plt.xlabel('Epochs')\n",
        "plt.ylabel('Loss')\n",
        "# plt.legend()\n",
        "plt.grid(True)\n",
        "plt.show()\n",
        "1\n",
        "plt.clf()\n",
        "plt.figure(figsize=(10, 5))\n",
        "val_acc_values = history_dict['sparse_categorical_accuracy']\n",
        "plt.plot(epochs, history_dict['sparse_categorical_accuracy'], 'bo', label='Training acc')\n",
        "plt.plot(epochs, history_dict['val_sparse_categorical_accuracy'], 'r', label='Validation acc')\n",
        "plt.ylim (0.88, 0.94)\n",
        "plt.title('Training and validation accuracy')\n",
        "plt.xlabel('Epochs')\n",
        "plt.ylabel('Accuracy')\n",
        "plt.legend()\n",
        "plt.grid(True)"
      ],
      "metadata": {
        "id": "2Ll_5sGlXKMH",
        "colab": {
          "base_uri": "https://localhost:8080/",
          "height": 975
        },
        "outputId": "2581e906-bd30-4ec6-9987-63f9b02581c7"
      },
      "execution_count": 16,
      "outputs": [
        {
          "output_type": "display_data",
          "data": {
            "text/plain": [
              "<Figure size 1000x500 with 1 Axes>"
            ],
            "image/png": "[encoded data removed]"
          },
          "metadata": {}
        },
        {
          "output_type": "display_data",
          "data": {
            "text/plain": [
              "<Figure size 640x480 with 0 Axes>"
            ]
          },
          "metadata": {}
        },
        {
          "output_type": "display_data",
          "data": {
            "text/plain": [
              "<Figure size 1000x500 with 1 Axes>"
            ],
            "image/png": "[encoded data removed]"
          },
          "metadata": {}
        }
      ]
    },
    {
      "cell_type": "code",
      "source": [
        "probability_model = tf.keras.Sequential([model,\n",
        "                                         tf.keras.layers.Softmax()])"
      ],
      "metadata": {
        "id": "VzOdKAT_uV-f"
      },
      "execution_count": 17,
      "outputs": []
    },
    {
      "cell_type": "code",
      "source": [
        "predictions = probability_model.predict(x_test)"
      ],
      "metadata": {
        "id": "f4is3NFruYom",
        "colab": {
          "base_uri": "https://localhost:8080/"
        },
        "outputId": "8d88dce4-bb38-4c4c-c48f-d019de73065a"
      },
      "execution_count": 18,
      "outputs": [
        {
          "output_type": "stream",
          "name": "stdout",
          "text": [
            "313/313 [==============================] - 1s 2ms/step\n"
          ]
        }
      ]
    },
    {
      "cell_type": "code",
      "source": [
        "predictions[0]"
      ],
      "metadata": {
        "id": "82cigvlZudz_",
        "colab": {
          "base_uri": "https://localhost:8080/"
        },
        "outputId": "c99a87e6-61e4-4c24-abbe-aefd51875cce"
      },
      "execution_count": 19,
      "outputs": [
        {
          "output_type": "execute_result",
          "data": {
            "text/plain": [
              "array([0.08536188, 0.08536188, 0.08536188, 0.08536188, 0.08536188,\n",
              "       0.08542784, 0.08536188, 0.08546768, 0.08536188, 0.23157138],\n",
              "      dtype=float32)"
            ]
          },
          "metadata": {},
          "execution_count": 19
        }
      ]
    },
    {
      "cell_type": "code",
      "source": [
        "model.summary()"
      ],
      "metadata": {
        "id": "6RsQPHyYuNGe",
        "colab": {
          "base_uri": "https://localhost:8080/"
        },
        "outputId": "fe17a4a8-4059-41e3-f715-ab86b438b56f"
      },
      "execution_count": 20,
      "outputs": [
        {
          "output_type": "stream",
          "name": "stdout",
          "text": [
            "Model: \"sequential\"\n",
            "_________________________________________________________________\n",
            " Layer (type)                Output Shape              Param #   \n",
            "=================================================================\n",
            " flatten (Flatten)           (None, 784)               0         \n",
            "                                                                 \n",
            " dropout (Dropout)           (None, 784)               0         \n",
            "                                                                 \n",
            " dense (Dense)               (None, 256)               200960    \n",
            "                                                                 \n",
            " batch_normalization (Batch  (None, 256)               1024      \n",
            " Normalization)                                                  \n",
            "                                                                 \n",
            " dropout_1 (Dropout)         (None, 256)               0         \n",
            "                                                                 \n",
            " dense_1 (Dense)             (None, 512)               131584    \n",
            "                                                                 \n",
            " dropout_2 (Dropout)         (None, 512)               0         \n",
            "                                                                 \n",
            " dense_2 (Dense)             (None, 512)               262656    \n",
            "                                                                 \n",
            " batch_normalization_1 (Bat  (None, 512)               2048      \n",
            " chNormalization)                                                \n",
            "                                                                 \n",
            " dropout_3 (Dropout)         (None, 512)               0         \n",
            "                                                                 \n",
            " dense_3 (Dense)             (None, 10)                5130      \n",
            "                                                                 \n",
            "=================================================================\n",
            "Total params: 603402 (2.30 MB)\n",
            "Trainable params: 601866 (2.30 MB)\n",
            "Non-trainable params: 1536 (6.00 KB)\n",
            "_________________________________________________________________\n"
          ]
        }
      ]
    }
  ]
}