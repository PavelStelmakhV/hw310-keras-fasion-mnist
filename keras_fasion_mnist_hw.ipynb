{
  "nbformat": 4,
  "nbformat_minor": 0,
  "metadata": {
    "colab": {
      "provenance": [],
      "gpuType": "T4",
      "authorship_tag": "ABX9TyOrcWsHf/c2X8cE2G8vvsmQ",
      "include_colab_link": true
    },
    "kernelspec": {
      "name": "python3",
      "display_name": "Python 3"
    },
    "language_info": {
      "name": "python"
    },
    "accelerator": "GPU"
  },
  "cells": [
    {
      "cell_type": "markdown",
      "metadata": {
        "id": "view-in-github",
        "colab_type": "text"
      },
      "source": [
        "<a href=\"https://colab.research.google.com/github/PavelStelmakhV/hw310-keras-fasion-mnist/blob/main/keras_fasion_mnist_hw.ipynb\" target=\"_parent\"><img src=\"https://colab.research.google.com/assets/colab-badge.svg\" alt=\"Open In Colab\"/></a>"
      ]
    },
    {
      "cell_type": "code",
      "execution_count": 25,
      "metadata": {
        "id": "vv7w0bgAVQPO"
      },
      "outputs": [],
      "source": [
        "import tensorflow as tf\n",
        "import numpy as np\n",
        "import matplotlib.pyplot as plt\n",
        "import tf_keras\n",
        "\n",
        "from keras import layers\n",
        "from keras import regularizers\n",
        "from keras import callbacks\n",
        "from keras import initializers\n",
        "from keras.layers import BatchNormalization\n",
        "from keras.models import load_model"
      ]
    },
    {
      "cell_type": "code",
      "source": [
        "fashion_mnist = tf.keras.datasets.fashion_mnist\n",
        "\n",
        "(x_train, y_train), (x_test, y_test) = fashion_mnist.load_data()"
      ],
      "metadata": {
        "id": "mOpywsNAzfGB"
      },
      "execution_count": 26,
      "outputs": []
    },
    {
      "cell_type": "code",
      "source": [
        "# x_train = x_train.reshape(60000, 784).astype('float32') / 255\n",
        "# x_test = x_test.reshape(10000, 784).astype('float32') / 255\n",
        "x_train = x_train.astype('float32') / 255\n",
        "x_test = x_test.astype('float32') / 255\n",
        "\n",
        "y_train = y_train.astype('float32')\n",
        "y_test = y_test.astype('float32')\n",
        "\n",
        "# Перемешаем тренировочные данные\n",
        "# train_data = tf.data.Dataset.from_tensor_slices((x_train, y_train))\n",
        "# train_data = train_data.repeat().shuffle(5000).batch(batch_size).prefetch(1)"
      ],
      "metadata": {
        "id": "t2gucjsJ0KUi"
      },
      "execution_count": 27,
      "outputs": []
    },
    {
      "cell_type": "code",
      "source": [
        "# x_val = x_train[-10000:]\n",
        "# y_val = y_train[-10000:]\n",
        "# x_train = x_train[:-10000]\n",
        "# y_train = y_train[:-10000]"
      ],
      "metadata": {
        "id": "fLPNXab5dHwO"
      },
      "execution_count": 28,
      "outputs": []
    },
    {
      "cell_type": "code",
      "source": [],
      "metadata": {
        "id": "bU5TK5YdlnU5"
      },
      "execution_count": 28,
      "outputs": []
    },
    {
      "cell_type": "code",
      "source": [
        "w_init_tanh = initializers.glorot_normal(seed=66)\n",
        "w_init_relu = initializers.HeNormal(seed=66)\n",
        "b_init = initializers.Zeros()"
      ],
      "metadata": {
        "id": "yL9QTEtBGy4N"
      },
      "execution_count": 29,
      "outputs": []
    },
    {
      "cell_type": "code",
      "source": [
        "drop_out = 0.25"
      ],
      "metadata": {
        "id": "flsDcVTnU10J"
      },
      "execution_count": 30,
      "outputs": []
    },
    {
      "cell_type": "code",
      "source": [
        "def layer_relu(model, neurons):\n",
        "  model.add(BatchNormalization())\n",
        "  model.add(layers.Dense(neurons,\n",
        "                       activation='relu',\n",
        "                       kernel_initializer=w_init_relu,\n",
        "                       bias_initializer=b_init))\n",
        "  model.add(layers.Dropout(drop_out))\n",
        "  return model"
      ],
      "metadata": {
        "id": "ZZgs_25rKBCp"
      },
      "execution_count": 31,
      "outputs": []
    },
    {
      "cell_type": "code",
      "source": [
        "def layer_tanh(model, neurons):\n",
        "  model.add(BatchNormalization())\n",
        "  model.add(layers.Dense(neurons,\n",
        "                        activation='tanh',\n",
        "                        kernel_initializer=w_init_tanh,\n",
        "                        bias_initializer=b_init))\n",
        "  model.add(layers.Dropout(drop_out))\n",
        "  return model"
      ],
      "metadata": {
        "id": "90JLLnkBR50t"
      },
      "execution_count": 32,
      "outputs": []
    },
    {
      "cell_type": "code",
      "source": [],
      "metadata": {
        "id": "Va9BaQ9eG_uz"
      },
      "execution_count": 32,
      "outputs": []
    },
    {
      "cell_type": "code",
      "source": [
        "model = tf.keras.Sequential()\n",
        "\n",
        "# drop_out = 0.50\n",
        "neurons = 256\n",
        "\n",
        "model.add(layers.Flatten(input_shape=(28, 28)))\n",
        "model.add(layers.Dropout(drop_out))\n",
        "\n",
        "model = layer_relu(model, neurons*1)\n",
        "# model = layer_tanh(model, neurons*1)\n",
        "model = layer_tanh(model, neurons*2)\n",
        "model = layer_relu(model, neurons*2)\n",
        "\n",
        "model.add(layers.Dense(10, activation='softmax'))"
      ],
      "metadata": {
        "id": "atS39i4d0aqW"
      },
      "execution_count": 33,
      "outputs": []
    },
    {
      "cell_type": "markdown",
      "source": [
        "++++++++++++++++++++++++++++++++++++++++++++++++++++++++++++++++++++++++++++++++"
      ],
      "metadata": {
        "id": "tZO7hl7pM63y"
      }
    },
    {
      "cell_type": "code",
      "source": [
        "optimizer = tf.keras.optimizers.Nadam(learning_rate=0.0003,\n",
        "                                      beta_1=0.9,\n",
        "                                      beta_2=0.999,\n",
        "                                      epsilon=1e-05\n",
        ")"
      ],
      "metadata": {
        "id": "EzfnaqIZlfy8"
      },
      "execution_count": 34,
      "outputs": []
    },
    {
      "cell_type": "markdown",
      "source": [
        "++++++++++++++++++++++++++++++++++++++++++++++++++++++++++++++++++++++++++++++++"
      ],
      "metadata": {
        "id": "KHmBptvOM95Z"
      }
    },
    {
      "cell_type": "code",
      "source": [
        "model.compile(#optimizer='adam',\n",
        "              # optimizer='adamax',\n",
        "              optimizer=optimizer,\n",
        "              # optimizer='rmsprop',\n",
        "              # optimizer='sgd',\n",
        "              # optimizer='adadelta',\n",
        "              # loss='binary_crossentropy',\n",
        "              loss=tf.keras.losses.SparseCategoricalCrossentropy(),\n",
        "              metrics=['sparse_categorical_accuracy']) # sparse_categorical_accuracy"
      ],
      "metadata": {
        "id": "hENVaAC7ilNY"
      },
      "execution_count": 35,
      "outputs": []
    },
    {
      "cell_type": "code",
      "source": [
        "x = np.random.random((1, 28, 28))\n",
        "a = model.predict(x)\n",
        "_ = plt.hist(np.transpose(a))"
      ],
      "metadata": {
        "id": "RFgZHNNFMa8p",
        "outputId": "ae2e559d-61e0-4d0f-9025-dd747f3f9c26",
        "colab": {
          "base_uri": "https://localhost:8080/",
          "height": 448
        }
      },
      "execution_count": 36,
      "outputs": [
        {
          "output_type": "stream",
          "name": "stdout",
          "text": [
            "1/1 [==============================] - 0s 98ms/step\n"
          ]
        },
        {
          "output_type": "display_data",
          "data": {
            "text/plain": [
              "<Figure size 640x480 with 1 Axes>"
            ],
            "image/png": "[encoded data removed]"
          },
          "metadata": {}
        }
      ]
    },
    {
      "cell_type": "code",
      "source": [
        "y_pred = model.predict(x_test)"
      ],
      "metadata": {
        "id": "UDP8OKKZ8oQa",
        "outputId": "c56a26f9-6db6-4526-d90b-fbdd63804df7",
        "colab": {
          "base_uri": "https://localhost:8080/"
        }
      },
      "execution_count": 37,
      "outputs": [
        {
          "output_type": "stream",
          "name": "stdout",
          "text": [
            "313/313 [==============================] - 1s 2ms/step\n"
          ]
        }
      ]
    },
    {
      "cell_type": "code",
      "source": [
        "callback = callbacks.EarlyStopping(monitor='val_loss',\n",
        "                                   patience=50,\n",
        "                                   restore_best_weights=True,\n",
        "                                   )\n",
        "es = callbacks.EarlyStopping(monitor='val_loss', mode='min', verbose=0, patience=40)\n",
        "mc = callbacks.ModelCheckpoint('best_model.h5', monitor='sparse_categorical_accuracy', mode='max', verbose=0, save_best_only=True)\n"
      ],
      "metadata": {
        "id": "5ihU4exVlsjm"
      },
      "execution_count": 38,
      "outputs": []
    },
    {
      "cell_type": "code",
      "source": [
        "history = model.fit(x_train, y_train,\n",
        "                    epochs=200,\n",
        "                    batch_size=128,\n",
        "                    # callbacks=[callback],\n",
        "                    callbacks=[mc],\n",
        "                    verbose=1, #многословие\n",
        "                    validation_split=0.10\n",
        "                    # validation_data=(x_val, y_val)\n",
        "                    )\n",
        "test_loss, test_acc = model.evaluate(x_test, y_test)\n",
        "print('\\nTest accuracy:', test_acc)"
      ],
      "metadata": {
        "id": "FH8HcMNm233I",
        "outputId": "e6e9e53c-f515-496c-b435-4e00be3b86af",
        "colab": {
          "base_uri": "https://localhost:8080/"
        }
      },
      "execution_count": 39,
      "outputs": [
        {
          "output_type": "stream",
          "name": "stdout",
          "text": [
            "Epoch 1/200\n",
            "422/422 [==============================] - 7s 11ms/step - loss: 0.8267 - sparse_categorical_accuracy: 0.7134 - val_loss: 0.4537 - val_sparse_categorical_accuracy: 0.8288\n",
            "Epoch 2/200\n",
            "422/422 [==============================] - 4s 10ms/step - loss: 0.5687 - sparse_categorical_accuracy: 0.7946 - val_loss: 0.3980 - val_sparse_categorical_accuracy: 0.8517\n",
            "Epoch 3/200\n",
            "422/422 [==============================] - 5s 11ms/step - loss: 0.5121 - sparse_categorical_accuracy: 0.8132 - val_loss: 0.3938 - val_sparse_categorical_accuracy: 0.8523\n",
            "Epoch 4/200\n",
            "422/422 [==============================] - 6s 14ms/step - loss: 0.4699 - sparse_categorical_accuracy: 0.8264 - val_loss: 0.3682 - val_sparse_categorical_accuracy: 0.8640\n",
            "Epoch 5/200\n",
            "422/422 [==============================] - 4s 9ms/step - loss: 0.4481 - sparse_categorical_accuracy: 0.8349 - val_loss: 0.3522 - val_sparse_categorical_accuracy: 0.8703\n",
            "Epoch 6/200\n",
            "422/422 [==============================] - 3s 7ms/step - loss: 0.4323 - sparse_categorical_accuracy: 0.8386 - val_loss: 0.3472 - val_sparse_categorical_accuracy: 0.8688\n",
            "Epoch 7/200\n",
            "422/422 [==============================] - 3s 8ms/step - loss: 0.4111 - sparse_categorical_accuracy: 0.8490 - val_loss: 0.3430 - val_sparse_categorical_accuracy: 0.8747\n",
            "Epoch 8/200\n",
            "422/422 [==============================] - 3s 7ms/step - loss: 0.4027 - sparse_categorical_accuracy: 0.8509 - val_loss: 0.3331 - val_sparse_categorical_accuracy: 0.8747\n",
            "Epoch 9/200\n",
            "422/422 [==============================] - 3s 7ms/step - loss: 0.3902 - sparse_categorical_accuracy: 0.8545 - val_loss: 0.3312 - val_sparse_categorical_accuracy: 0.8778\n",
            "Epoch 10/200\n",
            "422/422 [==============================] - 3s 7ms/step - loss: 0.3824 - sparse_categorical_accuracy: 0.8575 - val_loss: 0.3222 - val_sparse_categorical_accuracy: 0.8787\n",
            "Epoch 11/200\n",
            "422/422 [==============================] - 3s 8ms/step - loss: 0.3780 - sparse_categorical_accuracy: 0.8602 - val_loss: 0.3158 - val_sparse_categorical_accuracy: 0.8830\n",
            "Epoch 12/200\n",
            "422/422 [==============================] - 3s 7ms/step - loss: 0.3698 - sparse_categorical_accuracy: 0.8610 - val_loss: 0.3139 - val_sparse_categorical_accuracy: 0.8838\n",
            "Epoch 13/200\n",
            "422/422 [==============================] - 3s 7ms/step - loss: 0.3591 - sparse_categorical_accuracy: 0.8657 - val_loss: 0.3168 - val_sparse_categorical_accuracy: 0.8833\n",
            "Epoch 14/200\n",
            "422/422 [==============================] - 3s 7ms/step - loss: 0.3579 - sparse_categorical_accuracy: 0.8664 - val_loss: 0.3157 - val_sparse_categorical_accuracy: 0.8837\n",
            "Epoch 15/200\n",
            "422/422 [==============================] - 3s 8ms/step - loss: 0.3473 - sparse_categorical_accuracy: 0.8694 - val_loss: 0.3121 - val_sparse_categorical_accuracy: 0.8858\n",
            "Epoch 16/200\n",
            "422/422 [==============================] - 3s 7ms/step - loss: 0.3405 - sparse_categorical_accuracy: 0.8713 - val_loss: 0.3085 - val_sparse_categorical_accuracy: 0.8852\n",
            "Epoch 17/200\n",
            "422/422 [==============================] - 3s 7ms/step - loss: 0.3429 - sparse_categorical_accuracy: 0.8722 - val_loss: 0.2991 - val_sparse_categorical_accuracy: 0.8903\n",
            "Epoch 18/200\n",
            "422/422 [==============================] - 3s 7ms/step - loss: 0.3350 - sparse_categorical_accuracy: 0.8726 - val_loss: 0.2995 - val_sparse_categorical_accuracy: 0.8900\n",
            "Epoch 19/200\n",
            "422/422 [==============================] - 3s 8ms/step - loss: 0.3277 - sparse_categorical_accuracy: 0.8746 - val_loss: 0.3049 - val_sparse_categorical_accuracy: 0.8887\n",
            "Epoch 20/200\n",
            "422/422 [==============================] - 3s 7ms/step - loss: 0.3278 - sparse_categorical_accuracy: 0.8758 - val_loss: 0.3032 - val_sparse_categorical_accuracy: 0.8882\n",
            "Epoch 21/200\n",
            "422/422 [==============================] - 3s 7ms/step - loss: 0.3255 - sparse_categorical_accuracy: 0.8781 - val_loss: 0.2998 - val_sparse_categorical_accuracy: 0.8893\n",
            "Epoch 22/200\n",
            "422/422 [==============================] - 3s 7ms/step - loss: 0.3235 - sparse_categorical_accuracy: 0.8795 - val_loss: 0.2962 - val_sparse_categorical_accuracy: 0.8913\n",
            "Epoch 23/200\n",
            "422/422 [==============================] - 3s 8ms/step - loss: 0.3191 - sparse_categorical_accuracy: 0.8797 - val_loss: 0.2911 - val_sparse_categorical_accuracy: 0.8933\n",
            "Epoch 24/200\n",
            "422/422 [==============================] - 3s 7ms/step - loss: 0.3098 - sparse_categorical_accuracy: 0.8836 - val_loss: 0.2878 - val_sparse_categorical_accuracy: 0.8942\n",
            "Epoch 25/200\n",
            "422/422 [==============================] - 3s 7ms/step - loss: 0.3111 - sparse_categorical_accuracy: 0.8830 - val_loss: 0.2904 - val_sparse_categorical_accuracy: 0.8922\n",
            "Epoch 26/200\n",
            "422/422 [==============================] - 4s 9ms/step - loss: 0.3081 - sparse_categorical_accuracy: 0.8821 - val_loss: 0.2933 - val_sparse_categorical_accuracy: 0.8925\n",
            "Epoch 27/200\n",
            "422/422 [==============================] - 3s 8ms/step - loss: 0.3064 - sparse_categorical_accuracy: 0.8843 - val_loss: 0.2876 - val_sparse_categorical_accuracy: 0.8972\n",
            "Epoch 28/200\n",
            "422/422 [==============================] - 3s 7ms/step - loss: 0.3033 - sparse_categorical_accuracy: 0.8848 - val_loss: 0.2882 - val_sparse_categorical_accuracy: 0.8937\n",
            "Epoch 29/200\n",
            "422/422 [==============================] - 3s 7ms/step - loss: 0.2992 - sparse_categorical_accuracy: 0.8868 - val_loss: 0.2874 - val_sparse_categorical_accuracy: 0.8928\n",
            "Epoch 30/200\n",
            "422/422 [==============================] - 3s 8ms/step - loss: 0.2974 - sparse_categorical_accuracy: 0.8878 - val_loss: 0.2871 - val_sparse_categorical_accuracy: 0.8948\n",
            "Epoch 31/200\n",
            "422/422 [==============================] - 3s 7ms/step - loss: 0.2950 - sparse_categorical_accuracy: 0.8875 - val_loss: 0.2853 - val_sparse_categorical_accuracy: 0.8942\n",
            "Epoch 32/200\n",
            "422/422 [==============================] - 3s 7ms/step - loss: 0.2978 - sparse_categorical_accuracy: 0.8880 - val_loss: 0.2829 - val_sparse_categorical_accuracy: 0.8962\n",
            "Epoch 33/200\n",
            "422/422 [==============================] - 3s 7ms/step - loss: 0.2901 - sparse_categorical_accuracy: 0.8906 - val_loss: 0.2851 - val_sparse_categorical_accuracy: 0.8950\n",
            "Epoch 34/200\n",
            "422/422 [==============================] - 4s 8ms/step - loss: 0.2899 - sparse_categorical_accuracy: 0.8888 - val_loss: 0.2783 - val_sparse_categorical_accuracy: 0.8978\n",
            "Epoch 35/200\n",
            "422/422 [==============================] - 3s 7ms/step - loss: 0.2905 - sparse_categorical_accuracy: 0.8896 - val_loss: 0.2798 - val_sparse_categorical_accuracy: 0.8970\n",
            "Epoch 36/200\n",
            "422/422 [==============================] - 3s 7ms/step - loss: 0.2892 - sparse_categorical_accuracy: 0.8895 - val_loss: 0.2795 - val_sparse_categorical_accuracy: 0.8985\n",
            "Epoch 37/200\n",
            "422/422 [==============================] - 3s 7ms/step - loss: 0.2861 - sparse_categorical_accuracy: 0.8913 - val_loss: 0.2800 - val_sparse_categorical_accuracy: 0.8952\n",
            "Epoch 38/200\n",
            "422/422 [==============================] - 3s 8ms/step - loss: 0.2827 - sparse_categorical_accuracy: 0.8913 - val_loss: 0.2769 - val_sparse_categorical_accuracy: 0.8980\n",
            "Epoch 39/200\n",
            "422/422 [==============================] - 3s 7ms/step - loss: 0.2799 - sparse_categorical_accuracy: 0.8940 - val_loss: 0.2779 - val_sparse_categorical_accuracy: 0.8995\n",
            "Epoch 40/200\n",
            "422/422 [==============================] - 3s 7ms/step - loss: 0.2774 - sparse_categorical_accuracy: 0.8936 - val_loss: 0.2765 - val_sparse_categorical_accuracy: 0.8993\n",
            "Epoch 41/200\n",
            "422/422 [==============================] - 3s 7ms/step - loss: 0.2760 - sparse_categorical_accuracy: 0.8949 - val_loss: 0.2725 - val_sparse_categorical_accuracy: 0.9002\n",
            "Epoch 42/200\n",
            "422/422 [==============================] - 3s 8ms/step - loss: 0.2756 - sparse_categorical_accuracy: 0.8945 - val_loss: 0.2748 - val_sparse_categorical_accuracy: 0.8980\n",
            "Epoch 43/200\n",
            "422/422 [==============================] - 3s 7ms/step - loss: 0.2737 - sparse_categorical_accuracy: 0.8947 - val_loss: 0.2795 - val_sparse_categorical_accuracy: 0.9000\n",
            "Epoch 44/200\n",
            "422/422 [==============================] - 3s 7ms/step - loss: 0.2743 - sparse_categorical_accuracy: 0.8956 - val_loss: 0.2756 - val_sparse_categorical_accuracy: 0.8983\n",
            "Epoch 45/200\n",
            "422/422 [==============================] - 3s 8ms/step - loss: 0.2693 - sparse_categorical_accuracy: 0.8972 - val_loss: 0.2791 - val_sparse_categorical_accuracy: 0.8987\n",
            "Epoch 46/200\n",
            "422/422 [==============================] - 3s 8ms/step - loss: 0.2740 - sparse_categorical_accuracy: 0.8957 - val_loss: 0.2776 - val_sparse_categorical_accuracy: 0.8950\n",
            "Epoch 47/200\n",
            "422/422 [==============================] - 3s 7ms/step - loss: 0.2674 - sparse_categorical_accuracy: 0.8962 - val_loss: 0.2761 - val_sparse_categorical_accuracy: 0.8992\n",
            "Epoch 48/200\n",
            "422/422 [==============================] - 3s 7ms/step - loss: 0.2663 - sparse_categorical_accuracy: 0.8980 - val_loss: 0.2757 - val_sparse_categorical_accuracy: 0.9010\n",
            "Epoch 49/200\n",
            "422/422 [==============================] - 3s 7ms/step - loss: 0.2689 - sparse_categorical_accuracy: 0.8978 - val_loss: 0.2699 - val_sparse_categorical_accuracy: 0.9005\n",
            "Epoch 50/200\n",
            "422/422 [==============================] - 3s 8ms/step - loss: 0.2663 - sparse_categorical_accuracy: 0.8976 - val_loss: 0.2672 - val_sparse_categorical_accuracy: 0.9037\n",
            "Epoch 51/200\n",
            "422/422 [==============================] - 3s 7ms/step - loss: 0.2645 - sparse_categorical_accuracy: 0.8991 - val_loss: 0.2758 - val_sparse_categorical_accuracy: 0.9002\n",
            "Epoch 52/200\n",
            "422/422 [==============================] - 3s 7ms/step - loss: 0.2637 - sparse_categorical_accuracy: 0.8995 - val_loss: 0.2735 - val_sparse_categorical_accuracy: 0.9022\n",
            "Epoch 53/200\n",
            "422/422 [==============================] - 3s 8ms/step - loss: 0.2640 - sparse_categorical_accuracy: 0.8983 - val_loss: 0.2736 - val_sparse_categorical_accuracy: 0.8978\n",
            "Epoch 54/200\n",
            "422/422 [==============================] - 3s 8ms/step - loss: 0.2591 - sparse_categorical_accuracy: 0.8999 - val_loss: 0.2727 - val_sparse_categorical_accuracy: 0.8988\n",
            "Epoch 55/200\n",
            "422/422 [==============================] - 3s 7ms/step - loss: 0.2621 - sparse_categorical_accuracy: 0.8992 - val_loss: 0.2740 - val_sparse_categorical_accuracy: 0.9030\n",
            "Epoch 56/200\n",
            "422/422 [==============================] - 3s 7ms/step - loss: 0.2598 - sparse_categorical_accuracy: 0.8999 - val_loss: 0.2693 - val_sparse_categorical_accuracy: 0.9023\n",
            "Epoch 57/200\n",
            "422/422 [==============================] - 3s 8ms/step - loss: 0.2570 - sparse_categorical_accuracy: 0.9017 - val_loss: 0.2670 - val_sparse_categorical_accuracy: 0.9023\n",
            "Epoch 58/200\n",
            "422/422 [==============================] - 3s 7ms/step - loss: 0.2559 - sparse_categorical_accuracy: 0.9021 - val_loss: 0.2735 - val_sparse_categorical_accuracy: 0.8988\n",
            "Epoch 59/200\n",
            "422/422 [==============================] - 3s 7ms/step - loss: 0.2526 - sparse_categorical_accuracy: 0.9041 - val_loss: 0.2690 - val_sparse_categorical_accuracy: 0.9010\n",
            "Epoch 60/200\n",
            "422/422 [==============================] - 3s 7ms/step - loss: 0.2525 - sparse_categorical_accuracy: 0.9037 - val_loss: 0.2689 - val_sparse_categorical_accuracy: 0.9017\n",
            "Epoch 61/200\n",
            "422/422 [==============================] - 3s 8ms/step - loss: 0.2519 - sparse_categorical_accuracy: 0.9029 - val_loss: 0.2708 - val_sparse_categorical_accuracy: 0.9022\n",
            "Epoch 62/200\n",
            "422/422 [==============================] - 3s 7ms/step - loss: 0.2544 - sparse_categorical_accuracy: 0.9018 - val_loss: 0.2682 - val_sparse_categorical_accuracy: 0.9027\n",
            "Epoch 63/200\n",
            "422/422 [==============================] - 3s 7ms/step - loss: 0.2508 - sparse_categorical_accuracy: 0.9031 - val_loss: 0.2708 - val_sparse_categorical_accuracy: 0.9040\n",
            "Epoch 64/200\n",
            "422/422 [==============================] - 3s 7ms/step - loss: 0.2500 - sparse_categorical_accuracy: 0.9050 - val_loss: 0.2700 - val_sparse_categorical_accuracy: 0.9012\n",
            "Epoch 65/200\n",
            "422/422 [==============================] - 3s 8ms/step - loss: 0.2484 - sparse_categorical_accuracy: 0.9048 - val_loss: 0.2754 - val_sparse_categorical_accuracy: 0.8998\n",
            "Epoch 66/200\n",
            "422/422 [==============================] - 3s 7ms/step - loss: 0.2505 - sparse_categorical_accuracy: 0.9047 - val_loss: 0.2639 - val_sparse_categorical_accuracy: 0.9040\n",
            "Epoch 67/200\n",
            "422/422 [==============================] - 3s 7ms/step - loss: 0.2492 - sparse_categorical_accuracy: 0.9045 - val_loss: 0.2663 - val_sparse_categorical_accuracy: 0.9050\n",
            "Epoch 68/200\n",
            "422/422 [==============================] - 3s 7ms/step - loss: 0.2431 - sparse_categorical_accuracy: 0.9055 - val_loss: 0.2624 - val_sparse_categorical_accuracy: 0.9052\n",
            "Epoch 69/200\n",
            "422/422 [==============================] - 3s 8ms/step - loss: 0.2461 - sparse_categorical_accuracy: 0.9051 - val_loss: 0.2705 - val_sparse_categorical_accuracy: 0.9028\n",
            "Epoch 70/200\n",
            "422/422 [==============================] - 3s 7ms/step - loss: 0.2433 - sparse_categorical_accuracy: 0.9066 - val_loss: 0.2714 - val_sparse_categorical_accuracy: 0.9018\n",
            "Epoch 71/200\n",
            "422/422 [==============================] - 3s 7ms/step - loss: 0.2444 - sparse_categorical_accuracy: 0.9061 - val_loss: 0.2706 - val_sparse_categorical_accuracy: 0.9048\n",
            "Epoch 72/200\n",
            "422/422 [==============================] - 3s 7ms/step - loss: 0.2425 - sparse_categorical_accuracy: 0.9056 - val_loss: 0.2730 - val_sparse_categorical_accuracy: 0.9030\n",
            "Epoch 73/200\n",
            "422/422 [==============================] - 3s 8ms/step - loss: 0.2429 - sparse_categorical_accuracy: 0.9061 - val_loss: 0.2695 - val_sparse_categorical_accuracy: 0.9037\n",
            "Epoch 74/200\n",
            "422/422 [==============================] - 3s 7ms/step - loss: 0.2426 - sparse_categorical_accuracy: 0.9063 - val_loss: 0.2648 - val_sparse_categorical_accuracy: 0.9052\n",
            "Epoch 75/200\n",
            "422/422 [==============================] - 3s 7ms/step - loss: 0.2415 - sparse_categorical_accuracy: 0.9073 - val_loss: 0.2681 - val_sparse_categorical_accuracy: 0.9018\n",
            "Epoch 76/200\n",
            "422/422 [==============================] - 3s 7ms/step - loss: 0.2401 - sparse_categorical_accuracy: 0.9082 - val_loss: 0.2689 - val_sparse_categorical_accuracy: 0.9070\n",
            "Epoch 77/200\n",
            "422/422 [==============================] - 3s 8ms/step - loss: 0.2382 - sparse_categorical_accuracy: 0.9089 - val_loss: 0.2701 - val_sparse_categorical_accuracy: 0.9047\n",
            "Epoch 78/200\n",
            "422/422 [==============================] - 3s 7ms/step - loss: 0.2388 - sparse_categorical_accuracy: 0.9082 - val_loss: 0.2742 - val_sparse_categorical_accuracy: 0.9045\n",
            "Epoch 79/200\n",
            "422/422 [==============================] - 3s 7ms/step - loss: 0.2396 - sparse_categorical_accuracy: 0.9087 - val_loss: 0.2697 - val_sparse_categorical_accuracy: 0.9025\n",
            "Epoch 80/200\n",
            "422/422 [==============================] - 3s 7ms/step - loss: 0.2381 - sparse_categorical_accuracy: 0.9089 - val_loss: 0.2679 - val_sparse_categorical_accuracy: 0.9030\n",
            "Epoch 81/200\n",
            "422/422 [==============================] - 3s 8ms/step - loss: 0.2376 - sparse_categorical_accuracy: 0.9091 - val_loss: 0.2676 - val_sparse_categorical_accuracy: 0.9032\n",
            "Epoch 82/200\n",
            "422/422 [==============================] - 3s 7ms/step - loss: 0.2382 - sparse_categorical_accuracy: 0.9079 - val_loss: 0.2704 - val_sparse_categorical_accuracy: 0.9013\n",
            "Epoch 83/200\n",
            "422/422 [==============================] - 3s 7ms/step - loss: 0.2361 - sparse_categorical_accuracy: 0.9087 - val_loss: 0.2648 - val_sparse_categorical_accuracy: 0.9042\n",
            "Epoch 84/200\n",
            "422/422 [==============================] - 3s 7ms/step - loss: 0.2328 - sparse_categorical_accuracy: 0.9091 - val_loss: 0.2718 - val_sparse_categorical_accuracy: 0.9067\n",
            "Epoch 85/200\n",
            "422/422 [==============================] - 3s 8ms/step - loss: 0.2377 - sparse_categorical_accuracy: 0.9094 - val_loss: 0.2688 - val_sparse_categorical_accuracy: 0.9052\n",
            "Epoch 86/200\n",
            "422/422 [==============================] - 3s 7ms/step - loss: 0.2346 - sparse_categorical_accuracy: 0.9102 - val_loss: 0.2715 - val_sparse_categorical_accuracy: 0.9018\n",
            "Epoch 87/200\n",
            "422/422 [==============================] - 3s 7ms/step - loss: 0.2323 - sparse_categorical_accuracy: 0.9111 - val_loss: 0.2704 - val_sparse_categorical_accuracy: 0.9025\n",
            "Epoch 88/200\n",
            "422/422 [==============================] - 3s 7ms/step - loss: 0.2313 - sparse_categorical_accuracy: 0.9121 - val_loss: 0.2646 - val_sparse_categorical_accuracy: 0.9060\n",
            "Epoch 89/200\n",
            "422/422 [==============================] - 3s 8ms/step - loss: 0.2298 - sparse_categorical_accuracy: 0.9118 - val_loss: 0.2683 - val_sparse_categorical_accuracy: 0.9068\n",
            "Epoch 90/200\n",
            "422/422 [==============================] - 3s 7ms/step - loss: 0.2283 - sparse_categorical_accuracy: 0.9117 - val_loss: 0.2668 - val_sparse_categorical_accuracy: 0.9045\n",
            "Epoch 91/200\n",
            "422/422 [==============================] - 3s 7ms/step - loss: 0.2335 - sparse_categorical_accuracy: 0.9096 - val_loss: 0.2689 - val_sparse_categorical_accuracy: 0.9053\n",
            "Epoch 92/200\n",
            "422/422 [==============================] - 3s 7ms/step - loss: 0.2271 - sparse_categorical_accuracy: 0.9123 - val_loss: 0.2656 - val_sparse_categorical_accuracy: 0.9053\n",
            "Epoch 93/200\n",
            "422/422 [==============================] - 3s 8ms/step - loss: 0.2283 - sparse_categorical_accuracy: 0.9125 - val_loss: 0.2642 - val_sparse_categorical_accuracy: 0.9048\n",
            "Epoch 94/200\n",
            "422/422 [==============================] - 3s 7ms/step - loss: 0.2324 - sparse_categorical_accuracy: 0.9108 - val_loss: 0.2666 - val_sparse_categorical_accuracy: 0.9028\n",
            "Epoch 95/200\n",
            "422/422 [==============================] - 3s 7ms/step - loss: 0.2294 - sparse_categorical_accuracy: 0.9112 - val_loss: 0.2685 - val_sparse_categorical_accuracy: 0.9023\n",
            "Epoch 96/200\n",
            "422/422 [==============================] - 3s 7ms/step - loss: 0.2248 - sparse_categorical_accuracy: 0.9142 - val_loss: 0.2696 - val_sparse_categorical_accuracy: 0.9033\n",
            "Epoch 97/200\n",
            "422/422 [==============================] - 3s 8ms/step - loss: 0.2268 - sparse_categorical_accuracy: 0.9110 - val_loss: 0.2642 - val_sparse_categorical_accuracy: 0.9070\n",
            "Epoch 98/200\n",
            "422/422 [==============================] - 3s 7ms/step - loss: 0.2269 - sparse_categorical_accuracy: 0.9122 - val_loss: 0.2682 - val_sparse_categorical_accuracy: 0.9052\n",
            "Epoch 99/200\n",
            "422/422 [==============================] - 3s 7ms/step - loss: 0.2262 - sparse_categorical_accuracy: 0.9131 - val_loss: 0.2694 - val_sparse_categorical_accuracy: 0.9067\n",
            "Epoch 100/200\n",
            "422/422 [==============================] - 3s 7ms/step - loss: 0.2286 - sparse_categorical_accuracy: 0.9126 - val_loss: 0.2669 - val_sparse_categorical_accuracy: 0.9057\n",
            "Epoch 101/200\n",
            "422/422 [==============================] - 3s 8ms/step - loss: 0.2233 - sparse_categorical_accuracy: 0.9131 - val_loss: 0.2666 - val_sparse_categorical_accuracy: 0.9060\n",
            "Epoch 102/200\n",
            "422/422 [==============================] - 3s 7ms/step - loss: 0.2234 - sparse_categorical_accuracy: 0.9148 - val_loss: 0.2644 - val_sparse_categorical_accuracy: 0.9063\n",
            "Epoch 103/200\n",
            "422/422 [==============================] - 3s 7ms/step - loss: 0.2255 - sparse_categorical_accuracy: 0.9134 - val_loss: 0.2677 - val_sparse_categorical_accuracy: 0.9057\n",
            "Epoch 104/200\n",
            "422/422 [==============================] - 4s 8ms/step - loss: 0.2198 - sparse_categorical_accuracy: 0.9150 - val_loss: 0.2673 - val_sparse_categorical_accuracy: 0.9058\n",
            "Epoch 105/200\n",
            "422/422 [==============================] - 3s 8ms/step - loss: 0.2245 - sparse_categorical_accuracy: 0.9134 - val_loss: 0.2675 - val_sparse_categorical_accuracy: 0.9060\n",
            "Epoch 106/200\n",
            "422/422 [==============================] - 3s 7ms/step - loss: 0.2260 - sparse_categorical_accuracy: 0.9119 - val_loss: 0.2698 - val_sparse_categorical_accuracy: 0.9030\n",
            "Epoch 107/200\n",
            "422/422 [==============================] - 3s 7ms/step - loss: 0.2242 - sparse_categorical_accuracy: 0.9137 - val_loss: 0.2705 - val_sparse_categorical_accuracy: 0.9027\n",
            "Epoch 108/200\n",
            "422/422 [==============================] - 4s 8ms/step - loss: 0.2239 - sparse_categorical_accuracy: 0.9138 - val_loss: 0.2669 - val_sparse_categorical_accuracy: 0.9040\n",
            "Epoch 109/200\n",
            "422/422 [==============================] - 3s 7ms/step - loss: 0.2284 - sparse_categorical_accuracy: 0.9128 - val_loss: 0.2675 - val_sparse_categorical_accuracy: 0.9078\n",
            "Epoch 110/200\n",
            "422/422 [==============================] - 3s 7ms/step - loss: 0.2220 - sparse_categorical_accuracy: 0.9147 - val_loss: 0.2708 - val_sparse_categorical_accuracy: 0.9060\n",
            "Epoch 111/200\n",
            "422/422 [==============================] - 3s 7ms/step - loss: 0.2228 - sparse_categorical_accuracy: 0.9140 - val_loss: 0.2674 - val_sparse_categorical_accuracy: 0.9070\n",
            "Epoch 112/200\n",
            "422/422 [==============================] - 3s 8ms/step - loss: 0.2194 - sparse_categorical_accuracy: 0.9154 - val_loss: 0.2633 - val_sparse_categorical_accuracy: 0.9050\n",
            "Epoch 113/200\n",
            "422/422 [==============================] - 3s 7ms/step - loss: 0.2184 - sparse_categorical_accuracy: 0.9154 - val_loss: 0.2698 - val_sparse_categorical_accuracy: 0.9073\n",
            "Epoch 114/200\n",
            "422/422 [==============================] - 3s 7ms/step - loss: 0.2167 - sparse_categorical_accuracy: 0.9174 - val_loss: 0.2734 - val_sparse_categorical_accuracy: 0.9047\n",
            "Epoch 115/200\n",
            "422/422 [==============================] - 3s 7ms/step - loss: 0.2218 - sparse_categorical_accuracy: 0.9148 - val_loss: 0.2660 - val_sparse_categorical_accuracy: 0.9077\n",
            "Epoch 116/200\n",
            "422/422 [==============================] - 3s 8ms/step - loss: 0.2150 - sparse_categorical_accuracy: 0.9162 - val_loss: 0.2675 - val_sparse_categorical_accuracy: 0.9030\n",
            "Epoch 117/200\n",
            "422/422 [==============================] - 3s 7ms/step - loss: 0.2200 - sparse_categorical_accuracy: 0.9153 - val_loss: 0.2767 - val_sparse_categorical_accuracy: 0.9038\n",
            "Epoch 118/200\n",
            "422/422 [==============================] - 3s 7ms/step - loss: 0.2163 - sparse_categorical_accuracy: 0.9168 - val_loss: 0.2673 - val_sparse_categorical_accuracy: 0.9050\n",
            "Epoch 119/200\n",
            "422/422 [==============================] - 3s 7ms/step - loss: 0.2150 - sparse_categorical_accuracy: 0.9165 - val_loss: 0.2713 - val_sparse_categorical_accuracy: 0.9048\n",
            "Epoch 120/200\n",
            "422/422 [==============================] - 3s 8ms/step - loss: 0.2179 - sparse_categorical_accuracy: 0.9165 - val_loss: 0.2693 - val_sparse_categorical_accuracy: 0.9068\n",
            "Epoch 121/200\n",
            "422/422 [==============================] - 3s 7ms/step - loss: 0.2155 - sparse_categorical_accuracy: 0.9185 - val_loss: 0.2720 - val_sparse_categorical_accuracy: 0.9053\n",
            "Epoch 122/200\n",
            "422/422 [==============================] - 3s 7ms/step - loss: 0.2170 - sparse_categorical_accuracy: 0.9164 - val_loss: 0.2704 - val_sparse_categorical_accuracy: 0.9040\n",
            "Epoch 123/200\n",
            "422/422 [==============================] - 3s 7ms/step - loss: 0.2150 - sparse_categorical_accuracy: 0.9171 - val_loss: 0.2722 - val_sparse_categorical_accuracy: 0.9073\n",
            "Epoch 124/200\n",
            "422/422 [==============================] - 3s 8ms/step - loss: 0.2156 - sparse_categorical_accuracy: 0.9160 - val_loss: 0.2667 - val_sparse_categorical_accuracy: 0.9072\n",
            "Epoch 125/200\n",
            "422/422 [==============================] - 3s 7ms/step - loss: 0.2149 - sparse_categorical_accuracy: 0.9180 - val_loss: 0.2710 - val_sparse_categorical_accuracy: 0.9077\n",
            "Epoch 126/200\n",
            "422/422 [==============================] - 3s 7ms/step - loss: 0.2152 - sparse_categorical_accuracy: 0.9160 - val_loss: 0.2704 - val_sparse_categorical_accuracy: 0.9055\n",
            "Epoch 127/200\n",
            "422/422 [==============================] - 3s 7ms/step - loss: 0.2120 - sparse_categorical_accuracy: 0.9183 - val_loss: 0.2650 - val_sparse_categorical_accuracy: 0.9077\n",
            "Epoch 128/200\n",
            "422/422 [==============================] - 4s 9ms/step - loss: 0.2164 - sparse_categorical_accuracy: 0.9153 - val_loss: 0.2666 - val_sparse_categorical_accuracy: 0.9070\n",
            "Epoch 129/200\n",
            "422/422 [==============================] - 3s 8ms/step - loss: 0.2139 - sparse_categorical_accuracy: 0.9170 - val_loss: 0.2728 - val_sparse_categorical_accuracy: 0.9062\n",
            "Epoch 130/200\n",
            "422/422 [==============================] - 3s 7ms/step - loss: 0.2152 - sparse_categorical_accuracy: 0.9159 - val_loss: 0.2706 - val_sparse_categorical_accuracy: 0.9048\n",
            "Epoch 131/200\n",
            "422/422 [==============================] - 3s 7ms/step - loss: 0.2124 - sparse_categorical_accuracy: 0.9174 - val_loss: 0.2733 - val_sparse_categorical_accuracy: 0.9052\n",
            "Epoch 132/200\n",
            "422/422 [==============================] - 4s 8ms/step - loss: 0.2115 - sparse_categorical_accuracy: 0.9168 - val_loss: 0.2710 - val_sparse_categorical_accuracy: 0.9050\n",
            "Epoch 133/200\n",
            "422/422 [==============================] - 3s 7ms/step - loss: 0.2101 - sparse_categorical_accuracy: 0.9192 - val_loss: 0.2735 - val_sparse_categorical_accuracy: 0.9055\n",
            "Epoch 134/200\n",
            "422/422 [==============================] - 3s 7ms/step - loss: 0.2129 - sparse_categorical_accuracy: 0.9186 - val_loss: 0.2745 - val_sparse_categorical_accuracy: 0.9040\n",
            "Epoch 135/200\n",
            "422/422 [==============================] - 4s 8ms/step - loss: 0.2115 - sparse_categorical_accuracy: 0.9188 - val_loss: 0.2767 - val_sparse_categorical_accuracy: 0.9057\n",
            "Epoch 136/200\n",
            "422/422 [==============================] - 3s 8ms/step - loss: 0.2121 - sparse_categorical_accuracy: 0.9176 - val_loss: 0.2734 - val_sparse_categorical_accuracy: 0.9088\n",
            "Epoch 137/200\n",
            "422/422 [==============================] - 3s 7ms/step - loss: 0.2098 - sparse_categorical_accuracy: 0.9181 - val_loss: 0.2717 - val_sparse_categorical_accuracy: 0.9048\n",
            "Epoch 138/200\n",
            "422/422 [==============================] - 3s 7ms/step - loss: 0.2106 - sparse_categorical_accuracy: 0.9185 - val_loss: 0.2707 - val_sparse_categorical_accuracy: 0.9048\n",
            "Epoch 139/200\n",
            "422/422 [==============================] - 4s 8ms/step - loss: 0.2092 - sparse_categorical_accuracy: 0.9187 - val_loss: 0.2736 - val_sparse_categorical_accuracy: 0.9092\n",
            "Epoch 140/200\n",
            "422/422 [==============================] - 3s 7ms/step - loss: 0.2139 - sparse_categorical_accuracy: 0.9169 - val_loss: 0.2709 - val_sparse_categorical_accuracy: 0.9077\n",
            "Epoch 141/200\n",
            "422/422 [==============================] - 3s 8ms/step - loss: 0.2104 - sparse_categorical_accuracy: 0.9195 - val_loss: 0.2693 - val_sparse_categorical_accuracy: 0.9063\n",
            "Epoch 142/200\n",
            "422/422 [==============================] - 3s 7ms/step - loss: 0.2092 - sparse_categorical_accuracy: 0.9179 - val_loss: 0.2695 - val_sparse_categorical_accuracy: 0.9058\n",
            "Epoch 143/200\n",
            "422/422 [==============================] - 4s 9ms/step - loss: 0.2108 - sparse_categorical_accuracy: 0.9189 - val_loss: 0.2729 - val_sparse_categorical_accuracy: 0.9043\n",
            "Epoch 144/200\n",
            "422/422 [==============================] - 4s 9ms/step - loss: 0.2067 - sparse_categorical_accuracy: 0.9199 - val_loss: 0.2731 - val_sparse_categorical_accuracy: 0.9063\n",
            "Epoch 145/200\n",
            "422/422 [==============================] - 3s 7ms/step - loss: 0.2081 - sparse_categorical_accuracy: 0.9206 - val_loss: 0.2700 - val_sparse_categorical_accuracy: 0.9067\n",
            "Epoch 146/200\n",
            "422/422 [==============================] - 3s 7ms/step - loss: 0.2109 - sparse_categorical_accuracy: 0.9201 - val_loss: 0.2685 - val_sparse_categorical_accuracy: 0.9075\n",
            "Epoch 147/200\n",
            "422/422 [==============================] - 3s 8ms/step - loss: 0.2073 - sparse_categorical_accuracy: 0.9197 - val_loss: 0.2699 - val_sparse_categorical_accuracy: 0.9083\n",
            "Epoch 148/200\n",
            "422/422 [==============================] - 3s 7ms/step - loss: 0.2070 - sparse_categorical_accuracy: 0.9208 - val_loss: 0.2713 - val_sparse_categorical_accuracy: 0.9057\n",
            "Epoch 149/200\n",
            "422/422 [==============================] - 3s 7ms/step - loss: 0.2078 - sparse_categorical_accuracy: 0.9205 - val_loss: 0.2702 - val_sparse_categorical_accuracy: 0.9093\n",
            "Epoch 150/200\n",
            "422/422 [==============================] - 3s 7ms/step - loss: 0.2079 - sparse_categorical_accuracy: 0.9197 - val_loss: 0.2720 - val_sparse_categorical_accuracy: 0.9073\n",
            "Epoch 151/200\n",
            "422/422 [==============================] - 3s 8ms/step - loss: 0.2085 - sparse_categorical_accuracy: 0.9201 - val_loss: 0.2726 - val_sparse_categorical_accuracy: 0.9068\n",
            "Epoch 152/200\n",
            "422/422 [==============================] - 3s 7ms/step - loss: 0.2069 - sparse_categorical_accuracy: 0.9210 - val_loss: 0.2715 - val_sparse_categorical_accuracy: 0.9068\n",
            "Epoch 153/200\n",
            "422/422 [==============================] - 3s 7ms/step - loss: 0.2054 - sparse_categorical_accuracy: 0.9204 - val_loss: 0.2709 - val_sparse_categorical_accuracy: 0.9063\n",
            "Epoch 154/200\n",
            "422/422 [==============================] - 3s 7ms/step - loss: 0.2031 - sparse_categorical_accuracy: 0.9214 - val_loss: 0.2672 - val_sparse_categorical_accuracy: 0.9072\n",
            "Epoch 155/200\n",
            "422/422 [==============================] - 3s 8ms/step - loss: 0.2037 - sparse_categorical_accuracy: 0.9205 - val_loss: 0.2698 - val_sparse_categorical_accuracy: 0.9110\n",
            "Epoch 156/200\n",
            "422/422 [==============================] - 3s 7ms/step - loss: 0.2042 - sparse_categorical_accuracy: 0.9204 - val_loss: 0.2735 - val_sparse_categorical_accuracy: 0.9067\n",
            "Epoch 157/200\n",
            "422/422 [==============================] - 3s 8ms/step - loss: 0.2061 - sparse_categorical_accuracy: 0.9217 - val_loss: 0.2670 - val_sparse_categorical_accuracy: 0.9065\n",
            "Epoch 158/200\n",
            "422/422 [==============================] - 4s 9ms/step - loss: 0.2044 - sparse_categorical_accuracy: 0.9204 - val_loss: 0.2696 - val_sparse_categorical_accuracy: 0.9048\n",
            "Epoch 159/200\n",
            "422/422 [==============================] - 3s 8ms/step - loss: 0.2008 - sparse_categorical_accuracy: 0.9225 - val_loss: 0.2730 - val_sparse_categorical_accuracy: 0.9077\n",
            "Epoch 160/200\n",
            "422/422 [==============================] - 3s 7ms/step - loss: 0.2031 - sparse_categorical_accuracy: 0.9215 - val_loss: 0.2796 - val_sparse_categorical_accuracy: 0.9063\n",
            "Epoch 161/200\n",
            "422/422 [==============================] - 3s 7ms/step - loss: 0.2075 - sparse_categorical_accuracy: 0.9209 - val_loss: 0.2676 - val_sparse_categorical_accuracy: 0.9088\n",
            "Epoch 162/200\n",
            "422/422 [==============================] - 3s 8ms/step - loss: 0.2026 - sparse_categorical_accuracy: 0.9219 - val_loss: 0.2699 - val_sparse_categorical_accuracy: 0.9040\n",
            "Epoch 163/200\n",
            "422/422 [==============================] - 3s 7ms/step - loss: 0.2021 - sparse_categorical_accuracy: 0.9225 - val_loss: 0.2732 - val_sparse_categorical_accuracy: 0.9083\n",
            "Epoch 164/200\n",
            "422/422 [==============================] - 3s 7ms/step - loss: 0.2023 - sparse_categorical_accuracy: 0.9212 - val_loss: 0.2748 - val_sparse_categorical_accuracy: 0.9047\n",
            "Epoch 165/200\n",
            "422/422 [==============================] - 3s 7ms/step - loss: 0.2001 - sparse_categorical_accuracy: 0.9213 - val_loss: 0.2700 - val_sparse_categorical_accuracy: 0.9083\n",
            "Epoch 166/200\n",
            "422/422 [==============================] - 4s 9ms/step - loss: 0.2029 - sparse_categorical_accuracy: 0.9219 - val_loss: 0.2740 - val_sparse_categorical_accuracy: 0.9058\n",
            "Epoch 167/200\n",
            "422/422 [==============================] - 3s 7ms/step - loss: 0.2031 - sparse_categorical_accuracy: 0.9214 - val_loss: 0.2700 - val_sparse_categorical_accuracy: 0.9072\n",
            "Epoch 168/200\n",
            "422/422 [==============================] - 3s 7ms/step - loss: 0.2045 - sparse_categorical_accuracy: 0.9206 - val_loss: 0.2674 - val_sparse_categorical_accuracy: 0.9073\n",
            "Epoch 169/200\n",
            "422/422 [==============================] - 3s 7ms/step - loss: 0.1998 - sparse_categorical_accuracy: 0.9231 - val_loss: 0.2723 - val_sparse_categorical_accuracy: 0.9047\n",
            "Epoch 170/200\n",
            "422/422 [==============================] - 4s 8ms/step - loss: 0.2036 - sparse_categorical_accuracy: 0.9216 - val_loss: 0.2693 - val_sparse_categorical_accuracy: 0.9085\n",
            "Epoch 171/200\n",
            "422/422 [==============================] - 3s 7ms/step - loss: 0.2015 - sparse_categorical_accuracy: 0.9221 - val_loss: 0.2719 - val_sparse_categorical_accuracy: 0.9077\n",
            "Epoch 172/200\n",
            "422/422 [==============================] - 3s 7ms/step - loss: 0.1992 - sparse_categorical_accuracy: 0.9213 - val_loss: 0.2700 - val_sparse_categorical_accuracy: 0.9068\n",
            "Epoch 173/200\n",
            "422/422 [==============================] - 4s 9ms/step - loss: 0.1978 - sparse_categorical_accuracy: 0.9235 - val_loss: 0.2737 - val_sparse_categorical_accuracy: 0.9068\n",
            "Epoch 174/200\n",
            "422/422 [==============================] - 3s 8ms/step - loss: 0.2016 - sparse_categorical_accuracy: 0.9224 - val_loss: 0.2709 - val_sparse_categorical_accuracy: 0.9102\n",
            "Epoch 175/200\n",
            "422/422 [==============================] - 3s 7ms/step - loss: 0.1998 - sparse_categorical_accuracy: 0.9230 - val_loss: 0.2698 - val_sparse_categorical_accuracy: 0.9062\n",
            "Epoch 176/200\n",
            "422/422 [==============================] - 3s 7ms/step - loss: 0.2012 - sparse_categorical_accuracy: 0.9218 - val_loss: 0.2683 - val_sparse_categorical_accuracy: 0.9093\n",
            "Epoch 177/200\n",
            "422/422 [==============================] - 4s 9ms/step - loss: 0.1989 - sparse_categorical_accuracy: 0.9233 - val_loss: 0.2701 - val_sparse_categorical_accuracy: 0.9087\n",
            "Epoch 178/200\n",
            "422/422 [==============================] - 3s 8ms/step - loss: 0.1987 - sparse_categorical_accuracy: 0.9230 - val_loss: 0.2777 - val_sparse_categorical_accuracy: 0.9063\n",
            "Epoch 179/200\n",
            "422/422 [==============================] - 3s 7ms/step - loss: 0.1996 - sparse_categorical_accuracy: 0.9230 - val_loss: 0.2692 - val_sparse_categorical_accuracy: 0.9090\n",
            "Epoch 180/200\n",
            "422/422 [==============================] - 3s 8ms/step - loss: 0.1964 - sparse_categorical_accuracy: 0.9239 - val_loss: 0.2735 - val_sparse_categorical_accuracy: 0.9053\n",
            "Epoch 181/200\n",
            "422/422 [==============================] - 4s 9ms/step - loss: 0.1964 - sparse_categorical_accuracy: 0.9236 - val_loss: 0.2770 - val_sparse_categorical_accuracy: 0.9092\n",
            "Epoch 182/200\n",
            "422/422 [==============================] - 3s 7ms/step - loss: 0.2011 - sparse_categorical_accuracy: 0.9236 - val_loss: 0.2766 - val_sparse_categorical_accuracy: 0.9075\n",
            "Epoch 183/200\n",
            "422/422 [==============================] - 3s 7ms/step - loss: 0.2025 - sparse_categorical_accuracy: 0.9220 - val_loss: 0.2745 - val_sparse_categorical_accuracy: 0.9107\n",
            "Epoch 184/200\n",
            "422/422 [==============================] - 3s 8ms/step - loss: 0.1977 - sparse_categorical_accuracy: 0.9222 - val_loss: 0.2738 - val_sparse_categorical_accuracy: 0.9078\n",
            "Epoch 185/200\n",
            "422/422 [==============================] - 3s 8ms/step - loss: 0.2000 - sparse_categorical_accuracy: 0.9220 - val_loss: 0.2720 - val_sparse_categorical_accuracy: 0.9077\n",
            "Epoch 186/200\n",
            "422/422 [==============================] - 3s 7ms/step - loss: 0.2012 - sparse_categorical_accuracy: 0.9223 - val_loss: 0.2749 - val_sparse_categorical_accuracy: 0.9062\n",
            "Epoch 187/200\n",
            "422/422 [==============================] - 3s 7ms/step - loss: 0.1971 - sparse_categorical_accuracy: 0.9238 - val_loss: 0.2757 - val_sparse_categorical_accuracy: 0.9053\n",
            "Epoch 188/200\n",
            "422/422 [==============================] - 3s 8ms/step - loss: 0.1975 - sparse_categorical_accuracy: 0.9227 - val_loss: 0.2726 - val_sparse_categorical_accuracy: 0.9088\n",
            "Epoch 189/200\n",
            "422/422 [==============================] - 3s 8ms/step - loss: 0.1960 - sparse_categorical_accuracy: 0.9244 - val_loss: 0.2736 - val_sparse_categorical_accuracy: 0.9070\n",
            "Epoch 190/200\n",
            "422/422 [==============================] - 3s 7ms/step - loss: 0.1973 - sparse_categorical_accuracy: 0.9236 - val_loss: 0.2721 - val_sparse_categorical_accuracy: 0.9097\n",
            "Epoch 191/200\n",
            "422/422 [==============================] - 3s 7ms/step - loss: 0.1953 - sparse_categorical_accuracy: 0.9247 - val_loss: 0.2740 - val_sparse_categorical_accuracy: 0.9065\n",
            "Epoch 192/200\n",
            "422/422 [==============================] - 3s 8ms/step - loss: 0.1965 - sparse_categorical_accuracy: 0.9239 - val_loss: 0.2748 - val_sparse_categorical_accuracy: 0.9090\n",
            "Epoch 193/200\n",
            "422/422 [==============================] - 3s 8ms/step - loss: 0.1983 - sparse_categorical_accuracy: 0.9237 - val_loss: 0.2730 - val_sparse_categorical_accuracy: 0.9060\n",
            "Epoch 194/200\n",
            "422/422 [==============================] - 3s 7ms/step - loss: 0.1957 - sparse_categorical_accuracy: 0.9239 - val_loss: 0.2749 - val_sparse_categorical_accuracy: 0.9088\n",
            "Epoch 195/200\n",
            "422/422 [==============================] - 3s 7ms/step - loss: 0.1957 - sparse_categorical_accuracy: 0.9237 - val_loss: 0.2704 - val_sparse_categorical_accuracy: 0.9068\n",
            "Epoch 196/200\n",
            "422/422 [==============================] - 3s 8ms/step - loss: 0.1957 - sparse_categorical_accuracy: 0.9235 - val_loss: 0.2756 - val_sparse_categorical_accuracy: 0.9073\n",
            "Epoch 197/200\n",
            "422/422 [==============================] - 3s 7ms/step - loss: 0.1958 - sparse_categorical_accuracy: 0.9246 - val_loss: 0.2728 - val_sparse_categorical_accuracy: 0.9052\n",
            "Epoch 198/200\n",
            "422/422 [==============================] - 3s 7ms/step - loss: 0.1945 - sparse_categorical_accuracy: 0.9250 - val_loss: 0.2726 - val_sparse_categorical_accuracy: 0.9083\n",
            "Epoch 199/200\n",
            "422/422 [==============================] - 3s 7ms/step - loss: 0.1944 - sparse_categorical_accuracy: 0.9251 - val_loss: 0.2717 - val_sparse_categorical_accuracy: 0.9057\n",
            "Epoch 200/200\n",
            "422/422 [==============================] - 4s 9ms/step - loss: 0.1941 - sparse_categorical_accuracy: 0.9255 - val_loss: 0.2730 - val_sparse_categorical_accuracy: 0.9057\n",
            "313/313 [==============================] - 1s 3ms/step - loss: 0.2970 - sparse_categorical_accuracy: 0.9028\n",
            "\n",
            "Test accuracy: 0.9028000235557556\n"
          ]
        }
      ]
    },
    {
      "cell_type": "code",
      "source": [
        "print('\\nhistory dict:', list(history.history.keys()))"
      ],
      "metadata": {
        "id": "CxRE-B_Q6Sii",
        "colab": {
          "base_uri": "https://localhost:8080/"
        },
        "outputId": "2f670be1-11e2-4f2b-f3bf-1d5f85301985"
      },
      "execution_count": 40,
      "outputs": [
        {
          "output_type": "stream",
          "name": "stdout",
          "text": [
            "\n",
            "history dict: ['loss', 'sparse_categorical_accuracy', 'val_loss', 'val_sparse_categorical_accuracy']\n"
          ]
        }
      ]
    },
    {
      "cell_type": "code",
      "source": [
        "result = model.evaluate(x_test, y_test)\n",
        "print(result)"
      ],
      "metadata": {
        "id": "YXpwRRTvTBNg",
        "colab": {
          "base_uri": "https://localhost:8080/"
        },
        "outputId": "62058a04-9a29-4c05-c18a-0cde05a42fc9"
      },
      "execution_count": 41,
      "outputs": [
        {
          "output_type": "stream",
          "name": "stdout",
          "text": [
            "313/313 [==============================] - 1s 3ms/step - loss: 0.2970 - sparse_categorical_accuracy: 0.9028\n",
            "[0.29700523614883423, 0.9028000235557556]\n"
          ]
        }
      ]
    },
    {
      "cell_type": "code",
      "source": [
        "saved_model = load_model('best_model.h5')\n",
        "result = saved_model.evaluate(x_test, y_test)\n",
        "print(result)"
      ],
      "metadata": {
        "colab": {
          "base_uri": "https://localhost:8080/"
        },
        "id": "dpaZAW0vp1AZ",
        "outputId": "6fcdfef0-9d16-413d-ffbc-74ed3ecf9d52"
      },
      "execution_count": 42,
      "outputs": [
        {
          "output_type": "stream",
          "name": "stdout",
          "text": [
            "313/313 [==============================] - 1s 3ms/step - loss: 0.2970 - sparse_categorical_accuracy: 0.9028\n",
            "[0.29700523614883423, 0.9028000235557556]\n"
          ]
        }
      ]
    },
    {
      "cell_type": "code",
      "source": [
        "# from keras.models import load_model\n",
        "# saved_model = load_model('best_model.h5')\n",
        "# # _, train_acc = saved_model.evaluate(x_train, y_train, verbose=0)\n",
        "# _, test_acc = saved_model.evaluate(x_test, y_test, verbose=0)\n",
        "# print('Test: %.3f' % (test_acc))"
      ],
      "metadata": {
        "id": "DR_MS9DABo_K"
      },
      "execution_count": 43,
      "outputs": []
    },
    {
      "cell_type": "code",
      "source": [
        "history_dict = history.history\n",
        "loss_values = history_dict['loss']\n",
        "val_loss_values = history_dict['val_loss']\n",
        "\n",
        "epochs = range(1, len(history_dict['loss']) + 1)\n",
        "\n",
        "plt.figure(figsize=(10, 5))\n",
        "plt.plot(epochs, loss_values, 'bo', label='Training loss')\n",
        "plt.plot(epochs, val_loss_values, 'r', label='Validation loss')\n",
        "plt.ylim (0.2, 0.5)\n",
        "plt.title('Training and validation loss')\n",
        "plt.xlabel('Epochs')\n",
        "plt.ylabel('Loss')\n",
        "# plt.legend()\n",
        "plt.grid(True)\n",
        "plt.show()\n",
        "1\n",
        "plt.clf()\n",
        "plt.figure(figsize=(10, 5))\n",
        "val_acc_values = history_dict['sparse_categorical_accuracy']\n",
        "plt.plot(epochs, history_dict['sparse_categorical_accuracy'], 'bo', label='Training acc')\n",
        "plt.plot(epochs, history_dict['val_sparse_categorical_accuracy'], 'r', label='Validation acc')\n",
        "plt.ylim (0.88, 0.94)\n",
        "plt.title('Training and validation accuracy')\n",
        "plt.xlabel('Epochs')\n",
        "plt.ylabel('Accuracy')\n",
        "plt.legend()\n",
        "plt.grid(True)"
      ],
      "metadata": {
        "id": "2Ll_5sGlXKMH",
        "colab": {
          "base_uri": "https://localhost:8080/",
          "height": 975
        },
        "outputId": "94b9750a-5d94-4d48-bf08-c0a5638e4e0a"
      },
      "execution_count": 44,
      "outputs": [
        {
          "output_type": "display_data",
          "data": {
            "text/plain": [
              "<Figure size 1000x500 with 1 Axes>"
            ],
            "image/png": "[encoded data removed]"
          },
          "metadata": {}
        },
        {
          "output_type": "display_data",
          "data": {
            "text/plain": [
              "<Figure size 640x480 with 0 Axes>"
            ]
          },
          "metadata": {}
        },
        {
          "output_type": "display_data",
          "data": {
            "text/plain": [
              "<Figure size 1000x500 with 1 Axes>"
            ],
            "image/png": "[encoded data removed]"
          },
          "metadata": {}
        }
      ]
    },
    {
      "cell_type": "code",
      "source": [
        "probability_model = tf.keras.Sequential([model,\n",
        "                                         tf.keras.layers.Softmax()])"
      ],
      "metadata": {
        "id": "VzOdKAT_uV-f"
      },
      "execution_count": 45,
      "outputs": []
    },
    {
      "cell_type": "code",
      "source": [
        "predictions = probability_model.predict(x_test)"
      ],
      "metadata": {
        "id": "f4is3NFruYom",
        "colab": {
          "base_uri": "https://localhost:8080/"
        },
        "outputId": "e0dda000-3922-4191-d824-fb1446ffc3a6"
      },
      "execution_count": 46,
      "outputs": [
        {
          "output_type": "stream",
          "name": "stdout",
          "text": [
            "313/313 [==============================] - 1s 2ms/step\n"
          ]
        }
      ]
    },
    {
      "cell_type": "code",
      "source": [
        "predictions[0]"
      ],
      "metadata": {
        "id": "82cigvlZudz_",
        "colab": {
          "base_uri": "https://localhost:8080/"
        },
        "outputId": "4bd91ed2-fd2d-4819-eb8d-b2ef867faf71"
      },
      "execution_count": 47,
      "outputs": [
        {
          "output_type": "execute_result",
          "data": {
            "text/plain": [
              "array([0.08533827, 0.08533827, 0.08533827, 0.08533827, 0.08533827,\n",
              "       0.08533844, 0.08533827, 0.08534852, 0.08533827, 0.2319452 ],\n",
              "      dtype=float32)"
            ]
          },
          "metadata": {},
          "execution_count": 47
        }
      ]
    },
    {
      "cell_type": "code",
      "source": [
        "model.summary()"
      ],
      "metadata": {
        "id": "6RsQPHyYuNGe",
        "colab": {
          "base_uri": "https://localhost:8080/"
        },
        "outputId": "9ffb0482-d180-412c-e147-87c8e184343e"
      },
      "execution_count": 48,
      "outputs": [
        {
          "output_type": "stream",
          "name": "stdout",
          "text": [
            "Model: \"sequential_2\"\n",
            "_________________________________________________________________\n",
            " Layer (type)                Output Shape              Param #   \n",
            "=================================================================\n",
            " flatten_1 (Flatten)         (None, 784)               0         \n",
            "                                                                 \n",
            " dropout_4 (Dropout)         (None, 784)               0         \n",
            "                                                                 \n",
            " batch_normalization_3 (Bat  (None, 784)               3136      \n",
            " chNormalization)                                                \n",
            "                                                                 \n",
            " dense_4 (Dense)             (None, 256)               200960    \n",
            "                                                                 \n",
            " dropout_5 (Dropout)         (None, 256)               0         \n",
            "                                                                 \n",
            " batch_normalization_4 (Bat  (None, 256)               1024      \n",
            " chNormalization)                                                \n",
            "                                                                 \n",
            " dense_5 (Dense)             (None, 512)               131584    \n",
            "                                                                 \n",
            " dropout_6 (Dropout)         (None, 512)               0         \n",
            "                                                                 \n",
            " batch_normalization_5 (Bat  (None, 512)               2048      \n",
            " chNormalization)                                                \n",
            "                                                                 \n",
            " dense_6 (Dense)             (None, 512)               262656    \n",
            "                                                                 \n",
            " dropout_7 (Dropout)         (None, 512)               0         \n",
            "                                                                 \n",
            " dense_7 (Dense)             (None, 10)                5130      \n",
            "                                                                 \n",
            "=================================================================\n",
            "Total params: 606538 (2.31 MB)\n",
            "Trainable params: 603434 (2.30 MB)\n",
            "Non-trainable params: 3104 (12.12 KB)\n",
            "_________________________________________________________________\n"
          ]
        }
      ]
    }
  ]
}