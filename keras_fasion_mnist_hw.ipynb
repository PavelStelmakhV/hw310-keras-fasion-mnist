{
  "nbformat": 4,
  "nbformat_minor": 0,
  "metadata": {
    "colab": {
      "provenance": [],
      "gpuType": "T4",
      "authorship_tag": "ABX9TyNVtnz45k1nXenaXUT3kH0i",
      "include_colab_link": true
    },
    "kernelspec": {
      "name": "python3",
      "display_name": "Python 3"
    },
    "language_info": {
      "name": "python"
    },
    "accelerator": "GPU"
  },
  "cells": [
    {
      "cell_type": "markdown",
      "metadata": {
        "id": "view-in-github",
        "colab_type": "text"
      },
      "source": [
        "<a href=\"https://colab.research.google.com/github/PavelStelmakhV/hw310-keras-fasion-mnist/blob/main/keras_fasion_mnist_hw.ipynb\" target=\"_parent\"><img src=\"https://colab.research.google.com/assets/colab-badge.svg\" alt=\"Open In Colab\"/></a>"
      ]
    },
    {
      "cell_type": "code",
      "execution_count": 1,
      "metadata": {
        "id": "vv7w0bgAVQPO"
      },
      "outputs": [],
      "source": [
        "import tensorflow as tf\n",
        "import numpy as np\n",
        "import matplotlib.pyplot as plt\n",
        "\n",
        "from keras import layers\n",
        "from keras import regularizers\n",
        "from keras import callbacks\n",
        "from keras import initializers\n",
        "from keras.layers import BatchNormalization\n",
        "from keras.models import load_model"
      ]
    },
    {
      "cell_type": "code",
      "source": [
        "fashion_mnist = tf.keras.datasets.fashion_mnist\n",
        "\n",
        "(x_train, y_train), (x_test, y_test) = fashion_mnist.load_data()"
      ],
      "metadata": {
        "id": "mOpywsNAzfGB",
        "colab": {
          "base_uri": "https://localhost:8080/"
        },
        "outputId": "293640cb-6a7d-4040-a33a-71bf4919ab49"
      },
      "execution_count": 2,
      "outputs": [
        {
          "output_type": "stream",
          "name": "stdout",
          "text": [
            "Downloading data from https://storage.googleapis.com/tensorflow/tf-keras-datasets/train-labels-idx1-ubyte.gz\n",
            "29515/29515 [==============================] - 0s 1us/step\n",
            "Downloading data from https://storage.googleapis.com/tensorflow/tf-keras-datasets/train-images-idx3-ubyte.gz\n",
            "26421880/26421880 [==============================] - 2s 0us/step\n",
            "Downloading data from https://storage.googleapis.com/tensorflow/tf-keras-datasets/t10k-labels-idx1-ubyte.gz\n",
            "5148/5148 [==============================] - 0s 0us/step\n",
            "Downloading data from https://storage.googleapis.com/tensorflow/tf-keras-datasets/t10k-images-idx3-ubyte.gz\n",
            "4422102/4422102 [==============================] - 1s 0us/step\n"
          ]
        }
      ]
    },
    {
      "cell_type": "code",
      "source": [
        "# x_train = x_train.reshape(60000, 784).astype('float32') / 255\n",
        "# x_test = x_test.reshape(10000, 784).astype('float32') / 255\n",
        "x_train = x_train.astype('float32') / 255\n",
        "x_test = x_test.astype('float32') / 255\n",
        "\n",
        "y_train = y_train.astype('float32')\n",
        "y_test = y_test.astype('float32')\n",
        "\n",
        "# Перемешаем тренировочные данные\n",
        "# train_data = tf.data.Dataset.from_tensor_slices((x_train, y_train))\n",
        "# train_data = train_data.repeat().shuffle(5000).batch(batch_size).prefetch(1)"
      ],
      "metadata": {
        "id": "t2gucjsJ0KUi"
      },
      "execution_count": 3,
      "outputs": []
    },
    {
      "cell_type": "code",
      "source": [
        "# x_val = x_train[-10000:]\n",
        "# y_val = y_train[-10000:]\n",
        "# x_train = x_train[:-10000]\n",
        "# y_train = y_train[:-10000]"
      ],
      "metadata": {
        "id": "fLPNXab5dHwO"
      },
      "execution_count": 4,
      "outputs": []
    },
    {
      "cell_type": "code",
      "source": [],
      "metadata": {
        "id": "bU5TK5YdlnU5"
      },
      "execution_count": 4,
      "outputs": []
    },
    {
      "cell_type": "code",
      "source": [
        "w_init = initializers.glorot_normal()\n",
        "b_init = initializers.Zeros()"
      ],
      "metadata": {
        "id": "yL9QTEtBGy4N"
      },
      "execution_count": 5,
      "outputs": []
    },
    {
      "cell_type": "code",
      "source": [
        "model = tf.keras.Sequential()\n",
        "\n",
        "drop_out = 0.30\n",
        "lern_rat = 0.001\n",
        "neurons = 256\n",
        "\n",
        "model.add(layers.Flatten(input_shape=(28, 28)))\n",
        "model.add(layers.Dropout(drop_out))\n",
        "\n",
        "model.add(layers.Dense(neurons * 1, activation='elu', kernel_initializer=w_init, bias_initializer=b_init)) #, kernel_regularizer=regularizers.l2(lern_rat)\n",
        "model.add(BatchNormalization())\n",
        "model.add(layers.Dropout(drop_out))\n",
        "\n",
        "model.add(layers.Dense(neurons * 2, activation='tanh'))\n",
        "model.add(layers.Dropout(drop_out))\n",
        "\n",
        "model.add(layers.Dense(neurons * 2, activation='elu'))\n",
        "model.add(BatchNormalization())\n",
        "model.add(layers.Dropout(drop_out))\n",
        "\n",
        "# model.add(layers.Dense(neurons * 2, activation='relu'))\n",
        "# model.add(BatchNormalization())\n",
        "# model.add(layers.Dropout(drop_out * 2))\n",
        "\n",
        "model.add(layers.Dense(10, activation='softmax'))"
      ],
      "metadata": {
        "id": "atS39i4d0aqW"
      },
      "execution_count": 6,
      "outputs": []
    },
    {
      "cell_type": "code",
      "source": [],
      "metadata": {
        "id": "EzfnaqIZlfy8"
      },
      "execution_count": 6,
      "outputs": []
    },
    {
      "cell_type": "code",
      "source": [
        "model.compile(#optimizer='adam',\n",
        "              # optimizer='adamax',\n",
        "              optimizer='nadam',\n",
        "              # optimizer='rmsprop',\n",
        "              # optimizer='sgd',\n",
        "              # optimizer='adadelta',\n",
        "              # loss='binary_crossentropy',\n",
        "              loss=tf.keras.losses.SparseCategoricalCrossentropy(),\n",
        "              metrics=['sparse_categorical_accuracy']) # sparse_categorical_accuracy"
      ],
      "metadata": {
        "id": "hENVaAC7ilNY"
      },
      "execution_count": 7,
      "outputs": []
    },
    {
      "cell_type": "code",
      "source": [
        "x = np.random.random((1, 28, 28))\n",
        "a = model.predict(x)\n",
        "_ = plt.hist(np.transpose(a))"
      ],
      "metadata": {
        "id": "RFgZHNNFMa8p",
        "outputId": "e3ac28ee-35c6-4f29-e6cc-9302dc44cefe",
        "colab": {
          "base_uri": "https://localhost:8080/",
          "height": 448
        }
      },
      "execution_count": 8,
      "outputs": [
        {
          "output_type": "stream",
          "name": "stdout",
          "text": [
            "1/1 [==============================] - 1s 1s/step\n"
          ]
        },
        {
          "output_type": "display_data",
          "data": {
            "text/plain": [
              "<Figure size 640x480 with 1 Axes>"
            ],
            "image/png": "[encoded data removed]"
          },
          "metadata": {}
        }
      ]
    },
    {
      "cell_type": "code",
      "source": [
        "y_pred = model.predict(x_test)"
      ],
      "metadata": {
        "id": "UDP8OKKZ8oQa",
        "outputId": "bd9f5728-8c4e-4f27-e390-acaa5108e161",
        "colab": {
          "base_uri": "https://localhost:8080/"
        }
      },
      "execution_count": 9,
      "outputs": [
        {
          "output_type": "stream",
          "name": "stdout",
          "text": [
            "313/313 [==============================] - 2s 6ms/step\n"
          ]
        }
      ]
    },
    {
      "cell_type": "code",
      "source": [
        "callback = callbacks.EarlyStopping(monitor='val_loss',\n",
        "                                   patience=50,\n",
        "                                   restore_best_weights=True,\n",
        "                                   )\n",
        "es = callbacks.EarlyStopping(monitor='val_loss', mode='min', verbose=1, patience=200)\n",
        "mc = callbacks.ModelCheckpoint('best_model.h5', monitor='sparse_categorical_accuracy', mode='max', verbose=0, save_best_only=True)\n"
      ],
      "metadata": {
        "id": "5ihU4exVlsjm"
      },
      "execution_count": 10,
      "outputs": []
    },
    {
      "cell_type": "code",
      "source": [
        "# model.fit(train_images, train_labels, epochs=20)\n",
        "history = model.fit(x_train, y_train,\n",
        "                    epochs=100,\n",
        "                    batch_size=128,\n",
        "                    # callbacks=[callback],\n",
        "                    callbacks=[mc],\n",
        "                    verbose=1, #многословие\n",
        "                    validation_split=0.2\n",
        "                    # validation_data=(x_val, y_val)\n",
        "                    )\n",
        "test_loss, test_acc = model.evaluate(x_test, y_test)\n",
        "print('\\nTest accuracy:', test_acc)"
      ],
      "metadata": {
        "id": "FH8HcMNm233I",
        "outputId": "8711b4ca-78f7-47b7-afc6-5fde4d92f874",
        "colab": {
          "base_uri": "https://localhost:8080/"
        }
      },
      "execution_count": 11,
      "outputs": [
        {
          "output_type": "stream",
          "name": "stdout",
          "text": [
            "Epoch 1/100\n",
            "375/375 [==============================] - 12s 8ms/step - loss: 0.7271 - sparse_categorical_accuracy: 0.7491 - val_loss: 0.4536 - val_sparse_categorical_accuracy: 0.8385\n",
            "Epoch 2/100\n",
            " 21/375 [>.............................] - ETA: 1s - loss: 0.5396 - sparse_categorical_accuracy: 0.8039"
          ]
        },
        {
          "output_type": "stream",
          "name": "stderr",
          "text": [
            "/usr/local/lib/python3.10/dist-packages/keras/src/engine/training.py:3103: UserWarning: You are saving your model as an HDF5 file via `model.save()`. This file format is considered legacy. We recommend using instead the native Keras format, e.g. `model.save('my_model.keras')`.\n",
            "  saving_api.save_model(\n"
          ]
        },
        {
          "output_type": "stream",
          "name": "stdout",
          "text": [
            "375/375 [==============================] - 2s 6ms/step - loss: 0.5306 - sparse_categorical_accuracy: 0.8069 - val_loss: 0.4108 - val_sparse_categorical_accuracy: 0.8489\n",
            "Epoch 3/100\n",
            "375/375 [==============================] - 2s 6ms/step - loss: 0.4786 - sparse_categorical_accuracy: 0.8226 - val_loss: 0.3916 - val_sparse_categorical_accuracy: 0.8564\n",
            "Epoch 4/100\n",
            "375/375 [==============================] - 2s 6ms/step - loss: 0.4529 - sparse_categorical_accuracy: 0.8334 - val_loss: 0.3869 - val_sparse_categorical_accuracy: 0.8577\n",
            "Epoch 5/100\n",
            "375/375 [==============================] - 2s 6ms/step - loss: 0.4330 - sparse_categorical_accuracy: 0.8397 - val_loss: 0.3597 - val_sparse_categorical_accuracy: 0.8681\n",
            "Epoch 6/100\n",
            "375/375 [==============================] - 3s 7ms/step - loss: 0.4184 - sparse_categorical_accuracy: 0.8444 - val_loss: 0.3593 - val_sparse_categorical_accuracy: 0.8671\n",
            "Epoch 7/100\n",
            "375/375 [==============================] - 2s 6ms/step - loss: 0.4039 - sparse_categorical_accuracy: 0.8501 - val_loss: 0.3739 - val_sparse_categorical_accuracy: 0.8630\n",
            "Epoch 8/100\n",
            "375/375 [==============================] - 2s 6ms/step - loss: 0.3975 - sparse_categorical_accuracy: 0.8520 - val_loss: 0.3498 - val_sparse_categorical_accuracy: 0.8688\n",
            "Epoch 9/100\n",
            "375/375 [==============================] - 2s 6ms/step - loss: 0.3891 - sparse_categorical_accuracy: 0.8530 - val_loss: 0.3576 - val_sparse_categorical_accuracy: 0.8655\n",
            "Epoch 10/100\n",
            "375/375 [==============================] - 2s 6ms/step - loss: 0.3795 - sparse_categorical_accuracy: 0.8588 - val_loss: 0.3236 - val_sparse_categorical_accuracy: 0.8800\n",
            "Epoch 11/100\n",
            "375/375 [==============================] - 3s 7ms/step - loss: 0.3732 - sparse_categorical_accuracy: 0.8593 - val_loss: 0.3358 - val_sparse_categorical_accuracy: 0.8724\n",
            "Epoch 12/100\n",
            "375/375 [==============================] - 2s 6ms/step - loss: 0.3686 - sparse_categorical_accuracy: 0.8621 - val_loss: 0.3202 - val_sparse_categorical_accuracy: 0.8814\n",
            "Epoch 13/100\n",
            "375/375 [==============================] - 2s 6ms/step - loss: 0.3607 - sparse_categorical_accuracy: 0.8639 - val_loss: 0.3234 - val_sparse_categorical_accuracy: 0.8803\n",
            "Epoch 14/100\n",
            "375/375 [==============================] - 2s 6ms/step - loss: 0.3554 - sparse_categorical_accuracy: 0.8661 - val_loss: 0.3144 - val_sparse_categorical_accuracy: 0.8833\n",
            "Epoch 15/100\n",
            "375/375 [==============================] - 2s 6ms/step - loss: 0.3536 - sparse_categorical_accuracy: 0.8687 - val_loss: 0.3151 - val_sparse_categorical_accuracy: 0.8838\n",
            "Epoch 16/100\n",
            "375/375 [==============================] - 3s 7ms/step - loss: 0.3498 - sparse_categorical_accuracy: 0.8679 - val_loss: 0.3197 - val_sparse_categorical_accuracy: 0.8829\n",
            "Epoch 17/100\n",
            "375/375 [==============================] - 2s 6ms/step - loss: 0.3438 - sparse_categorical_accuracy: 0.8703 - val_loss: 0.3164 - val_sparse_categorical_accuracy: 0.8853\n",
            "Epoch 18/100\n",
            "375/375 [==============================] - 2s 6ms/step - loss: 0.3436 - sparse_categorical_accuracy: 0.8699 - val_loss: 0.3057 - val_sparse_categorical_accuracy: 0.8856\n",
            "Epoch 19/100\n",
            "375/375 [==============================] - 2s 6ms/step - loss: 0.3381 - sparse_categorical_accuracy: 0.8727 - val_loss: 0.2995 - val_sparse_categorical_accuracy: 0.8908\n",
            "Epoch 20/100\n",
            "375/375 [==============================] - 2s 6ms/step - loss: 0.3362 - sparse_categorical_accuracy: 0.8739 - val_loss: 0.3122 - val_sparse_categorical_accuracy: 0.8842\n",
            "Epoch 21/100\n",
            "375/375 [==============================] - 2s 7ms/step - loss: 0.3324 - sparse_categorical_accuracy: 0.8737 - val_loss: 0.3063 - val_sparse_categorical_accuracy: 0.8873\n",
            "Epoch 22/100\n",
            "375/375 [==============================] - 2s 7ms/step - loss: 0.3297 - sparse_categorical_accuracy: 0.8751 - val_loss: 0.3035 - val_sparse_categorical_accuracy: 0.8858\n",
            "Epoch 23/100\n",
            "375/375 [==============================] - 2s 6ms/step - loss: 0.3254 - sparse_categorical_accuracy: 0.8780 - val_loss: 0.2984 - val_sparse_categorical_accuracy: 0.8877\n",
            "Epoch 24/100\n",
            "375/375 [==============================] - 2s 6ms/step - loss: 0.3241 - sparse_categorical_accuracy: 0.8778 - val_loss: 0.2951 - val_sparse_categorical_accuracy: 0.8905\n",
            "Epoch 25/100\n",
            "375/375 [==============================] - 2s 6ms/step - loss: 0.3201 - sparse_categorical_accuracy: 0.8783 - val_loss: 0.2945 - val_sparse_categorical_accuracy: 0.8919\n",
            "Epoch 26/100\n",
            "375/375 [==============================] - 3s 7ms/step - loss: 0.3166 - sparse_categorical_accuracy: 0.8794 - val_loss: 0.3054 - val_sparse_categorical_accuracy: 0.8873\n",
            "Epoch 27/100\n",
            "375/375 [==============================] - 2s 6ms/step - loss: 0.3159 - sparse_categorical_accuracy: 0.8812 - val_loss: 0.2939 - val_sparse_categorical_accuracy: 0.8923\n",
            "Epoch 28/100\n",
            "375/375 [==============================] - 2s 6ms/step - loss: 0.3130 - sparse_categorical_accuracy: 0.8808 - val_loss: 0.2934 - val_sparse_categorical_accuracy: 0.8929\n",
            "Epoch 29/100\n",
            "375/375 [==============================] - 2s 6ms/step - loss: 0.3111 - sparse_categorical_accuracy: 0.8824 - val_loss: 0.2979 - val_sparse_categorical_accuracy: 0.8921\n",
            "Epoch 30/100\n",
            "375/375 [==============================] - 2s 6ms/step - loss: 0.3087 - sparse_categorical_accuracy: 0.8826 - val_loss: 0.2907 - val_sparse_categorical_accuracy: 0.8939\n",
            "Epoch 31/100\n",
            "375/375 [==============================] - 2s 6ms/step - loss: 0.3072 - sparse_categorical_accuracy: 0.8838 - val_loss: 0.2796 - val_sparse_categorical_accuracy: 0.8952\n",
            "Epoch 32/100\n",
            "375/375 [==============================] - 3s 7ms/step - loss: 0.3055 - sparse_categorical_accuracy: 0.8841 - val_loss: 0.2889 - val_sparse_categorical_accuracy: 0.8941\n",
            "Epoch 33/100\n",
            "375/375 [==============================] - 2s 6ms/step - loss: 0.3025 - sparse_categorical_accuracy: 0.8865 - val_loss: 0.2935 - val_sparse_categorical_accuracy: 0.8945\n",
            "Epoch 34/100\n",
            "375/375 [==============================] - 3s 7ms/step - loss: 0.3026 - sparse_categorical_accuracy: 0.8840 - val_loss: 0.2932 - val_sparse_categorical_accuracy: 0.8920\n",
            "Epoch 35/100\n",
            "375/375 [==============================] - 2s 6ms/step - loss: 0.3000 - sparse_categorical_accuracy: 0.8858 - val_loss: 0.2905 - val_sparse_categorical_accuracy: 0.8940\n",
            "Epoch 36/100\n",
            "375/375 [==============================] - 2s 6ms/step - loss: 0.2983 - sparse_categorical_accuracy: 0.8861 - val_loss: 0.2852 - val_sparse_categorical_accuracy: 0.8934\n",
            "Epoch 37/100\n",
            "375/375 [==============================] - 2s 6ms/step - loss: 0.2941 - sparse_categorical_accuracy: 0.8880 - val_loss: 0.2862 - val_sparse_categorical_accuracy: 0.8941\n",
            "Epoch 38/100\n",
            "375/375 [==============================] - 2s 6ms/step - loss: 0.2953 - sparse_categorical_accuracy: 0.8871 - val_loss: 0.2870 - val_sparse_categorical_accuracy: 0.8930\n",
            "Epoch 39/100\n",
            "375/375 [==============================] - 2s 6ms/step - loss: 0.2971 - sparse_categorical_accuracy: 0.8880 - val_loss: 0.2853 - val_sparse_categorical_accuracy: 0.8977\n",
            "Epoch 40/100\n",
            "375/375 [==============================] - 2s 6ms/step - loss: 0.2901 - sparse_categorical_accuracy: 0.8895 - val_loss: 0.2932 - val_sparse_categorical_accuracy: 0.8943\n",
            "Epoch 41/100\n",
            "375/375 [==============================] - 2s 6ms/step - loss: 0.2887 - sparse_categorical_accuracy: 0.8904 - val_loss: 0.2843 - val_sparse_categorical_accuracy: 0.8942\n",
            "Epoch 42/100\n",
            "375/375 [==============================] - 3s 7ms/step - loss: 0.2913 - sparse_categorical_accuracy: 0.8886 - val_loss: 0.2780 - val_sparse_categorical_accuracy: 0.8988\n",
            "Epoch 43/100\n",
            "375/375 [==============================] - 2s 6ms/step - loss: 0.2863 - sparse_categorical_accuracy: 0.8906 - val_loss: 0.2852 - val_sparse_categorical_accuracy: 0.8955\n",
            "Epoch 44/100\n",
            "375/375 [==============================] - 2s 6ms/step - loss: 0.2852 - sparse_categorical_accuracy: 0.8910 - val_loss: 0.2767 - val_sparse_categorical_accuracy: 0.8978\n",
            "Epoch 45/100\n",
            "375/375 [==============================] - 2s 6ms/step - loss: 0.2865 - sparse_categorical_accuracy: 0.8924 - val_loss: 0.2849 - val_sparse_categorical_accuracy: 0.8957\n",
            "Epoch 46/100\n",
            "375/375 [==============================] - 2s 6ms/step - loss: 0.2839 - sparse_categorical_accuracy: 0.8921 - val_loss: 0.2731 - val_sparse_categorical_accuracy: 0.9007\n",
            "Epoch 47/100\n",
            "375/375 [==============================] - 3s 7ms/step - loss: 0.2822 - sparse_categorical_accuracy: 0.8932 - val_loss: 0.2769 - val_sparse_categorical_accuracy: 0.8979\n",
            "Epoch 48/100\n",
            "375/375 [==============================] - 2s 6ms/step - loss: 0.2820 - sparse_categorical_accuracy: 0.8918 - val_loss: 0.2753 - val_sparse_categorical_accuracy: 0.8984\n",
            "Epoch 49/100\n",
            "375/375 [==============================] - 2s 6ms/step - loss: 0.2815 - sparse_categorical_accuracy: 0.8912 - val_loss: 0.2831 - val_sparse_categorical_accuracy: 0.8979\n",
            "Epoch 50/100\n",
            "375/375 [==============================] - 2s 6ms/step - loss: 0.2824 - sparse_categorical_accuracy: 0.8928 - val_loss: 0.2766 - val_sparse_categorical_accuracy: 0.8996\n",
            "Epoch 51/100\n",
            "375/375 [==============================] - 2s 6ms/step - loss: 0.2792 - sparse_categorical_accuracy: 0.8945 - val_loss: 0.2769 - val_sparse_categorical_accuracy: 0.8992\n",
            "Epoch 52/100\n",
            "375/375 [==============================] - 3s 7ms/step - loss: 0.2749 - sparse_categorical_accuracy: 0.8943 - val_loss: 0.2797 - val_sparse_categorical_accuracy: 0.8967\n",
            "Epoch 53/100\n",
            "375/375 [==============================] - 2s 6ms/step - loss: 0.2806 - sparse_categorical_accuracy: 0.8939 - val_loss: 0.2767 - val_sparse_categorical_accuracy: 0.8981\n",
            "Epoch 54/100\n",
            "375/375 [==============================] - 2s 6ms/step - loss: 0.2737 - sparse_categorical_accuracy: 0.8970 - val_loss: 0.2815 - val_sparse_categorical_accuracy: 0.8991\n",
            "Epoch 55/100\n",
            "375/375 [==============================] - 2s 6ms/step - loss: 0.2790 - sparse_categorical_accuracy: 0.8946 - val_loss: 0.2813 - val_sparse_categorical_accuracy: 0.8959\n",
            "Epoch 56/100\n",
            "375/375 [==============================] - 2s 6ms/step - loss: 0.2729 - sparse_categorical_accuracy: 0.8957 - val_loss: 0.2789 - val_sparse_categorical_accuracy: 0.8983\n",
            "Epoch 57/100\n",
            "375/375 [==============================] - 2s 6ms/step - loss: 0.2718 - sparse_categorical_accuracy: 0.8965 - val_loss: 0.2763 - val_sparse_categorical_accuracy: 0.8992\n",
            "Epoch 58/100\n",
            "375/375 [==============================] - 2s 6ms/step - loss: 0.2738 - sparse_categorical_accuracy: 0.8948 - val_loss: 0.2775 - val_sparse_categorical_accuracy: 0.8991\n",
            "Epoch 59/100\n",
            "375/375 [==============================] - 2s 6ms/step - loss: 0.2704 - sparse_categorical_accuracy: 0.8971 - val_loss: 0.2804 - val_sparse_categorical_accuracy: 0.8974\n",
            "Epoch 60/100\n",
            "375/375 [==============================] - 2s 6ms/step - loss: 0.2686 - sparse_categorical_accuracy: 0.8984 - val_loss: 0.2753 - val_sparse_categorical_accuracy: 0.8997\n",
            "Epoch 61/100\n",
            "375/375 [==============================] - 2s 6ms/step - loss: 0.2709 - sparse_categorical_accuracy: 0.8963 - val_loss: 0.2772 - val_sparse_categorical_accuracy: 0.8991\n",
            "Epoch 62/100\n",
            "375/375 [==============================] - 2s 6ms/step - loss: 0.2682 - sparse_categorical_accuracy: 0.8982 - val_loss: 0.2734 - val_sparse_categorical_accuracy: 0.9001\n",
            "Epoch 63/100\n",
            "375/375 [==============================] - 3s 7ms/step - loss: 0.2663 - sparse_categorical_accuracy: 0.8975 - val_loss: 0.2813 - val_sparse_categorical_accuracy: 0.8967\n",
            "Epoch 64/100\n",
            "375/375 [==============================] - 2s 6ms/step - loss: 0.2665 - sparse_categorical_accuracy: 0.8976 - val_loss: 0.2819 - val_sparse_categorical_accuracy: 0.9005\n",
            "Epoch 65/100\n",
            "375/375 [==============================] - 2s 6ms/step - loss: 0.2653 - sparse_categorical_accuracy: 0.8985 - val_loss: 0.2735 - val_sparse_categorical_accuracy: 0.9018\n",
            "Epoch 66/100\n",
            "375/375 [==============================] - 2s 6ms/step - loss: 0.2662 - sparse_categorical_accuracy: 0.8983 - val_loss: 0.2762 - val_sparse_categorical_accuracy: 0.9028\n",
            "Epoch 67/100\n",
            "375/375 [==============================] - 2s 6ms/step - loss: 0.2659 - sparse_categorical_accuracy: 0.8987 - val_loss: 0.2761 - val_sparse_categorical_accuracy: 0.9007\n",
            "Epoch 68/100\n",
            "375/375 [==============================] - 2s 7ms/step - loss: 0.2657 - sparse_categorical_accuracy: 0.8973 - val_loss: 0.2673 - val_sparse_categorical_accuracy: 0.9027\n",
            "Epoch 69/100\n",
            "375/375 [==============================] - 2s 6ms/step - loss: 0.2649 - sparse_categorical_accuracy: 0.9000 - val_loss: 0.2761 - val_sparse_categorical_accuracy: 0.9016\n",
            "Epoch 70/100\n",
            "375/375 [==============================] - 2s 6ms/step - loss: 0.2642 - sparse_categorical_accuracy: 0.8978 - val_loss: 0.2755 - val_sparse_categorical_accuracy: 0.9003\n",
            "Epoch 71/100\n",
            "375/375 [==============================] - 2s 6ms/step - loss: 0.2603 - sparse_categorical_accuracy: 0.9007 - val_loss: 0.2800 - val_sparse_categorical_accuracy: 0.9010\n",
            "Epoch 72/100\n",
            "375/375 [==============================] - 2s 6ms/step - loss: 0.2616 - sparse_categorical_accuracy: 0.9010 - val_loss: 0.2721 - val_sparse_categorical_accuracy: 0.9028\n",
            "Epoch 73/100\n",
            "375/375 [==============================] - 3s 7ms/step - loss: 0.2587 - sparse_categorical_accuracy: 0.9015 - val_loss: 0.2776 - val_sparse_categorical_accuracy: 0.8992\n",
            "Epoch 74/100\n",
            "375/375 [==============================] - 2s 6ms/step - loss: 0.2566 - sparse_categorical_accuracy: 0.9015 - val_loss: 0.2704 - val_sparse_categorical_accuracy: 0.9011\n",
            "Epoch 75/100\n",
            "375/375 [==============================] - 2s 6ms/step - loss: 0.2584 - sparse_categorical_accuracy: 0.9001 - val_loss: 0.2723 - val_sparse_categorical_accuracy: 0.9002\n",
            "Epoch 76/100\n",
            "375/375 [==============================] - 2s 6ms/step - loss: 0.2581 - sparse_categorical_accuracy: 0.9012 - val_loss: 0.2778 - val_sparse_categorical_accuracy: 0.9013\n",
            "Epoch 77/100\n",
            "375/375 [==============================] - 2s 6ms/step - loss: 0.2592 - sparse_categorical_accuracy: 0.9020 - val_loss: 0.2741 - val_sparse_categorical_accuracy: 0.9007\n",
            "Epoch 78/100\n",
            "375/375 [==============================] - 3s 7ms/step - loss: 0.2623 - sparse_categorical_accuracy: 0.8999 - val_loss: 0.2781 - val_sparse_categorical_accuracy: 0.9018\n",
            "Epoch 79/100\n",
            "375/375 [==============================] - 2s 6ms/step - loss: 0.2584 - sparse_categorical_accuracy: 0.9003 - val_loss: 0.2723 - val_sparse_categorical_accuracy: 0.9022\n",
            "Epoch 80/100\n",
            "375/375 [==============================] - 2s 6ms/step - loss: 0.2582 - sparse_categorical_accuracy: 0.9016 - val_loss: 0.2815 - val_sparse_categorical_accuracy: 0.8996\n",
            "Epoch 81/100\n",
            "375/375 [==============================] - 2s 6ms/step - loss: 0.2559 - sparse_categorical_accuracy: 0.9034 - val_loss: 0.2738 - val_sparse_categorical_accuracy: 0.9016\n",
            "Epoch 82/100\n",
            "375/375 [==============================] - 2s 6ms/step - loss: 0.2538 - sparse_categorical_accuracy: 0.9024 - val_loss: 0.2745 - val_sparse_categorical_accuracy: 0.9021\n",
            "Epoch 83/100\n",
            "375/375 [==============================] - 2s 7ms/step - loss: 0.2517 - sparse_categorical_accuracy: 0.9039 - val_loss: 0.2704 - val_sparse_categorical_accuracy: 0.9037\n",
            "Epoch 84/100\n",
            "375/375 [==============================] - 2s 6ms/step - loss: 0.2554 - sparse_categorical_accuracy: 0.9027 - val_loss: 0.2725 - val_sparse_categorical_accuracy: 0.9032\n",
            "Epoch 85/100\n",
            "375/375 [==============================] - 2s 6ms/step - loss: 0.2539 - sparse_categorical_accuracy: 0.9023 - val_loss: 0.2726 - val_sparse_categorical_accuracy: 0.9013\n",
            "Epoch 86/100\n",
            "375/375 [==============================] - 2s 6ms/step - loss: 0.2535 - sparse_categorical_accuracy: 0.9040 - val_loss: 0.2754 - val_sparse_categorical_accuracy: 0.9023\n",
            "Epoch 87/100\n",
            "375/375 [==============================] - 2s 6ms/step - loss: 0.2533 - sparse_categorical_accuracy: 0.9020 - val_loss: 0.2724 - val_sparse_categorical_accuracy: 0.9017\n",
            "Epoch 88/100\n",
            "375/375 [==============================] - 2s 6ms/step - loss: 0.2515 - sparse_categorical_accuracy: 0.9043 - val_loss: 0.2727 - val_sparse_categorical_accuracy: 0.9007\n",
            "Epoch 89/100\n",
            "375/375 [==============================] - 2s 7ms/step - loss: 0.2526 - sparse_categorical_accuracy: 0.9028 - val_loss: 0.2735 - val_sparse_categorical_accuracy: 0.8992\n",
            "Epoch 90/100\n",
            "375/375 [==============================] - 2s 6ms/step - loss: 0.2514 - sparse_categorical_accuracy: 0.9046 - val_loss: 0.2741 - val_sparse_categorical_accuracy: 0.8992\n",
            "Epoch 91/100\n",
            "375/375 [==============================] - 2s 6ms/step - loss: 0.2494 - sparse_categorical_accuracy: 0.9036 - val_loss: 0.2708 - val_sparse_categorical_accuracy: 0.9016\n",
            "Epoch 92/100\n",
            "375/375 [==============================] - 2s 6ms/step - loss: 0.2494 - sparse_categorical_accuracy: 0.9037 - val_loss: 0.2735 - val_sparse_categorical_accuracy: 0.9043\n",
            "Epoch 93/100\n",
            "375/375 [==============================] - 2s 6ms/step - loss: 0.2511 - sparse_categorical_accuracy: 0.9047 - val_loss: 0.2760 - val_sparse_categorical_accuracy: 0.9016\n",
            "Epoch 94/100\n",
            "375/375 [==============================] - 3s 7ms/step - loss: 0.2492 - sparse_categorical_accuracy: 0.9030 - val_loss: 0.2667 - val_sparse_categorical_accuracy: 0.9029\n",
            "Epoch 95/100\n",
            "375/375 [==============================] - 2s 6ms/step - loss: 0.2516 - sparse_categorical_accuracy: 0.9022 - val_loss: 0.2651 - val_sparse_categorical_accuracy: 0.9037\n",
            "Epoch 96/100\n",
            "375/375 [==============================] - 2s 6ms/step - loss: 0.2491 - sparse_categorical_accuracy: 0.9034 - val_loss: 0.2659 - val_sparse_categorical_accuracy: 0.9037\n",
            "Epoch 97/100\n",
            "375/375 [==============================] - 2s 6ms/step - loss: 0.2452 - sparse_categorical_accuracy: 0.9071 - val_loss: 0.2702 - val_sparse_categorical_accuracy: 0.9016\n",
            "Epoch 98/100\n",
            "375/375 [==============================] - 2s 6ms/step - loss: 0.2487 - sparse_categorical_accuracy: 0.9057 - val_loss: 0.2696 - val_sparse_categorical_accuracy: 0.9038\n",
            "Epoch 99/100\n",
            "375/375 [==============================] - 3s 7ms/step - loss: 0.2508 - sparse_categorical_accuracy: 0.9045 - val_loss: 0.2734 - val_sparse_categorical_accuracy: 0.9017\n",
            "Epoch 100/100\n",
            "375/375 [==============================] - 2s 6ms/step - loss: 0.2489 - sparse_categorical_accuracy: 0.9040 - val_loss: 0.2686 - val_sparse_categorical_accuracy: 0.9039\n",
            "313/313 [==============================] - 1s 2ms/step - loss: 0.2907 - sparse_categorical_accuracy: 0.8957\n",
            "\n",
            "Test accuracy: 0.8956999778747559\n"
          ]
        }
      ]
    },
    {
      "cell_type": "code",
      "source": [
        "print('\\nhistory dict:', list(history.history.keys()))"
      ],
      "metadata": {
        "id": "CxRE-B_Q6Sii",
        "colab": {
          "base_uri": "https://localhost:8080/"
        },
        "outputId": "84aa7547-0932-4775-98ce-2bab454a07a3"
      },
      "execution_count": 12,
      "outputs": [
        {
          "output_type": "stream",
          "name": "stdout",
          "text": [
            "\n",
            "history dict: ['loss', 'sparse_categorical_accuracy', 'val_loss', 'val_sparse_categorical_accuracy']\n"
          ]
        }
      ]
    },
    {
      "cell_type": "code",
      "source": [
        "result = model.evaluate(x_test, y_test)\n",
        "print(result)"
      ],
      "metadata": {
        "id": "YXpwRRTvTBNg",
        "colab": {
          "base_uri": "https://localhost:8080/"
        },
        "outputId": "389f05cf-25cc-41bb-e738-5653ef6df853"
      },
      "execution_count": 13,
      "outputs": [
        {
          "output_type": "stream",
          "name": "stdout",
          "text": [
            "313/313 [==============================] - 1s 2ms/step - loss: 0.2907 - sparse_categorical_accuracy: 0.8957\n",
            "[0.2906809449195862, 0.8956999778747559]\n"
          ]
        }
      ]
    },
    {
      "cell_type": "code",
      "source": [
        "saved_model = load_model('best_model.h5')\n",
        "result = saved_model.evaluate(x_test, y_test)\n",
        "print(result)"
      ],
      "metadata": {
        "colab": {
          "base_uri": "https://localhost:8080/"
        },
        "id": "dpaZAW0vp1AZ",
        "outputId": "9f6dd79a-ee0e-4bb7-98fb-d6205b7ee7c8"
      },
      "execution_count": 14,
      "outputs": [
        {
          "output_type": "stream",
          "name": "stdout",
          "text": [
            "313/313 [==============================] - 1s 3ms/step - loss: 0.2904 - sparse_categorical_accuracy: 0.8960\n",
            "[0.29035186767578125, 0.8960000276565552]\n"
          ]
        }
      ]
    },
    {
      "cell_type": "code",
      "source": [
        "# from keras.models import load_model\n",
        "# saved_model = load_model('best_model.h5')\n",
        "# # _, train_acc = saved_model.evaluate(x_train, y_train, verbose=0)\n",
        "# _, test_acc = saved_model.evaluate(x_test, y_test, verbose=0)\n",
        "# print('Test: %.3f' % (test_acc))"
      ],
      "metadata": {
        "id": "DR_MS9DABo_K"
      },
      "execution_count": 15,
      "outputs": []
    },
    {
      "cell_type": "code",
      "source": [
        "history_dict = history.history\n",
        "loss_values = history_dict['loss']\n",
        "val_loss_values = history_dict['val_loss']\n",
        "\n",
        "epochs = range(1, len(history_dict['loss']) + 1)\n",
        "\n",
        "plt.figure(figsize=(10, 5))\n",
        "plt.plot(epochs, loss_values, 'bo', label='Training loss')\n",
        "plt.plot(epochs, val_loss_values, 'r', label='Validation loss')\n",
        "plt.title('Training and validation loss')\n",
        "plt.xlabel('Epochs')\n",
        "plt.ylabel('Loss')\n",
        "# plt.legend()\n",
        "plt.grid(True)\n",
        "plt.show()\n",
        "1\n",
        "plt.clf()\n",
        "plt.figure(figsize=(10, 5))\n",
        "val_acc_values = history_dict['sparse_categorical_accuracy']\n",
        "plt.plot(epochs, history_dict['sparse_categorical_accuracy'], 'bo', label='Training acc')\n",
        "plt.plot(epochs, history_dict['val_sparse_categorical_accuracy'], 'r', label='Validation acc')\n",
        "plt.ylim (0.88, 0.94)\n",
        "plt.title('Training and validation accuracy')\n",
        "plt.xlabel('Epochs')\n",
        "plt.ylabel('Accuracy')\n",
        "plt.legend()\n",
        "plt.grid(True)"
      ],
      "metadata": {
        "id": "2Ll_5sGlXKMH",
        "colab": {
          "base_uri": "https://localhost:8080/",
          "height": 975
        },
        "outputId": "8df72eda-4c88-4a11-e076-9c991bb64ceb"
      },
      "execution_count": 16,
      "outputs": [
        {
          "output_type": "display_data",
          "data": {
            "text/plain": [
              "<Figure size 1000x500 with 1 Axes>"
            ],
            "image/png": "[encoded data removed]"
          },
          "metadata": {}
        },
        {
          "output_type": "display_data",
          "data": {
            "text/plain": [
              "<Figure size 640x480 with 0 Axes>"
            ]
          },
          "metadata": {}
        },
        {
          "output_type": "display_data",
          "data": {
            "text/plain": [
              "<Figure size 1000x500 with 1 Axes>"
            ],
            "image/png": "[encoded data removed]"
          },
          "metadata": {}
        }
      ]
    },
    {
      "cell_type": "code",
      "source": [
        "probability_model = tf.keras.Sequential([model,\n",
        "                                         tf.keras.layers.Softmax()])"
      ],
      "metadata": {
        "id": "VzOdKAT_uV-f"
      },
      "execution_count": 17,
      "outputs": []
    },
    {
      "cell_type": "code",
      "source": [
        "predictions = probability_model.predict(x_test)"
      ],
      "metadata": {
        "id": "f4is3NFruYom",
        "colab": {
          "base_uri": "https://localhost:8080/"
        },
        "outputId": "fdd56a8f-de07-4473-d05c-b75328ed1a84"
      },
      "execution_count": 18,
      "outputs": [
        {
          "output_type": "stream",
          "name": "stdout",
          "text": [
            "313/313 [==============================] - 1s 2ms/step\n"
          ]
        }
      ]
    },
    {
      "cell_type": "code",
      "source": [
        "predictions[0]"
      ],
      "metadata": {
        "id": "82cigvlZudz_",
        "colab": {
          "base_uri": "https://localhost:8080/"
        },
        "outputId": "0a1929f1-4dfe-49f5-88d5-8c9ea4b34554"
      },
      "execution_count": 19,
      "outputs": [
        {
          "output_type": "execute_result",
          "data": {
            "text/plain": [
              "array([0.08534142, 0.08534142, 0.08534142, 0.08534142, 0.08534142,\n",
              "       0.08534862, 0.08534142, 0.08536619, 0.08534142, 0.2318952 ],\n",
              "      dtype=float32)"
            ]
          },
          "metadata": {},
          "execution_count": 19
        }
      ]
    },
    {
      "cell_type": "code",
      "source": [
        "model.summary()"
      ],
      "metadata": {
        "id": "6RsQPHyYuNGe",
        "colab": {
          "base_uri": "https://localhost:8080/"
        },
        "outputId": "fa342382-11a4-496e-bd52-3fc652aa9487"
      },
      "execution_count": 20,
      "outputs": [
        {
          "output_type": "stream",
          "name": "stdout",
          "text": [
            "Model: \"sequential\"\n",
            "_________________________________________________________________\n",
            " Layer (type)                Output Shape              Param #   \n",
            "=================================================================\n",
            " flatten (Flatten)           (None, 784)               0         \n",
            "                                                                 \n",
            " dropout (Dropout)           (None, 784)               0         \n",
            "                                                                 \n",
            " dense (Dense)               (None, 256)               200960    \n",
            "                                                                 \n",
            " batch_normalization (Batch  (None, 256)               1024      \n",
            " Normalization)                                                  \n",
            "                                                                 \n",
            " dropout_1 (Dropout)         (None, 256)               0         \n",
            "                                                                 \n",
            " dense_1 (Dense)             (None, 512)               131584    \n",
            "                                                                 \n",
            " dropout_2 (Dropout)         (None, 512)               0         \n",
            "                                                                 \n",
            " dense_2 (Dense)             (None, 512)               262656    \n",
            "                                                                 \n",
            " batch_normalization_1 (Bat  (None, 512)               2048      \n",
            " chNormalization)                                                \n",
            "                                                                 \n",
            " dropout_3 (Dropout)         (None, 512)               0         \n",
            "                                                                 \n",
            " dense_3 (Dense)             (None, 10)                5130      \n",
            "                                                                 \n",
            "=================================================================\n",
            "Total params: 603402 (2.30 MB)\n",
            "Trainable params: 601866 (2.30 MB)\n",
            "Non-trainable params: 1536 (6.00 KB)\n",
            "_________________________________________________________________\n"
          ]
        }
      ]
    }
  ]
}