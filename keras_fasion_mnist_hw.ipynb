{
  "nbformat": 4,
  "nbformat_minor": 0,
  "metadata": {
    "colab": {
      "provenance": [],
      "gpuType": "T4",
      "authorship_tag": "ABX9TyMxVqkpT1whUYc1EKOwyUjk",
      "include_colab_link": true
    },
    "kernelspec": {
      "name": "python3",
      "display_name": "Python 3"
    },
    "language_info": {
      "name": "python"
    },
    "accelerator": "GPU"
  },
  "cells": [
    {
      "cell_type": "markdown",
      "metadata": {
        "id": "view-in-github",
        "colab_type": "text"
      },
      "source": [
        "<a href=\"https://colab.research.google.com/github/PavelStelmakhV/hw310-keras-fasion-mnist/blob/main/keras_fasion_mnist_hw.ipynb\" target=\"_parent\"><img src=\"https://colab.research.google.com/assets/colab-badge.svg\" alt=\"Open In Colab\"/></a>"
      ]
    },
    {
      "cell_type": "code",
      "source": [
        "import tensorflow as tf\n",
        "from tensorflow.python.client import device_lib\n",
        "print(device_lib.list_local_devices())"
      ],
      "metadata": {
        "colab": {
          "base_uri": "https://localhost:8080/"
        },
        "id": "CQL6wYJUms6Y",
        "outputId": "9481aea8-8859-4b4f-a2c1-febbd9e1cfd7"
      },
      "execution_count": null,
      "outputs": [
        {
          "output_type": "stream",
          "name": "stdout",
          "text": [
            "[name: \"/device:CPU:0\"\n",
            "device_type: \"CPU\"\n",
            "memory_limit: 268435456\n",
            "locality {\n",
            "}\n",
            "incarnation: 6315676220422301228\n",
            "xla_global_id: -1\n",
            "]\n"
          ]
        }
      ]
    },
    {
      "cell_type": "code",
      "execution_count": null,
      "metadata": {
        "id": "vv7w0bgAVQPO"
      },
      "outputs": [],
      "source": [
        "import tensorflow as tf\n",
        "import numpy as np\n",
        "import matplotlib.pyplot as plt\n",
        "import tf_keras\n",
        "\n",
        "from keras import layers\n",
        "from keras import models\n",
        "from keras import regularizers\n",
        "from keras import callbacks\n",
        "from keras import initializers\n",
        "from keras.layers import BatchNormalization\n",
        "from keras.models import load_model\n",
        "from tensorflow.keras.utils import to_categorical"
      ]
    },
    {
      "cell_type": "code",
      "source": [
        "num_classes = 10"
      ],
      "metadata": {
        "id": "RvT1uYJsa5cn"
      },
      "execution_count": null,
      "outputs": []
    },
    {
      "cell_type": "code",
      "source": [
        "fashion_mnist = tf.keras.datasets.fashion_mnist\n",
        "\n",
        "(x_train, y_train), (x_test, y_test) = fashion_mnist.load_data()"
      ],
      "metadata": {
        "id": "mOpywsNAzfGB"
      },
      "execution_count": null,
      "outputs": []
    },
    {
      "cell_type": "code",
      "source": [
        "def drow_hist(data):\n",
        "  plt.figure(figsize=(8,6), dpi= 80)\n",
        "  _ = plt.hist(data,\n",
        "              bins=num_classes,\n",
        "              stacked=True,\n",
        "              density=False,\n",
        "              range=(0,10),\n",
        "              rwidth=0.9,\n",
        "              )"
      ],
      "metadata": {
        "id": "NjEvuOvomEoT"
      },
      "execution_count": null,
      "outputs": []
    },
    {
      "cell_type": "code",
      "source": [
        "# create validation data\n",
        "val_size =6000\n",
        "\n",
        "x_val = x_train[-val_size:, :, :]\n",
        "x_train = x_train[:-val_size, :, :]\n",
        "\n",
        "y_val = y_train[-val_size:]\n",
        "y_train = y_train[:-val_size]"
      ],
      "metadata": {
        "id": "jAs92sDoVU89"
      },
      "execution_count": null,
      "outputs": []
    },
    {
      "cell_type": "code",
      "source": [
        "x_train = x_train.astype('float32') / 255\n",
        "x_test = x_test.astype('float32') / 255\n",
        "x_val = x_val.astype('float32') / 255\n",
        "\n",
        "y_train = to_categorical(y_train)\n",
        "y_test = to_categorical(y_test)\n",
        "y_val = to_categorical(y_val)"
      ],
      "metadata": {
        "id": "t2gucjsJ0KUi"
      },
      "execution_count": null,
      "outputs": []
    },
    {
      "cell_type": "code",
      "source": [
        "w_init_tanh = initializers.glorot_normal(seed=111)\n",
        "w_init_relu = initializers.HeNormal(seed=66)\n",
        "# w_init_relu = initializers.HeUniform(seed=24)\n",
        "b_init = initializers.Zeros()"
      ],
      "metadata": {
        "id": "yL9QTEtBGy4N"
      },
      "execution_count": null,
      "outputs": []
    },
    {
      "cell_type": "code",
      "source": [
        "def layer_relu(model, neurons, drop_out):\n",
        "  model.add(BatchNormalization())\n",
        "  model.add(layers.Dense(neurons,\n",
        "                        activation='relu',\n",
        "                        kernel_initializer=w_init_relu,\n",
        "                        bias_initializer=b_init,\n",
        "                        kernel_regularizer=regularizers.L1L2(l1=1e-6, l2=1e-6),\n",
        "                        bias_regularizer=regularizers.L1L2(l1=1e-5, l2=1e-5),\n",
        "                        activity_regularizer=regularizers.L1L2(l1=1e-6, l2=1e-6)\n",
        "                         )\n",
        "  )\n",
        "  model.add(layers.Dropout(drop_out))\n",
        "  print(drop_out)\n",
        "  return model"
      ],
      "metadata": {
        "id": "ZZgs_25rKBCp"
      },
      "execution_count": null,
      "outputs": []
    },
    {
      "cell_type": "code",
      "source": [
        "def layer_tanh(model, neurons, drop_out):\n",
        "  model.add(BatchNormalization())\n",
        "  model.add(layers.Dense(neurons,\n",
        "                        activation='tanh',\n",
        "                        kernel_initializer=w_init_tanh,\n",
        "                        bias_initializer=b_init\n",
        "                         )\n",
        "  )\n",
        "  model.add(layers.Dropout(drop_out))\n",
        "  return model"
      ],
      "metadata": {
        "id": "90JLLnkBR50t"
      },
      "execution_count": null,
      "outputs": []
    },
    {
      "cell_type": "code",
      "source": [
        "model = models.Sequential()\n",
        "\n",
        "neurons = 256\n",
        "drop_out = 0.35\n",
        "\n",
        "model.add(layers.Flatten(input_shape=(28, 28)))\n",
        "model.add(layers.Dropout(0.13))\n",
        "\n",
        "model = layer_relu(model, neurons*1, 0.3)\n",
        "model = layer_relu(model, neurons*2, 0.35)\n",
        "model = layer_relu(model, neurons*2, 0.4)\n",
        "# model = layer_relu(model, neurons*2)\n",
        "\n",
        "\n",
        "model.add(layers.Dense(10, activation='softmax'))"
      ],
      "metadata": {
        "id": "atS39i4d0aqW",
        "colab": {
          "base_uri": "https://localhost:8080/"
        },
        "outputId": "c0b08cb5-4aae-40d0-d77c-706ce4c426b3"
      },
      "execution_count": null,
      "outputs": [
        {
          "output_type": "stream",
          "name": "stdout",
          "text": [
            "0.3\n",
            "0.35\n",
            "0.4\n"
          ]
        }
      ]
    },
    {
      "cell_type": "markdown",
      "source": [
        "++++++++++++++++++++++++++++++++++++++++++++++++++++++++++++++++++++++++++++++++"
      ],
      "metadata": {
        "id": "tZO7hl7pM63y"
      }
    },
    {
      "cell_type": "code",
      "source": [
        "optimizer = tf.keras.optimizers.Nadam(learning_rate=0.0004,\n",
        "                                      beta_1=0.9,\n",
        "                                      beta_2=0.999,\n",
        "                                      epsilon=1e-06\n",
        ")\n",
        "# optimizer = tf.keras.optimizers.experimental.RMSprop(learning_rate=0.0005,\n",
        "#                                                     rho=0.5,\n",
        "#                                                     momentum=-16,\n",
        "#                                                     epsilon=1e-07,\n",
        "#                                                     centered=False,\n",
        "#                                                     weight_decay=None,\n",
        "#                                                     clipnorm=None,\n",
        "#                                                     clipvalue=None,\n",
        "#                                                     global_clipnorm=None,\n",
        "#                                                     use_ema=False,\n",
        "#                                                     ema_momentum=0.99,\n",
        "#                                                     ema_overwrite_frequency=100,\n",
        "#                                                     jit_compile=True,\n",
        "#                                                     name='RMSprop',\n",
        "# )"
      ],
      "metadata": {
        "id": "EzfnaqIZlfy8"
      },
      "execution_count": null,
      "outputs": []
    },
    {
      "cell_type": "markdown",
      "source": [
        "++++++++++++++++++++++++++++++++++++++++++++++++++++++++++++++++++++++++++++++++"
      ],
      "metadata": {
        "id": "KHmBptvOM95Z"
      }
    },
    {
      "cell_type": "code",
      "source": [
        "model.compile(#optimizer='adam',\n",
        "              # optimizer='adamax',\n",
        "              optimizer=optimizer,\n",
        "              # optimizer='rmsprop',\n",
        "              # optimizer='sgd',\n",
        "              # optimizer='adadelta',\n",
        "              # loss='binary_crossentropy',\n",
        "              loss=tf.keras.losses.CategoricalCrossentropy(),\n",
        "              metrics=['categorical_accuracy']) # sparse_categorical_accuracy"
      ],
      "metadata": {
        "id": "hENVaAC7ilNY"
      },
      "execution_count": null,
      "outputs": []
    },
    {
      "cell_type": "code",
      "source": [
        "# callback = callbacks.EarlyStopping(monitor='val_loss',\n",
        "#                                    patience=15,\n",
        "#                                    restore_best_weights=True,\n",
        "#                                    )\n",
        "es = callbacks.EarlyStopping(monitor='val_loss', mode='min', verbose=0, patience=60)\n",
        "mc = callbacks.ModelCheckpoint('best_model.h5', monitor='categorical_accuracy', mode='max', verbose=0, save_best_only=True)\n"
      ],
      "metadata": {
        "id": "5ihU4exVlsjm"
      },
      "execution_count": null,
      "outputs": []
    },
    {
      "cell_type": "code",
      "source": [
        "history = model.fit(x_train, y_train,\n",
        "                    epochs=300,\n",
        "                    batch_size=128,\n",
        "                    # callbacks=[callback],\n",
        "                    callbacks=[mc, es],\n",
        "                    verbose=1, #многословие\n",
        "                    # validation_split=0.2\n",
        "                    validation_data=(x_val, y_val)\n",
        "                    )\n",
        "test_loss, test_acc = model.evaluate(x_test, y_test)\n",
        "print('\\nTest accuracy:', test_acc)"
      ],
      "metadata": {
        "id": "FH8HcMNm233I",
        "outputId": "0bb0cb24-1b85-4651-f1d5-319297793c94",
        "colab": {
          "base_uri": "https://localhost:8080/"
        }
      },
      "execution_count": 111,
      "outputs": [
        {
          "output_type": "stream",
          "name": "stdout",
          "text": [
            "Epoch 1/300\n",
            "422/422 [==============================] - 18s 32ms/step - loss: 0.9342 - categorical_accuracy: 0.6956 - val_loss: 0.4834 - val_categorical_accuracy: 0.8322\n",
            "Epoch 2/300\n",
            "422/422 [==============================] - 13s 31ms/step - loss: 0.6131 - categorical_accuracy: 0.7930 - val_loss: 0.4422 - val_categorical_accuracy: 0.8465\n",
            "Epoch 3/300\n",
            "422/422 [==============================] - 13s 31ms/step - loss: 0.5407 - categorical_accuracy: 0.8181 - val_loss: 0.4177 - val_categorical_accuracy: 0.8588\n",
            "Epoch 4/300\n",
            "422/422 [==============================] - 13s 31ms/step - loss: 0.5040 - categorical_accuracy: 0.8279 - val_loss: 0.4086 - val_categorical_accuracy: 0.8587\n",
            "Epoch 5/300\n",
            "422/422 [==============================] - 14s 33ms/step - loss: 0.4774 - categorical_accuracy: 0.8391 - val_loss: 0.3926 - val_categorical_accuracy: 0.8665\n",
            "Epoch 6/300\n",
            "422/422 [==============================] - 13s 31ms/step - loss: 0.4505 - categorical_accuracy: 0.8472 - val_loss: 0.3820 - val_categorical_accuracy: 0.8752\n",
            "Epoch 7/300\n",
            "422/422 [==============================] - 13s 30ms/step - loss: 0.4391 - categorical_accuracy: 0.8503 - val_loss: 0.3695 - val_categorical_accuracy: 0.8827\n",
            "Epoch 8/300\n",
            "422/422 [==============================] - 13s 31ms/step - loss: 0.4252 - categorical_accuracy: 0.8552 - val_loss: 0.3706 - val_categorical_accuracy: 0.8775\n",
            "Epoch 9/300\n",
            "422/422 [==============================] - 13s 31ms/step - loss: 0.4129 - categorical_accuracy: 0.8603 - val_loss: 0.3551 - val_categorical_accuracy: 0.8817\n",
            "Epoch 10/300\n",
            "422/422 [==============================] - 13s 31ms/step - loss: 0.4037 - categorical_accuracy: 0.8643 - val_loss: 0.3543 - val_categorical_accuracy: 0.8823\n",
            "Epoch 11/300\n",
            "422/422 [==============================] - 13s 31ms/step - loss: 0.3986 - categorical_accuracy: 0.8659 - val_loss: 0.3647 - val_categorical_accuracy: 0.8782\n",
            "Epoch 12/300\n",
            "422/422 [==============================] - 13s 31ms/step - loss: 0.3845 - categorical_accuracy: 0.8700 - val_loss: 0.3544 - val_categorical_accuracy: 0.8828\n",
            "Epoch 13/300\n",
            "422/422 [==============================] - 13s 31ms/step - loss: 0.3813 - categorical_accuracy: 0.8718 - val_loss: 0.3387 - val_categorical_accuracy: 0.8903\n",
            "Epoch 14/300\n",
            "422/422 [==============================] - 13s 30ms/step - loss: 0.3750 - categorical_accuracy: 0.8744 - val_loss: 0.3356 - val_categorical_accuracy: 0.8902\n",
            "Epoch 15/300\n",
            "422/422 [==============================] - 13s 31ms/step - loss: 0.3658 - categorical_accuracy: 0.8783 - val_loss: 0.3423 - val_categorical_accuracy: 0.8867\n",
            "Epoch 16/300\n",
            "422/422 [==============================] - 13s 30ms/step - loss: 0.3640 - categorical_accuracy: 0.8772 - val_loss: 0.3314 - val_categorical_accuracy: 0.8917\n",
            "Epoch 17/300\n",
            "422/422 [==============================] - 13s 31ms/step - loss: 0.3556 - categorical_accuracy: 0.8812 - val_loss: 0.3308 - val_categorical_accuracy: 0.8915\n",
            "Epoch 18/300\n",
            "422/422 [==============================] - 13s 30ms/step - loss: 0.3550 - categorical_accuracy: 0.8807 - val_loss: 0.3290 - val_categorical_accuracy: 0.8920\n",
            "Epoch 19/300\n",
            "422/422 [==============================] - 13s 31ms/step - loss: 0.3484 - categorical_accuracy: 0.8830 - val_loss: 0.3265 - val_categorical_accuracy: 0.8942\n",
            "Epoch 20/300\n",
            "422/422 [==============================] - 13s 31ms/step - loss: 0.3435 - categorical_accuracy: 0.8858 - val_loss: 0.3239 - val_categorical_accuracy: 0.8928\n",
            "Epoch 21/300\n",
            "422/422 [==============================] - 13s 31ms/step - loss: 0.3401 - categorical_accuracy: 0.8874 - val_loss: 0.3259 - val_categorical_accuracy: 0.8952\n",
            "Epoch 22/300\n",
            "422/422 [==============================] - 13s 31ms/step - loss: 0.3348 - categorical_accuracy: 0.8871 - val_loss: 0.3225 - val_categorical_accuracy: 0.8928\n",
            "Epoch 23/300\n",
            "422/422 [==============================] - 13s 31ms/step - loss: 0.3316 - categorical_accuracy: 0.8881 - val_loss: 0.3234 - val_categorical_accuracy: 0.8950\n",
            "Epoch 24/300\n",
            "422/422 [==============================] - 13s 31ms/step - loss: 0.3320 - categorical_accuracy: 0.8900 - val_loss: 0.3212 - val_categorical_accuracy: 0.8970\n",
            "Epoch 25/300\n",
            "422/422 [==============================] - 13s 31ms/step - loss: 0.3250 - categorical_accuracy: 0.8911 - val_loss: 0.3175 - val_categorical_accuracy: 0.8965\n",
            "Epoch 26/300\n",
            "422/422 [==============================] - 13s 31ms/step - loss: 0.3213 - categorical_accuracy: 0.8931 - val_loss: 0.3197 - val_categorical_accuracy: 0.8965\n",
            "Epoch 27/300\n",
            "422/422 [==============================] - 13s 31ms/step - loss: 0.3233 - categorical_accuracy: 0.8933 - val_loss: 0.3191 - val_categorical_accuracy: 0.8967\n",
            "Epoch 28/300\n",
            "422/422 [==============================] - 13s 31ms/step - loss: 0.3189 - categorical_accuracy: 0.8935 - val_loss: 0.3157 - val_categorical_accuracy: 0.8957\n",
            "Epoch 29/300\n",
            "422/422 [==============================] - 13s 31ms/step - loss: 0.3147 - categorical_accuracy: 0.8960 - val_loss: 0.3138 - val_categorical_accuracy: 0.8978\n",
            "Epoch 30/300\n",
            "422/422 [==============================] - 13s 31ms/step - loss: 0.3142 - categorical_accuracy: 0.8955 - val_loss: 0.3135 - val_categorical_accuracy: 0.8973\n",
            "Epoch 31/300\n",
            "422/422 [==============================] - 13s 31ms/step - loss: 0.3093 - categorical_accuracy: 0.8979 - val_loss: 0.3160 - val_categorical_accuracy: 0.8988\n",
            "Epoch 32/300\n",
            "422/422 [==============================] - 13s 31ms/step - loss: 0.3081 - categorical_accuracy: 0.8978 - val_loss: 0.3139 - val_categorical_accuracy: 0.8960\n",
            "Epoch 33/300\n",
            "422/422 [==============================] - 13s 31ms/step - loss: 0.3039 - categorical_accuracy: 0.9000 - val_loss: 0.3139 - val_categorical_accuracy: 0.8990\n",
            "Epoch 34/300\n",
            "422/422 [==============================] - 13s 31ms/step - loss: 0.3039 - categorical_accuracy: 0.8990 - val_loss: 0.3140 - val_categorical_accuracy: 0.8980\n",
            "Epoch 35/300\n",
            "422/422 [==============================] - 13s 31ms/step - loss: 0.3005 - categorical_accuracy: 0.9003 - val_loss: 0.3162 - val_categorical_accuracy: 0.8963\n",
            "Epoch 36/300\n",
            "422/422 [==============================] - 13s 31ms/step - loss: 0.2986 - categorical_accuracy: 0.9024 - val_loss: 0.3151 - val_categorical_accuracy: 0.9000\n",
            "Epoch 37/300\n",
            "422/422 [==============================] - 13s 31ms/step - loss: 0.2991 - categorical_accuracy: 0.9014 - val_loss: 0.3145 - val_categorical_accuracy: 0.9002\n",
            "Epoch 38/300\n",
            "422/422 [==============================] - 13s 31ms/step - loss: 0.2980 - categorical_accuracy: 0.9018 - val_loss: 0.3107 - val_categorical_accuracy: 0.8988\n",
            "Epoch 39/300\n",
            "422/422 [==============================] - 13s 31ms/step - loss: 0.2962 - categorical_accuracy: 0.9025 - val_loss: 0.3096 - val_categorical_accuracy: 0.9030\n",
            "Epoch 40/300\n",
            "422/422 [==============================] - 13s 32ms/step - loss: 0.2906 - categorical_accuracy: 0.9031 - val_loss: 0.3089 - val_categorical_accuracy: 0.9022\n",
            "Epoch 41/300\n",
            "422/422 [==============================] - 13s 31ms/step - loss: 0.2900 - categorical_accuracy: 0.9030 - val_loss: 0.3152 - val_categorical_accuracy: 0.9012\n",
            "Epoch 42/300\n",
            "422/422 [==============================] - 13s 31ms/step - loss: 0.2900 - categorical_accuracy: 0.9048 - val_loss: 0.3136 - val_categorical_accuracy: 0.8995\n",
            "Epoch 43/300\n",
            "422/422 [==============================] - 13s 31ms/step - loss: 0.2884 - categorical_accuracy: 0.9042 - val_loss: 0.3111 - val_categorical_accuracy: 0.9015\n",
            "Epoch 44/300\n",
            "422/422 [==============================] - 13s 31ms/step - loss: 0.2883 - categorical_accuracy: 0.9061 - val_loss: 0.3078 - val_categorical_accuracy: 0.9003\n",
            "Epoch 45/300\n",
            "422/422 [==============================] - 13s 31ms/step - loss: 0.2851 - categorical_accuracy: 0.9071 - val_loss: 0.3079 - val_categorical_accuracy: 0.9015\n",
            "Epoch 46/300\n",
            "422/422 [==============================] - 13s 31ms/step - loss: 0.2876 - categorical_accuracy: 0.9058 - val_loss: 0.3084 - val_categorical_accuracy: 0.9027\n",
            "Epoch 47/300\n",
            "422/422 [==============================] - 13s 31ms/step - loss: 0.2847 - categorical_accuracy: 0.9059 - val_loss: 0.3127 - val_categorical_accuracy: 0.8970\n",
            "Epoch 48/300\n",
            "422/422 [==============================] - 13s 31ms/step - loss: 0.2811 - categorical_accuracy: 0.9087 - val_loss: 0.3123 - val_categorical_accuracy: 0.9002\n",
            "Epoch 49/300\n",
            "422/422 [==============================] - 13s 31ms/step - loss: 0.2779 - categorical_accuracy: 0.9089 - val_loss: 0.3091 - val_categorical_accuracy: 0.8998\n",
            "Epoch 50/300\n",
            "422/422 [==============================] - 13s 31ms/step - loss: 0.2775 - categorical_accuracy: 0.9083 - val_loss: 0.3124 - val_categorical_accuracy: 0.9018\n",
            "Epoch 51/300\n",
            "422/422 [==============================] - 13s 31ms/step - loss: 0.2752 - categorical_accuracy: 0.9102 - val_loss: 0.3150 - val_categorical_accuracy: 0.8993\n",
            "Epoch 52/300\n",
            "422/422 [==============================] - 13s 31ms/step - loss: 0.2765 - categorical_accuracy: 0.9098 - val_loss: 0.3095 - val_categorical_accuracy: 0.8998\n",
            "Epoch 53/300\n",
            "422/422 [==============================] - 13s 31ms/step - loss: 0.2747 - categorical_accuracy: 0.9099 - val_loss: 0.3055 - val_categorical_accuracy: 0.9013\n",
            "Epoch 54/300\n",
            "422/422 [==============================] - 13s 31ms/step - loss: 0.2721 - categorical_accuracy: 0.9117 - val_loss: 0.3098 - val_categorical_accuracy: 0.9040\n",
            "Epoch 55/300\n",
            "422/422 [==============================] - 13s 31ms/step - loss: 0.2724 - categorical_accuracy: 0.9107 - val_loss: 0.3080 - val_categorical_accuracy: 0.9020\n",
            "Epoch 56/300\n",
            "422/422 [==============================] - 13s 31ms/step - loss: 0.2729 - categorical_accuracy: 0.9107 - val_loss: 0.3090 - val_categorical_accuracy: 0.9052\n",
            "Epoch 57/300\n",
            "422/422 [==============================] - 13s 31ms/step - loss: 0.2721 - categorical_accuracy: 0.9111 - val_loss: 0.3084 - val_categorical_accuracy: 0.9018\n",
            "Epoch 58/300\n",
            "422/422 [==============================] - 13s 31ms/step - loss: 0.2687 - categorical_accuracy: 0.9126 - val_loss: 0.3069 - val_categorical_accuracy: 0.9027\n",
            "Epoch 59/300\n",
            "422/422 [==============================] - 13s 31ms/step - loss: 0.2718 - categorical_accuracy: 0.9115 - val_loss: 0.3120 - val_categorical_accuracy: 0.9027\n",
            "Epoch 60/300\n",
            "422/422 [==============================] - 13s 31ms/step - loss: 0.2668 - categorical_accuracy: 0.9146 - val_loss: 0.3030 - val_categorical_accuracy: 0.9015\n",
            "Epoch 61/300\n",
            "422/422 [==============================] - 13s 31ms/step - loss: 0.2671 - categorical_accuracy: 0.9133 - val_loss: 0.3096 - val_categorical_accuracy: 0.9040\n",
            "Epoch 62/300\n",
            "422/422 [==============================] - 13s 31ms/step - loss: 0.2663 - categorical_accuracy: 0.9143 - val_loss: 0.3116 - val_categorical_accuracy: 0.9047\n",
            "Epoch 63/300\n",
            "422/422 [==============================] - 13s 31ms/step - loss: 0.2670 - categorical_accuracy: 0.9151 - val_loss: 0.3026 - val_categorical_accuracy: 0.9008\n",
            "Epoch 64/300\n",
            "422/422 [==============================] - 13s 31ms/step - loss: 0.2676 - categorical_accuracy: 0.9126 - val_loss: 0.3095 - val_categorical_accuracy: 0.8995\n",
            "Epoch 65/300\n",
            "422/422 [==============================] - 13s 31ms/step - loss: 0.2600 - categorical_accuracy: 0.9165 - val_loss: 0.3155 - val_categorical_accuracy: 0.9025\n",
            "Epoch 66/300\n",
            "422/422 [==============================] - 13s 31ms/step - loss: 0.2631 - categorical_accuracy: 0.9156 - val_loss: 0.3128 - val_categorical_accuracy: 0.9035\n",
            "Epoch 67/300\n",
            "422/422 [==============================] - 13s 31ms/step - loss: 0.2593 - categorical_accuracy: 0.9168 - val_loss: 0.3093 - val_categorical_accuracy: 0.9023\n",
            "Epoch 68/300\n",
            "422/422 [==============================] - 13s 31ms/step - loss: 0.2616 - categorical_accuracy: 0.9155 - val_loss: 0.3135 - val_categorical_accuracy: 0.9023\n",
            "Epoch 69/300\n",
            "422/422 [==============================] - 13s 31ms/step - loss: 0.2603 - categorical_accuracy: 0.9156 - val_loss: 0.3170 - val_categorical_accuracy: 0.9000\n",
            "Epoch 70/300\n",
            "422/422 [==============================] - 13s 31ms/step - loss: 0.2609 - categorical_accuracy: 0.9154 - val_loss: 0.3127 - val_categorical_accuracy: 0.9025\n",
            "Epoch 71/300\n",
            "422/422 [==============================] - 13s 31ms/step - loss: 0.2597 - categorical_accuracy: 0.9159 - val_loss: 0.3177 - val_categorical_accuracy: 0.9000\n",
            "Epoch 72/300\n",
            "422/422 [==============================] - 13s 31ms/step - loss: 0.2596 - categorical_accuracy: 0.9166 - val_loss: 0.3067 - val_categorical_accuracy: 0.9042\n",
            "Epoch 73/300\n",
            "422/422 [==============================] - 13s 31ms/step - loss: 0.2597 - categorical_accuracy: 0.9152 - val_loss: 0.3091 - val_categorical_accuracy: 0.9013\n",
            "Epoch 74/300\n",
            "422/422 [==============================] - 13s 31ms/step - loss: 0.2593 - categorical_accuracy: 0.9171 - val_loss: 0.3123 - val_categorical_accuracy: 0.9038\n",
            "Epoch 75/300\n",
            "422/422 [==============================] - 13s 31ms/step - loss: 0.2590 - categorical_accuracy: 0.9168 - val_loss: 0.3094 - val_categorical_accuracy: 0.9018\n",
            "Epoch 76/300\n",
            "422/422 [==============================] - 13s 31ms/step - loss: 0.2593 - categorical_accuracy: 0.9154 - val_loss: 0.3081 - val_categorical_accuracy: 0.9050\n",
            "Epoch 77/300\n",
            "422/422 [==============================] - 13s 31ms/step - loss: 0.2576 - categorical_accuracy: 0.9180 - val_loss: 0.3106 - val_categorical_accuracy: 0.9048\n",
            "Epoch 78/300\n",
            "422/422 [==============================] - 13s 31ms/step - loss: 0.2534 - categorical_accuracy: 0.9181 - val_loss: 0.3075 - val_categorical_accuracy: 0.9032\n",
            "Epoch 79/300\n",
            "422/422 [==============================] - 13s 31ms/step - loss: 0.2508 - categorical_accuracy: 0.9209 - val_loss: 0.3094 - val_categorical_accuracy: 0.9050\n",
            "Epoch 80/300\n",
            "422/422 [==============================] - 13s 31ms/step - loss: 0.2526 - categorical_accuracy: 0.9194 - val_loss: 0.3123 - val_categorical_accuracy: 0.9045\n",
            "Epoch 81/300\n",
            "422/422 [==============================] - 13s 31ms/step - loss: 0.2517 - categorical_accuracy: 0.9211 - val_loss: 0.3106 - val_categorical_accuracy: 0.9018\n",
            "Epoch 82/300\n",
            "422/422 [==============================] - 13s 31ms/step - loss: 0.2496 - categorical_accuracy: 0.9211 - val_loss: 0.3076 - val_categorical_accuracy: 0.9035\n",
            "Epoch 83/300\n",
            "422/422 [==============================] - 13s 31ms/step - loss: 0.2491 - categorical_accuracy: 0.9216 - val_loss: 0.3106 - val_categorical_accuracy: 0.9062\n",
            "Epoch 84/300\n",
            "422/422 [==============================] - 13s 31ms/step - loss: 0.2515 - categorical_accuracy: 0.9188 - val_loss: 0.3168 - val_categorical_accuracy: 0.9020\n",
            "Epoch 85/300\n",
            "422/422 [==============================] - 13s 32ms/step - loss: 0.2512 - categorical_accuracy: 0.9193 - val_loss: 0.3146 - val_categorical_accuracy: 0.9015\n",
            "Epoch 86/300\n",
            "422/422 [==============================] - 13s 32ms/step - loss: 0.2502 - categorical_accuracy: 0.9201 - val_loss: 0.3125 - val_categorical_accuracy: 0.9043\n",
            "Epoch 87/300\n",
            "422/422 [==============================] - 13s 31ms/step - loss: 0.2483 - categorical_accuracy: 0.9213 - val_loss: 0.3089 - val_categorical_accuracy: 0.9018\n",
            "Epoch 88/300\n",
            "422/422 [==============================] - 13s 31ms/step - loss: 0.2479 - categorical_accuracy: 0.9213 - val_loss: 0.3195 - val_categorical_accuracy: 0.9025\n",
            "Epoch 89/300\n",
            "422/422 [==============================] - 13s 31ms/step - loss: 0.2489 - categorical_accuracy: 0.9210 - val_loss: 0.3153 - val_categorical_accuracy: 0.9052\n",
            "Epoch 90/300\n",
            "422/422 [==============================] - 13s 31ms/step - loss: 0.2451 - categorical_accuracy: 0.9232 - val_loss: 0.3157 - val_categorical_accuracy: 0.9050\n",
            "Epoch 91/300\n",
            "422/422 [==============================] - 13s 31ms/step - loss: 0.2496 - categorical_accuracy: 0.9209 - val_loss: 0.3138 - val_categorical_accuracy: 0.9062\n",
            "Epoch 92/300\n",
            "422/422 [==============================] - 13s 31ms/step - loss: 0.2454 - categorical_accuracy: 0.9226 - val_loss: 0.3172 - val_categorical_accuracy: 0.9043\n",
            "Epoch 93/300\n",
            "422/422 [==============================] - 13s 31ms/step - loss: 0.2495 - categorical_accuracy: 0.9206 - val_loss: 0.3201 - val_categorical_accuracy: 0.9047\n",
            "Epoch 94/300\n",
            "422/422 [==============================] - 13s 31ms/step - loss: 0.2466 - categorical_accuracy: 0.9226 - val_loss: 0.3104 - val_categorical_accuracy: 0.9053\n",
            "Epoch 95/300\n",
            "422/422 [==============================] - 13s 31ms/step - loss: 0.2452 - categorical_accuracy: 0.9219 - val_loss: 0.3152 - val_categorical_accuracy: 0.9038\n",
            "Epoch 96/300\n",
            "422/422 [==============================] - 13s 31ms/step - loss: 0.2437 - categorical_accuracy: 0.9232 - val_loss: 0.3191 - val_categorical_accuracy: 0.9035\n",
            "Epoch 97/300\n",
            "422/422 [==============================] - 13s 31ms/step - loss: 0.2425 - categorical_accuracy: 0.9234 - val_loss: 0.3212 - val_categorical_accuracy: 0.9038\n",
            "Epoch 98/300\n",
            "422/422 [==============================] - 13s 31ms/step - loss: 0.2464 - categorical_accuracy: 0.9228 - val_loss: 0.3157 - val_categorical_accuracy: 0.9053\n",
            "Epoch 99/300\n",
            "422/422 [==============================] - 13s 31ms/step - loss: 0.2462 - categorical_accuracy: 0.9223 - val_loss: 0.3120 - val_categorical_accuracy: 0.9057\n",
            "Epoch 100/300\n",
            "422/422 [==============================] - 13s 31ms/step - loss: 0.2443 - categorical_accuracy: 0.9229 - val_loss: 0.3170 - val_categorical_accuracy: 0.9075\n",
            "Epoch 101/300\n",
            "422/422 [==============================] - 13s 31ms/step - loss: 0.2416 - categorical_accuracy: 0.9248 - val_loss: 0.3140 - val_categorical_accuracy: 0.9052\n",
            "Epoch 102/300\n",
            "422/422 [==============================] - 13s 31ms/step - loss: 0.2435 - categorical_accuracy: 0.9225 - val_loss: 0.3171 - val_categorical_accuracy: 0.9050\n",
            "Epoch 103/300\n",
            "422/422 [==============================] - 13s 31ms/step - loss: 0.2392 - categorical_accuracy: 0.9251 - val_loss: 0.3096 - val_categorical_accuracy: 0.9025\n",
            "Epoch 104/300\n",
            "422/422 [==============================] - 13s 31ms/step - loss: 0.2431 - categorical_accuracy: 0.9236 - val_loss: 0.3081 - val_categorical_accuracy: 0.9052\n",
            "Epoch 105/300\n",
            "422/422 [==============================] - 13s 31ms/step - loss: 0.2416 - categorical_accuracy: 0.9248 - val_loss: 0.3106 - val_categorical_accuracy: 0.9060\n",
            "Epoch 106/300\n",
            "422/422 [==============================] - 13s 31ms/step - loss: 0.2417 - categorical_accuracy: 0.9244 - val_loss: 0.3175 - val_categorical_accuracy: 0.9045\n",
            "Epoch 107/300\n",
            "422/422 [==============================] - 13s 31ms/step - loss: 0.2401 - categorical_accuracy: 0.9254 - val_loss: 0.3134 - val_categorical_accuracy: 0.9050\n",
            "Epoch 108/300\n",
            "422/422 [==============================] - 13s 31ms/step - loss: 0.2391 - categorical_accuracy: 0.9251 - val_loss: 0.3168 - val_categorical_accuracy: 0.9052\n",
            "Epoch 109/300\n",
            "422/422 [==============================] - 13s 31ms/step - loss: 0.2402 - categorical_accuracy: 0.9251 - val_loss: 0.3097 - val_categorical_accuracy: 0.9055\n",
            "Epoch 110/300\n",
            "422/422 [==============================] - 13s 31ms/step - loss: 0.2376 - categorical_accuracy: 0.9264 - val_loss: 0.3149 - val_categorical_accuracy: 0.9030\n",
            "Epoch 111/300\n",
            "422/422 [==============================] - 13s 31ms/step - loss: 0.2391 - categorical_accuracy: 0.9254 - val_loss: 0.3115 - val_categorical_accuracy: 0.9067\n",
            "Epoch 112/300\n",
            "422/422 [==============================] - 13s 31ms/step - loss: 0.2394 - categorical_accuracy: 0.9259 - val_loss: 0.3161 - val_categorical_accuracy: 0.9048\n",
            "Epoch 113/300\n",
            "422/422 [==============================] - 13s 31ms/step - loss: 0.2409 - categorical_accuracy: 0.9254 - val_loss: 0.3062 - val_categorical_accuracy: 0.9067\n",
            "Epoch 114/300\n",
            "422/422 [==============================] - 13s 31ms/step - loss: 0.2389 - categorical_accuracy: 0.9253 - val_loss: 0.3097 - val_categorical_accuracy: 0.9063\n",
            "Epoch 115/300\n",
            "422/422 [==============================] - 13s 31ms/step - loss: 0.2363 - categorical_accuracy: 0.9261 - val_loss: 0.3144 - val_categorical_accuracy: 0.9053\n",
            "Epoch 116/300\n",
            "422/422 [==============================] - 13s 32ms/step - loss: 0.2383 - categorical_accuracy: 0.9259 - val_loss: 0.3157 - val_categorical_accuracy: 0.9042\n",
            "Epoch 117/300\n",
            "422/422 [==============================] - 13s 31ms/step - loss: 0.2406 - categorical_accuracy: 0.9260 - val_loss: 0.3077 - val_categorical_accuracy: 0.9057\n",
            "Epoch 118/300\n",
            "422/422 [==============================] - 14s 32ms/step - loss: 0.2407 - categorical_accuracy: 0.9246 - val_loss: 0.3089 - val_categorical_accuracy: 0.9042\n",
            "Epoch 119/300\n",
            "422/422 [==============================] - 13s 31ms/step - loss: 0.2329 - categorical_accuracy: 0.9269 - val_loss: 0.3110 - val_categorical_accuracy: 0.9070\n",
            "Epoch 120/300\n",
            "422/422 [==============================] - 13s 31ms/step - loss: 0.2347 - categorical_accuracy: 0.9279 - val_loss: 0.3066 - val_categorical_accuracy: 0.9060\n",
            "Epoch 121/300\n",
            "422/422 [==============================] - 14s 32ms/step - loss: 0.2360 - categorical_accuracy: 0.9254 - val_loss: 0.3065 - val_categorical_accuracy: 0.9070\n",
            "Epoch 122/300\n",
            "422/422 [==============================] - 14s 32ms/step - loss: 0.2342 - categorical_accuracy: 0.9285 - val_loss: 0.3127 - val_categorical_accuracy: 0.9037\n",
            "Epoch 123/300\n",
            "422/422 [==============================] - 14s 32ms/step - loss: 0.2350 - categorical_accuracy: 0.9252 - val_loss: 0.3080 - val_categorical_accuracy: 0.9063\n",
            "313/313 [==============================] - 1s 4ms/step - loss: 0.3295 - categorical_accuracy: 0.9023\n",
            "\n",
            "Test accuracy: 0.9023000001907349\n"
          ]
        }
      ]
    },
    {
      "cell_type": "code",
      "source": [
        "print('\\nhistory dict:', list(history.history.keys()))"
      ],
      "metadata": {
        "id": "CxRE-B_Q6Sii",
        "outputId": "908b62d0-736b-483c-bc25-980c27c1b3cc",
        "colab": {
          "base_uri": "https://localhost:8080/"
        }
      },
      "execution_count": 112,
      "outputs": [
        {
          "output_type": "stream",
          "name": "stdout",
          "text": [
            "\n",
            "history dict: ['loss', 'categorical_accuracy', 'val_loss', 'val_categorical_accuracy']\n"
          ]
        }
      ]
    },
    {
      "cell_type": "code",
      "source": [
        "result = model.evaluate(x_test, y_test)\n",
        "print(result)"
      ],
      "metadata": {
        "id": "YXpwRRTvTBNg",
        "outputId": "850c9de4-282b-4b80-cc0f-34f6daa04334",
        "colab": {
          "base_uri": "https://localhost:8080/"
        }
      },
      "execution_count": 113,
      "outputs": [
        {
          "output_type": "stream",
          "name": "stdout",
          "text": [
            "313/313 [==============================] - 2s 5ms/step - loss: 0.3295 - categorical_accuracy: 0.9023\n",
            "[0.3295343816280365, 0.9023000001907349]\n"
          ]
        }
      ]
    },
    {
      "cell_type": "code",
      "source": [
        "saved_model = load_model('best_model.h5')\n",
        "result = saved_model.evaluate(x_test, y_test)\n",
        "print(result)"
      ],
      "metadata": {
        "id": "dpaZAW0vp1AZ",
        "outputId": "2dabc4d1-21fb-464d-8770-4a3c24d036c0",
        "colab": {
          "base_uri": "https://localhost:8080/"
        }
      },
      "execution_count": 114,
      "outputs": [
        {
          "output_type": "stream",
          "name": "stdout",
          "text": [
            "313/313 [==============================] - 2s 4ms/step - loss: 0.3336 - categorical_accuracy: 0.9001\n",
            "[0.33359086513519287, 0.9000999927520752]\n"
          ]
        }
      ]
    },
    {
      "cell_type": "code",
      "source": [
        "# from keras.models import load_model\n",
        "# saved_model = load_model('best_model.h5')\n",
        "# # _, train_acc = saved_model.evaluate(x_train, y_train, verbose=0)\n",
        "# _, test_acc = saved_model.evaluate(x_test, y_test, verbose=0)\n",
        "# print('Test: %.3f' % (test_acc))"
      ],
      "metadata": {
        "id": "DR_MS9DABo_K"
      },
      "execution_count": 115,
      "outputs": []
    },
    {
      "cell_type": "code",
      "source": [
        "history_dict = history.history\n",
        "loss_values = history_dict['loss']\n",
        "val_loss_values = history_dict['val_loss']\n",
        "\n",
        "epochs = range(1, len(history_dict['loss']) + 1)\n",
        "\n",
        "plt.figure(figsize=(10, 5))\n",
        "plt.plot(epochs, loss_values, 'bo', label='Training loss')\n",
        "plt.plot(epochs, val_loss_values, 'r', label='Validation loss')\n",
        "plt.ylim (0.2, 0.5)\n",
        "plt.title('Training and validation loss')\n",
        "plt.xlabel('Epochs')\n",
        "plt.ylabel('Loss')\n",
        "plt.legend()\n",
        "plt.grid(True)\n",
        "plt.show()\n",
        "1\n",
        "plt.clf()\n",
        "plt.figure(figsize=(10, 5))\n",
        "val_acc_values = history_dict['categorical_accuracy']\n",
        "plt.plot(epochs, history_dict['categorical_accuracy'], 'bo', label='Training acc')\n",
        "plt.plot(epochs, history_dict['val_categorical_accuracy'], 'r', label='Validation acc')\n",
        "plt.ylim (0.86, 0.94)\n",
        "plt.title('Training and validation accuracy')\n",
        "plt.xlabel('Epochs')\n",
        "plt.ylabel('Accuracy')\n",
        "plt.legend()\n",
        "plt.grid(True)"
      ],
      "metadata": {
        "id": "2Ll_5sGlXKMH",
        "outputId": "c1871535-660b-4e4c-eedb-4421d9a327b0",
        "colab": {
          "base_uri": "https://localhost:8080/",
          "height": 975
        }
      },
      "execution_count": 116,
      "outputs": [
        {
          "output_type": "display_data",
          "data": {
            "text/plain": [
              "<Figure size 1000x500 with 1 Axes>"
            ],
            "image/png": "[encoded data removed]"
          },
          "metadata": {}
        },
        {
          "output_type": "display_data",
          "data": {
            "text/plain": [
              "<Figure size 640x480 with 0 Axes>"
            ]
          },
          "metadata": {}
        },
        {
          "output_type": "display_data",
          "data": {
            "text/plain": [
              "<Figure size 1000x500 with 1 Axes>"
            ],
            "image/png": "[encoded data removed]"
          },
          "metadata": {}
        }
      ]
    },
    {
      "cell_type": "code",
      "source": [
        "probability_model = tf.keras.Sequential([model,\n",
        "                                         tf.keras.layers.Softmax()])"
      ],
      "metadata": {
        "id": "VzOdKAT_uV-f"
      },
      "execution_count": 117,
      "outputs": []
    },
    {
      "cell_type": "code",
      "source": [
        "predictions = probability_model.predict(x_test)"
      ],
      "metadata": {
        "id": "f4is3NFruYom",
        "outputId": "64f6c398-118c-47f9-d618-f5603825832c",
        "colab": {
          "base_uri": "https://localhost:8080/"
        }
      },
      "execution_count": 118,
      "outputs": [
        {
          "output_type": "stream",
          "name": "stdout",
          "text": [
            "313/313 [==============================] - 1s 3ms/step\n"
          ]
        }
      ]
    },
    {
      "cell_type": "code",
      "source": [
        "predictions[0]"
      ],
      "metadata": {
        "id": "82cigvlZudz_",
        "outputId": "068860c3-bba1-4ad8-db7b-dbdc568e5833",
        "colab": {
          "base_uri": "https://localhost:8080/"
        }
      },
      "execution_count": 119,
      "outputs": [
        {
          "output_type": "execute_result",
          "data": {
            "text/plain": [
              "array([0.08536124, 0.08536124, 0.08536124, 0.08536124, 0.08536124,\n",
              "       0.08536753, 0.08536124, 0.08552261, 0.08536124, 0.23158106],\n",
              "      dtype=float32)"
            ]
          },
          "metadata": {},
          "execution_count": 119
        }
      ]
    },
    {
      "cell_type": "code",
      "source": [
        "model.summary()"
      ],
      "metadata": {
        "id": "6RsQPHyYuNGe",
        "outputId": "9b091555-56ed-44a5-aaa4-5f32bb99e78a",
        "colab": {
          "base_uri": "https://localhost:8080/"
        }
      },
      "execution_count": 120,
      "outputs": [
        {
          "output_type": "stream",
          "name": "stdout",
          "text": [
            "Model: \"sequential_8\"\n",
            "_________________________________________________________________\n",
            " Layer (type)                Output Shape              Param #   \n",
            "=================================================================\n",
            " flatten_4 (Flatten)         (None, 784)               0         \n",
            "                                                                 \n",
            " dropout_16 (Dropout)        (None, 784)               0         \n",
            "                                                                 \n",
            " batch_normalization_12 (Ba  (None, 784)               3136      \n",
            " tchNormalization)                                               \n",
            "                                                                 \n",
            " dense_16 (Dense)            (None, 256)               200960    \n",
            "                                                                 \n",
            " dropout_17 (Dropout)        (None, 256)               0         \n",
            "                                                                 \n",
            " batch_normalization_13 (Ba  (None, 256)               1024      \n",
            " tchNormalization)                                               \n",
            "                                                                 \n",
            " dense_17 (Dense)            (None, 512)               131584    \n",
            "                                                                 \n",
            " dropout_18 (Dropout)        (None, 512)               0         \n",
            "                                                                 \n",
            " batch_normalization_14 (Ba  (None, 512)               2048      \n",
            " tchNormalization)                                               \n",
            "                                                                 \n",
            " dense_18 (Dense)            (None, 512)               262656    \n",
            "                                                                 \n",
            " dropout_19 (Dropout)        (None, 512)               0         \n",
            "                                                                 \n",
            " dense_19 (Dense)            (None, 10)                5130      \n",
            "                                                                 \n",
            "=================================================================\n",
            "Total params: 606538 (2.31 MB)\n",
            "Trainable params: 603434 (2.30 MB)\n",
            "Non-trainable params: 3104 (12.12 KB)\n",
            "_________________________________________________________________\n"
          ]
        }
      ]
    }
  ]
}