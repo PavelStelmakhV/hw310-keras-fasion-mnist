{
  "nbformat": 4,
  "nbformat_minor": 0,
  "metadata": {
    "colab": {
      "provenance": [],
      "gpuType": "T4",
      "authorship_tag": "ABX9TyOGbaY1Tb8FRgAVnC4r+qtH",
      "include_colab_link": true
    },
    "kernelspec": {
      "name": "python3",
      "display_name": "Python 3"
    },
    "language_info": {
      "name": "python"
    },
    "accelerator": "GPU"
  },
  "cells": [
    {
      "cell_type": "markdown",
      "metadata": {
        "id": "view-in-github",
        "colab_type": "text"
      },
      "source": [
        "<a href=\"https://colab.research.google.com/github/PavelStelmakhV/hw310-keras-fasion-mnist/blob/main/keras_fasion_mnist_hw.ipynb\" target=\"_parent\"><img src=\"https://colab.research.google.com/assets/colab-badge.svg\" alt=\"Open In Colab\"/></a>"
      ]
    },
    {
      "cell_type": "code",
      "source": [
        "import tensorflow as tf\n",
        "from tensorflow.python.client import device_lib\n",
        "print(device_lib.list_local_devices())"
      ],
      "metadata": {
        "colab": {
          "base_uri": "https://localhost:8080/"
        },
        "id": "CQL6wYJUms6Y",
        "outputId": "6bb9dbff-f46d-4eb5-91cd-bb75fc09a184"
      },
      "execution_count": 43,
      "outputs": [
        {
          "output_type": "stream",
          "name": "stdout",
          "text": [
            "[name: \"/device:CPU:0\"\n",
            "device_type: \"CPU\"\n",
            "memory_limit: 268435456\n",
            "locality {\n",
            "}\n",
            "incarnation: 14266367541128501988\n",
            "xla_global_id: -1\n",
            ", name: \"/device:GPU:0\"\n",
            "device_type: \"GPU\"\n",
            "memory_limit: 14626652160\n",
            "locality {\n",
            "  bus_id: 1\n",
            "  links {\n",
            "  }\n",
            "}\n",
            "incarnation: 13531245105676026148\n",
            "physical_device_desc: \"device: 0, name: Tesla T4, pci bus id: 0000:00:04.0, compute capability: 7.5\"\n",
            "xla_global_id: 416903419\n",
            "]\n"
          ]
        }
      ]
    },
    {
      "cell_type": "code",
      "execution_count": 44,
      "metadata": {
        "id": "vv7w0bgAVQPO"
      },
      "outputs": [],
      "source": [
        "import tensorflow as tf\n",
        "import numpy as np\n",
        "import matplotlib.pyplot as plt\n",
        "import tf_keras\n",
        "\n",
        "from keras import layers\n",
        "from keras import models\n",
        "from keras import regularizers\n",
        "from keras import callbacks\n",
        "from keras import initializers\n",
        "from keras.layers import BatchNormalization\n",
        "from keras.models import load_model"
      ]
    },
    {
      "cell_type": "code",
      "source": [
        "num_classes = 10"
      ],
      "metadata": {
        "id": "RvT1uYJsa5cn"
      },
      "execution_count": 45,
      "outputs": []
    },
    {
      "cell_type": "code",
      "source": [
        "fashion_mnist = tf.keras.datasets.fashion_mnist\n",
        "\n",
        "(x_train, y_train), (x_test, y_test) = fashion_mnist.load_data()"
      ],
      "metadata": {
        "id": "mOpywsNAzfGB"
      },
      "execution_count": 46,
      "outputs": []
    },
    {
      "cell_type": "code",
      "source": [
        "np.transpose(y_train).shape"
      ],
      "metadata": {
        "id": "djIFwQxwMvQR",
        "outputId": "5693466a-c15d-4df7-ecc1-897c9e9c9f06",
        "colab": {
          "base_uri": "https://localhost:8080/"
        }
      },
      "execution_count": 47,
      "outputs": [
        {
          "output_type": "execute_result",
          "data": {
            "text/plain": [
              "(60000,)"
            ]
          },
          "metadata": {},
          "execution_count": 47
        }
      ]
    },
    {
      "cell_type": "code",
      "source": [
        "y_train.shape"
      ],
      "metadata": {
        "id": "clHS88VQNR82",
        "outputId": "b6017ad3-6dc1-4ad0-b625-edff5dfa87f8",
        "colab": {
          "base_uri": "https://localhost:8080/"
        }
      },
      "execution_count": 48,
      "outputs": [
        {
          "output_type": "execute_result",
          "data": {
            "text/plain": [
              "(60000,)"
            ]
          },
          "metadata": {},
          "execution_count": 48
        }
      ]
    },
    {
      "cell_type": "code",
      "source": [
        "def drow_hist(data):\n",
        "  plt.figure(figsize=(8,6), dpi= 80)\n",
        "  _ = plt.hist(data,\n",
        "              bins=num_classes,\n",
        "              stacked=True,\n",
        "              density=False,\n",
        "              range=(0,10),\n",
        "              rwidth=0.9,\n",
        "              )"
      ],
      "metadata": {
        "id": "NjEvuOvomEoT"
      },
      "execution_count": 49,
      "outputs": []
    },
    {
      "cell_type": "code",
      "source": [
        "# create validation data\n",
        "val_size = 10000\n",
        "\n",
        "x_val = x_train[-val_size:, :, :]\n",
        "x_train = x_train[:-val_size, :, :]\n",
        "\n",
        "y_val = y_train[-val_size:]\n",
        "y_train = y_train[:-val_size]"
      ],
      "metadata": {
        "id": "jAs92sDoVU89"
      },
      "execution_count": 50,
      "outputs": []
    },
    {
      "cell_type": "code",
      "source": [
        "# mirror train image\n",
        "x_train_add = np.rot90(x_train, k=1, axes=(1,2))\n",
        "x_train_add = np.transpose(x_train_add, (0, 2, 1))"
      ],
      "metadata": {
        "id": "UHNuw-3D_v7x"
      },
      "execution_count": 51,
      "outputs": []
    },
    {
      "cell_type": "code",
      "source": [
        "y_train_add = y_train.copy()"
      ],
      "metadata": {
        "id": "TNDXV8RfZbt1"
      },
      "execution_count": 52,
      "outputs": []
    },
    {
      "cell_type": "code",
      "source": [
        "# remove boots image from addition data [5, 7, 9]\n",
        "for i in [5, 7, 9]:\n",
        "    index = np.where(y_train_add == i )\n",
        "    x_train_add = np.delete(x_train_add, index , axis=0)\n",
        "    y_train_add = np.delete(y_train_add, index , axis=0)"
      ],
      "metadata": {
        "id": "506yp4e5UqKp"
      },
      "execution_count": 53,
      "outputs": []
    },
    {
      "cell_type": "code",
      "source": [
        "x_train_add.shape"
      ],
      "metadata": {
        "colab": {
          "base_uri": "https://localhost:8080/"
        },
        "id": "WB-PVgBb116E",
        "outputId": "ad833051-f9a5-4616-98c4-03d3e9cc7706"
      },
      "execution_count": 54,
      "outputs": [
        {
          "output_type": "execute_result",
          "data": {
            "text/plain": [
              "(34972, 28, 28)"
            ]
          },
          "metadata": {},
          "execution_count": 54
        }
      ]
    },
    {
      "cell_type": "code",
      "source": [
        "y_train_add.shape"
      ],
      "metadata": {
        "colab": {
          "base_uri": "https://localhost:8080/"
        },
        "id": "MjteIWwr2V-N",
        "outputId": "cdc68e62-79e8-4df2-bbbc-299a8ff5d67d"
      },
      "execution_count": 55,
      "outputs": [
        {
          "output_type": "execute_result",
          "data": {
            "text/plain": [
              "(34972,)"
            ]
          },
          "metadata": {},
          "execution_count": 55
        }
      ]
    },
    {
      "cell_type": "code",
      "source": [
        "x_train = np.concatenate([\n",
        "    x_train,\n",
        "    x_train_add[:10000:, :, :]\n",
        "])"
      ],
      "metadata": {
        "id": "C25g0-L5PuhV"
      },
      "execution_count": 56,
      "outputs": []
    },
    {
      "cell_type": "code",
      "source": [
        "y_train = np.concatenate([\n",
        "    y_train,\n",
        "    y_train_add[:10000]\n",
        "])"
      ],
      "metadata": {
        "id": "JiyI9CE-RWnR"
      },
      "execution_count": 57,
      "outputs": []
    },
    {
      "cell_type": "code",
      "source": [
        "drow_hist(y_train)"
      ],
      "metadata": {
        "colab": {
          "base_uri": "https://localhost:8080/",
          "height": 420
        },
        "id": "j0FZ4_7DpRVw",
        "outputId": "c3668697-17a0-435d-d53d-9ae495167090"
      },
      "execution_count": 58,
      "outputs": [
        {
          "output_type": "display_data",
          "data": {
            "text/plain": [
              "<Figure size 640x480 with 1 Axes>"
            ],
            "image/png": "[encoded data removed]"
          },
          "metadata": {}
        }
      ]
    },
    {
      "cell_type": "code",
      "source": [
        "# plt.figure()\n",
        "# plt.imshow(x_train[7])\n",
        "# plt.colorbar()\n",
        "# plt.grid(False)\n",
        "# plt.show()"
      ],
      "metadata": {
        "id": "mq_QalIABCeU"
      },
      "execution_count": 59,
      "outputs": []
    },
    {
      "cell_type": "code",
      "source": [
        "# plt.figure()\n",
        "# plt.imshow(x_train_add[0])\n",
        "# plt.colorbar()\n",
        "# plt.grid(False)\n",
        "# plt.show()"
      ],
      "metadata": {
        "id": "CDLNL7Zw3HEc"
      },
      "execution_count": 60,
      "outputs": []
    },
    {
      "cell_type": "code",
      "source": [
        "x_train = x_train.astype('float32') / 255\n",
        "x_test = x_test.astype('float32') / 255\n",
        "\n",
        "y_train = y_train.astype('float32')\n",
        "y_test = y_test.astype('float32')\n",
        "\n",
        "x_val = x_val.astype('float32') / 255\n",
        "y_val = y_val.astype('float32')"
      ],
      "metadata": {
        "id": "t2gucjsJ0KUi"
      },
      "execution_count": 61,
      "outputs": []
    },
    {
      "cell_type": "code",
      "source": [
        "# class_names = ['T-shirt/top', 'Trouser', 'Pullover', 'Dress', 'Coat',\n",
        "#                'Sandal', 'Shirt', 'Sneaker', 'Bag', 'Ankle boot']\n",
        "\n",
        "# plt.figure(figsize=(10,10))\n",
        "# for i in range(25):\n",
        "#     plt.subplot(5,5,i+1)\n",
        "#     plt.xticks([])\n",
        "#     plt.yticks([])\n",
        "#     plt.grid(False)\n",
        "#     plt.imshow(x_train[i+50000], cmap=plt.cm.binary)\n",
        "#     plt.xlabel(class_names[int(y_train[i+50000])])\n",
        "# plt.show()"
      ],
      "metadata": {
        "id": "h4LveKxM4hyC"
      },
      "execution_count": 62,
      "outputs": []
    },
    {
      "cell_type": "code",
      "source": [
        "# plt.figure(figsize=(10,10))\n",
        "# for i in range(25):\n",
        "#     plt.subplot(5,5,i+1)\n",
        "#     plt.xticks([])\n",
        "#     plt.yticks([])\n",
        "#     plt.grid(False)\n",
        "#     plt.imshow(x_train[i], cmap=plt.cm.binary)\n",
        "#     plt.xlabel(class_names[int(y_train[i])])\n",
        "# plt.show()"
      ],
      "metadata": {
        "id": "hljEDYd55d8Q"
      },
      "execution_count": 63,
      "outputs": []
    },
    {
      "cell_type": "code",
      "source": [
        "w_init_tanh = initializers.glorot_normal(seed=111)\n",
        "w_init_relu = initializers.HeNormal(seed=66)\n",
        "# w_init_relu = initializers.HeUniform(seed=24)\n",
        "b_init = initializers.Zeros()"
      ],
      "metadata": {
        "id": "yL9QTEtBGy4N"
      },
      "execution_count": 64,
      "outputs": []
    },
    {
      "cell_type": "code",
      "source": [
        "drop_out = 0.33"
      ],
      "metadata": {
        "id": "flsDcVTnU10J"
      },
      "execution_count": 65,
      "outputs": []
    },
    {
      "cell_type": "code",
      "source": [
        "def layer_relu(model, neurons):\n",
        "  model.add(BatchNormalization())\n",
        "  model.add(layers.Dense(neurons,\n",
        "                       activation='relu',\n",
        "                       kernel_initializer=w_init_relu,\n",
        "                       bias_initializer=b_init))\n",
        "  model.add(layers.Dropout(drop_out))\n",
        "  return model"
      ],
      "metadata": {
        "id": "ZZgs_25rKBCp"
      },
      "execution_count": 66,
      "outputs": []
    },
    {
      "cell_type": "code",
      "source": [
        "def layer_tanh(model, neurons):\n",
        "  model.add(BatchNormalization())\n",
        "  model.add(layers.Dense(neurons,\n",
        "                        activation='tanh',\n",
        "                        kernel_initializer=w_init_tanh,\n",
        "                        bias_initializer=b_init))\n",
        "  model.add(layers.Dropout(drop_out))\n",
        "  return model"
      ],
      "metadata": {
        "id": "90JLLnkBR50t"
      },
      "execution_count": 67,
      "outputs": []
    },
    {
      "cell_type": "code",
      "source": [
        "model = models.Sequential()\n",
        "\n",
        "neurons = 256\n",
        "\n",
        "model.add(layers.Flatten(input_shape=(28, 28)))\n",
        "model.add(layers.Dropout(drop_out))\n",
        "\n",
        "model = layer_relu(model, neurons*1)\n",
        "model = layer_relu(model, neurons*2)\n",
        "model = layer_relu(model, neurons*2)\n",
        "# model = layer_relu(model, neurons*1)\n",
        "\n",
        "\n",
        "model.add(layers.Dense(10, activation='softmax'))"
      ],
      "metadata": {
        "id": "atS39i4d0aqW"
      },
      "execution_count": 68,
      "outputs": []
    },
    {
      "cell_type": "markdown",
      "source": [
        "++++++++++++++++++++++++++++++++++++++++++++++++++++++++++++++++++++++++++++++++"
      ],
      "metadata": {
        "id": "tZO7hl7pM63y"
      }
    },
    {
      "cell_type": "code",
      "source": [
        "# optimizer = tf.keras.optimizers.Nadam(learning_rate=0.0003,\n",
        "#                                       beta_1=0.92,\n",
        "#                                       beta_2=0.999,\n",
        "#                                       epsilon=1e-04\n",
        "# )\n",
        "optimizer = tf.keras.optimizers.experimental.RMSprop(learning_rate=0.001,\n",
        "                                                    rho=0.9,\n",
        "                                                    momentum=-8,\n",
        "                                                    epsilon=1e-07,\n",
        "                                                    centered=False,\n",
        "                                                    weight_decay=None,\n",
        "                                                    clipnorm=None,\n",
        "                                                    clipvalue=None,\n",
        "                                                    global_clipnorm=None,\n",
        "                                                    use_ema=False,\n",
        "                                                    ema_momentum=0.99,\n",
        "                                                    ema_overwrite_frequency=100,\n",
        "                                                    jit_compile=True,\n",
        "                                                    name='RMSprop',\n",
        ")"
      ],
      "metadata": {
        "id": "EzfnaqIZlfy8"
      },
      "execution_count": 69,
      "outputs": []
    },
    {
      "cell_type": "markdown",
      "source": [
        "++++++++++++++++++++++++++++++++++++++++++++++++++++++++++++++++++++++++++++++++"
      ],
      "metadata": {
        "id": "KHmBptvOM95Z"
      }
    },
    {
      "cell_type": "code",
      "source": [
        "model.compile(#optimizer='adam',\n",
        "              # optimizer='adamax',\n",
        "              optimizer=optimizer,\n",
        "              # optimizer='rmsprop',\n",
        "              # optimizer='sgd',\n",
        "              # optimizer='adadelta',\n",
        "              # loss='binary_crossentropy',\n",
        "              loss=tf.keras.losses.SparseCategoricalCrossentropy(),\n",
        "              metrics=['sparse_categorical_accuracy']) # sparse_categorical_accuracy"
      ],
      "metadata": {
        "id": "hENVaAC7ilNY"
      },
      "execution_count": 70,
      "outputs": []
    },
    {
      "cell_type": "code",
      "source": [
        "x = np.random.random((1, 28, 28))\n",
        "a = model.predict(x)\n",
        "_ = plt.hist(np.transpose(a))"
      ],
      "metadata": {
        "id": "RFgZHNNFMa8p",
        "outputId": "5b13a4b8-4964-4d54-f21c-7f6b356801cd",
        "colab": {
          "base_uri": "https://localhost:8080/",
          "height": 448
        }
      },
      "execution_count": 71,
      "outputs": [
        {
          "output_type": "stream",
          "name": "stdout",
          "text": [
            "1/1 [==============================] - 0s 109ms/step\n"
          ]
        },
        {
          "output_type": "display_data",
          "data": {
            "text/plain": [
              "<Figure size 640x480 with 1 Axes>"
            ],
            "image/png": "[encoded data removed]"
          },
          "metadata": {}
        }
      ]
    },
    {
      "cell_type": "code",
      "source": [
        "y_pred = model.predict(x_test)"
      ],
      "metadata": {
        "id": "UDP8OKKZ8oQa",
        "outputId": "7c950e3e-31bb-40fd-8f9d-c5534d5085eb",
        "colab": {
          "base_uri": "https://localhost:8080/"
        }
      },
      "execution_count": 72,
      "outputs": [
        {
          "output_type": "stream",
          "name": "stdout",
          "text": [
            "313/313 [==============================] - 1s 2ms/step\n"
          ]
        }
      ]
    },
    {
      "cell_type": "code",
      "source": [
        "callback = callbacks.EarlyStopping(monitor='val_loss',\n",
        "                                   patience=15,\n",
        "                                   restore_best_weights=True,\n",
        "                                   )\n",
        "es = callbacks.EarlyStopping(monitor='val_loss', mode='min', verbose=0, patience=15)\n",
        "mc = callbacks.ModelCheckpoint('best_model.h5', monitor='sparse_categorical_accuracy', mode='max', verbose=0, save_best_only=True)\n"
      ],
      "metadata": {
        "id": "5ihU4exVlsjm"
      },
      "execution_count": 73,
      "outputs": []
    },
    {
      "cell_type": "code",
      "source": [
        "history = model.fit(x_train, y_train,\n",
        "                    epochs=200,\n",
        "                    batch_size=64,\n",
        "                    # callbacks=[callback],\n",
        "                    callbacks=[mc, es],\n",
        "                    verbose=1, #многословие\n",
        "                    # validation_split=0.2\n",
        "                    validation_data=(x_val, y_val)\n",
        "                    )\n",
        "test_loss, test_acc = model.evaluate(x_test, y_test)\n",
        "print('\\nTest accuracy:', test_acc)"
      ],
      "metadata": {
        "id": "FH8HcMNm233I",
        "outputId": "e49fa968-e513-4344-89a5-6189d466977c",
        "colab": {
          "base_uri": "https://localhost:8080/"
        }
      },
      "execution_count": 74,
      "outputs": [
        {
          "output_type": "stream",
          "name": "stdout",
          "text": [
            "Epoch 1/200\n",
            "938/938 [==============================] - 8s 7ms/step - loss: 0.7784 - sparse_categorical_accuracy: 0.7294 - val_loss: 0.5177 - val_sparse_categorical_accuracy: 0.8083\n",
            "Epoch 2/200\n",
            "938/938 [==============================] - 5s 6ms/step - loss: 0.5866 - sparse_categorical_accuracy: 0.7942 - val_loss: 0.4204 - val_sparse_categorical_accuracy: 0.8502\n",
            "Epoch 3/200\n",
            "938/938 [==============================] - 6s 7ms/step - loss: 0.5459 - sparse_categorical_accuracy: 0.8084 - val_loss: 0.4107 - val_sparse_categorical_accuracy: 0.8476\n",
            "Epoch 4/200\n",
            "938/938 [==============================] - 6s 6ms/step - loss: 0.5231 - sparse_categorical_accuracy: 0.8153 - val_loss: 0.4021 - val_sparse_categorical_accuracy: 0.8540\n",
            "Epoch 5/200\n",
            "938/938 [==============================] - 6s 7ms/step - loss: 0.5067 - sparse_categorical_accuracy: 0.8207 - val_loss: 0.3771 - val_sparse_categorical_accuracy: 0.8637\n",
            "Epoch 6/200\n",
            "938/938 [==============================] - 5s 6ms/step - loss: 0.5027 - sparse_categorical_accuracy: 0.8233 - val_loss: 0.3795 - val_sparse_categorical_accuracy: 0.8712\n",
            "Epoch 7/200\n",
            "938/938 [==============================] - 6s 6ms/step - loss: 0.4862 - sparse_categorical_accuracy: 0.8293 - val_loss: 0.3787 - val_sparse_categorical_accuracy: 0.8635\n",
            "Epoch 8/200\n",
            "938/938 [==============================] - 5s 6ms/step - loss: 0.4881 - sparse_categorical_accuracy: 0.8299 - val_loss: 0.3681 - val_sparse_categorical_accuracy: 0.8665\n",
            "Epoch 9/200\n",
            "938/938 [==============================] - 6s 6ms/step - loss: 0.4798 - sparse_categorical_accuracy: 0.8329 - val_loss: 0.3636 - val_sparse_categorical_accuracy: 0.8685\n",
            "Epoch 10/200\n",
            "938/938 [==============================] - 6s 6ms/step - loss: 0.4712 - sparse_categorical_accuracy: 0.8348 - val_loss: 0.3606 - val_sparse_categorical_accuracy: 0.8739\n",
            "Epoch 11/200\n",
            "938/938 [==============================] - 6s 6ms/step - loss: 0.4699 - sparse_categorical_accuracy: 0.8352 - val_loss: 0.3541 - val_sparse_categorical_accuracy: 0.8727\n",
            "Epoch 12/200\n",
            "938/938 [==============================] - 6s 7ms/step - loss: 0.4626 - sparse_categorical_accuracy: 0.8400 - val_loss: 0.3505 - val_sparse_categorical_accuracy: 0.8731\n",
            "Epoch 13/200\n",
            "938/938 [==============================] - 5s 6ms/step - loss: 0.4595 - sparse_categorical_accuracy: 0.8392 - val_loss: 0.3537 - val_sparse_categorical_accuracy: 0.8736\n",
            "Epoch 14/200\n",
            "938/938 [==============================] - 6s 7ms/step - loss: 0.4521 - sparse_categorical_accuracy: 0.8408 - val_loss: 0.3580 - val_sparse_categorical_accuracy: 0.8712\n",
            "Epoch 15/200\n",
            "938/938 [==============================] - 6s 6ms/step - loss: 0.4527 - sparse_categorical_accuracy: 0.8415 - val_loss: 0.3469 - val_sparse_categorical_accuracy: 0.8780\n",
            "Epoch 16/200\n",
            "938/938 [==============================] - 6s 7ms/step - loss: 0.4515 - sparse_categorical_accuracy: 0.8430 - val_loss: 0.3508 - val_sparse_categorical_accuracy: 0.8770\n",
            "Epoch 17/200\n",
            "938/938 [==============================] - 5s 6ms/step - loss: 0.4436 - sparse_categorical_accuracy: 0.8467 - val_loss: 0.3487 - val_sparse_categorical_accuracy: 0.8740\n",
            "Epoch 18/200\n",
            "938/938 [==============================] - 6s 7ms/step - loss: 0.4434 - sparse_categorical_accuracy: 0.8452 - val_loss: 0.3402 - val_sparse_categorical_accuracy: 0.8767\n",
            "Epoch 19/200\n",
            "938/938 [==============================] - 6s 6ms/step - loss: 0.4370 - sparse_categorical_accuracy: 0.8460 - val_loss: 0.3352 - val_sparse_categorical_accuracy: 0.8798\n",
            "Epoch 20/200\n",
            "938/938 [==============================] - 6s 7ms/step - loss: 0.4373 - sparse_categorical_accuracy: 0.8472 - val_loss: 0.3559 - val_sparse_categorical_accuracy: 0.8716\n",
            "Epoch 21/200\n",
            "938/938 [==============================] - 5s 6ms/step - loss: 0.4318 - sparse_categorical_accuracy: 0.8475 - val_loss: 0.3414 - val_sparse_categorical_accuracy: 0.8780\n",
            "Epoch 22/200\n",
            "938/938 [==============================] - 6s 7ms/step - loss: 0.4269 - sparse_categorical_accuracy: 0.8478 - val_loss: 0.3403 - val_sparse_categorical_accuracy: 0.8768\n",
            "Epoch 23/200\n",
            "938/938 [==============================] - 5s 6ms/step - loss: 0.4268 - sparse_categorical_accuracy: 0.8496 - val_loss: 0.3352 - val_sparse_categorical_accuracy: 0.8828\n",
            "Epoch 24/200\n",
            "938/938 [==============================] - 6s 6ms/step - loss: 0.4243 - sparse_categorical_accuracy: 0.8504 - val_loss: 0.3270 - val_sparse_categorical_accuracy: 0.8829\n",
            "Epoch 25/200\n",
            "938/938 [==============================] - 5s 6ms/step - loss: 0.4185 - sparse_categorical_accuracy: 0.8520 - val_loss: 0.3364 - val_sparse_categorical_accuracy: 0.8793\n",
            "Epoch 26/200\n",
            "938/938 [==============================] - 6s 7ms/step - loss: 0.4180 - sparse_categorical_accuracy: 0.8519 - val_loss: 0.3226 - val_sparse_categorical_accuracy: 0.8837\n",
            "Epoch 27/200\n",
            "938/938 [==============================] - 6s 6ms/step - loss: 0.4145 - sparse_categorical_accuracy: 0.8538 - val_loss: 0.3241 - val_sparse_categorical_accuracy: 0.8831\n",
            "Epoch 28/200\n",
            "938/938 [==============================] - 6s 7ms/step - loss: 0.4112 - sparse_categorical_accuracy: 0.8539 - val_loss: 0.3279 - val_sparse_categorical_accuracy: 0.8819\n",
            "Epoch 29/200\n",
            "938/938 [==============================] - 5s 6ms/step - loss: 0.4083 - sparse_categorical_accuracy: 0.8558 - val_loss: 0.3419 - val_sparse_categorical_accuracy: 0.8812\n",
            "Epoch 30/200\n",
            "938/938 [==============================] - 6s 7ms/step - loss: 0.4079 - sparse_categorical_accuracy: 0.8558 - val_loss: 0.3324 - val_sparse_categorical_accuracy: 0.8804\n",
            "Epoch 31/200\n",
            "938/938 [==============================] - 5s 6ms/step - loss: 0.4065 - sparse_categorical_accuracy: 0.8563 - val_loss: 0.3315 - val_sparse_categorical_accuracy: 0.8839\n",
            "Epoch 32/200\n",
            "938/938 [==============================] - 6s 6ms/step - loss: 0.4064 - sparse_categorical_accuracy: 0.8558 - val_loss: 0.3221 - val_sparse_categorical_accuracy: 0.8849\n",
            "Epoch 33/200\n",
            "938/938 [==============================] - 6s 6ms/step - loss: 0.4037 - sparse_categorical_accuracy: 0.8573 - val_loss: 0.3186 - val_sparse_categorical_accuracy: 0.8829\n",
            "Epoch 34/200\n",
            "938/938 [==============================] - 6s 6ms/step - loss: 0.4068 - sparse_categorical_accuracy: 0.8566 - val_loss: 0.3136 - val_sparse_categorical_accuracy: 0.8842\n",
            "Epoch 35/200\n",
            "938/938 [==============================] - 6s 7ms/step - loss: 0.4046 - sparse_categorical_accuracy: 0.8594 - val_loss: 0.3202 - val_sparse_categorical_accuracy: 0.8836\n",
            "Epoch 36/200\n",
            "938/938 [==============================] - 6s 6ms/step - loss: 0.3998 - sparse_categorical_accuracy: 0.8587 - val_loss: 0.3320 - val_sparse_categorical_accuracy: 0.8826\n",
            "Epoch 37/200\n",
            "938/938 [==============================] - 6s 7ms/step - loss: 0.4033 - sparse_categorical_accuracy: 0.8577 - val_loss: 0.3191 - val_sparse_categorical_accuracy: 0.8848\n",
            "Epoch 38/200\n",
            "938/938 [==============================] - 5s 6ms/step - loss: 0.4011 - sparse_categorical_accuracy: 0.8576 - val_loss: 0.3162 - val_sparse_categorical_accuracy: 0.8853\n",
            "Epoch 39/200\n",
            "938/938 [==============================] - 6s 6ms/step - loss: 0.3977 - sparse_categorical_accuracy: 0.8606 - val_loss: 0.3266 - val_sparse_categorical_accuracy: 0.8807\n",
            "Epoch 40/200\n",
            "938/938 [==============================] - 6s 6ms/step - loss: 0.3985 - sparse_categorical_accuracy: 0.8592 - val_loss: 0.3315 - val_sparse_categorical_accuracy: 0.8851\n",
            "Epoch 41/200\n",
            "938/938 [==============================] - 6s 7ms/step - loss: 0.4006 - sparse_categorical_accuracy: 0.8596 - val_loss: 0.3111 - val_sparse_categorical_accuracy: 0.8873\n",
            "Epoch 42/200\n",
            "938/938 [==============================] - 6s 6ms/step - loss: 0.3963 - sparse_categorical_accuracy: 0.8604 - val_loss: 0.3311 - val_sparse_categorical_accuracy: 0.8811\n",
            "Epoch 43/200\n",
            "938/938 [==============================] - 6s 7ms/step - loss: 0.3993 - sparse_categorical_accuracy: 0.8594 - val_loss: 0.3153 - val_sparse_categorical_accuracy: 0.8874\n",
            "Epoch 44/200\n",
            "938/938 [==============================] - 5s 6ms/step - loss: 0.3994 - sparse_categorical_accuracy: 0.8574 - val_loss: 0.3162 - val_sparse_categorical_accuracy: 0.8877\n",
            "Epoch 45/200\n",
            "938/938 [==============================] - 6s 6ms/step - loss: 0.3912 - sparse_categorical_accuracy: 0.8610 - val_loss: 0.3105 - val_sparse_categorical_accuracy: 0.8880\n",
            "Epoch 46/200\n",
            "938/938 [==============================] - 5s 6ms/step - loss: 0.3954 - sparse_categorical_accuracy: 0.8607 - val_loss: 0.3099 - val_sparse_categorical_accuracy: 0.8877\n",
            "Epoch 47/200\n",
            "938/938 [==============================] - 6s 7ms/step - loss: 0.3919 - sparse_categorical_accuracy: 0.8610 - val_loss: 0.3165 - val_sparse_categorical_accuracy: 0.8878\n",
            "Epoch 48/200\n",
            "938/938 [==============================] - 6s 6ms/step - loss: 0.3932 - sparse_categorical_accuracy: 0.8632 - val_loss: 0.3218 - val_sparse_categorical_accuracy: 0.8882\n",
            "Epoch 49/200\n",
            "938/938 [==============================] - 6s 6ms/step - loss: 0.3905 - sparse_categorical_accuracy: 0.8632 - val_loss: 0.3166 - val_sparse_categorical_accuracy: 0.8868\n",
            "Epoch 50/200\n",
            "938/938 [==============================] - 6s 6ms/step - loss: 0.3927 - sparse_categorical_accuracy: 0.8610 - val_loss: 0.3047 - val_sparse_categorical_accuracy: 0.8894\n",
            "Epoch 51/200\n",
            "938/938 [==============================] - 6s 7ms/step - loss: 0.3948 - sparse_categorical_accuracy: 0.8615 - val_loss: 0.3182 - val_sparse_categorical_accuracy: 0.8864\n",
            "Epoch 52/200\n",
            "938/938 [==============================] - 5s 6ms/step - loss: 0.3912 - sparse_categorical_accuracy: 0.8629 - val_loss: 0.3179 - val_sparse_categorical_accuracy: 0.8880\n",
            "Epoch 53/200\n",
            "938/938 [==============================] - 6s 7ms/step - loss: 0.3884 - sparse_categorical_accuracy: 0.8641 - val_loss: 0.3113 - val_sparse_categorical_accuracy: 0.8906\n",
            "Epoch 54/200\n",
            "938/938 [==============================] - 6s 6ms/step - loss: 0.3891 - sparse_categorical_accuracy: 0.8633 - val_loss: 0.3129 - val_sparse_categorical_accuracy: 0.8887\n",
            "Epoch 55/200\n",
            "938/938 [==============================] - 6s 7ms/step - loss: 0.3873 - sparse_categorical_accuracy: 0.8642 - val_loss: 0.3140 - val_sparse_categorical_accuracy: 0.8883\n",
            "Epoch 56/200\n",
            "938/938 [==============================] - 5s 6ms/step - loss: 0.3919 - sparse_categorical_accuracy: 0.8615 - val_loss: 0.3143 - val_sparse_categorical_accuracy: 0.8908\n",
            "Epoch 57/200\n",
            "938/938 [==============================] - 6s 6ms/step - loss: 0.3882 - sparse_categorical_accuracy: 0.8623 - val_loss: 0.3050 - val_sparse_categorical_accuracy: 0.8896\n",
            "Epoch 58/200\n",
            "938/938 [==============================] - 6s 6ms/step - loss: 0.3891 - sparse_categorical_accuracy: 0.8616 - val_loss: 0.3161 - val_sparse_categorical_accuracy: 0.8885\n",
            "Epoch 59/200\n",
            "938/938 [==============================] - 6s 6ms/step - loss: 0.3914 - sparse_categorical_accuracy: 0.8628 - val_loss: 0.3120 - val_sparse_categorical_accuracy: 0.8870\n",
            "Epoch 60/200\n",
            "938/938 [==============================] - 6s 6ms/step - loss: 0.3830 - sparse_categorical_accuracy: 0.8660 - val_loss: 0.3202 - val_sparse_categorical_accuracy: 0.8863\n",
            "Epoch 61/200\n",
            "938/938 [==============================] - 6s 6ms/step - loss: 0.3873 - sparse_categorical_accuracy: 0.8645 - val_loss: 0.3168 - val_sparse_categorical_accuracy: 0.8882\n",
            "Epoch 62/200\n",
            "938/938 [==============================] - 6s 6ms/step - loss: 0.3855 - sparse_categorical_accuracy: 0.8650 - val_loss: 0.3220 - val_sparse_categorical_accuracy: 0.8859\n",
            "Epoch 63/200\n",
            "938/938 [==============================] - 5s 6ms/step - loss: 0.3874 - sparse_categorical_accuracy: 0.8641 - val_loss: 0.3106 - val_sparse_categorical_accuracy: 0.8852\n",
            "Epoch 64/200\n",
            "938/938 [==============================] - 6s 6ms/step - loss: 0.3828 - sparse_categorical_accuracy: 0.8640 - val_loss: 0.3230 - val_sparse_categorical_accuracy: 0.8905\n",
            "Epoch 65/200\n",
            "938/938 [==============================] - 5s 6ms/step - loss: 0.3914 - sparse_categorical_accuracy: 0.8630 - val_loss: 0.3086 - val_sparse_categorical_accuracy: 0.8913\n",
            "313/313 [==============================] - 1s 3ms/step - loss: 0.3371 - sparse_categorical_accuracy: 0.8814\n",
            "\n",
            "Test accuracy: 0.8813999891281128\n"
          ]
        }
      ]
    },
    {
      "cell_type": "code",
      "source": [
        "print('\\nhistory dict:', list(history.history.keys()))"
      ],
      "metadata": {
        "id": "CxRE-B_Q6Sii",
        "colab": {
          "base_uri": "https://localhost:8080/"
        },
        "outputId": "da1ae524-218a-49d0-bc1a-54613b688a53"
      },
      "execution_count": 75,
      "outputs": [
        {
          "output_type": "stream",
          "name": "stdout",
          "text": [
            "\n",
            "history dict: ['loss', 'sparse_categorical_accuracy', 'val_loss', 'val_sparse_categorical_accuracy']\n"
          ]
        }
      ]
    },
    {
      "cell_type": "code",
      "source": [
        "result = model.evaluate(x_test, y_test)\n",
        "print(result)"
      ],
      "metadata": {
        "id": "YXpwRRTvTBNg",
        "colab": {
          "base_uri": "https://localhost:8080/"
        },
        "outputId": "33f36774-10f0-40df-f33c-bd8f13602efe"
      },
      "execution_count": 76,
      "outputs": [
        {
          "output_type": "stream",
          "name": "stdout",
          "text": [
            "313/313 [==============================] - 1s 4ms/step - loss: 0.3371 - sparse_categorical_accuracy: 0.8814\n",
            "[0.33706602454185486, 0.8813999891281128]\n"
          ]
        }
      ]
    },
    {
      "cell_type": "code",
      "source": [
        "saved_model = load_model('best_model.h5')\n",
        "result = saved_model.evaluate(x_test, y_test)\n",
        "print(result)"
      ],
      "metadata": {
        "id": "dpaZAW0vp1AZ",
        "colab": {
          "base_uri": "https://localhost:8080/"
        },
        "outputId": "5fdcccb0-6cee-42dd-8554-2eff7e44536c"
      },
      "execution_count": 77,
      "outputs": [
        {
          "output_type": "stream",
          "name": "stdout",
          "text": [
            "313/313 [==============================] - 1s 3ms/step - loss: 0.3447 - sparse_categorical_accuracy: 0.8770\n",
            "[0.34471938014030457, 0.8769999742507935]\n"
          ]
        }
      ]
    },
    {
      "cell_type": "code",
      "source": [
        "# from keras.models import load_model\n",
        "# saved_model = load_model('best_model.h5')\n",
        "# # _, train_acc = saved_model.evaluate(x_train, y_train, verbose=0)\n",
        "# _, test_acc = saved_model.evaluate(x_test, y_test, verbose=0)\n",
        "# print('Test: %.3f' % (test_acc))"
      ],
      "metadata": {
        "id": "DR_MS9DABo_K"
      },
      "execution_count": 78,
      "outputs": []
    },
    {
      "cell_type": "code",
      "source": [
        "history_dict = history.history\n",
        "loss_values = history_dict['loss']\n",
        "val_loss_values = history_dict['val_loss']\n",
        "\n",
        "epochs = range(1, len(history_dict['loss']) + 1)\n",
        "\n",
        "plt.figure(figsize=(10, 5))\n",
        "plt.plot(epochs, loss_values, 'bo', label='Training loss')\n",
        "plt.plot(epochs, val_loss_values, 'r', label='Validation loss')\n",
        "# plt.ylim (0.2, 0.5)\n",
        "plt.title('Training and validation loss')\n",
        "plt.xlabel('Epochs')\n",
        "plt.ylabel('Loss')\n",
        "plt.legend()\n",
        "plt.grid(True)\n",
        "plt.show()\n",
        "1\n",
        "plt.clf()\n",
        "plt.figure(figsize=(10, 5))\n",
        "val_acc_values = history_dict['sparse_categorical_accuracy']\n",
        "plt.plot(epochs, history_dict['sparse_categorical_accuracy'], 'bo', label='Training acc')\n",
        "plt.plot(epochs, history_dict['val_sparse_categorical_accuracy'], 'r', label='Validation acc')\n",
        "plt.ylim (0.86, 0.92)\n",
        "plt.title('Training and validation accuracy')\n",
        "plt.xlabel('Epochs')\n",
        "plt.ylabel('Accuracy')\n",
        "plt.legend()\n",
        "plt.grid(True)"
      ],
      "metadata": {
        "id": "2Ll_5sGlXKMH",
        "colab": {
          "base_uri": "https://localhost:8080/",
          "height": 975
        },
        "outputId": "2b4aa426-0257-4f2f-d0c0-f0cd0ad434b3"
      },
      "execution_count": 79,
      "outputs": [
        {
          "output_type": "display_data",
          "data": {
            "text/plain": [
              "<Figure size 1000x500 with 1 Axes>"
            ],
            "image/png": "[encoded data removed]"
          },
          "metadata": {}
        },
        {
          "output_type": "display_data",
          "data": {
            "text/plain": [
              "<Figure size 640x480 with 0 Axes>"
            ]
          },
          "metadata": {}
        },
        {
          "output_type": "display_data",
          "data": {
            "text/plain": [
              "<Figure size 1000x500 with 1 Axes>"
            ],
            "image/png": "[encoded data removed]"
          },
          "metadata": {}
        }
      ]
    },
    {
      "cell_type": "code",
      "source": [
        "probability_model = tf.keras.Sequential([model,\n",
        "                                         tf.keras.layers.Softmax()])"
      ],
      "metadata": {
        "id": "VzOdKAT_uV-f"
      },
      "execution_count": 80,
      "outputs": []
    },
    {
      "cell_type": "code",
      "source": [
        "predictions = probability_model.predict(x_test)"
      ],
      "metadata": {
        "id": "f4is3NFruYom",
        "colab": {
          "base_uri": "https://localhost:8080/"
        },
        "outputId": "b970efd2-79ff-4f04-97cd-9b6287c772d4"
      },
      "execution_count": 81,
      "outputs": [
        {
          "output_type": "stream",
          "name": "stdout",
          "text": [
            "313/313 [==============================] - 1s 2ms/step\n"
          ]
        }
      ]
    },
    {
      "cell_type": "code",
      "source": [
        "predictions[0]"
      ],
      "metadata": {
        "id": "82cigvlZudz_",
        "colab": {
          "base_uri": "https://localhost:8080/"
        },
        "outputId": "bb990c0a-a2ff-4a68-b898-8b8dfb983515"
      },
      "execution_count": 82,
      "outputs": [
        {
          "output_type": "execute_result",
          "data": {
            "text/plain": [
              "array([0.08605169, 0.08605169, 0.08605169, 0.0860517 , 0.08605169,\n",
              "       0.08736458, 0.08605169, 0.09001112, 0.08605187, 0.22026233],\n",
              "      dtype=float32)"
            ]
          },
          "metadata": {},
          "execution_count": 82
        }
      ]
    },
    {
      "cell_type": "code",
      "source": [
        "model.summary()"
      ],
      "metadata": {
        "id": "6RsQPHyYuNGe",
        "colab": {
          "base_uri": "https://localhost:8080/"
        },
        "outputId": "105d07dd-ca8e-46e3-84c9-418cdabce0cf"
      },
      "execution_count": 83,
      "outputs": [
        {
          "output_type": "stream",
          "name": "stdout",
          "text": [
            "Model: \"sequential_2\"\n",
            "_________________________________________________________________\n",
            " Layer (type)                Output Shape              Param #   \n",
            "=================================================================\n",
            " flatten_1 (Flatten)         (None, 784)               0         \n",
            "                                                                 \n",
            " dropout_4 (Dropout)         (None, 784)               0         \n",
            "                                                                 \n",
            " batch_normalization_3 (Bat  (None, 784)               3136      \n",
            " chNormalization)                                                \n",
            "                                                                 \n",
            " dense_4 (Dense)             (None, 256)               200960    \n",
            "                                                                 \n",
            " dropout_5 (Dropout)         (None, 256)               0         \n",
            "                                                                 \n",
            " batch_normalization_4 (Bat  (None, 256)               1024      \n",
            " chNormalization)                                                \n",
            "                                                                 \n",
            " dense_5 (Dense)             (None, 512)               131584    \n",
            "                                                                 \n",
            " dropout_6 (Dropout)         (None, 512)               0         \n",
            "                                                                 \n",
            " batch_normalization_5 (Bat  (None, 512)               2048      \n",
            " chNormalization)                                                \n",
            "                                                                 \n",
            " dense_6 (Dense)             (None, 512)               262656    \n",
            "                                                                 \n",
            " dropout_7 (Dropout)         (None, 512)               0         \n",
            "                                                                 \n",
            " dense_7 (Dense)             (None, 10)                5130      \n",
            "                                                                 \n",
            "=================================================================\n",
            "Total params: 606538 (2.31 MB)\n",
            "Trainable params: 603434 (2.30 MB)\n",
            "Non-trainable params: 3104 (12.12 KB)\n",
            "_________________________________________________________________\n"
          ]
        }
      ]
    },
    {
      "cell_type": "code",
      "source": [
        "\n",
        "\n",
        "\n",
        "\n",
        "hnyetjn hrte()"
      ],
      "metadata": {
        "id": "S4hcxZttmp-0",
        "colab": {
          "base_uri": "https://localhost:8080/",
          "height": 108
        },
        "outputId": "48ab5dda-d467-4f6b-ece1-b4073e049ac7"
      },
      "execution_count": 84,
      "outputs": [
        {
          "output_type": "error",
          "ename": "SyntaxError",
          "evalue": "invalid syntax (<ipython-input-84-1a3818e70946>, line 1)",
          "traceback": [
            "\u001b[0;36m  File \u001b[0;32m\"<ipython-input-84-1a3818e70946>\"\u001b[0;36m, line \u001b[0;32m1\u001b[0m\n\u001b[0;31m    hnyetjn hrte()\u001b[0m\n\u001b[0m            ^\u001b[0m\n\u001b[0;31mSyntaxError\u001b[0m\u001b[0;31m:\u001b[0m invalid syntax\n"
          ]
        }
      ]
    }
  ]
}