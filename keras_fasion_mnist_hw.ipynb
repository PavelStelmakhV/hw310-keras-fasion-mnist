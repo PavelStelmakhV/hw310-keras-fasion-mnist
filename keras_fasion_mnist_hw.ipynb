{
  "nbformat": 4,
  "nbformat_minor": 0,
  "metadata": {
    "colab": {
      "provenance": [],
      "gpuType": "T4",
      "authorship_tag": "ABX9TyPnaGWrnQ6gF6datCTKEaFX",
      "include_colab_link": true
    },
    "kernelspec": {
      "name": "python3",
      "display_name": "Python 3"
    },
    "language_info": {
      "name": "python"
    },
    "accelerator": "GPU"
  },
  "cells": [
    {
      "cell_type": "markdown",
      "metadata": {
        "id": "view-in-github",
        "colab_type": "text"
      },
      "source": [
        "<a href=\"https://colab.research.google.com/github/PavelStelmakhV/hw310-keras-fasion-mnist/blob/main/keras_fasion_mnist_hw.ipynb\" target=\"_parent\"><img src=\"https://colab.research.google.com/assets/colab-badge.svg\" alt=\"Open In Colab\"/></a>"
      ]
    },
    {
      "cell_type": "code",
      "execution_count": 105,
      "metadata": {
        "id": "vv7w0bgAVQPO"
      },
      "outputs": [],
      "source": [
        "import tensorflow as tf\n",
        "import numpy as np\n",
        "import matplotlib.pyplot as plt\n",
        "\n",
        "from keras import layers\n",
        "from keras import regularizers\n",
        "from keras import callbacks\n",
        "from keras import initializers\n",
        "from keras.layers import BatchNormalization\n",
        "from keras.models import load_model"
      ]
    },
    {
      "cell_type": "code",
      "source": [
        "fashion_mnist = tf.keras.datasets.fashion_mnist\n",
        "\n",
        "(x_train, y_train), (x_test, y_test) = fashion_mnist.load_data()"
      ],
      "metadata": {
        "id": "mOpywsNAzfGB"
      },
      "execution_count": 106,
      "outputs": []
    },
    {
      "cell_type": "code",
      "source": [
        "# x_train = x_train.reshape(60000, 784).astype('float32') / 255\n",
        "# x_test = x_test.reshape(10000, 784).astype('float32') / 255\n",
        "x_train = x_train.astype('float32') / 255\n",
        "x_test = x_test.astype('float32') / 255\n",
        "\n",
        "y_train = y_train.astype('float32')\n",
        "y_test = y_test.astype('float32')\n",
        "\n",
        "# Перемешаем тренировочные данные\n",
        "# train_data = tf.data.Dataset.from_tensor_slices((x_train, y_train))\n",
        "# train_data = train_data.repeat().shuffle(5000).batch(batch_size).prefetch(1)"
      ],
      "metadata": {
        "id": "t2gucjsJ0KUi"
      },
      "execution_count": 107,
      "outputs": []
    },
    {
      "cell_type": "code",
      "source": [
        "# x_val = x_train[-10000:]\n",
        "# y_val = y_train[-10000:]\n",
        "# x_train = x_train[:-10000]\n",
        "# y_train = y_train[:-10000]"
      ],
      "metadata": {
        "id": "fLPNXab5dHwO"
      },
      "execution_count": 108,
      "outputs": []
    },
    {
      "cell_type": "code",
      "source": [],
      "metadata": {
        "id": "bU5TK5YdlnU5"
      },
      "execution_count": 108,
      "outputs": []
    },
    {
      "cell_type": "code",
      "source": [
        "w_init_tanh = initializers.glorot_normal(seed=42)\n",
        "w_init_relu = initializers.HeNormal(seed=42)\n",
        "b_init = initializers.Zeros()"
      ],
      "metadata": {
        "id": "yL9QTEtBGy4N"
      },
      "execution_count": 109,
      "outputs": []
    },
    {
      "cell_type": "code",
      "source": [
        "def layer_relu(model, neurons):\n",
        "  model.add(BatchNormalization())\n",
        "  model.add(layers.Dense(neurons,\n",
        "                       activation='relu',\n",
        "                       kernel_initializer=w_init_relu,\n",
        "                       bias_initializer=b_init))\n",
        "  model.add(layers.Dropout(drop_out))\n",
        "  return model"
      ],
      "metadata": {
        "id": "ZZgs_25rKBCp"
      },
      "execution_count": 110,
      "outputs": []
    },
    {
      "cell_type": "code",
      "source": [
        "def layer_tanh(model, neurons):\n",
        "  model.add(BatchNormalization())\n",
        "  model.add(layers.Dense(neurons,\n",
        "                        activation='tanh',\n",
        "                        kernel_initializer=w_init_tanh,\n",
        "                        bias_initializer=b_init))\n",
        "  model.add(layers.Dropout(drop_out))\n",
        "  return model"
      ],
      "metadata": {
        "id": "90JLLnkBR50t"
      },
      "execution_count": 111,
      "outputs": []
    },
    {
      "cell_type": "code",
      "source": [
        "model = tf.keras.Sequential()\n",
        "\n",
        "drop_out = 0.25\n",
        "lern_rat = 0.001\n",
        "neurons = 256\n",
        "\n",
        "model.add(layers.Flatten(input_shape=(28, 28)))\n",
        "model.add(layers.Dropout(drop_out))\n",
        "\n",
        "model = layer_relu(model, neurons)\n",
        "model = layer_tanh(model, neurons*2)\n",
        "model = layer_relu(model, neurons*4)\n",
        "\n",
        "model.add(layers.Dense(10, activation='softmax'))"
      ],
      "metadata": {
        "id": "atS39i4d0aqW"
      },
      "execution_count": 112,
      "outputs": []
    },
    {
      "cell_type": "code",
      "source": [],
      "metadata": {
        "id": "EzfnaqIZlfy8"
      },
      "execution_count": 112,
      "outputs": []
    },
    {
      "cell_type": "code",
      "source": [
        "model.compile(#optimizer='adam',\n",
        "              # optimizer='adamax',\n",
        "              optimizer='nadam',\n",
        "              # optimizer='rmsprop',\n",
        "              # optimizer='sgd',\n",
        "              # optimizer='adadelta',\n",
        "              # loss='binary_crossentropy',\n",
        "              loss=tf.keras.losses.SparseCategoricalCrossentropy(),\n",
        "              metrics=['sparse_categorical_accuracy']) # sparse_categorical_accuracy"
      ],
      "metadata": {
        "id": "hENVaAC7ilNY"
      },
      "execution_count": 113,
      "outputs": []
    },
    {
      "cell_type": "code",
      "source": [
        "x = np.random.random((1, 28, 28))\n",
        "a = model.predict(x)\n",
        "_ = plt.hist(np.transpose(a))"
      ],
      "metadata": {
        "id": "RFgZHNNFMa8p",
        "outputId": "c7843400-e899-42fa-c889-e41a117aff87",
        "colab": {
          "base_uri": "https://localhost:8080/",
          "height": 448
        }
      },
      "execution_count": 114,
      "outputs": [
        {
          "output_type": "stream",
          "name": "stdout",
          "text": [
            "1/1 [==============================] - 0s 122ms/step\n"
          ]
        },
        {
          "output_type": "display_data",
          "data": {
            "text/plain": [
              "<Figure size 640x480 with 1 Axes>"
            ],
            "image/png": "[encoded data removed]"
          },
          "metadata": {}
        }
      ]
    },
    {
      "cell_type": "code",
      "source": [
        "y_pred = model.predict(x_test)"
      ],
      "metadata": {
        "id": "UDP8OKKZ8oQa",
        "outputId": "17839b18-4d04-4f66-f566-ba199ba989b9",
        "colab": {
          "base_uri": "https://localhost:8080/"
        }
      },
      "execution_count": 115,
      "outputs": [
        {
          "output_type": "stream",
          "name": "stdout",
          "text": [
            "313/313 [==============================] - 1s 4ms/step\n"
          ]
        }
      ]
    },
    {
      "cell_type": "code",
      "source": [
        "callback = callbacks.EarlyStopping(monitor='val_loss',\n",
        "                                   patience=50,\n",
        "                                   restore_best_weights=True,\n",
        "                                   )\n",
        "es = callbacks.EarlyStopping(monitor='val_loss', mode='min', verbose=1, patience=200)\n",
        "mc = callbacks.ModelCheckpoint('best_model.h5', monitor='sparse_categorical_accuracy', mode='max', verbose=0, save_best_only=True)\n"
      ],
      "metadata": {
        "id": "5ihU4exVlsjm"
      },
      "execution_count": 116,
      "outputs": []
    },
    {
      "cell_type": "code",
      "source": [
        "# model.fit(train_images, train_labels, epochs=20)\n",
        "history = model.fit(x_train, y_train,\n",
        "                    epochs=10,\n",
        "                    batch_size=128,\n",
        "                    # callbacks=[callback],\n",
        "                    callbacks=[mc],\n",
        "                    verbose=1, #многословие\n",
        "                    validation_split=0.2\n",
        "                    # validation_data=(x_val, y_val)\n",
        "                    )\n",
        "test_loss, test_acc = model.evaluate(x_test, y_test)\n",
        "print('\\nTest accuracy:', test_acc)"
      ],
      "metadata": {
        "id": "FH8HcMNm233I",
        "outputId": "7d226b59-fd96-4431-b76c-42cd229638d1",
        "colab": {
          "base_uri": "https://localhost:8080/"
        }
      },
      "execution_count": 117,
      "outputs": [
        {
          "output_type": "stream",
          "name": "stdout",
          "text": [
            "Epoch 1/10\n",
            "375/375 [==============================] - 17s 35ms/step - loss: 0.7129 - sparse_categorical_accuracy: 0.7543 - val_loss: 0.4205 - val_sparse_categorical_accuracy: 0.8481\n",
            "Epoch 2/10\n",
            "375/375 [==============================] - 14s 36ms/step - loss: 0.5054 - sparse_categorical_accuracy: 0.8176 - val_loss: 0.3934 - val_sparse_categorical_accuracy: 0.8551\n",
            "Epoch 3/10\n",
            "375/375 [==============================] - 14s 36ms/step - loss: 0.4494 - sparse_categorical_accuracy: 0.8360 - val_loss: 0.3690 - val_sparse_categorical_accuracy: 0.8644\n",
            "Epoch 4/10\n",
            "375/375 [==============================] - 13s 34ms/step - loss: 0.4257 - sparse_categorical_accuracy: 0.8425 - val_loss: 0.3612 - val_sparse_categorical_accuracy: 0.8637\n",
            "Epoch 5/10\n",
            "375/375 [==============================] - 13s 34ms/step - loss: 0.4069 - sparse_categorical_accuracy: 0.8474 - val_loss: 0.3443 - val_sparse_categorical_accuracy: 0.8734\n",
            "Epoch 6/10\n",
            "375/375 [==============================] - 15s 39ms/step - loss: 0.3935 - sparse_categorical_accuracy: 0.8543 - val_loss: 0.3488 - val_sparse_categorical_accuracy: 0.8717\n",
            "Epoch 7/10\n",
            "375/375 [==============================] - 14s 39ms/step - loss: 0.3813 - sparse_categorical_accuracy: 0.8576 - val_loss: 0.3274 - val_sparse_categorical_accuracy: 0.8792\n",
            "Epoch 8/10\n",
            "375/375 [==============================] - 13s 34ms/step - loss: 0.3678 - sparse_categorical_accuracy: 0.8617 - val_loss: 0.3493 - val_sparse_categorical_accuracy: 0.8757\n",
            "Epoch 9/10\n",
            "375/375 [==============================] - 13s 34ms/step - loss: 0.3678 - sparse_categorical_accuracy: 0.8614 - val_loss: 0.3207 - val_sparse_categorical_accuracy: 0.8829\n",
            "Epoch 10/10\n",
            "375/375 [==============================] - 13s 34ms/step - loss: 0.3540 - sparse_categorical_accuracy: 0.8694 - val_loss: 0.3179 - val_sparse_categorical_accuracy: 0.8810\n",
            "313/313 [==============================] - 1s 4ms/step - loss: 0.3449 - sparse_categorical_accuracy: 0.8745\n",
            "\n",
            "Test accuracy: 0.8744999766349792\n"
          ]
        }
      ]
    },
    {
      "cell_type": "code",
      "source": [
        "print('\\nhistory dict:', list(history.history.keys()))"
      ],
      "metadata": {
        "id": "CxRE-B_Q6Sii",
        "colab": {
          "base_uri": "https://localhost:8080/"
        },
        "outputId": "bf991d3f-eed4-489b-f846-3a0514e22621"
      },
      "execution_count": 118,
      "outputs": [
        {
          "output_type": "stream",
          "name": "stdout",
          "text": [
            "\n",
            "history dict: ['loss', 'sparse_categorical_accuracy', 'val_loss', 'val_sparse_categorical_accuracy']\n"
          ]
        }
      ]
    },
    {
      "cell_type": "code",
      "source": [
        "result = model.evaluate(x_test, y_test)\n",
        "print(result)"
      ],
      "metadata": {
        "id": "YXpwRRTvTBNg",
        "colab": {
          "base_uri": "https://localhost:8080/"
        },
        "outputId": "1805ed1b-e7aa-4133-8c10-0db97e7bc7c5"
      },
      "execution_count": 119,
      "outputs": [
        {
          "output_type": "stream",
          "name": "stdout",
          "text": [
            "313/313 [==============================] - 2s 6ms/step - loss: 0.3449 - sparse_categorical_accuracy: 0.8745\n",
            "[0.3448602259159088, 0.8744999766349792]\n"
          ]
        }
      ]
    },
    {
      "cell_type": "code",
      "source": [
        "saved_model = load_model('best_model.h5')\n",
        "result = saved_model.evaluate(x_test, y_test)\n",
        "print(result)"
      ],
      "metadata": {
        "colab": {
          "base_uri": "https://localhost:8080/"
        },
        "id": "dpaZAW0vp1AZ",
        "outputId": "c201492f-af37-42d2-dd42-f284cd942946"
      },
      "execution_count": 120,
      "outputs": [
        {
          "output_type": "stream",
          "name": "stdout",
          "text": [
            "313/313 [==============================] - 2s 4ms/step - loss: 0.3449 - sparse_categorical_accuracy: 0.8745\n",
            "[0.3448602259159088, 0.8744999766349792]\n"
          ]
        }
      ]
    },
    {
      "cell_type": "code",
      "source": [
        "# from keras.models import load_model\n",
        "# saved_model = load_model('best_model.h5')\n",
        "# # _, train_acc = saved_model.evaluate(x_train, y_train, verbose=0)\n",
        "# _, test_acc = saved_model.evaluate(x_test, y_test, verbose=0)\n",
        "# print('Test: %.3f' % (test_acc))"
      ],
      "metadata": {
        "id": "DR_MS9DABo_K"
      },
      "execution_count": 121,
      "outputs": []
    },
    {
      "cell_type": "code",
      "source": [
        "history_dict = history.history\n",
        "loss_values = history_dict['loss']\n",
        "val_loss_values = history_dict['val_loss']\n",
        "\n",
        "epochs = range(1, len(history_dict['loss']) + 1)\n",
        "\n",
        "plt.figure(figsize=(10, 5))\n",
        "plt.plot(epochs, loss_values, 'bo', label='Training loss')\n",
        "plt.plot(epochs, val_loss_values, 'r', label='Validation loss')\n",
        "# plt.ylim (0.2, 0.5)\n",
        "plt.title('Training and validation loss')\n",
        "plt.xlabel('Epochs')\n",
        "plt.ylabel('Loss')\n",
        "# plt.legend()\n",
        "plt.grid(True)\n",
        "plt.show()\n",
        "1\n",
        "plt.clf()\n",
        "plt.figure(figsize=(10, 5))\n",
        "val_acc_values = history_dict['sparse_categorical_accuracy']\n",
        "plt.plot(epochs, history_dict['sparse_categorical_accuracy'], 'bo', label='Training acc')\n",
        "plt.plot(epochs, history_dict['val_sparse_categorical_accuracy'], 'r', label='Validation acc')\n",
        "plt.ylim (0.88, 0.94)\n",
        "plt.title('Training and validation accuracy')\n",
        "plt.xlabel('Epochs')\n",
        "plt.ylabel('Accuracy')\n",
        "plt.legend()\n",
        "plt.grid(True)"
      ],
      "metadata": {
        "id": "2Ll_5sGlXKMH",
        "colab": {
          "base_uri": "https://localhost:8080/",
          "height": 975
        },
        "outputId": "a864eea5-b227-41db-a446-331fe0e4de78"
      },
      "execution_count": 122,
      "outputs": [
        {
          "output_type": "display_data",
          "data": {
            "text/plain": [
              "<Figure size 1000x500 with 1 Axes>"
            ],
            "image/png": "[encoded data removed]"
          },
          "metadata": {}
        },
        {
          "output_type": "display_data",
          "data": {
            "text/plain": [
              "<Figure size 640x480 with 0 Axes>"
            ]
          },
          "metadata": {}
        },
        {
          "output_type": "display_data",
          "data": {
            "text/plain": [
              "<Figure size 1000x500 with 1 Axes>"
            ],
            "image/png": "[encoded data removed]"
          },
          "metadata": {}
        }
      ]
    },
    {
      "cell_type": "code",
      "source": [
        "probability_model = tf.keras.Sequential([model,\n",
        "                                         tf.keras.layers.Softmax()])"
      ],
      "metadata": {
        "id": "VzOdKAT_uV-f"
      },
      "execution_count": 123,
      "outputs": []
    },
    {
      "cell_type": "code",
      "source": [
        "predictions = probability_model.predict(x_test)"
      ],
      "metadata": {
        "id": "f4is3NFruYom",
        "colab": {
          "base_uri": "https://localhost:8080/"
        },
        "outputId": "7e05a51f-0303-4993-88f0-ec194ed79cff"
      },
      "execution_count": 124,
      "outputs": [
        {
          "output_type": "stream",
          "name": "stdout",
          "text": [
            "313/313 [==============================] - 1s 4ms/step\n"
          ]
        }
      ]
    },
    {
      "cell_type": "code",
      "source": [
        "predictions[0]"
      ],
      "metadata": {
        "id": "82cigvlZudz_",
        "colab": {
          "base_uri": "https://localhost:8080/"
        },
        "outputId": "80ae5cc6-d7de-4723-a9af-e825729e4aa3"
      },
      "execution_count": 125,
      "outputs": [
        {
          "output_type": "execute_result",
          "data": {
            "text/plain": [
              "array([0.08747621, 0.0874762 , 0.0874762 , 0.08747621, 0.0874762 ,\n",
              "       0.08874661, 0.0874762 , 0.10661691, 0.08747622, 0.19230305],\n",
              "      dtype=float32)"
            ]
          },
          "metadata": {},
          "execution_count": 125
        }
      ]
    },
    {
      "cell_type": "code",
      "source": [
        "model.summary()"
      ],
      "metadata": {
        "id": "6RsQPHyYuNGe",
        "colab": {
          "base_uri": "https://localhost:8080/"
        },
        "outputId": "51783751-f4bb-4cb5-88dc-3d7dcd292bfb"
      },
      "execution_count": 126,
      "outputs": [
        {
          "output_type": "stream",
          "name": "stdout",
          "text": [
            "Model: \"sequential_10\"\n",
            "_________________________________________________________________\n",
            " Layer (type)                Output Shape              Param #   \n",
            "=================================================================\n",
            " flatten_5 (Flatten)         (None, 784)               0         \n",
            "                                                                 \n",
            " dropout_20 (Dropout)        (None, 784)               0         \n",
            "                                                                 \n",
            " batch_normalization_15 (Ba  (None, 784)               3136      \n",
            " tchNormalization)                                               \n",
            "                                                                 \n",
            " dense_20 (Dense)            (None, 256)               200960    \n",
            "                                                                 \n",
            " dropout_21 (Dropout)        (None, 256)               0         \n",
            "                                                                 \n",
            " batch_normalization_16 (Ba  (None, 256)               1024      \n",
            " tchNormalization)                                               \n",
            "                                                                 \n",
            " dense_21 (Dense)            (None, 512)               131584    \n",
            "                                                                 \n",
            " dropout_22 (Dropout)        (None, 512)               0         \n",
            "                                                                 \n",
            " batch_normalization_17 (Ba  (None, 512)               2048      \n",
            " tchNormalization)                                               \n",
            "                                                                 \n",
            " dense_22 (Dense)            (None, 1024)              525312    \n",
            "                                                                 \n",
            " dropout_23 (Dropout)        (None, 1024)              0         \n",
            "                                                                 \n",
            " dense_23 (Dense)            (None, 10)                10250     \n",
            "                                                                 \n",
            "=================================================================\n",
            "Total params: 874314 (3.34 MB)\n",
            "Trainable params: 871210 (3.32 MB)\n",
            "Non-trainable params: 3104 (12.12 KB)\n",
            "_________________________________________________________________\n"
          ]
        }
      ]
    }
  ]
}