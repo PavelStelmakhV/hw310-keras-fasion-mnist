{
  "nbformat": 4,
  "nbformat_minor": 0,
  "metadata": {
    "colab": {
      "provenance": [],
      "gpuType": "T4",
      "authorship_tag": "ABX9TyNVil+86OaSeEILbGIYg8pH",
      "include_colab_link": true
    },
    "kernelspec": {
      "name": "python3",
      "display_name": "Python 3"
    },
    "language_info": {
      "name": "python"
    },
    "accelerator": "GPU"
  },
  "cells": [
    {
      "cell_type": "markdown",
      "metadata": {
        "id": "view-in-github",
        "colab_type": "text"
      },
      "source": [
        "<a href=\"https://colab.research.google.com/github/PavelStelmakhV/hw310-keras-fasion-mnist/blob/main/keras_fasion_mnist_hw.ipynb\" target=\"_parent\"><img src=\"https://colab.research.google.com/assets/colab-badge.svg\" alt=\"Open In Colab\"/></a>"
      ]
    },
    {
      "cell_type": "code",
      "source": [
        "import tensorflow as tf\n",
        "from tensorflow.python.client import device_lib\n",
        "print(device_lib.list_local_devices())"
      ],
      "metadata": {
        "colab": {
          "base_uri": "https://localhost:8080/"
        },
        "id": "CQL6wYJUms6Y",
        "outputId": "1b37e994-37cf-426f-bc8c-d24bdea1ecca"
      },
      "execution_count": 241,
      "outputs": [
        {
          "output_type": "stream",
          "name": "stdout",
          "text": [
            "[name: \"/device:CPU:0\"\n",
            "device_type: \"CPU\"\n",
            "memory_limit: 268435456\n",
            "locality {\n",
            "}\n",
            "incarnation: 1526379810948243146\n",
            "xla_global_id: -1\n",
            "]\n"
          ]
        }
      ]
    },
    {
      "cell_type": "code",
      "execution_count": 242,
      "metadata": {
        "id": "vv7w0bgAVQPO"
      },
      "outputs": [],
      "source": [
        "import tensorflow as tf\n",
        "import numpy as np\n",
        "import matplotlib.pyplot as plt\n",
        "import tf_keras\n",
        "\n",
        "from keras import layers\n",
        "from keras import models\n",
        "from keras import regularizers\n",
        "from keras import callbacks\n",
        "from keras import initializers\n",
        "from keras.layers import BatchNormalization\n",
        "from keras.models import load_model"
      ]
    },
    {
      "cell_type": "code",
      "source": [
        "num_classes = 10"
      ],
      "metadata": {
        "id": "RvT1uYJsa5cn"
      },
      "execution_count": 243,
      "outputs": []
    },
    {
      "cell_type": "code",
      "source": [
        "fashion_mnist = tf.keras.datasets.fashion_mnist\n",
        "\n",
        "(x_train, y_train), (x_test, y_test) = fashion_mnist.load_data()"
      ],
      "metadata": {
        "id": "mOpywsNAzfGB"
      },
      "execution_count": 244,
      "outputs": []
    },
    {
      "cell_type": "code",
      "source": [
        "np.transpose(y_train).shape"
      ],
      "metadata": {
        "id": "djIFwQxwMvQR",
        "outputId": "1b50191f-b2cb-492b-cb01-a5c7d69aaec8",
        "colab": {
          "base_uri": "https://localhost:8080/"
        }
      },
      "execution_count": 245,
      "outputs": [
        {
          "output_type": "execute_result",
          "data": {
            "text/plain": [
              "(60000,)"
            ]
          },
          "metadata": {},
          "execution_count": 245
        }
      ]
    },
    {
      "cell_type": "code",
      "source": [
        "y_train.shape"
      ],
      "metadata": {
        "id": "clHS88VQNR82",
        "outputId": "cdf2062f-c05c-47da-fa8b-a6ca32c4e8c7",
        "colab": {
          "base_uri": "https://localhost:8080/"
        }
      },
      "execution_count": 246,
      "outputs": [
        {
          "output_type": "execute_result",
          "data": {
            "text/plain": [
              "(60000,)"
            ]
          },
          "metadata": {},
          "execution_count": 246
        }
      ]
    },
    {
      "cell_type": "code",
      "source": [
        "def drow_hist(data):\n",
        "  plt.figure(figsize=(8,6), dpi= 80)\n",
        "  _ = plt.hist(data,\n",
        "              bins=num_classes,\n",
        "              stacked=True,\n",
        "              density=False,\n",
        "              range=(0,10),\n",
        "              rwidth=0.9,\n",
        "              )"
      ],
      "metadata": {
        "id": "NjEvuOvomEoT"
      },
      "execution_count": 247,
      "outputs": []
    },
    {
      "cell_type": "code",
      "source": [
        "# create validation data\n",
        "val_size = 10000\n",
        "\n",
        "x_val = x_train[-val_size:, :, :]\n",
        "x_train = x_train[:-val_size, :, :]\n",
        "\n",
        "y_val = y_train[-val_size:]\n",
        "y_train = y_train[:-val_size]"
      ],
      "metadata": {
        "id": "jAs92sDoVU89"
      },
      "execution_count": 248,
      "outputs": []
    },
    {
      "cell_type": "code",
      "source": [
        "# mirror train image\n",
        "x_train_add = np.rot90(x_train, k=1, axes=(1,2))\n",
        "x_train_add = np.transpose(x_train_add, (0, 2, 1))"
      ],
      "metadata": {
        "id": "UHNuw-3D_v7x"
      },
      "execution_count": 249,
      "outputs": []
    },
    {
      "cell_type": "code",
      "source": [
        "y_train_add = y_train.copy()"
      ],
      "metadata": {
        "id": "TNDXV8RfZbt1"
      },
      "execution_count": 250,
      "outputs": []
    },
    {
      "cell_type": "code",
      "source": [
        "# remove boots image from addition data [5, 7, 9]\n",
        "for i in [5, 7, 9]:\n",
        "    index = np.where(y_train_add == i )\n",
        "    x_train_add = np.delete(x_train_add, index , axis=0)\n",
        "    y_train_add = np.delete(y_train_add, index , axis=0)"
      ],
      "metadata": {
        "id": "506yp4e5UqKp"
      },
      "execution_count": 251,
      "outputs": []
    },
    {
      "cell_type": "code",
      "source": [
        "x_train_add.shape"
      ],
      "metadata": {
        "colab": {
          "base_uri": "https://localhost:8080/"
        },
        "id": "WB-PVgBb116E",
        "outputId": "0a9c44a2-8f4f-495c-bb03-be7f2b8c33bb"
      },
      "execution_count": 252,
      "outputs": [
        {
          "output_type": "execute_result",
          "data": {
            "text/plain": [
              "(34972, 28, 28)"
            ]
          },
          "metadata": {},
          "execution_count": 252
        }
      ]
    },
    {
      "cell_type": "code",
      "source": [
        "y_train_add.shape"
      ],
      "metadata": {
        "colab": {
          "base_uri": "https://localhost:8080/"
        },
        "id": "MjteIWwr2V-N",
        "outputId": "0323b137-34b7-4759-e5d5-64a3dca9563b"
      },
      "execution_count": 253,
      "outputs": [
        {
          "output_type": "execute_result",
          "data": {
            "text/plain": [
              "(34972,)"
            ]
          },
          "metadata": {},
          "execution_count": 253
        }
      ]
    },
    {
      "cell_type": "code",
      "source": [
        "x_train = np.concatenate([\n",
        "    x_train,\n",
        "    x_train_add[:10000:, :, :]\n",
        "])"
      ],
      "metadata": {
        "id": "C25g0-L5PuhV"
      },
      "execution_count": 254,
      "outputs": []
    },
    {
      "cell_type": "code",
      "source": [
        "y_train = np.concatenate([\n",
        "    y_train,\n",
        "    y_train_add[:10000]\n",
        "])"
      ],
      "metadata": {
        "id": "JiyI9CE-RWnR"
      },
      "execution_count": 255,
      "outputs": []
    },
    {
      "cell_type": "code",
      "source": [
        "drow_hist(y_train)"
      ],
      "metadata": {
        "colab": {
          "base_uri": "https://localhost:8080/",
          "height": 420
        },
        "id": "j0FZ4_7DpRVw",
        "outputId": "ff28914d-9bc2-4690-ddff-d7393059fa48"
      },
      "execution_count": 256,
      "outputs": [
        {
          "output_type": "display_data",
          "data": {
            "text/plain": [
              "<Figure size 640x480 with 1 Axes>"
            ],
            "image/png": "[encoded data removed]"
          },
          "metadata": {}
        }
      ]
    },
    {
      "cell_type": "code",
      "source": [
        "# plt.figure()\n",
        "# plt.imshow(x_train[7])\n",
        "# plt.colorbar()\n",
        "# plt.grid(False)\n",
        "# plt.show()"
      ],
      "metadata": {
        "id": "mq_QalIABCeU"
      },
      "execution_count": 257,
      "outputs": []
    },
    {
      "cell_type": "code",
      "source": [
        "# plt.figure()\n",
        "# plt.imshow(x_train_add[0])\n",
        "# plt.colorbar()\n",
        "# plt.grid(False)\n",
        "# plt.show()"
      ],
      "metadata": {
        "id": "CDLNL7Zw3HEc"
      },
      "execution_count": 258,
      "outputs": []
    },
    {
      "cell_type": "code",
      "source": [
        "x_train = x_train.astype('float32') / 255\n",
        "x_test = x_test.astype('float32') / 255\n",
        "\n",
        "y_train = y_train.astype('float32')\n",
        "y_test = y_test.astype('float32')\n",
        "\n",
        "x_val = x_val.astype('float32') / 255\n",
        "y_val = y_val.astype('float32')"
      ],
      "metadata": {
        "id": "t2gucjsJ0KUi"
      },
      "execution_count": 259,
      "outputs": []
    },
    {
      "cell_type": "code",
      "source": [
        "# class_names = ['T-shirt/top', 'Trouser', 'Pullover', 'Dress', 'Coat',\n",
        "#                'Sandal', 'Shirt', 'Sneaker', 'Bag', 'Ankle boot']\n",
        "\n",
        "# plt.figure(figsize=(10,10))\n",
        "# for i in range(25):\n",
        "#     plt.subplot(5,5,i+1)\n",
        "#     plt.xticks([])\n",
        "#     plt.yticks([])\n",
        "#     plt.grid(False)\n",
        "#     plt.imshow(x_train[i+50000], cmap=plt.cm.binary)\n",
        "#     plt.xlabel(class_names[int(y_train[i+50000])])\n",
        "# plt.show()"
      ],
      "metadata": {
        "id": "h4LveKxM4hyC"
      },
      "execution_count": 260,
      "outputs": []
    },
    {
      "cell_type": "code",
      "source": [
        "# plt.figure(figsize=(10,10))\n",
        "# for i in range(25):\n",
        "#     plt.subplot(5,5,i+1)\n",
        "#     plt.xticks([])\n",
        "#     plt.yticks([])\n",
        "#     plt.grid(False)\n",
        "#     plt.imshow(x_train[i], cmap=plt.cm.binary)\n",
        "#     plt.xlabel(class_names[int(y_train[i])])\n",
        "# plt.show()"
      ],
      "metadata": {
        "id": "hljEDYd55d8Q"
      },
      "execution_count": 261,
      "outputs": []
    },
    {
      "cell_type": "code",
      "source": [
        "w_init_tanh = initializers.glorot_normal(seed=111)\n",
        "w_init_relu = initializers.HeNormal(seed=66)\n",
        "# w_init_relu = initializers.HeUniform(seed=24)\n",
        "b_init = initializers.Zeros()"
      ],
      "metadata": {
        "id": "yL9QTEtBGy4N"
      },
      "execution_count": 262,
      "outputs": []
    },
    {
      "cell_type": "code",
      "source": [
        "drop_out = 0.28"
      ],
      "metadata": {
        "id": "flsDcVTnU10J"
      },
      "execution_count": 263,
      "outputs": []
    },
    {
      "cell_type": "code",
      "source": [
        "def layer_relu(model, neurons):\n",
        "  model.add(BatchNormalization())\n",
        "  model.add(layers.Dense(neurons,\n",
        "                       activation='relu',\n",
        "                       kernel_initializer=w_init_relu,\n",
        "                       bias_initializer=b_init))\n",
        "  model.add(layers.Dropout(drop_out))\n",
        "  return model"
      ],
      "metadata": {
        "id": "ZZgs_25rKBCp"
      },
      "execution_count": 264,
      "outputs": []
    },
    {
      "cell_type": "code",
      "source": [
        "def layer_tanh(model, neurons):\n",
        "  model.add(BatchNormalization())\n",
        "  model.add(layers.Dense(neurons,\n",
        "                        activation='tanh',\n",
        "                        kernel_initializer=w_init_tanh,\n",
        "                        bias_initializer=b_init))\n",
        "  model.add(layers.Dropout(drop_out))\n",
        "  return model"
      ],
      "metadata": {
        "id": "90JLLnkBR50t"
      },
      "execution_count": 265,
      "outputs": []
    },
    {
      "cell_type": "code",
      "source": [
        "model = models.Sequential()\n",
        "\n",
        "neurons = 256\n",
        "\n",
        "model.add(layers.Flatten(input_shape=(28, 28)))\n",
        "model.add(layers.Dropout(drop_out))\n",
        "\n",
        "model = layer_relu(model, neurons*1)\n",
        "model = layer_relu(model, neurons*2)\n",
        "model = layer_relu(model, neurons*2)\n",
        "# model = layer_relu(model, neurons*1)\n",
        "\n",
        "\n",
        "model.add(layers.Dense(10, activation='softmax'))"
      ],
      "metadata": {
        "id": "atS39i4d0aqW"
      },
      "execution_count": 266,
      "outputs": []
    },
    {
      "cell_type": "markdown",
      "source": [
        "++++++++++++++++++++++++++++++++++++++++++++++++++++++++++++++++++++++++++++++++"
      ],
      "metadata": {
        "id": "tZO7hl7pM63y"
      }
    },
    {
      "cell_type": "code",
      "source": [
        "optimizer = tf.keras.optimizers.Nadam(learning_rate=0.0003,\n",
        "                                      beta_1=0.9,\n",
        "                                      beta_2=0.999,\n",
        "                                      epsilon=1e-04\n",
        ")\n",
        "# optimizer = tf.keras.optimizers.experimental.RMSprop(learning_rate=0.0005,\n",
        "#                                                     rho=0.5,\n",
        "#                                                     momentum=-16,\n",
        "#                                                     epsilon=1e-07,\n",
        "#                                                     centered=False,\n",
        "#                                                     weight_decay=None,\n",
        "#                                                     clipnorm=None,\n",
        "#                                                     clipvalue=None,\n",
        "#                                                     global_clipnorm=None,\n",
        "#                                                     use_ema=False,\n",
        "#                                                     ema_momentum=0.99,\n",
        "#                                                     ema_overwrite_frequency=100,\n",
        "#                                                     jit_compile=True,\n",
        "#                                                     name='RMSprop',\n",
        "# )"
      ],
      "metadata": {
        "id": "EzfnaqIZlfy8"
      },
      "execution_count": 267,
      "outputs": []
    },
    {
      "cell_type": "markdown",
      "source": [
        "++++++++++++++++++++++++++++++++++++++++++++++++++++++++++++++++++++++++++++++++"
      ],
      "metadata": {
        "id": "KHmBptvOM95Z"
      }
    },
    {
      "cell_type": "code",
      "source": [
        "model.compile(#optimizer='adam',\n",
        "              # optimizer='adamax',\n",
        "              optimizer=optimizer,\n",
        "              # optimizer='rmsprop',\n",
        "              # optimizer='sgd',\n",
        "              # optimizer='adadelta',\n",
        "              # loss='binary_crossentropy',\n",
        "              loss=tf.keras.losses.SparseCategoricalCrossentropy(),\n",
        "              metrics=['sparse_categorical_accuracy']) # sparse_categorical_accuracy"
      ],
      "metadata": {
        "id": "hENVaAC7ilNY"
      },
      "execution_count": 268,
      "outputs": []
    },
    {
      "cell_type": "code",
      "source": [
        "# callback = callbacks.EarlyStopping(monitor='val_loss',\n",
        "#                                    patience=15,\n",
        "#                                    restore_best_weights=True,\n",
        "#                                    )\n",
        "es = callbacks.EarlyStopping(monitor='val_loss', mode='min', verbose=0, patience=15)\n",
        "mc = callbacks.ModelCheckpoint('best_model.h5', monitor='sparse_categorical_accuracy', mode='max', verbose=0, save_best_only=True)\n"
      ],
      "metadata": {
        "id": "5ihU4exVlsjm"
      },
      "execution_count": 269,
      "outputs": []
    },
    {
      "cell_type": "code",
      "source": [
        "history = model.fit(x_train, y_train,\n",
        "                    epochs=200,\n",
        "                    batch_size=128,\n",
        "                    # callbacks=[callback],\n",
        "                    callbacks=[mc, es],\n",
        "                    verbose=1, #многословие\n",
        "                    # validation_split=0.2\n",
        "                    validation_data=(x_val, y_val)\n",
        "                    )\n",
        "test_loss, test_acc = model.evaluate(x_test, y_test)\n",
        "print('\\nTest accuracy:', test_acc)"
      ],
      "metadata": {
        "id": "FH8HcMNm233I",
        "outputId": "4a2b71a8-c0b4-4110-856b-51ea7b46c92b",
        "colab": {
          "base_uri": "https://localhost:8080/"
        }
      },
      "execution_count": 270,
      "outputs": [
        {
          "output_type": "stream",
          "name": "stdout",
          "text": [
            "Epoch 1/200\n",
            "469/469 [==============================] - 17s 29ms/step - loss: 0.8987 - sparse_categorical_accuracy: 0.6859 - val_loss: 0.4720 - val_sparse_categorical_accuracy: 0.8267\n",
            "Epoch 2/200\n",
            "469/469 [==============================] - 13s 27ms/step - loss: 0.6055 - sparse_categorical_accuracy: 0.7796 - val_loss: 0.4332 - val_sparse_categorical_accuracy: 0.8400\n",
            "Epoch 3/200\n",
            "469/469 [==============================] - 13s 27ms/step - loss: 0.5429 - sparse_categorical_accuracy: 0.8015 - val_loss: 0.4107 - val_sparse_categorical_accuracy: 0.8494\n",
            "Epoch 4/200\n",
            "469/469 [==============================] - 13s 27ms/step - loss: 0.5033 - sparse_categorical_accuracy: 0.8147 - val_loss: 0.3943 - val_sparse_categorical_accuracy: 0.8531\n",
            "Epoch 5/200\n",
            "469/469 [==============================] - 13s 27ms/step - loss: 0.4762 - sparse_categorical_accuracy: 0.8218 - val_loss: 0.3830 - val_sparse_categorical_accuracy: 0.8569\n",
            "Epoch 6/200\n",
            "469/469 [==============================] - 13s 27ms/step - loss: 0.4576 - sparse_categorical_accuracy: 0.8303 - val_loss: 0.3722 - val_sparse_categorical_accuracy: 0.8632\n",
            "Epoch 7/200\n",
            "469/469 [==============================] - 13s 28ms/step - loss: 0.4399 - sparse_categorical_accuracy: 0.8379 - val_loss: 0.3634 - val_sparse_categorical_accuracy: 0.8662\n",
            "Epoch 8/200\n",
            "469/469 [==============================] - 13s 27ms/step - loss: 0.4290 - sparse_categorical_accuracy: 0.8395 - val_loss: 0.3520 - val_sparse_categorical_accuracy: 0.8701\n",
            "Epoch 9/200\n",
            "469/469 [==============================] - 14s 30ms/step - loss: 0.4176 - sparse_categorical_accuracy: 0.8452 - val_loss: 0.3562 - val_sparse_categorical_accuracy: 0.8707\n",
            "Epoch 10/200\n",
            "469/469 [==============================] - 15s 32ms/step - loss: 0.4113 - sparse_categorical_accuracy: 0.8477 - val_loss: 0.3523 - val_sparse_categorical_accuracy: 0.8696\n",
            "Epoch 11/200\n",
            "469/469 [==============================] - 13s 27ms/step - loss: 0.4002 - sparse_categorical_accuracy: 0.8511 - val_loss: 0.3386 - val_sparse_categorical_accuracy: 0.8731\n",
            "Epoch 12/200\n",
            "469/469 [==============================] - 14s 30ms/step - loss: 0.3899 - sparse_categorical_accuracy: 0.8538 - val_loss: 0.3306 - val_sparse_categorical_accuracy: 0.8763\n",
            "Epoch 13/200\n",
            "469/469 [==============================] - 13s 27ms/step - loss: 0.3828 - sparse_categorical_accuracy: 0.8556 - val_loss: 0.3309 - val_sparse_categorical_accuracy: 0.8764\n",
            "Epoch 14/200\n",
            "469/469 [==============================] - 13s 28ms/step - loss: 0.3758 - sparse_categorical_accuracy: 0.8578 - val_loss: 0.3266 - val_sparse_categorical_accuracy: 0.8784\n",
            "Epoch 15/200\n",
            "469/469 [==============================] - 13s 27ms/step - loss: 0.3707 - sparse_categorical_accuracy: 0.8602 - val_loss: 0.3263 - val_sparse_categorical_accuracy: 0.8814\n",
            "Epoch 16/200\n",
            "469/469 [==============================] - 13s 27ms/step - loss: 0.3682 - sparse_categorical_accuracy: 0.8619 - val_loss: 0.3227 - val_sparse_categorical_accuracy: 0.8818\n",
            "Epoch 17/200\n",
            "469/469 [==============================] - 13s 28ms/step - loss: 0.3647 - sparse_categorical_accuracy: 0.8622 - val_loss: 0.3155 - val_sparse_categorical_accuracy: 0.8847\n",
            "Epoch 18/200\n",
            "469/469 [==============================] - 13s 27ms/step - loss: 0.3605 - sparse_categorical_accuracy: 0.8661 - val_loss: 0.3154 - val_sparse_categorical_accuracy: 0.8820\n",
            "Epoch 19/200\n",
            "469/469 [==============================] - 13s 28ms/step - loss: 0.3524 - sparse_categorical_accuracy: 0.8674 - val_loss: 0.3107 - val_sparse_categorical_accuracy: 0.8843\n",
            "Epoch 20/200\n",
            "469/469 [==============================] - 13s 27ms/step - loss: 0.3505 - sparse_categorical_accuracy: 0.8680 - val_loss: 0.3067 - val_sparse_categorical_accuracy: 0.8865\n",
            "Epoch 21/200\n",
            "469/469 [==============================] - 13s 28ms/step - loss: 0.3482 - sparse_categorical_accuracy: 0.8684 - val_loss: 0.3056 - val_sparse_categorical_accuracy: 0.8850\n",
            "Epoch 22/200\n",
            "469/469 [==============================] - 13s 27ms/step - loss: 0.3413 - sparse_categorical_accuracy: 0.8715 - val_loss: 0.3007 - val_sparse_categorical_accuracy: 0.8901\n",
            "Epoch 23/200\n",
            "469/469 [==============================] - 13s 28ms/step - loss: 0.3404 - sparse_categorical_accuracy: 0.8702 - val_loss: 0.2947 - val_sparse_categorical_accuracy: 0.8913\n",
            "Epoch 24/200\n",
            "469/469 [==============================] - 13s 28ms/step - loss: 0.3349 - sparse_categorical_accuracy: 0.8732 - val_loss: 0.3020 - val_sparse_categorical_accuracy: 0.8901\n",
            "Epoch 25/200\n",
            "469/469 [==============================] - 13s 27ms/step - loss: 0.3344 - sparse_categorical_accuracy: 0.8727 - val_loss: 0.2938 - val_sparse_categorical_accuracy: 0.8916\n",
            "Epoch 26/200\n",
            "469/469 [==============================] - 13s 28ms/step - loss: 0.3286 - sparse_categorical_accuracy: 0.8736 - val_loss: 0.2990 - val_sparse_categorical_accuracy: 0.8901\n",
            "Epoch 27/200\n",
            "469/469 [==============================] - 13s 27ms/step - loss: 0.3268 - sparse_categorical_accuracy: 0.8762 - val_loss: 0.2947 - val_sparse_categorical_accuracy: 0.8903\n",
            "Epoch 28/200\n",
            "469/469 [==============================] - 13s 27ms/step - loss: 0.3253 - sparse_categorical_accuracy: 0.8759 - val_loss: 0.2877 - val_sparse_categorical_accuracy: 0.8942\n",
            "Epoch 29/200\n",
            "469/469 [==============================] - 12s 26ms/step - loss: 0.3209 - sparse_categorical_accuracy: 0.8774 - val_loss: 0.2970 - val_sparse_categorical_accuracy: 0.8906\n",
            "Epoch 30/200\n",
            "469/469 [==============================] - 13s 27ms/step - loss: 0.3157 - sparse_categorical_accuracy: 0.8793 - val_loss: 0.2964 - val_sparse_categorical_accuracy: 0.8909\n",
            "Epoch 31/200\n",
            "469/469 [==============================] - 13s 28ms/step - loss: 0.3177 - sparse_categorical_accuracy: 0.8791 - val_loss: 0.2879 - val_sparse_categorical_accuracy: 0.8937\n",
            "Epoch 32/200\n",
            "469/469 [==============================] - 13s 28ms/step - loss: 0.3163 - sparse_categorical_accuracy: 0.8808 - val_loss: 0.2915 - val_sparse_categorical_accuracy: 0.8923\n",
            "Epoch 33/200\n",
            "469/469 [==============================] - 12s 27ms/step - loss: 0.3122 - sparse_categorical_accuracy: 0.8811 - val_loss: 0.2922 - val_sparse_categorical_accuracy: 0.8907\n",
            "Epoch 34/200\n",
            "469/469 [==============================] - 13s 27ms/step - loss: 0.3102 - sparse_categorical_accuracy: 0.8813 - val_loss: 0.2816 - val_sparse_categorical_accuracy: 0.8940\n",
            "Epoch 35/200\n",
            "469/469 [==============================] - 13s 28ms/step - loss: 0.3070 - sparse_categorical_accuracy: 0.8824 - val_loss: 0.2835 - val_sparse_categorical_accuracy: 0.8969\n",
            "Epoch 36/200\n",
            "469/469 [==============================] - 13s 28ms/step - loss: 0.3045 - sparse_categorical_accuracy: 0.8846 - val_loss: 0.2850 - val_sparse_categorical_accuracy: 0.8935\n",
            "Epoch 37/200\n",
            "469/469 [==============================] - 13s 28ms/step - loss: 0.3025 - sparse_categorical_accuracy: 0.8845 - val_loss: 0.2851 - val_sparse_categorical_accuracy: 0.8945\n",
            "Epoch 38/200\n",
            "469/469 [==============================] - 15s 32ms/step - loss: 0.3044 - sparse_categorical_accuracy: 0.8839 - val_loss: 0.2920 - val_sparse_categorical_accuracy: 0.8924\n",
            "Epoch 39/200\n",
            "469/469 [==============================] - 15s 33ms/step - loss: 0.3015 - sparse_categorical_accuracy: 0.8849 - val_loss: 0.2893 - val_sparse_categorical_accuracy: 0.8928\n",
            "Epoch 40/200\n",
            "469/469 [==============================] - 18s 38ms/step - loss: 0.2984 - sparse_categorical_accuracy: 0.8861 - val_loss: 0.2824 - val_sparse_categorical_accuracy: 0.8949\n",
            "Epoch 41/200\n",
            "469/469 [==============================] - 19s 40ms/step - loss: 0.2920 - sparse_categorical_accuracy: 0.8888 - val_loss: 0.2789 - val_sparse_categorical_accuracy: 0.8956\n",
            "Epoch 42/200\n",
            "469/469 [==============================] - 17s 35ms/step - loss: 0.2982 - sparse_categorical_accuracy: 0.8867 - val_loss: 0.2834 - val_sparse_categorical_accuracy: 0.8941\n",
            "Epoch 43/200\n",
            "469/469 [==============================] - 18s 39ms/step - loss: 0.2917 - sparse_categorical_accuracy: 0.8884 - val_loss: 0.2904 - val_sparse_categorical_accuracy: 0.8909\n",
            "Epoch 44/200\n",
            "469/469 [==============================] - 17s 36ms/step - loss: 0.2935 - sparse_categorical_accuracy: 0.8869 - val_loss: 0.2781 - val_sparse_categorical_accuracy: 0.8990\n",
            "Epoch 45/200\n",
            "469/469 [==============================] - 17s 36ms/step - loss: 0.2893 - sparse_categorical_accuracy: 0.8892 - val_loss: 0.2789 - val_sparse_categorical_accuracy: 0.8972\n",
            "Epoch 46/200\n",
            "469/469 [==============================] - 15s 32ms/step - loss: 0.2914 - sparse_categorical_accuracy: 0.8877 - val_loss: 0.2754 - val_sparse_categorical_accuracy: 0.8990\n",
            "Epoch 47/200\n",
            "469/469 [==============================] - 15s 32ms/step - loss: 0.2851 - sparse_categorical_accuracy: 0.8909 - val_loss: 0.2803 - val_sparse_categorical_accuracy: 0.8983\n",
            "Epoch 48/200\n",
            "469/469 [==============================] - 15s 31ms/step - loss: 0.2905 - sparse_categorical_accuracy: 0.8881 - val_loss: 0.2746 - val_sparse_categorical_accuracy: 0.8979\n",
            "Epoch 49/200\n",
            "469/469 [==============================] - 15s 32ms/step - loss: 0.2870 - sparse_categorical_accuracy: 0.8903 - val_loss: 0.2761 - val_sparse_categorical_accuracy: 0.8984\n",
            "Epoch 50/200\n",
            "469/469 [==============================] - 15s 32ms/step - loss: 0.2821 - sparse_categorical_accuracy: 0.8931 - val_loss: 0.2749 - val_sparse_categorical_accuracy: 0.8977\n",
            "Epoch 51/200\n",
            "469/469 [==============================] - 16s 34ms/step - loss: 0.2831 - sparse_categorical_accuracy: 0.8925 - val_loss: 0.2753 - val_sparse_categorical_accuracy: 0.8989\n",
            "Epoch 52/200\n",
            "469/469 [==============================] - 16s 35ms/step - loss: 0.2809 - sparse_categorical_accuracy: 0.8932 - val_loss: 0.2770 - val_sparse_categorical_accuracy: 0.8983\n",
            "Epoch 53/200\n",
            "469/469 [==============================] - 16s 35ms/step - loss: 0.2808 - sparse_categorical_accuracy: 0.8924 - val_loss: 0.2751 - val_sparse_categorical_accuracy: 0.9007\n",
            "Epoch 54/200\n",
            "469/469 [==============================] - 15s 33ms/step - loss: 0.2786 - sparse_categorical_accuracy: 0.8934 - val_loss: 0.2767 - val_sparse_categorical_accuracy: 0.8993\n",
            "Epoch 55/200\n",
            "469/469 [==============================] - 15s 33ms/step - loss: 0.2766 - sparse_categorical_accuracy: 0.8939 - val_loss: 0.2746 - val_sparse_categorical_accuracy: 0.9001\n",
            "Epoch 56/200\n",
            "469/469 [==============================] - 17s 37ms/step - loss: 0.2735 - sparse_categorical_accuracy: 0.8955 - val_loss: 0.2735 - val_sparse_categorical_accuracy: 0.8976\n",
            "Epoch 57/200\n",
            "469/469 [==============================] - 16s 33ms/step - loss: 0.2749 - sparse_categorical_accuracy: 0.8948 - val_loss: 0.2745 - val_sparse_categorical_accuracy: 0.9003\n",
            "Epoch 58/200\n",
            "469/469 [==============================] - 15s 31ms/step - loss: 0.2741 - sparse_categorical_accuracy: 0.8952 - val_loss: 0.2701 - val_sparse_categorical_accuracy: 0.9001\n",
            "Epoch 59/200\n",
            "469/469 [==============================] - 15s 31ms/step - loss: 0.2739 - sparse_categorical_accuracy: 0.8945 - val_loss: 0.2803 - val_sparse_categorical_accuracy: 0.8979\n",
            "Epoch 60/200\n",
            "469/469 [==============================] - 15s 32ms/step - loss: 0.2685 - sparse_categorical_accuracy: 0.8964 - val_loss: 0.2741 - val_sparse_categorical_accuracy: 0.8978\n",
            "Epoch 61/200\n",
            "469/469 [==============================] - 15s 32ms/step - loss: 0.2727 - sparse_categorical_accuracy: 0.8959 - val_loss: 0.2698 - val_sparse_categorical_accuracy: 0.8999\n",
            "Epoch 62/200\n",
            "469/469 [==============================] - 17s 36ms/step - loss: 0.2697 - sparse_categorical_accuracy: 0.8954 - val_loss: 0.2790 - val_sparse_categorical_accuracy: 0.8972\n",
            "Epoch 63/200\n",
            "469/469 [==============================] - 15s 33ms/step - loss: 0.2676 - sparse_categorical_accuracy: 0.8977 - val_loss: 0.2756 - val_sparse_categorical_accuracy: 0.8981\n",
            "Epoch 64/200\n",
            "469/469 [==============================] - 15s 33ms/step - loss: 0.2696 - sparse_categorical_accuracy: 0.8973 - val_loss: 0.2769 - val_sparse_categorical_accuracy: 0.8975\n",
            "Epoch 65/200\n",
            "469/469 [==============================] - 15s 32ms/step - loss: 0.2672 - sparse_categorical_accuracy: 0.8974 - val_loss: 0.2749 - val_sparse_categorical_accuracy: 0.9011\n",
            "Epoch 66/200\n",
            "469/469 [==============================] - 15s 32ms/step - loss: 0.2650 - sparse_categorical_accuracy: 0.8982 - val_loss: 0.2706 - val_sparse_categorical_accuracy: 0.9016\n",
            "Epoch 67/200\n",
            "469/469 [==============================] - 15s 31ms/step - loss: 0.2699 - sparse_categorical_accuracy: 0.8967 - val_loss: 0.2753 - val_sparse_categorical_accuracy: 0.8979\n",
            "Epoch 68/200\n",
            "469/469 [==============================] - 15s 33ms/step - loss: 0.2604 - sparse_categorical_accuracy: 0.8997 - val_loss: 0.2747 - val_sparse_categorical_accuracy: 0.8959\n",
            "Epoch 69/200\n",
            "469/469 [==============================] - 16s 33ms/step - loss: 0.2640 - sparse_categorical_accuracy: 0.8991 - val_loss: 0.2677 - val_sparse_categorical_accuracy: 0.9018\n",
            "Epoch 70/200\n",
            "469/469 [==============================] - 14s 31ms/step - loss: 0.2636 - sparse_categorical_accuracy: 0.8989 - val_loss: 0.2781 - val_sparse_categorical_accuracy: 0.8993\n",
            "Epoch 71/200\n",
            "469/469 [==============================] - 14s 30ms/step - loss: 0.2589 - sparse_categorical_accuracy: 0.8999 - val_loss: 0.2765 - val_sparse_categorical_accuracy: 0.9009\n",
            "Epoch 72/200\n",
            "469/469 [==============================] - 14s 30ms/step - loss: 0.2612 - sparse_categorical_accuracy: 0.9001 - val_loss: 0.2683 - val_sparse_categorical_accuracy: 0.9014\n",
            "Epoch 73/200\n",
            "469/469 [==============================] - 14s 30ms/step - loss: 0.2599 - sparse_categorical_accuracy: 0.9008 - val_loss: 0.2722 - val_sparse_categorical_accuracy: 0.9016\n",
            "Epoch 74/200\n",
            "469/469 [==============================] - 14s 31ms/step - loss: 0.2595 - sparse_categorical_accuracy: 0.9004 - val_loss: 0.2777 - val_sparse_categorical_accuracy: 0.8987\n",
            "Epoch 75/200\n",
            "469/469 [==============================] - 14s 30ms/step - loss: 0.2598 - sparse_categorical_accuracy: 0.9013 - val_loss: 0.2732 - val_sparse_categorical_accuracy: 0.9028\n",
            "Epoch 76/200\n",
            "469/469 [==============================] - 14s 30ms/step - loss: 0.2577 - sparse_categorical_accuracy: 0.9008 - val_loss: 0.2727 - val_sparse_categorical_accuracy: 0.9017\n",
            "Epoch 77/200\n",
            "469/469 [==============================] - 15s 32ms/step - loss: 0.2569 - sparse_categorical_accuracy: 0.9007 - val_loss: 0.2671 - val_sparse_categorical_accuracy: 0.9042\n",
            "Epoch 78/200\n",
            "469/469 [==============================] - 15s 32ms/step - loss: 0.2597 - sparse_categorical_accuracy: 0.9013 - val_loss: 0.2670 - val_sparse_categorical_accuracy: 0.9022\n",
            "Epoch 79/200\n",
            "469/469 [==============================] - 14s 30ms/step - loss: 0.2500 - sparse_categorical_accuracy: 0.9041 - val_loss: 0.2795 - val_sparse_categorical_accuracy: 0.8974\n",
            "Epoch 80/200\n",
            "469/469 [==============================] - 15s 32ms/step - loss: 0.2536 - sparse_categorical_accuracy: 0.9023 - val_loss: 0.2694 - val_sparse_categorical_accuracy: 0.9020\n",
            "Epoch 81/200\n",
            "469/469 [==============================] - 15s 33ms/step - loss: 0.2548 - sparse_categorical_accuracy: 0.9024 - val_loss: 0.2696 - val_sparse_categorical_accuracy: 0.9006\n",
            "Epoch 82/200\n",
            "469/469 [==============================] - 15s 31ms/step - loss: 0.2580 - sparse_categorical_accuracy: 0.9014 - val_loss: 0.2678 - val_sparse_categorical_accuracy: 0.9015\n",
            "Epoch 83/200\n",
            "469/469 [==============================] - 14s 31ms/step - loss: 0.2539 - sparse_categorical_accuracy: 0.9023 - val_loss: 0.2732 - val_sparse_categorical_accuracy: 0.9014\n",
            "Epoch 84/200\n",
            "469/469 [==============================] - 14s 30ms/step - loss: 0.2489 - sparse_categorical_accuracy: 0.9049 - val_loss: 0.2773 - val_sparse_categorical_accuracy: 0.9003\n",
            "Epoch 85/200\n",
            "469/469 [==============================] - 14s 31ms/step - loss: 0.2480 - sparse_categorical_accuracy: 0.9048 - val_loss: 0.2709 - val_sparse_categorical_accuracy: 0.9001\n",
            "Epoch 86/200\n",
            "469/469 [==============================] - 15s 32ms/step - loss: 0.2501 - sparse_categorical_accuracy: 0.9027 - val_loss: 0.2703 - val_sparse_categorical_accuracy: 0.9022\n",
            "Epoch 87/200\n",
            "469/469 [==============================] - 15s 32ms/step - loss: 0.2502 - sparse_categorical_accuracy: 0.9036 - val_loss: 0.2690 - val_sparse_categorical_accuracy: 0.9016\n",
            "Epoch 88/200\n",
            "469/469 [==============================] - 14s 30ms/step - loss: 0.2503 - sparse_categorical_accuracy: 0.9045 - val_loss: 0.2733 - val_sparse_categorical_accuracy: 0.8999\n",
            "Epoch 89/200\n",
            "469/469 [==============================] - 14s 30ms/step - loss: 0.2530 - sparse_categorical_accuracy: 0.9040 - val_loss: 0.2676 - val_sparse_categorical_accuracy: 0.9021\n",
            "Epoch 90/200\n",
            "469/469 [==============================] - 16s 33ms/step - loss: 0.2484 - sparse_categorical_accuracy: 0.9039 - val_loss: 0.2706 - val_sparse_categorical_accuracy: 0.9029\n",
            "Epoch 91/200\n",
            "469/469 [==============================] - 14s 31ms/step - loss: 0.2466 - sparse_categorical_accuracy: 0.9054 - val_loss: 0.2687 - val_sparse_categorical_accuracy: 0.9029\n",
            "Epoch 92/200\n",
            "469/469 [==============================] - 14s 30ms/step - loss: 0.2461 - sparse_categorical_accuracy: 0.9057 - val_loss: 0.2675 - val_sparse_categorical_accuracy: 0.9050\n",
            "Epoch 93/200\n",
            "469/469 [==============================] - 15s 33ms/step - loss: 0.2476 - sparse_categorical_accuracy: 0.9034 - val_loss: 0.2707 - val_sparse_categorical_accuracy: 0.9019\n",
            "313/313 [==============================] - 2s 6ms/step - loss: 0.2848 - sparse_categorical_accuracy: 0.8971\n",
            "\n",
            "Test accuracy: 0.8970999717712402\n"
          ]
        }
      ]
    },
    {
      "cell_type": "code",
      "source": [
        "print('\\nhistory dict:', list(history.history.keys()))"
      ],
      "metadata": {
        "id": "CxRE-B_Q6Sii",
        "colab": {
          "base_uri": "https://localhost:8080/"
        },
        "outputId": "7e1270e2-d397-413b-b3f6-095b8fc26eed"
      },
      "execution_count": 271,
      "outputs": [
        {
          "output_type": "stream",
          "name": "stdout",
          "text": [
            "\n",
            "history dict: ['loss', 'sparse_categorical_accuracy', 'val_loss', 'val_sparse_categorical_accuracy']\n"
          ]
        }
      ]
    },
    {
      "cell_type": "code",
      "source": [
        "result = model.evaluate(x_test, y_test)\n",
        "print(result)"
      ],
      "metadata": {
        "id": "YXpwRRTvTBNg",
        "colab": {
          "base_uri": "https://localhost:8080/"
        },
        "outputId": "e4e0d373-8a9e-47b3-c056-08e718144b5e"
      },
      "execution_count": 272,
      "outputs": [
        {
          "output_type": "stream",
          "name": "stdout",
          "text": [
            "313/313 [==============================] - 2s 6ms/step - loss: 0.2848 - sparse_categorical_accuracy: 0.8971\n",
            "[0.2847670614719391, 0.8970999717712402]\n"
          ]
        }
      ]
    },
    {
      "cell_type": "code",
      "source": [
        "saved_model = load_model('best_model.h5')\n",
        "result = saved_model.evaluate(x_test, y_test)\n",
        "print(result)"
      ],
      "metadata": {
        "id": "dpaZAW0vp1AZ",
        "colab": {
          "base_uri": "https://localhost:8080/"
        },
        "outputId": "55aab754-db1e-459a-9171-6d66813c5a6c"
      },
      "execution_count": 273,
      "outputs": [
        {
          "output_type": "stream",
          "name": "stdout",
          "text": [
            "313/313 [==============================] - 3s 7ms/step - loss: 0.2813 - sparse_categorical_accuracy: 0.8991\n",
            "[0.28125080466270447, 0.8991000056266785]\n"
          ]
        }
      ]
    },
    {
      "cell_type": "code",
      "source": [
        "# from keras.models import load_model\n",
        "# saved_model = load_model('best_model.h5')\n",
        "# # _, train_acc = saved_model.evaluate(x_train, y_train, verbose=0)\n",
        "# _, test_acc = saved_model.evaluate(x_test, y_test, verbose=0)\n",
        "# print('Test: %.3f' % (test_acc))"
      ],
      "metadata": {
        "id": "DR_MS9DABo_K"
      },
      "execution_count": 274,
      "outputs": []
    },
    {
      "cell_type": "code",
      "source": [
        "history_dict = history.history\n",
        "loss_values = history_dict['loss']\n",
        "val_loss_values = history_dict['val_loss']\n",
        "\n",
        "epochs = range(1, len(history_dict['loss']) + 1)\n",
        "\n",
        "plt.figure(figsize=(10, 5))\n",
        "plt.plot(epochs, loss_values, 'bo', label='Training loss')\n",
        "plt.plot(epochs, val_loss_values, 'r', label='Validation loss')\n",
        "# plt.ylim (0.2, 0.5)\n",
        "plt.title('Training and validation loss')\n",
        "plt.xlabel('Epochs')\n",
        "plt.ylabel('Loss')\n",
        "plt.legend()\n",
        "plt.grid(True)\n",
        "plt.show()\n",
        "1\n",
        "plt.clf()\n",
        "plt.figure(figsize=(10, 5))\n",
        "val_acc_values = history_dict['sparse_categorical_accuracy']\n",
        "plt.plot(epochs, history_dict['sparse_categorical_accuracy'], 'bo', label='Training acc')\n",
        "plt.plot(epochs, history_dict['val_sparse_categorical_accuracy'], 'r', label='Validation acc')\n",
        "plt.ylim (0.86, 0.92)\n",
        "plt.title('Training and validation accuracy')\n",
        "plt.xlabel('Epochs')\n",
        "plt.ylabel('Accuracy')\n",
        "plt.legend()\n",
        "plt.grid(True)"
      ],
      "metadata": {
        "id": "2Ll_5sGlXKMH",
        "colab": {
          "base_uri": "https://localhost:8080/",
          "height": 975
        },
        "outputId": "6443023e-15b3-49a3-cc60-b835d16490e0"
      },
      "execution_count": 275,
      "outputs": [
        {
          "output_type": "display_data",
          "data": {
            "text/plain": [
              "<Figure size 1000x500 with 1 Axes>"
            ],
            "image/png": "[encoded data removed]"
          },
          "metadata": {}
        },
        {
          "output_type": "display_data",
          "data": {
            "text/plain": [
              "<Figure size 640x480 with 0 Axes>"
            ]
          },
          "metadata": {}
        },
        {
          "output_type": "display_data",
          "data": {
            "text/plain": [
              "<Figure size 1000x500 with 1 Axes>"
            ],
            "image/png": "[encoded data removed]"
          },
          "metadata": {}
        }
      ]
    },
    {
      "cell_type": "code",
      "source": [
        "probability_model = tf.keras.Sequential([model,\n",
        "                                         tf.keras.layers.Softmax()])"
      ],
      "metadata": {
        "id": "VzOdKAT_uV-f"
      },
      "execution_count": 276,
      "outputs": []
    },
    {
      "cell_type": "code",
      "source": [
        "predictions = probability_model.predict(x_test)"
      ],
      "metadata": {
        "id": "f4is3NFruYom",
        "colab": {
          "base_uri": "https://localhost:8080/"
        },
        "outputId": "0024a24b-5868-4caa-9f4c-f51c26e9ce70"
      },
      "execution_count": 277,
      "outputs": [
        {
          "output_type": "stream",
          "name": "stdout",
          "text": [
            "313/313 [==============================] - 2s 6ms/step\n"
          ]
        }
      ]
    },
    {
      "cell_type": "code",
      "source": [
        "predictions[0]"
      ],
      "metadata": {
        "id": "82cigvlZudz_",
        "colab": {
          "base_uri": "https://localhost:8080/"
        },
        "outputId": "44dde263-d065-4311-ed6b-92d6062351a1"
      },
      "execution_count": 278,
      "outputs": [
        {
          "output_type": "execute_result",
          "data": {
            "text/plain": [
              "array([0.08539633, 0.08539633, 0.08539633, 0.08539633, 0.08539633,\n",
              "       0.08539888, 0.08539633, 0.0858033 , 0.08539633, 0.23102343],\n",
              "      dtype=float32)"
            ]
          },
          "metadata": {},
          "execution_count": 278
        }
      ]
    },
    {
      "cell_type": "code",
      "source": [
        "model.summary()"
      ],
      "metadata": {
        "id": "6RsQPHyYuNGe",
        "colab": {
          "base_uri": "https://localhost:8080/"
        },
        "outputId": "22758ec9-ce45-4fc5-c066-f9ce63c6f47f"
      },
      "execution_count": 279,
      "outputs": [
        {
          "output_type": "stream",
          "name": "stdout",
          "text": [
            "Model: \"sequential_12\"\n",
            "_________________________________________________________________\n",
            " Layer (type)                Output Shape              Param #   \n",
            "=================================================================\n",
            " flatten_6 (Flatten)         (None, 784)               0         \n",
            "                                                                 \n",
            " dropout_24 (Dropout)        (None, 784)               0         \n",
            "                                                                 \n",
            " batch_normalization_18 (Ba  (None, 784)               3136      \n",
            " tchNormalization)                                               \n",
            "                                                                 \n",
            " dense_24 (Dense)            (None, 256)               200960    \n",
            "                                                                 \n",
            " dropout_25 (Dropout)        (None, 256)               0         \n",
            "                                                                 \n",
            " batch_normalization_19 (Ba  (None, 256)               1024      \n",
            " tchNormalization)                                               \n",
            "                                                                 \n",
            " dense_25 (Dense)            (None, 512)               131584    \n",
            "                                                                 \n",
            " dropout_26 (Dropout)        (None, 512)               0         \n",
            "                                                                 \n",
            " batch_normalization_20 (Ba  (None, 512)               2048      \n",
            " tchNormalization)                                               \n",
            "                                                                 \n",
            " dense_26 (Dense)            (None, 512)               262656    \n",
            "                                                                 \n",
            " dropout_27 (Dropout)        (None, 512)               0         \n",
            "                                                                 \n",
            " dense_27 (Dense)            (None, 10)                5130      \n",
            "                                                                 \n",
            "=================================================================\n",
            "Total params: 606538 (2.31 MB)\n",
            "Trainable params: 603434 (2.30 MB)\n",
            "Non-trainable params: 3104 (12.12 KB)\n",
            "_________________________________________________________________\n"
          ]
        }
      ]
    },
    {
      "cell_type": "code",
      "source": [
        "\n",
        "\n",
        "\n",
        "hnyetjn hrte()"
      ],
      "metadata": {
        "id": "S4hcxZttmp-0",
        "colab": {
          "base_uri": "https://localhost:8080/",
          "height": 108
        },
        "outputId": "e2a9233b-f6c6-473d-901f-9fe34f887cc1"
      },
      "execution_count": 280,
      "outputs": [
        {
          "output_type": "error",
          "ename": "SyntaxError",
          "evalue": "invalid syntax (<ipython-input-280-1a3818e70946>, line 1)",
          "traceback": [
            "\u001b[0;36m  File \u001b[0;32m\"<ipython-input-280-1a3818e70946>\"\u001b[0;36m, line \u001b[0;32m1\u001b[0m\n\u001b[0;31m    hnyetjn hrte()\u001b[0m\n\u001b[0m            ^\u001b[0m\n\u001b[0;31mSyntaxError\u001b[0m\u001b[0;31m:\u001b[0m invalid syntax\n"
          ]
        }
      ]
    }
  ]
}