{
  "nbformat": 4,
  "nbformat_minor": 0,
  "metadata": {
    "colab": {
      "provenance": [],
      "gpuType": "T4",
      "authorship_tag": "ABX9TyM94W331hjQWyaBeRGY7Tq9",
      "include_colab_link": true
    },
    "kernelspec": {
      "name": "python3",
      "display_name": "Python 3"
    },
    "language_info": {
      "name": "python"
    },
    "accelerator": "GPU"
  },
  "cells": [
    {
      "cell_type": "markdown",
      "metadata": {
        "id": "view-in-github",
        "colab_type": "text"
      },
      "source": [
        "<a href=\"https://colab.research.google.com/github/PavelStelmakhV/hw310-keras-fasion-mnist/blob/main/keras_fasion_mnist_hw.ipynb\" target=\"_parent\"><img src=\"https://colab.research.google.com/assets/colab-badge.svg\" alt=\"Open In Colab\"/></a>"
      ]
    },
    {
      "cell_type": "code",
      "execution_count": 112,
      "metadata": {
        "id": "vv7w0bgAVQPO"
      },
      "outputs": [],
      "source": [
        "import tensorflow as tf\n",
        "import numpy as np\n",
        "import matplotlib.pyplot as plt\n",
        "\n",
        "from keras import layers\n",
        "from keras import regularizers\n",
        "from keras import callbacks\n",
        "from keras import initializers\n",
        "from keras.layers import BatchNormalization"
      ]
    },
    {
      "cell_type": "code",
      "source": [
        "fashion_mnist = tf.keras.datasets.fashion_mnist\n",
        "\n",
        "(x_train, y_train), (x_test, y_test) = fashion_mnist.load_data()"
      ],
      "metadata": {
        "id": "mOpywsNAzfGB"
      },
      "execution_count": 113,
      "outputs": []
    },
    {
      "cell_type": "code",
      "source": [
        "# x_train = x_train.reshape(60000, 784).astype('float32') / 255\n",
        "# x_test = x_test.reshape(10000, 784).astype('float32') / 255\n",
        "x_train = x_train.astype('float32') / 255\n",
        "x_test = x_test.astype('float32') / 255\n",
        "\n",
        "y_train = y_train.astype('float32')\n",
        "y_test = y_test.astype('float32')\n",
        "\n",
        "# Перемешаем тренировочные данные\n",
        "# train_data = tf.data.Dataset.from_tensor_slices((x_train, y_train))\n",
        "# train_data = train_data.repeat().shuffle(5000).batch(batch_size).prefetch(1)"
      ],
      "metadata": {
        "id": "t2gucjsJ0KUi"
      },
      "execution_count": 114,
      "outputs": []
    },
    {
      "cell_type": "code",
      "source": [
        "x_val = x_train[-10000:]\n",
        "y_val = y_train[-10000:]\n",
        "x_train = x_train[:-10000]\n",
        "y_train = y_train[:-10000]"
      ],
      "metadata": {
        "id": "fLPNXab5dHwO"
      },
      "execution_count": 115,
      "outputs": []
    },
    {
      "cell_type": "code",
      "source": [],
      "metadata": {
        "id": "bU5TK5YdlnU5"
      },
      "execution_count": 115,
      "outputs": []
    },
    {
      "cell_type": "code",
      "source": [
        "w_init = initializers.glorot_normal()\n",
        "b_init = initializers.Zeros()"
      ],
      "metadata": {
        "id": "yL9QTEtBGy4N"
      },
      "execution_count": 116,
      "outputs": []
    },
    {
      "cell_type": "code",
      "source": [
        "model = tf.keras.Sequential()\n",
        "\n",
        "drop_out = 0.2\n",
        "lern_rat = 0.001\n",
        "neurons = 128\n",
        "\n",
        "model.add(layers.Flatten(input_shape=(28, 28)))\n",
        "model.add(layers.Dropout(0.3))\n",
        "\n",
        "model.add(layers.Dense(neurons * 1, activation='relu', kernel_initializer=w_init, bias_initializer=b_init)) #, kernel_regularizer=regularizers.l2(lern_rat)\n",
        "model.add(BatchNormalization())\n",
        "# model.add(layers.Dropout(drop_out))\n",
        "model.add(layers.Dense(neurons * 2, activation='tanh'))\n",
        "model.add(BatchNormalization())\n",
        "model.add(layers.Dropout(drop_out))\n",
        "\n",
        "model.add(layers.Dense(neurons * 4, activation='relu'))\n",
        "model.add(BatchNormalization())\n",
        "model.add(layers.Dropout(drop_out * 1.5))\n",
        "\n",
        "model.add(layers.Dense(neurons * 8, activation='tanh'))\n",
        "model.add(BatchNormalization())\n",
        "model.add(layers.Dropout(drop_out * 2))\n",
        "\n",
        "model.add(layers.Dense(10, activation='softmax'))"
      ],
      "metadata": {
        "id": "atS39i4d0aqW"
      },
      "execution_count": 117,
      "outputs": []
    },
    {
      "cell_type": "code",
      "source": [],
      "metadata": {
        "id": "EzfnaqIZlfy8"
      },
      "execution_count": 117,
      "outputs": []
    },
    {
      "cell_type": "code",
      "source": [
        "model.compile(#optimizer='adam',\n",
        "              optimizer='adamax',\n",
        "              # optimizer='nadam',\n",
        "              # optimizer='rmsprop',\n",
        "              # optimizer='sgd',\n",
        "              # optimizer='adadelta',\n",
        "              # loss='binary_crossentropy',\n",
        "              loss=tf.keras.losses.SparseCategoricalCrossentropy(),\n",
        "              metrics=['accuracy']) # sparse_categorical_accuracy"
      ],
      "metadata": {
        "id": "hENVaAC7ilNY"
      },
      "execution_count": 118,
      "outputs": []
    },
    {
      "cell_type": "code",
      "source": [
        "x = np.random.random((1, 28, 28))\n",
        "a = model.predict(x)\n",
        "_ = plt.hist(np.transpose(a))"
      ],
      "metadata": {
        "id": "RFgZHNNFMa8p",
        "outputId": "9b54269a-9d1c-4ec9-babc-752fac566735",
        "colab": {
          "base_uri": "https://localhost:8080/",
          "height": 448
        }
      },
      "execution_count": 119,
      "outputs": [
        {
          "output_type": "stream",
          "name": "stdout",
          "text": [
            "1/1 [==============================] - 0s 116ms/step\n"
          ]
        },
        {
          "output_type": "display_data",
          "data": {
            "text/plain": [
              "<Figure size 640x480 with 1 Axes>"
            ],
            "image/png": "[encoded data removed]"
          },
          "metadata": {}
        }
      ]
    },
    {
      "cell_type": "code",
      "source": [
        "y_pred = model.predict(x_test)"
      ],
      "metadata": {
        "id": "UDP8OKKZ8oQa",
        "outputId": "869ebd5b-f059-45a0-cb9e-8b5137ca72e3",
        "colab": {
          "base_uri": "https://localhost:8080/"
        }
      },
      "execution_count": 120,
      "outputs": [
        {
          "output_type": "stream",
          "name": "stdout",
          "text": [
            "313/313 [==============================] - 1s 2ms/step\n"
          ]
        }
      ]
    },
    {
      "cell_type": "code",
      "source": [
        "callback = callbacks.EarlyStopping(monitor='val_loss',\n",
        "                                   patience=35,\n",
        "                                   restore_best_weights=True,\n",
        "                                   )"
      ],
      "metadata": {
        "id": "5ihU4exVlsjm"
      },
      "execution_count": 121,
      "outputs": []
    },
    {
      "cell_type": "code",
      "source": [
        "# model.fit(train_images, train_labels, epochs=20)\n",
        "history = model.fit(x_train, y_train,\n",
        "                    epochs=300,\n",
        "                    batch_size=128,\n",
        "                    callbacks=[callback],\n",
        "                    verbose=1, #многословие\n",
        "                    validation_data=(x_val, y_val))\n",
        "test_loss, test_acc = model.evaluate(x_test, y_test)\n",
        "print('\\nTest accuracy:', test_acc)"
      ],
      "metadata": {
        "id": "FH8HcMNm233I",
        "outputId": "749b7152-c6de-4aa9-90b6-709d05724939",
        "colab": {
          "base_uri": "https://localhost:8080/"
        }
      },
      "execution_count": 122,
      "outputs": [
        {
          "output_type": "stream",
          "name": "stdout",
          "text": [
            "Epoch 1/300\n",
            "391/391 [==============================] - 6s 9ms/step - loss: 0.8712 - accuracy: 0.7169 - val_loss: 0.5281 - val_accuracy: 0.8259\n",
            "Epoch 2/300\n",
            "391/391 [==============================] - 3s 7ms/step - loss: 0.6262 - accuracy: 0.7837 - val_loss: 0.4449 - val_accuracy: 0.8439\n",
            "Epoch 3/300\n",
            "391/391 [==============================] - 3s 7ms/step - loss: 0.5479 - accuracy: 0.8066 - val_loss: 0.4361 - val_accuracy: 0.8458\n",
            "Epoch 4/300\n",
            "391/391 [==============================] - 3s 7ms/step - loss: 0.4943 - accuracy: 0.8223 - val_loss: 0.3982 - val_accuracy: 0.8589\n",
            "Epoch 5/300\n",
            "391/391 [==============================] - 4s 9ms/step - loss: 0.4632 - accuracy: 0.8308 - val_loss: 0.3743 - val_accuracy: 0.8668\n",
            "Epoch 6/300\n",
            "391/391 [==============================] - 3s 7ms/step - loss: 0.4366 - accuracy: 0.8383 - val_loss: 0.3861 - val_accuracy: 0.8602\n",
            "Epoch 7/300\n",
            "391/391 [==============================] - 3s 7ms/step - loss: 0.4182 - accuracy: 0.8453 - val_loss: 0.3576 - val_accuracy: 0.8700\n",
            "Epoch 8/300\n",
            "391/391 [==============================] - 3s 7ms/step - loss: 0.4077 - accuracy: 0.8490 - val_loss: 0.3600 - val_accuracy: 0.8693\n",
            "Epoch 9/300\n",
            "391/391 [==============================] - 3s 9ms/step - loss: 0.3918 - accuracy: 0.8539 - val_loss: 0.3290 - val_accuracy: 0.8779\n",
            "Epoch 10/300\n",
            "391/391 [==============================] - 3s 8ms/step - loss: 0.3813 - accuracy: 0.8588 - val_loss: 0.3318 - val_accuracy: 0.8793\n",
            "Epoch 11/300\n",
            "391/391 [==============================] - 3s 7ms/step - loss: 0.3759 - accuracy: 0.8602 - val_loss: 0.3313 - val_accuracy: 0.8771\n",
            "Epoch 12/300\n",
            "391/391 [==============================] - 3s 7ms/step - loss: 0.3724 - accuracy: 0.8603 - val_loss: 0.3255 - val_accuracy: 0.8794\n",
            "Epoch 13/300\n",
            "391/391 [==============================] - 3s 8ms/step - loss: 0.3580 - accuracy: 0.8667 - val_loss: 0.3268 - val_accuracy: 0.8815\n",
            "Epoch 14/300\n",
            "391/391 [==============================] - 3s 9ms/step - loss: 0.3503 - accuracy: 0.8698 - val_loss: 0.3238 - val_accuracy: 0.8803\n",
            "Epoch 15/300\n",
            "391/391 [==============================] - 3s 7ms/step - loss: 0.3525 - accuracy: 0.8691 - val_loss: 0.3260 - val_accuracy: 0.8798\n",
            "Epoch 16/300\n",
            "391/391 [==============================] - 3s 7ms/step - loss: 0.3431 - accuracy: 0.8710 - val_loss: 0.3222 - val_accuracy: 0.8871\n",
            "Epoch 17/300\n",
            "391/391 [==============================] - 3s 7ms/step - loss: 0.3382 - accuracy: 0.8726 - val_loss: 0.3200 - val_accuracy: 0.8818\n",
            "Epoch 18/300\n",
            "391/391 [==============================] - 4s 9ms/step - loss: 0.3359 - accuracy: 0.8742 - val_loss: 0.3121 - val_accuracy: 0.8864\n",
            "Epoch 19/300\n",
            "391/391 [==============================] - 3s 7ms/step - loss: 0.3316 - accuracy: 0.8758 - val_loss: 0.3143 - val_accuracy: 0.8809\n",
            "Epoch 20/300\n",
            "391/391 [==============================] - 3s 7ms/step - loss: 0.3284 - accuracy: 0.8762 - val_loss: 0.3082 - val_accuracy: 0.8852\n",
            "Epoch 21/300\n",
            "391/391 [==============================] - 3s 7ms/step - loss: 0.3240 - accuracy: 0.8784 - val_loss: 0.3167 - val_accuracy: 0.8828\n",
            "Epoch 22/300\n",
            "391/391 [==============================] - 3s 9ms/step - loss: 0.3207 - accuracy: 0.8794 - val_loss: 0.3051 - val_accuracy: 0.8866\n",
            "Epoch 23/300\n",
            "391/391 [==============================] - 3s 8ms/step - loss: 0.3165 - accuracy: 0.8797 - val_loss: 0.3054 - val_accuracy: 0.8895\n",
            "Epoch 24/300\n",
            "391/391 [==============================] - 3s 7ms/step - loss: 0.3197 - accuracy: 0.8809 - val_loss: 0.2959 - val_accuracy: 0.8905\n",
            "Epoch 25/300\n",
            "391/391 [==============================] - 3s 7ms/step - loss: 0.3130 - accuracy: 0.8813 - val_loss: 0.2987 - val_accuracy: 0.8893\n",
            "Epoch 26/300\n",
            "391/391 [==============================] - 3s 8ms/step - loss: 0.3089 - accuracy: 0.8827 - val_loss: 0.3068 - val_accuracy: 0.8852\n",
            "Epoch 27/300\n",
            "391/391 [==============================] - 3s 9ms/step - loss: 0.3073 - accuracy: 0.8844 - val_loss: 0.2996 - val_accuracy: 0.8896\n",
            "Epoch 28/300\n",
            "391/391 [==============================] - 3s 8ms/step - loss: 0.3049 - accuracy: 0.8853 - val_loss: 0.3052 - val_accuracy: 0.8867\n",
            "Epoch 29/300\n",
            "391/391 [==============================] - 3s 7ms/step - loss: 0.3003 - accuracy: 0.8863 - val_loss: 0.2940 - val_accuracy: 0.8931\n",
            "Epoch 30/300\n",
            "391/391 [==============================] - 3s 7ms/step - loss: 0.3019 - accuracy: 0.8872 - val_loss: 0.2919 - val_accuracy: 0.8926\n",
            "Epoch 31/300\n",
            "391/391 [==============================] - 4s 9ms/step - loss: 0.2985 - accuracy: 0.8870 - val_loss: 0.2904 - val_accuracy: 0.8948\n",
            "Epoch 32/300\n",
            "391/391 [==============================] - 3s 7ms/step - loss: 0.2954 - accuracy: 0.8876 - val_loss: 0.2951 - val_accuracy: 0.8917\n",
            "Epoch 33/300\n",
            "391/391 [==============================] - 3s 7ms/step - loss: 0.2962 - accuracy: 0.8866 - val_loss: 0.2907 - val_accuracy: 0.8937\n",
            "Epoch 34/300\n",
            "391/391 [==============================] - 3s 8ms/step - loss: 0.2905 - accuracy: 0.8904 - val_loss: 0.2967 - val_accuracy: 0.8901\n",
            "Epoch 35/300\n",
            "391/391 [==============================] - 3s 9ms/step - loss: 0.2913 - accuracy: 0.8900 - val_loss: 0.2962 - val_accuracy: 0.8926\n",
            "Epoch 36/300\n",
            "391/391 [==============================] - 3s 8ms/step - loss: 0.2876 - accuracy: 0.8920 - val_loss: 0.2941 - val_accuracy: 0.8938\n",
            "Epoch 37/300\n",
            "391/391 [==============================] - 3s 7ms/step - loss: 0.2858 - accuracy: 0.8908 - val_loss: 0.3026 - val_accuracy: 0.8923\n",
            "Epoch 38/300\n",
            "391/391 [==============================] - 3s 7ms/step - loss: 0.2879 - accuracy: 0.8906 - val_loss: 0.3023 - val_accuracy: 0.8905\n",
            "Epoch 39/300\n",
            "391/391 [==============================] - 3s 8ms/step - loss: 0.2814 - accuracy: 0.8925 - val_loss: 0.2954 - val_accuracy: 0.8924\n",
            "Epoch 40/300\n",
            "391/391 [==============================] - 3s 9ms/step - loss: 0.2821 - accuracy: 0.8930 - val_loss: 0.2952 - val_accuracy: 0.8923\n",
            "Epoch 41/300\n",
            "391/391 [==============================] - 3s 7ms/step - loss: 0.2791 - accuracy: 0.8936 - val_loss: 0.2927 - val_accuracy: 0.8896\n",
            "Epoch 42/300\n",
            "391/391 [==============================] - 3s 7ms/step - loss: 0.2798 - accuracy: 0.8931 - val_loss: 0.2832 - val_accuracy: 0.8952\n",
            "Epoch 43/300\n",
            "391/391 [==============================] - 3s 7ms/step - loss: 0.2768 - accuracy: 0.8950 - val_loss: 0.2846 - val_accuracy: 0.8936\n",
            "Epoch 44/300\n",
            "391/391 [==============================] - 4s 9ms/step - loss: 0.2771 - accuracy: 0.8944 - val_loss: 0.2800 - val_accuracy: 0.8947\n",
            "Epoch 45/300\n",
            "391/391 [==============================] - 3s 7ms/step - loss: 0.2755 - accuracy: 0.8963 - val_loss: 0.2884 - val_accuracy: 0.8932\n",
            "Epoch 46/300\n",
            "391/391 [==============================] - 3s 8ms/step - loss: 0.2740 - accuracy: 0.8953 - val_loss: 0.2917 - val_accuracy: 0.8949\n",
            "Epoch 47/300\n",
            "391/391 [==============================] - 3s 8ms/step - loss: 0.2718 - accuracy: 0.8971 - val_loss: 0.2967 - val_accuracy: 0.8912\n",
            "Epoch 48/300\n",
            "391/391 [==============================] - 4s 10ms/step - loss: 0.2742 - accuracy: 0.8941 - val_loss: 0.2864 - val_accuracy: 0.8948\n",
            "Epoch 49/300\n",
            "391/391 [==============================] - 3s 8ms/step - loss: 0.2661 - accuracy: 0.8991 - val_loss: 0.3066 - val_accuracy: 0.8873\n",
            "Epoch 50/300\n",
            "391/391 [==============================] - 3s 7ms/step - loss: 0.2696 - accuracy: 0.8969 - val_loss: 0.2849 - val_accuracy: 0.8977\n",
            "Epoch 51/300\n",
            "391/391 [==============================] - 3s 7ms/step - loss: 0.2634 - accuracy: 0.8994 - val_loss: 0.2837 - val_accuracy: 0.8956\n",
            "Epoch 52/300\n",
            "391/391 [==============================] - 3s 9ms/step - loss: 0.2641 - accuracy: 0.9004 - val_loss: 0.2852 - val_accuracy: 0.8959\n",
            "Epoch 53/300\n",
            "391/391 [==============================] - 3s 8ms/step - loss: 0.2636 - accuracy: 0.8993 - val_loss: 0.2829 - val_accuracy: 0.8948\n",
            "Epoch 54/300\n",
            "391/391 [==============================] - 3s 7ms/step - loss: 0.2642 - accuracy: 0.8981 - val_loss: 0.2820 - val_accuracy: 0.8960\n",
            "Epoch 55/300\n",
            "391/391 [==============================] - 3s 7ms/step - loss: 0.2615 - accuracy: 0.9008 - val_loss: 0.2896 - val_accuracy: 0.8944\n",
            "Epoch 56/300\n",
            "391/391 [==============================] - 3s 8ms/step - loss: 0.2624 - accuracy: 0.9008 - val_loss: 0.2746 - val_accuracy: 0.8975\n",
            "Epoch 57/300\n",
            "391/391 [==============================] - 4s 9ms/step - loss: 0.2572 - accuracy: 0.9027 - val_loss: 0.2909 - val_accuracy: 0.8953\n",
            "Epoch 58/300\n",
            "391/391 [==============================] - 3s 7ms/step - loss: 0.2585 - accuracy: 0.9020 - val_loss: 0.2813 - val_accuracy: 0.8986\n",
            "Epoch 59/300\n",
            "391/391 [==============================] - 3s 7ms/step - loss: 0.2584 - accuracy: 0.9018 - val_loss: 0.2813 - val_accuracy: 0.8969\n",
            "Epoch 60/300\n",
            "391/391 [==============================] - 3s 8ms/step - loss: 0.2572 - accuracy: 0.9013 - val_loss: 0.2852 - val_accuracy: 0.8938\n",
            "Epoch 61/300\n",
            "391/391 [==============================] - 4s 9ms/step - loss: 0.2577 - accuracy: 0.9016 - val_loss: 0.2876 - val_accuracy: 0.8974\n",
            "Epoch 62/300\n",
            "391/391 [==============================] - 3s 7ms/step - loss: 0.2543 - accuracy: 0.9030 - val_loss: 0.2802 - val_accuracy: 0.8999\n",
            "Epoch 63/300\n",
            "391/391 [==============================] - 3s 7ms/step - loss: 0.2535 - accuracy: 0.9035 - val_loss: 0.2876 - val_accuracy: 0.8949\n",
            "Epoch 64/300\n",
            "391/391 [==============================] - 3s 7ms/step - loss: 0.2538 - accuracy: 0.9041 - val_loss: 0.2802 - val_accuracy: 0.8970\n",
            "Epoch 65/300\n",
            "391/391 [==============================] - 3s 9ms/step - loss: 0.2532 - accuracy: 0.9032 - val_loss: 0.2756 - val_accuracy: 0.8978\n",
            "Epoch 66/300\n",
            "391/391 [==============================] - 3s 8ms/step - loss: 0.2534 - accuracy: 0.9027 - val_loss: 0.2818 - val_accuracy: 0.8977\n",
            "Epoch 67/300\n",
            "391/391 [==============================] - 3s 7ms/step - loss: 0.2517 - accuracy: 0.9020 - val_loss: 0.2815 - val_accuracy: 0.8975\n",
            "Epoch 68/300\n",
            "391/391 [==============================] - 3s 7ms/step - loss: 0.2496 - accuracy: 0.9047 - val_loss: 0.2823 - val_accuracy: 0.8992\n",
            "Epoch 69/300\n",
            "391/391 [==============================] - 3s 8ms/step - loss: 0.2455 - accuracy: 0.9053 - val_loss: 0.2806 - val_accuracy: 0.8958\n",
            "Epoch 70/300\n",
            "391/391 [==============================] - 3s 9ms/step - loss: 0.2482 - accuracy: 0.9050 - val_loss: 0.2915 - val_accuracy: 0.8940\n",
            "Epoch 71/300\n",
            "391/391 [==============================] - 3s 7ms/step - loss: 0.2453 - accuracy: 0.9052 - val_loss: 0.2815 - val_accuracy: 0.8970\n",
            "Epoch 72/300\n",
            "391/391 [==============================] - 3s 7ms/step - loss: 0.2457 - accuracy: 0.9065 - val_loss: 0.2997 - val_accuracy: 0.8915\n",
            "Epoch 73/300\n",
            "391/391 [==============================] - 3s 7ms/step - loss: 0.2429 - accuracy: 0.9075 - val_loss: 0.2802 - val_accuracy: 0.8993\n",
            "Epoch 74/300\n",
            "391/391 [==============================] - 4s 10ms/step - loss: 0.2445 - accuracy: 0.9072 - val_loss: 0.2778 - val_accuracy: 0.8972\n",
            "Epoch 75/300\n",
            "391/391 [==============================] - 3s 7ms/step - loss: 0.2384 - accuracy: 0.9087 - val_loss: 0.2875 - val_accuracy: 0.8954\n",
            "Epoch 76/300\n",
            "391/391 [==============================] - 3s 7ms/step - loss: 0.2398 - accuracy: 0.9085 - val_loss: 0.2840 - val_accuracy: 0.8946\n",
            "Epoch 77/300\n",
            "391/391 [==============================] - 3s 7ms/step - loss: 0.2431 - accuracy: 0.9065 - val_loss: 0.2882 - val_accuracy: 0.8966\n",
            "Epoch 78/300\n",
            "391/391 [==============================] - 4s 9ms/step - loss: 0.2417 - accuracy: 0.9084 - val_loss: 0.2757 - val_accuracy: 0.8999\n",
            "Epoch 79/300\n",
            "391/391 [==============================] - 3s 7ms/step - loss: 0.2368 - accuracy: 0.9092 - val_loss: 0.2794 - val_accuracy: 0.8995\n",
            "Epoch 80/300\n",
            "391/391 [==============================] - 3s 7ms/step - loss: 0.2425 - accuracy: 0.9085 - val_loss: 0.2752 - val_accuracy: 0.8983\n",
            "Epoch 81/300\n",
            "391/391 [==============================] - 3s 7ms/step - loss: 0.2381 - accuracy: 0.9084 - val_loss: 0.2846 - val_accuracy: 0.8981\n",
            "Epoch 82/300\n",
            "391/391 [==============================] - 3s 8ms/step - loss: 0.2364 - accuracy: 0.9087 - val_loss: 0.2932 - val_accuracy: 0.8927\n",
            "Epoch 83/300\n",
            "391/391 [==============================] - 3s 9ms/step - loss: 0.2351 - accuracy: 0.9093 - val_loss: 0.2730 - val_accuracy: 0.9003\n",
            "Epoch 84/300\n",
            "391/391 [==============================] - 3s 7ms/step - loss: 0.2363 - accuracy: 0.9095 - val_loss: 0.2739 - val_accuracy: 0.9003\n",
            "Epoch 85/300\n",
            "391/391 [==============================] - 3s 7ms/step - loss: 0.2329 - accuracy: 0.9107 - val_loss: 0.2714 - val_accuracy: 0.9014\n",
            "Epoch 86/300\n",
            "391/391 [==============================] - 3s 8ms/step - loss: 0.2339 - accuracy: 0.9105 - val_loss: 0.2824 - val_accuracy: 0.8953\n",
            "Epoch 87/300\n",
            "391/391 [==============================] - 4s 9ms/step - loss: 0.2321 - accuracy: 0.9104 - val_loss: 0.2799 - val_accuracy: 0.8990\n",
            "Epoch 88/300\n",
            "391/391 [==============================] - 3s 7ms/step - loss: 0.2386 - accuracy: 0.9085 - val_loss: 0.2735 - val_accuracy: 0.9019\n",
            "Epoch 89/300\n",
            "391/391 [==============================] - 3s 8ms/step - loss: 0.2343 - accuracy: 0.9098 - val_loss: 0.2804 - val_accuracy: 0.8983\n",
            "Epoch 90/300\n",
            "391/391 [==============================] - 3s 7ms/step - loss: 0.2314 - accuracy: 0.9108 - val_loss: 0.2841 - val_accuracy: 0.8999\n",
            "Epoch 91/300\n",
            "391/391 [==============================] - 4s 9ms/step - loss: 0.2343 - accuracy: 0.9106 - val_loss: 0.2778 - val_accuracy: 0.8988\n",
            "Epoch 92/300\n",
            "391/391 [==============================] - 3s 7ms/step - loss: 0.2322 - accuracy: 0.9113 - val_loss: 0.2840 - val_accuracy: 0.8994\n",
            "Epoch 93/300\n",
            "391/391 [==============================] - 3s 7ms/step - loss: 0.2297 - accuracy: 0.9110 - val_loss: 0.2809 - val_accuracy: 0.9002\n",
            "Epoch 94/300\n",
            "391/391 [==============================] - 3s 7ms/step - loss: 0.2321 - accuracy: 0.9107 - val_loss: 0.2782 - val_accuracy: 0.8991\n",
            "Epoch 95/300\n",
            "391/391 [==============================] - 4s 9ms/step - loss: 0.2279 - accuracy: 0.9131 - val_loss: 0.2737 - val_accuracy: 0.9023\n",
            "Epoch 96/300\n",
            "391/391 [==============================] - 3s 8ms/step - loss: 0.2296 - accuracy: 0.9116 - val_loss: 0.2787 - val_accuracy: 0.8992\n",
            "Epoch 97/300\n",
            "391/391 [==============================] - 3s 7ms/step - loss: 0.2252 - accuracy: 0.9137 - val_loss: 0.2875 - val_accuracy: 0.8984\n",
            "Epoch 98/300\n",
            "391/391 [==============================] - 3s 8ms/step - loss: 0.2259 - accuracy: 0.9127 - val_loss: 0.2817 - val_accuracy: 0.8998\n",
            "Epoch 99/300\n",
            "391/391 [==============================] - 3s 8ms/step - loss: 0.2241 - accuracy: 0.9138 - val_loss: 0.2856 - val_accuracy: 0.9007\n",
            "Epoch 100/300\n",
            "391/391 [==============================] - 3s 8ms/step - loss: 0.2270 - accuracy: 0.9141 - val_loss: 0.2899 - val_accuracy: 0.9000\n",
            "Epoch 101/300\n",
            "391/391 [==============================] - 3s 8ms/step - loss: 0.2270 - accuracy: 0.9129 - val_loss: 0.2809 - val_accuracy: 0.8984\n",
            "Epoch 102/300\n",
            "391/391 [==============================] - 3s 8ms/step - loss: 0.2238 - accuracy: 0.9144 - val_loss: 0.2800 - val_accuracy: 0.9008\n",
            "Epoch 103/300\n",
            "391/391 [==============================] - 3s 8ms/step - loss: 0.2214 - accuracy: 0.9147 - val_loss: 0.2774 - val_accuracy: 0.9019\n",
            "Epoch 104/300\n",
            "391/391 [==============================] - 4s 10ms/step - loss: 0.2224 - accuracy: 0.9148 - val_loss: 0.2800 - val_accuracy: 0.8998\n",
            "Epoch 105/300\n",
            "391/391 [==============================] - 3s 8ms/step - loss: 0.2219 - accuracy: 0.9157 - val_loss: 0.2757 - val_accuracy: 0.9014\n",
            "Epoch 106/300\n",
            "391/391 [==============================] - 3s 7ms/step - loss: 0.2220 - accuracy: 0.9152 - val_loss: 0.2767 - val_accuracy: 0.9004\n",
            "Epoch 107/300\n",
            "391/391 [==============================] - 3s 7ms/step - loss: 0.2221 - accuracy: 0.9154 - val_loss: 0.2743 - val_accuracy: 0.9008\n",
            "Epoch 108/300\n",
            "391/391 [==============================] - 4s 10ms/step - loss: 0.2210 - accuracy: 0.9151 - val_loss: 0.2745 - val_accuracy: 0.9027\n",
            "Epoch 109/300\n",
            "391/391 [==============================] - 3s 7ms/step - loss: 0.2213 - accuracy: 0.9153 - val_loss: 0.2784 - val_accuracy: 0.9027\n",
            "Epoch 110/300\n",
            "391/391 [==============================] - 3s 7ms/step - loss: 0.2219 - accuracy: 0.9150 - val_loss: 0.2765 - val_accuracy: 0.9020\n",
            "Epoch 111/300\n",
            "391/391 [==============================] - 3s 8ms/step - loss: 0.2226 - accuracy: 0.9149 - val_loss: 0.2794 - val_accuracy: 0.9004\n",
            "Epoch 112/300\n",
            "391/391 [==============================] - 4s 9ms/step - loss: 0.2199 - accuracy: 0.9143 - val_loss: 0.2792 - val_accuracy: 0.9028\n",
            "Epoch 113/300\n",
            "391/391 [==============================] - 3s 8ms/step - loss: 0.2175 - accuracy: 0.9160 - val_loss: 0.2798 - val_accuracy: 0.9036\n",
            "Epoch 114/300\n",
            "391/391 [==============================] - 3s 7ms/step - loss: 0.2205 - accuracy: 0.9147 - val_loss: 0.2782 - val_accuracy: 0.9019\n",
            "Epoch 115/300\n",
            "391/391 [==============================] - 3s 7ms/step - loss: 0.2164 - accuracy: 0.9168 - val_loss: 0.2754 - val_accuracy: 0.9008\n",
            "Epoch 116/300\n",
            "391/391 [==============================] - 3s 8ms/step - loss: 0.2191 - accuracy: 0.9160 - val_loss: 0.2686 - val_accuracy: 0.9039\n",
            "Epoch 117/300\n",
            "391/391 [==============================] - 3s 9ms/step - loss: 0.2173 - accuracy: 0.9174 - val_loss: 0.2712 - val_accuracy: 0.9007\n",
            "Epoch 118/300\n",
            "391/391 [==============================] - 3s 8ms/step - loss: 0.2155 - accuracy: 0.9162 - val_loss: 0.2833 - val_accuracy: 0.8991\n",
            "Epoch 119/300\n",
            "391/391 [==============================] - 3s 8ms/step - loss: 0.2179 - accuracy: 0.9169 - val_loss: 0.2758 - val_accuracy: 0.9030\n",
            "Epoch 120/300\n",
            "391/391 [==============================] - 3s 7ms/step - loss: 0.2139 - accuracy: 0.9172 - val_loss: 0.2723 - val_accuracy: 0.9020\n",
            "Epoch 121/300\n",
            "391/391 [==============================] - 4s 9ms/step - loss: 0.2151 - accuracy: 0.9166 - val_loss: 0.2821 - val_accuracy: 0.9035\n",
            "Epoch 122/300\n",
            "391/391 [==============================] - 3s 8ms/step - loss: 0.2133 - accuracy: 0.9178 - val_loss: 0.2802 - val_accuracy: 0.9031\n",
            "Epoch 123/300\n",
            "391/391 [==============================] - 3s 7ms/step - loss: 0.2150 - accuracy: 0.9181 - val_loss: 0.2710 - val_accuracy: 0.9014\n",
            "Epoch 124/300\n",
            "391/391 [==============================] - 3s 8ms/step - loss: 0.2139 - accuracy: 0.9187 - val_loss: 0.2795 - val_accuracy: 0.8994\n",
            "Epoch 125/300\n",
            "391/391 [==============================] - 4s 10ms/step - loss: 0.2122 - accuracy: 0.9190 - val_loss: 0.2827 - val_accuracy: 0.9006\n",
            "Epoch 126/300\n",
            "391/391 [==============================] - 3s 8ms/step - loss: 0.2126 - accuracy: 0.9200 - val_loss: 0.2765 - val_accuracy: 0.9030\n",
            "Epoch 127/300\n",
            "391/391 [==============================] - 3s 7ms/step - loss: 0.2112 - accuracy: 0.9184 - val_loss: 0.2769 - val_accuracy: 0.9040\n",
            "Epoch 128/300\n",
            "391/391 [==============================] - 3s 7ms/step - loss: 0.2136 - accuracy: 0.9177 - val_loss: 0.2772 - val_accuracy: 0.9026\n",
            "Epoch 129/300\n",
            "391/391 [==============================] - 3s 9ms/step - loss: 0.2113 - accuracy: 0.9189 - val_loss: 0.2818 - val_accuracy: 0.9003\n",
            "Epoch 130/300\n",
            "391/391 [==============================] - 3s 8ms/step - loss: 0.2118 - accuracy: 0.9175 - val_loss: 0.2773 - val_accuracy: 0.9038\n",
            "Epoch 131/300\n",
            "391/391 [==============================] - 3s 8ms/step - loss: 0.2112 - accuracy: 0.9193 - val_loss: 0.2782 - val_accuracy: 0.9017\n",
            "Epoch 132/300\n",
            "391/391 [==============================] - 3s 7ms/step - loss: 0.2069 - accuracy: 0.9203 - val_loss: 0.2833 - val_accuracy: 0.9029\n",
            "Epoch 133/300\n",
            "391/391 [==============================] - 3s 8ms/step - loss: 0.2121 - accuracy: 0.9190 - val_loss: 0.2804 - val_accuracy: 0.9010\n",
            "Epoch 134/300\n",
            "391/391 [==============================] - 3s 9ms/step - loss: 0.2088 - accuracy: 0.9189 - val_loss: 0.2789 - val_accuracy: 0.9007\n",
            "Epoch 135/300\n",
            "391/391 [==============================] - 3s 7ms/step - loss: 0.2075 - accuracy: 0.9211 - val_loss: 0.2774 - val_accuracy: 0.9018\n",
            "Epoch 136/300\n",
            "391/391 [==============================] - 3s 8ms/step - loss: 0.2048 - accuracy: 0.9207 - val_loss: 0.2737 - val_accuracy: 0.9029\n",
            "Epoch 137/300\n",
            "391/391 [==============================] - 3s 8ms/step - loss: 0.2061 - accuracy: 0.9218 - val_loss: 0.2770 - val_accuracy: 0.9022\n",
            "Epoch 138/300\n",
            "391/391 [==============================] - 4s 9ms/step - loss: 0.2061 - accuracy: 0.9209 - val_loss: 0.2763 - val_accuracy: 0.9024\n",
            "Epoch 139/300\n",
            "391/391 [==============================] - 3s 8ms/step - loss: 0.2093 - accuracy: 0.9186 - val_loss: 0.2812 - val_accuracy: 0.9001\n",
            "Epoch 140/300\n",
            "391/391 [==============================] - 3s 7ms/step - loss: 0.2072 - accuracy: 0.9189 - val_loss: 0.2848 - val_accuracy: 0.9001\n",
            "Epoch 141/300\n",
            "391/391 [==============================] - 3s 7ms/step - loss: 0.2048 - accuracy: 0.9209 - val_loss: 0.2701 - val_accuracy: 0.9042\n",
            "Epoch 142/300\n",
            "391/391 [==============================] - 4s 10ms/step - loss: 0.2042 - accuracy: 0.9205 - val_loss: 0.2799 - val_accuracy: 0.9019\n",
            "Epoch 143/300\n",
            "391/391 [==============================] - 3s 8ms/step - loss: 0.2039 - accuracy: 0.9219 - val_loss: 0.2763 - val_accuracy: 0.9031\n",
            "Epoch 144/300\n",
            "391/391 [==============================] - 3s 8ms/step - loss: 0.2048 - accuracy: 0.9202 - val_loss: 0.2802 - val_accuracy: 0.9015\n",
            "Epoch 145/300\n",
            "391/391 [==============================] - 3s 7ms/step - loss: 0.2019 - accuracy: 0.9229 - val_loss: 0.2810 - val_accuracy: 0.9036\n",
            "Epoch 146/300\n",
            "391/391 [==============================] - 3s 9ms/step - loss: 0.2029 - accuracy: 0.9217 - val_loss: 0.2771 - val_accuracy: 0.9046\n",
            "Epoch 147/300\n",
            "391/391 [==============================] - 3s 8ms/step - loss: 0.2040 - accuracy: 0.9224 - val_loss: 0.2779 - val_accuracy: 0.9025\n",
            "Epoch 148/300\n",
            "391/391 [==============================] - 3s 7ms/step - loss: 0.2039 - accuracy: 0.9213 - val_loss: 0.2790 - val_accuracy: 0.9029\n",
            "Epoch 149/300\n",
            "391/391 [==============================] - 3s 7ms/step - loss: 0.2011 - accuracy: 0.9224 - val_loss: 0.2817 - val_accuracy: 0.9030\n",
            "Epoch 150/300\n",
            "391/391 [==============================] - 3s 8ms/step - loss: 0.2022 - accuracy: 0.9223 - val_loss: 0.2736 - val_accuracy: 0.9036\n",
            "Epoch 151/300\n",
            "391/391 [==============================] - 3s 9ms/step - loss: 0.2032 - accuracy: 0.9216 - val_loss: 0.2815 - val_accuracy: 0.9037\n",
            "313/313 [==============================] - 1s 3ms/step - loss: 0.2964 - accuracy: 0.8972\n",
            "\n",
            "Test accuracy: 0.8971999883651733\n"
          ]
        }
      ]
    },
    {
      "cell_type": "code",
      "source": [
        "print('\\nhistory dict:', list(history.history.keys()))"
      ],
      "metadata": {
        "id": "CxRE-B_Q6Sii",
        "outputId": "54db0203-f610-4861-b885-9933d907cf65",
        "colab": {
          "base_uri": "https://localhost:8080/"
        }
      },
      "execution_count": 123,
      "outputs": [
        {
          "output_type": "stream",
          "name": "stdout",
          "text": [
            "\n",
            "history dict: ['loss', 'accuracy', 'val_loss', 'val_accuracy']\n"
          ]
        }
      ]
    },
    {
      "cell_type": "code",
      "source": [
        "result = model.evaluate(x_test, y_test)\n",
        "print(result)"
      ],
      "metadata": {
        "id": "YXpwRRTvTBNg",
        "outputId": "0e1e072c-4664-4c0d-8d47-a534f9636b1b",
        "colab": {
          "base_uri": "https://localhost:8080/"
        }
      },
      "execution_count": 124,
      "outputs": [
        {
          "output_type": "stream",
          "name": "stdout",
          "text": [
            "313/313 [==============================] - 1s 3ms/step - loss: 0.2964 - accuracy: 0.8972\n",
            "[0.2964159846305847, 0.8971999883651733]\n"
          ]
        }
      ]
    },
    {
      "cell_type": "code",
      "source": [
        "history_dict = history.history\n",
        "loss_values = history_dict['loss']\n",
        "val_loss_values = history_dict['val_loss']\n",
        "\n",
        "epochs = range(1, len(history_dict['loss']) + 1)\n",
        "\n",
        "plt.figure(figsize=(10, 5))\n",
        "plt.plot(epochs, loss_values, 'bo', label='Training loss')\n",
        "plt.plot(epochs, val_loss_values, 'b', label='Validation loss')\n",
        "plt.title('Training and validation loss')\n",
        "plt.xlabel('Epochs')\n",
        "plt.ylabel('Loss')\n",
        "plt.legend()\n",
        "plt.grid(True)\n",
        "plt.show()\n",
        "\n",
        "plt.clf()\n",
        "plt.figure(figsize=(10, 5))\n",
        "val_acc_values = history_dict['accuracy']\n",
        "plt.plot(epochs, history_dict['accuracy'], 'bo', label='Training acc')\n",
        "plt.plot(epochs, history_dict['val_accuracy'], 'b', label='Validation acc')\n",
        "plt.title('Training and validation accuracy')\n",
        "plt.xlabel('Epochs')\n",
        "plt.ylabel('Accuracy')\n",
        "plt.legend()\n",
        "plt.grid(True)"
      ],
      "metadata": {
        "id": "2Ll_5sGlXKMH",
        "outputId": "5ea22212-e47c-435c-ad85-49325e371430",
        "colab": {
          "base_uri": "https://localhost:8080/",
          "height": 975
        }
      },
      "execution_count": 125,
      "outputs": [
        {
          "output_type": "display_data",
          "data": {
            "text/plain": [
              "<Figure size 1000x500 with 1 Axes>"
            ],
            "image/png": "[encoded data removed]"
          },
          "metadata": {}
        },
        {
          "output_type": "display_data",
          "data": {
            "text/plain": [
              "<Figure size 640x480 with 0 Axes>"
            ]
          },
          "metadata": {}
        },
        {
          "output_type": "display_data",
          "data": {
            "text/plain": [
              "<Figure size 1000x500 with 1 Axes>"
            ],
            "image/png": "[encoded data removed]"
          },
          "metadata": {}
        }
      ]
    },
    {
      "cell_type": "code",
      "source": [
        "probability_model = tf.keras.Sequential([model,\n",
        "                                         tf.keras.layers.Softmax()])"
      ],
      "metadata": {
        "id": "VzOdKAT_uV-f"
      },
      "execution_count": 126,
      "outputs": []
    },
    {
      "cell_type": "code",
      "source": [
        "predictions = probability_model.predict(x_test)"
      ],
      "metadata": {
        "id": "f4is3NFruYom",
        "outputId": "b1d74439-b732-44cd-ba86-970a06eea580",
        "colab": {
          "base_uri": "https://localhost:8080/"
        }
      },
      "execution_count": 127,
      "outputs": [
        {
          "output_type": "stream",
          "name": "stdout",
          "text": [
            "313/313 [==============================] - 1s 2ms/step\n"
          ]
        }
      ]
    },
    {
      "cell_type": "code",
      "source": [
        "predictions[0]"
      ],
      "metadata": {
        "id": "82cigvlZudz_",
        "outputId": "617a628d-c6c7-457e-811a-1145eb7def08",
        "colab": {
          "base_uri": "https://localhost:8080/"
        }
      },
      "execution_count": 128,
      "outputs": [
        {
          "output_type": "execute_result",
          "data": {
            "text/plain": [
              "array([0.08535603, 0.08535606, 0.08535603, 0.08535603, 0.08535603,\n",
              "       0.08536215, 0.08535603, 0.08548176, 0.08535603, 0.23166384],\n",
              "      dtype=float32)"
            ]
          },
          "metadata": {},
          "execution_count": 128
        }
      ]
    },
    {
      "cell_type": "code",
      "source": [
        "model.summary()"
      ],
      "metadata": {
        "id": "6RsQPHyYuNGe",
        "outputId": "1ca47f17-2a1b-4ac6-8f3f-7147a1190455",
        "colab": {
          "base_uri": "https://localhost:8080/"
        }
      },
      "execution_count": 129,
      "outputs": [
        {
          "output_type": "stream",
          "name": "stdout",
          "text": [
            "Model: \"sequential_12\"\n",
            "_________________________________________________________________\n",
            " Layer (type)                Output Shape              Param #   \n",
            "=================================================================\n",
            " flatten_6 (Flatten)         (None, 784)               0         \n",
            "                                                                 \n",
            " dropout_24 (Dropout)        (None, 784)               0         \n",
            "                                                                 \n",
            " dense_30 (Dense)            (None, 128)               100480    \n",
            "                                                                 \n",
            " batch_normalization_24 (Ba  (None, 128)               512       \n",
            " tchNormalization)                                               \n",
            "                                                                 \n",
            " dense_31 (Dense)            (None, 256)               33024     \n",
            "                                                                 \n",
            " batch_normalization_25 (Ba  (None, 256)               1024      \n",
            " tchNormalization)                                               \n",
            "                                                                 \n",
            " dropout_25 (Dropout)        (None, 256)               0         \n",
            "                                                                 \n",
            " dense_32 (Dense)            (None, 512)               131584    \n",
            "                                                                 \n",
            " batch_normalization_26 (Ba  (None, 512)               2048      \n",
            " tchNormalization)                                               \n",
            "                                                                 \n",
            " dropout_26 (Dropout)        (None, 512)               0         \n",
            "                                                                 \n",
            " dense_33 (Dense)            (None, 1024)              525312    \n",
            "                                                                 \n",
            " batch_normalization_27 (Ba  (None, 1024)              4096      \n",
            " tchNormalization)                                               \n",
            "                                                                 \n",
            " dropout_27 (Dropout)        (None, 1024)              0         \n",
            "                                                                 \n",
            " dense_34 (Dense)            (None, 10)                10250     \n",
            "                                                                 \n",
            "=================================================================\n",
            "Total params: 808330 (3.08 MB)\n",
            "Trainable params: 804490 (3.07 MB)\n",
            "Non-trainable params: 3840 (15.00 KB)\n",
            "_________________________________________________________________\n"
          ]
        }
      ]
    }
  ]
}