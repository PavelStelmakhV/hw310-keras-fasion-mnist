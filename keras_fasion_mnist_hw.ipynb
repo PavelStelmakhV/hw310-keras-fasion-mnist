{
  "nbformat": 4,
  "nbformat_minor": 0,
  "metadata": {
    "colab": {
      "provenance": [],
      "gpuType": "T4",
      "authorship_tag": "ABX9TyM4L77O5C4zKNhY2NJihBAO",
      "include_colab_link": true
    },
    "kernelspec": {
      "name": "python3",
      "display_name": "Python 3"
    },
    "language_info": {
      "name": "python"
    },
    "accelerator": "GPU"
  },
  "cells": [
    {
      "cell_type": "markdown",
      "metadata": {
        "id": "view-in-github",
        "colab_type": "text"
      },
      "source": [
        "<a href=\"https://colab.research.google.com/github/PavelStelmakhV/hw310-keras-fasion-mnist/blob/main/keras_fasion_mnist_hw.ipynb\" target=\"_parent\"><img src=\"https://colab.research.google.com/assets/colab-badge.svg\" alt=\"Open In Colab\"/></a>"
      ]
    },
    {
      "cell_type": "code",
      "execution_count": 76,
      "metadata": {
        "id": "vv7w0bgAVQPO"
      },
      "outputs": [],
      "source": [
        "import tensorflow as tf\n",
        "import numpy as np\n",
        "import matplotlib.pyplot as plt\n",
        "import tf_keras\n",
        "\n",
        "from keras import layers\n",
        "from keras import regularizers\n",
        "from keras import callbacks\n",
        "from keras import initializers\n",
        "from keras.layers import BatchNormalization\n",
        "from keras.models import load_model"
      ]
    },
    {
      "cell_type": "code",
      "source": [
        "fashion_mnist = tf.keras.datasets.fashion_mnist\n",
        "\n",
        "(x_train, y_train), (x_test, y_test) = fashion_mnist.load_data()"
      ],
      "metadata": {
        "id": "mOpywsNAzfGB"
      },
      "execution_count": 77,
      "outputs": []
    },
    {
      "cell_type": "code",
      "source": [
        "x_train = x_train.astype('float32') / 255\n",
        "x_test = x_test.astype('float32') / 255\n",
        "\n",
        "y_train = y_train.astype('float32')\n",
        "y_test = y_test.astype('float32')"
      ],
      "metadata": {
        "id": "t2gucjsJ0KUi"
      },
      "execution_count": 78,
      "outputs": []
    },
    {
      "cell_type": "code",
      "source": [
        "w_init_tanh = initializers.glorot_normal(seed=66)\n",
        "w_init_relu = initializers.HeNormal(seed=66)\n",
        "b_init = initializers.Zeros()"
      ],
      "metadata": {
        "id": "yL9QTEtBGy4N"
      },
      "execution_count": 79,
      "outputs": []
    },
    {
      "cell_type": "code",
      "source": [
        "drop_out = 0.4"
      ],
      "metadata": {
        "id": "flsDcVTnU10J"
      },
      "execution_count": 80,
      "outputs": []
    },
    {
      "cell_type": "code",
      "source": [
        "def layer_relu(model, neurons):\n",
        "  model.add(BatchNormalization())\n",
        "  model.add(layers.Dense(neurons,\n",
        "                       activation='relu',\n",
        "                       kernel_initializer=w_init_relu,\n",
        "                       bias_initializer=b_init))\n",
        "  model.add(layers.Dropout(drop_out))\n",
        "  return model"
      ],
      "metadata": {
        "id": "ZZgs_25rKBCp"
      },
      "execution_count": 81,
      "outputs": []
    },
    {
      "cell_type": "code",
      "source": [
        "def layer_tanh(model, neurons):\n",
        "  model.add(BatchNormalization())\n",
        "  model.add(layers.Dense(neurons,\n",
        "                        activation='tanh',\n",
        "                        kernel_initializer=w_init_tanh,\n",
        "                        bias_initializer=b_init))\n",
        "  model.add(layers.Dropout(drop_out))\n",
        "  return model"
      ],
      "metadata": {
        "id": "90JLLnkBR50t"
      },
      "execution_count": 82,
      "outputs": []
    },
    {
      "cell_type": "code",
      "source": [],
      "metadata": {
        "id": "Va9BaQ9eG_uz"
      },
      "execution_count": 82,
      "outputs": []
    },
    {
      "cell_type": "code",
      "source": [
        "model = tf.keras.Sequential()\n",
        "\n",
        "# drop_out = 0.50\n",
        "neurons = 256\n",
        "\n",
        "model.add(layers.Flatten(input_shape=(28, 28)))\n",
        "model.add(layers.Dropout(drop_out))\n",
        "\n",
        "model = layer_relu(model, neurons*1)\n",
        "# model = layer_tanh(model, neurons*1)\n",
        "model = layer_tanh(model, neurons*2)\n",
        "model = layer_relu(model, neurons*2)\n",
        "\n",
        "model.add(layers.Dense(10, activation='softmax'))"
      ],
      "metadata": {
        "id": "atS39i4d0aqW"
      },
      "execution_count": 83,
      "outputs": []
    },
    {
      "cell_type": "markdown",
      "source": [
        "++++++++++++++++++++++++++++++++++++++++++++++++++++++++++++++++++++++++++++++++"
      ],
      "metadata": {
        "id": "tZO7hl7pM63y"
      }
    },
    {
      "cell_type": "code",
      "source": [
        "optimizer = tf.keras.optimizers.Nadam(learning_rate=0.0005,\n",
        "                                      beta_1=0.92,\n",
        "                                      beta_2=0.999,\n",
        "                                      epsilon=1e-08\n",
        ")"
      ],
      "metadata": {
        "id": "EzfnaqIZlfy8"
      },
      "execution_count": 84,
      "outputs": []
    },
    {
      "cell_type": "markdown",
      "source": [
        "++++++++++++++++++++++++++++++++++++++++++++++++++++++++++++++++++++++++++++++++"
      ],
      "metadata": {
        "id": "KHmBptvOM95Z"
      }
    },
    {
      "cell_type": "code",
      "source": [
        "model.compile(#optimizer='adam',\n",
        "              # optimizer='adamax',\n",
        "              optimizer=optimizer,\n",
        "              # optimizer='rmsprop',\n",
        "              # optimizer='sgd',\n",
        "              # optimizer='adadelta',\n",
        "              # loss='binary_crossentropy',\n",
        "              loss=tf.keras.losses.SparseCategoricalCrossentropy(),\n",
        "              metrics=['sparse_categorical_accuracy']) # sparse_categorical_accuracy"
      ],
      "metadata": {
        "id": "hENVaAC7ilNY"
      },
      "execution_count": 85,
      "outputs": []
    },
    {
      "cell_type": "code",
      "source": [
        "x = np.random.random((1, 28, 28))\n",
        "a = model.predict(x)\n",
        "_ = plt.hist(np.transpose(a))"
      ],
      "metadata": {
        "id": "RFgZHNNFMa8p",
        "outputId": "ce6c2308-5384-4e42-fc5d-d6516db6088d",
        "colab": {
          "base_uri": "https://localhost:8080/",
          "height": 448
        }
      },
      "execution_count": 86,
      "outputs": [
        {
          "output_type": "stream",
          "name": "stdout",
          "text": [
            "1/1 [==============================] - 0s 272ms/step\n"
          ]
        },
        {
          "output_type": "display_data",
          "data": {
            "text/plain": [
              "<Figure size 640x480 with 1 Axes>"
            ],
            "image/png": "[encoded data removed]"
          },
          "metadata": {}
        }
      ]
    },
    {
      "cell_type": "code",
      "source": [
        "y_pred = model.predict(x_test)"
      ],
      "metadata": {
        "id": "UDP8OKKZ8oQa",
        "outputId": "cd4d695a-225b-47f3-d55c-acf4c6cac6cb",
        "colab": {
          "base_uri": "https://localhost:8080/"
        }
      },
      "execution_count": 87,
      "outputs": [
        {
          "output_type": "stream",
          "name": "stdout",
          "text": [
            "313/313 [==============================] - 2s 7ms/step\n"
          ]
        }
      ]
    },
    {
      "cell_type": "code",
      "source": [
        "callback = callbacks.EarlyStopping(monitor='val_loss',\n",
        "                                   patience=50,\n",
        "                                   restore_best_weights=True,\n",
        "                                   )\n",
        "es = callbacks.EarlyStopping(monitor='val_loss', mode='min', verbose=0, patience=40)\n",
        "mc = callbacks.ModelCheckpoint('best_model.h5', monitor='sparse_categorical_accuracy', mode='max', verbose=0, save_best_only=True)\n"
      ],
      "metadata": {
        "id": "5ihU4exVlsjm"
      },
      "execution_count": 88,
      "outputs": []
    },
    {
      "cell_type": "code",
      "source": [
        "history = model.fit(x_train, y_train,\n",
        "                    epochs=200,\n",
        "                    batch_size=128,\n",
        "                    # callbacks=[callback],\n",
        "                    callbacks=[mc],\n",
        "                    verbose=1, #многословие\n",
        "                    validation_split=0.1\n",
        "                    # validation_data=(x_val, y_val)\n",
        "                    )\n",
        "test_loss, test_acc = model.evaluate(x_test, y_test)\n",
        "print('\\nTest accuracy:', test_acc)"
      ],
      "metadata": {
        "id": "FH8HcMNm233I",
        "outputId": "3b387525-6a48-4179-9f09-e965c98e9c6d",
        "colab": {
          "base_uri": "https://localhost:8080/"
        }
      },
      "execution_count": 89,
      "outputs": [
        {
          "output_type": "stream",
          "name": "stdout",
          "text": [
            "Epoch 1/200\n",
            "422/422 [==============================] - 16s 29ms/step - loss: 0.9881 - sparse_categorical_accuracy: 0.6641 - val_loss: 0.5163 - val_sparse_categorical_accuracy: 0.8118\n",
            "Epoch 2/200\n",
            "422/422 [==============================] - 12s 29ms/step - loss: 0.6543 - sparse_categorical_accuracy: 0.7610 - val_loss: 0.4667 - val_sparse_categorical_accuracy: 0.8250\n",
            "Epoch 3/200\n",
            "422/422 [==============================] - 12s 29ms/step - loss: 0.5792 - sparse_categorical_accuracy: 0.7869 - val_loss: 0.4275 - val_sparse_categorical_accuracy: 0.8387\n",
            "Epoch 4/200\n",
            "422/422 [==============================] - 12s 28ms/step - loss: 0.5401 - sparse_categorical_accuracy: 0.8007 - val_loss: 0.4094 - val_sparse_categorical_accuracy: 0.8482\n",
            "Epoch 5/200\n",
            "422/422 [==============================] - 12s 27ms/step - loss: 0.5160 - sparse_categorical_accuracy: 0.8093 - val_loss: 0.3900 - val_sparse_categorical_accuracy: 0.8550\n",
            "Epoch 6/200\n",
            "422/422 [==============================] - 12s 28ms/step - loss: 0.4936 - sparse_categorical_accuracy: 0.8180 - val_loss: 0.3913 - val_sparse_categorical_accuracy: 0.8498\n",
            "Epoch 7/200\n",
            "422/422 [==============================] - 12s 29ms/step - loss: 0.4757 - sparse_categorical_accuracy: 0.8239 - val_loss: 0.3762 - val_sparse_categorical_accuracy: 0.8585\n",
            "Epoch 8/200\n",
            "422/422 [==============================] - 12s 28ms/step - loss: 0.4658 - sparse_categorical_accuracy: 0.8271 - val_loss: 0.3603 - val_sparse_categorical_accuracy: 0.8672\n",
            "Epoch 9/200\n",
            "422/422 [==============================] - 12s 29ms/step - loss: 0.4582 - sparse_categorical_accuracy: 0.8294 - val_loss: 0.3624 - val_sparse_categorical_accuracy: 0.8627\n",
            "Epoch 10/200\n",
            "422/422 [==============================] - 12s 29ms/step - loss: 0.4447 - sparse_categorical_accuracy: 0.8358 - val_loss: 0.3537 - val_sparse_categorical_accuracy: 0.8690\n",
            "Epoch 11/200\n",
            "422/422 [==============================] - 12s 29ms/step - loss: 0.4400 - sparse_categorical_accuracy: 0.8365 - val_loss: 0.3447 - val_sparse_categorical_accuracy: 0.8732\n",
            "Epoch 12/200\n",
            "422/422 [==============================] - 12s 29ms/step - loss: 0.4319 - sparse_categorical_accuracy: 0.8378 - val_loss: 0.3411 - val_sparse_categorical_accuracy: 0.8743\n",
            "Epoch 13/200\n",
            "422/422 [==============================] - 12s 28ms/step - loss: 0.4265 - sparse_categorical_accuracy: 0.8410 - val_loss: 0.3369 - val_sparse_categorical_accuracy: 0.8738\n",
            "Epoch 14/200\n",
            "422/422 [==============================] - 12s 29ms/step - loss: 0.4179 - sparse_categorical_accuracy: 0.8418 - val_loss: 0.3415 - val_sparse_categorical_accuracy: 0.8723\n",
            "Epoch 15/200\n",
            "422/422 [==============================] - 12s 28ms/step - loss: 0.4156 - sparse_categorical_accuracy: 0.8461 - val_loss: 0.3396 - val_sparse_categorical_accuracy: 0.8722\n",
            "Epoch 16/200\n",
            "422/422 [==============================] - 12s 28ms/step - loss: 0.4129 - sparse_categorical_accuracy: 0.8473 - val_loss: 0.3258 - val_sparse_categorical_accuracy: 0.8782\n",
            "Epoch 17/200\n",
            "422/422 [==============================] - 12s 29ms/step - loss: 0.4041 - sparse_categorical_accuracy: 0.8495 - val_loss: 0.3308 - val_sparse_categorical_accuracy: 0.8800\n",
            "Epoch 18/200\n",
            "422/422 [==============================] - 12s 29ms/step - loss: 0.4000 - sparse_categorical_accuracy: 0.8495 - val_loss: 0.3223 - val_sparse_categorical_accuracy: 0.8782\n",
            "Epoch 19/200\n",
            "422/422 [==============================] - 12s 29ms/step - loss: 0.4014 - sparse_categorical_accuracy: 0.8516 - val_loss: 0.3223 - val_sparse_categorical_accuracy: 0.8805\n",
            "Epoch 20/200\n",
            "422/422 [==============================] - 12s 28ms/step - loss: 0.3974 - sparse_categorical_accuracy: 0.8517 - val_loss: 0.3154 - val_sparse_categorical_accuracy: 0.8825\n",
            "Epoch 21/200\n",
            "422/422 [==============================] - 12s 28ms/step - loss: 0.3908 - sparse_categorical_accuracy: 0.8539 - val_loss: 0.3152 - val_sparse_categorical_accuracy: 0.8823\n",
            "Epoch 22/200\n",
            "422/422 [==============================] - 12s 29ms/step - loss: 0.3905 - sparse_categorical_accuracy: 0.8545 - val_loss: 0.3160 - val_sparse_categorical_accuracy: 0.8838\n",
            "Epoch 23/200\n",
            "422/422 [==============================] - 12s 28ms/step - loss: 0.3861 - sparse_categorical_accuracy: 0.8554 - val_loss: 0.3189 - val_sparse_categorical_accuracy: 0.8805\n",
            "Epoch 24/200\n",
            "422/422 [==============================] - 12s 28ms/step - loss: 0.3849 - sparse_categorical_accuracy: 0.8557 - val_loss: 0.3134 - val_sparse_categorical_accuracy: 0.8813\n",
            "Epoch 25/200\n",
            "422/422 [==============================] - 12s 28ms/step - loss: 0.3839 - sparse_categorical_accuracy: 0.8572 - val_loss: 0.3083 - val_sparse_categorical_accuracy: 0.8847\n",
            "Epoch 26/200\n",
            "422/422 [==============================] - 12s 27ms/step - loss: 0.3795 - sparse_categorical_accuracy: 0.8573 - val_loss: 0.3128 - val_sparse_categorical_accuracy: 0.8833\n",
            "Epoch 27/200\n",
            "422/422 [==============================] - 12s 28ms/step - loss: 0.3785 - sparse_categorical_accuracy: 0.8596 - val_loss: 0.3102 - val_sparse_categorical_accuracy: 0.8842\n",
            "Epoch 28/200\n",
            "422/422 [==============================] - 12s 28ms/step - loss: 0.3747 - sparse_categorical_accuracy: 0.8612 - val_loss: 0.3067 - val_sparse_categorical_accuracy: 0.8868\n",
            "Epoch 29/200\n",
            "422/422 [==============================] - 12s 28ms/step - loss: 0.3752 - sparse_categorical_accuracy: 0.8601 - val_loss: 0.3055 - val_sparse_categorical_accuracy: 0.8892\n",
            "Epoch 30/200\n",
            "422/422 [==============================] - 12s 28ms/step - loss: 0.3734 - sparse_categorical_accuracy: 0.8599 - val_loss: 0.3029 - val_sparse_categorical_accuracy: 0.8913\n",
            "Epoch 31/200\n",
            "422/422 [==============================] - 12s 28ms/step - loss: 0.3730 - sparse_categorical_accuracy: 0.8602 - val_loss: 0.3073 - val_sparse_categorical_accuracy: 0.8858\n",
            "Epoch 32/200\n",
            "422/422 [==============================] - 12s 28ms/step - loss: 0.3734 - sparse_categorical_accuracy: 0.8622 - val_loss: 0.3038 - val_sparse_categorical_accuracy: 0.8882\n",
            "Epoch 33/200\n",
            "422/422 [==============================] - 12s 28ms/step - loss: 0.3694 - sparse_categorical_accuracy: 0.8623 - val_loss: 0.3006 - val_sparse_categorical_accuracy: 0.8868\n",
            "Epoch 34/200\n",
            "422/422 [==============================] - 12s 28ms/step - loss: 0.3629 - sparse_categorical_accuracy: 0.8649 - val_loss: 0.2990 - val_sparse_categorical_accuracy: 0.8908\n",
            "Epoch 35/200\n",
            "422/422 [==============================] - 12s 28ms/step - loss: 0.3625 - sparse_categorical_accuracy: 0.8647 - val_loss: 0.2985 - val_sparse_categorical_accuracy: 0.8855\n",
            "Epoch 36/200\n",
            "422/422 [==============================] - 12s 29ms/step - loss: 0.3627 - sparse_categorical_accuracy: 0.8636 - val_loss: 0.3005 - val_sparse_categorical_accuracy: 0.8880\n",
            "Epoch 37/200\n",
            "422/422 [==============================] - 12s 29ms/step - loss: 0.3598 - sparse_categorical_accuracy: 0.8673 - val_loss: 0.2995 - val_sparse_categorical_accuracy: 0.8905\n",
            "Epoch 38/200\n",
            "422/422 [==============================] - 12s 29ms/step - loss: 0.3612 - sparse_categorical_accuracy: 0.8664 - val_loss: 0.2982 - val_sparse_categorical_accuracy: 0.8868\n",
            "Epoch 39/200\n",
            "422/422 [==============================] - 12s 29ms/step - loss: 0.3607 - sparse_categorical_accuracy: 0.8645 - val_loss: 0.2960 - val_sparse_categorical_accuracy: 0.8928\n",
            "Epoch 40/200\n",
            "422/422 [==============================] - 12s 29ms/step - loss: 0.3552 - sparse_categorical_accuracy: 0.8677 - val_loss: 0.2959 - val_sparse_categorical_accuracy: 0.8905\n",
            "Epoch 41/200\n",
            "422/422 [==============================] - 12s 28ms/step - loss: 0.3540 - sparse_categorical_accuracy: 0.8664 - val_loss: 0.2899 - val_sparse_categorical_accuracy: 0.8905\n",
            "Epoch 42/200\n",
            "422/422 [==============================] - 12s 29ms/step - loss: 0.3525 - sparse_categorical_accuracy: 0.8679 - val_loss: 0.2962 - val_sparse_categorical_accuracy: 0.8902\n",
            "Epoch 43/200\n",
            "422/422 [==============================] - 12s 28ms/step - loss: 0.3551 - sparse_categorical_accuracy: 0.8662 - val_loss: 0.2938 - val_sparse_categorical_accuracy: 0.8887\n",
            "Epoch 44/200\n",
            "422/422 [==============================] - 12s 28ms/step - loss: 0.3486 - sparse_categorical_accuracy: 0.8704 - val_loss: 0.2933 - val_sparse_categorical_accuracy: 0.8923\n",
            "Epoch 45/200\n",
            "422/422 [==============================] - 12s 28ms/step - loss: 0.3531 - sparse_categorical_accuracy: 0.8670 - val_loss: 0.2950 - val_sparse_categorical_accuracy: 0.8877\n",
            "Epoch 46/200\n",
            "422/422 [==============================] - 12s 28ms/step - loss: 0.3527 - sparse_categorical_accuracy: 0.8682 - val_loss: 0.2972 - val_sparse_categorical_accuracy: 0.8898\n",
            "Epoch 47/200\n",
            "422/422 [==============================] - 12s 28ms/step - loss: 0.3530 - sparse_categorical_accuracy: 0.8685 - val_loss: 0.2971 - val_sparse_categorical_accuracy: 0.8923\n",
            "Epoch 48/200\n",
            "422/422 [==============================] - 12s 28ms/step - loss: 0.3517 - sparse_categorical_accuracy: 0.8681 - val_loss: 0.3039 - val_sparse_categorical_accuracy: 0.8860\n",
            "Epoch 49/200\n",
            "422/422 [==============================] - 12s 28ms/step - loss: 0.3439 - sparse_categorical_accuracy: 0.8704 - val_loss: 0.2977 - val_sparse_categorical_accuracy: 0.8918\n",
            "Epoch 50/200\n",
            "422/422 [==============================] - 12s 28ms/step - loss: 0.3481 - sparse_categorical_accuracy: 0.8692 - val_loss: 0.3011 - val_sparse_categorical_accuracy: 0.8867\n",
            "Epoch 51/200\n",
            "422/422 [==============================] - 12s 28ms/step - loss: 0.3428 - sparse_categorical_accuracy: 0.8717 - val_loss: 0.2943 - val_sparse_categorical_accuracy: 0.8927\n",
            "Epoch 52/200\n",
            "422/422 [==============================] - 12s 29ms/step - loss: 0.3471 - sparse_categorical_accuracy: 0.8692 - val_loss: 0.2932 - val_sparse_categorical_accuracy: 0.8918\n",
            "Epoch 53/200\n",
            "422/422 [==============================] - 12s 29ms/step - loss: 0.3433 - sparse_categorical_accuracy: 0.8701 - val_loss: 0.2915 - val_sparse_categorical_accuracy: 0.8910\n",
            "Epoch 54/200\n",
            "422/422 [==============================] - 12s 28ms/step - loss: 0.3403 - sparse_categorical_accuracy: 0.8716 - val_loss: 0.2909 - val_sparse_categorical_accuracy: 0.8948\n",
            "Epoch 55/200\n",
            "422/422 [==============================] - 12s 29ms/step - loss: 0.3407 - sparse_categorical_accuracy: 0.8725 - val_loss: 0.2901 - val_sparse_categorical_accuracy: 0.8915\n",
            "Epoch 56/200\n",
            "422/422 [==============================] - 12s 28ms/step - loss: 0.3432 - sparse_categorical_accuracy: 0.8717 - val_loss: 0.2912 - val_sparse_categorical_accuracy: 0.8940\n",
            "Epoch 57/200\n",
            "422/422 [==============================] - 12s 29ms/step - loss: 0.3417 - sparse_categorical_accuracy: 0.8727 - val_loss: 0.2885 - val_sparse_categorical_accuracy: 0.8930\n",
            "Epoch 58/200\n",
            "422/422 [==============================] - 13s 30ms/step - loss: 0.3381 - sparse_categorical_accuracy: 0.8727 - val_loss: 0.2887 - val_sparse_categorical_accuracy: 0.8927\n",
            "Epoch 59/200\n",
            "422/422 [==============================] - 12s 29ms/step - loss: 0.3404 - sparse_categorical_accuracy: 0.8711 - val_loss: 0.2935 - val_sparse_categorical_accuracy: 0.8952\n",
            "Epoch 60/200\n",
            "422/422 [==============================] - 12s 28ms/step - loss: 0.3365 - sparse_categorical_accuracy: 0.8726 - val_loss: 0.2967 - val_sparse_categorical_accuracy: 0.8937\n",
            "Epoch 61/200\n",
            "422/422 [==============================] - 12s 28ms/step - loss: 0.3400 - sparse_categorical_accuracy: 0.8703 - val_loss: 0.2874 - val_sparse_categorical_accuracy: 0.8943\n",
            "Epoch 62/200\n",
            "422/422 [==============================] - 12s 29ms/step - loss: 0.3368 - sparse_categorical_accuracy: 0.8741 - val_loss: 0.2861 - val_sparse_categorical_accuracy: 0.8962\n",
            "Epoch 63/200\n",
            "422/422 [==============================] - 12s 29ms/step - loss: 0.3327 - sparse_categorical_accuracy: 0.8749 - val_loss: 0.2863 - val_sparse_categorical_accuracy: 0.8947\n",
            "Epoch 64/200\n",
            "422/422 [==============================] - 12s 28ms/step - loss: 0.3315 - sparse_categorical_accuracy: 0.8755 - val_loss: 0.2877 - val_sparse_categorical_accuracy: 0.8937\n",
            "Epoch 65/200\n",
            "422/422 [==============================] - 12s 29ms/step - loss: 0.3364 - sparse_categorical_accuracy: 0.8739 - val_loss: 0.2870 - val_sparse_categorical_accuracy: 0.8973\n",
            "Epoch 66/200\n",
            "422/422 [==============================] - 13s 30ms/step - loss: 0.3335 - sparse_categorical_accuracy: 0.8745 - val_loss: 0.2909 - val_sparse_categorical_accuracy: 0.8940\n",
            "Epoch 67/200\n",
            "422/422 [==============================] - 12s 29ms/step - loss: 0.3373 - sparse_categorical_accuracy: 0.8726 - val_loss: 0.2833 - val_sparse_categorical_accuracy: 0.8972\n",
            "Epoch 68/200\n",
            "422/422 [==============================] - 12s 29ms/step - loss: 0.3324 - sparse_categorical_accuracy: 0.8759 - val_loss: 0.2878 - val_sparse_categorical_accuracy: 0.8938\n",
            "Epoch 69/200\n",
            "422/422 [==============================] - 12s 29ms/step - loss: 0.3349 - sparse_categorical_accuracy: 0.8733 - val_loss: 0.2874 - val_sparse_categorical_accuracy: 0.8923\n",
            "Epoch 70/200\n",
            "422/422 [==============================] - 12s 29ms/step - loss: 0.3328 - sparse_categorical_accuracy: 0.8737 - val_loss: 0.2856 - val_sparse_categorical_accuracy: 0.8955\n",
            "Epoch 71/200\n",
            "422/422 [==============================] - 12s 29ms/step - loss: 0.3336 - sparse_categorical_accuracy: 0.8742 - val_loss: 0.2834 - val_sparse_categorical_accuracy: 0.8965\n",
            "Epoch 72/200\n",
            "422/422 [==============================] - 12s 29ms/step - loss: 0.3322 - sparse_categorical_accuracy: 0.8755 - val_loss: 0.2829 - val_sparse_categorical_accuracy: 0.8942\n",
            "Epoch 73/200\n",
            "422/422 [==============================] - 12s 29ms/step - loss: 0.3314 - sparse_categorical_accuracy: 0.8769 - val_loss: 0.2818 - val_sparse_categorical_accuracy: 0.8977\n",
            "Epoch 74/200\n",
            "422/422 [==============================] - 12s 29ms/step - loss: 0.3284 - sparse_categorical_accuracy: 0.8771 - val_loss: 0.2814 - val_sparse_categorical_accuracy: 0.8948\n",
            "Epoch 75/200\n",
            "422/422 [==============================] - 12s 29ms/step - loss: 0.3303 - sparse_categorical_accuracy: 0.8768 - val_loss: 0.2825 - val_sparse_categorical_accuracy: 0.8960\n",
            "Epoch 76/200\n",
            "422/422 [==============================] - 12s 29ms/step - loss: 0.3290 - sparse_categorical_accuracy: 0.8780 - val_loss: 0.2866 - val_sparse_categorical_accuracy: 0.8948\n",
            "Epoch 77/200\n",
            "422/422 [==============================] - 12s 29ms/step - loss: 0.3284 - sparse_categorical_accuracy: 0.8763 - val_loss: 0.2852 - val_sparse_categorical_accuracy: 0.8968\n",
            "Epoch 78/200\n",
            "422/422 [==============================] - 12s 29ms/step - loss: 0.3278 - sparse_categorical_accuracy: 0.8771 - val_loss: 0.2812 - val_sparse_categorical_accuracy: 0.8967\n",
            "Epoch 79/200\n",
            "422/422 [==============================] - 12s 29ms/step - loss: 0.3286 - sparse_categorical_accuracy: 0.8758 - val_loss: 0.2832 - val_sparse_categorical_accuracy: 0.8955\n",
            "Epoch 80/200\n",
            "422/422 [==============================] - 12s 29ms/step - loss: 0.3307 - sparse_categorical_accuracy: 0.8765 - val_loss: 0.2822 - val_sparse_categorical_accuracy: 0.8997\n",
            "Epoch 81/200\n",
            "422/422 [==============================] - 12s 29ms/step - loss: 0.3266 - sparse_categorical_accuracy: 0.8764 - val_loss: 0.2856 - val_sparse_categorical_accuracy: 0.8943\n",
            "Epoch 82/200\n",
            "422/422 [==============================] - 12s 29ms/step - loss: 0.3293 - sparse_categorical_accuracy: 0.8763 - val_loss: 0.2824 - val_sparse_categorical_accuracy: 0.8953\n",
            "Epoch 83/200\n",
            "422/422 [==============================] - 12s 28ms/step - loss: 0.3254 - sparse_categorical_accuracy: 0.8773 - val_loss: 0.2876 - val_sparse_categorical_accuracy: 0.8967\n",
            "Epoch 84/200\n",
            "422/422 [==============================] - 12s 28ms/step - loss: 0.3265 - sparse_categorical_accuracy: 0.8766 - val_loss: 0.2812 - val_sparse_categorical_accuracy: 0.8992\n",
            "Epoch 85/200\n",
            "422/422 [==============================] - 12s 28ms/step - loss: 0.3240 - sparse_categorical_accuracy: 0.8780 - val_loss: 0.2816 - val_sparse_categorical_accuracy: 0.8967\n",
            "Epoch 86/200\n",
            "422/422 [==============================] - 12s 28ms/step - loss: 0.3239 - sparse_categorical_accuracy: 0.8777 - val_loss: 0.2823 - val_sparse_categorical_accuracy: 0.8982\n",
            "Epoch 87/200\n",
            "422/422 [==============================] - 12s 29ms/step - loss: 0.3230 - sparse_categorical_accuracy: 0.8771 - val_loss: 0.2804 - val_sparse_categorical_accuracy: 0.8967\n",
            "Epoch 88/200\n",
            "422/422 [==============================] - 12s 29ms/step - loss: 0.3207 - sparse_categorical_accuracy: 0.8792 - val_loss: 0.2840 - val_sparse_categorical_accuracy: 0.8957\n",
            "Epoch 89/200\n",
            "422/422 [==============================] - 12s 28ms/step - loss: 0.3220 - sparse_categorical_accuracy: 0.8786 - val_loss: 0.2842 - val_sparse_categorical_accuracy: 0.8985\n",
            "Epoch 90/200\n",
            "422/422 [==============================] - 12s 29ms/step - loss: 0.3222 - sparse_categorical_accuracy: 0.8788 - val_loss: 0.2897 - val_sparse_categorical_accuracy: 0.8960\n",
            "Epoch 91/200\n",
            "422/422 [==============================] - 13s 30ms/step - loss: 0.3175 - sparse_categorical_accuracy: 0.8808 - val_loss: 0.2843 - val_sparse_categorical_accuracy: 0.8957\n",
            "Epoch 92/200\n",
            "422/422 [==============================] - 12s 29ms/step - loss: 0.3198 - sparse_categorical_accuracy: 0.8799 - val_loss: 0.2821 - val_sparse_categorical_accuracy: 0.8955\n",
            "Epoch 93/200\n",
            "422/422 [==============================] - 12s 29ms/step - loss: 0.3207 - sparse_categorical_accuracy: 0.8770 - val_loss: 0.2875 - val_sparse_categorical_accuracy: 0.8963\n",
            "Epoch 94/200\n",
            "422/422 [==============================] - 12s 29ms/step - loss: 0.3231 - sparse_categorical_accuracy: 0.8784 - val_loss: 0.2823 - val_sparse_categorical_accuracy: 0.8975\n",
            "Epoch 95/200\n",
            "422/422 [==============================] - 12s 29ms/step - loss: 0.3194 - sparse_categorical_accuracy: 0.8788 - val_loss: 0.2893 - val_sparse_categorical_accuracy: 0.8945\n",
            "Epoch 96/200\n",
            "422/422 [==============================] - 12s 29ms/step - loss: 0.3214 - sparse_categorical_accuracy: 0.8793 - val_loss: 0.2769 - val_sparse_categorical_accuracy: 0.8977\n",
            "Epoch 97/200\n",
            "422/422 [==============================] - 12s 29ms/step - loss: 0.3198 - sparse_categorical_accuracy: 0.8790 - val_loss: 0.2904 - val_sparse_categorical_accuracy: 0.8975\n",
            "Epoch 98/200\n",
            "422/422 [==============================] - 12s 29ms/step - loss: 0.3184 - sparse_categorical_accuracy: 0.8810 - val_loss: 0.2830 - val_sparse_categorical_accuracy: 0.8980\n",
            "Epoch 99/200\n",
            "422/422 [==============================] - 12s 29ms/step - loss: 0.3211 - sparse_categorical_accuracy: 0.8795 - val_loss: 0.2808 - val_sparse_categorical_accuracy: 0.8983\n",
            "Epoch 100/200\n",
            "422/422 [==============================] - 12s 29ms/step - loss: 0.3208 - sparse_categorical_accuracy: 0.8790 - val_loss: 0.2782 - val_sparse_categorical_accuracy: 0.8997\n",
            "Epoch 101/200\n",
            "422/422 [==============================] - 12s 29ms/step - loss: 0.3214 - sparse_categorical_accuracy: 0.8780 - val_loss: 0.2775 - val_sparse_categorical_accuracy: 0.9000\n",
            "Epoch 102/200\n",
            "422/422 [==============================] - 12s 29ms/step - loss: 0.3200 - sparse_categorical_accuracy: 0.8787 - val_loss: 0.2833 - val_sparse_categorical_accuracy: 0.8998\n",
            "Epoch 103/200\n",
            "422/422 [==============================] - 12s 29ms/step - loss: 0.3207 - sparse_categorical_accuracy: 0.8790 - val_loss: 0.2767 - val_sparse_categorical_accuracy: 0.8993\n",
            "Epoch 104/200\n",
            "422/422 [==============================] - 12s 29ms/step - loss: 0.3185 - sparse_categorical_accuracy: 0.8796 - val_loss: 0.2775 - val_sparse_categorical_accuracy: 0.8990\n",
            "Epoch 105/200\n",
            "422/422 [==============================] - 12s 29ms/step - loss: 0.3191 - sparse_categorical_accuracy: 0.8796 - val_loss: 0.2760 - val_sparse_categorical_accuracy: 0.8998\n",
            "Epoch 106/200\n",
            "422/422 [==============================] - 12s 29ms/step - loss: 0.3144 - sparse_categorical_accuracy: 0.8818 - val_loss: 0.2814 - val_sparse_categorical_accuracy: 0.8977\n",
            "Epoch 107/200\n",
            "422/422 [==============================] - 12s 28ms/step - loss: 0.3168 - sparse_categorical_accuracy: 0.8811 - val_loss: 0.2763 - val_sparse_categorical_accuracy: 0.8998\n",
            "Epoch 108/200\n",
            "422/422 [==============================] - 12s 28ms/step - loss: 0.3145 - sparse_categorical_accuracy: 0.8809 - val_loss: 0.2764 - val_sparse_categorical_accuracy: 0.8975\n",
            "Epoch 109/200\n",
            "422/422 [==============================] - 12s 28ms/step - loss: 0.3151 - sparse_categorical_accuracy: 0.8828 - val_loss: 0.2806 - val_sparse_categorical_accuracy: 0.9005\n",
            "Epoch 110/200\n",
            "422/422 [==============================] - 12s 28ms/step - loss: 0.3189 - sparse_categorical_accuracy: 0.8798 - val_loss: 0.2781 - val_sparse_categorical_accuracy: 0.8983\n",
            "Epoch 111/200\n",
            "422/422 [==============================] - 12s 29ms/step - loss: 0.3121 - sparse_categorical_accuracy: 0.8828 - val_loss: 0.2754 - val_sparse_categorical_accuracy: 0.8983\n",
            "Epoch 112/200\n",
            "422/422 [==============================] - 12s 29ms/step - loss: 0.3160 - sparse_categorical_accuracy: 0.8814 - val_loss: 0.2790 - val_sparse_categorical_accuracy: 0.8983\n",
            "Epoch 113/200\n",
            "422/422 [==============================] - 12s 29ms/step - loss: 0.3158 - sparse_categorical_accuracy: 0.8795 - val_loss: 0.2777 - val_sparse_categorical_accuracy: 0.8990\n",
            "Epoch 114/200\n",
            "422/422 [==============================] - 12s 29ms/step - loss: 0.3119 - sparse_categorical_accuracy: 0.8811 - val_loss: 0.2752 - val_sparse_categorical_accuracy: 0.8960\n",
            "Epoch 115/200\n",
            "422/422 [==============================] - 12s 29ms/step - loss: 0.3148 - sparse_categorical_accuracy: 0.8813 - val_loss: 0.2807 - val_sparse_categorical_accuracy: 0.8960\n",
            "Epoch 116/200\n",
            "422/422 [==============================] - 12s 29ms/step - loss: 0.3159 - sparse_categorical_accuracy: 0.8807 - val_loss: 0.2784 - val_sparse_categorical_accuracy: 0.8987\n",
            "Epoch 117/200\n",
            "422/422 [==============================] - 12s 29ms/step - loss: 0.3121 - sparse_categorical_accuracy: 0.8826 - val_loss: 0.2747 - val_sparse_categorical_accuracy: 0.8982\n",
            "Epoch 118/200\n",
            "422/422 [==============================] - 12s 29ms/step - loss: 0.3112 - sparse_categorical_accuracy: 0.8818 - val_loss: 0.2758 - val_sparse_categorical_accuracy: 0.8947\n",
            "Epoch 119/200\n",
            "422/422 [==============================] - 12s 29ms/step - loss: 0.3138 - sparse_categorical_accuracy: 0.8820 - val_loss: 0.2754 - val_sparse_categorical_accuracy: 0.8972\n",
            "Epoch 120/200\n",
            "422/422 [==============================] - 12s 29ms/step - loss: 0.3118 - sparse_categorical_accuracy: 0.8816 - val_loss: 0.2809 - val_sparse_categorical_accuracy: 0.8967\n",
            "Epoch 121/200\n",
            "422/422 [==============================] - 12s 29ms/step - loss: 0.3138 - sparse_categorical_accuracy: 0.8811 - val_loss: 0.2756 - val_sparse_categorical_accuracy: 0.8972\n",
            "Epoch 122/200\n",
            "422/422 [==============================] - 12s 29ms/step - loss: 0.3115 - sparse_categorical_accuracy: 0.8830 - val_loss: 0.2743 - val_sparse_categorical_accuracy: 0.8995\n",
            "Epoch 123/200\n",
            "422/422 [==============================] - 12s 29ms/step - loss: 0.3097 - sparse_categorical_accuracy: 0.8832 - val_loss: 0.2763 - val_sparse_categorical_accuracy: 0.8988\n",
            "Epoch 124/200\n",
            "422/422 [==============================] - 12s 29ms/step - loss: 0.3109 - sparse_categorical_accuracy: 0.8817 - val_loss: 0.2809 - val_sparse_categorical_accuracy: 0.8970\n",
            "Epoch 125/200\n",
            "422/422 [==============================] - 12s 29ms/step - loss: 0.3095 - sparse_categorical_accuracy: 0.8842 - val_loss: 0.2747 - val_sparse_categorical_accuracy: 0.8997\n",
            "Epoch 126/200\n",
            "422/422 [==============================] - 13s 30ms/step - loss: 0.3127 - sparse_categorical_accuracy: 0.8817 - val_loss: 0.2737 - val_sparse_categorical_accuracy: 0.8998\n",
            "Epoch 127/200\n",
            "422/422 [==============================] - 13s 30ms/step - loss: 0.3092 - sparse_categorical_accuracy: 0.8836 - val_loss: 0.2787 - val_sparse_categorical_accuracy: 0.9010\n",
            "Epoch 128/200\n",
            "422/422 [==============================] - 12s 29ms/step - loss: 0.3108 - sparse_categorical_accuracy: 0.8838 - val_loss: 0.2749 - val_sparse_categorical_accuracy: 0.8960\n",
            "Epoch 129/200\n",
            "422/422 [==============================] - 12s 29ms/step - loss: 0.3071 - sparse_categorical_accuracy: 0.8844 - val_loss: 0.2744 - val_sparse_categorical_accuracy: 0.8992\n",
            "Epoch 130/200\n",
            "422/422 [==============================] - 12s 29ms/step - loss: 0.3110 - sparse_categorical_accuracy: 0.8836 - val_loss: 0.2735 - val_sparse_categorical_accuracy: 0.8978\n",
            "Epoch 131/200\n",
            "422/422 [==============================] - 13s 30ms/step - loss: 0.3079 - sparse_categorical_accuracy: 0.8846 - val_loss: 0.2709 - val_sparse_categorical_accuracy: 0.8992\n",
            "Epoch 132/200\n",
            "422/422 [==============================] - 13s 30ms/step - loss: 0.3094 - sparse_categorical_accuracy: 0.8819 - val_loss: 0.2748 - val_sparse_categorical_accuracy: 0.8983\n",
            "Epoch 133/200\n",
            "422/422 [==============================] - 12s 29ms/step - loss: 0.3110 - sparse_categorical_accuracy: 0.8828 - val_loss: 0.2724 - val_sparse_categorical_accuracy: 0.9018\n",
            "Epoch 134/200\n",
            "422/422 [==============================] - 12s 29ms/step - loss: 0.3123 - sparse_categorical_accuracy: 0.8811 - val_loss: 0.2797 - val_sparse_categorical_accuracy: 0.8978\n",
            "Epoch 135/200\n",
            "422/422 [==============================] - 13s 30ms/step - loss: 0.3085 - sparse_categorical_accuracy: 0.8841 - val_loss: 0.2729 - val_sparse_categorical_accuracy: 0.9003\n",
            "Epoch 136/200\n",
            "422/422 [==============================] - 13s 30ms/step - loss: 0.3072 - sparse_categorical_accuracy: 0.8836 - val_loss: 0.2728 - val_sparse_categorical_accuracy: 0.8977\n",
            "Epoch 137/200\n",
            "422/422 [==============================] - 13s 30ms/step - loss: 0.3085 - sparse_categorical_accuracy: 0.8844 - val_loss: 0.2725 - val_sparse_categorical_accuracy: 0.9002\n",
            "Epoch 138/200\n",
            "422/422 [==============================] - 13s 30ms/step - loss: 0.3080 - sparse_categorical_accuracy: 0.8842 - val_loss: 0.2727 - val_sparse_categorical_accuracy: 0.9017\n",
            "Epoch 139/200\n",
            "422/422 [==============================] - 13s 30ms/step - loss: 0.3052 - sparse_categorical_accuracy: 0.8852 - val_loss: 0.2767 - val_sparse_categorical_accuracy: 0.8970\n",
            "Epoch 140/200\n",
            "422/422 [==============================] - 13s 31ms/step - loss: 0.3093 - sparse_categorical_accuracy: 0.8819 - val_loss: 0.2717 - val_sparse_categorical_accuracy: 0.8990\n",
            "Epoch 141/200\n",
            "422/422 [==============================] - 12s 30ms/step - loss: 0.3069 - sparse_categorical_accuracy: 0.8841 - val_loss: 0.2784 - val_sparse_categorical_accuracy: 0.9005\n",
            "Epoch 142/200\n",
            "422/422 [==============================] - 12s 29ms/step - loss: 0.3075 - sparse_categorical_accuracy: 0.8839 - val_loss: 0.2736 - val_sparse_categorical_accuracy: 0.8977\n",
            "Epoch 143/200\n",
            "422/422 [==============================] - 13s 30ms/step - loss: 0.3053 - sparse_categorical_accuracy: 0.8844 - val_loss: 0.2754 - val_sparse_categorical_accuracy: 0.8970\n",
            "Epoch 144/200\n",
            "422/422 [==============================] - 12s 29ms/step - loss: 0.3027 - sparse_categorical_accuracy: 0.8836 - val_loss: 0.2717 - val_sparse_categorical_accuracy: 0.9010\n",
            "Epoch 145/200\n",
            "422/422 [==============================] - 12s 29ms/step - loss: 0.3049 - sparse_categorical_accuracy: 0.8849 - val_loss: 0.2736 - val_sparse_categorical_accuracy: 0.9003\n",
            "Epoch 146/200\n",
            "422/422 [==============================] - 12s 29ms/step - loss: 0.3043 - sparse_categorical_accuracy: 0.8841 - val_loss: 0.2743 - val_sparse_categorical_accuracy: 0.8985\n",
            "Epoch 147/200\n",
            "422/422 [==============================] - 12s 29ms/step - loss: 0.3064 - sparse_categorical_accuracy: 0.8832 - val_loss: 0.2714 - val_sparse_categorical_accuracy: 0.9020\n",
            "Epoch 148/200\n",
            "422/422 [==============================] - 13s 30ms/step - loss: 0.3043 - sparse_categorical_accuracy: 0.8853 - val_loss: 0.2780 - val_sparse_categorical_accuracy: 0.9007\n",
            "Epoch 149/200\n",
            "422/422 [==============================] - 12s 29ms/step - loss: 0.3075 - sparse_categorical_accuracy: 0.8848 - val_loss: 0.2775 - val_sparse_categorical_accuracy: 0.8977\n",
            "Epoch 150/200\n",
            "422/422 [==============================] - 12s 29ms/step - loss: 0.3059 - sparse_categorical_accuracy: 0.8842 - val_loss: 0.2770 - val_sparse_categorical_accuracy: 0.8973\n",
            "Epoch 151/200\n",
            "422/422 [==============================] - 13s 31ms/step - loss: 0.3036 - sparse_categorical_accuracy: 0.8847 - val_loss: 0.2735 - val_sparse_categorical_accuracy: 0.8973\n",
            "Epoch 152/200\n",
            "422/422 [==============================] - 12s 30ms/step - loss: 0.3044 - sparse_categorical_accuracy: 0.8849 - val_loss: 0.2764 - val_sparse_categorical_accuracy: 0.8978\n",
            "Epoch 153/200\n",
            "422/422 [==============================] - 12s 29ms/step - loss: 0.3045 - sparse_categorical_accuracy: 0.8839 - val_loss: 0.2746 - val_sparse_categorical_accuracy: 0.8995\n",
            "Epoch 154/200\n",
            "422/422 [==============================] - 12s 30ms/step - loss: 0.3035 - sparse_categorical_accuracy: 0.8847 - val_loss: 0.2748 - val_sparse_categorical_accuracy: 0.8993\n",
            "Epoch 155/200\n",
            "422/422 [==============================] - 12s 30ms/step - loss: 0.3049 - sparse_categorical_accuracy: 0.8843 - val_loss: 0.2733 - val_sparse_categorical_accuracy: 0.8985\n",
            "Epoch 156/200\n",
            "422/422 [==============================] - 12s 29ms/step - loss: 0.3048 - sparse_categorical_accuracy: 0.8846 - val_loss: 0.2756 - val_sparse_categorical_accuracy: 0.8983\n",
            "Epoch 157/200\n",
            "422/422 [==============================] - 13s 30ms/step - loss: 0.3049 - sparse_categorical_accuracy: 0.8846 - val_loss: 0.2793 - val_sparse_categorical_accuracy: 0.8997\n",
            "Epoch 158/200\n",
            "422/422 [==============================] - 12s 29ms/step - loss: 0.3076 - sparse_categorical_accuracy: 0.8845 - val_loss: 0.2807 - val_sparse_categorical_accuracy: 0.8978\n",
            "Epoch 159/200\n",
            "422/422 [==============================] - 12s 30ms/step - loss: 0.3046 - sparse_categorical_accuracy: 0.8851 - val_loss: 0.2740 - val_sparse_categorical_accuracy: 0.8990\n",
            "Epoch 160/200\n",
            "422/422 [==============================] - 12s 30ms/step - loss: 0.3011 - sparse_categorical_accuracy: 0.8852 - val_loss: 0.2778 - val_sparse_categorical_accuracy: 0.9012\n",
            "Epoch 161/200\n",
            "422/422 [==============================] - 12s 30ms/step - loss: 0.3029 - sparse_categorical_accuracy: 0.8860 - val_loss: 0.2735 - val_sparse_categorical_accuracy: 0.8992\n",
            "Epoch 162/200\n",
            "422/422 [==============================] - 13s 31ms/step - loss: 0.3006 - sparse_categorical_accuracy: 0.8865 - val_loss: 0.2740 - val_sparse_categorical_accuracy: 0.8990\n",
            "Epoch 163/200\n",
            "422/422 [==============================] - 13s 30ms/step - loss: 0.3009 - sparse_categorical_accuracy: 0.8853 - val_loss: 0.2761 - val_sparse_categorical_accuracy: 0.9000\n",
            "Epoch 164/200\n",
            "422/422 [==============================] - 12s 30ms/step - loss: 0.3033 - sparse_categorical_accuracy: 0.8862 - val_loss: 0.2747 - val_sparse_categorical_accuracy: 0.9023\n",
            "Epoch 165/200\n",
            "422/422 [==============================] - 12s 30ms/step - loss: 0.2996 - sparse_categorical_accuracy: 0.8862 - val_loss: 0.2748 - val_sparse_categorical_accuracy: 0.9010\n",
            "Epoch 166/200\n",
            "422/422 [==============================] - 12s 29ms/step - loss: 0.3029 - sparse_categorical_accuracy: 0.8873 - val_loss: 0.2721 - val_sparse_categorical_accuracy: 0.8995\n",
            "Epoch 167/200\n",
            "422/422 [==============================] - 13s 30ms/step - loss: 0.3011 - sparse_categorical_accuracy: 0.8879 - val_loss: 0.2724 - val_sparse_categorical_accuracy: 0.9007\n",
            "Epoch 168/200\n",
            "422/422 [==============================] - 12s 29ms/step - loss: 0.3024 - sparse_categorical_accuracy: 0.8871 - val_loss: 0.2757 - val_sparse_categorical_accuracy: 0.8995\n",
            "Epoch 169/200\n",
            "422/422 [==============================] - 13s 30ms/step - loss: 0.2999 - sparse_categorical_accuracy: 0.8865 - val_loss: 0.2766 - val_sparse_categorical_accuracy: 0.8990\n",
            "Epoch 170/200\n",
            "422/422 [==============================] - 13s 30ms/step - loss: 0.3029 - sparse_categorical_accuracy: 0.8866 - val_loss: 0.2727 - val_sparse_categorical_accuracy: 0.9010\n",
            "Epoch 171/200\n",
            "422/422 [==============================] - 13s 30ms/step - loss: 0.2985 - sparse_categorical_accuracy: 0.8871 - val_loss: 0.2754 - val_sparse_categorical_accuracy: 0.8988\n",
            "Epoch 172/200\n",
            "422/422 [==============================] - 13s 30ms/step - loss: 0.2999 - sparse_categorical_accuracy: 0.8874 - val_loss: 0.2690 - val_sparse_categorical_accuracy: 0.8997\n",
            "Epoch 173/200\n",
            "422/422 [==============================] - 12s 29ms/step - loss: 0.3012 - sparse_categorical_accuracy: 0.8862 - val_loss: 0.2745 - val_sparse_categorical_accuracy: 0.8995\n",
            "Epoch 174/200\n",
            "422/422 [==============================] - 13s 30ms/step - loss: 0.3039 - sparse_categorical_accuracy: 0.8842 - val_loss: 0.2767 - val_sparse_categorical_accuracy: 0.8988\n",
            "Epoch 175/200\n",
            "422/422 [==============================] - 12s 30ms/step - loss: 0.2983 - sparse_categorical_accuracy: 0.8865 - val_loss: 0.2713 - val_sparse_categorical_accuracy: 0.9027\n",
            "Epoch 176/200\n",
            "422/422 [==============================] - 12s 30ms/step - loss: 0.3004 - sparse_categorical_accuracy: 0.8856 - val_loss: 0.2754 - val_sparse_categorical_accuracy: 0.8987\n",
            "Epoch 177/200\n",
            "422/422 [==============================] - 13s 30ms/step - loss: 0.2999 - sparse_categorical_accuracy: 0.8866 - val_loss: 0.2710 - val_sparse_categorical_accuracy: 0.9000\n",
            "Epoch 178/200\n",
            "422/422 [==============================] - 12s 29ms/step - loss: 0.2991 - sparse_categorical_accuracy: 0.8870 - val_loss: 0.2793 - val_sparse_categorical_accuracy: 0.9002\n",
            "Epoch 179/200\n",
            "422/422 [==============================] - 12s 29ms/step - loss: 0.2998 - sparse_categorical_accuracy: 0.8867 - val_loss: 0.2710 - val_sparse_categorical_accuracy: 0.8998\n",
            "Epoch 180/200\n",
            "422/422 [==============================] - 12s 29ms/step - loss: 0.3012 - sparse_categorical_accuracy: 0.8856 - val_loss: 0.2713 - val_sparse_categorical_accuracy: 0.9017\n",
            "Epoch 181/200\n",
            "422/422 [==============================] - 13s 30ms/step - loss: 0.2960 - sparse_categorical_accuracy: 0.8879 - val_loss: 0.2798 - val_sparse_categorical_accuracy: 0.8977\n",
            "Epoch 182/200\n",
            "422/422 [==============================] - 12s 29ms/step - loss: 0.2975 - sparse_categorical_accuracy: 0.8870 - val_loss: 0.2778 - val_sparse_categorical_accuracy: 0.8985\n",
            "Epoch 183/200\n",
            "422/422 [==============================] - 12s 29ms/step - loss: 0.2994 - sparse_categorical_accuracy: 0.8858 - val_loss: 0.2794 - val_sparse_categorical_accuracy: 0.8973\n",
            "Epoch 184/200\n",
            "422/422 [==============================] - 13s 30ms/step - loss: 0.2961 - sparse_categorical_accuracy: 0.8880 - val_loss: 0.2756 - val_sparse_categorical_accuracy: 0.8973\n",
            "Epoch 185/200\n",
            "422/422 [==============================] - 13s 30ms/step - loss: 0.2997 - sparse_categorical_accuracy: 0.8866 - val_loss: 0.2719 - val_sparse_categorical_accuracy: 0.9015\n",
            "Epoch 186/200\n",
            "422/422 [==============================] - 12s 30ms/step - loss: 0.2989 - sparse_categorical_accuracy: 0.8869 - val_loss: 0.2720 - val_sparse_categorical_accuracy: 0.9007\n",
            "Epoch 187/200\n",
            "422/422 [==============================] - 12s 29ms/step - loss: 0.2930 - sparse_categorical_accuracy: 0.8899 - val_loss: 0.2751 - val_sparse_categorical_accuracy: 0.9030\n",
            "Epoch 188/200\n",
            "422/422 [==============================] - 13s 31ms/step - loss: 0.2946 - sparse_categorical_accuracy: 0.8887 - val_loss: 0.2759 - val_sparse_categorical_accuracy: 0.9000\n",
            "Epoch 189/200\n",
            "422/422 [==============================] - 13s 30ms/step - loss: 0.2976 - sparse_categorical_accuracy: 0.8865 - val_loss: 0.2717 - val_sparse_categorical_accuracy: 0.8995\n",
            "Epoch 190/200\n",
            "422/422 [==============================] - 13s 30ms/step - loss: 0.2940 - sparse_categorical_accuracy: 0.8875 - val_loss: 0.2737 - val_sparse_categorical_accuracy: 0.8992\n",
            "Epoch 191/200\n",
            "422/422 [==============================] - 13s 30ms/step - loss: 0.2968 - sparse_categorical_accuracy: 0.8886 - val_loss: 0.2724 - val_sparse_categorical_accuracy: 0.9022\n",
            "Epoch 192/200\n",
            "422/422 [==============================] - 12s 29ms/step - loss: 0.2993 - sparse_categorical_accuracy: 0.8863 - val_loss: 0.2696 - val_sparse_categorical_accuracy: 0.8998\n",
            "Epoch 193/200\n",
            "422/422 [==============================] - 12s 29ms/step - loss: 0.2981 - sparse_categorical_accuracy: 0.8870 - val_loss: 0.2672 - val_sparse_categorical_accuracy: 0.9005\n",
            "Epoch 194/200\n",
            "422/422 [==============================] - 12s 28ms/step - loss: 0.2918 - sparse_categorical_accuracy: 0.8891 - val_loss: 0.2774 - val_sparse_categorical_accuracy: 0.8965\n",
            "Epoch 195/200\n",
            "422/422 [==============================] - 12s 29ms/step - loss: 0.2968 - sparse_categorical_accuracy: 0.8897 - val_loss: 0.2783 - val_sparse_categorical_accuracy: 0.8985\n",
            "Epoch 196/200\n",
            "422/422 [==============================] - 12s 29ms/step - loss: 0.2995 - sparse_categorical_accuracy: 0.8871 - val_loss: 0.2715 - val_sparse_categorical_accuracy: 0.9003\n",
            "Epoch 197/200\n",
            "422/422 [==============================] - 13s 30ms/step - loss: 0.2959 - sparse_categorical_accuracy: 0.8888 - val_loss: 0.2694 - val_sparse_categorical_accuracy: 0.9012\n",
            "Epoch 198/200\n",
            "422/422 [==============================] - 12s 30ms/step - loss: 0.2965 - sparse_categorical_accuracy: 0.8876 - val_loss: 0.2714 - val_sparse_categorical_accuracy: 0.9002\n",
            "Epoch 199/200\n",
            "422/422 [==============================] - 12s 29ms/step - loss: 0.2949 - sparse_categorical_accuracy: 0.8887 - val_loss: 0.2713 - val_sparse_categorical_accuracy: 0.9003\n",
            "Epoch 200/200\n",
            "422/422 [==============================] - 12s 29ms/step - loss: 0.2929 - sparse_categorical_accuracy: 0.8893 - val_loss: 0.2709 - val_sparse_categorical_accuracy: 0.8990\n",
            "313/313 [==============================] - 1s 4ms/step - loss: 0.2940 - sparse_categorical_accuracy: 0.8927\n",
            "\n",
            "Test accuracy: 0.8927000164985657\n"
          ]
        }
      ]
    },
    {
      "cell_type": "code",
      "source": [
        "print('\\nhistory dict:', list(history.history.keys()))"
      ],
      "metadata": {
        "id": "CxRE-B_Q6Sii",
        "outputId": "55048958-013e-4af6-c1cc-6a96439eecdb",
        "colab": {
          "base_uri": "https://localhost:8080/"
        }
      },
      "execution_count": 90,
      "outputs": [
        {
          "output_type": "stream",
          "name": "stdout",
          "text": [
            "\n",
            "history dict: ['loss', 'sparse_categorical_accuracy', 'val_loss', 'val_sparse_categorical_accuracy']\n"
          ]
        }
      ]
    },
    {
      "cell_type": "code",
      "source": [
        "result = model.evaluate(x_test, y_test)\n",
        "print(result)"
      ],
      "metadata": {
        "id": "YXpwRRTvTBNg",
        "outputId": "ceafb8b9-170b-45ad-dc75-43b537254945",
        "colab": {
          "base_uri": "https://localhost:8080/"
        }
      },
      "execution_count": 91,
      "outputs": [
        {
          "output_type": "stream",
          "name": "stdout",
          "text": [
            "313/313 [==============================] - 2s 7ms/step - loss: 0.2940 - sparse_categorical_accuracy: 0.8927\n",
            "[0.29402637481689453, 0.8927000164985657]\n"
          ]
        }
      ]
    },
    {
      "cell_type": "code",
      "source": [
        "saved_model = load_model('best_model.h5')\n",
        "result = saved_model.evaluate(x_test, y_test)\n",
        "print(result)"
      ],
      "metadata": {
        "id": "dpaZAW0vp1AZ",
        "outputId": "16458f01-4009-493f-8f24-02a4cab84393",
        "colab": {
          "base_uri": "https://localhost:8080/"
        }
      },
      "execution_count": 92,
      "outputs": [
        {
          "output_type": "stream",
          "name": "stdout",
          "text": [
            "313/313 [==============================] - 2s 4ms/step - loss: 0.3000 - sparse_categorical_accuracy: 0.8921\n",
            "[0.29998907446861267, 0.8920999765396118]\n"
          ]
        }
      ]
    },
    {
      "cell_type": "code",
      "source": [
        "# from keras.models import load_model\n",
        "# saved_model = load_model('best_model.h5')\n",
        "# # _, train_acc = saved_model.evaluate(x_train, y_train, verbose=0)\n",
        "# _, test_acc = saved_model.evaluate(x_test, y_test, verbose=0)\n",
        "# print('Test: %.3f' % (test_acc))"
      ],
      "metadata": {
        "id": "DR_MS9DABo_K"
      },
      "execution_count": 93,
      "outputs": []
    },
    {
      "cell_type": "code",
      "source": [
        "history_dict = history.history\n",
        "loss_values = history_dict['loss']\n",
        "val_loss_values = history_dict['val_loss']\n",
        "\n",
        "epochs = range(1, len(history_dict['loss']) + 1)\n",
        "\n",
        "plt.figure(figsize=(10, 5))\n",
        "plt.plot(epochs, loss_values, 'bo', label='Training loss')\n",
        "plt.plot(epochs, val_loss_values, 'r', label='Validation loss')\n",
        "plt.ylim (0.2, 0.5)\n",
        "plt.title('Training and validation loss')\n",
        "plt.xlabel('Epochs')\n",
        "plt.ylabel('Loss')\n",
        "plt.legend()\n",
        "plt.grid(True)\n",
        "plt.show()\n",
        "1\n",
        "plt.clf()\n",
        "plt.figure(figsize=(10, 5))\n",
        "val_acc_values = history_dict['sparse_categorical_accuracy']\n",
        "plt.plot(epochs, history_dict['sparse_categorical_accuracy'], 'bo', label='Training acc')\n",
        "plt.plot(epochs, history_dict['val_sparse_categorical_accuracy'], 'r', label='Validation acc')\n",
        "plt.ylim (0.84, 0.94)\n",
        "plt.title('Training and validation accuracy')\n",
        "plt.xlabel('Epochs')\n",
        "plt.ylabel('Accuracy')\n",
        "plt.legend()\n",
        "plt.grid(True)"
      ],
      "metadata": {
        "id": "2Ll_5sGlXKMH",
        "outputId": "5e90973e-31eb-44c1-8759-185464cd5382",
        "colab": {
          "base_uri": "https://localhost:8080/",
          "height": 975
        }
      },
      "execution_count": 94,
      "outputs": [
        {
          "output_type": "display_data",
          "data": {
            "text/plain": [
              "<Figure size 1000x500 with 1 Axes>"
            ],
            "image/png": "[encoded data removed]"
          },
          "metadata": {}
        },
        {
          "output_type": "display_data",
          "data": {
            "text/plain": [
              "<Figure size 640x480 with 0 Axes>"
            ]
          },
          "metadata": {}
        },
        {
          "output_type": "display_data",
          "data": {
            "text/plain": [
              "<Figure size 1000x500 with 1 Axes>"
            ],
            "image/png": "[encoded data removed]"
          },
          "metadata": {}
        }
      ]
    },
    {
      "cell_type": "code",
      "source": [
        "probability_model = tf.keras.Sequential([model,\n",
        "                                         tf.keras.layers.Softmax()])"
      ],
      "metadata": {
        "id": "VzOdKAT_uV-f"
      },
      "execution_count": 95,
      "outputs": []
    },
    {
      "cell_type": "code",
      "source": [
        "predictions = probability_model.predict(x_test)"
      ],
      "metadata": {
        "id": "f4is3NFruYom",
        "outputId": "92a0e476-5f36-4c5d-a662-72c0c4492a92",
        "colab": {
          "base_uri": "https://localhost:8080/"
        }
      },
      "execution_count": 96,
      "outputs": [
        {
          "output_type": "stream",
          "name": "stdout",
          "text": [
            "313/313 [==============================] - 1s 4ms/step\n"
          ]
        }
      ]
    },
    {
      "cell_type": "code",
      "source": [
        "predictions[0]"
      ],
      "metadata": {
        "id": "82cigvlZudz_",
        "outputId": "81225a9d-4505-424a-86d3-7833f624b59c",
        "colab": {
          "base_uri": "https://localhost:8080/"
        }
      },
      "execution_count": 97,
      "outputs": [
        {
          "output_type": "execute_result",
          "data": {
            "text/plain": [
              "array([0.08536693, 0.08536693, 0.08536693, 0.08536693, 0.08536693,\n",
              "       0.08537125, 0.08536693, 0.08556917, 0.08536693, 0.23149112],\n",
              "      dtype=float32)"
            ]
          },
          "metadata": {},
          "execution_count": 97
        }
      ]
    },
    {
      "cell_type": "code",
      "source": [
        "model.summary()"
      ],
      "metadata": {
        "id": "6RsQPHyYuNGe",
        "outputId": "deff0dac-d1ba-4fd3-db77-15f80226eaf6",
        "colab": {
          "base_uri": "https://localhost:8080/"
        }
      },
      "execution_count": 98,
      "outputs": [
        {
          "output_type": "stream",
          "name": "stdout",
          "text": [
            "Model: \"sequential_6\"\n",
            "_________________________________________________________________\n",
            " Layer (type)                Output Shape              Param #   \n",
            "=================================================================\n",
            " flatten_3 (Flatten)         (None, 784)               0         \n",
            "                                                                 \n",
            " dropout_9 (Dropout)         (None, 784)               0         \n",
            "                                                                 \n",
            " batch_normalization_9 (Bat  (None, 784)               3136      \n",
            " chNormalization)                                                \n",
            "                                                                 \n",
            " dense_12 (Dense)            (None, 256)               200960    \n",
            "                                                                 \n",
            " dropout_10 (Dropout)        (None, 256)               0         \n",
            "                                                                 \n",
            " batch_normalization_10 (Ba  (None, 256)               1024      \n",
            " tchNormalization)                                               \n",
            "                                                                 \n",
            " dense_13 (Dense)            (None, 512)               131584    \n",
            "                                                                 \n",
            " dropout_11 (Dropout)        (None, 512)               0         \n",
            "                                                                 \n",
            " batch_normalization_11 (Ba  (None, 512)               2048      \n",
            " tchNormalization)                                               \n",
            "                                                                 \n",
            " dense_14 (Dense)            (None, 512)               262656    \n",
            "                                                                 \n",
            " dropout_12 (Dropout)        (None, 512)               0         \n",
            "                                                                 \n",
            " dense_15 (Dense)            (None, 10)                5130      \n",
            "                                                                 \n",
            "=================================================================\n",
            "Total params: 606538 (2.31 MB)\n",
            "Trainable params: 603434 (2.30 MB)\n",
            "Non-trainable params: 3104 (12.12 KB)\n",
            "_________________________________________________________________\n"
          ]
        }
      ]
    },
    {
      "cell_type": "code",
      "source": [
        "hnyetjn hrte()"
      ],
      "metadata": {
        "id": "S4hcxZttmp-0",
        "outputId": "ee26be50-db6c-4fec-d223-79e78c76e9f2",
        "colab": {
          "base_uri": "https://localhost:8080/",
          "height": 143
        }
      },
      "execution_count": 99,
      "outputs": [
        {
          "output_type": "error",
          "ename": "SyntaxError",
          "evalue": "invalid syntax (<ipython-input-99-1a3818e70946>, line 1)",
          "traceback": [
            "\u001b[0;36m  File \u001b[0;32m\"<ipython-input-99-1a3818e70946>\"\u001b[0;36m, line \u001b[0;32m1\u001b[0m\n\u001b[0;31m    hnyetjn hrte()\u001b[0m\n\u001b[0m            ^\u001b[0m\n\u001b[0;31mSyntaxError\u001b[0m\u001b[0;31m:\u001b[0m invalid syntax\n"
          ]
        }
      ]
    }
  ]
}