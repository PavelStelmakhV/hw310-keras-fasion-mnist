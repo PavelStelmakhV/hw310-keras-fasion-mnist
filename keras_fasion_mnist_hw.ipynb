{
  "nbformat": 4,
  "nbformat_minor": 0,
  "metadata": {
    "colab": {
      "provenance": [],
      "gpuType": "T4",
      "authorship_tag": "ABX9TyMo2+QgF8kUAerE2yk2rCfw",
      "include_colab_link": true
    },
    "kernelspec": {
      "name": "python3",
      "display_name": "Python 3"
    },
    "language_info": {
      "name": "python"
    },
    "accelerator": "GPU"
  },
  "cells": [
    {
      "cell_type": "markdown",
      "metadata": {
        "id": "view-in-github",
        "colab_type": "text"
      },
      "source": [
        "<a href=\"https://colab.research.google.com/github/PavelStelmakhV/hw310-keras-fasion-mnist/blob/main/keras_fasion_mnist_hw.ipynb\" target=\"_parent\"><img src=\"https://colab.research.google.com/assets/colab-badge.svg\" alt=\"Open In Colab\"/></a>"
      ]
    },
    {
      "cell_type": "code",
      "execution_count": 45,
      "metadata": {
        "id": "vv7w0bgAVQPO"
      },
      "outputs": [],
      "source": [
        "import tensorflow as tf\n",
        "import numpy as np\n",
        "import matplotlib.pyplot as plt\n",
        "\n",
        "from keras import layers\n",
        "from keras import regularizers\n",
        "from keras import callbacks\n",
        "from keras import initializers\n",
        "from keras.layers import BatchNormalization\n",
        "from keras.models import load_model"
      ]
    },
    {
      "cell_type": "code",
      "source": [
        "fashion_mnist = tf.keras.datasets.fashion_mnist\n",
        "\n",
        "(x_train, y_train), (x_test, y_test) = fashion_mnist.load_data()"
      ],
      "metadata": {
        "id": "mOpywsNAzfGB"
      },
      "execution_count": 46,
      "outputs": []
    },
    {
      "cell_type": "code",
      "source": [
        "# x_train = x_train.reshape(60000, 784).astype('float32') / 255\n",
        "# x_test = x_test.reshape(10000, 784).astype('float32') / 255\n",
        "x_train = x_train.astype('float32') / 255\n",
        "x_test = x_test.astype('float32') / 255\n",
        "\n",
        "y_train = y_train.astype('float32')\n",
        "y_test = y_test.astype('float32')\n",
        "\n",
        "# Перемешаем тренировочные данные\n",
        "# train_data = tf.data.Dataset.from_tensor_slices((x_train, y_train))\n",
        "# train_data = train_data.repeat().shuffle(5000).batch(batch_size).prefetch(1)"
      ],
      "metadata": {
        "id": "t2gucjsJ0KUi"
      },
      "execution_count": 47,
      "outputs": []
    },
    {
      "cell_type": "code",
      "source": [
        "# x_val = x_train[-10000:]\n",
        "# y_val = y_train[-10000:]\n",
        "# x_train = x_train[:-10000]\n",
        "# y_train = y_train[:-10000]"
      ],
      "metadata": {
        "id": "fLPNXab5dHwO"
      },
      "execution_count": 48,
      "outputs": []
    },
    {
      "cell_type": "code",
      "source": [],
      "metadata": {
        "id": "bU5TK5YdlnU5"
      },
      "execution_count": 48,
      "outputs": []
    },
    {
      "cell_type": "code",
      "source": [
        "w_init_tanh = initializers.glorot_normal(seed=42)\n",
        "w_init_relu = initializers.HeNormal(seed=42)\n",
        "b_init = initializers.Zeros()"
      ],
      "metadata": {
        "id": "yL9QTEtBGy4N"
      },
      "execution_count": 49,
      "outputs": []
    },
    {
      "cell_type": "code",
      "source": [
        "def layer_relu(model, neurons):\n",
        "  model.add(BatchNormalization())\n",
        "  model.add(layers.Dense(neurons,\n",
        "                       activation='relu',\n",
        "                       kernel_initializer=w_init_relu,\n",
        "                       bias_initializer=b_init))\n",
        "  model.add(layers.Dropout(drop_out))\n",
        "  return model"
      ],
      "metadata": {
        "id": "ZZgs_25rKBCp"
      },
      "execution_count": 50,
      "outputs": []
    },
    {
      "cell_type": "code",
      "source": [
        "def layer_tanh(model, neurons):\n",
        "  model.add(BatchNormalization())\n",
        "  model.add(layers.Dense(neurons,\n",
        "                        activation='tanh',\n",
        "                        kernel_initializer=w_init_tanh,\n",
        "                        bias_initializer=b_init))\n",
        "  model.add(layers.Dropout(drop_out))\n",
        "  return model"
      ],
      "metadata": {
        "id": "90JLLnkBR50t"
      },
      "execution_count": 51,
      "outputs": []
    },
    {
      "cell_type": "code",
      "source": [
        "model = tf.keras.Sequential()\n",
        "\n",
        "drop_out = 0.30\n",
        "lern_rat = 0.001\n",
        "neurons = 256\n",
        "\n",
        "model.add(layers.Flatten(input_shape=(28, 28)))\n",
        "model.add(layers.Dropout(drop_out))\n",
        "\n",
        "model = layer_tanh(model, neurons*1)\n",
        "model = layer_tanh(model, neurons*1)\n",
        "model = layer_relu(model, neurons*2)\n",
        "model = layer_relu(model, neurons*2)\n",
        "\n",
        "model.add(layers.Dense(10, activation='softmax'))"
      ],
      "metadata": {
        "id": "atS39i4d0aqW"
      },
      "execution_count": 52,
      "outputs": []
    },
    {
      "cell_type": "code",
      "source": [],
      "metadata": {
        "id": "EzfnaqIZlfy8"
      },
      "execution_count": 52,
      "outputs": []
    },
    {
      "cell_type": "code",
      "source": [
        "model.compile(#optimizer='adam',\n",
        "              # optimizer='adamax',\n",
        "              optimizer='nadam',\n",
        "              # optimizer='rmsprop',\n",
        "              # optimizer='sgd',\n",
        "              # optimizer='adadelta',\n",
        "              # loss='binary_crossentropy',\n",
        "              loss=tf.keras.losses.SparseCategoricalCrossentropy(),\n",
        "              metrics=['sparse_categorical_accuracy']) # sparse_categorical_accuracy"
      ],
      "metadata": {
        "id": "hENVaAC7ilNY"
      },
      "execution_count": 53,
      "outputs": []
    },
    {
      "cell_type": "code",
      "source": [
        "x = np.random.random((1, 28, 28))\n",
        "a = model.predict(x)\n",
        "_ = plt.hist(np.transpose(a))"
      ],
      "metadata": {
        "id": "RFgZHNNFMa8p",
        "outputId": "64bad333-43e4-4832-f3a9-23fbb03dd1bf",
        "colab": {
          "base_uri": "https://localhost:8080/",
          "height": 448
        }
      },
      "execution_count": 54,
      "outputs": [
        {
          "output_type": "stream",
          "name": "stdout",
          "text": [
            "1/1 [==============================] - 0s 133ms/step\n"
          ]
        },
        {
          "output_type": "display_data",
          "data": {
            "text/plain": [
              "<Figure size 640x480 with 1 Axes>"
            ],
            "image/png": "[encoded data removed]"
          },
          "metadata": {}
        }
      ]
    },
    {
      "cell_type": "code",
      "source": [
        "y_pred = model.predict(x_test)"
      ],
      "metadata": {
        "id": "UDP8OKKZ8oQa",
        "outputId": "b7c5736f-58c6-410b-be65-809fbf36d242",
        "colab": {
          "base_uri": "https://localhost:8080/"
        }
      },
      "execution_count": 55,
      "outputs": [
        {
          "output_type": "stream",
          "name": "stdout",
          "text": [
            "313/313 [==============================] - 1s 2ms/step\n"
          ]
        }
      ]
    },
    {
      "cell_type": "code",
      "source": [
        "callback = callbacks.EarlyStopping(monitor='val_loss',\n",
        "                                   patience=50,\n",
        "                                   restore_best_weights=True,\n",
        "                                   )\n",
        "es = callbacks.EarlyStopping(monitor='val_loss', mode='min', verbose=1, patience=200)\n",
        "mc = callbacks.ModelCheckpoint('best_model.h5', monitor='sparse_categorical_accuracy', mode='max', verbose=0, save_best_only=True)\n"
      ],
      "metadata": {
        "id": "5ihU4exVlsjm"
      },
      "execution_count": 56,
      "outputs": []
    },
    {
      "cell_type": "code",
      "source": [
        "history = model.fit(x_train, y_train,\n",
        "                    epochs=150,\n",
        "                    batch_size=128,\n",
        "                    # callbacks=[callback],\n",
        "                    callbacks=[mc],\n",
        "                    verbose=1, #многословие\n",
        "                    validation_split=0.2\n",
        "                    # validation_data=(x_val, y_val)\n",
        "                    )\n",
        "test_loss, test_acc = model.evaluate(x_test, y_test)\n",
        "print('\\nTest accuracy:', test_acc)"
      ],
      "metadata": {
        "id": "FH8HcMNm233I",
        "outputId": "5ce9d740-5b4d-4f33-fed5-4fe358dc1150",
        "colab": {
          "base_uri": "https://localhost:8080/"
        }
      },
      "execution_count": 57,
      "outputs": [
        {
          "output_type": "stream",
          "name": "stdout",
          "text": [
            "Epoch 1/150\n",
            "375/375 [==============================] - 7s 8ms/step - loss: 0.8133 - sparse_categorical_accuracy: 0.7172 - val_loss: 0.4551 - val_sparse_categorical_accuracy: 0.8384\n",
            "Epoch 2/150\n",
            "375/375 [==============================] - 3s 7ms/step - loss: 0.5555 - sparse_categorical_accuracy: 0.7967 - val_loss: 0.4223 - val_sparse_categorical_accuracy: 0.8493\n",
            "Epoch 3/150\n",
            "375/375 [==============================] - 3s 8ms/step - loss: 0.5049 - sparse_categorical_accuracy: 0.8161 - val_loss: 0.4207 - val_sparse_categorical_accuracy: 0.8464\n",
            "Epoch 4/150\n",
            "375/375 [==============================] - 3s 7ms/step - loss: 0.4751 - sparse_categorical_accuracy: 0.8244 - val_loss: 0.3888 - val_sparse_categorical_accuracy: 0.8589\n",
            "Epoch 5/150\n",
            "375/375 [==============================] - 3s 7ms/step - loss: 0.4578 - sparse_categorical_accuracy: 0.8321 - val_loss: 0.3813 - val_sparse_categorical_accuracy: 0.8612\n",
            "Epoch 6/150\n",
            "375/375 [==============================] - 3s 7ms/step - loss: 0.4449 - sparse_categorical_accuracy: 0.8364 - val_loss: 0.3732 - val_sparse_categorical_accuracy: 0.8637\n",
            "Epoch 7/150\n",
            "375/375 [==============================] - 3s 8ms/step - loss: 0.4325 - sparse_categorical_accuracy: 0.8411 - val_loss: 0.3608 - val_sparse_categorical_accuracy: 0.8705\n",
            "Epoch 8/150\n",
            "375/375 [==============================] - 3s 8ms/step - loss: 0.4275 - sparse_categorical_accuracy: 0.8415 - val_loss: 0.3638 - val_sparse_categorical_accuracy: 0.8698\n",
            "Epoch 9/150\n",
            "375/375 [==============================] - 3s 7ms/step - loss: 0.4182 - sparse_categorical_accuracy: 0.8445 - val_loss: 0.3424 - val_sparse_categorical_accuracy: 0.8763\n",
            "Epoch 10/150\n",
            "375/375 [==============================] - 3s 7ms/step - loss: 0.4128 - sparse_categorical_accuracy: 0.8479 - val_loss: 0.3505 - val_sparse_categorical_accuracy: 0.8717\n",
            "Epoch 11/150\n",
            "375/375 [==============================] - 3s 7ms/step - loss: 0.4056 - sparse_categorical_accuracy: 0.8495 - val_loss: 0.3340 - val_sparse_categorical_accuracy: 0.8769\n",
            "Epoch 12/150\n",
            "375/375 [==============================] - 4s 10ms/step - loss: 0.4035 - sparse_categorical_accuracy: 0.8526 - val_loss: 0.3454 - val_sparse_categorical_accuracy: 0.8718\n",
            "Epoch 13/150\n",
            "375/375 [==============================] - 3s 8ms/step - loss: 0.3933 - sparse_categorical_accuracy: 0.8552 - val_loss: 0.3400 - val_sparse_categorical_accuracy: 0.8780\n",
            "Epoch 14/150\n",
            "375/375 [==============================] - 3s 7ms/step - loss: 0.3953 - sparse_categorical_accuracy: 0.8529 - val_loss: 0.3306 - val_sparse_categorical_accuracy: 0.8777\n",
            "Epoch 15/150\n",
            "375/375 [==============================] - 3s 7ms/step - loss: 0.3851 - sparse_categorical_accuracy: 0.8580 - val_loss: 0.3334 - val_sparse_categorical_accuracy: 0.8781\n",
            "Epoch 16/150\n",
            "375/375 [==============================] - 3s 8ms/step - loss: 0.3823 - sparse_categorical_accuracy: 0.8576 - val_loss: 0.3304 - val_sparse_categorical_accuracy: 0.8800\n",
            "Epoch 17/150\n",
            "375/375 [==============================] - 3s 7ms/step - loss: 0.3802 - sparse_categorical_accuracy: 0.8577 - val_loss: 0.3336 - val_sparse_categorical_accuracy: 0.8778\n",
            "Epoch 18/150\n",
            "375/375 [==============================] - 3s 7ms/step - loss: 0.3756 - sparse_categorical_accuracy: 0.8593 - val_loss: 0.3224 - val_sparse_categorical_accuracy: 0.8802\n",
            "Epoch 19/150\n",
            "375/375 [==============================] - 3s 7ms/step - loss: 0.3743 - sparse_categorical_accuracy: 0.8614 - val_loss: 0.3146 - val_sparse_categorical_accuracy: 0.8858\n",
            "Epoch 20/150\n",
            "375/375 [==============================] - 3s 8ms/step - loss: 0.3735 - sparse_categorical_accuracy: 0.8609 - val_loss: 0.3228 - val_sparse_categorical_accuracy: 0.8850\n",
            "Epoch 21/150\n",
            "375/375 [==============================] - 3s 7ms/step - loss: 0.3696 - sparse_categorical_accuracy: 0.8617 - val_loss: 0.3212 - val_sparse_categorical_accuracy: 0.8830\n",
            "Epoch 22/150\n",
            "375/375 [==============================] - 3s 7ms/step - loss: 0.3666 - sparse_categorical_accuracy: 0.8646 - val_loss: 0.3233 - val_sparse_categorical_accuracy: 0.8844\n",
            "Epoch 23/150\n",
            "375/375 [==============================] - 3s 7ms/step - loss: 0.3695 - sparse_categorical_accuracy: 0.8625 - val_loss: 0.3157 - val_sparse_categorical_accuracy: 0.8841\n",
            "Epoch 24/150\n",
            "375/375 [==============================] - 3s 8ms/step - loss: 0.3629 - sparse_categorical_accuracy: 0.8654 - val_loss: 0.3173 - val_sparse_categorical_accuracy: 0.8835\n",
            "Epoch 25/150\n",
            "375/375 [==============================] - 3s 8ms/step - loss: 0.3604 - sparse_categorical_accuracy: 0.8640 - val_loss: 0.3192 - val_sparse_categorical_accuracy: 0.8798\n",
            "Epoch 26/150\n",
            "375/375 [==============================] - 3s 7ms/step - loss: 0.3608 - sparse_categorical_accuracy: 0.8657 - val_loss: 0.3174 - val_sparse_categorical_accuracy: 0.8852\n",
            "Epoch 27/150\n",
            "375/375 [==============================] - 3s 7ms/step - loss: 0.3571 - sparse_categorical_accuracy: 0.8676 - val_loss: 0.3163 - val_sparse_categorical_accuracy: 0.8854\n",
            "Epoch 28/150\n",
            "375/375 [==============================] - 3s 7ms/step - loss: 0.3516 - sparse_categorical_accuracy: 0.8699 - val_loss: 0.3110 - val_sparse_categorical_accuracy: 0.8867\n",
            "Epoch 29/150\n",
            "375/375 [==============================] - 3s 8ms/step - loss: 0.3506 - sparse_categorical_accuracy: 0.8714 - val_loss: 0.3019 - val_sparse_categorical_accuracy: 0.8889\n",
            "Epoch 30/150\n",
            "375/375 [==============================] - 3s 7ms/step - loss: 0.3487 - sparse_categorical_accuracy: 0.8692 - val_loss: 0.3069 - val_sparse_categorical_accuracy: 0.8872\n",
            "Epoch 31/150\n",
            "375/375 [==============================] - 3s 7ms/step - loss: 0.3467 - sparse_categorical_accuracy: 0.8703 - val_loss: 0.3070 - val_sparse_categorical_accuracy: 0.8882\n",
            "Epoch 32/150\n",
            "375/375 [==============================] - 3s 7ms/step - loss: 0.3487 - sparse_categorical_accuracy: 0.8686 - val_loss: 0.3053 - val_sparse_categorical_accuracy: 0.8892\n",
            "Epoch 33/150\n",
            "375/375 [==============================] - 3s 8ms/step - loss: 0.3449 - sparse_categorical_accuracy: 0.8709 - val_loss: 0.3104 - val_sparse_categorical_accuracy: 0.8909\n",
            "Epoch 34/150\n",
            "375/375 [==============================] - 3s 7ms/step - loss: 0.3449 - sparse_categorical_accuracy: 0.8710 - val_loss: 0.3107 - val_sparse_categorical_accuracy: 0.8878\n",
            "Epoch 35/150\n",
            "375/375 [==============================] - 3s 7ms/step - loss: 0.3410 - sparse_categorical_accuracy: 0.8728 - val_loss: 0.3096 - val_sparse_categorical_accuracy: 0.8894\n",
            "Epoch 36/150\n",
            "375/375 [==============================] - 3s 7ms/step - loss: 0.3431 - sparse_categorical_accuracy: 0.8729 - val_loss: 0.3033 - val_sparse_categorical_accuracy: 0.8909\n",
            "Epoch 37/150\n",
            "375/375 [==============================] - 3s 8ms/step - loss: 0.3412 - sparse_categorical_accuracy: 0.8733 - val_loss: 0.3094 - val_sparse_categorical_accuracy: 0.8878\n",
            "Epoch 38/150\n",
            "375/375 [==============================] - 3s 7ms/step - loss: 0.3398 - sparse_categorical_accuracy: 0.8724 - val_loss: 0.3099 - val_sparse_categorical_accuracy: 0.8877\n",
            "Epoch 39/150\n",
            "375/375 [==============================] - 3s 7ms/step - loss: 0.3410 - sparse_categorical_accuracy: 0.8727 - val_loss: 0.3092 - val_sparse_categorical_accuracy: 0.8861\n",
            "Epoch 40/150\n",
            "375/375 [==============================] - 3s 7ms/step - loss: 0.3401 - sparse_categorical_accuracy: 0.8735 - val_loss: 0.3089 - val_sparse_categorical_accuracy: 0.8881\n",
            "Epoch 41/150\n",
            "375/375 [==============================] - 3s 7ms/step - loss: 0.3353 - sparse_categorical_accuracy: 0.8731 - val_loss: 0.3060 - val_sparse_categorical_accuracy: 0.8887\n",
            "Epoch 42/150\n",
            "375/375 [==============================] - 3s 8ms/step - loss: 0.3413 - sparse_categorical_accuracy: 0.8734 - val_loss: 0.3049 - val_sparse_categorical_accuracy: 0.8867\n",
            "Epoch 43/150\n",
            "375/375 [==============================] - 3s 7ms/step - loss: 0.3341 - sparse_categorical_accuracy: 0.8730 - val_loss: 0.3135 - val_sparse_categorical_accuracy: 0.8891\n",
            "Epoch 44/150\n",
            "375/375 [==============================] - 3s 8ms/step - loss: 0.3338 - sparse_categorical_accuracy: 0.8740 - val_loss: 0.2996 - val_sparse_categorical_accuracy: 0.8890\n",
            "Epoch 45/150\n",
            "375/375 [==============================] - 3s 7ms/step - loss: 0.3345 - sparse_categorical_accuracy: 0.8749 - val_loss: 0.3017 - val_sparse_categorical_accuracy: 0.8910\n",
            "Epoch 46/150\n",
            "375/375 [==============================] - 3s 8ms/step - loss: 0.3345 - sparse_categorical_accuracy: 0.8755 - val_loss: 0.3024 - val_sparse_categorical_accuracy: 0.8905\n",
            "Epoch 47/150\n",
            "375/375 [==============================] - 3s 7ms/step - loss: 0.3315 - sparse_categorical_accuracy: 0.8747 - val_loss: 0.3142 - val_sparse_categorical_accuracy: 0.8892\n",
            "Epoch 48/150\n",
            "375/375 [==============================] - 3s 7ms/step - loss: 0.3311 - sparse_categorical_accuracy: 0.8750 - val_loss: 0.3003 - val_sparse_categorical_accuracy: 0.8907\n",
            "Epoch 49/150\n",
            "375/375 [==============================] - 3s 7ms/step - loss: 0.3281 - sparse_categorical_accuracy: 0.8777 - val_loss: 0.2990 - val_sparse_categorical_accuracy: 0.8924\n",
            "Epoch 50/150\n",
            "375/375 [==============================] - 3s 8ms/step - loss: 0.3321 - sparse_categorical_accuracy: 0.8761 - val_loss: 0.2985 - val_sparse_categorical_accuracy: 0.8911\n",
            "Epoch 51/150\n",
            "375/375 [==============================] - 3s 8ms/step - loss: 0.3271 - sparse_categorical_accuracy: 0.8764 - val_loss: 0.2963 - val_sparse_categorical_accuracy: 0.8912\n",
            "Epoch 52/150\n",
            "375/375 [==============================] - 3s 7ms/step - loss: 0.3248 - sparse_categorical_accuracy: 0.8788 - val_loss: 0.2950 - val_sparse_categorical_accuracy: 0.8938\n",
            "Epoch 53/150\n",
            "375/375 [==============================] - 3s 7ms/step - loss: 0.3271 - sparse_categorical_accuracy: 0.8778 - val_loss: 0.3039 - val_sparse_categorical_accuracy: 0.8929\n",
            "Epoch 54/150\n",
            "375/375 [==============================] - 3s 7ms/step - loss: 0.3297 - sparse_categorical_accuracy: 0.8760 - val_loss: 0.2967 - val_sparse_categorical_accuracy: 0.8923\n",
            "Epoch 55/150\n",
            "375/375 [==============================] - 3s 8ms/step - loss: 0.3272 - sparse_categorical_accuracy: 0.8772 - val_loss: 0.3025 - val_sparse_categorical_accuracy: 0.8900\n",
            "Epoch 56/150\n",
            "375/375 [==============================] - 3s 7ms/step - loss: 0.3257 - sparse_categorical_accuracy: 0.8779 - val_loss: 0.3013 - val_sparse_categorical_accuracy: 0.8917\n",
            "Epoch 57/150\n",
            "375/375 [==============================] - 3s 7ms/step - loss: 0.3243 - sparse_categorical_accuracy: 0.8767 - val_loss: 0.3018 - val_sparse_categorical_accuracy: 0.8907\n",
            "Epoch 58/150\n",
            "375/375 [==============================] - 3s 7ms/step - loss: 0.3222 - sparse_categorical_accuracy: 0.8788 - val_loss: 0.2966 - val_sparse_categorical_accuracy: 0.8928\n",
            "Epoch 59/150\n",
            "375/375 [==============================] - 3s 8ms/step - loss: 0.3234 - sparse_categorical_accuracy: 0.8788 - val_loss: 0.2960 - val_sparse_categorical_accuracy: 0.8921\n",
            "Epoch 60/150\n",
            "375/375 [==============================] - 3s 7ms/step - loss: 0.3194 - sparse_categorical_accuracy: 0.8789 - val_loss: 0.2923 - val_sparse_categorical_accuracy: 0.8935\n",
            "Epoch 61/150\n",
            "375/375 [==============================] - 3s 7ms/step - loss: 0.3210 - sparse_categorical_accuracy: 0.8781 - val_loss: 0.3035 - val_sparse_categorical_accuracy: 0.8916\n",
            "Epoch 62/150\n",
            "375/375 [==============================] - 3s 7ms/step - loss: 0.3203 - sparse_categorical_accuracy: 0.8804 - val_loss: 0.2947 - val_sparse_categorical_accuracy: 0.8948\n",
            "Epoch 63/150\n",
            "375/375 [==============================] - 3s 8ms/step - loss: 0.3193 - sparse_categorical_accuracy: 0.8805 - val_loss: 0.3035 - val_sparse_categorical_accuracy: 0.8934\n",
            "Epoch 64/150\n",
            "375/375 [==============================] - 3s 7ms/step - loss: 0.3171 - sparse_categorical_accuracy: 0.8808 - val_loss: 0.3048 - val_sparse_categorical_accuracy: 0.8918\n",
            "Epoch 65/150\n",
            "375/375 [==============================] - 3s 7ms/step - loss: 0.3171 - sparse_categorical_accuracy: 0.8784 - val_loss: 0.2904 - val_sparse_categorical_accuracy: 0.8951\n",
            "Epoch 66/150\n",
            "375/375 [==============================] - 3s 7ms/step - loss: 0.3167 - sparse_categorical_accuracy: 0.8796 - val_loss: 0.2978 - val_sparse_categorical_accuracy: 0.8917\n",
            "Epoch 67/150\n",
            "375/375 [==============================] - 3s 7ms/step - loss: 0.3182 - sparse_categorical_accuracy: 0.8811 - val_loss: 0.2926 - val_sparse_categorical_accuracy: 0.8942\n",
            "Epoch 68/150\n",
            "375/375 [==============================] - 3s 8ms/step - loss: 0.3173 - sparse_categorical_accuracy: 0.8798 - val_loss: 0.3032 - val_sparse_categorical_accuracy: 0.8931\n",
            "Epoch 69/150\n",
            "375/375 [==============================] - 3s 7ms/step - loss: 0.3196 - sparse_categorical_accuracy: 0.8793 - val_loss: 0.2997 - val_sparse_categorical_accuracy: 0.8928\n",
            "Epoch 70/150\n",
            "375/375 [==============================] - 3s 7ms/step - loss: 0.3186 - sparse_categorical_accuracy: 0.8795 - val_loss: 0.2921 - val_sparse_categorical_accuracy: 0.8937\n",
            "Epoch 71/150\n",
            "375/375 [==============================] - 3s 7ms/step - loss: 0.3139 - sparse_categorical_accuracy: 0.8819 - val_loss: 0.2956 - val_sparse_categorical_accuracy: 0.8928\n",
            "Epoch 72/150\n",
            "375/375 [==============================] - 3s 8ms/step - loss: 0.3156 - sparse_categorical_accuracy: 0.8814 - val_loss: 0.2912 - val_sparse_categorical_accuracy: 0.8937\n",
            "Epoch 73/150\n",
            "375/375 [==============================] - 3s 7ms/step - loss: 0.3152 - sparse_categorical_accuracy: 0.8808 - val_loss: 0.2930 - val_sparse_categorical_accuracy: 0.8920\n",
            "Epoch 74/150\n",
            "375/375 [==============================] - 3s 7ms/step - loss: 0.3173 - sparse_categorical_accuracy: 0.8816 - val_loss: 0.2950 - val_sparse_categorical_accuracy: 0.8926\n",
            "Epoch 75/150\n",
            "375/375 [==============================] - 3s 7ms/step - loss: 0.3117 - sparse_categorical_accuracy: 0.8818 - val_loss: 0.2939 - val_sparse_categorical_accuracy: 0.8932\n",
            "Epoch 76/150\n",
            "375/375 [==============================] - 3s 8ms/step - loss: 0.3146 - sparse_categorical_accuracy: 0.8816 - val_loss: 0.2907 - val_sparse_categorical_accuracy: 0.8938\n",
            "Epoch 77/150\n",
            "375/375 [==============================] - 3s 8ms/step - loss: 0.3139 - sparse_categorical_accuracy: 0.8827 - val_loss: 0.2943 - val_sparse_categorical_accuracy: 0.8929\n",
            "Epoch 78/150\n",
            "375/375 [==============================] - 3s 7ms/step - loss: 0.3172 - sparse_categorical_accuracy: 0.8811 - val_loss: 0.2923 - val_sparse_categorical_accuracy: 0.8953\n",
            "Epoch 79/150\n",
            "375/375 [==============================] - 3s 7ms/step - loss: 0.3143 - sparse_categorical_accuracy: 0.8810 - val_loss: 0.2910 - val_sparse_categorical_accuracy: 0.8931\n",
            "Epoch 80/150\n",
            "375/375 [==============================] - 3s 7ms/step - loss: 0.3141 - sparse_categorical_accuracy: 0.8820 - val_loss: 0.2886 - val_sparse_categorical_accuracy: 0.8965\n",
            "Epoch 81/150\n",
            "375/375 [==============================] - 3s 8ms/step - loss: 0.3078 - sparse_categorical_accuracy: 0.8833 - val_loss: 0.2967 - val_sparse_categorical_accuracy: 0.8959\n",
            "Epoch 82/150\n",
            "375/375 [==============================] - 3s 8ms/step - loss: 0.3111 - sparse_categorical_accuracy: 0.8832 - val_loss: 0.2936 - val_sparse_categorical_accuracy: 0.8935\n",
            "Epoch 83/150\n",
            "375/375 [==============================] - 3s 8ms/step - loss: 0.3106 - sparse_categorical_accuracy: 0.8826 - val_loss: 0.2927 - val_sparse_categorical_accuracy: 0.8937\n",
            "Epoch 84/150\n",
            "375/375 [==============================] - 3s 8ms/step - loss: 0.3119 - sparse_categorical_accuracy: 0.8836 - val_loss: 0.2924 - val_sparse_categorical_accuracy: 0.8939\n",
            "Epoch 85/150\n",
            "375/375 [==============================] - 3s 8ms/step - loss: 0.3104 - sparse_categorical_accuracy: 0.8811 - val_loss: 0.2969 - val_sparse_categorical_accuracy: 0.8941\n",
            "Epoch 86/150\n",
            "375/375 [==============================] - 3s 7ms/step - loss: 0.3066 - sparse_categorical_accuracy: 0.8851 - val_loss: 0.2943 - val_sparse_categorical_accuracy: 0.8952\n",
            "Epoch 87/150\n",
            "375/375 [==============================] - 3s 7ms/step - loss: 0.3090 - sparse_categorical_accuracy: 0.8848 - val_loss: 0.2984 - val_sparse_categorical_accuracy: 0.8913\n",
            "Epoch 88/150\n",
            "375/375 [==============================] - 3s 7ms/step - loss: 0.3073 - sparse_categorical_accuracy: 0.8842 - val_loss: 0.2890 - val_sparse_categorical_accuracy: 0.8937\n",
            "Epoch 89/150\n",
            "375/375 [==============================] - 3s 8ms/step - loss: 0.3076 - sparse_categorical_accuracy: 0.8838 - val_loss: 0.2919 - val_sparse_categorical_accuracy: 0.8950\n",
            "Epoch 90/150\n",
            "375/375 [==============================] - 3s 7ms/step - loss: 0.3104 - sparse_categorical_accuracy: 0.8812 - val_loss: 0.2895 - val_sparse_categorical_accuracy: 0.8942\n",
            "Epoch 91/150\n",
            "375/375 [==============================] - 3s 7ms/step - loss: 0.3052 - sparse_categorical_accuracy: 0.8846 - val_loss: 0.2927 - val_sparse_categorical_accuracy: 0.8949\n",
            "Epoch 92/150\n",
            "375/375 [==============================] - 3s 7ms/step - loss: 0.3036 - sparse_categorical_accuracy: 0.8850 - val_loss: 0.2961 - val_sparse_categorical_accuracy: 0.8952\n",
            "Epoch 93/150\n",
            "375/375 [==============================] - 3s 7ms/step - loss: 0.3071 - sparse_categorical_accuracy: 0.8848 - val_loss: 0.2920 - val_sparse_categorical_accuracy: 0.8953\n",
            "Epoch 94/150\n",
            "375/375 [==============================] - 3s 8ms/step - loss: 0.3077 - sparse_categorical_accuracy: 0.8832 - val_loss: 0.2921 - val_sparse_categorical_accuracy: 0.8942\n",
            "Epoch 95/150\n",
            "375/375 [==============================] - 3s 7ms/step - loss: 0.3053 - sparse_categorical_accuracy: 0.8849 - val_loss: 0.2926 - val_sparse_categorical_accuracy: 0.8956\n",
            "Epoch 96/150\n",
            "375/375 [==============================] - 3s 7ms/step - loss: 0.3037 - sparse_categorical_accuracy: 0.8856 - val_loss: 0.2877 - val_sparse_categorical_accuracy: 0.8963\n",
            "Epoch 97/150\n",
            "375/375 [==============================] - 3s 7ms/step - loss: 0.3047 - sparse_categorical_accuracy: 0.8859 - val_loss: 0.2929 - val_sparse_categorical_accuracy: 0.8954\n",
            "Epoch 98/150\n",
            "375/375 [==============================] - 3s 8ms/step - loss: 0.3082 - sparse_categorical_accuracy: 0.8851 - val_loss: 0.2951 - val_sparse_categorical_accuracy: 0.8937\n",
            "Epoch 99/150\n",
            "375/375 [==============================] - 3s 7ms/step - loss: 0.3052 - sparse_categorical_accuracy: 0.8844 - val_loss: 0.2922 - val_sparse_categorical_accuracy: 0.8937\n",
            "Epoch 100/150\n",
            "375/375 [==============================] - 3s 7ms/step - loss: 0.3009 - sparse_categorical_accuracy: 0.8857 - val_loss: 0.2846 - val_sparse_categorical_accuracy: 0.8960\n",
            "Epoch 101/150\n",
            "375/375 [==============================] - 3s 7ms/step - loss: 0.3006 - sparse_categorical_accuracy: 0.8853 - val_loss: 0.2860 - val_sparse_categorical_accuracy: 0.8974\n",
            "Epoch 102/150\n",
            "375/375 [==============================] - 3s 8ms/step - loss: 0.3037 - sparse_categorical_accuracy: 0.8848 - val_loss: 0.2872 - val_sparse_categorical_accuracy: 0.8955\n",
            "Epoch 103/150\n",
            "375/375 [==============================] - 3s 7ms/step - loss: 0.3011 - sparse_categorical_accuracy: 0.8863 - val_loss: 0.2916 - val_sparse_categorical_accuracy: 0.8981\n",
            "Epoch 104/150\n",
            "375/375 [==============================] - 3s 7ms/step - loss: 0.3021 - sparse_categorical_accuracy: 0.8865 - val_loss: 0.2906 - val_sparse_categorical_accuracy: 0.8976\n",
            "Epoch 105/150\n",
            "375/375 [==============================] - 3s 7ms/step - loss: 0.3036 - sparse_categorical_accuracy: 0.8856 - val_loss: 0.2901 - val_sparse_categorical_accuracy: 0.8955\n",
            "Epoch 106/150\n",
            "375/375 [==============================] - 3s 8ms/step - loss: 0.3059 - sparse_categorical_accuracy: 0.8854 - val_loss: 0.2972 - val_sparse_categorical_accuracy: 0.8960\n",
            "Epoch 107/150\n",
            "375/375 [==============================] - 3s 8ms/step - loss: 0.3038 - sparse_categorical_accuracy: 0.8851 - val_loss: 0.3036 - val_sparse_categorical_accuracy: 0.8921\n",
            "Epoch 108/150\n",
            "375/375 [==============================] - 3s 7ms/step - loss: 0.3000 - sparse_categorical_accuracy: 0.8869 - val_loss: 0.2878 - val_sparse_categorical_accuracy: 0.8969\n",
            "Epoch 109/150\n",
            "375/375 [==============================] - 3s 7ms/step - loss: 0.3023 - sparse_categorical_accuracy: 0.8864 - val_loss: 0.2882 - val_sparse_categorical_accuracy: 0.8959\n",
            "Epoch 110/150\n",
            "375/375 [==============================] - 3s 7ms/step - loss: 0.3017 - sparse_categorical_accuracy: 0.8866 - val_loss: 0.2935 - val_sparse_categorical_accuracy: 0.8937\n",
            "Epoch 111/150\n",
            "375/375 [==============================] - 3s 8ms/step - loss: 0.3026 - sparse_categorical_accuracy: 0.8871 - val_loss: 0.2869 - val_sparse_categorical_accuracy: 0.8956\n",
            "Epoch 112/150\n",
            "375/375 [==============================] - 3s 8ms/step - loss: 0.2984 - sparse_categorical_accuracy: 0.8876 - val_loss: 0.2996 - val_sparse_categorical_accuracy: 0.8931\n",
            "Epoch 113/150\n",
            "375/375 [==============================] - 3s 7ms/step - loss: 0.2958 - sparse_categorical_accuracy: 0.8893 - val_loss: 0.2883 - val_sparse_categorical_accuracy: 0.8949\n",
            "Epoch 114/150\n",
            "375/375 [==============================] - 3s 7ms/step - loss: 0.2987 - sparse_categorical_accuracy: 0.8880 - val_loss: 0.2856 - val_sparse_categorical_accuracy: 0.8963\n",
            "Epoch 115/150\n",
            "375/375 [==============================] - 3s 8ms/step - loss: 0.2968 - sparse_categorical_accuracy: 0.8876 - val_loss: 0.2886 - val_sparse_categorical_accuracy: 0.8981\n",
            "Epoch 116/150\n",
            "375/375 [==============================] - 3s 7ms/step - loss: 0.2966 - sparse_categorical_accuracy: 0.8874 - val_loss: 0.2915 - val_sparse_categorical_accuracy: 0.8946\n",
            "Epoch 117/150\n",
            "375/375 [==============================] - 3s 7ms/step - loss: 0.2970 - sparse_categorical_accuracy: 0.8883 - val_loss: 0.2869 - val_sparse_categorical_accuracy: 0.8974\n",
            "Epoch 118/150\n",
            "375/375 [==============================] - 3s 7ms/step - loss: 0.2988 - sparse_categorical_accuracy: 0.8890 - val_loss: 0.2843 - val_sparse_categorical_accuracy: 0.8957\n",
            "Epoch 119/150\n",
            "375/375 [==============================] - 3s 8ms/step - loss: 0.3001 - sparse_categorical_accuracy: 0.8859 - val_loss: 0.2942 - val_sparse_categorical_accuracy: 0.8983\n",
            "Epoch 120/150\n",
            "375/375 [==============================] - 3s 7ms/step - loss: 0.2975 - sparse_categorical_accuracy: 0.8873 - val_loss: 0.2893 - val_sparse_categorical_accuracy: 0.8990\n",
            "Epoch 121/150\n",
            "375/375 [==============================] - 3s 7ms/step - loss: 0.2987 - sparse_categorical_accuracy: 0.8891 - val_loss: 0.2892 - val_sparse_categorical_accuracy: 0.8984\n",
            "Epoch 122/150\n",
            "375/375 [==============================] - 3s 7ms/step - loss: 0.2971 - sparse_categorical_accuracy: 0.8892 - val_loss: 0.2893 - val_sparse_categorical_accuracy: 0.8967\n",
            "Epoch 123/150\n",
            "375/375 [==============================] - 3s 8ms/step - loss: 0.2970 - sparse_categorical_accuracy: 0.8868 - val_loss: 0.2835 - val_sparse_categorical_accuracy: 0.8958\n",
            "Epoch 124/150\n",
            "375/375 [==============================] - 3s 8ms/step - loss: 0.2950 - sparse_categorical_accuracy: 0.8879 - val_loss: 0.2905 - val_sparse_categorical_accuracy: 0.8975\n",
            "Epoch 125/150\n",
            "375/375 [==============================] - 3s 7ms/step - loss: 0.2945 - sparse_categorical_accuracy: 0.8885 - val_loss: 0.2852 - val_sparse_categorical_accuracy: 0.8982\n",
            "Epoch 126/150\n",
            "375/375 [==============================] - 3s 7ms/step - loss: 0.2959 - sparse_categorical_accuracy: 0.8871 - val_loss: 0.2925 - val_sparse_categorical_accuracy: 0.8943\n",
            "Epoch 127/150\n",
            "375/375 [==============================] - 3s 7ms/step - loss: 0.2950 - sparse_categorical_accuracy: 0.8881 - val_loss: 0.2872 - val_sparse_categorical_accuracy: 0.8951\n",
            "Epoch 128/150\n",
            "375/375 [==============================] - 3s 8ms/step - loss: 0.2949 - sparse_categorical_accuracy: 0.8883 - val_loss: 0.2941 - val_sparse_categorical_accuracy: 0.8944\n",
            "Epoch 129/150\n",
            "375/375 [==============================] - 3s 7ms/step - loss: 0.2937 - sparse_categorical_accuracy: 0.8888 - val_loss: 0.2882 - val_sparse_categorical_accuracy: 0.8952\n",
            "Epoch 130/150\n",
            "375/375 [==============================] - 3s 7ms/step - loss: 0.2951 - sparse_categorical_accuracy: 0.8880 - val_loss: 0.2852 - val_sparse_categorical_accuracy: 0.8971\n",
            "Epoch 131/150\n",
            "375/375 [==============================] - 3s 7ms/step - loss: 0.2962 - sparse_categorical_accuracy: 0.8895 - val_loss: 0.2850 - val_sparse_categorical_accuracy: 0.8954\n",
            "Epoch 132/150\n",
            "375/375 [==============================] - 3s 8ms/step - loss: 0.2956 - sparse_categorical_accuracy: 0.8884 - val_loss: 0.2887 - val_sparse_categorical_accuracy: 0.8984\n",
            "Epoch 133/150\n",
            "375/375 [==============================] - 3s 7ms/step - loss: 0.2913 - sparse_categorical_accuracy: 0.8892 - val_loss: 0.2910 - val_sparse_categorical_accuracy: 0.8959\n",
            "Epoch 134/150\n",
            "375/375 [==============================] - 3s 7ms/step - loss: 0.2938 - sparse_categorical_accuracy: 0.8895 - val_loss: 0.2850 - val_sparse_categorical_accuracy: 0.8974\n",
            "Epoch 135/150\n",
            "375/375 [==============================] - 3s 7ms/step - loss: 0.2942 - sparse_categorical_accuracy: 0.8895 - val_loss: 0.2857 - val_sparse_categorical_accuracy: 0.8974\n",
            "Epoch 136/150\n",
            "375/375 [==============================] - 3s 8ms/step - loss: 0.2936 - sparse_categorical_accuracy: 0.8894 - val_loss: 0.2855 - val_sparse_categorical_accuracy: 0.8964\n",
            "Epoch 137/150\n",
            "375/375 [==============================] - 3s 8ms/step - loss: 0.2922 - sparse_categorical_accuracy: 0.8904 - val_loss: 0.2891 - val_sparse_categorical_accuracy: 0.8972\n",
            "Epoch 138/150\n",
            "375/375 [==============================] - 3s 7ms/step - loss: 0.2933 - sparse_categorical_accuracy: 0.8892 - val_loss: 0.2928 - val_sparse_categorical_accuracy: 0.8967\n",
            "Epoch 139/150\n",
            "375/375 [==============================] - 3s 7ms/step - loss: 0.2941 - sparse_categorical_accuracy: 0.8898 - val_loss: 0.2836 - val_sparse_categorical_accuracy: 0.8994\n",
            "Epoch 140/150\n",
            "375/375 [==============================] - 3s 7ms/step - loss: 0.2905 - sparse_categorical_accuracy: 0.8901 - val_loss: 0.2908 - val_sparse_categorical_accuracy: 0.8977\n",
            "Epoch 141/150\n",
            "375/375 [==============================] - 3s 8ms/step - loss: 0.2896 - sparse_categorical_accuracy: 0.8896 - val_loss: 0.2862 - val_sparse_categorical_accuracy: 0.8991\n",
            "Epoch 142/150\n",
            "375/375 [==============================] - 3s 7ms/step - loss: 0.2924 - sparse_categorical_accuracy: 0.8912 - val_loss: 0.2866 - val_sparse_categorical_accuracy: 0.8974\n",
            "Epoch 143/150\n",
            "375/375 [==============================] - 3s 7ms/step - loss: 0.2915 - sparse_categorical_accuracy: 0.8898 - val_loss: 0.2955 - val_sparse_categorical_accuracy: 0.8957\n",
            "Epoch 144/150\n",
            "375/375 [==============================] - 3s 7ms/step - loss: 0.2891 - sparse_categorical_accuracy: 0.8890 - val_loss: 0.2820 - val_sparse_categorical_accuracy: 0.8973\n",
            "Epoch 145/150\n",
            "375/375 [==============================] - 3s 8ms/step - loss: 0.2901 - sparse_categorical_accuracy: 0.8892 - val_loss: 0.2880 - val_sparse_categorical_accuracy: 0.8950\n",
            "Epoch 146/150\n",
            "375/375 [==============================] - 3s 7ms/step - loss: 0.2910 - sparse_categorical_accuracy: 0.8881 - val_loss: 0.2799 - val_sparse_categorical_accuracy: 0.8975\n",
            "Epoch 147/150\n",
            "375/375 [==============================] - 3s 7ms/step - loss: 0.2917 - sparse_categorical_accuracy: 0.8901 - val_loss: 0.2872 - val_sparse_categorical_accuracy: 0.8953\n",
            "Epoch 148/150\n",
            "375/375 [==============================] - 3s 9ms/step - loss: 0.2898 - sparse_categorical_accuracy: 0.8902 - val_loss: 0.2906 - val_sparse_categorical_accuracy: 0.8953\n",
            "Epoch 149/150\n",
            "375/375 [==============================] - 5s 13ms/step - loss: 0.2890 - sparse_categorical_accuracy: 0.8910 - val_loss: 0.2901 - val_sparse_categorical_accuracy: 0.8942\n",
            "Epoch 150/150\n",
            "375/375 [==============================] - 4s 11ms/step - loss: 0.2883 - sparse_categorical_accuracy: 0.8910 - val_loss: 0.2823 - val_sparse_categorical_accuracy: 0.8994\n",
            "313/313 [==============================] - 1s 2ms/step - loss: 0.3080 - sparse_categorical_accuracy: 0.8925\n",
            "\n",
            "Test accuracy: 0.8924999833106995\n"
          ]
        }
      ]
    },
    {
      "cell_type": "code",
      "source": [
        "print('\\nhistory dict:', list(history.history.keys()))"
      ],
      "metadata": {
        "id": "CxRE-B_Q6Sii",
        "colab": {
          "base_uri": "https://localhost:8080/"
        },
        "outputId": "116935da-fd52-4114-f6d8-c15beb40121f"
      },
      "execution_count": 58,
      "outputs": [
        {
          "output_type": "stream",
          "name": "stdout",
          "text": [
            "\n",
            "history dict: ['loss', 'sparse_categorical_accuracy', 'val_loss', 'val_sparse_categorical_accuracy']\n"
          ]
        }
      ]
    },
    {
      "cell_type": "code",
      "source": [
        "result = model.evaluate(x_test, y_test)\n",
        "print(result)"
      ],
      "metadata": {
        "id": "YXpwRRTvTBNg",
        "colab": {
          "base_uri": "https://localhost:8080/"
        },
        "outputId": "4a2abb9c-59f4-4fd1-ce09-77fa514afcf3"
      },
      "execution_count": 59,
      "outputs": [
        {
          "output_type": "stream",
          "name": "stdout",
          "text": [
            "313/313 [==============================] - 1s 2ms/step - loss: 0.3080 - sparse_categorical_accuracy: 0.8925\n",
            "[0.3079664707183838, 0.8924999833106995]\n"
          ]
        }
      ]
    },
    {
      "cell_type": "code",
      "source": [
        "saved_model = load_model('best_model.h5')\n",
        "result = saved_model.evaluate(x_test, y_test)\n",
        "print(result)"
      ],
      "metadata": {
        "colab": {
          "base_uri": "https://localhost:8080/"
        },
        "id": "dpaZAW0vp1AZ",
        "outputId": "0e8f8a6c-4556-44e4-fa6f-ab8380593b33"
      },
      "execution_count": 60,
      "outputs": [
        {
          "output_type": "stream",
          "name": "stdout",
          "text": [
            "313/313 [==============================] - 1s 2ms/step - loss: 0.3091 - sparse_categorical_accuracy: 0.8916\n",
            "[0.3091069757938385, 0.8916000127792358]\n"
          ]
        }
      ]
    },
    {
      "cell_type": "code",
      "source": [
        "# from keras.models import load_model\n",
        "# saved_model = load_model('best_model.h5')\n",
        "# # _, train_acc = saved_model.evaluate(x_train, y_train, verbose=0)\n",
        "# _, test_acc = saved_model.evaluate(x_test, y_test, verbose=0)\n",
        "# print('Test: %.3f' % (test_acc))"
      ],
      "metadata": {
        "id": "DR_MS9DABo_K"
      },
      "execution_count": 61,
      "outputs": []
    },
    {
      "cell_type": "code",
      "source": [
        "history_dict = history.history\n",
        "loss_values = history_dict['loss']\n",
        "val_loss_values = history_dict['val_loss']\n",
        "\n",
        "epochs = range(1, len(history_dict['loss']) + 1)\n",
        "\n",
        "plt.figure(figsize=(10, 5))\n",
        "plt.plot(epochs, loss_values, 'bo', label='Training loss')\n",
        "plt.plot(epochs, val_loss_values, 'r', label='Validation loss')\n",
        "# plt.ylim (0.2, 0.5)\n",
        "plt.title('Training and validation loss')\n",
        "plt.xlabel('Epochs')\n",
        "plt.ylabel('Loss')\n",
        "# plt.legend()\n",
        "plt.grid(True)\n",
        "plt.show()\n",
        "1\n",
        "plt.clf()\n",
        "plt.figure(figsize=(10, 5))\n",
        "val_acc_values = history_dict['sparse_categorical_accuracy']\n",
        "plt.plot(epochs, history_dict['sparse_categorical_accuracy'], 'bo', label='Training acc')\n",
        "plt.plot(epochs, history_dict['val_sparse_categorical_accuracy'], 'r', label='Validation acc')\n",
        "plt.ylim (0.88, 0.94)\n",
        "plt.title('Training and validation accuracy')\n",
        "plt.xlabel('Epochs')\n",
        "plt.ylabel('Accuracy')\n",
        "plt.legend()\n",
        "plt.grid(True)"
      ],
      "metadata": {
        "id": "2Ll_5sGlXKMH",
        "colab": {
          "base_uri": "https://localhost:8080/",
          "height": 975
        },
        "outputId": "f473717d-bb03-41fe-b9cb-7c197c3ae668"
      },
      "execution_count": 62,
      "outputs": [
        {
          "output_type": "display_data",
          "data": {
            "text/plain": [
              "<Figure size 1000x500 with 1 Axes>"
            ],
            "image/png": "[encoded data removed]"
          },
          "metadata": {}
        },
        {
          "output_type": "display_data",
          "data": {
            "text/plain": [
              "<Figure size 640x480 with 0 Axes>"
            ]
          },
          "metadata": {}
        },
        {
          "output_type": "display_data",
          "data": {
            "text/plain": [
              "<Figure size 1000x500 with 1 Axes>"
            ],
            "image/png": "[encoded data removed]"
          },
          "metadata": {}
        }
      ]
    },
    {
      "cell_type": "code",
      "source": [
        "probability_model = tf.keras.Sequential([model,\n",
        "                                         tf.keras.layers.Softmax()])"
      ],
      "metadata": {
        "id": "VzOdKAT_uV-f"
      },
      "execution_count": 63,
      "outputs": []
    },
    {
      "cell_type": "code",
      "source": [
        "predictions = probability_model.predict(x_test)"
      ],
      "metadata": {
        "id": "f4is3NFruYom",
        "colab": {
          "base_uri": "https://localhost:8080/"
        },
        "outputId": "6523aa66-b79f-4191-8aac-a4ec4c0164cf"
      },
      "execution_count": 64,
      "outputs": [
        {
          "output_type": "stream",
          "name": "stdout",
          "text": [
            "313/313 [==============================] - 1s 2ms/step\n"
          ]
        }
      ]
    },
    {
      "cell_type": "code",
      "source": [
        "predictions[0]"
      ],
      "metadata": {
        "id": "82cigvlZudz_",
        "colab": {
          "base_uri": "https://localhost:8080/"
        },
        "outputId": "6e46df59-c7b8-4871-f9ab-9ce4e95ae5c8"
      },
      "execution_count": 65,
      "outputs": [
        {
          "output_type": "execute_result",
          "data": {
            "text/plain": [
              "array([0.08563916, 0.08563916, 0.08563916, 0.08563916, 0.08563916,\n",
              "       0.08576331, 0.08563916, 0.08765563, 0.08563916, 0.22710687],\n",
              "      dtype=float32)"
            ]
          },
          "metadata": {},
          "execution_count": 65
        }
      ]
    },
    {
      "cell_type": "code",
      "source": [
        "model.summary()"
      ],
      "metadata": {
        "id": "6RsQPHyYuNGe",
        "colab": {
          "base_uri": "https://localhost:8080/"
        },
        "outputId": "145c626d-1284-4bed-b854-3166a8cc3489"
      },
      "execution_count": 66,
      "outputs": [
        {
          "output_type": "stream",
          "name": "stdout",
          "text": [
            "Model: \"sequential_4\"\n",
            "_________________________________________________________________\n",
            " Layer (type)                Output Shape              Param #   \n",
            "=================================================================\n",
            " flatten_2 (Flatten)         (None, 784)               0         \n",
            "                                                                 \n",
            " dropout_8 (Dropout)         (None, 784)               0         \n",
            "                                                                 \n",
            " batch_normalization_6 (Bat  (None, 784)               3136      \n",
            " chNormalization)                                                \n",
            "                                                                 \n",
            " dense_8 (Dense)             (None, 256)               200960    \n",
            "                                                                 \n",
            " dropout_9 (Dropout)         (None, 256)               0         \n",
            "                                                                 \n",
            " batch_normalization_7 (Bat  (None, 256)               1024      \n",
            " chNormalization)                                                \n",
            "                                                                 \n",
            " dense_9 (Dense)             (None, 256)               65792     \n",
            "                                                                 \n",
            " dropout_10 (Dropout)        (None, 256)               0         \n",
            "                                                                 \n",
            " batch_normalization_8 (Bat  (None, 256)               1024      \n",
            " chNormalization)                                                \n",
            "                                                                 \n",
            " dense_10 (Dense)            (None, 512)               131584    \n",
            "                                                                 \n",
            " dropout_11 (Dropout)        (None, 512)               0         \n",
            "                                                                 \n",
            " batch_normalization_9 (Bat  (None, 512)               2048      \n",
            " chNormalization)                                                \n",
            "                                                                 \n",
            " dense_11 (Dense)            (None, 512)               262656    \n",
            "                                                                 \n",
            " dropout_12 (Dropout)        (None, 512)               0         \n",
            "                                                                 \n",
            " dense_12 (Dense)            (None, 10)                5130      \n",
            "                                                                 \n",
            "=================================================================\n",
            "Total params: 673354 (2.57 MB)\n",
            "Trainable params: 669738 (2.55 MB)\n",
            "Non-trainable params: 3616 (14.12 KB)\n",
            "_________________________________________________________________\n"
          ]
        }
      ]
    }
  ]
}