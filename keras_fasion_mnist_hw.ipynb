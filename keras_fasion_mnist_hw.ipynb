{
  "nbformat": 4,
  "nbformat_minor": 0,
  "metadata": {
    "colab": {
      "provenance": [],
      "gpuType": "T4",
      "authorship_tag": "ABX9TyMbIFCU48ZyMBE5MjhQLbMl",
      "include_colab_link": true
    },
    "kernelspec": {
      "name": "python3",
      "display_name": "Python 3"
    },
    "language_info": {
      "name": "python"
    },
    "accelerator": "GPU"
  },
  "cells": [
    {
      "cell_type": "markdown",
      "metadata": {
        "id": "view-in-github",
        "colab_type": "text"
      },
      "source": [
        "<a href=\"https://colab.research.google.com/github/PavelStelmakhV/hw310-keras-fasion-mnist/blob/main/keras_fasion_mnist_hw.ipynb\" target=\"_parent\"><img src=\"https://colab.research.google.com/assets/colab-badge.svg\" alt=\"Open In Colab\"/></a>"
      ]
    },
    {
      "cell_type": "code",
      "execution_count": 25,
      "metadata": {
        "id": "vv7w0bgAVQPO"
      },
      "outputs": [],
      "source": [
        "import tensorflow as tf\n",
        "import numpy as np\n",
        "import matplotlib.pyplot as plt\n",
        "import tf_keras\n",
        "\n",
        "from keras import layers\n",
        "from keras import regularizers\n",
        "from keras import callbacks\n",
        "from keras import initializers\n",
        "from keras.layers import BatchNormalization\n",
        "from keras.models import load_model"
      ]
    },
    {
      "cell_type": "code",
      "source": [
        "fashion_mnist = tf.keras.datasets.fashion_mnist\n",
        "\n",
        "(x_train, y_train), (x_test, y_test) = fashion_mnist.load_data()"
      ],
      "metadata": {
        "id": "mOpywsNAzfGB"
      },
      "execution_count": 26,
      "outputs": []
    },
    {
      "cell_type": "code",
      "source": [
        "x_train = x_train.astype('float32') / 255\n",
        "x_test = x_test.astype('float32') / 255\n",
        "\n",
        "y_train = y_train.astype('float32')\n",
        "y_test = y_test.astype('float32')"
      ],
      "metadata": {
        "id": "t2gucjsJ0KUi"
      },
      "execution_count": 27,
      "outputs": []
    },
    {
      "cell_type": "code",
      "source": [
        "w_init_tanh = initializers.glorot_normal(seed=66)\n",
        "w_init_relu = initializers.HeNormal(seed=66)\n",
        "b_init = initializers.Zeros()"
      ],
      "metadata": {
        "id": "yL9QTEtBGy4N"
      },
      "execution_count": 28,
      "outputs": []
    },
    {
      "cell_type": "code",
      "source": [
        "drop_out = 0.25"
      ],
      "metadata": {
        "id": "flsDcVTnU10J"
      },
      "execution_count": 29,
      "outputs": []
    },
    {
      "cell_type": "code",
      "source": [
        "def layer_relu(model, neurons):\n",
        "  model.add(BatchNormalization())\n",
        "  model.add(layers.Dense(neurons,\n",
        "                       activation='relu',\n",
        "                       kernel_initializer=w_init_relu,\n",
        "                       bias_initializer=b_init))\n",
        "  model.add(layers.Dropout(drop_out))\n",
        "  return model"
      ],
      "metadata": {
        "id": "ZZgs_25rKBCp"
      },
      "execution_count": 30,
      "outputs": []
    },
    {
      "cell_type": "code",
      "source": [
        "def layer_tanh(model, neurons):\n",
        "  model.add(BatchNormalization())\n",
        "  model.add(layers.Dense(neurons,\n",
        "                        activation='tanh',\n",
        "                        kernel_initializer=w_init_tanh,\n",
        "                        bias_initializer=b_init))\n",
        "  model.add(layers.Dropout(drop_out))\n",
        "  return model"
      ],
      "metadata": {
        "id": "90JLLnkBR50t"
      },
      "execution_count": 31,
      "outputs": []
    },
    {
      "cell_type": "code",
      "source": [],
      "metadata": {
        "id": "Va9BaQ9eG_uz"
      },
      "execution_count": 31,
      "outputs": []
    },
    {
      "cell_type": "code",
      "source": [
        "model = tf.keras.Sequential()\n",
        "\n",
        "# drop_out = 0.50\n",
        "neurons = 256\n",
        "\n",
        "model.add(layers.Flatten(input_shape=(28, 28)))\n",
        "model.add(layers.Dropout(drop_out))\n",
        "\n",
        "model = layer_relu(model, neurons*1)\n",
        "# model = layer_tanh(model, neurons*1)\n",
        "model = layer_tanh(model, neurons*2)\n",
        "model = layer_relu(model, neurons*2)\n",
        "\n",
        "model.add(layers.Dense(10, activation='softmax'))"
      ],
      "metadata": {
        "id": "atS39i4d0aqW"
      },
      "execution_count": 32,
      "outputs": []
    },
    {
      "cell_type": "markdown",
      "source": [
        "++++++++++++++++++++++++++++++++++++++++++++++++++++++++++++++++++++++++++++++++"
      ],
      "metadata": {
        "id": "tZO7hl7pM63y"
      }
    },
    {
      "cell_type": "code",
      "source": [
        "# learning_rate=0.0004\n",
        "# beta_1=0.95,\n",
        "# beta_2=0.999,\n",
        "# epsilon=1e-07\n",
        "optimizer = tf.keras.optimizers.Nadam(learning_rate=0.00025,\n",
        "                                      beta_1=0.92,\n",
        "                                      beta_2=0.999,\n",
        "                                      epsilon=1e-04\n",
        ")"
      ],
      "metadata": {
        "id": "EzfnaqIZlfy8"
      },
      "execution_count": 33,
      "outputs": []
    },
    {
      "cell_type": "markdown",
      "source": [
        "++++++++++++++++++++++++++++++++++++++++++++++++++++++++++++++++++++++++++++++++"
      ],
      "metadata": {
        "id": "KHmBptvOM95Z"
      }
    },
    {
      "cell_type": "code",
      "source": [
        "model.compile(#optimizer='adam',\n",
        "              # optimizer='adamax',\n",
        "              optimizer=optimizer,\n",
        "              # optimizer='rmsprop',\n",
        "              # optimizer='sgd',\n",
        "              # optimizer='adadelta',\n",
        "              # loss='binary_crossentropy',\n",
        "              loss=tf.keras.losses.SparseCategoricalCrossentropy(),\n",
        "              metrics=['sparse_categorical_accuracy']) # sparse_categorical_accuracy"
      ],
      "metadata": {
        "id": "hENVaAC7ilNY"
      },
      "execution_count": 34,
      "outputs": []
    },
    {
      "cell_type": "code",
      "source": [
        "x = np.random.random((1, 28, 28))\n",
        "a = model.predict(x)\n",
        "_ = plt.hist(np.transpose(a))"
      ],
      "metadata": {
        "id": "RFgZHNNFMa8p",
        "outputId": "aa4a3f4e-e6a8-4d63-cdc6-10ad629386c0",
        "colab": {
          "base_uri": "https://localhost:8080/",
          "height": 448
        }
      },
      "execution_count": 35,
      "outputs": [
        {
          "output_type": "stream",
          "name": "stdout",
          "text": [
            "1/1 [==============================] - 0s 118ms/step\n"
          ]
        },
        {
          "output_type": "display_data",
          "data": {
            "text/plain": [
              "<Figure size 640x480 with 1 Axes>"
            ],
            "image/png": "[encoded data removed]"
          },
          "metadata": {}
        }
      ]
    },
    {
      "cell_type": "code",
      "source": [
        "y_pred = model.predict(x_test)"
      ],
      "metadata": {
        "id": "UDP8OKKZ8oQa",
        "outputId": "6fe293f9-d2ae-41e3-91ed-fe8cd788ed84",
        "colab": {
          "base_uri": "https://localhost:8080/"
        }
      },
      "execution_count": 36,
      "outputs": [
        {
          "output_type": "stream",
          "name": "stdout",
          "text": [
            "313/313 [==============================] - 1s 3ms/step\n"
          ]
        }
      ]
    },
    {
      "cell_type": "code",
      "source": [
        "callback = callbacks.EarlyStopping(monitor='val_loss',\n",
        "                                   patience=50,\n",
        "                                   restore_best_weights=True,\n",
        "                                   )\n",
        "es = callbacks.EarlyStopping(monitor='val_loss', mode='min', verbose=0, patience=40)\n",
        "mc = callbacks.ModelCheckpoint('best_model.h5', monitor='sparse_categorical_accuracy', mode='max', verbose=0, save_best_only=True)\n"
      ],
      "metadata": {
        "id": "5ihU4exVlsjm"
      },
      "execution_count": 37,
      "outputs": []
    },
    {
      "cell_type": "code",
      "source": [
        "history = model.fit(x_train, y_train,\n",
        "                    epochs=400,\n",
        "                    batch_size=128,\n",
        "                    # callbacks=[callback],\n",
        "                    callbacks=[mc],\n",
        "                    verbose=1, #многословие\n",
        "                    validation_split=0.1\n",
        "                    # validation_data=(x_val, y_val)\n",
        "                    )\n",
        "test_loss, test_acc = model.evaluate(x_test, y_test)\n",
        "print('\\nTest accuracy:', test_acc)"
      ],
      "metadata": {
        "id": "FH8HcMNm233I",
        "outputId": "44d2fd36-c581-4970-bd08-122f706dfe4b",
        "colab": {
          "base_uri": "https://localhost:8080/"
        }
      },
      "execution_count": 38,
      "outputs": [
        {
          "output_type": "stream",
          "name": "stdout",
          "text": [
            "Epoch 1/400\n",
            "422/422 [==============================] - 14s 25ms/step - loss: 0.8473 - sparse_categorical_accuracy: 0.7069 - val_loss: 0.4531 - val_sparse_categorical_accuracy: 0.8323\n",
            "Epoch 2/400\n",
            "422/422 [==============================] - 10s 24ms/step - loss: 0.5920 - sparse_categorical_accuracy: 0.7875 - val_loss: 0.4182 - val_sparse_categorical_accuracy: 0.8478\n",
            "Epoch 3/400\n",
            "422/422 [==============================] - 10s 25ms/step - loss: 0.5319 - sparse_categorical_accuracy: 0.8049 - val_loss: 0.3910 - val_sparse_categorical_accuracy: 0.8562\n",
            "Epoch 4/400\n",
            "422/422 [==============================] - 11s 27ms/step - loss: 0.4890 - sparse_categorical_accuracy: 0.8213 - val_loss: 0.3775 - val_sparse_categorical_accuracy: 0.8608\n",
            "Epoch 5/400\n",
            "422/422 [==============================] - 11s 25ms/step - loss: 0.4576 - sparse_categorical_accuracy: 0.8302 - val_loss: 0.3624 - val_sparse_categorical_accuracy: 0.8645\n",
            "Epoch 6/400\n",
            "422/422 [==============================] - 10s 23ms/step - loss: 0.4415 - sparse_categorical_accuracy: 0.8359 - val_loss: 0.3544 - val_sparse_categorical_accuracy: 0.8655\n",
            "Epoch 7/400\n",
            "422/422 [==============================] - 10s 23ms/step - loss: 0.4273 - sparse_categorical_accuracy: 0.8401 - val_loss: 0.3454 - val_sparse_categorical_accuracy: 0.8720\n",
            "Epoch 8/400\n",
            "422/422 [==============================] - 10s 24ms/step - loss: 0.4161 - sparse_categorical_accuracy: 0.8464 - val_loss: 0.3462 - val_sparse_categorical_accuracy: 0.8723\n",
            "Epoch 9/400\n",
            "422/422 [==============================] - 10s 24ms/step - loss: 0.4037 - sparse_categorical_accuracy: 0.8494 - val_loss: 0.3355 - val_sparse_categorical_accuracy: 0.8748\n",
            "Epoch 10/400\n",
            "422/422 [==============================] - 10s 24ms/step - loss: 0.3934 - sparse_categorical_accuracy: 0.8534 - val_loss: 0.3325 - val_sparse_categorical_accuracy: 0.8788\n",
            "Epoch 11/400\n",
            "422/422 [==============================] - 13s 31ms/step - loss: 0.3856 - sparse_categorical_accuracy: 0.8553 - val_loss: 0.3260 - val_sparse_categorical_accuracy: 0.8773\n",
            "Epoch 12/400\n",
            "422/422 [==============================] - 11s 26ms/step - loss: 0.3767 - sparse_categorical_accuracy: 0.8591 - val_loss: 0.3257 - val_sparse_categorical_accuracy: 0.8777\n",
            "Epoch 13/400\n",
            "422/422 [==============================] - 9s 22ms/step - loss: 0.3712 - sparse_categorical_accuracy: 0.8606 - val_loss: 0.3239 - val_sparse_categorical_accuracy: 0.8807\n",
            "Epoch 14/400\n",
            "422/422 [==============================] - 10s 24ms/step - loss: 0.3653 - sparse_categorical_accuracy: 0.8628 - val_loss: 0.3230 - val_sparse_categorical_accuracy: 0.8813\n",
            "Epoch 15/400\n",
            "422/422 [==============================] - 10s 25ms/step - loss: 0.3572 - sparse_categorical_accuracy: 0.8659 - val_loss: 0.3134 - val_sparse_categorical_accuracy: 0.8875\n",
            "Epoch 16/400\n",
            "422/422 [==============================] - 10s 25ms/step - loss: 0.3551 - sparse_categorical_accuracy: 0.8667 - val_loss: 0.3115 - val_sparse_categorical_accuracy: 0.8883\n",
            "Epoch 17/400\n",
            "422/422 [==============================] - 11s 25ms/step - loss: 0.3528 - sparse_categorical_accuracy: 0.8669 - val_loss: 0.3053 - val_sparse_categorical_accuracy: 0.8872\n",
            "Epoch 18/400\n",
            "422/422 [==============================] - 10s 24ms/step - loss: 0.3466 - sparse_categorical_accuracy: 0.8703 - val_loss: 0.3057 - val_sparse_categorical_accuracy: 0.8842\n",
            "Epoch 19/400\n",
            "422/422 [==============================] - 10s 24ms/step - loss: 0.3395 - sparse_categorical_accuracy: 0.8718 - val_loss: 0.3091 - val_sparse_categorical_accuracy: 0.8883\n",
            "Epoch 20/400\n",
            "422/422 [==============================] - 10s 25ms/step - loss: 0.3369 - sparse_categorical_accuracy: 0.8739 - val_loss: 0.3046 - val_sparse_categorical_accuracy: 0.8902\n",
            "Epoch 21/400\n",
            "422/422 [==============================] - 10s 25ms/step - loss: 0.3304 - sparse_categorical_accuracy: 0.8747 - val_loss: 0.2954 - val_sparse_categorical_accuracy: 0.8887\n",
            "Epoch 22/400\n",
            "422/422 [==============================] - 10s 25ms/step - loss: 0.3306 - sparse_categorical_accuracy: 0.8758 - val_loss: 0.2992 - val_sparse_categorical_accuracy: 0.8900\n",
            "Epoch 23/400\n",
            "422/422 [==============================] - 10s 24ms/step - loss: 0.3265 - sparse_categorical_accuracy: 0.8770 - val_loss: 0.3001 - val_sparse_categorical_accuracy: 0.8910\n",
            "Epoch 24/400\n",
            "422/422 [==============================] - 9s 22ms/step - loss: 0.3258 - sparse_categorical_accuracy: 0.8760 - val_loss: 0.2925 - val_sparse_categorical_accuracy: 0.8937\n",
            "Epoch 25/400\n",
            "422/422 [==============================] - 10s 24ms/step - loss: 0.3204 - sparse_categorical_accuracy: 0.8793 - val_loss: 0.2900 - val_sparse_categorical_accuracy: 0.8948\n",
            "Epoch 26/400\n",
            "422/422 [==============================] - 10s 24ms/step - loss: 0.3162 - sparse_categorical_accuracy: 0.8792 - val_loss: 0.2945 - val_sparse_categorical_accuracy: 0.8932\n",
            "Epoch 27/400\n",
            "422/422 [==============================] - 11s 25ms/step - loss: 0.3142 - sparse_categorical_accuracy: 0.8804 - val_loss: 0.2891 - val_sparse_categorical_accuracy: 0.8960\n",
            "Epoch 28/400\n",
            "422/422 [==============================] - 10s 24ms/step - loss: 0.3148 - sparse_categorical_accuracy: 0.8812 - val_loss: 0.2908 - val_sparse_categorical_accuracy: 0.8933\n",
            "Epoch 29/400\n",
            "422/422 [==============================] - 10s 24ms/step - loss: 0.3097 - sparse_categorical_accuracy: 0.8830 - val_loss: 0.2855 - val_sparse_categorical_accuracy: 0.8953\n",
            "Epoch 30/400\n",
            "422/422 [==============================] - 10s 24ms/step - loss: 0.3071 - sparse_categorical_accuracy: 0.8844 - val_loss: 0.2897 - val_sparse_categorical_accuracy: 0.8935\n",
            "Epoch 31/400\n",
            "422/422 [==============================] - 10s 25ms/step - loss: 0.3047 - sparse_categorical_accuracy: 0.8839 - val_loss: 0.2827 - val_sparse_categorical_accuracy: 0.8980\n",
            "Epoch 32/400\n",
            "422/422 [==============================] - 10s 24ms/step - loss: 0.3023 - sparse_categorical_accuracy: 0.8839 - val_loss: 0.2933 - val_sparse_categorical_accuracy: 0.8965\n",
            "Epoch 33/400\n",
            "422/422 [==============================] - 10s 24ms/step - loss: 0.3000 - sparse_categorical_accuracy: 0.8860 - val_loss: 0.2855 - val_sparse_categorical_accuracy: 0.8952\n",
            "Epoch 34/400\n",
            "422/422 [==============================] - 11s 25ms/step - loss: 0.2937 - sparse_categorical_accuracy: 0.8874 - val_loss: 0.2883 - val_sparse_categorical_accuracy: 0.8978\n",
            "Epoch 35/400\n",
            "422/422 [==============================] - 9s 22ms/step - loss: 0.2972 - sparse_categorical_accuracy: 0.8875 - val_loss: 0.2802 - val_sparse_categorical_accuracy: 0.8985\n",
            "Epoch 36/400\n",
            "422/422 [==============================] - 10s 24ms/step - loss: 0.2936 - sparse_categorical_accuracy: 0.8892 - val_loss: 0.2810 - val_sparse_categorical_accuracy: 0.8970\n",
            "Epoch 37/400\n",
            "422/422 [==============================] - 10s 25ms/step - loss: 0.2905 - sparse_categorical_accuracy: 0.8904 - val_loss: 0.2803 - val_sparse_categorical_accuracy: 0.8972\n",
            "Epoch 38/400\n",
            "422/422 [==============================] - 10s 24ms/step - loss: 0.2914 - sparse_categorical_accuracy: 0.8890 - val_loss: 0.2783 - val_sparse_categorical_accuracy: 0.8993\n",
            "Epoch 39/400\n",
            "422/422 [==============================] - 10s 24ms/step - loss: 0.2859 - sparse_categorical_accuracy: 0.8907 - val_loss: 0.2869 - val_sparse_categorical_accuracy: 0.8963\n",
            "Epoch 40/400\n",
            "422/422 [==============================] - 9s 22ms/step - loss: 0.2888 - sparse_categorical_accuracy: 0.8903 - val_loss: 0.2761 - val_sparse_categorical_accuracy: 0.8992\n",
            "Epoch 41/400\n",
            "422/422 [==============================] - 10s 24ms/step - loss: 0.2868 - sparse_categorical_accuracy: 0.8908 - val_loss: 0.2780 - val_sparse_categorical_accuracy: 0.8993\n",
            "Epoch 42/400\n",
            "422/422 [==============================] - 10s 24ms/step - loss: 0.2812 - sparse_categorical_accuracy: 0.8951 - val_loss: 0.2781 - val_sparse_categorical_accuracy: 0.9000\n",
            "Epoch 43/400\n",
            "422/422 [==============================] - 10s 24ms/step - loss: 0.2813 - sparse_categorical_accuracy: 0.8935 - val_loss: 0.2810 - val_sparse_categorical_accuracy: 0.8993\n",
            "Epoch 44/400\n",
            "422/422 [==============================] - 10s 24ms/step - loss: 0.2789 - sparse_categorical_accuracy: 0.8921 - val_loss: 0.2741 - val_sparse_categorical_accuracy: 0.8983\n",
            "Epoch 45/400\n",
            "422/422 [==============================] - 9s 22ms/step - loss: 0.2817 - sparse_categorical_accuracy: 0.8919 - val_loss: 0.2772 - val_sparse_categorical_accuracy: 0.8992\n",
            "Epoch 46/400\n",
            "422/422 [==============================] - 10s 24ms/step - loss: 0.2790 - sparse_categorical_accuracy: 0.8920 - val_loss: 0.2772 - val_sparse_categorical_accuracy: 0.8992\n",
            "Epoch 47/400\n",
            "422/422 [==============================] - 10s 24ms/step - loss: 0.2758 - sparse_categorical_accuracy: 0.8952 - val_loss: 0.2764 - val_sparse_categorical_accuracy: 0.9023\n",
            "Epoch 48/400\n",
            "422/422 [==============================] - 10s 24ms/step - loss: 0.2739 - sparse_categorical_accuracy: 0.8954 - val_loss: 0.2735 - val_sparse_categorical_accuracy: 0.9018\n",
            "Epoch 49/400\n",
            "422/422 [==============================] - 10s 24ms/step - loss: 0.2760 - sparse_categorical_accuracy: 0.8949 - val_loss: 0.2698 - val_sparse_categorical_accuracy: 0.9025\n",
            "Epoch 50/400\n",
            "422/422 [==============================] - 10s 23ms/step - loss: 0.2733 - sparse_categorical_accuracy: 0.8958 - val_loss: 0.2758 - val_sparse_categorical_accuracy: 0.9020\n",
            "Epoch 51/400\n",
            "422/422 [==============================] - 10s 24ms/step - loss: 0.2730 - sparse_categorical_accuracy: 0.8958 - val_loss: 0.2738 - val_sparse_categorical_accuracy: 0.9007\n",
            "Epoch 52/400\n",
            "422/422 [==============================] - 10s 25ms/step - loss: 0.2731 - sparse_categorical_accuracy: 0.8970 - val_loss: 0.2731 - val_sparse_categorical_accuracy: 0.9007\n",
            "Epoch 53/400\n",
            "422/422 [==============================] - 10s 25ms/step - loss: 0.2707 - sparse_categorical_accuracy: 0.8973 - val_loss: 0.2729 - val_sparse_categorical_accuracy: 0.9003\n",
            "Epoch 54/400\n",
            "422/422 [==============================] - 11s 25ms/step - loss: 0.2647 - sparse_categorical_accuracy: 0.8989 - val_loss: 0.2789 - val_sparse_categorical_accuracy: 0.9028\n",
            "Epoch 55/400\n",
            "422/422 [==============================] - 10s 25ms/step - loss: 0.2644 - sparse_categorical_accuracy: 0.8995 - val_loss: 0.2750 - val_sparse_categorical_accuracy: 0.9030\n",
            "Epoch 56/400\n",
            "422/422 [==============================] - 10s 23ms/step - loss: 0.2648 - sparse_categorical_accuracy: 0.8996 - val_loss: 0.2767 - val_sparse_categorical_accuracy: 0.9015\n",
            "Epoch 57/400\n",
            "422/422 [==============================] - 10s 25ms/step - loss: 0.2678 - sparse_categorical_accuracy: 0.8972 - val_loss: 0.2718 - val_sparse_categorical_accuracy: 0.9038\n",
            "Epoch 58/400\n",
            "422/422 [==============================] - 10s 24ms/step - loss: 0.2623 - sparse_categorical_accuracy: 0.8994 - val_loss: 0.2742 - val_sparse_categorical_accuracy: 0.9017\n",
            "Epoch 59/400\n",
            "422/422 [==============================] - 10s 25ms/step - loss: 0.2595 - sparse_categorical_accuracy: 0.9013 - val_loss: 0.2727 - val_sparse_categorical_accuracy: 0.9037\n",
            "Epoch 60/400\n",
            "422/422 [==============================] - 10s 25ms/step - loss: 0.2597 - sparse_categorical_accuracy: 0.9014 - val_loss: 0.2708 - val_sparse_categorical_accuracy: 0.9007\n",
            "Epoch 61/400\n",
            "422/422 [==============================] - 10s 23ms/step - loss: 0.2582 - sparse_categorical_accuracy: 0.9005 - val_loss: 0.2723 - val_sparse_categorical_accuracy: 0.9017\n",
            "Epoch 62/400\n",
            "422/422 [==============================] - 10s 24ms/step - loss: 0.2591 - sparse_categorical_accuracy: 0.9007 - val_loss: 0.2734 - val_sparse_categorical_accuracy: 0.8988\n",
            "Epoch 63/400\n",
            "422/422 [==============================] - 10s 25ms/step - loss: 0.2552 - sparse_categorical_accuracy: 0.9016 - val_loss: 0.2773 - val_sparse_categorical_accuracy: 0.9017\n",
            "Epoch 64/400\n",
            "422/422 [==============================] - 10s 25ms/step - loss: 0.2588 - sparse_categorical_accuracy: 0.9012 - val_loss: 0.2717 - val_sparse_categorical_accuracy: 0.9023\n",
            "Epoch 65/400\n",
            "422/422 [==============================] - 10s 25ms/step - loss: 0.2556 - sparse_categorical_accuracy: 0.9021 - val_loss: 0.2717 - val_sparse_categorical_accuracy: 0.9053\n",
            "Epoch 66/400\n",
            "422/422 [==============================] - 11s 25ms/step - loss: 0.2533 - sparse_categorical_accuracy: 0.9030 - val_loss: 0.2695 - val_sparse_categorical_accuracy: 0.9033\n",
            "Epoch 67/400\n",
            "422/422 [==============================] - 9s 22ms/step - loss: 0.2554 - sparse_categorical_accuracy: 0.9035 - val_loss: 0.2710 - val_sparse_categorical_accuracy: 0.9035\n",
            "Epoch 68/400\n",
            "422/422 [==============================] - 10s 25ms/step - loss: 0.2540 - sparse_categorical_accuracy: 0.9029 - val_loss: 0.2702 - val_sparse_categorical_accuracy: 0.9038\n",
            "Epoch 69/400\n",
            "422/422 [==============================] - 10s 25ms/step - loss: 0.2501 - sparse_categorical_accuracy: 0.9049 - val_loss: 0.2746 - val_sparse_categorical_accuracy: 0.9028\n",
            "Epoch 70/400\n",
            "422/422 [==============================] - 10s 25ms/step - loss: 0.2527 - sparse_categorical_accuracy: 0.9032 - val_loss: 0.2700 - val_sparse_categorical_accuracy: 0.9042\n",
            "Epoch 71/400\n",
            "422/422 [==============================] - 10s 25ms/step - loss: 0.2518 - sparse_categorical_accuracy: 0.9040 - val_loss: 0.2691 - val_sparse_categorical_accuracy: 0.9020\n",
            "Epoch 72/400\n",
            "422/422 [==============================] - 10s 23ms/step - loss: 0.2498 - sparse_categorical_accuracy: 0.9040 - val_loss: 0.2689 - val_sparse_categorical_accuracy: 0.9060\n",
            "Epoch 73/400\n",
            "422/422 [==============================] - 10s 24ms/step - loss: 0.2474 - sparse_categorical_accuracy: 0.9052 - val_loss: 0.2712 - val_sparse_categorical_accuracy: 0.9012\n",
            "Epoch 74/400\n",
            "422/422 [==============================] - 11s 25ms/step - loss: 0.2495 - sparse_categorical_accuracy: 0.9044 - val_loss: 0.2698 - val_sparse_categorical_accuracy: 0.9042\n",
            "Epoch 75/400\n",
            "422/422 [==============================] - 11s 25ms/step - loss: 0.2475 - sparse_categorical_accuracy: 0.9054 - val_loss: 0.2686 - val_sparse_categorical_accuracy: 0.9038\n",
            "Epoch 76/400\n",
            "422/422 [==============================] - 11s 25ms/step - loss: 0.2438 - sparse_categorical_accuracy: 0.9054 - val_loss: 0.2736 - val_sparse_categorical_accuracy: 0.9028\n",
            "Epoch 77/400\n",
            "422/422 [==============================] - 11s 25ms/step - loss: 0.2446 - sparse_categorical_accuracy: 0.9058 - val_loss: 0.2658 - val_sparse_categorical_accuracy: 0.9038\n",
            "Epoch 78/400\n",
            "422/422 [==============================] - 10s 24ms/step - loss: 0.2467 - sparse_categorical_accuracy: 0.9059 - val_loss: 0.2695 - val_sparse_categorical_accuracy: 0.9022\n",
            "Epoch 79/400\n",
            "422/422 [==============================] - 10s 24ms/step - loss: 0.2433 - sparse_categorical_accuracy: 0.9063 - val_loss: 0.2691 - val_sparse_categorical_accuracy: 0.9038\n",
            "Epoch 80/400\n",
            "422/422 [==============================] - 11s 25ms/step - loss: 0.2444 - sparse_categorical_accuracy: 0.9068 - val_loss: 0.2706 - val_sparse_categorical_accuracy: 0.9043\n",
            "Epoch 81/400\n",
            "422/422 [==============================] - 10s 25ms/step - loss: 0.2417 - sparse_categorical_accuracy: 0.9074 - val_loss: 0.2721 - val_sparse_categorical_accuracy: 0.9047\n",
            "Epoch 82/400\n",
            "422/422 [==============================] - 10s 24ms/step - loss: 0.2441 - sparse_categorical_accuracy: 0.9058 - val_loss: 0.2740 - val_sparse_categorical_accuracy: 0.9030\n",
            "Epoch 83/400\n",
            "422/422 [==============================] - 11s 25ms/step - loss: 0.2432 - sparse_categorical_accuracy: 0.9054 - val_loss: 0.2683 - val_sparse_categorical_accuracy: 0.9018\n",
            "Epoch 84/400\n",
            "422/422 [==============================] - 9s 22ms/step - loss: 0.2402 - sparse_categorical_accuracy: 0.9068 - val_loss: 0.2715 - val_sparse_categorical_accuracy: 0.9018\n",
            "Epoch 85/400\n",
            "422/422 [==============================] - 10s 25ms/step - loss: 0.2358 - sparse_categorical_accuracy: 0.9089 - val_loss: 0.2675 - val_sparse_categorical_accuracy: 0.9045\n",
            "Epoch 86/400\n",
            "422/422 [==============================] - 10s 25ms/step - loss: 0.2376 - sparse_categorical_accuracy: 0.9097 - val_loss: 0.2720 - val_sparse_categorical_accuracy: 0.9050\n",
            "Epoch 87/400\n",
            "422/422 [==============================] - 10s 25ms/step - loss: 0.2402 - sparse_categorical_accuracy: 0.9067 - val_loss: 0.2729 - val_sparse_categorical_accuracy: 0.9035\n",
            "Epoch 88/400\n",
            "422/422 [==============================] - 10s 25ms/step - loss: 0.2377 - sparse_categorical_accuracy: 0.9066 - val_loss: 0.2705 - val_sparse_categorical_accuracy: 0.9047\n",
            "Epoch 89/400\n",
            "422/422 [==============================] - 10s 23ms/step - loss: 0.2367 - sparse_categorical_accuracy: 0.9089 - val_loss: 0.2642 - val_sparse_categorical_accuracy: 0.9047\n",
            "Epoch 90/400\n",
            "422/422 [==============================] - 10s 24ms/step - loss: 0.2366 - sparse_categorical_accuracy: 0.9097 - val_loss: 0.2694 - val_sparse_categorical_accuracy: 0.9057\n",
            "Epoch 91/400\n",
            "422/422 [==============================] - 11s 25ms/step - loss: 0.2361 - sparse_categorical_accuracy: 0.9099 - val_loss: 0.2711 - val_sparse_categorical_accuracy: 0.9048\n",
            "Epoch 92/400\n",
            "422/422 [==============================] - 10s 25ms/step - loss: 0.2348 - sparse_categorical_accuracy: 0.9096 - val_loss: 0.2699 - val_sparse_categorical_accuracy: 0.9048\n",
            "Epoch 93/400\n",
            "422/422 [==============================] - 10s 25ms/step - loss: 0.2345 - sparse_categorical_accuracy: 0.9096 - val_loss: 0.2701 - val_sparse_categorical_accuracy: 0.9037\n",
            "Epoch 94/400\n",
            "422/422 [==============================] - 11s 25ms/step - loss: 0.2361 - sparse_categorical_accuracy: 0.9099 - val_loss: 0.2682 - val_sparse_categorical_accuracy: 0.9043\n",
            "Epoch 95/400\n",
            "422/422 [==============================] - 9s 23ms/step - loss: 0.2336 - sparse_categorical_accuracy: 0.9099 - val_loss: 0.2695 - val_sparse_categorical_accuracy: 0.9060\n",
            "Epoch 96/400\n",
            "422/422 [==============================] - 10s 25ms/step - loss: 0.2310 - sparse_categorical_accuracy: 0.9112 - val_loss: 0.2698 - val_sparse_categorical_accuracy: 0.9028\n",
            "Epoch 97/400\n",
            "422/422 [==============================] - 10s 24ms/step - loss: 0.2340 - sparse_categorical_accuracy: 0.9101 - val_loss: 0.2687 - val_sparse_categorical_accuracy: 0.9067\n",
            "Epoch 98/400\n",
            "422/422 [==============================] - 10s 24ms/step - loss: 0.2336 - sparse_categorical_accuracy: 0.9098 - val_loss: 0.2713 - val_sparse_categorical_accuracy: 0.9055\n",
            "Epoch 99/400\n",
            "422/422 [==============================] - 11s 25ms/step - loss: 0.2304 - sparse_categorical_accuracy: 0.9109 - val_loss: 0.2705 - val_sparse_categorical_accuracy: 0.9073\n",
            "Epoch 100/400\n",
            "422/422 [==============================] - 10s 24ms/step - loss: 0.2298 - sparse_categorical_accuracy: 0.9115 - val_loss: 0.2763 - val_sparse_categorical_accuracy: 0.9018\n",
            "Epoch 101/400\n",
            "422/422 [==============================] - 10s 24ms/step - loss: 0.2278 - sparse_categorical_accuracy: 0.9131 - val_loss: 0.2739 - val_sparse_categorical_accuracy: 0.9047\n",
            "Epoch 102/400\n",
            "422/422 [==============================] - 11s 25ms/step - loss: 0.2298 - sparse_categorical_accuracy: 0.9109 - val_loss: 0.2719 - val_sparse_categorical_accuracy: 0.9042\n",
            "Epoch 103/400\n",
            "422/422 [==============================] - 11s 25ms/step - loss: 0.2297 - sparse_categorical_accuracy: 0.9116 - val_loss: 0.2732 - val_sparse_categorical_accuracy: 0.9045\n",
            "Epoch 104/400\n",
            "422/422 [==============================] - 10s 25ms/step - loss: 0.2305 - sparse_categorical_accuracy: 0.9106 - val_loss: 0.2681 - val_sparse_categorical_accuracy: 0.9073\n",
            "Epoch 105/400\n",
            "422/422 [==============================] - 11s 25ms/step - loss: 0.2298 - sparse_categorical_accuracy: 0.9124 - val_loss: 0.2688 - val_sparse_categorical_accuracy: 0.9035\n",
            "Epoch 106/400\n",
            "422/422 [==============================] - 10s 23ms/step - loss: 0.2294 - sparse_categorical_accuracy: 0.9116 - val_loss: 0.2722 - val_sparse_categorical_accuracy: 0.9053\n",
            "Epoch 107/400\n",
            "422/422 [==============================] - 10s 25ms/step - loss: 0.2248 - sparse_categorical_accuracy: 0.9134 - val_loss: 0.2746 - val_sparse_categorical_accuracy: 0.9053\n",
            "Epoch 108/400\n",
            "422/422 [==============================] - 10s 25ms/step - loss: 0.2247 - sparse_categorical_accuracy: 0.9154 - val_loss: 0.2691 - val_sparse_categorical_accuracy: 0.9040\n",
            "Epoch 109/400\n",
            "422/422 [==============================] - 10s 25ms/step - loss: 0.2281 - sparse_categorical_accuracy: 0.9122 - val_loss: 0.2700 - val_sparse_categorical_accuracy: 0.9063\n",
            "Epoch 110/400\n",
            "422/422 [==============================] - 10s 25ms/step - loss: 0.2247 - sparse_categorical_accuracy: 0.9133 - val_loss: 0.2701 - val_sparse_categorical_accuracy: 0.9067\n",
            "Epoch 111/400\n",
            "422/422 [==============================] - 10s 24ms/step - loss: 0.2273 - sparse_categorical_accuracy: 0.9117 - val_loss: 0.2668 - val_sparse_categorical_accuracy: 0.9058\n",
            "Epoch 112/400\n",
            "422/422 [==============================] - 10s 23ms/step - loss: 0.2238 - sparse_categorical_accuracy: 0.9133 - val_loss: 0.2704 - val_sparse_categorical_accuracy: 0.9070\n",
            "Epoch 113/400\n",
            "422/422 [==============================] - 10s 25ms/step - loss: 0.2233 - sparse_categorical_accuracy: 0.9135 - val_loss: 0.2655 - val_sparse_categorical_accuracy: 0.9073\n",
            "Epoch 114/400\n",
            "422/422 [==============================] - 10s 25ms/step - loss: 0.2228 - sparse_categorical_accuracy: 0.9123 - val_loss: 0.2645 - val_sparse_categorical_accuracy: 0.9080\n",
            "Epoch 115/400\n",
            "422/422 [==============================] - 10s 24ms/step - loss: 0.2214 - sparse_categorical_accuracy: 0.9151 - val_loss: 0.2657 - val_sparse_categorical_accuracy: 0.9080\n",
            "Epoch 116/400\n",
            "422/422 [==============================] - 10s 25ms/step - loss: 0.2208 - sparse_categorical_accuracy: 0.9135 - val_loss: 0.2730 - val_sparse_categorical_accuracy: 0.9053\n",
            "Epoch 117/400\n",
            "422/422 [==============================] - 9s 22ms/step - loss: 0.2215 - sparse_categorical_accuracy: 0.9147 - val_loss: 0.2728 - val_sparse_categorical_accuracy: 0.9057\n",
            "Epoch 118/400\n",
            "422/422 [==============================] - 10s 25ms/step - loss: 0.2220 - sparse_categorical_accuracy: 0.9155 - val_loss: 0.2713 - val_sparse_categorical_accuracy: 0.9050\n",
            "Epoch 119/400\n",
            "422/422 [==============================] - 10s 25ms/step - loss: 0.2229 - sparse_categorical_accuracy: 0.9156 - val_loss: 0.2690 - val_sparse_categorical_accuracy: 0.9082\n",
            "Epoch 120/400\n",
            "422/422 [==============================] - 10s 25ms/step - loss: 0.2202 - sparse_categorical_accuracy: 0.9154 - val_loss: 0.2733 - val_sparse_categorical_accuracy: 0.9073\n",
            "Epoch 121/400\n",
            "422/422 [==============================] - 10s 25ms/step - loss: 0.2208 - sparse_categorical_accuracy: 0.9148 - val_loss: 0.2738 - val_sparse_categorical_accuracy: 0.9070\n",
            "Epoch 122/400\n",
            "422/422 [==============================] - 9s 22ms/step - loss: 0.2231 - sparse_categorical_accuracy: 0.9133 - val_loss: 0.2683 - val_sparse_categorical_accuracy: 0.9063\n",
            "Epoch 123/400\n",
            "422/422 [==============================] - 10s 25ms/step - loss: 0.2204 - sparse_categorical_accuracy: 0.9152 - val_loss: 0.2690 - val_sparse_categorical_accuracy: 0.9075\n",
            "Epoch 124/400\n",
            "422/422 [==============================] - 10s 25ms/step - loss: 0.2201 - sparse_categorical_accuracy: 0.9161 - val_loss: 0.2709 - val_sparse_categorical_accuracy: 0.9057\n",
            "Epoch 125/400\n",
            "422/422 [==============================] - 11s 25ms/step - loss: 0.2168 - sparse_categorical_accuracy: 0.9156 - val_loss: 0.2743 - val_sparse_categorical_accuracy: 0.9058\n",
            "Epoch 126/400\n",
            "422/422 [==============================] - 11s 25ms/step - loss: 0.2179 - sparse_categorical_accuracy: 0.9161 - val_loss: 0.2712 - val_sparse_categorical_accuracy: 0.9048\n",
            "Epoch 127/400\n",
            "422/422 [==============================] - 10s 24ms/step - loss: 0.2194 - sparse_categorical_accuracy: 0.9141 - val_loss: 0.2687 - val_sparse_categorical_accuracy: 0.9055\n",
            "Epoch 128/400\n",
            "422/422 [==============================] - 10s 23ms/step - loss: 0.2166 - sparse_categorical_accuracy: 0.9167 - val_loss: 0.2664 - val_sparse_categorical_accuracy: 0.9082\n",
            "Epoch 129/400\n",
            "422/422 [==============================] - 11s 25ms/step - loss: 0.2148 - sparse_categorical_accuracy: 0.9187 - val_loss: 0.2740 - val_sparse_categorical_accuracy: 0.9048\n",
            "Epoch 130/400\n",
            "422/422 [==============================] - 10s 25ms/step - loss: 0.2166 - sparse_categorical_accuracy: 0.9172 - val_loss: 0.2759 - val_sparse_categorical_accuracy: 0.9045\n",
            "Epoch 131/400\n",
            "422/422 [==============================] - 10s 25ms/step - loss: 0.2183 - sparse_categorical_accuracy: 0.9157 - val_loss: 0.2687 - val_sparse_categorical_accuracy: 0.9067\n",
            "Epoch 132/400\n",
            "422/422 [==============================] - 10s 25ms/step - loss: 0.2157 - sparse_categorical_accuracy: 0.9181 - val_loss: 0.2650 - val_sparse_categorical_accuracy: 0.9092\n",
            "Epoch 133/400\n",
            "422/422 [==============================] - 9s 22ms/step - loss: 0.2123 - sparse_categorical_accuracy: 0.9185 - val_loss: 0.2678 - val_sparse_categorical_accuracy: 0.9085\n",
            "Epoch 134/400\n",
            "422/422 [==============================] - 11s 25ms/step - loss: 0.2141 - sparse_categorical_accuracy: 0.9170 - val_loss: 0.2766 - val_sparse_categorical_accuracy: 0.9065\n",
            "Epoch 135/400\n",
            "422/422 [==============================] - 10s 25ms/step - loss: 0.2151 - sparse_categorical_accuracy: 0.9184 - val_loss: 0.2685 - val_sparse_categorical_accuracy: 0.9085\n",
            "Epoch 136/400\n",
            "422/422 [==============================] - 10s 25ms/step - loss: 0.2155 - sparse_categorical_accuracy: 0.9159 - val_loss: 0.2677 - val_sparse_categorical_accuracy: 0.9053\n",
            "Epoch 137/400\n",
            "422/422 [==============================] - 10s 25ms/step - loss: 0.2144 - sparse_categorical_accuracy: 0.9177 - val_loss: 0.2719 - val_sparse_categorical_accuracy: 0.9083\n",
            "Epoch 138/400\n",
            "422/422 [==============================] - 10s 24ms/step - loss: 0.2127 - sparse_categorical_accuracy: 0.9174 - val_loss: 0.2728 - val_sparse_categorical_accuracy: 0.9077\n",
            "Epoch 139/400\n",
            "422/422 [==============================] - 10s 23ms/step - loss: 0.2148 - sparse_categorical_accuracy: 0.9177 - val_loss: 0.2692 - val_sparse_categorical_accuracy: 0.9060\n",
            "Epoch 140/400\n",
            "422/422 [==============================] - 10s 25ms/step - loss: 0.2110 - sparse_categorical_accuracy: 0.9188 - val_loss: 0.2747 - val_sparse_categorical_accuracy: 0.9057\n",
            "Epoch 141/400\n",
            "422/422 [==============================] - 10s 25ms/step - loss: 0.2127 - sparse_categorical_accuracy: 0.9192 - val_loss: 0.2748 - val_sparse_categorical_accuracy: 0.9097\n",
            "Epoch 142/400\n",
            "422/422 [==============================] - 10s 25ms/step - loss: 0.2135 - sparse_categorical_accuracy: 0.9177 - val_loss: 0.2745 - val_sparse_categorical_accuracy: 0.9040\n",
            "Epoch 143/400\n",
            "422/422 [==============================] - 10s 25ms/step - loss: 0.2128 - sparse_categorical_accuracy: 0.9174 - val_loss: 0.2676 - val_sparse_categorical_accuracy: 0.9085\n",
            "Epoch 144/400\n",
            "422/422 [==============================] - 9s 22ms/step - loss: 0.2131 - sparse_categorical_accuracy: 0.9175 - val_loss: 0.2685 - val_sparse_categorical_accuracy: 0.9045\n",
            "Epoch 145/400\n",
            "422/422 [==============================] - 10s 25ms/step - loss: 0.2117 - sparse_categorical_accuracy: 0.9191 - val_loss: 0.2711 - val_sparse_categorical_accuracy: 0.9087\n",
            "Epoch 146/400\n",
            "422/422 [==============================] - 10s 25ms/step - loss: 0.2131 - sparse_categorical_accuracy: 0.9180 - val_loss: 0.2679 - val_sparse_categorical_accuracy: 0.9095\n",
            "Epoch 147/400\n",
            "422/422 [==============================] - 10s 25ms/step - loss: 0.2118 - sparse_categorical_accuracy: 0.9185 - val_loss: 0.2719 - val_sparse_categorical_accuracy: 0.9072\n",
            "Epoch 148/400\n",
            "422/422 [==============================] - 10s 25ms/step - loss: 0.2116 - sparse_categorical_accuracy: 0.9189 - val_loss: 0.2704 - val_sparse_categorical_accuracy: 0.9078\n",
            "Epoch 149/400\n",
            "422/422 [==============================] - 10s 23ms/step - loss: 0.2133 - sparse_categorical_accuracy: 0.9169 - val_loss: 0.2681 - val_sparse_categorical_accuracy: 0.9067\n",
            "Epoch 150/400\n",
            "422/422 [==============================] - 10s 24ms/step - loss: 0.2120 - sparse_categorical_accuracy: 0.9191 - val_loss: 0.2710 - val_sparse_categorical_accuracy: 0.9070\n",
            "Epoch 151/400\n",
            "422/422 [==============================] - 10s 25ms/step - loss: 0.2108 - sparse_categorical_accuracy: 0.9181 - val_loss: 0.2730 - val_sparse_categorical_accuracy: 0.9067\n",
            "Epoch 152/400\n",
            "422/422 [==============================] - 10s 25ms/step - loss: 0.2102 - sparse_categorical_accuracy: 0.9188 - val_loss: 0.2717 - val_sparse_categorical_accuracy: 0.9067\n",
            "Epoch 153/400\n",
            "422/422 [==============================] - 10s 25ms/step - loss: 0.2081 - sparse_categorical_accuracy: 0.9191 - val_loss: 0.2716 - val_sparse_categorical_accuracy: 0.9052\n",
            "Epoch 154/400\n",
            "422/422 [==============================] - 10s 25ms/step - loss: 0.2077 - sparse_categorical_accuracy: 0.9190 - val_loss: 0.2752 - val_sparse_categorical_accuracy: 0.9073\n",
            "Epoch 155/400\n",
            "422/422 [==============================] - 10s 23ms/step - loss: 0.2075 - sparse_categorical_accuracy: 0.9186 - val_loss: 0.2739 - val_sparse_categorical_accuracy: 0.9063\n",
            "Epoch 156/400\n",
            "422/422 [==============================] - 10s 25ms/step - loss: 0.2082 - sparse_categorical_accuracy: 0.9192 - val_loss: 0.2721 - val_sparse_categorical_accuracy: 0.9073\n",
            "Epoch 157/400\n",
            "422/422 [==============================] - 11s 25ms/step - loss: 0.2093 - sparse_categorical_accuracy: 0.9210 - val_loss: 0.2691 - val_sparse_categorical_accuracy: 0.9083\n",
            "Epoch 158/400\n",
            "422/422 [==============================] - 10s 25ms/step - loss: 0.2082 - sparse_categorical_accuracy: 0.9198 - val_loss: 0.2697 - val_sparse_categorical_accuracy: 0.9068\n",
            "Epoch 159/400\n",
            "422/422 [==============================] - 10s 25ms/step - loss: 0.2083 - sparse_categorical_accuracy: 0.9201 - val_loss: 0.2668 - val_sparse_categorical_accuracy: 0.9082\n",
            "Epoch 160/400\n",
            "422/422 [==============================] - 10s 24ms/step - loss: 0.2059 - sparse_categorical_accuracy: 0.9209 - val_loss: 0.2718 - val_sparse_categorical_accuracy: 0.9067\n",
            "Epoch 161/400\n",
            "422/422 [==============================] - 10s 24ms/step - loss: 0.2052 - sparse_categorical_accuracy: 0.9220 - val_loss: 0.2756 - val_sparse_categorical_accuracy: 0.9038\n",
            "Epoch 162/400\n",
            "422/422 [==============================] - 11s 25ms/step - loss: 0.2105 - sparse_categorical_accuracy: 0.9177 - val_loss: 0.2714 - val_sparse_categorical_accuracy: 0.9060\n",
            "Epoch 163/400\n",
            "422/422 [==============================] - 11s 25ms/step - loss: 0.2069 - sparse_categorical_accuracy: 0.9185 - val_loss: 0.2698 - val_sparse_categorical_accuracy: 0.9103\n",
            "Epoch 164/400\n",
            "422/422 [==============================] - 10s 25ms/step - loss: 0.2062 - sparse_categorical_accuracy: 0.9204 - val_loss: 0.2737 - val_sparse_categorical_accuracy: 0.9080\n",
            "Epoch 165/400\n",
            "422/422 [==============================] - 10s 25ms/step - loss: 0.2073 - sparse_categorical_accuracy: 0.9194 - val_loss: 0.2778 - val_sparse_categorical_accuracy: 0.9063\n",
            "Epoch 166/400\n",
            "422/422 [==============================] - 10s 23ms/step - loss: 0.2036 - sparse_categorical_accuracy: 0.9219 - val_loss: 0.2727 - val_sparse_categorical_accuracy: 0.9080\n",
            "Epoch 167/400\n",
            "422/422 [==============================] - 10s 25ms/step - loss: 0.2048 - sparse_categorical_accuracy: 0.9203 - val_loss: 0.2733 - val_sparse_categorical_accuracy: 0.9075\n",
            "Epoch 168/400\n",
            "422/422 [==============================] - 11s 25ms/step - loss: 0.2045 - sparse_categorical_accuracy: 0.9205 - val_loss: 0.2724 - val_sparse_categorical_accuracy: 0.9072\n",
            "Epoch 169/400\n",
            "422/422 [==============================] - 10s 25ms/step - loss: 0.2063 - sparse_categorical_accuracy: 0.9206 - val_loss: 0.2737 - val_sparse_categorical_accuracy: 0.9090\n",
            "Epoch 170/400\n",
            "422/422 [==============================] - 11s 25ms/step - loss: 0.2038 - sparse_categorical_accuracy: 0.9221 - val_loss: 0.2727 - val_sparse_categorical_accuracy: 0.9093\n",
            "Epoch 171/400\n",
            "422/422 [==============================] - 10s 24ms/step - loss: 0.2056 - sparse_categorical_accuracy: 0.9209 - val_loss: 0.2707 - val_sparse_categorical_accuracy: 0.9093\n",
            "Epoch 172/400\n",
            "422/422 [==============================] - 10s 23ms/step - loss: 0.2041 - sparse_categorical_accuracy: 0.9211 - val_loss: 0.2773 - val_sparse_categorical_accuracy: 0.9080\n",
            "Epoch 173/400\n",
            "422/422 [==============================] - 11s 25ms/step - loss: 0.2015 - sparse_categorical_accuracy: 0.9229 - val_loss: 0.2822 - val_sparse_categorical_accuracy: 0.9075\n",
            "Epoch 174/400\n",
            "422/422 [==============================] - 11s 25ms/step - loss: 0.2053 - sparse_categorical_accuracy: 0.9214 - val_loss: 0.2772 - val_sparse_categorical_accuracy: 0.9080\n",
            "Epoch 175/400\n",
            "422/422 [==============================] - 11s 25ms/step - loss: 0.2052 - sparse_categorical_accuracy: 0.9202 - val_loss: 0.2803 - val_sparse_categorical_accuracy: 0.9067\n",
            "Epoch 176/400\n",
            "422/422 [==============================] - 11s 25ms/step - loss: 0.2030 - sparse_categorical_accuracy: 0.9216 - val_loss: 0.2726 - val_sparse_categorical_accuracy: 0.9068\n",
            "Epoch 177/400\n",
            "422/422 [==============================] - 10s 23ms/step - loss: 0.2045 - sparse_categorical_accuracy: 0.9212 - val_loss: 0.2706 - val_sparse_categorical_accuracy: 0.9100\n",
            "Epoch 178/400\n",
            "422/422 [==============================] - 11s 25ms/step - loss: 0.1999 - sparse_categorical_accuracy: 0.9224 - val_loss: 0.2771 - val_sparse_categorical_accuracy: 0.9077\n",
            "Epoch 179/400\n",
            "422/422 [==============================] - 11s 25ms/step - loss: 0.2047 - sparse_categorical_accuracy: 0.9217 - val_loss: 0.2798 - val_sparse_categorical_accuracy: 0.9072\n",
            "Epoch 180/400\n",
            "422/422 [==============================] - 11s 25ms/step - loss: 0.2038 - sparse_categorical_accuracy: 0.9218 - val_loss: 0.2737 - val_sparse_categorical_accuracy: 0.9077\n",
            "Epoch 181/400\n",
            "422/422 [==============================] - 11s 25ms/step - loss: 0.2003 - sparse_categorical_accuracy: 0.9223 - val_loss: 0.2703 - val_sparse_categorical_accuracy: 0.9098\n",
            "Epoch 182/400\n",
            "422/422 [==============================] - 11s 25ms/step - loss: 0.2018 - sparse_categorical_accuracy: 0.9231 - val_loss: 0.2721 - val_sparse_categorical_accuracy: 0.9093\n",
            "Epoch 183/400\n",
            "422/422 [==============================] - 10s 23ms/step - loss: 0.2018 - sparse_categorical_accuracy: 0.9215 - val_loss: 0.2701 - val_sparse_categorical_accuracy: 0.9098\n",
            "Epoch 184/400\n",
            "422/422 [==============================] - 11s 25ms/step - loss: 0.2026 - sparse_categorical_accuracy: 0.9215 - val_loss: 0.2690 - val_sparse_categorical_accuracy: 0.9098\n",
            "Epoch 185/400\n",
            "422/422 [==============================] - 11s 25ms/step - loss: 0.2015 - sparse_categorical_accuracy: 0.9222 - val_loss: 0.2724 - val_sparse_categorical_accuracy: 0.9078\n",
            "Epoch 186/400\n",
            "422/422 [==============================] - 11s 25ms/step - loss: 0.2016 - sparse_categorical_accuracy: 0.9216 - val_loss: 0.2775 - val_sparse_categorical_accuracy: 0.9060\n",
            "Epoch 187/400\n",
            "422/422 [==============================] - 11s 25ms/step - loss: 0.1986 - sparse_categorical_accuracy: 0.9234 - val_loss: 0.2678 - val_sparse_categorical_accuracy: 0.9097\n",
            "Epoch 188/400\n",
            "422/422 [==============================] - 10s 24ms/step - loss: 0.2011 - sparse_categorical_accuracy: 0.9238 - val_loss: 0.2768 - val_sparse_categorical_accuracy: 0.9075\n",
            "Epoch 189/400\n",
            "422/422 [==============================] - 10s 23ms/step - loss: 0.1995 - sparse_categorical_accuracy: 0.9230 - val_loss: 0.2752 - val_sparse_categorical_accuracy: 0.9065\n",
            "Epoch 190/400\n",
            "422/422 [==============================] - 11s 25ms/step - loss: 0.1985 - sparse_categorical_accuracy: 0.9241 - val_loss: 0.2725 - val_sparse_categorical_accuracy: 0.9083\n",
            "Epoch 191/400\n",
            "422/422 [==============================] - 10s 25ms/step - loss: 0.2012 - sparse_categorical_accuracy: 0.9230 - val_loss: 0.2711 - val_sparse_categorical_accuracy: 0.9078\n",
            "Epoch 192/400\n",
            "422/422 [==============================] - 11s 25ms/step - loss: 0.2009 - sparse_categorical_accuracy: 0.9224 - val_loss: 0.2665 - val_sparse_categorical_accuracy: 0.9082\n",
            "Epoch 193/400\n",
            "422/422 [==============================] - 11s 25ms/step - loss: 0.1983 - sparse_categorical_accuracy: 0.9223 - val_loss: 0.2735 - val_sparse_categorical_accuracy: 0.9083\n",
            "Epoch 194/400\n",
            "422/422 [==============================] - 10s 23ms/step - loss: 0.1966 - sparse_categorical_accuracy: 0.9239 - val_loss: 0.2739 - val_sparse_categorical_accuracy: 0.9078\n",
            "Epoch 195/400\n",
            "422/422 [==============================] - 11s 25ms/step - loss: 0.1985 - sparse_categorical_accuracy: 0.9231 - val_loss: 0.2695 - val_sparse_categorical_accuracy: 0.9092\n",
            "Epoch 196/400\n",
            "422/422 [==============================] - 11s 25ms/step - loss: 0.1991 - sparse_categorical_accuracy: 0.9224 - val_loss: 0.2673 - val_sparse_categorical_accuracy: 0.9107\n",
            "Epoch 197/400\n",
            "422/422 [==============================] - 11s 25ms/step - loss: 0.1988 - sparse_categorical_accuracy: 0.9238 - val_loss: 0.2686 - val_sparse_categorical_accuracy: 0.9087\n",
            "Epoch 198/400\n",
            "422/422 [==============================] - 11s 25ms/step - loss: 0.1971 - sparse_categorical_accuracy: 0.9248 - val_loss: 0.2727 - val_sparse_categorical_accuracy: 0.9085\n",
            "Epoch 199/400\n",
            "422/422 [==============================] - 10s 25ms/step - loss: 0.1957 - sparse_categorical_accuracy: 0.9249 - val_loss: 0.2713 - val_sparse_categorical_accuracy: 0.9083\n",
            "Epoch 200/400\n",
            "422/422 [==============================] - 10s 23ms/step - loss: 0.1990 - sparse_categorical_accuracy: 0.9229 - val_loss: 0.2729 - val_sparse_categorical_accuracy: 0.9105\n",
            "Epoch 201/400\n",
            "422/422 [==============================] - 11s 25ms/step - loss: 0.2002 - sparse_categorical_accuracy: 0.9221 - val_loss: 0.2752 - val_sparse_categorical_accuracy: 0.9088\n",
            "Epoch 202/400\n",
            "422/422 [==============================] - 11s 25ms/step - loss: 0.1977 - sparse_categorical_accuracy: 0.9243 - val_loss: 0.2748 - val_sparse_categorical_accuracy: 0.9072\n",
            "Epoch 203/400\n",
            "422/422 [==============================] - 11s 25ms/step - loss: 0.1940 - sparse_categorical_accuracy: 0.9254 - val_loss: 0.2754 - val_sparse_categorical_accuracy: 0.9102\n",
            "Epoch 204/400\n",
            "422/422 [==============================] - 11s 26ms/step - loss: 0.1940 - sparse_categorical_accuracy: 0.9247 - val_loss: 0.2718 - val_sparse_categorical_accuracy: 0.9100\n",
            "Epoch 205/400\n",
            "422/422 [==============================] - 10s 24ms/step - loss: 0.1960 - sparse_categorical_accuracy: 0.9240 - val_loss: 0.2761 - val_sparse_categorical_accuracy: 0.9087\n",
            "Epoch 206/400\n",
            "422/422 [==============================] - 10s 24ms/step - loss: 0.1974 - sparse_categorical_accuracy: 0.9235 - val_loss: 0.2721 - val_sparse_categorical_accuracy: 0.9105\n",
            "Epoch 207/400\n",
            "422/422 [==============================] - 11s 25ms/step - loss: 0.1966 - sparse_categorical_accuracy: 0.9237 - val_loss: 0.2707 - val_sparse_categorical_accuracy: 0.9077\n",
            "Epoch 208/400\n",
            "422/422 [==============================] - 11s 25ms/step - loss: 0.2006 - sparse_categorical_accuracy: 0.9228 - val_loss: 0.2691 - val_sparse_categorical_accuracy: 0.9112\n",
            "Epoch 209/400\n",
            "422/422 [==============================] - 11s 25ms/step - loss: 0.1948 - sparse_categorical_accuracy: 0.9243 - val_loss: 0.2751 - val_sparse_categorical_accuracy: 0.9087\n",
            "Epoch 210/400\n",
            "422/422 [==============================] - 11s 25ms/step - loss: 0.1966 - sparse_categorical_accuracy: 0.9242 - val_loss: 0.2710 - val_sparse_categorical_accuracy: 0.9072\n",
            "Epoch 211/400\n",
            "422/422 [==============================] - 10s 25ms/step - loss: 0.1977 - sparse_categorical_accuracy: 0.9243 - val_loss: 0.2742 - val_sparse_categorical_accuracy: 0.9083\n",
            "Epoch 212/400\n",
            "422/422 [==============================] - 10s 24ms/step - loss: 0.1929 - sparse_categorical_accuracy: 0.9255 - val_loss: 0.2781 - val_sparse_categorical_accuracy: 0.9070\n",
            "Epoch 213/400\n",
            "422/422 [==============================] - 11s 26ms/step - loss: 0.1926 - sparse_categorical_accuracy: 0.9260 - val_loss: 0.2761 - val_sparse_categorical_accuracy: 0.9088\n",
            "Epoch 214/400\n",
            "422/422 [==============================] - 11s 26ms/step - loss: 0.1929 - sparse_categorical_accuracy: 0.9254 - val_loss: 0.2772 - val_sparse_categorical_accuracy: 0.9083\n",
            "Epoch 215/400\n",
            "422/422 [==============================] - 11s 26ms/step - loss: 0.1915 - sparse_categorical_accuracy: 0.9265 - val_loss: 0.2801 - val_sparse_categorical_accuracy: 0.9087\n",
            "Epoch 216/400\n",
            "422/422 [==============================] - 11s 25ms/step - loss: 0.1921 - sparse_categorical_accuracy: 0.9258 - val_loss: 0.2757 - val_sparse_categorical_accuracy: 0.9068\n",
            "Epoch 217/400\n",
            "422/422 [==============================] - 10s 25ms/step - loss: 0.1965 - sparse_categorical_accuracy: 0.9238 - val_loss: 0.2738 - val_sparse_categorical_accuracy: 0.9082\n",
            "Epoch 218/400\n",
            "422/422 [==============================] - 10s 24ms/step - loss: 0.1933 - sparse_categorical_accuracy: 0.9250 - val_loss: 0.2708 - val_sparse_categorical_accuracy: 0.9098\n",
            "Epoch 219/400\n",
            "422/422 [==============================] - 11s 25ms/step - loss: 0.1969 - sparse_categorical_accuracy: 0.9244 - val_loss: 0.2731 - val_sparse_categorical_accuracy: 0.9093\n",
            "Epoch 220/400\n",
            "422/422 [==============================] - 11s 25ms/step - loss: 0.1946 - sparse_categorical_accuracy: 0.9246 - val_loss: 0.2717 - val_sparse_categorical_accuracy: 0.9092\n",
            "Epoch 221/400\n",
            "422/422 [==============================] - 11s 25ms/step - loss: 0.1976 - sparse_categorical_accuracy: 0.9237 - val_loss: 0.2698 - val_sparse_categorical_accuracy: 0.9077\n",
            "Epoch 222/400\n",
            "422/422 [==============================] - 11s 25ms/step - loss: 0.1947 - sparse_categorical_accuracy: 0.9253 - val_loss: 0.2710 - val_sparse_categorical_accuracy: 0.9083\n",
            "Epoch 223/400\n",
            "422/422 [==============================] - 10s 25ms/step - loss: 0.1905 - sparse_categorical_accuracy: 0.9256 - val_loss: 0.2742 - val_sparse_categorical_accuracy: 0.9097\n",
            "Epoch 224/400\n",
            "422/422 [==============================] - 10s 24ms/step - loss: 0.1959 - sparse_categorical_accuracy: 0.9237 - val_loss: 0.2780 - val_sparse_categorical_accuracy: 0.9067\n",
            "Epoch 225/400\n",
            "422/422 [==============================] - 11s 25ms/step - loss: 0.1929 - sparse_categorical_accuracy: 0.9255 - val_loss: 0.2722 - val_sparse_categorical_accuracy: 0.9093\n",
            "Epoch 226/400\n",
            "422/422 [==============================] - 11s 26ms/step - loss: 0.1902 - sparse_categorical_accuracy: 0.9262 - val_loss: 0.2771 - val_sparse_categorical_accuracy: 0.9082\n",
            "Epoch 227/400\n",
            "422/422 [==============================] - 11s 26ms/step - loss: 0.1921 - sparse_categorical_accuracy: 0.9265 - val_loss: 0.2729 - val_sparse_categorical_accuracy: 0.9083\n",
            "Epoch 228/400\n",
            "422/422 [==============================] - 11s 26ms/step - loss: 0.1960 - sparse_categorical_accuracy: 0.9248 - val_loss: 0.2707 - val_sparse_categorical_accuracy: 0.9095\n",
            "Epoch 229/400\n",
            "422/422 [==============================] - 11s 26ms/step - loss: 0.1931 - sparse_categorical_accuracy: 0.9240 - val_loss: 0.2745 - val_sparse_categorical_accuracy: 0.9077\n",
            "Epoch 230/400\n",
            "422/422 [==============================] - 10s 25ms/step - loss: 0.1921 - sparse_categorical_accuracy: 0.9258 - val_loss: 0.2796 - val_sparse_categorical_accuracy: 0.9083\n",
            "Epoch 231/400\n",
            "422/422 [==============================] - 11s 25ms/step - loss: 0.1930 - sparse_categorical_accuracy: 0.9254 - val_loss: 0.2793 - val_sparse_categorical_accuracy: 0.9078\n",
            "Epoch 232/400\n",
            "422/422 [==============================] - 11s 26ms/step - loss: 0.1919 - sparse_categorical_accuracy: 0.9258 - val_loss: 0.2755 - val_sparse_categorical_accuracy: 0.9103\n",
            "Epoch 233/400\n",
            "422/422 [==============================] - 11s 26ms/step - loss: 0.1930 - sparse_categorical_accuracy: 0.9252 - val_loss: 0.2750 - val_sparse_categorical_accuracy: 0.9078\n",
            "Epoch 234/400\n",
            "422/422 [==============================] - 11s 26ms/step - loss: 0.1929 - sparse_categorical_accuracy: 0.9260 - val_loss: 0.2738 - val_sparse_categorical_accuracy: 0.9107\n",
            "Epoch 235/400\n",
            "422/422 [==============================] - 11s 26ms/step - loss: 0.1919 - sparse_categorical_accuracy: 0.9255 - val_loss: 0.2752 - val_sparse_categorical_accuracy: 0.9093\n",
            "Epoch 236/400\n",
            "422/422 [==============================] - 11s 25ms/step - loss: 0.1900 - sparse_categorical_accuracy: 0.9261 - val_loss: 0.2814 - val_sparse_categorical_accuracy: 0.9072\n",
            "Epoch 237/400\n",
            "422/422 [==============================] - 10s 24ms/step - loss: 0.1896 - sparse_categorical_accuracy: 0.9266 - val_loss: 0.2760 - val_sparse_categorical_accuracy: 0.9078\n",
            "Epoch 238/400\n",
            "422/422 [==============================] - 11s 26ms/step - loss: 0.1893 - sparse_categorical_accuracy: 0.9268 - val_loss: 0.2755 - val_sparse_categorical_accuracy: 0.9055\n",
            "Epoch 239/400\n",
            "422/422 [==============================] - 11s 25ms/step - loss: 0.1919 - sparse_categorical_accuracy: 0.9260 - val_loss: 0.2773 - val_sparse_categorical_accuracy: 0.9085\n",
            "Epoch 240/400\n",
            "422/422 [==============================] - 11s 25ms/step - loss: 0.1913 - sparse_categorical_accuracy: 0.9258 - val_loss: 0.2697 - val_sparse_categorical_accuracy: 0.9108\n",
            "Epoch 241/400\n",
            "422/422 [==============================] - 11s 26ms/step - loss: 0.1927 - sparse_categorical_accuracy: 0.9254 - val_loss: 0.2793 - val_sparse_categorical_accuracy: 0.9090\n",
            "Epoch 242/400\n",
            "422/422 [==============================] - 10s 24ms/step - loss: 0.1928 - sparse_categorical_accuracy: 0.9255 - val_loss: 0.2736 - val_sparse_categorical_accuracy: 0.9093\n",
            "Epoch 243/400\n",
            "422/422 [==============================] - 10s 24ms/step - loss: 0.1925 - sparse_categorical_accuracy: 0.9246 - val_loss: 0.2796 - val_sparse_categorical_accuracy: 0.9087\n",
            "Epoch 244/400\n",
            "422/422 [==============================] - 11s 26ms/step - loss: 0.1880 - sparse_categorical_accuracy: 0.9264 - val_loss: 0.2766 - val_sparse_categorical_accuracy: 0.9093\n",
            "Epoch 245/400\n",
            "422/422 [==============================] - 11s 26ms/step - loss: 0.1901 - sparse_categorical_accuracy: 0.9270 - val_loss: 0.2744 - val_sparse_categorical_accuracy: 0.9100\n",
            "Epoch 246/400\n",
            "422/422 [==============================] - 11s 26ms/step - loss: 0.1879 - sparse_categorical_accuracy: 0.9280 - val_loss: 0.2751 - val_sparse_categorical_accuracy: 0.9097\n",
            "Epoch 247/400\n",
            "422/422 [==============================] - 11s 26ms/step - loss: 0.1906 - sparse_categorical_accuracy: 0.9256 - val_loss: 0.2747 - val_sparse_categorical_accuracy: 0.9077\n",
            "Epoch 248/400\n",
            "422/422 [==============================] - 11s 25ms/step - loss: 0.1873 - sparse_categorical_accuracy: 0.9264 - val_loss: 0.2750 - val_sparse_categorical_accuracy: 0.9060\n",
            "Epoch 249/400\n",
            "422/422 [==============================] - 10s 24ms/step - loss: 0.1879 - sparse_categorical_accuracy: 0.9270 - val_loss: 0.2752 - val_sparse_categorical_accuracy: 0.9077\n",
            "Epoch 250/400\n",
            "422/422 [==============================] - 11s 26ms/step - loss: 0.1902 - sparse_categorical_accuracy: 0.9263 - val_loss: 0.2784 - val_sparse_categorical_accuracy: 0.9070\n",
            "Epoch 251/400\n",
            "422/422 [==============================] - 11s 25ms/step - loss: 0.1895 - sparse_categorical_accuracy: 0.9273 - val_loss: 0.2757 - val_sparse_categorical_accuracy: 0.9065\n",
            "Epoch 252/400\n",
            "422/422 [==============================] - 11s 26ms/step - loss: 0.1868 - sparse_categorical_accuracy: 0.9285 - val_loss: 0.2777 - val_sparse_categorical_accuracy: 0.9075\n",
            "Epoch 253/400\n",
            "422/422 [==============================] - 11s 25ms/step - loss: 0.1882 - sparse_categorical_accuracy: 0.9273 - val_loss: 0.2798 - val_sparse_categorical_accuracy: 0.9085\n",
            "Epoch 254/400\n",
            "422/422 [==============================] - 11s 25ms/step - loss: 0.1874 - sparse_categorical_accuracy: 0.9268 - val_loss: 0.2740 - val_sparse_categorical_accuracy: 0.9077\n",
            "Epoch 255/400\n",
            "422/422 [==============================] - 10s 24ms/step - loss: 0.1907 - sparse_categorical_accuracy: 0.9255 - val_loss: 0.2729 - val_sparse_categorical_accuracy: 0.9083\n",
            "Epoch 256/400\n",
            "422/422 [==============================] - 11s 26ms/step - loss: 0.1876 - sparse_categorical_accuracy: 0.9274 - val_loss: 0.2742 - val_sparse_categorical_accuracy: 0.9093\n",
            "Epoch 257/400\n",
            "422/422 [==============================] - 11s 25ms/step - loss: 0.1883 - sparse_categorical_accuracy: 0.9276 - val_loss: 0.2780 - val_sparse_categorical_accuracy: 0.9072\n",
            "Epoch 258/400\n",
            "422/422 [==============================] - 11s 26ms/step - loss: 0.1866 - sparse_categorical_accuracy: 0.9281 - val_loss: 0.2712 - val_sparse_categorical_accuracy: 0.9100\n",
            "Epoch 259/400\n",
            "422/422 [==============================] - 11s 25ms/step - loss: 0.1874 - sparse_categorical_accuracy: 0.9279 - val_loss: 0.2710 - val_sparse_categorical_accuracy: 0.9085\n",
            "Epoch 260/400\n",
            "422/422 [==============================] - 10s 25ms/step - loss: 0.1863 - sparse_categorical_accuracy: 0.9271 - val_loss: 0.2707 - val_sparse_categorical_accuracy: 0.9108\n",
            "Epoch 261/400\n",
            "422/422 [==============================] - 10s 24ms/step - loss: 0.1841 - sparse_categorical_accuracy: 0.9291 - val_loss: 0.2763 - val_sparse_categorical_accuracy: 0.9078\n",
            "Epoch 262/400\n",
            "422/422 [==============================] - 11s 26ms/step - loss: 0.1875 - sparse_categorical_accuracy: 0.9281 - val_loss: 0.2783 - val_sparse_categorical_accuracy: 0.9095\n",
            "Epoch 263/400\n",
            "422/422 [==============================] - 11s 26ms/step - loss: 0.1864 - sparse_categorical_accuracy: 0.9284 - val_loss: 0.2736 - val_sparse_categorical_accuracy: 0.9075\n",
            "Epoch 264/400\n",
            "422/422 [==============================] - 11s 26ms/step - loss: 0.1856 - sparse_categorical_accuracy: 0.9281 - val_loss: 0.2717 - val_sparse_categorical_accuracy: 0.9098\n",
            "Epoch 265/400\n",
            "422/422 [==============================] - 11s 26ms/step - loss: 0.1861 - sparse_categorical_accuracy: 0.9272 - val_loss: 0.2704 - val_sparse_categorical_accuracy: 0.9122\n",
            "Epoch 266/400\n",
            "422/422 [==============================] - 11s 26ms/step - loss: 0.1872 - sparse_categorical_accuracy: 0.9273 - val_loss: 0.2748 - val_sparse_categorical_accuracy: 0.9090\n",
            "Epoch 267/400\n",
            "422/422 [==============================] - 10s 24ms/step - loss: 0.1864 - sparse_categorical_accuracy: 0.9275 - val_loss: 0.2730 - val_sparse_categorical_accuracy: 0.9078\n",
            "Epoch 268/400\n",
            "422/422 [==============================] - 11s 26ms/step - loss: 0.1862 - sparse_categorical_accuracy: 0.9284 - val_loss: 0.2773 - val_sparse_categorical_accuracy: 0.9093\n",
            "Epoch 269/400\n",
            "422/422 [==============================] - 11s 26ms/step - loss: 0.1842 - sparse_categorical_accuracy: 0.9281 - val_loss: 0.2707 - val_sparse_categorical_accuracy: 0.9105\n",
            "Epoch 270/400\n",
            "422/422 [==============================] - 11s 26ms/step - loss: 0.1892 - sparse_categorical_accuracy: 0.9281 - val_loss: 0.2744 - val_sparse_categorical_accuracy: 0.9097\n",
            "Epoch 271/400\n",
            "422/422 [==============================] - 11s 26ms/step - loss: 0.1850 - sparse_categorical_accuracy: 0.9274 - val_loss: 0.2783 - val_sparse_categorical_accuracy: 0.9090\n",
            "Epoch 272/400\n",
            "422/422 [==============================] - 11s 25ms/step - loss: 0.1829 - sparse_categorical_accuracy: 0.9295 - val_loss: 0.2784 - val_sparse_categorical_accuracy: 0.9087\n",
            "Epoch 273/400\n",
            "422/422 [==============================] - 10s 24ms/step - loss: 0.1884 - sparse_categorical_accuracy: 0.9279 - val_loss: 0.2752 - val_sparse_categorical_accuracy: 0.9077\n",
            "Epoch 274/400\n",
            "422/422 [==============================] - 11s 26ms/step - loss: 0.1824 - sparse_categorical_accuracy: 0.9290 - val_loss: 0.2790 - val_sparse_categorical_accuracy: 0.9063\n",
            "Epoch 275/400\n",
            "422/422 [==============================] - 11s 26ms/step - loss: 0.1857 - sparse_categorical_accuracy: 0.9291 - val_loss: 0.2728 - val_sparse_categorical_accuracy: 0.9077\n",
            "Epoch 276/400\n",
            "422/422 [==============================] - 11s 26ms/step - loss: 0.1873 - sparse_categorical_accuracy: 0.9267 - val_loss: 0.2773 - val_sparse_categorical_accuracy: 0.9073\n",
            "Epoch 277/400\n",
            "422/422 [==============================] - 11s 26ms/step - loss: 0.1859 - sparse_categorical_accuracy: 0.9281 - val_loss: 0.2735 - val_sparse_categorical_accuracy: 0.9100\n",
            "Epoch 278/400\n",
            "422/422 [==============================] - 11s 26ms/step - loss: 0.1843 - sparse_categorical_accuracy: 0.9281 - val_loss: 0.2774 - val_sparse_categorical_accuracy: 0.9037\n",
            "Epoch 279/400\n",
            "422/422 [==============================] - 10s 23ms/step - loss: 0.1851 - sparse_categorical_accuracy: 0.9285 - val_loss: 0.2745 - val_sparse_categorical_accuracy: 0.9097\n",
            "Epoch 280/400\n",
            "422/422 [==============================] - 11s 26ms/step - loss: 0.1828 - sparse_categorical_accuracy: 0.9286 - val_loss: 0.2777 - val_sparse_categorical_accuracy: 0.9073\n",
            "Epoch 281/400\n",
            "422/422 [==============================] - 11s 26ms/step - loss: 0.1846 - sparse_categorical_accuracy: 0.9300 - val_loss: 0.2756 - val_sparse_categorical_accuracy: 0.9077\n",
            "Epoch 282/400\n",
            "422/422 [==============================] - 11s 26ms/step - loss: 0.1844 - sparse_categorical_accuracy: 0.9294 - val_loss: 0.2763 - val_sparse_categorical_accuracy: 0.9095\n",
            "Epoch 283/400\n",
            "422/422 [==============================] - 11s 26ms/step - loss: 0.1826 - sparse_categorical_accuracy: 0.9293 - val_loss: 0.2742 - val_sparse_categorical_accuracy: 0.9083\n",
            "Epoch 284/400\n",
            "422/422 [==============================] - 11s 26ms/step - loss: 0.1840 - sparse_categorical_accuracy: 0.9289 - val_loss: 0.2750 - val_sparse_categorical_accuracy: 0.9087\n",
            "Epoch 285/400\n",
            "422/422 [==============================] - 10s 24ms/step - loss: 0.1797 - sparse_categorical_accuracy: 0.9300 - val_loss: 0.2782 - val_sparse_categorical_accuracy: 0.9093\n",
            "Epoch 286/400\n",
            "422/422 [==============================] - 11s 25ms/step - loss: 0.1834 - sparse_categorical_accuracy: 0.9288 - val_loss: 0.2814 - val_sparse_categorical_accuracy: 0.9070\n",
            "Epoch 287/400\n",
            "422/422 [==============================] - 11s 26ms/step - loss: 0.1826 - sparse_categorical_accuracy: 0.9290 - val_loss: 0.2792 - val_sparse_categorical_accuracy: 0.9092\n",
            "Epoch 288/400\n",
            "422/422 [==============================] - 11s 26ms/step - loss: 0.1818 - sparse_categorical_accuracy: 0.9291 - val_loss: 0.2709 - val_sparse_categorical_accuracy: 0.9103\n",
            "Epoch 289/400\n",
            "422/422 [==============================] - 11s 26ms/step - loss: 0.1856 - sparse_categorical_accuracy: 0.9278 - val_loss: 0.2777 - val_sparse_categorical_accuracy: 0.9085\n",
            "Epoch 290/400\n",
            "422/422 [==============================] - 11s 26ms/step - loss: 0.1807 - sparse_categorical_accuracy: 0.9296 - val_loss: 0.2784 - val_sparse_categorical_accuracy: 0.9083\n",
            "Epoch 291/400\n",
            "422/422 [==============================] - 10s 24ms/step - loss: 0.1817 - sparse_categorical_accuracy: 0.9292 - val_loss: 0.2830 - val_sparse_categorical_accuracy: 0.9078\n",
            "Epoch 292/400\n",
            "422/422 [==============================] - 11s 25ms/step - loss: 0.1822 - sparse_categorical_accuracy: 0.9291 - val_loss: 0.2764 - val_sparse_categorical_accuracy: 0.9097\n",
            "Epoch 293/400\n",
            "422/422 [==============================] - 11s 26ms/step - loss: 0.1837 - sparse_categorical_accuracy: 0.9283 - val_loss: 0.2746 - val_sparse_categorical_accuracy: 0.9100\n",
            "Epoch 294/400\n",
            "422/422 [==============================] - 11s 26ms/step - loss: 0.1820 - sparse_categorical_accuracy: 0.9298 - val_loss: 0.2817 - val_sparse_categorical_accuracy: 0.9107\n",
            "Epoch 295/400\n",
            "422/422 [==============================] - 11s 26ms/step - loss: 0.1807 - sparse_categorical_accuracy: 0.9302 - val_loss: 0.2780 - val_sparse_categorical_accuracy: 0.9097\n",
            "Epoch 296/400\n",
            "422/422 [==============================] - 11s 26ms/step - loss: 0.1787 - sparse_categorical_accuracy: 0.9310 - val_loss: 0.2811 - val_sparse_categorical_accuracy: 0.9080\n",
            "Epoch 297/400\n",
            "422/422 [==============================] - 10s 25ms/step - loss: 0.1855 - sparse_categorical_accuracy: 0.9282 - val_loss: 0.2765 - val_sparse_categorical_accuracy: 0.9068\n",
            "Epoch 298/400\n",
            "422/422 [==============================] - 10s 25ms/step - loss: 0.1811 - sparse_categorical_accuracy: 0.9295 - val_loss: 0.2853 - val_sparse_categorical_accuracy: 0.9083\n",
            "Epoch 299/400\n",
            "422/422 [==============================] - 11s 25ms/step - loss: 0.1830 - sparse_categorical_accuracy: 0.9305 - val_loss: 0.2757 - val_sparse_categorical_accuracy: 0.9085\n",
            "Epoch 300/400\n",
            "422/422 [==============================] - 11s 26ms/step - loss: 0.1830 - sparse_categorical_accuracy: 0.9298 - val_loss: 0.2800 - val_sparse_categorical_accuracy: 0.9078\n",
            "Epoch 301/400\n",
            "422/422 [==============================] - 11s 26ms/step - loss: 0.1815 - sparse_categorical_accuracy: 0.9291 - val_loss: 0.2792 - val_sparse_categorical_accuracy: 0.9082\n",
            "Epoch 302/400\n",
            "422/422 [==============================] - 11s 26ms/step - loss: 0.1793 - sparse_categorical_accuracy: 0.9305 - val_loss: 0.2822 - val_sparse_categorical_accuracy: 0.9093\n",
            "Epoch 303/400\n",
            "422/422 [==============================] - 10s 25ms/step - loss: 0.1772 - sparse_categorical_accuracy: 0.9322 - val_loss: 0.2800 - val_sparse_categorical_accuracy: 0.9082\n",
            "Epoch 304/400\n",
            "422/422 [==============================] - 10s 25ms/step - loss: 0.1817 - sparse_categorical_accuracy: 0.9288 - val_loss: 0.2784 - val_sparse_categorical_accuracy: 0.9090\n",
            "Epoch 305/400\n",
            "422/422 [==============================] - 11s 26ms/step - loss: 0.1807 - sparse_categorical_accuracy: 0.9304 - val_loss: 0.2735 - val_sparse_categorical_accuracy: 0.9095\n",
            "Epoch 306/400\n",
            "422/422 [==============================] - 11s 26ms/step - loss: 0.1806 - sparse_categorical_accuracy: 0.9303 - val_loss: 0.2769 - val_sparse_categorical_accuracy: 0.9073\n",
            "Epoch 307/400\n",
            "422/422 [==============================] - 11s 26ms/step - loss: 0.1823 - sparse_categorical_accuracy: 0.9293 - val_loss: 0.2739 - val_sparse_categorical_accuracy: 0.9087\n",
            "Epoch 308/400\n",
            "422/422 [==============================] - 11s 26ms/step - loss: 0.1815 - sparse_categorical_accuracy: 0.9304 - val_loss: 0.2760 - val_sparse_categorical_accuracy: 0.9115\n",
            "Epoch 309/400\n",
            "422/422 [==============================] - 11s 25ms/step - loss: 0.1815 - sparse_categorical_accuracy: 0.9293 - val_loss: 0.2737 - val_sparse_categorical_accuracy: 0.9103\n",
            "Epoch 310/400\n",
            "422/422 [==============================] - 10s 24ms/step - loss: 0.1805 - sparse_categorical_accuracy: 0.9299 - val_loss: 0.2761 - val_sparse_categorical_accuracy: 0.9100\n",
            "Epoch 311/400\n",
            "422/422 [==============================] - 11s 26ms/step - loss: 0.1799 - sparse_categorical_accuracy: 0.9298 - val_loss: 0.2774 - val_sparse_categorical_accuracy: 0.9105\n",
            "Epoch 312/400\n",
            "422/422 [==============================] - 11s 26ms/step - loss: 0.1794 - sparse_categorical_accuracy: 0.9310 - val_loss: 0.2776 - val_sparse_categorical_accuracy: 0.9060\n",
            "Epoch 313/400\n",
            "422/422 [==============================] - 11s 26ms/step - loss: 0.1819 - sparse_categorical_accuracy: 0.9290 - val_loss: 0.2799 - val_sparse_categorical_accuracy: 0.9075\n",
            "Epoch 314/400\n",
            "422/422 [==============================] - 11s 26ms/step - loss: 0.1792 - sparse_categorical_accuracy: 0.9302 - val_loss: 0.2823 - val_sparse_categorical_accuracy: 0.9073\n",
            "Epoch 315/400\n",
            "422/422 [==============================] - 11s 26ms/step - loss: 0.1806 - sparse_categorical_accuracy: 0.9308 - val_loss: 0.2808 - val_sparse_categorical_accuracy: 0.9087\n",
            "Epoch 316/400\n",
            "422/422 [==============================] - 10s 23ms/step - loss: 0.1792 - sparse_categorical_accuracy: 0.9296 - val_loss: 0.2797 - val_sparse_categorical_accuracy: 0.9110\n",
            "Epoch 317/400\n",
            "422/422 [==============================] - 11s 26ms/step - loss: 0.1799 - sparse_categorical_accuracy: 0.9300 - val_loss: 0.2768 - val_sparse_categorical_accuracy: 0.9105\n",
            "Epoch 318/400\n",
            "422/422 [==============================] - 11s 26ms/step - loss: 0.1783 - sparse_categorical_accuracy: 0.9305 - val_loss: 0.2800 - val_sparse_categorical_accuracy: 0.9095\n",
            "Epoch 319/400\n",
            "422/422 [==============================] - 11s 26ms/step - loss: 0.1779 - sparse_categorical_accuracy: 0.9305 - val_loss: 0.2792 - val_sparse_categorical_accuracy: 0.9107\n",
            "Epoch 320/400\n",
            "422/422 [==============================] - 11s 26ms/step - loss: 0.1787 - sparse_categorical_accuracy: 0.9316 - val_loss: 0.2767 - val_sparse_categorical_accuracy: 0.9090\n",
            "Epoch 321/400\n",
            "422/422 [==============================] - 11s 26ms/step - loss: 0.1812 - sparse_categorical_accuracy: 0.9302 - val_loss: 0.2805 - val_sparse_categorical_accuracy: 0.9103\n",
            "Epoch 322/400\n",
            "422/422 [==============================] - 10s 24ms/step - loss: 0.1811 - sparse_categorical_accuracy: 0.9304 - val_loss: 0.2762 - val_sparse_categorical_accuracy: 0.9067\n",
            "Epoch 323/400\n",
            "422/422 [==============================] - 11s 26ms/step - loss: 0.1781 - sparse_categorical_accuracy: 0.9325 - val_loss: 0.2791 - val_sparse_categorical_accuracy: 0.9077\n",
            "Epoch 324/400\n",
            "422/422 [==============================] - 11s 26ms/step - loss: 0.1780 - sparse_categorical_accuracy: 0.9311 - val_loss: 0.2851 - val_sparse_categorical_accuracy: 0.9085\n",
            "Epoch 325/400\n",
            "422/422 [==============================] - 11s 26ms/step - loss: 0.1785 - sparse_categorical_accuracy: 0.9303 - val_loss: 0.2745 - val_sparse_categorical_accuracy: 0.9063\n",
            "Epoch 326/400\n",
            "422/422 [==============================] - 11s 26ms/step - loss: 0.1791 - sparse_categorical_accuracy: 0.9306 - val_loss: 0.2768 - val_sparse_categorical_accuracy: 0.9095\n",
            "Epoch 327/400\n",
            "422/422 [==============================] - 11s 26ms/step - loss: 0.1791 - sparse_categorical_accuracy: 0.9306 - val_loss: 0.2811 - val_sparse_categorical_accuracy: 0.9107\n",
            "Epoch 328/400\n",
            "422/422 [==============================] - 10s 25ms/step - loss: 0.1782 - sparse_categorical_accuracy: 0.9298 - val_loss: 0.2778 - val_sparse_categorical_accuracy: 0.9098\n",
            "Epoch 329/400\n",
            "422/422 [==============================] - 10s 25ms/step - loss: 0.1768 - sparse_categorical_accuracy: 0.9308 - val_loss: 0.2848 - val_sparse_categorical_accuracy: 0.9077\n",
            "Epoch 330/400\n",
            "422/422 [==============================] - 11s 26ms/step - loss: 0.1788 - sparse_categorical_accuracy: 0.9308 - val_loss: 0.2795 - val_sparse_categorical_accuracy: 0.9087\n",
            "Epoch 331/400\n",
            "422/422 [==============================] - 11s 26ms/step - loss: 0.1785 - sparse_categorical_accuracy: 0.9308 - val_loss: 0.2799 - val_sparse_categorical_accuracy: 0.9108\n",
            "Epoch 332/400\n",
            "422/422 [==============================] - 11s 26ms/step - loss: 0.1754 - sparse_categorical_accuracy: 0.9323 - val_loss: 0.2867 - val_sparse_categorical_accuracy: 0.9090\n",
            "Epoch 333/400\n",
            "422/422 [==============================] - 11s 26ms/step - loss: 0.1782 - sparse_categorical_accuracy: 0.9316 - val_loss: 0.2842 - val_sparse_categorical_accuracy: 0.9083\n",
            "Epoch 334/400\n",
            "422/422 [==============================] - 11s 26ms/step - loss: 0.1802 - sparse_categorical_accuracy: 0.9303 - val_loss: 0.2849 - val_sparse_categorical_accuracy: 0.9095\n",
            "Epoch 335/400\n",
            "422/422 [==============================] - 10s 24ms/step - loss: 0.1787 - sparse_categorical_accuracy: 0.9307 - val_loss: 0.2847 - val_sparse_categorical_accuracy: 0.9083\n",
            "Epoch 336/400\n",
            "422/422 [==============================] - 11s 26ms/step - loss: 0.1782 - sparse_categorical_accuracy: 0.9307 - val_loss: 0.2767 - val_sparse_categorical_accuracy: 0.9093\n",
            "Epoch 337/400\n",
            "422/422 [==============================] - 11s 26ms/step - loss: 0.1751 - sparse_categorical_accuracy: 0.9319 - val_loss: 0.2849 - val_sparse_categorical_accuracy: 0.9085\n",
            "Epoch 338/400\n",
            "422/422 [==============================] - 11s 26ms/step - loss: 0.1781 - sparse_categorical_accuracy: 0.9318 - val_loss: 0.2791 - val_sparse_categorical_accuracy: 0.9092\n",
            "Epoch 339/400\n",
            "422/422 [==============================] - 11s 26ms/step - loss: 0.1782 - sparse_categorical_accuracy: 0.9301 - val_loss: 0.2827 - val_sparse_categorical_accuracy: 0.9075\n",
            "Epoch 340/400\n",
            "422/422 [==============================] - 11s 27ms/step - loss: 0.1755 - sparse_categorical_accuracy: 0.9310 - val_loss: 0.2811 - val_sparse_categorical_accuracy: 0.9105\n",
            "Epoch 341/400\n",
            "422/422 [==============================] - 11s 26ms/step - loss: 0.1798 - sparse_categorical_accuracy: 0.9294 - val_loss: 0.2781 - val_sparse_categorical_accuracy: 0.9108\n",
            "Epoch 342/400\n",
            "422/422 [==============================] - 10s 25ms/step - loss: 0.1788 - sparse_categorical_accuracy: 0.9310 - val_loss: 0.2792 - val_sparse_categorical_accuracy: 0.9097\n",
            "Epoch 343/400\n",
            "422/422 [==============================] - 11s 26ms/step - loss: 0.1790 - sparse_categorical_accuracy: 0.9307 - val_loss: 0.2766 - val_sparse_categorical_accuracy: 0.9102\n",
            "Epoch 344/400\n",
            "422/422 [==============================] - 11s 26ms/step - loss: 0.1769 - sparse_categorical_accuracy: 0.9310 - val_loss: 0.2811 - val_sparse_categorical_accuracy: 0.9098\n",
            "Epoch 345/400\n",
            "422/422 [==============================] - 11s 26ms/step - loss: 0.1770 - sparse_categorical_accuracy: 0.9309 - val_loss: 0.2820 - val_sparse_categorical_accuracy: 0.9100\n",
            "Epoch 346/400\n",
            "422/422 [==============================] - 11s 27ms/step - loss: 0.1766 - sparse_categorical_accuracy: 0.9321 - val_loss: 0.2753 - val_sparse_categorical_accuracy: 0.9108\n",
            "Epoch 347/400\n",
            "422/422 [==============================] - 11s 26ms/step - loss: 0.1767 - sparse_categorical_accuracy: 0.9323 - val_loss: 0.2814 - val_sparse_categorical_accuracy: 0.9087\n",
            "Epoch 348/400\n",
            "422/422 [==============================] - 11s 26ms/step - loss: 0.1772 - sparse_categorical_accuracy: 0.9316 - val_loss: 0.2809 - val_sparse_categorical_accuracy: 0.9090\n",
            "Epoch 349/400\n",
            "422/422 [==============================] - 10s 25ms/step - loss: 0.1774 - sparse_categorical_accuracy: 0.9305 - val_loss: 0.2822 - val_sparse_categorical_accuracy: 0.9067\n",
            "Epoch 350/400\n",
            "422/422 [==============================] - 11s 26ms/step - loss: 0.1776 - sparse_categorical_accuracy: 0.9316 - val_loss: 0.2808 - val_sparse_categorical_accuracy: 0.9097\n",
            "Epoch 351/400\n",
            "422/422 [==============================] - 11s 26ms/step - loss: 0.1763 - sparse_categorical_accuracy: 0.9312 - val_loss: 0.2714 - val_sparse_categorical_accuracy: 0.9118\n",
            "Epoch 352/400\n",
            "422/422 [==============================] - 16s 39ms/step - loss: 0.1787 - sparse_categorical_accuracy: 0.9317 - val_loss: 0.2733 - val_sparse_categorical_accuracy: 0.9090\n",
            "Epoch 353/400\n",
            "422/422 [==============================] - 11s 26ms/step - loss: 0.1758 - sparse_categorical_accuracy: 0.9326 - val_loss: 0.2752 - val_sparse_categorical_accuracy: 0.9103\n",
            "Epoch 354/400\n",
            "422/422 [==============================] - 11s 26ms/step - loss: 0.1771 - sparse_categorical_accuracy: 0.9318 - val_loss: 0.2790 - val_sparse_categorical_accuracy: 0.9083\n",
            "Epoch 355/400\n",
            "422/422 [==============================] - 11s 26ms/step - loss: 0.1749 - sparse_categorical_accuracy: 0.9319 - val_loss: 0.2775 - val_sparse_categorical_accuracy: 0.9097\n",
            "Epoch 356/400\n",
            "422/422 [==============================] - 11s 26ms/step - loss: 0.1738 - sparse_categorical_accuracy: 0.9329 - val_loss: 0.2752 - val_sparse_categorical_accuracy: 0.9087\n",
            "Epoch 357/400\n",
            "422/422 [==============================] - 11s 26ms/step - loss: 0.1783 - sparse_categorical_accuracy: 0.9322 - val_loss: 0.2791 - val_sparse_categorical_accuracy: 0.9073\n",
            "Epoch 358/400\n",
            "422/422 [==============================] - 10s 25ms/step - loss: 0.1779 - sparse_categorical_accuracy: 0.9312 - val_loss: 0.2782 - val_sparse_categorical_accuracy: 0.9083\n",
            "Epoch 359/400\n",
            "422/422 [==============================] - 11s 26ms/step - loss: 0.1769 - sparse_categorical_accuracy: 0.9311 - val_loss: 0.2837 - val_sparse_categorical_accuracy: 0.9072\n",
            "Epoch 360/400\n",
            "422/422 [==============================] - 11s 26ms/step - loss: 0.1762 - sparse_categorical_accuracy: 0.9318 - val_loss: 0.2761 - val_sparse_categorical_accuracy: 0.9092\n",
            "Epoch 361/400\n",
            "422/422 [==============================] - 12s 27ms/step - loss: 0.1772 - sparse_categorical_accuracy: 0.9318 - val_loss: 0.2778 - val_sparse_categorical_accuracy: 0.9092\n",
            "Epoch 362/400\n",
            "422/422 [==============================] - 12s 28ms/step - loss: 0.1766 - sparse_categorical_accuracy: 0.9311 - val_loss: 0.2812 - val_sparse_categorical_accuracy: 0.9090\n",
            "Epoch 363/400\n",
            "422/422 [==============================] - 12s 29ms/step - loss: 0.1740 - sparse_categorical_accuracy: 0.9320 - val_loss: 0.2803 - val_sparse_categorical_accuracy: 0.9088\n",
            "Epoch 364/400\n",
            "422/422 [==============================] - 11s 26ms/step - loss: 0.1759 - sparse_categorical_accuracy: 0.9324 - val_loss: 0.2787 - val_sparse_categorical_accuracy: 0.9090\n",
            "Epoch 365/400\n",
            "422/422 [==============================] - 11s 25ms/step - loss: 0.1765 - sparse_categorical_accuracy: 0.9321 - val_loss: 0.2856 - val_sparse_categorical_accuracy: 0.9067\n",
            "Epoch 366/400\n",
            "422/422 [==============================] - 11s 26ms/step - loss: 0.1730 - sparse_categorical_accuracy: 0.9345 - val_loss: 0.2811 - val_sparse_categorical_accuracy: 0.9105\n",
            "Epoch 367/400\n",
            "422/422 [==============================] - 11s 27ms/step - loss: 0.1728 - sparse_categorical_accuracy: 0.9322 - val_loss: 0.2805 - val_sparse_categorical_accuracy: 0.9075\n",
            "Epoch 368/400\n",
            "422/422 [==============================] - 11s 27ms/step - loss: 0.1747 - sparse_categorical_accuracy: 0.9315 - val_loss: 0.2853 - val_sparse_categorical_accuracy: 0.9097\n",
            "Epoch 369/400\n",
            "422/422 [==============================] - 11s 27ms/step - loss: 0.1735 - sparse_categorical_accuracy: 0.9333 - val_loss: 0.2830 - val_sparse_categorical_accuracy: 0.9090\n",
            "Epoch 370/400\n",
            "422/422 [==============================] - 11s 26ms/step - loss: 0.1772 - sparse_categorical_accuracy: 0.9317 - val_loss: 0.2776 - val_sparse_categorical_accuracy: 0.9092\n",
            "Epoch 371/400\n",
            "422/422 [==============================] - 11s 26ms/step - loss: 0.1744 - sparse_categorical_accuracy: 0.9331 - val_loss: 0.2813 - val_sparse_categorical_accuracy: 0.9118\n",
            "Epoch 372/400\n",
            "422/422 [==============================] - 10s 24ms/step - loss: 0.1735 - sparse_categorical_accuracy: 0.9336 - val_loss: 0.2790 - val_sparse_categorical_accuracy: 0.9085\n",
            "Epoch 373/400\n",
            "422/422 [==============================] - 11s 26ms/step - loss: 0.1707 - sparse_categorical_accuracy: 0.9341 - val_loss: 0.2857 - val_sparse_categorical_accuracy: 0.9073\n",
            "Epoch 374/400\n",
            "422/422 [==============================] - 11s 26ms/step - loss: 0.1752 - sparse_categorical_accuracy: 0.9322 - val_loss: 0.2839 - val_sparse_categorical_accuracy: 0.9070\n",
            "Epoch 375/400\n",
            "422/422 [==============================] - 11s 27ms/step - loss: 0.1720 - sparse_categorical_accuracy: 0.9347 - val_loss: 0.2854 - val_sparse_categorical_accuracy: 0.9078\n",
            "Epoch 376/400\n",
            "422/422 [==============================] - 11s 26ms/step - loss: 0.1749 - sparse_categorical_accuracy: 0.9316 - val_loss: 0.2805 - val_sparse_categorical_accuracy: 0.9080\n",
            "Epoch 377/400\n",
            "422/422 [==============================] - 11s 27ms/step - loss: 0.1732 - sparse_categorical_accuracy: 0.9330 - val_loss: 0.2798 - val_sparse_categorical_accuracy: 0.9093\n",
            "Epoch 378/400\n",
            "422/422 [==============================] - 11s 26ms/step - loss: 0.1747 - sparse_categorical_accuracy: 0.9326 - val_loss: 0.2832 - val_sparse_categorical_accuracy: 0.9060\n",
            "Epoch 379/400\n",
            "422/422 [==============================] - 10s 25ms/step - loss: 0.1727 - sparse_categorical_accuracy: 0.9330 - val_loss: 0.2840 - val_sparse_categorical_accuracy: 0.9097\n",
            "Epoch 380/400\n",
            "422/422 [==============================] - 11s 26ms/step - loss: 0.1739 - sparse_categorical_accuracy: 0.9321 - val_loss: 0.2781 - val_sparse_categorical_accuracy: 0.9090\n",
            "Epoch 381/400\n",
            "422/422 [==============================] - 11s 26ms/step - loss: 0.1732 - sparse_categorical_accuracy: 0.9328 - val_loss: 0.2859 - val_sparse_categorical_accuracy: 0.9078\n",
            "Epoch 382/400\n",
            "422/422 [==============================] - 11s 26ms/step - loss: 0.1728 - sparse_categorical_accuracy: 0.9333 - val_loss: 0.2816 - val_sparse_categorical_accuracy: 0.9103\n",
            "Epoch 383/400\n",
            "422/422 [==============================] - 11s 26ms/step - loss: 0.1735 - sparse_categorical_accuracy: 0.9341 - val_loss: 0.2831 - val_sparse_categorical_accuracy: 0.9102\n",
            "Epoch 384/400\n",
            "422/422 [==============================] - 11s 26ms/step - loss: 0.1715 - sparse_categorical_accuracy: 0.9336 - val_loss: 0.2829 - val_sparse_categorical_accuracy: 0.9092\n",
            "Epoch 385/400\n",
            "422/422 [==============================] - 10s 25ms/step - loss: 0.1738 - sparse_categorical_accuracy: 0.9331 - val_loss: 0.2820 - val_sparse_categorical_accuracy: 0.9093\n",
            "Epoch 386/400\n",
            "422/422 [==============================] - 11s 26ms/step - loss: 0.1725 - sparse_categorical_accuracy: 0.9335 - val_loss: 0.2793 - val_sparse_categorical_accuracy: 0.9085\n",
            "Epoch 387/400\n",
            "422/422 [==============================] - 11s 26ms/step - loss: 0.1713 - sparse_categorical_accuracy: 0.9334 - val_loss: 0.2799 - val_sparse_categorical_accuracy: 0.9102\n",
            "Epoch 388/400\n",
            "422/422 [==============================] - 11s 27ms/step - loss: 0.1760 - sparse_categorical_accuracy: 0.9317 - val_loss: 0.2764 - val_sparse_categorical_accuracy: 0.9105\n",
            "Epoch 389/400\n",
            "422/422 [==============================] - 11s 26ms/step - loss: 0.1703 - sparse_categorical_accuracy: 0.9347 - val_loss: 0.2843 - val_sparse_categorical_accuracy: 0.9092\n",
            "Epoch 390/400\n",
            "422/422 [==============================] - 11s 26ms/step - loss: 0.1743 - sparse_categorical_accuracy: 0.9328 - val_loss: 0.2844 - val_sparse_categorical_accuracy: 0.9090\n",
            "Epoch 391/400\n",
            "422/422 [==============================] - 11s 26ms/step - loss: 0.1708 - sparse_categorical_accuracy: 0.9347 - val_loss: 0.2845 - val_sparse_categorical_accuracy: 0.9098\n",
            "Epoch 392/400\n",
            "422/422 [==============================] - 10s 25ms/step - loss: 0.1728 - sparse_categorical_accuracy: 0.9326 - val_loss: 0.2782 - val_sparse_categorical_accuracy: 0.9090\n",
            "Epoch 393/400\n",
            "422/422 [==============================] - 11s 26ms/step - loss: 0.1739 - sparse_categorical_accuracy: 0.9321 - val_loss: 0.2801 - val_sparse_categorical_accuracy: 0.9117\n",
            "Epoch 394/400\n",
            "422/422 [==============================] - 11s 27ms/step - loss: 0.1717 - sparse_categorical_accuracy: 0.9343 - val_loss: 0.2841 - val_sparse_categorical_accuracy: 0.9100\n",
            "Epoch 395/400\n",
            "422/422 [==============================] - 11s 27ms/step - loss: 0.1744 - sparse_categorical_accuracy: 0.9333 - val_loss: 0.2758 - val_sparse_categorical_accuracy: 0.9107\n",
            "Epoch 396/400\n",
            "422/422 [==============================] - 11s 27ms/step - loss: 0.1730 - sparse_categorical_accuracy: 0.9335 - val_loss: 0.2865 - val_sparse_categorical_accuracy: 0.9077\n",
            "Epoch 397/400\n",
            "422/422 [==============================] - 11s 27ms/step - loss: 0.1728 - sparse_categorical_accuracy: 0.9337 - val_loss: 0.2856 - val_sparse_categorical_accuracy: 0.9100\n",
            "Epoch 398/400\n",
            "422/422 [==============================] - 11s 25ms/step - loss: 0.1705 - sparse_categorical_accuracy: 0.9336 - val_loss: 0.2866 - val_sparse_categorical_accuracy: 0.9092\n",
            "Epoch 399/400\n",
            "422/422 [==============================] - 11s 26ms/step - loss: 0.1692 - sparse_categorical_accuracy: 0.9350 - val_loss: 0.2861 - val_sparse_categorical_accuracy: 0.9113\n",
            "Epoch 400/400\n",
            "422/422 [==============================] - 11s 27ms/step - loss: 0.1711 - sparse_categorical_accuracy: 0.9331 - val_loss: 0.2798 - val_sparse_categorical_accuracy: 0.9115\n",
            "313/313 [==============================] - 1s 4ms/step - loss: 0.3102 - sparse_categorical_accuracy: 0.9061\n",
            "\n",
            "Test accuracy: 0.9060999751091003\n"
          ]
        }
      ]
    },
    {
      "cell_type": "code",
      "source": [
        "print('\\nhistory dict:', list(history.history.keys()))"
      ],
      "metadata": {
        "id": "CxRE-B_Q6Sii",
        "colab": {
          "base_uri": "https://localhost:8080/"
        },
        "outputId": "48ac1efc-f245-4fec-9b05-c977804d170c"
      },
      "execution_count": 39,
      "outputs": [
        {
          "output_type": "stream",
          "name": "stdout",
          "text": [
            "\n",
            "history dict: ['loss', 'sparse_categorical_accuracy', 'val_loss', 'val_sparse_categorical_accuracy']\n"
          ]
        }
      ]
    },
    {
      "cell_type": "code",
      "source": [
        "result = model.evaluate(x_test, y_test)\n",
        "print(result)"
      ],
      "metadata": {
        "id": "YXpwRRTvTBNg",
        "colab": {
          "base_uri": "https://localhost:8080/"
        },
        "outputId": "50d5b744-fdea-4eaa-a59b-c5e3dd75ac83"
      },
      "execution_count": 40,
      "outputs": [
        {
          "output_type": "stream",
          "name": "stdout",
          "text": [
            "313/313 [==============================] - 1s 3ms/step - loss: 0.3102 - sparse_categorical_accuracy: 0.9061\n",
            "[0.3102448880672455, 0.9060999751091003]\n"
          ]
        }
      ]
    },
    {
      "cell_type": "code",
      "source": [
        "saved_model = load_model('best_model.h5')\n",
        "result = saved_model.evaluate(x_test, y_test)\n",
        "print(result)"
      ],
      "metadata": {
        "colab": {
          "base_uri": "https://localhost:8080/"
        },
        "id": "dpaZAW0vp1AZ",
        "outputId": "77da9ca5-738c-44d2-9c46-229d2bf37501"
      },
      "execution_count": 41,
      "outputs": [
        {
          "output_type": "stream",
          "name": "stdout",
          "text": [
            "313/313 [==============================] - 2s 6ms/step - loss: 0.3155 - sparse_categorical_accuracy: 0.9051\n",
            "[0.31550222635269165, 0.9050999879837036]\n"
          ]
        }
      ]
    },
    {
      "cell_type": "code",
      "source": [
        "# from keras.models import load_model\n",
        "# saved_model = load_model('best_model.h5')\n",
        "# # _, train_acc = saved_model.evaluate(x_train, y_train, verbose=0)\n",
        "# _, test_acc = saved_model.evaluate(x_test, y_test, verbose=0)\n",
        "# print('Test: %.3f' % (test_acc))"
      ],
      "metadata": {
        "id": "DR_MS9DABo_K"
      },
      "execution_count": 42,
      "outputs": []
    },
    {
      "cell_type": "code",
      "source": [
        "history_dict = history.history\n",
        "loss_values = history_dict['loss']\n",
        "val_loss_values = history_dict['val_loss']\n",
        "\n",
        "epochs = range(1, len(history_dict['loss']) + 1)\n",
        "\n",
        "plt.figure(figsize=(10, 5))\n",
        "plt.plot(epochs, loss_values, 'bo', label='Training loss')\n",
        "plt.plot(epochs, val_loss_values, 'r', label='Validation loss')\n",
        "plt.ylim (0.2, 0.5)\n",
        "plt.title('Training and validation loss')\n",
        "plt.xlabel('Epochs')\n",
        "plt.ylabel('Loss')\n",
        "plt.legend()\n",
        "plt.grid(True)\n",
        "plt.show()\n",
        "1\n",
        "plt.clf()\n",
        "plt.figure(figsize=(10, 5))\n",
        "val_acc_values = history_dict['sparse_categorical_accuracy']\n",
        "plt.plot(epochs, history_dict['sparse_categorical_accuracy'], 'bo', label='Training acc')\n",
        "plt.plot(epochs, history_dict['val_sparse_categorical_accuracy'], 'r', label='Validation acc')\n",
        "plt.ylim (0.88, 0.94)\n",
        "plt.title('Training and validation accuracy')\n",
        "plt.xlabel('Epochs')\n",
        "plt.ylabel('Accuracy')\n",
        "plt.legend()\n",
        "plt.grid(True)"
      ],
      "metadata": {
        "id": "2Ll_5sGlXKMH",
        "colab": {
          "base_uri": "https://localhost:8080/",
          "height": 975
        },
        "outputId": "dc38987f-9b94-4a8e-a908-64b54bdafacb"
      },
      "execution_count": 43,
      "outputs": [
        {
          "output_type": "display_data",
          "data": {
            "text/plain": [
              "<Figure size 1000x500 with 1 Axes>"
            ],
            "image/png": "[encoded data removed]"
          },
          "metadata": {}
        },
        {
          "output_type": "display_data",
          "data": {
            "text/plain": [
              "<Figure size 640x480 with 0 Axes>"
            ]
          },
          "metadata": {}
        },
        {
          "output_type": "display_data",
          "data": {
            "text/plain": [
              "<Figure size 1000x500 with 1 Axes>"
            ],
            "image/png": "[encoded data removed]"
          },
          "metadata": {}
        }
      ]
    },
    {
      "cell_type": "code",
      "source": [
        "probability_model = tf.keras.Sequential([model,\n",
        "                                         tf.keras.layers.Softmax()])"
      ],
      "metadata": {
        "id": "VzOdKAT_uV-f"
      },
      "execution_count": 44,
      "outputs": []
    },
    {
      "cell_type": "code",
      "source": [
        "predictions = probability_model.predict(x_test)"
      ],
      "metadata": {
        "id": "f4is3NFruYom",
        "colab": {
          "base_uri": "https://localhost:8080/"
        },
        "outputId": "acc5d7fd-5c2b-472a-d98e-94d4225cc0e8"
      },
      "execution_count": 45,
      "outputs": [
        {
          "output_type": "stream",
          "name": "stdout",
          "text": [
            "313/313 [==============================] - 1s 3ms/step\n"
          ]
        }
      ]
    },
    {
      "cell_type": "code",
      "source": [
        "predictions[0]"
      ],
      "metadata": {
        "id": "82cigvlZudz_",
        "colab": {
          "base_uri": "https://localhost:8080/"
        },
        "outputId": "22d4c4b4-e849-4fa9-823f-2beb62f35564"
      },
      "execution_count": 46,
      "outputs": [
        {
          "output_type": "execute_result",
          "data": {
            "text/plain": [
              "array([0.08533686, 0.08533686, 0.08533686, 0.08533686, 0.08533686,\n",
              "       0.08533689, 0.08533686, 0.08533768, 0.08533686, 0.23196737],\n",
              "      dtype=float32)"
            ]
          },
          "metadata": {},
          "execution_count": 46
        }
      ]
    },
    {
      "cell_type": "code",
      "source": [
        "model.summary()"
      ],
      "metadata": {
        "id": "6RsQPHyYuNGe",
        "colab": {
          "base_uri": "https://localhost:8080/"
        },
        "outputId": "77171726-2cd3-4b7e-e67a-c4f70f89ca1f"
      },
      "execution_count": 47,
      "outputs": [
        {
          "output_type": "stream",
          "name": "stdout",
          "text": [
            "Model: \"sequential_2\"\n",
            "_________________________________________________________________\n",
            " Layer (type)                Output Shape              Param #   \n",
            "=================================================================\n",
            " flatten_1 (Flatten)         (None, 784)               0         \n",
            "                                                                 \n",
            " dropout_4 (Dropout)         (None, 784)               0         \n",
            "                                                                 \n",
            " batch_normalization_3 (Bat  (None, 784)               3136      \n",
            " chNormalization)                                                \n",
            "                                                                 \n",
            " dense_4 (Dense)             (None, 256)               200960    \n",
            "                                                                 \n",
            " dropout_5 (Dropout)         (None, 256)               0         \n",
            "                                                                 \n",
            " batch_normalization_4 (Bat  (None, 256)               1024      \n",
            " chNormalization)                                                \n",
            "                                                                 \n",
            " dense_5 (Dense)             (None, 512)               131584    \n",
            "                                                                 \n",
            " dropout_6 (Dropout)         (None, 512)               0         \n",
            "                                                                 \n",
            " batch_normalization_5 (Bat  (None, 512)               2048      \n",
            " chNormalization)                                                \n",
            "                                                                 \n",
            " dense_6 (Dense)             (None, 512)               262656    \n",
            "                                                                 \n",
            " dropout_7 (Dropout)         (None, 512)               0         \n",
            "                                                                 \n",
            " dense_7 (Dense)             (None, 10)                5130      \n",
            "                                                                 \n",
            "=================================================================\n",
            "Total params: 606538 (2.31 MB)\n",
            "Trainable params: 603434 (2.30 MB)\n",
            "Non-trainable params: 3104 (12.12 KB)\n",
            "_________________________________________________________________\n"
          ]
        }
      ]
    },
    {
      "cell_type": "code",
      "source": [
        "hnyetjn hrte()"
      ],
      "metadata": {
        "id": "S4hcxZttmp-0",
        "outputId": "0d0ae427-e966-42ba-8be0-ee7c42208963",
        "colab": {
          "base_uri": "https://localhost:8080/",
          "height": 143
        }
      },
      "execution_count": 48,
      "outputs": [
        {
          "output_type": "error",
          "ename": "SyntaxError",
          "evalue": "invalid syntax (<ipython-input-48-1a3818e70946>, line 1)",
          "traceback": [
            "\u001b[0;36m  File \u001b[0;32m\"<ipython-input-48-1a3818e70946>\"\u001b[0;36m, line \u001b[0;32m1\u001b[0m\n\u001b[0;31m    hnyetjn hrte()\u001b[0m\n\u001b[0m            ^\u001b[0m\n\u001b[0;31mSyntaxError\u001b[0m\u001b[0;31m:\u001b[0m invalid syntax\n"
          ]
        }
      ]
    }
  ]
}