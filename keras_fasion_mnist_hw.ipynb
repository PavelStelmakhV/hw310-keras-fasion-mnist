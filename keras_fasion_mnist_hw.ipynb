{
  "nbformat": 4,
  "nbformat_minor": 0,
  "metadata": {
    "colab": {
      "provenance": [],
      "authorship_tag": "ABX9TyPpCFPhngY3vLY1tf/qcKiF",
      "include_colab_link": true
    },
    "kernelspec": {
      "name": "python3",
      "display_name": "Python 3"
    },
    "language_info": {
      "name": "python"
    }
  },
  "cells": [
    {
      "cell_type": "markdown",
      "metadata": {
        "id": "view-in-github",
        "colab_type": "text"
      },
      "source": [
        "<a href=\"https://colab.research.google.com/github/PavelStelmakhV/hw310-keras-fasion-mnist/blob/main/keras_fasion_mnist_hw.ipynb\" target=\"_parent\"><img src=\"https://colab.research.google.com/assets/colab-badge.svg\" alt=\"Open In Colab\"/></a>"
      ]
    },
    {
      "cell_type": "code",
      "execution_count": 1,
      "metadata": {
        "id": "vv7w0bgAVQPO"
      },
      "outputs": [],
      "source": [
        "import tensorflow as tf\n",
        "\n",
        "import numpy as np\n",
        "import matplotlib.pyplot as plt\n",
        "from keras import layers\n",
        "from keras import regularizers"
      ]
    },
    {
      "cell_type": "code",
      "source": [
        "fashion_mnist = tf.keras.datasets.fashion_mnist\n",
        "\n",
        "(train_images, train_labels), (test_images, test_labels) = fashion_mnist.load_data()"
      ],
      "metadata": {
        "id": "mOpywsNAzfGB",
        "colab": {
          "base_uri": "https://localhost:8080/"
        },
        "outputId": "cbcb8e64-ba08-4c91-e0f9-209f36c5519c"
      },
      "execution_count": 2,
      "outputs": [
        {
          "output_type": "stream",
          "name": "stdout",
          "text": [
            "Downloading data from https://storage.googleapis.com/tensorflow/tf-keras-datasets/train-labels-idx1-ubyte.gz\n",
            "29515/29515 [==============================] - 0s 0us/step\n",
            "Downloading data from https://storage.googleapis.com/tensorflow/tf-keras-datasets/train-images-idx3-ubyte.gz\n",
            "26421880/26421880 [==============================] - 0s 0us/step\n",
            "Downloading data from https://storage.googleapis.com/tensorflow/tf-keras-datasets/t10k-labels-idx1-ubyte.gz\n",
            "5148/5148 [==============================] - 0s 0us/step\n",
            "Downloading data from https://storage.googleapis.com/tensorflow/tf-keras-datasets/t10k-images-idx3-ubyte.gz\n",
            "4422102/4422102 [==============================] - 0s 0us/step\n"
          ]
        }
      ]
    },
    {
      "cell_type": "code",
      "source": [
        "class_names = ['T-shirt/top', 'Trouser', 'Pullover', 'Dress', 'Coat',\n",
        "               'Sandal', 'Shirt', 'Sneaker', 'Bag', 'Ankle boot']"
      ],
      "metadata": {
        "id": "vM60H5OVz65k"
      },
      "execution_count": 3,
      "outputs": []
    },
    {
      "cell_type": "code",
      "source": [
        "train_images = train_images / 255.0\n",
        "\n",
        "test_images = test_images / 255.0"
      ],
      "metadata": {
        "id": "t2gucjsJ0KUi"
      },
      "execution_count": 4,
      "outputs": []
    },
    {
      "cell_type": "code",
      "source": [
        "model = tf.keras.Sequential()\n",
        "\n",
        "model.add(layers.Flatten(input_shape=(28, 28)))\n",
        "# model.add(layers.Dense(500, activation='relu', kernel_regularizer=regularizers.l2(0.000001)))\n",
        "model.add(layers.Dense(512, activation='relu', kernel_regularizer=regularizers.l2(0.00001)))\n",
        "model.add(layers.Dropout(0.5))\n",
        "model.add(layers.Dense(512, activation='relu', kernel_regularizer=regularizers.l2(0.00001)))\n",
        "# model.add(layers.Dropout(0.5))\n",
        "# model.add(layers.Dense(216, activation='relu', kernel_regularizer=regularizers.l2(0.001)))\n",
        "# model.add(layers.Dense(512, activation='sigmoid', kernel_regularizer=regularizers.l2(0.00001)))\n",
        "# model.add(layers.Dropout(0.5))\n",
        "# model.add(layers.Dense(512, activation='sigmoid', kernel_regularizer=regularizers.l2(0.00001)))\n",
        "# model.add(layers.Dropout(0.5))\n",
        "# model.add(layers.Dense(500, activation='sigmoid', kernel_regularizer=regularizers.l2(0.000001)))\n",
        "# model.add(layers.Dense(500, activation='relu', kernel_regularizer=regularizers.l2(0.000001)))\n",
        "# # model.add(layers.Dense(80, activation='relu', kernel_regularizer=regularizers.l2(0.001)))\n",
        "# model.add(layers.Dropout(0.5))\n",
        "# model.add(layers.Dense(500, activation='relu', kernel_regularizer=regularizers.l2(0.000001)))\n",
        "# model.add(layers.Dropout(0.5))\n",
        "# # model.add(layers.Dense(40, activation='relu', kernel_regularizer=regularizers.l2(0.001)))\n",
        "\n",
        "model.add(layers.Dense(10, activation='softmax'))\n",
        "# model.add(layers.Softmax())"
      ],
      "metadata": {
        "id": "atS39i4d0aqW"
      },
      "execution_count": 5,
      "outputs": []
    },
    {
      "cell_type": "code",
      "source": [
        "model.compile(#optimizer='adam',\n",
        "              optimizer='adamax',\n",
        "              # optimizer='nadam',\n",
        "              # optimizer='rmsprop',\n",
        "              # optimizer='sgd',\n",
        "              # optimizer='adadelta',\n",
        "              # loss='binary_crossentropy',\n",
        "              loss=tf.keras.losses.SparseCategoricalCrossentropy(from_logits=True),\n",
        "              metrics=['accuracy'])"
      ],
      "metadata": {
        "id": "hENVaAC7ilNY"
      },
      "execution_count": 6,
      "outputs": []
    },
    {
      "cell_type": "code",
      "source": [
        "# model.fit(train_images, train_labels, epochs=20)\n",
        "history = model.fit(train_images,\n",
        "                    train_labels,\n",
        "                    epochs=120,\n",
        "                    batch_size=128,\n",
        "                    validation_data=(test_images, test_labels))\n",
        "test_loss, test_acc = model.evaluate(test_images, test_labels)\n",
        "print('\\nTest accuracy:', test_acc)"
      ],
      "metadata": {
        "id": "FH8HcMNm233I",
        "outputId": "0908f7a6-d419-4a3d-c49b-2f6fb0ad8448",
        "colab": {
          "base_uri": "https://localhost:8080/"
        }
      },
      "execution_count": 7,
      "outputs": [
        {
          "output_type": "stream",
          "name": "stdout",
          "text": [
            "Epoch 1/120\n"
          ]
        },
        {
          "output_type": "stream",
          "name": "stderr",
          "text": [
            "/usr/local/lib/python3.10/dist-packages/keras/src/backend.py:5727: UserWarning: \"`sparse_categorical_crossentropy` received `from_logits=True`, but the `output` argument was produced by a Softmax activation and thus does not represent logits. Was this intended?\n",
            "  output, from_logits = _get_logits(\n"
          ]
        },
        {
          "output_type": "stream",
          "name": "stdout",
          "text": [
            "469/469 [==============================] - 13s 26ms/step - loss: 0.5999 - accuracy: 0.7927 - val_loss: 0.4610 - val_accuracy: 0.8403\n",
            "Epoch 2/120\n",
            "469/469 [==============================] - 12s 25ms/step - loss: 0.4464 - accuracy: 0.8450 - val_loss: 0.4176 - val_accuracy: 0.8564\n",
            "Epoch 3/120\n",
            "469/469 [==============================] - 12s 26ms/step - loss: 0.4075 - accuracy: 0.8585 - val_loss: 0.3981 - val_accuracy: 0.8597\n",
            "Epoch 4/120\n",
            "469/469 [==============================] - 11s 23ms/step - loss: 0.3828 - accuracy: 0.8666 - val_loss: 0.3864 - val_accuracy: 0.8646\n",
            "Epoch 5/120\n",
            "469/469 [==============================] - 11s 24ms/step - loss: 0.3661 - accuracy: 0.8723 - val_loss: 0.3751 - val_accuracy: 0.8671\n",
            "Epoch 6/120\n",
            "469/469 [==============================] - 12s 25ms/step - loss: 0.3528 - accuracy: 0.8765 - val_loss: 0.3575 - val_accuracy: 0.8750\n",
            "Epoch 7/120\n",
            "469/469 [==============================] - 12s 25ms/step - loss: 0.3432 - accuracy: 0.8776 - val_loss: 0.3521 - val_accuracy: 0.8765\n",
            "Epoch 8/120\n",
            "469/469 [==============================] - 12s 25ms/step - loss: 0.3337 - accuracy: 0.8824 - val_loss: 0.3515 - val_accuracy: 0.8801\n",
            "Epoch 9/120\n",
            "469/469 [==============================] - 12s 26ms/step - loss: 0.3236 - accuracy: 0.8863 - val_loss: 0.3452 - val_accuracy: 0.8786\n",
            "Epoch 10/120\n",
            "469/469 [==============================] - 11s 23ms/step - loss: 0.3172 - accuracy: 0.8864 - val_loss: 0.3476 - val_accuracy: 0.8804\n",
            "Epoch 11/120\n",
            "469/469 [==============================] - 11s 24ms/step - loss: 0.3115 - accuracy: 0.8899 - val_loss: 0.3387 - val_accuracy: 0.8817\n",
            "Epoch 12/120\n",
            "469/469 [==============================] - 12s 25ms/step - loss: 0.3032 - accuracy: 0.8922 - val_loss: 0.3379 - val_accuracy: 0.8854\n",
            "Epoch 13/120\n",
            "469/469 [==============================] - 12s 25ms/step - loss: 0.2986 - accuracy: 0.8935 - val_loss: 0.3393 - val_accuracy: 0.8815\n",
            "Epoch 14/120\n",
            "469/469 [==============================] - 12s 25ms/step - loss: 0.2956 - accuracy: 0.8952 - val_loss: 0.3412 - val_accuracy: 0.8810\n",
            "Epoch 15/120\n",
            "469/469 [==============================] - 12s 25ms/step - loss: 0.2906 - accuracy: 0.8963 - val_loss: 0.3333 - val_accuracy: 0.8840\n",
            "Epoch 16/120\n",
            "469/469 [==============================] - 11s 23ms/step - loss: 0.2852 - accuracy: 0.8994 - val_loss: 0.3241 - val_accuracy: 0.8888\n",
            "Epoch 17/120\n",
            "469/469 [==============================] - 12s 25ms/step - loss: 0.2785 - accuracy: 0.9018 - val_loss: 0.3236 - val_accuracy: 0.8889\n",
            "Epoch 18/120\n",
            "469/469 [==============================] - 12s 25ms/step - loss: 0.2747 - accuracy: 0.9033 - val_loss: 0.3319 - val_accuracy: 0.8878\n",
            "Epoch 19/120\n",
            "469/469 [==============================] - 12s 25ms/step - loss: 0.2721 - accuracy: 0.9031 - val_loss: 0.3215 - val_accuracy: 0.8907\n",
            "Epoch 20/120\n",
            "469/469 [==============================] - 13s 27ms/step - loss: 0.2649 - accuracy: 0.9050 - val_loss: 0.3240 - val_accuracy: 0.8908\n",
            "Epoch 21/120\n",
            "469/469 [==============================] - 11s 23ms/step - loss: 0.2652 - accuracy: 0.9056 - val_loss: 0.3265 - val_accuracy: 0.8881\n",
            "Epoch 22/120\n",
            "469/469 [==============================] - 12s 25ms/step - loss: 0.2599 - accuracy: 0.9078 - val_loss: 0.3164 - val_accuracy: 0.8908\n",
            "Epoch 23/120\n",
            "469/469 [==============================] - 12s 25ms/step - loss: 0.2570 - accuracy: 0.9094 - val_loss: 0.3170 - val_accuracy: 0.8925\n",
            "Epoch 24/120\n",
            "469/469 [==============================] - 12s 25ms/step - loss: 0.2539 - accuracy: 0.9098 - val_loss: 0.3151 - val_accuracy: 0.8929\n",
            "Epoch 25/120\n",
            "469/469 [==============================] - 12s 25ms/step - loss: 0.2493 - accuracy: 0.9111 - val_loss: 0.3234 - val_accuracy: 0.8922\n",
            "Epoch 26/120\n",
            "469/469 [==============================] - 10s 22ms/step - loss: 0.2476 - accuracy: 0.9123 - val_loss: 0.3152 - val_accuracy: 0.8946\n",
            "Epoch 27/120\n",
            "469/469 [==============================] - 11s 24ms/step - loss: 0.2433 - accuracy: 0.9148 - val_loss: 0.3154 - val_accuracy: 0.8940\n",
            "Epoch 28/120\n",
            "469/469 [==============================] - 12s 25ms/step - loss: 0.2408 - accuracy: 0.9147 - val_loss: 0.3138 - val_accuracy: 0.8951\n",
            "Epoch 29/120\n",
            "469/469 [==============================] - 12s 25ms/step - loss: 0.2384 - accuracy: 0.9156 - val_loss: 0.3174 - val_accuracy: 0.8934\n",
            "Epoch 30/120\n",
            "469/469 [==============================] - 12s 26ms/step - loss: 0.2357 - accuracy: 0.9168 - val_loss: 0.3159 - val_accuracy: 0.8949\n",
            "Epoch 31/120\n",
            "469/469 [==============================] - 10s 22ms/step - loss: 0.2344 - accuracy: 0.9187 - val_loss: 0.3128 - val_accuracy: 0.8973\n",
            "Epoch 32/120\n",
            "469/469 [==============================] - 11s 24ms/step - loss: 0.2318 - accuracy: 0.9179 - val_loss: 0.3196 - val_accuracy: 0.8951\n",
            "Epoch 33/120\n",
            "469/469 [==============================] - 12s 25ms/step - loss: 0.2260 - accuracy: 0.9216 - val_loss: 0.3142 - val_accuracy: 0.8959\n",
            "Epoch 34/120\n",
            "469/469 [==============================] - 12s 25ms/step - loss: 0.2248 - accuracy: 0.9216 - val_loss: 0.3237 - val_accuracy: 0.8940\n",
            "Epoch 35/120\n",
            "469/469 [==============================] - 12s 25ms/step - loss: 0.2223 - accuracy: 0.9222 - val_loss: 0.3125 - val_accuracy: 0.8979\n",
            "Epoch 36/120\n",
            "469/469 [==============================] - 11s 23ms/step - loss: 0.2205 - accuracy: 0.9227 - val_loss: 0.3186 - val_accuracy: 0.8963\n",
            "Epoch 37/120\n",
            "469/469 [==============================] - 11s 24ms/step - loss: 0.2160 - accuracy: 0.9241 - val_loss: 0.3317 - val_accuracy: 0.8907\n",
            "Epoch 38/120\n",
            "469/469 [==============================] - 12s 25ms/step - loss: 0.2180 - accuracy: 0.9237 - val_loss: 0.3136 - val_accuracy: 0.8973\n",
            "Epoch 39/120\n",
            "469/469 [==============================] - 12s 25ms/step - loss: 0.2137 - accuracy: 0.9250 - val_loss: 0.3167 - val_accuracy: 0.8954\n",
            "Epoch 40/120\n",
            "469/469 [==============================] - 12s 25ms/step - loss: 0.2123 - accuracy: 0.9250 - val_loss: 0.3208 - val_accuracy: 0.8915\n",
            "Epoch 41/120\n",
            "469/469 [==============================] - 11s 24ms/step - loss: 0.2095 - accuracy: 0.9258 - val_loss: 0.3184 - val_accuracy: 0.8944\n",
            "Epoch 42/120\n",
            "469/469 [==============================] - 11s 23ms/step - loss: 0.2074 - accuracy: 0.9282 - val_loss: 0.3176 - val_accuracy: 0.8989\n",
            "Epoch 43/120\n",
            "469/469 [==============================] - 12s 25ms/step - loss: 0.2076 - accuracy: 0.9265 - val_loss: 0.3131 - val_accuracy: 0.8973\n",
            "Epoch 44/120\n",
            "469/469 [==============================] - 12s 26ms/step - loss: 0.2023 - accuracy: 0.9296 - val_loss: 0.3139 - val_accuracy: 0.8998\n",
            "Epoch 45/120\n",
            "469/469 [==============================] - 14s 29ms/step - loss: 0.2033 - accuracy: 0.9282 - val_loss: 0.3185 - val_accuracy: 0.8967\n",
            "Epoch 46/120\n",
            "469/469 [==============================] - 11s 24ms/step - loss: 0.2013 - accuracy: 0.9292 - val_loss: 0.3145 - val_accuracy: 0.8980\n",
            "Epoch 47/120\n",
            "469/469 [==============================] - 10s 22ms/step - loss: 0.1969 - accuracy: 0.9316 - val_loss: 0.3158 - val_accuracy: 0.8986\n",
            "Epoch 48/120\n",
            "469/469 [==============================] - 11s 24ms/step - loss: 0.1974 - accuracy: 0.9319 - val_loss: 0.3210 - val_accuracy: 0.9008\n",
            "Epoch 49/120\n",
            "469/469 [==============================] - 11s 24ms/step - loss: 0.1986 - accuracy: 0.9310 - val_loss: 0.3142 - val_accuracy: 0.9012\n",
            "Epoch 50/120\n",
            "469/469 [==============================] - 11s 24ms/step - loss: 0.1940 - accuracy: 0.9326 - val_loss: 0.3241 - val_accuracy: 0.8989\n",
            "Epoch 51/120\n",
            "469/469 [==============================] - 11s 24ms/step - loss: 0.1926 - accuracy: 0.9335 - val_loss: 0.3209 - val_accuracy: 0.9002\n",
            "Epoch 52/120\n",
            "469/469 [==============================] - 10s 22ms/step - loss: 0.1907 - accuracy: 0.9338 - val_loss: 0.3321 - val_accuracy: 0.8961\n",
            "Epoch 53/120\n",
            "469/469 [==============================] - 14s 30ms/step - loss: 0.1907 - accuracy: 0.9335 - val_loss: 0.3284 - val_accuracy: 0.8940\n",
            "Epoch 54/120\n",
            "469/469 [==============================] - 11s 24ms/step - loss: 0.1861 - accuracy: 0.9363 - val_loss: 0.3156 - val_accuracy: 0.9001\n",
            "Epoch 55/120\n",
            "469/469 [==============================] - 12s 25ms/step - loss: 0.1868 - accuracy: 0.9350 - val_loss: 0.3237 - val_accuracy: 0.8982\n",
            "Epoch 56/120\n",
            "469/469 [==============================] - 10s 22ms/step - loss: 0.1858 - accuracy: 0.9356 - val_loss: 0.3234 - val_accuracy: 0.8999\n",
            "Epoch 57/120\n",
            "469/469 [==============================] - 11s 24ms/step - loss: 0.1820 - accuracy: 0.9368 - val_loss: 0.3269 - val_accuracy: 0.9004\n",
            "Epoch 58/120\n",
            "469/469 [==============================] - 12s 25ms/step - loss: 0.1807 - accuracy: 0.9378 - val_loss: 0.3229 - val_accuracy: 0.9018\n",
            "Epoch 59/120\n",
            "469/469 [==============================] - 12s 25ms/step - loss: 0.1784 - accuracy: 0.9380 - val_loss: 0.3262 - val_accuracy: 0.9013\n",
            "Epoch 60/120\n",
            "469/469 [==============================] - 12s 25ms/step - loss: 0.1780 - accuracy: 0.9390 - val_loss: 0.3243 - val_accuracy: 0.9012\n",
            "Epoch 61/120\n",
            "469/469 [==============================] - 11s 23ms/step - loss: 0.1769 - accuracy: 0.9394 - val_loss: 0.3335 - val_accuracy: 0.8985\n",
            "Epoch 62/120\n",
            "469/469 [==============================] - 11s 24ms/step - loss: 0.1743 - accuracy: 0.9398 - val_loss: 0.3233 - val_accuracy: 0.9025\n",
            "Epoch 63/120\n",
            "469/469 [==============================] - 12s 25ms/step - loss: 0.1753 - accuracy: 0.9391 - val_loss: 0.3309 - val_accuracy: 0.8998\n",
            "Epoch 64/120\n",
            "469/469 [==============================] - 12s 25ms/step - loss: 0.1722 - accuracy: 0.9401 - val_loss: 0.3337 - val_accuracy: 0.8987\n",
            "Epoch 65/120\n",
            "469/469 [==============================] - 12s 25ms/step - loss: 0.1710 - accuracy: 0.9400 - val_loss: 0.3302 - val_accuracy: 0.9001\n",
            "Epoch 66/120\n",
            "469/469 [==============================] - 11s 24ms/step - loss: 0.1720 - accuracy: 0.9412 - val_loss: 0.3291 - val_accuracy: 0.9021\n",
            "Epoch 67/120\n",
            "469/469 [==============================] - 11s 23ms/step - loss: 0.1688 - accuracy: 0.9413 - val_loss: 0.3324 - val_accuracy: 0.9021\n",
            "Epoch 68/120\n",
            "469/469 [==============================] - 12s 25ms/step - loss: 0.1693 - accuracy: 0.9414 - val_loss: 0.3315 - val_accuracy: 0.9017\n",
            "Epoch 69/120\n",
            "469/469 [==============================] - 12s 25ms/step - loss: 0.1677 - accuracy: 0.9425 - val_loss: 0.3319 - val_accuracy: 0.9012\n",
            "Epoch 70/120\n",
            "469/469 [==============================] - 12s 25ms/step - loss: 0.1662 - accuracy: 0.9433 - val_loss: 0.3331 - val_accuracy: 0.9003\n",
            "Epoch 71/120\n",
            "469/469 [==============================] - 12s 25ms/step - loss: 0.1652 - accuracy: 0.9449 - val_loss: 0.3474 - val_accuracy: 0.8984\n",
            "Epoch 72/120\n",
            "469/469 [==============================] - 11s 23ms/step - loss: 0.1610 - accuracy: 0.9448 - val_loss: 0.3368 - val_accuracy: 0.9024\n",
            "Epoch 73/120\n",
            "469/469 [==============================] - 12s 25ms/step - loss: 0.1628 - accuracy: 0.9441 - val_loss: 0.3348 - val_accuracy: 0.9032\n",
            "Epoch 74/120\n",
            "469/469 [==============================] - 12s 26ms/step - loss: 0.1614 - accuracy: 0.9457 - val_loss: 0.3412 - val_accuracy: 0.9020\n",
            "Epoch 75/120\n",
            "469/469 [==============================] - 12s 25ms/step - loss: 0.1613 - accuracy: 0.9456 - val_loss: 0.3411 - val_accuracy: 0.9017\n",
            "Epoch 76/120\n",
            "469/469 [==============================] - 12s 25ms/step - loss: 0.1561 - accuracy: 0.9469 - val_loss: 0.3494 - val_accuracy: 0.9005\n",
            "Epoch 77/120\n",
            "469/469 [==============================] - 11s 24ms/step - loss: 0.1568 - accuracy: 0.9471 - val_loss: 0.3390 - val_accuracy: 0.9032\n",
            "Epoch 78/120\n",
            "469/469 [==============================] - 11s 23ms/step - loss: 0.1572 - accuracy: 0.9471 - val_loss: 0.3478 - val_accuracy: 0.9036\n",
            "Epoch 79/120\n",
            "469/469 [==============================] - 12s 25ms/step - loss: 0.1554 - accuracy: 0.9471 - val_loss: 0.3437 - val_accuracy: 0.9030\n",
            "Epoch 80/120\n",
            "469/469 [==============================] - 12s 25ms/step - loss: 0.1538 - accuracy: 0.9482 - val_loss: 0.3496 - val_accuracy: 0.9032\n",
            "Epoch 81/120\n",
            "469/469 [==============================] - 12s 25ms/step - loss: 0.1541 - accuracy: 0.9478 - val_loss: 0.3480 - val_accuracy: 0.9020\n",
            "Epoch 82/120\n",
            "469/469 [==============================] - 11s 24ms/step - loss: 0.1533 - accuracy: 0.9480 - val_loss: 0.3506 - val_accuracy: 0.9043\n",
            "Epoch 83/120\n",
            "469/469 [==============================] - 10s 22ms/step - loss: 0.1507 - accuracy: 0.9495 - val_loss: 0.3375 - val_accuracy: 0.9038\n",
            "Epoch 84/120\n",
            "469/469 [==============================] - 11s 24ms/step - loss: 0.1513 - accuracy: 0.9488 - val_loss: 0.3419 - val_accuracy: 0.9034\n",
            "Epoch 85/120\n",
            "469/469 [==============================] - 13s 29ms/step - loss: 0.1495 - accuracy: 0.9490 - val_loss: 0.3436 - val_accuracy: 0.9038\n",
            "Epoch 86/120\n",
            "469/469 [==============================] - 12s 25ms/step - loss: 0.1487 - accuracy: 0.9495 - val_loss: 0.3513 - val_accuracy: 0.9014\n",
            "Epoch 87/120\n",
            "469/469 [==============================] - 12s 25ms/step - loss: 0.1493 - accuracy: 0.9501 - val_loss: 0.3505 - val_accuracy: 0.9041\n",
            "Epoch 88/120\n",
            "469/469 [==============================] - 11s 23ms/step - loss: 0.1478 - accuracy: 0.9505 - val_loss: 0.3482 - val_accuracy: 0.9042\n",
            "Epoch 89/120\n",
            "469/469 [==============================] - 11s 22ms/step - loss: 0.1452 - accuracy: 0.9521 - val_loss: 0.3475 - val_accuracy: 0.9027\n",
            "Epoch 90/120\n",
            "469/469 [==============================] - 11s 24ms/step - loss: 0.1434 - accuracy: 0.9520 - val_loss: 0.3518 - val_accuracy: 0.9024\n",
            "Epoch 91/120\n",
            "469/469 [==============================] - 11s 24ms/step - loss: 0.1440 - accuracy: 0.9509 - val_loss: 0.3535 - val_accuracy: 0.9031\n",
            "Epoch 92/120\n",
            "469/469 [==============================] - 12s 25ms/step - loss: 0.1439 - accuracy: 0.9523 - val_loss: 0.3486 - val_accuracy: 0.9019\n",
            "Epoch 93/120\n",
            "469/469 [==============================] - 11s 24ms/step - loss: 0.1409 - accuracy: 0.9528 - val_loss: 0.3623 - val_accuracy: 0.9017\n",
            "Epoch 94/120\n",
            "469/469 [==============================] - 11s 22ms/step - loss: 0.1413 - accuracy: 0.9536 - val_loss: 0.3534 - val_accuracy: 0.9040\n",
            "Epoch 95/120\n",
            "469/469 [==============================] - 12s 25ms/step - loss: 0.1404 - accuracy: 0.9530 - val_loss: 0.3640 - val_accuracy: 0.9034\n",
            "Epoch 96/120\n",
            "469/469 [==============================] - 12s 25ms/step - loss: 0.1401 - accuracy: 0.9531 - val_loss: 0.3687 - val_accuracy: 0.9041\n",
            "Epoch 97/120\n",
            "469/469 [==============================] - 12s 25ms/step - loss: 0.1395 - accuracy: 0.9533 - val_loss: 0.3671 - val_accuracy: 0.9025\n",
            "Epoch 98/120\n",
            "469/469 [==============================] - 13s 29ms/step - loss: 0.1394 - accuracy: 0.9538 - val_loss: 0.3598 - val_accuracy: 0.9024\n",
            "Epoch 99/120\n",
            "469/469 [==============================] - 11s 24ms/step - loss: 0.1375 - accuracy: 0.9546 - val_loss: 0.3659 - val_accuracy: 0.8998\n",
            "Epoch 100/120\n",
            "469/469 [==============================] - 10s 22ms/step - loss: 0.1408 - accuracy: 0.9537 - val_loss: 0.3592 - val_accuracy: 0.9012\n",
            "Epoch 101/120\n",
            "469/469 [==============================] - 11s 24ms/step - loss: 0.1364 - accuracy: 0.9555 - val_loss: 0.3578 - val_accuracy: 0.9054\n",
            "Epoch 102/120\n",
            "469/469 [==============================] - 12s 25ms/step - loss: 0.1356 - accuracy: 0.9542 - val_loss: 0.3557 - val_accuracy: 0.9024\n",
            "Epoch 103/120\n",
            "469/469 [==============================] - 12s 25ms/step - loss: 0.1350 - accuracy: 0.9559 - val_loss: 0.3572 - val_accuracy: 0.9039\n",
            "Epoch 104/120\n",
            "469/469 [==============================] - 11s 24ms/step - loss: 0.1365 - accuracy: 0.9552 - val_loss: 0.3582 - val_accuracy: 0.9049\n",
            "Epoch 105/120\n",
            "469/469 [==============================] - 10s 22ms/step - loss: 0.1355 - accuracy: 0.9561 - val_loss: 0.3590 - val_accuracy: 0.9054\n",
            "Epoch 106/120\n",
            "469/469 [==============================] - 11s 24ms/step - loss: 0.1328 - accuracy: 0.9564 - val_loss: 0.3754 - val_accuracy: 0.9010\n",
            "Epoch 107/120\n",
            "469/469 [==============================] - 11s 24ms/step - loss: 0.1328 - accuracy: 0.9569 - val_loss: 0.3659 - val_accuracy: 0.9025\n",
            "Epoch 108/120\n",
            "469/469 [==============================] - 11s 25ms/step - loss: 0.1311 - accuracy: 0.9576 - val_loss: 0.3697 - val_accuracy: 0.9027\n",
            "Epoch 109/120\n",
            "469/469 [==============================] - 11s 24ms/step - loss: 0.1295 - accuracy: 0.9572 - val_loss: 0.3706 - val_accuracy: 0.9041\n",
            "Epoch 110/120\n",
            "469/469 [==============================] - 11s 23ms/step - loss: 0.1325 - accuracy: 0.9561 - val_loss: 0.3620 - val_accuracy: 0.9056\n",
            "Epoch 111/120\n",
            "469/469 [==============================] - 11s 24ms/step - loss: 0.1306 - accuracy: 0.9567 - val_loss: 0.3653 - val_accuracy: 0.9041\n",
            "Epoch 112/120\n",
            "469/469 [==============================] - 11s 24ms/step - loss: 0.1291 - accuracy: 0.9581 - val_loss: 0.3669 - val_accuracy: 0.9057\n",
            "Epoch 113/120\n",
            "469/469 [==============================] - 11s 24ms/step - loss: 0.1303 - accuracy: 0.9580 - val_loss: 0.3692 - val_accuracy: 0.9059\n",
            "Epoch 114/120\n",
            "469/469 [==============================] - 11s 23ms/step - loss: 0.1295 - accuracy: 0.9584 - val_loss: 0.3668 - val_accuracy: 0.9037\n",
            "Epoch 115/120\n",
            "469/469 [==============================] - 11s 23ms/step - loss: 0.1262 - accuracy: 0.9593 - val_loss: 0.3754 - val_accuracy: 0.9044\n",
            "Epoch 116/120\n",
            "469/469 [==============================] - 12s 25ms/step - loss: 0.1276 - accuracy: 0.9584 - val_loss: 0.3735 - val_accuracy: 0.9054\n",
            "Epoch 117/120\n",
            "469/469 [==============================] - 12s 25ms/step - loss: 0.1285 - accuracy: 0.9582 - val_loss: 0.3670 - val_accuracy: 0.9063\n",
            "Epoch 118/120\n",
            "469/469 [==============================] - 13s 27ms/step - loss: 0.1252 - accuracy: 0.9603 - val_loss: 0.3750 - val_accuracy: 0.9039\n",
            "Epoch 119/120\n",
            "469/469 [==============================] - 12s 26ms/step - loss: 0.1237 - accuracy: 0.9599 - val_loss: 0.3836 - val_accuracy: 0.9038\n",
            "Epoch 120/120\n",
            "469/469 [==============================] - 11s 22ms/step - loss: 0.1253 - accuracy: 0.9587 - val_loss: 0.3782 - val_accuracy: 0.9049\n",
            "313/313 [==============================] - 2s 7ms/step - loss: 0.3782 - accuracy: 0.9049\n",
            "\n",
            "Test accuracy: 0.9049000144004822\n"
          ]
        }
      ]
    },
    {
      "cell_type": "code",
      "source": [
        "history_dict = history.history\n",
        "loss_values = history_dict['loss']\n",
        "val_loss_values = history_dict['val_loss']\n",
        "\n",
        "epochs = range(1, len(history_dict['accuracy']) + 1)\n",
        "\n",
        "plt.figure(figsize=(10, 5))\n",
        "plt.plot(epochs, loss_values, 'bo', label='Training loss')\n",
        "plt.plot(epochs, val_loss_values, 'b', label='Validation loss')\n",
        "plt.title('Training and validation loss')\n",
        "plt.xlabel('Epochs')\n",
        "plt.ylabel('Loss')\n",
        "plt.legend()\n",
        "plt.show()\n",
        "\n",
        "plt.clf()\n",
        "plt.figure(figsize=(10, 5))\n",
        "val_acc_values = history_dict['val_accuracy']\n",
        "plt.plot(epochs, history_dict['accuracy'], 'bo', label='Training acc')\n",
        "plt.plot(epochs, history_dict['val_accuracy'], 'b', label='Validation acc')\n",
        "plt.title('Training and validation accuracy')\n",
        "plt.xlabel('Epochs')\n",
        "plt.ylabel('Accuracy')\n",
        "plt.legend()"
      ],
      "metadata": {
        "colab": {
          "base_uri": "https://localhost:8080/",
          "height": 993
        },
        "id": "2Ll_5sGlXKMH",
        "outputId": "4dfc2b84-642f-4335-ed7e-33ed8df425a4"
      },
      "execution_count": 8,
      "outputs": [
        {
          "output_type": "display_data",
          "data": {
            "text/plain": [
              "<Figure size 1000x500 with 1 Axes>"
            ],
            "image/png": "[encoded data removed]"
          },
          "metadata": {}
        },
        {
          "output_type": "execute_result",
          "data": {
            "text/plain": [
              "<matplotlib.legend.Legend at 0x7fbd1016c760>"
            ]
          },
          "metadata": {},
          "execution_count": 8
        },
        {
          "output_type": "display_data",
          "data": {
            "text/plain": [
              "<Figure size 640x480 with 0 Axes>"
            ]
          },
          "metadata": {}
        },
        {
          "output_type": "display_data",
          "data": {
            "text/plain": [
              "<Figure size 1000x500 with 1 Axes>"
            ],
            "image/png": "[encoded data removed]"
          },
          "metadata": {}
        }
      ]
    },
    {
      "cell_type": "code",
      "source": [
        "probability_model = tf.keras.Sequential([model,\n",
        "                                         tf.keras.layers.Softmax()])"
      ],
      "metadata": {
        "id": "VzOdKAT_uV-f"
      },
      "execution_count": 9,
      "outputs": []
    },
    {
      "cell_type": "code",
      "source": [
        "predictions = probability_model.predict(test_images)"
      ],
      "metadata": {
        "id": "f4is3NFruYom",
        "outputId": "bf26bf46-b8a2-4e3f-ac09-8d821eaa8d2d",
        "colab": {
          "base_uri": "https://localhost:8080/"
        }
      },
      "execution_count": 10,
      "outputs": [
        {
          "output_type": "stream",
          "name": "stdout",
          "text": [
            "313/313 [==============================] - 1s 4ms/step\n"
          ]
        }
      ]
    },
    {
      "cell_type": "code",
      "source": [
        "predictions[0]"
      ],
      "metadata": {
        "id": "82cigvlZudz_",
        "outputId": "dc132cf0-adf6-4fc1-f0ab-a16d8273c49d",
        "colab": {
          "base_uri": "https://localhost:8080/"
        }
      },
      "execution_count": 11,
      "outputs": [
        {
          "output_type": "execute_result",
          "data": {
            "text/plain": [
              "array([0.08533689, 0.08533689, 0.08533689, 0.08533689, 0.08533689,\n",
              "       0.08533698, 0.08533689, 0.0853379 , 0.08533689, 0.2319668 ],\n",
              "      dtype=float32)"
            ]
          },
          "metadata": {},
          "execution_count": 11
        }
      ]
    },
    {
      "cell_type": "code",
      "source": [
        "model.summary()"
      ],
      "metadata": {
        "colab": {
          "base_uri": "https://localhost:8080/"
        },
        "id": "6RsQPHyYuNGe",
        "outputId": "a8958529-5d63-4ff2-d395-0febc7e10ab2"
      },
      "execution_count": 12,
      "outputs": [
        {
          "output_type": "stream",
          "name": "stdout",
          "text": [
            "Model: \"sequential\"\n",
            "_________________________________________________________________\n",
            " Layer (type)                Output Shape              Param #   \n",
            "=================================================================\n",
            " flatten (Flatten)           (None, 784)               0         \n",
            "                                                                 \n",
            " dense (Dense)               (None, 512)               401920    \n",
            "                                                                 \n",
            " dropout (Dropout)           (None, 512)               0         \n",
            "                                                                 \n",
            " dense_1 (Dense)             (None, 512)               262656    \n",
            "                                                                 \n",
            " dense_2 (Dense)             (None, 10)                5130      \n",
            "                                                                 \n",
            "=================================================================\n",
            "Total params: 669706 (2.55 MB)\n",
            "Trainable params: 669706 (2.55 MB)\n",
            "Non-trainable params: 0 (0.00 Byte)\n",
            "_________________________________________________________________\n"
          ]
        }
      ]
    }
  ]
}