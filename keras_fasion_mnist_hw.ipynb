{
  "nbformat": 4,
  "nbformat_minor": 0,
  "metadata": {
    "colab": {
      "provenance": [],
      "gpuType": "T4",
      "authorship_tag": "ABX9TyNLaDinU38atVZ/TopWGYE9",
      "include_colab_link": true
    },
    "kernelspec": {
      "name": "python3",
      "display_name": "Python 3"
    },
    "language_info": {
      "name": "python"
    },
    "accelerator": "GPU"
  },
  "cells": [
    {
      "cell_type": "markdown",
      "metadata": {
        "id": "view-in-github",
        "colab_type": "text"
      },
      "source": [
        "<a href=\"https://colab.research.google.com/github/PavelStelmakhV/hw310-keras-fasion-mnist/blob/main/keras_fasion_mnist_hw.ipynb\" target=\"_parent\"><img src=\"https://colab.research.google.com/assets/colab-badge.svg\" alt=\"Open In Colab\"/></a>"
      ]
    },
    {
      "cell_type": "code",
      "execution_count": 1,
      "metadata": {
        "id": "vv7w0bgAVQPO"
      },
      "outputs": [],
      "source": [
        "import tensorflow as tf\n",
        "\n",
        "import numpy as np\n",
        "import matplotlib.pyplot as plt\n",
        "from keras import layers\n",
        "from keras import regularizers\n",
        "from keras import callbacks"
      ]
    },
    {
      "cell_type": "code",
      "source": [
        "fashion_mnist = tf.keras.datasets.fashion_mnist\n",
        "\n",
        "(x_train, y_train), (x_test, y_test) = fashion_mnist.load_data()"
      ],
      "metadata": {
        "id": "mOpywsNAzfGB",
        "outputId": "a67ece8b-0dec-4c11-c985-99290f053cb3",
        "colab": {
          "base_uri": "https://localhost:8080/"
        }
      },
      "execution_count": 2,
      "outputs": [
        {
          "output_type": "stream",
          "name": "stdout",
          "text": [
            "Downloading data from https://storage.googleapis.com/tensorflow/tf-keras-datasets/train-labels-idx1-ubyte.gz\n",
            "29515/29515 [==============================] - 0s 1us/step\n",
            "Downloading data from https://storage.googleapis.com/tensorflow/tf-keras-datasets/train-images-idx3-ubyte.gz\n",
            "26421880/26421880 [==============================] - 2s 0us/step\n",
            "Downloading data from https://storage.googleapis.com/tensorflow/tf-keras-datasets/t10k-labels-idx1-ubyte.gz\n",
            "5148/5148 [==============================] - 0s 0us/step\n",
            "Downloading data from https://storage.googleapis.com/tensorflow/tf-keras-datasets/t10k-images-idx3-ubyte.gz\n",
            "4422102/4422102 [==============================] - 1s 0us/step\n"
          ]
        }
      ]
    },
    {
      "cell_type": "code",
      "source": [
        "# x_train = x_train.reshape(60000, 784).astype('float32') / 255\n",
        "# x_test = x_test.reshape(10000, 784).astype('float32') / 255\n",
        "x_train = x_train.astype('float32') / 255\n",
        "x_test = x_test.astype('float32') / 255\n",
        "\n",
        "y_train = y_train.astype('float32')\n",
        "y_test = y_test.astype('float32')\n",
        "\n",
        "# Перемешаем тренировочные данные\n",
        "# train_data = tf.data.Dataset.from_tensor_slices((x_train, y_train))\n",
        "# train_data = train_data.repeat().shuffle(5000).batch(batch_size).prefetch(1)"
      ],
      "metadata": {
        "id": "t2gucjsJ0KUi"
      },
      "execution_count": 3,
      "outputs": []
    },
    {
      "cell_type": "code",
      "source": [
        "x_val = x_train[-10000:]\n",
        "y_val = y_train[-10000:]\n",
        "x_train = x_train[:-10000]\n",
        "y_train = y_train[:-10000]"
      ],
      "metadata": {
        "id": "fLPNXab5dHwO"
      },
      "execution_count": 4,
      "outputs": []
    },
    {
      "cell_type": "code",
      "source": [],
      "metadata": {
        "id": "bU5TK5YdlnU5"
      },
      "execution_count": 4,
      "outputs": []
    },
    {
      "cell_type": "code",
      "source": [
        "model = tf.keras.Sequential()\n",
        "\n",
        "drop_out = 0.4\n",
        "lern_rat = 0.00001\n",
        "neurons = 2000\n",
        "\n",
        "model.add(layers.Flatten(input_shape=(28, 28)))\n",
        "# model.add(layers.Dropout(0.2))\n",
        "model.add(layers.Dense(neurons, activation='tanh', kernel_regularizer=regularizers.l2(lern_rat)))\n",
        "model.add(layers.Dropout(drop_out))\n",
        "model.add(layers.Dense(neurons, activation='relu', kernel_regularizer=regularizers.l2(lern_rat)))\n",
        "model.add(layers.Dropout(drop_out))\n",
        "\n",
        "# model.add(layers.Dense(neurons, activation='relu', kernel_regularizer=regularizers.l2(lern_rat)))\n",
        "# model.add(layers.Dropout(drop_out))\n",
        "model.add(layers.Dense(neurons, activation='tanh', kernel_regularizer=regularizers.l2(lern_rat)))\n",
        "model.add(layers.Dropout(drop_out))\n",
        "model.add(layers.Dense(neurons, activation='relu', kernel_regularizer=regularizers.l2(lern_rat)))\n",
        "model.add(layers.Dropout(drop_out))\n",
        "\n",
        "model.add(layers.Dense(10, activation='softmax'))\n",
        "# model.add(layers.Softmax())"
      ],
      "metadata": {
        "id": "atS39i4d0aqW"
      },
      "execution_count": 5,
      "outputs": []
    },
    {
      "cell_type": "code",
      "source": [],
      "metadata": {
        "id": "EzfnaqIZlfy8"
      },
      "execution_count": 5,
      "outputs": []
    },
    {
      "cell_type": "code",
      "source": [
        "model.compile(#optimizer='adam',\n",
        "              optimizer='adamax',\n",
        "              # optimizer='nadam',\n",
        "              # optimizer='rmsprop',\n",
        "              # optimizer='sgd',\n",
        "              # optimizer='adadelta',\n",
        "              # loss='binary_crossentropy',\n",
        "              loss=tf.keras.losses.SparseCategoricalCrossentropy(),\n",
        "              metrics=['sparse_categorical_accuracy'])"
      ],
      "metadata": {
        "id": "hENVaAC7ilNY"
      },
      "execution_count": 6,
      "outputs": []
    },
    {
      "cell_type": "code",
      "source": [
        "callback = callbacks.EarlyStopping(monitor='val_loss', patience=6)"
      ],
      "metadata": {
        "id": "5ihU4exVlsjm"
      },
      "execution_count": 9,
      "outputs": []
    },
    {
      "cell_type": "code",
      "source": [
        "# model.fit(train_images, train_labels, epochs=20)\n",
        "history = model.fit(x_train, y_train,\n",
        "                    epochs=120,\n",
        "                    batch_size=32,\n",
        "                    callbacks=[callback],\n",
        "                    validation_data=(x_val, y_val))\n",
        "test_loss, test_acc = model.evaluate(x_test, y_test)\n",
        "print('\\nTest accuracy:', test_acc)"
      ],
      "metadata": {
        "id": "FH8HcMNm233I",
        "outputId": "bc2e31ce-0c2f-46d9-e87b-ae5d0af89fc3",
        "colab": {
          "base_uri": "https://localhost:8080/"
        }
      },
      "execution_count": 10,
      "outputs": [
        {
          "output_type": "stream",
          "name": "stdout",
          "text": [
            "Epoch 1/120\n",
            "1563/1563 [==============================] - 13s 8ms/step - loss: 0.5135 - sparse_categorical_accuracy: 0.8412 - val_loss: 0.4538 - val_sparse_categorical_accuracy: 0.8558\n",
            "Epoch 2/120\n",
            "1563/1563 [==============================] - 13s 9ms/step - loss: 0.4849 - sparse_categorical_accuracy: 0.8508 - val_loss: 0.4648 - val_sparse_categorical_accuracy: 0.8559\n",
            "Epoch 3/120\n",
            "1563/1563 [==============================] - 13s 9ms/step - loss: 0.4574 - sparse_categorical_accuracy: 0.8602 - val_loss: 0.4561 - val_sparse_categorical_accuracy: 0.8642\n",
            "Epoch 4/120\n",
            "1563/1563 [==============================] - 13s 8ms/step - loss: 0.4445 - sparse_categorical_accuracy: 0.8650 - val_loss: 0.4237 - val_sparse_categorical_accuracy: 0.8736\n",
            "Epoch 5/120\n",
            "1563/1563 [==============================] - 14s 9ms/step - loss: 0.4332 - sparse_categorical_accuracy: 0.8693 - val_loss: 0.4365 - val_sparse_categorical_accuracy: 0.8698\n",
            "Epoch 6/120\n",
            "1563/1563 [==============================] - 14s 9ms/step - loss: 0.4199 - sparse_categorical_accuracy: 0.8738 - val_loss: 0.4273 - val_sparse_categorical_accuracy: 0.8747\n",
            "Epoch 7/120\n",
            "1563/1563 [==============================] - 14s 9ms/step - loss: 0.4068 - sparse_categorical_accuracy: 0.8780 - val_loss: 0.4127 - val_sparse_categorical_accuracy: 0.8757\n",
            "Epoch 8/120\n",
            "1563/1563 [==============================] - 13s 8ms/step - loss: 0.4015 - sparse_categorical_accuracy: 0.8789 - val_loss: 0.4586 - val_sparse_categorical_accuracy: 0.8695\n",
            "Epoch 9/120\n",
            "1563/1563 [==============================] - 13s 8ms/step - loss: 0.3936 - sparse_categorical_accuracy: 0.8838 - val_loss: 0.4163 - val_sparse_categorical_accuracy: 0.8819\n",
            "Epoch 10/120\n",
            "1563/1563 [==============================] - 13s 8ms/step - loss: 0.3891 - sparse_categorical_accuracy: 0.8848 - val_loss: 0.4239 - val_sparse_categorical_accuracy: 0.8732\n",
            "Epoch 11/120\n",
            "1563/1563 [==============================] - 13s 8ms/step - loss: 0.3800 - sparse_categorical_accuracy: 0.8879 - val_loss: 0.4248 - val_sparse_categorical_accuracy: 0.8767\n",
            "Epoch 12/120\n",
            "1563/1563 [==============================] - 13s 8ms/step - loss: 0.3773 - sparse_categorical_accuracy: 0.8885 - val_loss: 0.4295 - val_sparse_categorical_accuracy: 0.8812\n",
            "Epoch 13/120\n",
            "1563/1563 [==============================] - 13s 8ms/step - loss: 0.3755 - sparse_categorical_accuracy: 0.8887 - val_loss: 0.3987 - val_sparse_categorical_accuracy: 0.8854\n",
            "Epoch 14/120\n",
            "1563/1563 [==============================] - 13s 8ms/step - loss: 0.3663 - sparse_categorical_accuracy: 0.8932 - val_loss: 0.4070 - val_sparse_categorical_accuracy: 0.8830\n",
            "Epoch 15/120\n",
            "1563/1563 [==============================] - 13s 8ms/step - loss: 0.3651 - sparse_categorical_accuracy: 0.8938 - val_loss: 0.4114 - val_sparse_categorical_accuracy: 0.8864\n",
            "Epoch 16/120\n",
            "1563/1563 [==============================] - 13s 8ms/step - loss: 0.3600 - sparse_categorical_accuracy: 0.8945 - val_loss: 0.4034 - val_sparse_categorical_accuracy: 0.8859\n",
            "Epoch 17/120\n",
            "1563/1563 [==============================] - 14s 9ms/step - loss: 0.3591 - sparse_categorical_accuracy: 0.8938 - val_loss: 0.4008 - val_sparse_categorical_accuracy: 0.8895\n",
            "Epoch 18/120\n",
            "1563/1563 [==============================] - 14s 9ms/step - loss: 0.3530 - sparse_categorical_accuracy: 0.8974 - val_loss: 0.4036 - val_sparse_categorical_accuracy: 0.8860\n",
            "Epoch 19/120\n",
            "1563/1563 [==============================] - 13s 8ms/step - loss: 0.3479 - sparse_categorical_accuracy: 0.8991 - val_loss: 0.3959 - val_sparse_categorical_accuracy: 0.8896\n",
            "Epoch 20/120\n",
            "1563/1563 [==============================] - 13s 8ms/step - loss: 0.3457 - sparse_categorical_accuracy: 0.9009 - val_loss: 0.4144 - val_sparse_categorical_accuracy: 0.8815\n",
            "Epoch 21/120\n",
            "1563/1563 [==============================] - 14s 9ms/step - loss: 0.3463 - sparse_categorical_accuracy: 0.9009 - val_loss: 0.4224 - val_sparse_categorical_accuracy: 0.8870\n",
            "Epoch 22/120\n",
            "1563/1563 [==============================] - 14s 9ms/step - loss: 0.3421 - sparse_categorical_accuracy: 0.9018 - val_loss: 0.3953 - val_sparse_categorical_accuracy: 0.8928\n",
            "Epoch 23/120\n",
            "1563/1563 [==============================] - 13s 8ms/step - loss: 0.3351 - sparse_categorical_accuracy: 0.9052 - val_loss: 0.4043 - val_sparse_categorical_accuracy: 0.8908\n",
            "Epoch 24/120\n",
            "1563/1563 [==============================] - 13s 8ms/step - loss: 0.3364 - sparse_categorical_accuracy: 0.9038 - val_loss: 0.4437 - val_sparse_categorical_accuracy: 0.8800\n",
            "Epoch 25/120\n",
            "1563/1563 [==============================] - 14s 9ms/step - loss: 0.3354 - sparse_categorical_accuracy: 0.9044 - val_loss: 0.4131 - val_sparse_categorical_accuracy: 0.8902\n",
            "Epoch 26/120\n",
            "1563/1563 [==============================] - 13s 8ms/step - loss: 0.3323 - sparse_categorical_accuracy: 0.9054 - val_loss: 0.4141 - val_sparse_categorical_accuracy: 0.8890\n",
            "Epoch 27/120\n",
            "1563/1563 [==============================] - 13s 8ms/step - loss: 0.3281 - sparse_categorical_accuracy: 0.9084 - val_loss: 0.4123 - val_sparse_categorical_accuracy: 0.8873\n",
            "Epoch 28/120\n",
            "1563/1563 [==============================] - 13s 8ms/step - loss: 0.3276 - sparse_categorical_accuracy: 0.9091 - val_loss: 0.4094 - val_sparse_categorical_accuracy: 0.8934\n",
            "313/313 [==============================] - 1s 3ms/step - loss: 0.4344 - sparse_categorical_accuracy: 0.8849\n",
            "\n",
            "Test accuracy: 0.8848999738693237\n"
          ]
        }
      ]
    },
    {
      "cell_type": "code",
      "source": [
        "print('\\nhistory dict:', list(history.history.keys()))"
      ],
      "metadata": {
        "id": "CxRE-B_Q6Sii"
      },
      "execution_count": null,
      "outputs": []
    },
    {
      "cell_type": "code",
      "source": [
        "history_dict = history.history\n",
        "loss_values = history_dict['loss']\n",
        "val_loss_values = history_dict['val_loss']\n",
        "\n",
        "epochs = range(1, len(history_dict['loss']) + 1)\n",
        "\n",
        "plt.figure(figsize=(10, 5))\n",
        "plt.plot(epochs, loss_values, 'bo', label='Training loss')\n",
        "plt.plot(epochs, val_loss_values, 'b', label='Validation loss')\n",
        "plt.title('Training and validation loss')\n",
        "plt.xlabel('Epochs')\n",
        "plt.ylabel('Loss')\n",
        "plt.legend()\n",
        "plt.grid(True)\n",
        "plt.show()\n",
        "\n",
        "plt.clf()\n",
        "plt.figure(figsize=(10, 5))\n",
        "val_acc_values = history_dict['sparse_categorical_accuracy']\n",
        "plt.plot(epochs, history_dict['sparse_categorical_accuracy'], 'bo', label='Training acc')\n",
        "plt.plot(epochs, history_dict['val_sparse_categorical_accuracy'], 'b', label='Validation acc')\n",
        "plt.title('Training and validation accuracy')\n",
        "plt.xlabel('Epochs')\n",
        "plt.ylabel('Accuracy')\n",
        "plt.legend()\n",
        "plt.grid(True)"
      ],
      "metadata": {
        "id": "2Ll_5sGlXKMH"
      },
      "execution_count": null,
      "outputs": []
    },
    {
      "cell_type": "code",
      "source": [
        "probability_model = tf.keras.Sequential([model,\n",
        "                                         tf.keras.layers.Softmax()])"
      ],
      "metadata": {
        "id": "VzOdKAT_uV-f"
      },
      "execution_count": null,
      "outputs": []
    },
    {
      "cell_type": "code",
      "source": [
        "predictions = probability_model.predict(x_test)"
      ],
      "metadata": {
        "id": "f4is3NFruYom"
      },
      "execution_count": null,
      "outputs": []
    },
    {
      "cell_type": "code",
      "source": [
        "predictions[0]"
      ],
      "metadata": {
        "id": "82cigvlZudz_"
      },
      "execution_count": null,
      "outputs": []
    },
    {
      "cell_type": "code",
      "source": [
        "model.summary()"
      ],
      "metadata": {
        "id": "6RsQPHyYuNGe"
      },
      "execution_count": null,
      "outputs": []
    }
  ]
}