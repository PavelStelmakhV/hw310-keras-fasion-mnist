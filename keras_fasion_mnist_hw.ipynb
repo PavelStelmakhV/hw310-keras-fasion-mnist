{
  "nbformat": 4,
  "nbformat_minor": 0,
  "metadata": {
    "colab": {
      "provenance": [],
      "gpuType": "T4",
      "authorship_tag": "ABX9TyO2bOpI32etWimPEndKTMDG",
      "include_colab_link": true
    },
    "kernelspec": {
      "name": "python3",
      "display_name": "Python 3"
    },
    "language_info": {
      "name": "python"
    },
    "accelerator": "GPU"
  },
  "cells": [
    {
      "cell_type": "markdown",
      "metadata": {
        "id": "view-in-github",
        "colab_type": "text"
      },
      "source": [
        "<a href=\"https://colab.research.google.com/github/PavelStelmakhV/hw310-keras-fasion-mnist/blob/main/keras_fasion_mnist_hw.ipynb\" target=\"_parent\"><img src=\"https://colab.research.google.com/assets/colab-badge.svg\" alt=\"Open In Colab\"/></a>"
      ]
    },
    {
      "cell_type": "code",
      "source": [
        "import tensorflow as tf\n",
        "from tensorflow.python.client import device_lib\n",
        "print(device_lib.list_local_devices())"
      ],
      "metadata": {
        "colab": {
          "base_uri": "https://localhost:8080/"
        },
        "id": "CQL6wYJUms6Y",
        "outputId": "12fcb8a2-65a0-4785-d008-5688a27542d6"
      },
      "execution_count": null,
      "outputs": [
        {
          "output_type": "stream",
          "name": "stdout",
          "text": [
            "[name: \"/device:CPU:0\"\n",
            "device_type: \"CPU\"\n",
            "memory_limit: 268435456\n",
            "locality {\n",
            "}\n",
            "incarnation: 17237921632643618872\n",
            "xla_global_id: -1\n",
            "]\n"
          ]
        }
      ]
    },
    {
      "cell_type": "code",
      "execution_count": null,
      "metadata": {
        "id": "vv7w0bgAVQPO"
      },
      "outputs": [],
      "source": [
        "import tensorflow as tf\n",
        "import numpy as np\n",
        "import matplotlib.pyplot as plt\n",
        "import tf_keras\n",
        "\n",
        "from keras import layers\n",
        "from keras import models\n",
        "from keras import regularizers\n",
        "from keras import callbacks\n",
        "from keras import initializers\n",
        "from keras.layers import BatchNormalization\n",
        "from keras.models import load_model"
      ]
    },
    {
      "cell_type": "code",
      "source": [
        "num_classes = 10"
      ],
      "metadata": {
        "id": "RvT1uYJsa5cn"
      },
      "execution_count": null,
      "outputs": []
    },
    {
      "cell_type": "code",
      "source": [
        "fashion_mnist = tf.keras.datasets.fashion_mnist\n",
        "\n",
        "(x_train, y_train), (x_test, y_test) = fashion_mnist.load_data()"
      ],
      "metadata": {
        "id": "mOpywsNAzfGB"
      },
      "execution_count": null,
      "outputs": []
    },
    {
      "cell_type": "code",
      "source": [
        "np.transpose(y_train).shape"
      ],
      "metadata": {
        "id": "djIFwQxwMvQR",
        "outputId": "4381fa0d-29c9-4b15-9358-d4538751f5dd",
        "colab": {
          "base_uri": "https://localhost:8080/"
        }
      },
      "execution_count": null,
      "outputs": [
        {
          "output_type": "execute_result",
          "data": {
            "text/plain": [
              "(60000,)"
            ]
          },
          "metadata": {},
          "execution_count": 446
        }
      ]
    },
    {
      "cell_type": "code",
      "source": [
        "y_train.shape"
      ],
      "metadata": {
        "id": "clHS88VQNR82",
        "outputId": "bd44e6f2-667d-4237-ea4b-e48e80d6a123",
        "colab": {
          "base_uri": "https://localhost:8080/"
        }
      },
      "execution_count": null,
      "outputs": [
        {
          "output_type": "execute_result",
          "data": {
            "text/plain": [
              "(60000,)"
            ]
          },
          "metadata": {},
          "execution_count": 447
        }
      ]
    },
    {
      "cell_type": "code",
      "source": [
        "def drow_hist(data):\n",
        "  plt.figure(figsize=(8,6), dpi= 80)\n",
        "  _ = plt.hist(data,\n",
        "              bins=num_classes,\n",
        "              stacked=True,\n",
        "              density=False,\n",
        "              range=(0,10),\n",
        "              rwidth=0.9,\n",
        "              )"
      ],
      "metadata": {
        "id": "NjEvuOvomEoT"
      },
      "execution_count": null,
      "outputs": []
    },
    {
      "cell_type": "code",
      "source": [
        "# create validation data\n",
        "val_size = 6600\n",
        "\n",
        "x_val = x_train[-val_size:, :, :]\n",
        "x_train = x_train[:-val_size, :, :]\n",
        "\n",
        "y_val = y_train[-val_size:]\n",
        "y_train = y_train[:-val_size]"
      ],
      "metadata": {
        "id": "jAs92sDoVU89"
      },
      "execution_count": null,
      "outputs": []
    },
    {
      "cell_type": "code",
      "source": [
        "# mirror train image\n",
        "x_train_add = np.rot90(x_train, k=1, axes=(1,2))\n",
        "x_train_add = np.transpose(x_train_add, (0, 2, 1))"
      ],
      "metadata": {
        "id": "UHNuw-3D_v7x"
      },
      "execution_count": null,
      "outputs": []
    },
    {
      "cell_type": "code",
      "source": [
        "y_train_add = y_train.copy()"
      ],
      "metadata": {
        "id": "TNDXV8RfZbt1"
      },
      "execution_count": null,
      "outputs": []
    },
    {
      "cell_type": "code",
      "source": [
        "# remove boots image from addition data [5, 7, 9]\n",
        "for i in [5, 7, 9]:\n",
        "    index = np.where(y_train_add == i )\n",
        "    x_train_add = np.delete(x_train_add, index , axis=0)\n",
        "    y_train_add = np.delete(y_train_add, index , axis=0)"
      ],
      "metadata": {
        "id": "506yp4e5UqKp"
      },
      "execution_count": null,
      "outputs": []
    },
    {
      "cell_type": "code",
      "source": [
        "x_train_add.shape"
      ],
      "metadata": {
        "colab": {
          "base_uri": "https://localhost:8080/"
        },
        "id": "WB-PVgBb116E",
        "outputId": "1bac68a3-b14c-47ac-c7df-1b839092aa0d"
      },
      "execution_count": null,
      "outputs": [
        {
          "output_type": "execute_result",
          "data": {
            "text/plain": [
              "(34972, 28, 28)"
            ]
          },
          "metadata": {},
          "execution_count": 453
        }
      ]
    },
    {
      "cell_type": "code",
      "source": [
        "y_train_add.shape"
      ],
      "metadata": {
        "colab": {
          "base_uri": "https://localhost:8080/"
        },
        "id": "MjteIWwr2V-N",
        "outputId": "e709a47c-910e-4851-fd58-0ce7aa15b884"
      },
      "execution_count": null,
      "outputs": [
        {
          "output_type": "execute_result",
          "data": {
            "text/plain": [
              "(34972,)"
            ]
          },
          "metadata": {},
          "execution_count": 454
        }
      ]
    },
    {
      "cell_type": "code",
      "source": [
        "# x_train = np.concatenate([\n",
        "#     x_train,\n",
        "#     x_train_add[:10000:, :, :]\n",
        "# ])"
      ],
      "metadata": {
        "id": "C25g0-L5PuhV"
      },
      "execution_count": null,
      "outputs": []
    },
    {
      "cell_type": "code",
      "source": [
        "# y_train = np.concatenate([\n",
        "#     y_train,\n",
        "#     y_train_add[:10000]\n",
        "# ])"
      ],
      "metadata": {
        "id": "JiyI9CE-RWnR"
      },
      "execution_count": null,
      "outputs": []
    },
    {
      "cell_type": "code",
      "source": [
        "drow_hist(y_train)"
      ],
      "metadata": {
        "colab": {
          "base_uri": "https://localhost:8080/",
          "height": 420
        },
        "id": "j0FZ4_7DpRVw",
        "outputId": "ee1d33d9-1f05-45b3-c755-9f7bf9420752"
      },
      "execution_count": null,
      "outputs": [
        {
          "output_type": "display_data",
          "data": {
            "text/plain": [
              "<Figure size 640x480 with 1 Axes>"
            ],
            "image/png": "[encoded data removed]"
          },
          "metadata": {}
        }
      ]
    },
    {
      "cell_type": "code",
      "source": [
        "# plt.figure()\n",
        "# plt.imshow(x_train[7])\n",
        "# plt.colorbar()\n",
        "# plt.grid(False)\n",
        "# plt.show()"
      ],
      "metadata": {
        "id": "mq_QalIABCeU"
      },
      "execution_count": null,
      "outputs": []
    },
    {
      "cell_type": "code",
      "source": [
        "# plt.figure()\n",
        "# plt.imshow(x_train_add[0])\n",
        "# plt.colorbar()\n",
        "# plt.grid(False)\n",
        "# plt.show()"
      ],
      "metadata": {
        "id": "CDLNL7Zw3HEc"
      },
      "execution_count": null,
      "outputs": []
    },
    {
      "cell_type": "code",
      "source": [
        "x_train = x_train.astype('float32') / 255\n",
        "x_test = x_test.astype('float32') / 255\n",
        "\n",
        "y_train = y_train.astype('float32')\n",
        "y_test = y_test.astype('float32')\n",
        "\n",
        "x_val = x_val.astype('float32') / 255\n",
        "y_val = y_val.astype('float32')"
      ],
      "metadata": {
        "id": "t2gucjsJ0KUi"
      },
      "execution_count": null,
      "outputs": []
    },
    {
      "cell_type": "code",
      "source": [
        "# class_names = ['T-shirt/top', 'Trouser', 'Pullover', 'Dress', 'Coat',\n",
        "#                'Sandal', 'Shirt', 'Sneaker', 'Bag', 'Ankle boot']\n",
        "\n",
        "# plt.figure(figsize=(10,10))\n",
        "# for i in range(25):\n",
        "#     plt.subplot(5,5,i+1)\n",
        "#     plt.xticks([])\n",
        "#     plt.yticks([])\n",
        "#     plt.grid(False)\n",
        "#     plt.imshow(x_train[i+50000], cmap=plt.cm.binary)\n",
        "#     plt.xlabel(class_names[int(y_train[i+50000])])\n",
        "# plt.show()"
      ],
      "metadata": {
        "id": "h4LveKxM4hyC"
      },
      "execution_count": null,
      "outputs": []
    },
    {
      "cell_type": "code",
      "source": [
        "# plt.figure(figsize=(10,10))\n",
        "# for i in range(25):\n",
        "#     plt.subplot(5,5,i+1)\n",
        "#     plt.xticks([])\n",
        "#     plt.yticks([])\n",
        "#     plt.grid(False)\n",
        "#     plt.imshow(x_train[i], cmap=plt.cm.binary)\n",
        "#     plt.xlabel(class_names[int(y_train[i])])\n",
        "# plt.show()"
      ],
      "metadata": {
        "id": "hljEDYd55d8Q"
      },
      "execution_count": null,
      "outputs": []
    },
    {
      "cell_type": "code",
      "source": [
        "w_init_tanh = initializers.glorot_normal(seed=111)\n",
        "w_init_relu = initializers.HeNormal(seed=66)\n",
        "# w_init_relu = initializers.HeUniform(seed=24)\n",
        "b_init = initializers.Zeros()"
      ],
      "metadata": {
        "id": "yL9QTEtBGy4N"
      },
      "execution_count": null,
      "outputs": []
    },
    {
      "cell_type": "code",
      "source": [
        "drop_out = 0.28"
      ],
      "metadata": {
        "id": "flsDcVTnU10J"
      },
      "execution_count": null,
      "outputs": []
    },
    {
      "cell_type": "code",
      "source": [
        "def layer_relu(model, neurons):\n",
        "  model.add(BatchNormalization())\n",
        "  model.add(layers.Dense(neurons,\n",
        "                       activation='relu',\n",
        "                       kernel_initializer=w_init_relu,\n",
        "                       bias_initializer=b_init))\n",
        "  model.add(layers.Dropout(drop_out))\n",
        "  return model"
      ],
      "metadata": {
        "id": "ZZgs_25rKBCp"
      },
      "execution_count": null,
      "outputs": []
    },
    {
      "cell_type": "code",
      "source": [
        "def layer_tanh(model, neurons):\n",
        "  model.add(BatchNormalization())\n",
        "  model.add(layers.Dense(neurons,\n",
        "                        activation='tanh',\n",
        "                        kernel_initializer=w_init_tanh,\n",
        "                        bias_initializer=b_init))\n",
        "  model.add(layers.Dropout(drop_out))\n",
        "  return model"
      ],
      "metadata": {
        "id": "90JLLnkBR50t"
      },
      "execution_count": null,
      "outputs": []
    },
    {
      "cell_type": "code",
      "source": [
        "model = models.Sequential()\n",
        "\n",
        "neurons = 256\n",
        "\n",
        "model.add(layers.Flatten(input_shape=(28, 28)))\n",
        "model.add(layers.Dropout(drop_out))\n",
        "\n",
        "model = layer_relu(model, neurons*1)\n",
        "model = layer_tanh(model, neurons*2)\n",
        "model = layer_relu(model, neurons*2)\n",
        "# model = layer_relu(model, neurons*1)\n",
        "\n",
        "\n",
        "model.add(layers.Dense(10, activation='softmax'))"
      ],
      "metadata": {
        "id": "atS39i4d0aqW"
      },
      "execution_count": null,
      "outputs": []
    },
    {
      "cell_type": "markdown",
      "source": [
        "++++++++++++++++++++++++++++++++++++++++++++++++++++++++++++++++++++++++++++++++"
      ],
      "metadata": {
        "id": "tZO7hl7pM63y"
      }
    },
    {
      "cell_type": "code",
      "source": [
        "optimizer = tf.keras.optimizers.Nadam(learning_rate=0.0003,\n",
        "                                      beta_1=0.9,\n",
        "                                      beta_2=0.999,\n",
        "                                      epsilon=1e-06\n",
        ")\n",
        "# optimizer = tf.keras.optimizers.experimental.RMSprop(learning_rate=0.0005,\n",
        "#                                                     rho=0.5,\n",
        "#                                                     momentum=-16,\n",
        "#                                                     epsilon=1e-07,\n",
        "#                                                     centered=False,\n",
        "#                                                     weight_decay=None,\n",
        "#                                                     clipnorm=None,\n",
        "#                                                     clipvalue=None,\n",
        "#                                                     global_clipnorm=None,\n",
        "#                                                     use_ema=False,\n",
        "#                                                     ema_momentum=0.99,\n",
        "#                                                     ema_overwrite_frequency=100,\n",
        "#                                                     jit_compile=True,\n",
        "#                                                     name='RMSprop',\n",
        "# )"
      ],
      "metadata": {
        "id": "EzfnaqIZlfy8"
      },
      "execution_count": null,
      "outputs": []
    },
    {
      "cell_type": "markdown",
      "source": [
        "++++++++++++++++++++++++++++++++++++++++++++++++++++++++++++++++++++++++++++++++"
      ],
      "metadata": {
        "id": "KHmBptvOM95Z"
      }
    },
    {
      "cell_type": "code",
      "source": [
        "model.compile(#optimizer='adam',\n",
        "              # optimizer='adamax',\n",
        "              optimizer=optimizer,\n",
        "              # optimizer='rmsprop',\n",
        "              # optimizer='sgd',\n",
        "              # optimizer='adadelta',\n",
        "              # loss='binary_crossentropy',\n",
        "              loss=tf.keras.losses.SparseCategoricalCrossentropy(),\n",
        "              metrics=['sparse_categorical_accuracy']) # sparse_categorical_accuracy"
      ],
      "metadata": {
        "id": "hENVaAC7ilNY"
      },
      "execution_count": null,
      "outputs": []
    },
    {
      "cell_type": "code",
      "source": [
        "# callback = callbacks.EarlyStopping(monitor='val_loss',\n",
        "#                                    patience=15,\n",
        "#                                    restore_best_weights=True,\n",
        "#                                    )\n",
        "es = callbacks.EarlyStopping(monitor='val_loss', mode='min', verbose=0, patience=15)\n",
        "mc = callbacks.ModelCheckpoint('best_model.h5', monitor='sparse_categorical_accuracy', mode='max', verbose=0, save_best_only=True)\n"
      ],
      "metadata": {
        "id": "5ihU4exVlsjm"
      },
      "execution_count": null,
      "outputs": []
    },
    {
      "cell_type": "code",
      "source": [
        "history = model.fit(x_train, y_train,\n",
        "                    epochs=1000,\n",
        "                    batch_size=128,\n",
        "                    # callbacks=[callback],\n",
        "                    callbacks=[mc],\n",
        "                    verbose=1, #многословие\n",
        "                    # validation_split=0.2\n",
        "                    validation_data=(x_val, y_val)\n",
        "                    )\n",
        "test_loss, test_acc = model.evaluate(x_test, y_test)\n",
        "print('\\nTest accuracy:', test_acc)"
      ],
      "metadata": {
        "id": "FH8HcMNm233I",
        "outputId": "2418d662-d32f-4302-9bea-e45d7e5fa32d",
        "colab": {
          "base_uri": "https://localhost:8080/"
        }
      },
      "execution_count": 232,
      "outputs": [
        {
          "output_type": "stream",
          "name": "stdout",
          "text": [
            "Epoch 1/400\n",
            "418/418 [==============================] - 15s 27ms/step - loss: 0.8770 - sparse_categorical_accuracy: 0.6962 - val_loss: 0.4738 - val_sparse_categorical_accuracy: 0.8221\n",
            "Epoch 2/400\n",
            "418/418 [==============================] - 11s 26ms/step - loss: 0.6112 - sparse_categorical_accuracy: 0.7804 - val_loss: 0.4143 - val_sparse_categorical_accuracy: 0.8430\n",
            "Epoch 3/400\n",
            "418/418 [==============================] - 10s 25ms/step - loss: 0.5417 - sparse_categorical_accuracy: 0.8048 - val_loss: 0.3984 - val_sparse_categorical_accuracy: 0.8505\n",
            "Epoch 4/400\n",
            "418/418 [==============================] - 11s 26ms/step - loss: 0.4997 - sparse_categorical_accuracy: 0.8165 - val_loss: 0.3832 - val_sparse_categorical_accuracy: 0.8564\n",
            "Epoch 5/400\n",
            "418/418 [==============================] - 12s 29ms/step - loss: 0.4673 - sparse_categorical_accuracy: 0.8283 - val_loss: 0.3771 - val_sparse_categorical_accuracy: 0.8605\n",
            "Epoch 6/400\n",
            "418/418 [==============================] - 11s 27ms/step - loss: 0.4467 - sparse_categorical_accuracy: 0.8352 - val_loss: 0.3550 - val_sparse_categorical_accuracy: 0.8656\n",
            "Epoch 7/400\n",
            "418/418 [==============================] - 11s 26ms/step - loss: 0.4343 - sparse_categorical_accuracy: 0.8407 - val_loss: 0.3549 - val_sparse_categorical_accuracy: 0.8671\n",
            "Epoch 8/400\n",
            "418/418 [==============================] - 11s 26ms/step - loss: 0.4244 - sparse_categorical_accuracy: 0.8428 - val_loss: 0.3678 - val_sparse_categorical_accuracy: 0.8645\n",
            "Epoch 9/400\n",
            "418/418 [==============================] - 11s 27ms/step - loss: 0.4099 - sparse_categorical_accuracy: 0.8490 - val_loss: 0.3478 - val_sparse_categorical_accuracy: 0.8738\n",
            "Epoch 10/400\n",
            "418/418 [==============================] - 10s 25ms/step - loss: 0.3998 - sparse_categorical_accuracy: 0.8513 - val_loss: 0.3369 - val_sparse_categorical_accuracy: 0.8759\n",
            "Epoch 11/400\n",
            "418/418 [==============================] - 11s 27ms/step - loss: 0.3895 - sparse_categorical_accuracy: 0.8541 - val_loss: 0.3315 - val_sparse_categorical_accuracy: 0.8764\n",
            "Epoch 12/400\n",
            "418/418 [==============================] - 11s 26ms/step - loss: 0.3860 - sparse_categorical_accuracy: 0.8552 - val_loss: 0.3278 - val_sparse_categorical_accuracy: 0.8805\n",
            "Epoch 13/400\n",
            "418/418 [==============================] - 11s 26ms/step - loss: 0.3808 - sparse_categorical_accuracy: 0.8567 - val_loss: 0.3249 - val_sparse_categorical_accuracy: 0.8805\n",
            "Epoch 14/400\n",
            "418/418 [==============================] - 12s 28ms/step - loss: 0.3716 - sparse_categorical_accuracy: 0.8607 - val_loss: 0.3227 - val_sparse_categorical_accuracy: 0.8812\n",
            "Epoch 15/400\n",
            "418/418 [==============================] - 11s 27ms/step - loss: 0.3677 - sparse_categorical_accuracy: 0.8622 - val_loss: 0.3129 - val_sparse_categorical_accuracy: 0.8839\n",
            "Epoch 16/400\n",
            "418/418 [==============================] - 11s 27ms/step - loss: 0.3595 - sparse_categorical_accuracy: 0.8650 - val_loss: 0.3238 - val_sparse_categorical_accuracy: 0.8811\n",
            "Epoch 17/400\n",
            "418/418 [==============================] - 11s 27ms/step - loss: 0.3582 - sparse_categorical_accuracy: 0.8656 - val_loss: 0.3152 - val_sparse_categorical_accuracy: 0.8835\n",
            "Epoch 18/400\n",
            "418/418 [==============================] - 11s 26ms/step - loss: 0.3525 - sparse_categorical_accuracy: 0.8680 - val_loss: 0.3058 - val_sparse_categorical_accuracy: 0.8870\n",
            "Epoch 19/400\n",
            "418/418 [==============================] - 10s 24ms/step - loss: 0.3476 - sparse_categorical_accuracy: 0.8702 - val_loss: 0.3110 - val_sparse_categorical_accuracy: 0.8859\n",
            "Epoch 20/400\n",
            "418/418 [==============================] - 11s 27ms/step - loss: 0.3448 - sparse_categorical_accuracy: 0.8706 - val_loss: 0.3044 - val_sparse_categorical_accuracy: 0.8850\n",
            "Epoch 21/400\n",
            "418/418 [==============================] - 11s 27ms/step - loss: 0.3391 - sparse_categorical_accuracy: 0.8732 - val_loss: 0.3012 - val_sparse_categorical_accuracy: 0.8880\n",
            "Epoch 22/400\n",
            "418/418 [==============================] - 12s 28ms/step - loss: 0.3384 - sparse_categorical_accuracy: 0.8725 - val_loss: 0.3019 - val_sparse_categorical_accuracy: 0.8874\n",
            "Epoch 23/400\n",
            "418/418 [==============================] - 13s 30ms/step - loss: 0.3326 - sparse_categorical_accuracy: 0.8744 - val_loss: 0.3006 - val_sparse_categorical_accuracy: 0.8905\n",
            "Epoch 24/400\n",
            "418/418 [==============================] - 12s 29ms/step - loss: 0.3315 - sparse_categorical_accuracy: 0.8750 - val_loss: 0.2961 - val_sparse_categorical_accuracy: 0.8939\n",
            "Epoch 25/400\n",
            "418/418 [==============================] - 12s 28ms/step - loss: 0.3265 - sparse_categorical_accuracy: 0.8766 - val_loss: 0.2963 - val_sparse_categorical_accuracy: 0.8883\n",
            "Epoch 26/400\n",
            "418/418 [==============================] - 11s 27ms/step - loss: 0.3262 - sparse_categorical_accuracy: 0.8761 - val_loss: 0.2933 - val_sparse_categorical_accuracy: 0.8903\n",
            "Epoch 27/400\n",
            "418/418 [==============================] - 12s 29ms/step - loss: 0.3257 - sparse_categorical_accuracy: 0.8779 - val_loss: 0.2884 - val_sparse_categorical_accuracy: 0.8900\n",
            "Epoch 28/400\n",
            "418/418 [==============================] - 12s 29ms/step - loss: 0.3188 - sparse_categorical_accuracy: 0.8793 - val_loss: 0.2902 - val_sparse_categorical_accuracy: 0.8912\n",
            "Epoch 29/400\n",
            "418/418 [==============================] - 12s 28ms/step - loss: 0.3189 - sparse_categorical_accuracy: 0.8808 - val_loss: 0.2846 - val_sparse_categorical_accuracy: 0.8948\n",
            "Epoch 30/400\n",
            "418/418 [==============================] - 11s 26ms/step - loss: 0.3137 - sparse_categorical_accuracy: 0.8817 - val_loss: 0.2887 - val_sparse_categorical_accuracy: 0.8912\n",
            "Epoch 31/400\n",
            "418/418 [==============================] - 11s 26ms/step - loss: 0.3148 - sparse_categorical_accuracy: 0.8808 - val_loss: 0.2926 - val_sparse_categorical_accuracy: 0.8912\n",
            "Epoch 32/400\n",
            "418/418 [==============================] - 11s 27ms/step - loss: 0.3104 - sparse_categorical_accuracy: 0.8831 - val_loss: 0.2907 - val_sparse_categorical_accuracy: 0.8939\n",
            "Epoch 33/400\n",
            "418/418 [==============================] - 12s 28ms/step - loss: 0.3096 - sparse_categorical_accuracy: 0.8822 - val_loss: 0.2795 - val_sparse_categorical_accuracy: 0.8944\n",
            "Epoch 34/400\n",
            "418/418 [==============================] - 11s 27ms/step - loss: 0.3056 - sparse_categorical_accuracy: 0.8836 - val_loss: 0.2832 - val_sparse_categorical_accuracy: 0.8939\n",
            "Epoch 35/400\n",
            "418/418 [==============================] - 11s 27ms/step - loss: 0.3058 - sparse_categorical_accuracy: 0.8830 - val_loss: 0.2854 - val_sparse_categorical_accuracy: 0.8917\n",
            "Epoch 36/400\n",
            "418/418 [==============================] - 11s 27ms/step - loss: 0.3021 - sparse_categorical_accuracy: 0.8863 - val_loss: 0.2873 - val_sparse_categorical_accuracy: 0.8939\n",
            "Epoch 37/400\n",
            "418/418 [==============================] - 11s 27ms/step - loss: 0.3038 - sparse_categorical_accuracy: 0.8852 - val_loss: 0.2884 - val_sparse_categorical_accuracy: 0.8929\n",
            "Epoch 38/400\n",
            "418/418 [==============================] - 11s 27ms/step - loss: 0.2991 - sparse_categorical_accuracy: 0.8867 - val_loss: 0.2903 - val_sparse_categorical_accuracy: 0.8920\n",
            "Epoch 39/400\n",
            "418/418 [==============================] - 10s 25ms/step - loss: 0.3007 - sparse_categorical_accuracy: 0.8859 - val_loss: 0.2822 - val_sparse_categorical_accuracy: 0.8947\n",
            "Epoch 40/400\n",
            "418/418 [==============================] - 12s 28ms/step - loss: 0.2966 - sparse_categorical_accuracy: 0.8873 - val_loss: 0.2845 - val_sparse_categorical_accuracy: 0.8955\n",
            "Epoch 41/400\n",
            "418/418 [==============================] - 12s 28ms/step - loss: 0.2975 - sparse_categorical_accuracy: 0.8869 - val_loss: 0.2818 - val_sparse_categorical_accuracy: 0.8980\n",
            "Epoch 42/400\n",
            "418/418 [==============================] - 11s 27ms/step - loss: 0.2966 - sparse_categorical_accuracy: 0.8877 - val_loss: 0.2818 - val_sparse_categorical_accuracy: 0.8968\n",
            "Epoch 43/400\n",
            "418/418 [==============================] - 11s 27ms/step - loss: 0.2911 - sparse_categorical_accuracy: 0.8902 - val_loss: 0.2804 - val_sparse_categorical_accuracy: 0.8945\n",
            "Epoch 44/400\n",
            "418/418 [==============================] - 11s 27ms/step - loss: 0.2911 - sparse_categorical_accuracy: 0.8895 - val_loss: 0.2779 - val_sparse_categorical_accuracy: 0.8985\n",
            "Epoch 45/400\n",
            "418/418 [==============================] - 11s 27ms/step - loss: 0.2880 - sparse_categorical_accuracy: 0.8913 - val_loss: 0.2766 - val_sparse_categorical_accuracy: 0.8964\n",
            "Epoch 46/400\n",
            "418/418 [==============================] - 12s 28ms/step - loss: 0.2875 - sparse_categorical_accuracy: 0.8903 - val_loss: 0.2729 - val_sparse_categorical_accuracy: 0.8989\n",
            "Epoch 47/400\n",
            "418/418 [==============================] - 11s 27ms/step - loss: 0.2853 - sparse_categorical_accuracy: 0.8914 - val_loss: 0.2773 - val_sparse_categorical_accuracy: 0.9009\n",
            "Epoch 48/400\n",
            "418/418 [==============================] - 11s 26ms/step - loss: 0.2826 - sparse_categorical_accuracy: 0.8912 - val_loss: 0.2760 - val_sparse_categorical_accuracy: 0.8988\n",
            "Epoch 49/400\n",
            "418/418 [==============================] - 12s 28ms/step - loss: 0.2836 - sparse_categorical_accuracy: 0.8925 - val_loss: 0.2758 - val_sparse_categorical_accuracy: 0.8986\n",
            "Epoch 50/400\n",
            "418/418 [==============================] - 11s 27ms/step - loss: 0.2836 - sparse_categorical_accuracy: 0.8909 - val_loss: 0.2796 - val_sparse_categorical_accuracy: 0.8970\n",
            "Epoch 51/400\n",
            "418/418 [==============================] - 11s 27ms/step - loss: 0.2781 - sparse_categorical_accuracy: 0.8937 - val_loss: 0.2787 - val_sparse_categorical_accuracy: 0.8976\n",
            "Epoch 52/400\n",
            "418/418 [==============================] - 11s 27ms/step - loss: 0.2795 - sparse_categorical_accuracy: 0.8926 - val_loss: 0.2748 - val_sparse_categorical_accuracy: 0.8986\n",
            "Epoch 53/400\n",
            "418/418 [==============================] - 12s 28ms/step - loss: 0.2809 - sparse_categorical_accuracy: 0.8932 - val_loss: 0.2778 - val_sparse_categorical_accuracy: 0.9002\n",
            "Epoch 54/400\n",
            "418/418 [==============================] - 11s 27ms/step - loss: 0.2790 - sparse_categorical_accuracy: 0.8940 - val_loss: 0.2805 - val_sparse_categorical_accuracy: 0.8967\n",
            "Epoch 55/400\n",
            "418/418 [==============================] - 12s 28ms/step - loss: 0.2783 - sparse_categorical_accuracy: 0.8944 - val_loss: 0.2766 - val_sparse_categorical_accuracy: 0.8952\n",
            "Epoch 56/400\n",
            "418/418 [==============================] - 12s 28ms/step - loss: 0.2782 - sparse_categorical_accuracy: 0.8954 - val_loss: 0.2742 - val_sparse_categorical_accuracy: 0.8997\n",
            "Epoch 57/400\n",
            "418/418 [==============================] - 11s 27ms/step - loss: 0.2751 - sparse_categorical_accuracy: 0.8945 - val_loss: 0.2721 - val_sparse_categorical_accuracy: 0.8980\n",
            "Epoch 58/400\n",
            "418/418 [==============================] - 11s 27ms/step - loss: 0.2767 - sparse_categorical_accuracy: 0.8934 - val_loss: 0.2758 - val_sparse_categorical_accuracy: 0.8994\n",
            "Epoch 59/400\n",
            "418/418 [==============================] - 12s 28ms/step - loss: 0.2703 - sparse_categorical_accuracy: 0.8965 - val_loss: 0.2768 - val_sparse_categorical_accuracy: 0.8968\n",
            "Epoch 60/400\n",
            "418/418 [==============================] - 11s 27ms/step - loss: 0.2762 - sparse_categorical_accuracy: 0.8949 - val_loss: 0.2754 - val_sparse_categorical_accuracy: 0.8965\n",
            "Epoch 61/400\n",
            "418/418 [==============================] - 12s 29ms/step - loss: 0.2700 - sparse_categorical_accuracy: 0.8979 - val_loss: 0.2736 - val_sparse_categorical_accuracy: 0.9002\n",
            "Epoch 62/400\n",
            "418/418 [==============================] - 12s 28ms/step - loss: 0.2739 - sparse_categorical_accuracy: 0.8959 - val_loss: 0.2728 - val_sparse_categorical_accuracy: 0.8976\n",
            "Epoch 63/400\n",
            "418/418 [==============================] - 11s 27ms/step - loss: 0.2692 - sparse_categorical_accuracy: 0.8965 - val_loss: 0.2723 - val_sparse_categorical_accuracy: 0.8986\n",
            "Epoch 64/400\n",
            "418/418 [==============================] - 12s 28ms/step - loss: 0.2709 - sparse_categorical_accuracy: 0.8960 - val_loss: 0.2696 - val_sparse_categorical_accuracy: 0.9003\n",
            "Epoch 65/400\n",
            "418/418 [==============================] - 12s 28ms/step - loss: 0.2673 - sparse_categorical_accuracy: 0.8980 - val_loss: 0.2710 - val_sparse_categorical_accuracy: 0.8992\n",
            "Epoch 66/400\n",
            "418/418 [==============================] - 12s 28ms/step - loss: 0.2695 - sparse_categorical_accuracy: 0.8973 - val_loss: 0.2728 - val_sparse_categorical_accuracy: 0.8982\n",
            "Epoch 67/400\n",
            "418/418 [==============================] - 11s 27ms/step - loss: 0.2683 - sparse_categorical_accuracy: 0.8971 - val_loss: 0.2740 - val_sparse_categorical_accuracy: 0.8988\n",
            "Epoch 68/400\n",
            "418/418 [==============================] - 11s 26ms/step - loss: 0.2663 - sparse_categorical_accuracy: 0.8986 - val_loss: 0.2802 - val_sparse_categorical_accuracy: 0.8983\n",
            "Epoch 69/400\n",
            "418/418 [==============================] - 12s 28ms/step - loss: 0.2613 - sparse_categorical_accuracy: 0.9017 - val_loss: 0.2722 - val_sparse_categorical_accuracy: 0.9005\n",
            "Epoch 70/400\n",
            "418/418 [==============================] - 11s 27ms/step - loss: 0.2652 - sparse_categorical_accuracy: 0.8990 - val_loss: 0.2698 - val_sparse_categorical_accuracy: 0.8995\n",
            "Epoch 71/400\n",
            "418/418 [==============================] - 11s 27ms/step - loss: 0.2653 - sparse_categorical_accuracy: 0.8988 - val_loss: 0.2662 - val_sparse_categorical_accuracy: 0.9011\n",
            "Epoch 72/400\n",
            "418/418 [==============================] - 11s 27ms/step - loss: 0.2674 - sparse_categorical_accuracy: 0.8982 - val_loss: 0.2695 - val_sparse_categorical_accuracy: 0.9018\n",
            "Epoch 73/400\n",
            "418/418 [==============================] - 11s 27ms/step - loss: 0.2657 - sparse_categorical_accuracy: 0.8991 - val_loss: 0.2694 - val_sparse_categorical_accuracy: 0.9011\n",
            "Epoch 74/400\n",
            "418/418 [==============================] - 11s 27ms/step - loss: 0.2629 - sparse_categorical_accuracy: 0.8984 - val_loss: 0.2710 - val_sparse_categorical_accuracy: 0.9018\n",
            "Epoch 75/400\n",
            "418/418 [==============================] - 12s 28ms/step - loss: 0.2612 - sparse_categorical_accuracy: 0.8997 - val_loss: 0.2756 - val_sparse_categorical_accuracy: 0.9005\n",
            "Epoch 76/400\n",
            "418/418 [==============================] - 11s 27ms/step - loss: 0.2594 - sparse_categorical_accuracy: 0.9002 - val_loss: 0.2702 - val_sparse_categorical_accuracy: 0.9035\n",
            "Epoch 77/400\n",
            "418/418 [==============================] - 11s 26ms/step - loss: 0.2615 - sparse_categorical_accuracy: 0.8996 - val_loss: 0.2733 - val_sparse_categorical_accuracy: 0.9023\n",
            "Epoch 78/400\n",
            "418/418 [==============================] - 11s 27ms/step - loss: 0.2596 - sparse_categorical_accuracy: 0.9003 - val_loss: 0.2651 - val_sparse_categorical_accuracy: 0.9021\n",
            "Epoch 79/400\n",
            "418/418 [==============================] - 12s 28ms/step - loss: 0.2592 - sparse_categorical_accuracy: 0.9010 - val_loss: 0.2715 - val_sparse_categorical_accuracy: 0.9011\n",
            "Epoch 80/400\n",
            "418/418 [==============================] - 12s 28ms/step - loss: 0.2588 - sparse_categorical_accuracy: 0.9006 - val_loss: 0.2722 - val_sparse_categorical_accuracy: 0.9003\n",
            "Epoch 81/400\n",
            "418/418 [==============================] - 12s 28ms/step - loss: 0.2566 - sparse_categorical_accuracy: 0.9028 - val_loss: 0.2679 - val_sparse_categorical_accuracy: 0.9015\n",
            "Epoch 82/400\n",
            "418/418 [==============================] - 12s 29ms/step - loss: 0.2565 - sparse_categorical_accuracy: 0.9015 - val_loss: 0.2750 - val_sparse_categorical_accuracy: 0.9024\n",
            "Epoch 83/400\n",
            "418/418 [==============================] - 12s 29ms/step - loss: 0.2571 - sparse_categorical_accuracy: 0.9019 - val_loss: 0.2725 - val_sparse_categorical_accuracy: 0.9018\n",
            "Epoch 84/400\n",
            "418/418 [==============================] - 12s 29ms/step - loss: 0.2533 - sparse_categorical_accuracy: 0.9024 - val_loss: 0.2728 - val_sparse_categorical_accuracy: 0.9023\n",
            "Epoch 85/400\n",
            "418/418 [==============================] - 12s 28ms/step - loss: 0.2553 - sparse_categorical_accuracy: 0.9018 - val_loss: 0.2758 - val_sparse_categorical_accuracy: 0.8994\n",
            "Epoch 86/400\n",
            "418/418 [==============================] - 12s 28ms/step - loss: 0.2555 - sparse_categorical_accuracy: 0.9020 - val_loss: 0.2748 - val_sparse_categorical_accuracy: 0.9006\n",
            "Epoch 87/400\n",
            "418/418 [==============================] - 12s 28ms/step - loss: 0.2538 - sparse_categorical_accuracy: 0.9030 - val_loss: 0.2724 - val_sparse_categorical_accuracy: 0.9033\n",
            "Epoch 88/400\n",
            "418/418 [==============================] - 11s 27ms/step - loss: 0.2519 - sparse_categorical_accuracy: 0.9039 - val_loss: 0.2726 - val_sparse_categorical_accuracy: 0.8995\n",
            "Epoch 89/400\n",
            "418/418 [==============================] - 11s 27ms/step - loss: 0.2518 - sparse_categorical_accuracy: 0.9053 - val_loss: 0.2730 - val_sparse_categorical_accuracy: 0.9012\n",
            "Epoch 90/400\n",
            "418/418 [==============================] - 12s 29ms/step - loss: 0.2547 - sparse_categorical_accuracy: 0.9037 - val_loss: 0.2675 - val_sparse_categorical_accuracy: 0.9050\n",
            "Epoch 91/400\n",
            "418/418 [==============================] - 13s 30ms/step - loss: 0.2516 - sparse_categorical_accuracy: 0.9041 - val_loss: 0.2712 - val_sparse_categorical_accuracy: 0.9024\n",
            "Epoch 92/400\n",
            "418/418 [==============================] - 13s 30ms/step - loss: 0.2524 - sparse_categorical_accuracy: 0.9037 - val_loss: 0.2656 - val_sparse_categorical_accuracy: 0.9035\n",
            "Epoch 93/400\n",
            "418/418 [==============================] - 13s 31ms/step - loss: 0.2503 - sparse_categorical_accuracy: 0.9039 - val_loss: 0.2725 - val_sparse_categorical_accuracy: 0.9021\n",
            "Epoch 94/400\n",
            "418/418 [==============================] - 12s 29ms/step - loss: 0.2492 - sparse_categorical_accuracy: 0.9050 - val_loss: 0.2692 - val_sparse_categorical_accuracy: 0.9041\n",
            "Epoch 95/400\n",
            "418/418 [==============================] - 12s 28ms/step - loss: 0.2469 - sparse_categorical_accuracy: 0.9048 - val_loss: 0.2675 - val_sparse_categorical_accuracy: 0.9014\n",
            "Epoch 96/400\n",
            "418/418 [==============================] - 12s 28ms/step - loss: 0.2485 - sparse_categorical_accuracy: 0.9060 - val_loss: 0.2686 - val_sparse_categorical_accuracy: 0.9029\n",
            "Epoch 97/400\n",
            "418/418 [==============================] - 12s 28ms/step - loss: 0.2478 - sparse_categorical_accuracy: 0.9053 - val_loss: 0.2648 - val_sparse_categorical_accuracy: 0.9020\n",
            "Epoch 98/400\n",
            "418/418 [==============================] - 12s 30ms/step - loss: 0.2507 - sparse_categorical_accuracy: 0.9042 - val_loss: 0.2684 - val_sparse_categorical_accuracy: 0.9032\n",
            "Epoch 99/400\n",
            "418/418 [==============================] - 12s 28ms/step - loss: 0.2466 - sparse_categorical_accuracy: 0.9054 - val_loss: 0.2708 - val_sparse_categorical_accuracy: 0.9014\n",
            "Epoch 100/400\n",
            "418/418 [==============================] - 12s 28ms/step - loss: 0.2447 - sparse_categorical_accuracy: 0.9056 - val_loss: 0.2654 - val_sparse_categorical_accuracy: 0.9030\n",
            "Epoch 101/400\n",
            "418/418 [==============================] - 11s 27ms/step - loss: 0.2489 - sparse_categorical_accuracy: 0.9038 - val_loss: 0.2663 - val_sparse_categorical_accuracy: 0.9056\n",
            "Epoch 102/400\n",
            "418/418 [==============================] - 11s 26ms/step - loss: 0.2469 - sparse_categorical_accuracy: 0.9061 - val_loss: 0.2692 - val_sparse_categorical_accuracy: 0.9050\n",
            "Epoch 103/400\n",
            "418/418 [==============================] - 11s 27ms/step - loss: 0.2452 - sparse_categorical_accuracy: 0.9054 - val_loss: 0.2683 - val_sparse_categorical_accuracy: 0.9059\n",
            "Epoch 104/400\n",
            "418/418 [==============================] - 12s 28ms/step - loss: 0.2413 - sparse_categorical_accuracy: 0.9069 - val_loss: 0.2699 - val_sparse_categorical_accuracy: 0.9053\n",
            "Epoch 105/400\n",
            "418/418 [==============================] - 12s 28ms/step - loss: 0.2463 - sparse_categorical_accuracy: 0.9050 - val_loss: 0.2678 - val_sparse_categorical_accuracy: 0.9032\n",
            "Epoch 106/400\n",
            "418/418 [==============================] - 11s 27ms/step - loss: 0.2452 - sparse_categorical_accuracy: 0.9056 - val_loss: 0.2683 - val_sparse_categorical_accuracy: 0.9052\n",
            "Epoch 107/400\n",
            "418/418 [==============================] - 12s 28ms/step - loss: 0.2441 - sparse_categorical_accuracy: 0.9072 - val_loss: 0.2741 - val_sparse_categorical_accuracy: 0.9018\n",
            "Epoch 108/400\n",
            "418/418 [==============================] - 12s 28ms/step - loss: 0.2447 - sparse_categorical_accuracy: 0.9057 - val_loss: 0.2691 - val_sparse_categorical_accuracy: 0.9055\n",
            "Epoch 109/400\n",
            "418/418 [==============================] - 12s 28ms/step - loss: 0.2436 - sparse_categorical_accuracy: 0.9065 - val_loss: 0.2701 - val_sparse_categorical_accuracy: 0.9023\n",
            "Epoch 110/400\n",
            "418/418 [==============================] - 12s 29ms/step - loss: 0.2449 - sparse_categorical_accuracy: 0.9045 - val_loss: 0.2664 - val_sparse_categorical_accuracy: 0.9061\n",
            "Epoch 111/400\n",
            "418/418 [==============================] - 12s 28ms/step - loss: 0.2412 - sparse_categorical_accuracy: 0.9079 - val_loss: 0.2705 - val_sparse_categorical_accuracy: 0.9029\n",
            "Epoch 112/400\n",
            "418/418 [==============================] - 11s 27ms/step - loss: 0.2422 - sparse_categorical_accuracy: 0.9076 - val_loss: 0.2665 - val_sparse_categorical_accuracy: 0.9041\n",
            "Epoch 113/400\n",
            "418/418 [==============================] - 11s 27ms/step - loss: 0.2427 - sparse_categorical_accuracy: 0.9060 - val_loss: 0.2667 - val_sparse_categorical_accuracy: 0.9073\n",
            "Epoch 114/400\n",
            "418/418 [==============================] - 12s 28ms/step - loss: 0.2397 - sparse_categorical_accuracy: 0.9092 - val_loss: 0.2691 - val_sparse_categorical_accuracy: 0.9035\n",
            "Epoch 115/400\n",
            "418/418 [==============================] - 11s 27ms/step - loss: 0.2407 - sparse_categorical_accuracy: 0.9068 - val_loss: 0.2659 - val_sparse_categorical_accuracy: 0.9061\n",
            "Epoch 116/400\n",
            "418/418 [==============================] - 11s 27ms/step - loss: 0.2394 - sparse_categorical_accuracy: 0.9081 - val_loss: 0.2757 - val_sparse_categorical_accuracy: 0.9014\n",
            "Epoch 117/400\n",
            "418/418 [==============================] - 12s 28ms/step - loss: 0.2393 - sparse_categorical_accuracy: 0.9080 - val_loss: 0.2672 - val_sparse_categorical_accuracy: 0.9050\n",
            "Epoch 118/400\n",
            "418/418 [==============================] - 12s 29ms/step - loss: 0.2404 - sparse_categorical_accuracy: 0.9082 - val_loss: 0.2682 - val_sparse_categorical_accuracy: 0.9036\n",
            "Epoch 119/400\n",
            "418/418 [==============================] - 12s 29ms/step - loss: 0.2386 - sparse_categorical_accuracy: 0.9085 - val_loss: 0.2647 - val_sparse_categorical_accuracy: 0.9042\n",
            "Epoch 120/400\n",
            "418/418 [==============================] - 12s 29ms/step - loss: 0.2399 - sparse_categorical_accuracy: 0.9082 - val_loss: 0.2643 - val_sparse_categorical_accuracy: 0.9047\n",
            "Epoch 121/400\n",
            "418/418 [==============================] - 12s 28ms/step - loss: 0.2375 - sparse_categorical_accuracy: 0.9091 - val_loss: 0.2654 - val_sparse_categorical_accuracy: 0.9045\n",
            "Epoch 122/400\n",
            "418/418 [==============================] - 11s 27ms/step - loss: 0.2369 - sparse_categorical_accuracy: 0.9089 - val_loss: 0.2659 - val_sparse_categorical_accuracy: 0.9068\n",
            "Epoch 123/400\n",
            "418/418 [==============================] - 12s 29ms/step - loss: 0.2356 - sparse_categorical_accuracy: 0.9097 - val_loss: 0.2654 - val_sparse_categorical_accuracy: 0.9038\n",
            "Epoch 124/400\n",
            "418/418 [==============================] - 12s 28ms/step - loss: 0.2378 - sparse_categorical_accuracy: 0.9093 - val_loss: 0.2694 - val_sparse_categorical_accuracy: 0.9052\n",
            "Epoch 125/400\n",
            "418/418 [==============================] - 12s 28ms/step - loss: 0.2342 - sparse_categorical_accuracy: 0.9107 - val_loss: 0.2706 - val_sparse_categorical_accuracy: 0.9036\n",
            "Epoch 126/400\n",
            "418/418 [==============================] - 12s 28ms/step - loss: 0.2333 - sparse_categorical_accuracy: 0.9100 - val_loss: 0.2749 - val_sparse_categorical_accuracy: 0.9032\n",
            "Epoch 127/400\n",
            "418/418 [==============================] - 12s 28ms/step - loss: 0.2365 - sparse_categorical_accuracy: 0.9101 - val_loss: 0.2730 - val_sparse_categorical_accuracy: 0.9027\n",
            "Epoch 128/400\n",
            "418/418 [==============================] - 12s 29ms/step - loss: 0.2359 - sparse_categorical_accuracy: 0.9080 - val_loss: 0.2657 - val_sparse_categorical_accuracy: 0.9071\n",
            "Epoch 129/400\n",
            "418/418 [==============================] - 11s 27ms/step - loss: 0.2323 - sparse_categorical_accuracy: 0.9106 - val_loss: 0.2682 - val_sparse_categorical_accuracy: 0.9048\n",
            "Epoch 130/400\n",
            "418/418 [==============================] - 11s 27ms/step - loss: 0.2364 - sparse_categorical_accuracy: 0.9091 - val_loss: 0.2644 - val_sparse_categorical_accuracy: 0.9064\n",
            "Epoch 131/400\n",
            "418/418 [==============================] - 12s 28ms/step - loss: 0.2316 - sparse_categorical_accuracy: 0.9108 - val_loss: 0.2690 - val_sparse_categorical_accuracy: 0.9045\n",
            "Epoch 132/400\n",
            "418/418 [==============================] - 11s 26ms/step - loss: 0.2358 - sparse_categorical_accuracy: 0.9094 - val_loss: 0.2708 - val_sparse_categorical_accuracy: 0.9059\n",
            "Epoch 133/400\n",
            "418/418 [==============================] - 11s 27ms/step - loss: 0.2309 - sparse_categorical_accuracy: 0.9109 - val_loss: 0.2709 - val_sparse_categorical_accuracy: 0.9003\n",
            "Epoch 134/400\n",
            "418/418 [==============================] - 12s 28ms/step - loss: 0.2331 - sparse_categorical_accuracy: 0.9109 - val_loss: 0.2682 - val_sparse_categorical_accuracy: 0.9045\n",
            "Epoch 135/400\n",
            "418/418 [==============================] - 12s 28ms/step - loss: 0.2347 - sparse_categorical_accuracy: 0.9099 - val_loss: 0.2654 - val_sparse_categorical_accuracy: 0.9061\n",
            "Epoch 136/400\n",
            "418/418 [==============================] - 11s 27ms/step - loss: 0.2325 - sparse_categorical_accuracy: 0.9105 - val_loss: 0.2684 - val_sparse_categorical_accuracy: 0.9035\n",
            "Epoch 137/400\n",
            "418/418 [==============================] - 11s 27ms/step - loss: 0.2307 - sparse_categorical_accuracy: 0.9103 - val_loss: 0.2695 - val_sparse_categorical_accuracy: 0.9048\n",
            "Epoch 138/400\n",
            "418/418 [==============================] - 11s 27ms/step - loss: 0.2346 - sparse_categorical_accuracy: 0.9101 - val_loss: 0.2675 - val_sparse_categorical_accuracy: 0.9036\n",
            "Epoch 139/400\n",
            "418/418 [==============================] - 11s 27ms/step - loss: 0.2331 - sparse_categorical_accuracy: 0.9091 - val_loss: 0.2619 - val_sparse_categorical_accuracy: 0.9073\n",
            "Epoch 140/400\n",
            "418/418 [==============================] - 11s 27ms/step - loss: 0.2321 - sparse_categorical_accuracy: 0.9097 - val_loss: 0.2669 - val_sparse_categorical_accuracy: 0.9053\n",
            "Epoch 141/400\n",
            "418/418 [==============================] - 11s 26ms/step - loss: 0.2290 - sparse_categorical_accuracy: 0.9123 - val_loss: 0.2684 - val_sparse_categorical_accuracy: 0.9058\n",
            "Epoch 142/400\n",
            "418/418 [==============================] - 11s 26ms/step - loss: 0.2324 - sparse_categorical_accuracy: 0.9100 - val_loss: 0.2670 - val_sparse_categorical_accuracy: 0.9050\n",
            "Epoch 143/400\n",
            "418/418 [==============================] - 12s 28ms/step - loss: 0.2307 - sparse_categorical_accuracy: 0.9114 - val_loss: 0.2694 - val_sparse_categorical_accuracy: 0.9038\n",
            "Epoch 144/400\n",
            "418/418 [==============================] - 12s 29ms/step - loss: 0.2319 - sparse_categorical_accuracy: 0.9104 - val_loss: 0.2747 - val_sparse_categorical_accuracy: 0.9015\n",
            "Epoch 145/400\n",
            "418/418 [==============================] - 12s 28ms/step - loss: 0.2334 - sparse_categorical_accuracy: 0.9109 - val_loss: 0.2718 - val_sparse_categorical_accuracy: 0.9041\n",
            "Epoch 146/400\n",
            "418/418 [==============================] - 12s 29ms/step - loss: 0.2307 - sparse_categorical_accuracy: 0.9109 - val_loss: 0.2672 - val_sparse_categorical_accuracy: 0.9053\n",
            "Epoch 147/400\n",
            "418/418 [==============================] - 12s 28ms/step - loss: 0.2298 - sparse_categorical_accuracy: 0.9126 - val_loss: 0.2633 - val_sparse_categorical_accuracy: 0.9044\n",
            "Epoch 148/400\n",
            "418/418 [==============================] - 12s 28ms/step - loss: 0.2301 - sparse_categorical_accuracy: 0.9113 - val_loss: 0.2655 - val_sparse_categorical_accuracy: 0.9056\n",
            "Epoch 149/400\n",
            "418/418 [==============================] - 12s 28ms/step - loss: 0.2292 - sparse_categorical_accuracy: 0.9115 - val_loss: 0.2696 - val_sparse_categorical_accuracy: 0.9052\n",
            "Epoch 150/400\n",
            "418/418 [==============================] - 12s 28ms/step - loss: 0.2303 - sparse_categorical_accuracy: 0.9107 - val_loss: 0.2722 - val_sparse_categorical_accuracy: 0.9052\n",
            "Epoch 151/400\n",
            "418/418 [==============================] - 11s 26ms/step - loss: 0.2313 - sparse_categorical_accuracy: 0.9112 - val_loss: 0.2635 - val_sparse_categorical_accuracy: 0.9055\n",
            "Epoch 152/400\n",
            "418/418 [==============================] - 11s 27ms/step - loss: 0.2278 - sparse_categorical_accuracy: 0.9123 - val_loss: 0.2630 - val_sparse_categorical_accuracy: 0.9082\n",
            "Epoch 153/400\n",
            "418/418 [==============================] - 11s 27ms/step - loss: 0.2282 - sparse_categorical_accuracy: 0.9124 - val_loss: 0.2686 - val_sparse_categorical_accuracy: 0.9064\n",
            "Epoch 154/400\n",
            "418/418 [==============================] - 11s 27ms/step - loss: 0.2289 - sparse_categorical_accuracy: 0.9119 - val_loss: 0.2669 - val_sparse_categorical_accuracy: 0.9076\n",
            "Epoch 155/400\n",
            "418/418 [==============================] - 12s 28ms/step - loss: 0.2305 - sparse_categorical_accuracy: 0.9114 - val_loss: 0.2634 - val_sparse_categorical_accuracy: 0.9071\n",
            "Epoch 156/400\n",
            "418/418 [==============================] - 12s 28ms/step - loss: 0.2321 - sparse_categorical_accuracy: 0.9101 - val_loss: 0.2700 - val_sparse_categorical_accuracy: 0.9039\n",
            "Epoch 157/400\n",
            "418/418 [==============================] - 12s 28ms/step - loss: 0.2249 - sparse_categorical_accuracy: 0.9128 - val_loss: 0.2689 - val_sparse_categorical_accuracy: 0.9064\n",
            "Epoch 158/400\n",
            "418/418 [==============================] - 12s 28ms/step - loss: 0.2263 - sparse_categorical_accuracy: 0.9130 - val_loss: 0.2675 - val_sparse_categorical_accuracy: 0.9033\n",
            "Epoch 159/400\n",
            "418/418 [==============================] - 12s 28ms/step - loss: 0.2255 - sparse_categorical_accuracy: 0.9140 - val_loss: 0.2684 - val_sparse_categorical_accuracy: 0.9026\n",
            "Epoch 160/400\n",
            "418/418 [==============================] - 11s 26ms/step - loss: 0.2262 - sparse_categorical_accuracy: 0.9138 - val_loss: 0.2692 - val_sparse_categorical_accuracy: 0.9083\n",
            "Epoch 161/400\n",
            "418/418 [==============================] - 11s 26ms/step - loss: 0.2276 - sparse_categorical_accuracy: 0.9127 - val_loss: 0.2685 - val_sparse_categorical_accuracy: 0.9077\n",
            "Epoch 162/400\n",
            "418/418 [==============================] - 12s 28ms/step - loss: 0.2278 - sparse_categorical_accuracy: 0.9128 - val_loss: 0.2670 - val_sparse_categorical_accuracy: 0.9074\n",
            "Epoch 163/400\n",
            "418/418 [==============================] - 11s 27ms/step - loss: 0.2253 - sparse_categorical_accuracy: 0.9131 - val_loss: 0.2726 - val_sparse_categorical_accuracy: 0.9056\n",
            "Epoch 164/400\n",
            "418/418 [==============================] - 12s 28ms/step - loss: 0.2221 - sparse_categorical_accuracy: 0.9134 - val_loss: 0.2730 - val_sparse_categorical_accuracy: 0.9067\n",
            "Epoch 165/400\n",
            "418/418 [==============================] - 11s 28ms/step - loss: 0.2273 - sparse_categorical_accuracy: 0.9123 - val_loss: 0.2717 - val_sparse_categorical_accuracy: 0.9082\n",
            "Epoch 166/400\n",
            "418/418 [==============================] - 12s 28ms/step - loss: 0.2228 - sparse_categorical_accuracy: 0.9148 - val_loss: 0.2671 - val_sparse_categorical_accuracy: 0.9068\n",
            "Epoch 167/400\n",
            "418/418 [==============================] - 11s 27ms/step - loss: 0.2256 - sparse_categorical_accuracy: 0.9125 - val_loss: 0.2679 - val_sparse_categorical_accuracy: 0.9039\n",
            "Epoch 168/400\n",
            "418/418 [==============================] - 11s 27ms/step - loss: 0.2272 - sparse_categorical_accuracy: 0.9139 - val_loss: 0.2657 - val_sparse_categorical_accuracy: 0.9045\n",
            "Epoch 169/400\n",
            "418/418 [==============================] - 11s 26ms/step - loss: 0.2241 - sparse_categorical_accuracy: 0.9143 - val_loss: 0.2726 - val_sparse_categorical_accuracy: 0.9068\n",
            "Epoch 170/400\n",
            "418/418 [==============================] - 12s 28ms/step - loss: 0.2212 - sparse_categorical_accuracy: 0.9142 - val_loss: 0.2749 - val_sparse_categorical_accuracy: 0.9067\n",
            "Epoch 171/400\n",
            "418/418 [==============================] - 12s 28ms/step - loss: 0.2226 - sparse_categorical_accuracy: 0.9141 - val_loss: 0.2709 - val_sparse_categorical_accuracy: 0.9053\n",
            "Epoch 172/400\n",
            "418/418 [==============================] - 12s 29ms/step - loss: 0.2241 - sparse_categorical_accuracy: 0.9143 - val_loss: 0.2695 - val_sparse_categorical_accuracy: 0.9071\n",
            "Epoch 173/400\n",
            "418/418 [==============================] - 12s 28ms/step - loss: 0.2246 - sparse_categorical_accuracy: 0.9142 - val_loss: 0.2682 - val_sparse_categorical_accuracy: 0.9092\n",
            "Epoch 174/400\n",
            "418/418 [==============================] - 12s 29ms/step - loss: 0.2236 - sparse_categorical_accuracy: 0.9151 - val_loss: 0.2737 - val_sparse_categorical_accuracy: 0.9053\n",
            "Epoch 175/400\n",
            "418/418 [==============================] - 12s 29ms/step - loss: 0.2244 - sparse_categorical_accuracy: 0.9137 - val_loss: 0.2720 - val_sparse_categorical_accuracy: 0.9048\n",
            "Epoch 176/400\n",
            "418/418 [==============================] - 12s 28ms/step - loss: 0.2202 - sparse_categorical_accuracy: 0.9151 - val_loss: 0.2675 - val_sparse_categorical_accuracy: 0.9076\n",
            "Epoch 177/400\n",
            "418/418 [==============================] - 12s 29ms/step - loss: 0.2218 - sparse_categorical_accuracy: 0.9144 - val_loss: 0.2709 - val_sparse_categorical_accuracy: 0.9020\n",
            "Epoch 178/400\n",
            "418/418 [==============================] - 12s 29ms/step - loss: 0.2230 - sparse_categorical_accuracy: 0.9146 - val_loss: 0.2704 - val_sparse_categorical_accuracy: 0.9082\n",
            "Epoch 179/400\n",
            "418/418 [==============================] - 12s 28ms/step - loss: 0.2211 - sparse_categorical_accuracy: 0.9143 - val_loss: 0.2735 - val_sparse_categorical_accuracy: 0.9074\n",
            "Epoch 180/400\n",
            "418/418 [==============================] - 12s 28ms/step - loss: 0.2223 - sparse_categorical_accuracy: 0.9131 - val_loss: 0.2735 - val_sparse_categorical_accuracy: 0.9050\n",
            "Epoch 181/400\n",
            "418/418 [==============================] - 12s 28ms/step - loss: 0.2249 - sparse_categorical_accuracy: 0.9136 - val_loss: 0.2664 - val_sparse_categorical_accuracy: 0.9045\n",
            "Epoch 182/400\n",
            "418/418 [==============================] - 12s 28ms/step - loss: 0.2226 - sparse_categorical_accuracy: 0.9153 - val_loss: 0.2698 - val_sparse_categorical_accuracy: 0.9047\n",
            "Epoch 183/400\n",
            "418/418 [==============================] - 12s 29ms/step - loss: 0.2208 - sparse_categorical_accuracy: 0.9153 - val_loss: 0.2739 - val_sparse_categorical_accuracy: 0.9035\n",
            "Epoch 184/400\n",
            "418/418 [==============================] - 12s 29ms/step - loss: 0.2217 - sparse_categorical_accuracy: 0.9150 - val_loss: 0.2676 - val_sparse_categorical_accuracy: 0.9061\n",
            "Epoch 185/400\n",
            "418/418 [==============================] - 12s 28ms/step - loss: 0.2197 - sparse_categorical_accuracy: 0.9157 - val_loss: 0.2751 - val_sparse_categorical_accuracy: 0.9102\n",
            "Epoch 186/400\n",
            "418/418 [==============================] - 12s 28ms/step - loss: 0.2216 - sparse_categorical_accuracy: 0.9144 - val_loss: 0.2649 - val_sparse_categorical_accuracy: 0.9079\n",
            "Epoch 187/400\n",
            "418/418 [==============================] - 12s 28ms/step - loss: 0.2209 - sparse_categorical_accuracy: 0.9139 - val_loss: 0.2699 - val_sparse_categorical_accuracy: 0.9052\n",
            "Epoch 188/400\n",
            "418/418 [==============================] - 12s 28ms/step - loss: 0.2218 - sparse_categorical_accuracy: 0.9131 - val_loss: 0.2678 - val_sparse_categorical_accuracy: 0.9064\n",
            "Epoch 189/400\n",
            "418/418 [==============================] - 12s 28ms/step - loss: 0.2219 - sparse_categorical_accuracy: 0.9138 - val_loss: 0.2731 - val_sparse_categorical_accuracy: 0.9095\n",
            "Epoch 190/400\n",
            "418/418 [==============================] - 11s 26ms/step - loss: 0.2205 - sparse_categorical_accuracy: 0.9155 - val_loss: 0.2684 - val_sparse_categorical_accuracy: 0.9064\n",
            "Epoch 191/400\n",
            "418/418 [==============================] - 12s 28ms/step - loss: 0.2212 - sparse_categorical_accuracy: 0.9143 - val_loss: 0.2711 - val_sparse_categorical_accuracy: 0.9047\n",
            "Epoch 192/400\n",
            "418/418 [==============================] - 12s 28ms/step - loss: 0.2218 - sparse_categorical_accuracy: 0.9149 - val_loss: 0.2684 - val_sparse_categorical_accuracy: 0.9038\n",
            "Epoch 193/400\n",
            "418/418 [==============================] - 12s 28ms/step - loss: 0.2206 - sparse_categorical_accuracy: 0.9152 - val_loss: 0.2727 - val_sparse_categorical_accuracy: 0.9070\n",
            "Epoch 194/400\n",
            "418/418 [==============================] - 12s 28ms/step - loss: 0.2194 - sparse_categorical_accuracy: 0.9169 - val_loss: 0.2717 - val_sparse_categorical_accuracy: 0.9095\n",
            "Epoch 195/400\n",
            "418/418 [==============================] - 12s 28ms/step - loss: 0.2175 - sparse_categorical_accuracy: 0.9160 - val_loss: 0.2705 - val_sparse_categorical_accuracy: 0.9095\n",
            "Epoch 196/400\n",
            "418/418 [==============================] - 12s 28ms/step - loss: 0.2170 - sparse_categorical_accuracy: 0.9160 - val_loss: 0.2713 - val_sparse_categorical_accuracy: 0.9076\n",
            "Epoch 197/400\n",
            "418/418 [==============================] - 12s 28ms/step - loss: 0.2197 - sparse_categorical_accuracy: 0.9168 - val_loss: 0.2728 - val_sparse_categorical_accuracy: 0.9052\n",
            "Epoch 198/400\n",
            "418/418 [==============================] - 12s 28ms/step - loss: 0.2172 - sparse_categorical_accuracy: 0.9150 - val_loss: 0.2737 - val_sparse_categorical_accuracy: 0.9056\n",
            "Epoch 199/400\n",
            "418/418 [==============================] - 11s 27ms/step - loss: 0.2211 - sparse_categorical_accuracy: 0.9145 - val_loss: 0.2686 - val_sparse_categorical_accuracy: 0.9074\n",
            "Epoch 200/400\n",
            "418/418 [==============================] - 11s 26ms/step - loss: 0.2194 - sparse_categorical_accuracy: 0.9157 - val_loss: 0.2729 - val_sparse_categorical_accuracy: 0.9094\n",
            "Epoch 201/400\n",
            "418/418 [==============================] - 11s 27ms/step - loss: 0.2216 - sparse_categorical_accuracy: 0.9149 - val_loss: 0.2742 - val_sparse_categorical_accuracy: 0.9071\n",
            "Epoch 202/400\n",
            "418/418 [==============================] - 11s 27ms/step - loss: 0.2183 - sparse_categorical_accuracy: 0.9170 - val_loss: 0.2712 - val_sparse_categorical_accuracy: 0.9067\n",
            "Epoch 203/400\n",
            "418/418 [==============================] - 12s 28ms/step - loss: 0.2177 - sparse_categorical_accuracy: 0.9161 - val_loss: 0.2699 - val_sparse_categorical_accuracy: 0.9082\n",
            "Epoch 204/400\n",
            "418/418 [==============================] - 12s 28ms/step - loss: 0.2177 - sparse_categorical_accuracy: 0.9164 - val_loss: 0.2737 - val_sparse_categorical_accuracy: 0.9052\n",
            "Epoch 205/400\n",
            "418/418 [==============================] - 12s 28ms/step - loss: 0.2157 - sparse_categorical_accuracy: 0.9159 - val_loss: 0.2674 - val_sparse_categorical_accuracy: 0.9118\n",
            "Epoch 206/400\n",
            "418/418 [==============================] - 12s 28ms/step - loss: 0.2123 - sparse_categorical_accuracy: 0.9179 - val_loss: 0.2740 - val_sparse_categorical_accuracy: 0.9056\n",
            "Epoch 207/400\n",
            "418/418 [==============================] - 12s 28ms/step - loss: 0.2188 - sparse_categorical_accuracy: 0.9159 - val_loss: 0.2721 - val_sparse_categorical_accuracy: 0.9070\n",
            "Epoch 208/400\n",
            "418/418 [==============================] - 11s 27ms/step - loss: 0.2183 - sparse_categorical_accuracy: 0.9160 - val_loss: 0.2716 - val_sparse_categorical_accuracy: 0.9079\n",
            "Epoch 209/400\n",
            "418/418 [==============================] - 11s 27ms/step - loss: 0.2162 - sparse_categorical_accuracy: 0.9166 - val_loss: 0.2726 - val_sparse_categorical_accuracy: 0.9086\n",
            "Epoch 210/400\n",
            "418/418 [==============================] - 11s 27ms/step - loss: 0.2132 - sparse_categorical_accuracy: 0.9175 - val_loss: 0.2728 - val_sparse_categorical_accuracy: 0.9092\n",
            "Epoch 211/400\n",
            "418/418 [==============================] - 12s 28ms/step - loss: 0.2181 - sparse_categorical_accuracy: 0.9150 - val_loss: 0.2697 - val_sparse_categorical_accuracy: 0.9068\n",
            "Epoch 212/400\n",
            "418/418 [==============================] - 12s 28ms/step - loss: 0.2157 - sparse_categorical_accuracy: 0.9160 - val_loss: 0.2708 - val_sparse_categorical_accuracy: 0.9083\n",
            "Epoch 213/400\n",
            "418/418 [==============================] - 12s 28ms/step - loss: 0.2161 - sparse_categorical_accuracy: 0.9163 - val_loss: 0.2719 - val_sparse_categorical_accuracy: 0.9077\n",
            "Epoch 214/400\n",
            "418/418 [==============================] - 12s 29ms/step - loss: 0.2125 - sparse_categorical_accuracy: 0.9186 - val_loss: 0.2759 - val_sparse_categorical_accuracy: 0.9039\n",
            "Epoch 215/400\n",
            "418/418 [==============================] - 12s 28ms/step - loss: 0.2134 - sparse_categorical_accuracy: 0.9176 - val_loss: 0.2741 - val_sparse_categorical_accuracy: 0.9062\n",
            "Epoch 216/400\n",
            "418/418 [==============================] - 12s 28ms/step - loss: 0.2150 - sparse_categorical_accuracy: 0.9181 - val_loss: 0.2760 - val_sparse_categorical_accuracy: 0.9074\n",
            "Epoch 217/400\n",
            "418/418 [==============================] - 12s 28ms/step - loss: 0.2170 - sparse_categorical_accuracy: 0.9159 - val_loss: 0.2715 - val_sparse_categorical_accuracy: 0.9058\n",
            "Epoch 218/400\n",
            "418/418 [==============================] - 12s 28ms/step - loss: 0.2149 - sparse_categorical_accuracy: 0.9176 - val_loss: 0.2724 - val_sparse_categorical_accuracy: 0.9074\n",
            "Epoch 219/400\n",
            "418/418 [==============================] - 12s 28ms/step - loss: 0.2164 - sparse_categorical_accuracy: 0.9163 - val_loss: 0.2704 - val_sparse_categorical_accuracy: 0.9056\n",
            "Epoch 220/400\n",
            "418/418 [==============================] - 12s 28ms/step - loss: 0.2140 - sparse_categorical_accuracy: 0.9187 - val_loss: 0.2695 - val_sparse_categorical_accuracy: 0.9065\n",
            "Epoch 221/400\n",
            "418/418 [==============================] - 12s 28ms/step - loss: 0.2163 - sparse_categorical_accuracy: 0.9180 - val_loss: 0.2737 - val_sparse_categorical_accuracy: 0.9061\n",
            "Epoch 222/400\n",
            "418/418 [==============================] - 12s 28ms/step - loss: 0.2114 - sparse_categorical_accuracy: 0.9192 - val_loss: 0.2698 - val_sparse_categorical_accuracy: 0.9085\n",
            "Epoch 223/400\n",
            "418/418 [==============================] - 12s 29ms/step - loss: 0.2133 - sparse_categorical_accuracy: 0.9181 - val_loss: 0.2698 - val_sparse_categorical_accuracy: 0.9074\n",
            "Epoch 224/400\n",
            "418/418 [==============================] - 12s 29ms/step - loss: 0.2161 - sparse_categorical_accuracy: 0.9157 - val_loss: 0.2701 - val_sparse_categorical_accuracy: 0.9103\n",
            "Epoch 225/400\n",
            "418/418 [==============================] - 12s 28ms/step - loss: 0.2123 - sparse_categorical_accuracy: 0.9184 - val_loss: 0.2708 - val_sparse_categorical_accuracy: 0.9068\n",
            "Epoch 226/400\n",
            "418/418 [==============================] - 12s 28ms/step - loss: 0.2162 - sparse_categorical_accuracy: 0.9167 - val_loss: 0.2731 - val_sparse_categorical_accuracy: 0.9080\n",
            "Epoch 227/400\n",
            "418/418 [==============================] - 12s 28ms/step - loss: 0.2146 - sparse_categorical_accuracy: 0.9160 - val_loss: 0.2658 - val_sparse_categorical_accuracy: 0.9073\n",
            "Epoch 228/400\n",
            "418/418 [==============================] - 12s 28ms/step - loss: 0.2120 - sparse_categorical_accuracy: 0.9196 - val_loss: 0.2685 - val_sparse_categorical_accuracy: 0.9071\n",
            "Epoch 229/400\n",
            "418/418 [==============================] - 11s 27ms/step - loss: 0.2121 - sparse_categorical_accuracy: 0.9175 - val_loss: 0.2707 - val_sparse_categorical_accuracy: 0.9059\n",
            "Epoch 230/400\n",
            "418/418 [==============================] - 11s 27ms/step - loss: 0.2119 - sparse_categorical_accuracy: 0.9183 - val_loss: 0.2708 - val_sparse_categorical_accuracy: 0.9053\n",
            "Epoch 231/400\n",
            "418/418 [==============================] - 12s 28ms/step - loss: 0.2106 - sparse_categorical_accuracy: 0.9185 - val_loss: 0.2691 - val_sparse_categorical_accuracy: 0.9064\n",
            "Epoch 232/400\n",
            "418/418 [==============================] - 12s 28ms/step - loss: 0.2104 - sparse_categorical_accuracy: 0.9184 - val_loss: 0.2707 - val_sparse_categorical_accuracy: 0.9091\n",
            "Epoch 233/400\n",
            "418/418 [==============================] - 12s 28ms/step - loss: 0.2116 - sparse_categorical_accuracy: 0.9184 - val_loss: 0.2713 - val_sparse_categorical_accuracy: 0.9071\n",
            "Epoch 234/400\n",
            "418/418 [==============================] - 12s 29ms/step - loss: 0.2156 - sparse_categorical_accuracy: 0.9164 - val_loss: 0.2718 - val_sparse_categorical_accuracy: 0.9061\n",
            "Epoch 235/400\n",
            "418/418 [==============================] - 12s 28ms/step - loss: 0.2125 - sparse_categorical_accuracy: 0.9181 - val_loss: 0.2668 - val_sparse_categorical_accuracy: 0.9058\n",
            "Epoch 236/400\n",
            "418/418 [==============================] - 12s 28ms/step - loss: 0.2146 - sparse_categorical_accuracy: 0.9180 - val_loss: 0.2724 - val_sparse_categorical_accuracy: 0.9082\n",
            "Epoch 237/400\n",
            "418/418 [==============================] - 12s 28ms/step - loss: 0.2126 - sparse_categorical_accuracy: 0.9177 - val_loss: 0.2730 - val_sparse_categorical_accuracy: 0.9052\n",
            "Epoch 238/400\n",
            "418/418 [==============================] - 11s 27ms/step - loss: 0.2125 - sparse_categorical_accuracy: 0.9187 - val_loss: 0.2689 - val_sparse_categorical_accuracy: 0.9064\n",
            "Epoch 239/400\n",
            "418/418 [==============================] - 11s 27ms/step - loss: 0.2102 - sparse_categorical_accuracy: 0.9182 - val_loss: 0.2756 - val_sparse_categorical_accuracy: 0.9065\n",
            "Epoch 240/400\n",
            "418/418 [==============================] - 12s 28ms/step - loss: 0.2111 - sparse_categorical_accuracy: 0.9184 - val_loss: 0.2720 - val_sparse_categorical_accuracy: 0.9079\n",
            "Epoch 241/400\n",
            "418/418 [==============================] - 12s 28ms/step - loss: 0.2094 - sparse_categorical_accuracy: 0.9192 - val_loss: 0.2703 - val_sparse_categorical_accuracy: 0.9092\n",
            "Epoch 242/400\n",
            "418/418 [==============================] - 12s 29ms/step - loss: 0.2085 - sparse_categorical_accuracy: 0.9196 - val_loss: 0.2705 - val_sparse_categorical_accuracy: 0.9068\n",
            "Epoch 243/400\n",
            "418/418 [==============================] - 12s 28ms/step - loss: 0.2079 - sparse_categorical_accuracy: 0.9195 - val_loss: 0.2756 - val_sparse_categorical_accuracy: 0.9058\n",
            "Epoch 244/400\n",
            "418/418 [==============================] - 12s 29ms/step - loss: 0.2076 - sparse_categorical_accuracy: 0.9199 - val_loss: 0.2704 - val_sparse_categorical_accuracy: 0.9074\n",
            "Epoch 245/400\n",
            "418/418 [==============================] - 12s 29ms/step - loss: 0.2114 - sparse_categorical_accuracy: 0.9176 - val_loss: 0.2710 - val_sparse_categorical_accuracy: 0.9083\n",
            "Epoch 246/400\n",
            "418/418 [==============================] - 13s 31ms/step - loss: 0.2103 - sparse_categorical_accuracy: 0.9196 - val_loss: 0.2701 - val_sparse_categorical_accuracy: 0.9073\n",
            "Epoch 247/400\n",
            "418/418 [==============================] - 13s 30ms/step - loss: 0.2082 - sparse_categorical_accuracy: 0.9192 - val_loss: 0.2668 - val_sparse_categorical_accuracy: 0.9086\n",
            "Epoch 248/400\n",
            "418/418 [==============================] - 13s 30ms/step - loss: 0.2070 - sparse_categorical_accuracy: 0.9198 - val_loss: 0.2716 - val_sparse_categorical_accuracy: 0.9062\n",
            "Epoch 249/400\n",
            "418/418 [==============================] - 12s 29ms/step - loss: 0.2135 - sparse_categorical_accuracy: 0.9171 - val_loss: 0.2653 - val_sparse_categorical_accuracy: 0.9094\n",
            "Epoch 250/400\n",
            "418/418 [==============================] - 12s 29ms/step - loss: 0.2081 - sparse_categorical_accuracy: 0.9200 - val_loss: 0.2682 - val_sparse_categorical_accuracy: 0.9071\n",
            "Epoch 251/400\n",
            "418/418 [==============================] - 11s 27ms/step - loss: 0.2088 - sparse_categorical_accuracy: 0.9194 - val_loss: 0.2729 - val_sparse_categorical_accuracy: 0.9065\n",
            "Epoch 252/400\n",
            "418/418 [==============================] - 12s 29ms/step - loss: 0.2132 - sparse_categorical_accuracy: 0.9181 - val_loss: 0.2697 - val_sparse_categorical_accuracy: 0.9064\n",
            "Epoch 253/400\n",
            "418/418 [==============================] - 12s 30ms/step - loss: 0.2083 - sparse_categorical_accuracy: 0.9195 - val_loss: 0.2712 - val_sparse_categorical_accuracy: 0.9082\n",
            "Epoch 254/400\n",
            "418/418 [==============================] - 12s 29ms/step - loss: 0.2145 - sparse_categorical_accuracy: 0.9180 - val_loss: 0.2697 - val_sparse_categorical_accuracy: 0.9080\n",
            "Epoch 255/400\n",
            "418/418 [==============================] - 12s 29ms/step - loss: 0.2112 - sparse_categorical_accuracy: 0.9186 - val_loss: 0.2706 - val_sparse_categorical_accuracy: 0.9065\n",
            "Epoch 256/400\n",
            "418/418 [==============================] - 12s 29ms/step - loss: 0.2112 - sparse_categorical_accuracy: 0.9185 - val_loss: 0.2734 - val_sparse_categorical_accuracy: 0.9073\n",
            "Epoch 257/400\n",
            "418/418 [==============================] - 12s 29ms/step - loss: 0.2090 - sparse_categorical_accuracy: 0.9196 - val_loss: 0.2747 - val_sparse_categorical_accuracy: 0.9080\n",
            "Epoch 258/400\n",
            "418/418 [==============================] - 12s 29ms/step - loss: 0.2075 - sparse_categorical_accuracy: 0.9195 - val_loss: 0.2709 - val_sparse_categorical_accuracy: 0.9086\n",
            "Epoch 259/400\n",
            "418/418 [==============================] - 12s 29ms/step - loss: 0.2067 - sparse_categorical_accuracy: 0.9203 - val_loss: 0.2658 - val_sparse_categorical_accuracy: 0.9071\n",
            "Epoch 260/400\n",
            "418/418 [==============================] - 12s 29ms/step - loss: 0.2078 - sparse_categorical_accuracy: 0.9213 - val_loss: 0.2698 - val_sparse_categorical_accuracy: 0.9076\n",
            "Epoch 261/400\n",
            "418/418 [==============================] - 12s 29ms/step - loss: 0.2082 - sparse_categorical_accuracy: 0.9194 - val_loss: 0.2718 - val_sparse_categorical_accuracy: 0.9050\n",
            "Epoch 262/400\n",
            "418/418 [==============================] - 12s 29ms/step - loss: 0.2087 - sparse_categorical_accuracy: 0.9199 - val_loss: 0.2736 - val_sparse_categorical_accuracy: 0.9059\n",
            "Epoch 263/400\n",
            "418/418 [==============================] - 12s 28ms/step - loss: 0.2118 - sparse_categorical_accuracy: 0.9189 - val_loss: 0.2744 - val_sparse_categorical_accuracy: 0.9067\n",
            "Epoch 264/400\n",
            "418/418 [==============================] - 12s 29ms/step - loss: 0.2067 - sparse_categorical_accuracy: 0.9207 - val_loss: 0.2757 - val_sparse_categorical_accuracy: 0.9074\n",
            "Epoch 265/400\n",
            "418/418 [==============================] - 12s 28ms/step - loss: 0.2047 - sparse_categorical_accuracy: 0.9210 - val_loss: 0.2712 - val_sparse_categorical_accuracy: 0.9071\n",
            "Epoch 266/400\n",
            "418/418 [==============================] - 12s 29ms/step - loss: 0.2068 - sparse_categorical_accuracy: 0.9199 - val_loss: 0.2768 - val_sparse_categorical_accuracy: 0.9097\n",
            "Epoch 267/400\n",
            "418/418 [==============================] - 12s 29ms/step - loss: 0.2081 - sparse_categorical_accuracy: 0.9199 - val_loss: 0.2726 - val_sparse_categorical_accuracy: 0.9048\n",
            "Epoch 268/400\n",
            "418/418 [==============================] - 12s 29ms/step - loss: 0.2108 - sparse_categorical_accuracy: 0.9196 - val_loss: 0.2699 - val_sparse_categorical_accuracy: 0.9052\n",
            "Epoch 269/400\n",
            "418/418 [==============================] - 12s 29ms/step - loss: 0.2070 - sparse_categorical_accuracy: 0.9199 - val_loss: 0.2673 - val_sparse_categorical_accuracy: 0.9070\n",
            "Epoch 270/400\n",
            "418/418 [==============================] - 12s 30ms/step - loss: 0.2055 - sparse_categorical_accuracy: 0.9219 - val_loss: 0.2732 - val_sparse_categorical_accuracy: 0.9064\n",
            "Epoch 271/400\n",
            "418/418 [==============================] - 12s 30ms/step - loss: 0.2089 - sparse_categorical_accuracy: 0.9193 - val_loss: 0.2691 - val_sparse_categorical_accuracy: 0.9097\n",
            "Epoch 272/400\n",
            "418/418 [==============================] - 13s 30ms/step - loss: 0.2065 - sparse_categorical_accuracy: 0.9203 - val_loss: 0.2688 - val_sparse_categorical_accuracy: 0.9086\n",
            "Epoch 273/400\n",
            "418/418 [==============================] - 13s 30ms/step - loss: 0.2076 - sparse_categorical_accuracy: 0.9198 - val_loss: 0.2685 - val_sparse_categorical_accuracy: 0.9086\n",
            "Epoch 274/400\n",
            "418/418 [==============================] - 13s 31ms/step - loss: 0.2061 - sparse_categorical_accuracy: 0.9209 - val_loss: 0.2685 - val_sparse_categorical_accuracy: 0.9088\n",
            "Epoch 275/400\n",
            "418/418 [==============================] - 12s 29ms/step - loss: 0.2078 - sparse_categorical_accuracy: 0.9197 - val_loss: 0.2721 - val_sparse_categorical_accuracy: 0.9082\n",
            "Epoch 276/400\n",
            "418/418 [==============================] - 12s 29ms/step - loss: 0.2061 - sparse_categorical_accuracy: 0.9200 - val_loss: 0.2666 - val_sparse_categorical_accuracy: 0.9085\n",
            "Epoch 277/400\n",
            "418/418 [==============================] - 12s 28ms/step - loss: 0.2111 - sparse_categorical_accuracy: 0.9196 - val_loss: 0.2684 - val_sparse_categorical_accuracy: 0.9071\n",
            "Epoch 278/400\n",
            "418/418 [==============================] - 12s 29ms/step - loss: 0.2064 - sparse_categorical_accuracy: 0.9200 - val_loss: 0.2685 - val_sparse_categorical_accuracy: 0.9065\n",
            "Epoch 279/400\n",
            "418/418 [==============================] - 12s 30ms/step - loss: 0.2096 - sparse_categorical_accuracy: 0.9201 - val_loss: 0.2758 - val_sparse_categorical_accuracy: 0.9083\n",
            "Epoch 280/400\n",
            "418/418 [==============================] - 12s 29ms/step - loss: 0.2064 - sparse_categorical_accuracy: 0.9207 - val_loss: 0.2728 - val_sparse_categorical_accuracy: 0.9036\n",
            "Epoch 281/400\n",
            "418/418 [==============================] - 12s 29ms/step - loss: 0.2062 - sparse_categorical_accuracy: 0.9199 - val_loss: 0.2723 - val_sparse_categorical_accuracy: 0.9068\n",
            "Epoch 282/400\n",
            "418/418 [==============================] - 12s 30ms/step - loss: 0.2030 - sparse_categorical_accuracy: 0.9225 - val_loss: 0.2753 - val_sparse_categorical_accuracy: 0.9065\n",
            "Epoch 283/400\n",
            "418/418 [==============================] - 13s 30ms/step - loss: 0.2061 - sparse_categorical_accuracy: 0.9210 - val_loss: 0.2697 - val_sparse_categorical_accuracy: 0.9092\n",
            "Epoch 284/400\n",
            "418/418 [==============================] - 13s 30ms/step - loss: 0.2061 - sparse_categorical_accuracy: 0.9207 - val_loss: 0.2710 - val_sparse_categorical_accuracy: 0.9074\n",
            "Epoch 285/400\n",
            "418/418 [==============================] - 12s 29ms/step - loss: 0.2067 - sparse_categorical_accuracy: 0.9209 - val_loss: 0.2674 - val_sparse_categorical_accuracy: 0.9077\n",
            "Epoch 286/400\n",
            "418/418 [==============================] - 12s 29ms/step - loss: 0.2075 - sparse_categorical_accuracy: 0.9206 - val_loss: 0.2674 - val_sparse_categorical_accuracy: 0.9080\n",
            "Epoch 287/400\n",
            "418/418 [==============================] - 12s 29ms/step - loss: 0.2022 - sparse_categorical_accuracy: 0.9217 - val_loss: 0.2682 - val_sparse_categorical_accuracy: 0.9065\n",
            "Epoch 288/400\n",
            "418/418 [==============================] - 12s 29ms/step - loss: 0.2046 - sparse_categorical_accuracy: 0.9213 - val_loss: 0.2656 - val_sparse_categorical_accuracy: 0.9079\n",
            "Epoch 289/400\n",
            "418/418 [==============================] - 12s 29ms/step - loss: 0.2042 - sparse_categorical_accuracy: 0.9210 - val_loss: 0.2678 - val_sparse_categorical_accuracy: 0.9097\n",
            "Epoch 290/400\n",
            "418/418 [==============================] - 12s 29ms/step - loss: 0.2059 - sparse_categorical_accuracy: 0.9210 - val_loss: 0.2727 - val_sparse_categorical_accuracy: 0.9076\n",
            "Epoch 291/400\n",
            "418/418 [==============================] - 12s 29ms/step - loss: 0.2069 - sparse_categorical_accuracy: 0.9206 - val_loss: 0.2648 - val_sparse_categorical_accuracy: 0.9080\n",
            "Epoch 292/400\n",
            "418/418 [==============================] - 12s 29ms/step - loss: 0.2049 - sparse_categorical_accuracy: 0.9214 - val_loss: 0.2675 - val_sparse_categorical_accuracy: 0.9083\n",
            "Epoch 293/400\n",
            "418/418 [==============================] - 12s 28ms/step - loss: 0.2038 - sparse_categorical_accuracy: 0.9206 - val_loss: 0.2692 - val_sparse_categorical_accuracy: 0.9080\n",
            "Epoch 294/400\n",
            "418/418 [==============================] - 13s 30ms/step - loss: 0.2025 - sparse_categorical_accuracy: 0.9217 - val_loss: 0.2678 - val_sparse_categorical_accuracy: 0.9077\n",
            "Epoch 295/400\n",
            "418/418 [==============================] - 13s 31ms/step - loss: 0.2020 - sparse_categorical_accuracy: 0.9220 - val_loss: 0.2694 - val_sparse_categorical_accuracy: 0.9067\n",
            "Epoch 296/400\n",
            "418/418 [==============================] - 13s 31ms/step - loss: 0.2040 - sparse_categorical_accuracy: 0.9219 - val_loss: 0.2682 - val_sparse_categorical_accuracy: 0.9082\n",
            "Epoch 297/400\n",
            "418/418 [==============================] - 13s 31ms/step - loss: 0.2020 - sparse_categorical_accuracy: 0.9213 - val_loss: 0.2751 - val_sparse_categorical_accuracy: 0.9076\n",
            "Epoch 298/400\n",
            "418/418 [==============================] - 13s 31ms/step - loss: 0.2062 - sparse_categorical_accuracy: 0.9196 - val_loss: 0.2741 - val_sparse_categorical_accuracy: 0.9061\n",
            "Epoch 299/400\n",
            "418/418 [==============================] - 12s 30ms/step - loss: 0.2063 - sparse_categorical_accuracy: 0.9198 - val_loss: 0.2708 - val_sparse_categorical_accuracy: 0.9077\n",
            "Epoch 300/400\n",
            "418/418 [==============================] - 12s 30ms/step - loss: 0.2037 - sparse_categorical_accuracy: 0.9217 - val_loss: 0.2746 - val_sparse_categorical_accuracy: 0.9074\n",
            "Epoch 301/400\n",
            "418/418 [==============================] - 13s 30ms/step - loss: 0.2014 - sparse_categorical_accuracy: 0.9220 - val_loss: 0.2771 - val_sparse_categorical_accuracy: 0.9085\n",
            "Epoch 302/400\n",
            "418/418 [==============================] - 12s 30ms/step - loss: 0.2057 - sparse_categorical_accuracy: 0.9212 - val_loss: 0.2668 - val_sparse_categorical_accuracy: 0.9082\n",
            "Epoch 303/400\n",
            "418/418 [==============================] - 12s 29ms/step - loss: 0.2032 - sparse_categorical_accuracy: 0.9234 - val_loss: 0.2703 - val_sparse_categorical_accuracy: 0.9112\n",
            "Epoch 304/400\n",
            "418/418 [==============================] - 12s 29ms/step - loss: 0.2067 - sparse_categorical_accuracy: 0.9216 - val_loss: 0.2688 - val_sparse_categorical_accuracy: 0.9094\n",
            "Epoch 305/400\n",
            "418/418 [==============================] - 12s 29ms/step - loss: 0.2007 - sparse_categorical_accuracy: 0.9228 - val_loss: 0.2717 - val_sparse_categorical_accuracy: 0.9067\n",
            "Epoch 306/400\n",
            "418/418 [==============================] - 12s 29ms/step - loss: 0.1988 - sparse_categorical_accuracy: 0.9233 - val_loss: 0.2745 - val_sparse_categorical_accuracy: 0.9080\n",
            "Epoch 307/400\n",
            "418/418 [==============================] - 12s 29ms/step - loss: 0.2027 - sparse_categorical_accuracy: 0.9232 - val_loss: 0.2737 - val_sparse_categorical_accuracy: 0.9100\n",
            "Epoch 308/400\n",
            "418/418 [==============================] - 12s 29ms/step - loss: 0.2053 - sparse_categorical_accuracy: 0.9218 - val_loss: 0.2739 - val_sparse_categorical_accuracy: 0.9071\n",
            "Epoch 309/400\n",
            "418/418 [==============================] - 12s 28ms/step - loss: 0.2012 - sparse_categorical_accuracy: 0.9214 - val_loss: 0.2701 - val_sparse_categorical_accuracy: 0.9097\n",
            "Epoch 310/400\n",
            "418/418 [==============================] - 12s 29ms/step - loss: 0.2026 - sparse_categorical_accuracy: 0.9214 - val_loss: 0.2716 - val_sparse_categorical_accuracy: 0.9068\n",
            "Epoch 311/400\n",
            "418/418 [==============================] - 12s 28ms/step - loss: 0.2010 - sparse_categorical_accuracy: 0.9216 - val_loss: 0.2729 - val_sparse_categorical_accuracy: 0.9108\n",
            "Epoch 312/400\n",
            "418/418 [==============================] - 12s 29ms/step - loss: 0.2026 - sparse_categorical_accuracy: 0.9221 - val_loss: 0.2709 - val_sparse_categorical_accuracy: 0.9077\n",
            "Epoch 313/400\n",
            "418/418 [==============================] - 12s 29ms/step - loss: 0.2017 - sparse_categorical_accuracy: 0.9227 - val_loss: 0.2741 - val_sparse_categorical_accuracy: 0.9079\n",
            "Epoch 314/400\n",
            "418/418 [==============================] - 12s 29ms/step - loss: 0.2019 - sparse_categorical_accuracy: 0.9227 - val_loss: 0.2757 - val_sparse_categorical_accuracy: 0.9092\n",
            "Epoch 315/400\n",
            "418/418 [==============================] - 12s 29ms/step - loss: 0.2037 - sparse_categorical_accuracy: 0.9216 - val_loss: 0.2726 - val_sparse_categorical_accuracy: 0.9065\n",
            "Epoch 316/400\n",
            "418/418 [==============================] - 12s 30ms/step - loss: 0.2005 - sparse_categorical_accuracy: 0.9223 - val_loss: 0.2741 - val_sparse_categorical_accuracy: 0.9083\n",
            "Epoch 317/400\n",
            "418/418 [==============================] - 12s 29ms/step - loss: 0.2010 - sparse_categorical_accuracy: 0.9235 - val_loss: 0.2747 - val_sparse_categorical_accuracy: 0.9089\n",
            "Epoch 318/400\n",
            "418/418 [==============================] - 12s 29ms/step - loss: 0.1989 - sparse_categorical_accuracy: 0.9225 - val_loss: 0.2757 - val_sparse_categorical_accuracy: 0.9056\n",
            "Epoch 319/400\n",
            "418/418 [==============================] - 12s 30ms/step - loss: 0.2011 - sparse_categorical_accuracy: 0.9241 - val_loss: 0.2783 - val_sparse_categorical_accuracy: 0.9086\n",
            "Epoch 320/400\n",
            "418/418 [==============================] - 13s 30ms/step - loss: 0.2025 - sparse_categorical_accuracy: 0.9225 - val_loss: 0.2743 - val_sparse_categorical_accuracy: 0.9082\n",
            "Epoch 321/400\n",
            "418/418 [==============================] - 13s 30ms/step - loss: 0.1995 - sparse_categorical_accuracy: 0.9236 - val_loss: 0.2769 - val_sparse_categorical_accuracy: 0.9061\n",
            "Epoch 322/400\n",
            "418/418 [==============================] - 12s 30ms/step - loss: 0.1999 - sparse_categorical_accuracy: 0.9222 - val_loss: 0.2731 - val_sparse_categorical_accuracy: 0.9077\n",
            "Epoch 323/400\n",
            "418/418 [==============================] - 12s 29ms/step - loss: 0.2043 - sparse_categorical_accuracy: 0.9211 - val_loss: 0.2683 - val_sparse_categorical_accuracy: 0.9089\n",
            "Epoch 324/400\n",
            "418/418 [==============================] - 12s 28ms/step - loss: 0.2019 - sparse_categorical_accuracy: 0.9235 - val_loss: 0.2750 - val_sparse_categorical_accuracy: 0.9085\n",
            "Epoch 325/400\n",
            "418/418 [==============================] - 12s 30ms/step - loss: 0.2010 - sparse_categorical_accuracy: 0.9223 - val_loss: 0.2674 - val_sparse_categorical_accuracy: 0.9095\n",
            "Epoch 326/400\n",
            "418/418 [==============================] - 12s 29ms/step - loss: 0.2024 - sparse_categorical_accuracy: 0.9230 - val_loss: 0.2680 - val_sparse_categorical_accuracy: 0.9082\n",
            "Epoch 327/400\n",
            "418/418 [==============================] - 12s 29ms/step - loss: 0.2020 - sparse_categorical_accuracy: 0.9215 - val_loss: 0.2728 - val_sparse_categorical_accuracy: 0.9076\n",
            "Epoch 328/400\n",
            "418/418 [==============================] - 12s 30ms/step - loss: 0.2007 - sparse_categorical_accuracy: 0.9237 - val_loss: 0.2698 - val_sparse_categorical_accuracy: 0.9045\n",
            "Epoch 329/400\n",
            "418/418 [==============================] - 12s 29ms/step - loss: 0.2033 - sparse_categorical_accuracy: 0.9225 - val_loss: 0.2716 - val_sparse_categorical_accuracy: 0.9067\n",
            "Epoch 330/400\n",
            "418/418 [==============================] - 12s 29ms/step - loss: 0.1986 - sparse_categorical_accuracy: 0.9237 - val_loss: 0.2729 - val_sparse_categorical_accuracy: 0.9077\n",
            "Epoch 331/400\n",
            "418/418 [==============================] - 12s 29ms/step - loss: 0.2004 - sparse_categorical_accuracy: 0.9219 - val_loss: 0.2764 - val_sparse_categorical_accuracy: 0.9086\n",
            "Epoch 332/400\n",
            "418/418 [==============================] - 12s 29ms/step - loss: 0.2028 - sparse_categorical_accuracy: 0.9207 - val_loss: 0.2712 - val_sparse_categorical_accuracy: 0.9080\n",
            "Epoch 333/400\n",
            "418/418 [==============================] - 12s 29ms/step - loss: 0.2023 - sparse_categorical_accuracy: 0.9219 - val_loss: 0.2714 - val_sparse_categorical_accuracy: 0.9088\n",
            "Epoch 334/400\n",
            "418/418 [==============================] - 12s 29ms/step - loss: 0.2012 - sparse_categorical_accuracy: 0.9218 - val_loss: 0.2733 - val_sparse_categorical_accuracy: 0.9076\n",
            "Epoch 335/400\n",
            "418/418 [==============================] - 12s 29ms/step - loss: 0.1975 - sparse_categorical_accuracy: 0.9236 - val_loss: 0.2743 - val_sparse_categorical_accuracy: 0.9085\n",
            "Epoch 336/400\n",
            "418/418 [==============================] - 13s 30ms/step - loss: 0.2026 - sparse_categorical_accuracy: 0.9229 - val_loss: 0.2737 - val_sparse_categorical_accuracy: 0.9083\n",
            "Epoch 337/400\n",
            "418/418 [==============================] - 12s 30ms/step - loss: 0.2026 - sparse_categorical_accuracy: 0.9218 - val_loss: 0.2725 - val_sparse_categorical_accuracy: 0.9061\n",
            "Epoch 338/400\n",
            "418/418 [==============================] - 12s 28ms/step - loss: 0.2051 - sparse_categorical_accuracy: 0.9202 - val_loss: 0.2723 - val_sparse_categorical_accuracy: 0.9086\n",
            "Epoch 339/400\n",
            "418/418 [==============================] - 12s 29ms/step - loss: 0.1987 - sparse_categorical_accuracy: 0.9237 - val_loss: 0.2747 - val_sparse_categorical_accuracy: 0.9097\n",
            "Epoch 340/400\n",
            "418/418 [==============================] - 12s 29ms/step - loss: 0.1995 - sparse_categorical_accuracy: 0.9238 - val_loss: 0.2705 - val_sparse_categorical_accuracy: 0.9082\n",
            "Epoch 341/400\n",
            "418/418 [==============================] - 12s 29ms/step - loss: 0.1976 - sparse_categorical_accuracy: 0.9234 - val_loss: 0.2756 - val_sparse_categorical_accuracy: 0.9076\n",
            "Epoch 342/400\n",
            "418/418 [==============================] - 12s 29ms/step - loss: 0.1997 - sparse_categorical_accuracy: 0.9233 - val_loss: 0.2736 - val_sparse_categorical_accuracy: 0.9095\n",
            "Epoch 343/400\n",
            "418/418 [==============================] - 12s 29ms/step - loss: 0.1977 - sparse_categorical_accuracy: 0.9231 - val_loss: 0.2748 - val_sparse_categorical_accuracy: 0.9079\n",
            "Epoch 344/400\n",
            "418/418 [==============================] - 12s 30ms/step - loss: 0.1998 - sparse_categorical_accuracy: 0.9240 - val_loss: 0.2724 - val_sparse_categorical_accuracy: 0.9055\n",
            "Epoch 345/400\n",
            "418/418 [==============================] - 12s 30ms/step - loss: 0.2005 - sparse_categorical_accuracy: 0.9232 - val_loss: 0.2778 - val_sparse_categorical_accuracy: 0.9067\n",
            "Epoch 346/400\n",
            "418/418 [==============================] - 12s 29ms/step - loss: 0.1983 - sparse_categorical_accuracy: 0.9224 - val_loss: 0.2765 - val_sparse_categorical_accuracy: 0.9083\n",
            "Epoch 347/400\n",
            "418/418 [==============================] - 12s 29ms/step - loss: 0.1987 - sparse_categorical_accuracy: 0.9220 - val_loss: 0.2718 - val_sparse_categorical_accuracy: 0.9102\n",
            "Epoch 348/400\n",
            "418/418 [==============================] - 12s 29ms/step - loss: 0.2005 - sparse_categorical_accuracy: 0.9220 - val_loss: 0.2678 - val_sparse_categorical_accuracy: 0.9089\n",
            "Epoch 349/400\n",
            "418/418 [==============================] - 12s 30ms/step - loss: 0.2002 - sparse_categorical_accuracy: 0.9220 - val_loss: 0.2669 - val_sparse_categorical_accuracy: 0.9118\n",
            "Epoch 350/400\n",
            "418/418 [==============================] - 13s 30ms/step - loss: 0.1966 - sparse_categorical_accuracy: 0.9240 - val_loss: 0.2674 - val_sparse_categorical_accuracy: 0.9091\n",
            "Epoch 351/400\n",
            "418/418 [==============================] - 12s 30ms/step - loss: 0.1980 - sparse_categorical_accuracy: 0.9243 - val_loss: 0.2697 - val_sparse_categorical_accuracy: 0.9083\n",
            "Epoch 352/400\n",
            "418/418 [==============================] - 12s 29ms/step - loss: 0.1991 - sparse_categorical_accuracy: 0.9226 - val_loss: 0.2690 - val_sparse_categorical_accuracy: 0.9076\n",
            "Epoch 353/400\n",
            "418/418 [==============================] - 12s 29ms/step - loss: 0.1973 - sparse_categorical_accuracy: 0.9232 - val_loss: 0.2707 - val_sparse_categorical_accuracy: 0.9088\n",
            "Epoch 354/400\n",
            "418/418 [==============================] - 12s 29ms/step - loss: 0.1991 - sparse_categorical_accuracy: 0.9242 - val_loss: 0.2718 - val_sparse_categorical_accuracy: 0.9064\n",
            "Epoch 355/400\n",
            "418/418 [==============================] - 12s 29ms/step - loss: 0.1984 - sparse_categorical_accuracy: 0.9240 - val_loss: 0.2706 - val_sparse_categorical_accuracy: 0.9094\n",
            "Epoch 356/400\n",
            "418/418 [==============================] - 12s 30ms/step - loss: 0.2030 - sparse_categorical_accuracy: 0.9227 - val_loss: 0.2728 - val_sparse_categorical_accuracy: 0.9071\n",
            "Epoch 357/400\n",
            "418/418 [==============================] - 13s 30ms/step - loss: 0.1955 - sparse_categorical_accuracy: 0.9236 - val_loss: 0.2757 - val_sparse_categorical_accuracy: 0.9068\n",
            "Epoch 358/400\n",
            "418/418 [==============================] - 12s 30ms/step - loss: 0.1968 - sparse_categorical_accuracy: 0.9245 - val_loss: 0.2757 - val_sparse_categorical_accuracy: 0.9061\n",
            "Epoch 359/400\n",
            "418/418 [==============================] - 12s 29ms/step - loss: 0.1972 - sparse_categorical_accuracy: 0.9244 - val_loss: 0.2796 - val_sparse_categorical_accuracy: 0.9058\n",
            "Epoch 360/400\n",
            "418/418 [==============================] - 12s 30ms/step - loss: 0.1941 - sparse_categorical_accuracy: 0.9252 - val_loss: 0.2700 - val_sparse_categorical_accuracy: 0.9089\n",
            "Epoch 361/400\n",
            "418/418 [==============================] - 12s 29ms/step - loss: 0.1945 - sparse_categorical_accuracy: 0.9249 - val_loss: 0.2760 - val_sparse_categorical_accuracy: 0.9073\n",
            "Epoch 362/400\n",
            "418/418 [==============================] - 12s 30ms/step - loss: 0.2003 - sparse_categorical_accuracy: 0.9225 - val_loss: 0.2744 - val_sparse_categorical_accuracy: 0.9079\n",
            "Epoch 363/400\n",
            "418/418 [==============================] - 12s 29ms/step - loss: 0.1998 - sparse_categorical_accuracy: 0.9233 - val_loss: 0.2775 - val_sparse_categorical_accuracy: 0.9080\n",
            "Epoch 364/400\n",
            "418/418 [==============================] - 12s 30ms/step - loss: 0.1953 - sparse_categorical_accuracy: 0.9253 - val_loss: 0.2694 - val_sparse_categorical_accuracy: 0.9103\n",
            "Epoch 365/400\n",
            "418/418 [==============================] - 12s 30ms/step - loss: 0.1965 - sparse_categorical_accuracy: 0.9246 - val_loss: 0.2711 - val_sparse_categorical_accuracy: 0.9111\n",
            "Epoch 366/400\n",
            "418/418 [==============================] - 12s 29ms/step - loss: 0.1955 - sparse_categorical_accuracy: 0.9250 - val_loss: 0.2789 - val_sparse_categorical_accuracy: 0.9108\n",
            "Epoch 367/400\n",
            "418/418 [==============================] - 12s 29ms/step - loss: 0.1995 - sparse_categorical_accuracy: 0.9238 - val_loss: 0.2750 - val_sparse_categorical_accuracy: 0.9092\n",
            "Epoch 368/400\n",
            "418/418 [==============================] - 12s 29ms/step - loss: 0.1963 - sparse_categorical_accuracy: 0.9240 - val_loss: 0.2746 - val_sparse_categorical_accuracy: 0.9098\n",
            "Epoch 369/400\n",
            "418/418 [==============================] - 12s 30ms/step - loss: 0.1984 - sparse_categorical_accuracy: 0.9234 - val_loss: 0.2766 - val_sparse_categorical_accuracy: 0.9082\n",
            "Epoch 370/400\n",
            "418/418 [==============================] - 12s 29ms/step - loss: 0.1990 - sparse_categorical_accuracy: 0.9229 - val_loss: 0.2769 - val_sparse_categorical_accuracy: 0.9086\n",
            "Epoch 371/400\n",
            "418/418 [==============================] - 12s 30ms/step - loss: 0.1975 - sparse_categorical_accuracy: 0.9226 - val_loss: 0.2786 - val_sparse_categorical_accuracy: 0.9085\n",
            "Epoch 372/400\n",
            "418/418 [==============================] - 12s 30ms/step - loss: 0.1965 - sparse_categorical_accuracy: 0.9243 - val_loss: 0.2787 - val_sparse_categorical_accuracy: 0.9100\n",
            "Epoch 373/400\n",
            "418/418 [==============================] - 12s 30ms/step - loss: 0.1972 - sparse_categorical_accuracy: 0.9239 - val_loss: 0.2782 - val_sparse_categorical_accuracy: 0.9117\n",
            "Epoch 374/400\n",
            "418/418 [==============================] - 13s 30ms/step - loss: 0.1960 - sparse_categorical_accuracy: 0.9247 - val_loss: 0.2756 - val_sparse_categorical_accuracy: 0.9085\n",
            "Epoch 375/400\n",
            "418/418 [==============================] - 13s 30ms/step - loss: 0.1925 - sparse_categorical_accuracy: 0.9257 - val_loss: 0.2796 - val_sparse_categorical_accuracy: 0.9080\n",
            "Epoch 376/400\n",
            "418/418 [==============================] - 13s 30ms/step - loss: 0.1984 - sparse_categorical_accuracy: 0.9245 - val_loss: 0.2754 - val_sparse_categorical_accuracy: 0.9088\n",
            "Epoch 377/400\n",
            "418/418 [==============================] - 13s 30ms/step - loss: 0.1950 - sparse_categorical_accuracy: 0.9244 - val_loss: 0.2794 - val_sparse_categorical_accuracy: 0.9065\n",
            "Epoch 378/400\n",
            "418/418 [==============================] - 13s 30ms/step - loss: 0.1958 - sparse_categorical_accuracy: 0.9240 - val_loss: 0.2772 - val_sparse_categorical_accuracy: 0.9079\n",
            "Epoch 379/400\n",
            "418/418 [==============================] - 12s 30ms/step - loss: 0.1965 - sparse_categorical_accuracy: 0.9246 - val_loss: 0.2796 - val_sparse_categorical_accuracy: 0.9080\n",
            "Epoch 380/400\n",
            "418/418 [==============================] - 12s 30ms/step - loss: 0.2006 - sparse_categorical_accuracy: 0.9227 - val_loss: 0.2732 - val_sparse_categorical_accuracy: 0.9067\n",
            "Epoch 381/400\n",
            "418/418 [==============================] - 13s 30ms/step - loss: 0.1968 - sparse_categorical_accuracy: 0.9243 - val_loss: 0.2735 - val_sparse_categorical_accuracy: 0.9071\n",
            "Epoch 382/400\n",
            "418/418 [==============================] - 12s 29ms/step - loss: 0.1985 - sparse_categorical_accuracy: 0.9244 - val_loss: 0.2766 - val_sparse_categorical_accuracy: 0.9065\n",
            "Epoch 383/400\n",
            "418/418 [==============================] - 12s 29ms/step - loss: 0.1974 - sparse_categorical_accuracy: 0.9241 - val_loss: 0.2770 - val_sparse_categorical_accuracy: 0.9095\n",
            "Epoch 384/400\n",
            "418/418 [==============================] - 12s 29ms/step - loss: 0.1991 - sparse_categorical_accuracy: 0.9244 - val_loss: 0.2736 - val_sparse_categorical_accuracy: 0.9071\n",
            "Epoch 385/400\n",
            "418/418 [==============================] - 12s 29ms/step - loss: 0.1981 - sparse_categorical_accuracy: 0.9241 - val_loss: 0.2721 - val_sparse_categorical_accuracy: 0.9071\n",
            "Epoch 386/400\n",
            "418/418 [==============================] - 12s 30ms/step - loss: 0.1949 - sparse_categorical_accuracy: 0.9248 - val_loss: 0.2710 - val_sparse_categorical_accuracy: 0.9100\n",
            "Epoch 387/400\n",
            "418/418 [==============================] - 12s 30ms/step - loss: 0.1968 - sparse_categorical_accuracy: 0.9239 - val_loss: 0.2749 - val_sparse_categorical_accuracy: 0.9077\n",
            "Epoch 388/400\n",
            "418/418 [==============================] - 12s 30ms/step - loss: 0.1962 - sparse_categorical_accuracy: 0.9244 - val_loss: 0.2800 - val_sparse_categorical_accuracy: 0.9100\n",
            "Epoch 389/400\n",
            "418/418 [==============================] - 13s 30ms/step - loss: 0.1954 - sparse_categorical_accuracy: 0.9246 - val_loss: 0.2809 - val_sparse_categorical_accuracy: 0.9062\n",
            "Epoch 390/400\n",
            "418/418 [==============================] - 12s 29ms/step - loss: 0.1957 - sparse_categorical_accuracy: 0.9244 - val_loss: 0.2775 - val_sparse_categorical_accuracy: 0.9102\n",
            "Epoch 391/400\n",
            "418/418 [==============================] - 13s 30ms/step - loss: 0.1959 - sparse_categorical_accuracy: 0.9236 - val_loss: 0.2707 - val_sparse_categorical_accuracy: 0.9083\n",
            "Epoch 392/400\n",
            "418/418 [==============================] - 13s 30ms/step - loss: 0.1930 - sparse_categorical_accuracy: 0.9257 - val_loss: 0.2718 - val_sparse_categorical_accuracy: 0.9097\n",
            "Epoch 393/400\n",
            "418/418 [==============================] - 14s 33ms/step - loss: 0.1952 - sparse_categorical_accuracy: 0.9235 - val_loss: 0.2712 - val_sparse_categorical_accuracy: 0.9092\n",
            "Epoch 394/400\n",
            "418/418 [==============================] - 13s 31ms/step - loss: 0.1961 - sparse_categorical_accuracy: 0.9235 - val_loss: 0.2777 - val_sparse_categorical_accuracy: 0.9083\n",
            "Epoch 395/400\n",
            "418/418 [==============================] - 13s 31ms/step - loss: 0.1950 - sparse_categorical_accuracy: 0.9239 - val_loss: 0.2718 - val_sparse_categorical_accuracy: 0.9095\n",
            "Epoch 396/400\n",
            "418/418 [==============================] - 13s 31ms/step - loss: 0.1956 - sparse_categorical_accuracy: 0.9243 - val_loss: 0.2761 - val_sparse_categorical_accuracy: 0.9082\n",
            "Epoch 397/400\n",
            "418/418 [==============================] - 13s 31ms/step - loss: 0.1962 - sparse_categorical_accuracy: 0.9246 - val_loss: 0.2753 - val_sparse_categorical_accuracy: 0.9070\n",
            "Epoch 398/400\n",
            "418/418 [==============================] - 13s 31ms/step - loss: 0.1918 - sparse_categorical_accuracy: 0.9258 - val_loss: 0.2736 - val_sparse_categorical_accuracy: 0.9089\n",
            "Epoch 399/400\n",
            "418/418 [==============================] - 13s 31ms/step - loss: 0.1945 - sparse_categorical_accuracy: 0.9251 - val_loss: 0.2747 - val_sparse_categorical_accuracy: 0.9088\n",
            "Epoch 400/400\n",
            "418/418 [==============================] - 13s 31ms/step - loss: 0.1944 - sparse_categorical_accuracy: 0.9248 - val_loss: 0.2715 - val_sparse_categorical_accuracy: 0.9077\n",
            "313/313 [==============================] - 1s 5ms/step - loss: 0.3016 - sparse_categorical_accuracy: 0.9038\n",
            "\n",
            "Test accuracy: 0.9038000106811523\n"
          ]
        }
      ]
    },
    {
      "cell_type": "code",
      "source": [
        "print('\\nhistory dict:', list(history.history.keys()))"
      ],
      "metadata": {
        "id": "CxRE-B_Q6Sii",
        "colab": {
          "base_uri": "https://localhost:8080/"
        },
        "outputId": "453a5c0f-f897-4b3f-8f97-e7b4453ceab5"
      },
      "execution_count": 233,
      "outputs": [
        {
          "metadata": {
            "tags": null
          },
          "name": "stdout",
          "output_type": "stream",
          "text": [
            "\n",
            "history dict: ['loss', 'sparse_categorical_accuracy', 'val_loss', 'val_sparse_categorical_accuracy']\n"
          ]
        }
      ]
    },
    {
      "cell_type": "code",
      "source": [
        "result = model.evaluate(x_test, y_test)\n",
        "print(result)"
      ],
      "metadata": {
        "id": "YXpwRRTvTBNg",
        "colab": {
          "base_uri": "https://localhost:8080/"
        },
        "outputId": "dbe4c7d8-fc8f-4f3c-a19a-37c171442acf"
      },
      "execution_count": 234,
      "outputs": [
        {
          "output_type": "stream",
          "name": "stdout",
          "text": [
            "313/313 [==============================] - 1s 4ms/step - loss: 0.3016 - sparse_categorical_accuracy: 0.9038\n",
            "[0.3016158938407898, 0.9038000106811523]\n"
          ]
        }
      ]
    },
    {
      "cell_type": "code",
      "source": [
        "saved_model = load_model('best_model.h5')\n",
        "result = saved_model.evaluate(x_test, y_test)\n",
        "print(result)"
      ],
      "metadata": {
        "id": "dpaZAW0vp1AZ",
        "colab": {
          "base_uri": "https://localhost:8080/"
        },
        "outputId": "afe1de92-6431-4213-c6db-ea52beebaa90"
      },
      "execution_count": 235,
      "outputs": [
        {
          "output_type": "stream",
          "name": "stdout",
          "text": [
            "313/313 [==============================] - 2s 5ms/step - loss: 0.3025 - sparse_categorical_accuracy: 0.9029\n",
            "[0.302510142326355, 0.902899980545044]\n"
          ]
        }
      ]
    },
    {
      "cell_type": "code",
      "source": [
        "# from keras.models import load_model\n",
        "# saved_model = load_model('best_model.h5')\n",
        "# # _, train_acc = saved_model.evaluate(x_train, y_train, verbose=0)\n",
        "# _, test_acc = saved_model.evaluate(x_test, y_test, verbose=0)\n",
        "# print('Test: %.3f' % (test_acc))"
      ],
      "metadata": {
        "id": "DR_MS9DABo_K"
      },
      "execution_count": 236,
      "outputs": []
    },
    {
      "cell_type": "code",
      "source": [
        "history_dict = history.history\n",
        "loss_values = history_dict['loss']\n",
        "val_loss_values = history_dict['val_loss']\n",
        "\n",
        "epochs = range(1, len(history_dict['loss']) + 1)\n",
        "\n",
        "plt.figure(figsize=(10, 5))\n",
        "plt.plot(epochs, loss_values, 'bo', label='Training loss')\n",
        "plt.plot(epochs, val_loss_values, 'r', label='Validation loss')\n",
        "# plt.ylim (0.2, 0.5)\n",
        "plt.title('Training and validation loss')\n",
        "plt.xlabel('Epochs')\n",
        "plt.ylabel('Loss')\n",
        "plt.legend()\n",
        "plt.grid(True)\n",
        "plt.show()\n",
        "1\n",
        "plt.clf()\n",
        "plt.figure(figsize=(10, 5))\n",
        "val_acc_values = history_dict['sparse_categorical_accuracy']\n",
        "plt.plot(epochs, history_dict['sparse_categorical_accuracy'], 'bo', label='Training acc')\n",
        "plt.plot(epochs, history_dict['val_sparse_categorical_accuracy'], 'r', label='Validation acc')\n",
        "plt.ylim (0.86, 0.92)\n",
        "plt.title('Training and validation accuracy')\n",
        "plt.xlabel('Epochs')\n",
        "plt.ylabel('Accuracy')\n",
        "plt.legend()\n",
        "plt.grid(True)"
      ],
      "metadata": {
        "id": "2Ll_5sGlXKMH",
        "colab": {
          "base_uri": "https://localhost:8080/",
          "height": 975
        },
        "outputId": "35d63776-1aef-4e55-e764-b6c2db6705d7"
      },
      "execution_count": 237,
      "outputs": [
        {
          "output_type": "display_data",
          "data": {
            "text/plain": [
              "<Figure size 1000x500 with 1 Axes>"
            ],
            "image/png": "[encoded data removed]"
          },
          "metadata": {}
        },
        {
          "output_type": "display_data",
          "data": {
            "text/plain": [
              "<Figure size 640x480 with 0 Axes>"
            ]
          },
          "metadata": {}
        },
        {
          "output_type": "display_data",
          "data": {
            "text/plain": [
              "<Figure size 1000x500 with 1 Axes>"
            ],
            "image/png": "[encoded data removed]"
          },
          "metadata": {}
        }
      ]
    },
    {
      "cell_type": "code",
      "source": [
        "probability_model = tf.keras.Sequential([model,\n",
        "                                         tf.keras.layers.Softmax()])"
      ],
      "metadata": {
        "id": "VzOdKAT_uV-f"
      },
      "execution_count": 238,
      "outputs": []
    },
    {
      "cell_type": "code",
      "source": [
        "predictions = probability_model.predict(x_test)"
      ],
      "metadata": {
        "id": "f4is3NFruYom",
        "colab": {
          "base_uri": "https://localhost:8080/"
        },
        "outputId": "2399331e-34d9-4326-d595-e7a4022f3c20"
      },
      "execution_count": 239,
      "outputs": [
        {
          "output_type": "stream",
          "name": "stdout",
          "text": [
            "313/313 [==============================] - 1s 4ms/step\n"
          ]
        }
      ]
    },
    {
      "cell_type": "code",
      "source": [
        "predictions[0]"
      ],
      "metadata": {
        "id": "82cigvlZudz_",
        "colab": {
          "base_uri": "https://localhost:8080/"
        },
        "outputId": "308867c4-60c3-4a8c-d902-515360fbc59a"
      },
      "execution_count": 240,
      "outputs": [
        {
          "output_type": "execute_result",
          "data": {
            "text/plain": [
              "array([0.08534553, 0.08534553, 0.08534553, 0.08534553, 0.08534553,\n",
              "       0.08534612, 0.08534553, 0.08540489, 0.08534553, 0.2318303 ],\n",
              "      dtype=float32)"
            ]
          },
          "metadata": {},
          "execution_count": 240
        }
      ]
    },
    {
      "cell_type": "code",
      "source": [
        "model.summary()"
      ],
      "metadata": {
        "id": "6RsQPHyYuNGe",
        "colab": {
          "base_uri": "https://localhost:8080/"
        },
        "outputId": "c03a33f8-5ae1-4b15-dd96-b526091fa83a"
      },
      "execution_count": 241,
      "outputs": [
        {
          "output_type": "stream",
          "name": "stdout",
          "text": [
            "Model: \"sequential_10\"\n",
            "_________________________________________________________________\n",
            " Layer (type)                Output Shape              Param #   \n",
            "=================================================================\n",
            " flatten_5 (Flatten)         (None, 784)               0         \n",
            "                                                                 \n",
            " dropout_20 (Dropout)        (None, 784)               0         \n",
            "                                                                 \n",
            " batch_normalization_15 (Ba  (None, 784)               3136      \n",
            " tchNormalization)                                               \n",
            "                                                                 \n",
            " dense_20 (Dense)            (None, 256)               200960    \n",
            "                                                                 \n",
            " dropout_21 (Dropout)        (None, 256)               0         \n",
            "                                                                 \n",
            " batch_normalization_16 (Ba  (None, 256)               1024      \n",
            " tchNormalization)                                               \n",
            "                                                                 \n",
            " dense_21 (Dense)            (None, 512)               131584    \n",
            "                                                                 \n",
            " dropout_22 (Dropout)        (None, 512)               0         \n",
            "                                                                 \n",
            " batch_normalization_17 (Ba  (None, 512)               2048      \n",
            " tchNormalization)                                               \n",
            "                                                                 \n",
            " dense_22 (Dense)            (None, 512)               262656    \n",
            "                                                                 \n",
            " dropout_23 (Dropout)        (None, 512)               0         \n",
            "                                                                 \n",
            " dense_23 (Dense)            (None, 10)                5130      \n",
            "                                                                 \n",
            "=================================================================\n",
            "Total params: 606538 (2.31 MB)\n",
            "Trainable params: 603434 (2.30 MB)\n",
            "Non-trainable params: 3104 (12.12 KB)\n",
            "_________________________________________________________________\n"
          ]
        }
      ]
    },
    {
      "cell_type": "code",
      "source": [
        "\n",
        "\n",
        "hnyetjn hrte()"
      ],
      "metadata": {
        "id": "S4hcxZttmp-0",
        "colab": {
          "base_uri": "https://localhost:8080/",
          "height": 108
        },
        "outputId": "14cc35b9-ad0a-49e9-cc20-b66cd44ac68b"
      },
      "execution_count": 242,
      "outputs": [
        {
          "output_type": "error",
          "ename": "SyntaxError",
          "evalue": "invalid syntax (<ipython-input-242-1a3818e70946>, line 1)",
          "traceback": [
            "\u001b[0;36m  File \u001b[0;32m\"<ipython-input-242-1a3818e70946>\"\u001b[0;36m, line \u001b[0;32m1\u001b[0m\n\u001b[0;31m    hnyetjn hrte()\u001b[0m\n\u001b[0m            ^\u001b[0m\n\u001b[0;31mSyntaxError\u001b[0m\u001b[0;31m:\u001b[0m invalid syntax\n"
          ]
        }
      ]
    }
  ]
}