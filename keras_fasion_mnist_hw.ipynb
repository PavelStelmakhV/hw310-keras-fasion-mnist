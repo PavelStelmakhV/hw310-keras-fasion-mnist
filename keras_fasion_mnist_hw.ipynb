{
  "nbformat": 4,
  "nbformat_minor": 0,
  "metadata": {
    "colab": {
      "provenance": [],
      "authorship_tag": "ABX9TyNrR21ZrQ98OJxaLJ0fOLps",
      "include_colab_link": true
    },
    "kernelspec": {
      "name": "python3",
      "display_name": "Python 3"
    },
    "language_info": {
      "name": "python"
    }
  },
  "cells": [
    {
      "cell_type": "markdown",
      "metadata": {
        "id": "view-in-github",
        "colab_type": "text"
      },
      "source": [
        "<a href=\"https://colab.research.google.com/github/PavelStelmakhV/hw310-keras-fasion-mnist/blob/main/keras_fasion_mnist_hw.ipynb\" target=\"_parent\"><img src=\"https://colab.research.google.com/assets/colab-badge.svg\" alt=\"Open In Colab\"/></a>"
      ]
    },
    {
      "cell_type": "code",
      "execution_count": 13,
      "metadata": {
        "id": "vv7w0bgAVQPO"
      },
      "outputs": [],
      "source": [
        "import tensorflow as tf\n",
        "\n",
        "import numpy as np\n",
        "import matplotlib.pyplot as plt\n",
        "from keras import layers\n",
        "from keras import regularizers"
      ]
    },
    {
      "cell_type": "code",
      "source": [
        "fashion_mnist = tf.keras.datasets.fashion_mnist\n",
        "\n",
        "(train_images, train_labels), (test_images, test_labels) = fashion_mnist.load_data()"
      ],
      "metadata": {
        "id": "mOpywsNAzfGB"
      },
      "execution_count": 14,
      "outputs": []
    },
    {
      "cell_type": "code",
      "source": [
        "class_names = ['T-shirt/top', 'Trouser', 'Pullover', 'Dress', 'Coat',\n",
        "               'Sandal', 'Shirt', 'Sneaker', 'Bag', 'Ankle boot']"
      ],
      "metadata": {
        "id": "vM60H5OVz65k"
      },
      "execution_count": 15,
      "outputs": []
    },
    {
      "cell_type": "code",
      "source": [
        "train_images = train_images / 255.0\n",
        "\n",
        "test_images = test_images / 255.0"
      ],
      "metadata": {
        "id": "t2gucjsJ0KUi"
      },
      "execution_count": 16,
      "outputs": []
    },
    {
      "cell_type": "code",
      "source": [
        "model = tf.keras.Sequential()\n",
        "\n",
        "model.add(layers.Flatten(input_shape=(28, 28)))\n",
        "model.add(layers.Dropout(0.2))\n",
        "# model.add(layers.Dense(500, activation='relu', kernel_regularizer=regularizers.l2(0.000001)))\n",
        "model.add(layers.Dense(512, activation='relu', kernel_regularizer=regularizers.l2(0.00001)))\n",
        "model.add(layers.Dropout(0.3))\n",
        "model.add(layers.Dense(512, activation='relu', kernel_regularizer=regularizers.l2(0.00001)))\n",
        "model.add(layers.Dropout(0.2))\n",
        "# model.add(layers.Dense(216, activation='relu', kernel_regularizer=regularizers.l2(0.001)))\n",
        "# model.add(layers.Dense(512, activation='sigmoid', kernel_regularizer=regularizers.l2(0.00001)))\n",
        "# model.add(layers.Dropout(0.5))\n",
        "# model.add(layers.Dense(512, activation='sigmoid', kernel_regularizer=regularizers.l2(0.00001)))\n",
        "# model.add(layers.Dropout(0.5))\n",
        "# model.add(layers.Dense(500, activation='sigmoid', kernel_regularizer=regularizers.l2(0.000001)))\n",
        "# model.add(layers.Dense(500, activation='relu', kernel_regularizer=regularizers.l2(0.000001)))\n",
        "# # model.add(layers.Dense(80, activation='relu', kernel_regularizer=regularizers.l2(0.001)))\n",
        "# model.add(layers.Dropout(0.5))\n",
        "# model.add(layers.Dense(500, activation='relu', kernel_regularizer=regularizers.l2(0.000001)))\n",
        "# model.add(layers.Dropout(0.5))\n",
        "# # model.add(layers.Dense(40, activation='relu', kernel_regularizer=regularizers.l2(0.001)))\n",
        "\n",
        "model.add(layers.Dense(10, activation='softmax'))\n",
        "# model.add(layers.Softmax())"
      ],
      "metadata": {
        "id": "atS39i4d0aqW"
      },
      "execution_count": 17,
      "outputs": []
    },
    {
      "cell_type": "code",
      "source": [
        "model.compile(#optimizer='adam',\n",
        "              optimizer='adamax',\n",
        "              # optimizer='nadam',\n",
        "              # optimizer='rmsprop',\n",
        "              # optimizer='sgd',\n",
        "              # optimizer='adadelta',\n",
        "              # loss='binary_crossentropy',\n",
        "              loss=tf.keras.losses.SparseCategoricalCrossentropy(from_logits=True),\n",
        "              metrics=['sparse_categorical_accuracy'])"
      ],
      "metadata": {
        "id": "hENVaAC7ilNY"
      },
      "execution_count": 18,
      "outputs": []
    },
    {
      "cell_type": "code",
      "source": [
        "# model.fit(train_images, train_labels, epochs=20)\n",
        "history = model.fit(train_images,\n",
        "                    train_labels,\n",
        "                    epochs=120,\n",
        "                    batch_size=128,\n",
        "                    validation_data=(test_images, test_labels))\n",
        "test_loss, test_acc = model.evaluate(test_images, test_labels)\n",
        "print('\\nTest accuracy:', test_acc)"
      ],
      "metadata": {
        "id": "FH8HcMNm233I",
        "outputId": "f7221e18-00f2-4da7-9f2c-98919af46629",
        "colab": {
          "base_uri": "https://localhost:8080/"
        }
      },
      "execution_count": 19,
      "outputs": [
        {
          "output_type": "stream",
          "name": "stdout",
          "text": [
            "Epoch 1/120\n",
            "469/469 [==============================] - 15s 30ms/step - loss: 0.6429 - sparse_categorical_accuracy: 0.7758 - val_loss: 0.4894 - val_sparse_categorical_accuracy: 0.8268\n",
            "Epoch 2/120\n",
            "469/469 [==============================] - 10s 20ms/step - loss: 0.4822 - sparse_categorical_accuracy: 0.8290 - val_loss: 0.4289 - val_sparse_categorical_accuracy: 0.8502\n",
            "Epoch 3/120\n",
            "469/469 [==============================] - 11s 24ms/step - loss: 0.4448 - sparse_categorical_accuracy: 0.8440 - val_loss: 0.4154 - val_sparse_categorical_accuracy: 0.8562\n",
            "Epoch 4/120\n",
            "469/469 [==============================] - 11s 24ms/step - loss: 0.4179 - sparse_categorical_accuracy: 0.8512 - val_loss: 0.3966 - val_sparse_categorical_accuracy: 0.8600\n",
            "Epoch 5/120\n",
            "469/469 [==============================] - 12s 25ms/step - loss: 0.4017 - sparse_categorical_accuracy: 0.8579 - val_loss: 0.3787 - val_sparse_categorical_accuracy: 0.8664\n",
            "Epoch 6/120\n",
            "469/469 [==============================] - 10s 22ms/step - loss: 0.3872 - sparse_categorical_accuracy: 0.8623 - val_loss: 0.3776 - val_sparse_categorical_accuracy: 0.8674\n",
            "Epoch 7/120\n",
            "469/469 [==============================] - 10s 22ms/step - loss: 0.3771 - sparse_categorical_accuracy: 0.8653 - val_loss: 0.3741 - val_sparse_categorical_accuracy: 0.8687\n",
            "Epoch 8/120\n",
            "469/469 [==============================] - 11s 24ms/step - loss: 0.3657 - sparse_categorical_accuracy: 0.8687 - val_loss: 0.3615 - val_sparse_categorical_accuracy: 0.8735\n",
            "Epoch 9/120\n",
            "469/469 [==============================] - 11s 24ms/step - loss: 0.3608 - sparse_categorical_accuracy: 0.8715 - val_loss: 0.3629 - val_sparse_categorical_accuracy: 0.8737\n",
            "Epoch 10/120\n",
            "469/469 [==============================] - 11s 23ms/step - loss: 0.3543 - sparse_categorical_accuracy: 0.8730 - val_loss: 0.3524 - val_sparse_categorical_accuracy: 0.8774\n",
            "Epoch 11/120\n",
            "469/469 [==============================] - 10s 22ms/step - loss: 0.3481 - sparse_categorical_accuracy: 0.8745 - val_loss: 0.3441 - val_sparse_categorical_accuracy: 0.8800\n",
            "Epoch 12/120\n",
            "469/469 [==============================] - 11s 24ms/step - loss: 0.3431 - sparse_categorical_accuracy: 0.8772 - val_loss: 0.3420 - val_sparse_categorical_accuracy: 0.8777\n",
            "Epoch 13/120\n",
            "469/469 [==============================] - 11s 25ms/step - loss: 0.3384 - sparse_categorical_accuracy: 0.8786 - val_loss: 0.3397 - val_sparse_categorical_accuracy: 0.8831\n",
            "Epoch 14/120\n",
            "469/469 [==============================] - 12s 25ms/step - loss: 0.3319 - sparse_categorical_accuracy: 0.8818 - val_loss: 0.3435 - val_sparse_categorical_accuracy: 0.8815\n",
            "Epoch 15/120\n",
            "469/469 [==============================] - 11s 23ms/step - loss: 0.3265 - sparse_categorical_accuracy: 0.8828 - val_loss: 0.3453 - val_sparse_categorical_accuracy: 0.8764\n",
            "Epoch 16/120\n",
            "469/469 [==============================] - 11s 23ms/step - loss: 0.3230 - sparse_categorical_accuracy: 0.8842 - val_loss: 0.3329 - val_sparse_categorical_accuracy: 0.8829\n",
            "Epoch 17/120\n",
            "469/469 [==============================] - 12s 25ms/step - loss: 0.3195 - sparse_categorical_accuracy: 0.8854 - val_loss: 0.3375 - val_sparse_categorical_accuracy: 0.8839\n",
            "Epoch 18/120\n",
            "469/469 [==============================] - 12s 25ms/step - loss: 0.3169 - sparse_categorical_accuracy: 0.8864 - val_loss: 0.3378 - val_sparse_categorical_accuracy: 0.8838\n",
            "Epoch 19/120\n",
            "469/469 [==============================] - 12s 25ms/step - loss: 0.3103 - sparse_categorical_accuracy: 0.8885 - val_loss: 0.3288 - val_sparse_categorical_accuracy: 0.8861\n",
            "Epoch 20/120\n",
            "469/469 [==============================] - 10s 21ms/step - loss: 0.3089 - sparse_categorical_accuracy: 0.8893 - val_loss: 0.3251 - val_sparse_categorical_accuracy: 0.8857\n",
            "Epoch 21/120\n",
            "469/469 [==============================] - 11s 24ms/step - loss: 0.3052 - sparse_categorical_accuracy: 0.8906 - val_loss: 0.3220 - val_sparse_categorical_accuracy: 0.8868\n",
            "Epoch 22/120\n",
            "469/469 [==============================] - 12s 25ms/step - loss: 0.3011 - sparse_categorical_accuracy: 0.8917 - val_loss: 0.3199 - val_sparse_categorical_accuracy: 0.8907\n",
            "Epoch 23/120\n",
            "469/469 [==============================] - 11s 24ms/step - loss: 0.2999 - sparse_categorical_accuracy: 0.8921 - val_loss: 0.3190 - val_sparse_categorical_accuracy: 0.8859\n",
            "Epoch 24/120\n",
            "469/469 [==============================] - 12s 25ms/step - loss: 0.2969 - sparse_categorical_accuracy: 0.8933 - val_loss: 0.3263 - val_sparse_categorical_accuracy: 0.8886\n",
            "Epoch 25/120\n",
            "469/469 [==============================] - 10s 21ms/step - loss: 0.2937 - sparse_categorical_accuracy: 0.8953 - val_loss: 0.3206 - val_sparse_categorical_accuracy: 0.8895\n",
            "Epoch 26/120\n",
            "469/469 [==============================] - 12s 25ms/step - loss: 0.2936 - sparse_categorical_accuracy: 0.8946 - val_loss: 0.3136 - val_sparse_categorical_accuracy: 0.8925\n",
            "Epoch 27/120\n",
            "469/469 [==============================] - 12s 25ms/step - loss: 0.2914 - sparse_categorical_accuracy: 0.8952 - val_loss: 0.3224 - val_sparse_categorical_accuracy: 0.8885\n",
            "Epoch 28/120\n",
            "469/469 [==============================] - 11s 24ms/step - loss: 0.2866 - sparse_categorical_accuracy: 0.8981 - val_loss: 0.3190 - val_sparse_categorical_accuracy: 0.8884\n",
            "Epoch 29/120\n",
            "469/469 [==============================] - 11s 24ms/step - loss: 0.2875 - sparse_categorical_accuracy: 0.8972 - val_loss: 0.3118 - val_sparse_categorical_accuracy: 0.8914\n",
            "Epoch 30/120\n",
            "469/469 [==============================] - 10s 22ms/step - loss: 0.2819 - sparse_categorical_accuracy: 0.8999 - val_loss: 0.3120 - val_sparse_categorical_accuracy: 0.8932\n",
            "Epoch 31/120\n",
            "469/469 [==============================] - 12s 25ms/step - loss: 0.2811 - sparse_categorical_accuracy: 0.9009 - val_loss: 0.3156 - val_sparse_categorical_accuracy: 0.8928\n",
            "Epoch 32/120\n",
            "469/469 [==============================] - 12s 25ms/step - loss: 0.2796 - sparse_categorical_accuracy: 0.8996 - val_loss: 0.3107 - val_sparse_categorical_accuracy: 0.8939\n",
            "Epoch 33/120\n",
            "469/469 [==============================] - 11s 24ms/step - loss: 0.2756 - sparse_categorical_accuracy: 0.9009 - val_loss: 0.3095 - val_sparse_categorical_accuracy: 0.8916\n",
            "Epoch 34/120\n",
            "469/469 [==============================] - 11s 23ms/step - loss: 0.2780 - sparse_categorical_accuracy: 0.9009 - val_loss: 0.3140 - val_sparse_categorical_accuracy: 0.8927\n",
            "Epoch 35/120\n",
            "469/469 [==============================] - 10s 22ms/step - loss: 0.2734 - sparse_categorical_accuracy: 0.9027 - val_loss: 0.3014 - val_sparse_categorical_accuracy: 0.8979\n",
            "Epoch 36/120\n",
            "469/469 [==============================] - 11s 24ms/step - loss: 0.2731 - sparse_categorical_accuracy: 0.9003 - val_loss: 0.3074 - val_sparse_categorical_accuracy: 0.8958\n",
            "Epoch 37/120\n",
            "469/469 [==============================] - 11s 24ms/step - loss: 0.2702 - sparse_categorical_accuracy: 0.9022 - val_loss: 0.3139 - val_sparse_categorical_accuracy: 0.8943\n",
            "Epoch 38/120\n",
            "469/469 [==============================] - 11s 24ms/step - loss: 0.2687 - sparse_categorical_accuracy: 0.9039 - val_loss: 0.3073 - val_sparse_categorical_accuracy: 0.8936\n",
            "Epoch 39/120\n",
            "469/469 [==============================] - 10s 21ms/step - loss: 0.2700 - sparse_categorical_accuracy: 0.9022 - val_loss: 0.3072 - val_sparse_categorical_accuracy: 0.8950\n",
            "Epoch 40/120\n",
            "469/469 [==============================] - 11s 23ms/step - loss: 0.2667 - sparse_categorical_accuracy: 0.9038 - val_loss: 0.3100 - val_sparse_categorical_accuracy: 0.8931\n",
            "Epoch 41/120\n",
            "469/469 [==============================] - 11s 24ms/step - loss: 0.2621 - sparse_categorical_accuracy: 0.9074 - val_loss: 0.3063 - val_sparse_categorical_accuracy: 0.8956\n",
            "Epoch 42/120\n",
            "469/469 [==============================] - 11s 24ms/step - loss: 0.2642 - sparse_categorical_accuracy: 0.9050 - val_loss: 0.3078 - val_sparse_categorical_accuracy: 0.8965\n",
            "Epoch 43/120\n",
            "469/469 [==============================] - 11s 24ms/step - loss: 0.2596 - sparse_categorical_accuracy: 0.9077 - val_loss: 0.3088 - val_sparse_categorical_accuracy: 0.8938\n",
            "Epoch 44/120\n",
            "469/469 [==============================] - 10s 21ms/step - loss: 0.2609 - sparse_categorical_accuracy: 0.9070 - val_loss: 0.3068 - val_sparse_categorical_accuracy: 0.8975\n",
            "Epoch 45/120\n",
            "469/469 [==============================] - 11s 24ms/step - loss: 0.2592 - sparse_categorical_accuracy: 0.9066 - val_loss: 0.3023 - val_sparse_categorical_accuracy: 0.8964\n",
            "Epoch 46/120\n",
            "469/469 [==============================] - 11s 24ms/step - loss: 0.2572 - sparse_categorical_accuracy: 0.9078 - val_loss: 0.2984 - val_sparse_categorical_accuracy: 0.9010\n",
            "Epoch 47/120\n",
            "469/469 [==============================] - 11s 24ms/step - loss: 0.2563 - sparse_categorical_accuracy: 0.9084 - val_loss: 0.3085 - val_sparse_categorical_accuracy: 0.8963\n",
            "Epoch 48/120\n",
            "469/469 [==============================] - 10s 22ms/step - loss: 0.2560 - sparse_categorical_accuracy: 0.9094 - val_loss: 0.3001 - val_sparse_categorical_accuracy: 0.8962\n",
            "Epoch 49/120\n",
            "469/469 [==============================] - 13s 29ms/step - loss: 0.2528 - sparse_categorical_accuracy: 0.9105 - val_loss: 0.3008 - val_sparse_categorical_accuracy: 0.8996\n",
            "Epoch 50/120\n",
            "469/469 [==============================] - 11s 24ms/step - loss: 0.2529 - sparse_categorical_accuracy: 0.9091 - val_loss: 0.3066 - val_sparse_categorical_accuracy: 0.8976\n",
            "Epoch 51/120\n",
            "469/469 [==============================] - 11s 24ms/step - loss: 0.2480 - sparse_categorical_accuracy: 0.9115 - val_loss: 0.3058 - val_sparse_categorical_accuracy: 0.8980\n",
            "Epoch 52/120\n",
            "469/469 [==============================] - 11s 24ms/step - loss: 0.2494 - sparse_categorical_accuracy: 0.9100 - val_loss: 0.3075 - val_sparse_categorical_accuracy: 0.8965\n",
            "Epoch 53/120\n",
            "469/469 [==============================] - 11s 23ms/step - loss: 0.2507 - sparse_categorical_accuracy: 0.9096 - val_loss: 0.3008 - val_sparse_categorical_accuracy: 0.8996\n",
            "Epoch 54/120\n",
            "469/469 [==============================] - 10s 22ms/step - loss: 0.2496 - sparse_categorical_accuracy: 0.9104 - val_loss: 0.2936 - val_sparse_categorical_accuracy: 0.9006\n",
            "Epoch 55/120\n",
            "469/469 [==============================] - 11s 24ms/step - loss: 0.2444 - sparse_categorical_accuracy: 0.9132 - val_loss: 0.3006 - val_sparse_categorical_accuracy: 0.9012\n",
            "Epoch 56/120\n",
            "469/469 [==============================] - 14s 31ms/step - loss: 0.2469 - sparse_categorical_accuracy: 0.9120 - val_loss: 0.3021 - val_sparse_categorical_accuracy: 0.8989\n",
            "Epoch 57/120\n",
            "469/469 [==============================] - 12s 25ms/step - loss: 0.2446 - sparse_categorical_accuracy: 0.9143 - val_loss: 0.3013 - val_sparse_categorical_accuracy: 0.8996\n",
            "Epoch 58/120\n",
            "469/469 [==============================] - 10s 21ms/step - loss: 0.2429 - sparse_categorical_accuracy: 0.9135 - val_loss: 0.2995 - val_sparse_categorical_accuracy: 0.9012\n",
            "Epoch 59/120\n",
            "469/469 [==============================] - 11s 24ms/step - loss: 0.2419 - sparse_categorical_accuracy: 0.9135 - val_loss: 0.3020 - val_sparse_categorical_accuracy: 0.8985\n",
            "Epoch 60/120\n",
            "469/469 [==============================] - 11s 24ms/step - loss: 0.2410 - sparse_categorical_accuracy: 0.9133 - val_loss: 0.3043 - val_sparse_categorical_accuracy: 0.8990\n",
            "Epoch 61/120\n",
            "469/469 [==============================] - 11s 24ms/step - loss: 0.2394 - sparse_categorical_accuracy: 0.9138 - val_loss: 0.3005 - val_sparse_categorical_accuracy: 0.9005\n",
            "Epoch 62/120\n",
            "469/469 [==============================] - 11s 23ms/step - loss: 0.2372 - sparse_categorical_accuracy: 0.9159 - val_loss: 0.3014 - val_sparse_categorical_accuracy: 0.9021\n",
            "Epoch 63/120\n",
            "469/469 [==============================] - 10s 22ms/step - loss: 0.2394 - sparse_categorical_accuracy: 0.9159 - val_loss: 0.3022 - val_sparse_categorical_accuracy: 0.8995\n",
            "Epoch 64/120\n",
            "469/469 [==============================] - 11s 24ms/step - loss: 0.2386 - sparse_categorical_accuracy: 0.9153 - val_loss: 0.2973 - val_sparse_categorical_accuracy: 0.9005\n",
            "Epoch 65/120\n",
            "469/469 [==============================] - 11s 24ms/step - loss: 0.2377 - sparse_categorical_accuracy: 0.9147 - val_loss: 0.2953 - val_sparse_categorical_accuracy: 0.9014\n",
            "Epoch 66/120\n",
            "469/469 [==============================] - 11s 24ms/step - loss: 0.2355 - sparse_categorical_accuracy: 0.9162 - val_loss: 0.2988 - val_sparse_categorical_accuracy: 0.9005\n",
            "Epoch 67/120\n",
            "469/469 [==============================] - 10s 21ms/step - loss: 0.2369 - sparse_categorical_accuracy: 0.9150 - val_loss: 0.3012 - val_sparse_categorical_accuracy: 0.8995\n",
            "Epoch 68/120\n",
            "469/469 [==============================] - 11s 24ms/step - loss: 0.2353 - sparse_categorical_accuracy: 0.9169 - val_loss: 0.2978 - val_sparse_categorical_accuracy: 0.9010\n",
            "Epoch 69/120\n",
            "469/469 [==============================] - 11s 24ms/step - loss: 0.2319 - sparse_categorical_accuracy: 0.9178 - val_loss: 0.2957 - val_sparse_categorical_accuracy: 0.9035\n",
            "Epoch 70/120\n",
            "469/469 [==============================] - 11s 24ms/step - loss: 0.2328 - sparse_categorical_accuracy: 0.9174 - val_loss: 0.2982 - val_sparse_categorical_accuracy: 0.9013\n",
            "Epoch 71/120\n",
            "469/469 [==============================] - 11s 23ms/step - loss: 0.2298 - sparse_categorical_accuracy: 0.9187 - val_loss: 0.3037 - val_sparse_categorical_accuracy: 0.8986\n",
            "Epoch 72/120\n",
            "469/469 [==============================] - 10s 21ms/step - loss: 0.2299 - sparse_categorical_accuracy: 0.9184 - val_loss: 0.3037 - val_sparse_categorical_accuracy: 0.9019\n",
            "Epoch 73/120\n",
            "469/469 [==============================] - 11s 24ms/step - loss: 0.2318 - sparse_categorical_accuracy: 0.9183 - val_loss: 0.3058 - val_sparse_categorical_accuracy: 0.8989\n",
            "Epoch 74/120\n",
            "469/469 [==============================] - 11s 24ms/step - loss: 0.2279 - sparse_categorical_accuracy: 0.9195 - val_loss: 0.3001 - val_sparse_categorical_accuracy: 0.9049\n",
            "Epoch 75/120\n",
            "469/469 [==============================] - 11s 24ms/step - loss: 0.2276 - sparse_categorical_accuracy: 0.9189 - val_loss: 0.3021 - val_sparse_categorical_accuracy: 0.9000\n",
            "Epoch 76/120\n",
            "469/469 [==============================] - 10s 20ms/step - loss: 0.2281 - sparse_categorical_accuracy: 0.9187 - val_loss: 0.3010 - val_sparse_categorical_accuracy: 0.9021\n",
            "Epoch 77/120\n",
            "469/469 [==============================] - 11s 24ms/step - loss: 0.2276 - sparse_categorical_accuracy: 0.9198 - val_loss: 0.3008 - val_sparse_categorical_accuracy: 0.9032\n",
            "Epoch 78/120\n",
            "469/469 [==============================] - 11s 24ms/step - loss: 0.2267 - sparse_categorical_accuracy: 0.9201 - val_loss: 0.2987 - val_sparse_categorical_accuracy: 0.9025\n",
            "Epoch 79/120\n",
            "469/469 [==============================] - 11s 24ms/step - loss: 0.2233 - sparse_categorical_accuracy: 0.9211 - val_loss: 0.2950 - val_sparse_categorical_accuracy: 0.9027\n",
            "Epoch 80/120\n",
            "469/469 [==============================] - 10s 21ms/step - loss: 0.2250 - sparse_categorical_accuracy: 0.9206 - val_loss: 0.3041 - val_sparse_categorical_accuracy: 0.9004\n",
            "Epoch 81/120\n",
            "469/469 [==============================] - 11s 23ms/step - loss: 0.2254 - sparse_categorical_accuracy: 0.9200 - val_loss: 0.3031 - val_sparse_categorical_accuracy: 0.8973\n",
            "Epoch 82/120\n",
            "469/469 [==============================] - 11s 24ms/step - loss: 0.2255 - sparse_categorical_accuracy: 0.9195 - val_loss: 0.3053 - val_sparse_categorical_accuracy: 0.9007\n",
            "Epoch 83/120\n",
            "469/469 [==============================] - 11s 24ms/step - loss: 0.2228 - sparse_categorical_accuracy: 0.9215 - val_loss: 0.2998 - val_sparse_categorical_accuracy: 0.9033\n",
            "Epoch 84/120\n",
            "469/469 [==============================] - 10s 21ms/step - loss: 0.2234 - sparse_categorical_accuracy: 0.9200 - val_loss: 0.3060 - val_sparse_categorical_accuracy: 0.8998\n",
            "Epoch 85/120\n",
            "469/469 [==============================] - 11s 23ms/step - loss: 0.2210 - sparse_categorical_accuracy: 0.9225 - val_loss: 0.3039 - val_sparse_categorical_accuracy: 0.9000\n",
            "Epoch 86/120\n",
            "469/469 [==============================] - 11s 23ms/step - loss: 0.2228 - sparse_categorical_accuracy: 0.9205 - val_loss: 0.3021 - val_sparse_categorical_accuracy: 0.9013\n",
            "Epoch 87/120\n",
            "469/469 [==============================] - 11s 23ms/step - loss: 0.2190 - sparse_categorical_accuracy: 0.9225 - val_loss: 0.3003 - val_sparse_categorical_accuracy: 0.9052\n",
            "Epoch 88/120\n",
            "469/469 [==============================] - 10s 20ms/step - loss: 0.2188 - sparse_categorical_accuracy: 0.9236 - val_loss: 0.3018 - val_sparse_categorical_accuracy: 0.9025\n",
            "Epoch 89/120\n",
            "469/469 [==============================] - 11s 23ms/step - loss: 0.2179 - sparse_categorical_accuracy: 0.9245 - val_loss: 0.3023 - val_sparse_categorical_accuracy: 0.9003\n",
            "Epoch 90/120\n",
            "469/469 [==============================] - 11s 23ms/step - loss: 0.2214 - sparse_categorical_accuracy: 0.9212 - val_loss: 0.3059 - val_sparse_categorical_accuracy: 0.9010\n",
            "Epoch 91/120\n",
            "469/469 [==============================] - 11s 24ms/step - loss: 0.2179 - sparse_categorical_accuracy: 0.9243 - val_loss: 0.3005 - val_sparse_categorical_accuracy: 0.9028\n",
            "Epoch 92/120\n",
            "469/469 [==============================] - 11s 23ms/step - loss: 0.2160 - sparse_categorical_accuracy: 0.9245 - val_loss: 0.3018 - val_sparse_categorical_accuracy: 0.9015\n",
            "Epoch 93/120\n",
            "469/469 [==============================] - 10s 22ms/step - loss: 0.2155 - sparse_categorical_accuracy: 0.9243 - val_loss: 0.3015 - val_sparse_categorical_accuracy: 0.9021\n",
            "Epoch 94/120\n",
            "469/469 [==============================] - 11s 23ms/step - loss: 0.2176 - sparse_categorical_accuracy: 0.9231 - val_loss: 0.3037 - val_sparse_categorical_accuracy: 0.9031\n",
            "Epoch 95/120\n",
            "469/469 [==============================] - 11s 23ms/step - loss: 0.2154 - sparse_categorical_accuracy: 0.9249 - val_loss: 0.2990 - val_sparse_categorical_accuracy: 0.9012\n",
            "Epoch 96/120\n",
            "469/469 [==============================] - 10s 22ms/step - loss: 0.2156 - sparse_categorical_accuracy: 0.9247 - val_loss: 0.2959 - val_sparse_categorical_accuracy: 0.9059\n",
            "Epoch 97/120\n",
            "469/469 [==============================] - 10s 21ms/step - loss: 0.2143 - sparse_categorical_accuracy: 0.9241 - val_loss: 0.3041 - val_sparse_categorical_accuracy: 0.9009\n",
            "Epoch 98/120\n",
            "469/469 [==============================] - 11s 23ms/step - loss: 0.2128 - sparse_categorical_accuracy: 0.9245 - val_loss: 0.3055 - val_sparse_categorical_accuracy: 0.9025\n",
            "Epoch 99/120\n",
            "469/469 [==============================] - 11s 23ms/step - loss: 0.2128 - sparse_categorical_accuracy: 0.9257 - val_loss: 0.3004 - val_sparse_categorical_accuracy: 0.9027\n",
            "Epoch 100/120\n",
            "469/469 [==============================] - 12s 25ms/step - loss: 0.2142 - sparse_categorical_accuracy: 0.9245 - val_loss: 0.2980 - val_sparse_categorical_accuracy: 0.9073\n",
            "Epoch 101/120\n",
            "469/469 [==============================] - 10s 21ms/step - loss: 0.2118 - sparse_categorical_accuracy: 0.9250 - val_loss: 0.3033 - val_sparse_categorical_accuracy: 0.9024\n",
            "Epoch 102/120\n",
            "469/469 [==============================] - 11s 23ms/step - loss: 0.2126 - sparse_categorical_accuracy: 0.9251 - val_loss: 0.2980 - val_sparse_categorical_accuracy: 0.9036\n",
            "Epoch 103/120\n",
            "469/469 [==============================] - 11s 23ms/step - loss: 0.2117 - sparse_categorical_accuracy: 0.9257 - val_loss: 0.3014 - val_sparse_categorical_accuracy: 0.9028\n",
            "Epoch 104/120\n",
            "469/469 [==============================] - 9s 19ms/step - loss: 0.2130 - sparse_categorical_accuracy: 0.9253 - val_loss: 0.3025 - val_sparse_categorical_accuracy: 0.9019\n",
            "Epoch 105/120\n",
            "469/469 [==============================] - 10s 21ms/step - loss: 0.2108 - sparse_categorical_accuracy: 0.9275 - val_loss: 0.3070 - val_sparse_categorical_accuracy: 0.9009\n",
            "Epoch 106/120\n",
            "469/469 [==============================] - 11s 23ms/step - loss: 0.2097 - sparse_categorical_accuracy: 0.9263 - val_loss: 0.3083 - val_sparse_categorical_accuracy: 0.9002\n",
            "Epoch 107/120\n",
            "469/469 [==============================] - 10s 22ms/step - loss: 0.2093 - sparse_categorical_accuracy: 0.9259 - val_loss: 0.3061 - val_sparse_categorical_accuracy: 0.9021\n",
            "Epoch 108/120\n",
            "469/469 [==============================] - 9s 20ms/step - loss: 0.2103 - sparse_categorical_accuracy: 0.9262 - val_loss: 0.3030 - val_sparse_categorical_accuracy: 0.9011\n",
            "Epoch 109/120\n",
            "469/469 [==============================] - 10s 22ms/step - loss: 0.2077 - sparse_categorical_accuracy: 0.9284 - val_loss: 0.3007 - val_sparse_categorical_accuracy: 0.9047\n",
            "Epoch 110/120\n",
            "469/469 [==============================] - 11s 23ms/step - loss: 0.2084 - sparse_categorical_accuracy: 0.9273 - val_loss: 0.3041 - val_sparse_categorical_accuracy: 0.9019\n",
            "Epoch 111/120\n",
            "469/469 [==============================] - 10s 22ms/step - loss: 0.2081 - sparse_categorical_accuracy: 0.9271 - val_loss: 0.2963 - val_sparse_categorical_accuracy: 0.9039\n",
            "Epoch 112/120\n",
            "469/469 [==============================] - 10s 21ms/step - loss: 0.2068 - sparse_categorical_accuracy: 0.9280 - val_loss: 0.3060 - val_sparse_categorical_accuracy: 0.9016\n",
            "Epoch 113/120\n",
            "469/469 [==============================] - 11s 23ms/step - loss: 0.2082 - sparse_categorical_accuracy: 0.9279 - val_loss: 0.3025 - val_sparse_categorical_accuracy: 0.9009\n",
            "Epoch 114/120\n",
            "469/469 [==============================] - 11s 23ms/step - loss: 0.2077 - sparse_categorical_accuracy: 0.9277 - val_loss: 0.3056 - val_sparse_categorical_accuracy: 0.9035\n",
            "Epoch 115/120\n",
            "469/469 [==============================] - 9s 20ms/step - loss: 0.2051 - sparse_categorical_accuracy: 0.9290 - val_loss: 0.3024 - val_sparse_categorical_accuracy: 0.9044\n",
            "Epoch 116/120\n",
            "469/469 [==============================] - 11s 22ms/step - loss: 0.2042 - sparse_categorical_accuracy: 0.9286 - val_loss: 0.3025 - val_sparse_categorical_accuracy: 0.9027\n",
            "Epoch 117/120\n",
            "469/469 [==============================] - 10s 22ms/step - loss: 0.2070 - sparse_categorical_accuracy: 0.9278 - val_loss: 0.2992 - val_sparse_categorical_accuracy: 0.9039\n",
            "Epoch 118/120\n",
            "469/469 [==============================] - 10s 21ms/step - loss: 0.2045 - sparse_categorical_accuracy: 0.9284 - val_loss: 0.3011 - val_sparse_categorical_accuracy: 0.8995\n",
            "Epoch 119/120\n",
            "469/469 [==============================] - 9s 19ms/step - loss: 0.2019 - sparse_categorical_accuracy: 0.9297 - val_loss: 0.2976 - val_sparse_categorical_accuracy: 0.9051\n",
            "Epoch 120/120\n",
            "469/469 [==============================] - 10s 22ms/step - loss: 0.2039 - sparse_categorical_accuracy: 0.9293 - val_loss: 0.3037 - val_sparse_categorical_accuracy: 0.9063\n",
            "313/313 [==============================] - 1s 3ms/step - loss: 0.3037 - sparse_categorical_accuracy: 0.9063\n",
            "\n",
            "Test accuracy: 0.9063000082969666\n"
          ]
        }
      ]
    },
    {
      "cell_type": "code",
      "source": [
        "history_dict = history.history\n",
        "loss_values = history_dict['loss']\n",
        "val_loss_values = history_dict['val_loss']\n",
        "\n",
        "epochs = range(1, len(history_dict['sparse_categorical_accuracy']) + 1)\n",
        "\n",
        "plt.figure(figsize=(10, 5))\n",
        "plt.plot(epochs, loss_values, 'bo', label='Training loss')\n",
        "plt.plot(epochs, val_loss_values, 'b', label='Validation loss')\n",
        "plt.title('Training and validation loss')\n",
        "plt.xlabel('Epochs')\n",
        "plt.ylabel('Loss')\n",
        "plt.legend()\n",
        "plt.show()\n",
        "\n",
        "plt.clf()\n",
        "plt.figure(figsize=(10, 5))\n",
        "val_acc_values = history_dict['sparse_categorical_accuracy']\n",
        "plt.plot(epochs, history_dict['sparse_categorical_accuracy'], 'bo', label='Training acc')\n",
        "plt.plot(epochs, history_dict['val_accuracy'], 'b', label='Validation acc')\n",
        "plt.title('Training and validation accuracy')\n",
        "plt.xlabel('Epochs')\n",
        "plt.ylabel('Accuracy')\n",
        "plt.legend()"
      ],
      "metadata": {
        "colab": {
          "base_uri": "https://localhost:8080/",
          "height": 1000
        },
        "id": "2Ll_5sGlXKMH",
        "outputId": "68378fcb-2d47-42b6-8779-c4ef298ca9cb"
      },
      "execution_count": 23,
      "outputs": [
        {
          "output_type": "display_data",
          "data": {
            "text/plain": [
              "<Figure size 1000x500 with 1 Axes>"
            ],
            "image/png": "[encoded data removed]"
          },
          "metadata": {}
        },
        {
          "output_type": "error",
          "ename": "KeyError",
          "evalue": "ignored",
          "traceback": [
            "\u001b[0;31m---------------------------------------------------------------------------\u001b[0m",
            "\u001b[0;31mKeyError\u001b[0m                                  Traceback (most recent call last)",
            "\u001b[0;32m<ipython-input-23-221c1068ebcf>\u001b[0m in \u001b[0;36m<cell line: 20>\u001b[0;34m()\u001b[0m\n\u001b[1;32m     18\u001b[0m \u001b[0mval_acc_values\u001b[0m \u001b[0;34m=\u001b[0m \u001b[0mhistory_dict\u001b[0m\u001b[0;34m[\u001b[0m\u001b[0;34m'sparse_categorical_accuracy'\u001b[0m\u001b[0;34m]\u001b[0m\u001b[0;34m\u001b[0m\u001b[0;34m\u001b[0m\u001b[0m\n\u001b[1;32m     19\u001b[0m \u001b[0mplt\u001b[0m\u001b[0;34m.\u001b[0m\u001b[0mplot\u001b[0m\u001b[0;34m(\u001b[0m\u001b[0mepochs\u001b[0m\u001b[0;34m,\u001b[0m \u001b[0mhistory_dict\u001b[0m\u001b[0;34m[\u001b[0m\u001b[0;34m'sparse_categorical_accuracy'\u001b[0m\u001b[0;34m]\u001b[0m\u001b[0;34m,\u001b[0m \u001b[0;34m'bo'\u001b[0m\u001b[0;34m,\u001b[0m \u001b[0mlabel\u001b[0m\u001b[0;34m=\u001b[0m\u001b[0;34m'Training acc'\u001b[0m\u001b[0;34m)\u001b[0m\u001b[0;34m\u001b[0m\u001b[0;34m\u001b[0m\u001b[0m\n\u001b[0;32m---> 20\u001b[0;31m \u001b[0mplt\u001b[0m\u001b[0;34m.\u001b[0m\u001b[0mplot\u001b[0m\u001b[0;34m(\u001b[0m\u001b[0mepochs\u001b[0m\u001b[0;34m,\u001b[0m \u001b[0mhistory_dict\u001b[0m\u001b[0;34m[\u001b[0m\u001b[0;34m'val_accuracy'\u001b[0m\u001b[0;34m]\u001b[0m\u001b[0;34m,\u001b[0m \u001b[0;34m'b'\u001b[0m\u001b[0;34m,\u001b[0m \u001b[0mlabel\u001b[0m\u001b[0;34m=\u001b[0m\u001b[0;34m'Validation acc'\u001b[0m\u001b[0;34m)\u001b[0m\u001b[0;34m\u001b[0m\u001b[0;34m\u001b[0m\u001b[0m\n\u001b[0m\u001b[1;32m     21\u001b[0m \u001b[0mplt\u001b[0m\u001b[0;34m.\u001b[0m\u001b[0mtitle\u001b[0m\u001b[0;34m(\u001b[0m\u001b[0;34m'Training and validation accuracy'\u001b[0m\u001b[0;34m)\u001b[0m\u001b[0;34m\u001b[0m\u001b[0;34m\u001b[0m\u001b[0m\n\u001b[1;32m     22\u001b[0m \u001b[0mplt\u001b[0m\u001b[0;34m.\u001b[0m\u001b[0mxlabel\u001b[0m\u001b[0;34m(\u001b[0m\u001b[0;34m'Epochs'\u001b[0m\u001b[0;34m)\u001b[0m\u001b[0;34m\u001b[0m\u001b[0;34m\u001b[0m\u001b[0m\n",
            "\u001b[0;31mKeyError\u001b[0m: 'val_accuracy'"
          ]
        },
        {
          "output_type": "display_data",
          "data": {
            "text/plain": [
              "<Figure size 640x480 with 0 Axes>"
            ]
          },
          "metadata": {}
        },
        {
          "output_type": "display_data",
          "data": {
            "text/plain": [
              "<Figure size 1000x500 with 1 Axes>"
            ],
            "image/png": "[encoded data removed]"
          },
          "metadata": {}
        }
      ]
    },
    {
      "cell_type": "code",
      "source": [
        "probability_model = tf.keras.Sequential([model,\n",
        "                                         tf.keras.layers.Softmax()])"
      ],
      "metadata": {
        "id": "VzOdKAT_uV-f"
      },
      "execution_count": null,
      "outputs": []
    },
    {
      "cell_type": "code",
      "source": [
        "predictions = probability_model.predict(test_images)"
      ],
      "metadata": {
        "id": "f4is3NFruYom"
      },
      "execution_count": null,
      "outputs": []
    },
    {
      "cell_type": "code",
      "source": [
        "predictions[0]"
      ],
      "metadata": {
        "id": "82cigvlZudz_"
      },
      "execution_count": null,
      "outputs": []
    },
    {
      "cell_type": "code",
      "source": [
        "model.summary()"
      ],
      "metadata": {
        "id": "6RsQPHyYuNGe"
      },
      "execution_count": null,
      "outputs": []
    }
  ]
}