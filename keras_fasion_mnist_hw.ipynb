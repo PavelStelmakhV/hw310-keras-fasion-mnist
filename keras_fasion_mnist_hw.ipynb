{
  "nbformat": 4,
  "nbformat_minor": 0,
  "metadata": {
    "colab": {
      "provenance": [],
      "authorship_tag": "ABX9TyOXszVV1sRZNG5dRbjFhZ07",
      "include_colab_link": true
    },
    "kernelspec": {
      "name": "python3",
      "display_name": "Python 3"
    },
    "language_info": {
      "name": "python"
    }
  },
  "cells": [
    {
      "cell_type": "markdown",
      "metadata": {
        "id": "view-in-github",
        "colab_type": "text"
      },
      "source": [
        "<a href=\"https://colab.research.google.com/github/PavelStelmakhV/hw310-keras-fasion-mnist/blob/main/keras_fasion_mnist_hw.ipynb\" target=\"_parent\"><img src=\"https://colab.research.google.com/assets/colab-badge.svg\" alt=\"Open In Colab\"/></a>"
      ]
    },
    {
      "cell_type": "code",
      "execution_count": 79,
      "metadata": {
        "id": "vv7w0bgAVQPO"
      },
      "outputs": [],
      "source": [
        "import tensorflow as tf\n",
        "\n",
        "import numpy as np\n",
        "import matplotlib.pyplot as plt\n",
        "from keras import layers\n",
        "from keras import regularizers"
      ]
    },
    {
      "cell_type": "code",
      "source": [
        "fashion_mnist = tf.keras.datasets.fashion_mnist\n",
        "\n",
        "(x_train, y_train), (x_test, y_test) = fashion_mnist.load_data()"
      ],
      "metadata": {
        "id": "mOpywsNAzfGB"
      },
      "execution_count": 80,
      "outputs": []
    },
    {
      "cell_type": "code",
      "source": [
        "# x_train = x_train.reshape(60000, 784).astype('float32') / 255\n",
        "# x_test = x_test.reshape(10000, 784).astype('float32') / 255\n",
        "x_train = x_train.astype('float32') / 255\n",
        "x_test = x_test.astype('float32') / 255\n",
        "\n",
        "y_train = y_train.astype('float32')\n",
        "y_test = y_test.astype('float32')\n",
        "\n",
        "# Перемешаем тренировочные данные\n",
        "# train_data = tf.data.Dataset.from_tensor_slices((x_train, y_train))\n",
        "# train_data = train_data.repeat().shuffle(5000).batch(batch_size).prefetch(1)"
      ],
      "metadata": {
        "id": "t2gucjsJ0KUi"
      },
      "execution_count": 81,
      "outputs": []
    },
    {
      "cell_type": "code",
      "source": [
        "x_val = x_train[-10000:]\n",
        "y_val = y_train[-10000:]\n",
        "x_train = x_train[:-10000]\n",
        "y_train = y_train[:-10000]"
      ],
      "metadata": {
        "id": "fLPNXab5dHwO"
      },
      "execution_count": 82,
      "outputs": []
    },
    {
      "cell_type": "code",
      "source": [
        "model = tf.keras.Sequential()\n",
        "\n",
        "drop_out = 0.4\n",
        "lern_rat = 0.0000001\n",
        "neurons = 400\n",
        "\n",
        "model.add(layers.Flatten(input_shape=(28, 28)))\n",
        "# model.add(layers.Dropout(0.2))\n",
        "model.add(layers.Dense(neurons, activation='relu', kernel_regularizer=regularizers.l2(lern_rat)))\n",
        "model.add(layers.Dropout(drop_out))\n",
        "model.add(layers.Dense(neurons, activation='sigmoid', kernel_regularizer=regularizers.l2(lern_rat)))\n",
        "model.add(layers.Dropout(drop_out))\n",
        "\n",
        "model.add(layers.Dense(neurons, activation='relu', kernel_regularizer=regularizers.l2(lern_rat)))\n",
        "model.add(layers.Dropout(drop_out))\n",
        "model.add(layers.Dense(neurons, activation='sigmoid', kernel_regularizer=regularizers.l2(lern_rat)))\n",
        "model.add(layers.Dropout(drop_out))\n",
        "# model.add(layers.Dense(512, activation='relu', kernel_regularizer=regularizers.l2(lern_rat)))\n",
        "# model.add(layers.Dropout(drop_out))\n",
        "\n",
        "# model.add(layers.Dense(216, activation='relu', kernel_regularizer=regularizers.l2(0.001)))\n",
        "# model.add(layers.Dense(512, activation='sigmoid', kernel_regularizer=regularizers.l2(0.00001)))\n",
        "# model.add(layers.Dropout(0.5))\n",
        "# model.add(layers.Dense(512, activation='sigmoid', kernel_regularizer=regularizers.l2(0.00001)))\n",
        "# model.add(layers.Dropout(0.5))\n",
        "# model.add(layers.Dense(500, activation='sigmoid', kernel_regularizer=regularizers.l2(0.000001)))\n",
        "# model.add(layers.Dense(500, activation='relu', kernel_regularizer=regularizers.l2(0.000001)))\n",
        "# # model.add(layers.Dense(80, activation='relu', kernel_regularizer=regularizers.l2(0.001)))\n",
        "# model.add(layers.Dropout(0.5))\n",
        "# model.add(layers.Dense(500, activation='relu', kernel_regularizer=regularizers.l2(0.000001)))\n",
        "# model.add(layers.Dropout(0.5))\n",
        "# # model.add(layers.Dense(40, activation='relu', kernel_regularizer=regularizers.l2(0.001)))\n",
        "\n",
        "model.add(layers.Dense(10, activation='softmax'))\n",
        "# model.add(layers.Softmax())"
      ],
      "metadata": {
        "id": "atS39i4d0aqW"
      },
      "execution_count": 83,
      "outputs": []
    },
    {
      "cell_type": "code",
      "source": [
        "model.compile(#optimizer='adam',\n",
        "              optimizer='adamax',\n",
        "              # optimizer='nadam',\n",
        "              # optimizer='rmsprop',\n",
        "              # optimizer='sgd',\n",
        "              # optimizer='adadelta',\n",
        "              # loss='binary_crossentropy',\n",
        "              loss=tf.keras.losses.SparseCategoricalCrossentropy(),\n",
        "              metrics=['sparse_categorical_accuracy'])"
      ],
      "metadata": {
        "id": "hENVaAC7ilNY"
      },
      "execution_count": 84,
      "outputs": []
    },
    {
      "cell_type": "code",
      "source": [
        "# model.fit(train_images, train_labels, epochs=20)\n",
        "history = model.fit(x_train, y_train,\n",
        "                    epochs=60,\n",
        "                    batch_size=500,\n",
        "                    validation_data=(x_val, y_val))\n",
        "test_loss, test_acc = model.evaluate(x_test, y_test)\n",
        "print('\\nTest accuracy:', test_acc)"
      ],
      "metadata": {
        "id": "FH8HcMNm233I",
        "outputId": "b10f7bb7-4d26-455a-a003-c2d886ae1a85",
        "colab": {
          "base_uri": "https://localhost:8080/"
        }
      },
      "execution_count": 85,
      "outputs": [
        {
          "output_type": "stream",
          "name": "stdout",
          "text": [
            "Epoch 1/60\n",
            "100/100 [==============================] - 7s 58ms/step - loss: 1.3854 - sparse_categorical_accuracy: 0.4609 - val_loss: 0.7144 - val_sparse_categorical_accuracy: 0.7309\n",
            "Epoch 2/60\n",
            "100/100 [==============================] - 7s 69ms/step - loss: 0.7228 - sparse_categorical_accuracy: 0.7236 - val_loss: 0.5570 - val_sparse_categorical_accuracy: 0.7819\n",
            "Epoch 3/60\n",
            "100/100 [==============================] - 7s 71ms/step - loss: 0.6033 - sparse_categorical_accuracy: 0.7787 - val_loss: 0.4917 - val_sparse_categorical_accuracy: 0.8174\n",
            "Epoch 4/60\n",
            "100/100 [==============================] - 7s 73ms/step - loss: 0.5385 - sparse_categorical_accuracy: 0.8072 - val_loss: 0.4506 - val_sparse_categorical_accuracy: 0.8361\n",
            "Epoch 5/60\n",
            "100/100 [==============================] - 5s 53ms/step - loss: 0.5016 - sparse_categorical_accuracy: 0.8220 - val_loss: 0.4340 - val_sparse_categorical_accuracy: 0.8421\n",
            "Epoch 6/60\n",
            "100/100 [==============================] - 6s 63ms/step - loss: 0.4727 - sparse_categorical_accuracy: 0.8326 - val_loss: 0.4125 - val_sparse_categorical_accuracy: 0.8501\n",
            "Epoch 7/60\n",
            "100/100 [==============================] - 6s 55ms/step - loss: 0.4534 - sparse_categorical_accuracy: 0.8411 - val_loss: 0.3980 - val_sparse_categorical_accuracy: 0.8549\n",
            "Epoch 8/60\n",
            "100/100 [==============================] - 5s 52ms/step - loss: 0.4359 - sparse_categorical_accuracy: 0.8450 - val_loss: 0.3877 - val_sparse_categorical_accuracy: 0.8595\n",
            "Epoch 9/60\n",
            "100/100 [==============================] - 7s 70ms/step - loss: 0.4203 - sparse_categorical_accuracy: 0.8510 - val_loss: 0.3769 - val_sparse_categorical_accuracy: 0.8650\n",
            "Epoch 10/60\n",
            "100/100 [==============================] - 5s 52ms/step - loss: 0.4077 - sparse_categorical_accuracy: 0.8554 - val_loss: 0.3676 - val_sparse_categorical_accuracy: 0.8663\n",
            "Epoch 11/60\n",
            "100/100 [==============================] - 7s 67ms/step - loss: 0.3968 - sparse_categorical_accuracy: 0.8601 - val_loss: 0.3601 - val_sparse_categorical_accuracy: 0.8708\n",
            "Epoch 12/60\n",
            "100/100 [==============================] - 6s 56ms/step - loss: 0.3850 - sparse_categorical_accuracy: 0.8635 - val_loss: 0.3575 - val_sparse_categorical_accuracy: 0.8710\n",
            "Epoch 13/60\n",
            "100/100 [==============================] - 7s 65ms/step - loss: 0.3803 - sparse_categorical_accuracy: 0.8637 - val_loss: 0.3517 - val_sparse_categorical_accuracy: 0.8724\n",
            "Epoch 14/60\n",
            "100/100 [==============================] - 5s 53ms/step - loss: 0.3725 - sparse_categorical_accuracy: 0.8667 - val_loss: 0.3432 - val_sparse_categorical_accuracy: 0.8762\n",
            "Epoch 15/60\n",
            "100/100 [==============================] - 5s 52ms/step - loss: 0.3649 - sparse_categorical_accuracy: 0.8699 - val_loss: 0.3504 - val_sparse_categorical_accuracy: 0.8743\n",
            "Epoch 16/60\n",
            "100/100 [==============================] - 7s 70ms/step - loss: 0.3590 - sparse_categorical_accuracy: 0.8716 - val_loss: 0.3392 - val_sparse_categorical_accuracy: 0.8773\n",
            "Epoch 17/60\n",
            "100/100 [==============================] - 5s 52ms/step - loss: 0.3532 - sparse_categorical_accuracy: 0.8733 - val_loss: 0.3417 - val_sparse_categorical_accuracy: 0.8784\n",
            "Epoch 18/60\n",
            "100/100 [==============================] - 7s 67ms/step - loss: 0.3455 - sparse_categorical_accuracy: 0.8775 - val_loss: 0.3387 - val_sparse_categorical_accuracy: 0.8779\n",
            "Epoch 19/60\n",
            "100/100 [==============================] - 5s 52ms/step - loss: 0.3405 - sparse_categorical_accuracy: 0.8770 - val_loss: 0.3320 - val_sparse_categorical_accuracy: 0.8813\n",
            "Epoch 20/60\n",
            "100/100 [==============================] - 6s 64ms/step - loss: 0.3379 - sparse_categorical_accuracy: 0.8792 - val_loss: 0.3304 - val_sparse_categorical_accuracy: 0.8829\n",
            "Epoch 21/60\n",
            "100/100 [==============================] - 5s 53ms/step - loss: 0.3298 - sparse_categorical_accuracy: 0.8820 - val_loss: 0.3309 - val_sparse_categorical_accuracy: 0.8813\n",
            "Epoch 22/60\n",
            "100/100 [==============================] - 6s 55ms/step - loss: 0.3263 - sparse_categorical_accuracy: 0.8816 - val_loss: 0.3263 - val_sparse_categorical_accuracy: 0.8814\n",
            "Epoch 23/60\n",
            "100/100 [==============================] - 6s 64ms/step - loss: 0.3218 - sparse_categorical_accuracy: 0.8850 - val_loss: 0.3249 - val_sparse_categorical_accuracy: 0.8834\n",
            "Epoch 24/60\n",
            "100/100 [==============================] - 5s 52ms/step - loss: 0.3185 - sparse_categorical_accuracy: 0.8867 - val_loss: 0.3245 - val_sparse_categorical_accuracy: 0.8848\n",
            "Epoch 25/60\n",
            "100/100 [==============================] - 7s 68ms/step - loss: 0.3131 - sparse_categorical_accuracy: 0.8871 - val_loss: 0.3234 - val_sparse_categorical_accuracy: 0.8821\n",
            "Epoch 26/60\n",
            "100/100 [==============================] - 5s 52ms/step - loss: 0.3127 - sparse_categorical_accuracy: 0.8871 - val_loss: 0.3218 - val_sparse_categorical_accuracy: 0.8854\n",
            "Epoch 27/60\n",
            "100/100 [==============================] - 7s 67ms/step - loss: 0.3098 - sparse_categorical_accuracy: 0.8895 - val_loss: 0.3194 - val_sparse_categorical_accuracy: 0.8862\n",
            "Epoch 28/60\n",
            "100/100 [==============================] - 5s 52ms/step - loss: 0.3050 - sparse_categorical_accuracy: 0.8899 - val_loss: 0.3164 - val_sparse_categorical_accuracy: 0.8853\n",
            "Epoch 29/60\n",
            "100/100 [==============================] - 6s 55ms/step - loss: 0.3025 - sparse_categorical_accuracy: 0.8916 - val_loss: 0.3138 - val_sparse_categorical_accuracy: 0.8870\n",
            "Epoch 30/60\n",
            "100/100 [==============================] - 6s 64ms/step - loss: 0.2998 - sparse_categorical_accuracy: 0.8924 - val_loss: 0.3163 - val_sparse_categorical_accuracy: 0.8854\n",
            "Epoch 31/60\n",
            "100/100 [==============================] - 5s 52ms/step - loss: 0.2960 - sparse_categorical_accuracy: 0.8930 - val_loss: 0.3135 - val_sparse_categorical_accuracy: 0.8856\n",
            "Epoch 32/60\n",
            "100/100 [==============================] - 7s 67ms/step - loss: 0.2905 - sparse_categorical_accuracy: 0.8949 - val_loss: 0.3173 - val_sparse_categorical_accuracy: 0.8880\n",
            "Epoch 33/60\n",
            "100/100 [==============================] - 5s 52ms/step - loss: 0.2885 - sparse_categorical_accuracy: 0.8973 - val_loss: 0.3138 - val_sparse_categorical_accuracy: 0.8876\n",
            "Epoch 34/60\n",
            "100/100 [==============================] - 7s 67ms/step - loss: 0.2861 - sparse_categorical_accuracy: 0.8957 - val_loss: 0.3066 - val_sparse_categorical_accuracy: 0.8883\n",
            "Epoch 35/60\n",
            "100/100 [==============================] - 5s 52ms/step - loss: 0.2855 - sparse_categorical_accuracy: 0.8982 - val_loss: 0.3127 - val_sparse_categorical_accuracy: 0.8889\n",
            "Epoch 36/60\n",
            "100/100 [==============================] - 5s 55ms/step - loss: 0.2818 - sparse_categorical_accuracy: 0.8973 - val_loss: 0.3150 - val_sparse_categorical_accuracy: 0.8884\n",
            "Epoch 37/60\n",
            "100/100 [==============================] - 6s 64ms/step - loss: 0.2798 - sparse_categorical_accuracy: 0.8984 - val_loss: 0.3105 - val_sparse_categorical_accuracy: 0.8879\n",
            "Epoch 38/60\n",
            "100/100 [==============================] - 5s 52ms/step - loss: 0.2784 - sparse_categorical_accuracy: 0.8993 - val_loss: 0.3076 - val_sparse_categorical_accuracy: 0.8916\n",
            "Epoch 39/60\n",
            "100/100 [==============================] - 7s 70ms/step - loss: 0.2729 - sparse_categorical_accuracy: 0.9015 - val_loss: 0.3098 - val_sparse_categorical_accuracy: 0.8896\n",
            "Epoch 40/60\n",
            "100/100 [==============================] - 5s 52ms/step - loss: 0.2728 - sparse_categorical_accuracy: 0.9014 - val_loss: 0.3073 - val_sparse_categorical_accuracy: 0.8900\n",
            "Epoch 41/60\n",
            "100/100 [==============================] - 7s 67ms/step - loss: 0.2726 - sparse_categorical_accuracy: 0.9013 - val_loss: 0.3034 - val_sparse_categorical_accuracy: 0.8908\n",
            "Epoch 42/60\n",
            "100/100 [==============================] - 5s 52ms/step - loss: 0.2688 - sparse_categorical_accuracy: 0.9019 - val_loss: 0.3033 - val_sparse_categorical_accuracy: 0.8903\n",
            "Epoch 43/60\n",
            "100/100 [==============================] - 5s 55ms/step - loss: 0.2633 - sparse_categorical_accuracy: 0.9045 - val_loss: 0.3058 - val_sparse_categorical_accuracy: 0.8900\n",
            "Epoch 44/60\n",
            "100/100 [==============================] - 6s 63ms/step - loss: 0.2631 - sparse_categorical_accuracy: 0.9052 - val_loss: 0.3061 - val_sparse_categorical_accuracy: 0.8913\n",
            "Epoch 45/60\n",
            "100/100 [==============================] - 5s 53ms/step - loss: 0.2623 - sparse_categorical_accuracy: 0.9059 - val_loss: 0.3042 - val_sparse_categorical_accuracy: 0.8903\n",
            "Epoch 46/60\n",
            "100/100 [==============================] - 7s 67ms/step - loss: 0.2605 - sparse_categorical_accuracy: 0.9043 - val_loss: 0.3089 - val_sparse_categorical_accuracy: 0.8895\n",
            "Epoch 47/60\n",
            "100/100 [==============================] - 6s 55ms/step - loss: 0.2582 - sparse_categorical_accuracy: 0.9053 - val_loss: 0.3016 - val_sparse_categorical_accuracy: 0.8929\n",
            "Epoch 48/60\n",
            "100/100 [==============================] - 7s 70ms/step - loss: 0.2558 - sparse_categorical_accuracy: 0.9066 - val_loss: 0.3023 - val_sparse_categorical_accuracy: 0.8928\n",
            "Epoch 49/60\n",
            "100/100 [==============================] - 5s 52ms/step - loss: 0.2527 - sparse_categorical_accuracy: 0.9082 - val_loss: 0.3051 - val_sparse_categorical_accuracy: 0.8912\n",
            "Epoch 50/60\n",
            "100/100 [==============================] - 6s 59ms/step - loss: 0.2494 - sparse_categorical_accuracy: 0.9092 - val_loss: 0.3036 - val_sparse_categorical_accuracy: 0.8914\n",
            "Epoch 51/60\n",
            "100/100 [==============================] - 6s 63ms/step - loss: 0.2496 - sparse_categorical_accuracy: 0.9089 - val_loss: 0.3037 - val_sparse_categorical_accuracy: 0.8916\n",
            "Epoch 52/60\n",
            "100/100 [==============================] - 5s 53ms/step - loss: 0.2490 - sparse_categorical_accuracy: 0.9090 - val_loss: 0.3036 - val_sparse_categorical_accuracy: 0.8929\n",
            "Epoch 53/60\n",
            "100/100 [==============================] - 7s 67ms/step - loss: 0.2452 - sparse_categorical_accuracy: 0.9115 - val_loss: 0.3044 - val_sparse_categorical_accuracy: 0.8917\n",
            "Epoch 54/60\n",
            "100/100 [==============================] - 5s 52ms/step - loss: 0.2447 - sparse_categorical_accuracy: 0.9121 - val_loss: 0.3004 - val_sparse_categorical_accuracy: 0.8946\n",
            "Epoch 55/60\n",
            "100/100 [==============================] - 7s 67ms/step - loss: 0.2419 - sparse_categorical_accuracy: 0.9122 - val_loss: 0.3030 - val_sparse_categorical_accuracy: 0.8941\n",
            "Epoch 56/60\n",
            "100/100 [==============================] - 5s 52ms/step - loss: 0.2420 - sparse_categorical_accuracy: 0.9114 - val_loss: 0.2975 - val_sparse_categorical_accuracy: 0.8954\n",
            "Epoch 57/60\n",
            "100/100 [==============================] - 6s 61ms/step - loss: 0.2385 - sparse_categorical_accuracy: 0.9135 - val_loss: 0.2970 - val_sparse_categorical_accuracy: 0.8950\n",
            "Epoch 58/60\n",
            "100/100 [==============================] - 6s 58ms/step - loss: 0.2383 - sparse_categorical_accuracy: 0.9136 - val_loss: 0.3018 - val_sparse_categorical_accuracy: 0.8951\n",
            "Epoch 59/60\n",
            "100/100 [==============================] - 5s 54ms/step - loss: 0.2385 - sparse_categorical_accuracy: 0.9128 - val_loss: 0.3030 - val_sparse_categorical_accuracy: 0.8946\n",
            "Epoch 60/60\n",
            "100/100 [==============================] - 7s 67ms/step - loss: 0.2365 - sparse_categorical_accuracy: 0.9134 - val_loss: 0.2981 - val_sparse_categorical_accuracy: 0.8953\n",
            "313/313 [==============================] - 1s 3ms/step - loss: 0.3198 - sparse_categorical_accuracy: 0.8907\n",
            "\n",
            "Test accuracy: 0.8906999826431274\n"
          ]
        }
      ]
    },
    {
      "cell_type": "code",
      "source": [
        "print('\\nhistory dict:', list(history.history.keys()))"
      ],
      "metadata": {
        "id": "CxRE-B_Q6Sii",
        "outputId": "7969e650-ea0d-4ecb-cf0f-dbb32017527e",
        "colab": {
          "base_uri": "https://localhost:8080/"
        }
      },
      "execution_count": 86,
      "outputs": [
        {
          "output_type": "stream",
          "name": "stdout",
          "text": [
            "\n",
            "history dict: ['loss', 'sparse_categorical_accuracy', 'val_loss', 'val_sparse_categorical_accuracy']\n"
          ]
        }
      ]
    },
    {
      "cell_type": "code",
      "source": [
        "history_dict = history.history\n",
        "loss_values = history_dict['loss']\n",
        "val_loss_values = history_dict['val_loss']\n",
        "\n",
        "epochs = range(1, len(history_dict['loss']) + 1)\n",
        "\n",
        "plt.figure(figsize=(10, 5))\n",
        "plt.plot(epochs, loss_values, 'bo', label='Training loss')\n",
        "plt.plot(epochs, val_loss_values, 'b', label='Validation loss')\n",
        "plt.title('Training and validation loss')\n",
        "plt.xlabel('Epochs')\n",
        "plt.ylabel('Loss')\n",
        "plt.legend()\n",
        "plt.grid(True)\n",
        "plt.show()\n",
        "\n",
        "plt.clf()\n",
        "plt.figure(figsize=(10, 5))\n",
        "val_acc_values = history_dict['sparse_categorical_accuracy']\n",
        "plt.plot(epochs, history_dict['sparse_categorical_accuracy'], 'bo', label='Training acc')\n",
        "plt.plot(epochs, history_dict['val_sparse_categorical_accuracy'], 'b', label='Validation acc')\n",
        "plt.title('Training and validation accuracy')\n",
        "plt.xlabel('Epochs')\n",
        "plt.ylabel('Accuracy')\n",
        "plt.legend()\n",
        "plt.grid(True)"
      ],
      "metadata": {
        "colab": {
          "base_uri": "https://localhost:8080/",
          "height": 975
        },
        "id": "2Ll_5sGlXKMH",
        "outputId": "6e1513aa-b9a3-4d6f-a072-be76175e32a2"
      },
      "execution_count": 87,
      "outputs": [
        {
          "output_type": "display_data",
          "data": {
            "text/plain": [
              "<Figure size 1000x500 with 1 Axes>"
            ],
            "image/png": "[encoded data removed]"
          },
          "metadata": {}
        },
        {
          "output_type": "display_data",
          "data": {
            "text/plain": [
              "<Figure size 640x480 with 0 Axes>"
            ]
          },
          "metadata": {}
        },
        {
          "output_type": "display_data",
          "data": {
            "text/plain": [
              "<Figure size 1000x500 with 1 Axes>"
            ],
            "image/png": "[encoded data removed]"
          },
          "metadata": {}
        }
      ]
    },
    {
      "cell_type": "code",
      "source": [
        "probability_model = tf.keras.Sequential([model,\n",
        "                                         tf.keras.layers.Softmax()])"
      ],
      "metadata": {
        "id": "VzOdKAT_uV-f"
      },
      "execution_count": 88,
      "outputs": []
    },
    {
      "cell_type": "code",
      "source": [
        "predictions = probability_model.predict(x_test)"
      ],
      "metadata": {
        "id": "f4is3NFruYom",
        "outputId": "081cb79d-5768-44fe-aaf3-31fa89e0e605",
        "colab": {
          "base_uri": "https://localhost:8080/"
        }
      },
      "execution_count": 89,
      "outputs": [
        {
          "output_type": "stream",
          "name": "stdout",
          "text": [
            "313/313 [==============================] - 1s 3ms/step\n"
          ]
        }
      ]
    },
    {
      "cell_type": "code",
      "source": [
        "predictions[0]"
      ],
      "metadata": {
        "id": "82cigvlZudz_",
        "outputId": "bb899848-4361-4dbe-b1a6-d9a71d8d71b7",
        "colab": {
          "base_uri": "https://localhost:8080/"
        }
      },
      "execution_count": 90,
      "outputs": [
        {
          "output_type": "execute_result",
          "data": {
            "text/plain": [
              "array([0.08534106, 0.08534233, 0.08534099, 0.08534148, 0.08534114,\n",
              "       0.08534482, 0.08534119, 0.08536362, 0.08534116, 0.23190221],\n",
              "      dtype=float32)"
            ]
          },
          "metadata": {},
          "execution_count": 90
        }
      ]
    },
    {
      "cell_type": "code",
      "source": [
        "model.summary()"
      ],
      "metadata": {
        "id": "6RsQPHyYuNGe",
        "outputId": "48d0c8f1-610f-4b43-c25d-9ecdbfd05ea5",
        "colab": {
          "base_uri": "https://localhost:8080/"
        }
      },
      "execution_count": 91,
      "outputs": [
        {
          "output_type": "stream",
          "name": "stdout",
          "text": [
            "Model: \"sequential_12\"\n",
            "_________________________________________________________________\n",
            " Layer (type)                Output Shape              Param #   \n",
            "=================================================================\n",
            " flatten_6 (Flatten)         (None, 784)               0         \n",
            "                                                                 \n",
            " dense_30 (Dense)            (None, 400)               314000    \n",
            "                                                                 \n",
            " dropout_24 (Dropout)        (None, 400)               0         \n",
            "                                                                 \n",
            " dense_31 (Dense)            (None, 400)               160400    \n",
            "                                                                 \n",
            " dropout_25 (Dropout)        (None, 400)               0         \n",
            "                                                                 \n",
            " dense_32 (Dense)            (None, 400)               160400    \n",
            "                                                                 \n",
            " dropout_26 (Dropout)        (None, 400)               0         \n",
            "                                                                 \n",
            " dense_33 (Dense)            (None, 400)               160400    \n",
            "                                                                 \n",
            " dropout_27 (Dropout)        (None, 400)               0         \n",
            "                                                                 \n",
            " dense_34 (Dense)            (None, 10)                4010      \n",
            "                                                                 \n",
            "=================================================================\n",
            "Total params: 799210 (3.05 MB)\n",
            "Trainable params: 799210 (3.05 MB)\n",
            "Non-trainable params: 0 (0.00 Byte)\n",
            "_________________________________________________________________\n"
          ]
        }
      ]
    }
  ]
}