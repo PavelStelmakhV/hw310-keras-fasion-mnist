{
  "nbformat": 4,
  "nbformat_minor": 0,
  "metadata": {
    "colab": {
      "provenance": [],
      "authorship_tag": "ABX9TyO621Rqmwuejn6OQNnI7bs8",
      "include_colab_link": true
    },
    "kernelspec": {
      "name": "python3",
      "display_name": "Python 3"
    },
    "language_info": {
      "name": "python"
    }
  },
  "cells": [
    {
      "cell_type": "markdown",
      "metadata": {
        "id": "view-in-github",
        "colab_type": "text"
      },
      "source": [
        "<a href=\"https://colab.research.google.com/github/PavelStelmakhV/hw310-keras-fasion-mnist/blob/main/keras_fasion_mnist_hw.ipynb\" target=\"_parent\"><img src=\"https://colab.research.google.com/assets/colab-badge.svg\" alt=\"Open In Colab\"/></a>"
      ]
    },
    {
      "cell_type": "code",
      "execution_count": 144,
      "metadata": {
        "id": "vv7w0bgAVQPO"
      },
      "outputs": [],
      "source": [
        "import tensorflow as tf\n",
        "\n",
        "import numpy as np\n",
        "import matplotlib.pyplot as plt\n",
        "from keras import layers\n",
        "from keras import regularizers"
      ]
    },
    {
      "cell_type": "code",
      "source": [
        "fashion_mnist = tf.keras.datasets.fashion_mnist\n",
        "\n",
        "(x_train, y_train), (x_test, y_test) = fashion_mnist.load_data()"
      ],
      "metadata": {
        "id": "mOpywsNAzfGB"
      },
      "execution_count": 145,
      "outputs": []
    },
    {
      "cell_type": "code",
      "source": [
        "# x_train = x_train.reshape(60000, 784).astype('float32') / 255\n",
        "# x_test = x_test.reshape(10000, 784).astype('float32') / 255\n",
        "x_train = x_train.astype('float32') / 255\n",
        "x_test = x_test.astype('float32') / 255\n",
        "\n",
        "y_train = y_train.astype('float32')\n",
        "y_test = y_test.astype('float32')\n",
        "\n",
        "# Перемешаем тренировочные данные\n",
        "# train_data = tf.data.Dataset.from_tensor_slices((x_train, y_train))\n",
        "# train_data = train_data.repeat().shuffle(5000).batch(batch_size).prefetch(1)"
      ],
      "metadata": {
        "id": "t2gucjsJ0KUi"
      },
      "execution_count": 146,
      "outputs": []
    },
    {
      "cell_type": "code",
      "source": [
        "x_val = x_train[-10000:]\n",
        "y_val = y_train[-10000:]\n",
        "x_train = x_train[:-10000]\n",
        "y_train = y_train[:-10000]"
      ],
      "metadata": {
        "id": "fLPNXab5dHwO"
      },
      "execution_count": 147,
      "outputs": []
    },
    {
      "cell_type": "code",
      "source": [
        "model = tf.keras.Sequential()\n",
        "drop_out = 0.3\n",
        "ler_rat = 0.0001\n",
        "model.add(layers.Flatten(input_shape=(28, 28)))\n",
        "# model.add(layers.Dropout(0.2))\n",
        "model.add(layers.Dense(512, activation='relu', kernel_regularizer=regularizers.l2(ler_rat)))\n",
        "model.add(layers.Dropout(drop_out))\n",
        "model.add(layers.Dense(512, activation='relu', kernel_regularizer=regularizers.l2(ler_rat)))\n",
        "model.add(layers.Dropout(drop_out))\n",
        "# model.add(layers.Dense(256, activation='relu', kernel_regularizer=regularizers.l2(ler_rat)))\n",
        "# model.add(layers.Dropout(drop_out))\n",
        "# model.add(layers.Dense(128, activation='relu', kernel_regularizer=regularizers.l2(ler_rat)))\n",
        "# model.add(layers.Dropout(drop_out))\n",
        "# model.add(layers.Dense(64, activation='relu', kernel_regularizer=regularizers.l2(ler_rat)))\n",
        "# model.add(layers.Dense(256, activation='relu', kernel_regularizer=regularizers.l2(0.00001)))\n",
        "# model.add(layers.Dropout(0.2))\n",
        "\n",
        "# model.add(layers.Dense(216, activation='relu', kernel_regularizer=regularizers.l2(0.001)))\n",
        "# model.add(layers.Dense(512, activation='sigmoid', kernel_regularizer=regularizers.l2(0.00001)))\n",
        "# model.add(layers.Dropout(0.5))\n",
        "# model.add(layers.Dense(512, activation='sigmoid', kernel_regularizer=regularizers.l2(0.00001)))\n",
        "# model.add(layers.Dropout(0.5))\n",
        "# model.add(layers.Dense(500, activation='sigmoid', kernel_regularizer=regularizers.l2(0.000001)))\n",
        "# model.add(layers.Dense(500, activation='relu', kernel_regularizer=regularizers.l2(0.000001)))\n",
        "# # model.add(layers.Dense(80, activation='relu', kernel_regularizer=regularizers.l2(0.001)))\n",
        "# model.add(layers.Dropout(0.5))\n",
        "# model.add(layers.Dense(500, activation='relu', kernel_regularizer=regularizers.l2(0.000001)))\n",
        "# model.add(layers.Dropout(0.5))\n",
        "# # model.add(layers.Dense(40, activation='relu', kernel_regularizer=regularizers.l2(0.001)))\n",
        "\n",
        "model.add(layers.Dense(10, activation='softmax'))\n",
        "# model.add(layers.Softmax())"
      ],
      "metadata": {
        "id": "atS39i4d0aqW"
      },
      "execution_count": 148,
      "outputs": []
    },
    {
      "cell_type": "code",
      "source": [
        "model.compile(#optimizer='adam',\n",
        "              optimizer='adamax',\n",
        "              # optimizer='nadam',\n",
        "              # optimizer='rmsprop',\n",
        "              # optimizer='sgd',\n",
        "              # optimizer='adadelta',\n",
        "              # loss='binary_crossentropy',\n",
        "              loss=tf.keras.losses.SparseCategoricalCrossentropy(),\n",
        "              metrics=['sparse_categorical_accuracy'])"
      ],
      "metadata": {
        "id": "hENVaAC7ilNY"
      },
      "execution_count": 149,
      "outputs": []
    },
    {
      "cell_type": "code",
      "source": [
        "# model.fit(train_images, train_labels, epochs=20)\n",
        "history = model.fit(x_train, y_train,\n",
        "                    epochs=60,\n",
        "                    batch_size=512,\n",
        "                    validation_data=(x_val, y_val))\n",
        "test_loss, test_acc = model.evaluate(x_test, y_test)\n",
        "print('\\nTest accuracy:', test_acc)"
      ],
      "metadata": {
        "id": "FH8HcMNm233I",
        "outputId": "3b76847a-ad47-4109-c125-f9d696bcf440",
        "colab": {
          "base_uri": "https://localhost:8080/"
        }
      },
      "execution_count": 150,
      "outputs": [
        {
          "output_type": "stream",
          "name": "stdout",
          "text": [
            "Epoch 1/60\n",
            "7/7 [==============================] - 6s 691ms/step - loss: 1.8185 - sparse_categorical_accuracy: 0.4323 - val_loss: 1.0098 - val_sparse_categorical_accuracy: 0.7044\n",
            "Epoch 2/60\n",
            "7/7 [==============================] - 4s 561ms/step - loss: 1.0324 - sparse_categorical_accuracy: 0.6771 - val_loss: 0.7972 - val_sparse_categorical_accuracy: 0.7532\n",
            "Epoch 3/60\n",
            "7/7 [==============================] - 4s 507ms/step - loss: 0.8698 - sparse_categorical_accuracy: 0.7296 - val_loss: 0.7225 - val_sparse_categorical_accuracy: 0.7816\n",
            "Epoch 4/60\n",
            "7/7 [==============================] - 5s 782ms/step - loss: 0.7828 - sparse_categorical_accuracy: 0.7624 - val_loss: 0.6745 - val_sparse_categorical_accuracy: 0.7996\n",
            "Epoch 5/60\n",
            "7/7 [==============================] - 4s 506ms/step - loss: 0.7292 - sparse_categorical_accuracy: 0.7829 - val_loss: 0.6438 - val_sparse_categorical_accuracy: 0.8152\n",
            "Epoch 6/60\n",
            "7/7 [==============================] - 4s 512ms/step - loss: 0.6892 - sparse_categorical_accuracy: 0.8000 - val_loss: 0.6202 - val_sparse_categorical_accuracy: 0.8227\n",
            "Epoch 7/60\n",
            "7/7 [==============================] - 4s 627ms/step - loss: 0.6616 - sparse_categorical_accuracy: 0.8087 - val_loss: 0.6055 - val_sparse_categorical_accuracy: 0.8263\n",
            "Epoch 8/60\n",
            "7/7 [==============================] - 5s 592ms/step - loss: 0.6378 - sparse_categorical_accuracy: 0.8175 - val_loss: 0.5870 - val_sparse_categorical_accuracy: 0.8323\n",
            "Epoch 9/60\n",
            "7/7 [==============================] - 4s 509ms/step - loss: 0.6222 - sparse_categorical_accuracy: 0.8237 - val_loss: 0.5764 - val_sparse_categorical_accuracy: 0.8346\n",
            "Epoch 10/60\n",
            "7/7 [==============================] - 4s 512ms/step - loss: 0.6073 - sparse_categorical_accuracy: 0.8267 - val_loss: 0.5676 - val_sparse_categorical_accuracy: 0.8383\n",
            "Epoch 11/60\n",
            "7/7 [==============================] - 5s 781ms/step - loss: 0.5959 - sparse_categorical_accuracy: 0.8326 - val_loss: 0.5560 - val_sparse_categorical_accuracy: 0.8413\n",
            "Epoch 12/60\n",
            "7/7 [==============================] - 4s 515ms/step - loss: 0.5832 - sparse_categorical_accuracy: 0.8351 - val_loss: 0.5483 - val_sparse_categorical_accuracy: 0.8434\n",
            "Epoch 13/60\n",
            "7/7 [==============================] - 4s 515ms/step - loss: 0.5723 - sparse_categorical_accuracy: 0.8383 - val_loss: 0.5385 - val_sparse_categorical_accuracy: 0.8487\n",
            "Epoch 14/60\n",
            "7/7 [==============================] - 4s 630ms/step - loss: 0.5633 - sparse_categorical_accuracy: 0.8408 - val_loss: 0.5318 - val_sparse_categorical_accuracy: 0.8507\n",
            "Epoch 15/60\n",
            "7/7 [==============================] - 4s 592ms/step - loss: 0.5581 - sparse_categorical_accuracy: 0.8439 - val_loss: 0.5259 - val_sparse_categorical_accuracy: 0.8519\n",
            "Epoch 16/60\n",
            "7/7 [==============================] - 4s 513ms/step - loss: 0.5499 - sparse_categorical_accuracy: 0.8461 - val_loss: 0.5226 - val_sparse_categorical_accuracy: 0.8533\n",
            "Epoch 17/60\n",
            "7/7 [==============================] - 4s 501ms/step - loss: 0.5421 - sparse_categorical_accuracy: 0.8483 - val_loss: 0.5166 - val_sparse_categorical_accuracy: 0.8562\n",
            "Epoch 18/60\n",
            "7/7 [==============================] - 5s 783ms/step - loss: 0.5347 - sparse_categorical_accuracy: 0.8506 - val_loss: 0.5144 - val_sparse_categorical_accuracy: 0.8581\n",
            "Epoch 19/60\n",
            "7/7 [==============================] - 4s 500ms/step - loss: 0.5295 - sparse_categorical_accuracy: 0.8522 - val_loss: 0.5088 - val_sparse_categorical_accuracy: 0.8583\n",
            "Epoch 20/60\n",
            "7/7 [==============================] - 4s 506ms/step - loss: 0.5228 - sparse_categorical_accuracy: 0.8542 - val_loss: 0.5037 - val_sparse_categorical_accuracy: 0.8606\n",
            "Epoch 21/60\n",
            "7/7 [==============================] - 4s 631ms/step - loss: 0.5212 - sparse_categorical_accuracy: 0.8541 - val_loss: 0.5019 - val_sparse_categorical_accuracy: 0.8605\n",
            "Epoch 22/60\n",
            "7/7 [==============================] - 4s 604ms/step - loss: 0.5154 - sparse_categorical_accuracy: 0.8549 - val_loss: 0.4963 - val_sparse_categorical_accuracy: 0.8615\n",
            "Epoch 23/60\n",
            "7/7 [==============================] - 4s 496ms/step - loss: 0.5116 - sparse_categorical_accuracy: 0.8569 - val_loss: 0.4923 - val_sparse_categorical_accuracy: 0.8634\n",
            "Epoch 24/60\n",
            "7/7 [==============================] - 4s 511ms/step - loss: 0.5068 - sparse_categorical_accuracy: 0.8588 - val_loss: 0.4905 - val_sparse_categorical_accuracy: 0.8623\n",
            "Epoch 25/60\n",
            "7/7 [==============================] - 5s 770ms/step - loss: 0.5026 - sparse_categorical_accuracy: 0.8600 - val_loss: 0.4854 - val_sparse_categorical_accuracy: 0.8657\n",
            "Epoch 26/60\n",
            "7/7 [==============================] - 4s 503ms/step - loss: 0.4971 - sparse_categorical_accuracy: 0.8625 - val_loss: 0.4841 - val_sparse_categorical_accuracy: 0.8647\n",
            "Epoch 27/60\n",
            "7/7 [==============================] - 4s 508ms/step - loss: 0.4936 - sparse_categorical_accuracy: 0.8637 - val_loss: 0.4803 - val_sparse_categorical_accuracy: 0.8681\n",
            "Epoch 28/60\n",
            "7/7 [==============================] - 4s 598ms/step - loss: 0.4886 - sparse_categorical_accuracy: 0.8661 - val_loss: 0.4786 - val_sparse_categorical_accuracy: 0.8691\n",
            "Epoch 29/60\n",
            "7/7 [==============================] - 5s 618ms/step - loss: 0.4851 - sparse_categorical_accuracy: 0.8666 - val_loss: 0.4768 - val_sparse_categorical_accuracy: 0.8659\n",
            "Epoch 30/60\n",
            "7/7 [==============================] - 4s 509ms/step - loss: 0.4828 - sparse_categorical_accuracy: 0.8663 - val_loss: 0.4725 - val_sparse_categorical_accuracy: 0.8693\n",
            "Epoch 31/60\n",
            "7/7 [==============================] - 4s 502ms/step - loss: 0.4797 - sparse_categorical_accuracy: 0.8682 - val_loss: 0.4704 - val_sparse_categorical_accuracy: 0.8697\n",
            "Epoch 32/60\n",
            "7/7 [==============================] - 5s 754ms/step - loss: 0.4756 - sparse_categorical_accuracy: 0.8690 - val_loss: 0.4679 - val_sparse_categorical_accuracy: 0.8714\n",
            "Epoch 33/60\n",
            "7/7 [==============================] - 4s 515ms/step - loss: 0.4732 - sparse_categorical_accuracy: 0.8701 - val_loss: 0.4662 - val_sparse_categorical_accuracy: 0.8731\n",
            "Epoch 34/60\n",
            "7/7 [==============================] - 4s 517ms/step - loss: 0.4689 - sparse_categorical_accuracy: 0.8713 - val_loss: 0.4656 - val_sparse_categorical_accuracy: 0.8724\n",
            "Epoch 35/60\n",
            "7/7 [==============================] - 4s 558ms/step - loss: 0.4655 - sparse_categorical_accuracy: 0.8712 - val_loss: 0.4623 - val_sparse_categorical_accuracy: 0.8737\n",
            "Epoch 36/60\n",
            "7/7 [==============================] - 5s 664ms/step - loss: 0.4632 - sparse_categorical_accuracy: 0.8723 - val_loss: 0.4605 - val_sparse_categorical_accuracy: 0.8740\n",
            "Epoch 37/60\n",
            "7/7 [==============================] - 4s 500ms/step - loss: 0.4585 - sparse_categorical_accuracy: 0.8741 - val_loss: 0.4587 - val_sparse_categorical_accuracy: 0.8731\n",
            "Epoch 38/60\n",
            "7/7 [==============================] - 4s 512ms/step - loss: 0.4598 - sparse_categorical_accuracy: 0.8738 - val_loss: 0.4560 - val_sparse_categorical_accuracy: 0.8740\n",
            "Epoch 39/60\n",
            "7/7 [==============================] - 5s 786ms/step - loss: 0.4548 - sparse_categorical_accuracy: 0.8768 - val_loss: 0.4562 - val_sparse_categorical_accuracy: 0.8750\n",
            "Epoch 40/60\n",
            "7/7 [==============================] - 4s 505ms/step - loss: 0.4540 - sparse_categorical_accuracy: 0.8758 - val_loss: 0.4538 - val_sparse_categorical_accuracy: 0.8776\n",
            "Epoch 41/60\n",
            "7/7 [==============================] - 4s 502ms/step - loss: 0.4536 - sparse_categorical_accuracy: 0.8761 - val_loss: 0.4503 - val_sparse_categorical_accuracy: 0.8763\n",
            "Epoch 42/60\n",
            "7/7 [==============================] - 4s 594ms/step - loss: 0.4504 - sparse_categorical_accuracy: 0.8782 - val_loss: 0.4496 - val_sparse_categorical_accuracy: 0.8777\n",
            "Epoch 43/60\n",
            "7/7 [==============================] - 5s 638ms/step - loss: 0.4451 - sparse_categorical_accuracy: 0.8791 - val_loss: 0.4483 - val_sparse_categorical_accuracy: 0.8773\n",
            "Epoch 44/60\n",
            "7/7 [==============================] - 4s 559ms/step - loss: 0.4453 - sparse_categorical_accuracy: 0.8774 - val_loss: 0.4488 - val_sparse_categorical_accuracy: 0.8786\n",
            "Epoch 45/60\n",
            "7/7 [==============================] - 4s 518ms/step - loss: 0.4415 - sparse_categorical_accuracy: 0.8785 - val_loss: 0.4451 - val_sparse_categorical_accuracy: 0.8786\n",
            "Epoch 46/60\n",
            "7/7 [==============================] - 5s 776ms/step - loss: 0.4402 - sparse_categorical_accuracy: 0.8809 - val_loss: 0.4434 - val_sparse_categorical_accuracy: 0.8769\n",
            "Epoch 47/60\n",
            "7/7 [==============================] - 4s 505ms/step - loss: 0.4372 - sparse_categorical_accuracy: 0.8809 - val_loss: 0.4438 - val_sparse_categorical_accuracy: 0.8787\n",
            "Epoch 48/60\n",
            "7/7 [==============================] - 4s 512ms/step - loss: 0.4356 - sparse_categorical_accuracy: 0.8814 - val_loss: 0.4411 - val_sparse_categorical_accuracy: 0.8781\n",
            "Epoch 49/60\n",
            "7/7 [==============================] - 4s 638ms/step - loss: 0.4326 - sparse_categorical_accuracy: 0.8825 - val_loss: 0.4399 - val_sparse_categorical_accuracy: 0.8787\n",
            "Epoch 50/60\n",
            "7/7 [==============================] - 5s 612ms/step - loss: 0.4301 - sparse_categorical_accuracy: 0.8841 - val_loss: 0.4384 - val_sparse_categorical_accuracy: 0.8799\n",
            "Epoch 51/60\n",
            "7/7 [==============================] - 4s 514ms/step - loss: 0.4294 - sparse_categorical_accuracy: 0.8839 - val_loss: 0.4372 - val_sparse_categorical_accuracy: 0.8797\n",
            "Epoch 52/60\n",
            "7/7 [==============================] - 4s 503ms/step - loss: 0.4275 - sparse_categorical_accuracy: 0.8833 - val_loss: 0.4350 - val_sparse_categorical_accuracy: 0.8800\n",
            "Epoch 53/60\n",
            "7/7 [==============================] - 5s 821ms/step - loss: 0.4252 - sparse_categorical_accuracy: 0.8839 - val_loss: 0.4342 - val_sparse_categorical_accuracy: 0.8823\n",
            "Epoch 54/60\n",
            "7/7 [==============================] - 4s 498ms/step - loss: 0.4247 - sparse_categorical_accuracy: 0.8848 - val_loss: 0.4337 - val_sparse_categorical_accuracy: 0.8818\n",
            "Epoch 55/60\n",
            "7/7 [==============================] - 4s 502ms/step - loss: 0.4230 - sparse_categorical_accuracy: 0.8853 - val_loss: 0.4317 - val_sparse_categorical_accuracy: 0.8818\n",
            "Epoch 56/60\n",
            "7/7 [==============================] - 4s 604ms/step - loss: 0.4206 - sparse_categorical_accuracy: 0.8863 - val_loss: 0.4308 - val_sparse_categorical_accuracy: 0.8802\n",
            "Epoch 57/60\n",
            "7/7 [==============================] - 5s 604ms/step - loss: 0.4177 - sparse_categorical_accuracy: 0.8889 - val_loss: 0.4304 - val_sparse_categorical_accuracy: 0.8822\n",
            "Epoch 58/60\n",
            "7/7 [==============================] - 4s 512ms/step - loss: 0.4162 - sparse_categorical_accuracy: 0.8883 - val_loss: 0.4296 - val_sparse_categorical_accuracy: 0.8816\n",
            "Epoch 59/60\n",
            "7/7 [==============================] - 4s 517ms/step - loss: 0.4165 - sparse_categorical_accuracy: 0.8874 - val_loss: 0.4282 - val_sparse_categorical_accuracy: 0.8811\n",
            "Epoch 60/60\n",
            "7/7 [==============================] - 5s 811ms/step - loss: 0.4135 - sparse_categorical_accuracy: 0.8880 - val_loss: 0.4287 - val_sparse_categorical_accuracy: 0.8822\n",
            "313/313 [==============================] - 1s 4ms/step - loss: 0.4520 - sparse_categorical_accuracy: 0.8768\n",
            "\n",
            "Test accuracy: 0.876800000667572\n"
          ]
        }
      ]
    },
    {
      "cell_type": "code",
      "source": [
        "print('\\nhistory dict:', list(history.history.keys()))"
      ],
      "metadata": {
        "id": "CxRE-B_Q6Sii",
        "outputId": "711282c2-6d1b-46c2-84c7-5a2e93e79fb3",
        "colab": {
          "base_uri": "https://localhost:8080/"
        }
      },
      "execution_count": 151,
      "outputs": [
        {
          "output_type": "stream",
          "name": "stdout",
          "text": [
            "\n",
            "history dict: ['loss', 'sparse_categorical_accuracy', 'val_loss', 'val_sparse_categorical_accuracy']\n"
          ]
        }
      ]
    },
    {
      "cell_type": "code",
      "source": [
        "history_dict = history.history\n",
        "loss_values = history_dict['loss']\n",
        "val_loss_values = history_dict['val_loss']\n",
        "\n",
        "epochs = range(1, len(history_dict['loss']) + 1)\n",
        "\n",
        "plt.figure(figsize=(10, 5))\n",
        "plt.plot(epochs, loss_values, 'bo', label='Training loss')\n",
        "plt.plot(epochs, val_loss_values, 'b', label='Validation loss')\n",
        "plt.title('Training and validation loss')\n",
        "plt.xlabel('Epochs')\n",
        "plt.ylabel('Loss')\n",
        "plt.legend()\n",
        "plt.grid(True)\n",
        "plt.show()\n",
        "\n",
        "plt.clf()\n",
        "plt.figure(figsize=(10, 5))\n",
        "val_acc_values = history_dict['sparse_categorical_accuracy']\n",
        "plt.plot(epochs, history_dict['sparse_categorical_accuracy'], 'bo', label='Training acc')\n",
        "plt.plot(epochs, history_dict['val_sparse_categorical_accuracy'], 'b', label='Validation acc')\n",
        "plt.title('Training and validation accuracy')\n",
        "plt.xlabel('Epochs')\n",
        "plt.ylabel('Accuracy')\n",
        "plt.legend()\n",
        "plt.grid(True)"
      ],
      "metadata": {
        "colab": {
          "base_uri": "https://localhost:8080/",
          "height": 975
        },
        "id": "2Ll_5sGlXKMH",
        "outputId": "382ae8ac-0e60-4865-dc94-fa3042fa5a24"
      },
      "execution_count": 152,
      "outputs": [
        {
          "output_type": "display_data",
          "data": {
            "text/plain": [
              "<Figure size 1000x500 with 1 Axes>"
            ],
            "image/png": "[encoded data removed]"
          },
          "metadata": {}
        },
        {
          "output_type": "display_data",
          "data": {
            "text/plain": [
              "<Figure size 640x480 with 0 Axes>"
            ]
          },
          "metadata": {}
        },
        {
          "output_type": "display_data",
          "data": {
            "text/plain": [
              "<Figure size 1000x500 with 1 Axes>"
            ],
            "image/png": "[encoded data removed]"
          },
          "metadata": {}
        }
      ]
    },
    {
      "cell_type": "code",
      "source": [
        "probability_model = tf.keras.Sequential([model,\n",
        "                                         tf.keras.layers.Softmax()])"
      ],
      "metadata": {
        "id": "VzOdKAT_uV-f"
      },
      "execution_count": 153,
      "outputs": []
    },
    {
      "cell_type": "code",
      "source": [
        "predictions = probability_model.predict(x_test)"
      ],
      "metadata": {
        "id": "f4is3NFruYom",
        "outputId": "2eaf133e-f671-433d-cce0-d60a80ba2443",
        "colab": {
          "base_uri": "https://localhost:8080/"
        }
      },
      "execution_count": 154,
      "outputs": [
        {
          "output_type": "stream",
          "name": "stdout",
          "text": [
            "313/313 [==============================] - 1s 3ms/step\n"
          ]
        }
      ]
    },
    {
      "cell_type": "code",
      "source": [
        "predictions[0]"
      ],
      "metadata": {
        "id": "82cigvlZudz_",
        "outputId": "603a990d-4741-4b56-ead1-5394c27a9124",
        "colab": {
          "base_uri": "https://localhost:8080/"
        }
      },
      "execution_count": 155,
      "outputs": [
        {
          "output_type": "execute_result",
          "data": {
            "text/plain": [
              "array([0.08596928, 0.08596212, 0.08597431, 0.08595996, 0.08596916,\n",
              "       0.08699954, 0.08598119, 0.08929721, 0.08601489, 0.22187226],\n",
              "      dtype=float32)"
            ]
          },
          "metadata": {},
          "execution_count": 155
        }
      ]
    },
    {
      "cell_type": "code",
      "source": [
        "model.summary()"
      ],
      "metadata": {
        "id": "6RsQPHyYuNGe",
        "outputId": "1e54ce0a-1b5c-48b5-9d86-e2a69fd6b60a",
        "colab": {
          "base_uri": "https://localhost:8080/"
        }
      },
      "execution_count": 156,
      "outputs": [
        {
          "output_type": "stream",
          "name": "stdout",
          "text": [
            "Model: \"sequential_22\"\n",
            "_________________________________________________________________\n",
            " Layer (type)                Output Shape              Param #   \n",
            "=================================================================\n",
            " flatten_12 (Flatten)        (None, 784)               0         \n",
            "                                                                 \n",
            " dense_60 (Dense)            (None, 512)               401920    \n",
            "                                                                 \n",
            " dropout_40 (Dropout)        (None, 512)               0         \n",
            "                                                                 \n",
            " dense_61 (Dense)            (None, 512)               262656    \n",
            "                                                                 \n",
            " dropout_41 (Dropout)        (None, 512)               0         \n",
            "                                                                 \n",
            " dense_62 (Dense)            (None, 10)                5130      \n",
            "                                                                 \n",
            "=================================================================\n",
            "Total params: 669706 (2.55 MB)\n",
            "Trainable params: 669706 (2.55 MB)\n",
            "Non-trainable params: 0 (0.00 Byte)\n",
            "_________________________________________________________________\n"
          ]
        }
      ]
    }
  ]
}