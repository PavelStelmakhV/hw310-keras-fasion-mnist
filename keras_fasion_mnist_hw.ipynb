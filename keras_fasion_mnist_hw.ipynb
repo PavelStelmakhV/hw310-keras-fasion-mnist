{
  "nbformat": 4,
  "nbformat_minor": 0,
  "metadata": {
    "colab": {
      "provenance": [],
      "gpuType": "T4",
      "authorship_tag": "ABX9TyP89av8mGtkE5zidyvq8W49",
      "include_colab_link": true
    },
    "kernelspec": {
      "name": "python3",
      "display_name": "Python 3"
    },
    "language_info": {
      "name": "python"
    },
    "accelerator": "GPU"
  },
  "cells": [
    {
      "cell_type": "markdown",
      "metadata": {
        "id": "view-in-github",
        "colab_type": "text"
      },
      "source": [
        "<a href=\"https://colab.research.google.com/github/PavelStelmakhV/hw310-keras-fasion-mnist/blob/main/keras_fasion_mnist_hw.ipynb\" target=\"_parent\"><img src=\"https://colab.research.google.com/assets/colab-badge.svg\" alt=\"Open In Colab\"/></a>"
      ]
    },
    {
      "cell_type": "code",
      "execution_count": 1,
      "metadata": {
        "id": "vv7w0bgAVQPO"
      },
      "outputs": [],
      "source": [
        "import tensorflow as tf\n",
        "import numpy as np\n",
        "import matplotlib.pyplot as plt\n",
        "\n",
        "from keras import layers\n",
        "from keras import regularizers\n",
        "from keras import callbacks\n",
        "from keras import initializers\n",
        "from keras.layers import BatchNormalization\n",
        "from keras.models import load_model"
      ]
    },
    {
      "cell_type": "code",
      "source": [
        "fashion_mnist = tf.keras.datasets.fashion_mnist\n",
        "\n",
        "(x_train, y_train), (x_test, y_test) = fashion_mnist.load_data()"
      ],
      "metadata": {
        "id": "mOpywsNAzfGB",
        "outputId": "989c868c-89be-4418-c2f2-2a3d2bd4ebca",
        "colab": {
          "base_uri": "https://localhost:8080/"
        }
      },
      "execution_count": 2,
      "outputs": [
        {
          "output_type": "stream",
          "name": "stdout",
          "text": [
            "Downloading data from https://storage.googleapis.com/tensorflow/tf-keras-datasets/train-labels-idx1-ubyte.gz\n",
            "29515/29515 [==============================] - 0s 0us/step\n",
            "Downloading data from https://storage.googleapis.com/tensorflow/tf-keras-datasets/train-images-idx3-ubyte.gz\n",
            "26421880/26421880 [==============================] - 0s 0us/step\n",
            "Downloading data from https://storage.googleapis.com/tensorflow/tf-keras-datasets/t10k-labels-idx1-ubyte.gz\n",
            "5148/5148 [==============================] - 0s 0us/step\n",
            "Downloading data from https://storage.googleapis.com/tensorflow/tf-keras-datasets/t10k-images-idx3-ubyte.gz\n",
            "4422102/4422102 [==============================] - 0s 0us/step\n"
          ]
        }
      ]
    },
    {
      "cell_type": "code",
      "source": [
        "# x_train = x_train.reshape(60000, 784).astype('float32') / 255\n",
        "# x_test = x_test.reshape(10000, 784).astype('float32') / 255\n",
        "x_train = x_train.astype('float32') / 255\n",
        "x_test = x_test.astype('float32') / 255\n",
        "\n",
        "y_train = y_train.astype('float32')\n",
        "y_test = y_test.astype('float32')\n",
        "\n",
        "# Перемешаем тренировочные данные\n",
        "# train_data = tf.data.Dataset.from_tensor_slices((x_train, y_train))\n",
        "# train_data = train_data.repeat().shuffle(5000).batch(batch_size).prefetch(1)"
      ],
      "metadata": {
        "id": "t2gucjsJ0KUi"
      },
      "execution_count": 3,
      "outputs": []
    },
    {
      "cell_type": "code",
      "source": [
        "# x_val = x_train[-10000:]\n",
        "# y_val = y_train[-10000:]\n",
        "# x_train = x_train[:-10000]\n",
        "# y_train = y_train[:-10000]"
      ],
      "metadata": {
        "id": "fLPNXab5dHwO"
      },
      "execution_count": 4,
      "outputs": []
    },
    {
      "cell_type": "code",
      "source": [],
      "metadata": {
        "id": "bU5TK5YdlnU5"
      },
      "execution_count": 4,
      "outputs": []
    },
    {
      "cell_type": "code",
      "source": [
        "w_init_tanh = initializers.glorot_normal(seed=42)\n",
        "w_init_relu = initializers.HeNormal(seed=42)\n",
        "b_init = initializers.Zeros()"
      ],
      "metadata": {
        "id": "yL9QTEtBGy4N"
      },
      "execution_count": 5,
      "outputs": []
    },
    {
      "cell_type": "code",
      "source": [
        "model = tf.keras.Sequential()\n",
        "\n",
        "drop_out = 0.25\n",
        "lern_rat = 0.001\n",
        "neurons = 256\n",
        "\n",
        "model.add(layers.Flatten(input_shape=(28, 28)))\n",
        "model.add(layers.Dropout(drop_out))\n",
        "\n",
        "model.add(BatchNormalization())\n",
        "model.add(layers.Dense(neurons * 1,\n",
        "                       activation='relu',\n",
        "                       kernel_initializer=w_init_relu,\n",
        "                       bias_initializer=b_init)) #, kernel_regularizer=regularizers.l2(lern_rat)\n",
        "model.add(layers.Dropout(drop_out))\n",
        "\n",
        "# model.add(BatchNormalization())\n",
        "# model.add(layers.Dense(neurons * 1,\n",
        "#                        activation='relu',\n",
        "#                        kernel_initializer=w_init_relu,\n",
        "#                        bias_initializer=b_init)) #, kernel_regularizer=regularizers.l2(lern_rat)\n",
        "# model.add(layers.Dropout(drop_out))\n",
        "\n",
        "# model.add(BatchNormalization())\n",
        "# model.add(layers.Dense(neurons * 1,\n",
        "#                        activation='relu',\n",
        "#                        kernel_initializer=w_init_relu,\n",
        "#                        bias_initializer=b_init)) #, kernel_regularizer=regularizers.l2(lern_rat)\n",
        "# model.add(layers.Dropout(drop_out))\n",
        "\n",
        "# model.add(BatchNormalization())\n",
        "# model.add(layers.Dense(neurons * 2,\n",
        "#                        activation='relu',\n",
        "#                        kernel_initializer=w_init_relu,\n",
        "#                        bias_initializer=b_init)) #, kernel_regularizer=regularizers.l2(lern_rat)\n",
        "# model.add(layers.Dropout(drop_out))\n",
        "\n",
        "model.add(BatchNormalization())\n",
        "model.add(layers.Dense(neurons * 2,\n",
        "                       activation='tanh',\n",
        "                       kernel_initializer=w_init_tanh,\n",
        "                       bias_initializer=b_init))\n",
        "model.add(layers.Dropout(drop_out))\n",
        "\n",
        "model.add(BatchNormalization())\n",
        "model.add(layers.Dense(neurons * 2,\n",
        "                       activation='relu',\n",
        "                       kernel_initializer=w_init_relu,\n",
        "                       bias_initializer=b_init))\n",
        "model.add(layers.Dropout(drop_out))\n",
        "\n",
        "# model.add(layers.Dense(neurons * 2, activation='relu'))\n",
        "# model.add(BatchNormalization())\n",
        "# model.add(layers.Dropout(drop_out * 2))\n",
        "\n",
        "model.add(layers.Dense(10, activation='softmax'))"
      ],
      "metadata": {
        "id": "atS39i4d0aqW"
      },
      "execution_count": 6,
      "outputs": []
    },
    {
      "cell_type": "code",
      "source": [],
      "metadata": {
        "id": "EzfnaqIZlfy8"
      },
      "execution_count": 6,
      "outputs": []
    },
    {
      "cell_type": "code",
      "source": [
        "model.compile(#optimizer='adam',\n",
        "              # optimizer='adamax',\n",
        "              optimizer='nadam',\n",
        "              # optimizer='rmsprop',\n",
        "              # optimizer='sgd',\n",
        "              # optimizer='adadelta',\n",
        "              # loss='binary_crossentropy',\n",
        "              loss=tf.keras.losses.SparseCategoricalCrossentropy(),\n",
        "              metrics=['sparse_categorical_accuracy']) # sparse_categorical_accuracy"
      ],
      "metadata": {
        "id": "hENVaAC7ilNY"
      },
      "execution_count": 7,
      "outputs": []
    },
    {
      "cell_type": "code",
      "source": [
        "x = np.random.random((1, 28, 28))\n",
        "a = model.predict(x)\n",
        "_ = plt.hist(np.transpose(a))"
      ],
      "metadata": {
        "id": "RFgZHNNFMa8p",
        "outputId": "e394a36a-8043-4b8b-d394-e6f619034959",
        "colab": {
          "base_uri": "https://localhost:8080/",
          "height": 448
        }
      },
      "execution_count": 8,
      "outputs": [
        {
          "output_type": "stream",
          "name": "stdout",
          "text": [
            "1/1 [==============================] - 1s 935ms/step\n"
          ]
        },
        {
          "output_type": "display_data",
          "data": {
            "text/plain": [
              "<Figure size 640x480 with 1 Axes>"
            ],
            "image/png": "[encoded data removed]"
          },
          "metadata": {}
        }
      ]
    },
    {
      "cell_type": "code",
      "source": [
        "y_pred = model.predict(x_test)"
      ],
      "metadata": {
        "id": "UDP8OKKZ8oQa",
        "outputId": "6178ea76-30d2-427c-d381-7ddc569cfbb5",
        "colab": {
          "base_uri": "https://localhost:8080/"
        }
      },
      "execution_count": 9,
      "outputs": [
        {
          "output_type": "stream",
          "name": "stdout",
          "text": [
            "313/313 [==============================] - 1s 2ms/step\n"
          ]
        }
      ]
    },
    {
      "cell_type": "code",
      "source": [
        "callback = callbacks.EarlyStopping(monitor='val_loss',\n",
        "                                   patience=50,\n",
        "                                   restore_best_weights=True,\n",
        "                                   )\n",
        "es = callbacks.EarlyStopping(monitor='val_loss', mode='min', verbose=1, patience=200)\n",
        "mc = callbacks.ModelCheckpoint('best_model.h5', monitor='sparse_categorical_accuracy', mode='max', verbose=0, save_best_only=True)\n"
      ],
      "metadata": {
        "id": "5ihU4exVlsjm"
      },
      "execution_count": 10,
      "outputs": []
    },
    {
      "cell_type": "code",
      "source": [
        "# model.fit(train_images, train_labels, epochs=20)\n",
        "history = model.fit(x_train, y_train,\n",
        "                    epochs=300,\n",
        "                    batch_size=128,\n",
        "                    # callbacks=[callback],\n",
        "                    callbacks=[mc],\n",
        "                    verbose=1, #многословие\n",
        "                    validation_split=0.2\n",
        "                    # validation_data=(x_val, y_val)\n",
        "                    )\n",
        "test_loss, test_acc = model.evaluate(x_test, y_test)\n",
        "print('\\nTest accuracy:', test_acc)"
      ],
      "metadata": {
        "id": "FH8HcMNm233I",
        "outputId": "c11a7d4b-f129-4ad3-dcd5-b786b7047cd0",
        "colab": {
          "base_uri": "https://localhost:8080/"
        }
      },
      "execution_count": 11,
      "outputs": [
        {
          "output_type": "stream",
          "name": "stdout",
          "text": [
            "Epoch 1/300\n",
            "375/375 [==============================] - 17s 12ms/step - loss: 0.6981 - sparse_categorical_accuracy: 0.7579 - val_loss: 0.4379 - val_sparse_categorical_accuracy: 0.8428\n",
            "Epoch 2/300\n",
            " 20/375 [>.............................] - ETA: 1s - loss: 0.5003 - sparse_categorical_accuracy: 0.8059"
          ]
        },
        {
          "output_type": "stream",
          "name": "stderr",
          "text": [
            "/usr/local/lib/python3.10/dist-packages/keras/src/engine/training.py:3103: UserWarning: You are saving your model as an HDF5 file via `model.save()`. This file format is considered legacy. We recommend using instead the native Keras format, e.g. `model.save('my_model.keras')`.\n",
            "  saving_api.save_model(\n"
          ]
        },
        {
          "output_type": "stream",
          "name": "stdout",
          "text": [
            "375/375 [==============================] - 2s 6ms/step - loss: 0.4939 - sparse_categorical_accuracy: 0.8196 - val_loss: 0.3800 - val_sparse_categorical_accuracy: 0.8597\n",
            "Epoch 3/300\n",
            "375/375 [==============================] - 2s 6ms/step - loss: 0.4466 - sparse_categorical_accuracy: 0.8346 - val_loss: 0.3662 - val_sparse_categorical_accuracy: 0.8645\n",
            "Epoch 4/300\n",
            "375/375 [==============================] - 2s 6ms/step - loss: 0.4185 - sparse_categorical_accuracy: 0.8444 - val_loss: 0.3502 - val_sparse_categorical_accuracy: 0.8673\n",
            "Epoch 5/300\n",
            "375/375 [==============================] - 3s 7ms/step - loss: 0.3991 - sparse_categorical_accuracy: 0.8509 - val_loss: 0.3431 - val_sparse_categorical_accuracy: 0.8718\n",
            "Epoch 6/300\n",
            "375/375 [==============================] - 2s 6ms/step - loss: 0.3859 - sparse_categorical_accuracy: 0.8554 - val_loss: 0.3401 - val_sparse_categorical_accuracy: 0.8737\n",
            "Epoch 7/300\n",
            "375/375 [==============================] - 2s 6ms/step - loss: 0.3752 - sparse_categorical_accuracy: 0.8601 - val_loss: 0.3261 - val_sparse_categorical_accuracy: 0.8795\n",
            "Epoch 8/300\n",
            "375/375 [==============================] - 2s 6ms/step - loss: 0.3697 - sparse_categorical_accuracy: 0.8612 - val_loss: 0.3251 - val_sparse_categorical_accuracy: 0.8804\n",
            "Epoch 9/300\n",
            "375/375 [==============================] - 2s 6ms/step - loss: 0.3551 - sparse_categorical_accuracy: 0.8679 - val_loss: 0.3208 - val_sparse_categorical_accuracy: 0.8823\n",
            "Epoch 10/300\n",
            "375/375 [==============================] - 3s 7ms/step - loss: 0.3541 - sparse_categorical_accuracy: 0.8682 - val_loss: 0.3152 - val_sparse_categorical_accuracy: 0.8857\n",
            "Epoch 11/300\n",
            "375/375 [==============================] - 2s 6ms/step - loss: 0.3480 - sparse_categorical_accuracy: 0.8704 - val_loss: 0.3076 - val_sparse_categorical_accuracy: 0.8856\n",
            "Epoch 12/300\n",
            "375/375 [==============================] - 2s 6ms/step - loss: 0.3398 - sparse_categorical_accuracy: 0.8720 - val_loss: 0.3047 - val_sparse_categorical_accuracy: 0.8908\n",
            "Epoch 13/300\n",
            "375/375 [==============================] - 2s 6ms/step - loss: 0.3343 - sparse_categorical_accuracy: 0.8751 - val_loss: 0.3164 - val_sparse_categorical_accuracy: 0.8844\n",
            "Epoch 14/300\n",
            "375/375 [==============================] - 2s 6ms/step - loss: 0.3284 - sparse_categorical_accuracy: 0.8768 - val_loss: 0.3085 - val_sparse_categorical_accuracy: 0.8880\n",
            "Epoch 15/300\n",
            "375/375 [==============================] - 3s 7ms/step - loss: 0.3272 - sparse_categorical_accuracy: 0.8768 - val_loss: 0.3019 - val_sparse_categorical_accuracy: 0.8882\n",
            "Epoch 16/300\n",
            "375/375 [==============================] - 2s 6ms/step - loss: 0.3216 - sparse_categorical_accuracy: 0.8784 - val_loss: 0.3049 - val_sparse_categorical_accuracy: 0.8871\n",
            "Epoch 17/300\n",
            "375/375 [==============================] - 2s 6ms/step - loss: 0.3210 - sparse_categorical_accuracy: 0.8798 - val_loss: 0.2966 - val_sparse_categorical_accuracy: 0.8903\n",
            "Epoch 18/300\n",
            "375/375 [==============================] - 2s 6ms/step - loss: 0.3151 - sparse_categorical_accuracy: 0.8818 - val_loss: 0.2990 - val_sparse_categorical_accuracy: 0.8917\n",
            "Epoch 19/300\n",
            "375/375 [==============================] - 2s 6ms/step - loss: 0.3088 - sparse_categorical_accuracy: 0.8820 - val_loss: 0.3016 - val_sparse_categorical_accuracy: 0.8894\n",
            "Epoch 20/300\n",
            "375/375 [==============================] - 3s 7ms/step - loss: 0.3091 - sparse_categorical_accuracy: 0.8825 - val_loss: 0.2987 - val_sparse_categorical_accuracy: 0.8910\n",
            "Epoch 21/300\n",
            "375/375 [==============================] - 2s 6ms/step - loss: 0.3040 - sparse_categorical_accuracy: 0.8858 - val_loss: 0.2986 - val_sparse_categorical_accuracy: 0.8919\n",
            "Epoch 22/300\n",
            "375/375 [==============================] - 2s 6ms/step - loss: 0.3013 - sparse_categorical_accuracy: 0.8865 - val_loss: 0.2875 - val_sparse_categorical_accuracy: 0.8944\n",
            "Epoch 23/300\n",
            "375/375 [==============================] - 2s 6ms/step - loss: 0.3031 - sparse_categorical_accuracy: 0.8847 - val_loss: 0.2974 - val_sparse_categorical_accuracy: 0.8934\n",
            "Epoch 24/300\n",
            "375/375 [==============================] - 2s 6ms/step - loss: 0.2951 - sparse_categorical_accuracy: 0.8882 - val_loss: 0.2889 - val_sparse_categorical_accuracy: 0.8969\n",
            "Epoch 25/300\n",
            "375/375 [==============================] - 3s 7ms/step - loss: 0.2962 - sparse_categorical_accuracy: 0.8870 - val_loss: 0.2879 - val_sparse_categorical_accuracy: 0.8962\n",
            "Epoch 26/300\n",
            "375/375 [==============================] - 2s 6ms/step - loss: 0.2937 - sparse_categorical_accuracy: 0.8879 - val_loss: 0.2863 - val_sparse_categorical_accuracy: 0.8950\n",
            "Epoch 27/300\n",
            "375/375 [==============================] - 2s 6ms/step - loss: 0.2905 - sparse_categorical_accuracy: 0.8890 - val_loss: 0.2858 - val_sparse_categorical_accuracy: 0.8950\n",
            "Epoch 28/300\n",
            "375/375 [==============================] - 2s 6ms/step - loss: 0.2890 - sparse_categorical_accuracy: 0.8910 - val_loss: 0.3032 - val_sparse_categorical_accuracy: 0.8942\n",
            "Epoch 29/300\n",
            "375/375 [==============================] - 2s 6ms/step - loss: 0.2854 - sparse_categorical_accuracy: 0.8918 - val_loss: 0.2906 - val_sparse_categorical_accuracy: 0.8953\n",
            "Epoch 30/300\n",
            "375/375 [==============================] - 3s 7ms/step - loss: 0.2803 - sparse_categorical_accuracy: 0.8941 - val_loss: 0.2875 - val_sparse_categorical_accuracy: 0.8965\n",
            "Epoch 31/300\n",
            "375/375 [==============================] - 2s 6ms/step - loss: 0.2827 - sparse_categorical_accuracy: 0.8928 - val_loss: 0.2853 - val_sparse_categorical_accuracy: 0.8962\n",
            "Epoch 32/300\n",
            "375/375 [==============================] - 2s 6ms/step - loss: 0.2802 - sparse_categorical_accuracy: 0.8934 - val_loss: 0.2927 - val_sparse_categorical_accuracy: 0.8983\n",
            "Epoch 33/300\n",
            "375/375 [==============================] - 2s 7ms/step - loss: 0.2806 - sparse_categorical_accuracy: 0.8934 - val_loss: 0.2824 - val_sparse_categorical_accuracy: 0.8989\n",
            "Epoch 34/300\n",
            "375/375 [==============================] - 2s 6ms/step - loss: 0.2783 - sparse_categorical_accuracy: 0.8951 - val_loss: 0.2823 - val_sparse_categorical_accuracy: 0.8971\n",
            "Epoch 35/300\n",
            "375/375 [==============================] - 3s 7ms/step - loss: 0.2774 - sparse_categorical_accuracy: 0.8940 - val_loss: 0.2859 - val_sparse_categorical_accuracy: 0.8978\n",
            "Epoch 36/300\n",
            "375/375 [==============================] - 2s 6ms/step - loss: 0.2726 - sparse_categorical_accuracy: 0.8967 - val_loss: 0.2976 - val_sparse_categorical_accuracy: 0.8963\n",
            "Epoch 37/300\n",
            "375/375 [==============================] - 2s 6ms/step - loss: 0.2735 - sparse_categorical_accuracy: 0.8978 - val_loss: 0.2833 - val_sparse_categorical_accuracy: 0.8983\n",
            "Epoch 38/300\n",
            "375/375 [==============================] - 2s 6ms/step - loss: 0.2695 - sparse_categorical_accuracy: 0.8966 - val_loss: 0.2868 - val_sparse_categorical_accuracy: 0.8987\n",
            "Epoch 39/300\n",
            "375/375 [==============================] - 2s 6ms/step - loss: 0.2693 - sparse_categorical_accuracy: 0.8984 - val_loss: 0.2906 - val_sparse_categorical_accuracy: 0.8955\n",
            "Epoch 40/300\n",
            "375/375 [==============================] - 3s 8ms/step - loss: 0.2678 - sparse_categorical_accuracy: 0.8976 - val_loss: 0.2797 - val_sparse_categorical_accuracy: 0.8990\n",
            "Epoch 41/300\n",
            "375/375 [==============================] - 2s 7ms/step - loss: 0.2672 - sparse_categorical_accuracy: 0.8985 - val_loss: 0.2876 - val_sparse_categorical_accuracy: 0.8990\n",
            "Epoch 42/300\n",
            "375/375 [==============================] - 2s 7ms/step - loss: 0.2641 - sparse_categorical_accuracy: 0.9002 - val_loss: 0.2812 - val_sparse_categorical_accuracy: 0.8979\n",
            "Epoch 43/300\n",
            "375/375 [==============================] - 2s 6ms/step - loss: 0.2647 - sparse_categorical_accuracy: 0.8993 - val_loss: 0.2774 - val_sparse_categorical_accuracy: 0.8989\n",
            "Epoch 44/300\n",
            "375/375 [==============================] - 2s 6ms/step - loss: 0.2634 - sparse_categorical_accuracy: 0.8991 - val_loss: 0.2831 - val_sparse_categorical_accuracy: 0.8982\n",
            "Epoch 45/300\n",
            "375/375 [==============================] - 4s 10ms/step - loss: 0.2592 - sparse_categorical_accuracy: 0.9009 - val_loss: 0.2915 - val_sparse_categorical_accuracy: 0.8996\n",
            "Epoch 46/300\n",
            "375/375 [==============================] - 2s 6ms/step - loss: 0.2641 - sparse_categorical_accuracy: 0.8982 - val_loss: 0.2846 - val_sparse_categorical_accuracy: 0.9017\n",
            "Epoch 47/300\n",
            "375/375 [==============================] - 2s 6ms/step - loss: 0.2582 - sparse_categorical_accuracy: 0.9025 - val_loss: 0.2821 - val_sparse_categorical_accuracy: 0.9007\n",
            "Epoch 48/300\n",
            "375/375 [==============================] - 2s 6ms/step - loss: 0.2578 - sparse_categorical_accuracy: 0.9020 - val_loss: 0.2823 - val_sparse_categorical_accuracy: 0.8988\n",
            "Epoch 49/300\n",
            "375/375 [==============================] - 3s 7ms/step - loss: 0.2573 - sparse_categorical_accuracy: 0.9014 - val_loss: 0.2897 - val_sparse_categorical_accuracy: 0.9001\n",
            "Epoch 50/300\n",
            "375/375 [==============================] - 3s 7ms/step - loss: 0.2546 - sparse_categorical_accuracy: 0.9028 - val_loss: 0.2875 - val_sparse_categorical_accuracy: 0.8993\n",
            "Epoch 51/300\n",
            "375/375 [==============================] - 2s 6ms/step - loss: 0.2544 - sparse_categorical_accuracy: 0.9039 - val_loss: 0.2824 - val_sparse_categorical_accuracy: 0.9017\n",
            "Epoch 52/300\n",
            "375/375 [==============================] - 2s 6ms/step - loss: 0.2564 - sparse_categorical_accuracy: 0.9020 - val_loss: 0.2740 - val_sparse_categorical_accuracy: 0.9016\n",
            "Epoch 53/300\n",
            "375/375 [==============================] - 2s 6ms/step - loss: 0.2521 - sparse_categorical_accuracy: 0.9030 - val_loss: 0.2843 - val_sparse_categorical_accuracy: 0.9009\n",
            "Epoch 54/300\n",
            "375/375 [==============================] - 2s 6ms/step - loss: 0.2526 - sparse_categorical_accuracy: 0.9011 - val_loss: 0.2772 - val_sparse_categorical_accuracy: 0.9018\n",
            "Epoch 55/300\n",
            "375/375 [==============================] - 3s 7ms/step - loss: 0.2512 - sparse_categorical_accuracy: 0.9044 - val_loss: 0.2786 - val_sparse_categorical_accuracy: 0.9018\n",
            "Epoch 56/300\n",
            "375/375 [==============================] - 2s 6ms/step - loss: 0.2472 - sparse_categorical_accuracy: 0.9055 - val_loss: 0.2845 - val_sparse_categorical_accuracy: 0.9021\n",
            "Epoch 57/300\n",
            "375/375 [==============================] - 2s 6ms/step - loss: 0.2540 - sparse_categorical_accuracy: 0.9024 - val_loss: 0.2765 - val_sparse_categorical_accuracy: 0.9028\n",
            "Epoch 58/300\n",
            "375/375 [==============================] - 2s 6ms/step - loss: 0.2454 - sparse_categorical_accuracy: 0.9066 - val_loss: 0.2766 - val_sparse_categorical_accuracy: 0.9016\n",
            "Epoch 59/300\n",
            "375/375 [==============================] - 2s 6ms/step - loss: 0.2477 - sparse_categorical_accuracy: 0.9064 - val_loss: 0.2835 - val_sparse_categorical_accuracy: 0.9007\n",
            "Epoch 60/300\n",
            "375/375 [==============================] - 3s 7ms/step - loss: 0.2484 - sparse_categorical_accuracy: 0.9055 - val_loss: 0.2768 - val_sparse_categorical_accuracy: 0.9028\n",
            "Epoch 61/300\n",
            "375/375 [==============================] - 2s 6ms/step - loss: 0.2474 - sparse_categorical_accuracy: 0.9060 - val_loss: 0.2785 - val_sparse_categorical_accuracy: 0.9035\n",
            "Epoch 62/300\n",
            "375/375 [==============================] - 2s 6ms/step - loss: 0.2447 - sparse_categorical_accuracy: 0.9069 - val_loss: 0.2826 - val_sparse_categorical_accuracy: 0.8992\n",
            "Epoch 63/300\n",
            "375/375 [==============================] - 2s 6ms/step - loss: 0.2451 - sparse_categorical_accuracy: 0.9063 - val_loss: 0.2829 - val_sparse_categorical_accuracy: 0.9009\n",
            "Epoch 64/300\n",
            "375/375 [==============================] - 2s 6ms/step - loss: 0.2464 - sparse_categorical_accuracy: 0.9064 - val_loss: 0.2753 - val_sparse_categorical_accuracy: 0.9004\n",
            "Epoch 65/300\n",
            "375/375 [==============================] - 3s 7ms/step - loss: 0.2439 - sparse_categorical_accuracy: 0.9078 - val_loss: 0.2796 - val_sparse_categorical_accuracy: 0.9003\n",
            "Epoch 66/300\n",
            "375/375 [==============================] - 2s 6ms/step - loss: 0.2426 - sparse_categorical_accuracy: 0.9072 - val_loss: 0.2876 - val_sparse_categorical_accuracy: 0.8986\n",
            "Epoch 67/300\n",
            "375/375 [==============================] - 2s 7ms/step - loss: 0.2397 - sparse_categorical_accuracy: 0.9083 - val_loss: 0.2842 - val_sparse_categorical_accuracy: 0.9010\n",
            "Epoch 68/300\n",
            "375/375 [==============================] - 2s 6ms/step - loss: 0.2450 - sparse_categorical_accuracy: 0.9060 - val_loss: 0.2816 - val_sparse_categorical_accuracy: 0.9022\n",
            "Epoch 69/300\n",
            "375/375 [==============================] - 3s 7ms/step - loss: 0.2411 - sparse_categorical_accuracy: 0.9087 - val_loss: 0.2771 - val_sparse_categorical_accuracy: 0.9025\n",
            "Epoch 70/300\n",
            "375/375 [==============================] - 2s 7ms/step - loss: 0.2384 - sparse_categorical_accuracy: 0.9086 - val_loss: 0.2803 - val_sparse_categorical_accuracy: 0.9007\n",
            "Epoch 71/300\n",
            "375/375 [==============================] - 2s 6ms/step - loss: 0.2431 - sparse_categorical_accuracy: 0.9075 - val_loss: 0.2713 - val_sparse_categorical_accuracy: 0.9023\n",
            "Epoch 72/300\n",
            "375/375 [==============================] - 2s 6ms/step - loss: 0.2386 - sparse_categorical_accuracy: 0.9086 - val_loss: 0.2848 - val_sparse_categorical_accuracy: 0.9008\n",
            "Epoch 73/300\n",
            "375/375 [==============================] - 2s 6ms/step - loss: 0.2398 - sparse_categorical_accuracy: 0.9091 - val_loss: 0.2792 - val_sparse_categorical_accuracy: 0.9032\n",
            "Epoch 74/300\n",
            "375/375 [==============================] - 3s 7ms/step - loss: 0.2356 - sparse_categorical_accuracy: 0.9083 - val_loss: 0.2840 - val_sparse_categorical_accuracy: 0.9035\n",
            "Epoch 75/300\n",
            "375/375 [==============================] - 2s 7ms/step - loss: 0.2338 - sparse_categorical_accuracy: 0.9103 - val_loss: 0.2848 - val_sparse_categorical_accuracy: 0.9020\n",
            "Epoch 76/300\n",
            "375/375 [==============================] - 2s 6ms/step - loss: 0.2373 - sparse_categorical_accuracy: 0.9097 - val_loss: 0.2826 - val_sparse_categorical_accuracy: 0.9027\n",
            "Epoch 77/300\n",
            "375/375 [==============================] - 3s 7ms/step - loss: 0.2346 - sparse_categorical_accuracy: 0.9096 - val_loss: 0.2827 - val_sparse_categorical_accuracy: 0.9029\n",
            "Epoch 78/300\n",
            "375/375 [==============================] - 2s 7ms/step - loss: 0.2337 - sparse_categorical_accuracy: 0.9095 - val_loss: 0.2839 - val_sparse_categorical_accuracy: 0.9042\n",
            "Epoch 79/300\n",
            "375/375 [==============================] - 3s 7ms/step - loss: 0.2343 - sparse_categorical_accuracy: 0.9103 - val_loss: 0.2810 - val_sparse_categorical_accuracy: 0.9028\n",
            "Epoch 80/300\n",
            "375/375 [==============================] - 2s 6ms/step - loss: 0.2336 - sparse_categorical_accuracy: 0.9109 - val_loss: 0.2929 - val_sparse_categorical_accuracy: 0.9017\n",
            "Epoch 81/300\n",
            "375/375 [==============================] - 2s 6ms/step - loss: 0.2324 - sparse_categorical_accuracy: 0.9104 - val_loss: 0.2792 - val_sparse_categorical_accuracy: 0.9045\n",
            "Epoch 82/300\n",
            "375/375 [==============================] - 2s 7ms/step - loss: 0.2332 - sparse_categorical_accuracy: 0.9118 - val_loss: 0.2808 - val_sparse_categorical_accuracy: 0.9051\n",
            "Epoch 83/300\n",
            "375/375 [==============================] - 2s 6ms/step - loss: 0.2308 - sparse_categorical_accuracy: 0.9093 - val_loss: 0.2878 - val_sparse_categorical_accuracy: 0.9046\n",
            "Epoch 84/300\n",
            "375/375 [==============================] - 3s 7ms/step - loss: 0.2346 - sparse_categorical_accuracy: 0.9097 - val_loss: 0.2764 - val_sparse_categorical_accuracy: 0.9041\n",
            "Epoch 85/300\n",
            "375/375 [==============================] - 2s 6ms/step - loss: 0.2315 - sparse_categorical_accuracy: 0.9125 - val_loss: 0.2789 - val_sparse_categorical_accuracy: 0.9036\n",
            "Epoch 86/300\n",
            "375/375 [==============================] - 2s 6ms/step - loss: 0.2340 - sparse_categorical_accuracy: 0.9109 - val_loss: 0.2847 - val_sparse_categorical_accuracy: 0.9018\n",
            "Epoch 87/300\n",
            "375/375 [==============================] - 2s 6ms/step - loss: 0.2306 - sparse_categorical_accuracy: 0.9113 - val_loss: 0.2848 - val_sparse_categorical_accuracy: 0.9028\n",
            "Epoch 88/300\n",
            "375/375 [==============================] - 2s 6ms/step - loss: 0.2297 - sparse_categorical_accuracy: 0.9127 - val_loss: 0.2745 - val_sparse_categorical_accuracy: 0.9051\n",
            "Epoch 89/300\n",
            "375/375 [==============================] - 3s 7ms/step - loss: 0.2323 - sparse_categorical_accuracy: 0.9109 - val_loss: 0.2850 - val_sparse_categorical_accuracy: 0.9029\n",
            "Epoch 90/300\n",
            "375/375 [==============================] - 2s 6ms/step - loss: 0.2274 - sparse_categorical_accuracy: 0.9129 - val_loss: 0.2831 - val_sparse_categorical_accuracy: 0.9013\n",
            "Epoch 91/300\n",
            "375/375 [==============================] - 2s 6ms/step - loss: 0.2274 - sparse_categorical_accuracy: 0.9134 - val_loss: 0.2816 - val_sparse_categorical_accuracy: 0.9033\n",
            "Epoch 92/300\n",
            "375/375 [==============================] - 2s 7ms/step - loss: 0.2280 - sparse_categorical_accuracy: 0.9135 - val_loss: 0.2832 - val_sparse_categorical_accuracy: 0.9022\n",
            "Epoch 93/300\n",
            "375/375 [==============================] - 2s 6ms/step - loss: 0.2281 - sparse_categorical_accuracy: 0.9127 - val_loss: 0.2799 - val_sparse_categorical_accuracy: 0.9047\n",
            "Epoch 94/300\n",
            "375/375 [==============================] - 3s 7ms/step - loss: 0.2253 - sparse_categorical_accuracy: 0.9142 - val_loss: 0.2740 - val_sparse_categorical_accuracy: 0.9065\n",
            "Epoch 95/300\n",
            "375/375 [==============================] - 2s 6ms/step - loss: 0.2249 - sparse_categorical_accuracy: 0.9140 - val_loss: 0.2842 - val_sparse_categorical_accuracy: 0.9032\n",
            "Epoch 96/300\n",
            "375/375 [==============================] - 2s 6ms/step - loss: 0.2244 - sparse_categorical_accuracy: 0.9152 - val_loss: 0.2874 - val_sparse_categorical_accuracy: 0.9046\n",
            "Epoch 97/300\n",
            "375/375 [==============================] - 2s 6ms/step - loss: 0.2251 - sparse_categorical_accuracy: 0.9149 - val_loss: 0.2873 - val_sparse_categorical_accuracy: 0.9062\n",
            "Epoch 98/300\n",
            "375/375 [==============================] - 2s 6ms/step - loss: 0.2230 - sparse_categorical_accuracy: 0.9144 - val_loss: 0.2827 - val_sparse_categorical_accuracy: 0.9027\n",
            "Epoch 99/300\n",
            "375/375 [==============================] - 3s 7ms/step - loss: 0.2255 - sparse_categorical_accuracy: 0.9128 - val_loss: 0.2831 - val_sparse_categorical_accuracy: 0.9035\n",
            "Epoch 100/300\n",
            "375/375 [==============================] - 2s 7ms/step - loss: 0.2227 - sparse_categorical_accuracy: 0.9152 - val_loss: 0.2932 - val_sparse_categorical_accuracy: 0.9022\n",
            "Epoch 101/300\n",
            "375/375 [==============================] - 2s 6ms/step - loss: 0.2222 - sparse_categorical_accuracy: 0.9147 - val_loss: 0.2835 - val_sparse_categorical_accuracy: 0.9038\n",
            "Epoch 102/300\n",
            "375/375 [==============================] - 2s 7ms/step - loss: 0.2222 - sparse_categorical_accuracy: 0.9145 - val_loss: 0.2823 - val_sparse_categorical_accuracy: 0.9053\n",
            "Epoch 103/300\n",
            "375/375 [==============================] - 2s 6ms/step - loss: 0.2243 - sparse_categorical_accuracy: 0.9144 - val_loss: 0.2838 - val_sparse_categorical_accuracy: 0.9042\n",
            "Epoch 104/300\n",
            "375/375 [==============================] - 3s 7ms/step - loss: 0.2236 - sparse_categorical_accuracy: 0.9150 - val_loss: 0.2829 - val_sparse_categorical_accuracy: 0.9036\n",
            "Epoch 105/300\n",
            "375/375 [==============================] - 2s 7ms/step - loss: 0.2198 - sparse_categorical_accuracy: 0.9160 - val_loss: 0.2813 - val_sparse_categorical_accuracy: 0.9012\n",
            "Epoch 106/300\n",
            "375/375 [==============================] - 2s 6ms/step - loss: 0.2213 - sparse_categorical_accuracy: 0.9139 - val_loss: 0.2914 - val_sparse_categorical_accuracy: 0.9010\n",
            "Epoch 107/300\n",
            "375/375 [==============================] - 2s 6ms/step - loss: 0.2190 - sparse_categorical_accuracy: 0.9167 - val_loss: 0.2823 - val_sparse_categorical_accuracy: 0.9018\n",
            "Epoch 108/300\n",
            "375/375 [==============================] - 2s 6ms/step - loss: 0.2174 - sparse_categorical_accuracy: 0.9174 - val_loss: 0.2892 - val_sparse_categorical_accuracy: 0.9028\n",
            "Epoch 109/300\n",
            "375/375 [==============================] - 3s 7ms/step - loss: 0.2188 - sparse_categorical_accuracy: 0.9166 - val_loss: 0.2854 - val_sparse_categorical_accuracy: 0.9043\n",
            "Epoch 110/300\n",
            "375/375 [==============================] - 2s 6ms/step - loss: 0.2213 - sparse_categorical_accuracy: 0.9153 - val_loss: 0.2850 - val_sparse_categorical_accuracy: 0.9043\n",
            "Epoch 111/300\n",
            "375/375 [==============================] - 2s 6ms/step - loss: 0.2207 - sparse_categorical_accuracy: 0.9156 - val_loss: 0.2865 - val_sparse_categorical_accuracy: 0.9036\n",
            "Epoch 112/300\n",
            "375/375 [==============================] - 2s 6ms/step - loss: 0.2233 - sparse_categorical_accuracy: 0.9139 - val_loss: 0.2857 - val_sparse_categorical_accuracy: 0.9022\n",
            "Epoch 113/300\n",
            "375/375 [==============================] - 2s 6ms/step - loss: 0.2164 - sparse_categorical_accuracy: 0.9164 - val_loss: 0.2881 - val_sparse_categorical_accuracy: 0.9047\n",
            "Epoch 114/300\n",
            "375/375 [==============================] - 3s 7ms/step - loss: 0.2187 - sparse_categorical_accuracy: 0.9159 - val_loss: 0.2874 - val_sparse_categorical_accuracy: 0.9042\n",
            "Epoch 115/300\n",
            "375/375 [==============================] - 2s 6ms/step - loss: 0.2205 - sparse_categorical_accuracy: 0.9157 - val_loss: 0.2829 - val_sparse_categorical_accuracy: 0.9054\n",
            "Epoch 116/300\n",
            "375/375 [==============================] - 2s 6ms/step - loss: 0.2172 - sparse_categorical_accuracy: 0.9167 - val_loss: 0.2841 - val_sparse_categorical_accuracy: 0.9037\n",
            "Epoch 117/300\n",
            "375/375 [==============================] - 2s 6ms/step - loss: 0.2139 - sparse_categorical_accuracy: 0.9170 - val_loss: 0.2885 - val_sparse_categorical_accuracy: 0.9041\n",
            "Epoch 118/300\n",
            "375/375 [==============================] - 2s 6ms/step - loss: 0.2190 - sparse_categorical_accuracy: 0.9160 - val_loss: 0.2833 - val_sparse_categorical_accuracy: 0.9028\n",
            "Epoch 119/300\n",
            "375/375 [==============================] - 3s 7ms/step - loss: 0.2131 - sparse_categorical_accuracy: 0.9178 - val_loss: 0.2870 - val_sparse_categorical_accuracy: 0.9033\n",
            "Epoch 120/300\n",
            "375/375 [==============================] - 2s 6ms/step - loss: 0.2158 - sparse_categorical_accuracy: 0.9160 - val_loss: 0.2799 - val_sparse_categorical_accuracy: 0.9039\n",
            "Epoch 121/300\n",
            "375/375 [==============================] - 2s 6ms/step - loss: 0.2149 - sparse_categorical_accuracy: 0.9174 - val_loss: 0.2913 - val_sparse_categorical_accuracy: 0.9032\n",
            "Epoch 122/300\n",
            "375/375 [==============================] - 2s 6ms/step - loss: 0.2171 - sparse_categorical_accuracy: 0.9186 - val_loss: 0.2847 - val_sparse_categorical_accuracy: 0.9023\n",
            "Epoch 123/300\n",
            "375/375 [==============================] - 2s 6ms/step - loss: 0.2130 - sparse_categorical_accuracy: 0.9181 - val_loss: 0.2800 - val_sparse_categorical_accuracy: 0.9052\n",
            "Epoch 124/300\n",
            "375/375 [==============================] - 3s 7ms/step - loss: 0.2182 - sparse_categorical_accuracy: 0.9164 - val_loss: 0.2850 - val_sparse_categorical_accuracy: 0.9055\n",
            "Epoch 125/300\n",
            "375/375 [==============================] - 2s 6ms/step - loss: 0.2136 - sparse_categorical_accuracy: 0.9188 - val_loss: 0.2828 - val_sparse_categorical_accuracy: 0.9031\n",
            "Epoch 126/300\n",
            "375/375 [==============================] - 2s 6ms/step - loss: 0.2096 - sparse_categorical_accuracy: 0.9204 - val_loss: 0.2888 - val_sparse_categorical_accuracy: 0.9046\n",
            "Epoch 127/300\n",
            "375/375 [==============================] - 2s 6ms/step - loss: 0.2135 - sparse_categorical_accuracy: 0.9181 - val_loss: 0.2820 - val_sparse_categorical_accuracy: 0.9046\n",
            "Epoch 128/300\n",
            "375/375 [==============================] - 2s 6ms/step - loss: 0.2154 - sparse_categorical_accuracy: 0.9181 - val_loss: 0.2893 - val_sparse_categorical_accuracy: 0.9027\n",
            "Epoch 129/300\n",
            "375/375 [==============================] - 3s 7ms/step - loss: 0.2109 - sparse_categorical_accuracy: 0.9181 - val_loss: 0.2822 - val_sparse_categorical_accuracy: 0.9037\n",
            "Epoch 130/300\n",
            "375/375 [==============================] - 3s 7ms/step - loss: 0.2141 - sparse_categorical_accuracy: 0.9178 - val_loss: 0.2859 - val_sparse_categorical_accuracy: 0.9057\n",
            "Epoch 131/300\n",
            "375/375 [==============================] - 2s 6ms/step - loss: 0.2125 - sparse_categorical_accuracy: 0.9179 - val_loss: 0.2825 - val_sparse_categorical_accuracy: 0.9032\n",
            "Epoch 132/300\n",
            "375/375 [==============================] - 2s 6ms/step - loss: 0.2119 - sparse_categorical_accuracy: 0.9191 - val_loss: 0.2788 - val_sparse_categorical_accuracy: 0.9031\n",
            "Epoch 133/300\n",
            "375/375 [==============================] - 3s 7ms/step - loss: 0.2101 - sparse_categorical_accuracy: 0.9199 - val_loss: 0.2847 - val_sparse_categorical_accuracy: 0.9041\n",
            "Epoch 134/300\n",
            "375/375 [==============================] - 2s 7ms/step - loss: 0.2094 - sparse_categorical_accuracy: 0.9195 - val_loss: 0.2818 - val_sparse_categorical_accuracy: 0.9048\n",
            "Epoch 135/300\n",
            "375/375 [==============================] - 2s 6ms/step - loss: 0.2076 - sparse_categorical_accuracy: 0.9206 - val_loss: 0.2898 - val_sparse_categorical_accuracy: 0.9053\n",
            "Epoch 136/300\n",
            "375/375 [==============================] - 2s 6ms/step - loss: 0.2068 - sparse_categorical_accuracy: 0.9206 - val_loss: 0.2866 - val_sparse_categorical_accuracy: 0.9033\n",
            "Epoch 137/300\n",
            "375/375 [==============================] - 2s 6ms/step - loss: 0.2154 - sparse_categorical_accuracy: 0.9167 - val_loss: 0.2861 - val_sparse_categorical_accuracy: 0.9035\n",
            "Epoch 138/300\n",
            "375/375 [==============================] - 2s 6ms/step - loss: 0.2109 - sparse_categorical_accuracy: 0.9186 - val_loss: 0.2795 - val_sparse_categorical_accuracy: 0.9036\n",
            "Epoch 139/300\n",
            "375/375 [==============================] - 3s 7ms/step - loss: 0.2120 - sparse_categorical_accuracy: 0.9189 - val_loss: 0.2815 - val_sparse_categorical_accuracy: 0.9043\n",
            "Epoch 140/300\n",
            "375/375 [==============================] - 2s 6ms/step - loss: 0.2094 - sparse_categorical_accuracy: 0.9197 - val_loss: 0.2855 - val_sparse_categorical_accuracy: 0.9050\n",
            "Epoch 141/300\n",
            "375/375 [==============================] - 2s 6ms/step - loss: 0.2095 - sparse_categorical_accuracy: 0.9190 - val_loss: 0.2882 - val_sparse_categorical_accuracy: 0.9041\n",
            "Epoch 142/300\n",
            "375/375 [==============================] - 2s 6ms/step - loss: 0.2053 - sparse_categorical_accuracy: 0.9208 - val_loss: 0.2800 - val_sparse_categorical_accuracy: 0.9042\n",
            "Epoch 143/300\n",
            "375/375 [==============================] - 2s 6ms/step - loss: 0.2090 - sparse_categorical_accuracy: 0.9200 - val_loss: 0.2848 - val_sparse_categorical_accuracy: 0.9038\n",
            "Epoch 144/300\n",
            "375/375 [==============================] - 3s 7ms/step - loss: 0.2089 - sparse_categorical_accuracy: 0.9190 - val_loss: 0.2885 - val_sparse_categorical_accuracy: 0.9050\n",
            "Epoch 145/300\n",
            "375/375 [==============================] - 2s 6ms/step - loss: 0.2099 - sparse_categorical_accuracy: 0.9181 - val_loss: 0.2784 - val_sparse_categorical_accuracy: 0.9057\n",
            "Epoch 146/300\n",
            "375/375 [==============================] - 2s 7ms/step - loss: 0.2047 - sparse_categorical_accuracy: 0.9211 - val_loss: 0.2887 - val_sparse_categorical_accuracy: 0.9024\n",
            "Epoch 147/300\n",
            "375/375 [==============================] - 2s 6ms/step - loss: 0.2086 - sparse_categorical_accuracy: 0.9206 - val_loss: 0.2828 - val_sparse_categorical_accuracy: 0.9032\n",
            "Epoch 148/300\n",
            "375/375 [==============================] - 2s 7ms/step - loss: 0.2102 - sparse_categorical_accuracy: 0.9202 - val_loss: 0.2824 - val_sparse_categorical_accuracy: 0.9054\n",
            "Epoch 149/300\n",
            "375/375 [==============================] - 3s 7ms/step - loss: 0.2069 - sparse_categorical_accuracy: 0.9195 - val_loss: 0.2898 - val_sparse_categorical_accuracy: 0.9048\n",
            "Epoch 150/300\n",
            "375/375 [==============================] - 2s 6ms/step - loss: 0.2070 - sparse_categorical_accuracy: 0.9194 - val_loss: 0.2840 - val_sparse_categorical_accuracy: 0.9042\n",
            "Epoch 151/300\n",
            "375/375 [==============================] - 2s 7ms/step - loss: 0.2038 - sparse_categorical_accuracy: 0.9222 - val_loss: 0.2880 - val_sparse_categorical_accuracy: 0.9042\n",
            "Epoch 152/300\n",
            "375/375 [==============================] - 2s 6ms/step - loss: 0.2052 - sparse_categorical_accuracy: 0.9210 - val_loss: 0.2915 - val_sparse_categorical_accuracy: 0.9050\n",
            "Epoch 153/300\n",
            "375/375 [==============================] - 3s 7ms/step - loss: 0.2076 - sparse_categorical_accuracy: 0.9205 - val_loss: 0.2851 - val_sparse_categorical_accuracy: 0.9065\n",
            "Epoch 154/300\n",
            "375/375 [==============================] - 3s 7ms/step - loss: 0.2085 - sparse_categorical_accuracy: 0.9185 - val_loss: 0.2838 - val_sparse_categorical_accuracy: 0.9029\n",
            "Epoch 155/300\n",
            "375/375 [==============================] - 2s 6ms/step - loss: 0.2036 - sparse_categorical_accuracy: 0.9221 - val_loss: 0.2929 - val_sparse_categorical_accuracy: 0.9046\n",
            "Epoch 156/300\n",
            "375/375 [==============================] - 2s 6ms/step - loss: 0.2050 - sparse_categorical_accuracy: 0.9217 - val_loss: 0.2814 - val_sparse_categorical_accuracy: 0.9052\n",
            "Epoch 157/300\n",
            "375/375 [==============================] - 2s 6ms/step - loss: 0.2055 - sparse_categorical_accuracy: 0.9220 - val_loss: 0.2900 - val_sparse_categorical_accuracy: 0.9054\n",
            "Epoch 158/300\n",
            "375/375 [==============================] - 3s 7ms/step - loss: 0.2021 - sparse_categorical_accuracy: 0.9224 - val_loss: 0.2868 - val_sparse_categorical_accuracy: 0.9074\n",
            "Epoch 159/300\n",
            "375/375 [==============================] - 3s 7ms/step - loss: 0.2037 - sparse_categorical_accuracy: 0.9225 - val_loss: 0.2853 - val_sparse_categorical_accuracy: 0.9039\n",
            "Epoch 160/300\n",
            "375/375 [==============================] - 2s 6ms/step - loss: 0.2040 - sparse_categorical_accuracy: 0.9202 - val_loss: 0.2849 - val_sparse_categorical_accuracy: 0.9055\n",
            "Epoch 161/300\n",
            "375/375 [==============================] - 2s 6ms/step - loss: 0.1996 - sparse_categorical_accuracy: 0.9240 - val_loss: 0.2777 - val_sparse_categorical_accuracy: 0.9063\n",
            "Epoch 162/300\n",
            "375/375 [==============================] - 2s 6ms/step - loss: 0.2027 - sparse_categorical_accuracy: 0.9223 - val_loss: 0.2834 - val_sparse_categorical_accuracy: 0.9045\n",
            "Epoch 163/300\n",
            "375/375 [==============================] - 3s 7ms/step - loss: 0.2055 - sparse_categorical_accuracy: 0.9204 - val_loss: 0.2843 - val_sparse_categorical_accuracy: 0.9053\n",
            "Epoch 164/300\n",
            "375/375 [==============================] - 3s 7ms/step - loss: 0.2032 - sparse_categorical_accuracy: 0.9222 - val_loss: 0.2859 - val_sparse_categorical_accuracy: 0.9049\n",
            "Epoch 165/300\n",
            "375/375 [==============================] - 2s 7ms/step - loss: 0.2019 - sparse_categorical_accuracy: 0.9219 - val_loss: 0.3013 - val_sparse_categorical_accuracy: 0.9046\n",
            "Epoch 166/300\n",
            "375/375 [==============================] - 2s 6ms/step - loss: 0.2053 - sparse_categorical_accuracy: 0.9214 - val_loss: 0.2820 - val_sparse_categorical_accuracy: 0.9038\n",
            "Epoch 167/300\n",
            "375/375 [==============================] - 2s 6ms/step - loss: 0.2001 - sparse_categorical_accuracy: 0.9235 - val_loss: 0.2861 - val_sparse_categorical_accuracy: 0.9055\n",
            "Epoch 168/300\n",
            "375/375 [==============================] - 3s 7ms/step - loss: 0.2053 - sparse_categorical_accuracy: 0.9220 - val_loss: 0.2909 - val_sparse_categorical_accuracy: 0.9061\n",
            "Epoch 169/300\n",
            "375/375 [==============================] - 2s 6ms/step - loss: 0.2033 - sparse_categorical_accuracy: 0.9227 - val_loss: 0.2898 - val_sparse_categorical_accuracy: 0.9038\n",
            "Epoch 170/300\n",
            "375/375 [==============================] - 2s 6ms/step - loss: 0.2018 - sparse_categorical_accuracy: 0.9226 - val_loss: 0.2925 - val_sparse_categorical_accuracy: 0.9053\n",
            "Epoch 171/300\n",
            "375/375 [==============================] - 2s 6ms/step - loss: 0.2022 - sparse_categorical_accuracy: 0.9220 - val_loss: 0.2835 - val_sparse_categorical_accuracy: 0.9043\n",
            "Epoch 172/300\n",
            "375/375 [==============================] - 2s 6ms/step - loss: 0.1986 - sparse_categorical_accuracy: 0.9236 - val_loss: 0.2848 - val_sparse_categorical_accuracy: 0.9068\n",
            "Epoch 173/300\n",
            "375/375 [==============================] - 3s 7ms/step - loss: 0.2023 - sparse_categorical_accuracy: 0.9228 - val_loss: 0.2903 - val_sparse_categorical_accuracy: 0.9041\n",
            "Epoch 174/300\n",
            "375/375 [==============================] - 3s 7ms/step - loss: 0.2019 - sparse_categorical_accuracy: 0.9217 - val_loss: 0.2968 - val_sparse_categorical_accuracy: 0.9037\n",
            "Epoch 175/300\n",
            "375/375 [==============================] - 2s 6ms/step - loss: 0.2009 - sparse_categorical_accuracy: 0.9229 - val_loss: 0.2945 - val_sparse_categorical_accuracy: 0.9039\n",
            "Epoch 176/300\n",
            "375/375 [==============================] - 2s 6ms/step - loss: 0.1996 - sparse_categorical_accuracy: 0.9244 - val_loss: 0.2945 - val_sparse_categorical_accuracy: 0.9053\n",
            "Epoch 177/300\n",
            "375/375 [==============================] - 2s 6ms/step - loss: 0.1993 - sparse_categorical_accuracy: 0.9229 - val_loss: 0.2956 - val_sparse_categorical_accuracy: 0.9052\n",
            "Epoch 178/300\n",
            "375/375 [==============================] - 3s 7ms/step - loss: 0.2000 - sparse_categorical_accuracy: 0.9230 - val_loss: 0.2991 - val_sparse_categorical_accuracy: 0.9033\n",
            "Epoch 179/300\n",
            "375/375 [==============================] - 3s 7ms/step - loss: 0.1988 - sparse_categorical_accuracy: 0.9233 - val_loss: 0.2995 - val_sparse_categorical_accuracy: 0.9053\n",
            "Epoch 180/300\n",
            "375/375 [==============================] - 2s 6ms/step - loss: 0.2002 - sparse_categorical_accuracy: 0.9234 - val_loss: 0.2978 - val_sparse_categorical_accuracy: 0.9048\n",
            "Epoch 181/300\n",
            "375/375 [==============================] - 2s 6ms/step - loss: 0.2017 - sparse_categorical_accuracy: 0.9235 - val_loss: 0.2958 - val_sparse_categorical_accuracy: 0.9052\n",
            "Epoch 182/300\n",
            "375/375 [==============================] - 2s 6ms/step - loss: 0.1985 - sparse_categorical_accuracy: 0.9238 - val_loss: 0.2861 - val_sparse_categorical_accuracy: 0.9061\n",
            "Epoch 183/300\n",
            "375/375 [==============================] - 3s 7ms/step - loss: 0.2000 - sparse_categorical_accuracy: 0.9226 - val_loss: 0.2935 - val_sparse_categorical_accuracy: 0.9035\n",
            "Epoch 184/300\n",
            "375/375 [==============================] - 3s 7ms/step - loss: 0.1970 - sparse_categorical_accuracy: 0.9231 - val_loss: 0.2916 - val_sparse_categorical_accuracy: 0.9025\n",
            "Epoch 185/300\n",
            "375/375 [==============================] - 2s 6ms/step - loss: 0.1985 - sparse_categorical_accuracy: 0.9239 - val_loss: 0.2974 - val_sparse_categorical_accuracy: 0.9038\n",
            "Epoch 186/300\n",
            "375/375 [==============================] - 2s 6ms/step - loss: 0.2010 - sparse_categorical_accuracy: 0.9226 - val_loss: 0.2920 - val_sparse_categorical_accuracy: 0.9038\n",
            "Epoch 187/300\n",
            "375/375 [==============================] - 2s 6ms/step - loss: 0.1968 - sparse_categorical_accuracy: 0.9243 - val_loss: 0.2872 - val_sparse_categorical_accuracy: 0.9025\n",
            "Epoch 188/300\n",
            "375/375 [==============================] - 3s 7ms/step - loss: 0.2008 - sparse_categorical_accuracy: 0.9225 - val_loss: 0.2825 - val_sparse_categorical_accuracy: 0.9043\n",
            "Epoch 189/300\n",
            "375/375 [==============================] - 2s 6ms/step - loss: 0.1983 - sparse_categorical_accuracy: 0.9239 - val_loss: 0.2926 - val_sparse_categorical_accuracy: 0.9046\n",
            "Epoch 190/300\n",
            "375/375 [==============================] - 2s 6ms/step - loss: 0.1989 - sparse_categorical_accuracy: 0.9229 - val_loss: 0.2958 - val_sparse_categorical_accuracy: 0.9038\n",
            "Epoch 191/300\n",
            "375/375 [==============================] - 2s 6ms/step - loss: 0.1990 - sparse_categorical_accuracy: 0.9219 - val_loss: 0.2991 - val_sparse_categorical_accuracy: 0.9054\n",
            "Epoch 192/300\n",
            "375/375 [==============================] - 2s 6ms/step - loss: 0.1975 - sparse_categorical_accuracy: 0.9243 - val_loss: 0.2758 - val_sparse_categorical_accuracy: 0.9061\n",
            "Epoch 193/300\n",
            "375/375 [==============================] - 3s 8ms/step - loss: 0.1952 - sparse_categorical_accuracy: 0.9250 - val_loss: 0.2913 - val_sparse_categorical_accuracy: 0.9060\n",
            "Epoch 194/300\n",
            "375/375 [==============================] - 2s 6ms/step - loss: 0.1988 - sparse_categorical_accuracy: 0.9240 - val_loss: 0.3009 - val_sparse_categorical_accuracy: 0.9038\n",
            "Epoch 195/300\n",
            "375/375 [==============================] - 2s 6ms/step - loss: 0.1980 - sparse_categorical_accuracy: 0.9241 - val_loss: 0.2853 - val_sparse_categorical_accuracy: 0.9042\n",
            "Epoch 196/300\n",
            "375/375 [==============================] - 2s 6ms/step - loss: 0.1980 - sparse_categorical_accuracy: 0.9244 - val_loss: 0.2869 - val_sparse_categorical_accuracy: 0.9068\n",
            "Epoch 197/300\n",
            "375/375 [==============================] - 2s 6ms/step - loss: 0.1964 - sparse_categorical_accuracy: 0.9244 - val_loss: 0.2922 - val_sparse_categorical_accuracy: 0.9033\n",
            "Epoch 198/300\n",
            "375/375 [==============================] - 3s 7ms/step - loss: 0.1957 - sparse_categorical_accuracy: 0.9245 - val_loss: 0.2903 - val_sparse_categorical_accuracy: 0.9049\n",
            "Epoch 199/300\n",
            "375/375 [==============================] - 2s 6ms/step - loss: 0.1962 - sparse_categorical_accuracy: 0.9249 - val_loss: 0.2888 - val_sparse_categorical_accuracy: 0.9058\n",
            "Epoch 200/300\n",
            "375/375 [==============================] - 2s 7ms/step - loss: 0.1982 - sparse_categorical_accuracy: 0.9256 - val_loss: 0.2913 - val_sparse_categorical_accuracy: 0.9058\n",
            "Epoch 201/300\n",
            "375/375 [==============================] - 2s 6ms/step - loss: 0.1974 - sparse_categorical_accuracy: 0.9239 - val_loss: 0.3003 - val_sparse_categorical_accuracy: 0.9034\n",
            "Epoch 202/300\n",
            "375/375 [==============================] - 2s 6ms/step - loss: 0.1984 - sparse_categorical_accuracy: 0.9232 - val_loss: 0.2877 - val_sparse_categorical_accuracy: 0.9036\n",
            "Epoch 203/300\n",
            "375/375 [==============================] - 3s 7ms/step - loss: 0.1945 - sparse_categorical_accuracy: 0.9260 - val_loss: 0.2821 - val_sparse_categorical_accuracy: 0.9039\n",
            "Epoch 204/300\n",
            "375/375 [==============================] - 2s 6ms/step - loss: 0.1965 - sparse_categorical_accuracy: 0.9245 - val_loss: 0.2922 - val_sparse_categorical_accuracy: 0.9037\n",
            "Epoch 205/300\n",
            "375/375 [==============================] - 2s 6ms/step - loss: 0.1985 - sparse_categorical_accuracy: 0.9246 - val_loss: 0.2851 - val_sparse_categorical_accuracy: 0.9039\n",
            "Epoch 206/300\n",
            "375/375 [==============================] - 2s 6ms/step - loss: 0.1963 - sparse_categorical_accuracy: 0.9254 - val_loss: 0.2967 - val_sparse_categorical_accuracy: 0.9067\n",
            "Epoch 207/300\n",
            "375/375 [==============================] - 2s 6ms/step - loss: 0.1986 - sparse_categorical_accuracy: 0.9241 - val_loss: 0.2838 - val_sparse_categorical_accuracy: 0.9070\n",
            "Epoch 208/300\n",
            "375/375 [==============================] - 3s 7ms/step - loss: 0.1964 - sparse_categorical_accuracy: 0.9246 - val_loss: 0.2794 - val_sparse_categorical_accuracy: 0.9056\n",
            "Epoch 209/300\n",
            "375/375 [==============================] - 2s 6ms/step - loss: 0.1924 - sparse_categorical_accuracy: 0.9254 - val_loss: 0.2918 - val_sparse_categorical_accuracy: 0.9053\n",
            "Epoch 210/300\n",
            "375/375 [==============================] - 2s 6ms/step - loss: 0.1942 - sparse_categorical_accuracy: 0.9251 - val_loss: 0.2874 - val_sparse_categorical_accuracy: 0.9046\n",
            "Epoch 211/300\n",
            "375/375 [==============================] - 2s 6ms/step - loss: 0.1940 - sparse_categorical_accuracy: 0.9247 - val_loss: 0.2851 - val_sparse_categorical_accuracy: 0.9053\n",
            "Epoch 212/300\n",
            "375/375 [==============================] - 2s 7ms/step - loss: 0.1943 - sparse_categorical_accuracy: 0.9265 - val_loss: 0.2923 - val_sparse_categorical_accuracy: 0.9048\n",
            "Epoch 213/300\n",
            "375/375 [==============================] - 3s 8ms/step - loss: 0.1922 - sparse_categorical_accuracy: 0.9254 - val_loss: 0.2922 - val_sparse_categorical_accuracy: 0.9049\n",
            "Epoch 214/300\n",
            "375/375 [==============================] - 2s 6ms/step - loss: 0.1956 - sparse_categorical_accuracy: 0.9249 - val_loss: 0.2875 - val_sparse_categorical_accuracy: 0.9050\n",
            "Epoch 215/300\n",
            "375/375 [==============================] - 2s 6ms/step - loss: 0.1968 - sparse_categorical_accuracy: 0.9243 - val_loss: 0.2957 - val_sparse_categorical_accuracy: 0.9068\n",
            "Epoch 216/300\n",
            "375/375 [==============================] - 2s 6ms/step - loss: 0.1964 - sparse_categorical_accuracy: 0.9256 - val_loss: 0.2922 - val_sparse_categorical_accuracy: 0.9073\n",
            "Epoch 217/300\n",
            "375/375 [==============================] - 2s 6ms/step - loss: 0.1936 - sparse_categorical_accuracy: 0.9252 - val_loss: 0.2863 - val_sparse_categorical_accuracy: 0.9039\n",
            "Epoch 218/300\n",
            "375/375 [==============================] - 3s 7ms/step - loss: 0.1956 - sparse_categorical_accuracy: 0.9245 - val_loss: 0.2939 - val_sparse_categorical_accuracy: 0.9059\n",
            "Epoch 219/300\n",
            "375/375 [==============================] - 2s 6ms/step - loss: 0.1911 - sparse_categorical_accuracy: 0.9262 - val_loss: 0.2890 - val_sparse_categorical_accuracy: 0.9052\n",
            "Epoch 220/300\n",
            "375/375 [==============================] - 2s 7ms/step - loss: 0.1985 - sparse_categorical_accuracy: 0.9233 - val_loss: 0.2917 - val_sparse_categorical_accuracy: 0.9072\n",
            "Epoch 221/300\n",
            "375/375 [==============================] - 2s 6ms/step - loss: 0.1909 - sparse_categorical_accuracy: 0.9260 - val_loss: 0.2938 - val_sparse_categorical_accuracy: 0.9064\n",
            "Epoch 222/300\n",
            "375/375 [==============================] - 2s 6ms/step - loss: 0.1949 - sparse_categorical_accuracy: 0.9248 - val_loss: 0.2920 - val_sparse_categorical_accuracy: 0.9047\n",
            "Epoch 223/300\n",
            "375/375 [==============================] - 3s 7ms/step - loss: 0.1956 - sparse_categorical_accuracy: 0.9235 - val_loss: 0.2955 - val_sparse_categorical_accuracy: 0.9053\n",
            "Epoch 224/300\n",
            "375/375 [==============================] - 2s 6ms/step - loss: 0.1939 - sparse_categorical_accuracy: 0.9255 - val_loss: 0.2932 - val_sparse_categorical_accuracy: 0.9046\n",
            "Epoch 225/300\n",
            "375/375 [==============================] - 2s 6ms/step - loss: 0.1928 - sparse_categorical_accuracy: 0.9255 - val_loss: 0.2937 - val_sparse_categorical_accuracy: 0.9023\n",
            "Epoch 226/300\n",
            "375/375 [==============================] - 2s 7ms/step - loss: 0.1933 - sparse_categorical_accuracy: 0.9251 - val_loss: 0.2902 - val_sparse_categorical_accuracy: 0.9053\n",
            "Epoch 227/300\n",
            "375/375 [==============================] - 3s 7ms/step - loss: 0.1925 - sparse_categorical_accuracy: 0.9268 - val_loss: 0.2819 - val_sparse_categorical_accuracy: 0.9063\n",
            "Epoch 228/300\n",
            "375/375 [==============================] - 3s 7ms/step - loss: 0.1952 - sparse_categorical_accuracy: 0.9259 - val_loss: 0.2896 - val_sparse_categorical_accuracy: 0.9051\n",
            "Epoch 229/300\n",
            "375/375 [==============================] - 2s 6ms/step - loss: 0.1920 - sparse_categorical_accuracy: 0.9258 - val_loss: 0.2934 - val_sparse_categorical_accuracy: 0.9039\n",
            "Epoch 230/300\n",
            "375/375 [==============================] - 2s 6ms/step - loss: 0.1934 - sparse_categorical_accuracy: 0.9253 - val_loss: 0.2865 - val_sparse_categorical_accuracy: 0.9063\n",
            "Epoch 231/300\n",
            "375/375 [==============================] - 2s 6ms/step - loss: 0.1947 - sparse_categorical_accuracy: 0.9258 - val_loss: 0.3063 - val_sparse_categorical_accuracy: 0.9053\n",
            "Epoch 232/300\n",
            "375/375 [==============================] - 2s 6ms/step - loss: 0.1933 - sparse_categorical_accuracy: 0.9275 - val_loss: 0.2952 - val_sparse_categorical_accuracy: 0.9043\n",
            "Epoch 233/300\n",
            "375/375 [==============================] - 3s 7ms/step - loss: 0.1923 - sparse_categorical_accuracy: 0.9273 - val_loss: 0.2883 - val_sparse_categorical_accuracy: 0.9051\n",
            "Epoch 234/300\n",
            "375/375 [==============================] - 2s 6ms/step - loss: 0.1885 - sparse_categorical_accuracy: 0.9277 - val_loss: 0.2986 - val_sparse_categorical_accuracy: 0.9053\n",
            "Epoch 235/300\n",
            "375/375 [==============================] - 2s 6ms/step - loss: 0.1941 - sparse_categorical_accuracy: 0.9266 - val_loss: 0.2879 - val_sparse_categorical_accuracy: 0.9036\n",
            "Epoch 236/300\n",
            "375/375 [==============================] - 2s 6ms/step - loss: 0.1902 - sparse_categorical_accuracy: 0.9258 - val_loss: 0.2892 - val_sparse_categorical_accuracy: 0.9064\n",
            "Epoch 237/300\n",
            "375/375 [==============================] - 2s 6ms/step - loss: 0.1952 - sparse_categorical_accuracy: 0.9258 - val_loss: 0.2864 - val_sparse_categorical_accuracy: 0.9063\n",
            "Epoch 238/300\n",
            "375/375 [==============================] - 3s 7ms/step - loss: 0.1905 - sparse_categorical_accuracy: 0.9271 - val_loss: 0.2931 - val_sparse_categorical_accuracy: 0.9043\n",
            "Epoch 239/300\n",
            "375/375 [==============================] - 2s 6ms/step - loss: 0.1886 - sparse_categorical_accuracy: 0.9276 - val_loss: 0.2851 - val_sparse_categorical_accuracy: 0.9087\n",
            "Epoch 240/300\n",
            "375/375 [==============================] - 2s 6ms/step - loss: 0.1905 - sparse_categorical_accuracy: 0.9270 - val_loss: 0.2985 - val_sparse_categorical_accuracy: 0.9046\n",
            "Epoch 241/300\n",
            "375/375 [==============================] - 2s 6ms/step - loss: 0.1918 - sparse_categorical_accuracy: 0.9260 - val_loss: 0.2881 - val_sparse_categorical_accuracy: 0.9067\n",
            "Epoch 242/300\n",
            "375/375 [==============================] - 2s 6ms/step - loss: 0.1900 - sparse_categorical_accuracy: 0.9264 - val_loss: 0.2919 - val_sparse_categorical_accuracy: 0.9059\n",
            "Epoch 243/300\n",
            "375/375 [==============================] - 3s 7ms/step - loss: 0.1910 - sparse_categorical_accuracy: 0.9263 - val_loss: 0.2980 - val_sparse_categorical_accuracy: 0.9044\n",
            "Epoch 244/300\n",
            "375/375 [==============================] - 2s 6ms/step - loss: 0.1887 - sparse_categorical_accuracy: 0.9276 - val_loss: 0.3019 - val_sparse_categorical_accuracy: 0.9049\n",
            "Epoch 245/300\n",
            "375/375 [==============================] - 2s 6ms/step - loss: 0.1903 - sparse_categorical_accuracy: 0.9276 - val_loss: 0.3012 - val_sparse_categorical_accuracy: 0.9059\n",
            "Epoch 246/300\n",
            "375/375 [==============================] - 2s 6ms/step - loss: 0.1918 - sparse_categorical_accuracy: 0.9269 - val_loss: 0.2839 - val_sparse_categorical_accuracy: 0.9054\n",
            "Epoch 247/300\n",
            "375/375 [==============================] - 2s 6ms/step - loss: 0.1930 - sparse_categorical_accuracy: 0.9260 - val_loss: 0.2851 - val_sparse_categorical_accuracy: 0.9061\n",
            "Epoch 248/300\n",
            "375/375 [==============================] - 3s 7ms/step - loss: 0.1886 - sparse_categorical_accuracy: 0.9285 - val_loss: 0.3017 - val_sparse_categorical_accuracy: 0.9062\n",
            "Epoch 249/300\n",
            "375/375 [==============================] - 2s 6ms/step - loss: 0.1923 - sparse_categorical_accuracy: 0.9273 - val_loss: 0.2910 - val_sparse_categorical_accuracy: 0.9069\n",
            "Epoch 250/300\n",
            "375/375 [==============================] - 2s 6ms/step - loss: 0.1891 - sparse_categorical_accuracy: 0.9280 - val_loss: 0.2925 - val_sparse_categorical_accuracy: 0.9053\n",
            "Epoch 251/300\n",
            "375/375 [==============================] - 2s 6ms/step - loss: 0.1930 - sparse_categorical_accuracy: 0.9262 - val_loss: 0.2942 - val_sparse_categorical_accuracy: 0.9073\n",
            "Epoch 252/300\n",
            "375/375 [==============================] - 2s 6ms/step - loss: 0.1896 - sparse_categorical_accuracy: 0.9271 - val_loss: 0.2976 - val_sparse_categorical_accuracy: 0.9026\n",
            "Epoch 253/300\n",
            "375/375 [==============================] - 3s 7ms/step - loss: 0.1889 - sparse_categorical_accuracy: 0.9281 - val_loss: 0.3018 - val_sparse_categorical_accuracy: 0.9039\n",
            "Epoch 254/300\n",
            "375/375 [==============================] - 2s 6ms/step - loss: 0.1900 - sparse_categorical_accuracy: 0.9267 - val_loss: 0.2971 - val_sparse_categorical_accuracy: 0.9053\n",
            "Epoch 255/300\n",
            "375/375 [==============================] - 2s 6ms/step - loss: 0.1926 - sparse_categorical_accuracy: 0.9273 - val_loss: 0.2898 - val_sparse_categorical_accuracy: 0.9047\n",
            "Epoch 256/300\n",
            "375/375 [==============================] - 2s 6ms/step - loss: 0.1916 - sparse_categorical_accuracy: 0.9265 - val_loss: 0.2874 - val_sparse_categorical_accuracy: 0.9068\n",
            "Epoch 257/300\n",
            "375/375 [==============================] - 2s 6ms/step - loss: 0.1926 - sparse_categorical_accuracy: 0.9252 - val_loss: 0.2857 - val_sparse_categorical_accuracy: 0.9060\n",
            "Epoch 258/300\n",
            "375/375 [==============================] - 3s 7ms/step - loss: 0.1855 - sparse_categorical_accuracy: 0.9302 - val_loss: 0.3024 - val_sparse_categorical_accuracy: 0.9048\n",
            "Epoch 259/300\n",
            "375/375 [==============================] - 2s 6ms/step - loss: 0.1880 - sparse_categorical_accuracy: 0.9273 - val_loss: 0.2996 - val_sparse_categorical_accuracy: 0.9045\n",
            "Epoch 260/300\n",
            "375/375 [==============================] - 2s 6ms/step - loss: 0.1873 - sparse_categorical_accuracy: 0.9280 - val_loss: 0.2956 - val_sparse_categorical_accuracy: 0.9069\n",
            "Epoch 261/300\n",
            "375/375 [==============================] - 2s 6ms/step - loss: 0.1878 - sparse_categorical_accuracy: 0.9280 - val_loss: 0.3020 - val_sparse_categorical_accuracy: 0.9051\n",
            "Epoch 262/300\n",
            "375/375 [==============================] - 2s 6ms/step - loss: 0.1871 - sparse_categorical_accuracy: 0.9277 - val_loss: 0.3049 - val_sparse_categorical_accuracy: 0.9057\n",
            "Epoch 263/300\n",
            "375/375 [==============================] - 3s 7ms/step - loss: 0.1847 - sparse_categorical_accuracy: 0.9288 - val_loss: 0.2954 - val_sparse_categorical_accuracy: 0.9069\n",
            "Epoch 264/300\n",
            "375/375 [==============================] - 2s 6ms/step - loss: 0.1911 - sparse_categorical_accuracy: 0.9285 - val_loss: 0.2949 - val_sparse_categorical_accuracy: 0.9058\n",
            "Epoch 265/300\n",
            "375/375 [==============================] - 2s 6ms/step - loss: 0.1873 - sparse_categorical_accuracy: 0.9285 - val_loss: 0.2965 - val_sparse_categorical_accuracy: 0.9076\n",
            "Epoch 266/300\n",
            "375/375 [==============================] - 2s 6ms/step - loss: 0.1886 - sparse_categorical_accuracy: 0.9283 - val_loss: 0.2994 - val_sparse_categorical_accuracy: 0.9049\n",
            "Epoch 267/300\n",
            "375/375 [==============================] - 2s 7ms/step - loss: 0.1873 - sparse_categorical_accuracy: 0.9276 - val_loss: 0.3007 - val_sparse_categorical_accuracy: 0.9054\n",
            "Epoch 268/300\n",
            "375/375 [==============================] - 3s 7ms/step - loss: 0.1868 - sparse_categorical_accuracy: 0.9293 - val_loss: 0.3087 - val_sparse_categorical_accuracy: 0.9050\n",
            "Epoch 269/300\n",
            "375/375 [==============================] - 2s 6ms/step - loss: 0.1897 - sparse_categorical_accuracy: 0.9262 - val_loss: 0.2932 - val_sparse_categorical_accuracy: 0.9047\n",
            "Epoch 270/300\n",
            "375/375 [==============================] - 2s 6ms/step - loss: 0.1905 - sparse_categorical_accuracy: 0.9275 - val_loss: 0.3004 - val_sparse_categorical_accuracy: 0.9063\n",
            "Epoch 271/300\n",
            "375/375 [==============================] - 2s 6ms/step - loss: 0.1894 - sparse_categorical_accuracy: 0.9272 - val_loss: 0.2934 - val_sparse_categorical_accuracy: 0.9082\n",
            "Epoch 272/300\n",
            "375/375 [==============================] - 2s 6ms/step - loss: 0.1875 - sparse_categorical_accuracy: 0.9285 - val_loss: 0.2949 - val_sparse_categorical_accuracy: 0.9049\n",
            "Epoch 273/300\n",
            "375/375 [==============================] - 3s 7ms/step - loss: 0.1862 - sparse_categorical_accuracy: 0.9293 - val_loss: 0.2934 - val_sparse_categorical_accuracy: 0.9057\n",
            "Epoch 274/300\n",
            "375/375 [==============================] - 2s 6ms/step - loss: 0.1882 - sparse_categorical_accuracy: 0.9281 - val_loss: 0.2941 - val_sparse_categorical_accuracy: 0.9057\n",
            "Epoch 275/300\n",
            "375/375 [==============================] - 2s 6ms/step - loss: 0.1867 - sparse_categorical_accuracy: 0.9291 - val_loss: 0.3012 - val_sparse_categorical_accuracy: 0.9047\n",
            "Epoch 276/300\n",
            "375/375 [==============================] - 2s 7ms/step - loss: 0.1856 - sparse_categorical_accuracy: 0.9295 - val_loss: 0.3056 - val_sparse_categorical_accuracy: 0.9041\n",
            "Epoch 277/300\n",
            "375/375 [==============================] - 2s 6ms/step - loss: 0.1871 - sparse_categorical_accuracy: 0.9283 - val_loss: 0.2897 - val_sparse_categorical_accuracy: 0.9065\n",
            "Epoch 278/300\n",
            "375/375 [==============================] - 3s 7ms/step - loss: 0.1853 - sparse_categorical_accuracy: 0.9290 - val_loss: 0.3032 - val_sparse_categorical_accuracy: 0.9045\n",
            "Epoch 279/300\n",
            "375/375 [==============================] - 3s 7ms/step - loss: 0.1874 - sparse_categorical_accuracy: 0.9279 - val_loss: 0.2938 - val_sparse_categorical_accuracy: 0.9039\n",
            "Epoch 280/300\n",
            "375/375 [==============================] - 2s 7ms/step - loss: 0.1827 - sparse_categorical_accuracy: 0.9291 - val_loss: 0.3042 - val_sparse_categorical_accuracy: 0.9048\n",
            "Epoch 281/300\n",
            "375/375 [==============================] - 2s 6ms/step - loss: 0.1879 - sparse_categorical_accuracy: 0.9282 - val_loss: 0.2986 - val_sparse_categorical_accuracy: 0.9059\n",
            "Epoch 282/300\n",
            "375/375 [==============================] - 2s 7ms/step - loss: 0.1865 - sparse_categorical_accuracy: 0.9289 - val_loss: 0.2999 - val_sparse_categorical_accuracy: 0.9052\n",
            "Epoch 283/300\n",
            "375/375 [==============================] - 3s 8ms/step - loss: 0.1870 - sparse_categorical_accuracy: 0.9292 - val_loss: 0.2848 - val_sparse_categorical_accuracy: 0.9057\n",
            "Epoch 284/300\n",
            "375/375 [==============================] - 2s 6ms/step - loss: 0.1861 - sparse_categorical_accuracy: 0.9281 - val_loss: 0.2954 - val_sparse_categorical_accuracy: 0.9047\n",
            "Epoch 285/300\n",
            "375/375 [==============================] - 2s 6ms/step - loss: 0.1858 - sparse_categorical_accuracy: 0.9289 - val_loss: 0.2950 - val_sparse_categorical_accuracy: 0.9059\n",
            "Epoch 286/300\n",
            "375/375 [==============================] - 2s 7ms/step - loss: 0.1851 - sparse_categorical_accuracy: 0.9291 - val_loss: 0.2995 - val_sparse_categorical_accuracy: 0.9043\n",
            "Epoch 287/300\n",
            "375/375 [==============================] - 2s 6ms/step - loss: 0.1865 - sparse_categorical_accuracy: 0.9281 - val_loss: 0.2970 - val_sparse_categorical_accuracy: 0.9063\n",
            "Epoch 288/300\n",
            "375/375 [==============================] - 3s 7ms/step - loss: 0.1833 - sparse_categorical_accuracy: 0.9293 - val_loss: 0.3062 - val_sparse_categorical_accuracy: 0.9053\n",
            "Epoch 289/300\n",
            "375/375 [==============================] - 2s 6ms/step - loss: 0.1847 - sparse_categorical_accuracy: 0.9288 - val_loss: 0.2999 - val_sparse_categorical_accuracy: 0.9047\n",
            "Epoch 290/300\n",
            "375/375 [==============================] - 2s 6ms/step - loss: 0.1850 - sparse_categorical_accuracy: 0.9296 - val_loss: 0.2960 - val_sparse_categorical_accuracy: 0.9078\n",
            "Epoch 291/300\n",
            "375/375 [==============================] - 2s 6ms/step - loss: 0.1869 - sparse_categorical_accuracy: 0.9279 - val_loss: 0.2998 - val_sparse_categorical_accuracy: 0.9062\n",
            "Epoch 292/300\n",
            "375/375 [==============================] - 2s 6ms/step - loss: 0.1837 - sparse_categorical_accuracy: 0.9302 - val_loss: 0.2985 - val_sparse_categorical_accuracy: 0.9051\n",
            "Epoch 293/300\n",
            "375/375 [==============================] - 3s 7ms/step - loss: 0.1840 - sparse_categorical_accuracy: 0.9298 - val_loss: 0.3010 - val_sparse_categorical_accuracy: 0.9032\n",
            "Epoch 294/300\n",
            "375/375 [==============================] - 2s 6ms/step - loss: 0.1836 - sparse_categorical_accuracy: 0.9280 - val_loss: 0.2964 - val_sparse_categorical_accuracy: 0.9053\n",
            "Epoch 295/300\n",
            "375/375 [==============================] - 2s 6ms/step - loss: 0.1840 - sparse_categorical_accuracy: 0.9295 - val_loss: 0.3074 - val_sparse_categorical_accuracy: 0.9053\n",
            "Epoch 296/300\n",
            "375/375 [==============================] - 2s 6ms/step - loss: 0.1870 - sparse_categorical_accuracy: 0.9283 - val_loss: 0.2896 - val_sparse_categorical_accuracy: 0.9073\n",
            "Epoch 297/300\n",
            "375/375 [==============================] - 2s 6ms/step - loss: 0.1887 - sparse_categorical_accuracy: 0.9277 - val_loss: 0.2870 - val_sparse_categorical_accuracy: 0.9058\n",
            "Epoch 298/300\n",
            "375/375 [==============================] - 3s 7ms/step - loss: 0.1834 - sparse_categorical_accuracy: 0.9296 - val_loss: 0.2972 - val_sparse_categorical_accuracy: 0.9065\n",
            "Epoch 299/300\n",
            "375/375 [==============================] - 2s 6ms/step - loss: 0.1861 - sparse_categorical_accuracy: 0.9289 - val_loss: 0.2970 - val_sparse_categorical_accuracy: 0.9070\n",
            "Epoch 300/300\n",
            "375/375 [==============================] - 2s 7ms/step - loss: 0.1855 - sparse_categorical_accuracy: 0.9294 - val_loss: 0.3043 - val_sparse_categorical_accuracy: 0.9057\n",
            "313/313 [==============================] - 1s 3ms/step - loss: 0.3315 - sparse_categorical_accuracy: 0.8989\n",
            "\n",
            "Test accuracy: 0.8988999724388123\n"
          ]
        }
      ]
    },
    {
      "cell_type": "code",
      "source": [
        "print('\\nhistory dict:', list(history.history.keys()))"
      ],
      "metadata": {
        "id": "CxRE-B_Q6Sii",
        "colab": {
          "base_uri": "https://localhost:8080/"
        },
        "outputId": "f1bd120a-bc4e-47bf-dfb5-197ef8bf264d"
      },
      "execution_count": 12,
      "outputs": [
        {
          "output_type": "stream",
          "name": "stdout",
          "text": [
            "\n",
            "history dict: ['loss', 'sparse_categorical_accuracy', 'val_loss', 'val_sparse_categorical_accuracy']\n"
          ]
        }
      ]
    },
    {
      "cell_type": "code",
      "source": [
        "result = model.evaluate(x_test, y_test)\n",
        "print(result)"
      ],
      "metadata": {
        "id": "YXpwRRTvTBNg",
        "colab": {
          "base_uri": "https://localhost:8080/"
        },
        "outputId": "3e03ccbf-b2e1-4ac1-f400-81c74a8f006b"
      },
      "execution_count": 13,
      "outputs": [
        {
          "output_type": "stream",
          "name": "stdout",
          "text": [
            "313/313 [==============================] - 1s 2ms/step - loss: 0.3315 - sparse_categorical_accuracy: 0.8989\n",
            "[0.3315414488315582, 0.8988999724388123]\n"
          ]
        }
      ]
    },
    {
      "cell_type": "code",
      "source": [
        "saved_model = load_model('best_model.h5')\n",
        "result = saved_model.evaluate(x_test, y_test)\n",
        "print(result)"
      ],
      "metadata": {
        "colab": {
          "base_uri": "https://localhost:8080/"
        },
        "id": "dpaZAW0vp1AZ",
        "outputId": "8d9f8e72-5f28-48a7-eb23-ccaa62d57e50"
      },
      "execution_count": 14,
      "outputs": [
        {
          "output_type": "stream",
          "name": "stdout",
          "text": [
            "313/313 [==============================] - 1s 2ms/step - loss: 0.3286 - sparse_categorical_accuracy: 0.8977\n",
            "[0.32858821749687195, 0.8977000117301941]\n"
          ]
        }
      ]
    },
    {
      "cell_type": "code",
      "source": [
        "# from keras.models import load_model\n",
        "# saved_model = load_model('best_model.h5')\n",
        "# # _, train_acc = saved_model.evaluate(x_train, y_train, verbose=0)\n",
        "# _, test_acc = saved_model.evaluate(x_test, y_test, verbose=0)\n",
        "# print('Test: %.3f' % (test_acc))"
      ],
      "metadata": {
        "id": "DR_MS9DABo_K"
      },
      "execution_count": 15,
      "outputs": []
    },
    {
      "cell_type": "code",
      "source": [
        "history_dict = history.history\n",
        "loss_values = history_dict['loss']\n",
        "val_loss_values = history_dict['val_loss']\n",
        "\n",
        "epochs = range(1, len(history_dict['loss']) + 1)\n",
        "\n",
        "plt.figure(figsize=(10, 5))\n",
        "plt.plot(epochs, loss_values, 'bo', label='Training loss')\n",
        "plt.plot(epochs, val_loss_values, 'r', label='Validation loss')\n",
        "# plt.ylim (0.2, 0.5)\n",
        "plt.title('Training and validation loss')\n",
        "plt.xlabel('Epochs')\n",
        "plt.ylabel('Loss')\n",
        "# plt.legend()\n",
        "plt.grid(True)\n",
        "plt.show()\n",
        "1\n",
        "plt.clf()\n",
        "plt.figure(figsize=(10, 5))\n",
        "val_acc_values = history_dict['sparse_categorical_accuracy']\n",
        "plt.plot(epochs, history_dict['sparse_categorical_accuracy'], 'bo', label='Training acc')\n",
        "plt.plot(epochs, history_dict['val_sparse_categorical_accuracy'], 'r', label='Validation acc')\n",
        "# plt.ylim (0.80, 0.94)\n",
        "plt.title('Training and validation accuracy')\n",
        "plt.xlabel('Epochs')\n",
        "plt.ylabel('Accuracy')\n",
        "plt.legend()\n",
        "plt.grid(True)"
      ],
      "metadata": {
        "id": "2Ll_5sGlXKMH",
        "colab": {
          "base_uri": "https://localhost:8080/",
          "height": 975
        },
        "outputId": "6c922c88-c4bb-450d-aec4-1919181086bc"
      },
      "execution_count": 16,
      "outputs": [
        {
          "output_type": "display_data",
          "data": {
            "text/plain": [
              "<Figure size 1000x500 with 1 Axes>"
            ],
            "image/png": "[encoded data removed]"
          },
          "metadata": {}
        },
        {
          "output_type": "display_data",
          "data": {
            "text/plain": [
              "<Figure size 640x480 with 0 Axes>"
            ]
          },
          "metadata": {}
        },
        {
          "output_type": "display_data",
          "data": {
            "text/plain": [
              "<Figure size 1000x500 with 1 Axes>"
            ],
            "image/png": "[encoded data removed]"
          },
          "metadata": {}
        }
      ]
    },
    {
      "cell_type": "code",
      "source": [
        "probability_model = tf.keras.Sequential([model,\n",
        "                                         tf.keras.layers.Softmax()])"
      ],
      "metadata": {
        "id": "VzOdKAT_uV-f"
      },
      "execution_count": 17,
      "outputs": []
    },
    {
      "cell_type": "code",
      "source": [
        "predictions = probability_model.predict(x_test)"
      ],
      "metadata": {
        "id": "f4is3NFruYom",
        "colab": {
          "base_uri": "https://localhost:8080/"
        },
        "outputId": "f4883583-010f-42b6-eaae-e180a2371e32"
      },
      "execution_count": 18,
      "outputs": [
        {
          "output_type": "stream",
          "name": "stdout",
          "text": [
            "313/313 [==============================] - 1s 3ms/step\n"
          ]
        }
      ]
    },
    {
      "cell_type": "code",
      "source": [
        "predictions[0]"
      ],
      "metadata": {
        "id": "82cigvlZudz_",
        "colab": {
          "base_uri": "https://localhost:8080/"
        },
        "outputId": "ade45349-1bf6-47ed-a79b-7682345eb9dd"
      },
      "execution_count": 19,
      "outputs": [
        {
          "output_type": "execute_result",
          "data": {
            "text/plain": [
              "array([0.08533691, 0.08533691, 0.08533691, 0.08533691, 0.08533691,\n",
              "       0.08533694, 0.08533691, 0.08533797, 0.08533691, 0.23196675],\n",
              "      dtype=float32)"
            ]
          },
          "metadata": {},
          "execution_count": 19
        }
      ]
    },
    {
      "cell_type": "code",
      "source": [
        "model.summary()"
      ],
      "metadata": {
        "id": "6RsQPHyYuNGe",
        "colab": {
          "base_uri": "https://localhost:8080/"
        },
        "outputId": "99a0aebc-224c-49ce-efd1-7e3c9f88f304"
      },
      "execution_count": 20,
      "outputs": [
        {
          "output_type": "stream",
          "name": "stdout",
          "text": [
            "Model: \"sequential\"\n",
            "_________________________________________________________________\n",
            " Layer (type)                Output Shape              Param #   \n",
            "=================================================================\n",
            " flatten (Flatten)           (None, 784)               0         \n",
            "                                                                 \n",
            " dropout (Dropout)           (None, 784)               0         \n",
            "                                                                 \n",
            " batch_normalization (Batch  (None, 784)               3136      \n",
            " Normalization)                                                  \n",
            "                                                                 \n",
            " dense (Dense)               (None, 256)               200960    \n",
            "                                                                 \n",
            " dropout_1 (Dropout)         (None, 256)               0         \n",
            "                                                                 \n",
            " batch_normalization_1 (Bat  (None, 256)               1024      \n",
            " chNormalization)                                                \n",
            "                                                                 \n",
            " dense_1 (Dense)             (None, 512)               131584    \n",
            "                                                                 \n",
            " dropout_2 (Dropout)         (None, 512)               0         \n",
            "                                                                 \n",
            " batch_normalization_2 (Bat  (None, 512)               2048      \n",
            " chNormalization)                                                \n",
            "                                                                 \n",
            " dense_2 (Dense)             (None, 512)               262656    \n",
            "                                                                 \n",
            " dropout_3 (Dropout)         (None, 512)               0         \n",
            "                                                                 \n",
            " dense_3 (Dense)             (None, 10)                5130      \n",
            "                                                                 \n",
            "=================================================================\n",
            "Total params: 606538 (2.31 MB)\n",
            "Trainable params: 603434 (2.30 MB)\n",
            "Non-trainable params: 3104 (12.12 KB)\n",
            "_________________________________________________________________\n"
          ]
        }
      ]
    }
  ]
}