{
  "nbformat": 4,
  "nbformat_minor": 0,
  "metadata": {
    "colab": {
      "provenance": [],
      "gpuType": "T4",
      "authorship_tag": "ABX9TyNQc7v8SGouk0QCY9Nvr9u6",
      "include_colab_link": true
    },
    "kernelspec": {
      "name": "python3",
      "display_name": "Python 3"
    },
    "language_info": {
      "name": "python"
    },
    "accelerator": "GPU"
  },
  "cells": [
    {
      "cell_type": "markdown",
      "metadata": {
        "id": "view-in-github",
        "colab_type": "text"
      },
      "source": [
        "<a href=\"https://colab.research.google.com/github/PavelStelmakhV/hw310-keras-fasion-mnist/blob/main/keras_fasion_mnist_hw.ipynb\" target=\"_parent\"><img src=\"https://colab.research.google.com/assets/colab-badge.svg\" alt=\"Open In Colab\"/></a>"
      ]
    },
    {
      "cell_type": "code",
      "execution_count": 63,
      "metadata": {
        "id": "vv7w0bgAVQPO"
      },
      "outputs": [],
      "source": [
        "import tensorflow as tf\n",
        "import numpy as np\n",
        "import matplotlib.pyplot as plt\n",
        "import tf_keras\n",
        "\n",
        "from keras import layers\n",
        "from keras import regularizers\n",
        "from keras import callbacks\n",
        "from keras import initializers\n",
        "from keras.layers import BatchNormalization\n",
        "from keras.models import load_model"
      ]
    },
    {
      "cell_type": "code",
      "source": [
        "fashion_mnist = tf.keras.datasets.fashion_mnist\n",
        "\n",
        "(x_train, y_train), (x_test, y_test) = fashion_mnist.load_data()"
      ],
      "metadata": {
        "id": "mOpywsNAzfGB"
      },
      "execution_count": 64,
      "outputs": []
    },
    {
      "cell_type": "code",
      "source": [
        "# create validation data\n",
        "x_val = x_train[-10000:, :, :]\n",
        "x_train = x_train[:-10000, :, :]\n",
        "\n",
        "y_val = y_train[-10000:]\n",
        "y_train = y_train[:-10000]"
      ],
      "metadata": {
        "id": "jAs92sDoVU89"
      },
      "execution_count": 65,
      "outputs": []
    },
    {
      "cell_type": "code",
      "source": [
        "# mirror train image\n",
        "x_train_add = np.rot90(x_train, k=1, axes=(1,2))\n",
        "x_train_add = np.transpose(x_train_add, (0, 2, 1))"
      ],
      "metadata": {
        "id": "UHNuw-3D_v7x"
      },
      "execution_count": 66,
      "outputs": []
    },
    {
      "cell_type": "code",
      "source": [
        "y_train_add = y_train.copy()"
      ],
      "metadata": {
        "id": "TNDXV8RfZbt1"
      },
      "execution_count": 67,
      "outputs": []
    },
    {
      "cell_type": "code",
      "source": [
        "# remove boots image from addition data [5, 7, 9]\n",
        "for i in [5, 7, 9]:\n",
        "    index = np.where(y_train_add == i )\n",
        "    x_train_add = np.delete(x_train_add, index , axis=0)\n",
        "    y_train_add = np.delete(y_train_add, index , axis=0)"
      ],
      "metadata": {
        "id": "506yp4e5UqKp"
      },
      "execution_count": 69,
      "outputs": []
    },
    {
      "cell_type": "code",
      "source": [
        "x_train_add.shape"
      ],
      "metadata": {
        "colab": {
          "base_uri": "https://localhost:8080/"
        },
        "id": "WB-PVgBb116E",
        "outputId": "81ecc743-1bd2-4a8c-f636-16e910fb67b7"
      },
      "execution_count": 70,
      "outputs": [
        {
          "output_type": "execute_result",
          "data": {
            "text/plain": [
              "(34972, 28, 28)"
            ]
          },
          "metadata": {},
          "execution_count": 70
        }
      ]
    },
    {
      "cell_type": "code",
      "source": [
        "y_train_add.shape"
      ],
      "metadata": {
        "colab": {
          "base_uri": "https://localhost:8080/"
        },
        "id": "MjteIWwr2V-N",
        "outputId": "a2506764-4a8e-4329-f7bd-0237952d970b"
      },
      "execution_count": 71,
      "outputs": [
        {
          "output_type": "execute_result",
          "data": {
            "text/plain": [
              "(34972,)"
            ]
          },
          "metadata": {},
          "execution_count": 71
        }
      ]
    },
    {
      "cell_type": "code",
      "source": [
        "x_train = np.concatenate([\n",
        "    x_train,\n",
        "    x_train_add\n",
        "])"
      ],
      "metadata": {
        "id": "C25g0-L5PuhV"
      },
      "execution_count": 72,
      "outputs": []
    },
    {
      "cell_type": "code",
      "source": [
        "y_train = np.concatenate([\n",
        "    y_train,\n",
        "    y_train_add\n",
        "])"
      ],
      "metadata": {
        "id": "JiyI9CE-RWnR"
      },
      "execution_count": 73,
      "outputs": []
    },
    {
      "cell_type": "code",
      "source": [
        "plt.figure()\n",
        "plt.imshow(x_train[1])\n",
        "plt.colorbar()\n",
        "plt.grid(False)\n",
        "plt.show()"
      ],
      "metadata": {
        "colab": {
          "base_uri": "https://localhost:8080/",
          "height": 430
        },
        "id": "mq_QalIABCeU",
        "outputId": "4dff1446-2a07-4b75-d68e-aab021782c79"
      },
      "execution_count": 74,
      "outputs": [
        {
          "output_type": "display_data",
          "data": {
            "text/plain": [
              "<Figure size 640x480 with 2 Axes>"
            ],
            "image/png": "[encoded data removed]"
          },
          "metadata": {}
        }
      ]
    },
    {
      "cell_type": "code",
      "source": [
        "plt.figure()\n",
        "plt.imshow(x_train_add[0])\n",
        "plt.colorbar()\n",
        "plt.grid(False)\n",
        "plt.show()"
      ],
      "metadata": {
        "colab": {
          "base_uri": "https://localhost:8080/",
          "height": 430
        },
        "id": "CDLNL7Zw3HEc",
        "outputId": "1d542190-87de-487d-fd04-e826f3a5b05f"
      },
      "execution_count": 75,
      "outputs": [
        {
          "output_type": "display_data",
          "data": {
            "text/plain": [
              "<Figure size 640x480 with 2 Axes>"
            ],
            "image/png": "[encoded data removed]"
          },
          "metadata": {}
        }
      ]
    },
    {
      "cell_type": "code",
      "source": [
        "y_train[0]"
      ],
      "metadata": {
        "id": "wsP4Wjjp__SX",
        "outputId": "7a34e46a-78b0-4408-e984-b56e9b60b08b",
        "colab": {
          "base_uri": "https://localhost:8080/"
        }
      },
      "execution_count": 104,
      "outputs": [
        {
          "output_type": "execute_result",
          "data": {
            "text/plain": [
              "9.0"
            ]
          },
          "metadata": {},
          "execution_count": 104
        }
      ]
    },
    {
      "cell_type": "code",
      "source": [
        "y_train[50002]"
      ],
      "metadata": {
        "id": "CGosWf8dAI5S",
        "outputId": "1c1faf96-9f82-40e7-e063-231f14f4915f",
        "colab": {
          "base_uri": "https://localhost:8080/"
        }
      },
      "execution_count": 106,
      "outputs": [
        {
          "output_type": "execute_result",
          "data": {
            "text/plain": [
              "0.0"
            ]
          },
          "metadata": {},
          "execution_count": 106
        }
      ]
    },
    {
      "cell_type": "code",
      "source": [
        "x_train = x_train.astype('float32') / 255\n",
        "x_test = x_test.astype('float32') / 255\n",
        "\n",
        "y_train = y_train.astype('float32')\n",
        "y_test = y_test.astype('float32')\n",
        "\n",
        "x_val = x_val.astype('float32') / 255\n",
        "y_val = y_val.astype('float32')"
      ],
      "metadata": {
        "id": "t2gucjsJ0KUi"
      },
      "execution_count": 78,
      "outputs": []
    },
    {
      "cell_type": "code",
      "source": [
        "w_init_tanh = initializers.glorot_normal(seed=111)\n",
        "# w_init_relu = initializers.HeNormal(seed=66)\n",
        "w_init_relu = initializers.HeUniform(seed=24)\n",
        "b_init = initializers.Zeros()"
      ],
      "metadata": {
        "id": "yL9QTEtBGy4N"
      },
      "execution_count": 80,
      "outputs": []
    },
    {
      "cell_type": "code",
      "source": [
        "drop_out = 0.33"
      ],
      "metadata": {
        "id": "flsDcVTnU10J"
      },
      "execution_count": 81,
      "outputs": []
    },
    {
      "cell_type": "code",
      "source": [
        "def layer_relu(model, neurons):\n",
        "  model.add(BatchNormalization())\n",
        "  model.add(layers.Dense(neurons,\n",
        "                       activation='relu',\n",
        "                       kernel_initializer=w_init_relu,\n",
        "                       bias_initializer=b_init))\n",
        "  model.add(layers.Dropout(drop_out))\n",
        "  return model"
      ],
      "metadata": {
        "id": "ZZgs_25rKBCp"
      },
      "execution_count": 82,
      "outputs": []
    },
    {
      "cell_type": "code",
      "source": [
        "def layer_tanh(model, neurons):\n",
        "  model.add(BatchNormalization())\n",
        "  model.add(layers.Dense(neurons,\n",
        "                        activation='tanh',\n",
        "                        kernel_initializer=w_init_tanh,\n",
        "                        bias_initializer=b_init))\n",
        "  model.add(layers.Dropout(drop_out))\n",
        "  return model"
      ],
      "metadata": {
        "id": "90JLLnkBR50t"
      },
      "execution_count": 83,
      "outputs": []
    },
    {
      "cell_type": "code",
      "source": [
        "model = tf.keras.Sequential()\n",
        "\n",
        "neurons = 256\n",
        "\n",
        "model.add(layers.Flatten(input_shape=(28, 28)))\n",
        "model.add(layers.Dropout(drop_out))\n",
        "\n",
        "model = layer_relu(model, neurons*1)\n",
        "model = layer_relu(model, neurons*2)\n",
        "model = layer_relu(model, neurons*2)\n",
        "# model = layer_relu(model, neurons*1)\n",
        "\n",
        "\n",
        "model.add(layers.Dense(10, activation='softmax'))"
      ],
      "metadata": {
        "id": "atS39i4d0aqW"
      },
      "execution_count": 84,
      "outputs": []
    },
    {
      "cell_type": "markdown",
      "source": [
        "++++++++++++++++++++++++++++++++++++++++++++++++++++++++++++++++++++++++++++++++"
      ],
      "metadata": {
        "id": "tZO7hl7pM63y"
      }
    },
    {
      "cell_type": "code",
      "source": [
        "optimizer = tf.keras.optimizers.Nadam(learning_rate=0.0003,\n",
        "                                      beta_1=0.92,\n",
        "                                      beta_2=0.999,\n",
        "                                      epsilon=1e-04\n",
        ")"
      ],
      "metadata": {
        "id": "EzfnaqIZlfy8"
      },
      "execution_count": 85,
      "outputs": []
    },
    {
      "cell_type": "markdown",
      "source": [
        "++++++++++++++++++++++++++++++++++++++++++++++++++++++++++++++++++++++++++++++++"
      ],
      "metadata": {
        "id": "KHmBptvOM95Z"
      }
    },
    {
      "cell_type": "code",
      "source": [
        "model.compile(#optimizer='adam',\n",
        "              # optimizer='adamax',\n",
        "              optimizer=optimizer,\n",
        "              # optimizer='rmsprop',\n",
        "              # optimizer='sgd',\n",
        "              # optimizer='adadelta',\n",
        "              # loss='binary_crossentropy',\n",
        "              loss=tf.keras.losses.SparseCategoricalCrossentropy(),\n",
        "              metrics=['accuracy']) # sparse_categorical_accuracy"
      ],
      "metadata": {
        "id": "hENVaAC7ilNY"
      },
      "execution_count": 86,
      "outputs": []
    },
    {
      "cell_type": "code",
      "source": [
        "x = np.random.random((1, 28, 28))\n",
        "a = model.predict(x)\n",
        "_ = plt.hist(np.transpose(a))"
      ],
      "metadata": {
        "id": "RFgZHNNFMa8p",
        "outputId": "f690f7e6-6fdb-49d3-f44d-b642967e7210",
        "colab": {
          "base_uri": "https://localhost:8080/",
          "height": 448
        }
      },
      "execution_count": 87,
      "outputs": [
        {
          "output_type": "stream",
          "name": "stdout",
          "text": [
            "1/1 [==============================] - 0s 111ms/step\n"
          ]
        },
        {
          "output_type": "display_data",
          "data": {
            "text/plain": [
              "<Figure size 640x480 with 1 Axes>"
            ],
            "image/png": "[encoded data removed]"
          },
          "metadata": {}
        }
      ]
    },
    {
      "cell_type": "code",
      "source": [
        "y_pred = model.predict(x_test)"
      ],
      "metadata": {
        "id": "UDP8OKKZ8oQa",
        "outputId": "13c787ed-d805-4f01-b15d-0ef6548658d7",
        "colab": {
          "base_uri": "https://localhost:8080/"
        }
      },
      "execution_count": 88,
      "outputs": [
        {
          "output_type": "stream",
          "name": "stdout",
          "text": [
            "313/313 [==============================] - 1s 3ms/step\n"
          ]
        }
      ]
    },
    {
      "cell_type": "code",
      "source": [
        "callback = callbacks.EarlyStopping(monitor='val_loss',\n",
        "                                   patience=50,\n",
        "                                   restore_best_weights=True,\n",
        "                                   )\n",
        "es = callbacks.EarlyStopping(monitor='val_loss', mode='min', verbose=0, patience=60)\n",
        "mc = callbacks.ModelCheckpoint('best_model.h5', monitor='accuracy', mode='max', verbose=0, save_best_only=True)\n"
      ],
      "metadata": {
        "id": "5ihU4exVlsjm"
      },
      "execution_count": 89,
      "outputs": []
    },
    {
      "cell_type": "code",
      "source": [
        "history = model.fit(x_train, y_train,\n",
        "                    epochs=80,\n",
        "                    batch_size=128,\n",
        "                    # callbacks=[callback],\n",
        "                    callbacks=[mc],\n",
        "                    verbose=1, #многословие\n",
        "                    # validation_split=0.2\n",
        "                    validation_data=(x_val, y_val)\n",
        "                    )\n",
        "test_loss, test_acc = model.evaluate(x_test, y_test)\n",
        "print('\\nTest accuracy:', test_acc)"
      ],
      "metadata": {
        "id": "FH8HcMNm233I",
        "outputId": "0e28b649-82ce-406c-b169-91a96a3e45d8",
        "colab": {
          "base_uri": "https://localhost:8080/"
        }
      },
      "execution_count": 90,
      "outputs": [
        {
          "output_type": "stream",
          "name": "stdout",
          "text": [
            "Epoch 1/80\n",
            "664/664 [==============================] - 19s 24ms/step - loss: 0.9683 - accuracy: 0.6578 - val_loss: 0.5084 - val_accuracy: 0.8159\n",
            "Epoch 2/80\n",
            "  4/664 [..............................] - ETA: 13s - loss: 0.7240 - accuracy: 0.7324"
          ]
        },
        {
          "output_type": "stream",
          "name": "stderr",
          "text": [
            "/usr/local/lib/python3.10/dist-packages/keras/src/engine/training.py:3103: UserWarning: You are saving your model as an HDF5 file via `model.save()`. This file format is considered legacy. We recommend using instead the native Keras format, e.g. `model.save('my_model.keras')`.\n",
            "  saving_api.save_model(\n"
          ]
        },
        {
          "output_type": "stream",
          "name": "stdout",
          "text": [
            "664/664 [==============================] - 16s 24ms/step - loss: 0.6531 - accuracy: 0.7588 - val_loss: 0.4455 - val_accuracy: 0.8343\n",
            "Epoch 3/80\n",
            "664/664 [==============================] - 15s 23ms/step - loss: 0.5815 - accuracy: 0.7838 - val_loss: 0.4242 - val_accuracy: 0.8415\n",
            "Epoch 4/80\n",
            "664/664 [==============================] - 15s 23ms/step - loss: 0.5438 - accuracy: 0.7980 - val_loss: 0.4093 - val_accuracy: 0.8485\n",
            "Epoch 5/80\n",
            "664/664 [==============================] - 15s 23ms/step - loss: 0.5170 - accuracy: 0.8064 - val_loss: 0.4002 - val_accuracy: 0.8537\n",
            "Epoch 6/80\n",
            "664/664 [==============================] - 15s 23ms/step - loss: 0.4932 - accuracy: 0.8163 - val_loss: 0.3788 - val_accuracy: 0.8619\n",
            "Epoch 7/80\n",
            "664/664 [==============================] - 16s 24ms/step - loss: 0.4823 - accuracy: 0.8186 - val_loss: 0.3737 - val_accuracy: 0.8628\n",
            "Epoch 8/80\n",
            "664/664 [==============================] - 15s 23ms/step - loss: 0.4681 - accuracy: 0.8249 - val_loss: 0.3670 - val_accuracy: 0.8674\n",
            "Epoch 9/80\n",
            "664/664 [==============================] - 15s 23ms/step - loss: 0.4538 - accuracy: 0.8301 - val_loss: 0.3491 - val_accuracy: 0.8719\n",
            "Epoch 10/80\n",
            "664/664 [==============================] - 15s 23ms/step - loss: 0.4460 - accuracy: 0.8333 - val_loss: 0.3559 - val_accuracy: 0.8717\n",
            "Epoch 11/80\n",
            "664/664 [==============================] - 16s 24ms/step - loss: 0.4384 - accuracy: 0.8358 - val_loss: 0.3499 - val_accuracy: 0.8733\n",
            "Epoch 12/80\n",
            "664/664 [==============================] - 15s 23ms/step - loss: 0.4298 - accuracy: 0.8388 - val_loss: 0.3391 - val_accuracy: 0.8771\n",
            "Epoch 13/80\n",
            "664/664 [==============================] - 15s 23ms/step - loss: 0.4231 - accuracy: 0.8418 - val_loss: 0.3338 - val_accuracy: 0.8770\n",
            "Epoch 14/80\n",
            "664/664 [==============================] - 15s 23ms/step - loss: 0.4194 - accuracy: 0.8419 - val_loss: 0.3308 - val_accuracy: 0.8777\n",
            "Epoch 15/80\n",
            "664/664 [==============================] - 16s 24ms/step - loss: 0.4110 - accuracy: 0.8458 - val_loss: 0.3260 - val_accuracy: 0.8795\n",
            "Epoch 16/80\n",
            "664/664 [==============================] - 15s 23ms/step - loss: 0.4091 - accuracy: 0.8456 - val_loss: 0.3214 - val_accuracy: 0.8812\n",
            "Epoch 17/80\n",
            "664/664 [==============================] - 15s 22ms/step - loss: 0.4004 - accuracy: 0.8489 - val_loss: 0.3219 - val_accuracy: 0.8804\n",
            "Epoch 18/80\n",
            "664/664 [==============================] - 15s 23ms/step - loss: 0.3977 - accuracy: 0.8500 - val_loss: 0.3128 - val_accuracy: 0.8829\n",
            "Epoch 19/80\n",
            "664/664 [==============================] - 15s 23ms/step - loss: 0.3967 - accuracy: 0.8512 - val_loss: 0.3286 - val_accuracy: 0.8802\n",
            "Epoch 20/80\n",
            "664/664 [==============================] - 16s 24ms/step - loss: 0.3914 - accuracy: 0.8524 - val_loss: 0.3098 - val_accuracy: 0.8855\n",
            "Epoch 21/80\n",
            "664/664 [==============================] - 15s 23ms/step - loss: 0.3882 - accuracy: 0.8539 - val_loss: 0.3109 - val_accuracy: 0.8842\n",
            "Epoch 22/80\n",
            "664/664 [==============================] - 15s 23ms/step - loss: 0.3816 - accuracy: 0.8548 - val_loss: 0.3094 - val_accuracy: 0.8864\n",
            "Epoch 23/80\n",
            "664/664 [==============================] - 15s 23ms/step - loss: 0.3802 - accuracy: 0.8560 - val_loss: 0.3108 - val_accuracy: 0.8850\n",
            "Epoch 24/80\n",
            "664/664 [==============================] - 16s 24ms/step - loss: 0.3794 - accuracy: 0.8565 - val_loss: 0.3022 - val_accuracy: 0.8875\n",
            "Epoch 25/80\n",
            "664/664 [==============================] - 15s 23ms/step - loss: 0.3773 - accuracy: 0.8586 - val_loss: 0.3068 - val_accuracy: 0.8862\n",
            "Epoch 26/80\n",
            "664/664 [==============================] - 15s 23ms/step - loss: 0.3722 - accuracy: 0.8594 - val_loss: 0.3078 - val_accuracy: 0.8872\n",
            "Epoch 27/80\n",
            "664/664 [==============================] - 15s 23ms/step - loss: 0.3694 - accuracy: 0.8601 - val_loss: 0.3025 - val_accuracy: 0.8887\n",
            "Epoch 28/80\n",
            "664/664 [==============================] - 16s 24ms/step - loss: 0.3646 - accuracy: 0.8619 - val_loss: 0.3034 - val_accuracy: 0.8892\n",
            "Epoch 29/80\n",
            "664/664 [==============================] - 15s 23ms/step - loss: 0.3627 - accuracy: 0.8620 - val_loss: 0.2997 - val_accuracy: 0.8897\n",
            "Epoch 30/80\n",
            "664/664 [==============================] - 15s 23ms/step - loss: 0.3659 - accuracy: 0.8622 - val_loss: 0.2962 - val_accuracy: 0.8889\n",
            "Epoch 31/80\n",
            "664/664 [==============================] - 15s 23ms/step - loss: 0.3621 - accuracy: 0.8640 - val_loss: 0.2961 - val_accuracy: 0.8904\n",
            "Epoch 32/80\n",
            "664/664 [==============================] - 16s 24ms/step - loss: 0.3609 - accuracy: 0.8642 - val_loss: 0.2955 - val_accuracy: 0.8913\n",
            "Epoch 33/80\n",
            "664/664 [==============================] - 15s 23ms/step - loss: 0.3555 - accuracy: 0.8642 - val_loss: 0.2935 - val_accuracy: 0.8909\n",
            "Epoch 34/80\n",
            "664/664 [==============================] - 15s 23ms/step - loss: 0.3552 - accuracy: 0.8650 - val_loss: 0.2961 - val_accuracy: 0.8908\n",
            "Epoch 35/80\n",
            "664/664 [==============================] - 15s 23ms/step - loss: 0.3536 - accuracy: 0.8665 - val_loss: 0.2971 - val_accuracy: 0.8924\n",
            "Epoch 36/80\n",
            "664/664 [==============================] - 16s 25ms/step - loss: 0.3503 - accuracy: 0.8665 - val_loss: 0.2912 - val_accuracy: 0.8936\n",
            "Epoch 37/80\n",
            "664/664 [==============================] - 16s 23ms/step - loss: 0.3488 - accuracy: 0.8684 - val_loss: 0.2882 - val_accuracy: 0.8936\n",
            "Epoch 38/80\n",
            "664/664 [==============================] - 15s 23ms/step - loss: 0.3487 - accuracy: 0.8677 - val_loss: 0.2949 - val_accuracy: 0.8923\n",
            "Epoch 39/80\n",
            "664/664 [==============================] - 15s 23ms/step - loss: 0.3432 - accuracy: 0.8698 - val_loss: 0.2863 - val_accuracy: 0.8939\n",
            "Epoch 40/80\n",
            "664/664 [==============================] - 16s 23ms/step - loss: 0.3481 - accuracy: 0.8678 - val_loss: 0.2915 - val_accuracy: 0.8923\n",
            "Epoch 41/80\n",
            "664/664 [==============================] - 15s 23ms/step - loss: 0.3428 - accuracy: 0.8709 - val_loss: 0.2867 - val_accuracy: 0.8935\n",
            "Epoch 42/80\n",
            "664/664 [==============================] - 15s 23ms/step - loss: 0.3451 - accuracy: 0.8696 - val_loss: 0.2864 - val_accuracy: 0.8950\n",
            "Epoch 43/80\n",
            "664/664 [==============================] - 15s 23ms/step - loss: 0.3418 - accuracy: 0.8696 - val_loss: 0.2818 - val_accuracy: 0.8954\n",
            "Epoch 44/80\n",
            "664/664 [==============================] - 15s 23ms/step - loss: 0.3399 - accuracy: 0.8697 - val_loss: 0.2798 - val_accuracy: 0.8948\n",
            "Epoch 45/80\n",
            "664/664 [==============================] - 16s 24ms/step - loss: 0.3385 - accuracy: 0.8716 - val_loss: 0.2782 - val_accuracy: 0.8958\n",
            "Epoch 46/80\n",
            "664/664 [==============================] - 15s 23ms/step - loss: 0.3386 - accuracy: 0.8707 - val_loss: 0.2822 - val_accuracy: 0.8937\n",
            "Epoch 47/80\n",
            "664/664 [==============================] - 15s 23ms/step - loss: 0.3396 - accuracy: 0.8716 - val_loss: 0.2843 - val_accuracy: 0.8934\n",
            "Epoch 48/80\n",
            "664/664 [==============================] - 15s 23ms/step - loss: 0.3359 - accuracy: 0.8728 - val_loss: 0.2795 - val_accuracy: 0.8955\n",
            "Epoch 49/80\n",
            "664/664 [==============================] - 16s 24ms/step - loss: 0.3356 - accuracy: 0.8723 - val_loss: 0.2794 - val_accuracy: 0.8962\n",
            "Epoch 50/80\n",
            "664/664 [==============================] - 15s 23ms/step - loss: 0.3324 - accuracy: 0.8727 - val_loss: 0.2796 - val_accuracy: 0.8957\n",
            "Epoch 51/80\n",
            "664/664 [==============================] - 15s 23ms/step - loss: 0.3326 - accuracy: 0.8732 - val_loss: 0.2817 - val_accuracy: 0.8962\n",
            "Epoch 52/80\n",
            "664/664 [==============================] - 15s 23ms/step - loss: 0.3313 - accuracy: 0.8729 - val_loss: 0.2812 - val_accuracy: 0.8964\n",
            "Epoch 53/80\n",
            "664/664 [==============================] - 16s 25ms/step - loss: 0.3293 - accuracy: 0.8747 - val_loss: 0.2774 - val_accuracy: 0.8987\n",
            "Epoch 54/80\n",
            "664/664 [==============================] - 16s 23ms/step - loss: 0.3279 - accuracy: 0.8756 - val_loss: 0.2842 - val_accuracy: 0.8959\n",
            "Epoch 55/80\n",
            "664/664 [==============================] - 16s 23ms/step - loss: 0.3288 - accuracy: 0.8761 - val_loss: 0.2854 - val_accuracy: 0.8953\n",
            "Epoch 56/80\n",
            "664/664 [==============================] - 15s 23ms/step - loss: 0.3293 - accuracy: 0.8742 - val_loss: 0.2805 - val_accuracy: 0.8955\n",
            "Epoch 57/80\n",
            "664/664 [==============================] - 16s 25ms/step - loss: 0.3255 - accuracy: 0.8767 - val_loss: 0.2794 - val_accuracy: 0.8965\n",
            "Epoch 58/80\n",
            "664/664 [==============================] - 15s 23ms/step - loss: 0.3239 - accuracy: 0.8764 - val_loss: 0.2810 - val_accuracy: 0.8954\n",
            "Epoch 59/80\n",
            "664/664 [==============================] - 15s 23ms/step - loss: 0.3255 - accuracy: 0.8764 - val_loss: 0.2773 - val_accuracy: 0.8975\n",
            "Epoch 60/80\n",
            "664/664 [==============================] - 16s 23ms/step - loss: 0.3240 - accuracy: 0.8761 - val_loss: 0.2814 - val_accuracy: 0.8956\n",
            "Epoch 61/80\n",
            "664/664 [==============================] - 16s 25ms/step - loss: 0.3232 - accuracy: 0.8761 - val_loss: 0.2757 - val_accuracy: 0.8987\n",
            "Epoch 62/80\n",
            "664/664 [==============================] - 16s 23ms/step - loss: 0.3202 - accuracy: 0.8784 - val_loss: 0.2791 - val_accuracy: 0.8987\n",
            "Epoch 63/80\n",
            "664/664 [==============================] - 15s 23ms/step - loss: 0.3223 - accuracy: 0.8771 - val_loss: 0.2767 - val_accuracy: 0.8976\n",
            "Epoch 64/80\n",
            "664/664 [==============================] - 16s 23ms/step - loss: 0.3210 - accuracy: 0.8777 - val_loss: 0.2828 - val_accuracy: 0.8965\n",
            "Epoch 65/80\n",
            "664/664 [==============================] - 16s 25ms/step - loss: 0.3203 - accuracy: 0.8775 - val_loss: 0.2747 - val_accuracy: 0.8981\n",
            "Epoch 66/80\n",
            "664/664 [==============================] - 15s 23ms/step - loss: 0.3203 - accuracy: 0.8773 - val_loss: 0.2766 - val_accuracy: 0.8991\n",
            "Epoch 67/80\n",
            "664/664 [==============================] - 16s 24ms/step - loss: 0.3186 - accuracy: 0.8789 - val_loss: 0.2754 - val_accuracy: 0.8975\n",
            "Epoch 68/80\n",
            "664/664 [==============================] - 16s 23ms/step - loss: 0.3180 - accuracy: 0.8792 - val_loss: 0.2770 - val_accuracy: 0.8985\n",
            "Epoch 69/80\n",
            "664/664 [==============================] - 16s 24ms/step - loss: 0.3181 - accuracy: 0.8776 - val_loss: 0.2781 - val_accuracy: 0.8972\n",
            "Epoch 70/80\n",
            "664/664 [==============================] - 15s 23ms/step - loss: 0.3200 - accuracy: 0.8775 - val_loss: 0.2763 - val_accuracy: 0.8991\n",
            "Epoch 71/80\n",
            "664/664 [==============================] - 15s 23ms/step - loss: 0.3149 - accuracy: 0.8805 - val_loss: 0.2734 - val_accuracy: 0.8976\n",
            "Epoch 72/80\n",
            "664/664 [==============================] - 15s 23ms/step - loss: 0.3168 - accuracy: 0.8792 - val_loss: 0.2751 - val_accuracy: 0.8997\n",
            "Epoch 73/80\n",
            "664/664 [==============================] - 16s 24ms/step - loss: 0.3158 - accuracy: 0.8779 - val_loss: 0.2761 - val_accuracy: 0.8985\n",
            "Epoch 74/80\n",
            "664/664 [==============================] - 15s 23ms/step - loss: 0.3135 - accuracy: 0.8803 - val_loss: 0.2727 - val_accuracy: 0.8977\n",
            "Epoch 75/80\n",
            "664/664 [==============================] - 15s 23ms/step - loss: 0.3141 - accuracy: 0.8804 - val_loss: 0.2766 - val_accuracy: 0.8974\n",
            "Epoch 76/80\n",
            "664/664 [==============================] - 15s 23ms/step - loss: 0.3104 - accuracy: 0.8809 - val_loss: 0.2779 - val_accuracy: 0.8970\n",
            "Epoch 77/80\n",
            "664/664 [==============================] - 16s 24ms/step - loss: 0.3126 - accuracy: 0.8803 - val_loss: 0.2765 - val_accuracy: 0.8973\n",
            "Epoch 78/80\n",
            "664/664 [==============================] - 15s 23ms/step - loss: 0.3094 - accuracy: 0.8805 - val_loss: 0.2751 - val_accuracy: 0.8985\n",
            "Epoch 79/80\n",
            "664/664 [==============================] - 15s 23ms/step - loss: 0.3086 - accuracy: 0.8825 - val_loss: 0.2770 - val_accuracy: 0.8964\n",
            "Epoch 80/80\n",
            "664/664 [==============================] - 15s 23ms/step - loss: 0.3106 - accuracy: 0.8821 - val_loss: 0.2717 - val_accuracy: 0.9010\n",
            "313/313 [==============================] - 1s 4ms/step - loss: 0.2930 - accuracy: 0.8911\n",
            "\n",
            "Test accuracy: 0.8910999894142151\n"
          ]
        }
      ]
    },
    {
      "cell_type": "code",
      "source": [
        "print('\\nhistory dict:', list(history.history.keys()))"
      ],
      "metadata": {
        "id": "CxRE-B_Q6Sii",
        "colab": {
          "base_uri": "https://localhost:8080/"
        },
        "outputId": "3b38ba98-70aa-4995-b2a3-961517a4b191"
      },
      "execution_count": 91,
      "outputs": [
        {
          "output_type": "stream",
          "name": "stdout",
          "text": [
            "\n",
            "history dict: ['loss', 'accuracy', 'val_loss', 'val_accuracy']\n"
          ]
        }
      ]
    },
    {
      "cell_type": "code",
      "source": [
        "result = model.evaluate(x_test, y_test)\n",
        "print(result)"
      ],
      "metadata": {
        "id": "YXpwRRTvTBNg",
        "colab": {
          "base_uri": "https://localhost:8080/"
        },
        "outputId": "ea58d324-5e1c-45af-cbb3-7e5af2ec208b"
      },
      "execution_count": 92,
      "outputs": [
        {
          "output_type": "stream",
          "name": "stdout",
          "text": [
            "313/313 [==============================] - 2s 5ms/step - loss: 0.2930 - accuracy: 0.8911\n",
            "[0.29295530915260315, 0.8910999894142151]\n"
          ]
        }
      ]
    },
    {
      "cell_type": "code",
      "source": [
        "saved_model = load_model('best_model.h5')\n",
        "result = saved_model.evaluate(x_test, y_test)\n",
        "print(result)"
      ],
      "metadata": {
        "id": "dpaZAW0vp1AZ",
        "colab": {
          "base_uri": "https://localhost:8080/"
        },
        "outputId": "51b36b88-25d9-40d7-c920-b512c311e5fd"
      },
      "execution_count": 93,
      "outputs": [
        {
          "output_type": "stream",
          "name": "stdout",
          "text": [
            "313/313 [==============================] - 1s 3ms/step - loss: 0.2989 - accuracy: 0.8909\n",
            "[0.29886752367019653, 0.8909000158309937]\n"
          ]
        }
      ]
    },
    {
      "cell_type": "code",
      "source": [
        "# from keras.models import load_model\n",
        "# saved_model = load_model('best_model.h5')\n",
        "# # _, train_acc = saved_model.evaluate(x_train, y_train, verbose=0)\n",
        "# _, test_acc = saved_model.evaluate(x_test, y_test, verbose=0)\n",
        "# print('Test: %.3f' % (test_acc))"
      ],
      "metadata": {
        "id": "DR_MS9DABo_K"
      },
      "execution_count": 94,
      "outputs": []
    },
    {
      "cell_type": "code",
      "source": [
        "history_dict = history.history\n",
        "loss_values = history_dict['loss']\n",
        "val_loss_values = history_dict['val_loss']\n",
        "\n",
        "epochs = range(1, len(history_dict['loss']) + 1)\n",
        "\n",
        "plt.figure(figsize=(10, 5))\n",
        "plt.plot(epochs, loss_values, 'bo', label='Training loss')\n",
        "plt.plot(epochs, val_loss_values, 'r', label='Validation loss')\n",
        "plt.ylim (0.2, 0.5)\n",
        "plt.title('Training and validation loss')\n",
        "plt.xlabel('Epochs')\n",
        "plt.ylabel('Loss')\n",
        "plt.legend()\n",
        "plt.grid(True)\n",
        "plt.show()\n",
        "1\n",
        "plt.clf()\n",
        "plt.figure(figsize=(10, 5))\n",
        "val_acc_values = history_dict['accuracy']\n",
        "plt.plot(epochs, history_dict['accuracy'], 'bo', label='Training acc')\n",
        "plt.plot(epochs, history_dict['val_accuracy'], 'r', label='Validation acc')\n",
        "# plt.ylim (0.88, 0.92)\n",
        "plt.title('Training and validation accuracy')\n",
        "plt.xlabel('Epochs')\n",
        "plt.ylabel('Accuracy')\n",
        "plt.legend()\n",
        "plt.grid(True)"
      ],
      "metadata": {
        "id": "2Ll_5sGlXKMH",
        "colab": {
          "base_uri": "https://localhost:8080/",
          "height": 975
        },
        "outputId": "6a7bb98e-7943-49ba-d0c1-4128db4d9a8a"
      },
      "execution_count": 95,
      "outputs": [
        {
          "output_type": "display_data",
          "data": {
            "text/plain": [
              "<Figure size 1000x500 with 1 Axes>"
            ],
            "image/png": "[encoded data removed]"
          },
          "metadata": {}
        },
        {
          "output_type": "display_data",
          "data": {
            "text/plain": [
              "<Figure size 640x480 with 0 Axes>"
            ]
          },
          "metadata": {}
        },
        {
          "output_type": "display_data",
          "data": {
            "text/plain": [
              "<Figure size 1000x500 with 1 Axes>"
            ],
            "image/png": "[encoded data removed]"
          },
          "metadata": {}
        }
      ]
    },
    {
      "cell_type": "code",
      "source": [
        "probability_model = tf.keras.Sequential([model,\n",
        "                                         tf.keras.layers.Softmax()])"
      ],
      "metadata": {
        "id": "VzOdKAT_uV-f"
      },
      "execution_count": 96,
      "outputs": []
    },
    {
      "cell_type": "code",
      "source": [
        "predictions = probability_model.predict(x_test)"
      ],
      "metadata": {
        "id": "f4is3NFruYom",
        "colab": {
          "base_uri": "https://localhost:8080/"
        },
        "outputId": "7b09003e-d516-4ed6-acf5-4bb821874eac"
      },
      "execution_count": 97,
      "outputs": [
        {
          "output_type": "stream",
          "name": "stdout",
          "text": [
            "313/313 [==============================] - 1s 3ms/step\n"
          ]
        }
      ]
    },
    {
      "cell_type": "code",
      "source": [
        "predictions[0]"
      ],
      "metadata": {
        "id": "82cigvlZudz_",
        "colab": {
          "base_uri": "https://localhost:8080/"
        },
        "outputId": "bf6213f7-f12a-4b9e-a4ad-63105fec459c"
      },
      "execution_count": 98,
      "outputs": [
        {
          "output_type": "execute_result",
          "data": {
            "text/plain": [
              "array([0.08599976, 0.08599976, 0.08599976, 0.08599976, 0.08599976,\n",
              "       0.08613368, 0.08599976, 0.09080058, 0.08599976, 0.22106726],\n",
              "      dtype=float32)"
            ]
          },
          "metadata": {},
          "execution_count": 98
        }
      ]
    },
    {
      "cell_type": "code",
      "source": [
        "model.summary()"
      ],
      "metadata": {
        "id": "6RsQPHyYuNGe",
        "colab": {
          "base_uri": "https://localhost:8080/"
        },
        "outputId": "e5fb89f9-e872-47f0-a667-baae374286d3"
      },
      "execution_count": 99,
      "outputs": [
        {
          "output_type": "stream",
          "name": "stdout",
          "text": [
            "Model: \"sequential_1\"\n",
            "_________________________________________________________________\n",
            " Layer (type)                Output Shape              Param #   \n",
            "=================================================================\n",
            " flatten_1 (Flatten)         (None, 784)               0         \n",
            "                                                                 \n",
            " dropout_4 (Dropout)         (None, 784)               0         \n",
            "                                                                 \n",
            " batch_normalization_3 (Bat  (None, 784)               3136      \n",
            " chNormalization)                                                \n",
            "                                                                 \n",
            " dense_4 (Dense)             (None, 256)               200960    \n",
            "                                                                 \n",
            " dropout_5 (Dropout)         (None, 256)               0         \n",
            "                                                                 \n",
            " batch_normalization_4 (Bat  (None, 256)               1024      \n",
            " chNormalization)                                                \n",
            "                                                                 \n",
            " dense_5 (Dense)             (None, 512)               131584    \n",
            "                                                                 \n",
            " dropout_6 (Dropout)         (None, 512)               0         \n",
            "                                                                 \n",
            " batch_normalization_5 (Bat  (None, 512)               2048      \n",
            " chNormalization)                                                \n",
            "                                                                 \n",
            " dense_6 (Dense)             (None, 512)               262656    \n",
            "                                                                 \n",
            " dropout_7 (Dropout)         (None, 512)               0         \n",
            "                                                                 \n",
            " dense_7 (Dense)             (None, 10)                5130      \n",
            "                                                                 \n",
            "=================================================================\n",
            "Total params: 606538 (2.31 MB)\n",
            "Trainable params: 603434 (2.30 MB)\n",
            "Non-trainable params: 3104 (12.12 KB)\n",
            "_________________________________________________________________\n"
          ]
        }
      ]
    },
    {
      "cell_type": "code",
      "source": [
        "\n",
        "\n",
        "\n",
        "\n",
        "hnyetjn hrte()"
      ],
      "metadata": {
        "id": "S4hcxZttmp-0",
        "colab": {
          "base_uri": "https://localhost:8080/",
          "height": 143
        },
        "outputId": "a34c74f2-cbcb-419d-9b66-036790f91c5e"
      },
      "execution_count": 100,
      "outputs": [
        {
          "output_type": "error",
          "ename": "SyntaxError",
          "evalue": "invalid syntax (<ipython-input-100-1a3818e70946>, line 1)",
          "traceback": [
            "\u001b[0;36m  File \u001b[0;32m\"<ipython-input-100-1a3818e70946>\"\u001b[0;36m, line \u001b[0;32m1\u001b[0m\n\u001b[0;31m    hnyetjn hrte()\u001b[0m\n\u001b[0m            ^\u001b[0m\n\u001b[0;31mSyntaxError\u001b[0m\u001b[0;31m:\u001b[0m invalid syntax\n"
          ]
        }
      ]
    }
  ]
}