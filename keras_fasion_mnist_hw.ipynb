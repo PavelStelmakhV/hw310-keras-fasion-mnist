{
  "nbformat": 4,
  "nbformat_minor": 0,
  "metadata": {
    "colab": {
      "provenance": [],
      "gpuType": "T4",
      "authorship_tag": "ABX9TyMwF9PNWDtsqif6fJk+vjq+",
      "include_colab_link": true
    },
    "kernelspec": {
      "name": "python3",
      "display_name": "Python 3"
    },
    "language_info": {
      "name": "python"
    },
    "accelerator": "GPU"
  },
  "cells": [
    {
      "cell_type": "markdown",
      "metadata": {
        "id": "view-in-github",
        "colab_type": "text"
      },
      "source": [
        "<a href=\"https://colab.research.google.com/github/PavelStelmakhV/hw310-keras-fasion-mnist/blob/main/keras_fasion_mnist_hw.ipynb\" target=\"_parent\"><img src=\"https://colab.research.google.com/assets/colab-badge.svg\" alt=\"Open In Colab\"/></a>"
      ]
    },
    {
      "cell_type": "code",
      "source": [
        "import tensorflow as tf\n",
        "from tensorflow.python.client import device_lib\n",
        "print(device_lib.list_local_devices())"
      ],
      "metadata": {
        "colab": {
          "base_uri": "https://localhost:8080/"
        },
        "id": "CQL6wYJUms6Y",
        "outputId": "60af4e0e-0d65-464d-bb42-5478d020f311"
      },
      "execution_count": 81,
      "outputs": [
        {
          "output_type": "stream",
          "name": "stdout",
          "text": [
            "[name: \"/device:CPU:0\"\n",
            "device_type: \"CPU\"\n",
            "memory_limit: 268435456\n",
            "locality {\n",
            "}\n",
            "incarnation: 10828779555474434111\n",
            "xla_global_id: -1\n",
            "]\n"
          ]
        }
      ]
    },
    {
      "cell_type": "code",
      "execution_count": 82,
      "metadata": {
        "id": "vv7w0bgAVQPO"
      },
      "outputs": [],
      "source": [
        "import tensorflow as tf\n",
        "import numpy as np\n",
        "import matplotlib.pyplot as plt\n",
        "import tf_keras\n",
        "\n",
        "from keras import layers\n",
        "from keras import models\n",
        "from keras import regularizers\n",
        "from keras import callbacks\n",
        "from keras import initializers\n",
        "from keras.layers import BatchNormalization\n",
        "from keras.models import load_model"
      ]
    },
    {
      "cell_type": "code",
      "source": [
        "num_classes = 10"
      ],
      "metadata": {
        "id": "RvT1uYJsa5cn"
      },
      "execution_count": 83,
      "outputs": []
    },
    {
      "cell_type": "code",
      "source": [
        "fashion_mnist = tf.keras.datasets.fashion_mnist\n",
        "\n",
        "(x_train, y_train), (x_test, y_test) = fashion_mnist.load_data()"
      ],
      "metadata": {
        "id": "mOpywsNAzfGB"
      },
      "execution_count": 84,
      "outputs": []
    },
    {
      "cell_type": "code",
      "source": [
        "np.transpose(y_train).shape"
      ],
      "metadata": {
        "id": "djIFwQxwMvQR",
        "outputId": "504a2830-c803-4cbc-f08d-5f2be8dd45dd",
        "colab": {
          "base_uri": "https://localhost:8080/"
        }
      },
      "execution_count": 85,
      "outputs": [
        {
          "output_type": "execute_result",
          "data": {
            "text/plain": [
              "(60000,)"
            ]
          },
          "metadata": {},
          "execution_count": 85
        }
      ]
    },
    {
      "cell_type": "code",
      "source": [
        "y_train.shape"
      ],
      "metadata": {
        "id": "clHS88VQNR82",
        "outputId": "893dc675-fc6b-4465-eee9-17821ec51672",
        "colab": {
          "base_uri": "https://localhost:8080/"
        }
      },
      "execution_count": 86,
      "outputs": [
        {
          "output_type": "execute_result",
          "data": {
            "text/plain": [
              "(60000,)"
            ]
          },
          "metadata": {},
          "execution_count": 86
        }
      ]
    },
    {
      "cell_type": "code",
      "source": [
        "def drow_hist(data):\n",
        "  plt.figure(figsize=(8,6), dpi= 80)\n",
        "  _ = plt.hist(data,\n",
        "              bins=num_classes,\n",
        "              stacked=True,\n",
        "              density=False,\n",
        "              range=(0,10),\n",
        "              rwidth=0.9,\n",
        "              )"
      ],
      "metadata": {
        "id": "NjEvuOvomEoT"
      },
      "execution_count": 87,
      "outputs": []
    },
    {
      "cell_type": "code",
      "source": [
        "# create validation data\n",
        "val_size = 6600\n",
        "\n",
        "x_val = x_train[-val_size:, :, :]\n",
        "x_train = x_train[:-val_size, :, :]\n",
        "\n",
        "y_val = y_train[-val_size:]\n",
        "y_train = y_train[:-val_size]"
      ],
      "metadata": {
        "id": "jAs92sDoVU89"
      },
      "execution_count": 88,
      "outputs": []
    },
    {
      "cell_type": "code",
      "source": [
        "# mirror train image\n",
        "x_train_add = np.rot90(x_train, k=1, axes=(1,2))\n",
        "x_train_add = np.transpose(x_train_add, (0, 2, 1))"
      ],
      "metadata": {
        "id": "UHNuw-3D_v7x"
      },
      "execution_count": 89,
      "outputs": []
    },
    {
      "cell_type": "code",
      "source": [
        "y_train_add = y_train.copy()"
      ],
      "metadata": {
        "id": "TNDXV8RfZbt1"
      },
      "execution_count": 90,
      "outputs": []
    },
    {
      "cell_type": "code",
      "source": [
        "# remove boots image from addition data [5, 7, 9]\n",
        "for i in [5, 7, 9]:\n",
        "    index = np.where(y_train_add == i )\n",
        "    x_train_add = np.delete(x_train_add, index , axis=0)\n",
        "    y_train_add = np.delete(y_train_add, index , axis=0)"
      ],
      "metadata": {
        "id": "506yp4e5UqKp"
      },
      "execution_count": 91,
      "outputs": []
    },
    {
      "cell_type": "code",
      "source": [
        "x_train_add.shape"
      ],
      "metadata": {
        "colab": {
          "base_uri": "https://localhost:8080/"
        },
        "id": "WB-PVgBb116E",
        "outputId": "bc5cb833-8499-4285-ecf5-74b325cdda17"
      },
      "execution_count": 92,
      "outputs": [
        {
          "output_type": "execute_result",
          "data": {
            "text/plain": [
              "(37342, 28, 28)"
            ]
          },
          "metadata": {},
          "execution_count": 92
        }
      ]
    },
    {
      "cell_type": "code",
      "source": [
        "y_train_add.shape"
      ],
      "metadata": {
        "colab": {
          "base_uri": "https://localhost:8080/"
        },
        "id": "MjteIWwr2V-N",
        "outputId": "9f2aa603-2344-459e-a92d-cc375b33ccf0"
      },
      "execution_count": 93,
      "outputs": [
        {
          "output_type": "execute_result",
          "data": {
            "text/plain": [
              "(37342,)"
            ]
          },
          "metadata": {},
          "execution_count": 93
        }
      ]
    },
    {
      "cell_type": "code",
      "source": [
        "# x_train = np.concatenate([\n",
        "#     x_train,\n",
        "#     x_train_add[:10000:, :, :]\n",
        "# ])"
      ],
      "metadata": {
        "id": "C25g0-L5PuhV"
      },
      "execution_count": 94,
      "outputs": []
    },
    {
      "cell_type": "code",
      "source": [
        "# y_train = np.concatenate([\n",
        "#     y_train,\n",
        "#     y_train_add[:10000]\n",
        "# ])"
      ],
      "metadata": {
        "id": "JiyI9CE-RWnR"
      },
      "execution_count": 95,
      "outputs": []
    },
    {
      "cell_type": "code",
      "source": [
        "drow_hist(y_train)"
      ],
      "metadata": {
        "colab": {
          "base_uri": "https://localhost:8080/",
          "height": 420
        },
        "id": "j0FZ4_7DpRVw",
        "outputId": "59cc15db-5b9d-4844-8654-6365a9b76712"
      },
      "execution_count": 96,
      "outputs": [
        {
          "output_type": "display_data",
          "data": {
            "text/plain": [
              "<Figure size 640x480 with 1 Axes>"
            ],
            "image/png": "[encoded data removed]"
          },
          "metadata": {}
        }
      ]
    },
    {
      "cell_type": "code",
      "source": [
        "# plt.figure()\n",
        "# plt.imshow(x_train[7])\n",
        "# plt.colorbar()\n",
        "# plt.grid(False)\n",
        "# plt.show()"
      ],
      "metadata": {
        "id": "mq_QalIABCeU"
      },
      "execution_count": 97,
      "outputs": []
    },
    {
      "cell_type": "code",
      "source": [
        "# plt.figure()\n",
        "# plt.imshow(x_train_add[0])\n",
        "# plt.colorbar()\n",
        "# plt.grid(False)\n",
        "# plt.show()"
      ],
      "metadata": {
        "id": "CDLNL7Zw3HEc"
      },
      "execution_count": 98,
      "outputs": []
    },
    {
      "cell_type": "code",
      "source": [
        "x_train = x_train.astype('float32') / 255\n",
        "x_test = x_test.astype('float32') / 255\n",
        "\n",
        "y_train = y_train.astype('float32')\n",
        "y_test = y_test.astype('float32')\n",
        "\n",
        "x_val = x_val.astype('float32') / 255\n",
        "y_val = y_val.astype('float32')"
      ],
      "metadata": {
        "id": "t2gucjsJ0KUi"
      },
      "execution_count": 99,
      "outputs": []
    },
    {
      "cell_type": "code",
      "source": [
        "# class_names = ['T-shirt/top', 'Trouser', 'Pullover', 'Dress', 'Coat',\n",
        "#                'Sandal', 'Shirt', 'Sneaker', 'Bag', 'Ankle boot']\n",
        "\n",
        "# plt.figure(figsize=(10,10))\n",
        "# for i in range(25):\n",
        "#     plt.subplot(5,5,i+1)\n",
        "#     plt.xticks([])\n",
        "#     plt.yticks([])\n",
        "#     plt.grid(False)\n",
        "#     plt.imshow(x_train[i+50000], cmap=plt.cm.binary)\n",
        "#     plt.xlabel(class_names[int(y_train[i+50000])])\n",
        "# plt.show()"
      ],
      "metadata": {
        "id": "h4LveKxM4hyC"
      },
      "execution_count": 100,
      "outputs": []
    },
    {
      "cell_type": "code",
      "source": [
        "# plt.figure(figsize=(10,10))\n",
        "# for i in range(25):\n",
        "#     plt.subplot(5,5,i+1)\n",
        "#     plt.xticks([])\n",
        "#     plt.yticks([])\n",
        "#     plt.grid(False)\n",
        "#     plt.imshow(x_train[i], cmap=plt.cm.binary)\n",
        "#     plt.xlabel(class_names[int(y_train[i])])\n",
        "# plt.show()"
      ],
      "metadata": {
        "id": "hljEDYd55d8Q"
      },
      "execution_count": 101,
      "outputs": []
    },
    {
      "cell_type": "code",
      "source": [
        "w_init_tanh = initializers.glorot_normal(seed=111)\n",
        "w_init_relu = initializers.HeNormal(seed=66)\n",
        "# w_init_relu = initializers.HeUniform(seed=24)\n",
        "b_init = initializers.Zeros()"
      ],
      "metadata": {
        "id": "yL9QTEtBGy4N"
      },
      "execution_count": 102,
      "outputs": []
    },
    {
      "cell_type": "code",
      "source": [
        "drop_out = 0.28"
      ],
      "metadata": {
        "id": "flsDcVTnU10J"
      },
      "execution_count": 103,
      "outputs": []
    },
    {
      "cell_type": "code",
      "source": [
        "def layer_relu(model, neurons):\n",
        "  model.add(BatchNormalization())\n",
        "  model.add(layers.Dense(neurons,\n",
        "                       activation='relu',\n",
        "                       kernel_initializer=w_init_relu,\n",
        "                       bias_initializer=b_init))\n",
        "  model.add(layers.Dropout(drop_out))\n",
        "  return model"
      ],
      "metadata": {
        "id": "ZZgs_25rKBCp"
      },
      "execution_count": 104,
      "outputs": []
    },
    {
      "cell_type": "code",
      "source": [
        "def layer_tanh(model, neurons):\n",
        "  model.add(BatchNormalization())\n",
        "  model.add(layers.Dense(neurons,\n",
        "                        activation='tanh',\n",
        "                        kernel_initializer=w_init_tanh,\n",
        "                        bias_initializer=b_init))\n",
        "  model.add(layers.Dropout(drop_out))\n",
        "  return model"
      ],
      "metadata": {
        "id": "90JLLnkBR50t"
      },
      "execution_count": 105,
      "outputs": []
    },
    {
      "cell_type": "code",
      "source": [
        "model = models.Sequential()\n",
        "\n",
        "neurons = 400\n",
        "\n",
        "model.add(layers.Flatten(input_shape=(28, 28)))\n",
        "model.add(layers.Dropout(drop_out))\n",
        "\n",
        "model = layer_relu(model, neurons*1)\n",
        "model = layer_tanh(model, neurons*2)\n",
        "model = layer_relu(model, neurons*3)\n",
        "# model = layer_relu(model, neurons*2)\n",
        "\n",
        "\n",
        "model.add(layers.Dense(10, activation='softmax'))"
      ],
      "metadata": {
        "id": "atS39i4d0aqW"
      },
      "execution_count": 106,
      "outputs": []
    },
    {
      "cell_type": "markdown",
      "source": [
        "++++++++++++++++++++++++++++++++++++++++++++++++++++++++++++++++++++++++++++++++"
      ],
      "metadata": {
        "id": "tZO7hl7pM63y"
      }
    },
    {
      "cell_type": "code",
      "source": [
        "optimizer = tf.keras.optimizers.Nadam(learning_rate=0.0003,\n",
        "                                      beta_1=0.9,\n",
        "                                      beta_2=0.999,\n",
        "                                      epsilon=1e-06\n",
        ")\n",
        "# optimizer = tf.keras.optimizers.experimental.RMSprop(learning_rate=0.0005,\n",
        "#                                                     rho=0.5,\n",
        "#                                                     momentum=-16,\n",
        "#                                                     epsilon=1e-07,\n",
        "#                                                     centered=False,\n",
        "#                                                     weight_decay=None,\n",
        "#                                                     clipnorm=None,\n",
        "#                                                     clipvalue=None,\n",
        "#                                                     global_clipnorm=None,\n",
        "#                                                     use_ema=False,\n",
        "#                                                     ema_momentum=0.99,\n",
        "#                                                     ema_overwrite_frequency=100,\n",
        "#                                                     jit_compile=True,\n",
        "#                                                     name='RMSprop',\n",
        "# )"
      ],
      "metadata": {
        "id": "EzfnaqIZlfy8"
      },
      "execution_count": 107,
      "outputs": []
    },
    {
      "cell_type": "markdown",
      "source": [
        "++++++++++++++++++++++++++++++++++++++++++++++++++++++++++++++++++++++++++++++++"
      ],
      "metadata": {
        "id": "KHmBptvOM95Z"
      }
    },
    {
      "cell_type": "code",
      "source": [
        "model.compile(#optimizer='adam',\n",
        "              # optimizer='adamax',\n",
        "              optimizer=optimizer,\n",
        "              # optimizer='rmsprop',\n",
        "              # optimizer='sgd',\n",
        "              # optimizer='adadelta',\n",
        "              # loss='binary_crossentropy',\n",
        "              loss=tf.keras.losses.SparseCategoricalCrossentropy(),\n",
        "              metrics=['sparse_categorical_accuracy']) # sparse_categorical_accuracy"
      ],
      "metadata": {
        "id": "hENVaAC7ilNY"
      },
      "execution_count": 108,
      "outputs": []
    },
    {
      "cell_type": "code",
      "source": [
        "# callback = callbacks.EarlyStopping(monitor='val_loss',\n",
        "#                                    patience=15,\n",
        "#                                    restore_best_weights=True,\n",
        "#                                    )\n",
        "es = callbacks.EarlyStopping(monitor='val_loss', mode='min', verbose=0, patience=40)\n",
        "mc = callbacks.ModelCheckpoint('best_model.h5', monitor='sparse_categorical_accuracy', mode='max', verbose=0, save_best_only=True)\n"
      ],
      "metadata": {
        "id": "5ihU4exVlsjm"
      },
      "execution_count": 109,
      "outputs": []
    },
    {
      "cell_type": "code",
      "source": [
        "history = model.fit(x_train, y_train,\n",
        "                    epochs=1000,\n",
        "                    batch_size=128,\n",
        "                    # callbacks=[callback],\n",
        "                    callbacks=[mc, es],\n",
        "                    verbose=1, #многословие\n",
        "                    # validation_split=0.2\n",
        "                    validation_data=(x_val, y_val)\n",
        "                    )\n",
        "test_loss, test_acc = model.evaluate(x_test, y_test)\n",
        "print('\\nTest accuracy:', test_acc)"
      ],
      "metadata": {
        "id": "FH8HcMNm233I",
        "outputId": "ab46ee1e-2b4a-4330-89d4-bb256949156c",
        "colab": {
          "base_uri": "https://localhost:8080/"
        }
      },
      "execution_count": 110,
      "outputs": [
        {
          "output_type": "stream",
          "name": "stdout",
          "text": [
            "Epoch 1/1000\n",
            "418/418 [==============================] - 14s 29ms/step - loss: 0.8028 - sparse_categorical_accuracy: 0.7253 - val_loss: 0.4624 - val_sparse_categorical_accuracy: 0.8300\n",
            "Epoch 2/1000\n",
            "418/418 [==============================] - 13s 30ms/step - loss: 0.5761 - sparse_categorical_accuracy: 0.7939 - val_loss: 0.4193 - val_sparse_categorical_accuracy: 0.8506\n",
            "Epoch 3/1000\n",
            "418/418 [==============================] - 12s 29ms/step - loss: 0.5159 - sparse_categorical_accuracy: 0.8101 - val_loss: 0.4028 - val_sparse_categorical_accuracy: 0.8539\n",
            "Epoch 4/1000\n",
            "418/418 [==============================] - 12s 29ms/step - loss: 0.4769 - sparse_categorical_accuracy: 0.8239 - val_loss: 0.3688 - val_sparse_categorical_accuracy: 0.8642\n",
            "Epoch 5/1000\n",
            "418/418 [==============================] - 12s 28ms/step - loss: 0.4482 - sparse_categorical_accuracy: 0.8343 - val_loss: 0.3840 - val_sparse_categorical_accuracy: 0.8588\n",
            "Epoch 6/1000\n",
            "418/418 [==============================] - 12s 29ms/step - loss: 0.4248 - sparse_categorical_accuracy: 0.8433 - val_loss: 0.3640 - val_sparse_categorical_accuracy: 0.8653\n",
            "Epoch 7/1000\n",
            "418/418 [==============================] - 12s 29ms/step - loss: 0.4158 - sparse_categorical_accuracy: 0.8465 - val_loss: 0.3516 - val_sparse_categorical_accuracy: 0.8698\n",
            "Epoch 8/1000\n",
            "418/418 [==============================] - 12s 29ms/step - loss: 0.4026 - sparse_categorical_accuracy: 0.8496 - val_loss: 0.3441 - val_sparse_categorical_accuracy: 0.8753\n",
            "Epoch 9/1000\n",
            "418/418 [==============================] - 12s 29ms/step - loss: 0.3926 - sparse_categorical_accuracy: 0.8537 - val_loss: 0.3261 - val_sparse_categorical_accuracy: 0.8805\n",
            "Epoch 10/1000\n",
            "418/418 [==============================] - 12s 29ms/step - loss: 0.3885 - sparse_categorical_accuracy: 0.8549 - val_loss: 0.3552 - val_sparse_categorical_accuracy: 0.8711\n",
            "Epoch 11/1000\n",
            "418/418 [==============================] - 12s 29ms/step - loss: 0.3752 - sparse_categorical_accuracy: 0.8588 - val_loss: 0.3355 - val_sparse_categorical_accuracy: 0.8735\n",
            "Epoch 12/1000\n",
            "418/418 [==============================] - 12s 29ms/step - loss: 0.3676 - sparse_categorical_accuracy: 0.8643 - val_loss: 0.3267 - val_sparse_categorical_accuracy: 0.8788\n",
            "Epoch 13/1000\n",
            "418/418 [==============================] - 12s 29ms/step - loss: 0.3622 - sparse_categorical_accuracy: 0.8636 - val_loss: 0.3279 - val_sparse_categorical_accuracy: 0.8786\n",
            "Epoch 14/1000\n",
            "418/418 [==============================] - 12s 28ms/step - loss: 0.3557 - sparse_categorical_accuracy: 0.8662 - val_loss: 0.3249 - val_sparse_categorical_accuracy: 0.8791\n",
            "Epoch 15/1000\n",
            "418/418 [==============================] - 12s 29ms/step - loss: 0.3488 - sparse_categorical_accuracy: 0.8700 - val_loss: 0.3094 - val_sparse_categorical_accuracy: 0.8874\n",
            "Epoch 16/1000\n",
            "418/418 [==============================] - 12s 29ms/step - loss: 0.3441 - sparse_categorical_accuracy: 0.8706 - val_loss: 0.3176 - val_sparse_categorical_accuracy: 0.8830\n",
            "Epoch 17/1000\n",
            "418/418 [==============================] - 12s 29ms/step - loss: 0.3449 - sparse_categorical_accuracy: 0.8705 - val_loss: 0.3097 - val_sparse_categorical_accuracy: 0.8865\n",
            "Epoch 18/1000\n",
            "418/418 [==============================] - 12s 29ms/step - loss: 0.3372 - sparse_categorical_accuracy: 0.8741 - val_loss: 0.3082 - val_sparse_categorical_accuracy: 0.8850\n",
            "Epoch 19/1000\n",
            "418/418 [==============================] - 12s 29ms/step - loss: 0.3292 - sparse_categorical_accuracy: 0.8748 - val_loss: 0.3051 - val_sparse_categorical_accuracy: 0.8836\n",
            "Epoch 20/1000\n",
            "418/418 [==============================] - 12s 29ms/step - loss: 0.3266 - sparse_categorical_accuracy: 0.8767 - val_loss: 0.3122 - val_sparse_categorical_accuracy: 0.8814\n",
            "Epoch 21/1000\n",
            "418/418 [==============================] - 12s 29ms/step - loss: 0.3231 - sparse_categorical_accuracy: 0.8773 - val_loss: 0.3056 - val_sparse_categorical_accuracy: 0.8855\n",
            "Epoch 22/1000\n",
            "418/418 [==============================] - 12s 29ms/step - loss: 0.3198 - sparse_categorical_accuracy: 0.8789 - val_loss: 0.3009 - val_sparse_categorical_accuracy: 0.8865\n",
            "Epoch 23/1000\n",
            "418/418 [==============================] - 12s 29ms/step - loss: 0.3184 - sparse_categorical_accuracy: 0.8800 - val_loss: 0.2922 - val_sparse_categorical_accuracy: 0.8891\n",
            "Epoch 24/1000\n",
            "418/418 [==============================] - 12s 29ms/step - loss: 0.3137 - sparse_categorical_accuracy: 0.8807 - val_loss: 0.3021 - val_sparse_categorical_accuracy: 0.8867\n",
            "Epoch 25/1000\n",
            "418/418 [==============================] - 12s 29ms/step - loss: 0.3117 - sparse_categorical_accuracy: 0.8813 - val_loss: 0.2965 - val_sparse_categorical_accuracy: 0.8902\n",
            "Epoch 26/1000\n",
            "418/418 [==============================] - 12s 29ms/step - loss: 0.3112 - sparse_categorical_accuracy: 0.8826 - val_loss: 0.2905 - val_sparse_categorical_accuracy: 0.8932\n",
            "Epoch 27/1000\n",
            "418/418 [==============================] - 12s 29ms/step - loss: 0.3038 - sparse_categorical_accuracy: 0.8831 - val_loss: 0.2916 - val_sparse_categorical_accuracy: 0.8920\n",
            "Epoch 28/1000\n",
            "418/418 [==============================] - 12s 29ms/step - loss: 0.3038 - sparse_categorical_accuracy: 0.8843 - val_loss: 0.2893 - val_sparse_categorical_accuracy: 0.8926\n",
            "Epoch 29/1000\n",
            "418/418 [==============================] - 12s 29ms/step - loss: 0.2984 - sparse_categorical_accuracy: 0.8872 - val_loss: 0.2903 - val_sparse_categorical_accuracy: 0.8936\n",
            "Epoch 30/1000\n",
            "418/418 [==============================] - 12s 29ms/step - loss: 0.2978 - sparse_categorical_accuracy: 0.8866 - val_loss: 0.2869 - val_sparse_categorical_accuracy: 0.8926\n",
            "Epoch 31/1000\n",
            "418/418 [==============================] - 12s 29ms/step - loss: 0.2961 - sparse_categorical_accuracy: 0.8870 - val_loss: 0.2777 - val_sparse_categorical_accuracy: 0.8950\n",
            "Epoch 32/1000\n",
            "418/418 [==============================] - 12s 29ms/step - loss: 0.2930 - sparse_categorical_accuracy: 0.8886 - val_loss: 0.2843 - val_sparse_categorical_accuracy: 0.8953\n",
            "Epoch 33/1000\n",
            "418/418 [==============================] - 12s 29ms/step - loss: 0.2865 - sparse_categorical_accuracy: 0.8912 - val_loss: 0.2856 - val_sparse_categorical_accuracy: 0.8942\n",
            "Epoch 34/1000\n",
            "418/418 [==============================] - 12s 28ms/step - loss: 0.2884 - sparse_categorical_accuracy: 0.8900 - val_loss: 0.2832 - val_sparse_categorical_accuracy: 0.8929\n",
            "Epoch 35/1000\n",
            "418/418 [==============================] - 12s 28ms/step - loss: 0.2852 - sparse_categorical_accuracy: 0.8909 - val_loss: 0.2788 - val_sparse_categorical_accuracy: 0.8958\n",
            "Epoch 36/1000\n",
            "418/418 [==============================] - 12s 29ms/step - loss: 0.2842 - sparse_categorical_accuracy: 0.8902 - val_loss: 0.2808 - val_sparse_categorical_accuracy: 0.8974\n",
            "Epoch 37/1000\n",
            "418/418 [==============================] - 12s 29ms/step - loss: 0.2815 - sparse_categorical_accuracy: 0.8923 - val_loss: 0.2834 - val_sparse_categorical_accuracy: 0.8945\n",
            "Epoch 38/1000\n",
            "418/418 [==============================] - 12s 29ms/step - loss: 0.2823 - sparse_categorical_accuracy: 0.8926 - val_loss: 0.2881 - val_sparse_categorical_accuracy: 0.8955\n",
            "Epoch 39/1000\n",
            "418/418 [==============================] - 12s 29ms/step - loss: 0.2770 - sparse_categorical_accuracy: 0.8940 - val_loss: 0.2779 - val_sparse_categorical_accuracy: 0.8986\n",
            "Epoch 40/1000\n",
            "418/418 [==============================] - 12s 29ms/step - loss: 0.2716 - sparse_categorical_accuracy: 0.8949 - val_loss: 0.2809 - val_sparse_categorical_accuracy: 0.8964\n",
            "Epoch 41/1000\n",
            "418/418 [==============================] - 12s 29ms/step - loss: 0.2729 - sparse_categorical_accuracy: 0.8944 - val_loss: 0.2761 - val_sparse_categorical_accuracy: 0.8994\n",
            "Epoch 42/1000\n",
            "418/418 [==============================] - 12s 29ms/step - loss: 0.2716 - sparse_categorical_accuracy: 0.8960 - val_loss: 0.2772 - val_sparse_categorical_accuracy: 0.8992\n",
            "Epoch 43/1000\n",
            "418/418 [==============================] - 12s 29ms/step - loss: 0.2706 - sparse_categorical_accuracy: 0.8947 - val_loss: 0.2782 - val_sparse_categorical_accuracy: 0.8995\n",
            "Epoch 44/1000\n",
            "418/418 [==============================] - 12s 29ms/step - loss: 0.2689 - sparse_categorical_accuracy: 0.8973 - val_loss: 0.2746 - val_sparse_categorical_accuracy: 0.9000\n",
            "Epoch 45/1000\n",
            "418/418 [==============================] - 12s 29ms/step - loss: 0.2671 - sparse_categorical_accuracy: 0.8976 - val_loss: 0.2795 - val_sparse_categorical_accuracy: 0.8998\n",
            "Epoch 46/1000\n",
            "418/418 [==============================] - 12s 29ms/step - loss: 0.2652 - sparse_categorical_accuracy: 0.8981 - val_loss: 0.2852 - val_sparse_categorical_accuracy: 0.8979\n",
            "Epoch 47/1000\n",
            "418/418 [==============================] - 12s 29ms/step - loss: 0.2643 - sparse_categorical_accuracy: 0.9001 - val_loss: 0.2795 - val_sparse_categorical_accuracy: 0.8982\n",
            "Epoch 48/1000\n",
            "418/418 [==============================] - 12s 29ms/step - loss: 0.2640 - sparse_categorical_accuracy: 0.8986 - val_loss: 0.2795 - val_sparse_categorical_accuracy: 0.8976\n",
            "Epoch 49/1000\n",
            "418/418 [==============================] - 12s 29ms/step - loss: 0.2601 - sparse_categorical_accuracy: 0.9016 - val_loss: 0.2704 - val_sparse_categorical_accuracy: 0.9015\n",
            "Epoch 50/1000\n",
            "418/418 [==============================] - 12s 29ms/step - loss: 0.2590 - sparse_categorical_accuracy: 0.9006 - val_loss: 0.2746 - val_sparse_categorical_accuracy: 0.8995\n",
            "Epoch 51/1000\n",
            "418/418 [==============================] - 12s 30ms/step - loss: 0.2566 - sparse_categorical_accuracy: 0.9025 - val_loss: 0.2860 - val_sparse_categorical_accuracy: 0.8977\n",
            "Epoch 52/1000\n",
            "418/418 [==============================] - 12s 29ms/step - loss: 0.2603 - sparse_categorical_accuracy: 0.9002 - val_loss: 0.2768 - val_sparse_categorical_accuracy: 0.9048\n",
            "Epoch 53/1000\n",
            "418/418 [==============================] - 12s 28ms/step - loss: 0.2561 - sparse_categorical_accuracy: 0.8999 - val_loss: 0.2754 - val_sparse_categorical_accuracy: 0.9014\n",
            "Epoch 54/1000\n",
            "418/418 [==============================] - 12s 29ms/step - loss: 0.2568 - sparse_categorical_accuracy: 0.9009 - val_loss: 0.2743 - val_sparse_categorical_accuracy: 0.9011\n",
            "Epoch 55/1000\n",
            "418/418 [==============================] - 12s 29ms/step - loss: 0.2544 - sparse_categorical_accuracy: 0.9028 - val_loss: 0.2726 - val_sparse_categorical_accuracy: 0.9021\n",
            "Epoch 56/1000\n",
            "418/418 [==============================] - 12s 29ms/step - loss: 0.2507 - sparse_categorical_accuracy: 0.9036 - val_loss: 0.2746 - val_sparse_categorical_accuracy: 0.9018\n",
            "Epoch 57/1000\n",
            "418/418 [==============================] - 12s 29ms/step - loss: 0.2484 - sparse_categorical_accuracy: 0.9049 - val_loss: 0.2697 - val_sparse_categorical_accuracy: 0.9020\n",
            "Epoch 58/1000\n",
            "418/418 [==============================] - 12s 29ms/step - loss: 0.2525 - sparse_categorical_accuracy: 0.9031 - val_loss: 0.2755 - val_sparse_categorical_accuracy: 0.8998\n",
            "Epoch 59/1000\n",
            "418/418 [==============================] - 12s 29ms/step - loss: 0.2458 - sparse_categorical_accuracy: 0.9056 - val_loss: 0.2778 - val_sparse_categorical_accuracy: 0.9015\n",
            "Epoch 60/1000\n",
            "418/418 [==============================] - 12s 29ms/step - loss: 0.2504 - sparse_categorical_accuracy: 0.9038 - val_loss: 0.2760 - val_sparse_categorical_accuracy: 0.8994\n",
            "Epoch 61/1000\n",
            "418/418 [==============================] - 12s 29ms/step - loss: 0.2463 - sparse_categorical_accuracy: 0.9051 - val_loss: 0.2803 - val_sparse_categorical_accuracy: 0.9006\n",
            "Epoch 62/1000\n",
            "418/418 [==============================] - 12s 29ms/step - loss: 0.2456 - sparse_categorical_accuracy: 0.9061 - val_loss: 0.2781 - val_sparse_categorical_accuracy: 0.9014\n",
            "Epoch 63/1000\n",
            "418/418 [==============================] - 12s 30ms/step - loss: 0.2454 - sparse_categorical_accuracy: 0.9059 - val_loss: 0.2764 - val_sparse_categorical_accuracy: 0.9030\n",
            "Epoch 64/1000\n",
            "418/418 [==============================] - 12s 29ms/step - loss: 0.2486 - sparse_categorical_accuracy: 0.9030 - val_loss: 0.2784 - val_sparse_categorical_accuracy: 0.9036\n",
            "Epoch 65/1000\n",
            "418/418 [==============================] - 12s 29ms/step - loss: 0.2465 - sparse_categorical_accuracy: 0.9057 - val_loss: 0.2691 - val_sparse_categorical_accuracy: 0.9030\n",
            "Epoch 66/1000\n",
            "418/418 [==============================] - 12s 29ms/step - loss: 0.2400 - sparse_categorical_accuracy: 0.9075 - val_loss: 0.2757 - val_sparse_categorical_accuracy: 0.9055\n",
            "Epoch 67/1000\n",
            "418/418 [==============================] - 12s 29ms/step - loss: 0.2416 - sparse_categorical_accuracy: 0.9061 - val_loss: 0.2761 - val_sparse_categorical_accuracy: 0.9058\n",
            "Epoch 68/1000\n",
            "418/418 [==============================] - 12s 29ms/step - loss: 0.2408 - sparse_categorical_accuracy: 0.9072 - val_loss: 0.2853 - val_sparse_categorical_accuracy: 0.9027\n",
            "Epoch 69/1000\n",
            "418/418 [==============================] - 12s 29ms/step - loss: 0.2366 - sparse_categorical_accuracy: 0.9086 - val_loss: 0.2735 - val_sparse_categorical_accuracy: 0.9042\n",
            "Epoch 70/1000\n",
            "418/418 [==============================] - 12s 29ms/step - loss: 0.2362 - sparse_categorical_accuracy: 0.9079 - val_loss: 0.2755 - val_sparse_categorical_accuracy: 0.9055\n",
            "Epoch 71/1000\n",
            "418/418 [==============================] - 12s 29ms/step - loss: 0.2351 - sparse_categorical_accuracy: 0.9097 - val_loss: 0.2714 - val_sparse_categorical_accuracy: 0.9041\n",
            "Epoch 72/1000\n",
            "418/418 [==============================] - 12s 29ms/step - loss: 0.2377 - sparse_categorical_accuracy: 0.9099 - val_loss: 0.2802 - val_sparse_categorical_accuracy: 0.9014\n",
            "Epoch 73/1000\n",
            "418/418 [==============================] - 12s 29ms/step - loss: 0.2328 - sparse_categorical_accuracy: 0.9096 - val_loss: 0.2759 - val_sparse_categorical_accuracy: 0.9044\n",
            "Epoch 74/1000\n",
            "418/418 [==============================] - 12s 29ms/step - loss: 0.2341 - sparse_categorical_accuracy: 0.9105 - val_loss: 0.2766 - val_sparse_categorical_accuracy: 0.9024\n",
            "Epoch 75/1000\n",
            "418/418 [==============================] - 12s 29ms/step - loss: 0.2318 - sparse_categorical_accuracy: 0.9116 - val_loss: 0.2752 - val_sparse_categorical_accuracy: 0.9024\n",
            "Epoch 76/1000\n",
            "418/418 [==============================] - 12s 29ms/step - loss: 0.2319 - sparse_categorical_accuracy: 0.9106 - val_loss: 0.2757 - val_sparse_categorical_accuracy: 0.9048\n",
            "Epoch 77/1000\n",
            "418/418 [==============================] - 12s 29ms/step - loss: 0.2292 - sparse_categorical_accuracy: 0.9118 - val_loss: 0.2818 - val_sparse_categorical_accuracy: 0.9026\n",
            "Epoch 78/1000\n",
            "418/418 [==============================] - 12s 29ms/step - loss: 0.2276 - sparse_categorical_accuracy: 0.9114 - val_loss: 0.2767 - val_sparse_categorical_accuracy: 0.9055\n",
            "Epoch 79/1000\n",
            "418/418 [==============================] - 12s 29ms/step - loss: 0.2269 - sparse_categorical_accuracy: 0.9122 - val_loss: 0.2810 - val_sparse_categorical_accuracy: 0.9011\n",
            "Epoch 80/1000\n",
            "418/418 [==============================] - 12s 29ms/step - loss: 0.2295 - sparse_categorical_accuracy: 0.9114 - val_loss: 0.2818 - val_sparse_categorical_accuracy: 0.9033\n",
            "Epoch 81/1000\n",
            "418/418 [==============================] - 12s 30ms/step - loss: 0.2295 - sparse_categorical_accuracy: 0.9109 - val_loss: 0.2732 - val_sparse_categorical_accuracy: 0.9053\n",
            "Epoch 82/1000\n",
            "418/418 [==============================] - 12s 29ms/step - loss: 0.2289 - sparse_categorical_accuracy: 0.9119 - val_loss: 0.2763 - val_sparse_categorical_accuracy: 0.9050\n",
            "Epoch 83/1000\n",
            "418/418 [==============================] - 12s 29ms/step - loss: 0.2272 - sparse_categorical_accuracy: 0.9124 - val_loss: 0.2675 - val_sparse_categorical_accuracy: 0.9039\n",
            "Epoch 84/1000\n",
            "418/418 [==============================] - 12s 29ms/step - loss: 0.2267 - sparse_categorical_accuracy: 0.9123 - val_loss: 0.2783 - val_sparse_categorical_accuracy: 0.9045\n",
            "Epoch 85/1000\n",
            "418/418 [==============================] - 12s 29ms/step - loss: 0.2241 - sparse_categorical_accuracy: 0.9139 - val_loss: 0.2790 - val_sparse_categorical_accuracy: 0.9035\n",
            "Epoch 86/1000\n",
            "418/418 [==============================] - 12s 29ms/step - loss: 0.2230 - sparse_categorical_accuracy: 0.9140 - val_loss: 0.2793 - val_sparse_categorical_accuracy: 0.9074\n",
            "Epoch 87/1000\n",
            "418/418 [==============================] - 12s 29ms/step - loss: 0.2234 - sparse_categorical_accuracy: 0.9132 - val_loss: 0.2739 - val_sparse_categorical_accuracy: 0.9036\n",
            "Epoch 88/1000\n",
            "418/418 [==============================] - 12s 29ms/step - loss: 0.2232 - sparse_categorical_accuracy: 0.9140 - val_loss: 0.2799 - val_sparse_categorical_accuracy: 0.9047\n",
            "Epoch 89/1000\n",
            "418/418 [==============================] - 12s 29ms/step - loss: 0.2239 - sparse_categorical_accuracy: 0.9148 - val_loss: 0.2753 - val_sparse_categorical_accuracy: 0.9045\n",
            "Epoch 90/1000\n",
            "418/418 [==============================] - 12s 29ms/step - loss: 0.2208 - sparse_categorical_accuracy: 0.9133 - val_loss: 0.2786 - val_sparse_categorical_accuracy: 0.9085\n",
            "Epoch 91/1000\n",
            "418/418 [==============================] - 12s 29ms/step - loss: 0.2205 - sparse_categorical_accuracy: 0.9147 - val_loss: 0.2816 - val_sparse_categorical_accuracy: 0.9050\n",
            "Epoch 92/1000\n",
            "418/418 [==============================] - 12s 29ms/step - loss: 0.2229 - sparse_categorical_accuracy: 0.9140 - val_loss: 0.2732 - val_sparse_categorical_accuracy: 0.9062\n",
            "Epoch 93/1000\n",
            "418/418 [==============================] - 12s 29ms/step - loss: 0.2174 - sparse_categorical_accuracy: 0.9159 - val_loss: 0.2808 - val_sparse_categorical_accuracy: 0.9032\n",
            "Epoch 94/1000\n",
            "418/418 [==============================] - 12s 29ms/step - loss: 0.2184 - sparse_categorical_accuracy: 0.9141 - val_loss: 0.2766 - val_sparse_categorical_accuracy: 0.9052\n",
            "Epoch 95/1000\n",
            "418/418 [==============================] - 12s 29ms/step - loss: 0.2162 - sparse_categorical_accuracy: 0.9167 - val_loss: 0.2768 - val_sparse_categorical_accuracy: 0.9055\n",
            "Epoch 96/1000\n",
            "418/418 [==============================] - 12s 29ms/step - loss: 0.2176 - sparse_categorical_accuracy: 0.9154 - val_loss: 0.2871 - val_sparse_categorical_accuracy: 0.9070\n",
            "Epoch 97/1000\n",
            "418/418 [==============================] - 12s 29ms/step - loss: 0.2185 - sparse_categorical_accuracy: 0.9159 - val_loss: 0.2760 - val_sparse_categorical_accuracy: 0.9056\n",
            "Epoch 98/1000\n",
            "418/418 [==============================] - 13s 30ms/step - loss: 0.2159 - sparse_categorical_accuracy: 0.9170 - val_loss: 0.2808 - val_sparse_categorical_accuracy: 0.9035\n",
            "Epoch 99/1000\n",
            "418/418 [==============================] - 12s 29ms/step - loss: 0.2179 - sparse_categorical_accuracy: 0.9161 - val_loss: 0.2741 - val_sparse_categorical_accuracy: 0.9059\n",
            "Epoch 100/1000\n",
            "418/418 [==============================] - 12s 29ms/step - loss: 0.2172 - sparse_categorical_accuracy: 0.9157 - val_loss: 0.2777 - val_sparse_categorical_accuracy: 0.9055\n",
            "Epoch 101/1000\n",
            "418/418 [==============================] - 12s 29ms/step - loss: 0.2147 - sparse_categorical_accuracy: 0.9170 - val_loss: 0.2772 - val_sparse_categorical_accuracy: 0.9059\n",
            "Epoch 102/1000\n",
            "418/418 [==============================] - 12s 29ms/step - loss: 0.2095 - sparse_categorical_accuracy: 0.9190 - val_loss: 0.2835 - val_sparse_categorical_accuracy: 0.9035\n",
            "Epoch 103/1000\n",
            "418/418 [==============================] - 12s 29ms/step - loss: 0.2102 - sparse_categorical_accuracy: 0.9175 - val_loss: 0.2814 - val_sparse_categorical_accuracy: 0.9038\n",
            "Epoch 104/1000\n",
            "418/418 [==============================] - 12s 29ms/step - loss: 0.2120 - sparse_categorical_accuracy: 0.9175 - val_loss: 0.2774 - val_sparse_categorical_accuracy: 0.9053\n",
            "Epoch 105/1000\n",
            "418/418 [==============================] - 12s 29ms/step - loss: 0.2121 - sparse_categorical_accuracy: 0.9173 - val_loss: 0.2848 - val_sparse_categorical_accuracy: 0.9047\n",
            "Epoch 106/1000\n",
            "418/418 [==============================] - 12s 29ms/step - loss: 0.2159 - sparse_categorical_accuracy: 0.9162 - val_loss: 0.2751 - val_sparse_categorical_accuracy: 0.9029\n",
            "Epoch 107/1000\n",
            "418/418 [==============================] - 12s 29ms/step - loss: 0.2113 - sparse_categorical_accuracy: 0.9190 - val_loss: 0.2830 - val_sparse_categorical_accuracy: 0.9068\n",
            "Epoch 108/1000\n",
            "418/418 [==============================] - 12s 29ms/step - loss: 0.2124 - sparse_categorical_accuracy: 0.9180 - val_loss: 0.2793 - val_sparse_categorical_accuracy: 0.9059\n",
            "Epoch 109/1000\n",
            "418/418 [==============================] - 12s 29ms/step - loss: 0.2125 - sparse_categorical_accuracy: 0.9179 - val_loss: 0.2811 - val_sparse_categorical_accuracy: 0.9065\n",
            "Epoch 110/1000\n",
            "418/418 [==============================] - 12s 29ms/step - loss: 0.2096 - sparse_categorical_accuracy: 0.9178 - val_loss: 0.2854 - val_sparse_categorical_accuracy: 0.9068\n",
            "Epoch 111/1000\n",
            "418/418 [==============================] - 12s 29ms/step - loss: 0.2086 - sparse_categorical_accuracy: 0.9188 - val_loss: 0.2795 - val_sparse_categorical_accuracy: 0.9058\n",
            "Epoch 112/1000\n",
            "418/418 [==============================] - 12s 29ms/step - loss: 0.2090 - sparse_categorical_accuracy: 0.9196 - val_loss: 0.2773 - val_sparse_categorical_accuracy: 0.9070\n",
            "Epoch 113/1000\n",
            "418/418 [==============================] - 12s 29ms/step - loss: 0.2035 - sparse_categorical_accuracy: 0.9221 - val_loss: 0.2887 - val_sparse_categorical_accuracy: 0.9045\n",
            "Epoch 114/1000\n",
            "418/418 [==============================] - 12s 29ms/step - loss: 0.2107 - sparse_categorical_accuracy: 0.9181 - val_loss: 0.2813 - val_sparse_categorical_accuracy: 0.9044\n",
            "Epoch 115/1000\n",
            "418/418 [==============================] - 12s 29ms/step - loss: 0.2073 - sparse_categorical_accuracy: 0.9199 - val_loss: 0.2837 - val_sparse_categorical_accuracy: 0.9047\n",
            "Epoch 116/1000\n",
            "418/418 [==============================] - 12s 29ms/step - loss: 0.2082 - sparse_categorical_accuracy: 0.9186 - val_loss: 0.2776 - val_sparse_categorical_accuracy: 0.9076\n",
            "Epoch 117/1000\n",
            "418/418 [==============================] - 12s 29ms/step - loss: 0.2085 - sparse_categorical_accuracy: 0.9188 - val_loss: 0.2788 - val_sparse_categorical_accuracy: 0.9058\n",
            "Epoch 118/1000\n",
            "418/418 [==============================] - 12s 29ms/step - loss: 0.2064 - sparse_categorical_accuracy: 0.9199 - val_loss: 0.2821 - val_sparse_categorical_accuracy: 0.9048\n",
            "Epoch 119/1000\n",
            "418/418 [==============================] - 12s 29ms/step - loss: 0.2075 - sparse_categorical_accuracy: 0.9200 - val_loss: 0.2796 - val_sparse_categorical_accuracy: 0.9039\n",
            "Epoch 120/1000\n",
            "418/418 [==============================] - 12s 29ms/step - loss: 0.2041 - sparse_categorical_accuracy: 0.9211 - val_loss: 0.2802 - val_sparse_categorical_accuracy: 0.9038\n",
            "Epoch 121/1000\n",
            "418/418 [==============================] - 12s 29ms/step - loss: 0.2066 - sparse_categorical_accuracy: 0.9214 - val_loss: 0.2840 - val_sparse_categorical_accuracy: 0.9058\n",
            "Epoch 122/1000\n",
            "418/418 [==============================] - 12s 29ms/step - loss: 0.2055 - sparse_categorical_accuracy: 0.9203 - val_loss: 0.2793 - val_sparse_categorical_accuracy: 0.9058\n",
            "Epoch 123/1000\n",
            "418/418 [==============================] - 12s 29ms/step - loss: 0.2023 - sparse_categorical_accuracy: 0.9208 - val_loss: 0.2792 - val_sparse_categorical_accuracy: 0.9091\n",
            "313/313 [==============================] - 1s 3ms/step - loss: 0.3034 - sparse_categorical_accuracy: 0.9008\n",
            "\n",
            "Test accuracy: 0.9007999897003174\n"
          ]
        }
      ]
    },
    {
      "cell_type": "code",
      "source": [
        "print('\\nhistory dict:', list(history.history.keys()))"
      ],
      "metadata": {
        "id": "CxRE-B_Q6Sii",
        "colab": {
          "base_uri": "https://localhost:8080/"
        },
        "outputId": "1cbd52a0-bf79-49db-cfc7-c325ed8cb594"
      },
      "execution_count": 111,
      "outputs": [
        {
          "output_type": "stream",
          "name": "stdout",
          "text": [
            "\n",
            "history dict: ['loss', 'sparse_categorical_accuracy', 'val_loss', 'val_sparse_categorical_accuracy']\n"
          ]
        }
      ]
    },
    {
      "cell_type": "code",
      "source": [
        "result = model.evaluate(x_test, y_test)\n",
        "print(result)"
      ],
      "metadata": {
        "id": "YXpwRRTvTBNg",
        "colab": {
          "base_uri": "https://localhost:8080/"
        },
        "outputId": "9defa023-5e38-4a55-a3c8-a5005758ecfb"
      },
      "execution_count": 112,
      "outputs": [
        {
          "output_type": "stream",
          "name": "stdout",
          "text": [
            "313/313 [==============================] - 1s 3ms/step - loss: 0.3034 - sparse_categorical_accuracy: 0.9008\n",
            "[0.3034241199493408, 0.9007999897003174]\n"
          ]
        }
      ]
    },
    {
      "cell_type": "code",
      "source": [
        "saved_model = load_model('best_model.h5')\n",
        "result = saved_model.evaluate(x_test, y_test)\n",
        "print(result)"
      ],
      "metadata": {
        "id": "dpaZAW0vp1AZ",
        "colab": {
          "base_uri": "https://localhost:8080/"
        },
        "outputId": "fe70bb23-40b0-4822-8085-21d8ba6300cc"
      },
      "execution_count": 113,
      "outputs": [
        {
          "output_type": "stream",
          "name": "stdout",
          "text": [
            "313/313 [==============================] - 1s 3ms/step - loss: 0.3147 - sparse_categorical_accuracy: 0.8971\n",
            "[0.3146938383579254, 0.8970999717712402]\n"
          ]
        }
      ]
    },
    {
      "cell_type": "code",
      "source": [
        "# from keras.models import load_model\n",
        "# saved_model = load_model('best_model.h5')\n",
        "# # _, train_acc = saved_model.evaluate(x_train, y_train, verbose=0)\n",
        "# _, test_acc = saved_model.evaluate(x_test, y_test, verbose=0)\n",
        "# print('Test: %.3f' % (test_acc))"
      ],
      "metadata": {
        "id": "DR_MS9DABo_K"
      },
      "execution_count": 114,
      "outputs": []
    },
    {
      "cell_type": "code",
      "source": [
        "history_dict = history.history\n",
        "loss_values = history_dict['loss']\n",
        "val_loss_values = history_dict['val_loss']\n",
        "\n",
        "epochs = range(1, len(history_dict['loss']) + 1)\n",
        "\n",
        "plt.figure(figsize=(10, 5))\n",
        "plt.plot(epochs, loss_values, 'bo', label='Training loss')\n",
        "plt.plot(epochs, val_loss_values, 'r', label='Validation loss')\n",
        "# plt.ylim (0.2, 0.5)\n",
        "plt.title('Training and validation loss')\n",
        "plt.xlabel('Epochs')\n",
        "plt.ylabel('Loss')\n",
        "plt.legend()\n",
        "plt.grid(True)\n",
        "plt.show()\n",
        "1\n",
        "plt.clf()\n",
        "plt.figure(figsize=(10, 5))\n",
        "val_acc_values = history_dict['sparse_categorical_accuracy']\n",
        "plt.plot(epochs, history_dict['sparse_categorical_accuracy'], 'bo', label='Training acc')\n",
        "plt.plot(epochs, history_dict['val_sparse_categorical_accuracy'], 'r', label='Validation acc')\n",
        "plt.ylim (0.86, 0.94)\n",
        "plt.title('Training and validation accuracy')\n",
        "plt.xlabel('Epochs')\n",
        "plt.ylabel('Accuracy')\n",
        "plt.legend()\n",
        "plt.grid(True)"
      ],
      "metadata": {
        "id": "2Ll_5sGlXKMH",
        "colab": {
          "base_uri": "https://localhost:8080/",
          "height": 975
        },
        "outputId": "9eb636c5-a6ba-4a68-e7ff-33e7349544d0"
      },
      "execution_count": 115,
      "outputs": [
        {
          "output_type": "display_data",
          "data": {
            "text/plain": [
              "<Figure size 1000x500 with 1 Axes>"
            ],
            "image/png": "[encoded data removed]"
          },
          "metadata": {}
        },
        {
          "output_type": "display_data",
          "data": {
            "text/plain": [
              "<Figure size 640x480 with 0 Axes>"
            ]
          },
          "metadata": {}
        },
        {
          "output_type": "display_data",
          "data": {
            "text/plain": [
              "<Figure size 1000x500 with 1 Axes>"
            ],
            "image/png": "[encoded data removed]"
          },
          "metadata": {}
        }
      ]
    },
    {
      "cell_type": "code",
      "source": [
        "probability_model = tf.keras.Sequential([model,\n",
        "                                         tf.keras.layers.Softmax()])"
      ],
      "metadata": {
        "id": "VzOdKAT_uV-f"
      },
      "execution_count": 116,
      "outputs": []
    },
    {
      "cell_type": "code",
      "source": [
        "predictions = probability_model.predict(x_test)"
      ],
      "metadata": {
        "id": "f4is3NFruYom",
        "colab": {
          "base_uri": "https://localhost:8080/"
        },
        "outputId": "55981a0a-9cee-4b04-e99b-ed789f14c4ba"
      },
      "execution_count": 117,
      "outputs": [
        {
          "output_type": "stream",
          "name": "stdout",
          "text": [
            "313/313 [==============================] - 1s 3ms/step\n"
          ]
        }
      ]
    },
    {
      "cell_type": "code",
      "source": [
        "predictions[0]"
      ],
      "metadata": {
        "id": "82cigvlZudz_",
        "colab": {
          "base_uri": "https://localhost:8080/"
        },
        "outputId": "99e53cae-f44d-4470-d0bb-9d0b923086fd"
      },
      "execution_count": 118,
      "outputs": [
        {
          "output_type": "execute_result",
          "data": {
            "text/plain": [
              "array([0.08534653, 0.08534653, 0.08534653, 0.08534653, 0.08534653,\n",
              "       0.08534745, 0.08534653, 0.08541251, 0.08534653, 0.23181424],\n",
              "      dtype=float32)"
            ]
          },
          "metadata": {},
          "execution_count": 118
        }
      ]
    },
    {
      "cell_type": "code",
      "source": [
        "model.summary()"
      ],
      "metadata": {
        "id": "6RsQPHyYuNGe",
        "colab": {
          "base_uri": "https://localhost:8080/"
        },
        "outputId": "301f3a2c-78e1-4b7a-fa38-7a20b31c9d49"
      },
      "execution_count": 119,
      "outputs": [
        {
          "output_type": "stream",
          "name": "stdout",
          "text": [
            "Model: \"sequential_4\"\n",
            "_________________________________________________________________\n",
            " Layer (type)                Output Shape              Param #   \n",
            "=================================================================\n",
            " flatten_2 (Flatten)         (None, 784)               0         \n",
            "                                                                 \n",
            " dropout_8 (Dropout)         (None, 784)               0         \n",
            "                                                                 \n",
            " batch_normalization_6 (Bat  (None, 784)               3136      \n",
            " chNormalization)                                                \n",
            "                                                                 \n",
            " dense_8 (Dense)             (None, 400)               314000    \n",
            "                                                                 \n",
            " dropout_9 (Dropout)         (None, 400)               0         \n",
            "                                                                 \n",
            " batch_normalization_7 (Bat  (None, 400)               1600      \n",
            " chNormalization)                                                \n",
            "                                                                 \n",
            " dense_9 (Dense)             (None, 800)               320800    \n",
            "                                                                 \n",
            " dropout_10 (Dropout)        (None, 800)               0         \n",
            "                                                                 \n",
            " batch_normalization_8 (Bat  (None, 800)               3200      \n",
            " chNormalization)                                                \n",
            "                                                                 \n",
            " dense_10 (Dense)            (None, 1200)              961200    \n",
            "                                                                 \n",
            " dropout_11 (Dropout)        (None, 1200)              0         \n",
            "                                                                 \n",
            " dense_11 (Dense)            (None, 10)                12010     \n",
            "                                                                 \n",
            "=================================================================\n",
            "Total params: 1615946 (6.16 MB)\n",
            "Trainable params: 1611978 (6.15 MB)\n",
            "Non-trainable params: 3968 (15.50 KB)\n",
            "_________________________________________________________________\n"
          ]
        }
      ]
    },
    {
      "cell_type": "code",
      "source": [
        "\n",
        "\n",
        "hnyetjn hrte()"
      ],
      "metadata": {
        "id": "S4hcxZttmp-0",
        "colab": {
          "base_uri": "https://localhost:8080/",
          "height": 108
        },
        "outputId": "e7d8d43b-e6f3-46b3-8d57-f1ed8db6be9c"
      },
      "execution_count": 120,
      "outputs": [
        {
          "output_type": "error",
          "ename": "SyntaxError",
          "evalue": "invalid syntax (<ipython-input-120-1a3818e70946>, line 1)",
          "traceback": [
            "\u001b[0;36m  File \u001b[0;32m\"<ipython-input-120-1a3818e70946>\"\u001b[0;36m, line \u001b[0;32m1\u001b[0m\n\u001b[0;31m    hnyetjn hrte()\u001b[0m\n\u001b[0m            ^\u001b[0m\n\u001b[0;31mSyntaxError\u001b[0m\u001b[0;31m:\u001b[0m invalid syntax\n"
          ]
        }
      ]
    }
  ]
}