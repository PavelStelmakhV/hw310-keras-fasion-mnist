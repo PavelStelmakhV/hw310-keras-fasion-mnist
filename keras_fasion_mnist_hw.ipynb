{
  "nbformat": 4,
  "nbformat_minor": 0,
  "metadata": {
    "colab": {
      "provenance": [],
      "gpuType": "T4",
      "authorship_tag": "ABX9TyPW3xfpK2rB3AIi//6lYzyU",
      "include_colab_link": true
    },
    "kernelspec": {
      "name": "python3",
      "display_name": "Python 3"
    },
    "language_info": {
      "name": "python"
    },
    "accelerator": "GPU"
  },
  "cells": [
    {
      "cell_type": "markdown",
      "metadata": {
        "id": "view-in-github",
        "colab_type": "text"
      },
      "source": [
        "<a href=\"https://colab.research.google.com/github/PavelStelmakhV/hw310-keras-fasion-mnist/blob/main/keras_fasion_mnist_hw.ipynb\" target=\"_parent\"><img src=\"https://colab.research.google.com/assets/colab-badge.svg\" alt=\"Open In Colab\"/></a>"
      ]
    },
    {
      "cell_type": "code",
      "source": [
        "import tensorflow as tf\n",
        "from tensorflow.python.client import device_lib\n",
        "print(device_lib.list_local_devices())"
      ],
      "metadata": {
        "colab": {
          "base_uri": "https://localhost:8080/"
        },
        "id": "CQL6wYJUms6Y",
        "outputId": "12fcb8a2-65a0-4785-d008-5688a27542d6"
      },
      "execution_count": null,
      "outputs": [
        {
          "output_type": "stream",
          "name": "stdout",
          "text": [
            "[name: \"/device:CPU:0\"\n",
            "device_type: \"CPU\"\n",
            "memory_limit: 268435456\n",
            "locality {\n",
            "}\n",
            "incarnation: 17237921632643618872\n",
            "xla_global_id: -1\n",
            "]\n"
          ]
        }
      ]
    },
    {
      "cell_type": "code",
      "execution_count": null,
      "metadata": {
        "id": "vv7w0bgAVQPO"
      },
      "outputs": [],
      "source": [
        "import tensorflow as tf\n",
        "import numpy as np\n",
        "import matplotlib.pyplot as plt\n",
        "import tf_keras\n",
        "\n",
        "from keras import layers\n",
        "from keras import models\n",
        "from keras import regularizers\n",
        "from keras import callbacks\n",
        "from keras import initializers\n",
        "from keras.layers import BatchNormalization\n",
        "from keras.models import load_model"
      ]
    },
    {
      "cell_type": "code",
      "source": [
        "num_classes = 10"
      ],
      "metadata": {
        "id": "RvT1uYJsa5cn"
      },
      "execution_count": null,
      "outputs": []
    },
    {
      "cell_type": "code",
      "source": [
        "fashion_mnist = tf.keras.datasets.fashion_mnist\n",
        "\n",
        "(x_train, y_train), (x_test, y_test) = fashion_mnist.load_data()"
      ],
      "metadata": {
        "id": "mOpywsNAzfGB"
      },
      "execution_count": null,
      "outputs": []
    },
    {
      "cell_type": "code",
      "source": [
        "np.transpose(y_train).shape"
      ],
      "metadata": {
        "id": "djIFwQxwMvQR",
        "outputId": "4381fa0d-29c9-4b15-9358-d4538751f5dd",
        "colab": {
          "base_uri": "https://localhost:8080/"
        }
      },
      "execution_count": null,
      "outputs": [
        {
          "output_type": "execute_result",
          "data": {
            "text/plain": [
              "(60000,)"
            ]
          },
          "metadata": {},
          "execution_count": 446
        }
      ]
    },
    {
      "cell_type": "code",
      "source": [
        "y_train.shape"
      ],
      "metadata": {
        "id": "clHS88VQNR82",
        "outputId": "bd44e6f2-667d-4237-ea4b-e48e80d6a123",
        "colab": {
          "base_uri": "https://localhost:8080/"
        }
      },
      "execution_count": null,
      "outputs": [
        {
          "output_type": "execute_result",
          "data": {
            "text/plain": [
              "(60000,)"
            ]
          },
          "metadata": {},
          "execution_count": 447
        }
      ]
    },
    {
      "cell_type": "code",
      "source": [
        "def drow_hist(data):\n",
        "  plt.figure(figsize=(8,6), dpi= 80)\n",
        "  _ = plt.hist(data,\n",
        "              bins=num_classes,\n",
        "              stacked=True,\n",
        "              density=False,\n",
        "              range=(0,10),\n",
        "              rwidth=0.9,\n",
        "              )"
      ],
      "metadata": {
        "id": "NjEvuOvomEoT"
      },
      "execution_count": null,
      "outputs": []
    },
    {
      "cell_type": "code",
      "source": [
        "# create validation data\n",
        "val_size = 6600\n",
        "\n",
        "x_val = x_train[-val_size:, :, :]\n",
        "x_train = x_train[:-val_size, :, :]\n",
        "\n",
        "y_val = y_train[-val_size:]\n",
        "y_train = y_train[:-val_size]"
      ],
      "metadata": {
        "id": "jAs92sDoVU89"
      },
      "execution_count": null,
      "outputs": []
    },
    {
      "cell_type": "code",
      "source": [
        "# mirror train image\n",
        "x_train_add = np.rot90(x_train, k=1, axes=(1,2))\n",
        "x_train_add = np.transpose(x_train_add, (0, 2, 1))"
      ],
      "metadata": {
        "id": "UHNuw-3D_v7x"
      },
      "execution_count": null,
      "outputs": []
    },
    {
      "cell_type": "code",
      "source": [
        "y_train_add = y_train.copy()"
      ],
      "metadata": {
        "id": "TNDXV8RfZbt1"
      },
      "execution_count": null,
      "outputs": []
    },
    {
      "cell_type": "code",
      "source": [
        "# remove boots image from addition data [5, 7, 9]\n",
        "for i in [5, 7, 9]:\n",
        "    index = np.where(y_train_add == i )\n",
        "    x_train_add = np.delete(x_train_add, index , axis=0)\n",
        "    y_train_add = np.delete(y_train_add, index , axis=0)"
      ],
      "metadata": {
        "id": "506yp4e5UqKp"
      },
      "execution_count": null,
      "outputs": []
    },
    {
      "cell_type": "code",
      "source": [
        "x_train_add.shape"
      ],
      "metadata": {
        "colab": {
          "base_uri": "https://localhost:8080/"
        },
        "id": "WB-PVgBb116E",
        "outputId": "1bac68a3-b14c-47ac-c7df-1b839092aa0d"
      },
      "execution_count": null,
      "outputs": [
        {
          "output_type": "execute_result",
          "data": {
            "text/plain": [
              "(34972, 28, 28)"
            ]
          },
          "metadata": {},
          "execution_count": 453
        }
      ]
    },
    {
      "cell_type": "code",
      "source": [
        "y_train_add.shape"
      ],
      "metadata": {
        "colab": {
          "base_uri": "https://localhost:8080/"
        },
        "id": "MjteIWwr2V-N",
        "outputId": "e709a47c-910e-4851-fd58-0ce7aa15b884"
      },
      "execution_count": null,
      "outputs": [
        {
          "output_type": "execute_result",
          "data": {
            "text/plain": [
              "(34972,)"
            ]
          },
          "metadata": {},
          "execution_count": 454
        }
      ]
    },
    {
      "cell_type": "code",
      "source": [
        "# x_train = np.concatenate([\n",
        "#     x_train,\n",
        "#     x_train_add[:10000:, :, :]\n",
        "# ])"
      ],
      "metadata": {
        "id": "C25g0-L5PuhV"
      },
      "execution_count": null,
      "outputs": []
    },
    {
      "cell_type": "code",
      "source": [
        "# y_train = np.concatenate([\n",
        "#     y_train,\n",
        "#     y_train_add[:10000]\n",
        "# ])"
      ],
      "metadata": {
        "id": "JiyI9CE-RWnR"
      },
      "execution_count": null,
      "outputs": []
    },
    {
      "cell_type": "code",
      "source": [
        "drow_hist(y_train)"
      ],
      "metadata": {
        "colab": {
          "base_uri": "https://localhost:8080/",
          "height": 420
        },
        "id": "j0FZ4_7DpRVw",
        "outputId": "ee1d33d9-1f05-45b3-c755-9f7bf9420752"
      },
      "execution_count": null,
      "outputs": [
        {
          "output_type": "display_data",
          "data": {
            "text/plain": [
              "<Figure size 640x480 with 1 Axes>"
            ],
            "image/png": "[encoded data removed]"
          },
          "metadata": {}
        }
      ]
    },
    {
      "cell_type": "code",
      "source": [
        "# plt.figure()\n",
        "# plt.imshow(x_train[7])\n",
        "# plt.colorbar()\n",
        "# plt.grid(False)\n",
        "# plt.show()"
      ],
      "metadata": {
        "id": "mq_QalIABCeU"
      },
      "execution_count": null,
      "outputs": []
    },
    {
      "cell_type": "code",
      "source": [
        "# plt.figure()\n",
        "# plt.imshow(x_train_add[0])\n",
        "# plt.colorbar()\n",
        "# plt.grid(False)\n",
        "# plt.show()"
      ],
      "metadata": {
        "id": "CDLNL7Zw3HEc"
      },
      "execution_count": null,
      "outputs": []
    },
    {
      "cell_type": "code",
      "source": [
        "x_train = x_train.astype('float32') / 255\n",
        "x_test = x_test.astype('float32') / 255\n",
        "\n",
        "y_train = y_train.astype('float32')\n",
        "y_test = y_test.astype('float32')\n",
        "\n",
        "x_val = x_val.astype('float32') / 255\n",
        "y_val = y_val.astype('float32')"
      ],
      "metadata": {
        "id": "t2gucjsJ0KUi"
      },
      "execution_count": null,
      "outputs": []
    },
    {
      "cell_type": "code",
      "source": [
        "# class_names = ['T-shirt/top', 'Trouser', 'Pullover', 'Dress', 'Coat',\n",
        "#                'Sandal', 'Shirt', 'Sneaker', 'Bag', 'Ankle boot']\n",
        "\n",
        "# plt.figure(figsize=(10,10))\n",
        "# for i in range(25):\n",
        "#     plt.subplot(5,5,i+1)\n",
        "#     plt.xticks([])\n",
        "#     plt.yticks([])\n",
        "#     plt.grid(False)\n",
        "#     plt.imshow(x_train[i+50000], cmap=plt.cm.binary)\n",
        "#     plt.xlabel(class_names[int(y_train[i+50000])])\n",
        "# plt.show()"
      ],
      "metadata": {
        "id": "h4LveKxM4hyC"
      },
      "execution_count": null,
      "outputs": []
    },
    {
      "cell_type": "code",
      "source": [
        "# plt.figure(figsize=(10,10))\n",
        "# for i in range(25):\n",
        "#     plt.subplot(5,5,i+1)\n",
        "#     plt.xticks([])\n",
        "#     plt.yticks([])\n",
        "#     plt.grid(False)\n",
        "#     plt.imshow(x_train[i], cmap=plt.cm.binary)\n",
        "#     plt.xlabel(class_names[int(y_train[i])])\n",
        "# plt.show()"
      ],
      "metadata": {
        "id": "hljEDYd55d8Q"
      },
      "execution_count": null,
      "outputs": []
    },
    {
      "cell_type": "code",
      "source": [
        "w_init_tanh = initializers.glorot_normal(seed=111)\n",
        "w_init_relu = initializers.HeNormal(seed=66)\n",
        "# w_init_relu = initializers.HeUniform(seed=24)\n",
        "b_init = initializers.Zeros()"
      ],
      "metadata": {
        "id": "yL9QTEtBGy4N"
      },
      "execution_count": null,
      "outputs": []
    },
    {
      "cell_type": "code",
      "source": [
        "drop_out = 0.28"
      ],
      "metadata": {
        "id": "flsDcVTnU10J"
      },
      "execution_count": null,
      "outputs": []
    },
    {
      "cell_type": "code",
      "source": [
        "def layer_relu(model, neurons):\n",
        "  model.add(BatchNormalization())\n",
        "  model.add(layers.Dense(neurons,\n",
        "                       activation='relu',\n",
        "                       kernel_initializer=w_init_relu,\n",
        "                       bias_initializer=b_init))\n",
        "  model.add(layers.Dropout(drop_out))\n",
        "  return model"
      ],
      "metadata": {
        "id": "ZZgs_25rKBCp"
      },
      "execution_count": null,
      "outputs": []
    },
    {
      "cell_type": "code",
      "source": [
        "def layer_tanh(model, neurons):\n",
        "  model.add(BatchNormalization())\n",
        "  model.add(layers.Dense(neurons,\n",
        "                        activation='tanh',\n",
        "                        kernel_initializer=w_init_tanh,\n",
        "                        bias_initializer=b_init))\n",
        "  model.add(layers.Dropout(drop_out))\n",
        "  return model"
      ],
      "metadata": {
        "id": "90JLLnkBR50t"
      },
      "execution_count": null,
      "outputs": []
    },
    {
      "cell_type": "code",
      "source": [
        "model = models.Sequential()\n",
        "\n",
        "neurons = 256\n",
        "\n",
        "model.add(layers.Flatten(input_shape=(28, 28)))\n",
        "model.add(layers.Dropout(drop_out))\n",
        "\n",
        "model = layer_relu(model, neurons*1)\n",
        "model = layer_tanh(model, neurons*2)\n",
        "model = layer_relu(model, neurons*2)\n",
        "# model = layer_relu(model, neurons*1)\n",
        "\n",
        "\n",
        "model.add(layers.Dense(10, activation='softmax'))"
      ],
      "metadata": {
        "id": "atS39i4d0aqW"
      },
      "execution_count": null,
      "outputs": []
    },
    {
      "cell_type": "markdown",
      "source": [
        "++++++++++++++++++++++++++++++++++++++++++++++++++++++++++++++++++++++++++++++++"
      ],
      "metadata": {
        "id": "tZO7hl7pM63y"
      }
    },
    {
      "cell_type": "code",
      "source": [
        "optimizer = tf.keras.optimizers.Nadam(learning_rate=0.0003,\n",
        "                                      beta_1=0.9,\n",
        "                                      beta_2=0.999,\n",
        "                                      epsilon=1e-06\n",
        ")\n",
        "# optimizer = tf.keras.optimizers.experimental.RMSprop(learning_rate=0.0005,\n",
        "#                                                     rho=0.5,\n",
        "#                                                     momentum=-16,\n",
        "#                                                     epsilon=1e-07,\n",
        "#                                                     centered=False,\n",
        "#                                                     weight_decay=None,\n",
        "#                                                     clipnorm=None,\n",
        "#                                                     clipvalue=None,\n",
        "#                                                     global_clipnorm=None,\n",
        "#                                                     use_ema=False,\n",
        "#                                                     ema_momentum=0.99,\n",
        "#                                                     ema_overwrite_frequency=100,\n",
        "#                                                     jit_compile=True,\n",
        "#                                                     name='RMSprop',\n",
        "# )"
      ],
      "metadata": {
        "id": "EzfnaqIZlfy8"
      },
      "execution_count": null,
      "outputs": []
    },
    {
      "cell_type": "markdown",
      "source": [
        "++++++++++++++++++++++++++++++++++++++++++++++++++++++++++++++++++++++++++++++++"
      ],
      "metadata": {
        "id": "KHmBptvOM95Z"
      }
    },
    {
      "cell_type": "code",
      "source": [
        "model.compile(#optimizer='adam',\n",
        "              # optimizer='adamax',\n",
        "              optimizer=optimizer,\n",
        "              # optimizer='rmsprop',\n",
        "              # optimizer='sgd',\n",
        "              # optimizer='adadelta',\n",
        "              # loss='binary_crossentropy',\n",
        "              loss=tf.keras.losses.SparseCategoricalCrossentropy(),\n",
        "              metrics=['sparse_categorical_accuracy']) # sparse_categorical_accuracy"
      ],
      "metadata": {
        "id": "hENVaAC7ilNY"
      },
      "execution_count": null,
      "outputs": []
    },
    {
      "cell_type": "code",
      "source": [
        "# callback = callbacks.EarlyStopping(monitor='val_loss',\n",
        "#                                    patience=15,\n",
        "#                                    restore_best_weights=True,\n",
        "#                                    )\n",
        "es = callbacks.EarlyStopping(monitor='val_loss', mode='min', verbose=0, patience=15)\n",
        "mc = callbacks.ModelCheckpoint('best_model.h5', monitor='sparse_categorical_accuracy', mode='max', verbose=0, save_best_only=True)\n"
      ],
      "metadata": {
        "id": "5ihU4exVlsjm"
      },
      "execution_count": null,
      "outputs": []
    },
    {
      "cell_type": "code",
      "source": [
        "history = model.fit(x_train, y_train,\n",
        "                    epochs=300,\n",
        "                    batch_size=128,\n",
        "                    # callbacks=[callback],\n",
        "                    callbacks=[mc],\n",
        "                    verbose=1, #многословие\n",
        "                    # validation_split=0.2\n",
        "                    validation_data=(x_val, y_val)\n",
        "                    )\n",
        "test_loss, test_acc = model.evaluate(x_test, y_test)\n",
        "print('\\nTest accuracy:', test_acc)"
      ],
      "metadata": {
        "id": "FH8HcMNm233I",
        "outputId": "2418d662-d32f-4302-9bea-e45d7e5fa32d",
        "colab": {
          "base_uri": "https://localhost:8080/"
        }
      },
      "execution_count": null,
      "outputs": [
        {
          "output_type": "stream",
          "name": "stdout",
          "text": [
            "Epoch 1/400\n",
            "418/418 [==============================] - 15s 27ms/step - loss: 0.8770 - sparse_categorical_accuracy: 0.6962 - val_loss: 0.4738 - val_sparse_categorical_accuracy: 0.8221\n",
            "Epoch 2/400\n",
            "418/418 [==============================] - 11s 26ms/step - loss: 0.6112 - sparse_categorical_accuracy: 0.7804 - val_loss: 0.4143 - val_sparse_categorical_accuracy: 0.8430\n",
            "Epoch 3/400\n",
            "418/418 [==============================] - 10s 25ms/step - loss: 0.5417 - sparse_categorical_accuracy: 0.8048 - val_loss: 0.3984 - val_sparse_categorical_accuracy: 0.8505\n",
            "Epoch 4/400\n",
            "418/418 [==============================] - 11s 26ms/step - loss: 0.4997 - sparse_categorical_accuracy: 0.8165 - val_loss: 0.3832 - val_sparse_categorical_accuracy: 0.8564\n",
            "Epoch 5/400\n",
            "418/418 [==============================] - 12s 29ms/step - loss: 0.4673 - sparse_categorical_accuracy: 0.8283 - val_loss: 0.3771 - val_sparse_categorical_accuracy: 0.8605\n",
            "Epoch 6/400\n",
            "418/418 [==============================] - 11s 27ms/step - loss: 0.4467 - sparse_categorical_accuracy: 0.8352 - val_loss: 0.3550 - val_sparse_categorical_accuracy: 0.8656\n",
            "Epoch 7/400\n",
            "418/418 [==============================] - 11s 26ms/step - loss: 0.4343 - sparse_categorical_accuracy: 0.8407 - val_loss: 0.3549 - val_sparse_categorical_accuracy: 0.8671\n",
            "Epoch 8/400\n",
            "418/418 [==============================] - 11s 26ms/step - loss: 0.4244 - sparse_categorical_accuracy: 0.8428 - val_loss: 0.3678 - val_sparse_categorical_accuracy: 0.8645\n",
            "Epoch 9/400\n",
            "418/418 [==============================] - 11s 27ms/step - loss: 0.4099 - sparse_categorical_accuracy: 0.8490 - val_loss: 0.3478 - val_sparse_categorical_accuracy: 0.8738\n",
            "Epoch 10/400\n",
            "418/418 [==============================] - 10s 25ms/step - loss: 0.3998 - sparse_categorical_accuracy: 0.8513 - val_loss: 0.3369 - val_sparse_categorical_accuracy: 0.8759\n",
            "Epoch 11/400\n",
            "418/418 [==============================] - 11s 27ms/step - loss: 0.3895 - sparse_categorical_accuracy: 0.8541 - val_loss: 0.3315 - val_sparse_categorical_accuracy: 0.8764\n",
            "Epoch 12/400\n",
            "418/418 [==============================] - 11s 26ms/step - loss: 0.3860 - sparse_categorical_accuracy: 0.8552 - val_loss: 0.3278 - val_sparse_categorical_accuracy: 0.8805\n",
            "Epoch 13/400\n",
            "418/418 [==============================] - 11s 26ms/step - loss: 0.3808 - sparse_categorical_accuracy: 0.8567 - val_loss: 0.3249 - val_sparse_categorical_accuracy: 0.8805\n",
            "Epoch 14/400\n",
            "418/418 [==============================] - 12s 28ms/step - loss: 0.3716 - sparse_categorical_accuracy: 0.8607 - val_loss: 0.3227 - val_sparse_categorical_accuracy: 0.8812\n",
            "Epoch 15/400\n",
            "418/418 [==============================] - 11s 27ms/step - loss: 0.3677 - sparse_categorical_accuracy: 0.8622 - val_loss: 0.3129 - val_sparse_categorical_accuracy: 0.8839\n",
            "Epoch 16/400\n",
            "418/418 [==============================] - 11s 27ms/step - loss: 0.3595 - sparse_categorical_accuracy: 0.8650 - val_loss: 0.3238 - val_sparse_categorical_accuracy: 0.8811\n",
            "Epoch 17/400\n",
            "418/418 [==============================] - 11s 27ms/step - loss: 0.3582 - sparse_categorical_accuracy: 0.8656 - val_loss: 0.3152 - val_sparse_categorical_accuracy: 0.8835\n",
            "Epoch 18/400\n",
            "418/418 [==============================] - 11s 26ms/step - loss: 0.3525 - sparse_categorical_accuracy: 0.8680 - val_loss: 0.3058 - val_sparse_categorical_accuracy: 0.8870\n",
            "Epoch 19/400\n",
            "418/418 [==============================] - 10s 24ms/step - loss: 0.3476 - sparse_categorical_accuracy: 0.8702 - val_loss: 0.3110 - val_sparse_categorical_accuracy: 0.8859\n",
            "Epoch 20/400\n",
            "418/418 [==============================] - 11s 27ms/step - loss: 0.3448 - sparse_categorical_accuracy: 0.8706 - val_loss: 0.3044 - val_sparse_categorical_accuracy: 0.8850\n",
            "Epoch 21/400\n",
            "418/418 [==============================] - 11s 27ms/step - loss: 0.3391 - sparse_categorical_accuracy: 0.8732 - val_loss: 0.3012 - val_sparse_categorical_accuracy: 0.8880\n",
            "Epoch 22/400\n",
            "418/418 [==============================] - 12s 28ms/step - loss: 0.3384 - sparse_categorical_accuracy: 0.8725 - val_loss: 0.3019 - val_sparse_categorical_accuracy: 0.8874\n",
            "Epoch 23/400\n",
            "418/418 [==============================] - 13s 30ms/step - loss: 0.3326 - sparse_categorical_accuracy: 0.8744 - val_loss: 0.3006 - val_sparse_categorical_accuracy: 0.8905\n",
            "Epoch 24/400\n",
            "418/418 [==============================] - 12s 29ms/step - loss: 0.3315 - sparse_categorical_accuracy: 0.8750 - val_loss: 0.2961 - val_sparse_categorical_accuracy: 0.8939\n",
            "Epoch 25/400\n",
            "418/418 [==============================] - 12s 28ms/step - loss: 0.3265 - sparse_categorical_accuracy: 0.8766 - val_loss: 0.2963 - val_sparse_categorical_accuracy: 0.8883\n",
            "Epoch 26/400\n",
            "418/418 [==============================] - 11s 27ms/step - loss: 0.3262 - sparse_categorical_accuracy: 0.8761 - val_loss: 0.2933 - val_sparse_categorical_accuracy: 0.8903\n",
            "Epoch 27/400\n",
            "418/418 [==============================] - 12s 29ms/step - loss: 0.3257 - sparse_categorical_accuracy: 0.8779 - val_loss: 0.2884 - val_sparse_categorical_accuracy: 0.8900\n",
            "Epoch 28/400\n",
            "418/418 [==============================] - 12s 29ms/step - loss: 0.3188 - sparse_categorical_accuracy: 0.8793 - val_loss: 0.2902 - val_sparse_categorical_accuracy: 0.8912\n",
            "Epoch 29/400\n",
            "418/418 [==============================] - ETA: 0s - loss: 0.3189 - sparse_categorical_accuracy: 0.8808"
          ]
        }
      ]
    },
    {
      "cell_type": "code",
      "source": [
        "print('\\nhistory dict:', list(history.history.keys()))"
      ],
      "metadata": {
        "id": "CxRE-B_Q6Sii",
        "colab": {
          "base_uri": "https://localhost:8080/"
        },
        "outputId": "42b46dbd-f60e-4b57-ff3c-cc5cb38ac5c4"
      },
      "execution_count": null,
      "outputs": [
        {
          "output_type": "stream",
          "name": "stdout",
          "text": [
            "\n",
            "history dict: ['loss', 'sparse_categorical_accuracy', 'val_loss', 'val_sparse_categorical_accuracy']\n"
          ]
        }
      ]
    },
    {
      "cell_type": "code",
      "source": [
        "result = model.evaluate(x_test, y_test)\n",
        "print(result)"
      ],
      "metadata": {
        "id": "YXpwRRTvTBNg",
        "colab": {
          "base_uri": "https://localhost:8080/"
        },
        "outputId": "50864acc-388f-413b-8b43-a1b265eb4ea7"
      },
      "execution_count": null,
      "outputs": [
        {
          "output_type": "stream",
          "name": "stdout",
          "text": [
            "313/313 [==============================] - 1s 3ms/step - loss: 0.3018 - sparse_categorical_accuracy: 0.9004\n",
            "[0.30175644159317017, 0.9003999829292297]\n"
          ]
        }
      ]
    },
    {
      "cell_type": "code",
      "source": [
        "saved_model = load_model('best_model.h5')\n",
        "result = saved_model.evaluate(x_test, y_test)\n",
        "print(result)"
      ],
      "metadata": {
        "id": "dpaZAW0vp1AZ",
        "colab": {
          "base_uri": "https://localhost:8080/"
        },
        "outputId": "3c24d739-3664-4699-94c3-68408e425306"
      },
      "execution_count": null,
      "outputs": [
        {
          "output_type": "stream",
          "name": "stdout",
          "text": [
            "313/313 [==============================] - 1s 3ms/step - loss: 0.3038 - sparse_categorical_accuracy: 0.8976\n",
            "[0.3037850260734558, 0.897599995136261]\n"
          ]
        }
      ]
    },
    {
      "cell_type": "code",
      "source": [
        "# from keras.models import load_model\n",
        "# saved_model = load_model('best_model.h5')\n",
        "# # _, train_acc = saved_model.evaluate(x_train, y_train, verbose=0)\n",
        "# _, test_acc = saved_model.evaluate(x_test, y_test, verbose=0)\n",
        "# print('Test: %.3f' % (test_acc))"
      ],
      "metadata": {
        "id": "DR_MS9DABo_K"
      },
      "execution_count": null,
      "outputs": []
    },
    {
      "cell_type": "code",
      "source": [
        "history_dict = history.history\n",
        "loss_values = history_dict['loss']\n",
        "val_loss_values = history_dict['val_loss']\n",
        "\n",
        "epochs = range(1, len(history_dict['loss']) + 1)\n",
        "\n",
        "plt.figure(figsize=(10, 5))\n",
        "plt.plot(epochs, loss_values, 'bo', label='Training loss')\n",
        "plt.plot(epochs, val_loss_values, 'r', label='Validation loss')\n",
        "# plt.ylim (0.2, 0.5)\n",
        "plt.title('Training and validation loss')\n",
        "plt.xlabel('Epochs')\n",
        "plt.ylabel('Loss')\n",
        "plt.legend()\n",
        "plt.grid(True)\n",
        "plt.show()\n",
        "1\n",
        "plt.clf()\n",
        "plt.figure(figsize=(10, 5))\n",
        "val_acc_values = history_dict['sparse_categorical_accuracy']\n",
        "plt.plot(epochs, history_dict['sparse_categorical_accuracy'], 'bo', label='Training acc')\n",
        "plt.plot(epochs, history_dict['val_sparse_categorical_accuracy'], 'r', label='Validation acc')\n",
        "plt.ylim (0.86, 0.92)\n",
        "plt.title('Training and validation accuracy')\n",
        "plt.xlabel('Epochs')\n",
        "plt.ylabel('Accuracy')\n",
        "plt.legend()\n",
        "plt.grid(True)"
      ],
      "metadata": {
        "id": "2Ll_5sGlXKMH",
        "colab": {
          "base_uri": "https://localhost:8080/",
          "height": 975
        },
        "outputId": "6230607f-e1bc-409b-b79b-e2f49c1d90df"
      },
      "execution_count": null,
      "outputs": [
        {
          "output_type": "display_data",
          "data": {
            "text/plain": [
              "<Figure size 1000x500 with 1 Axes>"
            ],
            "image/png": "[encoded data removed]"
          },
          "metadata": {}
        },
        {
          "output_type": "display_data",
          "data": {
            "text/plain": [
              "<Figure size 640x480 with 0 Axes>"
            ]
          },
          "metadata": {}
        },
        {
          "output_type": "display_data",
          "data": {
            "text/plain": [
              "<Figure size 1000x500 with 1 Axes>"
            ],
            "image/png": "[encoded data removed]"
          },
          "metadata": {}
        }
      ]
    },
    {
      "cell_type": "code",
      "source": [
        "probability_model = tf.keras.Sequential([model,\n",
        "                                         tf.keras.layers.Softmax()])"
      ],
      "metadata": {
        "id": "VzOdKAT_uV-f"
      },
      "execution_count": null,
      "outputs": []
    },
    {
      "cell_type": "code",
      "source": [
        "predictions = probability_model.predict(x_test)"
      ],
      "metadata": {
        "id": "f4is3NFruYom",
        "colab": {
          "base_uri": "https://localhost:8080/"
        },
        "outputId": "e25ff6f2-22b6-4bc4-ddf1-d2672ef08eaa"
      },
      "execution_count": null,
      "outputs": [
        {
          "output_type": "stream",
          "name": "stdout",
          "text": [
            "313/313 [==============================] - 1s 3ms/step\n"
          ]
        }
      ]
    },
    {
      "cell_type": "code",
      "source": [
        "predictions[0]"
      ],
      "metadata": {
        "id": "82cigvlZudz_",
        "colab": {
          "base_uri": "https://localhost:8080/"
        },
        "outputId": "28597f4c-9579-47c7-aad8-8e073e8e88d3"
      },
      "execution_count": null,
      "outputs": [
        {
          "output_type": "execute_result",
          "data": {
            "text/plain": [
              "array([0.08534302, 0.08534302, 0.08534302, 0.08534302, 0.08534302,\n",
              "       0.08534329, 0.08534302, 0.08538555, 0.08534302, 0.23187007],\n",
              "      dtype=float32)"
            ]
          },
          "metadata": {},
          "execution_count": 479
        }
      ]
    },
    {
      "cell_type": "code",
      "source": [
        "model.summary()"
      ],
      "metadata": {
        "id": "6RsQPHyYuNGe",
        "colab": {
          "base_uri": "https://localhost:8080/"
        },
        "outputId": "d888737c-8289-49a1-bb6d-c368cd9595fe"
      },
      "execution_count": null,
      "outputs": [
        {
          "output_type": "stream",
          "name": "stdout",
          "text": [
            "Model: \"sequential_22\"\n",
            "_________________________________________________________________\n",
            " Layer (type)                Output Shape              Param #   \n",
            "=================================================================\n",
            " flatten_11 (Flatten)        (None, 784)               0         \n",
            "                                                                 \n",
            " dropout_44 (Dropout)        (None, 784)               0         \n",
            "                                                                 \n",
            " batch_normalization_33 (Ba  (None, 784)               3136      \n",
            " tchNormalization)                                               \n",
            "                                                                 \n",
            " dense_44 (Dense)            (None, 256)               200960    \n",
            "                                                                 \n",
            " dropout_45 (Dropout)        (None, 256)               0         \n",
            "                                                                 \n",
            " batch_normalization_34 (Ba  (None, 256)               1024      \n",
            " tchNormalization)                                               \n",
            "                                                                 \n",
            " dense_45 (Dense)            (None, 512)               131584    \n",
            "                                                                 \n",
            " dropout_46 (Dropout)        (None, 512)               0         \n",
            "                                                                 \n",
            " batch_normalization_35 (Ba  (None, 512)               2048      \n",
            " tchNormalization)                                               \n",
            "                                                                 \n",
            " dense_46 (Dense)            (None, 512)               262656    \n",
            "                                                                 \n",
            " dropout_47 (Dropout)        (None, 512)               0         \n",
            "                                                                 \n",
            " dense_47 (Dense)            (None, 10)                5130      \n",
            "                                                                 \n",
            "=================================================================\n",
            "Total params: 606538 (2.31 MB)\n",
            "Trainable params: 603434 (2.30 MB)\n",
            "Non-trainable params: 3104 (12.12 KB)\n",
            "_________________________________________________________________\n"
          ]
        }
      ]
    },
    {
      "cell_type": "code",
      "source": [
        "\n",
        "\n",
        "hnyetjn hrte()"
      ],
      "metadata": {
        "id": "S4hcxZttmp-0",
        "colab": {
          "base_uri": "https://localhost:8080/",
          "height": 108
        },
        "outputId": "71bc15af-6de2-4400-ce7c-2ae883944eba"
      },
      "execution_count": null,
      "outputs": [
        {
          "output_type": "error",
          "ename": "SyntaxError",
          "evalue": "invalid syntax (<ipython-input-481-1a3818e70946>, line 1)",
          "traceback": [
            "\u001b[0;36m  File \u001b[0;32m\"<ipython-input-481-1a3818e70946>\"\u001b[0;36m, line \u001b[0;32m1\u001b[0m\n\u001b[0;31m    hnyetjn hrte()\u001b[0m\n\u001b[0m            ^\u001b[0m\n\u001b[0;31mSyntaxError\u001b[0m\u001b[0;31m:\u001b[0m invalid syntax\n"
          ]
        }
      ]
    }
  ]
}