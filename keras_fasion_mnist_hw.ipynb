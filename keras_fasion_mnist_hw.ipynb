{
  "nbformat": 4,
  "nbformat_minor": 0,
  "metadata": {
    "colab": {
      "provenance": [],
      "gpuType": "T4",
      "authorship_tag": "ABX9TyPXImvhNIbaSicAFGPFRSYP",
      "include_colab_link": true
    },
    "kernelspec": {
      "name": "python3",
      "display_name": "Python 3"
    },
    "language_info": {
      "name": "python"
    },
    "accelerator": "GPU"
  },
  "cells": [
    {
      "cell_type": "markdown",
      "metadata": {
        "id": "view-in-github",
        "colab_type": "text"
      },
      "source": [
        "<a href=\"https://colab.research.google.com/github/PavelStelmakhV/hw310-keras-fasion-mnist/blob/main/keras_fasion_mnist_hw.ipynb\" target=\"_parent\"><img src=\"https://colab.research.google.com/assets/colab-badge.svg\" alt=\"Open In Colab\"/></a>"
      ]
    },
    {
      "cell_type": "code",
      "execution_count": 171,
      "metadata": {
        "id": "vv7w0bgAVQPO"
      },
      "outputs": [],
      "source": [
        "import tensorflow as tf\n",
        "import numpy as np\n",
        "import matplotlib.pyplot as plt\n",
        "\n",
        "from keras import layers\n",
        "from keras import regularizers\n",
        "from keras import callbacks\n",
        "from keras import initializers\n",
        "from keras.layers import BatchNormalization\n",
        "from keras.models import load_model"
      ]
    },
    {
      "cell_type": "code",
      "source": [
        "fashion_mnist = tf.keras.datasets.fashion_mnist\n",
        "\n",
        "(x_train, y_train), (x_test, y_test) = fashion_mnist.load_data()"
      ],
      "metadata": {
        "id": "mOpywsNAzfGB"
      },
      "execution_count": 172,
      "outputs": []
    },
    {
      "cell_type": "code",
      "source": [
        "# x_train = x_train.reshape(60000, 784).astype('float32') / 255\n",
        "# x_test = x_test.reshape(10000, 784).astype('float32') / 255\n",
        "x_train = x_train.astype('float32') / 255\n",
        "x_test = x_test.astype('float32') / 255\n",
        "\n",
        "y_train = y_train.astype('float32')\n",
        "y_test = y_test.astype('float32')\n",
        "\n",
        "# Перемешаем тренировочные данные\n",
        "# train_data = tf.data.Dataset.from_tensor_slices((x_train, y_train))\n",
        "# train_data = train_data.repeat().shuffle(5000).batch(batch_size).prefetch(1)"
      ],
      "metadata": {
        "id": "t2gucjsJ0KUi"
      },
      "execution_count": 173,
      "outputs": []
    },
    {
      "cell_type": "code",
      "source": [
        "# x_val = x_train[-10000:]\n",
        "# y_val = y_train[-10000:]\n",
        "# x_train = x_train[:-10000]\n",
        "# y_train = y_train[:-10000]"
      ],
      "metadata": {
        "id": "fLPNXab5dHwO"
      },
      "execution_count": 174,
      "outputs": []
    },
    {
      "cell_type": "code",
      "source": [],
      "metadata": {
        "id": "bU5TK5YdlnU5"
      },
      "execution_count": 174,
      "outputs": []
    },
    {
      "cell_type": "code",
      "source": [
        "w_init_tanh = initializers.glorot_normal(seed=42)\n",
        "w_init_relu = initializers.HeNormal(seed=42)\n",
        "b_init = initializers.Zeros()"
      ],
      "metadata": {
        "id": "yL9QTEtBGy4N"
      },
      "execution_count": 175,
      "outputs": []
    },
    {
      "cell_type": "code",
      "source": [
        "def layer_relu(model, neurons):\n",
        "  model.add(BatchNormalization())\n",
        "  model.add(layers.Dense(neurons,\n",
        "                       activation='relu',\n",
        "                       kernel_initializer=w_init_relu,\n",
        "                       bias_initializer=b_init))\n",
        "  model.add(layers.Dropout(drop_out))\n",
        "  return model"
      ],
      "metadata": {
        "id": "ZZgs_25rKBCp"
      },
      "execution_count": 176,
      "outputs": []
    },
    {
      "cell_type": "code",
      "source": [
        "def layer_tanh(model, neurons):\n",
        "  model.add(BatchNormalization())\n",
        "  model.add(layers.Dense(neurons,\n",
        "                        activation='tanh',\n",
        "                        kernel_initializer=w_init_tanh,\n",
        "                        bias_initializer=b_init))\n",
        "  model.add(layers.Dropout(drop_out))\n",
        "  return model"
      ],
      "metadata": {
        "id": "90JLLnkBR50t"
      },
      "execution_count": 177,
      "outputs": []
    },
    {
      "cell_type": "code",
      "source": [
        "model = tf.keras.Sequential()\n",
        "\n",
        "drop_out = 0.25\n",
        "lern_rat = 0.001\n",
        "neurons = 256\n",
        "\n",
        "model.add(layers.Flatten(input_shape=(28, 28)))\n",
        "model.add(layers.Dropout(drop_out))\n",
        "\n",
        "model = layer_relu(model, neurons*1)\n",
        "model = layer_tanh(model, neurons*1)\n",
        "model = layer_relu(model, neurons*2)\n",
        "\n",
        "model.add(layers.Dense(10, activation='softmax'))"
      ],
      "metadata": {
        "id": "atS39i4d0aqW"
      },
      "execution_count": 178,
      "outputs": []
    },
    {
      "cell_type": "code",
      "source": [],
      "metadata": {
        "id": "EzfnaqIZlfy8"
      },
      "execution_count": 178,
      "outputs": []
    },
    {
      "cell_type": "code",
      "source": [
        "model.compile(#optimizer='adam',\n",
        "              # optimizer='adamax',\n",
        "              optimizer='nadam',\n",
        "              # optimizer='rmsprop',\n",
        "              # optimizer='sgd',\n",
        "              # optimizer='adadelta',\n",
        "              # loss='binary_crossentropy',\n",
        "              loss=tf.keras.losses.SparseCategoricalCrossentropy(),\n",
        "              metrics=['sparse_categorical_accuracy']) # sparse_categorical_accuracy"
      ],
      "metadata": {
        "id": "hENVaAC7ilNY"
      },
      "execution_count": 179,
      "outputs": []
    },
    {
      "cell_type": "code",
      "source": [
        "x = np.random.random((1, 28, 28))\n",
        "a = model.predict(x)\n",
        "_ = plt.hist(np.transpose(a))"
      ],
      "metadata": {
        "id": "RFgZHNNFMa8p",
        "outputId": "667a324d-6720-4af4-ffe1-2c361ce075d8",
        "colab": {
          "base_uri": "https://localhost:8080/",
          "height": 448
        }
      },
      "execution_count": 180,
      "outputs": [
        {
          "output_type": "stream",
          "name": "stdout",
          "text": [
            "1/1 [==============================] - 0s 180ms/step\n"
          ]
        },
        {
          "output_type": "display_data",
          "data": {
            "text/plain": [
              "<Figure size 640x480 with 1 Axes>"
            ],
            "image/png": "[encoded data removed]"
          },
          "metadata": {}
        }
      ]
    },
    {
      "cell_type": "code",
      "source": [
        "y_pred = model.predict(x_test)"
      ],
      "metadata": {
        "id": "UDP8OKKZ8oQa",
        "outputId": "fbaf3a2a-618e-4826-d115-5e3ed8e3b308",
        "colab": {
          "base_uri": "https://localhost:8080/"
        }
      },
      "execution_count": 181,
      "outputs": [
        {
          "output_type": "stream",
          "name": "stdout",
          "text": [
            "313/313 [==============================] - 1s 5ms/step\n"
          ]
        }
      ]
    },
    {
      "cell_type": "code",
      "source": [
        "callback = callbacks.EarlyStopping(monitor='val_loss',\n",
        "                                   patience=50,\n",
        "                                   restore_best_weights=True,\n",
        "                                   )\n",
        "es = callbacks.EarlyStopping(monitor='val_loss', mode='min', verbose=1, patience=200)\n",
        "mc = callbacks.ModelCheckpoint('best_model.h5', monitor='sparse_categorical_accuracy', mode='max', verbose=0, save_best_only=True)\n"
      ],
      "metadata": {
        "id": "5ihU4exVlsjm"
      },
      "execution_count": 182,
      "outputs": []
    },
    {
      "cell_type": "code",
      "source": [
        "# model.fit(train_images, train_labels, epochs=20)\n",
        "history = model.fit(x_train, y_train,\n",
        "                    epochs=100,\n",
        "                    batch_size=128,\n",
        "                    # callbacks=[callback],\n",
        "                    callbacks=[mc],\n",
        "                    verbose=1, #многословие\n",
        "                    validation_split=0.2\n",
        "                    # validation_data=(x_val, y_val)\n",
        "                    )\n",
        "test_loss, test_acc = model.evaluate(x_test, y_test)\n",
        "print('\\nTest accuracy:', test_acc)"
      ],
      "metadata": {
        "id": "FH8HcMNm233I",
        "outputId": "618ee008-ed5b-4780-e5e0-15e225d15365",
        "colab": {
          "base_uri": "https://localhost:8080/"
        }
      },
      "execution_count": 183,
      "outputs": [
        {
          "output_type": "stream",
          "name": "stdout",
          "text": [
            "Epoch 1/100\n",
            "375/375 [==============================] - 15s 28ms/step - loss: 0.7107 - sparse_categorical_accuracy: 0.7512 - val_loss: 0.4341 - val_sparse_categorical_accuracy: 0.8447\n",
            "Epoch 2/100\n",
            "375/375 [==============================] - 8s 20ms/step - loss: 0.5020 - sparse_categorical_accuracy: 0.8163 - val_loss: 0.3988 - val_sparse_categorical_accuracy: 0.8583\n",
            "Epoch 3/100\n",
            "375/375 [==============================] - 7s 18ms/step - loss: 0.4487 - sparse_categorical_accuracy: 0.8341 - val_loss: 0.3730 - val_sparse_categorical_accuracy: 0.8625\n",
            "Epoch 4/100\n",
            "375/375 [==============================] - 8s 21ms/step - loss: 0.4235 - sparse_categorical_accuracy: 0.8434 - val_loss: 0.3570 - val_sparse_categorical_accuracy: 0.8690\n",
            "Epoch 5/100\n",
            "375/375 [==============================] - 8s 22ms/step - loss: 0.4048 - sparse_categorical_accuracy: 0.8490 - val_loss: 0.3503 - val_sparse_categorical_accuracy: 0.8705\n",
            "Epoch 6/100\n",
            "375/375 [==============================] - 7s 18ms/step - loss: 0.3915 - sparse_categorical_accuracy: 0.8560 - val_loss: 0.3371 - val_sparse_categorical_accuracy: 0.8756\n",
            "Epoch 7/100\n",
            "375/375 [==============================] - 7s 20ms/step - loss: 0.3786 - sparse_categorical_accuracy: 0.8577 - val_loss: 0.3233 - val_sparse_categorical_accuracy: 0.8801\n",
            "Epoch 8/100\n",
            "375/375 [==============================] - 7s 18ms/step - loss: 0.3690 - sparse_categorical_accuracy: 0.8620 - val_loss: 0.3198 - val_sparse_categorical_accuracy: 0.8808\n",
            "Epoch 9/100\n",
            "375/375 [==============================] - 8s 21ms/step - loss: 0.3623 - sparse_categorical_accuracy: 0.8635 - val_loss: 0.3294 - val_sparse_categorical_accuracy: 0.8804\n",
            "Epoch 10/100\n",
            "375/375 [==============================] - 8s 21ms/step - loss: 0.3540 - sparse_categorical_accuracy: 0.8670 - val_loss: 0.3116 - val_sparse_categorical_accuracy: 0.8863\n",
            "Epoch 11/100\n",
            "375/375 [==============================] - 7s 18ms/step - loss: 0.3501 - sparse_categorical_accuracy: 0.8671 - val_loss: 0.3101 - val_sparse_categorical_accuracy: 0.8865\n",
            "Epoch 12/100\n",
            "375/375 [==============================] - 8s 21ms/step - loss: 0.3433 - sparse_categorical_accuracy: 0.8715 - val_loss: 0.3215 - val_sparse_categorical_accuracy: 0.8812\n",
            "Epoch 13/100\n",
            "375/375 [==============================] - 7s 19ms/step - loss: 0.3379 - sparse_categorical_accuracy: 0.8740 - val_loss: 0.3253 - val_sparse_categorical_accuracy: 0.8808\n",
            "Epoch 14/100\n",
            "375/375 [==============================] - 8s 20ms/step - loss: 0.3314 - sparse_categorical_accuracy: 0.8770 - val_loss: 0.3013 - val_sparse_categorical_accuracy: 0.8878\n",
            "Epoch 15/100\n",
            "375/375 [==============================] - 7s 18ms/step - loss: 0.3269 - sparse_categorical_accuracy: 0.8760 - val_loss: 0.3046 - val_sparse_categorical_accuracy: 0.8877\n",
            "Epoch 16/100\n",
            "375/375 [==============================] - 8s 22ms/step - loss: 0.3263 - sparse_categorical_accuracy: 0.8776 - val_loss: 0.3016 - val_sparse_categorical_accuracy: 0.8886\n",
            "Epoch 17/100\n",
            "375/375 [==============================] - 8s 21ms/step - loss: 0.3210 - sparse_categorical_accuracy: 0.8789 - val_loss: 0.2920 - val_sparse_categorical_accuracy: 0.8935\n",
            "Epoch 18/100\n",
            "375/375 [==============================] - 7s 18ms/step - loss: 0.3173 - sparse_categorical_accuracy: 0.8801 - val_loss: 0.2934 - val_sparse_categorical_accuracy: 0.8940\n",
            "Epoch 19/100\n",
            "375/375 [==============================] - 8s 21ms/step - loss: 0.3136 - sparse_categorical_accuracy: 0.8808 - val_loss: 0.2959 - val_sparse_categorical_accuracy: 0.8906\n",
            "Epoch 20/100\n",
            "375/375 [==============================] - 8s 21ms/step - loss: 0.3156 - sparse_categorical_accuracy: 0.8810 - val_loss: 0.2901 - val_sparse_categorical_accuracy: 0.8912\n",
            "Epoch 21/100\n",
            "375/375 [==============================] - 7s 18ms/step - loss: 0.3072 - sparse_categorical_accuracy: 0.8843 - val_loss: 0.2890 - val_sparse_categorical_accuracy: 0.8922\n",
            "Epoch 22/100\n",
            "375/375 [==============================] - 8s 20ms/step - loss: 0.3052 - sparse_categorical_accuracy: 0.8854 - val_loss: 0.2832 - val_sparse_categorical_accuracy: 0.8931\n",
            "Epoch 23/100\n",
            "375/375 [==============================] - 6s 17ms/step - loss: 0.3016 - sparse_categorical_accuracy: 0.8850 - val_loss: 0.2923 - val_sparse_categorical_accuracy: 0.8903\n",
            "Epoch 24/100\n",
            "375/375 [==============================] - 8s 21ms/step - loss: 0.2987 - sparse_categorical_accuracy: 0.8879 - val_loss: 0.2891 - val_sparse_categorical_accuracy: 0.8938\n",
            "Epoch 25/100\n",
            "375/375 [==============================] - 7s 18ms/step - loss: 0.2969 - sparse_categorical_accuracy: 0.8869 - val_loss: 0.2935 - val_sparse_categorical_accuracy: 0.8917\n",
            "Epoch 26/100\n",
            "375/375 [==============================] - 8s 20ms/step - loss: 0.2945 - sparse_categorical_accuracy: 0.8907 - val_loss: 0.2824 - val_sparse_categorical_accuracy: 0.8984\n",
            "Epoch 27/100\n",
            "375/375 [==============================] - 7s 20ms/step - loss: 0.2887 - sparse_categorical_accuracy: 0.8898 - val_loss: 0.2940 - val_sparse_categorical_accuracy: 0.8932\n",
            "Epoch 28/100\n",
            "375/375 [==============================] - 6s 17ms/step - loss: 0.2918 - sparse_categorical_accuracy: 0.8896 - val_loss: 0.2826 - val_sparse_categorical_accuracy: 0.8980\n",
            "Epoch 29/100\n",
            "375/375 [==============================] - 8s 21ms/step - loss: 0.2884 - sparse_categorical_accuracy: 0.8908 - val_loss: 0.2850 - val_sparse_categorical_accuracy: 0.8942\n",
            "Epoch 30/100\n",
            "375/375 [==============================] - 7s 18ms/step - loss: 0.2861 - sparse_categorical_accuracy: 0.8925 - val_loss: 0.2839 - val_sparse_categorical_accuracy: 0.8957\n",
            "Epoch 31/100\n",
            "375/375 [==============================] - 8s 21ms/step - loss: 0.2832 - sparse_categorical_accuracy: 0.8927 - val_loss: 0.2888 - val_sparse_categorical_accuracy: 0.8962\n",
            "Epoch 32/100\n",
            "375/375 [==============================] - 8s 20ms/step - loss: 0.2850 - sparse_categorical_accuracy: 0.8913 - val_loss: 0.2814 - val_sparse_categorical_accuracy: 0.8986\n",
            "Epoch 33/100\n",
            "375/375 [==============================] - 7s 18ms/step - loss: 0.2788 - sparse_categorical_accuracy: 0.8942 - val_loss: 0.2866 - val_sparse_categorical_accuracy: 0.8942\n",
            "Epoch 34/100\n",
            "375/375 [==============================] - 8s 20ms/step - loss: 0.2806 - sparse_categorical_accuracy: 0.8936 - val_loss: 0.2817 - val_sparse_categorical_accuracy: 0.8970\n",
            "Epoch 35/100\n",
            "375/375 [==============================] - 7s 17ms/step - loss: 0.2761 - sparse_categorical_accuracy: 0.8959 - val_loss: 0.2843 - val_sparse_categorical_accuracy: 0.8953\n",
            "Epoch 36/100\n",
            "375/375 [==============================] - 8s 21ms/step - loss: 0.2799 - sparse_categorical_accuracy: 0.8939 - val_loss: 0.2818 - val_sparse_categorical_accuracy: 0.8957\n",
            "Epoch 37/100\n",
            "375/375 [==============================] - 7s 18ms/step - loss: 0.2735 - sparse_categorical_accuracy: 0.8960 - val_loss: 0.2836 - val_sparse_categorical_accuracy: 0.8949\n",
            "Epoch 38/100\n",
            "375/375 [==============================] - 8s 20ms/step - loss: 0.2796 - sparse_categorical_accuracy: 0.8936 - val_loss: 0.2807 - val_sparse_categorical_accuracy: 0.8978\n",
            "Epoch 39/100\n",
            "375/375 [==============================] - 7s 20ms/step - loss: 0.2729 - sparse_categorical_accuracy: 0.8946 - val_loss: 0.2793 - val_sparse_categorical_accuracy: 0.8982\n",
            "Epoch 40/100\n",
            "375/375 [==============================] - 7s 18ms/step - loss: 0.2701 - sparse_categorical_accuracy: 0.8959 - val_loss: 0.2784 - val_sparse_categorical_accuracy: 0.8967\n",
            "Epoch 41/100\n",
            "375/375 [==============================] - 8s 21ms/step - loss: 0.2730 - sparse_categorical_accuracy: 0.8956 - val_loss: 0.2812 - val_sparse_categorical_accuracy: 0.8965\n",
            "Epoch 42/100\n",
            "375/375 [==============================] - 7s 17ms/step - loss: 0.2694 - sparse_categorical_accuracy: 0.8958 - val_loss: 0.2886 - val_sparse_categorical_accuracy: 0.8961\n",
            "Epoch 43/100\n",
            "375/375 [==============================] - 8s 21ms/step - loss: 0.2695 - sparse_categorical_accuracy: 0.8978 - val_loss: 0.2832 - val_sparse_categorical_accuracy: 0.8972\n",
            "Epoch 44/100\n",
            "375/375 [==============================] - 7s 20ms/step - loss: 0.2677 - sparse_categorical_accuracy: 0.8970 - val_loss: 0.2773 - val_sparse_categorical_accuracy: 0.8986\n",
            "Epoch 45/100\n",
            "375/375 [==============================] - 7s 19ms/step - loss: 0.2631 - sparse_categorical_accuracy: 0.9000 - val_loss: 0.2775 - val_sparse_categorical_accuracy: 0.8984\n",
            "Epoch 46/100\n",
            "375/375 [==============================] - 7s 20ms/step - loss: 0.2643 - sparse_categorical_accuracy: 0.8982 - val_loss: 0.2768 - val_sparse_categorical_accuracy: 0.8982\n",
            "Epoch 47/100\n",
            "375/375 [==============================] - 7s 17ms/step - loss: 0.2623 - sparse_categorical_accuracy: 0.8990 - val_loss: 0.2806 - val_sparse_categorical_accuracy: 0.8968\n",
            "Epoch 48/100\n",
            "375/375 [==============================] - 8s 20ms/step - loss: 0.2649 - sparse_categorical_accuracy: 0.9008 - val_loss: 0.2760 - val_sparse_categorical_accuracy: 0.8978\n",
            "Epoch 49/100\n",
            "375/375 [==============================] - 7s 17ms/step - loss: 0.2624 - sparse_categorical_accuracy: 0.8997 - val_loss: 0.2825 - val_sparse_categorical_accuracy: 0.8950\n",
            "Epoch 50/100\n",
            "375/375 [==============================] - 8s 21ms/step - loss: 0.2591 - sparse_categorical_accuracy: 0.9009 - val_loss: 0.2797 - val_sparse_categorical_accuracy: 0.8977\n",
            "Epoch 51/100\n",
            "375/375 [==============================] - 8s 21ms/step - loss: 0.2608 - sparse_categorical_accuracy: 0.9012 - val_loss: 0.2788 - val_sparse_categorical_accuracy: 0.8959\n",
            "Epoch 52/100\n",
            "375/375 [==============================] - 7s 18ms/step - loss: 0.2580 - sparse_categorical_accuracy: 0.9008 - val_loss: 0.2854 - val_sparse_categorical_accuracy: 0.8963\n",
            "Epoch 53/100\n",
            "375/375 [==============================] - 8s 21ms/step - loss: 0.2550 - sparse_categorical_accuracy: 0.9015 - val_loss: 0.2771 - val_sparse_categorical_accuracy: 0.9001\n",
            "Epoch 54/100\n",
            "375/375 [==============================] - 7s 20ms/step - loss: 0.2586 - sparse_categorical_accuracy: 0.9017 - val_loss: 0.2795 - val_sparse_categorical_accuracy: 0.8980\n",
            "Epoch 55/100\n",
            "375/375 [==============================] - 11s 29ms/step - loss: 0.2532 - sparse_categorical_accuracy: 0.9027 - val_loss: 0.2762 - val_sparse_categorical_accuracy: 0.9017\n",
            "Epoch 56/100\n",
            "375/375 [==============================] - 12s 32ms/step - loss: 0.2549 - sparse_categorical_accuracy: 0.9041 - val_loss: 0.2792 - val_sparse_categorical_accuracy: 0.8996\n",
            "Epoch 57/100\n",
            "375/375 [==============================] - 8s 20ms/step - loss: 0.2537 - sparse_categorical_accuracy: 0.9043 - val_loss: 0.2843 - val_sparse_categorical_accuracy: 0.8991\n",
            "Epoch 58/100\n",
            "375/375 [==============================] - 8s 21ms/step - loss: 0.2460 - sparse_categorical_accuracy: 0.9070 - val_loss: 0.2783 - val_sparse_categorical_accuracy: 0.9003\n",
            "Epoch 59/100\n",
            "375/375 [==============================] - 8s 20ms/step - loss: 0.2519 - sparse_categorical_accuracy: 0.9044 - val_loss: 0.2810 - val_sparse_categorical_accuracy: 0.8993\n",
            "Epoch 60/100\n",
            "375/375 [==============================] - 7s 18ms/step - loss: 0.2530 - sparse_categorical_accuracy: 0.9038 - val_loss: 0.2748 - val_sparse_categorical_accuracy: 0.9011\n",
            "Epoch 61/100\n",
            "375/375 [==============================] - 7s 20ms/step - loss: 0.2493 - sparse_categorical_accuracy: 0.9040 - val_loss: 0.2806 - val_sparse_categorical_accuracy: 0.9002\n",
            "Epoch 62/100\n",
            "375/375 [==============================] - 7s 18ms/step - loss: 0.2530 - sparse_categorical_accuracy: 0.9028 - val_loss: 0.2706 - val_sparse_categorical_accuracy: 0.9008\n",
            "Epoch 63/100\n",
            "375/375 [==============================] - 8s 20ms/step - loss: 0.2511 - sparse_categorical_accuracy: 0.9039 - val_loss: 0.2772 - val_sparse_categorical_accuracy: 0.9018\n",
            "Epoch 64/100\n",
            "375/375 [==============================] - 7s 18ms/step - loss: 0.2493 - sparse_categorical_accuracy: 0.9059 - val_loss: 0.2819 - val_sparse_categorical_accuracy: 0.9020\n",
            "Epoch 65/100\n",
            "375/375 [==============================] - 8s 20ms/step - loss: 0.2485 - sparse_categorical_accuracy: 0.9059 - val_loss: 0.2764 - val_sparse_categorical_accuracy: 0.9022\n",
            "Epoch 66/100\n",
            "375/375 [==============================] - 8s 21ms/step - loss: 0.2478 - sparse_categorical_accuracy: 0.9055 - val_loss: 0.2745 - val_sparse_categorical_accuracy: 0.9014\n",
            "Epoch 67/100\n",
            "375/375 [==============================] - 7s 18ms/step - loss: 0.2462 - sparse_categorical_accuracy: 0.9049 - val_loss: 0.2818 - val_sparse_categorical_accuracy: 0.8993\n",
            "Epoch 68/100\n",
            "375/375 [==============================] - 8s 20ms/step - loss: 0.2442 - sparse_categorical_accuracy: 0.9069 - val_loss: 0.2785 - val_sparse_categorical_accuracy: 0.9007\n",
            "Epoch 69/100\n",
            "375/375 [==============================] - 7s 18ms/step - loss: 0.2450 - sparse_categorical_accuracy: 0.9077 - val_loss: 0.2773 - val_sparse_categorical_accuracy: 0.9016\n",
            "Epoch 70/100\n",
            "375/375 [==============================] - 8s 21ms/step - loss: 0.2436 - sparse_categorical_accuracy: 0.9061 - val_loss: 0.2767 - val_sparse_categorical_accuracy: 0.9009\n",
            "Epoch 71/100\n",
            "375/375 [==============================] - 8s 21ms/step - loss: 0.2436 - sparse_categorical_accuracy: 0.9062 - val_loss: 0.2814 - val_sparse_categorical_accuracy: 0.8997\n",
            "Epoch 72/100\n",
            "375/375 [==============================] - 7s 18ms/step - loss: 0.2435 - sparse_categorical_accuracy: 0.9071 - val_loss: 0.2768 - val_sparse_categorical_accuracy: 0.9000\n",
            "Epoch 73/100\n",
            "375/375 [==============================] - 8s 21ms/step - loss: 0.2412 - sparse_categorical_accuracy: 0.9088 - val_loss: 0.2787 - val_sparse_categorical_accuracy: 0.9021\n",
            "Epoch 74/100\n",
            "375/375 [==============================] - 7s 18ms/step - loss: 0.2413 - sparse_categorical_accuracy: 0.9077 - val_loss: 0.2779 - val_sparse_categorical_accuracy: 0.9017\n",
            "Epoch 75/100\n",
            "375/375 [==============================] - 8s 20ms/step - loss: 0.2428 - sparse_categorical_accuracy: 0.9081 - val_loss: 0.2794 - val_sparse_categorical_accuracy: 0.8995\n",
            "Epoch 76/100\n",
            "375/375 [==============================] - 7s 18ms/step - loss: 0.2423 - sparse_categorical_accuracy: 0.9087 - val_loss: 0.2800 - val_sparse_categorical_accuracy: 0.8997\n",
            "Epoch 77/100\n",
            "375/375 [==============================] - 8s 21ms/step - loss: 0.2426 - sparse_categorical_accuracy: 0.9089 - val_loss: 0.2746 - val_sparse_categorical_accuracy: 0.9008\n",
            "Epoch 78/100\n",
            "375/375 [==============================] - 8s 20ms/step - loss: 0.2395 - sparse_categorical_accuracy: 0.9076 - val_loss: 0.2770 - val_sparse_categorical_accuracy: 0.9007\n",
            "Epoch 79/100\n",
            "375/375 [==============================] - 7s 18ms/step - loss: 0.2408 - sparse_categorical_accuracy: 0.9076 - val_loss: 0.2794 - val_sparse_categorical_accuracy: 0.9002\n",
            "Epoch 80/100\n",
            "375/375 [==============================] - 8s 21ms/step - loss: 0.2382 - sparse_categorical_accuracy: 0.9091 - val_loss: 0.2753 - val_sparse_categorical_accuracy: 0.9028\n",
            "Epoch 81/100\n",
            "375/375 [==============================] - 7s 18ms/step - loss: 0.2392 - sparse_categorical_accuracy: 0.9079 - val_loss: 0.2751 - val_sparse_categorical_accuracy: 0.9028\n",
            "Epoch 82/100\n",
            "375/375 [==============================] - 8s 21ms/step - loss: 0.2389 - sparse_categorical_accuracy: 0.9100 - val_loss: 0.2850 - val_sparse_categorical_accuracy: 0.8991\n",
            "Epoch 83/100\n",
            "375/375 [==============================] - 8s 22ms/step - loss: 0.2350 - sparse_categorical_accuracy: 0.9107 - val_loss: 0.2757 - val_sparse_categorical_accuracy: 0.9014\n",
            "Epoch 84/100\n",
            "375/375 [==============================] - 7s 18ms/step - loss: 0.2361 - sparse_categorical_accuracy: 0.9086 - val_loss: 0.2755 - val_sparse_categorical_accuracy: 0.9024\n",
            "Epoch 85/100\n",
            "375/375 [==============================] - 8s 20ms/step - loss: 0.2328 - sparse_categorical_accuracy: 0.9110 - val_loss: 0.2751 - val_sparse_categorical_accuracy: 0.9013\n",
            "Epoch 86/100\n",
            "375/375 [==============================] - 7s 18ms/step - loss: 0.2304 - sparse_categorical_accuracy: 0.9115 - val_loss: 0.2785 - val_sparse_categorical_accuracy: 0.9012\n",
            "Epoch 87/100\n",
            "375/375 [==============================] - 8s 21ms/step - loss: 0.2386 - sparse_categorical_accuracy: 0.9085 - val_loss: 0.2822 - val_sparse_categorical_accuracy: 0.9006\n",
            "Epoch 88/100\n",
            "375/375 [==============================] - 8s 21ms/step - loss: 0.2329 - sparse_categorical_accuracy: 0.9109 - val_loss: 0.2796 - val_sparse_categorical_accuracy: 0.9028\n",
            "Epoch 89/100\n",
            "375/375 [==============================] - 7s 17ms/step - loss: 0.2357 - sparse_categorical_accuracy: 0.9107 - val_loss: 0.2810 - val_sparse_categorical_accuracy: 0.9013\n",
            "Epoch 90/100\n",
            "375/375 [==============================] - 8s 21ms/step - loss: 0.2350 - sparse_categorical_accuracy: 0.9118 - val_loss: 0.2772 - val_sparse_categorical_accuracy: 0.9015\n",
            "Epoch 91/100\n",
            "375/375 [==============================] - 7s 18ms/step - loss: 0.2363 - sparse_categorical_accuracy: 0.9097 - val_loss: 0.2810 - val_sparse_categorical_accuracy: 0.8995\n",
            "Epoch 92/100\n",
            "375/375 [==============================] - 8s 21ms/step - loss: 0.2328 - sparse_categorical_accuracy: 0.9119 - val_loss: 0.2778 - val_sparse_categorical_accuracy: 0.8992\n",
            "Epoch 93/100\n",
            "375/375 [==============================] - 8s 21ms/step - loss: 0.2305 - sparse_categorical_accuracy: 0.9121 - val_loss: 0.2819 - val_sparse_categorical_accuracy: 0.8998\n",
            "Epoch 94/100\n",
            "375/375 [==============================] - 7s 18ms/step - loss: 0.2315 - sparse_categorical_accuracy: 0.9119 - val_loss: 0.2753 - val_sparse_categorical_accuracy: 0.9020\n",
            "Epoch 95/100\n",
            "375/375 [==============================] - 8s 21ms/step - loss: 0.2322 - sparse_categorical_accuracy: 0.9126 - val_loss: 0.2804 - val_sparse_categorical_accuracy: 0.9003\n",
            "Epoch 96/100\n",
            "375/375 [==============================] - 7s 19ms/step - loss: 0.2294 - sparse_categorical_accuracy: 0.9137 - val_loss: 0.2850 - val_sparse_categorical_accuracy: 0.9012\n",
            "Epoch 97/100\n",
            "375/375 [==============================] - 8s 21ms/step - loss: 0.2286 - sparse_categorical_accuracy: 0.9129 - val_loss: 0.2796 - val_sparse_categorical_accuracy: 0.9012\n",
            "Epoch 98/100\n",
            "375/375 [==============================] - 7s 19ms/step - loss: 0.2270 - sparse_categorical_accuracy: 0.9123 - val_loss: 0.2862 - val_sparse_categorical_accuracy: 0.8997\n",
            "Epoch 99/100\n",
            "375/375 [==============================] - 7s 18ms/step - loss: 0.2269 - sparse_categorical_accuracy: 0.9136 - val_loss: 0.2777 - val_sparse_categorical_accuracy: 0.9027\n",
            "Epoch 100/100\n",
            "375/375 [==============================] - 8s 21ms/step - loss: 0.2289 - sparse_categorical_accuracy: 0.9125 - val_loss: 0.2754 - val_sparse_categorical_accuracy: 0.9013\n",
            "313/313 [==============================] - 1s 3ms/step - loss: 0.2995 - sparse_categorical_accuracy: 0.8978\n",
            "\n",
            "Test accuracy: 0.8978000283241272\n"
          ]
        }
      ]
    },
    {
      "cell_type": "code",
      "source": [
        "print('\\nhistory dict:', list(history.history.keys()))"
      ],
      "metadata": {
        "id": "CxRE-B_Q6Sii",
        "colab": {
          "base_uri": "https://localhost:8080/"
        },
        "outputId": "59d73970-a024-4966-bc49-f86fe0d6b411"
      },
      "execution_count": 184,
      "outputs": [
        {
          "output_type": "stream",
          "name": "stdout",
          "text": [
            "\n",
            "history dict: ['loss', 'sparse_categorical_accuracy', 'val_loss', 'val_sparse_categorical_accuracy']\n"
          ]
        }
      ]
    },
    {
      "cell_type": "code",
      "source": [
        "result = model.evaluate(x_test, y_test)\n",
        "print(result)"
      ],
      "metadata": {
        "id": "YXpwRRTvTBNg",
        "colab": {
          "base_uri": "https://localhost:8080/"
        },
        "outputId": "2853c9c8-1105-4d6c-fd19-ca89b469c5ef"
      },
      "execution_count": 185,
      "outputs": [
        {
          "output_type": "stream",
          "name": "stdout",
          "text": [
            "313/313 [==============================] - 1s 3ms/step - loss: 0.2995 - sparse_categorical_accuracy: 0.8978\n",
            "[0.29946738481521606, 0.8978000283241272]\n"
          ]
        }
      ]
    },
    {
      "cell_type": "code",
      "source": [
        "saved_model = load_model('best_model.h5')\n",
        "result = saved_model.evaluate(x_test, y_test)\n",
        "print(result)"
      ],
      "metadata": {
        "colab": {
          "base_uri": "https://localhost:8080/"
        },
        "id": "dpaZAW0vp1AZ",
        "outputId": "8f6b8f2e-027f-4330-c1de-e7835cc4c4b1"
      },
      "execution_count": 186,
      "outputs": [
        {
          "output_type": "stream",
          "name": "stdout",
          "text": [
            "313/313 [==============================] - 1s 3ms/step - loss: 0.3068 - sparse_categorical_accuracy: 0.8962\n",
            "[0.30684539675712585, 0.8962000012397766]\n"
          ]
        }
      ]
    },
    {
      "cell_type": "code",
      "source": [
        "# from keras.models import load_model\n",
        "# saved_model = load_model('best_model.h5')\n",
        "# # _, train_acc = saved_model.evaluate(x_train, y_train, verbose=0)\n",
        "# _, test_acc = saved_model.evaluate(x_test, y_test, verbose=0)\n",
        "# print('Test: %.3f' % (test_acc))"
      ],
      "metadata": {
        "id": "DR_MS9DABo_K"
      },
      "execution_count": 187,
      "outputs": []
    },
    {
      "cell_type": "code",
      "source": [
        "history_dict = history.history\n",
        "loss_values = history_dict['loss']\n",
        "val_loss_values = history_dict['val_loss']\n",
        "\n",
        "epochs = range(1, len(history_dict['loss']) + 1)\n",
        "\n",
        "plt.figure(figsize=(10, 5))\n",
        "plt.plot(epochs, loss_values, 'bo', label='Training loss')\n",
        "plt.plot(epochs, val_loss_values, 'r', label='Validation loss')\n",
        "# plt.ylim (0.2, 0.5)\n",
        "plt.title('Training and validation loss')\n",
        "plt.xlabel('Epochs')\n",
        "plt.ylabel('Loss')\n",
        "# plt.legend()\n",
        "plt.grid(True)\n",
        "plt.show()\n",
        "1\n",
        "plt.clf()\n",
        "plt.figure(figsize=(10, 5))\n",
        "val_acc_values = history_dict['sparse_categorical_accuracy']\n",
        "plt.plot(epochs, history_dict['sparse_categorical_accuracy'], 'bo', label='Training acc')\n",
        "plt.plot(epochs, history_dict['val_sparse_categorical_accuracy'], 'r', label='Validation acc')\n",
        "plt.ylim (0.88, 0.94)\n",
        "plt.title('Training and validation accuracy')\n",
        "plt.xlabel('Epochs')\n",
        "plt.ylabel('Accuracy')\n",
        "plt.legend()\n",
        "plt.grid(True)"
      ],
      "metadata": {
        "id": "2Ll_5sGlXKMH",
        "colab": {
          "base_uri": "https://localhost:8080/",
          "height": 975
        },
        "outputId": "9cc00c7f-9fb7-4306-e183-624b3d4585e4"
      },
      "execution_count": 188,
      "outputs": [
        {
          "output_type": "display_data",
          "data": {
            "text/plain": [
              "<Figure size 1000x500 with 1 Axes>"
            ],
            "image/png": "[encoded data removed]"
          },
          "metadata": {}
        },
        {
          "output_type": "display_data",
          "data": {
            "text/plain": [
              "<Figure size 640x480 with 0 Axes>"
            ]
          },
          "metadata": {}
        },
        {
          "output_type": "display_data",
          "data": {
            "text/plain": [
              "<Figure size 1000x500 with 1 Axes>"
            ],
            "image/png": "[encoded data removed]"
          },
          "metadata": {}
        }
      ]
    },
    {
      "cell_type": "code",
      "source": [
        "probability_model = tf.keras.Sequential([model,\n",
        "                                         tf.keras.layers.Softmax()])"
      ],
      "metadata": {
        "id": "VzOdKAT_uV-f"
      },
      "execution_count": 189,
      "outputs": []
    },
    {
      "cell_type": "code",
      "source": [
        "predictions = probability_model.predict(x_test)"
      ],
      "metadata": {
        "id": "f4is3NFruYom",
        "colab": {
          "base_uri": "https://localhost:8080/"
        },
        "outputId": "3a6a3154-276b-474b-eb7f-13302866fffc"
      },
      "execution_count": 190,
      "outputs": [
        {
          "output_type": "stream",
          "name": "stdout",
          "text": [
            "313/313 [==============================] - 1s 3ms/step\n"
          ]
        }
      ]
    },
    {
      "cell_type": "code",
      "source": [
        "predictions[0]"
      ],
      "metadata": {
        "id": "82cigvlZudz_",
        "colab": {
          "base_uri": "https://localhost:8080/"
        },
        "outputId": "2b85cac4-e5e3-4c74-ddfe-d75d9d412250"
      },
      "execution_count": 191,
      "outputs": [
        {
          "output_type": "execute_result",
          "data": {
            "text/plain": [
              "array([0.08535531, 0.08535531, 0.08535531, 0.08535531, 0.08535531,\n",
              "       0.08535597, 0.08535531, 0.08548159, 0.08535531, 0.23167528],\n",
              "      dtype=float32)"
            ]
          },
          "metadata": {},
          "execution_count": 191
        }
      ]
    },
    {
      "cell_type": "code",
      "source": [
        "model.summary()"
      ],
      "metadata": {
        "id": "6RsQPHyYuNGe",
        "colab": {
          "base_uri": "https://localhost:8080/"
        },
        "outputId": "ad2dc265-5e61-455b-8fd4-fdedcc674e11"
      },
      "execution_count": 192,
      "outputs": [
        {
          "output_type": "stream",
          "name": "stdout",
          "text": [
            "Model: \"sequential_16\"\n",
            "_________________________________________________________________\n",
            " Layer (type)                Output Shape              Param #   \n",
            "=================================================================\n",
            " flatten_8 (Flatten)         (None, 784)               0         \n",
            "                                                                 \n",
            " dropout_32 (Dropout)        (None, 784)               0         \n",
            "                                                                 \n",
            " batch_normalization_24 (Ba  (None, 784)               3136      \n",
            " tchNormalization)                                               \n",
            "                                                                 \n",
            " dense_32 (Dense)            (None, 256)               200960    \n",
            "                                                                 \n",
            " dropout_33 (Dropout)        (None, 256)               0         \n",
            "                                                                 \n",
            " batch_normalization_25 (Ba  (None, 256)               1024      \n",
            " tchNormalization)                                               \n",
            "                                                                 \n",
            " dense_33 (Dense)            (None, 256)               65792     \n",
            "                                                                 \n",
            " dropout_34 (Dropout)        (None, 256)               0         \n",
            "                                                                 \n",
            " batch_normalization_26 (Ba  (None, 256)               1024      \n",
            " tchNormalization)                                               \n",
            "                                                                 \n",
            " dense_34 (Dense)            (None, 512)               131584    \n",
            "                                                                 \n",
            " dropout_35 (Dropout)        (None, 512)               0         \n",
            "                                                                 \n",
            " dense_35 (Dense)            (None, 10)                5130      \n",
            "                                                                 \n",
            "=================================================================\n",
            "Total params: 408650 (1.56 MB)\n",
            "Trainable params: 406058 (1.55 MB)\n",
            "Non-trainable params: 2592 (10.12 KB)\n",
            "_________________________________________________________________\n"
          ]
        }
      ]
    }
  ]
}