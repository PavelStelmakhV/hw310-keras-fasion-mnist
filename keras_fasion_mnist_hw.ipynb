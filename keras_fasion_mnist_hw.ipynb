{
  "nbformat": 4,
  "nbformat_minor": 0,
  "metadata": {
    "colab": {
      "provenance": [],
      "gpuType": "T4",
      "authorship_tag": "ABX9TyP/yM9w4Mwk0cDnXmInpkqp",
      "include_colab_link": true
    },
    "kernelspec": {
      "name": "python3",
      "display_name": "Python 3"
    },
    "language_info": {
      "name": "python"
    },
    "accelerator": "GPU"
  },
  "cells": [
    {
      "cell_type": "markdown",
      "metadata": {
        "id": "view-in-github",
        "colab_type": "text"
      },
      "source": [
        "<a href=\"https://colab.research.google.com/github/PavelStelmakhV/hw310-keras-fasion-mnist/blob/main/keras_fasion_mnist_hw.ipynb\" target=\"_parent\"><img src=\"https://colab.research.google.com/assets/colab-badge.svg\" alt=\"Open In Colab\"/></a>"
      ]
    },
    {
      "cell_type": "code",
      "source": [
        "import tensorflow as tf\n",
        "from tensorflow.python.client import device_lib\n",
        "print(device_lib.list_local_devices())"
      ],
      "metadata": {
        "colab": {
          "base_uri": "https://localhost:8080/"
        },
        "id": "CQL6wYJUms6Y",
        "outputId": "c5e423e5-68ff-462f-9479-03923a28cad2"
      },
      "execution_count": 40,
      "outputs": [
        {
          "output_type": "stream",
          "name": "stdout",
          "text": [
            "[name: \"/device:CPU:0\"\n",
            "device_type: \"CPU\"\n",
            "memory_limit: 268435456\n",
            "locality {\n",
            "}\n",
            "incarnation: 4072916425148826501\n",
            "xla_global_id: -1\n",
            "]\n"
          ]
        }
      ]
    },
    {
      "cell_type": "code",
      "execution_count": 41,
      "metadata": {
        "id": "vv7w0bgAVQPO"
      },
      "outputs": [],
      "source": [
        "import tensorflow as tf\n",
        "import numpy as np\n",
        "import matplotlib.pyplot as plt\n",
        "import tf_keras\n",
        "\n",
        "from keras import layers\n",
        "from keras import models\n",
        "from keras import regularizers\n",
        "from keras import callbacks\n",
        "from keras import initializers\n",
        "from keras.layers import BatchNormalization\n",
        "from keras.models import load_model\n",
        "from tensorflow.keras.utils import to_categorical"
      ]
    },
    {
      "cell_type": "code",
      "source": [
        "num_classes = 10"
      ],
      "metadata": {
        "id": "RvT1uYJsa5cn"
      },
      "execution_count": 42,
      "outputs": []
    },
    {
      "cell_type": "code",
      "source": [
        "fashion_mnist = tf.keras.datasets.fashion_mnist\n",
        "\n",
        "(x_train, y_train), (x_test, y_test) = fashion_mnist.load_data()"
      ],
      "metadata": {
        "id": "mOpywsNAzfGB"
      },
      "execution_count": 43,
      "outputs": []
    },
    {
      "cell_type": "code",
      "source": [
        "def drow_hist(data):\n",
        "  plt.figure(figsize=(8,6), dpi= 80)\n",
        "  _ = plt.hist(data,\n",
        "              bins=num_classes,\n",
        "              stacked=True,\n",
        "              density=False,\n",
        "              range=(0,10),\n",
        "              rwidth=0.9,\n",
        "              )"
      ],
      "metadata": {
        "id": "NjEvuOvomEoT"
      },
      "execution_count": 44,
      "outputs": []
    },
    {
      "cell_type": "code",
      "source": [
        "# create validation data\n",
        "val_size =6000\n",
        "\n",
        "x_val = x_train[-val_size:, :, :]\n",
        "x_train = x_train[:-val_size, :, :]\n",
        "\n",
        "y_val = y_train[-val_size:]\n",
        "y_train = y_train[:-val_size]"
      ],
      "metadata": {
        "id": "jAs92sDoVU89"
      },
      "execution_count": 45,
      "outputs": []
    },
    {
      "cell_type": "code",
      "source": [
        "x_train = x_train.astype('float32') / 255\n",
        "x_test = x_test.astype('float32') / 255\n",
        "x_val = x_val.astype('float32') / 255\n",
        "\n",
        "y_train = to_categorical(y_train)\n",
        "y_test = to_categorical(y_test)\n",
        "y_val = to_categorical(y_val)"
      ],
      "metadata": {
        "id": "t2gucjsJ0KUi"
      },
      "execution_count": 46,
      "outputs": []
    },
    {
      "cell_type": "code",
      "source": [
        "w_init_tanh = initializers.glorot_normal(seed=111)\n",
        "w_init_relu = initializers.HeNormal(seed=66)\n",
        "# w_init_relu = initializers.HeUniform(seed=24)\n",
        "b_init = initializers.Zeros()"
      ],
      "metadata": {
        "id": "yL9QTEtBGy4N"
      },
      "execution_count": 47,
      "outputs": []
    },
    {
      "cell_type": "code",
      "source": [
        "def layer_relu(model, neurons, drop_out):\n",
        "  model.add(BatchNormalization())\n",
        "  model.add(layers.Dense(neurons,\n",
        "                        activation='relu',\n",
        "                        kernel_initializer=w_init_relu,\n",
        "                        bias_initializer=b_init,\n",
        "                        kernel_regularizer=regularizers.L1L2(l1=1e-6, l2=1e-6),\n",
        "                        bias_regularizer=regularizers.L1L2(l1=1e-6, l2=1e-6),\n",
        "                        activity_regularizer=regularizers.L1L2(l1=1e-6, l2=1e-6)\n",
        "                         )\n",
        "  )\n",
        "  model.add(layers.Dropout(drop_out))\n",
        "  print(drop_out)\n",
        "  return model"
      ],
      "metadata": {
        "id": "ZZgs_25rKBCp"
      },
      "execution_count": 48,
      "outputs": []
    },
    {
      "cell_type": "code",
      "source": [
        "def layer_tanh(model, neurons, drop_out):\n",
        "  model.add(BatchNormalization())\n",
        "  model.add(layers.Dense(neurons,\n",
        "                        activation='tanh',\n",
        "                        kernel_initializer=w_init_tanh,\n",
        "                        bias_initializer=b_init\n",
        "                         )\n",
        "  )\n",
        "  model.add(layers.Dropout(drop_out))\n",
        "  return model"
      ],
      "metadata": {
        "id": "90JLLnkBR50t"
      },
      "execution_count": 49,
      "outputs": []
    },
    {
      "cell_type": "code",
      "source": [
        "model = models.Sequential()\n",
        "\n",
        "neurons = 256\n",
        "drop_out = 0.35\n",
        "\n",
        "model.add(layers.Flatten(input_shape=(28, 28)))\n",
        "model.add(layers.Dropout(0.13))\n",
        "\n",
        "model = layer_relu(model, neurons*1, 0.3)\n",
        "model = layer_relu(model, neurons*2, 0.35)\n",
        "model = layer_relu(model, neurons*2, 0.4)\n",
        "# model = layer_relu(model, neurons*2)\n",
        "\n",
        "\n",
        "model.add(layers.Dense(10, activation='softmax'))"
      ],
      "metadata": {
        "id": "atS39i4d0aqW",
        "colab": {
          "base_uri": "https://localhost:8080/"
        },
        "outputId": "0b732b78-ee9b-48c5-c077-c8c6d6377215"
      },
      "execution_count": 50,
      "outputs": [
        {
          "output_type": "stream",
          "name": "stdout",
          "text": [
            "0.3\n",
            "0.35\n",
            "0.4\n"
          ]
        }
      ]
    },
    {
      "cell_type": "markdown",
      "source": [
        "++++++++++++++++++++++++++++++++++++++++++++++++++++++++++++++++++++++++++++++++"
      ],
      "metadata": {
        "id": "tZO7hl7pM63y"
      }
    },
    {
      "cell_type": "code",
      "source": [
        "optimizer = tf.keras.optimizers.Nadam(learning_rate=0.0004,\n",
        "                                      beta_1=0.9,\n",
        "                                      beta_2=0.999,\n",
        "                                      epsilon=1e-06\n",
        ")\n",
        "# optimizer = tf.keras.optimizers.experimental.RMSprop(learning_rate=0.0005,\n",
        "#                                                     rho=0.5,\n",
        "#                                                     momentum=-16,\n",
        "#                                                     epsilon=1e-07,\n",
        "#                                                     centered=False,\n",
        "#                                                     weight_decay=None,\n",
        "#                                                     clipnorm=None,\n",
        "#                                                     clipvalue=None,\n",
        "#                                                     global_clipnorm=None,\n",
        "#                                                     use_ema=False,\n",
        "#                                                     ema_momentum=0.99,\n",
        "#                                                     ema_overwrite_frequency=100,\n",
        "#                                                     jit_compile=True,\n",
        "#                                                     name='RMSprop',\n",
        "# )"
      ],
      "metadata": {
        "id": "EzfnaqIZlfy8"
      },
      "execution_count": 51,
      "outputs": []
    },
    {
      "cell_type": "markdown",
      "source": [
        "++++++++++++++++++++++++++++++++++++++++++++++++++++++++++++++++++++++++++++++++"
      ],
      "metadata": {
        "id": "KHmBptvOM95Z"
      }
    },
    {
      "cell_type": "code",
      "source": [
        "model.compile(#optimizer='adam',\n",
        "              # optimizer='adamax',\n",
        "              optimizer=optimizer,\n",
        "              # optimizer='rmsprop',\n",
        "              # optimizer='sgd',\n",
        "              # optimizer='adadelta',\n",
        "              # loss='binary_crossentropy',\n",
        "              loss=tf.keras.losses.CategoricalCrossentropy(),\n",
        "              metrics=['categorical_accuracy']) # sparse_categorical_accuracy"
      ],
      "metadata": {
        "id": "hENVaAC7ilNY"
      },
      "execution_count": 52,
      "outputs": []
    },
    {
      "cell_type": "code",
      "source": [
        "# callback = callbacks.EarlyStopping(monitor='val_loss',\n",
        "#                                    patience=15,\n",
        "#                                    restore_best_weights=True,\n",
        "#                                    )\n",
        "es = callbacks.EarlyStopping(monitor='val_loss', mode='min', verbose=0, patience=60)\n",
        "mc = callbacks.ModelCheckpoint('best_model.h5', monitor='categorical_accuracy', mode='max', verbose=0, save_best_only=True)\n"
      ],
      "metadata": {
        "id": "5ihU4exVlsjm"
      },
      "execution_count": 53,
      "outputs": []
    },
    {
      "cell_type": "code",
      "source": [
        "history = model.fit(x_train, y_train,\n",
        "                    epochs=300,\n",
        "                    batch_size=128,\n",
        "                    # callbacks=[callback],\n",
        "                    callbacks=[mc, es],\n",
        "                    verbose=1, #многословие\n",
        "                    # validation_split=0.2\n",
        "                    validation_data=(x_val, y_val)\n",
        "                    )\n",
        "test_loss, test_acc = model.evaluate(x_test, y_test)\n",
        "print('\\nTest accuracy:', test_acc)"
      ],
      "metadata": {
        "id": "FH8HcMNm233I",
        "outputId": "1c09ed08-f766-49ba-870e-d9e75dfd9393",
        "colab": {
          "base_uri": "https://localhost:8080/"
        }
      },
      "execution_count": 54,
      "outputs": [
        {
          "output_type": "stream",
          "name": "stdout",
          "text": [
            "Epoch 1/300\n",
            "422/422 [==============================] - 16s 29ms/step - loss: 0.9236 - categorical_accuracy: 0.6970 - val_loss: 0.4880 - val_categorical_accuracy: 0.8298\n",
            "Epoch 2/300\n",
            "422/422 [==============================] - 12s 28ms/step - loss: 0.6073 - categorical_accuracy: 0.7945 - val_loss: 0.4491 - val_categorical_accuracy: 0.8492\n",
            "Epoch 3/300\n",
            "422/422 [==============================] - 12s 28ms/step - loss: 0.5369 - categorical_accuracy: 0.8189 - val_loss: 0.4274 - val_categorical_accuracy: 0.8557\n",
            "Epoch 4/300\n",
            "422/422 [==============================] - 12s 28ms/step - loss: 0.5049 - categorical_accuracy: 0.8286 - val_loss: 0.4031 - val_categorical_accuracy: 0.8687\n",
            "Epoch 5/300\n",
            "422/422 [==============================] - 12s 28ms/step - loss: 0.4732 - categorical_accuracy: 0.8387 - val_loss: 0.3847 - val_categorical_accuracy: 0.8715\n",
            "Epoch 6/300\n",
            "422/422 [==============================] - 11s 27ms/step - loss: 0.4532 - categorical_accuracy: 0.8466 - val_loss: 0.3860 - val_categorical_accuracy: 0.8718\n",
            "Epoch 7/300\n",
            "422/422 [==============================] - 12s 27ms/step - loss: 0.4400 - categorical_accuracy: 0.8507 - val_loss: 0.3741 - val_categorical_accuracy: 0.8757\n",
            "Epoch 8/300\n",
            "422/422 [==============================] - 12s 28ms/step - loss: 0.4217 - categorical_accuracy: 0.8572 - val_loss: 0.3653 - val_categorical_accuracy: 0.8817\n",
            "Epoch 9/300\n",
            "422/422 [==============================] - 12s 29ms/step - loss: 0.4135 - categorical_accuracy: 0.8615 - val_loss: 0.3662 - val_categorical_accuracy: 0.8822\n",
            "Epoch 10/300\n",
            "422/422 [==============================] - 12s 28ms/step - loss: 0.4022 - categorical_accuracy: 0.8641 - val_loss: 0.3573 - val_categorical_accuracy: 0.8820\n",
            "Epoch 11/300\n",
            "422/422 [==============================] - 12s 28ms/step - loss: 0.3918 - categorical_accuracy: 0.8687 - val_loss: 0.3508 - val_categorical_accuracy: 0.8840\n",
            "Epoch 12/300\n",
            "422/422 [==============================] - 12s 28ms/step - loss: 0.3887 - categorical_accuracy: 0.8692 - val_loss: 0.3447 - val_categorical_accuracy: 0.8877\n",
            "Epoch 13/300\n",
            "422/422 [==============================] - 12s 28ms/step - loss: 0.3810 - categorical_accuracy: 0.8725 - val_loss: 0.3383 - val_categorical_accuracy: 0.8888\n",
            "Epoch 14/300\n",
            "422/422 [==============================] - 12s 28ms/step - loss: 0.3720 - categorical_accuracy: 0.8750 - val_loss: 0.3420 - val_categorical_accuracy: 0.8897\n",
            "Epoch 15/300\n",
            "422/422 [==============================] - 12s 28ms/step - loss: 0.3678 - categorical_accuracy: 0.8760 - val_loss: 0.3425 - val_categorical_accuracy: 0.8860\n",
            "Epoch 16/300\n",
            "422/422 [==============================] - 12s 28ms/step - loss: 0.3600 - categorical_accuracy: 0.8779 - val_loss: 0.3392 - val_categorical_accuracy: 0.8912\n",
            "Epoch 17/300\n",
            "422/422 [==============================] - 12s 28ms/step - loss: 0.3596 - categorical_accuracy: 0.8788 - val_loss: 0.3282 - val_categorical_accuracy: 0.8912\n",
            "Epoch 18/300\n",
            "422/422 [==============================] - 12s 28ms/step - loss: 0.3525 - categorical_accuracy: 0.8822 - val_loss: 0.3255 - val_categorical_accuracy: 0.8937\n",
            "Epoch 19/300\n",
            "422/422 [==============================] - 12s 29ms/step - loss: 0.3502 - categorical_accuracy: 0.8820 - val_loss: 0.3360 - val_categorical_accuracy: 0.8857\n",
            "Epoch 20/300\n",
            "422/422 [==============================] - 11s 27ms/step - loss: 0.3445 - categorical_accuracy: 0.8835 - val_loss: 0.3285 - val_categorical_accuracy: 0.8940\n",
            "Epoch 21/300\n",
            "422/422 [==============================] - 11s 27ms/step - loss: 0.3415 - categorical_accuracy: 0.8870 - val_loss: 0.3252 - val_categorical_accuracy: 0.8933\n",
            "Epoch 22/300\n",
            "422/422 [==============================] - 11s 27ms/step - loss: 0.3399 - categorical_accuracy: 0.8875 - val_loss: 0.3234 - val_categorical_accuracy: 0.8925\n",
            "Epoch 23/300\n",
            "422/422 [==============================] - 12s 28ms/step - loss: 0.3358 - categorical_accuracy: 0.8889 - val_loss: 0.3263 - val_categorical_accuracy: 0.8933\n",
            "Epoch 24/300\n",
            "422/422 [==============================] - 12s 28ms/step - loss: 0.3297 - categorical_accuracy: 0.8905 - val_loss: 0.3211 - val_categorical_accuracy: 0.8943\n",
            "Epoch 25/300\n",
            "422/422 [==============================] - 12s 28ms/step - loss: 0.3266 - categorical_accuracy: 0.8915 - val_loss: 0.3210 - val_categorical_accuracy: 0.8945\n",
            "Epoch 26/300\n",
            "422/422 [==============================] - 12s 28ms/step - loss: 0.3266 - categorical_accuracy: 0.8909 - val_loss: 0.3135 - val_categorical_accuracy: 0.8945\n",
            "Epoch 27/300\n",
            "422/422 [==============================] - 12s 28ms/step - loss: 0.3199 - categorical_accuracy: 0.8938 - val_loss: 0.3185 - val_categorical_accuracy: 0.8967\n",
            "Epoch 28/300\n",
            "422/422 [==============================] - 12s 28ms/step - loss: 0.3184 - categorical_accuracy: 0.8946 - val_loss: 0.3235 - val_categorical_accuracy: 0.8960\n",
            "Epoch 29/300\n",
            "422/422 [==============================] - 12s 28ms/step - loss: 0.3189 - categorical_accuracy: 0.8935 - val_loss: 0.3276 - val_categorical_accuracy: 0.8962\n",
            "Epoch 30/300\n",
            "422/422 [==============================] - 12s 28ms/step - loss: 0.3127 - categorical_accuracy: 0.8963 - val_loss: 0.3155 - val_categorical_accuracy: 0.8987\n",
            "Epoch 31/300\n",
            "422/422 [==============================] - 12s 28ms/step - loss: 0.3126 - categorical_accuracy: 0.8960 - val_loss: 0.3225 - val_categorical_accuracy: 0.8963\n",
            "Epoch 32/300\n",
            "422/422 [==============================] - 12s 29ms/step - loss: 0.3082 - categorical_accuracy: 0.8967 - val_loss: 0.3119 - val_categorical_accuracy: 0.8988\n",
            "Epoch 33/300\n",
            "422/422 [==============================] - 12s 29ms/step - loss: 0.3063 - categorical_accuracy: 0.8988 - val_loss: 0.3161 - val_categorical_accuracy: 0.8982\n",
            "Epoch 34/300\n",
            "422/422 [==============================] - 12s 28ms/step - loss: 0.3041 - categorical_accuracy: 0.8990 - val_loss: 0.3132 - val_categorical_accuracy: 0.9002\n",
            "Epoch 35/300\n",
            "422/422 [==============================] - 11s 27ms/step - loss: 0.3027 - categorical_accuracy: 0.8995 - val_loss: 0.3166 - val_categorical_accuracy: 0.8957\n",
            "Epoch 36/300\n",
            "422/422 [==============================] - 11s 26ms/step - loss: 0.3014 - categorical_accuracy: 0.9010 - val_loss: 0.3089 - val_categorical_accuracy: 0.8968\n",
            "Epoch 37/300\n",
            "422/422 [==============================] - 12s 28ms/step - loss: 0.2991 - categorical_accuracy: 0.9024 - val_loss: 0.3116 - val_categorical_accuracy: 0.8962\n",
            "Epoch 38/300\n",
            "422/422 [==============================] - 12s 28ms/step - loss: 0.2967 - categorical_accuracy: 0.9025 - val_loss: 0.3162 - val_categorical_accuracy: 0.8968\n",
            "Epoch 39/300\n",
            "422/422 [==============================] - 12s 28ms/step - loss: 0.2986 - categorical_accuracy: 0.9008 - val_loss: 0.3072 - val_categorical_accuracy: 0.9005\n",
            "Epoch 40/300\n",
            "422/422 [==============================] - 12s 28ms/step - loss: 0.2965 - categorical_accuracy: 0.9030 - val_loss: 0.3119 - val_categorical_accuracy: 0.9007\n",
            "Epoch 41/300\n",
            "422/422 [==============================] - 12s 28ms/step - loss: 0.2903 - categorical_accuracy: 0.9041 - val_loss: 0.3083 - val_categorical_accuracy: 0.9028\n",
            "Epoch 42/300\n",
            "422/422 [==============================] - 12s 28ms/step - loss: 0.2909 - categorical_accuracy: 0.9030 - val_loss: 0.3065 - val_categorical_accuracy: 0.9008\n",
            "Epoch 43/300\n",
            "422/422 [==============================] - 12s 28ms/step - loss: 0.2897 - categorical_accuracy: 0.9049 - val_loss: 0.3044 - val_categorical_accuracy: 0.9003\n",
            "Epoch 44/300\n",
            "422/422 [==============================] - 12s 28ms/step - loss: 0.2876 - categorical_accuracy: 0.9073 - val_loss: 0.3085 - val_categorical_accuracy: 0.9023\n",
            "Epoch 45/300\n",
            "422/422 [==============================] - 12s 28ms/step - loss: 0.2857 - categorical_accuracy: 0.9064 - val_loss: 0.3128 - val_categorical_accuracy: 0.8990\n",
            "Epoch 46/300\n",
            "422/422 [==============================] - 12s 28ms/step - loss: 0.2835 - categorical_accuracy: 0.9075 - val_loss: 0.3162 - val_categorical_accuracy: 0.9005\n",
            "Epoch 47/300\n",
            "422/422 [==============================] - 12s 28ms/step - loss: 0.2798 - categorical_accuracy: 0.9085 - val_loss: 0.3159 - val_categorical_accuracy: 0.8990\n",
            "Epoch 48/300\n",
            "422/422 [==============================] - 12s 28ms/step - loss: 0.2819 - categorical_accuracy: 0.9076 - val_loss: 0.3115 - val_categorical_accuracy: 0.9020\n",
            "Epoch 49/300\n",
            "422/422 [==============================] - 12s 28ms/step - loss: 0.2790 - categorical_accuracy: 0.9094 - val_loss: 0.3168 - val_categorical_accuracy: 0.8993\n",
            "Epoch 50/300\n",
            "422/422 [==============================] - 11s 27ms/step - loss: 0.2786 - categorical_accuracy: 0.9089 - val_loss: 0.3146 - val_categorical_accuracy: 0.9030\n",
            "Epoch 51/300\n",
            "422/422 [==============================] - 12s 28ms/step - loss: 0.2781 - categorical_accuracy: 0.9084 - val_loss: 0.3156 - val_categorical_accuracy: 0.8998\n",
            "Epoch 52/300\n",
            "422/422 [==============================] - 12s 28ms/step - loss: 0.2774 - categorical_accuracy: 0.9086 - val_loss: 0.3145 - val_categorical_accuracy: 0.9043\n",
            "Epoch 53/300\n",
            "422/422 [==============================] - 12s 28ms/step - loss: 0.2755 - categorical_accuracy: 0.9100 - val_loss: 0.3062 - val_categorical_accuracy: 0.9028\n",
            "Epoch 54/300\n",
            "422/422 [==============================] - 12s 29ms/step - loss: 0.2754 - categorical_accuracy: 0.9101 - val_loss: 0.3046 - val_categorical_accuracy: 0.9065\n",
            "Epoch 55/300\n",
            "422/422 [==============================] - 12s 28ms/step - loss: 0.2741 - categorical_accuracy: 0.9099 - val_loss: 0.3074 - val_categorical_accuracy: 0.9057\n",
            "Epoch 56/300\n",
            "422/422 [==============================] - 12s 28ms/step - loss: 0.2725 - categorical_accuracy: 0.9114 - val_loss: 0.3089 - val_categorical_accuracy: 0.9032\n",
            "Epoch 57/300\n",
            "422/422 [==============================] - 12s 28ms/step - loss: 0.2737 - categorical_accuracy: 0.9112 - val_loss: 0.3130 - val_categorical_accuracy: 0.9018\n",
            "Epoch 58/300\n",
            "422/422 [==============================] - 12s 28ms/step - loss: 0.2689 - categorical_accuracy: 0.9122 - val_loss: 0.3169 - val_categorical_accuracy: 0.9020\n",
            "Epoch 59/300\n",
            "422/422 [==============================] - 12s 28ms/step - loss: 0.2713 - categorical_accuracy: 0.9106 - val_loss: 0.3078 - val_categorical_accuracy: 0.9022\n",
            "Epoch 60/300\n",
            "422/422 [==============================] - 12s 28ms/step - loss: 0.2694 - categorical_accuracy: 0.9116 - val_loss: 0.3124 - val_categorical_accuracy: 0.9045\n",
            "Epoch 61/300\n",
            "422/422 [==============================] - 12s 28ms/step - loss: 0.2678 - categorical_accuracy: 0.9137 - val_loss: 0.3149 - val_categorical_accuracy: 0.8995\n",
            "Epoch 62/300\n",
            "422/422 [==============================] - 12s 28ms/step - loss: 0.2685 - categorical_accuracy: 0.9128 - val_loss: 0.3141 - val_categorical_accuracy: 0.9015\n",
            "Epoch 63/300\n",
            "422/422 [==============================] - 11s 27ms/step - loss: 0.2646 - categorical_accuracy: 0.9141 - val_loss: 0.3072 - val_categorical_accuracy: 0.9033\n",
            "Epoch 64/300\n",
            "422/422 [==============================] - 11s 26ms/step - loss: 0.2671 - categorical_accuracy: 0.9130 - val_loss: 0.3046 - val_categorical_accuracy: 0.9075\n",
            "Epoch 65/300\n",
            "422/422 [==============================] - 12s 28ms/step - loss: 0.2612 - categorical_accuracy: 0.9156 - val_loss: 0.3059 - val_categorical_accuracy: 0.9060\n",
            "Epoch 66/300\n",
            "422/422 [==============================] - 12s 28ms/step - loss: 0.2634 - categorical_accuracy: 0.9136 - val_loss: 0.3104 - val_categorical_accuracy: 0.9040\n",
            "Epoch 67/300\n",
            "422/422 [==============================] - 13s 31ms/step - loss: 0.2628 - categorical_accuracy: 0.9153 - val_loss: 0.3119 - val_categorical_accuracy: 0.9040\n",
            "Epoch 68/300\n",
            "422/422 [==============================] - 12s 29ms/step - loss: 0.2626 - categorical_accuracy: 0.9139 - val_loss: 0.3042 - val_categorical_accuracy: 0.9045\n",
            "Epoch 69/300\n",
            "422/422 [==============================] - 13s 32ms/step - loss: 0.2645 - categorical_accuracy: 0.9157 - val_loss: 0.3049 - val_categorical_accuracy: 0.9058\n",
            "Epoch 70/300\n",
            "422/422 [==============================] - 13s 30ms/step - loss: 0.2635 - categorical_accuracy: 0.9146 - val_loss: 0.3045 - val_categorical_accuracy: 0.9052\n",
            "Epoch 71/300\n",
            "422/422 [==============================] - 13s 30ms/step - loss: 0.2594 - categorical_accuracy: 0.9172 - val_loss: 0.3089 - val_categorical_accuracy: 0.9015\n",
            "Epoch 72/300\n",
            "422/422 [==============================] - 12s 29ms/step - loss: 0.2571 - categorical_accuracy: 0.9161 - val_loss: 0.3058 - val_categorical_accuracy: 0.9058\n",
            "Epoch 73/300\n",
            "422/422 [==============================] - 13s 32ms/step - loss: 0.2601 - categorical_accuracy: 0.9161 - val_loss: 0.3094 - val_categorical_accuracy: 0.9045\n",
            "Epoch 74/300\n",
            "422/422 [==============================] - 12s 29ms/step - loss: 0.2556 - categorical_accuracy: 0.9169 - val_loss: 0.3239 - val_categorical_accuracy: 0.9030\n",
            "Epoch 75/300\n",
            "422/422 [==============================] - 12s 28ms/step - loss: 0.2579 - categorical_accuracy: 0.9174 - val_loss: 0.3108 - val_categorical_accuracy: 0.9062\n",
            "Epoch 76/300\n",
            "422/422 [==============================] - 13s 30ms/step - loss: 0.2517 - categorical_accuracy: 0.9181 - val_loss: 0.3139 - val_categorical_accuracy: 0.9043\n",
            "Epoch 77/300\n",
            "422/422 [==============================] - 13s 30ms/step - loss: 0.2535 - categorical_accuracy: 0.9189 - val_loss: 0.3121 - val_categorical_accuracy: 0.9057\n",
            "Epoch 78/300\n",
            "422/422 [==============================] - 12s 29ms/step - loss: 0.2557 - categorical_accuracy: 0.9184 - val_loss: 0.3157 - val_categorical_accuracy: 0.9057\n",
            "Epoch 79/300\n",
            "422/422 [==============================] - 12s 28ms/step - loss: 0.2539 - categorical_accuracy: 0.9187 - val_loss: 0.3153 - val_categorical_accuracy: 0.9018\n",
            "Epoch 80/300\n",
            "422/422 [==============================] - 12s 30ms/step - loss: 0.2524 - categorical_accuracy: 0.9187 - val_loss: 0.3095 - val_categorical_accuracy: 0.9078\n",
            "Epoch 81/300\n",
            "422/422 [==============================] - 13s 31ms/step - loss: 0.2518 - categorical_accuracy: 0.9199 - val_loss: 0.3052 - val_categorical_accuracy: 0.9057\n",
            "Epoch 82/300\n",
            "422/422 [==============================] - 12s 29ms/step - loss: 0.2537 - categorical_accuracy: 0.9195 - val_loss: 0.3143 - val_categorical_accuracy: 0.9060\n",
            "Epoch 83/300\n",
            "422/422 [==============================] - 13s 31ms/step - loss: 0.2480 - categorical_accuracy: 0.9217 - val_loss: 0.3122 - val_categorical_accuracy: 0.9062\n",
            "Epoch 84/300\n",
            "422/422 [==============================] - 12s 29ms/step - loss: 0.2531 - categorical_accuracy: 0.9180 - val_loss: 0.3110 - val_categorical_accuracy: 0.9085\n",
            "Epoch 85/300\n",
            "422/422 [==============================] - 13s 31ms/step - loss: 0.2494 - categorical_accuracy: 0.9214 - val_loss: 0.3113 - val_categorical_accuracy: 0.9030\n",
            "Epoch 86/300\n",
            "422/422 [==============================] - 13s 30ms/step - loss: 0.2477 - categorical_accuracy: 0.9211 - val_loss: 0.3131 - val_categorical_accuracy: 0.9038\n",
            "Epoch 87/300\n",
            "422/422 [==============================] - 13s 30ms/step - loss: 0.2496 - categorical_accuracy: 0.9205 - val_loss: 0.3147 - val_categorical_accuracy: 0.9037\n",
            "Epoch 88/300\n",
            "422/422 [==============================] - 13s 30ms/step - loss: 0.2486 - categorical_accuracy: 0.9197 - val_loss: 0.3079 - val_categorical_accuracy: 0.9045\n",
            "Epoch 89/300\n",
            "422/422 [==============================] - 12s 29ms/step - loss: 0.2490 - categorical_accuracy: 0.9211 - val_loss: 0.3101 - val_categorical_accuracy: 0.9082\n",
            "Epoch 90/300\n",
            "422/422 [==============================] - 13s 30ms/step - loss: 0.2486 - categorical_accuracy: 0.9207 - val_loss: 0.3157 - val_categorical_accuracy: 0.9053\n",
            "Epoch 91/300\n",
            "422/422 [==============================] - 12s 29ms/step - loss: 0.2471 - categorical_accuracy: 0.9205 - val_loss: 0.3141 - val_categorical_accuracy: 0.9042\n",
            "Epoch 92/300\n",
            "422/422 [==============================] - 12s 29ms/step - loss: 0.2463 - categorical_accuracy: 0.9223 - val_loss: 0.3118 - val_categorical_accuracy: 0.9060\n",
            "Epoch 93/300\n",
            "422/422 [==============================] - 12s 29ms/step - loss: 0.2482 - categorical_accuracy: 0.9222 - val_loss: 0.3082 - val_categorical_accuracy: 0.9090\n",
            "Epoch 94/300\n",
            "422/422 [==============================] - 12s 29ms/step - loss: 0.2471 - categorical_accuracy: 0.9228 - val_loss: 0.3103 - val_categorical_accuracy: 0.9065\n",
            "Epoch 95/300\n",
            "422/422 [==============================] - 12s 28ms/step - loss: 0.2450 - categorical_accuracy: 0.9232 - val_loss: 0.3152 - val_categorical_accuracy: 0.9088\n",
            "Epoch 96/300\n",
            "422/422 [==============================] - 13s 30ms/step - loss: 0.2454 - categorical_accuracy: 0.9209 - val_loss: 0.3152 - val_categorical_accuracy: 0.9047\n",
            "Epoch 97/300\n",
            "422/422 [==============================] - 13s 30ms/step - loss: 0.2441 - categorical_accuracy: 0.9218 - val_loss: 0.3145 - val_categorical_accuracy: 0.9042\n",
            "Epoch 98/300\n",
            "422/422 [==============================] - 13s 30ms/step - loss: 0.2455 - categorical_accuracy: 0.9226 - val_loss: 0.3148 - val_categorical_accuracy: 0.9050\n",
            "Epoch 99/300\n",
            "422/422 [==============================] - 13s 30ms/step - loss: 0.2439 - categorical_accuracy: 0.9238 - val_loss: 0.3099 - val_categorical_accuracy: 0.9060\n",
            "Epoch 100/300\n",
            "422/422 [==============================] - 12s 29ms/step - loss: 0.2414 - categorical_accuracy: 0.9249 - val_loss: 0.3090 - val_categorical_accuracy: 0.9063\n",
            "Epoch 101/300\n",
            "422/422 [==============================] - 12s 29ms/step - loss: 0.2442 - categorical_accuracy: 0.9225 - val_loss: 0.3038 - val_categorical_accuracy: 0.9072\n",
            "Epoch 102/300\n",
            "422/422 [==============================] - 12s 30ms/step - loss: 0.2434 - categorical_accuracy: 0.9236 - val_loss: 0.3124 - val_categorical_accuracy: 0.9082\n",
            "Epoch 103/300\n",
            "422/422 [==============================] - 12s 29ms/step - loss: 0.2437 - categorical_accuracy: 0.9233 - val_loss: 0.3124 - val_categorical_accuracy: 0.9078\n",
            "Epoch 104/300\n",
            "422/422 [==============================] - 13s 30ms/step - loss: 0.2410 - categorical_accuracy: 0.9249 - val_loss: 0.3103 - val_categorical_accuracy: 0.9065\n",
            "Epoch 105/300\n",
            "422/422 [==============================] - 13s 30ms/step - loss: 0.2415 - categorical_accuracy: 0.9235 - val_loss: 0.3205 - val_categorical_accuracy: 0.9060\n",
            "Epoch 106/300\n",
            "422/422 [==============================] - 12s 29ms/step - loss: 0.2411 - categorical_accuracy: 0.9241 - val_loss: 0.3129 - val_categorical_accuracy: 0.9082\n",
            "Epoch 107/300\n",
            "422/422 [==============================] - 13s 31ms/step - loss: 0.2429 - categorical_accuracy: 0.9237 - val_loss: 0.3144 - val_categorical_accuracy: 0.9053\n",
            "Epoch 108/300\n",
            "422/422 [==============================] - 13s 30ms/step - loss: 0.2420 - categorical_accuracy: 0.9239 - val_loss: 0.3132 - val_categorical_accuracy: 0.9070\n",
            "Epoch 109/300\n",
            "422/422 [==============================] - 13s 30ms/step - loss: 0.2399 - categorical_accuracy: 0.9241 - val_loss: 0.3144 - val_categorical_accuracy: 0.9048\n",
            "Epoch 110/300\n",
            "422/422 [==============================] - 13s 30ms/step - loss: 0.2406 - categorical_accuracy: 0.9250 - val_loss: 0.3129 - val_categorical_accuracy: 0.9080\n",
            "Epoch 111/300\n",
            "422/422 [==============================] - 12s 29ms/step - loss: 0.2409 - categorical_accuracy: 0.9255 - val_loss: 0.3083 - val_categorical_accuracy: 0.9080\n",
            "Epoch 112/300\n",
            "422/422 [==============================] - 12s 29ms/step - loss: 0.2392 - categorical_accuracy: 0.9254 - val_loss: 0.3138 - val_categorical_accuracy: 0.9080\n",
            "Epoch 113/300\n",
            "422/422 [==============================] - 13s 30ms/step - loss: 0.2378 - categorical_accuracy: 0.9253 - val_loss: 0.3103 - val_categorical_accuracy: 0.9080\n",
            "Epoch 114/300\n",
            "422/422 [==============================] - 12s 29ms/step - loss: 0.2361 - categorical_accuracy: 0.9265 - val_loss: 0.3128 - val_categorical_accuracy: 0.9090\n",
            "Epoch 115/300\n",
            "422/422 [==============================] - 12s 28ms/step - loss: 0.2415 - categorical_accuracy: 0.9249 - val_loss: 0.3093 - val_categorical_accuracy: 0.9110\n",
            "Epoch 116/300\n",
            "422/422 [==============================] - 12s 28ms/step - loss: 0.2388 - categorical_accuracy: 0.9253 - val_loss: 0.3100 - val_categorical_accuracy: 0.9103\n",
            "Epoch 117/300\n",
            "422/422 [==============================] - 11s 27ms/step - loss: 0.2380 - categorical_accuracy: 0.9262 - val_loss: 0.3131 - val_categorical_accuracy: 0.9073\n",
            "Epoch 118/300\n",
            "422/422 [==============================] - 12s 28ms/step - loss: 0.2358 - categorical_accuracy: 0.9263 - val_loss: 0.3135 - val_categorical_accuracy: 0.9072\n",
            "Epoch 119/300\n",
            "422/422 [==============================] - 12s 28ms/step - loss: 0.2363 - categorical_accuracy: 0.9265 - val_loss: 0.3123 - val_categorical_accuracy: 0.9120\n",
            "Epoch 120/300\n",
            "422/422 [==============================] - 12s 28ms/step - loss: 0.2354 - categorical_accuracy: 0.9260 - val_loss: 0.3140 - val_categorical_accuracy: 0.9070\n",
            "Epoch 121/300\n",
            "422/422 [==============================] - 12s 29ms/step - loss: 0.2359 - categorical_accuracy: 0.9269 - val_loss: 0.3131 - val_categorical_accuracy: 0.9085\n",
            "Epoch 122/300\n",
            "422/422 [==============================] - 12s 29ms/step - loss: 0.2327 - categorical_accuracy: 0.9273 - val_loss: 0.3139 - val_categorical_accuracy: 0.9092\n",
            "Epoch 123/300\n",
            "422/422 [==============================] - 12s 28ms/step - loss: 0.2317 - categorical_accuracy: 0.9284 - val_loss: 0.3140 - val_categorical_accuracy: 0.9077\n",
            "Epoch 124/300\n",
            "422/422 [==============================] - 12s 29ms/step - loss: 0.2352 - categorical_accuracy: 0.9270 - val_loss: 0.3137 - val_categorical_accuracy: 0.9073\n",
            "Epoch 125/300\n",
            "422/422 [==============================] - 12s 28ms/step - loss: 0.2323 - categorical_accuracy: 0.9288 - val_loss: 0.3171 - val_categorical_accuracy: 0.9090\n",
            "Epoch 126/300\n",
            "422/422 [==============================] - 12s 29ms/step - loss: 0.2367 - categorical_accuracy: 0.9267 - val_loss: 0.3104 - val_categorical_accuracy: 0.9100\n",
            "Epoch 127/300\n",
            "422/422 [==============================] - 12s 28ms/step - loss: 0.2339 - categorical_accuracy: 0.9270 - val_loss: 0.3163 - val_categorical_accuracy: 0.9088\n",
            "Epoch 128/300\n",
            "422/422 [==============================] - 12s 29ms/step - loss: 0.2317 - categorical_accuracy: 0.9287 - val_loss: 0.3116 - val_categorical_accuracy: 0.9112\n",
            "Epoch 129/300\n",
            "422/422 [==============================] - 12s 28ms/step - loss: 0.2337 - categorical_accuracy: 0.9269 - val_loss: 0.3097 - val_categorical_accuracy: 0.9065\n",
            "Epoch 130/300\n",
            "422/422 [==============================] - 12s 29ms/step - loss: 0.2349 - categorical_accuracy: 0.9282 - val_loss: 0.3144 - val_categorical_accuracy: 0.9085\n",
            "Epoch 131/300\n",
            "422/422 [==============================] - 12s 29ms/step - loss: 0.2312 - categorical_accuracy: 0.9287 - val_loss: 0.3150 - val_categorical_accuracy: 0.9090\n",
            "Epoch 132/300\n",
            "422/422 [==============================] - 12s 28ms/step - loss: 0.2312 - categorical_accuracy: 0.9281 - val_loss: 0.3139 - val_categorical_accuracy: 0.9078\n",
            "Epoch 133/300\n",
            "422/422 [==============================] - 12s 28ms/step - loss: 0.2304 - categorical_accuracy: 0.9280 - val_loss: 0.3118 - val_categorical_accuracy: 0.9095\n",
            "Epoch 134/300\n",
            "422/422 [==============================] - 13s 30ms/step - loss: 0.2343 - categorical_accuracy: 0.9275 - val_loss: 0.3179 - val_categorical_accuracy: 0.9083\n",
            "Epoch 135/300\n",
            "422/422 [==============================] - 12s 28ms/step - loss: 0.2287 - categorical_accuracy: 0.9291 - val_loss: 0.3187 - val_categorical_accuracy: 0.9085\n",
            "Epoch 136/300\n",
            "422/422 [==============================] - 12s 28ms/step - loss: 0.2288 - categorical_accuracy: 0.9299 - val_loss: 0.3194 - val_categorical_accuracy: 0.9093\n",
            "Epoch 137/300\n",
            "422/422 [==============================] - 12s 29ms/step - loss: 0.2331 - categorical_accuracy: 0.9277 - val_loss: 0.3181 - val_categorical_accuracy: 0.9087\n",
            "Epoch 138/300\n",
            "422/422 [==============================] - 12s 29ms/step - loss: 0.2292 - categorical_accuracy: 0.9296 - val_loss: 0.3214 - val_categorical_accuracy: 0.9078\n",
            "Epoch 139/300\n",
            "422/422 [==============================] - 12s 29ms/step - loss: 0.2294 - categorical_accuracy: 0.9301 - val_loss: 0.3195 - val_categorical_accuracy: 0.9083\n",
            "Epoch 140/300\n",
            "422/422 [==============================] - 12s 28ms/step - loss: 0.2344 - categorical_accuracy: 0.9275 - val_loss: 0.3192 - val_categorical_accuracy: 0.9065\n",
            "Epoch 141/300\n",
            "422/422 [==============================] - 12s 28ms/step - loss: 0.2319 - categorical_accuracy: 0.9294 - val_loss: 0.3205 - val_categorical_accuracy: 0.9050\n",
            "Epoch 142/300\n",
            "422/422 [==============================] - 12s 29ms/step - loss: 0.2333 - categorical_accuracy: 0.9282 - val_loss: 0.3115 - val_categorical_accuracy: 0.9068\n",
            "Epoch 143/300\n",
            "422/422 [==============================] - 12s 29ms/step - loss: 0.2299 - categorical_accuracy: 0.9292 - val_loss: 0.3175 - val_categorical_accuracy: 0.9072\n",
            "Epoch 144/300\n",
            "422/422 [==============================] - 12s 29ms/step - loss: 0.2322 - categorical_accuracy: 0.9294 - val_loss: 0.3217 - val_categorical_accuracy: 0.9070\n",
            "Epoch 145/300\n",
            "422/422 [==============================] - 12s 28ms/step - loss: 0.2323 - categorical_accuracy: 0.9284 - val_loss: 0.3151 - val_categorical_accuracy: 0.9060\n",
            "Epoch 146/300\n",
            "422/422 [==============================] - 12s 29ms/step - loss: 0.2304 - categorical_accuracy: 0.9289 - val_loss: 0.3150 - val_categorical_accuracy: 0.9068\n",
            "Epoch 147/300\n",
            "422/422 [==============================] - 13s 30ms/step - loss: 0.2281 - categorical_accuracy: 0.9299 - val_loss: 0.3172 - val_categorical_accuracy: 0.9102\n",
            "Epoch 148/300\n",
            "422/422 [==============================] - 12s 30ms/step - loss: 0.2279 - categorical_accuracy: 0.9299 - val_loss: 0.3144 - val_categorical_accuracy: 0.9092\n",
            "Epoch 149/300\n",
            "422/422 [==============================] - 12s 29ms/step - loss: 0.2258 - categorical_accuracy: 0.9307 - val_loss: 0.3202 - val_categorical_accuracy: 0.9078\n",
            "Epoch 150/300\n",
            "422/422 [==============================] - 12s 29ms/step - loss: 0.2292 - categorical_accuracy: 0.9304 - val_loss: 0.3136 - val_categorical_accuracy: 0.9060\n",
            "Epoch 151/300\n",
            "422/422 [==============================] - 12s 29ms/step - loss: 0.2271 - categorical_accuracy: 0.9303 - val_loss: 0.3174 - val_categorical_accuracy: 0.9117\n",
            "Epoch 152/300\n",
            "422/422 [==============================] - 12s 28ms/step - loss: 0.2290 - categorical_accuracy: 0.9299 - val_loss: 0.3142 - val_categorical_accuracy: 0.9087\n",
            "Epoch 153/300\n",
            "422/422 [==============================] - 12s 29ms/step - loss: 0.2253 - categorical_accuracy: 0.9309 - val_loss: 0.3227 - val_categorical_accuracy: 0.9063\n",
            "Epoch 154/300\n",
            "422/422 [==============================] - 12s 28ms/step - loss: 0.2306 - categorical_accuracy: 0.9300 - val_loss: 0.3126 - val_categorical_accuracy: 0.9087\n",
            "Epoch 155/300\n",
            "422/422 [==============================] - 12s 28ms/step - loss: 0.2278 - categorical_accuracy: 0.9300 - val_loss: 0.3138 - val_categorical_accuracy: 0.9095\n",
            "Epoch 156/300\n",
            "422/422 [==============================] - 12s 29ms/step - loss: 0.2279 - categorical_accuracy: 0.9297 - val_loss: 0.3150 - val_categorical_accuracy: 0.9122\n",
            "Epoch 157/300\n",
            "422/422 [==============================] - 12s 29ms/step - loss: 0.2257 - categorical_accuracy: 0.9303 - val_loss: 0.3122 - val_categorical_accuracy: 0.9092\n",
            "Epoch 158/300\n",
            "422/422 [==============================] - 12s 29ms/step - loss: 0.2269 - categorical_accuracy: 0.9308 - val_loss: 0.3177 - val_categorical_accuracy: 0.9063\n",
            "Epoch 159/300\n",
            "422/422 [==============================] - 12s 29ms/step - loss: 0.2265 - categorical_accuracy: 0.9296 - val_loss: 0.3144 - val_categorical_accuracy: 0.9073\n",
            "Epoch 160/300\n",
            "422/422 [==============================] - 12s 29ms/step - loss: 0.2240 - categorical_accuracy: 0.9330 - val_loss: 0.3075 - val_categorical_accuracy: 0.9102\n",
            "Epoch 161/300\n",
            "422/422 [==============================] - 12s 29ms/step - loss: 0.2265 - categorical_accuracy: 0.9310 - val_loss: 0.3107 - val_categorical_accuracy: 0.9082\n",
            "313/313 [==============================] - 1s 5ms/step - loss: 0.3390 - categorical_accuracy: 0.9037\n",
            "\n",
            "Test accuracy: 0.9036999940872192\n"
          ]
        }
      ]
    },
    {
      "cell_type": "code",
      "source": [
        "print('\\nhistory dict:', list(history.history.keys()))"
      ],
      "metadata": {
        "id": "CxRE-B_Q6Sii",
        "outputId": "6a795d54-9e02-4f15-bd6e-3290fc5ad739",
        "colab": {
          "base_uri": "https://localhost:8080/"
        }
      },
      "execution_count": 55,
      "outputs": [
        {
          "output_type": "stream",
          "name": "stdout",
          "text": [
            "\n",
            "history dict: ['loss', 'categorical_accuracy', 'val_loss', 'val_categorical_accuracy']\n"
          ]
        }
      ]
    },
    {
      "cell_type": "code",
      "source": [
        "result = model.evaluate(x_test, y_test)\n",
        "print(result)"
      ],
      "metadata": {
        "id": "YXpwRRTvTBNg",
        "outputId": "3fba11bd-c218-4142-c547-e0343c906752",
        "colab": {
          "base_uri": "https://localhost:8080/"
        }
      },
      "execution_count": 56,
      "outputs": [
        {
          "output_type": "stream",
          "name": "stdout",
          "text": [
            "313/313 [==============================] - 2s 5ms/step - loss: 0.3390 - categorical_accuracy: 0.9037\n",
            "[0.33900439739227295, 0.9036999940872192]\n"
          ]
        }
      ]
    },
    {
      "cell_type": "code",
      "source": [
        "saved_model = load_model('best_model.h5')\n",
        "result = saved_model.evaluate(x_test, y_test)\n",
        "print(result)"
      ],
      "metadata": {
        "id": "dpaZAW0vp1AZ",
        "outputId": "23ce62e3-4ce9-42c8-b90c-6e8d5922d94a",
        "colab": {
          "base_uri": "https://localhost:8080/"
        }
      },
      "execution_count": 57,
      "outputs": [
        {
          "output_type": "stream",
          "name": "stdout",
          "text": [
            "313/313 [==============================] - 2s 6ms/step - loss: 0.3308 - categorical_accuracy: 0.9035\n",
            "[0.33078673481941223, 0.9035000205039978]\n"
          ]
        }
      ]
    },
    {
      "cell_type": "code",
      "source": [
        "# from keras.models import load_model\n",
        "# saved_model = load_model('best_model.h5')\n",
        "# # _, train_acc = saved_model.evaluate(x_train, y_train, verbose=0)\n",
        "# _, test_acc = saved_model.evaluate(x_test, y_test, verbose=0)\n",
        "# print('Test: %.3f' % (test_acc))"
      ],
      "metadata": {
        "id": "DR_MS9DABo_K"
      },
      "execution_count": 58,
      "outputs": []
    },
    {
      "cell_type": "code",
      "source": [
        "history_dict = history.history\n",
        "loss_values = history_dict['loss']\n",
        "val_loss_values = history_dict['val_loss']\n",
        "\n",
        "epochs = range(1, len(history_dict['loss']) + 1)\n",
        "\n",
        "plt.figure(figsize=(10, 5))\n",
        "plt.plot(epochs, loss_values, 'bo', label='Training loss')\n",
        "plt.plot(epochs, val_loss_values, 'r', label='Validation loss')\n",
        "# plt.ylim (0.2, 0.5)\n",
        "plt.title('Training and validation loss')\n",
        "plt.xlabel('Epochs')\n",
        "plt.ylabel('Loss')\n",
        "plt.legend()\n",
        "plt.grid(True)\n",
        "plt.show()\n",
        "1\n",
        "plt.clf()\n",
        "plt.figure(figsize=(10, 5))\n",
        "val_acc_values = history_dict['categorical_accuracy']\n",
        "plt.plot(epochs, history_dict['categorical_accuracy'], 'bo', label='Training acc')\n",
        "plt.plot(epochs, history_dict['val_categorical_accuracy'], 'r', label='Validation acc')\n",
        "plt.ylim (0.86, 0.94)\n",
        "plt.title('Training and validation accuracy')\n",
        "plt.xlabel('Epochs')\n",
        "plt.ylabel('Accuracy')\n",
        "plt.legend()\n",
        "plt.grid(True)"
      ],
      "metadata": {
        "id": "2Ll_5sGlXKMH",
        "outputId": "87f57c50-bfc1-4fa2-88af-9ac3ad53541a",
        "colab": {
          "base_uri": "https://localhost:8080/",
          "height": 975
        }
      },
      "execution_count": 59,
      "outputs": [
        {
          "output_type": "display_data",
          "data": {
            "text/plain": [
              "<Figure size 1000x500 with 1 Axes>"
            ],
            "image/png": "[encoded data removed]"
          },
          "metadata": {}
        },
        {
          "output_type": "display_data",
          "data": {
            "text/plain": [
              "<Figure size 640x480 with 0 Axes>"
            ]
          },
          "metadata": {}
        },
        {
          "output_type": "display_data",
          "data": {
            "text/plain": [
              "<Figure size 1000x500 with 1 Axes>"
            ],
            "image/png": "[encoded data removed]"
          },
          "metadata": {}
        }
      ]
    },
    {
      "cell_type": "code",
      "source": [
        "probability_model = tf.keras.Sequential([model,\n",
        "                                         tf.keras.layers.Softmax()])"
      ],
      "metadata": {
        "id": "VzOdKAT_uV-f"
      },
      "execution_count": 60,
      "outputs": []
    },
    {
      "cell_type": "code",
      "source": [
        "predictions = probability_model.predict(x_test)"
      ],
      "metadata": {
        "id": "f4is3NFruYom",
        "outputId": "10ac4a87-2de5-490b-8a1c-2f60dd0d1927",
        "colab": {
          "base_uri": "https://localhost:8080/"
        }
      },
      "execution_count": 61,
      "outputs": [
        {
          "output_type": "stream",
          "name": "stdout",
          "text": [
            "313/313 [==============================] - 1s 3ms/step\n"
          ]
        }
      ]
    },
    {
      "cell_type": "code",
      "source": [
        "predictions[0]"
      ],
      "metadata": {
        "id": "82cigvlZudz_",
        "outputId": "6d4df3e8-6e7e-420d-90bf-95c80b9d0e00",
        "colab": {
          "base_uri": "https://localhost:8080/"
        }
      },
      "execution_count": 62,
      "outputs": [
        {
          "output_type": "execute_result",
          "data": {
            "text/plain": [
              "array([0.08533774, 0.08533774, 0.08533774, 0.08533774, 0.08533774,\n",
              "       0.08533809, 0.08533774, 0.08534414, 0.08533774, 0.2319536 ],\n",
              "      dtype=float32)"
            ]
          },
          "metadata": {},
          "execution_count": 62
        }
      ]
    },
    {
      "cell_type": "code",
      "source": [
        "model.summary()"
      ],
      "metadata": {
        "id": "6RsQPHyYuNGe",
        "outputId": "3e2f5e80-92c5-484b-b68a-8eb0ebe4a145",
        "colab": {
          "base_uri": "https://localhost:8080/"
        }
      },
      "execution_count": 63,
      "outputs": [
        {
          "output_type": "stream",
          "name": "stdout",
          "text": [
            "Model: \"sequential_3\"\n",
            "_________________________________________________________________\n",
            " Layer (type)                Output Shape              Param #   \n",
            "=================================================================\n",
            " flatten_2 (Flatten)         (None, 784)               0         \n",
            "                                                                 \n",
            " dropout_8 (Dropout)         (None, 784)               0         \n",
            "                                                                 \n",
            " batch_normalization_6 (Bat  (None, 784)               3136      \n",
            " chNormalization)                                                \n",
            "                                                                 \n",
            " dense_8 (Dense)             (None, 256)               200960    \n",
            "                                                                 \n",
            " dropout_9 (Dropout)         (None, 256)               0         \n",
            "                                                                 \n",
            " batch_normalization_7 (Bat  (None, 256)               1024      \n",
            " chNormalization)                                                \n",
            "                                                                 \n",
            " dense_9 (Dense)             (None, 512)               131584    \n",
            "                                                                 \n",
            " dropout_10 (Dropout)        (None, 512)               0         \n",
            "                                                                 \n",
            " batch_normalization_8 (Bat  (None, 512)               2048      \n",
            " chNormalization)                                                \n",
            "                                                                 \n",
            " dense_10 (Dense)            (None, 512)               262656    \n",
            "                                                                 \n",
            " dropout_11 (Dropout)        (None, 512)               0         \n",
            "                                                                 \n",
            " dense_11 (Dense)            (None, 10)                5130      \n",
            "                                                                 \n",
            "=================================================================\n",
            "Total params: 606538 (2.31 MB)\n",
            "Trainable params: 603434 (2.30 MB)\n",
            "Non-trainable params: 3104 (12.12 KB)\n",
            "_________________________________________________________________\n"
          ]
        }
      ]
    }
  ]
}