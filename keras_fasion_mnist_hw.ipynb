{
  "nbformat": 4,
  "nbformat_minor": 0,
  "metadata": {
    "colab": {
      "provenance": [],
      "authorship_tag": "ABX9TyP6uE7lRJXD/lZmx3isJPrY",
      "include_colab_link": true
    },
    "kernelspec": {
      "name": "python3",
      "display_name": "Python 3"
    },
    "language_info": {
      "name": "python"
    }
  },
  "cells": [
    {
      "cell_type": "markdown",
      "metadata": {
        "id": "view-in-github",
        "colab_type": "text"
      },
      "source": [
        "<a href=\"https://colab.research.google.com/github/PavelStelmakhV/hw310-keras-fasion-mnist/blob/main/keras_fasion_mnist_hw.ipynb\" target=\"_parent\"><img src=\"https://colab.research.google.com/assets/colab-badge.svg\" alt=\"Open In Colab\"/></a>"
      ]
    },
    {
      "cell_type": "code",
      "execution_count": 131,
      "metadata": {
        "id": "vv7w0bgAVQPO"
      },
      "outputs": [],
      "source": [
        "import tensorflow as tf\n",
        "\n",
        "import numpy as np\n",
        "import matplotlib.pyplot as plt\n",
        "from keras import layers\n",
        "from keras import regularizers"
      ]
    },
    {
      "cell_type": "code",
      "source": [
        "fashion_mnist = tf.keras.datasets.fashion_mnist\n",
        "\n",
        "(x_train, y_train), (x_test, y_test) = fashion_mnist.load_data()"
      ],
      "metadata": {
        "id": "mOpywsNAzfGB"
      },
      "execution_count": 132,
      "outputs": []
    },
    {
      "cell_type": "code",
      "source": [
        "# x_train = x_train.reshape(60000, 784).astype('float32') / 255\n",
        "# x_test = x_test.reshape(10000, 784).astype('float32') / 255\n",
        "x_train = x_train.astype('float32') / 255\n",
        "x_test = x_test.astype('float32') / 255\n",
        "\n",
        "y_train = y_train.astype('float32')\n",
        "y_test = y_test.astype('float32')\n",
        "\n",
        "# Перемешаем тренировочные данные\n",
        "# train_data = tf.data.Dataset.from_tensor_slices((x_train, y_train))\n",
        "# train_data = train_data.repeat().shuffle(5000).batch(batch_size).prefetch(1)"
      ],
      "metadata": {
        "id": "t2gucjsJ0KUi"
      },
      "execution_count": 133,
      "outputs": []
    },
    {
      "cell_type": "code",
      "source": [
        "x_val = x_train[-10000:]\n",
        "y_val = y_train[-10000:]\n",
        "x_train = x_train[:-10000]\n",
        "y_train = y_train[:-10000]"
      ],
      "metadata": {
        "id": "fLPNXab5dHwO"
      },
      "execution_count": 134,
      "outputs": []
    },
    {
      "cell_type": "code",
      "source": [
        "model = tf.keras.Sequential()\n",
        "drop_out = 0\n",
        "lern_rat = 0.0001\n",
        "model.add(layers.Flatten(input_shape=(28, 28)))\n",
        "# model.add(layers.Dropout(0.2))\n",
        "model.add(layers.Dense(784, activation='relu', kernel_regularizer=regularizers.l2(lern_rat)))\n",
        "model.add(layers.Dropout(drop_out))\n",
        "model.add(layers.Dense(784, activation='relu', kernel_regularizer=regularizers.l2(lern_rat)))\n",
        "model.add(layers.Dropout(drop_out))\n",
        "\n",
        "# model.add(layers.Dense(512, activation='relu', kernel_regularizer=regularizers.l2(lern_rat)))\n",
        "# model.add(layers.Dropout(drop_out))\n",
        "# model.add(layers.Dense(512, activation='relu', kernel_regularizer=regularizers.l2(lern_rat)))\n",
        "# model.add(layers.Dropout(drop_out))\n",
        "# model.add(layers.Dense(512, activation='relu', kernel_regularizer=regularizers.l2(lern_rat)))\n",
        "# model.add(layers.Dropout(drop_out))\n",
        "\n",
        "# model.add(layers.Dense(216, activation='relu', kernel_regularizer=regularizers.l2(0.001)))\n",
        "# model.add(layers.Dense(512, activation='sigmoid', kernel_regularizer=regularizers.l2(0.00001)))\n",
        "# model.add(layers.Dropout(0.5))\n",
        "# model.add(layers.Dense(512, activation='sigmoid', kernel_regularizer=regularizers.l2(0.00001)))\n",
        "# model.add(layers.Dropout(0.5))\n",
        "# model.add(layers.Dense(500, activation='sigmoid', kernel_regularizer=regularizers.l2(0.000001)))\n",
        "# model.add(layers.Dense(500, activation='relu', kernel_regularizer=regularizers.l2(0.000001)))\n",
        "# # model.add(layers.Dense(80, activation='relu', kernel_regularizer=regularizers.l2(0.001)))\n",
        "# model.add(layers.Dropout(0.5))\n",
        "# model.add(layers.Dense(500, activation='relu', kernel_regularizer=regularizers.l2(0.000001)))\n",
        "# model.add(layers.Dropout(0.5))\n",
        "# # model.add(layers.Dense(40, activation='relu', kernel_regularizer=regularizers.l2(0.001)))\n",
        "\n",
        "model.add(layers.Dense(10, activation='softmax'))\n",
        "# model.add(layers.Softmax())"
      ],
      "metadata": {
        "id": "atS39i4d0aqW"
      },
      "execution_count": 135,
      "outputs": []
    },
    {
      "cell_type": "code",
      "source": [
        "model.compile(#optimizer='adam',\n",
        "              # optimizer='adamax',\n",
        "              # optimizer='nadam',\n",
        "              # optimizer='rmsprop',\n",
        "              optimizer='sgd',\n",
        "              # optimizer='adadelta',\n",
        "              # loss='binary_crossentropy',\n",
        "              loss=tf.keras.losses.SparseCategoricalCrossentropy(),\n",
        "              metrics=['sparse_categorical_accuracy'])"
      ],
      "metadata": {
        "id": "hENVaAC7ilNY"
      },
      "execution_count": 136,
      "outputs": []
    },
    {
      "cell_type": "code",
      "source": [
        "# model.fit(train_images, train_labels, epochs=20)\n",
        "history = model.fit(x_train, y_train,\n",
        "                    epochs=120,\n",
        "                    batch_size=512,\n",
        "                    validation_data=(x_val, y_val))\n",
        "test_loss, test_acc = model.evaluate(x_test, y_test)\n",
        "print('\\nTest accuracy:', test_acc)"
      ],
      "metadata": {
        "id": "FH8HcMNm233I",
        "outputId": "88d249cb-17d0-49a4-9d3b-89e4a66f5b59",
        "colab": {
          "base_uri": "https://localhost:8080/"
        }
      },
      "execution_count": 137,
      "outputs": [
        {
          "output_type": "stream",
          "name": "stdout",
          "text": [
            "Epoch 1/120\n",
            "98/98 [==============================] - 8s 81ms/step - loss: 1.9066 - sparse_categorical_accuracy: 0.4139 - val_loss: 1.3398 - val_sparse_categorical_accuracy: 0.6762\n",
            "Epoch 2/120\n",
            "98/98 [==============================] - 7s 73ms/step - loss: 1.3350 - sparse_categorical_accuracy: 0.6140 - val_loss: 1.0555 - val_sparse_categorical_accuracy: 0.7032\n",
            "Epoch 3/120\n",
            "98/98 [==============================] - 8s 84ms/step - loss: 1.1372 - sparse_categorical_accuracy: 0.6669 - val_loss: 0.9457 - val_sparse_categorical_accuracy: 0.7304\n",
            "Epoch 4/120\n",
            "98/98 [==============================] - 7s 69ms/step - loss: 1.0403 - sparse_categorical_accuracy: 0.6990 - val_loss: 0.8849 - val_sparse_categorical_accuracy: 0.7484\n",
            "Epoch 5/120\n",
            "98/98 [==============================] - 8s 84ms/step - loss: 0.9805 - sparse_categorical_accuracy: 0.7169 - val_loss: 0.8449 - val_sparse_categorical_accuracy: 0.7628\n",
            "Epoch 6/120\n",
            "98/98 [==============================] - 7s 67ms/step - loss: 0.9357 - sparse_categorical_accuracy: 0.7330 - val_loss: 0.8156 - val_sparse_categorical_accuracy: 0.7719\n",
            "Epoch 7/120\n",
            "98/98 [==============================] - 8s 82ms/step - loss: 0.9011 - sparse_categorical_accuracy: 0.7460 - val_loss: 0.7937 - val_sparse_categorical_accuracy: 0.7786\n",
            "Epoch 8/120\n",
            "98/98 [==============================] - 7s 67ms/step - loss: 0.8741 - sparse_categorical_accuracy: 0.7555 - val_loss: 0.7750 - val_sparse_categorical_accuracy: 0.7847\n",
            "Epoch 9/120\n",
            "98/98 [==============================] - 8s 81ms/step - loss: 0.8545 - sparse_categorical_accuracy: 0.7616 - val_loss: 0.7582 - val_sparse_categorical_accuracy: 0.7921\n",
            "Epoch 10/120\n",
            "98/98 [==============================] - 7s 70ms/step - loss: 0.8339 - sparse_categorical_accuracy: 0.7676 - val_loss: 0.7461 - val_sparse_categorical_accuracy: 0.7956\n",
            "Epoch 11/120\n",
            "98/98 [==============================] - 8s 81ms/step - loss: 0.8158 - sparse_categorical_accuracy: 0.7737 - val_loss: 0.7321 - val_sparse_categorical_accuracy: 0.8025\n",
            "Epoch 12/120\n",
            "98/98 [==============================] - 8s 84ms/step - loss: 0.8040 - sparse_categorical_accuracy: 0.7787 - val_loss: 0.7260 - val_sparse_categorical_accuracy: 0.7997\n",
            "Epoch 13/120\n",
            "98/98 [==============================] - 7s 67ms/step - loss: 0.7893 - sparse_categorical_accuracy: 0.7835 - val_loss: 0.7124 - val_sparse_categorical_accuracy: 0.8091\n",
            "Epoch 14/120\n",
            "98/98 [==============================] - 8s 84ms/step - loss: 0.7787 - sparse_categorical_accuracy: 0.7868 - val_loss: 0.7045 - val_sparse_categorical_accuracy: 0.8105\n",
            "Epoch 15/120\n",
            "98/98 [==============================] - 7s 70ms/step - loss: 0.7671 - sparse_categorical_accuracy: 0.7911 - val_loss: 0.6967 - val_sparse_categorical_accuracy: 0.8123\n",
            "Epoch 16/120\n",
            "98/98 [==============================] - 8s 81ms/step - loss: 0.7581 - sparse_categorical_accuracy: 0.7948 - val_loss: 0.6903 - val_sparse_categorical_accuracy: 0.8157\n",
            "Epoch 17/120\n",
            "98/98 [==============================] - 7s 67ms/step - loss: 0.7481 - sparse_categorical_accuracy: 0.7983 - val_loss: 0.6854 - val_sparse_categorical_accuracy: 0.8160\n",
            "Epoch 18/120\n",
            "98/98 [==============================] - 8s 82ms/step - loss: 0.7398 - sparse_categorical_accuracy: 0.7993 - val_loss: 0.6776 - val_sparse_categorical_accuracy: 0.8199\n",
            "Epoch 19/120\n",
            "98/98 [==============================] - 7s 68ms/step - loss: 0.7342 - sparse_categorical_accuracy: 0.8022 - val_loss: 0.6731 - val_sparse_categorical_accuracy: 0.8214\n",
            "Epoch 20/120\n",
            "98/98 [==============================] - 8s 81ms/step - loss: 0.7247 - sparse_categorical_accuracy: 0.8037 - val_loss: 0.6674 - val_sparse_categorical_accuracy: 0.8224\n",
            "Epoch 21/120\n",
            "98/98 [==============================] - 7s 71ms/step - loss: 0.7179 - sparse_categorical_accuracy: 0.8084 - val_loss: 0.6607 - val_sparse_categorical_accuracy: 0.8243\n",
            "Epoch 22/120\n",
            "98/98 [==============================] - 8s 80ms/step - loss: 0.7107 - sparse_categorical_accuracy: 0.8084 - val_loss: 0.6582 - val_sparse_categorical_accuracy: 0.8263\n",
            "Epoch 23/120\n",
            "98/98 [==============================] - 8s 84ms/step - loss: 0.7055 - sparse_categorical_accuracy: 0.8112 - val_loss: 0.6522 - val_sparse_categorical_accuracy: 0.8269\n",
            "Epoch 24/120\n",
            "98/98 [==============================] - 7s 67ms/step - loss: 0.6972 - sparse_categorical_accuracy: 0.8145 - val_loss: 0.6484 - val_sparse_categorical_accuracy: 0.8278\n",
            "Epoch 25/120\n",
            "98/98 [==============================] - 8s 84ms/step - loss: 0.6943 - sparse_categorical_accuracy: 0.8146 - val_loss: 0.6442 - val_sparse_categorical_accuracy: 0.8291\n",
            "Epoch 26/120\n",
            "98/98 [==============================] - 7s 70ms/step - loss: 0.6897 - sparse_categorical_accuracy: 0.8153 - val_loss: 0.6409 - val_sparse_categorical_accuracy: 0.8301\n",
            "Epoch 27/120\n",
            "98/98 [==============================] - 8s 82ms/step - loss: 0.6874 - sparse_categorical_accuracy: 0.8162 - val_loss: 0.6378 - val_sparse_categorical_accuracy: 0.8307\n",
            "Epoch 28/120\n",
            "98/98 [==============================] - 7s 67ms/step - loss: 0.6812 - sparse_categorical_accuracy: 0.8192 - val_loss: 0.6325 - val_sparse_categorical_accuracy: 0.8318\n",
            "Epoch 29/120\n",
            "98/98 [==============================] - 8s 84ms/step - loss: 0.6769 - sparse_categorical_accuracy: 0.8190 - val_loss: 0.6292 - val_sparse_categorical_accuracy: 0.8326\n",
            "Epoch 30/120\n",
            "98/98 [==============================] - 7s 76ms/step - loss: 0.6727 - sparse_categorical_accuracy: 0.8218 - val_loss: 0.6262 - val_sparse_categorical_accuracy: 0.8331\n",
            "Epoch 31/120\n",
            "98/98 [==============================] - 7s 76ms/step - loss: 0.6667 - sparse_categorical_accuracy: 0.8252 - val_loss: 0.6244 - val_sparse_categorical_accuracy: 0.8344\n",
            "Epoch 32/120\n",
            "98/98 [==============================] - 8s 82ms/step - loss: 0.6649 - sparse_categorical_accuracy: 0.8239 - val_loss: 0.6220 - val_sparse_categorical_accuracy: 0.8351\n",
            "Epoch 33/120\n",
            "98/98 [==============================] - 7s 67ms/step - loss: 0.6606 - sparse_categorical_accuracy: 0.8245 - val_loss: 0.6188 - val_sparse_categorical_accuracy: 0.8349\n",
            "Epoch 34/120\n",
            "98/98 [==============================] - 8s 84ms/step - loss: 0.6554 - sparse_categorical_accuracy: 0.8278 - val_loss: 0.6147 - val_sparse_categorical_accuracy: 0.8368\n",
            "Epoch 35/120\n",
            "98/98 [==============================] - 7s 70ms/step - loss: 0.6547 - sparse_categorical_accuracy: 0.8275 - val_loss: 0.6138 - val_sparse_categorical_accuracy: 0.8373\n",
            "Epoch 36/120\n",
            "98/98 [==============================] - 8s 84ms/step - loss: 0.6498 - sparse_categorical_accuracy: 0.8300 - val_loss: 0.6100 - val_sparse_categorical_accuracy: 0.8389\n",
            "Epoch 37/120\n",
            "98/98 [==============================] - 7s 67ms/step - loss: 0.6469 - sparse_categorical_accuracy: 0.8295 - val_loss: 0.6080 - val_sparse_categorical_accuracy: 0.8391\n",
            "Epoch 38/120\n",
            "98/98 [==============================] - 8s 82ms/step - loss: 0.6443 - sparse_categorical_accuracy: 0.8312 - val_loss: 0.6047 - val_sparse_categorical_accuracy: 0.8391\n",
            "Epoch 39/120\n",
            "98/98 [==============================] - 7s 69ms/step - loss: 0.6418 - sparse_categorical_accuracy: 0.8300 - val_loss: 0.6030 - val_sparse_categorical_accuracy: 0.8404\n",
            "Epoch 40/120\n",
            "98/98 [==============================] - 8s 83ms/step - loss: 0.6381 - sparse_categorical_accuracy: 0.8317 - val_loss: 0.6014 - val_sparse_categorical_accuracy: 0.8403\n",
            "Epoch 41/120\n",
            "98/98 [==============================] - 8s 82ms/step - loss: 0.6351 - sparse_categorical_accuracy: 0.8336 - val_loss: 0.5992 - val_sparse_categorical_accuracy: 0.8409\n",
            "Epoch 42/120\n",
            "98/98 [==============================] - 7s 69ms/step - loss: 0.6354 - sparse_categorical_accuracy: 0.8337 - val_loss: 0.5976 - val_sparse_categorical_accuracy: 0.8419\n",
            "Epoch 43/120\n",
            "98/98 [==============================] - 8s 84ms/step - loss: 0.6300 - sparse_categorical_accuracy: 0.8365 - val_loss: 0.5963 - val_sparse_categorical_accuracy: 0.8423\n",
            "Epoch 44/120\n",
            "98/98 [==============================] - 7s 67ms/step - loss: 0.6278 - sparse_categorical_accuracy: 0.8367 - val_loss: 0.5925 - val_sparse_categorical_accuracy: 0.8423\n",
            "Epoch 45/120\n",
            "98/98 [==============================] - 8s 84ms/step - loss: 0.6259 - sparse_categorical_accuracy: 0.8364 - val_loss: 0.5919 - val_sparse_categorical_accuracy: 0.8436\n",
            "Epoch 46/120\n",
            "98/98 [==============================] - 7s 70ms/step - loss: 0.6253 - sparse_categorical_accuracy: 0.8376 - val_loss: 0.5890 - val_sparse_categorical_accuracy: 0.8435\n",
            "Epoch 47/120\n",
            "98/98 [==============================] - 8s 84ms/step - loss: 0.6219 - sparse_categorical_accuracy: 0.8374 - val_loss: 0.5880 - val_sparse_categorical_accuracy: 0.8449\n",
            "Epoch 48/120\n",
            "98/98 [==============================] - 7s 68ms/step - loss: 0.6187 - sparse_categorical_accuracy: 0.8393 - val_loss: 0.5869 - val_sparse_categorical_accuracy: 0.8450\n",
            "Epoch 49/120\n",
            "98/98 [==============================] - 8s 81ms/step - loss: 0.6174 - sparse_categorical_accuracy: 0.8386 - val_loss: 0.5856 - val_sparse_categorical_accuracy: 0.8466\n",
            "Epoch 50/120\n",
            "98/98 [==============================] - 8s 82ms/step - loss: 0.6131 - sparse_categorical_accuracy: 0.8405 - val_loss: 0.5834 - val_sparse_categorical_accuracy: 0.8468\n",
            "Epoch 51/120\n",
            "98/98 [==============================] - 7s 70ms/step - loss: 0.6128 - sparse_categorical_accuracy: 0.8401 - val_loss: 0.5805 - val_sparse_categorical_accuracy: 0.8472\n",
            "Epoch 52/120\n",
            "98/98 [==============================] - 8s 82ms/step - loss: 0.6102 - sparse_categorical_accuracy: 0.8410 - val_loss: 0.5795 - val_sparse_categorical_accuracy: 0.8481\n",
            "Epoch 53/120\n",
            "98/98 [==============================] - 7s 68ms/step - loss: 0.6079 - sparse_categorical_accuracy: 0.8413 - val_loss: 0.5794 - val_sparse_categorical_accuracy: 0.8487\n",
            "Epoch 54/120\n",
            "98/98 [==============================] - 8s 84ms/step - loss: 0.6064 - sparse_categorical_accuracy: 0.8428 - val_loss: 0.5782 - val_sparse_categorical_accuracy: 0.8487\n",
            "Epoch 55/120\n",
            "98/98 [==============================] - 7s 70ms/step - loss: 0.6038 - sparse_categorical_accuracy: 0.8432 - val_loss: 0.5753 - val_sparse_categorical_accuracy: 0.8513\n",
            "Epoch 56/120\n",
            "98/98 [==============================] - 8s 85ms/step - loss: 0.6008 - sparse_categorical_accuracy: 0.8448 - val_loss: 0.5747 - val_sparse_categorical_accuracy: 0.8508\n",
            "Epoch 57/120\n",
            "98/98 [==============================] - 7s 68ms/step - loss: 0.5999 - sparse_categorical_accuracy: 0.8451 - val_loss: 0.5731 - val_sparse_categorical_accuracy: 0.8504\n",
            "Epoch 58/120\n",
            "98/98 [==============================] - 8s 84ms/step - loss: 0.5987 - sparse_categorical_accuracy: 0.8447 - val_loss: 0.5700 - val_sparse_categorical_accuracy: 0.8524\n",
            "Epoch 59/120\n",
            "98/98 [==============================] - 10s 106ms/step - loss: 0.5980 - sparse_categorical_accuracy: 0.8448 - val_loss: 0.5698 - val_sparse_categorical_accuracy: 0.8509\n",
            "Epoch 60/120\n",
            "98/98 [==============================] - 7s 68ms/step - loss: 0.5936 - sparse_categorical_accuracy: 0.8475 - val_loss: 0.5696 - val_sparse_categorical_accuracy: 0.8521\n",
            "Epoch 61/120\n",
            "98/98 [==============================] - 8s 85ms/step - loss: 0.5935 - sparse_categorical_accuracy: 0.8459 - val_loss: 0.5679 - val_sparse_categorical_accuracy: 0.8545\n",
            "Epoch 62/120\n",
            "98/98 [==============================] - 7s 70ms/step - loss: 0.5919 - sparse_categorical_accuracy: 0.8470 - val_loss: 0.5652 - val_sparse_categorical_accuracy: 0.8540\n",
            "Epoch 63/120\n",
            "98/98 [==============================] - 8s 82ms/step - loss: 0.5895 - sparse_categorical_accuracy: 0.8471 - val_loss: 0.5655 - val_sparse_categorical_accuracy: 0.8545\n",
            "Epoch 64/120\n",
            "98/98 [==============================] - 7s 70ms/step - loss: 0.5867 - sparse_categorical_accuracy: 0.8481 - val_loss: 0.5638 - val_sparse_categorical_accuracy: 0.8557\n",
            "Epoch 65/120\n",
            "98/98 [==============================] - 8s 80ms/step - loss: 0.5882 - sparse_categorical_accuracy: 0.8481 - val_loss: 0.5613 - val_sparse_categorical_accuracy: 0.8558\n",
            "Epoch 66/120\n",
            "98/98 [==============================] - 8s 77ms/step - loss: 0.5864 - sparse_categorical_accuracy: 0.8495 - val_loss: 0.5604 - val_sparse_categorical_accuracy: 0.8554\n",
            "Epoch 67/120\n",
            "98/98 [==============================] - 7s 73ms/step - loss: 0.5837 - sparse_categorical_accuracy: 0.8491 - val_loss: 0.5594 - val_sparse_categorical_accuracy: 0.8559\n",
            "Epoch 68/120\n",
            "98/98 [==============================] - 8s 83ms/step - loss: 0.5818 - sparse_categorical_accuracy: 0.8498 - val_loss: 0.5591 - val_sparse_categorical_accuracy: 0.8571\n",
            "Epoch 69/120\n",
            "98/98 [==============================] - 7s 70ms/step - loss: 0.5779 - sparse_categorical_accuracy: 0.8511 - val_loss: 0.5583 - val_sparse_categorical_accuracy: 0.8567\n",
            "Epoch 70/120\n",
            "98/98 [==============================] - 8s 82ms/step - loss: 0.5775 - sparse_categorical_accuracy: 0.8516 - val_loss: 0.5560 - val_sparse_categorical_accuracy: 0.8582\n",
            "Epoch 71/120\n",
            "98/98 [==============================] - 7s 70ms/step - loss: 0.5770 - sparse_categorical_accuracy: 0.8504 - val_loss: 0.5550 - val_sparse_categorical_accuracy: 0.8596\n",
            "Epoch 72/120\n",
            "98/98 [==============================] - 8s 82ms/step - loss: 0.5766 - sparse_categorical_accuracy: 0.8514 - val_loss: 0.5540 - val_sparse_categorical_accuracy: 0.8601\n",
            "Epoch 73/120\n",
            "98/98 [==============================] - 7s 70ms/step - loss: 0.5741 - sparse_categorical_accuracy: 0.8521 - val_loss: 0.5535 - val_sparse_categorical_accuracy: 0.8602\n",
            "Epoch 74/120\n",
            "98/98 [==============================] - 8s 84ms/step - loss: 0.5736 - sparse_categorical_accuracy: 0.8526 - val_loss: 0.5528 - val_sparse_categorical_accuracy: 0.8595\n",
            "Epoch 75/120\n",
            "98/98 [==============================] - 7s 73ms/step - loss: 0.5721 - sparse_categorical_accuracy: 0.8538 - val_loss: 0.5517 - val_sparse_categorical_accuracy: 0.8590\n",
            "Epoch 76/120\n",
            "98/98 [==============================] - 8s 79ms/step - loss: 0.5687 - sparse_categorical_accuracy: 0.8552 - val_loss: 0.5499 - val_sparse_categorical_accuracy: 0.8598\n",
            "Epoch 77/120\n",
            "98/98 [==============================] - 9s 87ms/step - loss: 0.5701 - sparse_categorical_accuracy: 0.8544 - val_loss: 0.5488 - val_sparse_categorical_accuracy: 0.8604\n",
            "Epoch 78/120\n",
            "98/98 [==============================] - 7s 68ms/step - loss: 0.5693 - sparse_categorical_accuracy: 0.8538 - val_loss: 0.5481 - val_sparse_categorical_accuracy: 0.8609\n",
            "Epoch 79/120\n",
            "98/98 [==============================] - 8s 84ms/step - loss: 0.5675 - sparse_categorical_accuracy: 0.8552 - val_loss: 0.5469 - val_sparse_categorical_accuracy: 0.8610\n",
            "Epoch 80/120\n",
            "98/98 [==============================] - 7s 70ms/step - loss: 0.5660 - sparse_categorical_accuracy: 0.8557 - val_loss: 0.5462 - val_sparse_categorical_accuracy: 0.8621\n",
            "Epoch 81/120\n",
            "98/98 [==============================] - 8s 83ms/step - loss: 0.5646 - sparse_categorical_accuracy: 0.8559 - val_loss: 0.5453 - val_sparse_categorical_accuracy: 0.8623\n",
            "Epoch 82/120\n",
            "98/98 [==============================] - 7s 70ms/step - loss: 0.5619 - sparse_categorical_accuracy: 0.8560 - val_loss: 0.5448 - val_sparse_categorical_accuracy: 0.8617\n",
            "Epoch 83/120\n",
            "98/98 [==============================] - 8s 83ms/step - loss: 0.5621 - sparse_categorical_accuracy: 0.8575 - val_loss: 0.5428 - val_sparse_categorical_accuracy: 0.8631\n",
            "Epoch 84/120\n",
            "98/98 [==============================] - 8s 80ms/step - loss: 0.5607 - sparse_categorical_accuracy: 0.8572 - val_loss: 0.5424 - val_sparse_categorical_accuracy: 0.8625\n",
            "Epoch 85/120\n",
            "98/98 [==============================] - 7s 74ms/step - loss: 0.5598 - sparse_categorical_accuracy: 0.8567 - val_loss: 0.5412 - val_sparse_categorical_accuracy: 0.8627\n",
            "Epoch 86/120\n",
            "98/98 [==============================] - 8s 85ms/step - loss: 0.5581 - sparse_categorical_accuracy: 0.8582 - val_loss: 0.5409 - val_sparse_categorical_accuracy: 0.8627\n",
            "Epoch 87/120\n",
            "98/98 [==============================] - 7s 70ms/step - loss: 0.5569 - sparse_categorical_accuracy: 0.8586 - val_loss: 0.5394 - val_sparse_categorical_accuracy: 0.8633\n",
            "Epoch 88/120\n",
            "98/98 [==============================] - 8s 82ms/step - loss: 0.5567 - sparse_categorical_accuracy: 0.8588 - val_loss: 0.5391 - val_sparse_categorical_accuracy: 0.8642\n",
            "Epoch 89/120\n",
            "98/98 [==============================] - 7s 71ms/step - loss: 0.5575 - sparse_categorical_accuracy: 0.8591 - val_loss: 0.5386 - val_sparse_categorical_accuracy: 0.8630\n",
            "Epoch 90/120\n",
            "98/98 [==============================] - 8s 85ms/step - loss: 0.5520 - sparse_categorical_accuracy: 0.8593 - val_loss: 0.5378 - val_sparse_categorical_accuracy: 0.8641\n",
            "Epoch 91/120\n",
            "98/98 [==============================] - 7s 71ms/step - loss: 0.5535 - sparse_categorical_accuracy: 0.8599 - val_loss: 0.5361 - val_sparse_categorical_accuracy: 0.8654\n",
            "Epoch 92/120\n",
            "98/98 [==============================] - 8s 82ms/step - loss: 0.5522 - sparse_categorical_accuracy: 0.8586 - val_loss: 0.5365 - val_sparse_categorical_accuracy: 0.8641\n",
            "Epoch 93/120\n",
            "98/98 [==============================] - 8s 80ms/step - loss: 0.5503 - sparse_categorical_accuracy: 0.8601 - val_loss: 0.5349 - val_sparse_categorical_accuracy: 0.8649\n",
            "Epoch 94/120\n",
            "98/98 [==============================] - 7s 71ms/step - loss: 0.5506 - sparse_categorical_accuracy: 0.8618 - val_loss: 0.5343 - val_sparse_categorical_accuracy: 0.8646\n",
            "Epoch 95/120\n",
            "98/98 [==============================] - 8s 85ms/step - loss: 0.5497 - sparse_categorical_accuracy: 0.8609 - val_loss: 0.5335 - val_sparse_categorical_accuracy: 0.8657\n",
            "Epoch 96/120\n",
            "98/98 [==============================] - 7s 70ms/step - loss: 0.5483 - sparse_categorical_accuracy: 0.8616 - val_loss: 0.5334 - val_sparse_categorical_accuracy: 0.8650\n",
            "Epoch 97/120\n",
            "98/98 [==============================] - 8s 83ms/step - loss: 0.5463 - sparse_categorical_accuracy: 0.8613 - val_loss: 0.5320 - val_sparse_categorical_accuracy: 0.8653\n",
            "Epoch 98/120\n",
            "98/98 [==============================] - 7s 68ms/step - loss: 0.5461 - sparse_categorical_accuracy: 0.8624 - val_loss: 0.5310 - val_sparse_categorical_accuracy: 0.8660\n",
            "Epoch 99/120\n",
            "98/98 [==============================] - 8s 85ms/step - loss: 0.5462 - sparse_categorical_accuracy: 0.8609 - val_loss: 0.5305 - val_sparse_categorical_accuracy: 0.8660\n",
            "Epoch 100/120\n",
            "98/98 [==============================] - 7s 71ms/step - loss: 0.5453 - sparse_categorical_accuracy: 0.8624 - val_loss: 0.5294 - val_sparse_categorical_accuracy: 0.8662\n",
            "Epoch 101/120\n",
            "98/98 [==============================] - 8s 83ms/step - loss: 0.5439 - sparse_categorical_accuracy: 0.8619 - val_loss: 0.5291 - val_sparse_categorical_accuracy: 0.8657\n",
            "Epoch 102/120\n",
            "98/98 [==============================] - 8s 84ms/step - loss: 0.5412 - sparse_categorical_accuracy: 0.8639 - val_loss: 0.5291 - val_sparse_categorical_accuracy: 0.8659\n",
            "Epoch 103/120\n",
            "98/98 [==============================] - 7s 73ms/step - loss: 0.5405 - sparse_categorical_accuracy: 0.8631 - val_loss: 0.5274 - val_sparse_categorical_accuracy: 0.8671\n",
            "Epoch 104/120\n",
            "98/98 [==============================] - 8s 85ms/step - loss: 0.5405 - sparse_categorical_accuracy: 0.8637 - val_loss: 0.5279 - val_sparse_categorical_accuracy: 0.8668\n",
            "Epoch 105/120\n",
            "98/98 [==============================] - 7s 71ms/step - loss: 0.5401 - sparse_categorical_accuracy: 0.8629 - val_loss: 0.5261 - val_sparse_categorical_accuracy: 0.8667\n",
            "Epoch 106/120\n",
            "98/98 [==============================] - 8s 83ms/step - loss: 0.5376 - sparse_categorical_accuracy: 0.8642 - val_loss: 0.5261 - val_sparse_categorical_accuracy: 0.8678\n",
            "Epoch 107/120\n",
            "98/98 [==============================] - 7s 71ms/step - loss: 0.5388 - sparse_categorical_accuracy: 0.8622 - val_loss: 0.5249 - val_sparse_categorical_accuracy: 0.8676\n",
            "Epoch 108/120\n",
            "98/98 [==============================] - 8s 85ms/step - loss: 0.5370 - sparse_categorical_accuracy: 0.8640 - val_loss: 0.5243 - val_sparse_categorical_accuracy: 0.8686\n",
            "Epoch 109/120\n",
            "98/98 [==============================] - 8s 83ms/step - loss: 0.5346 - sparse_categorical_accuracy: 0.8672 - val_loss: 0.5241 - val_sparse_categorical_accuracy: 0.8686\n",
            "Epoch 110/120\n",
            "98/98 [==============================] - 7s 72ms/step - loss: 0.5335 - sparse_categorical_accuracy: 0.8655 - val_loss: 0.5232 - val_sparse_categorical_accuracy: 0.8678\n",
            "Epoch 111/120\n",
            "98/98 [==============================] - 8s 82ms/step - loss: 0.5345 - sparse_categorical_accuracy: 0.8664 - val_loss: 0.5228 - val_sparse_categorical_accuracy: 0.8685\n",
            "Epoch 112/120\n",
            "98/98 [==============================] - 7s 71ms/step - loss: 0.5334 - sparse_categorical_accuracy: 0.8647 - val_loss: 0.5213 - val_sparse_categorical_accuracy: 0.8686\n",
            "Epoch 113/120\n",
            "98/98 [==============================] - 8s 85ms/step - loss: 0.5334 - sparse_categorical_accuracy: 0.8660 - val_loss: 0.5214 - val_sparse_categorical_accuracy: 0.8684\n",
            "Epoch 114/120\n",
            "98/98 [==============================] - 7s 69ms/step - loss: 0.5303 - sparse_categorical_accuracy: 0.8668 - val_loss: 0.5213 - val_sparse_categorical_accuracy: 0.8689\n",
            "Epoch 115/120\n",
            "98/98 [==============================] - 8s 85ms/step - loss: 0.5315 - sparse_categorical_accuracy: 0.8666 - val_loss: 0.5202 - val_sparse_categorical_accuracy: 0.8688\n",
            "Epoch 116/120\n",
            "98/98 [==============================] - 8s 79ms/step - loss: 0.5299 - sparse_categorical_accuracy: 0.8683 - val_loss: 0.5193 - val_sparse_categorical_accuracy: 0.8695\n",
            "Epoch 117/120\n",
            "98/98 [==============================] - 7s 76ms/step - loss: 0.5282 - sparse_categorical_accuracy: 0.8674 - val_loss: 0.5190 - val_sparse_categorical_accuracy: 0.8699\n",
            "Epoch 118/120\n",
            "98/98 [==============================] - 8s 85ms/step - loss: 0.5266 - sparse_categorical_accuracy: 0.8668 - val_loss: 0.5183 - val_sparse_categorical_accuracy: 0.8705\n",
            "Epoch 119/120\n",
            "98/98 [==============================] - 7s 69ms/step - loss: 0.5278 - sparse_categorical_accuracy: 0.8673 - val_loss: 0.5174 - val_sparse_categorical_accuracy: 0.8714\n",
            "Epoch 120/120\n",
            "98/98 [==============================] - 8s 85ms/step - loss: 0.5274 - sparse_categorical_accuracy: 0.8675 - val_loss: 0.5171 - val_sparse_categorical_accuracy: 0.8703\n",
            "313/313 [==============================] - 1s 4ms/step - loss: 0.5387 - sparse_categorical_accuracy: 0.8611\n",
            "\n",
            "Test accuracy: 0.8611000180244446\n"
          ]
        }
      ]
    },
    {
      "cell_type": "code",
      "source": [
        "print('\\nhistory dict:', list(history.history.keys()))"
      ],
      "metadata": {
        "id": "CxRE-B_Q6Sii",
        "outputId": "f5a58af2-7ccf-4047-d1ed-8e319c83bddc",
        "colab": {
          "base_uri": "https://localhost:8080/"
        }
      },
      "execution_count": 138,
      "outputs": [
        {
          "output_type": "stream",
          "name": "stdout",
          "text": [
            "\n",
            "history dict: ['loss', 'sparse_categorical_accuracy', 'val_loss', 'val_sparse_categorical_accuracy']\n"
          ]
        }
      ]
    },
    {
      "cell_type": "code",
      "source": [
        "history_dict = history.history\n",
        "loss_values = history_dict['loss']\n",
        "val_loss_values = history_dict['val_loss']\n",
        "\n",
        "epochs = range(1, len(history_dict['loss']) + 1)\n",
        "\n",
        "plt.figure(figsize=(10, 5))\n",
        "plt.plot(epochs, loss_values, 'bo', label='Training loss')\n",
        "plt.plot(epochs, val_loss_values, 'b', label='Validation loss')\n",
        "plt.title('Training and validation loss')\n",
        "plt.xlabel('Epochs')\n",
        "plt.ylabel('Loss')\n",
        "plt.legend()\n",
        "plt.grid(True)\n",
        "plt.show()\n",
        "\n",
        "plt.clf()\n",
        "plt.figure(figsize=(10, 5))\n",
        "val_acc_values = history_dict['sparse_categorical_accuracy']\n",
        "plt.plot(epochs, history_dict['sparse_categorical_accuracy'], 'bo', label='Training acc')\n",
        "plt.plot(epochs, history_dict['val_sparse_categorical_accuracy'], 'b', label='Validation acc')\n",
        "plt.title('Training and validation accuracy')\n",
        "plt.xlabel('Epochs')\n",
        "plt.ylabel('Accuracy')\n",
        "plt.legend()\n",
        "plt.grid(True)"
      ],
      "metadata": {
        "colab": {
          "base_uri": "https://localhost:8080/",
          "height": 975
        },
        "id": "2Ll_5sGlXKMH",
        "outputId": "6816101d-4a11-4af1-c97d-5ad36b70733a"
      },
      "execution_count": 139,
      "outputs": [
        {
          "output_type": "display_data",
          "data": {
            "text/plain": [
              "<Figure size 1000x500 with 1 Axes>"
            ],
            "image/png": "[encoded data removed]"
          },
          "metadata": {}
        },
        {
          "output_type": "display_data",
          "data": {
            "text/plain": [
              "<Figure size 640x480 with 0 Axes>"
            ]
          },
          "metadata": {}
        },
        {
          "output_type": "display_data",
          "data": {
            "text/plain": [
              "<Figure size 1000x500 with 1 Axes>"
            ],
            "image/png": "[encoded data removed]"
          },
          "metadata": {}
        }
      ]
    },
    {
      "cell_type": "code",
      "source": [
        "probability_model = tf.keras.Sequential([model,\n",
        "                                         tf.keras.layers.Softmax()])"
      ],
      "metadata": {
        "id": "VzOdKAT_uV-f"
      },
      "execution_count": 140,
      "outputs": []
    },
    {
      "cell_type": "code",
      "source": [
        "predictions = probability_model.predict(x_test)"
      ],
      "metadata": {
        "id": "f4is3NFruYom",
        "outputId": "e6bad86e-5c35-4c66-e72b-d3e50537be51",
        "colab": {
          "base_uri": "https://localhost:8080/"
        }
      },
      "execution_count": 141,
      "outputs": [
        {
          "output_type": "stream",
          "name": "stdout",
          "text": [
            "313/313 [==============================] - 1s 4ms/step\n"
          ]
        }
      ]
    },
    {
      "cell_type": "code",
      "source": [
        "predictions[0]"
      ],
      "metadata": {
        "id": "82cigvlZudz_",
        "outputId": "6c12a8dd-24d2-480a-9c73-285dd4be6fd2",
        "colab": {
          "base_uri": "https://localhost:8080/"
        }
      },
      "execution_count": 142,
      "outputs": [
        {
          "output_type": "execute_result",
          "data": {
            "text/plain": [
              "array([0.08694863, 0.08694585, 0.08694728, 0.08694892, 0.08694817,\n",
              "       0.08942833, 0.08694919, 0.09774844, 0.08704544, 0.20408976],\n",
              "      dtype=float32)"
            ]
          },
          "metadata": {},
          "execution_count": 142
        }
      ]
    },
    {
      "cell_type": "code",
      "source": [
        "model.summary()"
      ],
      "metadata": {
        "id": "6RsQPHyYuNGe",
        "outputId": "ca27e6ca-df20-4d16-d324-36451fcac3f8",
        "colab": {
          "base_uri": "https://localhost:8080/"
        }
      },
      "execution_count": 143,
      "outputs": [
        {
          "output_type": "stream",
          "name": "stdout",
          "text": [
            "Model: \"sequential_20\"\n",
            "_________________________________________________________________\n",
            " Layer (type)                Output Shape              Param #   \n",
            "=================================================================\n",
            " flatten_10 (Flatten)        (None, 784)               0         \n",
            "                                                                 \n",
            " dense_33 (Dense)            (None, 784)               615440    \n",
            "                                                                 \n",
            " dropout_23 (Dropout)        (None, 784)               0         \n",
            "                                                                 \n",
            " dense_34 (Dense)            (None, 784)               615440    \n",
            "                                                                 \n",
            " dropout_24 (Dropout)        (None, 784)               0         \n",
            "                                                                 \n",
            " dense_35 (Dense)            (None, 10)                7850      \n",
            "                                                                 \n",
            "=================================================================\n",
            "Total params: 1238730 (4.73 MB)\n",
            "Trainable params: 1238730 (4.73 MB)\n",
            "Non-trainable params: 0 (0.00 Byte)\n",
            "_________________________________________________________________\n"
          ]
        }
      ]
    }
  ]
}