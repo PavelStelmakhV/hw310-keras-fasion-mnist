{
  "nbformat": 4,
  "nbformat_minor": 0,
  "metadata": {
    "colab": {
      "provenance": [],
      "gpuType": "T4",
      "authorship_tag": "ABX9TyNAHwiUZHCZE3HvznXqCldE",
      "include_colab_link": true
    },
    "kernelspec": {
      "name": "python3",
      "display_name": "Python 3"
    },
    "language_info": {
      "name": "python"
    },
    "accelerator": "GPU"
  },
  "cells": [
    {
      "cell_type": "markdown",
      "metadata": {
        "id": "view-in-github",
        "colab_type": "text"
      },
      "source": [
        "<a href=\"https://colab.research.google.com/github/PavelStelmakhV/hw310-keras-fasion-mnist/blob/main/keras_fasion_mnist_hw.ipynb\" target=\"_parent\"><img src=\"https://colab.research.google.com/assets/colab-badge.svg\" alt=\"Open In Colab\"/></a>"
      ]
    },
    {
      "cell_type": "code",
      "execution_count": 1,
      "metadata": {
        "id": "vv7w0bgAVQPO"
      },
      "outputs": [],
      "source": [
        "import tensorflow as tf\n",
        "import numpy as np\n",
        "import matplotlib.pyplot as plt\n",
        "import tf_keras\n",
        "\n",
        "from keras import layers\n",
        "from keras import regularizers\n",
        "from keras import callbacks\n",
        "from keras import initializers\n",
        "from keras.layers import BatchNormalization\n",
        "from keras.models import load_model"
      ]
    },
    {
      "cell_type": "code",
      "source": [
        "fashion_mnist = tf.keras.datasets.fashion_mnist\n",
        "\n",
        "(x_train, y_train), (x_test, y_test) = fashion_mnist.load_data()"
      ],
      "metadata": {
        "id": "mOpywsNAzfGB",
        "outputId": "9cb016dd-8a84-435a-93be-58ef0cbfb2f5",
        "colab": {
          "base_uri": "https://localhost:8080/"
        }
      },
      "execution_count": 2,
      "outputs": [
        {
          "output_type": "stream",
          "name": "stdout",
          "text": [
            "Downloading data from https://storage.googleapis.com/tensorflow/tf-keras-datasets/train-labels-idx1-ubyte.gz\n",
            "29515/29515 [==============================] - 0s 0us/step\n",
            "Downloading data from https://storage.googleapis.com/tensorflow/tf-keras-datasets/train-images-idx3-ubyte.gz\n",
            "26421880/26421880 [==============================] - 0s 0us/step\n",
            "Downloading data from https://storage.googleapis.com/tensorflow/tf-keras-datasets/t10k-labels-idx1-ubyte.gz\n",
            "5148/5148 [==============================] - 0s 0us/step\n",
            "Downloading data from https://storage.googleapis.com/tensorflow/tf-keras-datasets/t10k-images-idx3-ubyte.gz\n",
            "4422102/4422102 [==============================] - 0s 0us/step\n"
          ]
        }
      ]
    },
    {
      "cell_type": "code",
      "source": [
        "x_train = x_train.astype('float32') / 255\n",
        "x_test = x_test.astype('float32') / 255\n",
        "\n",
        "y_train = y_train.astype('float32')\n",
        "y_test = y_test.astype('float32')"
      ],
      "metadata": {
        "id": "t2gucjsJ0KUi"
      },
      "execution_count": 3,
      "outputs": []
    },
    {
      "cell_type": "code",
      "source": [
        "w_init_tanh = initializers.glorot_normal(seed=66)\n",
        "w_init_relu = initializers.HeNormal(seed=66)\n",
        "b_init = initializers.Zeros()"
      ],
      "metadata": {
        "id": "yL9QTEtBGy4N"
      },
      "execution_count": 4,
      "outputs": []
    },
    {
      "cell_type": "code",
      "source": [
        "drop_out = 0.35"
      ],
      "metadata": {
        "id": "flsDcVTnU10J"
      },
      "execution_count": 5,
      "outputs": []
    },
    {
      "cell_type": "code",
      "source": [
        "def layer_relu(model, neurons):\n",
        "  model.add(BatchNormalization())\n",
        "  model.add(layers.Dense(neurons,\n",
        "                       activation='relu',\n",
        "                       kernel_initializer=w_init_relu,\n",
        "                       bias_initializer=b_init))\n",
        "  model.add(layers.Dropout(drop_out))\n",
        "  return model"
      ],
      "metadata": {
        "id": "ZZgs_25rKBCp"
      },
      "execution_count": 6,
      "outputs": []
    },
    {
      "cell_type": "code",
      "source": [
        "def layer_tanh(model, neurons):\n",
        "  model.add(BatchNormalization())\n",
        "  model.add(layers.Dense(neurons,\n",
        "                        activation='tanh',\n",
        "                        kernel_initializer=w_init_tanh,\n",
        "                        bias_initializer=b_init))\n",
        "  model.add(layers.Dropout(drop_out))\n",
        "  return model"
      ],
      "metadata": {
        "id": "90JLLnkBR50t"
      },
      "execution_count": 7,
      "outputs": []
    },
    {
      "cell_type": "code",
      "source": [],
      "metadata": {
        "id": "Va9BaQ9eG_uz"
      },
      "execution_count": 7,
      "outputs": []
    },
    {
      "cell_type": "code",
      "source": [
        "model = tf.keras.Sequential()\n",
        "\n",
        "# drop_out = 0.50\n",
        "neurons = 256\n",
        "\n",
        "model.add(layers.Flatten(input_shape=(28, 28)))\n",
        "model.add(layers.Dropout(drop_out))\n",
        "\n",
        "model = layer_relu(model, neurons*1)\n",
        "# model = layer_tanh(model, neurons*1)\n",
        "model = layer_tanh(model, neurons*2)\n",
        "model = layer_relu(model, neurons*2)\n",
        "\n",
        "model.add(layers.Dense(10, activation='softmax'))"
      ],
      "metadata": {
        "id": "atS39i4d0aqW"
      },
      "execution_count": 8,
      "outputs": []
    },
    {
      "cell_type": "markdown",
      "source": [
        "++++++++++++++++++++++++++++++++++++++++++++++++++++++++++++++++++++++++++++++++"
      ],
      "metadata": {
        "id": "tZO7hl7pM63y"
      }
    },
    {
      "cell_type": "code",
      "source": [
        "optimizer = tf.keras.optimizers.Nadam(learning_rate=0.0005,\n",
        "                                      beta_1=0.92,\n",
        "                                      beta_2=0.999,\n",
        "                                      epsilon=1e-08\n",
        ")"
      ],
      "metadata": {
        "id": "EzfnaqIZlfy8"
      },
      "execution_count": 9,
      "outputs": []
    },
    {
      "cell_type": "markdown",
      "source": [
        "++++++++++++++++++++++++++++++++++++++++++++++++++++++++++++++++++++++++++++++++"
      ],
      "metadata": {
        "id": "KHmBptvOM95Z"
      }
    },
    {
      "cell_type": "code",
      "source": [
        "model.compile(#optimizer='adam',\n",
        "              # optimizer='adamax',\n",
        "              optimizer=optimizer,\n",
        "              # optimizer='rmsprop',\n",
        "              # optimizer='sgd',\n",
        "              # optimizer='adadelta',\n",
        "              # loss='binary_crossentropy',\n",
        "              loss=tf.keras.losses.SparseCategoricalCrossentropy(),\n",
        "              metrics=['sparse_categorical_accuracy']) # sparse_categorical_accuracy"
      ],
      "metadata": {
        "id": "hENVaAC7ilNY"
      },
      "execution_count": 10,
      "outputs": []
    },
    {
      "cell_type": "code",
      "source": [
        "x = np.random.random((1, 28, 28))\n",
        "a = model.predict(x)\n",
        "_ = plt.hist(np.transpose(a))"
      ],
      "metadata": {
        "id": "RFgZHNNFMa8p",
        "outputId": "8c1cd1c7-dc86-4cb4-b4ea-86009fef99c0",
        "colab": {
          "base_uri": "https://localhost:8080/",
          "height": 448
        }
      },
      "execution_count": 11,
      "outputs": [
        {
          "output_type": "stream",
          "name": "stdout",
          "text": [
            "1/1 [==============================] - 0s 183ms/step\n"
          ]
        },
        {
          "output_type": "display_data",
          "data": {
            "text/plain": [
              "<Figure size 640x480 with 1 Axes>"
            ],
            "image/png": "[encoded data removed]"
          },
          "metadata": {}
        }
      ]
    },
    {
      "cell_type": "code",
      "source": [
        "y_pred = model.predict(x_test)"
      ],
      "metadata": {
        "id": "UDP8OKKZ8oQa",
        "outputId": "e508fc74-b726-4fb6-aaa1-3ba27401697c",
        "colab": {
          "base_uri": "https://localhost:8080/"
        }
      },
      "execution_count": 12,
      "outputs": [
        {
          "output_type": "stream",
          "name": "stdout",
          "text": [
            "313/313 [==============================] - 2s 5ms/step\n"
          ]
        }
      ]
    },
    {
      "cell_type": "code",
      "source": [
        "callback = callbacks.EarlyStopping(monitor='val_loss',\n",
        "                                   patience=50,\n",
        "                                   restore_best_weights=True,\n",
        "                                   )\n",
        "es = callbacks.EarlyStopping(monitor='val_loss', mode='min', verbose=0, patience=40)\n",
        "mc = callbacks.ModelCheckpoint('best_model.h5', monitor='sparse_categorical_accuracy', mode='max', verbose=0, save_best_only=True)\n"
      ],
      "metadata": {
        "id": "5ihU4exVlsjm"
      },
      "execution_count": 13,
      "outputs": []
    },
    {
      "cell_type": "code",
      "source": [
        "history = model.fit(x_train, y_train,\n",
        "                    epochs=200,\n",
        "                    batch_size=128,\n",
        "                    # callbacks=[callback],\n",
        "                    callbacks=[mc],\n",
        "                    verbose=1, #многословие\n",
        "                    validation_split=0.1\n",
        "                    # validation_data=(x_val, y_val)\n",
        "                    )\n",
        "test_loss, test_acc = model.evaluate(x_test, y_test)\n",
        "print('\\nTest accuracy:', test_acc)"
      ],
      "metadata": {
        "id": "FH8HcMNm233I",
        "outputId": "346afc87-39c3-4ed5-cfa4-909e710bc8fa",
        "colab": {
          "base_uri": "https://localhost:8080/"
        }
      },
      "execution_count": 14,
      "outputs": [
        {
          "output_type": "stream",
          "name": "stdout",
          "text": [
            "Epoch 1/200\n",
            "421/422 [============================>.] - ETA: 0s - loss: 0.9104 - sparse_categorical_accuracy: 0.6871"
          ]
        },
        {
          "output_type": "stream",
          "name": "stderr",
          "text": [
            "/usr/local/lib/python3.10/dist-packages/keras/src/engine/training.py:3103: UserWarning: You are saving your model as an HDF5 file via `model.save()`. This file format is considered legacy. We recommend using instead the native Keras format, e.g. `model.save('my_model.keras')`.\n",
            "  saving_api.save_model(\n"
          ]
        },
        {
          "output_type": "stream",
          "name": "stdout",
          "text": [
            "\b\b\b\b\b\b\b\b\b\b\b\b\b\b\b\b\b\b\b\b\b\b\b\b\b\b\b\b\b\b\b\b\b\b\b\b\b\b\b\b\b\b\b\b\b\b\b\b\b\b\b\b\b\b\b\b\b\b\b\b\b\b\b\b\b\b\b\b\b\b\b\b\b\b\b\b\b\b\b\b\b\b\b\b\b\b\b\b\b\b\b\b\b\b\b\b\b\b\b\b\b\b\b\r422/422 [==============================] - 23s 39ms/step - loss: 0.9098 - sparse_categorical_accuracy: 0.6873 - val_loss: 0.4622 - val_sparse_categorical_accuracy: 0.8268\n",
            "Epoch 2/200\n",
            "422/422 [==============================] - 10s 24ms/step - loss: 0.6164 - sparse_categorical_accuracy: 0.7758 - val_loss: 0.4217 - val_sparse_categorical_accuracy: 0.8402\n",
            "Epoch 3/200\n",
            "422/422 [==============================] - 10s 24ms/step - loss: 0.5415 - sparse_categorical_accuracy: 0.7997 - val_loss: 0.4042 - val_sparse_categorical_accuracy: 0.8483\n",
            "Epoch 4/200\n",
            "422/422 [==============================] - 9s 22ms/step - loss: 0.5078 - sparse_categorical_accuracy: 0.8125 - val_loss: 0.3923 - val_sparse_categorical_accuracy: 0.8515\n",
            "Epoch 5/200\n",
            "422/422 [==============================] - 10s 24ms/step - loss: 0.4800 - sparse_categorical_accuracy: 0.8215 - val_loss: 0.3711 - val_sparse_categorical_accuracy: 0.8563\n",
            "Epoch 6/200\n",
            "422/422 [==============================] - 10s 24ms/step - loss: 0.4607 - sparse_categorical_accuracy: 0.8271 - val_loss: 0.3619 - val_sparse_categorical_accuracy: 0.8615\n",
            "Epoch 7/200\n",
            "422/422 [==============================] - 10s 24ms/step - loss: 0.4504 - sparse_categorical_accuracy: 0.8329 - val_loss: 0.3590 - val_sparse_categorical_accuracy: 0.8628\n",
            "Epoch 8/200\n",
            "422/422 [==============================] - 10s 24ms/step - loss: 0.4375 - sparse_categorical_accuracy: 0.8372 - val_loss: 0.3506 - val_sparse_categorical_accuracy: 0.8692\n",
            "Epoch 9/200\n",
            "422/422 [==============================] - 9s 22ms/step - loss: 0.4247 - sparse_categorical_accuracy: 0.8413 - val_loss: 0.3481 - val_sparse_categorical_accuracy: 0.8697\n",
            "Epoch 10/200\n",
            "422/422 [==============================] - 11s 25ms/step - loss: 0.4168 - sparse_categorical_accuracy: 0.8441 - val_loss: 0.3334 - val_sparse_categorical_accuracy: 0.8750\n",
            "Epoch 11/200\n",
            "422/422 [==============================] - 10s 24ms/step - loss: 0.4106 - sparse_categorical_accuracy: 0.8460 - val_loss: 0.3308 - val_sparse_categorical_accuracy: 0.8775\n",
            "Epoch 12/200\n",
            "422/422 [==============================] - 11s 25ms/step - loss: 0.4049 - sparse_categorical_accuracy: 0.8507 - val_loss: 0.3302 - val_sparse_categorical_accuracy: 0.8802\n",
            "Epoch 13/200\n",
            "422/422 [==============================] - 10s 24ms/step - loss: 0.3981 - sparse_categorical_accuracy: 0.8517 - val_loss: 0.3276 - val_sparse_categorical_accuracy: 0.8797\n",
            "Epoch 14/200\n",
            "422/422 [==============================] - 9s 22ms/step - loss: 0.3934 - sparse_categorical_accuracy: 0.8522 - val_loss: 0.3232 - val_sparse_categorical_accuracy: 0.8783\n",
            "Epoch 15/200\n",
            "422/422 [==============================] - 10s 24ms/step - loss: 0.3895 - sparse_categorical_accuracy: 0.8549 - val_loss: 0.3259 - val_sparse_categorical_accuracy: 0.8790\n",
            "Epoch 16/200\n",
            "422/422 [==============================] - 10s 24ms/step - loss: 0.3822 - sparse_categorical_accuracy: 0.8580 - val_loss: 0.3156 - val_sparse_categorical_accuracy: 0.8807\n",
            "Epoch 17/200\n",
            "422/422 [==============================] - 10s 24ms/step - loss: 0.3807 - sparse_categorical_accuracy: 0.8565 - val_loss: 0.3237 - val_sparse_categorical_accuracy: 0.8775\n",
            "Epoch 18/200\n",
            "422/422 [==============================] - 10s 24ms/step - loss: 0.3765 - sparse_categorical_accuracy: 0.8579 - val_loss: 0.3106 - val_sparse_categorical_accuracy: 0.8873\n",
            "Epoch 19/200\n",
            "422/422 [==============================] - 9s 22ms/step - loss: 0.3724 - sparse_categorical_accuracy: 0.8615 - val_loss: 0.3166 - val_sparse_categorical_accuracy: 0.8835\n",
            "Epoch 20/200\n",
            "422/422 [==============================] - 10s 24ms/step - loss: 0.3686 - sparse_categorical_accuracy: 0.8602 - val_loss: 0.3080 - val_sparse_categorical_accuracy: 0.8875\n",
            "Epoch 21/200\n",
            "422/422 [==============================] - 10s 24ms/step - loss: 0.3658 - sparse_categorical_accuracy: 0.8614 - val_loss: 0.3099 - val_sparse_categorical_accuracy: 0.8888\n",
            "Epoch 22/200\n",
            "422/422 [==============================] - 10s 24ms/step - loss: 0.3613 - sparse_categorical_accuracy: 0.8643 - val_loss: 0.3010 - val_sparse_categorical_accuracy: 0.8890\n",
            "Epoch 23/200\n",
            "422/422 [==============================] - 10s 24ms/step - loss: 0.3602 - sparse_categorical_accuracy: 0.8645 - val_loss: 0.3153 - val_sparse_categorical_accuracy: 0.8830\n",
            "Epoch 24/200\n",
            "422/422 [==============================] - 9s 22ms/step - loss: 0.3571 - sparse_categorical_accuracy: 0.8678 - val_loss: 0.3070 - val_sparse_categorical_accuracy: 0.8847\n",
            "Epoch 25/200\n",
            "422/422 [==============================] - 10s 24ms/step - loss: 0.3556 - sparse_categorical_accuracy: 0.8651 - val_loss: 0.3034 - val_sparse_categorical_accuracy: 0.8875\n",
            "Epoch 26/200\n",
            "422/422 [==============================] - 10s 24ms/step - loss: 0.3509 - sparse_categorical_accuracy: 0.8681 - val_loss: 0.3015 - val_sparse_categorical_accuracy: 0.8880\n",
            "Epoch 27/200\n",
            "422/422 [==============================] - 10s 24ms/step - loss: 0.3499 - sparse_categorical_accuracy: 0.8695 - val_loss: 0.2986 - val_sparse_categorical_accuracy: 0.8900\n",
            "Epoch 28/200\n",
            "422/422 [==============================] - 10s 24ms/step - loss: 0.3475 - sparse_categorical_accuracy: 0.8695 - val_loss: 0.2903 - val_sparse_categorical_accuracy: 0.8918\n",
            "Epoch 29/200\n",
            "422/422 [==============================] - 9s 22ms/step - loss: 0.3466 - sparse_categorical_accuracy: 0.8691 - val_loss: 0.2985 - val_sparse_categorical_accuracy: 0.8908\n",
            "Epoch 30/200\n",
            "422/422 [==============================] - 10s 24ms/step - loss: 0.3429 - sparse_categorical_accuracy: 0.8706 - val_loss: 0.2943 - val_sparse_categorical_accuracy: 0.8892\n",
            "Epoch 31/200\n",
            "422/422 [==============================] - 10s 24ms/step - loss: 0.3426 - sparse_categorical_accuracy: 0.8720 - val_loss: 0.2991 - val_sparse_categorical_accuracy: 0.8888\n",
            "Epoch 32/200\n",
            "422/422 [==============================] - 10s 24ms/step - loss: 0.3371 - sparse_categorical_accuracy: 0.8730 - val_loss: 0.2946 - val_sparse_categorical_accuracy: 0.8890\n",
            "Epoch 33/200\n",
            "422/422 [==============================] - 10s 24ms/step - loss: 0.3418 - sparse_categorical_accuracy: 0.8728 - val_loss: 0.2959 - val_sparse_categorical_accuracy: 0.8917\n",
            "Epoch 34/200\n",
            "422/422 [==============================] - 9s 22ms/step - loss: 0.3313 - sparse_categorical_accuracy: 0.8758 - val_loss: 0.2949 - val_sparse_categorical_accuracy: 0.8950\n",
            "Epoch 35/200\n",
            "422/422 [==============================] - 10s 24ms/step - loss: 0.3335 - sparse_categorical_accuracy: 0.8747 - val_loss: 0.2923 - val_sparse_categorical_accuracy: 0.8953\n",
            "Epoch 36/200\n",
            "422/422 [==============================] - 10s 24ms/step - loss: 0.3345 - sparse_categorical_accuracy: 0.8733 - val_loss: 0.2861 - val_sparse_categorical_accuracy: 0.8927\n",
            "Epoch 37/200\n",
            "422/422 [==============================] - 10s 24ms/step - loss: 0.3358 - sparse_categorical_accuracy: 0.8733 - val_loss: 0.2909 - val_sparse_categorical_accuracy: 0.8938\n",
            "Epoch 38/200\n",
            "422/422 [==============================] - 10s 24ms/step - loss: 0.3300 - sparse_categorical_accuracy: 0.8757 - val_loss: 0.2873 - val_sparse_categorical_accuracy: 0.8937\n",
            "Epoch 39/200\n",
            "422/422 [==============================] - 9s 22ms/step - loss: 0.3295 - sparse_categorical_accuracy: 0.8769 - val_loss: 0.2847 - val_sparse_categorical_accuracy: 0.8937\n",
            "Epoch 40/200\n",
            "422/422 [==============================] - 10s 24ms/step - loss: 0.3288 - sparse_categorical_accuracy: 0.8762 - val_loss: 0.2896 - val_sparse_categorical_accuracy: 0.8943\n",
            "Epoch 41/200\n",
            "422/422 [==============================] - 10s 24ms/step - loss: 0.3275 - sparse_categorical_accuracy: 0.8764 - val_loss: 0.2883 - val_sparse_categorical_accuracy: 0.8938\n",
            "Epoch 42/200\n",
            "422/422 [==============================] - 10s 24ms/step - loss: 0.3258 - sparse_categorical_accuracy: 0.8771 - val_loss: 0.2864 - val_sparse_categorical_accuracy: 0.8955\n",
            "Epoch 43/200\n",
            "422/422 [==============================] - 10s 24ms/step - loss: 0.3230 - sparse_categorical_accuracy: 0.8787 - val_loss: 0.2867 - val_sparse_categorical_accuracy: 0.8952\n",
            "Epoch 44/200\n",
            "422/422 [==============================] - 9s 22ms/step - loss: 0.3245 - sparse_categorical_accuracy: 0.8772 - val_loss: 0.2932 - val_sparse_categorical_accuracy: 0.8938\n",
            "Epoch 45/200\n",
            "422/422 [==============================] - 10s 24ms/step - loss: 0.3212 - sparse_categorical_accuracy: 0.8780 - val_loss: 0.2943 - val_sparse_categorical_accuracy: 0.8928\n",
            "Epoch 46/200\n",
            "422/422 [==============================] - 10s 24ms/step - loss: 0.3242 - sparse_categorical_accuracy: 0.8774 - val_loss: 0.2863 - val_sparse_categorical_accuracy: 0.8952\n",
            "Epoch 47/200\n",
            "422/422 [==============================] - 10s 24ms/step - loss: 0.3170 - sparse_categorical_accuracy: 0.8804 - val_loss: 0.2801 - val_sparse_categorical_accuracy: 0.8955\n",
            "Epoch 48/200\n",
            "422/422 [==============================] - 10s 25ms/step - loss: 0.3239 - sparse_categorical_accuracy: 0.8787 - val_loss: 0.2836 - val_sparse_categorical_accuracy: 0.8953\n",
            "Epoch 49/200\n",
            "422/422 [==============================] - 9s 22ms/step - loss: 0.3174 - sparse_categorical_accuracy: 0.8792 - val_loss: 0.2789 - val_sparse_categorical_accuracy: 0.8955\n",
            "Epoch 50/200\n",
            "422/422 [==============================] - 10s 24ms/step - loss: 0.3172 - sparse_categorical_accuracy: 0.8809 - val_loss: 0.2776 - val_sparse_categorical_accuracy: 0.8982\n",
            "Epoch 51/200\n",
            "422/422 [==============================] - 10s 24ms/step - loss: 0.3178 - sparse_categorical_accuracy: 0.8806 - val_loss: 0.2859 - val_sparse_categorical_accuracy: 0.8953\n",
            "Epoch 52/200\n",
            "422/422 [==============================] - 10s 24ms/step - loss: 0.3135 - sparse_categorical_accuracy: 0.8804 - val_loss: 0.2864 - val_sparse_categorical_accuracy: 0.8967\n",
            "Epoch 53/200\n",
            "422/422 [==============================] - 10s 25ms/step - loss: 0.3124 - sparse_categorical_accuracy: 0.8820 - val_loss: 0.2793 - val_sparse_categorical_accuracy: 0.9000\n",
            "Epoch 54/200\n",
            "422/422 [==============================] - 9s 22ms/step - loss: 0.3160 - sparse_categorical_accuracy: 0.8810 - val_loss: 0.2809 - val_sparse_categorical_accuracy: 0.8960\n",
            "Epoch 55/200\n",
            "422/422 [==============================] - 10s 24ms/step - loss: 0.3119 - sparse_categorical_accuracy: 0.8823 - val_loss: 0.2802 - val_sparse_categorical_accuracy: 0.8978\n",
            "Epoch 56/200\n",
            "422/422 [==============================] - 10s 24ms/step - loss: 0.3124 - sparse_categorical_accuracy: 0.8808 - val_loss: 0.2830 - val_sparse_categorical_accuracy: 0.8975\n",
            "Epoch 57/200\n",
            "422/422 [==============================] - 10s 24ms/step - loss: 0.3110 - sparse_categorical_accuracy: 0.8812 - val_loss: 0.2813 - val_sparse_categorical_accuracy: 0.8972\n",
            "Epoch 58/200\n",
            "422/422 [==============================] - 10s 24ms/step - loss: 0.3110 - sparse_categorical_accuracy: 0.8825 - val_loss: 0.2865 - val_sparse_categorical_accuracy: 0.8967\n",
            "Epoch 59/200\n",
            "422/422 [==============================] - 9s 22ms/step - loss: 0.3107 - sparse_categorical_accuracy: 0.8826 - val_loss: 0.2783 - val_sparse_categorical_accuracy: 0.8987\n",
            "Epoch 60/200\n",
            "422/422 [==============================] - 10s 24ms/step - loss: 0.3113 - sparse_categorical_accuracy: 0.8820 - val_loss: 0.2786 - val_sparse_categorical_accuracy: 0.8987\n",
            "Epoch 61/200\n",
            "422/422 [==============================] - 10s 24ms/step - loss: 0.3090 - sparse_categorical_accuracy: 0.8831 - val_loss: 0.2769 - val_sparse_categorical_accuracy: 0.8987\n",
            "Epoch 62/200\n",
            "422/422 [==============================] - 10s 24ms/step - loss: 0.3085 - sparse_categorical_accuracy: 0.8835 - val_loss: 0.2740 - val_sparse_categorical_accuracy: 0.8993\n",
            "Epoch 63/200\n",
            "422/422 [==============================] - 10s 24ms/step - loss: 0.3092 - sparse_categorical_accuracy: 0.8838 - val_loss: 0.2757 - val_sparse_categorical_accuracy: 0.8995\n",
            "Epoch 64/200\n",
            "422/422 [==============================] - 9s 22ms/step - loss: 0.3053 - sparse_categorical_accuracy: 0.8849 - val_loss: 0.2752 - val_sparse_categorical_accuracy: 0.9017\n",
            "Epoch 65/200\n",
            "422/422 [==============================] - 10s 24ms/step - loss: 0.3068 - sparse_categorical_accuracy: 0.8841 - val_loss: 0.2758 - val_sparse_categorical_accuracy: 0.9017\n",
            "Epoch 66/200\n",
            "422/422 [==============================] - 10s 24ms/step - loss: 0.3030 - sparse_categorical_accuracy: 0.8845 - val_loss: 0.2727 - val_sparse_categorical_accuracy: 0.8995\n",
            "Epoch 67/200\n",
            "422/422 [==============================] - 10s 24ms/step - loss: 0.3038 - sparse_categorical_accuracy: 0.8841 - val_loss: 0.2751 - val_sparse_categorical_accuracy: 0.9012\n",
            "Epoch 68/200\n",
            "422/422 [==============================] - 10s 24ms/step - loss: 0.3031 - sparse_categorical_accuracy: 0.8859 - val_loss: 0.2766 - val_sparse_categorical_accuracy: 0.8978\n",
            "Epoch 69/200\n",
            "422/422 [==============================] - 9s 22ms/step - loss: 0.3034 - sparse_categorical_accuracy: 0.8848 - val_loss: 0.2713 - val_sparse_categorical_accuracy: 0.9012\n",
            "Epoch 70/200\n",
            "422/422 [==============================] - 10s 24ms/step - loss: 0.3024 - sparse_categorical_accuracy: 0.8843 - val_loss: 0.2739 - val_sparse_categorical_accuracy: 0.8983\n",
            "Epoch 71/200\n",
            "422/422 [==============================] - 10s 24ms/step - loss: 0.3038 - sparse_categorical_accuracy: 0.8851 - val_loss: 0.2745 - val_sparse_categorical_accuracy: 0.8997\n",
            "Epoch 72/200\n",
            "422/422 [==============================] - 10s 24ms/step - loss: 0.3058 - sparse_categorical_accuracy: 0.8852 - val_loss: 0.2740 - val_sparse_categorical_accuracy: 0.8960\n",
            "Epoch 73/200\n",
            "422/422 [==============================] - 10s 23ms/step - loss: 0.2959 - sparse_categorical_accuracy: 0.8849 - val_loss: 0.2710 - val_sparse_categorical_accuracy: 0.8995\n",
            "Epoch 74/200\n",
            "422/422 [==============================] - 10s 23ms/step - loss: 0.2980 - sparse_categorical_accuracy: 0.8876 - val_loss: 0.2704 - val_sparse_categorical_accuracy: 0.9010\n",
            "Epoch 75/200\n",
            "422/422 [==============================] - 10s 24ms/step - loss: 0.2987 - sparse_categorical_accuracy: 0.8873 - val_loss: 0.2731 - val_sparse_categorical_accuracy: 0.9005\n",
            "Epoch 76/200\n",
            "422/422 [==============================] - 10s 24ms/step - loss: 0.3017 - sparse_categorical_accuracy: 0.8862 - val_loss: 0.2747 - val_sparse_categorical_accuracy: 0.8993\n",
            "Epoch 77/200\n",
            "422/422 [==============================] - 10s 24ms/step - loss: 0.2986 - sparse_categorical_accuracy: 0.8862 - val_loss: 0.2736 - val_sparse_categorical_accuracy: 0.9002\n",
            "Epoch 78/200\n",
            "422/422 [==============================] - 10s 24ms/step - loss: 0.2938 - sparse_categorical_accuracy: 0.8879 - val_loss: 0.2754 - val_sparse_categorical_accuracy: 0.9023\n",
            "Epoch 79/200\n",
            "422/422 [==============================] - 10s 23ms/step - loss: 0.2974 - sparse_categorical_accuracy: 0.8871 - val_loss: 0.2755 - val_sparse_categorical_accuracy: 0.9022\n",
            "Epoch 80/200\n",
            "422/422 [==============================] - 10s 24ms/step - loss: 0.2974 - sparse_categorical_accuracy: 0.8875 - val_loss: 0.2739 - val_sparse_categorical_accuracy: 0.9003\n",
            "Epoch 81/200\n",
            "422/422 [==============================] - 10s 24ms/step - loss: 0.2972 - sparse_categorical_accuracy: 0.8888 - val_loss: 0.2708 - val_sparse_categorical_accuracy: 0.9010\n",
            "Epoch 82/200\n",
            "422/422 [==============================] - 10s 24ms/step - loss: 0.2981 - sparse_categorical_accuracy: 0.8860 - val_loss: 0.2697 - val_sparse_categorical_accuracy: 0.9012\n",
            "Epoch 83/200\n",
            "422/422 [==============================] - 10s 24ms/step - loss: 0.2950 - sparse_categorical_accuracy: 0.8889 - val_loss: 0.2730 - val_sparse_categorical_accuracy: 0.9015\n",
            "Epoch 84/200\n",
            "422/422 [==============================] - 9s 22ms/step - loss: 0.2941 - sparse_categorical_accuracy: 0.8899 - val_loss: 0.2716 - val_sparse_categorical_accuracy: 0.9013\n",
            "Epoch 85/200\n",
            "422/422 [==============================] - 10s 24ms/step - loss: 0.2964 - sparse_categorical_accuracy: 0.8873 - val_loss: 0.2747 - val_sparse_categorical_accuracy: 0.9012\n",
            "Epoch 86/200\n",
            "422/422 [==============================] - 10s 24ms/step - loss: 0.2957 - sparse_categorical_accuracy: 0.8895 - val_loss: 0.2710 - val_sparse_categorical_accuracy: 0.9008\n",
            "Epoch 87/200\n",
            "422/422 [==============================] - 10s 24ms/step - loss: 0.2958 - sparse_categorical_accuracy: 0.8884 - val_loss: 0.2728 - val_sparse_categorical_accuracy: 0.9020\n",
            "Epoch 88/200\n",
            "422/422 [==============================] - 10s 24ms/step - loss: 0.2909 - sparse_categorical_accuracy: 0.8891 - val_loss: 0.2708 - val_sparse_categorical_accuracy: 0.9015\n",
            "Epoch 89/200\n",
            "422/422 [==============================] - 9s 22ms/step - loss: 0.2897 - sparse_categorical_accuracy: 0.8906 - val_loss: 0.2747 - val_sparse_categorical_accuracy: 0.9015\n",
            "Epoch 90/200\n",
            "422/422 [==============================] - 10s 24ms/step - loss: 0.2918 - sparse_categorical_accuracy: 0.8900 - val_loss: 0.2727 - val_sparse_categorical_accuracy: 0.8985\n",
            "Epoch 91/200\n",
            "422/422 [==============================] - 10s 24ms/step - loss: 0.2923 - sparse_categorical_accuracy: 0.8877 - val_loss: 0.2706 - val_sparse_categorical_accuracy: 0.9032\n",
            "Epoch 92/200\n",
            "422/422 [==============================] - 10s 24ms/step - loss: 0.2941 - sparse_categorical_accuracy: 0.8898 - val_loss: 0.2741 - val_sparse_categorical_accuracy: 0.9023\n",
            "Epoch 93/200\n",
            "422/422 [==============================] - 11s 25ms/step - loss: 0.2938 - sparse_categorical_accuracy: 0.8903 - val_loss: 0.2696 - val_sparse_categorical_accuracy: 0.9033\n",
            "Epoch 94/200\n",
            "422/422 [==============================] - 9s 22ms/step - loss: 0.2910 - sparse_categorical_accuracy: 0.8884 - val_loss: 0.2718 - val_sparse_categorical_accuracy: 0.9027\n",
            "Epoch 95/200\n",
            "422/422 [==============================] - 10s 24ms/step - loss: 0.2958 - sparse_categorical_accuracy: 0.8868 - val_loss: 0.2719 - val_sparse_categorical_accuracy: 0.9022\n",
            "Epoch 96/200\n",
            "422/422 [==============================] - 10s 24ms/step - loss: 0.2892 - sparse_categorical_accuracy: 0.8896 - val_loss: 0.2752 - val_sparse_categorical_accuracy: 0.8998\n",
            "Epoch 97/200\n",
            "422/422 [==============================] - 10s 24ms/step - loss: 0.2875 - sparse_categorical_accuracy: 0.8915 - val_loss: 0.2723 - val_sparse_categorical_accuracy: 0.8993\n",
            "Epoch 98/200\n",
            "422/422 [==============================] - 10s 24ms/step - loss: 0.2923 - sparse_categorical_accuracy: 0.8891 - val_loss: 0.2700 - val_sparse_categorical_accuracy: 0.9005\n",
            "Epoch 99/200\n",
            "422/422 [==============================] - 9s 22ms/step - loss: 0.2855 - sparse_categorical_accuracy: 0.8908 - val_loss: 0.2687 - val_sparse_categorical_accuracy: 0.9040\n",
            "Epoch 100/200\n",
            "422/422 [==============================] - 10s 24ms/step - loss: 0.2910 - sparse_categorical_accuracy: 0.8889 - val_loss: 0.2772 - val_sparse_categorical_accuracy: 0.9047\n",
            "Epoch 101/200\n",
            "422/422 [==============================] - 10s 24ms/step - loss: 0.2907 - sparse_categorical_accuracy: 0.8898 - val_loss: 0.2701 - val_sparse_categorical_accuracy: 0.9018\n",
            "Epoch 102/200\n",
            "422/422 [==============================] - 10s 24ms/step - loss: 0.2885 - sparse_categorical_accuracy: 0.8897 - val_loss: 0.2695 - val_sparse_categorical_accuracy: 0.9040\n",
            "Epoch 103/200\n",
            "422/422 [==============================] - 10s 24ms/step - loss: 0.2861 - sparse_categorical_accuracy: 0.8925 - val_loss: 0.2707 - val_sparse_categorical_accuracy: 0.9055\n",
            "Epoch 104/200\n",
            "422/422 [==============================] - 9s 22ms/step - loss: 0.2841 - sparse_categorical_accuracy: 0.8920 - val_loss: 0.2751 - val_sparse_categorical_accuracy: 0.9020\n",
            "Epoch 105/200\n",
            "422/422 [==============================] - 10s 24ms/step - loss: 0.2864 - sparse_categorical_accuracy: 0.8909 - val_loss: 0.2687 - val_sparse_categorical_accuracy: 0.9053\n",
            "Epoch 106/200\n",
            "422/422 [==============================] - 10s 24ms/step - loss: 0.2876 - sparse_categorical_accuracy: 0.8900 - val_loss: 0.2711 - val_sparse_categorical_accuracy: 0.9033\n",
            "Epoch 107/200\n",
            "422/422 [==============================] - 10s 24ms/step - loss: 0.2851 - sparse_categorical_accuracy: 0.8930 - val_loss: 0.2741 - val_sparse_categorical_accuracy: 0.9037\n",
            "Epoch 108/200\n",
            "422/422 [==============================] - 10s 24ms/step - loss: 0.2874 - sparse_categorical_accuracy: 0.8914 - val_loss: 0.2767 - val_sparse_categorical_accuracy: 0.9015\n",
            "Epoch 109/200\n",
            "422/422 [==============================] - 9s 22ms/step - loss: 0.2830 - sparse_categorical_accuracy: 0.8919 - val_loss: 0.2795 - val_sparse_categorical_accuracy: 0.9030\n",
            "Epoch 110/200\n",
            "422/422 [==============================] - 10s 24ms/step - loss: 0.2829 - sparse_categorical_accuracy: 0.8928 - val_loss: 0.2741 - val_sparse_categorical_accuracy: 0.9040\n",
            "Epoch 111/200\n",
            "422/422 [==============================] - 10s 24ms/step - loss: 0.2828 - sparse_categorical_accuracy: 0.8937 - val_loss: 0.2728 - val_sparse_categorical_accuracy: 0.9038\n",
            "Epoch 112/200\n",
            "422/422 [==============================] - 10s 24ms/step - loss: 0.2840 - sparse_categorical_accuracy: 0.8935 - val_loss: 0.2743 - val_sparse_categorical_accuracy: 0.9037\n",
            "Epoch 113/200\n",
            "422/422 [==============================] - 10s 24ms/step - loss: 0.2776 - sparse_categorical_accuracy: 0.8946 - val_loss: 0.2735 - val_sparse_categorical_accuracy: 0.9037\n",
            "Epoch 114/200\n",
            "422/422 [==============================] - 9s 22ms/step - loss: 0.2820 - sparse_categorical_accuracy: 0.8935 - val_loss: 0.2731 - val_sparse_categorical_accuracy: 0.9037\n",
            "Epoch 115/200\n",
            "422/422 [==============================] - 10s 24ms/step - loss: 0.2815 - sparse_categorical_accuracy: 0.8933 - val_loss: 0.2697 - val_sparse_categorical_accuracy: 0.9038\n",
            "Epoch 116/200\n",
            "422/422 [==============================] - 10s 24ms/step - loss: 0.2832 - sparse_categorical_accuracy: 0.8917 - val_loss: 0.2724 - val_sparse_categorical_accuracy: 0.9020\n",
            "Epoch 117/200\n",
            "422/422 [==============================] - 10s 24ms/step - loss: 0.2797 - sparse_categorical_accuracy: 0.8931 - val_loss: 0.2718 - val_sparse_categorical_accuracy: 0.9015\n",
            "Epoch 118/200\n",
            "422/422 [==============================] - 10s 24ms/step - loss: 0.2836 - sparse_categorical_accuracy: 0.8932 - val_loss: 0.2685 - val_sparse_categorical_accuracy: 0.9017\n",
            "Epoch 119/200\n",
            "422/422 [==============================] - 9s 22ms/step - loss: 0.2852 - sparse_categorical_accuracy: 0.8922 - val_loss: 0.2710 - val_sparse_categorical_accuracy: 0.9028\n",
            "Epoch 120/200\n",
            "422/422 [==============================] - 10s 24ms/step - loss: 0.2816 - sparse_categorical_accuracy: 0.8934 - val_loss: 0.2647 - val_sparse_categorical_accuracy: 0.9010\n",
            "Epoch 121/200\n",
            "422/422 [==============================] - 10s 24ms/step - loss: 0.2777 - sparse_categorical_accuracy: 0.8943 - val_loss: 0.2721 - val_sparse_categorical_accuracy: 0.9010\n",
            "Epoch 122/200\n",
            "422/422 [==============================] - 10s 24ms/step - loss: 0.2834 - sparse_categorical_accuracy: 0.8924 - val_loss: 0.2724 - val_sparse_categorical_accuracy: 0.9013\n",
            "Epoch 123/200\n",
            "422/422 [==============================] - 10s 24ms/step - loss: 0.2816 - sparse_categorical_accuracy: 0.8940 - val_loss: 0.2672 - val_sparse_categorical_accuracy: 0.9047\n",
            "Epoch 124/200\n",
            "422/422 [==============================] - 9s 22ms/step - loss: 0.2799 - sparse_categorical_accuracy: 0.8930 - val_loss: 0.2717 - val_sparse_categorical_accuracy: 0.9015\n",
            "Epoch 125/200\n",
            "422/422 [==============================] - 10s 24ms/step - loss: 0.2801 - sparse_categorical_accuracy: 0.8944 - val_loss: 0.2722 - val_sparse_categorical_accuracy: 0.9002\n",
            "Epoch 126/200\n",
            "422/422 [==============================] - 10s 24ms/step - loss: 0.2774 - sparse_categorical_accuracy: 0.8944 - val_loss: 0.2736 - val_sparse_categorical_accuracy: 0.9038\n",
            "Epoch 127/200\n",
            "422/422 [==============================] - 10s 24ms/step - loss: 0.2782 - sparse_categorical_accuracy: 0.8940 - val_loss: 0.2753 - val_sparse_categorical_accuracy: 0.9003\n",
            "Epoch 128/200\n",
            "422/422 [==============================] - 11s 25ms/step - loss: 0.2810 - sparse_categorical_accuracy: 0.8924 - val_loss: 0.2737 - val_sparse_categorical_accuracy: 0.9012\n",
            "Epoch 129/200\n",
            "422/422 [==============================] - 9s 22ms/step - loss: 0.2801 - sparse_categorical_accuracy: 0.8943 - val_loss: 0.2775 - val_sparse_categorical_accuracy: 0.9022\n",
            "Epoch 130/200\n",
            "422/422 [==============================] - 10s 24ms/step - loss: 0.2784 - sparse_categorical_accuracy: 0.8937 - val_loss: 0.2714 - val_sparse_categorical_accuracy: 0.9020\n",
            "Epoch 131/200\n",
            "422/422 [==============================] - 10s 24ms/step - loss: 0.2795 - sparse_categorical_accuracy: 0.8938 - val_loss: 0.2727 - val_sparse_categorical_accuracy: 0.9027\n",
            "Epoch 132/200\n",
            "422/422 [==============================] - 10s 25ms/step - loss: 0.2798 - sparse_categorical_accuracy: 0.8945 - val_loss: 0.2703 - val_sparse_categorical_accuracy: 0.9023\n",
            "Epoch 133/200\n",
            "422/422 [==============================] - 10s 24ms/step - loss: 0.2787 - sparse_categorical_accuracy: 0.8950 - val_loss: 0.2704 - val_sparse_categorical_accuracy: 0.9020\n",
            "Epoch 134/200\n",
            "422/422 [==============================] - 9s 22ms/step - loss: 0.2776 - sparse_categorical_accuracy: 0.8946 - val_loss: 0.2728 - val_sparse_categorical_accuracy: 0.9048\n",
            "Epoch 135/200\n",
            "422/422 [==============================] - 10s 24ms/step - loss: 0.2758 - sparse_categorical_accuracy: 0.8957 - val_loss: 0.2748 - val_sparse_categorical_accuracy: 0.9023\n",
            "Epoch 136/200\n",
            "422/422 [==============================] - 10s 24ms/step - loss: 0.2785 - sparse_categorical_accuracy: 0.8944 - val_loss: 0.2699 - val_sparse_categorical_accuracy: 0.9018\n",
            "Epoch 137/200\n",
            "422/422 [==============================] - 10s 24ms/step - loss: 0.2758 - sparse_categorical_accuracy: 0.8943 - val_loss: 0.2691 - val_sparse_categorical_accuracy: 0.9035\n",
            "Epoch 138/200\n",
            "422/422 [==============================] - 10s 25ms/step - loss: 0.2786 - sparse_categorical_accuracy: 0.8937 - val_loss: 0.2704 - val_sparse_categorical_accuracy: 0.9018\n",
            "Epoch 139/200\n",
            "422/422 [==============================] - 9s 22ms/step - loss: 0.2804 - sparse_categorical_accuracy: 0.8941 - val_loss: 0.2642 - val_sparse_categorical_accuracy: 0.9022\n",
            "Epoch 140/200\n",
            "422/422 [==============================] - 10s 24ms/step - loss: 0.2727 - sparse_categorical_accuracy: 0.8943 - val_loss: 0.2666 - val_sparse_categorical_accuracy: 0.9043\n",
            "Epoch 141/200\n",
            "422/422 [==============================] - 10s 25ms/step - loss: 0.2761 - sparse_categorical_accuracy: 0.8951 - val_loss: 0.2674 - val_sparse_categorical_accuracy: 0.9005\n",
            "Epoch 142/200\n",
            "422/422 [==============================] - 10s 25ms/step - loss: 0.2754 - sparse_categorical_accuracy: 0.8942 - val_loss: 0.2636 - val_sparse_categorical_accuracy: 0.9042\n",
            "Epoch 143/200\n",
            "422/422 [==============================] - 10s 25ms/step - loss: 0.2714 - sparse_categorical_accuracy: 0.8970 - val_loss: 0.2649 - val_sparse_categorical_accuracy: 0.9072\n",
            "Epoch 144/200\n",
            "422/422 [==============================] - 10s 23ms/step - loss: 0.2718 - sparse_categorical_accuracy: 0.8963 - val_loss: 0.2644 - val_sparse_categorical_accuracy: 0.9045\n",
            "Epoch 145/200\n",
            "422/422 [==============================] - 10s 24ms/step - loss: 0.2767 - sparse_categorical_accuracy: 0.8949 - val_loss: 0.2670 - val_sparse_categorical_accuracy: 0.9043\n",
            "Epoch 146/200\n",
            "422/422 [==============================] - 10s 25ms/step - loss: 0.2748 - sparse_categorical_accuracy: 0.8955 - val_loss: 0.2633 - val_sparse_categorical_accuracy: 0.9042\n",
            "Epoch 147/200\n",
            "422/422 [==============================] - 10s 25ms/step - loss: 0.2738 - sparse_categorical_accuracy: 0.8966 - val_loss: 0.2696 - val_sparse_categorical_accuracy: 0.9025\n",
            "Epoch 148/200\n",
            "422/422 [==============================] - 10s 24ms/step - loss: 0.2723 - sparse_categorical_accuracy: 0.8962 - val_loss: 0.2720 - val_sparse_categorical_accuracy: 0.9032\n",
            "Epoch 149/200\n",
            "422/422 [==============================] - 10s 23ms/step - loss: 0.2763 - sparse_categorical_accuracy: 0.8944 - val_loss: 0.2706 - val_sparse_categorical_accuracy: 0.9063\n",
            "Epoch 150/200\n",
            "422/422 [==============================] - 10s 23ms/step - loss: 0.2753 - sparse_categorical_accuracy: 0.8949 - val_loss: 0.2709 - val_sparse_categorical_accuracy: 0.9042\n",
            "Epoch 151/200\n",
            "422/422 [==============================] - 10s 25ms/step - loss: 0.2728 - sparse_categorical_accuracy: 0.8963 - val_loss: 0.2678 - val_sparse_categorical_accuracy: 0.9037\n",
            "Epoch 152/200\n",
            "422/422 [==============================] - 10s 24ms/step - loss: 0.2724 - sparse_categorical_accuracy: 0.8966 - val_loss: 0.2696 - val_sparse_categorical_accuracy: 0.9035\n",
            "Epoch 153/200\n",
            "422/422 [==============================] - 10s 24ms/step - loss: 0.2744 - sparse_categorical_accuracy: 0.8967 - val_loss: 0.2661 - val_sparse_categorical_accuracy: 0.9088\n",
            "Epoch 154/200\n",
            "422/422 [==============================] - 10s 24ms/step - loss: 0.2745 - sparse_categorical_accuracy: 0.8969 - val_loss: 0.2669 - val_sparse_categorical_accuracy: 0.9060\n",
            "Epoch 155/200\n",
            "422/422 [==============================] - 9s 22ms/step - loss: 0.2729 - sparse_categorical_accuracy: 0.8965 - val_loss: 0.2678 - val_sparse_categorical_accuracy: 0.9055\n",
            "Epoch 156/200\n",
            "422/422 [==============================] - 10s 25ms/step - loss: 0.2764 - sparse_categorical_accuracy: 0.8949 - val_loss: 0.2717 - val_sparse_categorical_accuracy: 0.9045\n",
            "Epoch 157/200\n",
            "422/422 [==============================] - 10s 24ms/step - loss: 0.2691 - sparse_categorical_accuracy: 0.8973 - val_loss: 0.2742 - val_sparse_categorical_accuracy: 0.9072\n",
            "Epoch 158/200\n",
            "422/422 [==============================] - 10s 25ms/step - loss: 0.2705 - sparse_categorical_accuracy: 0.8987 - val_loss: 0.2751 - val_sparse_categorical_accuracy: 0.9058\n",
            "Epoch 159/200\n",
            "422/422 [==============================] - 10s 25ms/step - loss: 0.2726 - sparse_categorical_accuracy: 0.8967 - val_loss: 0.2704 - val_sparse_categorical_accuracy: 0.9033\n",
            "Epoch 160/200\n",
            "422/422 [==============================] - 9s 22ms/step - loss: 0.2713 - sparse_categorical_accuracy: 0.8970 - val_loss: 0.2763 - val_sparse_categorical_accuracy: 0.9047\n",
            "Epoch 161/200\n",
            "422/422 [==============================] - 10s 24ms/step - loss: 0.2713 - sparse_categorical_accuracy: 0.8970 - val_loss: 0.2740 - val_sparse_categorical_accuracy: 0.9043\n",
            "Epoch 162/200\n",
            "422/422 [==============================] - 10s 25ms/step - loss: 0.2697 - sparse_categorical_accuracy: 0.8981 - val_loss: 0.2686 - val_sparse_categorical_accuracy: 0.9043\n",
            "Epoch 163/200\n",
            "422/422 [==============================] - 10s 25ms/step - loss: 0.2686 - sparse_categorical_accuracy: 0.8963 - val_loss: 0.2690 - val_sparse_categorical_accuracy: 0.9048\n",
            "Epoch 164/200\n",
            "422/422 [==============================] - 10s 25ms/step - loss: 0.2718 - sparse_categorical_accuracy: 0.8963 - val_loss: 0.2698 - val_sparse_categorical_accuracy: 0.9055\n",
            "Epoch 165/200\n",
            "422/422 [==============================] - 9s 22ms/step - loss: 0.2735 - sparse_categorical_accuracy: 0.8974 - val_loss: 0.2685 - val_sparse_categorical_accuracy: 0.9060\n",
            "Epoch 166/200\n",
            "422/422 [==============================] - 10s 24ms/step - loss: 0.2694 - sparse_categorical_accuracy: 0.8979 - val_loss: 0.2739 - val_sparse_categorical_accuracy: 0.9037\n",
            "Epoch 167/200\n",
            "422/422 [==============================] - 10s 25ms/step - loss: 0.2707 - sparse_categorical_accuracy: 0.8986 - val_loss: 0.2685 - val_sparse_categorical_accuracy: 0.9017\n",
            "Epoch 168/200\n",
            "422/422 [==============================] - 10s 25ms/step - loss: 0.2690 - sparse_categorical_accuracy: 0.8985 - val_loss: 0.2752 - val_sparse_categorical_accuracy: 0.9030\n",
            "Epoch 169/200\n",
            "422/422 [==============================] - 10s 25ms/step - loss: 0.2661 - sparse_categorical_accuracy: 0.8983 - val_loss: 0.2661 - val_sparse_categorical_accuracy: 0.9068\n",
            "Epoch 170/200\n",
            "422/422 [==============================] - 10s 24ms/step - loss: 0.2663 - sparse_categorical_accuracy: 0.8990 - val_loss: 0.2662 - val_sparse_categorical_accuracy: 0.9043\n",
            "Epoch 171/200\n",
            "422/422 [==============================] - 10s 23ms/step - loss: 0.2736 - sparse_categorical_accuracy: 0.8959 - val_loss: 0.2669 - val_sparse_categorical_accuracy: 0.9055\n",
            "Epoch 172/200\n",
            "422/422 [==============================] - 10s 24ms/step - loss: 0.2675 - sparse_categorical_accuracy: 0.8982 - val_loss: 0.2705 - val_sparse_categorical_accuracy: 0.9062\n",
            "Epoch 173/200\n",
            "422/422 [==============================] - 10s 25ms/step - loss: 0.2706 - sparse_categorical_accuracy: 0.8977 - val_loss: 0.2726 - val_sparse_categorical_accuracy: 0.9013\n",
            "Epoch 174/200\n",
            "422/422 [==============================] - 10s 24ms/step - loss: 0.2729 - sparse_categorical_accuracy: 0.8968 - val_loss: 0.2651 - val_sparse_categorical_accuracy: 0.9087\n",
            "Epoch 175/200\n",
            "422/422 [==============================] - 10s 24ms/step - loss: 0.2681 - sparse_categorical_accuracy: 0.8995 - val_loss: 0.2700 - val_sparse_categorical_accuracy: 0.9057\n",
            "Epoch 176/200\n",
            "422/422 [==============================] - 10s 23ms/step - loss: 0.2652 - sparse_categorical_accuracy: 0.8989 - val_loss: 0.2709 - val_sparse_categorical_accuracy: 0.9062\n",
            "Epoch 177/200\n",
            "422/422 [==============================] - 10s 25ms/step - loss: 0.2690 - sparse_categorical_accuracy: 0.8975 - val_loss: 0.2679 - val_sparse_categorical_accuracy: 0.9068\n",
            "Epoch 178/200\n",
            "422/422 [==============================] - 10s 24ms/step - loss: 0.2696 - sparse_categorical_accuracy: 0.8971 - val_loss: 0.2729 - val_sparse_categorical_accuracy: 0.9027\n",
            "Epoch 179/200\n",
            "422/422 [==============================] - 10s 25ms/step - loss: 0.2644 - sparse_categorical_accuracy: 0.8997 - val_loss: 0.2732 - val_sparse_categorical_accuracy: 0.9072\n",
            "Epoch 180/200\n",
            "422/422 [==============================] - 11s 25ms/step - loss: 0.2721 - sparse_categorical_accuracy: 0.8972 - val_loss: 0.2804 - val_sparse_categorical_accuracy: 0.9058\n",
            "Epoch 181/200\n",
            "422/422 [==============================] - 9s 22ms/step - loss: 0.2703 - sparse_categorical_accuracy: 0.8968 - val_loss: 0.2696 - val_sparse_categorical_accuracy: 0.9067\n",
            "Epoch 182/200\n",
            "422/422 [==============================] - 10s 24ms/step - loss: 0.2643 - sparse_categorical_accuracy: 0.8995 - val_loss: 0.2701 - val_sparse_categorical_accuracy: 0.9055\n",
            "Epoch 183/200\n",
            "422/422 [==============================] - 10s 25ms/step - loss: 0.2674 - sparse_categorical_accuracy: 0.8988 - val_loss: 0.2675 - val_sparse_categorical_accuracy: 0.9052\n",
            "Epoch 184/200\n",
            "422/422 [==============================] - 10s 25ms/step - loss: 0.2662 - sparse_categorical_accuracy: 0.8982 - val_loss: 0.2731 - val_sparse_categorical_accuracy: 0.9062\n",
            "Epoch 185/200\n",
            "422/422 [==============================] - 10s 25ms/step - loss: 0.2673 - sparse_categorical_accuracy: 0.8987 - val_loss: 0.2735 - val_sparse_categorical_accuracy: 0.9050\n",
            "Epoch 186/200\n",
            "422/422 [==============================] - 10s 23ms/step - loss: 0.2676 - sparse_categorical_accuracy: 0.8977 - val_loss: 0.2701 - val_sparse_categorical_accuracy: 0.9058\n",
            "Epoch 187/200\n",
            "422/422 [==============================] - 10s 24ms/step - loss: 0.2675 - sparse_categorical_accuracy: 0.8987 - val_loss: 0.2668 - val_sparse_categorical_accuracy: 0.9053\n",
            "Epoch 188/200\n",
            "422/422 [==============================] - 10s 25ms/step - loss: 0.2664 - sparse_categorical_accuracy: 0.8988 - val_loss: 0.2739 - val_sparse_categorical_accuracy: 0.9028\n",
            "Epoch 189/200\n",
            "422/422 [==============================] - 10s 25ms/step - loss: 0.2671 - sparse_categorical_accuracy: 0.8978 - val_loss: 0.2731 - val_sparse_categorical_accuracy: 0.9067\n",
            "Epoch 190/200\n",
            "422/422 [==============================] - 10s 25ms/step - loss: 0.2636 - sparse_categorical_accuracy: 0.8994 - val_loss: 0.2712 - val_sparse_categorical_accuracy: 0.9067\n",
            "Epoch 191/200\n",
            "422/422 [==============================] - 10s 24ms/step - loss: 0.2656 - sparse_categorical_accuracy: 0.8993 - val_loss: 0.2702 - val_sparse_categorical_accuracy: 0.9058\n",
            "Epoch 192/200\n",
            "422/422 [==============================] - 10s 23ms/step - loss: 0.2652 - sparse_categorical_accuracy: 0.8979 - val_loss: 0.2647 - val_sparse_categorical_accuracy: 0.9067\n",
            "Epoch 193/200\n",
            "422/422 [==============================] - 10s 25ms/step - loss: 0.2640 - sparse_categorical_accuracy: 0.8999 - val_loss: 0.2665 - val_sparse_categorical_accuracy: 0.9075\n",
            "Epoch 194/200\n",
            "422/422 [==============================] - 10s 25ms/step - loss: 0.2641 - sparse_categorical_accuracy: 0.8999 - val_loss: 0.2666 - val_sparse_categorical_accuracy: 0.9070\n",
            "Epoch 195/200\n",
            "422/422 [==============================] - 10s 25ms/step - loss: 0.2647 - sparse_categorical_accuracy: 0.8984 - val_loss: 0.2724 - val_sparse_categorical_accuracy: 0.9050\n",
            "Epoch 196/200\n",
            "422/422 [==============================] - 10s 25ms/step - loss: 0.2632 - sparse_categorical_accuracy: 0.8998 - val_loss: 0.2693 - val_sparse_categorical_accuracy: 0.9033\n",
            "Epoch 197/200\n",
            "422/422 [==============================] - 9s 22ms/step - loss: 0.2664 - sparse_categorical_accuracy: 0.8993 - val_loss: 0.2718 - val_sparse_categorical_accuracy: 0.9027\n",
            "Epoch 198/200\n",
            "422/422 [==============================] - 11s 25ms/step - loss: 0.2636 - sparse_categorical_accuracy: 0.8991 - val_loss: 0.2665 - val_sparse_categorical_accuracy: 0.9037\n",
            "Epoch 199/200\n",
            "422/422 [==============================] - 11s 25ms/step - loss: 0.2644 - sparse_categorical_accuracy: 0.9003 - val_loss: 0.2683 - val_sparse_categorical_accuracy: 0.9058\n",
            "Epoch 200/200\n",
            "422/422 [==============================] - 10s 25ms/step - loss: 0.2677 - sparse_categorical_accuracy: 0.8970 - val_loss: 0.2727 - val_sparse_categorical_accuracy: 0.9028\n",
            "313/313 [==============================] - 1s 3ms/step - loss: 0.2940 - sparse_categorical_accuracy: 0.8951\n",
            "\n",
            "Test accuracy: 0.8950999975204468\n"
          ]
        }
      ]
    },
    {
      "cell_type": "code",
      "source": [
        "print('\\nhistory dict:', list(history.history.keys()))"
      ],
      "metadata": {
        "id": "CxRE-B_Q6Sii",
        "outputId": "8ae3383a-9414-4e8e-eb6b-55420d964f8c",
        "colab": {
          "base_uri": "https://localhost:8080/"
        }
      },
      "execution_count": 15,
      "outputs": [
        {
          "output_type": "stream",
          "name": "stdout",
          "text": [
            "\n",
            "history dict: ['loss', 'sparse_categorical_accuracy', 'val_loss', 'val_sparse_categorical_accuracy']\n"
          ]
        }
      ]
    },
    {
      "cell_type": "code",
      "source": [
        "result = model.evaluate(x_test, y_test)\n",
        "print(result)"
      ],
      "metadata": {
        "id": "YXpwRRTvTBNg",
        "outputId": "38920293-4e2c-4b4a-87de-5301b006dc0b",
        "colab": {
          "base_uri": "https://localhost:8080/"
        }
      },
      "execution_count": 16,
      "outputs": [
        {
          "output_type": "stream",
          "name": "stdout",
          "text": [
            "313/313 [==============================] - 1s 3ms/step - loss: 0.2940 - sparse_categorical_accuracy: 0.8951\n",
            "[0.2939818799495697, 0.8950999975204468]\n"
          ]
        }
      ]
    },
    {
      "cell_type": "code",
      "source": [
        "saved_model = load_model('best_model.h5')\n",
        "result = saved_model.evaluate(x_test, y_test)\n",
        "print(result)"
      ],
      "metadata": {
        "id": "dpaZAW0vp1AZ",
        "outputId": "15ce43a1-9f7e-4f11-bf00-5305617e7cd5",
        "colab": {
          "base_uri": "https://localhost:8080/"
        }
      },
      "execution_count": 17,
      "outputs": [
        {
          "output_type": "stream",
          "name": "stdout",
          "text": [
            "313/313 [==============================] - 1s 3ms/step - loss: 0.2968 - sparse_categorical_accuracy: 0.8970\n",
            "[0.29682978987693787, 0.8970000147819519]\n"
          ]
        }
      ]
    },
    {
      "cell_type": "code",
      "source": [
        "# from keras.models import load_model\n",
        "# saved_model = load_model('best_model.h5')\n",
        "# # _, train_acc = saved_model.evaluate(x_train, y_train, verbose=0)\n",
        "# _, test_acc = saved_model.evaluate(x_test, y_test, verbose=0)\n",
        "# print('Test: %.3f' % (test_acc))"
      ],
      "metadata": {
        "id": "DR_MS9DABo_K"
      },
      "execution_count": 18,
      "outputs": []
    },
    {
      "cell_type": "code",
      "source": [
        "history_dict = history.history\n",
        "loss_values = history_dict['loss']\n",
        "val_loss_values = history_dict['val_loss']\n",
        "\n",
        "epochs = range(1, len(history_dict['loss']) + 1)\n",
        "\n",
        "plt.figure(figsize=(10, 5))\n",
        "plt.plot(epochs, loss_values, 'bo', label='Training loss')\n",
        "plt.plot(epochs, val_loss_values, 'r', label='Validation loss')\n",
        "plt.ylim (0.2, 0.5)\n",
        "plt.title('Training and validation loss')\n",
        "plt.xlabel('Epochs')\n",
        "plt.ylabel('Loss')\n",
        "plt.legend()\n",
        "plt.grid(True)\n",
        "plt.show()\n",
        "1\n",
        "plt.clf()\n",
        "plt.figure(figsize=(10, 5))\n",
        "val_acc_values = history_dict['sparse_categorical_accuracy']\n",
        "plt.plot(epochs, history_dict['sparse_categorical_accuracy'], 'bo', label='Training acc')\n",
        "plt.plot(epochs, history_dict['val_sparse_categorical_accuracy'], 'r', label='Validation acc')\n",
        "plt.ylim (0.88, 0.92)\n",
        "plt.title('Training and validation accuracy')\n",
        "plt.xlabel('Epochs')\n",
        "plt.ylabel('Accuracy')\n",
        "plt.legend()\n",
        "plt.grid(True)"
      ],
      "metadata": {
        "id": "2Ll_5sGlXKMH",
        "outputId": "f531b504-ca49-423c-a057-998c31208b18",
        "colab": {
          "base_uri": "https://localhost:8080/",
          "height": 975
        }
      },
      "execution_count": 25,
      "outputs": [
        {
          "output_type": "display_data",
          "data": {
            "text/plain": [
              "<Figure size 1000x500 with 1 Axes>"
            ],
            "image/png": "[encoded data removed]"
          },
          "metadata": {}
        },
        {
          "output_type": "display_data",
          "data": {
            "text/plain": [
              "<Figure size 640x480 with 0 Axes>"
            ]
          },
          "metadata": {}
        },
        {
          "output_type": "display_data",
          "data": {
            "text/plain": [
              "<Figure size 1000x500 with 1 Axes>"
            ],
            "image/png": "[encoded data removed]"
          },
          "metadata": {}
        }
      ]
    },
    {
      "cell_type": "code",
      "source": [
        "probability_model = tf.keras.Sequential([model,\n",
        "                                         tf.keras.layers.Softmax()])"
      ],
      "metadata": {
        "id": "VzOdKAT_uV-f"
      },
      "execution_count": 20,
      "outputs": []
    },
    {
      "cell_type": "code",
      "source": [
        "predictions = probability_model.predict(x_test)"
      ],
      "metadata": {
        "id": "f4is3NFruYom",
        "outputId": "f74a4e5a-b039-400f-df64-2ba0fe7d23e1",
        "colab": {
          "base_uri": "https://localhost:8080/"
        }
      },
      "execution_count": 21,
      "outputs": [
        {
          "output_type": "stream",
          "name": "stdout",
          "text": [
            "313/313 [==============================] - 1s 3ms/step\n"
          ]
        }
      ]
    },
    {
      "cell_type": "code",
      "source": [
        "predictions[0]"
      ],
      "metadata": {
        "id": "82cigvlZudz_",
        "outputId": "5e4f2407-bfd1-4a46-b981-7f5e57ce0e30",
        "colab": {
          "base_uri": "https://localhost:8080/"
        }
      },
      "execution_count": 22,
      "outputs": [
        {
          "output_type": "execute_result",
          "data": {
            "text/plain": [
              "array([0.08570792, 0.08570792, 0.08570792, 0.08570792, 0.08570792,\n",
              "       0.08575981, 0.08570792, 0.08831128, 0.08570792, 0.22597338],\n",
              "      dtype=float32)"
            ]
          },
          "metadata": {},
          "execution_count": 22
        }
      ]
    },
    {
      "cell_type": "code",
      "source": [
        "model.summary()"
      ],
      "metadata": {
        "id": "6RsQPHyYuNGe",
        "outputId": "1519e7bd-d626-4080-ae32-6af9f7a6bcaa",
        "colab": {
          "base_uri": "https://localhost:8080/"
        }
      },
      "execution_count": 23,
      "outputs": [
        {
          "output_type": "stream",
          "name": "stdout",
          "text": [
            "Model: \"sequential\"\n",
            "_________________________________________________________________\n",
            " Layer (type)                Output Shape              Param #   \n",
            "=================================================================\n",
            " flatten (Flatten)           (None, 784)               0         \n",
            "                                                                 \n",
            " dropout (Dropout)           (None, 784)               0         \n",
            "                                                                 \n",
            " batch_normalization (Batch  (None, 784)               3136      \n",
            " Normalization)                                                  \n",
            "                                                                 \n",
            " dense (Dense)               (None, 256)               200960    \n",
            "                                                                 \n",
            " dropout_1 (Dropout)         (None, 256)               0         \n",
            "                                                                 \n",
            " batch_normalization_1 (Bat  (None, 256)               1024      \n",
            " chNormalization)                                                \n",
            "                                                                 \n",
            " dense_1 (Dense)             (None, 512)               131584    \n",
            "                                                                 \n",
            " dropout_2 (Dropout)         (None, 512)               0         \n",
            "                                                                 \n",
            " batch_normalization_2 (Bat  (None, 512)               2048      \n",
            " chNormalization)                                                \n",
            "                                                                 \n",
            " dense_2 (Dense)             (None, 512)               262656    \n",
            "                                                                 \n",
            " dropout_3 (Dropout)         (None, 512)               0         \n",
            "                                                                 \n",
            " dense_3 (Dense)             (None, 10)                5130      \n",
            "                                                                 \n",
            "=================================================================\n",
            "Total params: 606538 (2.31 MB)\n",
            "Trainable params: 603434 (2.30 MB)\n",
            "Non-trainable params: 3104 (12.12 KB)\n",
            "_________________________________________________________________\n"
          ]
        }
      ]
    },
    {
      "cell_type": "code",
      "source": [
        "hnyetjn hrte()"
      ],
      "metadata": {
        "id": "S4hcxZttmp-0",
        "outputId": "5e7e2e3d-01e0-41c7-a25f-bcbd360878b8",
        "colab": {
          "base_uri": "https://localhost:8080/",
          "height": 143
        }
      },
      "execution_count": 24,
      "outputs": [
        {
          "output_type": "error",
          "ename": "SyntaxError",
          "evalue": "invalid syntax (<ipython-input-24-1a3818e70946>, line 1)",
          "traceback": [
            "\u001b[0;36m  File \u001b[0;32m\"<ipython-input-24-1a3818e70946>\"\u001b[0;36m, line \u001b[0;32m1\u001b[0m\n\u001b[0;31m    hnyetjn hrte()\u001b[0m\n\u001b[0m            ^\u001b[0m\n\u001b[0;31mSyntaxError\u001b[0m\u001b[0;31m:\u001b[0m invalid syntax\n"
          ]
        }
      ]
    }
  ]
}