{
  "nbformat": 4,
  "nbformat_minor": 0,
  "metadata": {
    "colab": {
      "provenance": [],
      "gpuType": "T4",
      "authorship_tag": "ABX9TyMxVqkpT1whUYc1EKOwyUjk",
      "include_colab_link": true
    },
    "kernelspec": {
      "name": "python3",
      "display_name": "Python 3"
    },
    "language_info": {
      "name": "python"
    },
    "accelerator": "GPU"
  },
  "cells": [
    {
      "cell_type": "markdown",
      "metadata": {
        "id": "view-in-github",
        "colab_type": "text"
      },
      "source": [
        "<a href=\"https://colab.research.google.com/github/PavelStelmakhV/hw310-keras-fasion-mnist/blob/main/keras_fasion_mnist_hw.ipynb\" target=\"_parent\"><img src=\"https://colab.research.google.com/assets/colab-badge.svg\" alt=\"Open In Colab\"/></a>"
      ]
    },
    {
      "cell_type": "code",
      "source": [
        "import tensorflow as tf\n",
        "from tensorflow.python.client import device_lib\n",
        "print(device_lib.list_local_devices())"
      ],
      "metadata": {
        "colab": {
          "base_uri": "https://localhost:8080/"
        },
        "id": "CQL6wYJUms6Y",
        "outputId": "9481aea8-8859-4b4f-a2c1-febbd9e1cfd7"
      },
      "execution_count": 49,
      "outputs": [
        {
          "output_type": "stream",
          "name": "stdout",
          "text": [
            "[name: \"/device:CPU:0\"\n",
            "device_type: \"CPU\"\n",
            "memory_limit: 268435456\n",
            "locality {\n",
            "}\n",
            "incarnation: 6315676220422301228\n",
            "xla_global_id: -1\n",
            "]\n"
          ]
        }
      ]
    },
    {
      "cell_type": "code",
      "execution_count": 50,
      "metadata": {
        "id": "vv7w0bgAVQPO"
      },
      "outputs": [],
      "source": [
        "import tensorflow as tf\n",
        "import numpy as np\n",
        "import matplotlib.pyplot as plt\n",
        "import tf_keras\n",
        "\n",
        "from keras import layers\n",
        "from keras import models\n",
        "from keras import regularizers\n",
        "from keras import callbacks\n",
        "from keras import initializers\n",
        "from keras.layers import BatchNormalization\n",
        "from keras.models import load_model\n",
        "from tensorflow.keras.utils import to_categorical"
      ]
    },
    {
      "cell_type": "code",
      "source": [
        "num_classes = 10"
      ],
      "metadata": {
        "id": "RvT1uYJsa5cn"
      },
      "execution_count": 51,
      "outputs": []
    },
    {
      "cell_type": "code",
      "source": [
        "fashion_mnist = tf.keras.datasets.fashion_mnist\n",
        "\n",
        "(x_train, y_train), (x_test, y_test) = fashion_mnist.load_data()"
      ],
      "metadata": {
        "id": "mOpywsNAzfGB"
      },
      "execution_count": 52,
      "outputs": []
    },
    {
      "cell_type": "code",
      "source": [
        "def drow_hist(data):\n",
        "  plt.figure(figsize=(8,6), dpi= 80)\n",
        "  _ = plt.hist(data,\n",
        "              bins=num_classes,\n",
        "              stacked=True,\n",
        "              density=False,\n",
        "              range=(0,10),\n",
        "              rwidth=0.9,\n",
        "              )"
      ],
      "metadata": {
        "id": "NjEvuOvomEoT"
      },
      "execution_count": 53,
      "outputs": []
    },
    {
      "cell_type": "code",
      "source": [
        "# create validation data\n",
        "val_size =6000\n",
        "\n",
        "x_val = x_train[-val_size:, :, :]\n",
        "x_train = x_train[:-val_size, :, :]\n",
        "\n",
        "y_val = y_train[-val_size:]\n",
        "y_train = y_train[:-val_size]"
      ],
      "metadata": {
        "id": "jAs92sDoVU89"
      },
      "execution_count": 54,
      "outputs": []
    },
    {
      "cell_type": "code",
      "source": [
        "x_train = x_train.astype('float32') / 255\n",
        "x_test = x_test.astype('float32') / 255\n",
        "x_val = x_val.astype('float32') / 255\n",
        "\n",
        "y_train = to_categorical(y_train)\n",
        "y_test = to_categorical(y_test)\n",
        "y_val = to_categorical(y_val)"
      ],
      "metadata": {
        "id": "t2gucjsJ0KUi"
      },
      "execution_count": 55,
      "outputs": []
    },
    {
      "cell_type": "code",
      "source": [
        "w_init_tanh = initializers.glorot_normal(seed=111)\n",
        "w_init_relu = initializers.HeNormal(seed=66)\n",
        "# w_init_relu = initializers.HeUniform(seed=24)\n",
        "b_init = initializers.Zeros()"
      ],
      "metadata": {
        "id": "yL9QTEtBGy4N"
      },
      "execution_count": 56,
      "outputs": []
    },
    {
      "cell_type": "code",
      "source": [
        "def layer_relu(model, neurons, drop_out):\n",
        "  model.add(BatchNormalization())\n",
        "  model.add(layers.Dense(neurons,\n",
        "                        activation='relu',\n",
        "                        kernel_initializer=w_init_relu,\n",
        "                        bias_initializer=b_init,\n",
        "                        kernel_regularizer=regularizers.L1L2(l1=1e-6, l2=1e-6),\n",
        "                        bias_regularizer=regularizers.L1L2(l1=1e-5, l2=1e-5),\n",
        "                        activity_regularizer=regularizers.L1L2(l1=1e-6, l2=1e-6)\n",
        "                         )\n",
        "  )\n",
        "  model.add(layers.Dropout(drop_out))\n",
        "  print(drop_out)\n",
        "  return model"
      ],
      "metadata": {
        "id": "ZZgs_25rKBCp"
      },
      "execution_count": 57,
      "outputs": []
    },
    {
      "cell_type": "code",
      "source": [
        "def layer_tanh(model, neurons, drop_out):\n",
        "  model.add(BatchNormalization())\n",
        "  model.add(layers.Dense(neurons,\n",
        "                        activation='tanh',\n",
        "                        kernel_initializer=w_init_tanh,\n",
        "                        bias_initializer=b_init\n",
        "                         )\n",
        "  )\n",
        "  model.add(layers.Dropout(drop_out))\n",
        "  return model"
      ],
      "metadata": {
        "id": "90JLLnkBR50t"
      },
      "execution_count": 58,
      "outputs": []
    },
    {
      "cell_type": "code",
      "source": [
        "model = models.Sequential()\n",
        "\n",
        "neurons = 256\n",
        "drop_out = 0.35\n",
        "\n",
        "model.add(layers.Flatten(input_shape=(28, 28)))\n",
        "model.add(layers.Dropout(0.13))\n",
        "\n",
        "model = layer_relu(model, neurons*1, 0.3)\n",
        "model = layer_relu(model, neurons*2, 0.35)\n",
        "model = layer_relu(model, neurons*2, 0.4)\n",
        "# model = layer_relu(model, neurons*2)\n",
        "\n",
        "\n",
        "model.add(layers.Dense(10, activation='softmax'))"
      ],
      "metadata": {
        "id": "atS39i4d0aqW",
        "colab": {
          "base_uri": "https://localhost:8080/"
        },
        "outputId": "c0b08cb5-4aae-40d0-d77c-706ce4c426b3"
      },
      "execution_count": 59,
      "outputs": [
        {
          "output_type": "stream",
          "name": "stdout",
          "text": [
            "0.3\n",
            "0.35\n",
            "0.4\n"
          ]
        }
      ]
    },
    {
      "cell_type": "markdown",
      "source": [
        "++++++++++++++++++++++++++++++++++++++++++++++++++++++++++++++++++++++++++++++++"
      ],
      "metadata": {
        "id": "tZO7hl7pM63y"
      }
    },
    {
      "cell_type": "code",
      "source": [
        "optimizer = tf.keras.optimizers.Nadam(learning_rate=0.0004,\n",
        "                                      beta_1=0.9,\n",
        "                                      beta_2=0.999,\n",
        "                                      epsilon=1e-06\n",
        ")\n",
        "# optimizer = tf.keras.optimizers.experimental.RMSprop(learning_rate=0.0005,\n",
        "#                                                     rho=0.5,\n",
        "#                                                     momentum=-16,\n",
        "#                                                     epsilon=1e-07,\n",
        "#                                                     centered=False,\n",
        "#                                                     weight_decay=None,\n",
        "#                                                     clipnorm=None,\n",
        "#                                                     clipvalue=None,\n",
        "#                                                     global_clipnorm=None,\n",
        "#                                                     use_ema=False,\n",
        "#                                                     ema_momentum=0.99,\n",
        "#                                                     ema_overwrite_frequency=100,\n",
        "#                                                     jit_compile=True,\n",
        "#                                                     name='RMSprop',\n",
        "# )"
      ],
      "metadata": {
        "id": "EzfnaqIZlfy8"
      },
      "execution_count": 60,
      "outputs": []
    },
    {
      "cell_type": "markdown",
      "source": [
        "++++++++++++++++++++++++++++++++++++++++++++++++++++++++++++++++++++++++++++++++"
      ],
      "metadata": {
        "id": "KHmBptvOM95Z"
      }
    },
    {
      "cell_type": "code",
      "source": [
        "model.compile(#optimizer='adam',\n",
        "              # optimizer='adamax',\n",
        "              optimizer=optimizer,\n",
        "              # optimizer='rmsprop',\n",
        "              # optimizer='sgd',\n",
        "              # optimizer='adadelta',\n",
        "              # loss='binary_crossentropy',\n",
        "              loss=tf.keras.losses.CategoricalCrossentropy(),\n",
        "              metrics=['categorical_accuracy']) # sparse_categorical_accuracy"
      ],
      "metadata": {
        "id": "hENVaAC7ilNY"
      },
      "execution_count": 61,
      "outputs": []
    },
    {
      "cell_type": "code",
      "source": [
        "# callback = callbacks.EarlyStopping(monitor='val_loss',\n",
        "#                                    patience=15,\n",
        "#                                    restore_best_weights=True,\n",
        "#                                    )\n",
        "es = callbacks.EarlyStopping(monitor='val_loss', mode='min', verbose=0, patience=60)\n",
        "mc = callbacks.ModelCheckpoint('best_model.h5', monitor='categorical_accuracy', mode='max', verbose=0, save_best_only=True)\n"
      ],
      "metadata": {
        "id": "5ihU4exVlsjm"
      },
      "execution_count": 62,
      "outputs": []
    },
    {
      "cell_type": "code",
      "source": [
        "history = model.fit(x_train, y_train,\n",
        "                    epochs=300,\n",
        "                    batch_size=128,\n",
        "                    # callbacks=[callback],\n",
        "                    callbacks=[mc, es],\n",
        "                    verbose=1, #многословие\n",
        "                    # validation_split=0.2\n",
        "                    validation_data=(x_val, y_val)\n",
        "                    )\n",
        "test_loss, test_acc = model.evaluate(x_test, y_test)\n",
        "print('\\nTest accuracy:', test_acc)"
      ],
      "metadata": {
        "id": "FH8HcMNm233I",
        "outputId": "bc9fc77a-d48d-44bf-a07c-94a020bbf430",
        "colab": {
          "base_uri": "https://localhost:8080/"
        }
      },
      "execution_count": 63,
      "outputs": [
        {
          "output_type": "stream",
          "name": "stdout",
          "text": [
            "Epoch 1/300\n",
            "422/422 [==============================] - 18s 32ms/step - loss: 0.9481 - categorical_accuracy: 0.6967 - val_loss: 0.5008 - val_categorical_accuracy: 0.8295\n",
            "Epoch 2/300\n",
            "422/422 [==============================] - 13s 31ms/step - loss: 0.6324 - categorical_accuracy: 0.7941 - val_loss: 0.4608 - val_categorical_accuracy: 0.8503\n",
            "Epoch 3/300\n",
            "422/422 [==============================] - 13s 31ms/step - loss: 0.5594 - categorical_accuracy: 0.8203 - val_loss: 0.4361 - val_categorical_accuracy: 0.8592\n",
            "Epoch 4/300\n",
            "422/422 [==============================] - 13s 31ms/step - loss: 0.5252 - categorical_accuracy: 0.8307 - val_loss: 0.4286 - val_categorical_accuracy: 0.8647\n",
            "Epoch 5/300\n",
            "422/422 [==============================] - 13s 31ms/step - loss: 0.4944 - categorical_accuracy: 0.8413 - val_loss: 0.4087 - val_categorical_accuracy: 0.8695\n",
            "Epoch 6/300\n",
            "422/422 [==============================] - 13s 31ms/step - loss: 0.4737 - categorical_accuracy: 0.8473 - val_loss: 0.4053 - val_categorical_accuracy: 0.8710\n",
            "Epoch 7/300\n",
            "422/422 [==============================] - 13s 30ms/step - loss: 0.4590 - categorical_accuracy: 0.8539 - val_loss: 0.3961 - val_categorical_accuracy: 0.8762\n",
            "Epoch 8/300\n",
            "422/422 [==============================] - 14s 34ms/step - loss: 0.4444 - categorical_accuracy: 0.8581 - val_loss: 0.3847 - val_categorical_accuracy: 0.8778\n",
            "Epoch 9/300\n",
            "422/422 [==============================] - 13s 31ms/step - loss: 0.4318 - categorical_accuracy: 0.8625 - val_loss: 0.3725 - val_categorical_accuracy: 0.8808\n",
            "Epoch 10/300\n",
            "422/422 [==============================] - 13s 31ms/step - loss: 0.4217 - categorical_accuracy: 0.8658 - val_loss: 0.3716 - val_categorical_accuracy: 0.8862\n",
            "Epoch 11/300\n",
            "422/422 [==============================] - 13s 31ms/step - loss: 0.4150 - categorical_accuracy: 0.8679 - val_loss: 0.3653 - val_categorical_accuracy: 0.8833\n",
            "Epoch 12/300\n",
            "422/422 [==============================] - 13s 31ms/step - loss: 0.4046 - categorical_accuracy: 0.8698 - val_loss: 0.3605 - val_categorical_accuracy: 0.8840\n",
            "Epoch 13/300\n",
            "422/422 [==============================] - 13s 31ms/step - loss: 0.4005 - categorical_accuracy: 0.8727 - val_loss: 0.3630 - val_categorical_accuracy: 0.8855\n",
            "Epoch 14/300\n",
            "422/422 [==============================] - 13s 31ms/step - loss: 0.3908 - categorical_accuracy: 0.8755 - val_loss: 0.3535 - val_categorical_accuracy: 0.8848\n",
            "Epoch 15/300\n",
            "422/422 [==============================] - 13s 31ms/step - loss: 0.3839 - categorical_accuracy: 0.8767 - val_loss: 0.3593 - val_categorical_accuracy: 0.8870\n",
            "Epoch 16/300\n",
            "422/422 [==============================] - 13s 31ms/step - loss: 0.3792 - categorical_accuracy: 0.8786 - val_loss: 0.3425 - val_categorical_accuracy: 0.8898\n",
            "Epoch 17/300\n",
            "422/422 [==============================] - 13s 31ms/step - loss: 0.3726 - categorical_accuracy: 0.8807 - val_loss: 0.3627 - val_categorical_accuracy: 0.8852\n",
            "Epoch 18/300\n",
            "422/422 [==============================] - 13s 31ms/step - loss: 0.3682 - categorical_accuracy: 0.8818 - val_loss: 0.3468 - val_categorical_accuracy: 0.8885\n",
            "Epoch 19/300\n",
            "422/422 [==============================] - 13s 31ms/step - loss: 0.3637 - categorical_accuracy: 0.8834 - val_loss: 0.3413 - val_categorical_accuracy: 0.8933\n",
            "Epoch 20/300\n",
            "422/422 [==============================] - 13s 31ms/step - loss: 0.3576 - categorical_accuracy: 0.8860 - val_loss: 0.3447 - val_categorical_accuracy: 0.8923\n",
            "Epoch 21/300\n",
            "422/422 [==============================] - 13s 31ms/step - loss: 0.3528 - categorical_accuracy: 0.8862 - val_loss: 0.3395 - val_categorical_accuracy: 0.8948\n",
            "Epoch 22/300\n",
            "422/422 [==============================] - 13s 31ms/step - loss: 0.3491 - categorical_accuracy: 0.8884 - val_loss: 0.3333 - val_categorical_accuracy: 0.8925\n",
            "Epoch 23/300\n",
            "422/422 [==============================] - 13s 31ms/step - loss: 0.3435 - categorical_accuracy: 0.8905 - val_loss: 0.3361 - val_categorical_accuracy: 0.8942\n",
            "Epoch 24/300\n",
            "422/422 [==============================] - 13s 31ms/step - loss: 0.3399 - categorical_accuracy: 0.8919 - val_loss: 0.3299 - val_categorical_accuracy: 0.8958\n",
            "Epoch 25/300\n",
            "422/422 [==============================] - 13s 30ms/step - loss: 0.3385 - categorical_accuracy: 0.8914 - val_loss: 0.3310 - val_categorical_accuracy: 0.8967\n",
            "Epoch 26/300\n",
            "422/422 [==============================] - 13s 31ms/step - loss: 0.3380 - categorical_accuracy: 0.8918 - val_loss: 0.3281 - val_categorical_accuracy: 0.8975\n",
            "Epoch 27/300\n",
            "422/422 [==============================] - 13s 31ms/step - loss: 0.3345 - categorical_accuracy: 0.8936 - val_loss: 0.3285 - val_categorical_accuracy: 0.8963\n",
            "Epoch 28/300\n",
            "422/422 [==============================] - 13s 31ms/step - loss: 0.3319 - categorical_accuracy: 0.8940 - val_loss: 0.3266 - val_categorical_accuracy: 0.8978\n",
            "Epoch 29/300\n",
            "422/422 [==============================] - 13s 31ms/step - loss: 0.3291 - categorical_accuracy: 0.8956 - val_loss: 0.3183 - val_categorical_accuracy: 0.8983\n",
            "Epoch 30/300\n",
            "422/422 [==============================] - 13s 31ms/step - loss: 0.3261 - categorical_accuracy: 0.8963 - val_loss: 0.3239 - val_categorical_accuracy: 0.9000\n",
            "Epoch 31/300\n",
            "422/422 [==============================] - 13s 31ms/step - loss: 0.3235 - categorical_accuracy: 0.8967 - val_loss: 0.3203 - val_categorical_accuracy: 0.8985\n",
            "Epoch 32/300\n",
            "422/422 [==============================] - 13s 31ms/step - loss: 0.3194 - categorical_accuracy: 0.8981 - val_loss: 0.3257 - val_categorical_accuracy: 0.8957\n",
            "Epoch 33/300\n",
            "422/422 [==============================] - 13s 31ms/step - loss: 0.3166 - categorical_accuracy: 0.8997 - val_loss: 0.3230 - val_categorical_accuracy: 0.8982\n",
            "Epoch 34/300\n",
            "422/422 [==============================] - 13s 31ms/step - loss: 0.3181 - categorical_accuracy: 0.8991 - val_loss: 0.3186 - val_categorical_accuracy: 0.8990\n",
            "Epoch 35/300\n",
            "422/422 [==============================] - 13s 31ms/step - loss: 0.3123 - categorical_accuracy: 0.9001 - val_loss: 0.3183 - val_categorical_accuracy: 0.8978\n",
            "Epoch 36/300\n",
            "422/422 [==============================] - 13s 31ms/step - loss: 0.3121 - categorical_accuracy: 0.8998 - val_loss: 0.3215 - val_categorical_accuracy: 0.9003\n",
            "Epoch 37/300\n",
            "422/422 [==============================] - 13s 31ms/step - loss: 0.3098 - categorical_accuracy: 0.9018 - val_loss: 0.3201 - val_categorical_accuracy: 0.9010\n",
            "Epoch 38/300\n",
            "422/422 [==============================] - 13s 31ms/step - loss: 0.3090 - categorical_accuracy: 0.9018 - val_loss: 0.3212 - val_categorical_accuracy: 0.9002\n",
            "Epoch 39/300\n",
            "422/422 [==============================] - 13s 31ms/step - loss: 0.3060 - categorical_accuracy: 0.9026 - val_loss: 0.3186 - val_categorical_accuracy: 0.9012\n",
            "Epoch 40/300\n",
            "422/422 [==============================] - 13s 32ms/step - loss: 0.3031 - categorical_accuracy: 0.9046 - val_loss: 0.3203 - val_categorical_accuracy: 0.9005\n",
            "Epoch 41/300\n",
            "422/422 [==============================] - 13s 30ms/step - loss: 0.3032 - categorical_accuracy: 0.9039 - val_loss: 0.3156 - val_categorical_accuracy: 0.9025\n",
            "Epoch 42/300\n",
            "422/422 [==============================] - 13s 31ms/step - loss: 0.3000 - categorical_accuracy: 0.9055 - val_loss: 0.3237 - val_categorical_accuracy: 0.9012\n",
            "Epoch 43/300\n",
            "422/422 [==============================] - 13s 31ms/step - loss: 0.2976 - categorical_accuracy: 0.9050 - val_loss: 0.3134 - val_categorical_accuracy: 0.9027\n",
            "Epoch 44/300\n",
            "422/422 [==============================] - 13s 31ms/step - loss: 0.2962 - categorical_accuracy: 0.9062 - val_loss: 0.3196 - val_categorical_accuracy: 0.9012\n",
            "Epoch 45/300\n",
            "422/422 [==============================] - 13s 31ms/step - loss: 0.2985 - categorical_accuracy: 0.9053 - val_loss: 0.3145 - val_categorical_accuracy: 0.8997\n",
            "Epoch 46/300\n",
            "422/422 [==============================] - 13s 31ms/step - loss: 0.2953 - categorical_accuracy: 0.9071 - val_loss: 0.3155 - val_categorical_accuracy: 0.9005\n",
            "Epoch 47/300\n",
            "422/422 [==============================] - 13s 31ms/step - loss: 0.2950 - categorical_accuracy: 0.9074 - val_loss: 0.3126 - val_categorical_accuracy: 0.9017\n",
            "Epoch 48/300\n",
            "422/422 [==============================] - 13s 31ms/step - loss: 0.2933 - categorical_accuracy: 0.9080 - val_loss: 0.3050 - val_categorical_accuracy: 0.9040\n",
            "Epoch 49/300\n",
            "422/422 [==============================] - 13s 31ms/step - loss: 0.2889 - categorical_accuracy: 0.9076 - val_loss: 0.3174 - val_categorical_accuracy: 0.9010\n",
            "Epoch 50/300\n",
            "422/422 [==============================] - 13s 31ms/step - loss: 0.2898 - categorical_accuracy: 0.9080 - val_loss: 0.3095 - val_categorical_accuracy: 0.9025\n",
            "Epoch 51/300\n",
            "422/422 [==============================] - 13s 31ms/step - loss: 0.2892 - categorical_accuracy: 0.9078 - val_loss: 0.3175 - val_categorical_accuracy: 0.9008\n",
            "Epoch 52/300\n",
            "422/422 [==============================] - 13s 31ms/step - loss: 0.2863 - categorical_accuracy: 0.9089 - val_loss: 0.3133 - val_categorical_accuracy: 0.9003\n",
            "Epoch 53/300\n",
            "422/422 [==============================] - 13s 31ms/step - loss: 0.2844 - categorical_accuracy: 0.9113 - val_loss: 0.3134 - val_categorical_accuracy: 0.9043\n",
            "Epoch 54/300\n",
            "422/422 [==============================] - 13s 31ms/step - loss: 0.2872 - categorical_accuracy: 0.9090 - val_loss: 0.3104 - val_categorical_accuracy: 0.9022\n",
            "Epoch 55/300\n",
            "422/422 [==============================] - 13s 31ms/step - loss: 0.2849 - categorical_accuracy: 0.9103 - val_loss: 0.3101 - val_categorical_accuracy: 0.9017\n",
            "Epoch 56/300\n",
            "422/422 [==============================] - 13s 31ms/step - loss: 0.2848 - categorical_accuracy: 0.9116 - val_loss: 0.3103 - val_categorical_accuracy: 0.9033\n",
            "Epoch 57/300\n",
            "422/422 [==============================] - 13s 31ms/step - loss: 0.2803 - categorical_accuracy: 0.9112 - val_loss: 0.3167 - val_categorical_accuracy: 0.9018\n",
            "Epoch 58/300\n",
            "422/422 [==============================] - 13s 31ms/step - loss: 0.2790 - categorical_accuracy: 0.9122 - val_loss: 0.3173 - val_categorical_accuracy: 0.9035\n",
            "Epoch 59/300\n",
            "422/422 [==============================] - 13s 31ms/step - loss: 0.2801 - categorical_accuracy: 0.9115 - val_loss: 0.3099 - val_categorical_accuracy: 0.9015\n",
            "Epoch 60/300\n",
            "422/422 [==============================] - 13s 31ms/step - loss: 0.2815 - categorical_accuracy: 0.9115 - val_loss: 0.3103 - val_categorical_accuracy: 0.9053\n",
            "Epoch 61/300\n",
            "422/422 [==============================] - 13s 31ms/step - loss: 0.2766 - categorical_accuracy: 0.9139 - val_loss: 0.3113 - val_categorical_accuracy: 0.9015\n",
            "Epoch 62/300\n",
            "422/422 [==============================] - 13s 31ms/step - loss: 0.2772 - categorical_accuracy: 0.9114 - val_loss: 0.3064 - val_categorical_accuracy: 0.9032\n",
            "Epoch 63/300\n",
            "422/422 [==============================] - 13s 31ms/step - loss: 0.2723 - categorical_accuracy: 0.9132 - val_loss: 0.3143 - val_categorical_accuracy: 0.9027\n",
            "Epoch 64/300\n",
            "422/422 [==============================] - 13s 31ms/step - loss: 0.2754 - categorical_accuracy: 0.9141 - val_loss: 0.3118 - val_categorical_accuracy: 0.9035\n",
            "Epoch 65/300\n",
            "422/422 [==============================] - 13s 31ms/step - loss: 0.2726 - categorical_accuracy: 0.9155 - val_loss: 0.3082 - val_categorical_accuracy: 0.9068\n",
            "Epoch 66/300\n",
            "422/422 [==============================] - 13s 31ms/step - loss: 0.2740 - categorical_accuracy: 0.9141 - val_loss: 0.3092 - val_categorical_accuracy: 0.9048\n",
            "Epoch 67/300\n",
            "422/422 [==============================] - 13s 31ms/step - loss: 0.2737 - categorical_accuracy: 0.9148 - val_loss: 0.3129 - val_categorical_accuracy: 0.9015\n",
            "Epoch 68/300\n",
            "422/422 [==============================] - 13s 31ms/step - loss: 0.2731 - categorical_accuracy: 0.9144 - val_loss: 0.3186 - val_categorical_accuracy: 0.9015\n",
            "Epoch 69/300\n",
            "422/422 [==============================] - 13s 31ms/step - loss: 0.2727 - categorical_accuracy: 0.9149 - val_loss: 0.3098 - val_categorical_accuracy: 0.9022\n",
            "Epoch 70/300\n",
            "422/422 [==============================] - 13s 31ms/step - loss: 0.2697 - categorical_accuracy: 0.9156 - val_loss: 0.3077 - val_categorical_accuracy: 0.9033\n",
            "Epoch 71/300\n",
            "422/422 [==============================] - 13s 31ms/step - loss: 0.2702 - categorical_accuracy: 0.9142 - val_loss: 0.3149 - val_categorical_accuracy: 0.9048\n",
            "Epoch 72/300\n",
            "422/422 [==============================] - 13s 31ms/step - loss: 0.2671 - categorical_accuracy: 0.9165 - val_loss: 0.3103 - val_categorical_accuracy: 0.9045\n",
            "Epoch 73/300\n",
            "422/422 [==============================] - 13s 31ms/step - loss: 0.2703 - categorical_accuracy: 0.9157 - val_loss: 0.3173 - val_categorical_accuracy: 0.9060\n",
            "Epoch 74/300\n",
            "422/422 [==============================] - 13s 31ms/step - loss: 0.2631 - categorical_accuracy: 0.9177 - val_loss: 0.3169 - val_categorical_accuracy: 0.9043\n",
            "Epoch 75/300\n",
            "422/422 [==============================] - 13s 31ms/step - loss: 0.2702 - categorical_accuracy: 0.9151 - val_loss: 0.3186 - val_categorical_accuracy: 0.9032\n",
            "Epoch 76/300\n",
            "422/422 [==============================] - 13s 31ms/step - loss: 0.2637 - categorical_accuracy: 0.9177 - val_loss: 0.3176 - val_categorical_accuracy: 0.9020\n",
            "Epoch 77/300\n",
            "422/422 [==============================] - 13s 31ms/step - loss: 0.2648 - categorical_accuracy: 0.9178 - val_loss: 0.3142 - val_categorical_accuracy: 0.9052\n",
            "Epoch 78/300\n",
            "422/422 [==============================] - 13s 31ms/step - loss: 0.2626 - categorical_accuracy: 0.9189 - val_loss: 0.3059 - val_categorical_accuracy: 0.9095\n",
            "Epoch 79/300\n",
            "422/422 [==============================] - 13s 31ms/step - loss: 0.2619 - categorical_accuracy: 0.9175 - val_loss: 0.3120 - val_categorical_accuracy: 0.9047\n",
            "Epoch 80/300\n",
            "422/422 [==============================] - 13s 31ms/step - loss: 0.2603 - categorical_accuracy: 0.9196 - val_loss: 0.3097 - val_categorical_accuracy: 0.9048\n",
            "Epoch 81/300\n",
            "422/422 [==============================] - 13s 32ms/step - loss: 0.2610 - categorical_accuracy: 0.9196 - val_loss: 0.3144 - val_categorical_accuracy: 0.9037\n",
            "Epoch 82/300\n",
            "422/422 [==============================] - 14s 32ms/step - loss: 0.2609 - categorical_accuracy: 0.9205 - val_loss: 0.3197 - val_categorical_accuracy: 0.9040\n",
            "Epoch 83/300\n",
            "422/422 [==============================] - 13s 31ms/step - loss: 0.2621 - categorical_accuracy: 0.9190 - val_loss: 0.3200 - val_categorical_accuracy: 0.9032\n",
            "Epoch 84/300\n",
            "422/422 [==============================] - 13s 31ms/step - loss: 0.2601 - categorical_accuracy: 0.9195 - val_loss: 0.3116 - val_categorical_accuracy: 0.9042\n",
            "Epoch 85/300\n",
            "422/422 [==============================] - 13s 31ms/step - loss: 0.2583 - categorical_accuracy: 0.9204 - val_loss: 0.3216 - val_categorical_accuracy: 0.9008\n",
            "Epoch 86/300\n",
            "422/422 [==============================] - 13s 31ms/step - loss: 0.2579 - categorical_accuracy: 0.9199 - val_loss: 0.3141 - val_categorical_accuracy: 0.9010\n",
            "Epoch 87/300\n",
            "422/422 [==============================] - 13s 31ms/step - loss: 0.2618 - categorical_accuracy: 0.9186 - val_loss: 0.3091 - val_categorical_accuracy: 0.9030\n",
            "Epoch 88/300\n",
            "422/422 [==============================] - 13s 31ms/step - loss: 0.2585 - categorical_accuracy: 0.9201 - val_loss: 0.3058 - val_categorical_accuracy: 0.9048\n",
            "Epoch 89/300\n",
            "422/422 [==============================] - 13s 31ms/step - loss: 0.2633 - categorical_accuracy: 0.9196 - val_loss: 0.3081 - val_categorical_accuracy: 0.9057\n",
            "Epoch 90/300\n",
            "422/422 [==============================] - 13s 31ms/step - loss: 0.2600 - categorical_accuracy: 0.9207 - val_loss: 0.3110 - val_categorical_accuracy: 0.9053\n",
            "Epoch 91/300\n",
            "422/422 [==============================] - 13s 31ms/step - loss: 0.2556 - categorical_accuracy: 0.9207 - val_loss: 0.3086 - val_categorical_accuracy: 0.9075\n",
            "Epoch 92/300\n",
            "422/422 [==============================] - 13s 31ms/step - loss: 0.2539 - categorical_accuracy: 0.9215 - val_loss: 0.3105 - val_categorical_accuracy: 0.9048\n",
            "Epoch 93/300\n",
            "422/422 [==============================] - 13s 31ms/step - loss: 0.2590 - categorical_accuracy: 0.9203 - val_loss: 0.3094 - val_categorical_accuracy: 0.9042\n",
            "Epoch 94/300\n",
            "422/422 [==============================] - 13s 31ms/step - loss: 0.2570 - categorical_accuracy: 0.9207 - val_loss: 0.3144 - val_categorical_accuracy: 0.9042\n",
            "Epoch 95/300\n",
            "422/422 [==============================] - 13s 31ms/step - loss: 0.2540 - categorical_accuracy: 0.9224 - val_loss: 0.3159 - val_categorical_accuracy: 0.9043\n",
            "Epoch 96/300\n",
            "422/422 [==============================] - 13s 31ms/step - loss: 0.2576 - categorical_accuracy: 0.9204 - val_loss: 0.3129 - val_categorical_accuracy: 0.9047\n",
            "Epoch 97/300\n",
            "422/422 [==============================] - 13s 31ms/step - loss: 0.2586 - categorical_accuracy: 0.9202 - val_loss: 0.3100 - val_categorical_accuracy: 0.9043\n",
            "Epoch 98/300\n",
            "422/422 [==============================] - 13s 31ms/step - loss: 0.2561 - categorical_accuracy: 0.9207 - val_loss: 0.3196 - val_categorical_accuracy: 0.9022\n",
            "Epoch 99/300\n",
            "422/422 [==============================] - 13s 31ms/step - loss: 0.2548 - categorical_accuracy: 0.9212 - val_loss: 0.3067 - val_categorical_accuracy: 0.9060\n",
            "Epoch 100/300\n",
            "422/422 [==============================] - 13s 32ms/step - loss: 0.2537 - categorical_accuracy: 0.9233 - val_loss: 0.3126 - val_categorical_accuracy: 0.9052\n",
            "Epoch 101/300\n",
            "422/422 [==============================] - 13s 31ms/step - loss: 0.2514 - categorical_accuracy: 0.9218 - val_loss: 0.3149 - val_categorical_accuracy: 0.9050\n",
            "Epoch 102/300\n",
            "422/422 [==============================] - 13s 31ms/step - loss: 0.2512 - categorical_accuracy: 0.9229 - val_loss: 0.3143 - val_categorical_accuracy: 0.9050\n",
            "Epoch 103/300\n",
            "422/422 [==============================] - 13s 31ms/step - loss: 0.2516 - categorical_accuracy: 0.9234 - val_loss: 0.3154 - val_categorical_accuracy: 0.9058\n",
            "Epoch 104/300\n",
            "422/422 [==============================] - 13s 31ms/step - loss: 0.2535 - categorical_accuracy: 0.9235 - val_loss: 0.3203 - val_categorical_accuracy: 0.9042\n",
            "Epoch 105/300\n",
            "422/422 [==============================] - 13s 31ms/step - loss: 0.2535 - categorical_accuracy: 0.9221 - val_loss: 0.3191 - val_categorical_accuracy: 0.9067\n",
            "Epoch 106/300\n",
            "422/422 [==============================] - 13s 31ms/step - loss: 0.2531 - categorical_accuracy: 0.9227 - val_loss: 0.3123 - val_categorical_accuracy: 0.9057\n",
            "Epoch 107/300\n",
            "422/422 [==============================] - 13s 31ms/step - loss: 0.2517 - categorical_accuracy: 0.9238 - val_loss: 0.3171 - val_categorical_accuracy: 0.9055\n",
            "Epoch 108/300\n",
            "422/422 [==============================] - 13s 31ms/step - loss: 0.2523 - categorical_accuracy: 0.9226 - val_loss: 0.3106 - val_categorical_accuracy: 0.9082\n",
            "313/313 [==============================] - 1s 4ms/step - loss: 0.3320 - categorical_accuracy: 0.9040\n",
            "\n",
            "Test accuracy: 0.9039999842643738\n"
          ]
        }
      ]
    },
    {
      "cell_type": "code",
      "source": [
        "print('\\nhistory dict:', list(history.history.keys()))"
      ],
      "metadata": {
        "id": "CxRE-B_Q6Sii",
        "outputId": "14ed7a88-9402-4848-96e6-e09e0ddba273",
        "colab": {
          "base_uri": "https://localhost:8080/"
        }
      },
      "execution_count": 64,
      "outputs": [
        {
          "output_type": "stream",
          "name": "stdout",
          "text": [
            "\n",
            "history dict: ['loss', 'categorical_accuracy', 'val_loss', 'val_categorical_accuracy']\n"
          ]
        }
      ]
    },
    {
      "cell_type": "code",
      "source": [
        "result = model.evaluate(x_test, y_test)\n",
        "print(result)"
      ],
      "metadata": {
        "id": "YXpwRRTvTBNg",
        "outputId": "3218b85d-93de-4dd8-9036-f61e6001205d",
        "colab": {
          "base_uri": "https://localhost:8080/"
        }
      },
      "execution_count": 65,
      "outputs": [
        {
          "output_type": "stream",
          "name": "stdout",
          "text": [
            "313/313 [==============================] - 1s 4ms/step - loss: 0.3320 - categorical_accuracy: 0.9040\n",
            "[0.3320116102695465, 0.9039999842643738]\n"
          ]
        }
      ]
    },
    {
      "cell_type": "code",
      "source": [
        "saved_model = load_model('best_model.h5')\n",
        "result = saved_model.evaluate(x_test, y_test)\n",
        "print(result)"
      ],
      "metadata": {
        "id": "dpaZAW0vp1AZ",
        "outputId": "bed27efa-5284-4c4f-bed9-08be8708b02a",
        "colab": {
          "base_uri": "https://localhost:8080/"
        }
      },
      "execution_count": 66,
      "outputs": [
        {
          "output_type": "stream",
          "name": "stdout",
          "text": [
            "313/313 [==============================] - 2s 4ms/step - loss: 0.3409 - categorical_accuracy: 0.8999\n",
            "[0.34088554978370667, 0.8999000191688538]\n"
          ]
        }
      ]
    },
    {
      "cell_type": "code",
      "source": [
        "# from keras.models import load_model\n",
        "# saved_model = load_model('best_model.h5')\n",
        "# # _, train_acc = saved_model.evaluate(x_train, y_train, verbose=0)\n",
        "# _, test_acc = saved_model.evaluate(x_test, y_test, verbose=0)\n",
        "# print('Test: %.3f' % (test_acc))"
      ],
      "metadata": {
        "id": "DR_MS9DABo_K"
      },
      "execution_count": 67,
      "outputs": []
    },
    {
      "cell_type": "code",
      "source": [
        "history_dict = history.history\n",
        "loss_values = history_dict['loss']\n",
        "val_loss_values = history_dict['val_loss']\n",
        "\n",
        "epochs = range(1, len(history_dict['loss']) + 1)\n",
        "\n",
        "plt.figure(figsize=(10, 5))\n",
        "plt.plot(epochs, loss_values, 'bo', label='Training loss')\n",
        "plt.plot(epochs, val_loss_values, 'r', label='Validation loss')\n",
        "plt.ylim (0.2, 0.5)\n",
        "plt.title('Training and validation loss')\n",
        "plt.xlabel('Epochs')\n",
        "plt.ylabel('Loss')\n",
        "plt.legend()\n",
        "plt.grid(True)\n",
        "plt.show()\n",
        "1\n",
        "plt.clf()\n",
        "plt.figure(figsize=(10, 5))\n",
        "val_acc_values = history_dict['categorical_accuracy']\n",
        "plt.plot(epochs, history_dict['categorical_accuracy'], 'bo', label='Training acc')\n",
        "plt.plot(epochs, history_dict['val_categorical_accuracy'], 'r', label='Validation acc')\n",
        "plt.ylim (0.86, 0.94)\n",
        "plt.title('Training and validation accuracy')\n",
        "plt.xlabel('Epochs')\n",
        "plt.ylabel('Accuracy')\n",
        "plt.legend()\n",
        "plt.grid(True)"
      ],
      "metadata": {
        "id": "2Ll_5sGlXKMH",
        "outputId": "828c5f56-6d48-4bf8-a53f-5984b1a41cd9",
        "colab": {
          "base_uri": "https://localhost:8080/",
          "height": 975
        }
      },
      "execution_count": 68,
      "outputs": [
        {
          "output_type": "display_data",
          "data": {
            "text/plain": [
              "<Figure size 1000x500 with 1 Axes>"
            ],
            "image/png": "[encoded data removed]"
          },
          "metadata": {}
        },
        {
          "output_type": "display_data",
          "data": {
            "text/plain": [
              "<Figure size 640x480 with 0 Axes>"
            ]
          },
          "metadata": {}
        },
        {
          "output_type": "display_data",
          "data": {
            "text/plain": [
              "<Figure size 1000x500 with 1 Axes>"
            ],
            "image/png": "[encoded data removed]"
          },
          "metadata": {}
        }
      ]
    },
    {
      "cell_type": "code",
      "source": [
        "probability_model = tf.keras.Sequential([model,\n",
        "                                         tf.keras.layers.Softmax()])"
      ],
      "metadata": {
        "id": "VzOdKAT_uV-f"
      },
      "execution_count": 69,
      "outputs": []
    },
    {
      "cell_type": "code",
      "source": [
        "predictions = probability_model.predict(x_test)"
      ],
      "metadata": {
        "id": "f4is3NFruYom",
        "outputId": "b4fe81d7-5580-4108-b3a2-82b3df55c8ef",
        "colab": {
          "base_uri": "https://localhost:8080/"
        }
      },
      "execution_count": 70,
      "outputs": [
        {
          "output_type": "stream",
          "name": "stdout",
          "text": [
            "313/313 [==============================] - 1s 3ms/step\n"
          ]
        }
      ]
    },
    {
      "cell_type": "code",
      "source": [
        "predictions[0]"
      ],
      "metadata": {
        "id": "82cigvlZudz_",
        "outputId": "642c6a9d-c139-4e4f-b226-4a680f67ae1d",
        "colab": {
          "base_uri": "https://localhost:8080/"
        }
      },
      "execution_count": 71,
      "outputs": [
        {
          "output_type": "execute_result",
          "data": {
            "text/plain": [
              "array([0.08540884, 0.08540882, 0.08540885, 0.08540902, 0.08540887,\n",
              "       0.08541699, 0.08540895, 0.08589602, 0.08540886, 0.23082468],\n",
              "      dtype=float32)"
            ]
          },
          "metadata": {},
          "execution_count": 71
        }
      ]
    },
    {
      "cell_type": "code",
      "source": [
        "model.summary()"
      ],
      "metadata": {
        "id": "6RsQPHyYuNGe",
        "outputId": "a68b8dd2-6c88-4f47-b73e-e618c93ea28f",
        "colab": {
          "base_uri": "https://localhost:8080/"
        }
      },
      "execution_count": 72,
      "outputs": [
        {
          "output_type": "stream",
          "name": "stdout",
          "text": [
            "Model: \"sequential_4\"\n",
            "_________________________________________________________________\n",
            " Layer (type)                Output Shape              Param #   \n",
            "=================================================================\n",
            " flatten_2 (Flatten)         (None, 784)               0         \n",
            "                                                                 \n",
            " dropout_8 (Dropout)         (None, 784)               0         \n",
            "                                                                 \n",
            " batch_normalization_6 (Bat  (None, 784)               3136      \n",
            " chNormalization)                                                \n",
            "                                                                 \n",
            " dense_8 (Dense)             (None, 256)               200960    \n",
            "                                                                 \n",
            " dropout_9 (Dropout)         (None, 256)               0         \n",
            "                                                                 \n",
            " batch_normalization_7 (Bat  (None, 256)               1024      \n",
            " chNormalization)                                                \n",
            "                                                                 \n",
            " dense_9 (Dense)             (None, 512)               131584    \n",
            "                                                                 \n",
            " dropout_10 (Dropout)        (None, 512)               0         \n",
            "                                                                 \n",
            " batch_normalization_8 (Bat  (None, 512)               2048      \n",
            " chNormalization)                                                \n",
            "                                                                 \n",
            " dense_10 (Dense)            (None, 512)               262656    \n",
            "                                                                 \n",
            " dropout_11 (Dropout)        (None, 512)               0         \n",
            "                                                                 \n",
            " dense_11 (Dense)            (None, 10)                5130      \n",
            "                                                                 \n",
            "=================================================================\n",
            "Total params: 606538 (2.31 MB)\n",
            "Trainable params: 603434 (2.30 MB)\n",
            "Non-trainable params: 3104 (12.12 KB)\n",
            "_________________________________________________________________\n"
          ]
        }
      ]
    }
  ]
}