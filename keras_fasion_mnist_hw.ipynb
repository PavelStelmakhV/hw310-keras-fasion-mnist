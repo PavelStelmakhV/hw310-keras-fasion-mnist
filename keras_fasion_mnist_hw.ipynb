{
  "nbformat": 4,
  "nbformat_minor": 0,
  "metadata": {
    "colab": {
      "provenance": [],
      "gpuType": "T4",
      "authorship_tag": "ABX9TyOsQJHJCdXzAIvq+IrM98DN",
      "include_colab_link": true
    },
    "kernelspec": {
      "name": "python3",
      "display_name": "Python 3"
    },
    "language_info": {
      "name": "python"
    },
    "accelerator": "GPU"
  },
  "cells": [
    {
      "cell_type": "markdown",
      "metadata": {
        "id": "view-in-github",
        "colab_type": "text"
      },
      "source": [
        "<a href=\"https://colab.research.google.com/github/PavelStelmakhV/hw310-keras-fasion-mnist/blob/main/keras_fasion_mnist_hw.ipynb\" target=\"_parent\"><img src=\"https://colab.research.google.com/assets/colab-badge.svg\" alt=\"Open In Colab\"/></a>"
      ]
    },
    {
      "cell_type": "code",
      "execution_count": 2,
      "metadata": {
        "id": "vv7w0bgAVQPO"
      },
      "outputs": [],
      "source": [
        "import tensorflow as tf\n",
        "import numpy as np\n",
        "import matplotlib.pyplot as plt\n",
        "import tf_keras\n",
        "\n",
        "from keras import layers\n",
        "from keras import regularizers\n",
        "from keras import callbacks\n",
        "from keras import initializers\n",
        "from keras.layers import BatchNormalization\n",
        "from keras.models import load_model"
      ]
    },
    {
      "cell_type": "code",
      "source": [
        "fashion_mnist = tf.keras.datasets.fashion_mnist\n",
        "\n",
        "(x_train, y_train), (x_test, y_test) = fashion_mnist.load_data()"
      ],
      "metadata": {
        "id": "mOpywsNAzfGB",
        "colab": {
          "base_uri": "https://localhost:8080/"
        },
        "outputId": "bc885279-84fe-461e-f387-aece3b7b11aa"
      },
      "execution_count": 3,
      "outputs": [
        {
          "output_type": "stream",
          "name": "stdout",
          "text": [
            "Downloading data from https://storage.googleapis.com/tensorflow/tf-keras-datasets/train-labels-idx1-ubyte.gz\n",
            "29515/29515 [==============================] - 0s 0us/step\n",
            "Downloading data from https://storage.googleapis.com/tensorflow/tf-keras-datasets/train-images-idx3-ubyte.gz\n",
            "26421880/26421880 [==============================] - 0s 0us/step\n",
            "Downloading data from https://storage.googleapis.com/tensorflow/tf-keras-datasets/t10k-labels-idx1-ubyte.gz\n",
            "5148/5148 [==============================] - 0s 0us/step\n",
            "Downloading data from https://storage.googleapis.com/tensorflow/tf-keras-datasets/t10k-images-idx3-ubyte.gz\n",
            "4422102/4422102 [==============================] - 0s 0us/step\n"
          ]
        }
      ]
    },
    {
      "cell_type": "code",
      "source": [
        "x_train = x_train.astype('float32') / 255\n",
        "x_test = x_test.astype('float32') / 255\n",
        "\n",
        "y_train = y_train.astype('float32')\n",
        "y_test = y_test.astype('float32')"
      ],
      "metadata": {
        "id": "t2gucjsJ0KUi"
      },
      "execution_count": 4,
      "outputs": []
    },
    {
      "cell_type": "code",
      "source": [
        "w_init_tanh = initializers.glorot_normal(seed=66)\n",
        "w_init_relu = initializers.HeNormal(seed=66)\n",
        "b_init = initializers.Zeros()"
      ],
      "metadata": {
        "id": "yL9QTEtBGy4N"
      },
      "execution_count": 5,
      "outputs": []
    },
    {
      "cell_type": "code",
      "source": [
        "drop_out = 0.25"
      ],
      "metadata": {
        "id": "flsDcVTnU10J"
      },
      "execution_count": 6,
      "outputs": []
    },
    {
      "cell_type": "code",
      "source": [
        "def layer_relu(model, neurons):\n",
        "  model.add(BatchNormalization())\n",
        "  model.add(layers.Dense(neurons,\n",
        "                       activation='relu',\n",
        "                       kernel_initializer=w_init_relu,\n",
        "                       bias_initializer=b_init))\n",
        "  model.add(layers.Dropout(drop_out))\n",
        "  return model"
      ],
      "metadata": {
        "id": "ZZgs_25rKBCp"
      },
      "execution_count": 7,
      "outputs": []
    },
    {
      "cell_type": "code",
      "source": [
        "def layer_tanh(model, neurons):\n",
        "  model.add(BatchNormalization())\n",
        "  model.add(layers.Dense(neurons,\n",
        "                        activation='tanh',\n",
        "                        kernel_initializer=w_init_tanh,\n",
        "                        bias_initializer=b_init))\n",
        "  model.add(layers.Dropout(drop_out))\n",
        "  return model"
      ],
      "metadata": {
        "id": "90JLLnkBR50t"
      },
      "execution_count": 8,
      "outputs": []
    },
    {
      "cell_type": "code",
      "source": [],
      "metadata": {
        "id": "Va9BaQ9eG_uz"
      },
      "execution_count": 8,
      "outputs": []
    },
    {
      "cell_type": "code",
      "source": [
        "model = tf.keras.Sequential()\n",
        "\n",
        "# drop_out = 0.50\n",
        "neurons = 256\n",
        "\n",
        "model.add(layers.Flatten(input_shape=(28, 28)))\n",
        "model.add(layers.Dropout(drop_out))\n",
        "\n",
        "model = layer_relu(model, neurons*1)\n",
        "# model = layer_tanh(model, neurons*1)\n",
        "model = layer_tanh(model, neurons*2)\n",
        "model = layer_relu(model, neurons*2)\n",
        "\n",
        "model.add(layers.Dense(10, activation='softmax'))"
      ],
      "metadata": {
        "id": "atS39i4d0aqW"
      },
      "execution_count": 9,
      "outputs": []
    },
    {
      "cell_type": "markdown",
      "source": [
        "++++++++++++++++++++++++++++++++++++++++++++++++++++++++++++++++++++++++++++++++"
      ],
      "metadata": {
        "id": "tZO7hl7pM63y"
      }
    },
    {
      "cell_type": "code",
      "source": [
        "# learning_rate=0.0004\n",
        "# beta_1=0.95,\n",
        "# beta_2=0.999,\n",
        "# epsilon=1e-07\n",
        "optimizer = tf.keras.optimizers.Nadam(learning_rate=0.0005,\n",
        "                                      beta_1=0.91,\n",
        "                                      beta_2=0.999,\n",
        "                                      epsilon=1e-07\n",
        ")"
      ],
      "metadata": {
        "id": "EzfnaqIZlfy8"
      },
      "execution_count": 10,
      "outputs": []
    },
    {
      "cell_type": "markdown",
      "source": [
        "++++++++++++++++++++++++++++++++++++++++++++++++++++++++++++++++++++++++++++++++"
      ],
      "metadata": {
        "id": "KHmBptvOM95Z"
      }
    },
    {
      "cell_type": "code",
      "source": [
        "model.compile(#optimizer='adam',\n",
        "              # optimizer='adamax',\n",
        "              optimizer=optimizer,\n",
        "              # optimizer='rmsprop',\n",
        "              # optimizer='sgd',\n",
        "              # optimizer='adadelta',\n",
        "              # loss='binary_crossentropy',\n",
        "              loss=tf.keras.losses.SparseCategoricalCrossentropy(),\n",
        "              metrics=['sparse_categorical_accuracy']) # sparse_categorical_accuracy"
      ],
      "metadata": {
        "id": "hENVaAC7ilNY"
      },
      "execution_count": 11,
      "outputs": []
    },
    {
      "cell_type": "code",
      "source": [
        "x = np.random.random((1, 28, 28))\n",
        "a = model.predict(x)\n",
        "_ = plt.hist(np.transpose(a))"
      ],
      "metadata": {
        "id": "RFgZHNNFMa8p",
        "outputId": "381d1561-dd38-4a82-da56-d68f02e0c73a",
        "colab": {
          "base_uri": "https://localhost:8080/",
          "height": 448
        }
      },
      "execution_count": 12,
      "outputs": [
        {
          "output_type": "stream",
          "name": "stdout",
          "text": [
            "1/1 [==============================] - 0s 236ms/step\n"
          ]
        },
        {
          "output_type": "display_data",
          "data": {
            "text/plain": [
              "<Figure size 640x480 with 1 Axes>"
            ],
            "image/png": "[encoded data removed]"
          },
          "metadata": {}
        }
      ]
    },
    {
      "cell_type": "code",
      "source": [
        "y_pred = model.predict(x_test)"
      ],
      "metadata": {
        "id": "UDP8OKKZ8oQa",
        "outputId": "95036289-6958-469e-efdf-3dd609d352d0",
        "colab": {
          "base_uri": "https://localhost:8080/"
        }
      },
      "execution_count": 13,
      "outputs": [
        {
          "output_type": "stream",
          "name": "stdout",
          "text": [
            "313/313 [==============================] - 1s 4ms/step\n"
          ]
        }
      ]
    },
    {
      "cell_type": "code",
      "source": [
        "callback = callbacks.EarlyStopping(monitor='val_loss',\n",
        "                                   patience=50,\n",
        "                                   restore_best_weights=True,\n",
        "                                   )\n",
        "es = callbacks.EarlyStopping(monitor='val_loss', mode='min', verbose=0, patience=40)\n",
        "mc = callbacks.ModelCheckpoint('best_model.h5', monitor='sparse_categorical_accuracy', mode='max', verbose=0, save_best_only=True)\n"
      ],
      "metadata": {
        "id": "5ihU4exVlsjm"
      },
      "execution_count": 14,
      "outputs": []
    },
    {
      "cell_type": "code",
      "source": [
        "history = model.fit(x_train, y_train,\n",
        "                    epochs=300,\n",
        "                    batch_size=128,\n",
        "                    # callbacks=[callback],\n",
        "                    callbacks=[mc],\n",
        "                    verbose=1, #многословие\n",
        "                    validation_split=0.08\n",
        "                    # validation_data=(x_val, y_val)\n",
        "                    )\n",
        "test_loss, test_acc = model.evaluate(x_test, y_test)\n",
        "print('\\nTest accuracy:', test_acc)"
      ],
      "metadata": {
        "id": "FH8HcMNm233I",
        "outputId": "78cb5552-9cc7-4f09-ca2e-1441f6ec90bb",
        "colab": {
          "base_uri": "https://localhost:8080/"
        }
      },
      "execution_count": 15,
      "outputs": [
        {
          "output_type": "stream",
          "name": "stdout",
          "text": [
            "Epoch 1/300\n",
            "430/432 [============================>.] - ETA: 0s - loss: 0.7484 - sparse_categorical_accuracy: 0.7382"
          ]
        },
        {
          "output_type": "stream",
          "name": "stderr",
          "text": [
            "/usr/local/lib/python3.10/dist-packages/keras/src/engine/training.py:3103: UserWarning: You are saving your model as an HDF5 file via `model.save()`. This file format is considered legacy. We recommend using instead the native Keras format, e.g. `model.save('my_model.keras')`.\n",
            "  saving_api.save_model(\n"
          ]
        },
        {
          "output_type": "stream",
          "name": "stdout",
          "text": [
            "\b\b\b\b\b\b\b\b\b\b\b\b\b\b\b\b\b\b\b\b\b\b\b\b\b\b\b\b\b\b\b\b\b\b\b\b\b\b\b\b\b\b\b\b\b\b\b\b\b\b\b\b\b\b\b\b\b\b\b\b\b\b\b\b\b\b\b\b\b\b\b\b\b\b\b\b\b\b\b\b\b\b\b\b\b\b\b\b\b\b\b\b\b\b\b\b\b\b\b\b\b\b\b\r432/432 [==============================] - 16s 29ms/step - loss: 0.7480 - sparse_categorical_accuracy: 0.7384 - val_loss: 0.4347 - val_sparse_categorical_accuracy: 0.8369\n",
            "Epoch 2/300\n",
            "432/432 [==============================] - 11s 26ms/step - loss: 0.5310 - sparse_categorical_accuracy: 0.8061 - val_loss: 0.3904 - val_sparse_categorical_accuracy: 0.8554\n",
            "Epoch 3/300\n",
            "432/432 [==============================] - 11s 25ms/step - loss: 0.4700 - sparse_categorical_accuracy: 0.8268 - val_loss: 0.3669 - val_sparse_categorical_accuracy: 0.8635\n",
            "Epoch 4/300\n",
            "432/432 [==============================] - 11s 26ms/step - loss: 0.4403 - sparse_categorical_accuracy: 0.8369 - val_loss: 0.3685 - val_sparse_categorical_accuracy: 0.8669\n",
            "Epoch 5/300\n",
            "432/432 [==============================] - 13s 29ms/step - loss: 0.4170 - sparse_categorical_accuracy: 0.8452 - val_loss: 0.3458 - val_sparse_categorical_accuracy: 0.8717\n",
            "Epoch 6/300\n",
            "432/432 [==============================] - 14s 32ms/step - loss: 0.4013 - sparse_categorical_accuracy: 0.8515 - val_loss: 0.3409 - val_sparse_categorical_accuracy: 0.8750\n",
            "Epoch 7/300\n",
            "432/432 [==============================] - 12s 27ms/step - loss: 0.3835 - sparse_categorical_accuracy: 0.8561 - val_loss: 0.3292 - val_sparse_categorical_accuracy: 0.8792\n",
            "Epoch 8/300\n",
            "432/432 [==============================] - 12s 28ms/step - loss: 0.3783 - sparse_categorical_accuracy: 0.8585 - val_loss: 0.3328 - val_sparse_categorical_accuracy: 0.8798\n",
            "Epoch 9/300\n",
            "432/432 [==============================] - 11s 26ms/step - loss: 0.3686 - sparse_categorical_accuracy: 0.8617 - val_loss: 0.3161 - val_sparse_categorical_accuracy: 0.8794\n",
            "Epoch 10/300\n",
            "432/432 [==============================] - 11s 26ms/step - loss: 0.3589 - sparse_categorical_accuracy: 0.8659 - val_loss: 0.3167 - val_sparse_categorical_accuracy: 0.8798\n",
            "Epoch 11/300\n",
            "432/432 [==============================] - 11s 26ms/step - loss: 0.3530 - sparse_categorical_accuracy: 0.8689 - val_loss: 0.3176 - val_sparse_categorical_accuracy: 0.8800\n",
            "Epoch 12/300\n",
            "432/432 [==============================] - 11s 26ms/step - loss: 0.3470 - sparse_categorical_accuracy: 0.8687 - val_loss: 0.3107 - val_sparse_categorical_accuracy: 0.8840\n",
            "Epoch 13/300\n",
            "432/432 [==============================] - 11s 26ms/step - loss: 0.3418 - sparse_categorical_accuracy: 0.8719 - val_loss: 0.3050 - val_sparse_categorical_accuracy: 0.8848\n",
            "Epoch 14/300\n",
            "432/432 [==============================] - 11s 25ms/step - loss: 0.3368 - sparse_categorical_accuracy: 0.8723 - val_loss: 0.3004 - val_sparse_categorical_accuracy: 0.8894\n",
            "Epoch 15/300\n",
            "432/432 [==============================] - 11s 25ms/step - loss: 0.3341 - sparse_categorical_accuracy: 0.8744 - val_loss: 0.2971 - val_sparse_categorical_accuracy: 0.8877\n",
            "Epoch 16/300\n",
            "432/432 [==============================] - 11s 26ms/step - loss: 0.3301 - sparse_categorical_accuracy: 0.8754 - val_loss: 0.3043 - val_sparse_categorical_accuracy: 0.8875\n",
            "Epoch 17/300\n",
            "432/432 [==============================] - 12s 27ms/step - loss: 0.3202 - sparse_categorical_accuracy: 0.8789 - val_loss: 0.3001 - val_sparse_categorical_accuracy: 0.8900\n",
            "Epoch 18/300\n",
            "432/432 [==============================] - 11s 26ms/step - loss: 0.3180 - sparse_categorical_accuracy: 0.8807 - val_loss: 0.2948 - val_sparse_categorical_accuracy: 0.8923\n",
            "Epoch 19/300\n",
            "432/432 [==============================] - 12s 27ms/step - loss: 0.3130 - sparse_categorical_accuracy: 0.8815 - val_loss: 0.2903 - val_sparse_categorical_accuracy: 0.8965\n",
            "Epoch 20/300\n",
            "432/432 [==============================] - 12s 27ms/step - loss: 0.3103 - sparse_categorical_accuracy: 0.8820 - val_loss: 0.2960 - val_sparse_categorical_accuracy: 0.8915\n",
            "Epoch 21/300\n",
            "432/432 [==============================] - 12s 27ms/step - loss: 0.3118 - sparse_categorical_accuracy: 0.8828 - val_loss: 0.2863 - val_sparse_categorical_accuracy: 0.8963\n",
            "Epoch 22/300\n",
            "432/432 [==============================] - 12s 27ms/step - loss: 0.3066 - sparse_categorical_accuracy: 0.8846 - val_loss: 0.2976 - val_sparse_categorical_accuracy: 0.8900\n",
            "Epoch 23/300\n",
            "432/432 [==============================] - 12s 28ms/step - loss: 0.3017 - sparse_categorical_accuracy: 0.8857 - val_loss: 0.2888 - val_sparse_categorical_accuracy: 0.8940\n",
            "Epoch 24/300\n",
            "432/432 [==============================] - 11s 26ms/step - loss: 0.2999 - sparse_categorical_accuracy: 0.8873 - val_loss: 0.2875 - val_sparse_categorical_accuracy: 0.8967\n",
            "Epoch 25/300\n",
            "432/432 [==============================] - 11s 26ms/step - loss: 0.2980 - sparse_categorical_accuracy: 0.8878 - val_loss: 0.2840 - val_sparse_categorical_accuracy: 0.8923\n",
            "Epoch 26/300\n",
            "432/432 [==============================] - 11s 26ms/step - loss: 0.2967 - sparse_categorical_accuracy: 0.8868 - val_loss: 0.2828 - val_sparse_categorical_accuracy: 0.8963\n",
            "Epoch 27/300\n",
            "432/432 [==============================] - 12s 27ms/step - loss: 0.2917 - sparse_categorical_accuracy: 0.8901 - val_loss: 0.2809 - val_sparse_categorical_accuracy: 0.8990\n",
            "Epoch 28/300\n",
            "432/432 [==============================] - 12s 28ms/step - loss: 0.2923 - sparse_categorical_accuracy: 0.8891 - val_loss: 0.2793 - val_sparse_categorical_accuracy: 0.8967\n",
            "Epoch 29/300\n",
            "432/432 [==============================] - 12s 27ms/step - loss: 0.2849 - sparse_categorical_accuracy: 0.8914 - val_loss: 0.2795 - val_sparse_categorical_accuracy: 0.9008\n",
            "Epoch 30/300\n",
            "432/432 [==============================] - 12s 27ms/step - loss: 0.2859 - sparse_categorical_accuracy: 0.8905 - val_loss: 0.2764 - val_sparse_categorical_accuracy: 0.8956\n",
            "Epoch 31/300\n",
            "432/432 [==============================] - 12s 27ms/step - loss: 0.2804 - sparse_categorical_accuracy: 0.8933 - val_loss: 0.2801 - val_sparse_categorical_accuracy: 0.8985\n",
            "Epoch 32/300\n",
            "432/432 [==============================] - 11s 27ms/step - loss: 0.2826 - sparse_categorical_accuracy: 0.8915 - val_loss: 0.2829 - val_sparse_categorical_accuracy: 0.8985\n",
            "Epoch 33/300\n",
            "432/432 [==============================] - 12s 27ms/step - loss: 0.2785 - sparse_categorical_accuracy: 0.8941 - val_loss: 0.2795 - val_sparse_categorical_accuracy: 0.8996\n",
            "Epoch 34/300\n",
            "432/432 [==============================] - 11s 26ms/step - loss: 0.2795 - sparse_categorical_accuracy: 0.8934 - val_loss: 0.2807 - val_sparse_categorical_accuracy: 0.8979\n",
            "Epoch 35/300\n",
            "432/432 [==============================] - 11s 26ms/step - loss: 0.2771 - sparse_categorical_accuracy: 0.8949 - val_loss: 0.2818 - val_sparse_categorical_accuracy: 0.8958\n",
            "Epoch 36/300\n",
            "432/432 [==============================] - 11s 26ms/step - loss: 0.2767 - sparse_categorical_accuracy: 0.8952 - val_loss: 0.2775 - val_sparse_categorical_accuracy: 0.8981\n",
            "Epoch 37/300\n",
            "432/432 [==============================] - 12s 27ms/step - loss: 0.2760 - sparse_categorical_accuracy: 0.8931 - val_loss: 0.2741 - val_sparse_categorical_accuracy: 0.8971\n",
            "Epoch 38/300\n",
            "432/432 [==============================] - 12s 27ms/step - loss: 0.2708 - sparse_categorical_accuracy: 0.8968 - val_loss: 0.2740 - val_sparse_categorical_accuracy: 0.9000\n",
            "Epoch 39/300\n",
            "432/432 [==============================] - 12s 27ms/step - loss: 0.2687 - sparse_categorical_accuracy: 0.8972 - val_loss: 0.2780 - val_sparse_categorical_accuracy: 0.8990\n",
            "Epoch 40/300\n",
            "432/432 [==============================] - 12s 28ms/step - loss: 0.2714 - sparse_categorical_accuracy: 0.8952 - val_loss: 0.2762 - val_sparse_categorical_accuracy: 0.8990\n",
            "Epoch 41/300\n",
            "432/432 [==============================] - 12s 27ms/step - loss: 0.2685 - sparse_categorical_accuracy: 0.8980 - val_loss: 0.2763 - val_sparse_categorical_accuracy: 0.8971\n",
            "Epoch 42/300\n",
            "432/432 [==============================] - 12s 27ms/step - loss: 0.2672 - sparse_categorical_accuracy: 0.8973 - val_loss: 0.2721 - val_sparse_categorical_accuracy: 0.8998\n",
            "Epoch 43/300\n",
            "432/432 [==============================] - 12s 28ms/step - loss: 0.2659 - sparse_categorical_accuracy: 0.8993 - val_loss: 0.2771 - val_sparse_categorical_accuracy: 0.9035\n",
            "Epoch 44/300\n",
            "432/432 [==============================] - 11s 27ms/step - loss: 0.2623 - sparse_categorical_accuracy: 0.9004 - val_loss: 0.2754 - val_sparse_categorical_accuracy: 0.9033\n",
            "Epoch 45/300\n",
            "432/432 [==============================] - 12s 28ms/step - loss: 0.2622 - sparse_categorical_accuracy: 0.9004 - val_loss: 0.2762 - val_sparse_categorical_accuracy: 0.8983\n",
            "Epoch 46/300\n",
            "432/432 [==============================] - 11s 26ms/step - loss: 0.2614 - sparse_categorical_accuracy: 0.8996 - val_loss: 0.2698 - val_sparse_categorical_accuracy: 0.9023\n",
            "Epoch 47/300\n",
            "432/432 [==============================] - 11s 26ms/step - loss: 0.2613 - sparse_categorical_accuracy: 0.9000 - val_loss: 0.2770 - val_sparse_categorical_accuracy: 0.9004\n",
            "Epoch 48/300\n",
            "432/432 [==============================] - 12s 28ms/step - loss: 0.2584 - sparse_categorical_accuracy: 0.9001 - val_loss: 0.2698 - val_sparse_categorical_accuracy: 0.9006\n",
            "Epoch 49/300\n",
            "432/432 [==============================] - 12s 27ms/step - loss: 0.2584 - sparse_categorical_accuracy: 0.8999 - val_loss: 0.2740 - val_sparse_categorical_accuracy: 0.8988\n",
            "Epoch 50/300\n",
            "432/432 [==============================] - 12s 27ms/step - loss: 0.2573 - sparse_categorical_accuracy: 0.9030 - val_loss: 0.2726 - val_sparse_categorical_accuracy: 0.9006\n",
            "Epoch 51/300\n",
            "432/432 [==============================] - 12s 28ms/step - loss: 0.2555 - sparse_categorical_accuracy: 0.9012 - val_loss: 0.2731 - val_sparse_categorical_accuracy: 0.9004\n",
            "Epoch 52/300\n",
            "432/432 [==============================] - 12s 27ms/step - loss: 0.2555 - sparse_categorical_accuracy: 0.9016 - val_loss: 0.2716 - val_sparse_categorical_accuracy: 0.8994\n",
            "Epoch 53/300\n",
            "432/432 [==============================] - 12s 28ms/step - loss: 0.2544 - sparse_categorical_accuracy: 0.9020 - val_loss: 0.2772 - val_sparse_categorical_accuracy: 0.8977\n",
            "Epoch 54/300\n",
            "432/432 [==============================] - 12s 27ms/step - loss: 0.2530 - sparse_categorical_accuracy: 0.9018 - val_loss: 0.2788 - val_sparse_categorical_accuracy: 0.9000\n",
            "Epoch 55/300\n",
            "432/432 [==============================] - 12s 27ms/step - loss: 0.2488 - sparse_categorical_accuracy: 0.9040 - val_loss: 0.2749 - val_sparse_categorical_accuracy: 0.9004\n",
            "Epoch 56/300\n",
            "432/432 [==============================] - 12s 27ms/step - loss: 0.2537 - sparse_categorical_accuracy: 0.9020 - val_loss: 0.2758 - val_sparse_categorical_accuracy: 0.8983\n",
            "Epoch 57/300\n",
            "432/432 [==============================] - 12s 27ms/step - loss: 0.2476 - sparse_categorical_accuracy: 0.9055 - val_loss: 0.2753 - val_sparse_categorical_accuracy: 0.8973\n",
            "Epoch 58/300\n",
            "432/432 [==============================] - 11s 25ms/step - loss: 0.2521 - sparse_categorical_accuracy: 0.9045 - val_loss: 0.2763 - val_sparse_categorical_accuracy: 0.9044\n",
            "Epoch 59/300\n",
            "432/432 [==============================] - 11s 26ms/step - loss: 0.2499 - sparse_categorical_accuracy: 0.9032 - val_loss: 0.2699 - val_sparse_categorical_accuracy: 0.9038\n",
            "Epoch 60/300\n",
            "432/432 [==============================] - 12s 27ms/step - loss: 0.2506 - sparse_categorical_accuracy: 0.9050 - val_loss: 0.2746 - val_sparse_categorical_accuracy: 0.9006\n",
            "Epoch 61/300\n",
            "432/432 [==============================] - 11s 27ms/step - loss: 0.2448 - sparse_categorical_accuracy: 0.9057 - val_loss: 0.2736 - val_sparse_categorical_accuracy: 0.9025\n",
            "Epoch 62/300\n",
            "432/432 [==============================] - 11s 26ms/step - loss: 0.2450 - sparse_categorical_accuracy: 0.9057 - val_loss: 0.2708 - val_sparse_categorical_accuracy: 0.9013\n",
            "Epoch 63/300\n",
            "432/432 [==============================] - 12s 27ms/step - loss: 0.2451 - sparse_categorical_accuracy: 0.9057 - val_loss: 0.2670 - val_sparse_categorical_accuracy: 0.9021\n",
            "Epoch 64/300\n",
            "432/432 [==============================] - 11s 26ms/step - loss: 0.2459 - sparse_categorical_accuracy: 0.9051 - val_loss: 0.2766 - val_sparse_categorical_accuracy: 0.8992\n",
            "Epoch 65/300\n",
            "432/432 [==============================] - 12s 28ms/step - loss: 0.2447 - sparse_categorical_accuracy: 0.9053 - val_loss: 0.2695 - val_sparse_categorical_accuracy: 0.9015\n",
            "Epoch 66/300\n",
            "432/432 [==============================] - 12s 27ms/step - loss: 0.2401 - sparse_categorical_accuracy: 0.9085 - val_loss: 0.2799 - val_sparse_categorical_accuracy: 0.8992\n",
            "Epoch 67/300\n",
            "432/432 [==============================] - 11s 26ms/step - loss: 0.2419 - sparse_categorical_accuracy: 0.9081 - val_loss: 0.2750 - val_sparse_categorical_accuracy: 0.9050\n",
            "Epoch 68/300\n",
            "432/432 [==============================] - 11s 26ms/step - loss: 0.2386 - sparse_categorical_accuracy: 0.9081 - val_loss: 0.2738 - val_sparse_categorical_accuracy: 0.8969\n",
            "Epoch 69/300\n",
            "432/432 [==============================] - 11s 26ms/step - loss: 0.2411 - sparse_categorical_accuracy: 0.9085 - val_loss: 0.2785 - val_sparse_categorical_accuracy: 0.9019\n",
            "Epoch 70/300\n",
            "432/432 [==============================] - 11s 27ms/step - loss: 0.2396 - sparse_categorical_accuracy: 0.9074 - val_loss: 0.2679 - val_sparse_categorical_accuracy: 0.9029\n",
            "Epoch 71/300\n",
            "432/432 [==============================] - 12s 27ms/step - loss: 0.2409 - sparse_categorical_accuracy: 0.9059 - val_loss: 0.2733 - val_sparse_categorical_accuracy: 0.9019\n",
            "Epoch 72/300\n",
            "432/432 [==============================] - 12s 27ms/step - loss: 0.2373 - sparse_categorical_accuracy: 0.9089 - val_loss: 0.2710 - val_sparse_categorical_accuracy: 0.9013\n",
            "Epoch 73/300\n",
            "432/432 [==============================] - 12s 28ms/step - loss: 0.2396 - sparse_categorical_accuracy: 0.9076 - val_loss: 0.2765 - val_sparse_categorical_accuracy: 0.9023\n",
            "Epoch 74/300\n",
            "432/432 [==============================] - 12s 27ms/step - loss: 0.2369 - sparse_categorical_accuracy: 0.9087 - val_loss: 0.2755 - val_sparse_categorical_accuracy: 0.9015\n",
            "Epoch 75/300\n",
            "432/432 [==============================] - 12s 27ms/step - loss: 0.2364 - sparse_categorical_accuracy: 0.9088 - val_loss: 0.2717 - val_sparse_categorical_accuracy: 0.9029\n",
            "Epoch 76/300\n",
            "432/432 [==============================] - 12s 28ms/step - loss: 0.2355 - sparse_categorical_accuracy: 0.9093 - val_loss: 0.2797 - val_sparse_categorical_accuracy: 0.9042\n",
            "Epoch 77/300\n",
            "432/432 [==============================] - 11s 26ms/step - loss: 0.2340 - sparse_categorical_accuracy: 0.9106 - val_loss: 0.2753 - val_sparse_categorical_accuracy: 0.9040\n",
            "Epoch 78/300\n",
            "432/432 [==============================] - 11s 26ms/step - loss: 0.2336 - sparse_categorical_accuracy: 0.9105 - val_loss: 0.2742 - val_sparse_categorical_accuracy: 0.9027\n",
            "Epoch 79/300\n",
            "432/432 [==============================] - 12s 27ms/step - loss: 0.2320 - sparse_categorical_accuracy: 0.9107 - val_loss: 0.2721 - val_sparse_categorical_accuracy: 0.9054\n",
            "Epoch 80/300\n",
            "432/432 [==============================] - 12s 27ms/step - loss: 0.2344 - sparse_categorical_accuracy: 0.9107 - val_loss: 0.2721 - val_sparse_categorical_accuracy: 0.9040\n",
            "Epoch 81/300\n",
            "432/432 [==============================] - 12s 27ms/step - loss: 0.2306 - sparse_categorical_accuracy: 0.9097 - val_loss: 0.2778 - val_sparse_categorical_accuracy: 0.9029\n",
            "Epoch 82/300\n",
            "432/432 [==============================] - 12s 27ms/step - loss: 0.2321 - sparse_categorical_accuracy: 0.9098 - val_loss: 0.2681 - val_sparse_categorical_accuracy: 0.9085\n",
            "Epoch 83/300\n",
            "432/432 [==============================] - 12s 27ms/step - loss: 0.2301 - sparse_categorical_accuracy: 0.9115 - val_loss: 0.2759 - val_sparse_categorical_accuracy: 0.9021\n",
            "Epoch 84/300\n",
            "432/432 [==============================] - 12s 28ms/step - loss: 0.2317 - sparse_categorical_accuracy: 0.9103 - val_loss: 0.2725 - val_sparse_categorical_accuracy: 0.9054\n",
            "Epoch 85/300\n",
            "432/432 [==============================] - 12s 27ms/step - loss: 0.2278 - sparse_categorical_accuracy: 0.9113 - val_loss: 0.2727 - val_sparse_categorical_accuracy: 0.9017\n",
            "Epoch 86/300\n",
            "432/432 [==============================] - 12s 27ms/step - loss: 0.2319 - sparse_categorical_accuracy: 0.9110 - val_loss: 0.2830 - val_sparse_categorical_accuracy: 0.8994\n",
            "Epoch 87/300\n",
            "432/432 [==============================] - 12s 28ms/step - loss: 0.2289 - sparse_categorical_accuracy: 0.9125 - val_loss: 0.2775 - val_sparse_categorical_accuracy: 0.9060\n",
            "Epoch 88/300\n",
            "432/432 [==============================] - 11s 26ms/step - loss: 0.2293 - sparse_categorical_accuracy: 0.9113 - val_loss: 0.2780 - val_sparse_categorical_accuracy: 0.9029\n",
            "Epoch 89/300\n",
            "432/432 [==============================] - 11s 25ms/step - loss: 0.2265 - sparse_categorical_accuracy: 0.9118 - val_loss: 0.2844 - val_sparse_categorical_accuracy: 0.9054\n",
            "Epoch 90/300\n",
            "432/432 [==============================] - 11s 26ms/step - loss: 0.2281 - sparse_categorical_accuracy: 0.9121 - val_loss: 0.2689 - val_sparse_categorical_accuracy: 0.9023\n",
            "Epoch 91/300\n",
            "432/432 [==============================] - 11s 27ms/step - loss: 0.2233 - sparse_categorical_accuracy: 0.9136 - val_loss: 0.2655 - val_sparse_categorical_accuracy: 0.9075\n",
            "Epoch 92/300\n",
            "432/432 [==============================] - 12s 27ms/step - loss: 0.2263 - sparse_categorical_accuracy: 0.9132 - val_loss: 0.2718 - val_sparse_categorical_accuracy: 0.9060\n",
            "Epoch 93/300\n",
            "432/432 [==============================] - 12s 27ms/step - loss: 0.2247 - sparse_categorical_accuracy: 0.9143 - val_loss: 0.2734 - val_sparse_categorical_accuracy: 0.9033\n",
            "Epoch 94/300\n",
            "432/432 [==============================] - 12s 27ms/step - loss: 0.2260 - sparse_categorical_accuracy: 0.9123 - val_loss: 0.2730 - val_sparse_categorical_accuracy: 0.9038\n",
            "Epoch 95/300\n",
            "432/432 [==============================] - 12s 27ms/step - loss: 0.2271 - sparse_categorical_accuracy: 0.9122 - val_loss: 0.2731 - val_sparse_categorical_accuracy: 0.9048\n",
            "Epoch 96/300\n",
            "432/432 [==============================] - 11s 27ms/step - loss: 0.2227 - sparse_categorical_accuracy: 0.9143 - val_loss: 0.2782 - val_sparse_categorical_accuracy: 0.9023\n",
            "Epoch 97/300\n",
            "432/432 [==============================] - 12s 27ms/step - loss: 0.2243 - sparse_categorical_accuracy: 0.9135 - val_loss: 0.2760 - val_sparse_categorical_accuracy: 0.9073\n",
            "Epoch 98/300\n",
            "432/432 [==============================] - 11s 25ms/step - loss: 0.2230 - sparse_categorical_accuracy: 0.9138 - val_loss: 0.2759 - val_sparse_categorical_accuracy: 0.9033\n",
            "Epoch 99/300\n",
            "432/432 [==============================] - 11s 26ms/step - loss: 0.2198 - sparse_categorical_accuracy: 0.9157 - val_loss: 0.2749 - val_sparse_categorical_accuracy: 0.9046\n",
            "Epoch 100/300\n",
            "432/432 [==============================] - 12s 27ms/step - loss: 0.2218 - sparse_categorical_accuracy: 0.9142 - val_loss: 0.2753 - val_sparse_categorical_accuracy: 0.9073\n",
            "Epoch 101/300\n",
            "432/432 [==============================] - 12s 27ms/step - loss: 0.2240 - sparse_categorical_accuracy: 0.9135 - val_loss: 0.2745 - val_sparse_categorical_accuracy: 0.9031\n",
            "Epoch 102/300\n",
            "432/432 [==============================] - 12s 28ms/step - loss: 0.2259 - sparse_categorical_accuracy: 0.9135 - val_loss: 0.2731 - val_sparse_categorical_accuracy: 0.9027\n",
            "Epoch 103/300\n",
            "432/432 [==============================] - 12s 27ms/step - loss: 0.2212 - sparse_categorical_accuracy: 0.9147 - val_loss: 0.2731 - val_sparse_categorical_accuracy: 0.9050\n",
            "Epoch 104/300\n",
            "432/432 [==============================] - 12s 27ms/step - loss: 0.2223 - sparse_categorical_accuracy: 0.9151 - val_loss: 0.2665 - val_sparse_categorical_accuracy: 0.9085\n",
            "Epoch 105/300\n",
            "432/432 [==============================] - 12s 28ms/step - loss: 0.2172 - sparse_categorical_accuracy: 0.9167 - val_loss: 0.2881 - val_sparse_categorical_accuracy: 0.9050\n",
            "Epoch 106/300\n",
            "432/432 [==============================] - 12s 27ms/step - loss: 0.2209 - sparse_categorical_accuracy: 0.9155 - val_loss: 0.2752 - val_sparse_categorical_accuracy: 0.9071\n",
            "Epoch 107/300\n",
            "432/432 [==============================] - 12s 28ms/step - loss: 0.2211 - sparse_categorical_accuracy: 0.9141 - val_loss: 0.2800 - val_sparse_categorical_accuracy: 0.9042\n",
            "Epoch 108/300\n",
            "432/432 [==============================] - 12s 28ms/step - loss: 0.2201 - sparse_categorical_accuracy: 0.9137 - val_loss: 0.2731 - val_sparse_categorical_accuracy: 0.9065\n",
            "Epoch 109/300\n",
            "432/432 [==============================] - 12s 27ms/step - loss: 0.2220 - sparse_categorical_accuracy: 0.9149 - val_loss: 0.2771 - val_sparse_categorical_accuracy: 0.9046\n",
            "Epoch 110/300\n",
            "432/432 [==============================] - 12s 28ms/step - loss: 0.2180 - sparse_categorical_accuracy: 0.9155 - val_loss: 0.2794 - val_sparse_categorical_accuracy: 0.9054\n",
            "Epoch 111/300\n",
            "432/432 [==============================] - 12s 27ms/step - loss: 0.2165 - sparse_categorical_accuracy: 0.9167 - val_loss: 0.2750 - val_sparse_categorical_accuracy: 0.9048\n",
            "Epoch 112/300\n",
            "432/432 [==============================] - 12s 29ms/step - loss: 0.2176 - sparse_categorical_accuracy: 0.9180 - val_loss: 0.2726 - val_sparse_categorical_accuracy: 0.9069\n",
            "Epoch 113/300\n",
            "432/432 [==============================] - 12s 27ms/step - loss: 0.2192 - sparse_categorical_accuracy: 0.9147 - val_loss: 0.2816 - val_sparse_categorical_accuracy: 0.9025\n",
            "Epoch 114/300\n",
            "432/432 [==============================] - 12s 28ms/step - loss: 0.2171 - sparse_categorical_accuracy: 0.9160 - val_loss: 0.2657 - val_sparse_categorical_accuracy: 0.9038\n",
            "Epoch 115/300\n",
            "432/432 [==============================] - 12s 28ms/step - loss: 0.2210 - sparse_categorical_accuracy: 0.9154 - val_loss: 0.2787 - val_sparse_categorical_accuracy: 0.9038\n",
            "Epoch 116/300\n",
            "432/432 [==============================] - 12s 28ms/step - loss: 0.2159 - sparse_categorical_accuracy: 0.9164 - val_loss: 0.2850 - val_sparse_categorical_accuracy: 0.9008\n",
            "Epoch 117/300\n",
            "432/432 [==============================] - 12s 28ms/step - loss: 0.2177 - sparse_categorical_accuracy: 0.9156 - val_loss: 0.2789 - val_sparse_categorical_accuracy: 0.9048\n",
            "Epoch 118/300\n",
            "432/432 [==============================] - 12s 28ms/step - loss: 0.2143 - sparse_categorical_accuracy: 0.9170 - val_loss: 0.2795 - val_sparse_categorical_accuracy: 0.9050\n",
            "Epoch 119/300\n",
            "432/432 [==============================] - 12s 28ms/step - loss: 0.2160 - sparse_categorical_accuracy: 0.9158 - val_loss: 0.2785 - val_sparse_categorical_accuracy: 0.9081\n",
            "Epoch 120/300\n",
            "432/432 [==============================] - 13s 29ms/step - loss: 0.2147 - sparse_categorical_accuracy: 0.9182 - val_loss: 0.2811 - val_sparse_categorical_accuracy: 0.9015\n",
            "Epoch 121/300\n",
            "432/432 [==============================] - 12s 27ms/step - loss: 0.2159 - sparse_categorical_accuracy: 0.9160 - val_loss: 0.2830 - val_sparse_categorical_accuracy: 0.9006\n",
            "Epoch 122/300\n",
            "432/432 [==============================] - 12s 27ms/step - loss: 0.2139 - sparse_categorical_accuracy: 0.9173 - val_loss: 0.2836 - val_sparse_categorical_accuracy: 0.9065\n",
            "Epoch 123/300\n",
            "432/432 [==============================] - 12s 28ms/step - loss: 0.2102 - sparse_categorical_accuracy: 0.9196 - val_loss: 0.2666 - val_sparse_categorical_accuracy: 0.9071\n",
            "Epoch 124/300\n",
            "432/432 [==============================] - 12s 28ms/step - loss: 0.2151 - sparse_categorical_accuracy: 0.9162 - val_loss: 0.2767 - val_sparse_categorical_accuracy: 0.9035\n",
            "Epoch 125/300\n",
            "432/432 [==============================] - 11s 26ms/step - loss: 0.2140 - sparse_categorical_accuracy: 0.9173 - val_loss: 0.2836 - val_sparse_categorical_accuracy: 0.9019\n",
            "Epoch 126/300\n",
            "432/432 [==============================] - 11s 26ms/step - loss: 0.2119 - sparse_categorical_accuracy: 0.9181 - val_loss: 0.2801 - val_sparse_categorical_accuracy: 0.9031\n",
            "Epoch 127/300\n",
            "432/432 [==============================] - 12s 28ms/step - loss: 0.2157 - sparse_categorical_accuracy: 0.9163 - val_loss: 0.2753 - val_sparse_categorical_accuracy: 0.9033\n",
            "Epoch 128/300\n",
            "432/432 [==============================] - 12s 27ms/step - loss: 0.2124 - sparse_categorical_accuracy: 0.9191 - val_loss: 0.2801 - val_sparse_categorical_accuracy: 0.9048\n",
            "Epoch 129/300\n",
            "432/432 [==============================] - 12s 28ms/step - loss: 0.2097 - sparse_categorical_accuracy: 0.9184 - val_loss: 0.2804 - val_sparse_categorical_accuracy: 0.9050\n",
            "Epoch 130/300\n",
            "432/432 [==============================] - 12s 27ms/step - loss: 0.2117 - sparse_categorical_accuracy: 0.9183 - val_loss: 0.2775 - val_sparse_categorical_accuracy: 0.9048\n",
            "Epoch 131/300\n",
            "432/432 [==============================] - 12s 28ms/step - loss: 0.2129 - sparse_categorical_accuracy: 0.9179 - val_loss: 0.2767 - val_sparse_categorical_accuracy: 0.9029\n",
            "Epoch 132/300\n",
            "432/432 [==============================] - 12s 28ms/step - loss: 0.2107 - sparse_categorical_accuracy: 0.9177 - val_loss: 0.2837 - val_sparse_categorical_accuracy: 0.9058\n",
            "Epoch 133/300\n",
            "432/432 [==============================] - 12s 27ms/step - loss: 0.2096 - sparse_categorical_accuracy: 0.9195 - val_loss: 0.2822 - val_sparse_categorical_accuracy: 0.9040\n",
            "Epoch 134/300\n",
            "432/432 [==============================] - 12s 29ms/step - loss: 0.2106 - sparse_categorical_accuracy: 0.9192 - val_loss: 0.2829 - val_sparse_categorical_accuracy: 0.9044\n",
            "Epoch 135/300\n",
            "432/432 [==============================] - 12s 28ms/step - loss: 0.2082 - sparse_categorical_accuracy: 0.9195 - val_loss: 0.2804 - val_sparse_categorical_accuracy: 0.9040\n",
            "Epoch 136/300\n",
            "432/432 [==============================] - 12s 29ms/step - loss: 0.2122 - sparse_categorical_accuracy: 0.9192 - val_loss: 0.2854 - val_sparse_categorical_accuracy: 0.9058\n",
            "Epoch 137/300\n",
            "432/432 [==============================] - 12s 28ms/step - loss: 0.2116 - sparse_categorical_accuracy: 0.9197 - val_loss: 0.2780 - val_sparse_categorical_accuracy: 0.9069\n",
            "Epoch 138/300\n",
            "432/432 [==============================] - 12s 29ms/step - loss: 0.2108 - sparse_categorical_accuracy: 0.9194 - val_loss: 0.2871 - val_sparse_categorical_accuracy: 0.9029\n",
            "Epoch 139/300\n",
            "432/432 [==============================] - 12s 28ms/step - loss: 0.2102 - sparse_categorical_accuracy: 0.9186 - val_loss: 0.2802 - val_sparse_categorical_accuracy: 0.9056\n",
            "Epoch 140/300\n",
            "432/432 [==============================] - 13s 30ms/step - loss: 0.2090 - sparse_categorical_accuracy: 0.9207 - val_loss: 0.2808 - val_sparse_categorical_accuracy: 0.9042\n",
            "Epoch 141/300\n",
            "432/432 [==============================] - 13s 29ms/step - loss: 0.2107 - sparse_categorical_accuracy: 0.9183 - val_loss: 0.2783 - val_sparse_categorical_accuracy: 0.9077\n",
            "Epoch 142/300\n",
            "432/432 [==============================] - 12s 27ms/step - loss: 0.2099 - sparse_categorical_accuracy: 0.9172 - val_loss: 0.2730 - val_sparse_categorical_accuracy: 0.9048\n",
            "Epoch 143/300\n",
            "432/432 [==============================] - 12s 27ms/step - loss: 0.2064 - sparse_categorical_accuracy: 0.9195 - val_loss: 0.2860 - val_sparse_categorical_accuracy: 0.9054\n",
            "Epoch 144/300\n",
            "432/432 [==============================] - 11s 26ms/step - loss: 0.2094 - sparse_categorical_accuracy: 0.9196 - val_loss: 0.2766 - val_sparse_categorical_accuracy: 0.9079\n",
            "Epoch 145/300\n",
            "432/432 [==============================] - 12s 28ms/step - loss: 0.2109 - sparse_categorical_accuracy: 0.9176 - val_loss: 0.2832 - val_sparse_categorical_accuracy: 0.9065\n",
            "Epoch 146/300\n",
            "432/432 [==============================] - 12s 27ms/step - loss: 0.2075 - sparse_categorical_accuracy: 0.9196 - val_loss: 0.2843 - val_sparse_categorical_accuracy: 0.9058\n",
            "Epoch 147/300\n",
            "432/432 [==============================] - 12s 27ms/step - loss: 0.2097 - sparse_categorical_accuracy: 0.9184 - val_loss: 0.2799 - val_sparse_categorical_accuracy: 0.9071\n",
            "Epoch 148/300\n",
            "432/432 [==============================] - 12s 27ms/step - loss: 0.2066 - sparse_categorical_accuracy: 0.9197 - val_loss: 0.2797 - val_sparse_categorical_accuracy: 0.9056\n",
            "Epoch 149/300\n",
            "432/432 [==============================] - 12s 28ms/step - loss: 0.2053 - sparse_categorical_accuracy: 0.9205 - val_loss: 0.2760 - val_sparse_categorical_accuracy: 0.9065\n",
            "Epoch 150/300\n",
            "432/432 [==============================] - 12s 28ms/step - loss: 0.2065 - sparse_categorical_accuracy: 0.9209 - val_loss: 0.2839 - val_sparse_categorical_accuracy: 0.9090\n",
            "Epoch 151/300\n",
            "432/432 [==============================] - 12s 27ms/step - loss: 0.2062 - sparse_categorical_accuracy: 0.9200 - val_loss: 0.2857 - val_sparse_categorical_accuracy: 0.9038\n",
            "Epoch 152/300\n",
            "432/432 [==============================] - 12s 27ms/step - loss: 0.2084 - sparse_categorical_accuracy: 0.9202 - val_loss: 0.2791 - val_sparse_categorical_accuracy: 0.9067\n",
            "Epoch 153/300\n",
            "432/432 [==============================] - 12s 27ms/step - loss: 0.2092 - sparse_categorical_accuracy: 0.9197 - val_loss: 0.2757 - val_sparse_categorical_accuracy: 0.9048\n",
            "Epoch 154/300\n",
            "432/432 [==============================] - 12s 28ms/step - loss: 0.2041 - sparse_categorical_accuracy: 0.9214 - val_loss: 0.2863 - val_sparse_categorical_accuracy: 0.9046\n",
            "Epoch 155/300\n",
            "432/432 [==============================] - 11s 25ms/step - loss: 0.2064 - sparse_categorical_accuracy: 0.9199 - val_loss: 0.2896 - val_sparse_categorical_accuracy: 0.9044\n",
            "Epoch 156/300\n",
            "432/432 [==============================] - 12s 27ms/step - loss: 0.2036 - sparse_categorical_accuracy: 0.9208 - val_loss: 0.2784 - val_sparse_categorical_accuracy: 0.9067\n",
            "Epoch 157/300\n",
            "432/432 [==============================] - 12s 27ms/step - loss: 0.2033 - sparse_categorical_accuracy: 0.9217 - val_loss: 0.2817 - val_sparse_categorical_accuracy: 0.9031\n",
            "Epoch 158/300\n",
            "432/432 [==============================] - 12s 27ms/step - loss: 0.2015 - sparse_categorical_accuracy: 0.9224 - val_loss: 0.2757 - val_sparse_categorical_accuracy: 0.9056\n",
            "Epoch 159/300\n",
            "432/432 [==============================] - 12s 28ms/step - loss: 0.2044 - sparse_categorical_accuracy: 0.9218 - val_loss: 0.2799 - val_sparse_categorical_accuracy: 0.9065\n",
            "Epoch 160/300\n",
            "432/432 [==============================] - 12s 28ms/step - loss: 0.2039 - sparse_categorical_accuracy: 0.9206 - val_loss: 0.2818 - val_sparse_categorical_accuracy: 0.9075\n",
            "Epoch 161/300\n",
            "432/432 [==============================] - 13s 29ms/step - loss: 0.2061 - sparse_categorical_accuracy: 0.9213 - val_loss: 0.2887 - val_sparse_categorical_accuracy: 0.9081\n",
            "Epoch 162/300\n",
            "432/432 [==============================] - 12s 28ms/step - loss: 0.2061 - sparse_categorical_accuracy: 0.9210 - val_loss: 0.2804 - val_sparse_categorical_accuracy: 0.9090\n",
            "Epoch 163/300\n",
            "432/432 [==============================] - 12s 29ms/step - loss: 0.2029 - sparse_categorical_accuracy: 0.9217 - val_loss: 0.2872 - val_sparse_categorical_accuracy: 0.9044\n",
            "Epoch 164/300\n",
            "432/432 [==============================] - 12s 28ms/step - loss: 0.2003 - sparse_categorical_accuracy: 0.9224 - val_loss: 0.2820 - val_sparse_categorical_accuracy: 0.9081\n",
            "Epoch 165/300\n",
            "432/432 [==============================] - 12s 28ms/step - loss: 0.2033 - sparse_categorical_accuracy: 0.9212 - val_loss: 0.2790 - val_sparse_categorical_accuracy: 0.9071\n",
            "Epoch 166/300\n",
            "432/432 [==============================] - 12s 28ms/step - loss: 0.2030 - sparse_categorical_accuracy: 0.9226 - val_loss: 0.2725 - val_sparse_categorical_accuracy: 0.9067\n",
            "Epoch 167/300\n",
            "432/432 [==============================] - 12s 28ms/step - loss: 0.2029 - sparse_categorical_accuracy: 0.9212 - val_loss: 0.2729 - val_sparse_categorical_accuracy: 0.9040\n",
            "Epoch 168/300\n",
            "432/432 [==============================] - 12s 28ms/step - loss: 0.2008 - sparse_categorical_accuracy: 0.9226 - val_loss: 0.2737 - val_sparse_categorical_accuracy: 0.9058\n",
            "Epoch 169/300\n",
            "432/432 [==============================] - 12s 28ms/step - loss: 0.2023 - sparse_categorical_accuracy: 0.9221 - val_loss: 0.2775 - val_sparse_categorical_accuracy: 0.9075\n",
            "Epoch 170/300\n",
            "432/432 [==============================] - 12s 29ms/step - loss: 0.2046 - sparse_categorical_accuracy: 0.9218 - val_loss: 0.2691 - val_sparse_categorical_accuracy: 0.9092\n",
            "Epoch 171/300\n",
            "432/432 [==============================] - 12s 29ms/step - loss: 0.2008 - sparse_categorical_accuracy: 0.9229 - val_loss: 0.2747 - val_sparse_categorical_accuracy: 0.9052\n",
            "Epoch 172/300\n",
            "432/432 [==============================] - 12s 28ms/step - loss: 0.2012 - sparse_categorical_accuracy: 0.9241 - val_loss: 0.2778 - val_sparse_categorical_accuracy: 0.9090\n",
            "Epoch 173/300\n",
            "432/432 [==============================] - 11s 26ms/step - loss: 0.2004 - sparse_categorical_accuracy: 0.9215 - val_loss: 0.2801 - val_sparse_categorical_accuracy: 0.9073\n",
            "Epoch 174/300\n",
            "432/432 [==============================] - 12s 27ms/step - loss: 0.2008 - sparse_categorical_accuracy: 0.9219 - val_loss: 0.2774 - val_sparse_categorical_accuracy: 0.9102\n",
            "Epoch 175/300\n",
            "432/432 [==============================] - 12s 28ms/step - loss: 0.1990 - sparse_categorical_accuracy: 0.9235 - val_loss: 0.2844 - val_sparse_categorical_accuracy: 0.9073\n",
            "Epoch 176/300\n",
            "432/432 [==============================] - 12s 28ms/step - loss: 0.2012 - sparse_categorical_accuracy: 0.9227 - val_loss: 0.2793 - val_sparse_categorical_accuracy: 0.9069\n",
            "Epoch 177/300\n",
            "432/432 [==============================] - 12s 28ms/step - loss: 0.2013 - sparse_categorical_accuracy: 0.9225 - val_loss: 0.2803 - val_sparse_categorical_accuracy: 0.9058\n",
            "Epoch 178/300\n",
            "432/432 [==============================] - 12s 28ms/step - loss: 0.2009 - sparse_categorical_accuracy: 0.9230 - val_loss: 0.2712 - val_sparse_categorical_accuracy: 0.9106\n",
            "Epoch 179/300\n",
            "432/432 [==============================] - 12s 28ms/step - loss: 0.2006 - sparse_categorical_accuracy: 0.9225 - val_loss: 0.2784 - val_sparse_categorical_accuracy: 0.9065\n",
            "Epoch 180/300\n",
            "432/432 [==============================] - 12s 28ms/step - loss: 0.2010 - sparse_categorical_accuracy: 0.9222 - val_loss: 0.2722 - val_sparse_categorical_accuracy: 0.9083\n",
            "Epoch 181/300\n",
            "432/432 [==============================] - 12s 28ms/step - loss: 0.1988 - sparse_categorical_accuracy: 0.9232 - val_loss: 0.2774 - val_sparse_categorical_accuracy: 0.9090\n",
            "Epoch 182/300\n",
            "432/432 [==============================] - 12s 28ms/step - loss: 0.2006 - sparse_categorical_accuracy: 0.9220 - val_loss: 0.2873 - val_sparse_categorical_accuracy: 0.9062\n",
            "Epoch 183/300\n",
            "432/432 [==============================] - 12s 27ms/step - loss: 0.1994 - sparse_categorical_accuracy: 0.9229 - val_loss: 0.2806 - val_sparse_categorical_accuracy: 0.9077\n",
            "Epoch 184/300\n",
            "432/432 [==============================] - 12s 28ms/step - loss: 0.1971 - sparse_categorical_accuracy: 0.9246 - val_loss: 0.2791 - val_sparse_categorical_accuracy: 0.9083\n",
            "Epoch 185/300\n",
            "432/432 [==============================] - 12s 27ms/step - loss: 0.1999 - sparse_categorical_accuracy: 0.9221 - val_loss: 0.2797 - val_sparse_categorical_accuracy: 0.9067\n",
            "Epoch 186/300\n",
            "432/432 [==============================] - 12s 27ms/step - loss: 0.2004 - sparse_categorical_accuracy: 0.9222 - val_loss: 0.2747 - val_sparse_categorical_accuracy: 0.9065\n",
            "Epoch 187/300\n",
            "432/432 [==============================] - 12s 28ms/step - loss: 0.1994 - sparse_categorical_accuracy: 0.9230 - val_loss: 0.2719 - val_sparse_categorical_accuracy: 0.9096\n",
            "Epoch 188/300\n",
            "432/432 [==============================] - 13s 29ms/step - loss: 0.1983 - sparse_categorical_accuracy: 0.9228 - val_loss: 0.2767 - val_sparse_categorical_accuracy: 0.9079\n",
            "Epoch 189/300\n",
            "432/432 [==============================] - 12s 28ms/step - loss: 0.1968 - sparse_categorical_accuracy: 0.9249 - val_loss: 0.2803 - val_sparse_categorical_accuracy: 0.9087\n",
            "Epoch 190/300\n",
            "432/432 [==============================] - 13s 29ms/step - loss: 0.1999 - sparse_categorical_accuracy: 0.9224 - val_loss: 0.2777 - val_sparse_categorical_accuracy: 0.9096\n",
            "Epoch 191/300\n",
            "432/432 [==============================] - 13s 29ms/step - loss: 0.1963 - sparse_categorical_accuracy: 0.9239 - val_loss: 0.2818 - val_sparse_categorical_accuracy: 0.9075\n",
            "Epoch 192/300\n",
            "432/432 [==============================] - 12s 28ms/step - loss: 0.1967 - sparse_categorical_accuracy: 0.9239 - val_loss: 0.2712 - val_sparse_categorical_accuracy: 0.9108\n",
            "Epoch 193/300\n",
            "432/432 [==============================] - 12s 29ms/step - loss: 0.1984 - sparse_categorical_accuracy: 0.9237 - val_loss: 0.2842 - val_sparse_categorical_accuracy: 0.9065\n",
            "Epoch 194/300\n",
            "432/432 [==============================] - 13s 29ms/step - loss: 0.1996 - sparse_categorical_accuracy: 0.9229 - val_loss: 0.2707 - val_sparse_categorical_accuracy: 0.9104\n",
            "Epoch 195/300\n",
            "432/432 [==============================] - 12s 29ms/step - loss: 0.1970 - sparse_categorical_accuracy: 0.9230 - val_loss: 0.2796 - val_sparse_categorical_accuracy: 0.9092\n",
            "Epoch 196/300\n",
            "432/432 [==============================] - 13s 30ms/step - loss: 0.1957 - sparse_categorical_accuracy: 0.9246 - val_loss: 0.2845 - val_sparse_categorical_accuracy: 0.9065\n",
            "Epoch 197/300\n",
            "432/432 [==============================] - 13s 29ms/step - loss: 0.1950 - sparse_categorical_accuracy: 0.9237 - val_loss: 0.2840 - val_sparse_categorical_accuracy: 0.9075\n",
            "Epoch 198/300\n",
            "432/432 [==============================] - 12s 29ms/step - loss: 0.1969 - sparse_categorical_accuracy: 0.9238 - val_loss: 0.2876 - val_sparse_categorical_accuracy: 0.9092\n",
            "Epoch 199/300\n",
            "432/432 [==============================] - 13s 30ms/step - loss: 0.1982 - sparse_categorical_accuracy: 0.9234 - val_loss: 0.2849 - val_sparse_categorical_accuracy: 0.9092\n",
            "Epoch 200/300\n",
            "432/432 [==============================] - 12s 29ms/step - loss: 0.1924 - sparse_categorical_accuracy: 0.9272 - val_loss: 0.2775 - val_sparse_categorical_accuracy: 0.9098\n",
            "Epoch 201/300\n",
            "432/432 [==============================] - 13s 31ms/step - loss: 0.1948 - sparse_categorical_accuracy: 0.9252 - val_loss: 0.2776 - val_sparse_categorical_accuracy: 0.9040\n",
            "Epoch 202/300\n",
            "432/432 [==============================] - 13s 29ms/step - loss: 0.1929 - sparse_categorical_accuracy: 0.9239 - val_loss: 0.2843 - val_sparse_categorical_accuracy: 0.9077\n",
            "Epoch 203/300\n",
            "432/432 [==============================] - 13s 30ms/step - loss: 0.1966 - sparse_categorical_accuracy: 0.9250 - val_loss: 0.2813 - val_sparse_categorical_accuracy: 0.9060\n",
            "Epoch 204/300\n",
            "432/432 [==============================] - 14s 32ms/step - loss: 0.1961 - sparse_categorical_accuracy: 0.9241 - val_loss: 0.2822 - val_sparse_categorical_accuracy: 0.9104\n",
            "Epoch 205/300\n",
            "432/432 [==============================] - 13s 31ms/step - loss: 0.1934 - sparse_categorical_accuracy: 0.9253 - val_loss: 0.2812 - val_sparse_categorical_accuracy: 0.9090\n",
            "Epoch 206/300\n",
            "432/432 [==============================] - 14s 32ms/step - loss: 0.1920 - sparse_categorical_accuracy: 0.9263 - val_loss: 0.2775 - val_sparse_categorical_accuracy: 0.9081\n",
            "Epoch 207/300\n",
            "432/432 [==============================] - 14s 33ms/step - loss: 0.1942 - sparse_categorical_accuracy: 0.9259 - val_loss: 0.2793 - val_sparse_categorical_accuracy: 0.9108\n",
            "Epoch 208/300\n",
            "432/432 [==============================] - 14s 33ms/step - loss: 0.1951 - sparse_categorical_accuracy: 0.9253 - val_loss: 0.2757 - val_sparse_categorical_accuracy: 0.9121\n",
            "Epoch 209/300\n",
            "432/432 [==============================] - 14s 32ms/step - loss: 0.1952 - sparse_categorical_accuracy: 0.9239 - val_loss: 0.2763 - val_sparse_categorical_accuracy: 0.9108\n",
            "Epoch 210/300\n",
            "432/432 [==============================] - 14s 33ms/step - loss: 0.1925 - sparse_categorical_accuracy: 0.9257 - val_loss: 0.2868 - val_sparse_categorical_accuracy: 0.9069\n",
            "Epoch 211/300\n",
            "432/432 [==============================] - 14s 32ms/step - loss: 0.1952 - sparse_categorical_accuracy: 0.9248 - val_loss: 0.2817 - val_sparse_categorical_accuracy: 0.9069\n",
            "Epoch 212/300\n",
            "432/432 [==============================] - 14s 32ms/step - loss: 0.1937 - sparse_categorical_accuracy: 0.9246 - val_loss: 0.2800 - val_sparse_categorical_accuracy: 0.9081\n",
            "Epoch 213/300\n",
            "432/432 [==============================] - 13s 30ms/step - loss: 0.1929 - sparse_categorical_accuracy: 0.9263 - val_loss: 0.2789 - val_sparse_categorical_accuracy: 0.9094\n",
            "Epoch 214/300\n",
            "432/432 [==============================] - 13s 30ms/step - loss: 0.1952 - sparse_categorical_accuracy: 0.9243 - val_loss: 0.2865 - val_sparse_categorical_accuracy: 0.9085\n",
            "Epoch 215/300\n",
            "432/432 [==============================] - 13s 30ms/step - loss: 0.1939 - sparse_categorical_accuracy: 0.9247 - val_loss: 0.2768 - val_sparse_categorical_accuracy: 0.9065\n",
            "Epoch 216/300\n",
            "432/432 [==============================] - 13s 31ms/step - loss: 0.1952 - sparse_categorical_accuracy: 0.9243 - val_loss: 0.2801 - val_sparse_categorical_accuracy: 0.9087\n",
            "Epoch 217/300\n",
            "432/432 [==============================] - 13s 30ms/step - loss: 0.1919 - sparse_categorical_accuracy: 0.9253 - val_loss: 0.2907 - val_sparse_categorical_accuracy: 0.9077\n",
            "Epoch 218/300\n",
            "432/432 [==============================] - 13s 30ms/step - loss: 0.1903 - sparse_categorical_accuracy: 0.9268 - val_loss: 0.2802 - val_sparse_categorical_accuracy: 0.9096\n",
            "Epoch 219/300\n",
            "432/432 [==============================] - 13s 30ms/step - loss: 0.1949 - sparse_categorical_accuracy: 0.9245 - val_loss: 0.2800 - val_sparse_categorical_accuracy: 0.9110\n",
            "Epoch 220/300\n",
            "432/432 [==============================] - 12s 28ms/step - loss: 0.1947 - sparse_categorical_accuracy: 0.9255 - val_loss: 0.2814 - val_sparse_categorical_accuracy: 0.9081\n",
            "Epoch 221/300\n",
            "432/432 [==============================] - 13s 29ms/step - loss: 0.1938 - sparse_categorical_accuracy: 0.9258 - val_loss: 0.2789 - val_sparse_categorical_accuracy: 0.9090\n",
            "Epoch 222/300\n",
            "432/432 [==============================] - 13s 31ms/step - loss: 0.1910 - sparse_categorical_accuracy: 0.9266 - val_loss: 0.2828 - val_sparse_categorical_accuracy: 0.9081\n",
            "Epoch 223/300\n",
            "432/432 [==============================] - 13s 30ms/step - loss: 0.1921 - sparse_categorical_accuracy: 0.9262 - val_loss: 0.2778 - val_sparse_categorical_accuracy: 0.9077\n",
            "Epoch 224/300\n",
            "432/432 [==============================] - 13s 31ms/step - loss: 0.1895 - sparse_categorical_accuracy: 0.9277 - val_loss: 0.2704 - val_sparse_categorical_accuracy: 0.9100\n",
            "Epoch 225/300\n",
            "432/432 [==============================] - 13s 30ms/step - loss: 0.1931 - sparse_categorical_accuracy: 0.9243 - val_loss: 0.2816 - val_sparse_categorical_accuracy: 0.9067\n",
            "Epoch 226/300\n",
            "432/432 [==============================] - 13s 31ms/step - loss: 0.1917 - sparse_categorical_accuracy: 0.9251 - val_loss: 0.2810 - val_sparse_categorical_accuracy: 0.9083\n",
            "Epoch 227/300\n",
            "432/432 [==============================] - 13s 30ms/step - loss: 0.1921 - sparse_categorical_accuracy: 0.9259 - val_loss: 0.2845 - val_sparse_categorical_accuracy: 0.9075\n",
            "Epoch 228/300\n",
            "432/432 [==============================] - 13s 30ms/step - loss: 0.1894 - sparse_categorical_accuracy: 0.9274 - val_loss: 0.2760 - val_sparse_categorical_accuracy: 0.9090\n",
            "Epoch 229/300\n",
            "432/432 [==============================] - 14s 31ms/step - loss: 0.1849 - sparse_categorical_accuracy: 0.9280 - val_loss: 0.2803 - val_sparse_categorical_accuracy: 0.9083\n",
            "Epoch 230/300\n",
            "432/432 [==============================] - 13s 31ms/step - loss: 0.1918 - sparse_categorical_accuracy: 0.9262 - val_loss: 0.2782 - val_sparse_categorical_accuracy: 0.9092\n",
            "Epoch 231/300\n",
            "432/432 [==============================] - 14s 32ms/step - loss: 0.1922 - sparse_categorical_accuracy: 0.9256 - val_loss: 0.2916 - val_sparse_categorical_accuracy: 0.9083\n",
            "Epoch 232/300\n",
            "432/432 [==============================] - 13s 30ms/step - loss: 0.1889 - sparse_categorical_accuracy: 0.9277 - val_loss: 0.2915 - val_sparse_categorical_accuracy: 0.9062\n",
            "Epoch 233/300\n",
            "432/432 [==============================] - 13s 30ms/step - loss: 0.1894 - sparse_categorical_accuracy: 0.9270 - val_loss: 0.2763 - val_sparse_categorical_accuracy: 0.9077\n",
            "Epoch 234/300\n",
            "432/432 [==============================] - 13s 31ms/step - loss: 0.1877 - sparse_categorical_accuracy: 0.9283 - val_loss: 0.2738 - val_sparse_categorical_accuracy: 0.9117\n",
            "Epoch 235/300\n",
            "432/432 [==============================] - 13s 31ms/step - loss: 0.1880 - sparse_categorical_accuracy: 0.9269 - val_loss: 0.2776 - val_sparse_categorical_accuracy: 0.9085\n",
            "Epoch 236/300\n",
            "432/432 [==============================] - 12s 29ms/step - loss: 0.1895 - sparse_categorical_accuracy: 0.9273 - val_loss: 0.2805 - val_sparse_categorical_accuracy: 0.9106\n",
            "Epoch 237/300\n",
            "432/432 [==============================] - 12s 28ms/step - loss: 0.1909 - sparse_categorical_accuracy: 0.9270 - val_loss: 0.2784 - val_sparse_categorical_accuracy: 0.9098\n",
            "Epoch 238/300\n",
            "432/432 [==============================] - 12s 29ms/step - loss: 0.1907 - sparse_categorical_accuracy: 0.9262 - val_loss: 0.2803 - val_sparse_categorical_accuracy: 0.9090\n",
            "Epoch 239/300\n",
            "432/432 [==============================] - 12s 29ms/step - loss: 0.1854 - sparse_categorical_accuracy: 0.9269 - val_loss: 0.2859 - val_sparse_categorical_accuracy: 0.9079\n",
            "Epoch 240/300\n",
            "432/432 [==============================] - 12s 29ms/step - loss: 0.1860 - sparse_categorical_accuracy: 0.9290 - val_loss: 0.2838 - val_sparse_categorical_accuracy: 0.9110\n",
            "Epoch 241/300\n",
            "432/432 [==============================] - 12s 27ms/step - loss: 0.1916 - sparse_categorical_accuracy: 0.9272 - val_loss: 0.2786 - val_sparse_categorical_accuracy: 0.9106\n",
            "Epoch 242/300\n",
            "432/432 [==============================] - 11s 26ms/step - loss: 0.1889 - sparse_categorical_accuracy: 0.9258 - val_loss: 0.2778 - val_sparse_categorical_accuracy: 0.9119\n",
            "Epoch 243/300\n",
            "432/432 [==============================] - 12s 29ms/step - loss: 0.1912 - sparse_categorical_accuracy: 0.9277 - val_loss: 0.2814 - val_sparse_categorical_accuracy: 0.9123\n",
            "Epoch 244/300\n",
            "432/432 [==============================] - 12s 28ms/step - loss: 0.1896 - sparse_categorical_accuracy: 0.9268 - val_loss: 0.2766 - val_sparse_categorical_accuracy: 0.9115\n",
            "Epoch 245/300\n",
            "432/432 [==============================] - 12s 29ms/step - loss: 0.1896 - sparse_categorical_accuracy: 0.9266 - val_loss: 0.2812 - val_sparse_categorical_accuracy: 0.9094\n",
            "Epoch 246/300\n",
            "432/432 [==============================] - 12s 29ms/step - loss: 0.1909 - sparse_categorical_accuracy: 0.9275 - val_loss: 0.2867 - val_sparse_categorical_accuracy: 0.9067\n",
            "Epoch 247/300\n",
            "432/432 [==============================] - 12s 28ms/step - loss: 0.1873 - sparse_categorical_accuracy: 0.9282 - val_loss: 0.2888 - val_sparse_categorical_accuracy: 0.9077\n",
            "Epoch 248/300\n",
            "432/432 [==============================] - 12s 28ms/step - loss: 0.1903 - sparse_categorical_accuracy: 0.9261 - val_loss: 0.2804 - val_sparse_categorical_accuracy: 0.9077\n",
            "Epoch 249/300\n",
            "432/432 [==============================] - 12s 28ms/step - loss: 0.1897 - sparse_categorical_accuracy: 0.9272 - val_loss: 0.2785 - val_sparse_categorical_accuracy: 0.9085\n",
            "Epoch 250/300\n",
            "432/432 [==============================] - 12s 29ms/step - loss: 0.1854 - sparse_categorical_accuracy: 0.9270 - val_loss: 0.2905 - val_sparse_categorical_accuracy: 0.9087\n",
            "Epoch 251/300\n",
            "432/432 [==============================] - 12s 28ms/step - loss: 0.1883 - sparse_categorical_accuracy: 0.9264 - val_loss: 0.2855 - val_sparse_categorical_accuracy: 0.9096\n",
            "Epoch 252/300\n",
            "432/432 [==============================] - 13s 29ms/step - loss: 0.1850 - sparse_categorical_accuracy: 0.9291 - val_loss: 0.2877 - val_sparse_categorical_accuracy: 0.9108\n",
            "Epoch 253/300\n",
            "432/432 [==============================] - 12s 28ms/step - loss: 0.1849 - sparse_categorical_accuracy: 0.9285 - val_loss: 0.2864 - val_sparse_categorical_accuracy: 0.9106\n",
            "Epoch 254/300\n",
            "432/432 [==============================] - 12s 28ms/step - loss: 0.1875 - sparse_categorical_accuracy: 0.9275 - val_loss: 0.2861 - val_sparse_categorical_accuracy: 0.9098\n",
            "Epoch 255/300\n",
            "432/432 [==============================] - 13s 29ms/step - loss: 0.1862 - sparse_categorical_accuracy: 0.9281 - val_loss: 0.2826 - val_sparse_categorical_accuracy: 0.9069\n",
            "Epoch 256/300\n",
            "432/432 [==============================] - 13s 29ms/step - loss: 0.1875 - sparse_categorical_accuracy: 0.9276 - val_loss: 0.2786 - val_sparse_categorical_accuracy: 0.9090\n",
            "Epoch 257/300\n",
            "432/432 [==============================] - 12s 28ms/step - loss: 0.1850 - sparse_categorical_accuracy: 0.9294 - val_loss: 0.2819 - val_sparse_categorical_accuracy: 0.9090\n",
            "Epoch 258/300\n",
            "432/432 [==============================] - 14s 32ms/step - loss: 0.1891 - sparse_categorical_accuracy: 0.9280 - val_loss: 0.2781 - val_sparse_categorical_accuracy: 0.9094\n",
            "Epoch 259/300\n",
            "432/432 [==============================] - 13s 31ms/step - loss: 0.1847 - sparse_categorical_accuracy: 0.9282 - val_loss: 0.2919 - val_sparse_categorical_accuracy: 0.9042\n",
            "Epoch 260/300\n",
            "432/432 [==============================] - 14s 32ms/step - loss: 0.1829 - sparse_categorical_accuracy: 0.9293 - val_loss: 0.2885 - val_sparse_categorical_accuracy: 0.9075\n",
            "Epoch 261/300\n",
            "432/432 [==============================] - 13s 31ms/step - loss: 0.1874 - sparse_categorical_accuracy: 0.9279 - val_loss: 0.2834 - val_sparse_categorical_accuracy: 0.9079\n",
            "Epoch 262/300\n",
            "432/432 [==============================] - 13s 31ms/step - loss: 0.1861 - sparse_categorical_accuracy: 0.9295 - val_loss: 0.2872 - val_sparse_categorical_accuracy: 0.9087\n",
            "Epoch 263/300\n",
            "432/432 [==============================] - 13s 30ms/step - loss: 0.1851 - sparse_categorical_accuracy: 0.9287 - val_loss: 0.2836 - val_sparse_categorical_accuracy: 0.9108\n",
            "Epoch 264/300\n",
            "432/432 [==============================] - 13s 30ms/step - loss: 0.1872 - sparse_categorical_accuracy: 0.9271 - val_loss: 0.2810 - val_sparse_categorical_accuracy: 0.9056\n",
            "Epoch 265/300\n",
            "432/432 [==============================] - 13s 30ms/step - loss: 0.1853 - sparse_categorical_accuracy: 0.9286 - val_loss: 0.2843 - val_sparse_categorical_accuracy: 0.9046\n",
            "Epoch 266/300\n",
            "432/432 [==============================] - 13s 30ms/step - loss: 0.1882 - sparse_categorical_accuracy: 0.9277 - val_loss: 0.2827 - val_sparse_categorical_accuracy: 0.9075\n",
            "Epoch 267/300\n",
            "432/432 [==============================] - 13s 29ms/step - loss: 0.1836 - sparse_categorical_accuracy: 0.9285 - val_loss: 0.2862 - val_sparse_categorical_accuracy: 0.9100\n",
            "Epoch 268/300\n",
            "432/432 [==============================] - 13s 30ms/step - loss: 0.1866 - sparse_categorical_accuracy: 0.9283 - val_loss: 0.2853 - val_sparse_categorical_accuracy: 0.9123\n",
            "Epoch 269/300\n",
            "432/432 [==============================] - 13s 31ms/step - loss: 0.1888 - sparse_categorical_accuracy: 0.9267 - val_loss: 0.2861 - val_sparse_categorical_accuracy: 0.9085\n",
            "Epoch 270/300\n",
            "432/432 [==============================] - 13s 30ms/step - loss: 0.1860 - sparse_categorical_accuracy: 0.9281 - val_loss: 0.2823 - val_sparse_categorical_accuracy: 0.9106\n",
            "Epoch 271/300\n",
            "432/432 [==============================] - 13s 31ms/step - loss: 0.1859 - sparse_categorical_accuracy: 0.9291 - val_loss: 0.2797 - val_sparse_categorical_accuracy: 0.9123\n",
            "Epoch 272/300\n",
            "432/432 [==============================] - 13s 30ms/step - loss: 0.1883 - sparse_categorical_accuracy: 0.9267 - val_loss: 0.2806 - val_sparse_categorical_accuracy: 0.9098\n",
            "Epoch 273/300\n",
            "432/432 [==============================] - 13s 29ms/step - loss: 0.1849 - sparse_categorical_accuracy: 0.9278 - val_loss: 0.2857 - val_sparse_categorical_accuracy: 0.9100\n",
            "Epoch 274/300\n",
            "432/432 [==============================] - 12s 29ms/step - loss: 0.1834 - sparse_categorical_accuracy: 0.9298 - val_loss: 0.2862 - val_sparse_categorical_accuracy: 0.9102\n",
            "Epoch 275/300\n",
            "432/432 [==============================] - 12s 28ms/step - loss: 0.1874 - sparse_categorical_accuracy: 0.9276 - val_loss: 0.2882 - val_sparse_categorical_accuracy: 0.9056\n",
            "Epoch 276/300\n",
            "432/432 [==============================] - 12s 27ms/step - loss: 0.1819 - sparse_categorical_accuracy: 0.9298 - val_loss: 0.2829 - val_sparse_categorical_accuracy: 0.9104\n",
            "Epoch 277/300\n",
            "432/432 [==============================] - 12s 29ms/step - loss: 0.1876 - sparse_categorical_accuracy: 0.9272 - val_loss: 0.2847 - val_sparse_categorical_accuracy: 0.9090\n",
            "Epoch 278/300\n",
            "432/432 [==============================] - 12s 29ms/step - loss: 0.1827 - sparse_categorical_accuracy: 0.9273 - val_loss: 0.2773 - val_sparse_categorical_accuracy: 0.9129\n",
            "Epoch 279/300\n",
            "432/432 [==============================] - 12s 28ms/step - loss: 0.1847 - sparse_categorical_accuracy: 0.9293 - val_loss: 0.2874 - val_sparse_categorical_accuracy: 0.9106\n",
            "Epoch 280/300\n",
            "432/432 [==============================] - 12s 28ms/step - loss: 0.1809 - sparse_categorical_accuracy: 0.9305 - val_loss: 0.2829 - val_sparse_categorical_accuracy: 0.9127\n",
            "Epoch 281/300\n",
            "432/432 [==============================] - 12s 29ms/step - loss: 0.1859 - sparse_categorical_accuracy: 0.9297 - val_loss: 0.2843 - val_sparse_categorical_accuracy: 0.9087\n",
            "Epoch 282/300\n",
            "432/432 [==============================] - 12s 28ms/step - loss: 0.1815 - sparse_categorical_accuracy: 0.9295 - val_loss: 0.2807 - val_sparse_categorical_accuracy: 0.9102\n",
            "Epoch 283/300\n",
            "432/432 [==============================] - 12s 29ms/step - loss: 0.1833 - sparse_categorical_accuracy: 0.9291 - val_loss: 0.2811 - val_sparse_categorical_accuracy: 0.9098\n",
            "Epoch 284/300\n",
            "432/432 [==============================] - 12s 28ms/step - loss: 0.1857 - sparse_categorical_accuracy: 0.9289 - val_loss: 0.2811 - val_sparse_categorical_accuracy: 0.9121\n",
            "Epoch 285/300\n",
            "432/432 [==============================] - 12s 29ms/step - loss: 0.1837 - sparse_categorical_accuracy: 0.9285 - val_loss: 0.2830 - val_sparse_categorical_accuracy: 0.9098\n",
            "Epoch 286/300\n",
            "432/432 [==============================] - 12s 29ms/step - loss: 0.1853 - sparse_categorical_accuracy: 0.9281 - val_loss: 0.2866 - val_sparse_categorical_accuracy: 0.9069\n",
            "Epoch 287/300\n",
            "432/432 [==============================] - 12s 28ms/step - loss: 0.1823 - sparse_categorical_accuracy: 0.9300 - val_loss: 0.2896 - val_sparse_categorical_accuracy: 0.9065\n",
            "Epoch 288/300\n",
            "432/432 [==============================] - 12s 28ms/step - loss: 0.1836 - sparse_categorical_accuracy: 0.9289 - val_loss: 0.2894 - val_sparse_categorical_accuracy: 0.9098\n",
            "Epoch 289/300\n",
            "432/432 [==============================] - 12s 29ms/step - loss: 0.1822 - sparse_categorical_accuracy: 0.9295 - val_loss: 0.2798 - val_sparse_categorical_accuracy: 0.9112\n",
            "Epoch 290/300\n",
            "432/432 [==============================] - 12s 28ms/step - loss: 0.1826 - sparse_categorical_accuracy: 0.9305 - val_loss: 0.2815 - val_sparse_categorical_accuracy: 0.9075\n",
            "Epoch 291/300\n",
            "432/432 [==============================] - 12s 27ms/step - loss: 0.1827 - sparse_categorical_accuracy: 0.9290 - val_loss: 0.2828 - val_sparse_categorical_accuracy: 0.9110\n",
            "Epoch 292/300\n",
            "432/432 [==============================] - 12s 29ms/step - loss: 0.1820 - sparse_categorical_accuracy: 0.9290 - val_loss: 0.2844 - val_sparse_categorical_accuracy: 0.9077\n",
            "Epoch 293/300\n",
            "432/432 [==============================] - 12s 27ms/step - loss: 0.1832 - sparse_categorical_accuracy: 0.9287 - val_loss: 0.2833 - val_sparse_categorical_accuracy: 0.9071\n",
            "Epoch 294/300\n",
            "432/432 [==============================] - 12s 28ms/step - loss: 0.1825 - sparse_categorical_accuracy: 0.9298 - val_loss: 0.2861 - val_sparse_categorical_accuracy: 0.9077\n",
            "Epoch 295/300\n",
            "432/432 [==============================] - 12s 28ms/step - loss: 0.1814 - sparse_categorical_accuracy: 0.9299 - val_loss: 0.2883 - val_sparse_categorical_accuracy: 0.9102\n",
            "Epoch 296/300\n",
            "432/432 [==============================] - 12s 28ms/step - loss: 0.1805 - sparse_categorical_accuracy: 0.9314 - val_loss: 0.2993 - val_sparse_categorical_accuracy: 0.9065\n",
            "Epoch 297/300\n",
            "432/432 [==============================] - 12s 28ms/step - loss: 0.1827 - sparse_categorical_accuracy: 0.9304 - val_loss: 0.2873 - val_sparse_categorical_accuracy: 0.9108\n",
            "Epoch 298/300\n",
            "432/432 [==============================] - 12s 28ms/step - loss: 0.1847 - sparse_categorical_accuracy: 0.9292 - val_loss: 0.2886 - val_sparse_categorical_accuracy: 0.9102\n",
            "Epoch 299/300\n",
            "432/432 [==============================] - 13s 29ms/step - loss: 0.1795 - sparse_categorical_accuracy: 0.9296 - val_loss: 0.2877 - val_sparse_categorical_accuracy: 0.9102\n",
            "Epoch 300/300\n",
            "432/432 [==============================] - 13s 29ms/step - loss: 0.1820 - sparse_categorical_accuracy: 0.9292 - val_loss: 0.2932 - val_sparse_categorical_accuracy: 0.9100\n",
            "313/313 [==============================] - 1s 4ms/step - loss: 0.3084 - sparse_categorical_accuracy: 0.9026\n",
            "\n",
            "Test accuracy: 0.9025999903678894\n"
          ]
        }
      ]
    },
    {
      "cell_type": "code",
      "source": [
        "print('\\nhistory dict:', list(history.history.keys()))"
      ],
      "metadata": {
        "id": "CxRE-B_Q6Sii",
        "colab": {
          "base_uri": "https://localhost:8080/"
        },
        "outputId": "e0367b3a-940d-4f21-ed25-4255edc789ff"
      },
      "execution_count": 16,
      "outputs": [
        {
          "output_type": "stream",
          "name": "stdout",
          "text": [
            "\n",
            "history dict: ['loss', 'sparse_categorical_accuracy', 'val_loss', 'val_sparse_categorical_accuracy']\n"
          ]
        }
      ]
    },
    {
      "cell_type": "code",
      "source": [
        "result = model.evaluate(x_test, y_test)\n",
        "print(result)"
      ],
      "metadata": {
        "id": "YXpwRRTvTBNg",
        "colab": {
          "base_uri": "https://localhost:8080/"
        },
        "outputId": "93e6672e-2908-4406-adac-3dd547cd8ff2"
      },
      "execution_count": 17,
      "outputs": [
        {
          "output_type": "stream",
          "name": "stdout",
          "text": [
            "313/313 [==============================] - 1s 4ms/step - loss: 0.3084 - sparse_categorical_accuracy: 0.9026\n",
            "[0.30840086936950684, 0.9025999903678894]\n"
          ]
        }
      ]
    },
    {
      "cell_type": "code",
      "source": [
        "saved_model = load_model('best_model.h5')\n",
        "result = saved_model.evaluate(x_test, y_test)\n",
        "print(result)"
      ],
      "metadata": {
        "colab": {
          "base_uri": "https://localhost:8080/"
        },
        "id": "dpaZAW0vp1AZ",
        "outputId": "12c9c5cc-fde6-4d0e-efb1-b444549f0e56"
      },
      "execution_count": 18,
      "outputs": [
        {
          "output_type": "stream",
          "name": "stdout",
          "text": [
            "313/313 [==============================] - 1s 3ms/step - loss: 0.3073 - sparse_categorical_accuracy: 0.9032\n",
            "[0.3072962760925293, 0.9031999707221985]\n"
          ]
        }
      ]
    },
    {
      "cell_type": "code",
      "source": [
        "# from keras.models import load_model\n",
        "# saved_model = load_model('best_model.h5')\n",
        "# # _, train_acc = saved_model.evaluate(x_train, y_train, verbose=0)\n",
        "# _, test_acc = saved_model.evaluate(x_test, y_test, verbose=0)\n",
        "# print('Test: %.3f' % (test_acc))"
      ],
      "metadata": {
        "id": "DR_MS9DABo_K"
      },
      "execution_count": 19,
      "outputs": []
    },
    {
      "cell_type": "code",
      "source": [
        "history_dict = history.history\n",
        "loss_values = history_dict['loss']\n",
        "val_loss_values = history_dict['val_loss']\n",
        "\n",
        "epochs = range(1, len(history_dict['loss']) + 1)\n",
        "\n",
        "plt.figure(figsize=(10, 5))\n",
        "plt.plot(epochs, loss_values, 'bo', label='Training loss')\n",
        "plt.plot(epochs, val_loss_values, 'r', label='Validation loss')\n",
        "plt.ylim (0.2, 0.5)\n",
        "plt.title('Training and validation loss')\n",
        "plt.xlabel('Epochs')\n",
        "plt.ylabel('Loss')\n",
        "plt.legend()\n",
        "plt.grid(True)\n",
        "plt.show()\n",
        "1\n",
        "plt.clf()\n",
        "plt.figure(figsize=(10, 5))\n",
        "val_acc_values = history_dict['sparse_categorical_accuracy']\n",
        "plt.plot(epochs, history_dict['sparse_categorical_accuracy'], 'bo', label='Training acc')\n",
        "plt.plot(epochs, history_dict['val_sparse_categorical_accuracy'], 'r', label='Validation acc')\n",
        "plt.ylim (0.88, 0.94)\n",
        "plt.title('Training and validation accuracy')\n",
        "plt.xlabel('Epochs')\n",
        "plt.ylabel('Accuracy')\n",
        "plt.legend()\n",
        "plt.grid(True)"
      ],
      "metadata": {
        "id": "2Ll_5sGlXKMH",
        "colab": {
          "base_uri": "https://localhost:8080/",
          "height": 975
        },
        "outputId": "cb072952-56cd-4b13-f5e5-53c1e1ee852f"
      },
      "execution_count": 20,
      "outputs": [
        {
          "output_type": "display_data",
          "data": {
            "text/plain": [
              "<Figure size 1000x500 with 1 Axes>"
            ],
            "image/png": "[encoded data removed]"
          },
          "metadata": {}
        },
        {
          "output_type": "display_data",
          "data": {
            "text/plain": [
              "<Figure size 640x480 with 0 Axes>"
            ]
          },
          "metadata": {}
        },
        {
          "output_type": "display_data",
          "data": {
            "text/plain": [
              "<Figure size 1000x500 with 1 Axes>"
            ],
            "image/png": "[encoded data removed]"
          },
          "metadata": {}
        }
      ]
    },
    {
      "cell_type": "code",
      "source": [
        "probability_model = tf.keras.Sequential([model,\n",
        "                                         tf.keras.layers.Softmax()])"
      ],
      "metadata": {
        "id": "VzOdKAT_uV-f"
      },
      "execution_count": 21,
      "outputs": []
    },
    {
      "cell_type": "code",
      "source": [
        "predictions = probability_model.predict(x_test)"
      ],
      "metadata": {
        "id": "f4is3NFruYom",
        "colab": {
          "base_uri": "https://localhost:8080/"
        },
        "outputId": "ba815be1-db21-4998-eff0-50cb659ff72e"
      },
      "execution_count": 22,
      "outputs": [
        {
          "output_type": "stream",
          "name": "stdout",
          "text": [
            "313/313 [==============================] - 1s 3ms/step\n"
          ]
        }
      ]
    },
    {
      "cell_type": "code",
      "source": [
        "predictions[0]"
      ],
      "metadata": {
        "id": "82cigvlZudz_",
        "colab": {
          "base_uri": "https://localhost:8080/"
        },
        "outputId": "5e881e14-1c21-4b08-e9ba-e2deb2b0701c"
      },
      "execution_count": 23,
      "outputs": [
        {
          "output_type": "execute_result",
          "data": {
            "text/plain": [
              "array([0.08533851, 0.08533851, 0.08533851, 0.08533851, 0.08533851,\n",
              "       0.08533868, 0.08533851, 0.08535038, 0.08533851, 0.23194145],\n",
              "      dtype=float32)"
            ]
          },
          "metadata": {},
          "execution_count": 23
        }
      ]
    },
    {
      "cell_type": "code",
      "source": [
        "model.summary()"
      ],
      "metadata": {
        "id": "6RsQPHyYuNGe",
        "colab": {
          "base_uri": "https://localhost:8080/"
        },
        "outputId": "dc4f9f1a-4c34-4618-baf4-959a53533ab2"
      },
      "execution_count": 24,
      "outputs": [
        {
          "output_type": "stream",
          "name": "stdout",
          "text": [
            "Model: \"sequential\"\n",
            "_________________________________________________________________\n",
            " Layer (type)                Output Shape              Param #   \n",
            "=================================================================\n",
            " flatten (Flatten)           (None, 784)               0         \n",
            "                                                                 \n",
            " dropout (Dropout)           (None, 784)               0         \n",
            "                                                                 \n",
            " batch_normalization (Batch  (None, 784)               3136      \n",
            " Normalization)                                                  \n",
            "                                                                 \n",
            " dense (Dense)               (None, 256)               200960    \n",
            "                                                                 \n",
            " dropout_1 (Dropout)         (None, 256)               0         \n",
            "                                                                 \n",
            " batch_normalization_1 (Bat  (None, 256)               1024      \n",
            " chNormalization)                                                \n",
            "                                                                 \n",
            " dense_1 (Dense)             (None, 512)               131584    \n",
            "                                                                 \n",
            " dropout_2 (Dropout)         (None, 512)               0         \n",
            "                                                                 \n",
            " batch_normalization_2 (Bat  (None, 512)               2048      \n",
            " chNormalization)                                                \n",
            "                                                                 \n",
            " dense_2 (Dense)             (None, 512)               262656    \n",
            "                                                                 \n",
            " dropout_3 (Dropout)         (None, 512)               0         \n",
            "                                                                 \n",
            " dense_3 (Dense)             (None, 10)                5130      \n",
            "                                                                 \n",
            "=================================================================\n",
            "Total params: 606538 (2.31 MB)\n",
            "Trainable params: 603434 (2.30 MB)\n",
            "Non-trainable params: 3104 (12.12 KB)\n",
            "_________________________________________________________________\n"
          ]
        }
      ]
    }
  ]
}