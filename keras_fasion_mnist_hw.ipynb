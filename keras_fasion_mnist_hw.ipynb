{
  "nbformat": 4,
  "nbformat_minor": 0,
  "metadata": {
    "colab": {
      "provenance": [],
      "authorship_tag": "ABX9TyMdyJrDI14iqLi8p/rG9KSi",
      "include_colab_link": true
    },
    "kernelspec": {
      "name": "python3",
      "display_name": "Python 3"
    },
    "language_info": {
      "name": "python"
    }
  },
  "cells": [
    {
      "cell_type": "markdown",
      "metadata": {
        "id": "view-in-github",
        "colab_type": "text"
      },
      "source": [
        "<a href=\"https://colab.research.google.com/github/PavelStelmakhV/hw310-keras-fasion-mnist/blob/main/keras_fasion_mnist_hw.ipynb\" target=\"_parent\"><img src=\"https://colab.research.google.com/assets/colab-badge.svg\" alt=\"Open In Colab\"/></a>"
      ]
    },
    {
      "cell_type": "code",
      "execution_count": 13,
      "metadata": {
        "id": "vv7w0bgAVQPO"
      },
      "outputs": [],
      "source": [
        "import tensorflow as tf\n",
        "\n",
        "import numpy as np\n",
        "import matplotlib.pyplot as plt\n",
        "from keras import layers\n",
        "from keras import regularizers"
      ]
    },
    {
      "cell_type": "code",
      "source": [
        "fashion_mnist = tf.keras.datasets.fashion_mnist\n",
        "\n",
        "(train_images, train_labels), (test_images, test_labels) = fashion_mnist.load_data()"
      ],
      "metadata": {
        "id": "mOpywsNAzfGB"
      },
      "execution_count": 14,
      "outputs": []
    },
    {
      "cell_type": "code",
      "source": [
        "class_names = ['T-shirt/top', 'Trouser', 'Pullover', 'Dress', 'Coat',\n",
        "               'Sandal', 'Shirt', 'Sneaker', 'Bag', 'Ankle boot']"
      ],
      "metadata": {
        "id": "vM60H5OVz65k"
      },
      "execution_count": 15,
      "outputs": []
    },
    {
      "cell_type": "code",
      "source": [
        "train_images = train_images / 255.0\n",
        "\n",
        "test_images = test_images / 255.0"
      ],
      "metadata": {
        "id": "t2gucjsJ0KUi"
      },
      "execution_count": 16,
      "outputs": []
    },
    {
      "cell_type": "code",
      "source": [
        "model = tf.keras.Sequential()\n",
        "\n",
        "model.add(layers.Flatten(input_shape=(28, 28)))\n",
        "model.add(layers.Dropout(0.5))\n",
        "# model.add(layers.Dense(500, activation='relu', kernel_regularizer=regularizers.l2(0.000001)))\n",
        "model.add(layers.Dense(512, activation='relu', kernel_regularizer=regularizers.l2(0.00001)))\n",
        "model.add(layers.Dropout(0.5))\n",
        "model.add(layers.Dense(512, activation='relu', kernel_regularizer=regularizers.l2(0.00001)))\n",
        "model.add(layers.Dropout(0.5))\n",
        "# model.add(layers.Dense(216, activation='relu', kernel_regularizer=regularizers.l2(0.001)))\n",
        "# model.add(layers.Dense(512, activation='sigmoid', kernel_regularizer=regularizers.l2(0.00001)))\n",
        "# model.add(layers.Dropout(0.5))\n",
        "# model.add(layers.Dense(512, activation='sigmoid', kernel_regularizer=regularizers.l2(0.00001)))\n",
        "# model.add(layers.Dropout(0.5))\n",
        "# model.add(layers.Dense(500, activation='sigmoid', kernel_regularizer=regularizers.l2(0.000001)))\n",
        "# model.add(layers.Dense(500, activation='relu', kernel_regularizer=regularizers.l2(0.000001)))\n",
        "# # model.add(layers.Dense(80, activation='relu', kernel_regularizer=regularizers.l2(0.001)))\n",
        "# model.add(layers.Dropout(0.5))\n",
        "# model.add(layers.Dense(500, activation='relu', kernel_regularizer=regularizers.l2(0.000001)))\n",
        "# model.add(layers.Dropout(0.5))\n",
        "# # model.add(layers.Dense(40, activation='relu', kernel_regularizer=regularizers.l2(0.001)))\n",
        "\n",
        "model.add(layers.Dense(10, activation='softmax'))\n",
        "# model.add(layers.Softmax())"
      ],
      "metadata": {
        "id": "atS39i4d0aqW"
      },
      "execution_count": 17,
      "outputs": []
    },
    {
      "cell_type": "code",
      "source": [
        "model.compile(#optimizer='adam',\n",
        "              optimizer='adamax',\n",
        "              # optimizer='nadam',\n",
        "              # optimizer='rmsprop',\n",
        "              # optimizer='sgd',\n",
        "              # optimizer='adadelta',\n",
        "              # loss='binary_crossentropy',\n",
        "              loss=tf.keras.losses.SparseCategoricalCrossentropy(from_logits=True),\n",
        "              metrics=['accuracy'])"
      ],
      "metadata": {
        "id": "hENVaAC7ilNY"
      },
      "execution_count": 18,
      "outputs": []
    },
    {
      "cell_type": "code",
      "source": [
        "# model.fit(train_images, train_labels, epochs=20)\n",
        "history = model.fit(train_images,\n",
        "                    train_labels,\n",
        "                    epochs=120,\n",
        "                    batch_size=128,\n",
        "                    validation_data=(test_images, test_labels))\n",
        "test_loss, test_acc = model.evaluate(test_images, test_labels)\n",
        "print('\\nTest accuracy:', test_acc)"
      ],
      "metadata": {
        "id": "FH8HcMNm233I",
        "outputId": "0beb1b0a-9ff6-4c36-887c-a1c4f03ba148",
        "colab": {
          "base_uri": "https://localhost:8080/"
        }
      },
      "execution_count": 19,
      "outputs": [
        {
          "output_type": "stream",
          "name": "stdout",
          "text": [
            "Epoch 1/120\n",
            "469/469 [==============================] - 15s 30ms/step - loss: 0.9187 - accuracy: 0.6682 - val_loss: 0.6186 - val_accuracy: 0.7740\n",
            "Epoch 2/120\n",
            "469/469 [==============================] - 12s 25ms/step - loss: 0.6744 - accuracy: 0.7561 - val_loss: 0.5434 - val_accuracy: 0.8102\n",
            "Epoch 3/120\n",
            "469/469 [==============================] - 12s 25ms/step - loss: 0.6078 - accuracy: 0.7791 - val_loss: 0.5267 - val_accuracy: 0.8155\n",
            "Epoch 4/120\n",
            "469/469 [==============================] - 12s 25ms/step - loss: 0.5782 - accuracy: 0.7926 - val_loss: 0.5009 - val_accuracy: 0.8240\n",
            "Epoch 5/120\n",
            "469/469 [==============================] - 11s 23ms/step - loss: 0.5521 - accuracy: 0.8010 - val_loss: 0.4849 - val_accuracy: 0.8293\n",
            "Epoch 6/120\n",
            "469/469 [==============================] - 11s 23ms/step - loss: 0.5367 - accuracy: 0.8069 - val_loss: 0.4647 - val_accuracy: 0.8413\n",
            "Epoch 7/120\n",
            "469/469 [==============================] - 12s 25ms/step - loss: 0.5263 - accuracy: 0.8103 - val_loss: 0.4616 - val_accuracy: 0.8414\n",
            "Epoch 8/120\n",
            "469/469 [==============================] - 12s 25ms/step - loss: 0.5126 - accuracy: 0.8139 - val_loss: 0.4504 - val_accuracy: 0.8440\n",
            "Epoch 9/120\n",
            "469/469 [==============================] - 12s 25ms/step - loss: 0.5032 - accuracy: 0.8169 - val_loss: 0.4467 - val_accuracy: 0.8477\n",
            "Epoch 10/120\n",
            "469/469 [==============================] - 12s 25ms/step - loss: 0.4931 - accuracy: 0.8214 - val_loss: 0.4370 - val_accuracy: 0.8497\n",
            "Epoch 11/120\n",
            "469/469 [==============================] - 11s 23ms/step - loss: 0.4886 - accuracy: 0.8232 - val_loss: 0.4376 - val_accuracy: 0.8452\n",
            "Epoch 12/120\n",
            "469/469 [==============================] - 12s 25ms/step - loss: 0.4800 - accuracy: 0.8253 - val_loss: 0.4179 - val_accuracy: 0.8533\n",
            "Epoch 13/120\n",
            "469/469 [==============================] - 12s 25ms/step - loss: 0.4756 - accuracy: 0.8270 - val_loss: 0.4236 - val_accuracy: 0.8514\n",
            "Epoch 14/120\n",
            "469/469 [==============================] - 12s 25ms/step - loss: 0.4718 - accuracy: 0.8290 - val_loss: 0.4192 - val_accuracy: 0.8543\n",
            "Epoch 15/120\n",
            "469/469 [==============================] - 12s 25ms/step - loss: 0.4662 - accuracy: 0.8317 - val_loss: 0.4190 - val_accuracy: 0.8553\n",
            "Epoch 16/120\n",
            "469/469 [==============================] - 11s 24ms/step - loss: 0.4669 - accuracy: 0.8310 - val_loss: 0.4150 - val_accuracy: 0.8571\n",
            "Epoch 17/120\n",
            "469/469 [==============================] - 11s 23ms/step - loss: 0.4569 - accuracy: 0.8340 - val_loss: 0.4116 - val_accuracy: 0.8592\n",
            "Epoch 18/120\n",
            "469/469 [==============================] - 12s 25ms/step - loss: 0.4544 - accuracy: 0.8347 - val_loss: 0.4105 - val_accuracy: 0.8607\n",
            "Epoch 19/120\n",
            "469/469 [==============================] - 12s 25ms/step - loss: 0.4525 - accuracy: 0.8351 - val_loss: 0.4027 - val_accuracy: 0.8600\n",
            "Epoch 20/120\n",
            "469/469 [==============================] - 12s 25ms/step - loss: 0.4455 - accuracy: 0.8369 - val_loss: 0.3934 - val_accuracy: 0.8647\n",
            "Epoch 21/120\n",
            "469/469 [==============================] - 12s 25ms/step - loss: 0.4431 - accuracy: 0.8402 - val_loss: 0.3931 - val_accuracy: 0.8629\n",
            "Epoch 22/120\n",
            "469/469 [==============================] - 11s 23ms/step - loss: 0.4417 - accuracy: 0.8400 - val_loss: 0.3979 - val_accuracy: 0.8617\n",
            "Epoch 23/120\n",
            "469/469 [==============================] - 11s 24ms/step - loss: 0.4393 - accuracy: 0.8393 - val_loss: 0.3973 - val_accuracy: 0.8616\n",
            "Epoch 24/120\n",
            "469/469 [==============================] - 12s 25ms/step - loss: 0.4398 - accuracy: 0.8406 - val_loss: 0.4005 - val_accuracy: 0.8611\n",
            "Epoch 25/120\n",
            "469/469 [==============================] - 12s 25ms/step - loss: 0.4339 - accuracy: 0.8429 - val_loss: 0.3907 - val_accuracy: 0.8617\n",
            "Epoch 26/120\n",
            "469/469 [==============================] - 12s 25ms/step - loss: 0.4309 - accuracy: 0.8443 - val_loss: 0.3844 - val_accuracy: 0.8675\n",
            "Epoch 27/120\n",
            "469/469 [==============================] - 12s 25ms/step - loss: 0.4309 - accuracy: 0.8438 - val_loss: 0.3879 - val_accuracy: 0.8660\n",
            "Epoch 28/120\n",
            "469/469 [==============================] - 10s 22ms/step - loss: 0.4290 - accuracy: 0.8460 - val_loss: 0.3834 - val_accuracy: 0.8659\n",
            "Epoch 29/120\n",
            "469/469 [==============================] - 12s 24ms/step - loss: 0.4249 - accuracy: 0.8464 - val_loss: 0.3829 - val_accuracy: 0.8665\n",
            "Epoch 30/120\n",
            "469/469 [==============================] - 12s 25ms/step - loss: 0.4257 - accuracy: 0.8473 - val_loss: 0.3796 - val_accuracy: 0.8680\n",
            "Epoch 31/120\n",
            "469/469 [==============================] - 12s 25ms/step - loss: 0.4222 - accuracy: 0.8472 - val_loss: 0.3838 - val_accuracy: 0.8679\n",
            "Epoch 32/120\n",
            "469/469 [==============================] - 12s 25ms/step - loss: 0.4218 - accuracy: 0.8471 - val_loss: 0.3803 - val_accuracy: 0.8688\n",
            "Epoch 33/120\n",
            "469/469 [==============================] - 11s 24ms/step - loss: 0.4183 - accuracy: 0.8484 - val_loss: 0.3780 - val_accuracy: 0.8682\n",
            "Epoch 34/120\n",
            "469/469 [==============================] - 14s 29ms/step - loss: 0.4157 - accuracy: 0.8490 - val_loss: 0.3748 - val_accuracy: 0.8698\n",
            "Epoch 35/120\n",
            "469/469 [==============================] - 11s 23ms/step - loss: 0.4139 - accuracy: 0.8509 - val_loss: 0.3745 - val_accuracy: 0.8685\n",
            "Epoch 36/120\n",
            "469/469 [==============================] - 12s 25ms/step - loss: 0.4157 - accuracy: 0.8500 - val_loss: 0.3719 - val_accuracy: 0.8714\n",
            "Epoch 37/120\n",
            "469/469 [==============================] - 12s 25ms/step - loss: 0.4091 - accuracy: 0.8537 - val_loss: 0.3725 - val_accuracy: 0.8693\n",
            "Epoch 38/120\n",
            "469/469 [==============================] - 12s 25ms/step - loss: 0.4114 - accuracy: 0.8505 - val_loss: 0.3728 - val_accuracy: 0.8705\n",
            "Epoch 39/120\n",
            "469/469 [==============================] - 12s 25ms/step - loss: 0.4061 - accuracy: 0.8533 - val_loss: 0.3682 - val_accuracy: 0.8709\n",
            "Epoch 40/120\n",
            "469/469 [==============================] - 11s 24ms/step - loss: 0.4066 - accuracy: 0.8523 - val_loss: 0.3669 - val_accuracy: 0.8709\n",
            "Epoch 41/120\n",
            "469/469 [==============================] - 11s 24ms/step - loss: 0.4067 - accuracy: 0.8537 - val_loss: 0.3657 - val_accuracy: 0.8697\n",
            "Epoch 42/120\n",
            "469/469 [==============================] - 12s 25ms/step - loss: 0.4040 - accuracy: 0.8538 - val_loss: 0.3652 - val_accuracy: 0.8714\n",
            "Epoch 43/120\n",
            "469/469 [==============================] - 12s 25ms/step - loss: 0.4038 - accuracy: 0.8551 - val_loss: 0.3649 - val_accuracy: 0.8721\n",
            "Epoch 44/120\n",
            "469/469 [==============================] - 12s 26ms/step - loss: 0.4041 - accuracy: 0.8535 - val_loss: 0.3716 - val_accuracy: 0.8709\n",
            "Epoch 45/120\n",
            "469/469 [==============================] - 12s 25ms/step - loss: 0.3996 - accuracy: 0.8556 - val_loss: 0.3658 - val_accuracy: 0.8739\n",
            "Epoch 46/120\n",
            "469/469 [==============================] - 12s 25ms/step - loss: 0.3995 - accuracy: 0.8557 - val_loss: 0.3625 - val_accuracy: 0.8716\n",
            "Epoch 47/120\n",
            "469/469 [==============================] - 11s 23ms/step - loss: 0.4010 - accuracy: 0.8546 - val_loss: 0.3660 - val_accuracy: 0.8712\n",
            "Epoch 48/120\n",
            "469/469 [==============================] - 12s 25ms/step - loss: 0.3985 - accuracy: 0.8570 - val_loss: 0.3655 - val_accuracy: 0.8723\n",
            "Epoch 49/120\n",
            "469/469 [==============================] - 12s 25ms/step - loss: 0.3977 - accuracy: 0.8567 - val_loss: 0.3639 - val_accuracy: 0.8709\n",
            "Epoch 50/120\n",
            "469/469 [==============================] - 12s 25ms/step - loss: 0.3924 - accuracy: 0.8580 - val_loss: 0.3594 - val_accuracy: 0.8758\n",
            "Epoch 51/120\n",
            "469/469 [==============================] - 12s 26ms/step - loss: 0.3957 - accuracy: 0.8572 - val_loss: 0.3600 - val_accuracy: 0.8747\n",
            "Epoch 52/120\n",
            "469/469 [==============================] - 11s 24ms/step - loss: 0.3905 - accuracy: 0.8586 - val_loss: 0.3553 - val_accuracy: 0.8760\n",
            "Epoch 53/120\n",
            "469/469 [==============================] - 11s 24ms/step - loss: 0.3941 - accuracy: 0.8581 - val_loss: 0.3561 - val_accuracy: 0.8746\n",
            "Epoch 54/120\n",
            "469/469 [==============================] - 12s 26ms/step - loss: 0.3930 - accuracy: 0.8595 - val_loss: 0.3526 - val_accuracy: 0.8764\n",
            "Epoch 55/120\n",
            "469/469 [==============================] - 12s 26ms/step - loss: 0.3912 - accuracy: 0.8583 - val_loss: 0.3573 - val_accuracy: 0.8761\n",
            "Epoch 56/120\n",
            "469/469 [==============================] - 12s 26ms/step - loss: 0.3905 - accuracy: 0.8583 - val_loss: 0.3558 - val_accuracy: 0.8751\n",
            "Epoch 57/120\n",
            "469/469 [==============================] - 12s 26ms/step - loss: 0.3891 - accuracy: 0.8606 - val_loss: 0.3511 - val_accuracy: 0.8762\n",
            "Epoch 58/120\n",
            "469/469 [==============================] - 11s 24ms/step - loss: 0.3908 - accuracy: 0.8596 - val_loss: 0.3520 - val_accuracy: 0.8772\n",
            "Epoch 59/120\n",
            "469/469 [==============================] - 11s 24ms/step - loss: 0.3875 - accuracy: 0.8589 - val_loss: 0.3521 - val_accuracy: 0.8763\n",
            "Epoch 60/120\n",
            "469/469 [==============================] - 12s 25ms/step - loss: 0.3839 - accuracy: 0.8615 - val_loss: 0.3557 - val_accuracy: 0.8737\n",
            "Epoch 61/120\n",
            "469/469 [==============================] - 12s 26ms/step - loss: 0.3844 - accuracy: 0.8619 - val_loss: 0.3540 - val_accuracy: 0.8766\n",
            "Epoch 62/120\n",
            "469/469 [==============================] - 12s 26ms/step - loss: 0.3848 - accuracy: 0.8609 - val_loss: 0.3541 - val_accuracy: 0.8742\n",
            "Epoch 63/120\n",
            "469/469 [==============================] - 12s 26ms/step - loss: 0.3849 - accuracy: 0.8615 - val_loss: 0.3486 - val_accuracy: 0.8766\n",
            "Epoch 64/120\n",
            "469/469 [==============================] - 11s 24ms/step - loss: 0.3807 - accuracy: 0.8616 - val_loss: 0.3523 - val_accuracy: 0.8749\n",
            "Epoch 65/120\n",
            "469/469 [==============================] - 11s 23ms/step - loss: 0.3838 - accuracy: 0.8615 - val_loss: 0.3507 - val_accuracy: 0.8776\n",
            "Epoch 66/120\n",
            "469/469 [==============================] - 12s 25ms/step - loss: 0.3816 - accuracy: 0.8620 - val_loss: 0.3483 - val_accuracy: 0.8761\n",
            "Epoch 67/120\n",
            "469/469 [==============================] - 12s 26ms/step - loss: 0.3820 - accuracy: 0.8619 - val_loss: 0.3491 - val_accuracy: 0.8757\n",
            "Epoch 68/120\n",
            "469/469 [==============================] - 15s 31ms/step - loss: 0.3776 - accuracy: 0.8635 - val_loss: 0.3460 - val_accuracy: 0.8778\n",
            "Epoch 69/120\n",
            "469/469 [==============================] - 12s 25ms/step - loss: 0.3827 - accuracy: 0.8609 - val_loss: 0.3509 - val_accuracy: 0.8756\n",
            "Epoch 70/120\n",
            "469/469 [==============================] - 11s 23ms/step - loss: 0.3797 - accuracy: 0.8641 - val_loss: 0.3484 - val_accuracy: 0.8762\n",
            "Epoch 71/120\n",
            "469/469 [==============================] - 12s 26ms/step - loss: 0.3805 - accuracy: 0.8627 - val_loss: 0.3495 - val_accuracy: 0.8788\n",
            "Epoch 72/120\n",
            "469/469 [==============================] - 12s 25ms/step - loss: 0.3770 - accuracy: 0.8632 - val_loss: 0.3496 - val_accuracy: 0.8779\n",
            "Epoch 73/120\n",
            "469/469 [==============================] - 12s 25ms/step - loss: 0.3795 - accuracy: 0.8625 - val_loss: 0.3499 - val_accuracy: 0.8779\n",
            "Epoch 74/120\n",
            "469/469 [==============================] - 12s 25ms/step - loss: 0.3779 - accuracy: 0.8660 - val_loss: 0.3432 - val_accuracy: 0.8784\n",
            "Epoch 75/120\n",
            "469/469 [==============================] - 11s 23ms/step - loss: 0.3740 - accuracy: 0.8652 - val_loss: 0.3425 - val_accuracy: 0.8776\n",
            "Epoch 76/120\n",
            "469/469 [==============================] - 11s 24ms/step - loss: 0.3740 - accuracy: 0.8645 - val_loss: 0.3455 - val_accuracy: 0.8784\n",
            "Epoch 77/120\n",
            "469/469 [==============================] - 12s 25ms/step - loss: 0.3773 - accuracy: 0.8635 - val_loss: 0.3438 - val_accuracy: 0.8789\n",
            "Epoch 78/120\n",
            "469/469 [==============================] - 12s 26ms/step - loss: 0.3738 - accuracy: 0.8645 - val_loss: 0.3414 - val_accuracy: 0.8790\n",
            "Epoch 79/120\n",
            "469/469 [==============================] - 13s 28ms/step - loss: 0.3730 - accuracy: 0.8645 - val_loss: 0.3423 - val_accuracy: 0.8783\n",
            "Epoch 80/120\n",
            "469/469 [==============================] - 12s 26ms/step - loss: 0.3735 - accuracy: 0.8650 - val_loss: 0.3427 - val_accuracy: 0.8784\n",
            "Epoch 81/120\n",
            "469/469 [==============================] - 11s 24ms/step - loss: 0.3707 - accuracy: 0.8647 - val_loss: 0.3421 - val_accuracy: 0.8814\n",
            "Epoch 82/120\n",
            "469/469 [==============================] - 12s 25ms/step - loss: 0.3730 - accuracy: 0.8646 - val_loss: 0.3417 - val_accuracy: 0.8801\n",
            "Epoch 83/120\n",
            "469/469 [==============================] - 12s 25ms/step - loss: 0.3727 - accuracy: 0.8650 - val_loss: 0.3404 - val_accuracy: 0.8810\n",
            "Epoch 84/120\n",
            "469/469 [==============================] - 12s 26ms/step - loss: 0.3734 - accuracy: 0.8645 - val_loss: 0.3431 - val_accuracy: 0.8809\n",
            "Epoch 85/120\n",
            "469/469 [==============================] - 12s 25ms/step - loss: 0.3705 - accuracy: 0.8668 - val_loss: 0.3422 - val_accuracy: 0.8811\n",
            "Epoch 86/120\n",
            "469/469 [==============================] - 12s 25ms/step - loss: 0.3693 - accuracy: 0.8673 - val_loss: 0.3398 - val_accuracy: 0.8804\n",
            "Epoch 87/120\n",
            "469/469 [==============================] - 11s 23ms/step - loss: 0.3680 - accuracy: 0.8679 - val_loss: 0.3398 - val_accuracy: 0.8800\n",
            "Epoch 88/120\n",
            "469/469 [==============================] - 12s 25ms/step - loss: 0.3701 - accuracy: 0.8661 - val_loss: 0.3398 - val_accuracy: 0.8798\n",
            "Epoch 89/120\n",
            "469/469 [==============================] - 12s 25ms/step - loss: 0.3691 - accuracy: 0.8660 - val_loss: 0.3396 - val_accuracy: 0.8792\n",
            "Epoch 90/120\n",
            "469/469 [==============================] - 12s 26ms/step - loss: 0.3684 - accuracy: 0.8676 - val_loss: 0.3419 - val_accuracy: 0.8796\n",
            "Epoch 91/120\n",
            "469/469 [==============================] - 12s 26ms/step - loss: 0.3671 - accuracy: 0.8690 - val_loss: 0.3353 - val_accuracy: 0.8806\n",
            "Epoch 92/120\n",
            "469/469 [==============================] - 11s 24ms/step - loss: 0.3673 - accuracy: 0.8673 - val_loss: 0.3352 - val_accuracy: 0.8822\n",
            "Epoch 93/120\n",
            "469/469 [==============================] - 11s 23ms/step - loss: 0.3636 - accuracy: 0.8696 - val_loss: 0.3385 - val_accuracy: 0.8792\n",
            "Epoch 94/120\n",
            "469/469 [==============================] - 12s 25ms/step - loss: 0.3684 - accuracy: 0.8667 - val_loss: 0.3393 - val_accuracy: 0.8810\n",
            "Epoch 95/120\n",
            "469/469 [==============================] - 12s 26ms/step - loss: 0.3641 - accuracy: 0.8686 - val_loss: 0.3364 - val_accuracy: 0.8816\n",
            "Epoch 96/120\n",
            "469/469 [==============================] - 12s 25ms/step - loss: 0.3654 - accuracy: 0.8681 - val_loss: 0.3391 - val_accuracy: 0.8814\n",
            "Epoch 97/120\n",
            "469/469 [==============================] - 12s 26ms/step - loss: 0.3644 - accuracy: 0.8681 - val_loss: 0.3377 - val_accuracy: 0.8799\n",
            "Epoch 98/120\n",
            "469/469 [==============================] - 12s 25ms/step - loss: 0.3642 - accuracy: 0.8676 - val_loss: 0.3373 - val_accuracy: 0.8813\n",
            "Epoch 99/120\n",
            "469/469 [==============================] - 12s 25ms/step - loss: 0.3636 - accuracy: 0.8684 - val_loss: 0.3392 - val_accuracy: 0.8801\n",
            "Epoch 100/120\n",
            "469/469 [==============================] - 12s 25ms/step - loss: 0.3661 - accuracy: 0.8678 - val_loss: 0.3382 - val_accuracy: 0.8808\n",
            "Epoch 101/120\n",
            "469/469 [==============================] - 14s 30ms/step - loss: 0.3632 - accuracy: 0.8694 - val_loss: 0.3365 - val_accuracy: 0.8829\n",
            "Epoch 102/120\n",
            "469/469 [==============================] - 12s 26ms/step - loss: 0.3631 - accuracy: 0.8690 - val_loss: 0.3374 - val_accuracy: 0.8817\n",
            "Epoch 103/120\n",
            "469/469 [==============================] - 12s 26ms/step - loss: 0.3632 - accuracy: 0.8687 - val_loss: 0.3351 - val_accuracy: 0.8811\n",
            "Epoch 104/120\n",
            "469/469 [==============================] - 12s 26ms/step - loss: 0.3626 - accuracy: 0.8699 - val_loss: 0.3366 - val_accuracy: 0.8820\n",
            "Epoch 105/120\n",
            "469/469 [==============================] - 12s 26ms/step - loss: 0.3655 - accuracy: 0.8687 - val_loss: 0.3403 - val_accuracy: 0.8787\n",
            "Epoch 106/120\n",
            "469/469 [==============================] - 11s 24ms/step - loss: 0.3615 - accuracy: 0.8711 - val_loss: 0.3360 - val_accuracy: 0.8807\n",
            "Epoch 107/120\n",
            "469/469 [==============================] - 11s 24ms/step - loss: 0.3655 - accuracy: 0.8683 - val_loss: 0.3357 - val_accuracy: 0.8813\n",
            "Epoch 108/120\n",
            "469/469 [==============================] - 12s 25ms/step - loss: 0.3597 - accuracy: 0.8714 - val_loss: 0.3365 - val_accuracy: 0.8802\n",
            "Epoch 109/120\n",
            "469/469 [==============================] - 12s 26ms/step - loss: 0.3631 - accuracy: 0.8694 - val_loss: 0.3360 - val_accuracy: 0.8792\n",
            "Epoch 110/120\n",
            "469/469 [==============================] - 12s 26ms/step - loss: 0.3579 - accuracy: 0.8709 - val_loss: 0.3359 - val_accuracy: 0.8797\n",
            "Epoch 111/120\n",
            "469/469 [==============================] - 12s 25ms/step - loss: 0.3601 - accuracy: 0.8704 - val_loss: 0.3330 - val_accuracy: 0.8809\n",
            "Epoch 112/120\n",
            "469/469 [==============================] - 11s 24ms/step - loss: 0.3616 - accuracy: 0.8700 - val_loss: 0.3326 - val_accuracy: 0.8821\n",
            "Epoch 113/120\n",
            "469/469 [==============================] - 11s 24ms/step - loss: 0.3603 - accuracy: 0.8699 - val_loss: 0.3320 - val_accuracy: 0.8838\n",
            "Epoch 114/120\n",
            "469/469 [==============================] - 12s 26ms/step - loss: 0.3620 - accuracy: 0.8701 - val_loss: 0.3323 - val_accuracy: 0.8835\n",
            "Epoch 115/120\n",
            "469/469 [==============================] - 17s 37ms/step - loss: 0.3603 - accuracy: 0.8709 - val_loss: 0.3341 - val_accuracy: 0.8827\n",
            "Epoch 116/120\n",
            "469/469 [==============================] - 14s 30ms/step - loss: 0.3581 - accuracy: 0.8713 - val_loss: 0.3301 - val_accuracy: 0.8838\n",
            "Epoch 117/120\n",
            "469/469 [==============================] - 12s 26ms/step - loss: 0.3583 - accuracy: 0.8711 - val_loss: 0.3344 - val_accuracy: 0.8832\n",
            "Epoch 118/120\n",
            "469/469 [==============================] - 12s 26ms/step - loss: 0.3574 - accuracy: 0.8712 - val_loss: 0.3318 - val_accuracy: 0.8842\n",
            "Epoch 119/120\n",
            "469/469 [==============================] - 12s 26ms/step - loss: 0.3560 - accuracy: 0.8709 - val_loss: 0.3329 - val_accuracy: 0.8844\n",
            "Epoch 120/120\n",
            "469/469 [==============================] - 12s 25ms/step - loss: 0.3552 - accuracy: 0.8709 - val_loss: 0.3308 - val_accuracy: 0.8834\n",
            "313/313 [==============================] - 1s 4ms/step - loss: 0.3308 - accuracy: 0.8834\n",
            "\n",
            "Test accuracy: 0.883400022983551\n"
          ]
        }
      ]
    },
    {
      "cell_type": "code",
      "source": [
        "history_dict = history.history\n",
        "loss_values = history_dict['loss']\n",
        "val_loss_values = history_dict['val_loss']\n",
        "\n",
        "epochs = range(1, len(history_dict['accuracy']) + 1)\n",
        "\n",
        "plt.figure(figsize=(10, 5))\n",
        "plt.plot(epochs, loss_values, 'bo', label='Training loss')\n",
        "plt.plot(epochs, val_loss_values, 'b', label='Validation loss')\n",
        "plt.title('Training and validation loss')\n",
        "plt.xlabel('Epochs')\n",
        "plt.ylabel('Loss')\n",
        "plt.legend()\n",
        "plt.show()\n",
        "\n",
        "plt.clf()\n",
        "plt.figure(figsize=(10, 5))\n",
        "val_acc_values = history_dict['val_accuracy']\n",
        "plt.plot(epochs, history_dict['accuracy'], 'bo', label='Training acc')\n",
        "plt.plot(epochs, history_dict['val_accuracy'], 'b', label='Validation acc')\n",
        "plt.title('Training and validation accuracy')\n",
        "plt.xlabel('Epochs')\n",
        "plt.ylabel('Accuracy')\n",
        "plt.legend()"
      ],
      "metadata": {
        "colab": {
          "base_uri": "https://localhost:8080/",
          "height": 993
        },
        "id": "2Ll_5sGlXKMH",
        "outputId": "b6b7b3a4-00c7-40fd-a222-759140125d23"
      },
      "execution_count": 20,
      "outputs": [
        {
          "output_type": "display_data",
          "data": {
            "text/plain": [
              "<Figure size 1000x500 with 1 Axes>"
            ],
            "image/png": "[encoded data removed]"
          },
          "metadata": {}
        },
        {
          "output_type": "execute_result",
          "data": {
            "text/plain": [
              "<matplotlib.legend.Legend at 0x7fbd2bac7760>"
            ]
          },
          "metadata": {},
          "execution_count": 20
        },
        {
          "output_type": "display_data",
          "data": {
            "text/plain": [
              "<Figure size 640x480 with 0 Axes>"
            ]
          },
          "metadata": {}
        },
        {
          "output_type": "display_data",
          "data": {
            "text/plain": [
              "<Figure size 1000x500 with 1 Axes>"
            ],
            "image/png": "[encoded data removed]"
          },
          "metadata": {}
        }
      ]
    },
    {
      "cell_type": "code",
      "source": [
        "probability_model = tf.keras.Sequential([model,\n",
        "                                         tf.keras.layers.Softmax()])"
      ],
      "metadata": {
        "id": "VzOdKAT_uV-f"
      },
      "execution_count": 21,
      "outputs": []
    },
    {
      "cell_type": "code",
      "source": [
        "predictions = probability_model.predict(test_images)"
      ],
      "metadata": {
        "id": "f4is3NFruYom",
        "outputId": "0d5a0b4d-b184-417f-c7ba-be20e5b8048d",
        "colab": {
          "base_uri": "https://localhost:8080/"
        }
      },
      "execution_count": 22,
      "outputs": [
        {
          "output_type": "stream",
          "name": "stdout",
          "text": [
            "313/313 [==============================] - 1s 4ms/step\n"
          ]
        }
      ]
    },
    {
      "cell_type": "code",
      "source": [
        "predictions[0]"
      ],
      "metadata": {
        "id": "82cigvlZudz_",
        "outputId": "c5dc7063-054d-4fe7-c66a-eeac2e341484",
        "colab": {
          "base_uri": "https://localhost:8080/"
        }
      },
      "execution_count": 23,
      "outputs": [
        {
          "output_type": "execute_result",
          "data": {
            "text/plain": [
              "array([0.08579075, 0.08579069, 0.08579062, 0.08579067, 0.08579063,\n",
              "       0.08598015, 0.08579071, 0.08887635, 0.08579082, 0.22460864],\n",
              "      dtype=float32)"
            ]
          },
          "metadata": {},
          "execution_count": 23
        }
      ]
    },
    {
      "cell_type": "code",
      "source": [
        "model.summary()"
      ],
      "metadata": {
        "colab": {
          "base_uri": "https://localhost:8080/"
        },
        "id": "6RsQPHyYuNGe",
        "outputId": "7e37493e-1cee-42d2-86ac-f11839c7169b"
      },
      "execution_count": 24,
      "outputs": [
        {
          "output_type": "stream",
          "name": "stdout",
          "text": [
            "Model: \"sequential_2\"\n",
            "_________________________________________________________________\n",
            " Layer (type)                Output Shape              Param #   \n",
            "=================================================================\n",
            " flatten_1 (Flatten)         (None, 784)               0         \n",
            "                                                                 \n",
            " dropout_1 (Dropout)         (None, 784)               0         \n",
            "                                                                 \n",
            " dense_3 (Dense)             (None, 512)               401920    \n",
            "                                                                 \n",
            " dropout_2 (Dropout)         (None, 512)               0         \n",
            "                                                                 \n",
            " dense_4 (Dense)             (None, 512)               262656    \n",
            "                                                                 \n",
            " dropout_3 (Dropout)         (None, 512)               0         \n",
            "                                                                 \n",
            " dense_5 (Dense)             (None, 10)                5130      \n",
            "                                                                 \n",
            "=================================================================\n",
            "Total params: 669706 (2.55 MB)\n",
            "Trainable params: 669706 (2.55 MB)\n",
            "Non-trainable params: 0 (0.00 Byte)\n",
            "_________________________________________________________________\n"
          ]
        }
      ]
    }
  ]
}