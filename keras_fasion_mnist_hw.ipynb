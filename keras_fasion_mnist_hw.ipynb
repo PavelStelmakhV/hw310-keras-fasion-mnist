{
  "nbformat": 4,
  "nbformat_minor": 0,
  "metadata": {
    "colab": {
      "provenance": [],
      "gpuType": "T4",
      "authorship_tag": "ABX9TyMvGSKmpHF4JvghZ1vlczOy",
      "include_colab_link": true
    },
    "kernelspec": {
      "name": "python3",
      "display_name": "Python 3"
    },
    "language_info": {
      "name": "python"
    },
    "accelerator": "GPU"
  },
  "cells": [
    {
      "cell_type": "markdown",
      "metadata": {
        "id": "view-in-github",
        "colab_type": "text"
      },
      "source": [
        "<a href=\"https://colab.research.google.com/github/PavelStelmakhV/hw310-keras-fasion-mnist/blob/main/keras_fasion_mnist_hw.ipynb\" target=\"_parent\"><img src=\"https://colab.research.google.com/assets/colab-badge.svg\" alt=\"Open In Colab\"/></a>"
      ]
    },
    {
      "cell_type": "code",
      "execution_count": 111,
      "metadata": {
        "id": "vv7w0bgAVQPO"
      },
      "outputs": [],
      "source": [
        "import tensorflow as tf\n",
        "import numpy as np\n",
        "import matplotlib.pyplot as plt\n",
        "import tf_keras\n",
        "\n",
        "from keras import layers\n",
        "from keras import regularizers\n",
        "from keras import callbacks\n",
        "from keras import initializers\n",
        "from keras.layers import BatchNormalization\n",
        "from keras.models import load_model"
      ]
    },
    {
      "cell_type": "code",
      "source": [
        "fashion_mnist = tf.keras.datasets.fashion_mnist\n",
        "\n",
        "(x_train, y_train), (x_test, y_test) = fashion_mnist.load_data()"
      ],
      "metadata": {
        "id": "mOpywsNAzfGB"
      },
      "execution_count": 112,
      "outputs": []
    },
    {
      "cell_type": "code",
      "source": [
        "x_train = x_train.astype('float32') / 255\n",
        "x_test = x_test.astype('float32') / 255\n",
        "\n",
        "y_train = y_train.astype('float32')\n",
        "y_test = y_test.astype('float32')"
      ],
      "metadata": {
        "id": "t2gucjsJ0KUi"
      },
      "execution_count": 113,
      "outputs": []
    },
    {
      "cell_type": "code",
      "source": [
        "w_init_tanh = initializers.glorot_normal(seed=66)\n",
        "w_init_relu = initializers.HeNormal(seed=66)\n",
        "b_init = initializers.Zeros()"
      ],
      "metadata": {
        "id": "yL9QTEtBGy4N"
      },
      "execution_count": 114,
      "outputs": []
    },
    {
      "cell_type": "code",
      "source": [
        "drop_out = 0.25"
      ],
      "metadata": {
        "id": "flsDcVTnU10J"
      },
      "execution_count": 115,
      "outputs": []
    },
    {
      "cell_type": "code",
      "source": [
        "def layer_relu(model, neurons):\n",
        "  model.add(BatchNormalization())\n",
        "  model.add(layers.Dense(neurons,\n",
        "                       activation='relu',\n",
        "                       kernel_initializer=w_init_relu,\n",
        "                       bias_initializer=b_init))\n",
        "  model.add(layers.Dropout(drop_out))\n",
        "  return model"
      ],
      "metadata": {
        "id": "ZZgs_25rKBCp"
      },
      "execution_count": 116,
      "outputs": []
    },
    {
      "cell_type": "code",
      "source": [
        "def layer_tanh(model, neurons):\n",
        "  model.add(BatchNormalization())\n",
        "  model.add(layers.Dense(neurons,\n",
        "                        activation='tanh',\n",
        "                        kernel_initializer=w_init_tanh,\n",
        "                        bias_initializer=b_init))\n",
        "  model.add(layers.Dropout(drop_out))\n",
        "  return model"
      ],
      "metadata": {
        "id": "90JLLnkBR50t"
      },
      "execution_count": 117,
      "outputs": []
    },
    {
      "cell_type": "code",
      "source": [],
      "metadata": {
        "id": "Va9BaQ9eG_uz"
      },
      "execution_count": 117,
      "outputs": []
    },
    {
      "cell_type": "code",
      "source": [
        "model = tf.keras.Sequential()\n",
        "\n",
        "# drop_out = 0.50\n",
        "neurons = 256\n",
        "\n",
        "model.add(layers.Flatten(input_shape=(28, 28)))\n",
        "model.add(layers.Dropout(drop_out))\n",
        "\n",
        "model = layer_relu(model, neurons*1)\n",
        "# model = layer_tanh(model, neurons*1)\n",
        "model = layer_tanh(model, neurons*2)\n",
        "model = layer_relu(model, neurons*2)\n",
        "\n",
        "model.add(layers.Dense(10, activation='softmax'))"
      ],
      "metadata": {
        "id": "atS39i4d0aqW"
      },
      "execution_count": 118,
      "outputs": []
    },
    {
      "cell_type": "markdown",
      "source": [
        "++++++++++++++++++++++++++++++++++++++++++++++++++++++++++++++++++++++++++++++++"
      ],
      "metadata": {
        "id": "tZO7hl7pM63y"
      }
    },
    {
      "cell_type": "code",
      "source": [
        "# learning_rate=0.0004\n",
        "# beta_1=0.95,\n",
        "# beta_2=0.999,\n",
        "# epsilon=1e-07\n",
        "optimizer = tf.keras.optimizers.Nadam(learning_rate=0.0001,\n",
        "                                      beta_1=0.92,\n",
        "                                      beta_2=0.999,\n",
        "                                      epsilon=1e-04\n",
        ")"
      ],
      "metadata": {
        "id": "EzfnaqIZlfy8"
      },
      "execution_count": 119,
      "outputs": []
    },
    {
      "cell_type": "markdown",
      "source": [
        "++++++++++++++++++++++++++++++++++++++++++++++++++++++++++++++++++++++++++++++++"
      ],
      "metadata": {
        "id": "KHmBptvOM95Z"
      }
    },
    {
      "cell_type": "code",
      "source": [
        "model.compile(#optimizer='adam',\n",
        "              # optimizer='adamax',\n",
        "              optimizer=optimizer,\n",
        "              # optimizer='rmsprop',\n",
        "              # optimizer='sgd',\n",
        "              # optimizer='adadelta',\n",
        "              # loss='binary_crossentropy',\n",
        "              loss=tf.keras.losses.SparseCategoricalCrossentropy(),\n",
        "              metrics=['sparse_categorical_accuracy']) # sparse_categorical_accuracy"
      ],
      "metadata": {
        "id": "hENVaAC7ilNY"
      },
      "execution_count": 120,
      "outputs": []
    },
    {
      "cell_type": "code",
      "source": [
        "x = np.random.random((1, 28, 28))\n",
        "a = model.predict(x)\n",
        "_ = plt.hist(np.transpose(a))"
      ],
      "metadata": {
        "id": "RFgZHNNFMa8p",
        "outputId": "33803de9-0ec0-4269-e1a0-e792b7ea0255",
        "colab": {
          "base_uri": "https://localhost:8080/",
          "height": 448
        }
      },
      "execution_count": 121,
      "outputs": [
        {
          "output_type": "stream",
          "name": "stdout",
          "text": [
            "1/1 [==============================] - 0s 171ms/step\n"
          ]
        },
        {
          "output_type": "display_data",
          "data": {
            "text/plain": [
              "<Figure size 640x480 with 1 Axes>"
            ],
            "image/png": "[encoded data removed]"
          },
          "metadata": {}
        }
      ]
    },
    {
      "cell_type": "code",
      "source": [
        "y_pred = model.predict(x_test)"
      ],
      "metadata": {
        "id": "UDP8OKKZ8oQa",
        "outputId": "d4fc24b4-5f6e-4999-b991-e50c36884a59",
        "colab": {
          "base_uri": "https://localhost:8080/"
        }
      },
      "execution_count": 122,
      "outputs": [
        {
          "output_type": "stream",
          "name": "stdout",
          "text": [
            "313/313 [==============================] - 2s 5ms/step\n"
          ]
        }
      ]
    },
    {
      "cell_type": "code",
      "source": [
        "callback = callbacks.EarlyStopping(monitor='val_loss',\n",
        "                                   patience=50,\n",
        "                                   restore_best_weights=True,\n",
        "                                   )\n",
        "es = callbacks.EarlyStopping(monitor='val_loss', mode='min', verbose=0, patience=40)\n",
        "mc = callbacks.ModelCheckpoint('best_model.h5', monitor='sparse_categorical_accuracy', mode='max', verbose=0, save_best_only=True)\n"
      ],
      "metadata": {
        "id": "5ihU4exVlsjm"
      },
      "execution_count": 123,
      "outputs": []
    },
    {
      "cell_type": "code",
      "source": [
        "history = model.fit(x_train, y_train,\n",
        "                    epochs=300,\n",
        "                    batch_size=128,\n",
        "                    # callbacks=[callback],\n",
        "                    callbacks=[mc],\n",
        "                    verbose=1, #многословие\n",
        "                    validation_split=0.1\n",
        "                    # validation_data=(x_val, y_val)\n",
        "                    )\n",
        "test_loss, test_acc = model.evaluate(x_test, y_test)\n",
        "print('\\nTest accuracy:', test_acc)"
      ],
      "metadata": {
        "id": "FH8HcMNm233I",
        "outputId": "45d82880-7b5e-4680-bc84-da87bdb42601",
        "colab": {
          "base_uri": "https://localhost:8080/"
        }
      },
      "execution_count": 124,
      "outputs": [
        {
          "output_type": "stream",
          "name": "stdout",
          "text": [
            "Epoch 1/300\n",
            "422/422 [==============================] - 14s 27ms/step - loss: 1.0763 - sparse_categorical_accuracy: 0.6330 - val_loss: 0.5206 - val_sparse_categorical_accuracy: 0.8088\n",
            "Epoch 2/300\n",
            "422/422 [==============================] - 11s 26ms/step - loss: 0.6937 - sparse_categorical_accuracy: 0.7519 - val_loss: 0.4647 - val_sparse_categorical_accuracy: 0.8318\n",
            "Epoch 3/300\n",
            "422/422 [==============================] - 10s 24ms/step - loss: 0.6223 - sparse_categorical_accuracy: 0.7734 - val_loss: 0.4340 - val_sparse_categorical_accuracy: 0.8408\n",
            "Epoch 4/300\n",
            "422/422 [==============================] - 11s 26ms/step - loss: 0.5713 - sparse_categorical_accuracy: 0.7919 - val_loss: 0.4183 - val_sparse_categorical_accuracy: 0.8448\n",
            "Epoch 5/300\n",
            "422/422 [==============================] - 11s 26ms/step - loss: 0.5467 - sparse_categorical_accuracy: 0.7989 - val_loss: 0.4041 - val_sparse_categorical_accuracy: 0.8468\n",
            "Epoch 6/300\n",
            "422/422 [==============================] - 11s 26ms/step - loss: 0.5181 - sparse_categorical_accuracy: 0.8088 - val_loss: 0.3977 - val_sparse_categorical_accuracy: 0.8477\n",
            "Epoch 7/300\n",
            "422/422 [==============================] - 11s 26ms/step - loss: 0.4974 - sparse_categorical_accuracy: 0.8166 - val_loss: 0.3844 - val_sparse_categorical_accuracy: 0.8558\n",
            "Epoch 8/300\n",
            "422/422 [==============================] - 11s 26ms/step - loss: 0.4874 - sparse_categorical_accuracy: 0.8211 - val_loss: 0.3793 - val_sparse_categorical_accuracy: 0.8602\n",
            "Epoch 9/300\n",
            "422/422 [==============================] - 11s 26ms/step - loss: 0.4699 - sparse_categorical_accuracy: 0.8284 - val_loss: 0.3744 - val_sparse_categorical_accuracy: 0.8590\n",
            "Epoch 10/300\n",
            "422/422 [==============================] - 10s 24ms/step - loss: 0.4615 - sparse_categorical_accuracy: 0.8290 - val_loss: 0.3667 - val_sparse_categorical_accuracy: 0.8633\n",
            "Epoch 11/300\n",
            "422/422 [==============================] - 11s 25ms/step - loss: 0.4484 - sparse_categorical_accuracy: 0.8330 - val_loss: 0.3552 - val_sparse_categorical_accuracy: 0.8693\n",
            "Epoch 12/300\n",
            "422/422 [==============================] - 11s 26ms/step - loss: 0.4364 - sparse_categorical_accuracy: 0.8379 - val_loss: 0.3602 - val_sparse_categorical_accuracy: 0.8665\n",
            "Epoch 13/300\n",
            "422/422 [==============================] - 11s 26ms/step - loss: 0.4325 - sparse_categorical_accuracy: 0.8388 - val_loss: 0.3537 - val_sparse_categorical_accuracy: 0.8688\n",
            "Epoch 14/300\n",
            "422/422 [==============================] - 11s 26ms/step - loss: 0.4208 - sparse_categorical_accuracy: 0.8428 - val_loss: 0.3507 - val_sparse_categorical_accuracy: 0.8702\n",
            "Epoch 15/300\n",
            "422/422 [==============================] - 11s 26ms/step - loss: 0.4151 - sparse_categorical_accuracy: 0.8444 - val_loss: 0.3476 - val_sparse_categorical_accuracy: 0.8722\n",
            "Epoch 16/300\n",
            "422/422 [==============================] - 11s 26ms/step - loss: 0.4095 - sparse_categorical_accuracy: 0.8475 - val_loss: 0.3472 - val_sparse_categorical_accuracy: 0.8728\n",
            "Epoch 17/300\n",
            "422/422 [==============================] - 10s 24ms/step - loss: 0.4063 - sparse_categorical_accuracy: 0.8502 - val_loss: 0.3394 - val_sparse_categorical_accuracy: 0.8755\n",
            "Epoch 18/300\n",
            "422/422 [==============================] - 11s 26ms/step - loss: 0.3982 - sparse_categorical_accuracy: 0.8519 - val_loss: 0.3392 - val_sparse_categorical_accuracy: 0.8770\n",
            "Epoch 19/300\n",
            "422/422 [==============================] - 11s 26ms/step - loss: 0.3955 - sparse_categorical_accuracy: 0.8537 - val_loss: 0.3360 - val_sparse_categorical_accuracy: 0.8778\n",
            "Epoch 20/300\n",
            "422/422 [==============================] - 11s 26ms/step - loss: 0.3911 - sparse_categorical_accuracy: 0.8530 - val_loss: 0.3326 - val_sparse_categorical_accuracy: 0.8790\n",
            "Epoch 21/300\n",
            "422/422 [==============================] - 11s 26ms/step - loss: 0.3858 - sparse_categorical_accuracy: 0.8557 - val_loss: 0.3267 - val_sparse_categorical_accuracy: 0.8808\n",
            "Epoch 22/300\n",
            "422/422 [==============================] - 11s 26ms/step - loss: 0.3840 - sparse_categorical_accuracy: 0.8557 - val_loss: 0.3274 - val_sparse_categorical_accuracy: 0.8805\n",
            "Epoch 23/300\n",
            "422/422 [==============================] - 11s 26ms/step - loss: 0.3766 - sparse_categorical_accuracy: 0.8577 - val_loss: 0.3263 - val_sparse_categorical_accuracy: 0.8812\n",
            "Epoch 24/300\n",
            "422/422 [==============================] - 10s 24ms/step - loss: 0.3719 - sparse_categorical_accuracy: 0.8605 - val_loss: 0.3273 - val_sparse_categorical_accuracy: 0.8805\n",
            "Epoch 25/300\n",
            "422/422 [==============================] - 11s 26ms/step - loss: 0.3713 - sparse_categorical_accuracy: 0.8604 - val_loss: 0.3170 - val_sparse_categorical_accuracy: 0.8858\n",
            "Epoch 26/300\n",
            "422/422 [==============================] - 11s 26ms/step - loss: 0.3650 - sparse_categorical_accuracy: 0.8624 - val_loss: 0.3182 - val_sparse_categorical_accuracy: 0.8837\n",
            "Epoch 27/300\n",
            "422/422 [==============================] - 11s 26ms/step - loss: 0.3639 - sparse_categorical_accuracy: 0.8629 - val_loss: 0.3212 - val_sparse_categorical_accuracy: 0.8827\n",
            "Epoch 28/300\n",
            "422/422 [==============================] - 11s 27ms/step - loss: 0.3594 - sparse_categorical_accuracy: 0.8651 - val_loss: 0.3141 - val_sparse_categorical_accuracy: 0.8848\n",
            "Epoch 29/300\n",
            "422/422 [==============================] - 11s 26ms/step - loss: 0.3546 - sparse_categorical_accuracy: 0.8667 - val_loss: 0.3165 - val_sparse_categorical_accuracy: 0.8858\n",
            "Epoch 30/300\n",
            "422/422 [==============================] - 11s 26ms/step - loss: 0.3534 - sparse_categorical_accuracy: 0.8678 - val_loss: 0.3127 - val_sparse_categorical_accuracy: 0.8867\n",
            "Epoch 31/300\n",
            "422/422 [==============================] - 10s 24ms/step - loss: 0.3550 - sparse_categorical_accuracy: 0.8668 - val_loss: 0.3166 - val_sparse_categorical_accuracy: 0.8877\n",
            "Epoch 32/300\n",
            "422/422 [==============================] - 11s 26ms/step - loss: 0.3512 - sparse_categorical_accuracy: 0.8681 - val_loss: 0.3129 - val_sparse_categorical_accuracy: 0.8887\n",
            "Epoch 33/300\n",
            "422/422 [==============================] - 11s 26ms/step - loss: 0.3467 - sparse_categorical_accuracy: 0.8692 - val_loss: 0.3123 - val_sparse_categorical_accuracy: 0.8868\n",
            "Epoch 34/300\n",
            "422/422 [==============================] - 11s 26ms/step - loss: 0.3473 - sparse_categorical_accuracy: 0.8692 - val_loss: 0.3027 - val_sparse_categorical_accuracy: 0.8893\n",
            "Epoch 35/300\n",
            "422/422 [==============================] - 11s 26ms/step - loss: 0.3450 - sparse_categorical_accuracy: 0.8690 - val_loss: 0.3057 - val_sparse_categorical_accuracy: 0.8885\n",
            "Epoch 36/300\n",
            "422/422 [==============================] - 11s 26ms/step - loss: 0.3418 - sparse_categorical_accuracy: 0.8718 - val_loss: 0.3045 - val_sparse_categorical_accuracy: 0.8910\n",
            "Epoch 37/300\n",
            "422/422 [==============================] - 11s 27ms/step - loss: 0.3382 - sparse_categorical_accuracy: 0.8721 - val_loss: 0.2998 - val_sparse_categorical_accuracy: 0.8887\n",
            "Epoch 38/300\n",
            "422/422 [==============================] - 11s 25ms/step - loss: 0.3361 - sparse_categorical_accuracy: 0.8749 - val_loss: 0.3046 - val_sparse_categorical_accuracy: 0.8892\n",
            "Epoch 39/300\n",
            "422/422 [==============================] - 11s 25ms/step - loss: 0.3346 - sparse_categorical_accuracy: 0.8731 - val_loss: 0.3033 - val_sparse_categorical_accuracy: 0.8910\n",
            "Epoch 40/300\n",
            "422/422 [==============================] - 11s 26ms/step - loss: 0.3314 - sparse_categorical_accuracy: 0.8759 - val_loss: 0.2993 - val_sparse_categorical_accuracy: 0.8908\n",
            "Epoch 41/300\n",
            "422/422 [==============================] - 11s 26ms/step - loss: 0.3323 - sparse_categorical_accuracy: 0.8747 - val_loss: 0.3025 - val_sparse_categorical_accuracy: 0.8867\n",
            "Epoch 42/300\n",
            "422/422 [==============================] - 11s 26ms/step - loss: 0.3321 - sparse_categorical_accuracy: 0.8747 - val_loss: 0.3016 - val_sparse_categorical_accuracy: 0.8893\n",
            "Epoch 43/300\n",
            "422/422 [==============================] - 11s 26ms/step - loss: 0.3259 - sparse_categorical_accuracy: 0.8769 - val_loss: 0.3025 - val_sparse_categorical_accuracy: 0.8907\n",
            "Epoch 44/300\n",
            "422/422 [==============================] - 11s 26ms/step - loss: 0.3249 - sparse_categorical_accuracy: 0.8776 - val_loss: 0.3028 - val_sparse_categorical_accuracy: 0.8887\n",
            "Epoch 45/300\n",
            "422/422 [==============================] - 10s 25ms/step - loss: 0.3205 - sparse_categorical_accuracy: 0.8778 - val_loss: 0.2946 - val_sparse_categorical_accuracy: 0.8930\n",
            "Epoch 46/300\n",
            "422/422 [==============================] - 11s 25ms/step - loss: 0.3213 - sparse_categorical_accuracy: 0.8779 - val_loss: 0.2985 - val_sparse_categorical_accuracy: 0.8920\n",
            "Epoch 47/300\n",
            "422/422 [==============================] - 11s 26ms/step - loss: 0.3209 - sparse_categorical_accuracy: 0.8781 - val_loss: 0.2934 - val_sparse_categorical_accuracy: 0.8920\n",
            "Epoch 48/300\n",
            "422/422 [==============================] - 11s 26ms/step - loss: 0.3197 - sparse_categorical_accuracy: 0.8796 - val_loss: 0.2942 - val_sparse_categorical_accuracy: 0.8922\n",
            "Epoch 49/300\n",
            "422/422 [==============================] - 11s 26ms/step - loss: 0.3203 - sparse_categorical_accuracy: 0.8780 - val_loss: 0.2934 - val_sparse_categorical_accuracy: 0.8917\n",
            "Epoch 50/300\n",
            "422/422 [==============================] - 11s 27ms/step - loss: 0.3173 - sparse_categorical_accuracy: 0.8798 - val_loss: 0.2918 - val_sparse_categorical_accuracy: 0.8943\n",
            "Epoch 51/300\n",
            "422/422 [==============================] - 11s 26ms/step - loss: 0.3147 - sparse_categorical_accuracy: 0.8809 - val_loss: 0.2900 - val_sparse_categorical_accuracy: 0.8932\n",
            "Epoch 52/300\n",
            "422/422 [==============================] - 11s 26ms/step - loss: 0.3125 - sparse_categorical_accuracy: 0.8813 - val_loss: 0.2881 - val_sparse_categorical_accuracy: 0.8950\n",
            "Epoch 53/300\n",
            "422/422 [==============================] - 11s 25ms/step - loss: 0.3121 - sparse_categorical_accuracy: 0.8818 - val_loss: 0.2907 - val_sparse_categorical_accuracy: 0.8953\n",
            "Epoch 54/300\n",
            "422/422 [==============================] - 11s 27ms/step - loss: 0.3100 - sparse_categorical_accuracy: 0.8829 - val_loss: 0.2863 - val_sparse_categorical_accuracy: 0.8955\n",
            "Epoch 55/300\n",
            "422/422 [==============================] - 11s 26ms/step - loss: 0.3095 - sparse_categorical_accuracy: 0.8828 - val_loss: 0.2891 - val_sparse_categorical_accuracy: 0.8932\n",
            "Epoch 56/300\n",
            "422/422 [==============================] - 11s 26ms/step - loss: 0.3100 - sparse_categorical_accuracy: 0.8822 - val_loss: 0.2859 - val_sparse_categorical_accuracy: 0.8945\n",
            "Epoch 57/300\n",
            "422/422 [==============================] - 11s 26ms/step - loss: 0.3073 - sparse_categorical_accuracy: 0.8840 - val_loss: 0.2888 - val_sparse_categorical_accuracy: 0.8953\n",
            "Epoch 58/300\n",
            "422/422 [==============================] - 11s 26ms/step - loss: 0.3030 - sparse_categorical_accuracy: 0.8852 - val_loss: 0.2906 - val_sparse_categorical_accuracy: 0.8947\n",
            "Epoch 59/300\n",
            "422/422 [==============================] - 11s 26ms/step - loss: 0.3037 - sparse_categorical_accuracy: 0.8844 - val_loss: 0.2867 - val_sparse_categorical_accuracy: 0.8953\n",
            "Epoch 60/300\n",
            "422/422 [==============================] - 10s 24ms/step - loss: 0.3027 - sparse_categorical_accuracy: 0.8850 - val_loss: 0.2848 - val_sparse_categorical_accuracy: 0.8958\n",
            "Epoch 61/300\n",
            "422/422 [==============================] - 11s 26ms/step - loss: 0.3036 - sparse_categorical_accuracy: 0.8842 - val_loss: 0.2833 - val_sparse_categorical_accuracy: 0.8967\n",
            "Epoch 62/300\n",
            "422/422 [==============================] - 11s 26ms/step - loss: 0.3020 - sparse_categorical_accuracy: 0.8855 - val_loss: 0.2818 - val_sparse_categorical_accuracy: 0.8958\n",
            "Epoch 63/300\n",
            "422/422 [==============================] - 11s 26ms/step - loss: 0.2992 - sparse_categorical_accuracy: 0.8875 - val_loss: 0.2874 - val_sparse_categorical_accuracy: 0.8938\n",
            "Epoch 64/300\n",
            "422/422 [==============================] - 11s 26ms/step - loss: 0.3007 - sparse_categorical_accuracy: 0.8857 - val_loss: 0.2816 - val_sparse_categorical_accuracy: 0.8967\n",
            "Epoch 65/300\n",
            "422/422 [==============================] - 11s 26ms/step - loss: 0.2954 - sparse_categorical_accuracy: 0.8854 - val_loss: 0.2839 - val_sparse_categorical_accuracy: 0.8945\n",
            "Epoch 66/300\n",
            "422/422 [==============================] - 11s 26ms/step - loss: 0.2968 - sparse_categorical_accuracy: 0.8883 - val_loss: 0.2806 - val_sparse_categorical_accuracy: 0.8958\n",
            "Epoch 67/300\n",
            "422/422 [==============================] - 10s 24ms/step - loss: 0.2943 - sparse_categorical_accuracy: 0.8876 - val_loss: 0.2849 - val_sparse_categorical_accuracy: 0.8950\n",
            "Epoch 68/300\n",
            "422/422 [==============================] - 11s 26ms/step - loss: 0.2934 - sparse_categorical_accuracy: 0.8884 - val_loss: 0.2830 - val_sparse_categorical_accuracy: 0.8955\n",
            "Epoch 69/300\n",
            "422/422 [==============================] - 11s 26ms/step - loss: 0.2928 - sparse_categorical_accuracy: 0.8879 - val_loss: 0.2783 - val_sparse_categorical_accuracy: 0.8948\n",
            "Epoch 70/300\n",
            "422/422 [==============================] - 11s 26ms/step - loss: 0.2928 - sparse_categorical_accuracy: 0.8896 - val_loss: 0.2869 - val_sparse_categorical_accuracy: 0.8942\n",
            "Epoch 71/300\n",
            "422/422 [==============================] - 11s 26ms/step - loss: 0.2915 - sparse_categorical_accuracy: 0.8883 - val_loss: 0.2793 - val_sparse_categorical_accuracy: 0.8965\n",
            "Epoch 72/300\n",
            "422/422 [==============================] - 11s 26ms/step - loss: 0.2880 - sparse_categorical_accuracy: 0.8901 - val_loss: 0.2803 - val_sparse_categorical_accuracy: 0.8957\n",
            "Epoch 73/300\n",
            "422/422 [==============================] - 11s 25ms/step - loss: 0.2906 - sparse_categorical_accuracy: 0.8895 - val_loss: 0.2767 - val_sparse_categorical_accuracy: 0.8993\n",
            "Epoch 74/300\n",
            "422/422 [==============================] - 10s 24ms/step - loss: 0.2886 - sparse_categorical_accuracy: 0.8897 - val_loss: 0.2770 - val_sparse_categorical_accuracy: 0.9003\n",
            "Epoch 75/300\n",
            "422/422 [==============================] - 11s 26ms/step - loss: 0.2867 - sparse_categorical_accuracy: 0.8901 - val_loss: 0.2790 - val_sparse_categorical_accuracy: 0.8967\n",
            "Epoch 76/300\n",
            "422/422 [==============================] - 11s 26ms/step - loss: 0.2901 - sparse_categorical_accuracy: 0.8903 - val_loss: 0.2804 - val_sparse_categorical_accuracy: 0.8975\n",
            "Epoch 77/300\n",
            "422/422 [==============================] - 11s 26ms/step - loss: 0.2842 - sparse_categorical_accuracy: 0.8909 - val_loss: 0.2818 - val_sparse_categorical_accuracy: 0.8965\n",
            "Epoch 78/300\n",
            "422/422 [==============================] - 11s 26ms/step - loss: 0.2850 - sparse_categorical_accuracy: 0.8921 - val_loss: 0.2776 - val_sparse_categorical_accuracy: 0.8965\n",
            "Epoch 79/300\n",
            "422/422 [==============================] - 11s 26ms/step - loss: 0.2805 - sparse_categorical_accuracy: 0.8923 - val_loss: 0.2768 - val_sparse_categorical_accuracy: 0.8998\n",
            "Epoch 80/300\n",
            "422/422 [==============================] - 10s 24ms/step - loss: 0.2816 - sparse_categorical_accuracy: 0.8932 - val_loss: 0.2784 - val_sparse_categorical_accuracy: 0.8970\n",
            "Epoch 81/300\n",
            "422/422 [==============================] - 11s 26ms/step - loss: 0.2817 - sparse_categorical_accuracy: 0.8926 - val_loss: 0.2778 - val_sparse_categorical_accuracy: 0.8970\n",
            "Epoch 82/300\n",
            "422/422 [==============================] - 11s 26ms/step - loss: 0.2805 - sparse_categorical_accuracy: 0.8935 - val_loss: 0.2778 - val_sparse_categorical_accuracy: 0.8982\n",
            "Epoch 83/300\n",
            "422/422 [==============================] - 11s 26ms/step - loss: 0.2793 - sparse_categorical_accuracy: 0.8934 - val_loss: 0.2737 - val_sparse_categorical_accuracy: 0.8998\n",
            "Epoch 84/300\n",
            "422/422 [==============================] - 11s 26ms/step - loss: 0.2802 - sparse_categorical_accuracy: 0.8939 - val_loss: 0.2737 - val_sparse_categorical_accuracy: 0.8995\n",
            "Epoch 85/300\n",
            "422/422 [==============================] - 11s 26ms/step - loss: 0.2772 - sparse_categorical_accuracy: 0.8950 - val_loss: 0.2779 - val_sparse_categorical_accuracy: 0.8980\n",
            "Epoch 86/300\n",
            "422/422 [==============================] - 11s 26ms/step - loss: 0.2782 - sparse_categorical_accuracy: 0.8949 - val_loss: 0.2751 - val_sparse_categorical_accuracy: 0.8977\n",
            "Epoch 87/300\n",
            "422/422 [==============================] - 10s 24ms/step - loss: 0.2794 - sparse_categorical_accuracy: 0.8940 - val_loss: 0.2722 - val_sparse_categorical_accuracy: 0.9000\n",
            "Epoch 88/300\n",
            "422/422 [==============================] - 11s 26ms/step - loss: 0.2761 - sparse_categorical_accuracy: 0.8946 - val_loss: 0.2744 - val_sparse_categorical_accuracy: 0.9007\n",
            "Epoch 89/300\n",
            "422/422 [==============================] - 11s 26ms/step - loss: 0.2743 - sparse_categorical_accuracy: 0.8963 - val_loss: 0.2751 - val_sparse_categorical_accuracy: 0.8997\n",
            "Epoch 90/300\n",
            "422/422 [==============================] - 11s 26ms/step - loss: 0.2732 - sparse_categorical_accuracy: 0.8954 - val_loss: 0.2738 - val_sparse_categorical_accuracy: 0.8997\n",
            "Epoch 91/300\n",
            "422/422 [==============================] - 11s 26ms/step - loss: 0.2720 - sparse_categorical_accuracy: 0.8956 - val_loss: 0.2778 - val_sparse_categorical_accuracy: 0.8980\n",
            "Epoch 92/300\n",
            "422/422 [==============================] - 11s 26ms/step - loss: 0.2712 - sparse_categorical_accuracy: 0.8961 - val_loss: 0.2773 - val_sparse_categorical_accuracy: 0.8985\n",
            "Epoch 93/300\n",
            "422/422 [==============================] - 11s 25ms/step - loss: 0.2742 - sparse_categorical_accuracy: 0.8936 - val_loss: 0.2720 - val_sparse_categorical_accuracy: 0.8983\n",
            "Epoch 94/300\n",
            "422/422 [==============================] - 10s 25ms/step - loss: 0.2730 - sparse_categorical_accuracy: 0.8951 - val_loss: 0.2733 - val_sparse_categorical_accuracy: 0.9017\n",
            "Epoch 95/300\n",
            "422/422 [==============================] - 11s 26ms/step - loss: 0.2692 - sparse_categorical_accuracy: 0.8977 - val_loss: 0.2728 - val_sparse_categorical_accuracy: 0.8997\n",
            "Epoch 96/300\n",
            "422/422 [==============================] - 11s 26ms/step - loss: 0.2715 - sparse_categorical_accuracy: 0.8968 - val_loss: 0.2707 - val_sparse_categorical_accuracy: 0.9020\n",
            "Epoch 97/300\n",
            "422/422 [==============================] - 11s 26ms/step - loss: 0.2664 - sparse_categorical_accuracy: 0.8984 - val_loss: 0.2711 - val_sparse_categorical_accuracy: 0.9025\n",
            "Epoch 98/300\n",
            "422/422 [==============================] - 11s 26ms/step - loss: 0.2696 - sparse_categorical_accuracy: 0.8962 - val_loss: 0.2729 - val_sparse_categorical_accuracy: 0.8977\n",
            "Epoch 99/300\n",
            "422/422 [==============================] - 11s 26ms/step - loss: 0.2704 - sparse_categorical_accuracy: 0.8968 - val_loss: 0.2720 - val_sparse_categorical_accuracy: 0.9008\n",
            "Epoch 100/300\n",
            "422/422 [==============================] - 10s 25ms/step - loss: 0.2677 - sparse_categorical_accuracy: 0.8971 - val_loss: 0.2712 - val_sparse_categorical_accuracy: 0.9005\n",
            "Epoch 101/300\n",
            "422/422 [==============================] - 11s 25ms/step - loss: 0.2662 - sparse_categorical_accuracy: 0.8974 - val_loss: 0.2725 - val_sparse_categorical_accuracy: 0.8993\n",
            "Epoch 102/300\n",
            "422/422 [==============================] - 11s 26ms/step - loss: 0.2666 - sparse_categorical_accuracy: 0.8972 - val_loss: 0.2702 - val_sparse_categorical_accuracy: 0.8998\n",
            "Epoch 103/300\n",
            "422/422 [==============================] - 11s 26ms/step - loss: 0.2670 - sparse_categorical_accuracy: 0.8974 - val_loss: 0.2710 - val_sparse_categorical_accuracy: 0.9017\n",
            "Epoch 104/300\n",
            "422/422 [==============================] - 11s 26ms/step - loss: 0.2644 - sparse_categorical_accuracy: 0.9002 - val_loss: 0.2703 - val_sparse_categorical_accuracy: 0.9022\n",
            "Epoch 105/300\n",
            "422/422 [==============================] - 11s 26ms/step - loss: 0.2624 - sparse_categorical_accuracy: 0.8994 - val_loss: 0.2719 - val_sparse_categorical_accuracy: 0.9010\n",
            "Epoch 106/300\n",
            "422/422 [==============================] - 11s 26ms/step - loss: 0.2648 - sparse_categorical_accuracy: 0.8984 - val_loss: 0.2677 - val_sparse_categorical_accuracy: 0.9018\n",
            "Epoch 107/300\n",
            "422/422 [==============================] - 10s 25ms/step - loss: 0.2616 - sparse_categorical_accuracy: 0.9008 - val_loss: 0.2689 - val_sparse_categorical_accuracy: 0.9035\n",
            "Epoch 108/300\n",
            "422/422 [==============================] - 11s 26ms/step - loss: 0.2626 - sparse_categorical_accuracy: 0.8996 - val_loss: 0.2717 - val_sparse_categorical_accuracy: 0.9027\n",
            "Epoch 109/300\n",
            "422/422 [==============================] - 11s 27ms/step - loss: 0.2655 - sparse_categorical_accuracy: 0.8993 - val_loss: 0.2659 - val_sparse_categorical_accuracy: 0.9033\n",
            "Epoch 110/300\n",
            "422/422 [==============================] - 11s 26ms/step - loss: 0.2609 - sparse_categorical_accuracy: 0.8988 - val_loss: 0.2716 - val_sparse_categorical_accuracy: 0.9008\n",
            "Epoch 111/300\n",
            "422/422 [==============================] - 11s 26ms/step - loss: 0.2610 - sparse_categorical_accuracy: 0.9004 - val_loss: 0.2708 - val_sparse_categorical_accuracy: 0.9023\n",
            "Epoch 112/300\n",
            "422/422 [==============================] - 11s 26ms/step - loss: 0.2588 - sparse_categorical_accuracy: 0.9007 - val_loss: 0.2703 - val_sparse_categorical_accuracy: 0.9023\n",
            "Epoch 113/300\n",
            "422/422 [==============================] - 11s 27ms/step - loss: 0.2593 - sparse_categorical_accuracy: 0.9009 - val_loss: 0.2698 - val_sparse_categorical_accuracy: 0.9027\n",
            "Epoch 114/300\n",
            "422/422 [==============================] - 11s 25ms/step - loss: 0.2576 - sparse_categorical_accuracy: 0.9011 - val_loss: 0.2693 - val_sparse_categorical_accuracy: 0.9032\n",
            "Epoch 115/300\n",
            "422/422 [==============================] - 11s 25ms/step - loss: 0.2578 - sparse_categorical_accuracy: 0.9009 - val_loss: 0.2705 - val_sparse_categorical_accuracy: 0.9032\n",
            "Epoch 116/300\n",
            "422/422 [==============================] - 11s 26ms/step - loss: 0.2567 - sparse_categorical_accuracy: 0.9019 - val_loss: 0.2682 - val_sparse_categorical_accuracy: 0.9025\n",
            "Epoch 117/300\n",
            "422/422 [==============================] - 11s 26ms/step - loss: 0.2562 - sparse_categorical_accuracy: 0.9009 - val_loss: 0.2682 - val_sparse_categorical_accuracy: 0.9047\n",
            "Epoch 118/300\n",
            "422/422 [==============================] - 11s 26ms/step - loss: 0.2559 - sparse_categorical_accuracy: 0.9023 - val_loss: 0.2687 - val_sparse_categorical_accuracy: 0.9053\n",
            "Epoch 119/300\n",
            "422/422 [==============================] - 11s 27ms/step - loss: 0.2555 - sparse_categorical_accuracy: 0.9023 - val_loss: 0.2705 - val_sparse_categorical_accuracy: 0.9055\n",
            "Epoch 120/300\n",
            "422/422 [==============================] - 11s 26ms/step - loss: 0.2554 - sparse_categorical_accuracy: 0.9016 - val_loss: 0.2705 - val_sparse_categorical_accuracy: 0.9035\n",
            "Epoch 121/300\n",
            "422/422 [==============================] - 11s 25ms/step - loss: 0.2550 - sparse_categorical_accuracy: 0.9030 - val_loss: 0.2682 - val_sparse_categorical_accuracy: 0.9050\n",
            "Epoch 122/300\n",
            "422/422 [==============================] - 11s 25ms/step - loss: 0.2553 - sparse_categorical_accuracy: 0.9023 - val_loss: 0.2665 - val_sparse_categorical_accuracy: 0.9027\n",
            "Epoch 123/300\n",
            "422/422 [==============================] - 11s 26ms/step - loss: 0.2533 - sparse_categorical_accuracy: 0.9034 - val_loss: 0.2688 - val_sparse_categorical_accuracy: 0.9045\n",
            "Epoch 124/300\n",
            "422/422 [==============================] - 11s 26ms/step - loss: 0.2536 - sparse_categorical_accuracy: 0.9032 - val_loss: 0.2709 - val_sparse_categorical_accuracy: 0.9032\n",
            "Epoch 125/300\n",
            "422/422 [==============================] - 11s 26ms/step - loss: 0.2533 - sparse_categorical_accuracy: 0.9037 - val_loss: 0.2682 - val_sparse_categorical_accuracy: 0.9042\n",
            "Epoch 126/300\n",
            "422/422 [==============================] - 11s 26ms/step - loss: 0.2517 - sparse_categorical_accuracy: 0.9033 - val_loss: 0.2699 - val_sparse_categorical_accuracy: 0.9042\n",
            "Epoch 127/300\n",
            "422/422 [==============================] - 11s 26ms/step - loss: 0.2526 - sparse_categorical_accuracy: 0.9016 - val_loss: 0.2692 - val_sparse_categorical_accuracy: 0.9050\n",
            "Epoch 128/300\n",
            "422/422 [==============================] - 10s 25ms/step - loss: 0.2542 - sparse_categorical_accuracy: 0.9022 - val_loss: 0.2685 - val_sparse_categorical_accuracy: 0.9030\n",
            "Epoch 129/300\n",
            "422/422 [==============================] - 11s 25ms/step - loss: 0.2513 - sparse_categorical_accuracy: 0.9040 - val_loss: 0.2678 - val_sparse_categorical_accuracy: 0.9045\n",
            "Epoch 130/300\n",
            "422/422 [==============================] - 11s 27ms/step - loss: 0.2476 - sparse_categorical_accuracy: 0.9056 - val_loss: 0.2701 - val_sparse_categorical_accuracy: 0.9043\n",
            "Epoch 131/300\n",
            "422/422 [==============================] - 11s 27ms/step - loss: 0.2500 - sparse_categorical_accuracy: 0.9036 - val_loss: 0.2686 - val_sparse_categorical_accuracy: 0.9023\n",
            "Epoch 132/300\n",
            "422/422 [==============================] - 11s 27ms/step - loss: 0.2515 - sparse_categorical_accuracy: 0.9029 - val_loss: 0.2695 - val_sparse_categorical_accuracy: 0.9023\n",
            "Epoch 133/300\n",
            "422/422 [==============================] - 11s 26ms/step - loss: 0.2489 - sparse_categorical_accuracy: 0.9041 - val_loss: 0.2693 - val_sparse_categorical_accuracy: 0.9042\n",
            "Epoch 134/300\n",
            "422/422 [==============================] - 11s 26ms/step - loss: 0.2472 - sparse_categorical_accuracy: 0.9051 - val_loss: 0.2664 - val_sparse_categorical_accuracy: 0.9033\n",
            "Epoch 135/300\n",
            "422/422 [==============================] - 11s 25ms/step - loss: 0.2486 - sparse_categorical_accuracy: 0.9043 - val_loss: 0.2691 - val_sparse_categorical_accuracy: 0.9055\n",
            "Epoch 136/300\n",
            "422/422 [==============================] - 11s 25ms/step - loss: 0.2470 - sparse_categorical_accuracy: 0.9074 - val_loss: 0.2663 - val_sparse_categorical_accuracy: 0.9033\n",
            "Epoch 137/300\n",
            "422/422 [==============================] - 11s 26ms/step - loss: 0.2477 - sparse_categorical_accuracy: 0.9044 - val_loss: 0.2689 - val_sparse_categorical_accuracy: 0.9012\n",
            "Epoch 138/300\n",
            "422/422 [==============================] - 11s 26ms/step - loss: 0.2477 - sparse_categorical_accuracy: 0.9053 - val_loss: 0.2658 - val_sparse_categorical_accuracy: 0.9038\n",
            "Epoch 139/300\n",
            "422/422 [==============================] - 11s 26ms/step - loss: 0.2427 - sparse_categorical_accuracy: 0.9076 - val_loss: 0.2681 - val_sparse_categorical_accuracy: 0.9042\n",
            "Epoch 140/300\n",
            "422/422 [==============================] - 11s 27ms/step - loss: 0.2448 - sparse_categorical_accuracy: 0.9057 - val_loss: 0.2661 - val_sparse_categorical_accuracy: 0.9053\n",
            "Epoch 141/300\n",
            "422/422 [==============================] - 11s 26ms/step - loss: 0.2455 - sparse_categorical_accuracy: 0.9062 - val_loss: 0.2696 - val_sparse_categorical_accuracy: 0.9043\n",
            "Epoch 142/300\n",
            "422/422 [==============================] - 11s 25ms/step - loss: 0.2470 - sparse_categorical_accuracy: 0.9046 - val_loss: 0.2681 - val_sparse_categorical_accuracy: 0.9042\n",
            "Epoch 143/300\n",
            "422/422 [==============================] - 11s 25ms/step - loss: 0.2445 - sparse_categorical_accuracy: 0.9059 - val_loss: 0.2675 - val_sparse_categorical_accuracy: 0.9037\n",
            "Epoch 144/300\n",
            "422/422 [==============================] - 11s 26ms/step - loss: 0.2453 - sparse_categorical_accuracy: 0.9068 - val_loss: 0.2680 - val_sparse_categorical_accuracy: 0.9055\n",
            "Epoch 145/300\n",
            "422/422 [==============================] - 11s 26ms/step - loss: 0.2431 - sparse_categorical_accuracy: 0.9060 - val_loss: 0.2701 - val_sparse_categorical_accuracy: 0.9040\n",
            "Epoch 146/300\n",
            "422/422 [==============================] - 11s 26ms/step - loss: 0.2426 - sparse_categorical_accuracy: 0.9065 - val_loss: 0.2662 - val_sparse_categorical_accuracy: 0.9060\n",
            "Epoch 147/300\n",
            "422/422 [==============================] - 11s 27ms/step - loss: 0.2426 - sparse_categorical_accuracy: 0.9079 - val_loss: 0.2656 - val_sparse_categorical_accuracy: 0.9058\n",
            "Epoch 148/300\n",
            "422/422 [==============================] - 11s 26ms/step - loss: 0.2436 - sparse_categorical_accuracy: 0.9052 - val_loss: 0.2643 - val_sparse_categorical_accuracy: 0.9063\n",
            "Epoch 149/300\n",
            "422/422 [==============================] - 11s 25ms/step - loss: 0.2409 - sparse_categorical_accuracy: 0.9080 - val_loss: 0.2636 - val_sparse_categorical_accuracy: 0.9047\n",
            "Epoch 150/300\n",
            "422/422 [==============================] - 11s 25ms/step - loss: 0.2428 - sparse_categorical_accuracy: 0.9072 - val_loss: 0.2634 - val_sparse_categorical_accuracy: 0.9063\n",
            "Epoch 151/300\n",
            "422/422 [==============================] - 11s 26ms/step - loss: 0.2433 - sparse_categorical_accuracy: 0.9068 - val_loss: 0.2663 - val_sparse_categorical_accuracy: 0.9075\n",
            "Epoch 152/300\n",
            "422/422 [==============================] - 11s 27ms/step - loss: 0.2398 - sparse_categorical_accuracy: 0.9082 - val_loss: 0.2643 - val_sparse_categorical_accuracy: 0.9048\n",
            "Epoch 153/300\n",
            "422/422 [==============================] - 11s 26ms/step - loss: 0.2396 - sparse_categorical_accuracy: 0.9076 - val_loss: 0.2703 - val_sparse_categorical_accuracy: 0.9060\n",
            "Epoch 154/300\n",
            "422/422 [==============================] - 11s 27ms/step - loss: 0.2400 - sparse_categorical_accuracy: 0.9085 - val_loss: 0.2646 - val_sparse_categorical_accuracy: 0.9067\n",
            "Epoch 155/300\n",
            "422/422 [==============================] - 11s 26ms/step - loss: 0.2391 - sparse_categorical_accuracy: 0.9081 - val_loss: 0.2679 - val_sparse_categorical_accuracy: 0.9045\n",
            "Epoch 156/300\n",
            "422/422 [==============================] - 11s 25ms/step - loss: 0.2410 - sparse_categorical_accuracy: 0.9081 - val_loss: 0.2640 - val_sparse_categorical_accuracy: 0.9062\n",
            "Epoch 157/300\n",
            "422/422 [==============================] - 12s 28ms/step - loss: 0.2396 - sparse_categorical_accuracy: 0.9081 - val_loss: 0.2660 - val_sparse_categorical_accuracy: 0.9065\n",
            "Epoch 158/300\n",
            "422/422 [==============================] - 11s 27ms/step - loss: 0.2390 - sparse_categorical_accuracy: 0.9084 - val_loss: 0.2660 - val_sparse_categorical_accuracy: 0.9052\n",
            "Epoch 159/300\n",
            "422/422 [==============================] - 11s 26ms/step - loss: 0.2378 - sparse_categorical_accuracy: 0.9099 - val_loss: 0.2666 - val_sparse_categorical_accuracy: 0.9058\n",
            "Epoch 160/300\n",
            "422/422 [==============================] - 11s 27ms/step - loss: 0.2373 - sparse_categorical_accuracy: 0.9095 - val_loss: 0.2673 - val_sparse_categorical_accuracy: 0.9043\n",
            "Epoch 161/300\n",
            "422/422 [==============================] - 11s 26ms/step - loss: 0.2395 - sparse_categorical_accuracy: 0.9083 - val_loss: 0.2656 - val_sparse_categorical_accuracy: 0.9057\n",
            "Epoch 162/300\n",
            "422/422 [==============================] - 11s 26ms/step - loss: 0.2376 - sparse_categorical_accuracy: 0.9092 - val_loss: 0.2657 - val_sparse_categorical_accuracy: 0.9038\n",
            "Epoch 163/300\n",
            "422/422 [==============================] - 11s 27ms/step - loss: 0.2366 - sparse_categorical_accuracy: 0.9083 - val_loss: 0.2639 - val_sparse_categorical_accuracy: 0.9025\n",
            "Epoch 164/300\n",
            "422/422 [==============================] - 11s 25ms/step - loss: 0.2370 - sparse_categorical_accuracy: 0.9087 - val_loss: 0.2665 - val_sparse_categorical_accuracy: 0.9058\n",
            "Epoch 165/300\n",
            "422/422 [==============================] - 11s 26ms/step - loss: 0.2337 - sparse_categorical_accuracy: 0.9099 - val_loss: 0.2629 - val_sparse_categorical_accuracy: 0.9060\n",
            "Epoch 166/300\n",
            "422/422 [==============================] - 11s 27ms/step - loss: 0.2357 - sparse_categorical_accuracy: 0.9094 - val_loss: 0.2640 - val_sparse_categorical_accuracy: 0.9073\n",
            "Epoch 167/300\n",
            "422/422 [==============================] - 12s 27ms/step - loss: 0.2332 - sparse_categorical_accuracy: 0.9094 - val_loss: 0.2646 - val_sparse_categorical_accuracy: 0.9062\n",
            "Epoch 168/300\n",
            "422/422 [==============================] - 12s 29ms/step - loss: 0.2328 - sparse_categorical_accuracy: 0.9113 - val_loss: 0.2636 - val_sparse_categorical_accuracy: 0.9067\n",
            "Epoch 169/300\n",
            "422/422 [==============================] - 12s 27ms/step - loss: 0.2323 - sparse_categorical_accuracy: 0.9113 - val_loss: 0.2715 - val_sparse_categorical_accuracy: 0.9043\n",
            "Epoch 170/300\n",
            "422/422 [==============================] - 12s 27ms/step - loss: 0.2323 - sparse_categorical_accuracy: 0.9113 - val_loss: 0.2653 - val_sparse_categorical_accuracy: 0.9053\n",
            "Epoch 171/300\n",
            "422/422 [==============================] - 11s 27ms/step - loss: 0.2326 - sparse_categorical_accuracy: 0.9095 - val_loss: 0.2676 - val_sparse_categorical_accuracy: 0.9090\n",
            "Epoch 172/300\n",
            "422/422 [==============================] - 11s 26ms/step - loss: 0.2308 - sparse_categorical_accuracy: 0.9118 - val_loss: 0.2677 - val_sparse_categorical_accuracy: 0.9062\n",
            "Epoch 173/300\n",
            "422/422 [==============================] - 11s 25ms/step - loss: 0.2343 - sparse_categorical_accuracy: 0.9094 - val_loss: 0.2612 - val_sparse_categorical_accuracy: 0.9062\n",
            "Epoch 174/300\n",
            "422/422 [==============================] - 11s 27ms/step - loss: 0.2331 - sparse_categorical_accuracy: 0.9107 - val_loss: 0.2648 - val_sparse_categorical_accuracy: 0.9062\n",
            "Epoch 175/300\n",
            "422/422 [==============================] - 11s 27ms/step - loss: 0.2331 - sparse_categorical_accuracy: 0.9108 - val_loss: 0.2672 - val_sparse_categorical_accuracy: 0.9050\n",
            "Epoch 176/300\n",
            "422/422 [==============================] - 11s 27ms/step - loss: 0.2295 - sparse_categorical_accuracy: 0.9120 - val_loss: 0.2665 - val_sparse_categorical_accuracy: 0.9058\n",
            "Epoch 177/300\n",
            "422/422 [==============================] - 11s 27ms/step - loss: 0.2312 - sparse_categorical_accuracy: 0.9110 - val_loss: 0.2654 - val_sparse_categorical_accuracy: 0.9053\n",
            "Epoch 178/300\n",
            "422/422 [==============================] - 11s 27ms/step - loss: 0.2300 - sparse_categorical_accuracy: 0.9122 - val_loss: 0.2630 - val_sparse_categorical_accuracy: 0.9083\n",
            "Epoch 179/300\n",
            "422/422 [==============================] - 11s 27ms/step - loss: 0.2319 - sparse_categorical_accuracy: 0.9111 - val_loss: 0.2611 - val_sparse_categorical_accuracy: 0.9077\n",
            "Epoch 180/300\n",
            "422/422 [==============================] - 11s 25ms/step - loss: 0.2299 - sparse_categorical_accuracy: 0.9101 - val_loss: 0.2649 - val_sparse_categorical_accuracy: 0.9068\n",
            "Epoch 181/300\n",
            "422/422 [==============================] - 11s 26ms/step - loss: 0.2350 - sparse_categorical_accuracy: 0.9085 - val_loss: 0.2649 - val_sparse_categorical_accuracy: 0.9075\n",
            "Epoch 182/300\n",
            "422/422 [==============================] - 11s 27ms/step - loss: 0.2332 - sparse_categorical_accuracy: 0.9094 - val_loss: 0.2675 - val_sparse_categorical_accuracy: 0.9062\n",
            "Epoch 183/300\n",
            "422/422 [==============================] - 11s 27ms/step - loss: 0.2289 - sparse_categorical_accuracy: 0.9121 - val_loss: 0.2658 - val_sparse_categorical_accuracy: 0.9045\n",
            "Epoch 184/300\n",
            "422/422 [==============================] - 11s 27ms/step - loss: 0.2262 - sparse_categorical_accuracy: 0.9116 - val_loss: 0.2654 - val_sparse_categorical_accuracy: 0.9070\n",
            "Epoch 185/300\n",
            "422/422 [==============================] - 11s 27ms/step - loss: 0.2286 - sparse_categorical_accuracy: 0.9117 - val_loss: 0.2678 - val_sparse_categorical_accuracy: 0.9057\n",
            "Epoch 186/300\n",
            "422/422 [==============================] - 11s 27ms/step - loss: 0.2275 - sparse_categorical_accuracy: 0.9124 - val_loss: 0.2677 - val_sparse_categorical_accuracy: 0.9068\n",
            "Epoch 187/300\n",
            "422/422 [==============================] - 11s 26ms/step - loss: 0.2284 - sparse_categorical_accuracy: 0.9115 - val_loss: 0.2658 - val_sparse_categorical_accuracy: 0.9070\n",
            "Epoch 188/300\n",
            "422/422 [==============================] - 11s 25ms/step - loss: 0.2267 - sparse_categorical_accuracy: 0.9126 - val_loss: 0.2676 - val_sparse_categorical_accuracy: 0.9067\n",
            "Epoch 189/300\n",
            "422/422 [==============================] - 11s 27ms/step - loss: 0.2291 - sparse_categorical_accuracy: 0.9122 - val_loss: 0.2652 - val_sparse_categorical_accuracy: 0.9062\n",
            "Epoch 190/300\n",
            "422/422 [==============================] - 11s 27ms/step - loss: 0.2274 - sparse_categorical_accuracy: 0.9114 - val_loss: 0.2687 - val_sparse_categorical_accuracy: 0.9068\n",
            "Epoch 191/300\n",
            "422/422 [==============================] - 11s 27ms/step - loss: 0.2277 - sparse_categorical_accuracy: 0.9128 - val_loss: 0.2660 - val_sparse_categorical_accuracy: 0.9068\n",
            "Epoch 192/300\n",
            "422/422 [==============================] - 11s 27ms/step - loss: 0.2261 - sparse_categorical_accuracy: 0.9114 - val_loss: 0.2664 - val_sparse_categorical_accuracy: 0.9065\n",
            "Epoch 193/300\n",
            "422/422 [==============================] - 11s 27ms/step - loss: 0.2275 - sparse_categorical_accuracy: 0.9124 - val_loss: 0.2675 - val_sparse_categorical_accuracy: 0.9085\n",
            "Epoch 194/300\n",
            "422/422 [==============================] - 11s 27ms/step - loss: 0.2245 - sparse_categorical_accuracy: 0.9134 - val_loss: 0.2636 - val_sparse_categorical_accuracy: 0.9063\n",
            "Epoch 195/300\n",
            "422/422 [==============================] - 11s 26ms/step - loss: 0.2248 - sparse_categorical_accuracy: 0.9138 - val_loss: 0.2638 - val_sparse_categorical_accuracy: 0.9070\n",
            "Epoch 196/300\n",
            "422/422 [==============================] - 11s 26ms/step - loss: 0.2252 - sparse_categorical_accuracy: 0.9132 - val_loss: 0.2697 - val_sparse_categorical_accuracy: 0.9053\n",
            "Epoch 197/300\n",
            "422/422 [==============================] - 11s 27ms/step - loss: 0.2238 - sparse_categorical_accuracy: 0.9126 - val_loss: 0.2639 - val_sparse_categorical_accuracy: 0.9063\n",
            "Epoch 198/300\n",
            "422/422 [==============================] - 11s 27ms/step - loss: 0.2255 - sparse_categorical_accuracy: 0.9128 - val_loss: 0.2637 - val_sparse_categorical_accuracy: 0.9060\n",
            "Epoch 199/300\n",
            "422/422 [==============================] - 11s 27ms/step - loss: 0.2229 - sparse_categorical_accuracy: 0.9127 - val_loss: 0.2677 - val_sparse_categorical_accuracy: 0.9065\n",
            "Epoch 200/300\n",
            "422/422 [==============================] - 11s 27ms/step - loss: 0.2233 - sparse_categorical_accuracy: 0.9138 - val_loss: 0.2666 - val_sparse_categorical_accuracy: 0.9078\n",
            "Epoch 201/300\n",
            "422/422 [==============================] - 15s 35ms/step - loss: 0.2237 - sparse_categorical_accuracy: 0.9139 - val_loss: 0.2680 - val_sparse_categorical_accuracy: 0.9070\n",
            "Epoch 202/300\n",
            "422/422 [==============================] - 12s 27ms/step - loss: 0.2213 - sparse_categorical_accuracy: 0.9144 - val_loss: 0.2632 - val_sparse_categorical_accuracy: 0.9070\n",
            "Epoch 203/300\n",
            "422/422 [==============================] - 11s 27ms/step - loss: 0.2220 - sparse_categorical_accuracy: 0.9142 - val_loss: 0.2640 - val_sparse_categorical_accuracy: 0.9078\n",
            "Epoch 204/300\n",
            "422/422 [==============================] - 11s 26ms/step - loss: 0.2211 - sparse_categorical_accuracy: 0.9137 - val_loss: 0.2633 - val_sparse_categorical_accuracy: 0.9075\n",
            "Epoch 205/300\n",
            "422/422 [==============================] - 11s 26ms/step - loss: 0.2200 - sparse_categorical_accuracy: 0.9145 - val_loss: 0.2656 - val_sparse_categorical_accuracy: 0.9087\n",
            "Epoch 206/300\n",
            "422/422 [==============================] - 11s 27ms/step - loss: 0.2225 - sparse_categorical_accuracy: 0.9142 - val_loss: 0.2605 - val_sparse_categorical_accuracy: 0.9078\n",
            "Epoch 207/300\n",
            "422/422 [==============================] - 12s 27ms/step - loss: 0.2230 - sparse_categorical_accuracy: 0.9131 - val_loss: 0.2685 - val_sparse_categorical_accuracy: 0.9073\n",
            "Epoch 208/300\n",
            "422/422 [==============================] - 12s 28ms/step - loss: 0.2242 - sparse_categorical_accuracy: 0.9124 - val_loss: 0.2676 - val_sparse_categorical_accuracy: 0.9055\n",
            "Epoch 209/300\n",
            "422/422 [==============================] - 12s 29ms/step - loss: 0.2224 - sparse_categorical_accuracy: 0.9137 - val_loss: 0.2635 - val_sparse_categorical_accuracy: 0.9078\n",
            "Epoch 210/300\n",
            "422/422 [==============================] - 13s 31ms/step - loss: 0.2224 - sparse_categorical_accuracy: 0.9129 - val_loss: 0.2662 - val_sparse_categorical_accuracy: 0.9083\n",
            "Epoch 211/300\n",
            "422/422 [==============================] - 12s 29ms/step - loss: 0.2218 - sparse_categorical_accuracy: 0.9149 - val_loss: 0.2634 - val_sparse_categorical_accuracy: 0.9063\n",
            "Epoch 212/300\n",
            "422/422 [==============================] - 14s 32ms/step - loss: 0.2210 - sparse_categorical_accuracy: 0.9136 - val_loss: 0.2660 - val_sparse_categorical_accuracy: 0.9053\n",
            "Epoch 213/300\n",
            "422/422 [==============================] - 12s 27ms/step - loss: 0.2220 - sparse_categorical_accuracy: 0.9145 - val_loss: 0.2653 - val_sparse_categorical_accuracy: 0.9097\n",
            "Epoch 214/300\n",
            "422/422 [==============================] - 12s 27ms/step - loss: 0.2210 - sparse_categorical_accuracy: 0.9144 - val_loss: 0.2665 - val_sparse_categorical_accuracy: 0.9088\n",
            "Epoch 215/300\n",
            "422/422 [==============================] - 11s 27ms/step - loss: 0.2186 - sparse_categorical_accuracy: 0.9156 - val_loss: 0.2649 - val_sparse_categorical_accuracy: 0.9060\n",
            "Epoch 216/300\n",
            "422/422 [==============================] - 11s 26ms/step - loss: 0.2230 - sparse_categorical_accuracy: 0.9146 - val_loss: 0.2663 - val_sparse_categorical_accuracy: 0.9078\n",
            "Epoch 217/300\n",
            "422/422 [==============================] - 12s 28ms/step - loss: 0.2205 - sparse_categorical_accuracy: 0.9145 - val_loss: 0.2712 - val_sparse_categorical_accuracy: 0.9063\n",
            "Epoch 218/300\n",
            "422/422 [==============================] - 12s 28ms/step - loss: 0.2202 - sparse_categorical_accuracy: 0.9149 - val_loss: 0.2630 - val_sparse_categorical_accuracy: 0.9078\n",
            "Epoch 219/300\n",
            "422/422 [==============================] - 12s 28ms/step - loss: 0.2172 - sparse_categorical_accuracy: 0.9168 - val_loss: 0.2684 - val_sparse_categorical_accuracy: 0.9072\n",
            "Epoch 220/300\n",
            "422/422 [==============================] - 12s 28ms/step - loss: 0.2206 - sparse_categorical_accuracy: 0.9152 - val_loss: 0.2642 - val_sparse_categorical_accuracy: 0.9075\n",
            "Epoch 221/300\n",
            "422/422 [==============================] - 12s 27ms/step - loss: 0.2215 - sparse_categorical_accuracy: 0.9151 - val_loss: 0.2620 - val_sparse_categorical_accuracy: 0.9095\n",
            "Epoch 222/300\n",
            "422/422 [==============================] - 12s 27ms/step - loss: 0.2184 - sparse_categorical_accuracy: 0.9161 - val_loss: 0.2631 - val_sparse_categorical_accuracy: 0.9087\n",
            "Epoch 223/300\n",
            "422/422 [==============================] - 12s 28ms/step - loss: 0.2197 - sparse_categorical_accuracy: 0.9154 - val_loss: 0.2654 - val_sparse_categorical_accuracy: 0.9088\n",
            "Epoch 224/300\n",
            "422/422 [==============================] - 11s 26ms/step - loss: 0.2166 - sparse_categorical_accuracy: 0.9156 - val_loss: 0.2658 - val_sparse_categorical_accuracy: 0.9093\n",
            "Epoch 225/300\n",
            "422/422 [==============================] - 11s 27ms/step - loss: 0.2156 - sparse_categorical_accuracy: 0.9159 - val_loss: 0.2679 - val_sparse_categorical_accuracy: 0.9073\n",
            "Epoch 226/300\n",
            "422/422 [==============================] - 12s 28ms/step - loss: 0.2167 - sparse_categorical_accuracy: 0.9163 - val_loss: 0.2664 - val_sparse_categorical_accuracy: 0.9073\n",
            "Epoch 227/300\n",
            "422/422 [==============================] - 12s 27ms/step - loss: 0.2175 - sparse_categorical_accuracy: 0.9165 - val_loss: 0.2654 - val_sparse_categorical_accuracy: 0.9083\n",
            "Epoch 228/300\n",
            "422/422 [==============================] - 12s 28ms/step - loss: 0.2179 - sparse_categorical_accuracy: 0.9155 - val_loss: 0.2697 - val_sparse_categorical_accuracy: 0.9062\n",
            "Epoch 229/300\n",
            "422/422 [==============================] - 12s 28ms/step - loss: 0.2154 - sparse_categorical_accuracy: 0.9169 - val_loss: 0.2690 - val_sparse_categorical_accuracy: 0.9062\n",
            "Epoch 230/300\n",
            "422/422 [==============================] - 12s 28ms/step - loss: 0.2159 - sparse_categorical_accuracy: 0.9150 - val_loss: 0.2655 - val_sparse_categorical_accuracy: 0.9078\n",
            "Epoch 231/300\n",
            "422/422 [==============================] - 12s 28ms/step - loss: 0.2139 - sparse_categorical_accuracy: 0.9179 - val_loss: 0.2649 - val_sparse_categorical_accuracy: 0.9057\n",
            "Epoch 232/300\n",
            "422/422 [==============================] - 12s 28ms/step - loss: 0.2123 - sparse_categorical_accuracy: 0.9181 - val_loss: 0.2676 - val_sparse_categorical_accuracy: 0.9072\n",
            "Epoch 233/300\n",
            "422/422 [==============================] - 11s 27ms/step - loss: 0.2170 - sparse_categorical_accuracy: 0.9153 - val_loss: 0.2654 - val_sparse_categorical_accuracy: 0.9093\n",
            "Epoch 234/300\n",
            "422/422 [==============================] - 11s 26ms/step - loss: 0.2146 - sparse_categorical_accuracy: 0.9175 - val_loss: 0.2671 - val_sparse_categorical_accuracy: 0.9088\n",
            "Epoch 235/300\n",
            "422/422 [==============================] - 12s 28ms/step - loss: 0.2174 - sparse_categorical_accuracy: 0.9156 - val_loss: 0.2687 - val_sparse_categorical_accuracy: 0.9093\n",
            "Epoch 236/300\n",
            "422/422 [==============================] - 12s 27ms/step - loss: 0.2141 - sparse_categorical_accuracy: 0.9174 - val_loss: 0.2659 - val_sparse_categorical_accuracy: 0.9102\n",
            "Epoch 237/300\n",
            "422/422 [==============================] - 12s 28ms/step - loss: 0.2156 - sparse_categorical_accuracy: 0.9166 - val_loss: 0.2703 - val_sparse_categorical_accuracy: 0.9060\n",
            "Epoch 238/300\n",
            "422/422 [==============================] - 12s 27ms/step - loss: 0.2161 - sparse_categorical_accuracy: 0.9161 - val_loss: 0.2675 - val_sparse_categorical_accuracy: 0.9077\n",
            "Epoch 239/300\n",
            "422/422 [==============================] - 12s 28ms/step - loss: 0.2149 - sparse_categorical_accuracy: 0.9169 - val_loss: 0.2708 - val_sparse_categorical_accuracy: 0.9087\n",
            "Epoch 240/300\n",
            "422/422 [==============================] - 12s 27ms/step - loss: 0.2151 - sparse_categorical_accuracy: 0.9166 - val_loss: 0.2689 - val_sparse_categorical_accuracy: 0.9055\n",
            "Epoch 241/300\n",
            "422/422 [==============================] - 11s 27ms/step - loss: 0.2119 - sparse_categorical_accuracy: 0.9187 - val_loss: 0.2689 - val_sparse_categorical_accuracy: 0.9073\n",
            "Epoch 242/300\n",
            "422/422 [==============================] - 11s 25ms/step - loss: 0.2120 - sparse_categorical_accuracy: 0.9177 - val_loss: 0.2656 - val_sparse_categorical_accuracy: 0.9067\n",
            "Epoch 243/300\n",
            "422/422 [==============================] - 11s 27ms/step - loss: 0.2112 - sparse_categorical_accuracy: 0.9176 - val_loss: 0.2699 - val_sparse_categorical_accuracy: 0.9105\n",
            "Epoch 244/300\n",
            "422/422 [==============================] - 12s 28ms/step - loss: 0.2133 - sparse_categorical_accuracy: 0.9183 - val_loss: 0.2685 - val_sparse_categorical_accuracy: 0.9068\n",
            "Epoch 245/300\n",
            "422/422 [==============================] - 12s 27ms/step - loss: 0.2114 - sparse_categorical_accuracy: 0.9176 - val_loss: 0.2697 - val_sparse_categorical_accuracy: 0.9063\n",
            "Epoch 246/300\n",
            "422/422 [==============================] - 12s 28ms/step - loss: 0.2133 - sparse_categorical_accuracy: 0.9163 - val_loss: 0.2680 - val_sparse_categorical_accuracy: 0.9067\n",
            "Epoch 247/300\n",
            "422/422 [==============================] - 12s 28ms/step - loss: 0.2126 - sparse_categorical_accuracy: 0.9185 - val_loss: 0.2693 - val_sparse_categorical_accuracy: 0.9090\n",
            "Epoch 248/300\n",
            "422/422 [==============================] - 12s 28ms/step - loss: 0.2128 - sparse_categorical_accuracy: 0.9174 - val_loss: 0.2672 - val_sparse_categorical_accuracy: 0.9097\n",
            "Epoch 249/300\n",
            "422/422 [==============================] - 12s 28ms/step - loss: 0.2090 - sparse_categorical_accuracy: 0.9193 - val_loss: 0.2687 - val_sparse_categorical_accuracy: 0.9075\n",
            "Epoch 250/300\n",
            "422/422 [==============================] - 12s 27ms/step - loss: 0.2129 - sparse_categorical_accuracy: 0.9176 - val_loss: 0.2689 - val_sparse_categorical_accuracy: 0.9083\n",
            "Epoch 251/300\n",
            "422/422 [==============================] - 11s 26ms/step - loss: 0.2118 - sparse_categorical_accuracy: 0.9179 - val_loss: 0.2697 - val_sparse_categorical_accuracy: 0.9110\n",
            "Epoch 252/300\n",
            "422/422 [==============================] - 11s 27ms/step - loss: 0.2109 - sparse_categorical_accuracy: 0.9187 - val_loss: 0.2650 - val_sparse_categorical_accuracy: 0.9097\n",
            "Epoch 253/300\n",
            "422/422 [==============================] - 12s 28ms/step - loss: 0.2105 - sparse_categorical_accuracy: 0.9183 - val_loss: 0.2680 - val_sparse_categorical_accuracy: 0.9070\n",
            "Epoch 254/300\n",
            "422/422 [==============================] - 12s 28ms/step - loss: 0.2091 - sparse_categorical_accuracy: 0.9192 - val_loss: 0.2693 - val_sparse_categorical_accuracy: 0.9088\n",
            "Epoch 255/300\n",
            "422/422 [==============================] - 12s 28ms/step - loss: 0.2073 - sparse_categorical_accuracy: 0.9200 - val_loss: 0.2692 - val_sparse_categorical_accuracy: 0.9085\n",
            "Epoch 256/300\n",
            "422/422 [==============================] - 12s 28ms/step - loss: 0.2127 - sparse_categorical_accuracy: 0.9176 - val_loss: 0.2708 - val_sparse_categorical_accuracy: 0.9052\n",
            "Epoch 257/300\n",
            "422/422 [==============================] - 12s 28ms/step - loss: 0.2110 - sparse_categorical_accuracy: 0.9186 - val_loss: 0.2691 - val_sparse_categorical_accuracy: 0.9097\n",
            "Epoch 258/300\n",
            "422/422 [==============================] - 12s 28ms/step - loss: 0.2085 - sparse_categorical_accuracy: 0.9188 - val_loss: 0.2708 - val_sparse_categorical_accuracy: 0.9085\n",
            "Epoch 259/300\n",
            "422/422 [==============================] - 11s 27ms/step - loss: 0.2119 - sparse_categorical_accuracy: 0.9175 - val_loss: 0.2698 - val_sparse_categorical_accuracy: 0.9092\n",
            "Epoch 260/300\n",
            "422/422 [==============================] - 11s 26ms/step - loss: 0.2103 - sparse_categorical_accuracy: 0.9186 - val_loss: 0.2699 - val_sparse_categorical_accuracy: 0.9085\n",
            "Epoch 261/300\n",
            "422/422 [==============================] - 12s 28ms/step - loss: 0.2089 - sparse_categorical_accuracy: 0.9186 - val_loss: 0.2694 - val_sparse_categorical_accuracy: 0.9080\n",
            "Epoch 262/300\n",
            "422/422 [==============================] - 12s 28ms/step - loss: 0.2096 - sparse_categorical_accuracy: 0.9187 - val_loss: 0.2677 - val_sparse_categorical_accuracy: 0.9092\n",
            "Epoch 263/300\n",
            "422/422 [==============================] - 12s 28ms/step - loss: 0.2067 - sparse_categorical_accuracy: 0.9199 - val_loss: 0.2706 - val_sparse_categorical_accuracy: 0.9090\n",
            "Epoch 264/300\n",
            "422/422 [==============================] - 12s 28ms/step - loss: 0.2088 - sparse_categorical_accuracy: 0.9199 - val_loss: 0.2675 - val_sparse_categorical_accuracy: 0.9088\n",
            "Epoch 265/300\n",
            "422/422 [==============================] - 12s 28ms/step - loss: 0.2080 - sparse_categorical_accuracy: 0.9199 - val_loss: 0.2683 - val_sparse_categorical_accuracy: 0.9097\n",
            "Epoch 266/300\n",
            "422/422 [==============================] - 12s 28ms/step - loss: 0.2035 - sparse_categorical_accuracy: 0.9214 - val_loss: 0.2693 - val_sparse_categorical_accuracy: 0.9112\n",
            "Epoch 267/300\n",
            "422/422 [==============================] - 12s 28ms/step - loss: 0.2090 - sparse_categorical_accuracy: 0.9196 - val_loss: 0.2681 - val_sparse_categorical_accuracy: 0.9087\n",
            "Epoch 268/300\n",
            "422/422 [==============================] - 11s 27ms/step - loss: 0.2077 - sparse_categorical_accuracy: 0.9210 - val_loss: 0.2675 - val_sparse_categorical_accuracy: 0.9110\n",
            "Epoch 269/300\n",
            "422/422 [==============================] - 11s 26ms/step - loss: 0.2059 - sparse_categorical_accuracy: 0.9191 - val_loss: 0.2703 - val_sparse_categorical_accuracy: 0.9070\n",
            "Epoch 270/300\n",
            "422/422 [==============================] - 12s 28ms/step - loss: 0.2098 - sparse_categorical_accuracy: 0.9191 - val_loss: 0.2700 - val_sparse_categorical_accuracy: 0.9082\n",
            "Epoch 271/300\n",
            "422/422 [==============================] - 12s 28ms/step - loss: 0.2057 - sparse_categorical_accuracy: 0.9206 - val_loss: 0.2691 - val_sparse_categorical_accuracy: 0.9087\n",
            "Epoch 272/300\n",
            "422/422 [==============================] - 12s 28ms/step - loss: 0.2059 - sparse_categorical_accuracy: 0.9201 - val_loss: 0.2679 - val_sparse_categorical_accuracy: 0.9090\n",
            "Epoch 273/300\n",
            "422/422 [==============================] - 12s 28ms/step - loss: 0.2082 - sparse_categorical_accuracy: 0.9196 - val_loss: 0.2738 - val_sparse_categorical_accuracy: 0.9085\n",
            "Epoch 274/300\n",
            "422/422 [==============================] - 12s 28ms/step - loss: 0.2042 - sparse_categorical_accuracy: 0.9201 - val_loss: 0.2745 - val_sparse_categorical_accuracy: 0.9077\n",
            "Epoch 275/300\n",
            "422/422 [==============================] - 12s 28ms/step - loss: 0.2061 - sparse_categorical_accuracy: 0.9196 - val_loss: 0.2685 - val_sparse_categorical_accuracy: 0.9095\n",
            "Epoch 276/300\n",
            "422/422 [==============================] - 12s 28ms/step - loss: 0.2071 - sparse_categorical_accuracy: 0.9195 - val_loss: 0.2714 - val_sparse_categorical_accuracy: 0.9092\n",
            "Epoch 277/300\n",
            "422/422 [==============================] - 11s 27ms/step - loss: 0.2077 - sparse_categorical_accuracy: 0.9196 - val_loss: 0.2714 - val_sparse_categorical_accuracy: 0.9090\n",
            "Epoch 278/300\n",
            "422/422 [==============================] - 11s 26ms/step - loss: 0.2062 - sparse_categorical_accuracy: 0.9212 - val_loss: 0.2695 - val_sparse_categorical_accuracy: 0.9095\n",
            "Epoch 279/300\n",
            "422/422 [==============================] - 12s 28ms/step - loss: 0.2049 - sparse_categorical_accuracy: 0.9206 - val_loss: 0.2666 - val_sparse_categorical_accuracy: 0.9097\n",
            "Epoch 280/300\n",
            "422/422 [==============================] - 12s 28ms/step - loss: 0.2058 - sparse_categorical_accuracy: 0.9211 - val_loss: 0.2721 - val_sparse_categorical_accuracy: 0.9080\n",
            "Epoch 281/300\n",
            "422/422 [==============================] - 12s 28ms/step - loss: 0.2045 - sparse_categorical_accuracy: 0.9204 - val_loss: 0.2682 - val_sparse_categorical_accuracy: 0.9098\n",
            "Epoch 282/300\n",
            "422/422 [==============================] - 12s 28ms/step - loss: 0.2046 - sparse_categorical_accuracy: 0.9216 - val_loss: 0.2693 - val_sparse_categorical_accuracy: 0.9088\n",
            "Epoch 283/300\n",
            "422/422 [==============================] - 12s 28ms/step - loss: 0.2068 - sparse_categorical_accuracy: 0.9209 - val_loss: 0.2694 - val_sparse_categorical_accuracy: 0.9087\n",
            "Epoch 284/300\n",
            "422/422 [==============================] - 12s 28ms/step - loss: 0.2082 - sparse_categorical_accuracy: 0.9200 - val_loss: 0.2682 - val_sparse_categorical_accuracy: 0.9088\n",
            "Epoch 285/300\n",
            "422/422 [==============================] - 12s 28ms/step - loss: 0.2029 - sparse_categorical_accuracy: 0.9211 - val_loss: 0.2706 - val_sparse_categorical_accuracy: 0.9070\n",
            "Epoch 286/300\n",
            "422/422 [==============================] - 11s 27ms/step - loss: 0.2049 - sparse_categorical_accuracy: 0.9212 - val_loss: 0.2709 - val_sparse_categorical_accuracy: 0.9087\n",
            "Epoch 287/300\n",
            "422/422 [==============================] - 11s 27ms/step - loss: 0.2041 - sparse_categorical_accuracy: 0.9202 - val_loss: 0.2684 - val_sparse_categorical_accuracy: 0.9095\n",
            "Epoch 288/300\n",
            "422/422 [==============================] - 12s 28ms/step - loss: 0.2036 - sparse_categorical_accuracy: 0.9211 - val_loss: 0.2688 - val_sparse_categorical_accuracy: 0.9095\n",
            "Epoch 289/300\n",
            "422/422 [==============================] - 12s 28ms/step - loss: 0.2009 - sparse_categorical_accuracy: 0.9216 - val_loss: 0.2733 - val_sparse_categorical_accuracy: 0.9083\n",
            "Epoch 290/300\n",
            "422/422 [==============================] - 12s 28ms/step - loss: 0.2010 - sparse_categorical_accuracy: 0.9233 - val_loss: 0.2740 - val_sparse_categorical_accuracy: 0.9083\n",
            "Epoch 291/300\n",
            "422/422 [==============================] - 12s 28ms/step - loss: 0.2052 - sparse_categorical_accuracy: 0.9204 - val_loss: 0.2696 - val_sparse_categorical_accuracy: 0.9098\n",
            "Epoch 292/300\n",
            "422/422 [==============================] - 12s 28ms/step - loss: 0.2039 - sparse_categorical_accuracy: 0.9220 - val_loss: 0.2700 - val_sparse_categorical_accuracy: 0.9088\n",
            "Epoch 293/300\n",
            "422/422 [==============================] - 12s 28ms/step - loss: 0.2040 - sparse_categorical_accuracy: 0.9204 - val_loss: 0.2675 - val_sparse_categorical_accuracy: 0.9093\n",
            "Epoch 294/300\n",
            "422/422 [==============================] - 12s 28ms/step - loss: 0.2035 - sparse_categorical_accuracy: 0.9203 - val_loss: 0.2680 - val_sparse_categorical_accuracy: 0.9088\n",
            "Epoch 295/300\n",
            "422/422 [==============================] - 11s 27ms/step - loss: 0.2052 - sparse_categorical_accuracy: 0.9203 - val_loss: 0.2706 - val_sparse_categorical_accuracy: 0.9078\n",
            "Epoch 296/300\n",
            "422/422 [==============================] - 11s 26ms/step - loss: 0.2002 - sparse_categorical_accuracy: 0.9222 - val_loss: 0.2682 - val_sparse_categorical_accuracy: 0.9077\n",
            "Epoch 297/300\n",
            "422/422 [==============================] - 12s 28ms/step - loss: 0.2032 - sparse_categorical_accuracy: 0.9212 - val_loss: 0.2705 - val_sparse_categorical_accuracy: 0.9072\n",
            "Epoch 298/300\n",
            "422/422 [==============================] - 12s 28ms/step - loss: 0.2056 - sparse_categorical_accuracy: 0.9205 - val_loss: 0.2695 - val_sparse_categorical_accuracy: 0.9068\n",
            "Epoch 299/300\n",
            "422/422 [==============================] - 12s 28ms/step - loss: 0.2048 - sparse_categorical_accuracy: 0.9207 - val_loss: 0.2672 - val_sparse_categorical_accuracy: 0.9067\n",
            "Epoch 300/300\n",
            "422/422 [==============================] - 12s 28ms/step - loss: 0.2030 - sparse_categorical_accuracy: 0.9205 - val_loss: 0.2699 - val_sparse_categorical_accuracy: 0.9080\n",
            "313/313 [==============================] - 1s 4ms/step - loss: 0.2915 - sparse_categorical_accuracy: 0.9007\n",
            "\n",
            "Test accuracy: 0.9006999731063843\n"
          ]
        }
      ]
    },
    {
      "cell_type": "code",
      "source": [
        "print('\\nhistory dict:', list(history.history.keys()))"
      ],
      "metadata": {
        "id": "CxRE-B_Q6Sii",
        "colab": {
          "base_uri": "https://localhost:8080/"
        },
        "outputId": "97566d9a-e2a5-4ddf-f816-fb39ac80ed37"
      },
      "execution_count": 125,
      "outputs": [
        {
          "output_type": "stream",
          "name": "stdout",
          "text": [
            "\n",
            "history dict: ['loss', 'sparse_categorical_accuracy', 'val_loss', 'val_sparse_categorical_accuracy']\n"
          ]
        }
      ]
    },
    {
      "cell_type": "code",
      "source": [
        "result = model.evaluate(x_test, y_test)\n",
        "print(result)"
      ],
      "metadata": {
        "id": "YXpwRRTvTBNg",
        "colab": {
          "base_uri": "https://localhost:8080/"
        },
        "outputId": "8c5b9a53-131f-44b4-a1c7-38b18eccc79a"
      },
      "execution_count": 126,
      "outputs": [
        {
          "output_type": "stream",
          "name": "stdout",
          "text": [
            "313/313 [==============================] - 1s 3ms/step - loss: 0.2915 - sparse_categorical_accuracy: 0.9007\n",
            "[0.29147693514823914, 0.9006999731063843]\n"
          ]
        }
      ]
    },
    {
      "cell_type": "code",
      "source": [
        "saved_model = load_model('best_model.h5')\n",
        "result = saved_model.evaluate(x_test, y_test)\n",
        "print(result)"
      ],
      "metadata": {
        "colab": {
          "base_uri": "https://localhost:8080/"
        },
        "id": "dpaZAW0vp1AZ",
        "outputId": "9d082606-28fd-4ab2-b2e5-ba6d03097b59"
      },
      "execution_count": 127,
      "outputs": [
        {
          "output_type": "stream",
          "name": "stdout",
          "text": [
            "313/313 [==============================] - 1s 3ms/step - loss: 0.2935 - sparse_categorical_accuracy: 0.9011\n",
            "[0.29347288608551025, 0.9010999798774719]\n"
          ]
        }
      ]
    },
    {
      "cell_type": "code",
      "source": [
        "# from keras.models import load_model\n",
        "# saved_model = load_model('best_model.h5')\n",
        "# # _, train_acc = saved_model.evaluate(x_train, y_train, verbose=0)\n",
        "# _, test_acc = saved_model.evaluate(x_test, y_test, verbose=0)\n",
        "# print('Test: %.3f' % (test_acc))"
      ],
      "metadata": {
        "id": "DR_MS9DABo_K"
      },
      "execution_count": 128,
      "outputs": []
    },
    {
      "cell_type": "code",
      "source": [
        "history_dict = history.history\n",
        "loss_values = history_dict['loss']\n",
        "val_loss_values = history_dict['val_loss']\n",
        "\n",
        "epochs = range(1, len(history_dict['loss']) + 1)\n",
        "\n",
        "plt.figure(figsize=(10, 5))\n",
        "plt.plot(epochs, loss_values, 'bo', label='Training loss')\n",
        "plt.plot(epochs, val_loss_values, 'r', label='Validation loss')\n",
        "plt.ylim (0.2, 0.5)\n",
        "plt.title('Training and validation loss')\n",
        "plt.xlabel('Epochs')\n",
        "plt.ylabel('Loss')\n",
        "plt.legend()\n",
        "plt.grid(True)\n",
        "plt.show()\n",
        "1\n",
        "plt.clf()\n",
        "plt.figure(figsize=(10, 5))\n",
        "val_acc_values = history_dict['sparse_categorical_accuracy']\n",
        "plt.plot(epochs, history_dict['sparse_categorical_accuracy'], 'bo', label='Training acc')\n",
        "plt.plot(epochs, history_dict['val_sparse_categorical_accuracy'], 'r', label='Validation acc')\n",
        "plt.ylim (0.88, 0.94)\n",
        "plt.title('Training and validation accuracy')\n",
        "plt.xlabel('Epochs')\n",
        "plt.ylabel('Accuracy')\n",
        "plt.legend()\n",
        "plt.grid(True)"
      ],
      "metadata": {
        "id": "2Ll_5sGlXKMH",
        "colab": {
          "base_uri": "https://localhost:8080/",
          "height": 975
        },
        "outputId": "2159b4a7-4eaf-4759-daf1-b388239abcf8"
      },
      "execution_count": 129,
      "outputs": [
        {
          "output_type": "display_data",
          "data": {
            "text/plain": [
              "<Figure size 1000x500 with 1 Axes>"
            ],
            "image/png": "[encoded data removed]"
          },
          "metadata": {}
        },
        {
          "output_type": "display_data",
          "data": {
            "text/plain": [
              "<Figure size 640x480 with 0 Axes>"
            ]
          },
          "metadata": {}
        },
        {
          "output_type": "display_data",
          "data": {
            "text/plain": [
              "<Figure size 1000x500 with 1 Axes>"
            ],
            "image/png": "[encoded data removed]"
          },
          "metadata": {}
        }
      ]
    },
    {
      "cell_type": "code",
      "source": [
        "probability_model = tf.keras.Sequential([model,\n",
        "                                         tf.keras.layers.Softmax()])"
      ],
      "metadata": {
        "id": "VzOdKAT_uV-f"
      },
      "execution_count": 130,
      "outputs": []
    },
    {
      "cell_type": "code",
      "source": [
        "predictions = probability_model.predict(x_test)"
      ],
      "metadata": {
        "id": "f4is3NFruYom",
        "colab": {
          "base_uri": "https://localhost:8080/"
        },
        "outputId": "83a95213-9f11-4c80-cf92-e35635db94be"
      },
      "execution_count": 131,
      "outputs": [
        {
          "output_type": "stream",
          "name": "stdout",
          "text": [
            "313/313 [==============================] - 2s 5ms/step\n"
          ]
        }
      ]
    },
    {
      "cell_type": "code",
      "source": [
        "predictions[0]"
      ],
      "metadata": {
        "id": "82cigvlZudz_",
        "colab": {
          "base_uri": "https://localhost:8080/"
        },
        "outputId": "9d188f3d-f9b6-43f2-b5ff-1ce68da69f41"
      },
      "execution_count": 132,
      "outputs": [
        {
          "output_type": "execute_result",
          "data": {
            "text/plain": [
              "array([0.08535699, 0.08535699, 0.08535699, 0.08535699, 0.08535699,\n",
              "       0.08535866, 0.08535699, 0.08549369, 0.08535699, 0.23164877],\n",
              "      dtype=float32)"
            ]
          },
          "metadata": {},
          "execution_count": 132
        }
      ]
    },
    {
      "cell_type": "code",
      "source": [
        "model.summary()"
      ],
      "metadata": {
        "id": "6RsQPHyYuNGe",
        "colab": {
          "base_uri": "https://localhost:8080/"
        },
        "outputId": "28d5b774-291b-4bac-b85d-8059f75837be"
      },
      "execution_count": 133,
      "outputs": [
        {
          "output_type": "stream",
          "name": "stdout",
          "text": [
            "Model: \"sequential_9\"\n",
            "_________________________________________________________________\n",
            " Layer (type)                Output Shape              Param #   \n",
            "=================================================================\n",
            " flatten_5 (Flatten)         (None, 784)               0         \n",
            "                                                                 \n",
            " dropout_20 (Dropout)        (None, 784)               0         \n",
            "                                                                 \n",
            " batch_normalization_15 (Ba  (None, 784)               3136      \n",
            " tchNormalization)                                               \n",
            "                                                                 \n",
            " dense_20 (Dense)            (None, 256)               200960    \n",
            "                                                                 \n",
            " dropout_21 (Dropout)        (None, 256)               0         \n",
            "                                                                 \n",
            " batch_normalization_16 (Ba  (None, 256)               1024      \n",
            " tchNormalization)                                               \n",
            "                                                                 \n",
            " dense_21 (Dense)            (None, 512)               131584    \n",
            "                                                                 \n",
            " dropout_22 (Dropout)        (None, 512)               0         \n",
            "                                                                 \n",
            " batch_normalization_17 (Ba  (None, 512)               2048      \n",
            " tchNormalization)                                               \n",
            "                                                                 \n",
            " dense_22 (Dense)            (None, 512)               262656    \n",
            "                                                                 \n",
            " dropout_23 (Dropout)        (None, 512)               0         \n",
            "                                                                 \n",
            " dense_23 (Dense)            (None, 10)                5130      \n",
            "                                                                 \n",
            "=================================================================\n",
            "Total params: 606538 (2.31 MB)\n",
            "Trainable params: 603434 (2.30 MB)\n",
            "Non-trainable params: 3104 (12.12 KB)\n",
            "_________________________________________________________________\n"
          ]
        }
      ]
    },
    {
      "cell_type": "code",
      "source": [
        "hnyetjn hrte()"
      ],
      "metadata": {
        "id": "S4hcxZttmp-0",
        "outputId": "005f64a9-2d89-4118-b21a-4756752fc361",
        "colab": {
          "base_uri": "https://localhost:8080/",
          "height": 143
        }
      },
      "execution_count": 134,
      "outputs": [
        {
          "output_type": "error",
          "ename": "SyntaxError",
          "evalue": "invalid syntax (<ipython-input-134-1a3818e70946>, line 1)",
          "traceback": [
            "\u001b[0;36m  File \u001b[0;32m\"<ipython-input-134-1a3818e70946>\"\u001b[0;36m, line \u001b[0;32m1\u001b[0m\n\u001b[0;31m    hnyetjn hrte()\u001b[0m\n\u001b[0m            ^\u001b[0m\n\u001b[0;31mSyntaxError\u001b[0m\u001b[0;31m:\u001b[0m invalid syntax\n"
          ]
        }
      ]
    }
  ]
}