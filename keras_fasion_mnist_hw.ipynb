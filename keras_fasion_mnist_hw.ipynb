{
  "nbformat": 4,
  "nbformat_minor": 0,
  "metadata": {
    "colab": {
      "provenance": [],
      "gpuType": "T4",
      "authorship_tag": "ABX9TyND+zrz//DuRDBM3MiJOoF4",
      "include_colab_link": true
    },
    "kernelspec": {
      "name": "python3",
      "display_name": "Python 3"
    },
    "language_info": {
      "name": "python"
    },
    "accelerator": "GPU"
  },
  "cells": [
    {
      "cell_type": "markdown",
      "metadata": {
        "id": "view-in-github",
        "colab_type": "text"
      },
      "source": [
        "<a href=\"https://colab.research.google.com/github/PavelStelmakhV/hw310-keras-fasion-mnist/blob/main/keras_fasion_mnist_hw.ipynb\" target=\"_parent\"><img src=\"https://colab.research.google.com/assets/colab-badge.svg\" alt=\"Open In Colab\"/></a>"
      ]
    },
    {
      "cell_type": "code",
      "execution_count": 108,
      "metadata": {
        "id": "vv7w0bgAVQPO"
      },
      "outputs": [],
      "source": [
        "import tensorflow as tf\n",
        "import numpy as np\n",
        "import matplotlib.pyplot as plt\n",
        "\n",
        "from keras import layers\n",
        "from keras import regularizers\n",
        "from keras import callbacks\n",
        "from keras import initializers\n",
        "from keras.layers import BatchNormalization"
      ]
    },
    {
      "cell_type": "code",
      "source": [
        "fashion_mnist = tf.keras.datasets.fashion_mnist\n",
        "\n",
        "(x_train, y_train), (x_test, y_test) = fashion_mnist.load_data()"
      ],
      "metadata": {
        "id": "mOpywsNAzfGB"
      },
      "execution_count": 109,
      "outputs": []
    },
    {
      "cell_type": "code",
      "source": [
        "# x_train = x_train.reshape(60000, 784).astype('float32') / 255\n",
        "# x_test = x_test.reshape(10000, 784).astype('float32') / 255\n",
        "x_train = x_train.astype('float32') / 255\n",
        "x_test = x_test.astype('float32') / 255\n",
        "\n",
        "y_train = y_train.astype('float32')\n",
        "y_test = y_test.astype('float32')\n",
        "\n",
        "# Перемешаем тренировочные данные\n",
        "# train_data = tf.data.Dataset.from_tensor_slices((x_train, y_train))\n",
        "# train_data = train_data.repeat().shuffle(5000).batch(batch_size).prefetch(1)"
      ],
      "metadata": {
        "id": "t2gucjsJ0KUi"
      },
      "execution_count": 110,
      "outputs": []
    },
    {
      "cell_type": "code",
      "source": [
        "x_val = x_train[-10000:]\n",
        "y_val = y_train[-10000:]\n",
        "x_train = x_train[:-10000]\n",
        "y_train = y_train[:-10000]"
      ],
      "metadata": {
        "id": "fLPNXab5dHwO"
      },
      "execution_count": 111,
      "outputs": []
    },
    {
      "cell_type": "code",
      "source": [],
      "metadata": {
        "id": "bU5TK5YdlnU5"
      },
      "execution_count": 111,
      "outputs": []
    },
    {
      "cell_type": "code",
      "source": [
        "w_init = initializers.glorot_normal()\n",
        "b_init = initializers.Zeros()"
      ],
      "metadata": {
        "id": "yL9QTEtBGy4N"
      },
      "execution_count": 112,
      "outputs": []
    },
    {
      "cell_type": "code",
      "source": [
        "model = tf.keras.Sequential()\n",
        "\n",
        "drop_out = 0.25\n",
        "lern_rat = 0.001\n",
        "neurons = 64\n",
        "\n",
        "model.add(layers.Flatten(input_shape=(28, 28)))\n",
        "model.add(layers.Dropout(0.35))\n",
        "\n",
        "model.add(layers.Dense(neurons * 1, activation='relu', kernel_initializer=w_init, bias_initializer=b_init)) #, kernel_regularizer=regularizers.l2(lern_rat)\n",
        "model.add(BatchNormalization())\n",
        "model.add(layers.Dropout(drop_out))\n",
        "model.add(layers.Dense(neurons * 2, activation='tanh'))\n",
        "model.add(BatchNormalization())\n",
        "model.add(layers.Dropout(drop_out))\n",
        "\n",
        "# model.add(layers.Dense(neurons * 4, activation='relu'))\n",
        "# model.add(BatchNormalization())\n",
        "# model.add(layers.Dropout(drop_out * 1.5))\n",
        "\n",
        "# model.add(layers.Dense(neurons * 2, activation='tanh'))\n",
        "# model.add(BatchNormalization())\n",
        "# model.add(layers.Dropout(drop_out * 2))\n",
        "\n",
        "model.add(layers.Dense(10, activation='softmax'))"
      ],
      "metadata": {
        "id": "atS39i4d0aqW"
      },
      "execution_count": 113,
      "outputs": []
    },
    {
      "cell_type": "code",
      "source": [],
      "metadata": {
        "id": "EzfnaqIZlfy8"
      },
      "execution_count": 113,
      "outputs": []
    },
    {
      "cell_type": "code",
      "source": [
        "model.compile(#optimizer='adam',\n",
        "              optimizer='adamax',\n",
        "              # optimizer='nadam',\n",
        "              # optimizer='rmsprop',\n",
        "              # optimizer='sgd',\n",
        "              # optimizer='adadelta',\n",
        "              # loss='binary_crossentropy',\n",
        "              loss=tf.keras.losses.SparseCategoricalCrossentropy(),\n",
        "              metrics=['sparse_categorical_accuracy']) # sparse_categorical_accuracy"
      ],
      "metadata": {
        "id": "hENVaAC7ilNY"
      },
      "execution_count": 114,
      "outputs": []
    },
    {
      "cell_type": "code",
      "source": [
        "x = np.random.random((1, 28, 28))\n",
        "a = model.predict(x)\n",
        "_ = plt.hist(np.transpose(a))"
      ],
      "metadata": {
        "id": "RFgZHNNFMa8p",
        "outputId": "7531e7f8-fcbe-4565-9802-8008ca3e56f4",
        "colab": {
          "base_uri": "https://localhost:8080/",
          "height": 448
        }
      },
      "execution_count": 115,
      "outputs": [
        {
          "output_type": "stream",
          "name": "stdout",
          "text": [
            "1/1 [==============================] - 0s 97ms/step\n"
          ]
        },
        {
          "output_type": "display_data",
          "data": {
            "text/plain": [
              "<Figure size 640x480 with 1 Axes>"
            ],
            "image/png": "[encoded data removed]"
          },
          "metadata": {}
        }
      ]
    },
    {
      "cell_type": "code",
      "source": [
        "y_pred = model.predict(x_test)"
      ],
      "metadata": {
        "id": "UDP8OKKZ8oQa",
        "outputId": "d1287f1c-d8d4-4e6f-d30c-68dcffc67066",
        "colab": {
          "base_uri": "https://localhost:8080/"
        }
      },
      "execution_count": 116,
      "outputs": [
        {
          "output_type": "stream",
          "name": "stdout",
          "text": [
            "313/313 [==============================] - 1s 2ms/step\n"
          ]
        }
      ]
    },
    {
      "cell_type": "code",
      "source": [
        "callback = callbacks.EarlyStopping(monitor='val_loss',\n",
        "                                   patience=50,\n",
        "                                   restore_best_weights=True,\n",
        "                                   )\n",
        "es = callbacks.EarlyStopping(monitor='val_loss', mode='min', verbose=1, patience=200)\n",
        "mc = callbacks.ModelCheckpoint('best_model.h5', monitor='val_accuracy', mode='max', verbose=1, save_best_only=True)\n"
      ],
      "metadata": {
        "id": "5ihU4exVlsjm"
      },
      "execution_count": 117,
      "outputs": []
    },
    {
      "cell_type": "code",
      "source": [
        "# model.fit(train_images, train_labels, epochs=20)\n",
        "history = model.fit(x_train, y_train,\n",
        "                    epochs=100,\n",
        "                    batch_size=64 ,\n",
        "                    callbacks=[callback],\n",
        "                    # callbacks=[es, mc],\n",
        "                    verbose=1, #многословие\n",
        "                    validation_data=(x_val, y_val))\n",
        "test_loss, test_acc = model.evaluate(x_test, y_test)\n",
        "print('\\nTest accuracy:', test_acc)"
      ],
      "metadata": {
        "id": "FH8HcMNm233I",
        "outputId": "508a6299-d399-4e58-bce0-9d6d4fd37ba2",
        "colab": {
          "base_uri": "https://localhost:8080/"
        }
      },
      "execution_count": 118,
      "outputs": [
        {
          "output_type": "stream",
          "name": "stdout",
          "text": [
            "Epoch 1/100\n",
            "782/782 [==============================] - 5s 5ms/step - loss: 0.9137 - sparse_categorical_accuracy: 0.6741 - val_loss: 0.5290 - val_sparse_categorical_accuracy: 0.8034\n",
            "Epoch 2/100\n",
            "782/782 [==============================] - 5s 6ms/step - loss: 0.6619 - sparse_categorical_accuracy: 0.7597 - val_loss: 0.4775 - val_sparse_categorical_accuracy: 0.8261\n",
            "Epoch 3/100\n",
            "782/782 [==============================] - 4s 5ms/step - loss: 0.5967 - sparse_categorical_accuracy: 0.7837 - val_loss: 0.4460 - val_sparse_categorical_accuracy: 0.8345\n",
            "Epoch 4/100\n",
            "782/782 [==============================] - 4s 5ms/step - loss: 0.5616 - sparse_categorical_accuracy: 0.7954 - val_loss: 0.4377 - val_sparse_categorical_accuracy: 0.8407\n",
            "Epoch 5/100\n",
            "782/782 [==============================] - 5s 6ms/step - loss: 0.5380 - sparse_categorical_accuracy: 0.8060 - val_loss: 0.4190 - val_sparse_categorical_accuracy: 0.8451\n",
            "Epoch 6/100\n",
            "782/782 [==============================] - 4s 5ms/step - loss: 0.5183 - sparse_categorical_accuracy: 0.8121 - val_loss: 0.4113 - val_sparse_categorical_accuracy: 0.8460\n",
            "Epoch 7/100\n",
            "782/782 [==============================] - 4s 5ms/step - loss: 0.5050 - sparse_categorical_accuracy: 0.8152 - val_loss: 0.4053 - val_sparse_categorical_accuracy: 0.8510\n",
            "Epoch 8/100\n",
            "782/782 [==============================] - 4s 6ms/step - loss: 0.4993 - sparse_categorical_accuracy: 0.8178 - val_loss: 0.3920 - val_sparse_categorical_accuracy: 0.8550\n",
            "Epoch 9/100\n",
            "782/782 [==============================] - 4s 5ms/step - loss: 0.4928 - sparse_categorical_accuracy: 0.8200 - val_loss: 0.4008 - val_sparse_categorical_accuracy: 0.8537\n",
            "Epoch 10/100\n",
            "782/782 [==============================] - 4s 5ms/step - loss: 0.4818 - sparse_categorical_accuracy: 0.8246 - val_loss: 0.3868 - val_sparse_categorical_accuracy: 0.8562\n",
            "Epoch 11/100\n",
            "782/782 [==============================] - 4s 4ms/step - loss: 0.4760 - sparse_categorical_accuracy: 0.8269 - val_loss: 0.3834 - val_sparse_categorical_accuracy: 0.8581\n",
            "Epoch 12/100\n",
            "782/782 [==============================] - 5s 6ms/step - loss: 0.4706 - sparse_categorical_accuracy: 0.8267 - val_loss: 0.3795 - val_sparse_categorical_accuracy: 0.8617\n",
            "Epoch 13/100\n",
            "782/782 [==============================] - 4s 4ms/step - loss: 0.4679 - sparse_categorical_accuracy: 0.8279 - val_loss: 0.3702 - val_sparse_categorical_accuracy: 0.8656\n",
            "Epoch 14/100\n",
            "782/782 [==============================] - 4s 5ms/step - loss: 0.4625 - sparse_categorical_accuracy: 0.8310 - val_loss: 0.3745 - val_sparse_categorical_accuracy: 0.8629\n",
            "Epoch 15/100\n",
            "782/782 [==============================] - 5s 6ms/step - loss: 0.4538 - sparse_categorical_accuracy: 0.8316 - val_loss: 0.3692 - val_sparse_categorical_accuracy: 0.8650\n",
            "Epoch 16/100\n",
            "782/782 [==============================] - 4s 5ms/step - loss: 0.4525 - sparse_categorical_accuracy: 0.8345 - val_loss: 0.3737 - val_sparse_categorical_accuracy: 0.8616\n",
            "Epoch 17/100\n",
            "782/782 [==============================] - 4s 5ms/step - loss: 0.4434 - sparse_categorical_accuracy: 0.8361 - val_loss: 0.3580 - val_sparse_categorical_accuracy: 0.8685\n",
            "Epoch 18/100\n",
            "782/782 [==============================] - 4s 5ms/step - loss: 0.4467 - sparse_categorical_accuracy: 0.8351 - val_loss: 0.3612 - val_sparse_categorical_accuracy: 0.8658\n",
            "Epoch 19/100\n",
            "782/782 [==============================] - 4s 5ms/step - loss: 0.4411 - sparse_categorical_accuracy: 0.8393 - val_loss: 0.3568 - val_sparse_categorical_accuracy: 0.8686\n",
            "Epoch 20/100\n",
            "782/782 [==============================] - 3s 4ms/step - loss: 0.4381 - sparse_categorical_accuracy: 0.8390 - val_loss: 0.3531 - val_sparse_categorical_accuracy: 0.8698\n",
            "Epoch 21/100\n",
            "782/782 [==============================] - 3s 4ms/step - loss: 0.4357 - sparse_categorical_accuracy: 0.8409 - val_loss: 0.3542 - val_sparse_categorical_accuracy: 0.8720\n",
            "Epoch 22/100\n",
            "782/782 [==============================] - 5s 6ms/step - loss: 0.4327 - sparse_categorical_accuracy: 0.8403 - val_loss: 0.3566 - val_sparse_categorical_accuracy: 0.8691\n",
            "Epoch 23/100\n",
            "782/782 [==============================] - 4s 4ms/step - loss: 0.4351 - sparse_categorical_accuracy: 0.8399 - val_loss: 0.3507 - val_sparse_categorical_accuracy: 0.8716\n",
            "Epoch 24/100\n",
            "782/782 [==============================] - 3s 4ms/step - loss: 0.4310 - sparse_categorical_accuracy: 0.8401 - val_loss: 0.3512 - val_sparse_categorical_accuracy: 0.8710\n",
            "Epoch 25/100\n",
            "782/782 [==============================] - 4s 5ms/step - loss: 0.4274 - sparse_categorical_accuracy: 0.8425 - val_loss: 0.3517 - val_sparse_categorical_accuracy: 0.8687\n",
            "Epoch 26/100\n",
            "782/782 [==============================] - 4s 5ms/step - loss: 0.4283 - sparse_categorical_accuracy: 0.8428 - val_loss: 0.3515 - val_sparse_categorical_accuracy: 0.8690\n",
            "Epoch 27/100\n",
            "782/782 [==============================] - 3s 4ms/step - loss: 0.4242 - sparse_categorical_accuracy: 0.8422 - val_loss: 0.3426 - val_sparse_categorical_accuracy: 0.8734\n",
            "Epoch 28/100\n",
            "782/782 [==============================] - 4s 5ms/step - loss: 0.4239 - sparse_categorical_accuracy: 0.8444 - val_loss: 0.3459 - val_sparse_categorical_accuracy: 0.8735\n",
            "Epoch 29/100\n",
            "782/782 [==============================] - 5s 6ms/step - loss: 0.4193 - sparse_categorical_accuracy: 0.8466 - val_loss: 0.3502 - val_sparse_categorical_accuracy: 0.8731\n",
            "Epoch 30/100\n",
            "782/782 [==============================] - 3s 4ms/step - loss: 0.4191 - sparse_categorical_accuracy: 0.8464 - val_loss: 0.3486 - val_sparse_categorical_accuracy: 0.8720\n",
            "Epoch 31/100\n",
            "782/782 [==============================] - 4s 5ms/step - loss: 0.4158 - sparse_categorical_accuracy: 0.8468 - val_loss: 0.3455 - val_sparse_categorical_accuracy: 0.8734\n",
            "Epoch 32/100\n",
            "782/782 [==============================] - 5s 6ms/step - loss: 0.4155 - sparse_categorical_accuracy: 0.8487 - val_loss: 0.3425 - val_sparse_categorical_accuracy: 0.8759\n",
            "Epoch 33/100\n",
            "782/782 [==============================] - 4s 5ms/step - loss: 0.4124 - sparse_categorical_accuracy: 0.8472 - val_loss: 0.3424 - val_sparse_categorical_accuracy: 0.8735\n",
            "Epoch 34/100\n",
            "782/782 [==============================] - 4s 4ms/step - loss: 0.4130 - sparse_categorical_accuracy: 0.8489 - val_loss: 0.3369 - val_sparse_categorical_accuracy: 0.8760\n",
            "Epoch 35/100\n",
            "782/782 [==============================] - 4s 5ms/step - loss: 0.4129 - sparse_categorical_accuracy: 0.8458 - val_loss: 0.3409 - val_sparse_categorical_accuracy: 0.8746\n",
            "Epoch 36/100\n",
            "782/782 [==============================] - 4s 5ms/step - loss: 0.4130 - sparse_categorical_accuracy: 0.8473 - val_loss: 0.3343 - val_sparse_categorical_accuracy: 0.8778\n",
            "Epoch 37/100\n",
            "782/782 [==============================] - 4s 5ms/step - loss: 0.4099 - sparse_categorical_accuracy: 0.8483 - val_loss: 0.3365 - val_sparse_categorical_accuracy: 0.8751\n",
            "Epoch 38/100\n",
            "782/782 [==============================] - 4s 5ms/step - loss: 0.4080 - sparse_categorical_accuracy: 0.8496 - val_loss: 0.3360 - val_sparse_categorical_accuracy: 0.8747\n",
            "Epoch 39/100\n",
            "782/782 [==============================] - 5s 6ms/step - loss: 0.4051 - sparse_categorical_accuracy: 0.8506 - val_loss: 0.3337 - val_sparse_categorical_accuracy: 0.8788\n",
            "Epoch 40/100\n",
            "782/782 [==============================] - 4s 5ms/step - loss: 0.4060 - sparse_categorical_accuracy: 0.8514 - val_loss: 0.3342 - val_sparse_categorical_accuracy: 0.8766\n",
            "Epoch 41/100\n",
            "782/782 [==============================] - 4s 5ms/step - loss: 0.4087 - sparse_categorical_accuracy: 0.8481 - val_loss: 0.3348 - val_sparse_categorical_accuracy: 0.8787\n",
            "Epoch 42/100\n",
            "782/782 [==============================] - 4s 6ms/step - loss: 0.4040 - sparse_categorical_accuracy: 0.8493 - val_loss: 0.3298 - val_sparse_categorical_accuracy: 0.8774\n",
            "Epoch 43/100\n",
            "782/782 [==============================] - 4s 5ms/step - loss: 0.4004 - sparse_categorical_accuracy: 0.8519 - val_loss: 0.3316 - val_sparse_categorical_accuracy: 0.8794\n",
            "Epoch 44/100\n",
            "782/782 [==============================] - 4s 5ms/step - loss: 0.4061 - sparse_categorical_accuracy: 0.8494 - val_loss: 0.3363 - val_sparse_categorical_accuracy: 0.8769\n",
            "Epoch 45/100\n",
            "782/782 [==============================] - 4s 5ms/step - loss: 0.4025 - sparse_categorical_accuracy: 0.8507 - val_loss: 0.3319 - val_sparse_categorical_accuracy: 0.8783\n",
            "Epoch 46/100\n",
            "782/782 [==============================] - 4s 6ms/step - loss: 0.4028 - sparse_categorical_accuracy: 0.8508 - val_loss: 0.3318 - val_sparse_categorical_accuracy: 0.8776\n",
            "Epoch 47/100\n",
            "782/782 [==============================] - 4s 5ms/step - loss: 0.4033 - sparse_categorical_accuracy: 0.8508 - val_loss: 0.3338 - val_sparse_categorical_accuracy: 0.8774\n",
            "Epoch 48/100\n",
            "782/782 [==============================] - 4s 5ms/step - loss: 0.3989 - sparse_categorical_accuracy: 0.8530 - val_loss: 0.3317 - val_sparse_categorical_accuracy: 0.8791\n",
            "Epoch 49/100\n",
            "782/782 [==============================] - 5s 6ms/step - loss: 0.4008 - sparse_categorical_accuracy: 0.8520 - val_loss: 0.3311 - val_sparse_categorical_accuracy: 0.8789\n",
            "Epoch 50/100\n",
            "782/782 [==============================] - 4s 5ms/step - loss: 0.3991 - sparse_categorical_accuracy: 0.8513 - val_loss: 0.3358 - val_sparse_categorical_accuracy: 0.8773\n",
            "Epoch 51/100\n",
            "782/782 [==============================] - 4s 5ms/step - loss: 0.3960 - sparse_categorical_accuracy: 0.8535 - val_loss: 0.3287 - val_sparse_categorical_accuracy: 0.8792\n",
            "Epoch 52/100\n",
            "782/782 [==============================] - 5s 6ms/step - loss: 0.3934 - sparse_categorical_accuracy: 0.8540 - val_loss: 0.3312 - val_sparse_categorical_accuracy: 0.8794\n",
            "Epoch 53/100\n",
            "782/782 [==============================] - 4s 5ms/step - loss: 0.3976 - sparse_categorical_accuracy: 0.8516 - val_loss: 0.3288 - val_sparse_categorical_accuracy: 0.8782\n",
            "Epoch 54/100\n",
            "782/782 [==============================] - 4s 5ms/step - loss: 0.3959 - sparse_categorical_accuracy: 0.8543 - val_loss: 0.3319 - val_sparse_categorical_accuracy: 0.8761\n",
            "Epoch 55/100\n",
            "782/782 [==============================] - 4s 5ms/step - loss: 0.3939 - sparse_categorical_accuracy: 0.8537 - val_loss: 0.3250 - val_sparse_categorical_accuracy: 0.8796\n",
            "Epoch 56/100\n",
            "782/782 [==============================] - 5s 6ms/step - loss: 0.3961 - sparse_categorical_accuracy: 0.8516 - val_loss: 0.3238 - val_sparse_categorical_accuracy: 0.8814\n",
            "Epoch 57/100\n",
            "782/782 [==============================] - 4s 5ms/step - loss: 0.3952 - sparse_categorical_accuracy: 0.8526 - val_loss: 0.3264 - val_sparse_categorical_accuracy: 0.8803\n",
            "Epoch 58/100\n",
            "782/782 [==============================] - 4s 5ms/step - loss: 0.3947 - sparse_categorical_accuracy: 0.8521 - val_loss: 0.3312 - val_sparse_categorical_accuracy: 0.8779\n",
            "Epoch 59/100\n",
            "782/782 [==============================] - 5s 6ms/step - loss: 0.3942 - sparse_categorical_accuracy: 0.8532 - val_loss: 0.3265 - val_sparse_categorical_accuracy: 0.8792\n",
            "Epoch 60/100\n",
            "782/782 [==============================] - 3s 4ms/step - loss: 0.3925 - sparse_categorical_accuracy: 0.8551 - val_loss: 0.3231 - val_sparse_categorical_accuracy: 0.8803\n",
            "Epoch 61/100\n",
            "782/782 [==============================] - 4s 5ms/step - loss: 0.3913 - sparse_categorical_accuracy: 0.8550 - val_loss: 0.3248 - val_sparse_categorical_accuracy: 0.8816\n",
            "Epoch 62/100\n",
            "782/782 [==============================] - 4s 6ms/step - loss: 0.3895 - sparse_categorical_accuracy: 0.8549 - val_loss: 0.3209 - val_sparse_categorical_accuracy: 0.8820\n",
            "Epoch 63/100\n",
            "782/782 [==============================] - 4s 5ms/step - loss: 0.3906 - sparse_categorical_accuracy: 0.8544 - val_loss: 0.3272 - val_sparse_categorical_accuracy: 0.8796\n",
            "Epoch 64/100\n",
            "782/782 [==============================] - 4s 5ms/step - loss: 0.3873 - sparse_categorical_accuracy: 0.8557 - val_loss: 0.3277 - val_sparse_categorical_accuracy: 0.8782\n",
            "Epoch 65/100\n",
            "782/782 [==============================] - 4s 5ms/step - loss: 0.3888 - sparse_categorical_accuracy: 0.8565 - val_loss: 0.3238 - val_sparse_categorical_accuracy: 0.8820\n",
            "Epoch 66/100\n",
            "782/782 [==============================] - 5s 6ms/step - loss: 0.3905 - sparse_categorical_accuracy: 0.8524 - val_loss: 0.3217 - val_sparse_categorical_accuracy: 0.8813\n",
            "Epoch 67/100\n",
            "782/782 [==============================] - 4s 5ms/step - loss: 0.3877 - sparse_categorical_accuracy: 0.8553 - val_loss: 0.3243 - val_sparse_categorical_accuracy: 0.8776\n",
            "Epoch 68/100\n",
            "782/782 [==============================] - 4s 5ms/step - loss: 0.3849 - sparse_categorical_accuracy: 0.8573 - val_loss: 0.3210 - val_sparse_categorical_accuracy: 0.8812\n",
            "Epoch 69/100\n",
            "782/782 [==============================] - 5s 6ms/step - loss: 0.3856 - sparse_categorical_accuracy: 0.8561 - val_loss: 0.3198 - val_sparse_categorical_accuracy: 0.8827\n",
            "Epoch 70/100\n",
            "782/782 [==============================] - 4s 5ms/step - loss: 0.3862 - sparse_categorical_accuracy: 0.8574 - val_loss: 0.3222 - val_sparse_categorical_accuracy: 0.8816\n",
            "Epoch 71/100\n",
            "782/782 [==============================] - 4s 5ms/step - loss: 0.3813 - sparse_categorical_accuracy: 0.8568 - val_loss: 0.3207 - val_sparse_categorical_accuracy: 0.8825\n",
            "Epoch 72/100\n",
            "782/782 [==============================] - 5s 6ms/step - loss: 0.3858 - sparse_categorical_accuracy: 0.8569 - val_loss: 0.3214 - val_sparse_categorical_accuracy: 0.8824\n",
            "Epoch 73/100\n",
            "782/782 [==============================] - 4s 5ms/step - loss: 0.3857 - sparse_categorical_accuracy: 0.8565 - val_loss: 0.3199 - val_sparse_categorical_accuracy: 0.8813\n",
            "Epoch 74/100\n",
            "782/782 [==============================] - 4s 5ms/step - loss: 0.3827 - sparse_categorical_accuracy: 0.8568 - val_loss: 0.3195 - val_sparse_categorical_accuracy: 0.8818\n",
            "Epoch 75/100\n",
            "782/782 [==============================] - 4s 5ms/step - loss: 0.3845 - sparse_categorical_accuracy: 0.8568 - val_loss: 0.3206 - val_sparse_categorical_accuracy: 0.8799\n",
            "Epoch 76/100\n",
            "782/782 [==============================] - 4s 6ms/step - loss: 0.3850 - sparse_categorical_accuracy: 0.8565 - val_loss: 0.3186 - val_sparse_categorical_accuracy: 0.8829\n",
            "Epoch 77/100\n",
            "782/782 [==============================] - 4s 5ms/step - loss: 0.3863 - sparse_categorical_accuracy: 0.8564 - val_loss: 0.3177 - val_sparse_categorical_accuracy: 0.8830\n",
            "Epoch 78/100\n",
            "782/782 [==============================] - 4s 5ms/step - loss: 0.3853 - sparse_categorical_accuracy: 0.8562 - val_loss: 0.3216 - val_sparse_categorical_accuracy: 0.8797\n",
            "Epoch 79/100\n",
            "782/782 [==============================] - 5s 6ms/step - loss: 0.3851 - sparse_categorical_accuracy: 0.8554 - val_loss: 0.3181 - val_sparse_categorical_accuracy: 0.8809\n",
            "Epoch 80/100\n",
            "782/782 [==============================] - 4s 5ms/step - loss: 0.3878 - sparse_categorical_accuracy: 0.8554 - val_loss: 0.3228 - val_sparse_categorical_accuracy: 0.8792\n",
            "Epoch 81/100\n",
            "782/782 [==============================] - 4s 5ms/step - loss: 0.3842 - sparse_categorical_accuracy: 0.8588 - val_loss: 0.3235 - val_sparse_categorical_accuracy: 0.8795\n",
            "Epoch 82/100\n",
            "782/782 [==============================] - 5s 6ms/step - loss: 0.3786 - sparse_categorical_accuracy: 0.8579 - val_loss: 0.3138 - val_sparse_categorical_accuracy: 0.8842\n",
            "Epoch 83/100\n",
            "782/782 [==============================] - 4s 5ms/step - loss: 0.3800 - sparse_categorical_accuracy: 0.8605 - val_loss: 0.3172 - val_sparse_categorical_accuracy: 0.8832\n",
            "Epoch 84/100\n",
            "782/782 [==============================] - 4s 5ms/step - loss: 0.3783 - sparse_categorical_accuracy: 0.8595 - val_loss: 0.3157 - val_sparse_categorical_accuracy: 0.8837\n",
            "Epoch 85/100\n",
            "782/782 [==============================] - 4s 5ms/step - loss: 0.3790 - sparse_categorical_accuracy: 0.8609 - val_loss: 0.3170 - val_sparse_categorical_accuracy: 0.8827\n",
            "Epoch 86/100\n",
            "782/782 [==============================] - 5s 6ms/step - loss: 0.3804 - sparse_categorical_accuracy: 0.8581 - val_loss: 0.3189 - val_sparse_categorical_accuracy: 0.8819\n",
            "Epoch 87/100\n",
            "782/782 [==============================] - 4s 5ms/step - loss: 0.3786 - sparse_categorical_accuracy: 0.8609 - val_loss: 0.3158 - val_sparse_categorical_accuracy: 0.8848\n",
            "Epoch 88/100\n",
            "782/782 [==============================] - 3s 4ms/step - loss: 0.3789 - sparse_categorical_accuracy: 0.8602 - val_loss: 0.3174 - val_sparse_categorical_accuracy: 0.8808\n",
            "Epoch 89/100\n",
            "782/782 [==============================] - 5s 6ms/step - loss: 0.3789 - sparse_categorical_accuracy: 0.8592 - val_loss: 0.3185 - val_sparse_categorical_accuracy: 0.8833\n",
            "Epoch 90/100\n",
            "782/782 [==============================] - 3s 4ms/step - loss: 0.3773 - sparse_categorical_accuracy: 0.8604 - val_loss: 0.3143 - val_sparse_categorical_accuracy: 0.8844\n",
            "Epoch 91/100\n",
            "782/782 [==============================] - 4s 5ms/step - loss: 0.3780 - sparse_categorical_accuracy: 0.8579 - val_loss: 0.3139 - val_sparse_categorical_accuracy: 0.8854\n",
            "Epoch 92/100\n",
            "782/782 [==============================] - 4s 5ms/step - loss: 0.3755 - sparse_categorical_accuracy: 0.8605 - val_loss: 0.3175 - val_sparse_categorical_accuracy: 0.8823\n",
            "Epoch 93/100\n",
            "782/782 [==============================] - 4s 6ms/step - loss: 0.3794 - sparse_categorical_accuracy: 0.8603 - val_loss: 0.3120 - val_sparse_categorical_accuracy: 0.8845\n",
            "Epoch 94/100\n",
            "782/782 [==============================] - 4s 5ms/step - loss: 0.3799 - sparse_categorical_accuracy: 0.8600 - val_loss: 0.3140 - val_sparse_categorical_accuracy: 0.8823\n",
            "Epoch 95/100\n",
            "782/782 [==============================] - 4s 5ms/step - loss: 0.3751 - sparse_categorical_accuracy: 0.8610 - val_loss: 0.3156 - val_sparse_categorical_accuracy: 0.8821\n",
            "Epoch 96/100\n",
            "782/782 [==============================] - 5s 6ms/step - loss: 0.3775 - sparse_categorical_accuracy: 0.8604 - val_loss: 0.3152 - val_sparse_categorical_accuracy: 0.8837\n",
            "Epoch 97/100\n",
            "782/782 [==============================] - 4s 5ms/step - loss: 0.3740 - sparse_categorical_accuracy: 0.8605 - val_loss: 0.3157 - val_sparse_categorical_accuracy: 0.8832\n",
            "Epoch 98/100\n",
            "782/782 [==============================] - 4s 4ms/step - loss: 0.3768 - sparse_categorical_accuracy: 0.8599 - val_loss: 0.3138 - val_sparse_categorical_accuracy: 0.8830\n",
            "Epoch 99/100\n",
            "782/782 [==============================] - 5s 6ms/step - loss: 0.3754 - sparse_categorical_accuracy: 0.8620 - val_loss: 0.3205 - val_sparse_categorical_accuracy: 0.8820\n",
            "Epoch 100/100\n",
            "782/782 [==============================] - 4s 5ms/step - loss: 0.3724 - sparse_categorical_accuracy: 0.8608 - val_loss: 0.3119 - val_sparse_categorical_accuracy: 0.8851\n",
            "313/313 [==============================] - 1s 2ms/step - loss: 0.3361 - sparse_categorical_accuracy: 0.8764\n",
            "\n",
            "Test accuracy: 0.8763999938964844\n"
          ]
        }
      ]
    },
    {
      "cell_type": "code",
      "source": [
        "print('\\nhistory dict:', list(history.history.keys()))"
      ],
      "metadata": {
        "id": "CxRE-B_Q6Sii",
        "colab": {
          "base_uri": "https://localhost:8080/"
        },
        "outputId": "3406b551-0b68-4171-bdf1-2a4ac5d5dc28"
      },
      "execution_count": 119,
      "outputs": [
        {
          "output_type": "stream",
          "name": "stdout",
          "text": [
            "\n",
            "history dict: ['loss', 'sparse_categorical_accuracy', 'val_loss', 'val_sparse_categorical_accuracy']\n"
          ]
        }
      ]
    },
    {
      "cell_type": "code",
      "source": [
        "result = model.evaluate(x_test, y_test)\n",
        "print(result)"
      ],
      "metadata": {
        "id": "YXpwRRTvTBNg",
        "colab": {
          "base_uri": "https://localhost:8080/"
        },
        "outputId": "39da4d0e-245a-454f-a27d-763dea739dba"
      },
      "execution_count": 120,
      "outputs": [
        {
          "output_type": "stream",
          "name": "stdout",
          "text": [
            "313/313 [==============================] - 1s 2ms/step - loss: 0.3361 - sparse_categorical_accuracy: 0.8764\n",
            "[0.3360990881919861, 0.8763999938964844]\n"
          ]
        }
      ]
    },
    {
      "cell_type": "code",
      "source": [
        "# from keras.models import load_model\n",
        "# saved_model = load_model('best_model.h5')\n",
        "# # _, train_acc = saved_model.evaluate(x_train, y_train, verbose=0)\n",
        "# _, test_acc = saved_model.evaluate(x_test, y_test, verbose=0)\n",
        "# print('Test: %.3f' % (test_acc))"
      ],
      "metadata": {
        "id": "DR_MS9DABo_K"
      },
      "execution_count": 121,
      "outputs": []
    },
    {
      "cell_type": "code",
      "source": [
        "history_dict = history.history\n",
        "loss_values = history_dict['loss']\n",
        "val_loss_values = history_dict['val_loss']\n",
        "\n",
        "epochs = range(1, len(history_dict['loss']) + 1)\n",
        "\n",
        "plt.figure(figsize=(10, 5))\n",
        "plt.plot(epochs, loss_values, 'bo', label='Training loss')\n",
        "plt.plot(epochs, val_loss_values, 'r', label='Validation loss')\n",
        "plt.title('Training and validation loss')\n",
        "plt.xlabel('Epochs')\n",
        "plt.ylabel('Loss')\n",
        "# plt.legend()\n",
        "plt.grid(True)\n",
        "plt.show()\n",
        "\n",
        "plt.clf()\n",
        "plt.figure(figsize=(10, 5))\n",
        "val_acc_values = history_dict['sparse_categorical_accuracy']\n",
        "plt.plot(epochs, history_dict['sparse_categorical_accuracy'], 'bo', label='Training acc')\n",
        "plt.plot(epochs, history_dict['val_sparse_categorical_accuracy'], 'r', label='Validation acc')\n",
        "plt.title('Training and validation accuracy')\n",
        "plt.xlabel('Epochs')\n",
        "plt.ylabel('Accuracy')\n",
        "plt.legend()\n",
        "plt.grid(True)"
      ],
      "metadata": {
        "id": "2Ll_5sGlXKMH",
        "colab": {
          "base_uri": "https://localhost:8080/",
          "height": 975
        },
        "outputId": "31dcb64d-c8b0-4829-b917-05f1ba06bd8a"
      },
      "execution_count": 122,
      "outputs": [
        {
          "output_type": "display_data",
          "data": {
            "text/plain": [
              "<Figure size 1000x500 with 1 Axes>"
            ],
            "image/png": "[encoded data removed]"
          },
          "metadata": {}
        },
        {
          "output_type": "display_data",
          "data": {
            "text/plain": [
              "<Figure size 640x480 with 0 Axes>"
            ]
          },
          "metadata": {}
        },
        {
          "output_type": "display_data",
          "data": {
            "text/plain": [
              "<Figure size 1000x500 with 1 Axes>"
            ],
            "image/png": "[encoded data removed]"
          },
          "metadata": {}
        }
      ]
    },
    {
      "cell_type": "code",
      "source": [
        "probability_model = tf.keras.Sequential([model,\n",
        "                                         tf.keras.layers.Softmax()])"
      ],
      "metadata": {
        "id": "VzOdKAT_uV-f"
      },
      "execution_count": 123,
      "outputs": []
    },
    {
      "cell_type": "code",
      "source": [
        "predictions = probability_model.predict(x_test)"
      ],
      "metadata": {
        "id": "f4is3NFruYom",
        "colab": {
          "base_uri": "https://localhost:8080/"
        },
        "outputId": "d7b1c67b-48b9-4ab4-875f-88c57abfcd42"
      },
      "execution_count": 124,
      "outputs": [
        {
          "output_type": "stream",
          "name": "stdout",
          "text": [
            "313/313 [==============================] - 1s 2ms/step\n"
          ]
        }
      ]
    },
    {
      "cell_type": "code",
      "source": [
        "predictions[0]"
      ],
      "metadata": {
        "id": "82cigvlZudz_",
        "colab": {
          "base_uri": "https://localhost:8080/"
        },
        "outputId": "cfc26f2f-df25-45f2-a7c3-2201bb29079d"
      },
      "execution_count": 125,
      "outputs": [
        {
          "output_type": "execute_result",
          "data": {
            "text/plain": [
              "array([0.08621249, 0.08621237, 0.08621258, 0.08621255, 0.08621258,\n",
              "       0.08768643, 0.08621276, 0.09132996, 0.08621275, 0.21749543],\n",
              "      dtype=float32)"
            ]
          },
          "metadata": {},
          "execution_count": 125
        }
      ]
    },
    {
      "cell_type": "code",
      "source": [
        "model.summary()"
      ],
      "metadata": {
        "id": "6RsQPHyYuNGe",
        "colab": {
          "base_uri": "https://localhost:8080/"
        },
        "outputId": "84deaab6-5592-4e37-c67b-9990075bf07c"
      },
      "execution_count": 126,
      "outputs": [
        {
          "output_type": "stream",
          "name": "stdout",
          "text": [
            "Model: \"sequential_11\"\n",
            "_________________________________________________________________\n",
            " Layer (type)                Output Shape              Param #   \n",
            "=================================================================\n",
            " flatten_6 (Flatten)         (None, 784)               0         \n",
            "                                                                 \n",
            " dropout_17 (Dropout)        (None, 784)               0         \n",
            "                                                                 \n",
            " dense_22 (Dense)            (None, 64)                50240     \n",
            "                                                                 \n",
            " batch_normalization_16 (Ba  (None, 64)                256       \n",
            " tchNormalization)                                               \n",
            "                                                                 \n",
            " dropout_18 (Dropout)        (None, 64)                0         \n",
            "                                                                 \n",
            " dense_23 (Dense)            (None, 128)               8320      \n",
            "                                                                 \n",
            " batch_normalization_17 (Ba  (None, 128)               512       \n",
            " tchNormalization)                                               \n",
            "                                                                 \n",
            " dropout_19 (Dropout)        (None, 128)               0         \n",
            "                                                                 \n",
            " dense_24 (Dense)            (None, 10)                1290      \n",
            "                                                                 \n",
            "=================================================================\n",
            "Total params: 60618 (236.79 KB)\n",
            "Trainable params: 60234 (235.29 KB)\n",
            "Non-trainable params: 384 (1.50 KB)\n",
            "_________________________________________________________________\n"
          ]
        }
      ]
    }
  ]
}