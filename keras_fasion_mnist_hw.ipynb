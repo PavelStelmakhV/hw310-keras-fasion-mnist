{
  "nbformat": 4,
  "nbformat_minor": 0,
  "metadata": {
    "colab": {
      "provenance": [],
      "gpuType": "T4",
      "authorship_tag": "ABX9TyPztLb5MkSlE/KYVQz9ccCk",
      "include_colab_link": true
    },
    "kernelspec": {
      "name": "python3",
      "display_name": "Python 3"
    },
    "language_info": {
      "name": "python"
    },
    "accelerator": "GPU"
  },
  "cells": [
    {
      "cell_type": "markdown",
      "metadata": {
        "id": "view-in-github",
        "colab_type": "text"
      },
      "source": [
        "<a href=\"https://colab.research.google.com/github/PavelStelmakhV/hw310-keras-fasion-mnist/blob/main/keras_fasion_mnist_hw.ipynb\" target=\"_parent\"><img src=\"https://colab.research.google.com/assets/colab-badge.svg\" alt=\"Open In Colab\"/></a>"
      ]
    },
    {
      "cell_type": "code",
      "execution_count": 283,
      "metadata": {
        "id": "vv7w0bgAVQPO"
      },
      "outputs": [],
      "source": [
        "import tensorflow as tf\n",
        "import numpy as np\n",
        "import matplotlib.pyplot as plt\n",
        "import tf_keras\n",
        "\n",
        "from keras import layers\n",
        "from keras import regularizers\n",
        "from keras import callbacks\n",
        "from keras import initializers\n",
        "from keras.layers import BatchNormalization\n",
        "from keras.models import load_model"
      ]
    },
    {
      "cell_type": "code",
      "source": [
        "fashion_mnist = tf.keras.datasets.fashion_mnist\n",
        "\n",
        "(x_train, y_train), (x_test, y_test) = fashion_mnist.load_data()"
      ],
      "metadata": {
        "id": "mOpywsNAzfGB"
      },
      "execution_count": 284,
      "outputs": []
    },
    {
      "cell_type": "code",
      "source": [
        "# x_train = x_train.reshape(60000, 784).astype('float32') / 255\n",
        "# x_test = x_test.reshape(10000, 784).astype('float32') / 255\n",
        "x_train = x_train.astype('float32') / 255\n",
        "x_test = x_test.astype('float32') / 255\n",
        "\n",
        "y_train = y_train.astype('float32')\n",
        "y_test = y_test.astype('float32')\n",
        "\n",
        "# Перемешаем тренировочные данные\n",
        "# train_data = tf.data.Dataset.from_tensor_slices((x_train, y_train))\n",
        "# train_data = train_data.repeat().shuffle(5000).batch(batch_size).prefetch(1)"
      ],
      "metadata": {
        "id": "t2gucjsJ0KUi"
      },
      "execution_count": 285,
      "outputs": []
    },
    {
      "cell_type": "code",
      "source": [
        "# x_val = x_train[-10000:]\n",
        "# y_val = y_train[-10000:]\n",
        "# x_train = x_train[:-10000]\n",
        "# y_train = y_train[:-10000]"
      ],
      "metadata": {
        "id": "fLPNXab5dHwO"
      },
      "execution_count": 286,
      "outputs": []
    },
    {
      "cell_type": "code",
      "source": [],
      "metadata": {
        "id": "bU5TK5YdlnU5"
      },
      "execution_count": 286,
      "outputs": []
    },
    {
      "cell_type": "code",
      "source": [
        "w_init_tanh = initializers.glorot_normal(seed=42)\n",
        "w_init_relu = initializers.HeNormal(seed=42)\n",
        "b_init = initializers.Zeros()"
      ],
      "metadata": {
        "id": "yL9QTEtBGy4N"
      },
      "execution_count": 287,
      "outputs": []
    },
    {
      "cell_type": "code",
      "source": [
        "def layer_relu(model, neurons):\n",
        "  model.add(BatchNormalization())\n",
        "  model.add(layers.Dense(neurons,\n",
        "                       activation='relu',\n",
        "                       kernel_initializer=w_init_relu,\n",
        "                       bias_initializer=b_init))\n",
        "  model.add(layers.Dropout(drop_out))\n",
        "  return model"
      ],
      "metadata": {
        "id": "ZZgs_25rKBCp"
      },
      "execution_count": 288,
      "outputs": []
    },
    {
      "cell_type": "code",
      "source": [
        "def layer_tanh(model, neurons):\n",
        "  model.add(BatchNormalization())\n",
        "  model.add(layers.Dense(neurons,\n",
        "                        activation='tanh',\n",
        "                        kernel_initializer=w_init_tanh,\n",
        "                        bias_initializer=b_init))\n",
        "  model.add(layers.Dropout(drop_out))\n",
        "  return model"
      ],
      "metadata": {
        "id": "90JLLnkBR50t"
      },
      "execution_count": 289,
      "outputs": []
    },
    {
      "cell_type": "code",
      "source": [],
      "metadata": {
        "id": "Va9BaQ9eG_uz"
      },
      "execution_count": 289,
      "outputs": []
    },
    {
      "cell_type": "code",
      "source": [
        "model = tf.keras.Sequential()\n",
        "\n",
        "drop_out = 0.30\n",
        "neurons = 256\n",
        "\n",
        "model.add(layers.Flatten(input_shape=(28, 28)))\n",
        "model.add(layers.Dropout(drop_out))\n",
        "\n",
        "model = layer_relu(model, neurons*1)\n",
        "# model = layer_tanh(model, neurons*1)\n",
        "model = layer_tanh(model, neurons*2)\n",
        "model = layer_relu(model, neurons*2)\n",
        "\n",
        "model.add(layers.Dense(10, activation='softmax'))"
      ],
      "metadata": {
        "id": "atS39i4d0aqW"
      },
      "execution_count": 290,
      "outputs": []
    },
    {
      "cell_type": "markdown",
      "source": [
        "++++++++++++++++++++++++++++++++++++++++++++++++++++++++++++++++++++++++++++++++++++++++++++++++++++++++++++++++"
      ],
      "metadata": {
        "id": "tZO7hl7pM63y"
      }
    },
    {
      "cell_type": "code",
      "source": [
        "optimizer = tf.keras.optimizers.Nadam(learning_rate=0.0006,\n",
        "                                      beta_1=0.3,\n",
        "                                      beta_2=0.99999,\n",
        "                                      epsilon=1e-08\n",
        ")"
      ],
      "metadata": {
        "id": "EzfnaqIZlfy8"
      },
      "execution_count": 291,
      "outputs": []
    },
    {
      "cell_type": "markdown",
      "source": [
        "++++++++++++++++++++++++++++++++++++++++++++++++++++++++++++++++++++++++++++++++++++++++++++++++++++++++++++++++"
      ],
      "metadata": {
        "id": "KHmBptvOM95Z"
      }
    },
    {
      "cell_type": "code",
      "source": [
        "model.compile(#optimizer='adam',\n",
        "              # optimizer='adamax',\n",
        "              optimizer=optimizer,\n",
        "              # optimizer='rmsprop',\n",
        "              # optimizer='sgd',\n",
        "              # optimizer='adadelta',\n",
        "              # loss='binary_crossentropy',\n",
        "              loss=tf.keras.losses.SparseCategoricalCrossentropy(),\n",
        "              metrics=['sparse_categorical_accuracy']) # sparse_categorical_accuracy"
      ],
      "metadata": {
        "id": "hENVaAC7ilNY"
      },
      "execution_count": 292,
      "outputs": []
    },
    {
      "cell_type": "code",
      "source": [
        "x = np.random.random((1, 28, 28))\n",
        "a = model.predict(x)\n",
        "_ = plt.hist(np.transpose(a))"
      ],
      "metadata": {
        "id": "RFgZHNNFMa8p",
        "outputId": "fb70610a-749d-4a57-d268-12fbc1265265",
        "colab": {
          "base_uri": "https://localhost:8080/",
          "height": 448
        }
      },
      "execution_count": 293,
      "outputs": [
        {
          "output_type": "stream",
          "name": "stdout",
          "text": [
            "1/1 [==============================] - 0s 100ms/step\n"
          ]
        },
        {
          "output_type": "display_data",
          "data": {
            "text/plain": [
              "<Figure size 640x480 with 1 Axes>"
            ],
            "image/png": "[encoded data removed]"
          },
          "metadata": {}
        }
      ]
    },
    {
      "cell_type": "code",
      "source": [
        "y_pred = model.predict(x_test)"
      ],
      "metadata": {
        "id": "UDP8OKKZ8oQa",
        "outputId": "79f596e0-f4a2-45b9-f7bb-fc4c9ec1309c",
        "colab": {
          "base_uri": "https://localhost:8080/"
        }
      },
      "execution_count": 294,
      "outputs": [
        {
          "output_type": "stream",
          "name": "stdout",
          "text": [
            "313/313 [==============================] - 1s 2ms/step\n"
          ]
        }
      ]
    },
    {
      "cell_type": "code",
      "source": [
        "callback = callbacks.EarlyStopping(monitor='val_loss',\n",
        "                                   patience=50,\n",
        "                                   restore_best_weights=True,\n",
        "                                   )\n",
        "es = callbacks.EarlyStopping(monitor='val_loss', mode='min', verbose=1, patience=200)\n",
        "mc = callbacks.ModelCheckpoint('best_model.h5', monitor='sparse_categorical_accuracy', mode='max', verbose=0, save_best_only=True)\n"
      ],
      "metadata": {
        "id": "5ihU4exVlsjm"
      },
      "execution_count": 295,
      "outputs": []
    },
    {
      "cell_type": "code",
      "source": [
        "history = model.fit(x_train, y_train,\n",
        "                    epochs=100,\n",
        "                    batch_size=128,\n",
        "                    # callbacks=[callback],\n",
        "                    callbacks=[mc],\n",
        "                    verbose=1, #многословие\n",
        "                    validation_split=0.2\n",
        "                    # validation_data=(x_val, y_val)\n",
        "                    )\n",
        "test_loss, test_acc = model.evaluate(x_test, y_test)\n",
        "print('\\nTest accuracy:', test_acc)"
      ],
      "metadata": {
        "id": "FH8HcMNm233I",
        "outputId": "9b3b5b94-0850-4d57-f596-39950fc9a151",
        "colab": {
          "base_uri": "https://localhost:8080/"
        }
      },
      "execution_count": 296,
      "outputs": [
        {
          "output_type": "stream",
          "name": "stdout",
          "text": [
            "Epoch 1/100\n",
            "375/375 [==============================] - 6s 7ms/step - loss: 0.8100 - sparse_categorical_accuracy: 0.7172 - val_loss: 0.4746 - val_sparse_categorical_accuracy: 0.8283\n",
            "Epoch 2/100\n",
            "375/375 [==============================] - 3s 7ms/step - loss: 0.5679 - sparse_categorical_accuracy: 0.7921 - val_loss: 0.4095 - val_sparse_categorical_accuracy: 0.8509\n",
            "Epoch 3/100\n",
            "375/375 [==============================] - 2s 6ms/step - loss: 0.5103 - sparse_categorical_accuracy: 0.8112 - val_loss: 0.3968 - val_sparse_categorical_accuracy: 0.8529\n",
            "Epoch 4/100\n",
            "375/375 [==============================] - 2s 6ms/step - loss: 0.4753 - sparse_categorical_accuracy: 0.8245 - val_loss: 0.3871 - val_sparse_categorical_accuracy: 0.8554\n",
            "Epoch 5/100\n",
            "375/375 [==============================] - 2s 6ms/step - loss: 0.4487 - sparse_categorical_accuracy: 0.8332 - val_loss: 0.3729 - val_sparse_categorical_accuracy: 0.8577\n",
            "Epoch 6/100\n",
            "375/375 [==============================] - 2s 6ms/step - loss: 0.4385 - sparse_categorical_accuracy: 0.8362 - val_loss: 0.3548 - val_sparse_categorical_accuracy: 0.8686\n",
            "Epoch 7/100\n",
            "375/375 [==============================] - 3s 7ms/step - loss: 0.4204 - sparse_categorical_accuracy: 0.8429 - val_loss: 0.3511 - val_sparse_categorical_accuracy: 0.8689\n",
            "Epoch 8/100\n",
            "375/375 [==============================] - 2s 6ms/step - loss: 0.4148 - sparse_categorical_accuracy: 0.8468 - val_loss: 0.3514 - val_sparse_categorical_accuracy: 0.8709\n",
            "Epoch 9/100\n",
            "375/375 [==============================] - 2s 6ms/step - loss: 0.4007 - sparse_categorical_accuracy: 0.8503 - val_loss: 0.3537 - val_sparse_categorical_accuracy: 0.8690\n",
            "Epoch 10/100\n",
            "375/375 [==============================] - 2s 6ms/step - loss: 0.3953 - sparse_categorical_accuracy: 0.8537 - val_loss: 0.3454 - val_sparse_categorical_accuracy: 0.8714\n",
            "Epoch 11/100\n",
            "375/375 [==============================] - 2s 6ms/step - loss: 0.3847 - sparse_categorical_accuracy: 0.8540 - val_loss: 0.3293 - val_sparse_categorical_accuracy: 0.8779\n",
            "Epoch 12/100\n",
            "375/375 [==============================] - 3s 7ms/step - loss: 0.3817 - sparse_categorical_accuracy: 0.8566 - val_loss: 0.3289 - val_sparse_categorical_accuracy: 0.8790\n",
            "Epoch 13/100\n",
            "375/375 [==============================] - 2s 6ms/step - loss: 0.3753 - sparse_categorical_accuracy: 0.8585 - val_loss: 0.3452 - val_sparse_categorical_accuracy: 0.8733\n",
            "Epoch 14/100\n",
            "375/375 [==============================] - 2s 6ms/step - loss: 0.3659 - sparse_categorical_accuracy: 0.8606 - val_loss: 0.3202 - val_sparse_categorical_accuracy: 0.8817\n",
            "Epoch 15/100\n",
            "375/375 [==============================] - 2s 6ms/step - loss: 0.3629 - sparse_categorical_accuracy: 0.8622 - val_loss: 0.3179 - val_sparse_categorical_accuracy: 0.8820\n",
            "Epoch 16/100\n",
            "375/375 [==============================] - 2s 7ms/step - loss: 0.3613 - sparse_categorical_accuracy: 0.8635 - val_loss: 0.3224 - val_sparse_categorical_accuracy: 0.8813\n",
            "Epoch 17/100\n",
            "375/375 [==============================] - 3s 7ms/step - loss: 0.3556 - sparse_categorical_accuracy: 0.8661 - val_loss: 0.3174 - val_sparse_categorical_accuracy: 0.8827\n",
            "Epoch 18/100\n",
            "375/375 [==============================] - 2s 6ms/step - loss: 0.3525 - sparse_categorical_accuracy: 0.8664 - val_loss: 0.3101 - val_sparse_categorical_accuracy: 0.8863\n",
            "Epoch 19/100\n",
            "375/375 [==============================] - 2s 6ms/step - loss: 0.3465 - sparse_categorical_accuracy: 0.8693 - val_loss: 0.3061 - val_sparse_categorical_accuracy: 0.8886\n",
            "Epoch 20/100\n",
            "375/375 [==============================] - 2s 6ms/step - loss: 0.3476 - sparse_categorical_accuracy: 0.8690 - val_loss: 0.3061 - val_sparse_categorical_accuracy: 0.8860\n",
            "Epoch 21/100\n",
            "375/375 [==============================] - 2s 6ms/step - loss: 0.3416 - sparse_categorical_accuracy: 0.8702 - val_loss: 0.3063 - val_sparse_categorical_accuracy: 0.8876\n",
            "Epoch 22/100\n",
            "375/375 [==============================] - 2s 7ms/step - loss: 0.3401 - sparse_categorical_accuracy: 0.8724 - val_loss: 0.3046 - val_sparse_categorical_accuracy: 0.8863\n",
            "Epoch 23/100\n",
            "375/375 [==============================] - 2s 6ms/step - loss: 0.3353 - sparse_categorical_accuracy: 0.8726 - val_loss: 0.2957 - val_sparse_categorical_accuracy: 0.8894\n",
            "Epoch 24/100\n",
            "375/375 [==============================] - 2s 6ms/step - loss: 0.3357 - sparse_categorical_accuracy: 0.8723 - val_loss: 0.2975 - val_sparse_categorical_accuracy: 0.8894\n",
            "Epoch 25/100\n",
            "375/375 [==============================] - 2s 6ms/step - loss: 0.3316 - sparse_categorical_accuracy: 0.8748 - val_loss: 0.2977 - val_sparse_categorical_accuracy: 0.8887\n",
            "Epoch 26/100\n",
            "375/375 [==============================] - 2s 7ms/step - loss: 0.3301 - sparse_categorical_accuracy: 0.8748 - val_loss: 0.3016 - val_sparse_categorical_accuracy: 0.8876\n",
            "Epoch 27/100\n",
            "375/375 [==============================] - 2s 7ms/step - loss: 0.3286 - sparse_categorical_accuracy: 0.8771 - val_loss: 0.2898 - val_sparse_categorical_accuracy: 0.8922\n",
            "Epoch 28/100\n",
            "375/375 [==============================] - 2s 6ms/step - loss: 0.3235 - sparse_categorical_accuracy: 0.8770 - val_loss: 0.2915 - val_sparse_categorical_accuracy: 0.8924\n",
            "Epoch 29/100\n",
            "375/375 [==============================] - 2s 6ms/step - loss: 0.3225 - sparse_categorical_accuracy: 0.8774 - val_loss: 0.2927 - val_sparse_categorical_accuracy: 0.8919\n",
            "Epoch 30/100\n",
            "375/375 [==============================] - 2s 6ms/step - loss: 0.3199 - sparse_categorical_accuracy: 0.8796 - val_loss: 0.2885 - val_sparse_categorical_accuracy: 0.8916\n",
            "Epoch 31/100\n",
            "375/375 [==============================] - 2s 6ms/step - loss: 0.3177 - sparse_categorical_accuracy: 0.8788 - val_loss: 0.2869 - val_sparse_categorical_accuracy: 0.8956\n",
            "Epoch 32/100\n",
            "375/375 [==============================] - 3s 7ms/step - loss: 0.3144 - sparse_categorical_accuracy: 0.8798 - val_loss: 0.2920 - val_sparse_categorical_accuracy: 0.8916\n",
            "Epoch 33/100\n",
            "375/375 [==============================] - 2s 6ms/step - loss: 0.3140 - sparse_categorical_accuracy: 0.8812 - val_loss: 0.2847 - val_sparse_categorical_accuracy: 0.8944\n",
            "Epoch 34/100\n",
            "375/375 [==============================] - 2s 6ms/step - loss: 0.3123 - sparse_categorical_accuracy: 0.8804 - val_loss: 0.2948 - val_sparse_categorical_accuracy: 0.8914\n",
            "Epoch 35/100\n",
            "375/375 [==============================] - 2s 6ms/step - loss: 0.3091 - sparse_categorical_accuracy: 0.8829 - val_loss: 0.2892 - val_sparse_categorical_accuracy: 0.8910\n",
            "Epoch 36/100\n",
            "375/375 [==============================] - 2s 6ms/step - loss: 0.3115 - sparse_categorical_accuracy: 0.8822 - val_loss: 0.2929 - val_sparse_categorical_accuracy: 0.8906\n",
            "Epoch 37/100\n",
            "375/375 [==============================] - 3s 7ms/step - loss: 0.3084 - sparse_categorical_accuracy: 0.8820 - val_loss: 0.2925 - val_sparse_categorical_accuracy: 0.8955\n",
            "Epoch 38/100\n",
            "375/375 [==============================] - 2s 7ms/step - loss: 0.3053 - sparse_categorical_accuracy: 0.8844 - val_loss: 0.2906 - val_sparse_categorical_accuracy: 0.8954\n",
            "Epoch 39/100\n",
            "375/375 [==============================] - 2s 6ms/step - loss: 0.3028 - sparse_categorical_accuracy: 0.8851 - val_loss: 0.2934 - val_sparse_categorical_accuracy: 0.8923\n",
            "Epoch 40/100\n",
            "375/375 [==============================] - 2s 6ms/step - loss: 0.3015 - sparse_categorical_accuracy: 0.8853 - val_loss: 0.2869 - val_sparse_categorical_accuracy: 0.8928\n",
            "Epoch 41/100\n",
            "375/375 [==============================] - 2s 6ms/step - loss: 0.3048 - sparse_categorical_accuracy: 0.8849 - val_loss: 0.2886 - val_sparse_categorical_accuracy: 0.8962\n",
            "Epoch 42/100\n",
            "375/375 [==============================] - 2s 6ms/step - loss: 0.3007 - sparse_categorical_accuracy: 0.8845 - val_loss: 0.2800 - val_sparse_categorical_accuracy: 0.8972\n",
            "Epoch 43/100\n",
            "375/375 [==============================] - 2s 6ms/step - loss: 0.2997 - sparse_categorical_accuracy: 0.8861 - val_loss: 0.2837 - val_sparse_categorical_accuracy: 0.8962\n",
            "Epoch 44/100\n",
            "375/375 [==============================] - 2s 6ms/step - loss: 0.3014 - sparse_categorical_accuracy: 0.8874 - val_loss: 0.2895 - val_sparse_categorical_accuracy: 0.8936\n",
            "Epoch 45/100\n",
            "375/375 [==============================] - 2s 6ms/step - loss: 0.2960 - sparse_categorical_accuracy: 0.8880 - val_loss: 0.2811 - val_sparse_categorical_accuracy: 0.8974\n",
            "Epoch 46/100\n",
            "375/375 [==============================] - 3s 7ms/step - loss: 0.2917 - sparse_categorical_accuracy: 0.8884 - val_loss: 0.2876 - val_sparse_categorical_accuracy: 0.8953\n",
            "Epoch 47/100\n",
            "375/375 [==============================] - 2s 6ms/step - loss: 0.2961 - sparse_categorical_accuracy: 0.8872 - val_loss: 0.2859 - val_sparse_categorical_accuracy: 0.8935\n",
            "Epoch 48/100\n",
            "375/375 [==============================] - 2s 6ms/step - loss: 0.2967 - sparse_categorical_accuracy: 0.8880 - val_loss: 0.2855 - val_sparse_categorical_accuracy: 0.8959\n",
            "Epoch 49/100\n",
            "375/375 [==============================] - 2s 6ms/step - loss: 0.2934 - sparse_categorical_accuracy: 0.8879 - val_loss: 0.2819 - val_sparse_categorical_accuracy: 0.8954\n",
            "Epoch 50/100\n",
            "375/375 [==============================] - 2s 6ms/step - loss: 0.2904 - sparse_categorical_accuracy: 0.8906 - val_loss: 0.2791 - val_sparse_categorical_accuracy: 0.8974\n",
            "Epoch 51/100\n",
            "375/375 [==============================] - 3s 7ms/step - loss: 0.2878 - sparse_categorical_accuracy: 0.8912 - val_loss: 0.2846 - val_sparse_categorical_accuracy: 0.8963\n",
            "Epoch 52/100\n",
            "375/375 [==============================] - 2s 6ms/step - loss: 0.2881 - sparse_categorical_accuracy: 0.8905 - val_loss: 0.2819 - val_sparse_categorical_accuracy: 0.8972\n",
            "Epoch 53/100\n",
            "375/375 [==============================] - 2s 6ms/step - loss: 0.2864 - sparse_categorical_accuracy: 0.8916 - val_loss: 0.2837 - val_sparse_categorical_accuracy: 0.8973\n",
            "Epoch 54/100\n",
            "375/375 [==============================] - 2s 6ms/step - loss: 0.2866 - sparse_categorical_accuracy: 0.8921 - val_loss: 0.2787 - val_sparse_categorical_accuracy: 0.8988\n",
            "Epoch 55/100\n",
            "375/375 [==============================] - 2s 6ms/step - loss: 0.2839 - sparse_categorical_accuracy: 0.8910 - val_loss: 0.2789 - val_sparse_categorical_accuracy: 0.9000\n",
            "Epoch 56/100\n",
            "375/375 [==============================] - 2s 6ms/step - loss: 0.2847 - sparse_categorical_accuracy: 0.8918 - val_loss: 0.2813 - val_sparse_categorical_accuracy: 0.8997\n",
            "Epoch 57/100\n",
            "375/375 [==============================] - 3s 7ms/step - loss: 0.2848 - sparse_categorical_accuracy: 0.8915 - val_loss: 0.2844 - val_sparse_categorical_accuracy: 0.8960\n",
            "Epoch 58/100\n",
            "375/375 [==============================] - 2s 7ms/step - loss: 0.2827 - sparse_categorical_accuracy: 0.8939 - val_loss: 0.2821 - val_sparse_categorical_accuracy: 0.8979\n",
            "Epoch 59/100\n",
            "375/375 [==============================] - 2s 6ms/step - loss: 0.2828 - sparse_categorical_accuracy: 0.8913 - val_loss: 0.2883 - val_sparse_categorical_accuracy: 0.8957\n",
            "Epoch 60/100\n",
            "375/375 [==============================] - 2s 6ms/step - loss: 0.2835 - sparse_categorical_accuracy: 0.8921 - val_loss: 0.2793 - val_sparse_categorical_accuracy: 0.8964\n",
            "Epoch 61/100\n",
            "375/375 [==============================] - 3s 7ms/step - loss: 0.2834 - sparse_categorical_accuracy: 0.8921 - val_loss: 0.2790 - val_sparse_categorical_accuracy: 0.8997\n",
            "Epoch 62/100\n",
            "375/375 [==============================] - 2s 7ms/step - loss: 0.2801 - sparse_categorical_accuracy: 0.8937 - val_loss: 0.2855 - val_sparse_categorical_accuracy: 0.8965\n",
            "Epoch 63/100\n",
            "375/375 [==============================] - 2s 6ms/step - loss: 0.2809 - sparse_categorical_accuracy: 0.8933 - val_loss: 0.2824 - val_sparse_categorical_accuracy: 0.8963\n",
            "Epoch 64/100\n",
            "375/375 [==============================] - 2s 6ms/step - loss: 0.2778 - sparse_categorical_accuracy: 0.8941 - val_loss: 0.2756 - val_sparse_categorical_accuracy: 0.9006\n",
            "Epoch 65/100\n",
            "375/375 [==============================] - 2s 6ms/step - loss: 0.2774 - sparse_categorical_accuracy: 0.8934 - val_loss: 0.2722 - val_sparse_categorical_accuracy: 0.9013\n",
            "Epoch 66/100\n",
            "375/375 [==============================] - 3s 7ms/step - loss: 0.2798 - sparse_categorical_accuracy: 0.8925 - val_loss: 0.2833 - val_sparse_categorical_accuracy: 0.8978\n",
            "Epoch 67/100\n",
            "375/375 [==============================] - 3s 7ms/step - loss: 0.2773 - sparse_categorical_accuracy: 0.8939 - val_loss: 0.2814 - val_sparse_categorical_accuracy: 0.8972\n",
            "Epoch 68/100\n",
            "375/375 [==============================] - 2s 6ms/step - loss: 0.2771 - sparse_categorical_accuracy: 0.8934 - val_loss: 0.2754 - val_sparse_categorical_accuracy: 0.8996\n",
            "Epoch 69/100\n",
            "375/375 [==============================] - 2s 6ms/step - loss: 0.2778 - sparse_categorical_accuracy: 0.8937 - val_loss: 0.2762 - val_sparse_categorical_accuracy: 0.9005\n",
            "Epoch 70/100\n",
            "375/375 [==============================] - 2s 6ms/step - loss: 0.2745 - sparse_categorical_accuracy: 0.8953 - val_loss: 0.2820 - val_sparse_categorical_accuracy: 0.9004\n",
            "Epoch 71/100\n",
            "375/375 [==============================] - 2s 7ms/step - loss: 0.2743 - sparse_categorical_accuracy: 0.8949 - val_loss: 0.2804 - val_sparse_categorical_accuracy: 0.8986\n",
            "Epoch 72/100\n",
            "375/375 [==============================] - 2s 6ms/step - loss: 0.2739 - sparse_categorical_accuracy: 0.8965 - val_loss: 0.2746 - val_sparse_categorical_accuracy: 0.8988\n",
            "Epoch 73/100\n",
            "375/375 [==============================] - 2s 6ms/step - loss: 0.2710 - sparse_categorical_accuracy: 0.8960 - val_loss: 0.2743 - val_sparse_categorical_accuracy: 0.9000\n",
            "Epoch 74/100\n",
            "375/375 [==============================] - 2s 6ms/step - loss: 0.2719 - sparse_categorical_accuracy: 0.8976 - val_loss: 0.2767 - val_sparse_categorical_accuracy: 0.8994\n",
            "Epoch 75/100\n",
            "375/375 [==============================] - 2s 6ms/step - loss: 0.2713 - sparse_categorical_accuracy: 0.8967 - val_loss: 0.2744 - val_sparse_categorical_accuracy: 0.8984\n",
            "Epoch 76/100\n",
            "375/375 [==============================] - 3s 7ms/step - loss: 0.2693 - sparse_categorical_accuracy: 0.8966 - val_loss: 0.2835 - val_sparse_categorical_accuracy: 0.8987\n",
            "Epoch 77/100\n",
            "375/375 [==============================] - 2s 7ms/step - loss: 0.2712 - sparse_categorical_accuracy: 0.8961 - val_loss: 0.2777 - val_sparse_categorical_accuracy: 0.8973\n",
            "Epoch 78/100\n",
            "375/375 [==============================] - 2s 6ms/step - loss: 0.2713 - sparse_categorical_accuracy: 0.8971 - val_loss: 0.2729 - val_sparse_categorical_accuracy: 0.9000\n",
            "Epoch 79/100\n",
            "375/375 [==============================] - 2s 6ms/step - loss: 0.2641 - sparse_categorical_accuracy: 0.8986 - val_loss: 0.2793 - val_sparse_categorical_accuracy: 0.8998\n",
            "Epoch 80/100\n",
            "375/375 [==============================] - 2s 6ms/step - loss: 0.2686 - sparse_categorical_accuracy: 0.8975 - val_loss: 0.2807 - val_sparse_categorical_accuracy: 0.8975\n",
            "Epoch 81/100\n",
            "375/375 [==============================] - 3s 7ms/step - loss: 0.2662 - sparse_categorical_accuracy: 0.8964 - val_loss: 0.2769 - val_sparse_categorical_accuracy: 0.9019\n",
            "Epoch 82/100\n",
            "375/375 [==============================] - 3s 7ms/step - loss: 0.2661 - sparse_categorical_accuracy: 0.8977 - val_loss: 0.2750 - val_sparse_categorical_accuracy: 0.9024\n",
            "Epoch 83/100\n",
            "375/375 [==============================] - 2s 6ms/step - loss: 0.2674 - sparse_categorical_accuracy: 0.8983 - val_loss: 0.2749 - val_sparse_categorical_accuracy: 0.9004\n",
            "Epoch 84/100\n",
            "375/375 [==============================] - 2s 6ms/step - loss: 0.2673 - sparse_categorical_accuracy: 0.8972 - val_loss: 0.2804 - val_sparse_categorical_accuracy: 0.8986\n",
            "Epoch 85/100\n",
            "375/375 [==============================] - 2s 6ms/step - loss: 0.2638 - sparse_categorical_accuracy: 0.9003 - val_loss: 0.2747 - val_sparse_categorical_accuracy: 0.8986\n",
            "Epoch 86/100\n",
            "375/375 [==============================] - 3s 7ms/step - loss: 0.2642 - sparse_categorical_accuracy: 0.8985 - val_loss: 0.2757 - val_sparse_categorical_accuracy: 0.9012\n",
            "Epoch 87/100\n",
            "375/375 [==============================] - 2s 6ms/step - loss: 0.2627 - sparse_categorical_accuracy: 0.8990 - val_loss: 0.2764 - val_sparse_categorical_accuracy: 0.8993\n",
            "Epoch 88/100\n",
            "375/375 [==============================] - 2s 6ms/step - loss: 0.2641 - sparse_categorical_accuracy: 0.9002 - val_loss: 0.2737 - val_sparse_categorical_accuracy: 0.9006\n",
            "Epoch 89/100\n",
            "375/375 [==============================] - 2s 6ms/step - loss: 0.2650 - sparse_categorical_accuracy: 0.8990 - val_loss: 0.2748 - val_sparse_categorical_accuracy: 0.9005\n",
            "Epoch 90/100\n",
            "375/375 [==============================] - 2s 6ms/step - loss: 0.2612 - sparse_categorical_accuracy: 0.9014 - val_loss: 0.2736 - val_sparse_categorical_accuracy: 0.8993\n",
            "Epoch 91/100\n",
            "375/375 [==============================] - 2s 7ms/step - loss: 0.2624 - sparse_categorical_accuracy: 0.9000 - val_loss: 0.2800 - val_sparse_categorical_accuracy: 0.8988\n",
            "Epoch 92/100\n",
            "375/375 [==============================] - 2s 6ms/step - loss: 0.2604 - sparse_categorical_accuracy: 0.9005 - val_loss: 0.2827 - val_sparse_categorical_accuracy: 0.8997\n",
            "Epoch 93/100\n",
            "375/375 [==============================] - 2s 6ms/step - loss: 0.2610 - sparse_categorical_accuracy: 0.9006 - val_loss: 0.2715 - val_sparse_categorical_accuracy: 0.9010\n",
            "Epoch 94/100\n",
            "375/375 [==============================] - 2s 6ms/step - loss: 0.2614 - sparse_categorical_accuracy: 0.9001 - val_loss: 0.2745 - val_sparse_categorical_accuracy: 0.9028\n",
            "Epoch 95/100\n",
            "375/375 [==============================] - 2s 6ms/step - loss: 0.2591 - sparse_categorical_accuracy: 0.9008 - val_loss: 0.2761 - val_sparse_categorical_accuracy: 0.8999\n",
            "Epoch 96/100\n",
            "375/375 [==============================] - 3s 7ms/step - loss: 0.2561 - sparse_categorical_accuracy: 0.9014 - val_loss: 0.2823 - val_sparse_categorical_accuracy: 0.8999\n",
            "Epoch 97/100\n",
            "375/375 [==============================] - 3s 7ms/step - loss: 0.2627 - sparse_categorical_accuracy: 0.8988 - val_loss: 0.2747 - val_sparse_categorical_accuracy: 0.9007\n",
            "Epoch 98/100\n",
            "375/375 [==============================] - 2s 6ms/step - loss: 0.2596 - sparse_categorical_accuracy: 0.9003 - val_loss: 0.2801 - val_sparse_categorical_accuracy: 0.8988\n",
            "Epoch 99/100\n",
            "375/375 [==============================] - 2s 6ms/step - loss: 0.2567 - sparse_categorical_accuracy: 0.9027 - val_loss: 0.2814 - val_sparse_categorical_accuracy: 0.9002\n",
            "Epoch 100/100\n",
            "375/375 [==============================] - 2s 6ms/step - loss: 0.2611 - sparse_categorical_accuracy: 0.9021 - val_loss: 0.2819 - val_sparse_categorical_accuracy: 0.8996\n",
            "313/313 [==============================] - 1s 2ms/step - loss: 0.3032 - sparse_categorical_accuracy: 0.8920\n",
            "\n",
            "Test accuracy: 0.8920000195503235\n"
          ]
        }
      ]
    },
    {
      "cell_type": "code",
      "source": [
        "print('\\nhistory dict:', list(history.history.keys()))"
      ],
      "metadata": {
        "id": "CxRE-B_Q6Sii",
        "colab": {
          "base_uri": "https://localhost:8080/"
        },
        "outputId": "de3924bb-9706-4f46-bfe7-9d6dfbc6b254"
      },
      "execution_count": 297,
      "outputs": [
        {
          "output_type": "stream",
          "name": "stdout",
          "text": [
            "\n",
            "history dict: ['loss', 'sparse_categorical_accuracy', 'val_loss', 'val_sparse_categorical_accuracy']\n"
          ]
        }
      ]
    },
    {
      "cell_type": "code",
      "source": [
        "result = model.evaluate(x_test, y_test)\n",
        "print(result)"
      ],
      "metadata": {
        "id": "YXpwRRTvTBNg",
        "colab": {
          "base_uri": "https://localhost:8080/"
        },
        "outputId": "7f81b179-df86-4e93-d377-25719bb19033"
      },
      "execution_count": 298,
      "outputs": [
        {
          "output_type": "stream",
          "name": "stdout",
          "text": [
            "313/313 [==============================] - 1s 2ms/step - loss: 0.3032 - sparse_categorical_accuracy: 0.8920\n",
            "[0.30319586396217346, 0.8920000195503235]\n"
          ]
        }
      ]
    },
    {
      "cell_type": "code",
      "source": [
        "saved_model = load_model('best_model.h5')\n",
        "result = saved_model.evaluate(x_test, y_test)\n",
        "print(result)"
      ],
      "metadata": {
        "colab": {
          "base_uri": "https://localhost:8080/"
        },
        "id": "dpaZAW0vp1AZ",
        "outputId": "070c0d41-3773-4eb0-c4f5-3ce0f7b44db8"
      },
      "execution_count": 299,
      "outputs": [
        {
          "output_type": "stream",
          "name": "stdout",
          "text": [
            "313/313 [==============================] - 1s 3ms/step - loss: 0.3012 - sparse_categorical_accuracy: 0.8928\n",
            "[0.30124905705451965, 0.892799973487854]\n"
          ]
        }
      ]
    },
    {
      "cell_type": "code",
      "source": [
        "# from keras.models import load_model\n",
        "# saved_model = load_model('best_model.h5')\n",
        "# # _, train_acc = saved_model.evaluate(x_train, y_train, verbose=0)\n",
        "# _, test_acc = saved_model.evaluate(x_test, y_test, verbose=0)\n",
        "# print('Test: %.3f' % (test_acc))"
      ],
      "metadata": {
        "id": "DR_MS9DABo_K"
      },
      "execution_count": 300,
      "outputs": []
    },
    {
      "cell_type": "code",
      "source": [
        "history_dict = history.history\n",
        "loss_values = history_dict['loss']\n",
        "val_loss_values = history_dict['val_loss']\n",
        "\n",
        "epochs = range(1, len(history_dict['loss']) + 1)\n",
        "\n",
        "plt.figure(figsize=(10, 5))\n",
        "plt.plot(epochs, loss_values, 'bo', label='Training loss')\n",
        "plt.plot(epochs, val_loss_values, 'r', label='Validation loss')\n",
        "# plt.ylim (0.2, 0.5)\n",
        "plt.title('Training and validation loss')\n",
        "plt.xlabel('Epochs')\n",
        "plt.ylabel('Loss')\n",
        "# plt.legend()\n",
        "plt.grid(True)\n",
        "plt.show()\n",
        "1\n",
        "plt.clf()\n",
        "plt.figure(figsize=(10, 5))\n",
        "val_acc_values = history_dict['sparse_categorical_accuracy']\n",
        "plt.plot(epochs, history_dict['sparse_categorical_accuracy'], 'bo', label='Training acc')\n",
        "plt.plot(epochs, history_dict['val_sparse_categorical_accuracy'], 'r', label='Validation acc')\n",
        "plt.ylim (0.88, 0.94)\n",
        "plt.title('Training and validation accuracy')\n",
        "plt.xlabel('Epochs')\n",
        "plt.ylabel('Accuracy')\n",
        "plt.legend()\n",
        "plt.grid(True)"
      ],
      "metadata": {
        "id": "2Ll_5sGlXKMH",
        "colab": {
          "base_uri": "https://localhost:8080/",
          "height": 975
        },
        "outputId": "ef1ca56a-c625-473b-a004-889be6de0157"
      },
      "execution_count": 301,
      "outputs": [
        {
          "output_type": "display_data",
          "data": {
            "text/plain": [
              "<Figure size 1000x500 with 1 Axes>"
            ],
            "image/png": "[encoded data removed]"
          },
          "metadata": {}
        },
        {
          "output_type": "display_data",
          "data": {
            "text/plain": [
              "<Figure size 640x480 with 0 Axes>"
            ]
          },
          "metadata": {}
        },
        {
          "output_type": "display_data",
          "data": {
            "text/plain": [
              "<Figure size 1000x500 with 1 Axes>"
            ],
            "image/png": "[encoded data removed]"
          },
          "metadata": {}
        }
      ]
    },
    {
      "cell_type": "code",
      "source": [
        "probability_model = tf.keras.Sequential([model,\n",
        "                                         tf.keras.layers.Softmax()])"
      ],
      "metadata": {
        "id": "VzOdKAT_uV-f"
      },
      "execution_count": 302,
      "outputs": []
    },
    {
      "cell_type": "code",
      "source": [
        "predictions = probability_model.predict(x_test)"
      ],
      "metadata": {
        "id": "f4is3NFruYom",
        "colab": {
          "base_uri": "https://localhost:8080/"
        },
        "outputId": "c23935ea-ffe8-4bfe-97ee-e7fab134f906"
      },
      "execution_count": 303,
      "outputs": [
        {
          "output_type": "stream",
          "name": "stdout",
          "text": [
            "313/313 [==============================] - 1s 2ms/step\n"
          ]
        }
      ]
    },
    {
      "cell_type": "code",
      "source": [
        "predictions[0]"
      ],
      "metadata": {
        "id": "82cigvlZudz_",
        "colab": {
          "base_uri": "https://localhost:8080/"
        },
        "outputId": "c2bdacd0-495e-443e-dfca-195a34235fed"
      },
      "execution_count": 304,
      "outputs": [
        {
          "output_type": "execute_result",
          "data": {
            "text/plain": [
              "array([0.08536861, 0.08536861, 0.08536861, 0.08536861, 0.08536861,\n",
              "       0.08537136, 0.08536861, 0.08558406, 0.08536861, 0.2314643 ],\n",
              "      dtype=float32)"
            ]
          },
          "metadata": {},
          "execution_count": 304
        }
      ]
    },
    {
      "cell_type": "code",
      "source": [
        "model.summary()"
      ],
      "metadata": {
        "id": "6RsQPHyYuNGe",
        "colab": {
          "base_uri": "https://localhost:8080/"
        },
        "outputId": "81fa674d-77ae-4f09-9aed-abd3f2429e53"
      },
      "execution_count": 305,
      "outputs": [
        {
          "output_type": "stream",
          "name": "stdout",
          "text": [
            "Model: \"sequential_24\"\n",
            "_________________________________________________________________\n",
            " Layer (type)                Output Shape              Param #   \n",
            "=================================================================\n",
            " flatten_12 (Flatten)        (None, 784)               0         \n",
            "                                                                 \n",
            " dropout_50 (Dropout)        (None, 784)               0         \n",
            "                                                                 \n",
            " batch_normalization_38 (Ba  (None, 784)               3136      \n",
            " tchNormalization)                                               \n",
            "                                                                 \n",
            " dense_50 (Dense)            (None, 256)               200960    \n",
            "                                                                 \n",
            " dropout_51 (Dropout)        (None, 256)               0         \n",
            "                                                                 \n",
            " batch_normalization_39 (Ba  (None, 256)               1024      \n",
            " tchNormalization)                                               \n",
            "                                                                 \n",
            " dense_51 (Dense)            (None, 512)               131584    \n",
            "                                                                 \n",
            " dropout_52 (Dropout)        (None, 512)               0         \n",
            "                                                                 \n",
            " batch_normalization_40 (Ba  (None, 512)               2048      \n",
            " tchNormalization)                                               \n",
            "                                                                 \n",
            " dense_52 (Dense)            (None, 512)               262656    \n",
            "                                                                 \n",
            " dropout_53 (Dropout)        (None, 512)               0         \n",
            "                                                                 \n",
            " dense_53 (Dense)            (None, 10)                5130      \n",
            "                                                                 \n",
            "=================================================================\n",
            "Total params: 606538 (2.31 MB)\n",
            "Trainable params: 603434 (2.30 MB)\n",
            "Non-trainable params: 3104 (12.12 KB)\n",
            "_________________________________________________________________\n"
          ]
        }
      ]
    }
  ]
}