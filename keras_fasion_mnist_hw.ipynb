{
  "nbformat": 4,
  "nbformat_minor": 0,
  "metadata": {
    "colab": {
      "provenance": [],
      "gpuType": "T4",
      "authorship_tag": "ABX9TyOlLMpzZxHNiDC/of7/4Hdw",
      "include_colab_link": true
    },
    "kernelspec": {
      "name": "python3",
      "display_name": "Python 3"
    },
    "language_info": {
      "name": "python"
    },
    "accelerator": "GPU"
  },
  "cells": [
    {
      "cell_type": "markdown",
      "metadata": {
        "id": "view-in-github",
        "colab_type": "text"
      },
      "source": [
        "<a href=\"https://colab.research.google.com/github/PavelStelmakhV/hw310-keras-fasion-mnist/blob/main/keras_fasion_mnist_hw.ipynb\" target=\"_parent\"><img src=\"https://colab.research.google.com/assets/colab-badge.svg\" alt=\"Open In Colab\"/></a>"
      ]
    },
    {
      "cell_type": "code",
      "execution_count": 1,
      "metadata": {
        "id": "vv7w0bgAVQPO"
      },
      "outputs": [],
      "source": [
        "import tensorflow as tf\n",
        "import numpy as np\n",
        "import matplotlib.pyplot as plt\n",
        "\n",
        "from keras import layers\n",
        "from keras import regularizers\n",
        "from keras import callbacks\n",
        "from keras import initializers\n",
        "from keras.layers import BatchNormalization\n",
        "from keras.models import load_model"
      ]
    },
    {
      "cell_type": "code",
      "source": [
        "fashion_mnist = tf.keras.datasets.fashion_mnist\n",
        "\n",
        "(x_train, y_train), (x_test, y_test) = fashion_mnist.load_data()"
      ],
      "metadata": {
        "id": "mOpywsNAzfGB",
        "colab": {
          "base_uri": "https://localhost:8080/"
        },
        "outputId": "848b82e5-de43-4756-e92f-ae054e88e5f4"
      },
      "execution_count": 2,
      "outputs": [
        {
          "output_type": "stream",
          "name": "stdout",
          "text": [
            "Downloading data from https://storage.googleapis.com/tensorflow/tf-keras-datasets/train-labels-idx1-ubyte.gz\n",
            "29515/29515 [==============================] - 0s 0us/step\n",
            "Downloading data from https://storage.googleapis.com/tensorflow/tf-keras-datasets/train-images-idx3-ubyte.gz\n",
            "26421880/26421880 [==============================] - 0s 0us/step\n",
            "Downloading data from https://storage.googleapis.com/tensorflow/tf-keras-datasets/t10k-labels-idx1-ubyte.gz\n",
            "5148/5148 [==============================] - 0s 0us/step\n",
            "Downloading data from https://storage.googleapis.com/tensorflow/tf-keras-datasets/t10k-images-idx3-ubyte.gz\n",
            "4422102/4422102 [==============================] - 0s 0us/step\n"
          ]
        }
      ]
    },
    {
      "cell_type": "code",
      "source": [
        "# x_train = x_train.reshape(60000, 784).astype('float32') / 255\n",
        "# x_test = x_test.reshape(10000, 784).astype('float32') / 255\n",
        "x_train = x_train.astype('float32') / 255\n",
        "x_test = x_test.astype('float32') / 255\n",
        "\n",
        "y_train = y_train.astype('float32')\n",
        "y_test = y_test.astype('float32')\n",
        "\n",
        "# Перемешаем тренировочные данные\n",
        "# train_data = tf.data.Dataset.from_tensor_slices((x_train, y_train))\n",
        "# train_data = train_data.repeat().shuffle(5000).batch(batch_size).prefetch(1)"
      ],
      "metadata": {
        "id": "t2gucjsJ0KUi"
      },
      "execution_count": 3,
      "outputs": []
    },
    {
      "cell_type": "code",
      "source": [
        "# x_val = x_train[-10000:]\n",
        "# y_val = y_train[-10000:]\n",
        "# x_train = x_train[:-10000]\n",
        "# y_train = y_train[:-10000]"
      ],
      "metadata": {
        "id": "fLPNXab5dHwO"
      },
      "execution_count": 4,
      "outputs": []
    },
    {
      "cell_type": "code",
      "source": [],
      "metadata": {
        "id": "bU5TK5YdlnU5"
      },
      "execution_count": 4,
      "outputs": []
    },
    {
      "cell_type": "code",
      "source": [
        "w_init = initializers.glorot_normal()\n",
        "b_init = initializers.Zeros()"
      ],
      "metadata": {
        "id": "yL9QTEtBGy4N"
      },
      "execution_count": 5,
      "outputs": []
    },
    {
      "cell_type": "code",
      "source": [
        "model = tf.keras.Sequential()\n",
        "\n",
        "drop_out = 0.30\n",
        "lern_rat = 0.001\n",
        "neurons = 256\n",
        "\n",
        "model.add(layers.Flatten(input_shape=(28, 28)))\n",
        "model.add(layers.Dropout(drop_out))\n",
        "\n",
        "model.add(layers.Dense(neurons * 1, activation='relu', kernel_initializer=w_init, bias_initializer=b_init)) #, kernel_regularizer=regularizers.l2(lern_rat)\n",
        "model.add(BatchNormalization())\n",
        "model.add(layers.Dropout(drop_out))\n",
        "\n",
        "model.add(layers.Dense(neurons * 2, activation='tanh'))\n",
        "model.add(layers.Dropout(drop_out))\n",
        "\n",
        "model.add(layers.Dense(neurons * 2, activation='relu'))\n",
        "model.add(BatchNormalization())\n",
        "model.add(layers.Dropout(drop_out))\n",
        "\n",
        "# model.add(layers.Dense(neurons * 2, activation='relu'))\n",
        "# model.add(BatchNormalization())\n",
        "# model.add(layers.Dropout(drop_out * 2))\n",
        "\n",
        "model.add(layers.Dense(10, activation='softmax'))"
      ],
      "metadata": {
        "id": "atS39i4d0aqW"
      },
      "execution_count": 6,
      "outputs": []
    },
    {
      "cell_type": "code",
      "source": [],
      "metadata": {
        "id": "EzfnaqIZlfy8"
      },
      "execution_count": 6,
      "outputs": []
    },
    {
      "cell_type": "code",
      "source": [
        "model.compile(#optimizer='adam',\n",
        "              # optimizer='adamax',\n",
        "              optimizer='nadam',\n",
        "              # optimizer='rmsprop',\n",
        "              # optimizer='sgd',\n",
        "              # optimizer='adadelta',\n",
        "              # loss='binary_crossentropy',\n",
        "              loss=tf.keras.losses.SparseCategoricalCrossentropy(),\n",
        "              metrics=['sparse_categorical_accuracy']) # sparse_categorical_accuracy"
      ],
      "metadata": {
        "id": "hENVaAC7ilNY"
      },
      "execution_count": 7,
      "outputs": []
    },
    {
      "cell_type": "code",
      "source": [
        "x = np.random.random((1, 28, 28))\n",
        "a = model.predict(x)\n",
        "_ = plt.hist(np.transpose(a))"
      ],
      "metadata": {
        "id": "RFgZHNNFMa8p",
        "outputId": "3078900a-22e6-4531-c401-d718d2a6f0e7",
        "colab": {
          "base_uri": "https://localhost:8080/",
          "height": 448
        }
      },
      "execution_count": 8,
      "outputs": [
        {
          "output_type": "stream",
          "name": "stdout",
          "text": [
            "1/1 [==============================] - 0s 303ms/step\n"
          ]
        },
        {
          "output_type": "display_data",
          "data": {
            "text/plain": [
              "<Figure size 640x480 with 1 Axes>"
            ],
            "image/png": "[encoded data removed]"
          },
          "metadata": {}
        }
      ]
    },
    {
      "cell_type": "code",
      "source": [
        "y_pred = model.predict(x_test)"
      ],
      "metadata": {
        "id": "UDP8OKKZ8oQa",
        "outputId": "2fce0098-2a72-4395-eb9e-02c957ab5006",
        "colab": {
          "base_uri": "https://localhost:8080/"
        }
      },
      "execution_count": 9,
      "outputs": [
        {
          "output_type": "stream",
          "name": "stdout",
          "text": [
            "313/313 [==============================] - 2s 6ms/step\n"
          ]
        }
      ]
    },
    {
      "cell_type": "code",
      "source": [
        "callback = callbacks.EarlyStopping(monitor='val_loss',\n",
        "                                   patience=50,\n",
        "                                   restore_best_weights=True,\n",
        "                                   )\n",
        "es = callbacks.EarlyStopping(monitor='val_loss', mode='min', verbose=1, patience=200)\n",
        "mc = callbacks.ModelCheckpoint('best_model.h5', monitor='sparse_categorical_accuracy', mode='max', verbose=0, save_best_only=True)\n"
      ],
      "metadata": {
        "id": "5ihU4exVlsjm"
      },
      "execution_count": 10,
      "outputs": []
    },
    {
      "cell_type": "code",
      "source": [
        "# model.fit(train_images, train_labels, epochs=20)\n",
        "history = model.fit(x_train, y_train,\n",
        "                    epochs=100,\n",
        "                    batch_size=128,\n",
        "                    # callbacks=[callback],\n",
        "                    callbacks=[mc],\n",
        "                    verbose=1, #многословие\n",
        "                    validation_split=0.2\n",
        "                    # validation_data=(x_val, y_val)\n",
        "                    )\n",
        "test_loss, test_acc = model.evaluate(x_test, y_test)\n",
        "print('\\nTest accuracy:', test_acc)"
      ],
      "metadata": {
        "id": "FH8HcMNm233I",
        "outputId": "ec5b9c62-2e3d-4012-b55e-d5d161a79346",
        "colab": {
          "base_uri": "https://localhost:8080/"
        }
      },
      "execution_count": 11,
      "outputs": [
        {
          "output_type": "stream",
          "name": "stdout",
          "text": [
            "Epoch 1/100\n",
            "375/375 [==============================] - 13s 29ms/step - loss: 0.7367 - sparse_categorical_accuracy: 0.7441 - val_loss: 0.5186 - val_sparse_categorical_accuracy: 0.8083\n",
            "Epoch 2/100\n",
            "  4/375 [..............................] - ETA: 7s - loss: 0.5404 - sparse_categorical_accuracy: 0.8008"
          ]
        },
        {
          "output_type": "stream",
          "name": "stderr",
          "text": [
            "/usr/local/lib/python3.10/dist-packages/keras/src/engine/training.py:3103: UserWarning: You are saving your model as an HDF5 file via `model.save()`. This file format is considered legacy. We recommend using instead the native Keras format, e.g. `model.save('my_model.keras')`.\n",
            "  saving_api.save_model(\n"
          ]
        },
        {
          "output_type": "stream",
          "name": "stdout",
          "text": [
            "375/375 [==============================] - 9s 24ms/step - loss: 0.5202 - sparse_categorical_accuracy: 0.8102 - val_loss: 0.4214 - val_sparse_categorical_accuracy: 0.8466\n",
            "Epoch 3/100\n",
            "375/375 [==============================] - 11s 28ms/step - loss: 0.4695 - sparse_categorical_accuracy: 0.8249 - val_loss: 0.3820 - val_sparse_categorical_accuracy: 0.8593\n",
            "Epoch 4/100\n",
            "375/375 [==============================] - 10s 28ms/step - loss: 0.4449 - sparse_categorical_accuracy: 0.8357 - val_loss: 0.3557 - val_sparse_categorical_accuracy: 0.8693\n",
            "Epoch 5/100\n",
            "375/375 [==============================] - 10s 26ms/step - loss: 0.4256 - sparse_categorical_accuracy: 0.8432 - val_loss: 0.3711 - val_sparse_categorical_accuracy: 0.8640\n",
            "Epoch 6/100\n",
            "375/375 [==============================] - 10s 26ms/step - loss: 0.4188 - sparse_categorical_accuracy: 0.8435 - val_loss: 0.3636 - val_sparse_categorical_accuracy: 0.8670\n",
            "Epoch 7/100\n",
            "375/375 [==============================] - 10s 28ms/step - loss: 0.4089 - sparse_categorical_accuracy: 0.8478 - val_loss: 0.3540 - val_sparse_categorical_accuracy: 0.8710\n",
            "Epoch 8/100\n",
            "375/375 [==============================] - 11s 29ms/step - loss: 0.4018 - sparse_categorical_accuracy: 0.8505 - val_loss: 0.3475 - val_sparse_categorical_accuracy: 0.8683\n",
            "Epoch 9/100\n",
            "375/375 [==============================] - 9s 24ms/step - loss: 0.3934 - sparse_categorical_accuracy: 0.8539 - val_loss: 0.3360 - val_sparse_categorical_accuracy: 0.8759\n",
            "Epoch 10/100\n",
            "375/375 [==============================] - 11s 28ms/step - loss: 0.3871 - sparse_categorical_accuracy: 0.8540 - val_loss: 0.3492 - val_sparse_categorical_accuracy: 0.8733\n",
            "Epoch 11/100\n",
            "375/375 [==============================] - 11s 28ms/step - loss: 0.3797 - sparse_categorical_accuracy: 0.8589 - val_loss: 0.3419 - val_sparse_categorical_accuracy: 0.8708\n",
            "Epoch 12/100\n",
            "375/375 [==============================] - 10s 27ms/step - loss: 0.3809 - sparse_categorical_accuracy: 0.8587 - val_loss: 0.3240 - val_sparse_categorical_accuracy: 0.8812\n",
            "Epoch 13/100\n",
            "375/375 [==============================] - 9s 25ms/step - loss: 0.3733 - sparse_categorical_accuracy: 0.8596 - val_loss: 0.3314 - val_sparse_categorical_accuracy: 0.8769\n",
            "Epoch 14/100\n",
            "375/375 [==============================] - 10s 28ms/step - loss: 0.3653 - sparse_categorical_accuracy: 0.8638 - val_loss: 0.3245 - val_sparse_categorical_accuracy: 0.8820\n",
            "Epoch 15/100\n",
            "375/375 [==============================] - 10s 28ms/step - loss: 0.3612 - sparse_categorical_accuracy: 0.8629 - val_loss: 0.3211 - val_sparse_categorical_accuracy: 0.8819\n",
            "Epoch 16/100\n",
            "375/375 [==============================] - 9s 24ms/step - loss: 0.3623 - sparse_categorical_accuracy: 0.8654 - val_loss: 0.3196 - val_sparse_categorical_accuracy: 0.8832\n",
            "Epoch 17/100\n",
            "375/375 [==============================] - 10s 28ms/step - loss: 0.3556 - sparse_categorical_accuracy: 0.8658 - val_loss: 0.3314 - val_sparse_categorical_accuracy: 0.8745\n",
            "Epoch 18/100\n",
            "375/375 [==============================] - 11s 28ms/step - loss: 0.3554 - sparse_categorical_accuracy: 0.8681 - val_loss: 0.3095 - val_sparse_categorical_accuracy: 0.8876\n",
            "Epoch 19/100\n",
            "375/375 [==============================] - 10s 27ms/step - loss: 0.3487 - sparse_categorical_accuracy: 0.8693 - val_loss: 0.3238 - val_sparse_categorical_accuracy: 0.8826\n",
            "Epoch 20/100\n",
            "375/375 [==============================] - 9s 24ms/step - loss: 0.3522 - sparse_categorical_accuracy: 0.8684 - val_loss: 0.3225 - val_sparse_categorical_accuracy: 0.8800\n",
            "Epoch 21/100\n",
            "375/375 [==============================] - 10s 28ms/step - loss: 0.3430 - sparse_categorical_accuracy: 0.8712 - val_loss: 0.3102 - val_sparse_categorical_accuracy: 0.8845\n",
            "Epoch 22/100\n",
            "375/375 [==============================] - 11s 28ms/step - loss: 0.3409 - sparse_categorical_accuracy: 0.8724 - val_loss: 0.3072 - val_sparse_categorical_accuracy: 0.8876\n",
            "Epoch 23/100\n",
            "375/375 [==============================] - 10s 26ms/step - loss: 0.3386 - sparse_categorical_accuracy: 0.8731 - val_loss: 0.3064 - val_sparse_categorical_accuracy: 0.8851\n",
            "Epoch 24/100\n",
            "375/375 [==============================] - 10s 26ms/step - loss: 0.3368 - sparse_categorical_accuracy: 0.8733 - val_loss: 0.3163 - val_sparse_categorical_accuracy: 0.8828\n",
            "Epoch 25/100\n",
            "375/375 [==============================] - 11s 28ms/step - loss: 0.3298 - sparse_categorical_accuracy: 0.8753 - val_loss: 0.3143 - val_sparse_categorical_accuracy: 0.8854\n",
            "Epoch 26/100\n",
            "375/375 [==============================] - 10s 28ms/step - loss: 0.3329 - sparse_categorical_accuracy: 0.8744 - val_loss: 0.3044 - val_sparse_categorical_accuracy: 0.8899\n",
            "Epoch 27/100\n",
            "375/375 [==============================] - 9s 24ms/step - loss: 0.3270 - sparse_categorical_accuracy: 0.8764 - val_loss: 0.3042 - val_sparse_categorical_accuracy: 0.8870\n",
            "Epoch 28/100\n",
            "375/375 [==============================] - 11s 28ms/step - loss: 0.3252 - sparse_categorical_accuracy: 0.8769 - val_loss: 0.2987 - val_sparse_categorical_accuracy: 0.8924\n",
            "Epoch 29/100\n",
            "375/375 [==============================] - 10s 28ms/step - loss: 0.3257 - sparse_categorical_accuracy: 0.8761 - val_loss: 0.3105 - val_sparse_categorical_accuracy: 0.8826\n",
            "Epoch 30/100\n",
            "375/375 [==============================] - 10s 27ms/step - loss: 0.3237 - sparse_categorical_accuracy: 0.8777 - val_loss: 0.3177 - val_sparse_categorical_accuracy: 0.8814\n",
            "Epoch 31/100\n",
            "375/375 [==============================] - 9s 25ms/step - loss: 0.3208 - sparse_categorical_accuracy: 0.8782 - val_loss: 0.3050 - val_sparse_categorical_accuracy: 0.8874\n",
            "Epoch 32/100\n",
            "375/375 [==============================] - 11s 28ms/step - loss: 0.3207 - sparse_categorical_accuracy: 0.8780 - val_loss: 0.2998 - val_sparse_categorical_accuracy: 0.8898\n",
            "Epoch 33/100\n",
            "375/375 [==============================] - 11s 29ms/step - loss: 0.3178 - sparse_categorical_accuracy: 0.8793 - val_loss: 0.3142 - val_sparse_categorical_accuracy: 0.8827\n",
            "Epoch 34/100\n",
            "375/375 [==============================] - 9s 24ms/step - loss: 0.3187 - sparse_categorical_accuracy: 0.8785 - val_loss: 0.2980 - val_sparse_categorical_accuracy: 0.8937\n",
            "Epoch 35/100\n",
            "375/375 [==============================] - 11s 28ms/step - loss: 0.3165 - sparse_categorical_accuracy: 0.8802 - val_loss: 0.2957 - val_sparse_categorical_accuracy: 0.8913\n",
            "Epoch 36/100\n",
            "375/375 [==============================] - 11s 28ms/step - loss: 0.3131 - sparse_categorical_accuracy: 0.8815 - val_loss: 0.2953 - val_sparse_categorical_accuracy: 0.8905\n",
            "Epoch 37/100\n",
            "375/375 [==============================] - 10s 27ms/step - loss: 0.3070 - sparse_categorical_accuracy: 0.8818 - val_loss: 0.2944 - val_sparse_categorical_accuracy: 0.8903\n",
            "Epoch 38/100\n",
            "375/375 [==============================] - 9s 25ms/step - loss: 0.3092 - sparse_categorical_accuracy: 0.8820 - val_loss: 0.2969 - val_sparse_categorical_accuracy: 0.8918\n",
            "Epoch 39/100\n",
            "375/375 [==============================] - 10s 28ms/step - loss: 0.3108 - sparse_categorical_accuracy: 0.8824 - val_loss: 0.2935 - val_sparse_categorical_accuracy: 0.8912\n",
            "Epoch 40/100\n",
            "375/375 [==============================] - 10s 28ms/step - loss: 0.3104 - sparse_categorical_accuracy: 0.8823 - val_loss: 0.2941 - val_sparse_categorical_accuracy: 0.8929\n",
            "Epoch 41/100\n",
            "375/375 [==============================] - 10s 26ms/step - loss: 0.3089 - sparse_categorical_accuracy: 0.8823 - val_loss: 0.2874 - val_sparse_categorical_accuracy: 0.8936\n",
            "Epoch 42/100\n",
            "375/375 [==============================] - 10s 26ms/step - loss: 0.3046 - sparse_categorical_accuracy: 0.8841 - val_loss: 0.2994 - val_sparse_categorical_accuracy: 0.8892\n",
            "Epoch 43/100\n",
            "375/375 [==============================] - 10s 28ms/step - loss: 0.3045 - sparse_categorical_accuracy: 0.8843 - val_loss: 0.2829 - val_sparse_categorical_accuracy: 0.8950\n",
            "Epoch 44/100\n",
            "375/375 [==============================] - 11s 28ms/step - loss: 0.2992 - sparse_categorical_accuracy: 0.8869 - val_loss: 0.2933 - val_sparse_categorical_accuracy: 0.8929\n",
            "Epoch 45/100\n",
            "375/375 [==============================] - 9s 24ms/step - loss: 0.2981 - sparse_categorical_accuracy: 0.8864 - val_loss: 0.2996 - val_sparse_categorical_accuracy: 0.8903\n",
            "Epoch 46/100\n",
            "375/375 [==============================] - 10s 28ms/step - loss: 0.3017 - sparse_categorical_accuracy: 0.8857 - val_loss: 0.2901 - val_sparse_categorical_accuracy: 0.8926\n",
            "Epoch 47/100\n",
            "375/375 [==============================] - 10s 28ms/step - loss: 0.3021 - sparse_categorical_accuracy: 0.8852 - val_loss: 0.2995 - val_sparse_categorical_accuracy: 0.8888\n",
            "Epoch 48/100\n",
            "375/375 [==============================] - 10s 26ms/step - loss: 0.2963 - sparse_categorical_accuracy: 0.8887 - val_loss: 0.2834 - val_sparse_categorical_accuracy: 0.8966\n",
            "Epoch 49/100\n",
            "375/375 [==============================] - 10s 26ms/step - loss: 0.2964 - sparse_categorical_accuracy: 0.8885 - val_loss: 0.2896 - val_sparse_categorical_accuracy: 0.8925\n",
            "Epoch 50/100\n",
            "375/375 [==============================] - 10s 28ms/step - loss: 0.2936 - sparse_categorical_accuracy: 0.8876 - val_loss: 0.2868 - val_sparse_categorical_accuracy: 0.8953\n",
            "Epoch 51/100\n",
            "375/375 [==============================] - 10s 28ms/step - loss: 0.2955 - sparse_categorical_accuracy: 0.8879 - val_loss: 0.2855 - val_sparse_categorical_accuracy: 0.8964\n",
            "Epoch 52/100\n",
            "375/375 [==============================] - 9s 24ms/step - loss: 0.2944 - sparse_categorical_accuracy: 0.8888 - val_loss: 0.2815 - val_sparse_categorical_accuracy: 0.8974\n",
            "Epoch 53/100\n",
            "375/375 [==============================] - 11s 28ms/step - loss: 0.2938 - sparse_categorical_accuracy: 0.8885 - val_loss: 0.2856 - val_sparse_categorical_accuracy: 0.8945\n",
            "Epoch 54/100\n",
            "375/375 [==============================] - 11s 28ms/step - loss: 0.2895 - sparse_categorical_accuracy: 0.8896 - val_loss: 0.2812 - val_sparse_categorical_accuracy: 0.8982\n",
            "Epoch 55/100\n",
            "375/375 [==============================] - 10s 27ms/step - loss: 0.2901 - sparse_categorical_accuracy: 0.8899 - val_loss: 0.2828 - val_sparse_categorical_accuracy: 0.8966\n",
            "Epoch 56/100\n",
            "375/375 [==============================] - 9s 25ms/step - loss: 0.2869 - sparse_categorical_accuracy: 0.8914 - val_loss: 0.2818 - val_sparse_categorical_accuracy: 0.8957\n",
            "Epoch 57/100\n",
            "375/375 [==============================] - 10s 27ms/step - loss: 0.2873 - sparse_categorical_accuracy: 0.8897 - val_loss: 0.2862 - val_sparse_categorical_accuracy: 0.8938\n",
            "Epoch 58/100\n",
            "375/375 [==============================] - 10s 28ms/step - loss: 0.2874 - sparse_categorical_accuracy: 0.8891 - val_loss: 0.2951 - val_sparse_categorical_accuracy: 0.8944\n",
            "Epoch 59/100\n",
            "375/375 [==============================] - 9s 24ms/step - loss: 0.2870 - sparse_categorical_accuracy: 0.8918 - val_loss: 0.2897 - val_sparse_categorical_accuracy: 0.8967\n",
            "Epoch 60/100\n",
            "375/375 [==============================] - 10s 28ms/step - loss: 0.2838 - sparse_categorical_accuracy: 0.8903 - val_loss: 0.2945 - val_sparse_categorical_accuracy: 0.8921\n",
            "Epoch 61/100\n",
            "375/375 [==============================] - 10s 28ms/step - loss: 0.2871 - sparse_categorical_accuracy: 0.8899 - val_loss: 0.2850 - val_sparse_categorical_accuracy: 0.8932\n",
            "Epoch 62/100\n",
            "375/375 [==============================] - 10s 26ms/step - loss: 0.2889 - sparse_categorical_accuracy: 0.8897 - val_loss: 0.2928 - val_sparse_categorical_accuracy: 0.8940\n",
            "Epoch 63/100\n",
            "375/375 [==============================] - 10s 25ms/step - loss: 0.2843 - sparse_categorical_accuracy: 0.8911 - val_loss: 0.2829 - val_sparse_categorical_accuracy: 0.8955\n",
            "Epoch 64/100\n",
            "375/375 [==============================] - 11s 28ms/step - loss: 0.2842 - sparse_categorical_accuracy: 0.8914 - val_loss: 0.2945 - val_sparse_categorical_accuracy: 0.8974\n",
            "Epoch 65/100\n",
            "375/375 [==============================] - 11s 29ms/step - loss: 0.2803 - sparse_categorical_accuracy: 0.8937 - val_loss: 0.2921 - val_sparse_categorical_accuracy: 0.8919\n",
            "Epoch 66/100\n",
            "375/375 [==============================] - 9s 24ms/step - loss: 0.2830 - sparse_categorical_accuracy: 0.8921 - val_loss: 0.2806 - val_sparse_categorical_accuracy: 0.8961\n",
            "Epoch 67/100\n",
            "375/375 [==============================] - 10s 28ms/step - loss: 0.2818 - sparse_categorical_accuracy: 0.8922 - val_loss: 0.2860 - val_sparse_categorical_accuracy: 0.8949\n",
            "Epoch 68/100\n",
            "375/375 [==============================] - 10s 28ms/step - loss: 0.2826 - sparse_categorical_accuracy: 0.8916 - val_loss: 0.2798 - val_sparse_categorical_accuracy: 0.8988\n",
            "Epoch 69/100\n",
            "375/375 [==============================] - 10s 27ms/step - loss: 0.2790 - sparse_categorical_accuracy: 0.8923 - val_loss: 0.2860 - val_sparse_categorical_accuracy: 0.8952\n",
            "Epoch 70/100\n",
            "375/375 [==============================] - 9s 25ms/step - loss: 0.2813 - sparse_categorical_accuracy: 0.8917 - val_loss: 0.2744 - val_sparse_categorical_accuracy: 0.8988\n",
            "Epoch 71/100\n",
            "375/375 [==============================] - 10s 28ms/step - loss: 0.2759 - sparse_categorical_accuracy: 0.8939 - val_loss: 0.2823 - val_sparse_categorical_accuracy: 0.8947\n",
            "Epoch 72/100\n",
            "375/375 [==============================] - 10s 28ms/step - loss: 0.2779 - sparse_categorical_accuracy: 0.8940 - val_loss: 0.2879 - val_sparse_categorical_accuracy: 0.8947\n",
            "Epoch 73/100\n",
            "375/375 [==============================] - 9s 24ms/step - loss: 0.2786 - sparse_categorical_accuracy: 0.8922 - val_loss: 0.2801 - val_sparse_categorical_accuracy: 0.8988\n",
            "Epoch 74/100\n",
            "375/375 [==============================] - 11s 28ms/step - loss: 0.2740 - sparse_categorical_accuracy: 0.8954 - val_loss: 0.2859 - val_sparse_categorical_accuracy: 0.8957\n",
            "Epoch 75/100\n",
            "375/375 [==============================] - 10s 28ms/step - loss: 0.2771 - sparse_categorical_accuracy: 0.8952 - val_loss: 0.2860 - val_sparse_categorical_accuracy: 0.8951\n",
            "Epoch 76/100\n",
            "375/375 [==============================] - 10s 27ms/step - loss: 0.2776 - sparse_categorical_accuracy: 0.8938 - val_loss: 0.2867 - val_sparse_categorical_accuracy: 0.8970\n",
            "Epoch 77/100\n",
            "375/375 [==============================] - 9s 25ms/step - loss: 0.2737 - sparse_categorical_accuracy: 0.8941 - val_loss: 0.2798 - val_sparse_categorical_accuracy: 0.8989\n",
            "Epoch 78/100\n",
            "375/375 [==============================] - 10s 28ms/step - loss: 0.2759 - sparse_categorical_accuracy: 0.8942 - val_loss: 0.2795 - val_sparse_categorical_accuracy: 0.9002\n",
            "Epoch 79/100\n",
            "375/375 [==============================] - 11s 29ms/step - loss: 0.2738 - sparse_categorical_accuracy: 0.8957 - val_loss: 0.2720 - val_sparse_categorical_accuracy: 0.9013\n",
            "Epoch 80/100\n",
            "375/375 [==============================] - 9s 24ms/step - loss: 0.2742 - sparse_categorical_accuracy: 0.8954 - val_loss: 0.2762 - val_sparse_categorical_accuracy: 0.9008\n",
            "Epoch 81/100\n",
            "375/375 [==============================] - 11s 28ms/step - loss: 0.2711 - sparse_categorical_accuracy: 0.8957 - val_loss: 0.2781 - val_sparse_categorical_accuracy: 0.8988\n",
            "Epoch 82/100\n",
            "375/375 [==============================] - 10s 28ms/step - loss: 0.2719 - sparse_categorical_accuracy: 0.8969 - val_loss: 0.2728 - val_sparse_categorical_accuracy: 0.8998\n",
            "Epoch 83/100\n",
            "375/375 [==============================] - 10s 28ms/step - loss: 0.2685 - sparse_categorical_accuracy: 0.8975 - val_loss: 0.2776 - val_sparse_categorical_accuracy: 0.8993\n",
            "Epoch 84/100\n",
            "375/375 [==============================] - 9s 25ms/step - loss: 0.2718 - sparse_categorical_accuracy: 0.8953 - val_loss: 0.2749 - val_sparse_categorical_accuracy: 0.9003\n",
            "Epoch 85/100\n",
            "375/375 [==============================] - 10s 28ms/step - loss: 0.2711 - sparse_categorical_accuracy: 0.8974 - val_loss: 0.2735 - val_sparse_categorical_accuracy: 0.9013\n",
            "Epoch 86/100\n",
            "375/375 [==============================] - 11s 28ms/step - loss: 0.2668 - sparse_categorical_accuracy: 0.8983 - val_loss: 0.2733 - val_sparse_categorical_accuracy: 0.8980\n",
            "Epoch 87/100\n",
            "375/375 [==============================] - 9s 24ms/step - loss: 0.2657 - sparse_categorical_accuracy: 0.8981 - val_loss: 0.2750 - val_sparse_categorical_accuracy: 0.8980\n",
            "Epoch 88/100\n",
            "375/375 [==============================] - 10s 28ms/step - loss: 0.2709 - sparse_categorical_accuracy: 0.8959 - val_loss: 0.2785 - val_sparse_categorical_accuracy: 0.9003\n",
            "Epoch 89/100\n",
            "375/375 [==============================] - 11s 28ms/step - loss: 0.2667 - sparse_categorical_accuracy: 0.8986 - val_loss: 0.2792 - val_sparse_categorical_accuracy: 0.8980\n",
            "Epoch 90/100\n",
            "375/375 [==============================] - 10s 27ms/step - loss: 0.2679 - sparse_categorical_accuracy: 0.8971 - val_loss: 0.2780 - val_sparse_categorical_accuracy: 0.8996\n",
            "Epoch 91/100\n",
            "375/375 [==============================] - 9s 25ms/step - loss: 0.2658 - sparse_categorical_accuracy: 0.8981 - val_loss: 0.2867 - val_sparse_categorical_accuracy: 0.8971\n",
            "Epoch 92/100\n",
            "375/375 [==============================] - 11s 28ms/step - loss: 0.2637 - sparse_categorical_accuracy: 0.8988 - val_loss: 0.2701 - val_sparse_categorical_accuracy: 0.9022\n",
            "Epoch 93/100\n",
            "375/375 [==============================] - 10s 28ms/step - loss: 0.2661 - sparse_categorical_accuracy: 0.8980 - val_loss: 0.2806 - val_sparse_categorical_accuracy: 0.8973\n",
            "Epoch 94/100\n",
            "375/375 [==============================] - 9s 24ms/step - loss: 0.2657 - sparse_categorical_accuracy: 0.8993 - val_loss: 0.2738 - val_sparse_categorical_accuracy: 0.8997\n",
            "Epoch 95/100\n",
            "375/375 [==============================] - 10s 28ms/step - loss: 0.2639 - sparse_categorical_accuracy: 0.8985 - val_loss: 0.2733 - val_sparse_categorical_accuracy: 0.8994\n",
            "Epoch 96/100\n",
            "375/375 [==============================] - 11s 28ms/step - loss: 0.2614 - sparse_categorical_accuracy: 0.9007 - val_loss: 0.2764 - val_sparse_categorical_accuracy: 0.9009\n",
            "Epoch 97/100\n",
            "375/375 [==============================] - 10s 26ms/step - loss: 0.2632 - sparse_categorical_accuracy: 0.8996 - val_loss: 0.2813 - val_sparse_categorical_accuracy: 0.8982\n",
            "Epoch 98/100\n",
            "375/375 [==============================] - 10s 26ms/step - loss: 0.2628 - sparse_categorical_accuracy: 0.8989 - val_loss: 0.2761 - val_sparse_categorical_accuracy: 0.8988\n",
            "Epoch 99/100\n",
            "375/375 [==============================] - 11s 28ms/step - loss: 0.2630 - sparse_categorical_accuracy: 0.9005 - val_loss: 0.2807 - val_sparse_categorical_accuracy: 0.8982\n",
            "Epoch 100/100\n",
            "375/375 [==============================] - 10s 28ms/step - loss: 0.2611 - sparse_categorical_accuracy: 0.9000 - val_loss: 0.2770 - val_sparse_categorical_accuracy: 0.8997\n",
            "313/313 [==============================] - 1s 4ms/step - loss: 0.3021 - sparse_categorical_accuracy: 0.8925\n",
            "\n",
            "Test accuracy: 0.8924999833106995\n"
          ]
        }
      ]
    },
    {
      "cell_type": "code",
      "source": [
        "print('\\nhistory dict:', list(history.history.keys()))"
      ],
      "metadata": {
        "id": "CxRE-B_Q6Sii",
        "colab": {
          "base_uri": "https://localhost:8080/"
        },
        "outputId": "490a7981-02b3-47d0-a485-d65205c5c4d8"
      },
      "execution_count": 12,
      "outputs": [
        {
          "output_type": "stream",
          "name": "stdout",
          "text": [
            "\n",
            "history dict: ['loss', 'sparse_categorical_accuracy', 'val_loss', 'val_sparse_categorical_accuracy']\n"
          ]
        }
      ]
    },
    {
      "cell_type": "code",
      "source": [
        "result = model.evaluate(x_test, y_test)\n",
        "print(result)"
      ],
      "metadata": {
        "id": "YXpwRRTvTBNg",
        "colab": {
          "base_uri": "https://localhost:8080/"
        },
        "outputId": "0d43efdc-6140-481e-dbbf-3a925eeef42a"
      },
      "execution_count": 13,
      "outputs": [
        {
          "output_type": "stream",
          "name": "stdout",
          "text": [
            "313/313 [==============================] - 1s 4ms/step - loss: 0.3021 - sparse_categorical_accuracy: 0.8925\n",
            "[0.30212822556495667, 0.8924999833106995]\n"
          ]
        }
      ]
    },
    {
      "cell_type": "code",
      "source": [
        "saved_model = load_model('best_model.h5')\n",
        "result = saved_model.evaluate(x_test, y_test)\n",
        "print(result)"
      ],
      "metadata": {
        "colab": {
          "base_uri": "https://localhost:8080/"
        },
        "id": "dpaZAW0vp1AZ",
        "outputId": "13cff632-68bd-416a-df8d-d50dd0d4b068"
      },
      "execution_count": 14,
      "outputs": [
        {
          "output_type": "stream",
          "name": "stdout",
          "text": [
            "313/313 [==============================] - 1s 4ms/step - loss: 0.2993 - sparse_categorical_accuracy: 0.8925\n",
            "[0.29925552010536194, 0.8924999833106995]\n"
          ]
        }
      ]
    },
    {
      "cell_type": "code",
      "source": [
        "# from keras.models import load_model\n",
        "# saved_model = load_model('best_model.h5')\n",
        "# # _, train_acc = saved_model.evaluate(x_train, y_train, verbose=0)\n",
        "# _, test_acc = saved_model.evaluate(x_test, y_test, verbose=0)\n",
        "# print('Test: %.3f' % (test_acc))"
      ],
      "metadata": {
        "id": "DR_MS9DABo_K"
      },
      "execution_count": 15,
      "outputs": []
    },
    {
      "cell_type": "code",
      "source": [
        "history_dict = history.history\n",
        "loss_values = history_dict['loss']\n",
        "val_loss_values = history_dict['val_loss']\n",
        "\n",
        "epochs = range(1, len(history_dict['loss']) + 1)\n",
        "\n",
        "plt.figure(figsize=(10, 5))\n",
        "plt.plot(epochs, loss_values, 'bo', label='Training loss')\n",
        "plt.plot(epochs, val_loss_values, 'r', label='Validation loss')\n",
        "plt.title('Training and validation loss')\n",
        "plt.xlabel('Epochs')\n",
        "plt.ylabel('Loss')\n",
        "# plt.legend()\n",
        "plt.grid(True)\n",
        "plt.show()\n",
        "1\n",
        "plt.clf()\n",
        "plt.figure(figsize=(10, 5))\n",
        "val_acc_values = history_dict['sparse_categorical_accuracy']\n",
        "plt.plot(epochs, history_dict['sparse_categorical_accuracy'], 'bo', label='Training acc')\n",
        "plt.plot(epochs, history_dict['val_sparse_categorical_accuracy'], 'r', label='Validation acc')\n",
        "plt.ylim (0.88, 0.94)\n",
        "plt.title('Training and validation accuracy')\n",
        "plt.xlabel('Epochs')\n",
        "plt.ylabel('Accuracy')\n",
        "plt.legend()\n",
        "plt.grid(True)"
      ],
      "metadata": {
        "id": "2Ll_5sGlXKMH",
        "colab": {
          "base_uri": "https://localhost:8080/",
          "height": 975
        },
        "outputId": "c80bc8b2-c39d-481a-a66a-7bc73850946e"
      },
      "execution_count": 16,
      "outputs": [
        {
          "output_type": "display_data",
          "data": {
            "text/plain": [
              "<Figure size 1000x500 with 1 Axes>"
            ],
            "image/png": "[encoded data removed]"
          },
          "metadata": {}
        },
        {
          "output_type": "display_data",
          "data": {
            "text/plain": [
              "<Figure size 640x480 with 0 Axes>"
            ]
          },
          "metadata": {}
        },
        {
          "output_type": "display_data",
          "data": {
            "text/plain": [
              "<Figure size 1000x500 with 1 Axes>"
            ],
            "image/png": "[encoded data removed]"
          },
          "metadata": {}
        }
      ]
    },
    {
      "cell_type": "code",
      "source": [
        "probability_model = tf.keras.Sequential([model,\n",
        "                                         tf.keras.layers.Softmax()])"
      ],
      "metadata": {
        "id": "VzOdKAT_uV-f"
      },
      "execution_count": 17,
      "outputs": []
    },
    {
      "cell_type": "code",
      "source": [
        "predictions = probability_model.predict(x_test)"
      ],
      "metadata": {
        "id": "f4is3NFruYom",
        "colab": {
          "base_uri": "https://localhost:8080/"
        },
        "outputId": "dfa5040d-29b0-4a23-fc5d-85fcf3474816"
      },
      "execution_count": 18,
      "outputs": [
        {
          "output_type": "stream",
          "name": "stdout",
          "text": [
            "313/313 [==============================] - 1s 4ms/step\n"
          ]
        }
      ]
    },
    {
      "cell_type": "code",
      "source": [
        "predictions[0]"
      ],
      "metadata": {
        "id": "82cigvlZudz_",
        "colab": {
          "base_uri": "https://localhost:8080/"
        },
        "outputId": "df89c13c-8db0-4442-eb43-eb2f843d4a66"
      },
      "execution_count": 19,
      "outputs": [
        {
          "output_type": "execute_result",
          "data": {
            "text/plain": [
              "array([0.08549009, 0.08549009, 0.0854901 , 0.08549011, 0.0854901 ,\n",
              "       0.08552083, 0.0854901 , 0.08652528, 0.08549009, 0.22952323],\n",
              "      dtype=float32)"
            ]
          },
          "metadata": {},
          "execution_count": 19
        }
      ]
    },
    {
      "cell_type": "code",
      "source": [
        "model.summary()"
      ],
      "metadata": {
        "id": "6RsQPHyYuNGe",
        "colab": {
          "base_uri": "https://localhost:8080/"
        },
        "outputId": "2234983d-5484-4fc0-bbe3-b5b40cf6a613"
      },
      "execution_count": 20,
      "outputs": [
        {
          "output_type": "stream",
          "name": "stdout",
          "text": [
            "Model: \"sequential\"\n",
            "_________________________________________________________________\n",
            " Layer (type)                Output Shape              Param #   \n",
            "=================================================================\n",
            " flatten (Flatten)           (None, 784)               0         \n",
            "                                                                 \n",
            " dropout (Dropout)           (None, 784)               0         \n",
            "                                                                 \n",
            " dense (Dense)               (None, 256)               200960    \n",
            "                                                                 \n",
            " batch_normalization (Batch  (None, 256)               1024      \n",
            " Normalization)                                                  \n",
            "                                                                 \n",
            " dropout_1 (Dropout)         (None, 256)               0         \n",
            "                                                                 \n",
            " dense_1 (Dense)             (None, 512)               131584    \n",
            "                                                                 \n",
            " dropout_2 (Dropout)         (None, 512)               0         \n",
            "                                                                 \n",
            " dense_2 (Dense)             (None, 512)               262656    \n",
            "                                                                 \n",
            " batch_normalization_1 (Bat  (None, 512)               2048      \n",
            " chNormalization)                                                \n",
            "                                                                 \n",
            " dropout_3 (Dropout)         (None, 512)               0         \n",
            "                                                                 \n",
            " dense_3 (Dense)             (None, 10)                5130      \n",
            "                                                                 \n",
            "=================================================================\n",
            "Total params: 603402 (2.30 MB)\n",
            "Trainable params: 601866 (2.30 MB)\n",
            "Non-trainable params: 1536 (6.00 KB)\n",
            "_________________________________________________________________\n"
          ]
        }
      ]
    }
  ]
}