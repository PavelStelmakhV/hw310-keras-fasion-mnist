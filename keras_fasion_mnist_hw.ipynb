{
  "nbformat": 4,
  "nbformat_minor": 0,
  "metadata": {
    "colab": {
      "provenance": [],
      "gpuType": "T4",
      "authorship_tag": "ABX9TyPUzXwWgNmwM/239O0o2cnZ",
      "include_colab_link": true
    },
    "kernelspec": {
      "name": "python3",
      "display_name": "Python 3"
    },
    "language_info": {
      "name": "python"
    },
    "accelerator": "GPU"
  },
  "cells": [
    {
      "cell_type": "markdown",
      "metadata": {
        "id": "view-in-github",
        "colab_type": "text"
      },
      "source": [
        "<a href=\"https://colab.research.google.com/github/PavelStelmakhV/hw310-keras-fasion-mnist/blob/main/keras_fasion_mnist_hw.ipynb\" target=\"_parent\"><img src=\"https://colab.research.google.com/assets/colab-badge.svg\" alt=\"Open In Colab\"/></a>"
      ]
    },
    {
      "cell_type": "code",
      "execution_count": 12,
      "metadata": {
        "id": "vv7w0bgAVQPO"
      },
      "outputs": [],
      "source": [
        "import tensorflow as tf\n",
        "import numpy as np\n",
        "import matplotlib.pyplot as plt\n",
        "import tf_keras\n",
        "\n",
        "from keras import layers\n",
        "from keras import regularizers\n",
        "from keras import callbacks\n",
        "from keras import initializers\n",
        "from keras.layers import BatchNormalization\n",
        "from keras.models import load_model"
      ]
    },
    {
      "cell_type": "code",
      "source": [
        "fashion_mnist = tf.keras.datasets.fashion_mnist\n",
        "\n",
        "(x_train, y_train), (x_test, y_test) = fashion_mnist.load_data()"
      ],
      "metadata": {
        "id": "mOpywsNAzfGB"
      },
      "execution_count": 13,
      "outputs": []
    },
    {
      "cell_type": "code",
      "source": [
        "# create validation data\n",
        "x_val = x_train[-10000:, :, :]\n",
        "x_train = x_train[:-10000, :, :]\n",
        "\n",
        "y_val = y_train[-10000:]\n",
        "y_train = y_train[:-10000]"
      ],
      "metadata": {
        "id": "jAs92sDoVU89"
      },
      "execution_count": 14,
      "outputs": []
    },
    {
      "cell_type": "code",
      "source": [
        "# mirror train image\n",
        "x_train_add = np.rot90(x_train, k=1, axes=(1,2))\n",
        "x_train_add = np.transpose(x_train_add, (0, 2, 1))"
      ],
      "metadata": {
        "id": "UHNuw-3D_v7x"
      },
      "execution_count": 15,
      "outputs": []
    },
    {
      "cell_type": "code",
      "source": [
        "y_train_add = y_train.copy()"
      ],
      "metadata": {
        "id": "TNDXV8RfZbt1"
      },
      "execution_count": 16,
      "outputs": []
    },
    {
      "cell_type": "code",
      "source": [
        "# remove boots image from addition data\n",
        "romove_index = np.where(y_train_add is [5, 7, 9] )"
      ],
      "metadata": {
        "id": "506yp4e5UqKp",
        "outputId": "79daa44f-ba9b-422f-a7ae-5050815714d2",
        "colab": {
          "base_uri": "https://localhost:8080/"
        }
      },
      "execution_count": 19,
      "outputs": [
        {
          "output_type": "stream",
          "name": "stderr",
          "text": [
            "<ipython-input-19-a5b4a5f05784>:2: DeprecationWarning: Calling nonzero on 0d arrays is deprecated, as it behaves surprisingly. Use `atleast_1d(cond).nonzero()` if the old behavior was intended. If the context of this warning is of the form `arr[nonzero(cond)]`, just use `arr[cond]`.\n",
            "  romove_index = np.where(y_train_add is [5, 7, 9] )\n"
          ]
        }
      ]
    },
    {
      "cell_type": "code",
      "source": [
        "x_train = np.concatenate([\n",
        "    x_train,\n",
        "    x_train_add\n",
        "])"
      ],
      "metadata": {
        "id": "C25g0-L5PuhV"
      },
      "execution_count": null,
      "outputs": []
    },
    {
      "cell_type": "code",
      "source": [
        "y_train = np.concatenate([\n",
        "    y_train,\n",
        "    y_train\n",
        "])"
      ],
      "metadata": {
        "id": "JiyI9CE-RWnR"
      },
      "execution_count": null,
      "outputs": []
    },
    {
      "cell_type": "code",
      "source": [
        "plt.figure()\n",
        "plt.imshow(x_train[50001])\n",
        "plt.colorbar()\n",
        "plt.grid(False)\n",
        "plt.show()"
      ],
      "metadata": {
        "colab": {
          "base_uri": "https://localhost:8080/",
          "height": 430
        },
        "id": "mq_QalIABCeU",
        "outputId": "d8a1448d-d87a-4015-ad2f-b6506d88ad7b"
      },
      "execution_count": 8,
      "outputs": [
        {
          "output_type": "display_data",
          "data": {
            "text/plain": [
              "<Figure size 640x480 with 2 Axes>"
            ],
            "image/png": "[encoded data removed]"
          },
          "metadata": {}
        }
      ]
    },
    {
      "cell_type": "code",
      "source": [
        "y_train[5]"
      ],
      "metadata": {
        "id": "wsP4Wjjp__SX",
        "outputId": "202f1bf4-a9a5-42be-ba8c-58c9e06d1c1b",
        "colab": {
          "base_uri": "https://localhost:8080/"
        }
      },
      "execution_count": null,
      "outputs": [
        {
          "output_type": "execute_result",
          "data": {
            "text/plain": [
              "2"
            ]
          },
          "metadata": {},
          "execution_count": 153
        }
      ]
    },
    {
      "cell_type": "code",
      "source": [
        "y_train[60005]"
      ],
      "metadata": {
        "id": "CGosWf8dAI5S",
        "outputId": "5b023539-d85b-4a32-e946-19d38a68ef90",
        "colab": {
          "base_uri": "https://localhost:8080/"
        }
      },
      "execution_count": null,
      "outputs": [
        {
          "output_type": "execute_result",
          "data": {
            "text/plain": [
              "2"
            ]
          },
          "metadata": {},
          "execution_count": 152
        }
      ]
    },
    {
      "cell_type": "code",
      "source": [
        "plt.figure()\n",
        "plt.imshow(x_train_rot_T[2])\n",
        "plt.colorbar()\n",
        "plt.grid(False)\n",
        "plt.show()"
      ],
      "metadata": {
        "colab": {
          "base_uri": "https://localhost:8080/",
          "height": 430
        },
        "id": "i4QxECmXBVKy",
        "outputId": "0176f06a-6cb7-4f3e-8328-d4dabbe64a2a"
      },
      "execution_count": null,
      "outputs": [
        {
          "output_type": "display_data",
          "data": {
            "text/plain": [
              "<Figure size 640x480 with 2 Axes>"
            ],
            "image/png": "[encoded data removed]"
          },
          "metadata": {}
        }
      ]
    },
    {
      "cell_type": "code",
      "source": [
        "x_train = x_train.astype('float32') / 255\n",
        "x_test = x_test.astype('float32') / 255\n",
        "\n",
        "y_train = y_train.astype('float32')\n",
        "y_test = y_test.astype('float32')"
      ],
      "metadata": {
        "id": "t2gucjsJ0KUi"
      },
      "execution_count": null,
      "outputs": []
    },
    {
      "cell_type": "code",
      "source": [
        "w_init_tanh = initializers.glorot_normal(seed=111)\n",
        "# w_init_relu = initializers.HeNormal(seed=66)\n",
        "w_init_relu = initializers.HeUniform(seed=24)\n",
        "b_init = initializers.Zeros()"
      ],
      "metadata": {
        "id": "yL9QTEtBGy4N"
      },
      "execution_count": null,
      "outputs": []
    },
    {
      "cell_type": "code",
      "source": [
        "drop_out = 0.33"
      ],
      "metadata": {
        "id": "flsDcVTnU10J"
      },
      "execution_count": null,
      "outputs": []
    },
    {
      "cell_type": "code",
      "source": [
        "def layer_relu(model, neurons):\n",
        "  model.add(BatchNormalization())\n",
        "  model.add(layers.Dense(neurons,\n",
        "                       activation='relu',\n",
        "                       kernel_initializer=w_init_relu,\n",
        "                       bias_initializer=b_init))\n",
        "  model.add(layers.Dropout(drop_out))\n",
        "  return model"
      ],
      "metadata": {
        "id": "ZZgs_25rKBCp"
      },
      "execution_count": null,
      "outputs": []
    },
    {
      "cell_type": "code",
      "source": [
        "def layer_tanh(model, neurons):\n",
        "  model.add(BatchNormalization())\n",
        "  model.add(layers.Dense(neurons,\n",
        "                        activation='tanh',\n",
        "                        kernel_initializer=w_init_tanh,\n",
        "                        bias_initializer=b_init))\n",
        "  model.add(layers.Dropout(drop_out))\n",
        "  return model"
      ],
      "metadata": {
        "id": "90JLLnkBR50t"
      },
      "execution_count": null,
      "outputs": []
    },
    {
      "cell_type": "code",
      "source": [],
      "metadata": {
        "id": "Va9BaQ9eG_uz"
      },
      "execution_count": null,
      "outputs": []
    },
    {
      "cell_type": "code",
      "source": [
        "model = tf.keras.Sequential()\n",
        "\n",
        "neurons = 256\n",
        "\n",
        "model.add(layers.Flatten(input_shape=(28, 28)))\n",
        "model.add(layers.Dropout(drop_out))\n",
        "\n",
        "model = layer_relu(model, neurons*1)\n",
        "model = layer_relu(model, neurons*2)\n",
        "model = layer_relu(model, neurons*2)\n",
        "# model = layer_relu(model, neurons*1)\n",
        "\n",
        "\n",
        "model.add(layers.Dense(10, activation='softmax'))"
      ],
      "metadata": {
        "id": "atS39i4d0aqW"
      },
      "execution_count": null,
      "outputs": []
    },
    {
      "cell_type": "markdown",
      "source": [
        "++++++++++++++++++++++++++++++++++++++++++++++++++++++++++++++++++++++++++++++++"
      ],
      "metadata": {
        "id": "tZO7hl7pM63y"
      }
    },
    {
      "cell_type": "code",
      "source": [
        "optimizer = tf.keras.optimizers.Nadam(learning_rate=0.0003,\n",
        "                                      beta_1=0.92,\n",
        "                                      beta_2=0.999,\n",
        "                                      epsilon=1e-04\n",
        ")"
      ],
      "metadata": {
        "id": "EzfnaqIZlfy8"
      },
      "execution_count": null,
      "outputs": []
    },
    {
      "cell_type": "markdown",
      "source": [
        "++++++++++++++++++++++++++++++++++++++++++++++++++++++++++++++++++++++++++++++++"
      ],
      "metadata": {
        "id": "KHmBptvOM95Z"
      }
    },
    {
      "cell_type": "code",
      "source": [
        "model.compile(#optimizer='adam',\n",
        "              # optimizer='adamax',\n",
        "              optimizer=optimizer,\n",
        "              # optimizer='rmsprop',\n",
        "              # optimizer='sgd',\n",
        "              # optimizer='adadelta',\n",
        "              # loss='binary_crossentropy',\n",
        "              loss=tf.keras.losses.SparseCategoricalCrossentropy(),\n",
        "              metrics=['accuracy']) # sparse_categorical_accuracy"
      ],
      "metadata": {
        "id": "hENVaAC7ilNY"
      },
      "execution_count": null,
      "outputs": []
    },
    {
      "cell_type": "code",
      "source": [
        "x = np.random.random((1, 28, 28))\n",
        "a = model.predict(x)\n",
        "_ = plt.hist(np.transpose(a))"
      ],
      "metadata": {
        "id": "RFgZHNNFMa8p",
        "outputId": "cdd3b614-ba8d-4b1e-f0b6-c16cf7eeae54",
        "colab": {
          "base_uri": "https://localhost:8080/",
          "height": 448
        }
      },
      "execution_count": null,
      "outputs": [
        {
          "output_type": "stream",
          "name": "stdout",
          "text": [
            "1/1 [==============================] - 0s 167ms/step\n"
          ]
        },
        {
          "output_type": "display_data",
          "data": {
            "text/plain": [
              "<Figure size 640x480 with 1 Axes>"
            ],
            "image/png": "[encoded data removed]"
          },
          "metadata": {}
        }
      ]
    },
    {
      "cell_type": "code",
      "source": [
        "y_pred = model.predict(x_test)"
      ],
      "metadata": {
        "id": "UDP8OKKZ8oQa",
        "outputId": "e6f40d9b-0ae4-4c81-afe5-927400d1fc50",
        "colab": {
          "base_uri": "https://localhost:8080/"
        }
      },
      "execution_count": null,
      "outputs": [
        {
          "output_type": "stream",
          "name": "stdout",
          "text": [
            "313/313 [==============================] - 2s 6ms/step\n"
          ]
        }
      ]
    },
    {
      "cell_type": "code",
      "source": [
        "callback = callbacks.EarlyStopping(monitor='val_loss',\n",
        "                                   patience=50,\n",
        "                                   restore_best_weights=True,\n",
        "                                   )\n",
        "es = callbacks.EarlyStopping(monitor='val_loss', mode='min', verbose=0, patience=60)\n",
        "mc = callbacks.ModelCheckpoint('best_model.h5', monitor='accuracy', mode='max', verbose=0, save_best_only=True)\n"
      ],
      "metadata": {
        "id": "5ihU4exVlsjm"
      },
      "execution_count": null,
      "outputs": []
    },
    {
      "cell_type": "code",
      "source": [
        "history = model.fit(x_train, y_train,\n",
        "                    epochs=80,\n",
        "                    batch_size=128,\n",
        "                    # callbacks=[callback],\n",
        "                    callbacks=[mc],\n",
        "                    verbose=1, #многословие\n",
        "                    # validation_split=0.2\n",
        "                    validation_data=(x_val, y_val)\n",
        "                    )\n",
        "test_loss, test_acc = model.evaluate(x_test, y_test)\n",
        "print('\\nTest accuracy:', test_acc)"
      ],
      "metadata": {
        "id": "FH8HcMNm233I",
        "outputId": "c85c56ba-4a31-4ec4-a292-30cb299ab616",
        "colab": {
          "base_uri": "https://localhost:8080/"
        }
      },
      "execution_count": null,
      "outputs": [
        {
          "output_type": "stream",
          "name": "stdout",
          "text": [
            "Epoch 1/200\n",
            "844/844 [==============================] - 25s 26ms/step - loss: 0.7981 - accuracy: 0.7171 - val_loss: 0.4572 - val_accuracy: 0.8335\n",
            "Epoch 2/200\n",
            "  4/844 [..............................] - ETA: 19s - loss: 0.5893 - accuracy: 0.7773"
          ]
        },
        {
          "output_type": "stream",
          "name": "stderr",
          "text": [
            "/usr/local/lib/python3.10/dist-packages/keras/src/engine/training.py:3103: UserWarning: You are saving your model as an HDF5 file via `model.save()`. This file format is considered legacy. We recommend using instead the native Keras format, e.g. `model.save('my_model.keras')`.\n",
            "  saving_api.save_model(\n"
          ]
        },
        {
          "output_type": "stream",
          "name": "stdout",
          "text": [
            "844/844 [==============================] - 22s 26ms/step - loss: 0.5448 - accuracy: 0.8000 - val_loss: 0.4080 - val_accuracy: 0.8499\n",
            "Epoch 3/200\n",
            "844/844 [==============================] - 21s 25ms/step - loss: 0.4859 - accuracy: 0.8204 - val_loss: 0.4029 - val_accuracy: 0.8520\n",
            "Epoch 4/200\n",
            "844/844 [==============================] - 21s 25ms/step - loss: 0.4556 - accuracy: 0.8296 - val_loss: 0.3790 - val_accuracy: 0.8606\n",
            "Epoch 5/200\n",
            "844/844 [==============================] - 20s 24ms/step - loss: 0.4297 - accuracy: 0.8402 - val_loss: 0.3586 - val_accuracy: 0.8667\n",
            "Epoch 6/200\n",
            "844/844 [==============================] - 21s 25ms/step - loss: 0.4125 - accuracy: 0.8464 - val_loss: 0.3465 - val_accuracy: 0.8699\n",
            "Epoch 7/200\n",
            "844/844 [==============================] - 21s 25ms/step - loss: 0.3997 - accuracy: 0.8511 - val_loss: 0.3393 - val_accuracy: 0.8753\n",
            "Epoch 8/200\n",
            "844/844 [==============================] - 20s 24ms/step - loss: 0.3881 - accuracy: 0.8549 - val_loss: 0.3283 - val_accuracy: 0.8766\n",
            "Epoch 9/200\n",
            "844/844 [==============================] - 22s 26ms/step - loss: 0.3769 - accuracy: 0.8597 - val_loss: 0.3232 - val_accuracy: 0.8779\n",
            "Epoch 10/200\n",
            "844/844 [==============================] - 21s 25ms/step - loss: 0.3703 - accuracy: 0.8610 - val_loss: 0.3127 - val_accuracy: 0.8815\n",
            "Epoch 11/200\n",
            "844/844 [==============================] - 20s 24ms/step - loss: 0.3609 - accuracy: 0.8650 - val_loss: 0.3044 - val_accuracy: 0.8838\n",
            "Epoch 12/200\n",
            "844/844 [==============================] - 21s 25ms/step - loss: 0.3553 - accuracy: 0.8666 - val_loss: 0.3000 - val_accuracy: 0.8871\n",
            "Epoch 13/200\n",
            "844/844 [==============================] - 21s 25ms/step - loss: 0.3469 - accuracy: 0.8691 - val_loss: 0.2974 - val_accuracy: 0.8885\n",
            "Epoch 14/200\n",
            "844/844 [==============================] - 20s 24ms/step - loss: 0.3407 - accuracy: 0.8716 - val_loss: 0.2907 - val_accuracy: 0.8909\n",
            "Epoch 15/200\n",
            "844/844 [==============================] - 21s 25ms/step - loss: 0.3395 - accuracy: 0.8715 - val_loss: 0.2875 - val_accuracy: 0.8907\n",
            "Epoch 16/200\n",
            "844/844 [==============================] - 21s 25ms/step - loss: 0.3352 - accuracy: 0.8741 - val_loss: 0.2837 - val_accuracy: 0.8921\n",
            "Epoch 17/200\n",
            "844/844 [==============================] - 21s 25ms/step - loss: 0.3285 - accuracy: 0.8756 - val_loss: 0.2815 - val_accuracy: 0.8933\n",
            "Epoch 18/200\n",
            "844/844 [==============================] - 22s 26ms/step - loss: 0.3248 - accuracy: 0.8774 - val_loss: 0.2851 - val_accuracy: 0.8923\n",
            "Epoch 19/200\n",
            "844/844 [==============================] - 21s 25ms/step - loss: 0.3217 - accuracy: 0.8785 - val_loss: 0.2817 - val_accuracy: 0.8931\n",
            "Epoch 20/200\n",
            "844/844 [==============================] - 20s 24ms/step - loss: 0.3193 - accuracy: 0.8799 - val_loss: 0.2805 - val_accuracy: 0.8931\n",
            "Epoch 21/200\n",
            "844/844 [==============================] - 21s 25ms/step - loss: 0.3154 - accuracy: 0.8805 - val_loss: 0.2762 - val_accuracy: 0.8960\n",
            "Epoch 22/200\n",
            "844/844 [==============================] - 21s 25ms/step - loss: 0.3108 - accuracy: 0.8822 - val_loss: 0.2686 - val_accuracy: 0.8978\n",
            "Epoch 23/200\n",
            "844/844 [==============================] - 20s 24ms/step - loss: 0.3101 - accuracy: 0.8831 - val_loss: 0.2662 - val_accuracy: 0.8995\n",
            "Epoch 24/200\n",
            "844/844 [==============================] - 22s 26ms/step - loss: 0.3067 - accuracy: 0.8839 - val_loss: 0.2719 - val_accuracy: 0.8980\n",
            "Epoch 25/200\n",
            "844/844 [==============================] - 28s 34ms/step - loss: 0.3021 - accuracy: 0.8854 - val_loss: 0.2688 - val_accuracy: 0.9004\n",
            "Epoch 26/200\n",
            "844/844 [==============================] - 21s 25ms/step - loss: 0.3013 - accuracy: 0.8860 - val_loss: 0.2589 - val_accuracy: 0.9002\n",
            "Epoch 27/200\n",
            "844/844 [==============================] - 21s 24ms/step - loss: 0.2983 - accuracy: 0.8865 - val_loss: 0.2602 - val_accuracy: 0.9026\n",
            "Epoch 28/200\n",
            "844/844 [==============================] - 21s 25ms/step - loss: 0.2953 - accuracy: 0.8872 - val_loss: 0.2622 - val_accuracy: 0.9007\n",
            "Epoch 29/200\n",
            "844/844 [==============================] - 21s 25ms/step - loss: 0.2941 - accuracy: 0.8879 - val_loss: 0.2567 - val_accuracy: 0.9019\n",
            "Epoch 30/200\n",
            "844/844 [==============================] - 20s 24ms/step - loss: 0.2929 - accuracy: 0.8888 - val_loss: 0.2569 - val_accuracy: 0.9021\n",
            "Epoch 31/200\n",
            "844/844 [==============================] - 22s 26ms/step - loss: 0.2911 - accuracy: 0.8891 - val_loss: 0.2530 - val_accuracy: 0.9038\n",
            "Epoch 32/200\n",
            "844/844 [==============================] - 21s 25ms/step - loss: 0.2870 - accuracy: 0.8908 - val_loss: 0.2535 - val_accuracy: 0.9037\n",
            "Epoch 33/200\n",
            "844/844 [==============================] - 20s 24ms/step - loss: 0.2873 - accuracy: 0.8913 - val_loss: 0.2534 - val_accuracy: 0.9032\n",
            "Epoch 34/200\n",
            "844/844 [==============================] - 21s 25ms/step - loss: 0.2836 - accuracy: 0.8923 - val_loss: 0.2558 - val_accuracy: 0.9018\n",
            "Epoch 35/200\n",
            "844/844 [==============================] - 22s 25ms/step - loss: 0.2830 - accuracy: 0.8916 - val_loss: 0.2533 - val_accuracy: 0.9041\n",
            "Epoch 36/200\n",
            "844/844 [==============================] - 20s 24ms/step - loss: 0.2823 - accuracy: 0.8918 - val_loss: 0.2485 - val_accuracy: 0.9054\n",
            "Epoch 37/200\n",
            "844/844 [==============================] - 21s 25ms/step - loss: 0.2830 - accuracy: 0.8919 - val_loss: 0.2496 - val_accuracy: 0.9059\n",
            "Epoch 38/200\n",
            "844/844 [==============================] - 22s 26ms/step - loss: 0.2789 - accuracy: 0.8929 - val_loss: 0.2483 - val_accuracy: 0.9058\n",
            "Epoch 39/200\n",
            "844/844 [==============================] - 20s 24ms/step - loss: 0.2777 - accuracy: 0.8939 - val_loss: 0.2482 - val_accuracy: 0.9062\n",
            "Epoch 40/200\n",
            "844/844 [==============================] - 21s 25ms/step - loss: 0.2747 - accuracy: 0.8951 - val_loss: 0.2398 - val_accuracy: 0.9082\n",
            "Epoch 41/200\n",
            "844/844 [==============================] - 21s 25ms/step - loss: 0.2736 - accuracy: 0.8960 - val_loss: 0.2438 - val_accuracy: 0.9079\n",
            "Epoch 42/200\n",
            "844/844 [==============================] - 20s 24ms/step - loss: 0.2734 - accuracy: 0.8952 - val_loss: 0.2418 - val_accuracy: 0.9082\n",
            "Epoch 43/200\n",
            "844/844 [==============================] - 21s 25ms/step - loss: 0.2719 - accuracy: 0.8958 - val_loss: 0.2403 - val_accuracy: 0.9094\n",
            "Epoch 44/200\n",
            "844/844 [==============================] - 22s 26ms/step - loss: 0.2712 - accuracy: 0.8959 - val_loss: 0.2406 - val_accuracy: 0.9079\n",
            "Epoch 45/200\n",
            "844/844 [==============================] - 21s 25ms/step - loss: 0.2691 - accuracy: 0.8960 - val_loss: 0.2405 - val_accuracy: 0.9088\n",
            "Epoch 46/200\n",
            "844/844 [==============================] - 21s 25ms/step - loss: 0.2663 - accuracy: 0.8984 - val_loss: 0.2406 - val_accuracy: 0.9100\n",
            "Epoch 47/200\n",
            "844/844 [==============================] - 22s 26ms/step - loss: 0.2682 - accuracy: 0.8971 - val_loss: 0.2408 - val_accuracy: 0.9096\n",
            "Epoch 48/200\n",
            "844/844 [==============================] - 20s 24ms/step - loss: 0.2672 - accuracy: 0.8977 - val_loss: 0.2353 - val_accuracy: 0.9107\n",
            "Epoch 49/200\n",
            "844/844 [==============================] - 21s 25ms/step - loss: 0.2661 - accuracy: 0.8976 - val_loss: 0.2431 - val_accuracy: 0.9075\n",
            "Epoch 50/200\n",
            "844/844 [==============================] - 21s 25ms/step - loss: 0.2635 - accuracy: 0.8989 - val_loss: 0.2358 - val_accuracy: 0.9094\n",
            "Epoch 51/200\n",
            "844/844 [==============================] - 20s 24ms/step - loss: 0.2633 - accuracy: 0.8990 - val_loss: 0.2319 - val_accuracy: 0.9123\n",
            "Epoch 52/200\n",
            "844/844 [==============================] - 22s 26ms/step - loss: 0.2632 - accuracy: 0.8997 - val_loss: 0.2371 - val_accuracy: 0.9101\n",
            "Epoch 53/200\n",
            "844/844 [==============================] - 20s 24ms/step - loss: 0.2627 - accuracy: 0.8990 - val_loss: 0.2321 - val_accuracy: 0.9137\n",
            "Epoch 54/200\n",
            "844/844 [==============================] - 21s 25ms/step - loss: 0.2575 - accuracy: 0.9007 - val_loss: 0.2335 - val_accuracy: 0.9119\n",
            "Epoch 55/200\n",
            "844/844 [==============================] - 21s 25ms/step - loss: 0.2577 - accuracy: 0.9009 - val_loss: 0.2344 - val_accuracy: 0.9105\n",
            "Epoch 56/200\n",
            "844/844 [==============================] - 20s 24ms/step - loss: 0.2592 - accuracy: 0.9010 - val_loss: 0.2303 - val_accuracy: 0.9107\n",
            "Epoch 57/200\n",
            "844/844 [==============================] - 21s 25ms/step - loss: 0.2564 - accuracy: 0.9015 - val_loss: 0.2324 - val_accuracy: 0.9128\n",
            "Epoch 58/200\n",
            "844/844 [==============================] - 21s 25ms/step - loss: 0.2566 - accuracy: 0.9022 - val_loss: 0.2335 - val_accuracy: 0.9111\n",
            "Epoch 59/200\n",
            "844/844 [==============================] - 21s 25ms/step - loss: 0.2560 - accuracy: 0.9028 - val_loss: 0.2338 - val_accuracy: 0.9118\n",
            "Epoch 60/200\n",
            "844/844 [==============================] - 21s 25ms/step - loss: 0.2541 - accuracy: 0.9026 - val_loss: 0.2314 - val_accuracy: 0.9114\n",
            "Epoch 61/200\n",
            "844/844 [==============================] - 21s 25ms/step - loss: 0.2523 - accuracy: 0.9027 - val_loss: 0.2310 - val_accuracy: 0.9144\n",
            "Epoch 62/200\n",
            "844/844 [==============================] - 20s 24ms/step - loss: 0.2515 - accuracy: 0.9024 - val_loss: 0.2337 - val_accuracy: 0.9114\n",
            "Epoch 63/200\n",
            "844/844 [==============================] - 21s 25ms/step - loss: 0.2515 - accuracy: 0.9034 - val_loss: 0.2332 - val_accuracy: 0.9126\n",
            "Epoch 64/200\n",
            "844/844 [==============================] - 22s 25ms/step - loss: 0.2527 - accuracy: 0.9027 - val_loss: 0.2305 - val_accuracy: 0.9137\n",
            "Epoch 65/200\n",
            "844/844 [==============================] - 20s 24ms/step - loss: 0.2501 - accuracy: 0.9034 - val_loss: 0.2278 - val_accuracy: 0.9138\n",
            "Epoch 66/200\n",
            "844/844 [==============================] - 23s 27ms/step - loss: 0.2501 - accuracy: 0.9045 - val_loss: 0.2300 - val_accuracy: 0.9118\n",
            "Epoch 67/200\n",
            "844/844 [==============================] - 22s 26ms/step - loss: 0.2525 - accuracy: 0.9030 - val_loss: 0.2326 - val_accuracy: 0.9131\n",
            "Epoch 68/200\n",
            "844/844 [==============================] - 21s 24ms/step - loss: 0.2488 - accuracy: 0.9043 - val_loss: 0.2243 - val_accuracy: 0.9150\n",
            "Epoch 69/200\n",
            "844/844 [==============================] - 22s 26ms/step - loss: 0.2476 - accuracy: 0.9051 - val_loss: 0.2279 - val_accuracy: 0.9152\n",
            "Epoch 70/200\n",
            "844/844 [==============================] - 22s 26ms/step - loss: 0.2482 - accuracy: 0.9040 - val_loss: 0.2286 - val_accuracy: 0.9141\n",
            "Epoch 71/200\n",
            "844/844 [==============================] - 21s 25ms/step - loss: 0.2487 - accuracy: 0.9041 - val_loss: 0.2213 - val_accuracy: 0.9171\n",
            "Epoch 72/200\n",
            "844/844 [==============================] - 21s 25ms/step - loss: 0.2449 - accuracy: 0.9051 - val_loss: 0.2256 - val_accuracy: 0.9158\n",
            "Epoch 73/200\n",
            "844/844 [==============================] - 23s 27ms/step - loss: 0.2480 - accuracy: 0.9052 - val_loss: 0.2262 - val_accuracy: 0.9155\n",
            "Epoch 74/200\n",
            "844/844 [==============================] - 22s 26ms/step - loss: 0.2441 - accuracy: 0.9055 - val_loss: 0.2256 - val_accuracy: 0.9137\n",
            "Epoch 75/200\n",
            "844/844 [==============================] - 21s 25ms/step - loss: 0.2449 - accuracy: 0.9061 - val_loss: 0.2242 - val_accuracy: 0.9168\n",
            "Epoch 76/200\n",
            "844/844 [==============================] - 22s 26ms/step - loss: 0.2417 - accuracy: 0.9073 - val_loss: 0.2207 - val_accuracy: 0.9151\n",
            "Epoch 77/200\n",
            "844/844 [==============================] - 21s 25ms/step - loss: 0.2435 - accuracy: 0.9056 - val_loss: 0.2222 - val_accuracy: 0.9157\n",
            "Epoch 78/200\n",
            "844/844 [==============================] - 20s 24ms/step - loss: 0.2422 - accuracy: 0.9064 - val_loss: 0.2218 - val_accuracy: 0.9164\n",
            "Epoch 79/200\n",
            "844/844 [==============================] - 21s 25ms/step - loss: 0.2407 - accuracy: 0.9074 - val_loss: 0.2184 - val_accuracy: 0.9177\n",
            "Epoch 80/200\n",
            "844/844 [==============================] - 23s 27ms/step - loss: 0.2422 - accuracy: 0.9069 - val_loss: 0.2226 - val_accuracy: 0.9175\n",
            "Epoch 81/200\n",
            "844/844 [==============================] - 21s 24ms/step - loss: 0.2384 - accuracy: 0.9081 - val_loss: 0.2158 - val_accuracy: 0.9202\n",
            "Epoch 82/200\n",
            "844/844 [==============================] - 21s 25ms/step - loss: 0.2365 - accuracy: 0.9082 - val_loss: 0.2215 - val_accuracy: 0.9168\n",
            "Epoch 83/200\n",
            "844/844 [==============================] - 21s 25ms/step - loss: 0.2404 - accuracy: 0.9084 - val_loss: 0.2188 - val_accuracy: 0.9180\n",
            "Epoch 84/200\n",
            "844/844 [==============================] - 21s 24ms/step - loss: 0.2404 - accuracy: 0.9074 - val_loss: 0.2188 - val_accuracy: 0.9156\n",
            "Epoch 85/200\n",
            "844/844 [==============================] - 22s 26ms/step - loss: 0.2393 - accuracy: 0.9084 - val_loss: 0.2159 - val_accuracy: 0.9198\n",
            "Epoch 86/200\n",
            "844/844 [==============================] - 22s 26ms/step - loss: 0.2374 - accuracy: 0.9088 - val_loss: 0.2152 - val_accuracy: 0.9189\n",
            "Epoch 87/200\n",
            "844/844 [==============================] - 22s 26ms/step - loss: 0.2373 - accuracy: 0.9086 - val_loss: 0.2142 - val_accuracy: 0.9179\n",
            "Epoch 88/200\n",
            "844/844 [==============================] - 22s 26ms/step - loss: 0.2356 - accuracy: 0.9092 - val_loss: 0.2156 - val_accuracy: 0.9172\n",
            "Epoch 89/200\n",
            "844/844 [==============================] - 22s 26ms/step - loss: 0.2370 - accuracy: 0.9084 - val_loss: 0.2142 - val_accuracy: 0.9190\n",
            "Epoch 90/200\n",
            "844/844 [==============================] - 21s 25ms/step - loss: 0.2354 - accuracy: 0.9093 - val_loss: 0.2152 - val_accuracy: 0.9191\n",
            "Epoch 91/200\n",
            "844/844 [==============================] - 22s 26ms/step - loss: 0.2358 - accuracy: 0.9087 - val_loss: 0.2134 - val_accuracy: 0.9180\n",
            "Epoch 92/200\n",
            "844/844 [==============================] - 22s 26ms/step - loss: 0.2375 - accuracy: 0.9088 - val_loss: 0.2167 - val_accuracy: 0.9150\n",
            "Epoch 93/200\n",
            "844/844 [==============================] - 21s 25ms/step - loss: 0.2341 - accuracy: 0.9096 - val_loss: 0.2147 - val_accuracy: 0.9195\n",
            "Epoch 94/200\n",
            "844/844 [==============================] - 22s 26ms/step - loss: 0.2352 - accuracy: 0.9085 - val_loss: 0.2148 - val_accuracy: 0.9188\n",
            "Epoch 95/200\n",
            "844/844 [==============================] - 22s 26ms/step - loss: 0.2349 - accuracy: 0.9097 - val_loss: 0.2109 - val_accuracy: 0.9203\n",
            "Epoch 96/200\n",
            "844/844 [==============================] - 22s 26ms/step - loss: 0.2345 - accuracy: 0.9098 - val_loss: 0.2115 - val_accuracy: 0.9183\n",
            "Epoch 97/200\n",
            "844/844 [==============================] - 21s 25ms/step - loss: 0.2319 - accuracy: 0.9103 - val_loss: 0.2146 - val_accuracy: 0.9199\n",
            "Epoch 98/200\n",
            "844/844 [==============================] - 22s 26ms/step - loss: 0.2328 - accuracy: 0.9107 - val_loss: 0.2124 - val_accuracy: 0.9202\n",
            "Epoch 99/200\n",
            "844/844 [==============================] - 22s 26ms/step - loss: 0.2341 - accuracy: 0.9098 - val_loss: 0.2125 - val_accuracy: 0.9193\n",
            "Epoch 100/200\n",
            "844/844 [==============================] - 21s 25ms/step - loss: 0.2317 - accuracy: 0.9111 - val_loss: 0.2089 - val_accuracy: 0.9217\n",
            "Epoch 101/200\n",
            "844/844 [==============================] - 23s 27ms/step - loss: 0.2287 - accuracy: 0.9121 - val_loss: 0.2123 - val_accuracy: 0.9206\n",
            "Epoch 102/200\n",
            "844/844 [==============================] - 22s 26ms/step - loss: 0.2277 - accuracy: 0.9125 - val_loss: 0.2112 - val_accuracy: 0.9194\n",
            "Epoch 103/200\n",
            "844/844 [==============================] - 21s 25ms/step - loss: 0.2300 - accuracy: 0.9116 - val_loss: 0.2084 - val_accuracy: 0.9215\n",
            "Epoch 104/200\n",
            "844/844 [==============================] - 21s 25ms/step - loss: 0.2307 - accuracy: 0.9110 - val_loss: 0.2099 - val_accuracy: 0.9195\n",
            "Epoch 105/200\n",
            "844/844 [==============================] - 22s 26ms/step - loss: 0.2276 - accuracy: 0.9118 - val_loss: 0.2109 - val_accuracy: 0.9214\n",
            "Epoch 106/200\n",
            "844/844 [==============================] - 22s 26ms/step - loss: 0.2286 - accuracy: 0.9126 - val_loss: 0.2122 - val_accuracy: 0.9195\n",
            "Epoch 107/200\n",
            "844/844 [==============================] - 21s 25ms/step - loss: 0.2278 - accuracy: 0.9125 - val_loss: 0.2083 - val_accuracy: 0.9227\n",
            "Epoch 108/200\n",
            "844/844 [==============================] - 23s 27ms/step - loss: 0.2288 - accuracy: 0.9122 - val_loss: 0.2084 - val_accuracy: 0.9227\n",
            "Epoch 109/200\n",
            "844/844 [==============================] - 22s 26ms/step - loss: 0.2286 - accuracy: 0.9116 - val_loss: 0.2107 - val_accuracy: 0.9207\n",
            "Epoch 110/200\n",
            "844/844 [==============================] - 21s 25ms/step - loss: 0.2285 - accuracy: 0.9123 - val_loss: 0.2095 - val_accuracy: 0.9210\n",
            "Epoch 111/200\n",
            "844/844 [==============================] - 22s 26ms/step - loss: 0.2262 - accuracy: 0.9126 - val_loss: 0.2104 - val_accuracy: 0.9205\n",
            "Epoch 112/200\n",
            "844/844 [==============================] - 22s 26ms/step - loss: 0.2236 - accuracy: 0.9136 - val_loss: 0.2106 - val_accuracy: 0.9203\n",
            "Epoch 113/200\n",
            "844/844 [==============================] - 21s 25ms/step - loss: 0.2253 - accuracy: 0.9126 - val_loss: 0.2142 - val_accuracy: 0.9193\n",
            "Epoch 114/200\n",
            "844/844 [==============================] - 23s 27ms/step - loss: 0.2233 - accuracy: 0.9132 - val_loss: 0.2046 - val_accuracy: 0.9223\n",
            "Epoch 115/200\n",
            "844/844 [==============================] - 22s 26ms/step - loss: 0.2248 - accuracy: 0.9128 - val_loss: 0.2049 - val_accuracy: 0.9226\n",
            "Epoch 116/200\n",
            "844/844 [==============================] - 21s 25ms/step - loss: 0.2248 - accuracy: 0.9139 - val_loss: 0.2038 - val_accuracy: 0.9216\n",
            "Epoch 117/200\n",
            "844/844 [==============================] - 21s 25ms/step - loss: 0.2252 - accuracy: 0.9123 - val_loss: 0.2075 - val_accuracy: 0.9197\n",
            "Epoch 118/200\n",
            "844/844 [==============================] - 22s 26ms/step - loss: 0.2228 - accuracy: 0.9141 - val_loss: 0.2068 - val_accuracy: 0.9210\n",
            "Epoch 119/200\n",
            "844/844 [==============================] - 22s 26ms/step - loss: 0.2227 - accuracy: 0.9135 - val_loss: 0.2035 - val_accuracy: 0.9233\n",
            "Epoch 120/200\n",
            "844/844 [==============================] - 21s 25ms/step - loss: 0.2240 - accuracy: 0.9143 - val_loss: 0.2074 - val_accuracy: 0.9212\n",
            "Epoch 121/200\n",
            "844/844 [==============================] - 23s 27ms/step - loss: 0.2222 - accuracy: 0.9142 - val_loss: 0.2045 - val_accuracy: 0.9227\n",
            "Epoch 122/200\n",
            "844/844 [==============================] - 22s 26ms/step - loss: 0.2226 - accuracy: 0.9140 - val_loss: 0.2025 - val_accuracy: 0.9222\n",
            "Epoch 123/200\n",
            "844/844 [==============================] - 21s 25ms/step - loss: 0.2233 - accuracy: 0.9136 - val_loss: 0.2049 - val_accuracy: 0.9245\n",
            "Epoch 124/200\n",
            "844/844 [==============================] - 22s 26ms/step - loss: 0.2228 - accuracy: 0.9139 - val_loss: 0.2055 - val_accuracy: 0.9225\n",
            "Epoch 125/200\n",
            "844/844 [==============================] - 22s 26ms/step - loss: 0.2213 - accuracy: 0.9151 - val_loss: 0.2046 - val_accuracy: 0.9227\n",
            "Epoch 126/200\n",
            "844/844 [==============================] - 21s 25ms/step - loss: 0.2211 - accuracy: 0.9148 - val_loss: 0.2038 - val_accuracy: 0.9238\n",
            "Epoch 127/200\n",
            "844/844 [==============================] - 22s 26ms/step - loss: 0.2196 - accuracy: 0.9151 - val_loss: 0.2039 - val_accuracy: 0.9240\n",
            "Epoch 128/200\n",
            "844/844 [==============================] - 23s 27ms/step - loss: 0.2203 - accuracy: 0.9150 - val_loss: 0.2033 - val_accuracy: 0.9223\n",
            "Epoch 129/200\n",
            "844/844 [==============================] - 21s 25ms/step - loss: 0.2220 - accuracy: 0.9143 - val_loss: 0.2028 - val_accuracy: 0.9242\n",
            "Epoch 130/200\n",
            "844/844 [==============================] - 21s 25ms/step - loss: 0.2216 - accuracy: 0.9130 - val_loss: 0.2015 - val_accuracy: 0.9244\n",
            "Epoch 131/200\n",
            "844/844 [==============================] - 22s 26ms/step - loss: 0.2206 - accuracy: 0.9144 - val_loss: 0.1991 - val_accuracy: 0.9265\n",
            "Epoch 132/200\n",
            "844/844 [==============================] - 22s 26ms/step - loss: 0.2210 - accuracy: 0.9150 - val_loss: 0.2002 - val_accuracy: 0.9239\n",
            "Epoch 133/200\n",
            "844/844 [==============================] - 21s 25ms/step - loss: 0.2192 - accuracy: 0.9157 - val_loss: 0.1985 - val_accuracy: 0.9258\n",
            "Epoch 134/200\n",
            "844/844 [==============================] - 22s 26ms/step - loss: 0.2178 - accuracy: 0.9156 - val_loss: 0.1983 - val_accuracy: 0.9258\n",
            "Epoch 135/200\n",
            "844/844 [==============================] - 23s 27ms/step - loss: 0.2187 - accuracy: 0.9151 - val_loss: 0.2009 - val_accuracy: 0.9237\n",
            "Epoch 136/200\n",
            "844/844 [==============================] - 22s 26ms/step - loss: 0.2178 - accuracy: 0.9160 - val_loss: 0.2003 - val_accuracy: 0.9258\n",
            "Epoch 137/200\n",
            "844/844 [==============================] - 21s 25ms/step - loss: 0.2198 - accuracy: 0.9160 - val_loss: 0.2022 - val_accuracy: 0.9230\n",
            "Epoch 138/200\n",
            "844/844 [==============================] - 22s 26ms/step - loss: 0.2197 - accuracy: 0.9150 - val_loss: 0.1985 - val_accuracy: 0.9246\n",
            "Epoch 139/200\n",
            "844/844 [==============================] - 22s 26ms/step - loss: 0.2172 - accuracy: 0.9156 - val_loss: 0.1991 - val_accuracy: 0.9237\n",
            "Epoch 140/200\n",
            "844/844 [==============================] - 21s 25ms/step - loss: 0.2167 - accuracy: 0.9162 - val_loss: 0.2009 - val_accuracy: 0.9249\n",
            "Epoch 141/200\n",
            "844/844 [==============================] - 23s 27ms/step - loss: 0.2165 - accuracy: 0.9167 - val_loss: 0.2038 - val_accuracy: 0.9227\n",
            "Epoch 142/200\n",
            "844/844 [==============================] - 22s 26ms/step - loss: 0.2143 - accuracy: 0.9174 - val_loss: 0.2014 - val_accuracy: 0.9238\n",
            "Epoch 143/200\n",
            "844/844 [==============================] - 21s 25ms/step - loss: 0.2158 - accuracy: 0.9178 - val_loss: 0.2039 - val_accuracy: 0.9242\n",
            "Epoch 144/200\n",
            "844/844 [==============================] - 22s 25ms/step - loss: 0.2148 - accuracy: 0.9172 - val_loss: 0.2001 - val_accuracy: 0.9245\n",
            "Epoch 145/200\n",
            "844/844 [==============================] - 22s 26ms/step - loss: 0.2170 - accuracy: 0.9173 - val_loss: 0.2006 - val_accuracy: 0.9244\n",
            "Epoch 146/200\n",
            "844/844 [==============================] - 21s 25ms/step - loss: 0.2135 - accuracy: 0.9181 - val_loss: 0.2004 - val_accuracy: 0.9237\n",
            "Epoch 147/200\n",
            "844/844 [==============================] - 23s 27ms/step - loss: 0.2157 - accuracy: 0.9167 - val_loss: 0.1994 - val_accuracy: 0.9246\n",
            "Epoch 148/200\n",
            "844/844 [==============================] - 22s 26ms/step - loss: 0.2140 - accuracy: 0.9172 - val_loss: 0.1972 - val_accuracy: 0.9251\n",
            "Epoch 149/200\n",
            "844/844 [==============================] - 22s 26ms/step - loss: 0.2178 - accuracy: 0.9160 - val_loss: 0.1998 - val_accuracy: 0.9255\n",
            "Epoch 150/200\n",
            "844/844 [==============================] - 21s 25ms/step - loss: 0.2142 - accuracy: 0.9169 - val_loss: 0.1990 - val_accuracy: 0.9247\n",
            "Epoch 151/200\n",
            "844/844 [==============================] - 21s 25ms/step - loss: 0.2128 - accuracy: 0.9181 - val_loss: 0.1954 - val_accuracy: 0.9267\n",
            "Epoch 152/200\n",
            "844/844 [==============================] - 22s 26ms/step - loss: 0.2154 - accuracy: 0.9168 - val_loss: 0.2000 - val_accuracy: 0.9257\n",
            "Epoch 153/200\n",
            "844/844 [==============================] - 21s 25ms/step - loss: 0.2126 - accuracy: 0.9182 - val_loss: 0.2033 - val_accuracy: 0.9235\n",
            "Epoch 154/200\n",
            "844/844 [==============================] - 23s 27ms/step - loss: 0.2152 - accuracy: 0.9166 - val_loss: 0.1945 - val_accuracy: 0.9260\n",
            "Epoch 155/200\n",
            "844/844 [==============================] - 22s 26ms/step - loss: 0.2120 - accuracy: 0.9179 - val_loss: 0.2004 - val_accuracy: 0.9257\n",
            "Epoch 156/200\n",
            "844/844 [==============================] - 21s 25ms/step - loss: 0.2127 - accuracy: 0.9183 - val_loss: 0.2025 - val_accuracy: 0.9255\n",
            "Epoch 157/200\n",
            "844/844 [==============================] - 21s 25ms/step - loss: 0.2124 - accuracy: 0.9175 - val_loss: 0.1965 - val_accuracy: 0.9261\n",
            "Epoch 158/200\n",
            "844/844 [==============================] - 22s 26ms/step - loss: 0.2113 - accuracy: 0.9189 - val_loss: 0.1958 - val_accuracy: 0.9258\n",
            "Epoch 159/200\n",
            "844/844 [==============================] - 22s 26ms/step - loss: 0.2121 - accuracy: 0.9184 - val_loss: 0.2002 - val_accuracy: 0.9244\n",
            "Epoch 160/200\n",
            "844/844 [==============================] - 22s 26ms/step - loss: 0.2112 - accuracy: 0.9188 - val_loss: 0.1955 - val_accuracy: 0.9262\n",
            "Epoch 161/200\n",
            "844/844 [==============================] - 22s 26ms/step - loss: 0.2126 - accuracy: 0.9171 - val_loss: 0.1992 - val_accuracy: 0.9228\n",
            "Epoch 162/200\n",
            "844/844 [==============================] - 22s 26ms/step - loss: 0.2121 - accuracy: 0.9176 - val_loss: 0.1976 - val_accuracy: 0.9251\n",
            "Epoch 163/200\n",
            "844/844 [==============================] - 21s 25ms/step - loss: 0.2122 - accuracy: 0.9177 - val_loss: 0.1931 - val_accuracy: 0.9276\n",
            "Epoch 164/200\n",
            "844/844 [==============================] - 22s 26ms/step - loss: 0.2124 - accuracy: 0.9182 - val_loss: 0.1964 - val_accuracy: 0.9254\n",
            "Epoch 165/200\n",
            "844/844 [==============================] - 22s 26ms/step - loss: 0.2120 - accuracy: 0.9174 - val_loss: 0.1942 - val_accuracy: 0.9265\n",
            "Epoch 166/200\n",
            "844/844 [==============================] - 22s 26ms/step - loss: 0.2087 - accuracy: 0.9192 - val_loss: 0.1946 - val_accuracy: 0.9264\n",
            "Epoch 167/200\n",
            "844/844 [==============================] - 23s 27ms/step - loss: 0.2101 - accuracy: 0.9186 - val_loss: 0.1914 - val_accuracy: 0.9285\n",
            "Epoch 168/200\n",
            "844/844 [==============================] - 22s 26ms/step - loss: 0.2087 - accuracy: 0.9199 - val_loss: 0.1933 - val_accuracy: 0.9277\n",
            "Epoch 169/200\n",
            "844/844 [==============================] - 22s 27ms/step - loss: 0.2101 - accuracy: 0.9196 - val_loss: 0.1937 - val_accuracy: 0.9265\n",
            "Epoch 170/200\n",
            "844/844 [==============================] - 21s 25ms/step - loss: 0.2105 - accuracy: 0.9180 - val_loss: 0.1984 - val_accuracy: 0.9273\n",
            "Epoch 171/200\n",
            "844/844 [==============================] - 22s 26ms/step - loss: 0.2113 - accuracy: 0.9183 - val_loss: 0.1911 - val_accuracy: 0.9277\n",
            "Epoch 172/200\n",
            "844/844 [==============================] - 22s 26ms/step - loss: 0.2095 - accuracy: 0.9188 - val_loss: 0.1914 - val_accuracy: 0.9287\n",
            "Epoch 173/200\n",
            "844/844 [==============================] - 23s 27ms/step - loss: 0.2103 - accuracy: 0.9181 - val_loss: 0.1948 - val_accuracy: 0.9281\n",
            "Epoch 174/200\n",
            "844/844 [==============================] - 21s 25ms/step - loss: 0.2082 - accuracy: 0.9194 - val_loss: 0.1915 - val_accuracy: 0.9280\n",
            "Epoch 175/200\n",
            "844/844 [==============================] - 22s 26ms/step - loss: 0.2109 - accuracy: 0.9186 - val_loss: 0.1885 - val_accuracy: 0.9292\n",
            "Epoch 176/200\n",
            "844/844 [==============================] - 22s 26ms/step - loss: 0.2072 - accuracy: 0.9197 - val_loss: 0.1909 - val_accuracy: 0.9277\n",
            "Epoch 177/200\n",
            "844/844 [==============================] - 21s 25ms/step - loss: 0.2086 - accuracy: 0.9195 - val_loss: 0.1961 - val_accuracy: 0.9248\n",
            "Epoch 178/200\n",
            "844/844 [==============================] - 22s 26ms/step - loss: 0.2091 - accuracy: 0.9191 - val_loss: 0.1958 - val_accuracy: 0.9258\n",
            "Epoch 179/200\n",
            "844/844 [==============================] - 23s 27ms/step - loss: 0.2096 - accuracy: 0.9186 - val_loss: 0.1943 - val_accuracy: 0.9274\n",
            "Epoch 180/200\n",
            "844/844 [==============================] - 21s 25ms/step - loss: 0.2089 - accuracy: 0.9194 - val_loss: 0.1919 - val_accuracy: 0.9272\n",
            "Epoch 181/200\n",
            "844/844 [==============================] - 22s 26ms/step - loss: 0.2064 - accuracy: 0.9197 - val_loss: 0.1940 - val_accuracy: 0.9279\n",
            "Epoch 182/200\n",
            "844/844 [==============================] - 22s 26ms/step - loss: 0.2052 - accuracy: 0.9201 - val_loss: 0.1927 - val_accuracy: 0.9263\n",
            "Epoch 183/200\n",
            "844/844 [==============================] - 21s 25ms/step - loss: 0.2080 - accuracy: 0.9198 - val_loss: 0.1894 - val_accuracy: 0.9274\n",
            "Epoch 184/200\n",
            "844/844 [==============================] - 22s 26ms/step - loss: 0.2062 - accuracy: 0.9193 - val_loss: 0.1905 - val_accuracy: 0.9279\n",
            "Epoch 185/200\n",
            "844/844 [==============================] - 22s 26ms/step - loss: 0.2076 - accuracy: 0.9198 - val_loss: 0.1890 - val_accuracy: 0.9283\n",
            "Epoch 186/200\n",
            "844/844 [==============================] - 23s 27ms/step - loss: 0.2055 - accuracy: 0.9208 - val_loss: 0.1899 - val_accuracy: 0.9297\n",
            "Epoch 187/200\n",
            "844/844 [==============================] - 21s 25ms/step - loss: 0.2076 - accuracy: 0.9204 - val_loss: 0.1890 - val_accuracy: 0.9295\n",
            "Epoch 188/200\n",
            "844/844 [==============================] - 22s 26ms/step - loss: 0.2064 - accuracy: 0.9200 - val_loss: 0.1910 - val_accuracy: 0.9285\n",
            "Epoch 189/200\n",
            "844/844 [==============================] - 23s 27ms/step - loss: 0.2084 - accuracy: 0.9203 - val_loss: 0.1899 - val_accuracy: 0.9288\n",
            "Epoch 190/200\n",
            "844/844 [==============================] - 21s 25ms/step - loss: 0.2018 - accuracy: 0.9211 - val_loss: 0.1907 - val_accuracy: 0.9286\n",
            "Epoch 191/200\n",
            "844/844 [==============================] - 22s 26ms/step - loss: 0.2058 - accuracy: 0.9204 - val_loss: 0.1896 - val_accuracy: 0.9290\n",
            "Epoch 192/200\n",
            "844/844 [==============================] - 23s 27ms/step - loss: 0.2052 - accuracy: 0.9208 - val_loss: 0.1897 - val_accuracy: 0.9307\n",
            "Epoch 193/200\n",
            "844/844 [==============================] - 22s 26ms/step - loss: 0.2053 - accuracy: 0.9212 - val_loss: 0.1896 - val_accuracy: 0.9277\n",
            "Epoch 194/200\n",
            "844/844 [==============================] - 21s 25ms/step - loss: 0.2037 - accuracy: 0.9207 - val_loss: 0.1895 - val_accuracy: 0.9279\n",
            "Epoch 195/200\n",
            "844/844 [==============================] - 22s 26ms/step - loss: 0.2062 - accuracy: 0.9202 - val_loss: 0.1873 - val_accuracy: 0.9305\n",
            "Epoch 196/200\n",
            "844/844 [==============================] - 22s 26ms/step - loss: 0.2048 - accuracy: 0.9214 - val_loss: 0.1856 - val_accuracy: 0.9303\n",
            "Epoch 197/200\n",
            "844/844 [==============================] - 21s 25ms/step - loss: 0.2030 - accuracy: 0.9213 - val_loss: 0.1889 - val_accuracy: 0.9288\n",
            "Epoch 198/200\n",
            "844/844 [==============================] - 23s 27ms/step - loss: 0.2036 - accuracy: 0.9216 - val_loss: 0.1845 - val_accuracy: 0.9283\n",
            "Epoch 199/200\n",
            "844/844 [==============================] - 22s 26ms/step - loss: 0.2033 - accuracy: 0.9213 - val_loss: 0.1872 - val_accuracy: 0.9290\n",
            "Epoch 200/200\n",
            "844/844 [==============================] - 21s 25ms/step - loss: 0.2026 - accuracy: 0.9221 - val_loss: 0.1889 - val_accuracy: 0.9286\n",
            "313/313 [==============================] - 2s 5ms/step - loss: 0.2827 - accuracy: 0.9037\n",
            "\n",
            "Test accuracy: 0.9036999940872192\n"
          ]
        }
      ]
    },
    {
      "cell_type": "code",
      "source": [
        "print('\\nhistory dict:', list(history.history.keys()))"
      ],
      "metadata": {
        "id": "CxRE-B_Q6Sii",
        "colab": {
          "base_uri": "https://localhost:8080/"
        },
        "outputId": "945407cf-cccd-449f-981d-9f09c7671130"
      },
      "execution_count": null,
      "outputs": [
        {
          "output_type": "stream",
          "name": "stdout",
          "text": [
            "\n",
            "history dict: ['loss', 'accuracy', 'val_loss', 'val_accuracy']\n"
          ]
        }
      ]
    },
    {
      "cell_type": "code",
      "source": [
        "result = model.evaluate(x_test, y_test)\n",
        "print(result)"
      ],
      "metadata": {
        "id": "YXpwRRTvTBNg",
        "colab": {
          "base_uri": "https://localhost:8080/"
        },
        "outputId": "f91eebfa-d19a-42ae-e4c6-09233138539b"
      },
      "execution_count": null,
      "outputs": [
        {
          "output_type": "stream",
          "name": "stdout",
          "text": [
            "313/313 [==============================] - 1s 4ms/step - loss: 0.2827 - accuracy: 0.9037\n",
            "[0.28269195556640625, 0.9036999940872192]\n"
          ]
        }
      ]
    },
    {
      "cell_type": "code",
      "source": [
        "saved_model = load_model('best_model.h5')\n",
        "result = saved_model.evaluate(x_test, y_test)\n",
        "print(result)"
      ],
      "metadata": {
        "id": "dpaZAW0vp1AZ",
        "colab": {
          "base_uri": "https://localhost:8080/"
        },
        "outputId": "788be2a2-0754-4ea0-97fd-4e4867905cbe"
      },
      "execution_count": null,
      "outputs": [
        {
          "output_type": "stream",
          "name": "stdout",
          "text": [
            "313/313 [==============================] - 1s 3ms/step - loss: 0.2827 - accuracy: 0.9037\n",
            "[0.28269195556640625, 0.9036999940872192]\n"
          ]
        }
      ]
    },
    {
      "cell_type": "code",
      "source": [
        "# from keras.models import load_model\n",
        "# saved_model = load_model('best_model.h5')\n",
        "# # _, train_acc = saved_model.evaluate(x_train, y_train, verbose=0)\n",
        "# _, test_acc = saved_model.evaluate(x_test, y_test, verbose=0)\n",
        "# print('Test: %.3f' % (test_acc))"
      ],
      "metadata": {
        "id": "DR_MS9DABo_K"
      },
      "execution_count": null,
      "outputs": []
    },
    {
      "cell_type": "code",
      "source": [
        "history_dict = history.history\n",
        "loss_values = history_dict['loss']\n",
        "val_loss_values = history_dict['val_loss']\n",
        "\n",
        "epochs = range(1, len(history_dict['loss']) + 1)\n",
        "\n",
        "plt.figure(figsize=(10, 5))\n",
        "plt.plot(epochs, loss_values, 'bo', label='Training loss')\n",
        "plt.plot(epochs, val_loss_values, 'r', label='Validation loss')\n",
        "plt.ylim (0.2, 0.5)\n",
        "plt.title('Training and validation loss')\n",
        "plt.xlabel('Epochs')\n",
        "plt.ylabel('Loss')\n",
        "plt.legend()\n",
        "plt.grid(True)\n",
        "plt.show()\n",
        "1\n",
        "plt.clf()\n",
        "plt.figure(figsize=(10, 5))\n",
        "val_acc_values = history_dict['accuracy']\n",
        "plt.plot(epochs, history_dict['accuracy'], 'bo', label='Training acc')\n",
        "plt.plot(epochs, history_dict['val_accuracy'], 'r', label='Validation acc')\n",
        "# plt.ylim (0.88, 0.92)\n",
        "plt.title('Training and validation accuracy')\n",
        "plt.xlabel('Epochs')\n",
        "plt.ylabel('Accuracy')\n",
        "plt.legend()\n",
        "plt.grid(True)"
      ],
      "metadata": {
        "id": "2Ll_5sGlXKMH",
        "colab": {
          "base_uri": "https://localhost:8080/",
          "height": 975
        },
        "outputId": "41b9fd2c-19d1-4e18-f593-660b3e9a7756"
      },
      "execution_count": null,
      "outputs": [
        {
          "output_type": "display_data",
          "data": {
            "text/plain": [
              "<Figure size 1000x500 with 1 Axes>"
            ],
            "image/png": "[encoded data removed]"
          },
          "metadata": {}
        },
        {
          "output_type": "display_data",
          "data": {
            "text/plain": [
              "<Figure size 640x480 with 0 Axes>"
            ]
          },
          "metadata": {}
        },
        {
          "output_type": "display_data",
          "data": {
            "text/plain": [
              "<Figure size 1000x500 with 1 Axes>"
            ],
            "image/png": "[encoded data removed]"
          },
          "metadata": {}
        }
      ]
    },
    {
      "cell_type": "code",
      "source": [
        "probability_model = tf.keras.Sequential([model,\n",
        "                                         tf.keras.layers.Softmax()])"
      ],
      "metadata": {
        "id": "VzOdKAT_uV-f"
      },
      "execution_count": null,
      "outputs": []
    },
    {
      "cell_type": "code",
      "source": [
        "predictions = probability_model.predict(x_test)"
      ],
      "metadata": {
        "id": "f4is3NFruYom",
        "colab": {
          "base_uri": "https://localhost:8080/"
        },
        "outputId": "e2e3d588-3b1e-4d71-8dcb-87992869047d"
      },
      "execution_count": null,
      "outputs": [
        {
          "output_type": "stream",
          "name": "stdout",
          "text": [
            "313/313 [==============================] - 1s 3ms/step\n"
          ]
        }
      ]
    },
    {
      "cell_type": "code",
      "source": [
        "predictions[0]"
      ],
      "metadata": {
        "id": "82cigvlZudz_",
        "colab": {
          "base_uri": "https://localhost:8080/"
        },
        "outputId": "e1d27ec0-c17e-497f-a3a9-85849568f39d"
      },
      "execution_count": null,
      "outputs": [
        {
          "output_type": "execute_result",
          "data": {
            "text/plain": [
              "array([0.08536031, 0.08536031, 0.08536031, 0.08536031, 0.08536031,\n",
              "       0.08536728, 0.08536031, 0.08551452, 0.08536031, 0.23159605],\n",
              "      dtype=float32)"
            ]
          },
          "metadata": {},
          "execution_count": 110
        }
      ]
    },
    {
      "cell_type": "code",
      "source": [
        "model.summary()"
      ],
      "metadata": {
        "id": "6RsQPHyYuNGe",
        "colab": {
          "base_uri": "https://localhost:8080/"
        },
        "outputId": "748e7c58-c889-4382-9e84-7792686b18d7"
      },
      "execution_count": null,
      "outputs": [
        {
          "output_type": "stream",
          "name": "stdout",
          "text": [
            "Model: \"sequential_3\"\n",
            "_________________________________________________________________\n",
            " Layer (type)                Output Shape              Param #   \n",
            "=================================================================\n",
            " flatten_2 (Flatten)         (None, 784)               0         \n",
            "                                                                 \n",
            " dropout_8 (Dropout)         (None, 784)               0         \n",
            "                                                                 \n",
            " batch_normalization_6 (Bat  (None, 784)               3136      \n",
            " chNormalization)                                                \n",
            "                                                                 \n",
            " dense_8 (Dense)             (None, 256)               200960    \n",
            "                                                                 \n",
            " dropout_9 (Dropout)         (None, 256)               0         \n",
            "                                                                 \n",
            " batch_normalization_7 (Bat  (None, 256)               1024      \n",
            " chNormalization)                                                \n",
            "                                                                 \n",
            " dense_9 (Dense)             (None, 512)               131584    \n",
            "                                                                 \n",
            " dropout_10 (Dropout)        (None, 512)               0         \n",
            "                                                                 \n",
            " batch_normalization_8 (Bat  (None, 512)               2048      \n",
            " chNormalization)                                                \n",
            "                                                                 \n",
            " dense_10 (Dense)            (None, 512)               262656    \n",
            "                                                                 \n",
            " dropout_11 (Dropout)        (None, 512)               0         \n",
            "                                                                 \n",
            " dense_11 (Dense)            (None, 10)                5130      \n",
            "                                                                 \n",
            "=================================================================\n",
            "Total params: 606538 (2.31 MB)\n",
            "Trainable params: 603434 (2.30 MB)\n",
            "Non-trainable params: 3104 (12.12 KB)\n",
            "_________________________________________________________________\n"
          ]
        }
      ]
    },
    {
      "cell_type": "code",
      "source": [
        "\n",
        "\n",
        "\n",
        "\n",
        "hnyetjn hrte()"
      ],
      "metadata": {
        "id": "S4hcxZttmp-0",
        "colab": {
          "base_uri": "https://localhost:8080/",
          "height": 143
        },
        "outputId": "adb438b4-a22c-468d-d23d-7b49193abfeb"
      },
      "execution_count": null,
      "outputs": [
        {
          "output_type": "error",
          "ename": "SyntaxError",
          "evalue": "invalid syntax (<ipython-input-112-1a3818e70946>, line 1)",
          "traceback": [
            "\u001b[0;36m  File \u001b[0;32m\"<ipython-input-112-1a3818e70946>\"\u001b[0;36m, line \u001b[0;32m1\u001b[0m\n\u001b[0;31m    hnyetjn hrte()\u001b[0m\n\u001b[0m            ^\u001b[0m\n\u001b[0;31mSyntaxError\u001b[0m\u001b[0;31m:\u001b[0m invalid syntax\n"
          ]
        }
      ]
    }
  ]
}