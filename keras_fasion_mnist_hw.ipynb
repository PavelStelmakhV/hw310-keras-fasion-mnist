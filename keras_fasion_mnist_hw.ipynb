{
  "nbformat": 4,
  "nbformat_minor": 0,
  "metadata": {
    "colab": {
      "provenance": [],
      "authorship_tag": "ABX9TyP+W6JcUOnD5DAArBiPH0VE",
      "include_colab_link": true
    },
    "kernelspec": {
      "name": "python3",
      "display_name": "Python 3"
    },
    "language_info": {
      "name": "python"
    }
  },
  "cells": [
    {
      "cell_type": "markdown",
      "metadata": {
        "id": "view-in-github",
        "colab_type": "text"
      },
      "source": [
        "<a href=\"https://colab.research.google.com/github/PavelStelmakhV/hw310-keras-fasion-mnist/blob/main/keras_fasion_mnist_hw.ipynb\" target=\"_parent\"><img src=\"https://colab.research.google.com/assets/colab-badge.svg\" alt=\"Open In Colab\"/></a>"
      ]
    },
    {
      "cell_type": "code",
      "execution_count": 45,
      "metadata": {
        "id": "vv7w0bgAVQPO"
      },
      "outputs": [],
      "source": [
        "import tensorflow as tf\n",
        "\n",
        "import numpy as np\n",
        "import matplotlib.pyplot as plt\n",
        "from keras import layers\n",
        "from keras import regularizers"
      ]
    },
    {
      "cell_type": "code",
      "source": [
        "fashion_mnist = tf.keras.datasets.fashion_mnist\n",
        "\n",
        "(train_images, train_labels), (test_images, test_labels) = fashion_mnist.load_data()"
      ],
      "metadata": {
        "id": "mOpywsNAzfGB"
      },
      "execution_count": 46,
      "outputs": []
    },
    {
      "cell_type": "code",
      "source": [
        "class_names = ['T-shirt/top', 'Trouser', 'Pullover', 'Dress', 'Coat',\n",
        "               'Sandal', 'Shirt', 'Sneaker', 'Bag', 'Ankle boot']"
      ],
      "metadata": {
        "id": "vM60H5OVz65k"
      },
      "execution_count": 47,
      "outputs": []
    },
    {
      "cell_type": "code",
      "source": [
        "train_images = train_images / 255.0\n",
        "\n",
        "test_images = test_images / 255.0"
      ],
      "metadata": {
        "id": "t2gucjsJ0KUi"
      },
      "execution_count": 48,
      "outputs": []
    },
    {
      "cell_type": "code",
      "source": [
        "model = tf.keras.Sequential()\n",
        "\n",
        "model.add(layers.Flatten(input_shape=(28, 28)))\n",
        "# model.add(layers.Dense(500, activation='relu', kernel_regularizer=regularizers.l2(0.000001)))\n",
        "model.add(layers.Dense(512, activation='sigmoid', kernel_regularizer=regularizers.l2(0.00001)))\n",
        "model.add(layers.Dropout(0.5))\n",
        "model.add(layers.Dense(512, activation='sigmoid', kernel_regularizer=regularizers.l2(0.00001)))\n",
        "model.add(layers.Dropout(0.5))\n",
        "model.add(layers.Dense(512, activation='relu', kernel_regularizer=regularizers.l2(0.00001)))\n",
        "model.add(layers.Dropout(0.5))\n",
        "# model.add(layers.Dense(500, activation='sigmoid', kernel_regularizer=regularizers.l2(0.000001)))\n",
        "# model.add(layers.Dense(500, activation='relu', kernel_regularizer=regularizers.l2(0.000001)))\n",
        "# # model.add(layers.Dense(80, activation='relu', kernel_regularizer=regularizers.l2(0.001)))\n",
        "# model.add(layers.Dropout(0.5))\n",
        "# model.add(layers.Dense(500, activation='relu', kernel_regularizer=regularizers.l2(0.000001)))\n",
        "# model.add(layers.Dropout(0.5))\n",
        "# # model.add(layers.Dense(40, activation='relu', kernel_regularizer=regularizers.l2(0.001)))\n",
        "\n",
        "model.add(layers.Dense(10))\n",
        "model.add(layers.Softmax())"
      ],
      "metadata": {
        "id": "atS39i4d0aqW"
      },
      "execution_count": 49,
      "outputs": []
    },
    {
      "cell_type": "code",
      "source": [
        "model.compile(optimizer='adam',\n",
        "              loss=tf.keras.losses.SparseCategoricalCrossentropy(from_logits=True),\n",
        "              metrics=['accuracy'])"
      ],
      "metadata": {
        "id": "WljLVaOT21AR"
      },
      "execution_count": 50,
      "outputs": []
    },
    {
      "cell_type": "code",
      "source": [
        "# model.fit(train_images, train_labels, epochs=20)\n",
        "history = model.fit(train_images,\n",
        "                    train_labels,\n",
        "                    epochs=120,\n",
        "                    batch_size=128,\n",
        "                    validation_data=(test_images, test_labels))\n",
        "test_loss, test_acc = model.evaluate(test_images, test_labels)\n",
        "print('\\nTest accuracy:', test_acc)"
      ],
      "metadata": {
        "id": "FH8HcMNm233I",
        "outputId": "36fccd87-3270-4fc7-8b1e-a3a6afa9d691",
        "colab": {
          "base_uri": "https://localhost:8080/"
        }
      },
      "execution_count": 51,
      "outputs": [
        {
          "output_type": "stream",
          "name": "stdout",
          "text": [
            "Epoch 1/120\n",
            "469/469 [==============================] - 14s 29ms/step - loss: 0.9190 - accuracy: 0.6558 - val_loss: 0.5528 - val_accuracy: 0.8076\n",
            "Epoch 2/120\n",
            "469/469 [==============================] - 13s 28ms/step - loss: 0.5608 - accuracy: 0.8059 - val_loss: 0.4912 - val_accuracy: 0.8279\n",
            "Epoch 3/120\n",
            "469/469 [==============================] - 13s 28ms/step - loss: 0.5102 - accuracy: 0.8278 - val_loss: 0.4706 - val_accuracy: 0.8385\n",
            "Epoch 4/120\n",
            "469/469 [==============================] - 13s 28ms/step - loss: 0.4854 - accuracy: 0.8367 - val_loss: 0.4624 - val_accuracy: 0.8419\n",
            "Epoch 5/120\n",
            "469/469 [==============================] - 13s 28ms/step - loss: 0.4683 - accuracy: 0.8438 - val_loss: 0.4418 - val_accuracy: 0.8513\n",
            "Epoch 6/120\n",
            "469/469 [==============================] - 13s 28ms/step - loss: 0.4598 - accuracy: 0.8490 - val_loss: 0.4335 - val_accuracy: 0.8593\n",
            "Epoch 7/120\n",
            "469/469 [==============================] - 13s 28ms/step - loss: 0.4490 - accuracy: 0.8529 - val_loss: 0.4292 - val_accuracy: 0.8594\n",
            "Epoch 8/120\n",
            "469/469 [==============================] - 13s 28ms/step - loss: 0.4414 - accuracy: 0.8550 - val_loss: 0.4411 - val_accuracy: 0.8600\n",
            "Epoch 9/120\n",
            "469/469 [==============================] - 13s 28ms/step - loss: 0.4360 - accuracy: 0.8586 - val_loss: 0.4257 - val_accuracy: 0.8646\n",
            "Epoch 10/120\n",
            "469/469 [==============================] - 13s 29ms/step - loss: 0.4291 - accuracy: 0.8608 - val_loss: 0.4234 - val_accuracy: 0.8657\n",
            "Epoch 11/120\n",
            "469/469 [==============================] - 13s 28ms/step - loss: 0.4285 - accuracy: 0.8638 - val_loss: 0.4263 - val_accuracy: 0.8651\n",
            "Epoch 12/120\n",
            "469/469 [==============================] - 13s 28ms/step - loss: 0.4222 - accuracy: 0.8645 - val_loss: 0.4115 - val_accuracy: 0.8705\n",
            "Epoch 13/120\n",
            "469/469 [==============================] - 13s 28ms/step - loss: 0.4191 - accuracy: 0.8665 - val_loss: 0.4197 - val_accuracy: 0.8708\n",
            "Epoch 14/120\n",
            "469/469 [==============================] - 13s 28ms/step - loss: 0.4175 - accuracy: 0.8688 - val_loss: 0.4093 - val_accuracy: 0.8738\n",
            "Epoch 15/120\n",
            "469/469 [==============================] - 13s 29ms/step - loss: 0.4147 - accuracy: 0.8697 - val_loss: 0.4137 - val_accuracy: 0.8704\n",
            "Epoch 16/120\n",
            "469/469 [==============================] - 14s 29ms/step - loss: 0.4125 - accuracy: 0.8709 - val_loss: 0.4102 - val_accuracy: 0.8744\n",
            "Epoch 17/120\n",
            "469/469 [==============================] - 13s 28ms/step - loss: 0.4087 - accuracy: 0.8727 - val_loss: 0.4114 - val_accuracy: 0.8721\n",
            "Epoch 18/120\n",
            "469/469 [==============================] - 13s 28ms/step - loss: 0.4080 - accuracy: 0.8742 - val_loss: 0.4232 - val_accuracy: 0.8682\n",
            "Epoch 19/120\n",
            "469/469 [==============================] - 13s 29ms/step - loss: 0.4030 - accuracy: 0.8750 - val_loss: 0.4090 - val_accuracy: 0.8746\n",
            "Epoch 20/120\n",
            "469/469 [==============================] - 13s 29ms/step - loss: 0.4061 - accuracy: 0.8747 - val_loss: 0.4099 - val_accuracy: 0.8726\n",
            "Epoch 21/120\n",
            "469/469 [==============================] - 13s 28ms/step - loss: 0.3990 - accuracy: 0.8774 - val_loss: 0.4056 - val_accuracy: 0.8794\n",
            "Epoch 22/120\n",
            "469/469 [==============================] - 13s 28ms/step - loss: 0.3972 - accuracy: 0.8786 - val_loss: 0.4057 - val_accuracy: 0.8774\n",
            "Epoch 23/120\n",
            "469/469 [==============================] - 13s 28ms/step - loss: 0.3975 - accuracy: 0.8784 - val_loss: 0.4117 - val_accuracy: 0.8754\n",
            "Epoch 24/120\n",
            "469/469 [==============================] - 13s 28ms/step - loss: 0.3976 - accuracy: 0.8790 - val_loss: 0.4110 - val_accuracy: 0.8785\n",
            "Epoch 25/120\n",
            "469/469 [==============================] - 13s 28ms/step - loss: 0.3951 - accuracy: 0.8791 - val_loss: 0.4003 - val_accuracy: 0.8814\n",
            "Epoch 26/120\n",
            "469/469 [==============================] - 13s 29ms/step - loss: 0.3930 - accuracy: 0.8806 - val_loss: 0.3961 - val_accuracy: 0.8827\n",
            "Epoch 27/120\n",
            "469/469 [==============================] - 14s 30ms/step - loss: 0.3927 - accuracy: 0.8815 - val_loss: 0.4032 - val_accuracy: 0.8808\n",
            "Epoch 28/120\n",
            "469/469 [==============================] - 14s 29ms/step - loss: 0.3930 - accuracy: 0.8813 - val_loss: 0.3965 - val_accuracy: 0.8847\n",
            "Epoch 29/120\n",
            "469/469 [==============================] - 14s 29ms/step - loss: 0.3895 - accuracy: 0.8832 - val_loss: 0.4065 - val_accuracy: 0.8773\n",
            "Epoch 30/120\n",
            "469/469 [==============================] - 14s 29ms/step - loss: 0.3884 - accuracy: 0.8835 - val_loss: 0.4027 - val_accuracy: 0.8793\n",
            "Epoch 31/120\n",
            "469/469 [==============================] - 14s 29ms/step - loss: 0.3886 - accuracy: 0.8843 - val_loss: 0.4052 - val_accuracy: 0.8803\n",
            "Epoch 32/120\n",
            "469/469 [==============================] - 13s 29ms/step - loss: 0.3896 - accuracy: 0.8845 - val_loss: 0.4014 - val_accuracy: 0.8828\n",
            "Epoch 33/120\n",
            "469/469 [==============================] - 13s 29ms/step - loss: 0.3874 - accuracy: 0.8853 - val_loss: 0.4055 - val_accuracy: 0.8832\n",
            "Epoch 34/120\n",
            "469/469 [==============================] - 13s 28ms/step - loss: 0.3863 - accuracy: 0.8852 - val_loss: 0.3985 - val_accuracy: 0.8856\n",
            "Epoch 35/120\n",
            "469/469 [==============================] - 13s 29ms/step - loss: 0.3870 - accuracy: 0.8851 - val_loss: 0.4031 - val_accuracy: 0.8808\n",
            "Epoch 36/120\n",
            "469/469 [==============================] - 13s 29ms/step - loss: 0.3828 - accuracy: 0.8874 - val_loss: 0.4082 - val_accuracy: 0.8826\n",
            "Epoch 37/120\n",
            "469/469 [==============================] - 13s 29ms/step - loss: 0.3856 - accuracy: 0.8855 - val_loss: 0.3954 - val_accuracy: 0.8853\n",
            "Epoch 38/120\n",
            "469/469 [==============================] - 14s 29ms/step - loss: 0.3847 - accuracy: 0.8863 - val_loss: 0.4036 - val_accuracy: 0.8839\n",
            "Epoch 39/120\n",
            "469/469 [==============================] - 14s 29ms/step - loss: 0.3845 - accuracy: 0.8866 - val_loss: 0.3992 - val_accuracy: 0.8845\n",
            "Epoch 40/120\n",
            "469/469 [==============================] - 13s 29ms/step - loss: 0.3823 - accuracy: 0.8879 - val_loss: 0.4063 - val_accuracy: 0.8810\n",
            "Epoch 41/120\n",
            "469/469 [==============================] - 14s 29ms/step - loss: 0.3816 - accuracy: 0.8885 - val_loss: 0.3981 - val_accuracy: 0.8849\n",
            "Epoch 42/120\n",
            "469/469 [==============================] - 13s 29ms/step - loss: 0.3831 - accuracy: 0.8872 - val_loss: 0.3948 - val_accuracy: 0.8845\n",
            "Epoch 43/120\n",
            "469/469 [==============================] - 14s 29ms/step - loss: 0.3805 - accuracy: 0.8895 - val_loss: 0.4037 - val_accuracy: 0.8846\n",
            "Epoch 44/120\n",
            "469/469 [==============================] - 13s 29ms/step - loss: 0.3788 - accuracy: 0.8887 - val_loss: 0.4011 - val_accuracy: 0.8874\n",
            "Epoch 45/120\n",
            "469/469 [==============================] - 13s 29ms/step - loss: 0.3792 - accuracy: 0.8897 - val_loss: 0.3950 - val_accuracy: 0.8866\n",
            "Epoch 46/120\n",
            "469/469 [==============================] - 14s 29ms/step - loss: 0.3792 - accuracy: 0.8912 - val_loss: 0.4016 - val_accuracy: 0.8816\n",
            "Epoch 47/120\n",
            "469/469 [==============================] - 14s 29ms/step - loss: 0.3790 - accuracy: 0.8905 - val_loss: 0.3954 - val_accuracy: 0.8869\n",
            "Epoch 48/120\n",
            "469/469 [==============================] - 13s 29ms/step - loss: 0.3791 - accuracy: 0.8894 - val_loss: 0.3932 - val_accuracy: 0.8873\n",
            "Epoch 49/120\n",
            "469/469 [==============================] - 13s 29ms/step - loss: 0.3798 - accuracy: 0.8896 - val_loss: 0.3961 - val_accuracy: 0.8878\n",
            "Epoch 50/120\n",
            "469/469 [==============================] - 14s 29ms/step - loss: 0.3768 - accuracy: 0.8924 - val_loss: 0.4006 - val_accuracy: 0.8870\n",
            "Epoch 51/120\n",
            "469/469 [==============================] - 14s 29ms/step - loss: 0.3772 - accuracy: 0.8914 - val_loss: 0.3998 - val_accuracy: 0.8859\n",
            "Epoch 52/120\n",
            "469/469 [==============================] - 14s 29ms/step - loss: 0.3782 - accuracy: 0.8899 - val_loss: 0.3960 - val_accuracy: 0.8888\n",
            "Epoch 53/120\n",
            "469/469 [==============================] - 14s 29ms/step - loss: 0.3783 - accuracy: 0.8907 - val_loss: 0.4054 - val_accuracy: 0.8865\n",
            "Epoch 54/120\n",
            "469/469 [==============================] - 14s 29ms/step - loss: 0.3785 - accuracy: 0.8911 - val_loss: 0.4006 - val_accuracy: 0.8873\n",
            "Epoch 55/120\n",
            "469/469 [==============================] - 13s 29ms/step - loss: 0.3759 - accuracy: 0.8918 - val_loss: 0.4064 - val_accuracy: 0.8884\n",
            "Epoch 56/120\n",
            "469/469 [==============================] - 13s 29ms/step - loss: 0.3722 - accuracy: 0.8925 - val_loss: 0.3947 - val_accuracy: 0.8886\n",
            "Epoch 57/120\n",
            "469/469 [==============================] - 13s 29ms/step - loss: 0.3748 - accuracy: 0.8918 - val_loss: 0.4056 - val_accuracy: 0.8861\n",
            "Epoch 58/120\n",
            "469/469 [==============================] - 13s 29ms/step - loss: 0.3745 - accuracy: 0.8929 - val_loss: 0.3924 - val_accuracy: 0.8890\n",
            "Epoch 59/120\n",
            "469/469 [==============================] - 13s 29ms/step - loss: 0.3761 - accuracy: 0.8914 - val_loss: 0.3934 - val_accuracy: 0.8902\n",
            "Epoch 60/120\n",
            "469/469 [==============================] - 13s 29ms/step - loss: 0.3745 - accuracy: 0.8934 - val_loss: 0.3986 - val_accuracy: 0.8849\n",
            "Epoch 61/120\n",
            "469/469 [==============================] - 13s 28ms/step - loss: 0.3713 - accuracy: 0.8937 - val_loss: 0.3930 - val_accuracy: 0.8892\n",
            "Epoch 62/120\n",
            "469/469 [==============================] - 13s 28ms/step - loss: 0.3739 - accuracy: 0.8936 - val_loss: 0.3993 - val_accuracy: 0.8865\n",
            "Epoch 63/120\n",
            "469/469 [==============================] - 13s 29ms/step - loss: 0.3729 - accuracy: 0.8926 - val_loss: 0.4016 - val_accuracy: 0.8858\n",
            "Epoch 64/120\n",
            "469/469 [==============================] - 13s 29ms/step - loss: 0.3718 - accuracy: 0.8951 - val_loss: 0.3964 - val_accuracy: 0.8867\n",
            "Epoch 65/120\n",
            "469/469 [==============================] - 13s 29ms/step - loss: 0.3721 - accuracy: 0.8947 - val_loss: 0.3934 - val_accuracy: 0.8921\n",
            "Epoch 66/120\n",
            "469/469 [==============================] - 13s 29ms/step - loss: 0.3709 - accuracy: 0.8943 - val_loss: 0.4002 - val_accuracy: 0.8889\n",
            "Epoch 67/120\n",
            "469/469 [==============================] - 14s 29ms/step - loss: 0.3713 - accuracy: 0.8950 - val_loss: 0.3915 - val_accuracy: 0.8911\n",
            "Epoch 68/120\n",
            "469/469 [==============================] - 13s 29ms/step - loss: 0.3732 - accuracy: 0.8954 - val_loss: 0.3892 - val_accuracy: 0.8919\n",
            "Epoch 69/120\n",
            "469/469 [==============================] - 13s 29ms/step - loss: 0.3734 - accuracy: 0.8941 - val_loss: 0.3965 - val_accuracy: 0.8907\n",
            "Epoch 70/120\n",
            "469/469 [==============================] - 14s 29ms/step - loss: 0.3697 - accuracy: 0.8958 - val_loss: 0.4043 - val_accuracy: 0.8868\n",
            "Epoch 71/120\n",
            "469/469 [==============================] - 13s 29ms/step - loss: 0.3731 - accuracy: 0.8948 - val_loss: 0.4010 - val_accuracy: 0.8900\n",
            "Epoch 72/120\n",
            "469/469 [==============================] - 14s 29ms/step - loss: 0.3685 - accuracy: 0.8959 - val_loss: 0.3984 - val_accuracy: 0.8888\n",
            "Epoch 73/120\n",
            "469/469 [==============================] - 14s 29ms/step - loss: 0.3696 - accuracy: 0.8957 - val_loss: 0.3988 - val_accuracy: 0.8883\n",
            "Epoch 74/120\n",
            "469/469 [==============================] - 14s 30ms/step - loss: 0.3690 - accuracy: 0.8965 - val_loss: 0.4040 - val_accuracy: 0.8855\n",
            "Epoch 75/120\n",
            "469/469 [==============================] - 14s 29ms/step - loss: 0.3687 - accuracy: 0.8949 - val_loss: 0.3996 - val_accuracy: 0.8887\n",
            "Epoch 76/120\n",
            "469/469 [==============================] - 13s 29ms/step - loss: 0.3699 - accuracy: 0.8967 - val_loss: 0.4028 - val_accuracy: 0.8901\n",
            "Epoch 77/120\n",
            "469/469 [==============================] - 14s 30ms/step - loss: 0.3693 - accuracy: 0.8959 - val_loss: 0.3952 - val_accuracy: 0.8898\n",
            "Epoch 78/120\n",
            "469/469 [==============================] - 14s 29ms/step - loss: 0.3695 - accuracy: 0.8951 - val_loss: 0.3997 - val_accuracy: 0.8914\n",
            "Epoch 79/120\n",
            "469/469 [==============================] - 14s 29ms/step - loss: 0.3677 - accuracy: 0.8972 - val_loss: 0.4011 - val_accuracy: 0.8878\n",
            "Epoch 80/120\n",
            "469/469 [==============================] - 14s 29ms/step - loss: 0.3673 - accuracy: 0.8973 - val_loss: 0.3900 - val_accuracy: 0.8932\n",
            "Epoch 81/120\n",
            "469/469 [==============================] - 14s 29ms/step - loss: 0.3677 - accuracy: 0.8979 - val_loss: 0.3970 - val_accuracy: 0.8893\n",
            "Epoch 82/120\n",
            "469/469 [==============================] - 13s 29ms/step - loss: 0.3667 - accuracy: 0.8967 - val_loss: 0.3961 - val_accuracy: 0.8912\n",
            "Epoch 83/120\n",
            "469/469 [==============================] - 14s 29ms/step - loss: 0.3700 - accuracy: 0.8972 - val_loss: 0.3934 - val_accuracy: 0.8890\n",
            "Epoch 84/120\n",
            "469/469 [==============================] - 13s 28ms/step - loss: 0.3665 - accuracy: 0.8979 - val_loss: 0.4001 - val_accuracy: 0.8907\n",
            "Epoch 85/120\n",
            "469/469 [==============================] - 13s 29ms/step - loss: 0.3691 - accuracy: 0.8962 - val_loss: 0.3944 - val_accuracy: 0.8919\n",
            "Epoch 86/120\n",
            "469/469 [==============================] - 13s 29ms/step - loss: 0.3693 - accuracy: 0.8982 - val_loss: 0.3937 - val_accuracy: 0.8924\n",
            "Epoch 87/120\n",
            "469/469 [==============================] - 14s 29ms/step - loss: 0.3669 - accuracy: 0.8977 - val_loss: 0.3998 - val_accuracy: 0.8908\n",
            "Epoch 88/120\n",
            "469/469 [==============================] - 14s 29ms/step - loss: 0.3675 - accuracy: 0.8968 - val_loss: 0.4036 - val_accuracy: 0.8898\n",
            "Epoch 89/120\n",
            "469/469 [==============================] - 13s 28ms/step - loss: 0.3671 - accuracy: 0.8987 - val_loss: 0.3930 - val_accuracy: 0.8925\n",
            "Epoch 90/120\n",
            "469/469 [==============================] - 13s 28ms/step - loss: 0.3699 - accuracy: 0.8968 - val_loss: 0.3950 - val_accuracy: 0.8918\n",
            "Epoch 91/120\n",
            "469/469 [==============================] - 13s 28ms/step - loss: 0.3663 - accuracy: 0.8997 - val_loss: 0.4018 - val_accuracy: 0.8892\n",
            "Epoch 92/120\n",
            "469/469 [==============================] - 13s 28ms/step - loss: 0.3666 - accuracy: 0.8968 - val_loss: 0.4043 - val_accuracy: 0.8875\n",
            "Epoch 93/120\n",
            "469/469 [==============================] - 13s 29ms/step - loss: 0.3661 - accuracy: 0.8990 - val_loss: 0.3923 - val_accuracy: 0.8942\n",
            "Epoch 94/120\n",
            "469/469 [==============================] - 13s 29ms/step - loss: 0.3655 - accuracy: 0.8991 - val_loss: 0.3998 - val_accuracy: 0.8914\n",
            "Epoch 95/120\n",
            "469/469 [==============================] - 13s 28ms/step - loss: 0.3640 - accuracy: 0.8988 - val_loss: 0.3964 - val_accuracy: 0.8942\n",
            "Epoch 96/120\n",
            "469/469 [==============================] - 13s 29ms/step - loss: 0.3668 - accuracy: 0.8985 - val_loss: 0.3957 - val_accuracy: 0.8906\n",
            "Epoch 97/120\n",
            "469/469 [==============================] - 13s 29ms/step - loss: 0.3652 - accuracy: 0.8989 - val_loss: 0.3947 - val_accuracy: 0.8926\n",
            "Epoch 98/120\n",
            "469/469 [==============================] - 13s 29ms/step - loss: 0.3639 - accuracy: 0.8996 - val_loss: 0.3927 - val_accuracy: 0.8940\n",
            "Epoch 99/120\n",
            "469/469 [==============================] - 14s 29ms/step - loss: 0.3636 - accuracy: 0.8996 - val_loss: 0.3879 - val_accuracy: 0.8936\n",
            "Epoch 100/120\n",
            "469/469 [==============================] - 14s 29ms/step - loss: 0.3655 - accuracy: 0.8990 - val_loss: 0.3963 - val_accuracy: 0.8918\n",
            "Epoch 101/120\n",
            "469/469 [==============================] - 14s 29ms/step - loss: 0.3653 - accuracy: 0.8988 - val_loss: 0.3957 - val_accuracy: 0.8924\n",
            "Epoch 102/120\n",
            "469/469 [==============================] - 13s 29ms/step - loss: 0.3647 - accuracy: 0.8979 - val_loss: 0.3907 - val_accuracy: 0.8924\n",
            "Epoch 103/120\n",
            "469/469 [==============================] - 13s 29ms/step - loss: 0.3646 - accuracy: 0.8997 - val_loss: 0.3920 - val_accuracy: 0.8927\n",
            "Epoch 104/120\n",
            "469/469 [==============================] - 14s 29ms/step - loss: 0.3628 - accuracy: 0.9004 - val_loss: 0.4013 - val_accuracy: 0.8891\n",
            "Epoch 105/120\n",
            "469/469 [==============================] - 14s 29ms/step - loss: 0.3640 - accuracy: 0.8992 - val_loss: 0.3980 - val_accuracy: 0.8900\n",
            "Epoch 106/120\n",
            "469/469 [==============================] - 13s 28ms/step - loss: 0.3608 - accuracy: 0.9010 - val_loss: 0.3939 - val_accuracy: 0.8936\n",
            "Epoch 107/120\n",
            "469/469 [==============================] - 13s 29ms/step - loss: 0.3655 - accuracy: 0.8979 - val_loss: 0.4004 - val_accuracy: 0.8929\n",
            "Epoch 108/120\n",
            "469/469 [==============================] - 13s 29ms/step - loss: 0.3645 - accuracy: 0.9000 - val_loss: 0.3948 - val_accuracy: 0.8930\n",
            "Epoch 109/120\n",
            "469/469 [==============================] - 14s 29ms/step - loss: 0.3659 - accuracy: 0.8997 - val_loss: 0.3949 - val_accuracy: 0.8920\n",
            "Epoch 110/120\n",
            "469/469 [==============================] - 13s 29ms/step - loss: 0.3636 - accuracy: 0.9002 - val_loss: 0.3938 - val_accuracy: 0.8924\n",
            "Epoch 111/120\n",
            "469/469 [==============================] - 13s 29ms/step - loss: 0.3638 - accuracy: 0.8994 - val_loss: 0.4000 - val_accuracy: 0.8931\n",
            "Epoch 112/120\n",
            "469/469 [==============================] - 14s 29ms/step - loss: 0.3613 - accuracy: 0.8995 - val_loss: 0.3938 - val_accuracy: 0.8917\n",
            "Epoch 113/120\n",
            "469/469 [==============================] - 14s 29ms/step - loss: 0.3671 - accuracy: 0.8986 - val_loss: 0.3924 - val_accuracy: 0.8929\n",
            "Epoch 114/120\n",
            "469/469 [==============================] - 14s 29ms/step - loss: 0.3642 - accuracy: 0.9005 - val_loss: 0.3888 - val_accuracy: 0.8952\n",
            "Epoch 115/120\n",
            "469/469 [==============================] - 13s 29ms/step - loss: 0.3615 - accuracy: 0.9006 - val_loss: 0.3930 - val_accuracy: 0.8968\n",
            "Epoch 116/120\n",
            "469/469 [==============================] - 13s 29ms/step - loss: 0.3639 - accuracy: 0.8997 - val_loss: 0.3974 - val_accuracy: 0.8914\n",
            "Epoch 117/120\n",
            "469/469 [==============================] - 14s 29ms/step - loss: 0.3638 - accuracy: 0.9004 - val_loss: 0.3960 - val_accuracy: 0.8951\n",
            "Epoch 118/120\n",
            "469/469 [==============================] - 14s 29ms/step - loss: 0.3623 - accuracy: 0.9007 - val_loss: 0.3997 - val_accuracy: 0.8895\n",
            "Epoch 119/120\n",
            "469/469 [==============================] - 14s 29ms/step - loss: 0.3615 - accuracy: 0.9023 - val_loss: 0.4062 - val_accuracy: 0.8910\n",
            "Epoch 120/120\n",
            "469/469 [==============================] - 14s 30ms/step - loss: 0.3618 - accuracy: 0.9012 - val_loss: 0.3905 - val_accuracy: 0.8948\n",
            "313/313 [==============================] - 1s 4ms/step - loss: 0.3905 - accuracy: 0.8948\n",
            "\n",
            "Test accuracy: 0.8948000073432922\n"
          ]
        }
      ]
    },
    {
      "cell_type": "code",
      "source": [
        "history_dict = history.history\n",
        "loss_values = history_dict['loss']\n",
        "val_loss_values = history_dict['val_loss']\n",
        "\n",
        "epochs = range(1, len(history_dict['accuracy']) + 1)\n",
        "\n",
        "plt.figure(figsize=(10, 5))\n",
        "plt.plot(epochs, loss_values, 'bo', label='Training loss')\n",
        "plt.plot(epochs, val_loss_values, 'b', label='Validation loss')\n",
        "plt.title('Training and validation loss')\n",
        "plt.xlabel('Epochs')\n",
        "plt.ylabel('Loss')\n",
        "plt.legend()\n",
        "plt.show()\n",
        "\n",
        "plt.clf()\n",
        "plt.figure(figsize=(10, 5))\n",
        "val_acc_values = history_dict['val_accuracy']\n",
        "plt.plot(epochs, history_dict['accuracy'], 'bo', label='Training acc')\n",
        "plt.plot(epochs, history_dict['val_accuracy'], 'b', label='Validation acc')\n",
        "plt.title('Training and validation accuracy')\n",
        "plt.xlabel('Epochs')\n",
        "plt.ylabel('Accuracy')\n",
        "plt.legend()"
      ],
      "metadata": {
        "colab": {
          "base_uri": "https://localhost:8080/",
          "height": 993
        },
        "id": "2Ll_5sGlXKMH",
        "outputId": "6dab2e4d-b7ba-490e-e778-4121b4ed1b78"
      },
      "execution_count": 52,
      "outputs": [
        {
          "output_type": "display_data",
          "data": {
            "text/plain": [
              "<Figure size 1000x500 with 1 Axes>"
            ],
            "image/png": "[encoded data removed]"
          },
          "metadata": {}
        },
        {
          "output_type": "execute_result",
          "data": {
            "text/plain": [
              "<matplotlib.legend.Legend at 0x7d968e810520>"
            ]
          },
          "metadata": {},
          "execution_count": 52
        },
        {
          "output_type": "display_data",
          "data": {
            "text/plain": [
              "<Figure size 640x480 with 0 Axes>"
            ]
          },
          "metadata": {}
        },
        {
          "output_type": "display_data",
          "data": {
            "text/plain": [
              "<Figure size 1000x500 with 1 Axes>"
            ],
            "image/png": "[encoded data removed]"
          },
          "metadata": {}
        }
      ]
    },
    {
      "cell_type": "code",
      "source": [
        "probability_model = tf.keras.Sequential([model,\n",
        "                                         tf.keras.layers.Softmax()])"
      ],
      "metadata": {
        "id": "VzOdKAT_uV-f"
      },
      "execution_count": 53,
      "outputs": []
    },
    {
      "cell_type": "code",
      "source": [
        "predictions = probability_model.predict(test_images)"
      ],
      "metadata": {
        "id": "f4is3NFruYom",
        "outputId": "cec2f7f5-5826-4259-c343-41e755bffcb4",
        "colab": {
          "base_uri": "https://localhost:8080/"
        }
      },
      "execution_count": 54,
      "outputs": [
        {
          "output_type": "stream",
          "name": "stdout",
          "text": [
            "313/313 [==============================] - 1s 4ms/step\n"
          ]
        }
      ]
    },
    {
      "cell_type": "code",
      "source": [
        "predictions[0]"
      ],
      "metadata": {
        "id": "82cigvlZudz_",
        "outputId": "2753abca-c3db-4daa-b2cb-36b127bf8e4f",
        "colab": {
          "base_uri": "https://localhost:8080/"
        }
      },
      "execution_count": 55,
      "outputs": [
        {
          "output_type": "execute_result",
          "data": {
            "text/plain": [
              "array([0.08537984, 0.08537984, 0.08537984, 0.08537984, 0.08537984,\n",
              "       0.0854068 , 0.08537984, 0.08564824, 0.08537984, 0.23128611],\n",
              "      dtype=float32)"
            ]
          },
          "metadata": {},
          "execution_count": 55
        }
      ]
    }
  ]
}