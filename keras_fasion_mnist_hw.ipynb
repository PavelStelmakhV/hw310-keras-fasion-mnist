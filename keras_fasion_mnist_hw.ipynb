{
  "nbformat": 4,
  "nbformat_minor": 0,
  "metadata": {
    "colab": {
      "provenance": [],
      "gpuType": "T4",
      "authorship_tag": "ABX9TyNn014JydDL1kYkOdt2GQSa",
      "include_colab_link": true
    },
    "kernelspec": {
      "name": "python3",
      "display_name": "Python 3"
    },
    "language_info": {
      "name": "python"
    },
    "accelerator": "GPU"
  },
  "cells": [
    {
      "cell_type": "markdown",
      "metadata": {
        "id": "view-in-github",
        "colab_type": "text"
      },
      "source": [
        "<a href=\"https://colab.research.google.com/github/PavelStelmakhV/hw310-keras-fasion-mnist/blob/main/keras_fasion_mnist_hw.ipynb\" target=\"_parent\"><img src=\"https://colab.research.google.com/assets/colab-badge.svg\" alt=\"Open In Colab\"/></a>"
      ]
    },
    {
      "cell_type": "code",
      "source": [
        "import tensorflow as tf\n",
        "from tensorflow.python.client import device_lib\n",
        "print(device_lib.list_local_devices())"
      ],
      "metadata": {
        "colab": {
          "base_uri": "https://localhost:8080/"
        },
        "id": "CQL6wYJUms6Y",
        "outputId": "9fa9f682-49ce-4833-83ea-556779f776da"
      },
      "execution_count": 267,
      "outputs": [
        {
          "output_type": "stream",
          "name": "stdout",
          "text": [
            "[name: \"/device:CPU:0\"\n",
            "device_type: \"CPU\"\n",
            "memory_limit: 268435456\n",
            "locality {\n",
            "}\n",
            "incarnation: 10902404637176372256\n",
            "xla_global_id: -1\n",
            "]\n"
          ]
        }
      ]
    },
    {
      "cell_type": "code",
      "execution_count": 268,
      "metadata": {
        "id": "vv7w0bgAVQPO"
      },
      "outputs": [],
      "source": [
        "import tensorflow as tf\n",
        "import numpy as np\n",
        "import matplotlib.pyplot as plt\n",
        "import tf_keras\n",
        "\n",
        "from keras import layers\n",
        "from keras import models\n",
        "from keras import regularizers\n",
        "from keras import callbacks\n",
        "from keras import initializers\n",
        "from keras.layers import BatchNormalization\n",
        "from keras.models import load_model\n",
        "from tensorflow.keras.utils import to_categorical"
      ]
    },
    {
      "cell_type": "code",
      "source": [
        "num_classes = 10"
      ],
      "metadata": {
        "id": "RvT1uYJsa5cn"
      },
      "execution_count": 269,
      "outputs": []
    },
    {
      "cell_type": "code",
      "source": [
        "fashion_mnist = tf.keras.datasets.fashion_mnist\n",
        "\n",
        "(x_train, y_train), (x_test, y_test) = fashion_mnist.load_data()"
      ],
      "metadata": {
        "id": "mOpywsNAzfGB"
      },
      "execution_count": 270,
      "outputs": []
    },
    {
      "cell_type": "code",
      "source": [
        "def drow_hist(data):\n",
        "  plt.figure(figsize=(8,6), dpi= 80)\n",
        "  _ = plt.hist(data,\n",
        "              bins=num_classes,\n",
        "              stacked=True,\n",
        "              density=False,\n",
        "              range=(0,10),\n",
        "              rwidth=0.9,\n",
        "              )"
      ],
      "metadata": {
        "id": "NjEvuOvomEoT"
      },
      "execution_count": 271,
      "outputs": []
    },
    {
      "cell_type": "code",
      "source": [
        "# create validation data\n",
        "val_size = 6600\n",
        "\n",
        "x_val = x_train[-val_size:, :, :]\n",
        "x_train = x_train[:-val_size, :, :]\n",
        "\n",
        "y_val = y_train[-val_size:]\n",
        "y_train = y_train[:-val_size]"
      ],
      "metadata": {
        "id": "jAs92sDoVU89"
      },
      "execution_count": 272,
      "outputs": []
    },
    {
      "cell_type": "code",
      "source": [
        "# mirror train image\n",
        "# x_train_add = np.rot90(x_train, k=1, axes=(1,2))\n",
        "# x_train_add = np.transpose(x_train_add, (0, 2, 1))"
      ],
      "metadata": {
        "id": "UHNuw-3D_v7x"
      },
      "execution_count": 273,
      "outputs": []
    },
    {
      "cell_type": "code",
      "source": [
        "# y_train_add = y_train.copy()"
      ],
      "metadata": {
        "id": "TNDXV8RfZbt1"
      },
      "execution_count": 274,
      "outputs": []
    },
    {
      "cell_type": "code",
      "source": [
        "# # remove boots image from addition data [5, 7, 9]\n",
        "# for i in [5, 7, 9]:\n",
        "#     index = np.where(y_train_add == i )\n",
        "#     x_train_add = np.delete(x_train_add, index , axis=0)\n",
        "#     y_train_add = np.delete(y_train_add, index , axis=0)"
      ],
      "metadata": {
        "id": "506yp4e5UqKp"
      },
      "execution_count": 275,
      "outputs": []
    },
    {
      "cell_type": "code",
      "source": [
        "# x_train_add.shape"
      ],
      "metadata": {
        "id": "WB-PVgBb116E"
      },
      "execution_count": 276,
      "outputs": []
    },
    {
      "cell_type": "code",
      "source": [
        "# y_train_add.shape"
      ],
      "metadata": {
        "id": "MjteIWwr2V-N"
      },
      "execution_count": 277,
      "outputs": []
    },
    {
      "cell_type": "code",
      "source": [
        "# x_train = np.concatenate([\n",
        "#     x_train,\n",
        "#     x_train_add[:10000:, :, :]\n",
        "# ])"
      ],
      "metadata": {
        "id": "C25g0-L5PuhV"
      },
      "execution_count": 278,
      "outputs": []
    },
    {
      "cell_type": "code",
      "source": [
        "# y_train = np.concatenate([\n",
        "#     y_train,\n",
        "#     y_train_add[:10000]\n",
        "# ])"
      ],
      "metadata": {
        "id": "JiyI9CE-RWnR"
      },
      "execution_count": 279,
      "outputs": []
    },
    {
      "cell_type": "code",
      "source": [
        "# drow_hist(y_train)"
      ],
      "metadata": {
        "id": "j0FZ4_7DpRVw"
      },
      "execution_count": 280,
      "outputs": []
    },
    {
      "cell_type": "code",
      "source": [
        "# plt.figure()\n",
        "# plt.imshow(x_train[7])\n",
        "# plt.colorbar()\n",
        "# plt.grid(False)\n",
        "# plt.show()"
      ],
      "metadata": {
        "id": "mq_QalIABCeU"
      },
      "execution_count": 281,
      "outputs": []
    },
    {
      "cell_type": "code",
      "source": [
        "# plt.figure()\n",
        "# plt.imshow(x_train_add[0])\n",
        "# plt.colorbar()\n",
        "# plt.grid(False)\n",
        "# plt.show()"
      ],
      "metadata": {
        "id": "CDLNL7Zw3HEc"
      },
      "execution_count": 282,
      "outputs": []
    },
    {
      "cell_type": "code",
      "source": [
        "x_train = x_train.astype('float32') / 255\n",
        "x_test = x_test.astype('float32') / 255\n",
        "x_val = x_val.astype('float32') / 255\n",
        "\n",
        "y_train = to_categorical(y_train)\n",
        "y_test = to_categorical(y_test)\n",
        "y_val = to_categorical(y_val)"
      ],
      "metadata": {
        "id": "t2gucjsJ0KUi"
      },
      "execution_count": 283,
      "outputs": []
    },
    {
      "cell_type": "code",
      "source": [
        "# class_names = ['T-shirt/top', 'Trouser', 'Pullover', 'Dress', 'Coat',\n",
        "#                'Sandal', 'Shirt', 'Sneaker', 'Bag', 'Ankle boot']\n",
        "\n",
        "# plt.figure(figsize=(10,10))\n",
        "# for i in range(25):\n",
        "#     plt.subplot(5,5,i+1)\n",
        "#     plt.xticks([])\n",
        "#     plt.yticks([])\n",
        "#     plt.grid(False)\n",
        "#     plt.imshow(x_train[i+50000], cmap=plt.cm.binary)\n",
        "#     plt.xlabel(class_names[int(y_train[i+50000])])\n",
        "# plt.show()"
      ],
      "metadata": {
        "id": "h4LveKxM4hyC"
      },
      "execution_count": 284,
      "outputs": []
    },
    {
      "cell_type": "code",
      "source": [
        "# plt.figure(figsize=(10,10))\n",
        "# for i in range(25):\n",
        "#     plt.subplot(5,5,i+1)\n",
        "#     plt.xticks([])\n",
        "#     plt.yticks([])\n",
        "#     plt.grid(False)\n",
        "#     plt.imshow(x_train[i], cmap=plt.cm.binary)\n",
        "#     plt.xlabel(class_names[int(y_train[i])])\n",
        "# plt.show()"
      ],
      "metadata": {
        "id": "hljEDYd55d8Q"
      },
      "execution_count": 285,
      "outputs": []
    },
    {
      "cell_type": "code",
      "source": [
        "w_init_tanh = initializers.glorot_normal(seed=111)\n",
        "w_init_relu = initializers.HeNormal(seed=66)\n",
        "# w_init_relu = initializers.HeUniform(seed=24)\n",
        "b_init = initializers.Zeros()"
      ],
      "metadata": {
        "id": "yL9QTEtBGy4N"
      },
      "execution_count": 286,
      "outputs": []
    },
    {
      "cell_type": "code",
      "source": [
        "def layer_relu(model, neurons, drop_out):\n",
        "  model.add(BatchNormalization())\n",
        "  model.add(layers.Dense(neurons,\n",
        "                       activation='relu',\n",
        "                       kernel_initializer=w_init_relu,\n",
        "                       bias_initializer=b_init))\n",
        "  model.add(layers.Dropout(drop_out))\n",
        "  print(drop_out)\n",
        "  return model"
      ],
      "metadata": {
        "id": "ZZgs_25rKBCp"
      },
      "execution_count": 288,
      "outputs": []
    },
    {
      "cell_type": "code",
      "source": [
        "def layer_tanh(model, neurons, drop_out):\n",
        "  model.add(BatchNormalization())\n",
        "  model.add(layers.Dense(neurons,\n",
        "                        activation='tanh',\n",
        "                        kernel_initializer=w_init_tanh,\n",
        "                        bias_initializer=b_init))\n",
        "  model.add(layers.Dropout(drop_out))\n",
        "  return model"
      ],
      "metadata": {
        "id": "90JLLnkBR50t"
      },
      "execution_count": 289,
      "outputs": []
    },
    {
      "cell_type": "code",
      "source": [
        "model = models.Sequential()\n",
        "\n",
        "neurons = 256\n",
        "drop_out = 0.1\n",
        "\n",
        "model.add(layers.Flatten(input_shape=(28, 28)))\n",
        "model.add(layers.Dropout(0.3))\n",
        "\n",
        "model = layer_relu(model, neurons*1, drop_out)\n",
        "model = layer_tanh(model, neurons*2, drop_out)\n",
        "model = layer_relu(model, neurons*2, drop_out)\n",
        "# model = layer_relu(model, neurons*2)\n",
        "\n",
        "\n",
        "model.add(layers.Dense(10, activation='softmax'))"
      ],
      "metadata": {
        "id": "atS39i4d0aqW",
        "colab": {
          "base_uri": "https://localhost:8080/"
        },
        "outputId": "781a78aa-d6bb-4bb9-e173-6a4680aea7a7"
      },
      "execution_count": 290,
      "outputs": [
        {
          "output_type": "stream",
          "name": "stdout",
          "text": [
            "0.3\n",
            "0.1\n"
          ]
        }
      ]
    },
    {
      "cell_type": "markdown",
      "source": [
        "++++++++++++++++++++++++++++++++++++++++++++++++++++++++++++++++++++++++++++++++"
      ],
      "metadata": {
        "id": "tZO7hl7pM63y"
      }
    },
    {
      "cell_type": "code",
      "source": [
        "optimizer = tf.keras.optimizers.Nadam(learning_rate=0.0004,\n",
        "                                      beta_1=0.9,\n",
        "                                      beta_2=0.999,\n",
        "                                      epsilon=1e-06\n",
        ")\n",
        "# optimizer = tf.keras.optimizers.experimental.RMSprop(learning_rate=0.0005,\n",
        "#                                                     rho=0.5,\n",
        "#                                                     momentum=-16,\n",
        "#                                                     epsilon=1e-07,\n",
        "#                                                     centered=False,\n",
        "#                                                     weight_decay=None,\n",
        "#                                                     clipnorm=None,\n",
        "#                                                     clipvalue=None,\n",
        "#                                                     global_clipnorm=None,\n",
        "#                                                     use_ema=False,\n",
        "#                                                     ema_momentum=0.99,\n",
        "#                                                     ema_overwrite_frequency=100,\n",
        "#                                                     jit_compile=True,\n",
        "#                                                     name='RMSprop',\n",
        "# )"
      ],
      "metadata": {
        "id": "EzfnaqIZlfy8"
      },
      "execution_count": 291,
      "outputs": []
    },
    {
      "cell_type": "markdown",
      "source": [
        "++++++++++++++++++++++++++++++++++++++++++++++++++++++++++++++++++++++++++++++++"
      ],
      "metadata": {
        "id": "KHmBptvOM95Z"
      }
    },
    {
      "cell_type": "code",
      "source": [
        "model.compile(#optimizer='adam',\n",
        "              # optimizer='adamax',\n",
        "              optimizer=optimizer,\n",
        "              # optimizer='rmsprop',\n",
        "              # optimizer='sgd',\n",
        "              # optimizer='adadelta',\n",
        "              # loss='binary_crossentropy',\n",
        "              loss=tf.keras.losses.CategoricalCrossentropy(),\n",
        "              metrics=['categorical_accuracy']) # sparse_categorical_accuracy"
      ],
      "metadata": {
        "id": "hENVaAC7ilNY"
      },
      "execution_count": 292,
      "outputs": []
    },
    {
      "cell_type": "code",
      "source": [
        "# callback = callbacks.EarlyStopping(monitor='val_loss',\n",
        "#                                    patience=15,\n",
        "#                                    restore_best_weights=True,\n",
        "#                                    )\n",
        "es = callbacks.EarlyStopping(monitor='val_loss', mode='min', verbose=0, patience=60)\n",
        "mc = callbacks.ModelCheckpoint('best_model.h5', monitor='categorical_accuracy', mode='max', verbose=0, save_best_only=True)\n"
      ],
      "metadata": {
        "id": "5ihU4exVlsjm"
      },
      "execution_count": 293,
      "outputs": []
    },
    {
      "cell_type": "code",
      "source": [
        "history = model.fit(x_train, y_train,\n",
        "                    epochs=1000,\n",
        "                    batch_size=128,\n",
        "                    # callbacks=[callback],\n",
        "                    callbacks=[mc, es],\n",
        "                    verbose=1, #многословие\n",
        "                    # validation_split=0.2\n",
        "                    validation_data=(x_val, y_val)\n",
        "                    )\n",
        "test_loss, test_acc = model.evaluate(x_test, y_test)\n",
        "print('\\nTest accuracy:', test_acc)"
      ],
      "metadata": {
        "id": "FH8HcMNm233I",
        "outputId": "a62aed71-d405-4085-a898-1a3259d92491",
        "colab": {
          "base_uri": "https://localhost:8080/"
        }
      },
      "execution_count": 294,
      "outputs": [
        {
          "output_type": "stream",
          "name": "stdout",
          "text": [
            "Epoch 1/1000\n",
            "418/418 [==============================] - 16s 28ms/step - loss: 0.8024 - categorical_accuracy: 0.7126 - val_loss: 0.4999 - val_categorical_accuracy: 0.8165\n",
            "Epoch 2/1000\n",
            "  6/418 [..............................] - ETA: 9s - loss: 0.5716 - categorical_accuracy: 0.7812 "
          ]
        },
        {
          "output_type": "stream",
          "name": "stderr",
          "text": [
            "/usr/local/lib/python3.10/dist-packages/keras/src/engine/training.py:3103: UserWarning: You are saving your model as an HDF5 file via `model.save()`. This file format is considered legacy. We recommend using instead the native Keras format, e.g. `model.save('my_model.keras')`.\n",
            "  saving_api.save_model(\n"
          ]
        },
        {
          "output_type": "stream",
          "name": "stdout",
          "text": [
            "418/418 [==============================] - 11s 26ms/step - loss: 0.5801 - categorical_accuracy: 0.7841 - val_loss: 0.4522 - val_categorical_accuracy: 0.8311\n",
            "Epoch 3/1000\n",
            "418/418 [==============================] - 11s 27ms/step - loss: 0.5285 - categorical_accuracy: 0.8052 - val_loss: 0.4305 - val_categorical_accuracy: 0.8376\n",
            "Epoch 4/1000\n",
            "418/418 [==============================] - 11s 27ms/step - loss: 0.4969 - categorical_accuracy: 0.8157 - val_loss: 0.4180 - val_categorical_accuracy: 0.8473\n",
            "Epoch 5/1000\n",
            "418/418 [==============================] - 11s 27ms/step - loss: 0.4745 - categorical_accuracy: 0.8231 - val_loss: 0.3766 - val_categorical_accuracy: 0.8614\n",
            "Epoch 6/1000\n",
            "418/418 [==============================] - 11s 27ms/step - loss: 0.4579 - categorical_accuracy: 0.8293 - val_loss: 0.3788 - val_categorical_accuracy: 0.8591\n",
            "Epoch 7/1000\n",
            "418/418 [==============================] - 11s 27ms/step - loss: 0.4397 - categorical_accuracy: 0.8352 - val_loss: 0.3538 - val_categorical_accuracy: 0.8659\n",
            "Epoch 8/1000\n",
            "418/418 [==============================] - 13s 30ms/step - loss: 0.4296 - categorical_accuracy: 0.8385 - val_loss: 0.3544 - val_categorical_accuracy: 0.8692\n",
            "Epoch 9/1000\n",
            "418/418 [==============================] - 11s 27ms/step - loss: 0.4186 - categorical_accuracy: 0.8413 - val_loss: 0.3405 - val_categorical_accuracy: 0.8738\n",
            "Epoch 10/1000\n",
            "418/418 [==============================] - 11s 27ms/step - loss: 0.4128 - categorical_accuracy: 0.8457 - val_loss: 0.3409 - val_categorical_accuracy: 0.8735\n",
            "Epoch 11/1000\n",
            "418/418 [==============================] - 11s 26ms/step - loss: 0.4034 - categorical_accuracy: 0.8474 - val_loss: 0.3386 - val_categorical_accuracy: 0.8714\n",
            "Epoch 12/1000\n",
            "418/418 [==============================] - 11s 27ms/step - loss: 0.3964 - categorical_accuracy: 0.8507 - val_loss: 0.3400 - val_categorical_accuracy: 0.8747\n",
            "Epoch 13/1000\n",
            "418/418 [==============================] - 11s 27ms/step - loss: 0.3927 - categorical_accuracy: 0.8520 - val_loss: 0.3237 - val_categorical_accuracy: 0.8780\n",
            "Epoch 14/1000\n",
            "418/418 [==============================] - 12s 28ms/step - loss: 0.3834 - categorical_accuracy: 0.8560 - val_loss: 0.3219 - val_categorical_accuracy: 0.8797\n",
            "Epoch 15/1000\n",
            "418/418 [==============================] - 11s 27ms/step - loss: 0.3804 - categorical_accuracy: 0.8553 - val_loss: 0.3249 - val_categorical_accuracy: 0.8759\n",
            "Epoch 16/1000\n",
            "418/418 [==============================] - 12s 28ms/step - loss: 0.3757 - categorical_accuracy: 0.8581 - val_loss: 0.3105 - val_categorical_accuracy: 0.8839\n",
            "Epoch 17/1000\n",
            "418/418 [==============================] - 11s 27ms/step - loss: 0.3708 - categorical_accuracy: 0.8584 - val_loss: 0.3234 - val_categorical_accuracy: 0.8780\n",
            "Epoch 18/1000\n",
            "418/418 [==============================] - 11s 27ms/step - loss: 0.3696 - categorical_accuracy: 0.8614 - val_loss: 0.3237 - val_categorical_accuracy: 0.8782\n",
            "Epoch 19/1000\n",
            "418/418 [==============================] - 10s 25ms/step - loss: 0.3640 - categorical_accuracy: 0.8635 - val_loss: 0.3094 - val_categorical_accuracy: 0.8850\n",
            "Epoch 20/1000\n",
            "418/418 [==============================] - 11s 27ms/step - loss: 0.3607 - categorical_accuracy: 0.8633 - val_loss: 0.3175 - val_categorical_accuracy: 0.8830\n",
            "Epoch 21/1000\n",
            "418/418 [==============================] - 11s 27ms/step - loss: 0.3582 - categorical_accuracy: 0.8634 - val_loss: 0.3058 - val_categorical_accuracy: 0.8824\n",
            "Epoch 22/1000\n",
            "418/418 [==============================] - 12s 28ms/step - loss: 0.3563 - categorical_accuracy: 0.8653 - val_loss: 0.3053 - val_categorical_accuracy: 0.8848\n",
            "Epoch 23/1000\n",
            "418/418 [==============================] - 11s 27ms/step - loss: 0.3561 - categorical_accuracy: 0.8656 - val_loss: 0.3009 - val_categorical_accuracy: 0.8873\n",
            "Epoch 24/1000\n",
            "418/418 [==============================] - 12s 28ms/step - loss: 0.3510 - categorical_accuracy: 0.8677 - val_loss: 0.2989 - val_categorical_accuracy: 0.8882\n",
            "Epoch 25/1000\n",
            "418/418 [==============================] - 12s 28ms/step - loss: 0.3457 - categorical_accuracy: 0.8694 - val_loss: 0.3038 - val_categorical_accuracy: 0.8871\n",
            "Epoch 26/1000\n",
            "418/418 [==============================] - 11s 26ms/step - loss: 0.3453 - categorical_accuracy: 0.8682 - val_loss: 0.2962 - val_categorical_accuracy: 0.8909\n",
            "Epoch 27/1000\n",
            "418/418 [==============================] - 11s 27ms/step - loss: 0.3427 - categorical_accuracy: 0.8700 - val_loss: 0.3014 - val_categorical_accuracy: 0.8877\n",
            "Epoch 28/1000\n",
            "418/418 [==============================] - 11s 27ms/step - loss: 0.3393 - categorical_accuracy: 0.8719 - val_loss: 0.2917 - val_categorical_accuracy: 0.8891\n",
            "Epoch 29/1000\n",
            "418/418 [==============================] - 11s 27ms/step - loss: 0.3392 - categorical_accuracy: 0.8714 - val_loss: 0.2923 - val_categorical_accuracy: 0.8879\n",
            "Epoch 30/1000\n",
            "418/418 [==============================] - 11s 27ms/step - loss: 0.3337 - categorical_accuracy: 0.8733 - val_loss: 0.2904 - val_categorical_accuracy: 0.8911\n",
            "Epoch 31/1000\n",
            "418/418 [==============================] - 11s 27ms/step - loss: 0.3354 - categorical_accuracy: 0.8712 - val_loss: 0.2805 - val_categorical_accuracy: 0.8915\n",
            "Epoch 32/1000\n",
            "418/418 [==============================] - 11s 27ms/step - loss: 0.3330 - categorical_accuracy: 0.8741 - val_loss: 0.2874 - val_categorical_accuracy: 0.8900\n",
            "Epoch 33/1000\n",
            "418/418 [==============================] - 11s 26ms/step - loss: 0.3307 - categorical_accuracy: 0.8756 - val_loss: 0.2922 - val_categorical_accuracy: 0.8918\n",
            "Epoch 34/1000\n",
            "418/418 [==============================] - 10s 25ms/step - loss: 0.3281 - categorical_accuracy: 0.8749 - val_loss: 0.2913 - val_categorical_accuracy: 0.8894\n",
            "Epoch 35/1000\n",
            "418/418 [==============================] - 11s 27ms/step - loss: 0.3278 - categorical_accuracy: 0.8752 - val_loss: 0.2887 - val_categorical_accuracy: 0.8912\n",
            "Epoch 36/1000\n",
            "418/418 [==============================] - 12s 28ms/step - loss: 0.3271 - categorical_accuracy: 0.8748 - val_loss: 0.2875 - val_categorical_accuracy: 0.8929\n",
            "Epoch 37/1000\n",
            "418/418 [==============================] - 11s 27ms/step - loss: 0.3246 - categorical_accuracy: 0.8772 - val_loss: 0.2872 - val_categorical_accuracy: 0.8962\n",
            "Epoch 38/1000\n",
            "418/418 [==============================] - 11s 27ms/step - loss: 0.3214 - categorical_accuracy: 0.8771 - val_loss: 0.2819 - val_categorical_accuracy: 0.8962\n",
            "Epoch 39/1000\n",
            "418/418 [==============================] - 11s 27ms/step - loss: 0.3219 - categorical_accuracy: 0.8767 - val_loss: 0.2912 - val_categorical_accuracy: 0.8921\n",
            "Epoch 40/1000\n",
            "418/418 [==============================] - 11s 27ms/step - loss: 0.3164 - categorical_accuracy: 0.8795 - val_loss: 0.2840 - val_categorical_accuracy: 0.8923\n",
            "Epoch 41/1000\n",
            "418/418 [==============================] - 10s 24ms/step - loss: 0.3174 - categorical_accuracy: 0.8780 - val_loss: 0.2803 - val_categorical_accuracy: 0.8932\n",
            "Epoch 42/1000\n",
            "418/418 [==============================] - 11s 27ms/step - loss: 0.3127 - categorical_accuracy: 0.8808 - val_loss: 0.2807 - val_categorical_accuracy: 0.8958\n",
            "Epoch 43/1000\n",
            "418/418 [==============================] - 11s 27ms/step - loss: 0.3139 - categorical_accuracy: 0.8788 - val_loss: 0.2823 - val_categorical_accuracy: 0.8908\n",
            "Epoch 44/1000\n",
            "418/418 [==============================] - 11s 27ms/step - loss: 0.3110 - categorical_accuracy: 0.8805 - val_loss: 0.2831 - val_categorical_accuracy: 0.8955\n",
            "Epoch 45/1000\n",
            "418/418 [==============================] - 11s 27ms/step - loss: 0.3075 - categorical_accuracy: 0.8831 - val_loss: 0.2835 - val_categorical_accuracy: 0.8961\n",
            "Epoch 46/1000\n",
            "418/418 [==============================] - 11s 27ms/step - loss: 0.3127 - categorical_accuracy: 0.8819 - val_loss: 0.2851 - val_categorical_accuracy: 0.8926\n",
            "Epoch 47/1000\n",
            "418/418 [==============================] - 11s 27ms/step - loss: 0.3100 - categorical_accuracy: 0.8817 - val_loss: 0.2856 - val_categorical_accuracy: 0.8974\n",
            "Epoch 48/1000\n",
            "418/418 [==============================] - 10s 25ms/step - loss: 0.3092 - categorical_accuracy: 0.8821 - val_loss: 0.2829 - val_categorical_accuracy: 0.8947\n",
            "Epoch 49/1000\n",
            "418/418 [==============================] - 11s 26ms/step - loss: 0.3093 - categorical_accuracy: 0.8828 - val_loss: 0.2818 - val_categorical_accuracy: 0.8944\n",
            "Epoch 50/1000\n",
            "418/418 [==============================] - 11s 27ms/step - loss: 0.3060 - categorical_accuracy: 0.8834 - val_loss: 0.2825 - val_categorical_accuracy: 0.8930\n",
            "Epoch 51/1000\n",
            "418/418 [==============================] - 11s 27ms/step - loss: 0.3074 - categorical_accuracy: 0.8836 - val_loss: 0.2817 - val_categorical_accuracy: 0.8932\n",
            "Epoch 52/1000\n",
            "418/418 [==============================] - 11s 27ms/step - loss: 0.3026 - categorical_accuracy: 0.8846 - val_loss: 0.2761 - val_categorical_accuracy: 0.8942\n",
            "Epoch 53/1000\n",
            "418/418 [==============================] - 11s 27ms/step - loss: 0.3047 - categorical_accuracy: 0.8845 - val_loss: 0.2792 - val_categorical_accuracy: 0.8930\n",
            "Epoch 54/1000\n",
            "418/418 [==============================] - 11s 27ms/step - loss: 0.3016 - categorical_accuracy: 0.8843 - val_loss: 0.2803 - val_categorical_accuracy: 0.8950\n",
            "Epoch 55/1000\n",
            "418/418 [==============================] - 10s 25ms/step - loss: 0.3014 - categorical_accuracy: 0.8839 - val_loss: 0.2779 - val_categorical_accuracy: 0.8959\n",
            "Epoch 56/1000\n",
            "418/418 [==============================] - 11s 26ms/step - loss: 0.3010 - categorical_accuracy: 0.8849 - val_loss: 0.2780 - val_categorical_accuracy: 0.8948\n",
            "Epoch 57/1000\n",
            "418/418 [==============================] - 11s 27ms/step - loss: 0.2976 - categorical_accuracy: 0.8856 - val_loss: 0.2751 - val_categorical_accuracy: 0.8971\n",
            "Epoch 58/1000\n",
            "418/418 [==============================] - 11s 27ms/step - loss: 0.3000 - categorical_accuracy: 0.8864 - val_loss: 0.2723 - val_categorical_accuracy: 0.8970\n",
            "Epoch 59/1000\n",
            "418/418 [==============================] - 11s 27ms/step - loss: 0.2979 - categorical_accuracy: 0.8868 - val_loss: 0.2754 - val_categorical_accuracy: 0.8958\n",
            "Epoch 60/1000\n",
            "418/418 [==============================] - 11s 27ms/step - loss: 0.2985 - categorical_accuracy: 0.8866 - val_loss: 0.2776 - val_categorical_accuracy: 0.8968\n",
            "Epoch 61/1000\n",
            "418/418 [==============================] - 11s 27ms/step - loss: 0.2966 - categorical_accuracy: 0.8856 - val_loss: 0.2757 - val_categorical_accuracy: 0.8970\n",
            "Epoch 62/1000\n",
            "418/418 [==============================] - 11s 25ms/step - loss: 0.2955 - categorical_accuracy: 0.8877 - val_loss: 0.2726 - val_categorical_accuracy: 0.8995\n",
            "Epoch 63/1000\n",
            "418/418 [==============================] - 11s 26ms/step - loss: 0.2978 - categorical_accuracy: 0.8869 - val_loss: 0.2732 - val_categorical_accuracy: 0.8973\n",
            "Epoch 64/1000\n",
            "418/418 [==============================] - 11s 27ms/step - loss: 0.2947 - categorical_accuracy: 0.8867 - val_loss: 0.2715 - val_categorical_accuracy: 0.8989\n",
            "Epoch 65/1000\n",
            "418/418 [==============================] - 11s 27ms/step - loss: 0.2920 - categorical_accuracy: 0.8897 - val_loss: 0.2761 - val_categorical_accuracy: 0.8974\n",
            "Epoch 66/1000\n",
            "418/418 [==============================] - 12s 28ms/step - loss: 0.2908 - categorical_accuracy: 0.8879 - val_loss: 0.2714 - val_categorical_accuracy: 0.8985\n",
            "Epoch 67/1000\n",
            "418/418 [==============================] - 11s 27ms/step - loss: 0.2893 - categorical_accuracy: 0.8896 - val_loss: 0.2758 - val_categorical_accuracy: 0.9003\n",
            "Epoch 68/1000\n",
            "418/418 [==============================] - 11s 27ms/step - loss: 0.2944 - categorical_accuracy: 0.8870 - val_loss: 0.2717 - val_categorical_accuracy: 0.9000\n",
            "Epoch 69/1000\n",
            "418/418 [==============================] - 11s 25ms/step - loss: 0.2901 - categorical_accuracy: 0.8888 - val_loss: 0.2712 - val_categorical_accuracy: 0.8989\n",
            "Epoch 70/1000\n",
            "418/418 [==============================] - 11s 25ms/step - loss: 0.2878 - categorical_accuracy: 0.8887 - val_loss: 0.2707 - val_categorical_accuracy: 0.9005\n",
            "Epoch 71/1000\n",
            "418/418 [==============================] - 11s 27ms/step - loss: 0.2873 - categorical_accuracy: 0.8907 - val_loss: 0.2704 - val_categorical_accuracy: 0.8976\n",
            "Epoch 72/1000\n",
            "418/418 [==============================] - 11s 27ms/step - loss: 0.2866 - categorical_accuracy: 0.8894 - val_loss: 0.2661 - val_categorical_accuracy: 0.8992\n",
            "Epoch 73/1000\n",
            "418/418 [==============================] - 11s 27ms/step - loss: 0.2909 - categorical_accuracy: 0.8889 - val_loss: 0.2704 - val_categorical_accuracy: 0.8986\n",
            "Epoch 74/1000\n",
            "418/418 [==============================] - 11s 27ms/step - loss: 0.2867 - categorical_accuracy: 0.8910 - val_loss: 0.2722 - val_categorical_accuracy: 0.8974\n",
            "Epoch 75/1000\n",
            "418/418 [==============================] - 11s 27ms/step - loss: 0.2850 - categorical_accuracy: 0.8898 - val_loss: 0.2714 - val_categorical_accuracy: 0.8971\n",
            "Epoch 76/1000\n",
            "418/418 [==============================] - 11s 26ms/step - loss: 0.2848 - categorical_accuracy: 0.8915 - val_loss: 0.2741 - val_categorical_accuracy: 0.8974\n",
            "Epoch 77/1000\n",
            "418/418 [==============================] - 11s 25ms/step - loss: 0.2886 - categorical_accuracy: 0.8900 - val_loss: 0.2716 - val_categorical_accuracy: 0.8992\n",
            "Epoch 78/1000\n",
            "418/418 [==============================] - 11s 27ms/step - loss: 0.2843 - categorical_accuracy: 0.8899 - val_loss: 0.2635 - val_categorical_accuracy: 0.9024\n",
            "Epoch 79/1000\n",
            "418/418 [==============================] - 12s 28ms/step - loss: 0.2829 - categorical_accuracy: 0.8897 - val_loss: 0.2675 - val_categorical_accuracy: 0.9011\n",
            "Epoch 80/1000\n",
            "418/418 [==============================] - 11s 27ms/step - loss: 0.2840 - categorical_accuracy: 0.8907 - val_loss: 0.2710 - val_categorical_accuracy: 0.9006\n",
            "Epoch 81/1000\n",
            "418/418 [==============================] - 11s 27ms/step - loss: 0.2857 - categorical_accuracy: 0.8906 - val_loss: 0.2683 - val_categorical_accuracy: 0.8991\n",
            "Epoch 82/1000\n",
            "418/418 [==============================] - 11s 27ms/step - loss: 0.2805 - categorical_accuracy: 0.8926 - val_loss: 0.2696 - val_categorical_accuracy: 0.9011\n",
            "Epoch 83/1000\n",
            "418/418 [==============================] - 11s 26ms/step - loss: 0.2811 - categorical_accuracy: 0.8916 - val_loss: 0.2610 - val_categorical_accuracy: 0.8998\n",
            "Epoch 84/1000\n",
            "418/418 [==============================] - 11s 25ms/step - loss: 0.2834 - categorical_accuracy: 0.8898 - val_loss: 0.2754 - val_categorical_accuracy: 0.8992\n",
            "Epoch 85/1000\n",
            "418/418 [==============================] - 11s 27ms/step - loss: 0.2808 - categorical_accuracy: 0.8931 - val_loss: 0.2673 - val_categorical_accuracy: 0.9015\n",
            "Epoch 86/1000\n",
            "418/418 [==============================] - 11s 27ms/step - loss: 0.2809 - categorical_accuracy: 0.8909 - val_loss: 0.2698 - val_categorical_accuracy: 0.9002\n",
            "Epoch 87/1000\n",
            "418/418 [==============================] - 11s 27ms/step - loss: 0.2801 - categorical_accuracy: 0.8926 - val_loss: 0.2704 - val_categorical_accuracy: 0.8968\n",
            "Epoch 88/1000\n",
            "418/418 [==============================] - 11s 27ms/step - loss: 0.2820 - categorical_accuracy: 0.8915 - val_loss: 0.2688 - val_categorical_accuracy: 0.8968\n",
            "Epoch 89/1000\n",
            "418/418 [==============================] - 11s 27ms/step - loss: 0.2786 - categorical_accuracy: 0.8931 - val_loss: 0.2683 - val_categorical_accuracy: 0.8998\n",
            "Epoch 90/1000\n",
            "418/418 [==============================] - 11s 26ms/step - loss: 0.2771 - categorical_accuracy: 0.8923 - val_loss: 0.2753 - val_categorical_accuracy: 0.8976\n",
            "Epoch 91/1000\n",
            "418/418 [==============================] - 11s 25ms/step - loss: 0.2784 - categorical_accuracy: 0.8935 - val_loss: 0.2693 - val_categorical_accuracy: 0.8992\n",
            "Epoch 92/1000\n",
            "418/418 [==============================] - 11s 27ms/step - loss: 0.2794 - categorical_accuracy: 0.8932 - val_loss: 0.2638 - val_categorical_accuracy: 0.9030\n",
            "Epoch 93/1000\n",
            "418/418 [==============================] - 11s 27ms/step - loss: 0.2776 - categorical_accuracy: 0.8929 - val_loss: 0.2712 - val_categorical_accuracy: 0.8985\n",
            "Epoch 94/1000\n",
            "418/418 [==============================] - 11s 27ms/step - loss: 0.2772 - categorical_accuracy: 0.8947 - val_loss: 0.2730 - val_categorical_accuracy: 0.8971\n",
            "Epoch 95/1000\n",
            "418/418 [==============================] - 11s 27ms/step - loss: 0.2763 - categorical_accuracy: 0.8941 - val_loss: 0.2645 - val_categorical_accuracy: 0.9017\n",
            "Epoch 96/1000\n",
            "418/418 [==============================] - 11s 27ms/step - loss: 0.2747 - categorical_accuracy: 0.8948 - val_loss: 0.2717 - val_categorical_accuracy: 0.9027\n",
            "Epoch 97/1000\n",
            "418/418 [==============================] - 11s 26ms/step - loss: 0.2719 - categorical_accuracy: 0.8960 - val_loss: 0.2748 - val_categorical_accuracy: 0.8988\n",
            "Epoch 98/1000\n",
            "418/418 [==============================] - 11s 25ms/step - loss: 0.2721 - categorical_accuracy: 0.8957 - val_loss: 0.2737 - val_categorical_accuracy: 0.9000\n",
            "Epoch 99/1000\n",
            "418/418 [==============================] - 11s 27ms/step - loss: 0.2746 - categorical_accuracy: 0.8943 - val_loss: 0.2682 - val_categorical_accuracy: 0.8997\n",
            "Epoch 100/1000\n",
            "418/418 [==============================] - 11s 27ms/step - loss: 0.2750 - categorical_accuracy: 0.8948 - val_loss: 0.2757 - val_categorical_accuracy: 0.8959\n",
            "Epoch 101/1000\n",
            "418/418 [==============================] - 11s 27ms/step - loss: 0.2752 - categorical_accuracy: 0.8946 - val_loss: 0.2700 - val_categorical_accuracy: 0.8989\n",
            "Epoch 102/1000\n",
            "418/418 [==============================] - 11s 27ms/step - loss: 0.2723 - categorical_accuracy: 0.8952 - val_loss: 0.2672 - val_categorical_accuracy: 0.9008\n",
            "Epoch 103/1000\n",
            "418/418 [==============================] - 11s 27ms/step - loss: 0.2725 - categorical_accuracy: 0.8954 - val_loss: 0.2694 - val_categorical_accuracy: 0.9017\n",
            "Epoch 104/1000\n",
            "418/418 [==============================] - 11s 26ms/step - loss: 0.2733 - categorical_accuracy: 0.8964 - val_loss: 0.2680 - val_categorical_accuracy: 0.8991\n",
            "Epoch 105/1000\n",
            "418/418 [==============================] - 11s 25ms/step - loss: 0.2727 - categorical_accuracy: 0.8954 - val_loss: 0.2667 - val_categorical_accuracy: 0.9008\n",
            "Epoch 106/1000\n",
            "418/418 [==============================] - 12s 28ms/step - loss: 0.2699 - categorical_accuracy: 0.8969 - val_loss: 0.2737 - val_categorical_accuracy: 0.8991\n",
            "Epoch 107/1000\n",
            "418/418 [==============================] - 11s 27ms/step - loss: 0.2698 - categorical_accuracy: 0.8959 - val_loss: 0.2687 - val_categorical_accuracy: 0.8998\n",
            "Epoch 108/1000\n",
            "418/418 [==============================] - 11s 27ms/step - loss: 0.2681 - categorical_accuracy: 0.8960 - val_loss: 0.2673 - val_categorical_accuracy: 0.9000\n",
            "Epoch 109/1000\n",
            "418/418 [==============================] - 11s 27ms/step - loss: 0.2716 - categorical_accuracy: 0.8954 - val_loss: 0.2686 - val_categorical_accuracy: 0.8982\n",
            "Epoch 110/1000\n",
            "418/418 [==============================] - 11s 27ms/step - loss: 0.2695 - categorical_accuracy: 0.8967 - val_loss: 0.2685 - val_categorical_accuracy: 0.9012\n",
            "Epoch 111/1000\n",
            "418/418 [==============================] - 11s 27ms/step - loss: 0.2724 - categorical_accuracy: 0.8959 - val_loss: 0.2748 - val_categorical_accuracy: 0.8989\n",
            "Epoch 112/1000\n",
            "418/418 [==============================] - 11s 25ms/step - loss: 0.2658 - categorical_accuracy: 0.8962 - val_loss: 0.2686 - val_categorical_accuracy: 0.9018\n",
            "Epoch 113/1000\n",
            "418/418 [==============================] - 11s 27ms/step - loss: 0.2631 - categorical_accuracy: 0.8974 - val_loss: 0.2692 - val_categorical_accuracy: 0.8979\n",
            "Epoch 114/1000\n",
            "418/418 [==============================] - 12s 28ms/step - loss: 0.2666 - categorical_accuracy: 0.8972 - val_loss: 0.2763 - val_categorical_accuracy: 0.9003\n",
            "Epoch 115/1000\n",
            "418/418 [==============================] - 11s 27ms/step - loss: 0.2643 - categorical_accuracy: 0.8983 - val_loss: 0.2677 - val_categorical_accuracy: 0.9024\n",
            "Epoch 116/1000\n",
            "418/418 [==============================] - 11s 27ms/step - loss: 0.2696 - categorical_accuracy: 0.8972 - val_loss: 0.2683 - val_categorical_accuracy: 0.9014\n",
            "Epoch 117/1000\n",
            "418/418 [==============================] - 11s 27ms/step - loss: 0.2678 - categorical_accuracy: 0.8976 - val_loss: 0.2728 - val_categorical_accuracy: 0.8968\n",
            "Epoch 118/1000\n",
            "418/418 [==============================] - 11s 27ms/step - loss: 0.2648 - categorical_accuracy: 0.8971 - val_loss: 0.2679 - val_categorical_accuracy: 0.8994\n",
            "Epoch 119/1000\n",
            "418/418 [==============================] - 11s 26ms/step - loss: 0.2665 - categorical_accuracy: 0.8973 - val_loss: 0.2665 - val_categorical_accuracy: 0.9021\n",
            "Epoch 120/1000\n",
            "418/418 [==============================] - 11s 25ms/step - loss: 0.2652 - categorical_accuracy: 0.8977 - val_loss: 0.2669 - val_categorical_accuracy: 0.9011\n",
            "Epoch 121/1000\n",
            "418/418 [==============================] - 12s 28ms/step - loss: 0.2636 - categorical_accuracy: 0.8975 - val_loss: 0.2673 - val_categorical_accuracy: 0.9009\n",
            "Epoch 122/1000\n",
            "418/418 [==============================] - 11s 27ms/step - loss: 0.2629 - categorical_accuracy: 0.8993 - val_loss: 0.2713 - val_categorical_accuracy: 0.8997\n",
            "Epoch 123/1000\n",
            "418/418 [==============================] - 12s 28ms/step - loss: 0.2620 - categorical_accuracy: 0.8989 - val_loss: 0.2725 - val_categorical_accuracy: 0.9015\n",
            "Epoch 124/1000\n",
            "418/418 [==============================] - 11s 27ms/step - loss: 0.2629 - categorical_accuracy: 0.8978 - val_loss: 0.2738 - val_categorical_accuracy: 0.8959\n",
            "Epoch 125/1000\n",
            "418/418 [==============================] - 11s 27ms/step - loss: 0.2637 - categorical_accuracy: 0.8988 - val_loss: 0.2684 - val_categorical_accuracy: 0.9008\n",
            "Epoch 126/1000\n",
            "418/418 [==============================] - 11s 27ms/step - loss: 0.2631 - categorical_accuracy: 0.8978 - val_loss: 0.2693 - val_categorical_accuracy: 0.9041\n",
            "Epoch 127/1000\n",
            "418/418 [==============================] - 11s 26ms/step - loss: 0.2642 - categorical_accuracy: 0.8968 - val_loss: 0.2723 - val_categorical_accuracy: 0.8997\n",
            "Epoch 128/1000\n",
            "418/418 [==============================] - 11s 27ms/step - loss: 0.2601 - categorical_accuracy: 0.9008 - val_loss: 0.2690 - val_categorical_accuracy: 0.8998\n",
            "Epoch 129/1000\n",
            "418/418 [==============================] - 11s 27ms/step - loss: 0.2625 - categorical_accuracy: 0.8986 - val_loss: 0.2688 - val_categorical_accuracy: 0.9015\n",
            "Epoch 130/1000\n",
            "418/418 [==============================] - 11s 27ms/step - loss: 0.2582 - categorical_accuracy: 0.8992 - val_loss: 0.2669 - val_categorical_accuracy: 0.9006\n",
            "Epoch 131/1000\n",
            "418/418 [==============================] - 11s 27ms/step - loss: 0.2625 - categorical_accuracy: 0.8995 - val_loss: 0.2716 - val_categorical_accuracy: 0.8997\n",
            "Epoch 132/1000\n",
            "418/418 [==============================] - 11s 27ms/step - loss: 0.2619 - categorical_accuracy: 0.8982 - val_loss: 0.2636 - val_categorical_accuracy: 0.9038\n",
            "Epoch 133/1000\n",
            "418/418 [==============================] - 11s 27ms/step - loss: 0.2606 - categorical_accuracy: 0.8984 - val_loss: 0.2739 - val_categorical_accuracy: 0.9006\n",
            "Epoch 134/1000\n",
            "418/418 [==============================] - 11s 26ms/step - loss: 0.2613 - categorical_accuracy: 0.8986 - val_loss: 0.2674 - val_categorical_accuracy: 0.9048\n",
            "Epoch 135/1000\n",
            "418/418 [==============================] - 11s 26ms/step - loss: 0.2634 - categorical_accuracy: 0.8985 - val_loss: 0.2639 - val_categorical_accuracy: 0.9036\n",
            "Epoch 136/1000\n",
            "418/418 [==============================] - 11s 27ms/step - loss: 0.2584 - categorical_accuracy: 0.8992 - val_loss: 0.2778 - val_categorical_accuracy: 0.9002\n",
            "Epoch 137/1000\n",
            "418/418 [==============================] - 11s 27ms/step - loss: 0.2611 - categorical_accuracy: 0.8997 - val_loss: 0.2745 - val_categorical_accuracy: 0.9017\n",
            "Epoch 138/1000\n",
            "418/418 [==============================] - 11s 27ms/step - loss: 0.2574 - categorical_accuracy: 0.8999 - val_loss: 0.2731 - val_categorical_accuracy: 0.9035\n",
            "Epoch 139/1000\n",
            "418/418 [==============================] - 11s 27ms/step - loss: 0.2583 - categorical_accuracy: 0.9001 - val_loss: 0.2766 - val_categorical_accuracy: 0.9017\n",
            "Epoch 140/1000\n",
            "418/418 [==============================] - 11s 27ms/step - loss: 0.2542 - categorical_accuracy: 0.9014 - val_loss: 0.2770 - val_categorical_accuracy: 0.9017\n",
            "Epoch 141/1000\n",
            "418/418 [==============================] - 11s 26ms/step - loss: 0.2560 - categorical_accuracy: 0.9001 - val_loss: 0.2698 - val_categorical_accuracy: 0.9017\n",
            "Epoch 142/1000\n",
            "418/418 [==============================] - 11s 26ms/step - loss: 0.2564 - categorical_accuracy: 0.9007 - val_loss: 0.2755 - val_categorical_accuracy: 0.9006\n",
            "Epoch 143/1000\n",
            "418/418 [==============================] - 11s 27ms/step - loss: 0.2563 - categorical_accuracy: 0.9004 - val_loss: 0.2686 - val_categorical_accuracy: 0.9030\n",
            "313/313 [==============================] - 1s 4ms/step - loss: 0.2991 - categorical_accuracy: 0.8930\n",
            "\n",
            "Test accuracy: 0.8930000066757202\n"
          ]
        }
      ]
    },
    {
      "cell_type": "code",
      "source": [
        "print('\\nhistory dict:', list(history.history.keys()))"
      ],
      "metadata": {
        "id": "CxRE-B_Q6Sii",
        "outputId": "baeb0b4d-da72-4d32-c136-9ba09e992970",
        "colab": {
          "base_uri": "https://localhost:8080/"
        }
      },
      "execution_count": 295,
      "outputs": [
        {
          "output_type": "stream",
          "name": "stdout",
          "text": [
            "\n",
            "history dict: ['loss', 'categorical_accuracy', 'val_loss', 'val_categorical_accuracy']\n"
          ]
        }
      ]
    },
    {
      "cell_type": "code",
      "source": [
        "result = model.evaluate(x_test, y_test)\n",
        "print(result)"
      ],
      "metadata": {
        "id": "YXpwRRTvTBNg",
        "outputId": "833f0042-c355-42ab-9ac7-baa94c5a2ae8",
        "colab": {
          "base_uri": "https://localhost:8080/"
        }
      },
      "execution_count": 296,
      "outputs": [
        {
          "output_type": "stream",
          "name": "stdout",
          "text": [
            "313/313 [==============================] - 1s 4ms/step - loss: 0.2991 - categorical_accuracy: 0.8930\n",
            "[0.29912716150283813, 0.8930000066757202]\n"
          ]
        }
      ]
    },
    {
      "cell_type": "code",
      "source": [
        "saved_model = load_model('best_model.h5')\n",
        "result = saved_model.evaluate(x_test, y_test)\n",
        "print(result)"
      ],
      "metadata": {
        "id": "dpaZAW0vp1AZ",
        "outputId": "0b2a611a-81f6-4d49-e3ee-13be85cdafe6",
        "colab": {
          "base_uri": "https://localhost:8080/"
        }
      },
      "execution_count": 297,
      "outputs": [
        {
          "output_type": "stream",
          "name": "stdout",
          "text": [
            "313/313 [==============================] - 1s 4ms/step - loss: 0.3037 - categorical_accuracy: 0.8945\n",
            "[0.30367758870124817, 0.8945000171661377]\n"
          ]
        }
      ]
    },
    {
      "cell_type": "code",
      "source": [
        "# from keras.models import load_model\n",
        "# saved_model = load_model('best_model.h5')\n",
        "# # _, train_acc = saved_model.evaluate(x_train, y_train, verbose=0)\n",
        "# _, test_acc = saved_model.evaluate(x_test, y_test, verbose=0)\n",
        "# print('Test: %.3f' % (test_acc))"
      ],
      "metadata": {
        "id": "DR_MS9DABo_K"
      },
      "execution_count": 298,
      "outputs": []
    },
    {
      "cell_type": "code",
      "source": [
        "history_dict = history.history\n",
        "loss_values = history_dict['loss']\n",
        "val_loss_values = history_dict['val_loss']\n",
        "\n",
        "epochs = range(1, len(history_dict['loss']) + 1)\n",
        "\n",
        "plt.figure(figsize=(10, 5))\n",
        "plt.plot(epochs, loss_values, 'bo', label='Training loss')\n",
        "plt.plot(epochs, val_loss_values, 'r', label='Validation loss')\n",
        "# plt.ylim (0.2, 0.5)\n",
        "plt.title('Training and validation loss')\n",
        "plt.xlabel('Epochs')\n",
        "plt.ylabel('Loss')\n",
        "plt.legend()\n",
        "plt.grid(True)\n",
        "plt.show()\n",
        "1\n",
        "plt.clf()\n",
        "plt.figure(figsize=(10, 5))\n",
        "val_acc_values = history_dict['categorical_accuracy']\n",
        "plt.plot(epochs, history_dict['categorical_accuracy'], 'bo', label='Training acc')\n",
        "plt.plot(epochs, history_dict['val_categorical_accuracy'], 'r', label='Validation acc')\n",
        "plt.ylim (0.86, 0.94)\n",
        "plt.title('Training and validation accuracy')\n",
        "plt.xlabel('Epochs')\n",
        "plt.ylabel('Accuracy')\n",
        "plt.legend()\n",
        "plt.grid(True)"
      ],
      "metadata": {
        "id": "2Ll_5sGlXKMH",
        "outputId": "b7da1709-d6aa-4e7e-8070-4e9b573b1b5a",
        "colab": {
          "base_uri": "https://localhost:8080/",
          "height": 975
        }
      },
      "execution_count": 299,
      "outputs": [
        {
          "output_type": "display_data",
          "data": {
            "text/plain": [
              "<Figure size 1000x500 with 1 Axes>"
            ],
            "image/png": "[encoded data removed]"
          },
          "metadata": {}
        },
        {
          "output_type": "display_data",
          "data": {
            "text/plain": [
              "<Figure size 640x480 with 0 Axes>"
            ]
          },
          "metadata": {}
        },
        {
          "output_type": "display_data",
          "data": {
            "text/plain": [
              "<Figure size 1000x500 with 1 Axes>"
            ],
            "image/png": "[encoded data removed]"
          },
          "metadata": {}
        }
      ]
    },
    {
      "cell_type": "code",
      "source": [
        "probability_model = tf.keras.Sequential([model,\n",
        "                                         tf.keras.layers.Softmax()])"
      ],
      "metadata": {
        "id": "VzOdKAT_uV-f"
      },
      "execution_count": 300,
      "outputs": []
    },
    {
      "cell_type": "code",
      "source": [
        "predictions = probability_model.predict(x_test)"
      ],
      "metadata": {
        "id": "f4is3NFruYom",
        "outputId": "589358af-e2a0-47e4-c733-1bcd0db79411",
        "colab": {
          "base_uri": "https://localhost:8080/"
        }
      },
      "execution_count": 301,
      "outputs": [
        {
          "output_type": "stream",
          "name": "stdout",
          "text": [
            "313/313 [==============================] - 2s 4ms/step\n"
          ]
        }
      ]
    },
    {
      "cell_type": "code",
      "source": [
        "predictions[0]"
      ],
      "metadata": {
        "id": "82cigvlZudz_",
        "outputId": "c37a3907-65de-476c-bcc9-600227df3d3f",
        "colab": {
          "base_uri": "https://localhost:8080/"
        }
      },
      "execution_count": 302,
      "outputs": [
        {
          "output_type": "execute_result",
          "data": {
            "text/plain": [
              "array([0.08546474, 0.08546474, 0.08546474, 0.08546474, 0.08546474,\n",
              "       0.08547965, 0.08546474, 0.08633678, 0.08546474, 0.22993052],\n",
              "      dtype=float32)"
            ]
          },
          "metadata": {},
          "execution_count": 302
        }
      ]
    },
    {
      "cell_type": "code",
      "source": [
        "model.summary()"
      ],
      "metadata": {
        "id": "6RsQPHyYuNGe",
        "outputId": "612f513b-2a3a-4b13-8e42-86091b51eed3",
        "colab": {
          "base_uri": "https://localhost:8080/"
        }
      },
      "execution_count": 303,
      "outputs": [
        {
          "output_type": "stream",
          "name": "stdout",
          "text": [
            "Model: \"sequential_14\"\n",
            "_________________________________________________________________\n",
            " Layer (type)                Output Shape              Param #   \n",
            "=================================================================\n",
            " flatten_7 (Flatten)         (None, 784)               0         \n",
            "                                                                 \n",
            " dropout_28 (Dropout)        (None, 784)               0         \n",
            "                                                                 \n",
            " batch_normalization_21 (Ba  (None, 784)               3136      \n",
            " tchNormalization)                                               \n",
            "                                                                 \n",
            " dense_28 (Dense)            (None, 256)               200960    \n",
            "                                                                 \n",
            " dropout_29 (Dropout)        (None, 256)               0         \n",
            "                                                                 \n",
            " batch_normalization_22 (Ba  (None, 256)               1024      \n",
            " tchNormalization)                                               \n",
            "                                                                 \n",
            " dense_29 (Dense)            (None, 512)               131584    \n",
            "                                                                 \n",
            " dropout_30 (Dropout)        (None, 512)               0         \n",
            "                                                                 \n",
            " batch_normalization_23 (Ba  (None, 512)               2048      \n",
            " tchNormalization)                                               \n",
            "                                                                 \n",
            " dense_30 (Dense)            (None, 512)               262656    \n",
            "                                                                 \n",
            " dropout_31 (Dropout)        (None, 512)               0         \n",
            "                                                                 \n",
            " dense_31 (Dense)            (None, 10)                5130      \n",
            "                                                                 \n",
            "=================================================================\n",
            "Total params: 606538 (2.31 MB)\n",
            "Trainable params: 603434 (2.30 MB)\n",
            "Non-trainable params: 3104 (12.12 KB)\n",
            "_________________________________________________________________\n"
          ]
        }
      ]
    },
    {
      "cell_type": "code",
      "source": [
        "\n",
        "\n",
        "hnyetjn hrte()"
      ],
      "metadata": {
        "id": "S4hcxZttmp-0",
        "outputId": "022497f5-e5af-443f-9c51-cc892da7c614",
        "colab": {
          "base_uri": "https://localhost:8080/",
          "height": 108
        }
      },
      "execution_count": 304,
      "outputs": [
        {
          "output_type": "error",
          "ename": "SyntaxError",
          "evalue": "invalid syntax (<ipython-input-304-1a3818e70946>, line 1)",
          "traceback": [
            "\u001b[0;36m  File \u001b[0;32m\"<ipython-input-304-1a3818e70946>\"\u001b[0;36m, line \u001b[0;32m1\u001b[0m\n\u001b[0;31m    hnyetjn hrte()\u001b[0m\n\u001b[0m            ^\u001b[0m\n\u001b[0;31mSyntaxError\u001b[0m\u001b[0;31m:\u001b[0m invalid syntax\n"
          ]
        }
      ]
    }
  ]
}