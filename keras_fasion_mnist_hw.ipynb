{
  "nbformat": 4,
  "nbformat_minor": 0,
  "metadata": {
    "colab": {
      "provenance": [],
      "authorship_tag": "ABX9TyMIWwKkv7fpzHhuIp36+QX1",
      "include_colab_link": true
    },
    "kernelspec": {
      "name": "python3",
      "display_name": "Python 3"
    },
    "language_info": {
      "name": "python"
    }
  },
  "cells": [
    {
      "cell_type": "markdown",
      "metadata": {
        "id": "view-in-github",
        "colab_type": "text"
      },
      "source": [
        "<a href=\"https://colab.research.google.com/github/PavelStelmakhV/hw310-keras-fasion-mnist/blob/main/keras_fasion_mnist_hw.ipynb\" target=\"_parent\"><img src=\"https://colab.research.google.com/assets/colab-badge.svg\" alt=\"Open In Colab\"/></a>"
      ]
    },
    {
      "cell_type": "code",
      "execution_count": 150,
      "metadata": {
        "id": "vv7w0bgAVQPO"
      },
      "outputs": [],
      "source": [
        "import tensorflow as tf\n",
        "\n",
        "import numpy as np\n",
        "import matplotlib.pyplot as plt\n",
        "from keras import layers\n",
        "from keras import regularizers"
      ]
    },
    {
      "cell_type": "code",
      "source": [
        "fashion_mnist = tf.keras.datasets.fashion_mnist\n",
        "\n",
        "(x_train, y_train), (x_test, y_test) = fashion_mnist.load_data()"
      ],
      "metadata": {
        "id": "mOpywsNAzfGB"
      },
      "execution_count": 151,
      "outputs": []
    },
    {
      "cell_type": "code",
      "source": [
        "# x_train = x_train.reshape(60000, 784).astype('float32') / 255\n",
        "# x_test = x_test.reshape(10000, 784).astype('float32') / 255\n",
        "x_train = x_train.astype('float32') / 255\n",
        "x_test = x_test.astype('float32') / 255\n",
        "\n",
        "y_train = y_train.astype('float32')\n",
        "y_test = y_test.astype('float32')\n",
        "\n",
        "# Перемешаем тренировочные данные\n",
        "# train_data = tf.data.Dataset.from_tensor_slices((x_train, y_train))\n",
        "# train_data = train_data.repeat().shuffle(5000).batch(batch_size).prefetch(1)"
      ],
      "metadata": {
        "id": "t2gucjsJ0KUi"
      },
      "execution_count": 152,
      "outputs": []
    },
    {
      "cell_type": "code",
      "source": [
        "x_val = x_train[-10000:]\n",
        "y_val = y_train[-10000:]\n",
        "x_train = x_train[:-10000]\n",
        "y_train = y_train[:-10000]"
      ],
      "metadata": {
        "id": "fLPNXab5dHwO"
      },
      "execution_count": 153,
      "outputs": []
    },
    {
      "cell_type": "code",
      "source": [
        "model = tf.keras.Sequential()\n",
        "\n",
        "drop_out = 0.4\n",
        "lern_rat = 0.00001\n",
        "neurons = 300\n",
        "\n",
        "model.add(layers.Flatten(input_shape=(28, 28)))\n",
        "# model.add(layers.Dropout(0.2))\n",
        "model.add(layers.Dense(neurons, activation='relu', kernel_regularizer=regularizers.l2(lern_rat)))\n",
        "model.add(layers.Dropout(drop_out))\n",
        "model.add(layers.Dense(neurons, activation='relu', kernel_regularizer=regularizers.l2(lern_rat)))\n",
        "model.add(layers.Dropout(drop_out))\n",
        "\n",
        "model.add(layers.Dense(neurons, activation='sigmoid', kernel_regularizer=regularizers.l2(lern_rat)))\n",
        "model.add(layers.Dropout(drop_out))\n",
        "model.add(layers.Dense(neurons, activation='sigmoid', kernel_regularizer=regularizers.l2(lern_rat)))\n",
        "model.add(layers.Dropout(drop_out))\n",
        "# model.add(layers.Dense(512, activation='relu', kernel_regularizer=regularizers.l2(lern_rat)))\n",
        "# model.add(layers.Dropout(drop_out))\n",
        "\n",
        "# model.add(layers.Dense(216, activation='relu', kernel_regularizer=regularizers.l2(0.001)))\n",
        "# model.add(layers.Dense(512, activation='sigmoid', kernel_regularizer=regularizers.l2(0.00001)))\n",
        "# model.add(layers.Dropout(0.5))\n",
        "# model.add(layers.Dense(512, activation='sigmoid', kernel_regularizer=regularizers.l2(0.00001)))\n",
        "# model.add(layers.Dropout(0.5))\n",
        "# model.add(layers.Dense(500, activation='sigmoid', kernel_regularizer=regularizers.l2(0.000001)))\n",
        "# model.add(layers.Dense(500, activation='relu', kernel_regularizer=regularizers.l2(0.000001)))\n",
        "# # model.add(layers.Dense(80, activation='relu', kernel_regularizer=regularizers.l2(0.001)))\n",
        "# model.add(layers.Dropout(0.5))\n",
        "# model.add(layers.Dense(500, activation='relu', kernel_regularizer=regularizers.l2(0.000001)))\n",
        "# model.add(layers.Dropout(0.5))\n",
        "# # model.add(layers.Dense(40, activation='relu', kernel_regularizer=regularizers.l2(0.001)))\n",
        "\n",
        "model.add(layers.Dense(10, activation='softmax'))\n",
        "# model.add(layers.Softmax())"
      ],
      "metadata": {
        "id": "atS39i4d0aqW"
      },
      "execution_count": 154,
      "outputs": []
    },
    {
      "cell_type": "code",
      "source": [
        "model.compile(#optimizer='adam',\n",
        "              optimizer='adamax',\n",
        "              # optimizer='nadam',\n",
        "              # optimizer='rmsprop',\n",
        "              # optimizer='sgd',\n",
        "              # optimizer='adadelta',\n",
        "              # loss='binary_crossentropy',\n",
        "              loss=tf.keras.losses.SparseCategoricalCrossentropy(),\n",
        "              metrics=['sparse_categorical_accuracy'])"
      ],
      "metadata": {
        "id": "hENVaAC7ilNY"
      },
      "execution_count": 155,
      "outputs": []
    },
    {
      "cell_type": "code",
      "source": [
        "# model.fit(train_images, train_labels, epochs=20)\n",
        "history = model.fit(x_train, y_train,\n",
        "                    epochs=50,\n",
        "                    batch_size=1000,\n",
        "                    validation_data=(x_val, y_val))\n",
        "test_loss, test_acc = model.evaluate(x_test, y_test)\n",
        "print('\\nTest accuracy:', test_acc)"
      ],
      "metadata": {
        "id": "FH8HcMNm233I",
        "outputId": "0841252e-9aec-443f-9c86-abc23f080ef2",
        "colab": {
          "base_uri": "https://localhost:8080/"
        }
      },
      "execution_count": 156,
      "outputs": [
        {
          "output_type": "stream",
          "name": "stdout",
          "text": [
            "Epoch 1/200\n",
            "50/50 [==============================] - 5s 82ms/step - loss: 1.8376 - sparse_categorical_accuracy: 0.3141 - val_loss: 1.0841 - val_sparse_categorical_accuracy: 0.5825\n",
            "Epoch 2/200\n",
            "50/50 [==============================] - 4s 78ms/step - loss: 1.0619 - sparse_categorical_accuracy: 0.5842 - val_loss: 0.7977 - val_sparse_categorical_accuracy: 0.7017\n",
            "Epoch 3/200\n",
            "50/50 [==============================] - 5s 92ms/step - loss: 0.8335 - sparse_categorical_accuracy: 0.6859 - val_loss: 0.6603 - val_sparse_categorical_accuracy: 0.7544\n",
            "Epoch 4/200\n",
            "50/50 [==============================] - 3s 69ms/step - loss: 0.7087 - sparse_categorical_accuracy: 0.7397 - val_loss: 0.5840 - val_sparse_categorical_accuracy: 0.7829\n",
            "Epoch 5/200\n",
            "50/50 [==============================] - 3s 70ms/step - loss: 0.6381 - sparse_categorical_accuracy: 0.7716 - val_loss: 0.5387 - val_sparse_categorical_accuracy: 0.8028\n",
            "Epoch 6/200\n",
            "50/50 [==============================] - 4s 90ms/step - loss: 0.5862 - sparse_categorical_accuracy: 0.7961 - val_loss: 0.5014 - val_sparse_categorical_accuracy: 0.8278\n",
            "Epoch 7/200\n",
            "50/50 [==============================] - 4s 73ms/step - loss: 0.5503 - sparse_categorical_accuracy: 0.8130 - val_loss: 0.4769 - val_sparse_categorical_accuracy: 0.8354\n",
            "Epoch 8/200\n",
            "50/50 [==============================] - 3s 67ms/step - loss: 0.5212 - sparse_categorical_accuracy: 0.8257 - val_loss: 0.4557 - val_sparse_categorical_accuracy: 0.8437\n",
            "Epoch 9/200\n",
            "50/50 [==============================] - 3s 68ms/step - loss: 0.5013 - sparse_categorical_accuracy: 0.8328 - val_loss: 0.4430 - val_sparse_categorical_accuracy: 0.8478\n",
            "Epoch 10/200\n",
            "50/50 [==============================] - 5s 96ms/step - loss: 0.4815 - sparse_categorical_accuracy: 0.8415 - val_loss: 0.4296 - val_sparse_categorical_accuracy: 0.8512\n",
            "Epoch 11/200\n",
            "50/50 [==============================] - 4s 72ms/step - loss: 0.4662 - sparse_categorical_accuracy: 0.8449 - val_loss: 0.4190 - val_sparse_categorical_accuracy: 0.8562\n",
            "Epoch 12/200\n",
            "50/50 [==============================] - 3s 67ms/step - loss: 0.4520 - sparse_categorical_accuracy: 0.8510 - val_loss: 0.4113 - val_sparse_categorical_accuracy: 0.8558\n",
            "Epoch 13/200\n",
            "50/50 [==============================] - 4s 82ms/step - loss: 0.4429 - sparse_categorical_accuracy: 0.8532 - val_loss: 0.4019 - val_sparse_categorical_accuracy: 0.8628\n",
            "Epoch 14/200\n",
            "50/50 [==============================] - 4s 79ms/step - loss: 0.4290 - sparse_categorical_accuracy: 0.8584 - val_loss: 0.3924 - val_sparse_categorical_accuracy: 0.8659\n",
            "Epoch 15/200\n",
            "50/50 [==============================] - 3s 67ms/step - loss: 0.4209 - sparse_categorical_accuracy: 0.8604 - val_loss: 0.3875 - val_sparse_categorical_accuracy: 0.8678\n",
            "Epoch 16/200\n",
            "50/50 [==============================] - 3s 69ms/step - loss: 0.4103 - sparse_categorical_accuracy: 0.8637 - val_loss: 0.3837 - val_sparse_categorical_accuracy: 0.8719\n",
            "Epoch 17/200\n",
            "50/50 [==============================] - 5s 102ms/step - loss: 0.4036 - sparse_categorical_accuracy: 0.8664 - val_loss: 0.3772 - val_sparse_categorical_accuracy: 0.8718\n",
            "Epoch 18/200\n",
            "50/50 [==============================] - 3s 69ms/step - loss: 0.3955 - sparse_categorical_accuracy: 0.8686 - val_loss: 0.3707 - val_sparse_categorical_accuracy: 0.8754\n",
            "Epoch 19/200\n",
            "50/50 [==============================] - 3s 69ms/step - loss: 0.3897 - sparse_categorical_accuracy: 0.8709 - val_loss: 0.3701 - val_sparse_categorical_accuracy: 0.8754\n",
            "Epoch 20/200\n",
            "50/50 [==============================] - 4s 78ms/step - loss: 0.3841 - sparse_categorical_accuracy: 0.8718 - val_loss: 0.3653 - val_sparse_categorical_accuracy: 0.8782\n",
            "Epoch 21/200\n",
            "50/50 [==============================] - 4s 86ms/step - loss: 0.3764 - sparse_categorical_accuracy: 0.8756 - val_loss: 0.3645 - val_sparse_categorical_accuracy: 0.8793\n",
            "Epoch 22/200\n",
            "50/50 [==============================] - 3s 69ms/step - loss: 0.3733 - sparse_categorical_accuracy: 0.8765 - val_loss: 0.3601 - val_sparse_categorical_accuracy: 0.8797\n",
            "Epoch 23/200\n",
            "50/50 [==============================] - 3s 69ms/step - loss: 0.3665 - sparse_categorical_accuracy: 0.8778 - val_loss: 0.3578 - val_sparse_categorical_accuracy: 0.8805\n",
            "Epoch 24/200\n",
            "50/50 [==============================] - 5s 97ms/step - loss: 0.3643 - sparse_categorical_accuracy: 0.8790 - val_loss: 0.3555 - val_sparse_categorical_accuracy: 0.8819\n",
            "Epoch 25/200\n",
            "50/50 [==============================] - 3s 69ms/step - loss: 0.3573 - sparse_categorical_accuracy: 0.8822 - val_loss: 0.3537 - val_sparse_categorical_accuracy: 0.8841\n",
            "Epoch 26/200\n",
            "50/50 [==============================] - 3s 70ms/step - loss: 0.3523 - sparse_categorical_accuracy: 0.8840 - val_loss: 0.3506 - val_sparse_categorical_accuracy: 0.8824\n",
            "Epoch 27/200\n",
            "50/50 [==============================] - 4s 77ms/step - loss: 0.3496 - sparse_categorical_accuracy: 0.8849 - val_loss: 0.3481 - val_sparse_categorical_accuracy: 0.8840\n",
            "Epoch 28/200\n",
            "50/50 [==============================] - 4s 89ms/step - loss: 0.3446 - sparse_categorical_accuracy: 0.8859 - val_loss: 0.3469 - val_sparse_categorical_accuracy: 0.8846\n",
            "Epoch 29/200\n",
            "50/50 [==============================] - 3s 67ms/step - loss: 0.3381 - sparse_categorical_accuracy: 0.8886 - val_loss: 0.3455 - val_sparse_categorical_accuracy: 0.8852\n",
            "Epoch 30/200\n",
            "50/50 [==============================] - 3s 67ms/step - loss: 0.3399 - sparse_categorical_accuracy: 0.8885 - val_loss: 0.3522 - val_sparse_categorical_accuracy: 0.8841\n",
            "Epoch 31/200\n",
            "50/50 [==============================] - 5s 94ms/step - loss: 0.3332 - sparse_categorical_accuracy: 0.8891 - val_loss: 0.3441 - val_sparse_categorical_accuracy: 0.8853\n",
            "Epoch 32/200\n",
            "50/50 [==============================] - 3s 68ms/step - loss: 0.3340 - sparse_categorical_accuracy: 0.8903 - val_loss: 0.3452 - val_sparse_categorical_accuracy: 0.8867\n",
            "Epoch 33/200\n",
            "50/50 [==============================] - 3s 70ms/step - loss: 0.3312 - sparse_categorical_accuracy: 0.8899 - val_loss: 0.3408 - val_sparse_categorical_accuracy: 0.8873\n",
            "Epoch 34/200\n",
            "50/50 [==============================] - 3s 69ms/step - loss: 0.3297 - sparse_categorical_accuracy: 0.8897 - val_loss: 0.3441 - val_sparse_categorical_accuracy: 0.8856\n",
            "Epoch 35/200\n",
            "50/50 [==============================] - 5s 94ms/step - loss: 0.3238 - sparse_categorical_accuracy: 0.8935 - val_loss: 0.3390 - val_sparse_categorical_accuracy: 0.8902\n",
            "Epoch 36/200\n",
            "50/50 [==============================] - 3s 70ms/step - loss: 0.3232 - sparse_categorical_accuracy: 0.8936 - val_loss: 0.3379 - val_sparse_categorical_accuracy: 0.8898\n",
            "Epoch 37/200\n",
            "50/50 [==============================] - 3s 70ms/step - loss: 0.3169 - sparse_categorical_accuracy: 0.8949 - val_loss: 0.3439 - val_sparse_categorical_accuracy: 0.8877\n",
            "Epoch 38/200\n",
            "50/50 [==============================] - 5s 98ms/step - loss: 0.3162 - sparse_categorical_accuracy: 0.8948 - val_loss: 0.3373 - val_sparse_categorical_accuracy: 0.8884\n",
            "Epoch 39/200\n",
            "50/50 [==============================] - 4s 72ms/step - loss: 0.3111 - sparse_categorical_accuracy: 0.8973 - val_loss: 0.3358 - val_sparse_categorical_accuracy: 0.8883\n",
            "Epoch 40/200\n",
            "50/50 [==============================] - 3s 68ms/step - loss: 0.3113 - sparse_categorical_accuracy: 0.8982 - val_loss: 0.3360 - val_sparse_categorical_accuracy: 0.8892\n",
            "Epoch 41/200\n",
            "50/50 [==============================] - 3s 68ms/step - loss: 0.3069 - sparse_categorical_accuracy: 0.8991 - val_loss: 0.3320 - val_sparse_categorical_accuracy: 0.8910\n",
            "Epoch 42/200\n",
            "50/50 [==============================] - 5s 98ms/step - loss: 0.3056 - sparse_categorical_accuracy: 0.8985 - val_loss: 0.3322 - val_sparse_categorical_accuracy: 0.8909\n",
            "Epoch 43/200\n",
            "50/50 [==============================] - 4s 75ms/step - loss: 0.3053 - sparse_categorical_accuracy: 0.8990 - val_loss: 0.3328 - val_sparse_categorical_accuracy: 0.8922\n",
            "Epoch 44/200\n",
            "50/50 [==============================] - 4s 71ms/step - loss: 0.3011 - sparse_categorical_accuracy: 0.9001 - val_loss: 0.3360 - val_sparse_categorical_accuracy: 0.8909\n",
            "Epoch 45/200\n",
            "50/50 [==============================] - 5s 93ms/step - loss: 0.2992 - sparse_categorical_accuracy: 0.9009 - val_loss: 0.3308 - val_sparse_categorical_accuracy: 0.8908\n",
            "Epoch 46/200\n",
            "50/50 [==============================] - 4s 70ms/step - loss: 0.2982 - sparse_categorical_accuracy: 0.9026 - val_loss: 0.3367 - val_sparse_categorical_accuracy: 0.8907\n",
            "Epoch 47/200\n",
            "50/50 [==============================] - 3s 70ms/step - loss: 0.2964 - sparse_categorical_accuracy: 0.9013 - val_loss: 0.3306 - val_sparse_categorical_accuracy: 0.8915\n",
            "Epoch 48/200\n",
            "50/50 [==============================] - 3s 68ms/step - loss: 0.2904 - sparse_categorical_accuracy: 0.9045 - val_loss: 0.3328 - val_sparse_categorical_accuracy: 0.8932\n",
            "Epoch 49/200\n",
            "50/50 [==============================] - 5s 97ms/step - loss: 0.2896 - sparse_categorical_accuracy: 0.9050 - val_loss: 0.3345 - val_sparse_categorical_accuracy: 0.8903\n",
            "Epoch 50/200\n",
            "50/50 [==============================] - 3s 70ms/step - loss: 0.2877 - sparse_categorical_accuracy: 0.9051 - val_loss: 0.3319 - val_sparse_categorical_accuracy: 0.8922\n",
            "Epoch 51/200\n",
            "50/50 [==============================] - 4s 70ms/step - loss: 0.2836 - sparse_categorical_accuracy: 0.9068 - val_loss: 0.3298 - val_sparse_categorical_accuracy: 0.8925\n",
            "Epoch 52/200\n",
            "50/50 [==============================] - 5s 103ms/step - loss: 0.2857 - sparse_categorical_accuracy: 0.9065 - val_loss: 0.3304 - val_sparse_categorical_accuracy: 0.8930\n",
            "Epoch 53/200\n",
            "50/50 [==============================] - 3s 67ms/step - loss: 0.2801 - sparse_categorical_accuracy: 0.9079 - val_loss: 0.3313 - val_sparse_categorical_accuracy: 0.8909\n",
            "Epoch 54/200\n",
            "50/50 [==============================] - 4s 71ms/step - loss: 0.2790 - sparse_categorical_accuracy: 0.9085 - val_loss: 0.3282 - val_sparse_categorical_accuracy: 0.8939\n",
            "Epoch 55/200\n",
            "50/50 [==============================] - 4s 76ms/step - loss: 0.2789 - sparse_categorical_accuracy: 0.9087 - val_loss: 0.3290 - val_sparse_categorical_accuracy: 0.8936\n",
            "Epoch 56/200\n",
            "50/50 [==============================] - 5s 90ms/step - loss: 0.2746 - sparse_categorical_accuracy: 0.9110 - val_loss: 0.3308 - val_sparse_categorical_accuracy: 0.8916\n",
            "Epoch 57/200\n",
            "50/50 [==============================] - 3s 69ms/step - loss: 0.2751 - sparse_categorical_accuracy: 0.9097 - val_loss: 0.3297 - val_sparse_categorical_accuracy: 0.8941\n",
            "Epoch 58/200\n",
            "50/50 [==============================] - 3s 69ms/step - loss: 0.2686 - sparse_categorical_accuracy: 0.9125 - val_loss: 0.3298 - val_sparse_categorical_accuracy: 0.8947\n",
            "Epoch 59/200\n",
            "50/50 [==============================] - 5s 100ms/step - loss: 0.2720 - sparse_categorical_accuracy: 0.9103 - val_loss: 0.3309 - val_sparse_categorical_accuracy: 0.8948\n",
            "Epoch 60/200\n",
            "50/50 [==============================] - 3s 69ms/step - loss: 0.2702 - sparse_categorical_accuracy: 0.9106 - val_loss: 0.3279 - val_sparse_categorical_accuracy: 0.8955\n",
            "Epoch 61/200\n",
            "50/50 [==============================] - 3s 69ms/step - loss: 0.2690 - sparse_categorical_accuracy: 0.9117 - val_loss: 0.3321 - val_sparse_categorical_accuracy: 0.8941\n",
            "Epoch 62/200\n",
            "50/50 [==============================] - 4s 83ms/step - loss: 0.2675 - sparse_categorical_accuracy: 0.9135 - val_loss: 0.3327 - val_sparse_categorical_accuracy: 0.8945\n",
            "Epoch 63/200\n",
            "50/50 [==============================] - 4s 84ms/step - loss: 0.2669 - sparse_categorical_accuracy: 0.9122 - val_loss: 0.3293 - val_sparse_categorical_accuracy: 0.8958\n",
            "Epoch 64/200\n",
            "50/50 [==============================] - 3s 70ms/step - loss: 0.2641 - sparse_categorical_accuracy: 0.9145 - val_loss: 0.3275 - val_sparse_categorical_accuracy: 0.8973\n",
            "Epoch 65/200\n",
            "50/50 [==============================] - 6s 119ms/step - loss: 0.2605 - sparse_categorical_accuracy: 0.9148 - val_loss: 0.3276 - val_sparse_categorical_accuracy: 0.8973\n",
            "Epoch 66/200\n",
            "50/50 [==============================] - 5s 92ms/step - loss: 0.2595 - sparse_categorical_accuracy: 0.9160 - val_loss: 0.3293 - val_sparse_categorical_accuracy: 0.8966\n",
            "Epoch 67/200\n",
            "50/50 [==============================] - 3s 70ms/step - loss: 0.2608 - sparse_categorical_accuracy: 0.9142 - val_loss: 0.3312 - val_sparse_categorical_accuracy: 0.8960\n",
            "Epoch 68/200\n",
            "50/50 [==============================] - 3s 70ms/step - loss: 0.2579 - sparse_categorical_accuracy: 0.9170 - val_loss: 0.3297 - val_sparse_categorical_accuracy: 0.8958\n",
            "Epoch 69/200\n",
            "50/50 [==============================] - 5s 102ms/step - loss: 0.2569 - sparse_categorical_accuracy: 0.9159 - val_loss: 0.3304 - val_sparse_categorical_accuracy: 0.8952\n",
            "Epoch 70/200\n",
            "50/50 [==============================] - 4s 72ms/step - loss: 0.2540 - sparse_categorical_accuracy: 0.9169 - val_loss: 0.3268 - val_sparse_categorical_accuracy: 0.8967\n",
            "Epoch 71/200\n",
            "50/50 [==============================] - 4s 70ms/step - loss: 0.2499 - sparse_categorical_accuracy: 0.9191 - val_loss: 0.3295 - val_sparse_categorical_accuracy: 0.8960\n",
            "Epoch 72/200\n",
            "50/50 [==============================] - 4s 76ms/step - loss: 0.2509 - sparse_categorical_accuracy: 0.9194 - val_loss: 0.3345 - val_sparse_categorical_accuracy: 0.8947\n",
            "Epoch 73/200\n",
            "50/50 [==============================] - 5s 92ms/step - loss: 0.2488 - sparse_categorical_accuracy: 0.9197 - val_loss: 0.3304 - val_sparse_categorical_accuracy: 0.8953\n",
            "Epoch 74/200\n",
            "50/50 [==============================] - 4s 76ms/step - loss: 0.2505 - sparse_categorical_accuracy: 0.9186 - val_loss: 0.3287 - val_sparse_categorical_accuracy: 0.8967\n",
            "Epoch 75/200\n",
            "50/50 [==============================] - 4s 75ms/step - loss: 0.2481 - sparse_categorical_accuracy: 0.9193 - val_loss: 0.3348 - val_sparse_categorical_accuracy: 0.8967\n",
            "Epoch 76/200\n",
            "50/50 [==============================] - 5s 101ms/step - loss: 0.2459 - sparse_categorical_accuracy: 0.9194 - val_loss: 0.3300 - val_sparse_categorical_accuracy: 0.8969\n",
            "Epoch 77/200\n",
            "50/50 [==============================] - 3s 70ms/step - loss: 0.2448 - sparse_categorical_accuracy: 0.9198 - val_loss: 0.3332 - val_sparse_categorical_accuracy: 0.8952\n",
            "Epoch 78/200\n",
            "50/50 [==============================] - 3s 68ms/step - loss: 0.2432 - sparse_categorical_accuracy: 0.9211 - val_loss: 0.3303 - val_sparse_categorical_accuracy: 0.8960\n",
            "Epoch 79/200\n",
            "50/50 [==============================] - 4s 80ms/step - loss: 0.2415 - sparse_categorical_accuracy: 0.9225 - val_loss: 0.3304 - val_sparse_categorical_accuracy: 0.8966\n",
            "Epoch 80/200\n",
            "50/50 [==============================] - 5s 90ms/step - loss: 0.2386 - sparse_categorical_accuracy: 0.9245 - val_loss: 0.3303 - val_sparse_categorical_accuracy: 0.8976\n",
            "Epoch 81/200\n",
            "50/50 [==============================] - 4s 71ms/step - loss: 0.2368 - sparse_categorical_accuracy: 0.9241 - val_loss: 0.3352 - val_sparse_categorical_accuracy: 0.8962\n",
            "Epoch 82/200\n",
            "50/50 [==============================] - 3s 68ms/step - loss: 0.2378 - sparse_categorical_accuracy: 0.9226 - val_loss: 0.3303 - val_sparse_categorical_accuracy: 0.8960\n",
            "Epoch 83/200\n",
            "50/50 [==============================] - 5s 96ms/step - loss: 0.2344 - sparse_categorical_accuracy: 0.9254 - val_loss: 0.3379 - val_sparse_categorical_accuracy: 0.8969\n",
            "Epoch 84/200\n",
            "50/50 [==============================] - 4s 70ms/step - loss: 0.2363 - sparse_categorical_accuracy: 0.9239 - val_loss: 0.3303 - val_sparse_categorical_accuracy: 0.8983\n",
            "Epoch 85/200\n",
            "50/50 [==============================] - 3s 68ms/step - loss: 0.2327 - sparse_categorical_accuracy: 0.9250 - val_loss: 0.3348 - val_sparse_categorical_accuracy: 0.8970\n",
            "Epoch 86/200\n",
            "50/50 [==============================] - 4s 83ms/step - loss: 0.2324 - sparse_categorical_accuracy: 0.9262 - val_loss: 0.3314 - val_sparse_categorical_accuracy: 0.8992\n",
            "Epoch 87/200\n",
            "50/50 [==============================] - 4s 88ms/step - loss: 0.2310 - sparse_categorical_accuracy: 0.9261 - val_loss: 0.3385 - val_sparse_categorical_accuracy: 0.8982\n",
            "Epoch 88/200\n",
            "50/50 [==============================] - 3s 68ms/step - loss: 0.2285 - sparse_categorical_accuracy: 0.9256 - val_loss: 0.3351 - val_sparse_categorical_accuracy: 0.8973\n",
            "Epoch 89/200\n",
            "50/50 [==============================] - 4s 71ms/step - loss: 0.2257 - sparse_categorical_accuracy: 0.9290 - val_loss: 0.3374 - val_sparse_categorical_accuracy: 0.8983\n",
            "Epoch 90/200\n",
            "50/50 [==============================] - 5s 97ms/step - loss: 0.2278 - sparse_categorical_accuracy: 0.9268 - val_loss: 0.3382 - val_sparse_categorical_accuracy: 0.8984\n",
            "Epoch 91/200\n",
            "50/50 [==============================] - 4s 75ms/step - loss: 0.2264 - sparse_categorical_accuracy: 0.9277 - val_loss: 0.3349 - val_sparse_categorical_accuracy: 0.8957\n",
            "Epoch 92/200\n",
            "50/50 [==============================] - 3s 68ms/step - loss: 0.2268 - sparse_categorical_accuracy: 0.9279 - val_loss: 0.3394 - val_sparse_categorical_accuracy: 0.8958\n",
            "Epoch 93/200\n",
            "50/50 [==============================] - 4s 88ms/step - loss: 0.2282 - sparse_categorical_accuracy: 0.9272 - val_loss: 0.3381 - val_sparse_categorical_accuracy: 0.8962\n",
            "Epoch 94/200\n",
            "50/50 [==============================] - 4s 81ms/step - loss: 0.2255 - sparse_categorical_accuracy: 0.9287 - val_loss: 0.3357 - val_sparse_categorical_accuracy: 0.8975\n",
            "Epoch 95/200\n",
            "50/50 [==============================] - 3s 70ms/step - loss: 0.2219 - sparse_categorical_accuracy: 0.9305 - val_loss: 0.3375 - val_sparse_categorical_accuracy: 0.8972\n",
            "Epoch 96/200\n",
            "50/50 [==============================] - 4s 73ms/step - loss: 0.2226 - sparse_categorical_accuracy: 0.9295 - val_loss: 0.3356 - val_sparse_categorical_accuracy: 0.8989\n",
            "Epoch 97/200\n",
            "50/50 [==============================] - 5s 103ms/step - loss: 0.2208 - sparse_categorical_accuracy: 0.9296 - val_loss: 0.3396 - val_sparse_categorical_accuracy: 0.8970\n",
            "Epoch 98/200\n",
            "50/50 [==============================] - 4s 73ms/step - loss: 0.2210 - sparse_categorical_accuracy: 0.9290 - val_loss: 0.3371 - val_sparse_categorical_accuracy: 0.8992\n",
            "Epoch 99/200\n",
            "50/50 [==============================] - 4s 70ms/step - loss: 0.2205 - sparse_categorical_accuracy: 0.9305 - val_loss: 0.3366 - val_sparse_categorical_accuracy: 0.8982\n",
            "Epoch 100/200\n",
            "50/50 [==============================] - 5s 91ms/step - loss: 0.2168 - sparse_categorical_accuracy: 0.9314 - val_loss: 0.3388 - val_sparse_categorical_accuracy: 0.8973\n",
            "Epoch 101/200\n",
            "50/50 [==============================] - 4s 77ms/step - loss: 0.2174 - sparse_categorical_accuracy: 0.9322 - val_loss: 0.3405 - val_sparse_categorical_accuracy: 0.8979\n",
            "Epoch 102/200\n",
            "50/50 [==============================] - 4s 73ms/step - loss: 0.2155 - sparse_categorical_accuracy: 0.9324 - val_loss: 0.3372 - val_sparse_categorical_accuracy: 0.8982\n",
            "Epoch 103/200\n",
            "50/50 [==============================] - 3s 69ms/step - loss: 0.2148 - sparse_categorical_accuracy: 0.9309 - val_loss: 0.3381 - val_sparse_categorical_accuracy: 0.8980\n",
            "Epoch 104/200\n",
            "50/50 [==============================] - 5s 96ms/step - loss: 0.2155 - sparse_categorical_accuracy: 0.9309 - val_loss: 0.3416 - val_sparse_categorical_accuracy: 0.8987\n",
            "Epoch 105/200\n",
            "50/50 [==============================] - 3s 68ms/step - loss: 0.2106 - sparse_categorical_accuracy: 0.9333 - val_loss: 0.3414 - val_sparse_categorical_accuracy: 0.8989\n",
            "Epoch 106/200\n",
            "50/50 [==============================] - 4s 71ms/step - loss: 0.2129 - sparse_categorical_accuracy: 0.9318 - val_loss: 0.3401 - val_sparse_categorical_accuracy: 0.8978\n",
            "Epoch 107/200\n",
            "50/50 [==============================] - 5s 95ms/step - loss: 0.2096 - sparse_categorical_accuracy: 0.9331 - val_loss: 0.3404 - val_sparse_categorical_accuracy: 0.8995\n",
            "Epoch 108/200\n",
            "50/50 [==============================] - 4s 72ms/step - loss: 0.2106 - sparse_categorical_accuracy: 0.9334 - val_loss: 0.3434 - val_sparse_categorical_accuracy: 0.8983\n",
            "Epoch 109/200\n",
            "50/50 [==============================] - 3s 69ms/step - loss: 0.2082 - sparse_categorical_accuracy: 0.9353 - val_loss: 0.3437 - val_sparse_categorical_accuracy: 0.9011\n",
            "Epoch 110/200\n",
            "50/50 [==============================] - 4s 70ms/step - loss: 0.2108 - sparse_categorical_accuracy: 0.9318 - val_loss: 0.3443 - val_sparse_categorical_accuracy: 0.8995\n",
            "Epoch 111/200\n",
            "50/50 [==============================] - 5s 96ms/step - loss: 0.2097 - sparse_categorical_accuracy: 0.9327 - val_loss: 0.3443 - val_sparse_categorical_accuracy: 0.9006\n",
            "Epoch 112/200\n",
            "50/50 [==============================] - 4s 70ms/step - loss: 0.2071 - sparse_categorical_accuracy: 0.9353 - val_loss: 0.3472 - val_sparse_categorical_accuracy: 0.8976\n",
            "Epoch 113/200\n",
            "50/50 [==============================] - 3s 68ms/step - loss: 0.2050 - sparse_categorical_accuracy: 0.9358 - val_loss: 0.3506 - val_sparse_categorical_accuracy: 0.8986\n",
            "Epoch 114/200\n",
            "50/50 [==============================] - 4s 86ms/step - loss: 0.2047 - sparse_categorical_accuracy: 0.9364 - val_loss: 0.3460 - val_sparse_categorical_accuracy: 0.8990\n",
            "Epoch 115/200\n",
            "50/50 [==============================] - 4s 78ms/step - loss: 0.2031 - sparse_categorical_accuracy: 0.9364 - val_loss: 0.3430 - val_sparse_categorical_accuracy: 0.8988\n",
            "Epoch 116/200\n",
            "50/50 [==============================] - 4s 71ms/step - loss: 0.2025 - sparse_categorical_accuracy: 0.9369 - val_loss: 0.3460 - val_sparse_categorical_accuracy: 0.8988\n",
            "Epoch 117/200\n",
            "50/50 [==============================] - 4s 71ms/step - loss: 0.2059 - sparse_categorical_accuracy: 0.9352 - val_loss: 0.3479 - val_sparse_categorical_accuracy: 0.8984\n",
            "Epoch 118/200\n",
            "50/50 [==============================] - 5s 99ms/step - loss: 0.2015 - sparse_categorical_accuracy: 0.9373 - val_loss: 0.3443 - val_sparse_categorical_accuracy: 0.8986\n",
            "Epoch 119/200\n",
            "50/50 [==============================] - 3s 69ms/step - loss: 0.1999 - sparse_categorical_accuracy: 0.9384 - val_loss: 0.3491 - val_sparse_categorical_accuracy: 0.8987\n",
            "Epoch 120/200\n",
            "50/50 [==============================] - 3s 69ms/step - loss: 0.1984 - sparse_categorical_accuracy: 0.9391 - val_loss: 0.3471 - val_sparse_categorical_accuracy: 0.8982\n",
            "Epoch 121/200\n",
            "50/50 [==============================] - 5s 93ms/step - loss: 0.1987 - sparse_categorical_accuracy: 0.9382 - val_loss: 0.3508 - val_sparse_categorical_accuracy: 0.8969\n",
            "Epoch 122/200\n",
            "50/50 [==============================] - 4s 75ms/step - loss: 0.2006 - sparse_categorical_accuracy: 0.9374 - val_loss: 0.3452 - val_sparse_categorical_accuracy: 0.8982\n",
            "Epoch 123/200\n",
            "50/50 [==============================] - 3s 68ms/step - loss: 0.1967 - sparse_categorical_accuracy: 0.9396 - val_loss: 0.3458 - val_sparse_categorical_accuracy: 0.8991\n",
            "Epoch 124/200\n",
            "50/50 [==============================] - 4s 71ms/step - loss: 0.1926 - sparse_categorical_accuracy: 0.9394 - val_loss: 0.3508 - val_sparse_categorical_accuracy: 0.8980\n",
            "Epoch 125/200\n",
            "50/50 [==============================] - 5s 103ms/step - loss: 0.1949 - sparse_categorical_accuracy: 0.9390 - val_loss: 0.3527 - val_sparse_categorical_accuracy: 0.8973\n",
            "Epoch 126/200\n",
            "50/50 [==============================] - 4s 72ms/step - loss: 0.1941 - sparse_categorical_accuracy: 0.9401 - val_loss: 0.3523 - val_sparse_categorical_accuracy: 0.8970\n",
            "Epoch 127/200\n",
            "50/50 [==============================] - 4s 73ms/step - loss: 0.1900 - sparse_categorical_accuracy: 0.9422 - val_loss: 0.3502 - val_sparse_categorical_accuracy: 0.8991\n",
            "Epoch 128/200\n",
            "50/50 [==============================] - 4s 90ms/step - loss: 0.1915 - sparse_categorical_accuracy: 0.9412 - val_loss: 0.3565 - val_sparse_categorical_accuracy: 0.8975\n",
            "Epoch 129/200\n",
            "50/50 [==============================] - 4s 78ms/step - loss: 0.1938 - sparse_categorical_accuracy: 0.9403 - val_loss: 0.3513 - val_sparse_categorical_accuracy: 0.8974\n",
            "Epoch 130/200\n",
            "50/50 [==============================] - 3s 69ms/step - loss: 0.1917 - sparse_categorical_accuracy: 0.9405 - val_loss: 0.3555 - val_sparse_categorical_accuracy: 0.8977\n",
            "Epoch 131/200\n",
            "50/50 [==============================] - 4s 71ms/step - loss: 0.1912 - sparse_categorical_accuracy: 0.9405 - val_loss: 0.3537 - val_sparse_categorical_accuracy: 0.8979\n",
            "Epoch 132/200\n",
            "50/50 [==============================] - 5s 100ms/step - loss: 0.1918 - sparse_categorical_accuracy: 0.9413 - val_loss: 0.3495 - val_sparse_categorical_accuracy: 0.8990\n",
            "Epoch 133/200\n",
            "50/50 [==============================] - 3s 69ms/step - loss: 0.1883 - sparse_categorical_accuracy: 0.9416 - val_loss: 0.3544 - val_sparse_categorical_accuracy: 0.8989\n",
            "Epoch 134/200\n",
            "50/50 [==============================] - 3s 68ms/step - loss: 0.1895 - sparse_categorical_accuracy: 0.9416 - val_loss: 0.3517 - val_sparse_categorical_accuracy: 0.8990\n",
            "Epoch 135/200\n",
            "50/50 [==============================] - 5s 92ms/step - loss: 0.1870 - sparse_categorical_accuracy: 0.9425 - val_loss: 0.3538 - val_sparse_categorical_accuracy: 0.8988\n",
            "Epoch 136/200\n",
            "50/50 [==============================] - 4s 74ms/step - loss: 0.1869 - sparse_categorical_accuracy: 0.9423 - val_loss: 0.3564 - val_sparse_categorical_accuracy: 0.8969\n",
            "Epoch 137/200\n",
            "50/50 [==============================] - 4s 71ms/step - loss: 0.1860 - sparse_categorical_accuracy: 0.9429 - val_loss: 0.3557 - val_sparse_categorical_accuracy: 0.8975\n",
            "Epoch 138/200\n",
            "50/50 [==============================] - 3s 69ms/step - loss: 0.1866 - sparse_categorical_accuracy: 0.9430 - val_loss: 0.3562 - val_sparse_categorical_accuracy: 0.8986\n",
            "Epoch 139/200\n",
            "50/50 [==============================] - 5s 99ms/step - loss: 0.1870 - sparse_categorical_accuracy: 0.9427 - val_loss: 0.3570 - val_sparse_categorical_accuracy: 0.9003\n",
            "Epoch 140/200\n",
            "50/50 [==============================] - 4s 71ms/step - loss: 0.1819 - sparse_categorical_accuracy: 0.9439 - val_loss: 0.3634 - val_sparse_categorical_accuracy: 0.8969\n",
            "Epoch 141/200\n",
            "50/50 [==============================] - 3s 70ms/step - loss: 0.1829 - sparse_categorical_accuracy: 0.9428 - val_loss: 0.3608 - val_sparse_categorical_accuracy: 0.8975\n",
            "Epoch 142/200\n",
            "50/50 [==============================] - 5s 93ms/step - loss: 0.1820 - sparse_categorical_accuracy: 0.9435 - val_loss: 0.3635 - val_sparse_categorical_accuracy: 0.8985\n",
            "Epoch 143/200\n",
            "50/50 [==============================] - 4s 76ms/step - loss: 0.1811 - sparse_categorical_accuracy: 0.9446 - val_loss: 0.3637 - val_sparse_categorical_accuracy: 0.8988\n",
            "Epoch 144/200\n",
            "50/50 [==============================] - 3s 69ms/step - loss: 0.1796 - sparse_categorical_accuracy: 0.9451 - val_loss: 0.3592 - val_sparse_categorical_accuracy: 0.9009\n",
            "Epoch 145/200\n",
            "50/50 [==============================] - 3s 68ms/step - loss: 0.1811 - sparse_categorical_accuracy: 0.9458 - val_loss: 0.3571 - val_sparse_categorical_accuracy: 0.9010\n",
            "Epoch 146/200\n",
            "50/50 [==============================] - 5s 97ms/step - loss: 0.1805 - sparse_categorical_accuracy: 0.9453 - val_loss: 0.3578 - val_sparse_categorical_accuracy: 0.9009\n",
            "Epoch 147/200\n",
            "50/50 [==============================] - 4s 73ms/step - loss: 0.1800 - sparse_categorical_accuracy: 0.9450 - val_loss: 0.3631 - val_sparse_categorical_accuracy: 0.9007\n",
            "Epoch 148/200\n",
            "50/50 [==============================] - 4s 73ms/step - loss: 0.1816 - sparse_categorical_accuracy: 0.9438 - val_loss: 0.3584 - val_sparse_categorical_accuracy: 0.8996\n",
            "Epoch 149/200\n",
            "50/50 [==============================] - 5s 98ms/step - loss: 0.1783 - sparse_categorical_accuracy: 0.9465 - val_loss: 0.3566 - val_sparse_categorical_accuracy: 0.9005\n",
            "Epoch 150/200\n",
            "50/50 [==============================] - 4s 73ms/step - loss: 0.1779 - sparse_categorical_accuracy: 0.9449 - val_loss: 0.3554 - val_sparse_categorical_accuracy: 0.8991\n",
            "Epoch 151/200\n",
            "50/50 [==============================] - 4s 76ms/step - loss: 0.1793 - sparse_categorical_accuracy: 0.9453 - val_loss: 0.3628 - val_sparse_categorical_accuracy: 0.8995\n",
            "Epoch 152/200\n",
            "50/50 [==============================] - 4s 78ms/step - loss: 0.1761 - sparse_categorical_accuracy: 0.9472 - val_loss: 0.3683 - val_sparse_categorical_accuracy: 0.9007\n",
            "Epoch 153/200\n",
            "50/50 [==============================] - 4s 88ms/step - loss: 0.1768 - sparse_categorical_accuracy: 0.9469 - val_loss: 0.3620 - val_sparse_categorical_accuracy: 0.8979\n",
            "Epoch 154/200\n",
            "50/50 [==============================] - 4s 75ms/step - loss: 0.1769 - sparse_categorical_accuracy: 0.9464 - val_loss: 0.3592 - val_sparse_categorical_accuracy: 0.9023\n",
            "Epoch 155/200\n",
            "50/50 [==============================] - 4s 80ms/step - loss: 0.1762 - sparse_categorical_accuracy: 0.9478 - val_loss: 0.3594 - val_sparse_categorical_accuracy: 0.9013\n",
            "Epoch 156/200\n",
            "50/50 [==============================] - 5s 98ms/step - loss: 0.1738 - sparse_categorical_accuracy: 0.9473 - val_loss: 0.3639 - val_sparse_categorical_accuracy: 0.8970\n",
            "Epoch 157/200\n",
            "50/50 [==============================] - 3s 69ms/step - loss: 0.1737 - sparse_categorical_accuracy: 0.9492 - val_loss: 0.3584 - val_sparse_categorical_accuracy: 0.8999\n",
            "Epoch 158/200\n",
            "50/50 [==============================] - 4s 72ms/step - loss: 0.1742 - sparse_categorical_accuracy: 0.9477 - val_loss: 0.3641 - val_sparse_categorical_accuracy: 0.8999\n",
            "Epoch 159/200\n",
            "50/50 [==============================] - 4s 85ms/step - loss: 0.1712 - sparse_categorical_accuracy: 0.9490 - val_loss: 0.3614 - val_sparse_categorical_accuracy: 0.9000\n",
            "Epoch 160/200\n",
            "50/50 [==============================] - 4s 83ms/step - loss: 0.1715 - sparse_categorical_accuracy: 0.9474 - val_loss: 0.3679 - val_sparse_categorical_accuracy: 0.8981\n",
            "Epoch 161/200\n",
            "50/50 [==============================] - 4s 72ms/step - loss: 0.1719 - sparse_categorical_accuracy: 0.9478 - val_loss: 0.3630 - val_sparse_categorical_accuracy: 0.8992\n",
            "Epoch 162/200\n",
            "50/50 [==============================] - 4s 73ms/step - loss: 0.1703 - sparse_categorical_accuracy: 0.9497 - val_loss: 0.3643 - val_sparse_categorical_accuracy: 0.8978\n",
            "Epoch 163/200\n",
            "50/50 [==============================] - 5s 98ms/step - loss: 0.1701 - sparse_categorical_accuracy: 0.9485 - val_loss: 0.3652 - val_sparse_categorical_accuracy: 0.9004\n",
            "Epoch 164/200\n",
            "50/50 [==============================] - 3s 69ms/step - loss: 0.1722 - sparse_categorical_accuracy: 0.9485 - val_loss: 0.3661 - val_sparse_categorical_accuracy: 0.8987\n",
            "Epoch 165/200\n",
            "50/50 [==============================] - 4s 76ms/step - loss: 0.1703 - sparse_categorical_accuracy: 0.9484 - val_loss: 0.3646 - val_sparse_categorical_accuracy: 0.8993\n",
            "Epoch 166/200\n",
            "50/50 [==============================] - 5s 102ms/step - loss: 0.1675 - sparse_categorical_accuracy: 0.9503 - val_loss: 0.3662 - val_sparse_categorical_accuracy: 0.9005\n",
            "Epoch 167/200\n",
            "50/50 [==============================] - 4s 74ms/step - loss: 0.1672 - sparse_categorical_accuracy: 0.9496 - val_loss: 0.3666 - val_sparse_categorical_accuracy: 0.8980\n",
            "Epoch 168/200\n",
            "50/50 [==============================] - 3s 69ms/step - loss: 0.1647 - sparse_categorical_accuracy: 0.9509 - val_loss: 0.3724 - val_sparse_categorical_accuracy: 0.8994\n",
            "Epoch 169/200\n",
            "50/50 [==============================] - 4s 72ms/step - loss: 0.1672 - sparse_categorical_accuracy: 0.9510 - val_loss: 0.3674 - val_sparse_categorical_accuracy: 0.8997\n",
            "Epoch 170/200\n",
            "50/50 [==============================] - 5s 101ms/step - loss: 0.1669 - sparse_categorical_accuracy: 0.9506 - val_loss: 0.3716 - val_sparse_categorical_accuracy: 0.8984\n",
            "Epoch 171/200\n",
            "50/50 [==============================] - 3s 69ms/step - loss: 0.1636 - sparse_categorical_accuracy: 0.9510 - val_loss: 0.3753 - val_sparse_categorical_accuracy: 0.8995\n",
            "Epoch 172/200\n",
            "50/50 [==============================] - 3s 70ms/step - loss: 0.1634 - sparse_categorical_accuracy: 0.9508 - val_loss: 0.3684 - val_sparse_categorical_accuracy: 0.8992\n",
            "Epoch 173/200\n",
            "50/50 [==============================] - 5s 95ms/step - loss: 0.1649 - sparse_categorical_accuracy: 0.9511 - val_loss: 0.3686 - val_sparse_categorical_accuracy: 0.8981\n",
            "Epoch 174/200\n",
            "50/50 [==============================] - 4s 74ms/step - loss: 0.1583 - sparse_categorical_accuracy: 0.9538 - val_loss: 0.3808 - val_sparse_categorical_accuracy: 0.8991\n",
            "Epoch 175/200\n",
            "50/50 [==============================] - 4s 71ms/step - loss: 0.1631 - sparse_categorical_accuracy: 0.9517 - val_loss: 0.3745 - val_sparse_categorical_accuracy: 0.8998\n",
            "Epoch 176/200\n",
            "50/50 [==============================] - 4s 85ms/step - loss: 0.1644 - sparse_categorical_accuracy: 0.9517 - val_loss: 0.3764 - val_sparse_categorical_accuracy: 0.8991\n",
            "Epoch 177/200\n",
            "50/50 [==============================] - 5s 93ms/step - loss: 0.1604 - sparse_categorical_accuracy: 0.9522 - val_loss: 0.3743 - val_sparse_categorical_accuracy: 0.8989\n",
            "Epoch 178/200\n",
            "50/50 [==============================] - 4s 71ms/step - loss: 0.1653 - sparse_categorical_accuracy: 0.9509 - val_loss: 0.3747 - val_sparse_categorical_accuracy: 0.8989\n",
            "Epoch 179/200\n",
            "50/50 [==============================] - 4s 71ms/step - loss: 0.1618 - sparse_categorical_accuracy: 0.9521 - val_loss: 0.3750 - val_sparse_categorical_accuracy: 0.9006\n",
            "Epoch 180/200\n",
            "50/50 [==============================] - 5s 97ms/step - loss: 0.1609 - sparse_categorical_accuracy: 0.9519 - val_loss: 0.3715 - val_sparse_categorical_accuracy: 0.8990\n",
            "Epoch 181/200\n",
            "50/50 [==============================] - 4s 71ms/step - loss: 0.1582 - sparse_categorical_accuracy: 0.9538 - val_loss: 0.3704 - val_sparse_categorical_accuracy: 0.9011\n",
            "Epoch 182/200\n",
            "50/50 [==============================] - 3s 69ms/step - loss: 0.1602 - sparse_categorical_accuracy: 0.9527 - val_loss: 0.3750 - val_sparse_categorical_accuracy: 0.8975\n",
            "Epoch 183/200\n",
            "50/50 [==============================] - 4s 81ms/step - loss: 0.1567 - sparse_categorical_accuracy: 0.9532 - val_loss: 0.3742 - val_sparse_categorical_accuracy: 0.8996\n",
            "Epoch 184/200\n",
            "50/50 [==============================] - 4s 88ms/step - loss: 0.1594 - sparse_categorical_accuracy: 0.9525 - val_loss: 0.3746 - val_sparse_categorical_accuracy: 0.8999\n",
            "Epoch 185/200\n",
            "50/50 [==============================] - 4s 72ms/step - loss: 0.1635 - sparse_categorical_accuracy: 0.9517 - val_loss: 0.3719 - val_sparse_categorical_accuracy: 0.9001\n",
            "Epoch 186/200\n",
            "50/50 [==============================] - 3s 70ms/step - loss: 0.1563 - sparse_categorical_accuracy: 0.9549 - val_loss: 0.3754 - val_sparse_categorical_accuracy: 0.9004\n",
            "Epoch 187/200\n",
            "50/50 [==============================] - 5s 100ms/step - loss: 0.1562 - sparse_categorical_accuracy: 0.9540 - val_loss: 0.3826 - val_sparse_categorical_accuracy: 0.8983\n",
            "Epoch 188/200\n",
            "50/50 [==============================] - 4s 79ms/step - loss: 0.1558 - sparse_categorical_accuracy: 0.9546 - val_loss: 0.3748 - val_sparse_categorical_accuracy: 0.8993\n",
            "Epoch 189/200\n",
            "50/50 [==============================] - 4s 74ms/step - loss: 0.1549 - sparse_categorical_accuracy: 0.9555 - val_loss: 0.3767 - val_sparse_categorical_accuracy: 0.9015\n",
            "Epoch 190/200\n",
            "50/50 [==============================] - 5s 95ms/step - loss: 0.1565 - sparse_categorical_accuracy: 0.9548 - val_loss: 0.3807 - val_sparse_categorical_accuracy: 0.9002\n",
            "Epoch 191/200\n",
            "50/50 [==============================] - 4s 76ms/step - loss: 0.1556 - sparse_categorical_accuracy: 0.9534 - val_loss: 0.3796 - val_sparse_categorical_accuracy: 0.9007\n",
            "Epoch 192/200\n",
            "50/50 [==============================] - 3s 70ms/step - loss: 0.1546 - sparse_categorical_accuracy: 0.9551 - val_loss: 0.3809 - val_sparse_categorical_accuracy: 0.8996\n",
            "Epoch 193/200\n",
            "50/50 [==============================] - 4s 72ms/step - loss: 0.1540 - sparse_categorical_accuracy: 0.9546 - val_loss: 0.3841 - val_sparse_categorical_accuracy: 0.8988\n",
            "Epoch 194/200\n",
            "50/50 [==============================] - 5s 98ms/step - loss: 0.1551 - sparse_categorical_accuracy: 0.9552 - val_loss: 0.3812 - val_sparse_categorical_accuracy: 0.8999\n",
            "Epoch 195/200\n",
            "50/50 [==============================] - 4s 72ms/step - loss: 0.1501 - sparse_categorical_accuracy: 0.9564 - val_loss: 0.3861 - val_sparse_categorical_accuracy: 0.8989\n",
            "Epoch 196/200\n",
            "50/50 [==============================] - 4s 74ms/step - loss: 0.1536 - sparse_categorical_accuracy: 0.9548 - val_loss: 0.3894 - val_sparse_categorical_accuracy: 0.8970\n",
            "Epoch 197/200\n",
            "50/50 [==============================] - 5s 93ms/step - loss: 0.1524 - sparse_categorical_accuracy: 0.9560 - val_loss: 0.3876 - val_sparse_categorical_accuracy: 0.8967\n",
            "Epoch 198/200\n",
            "50/50 [==============================] - 4s 72ms/step - loss: 0.1544 - sparse_categorical_accuracy: 0.9545 - val_loss: 0.3818 - val_sparse_categorical_accuracy: 0.9008\n",
            "Epoch 199/200\n",
            "50/50 [==============================] - 4s 71ms/step - loss: 0.1537 - sparse_categorical_accuracy: 0.9554 - val_loss: 0.3802 - val_sparse_categorical_accuracy: 0.9012\n",
            "Epoch 200/200\n",
            "50/50 [==============================] - 4s 73ms/step - loss: 0.1503 - sparse_categorical_accuracy: 0.9558 - val_loss: 0.3883 - val_sparse_categorical_accuracy: 0.8987\n",
            "313/313 [==============================] - 1s 3ms/step - loss: 0.4000 - sparse_categorical_accuracy: 0.8940\n",
            "\n",
            "Test accuracy: 0.8939999938011169\n"
          ]
        }
      ]
    },
    {
      "cell_type": "code",
      "source": [
        "print('\\nhistory dict:', list(history.history.keys()))"
      ],
      "metadata": {
        "id": "CxRE-B_Q6Sii",
        "outputId": "db2d8f27-3d00-49b1-aa6a-0df002b4900e",
        "colab": {
          "base_uri": "https://localhost:8080/"
        }
      },
      "execution_count": 157,
      "outputs": [
        {
          "output_type": "stream",
          "name": "stdout",
          "text": [
            "\n",
            "history dict: ['loss', 'sparse_categorical_accuracy', 'val_loss', 'val_sparse_categorical_accuracy']\n"
          ]
        }
      ]
    },
    {
      "cell_type": "code",
      "source": [
        "history_dict = history.history\n",
        "loss_values = history_dict['loss']\n",
        "val_loss_values = history_dict['val_loss']\n",
        "\n",
        "epochs = range(1, len(history_dict['loss']) + 1)\n",
        "\n",
        "plt.figure(figsize=(10, 5))\n",
        "plt.plot(epochs, loss_values, 'bo', label='Training loss')\n",
        "plt.plot(epochs, val_loss_values, 'b', label='Validation loss')\n",
        "plt.title('Training and validation loss')\n",
        "plt.xlabel('Epochs')\n",
        "plt.ylabel('Loss')\n",
        "plt.legend()\n",
        "plt.grid(True)\n",
        "plt.show()\n",
        "\n",
        "plt.clf()\n",
        "plt.figure(figsize=(10, 5))\n",
        "val_acc_values = history_dict['sparse_categorical_accuracy']\n",
        "plt.plot(epochs, history_dict['sparse_categorical_accuracy'], 'bo', label='Training acc')\n",
        "plt.plot(epochs, history_dict['val_sparse_categorical_accuracy'], 'b', label='Validation acc')\n",
        "plt.title('Training and validation accuracy')\n",
        "plt.xlabel('Epochs')\n",
        "plt.ylabel('Accuracy')\n",
        "plt.legend()\n",
        "plt.grid(True)"
      ],
      "metadata": {
        "colab": {
          "base_uri": "https://localhost:8080/",
          "height": 975
        },
        "id": "2Ll_5sGlXKMH",
        "outputId": "56ffd676-9f56-4648-c375-e8a41c314bed"
      },
      "execution_count": 158,
      "outputs": [
        {
          "output_type": "display_data",
          "data": {
            "text/plain": [
              "<Figure size 1000x500 with 1 Axes>"
            ],
            "image/png": "[encoded data removed]"
          },
          "metadata": {}
        },
        {
          "output_type": "display_data",
          "data": {
            "text/plain": [
              "<Figure size 640x480 with 0 Axes>"
            ]
          },
          "metadata": {}
        },
        {
          "output_type": "display_data",
          "data": {
            "text/plain": [
              "<Figure size 1000x500 with 1 Axes>"
            ],
            "image/png": "[encoded data removed]"
          },
          "metadata": {}
        }
      ]
    },
    {
      "cell_type": "code",
      "source": [
        "probability_model = tf.keras.Sequential([model,\n",
        "                                         tf.keras.layers.Softmax()])"
      ],
      "metadata": {
        "id": "VzOdKAT_uV-f"
      },
      "execution_count": 159,
      "outputs": []
    },
    {
      "cell_type": "code",
      "source": [
        "predictions = probability_model.predict(x_test)"
      ],
      "metadata": {
        "id": "f4is3NFruYom",
        "outputId": "ba628ace-0c20-4602-9fab-bcd7f9112caa",
        "colab": {
          "base_uri": "https://localhost:8080/"
        }
      },
      "execution_count": 160,
      "outputs": [
        {
          "output_type": "stream",
          "name": "stdout",
          "text": [
            "313/313 [==============================] - 1s 3ms/step\n"
          ]
        }
      ]
    },
    {
      "cell_type": "code",
      "source": [
        "predictions[0]"
      ],
      "metadata": {
        "id": "82cigvlZudz_",
        "outputId": "146e1d49-e404-4be1-e04c-c49ed1ce189b",
        "colab": {
          "base_uri": "https://localhost:8080/"
        }
      },
      "execution_count": 161,
      "outputs": [
        {
          "output_type": "execute_result",
          "data": {
            "text/plain": [
              "array([0.08533789, 0.08533764, 0.08534147, 0.08533764, 0.08533763,\n",
              "       0.08533791, 0.08533763, 0.08533928, 0.0853377 , 0.23195522],\n",
              "      dtype=float32)"
            ]
          },
          "metadata": {},
          "execution_count": 161
        }
      ]
    },
    {
      "cell_type": "code",
      "source": [
        "model.summary()"
      ],
      "metadata": {
        "id": "6RsQPHyYuNGe",
        "outputId": "a2937b86-710d-45c8-b293-71b650c186c1",
        "colab": {
          "base_uri": "https://localhost:8080/"
        }
      },
      "execution_count": 162,
      "outputs": [
        {
          "output_type": "stream",
          "name": "stdout",
          "text": [
            "Model: \"sequential_23\"\n",
            "_________________________________________________________________\n",
            " Layer (type)                Output Shape              Param #   \n",
            "=================================================================\n",
            " flatten_12 (Flatten)        (None, 784)               0         \n",
            "                                                                 \n",
            " dense_60 (Dense)            (None, 300)               235500    \n",
            "                                                                 \n",
            " dropout_48 (Dropout)        (None, 300)               0         \n",
            "                                                                 \n",
            " dense_61 (Dense)            (None, 300)               90300     \n",
            "                                                                 \n",
            " dropout_49 (Dropout)        (None, 300)               0         \n",
            "                                                                 \n",
            " dense_62 (Dense)            (None, 300)               90300     \n",
            "                                                                 \n",
            " dropout_50 (Dropout)        (None, 300)               0         \n",
            "                                                                 \n",
            " dense_63 (Dense)            (None, 300)               90300     \n",
            "                                                                 \n",
            " dropout_51 (Dropout)        (None, 300)               0         \n",
            "                                                                 \n",
            " dense_64 (Dense)            (None, 10)                3010      \n",
            "                                                                 \n",
            "=================================================================\n",
            "Total params: 509410 (1.94 MB)\n",
            "Trainable params: 509410 (1.94 MB)\n",
            "Non-trainable params: 0 (0.00 Byte)\n",
            "_________________________________________________________________\n"
          ]
        }
      ]
    }
  ]
}