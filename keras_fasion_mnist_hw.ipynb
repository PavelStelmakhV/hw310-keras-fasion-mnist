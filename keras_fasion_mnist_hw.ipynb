{
  "nbformat": 4,
  "nbformat_minor": 0,
  "metadata": {
    "colab": {
      "provenance": [],
      "gpuType": "T4",
      "authorship_tag": "ABX9TyMjfG2Jd7Mp0i9Qj0ZaoZEM",
      "include_colab_link": true
    },
    "kernelspec": {
      "name": "python3",
      "display_name": "Python 3"
    },
    "language_info": {
      "name": "python"
    },
    "accelerator": "GPU"
  },
  "cells": [
    {
      "cell_type": "markdown",
      "metadata": {
        "id": "view-in-github",
        "colab_type": "text"
      },
      "source": [
        "<a href=\"https://colab.research.google.com/github/PavelStelmakhV/hw310-keras-fasion-mnist/blob/main/keras_fasion_mnist_hw.ipynb\" target=\"_parent\"><img src=\"https://colab.research.google.com/assets/colab-badge.svg\" alt=\"Open In Colab\"/></a>"
      ]
    },
    {
      "cell_type": "code",
      "execution_count": 1,
      "metadata": {
        "id": "vv7w0bgAVQPO"
      },
      "outputs": [],
      "source": [
        "import tensorflow as tf\n",
        "import numpy as np\n",
        "import matplotlib.pyplot as plt\n",
        "import tf_keras\n",
        "\n",
        "from keras import layers\n",
        "from keras import regularizers\n",
        "from keras import callbacks\n",
        "from keras import initializers\n",
        "from keras.layers import BatchNormalization\n",
        "from keras.models import load_model"
      ]
    },
    {
      "cell_type": "code",
      "source": [
        "fashion_mnist = tf.keras.datasets.fashion_mnist\n",
        "\n",
        "(x_train, y_train), (x_test, y_test) = fashion_mnist.load_data()"
      ],
      "metadata": {
        "id": "mOpywsNAzfGB",
        "colab": {
          "base_uri": "https://localhost:8080/"
        },
        "outputId": "7f16658b-2f72-4bf8-bc10-d55037e988e5"
      },
      "execution_count": 2,
      "outputs": [
        {
          "output_type": "stream",
          "name": "stdout",
          "text": [
            "Downloading data from https://storage.googleapis.com/tensorflow/tf-keras-datasets/train-labels-idx1-ubyte.gz\n",
            "29515/29515 [==============================] - 0s 0us/step\n",
            "Downloading data from https://storage.googleapis.com/tensorflow/tf-keras-datasets/train-images-idx3-ubyte.gz\n",
            "26421880/26421880 [==============================] - 0s 0us/step\n",
            "Downloading data from https://storage.googleapis.com/tensorflow/tf-keras-datasets/t10k-labels-idx1-ubyte.gz\n",
            "5148/5148 [==============================] - 0s 0us/step\n",
            "Downloading data from https://storage.googleapis.com/tensorflow/tf-keras-datasets/t10k-images-idx3-ubyte.gz\n",
            "4422102/4422102 [==============================] - 0s 0us/step\n"
          ]
        }
      ]
    },
    {
      "cell_type": "code",
      "source": [
        "x_train = x_train.astype('float32') / 255\n",
        "x_test = x_test.astype('float32') / 255\n",
        "\n",
        "y_train = y_train.astype('float32')\n",
        "y_test = y_test.astype('float32')"
      ],
      "metadata": {
        "id": "t2gucjsJ0KUi"
      },
      "execution_count": 3,
      "outputs": []
    },
    {
      "cell_type": "code",
      "source": [
        "w_init_tanh = initializers.glorot_normal(seed=111)\n",
        "# w_init_relu = initializers.HeNormal(seed=66)\n",
        "w_init_relu = initializers.HeUniform(seed=24)\n",
        "b_init = initializers.Zeros()"
      ],
      "metadata": {
        "id": "yL9QTEtBGy4N"
      },
      "execution_count": 4,
      "outputs": []
    },
    {
      "cell_type": "code",
      "source": [
        "drop_out = 0.33"
      ],
      "metadata": {
        "id": "flsDcVTnU10J"
      },
      "execution_count": 5,
      "outputs": []
    },
    {
      "cell_type": "code",
      "source": [
        "def layer_relu(model, neurons):\n",
        "  model.add(BatchNormalization())\n",
        "  model.add(layers.Dense(neurons,\n",
        "                       activation='relu',\n",
        "                       kernel_initializer=w_init_relu,\n",
        "                       bias_initializer=b_init))\n",
        "  model.add(layers.Dropout(drop_out))\n",
        "  return model"
      ],
      "metadata": {
        "id": "ZZgs_25rKBCp"
      },
      "execution_count": 6,
      "outputs": []
    },
    {
      "cell_type": "code",
      "source": [
        "def layer_tanh(model, neurons):\n",
        "  model.add(BatchNormalization())\n",
        "  model.add(layers.Dense(neurons,\n",
        "                        activation='tanh',\n",
        "                        kernel_initializer=w_init_tanh,\n",
        "                        bias_initializer=b_init))\n",
        "  model.add(layers.Dropout(drop_out))\n",
        "  return model"
      ],
      "metadata": {
        "id": "90JLLnkBR50t"
      },
      "execution_count": 7,
      "outputs": []
    },
    {
      "cell_type": "code",
      "source": [],
      "metadata": {
        "id": "Va9BaQ9eG_uz"
      },
      "execution_count": 7,
      "outputs": []
    },
    {
      "cell_type": "code",
      "source": [
        "model = tf.keras.Sequential()\n",
        "\n",
        "neurons = 256\n",
        "\n",
        "model.add(layers.Flatten(input_shape=(28, 28)))\n",
        "model.add(layers.Dropout(drop_out))\n",
        "\n",
        "model = layer_relu(model, neurons*1)\n",
        "# model = layer_relu(model, neurons*1)\n",
        "# model = layer_tanh(model, neurons*2)\n",
        "model = layer_relu(model, neurons*2)\n",
        "\n",
        "model.add(layers.Dense(10, activation='softmax'))"
      ],
      "metadata": {
        "id": "atS39i4d0aqW"
      },
      "execution_count": 8,
      "outputs": []
    },
    {
      "cell_type": "markdown",
      "source": [
        "++++++++++++++++++++++++++++++++++++++++++++++++++++++++++++++++++++++++++++++++"
      ],
      "metadata": {
        "id": "tZO7hl7pM63y"
      }
    },
    {
      "cell_type": "code",
      "source": [
        "optimizer = tf.keras.optimizers.Nadam(learning_rate=0.0003,\n",
        "                                      beta_1=0.92,\n",
        "                                      beta_2=0.999,\n",
        "                                      epsilon=1e-04\n",
        ")"
      ],
      "metadata": {
        "id": "EzfnaqIZlfy8"
      },
      "execution_count": 9,
      "outputs": []
    },
    {
      "cell_type": "markdown",
      "source": [
        "++++++++++++++++++++++++++++++++++++++++++++++++++++++++++++++++++++++++++++++++"
      ],
      "metadata": {
        "id": "KHmBptvOM95Z"
      }
    },
    {
      "cell_type": "code",
      "source": [
        "model.compile(#optimizer='adam',\n",
        "              # optimizer='adamax',\n",
        "              optimizer=optimizer,\n",
        "              # optimizer='rmsprop',\n",
        "              # optimizer='sgd',\n",
        "              # optimizer='adadelta',\n",
        "              # loss='binary_crossentropy',\n",
        "              loss=tf.keras.losses.SparseCategoricalCrossentropy(),\n",
        "              metrics=['sparse_categorical_accuracy']) # sparse_categorical_accuracy"
      ],
      "metadata": {
        "id": "hENVaAC7ilNY"
      },
      "execution_count": 10,
      "outputs": []
    },
    {
      "cell_type": "code",
      "source": [
        "x = np.random.random((1, 28, 28))\n",
        "a = model.predict(x)\n",
        "_ = plt.hist(np.transpose(a))"
      ],
      "metadata": {
        "id": "RFgZHNNFMa8p",
        "outputId": "c9ea6f81-cfd3-4652-c249-d2d6731dea37",
        "colab": {
          "base_uri": "https://localhost:8080/",
          "height": 448
        }
      },
      "execution_count": 11,
      "outputs": [
        {
          "output_type": "stream",
          "name": "stdout",
          "text": [
            "1/1 [==============================] - 0s 247ms/step\n"
          ]
        },
        {
          "output_type": "display_data",
          "data": {
            "text/plain": [
              "<Figure size 640x480 with 1 Axes>"
            ],
            "image/png": "[encoded data removed]"
          },
          "metadata": {}
        }
      ]
    },
    {
      "cell_type": "code",
      "source": [
        "y_pred = model.predict(x_test)"
      ],
      "metadata": {
        "id": "UDP8OKKZ8oQa",
        "outputId": "55234bc6-8498-4a3f-e80c-688b6a79a361",
        "colab": {
          "base_uri": "https://localhost:8080/"
        }
      },
      "execution_count": 12,
      "outputs": [
        {
          "output_type": "stream",
          "name": "stdout",
          "text": [
            "313/313 [==============================] - 3s 8ms/step\n"
          ]
        }
      ]
    },
    {
      "cell_type": "code",
      "source": [
        "callback = callbacks.EarlyStopping(monitor='val_loss',\n",
        "                                   patience=50,\n",
        "                                   restore_best_weights=True,\n",
        "                                   )\n",
        "es = callbacks.EarlyStopping(monitor='val_loss', mode='min', verbose=0, patience=75)\n",
        "mc = callbacks.ModelCheckpoint('best_model.h5', monitor='sparse_categorical_accuracy', mode='max', verbose=0, save_best_only=True)\n"
      ],
      "metadata": {
        "id": "5ihU4exVlsjm"
      },
      "execution_count": 13,
      "outputs": []
    },
    {
      "cell_type": "code",
      "source": [
        "history = model.fit(x_train, y_train,\n",
        "                    epochs=500,\n",
        "                    batch_size=128,\n",
        "                    # callbacks=[callback],\n",
        "                    callbacks=[mc, es],\n",
        "                    verbose=1, #многословие\n",
        "                    validation_split=0.1\n",
        "                    # validation_data=(x_val, y_val)\n",
        "                    )\n",
        "test_loss, test_acc = model.evaluate(x_test, y_test)\n",
        "print('\\nTest accuracy:', test_acc)"
      ],
      "metadata": {
        "id": "FH8HcMNm233I",
        "outputId": "df11347c-f303-485b-ad28-729f4d471249",
        "colab": {
          "base_uri": "https://localhost:8080/"
        }
      },
      "execution_count": 14,
      "outputs": [
        {
          "output_type": "stream",
          "name": "stdout",
          "text": [
            "Epoch 1/500\n",
            "422/422 [==============================] - 18s 27ms/step - loss: 0.9530 - sparse_categorical_accuracy: 0.6685 - val_loss: 0.4825 - val_sparse_categorical_accuracy: 0.8203\n",
            "Epoch 2/500\n",
            "  8/422 [..............................] - ETA: 6s - loss: 0.7225 - sparse_categorical_accuracy: 0.7373"
          ]
        },
        {
          "output_type": "stream",
          "name": "stderr",
          "text": [
            "/usr/local/lib/python3.10/dist-packages/keras/src/engine/training.py:3103: UserWarning: You are saving your model as an HDF5 file via `model.save()`. This file format is considered legacy. We recommend using instead the native Keras format, e.g. `model.save('my_model.keras')`.\n",
            "  saving_api.save_model(\n"
          ]
        },
        {
          "output_type": "stream",
          "name": "stdout",
          "text": [
            "422/422 [==============================] - 8s 19ms/step - loss: 0.6402 - sparse_categorical_accuracy: 0.7684 - val_loss: 0.4294 - val_sparse_categorical_accuracy: 0.8382\n",
            "Epoch 3/500\n",
            "422/422 [==============================] - 8s 19ms/step - loss: 0.5669 - sparse_categorical_accuracy: 0.7940 - val_loss: 0.4114 - val_sparse_categorical_accuracy: 0.8493\n",
            "Epoch 4/500\n",
            "422/422 [==============================] - 7s 16ms/step - loss: 0.5316 - sparse_categorical_accuracy: 0.8045 - val_loss: 0.3971 - val_sparse_categorical_accuracy: 0.8547\n",
            "Epoch 5/500\n",
            "422/422 [==============================] - 8s 19ms/step - loss: 0.5008 - sparse_categorical_accuracy: 0.8151 - val_loss: 0.3805 - val_sparse_categorical_accuracy: 0.8572\n",
            "Epoch 6/500\n",
            "422/422 [==============================] - 7s 17ms/step - loss: 0.4830 - sparse_categorical_accuracy: 0.8213 - val_loss: 0.3750 - val_sparse_categorical_accuracy: 0.8617\n",
            "Epoch 7/500\n",
            "422/422 [==============================] - 8s 19ms/step - loss: 0.4634 - sparse_categorical_accuracy: 0.8276 - val_loss: 0.3713 - val_sparse_categorical_accuracy: 0.8638\n",
            "Epoch 8/500\n",
            "422/422 [==============================] - 8s 19ms/step - loss: 0.4502 - sparse_categorical_accuracy: 0.8330 - val_loss: 0.3569 - val_sparse_categorical_accuracy: 0.8658\n",
            "Epoch 9/500\n",
            "422/422 [==============================] - 7s 17ms/step - loss: 0.4361 - sparse_categorical_accuracy: 0.8391 - val_loss: 0.3508 - val_sparse_categorical_accuracy: 0.8712\n",
            "Epoch 10/500\n",
            "422/422 [==============================] - 8s 19ms/step - loss: 0.4275 - sparse_categorical_accuracy: 0.8422 - val_loss: 0.3521 - val_sparse_categorical_accuracy: 0.8692\n",
            "Epoch 11/500\n",
            "422/422 [==============================] - 7s 17ms/step - loss: 0.4195 - sparse_categorical_accuracy: 0.8438 - val_loss: 0.3392 - val_sparse_categorical_accuracy: 0.8753\n",
            "Epoch 12/500\n",
            "422/422 [==============================] - 7s 18ms/step - loss: 0.4111 - sparse_categorical_accuracy: 0.8470 - val_loss: 0.3389 - val_sparse_categorical_accuracy: 0.8768\n",
            "Epoch 13/500\n",
            "422/422 [==============================] - 8s 20ms/step - loss: 0.4057 - sparse_categorical_accuracy: 0.8504 - val_loss: 0.3328 - val_sparse_categorical_accuracy: 0.8782\n",
            "Epoch 14/500\n",
            "422/422 [==============================] - 7s 16ms/step - loss: 0.3982 - sparse_categorical_accuracy: 0.8514 - val_loss: 0.3332 - val_sparse_categorical_accuracy: 0.8777\n",
            "Epoch 15/500\n",
            "422/422 [==============================] - 8s 19ms/step - loss: 0.3919 - sparse_categorical_accuracy: 0.8535 - val_loss: 0.3209 - val_sparse_categorical_accuracy: 0.8817\n",
            "Epoch 16/500\n",
            "422/422 [==============================] - 9s 21ms/step - loss: 0.3898 - sparse_categorical_accuracy: 0.8550 - val_loss: 0.3236 - val_sparse_categorical_accuracy: 0.8800\n",
            "Epoch 17/500\n",
            "422/422 [==============================] - 7s 16ms/step - loss: 0.3839 - sparse_categorical_accuracy: 0.8567 - val_loss: 0.3214 - val_sparse_categorical_accuracy: 0.8813\n",
            "Epoch 18/500\n",
            "422/422 [==============================] - 8s 19ms/step - loss: 0.3786 - sparse_categorical_accuracy: 0.8574 - val_loss: 0.3241 - val_sparse_categorical_accuracy: 0.8805\n",
            "Epoch 19/500\n",
            "422/422 [==============================] - 7s 17ms/step - loss: 0.3737 - sparse_categorical_accuracy: 0.8600 - val_loss: 0.3162 - val_sparse_categorical_accuracy: 0.8790\n",
            "Epoch 20/500\n",
            "422/422 [==============================] - 8s 19ms/step - loss: 0.3720 - sparse_categorical_accuracy: 0.8616 - val_loss: 0.3115 - val_sparse_categorical_accuracy: 0.8832\n",
            "Epoch 21/500\n",
            "422/422 [==============================] - 8s 19ms/step - loss: 0.3670 - sparse_categorical_accuracy: 0.8635 - val_loss: 0.3110 - val_sparse_categorical_accuracy: 0.8835\n",
            "Epoch 22/500\n",
            "422/422 [==============================] - 7s 16ms/step - loss: 0.3640 - sparse_categorical_accuracy: 0.8634 - val_loss: 0.3115 - val_sparse_categorical_accuracy: 0.8848\n",
            "Epoch 23/500\n",
            "422/422 [==============================] - 8s 19ms/step - loss: 0.3595 - sparse_categorical_accuracy: 0.8648 - val_loss: 0.3087 - val_sparse_categorical_accuracy: 0.8867\n",
            "Epoch 24/500\n",
            "422/422 [==============================] - 7s 17ms/step - loss: 0.3576 - sparse_categorical_accuracy: 0.8666 - val_loss: 0.3033 - val_sparse_categorical_accuracy: 0.8863\n",
            "Epoch 25/500\n",
            "422/422 [==============================] - 8s 19ms/step - loss: 0.3544 - sparse_categorical_accuracy: 0.8682 - val_loss: 0.3038 - val_sparse_categorical_accuracy: 0.8880\n",
            "Epoch 26/500\n",
            "422/422 [==============================] - 8s 19ms/step - loss: 0.3509 - sparse_categorical_accuracy: 0.8679 - val_loss: 0.3015 - val_sparse_categorical_accuracy: 0.8883\n",
            "Epoch 27/500\n",
            "422/422 [==============================] - 7s 17ms/step - loss: 0.3484 - sparse_categorical_accuracy: 0.8694 - val_loss: 0.3048 - val_sparse_categorical_accuracy: 0.8890\n",
            "Epoch 28/500\n",
            "422/422 [==============================] - 8s 19ms/step - loss: 0.3468 - sparse_categorical_accuracy: 0.8682 - val_loss: 0.2989 - val_sparse_categorical_accuracy: 0.8878\n",
            "Epoch 29/500\n",
            "422/422 [==============================] - 7s 16ms/step - loss: 0.3454 - sparse_categorical_accuracy: 0.8694 - val_loss: 0.2949 - val_sparse_categorical_accuracy: 0.8907\n",
            "Epoch 30/500\n",
            "422/422 [==============================] - 8s 19ms/step - loss: 0.3387 - sparse_categorical_accuracy: 0.8729 - val_loss: 0.2944 - val_sparse_categorical_accuracy: 0.8907\n",
            "Epoch 31/500\n",
            "422/422 [==============================] - 8s 19ms/step - loss: 0.3379 - sparse_categorical_accuracy: 0.8726 - val_loss: 0.3003 - val_sparse_categorical_accuracy: 0.8907\n",
            "Epoch 32/500\n",
            "422/422 [==============================] - 7s 18ms/step - loss: 0.3372 - sparse_categorical_accuracy: 0.8753 - val_loss: 0.2952 - val_sparse_categorical_accuracy: 0.8913\n",
            "Epoch 33/500\n",
            "422/422 [==============================] - 8s 19ms/step - loss: 0.3323 - sparse_categorical_accuracy: 0.8749 - val_loss: 0.2947 - val_sparse_categorical_accuracy: 0.8897\n",
            "Epoch 34/500\n",
            "422/422 [==============================] - 8s 18ms/step - loss: 0.3319 - sparse_categorical_accuracy: 0.8757 - val_loss: 0.2871 - val_sparse_categorical_accuracy: 0.8912\n",
            "Epoch 35/500\n",
            "422/422 [==============================] - 8s 18ms/step - loss: 0.3288 - sparse_categorical_accuracy: 0.8745 - val_loss: 0.2896 - val_sparse_categorical_accuracy: 0.8903\n",
            "Epoch 36/500\n",
            "422/422 [==============================] - 8s 19ms/step - loss: 0.3293 - sparse_categorical_accuracy: 0.8747 - val_loss: 0.2869 - val_sparse_categorical_accuracy: 0.8918\n",
            "Epoch 37/500\n",
            "422/422 [==============================] - 7s 17ms/step - loss: 0.3281 - sparse_categorical_accuracy: 0.8762 - val_loss: 0.2836 - val_sparse_categorical_accuracy: 0.8933\n",
            "Epoch 38/500\n",
            "422/422 [==============================] - 8s 19ms/step - loss: 0.3261 - sparse_categorical_accuracy: 0.8772 - val_loss: 0.2860 - val_sparse_categorical_accuracy: 0.8923\n",
            "Epoch 39/500\n",
            "422/422 [==============================] - 8s 19ms/step - loss: 0.3233 - sparse_categorical_accuracy: 0.8772 - val_loss: 0.2896 - val_sparse_categorical_accuracy: 0.8908\n",
            "Epoch 40/500\n",
            "422/422 [==============================] - 7s 17ms/step - loss: 0.3231 - sparse_categorical_accuracy: 0.8777 - val_loss: 0.2887 - val_sparse_categorical_accuracy: 0.8913\n",
            "Epoch 41/500\n",
            "422/422 [==============================] - 8s 19ms/step - loss: 0.3207 - sparse_categorical_accuracy: 0.8781 - val_loss: 0.2857 - val_sparse_categorical_accuracy: 0.8932\n",
            "Epoch 42/500\n",
            "422/422 [==============================] - 7s 16ms/step - loss: 0.3180 - sparse_categorical_accuracy: 0.8790 - val_loss: 0.2846 - val_sparse_categorical_accuracy: 0.8947\n",
            "Epoch 43/500\n",
            "422/422 [==============================] - 8s 19ms/step - loss: 0.3177 - sparse_categorical_accuracy: 0.8803 - val_loss: 0.2839 - val_sparse_categorical_accuracy: 0.8960\n",
            "Epoch 44/500\n",
            "422/422 [==============================] - 8s 19ms/step - loss: 0.3173 - sparse_categorical_accuracy: 0.8794 - val_loss: 0.2844 - val_sparse_categorical_accuracy: 0.8960\n",
            "Epoch 45/500\n",
            "422/422 [==============================] - 7s 17ms/step - loss: 0.3137 - sparse_categorical_accuracy: 0.8807 - val_loss: 0.2881 - val_sparse_categorical_accuracy: 0.8935\n",
            "Epoch 46/500\n",
            "422/422 [==============================] - 8s 19ms/step - loss: 0.3118 - sparse_categorical_accuracy: 0.8812 - val_loss: 0.2793 - val_sparse_categorical_accuracy: 0.8968\n",
            "Epoch 47/500\n",
            "422/422 [==============================] - 7s 17ms/step - loss: 0.3121 - sparse_categorical_accuracy: 0.8798 - val_loss: 0.2818 - val_sparse_categorical_accuracy: 0.8967\n",
            "Epoch 48/500\n",
            "422/422 [==============================] - 8s 19ms/step - loss: 0.3076 - sparse_categorical_accuracy: 0.8829 - val_loss: 0.2790 - val_sparse_categorical_accuracy: 0.8975\n",
            "Epoch 49/500\n",
            "422/422 [==============================] - 8s 19ms/step - loss: 0.3106 - sparse_categorical_accuracy: 0.8804 - val_loss: 0.2797 - val_sparse_categorical_accuracy: 0.8963\n",
            "Epoch 50/500\n",
            "422/422 [==============================] - 7s 17ms/step - loss: 0.3053 - sparse_categorical_accuracy: 0.8830 - val_loss: 0.2772 - val_sparse_categorical_accuracy: 0.8960\n",
            "Epoch 51/500\n",
            "422/422 [==============================] - 8s 19ms/step - loss: 0.3082 - sparse_categorical_accuracy: 0.8816 - val_loss: 0.2764 - val_sparse_categorical_accuracy: 0.8958\n",
            "Epoch 52/500\n",
            "422/422 [==============================] - 7s 17ms/step - loss: 0.3078 - sparse_categorical_accuracy: 0.8835 - val_loss: 0.2783 - val_sparse_categorical_accuracy: 0.8963\n",
            "Epoch 53/500\n",
            "422/422 [==============================] - 8s 19ms/step - loss: 0.3042 - sparse_categorical_accuracy: 0.8842 - val_loss: 0.2802 - val_sparse_categorical_accuracy: 0.8948\n",
            "Epoch 54/500\n",
            "422/422 [==============================] - 8s 19ms/step - loss: 0.3017 - sparse_categorical_accuracy: 0.8845 - val_loss: 0.2743 - val_sparse_categorical_accuracy: 0.8985\n",
            "Epoch 55/500\n",
            "422/422 [==============================] - 7s 17ms/step - loss: 0.3013 - sparse_categorical_accuracy: 0.8844 - val_loss: 0.2762 - val_sparse_categorical_accuracy: 0.8987\n",
            "Epoch 56/500\n",
            "422/422 [==============================] - 8s 19ms/step - loss: 0.3020 - sparse_categorical_accuracy: 0.8854 - val_loss: 0.2797 - val_sparse_categorical_accuracy: 0.8975\n",
            "Epoch 57/500\n",
            "422/422 [==============================] - 7s 17ms/step - loss: 0.2997 - sparse_categorical_accuracy: 0.8859 - val_loss: 0.2722 - val_sparse_categorical_accuracy: 0.8995\n",
            "Epoch 58/500\n",
            "422/422 [==============================] - 8s 19ms/step - loss: 0.2975 - sparse_categorical_accuracy: 0.8876 - val_loss: 0.2783 - val_sparse_categorical_accuracy: 0.8980\n",
            "Epoch 59/500\n",
            "422/422 [==============================] - 8s 19ms/step - loss: 0.2990 - sparse_categorical_accuracy: 0.8844 - val_loss: 0.2751 - val_sparse_categorical_accuracy: 0.8988\n",
            "Epoch 60/500\n",
            "422/422 [==============================] - 7s 17ms/step - loss: 0.3019 - sparse_categorical_accuracy: 0.8846 - val_loss: 0.2751 - val_sparse_categorical_accuracy: 0.8972\n",
            "Epoch 61/500\n",
            "422/422 [==============================] - 8s 19ms/step - loss: 0.2982 - sparse_categorical_accuracy: 0.8864 - val_loss: 0.2770 - val_sparse_categorical_accuracy: 0.8982\n",
            "Epoch 62/500\n",
            "422/422 [==============================] - 7s 17ms/step - loss: 0.2954 - sparse_categorical_accuracy: 0.8873 - val_loss: 0.2741 - val_sparse_categorical_accuracy: 0.8972\n",
            "Epoch 63/500\n",
            "422/422 [==============================] - 8s 19ms/step - loss: 0.2934 - sparse_categorical_accuracy: 0.8877 - val_loss: 0.2701 - val_sparse_categorical_accuracy: 0.8988\n",
            "Epoch 64/500\n",
            "422/422 [==============================] - 8s 19ms/step - loss: 0.2951 - sparse_categorical_accuracy: 0.8881 - val_loss: 0.2730 - val_sparse_categorical_accuracy: 0.9003\n",
            "Epoch 65/500\n",
            "422/422 [==============================] - 7s 17ms/step - loss: 0.2908 - sparse_categorical_accuracy: 0.8889 - val_loss: 0.2744 - val_sparse_categorical_accuracy: 0.8968\n",
            "Epoch 66/500\n",
            "422/422 [==============================] - 8s 19ms/step - loss: 0.2939 - sparse_categorical_accuracy: 0.8879 - val_loss: 0.2755 - val_sparse_categorical_accuracy: 0.8988\n",
            "Epoch 67/500\n",
            "422/422 [==============================] - 7s 17ms/step - loss: 0.2920 - sparse_categorical_accuracy: 0.8881 - val_loss: 0.2748 - val_sparse_categorical_accuracy: 0.8995\n",
            "Epoch 68/500\n",
            "422/422 [==============================] - 8s 19ms/step - loss: 0.2908 - sparse_categorical_accuracy: 0.8896 - val_loss: 0.2755 - val_sparse_categorical_accuracy: 0.8987\n",
            "Epoch 69/500\n",
            "422/422 [==============================] - 8s 18ms/step - loss: 0.2912 - sparse_categorical_accuracy: 0.8893 - val_loss: 0.2754 - val_sparse_categorical_accuracy: 0.9000\n",
            "Epoch 70/500\n",
            "422/422 [==============================] - 7s 17ms/step - loss: 0.2866 - sparse_categorical_accuracy: 0.8906 - val_loss: 0.2793 - val_sparse_categorical_accuracy: 0.8967\n",
            "Epoch 71/500\n",
            "422/422 [==============================] - 8s 19ms/step - loss: 0.2873 - sparse_categorical_accuracy: 0.8902 - val_loss: 0.2730 - val_sparse_categorical_accuracy: 0.8982\n",
            "Epoch 72/500\n",
            "422/422 [==============================] - 7s 16ms/step - loss: 0.2867 - sparse_categorical_accuracy: 0.8911 - val_loss: 0.2694 - val_sparse_categorical_accuracy: 0.9003\n",
            "Epoch 73/500\n",
            "422/422 [==============================] - 8s 19ms/step - loss: 0.2899 - sparse_categorical_accuracy: 0.8889 - val_loss: 0.2757 - val_sparse_categorical_accuracy: 0.9012\n",
            "Epoch 74/500\n",
            "422/422 [==============================] - 8s 19ms/step - loss: 0.2886 - sparse_categorical_accuracy: 0.8907 - val_loss: 0.2685 - val_sparse_categorical_accuracy: 0.9018\n",
            "Epoch 75/500\n",
            "422/422 [==============================] - 7s 17ms/step - loss: 0.2863 - sparse_categorical_accuracy: 0.8914 - val_loss: 0.2685 - val_sparse_categorical_accuracy: 0.9008\n",
            "Epoch 76/500\n",
            "422/422 [==============================] - 8s 19ms/step - loss: 0.2838 - sparse_categorical_accuracy: 0.8914 - val_loss: 0.2738 - val_sparse_categorical_accuracy: 0.9005\n",
            "Epoch 77/500\n",
            "422/422 [==============================] - 7s 18ms/step - loss: 0.2819 - sparse_categorical_accuracy: 0.8923 - val_loss: 0.2664 - val_sparse_categorical_accuracy: 0.9003\n",
            "Epoch 78/500\n",
            "422/422 [==============================] - 8s 18ms/step - loss: 0.2825 - sparse_categorical_accuracy: 0.8926 - val_loss: 0.2710 - val_sparse_categorical_accuracy: 0.9007\n",
            "Epoch 79/500\n",
            "422/422 [==============================] - 8s 19ms/step - loss: 0.2819 - sparse_categorical_accuracy: 0.8914 - val_loss: 0.2716 - val_sparse_categorical_accuracy: 0.8980\n",
            "Epoch 80/500\n",
            "422/422 [==============================] - 7s 17ms/step - loss: 0.2840 - sparse_categorical_accuracy: 0.8905 - val_loss: 0.2695 - val_sparse_categorical_accuracy: 0.8997\n",
            "Epoch 81/500\n",
            "422/422 [==============================] - 8s 19ms/step - loss: 0.2830 - sparse_categorical_accuracy: 0.8933 - val_loss: 0.2688 - val_sparse_categorical_accuracy: 0.9037\n",
            "Epoch 82/500\n",
            "422/422 [==============================] - 8s 19ms/step - loss: 0.2824 - sparse_categorical_accuracy: 0.8934 - val_loss: 0.2674 - val_sparse_categorical_accuracy: 0.9023\n",
            "Epoch 83/500\n",
            "422/422 [==============================] - 7s 18ms/step - loss: 0.2815 - sparse_categorical_accuracy: 0.8928 - val_loss: 0.2667 - val_sparse_categorical_accuracy: 0.9023\n",
            "Epoch 84/500\n",
            "422/422 [==============================] - 8s 19ms/step - loss: 0.2802 - sparse_categorical_accuracy: 0.8926 - val_loss: 0.2687 - val_sparse_categorical_accuracy: 0.9010\n",
            "Epoch 85/500\n",
            "422/422 [==============================] - 7s 17ms/step - loss: 0.2811 - sparse_categorical_accuracy: 0.8913 - val_loss: 0.2674 - val_sparse_categorical_accuracy: 0.9002\n",
            "Epoch 86/500\n",
            "422/422 [==============================] - 8s 19ms/step - loss: 0.2801 - sparse_categorical_accuracy: 0.8929 - val_loss: 0.2654 - val_sparse_categorical_accuracy: 0.9007\n",
            "Epoch 87/500\n",
            "422/422 [==============================] - 8s 19ms/step - loss: 0.2777 - sparse_categorical_accuracy: 0.8941 - val_loss: 0.2688 - val_sparse_categorical_accuracy: 0.9012\n",
            "Epoch 88/500\n",
            "422/422 [==============================] - 7s 17ms/step - loss: 0.2791 - sparse_categorical_accuracy: 0.8937 - val_loss: 0.2620 - val_sparse_categorical_accuracy: 0.9033\n",
            "Epoch 89/500\n",
            "422/422 [==============================] - 8s 19ms/step - loss: 0.2802 - sparse_categorical_accuracy: 0.8927 - val_loss: 0.2636 - val_sparse_categorical_accuracy: 0.9022\n",
            "Epoch 90/500\n",
            "422/422 [==============================] - 7s 17ms/step - loss: 0.2791 - sparse_categorical_accuracy: 0.8934 - val_loss: 0.2628 - val_sparse_categorical_accuracy: 0.9032\n",
            "Epoch 91/500\n",
            "422/422 [==============================] - 8s 19ms/step - loss: 0.2780 - sparse_categorical_accuracy: 0.8947 - val_loss: 0.2649 - val_sparse_categorical_accuracy: 0.9032\n",
            "Epoch 92/500\n",
            "422/422 [==============================] - 8s 19ms/step - loss: 0.2767 - sparse_categorical_accuracy: 0.8949 - val_loss: 0.2664 - val_sparse_categorical_accuracy: 0.9018\n",
            "Epoch 93/500\n",
            "422/422 [==============================] - 7s 17ms/step - loss: 0.2791 - sparse_categorical_accuracy: 0.8924 - val_loss: 0.2671 - val_sparse_categorical_accuracy: 0.9033\n",
            "Epoch 94/500\n",
            "422/422 [==============================] - 8s 19ms/step - loss: 0.2754 - sparse_categorical_accuracy: 0.8956 - val_loss: 0.2650 - val_sparse_categorical_accuracy: 0.9040\n",
            "Epoch 95/500\n",
            "422/422 [==============================] - 7s 16ms/step - loss: 0.2757 - sparse_categorical_accuracy: 0.8950 - val_loss: 0.2648 - val_sparse_categorical_accuracy: 0.9027\n",
            "Epoch 96/500\n",
            "422/422 [==============================] - 8s 19ms/step - loss: 0.2731 - sparse_categorical_accuracy: 0.8944 - val_loss: 0.2695 - val_sparse_categorical_accuracy: 0.9020\n",
            "Epoch 97/500\n",
            "422/422 [==============================] - 8s 19ms/step - loss: 0.2716 - sparse_categorical_accuracy: 0.8971 - val_loss: 0.2677 - val_sparse_categorical_accuracy: 0.9035\n",
            "Epoch 98/500\n",
            "422/422 [==============================] - 7s 16ms/step - loss: 0.2775 - sparse_categorical_accuracy: 0.8938 - val_loss: 0.2657 - val_sparse_categorical_accuracy: 0.9033\n",
            "Epoch 99/500\n",
            "422/422 [==============================] - 8s 19ms/step - loss: 0.2748 - sparse_categorical_accuracy: 0.8963 - val_loss: 0.2694 - val_sparse_categorical_accuracy: 0.9012\n",
            "Epoch 100/500\n",
            "422/422 [==============================] - 7s 17ms/step - loss: 0.2719 - sparse_categorical_accuracy: 0.8968 - val_loss: 0.2673 - val_sparse_categorical_accuracy: 0.9037\n",
            "Epoch 101/500\n",
            "422/422 [==============================] - 8s 19ms/step - loss: 0.2766 - sparse_categorical_accuracy: 0.8953 - val_loss: 0.2643 - val_sparse_categorical_accuracy: 0.9035\n",
            "Epoch 102/500\n",
            "422/422 [==============================] - 8s 19ms/step - loss: 0.2711 - sparse_categorical_accuracy: 0.8965 - val_loss: 0.2639 - val_sparse_categorical_accuracy: 0.9018\n",
            "Epoch 103/500\n",
            "422/422 [==============================] - 7s 17ms/step - loss: 0.2719 - sparse_categorical_accuracy: 0.8956 - val_loss: 0.2687 - val_sparse_categorical_accuracy: 0.9035\n",
            "Epoch 104/500\n",
            "422/422 [==============================] - 8s 19ms/step - loss: 0.2709 - sparse_categorical_accuracy: 0.8961 - val_loss: 0.2640 - val_sparse_categorical_accuracy: 0.9032\n",
            "Epoch 105/500\n",
            "422/422 [==============================] - 7s 17ms/step - loss: 0.2690 - sparse_categorical_accuracy: 0.8974 - val_loss: 0.2670 - val_sparse_categorical_accuracy: 0.9040\n",
            "Epoch 106/500\n",
            "422/422 [==============================] - 8s 19ms/step - loss: 0.2712 - sparse_categorical_accuracy: 0.8953 - val_loss: 0.2652 - val_sparse_categorical_accuracy: 0.9042\n",
            "Epoch 107/500\n",
            "422/422 [==============================] - 8s 19ms/step - loss: 0.2686 - sparse_categorical_accuracy: 0.8969 - val_loss: 0.2618 - val_sparse_categorical_accuracy: 0.9042\n",
            "Epoch 108/500\n",
            "422/422 [==============================] - 7s 17ms/step - loss: 0.2672 - sparse_categorical_accuracy: 0.8981 - val_loss: 0.2637 - val_sparse_categorical_accuracy: 0.9047\n",
            "Epoch 109/500\n",
            "422/422 [==============================] - 8s 19ms/step - loss: 0.2690 - sparse_categorical_accuracy: 0.8974 - val_loss: 0.2605 - val_sparse_categorical_accuracy: 0.9032\n",
            "Epoch 110/500\n",
            "422/422 [==============================] - 7s 17ms/step - loss: 0.2686 - sparse_categorical_accuracy: 0.8971 - val_loss: 0.2626 - val_sparse_categorical_accuracy: 0.9040\n",
            "Epoch 111/500\n",
            "422/422 [==============================] - 8s 19ms/step - loss: 0.2650 - sparse_categorical_accuracy: 0.8979 - val_loss: 0.2620 - val_sparse_categorical_accuracy: 0.9040\n",
            "Epoch 112/500\n",
            "422/422 [==============================] - 8s 19ms/step - loss: 0.2703 - sparse_categorical_accuracy: 0.8955 - val_loss: 0.2594 - val_sparse_categorical_accuracy: 0.9028\n",
            "Epoch 113/500\n",
            "422/422 [==============================] - 7s 17ms/step - loss: 0.2686 - sparse_categorical_accuracy: 0.8974 - val_loss: 0.2642 - val_sparse_categorical_accuracy: 0.9013\n",
            "Epoch 114/500\n",
            "422/422 [==============================] - 8s 19ms/step - loss: 0.2647 - sparse_categorical_accuracy: 0.8974 - val_loss: 0.2603 - val_sparse_categorical_accuracy: 0.9047\n",
            "Epoch 115/500\n",
            "422/422 [==============================] - 7s 17ms/step - loss: 0.2657 - sparse_categorical_accuracy: 0.8970 - val_loss: 0.2624 - val_sparse_categorical_accuracy: 0.9035\n",
            "Epoch 116/500\n",
            "422/422 [==============================] - 8s 19ms/step - loss: 0.2637 - sparse_categorical_accuracy: 0.8970 - val_loss: 0.2602 - val_sparse_categorical_accuracy: 0.9037\n",
            "Epoch 117/500\n",
            "422/422 [==============================] - 8s 19ms/step - loss: 0.2653 - sparse_categorical_accuracy: 0.8978 - val_loss: 0.2641 - val_sparse_categorical_accuracy: 0.9050\n",
            "Epoch 118/500\n",
            "422/422 [==============================] - 7s 17ms/step - loss: 0.2646 - sparse_categorical_accuracy: 0.8981 - val_loss: 0.2586 - val_sparse_categorical_accuracy: 0.9050\n",
            "Epoch 119/500\n",
            "422/422 [==============================] - 8s 19ms/step - loss: 0.2617 - sparse_categorical_accuracy: 0.9001 - val_loss: 0.2655 - val_sparse_categorical_accuracy: 0.9050\n",
            "Epoch 120/500\n",
            "422/422 [==============================] - 8s 18ms/step - loss: 0.2626 - sparse_categorical_accuracy: 0.9002 - val_loss: 0.2584 - val_sparse_categorical_accuracy: 0.9042\n",
            "Epoch 121/500\n",
            "422/422 [==============================] - 8s 18ms/step - loss: 0.2628 - sparse_categorical_accuracy: 0.8992 - val_loss: 0.2602 - val_sparse_categorical_accuracy: 0.9037\n",
            "Epoch 122/500\n",
            "422/422 [==============================] - 8s 19ms/step - loss: 0.2668 - sparse_categorical_accuracy: 0.8995 - val_loss: 0.2617 - val_sparse_categorical_accuracy: 0.9055\n",
            "Epoch 123/500\n",
            "422/422 [==============================] - 7s 17ms/step - loss: 0.2647 - sparse_categorical_accuracy: 0.8984 - val_loss: 0.2620 - val_sparse_categorical_accuracy: 0.9045\n",
            "Epoch 124/500\n",
            "422/422 [==============================] - 8s 19ms/step - loss: 0.2635 - sparse_categorical_accuracy: 0.8980 - val_loss: 0.2596 - val_sparse_categorical_accuracy: 0.9025\n",
            "Epoch 125/500\n",
            "422/422 [==============================] - 8s 19ms/step - loss: 0.2656 - sparse_categorical_accuracy: 0.8976 - val_loss: 0.2600 - val_sparse_categorical_accuracy: 0.9027\n",
            "Epoch 126/500\n",
            "422/422 [==============================] - 7s 17ms/step - loss: 0.2622 - sparse_categorical_accuracy: 0.8990 - val_loss: 0.2594 - val_sparse_categorical_accuracy: 0.9032\n",
            "Epoch 127/500\n",
            "422/422 [==============================] - 8s 19ms/step - loss: 0.2627 - sparse_categorical_accuracy: 0.8996 - val_loss: 0.2623 - val_sparse_categorical_accuracy: 0.9025\n",
            "Epoch 128/500\n",
            "422/422 [==============================] - 7s 17ms/step - loss: 0.2619 - sparse_categorical_accuracy: 0.9007 - val_loss: 0.2622 - val_sparse_categorical_accuracy: 0.9035\n",
            "Epoch 129/500\n",
            "422/422 [==============================] - 8s 19ms/step - loss: 0.2625 - sparse_categorical_accuracy: 0.8989 - val_loss: 0.2612 - val_sparse_categorical_accuracy: 0.9042\n",
            "Epoch 130/500\n",
            "422/422 [==============================] - 8s 19ms/step - loss: 0.2633 - sparse_categorical_accuracy: 0.8988 - val_loss: 0.2616 - val_sparse_categorical_accuracy: 0.9032\n",
            "Epoch 131/500\n",
            "422/422 [==============================] - 7s 17ms/step - loss: 0.2581 - sparse_categorical_accuracy: 0.9009 - val_loss: 0.2640 - val_sparse_categorical_accuracy: 0.9050\n",
            "Epoch 132/500\n",
            "422/422 [==============================] - 8s 19ms/step - loss: 0.2594 - sparse_categorical_accuracy: 0.8996 - val_loss: 0.2593 - val_sparse_categorical_accuracy: 0.9052\n",
            "Epoch 133/500\n",
            "422/422 [==============================] - 7s 17ms/step - loss: 0.2614 - sparse_categorical_accuracy: 0.8989 - val_loss: 0.2625 - val_sparse_categorical_accuracy: 0.9030\n",
            "Epoch 134/500\n",
            "422/422 [==============================] - 8s 19ms/step - loss: 0.2572 - sparse_categorical_accuracy: 0.9009 - val_loss: 0.2632 - val_sparse_categorical_accuracy: 0.9028\n",
            "Epoch 135/500\n",
            "422/422 [==============================] - 8s 19ms/step - loss: 0.2613 - sparse_categorical_accuracy: 0.9001 - val_loss: 0.2619 - val_sparse_categorical_accuracy: 0.9035\n",
            "Epoch 136/500\n",
            "422/422 [==============================] - 7s 17ms/step - loss: 0.2580 - sparse_categorical_accuracy: 0.9005 - val_loss: 0.2590 - val_sparse_categorical_accuracy: 0.9058\n",
            "Epoch 137/500\n",
            "422/422 [==============================] - 8s 19ms/step - loss: 0.2613 - sparse_categorical_accuracy: 0.8989 - val_loss: 0.2621 - val_sparse_categorical_accuracy: 0.9007\n",
            "Epoch 138/500\n",
            "422/422 [==============================] - 8s 18ms/step - loss: 0.2607 - sparse_categorical_accuracy: 0.8988 - val_loss: 0.2608 - val_sparse_categorical_accuracy: 0.9028\n",
            "Epoch 139/500\n",
            "422/422 [==============================] - 8s 18ms/step - loss: 0.2595 - sparse_categorical_accuracy: 0.9008 - val_loss: 0.2573 - val_sparse_categorical_accuracy: 0.9053\n",
            "Epoch 140/500\n",
            "422/422 [==============================] - 8s 19ms/step - loss: 0.2602 - sparse_categorical_accuracy: 0.9008 - val_loss: 0.2629 - val_sparse_categorical_accuracy: 0.9028\n",
            "Epoch 141/500\n",
            "422/422 [==============================] - 7s 17ms/step - loss: 0.2577 - sparse_categorical_accuracy: 0.9020 - val_loss: 0.2593 - val_sparse_categorical_accuracy: 0.9047\n",
            "Epoch 142/500\n",
            "422/422 [==============================] - 8s 19ms/step - loss: 0.2552 - sparse_categorical_accuracy: 0.9021 - val_loss: 0.2591 - val_sparse_categorical_accuracy: 0.9042\n",
            "Epoch 143/500\n",
            "422/422 [==============================] - 8s 19ms/step - loss: 0.2553 - sparse_categorical_accuracy: 0.9020 - val_loss: 0.2615 - val_sparse_categorical_accuracy: 0.9037\n",
            "Epoch 144/500\n",
            "422/422 [==============================] - 7s 17ms/step - loss: 0.2580 - sparse_categorical_accuracy: 0.9014 - val_loss: 0.2609 - val_sparse_categorical_accuracy: 0.9053\n",
            "Epoch 145/500\n",
            "422/422 [==============================] - 8s 19ms/step - loss: 0.2560 - sparse_categorical_accuracy: 0.9017 - val_loss: 0.2610 - val_sparse_categorical_accuracy: 0.9045\n",
            "Epoch 146/500\n",
            "422/422 [==============================] - 7s 17ms/step - loss: 0.2557 - sparse_categorical_accuracy: 0.9004 - val_loss: 0.2625 - val_sparse_categorical_accuracy: 0.9047\n",
            "Epoch 147/500\n",
            "422/422 [==============================] - 8s 19ms/step - loss: 0.2558 - sparse_categorical_accuracy: 0.9027 - val_loss: 0.2632 - val_sparse_categorical_accuracy: 0.9065\n",
            "Epoch 148/500\n",
            "422/422 [==============================] - 8s 19ms/step - loss: 0.2553 - sparse_categorical_accuracy: 0.9014 - val_loss: 0.2614 - val_sparse_categorical_accuracy: 0.9067\n",
            "Epoch 149/500\n",
            "422/422 [==============================] - 7s 18ms/step - loss: 0.2567 - sparse_categorical_accuracy: 0.9027 - val_loss: 0.2616 - val_sparse_categorical_accuracy: 0.9052\n",
            "Epoch 150/500\n",
            "422/422 [==============================] - 8s 19ms/step - loss: 0.2543 - sparse_categorical_accuracy: 0.9028 - val_loss: 0.2622 - val_sparse_categorical_accuracy: 0.9058\n",
            "Epoch 151/500\n",
            "422/422 [==============================] - 7s 17ms/step - loss: 0.2529 - sparse_categorical_accuracy: 0.9030 - val_loss: 0.2613 - val_sparse_categorical_accuracy: 0.9032\n",
            "Epoch 152/500\n",
            "422/422 [==============================] - 8s 19ms/step - loss: 0.2528 - sparse_categorical_accuracy: 0.9034 - val_loss: 0.2631 - val_sparse_categorical_accuracy: 0.9052\n",
            "Epoch 153/500\n",
            "422/422 [==============================] - 8s 19ms/step - loss: 0.2554 - sparse_categorical_accuracy: 0.9015 - val_loss: 0.2589 - val_sparse_categorical_accuracy: 0.9048\n",
            "Epoch 154/500\n",
            "422/422 [==============================] - 7s 17ms/step - loss: 0.2530 - sparse_categorical_accuracy: 0.9024 - val_loss: 0.2605 - val_sparse_categorical_accuracy: 0.9052\n",
            "Epoch 155/500\n",
            "422/422 [==============================] - 8s 19ms/step - loss: 0.2556 - sparse_categorical_accuracy: 0.9020 - val_loss: 0.2586 - val_sparse_categorical_accuracy: 0.9042\n",
            "Epoch 156/500\n",
            "422/422 [==============================] - 8s 19ms/step - loss: 0.2540 - sparse_categorical_accuracy: 0.9021 - val_loss: 0.2612 - val_sparse_categorical_accuracy: 0.9047\n",
            "Epoch 157/500\n",
            "422/422 [==============================] - 8s 18ms/step - loss: 0.2558 - sparse_categorical_accuracy: 0.9021 - val_loss: 0.2609 - val_sparse_categorical_accuracy: 0.9048\n",
            "Epoch 158/500\n",
            "422/422 [==============================] - 8s 19ms/step - loss: 0.2534 - sparse_categorical_accuracy: 0.9030 - val_loss: 0.2578 - val_sparse_categorical_accuracy: 0.9045\n",
            "Epoch 159/500\n",
            "422/422 [==============================] - 7s 17ms/step - loss: 0.2542 - sparse_categorical_accuracy: 0.9036 - val_loss: 0.2596 - val_sparse_categorical_accuracy: 0.9052\n",
            "Epoch 160/500\n",
            "422/422 [==============================] - 8s 20ms/step - loss: 0.2519 - sparse_categorical_accuracy: 0.9019 - val_loss: 0.2605 - val_sparse_categorical_accuracy: 0.9067\n",
            "Epoch 161/500\n",
            "422/422 [==============================] - 8s 20ms/step - loss: 0.2533 - sparse_categorical_accuracy: 0.9037 - val_loss: 0.2598 - val_sparse_categorical_accuracy: 0.9052\n",
            "Epoch 162/500\n",
            "422/422 [==============================] - 7s 17ms/step - loss: 0.2534 - sparse_categorical_accuracy: 0.9025 - val_loss: 0.2572 - val_sparse_categorical_accuracy: 0.9045\n",
            "Epoch 163/500\n",
            "422/422 [==============================] - 8s 19ms/step - loss: 0.2525 - sparse_categorical_accuracy: 0.9039 - val_loss: 0.2590 - val_sparse_categorical_accuracy: 0.9047\n",
            "Epoch 164/500\n",
            "422/422 [==============================] - 7s 17ms/step - loss: 0.2526 - sparse_categorical_accuracy: 0.9009 - val_loss: 0.2598 - val_sparse_categorical_accuracy: 0.9040\n",
            "Epoch 165/500\n",
            "422/422 [==============================] - 8s 20ms/step - loss: 0.2520 - sparse_categorical_accuracy: 0.9011 - val_loss: 0.2598 - val_sparse_categorical_accuracy: 0.9053\n",
            "Epoch 166/500\n",
            "422/422 [==============================] - 8s 19ms/step - loss: 0.2523 - sparse_categorical_accuracy: 0.9034 - val_loss: 0.2606 - val_sparse_categorical_accuracy: 0.9040\n",
            "Epoch 167/500\n",
            "422/422 [==============================] - 7s 17ms/step - loss: 0.2494 - sparse_categorical_accuracy: 0.9046 - val_loss: 0.2616 - val_sparse_categorical_accuracy: 0.9060\n",
            "Epoch 168/500\n",
            "422/422 [==============================] - 8s 20ms/step - loss: 0.2508 - sparse_categorical_accuracy: 0.9025 - val_loss: 0.2581 - val_sparse_categorical_accuracy: 0.9060\n",
            "Epoch 169/500\n",
            "422/422 [==============================] - 8s 20ms/step - loss: 0.2512 - sparse_categorical_accuracy: 0.9033 - val_loss: 0.2583 - val_sparse_categorical_accuracy: 0.9060\n",
            "Epoch 170/500\n",
            "422/422 [==============================] - 7s 17ms/step - loss: 0.2543 - sparse_categorical_accuracy: 0.9025 - val_loss: 0.2600 - val_sparse_categorical_accuracy: 0.9053\n",
            "Epoch 171/500\n",
            "422/422 [==============================] - 8s 19ms/step - loss: 0.2496 - sparse_categorical_accuracy: 0.9034 - val_loss: 0.2565 - val_sparse_categorical_accuracy: 0.9063\n",
            "Epoch 172/500\n",
            "422/422 [==============================] - 7s 17ms/step - loss: 0.2511 - sparse_categorical_accuracy: 0.9026 - val_loss: 0.2587 - val_sparse_categorical_accuracy: 0.9043\n",
            "Epoch 173/500\n",
            "422/422 [==============================] - 8s 20ms/step - loss: 0.2485 - sparse_categorical_accuracy: 0.9049 - val_loss: 0.2552 - val_sparse_categorical_accuracy: 0.9060\n",
            "Epoch 174/500\n",
            "422/422 [==============================] - 8s 20ms/step - loss: 0.2501 - sparse_categorical_accuracy: 0.9047 - val_loss: 0.2552 - val_sparse_categorical_accuracy: 0.9072\n",
            "Epoch 175/500\n",
            "422/422 [==============================] - 7s 18ms/step - loss: 0.2515 - sparse_categorical_accuracy: 0.9032 - val_loss: 0.2579 - val_sparse_categorical_accuracy: 0.9058\n",
            "Epoch 176/500\n",
            "422/422 [==============================] - 8s 20ms/step - loss: 0.2495 - sparse_categorical_accuracy: 0.9036 - val_loss: 0.2607 - val_sparse_categorical_accuracy: 0.9045\n",
            "Epoch 177/500\n",
            "422/422 [==============================] - 8s 20ms/step - loss: 0.2522 - sparse_categorical_accuracy: 0.9022 - val_loss: 0.2593 - val_sparse_categorical_accuracy: 0.9052\n",
            "Epoch 178/500\n",
            "422/422 [==============================] - 7s 17ms/step - loss: 0.2528 - sparse_categorical_accuracy: 0.9012 - val_loss: 0.2585 - val_sparse_categorical_accuracy: 0.9060\n",
            "Epoch 179/500\n",
            "422/422 [==============================] - 8s 20ms/step - loss: 0.2499 - sparse_categorical_accuracy: 0.9029 - val_loss: 0.2563 - val_sparse_categorical_accuracy: 0.9068\n",
            "Epoch 180/500\n",
            "422/422 [==============================] - 8s 18ms/step - loss: 0.2521 - sparse_categorical_accuracy: 0.9038 - val_loss: 0.2549 - val_sparse_categorical_accuracy: 0.9058\n",
            "Epoch 181/500\n",
            "422/422 [==============================] - 8s 19ms/step - loss: 0.2485 - sparse_categorical_accuracy: 0.9034 - val_loss: 0.2589 - val_sparse_categorical_accuracy: 0.9073\n",
            "Epoch 182/500\n",
            "422/422 [==============================] - 8s 20ms/step - loss: 0.2460 - sparse_categorical_accuracy: 0.9050 - val_loss: 0.2578 - val_sparse_categorical_accuracy: 0.9062\n",
            "Epoch 183/500\n",
            "422/422 [==============================] - 7s 17ms/step - loss: 0.2449 - sparse_categorical_accuracy: 0.9049 - val_loss: 0.2583 - val_sparse_categorical_accuracy: 0.9050\n",
            "Epoch 184/500\n",
            "422/422 [==============================] - 8s 20ms/step - loss: 0.2472 - sparse_categorical_accuracy: 0.9044 - val_loss: 0.2592 - val_sparse_categorical_accuracy: 0.9062\n",
            "Epoch 185/500\n",
            "422/422 [==============================] - 8s 20ms/step - loss: 0.2461 - sparse_categorical_accuracy: 0.9046 - val_loss: 0.2585 - val_sparse_categorical_accuracy: 0.9055\n",
            "Epoch 186/500\n",
            "422/422 [==============================] - 7s 18ms/step - loss: 0.2485 - sparse_categorical_accuracy: 0.9029 - val_loss: 0.2602 - val_sparse_categorical_accuracy: 0.9053\n",
            "Epoch 187/500\n",
            "422/422 [==============================] - 8s 20ms/step - loss: 0.2473 - sparse_categorical_accuracy: 0.9051 - val_loss: 0.2610 - val_sparse_categorical_accuracy: 0.9060\n",
            "Epoch 188/500\n",
            "422/422 [==============================] - 8s 18ms/step - loss: 0.2480 - sparse_categorical_accuracy: 0.9044 - val_loss: 0.2605 - val_sparse_categorical_accuracy: 0.9050\n",
            "Epoch 189/500\n",
            "422/422 [==============================] - 8s 18ms/step - loss: 0.2493 - sparse_categorical_accuracy: 0.9041 - val_loss: 0.2596 - val_sparse_categorical_accuracy: 0.9045\n",
            "Epoch 190/500\n",
            "422/422 [==============================] - 8s 19ms/step - loss: 0.2493 - sparse_categorical_accuracy: 0.9029 - val_loss: 0.2643 - val_sparse_categorical_accuracy: 0.9040\n",
            "Epoch 191/500\n",
            "422/422 [==============================] - 7s 17ms/step - loss: 0.2462 - sparse_categorical_accuracy: 0.9057 - val_loss: 0.2580 - val_sparse_categorical_accuracy: 0.9058\n",
            "Epoch 192/500\n",
            "422/422 [==============================] - 8s 19ms/step - loss: 0.2446 - sparse_categorical_accuracy: 0.9059 - val_loss: 0.2570 - val_sparse_categorical_accuracy: 0.9042\n",
            "Epoch 193/500\n",
            "422/422 [==============================] - 8s 18ms/step - loss: 0.2458 - sparse_categorical_accuracy: 0.9049 - val_loss: 0.2600 - val_sparse_categorical_accuracy: 0.9063\n",
            "Epoch 194/500\n",
            "422/422 [==============================] - 7s 18ms/step - loss: 0.2459 - sparse_categorical_accuracy: 0.9044 - val_loss: 0.2578 - val_sparse_categorical_accuracy: 0.9082\n",
            "Epoch 195/500\n",
            "422/422 [==============================] - 8s 20ms/step - loss: 0.2467 - sparse_categorical_accuracy: 0.9047 - val_loss: 0.2593 - val_sparse_categorical_accuracy: 0.9062\n",
            "Epoch 196/500\n",
            "422/422 [==============================] - 7s 17ms/step - loss: 0.2464 - sparse_categorical_accuracy: 0.9057 - val_loss: 0.2573 - val_sparse_categorical_accuracy: 0.9057\n",
            "Epoch 197/500\n",
            "422/422 [==============================] - 8s 20ms/step - loss: 0.2463 - sparse_categorical_accuracy: 0.9039 - val_loss: 0.2583 - val_sparse_categorical_accuracy: 0.9068\n",
            "Epoch 198/500\n",
            "422/422 [==============================] - 10s 23ms/step - loss: 0.2452 - sparse_categorical_accuracy: 0.9057 - val_loss: 0.2596 - val_sparse_categorical_accuracy: 0.9063\n",
            "Epoch 199/500\n",
            "422/422 [==============================] - 15s 34ms/step - loss: 0.2447 - sparse_categorical_accuracy: 0.9049 - val_loss: 0.2586 - val_sparse_categorical_accuracy: 0.9080\n",
            "Epoch 200/500\n",
            "422/422 [==============================] - 7s 17ms/step - loss: 0.2461 - sparse_categorical_accuracy: 0.9051 - val_loss: 0.2559 - val_sparse_categorical_accuracy: 0.9075\n",
            "Epoch 201/500\n",
            "422/422 [==============================] - 8s 19ms/step - loss: 0.2461 - sparse_categorical_accuracy: 0.9054 - val_loss: 0.2615 - val_sparse_categorical_accuracy: 0.9050\n",
            "Epoch 202/500\n",
            "422/422 [==============================] - 8s 20ms/step - loss: 0.2459 - sparse_categorical_accuracy: 0.9069 - val_loss: 0.2564 - val_sparse_categorical_accuracy: 0.9077\n",
            "Epoch 203/500\n",
            "422/422 [==============================] - 7s 17ms/step - loss: 0.2470 - sparse_categorical_accuracy: 0.9047 - val_loss: 0.2585 - val_sparse_categorical_accuracy: 0.9075\n",
            "Epoch 204/500\n",
            "422/422 [==============================] - 8s 19ms/step - loss: 0.2470 - sparse_categorical_accuracy: 0.9061 - val_loss: 0.2600 - val_sparse_categorical_accuracy: 0.9050\n",
            "Epoch 205/500\n",
            "422/422 [==============================] - 8s 18ms/step - loss: 0.2486 - sparse_categorical_accuracy: 0.9054 - val_loss: 0.2612 - val_sparse_categorical_accuracy: 0.9047\n",
            "Epoch 206/500\n",
            "422/422 [==============================] - 8s 18ms/step - loss: 0.2418 - sparse_categorical_accuracy: 0.9074 - val_loss: 0.2568 - val_sparse_categorical_accuracy: 0.9077\n",
            "Epoch 207/500\n",
            "422/422 [==============================] - 8s 20ms/step - loss: 0.2431 - sparse_categorical_accuracy: 0.9056 - val_loss: 0.2564 - val_sparse_categorical_accuracy: 0.9045\n",
            "Epoch 208/500\n",
            "422/422 [==============================] - 7s 18ms/step - loss: 0.2401 - sparse_categorical_accuracy: 0.9075 - val_loss: 0.2614 - val_sparse_categorical_accuracy: 0.9045\n",
            "Epoch 209/500\n",
            "422/422 [==============================] - 9s 20ms/step - loss: 0.2457 - sparse_categorical_accuracy: 0.9051 - val_loss: 0.2586 - val_sparse_categorical_accuracy: 0.9043\n",
            "Epoch 210/500\n",
            "422/422 [==============================] - 8s 20ms/step - loss: 0.2424 - sparse_categorical_accuracy: 0.9076 - val_loss: 0.2573 - val_sparse_categorical_accuracy: 0.9055\n",
            "Epoch 211/500\n",
            "422/422 [==============================] - 7s 17ms/step - loss: 0.2453 - sparse_categorical_accuracy: 0.9063 - val_loss: 0.2590 - val_sparse_categorical_accuracy: 0.9048\n",
            "Epoch 212/500\n",
            "422/422 [==============================] - 8s 20ms/step - loss: 0.2436 - sparse_categorical_accuracy: 0.9066 - val_loss: 0.2578 - val_sparse_categorical_accuracy: 0.9057\n",
            "Epoch 213/500\n",
            "422/422 [==============================] - 9s 20ms/step - loss: 0.2428 - sparse_categorical_accuracy: 0.9069 - val_loss: 0.2575 - val_sparse_categorical_accuracy: 0.9062\n",
            "Epoch 214/500\n",
            "422/422 [==============================] - 8s 19ms/step - loss: 0.2426 - sparse_categorical_accuracy: 0.9071 - val_loss: 0.2607 - val_sparse_categorical_accuracy: 0.9045\n",
            "Epoch 215/500\n",
            "422/422 [==============================] - 8s 20ms/step - loss: 0.2433 - sparse_categorical_accuracy: 0.9061 - val_loss: 0.2551 - val_sparse_categorical_accuracy: 0.9078\n",
            "Epoch 216/500\n",
            "422/422 [==============================] - 7s 17ms/step - loss: 0.2438 - sparse_categorical_accuracy: 0.9068 - val_loss: 0.2602 - val_sparse_categorical_accuracy: 0.9022\n",
            "Epoch 217/500\n",
            "422/422 [==============================] - 8s 20ms/step - loss: 0.2429 - sparse_categorical_accuracy: 0.9065 - val_loss: 0.2587 - val_sparse_categorical_accuracy: 0.9042\n",
            "Epoch 218/500\n",
            "422/422 [==============================] - 8s 20ms/step - loss: 0.2431 - sparse_categorical_accuracy: 0.9066 - val_loss: 0.2580 - val_sparse_categorical_accuracy: 0.9065\n",
            "Epoch 219/500\n",
            "422/422 [==============================] - 7s 18ms/step - loss: 0.2413 - sparse_categorical_accuracy: 0.9074 - val_loss: 0.2564 - val_sparse_categorical_accuracy: 0.9062\n",
            "Epoch 220/500\n",
            "422/422 [==============================] - 8s 20ms/step - loss: 0.2412 - sparse_categorical_accuracy: 0.9077 - val_loss: 0.2575 - val_sparse_categorical_accuracy: 0.9072\n",
            "Epoch 221/500\n",
            "422/422 [==============================] - 8s 19ms/step - loss: 0.2387 - sparse_categorical_accuracy: 0.9089 - val_loss: 0.2605 - val_sparse_categorical_accuracy: 0.9040\n",
            "Epoch 222/500\n",
            "422/422 [==============================] - 8s 18ms/step - loss: 0.2413 - sparse_categorical_accuracy: 0.9071 - val_loss: 0.2576 - val_sparse_categorical_accuracy: 0.9072\n",
            "Epoch 223/500\n",
            "422/422 [==============================] - 8s 19ms/step - loss: 0.2398 - sparse_categorical_accuracy: 0.9075 - val_loss: 0.2554 - val_sparse_categorical_accuracy: 0.9063\n",
            "Epoch 224/500\n",
            "422/422 [==============================] - 8s 18ms/step - loss: 0.2431 - sparse_categorical_accuracy: 0.9068 - val_loss: 0.2635 - val_sparse_categorical_accuracy: 0.9052\n",
            "Epoch 225/500\n",
            "422/422 [==============================] - 8s 19ms/step - loss: 0.2380 - sparse_categorical_accuracy: 0.9088 - val_loss: 0.2610 - val_sparse_categorical_accuracy: 0.9048\n",
            "Epoch 226/500\n",
            "422/422 [==============================] - 8s 20ms/step - loss: 0.2388 - sparse_categorical_accuracy: 0.9069 - val_loss: 0.2565 - val_sparse_categorical_accuracy: 0.9047\n",
            "Epoch 227/500\n",
            "422/422 [==============================] - 7s 17ms/step - loss: 0.2408 - sparse_categorical_accuracy: 0.9074 - val_loss: 0.2591 - val_sparse_categorical_accuracy: 0.9062\n",
            "Epoch 228/500\n",
            "422/422 [==============================] - 9s 20ms/step - loss: 0.2405 - sparse_categorical_accuracy: 0.9072 - val_loss: 0.2594 - val_sparse_categorical_accuracy: 0.9077\n",
            "Epoch 229/500\n",
            "422/422 [==============================] - 8s 19ms/step - loss: 0.2411 - sparse_categorical_accuracy: 0.9073 - val_loss: 0.2583 - val_sparse_categorical_accuracy: 0.9060\n",
            "Epoch 230/500\n",
            "422/422 [==============================] - 8s 19ms/step - loss: 0.2380 - sparse_categorical_accuracy: 0.9085 - val_loss: 0.2578 - val_sparse_categorical_accuracy: 0.9082\n",
            "Epoch 231/500\n",
            "422/422 [==============================] - 9s 20ms/step - loss: 0.2401 - sparse_categorical_accuracy: 0.9066 - val_loss: 0.2602 - val_sparse_categorical_accuracy: 0.9070\n",
            "Epoch 232/500\n",
            "422/422 [==============================] - 7s 17ms/step - loss: 0.2420 - sparse_categorical_accuracy: 0.9073 - val_loss: 0.2585 - val_sparse_categorical_accuracy: 0.9082\n",
            "Epoch 233/500\n",
            "422/422 [==============================] - 8s 20ms/step - loss: 0.2413 - sparse_categorical_accuracy: 0.9081 - val_loss: 0.2575 - val_sparse_categorical_accuracy: 0.9067\n",
            "Epoch 234/500\n",
            "422/422 [==============================] - 8s 20ms/step - loss: 0.2384 - sparse_categorical_accuracy: 0.9077 - val_loss: 0.2564 - val_sparse_categorical_accuracy: 0.9087\n",
            "Epoch 235/500\n",
            "422/422 [==============================] - 7s 17ms/step - loss: 0.2409 - sparse_categorical_accuracy: 0.9062 - val_loss: 0.2572 - val_sparse_categorical_accuracy: 0.9060\n",
            "Epoch 236/500\n",
            "422/422 [==============================] - 8s 20ms/step - loss: 0.2390 - sparse_categorical_accuracy: 0.9072 - val_loss: 0.2591 - val_sparse_categorical_accuracy: 0.9073\n",
            "Epoch 237/500\n",
            "422/422 [==============================] - 8s 19ms/step - loss: 0.2400 - sparse_categorical_accuracy: 0.9079 - val_loss: 0.2587 - val_sparse_categorical_accuracy: 0.9080\n",
            "Epoch 238/500\n",
            "422/422 [==============================] - 8s 19ms/step - loss: 0.2392 - sparse_categorical_accuracy: 0.9074 - val_loss: 0.2604 - val_sparse_categorical_accuracy: 0.9043\n",
            "Epoch 239/500\n",
            "422/422 [==============================] - 9s 20ms/step - loss: 0.2388 - sparse_categorical_accuracy: 0.9071 - val_loss: 0.2553 - val_sparse_categorical_accuracy: 0.9068\n",
            "Epoch 240/500\n",
            "422/422 [==============================] - 7s 17ms/step - loss: 0.2383 - sparse_categorical_accuracy: 0.9087 - val_loss: 0.2605 - val_sparse_categorical_accuracy: 0.9063\n",
            "Epoch 241/500\n",
            "422/422 [==============================] - 8s 20ms/step - loss: 0.2393 - sparse_categorical_accuracy: 0.9071 - val_loss: 0.2589 - val_sparse_categorical_accuracy: 0.9068\n",
            "Epoch 242/500\n",
            "422/422 [==============================] - 8s 20ms/step - loss: 0.2400 - sparse_categorical_accuracy: 0.9084 - val_loss: 0.2555 - val_sparse_categorical_accuracy: 0.9055\n",
            "Epoch 243/500\n",
            "422/422 [==============================] - 7s 18ms/step - loss: 0.2404 - sparse_categorical_accuracy: 0.9074 - val_loss: 0.2591 - val_sparse_categorical_accuracy: 0.9040\n",
            "Epoch 244/500\n",
            "422/422 [==============================] - 8s 20ms/step - loss: 0.2380 - sparse_categorical_accuracy: 0.9082 - val_loss: 0.2592 - val_sparse_categorical_accuracy: 0.9065\n",
            "Epoch 245/500\n",
            "422/422 [==============================] - 8s 19ms/step - loss: 0.2366 - sparse_categorical_accuracy: 0.9082 - val_loss: 0.2573 - val_sparse_categorical_accuracy: 0.9050\n",
            "Epoch 246/500\n",
            "422/422 [==============================] - 8s 19ms/step - loss: 0.2375 - sparse_categorical_accuracy: 0.9096 - val_loss: 0.2606 - val_sparse_categorical_accuracy: 0.9053\n",
            "Epoch 247/500\n",
            "422/422 [==============================] - 9s 20ms/step - loss: 0.2393 - sparse_categorical_accuracy: 0.9072 - val_loss: 0.2576 - val_sparse_categorical_accuracy: 0.9068\n",
            "Epoch 248/500\n",
            "422/422 [==============================] - 7s 17ms/step - loss: 0.2362 - sparse_categorical_accuracy: 0.9087 - val_loss: 0.2562 - val_sparse_categorical_accuracy: 0.9087\n",
            "Epoch 249/500\n",
            "422/422 [==============================] - 9s 20ms/step - loss: 0.2382 - sparse_categorical_accuracy: 0.9065 - val_loss: 0.2587 - val_sparse_categorical_accuracy: 0.9073\n",
            "Epoch 250/500\n",
            "422/422 [==============================] - 8s 20ms/step - loss: 0.2404 - sparse_categorical_accuracy: 0.9083 - val_loss: 0.2543 - val_sparse_categorical_accuracy: 0.9075\n",
            "Epoch 251/500\n",
            "422/422 [==============================] - 7s 18ms/step - loss: 0.2384 - sparse_categorical_accuracy: 0.9074 - val_loss: 0.2568 - val_sparse_categorical_accuracy: 0.9075\n",
            "Epoch 252/500\n",
            "422/422 [==============================] - 8s 20ms/step - loss: 0.2410 - sparse_categorical_accuracy: 0.9083 - val_loss: 0.2546 - val_sparse_categorical_accuracy: 0.9070\n",
            "Epoch 253/500\n",
            "422/422 [==============================] - 9s 20ms/step - loss: 0.2380 - sparse_categorical_accuracy: 0.9077 - val_loss: 0.2568 - val_sparse_categorical_accuracy: 0.9070\n",
            "Epoch 254/500\n",
            "422/422 [==============================] - 8s 18ms/step - loss: 0.2393 - sparse_categorical_accuracy: 0.9076 - val_loss: 0.2570 - val_sparse_categorical_accuracy: 0.9080\n",
            "Epoch 255/500\n",
            "422/422 [==============================] - 8s 20ms/step - loss: 0.2357 - sparse_categorical_accuracy: 0.9093 - val_loss: 0.2572 - val_sparse_categorical_accuracy: 0.9050\n",
            "Epoch 256/500\n",
            "422/422 [==============================] - 8s 18ms/step - loss: 0.2364 - sparse_categorical_accuracy: 0.9090 - val_loss: 0.2586 - val_sparse_categorical_accuracy: 0.9063\n",
            "Epoch 257/500\n",
            "422/422 [==============================] - 8s 19ms/step - loss: 0.2403 - sparse_categorical_accuracy: 0.9052 - val_loss: 0.2550 - val_sparse_categorical_accuracy: 0.9092\n",
            "Epoch 258/500\n",
            "422/422 [==============================] - 8s 20ms/step - loss: 0.2368 - sparse_categorical_accuracy: 0.9086 - val_loss: 0.2579 - val_sparse_categorical_accuracy: 0.9042\n",
            "Epoch 259/500\n",
            "422/422 [==============================] - 7s 17ms/step - loss: 0.2323 - sparse_categorical_accuracy: 0.9100 - val_loss: 0.2553 - val_sparse_categorical_accuracy: 0.9075\n",
            "Epoch 260/500\n",
            "422/422 [==============================] - 8s 20ms/step - loss: 0.2383 - sparse_categorical_accuracy: 0.9083 - val_loss: 0.2569 - val_sparse_categorical_accuracy: 0.9068\n",
            "Epoch 261/500\n",
            "422/422 [==============================] - 8s 20ms/step - loss: 0.2431 - sparse_categorical_accuracy: 0.9076 - val_loss: 0.2562 - val_sparse_categorical_accuracy: 0.9080\n",
            "Epoch 262/500\n",
            "422/422 [==============================] - 7s 18ms/step - loss: 0.2339 - sparse_categorical_accuracy: 0.9097 - val_loss: 0.2539 - val_sparse_categorical_accuracy: 0.9083\n",
            "Epoch 263/500\n",
            "422/422 [==============================] - 8s 20ms/step - loss: 0.2327 - sparse_categorical_accuracy: 0.9101 - val_loss: 0.2561 - val_sparse_categorical_accuracy: 0.9057\n",
            "Epoch 264/500\n",
            "422/422 [==============================] - 7s 17ms/step - loss: 0.2349 - sparse_categorical_accuracy: 0.9096 - val_loss: 0.2533 - val_sparse_categorical_accuracy: 0.9085\n",
            "Epoch 265/500\n",
            "422/422 [==============================] - 8s 20ms/step - loss: 0.2327 - sparse_categorical_accuracy: 0.9105 - val_loss: 0.2566 - val_sparse_categorical_accuracy: 0.9068\n",
            "Epoch 266/500\n",
            "422/422 [==============================] - 8s 20ms/step - loss: 0.2338 - sparse_categorical_accuracy: 0.9096 - val_loss: 0.2547 - val_sparse_categorical_accuracy: 0.9097\n",
            "Epoch 267/500\n",
            "422/422 [==============================] - 7s 18ms/step - loss: 0.2386 - sparse_categorical_accuracy: 0.9077 - val_loss: 0.2538 - val_sparse_categorical_accuracy: 0.9093\n",
            "Epoch 268/500\n",
            "422/422 [==============================] - 9s 20ms/step - loss: 0.2353 - sparse_categorical_accuracy: 0.9101 - val_loss: 0.2551 - val_sparse_categorical_accuracy: 0.9075\n",
            "Epoch 269/500\n",
            "422/422 [==============================] - 9s 21ms/step - loss: 0.2361 - sparse_categorical_accuracy: 0.9089 - val_loss: 0.2548 - val_sparse_categorical_accuracy: 0.9095\n",
            "Epoch 270/500\n",
            "422/422 [==============================] - 7s 17ms/step - loss: 0.2361 - sparse_categorical_accuracy: 0.9094 - val_loss: 0.2565 - val_sparse_categorical_accuracy: 0.9078\n",
            "Epoch 271/500\n",
            "422/422 [==============================] - 8s 20ms/step - loss: 0.2350 - sparse_categorical_accuracy: 0.9080 - val_loss: 0.2576 - val_sparse_categorical_accuracy: 0.9055\n",
            "Epoch 272/500\n",
            "422/422 [==============================] - 8s 19ms/step - loss: 0.2368 - sparse_categorical_accuracy: 0.9081 - val_loss: 0.2537 - val_sparse_categorical_accuracy: 0.9082\n",
            "Epoch 273/500\n",
            "422/422 [==============================] - 8s 19ms/step - loss: 0.2375 - sparse_categorical_accuracy: 0.9086 - val_loss: 0.2527 - val_sparse_categorical_accuracy: 0.9087\n",
            "Epoch 274/500\n",
            "422/422 [==============================] - 8s 20ms/step - loss: 0.2359 - sparse_categorical_accuracy: 0.9086 - val_loss: 0.2528 - val_sparse_categorical_accuracy: 0.9055\n",
            "Epoch 275/500\n",
            "422/422 [==============================] - 8s 18ms/step - loss: 0.2340 - sparse_categorical_accuracy: 0.9101 - val_loss: 0.2553 - val_sparse_categorical_accuracy: 0.9052\n",
            "Epoch 276/500\n",
            "422/422 [==============================] - 9s 20ms/step - loss: 0.2310 - sparse_categorical_accuracy: 0.9100 - val_loss: 0.2556 - val_sparse_categorical_accuracy: 0.9087\n",
            "Epoch 277/500\n",
            "422/422 [==============================] - 8s 20ms/step - loss: 0.2364 - sparse_categorical_accuracy: 0.9085 - val_loss: 0.2553 - val_sparse_categorical_accuracy: 0.9070\n",
            "Epoch 278/500\n",
            "422/422 [==============================] - 7s 18ms/step - loss: 0.2358 - sparse_categorical_accuracy: 0.9082 - val_loss: 0.2557 - val_sparse_categorical_accuracy: 0.9098\n",
            "Epoch 279/500\n",
            "422/422 [==============================] - 8s 20ms/step - loss: 0.2339 - sparse_categorical_accuracy: 0.9101 - val_loss: 0.2543 - val_sparse_categorical_accuracy: 0.9075\n",
            "Epoch 280/500\n",
            "422/422 [==============================] - 8s 19ms/step - loss: 0.2377 - sparse_categorical_accuracy: 0.9088 - val_loss: 0.2568 - val_sparse_categorical_accuracy: 0.9072\n",
            "Epoch 281/500\n",
            "422/422 [==============================] - 8s 18ms/step - loss: 0.2333 - sparse_categorical_accuracy: 0.9097 - val_loss: 0.2578 - val_sparse_categorical_accuracy: 0.9027\n",
            "Epoch 282/500\n",
            "422/422 [==============================] - 8s 20ms/step - loss: 0.2328 - sparse_categorical_accuracy: 0.9095 - val_loss: 0.2560 - val_sparse_categorical_accuracy: 0.9027\n",
            "Epoch 283/500\n",
            "422/422 [==============================] - 8s 18ms/step - loss: 0.2346 - sparse_categorical_accuracy: 0.9099 - val_loss: 0.2558 - val_sparse_categorical_accuracy: 0.9062\n",
            "Epoch 284/500\n",
            "422/422 [==============================] - 9s 20ms/step - loss: 0.2341 - sparse_categorical_accuracy: 0.9096 - val_loss: 0.2551 - val_sparse_categorical_accuracy: 0.9072\n",
            "Epoch 285/500\n",
            "422/422 [==============================] - 9s 20ms/step - loss: 0.2337 - sparse_categorical_accuracy: 0.9089 - val_loss: 0.2594 - val_sparse_categorical_accuracy: 0.9073\n",
            "Epoch 286/500\n",
            "422/422 [==============================] - 7s 18ms/step - loss: 0.2352 - sparse_categorical_accuracy: 0.9094 - val_loss: 0.2543 - val_sparse_categorical_accuracy: 0.9060\n",
            "Epoch 287/500\n",
            "422/422 [==============================] - 8s 20ms/step - loss: 0.2351 - sparse_categorical_accuracy: 0.9092 - val_loss: 0.2552 - val_sparse_categorical_accuracy: 0.9078\n",
            "Epoch 288/500\n",
            "422/422 [==============================] - 8s 19ms/step - loss: 0.2336 - sparse_categorical_accuracy: 0.9104 - val_loss: 0.2568 - val_sparse_categorical_accuracy: 0.9085\n",
            "Epoch 289/500\n",
            "422/422 [==============================] - 8s 19ms/step - loss: 0.2336 - sparse_categorical_accuracy: 0.9098 - val_loss: 0.2544 - val_sparse_categorical_accuracy: 0.9100\n",
            "Epoch 290/500\n",
            "422/422 [==============================] - 9s 21ms/step - loss: 0.2327 - sparse_categorical_accuracy: 0.9099 - val_loss: 0.2559 - val_sparse_categorical_accuracy: 0.9080\n",
            "Epoch 291/500\n",
            "422/422 [==============================] - 8s 18ms/step - loss: 0.2405 - sparse_categorical_accuracy: 0.9069 - val_loss: 0.2591 - val_sparse_categorical_accuracy: 0.9075\n",
            "Epoch 292/500\n",
            "422/422 [==============================] - 9s 20ms/step - loss: 0.2328 - sparse_categorical_accuracy: 0.9107 - val_loss: 0.2572 - val_sparse_categorical_accuracy: 0.9067\n",
            "Epoch 293/500\n",
            "422/422 [==============================] - 9s 20ms/step - loss: 0.2342 - sparse_categorical_accuracy: 0.9098 - val_loss: 0.2567 - val_sparse_categorical_accuracy: 0.9077\n",
            "Epoch 294/500\n",
            "422/422 [==============================] - 7s 18ms/step - loss: 0.2317 - sparse_categorical_accuracy: 0.9105 - val_loss: 0.2581 - val_sparse_categorical_accuracy: 0.9077\n",
            "Epoch 295/500\n",
            "422/422 [==============================] - 8s 20ms/step - loss: 0.2307 - sparse_categorical_accuracy: 0.9092 - val_loss: 0.2570 - val_sparse_categorical_accuracy: 0.9062\n",
            "Epoch 296/500\n",
            "422/422 [==============================] - 8s 20ms/step - loss: 0.2323 - sparse_categorical_accuracy: 0.9099 - val_loss: 0.2538 - val_sparse_categorical_accuracy: 0.9083\n",
            "Epoch 297/500\n",
            "422/422 [==============================] - 7s 18ms/step - loss: 0.2326 - sparse_categorical_accuracy: 0.9097 - val_loss: 0.2591 - val_sparse_categorical_accuracy: 0.9077\n",
            "Epoch 298/500\n",
            "422/422 [==============================] - 8s 20ms/step - loss: 0.2330 - sparse_categorical_accuracy: 0.9106 - val_loss: 0.2537 - val_sparse_categorical_accuracy: 0.9065\n",
            "Epoch 299/500\n",
            "422/422 [==============================] - 7s 17ms/step - loss: 0.2327 - sparse_categorical_accuracy: 0.9104 - val_loss: 0.2569 - val_sparse_categorical_accuracy: 0.9073\n",
            "Epoch 300/500\n",
            "422/422 [==============================] - 8s 20ms/step - loss: 0.2323 - sparse_categorical_accuracy: 0.9109 - val_loss: 0.2571 - val_sparse_categorical_accuracy: 0.9065\n",
            "Epoch 301/500\n",
            "422/422 [==============================] - 8s 20ms/step - loss: 0.2346 - sparse_categorical_accuracy: 0.9100 - val_loss: 0.2549 - val_sparse_categorical_accuracy: 0.9058\n",
            "Epoch 302/500\n",
            "422/422 [==============================] - 8s 18ms/step - loss: 0.2354 - sparse_categorical_accuracy: 0.9095 - val_loss: 0.2571 - val_sparse_categorical_accuracy: 0.9075\n",
            "Epoch 303/500\n",
            "422/422 [==============================] - 8s 20ms/step - loss: 0.2321 - sparse_categorical_accuracy: 0.9109 - val_loss: 0.2549 - val_sparse_categorical_accuracy: 0.9078\n",
            "Epoch 304/500\n",
            "422/422 [==============================] - 8s 20ms/step - loss: 0.2337 - sparse_categorical_accuracy: 0.9096 - val_loss: 0.2549 - val_sparse_categorical_accuracy: 0.9063\n",
            "Epoch 305/500\n",
            "422/422 [==============================] - 7s 18ms/step - loss: 0.2307 - sparse_categorical_accuracy: 0.9110 - val_loss: 0.2535 - val_sparse_categorical_accuracy: 0.9063\n",
            "Epoch 306/500\n",
            "422/422 [==============================] - 9s 20ms/step - loss: 0.2289 - sparse_categorical_accuracy: 0.9115 - val_loss: 0.2566 - val_sparse_categorical_accuracy: 0.9063\n",
            "Epoch 307/500\n",
            "422/422 [==============================] - 8s 19ms/step - loss: 0.2292 - sparse_categorical_accuracy: 0.9119 - val_loss: 0.2521 - val_sparse_categorical_accuracy: 0.9085\n",
            "Epoch 308/500\n",
            "422/422 [==============================] - 8s 19ms/step - loss: 0.2309 - sparse_categorical_accuracy: 0.9111 - val_loss: 0.2525 - val_sparse_categorical_accuracy: 0.9068\n",
            "Epoch 309/500\n",
            "422/422 [==============================] - 8s 20ms/step - loss: 0.2314 - sparse_categorical_accuracy: 0.9109 - val_loss: 0.2533 - val_sparse_categorical_accuracy: 0.9055\n",
            "Epoch 310/500\n",
            "422/422 [==============================] - 8s 18ms/step - loss: 0.2308 - sparse_categorical_accuracy: 0.9124 - val_loss: 0.2531 - val_sparse_categorical_accuracy: 0.9045\n",
            "Epoch 311/500\n",
            "422/422 [==============================] - 9s 20ms/step - loss: 0.2319 - sparse_categorical_accuracy: 0.9117 - val_loss: 0.2527 - val_sparse_categorical_accuracy: 0.9072\n",
            "Epoch 312/500\n",
            "422/422 [==============================] - 8s 20ms/step - loss: 0.2332 - sparse_categorical_accuracy: 0.9102 - val_loss: 0.2537 - val_sparse_categorical_accuracy: 0.9080\n",
            "Epoch 313/500\n",
            "422/422 [==============================] - 7s 18ms/step - loss: 0.2314 - sparse_categorical_accuracy: 0.9104 - val_loss: 0.2547 - val_sparse_categorical_accuracy: 0.9063\n",
            "Epoch 314/500\n",
            "422/422 [==============================] - 8s 20ms/step - loss: 0.2358 - sparse_categorical_accuracy: 0.9104 - val_loss: 0.2572 - val_sparse_categorical_accuracy: 0.9067\n",
            "Epoch 315/500\n",
            "422/422 [==============================] - 8s 19ms/step - loss: 0.2316 - sparse_categorical_accuracy: 0.9113 - val_loss: 0.2591 - val_sparse_categorical_accuracy: 0.9065\n",
            "Epoch 316/500\n",
            "422/422 [==============================] - 8s 19ms/step - loss: 0.2327 - sparse_categorical_accuracy: 0.9107 - val_loss: 0.2564 - val_sparse_categorical_accuracy: 0.9052\n",
            "Epoch 317/500\n",
            "422/422 [==============================] - 9s 20ms/step - loss: 0.2314 - sparse_categorical_accuracy: 0.9102 - val_loss: 0.2569 - val_sparse_categorical_accuracy: 0.9053\n",
            "Epoch 318/500\n",
            "422/422 [==============================] - 8s 18ms/step - loss: 0.2305 - sparse_categorical_accuracy: 0.9118 - val_loss: 0.2591 - val_sparse_categorical_accuracy: 0.9047\n",
            "Epoch 319/500\n",
            "422/422 [==============================] - 9s 21ms/step - loss: 0.2309 - sparse_categorical_accuracy: 0.9113 - val_loss: 0.2579 - val_sparse_categorical_accuracy: 0.9055\n",
            "Epoch 320/500\n",
            "422/422 [==============================] - 9s 21ms/step - loss: 0.2316 - sparse_categorical_accuracy: 0.9098 - val_loss: 0.2544 - val_sparse_categorical_accuracy: 0.9062\n",
            "Epoch 321/500\n",
            "422/422 [==============================] - 8s 18ms/step - loss: 0.2335 - sparse_categorical_accuracy: 0.9098 - val_loss: 0.2590 - val_sparse_categorical_accuracy: 0.9048\n",
            "Epoch 322/500\n",
            "422/422 [==============================] - 8s 20ms/step - loss: 0.2314 - sparse_categorical_accuracy: 0.9122 - val_loss: 0.2560 - val_sparse_categorical_accuracy: 0.9060\n",
            "Epoch 323/500\n",
            "422/422 [==============================] - 9s 20ms/step - loss: 0.2290 - sparse_categorical_accuracy: 0.9116 - val_loss: 0.2566 - val_sparse_categorical_accuracy: 0.9065\n",
            "Epoch 324/500\n",
            "422/422 [==============================] - 7s 18ms/step - loss: 0.2326 - sparse_categorical_accuracy: 0.9103 - val_loss: 0.2568 - val_sparse_categorical_accuracy: 0.9065\n",
            "Epoch 325/500\n",
            "422/422 [==============================] - 9s 20ms/step - loss: 0.2322 - sparse_categorical_accuracy: 0.9116 - val_loss: 0.2566 - val_sparse_categorical_accuracy: 0.9047\n",
            "Epoch 326/500\n",
            "422/422 [==============================] - 8s 19ms/step - loss: 0.2292 - sparse_categorical_accuracy: 0.9108 - val_loss: 0.2590 - val_sparse_categorical_accuracy: 0.9033\n",
            "Epoch 327/500\n",
            "422/422 [==============================] - 8s 19ms/step - loss: 0.2303 - sparse_categorical_accuracy: 0.9103 - val_loss: 0.2572 - val_sparse_categorical_accuracy: 0.9045\n",
            "Epoch 328/500\n",
            "422/422 [==============================] - 9s 20ms/step - loss: 0.2291 - sparse_categorical_accuracy: 0.9111 - val_loss: 0.2558 - val_sparse_categorical_accuracy: 0.9053\n",
            "Epoch 329/500\n",
            "422/422 [==============================] - 7s 18ms/step - loss: 0.2291 - sparse_categorical_accuracy: 0.9132 - val_loss: 0.2559 - val_sparse_categorical_accuracy: 0.9042\n",
            "Epoch 330/500\n",
            "422/422 [==============================] - 8s 20ms/step - loss: 0.2315 - sparse_categorical_accuracy: 0.9108 - val_loss: 0.2547 - val_sparse_categorical_accuracy: 0.9090\n",
            "Epoch 331/500\n",
            "422/422 [==============================] - 8s 20ms/step - loss: 0.2319 - sparse_categorical_accuracy: 0.9106 - val_loss: 0.2559 - val_sparse_categorical_accuracy: 0.9050\n",
            "Epoch 332/500\n",
            "422/422 [==============================] - 8s 19ms/step - loss: 0.2292 - sparse_categorical_accuracy: 0.9108 - val_loss: 0.2574 - val_sparse_categorical_accuracy: 0.9083\n",
            "Epoch 333/500\n",
            "422/422 [==============================] - 9s 21ms/step - loss: 0.2279 - sparse_categorical_accuracy: 0.9117 - val_loss: 0.2559 - val_sparse_categorical_accuracy: 0.9085\n",
            "Epoch 334/500\n",
            "422/422 [==============================] - 8s 20ms/step - loss: 0.2273 - sparse_categorical_accuracy: 0.9128 - val_loss: 0.2562 - val_sparse_categorical_accuracy: 0.9060\n",
            "Epoch 335/500\n",
            "422/422 [==============================] - 8s 19ms/step - loss: 0.2302 - sparse_categorical_accuracy: 0.9105 - val_loss: 0.2555 - val_sparse_categorical_accuracy: 0.9067\n",
            "Epoch 336/500\n",
            "422/422 [==============================] - 9s 20ms/step - loss: 0.2289 - sparse_categorical_accuracy: 0.9114 - val_loss: 0.2553 - val_sparse_categorical_accuracy: 0.9088\n",
            "Epoch 337/500\n",
            "422/422 [==============================] - 8s 18ms/step - loss: 0.2292 - sparse_categorical_accuracy: 0.9112 - val_loss: 0.2535 - val_sparse_categorical_accuracy: 0.9067\n",
            "Epoch 338/500\n",
            "422/422 [==============================] - 8s 19ms/step - loss: 0.2294 - sparse_categorical_accuracy: 0.9111 - val_loss: 0.2504 - val_sparse_categorical_accuracy: 0.9090\n",
            "Epoch 339/500\n",
            "422/422 [==============================] - 9s 21ms/step - loss: 0.2274 - sparse_categorical_accuracy: 0.9111 - val_loss: 0.2567 - val_sparse_categorical_accuracy: 0.9050\n",
            "Epoch 340/500\n",
            "422/422 [==============================] - 8s 18ms/step - loss: 0.2266 - sparse_categorical_accuracy: 0.9122 - val_loss: 0.2540 - val_sparse_categorical_accuracy: 0.9083\n",
            "Epoch 341/500\n",
            "422/422 [==============================] - 9s 20ms/step - loss: 0.2296 - sparse_categorical_accuracy: 0.9126 - val_loss: 0.2555 - val_sparse_categorical_accuracy: 0.9080\n",
            "Epoch 342/500\n",
            "422/422 [==============================] - 8s 20ms/step - loss: 0.2267 - sparse_categorical_accuracy: 0.9129 - val_loss: 0.2551 - val_sparse_categorical_accuracy: 0.9065\n",
            "Epoch 343/500\n",
            "422/422 [==============================] - 7s 18ms/step - loss: 0.2270 - sparse_categorical_accuracy: 0.9126 - val_loss: 0.2540 - val_sparse_categorical_accuracy: 0.9100\n",
            "Epoch 344/500\n",
            "422/422 [==============================] - 9s 20ms/step - loss: 0.2268 - sparse_categorical_accuracy: 0.9126 - val_loss: 0.2553 - val_sparse_categorical_accuracy: 0.9048\n",
            "Epoch 345/500\n",
            "422/422 [==============================] - 8s 19ms/step - loss: 0.2267 - sparse_categorical_accuracy: 0.9114 - val_loss: 0.2541 - val_sparse_categorical_accuracy: 0.9063\n",
            "Epoch 346/500\n",
            "422/422 [==============================] - 8s 19ms/step - loss: 0.2299 - sparse_categorical_accuracy: 0.9106 - val_loss: 0.2551 - val_sparse_categorical_accuracy: 0.9077\n",
            "Epoch 347/500\n",
            "422/422 [==============================] - 9s 21ms/step - loss: 0.2258 - sparse_categorical_accuracy: 0.9132 - val_loss: 0.2568 - val_sparse_categorical_accuracy: 0.9088\n",
            "Epoch 348/500\n",
            "422/422 [==============================] - 8s 18ms/step - loss: 0.2294 - sparse_categorical_accuracy: 0.9109 - val_loss: 0.2572 - val_sparse_categorical_accuracy: 0.9077\n",
            "Epoch 349/500\n",
            "422/422 [==============================] - 9s 21ms/step - loss: 0.2286 - sparse_categorical_accuracy: 0.9128 - val_loss: 0.2571 - val_sparse_categorical_accuracy: 0.9090\n",
            "Epoch 350/500\n",
            "422/422 [==============================] - 9s 21ms/step - loss: 0.2267 - sparse_categorical_accuracy: 0.9128 - val_loss: 0.2535 - val_sparse_categorical_accuracy: 0.9093\n",
            "Epoch 351/500\n",
            "422/422 [==============================] - 8s 18ms/step - loss: 0.2281 - sparse_categorical_accuracy: 0.9110 - val_loss: 0.2578 - val_sparse_categorical_accuracy: 0.9058\n",
            "Epoch 352/500\n",
            "422/422 [==============================] - 9s 21ms/step - loss: 0.2282 - sparse_categorical_accuracy: 0.9120 - val_loss: 0.2547 - val_sparse_categorical_accuracy: 0.9068\n",
            "Epoch 353/500\n",
            "422/422 [==============================] - 9s 21ms/step - loss: 0.2260 - sparse_categorical_accuracy: 0.9123 - val_loss: 0.2517 - val_sparse_categorical_accuracy: 0.9090\n",
            "Epoch 354/500\n",
            "422/422 [==============================] - 8s 18ms/step - loss: 0.2278 - sparse_categorical_accuracy: 0.9122 - val_loss: 0.2569 - val_sparse_categorical_accuracy: 0.9067\n",
            "Epoch 355/500\n",
            "422/422 [==============================] - 9s 21ms/step - loss: 0.2273 - sparse_categorical_accuracy: 0.9113 - val_loss: 0.2589 - val_sparse_categorical_accuracy: 0.9058\n",
            "Epoch 356/500\n",
            "422/422 [==============================] - 8s 19ms/step - loss: 0.2261 - sparse_categorical_accuracy: 0.9117 - val_loss: 0.2594 - val_sparse_categorical_accuracy: 0.9070\n",
            "Epoch 357/500\n",
            "422/422 [==============================] - 8s 19ms/step - loss: 0.2295 - sparse_categorical_accuracy: 0.9124 - val_loss: 0.2600 - val_sparse_categorical_accuracy: 0.9068\n",
            "Epoch 358/500\n",
            "422/422 [==============================] - 9s 20ms/step - loss: 0.2279 - sparse_categorical_accuracy: 0.9114 - val_loss: 0.2553 - val_sparse_categorical_accuracy: 0.9103\n",
            "Epoch 359/500\n",
            "422/422 [==============================] - 8s 18ms/step - loss: 0.2288 - sparse_categorical_accuracy: 0.9128 - val_loss: 0.2611 - val_sparse_categorical_accuracy: 0.9053\n",
            "Epoch 360/500\n",
            "422/422 [==============================] - 9s 20ms/step - loss: 0.2319 - sparse_categorical_accuracy: 0.9096 - val_loss: 0.2579 - val_sparse_categorical_accuracy: 0.9058\n",
            "Epoch 361/500\n",
            "422/422 [==============================] - 9s 21ms/step - loss: 0.2267 - sparse_categorical_accuracy: 0.9119 - val_loss: 0.2588 - val_sparse_categorical_accuracy: 0.9067\n",
            "Epoch 362/500\n",
            "422/422 [==============================] - 8s 18ms/step - loss: 0.2273 - sparse_categorical_accuracy: 0.9134 - val_loss: 0.2583 - val_sparse_categorical_accuracy: 0.9105\n",
            "Epoch 363/500\n",
            "422/422 [==============================] - 9s 21ms/step - loss: 0.2273 - sparse_categorical_accuracy: 0.9123 - val_loss: 0.2550 - val_sparse_categorical_accuracy: 0.9088\n",
            "Epoch 364/500\n",
            "422/422 [==============================] - 9s 21ms/step - loss: 0.2254 - sparse_categorical_accuracy: 0.9112 - val_loss: 0.2581 - val_sparse_categorical_accuracy: 0.9093\n",
            "Epoch 365/500\n",
            "422/422 [==============================] - 8s 18ms/step - loss: 0.2233 - sparse_categorical_accuracy: 0.9142 - val_loss: 0.2575 - val_sparse_categorical_accuracy: 0.9092\n",
            "Epoch 366/500\n",
            "422/422 [==============================] - 9s 20ms/step - loss: 0.2260 - sparse_categorical_accuracy: 0.9133 - val_loss: 0.2546 - val_sparse_categorical_accuracy: 0.9100\n",
            "Epoch 367/500\n",
            "422/422 [==============================] - 8s 19ms/step - loss: 0.2264 - sparse_categorical_accuracy: 0.9126 - val_loss: 0.2549 - val_sparse_categorical_accuracy: 0.9090\n",
            "Epoch 368/500\n",
            "422/422 [==============================] - 8s 20ms/step - loss: 0.2251 - sparse_categorical_accuracy: 0.9139 - val_loss: 0.2550 - val_sparse_categorical_accuracy: 0.9085\n",
            "Epoch 369/500\n",
            "422/422 [==============================] - 9s 21ms/step - loss: 0.2247 - sparse_categorical_accuracy: 0.9139 - val_loss: 0.2562 - val_sparse_categorical_accuracy: 0.9068\n",
            "Epoch 370/500\n",
            "422/422 [==============================] - 8s 18ms/step - loss: 0.2268 - sparse_categorical_accuracy: 0.9121 - val_loss: 0.2552 - val_sparse_categorical_accuracy: 0.9090\n",
            "Epoch 371/500\n",
            "422/422 [==============================] - 9s 21ms/step - loss: 0.2237 - sparse_categorical_accuracy: 0.9144 - val_loss: 0.2587 - val_sparse_categorical_accuracy: 0.9067\n",
            "Epoch 372/500\n",
            "422/422 [==============================] - 9s 21ms/step - loss: 0.2264 - sparse_categorical_accuracy: 0.9120 - val_loss: 0.2576 - val_sparse_categorical_accuracy: 0.9068\n",
            "Epoch 373/500\n",
            "422/422 [==============================] - 8s 18ms/step - loss: 0.2268 - sparse_categorical_accuracy: 0.9122 - val_loss: 0.2558 - val_sparse_categorical_accuracy: 0.9082\n",
            "Epoch 374/500\n",
            "422/422 [==============================] - 9s 20ms/step - loss: 0.2291 - sparse_categorical_accuracy: 0.9107 - val_loss: 0.2583 - val_sparse_categorical_accuracy: 0.9062\n",
            "Epoch 375/500\n",
            "422/422 [==============================] - 8s 20ms/step - loss: 0.2260 - sparse_categorical_accuracy: 0.9117 - val_loss: 0.2614 - val_sparse_categorical_accuracy: 0.9065\n",
            "Epoch 376/500\n",
            "422/422 [==============================] - 8s 18ms/step - loss: 0.2278 - sparse_categorical_accuracy: 0.9119 - val_loss: 0.2554 - val_sparse_categorical_accuracy: 0.9080\n",
            "Epoch 377/500\n",
            "422/422 [==============================] - 9s 21ms/step - loss: 0.2228 - sparse_categorical_accuracy: 0.9146 - val_loss: 0.2579 - val_sparse_categorical_accuracy: 0.9080\n",
            "Epoch 378/500\n",
            "422/422 [==============================] - 8s 20ms/step - loss: 0.2274 - sparse_categorical_accuracy: 0.9138 - val_loss: 0.2570 - val_sparse_categorical_accuracy: 0.9100\n",
            "Epoch 379/500\n",
            "422/422 [==============================] - 8s 19ms/step - loss: 0.2266 - sparse_categorical_accuracy: 0.9120 - val_loss: 0.2549 - val_sparse_categorical_accuracy: 0.9092\n",
            "Epoch 380/500\n",
            "422/422 [==============================] - 9s 21ms/step - loss: 0.2253 - sparse_categorical_accuracy: 0.9143 - val_loss: 0.2559 - val_sparse_categorical_accuracy: 0.9087\n",
            "Epoch 381/500\n",
            "422/422 [==============================] - 8s 18ms/step - loss: 0.2254 - sparse_categorical_accuracy: 0.9134 - val_loss: 0.2578 - val_sparse_categorical_accuracy: 0.9072\n",
            "Epoch 382/500\n",
            "422/422 [==============================] - 9s 20ms/step - loss: 0.2256 - sparse_categorical_accuracy: 0.9139 - val_loss: 0.2558 - val_sparse_categorical_accuracy: 0.9080\n",
            "Epoch 383/500\n",
            "422/422 [==============================] - 9s 20ms/step - loss: 0.2258 - sparse_categorical_accuracy: 0.9119 - val_loss: 0.2543 - val_sparse_categorical_accuracy: 0.9083\n",
            "Epoch 384/500\n",
            "422/422 [==============================] - 8s 18ms/step - loss: 0.2284 - sparse_categorical_accuracy: 0.9126 - val_loss: 0.2574 - val_sparse_categorical_accuracy: 0.9073\n",
            "Epoch 385/500\n",
            "422/422 [==============================] - 9s 21ms/step - loss: 0.2205 - sparse_categorical_accuracy: 0.9144 - val_loss: 0.2588 - val_sparse_categorical_accuracy: 0.9057\n",
            "Epoch 386/500\n",
            "422/422 [==============================] - 9s 21ms/step - loss: 0.2298 - sparse_categorical_accuracy: 0.9121 - val_loss: 0.2589 - val_sparse_categorical_accuracy: 0.9080\n",
            "Epoch 387/500\n",
            "422/422 [==============================] - 8s 18ms/step - loss: 0.2243 - sparse_categorical_accuracy: 0.9134 - val_loss: 0.2576 - val_sparse_categorical_accuracy: 0.9078\n",
            "Epoch 388/500\n",
            "422/422 [==============================] - 9s 21ms/step - loss: 0.2272 - sparse_categorical_accuracy: 0.9129 - val_loss: 0.2586 - val_sparse_categorical_accuracy: 0.9087\n",
            "Epoch 389/500\n",
            "422/422 [==============================] - 8s 20ms/step - loss: 0.2281 - sparse_categorical_accuracy: 0.9123 - val_loss: 0.2593 - val_sparse_categorical_accuracy: 0.9047\n",
            "Epoch 390/500\n",
            "422/422 [==============================] - 8s 19ms/step - loss: 0.2231 - sparse_categorical_accuracy: 0.9150 - val_loss: 0.2609 - val_sparse_categorical_accuracy: 0.9078\n",
            "Epoch 391/500\n",
            "422/422 [==============================] - 9s 21ms/step - loss: 0.2241 - sparse_categorical_accuracy: 0.9136 - val_loss: 0.2581 - val_sparse_categorical_accuracy: 0.9077\n",
            "Epoch 392/500\n",
            "422/422 [==============================] - 8s 19ms/step - loss: 0.2241 - sparse_categorical_accuracy: 0.9132 - val_loss: 0.2581 - val_sparse_categorical_accuracy: 0.9068\n",
            "Epoch 393/500\n",
            "422/422 [==============================] - 8s 20ms/step - loss: 0.2269 - sparse_categorical_accuracy: 0.9138 - val_loss: 0.2572 - val_sparse_categorical_accuracy: 0.9067\n",
            "Epoch 394/500\n",
            "422/422 [==============================] - 9s 21ms/step - loss: 0.2227 - sparse_categorical_accuracy: 0.9136 - val_loss: 0.2581 - val_sparse_categorical_accuracy: 0.9095\n",
            "Epoch 395/500\n",
            "422/422 [==============================] - 8s 18ms/step - loss: 0.2270 - sparse_categorical_accuracy: 0.9141 - val_loss: 0.2601 - val_sparse_categorical_accuracy: 0.9100\n",
            "Epoch 396/500\n",
            "422/422 [==============================] - 9s 20ms/step - loss: 0.2239 - sparse_categorical_accuracy: 0.9128 - val_loss: 0.2573 - val_sparse_categorical_accuracy: 0.9098\n",
            "Epoch 397/500\n",
            "422/422 [==============================] - 9s 21ms/step - loss: 0.2240 - sparse_categorical_accuracy: 0.9144 - val_loss: 0.2564 - val_sparse_categorical_accuracy: 0.9092\n",
            "Epoch 398/500\n",
            "422/422 [==============================] - 8s 18ms/step - loss: 0.2236 - sparse_categorical_accuracy: 0.9137 - val_loss: 0.2557 - val_sparse_categorical_accuracy: 0.9077\n",
            "Epoch 399/500\n",
            "422/422 [==============================] - 9s 21ms/step - loss: 0.2236 - sparse_categorical_accuracy: 0.9150 - val_loss: 0.2599 - val_sparse_categorical_accuracy: 0.9075\n",
            "Epoch 400/500\n",
            "422/422 [==============================] - 9s 21ms/step - loss: 0.2260 - sparse_categorical_accuracy: 0.9127 - val_loss: 0.2566 - val_sparse_categorical_accuracy: 0.9097\n",
            "Epoch 401/500\n",
            "422/422 [==============================] - 8s 18ms/step - loss: 0.2249 - sparse_categorical_accuracy: 0.9135 - val_loss: 0.2581 - val_sparse_categorical_accuracy: 0.9077\n",
            "Epoch 402/500\n",
            "422/422 [==============================] - 9s 21ms/step - loss: 0.2269 - sparse_categorical_accuracy: 0.9122 - val_loss: 0.2560 - val_sparse_categorical_accuracy: 0.9102\n",
            "Epoch 403/500\n",
            "422/422 [==============================] - 8s 20ms/step - loss: 0.2241 - sparse_categorical_accuracy: 0.9135 - val_loss: 0.2624 - val_sparse_categorical_accuracy: 0.9057\n",
            "Epoch 404/500\n",
            "422/422 [==============================] - 8s 19ms/step - loss: 0.2251 - sparse_categorical_accuracy: 0.9119 - val_loss: 0.2562 - val_sparse_categorical_accuracy: 0.9083\n",
            "Epoch 405/500\n",
            "422/422 [==============================] - 9s 21ms/step - loss: 0.2225 - sparse_categorical_accuracy: 0.9149 - val_loss: 0.2591 - val_sparse_categorical_accuracy: 0.9087\n",
            "Epoch 406/500\n",
            "422/422 [==============================] - 8s 20ms/step - loss: 0.2227 - sparse_categorical_accuracy: 0.9137 - val_loss: 0.2556 - val_sparse_categorical_accuracy: 0.9085\n",
            "Epoch 407/500\n",
            "422/422 [==============================] - 8s 20ms/step - loss: 0.2234 - sparse_categorical_accuracy: 0.9141 - val_loss: 0.2548 - val_sparse_categorical_accuracy: 0.9070\n",
            "Epoch 408/500\n",
            "422/422 [==============================] - 9s 21ms/step - loss: 0.2212 - sparse_categorical_accuracy: 0.9134 - val_loss: 0.2570 - val_sparse_categorical_accuracy: 0.9088\n",
            "Epoch 409/500\n",
            "422/422 [==============================] - 8s 19ms/step - loss: 0.2224 - sparse_categorical_accuracy: 0.9131 - val_loss: 0.2580 - val_sparse_categorical_accuracy: 0.9072\n",
            "Epoch 410/500\n",
            "422/422 [==============================] - 9s 21ms/step - loss: 0.2223 - sparse_categorical_accuracy: 0.9151 - val_loss: 0.2587 - val_sparse_categorical_accuracy: 0.9062\n",
            "Epoch 411/500\n",
            "422/422 [==============================] - 9s 21ms/step - loss: 0.2226 - sparse_categorical_accuracy: 0.9149 - val_loss: 0.2589 - val_sparse_categorical_accuracy: 0.9067\n",
            "Epoch 412/500\n",
            "422/422 [==============================] - 8s 18ms/step - loss: 0.2227 - sparse_categorical_accuracy: 0.9149 - val_loss: 0.2568 - val_sparse_categorical_accuracy: 0.9068\n",
            "Epoch 413/500\n",
            "422/422 [==============================] - 9s 22ms/step - loss: 0.2238 - sparse_categorical_accuracy: 0.9143 - val_loss: 0.2555 - val_sparse_categorical_accuracy: 0.9088\n",
            "313/313 [==============================] - 1s 4ms/step - loss: 0.2780 - sparse_categorical_accuracy: 0.9019\n",
            "\n",
            "Test accuracy: 0.9018999934196472\n"
          ]
        }
      ]
    },
    {
      "cell_type": "code",
      "source": [
        "print('\\nhistory dict:', list(history.history.keys()))"
      ],
      "metadata": {
        "id": "CxRE-B_Q6Sii",
        "outputId": "73664c69-e1f7-4df6-b25f-69ec5e4896d3",
        "colab": {
          "base_uri": "https://localhost:8080/"
        }
      },
      "execution_count": 15,
      "outputs": [
        {
          "output_type": "stream",
          "name": "stdout",
          "text": [
            "\n",
            "history dict: ['loss', 'sparse_categorical_accuracy', 'val_loss', 'val_sparse_categorical_accuracy']\n"
          ]
        }
      ]
    },
    {
      "cell_type": "code",
      "source": [
        "result = model.evaluate(x_test, y_test)\n",
        "print(result)"
      ],
      "metadata": {
        "id": "YXpwRRTvTBNg",
        "outputId": "38808485-185f-4d28-d166-967f487d59df",
        "colab": {
          "base_uri": "https://localhost:8080/"
        }
      },
      "execution_count": 16,
      "outputs": [
        {
          "output_type": "stream",
          "name": "stdout",
          "text": [
            "313/313 [==============================] - 1s 3ms/step - loss: 0.2780 - sparse_categorical_accuracy: 0.9019\n",
            "[0.2779730558395386, 0.9018999934196472]\n"
          ]
        }
      ]
    },
    {
      "cell_type": "code",
      "source": [
        "saved_model = load_model('best_model.h5')\n",
        "result = saved_model.evaluate(x_test, y_test)\n",
        "print(result)"
      ],
      "metadata": {
        "id": "dpaZAW0vp1AZ",
        "outputId": "fd45ce5a-18d4-4066-9516-42803c3a7b53",
        "colab": {
          "base_uri": "https://localhost:8080/"
        }
      },
      "execution_count": 17,
      "outputs": [
        {
          "output_type": "stream",
          "name": "stdout",
          "text": [
            "313/313 [==============================] - 1s 3ms/step - loss: 0.2820 - sparse_categorical_accuracy: 0.8987\n",
            "[0.2819608747959137, 0.8986999988555908]\n"
          ]
        }
      ]
    },
    {
      "cell_type": "code",
      "source": [
        "# from keras.models import load_model\n",
        "# saved_model = load_model('best_model.h5')\n",
        "# # _, train_acc = saved_model.evaluate(x_train, y_train, verbose=0)\n",
        "# _, test_acc = saved_model.evaluate(x_test, y_test, verbose=0)\n",
        "# print('Test: %.3f' % (test_acc))"
      ],
      "metadata": {
        "id": "DR_MS9DABo_K"
      },
      "execution_count": 18,
      "outputs": []
    },
    {
      "cell_type": "code",
      "source": [
        "history_dict = history.history\n",
        "loss_values = history_dict['loss']\n",
        "val_loss_values = history_dict['val_loss']\n",
        "\n",
        "epochs = range(1, len(history_dict['loss']) + 1)\n",
        "\n",
        "plt.figure(figsize=(10, 5))\n",
        "plt.plot(epochs, loss_values, 'bo', label='Training loss')\n",
        "plt.plot(epochs, val_loss_values, 'r', label='Validation loss')\n",
        "plt.ylim (0.2, 0.5)\n",
        "plt.title('Training and validation loss')\n",
        "plt.xlabel('Epochs')\n",
        "plt.ylabel('Loss')\n",
        "plt.legend()\n",
        "plt.grid(True)\n",
        "plt.show()\n",
        "1\n",
        "plt.clf()\n",
        "plt.figure(figsize=(10, 5))\n",
        "val_acc_values = history_dict['sparse_categorical_accuracy']\n",
        "plt.plot(epochs, history_dict['sparse_categorical_accuracy'], 'bo', label='Training acc')\n",
        "plt.plot(epochs, history_dict['val_sparse_categorical_accuracy'], 'r', label='Validation acc')\n",
        "plt.ylim (0.88, 0.92)\n",
        "plt.title('Training and validation accuracy')\n",
        "plt.xlabel('Epochs')\n",
        "plt.ylabel('Accuracy')\n",
        "plt.legend()\n",
        "plt.grid(True)"
      ],
      "metadata": {
        "id": "2Ll_5sGlXKMH",
        "outputId": "e6a91267-a9df-4c4d-d231-0038669cf6a4",
        "colab": {
          "base_uri": "https://localhost:8080/",
          "height": 975
        }
      },
      "execution_count": 19,
      "outputs": [
        {
          "output_type": "display_data",
          "data": {
            "text/plain": [
              "<Figure size 1000x500 with 1 Axes>"
            ],
            "image/png": "[encoded data removed]"
          },
          "metadata": {}
        },
        {
          "output_type": "display_data",
          "data": {
            "text/plain": [
              "<Figure size 640x480 with 0 Axes>"
            ]
          },
          "metadata": {}
        },
        {
          "output_type": "display_data",
          "data": {
            "text/plain": [
              "<Figure size 1000x500 with 1 Axes>"
            ],
            "image/png": "[encoded data removed]"
          },
          "metadata": {}
        }
      ]
    },
    {
      "cell_type": "code",
      "source": [
        "probability_model = tf.keras.Sequential([model,\n",
        "                                         tf.keras.layers.Softmax()])"
      ],
      "metadata": {
        "id": "VzOdKAT_uV-f"
      },
      "execution_count": 20,
      "outputs": []
    },
    {
      "cell_type": "code",
      "source": [
        "predictions = probability_model.predict(x_test)"
      ],
      "metadata": {
        "id": "f4is3NFruYom",
        "outputId": "17db471d-d2d4-4854-fb6b-9da540f41c34",
        "colab": {
          "base_uri": "https://localhost:8080/"
        }
      },
      "execution_count": 21,
      "outputs": [
        {
          "output_type": "stream",
          "name": "stdout",
          "text": [
            "313/313 [==============================] - 1s 4ms/step\n"
          ]
        }
      ]
    },
    {
      "cell_type": "code",
      "source": [
        "predictions[0]"
      ],
      "metadata": {
        "id": "82cigvlZudz_",
        "outputId": "62dca589-064f-4104-c8fe-51fcdbbd74bb",
        "colab": {
          "base_uri": "https://localhost:8080/"
        }
      },
      "execution_count": 22,
      "outputs": [
        {
          "output_type": "execute_result",
          "data": {
            "text/plain": [
              "array([0.08543546, 0.08543546, 0.08543546, 0.08543546, 0.08543546,\n",
              "       0.08547621, 0.08543546, 0.08607603, 0.08543546, 0.23039944],\n",
              "      dtype=float32)"
            ]
          },
          "metadata": {},
          "execution_count": 22
        }
      ]
    },
    {
      "cell_type": "code",
      "source": [
        "model.summary()"
      ],
      "metadata": {
        "id": "6RsQPHyYuNGe",
        "outputId": "7ec16aa2-3655-4eac-e0ab-cc97b10930f1",
        "colab": {
          "base_uri": "https://localhost:8080/"
        }
      },
      "execution_count": 23,
      "outputs": [
        {
          "output_type": "stream",
          "name": "stdout",
          "text": [
            "Model: \"sequential\"\n",
            "_________________________________________________________________\n",
            " Layer (type)                Output Shape              Param #   \n",
            "=================================================================\n",
            " flatten (Flatten)           (None, 784)               0         \n",
            "                                                                 \n",
            " dropout (Dropout)           (None, 784)               0         \n",
            "                                                                 \n",
            " batch_normalization (Batch  (None, 784)               3136      \n",
            " Normalization)                                                  \n",
            "                                                                 \n",
            " dense (Dense)               (None, 256)               200960    \n",
            "                                                                 \n",
            " dropout_1 (Dropout)         (None, 256)               0         \n",
            "                                                                 \n",
            " batch_normalization_1 (Bat  (None, 256)               1024      \n",
            " chNormalization)                                                \n",
            "                                                                 \n",
            " dense_1 (Dense)             (None, 512)               131584    \n",
            "                                                                 \n",
            " dropout_2 (Dropout)         (None, 512)               0         \n",
            "                                                                 \n",
            " dense_2 (Dense)             (None, 10)                5130      \n",
            "                                                                 \n",
            "=================================================================\n",
            "Total params: 341834 (1.30 MB)\n",
            "Trainable params: 339754 (1.30 MB)\n",
            "Non-trainable params: 2080 (8.12 KB)\n",
            "_________________________________________________________________\n"
          ]
        }
      ]
    },
    {
      "cell_type": "code",
      "source": [
        "\n",
        "\n",
        "\n",
        "hnyetjn hrte()"
      ],
      "metadata": {
        "id": "S4hcxZttmp-0",
        "outputId": "60630a77-ff5a-475d-853b-93f31bb83fee",
        "colab": {
          "base_uri": "https://localhost:8080/",
          "height": 143
        }
      },
      "execution_count": 24,
      "outputs": [
        {
          "output_type": "error",
          "ename": "SyntaxError",
          "evalue": "invalid syntax (<ipython-input-24-1a3818e70946>, line 1)",
          "traceback": [
            "\u001b[0;36m  File \u001b[0;32m\"<ipython-input-24-1a3818e70946>\"\u001b[0;36m, line \u001b[0;32m1\u001b[0m\n\u001b[0;31m    hnyetjn hrte()\u001b[0m\n\u001b[0m            ^\u001b[0m\n\u001b[0;31mSyntaxError\u001b[0m\u001b[0;31m:\u001b[0m invalid syntax\n"
          ]
        }
      ]
    }
  ]
}