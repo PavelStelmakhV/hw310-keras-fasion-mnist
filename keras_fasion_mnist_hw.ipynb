{
  "nbformat": 4,
  "nbformat_minor": 0,
  "metadata": {
    "colab": {
      "provenance": [],
      "gpuType": "T4",
      "authorship_tag": "ABX9TyNKb+17p775lTJSs+aM1S/i",
      "include_colab_link": true
    },
    "kernelspec": {
      "name": "python3",
      "display_name": "Python 3"
    },
    "language_info": {
      "name": "python"
    },
    "accelerator": "GPU"
  },
  "cells": [
    {
      "cell_type": "markdown",
      "metadata": {
        "id": "view-in-github",
        "colab_type": "text"
      },
      "source": [
        "<a href=\"https://colab.research.google.com/github/PavelStelmakhV/hw310-keras-fasion-mnist/blob/main/keras_fasion_mnist_hw.ipynb\" target=\"_parent\"><img src=\"https://colab.research.google.com/assets/colab-badge.svg\" alt=\"Open In Colab\"/></a>"
      ]
    },
    {
      "cell_type": "code",
      "execution_count": 84,
      "metadata": {
        "id": "vv7w0bgAVQPO"
      },
      "outputs": [],
      "source": [
        "import tensorflow as tf\n",
        "import numpy as np\n",
        "import matplotlib.pyplot as plt\n",
        "\n",
        "from keras import layers\n",
        "from keras import regularizers\n",
        "from keras import callbacks\n",
        "from keras import initializers\n",
        "from keras.layers import BatchNormalization\n",
        "from keras.models import load_model"
      ]
    },
    {
      "cell_type": "code",
      "source": [
        "fashion_mnist = tf.keras.datasets.fashion_mnist\n",
        "\n",
        "(x_train, y_train), (x_test, y_test) = fashion_mnist.load_data()"
      ],
      "metadata": {
        "id": "mOpywsNAzfGB"
      },
      "execution_count": 85,
      "outputs": []
    },
    {
      "cell_type": "code",
      "source": [
        "# x_train = x_train.reshape(60000, 784).astype('float32') / 255\n",
        "# x_test = x_test.reshape(10000, 784).astype('float32') / 255\n",
        "x_train = x_train.astype('float32') / 255\n",
        "x_test = x_test.astype('float32') / 255\n",
        "\n",
        "y_train = y_train.astype('float32')\n",
        "y_test = y_test.astype('float32')\n",
        "\n",
        "# Перемешаем тренировочные данные\n",
        "# train_data = tf.data.Dataset.from_tensor_slices((x_train, y_train))\n",
        "# train_data = train_data.repeat().shuffle(5000).batch(batch_size).prefetch(1)"
      ],
      "metadata": {
        "id": "t2gucjsJ0KUi"
      },
      "execution_count": 86,
      "outputs": []
    },
    {
      "cell_type": "code",
      "source": [
        "# x_val = x_train[-10000:]\n",
        "# y_val = y_train[-10000:]\n",
        "# x_train = x_train[:-10000]\n",
        "# y_train = y_train[:-10000]"
      ],
      "metadata": {
        "id": "fLPNXab5dHwO"
      },
      "execution_count": 87,
      "outputs": []
    },
    {
      "cell_type": "code",
      "source": [],
      "metadata": {
        "id": "bU5TK5YdlnU5"
      },
      "execution_count": 87,
      "outputs": []
    },
    {
      "cell_type": "code",
      "source": [
        "w_init_tanh = initializers.glorot_normal(seed=42)\n",
        "w_init_relu = initializers.HeNormal(seed=42)\n",
        "b_init = initializers.Zeros()"
      ],
      "metadata": {
        "id": "yL9QTEtBGy4N"
      },
      "execution_count": 88,
      "outputs": []
    },
    {
      "cell_type": "code",
      "source": [
        "model = tf.keras.Sequential()\n",
        "\n",
        "drop_out = 0.25\n",
        "lern_rat = 0.001\n",
        "neurons = 1024\n",
        "model.add(layers.Flatten(input_shape=(28, 28)))\n",
        "model.add(layers.Dropout(drop_out))\n",
        "\n",
        "model.add(BatchNormalization())\n",
        "model.add(layers.Dense(neurons * 1,\n",
        "                       activation='relu',\n",
        "                       kernel_initializer=w_init_relu,\n",
        "                       bias_initializer=b_init)) #, kernel_regularizer=regularizers.l2(lern_rat)\n",
        "model.add(layers.Dropout(drop_out))\n",
        "\n",
        "# model.add(BatchNormalization())\n",
        "# model.add(layers.Dense(neurons * 1,\n",
        "#                        activation='relu',\n",
        "#                        kernel_initializer=w_init_relu,\n",
        "#                        bias_initializer=b_init)) #, kernel_regularizer=regularizers.l2(lern_rat)\n",
        "# model.add(layers.Dropout(drop_out))\n",
        "\n",
        "# model.add(BatchNormalization())\n",
        "# model.add(layers.Dense(neurons * 1,\n",
        "#                        activation='relu',\n",
        "#                        kernel_initializer=w_init_relu,\n",
        "#                        bias_initializer=b_init)) #, kernel_regularizer=regularizers.l2(lern_rat)\n",
        "# model.add(layers.Dropout(drop_out))\n",
        "\n",
        "# model.add(BatchNormalization())\n",
        "# model.add(layers.Dense(neurons * 2,\n",
        "#                        activation='relu',\n",
        "#                        kernel_initializer=w_init_relu,\n",
        "#                        bias_initializer=b_init)) #, kernel_regularizer=regularizers.l2(lern_rat)\n",
        "# model.add(layers.Dropout(drop_out))\n",
        "\n",
        "model.add(BatchNormalization())\n",
        "model.add(layers.Dense(neurons * 2,\n",
        "                       activation='tanh',\n",
        "                       kernel_initializer=w_init_tanh,\n",
        "                       bias_initializer=b_init))\n",
        "model.add(layers.Dropout(drop_out))\n",
        "\n",
        "# model.add(BatchNormalization())\n",
        "# model.add(layers.Dense(neurons * 2,\n",
        "#                        activation='relu',\n",
        "#                        kernel_initializer=w_init_relu,\n",
        "#                        bias_initializer=b_init))\n",
        "# model.add(layers.Dropout(drop_out))\n",
        "\n",
        "# model.add(BatchNormalization())\n",
        "# model.add(layers.Dense(neurons * 2,\n",
        "#                        activation='tanh',\n",
        "#                        kernel_initializer=w_init_tanh,\n",
        "#                        bias_initializer=b_init))\n",
        "# model.add(layers.Dropout(drop_out))\n",
        "\n",
        "model.add(BatchNormalization())\n",
        "model.add(layers.Dense(neurons * 2,\n",
        "                       activation='relu',\n",
        "                       kernel_initializer=w_init_relu,\n",
        "                       bias_initializer=b_init))\n",
        "model.add(layers.Dropout(drop_out))\n",
        "# model.add(layers.Dense(neurons * 2, activation='relu'))\n",
        "# model.add(BatchNormalization())\n",
        "# model.add(layers.Dropout(drop_out * 2))\n",
        "\n",
        "model.add(layers.Dense(10, activation='softmax'))"
      ],
      "metadata": {
        "id": "atS39i4d0aqW"
      },
      "execution_count": 89,
      "outputs": []
    },
    {
      "cell_type": "code",
      "source": [],
      "metadata": {
        "id": "EzfnaqIZlfy8"
      },
      "execution_count": 89,
      "outputs": []
    },
    {
      "cell_type": "code",
      "source": [
        "model.compile(#optimizer='adam',\n",
        "              # optimizer='adamax',\n",
        "              optimizer='nadam',\n",
        "              # optimizer='rmsprop',\n",
        "              # optimizer='sgd',\n",
        "              # optimizer='adadelta',\n",
        "              # loss='binary_crossentropy',\n",
        "              loss=tf.keras.losses.SparseCategoricalCrossentropy(),\n",
        "              metrics=['sparse_categorical_accuracy']) # sparse_categorical_accuracy"
      ],
      "metadata": {
        "id": "hENVaAC7ilNY"
      },
      "execution_count": 90,
      "outputs": []
    },
    {
      "cell_type": "code",
      "source": [
        "x = np.random.random((1, 28, 28))\n",
        "a = model.predict(x)\n",
        "_ = plt.hist(np.transpose(a))"
      ],
      "metadata": {
        "id": "RFgZHNNFMa8p",
        "outputId": "33ec2e8d-1552-4b51-9432-c33e18293ba9",
        "colab": {
          "base_uri": "https://localhost:8080/",
          "height": 448
        }
      },
      "execution_count": 91,
      "outputs": [
        {
          "output_type": "stream",
          "name": "stdout",
          "text": [
            "1/1 [==============================] - 0s 181ms/step\n"
          ]
        },
        {
          "output_type": "display_data",
          "data": {
            "text/plain": [
              "<Figure size 640x480 with 1 Axes>"
            ],
            "image/png": "[encoded data removed]"
          },
          "metadata": {}
        }
      ]
    },
    {
      "cell_type": "code",
      "source": [
        "y_pred = model.predict(x_test)"
      ],
      "metadata": {
        "id": "UDP8OKKZ8oQa",
        "outputId": "98f26a3b-e3db-4f66-a71a-7e9842fcf4e6",
        "colab": {
          "base_uri": "https://localhost:8080/"
        }
      },
      "execution_count": 92,
      "outputs": [
        {
          "output_type": "stream",
          "name": "stdout",
          "text": [
            "313/313 [==============================] - 1s 3ms/step\n"
          ]
        }
      ]
    },
    {
      "cell_type": "code",
      "source": [
        "callback = callbacks.EarlyStopping(monitor='val_loss',\n",
        "                                   patience=50,\n",
        "                                   restore_best_weights=True,\n",
        "                                   )\n",
        "es = callbacks.EarlyStopping(monitor='val_loss', mode='min', verbose=1, patience=200)\n",
        "mc = callbacks.ModelCheckpoint('best_model.h5', monitor='sparse_categorical_accuracy', mode='max', verbose=0, save_best_only=True)\n"
      ],
      "metadata": {
        "id": "5ihU4exVlsjm"
      },
      "execution_count": 93,
      "outputs": []
    },
    {
      "cell_type": "code",
      "source": [
        "# model.fit(train_images, train_labels, epochs=20)\n",
        "history = model.fit(x_train, y_train,\n",
        "                    epochs=100,\n",
        "                    batch_size=128,\n",
        "                    # callbacks=[callback],\n",
        "                    callbacks=[mc],\n",
        "                    verbose=1, #многословие\n",
        "                    validation_split=0.2\n",
        "                    # validation_data=(x_val, y_val)\n",
        "                    )\n",
        "test_loss, test_acc = model.evaluate(x_test, y_test)\n",
        "print('\\nTest accuracy:', test_acc)"
      ],
      "metadata": {
        "id": "FH8HcMNm233I",
        "outputId": "3de44590-ff3f-44f8-bc91-fb3d64c95f85",
        "colab": {
          "base_uri": "https://localhost:8080/"
        }
      },
      "execution_count": 94,
      "outputs": [
        {
          "output_type": "stream",
          "name": "stdout",
          "text": [
            "Epoch 1/100\n",
            "375/375 [==============================] - 7s 9ms/step - loss: 0.8295 - sparse_categorical_accuracy: 0.7667 - val_loss: 0.5086 - val_sparse_categorical_accuracy: 0.8332\n",
            "Epoch 2/100\n",
            "375/375 [==============================] - 3s 9ms/step - loss: 0.5157 - sparse_categorical_accuracy: 0.8221 - val_loss: 0.4082 - val_sparse_categorical_accuracy: 0.8568\n",
            "Epoch 3/100\n",
            "375/375 [==============================] - 3s 9ms/step - loss: 0.4475 - sparse_categorical_accuracy: 0.8394 - val_loss: 0.3741 - val_sparse_categorical_accuracy: 0.8632\n",
            "Epoch 4/100\n",
            "375/375 [==============================] - 3s 8ms/step - loss: 0.4122 - sparse_categorical_accuracy: 0.8500 - val_loss: 0.3738 - val_sparse_categorical_accuracy: 0.8676\n",
            "Epoch 5/100\n",
            "375/375 [==============================] - 3s 8ms/step - loss: 0.3885 - sparse_categorical_accuracy: 0.8553 - val_loss: 0.3471 - val_sparse_categorical_accuracy: 0.8760\n",
            "Epoch 6/100\n",
            "375/375 [==============================] - 4s 9ms/step - loss: 0.3807 - sparse_categorical_accuracy: 0.8594 - val_loss: 0.3542 - val_sparse_categorical_accuracy: 0.8759\n",
            "Epoch 7/100\n",
            "375/375 [==============================] - 3s 9ms/step - loss: 0.3672 - sparse_categorical_accuracy: 0.8624 - val_loss: 0.3302 - val_sparse_categorical_accuracy: 0.8779\n",
            "Epoch 8/100\n",
            "375/375 [==============================] - 3s 8ms/step - loss: 0.3547 - sparse_categorical_accuracy: 0.8669 - val_loss: 0.3296 - val_sparse_categorical_accuracy: 0.8816\n",
            "Epoch 9/100\n",
            "375/375 [==============================] - 3s 8ms/step - loss: 0.3465 - sparse_categorical_accuracy: 0.8705 - val_loss: 0.3382 - val_sparse_categorical_accuracy: 0.8771\n",
            "Epoch 10/100\n",
            "375/375 [==============================] - 4s 9ms/step - loss: 0.3396 - sparse_categorical_accuracy: 0.8717 - val_loss: 0.3334 - val_sparse_categorical_accuracy: 0.8765\n",
            "Epoch 11/100\n",
            "375/375 [==============================] - 3s 8ms/step - loss: 0.3327 - sparse_categorical_accuracy: 0.8759 - val_loss: 0.3294 - val_sparse_categorical_accuracy: 0.8845\n",
            "Epoch 12/100\n",
            "375/375 [==============================] - 3s 8ms/step - loss: 0.3244 - sparse_categorical_accuracy: 0.8789 - val_loss: 0.3183 - val_sparse_categorical_accuracy: 0.8828\n",
            "Epoch 13/100\n",
            "375/375 [==============================] - 3s 9ms/step - loss: 0.3227 - sparse_categorical_accuracy: 0.8795 - val_loss: 0.3189 - val_sparse_categorical_accuracy: 0.8856\n",
            "Epoch 14/100\n",
            "375/375 [==============================] - 3s 9ms/step - loss: 0.3190 - sparse_categorical_accuracy: 0.8796 - val_loss: 0.3131 - val_sparse_categorical_accuracy: 0.8853\n",
            "Epoch 15/100\n",
            "375/375 [==============================] - 3s 8ms/step - loss: 0.3107 - sparse_categorical_accuracy: 0.8834 - val_loss: 0.3084 - val_sparse_categorical_accuracy: 0.8894\n",
            "Epoch 16/100\n",
            "375/375 [==============================] - 3s 8ms/step - loss: 0.3076 - sparse_categorical_accuracy: 0.8834 - val_loss: 0.3031 - val_sparse_categorical_accuracy: 0.8848\n",
            "Epoch 17/100\n",
            "375/375 [==============================] - 3s 9ms/step - loss: 0.3028 - sparse_categorical_accuracy: 0.8853 - val_loss: 0.2934 - val_sparse_categorical_accuracy: 0.8948\n",
            "Epoch 18/100\n",
            "375/375 [==============================] - 3s 9ms/step - loss: 0.3016 - sparse_categorical_accuracy: 0.8855 - val_loss: 0.3016 - val_sparse_categorical_accuracy: 0.8923\n",
            "Epoch 19/100\n",
            "375/375 [==============================] - 3s 8ms/step - loss: 0.2936 - sparse_categorical_accuracy: 0.8878 - val_loss: 0.2925 - val_sparse_categorical_accuracy: 0.8929\n",
            "Epoch 20/100\n",
            "375/375 [==============================] - 3s 9ms/step - loss: 0.2923 - sparse_categorical_accuracy: 0.8903 - val_loss: 0.3269 - val_sparse_categorical_accuracy: 0.8888\n",
            "Epoch 21/100\n",
            "375/375 [==============================] - 4s 9ms/step - loss: 0.2839 - sparse_categorical_accuracy: 0.8927 - val_loss: 0.3039 - val_sparse_categorical_accuracy: 0.8945\n",
            "Epoch 22/100\n",
            "375/375 [==============================] - 3s 9ms/step - loss: 0.2810 - sparse_categorical_accuracy: 0.8937 - val_loss: 0.3309 - val_sparse_categorical_accuracy: 0.8892\n",
            "Epoch 23/100\n",
            "375/375 [==============================] - 3s 8ms/step - loss: 0.2800 - sparse_categorical_accuracy: 0.8946 - val_loss: 0.3122 - val_sparse_categorical_accuracy: 0.8905\n",
            "Epoch 24/100\n",
            "375/375 [==============================] - 3s 8ms/step - loss: 0.2769 - sparse_categorical_accuracy: 0.8950 - val_loss: 0.3170 - val_sparse_categorical_accuracy: 0.8866\n",
            "Epoch 25/100\n",
            "375/375 [==============================] - 3s 9ms/step - loss: 0.2741 - sparse_categorical_accuracy: 0.8961 - val_loss: 0.2917 - val_sparse_categorical_accuracy: 0.8955\n",
            "Epoch 26/100\n",
            "375/375 [==============================] - 3s 8ms/step - loss: 0.2716 - sparse_categorical_accuracy: 0.8966 - val_loss: 0.2906 - val_sparse_categorical_accuracy: 0.8984\n",
            "Epoch 27/100\n",
            "375/375 [==============================] - 3s 8ms/step - loss: 0.2677 - sparse_categorical_accuracy: 0.8983 - val_loss: 0.2907 - val_sparse_categorical_accuracy: 0.8974\n",
            "Epoch 28/100\n",
            "375/375 [==============================] - 3s 9ms/step - loss: 0.2645 - sparse_categorical_accuracy: 0.8997 - val_loss: 0.3030 - val_sparse_categorical_accuracy: 0.8958\n",
            "Epoch 29/100\n",
            "375/375 [==============================] - 3s 9ms/step - loss: 0.2616 - sparse_categorical_accuracy: 0.9006 - val_loss: 0.2879 - val_sparse_categorical_accuracy: 0.8983\n",
            "Epoch 30/100\n",
            "375/375 [==============================] - 3s 8ms/step - loss: 0.2580 - sparse_categorical_accuracy: 0.9013 - val_loss: 0.2857 - val_sparse_categorical_accuracy: 0.8996\n",
            "Epoch 31/100\n",
            "375/375 [==============================] - 3s 9ms/step - loss: 0.2590 - sparse_categorical_accuracy: 0.9026 - val_loss: 0.2880 - val_sparse_categorical_accuracy: 0.9011\n",
            "Epoch 32/100\n",
            "375/375 [==============================] - 3s 9ms/step - loss: 0.2528 - sparse_categorical_accuracy: 0.9030 - val_loss: 0.2977 - val_sparse_categorical_accuracy: 0.8967\n",
            "Epoch 33/100\n",
            "375/375 [==============================] - 3s 9ms/step - loss: 0.2538 - sparse_categorical_accuracy: 0.9045 - val_loss: 0.2946 - val_sparse_categorical_accuracy: 0.8993\n",
            "Epoch 34/100\n",
            "375/375 [==============================] - 3s 8ms/step - loss: 0.2488 - sparse_categorical_accuracy: 0.9048 - val_loss: 0.2953 - val_sparse_categorical_accuracy: 0.9021\n",
            "Epoch 35/100\n",
            "375/375 [==============================] - 3s 8ms/step - loss: 0.2510 - sparse_categorical_accuracy: 0.9036 - val_loss: 0.2981 - val_sparse_categorical_accuracy: 0.8976\n",
            "Epoch 36/100\n",
            "375/375 [==============================] - 3s 8ms/step - loss: 0.2504 - sparse_categorical_accuracy: 0.9037 - val_loss: 0.2913 - val_sparse_categorical_accuracy: 0.8987\n",
            "Epoch 37/100\n",
            "375/375 [==============================] - 3s 8ms/step - loss: 0.2443 - sparse_categorical_accuracy: 0.9057 - val_loss: 0.2993 - val_sparse_categorical_accuracy: 0.8965\n",
            "Epoch 38/100\n",
            "375/375 [==============================] - 3s 8ms/step - loss: 0.2436 - sparse_categorical_accuracy: 0.9082 - val_loss: 0.2934 - val_sparse_categorical_accuracy: 0.8997\n",
            "Epoch 39/100\n",
            "375/375 [==============================] - 3s 8ms/step - loss: 0.2426 - sparse_categorical_accuracy: 0.9073 - val_loss: 0.2896 - val_sparse_categorical_accuracy: 0.8991\n",
            "Epoch 40/100\n",
            "375/375 [==============================] - 4s 9ms/step - loss: 0.2369 - sparse_categorical_accuracy: 0.9100 - val_loss: 0.2887 - val_sparse_categorical_accuracy: 0.9022\n",
            "Epoch 41/100\n",
            "375/375 [==============================] - 3s 8ms/step - loss: 0.2346 - sparse_categorical_accuracy: 0.9095 - val_loss: 0.2932 - val_sparse_categorical_accuracy: 0.8984\n",
            "Epoch 42/100\n",
            "375/375 [==============================] - 3s 8ms/step - loss: 0.2362 - sparse_categorical_accuracy: 0.9097 - val_loss: 0.3073 - val_sparse_categorical_accuracy: 0.8968\n",
            "Epoch 43/100\n",
            "375/375 [==============================] - 3s 8ms/step - loss: 0.2345 - sparse_categorical_accuracy: 0.9103 - val_loss: 0.3000 - val_sparse_categorical_accuracy: 0.8978\n",
            "Epoch 44/100\n",
            "375/375 [==============================] - 4s 9ms/step - loss: 0.2325 - sparse_categorical_accuracy: 0.9125 - val_loss: 0.3114 - val_sparse_categorical_accuracy: 0.8988\n",
            "Epoch 45/100\n",
            "375/375 [==============================] - 3s 8ms/step - loss: 0.2314 - sparse_categorical_accuracy: 0.9111 - val_loss: 0.2998 - val_sparse_categorical_accuracy: 0.8999\n",
            "Epoch 46/100\n",
            "375/375 [==============================] - 3s 8ms/step - loss: 0.2323 - sparse_categorical_accuracy: 0.9114 - val_loss: 0.3073 - val_sparse_categorical_accuracy: 0.8992\n",
            "Epoch 47/100\n",
            "375/375 [==============================] - 3s 8ms/step - loss: 0.2279 - sparse_categorical_accuracy: 0.9112 - val_loss: 0.2885 - val_sparse_categorical_accuracy: 0.9029\n",
            "Epoch 48/100\n",
            "375/375 [==============================] - 4s 10ms/step - loss: 0.2231 - sparse_categorical_accuracy: 0.9139 - val_loss: 0.3009 - val_sparse_categorical_accuracy: 0.9005\n",
            "Epoch 49/100\n",
            "375/375 [==============================] - 3s 8ms/step - loss: 0.2266 - sparse_categorical_accuracy: 0.9122 - val_loss: 0.3072 - val_sparse_categorical_accuracy: 0.8998\n",
            "Epoch 50/100\n",
            "375/375 [==============================] - 3s 8ms/step - loss: 0.2258 - sparse_categorical_accuracy: 0.9128 - val_loss: 0.3174 - val_sparse_categorical_accuracy: 0.8967\n",
            "Epoch 51/100\n",
            "375/375 [==============================] - 3s 9ms/step - loss: 0.2209 - sparse_categorical_accuracy: 0.9145 - val_loss: 0.2915 - val_sparse_categorical_accuracy: 0.9002\n",
            "Epoch 52/100\n",
            "375/375 [==============================] - 4s 9ms/step - loss: 0.2210 - sparse_categorical_accuracy: 0.9151 - val_loss: 0.3014 - val_sparse_categorical_accuracy: 0.9005\n",
            "Epoch 53/100\n",
            "375/375 [==============================] - 3s 8ms/step - loss: 0.2188 - sparse_categorical_accuracy: 0.9167 - val_loss: 0.3138 - val_sparse_categorical_accuracy: 0.9014\n",
            "Epoch 54/100\n",
            "375/375 [==============================] - 3s 8ms/step - loss: 0.2182 - sparse_categorical_accuracy: 0.9167 - val_loss: 0.3098 - val_sparse_categorical_accuracy: 0.9004\n",
            "Epoch 55/100\n",
            "375/375 [==============================] - 3s 8ms/step - loss: 0.2182 - sparse_categorical_accuracy: 0.9164 - val_loss: 0.3101 - val_sparse_categorical_accuracy: 0.9013\n",
            "Epoch 56/100\n",
            "375/375 [==============================] - 3s 9ms/step - loss: 0.2142 - sparse_categorical_accuracy: 0.9183 - val_loss: 0.2961 - val_sparse_categorical_accuracy: 0.9032\n",
            "Epoch 57/100\n",
            "375/375 [==============================] - 3s 8ms/step - loss: 0.2143 - sparse_categorical_accuracy: 0.9180 - val_loss: 0.3046 - val_sparse_categorical_accuracy: 0.9020\n",
            "Epoch 58/100\n",
            "375/375 [==============================] - 3s 8ms/step - loss: 0.2158 - sparse_categorical_accuracy: 0.9181 - val_loss: 0.3086 - val_sparse_categorical_accuracy: 0.9018\n",
            "Epoch 59/100\n",
            "375/375 [==============================] - 3s 9ms/step - loss: 0.2126 - sparse_categorical_accuracy: 0.9174 - val_loss: 0.3045 - val_sparse_categorical_accuracy: 0.9028\n",
            "Epoch 60/100\n",
            "375/375 [==============================] - 3s 8ms/step - loss: 0.2113 - sparse_categorical_accuracy: 0.9192 - val_loss: 0.3023 - val_sparse_categorical_accuracy: 0.9008\n",
            "Epoch 61/100\n",
            "375/375 [==============================] - 3s 8ms/step - loss: 0.2125 - sparse_categorical_accuracy: 0.9180 - val_loss: 0.2988 - val_sparse_categorical_accuracy: 0.9015\n",
            "Epoch 62/100\n",
            "375/375 [==============================] - 3s 8ms/step - loss: 0.2089 - sparse_categorical_accuracy: 0.9201 - val_loss: 0.3079 - val_sparse_categorical_accuracy: 0.9012\n",
            "Epoch 63/100\n",
            "375/375 [==============================] - 4s 9ms/step - loss: 0.2063 - sparse_categorical_accuracy: 0.9214 - val_loss: 0.3009 - val_sparse_categorical_accuracy: 0.9023\n",
            "Epoch 64/100\n",
            "375/375 [==============================] - 3s 8ms/step - loss: 0.2056 - sparse_categorical_accuracy: 0.9231 - val_loss: 0.3083 - val_sparse_categorical_accuracy: 0.9020\n",
            "Epoch 65/100\n",
            "375/375 [==============================] - 3s 8ms/step - loss: 0.2081 - sparse_categorical_accuracy: 0.9199 - val_loss: 0.3126 - val_sparse_categorical_accuracy: 0.8998\n",
            "Epoch 66/100\n",
            "375/375 [==============================] - 3s 8ms/step - loss: 0.2059 - sparse_categorical_accuracy: 0.9215 - val_loss: 0.3102 - val_sparse_categorical_accuracy: 0.9015\n",
            "Epoch 67/100\n",
            "375/375 [==============================] - 3s 9ms/step - loss: 0.2050 - sparse_categorical_accuracy: 0.9214 - val_loss: 0.3063 - val_sparse_categorical_accuracy: 0.9032\n",
            "Epoch 68/100\n",
            "375/375 [==============================] - 3s 8ms/step - loss: 0.2041 - sparse_categorical_accuracy: 0.9215 - val_loss: 0.3067 - val_sparse_categorical_accuracy: 0.9036\n",
            "Epoch 69/100\n",
            "375/375 [==============================] - 3s 8ms/step - loss: 0.2016 - sparse_categorical_accuracy: 0.9223 - val_loss: 0.3047 - val_sparse_categorical_accuracy: 0.9040\n",
            "Epoch 70/100\n",
            "375/375 [==============================] - 3s 8ms/step - loss: 0.2013 - sparse_categorical_accuracy: 0.9218 - val_loss: 0.3093 - val_sparse_categorical_accuracy: 0.9034\n",
            "Epoch 71/100\n",
            "375/375 [==============================] - 3s 9ms/step - loss: 0.2026 - sparse_categorical_accuracy: 0.9221 - val_loss: 0.2944 - val_sparse_categorical_accuracy: 0.9037\n",
            "Epoch 72/100\n",
            "375/375 [==============================] - 3s 8ms/step - loss: 0.2014 - sparse_categorical_accuracy: 0.9220 - val_loss: 0.3010 - val_sparse_categorical_accuracy: 0.9052\n",
            "Epoch 73/100\n",
            "375/375 [==============================] - 3s 8ms/step - loss: 0.2013 - sparse_categorical_accuracy: 0.9230 - val_loss: 0.3070 - val_sparse_categorical_accuracy: 0.9053\n",
            "Epoch 74/100\n",
            "375/375 [==============================] - 3s 8ms/step - loss: 0.1976 - sparse_categorical_accuracy: 0.9250 - val_loss: 0.3163 - val_sparse_categorical_accuracy: 0.9022\n",
            "Epoch 75/100\n",
            "375/375 [==============================] - 3s 9ms/step - loss: 0.1997 - sparse_categorical_accuracy: 0.9224 - val_loss: 0.3128 - val_sparse_categorical_accuracy: 0.8988\n",
            "Epoch 76/100\n",
            "375/375 [==============================] - 3s 8ms/step - loss: 0.1976 - sparse_categorical_accuracy: 0.9238 - val_loss: 0.3269 - val_sparse_categorical_accuracy: 0.8997\n",
            "Epoch 77/100\n",
            "375/375 [==============================] - 3s 8ms/step - loss: 0.1962 - sparse_categorical_accuracy: 0.9246 - val_loss: 0.3091 - val_sparse_categorical_accuracy: 0.9022\n",
            "Epoch 78/100\n",
            "375/375 [==============================] - 3s 8ms/step - loss: 0.1958 - sparse_categorical_accuracy: 0.9241 - val_loss: 0.3087 - val_sparse_categorical_accuracy: 0.9016\n",
            "Epoch 79/100\n",
            "375/375 [==============================] - 3s 9ms/step - loss: 0.1930 - sparse_categorical_accuracy: 0.9253 - val_loss: 0.3126 - val_sparse_categorical_accuracy: 0.8995\n",
            "Epoch 80/100\n",
            "375/375 [==============================] - 3s 9ms/step - loss: 0.1950 - sparse_categorical_accuracy: 0.9260 - val_loss: 0.3110 - val_sparse_categorical_accuracy: 0.9028\n",
            "Epoch 81/100\n",
            "375/375 [==============================] - 3s 8ms/step - loss: 0.1924 - sparse_categorical_accuracy: 0.9259 - val_loss: 0.3195 - val_sparse_categorical_accuracy: 0.9006\n",
            "Epoch 82/100\n",
            "375/375 [==============================] - 3s 8ms/step - loss: 0.1943 - sparse_categorical_accuracy: 0.9254 - val_loss: 0.3100 - val_sparse_categorical_accuracy: 0.9038\n",
            "Epoch 83/100\n",
            "375/375 [==============================] - 3s 9ms/step - loss: 0.1899 - sparse_categorical_accuracy: 0.9257 - val_loss: 0.3321 - val_sparse_categorical_accuracy: 0.8993\n",
            "Epoch 84/100\n",
            "375/375 [==============================] - 3s 8ms/step - loss: 0.1941 - sparse_categorical_accuracy: 0.9253 - val_loss: 0.3061 - val_sparse_categorical_accuracy: 0.9052\n",
            "Epoch 85/100\n",
            "375/375 [==============================] - 3s 9ms/step - loss: 0.1904 - sparse_categorical_accuracy: 0.9266 - val_loss: 0.3159 - val_sparse_categorical_accuracy: 0.9037\n",
            "Epoch 86/100\n",
            "375/375 [==============================] - 3s 9ms/step - loss: 0.1884 - sparse_categorical_accuracy: 0.9270 - val_loss: 0.3299 - val_sparse_categorical_accuracy: 0.9042\n",
            "Epoch 87/100\n",
            "375/375 [==============================] - 3s 9ms/step - loss: 0.1902 - sparse_categorical_accuracy: 0.9274 - val_loss: 0.3110 - val_sparse_categorical_accuracy: 0.9026\n",
            "Epoch 88/100\n",
            "375/375 [==============================] - 3s 9ms/step - loss: 0.1913 - sparse_categorical_accuracy: 0.9274 - val_loss: 0.3074 - val_sparse_categorical_accuracy: 0.9043\n",
            "Epoch 89/100\n",
            "375/375 [==============================] - 3s 8ms/step - loss: 0.1878 - sparse_categorical_accuracy: 0.9272 - val_loss: 0.3112 - val_sparse_categorical_accuracy: 0.9031\n",
            "Epoch 90/100\n",
            "375/375 [==============================] - 3s 9ms/step - loss: 0.1879 - sparse_categorical_accuracy: 0.9277 - val_loss: 0.3057 - val_sparse_categorical_accuracy: 0.9050\n",
            "Epoch 91/100\n",
            "375/375 [==============================] - 3s 8ms/step - loss: 0.1889 - sparse_categorical_accuracy: 0.9275 - val_loss: 0.2980 - val_sparse_categorical_accuracy: 0.9043\n",
            "Epoch 92/100\n",
            "375/375 [==============================] - 4s 9ms/step - loss: 0.1862 - sparse_categorical_accuracy: 0.9283 - val_loss: 0.3224 - val_sparse_categorical_accuracy: 0.9048\n",
            "Epoch 93/100\n",
            "375/375 [==============================] - 4s 10ms/step - loss: 0.1868 - sparse_categorical_accuracy: 0.9290 - val_loss: 0.3112 - val_sparse_categorical_accuracy: 0.9023\n",
            "Epoch 94/100\n",
            "375/375 [==============================] - 4s 11ms/step - loss: 0.1880 - sparse_categorical_accuracy: 0.9272 - val_loss: 0.3148 - val_sparse_categorical_accuracy: 0.9043\n",
            "Epoch 95/100\n",
            "375/375 [==============================] - 3s 9ms/step - loss: 0.1820 - sparse_categorical_accuracy: 0.9296 - val_loss: 0.3290 - val_sparse_categorical_accuracy: 0.9052\n",
            "Epoch 96/100\n",
            "375/375 [==============================] - 3s 8ms/step - loss: 0.1815 - sparse_categorical_accuracy: 0.9293 - val_loss: 0.3231 - val_sparse_categorical_accuracy: 0.9076\n",
            "Epoch 97/100\n",
            "375/375 [==============================] - 3s 8ms/step - loss: 0.1860 - sparse_categorical_accuracy: 0.9277 - val_loss: 0.3087 - val_sparse_categorical_accuracy: 0.9019\n",
            "Epoch 98/100\n",
            "375/375 [==============================] - 4s 9ms/step - loss: 0.1811 - sparse_categorical_accuracy: 0.9322 - val_loss: 0.3294 - val_sparse_categorical_accuracy: 0.9007\n",
            "Epoch 99/100\n",
            "375/375 [==============================] - 3s 8ms/step - loss: 0.1809 - sparse_categorical_accuracy: 0.9303 - val_loss: 0.3203 - val_sparse_categorical_accuracy: 0.9026\n",
            "Epoch 100/100\n",
            "375/375 [==============================] - 3s 8ms/step - loss: 0.1811 - sparse_categorical_accuracy: 0.9306 - val_loss: 0.3190 - val_sparse_categorical_accuracy: 0.9044\n",
            "313/313 [==============================] - 1s 3ms/step - loss: 0.3469 - sparse_categorical_accuracy: 0.8992\n",
            "\n",
            "Test accuracy: 0.8992000222206116\n"
          ]
        }
      ]
    },
    {
      "cell_type": "code",
      "source": [
        "print('\\nhistory dict:', list(history.history.keys()))"
      ],
      "metadata": {
        "id": "CxRE-B_Q6Sii",
        "colab": {
          "base_uri": "https://localhost:8080/"
        },
        "outputId": "a849a92a-bae7-4b89-adac-5ee70108079e"
      },
      "execution_count": 95,
      "outputs": [
        {
          "output_type": "stream",
          "name": "stdout",
          "text": [
            "\n",
            "history dict: ['loss', 'sparse_categorical_accuracy', 'val_loss', 'val_sparse_categorical_accuracy']\n"
          ]
        }
      ]
    },
    {
      "cell_type": "code",
      "source": [
        "result = model.evaluate(x_test, y_test)\n",
        "print(result)"
      ],
      "metadata": {
        "id": "YXpwRRTvTBNg",
        "colab": {
          "base_uri": "https://localhost:8080/"
        },
        "outputId": "b019e81a-251e-406e-8441-e725f99c20ad"
      },
      "execution_count": 96,
      "outputs": [
        {
          "output_type": "stream",
          "name": "stdout",
          "text": [
            "313/313 [==============================] - 1s 3ms/step - loss: 0.3469 - sparse_categorical_accuracy: 0.8992\n",
            "[0.3469482958316803, 0.8992000222206116]\n"
          ]
        }
      ]
    },
    {
      "cell_type": "code",
      "source": [
        "saved_model = load_model('best_model.h5')\n",
        "result = saved_model.evaluate(x_test, y_test)\n",
        "print(result)"
      ],
      "metadata": {
        "colab": {
          "base_uri": "https://localhost:8080/"
        },
        "id": "dpaZAW0vp1AZ",
        "outputId": "008575ae-45ed-4ba3-b53d-6c166c5b6f0f"
      },
      "execution_count": 97,
      "outputs": [
        {
          "output_type": "stream",
          "name": "stdout",
          "text": [
            "313/313 [==============================] - 1s 4ms/step - loss: 0.3605 - sparse_categorical_accuracy: 0.8976\n",
            "[0.3605424463748932, 0.897599995136261]\n"
          ]
        }
      ]
    },
    {
      "cell_type": "code",
      "source": [
        "# from keras.models import load_model\n",
        "# saved_model = load_model('best_model.h5')\n",
        "# # _, train_acc = saved_model.evaluate(x_train, y_train, verbose=0)\n",
        "# _, test_acc = saved_model.evaluate(x_test, y_test, verbose=0)\n",
        "# print('Test: %.3f' % (test_acc))"
      ],
      "metadata": {
        "id": "DR_MS9DABo_K"
      },
      "execution_count": 98,
      "outputs": []
    },
    {
      "cell_type": "code",
      "source": [
        "history_dict = history.history\n",
        "loss_values = history_dict['loss']\n",
        "val_loss_values = history_dict['val_loss']\n",
        "\n",
        "epochs = range(1, len(history_dict['loss']) + 1)\n",
        "\n",
        "plt.figure(figsize=(10, 5))\n",
        "plt.plot(epochs, loss_values, 'bo', label='Training loss')\n",
        "plt.plot(epochs, val_loss_values, 'r', label='Validation loss')\n",
        "# plt.ylim (0.2, 0.5)\n",
        "plt.title('Training and validation loss')\n",
        "plt.xlabel('Epochs')\n",
        "plt.ylabel('Loss')\n",
        "# plt.legend()\n",
        "plt.grid(True)\n",
        "plt.show()\n",
        "1\n",
        "plt.clf()\n",
        "plt.figure(figsize=(10, 5))\n",
        "val_acc_values = history_dict['sparse_categorical_accuracy']\n",
        "plt.plot(epochs, history_dict['sparse_categorical_accuracy'], 'bo', label='Training acc')\n",
        "plt.plot(epochs, history_dict['val_sparse_categorical_accuracy'], 'r', label='Validation acc')\n",
        "plt.ylim (0.88, 0.94)\n",
        "plt.title('Training and validation accuracy')\n",
        "plt.xlabel('Epochs')\n",
        "plt.ylabel('Accuracy')\n",
        "plt.legend()\n",
        "plt.grid(True)"
      ],
      "metadata": {
        "id": "2Ll_5sGlXKMH",
        "colab": {
          "base_uri": "https://localhost:8080/",
          "height": 975
        },
        "outputId": "45398314-b027-4cd8-bac2-a75de336c78e"
      },
      "execution_count": 99,
      "outputs": [
        {
          "output_type": "display_data",
          "data": {
            "text/plain": [
              "<Figure size 1000x500 with 1 Axes>"
            ],
            "image/png": "[encoded data removed]"
          },
          "metadata": {}
        },
        {
          "output_type": "display_data",
          "data": {
            "text/plain": [
              "<Figure size 640x480 with 0 Axes>"
            ]
          },
          "metadata": {}
        },
        {
          "output_type": "display_data",
          "data": {
            "text/plain": [
              "<Figure size 1000x500 with 1 Axes>"
            ],
            "image/png": "[encoded data removed]"
          },
          "metadata": {}
        }
      ]
    },
    {
      "cell_type": "code",
      "source": [
        "probability_model = tf.keras.Sequential([model,\n",
        "                                         tf.keras.layers.Softmax()])"
      ],
      "metadata": {
        "id": "VzOdKAT_uV-f"
      },
      "execution_count": 100,
      "outputs": []
    },
    {
      "cell_type": "code",
      "source": [
        "predictions = probability_model.predict(x_test)"
      ],
      "metadata": {
        "id": "f4is3NFruYom",
        "colab": {
          "base_uri": "https://localhost:8080/"
        },
        "outputId": "91ca4f04-5de6-4561-8581-ce37ab3f0c53"
      },
      "execution_count": 101,
      "outputs": [
        {
          "output_type": "stream",
          "name": "stdout",
          "text": [
            "313/313 [==============================] - 1s 2ms/step\n"
          ]
        }
      ]
    },
    {
      "cell_type": "code",
      "source": [
        "predictions[0]"
      ],
      "metadata": {
        "id": "82cigvlZudz_",
        "colab": {
          "base_uri": "https://localhost:8080/"
        },
        "outputId": "f74053a2-2940-4b04-9edf-00727f32b5cf"
      },
      "execution_count": 102,
      "outputs": [
        {
          "output_type": "execute_result",
          "data": {
            "text/plain": [
              "array([0.08533868, 0.08533868, 0.08533868, 0.08533868, 0.08533868,\n",
              "       0.08533869, 0.08533868, 0.08535188, 0.08533868, 0.23193866],\n",
              "      dtype=float32)"
            ]
          },
          "metadata": {},
          "execution_count": 102
        }
      ]
    },
    {
      "cell_type": "code",
      "source": [
        "model.summary()"
      ],
      "metadata": {
        "id": "6RsQPHyYuNGe",
        "colab": {
          "base_uri": "https://localhost:8080/"
        },
        "outputId": "da156b12-cc55-4af8-9229-d5b1bc897430"
      },
      "execution_count": 103,
      "outputs": [
        {
          "output_type": "stream",
          "name": "stdout",
          "text": [
            "Model: \"sequential_8\"\n",
            "_________________________________________________________________\n",
            " Layer (type)                Output Shape              Param #   \n",
            "=================================================================\n",
            " flatten_4 (Flatten)         (None, 784)               0         \n",
            "                                                                 \n",
            " dropout_20 (Dropout)        (None, 784)               0         \n",
            "                                                                 \n",
            " batch_normalization_16 (Ba  (None, 784)               3136      \n",
            " tchNormalization)                                               \n",
            "                                                                 \n",
            " dense_20 (Dense)            (None, 1024)              803840    \n",
            "                                                                 \n",
            " dropout_21 (Dropout)        (None, 1024)              0         \n",
            "                                                                 \n",
            " batch_normalization_17 (Ba  (None, 1024)              4096      \n",
            " tchNormalization)                                               \n",
            "                                                                 \n",
            " dense_21 (Dense)            (None, 2048)              2099200   \n",
            "                                                                 \n",
            " dropout_22 (Dropout)        (None, 2048)              0         \n",
            "                                                                 \n",
            " batch_normalization_18 (Ba  (None, 2048)              8192      \n",
            " tchNormalization)                                               \n",
            "                                                                 \n",
            " dense_22 (Dense)            (None, 2048)              4196352   \n",
            "                                                                 \n",
            " dropout_23 (Dropout)        (None, 2048)              0         \n",
            "                                                                 \n",
            " dense_23 (Dense)            (None, 10)                20490     \n",
            "                                                                 \n",
            "=================================================================\n",
            "Total params: 7135306 (27.22 MB)\n",
            "Trainable params: 7127594 (27.19 MB)\n",
            "Non-trainable params: 7712 (30.12 KB)\n",
            "_________________________________________________________________\n"
          ]
        }
      ]
    }
  ]
}