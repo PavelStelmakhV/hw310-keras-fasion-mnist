{
  "nbformat": 4,
  "nbformat_minor": 0,
  "metadata": {
    "colab": {
      "provenance": [],
      "gpuType": "T4",
      "authorship_tag": "ABX9TyN7feakiB8Fo5NmZ+wVj+Rz",
      "include_colab_link": true
    },
    "kernelspec": {
      "name": "python3",
      "display_name": "Python 3"
    },
    "language_info": {
      "name": "python"
    },
    "accelerator": "GPU"
  },
  "cells": [
    {
      "cell_type": "markdown",
      "metadata": {
        "id": "view-in-github",
        "colab_type": "text"
      },
      "source": [
        "<a href=\"https://colab.research.google.com/github/PavelStelmakhV/hw310-keras-fasion-mnist/blob/main/keras_fasion_mnist_hw.ipynb\" target=\"_parent\"><img src=\"https://colab.research.google.com/assets/colab-badge.svg\" alt=\"Open In Colab\"/></a>"
      ]
    },
    {
      "cell_type": "code",
      "execution_count": 117,
      "metadata": {
        "id": "vv7w0bgAVQPO"
      },
      "outputs": [],
      "source": [
        "import tensorflow as tf\n",
        "import numpy as np\n",
        "import matplotlib.pyplot as plt\n",
        "import tf_keras\n",
        "\n",
        "from keras import layers\n",
        "from keras import regularizers\n",
        "from keras import callbacks\n",
        "from keras import initializers\n",
        "from keras.layers import BatchNormalization\n",
        "from keras.models import load_model"
      ]
    },
    {
      "cell_type": "code",
      "source": [
        "fashion_mnist = tf.keras.datasets.fashion_mnist\n",
        "\n",
        "(x_train, y_train), (x_test, y_test) = fashion_mnist.load_data()"
      ],
      "metadata": {
        "id": "mOpywsNAzfGB"
      },
      "execution_count": 118,
      "outputs": []
    },
    {
      "cell_type": "code",
      "source": [
        "# x_train = x_train.reshape(60000, 784).astype('float32') / 255\n",
        "# x_test = x_test.reshape(10000, 784).astype('float32') / 255\n",
        "x_train = x_train.astype('float32') / 255\n",
        "x_test = x_test.astype('float32') / 255\n",
        "\n",
        "y_train = y_train.astype('float32')\n",
        "y_test = y_test.astype('float32')\n",
        "\n",
        "# Перемешаем тренировочные данные\n",
        "# train_data = tf.data.Dataset.from_tensor_slices((x_train, y_train))\n",
        "# train_data = train_data.repeat().shuffle(5000).batch(batch_size).prefetch(1)"
      ],
      "metadata": {
        "id": "t2gucjsJ0KUi"
      },
      "execution_count": 119,
      "outputs": []
    },
    {
      "cell_type": "code",
      "source": [
        "# x_val = x_train[-10000:]\n",
        "# y_val = y_train[-10000:]\n",
        "# x_train = x_train[:-10000]\n",
        "# y_train = y_train[:-10000]"
      ],
      "metadata": {
        "id": "fLPNXab5dHwO"
      },
      "execution_count": 120,
      "outputs": []
    },
    {
      "cell_type": "code",
      "source": [],
      "metadata": {
        "id": "bU5TK5YdlnU5"
      },
      "execution_count": 120,
      "outputs": []
    },
    {
      "cell_type": "code",
      "source": [
        "w_init_tanh = initializers.glorot_normal(seed=42)\n",
        "w_init_relu = initializers.HeNormal(seed=42)\n",
        "b_init = initializers.Zeros()"
      ],
      "metadata": {
        "id": "yL9QTEtBGy4N"
      },
      "execution_count": 121,
      "outputs": []
    },
    {
      "cell_type": "code",
      "source": [
        "def layer_relu(model, neurons):\n",
        "  model.add(BatchNormalization())\n",
        "  model.add(layers.Dense(neurons,\n",
        "                       activation='relu',\n",
        "                       kernel_initializer=w_init_relu,\n",
        "                       bias_initializer=b_init))\n",
        "  model.add(layers.Dropout(drop_out))\n",
        "  return model"
      ],
      "metadata": {
        "id": "ZZgs_25rKBCp"
      },
      "execution_count": 122,
      "outputs": []
    },
    {
      "cell_type": "code",
      "source": [
        "def layer_tanh(model, neurons):\n",
        "  model.add(BatchNormalization())\n",
        "  model.add(layers.Dense(neurons,\n",
        "                        activation='tanh',\n",
        "                        kernel_initializer=w_init_tanh,\n",
        "                        bias_initializer=b_init))\n",
        "  model.add(layers.Dropout(drop_out))\n",
        "  return model"
      ],
      "metadata": {
        "id": "90JLLnkBR50t"
      },
      "execution_count": 123,
      "outputs": []
    },
    {
      "cell_type": "code",
      "source": [],
      "metadata": {
        "id": "Va9BaQ9eG_uz"
      },
      "execution_count": 123,
      "outputs": []
    },
    {
      "cell_type": "code",
      "source": [
        "model = tf.keras.Sequential()\n",
        "\n",
        "drop_out = 0.30\n",
        "neurons = 256\n",
        "\n",
        "model.add(layers.Flatten(input_shape=(28, 28)))\n",
        "model.add(layers.Dropout(drop_out))\n",
        "\n",
        "model = layer_relu(model, neurons*1)\n",
        "# model = layer_tanh(model, neurons*1)\n",
        "model = layer_tanh(model, neurons*2)\n",
        "model = layer_relu(model, neurons*2)\n",
        "\n",
        "model.add(layers.Dense(10, activation='softmax'))"
      ],
      "metadata": {
        "id": "atS39i4d0aqW"
      },
      "execution_count": 124,
      "outputs": []
    },
    {
      "cell_type": "markdown",
      "source": [
        "++++++++++++++++++++++++++++++++++++++++++++++++++++++++++++++++++++++++++++++++"
      ],
      "metadata": {
        "id": "tZO7hl7pM63y"
      }
    },
    {
      "cell_type": "code",
      "source": [
        "optimizer = tf.keras.optimizers.Nadam(learning_rate=0.0007,\n",
        "                                      beta_1=0.5,\n",
        "                                      beta_2=0.999,\n",
        "                                      epsilon=1e-02\n",
        ")"
      ],
      "metadata": {
        "id": "EzfnaqIZlfy8"
      },
      "execution_count": 125,
      "outputs": []
    },
    {
      "cell_type": "markdown",
      "source": [
        "++++++++++++++++++++++++++++++++++++++++++++++++++++++++++++++++++++++++++++++++"
      ],
      "metadata": {
        "id": "KHmBptvOM95Z"
      }
    },
    {
      "cell_type": "code",
      "source": [
        "model.compile(#optimizer='adam',\n",
        "              # optimizer='adamax',\n",
        "              optimizer=optimizer,\n",
        "              # optimizer='rmsprop',\n",
        "              # optimizer='sgd',\n",
        "              # optimizer='adadelta',\n",
        "              # loss='binary_crossentropy',\n",
        "              loss=tf.keras.losses.SparseCategoricalCrossentropy(),\n",
        "              metrics=['sparse_categorical_accuracy']) # sparse_categorical_accuracy"
      ],
      "metadata": {
        "id": "hENVaAC7ilNY"
      },
      "execution_count": 126,
      "outputs": []
    },
    {
      "cell_type": "code",
      "source": [
        "x = np.random.random((1, 28, 28))\n",
        "a = model.predict(x)\n",
        "_ = plt.hist(np.transpose(a))"
      ],
      "metadata": {
        "id": "RFgZHNNFMa8p",
        "outputId": "b229340b-7d23-4058-ad11-6de8a6b0a865",
        "colab": {
          "base_uri": "https://localhost:8080/",
          "height": 448
        }
      },
      "execution_count": 127,
      "outputs": [
        {
          "output_type": "stream",
          "name": "stdout",
          "text": [
            "1/1 [==============================] - 0s 107ms/step\n"
          ]
        },
        {
          "output_type": "display_data",
          "data": {
            "text/plain": [
              "<Figure size 640x480 with 1 Axes>"
            ],
            "image/png": "[encoded data removed]"
          },
          "metadata": {}
        }
      ]
    },
    {
      "cell_type": "code",
      "source": [
        "y_pred = model.predict(x_test)"
      ],
      "metadata": {
        "id": "UDP8OKKZ8oQa",
        "outputId": "909af13b-fabc-4342-f46b-16a86f035eae",
        "colab": {
          "base_uri": "https://localhost:8080/"
        }
      },
      "execution_count": 128,
      "outputs": [
        {
          "output_type": "stream",
          "name": "stdout",
          "text": [
            "313/313 [==============================] - 1s 2ms/step\n"
          ]
        }
      ]
    },
    {
      "cell_type": "code",
      "source": [
        "callback = callbacks.EarlyStopping(monitor='val_loss',\n",
        "                                   patience=50,\n",
        "                                   restore_best_weights=True,\n",
        "                                   )\n",
        "es = callbacks.EarlyStopping(monitor='val_loss', mode='min', verbose=0, patience=40)\n",
        "mc = callbacks.ModelCheckpoint('best_model.h5', monitor='sparse_categorical_accuracy', mode='max', verbose=0, save_best_only=True)\n"
      ],
      "metadata": {
        "id": "5ihU4exVlsjm"
      },
      "execution_count": 129,
      "outputs": []
    },
    {
      "cell_type": "code",
      "source": [
        "history = model.fit(x_train, y_train,\n",
        "                    epochs=100,\n",
        "                    batch_size=128,\n",
        "                    # callbacks=[callback],\n",
        "                    callbacks=[mc, es],\n",
        "                    verbose=1, #многословие\n",
        "                    validation_split=0.2\n",
        "                    # validation_data=(x_val, y_val)\n",
        "                    )\n",
        "test_loss, test_acc = model.evaluate(x_test, y_test)\n",
        "print('\\nTest accuracy:', test_acc)"
      ],
      "metadata": {
        "id": "FH8HcMNm233I",
        "outputId": "6f2b7468-31b1-4c86-ed3d-eecd08ed6a66",
        "colab": {
          "base_uri": "https://localhost:8080/"
        }
      },
      "execution_count": 130,
      "outputs": [
        {
          "output_type": "stream",
          "name": "stdout",
          "text": [
            "Epoch 1/100\n",
            "375/375 [==============================] - 8s 8ms/step - loss: 0.9323 - sparse_categorical_accuracy: 0.6779 - val_loss: 0.4894 - val_sparse_categorical_accuracy: 0.8258\n",
            "Epoch 2/100\n",
            "375/375 [==============================] - 3s 7ms/step - loss: 0.6468 - sparse_categorical_accuracy: 0.7665 - val_loss: 0.4548 - val_sparse_categorical_accuracy: 0.8337\n",
            "Epoch 3/100\n",
            "375/375 [==============================] - 3s 7ms/step - loss: 0.5797 - sparse_categorical_accuracy: 0.7882 - val_loss: 0.4350 - val_sparse_categorical_accuracy: 0.8413\n",
            "Epoch 4/100\n",
            "375/375 [==============================] - 3s 8ms/step - loss: 0.5438 - sparse_categorical_accuracy: 0.8017 - val_loss: 0.4126 - val_sparse_categorical_accuracy: 0.8477\n",
            "Epoch 5/100\n",
            "375/375 [==============================] - 3s 8ms/step - loss: 0.5182 - sparse_categorical_accuracy: 0.8077 - val_loss: 0.4155 - val_sparse_categorical_accuracy: 0.8491\n",
            "Epoch 6/100\n",
            "375/375 [==============================] - 3s 7ms/step - loss: 0.5039 - sparse_categorical_accuracy: 0.8136 - val_loss: 0.4047 - val_sparse_categorical_accuracy: 0.8503\n",
            "Epoch 7/100\n",
            "375/375 [==============================] - 3s 7ms/step - loss: 0.4892 - sparse_categorical_accuracy: 0.8203 - val_loss: 0.3962 - val_sparse_categorical_accuracy: 0.8553\n",
            "Epoch 8/100\n",
            "375/375 [==============================] - 2s 7ms/step - loss: 0.4751 - sparse_categorical_accuracy: 0.8244 - val_loss: 0.3858 - val_sparse_categorical_accuracy: 0.8588\n",
            "Epoch 9/100\n",
            "375/375 [==============================] - 3s 8ms/step - loss: 0.4646 - sparse_categorical_accuracy: 0.8265 - val_loss: 0.3854 - val_sparse_categorical_accuracy: 0.8589\n",
            "Epoch 10/100\n",
            "375/375 [==============================] - 2s 6ms/step - loss: 0.4600 - sparse_categorical_accuracy: 0.8288 - val_loss: 0.3736 - val_sparse_categorical_accuracy: 0.8652\n",
            "Epoch 11/100\n",
            "375/375 [==============================] - 2s 6ms/step - loss: 0.4511 - sparse_categorical_accuracy: 0.8322 - val_loss: 0.3763 - val_sparse_categorical_accuracy: 0.8620\n",
            "Epoch 12/100\n",
            "375/375 [==============================] - 2s 7ms/step - loss: 0.4453 - sparse_categorical_accuracy: 0.8354 - val_loss: 0.3676 - val_sparse_categorical_accuracy: 0.8656\n",
            "Epoch 13/100\n",
            "375/375 [==============================] - 2s 6ms/step - loss: 0.4341 - sparse_categorical_accuracy: 0.8381 - val_loss: 0.3664 - val_sparse_categorical_accuracy: 0.8652\n",
            "Epoch 14/100\n",
            "375/375 [==============================] - 3s 8ms/step - loss: 0.4327 - sparse_categorical_accuracy: 0.8379 - val_loss: 0.3633 - val_sparse_categorical_accuracy: 0.8645\n",
            "Epoch 15/100\n",
            "375/375 [==============================] - 2s 6ms/step - loss: 0.4284 - sparse_categorical_accuracy: 0.8386 - val_loss: 0.3597 - val_sparse_categorical_accuracy: 0.8674\n",
            "Epoch 16/100\n",
            "375/375 [==============================] - 3s 7ms/step - loss: 0.4266 - sparse_categorical_accuracy: 0.8411 - val_loss: 0.3650 - val_sparse_categorical_accuracy: 0.8666\n",
            "Epoch 17/100\n",
            "375/375 [==============================] - 2s 6ms/step - loss: 0.4183 - sparse_categorical_accuracy: 0.8436 - val_loss: 0.3527 - val_sparse_categorical_accuracy: 0.8694\n",
            "Epoch 18/100\n",
            "375/375 [==============================] - 2s 6ms/step - loss: 0.4181 - sparse_categorical_accuracy: 0.8416 - val_loss: 0.3546 - val_sparse_categorical_accuracy: 0.8704\n",
            "Epoch 19/100\n",
            "375/375 [==============================] - 3s 7ms/step - loss: 0.4096 - sparse_categorical_accuracy: 0.8469 - val_loss: 0.3483 - val_sparse_categorical_accuracy: 0.8724\n",
            "Epoch 20/100\n",
            "375/375 [==============================] - 2s 6ms/step - loss: 0.4109 - sparse_categorical_accuracy: 0.8464 - val_loss: 0.3499 - val_sparse_categorical_accuracy: 0.8745\n",
            "Epoch 21/100\n",
            "375/375 [==============================] - 2s 6ms/step - loss: 0.4041 - sparse_categorical_accuracy: 0.8479 - val_loss: 0.3431 - val_sparse_categorical_accuracy: 0.8748\n",
            "Epoch 22/100\n",
            "375/375 [==============================] - 2s 7ms/step - loss: 0.4026 - sparse_categorical_accuracy: 0.8490 - val_loss: 0.3482 - val_sparse_categorical_accuracy: 0.8713\n",
            "Epoch 23/100\n",
            "375/375 [==============================] - 3s 8ms/step - loss: 0.4029 - sparse_categorical_accuracy: 0.8488 - val_loss: 0.3395 - val_sparse_categorical_accuracy: 0.8750\n",
            "Epoch 24/100\n",
            "375/375 [==============================] - 3s 7ms/step - loss: 0.3971 - sparse_categorical_accuracy: 0.8497 - val_loss: 0.3439 - val_sparse_categorical_accuracy: 0.8757\n",
            "Epoch 25/100\n",
            "375/375 [==============================] - 2s 6ms/step - loss: 0.3935 - sparse_categorical_accuracy: 0.8520 - val_loss: 0.3395 - val_sparse_categorical_accuracy: 0.8765\n",
            "Epoch 26/100\n",
            "375/375 [==============================] - 2s 6ms/step - loss: 0.3967 - sparse_categorical_accuracy: 0.8518 - val_loss: 0.3422 - val_sparse_categorical_accuracy: 0.8746\n",
            "Epoch 27/100\n",
            "375/375 [==============================] - 2s 6ms/step - loss: 0.3912 - sparse_categorical_accuracy: 0.8536 - val_loss: 0.3429 - val_sparse_categorical_accuracy: 0.8766\n",
            "Epoch 28/100\n",
            "375/375 [==============================] - 3s 7ms/step - loss: 0.3878 - sparse_categorical_accuracy: 0.8556 - val_loss: 0.3283 - val_sparse_categorical_accuracy: 0.8788\n",
            "Epoch 29/100\n",
            "375/375 [==============================] - 3s 7ms/step - loss: 0.3864 - sparse_categorical_accuracy: 0.8543 - val_loss: 0.3326 - val_sparse_categorical_accuracy: 0.8796\n",
            "Epoch 30/100\n",
            "375/375 [==============================] - 2s 6ms/step - loss: 0.3860 - sparse_categorical_accuracy: 0.8542 - val_loss: 0.3352 - val_sparse_categorical_accuracy: 0.8788\n",
            "Epoch 31/100\n",
            "375/375 [==============================] - 2s 6ms/step - loss: 0.3832 - sparse_categorical_accuracy: 0.8552 - val_loss: 0.3396 - val_sparse_categorical_accuracy: 0.8771\n",
            "Epoch 32/100\n",
            "375/375 [==============================] - 3s 7ms/step - loss: 0.3784 - sparse_categorical_accuracy: 0.8586 - val_loss: 0.3306 - val_sparse_categorical_accuracy: 0.8777\n",
            "Epoch 33/100\n",
            "375/375 [==============================] - 3s 7ms/step - loss: 0.3779 - sparse_categorical_accuracy: 0.8573 - val_loss: 0.3202 - val_sparse_categorical_accuracy: 0.8828\n",
            "Epoch 34/100\n",
            "375/375 [==============================] - 2s 6ms/step - loss: 0.3786 - sparse_categorical_accuracy: 0.8586 - val_loss: 0.3251 - val_sparse_categorical_accuracy: 0.8823\n",
            "Epoch 35/100\n",
            "375/375 [==============================] - 2s 6ms/step - loss: 0.3727 - sparse_categorical_accuracy: 0.8599 - val_loss: 0.3304 - val_sparse_categorical_accuracy: 0.8813\n",
            "Epoch 36/100\n",
            "375/375 [==============================] - 2s 7ms/step - loss: 0.3743 - sparse_categorical_accuracy: 0.8589 - val_loss: 0.3235 - val_sparse_categorical_accuracy: 0.8827\n",
            "Epoch 37/100\n",
            "375/375 [==============================] - 2s 6ms/step - loss: 0.3707 - sparse_categorical_accuracy: 0.8607 - val_loss: 0.3247 - val_sparse_categorical_accuracy: 0.8819\n",
            "Epoch 38/100\n",
            "375/375 [==============================] - 3s 7ms/step - loss: 0.3678 - sparse_categorical_accuracy: 0.8626 - val_loss: 0.3216 - val_sparse_categorical_accuracy: 0.8833\n",
            "Epoch 39/100\n",
            "375/375 [==============================] - 2s 6ms/step - loss: 0.3700 - sparse_categorical_accuracy: 0.8617 - val_loss: 0.3177 - val_sparse_categorical_accuracy: 0.8831\n",
            "Epoch 40/100\n",
            "375/375 [==============================] - 2s 6ms/step - loss: 0.3662 - sparse_categorical_accuracy: 0.8626 - val_loss: 0.3172 - val_sparse_categorical_accuracy: 0.8838\n",
            "Epoch 41/100\n",
            "375/375 [==============================] - 2s 6ms/step - loss: 0.3640 - sparse_categorical_accuracy: 0.8616 - val_loss: 0.3231 - val_sparse_categorical_accuracy: 0.8823\n",
            "Epoch 42/100\n",
            "375/375 [==============================] - 2s 6ms/step - loss: 0.3631 - sparse_categorical_accuracy: 0.8624 - val_loss: 0.3261 - val_sparse_categorical_accuracy: 0.8831\n",
            "Epoch 43/100\n",
            "375/375 [==============================] - 3s 7ms/step - loss: 0.3626 - sparse_categorical_accuracy: 0.8620 - val_loss: 0.3210 - val_sparse_categorical_accuracy: 0.8815\n",
            "Epoch 44/100\n",
            "375/375 [==============================] - 3s 7ms/step - loss: 0.3608 - sparse_categorical_accuracy: 0.8648 - val_loss: 0.3132 - val_sparse_categorical_accuracy: 0.8860\n",
            "Epoch 45/100\n",
            "375/375 [==============================] - 2s 6ms/step - loss: 0.3551 - sparse_categorical_accuracy: 0.8649 - val_loss: 0.3214 - val_sparse_categorical_accuracy: 0.8835\n",
            "Epoch 46/100\n",
            "375/375 [==============================] - 3s 7ms/step - loss: 0.3584 - sparse_categorical_accuracy: 0.8654 - val_loss: 0.3154 - val_sparse_categorical_accuracy: 0.8842\n",
            "Epoch 47/100\n",
            "375/375 [==============================] - 3s 7ms/step - loss: 0.3573 - sparse_categorical_accuracy: 0.8641 - val_loss: 0.3195 - val_sparse_categorical_accuracy: 0.8824\n",
            "Epoch 48/100\n",
            "375/375 [==============================] - 3s 8ms/step - loss: 0.3560 - sparse_categorical_accuracy: 0.8657 - val_loss: 0.3129 - val_sparse_categorical_accuracy: 0.8848\n",
            "Epoch 49/100\n",
            "375/375 [==============================] - 2s 7ms/step - loss: 0.3497 - sparse_categorical_accuracy: 0.8683 - val_loss: 0.3147 - val_sparse_categorical_accuracy: 0.8840\n",
            "Epoch 50/100\n",
            "375/375 [==============================] - 3s 7ms/step - loss: 0.3534 - sparse_categorical_accuracy: 0.8661 - val_loss: 0.3144 - val_sparse_categorical_accuracy: 0.8861\n",
            "Epoch 51/100\n",
            "375/375 [==============================] - 3s 7ms/step - loss: 0.3508 - sparse_categorical_accuracy: 0.8668 - val_loss: 0.3106 - val_sparse_categorical_accuracy: 0.8857\n",
            "Epoch 52/100\n",
            "375/375 [==============================] - 3s 7ms/step - loss: 0.3503 - sparse_categorical_accuracy: 0.8673 - val_loss: 0.3075 - val_sparse_categorical_accuracy: 0.8864\n",
            "Epoch 53/100\n",
            "375/375 [==============================] - 3s 7ms/step - loss: 0.3499 - sparse_categorical_accuracy: 0.8688 - val_loss: 0.3088 - val_sparse_categorical_accuracy: 0.8875\n",
            "Epoch 54/100\n",
            "375/375 [==============================] - 2s 6ms/step - loss: 0.3478 - sparse_categorical_accuracy: 0.8681 - val_loss: 0.3053 - val_sparse_categorical_accuracy: 0.8869\n",
            "Epoch 55/100\n",
            "375/375 [==============================] - 3s 7ms/step - loss: 0.3422 - sparse_categorical_accuracy: 0.8713 - val_loss: 0.3028 - val_sparse_categorical_accuracy: 0.8890\n",
            "Epoch 56/100\n",
            "375/375 [==============================] - 3s 7ms/step - loss: 0.3428 - sparse_categorical_accuracy: 0.8704 - val_loss: 0.3080 - val_sparse_categorical_accuracy: 0.8872\n",
            "Epoch 57/100\n",
            "375/375 [==============================] - 3s 8ms/step - loss: 0.3478 - sparse_categorical_accuracy: 0.8696 - val_loss: 0.3079 - val_sparse_categorical_accuracy: 0.8854\n",
            "Epoch 58/100\n",
            "375/375 [==============================] - 3s 7ms/step - loss: 0.3413 - sparse_categorical_accuracy: 0.8718 - val_loss: 0.3032 - val_sparse_categorical_accuracy: 0.8884\n",
            "Epoch 59/100\n",
            "375/375 [==============================] - 3s 7ms/step - loss: 0.3440 - sparse_categorical_accuracy: 0.8710 - val_loss: 0.3023 - val_sparse_categorical_accuracy: 0.8884\n",
            "Epoch 60/100\n",
            "375/375 [==============================] - 2s 6ms/step - loss: 0.3400 - sparse_categorical_accuracy: 0.8714 - val_loss: 0.3013 - val_sparse_categorical_accuracy: 0.8904\n",
            "Epoch 61/100\n",
            "375/375 [==============================] - 3s 7ms/step - loss: 0.3388 - sparse_categorical_accuracy: 0.8718 - val_loss: 0.3058 - val_sparse_categorical_accuracy: 0.8878\n",
            "Epoch 62/100\n",
            "375/375 [==============================] - 3s 8ms/step - loss: 0.3374 - sparse_categorical_accuracy: 0.8720 - val_loss: 0.3003 - val_sparse_categorical_accuracy: 0.8904\n",
            "Epoch 63/100\n",
            "375/375 [==============================] - 3s 7ms/step - loss: 0.3358 - sparse_categorical_accuracy: 0.8725 - val_loss: 0.3040 - val_sparse_categorical_accuracy: 0.8888\n",
            "Epoch 64/100\n",
            "375/375 [==============================] - 3s 7ms/step - loss: 0.3353 - sparse_categorical_accuracy: 0.8726 - val_loss: 0.3033 - val_sparse_categorical_accuracy: 0.8890\n",
            "Epoch 65/100\n",
            "375/375 [==============================] - 3s 7ms/step - loss: 0.3328 - sparse_categorical_accuracy: 0.8748 - val_loss: 0.3053 - val_sparse_categorical_accuracy: 0.8882\n",
            "Epoch 66/100\n",
            "375/375 [==============================] - 3s 7ms/step - loss: 0.3359 - sparse_categorical_accuracy: 0.8722 - val_loss: 0.3005 - val_sparse_categorical_accuracy: 0.8898\n",
            "Epoch 67/100\n",
            "375/375 [==============================] - 3s 7ms/step - loss: 0.3298 - sparse_categorical_accuracy: 0.8750 - val_loss: 0.3017 - val_sparse_categorical_accuracy: 0.8907\n",
            "Epoch 68/100\n",
            "375/375 [==============================] - 3s 7ms/step - loss: 0.3289 - sparse_categorical_accuracy: 0.8759 - val_loss: 0.2994 - val_sparse_categorical_accuracy: 0.8907\n",
            "Epoch 69/100\n",
            "375/375 [==============================] - 2s 6ms/step - loss: 0.3304 - sparse_categorical_accuracy: 0.8750 - val_loss: 0.3032 - val_sparse_categorical_accuracy: 0.8897\n",
            "Epoch 70/100\n",
            "375/375 [==============================] - 2s 6ms/step - loss: 0.3311 - sparse_categorical_accuracy: 0.8752 - val_loss: 0.3012 - val_sparse_categorical_accuracy: 0.8899\n",
            "Epoch 71/100\n",
            "375/375 [==============================] - 3s 9ms/step - loss: 0.3279 - sparse_categorical_accuracy: 0.8759 - val_loss: 0.3040 - val_sparse_categorical_accuracy: 0.8868\n",
            "Epoch 72/100\n",
            "375/375 [==============================] - 3s 8ms/step - loss: 0.3286 - sparse_categorical_accuracy: 0.8745 - val_loss: 0.3017 - val_sparse_categorical_accuracy: 0.8895\n",
            "Epoch 73/100\n",
            "375/375 [==============================] - 3s 8ms/step - loss: 0.3270 - sparse_categorical_accuracy: 0.8766 - val_loss: 0.2957 - val_sparse_categorical_accuracy: 0.8907\n",
            "Epoch 74/100\n",
            "375/375 [==============================] - 3s 8ms/step - loss: 0.3291 - sparse_categorical_accuracy: 0.8746 - val_loss: 0.2965 - val_sparse_categorical_accuracy: 0.8917\n",
            "Epoch 75/100\n",
            "375/375 [==============================] - 3s 7ms/step - loss: 0.3268 - sparse_categorical_accuracy: 0.8761 - val_loss: 0.2951 - val_sparse_categorical_accuracy: 0.8905\n",
            "Epoch 76/100\n",
            "375/375 [==============================] - 2s 6ms/step - loss: 0.3273 - sparse_categorical_accuracy: 0.8780 - val_loss: 0.3006 - val_sparse_categorical_accuracy: 0.8907\n",
            "Epoch 77/100\n",
            "375/375 [==============================] - 2s 7ms/step - loss: 0.3245 - sparse_categorical_accuracy: 0.8756 - val_loss: 0.2934 - val_sparse_categorical_accuracy: 0.8921\n",
            "Epoch 78/100\n",
            "375/375 [==============================] - 2s 6ms/step - loss: 0.3247 - sparse_categorical_accuracy: 0.8764 - val_loss: 0.2932 - val_sparse_categorical_accuracy: 0.8926\n",
            "Epoch 79/100\n",
            "375/375 [==============================] - 2s 6ms/step - loss: 0.3262 - sparse_categorical_accuracy: 0.8779 - val_loss: 0.2972 - val_sparse_categorical_accuracy: 0.8915\n",
            "Epoch 80/100\n",
            "375/375 [==============================] - 3s 8ms/step - loss: 0.3194 - sparse_categorical_accuracy: 0.8785 - val_loss: 0.2922 - val_sparse_categorical_accuracy: 0.8926\n",
            "Epoch 81/100\n",
            "375/375 [==============================] - 3s 7ms/step - loss: 0.3206 - sparse_categorical_accuracy: 0.8778 - val_loss: 0.2913 - val_sparse_categorical_accuracy: 0.8920\n",
            "Epoch 82/100\n",
            "375/375 [==============================] - 3s 7ms/step - loss: 0.3184 - sparse_categorical_accuracy: 0.8809 - val_loss: 0.2950 - val_sparse_categorical_accuracy: 0.8907\n",
            "Epoch 83/100\n",
            "375/375 [==============================] - 2s 7ms/step - loss: 0.3197 - sparse_categorical_accuracy: 0.8794 - val_loss: 0.2943 - val_sparse_categorical_accuracy: 0.8908\n",
            "Epoch 84/100\n",
            "375/375 [==============================] - 2s 7ms/step - loss: 0.3191 - sparse_categorical_accuracy: 0.8785 - val_loss: 0.2961 - val_sparse_categorical_accuracy: 0.8902\n",
            "Epoch 85/100\n",
            "375/375 [==============================] - 3s 7ms/step - loss: 0.3167 - sparse_categorical_accuracy: 0.8794 - val_loss: 0.2916 - val_sparse_categorical_accuracy: 0.8907\n",
            "Epoch 86/100\n",
            "375/375 [==============================] - 2s 6ms/step - loss: 0.3157 - sparse_categorical_accuracy: 0.8780 - val_loss: 0.2977 - val_sparse_categorical_accuracy: 0.8913\n",
            "Epoch 87/100\n",
            "375/375 [==============================] - 2s 7ms/step - loss: 0.3178 - sparse_categorical_accuracy: 0.8787 - val_loss: 0.2932 - val_sparse_categorical_accuracy: 0.8901\n",
            "Epoch 88/100\n",
            "375/375 [==============================] - 2s 6ms/step - loss: 0.3150 - sparse_categorical_accuracy: 0.8812 - val_loss: 0.2910 - val_sparse_categorical_accuracy: 0.8916\n",
            "Epoch 89/100\n",
            "375/375 [==============================] - 3s 7ms/step - loss: 0.3127 - sparse_categorical_accuracy: 0.8805 - val_loss: 0.2945 - val_sparse_categorical_accuracy: 0.8918\n",
            "Epoch 90/100\n",
            "375/375 [==============================] - 3s 7ms/step - loss: 0.3138 - sparse_categorical_accuracy: 0.8800 - val_loss: 0.2905 - val_sparse_categorical_accuracy: 0.8929\n",
            "Epoch 91/100\n",
            "375/375 [==============================] - 2s 6ms/step - loss: 0.3133 - sparse_categorical_accuracy: 0.8824 - val_loss: 0.2904 - val_sparse_categorical_accuracy: 0.8943\n",
            "Epoch 92/100\n",
            "375/375 [==============================] - 2s 6ms/step - loss: 0.3161 - sparse_categorical_accuracy: 0.8811 - val_loss: 0.2913 - val_sparse_categorical_accuracy: 0.8942\n",
            "Epoch 93/100\n",
            "375/375 [==============================] - 2s 6ms/step - loss: 0.3132 - sparse_categorical_accuracy: 0.8814 - val_loss: 0.2911 - val_sparse_categorical_accuracy: 0.8944\n",
            "Epoch 94/100\n",
            "375/375 [==============================] - 3s 7ms/step - loss: 0.3101 - sparse_categorical_accuracy: 0.8819 - val_loss: 0.2929 - val_sparse_categorical_accuracy: 0.8927\n",
            "Epoch 95/100\n",
            "375/375 [==============================] - 3s 7ms/step - loss: 0.3115 - sparse_categorical_accuracy: 0.8826 - val_loss: 0.2895 - val_sparse_categorical_accuracy: 0.8942\n",
            "Epoch 96/100\n",
            "375/375 [==============================] - 2s 6ms/step - loss: 0.3092 - sparse_categorical_accuracy: 0.8813 - val_loss: 0.2903 - val_sparse_categorical_accuracy: 0.8939\n",
            "Epoch 97/100\n",
            "375/375 [==============================] - 2s 7ms/step - loss: 0.3089 - sparse_categorical_accuracy: 0.8823 - val_loss: 0.2883 - val_sparse_categorical_accuracy: 0.8929\n",
            "Epoch 98/100\n",
            "375/375 [==============================] - 2s 6ms/step - loss: 0.3054 - sparse_categorical_accuracy: 0.8826 - val_loss: 0.2931 - val_sparse_categorical_accuracy: 0.8917\n",
            "Epoch 99/100\n",
            "375/375 [==============================] - 3s 7ms/step - loss: 0.3064 - sparse_categorical_accuracy: 0.8831 - val_loss: 0.2875 - val_sparse_categorical_accuracy: 0.8959\n",
            "Epoch 100/100\n",
            "375/375 [==============================] - 3s 7ms/step - loss: 0.3077 - sparse_categorical_accuracy: 0.8825 - val_loss: 0.2943 - val_sparse_categorical_accuracy: 0.8911\n",
            "313/313 [==============================] - 1s 3ms/step - loss: 0.3228 - sparse_categorical_accuracy: 0.8860\n",
            "\n",
            "Test accuracy: 0.8859999775886536\n"
          ]
        }
      ]
    },
    {
      "cell_type": "code",
      "source": [
        "print('\\nhistory dict:', list(history.history.keys()))"
      ],
      "metadata": {
        "id": "CxRE-B_Q6Sii",
        "colab": {
          "base_uri": "https://localhost:8080/"
        },
        "outputId": "d35963d2-d107-4e60-e8dd-13ccd8e1a0ac"
      },
      "execution_count": 131,
      "outputs": [
        {
          "output_type": "stream",
          "name": "stdout",
          "text": [
            "\n",
            "history dict: ['loss', 'sparse_categorical_accuracy', 'val_loss', 'val_sparse_categorical_accuracy']\n"
          ]
        }
      ]
    },
    {
      "cell_type": "code",
      "source": [
        "result = model.evaluate(x_test, y_test)\n",
        "print(result)"
      ],
      "metadata": {
        "id": "YXpwRRTvTBNg",
        "colab": {
          "base_uri": "https://localhost:8080/"
        },
        "outputId": "135ad782-9d84-4b47-a219-8f9aa5eeec11"
      },
      "execution_count": 132,
      "outputs": [
        {
          "output_type": "stream",
          "name": "stdout",
          "text": [
            "313/313 [==============================] - 1s 2ms/step - loss: 0.3228 - sparse_categorical_accuracy: 0.8860\n",
            "[0.3228093683719635, 0.8859999775886536]\n"
          ]
        }
      ]
    },
    {
      "cell_type": "code",
      "source": [
        "saved_model = load_model('best_model.h5')\n",
        "result = saved_model.evaluate(x_test, y_test)\n",
        "print(result)"
      ],
      "metadata": {
        "colab": {
          "base_uri": "https://localhost:8080/"
        },
        "id": "dpaZAW0vp1AZ",
        "outputId": "c19e28d9-c432-422c-e753-973d76612c36"
      },
      "execution_count": 133,
      "outputs": [
        {
          "output_type": "stream",
          "name": "stdout",
          "text": [
            "313/313 [==============================] - 1s 2ms/step - loss: 0.3147 - sparse_categorical_accuracy: 0.8861\n",
            "[0.31465578079223633, 0.8860999941825867]\n"
          ]
        }
      ]
    },
    {
      "cell_type": "code",
      "source": [
        "# from keras.models import load_model\n",
        "# saved_model = load_model('best_model.h5')\n",
        "# # _, train_acc = saved_model.evaluate(x_train, y_train, verbose=0)\n",
        "# _, test_acc = saved_model.evaluate(x_test, y_test, verbose=0)\n",
        "# print('Test: %.3f' % (test_acc))"
      ],
      "metadata": {
        "id": "DR_MS9DABo_K"
      },
      "execution_count": 134,
      "outputs": []
    },
    {
      "cell_type": "code",
      "source": [
        "history_dict = history.history\n",
        "loss_values = history_dict['loss']\n",
        "val_loss_values = history_dict['val_loss']\n",
        "\n",
        "epochs = range(1, len(history_dict['loss']) + 1)\n",
        "\n",
        "plt.figure(figsize=(10, 5))\n",
        "plt.plot(epochs, loss_values, 'bo', label='Training loss')\n",
        "plt.plot(epochs, val_loss_values, 'r', label='Validation loss')\n",
        "# plt.ylim (0.2, 0.5)\n",
        "plt.title('Training and validation loss')\n",
        "plt.xlabel('Epochs')\n",
        "plt.ylabel('Loss')\n",
        "# plt.legend()\n",
        "plt.grid(True)\n",
        "plt.show()\n",
        "1\n",
        "plt.clf()\n",
        "plt.figure(figsize=(10, 5))\n",
        "val_acc_values = history_dict['sparse_categorical_accuracy']\n",
        "plt.plot(epochs, history_dict['sparse_categorical_accuracy'], 'bo', label='Training acc')\n",
        "plt.plot(epochs, history_dict['val_sparse_categorical_accuracy'], 'r', label='Validation acc')\n",
        "# plt.ylim (0.88, 0.94)\n",
        "plt.title('Training and validation accuracy')\n",
        "plt.xlabel('Epochs')\n",
        "plt.ylabel('Accuracy')\n",
        "plt.legend()\n",
        "plt.grid(True)"
      ],
      "metadata": {
        "id": "2Ll_5sGlXKMH",
        "colab": {
          "base_uri": "https://localhost:8080/",
          "height": 975
        },
        "outputId": "f1637229-f737-4181-a99f-acb8d6477232"
      },
      "execution_count": 135,
      "outputs": [
        {
          "output_type": "display_data",
          "data": {
            "text/plain": [
              "<Figure size 1000x500 with 1 Axes>"
            ],
            "image/png": "[encoded data removed]"
          },
          "metadata": {}
        },
        {
          "output_type": "display_data",
          "data": {
            "text/plain": [
              "<Figure size 640x480 with 0 Axes>"
            ]
          },
          "metadata": {}
        },
        {
          "output_type": "display_data",
          "data": {
            "text/plain": [
              "<Figure size 1000x500 with 1 Axes>"
            ],
            "image/png": "[encoded data removed]"
          },
          "metadata": {}
        }
      ]
    },
    {
      "cell_type": "code",
      "source": [
        "probability_model = tf.keras.Sequential([model,\n",
        "                                         tf.keras.layers.Softmax()])"
      ],
      "metadata": {
        "id": "VzOdKAT_uV-f"
      },
      "execution_count": 136,
      "outputs": []
    },
    {
      "cell_type": "code",
      "source": [
        "predictions = probability_model.predict(x_test)"
      ],
      "metadata": {
        "id": "f4is3NFruYom",
        "colab": {
          "base_uri": "https://localhost:8080/"
        },
        "outputId": "3b35f649-4dce-4bb9-b1c9-15d2a9f9e811"
      },
      "execution_count": 137,
      "outputs": [
        {
          "output_type": "stream",
          "name": "stdout",
          "text": [
            "313/313 [==============================] - 1s 2ms/step\n"
          ]
        }
      ]
    },
    {
      "cell_type": "code",
      "source": [
        "predictions[0]"
      ],
      "metadata": {
        "id": "82cigvlZudz_",
        "colab": {
          "base_uri": "https://localhost:8080/"
        },
        "outputId": "1ca8b501-f97b-4f3d-f68e-1e31a8eefbbc"
      },
      "execution_count": 138,
      "outputs": [
        {
          "output_type": "execute_result",
          "data": {
            "text/plain": [
              "array([0.08553013, 0.08553013, 0.08553013, 0.08553013, 0.08553013,\n",
              "       0.08555271, 0.08553013, 0.08685914, 0.08553013, 0.22887726],\n",
              "      dtype=float32)"
            ]
          },
          "metadata": {},
          "execution_count": 138
        }
      ]
    },
    {
      "cell_type": "code",
      "source": [
        "model.summary()"
      ],
      "metadata": {
        "id": "6RsQPHyYuNGe",
        "colab": {
          "base_uri": "https://localhost:8080/"
        },
        "outputId": "0d6f94eb-c945-4892-af50-c73e6292add6"
      },
      "execution_count": 139,
      "outputs": [
        {
          "output_type": "stream",
          "name": "stdout",
          "text": [
            "Model: \"sequential_10\"\n",
            "_________________________________________________________________\n",
            " Layer (type)                Output Shape              Param #   \n",
            "=================================================================\n",
            " flatten_5 (Flatten)         (None, 784)               0         \n",
            "                                                                 \n",
            " dropout_20 (Dropout)        (None, 784)               0         \n",
            "                                                                 \n",
            " batch_normalization_15 (Ba  (None, 784)               3136      \n",
            " tchNormalization)                                               \n",
            "                                                                 \n",
            " dense_20 (Dense)            (None, 256)               200960    \n",
            "                                                                 \n",
            " dropout_21 (Dropout)        (None, 256)               0         \n",
            "                                                                 \n",
            " batch_normalization_16 (Ba  (None, 256)               1024      \n",
            " tchNormalization)                                               \n",
            "                                                                 \n",
            " dense_21 (Dense)            (None, 512)               131584    \n",
            "                                                                 \n",
            " dropout_22 (Dropout)        (None, 512)               0         \n",
            "                                                                 \n",
            " batch_normalization_17 (Ba  (None, 512)               2048      \n",
            " tchNormalization)                                               \n",
            "                                                                 \n",
            " dense_22 (Dense)            (None, 512)               262656    \n",
            "                                                                 \n",
            " dropout_23 (Dropout)        (None, 512)               0         \n",
            "                                                                 \n",
            " dense_23 (Dense)            (None, 10)                5130      \n",
            "                                                                 \n",
            "=================================================================\n",
            "Total params: 606538 (2.31 MB)\n",
            "Trainable params: 603434 (2.30 MB)\n",
            "Non-trainable params: 3104 (12.12 KB)\n",
            "_________________________________________________________________\n"
          ]
        }
      ]
    }
  ]
}