{
  "nbformat": 4,
  "nbformat_minor": 0,
  "metadata": {
    "colab": {
      "provenance": [],
      "gpuType": "T4",
      "authorship_tag": "ABX9TyMpNijPODj3pT2C2m6cvalB",
      "include_colab_link": true
    },
    "kernelspec": {
      "name": "python3",
      "display_name": "Python 3"
    },
    "language_info": {
      "name": "python"
    },
    "accelerator": "GPU"
  },
  "cells": [
    {
      "cell_type": "markdown",
      "metadata": {
        "id": "view-in-github",
        "colab_type": "text"
      },
      "source": [
        "<a href=\"https://colab.research.google.com/github/PavelStelmakhV/hw310-keras-fasion-mnist/blob/main/keras_fasion_mnist_hw.ipynb\" target=\"_parent\"><img src=\"https://colab.research.google.com/assets/colab-badge.svg\" alt=\"Open In Colab\"/></a>"
      ]
    },
    {
      "cell_type": "code",
      "execution_count": 20,
      "metadata": {
        "id": "vv7w0bgAVQPO"
      },
      "outputs": [],
      "source": [
        "import tensorflow as tf\n",
        "import numpy as np\n",
        "import matplotlib.pyplot as plt\n",
        "\n",
        "from keras import layers\n",
        "from keras import regularizers\n",
        "from keras import callbacks\n",
        "from keras import initializers\n",
        "from keras.layers import BatchNormalization"
      ]
    },
    {
      "cell_type": "code",
      "source": [
        "fashion_mnist = tf.keras.datasets.fashion_mnist\n",
        "\n",
        "(x_train, y_train), (x_test, y_test) = fashion_mnist.load_data()"
      ],
      "metadata": {
        "id": "mOpywsNAzfGB"
      },
      "execution_count": 21,
      "outputs": []
    },
    {
      "cell_type": "code",
      "source": [
        "# x_train = x_train.reshape(60000, 784).astype('float32') / 255\n",
        "# x_test = x_test.reshape(10000, 784).astype('float32') / 255\n",
        "x_train = x_train.astype('float32') / 255\n",
        "x_test = x_test.astype('float32') / 255\n",
        "\n",
        "y_train = y_train.astype('float32')\n",
        "y_test = y_test.astype('float32')\n",
        "\n",
        "# Перемешаем тренировочные данные\n",
        "# train_data = tf.data.Dataset.from_tensor_slices((x_train, y_train))\n",
        "# train_data = train_data.repeat().shuffle(5000).batch(batch_size).prefetch(1)"
      ],
      "metadata": {
        "id": "t2gucjsJ0KUi"
      },
      "execution_count": 22,
      "outputs": []
    },
    {
      "cell_type": "code",
      "source": [
        "x_val = x_train[-10000:]\n",
        "y_val = y_train[-10000:]\n",
        "x_train = x_train[:-10000]\n",
        "y_train = y_train[:-10000]"
      ],
      "metadata": {
        "id": "fLPNXab5dHwO"
      },
      "execution_count": 23,
      "outputs": []
    },
    {
      "cell_type": "code",
      "source": [],
      "metadata": {
        "id": "bU5TK5YdlnU5"
      },
      "execution_count": 23,
      "outputs": []
    },
    {
      "cell_type": "code",
      "source": [
        "w_init = initializers.glorot_normal()\n",
        "b_init = initializers.Zeros()"
      ],
      "metadata": {
        "id": "yL9QTEtBGy4N"
      },
      "execution_count": 24,
      "outputs": []
    },
    {
      "cell_type": "code",
      "source": [
        "model = tf.keras.Sequential()\n",
        "\n",
        "drop_out = 0.20\n",
        "lern_rat = 0.001\n",
        "neurons = 256\n",
        "\n",
        "model.add(layers.Flatten(input_shape=(28, 28)))\n",
        "model.add(layers.Dropout(drop_out))\n",
        "\n",
        "model.add(layers.Dense(neurons * 1, activation='relu', kernel_initializer=w_init, bias_initializer=b_init)) #, kernel_regularizer=regularizers.l2(lern_rat)\n",
        "model.add(BatchNormalization())\n",
        "model.add(layers.Dropout(drop_out))\n",
        "model.add(layers.Dense(neurons * 2, activation='tanh'))\n",
        "model.add(BatchNormalization())\n",
        "model.add(layers.Dropout(drop_out))\n",
        "\n",
        "model.add(layers.Dense(neurons * 2, activation='relu'))\n",
        "model.add(BatchNormalization())\n",
        "model.add(layers.Dropout(drop_out))\n",
        "\n",
        "# model.add(layers.Dense(neurons * 2, activation='tanh'))\n",
        "# model.add(BatchNormalization())\n",
        "# model.add(layers.Dropout(drop_out * 2))\n",
        "\n",
        "model.add(layers.Dense(10, activation='softmax'))"
      ],
      "metadata": {
        "id": "atS39i4d0aqW"
      },
      "execution_count": 25,
      "outputs": []
    },
    {
      "cell_type": "code",
      "source": [],
      "metadata": {
        "id": "EzfnaqIZlfy8"
      },
      "execution_count": 25,
      "outputs": []
    },
    {
      "cell_type": "code",
      "source": [
        "model.compile(#optimizer='adam',\n",
        "              # optimizer='adamax',\n",
        "              optimizer='nadam',\n",
        "              # optimizer='rmsprop',\n",
        "              # optimizer='sgd',\n",
        "              # optimizer='adadelta',\n",
        "              # loss='binary_crossentropy',\n",
        "              loss=tf.keras.losses.SparseCategoricalCrossentropy(),\n",
        "              metrics=['sparse_categorical_accuracy']) # sparse_categorical_accuracy"
      ],
      "metadata": {
        "id": "hENVaAC7ilNY"
      },
      "execution_count": 26,
      "outputs": []
    },
    {
      "cell_type": "code",
      "source": [
        "x = np.random.random((1, 28, 28))\n",
        "a = model.predict(x)\n",
        "_ = plt.hist(np.transpose(a))"
      ],
      "metadata": {
        "id": "RFgZHNNFMa8p",
        "outputId": "10c66935-4815-40ee-9e1a-7e86c25d015e",
        "colab": {
          "base_uri": "https://localhost:8080/",
          "height": 448
        }
      },
      "execution_count": 27,
      "outputs": [
        {
          "output_type": "stream",
          "name": "stdout",
          "text": [
            "1/1 [==============================] - 0s 100ms/step\n"
          ]
        },
        {
          "output_type": "display_data",
          "data": {
            "text/plain": [
              "<Figure size 640x480 with 1 Axes>"
            ],
            "image/png": "[encoded data removed]"
          },
          "metadata": {}
        }
      ]
    },
    {
      "cell_type": "code",
      "source": [
        "y_pred = model.predict(x_test)"
      ],
      "metadata": {
        "id": "UDP8OKKZ8oQa",
        "outputId": "f8b35705-d99e-4a8b-a1da-3c83dc9a4c0f",
        "colab": {
          "base_uri": "https://localhost:8080/"
        }
      },
      "execution_count": 28,
      "outputs": [
        {
          "output_type": "stream",
          "name": "stdout",
          "text": [
            "313/313 [==============================] - 1s 2ms/step\n"
          ]
        }
      ]
    },
    {
      "cell_type": "code",
      "source": [
        "callback = callbacks.EarlyStopping(monitor='val_loss',\n",
        "                                   patience=50,\n",
        "                                   restore_best_weights=True,\n",
        "                                   )\n",
        "es = callbacks.EarlyStopping(monitor='val_loss', mode='min', verbose=1, patience=200)\n",
        "mc = callbacks.ModelCheckpoint('best_model.h5', monitor='val_accuracy', mode='max', verbose=1, save_best_only=True)\n"
      ],
      "metadata": {
        "id": "5ihU4exVlsjm"
      },
      "execution_count": 29,
      "outputs": []
    },
    {
      "cell_type": "code",
      "source": [
        "# model.fit(train_images, train_labels, epochs=20)\n",
        "history = model.fit(x_train, y_train,\n",
        "                    epochs=200,\n",
        "                    batch_size=64 ,\n",
        "                    # callbacks=[callback],\n",
        "                    # callbacks=[es, mc],\n",
        "                    verbose=1, #многословие\n",
        "                    validation_data=(x_val, y_val))\n",
        "test_loss, test_acc = model.evaluate(x_test, y_test)\n",
        "print('\\nTest accuracy:', test_acc)"
      ],
      "metadata": {
        "id": "FH8HcMNm233I",
        "outputId": "4daa8abc-308f-435b-c7f0-36b090d28d1a",
        "colab": {
          "base_uri": "https://localhost:8080/"
        }
      },
      "execution_count": 30,
      "outputs": [
        {
          "output_type": "stream",
          "name": "stdout",
          "text": [
            "Epoch 1/200\n",
            "782/782 [==============================] - 10s 8ms/step - loss: 0.6156 - sparse_categorical_accuracy: 0.7803 - val_loss: 0.4281 - val_sparse_categorical_accuracy: 0.8449\n",
            "Epoch 2/200\n",
            "782/782 [==============================] - 5s 7ms/step - loss: 0.4660 - sparse_categorical_accuracy: 0.8292 - val_loss: 0.4260 - val_sparse_categorical_accuracy: 0.8395\n",
            "Epoch 3/200\n",
            "782/782 [==============================] - 6s 8ms/step - loss: 0.4346 - sparse_categorical_accuracy: 0.8399 - val_loss: 0.3812 - val_sparse_categorical_accuracy: 0.8594\n",
            "Epoch 4/200\n",
            "782/782 [==============================] - 6s 7ms/step - loss: 0.4123 - sparse_categorical_accuracy: 0.8471 - val_loss: 0.4036 - val_sparse_categorical_accuracy: 0.8548\n",
            "Epoch 5/200\n",
            "782/782 [==============================] - 6s 8ms/step - loss: 0.4003 - sparse_categorical_accuracy: 0.8517 - val_loss: 0.3686 - val_sparse_categorical_accuracy: 0.8623\n",
            "Epoch 6/200\n",
            "782/782 [==============================] - 5s 7ms/step - loss: 0.3881 - sparse_categorical_accuracy: 0.8569 - val_loss: 0.3566 - val_sparse_categorical_accuracy: 0.8672\n",
            "Epoch 7/200\n",
            "782/782 [==============================] - 6s 7ms/step - loss: 0.3805 - sparse_categorical_accuracy: 0.8577 - val_loss: 0.3376 - val_sparse_categorical_accuracy: 0.8749\n",
            "Epoch 8/200\n",
            "782/782 [==============================] - 6s 7ms/step - loss: 0.3707 - sparse_categorical_accuracy: 0.8620 - val_loss: 0.3460 - val_sparse_categorical_accuracy: 0.8743\n",
            "Epoch 9/200\n",
            "782/782 [==============================] - 5s 7ms/step - loss: 0.3632 - sparse_categorical_accuracy: 0.8643 - val_loss: 0.3530 - val_sparse_categorical_accuracy: 0.8699\n",
            "Epoch 10/200\n",
            "782/782 [==============================] - 6s 8ms/step - loss: 0.3543 - sparse_categorical_accuracy: 0.8668 - val_loss: 0.3234 - val_sparse_categorical_accuracy: 0.8825\n",
            "Epoch 11/200\n",
            "782/782 [==============================] - 6s 7ms/step - loss: 0.3470 - sparse_categorical_accuracy: 0.8695 - val_loss: 0.3182 - val_sparse_categorical_accuracy: 0.8825\n",
            "Epoch 12/200\n",
            "782/782 [==============================] - 6s 8ms/step - loss: 0.3428 - sparse_categorical_accuracy: 0.8714 - val_loss: 0.3186 - val_sparse_categorical_accuracy: 0.8811\n",
            "Epoch 13/200\n",
            "782/782 [==============================] - 5s 7ms/step - loss: 0.3387 - sparse_categorical_accuracy: 0.8739 - val_loss: 0.3256 - val_sparse_categorical_accuracy: 0.8783\n",
            "Epoch 14/200\n",
            "782/782 [==============================] - 6s 8ms/step - loss: 0.3358 - sparse_categorical_accuracy: 0.8744 - val_loss: 0.3249 - val_sparse_categorical_accuracy: 0.8808\n",
            "Epoch 15/200\n",
            "782/782 [==============================] - 6s 7ms/step - loss: 0.3318 - sparse_categorical_accuracy: 0.8745 - val_loss: 0.3163 - val_sparse_categorical_accuracy: 0.8815\n",
            "Epoch 16/200\n",
            "782/782 [==============================] - 6s 8ms/step - loss: 0.3286 - sparse_categorical_accuracy: 0.8756 - val_loss: 0.3156 - val_sparse_categorical_accuracy: 0.8838\n",
            "Epoch 17/200\n",
            "782/782 [==============================] - 5s 7ms/step - loss: 0.3244 - sparse_categorical_accuracy: 0.8786 - val_loss: 0.3078 - val_sparse_categorical_accuracy: 0.8869\n",
            "Epoch 18/200\n",
            "782/782 [==============================] - 6s 8ms/step - loss: 0.3181 - sparse_categorical_accuracy: 0.8802 - val_loss: 0.3179 - val_sparse_categorical_accuracy: 0.8839\n",
            "Epoch 19/200\n",
            "782/782 [==============================] - 6s 8ms/step - loss: 0.3206 - sparse_categorical_accuracy: 0.8797 - val_loss: 0.3068 - val_sparse_categorical_accuracy: 0.8862\n",
            "Epoch 20/200\n",
            "782/782 [==============================] - 6s 7ms/step - loss: 0.3136 - sparse_categorical_accuracy: 0.8820 - val_loss: 0.3059 - val_sparse_categorical_accuracy: 0.8879\n",
            "Epoch 21/200\n",
            "782/782 [==============================] - 6s 8ms/step - loss: 0.3099 - sparse_categorical_accuracy: 0.8832 - val_loss: 0.3008 - val_sparse_categorical_accuracy: 0.8896\n",
            "Epoch 22/200\n",
            "782/782 [==============================] - 6s 7ms/step - loss: 0.3089 - sparse_categorical_accuracy: 0.8846 - val_loss: 0.2971 - val_sparse_categorical_accuracy: 0.8913\n",
            "Epoch 23/200\n",
            "782/782 [==============================] - 6s 8ms/step - loss: 0.3055 - sparse_categorical_accuracy: 0.8850 - val_loss: 0.2909 - val_sparse_categorical_accuracy: 0.8931\n",
            "Epoch 24/200\n",
            "782/782 [==============================] - 5s 7ms/step - loss: 0.3023 - sparse_categorical_accuracy: 0.8850 - val_loss: 0.2967 - val_sparse_categorical_accuracy: 0.8893\n",
            "Epoch 25/200\n",
            "782/782 [==============================] - 6s 8ms/step - loss: 0.2953 - sparse_categorical_accuracy: 0.8887 - val_loss: 0.3052 - val_sparse_categorical_accuracy: 0.8882\n",
            "Epoch 26/200\n",
            "782/782 [==============================] - 6s 7ms/step - loss: 0.2977 - sparse_categorical_accuracy: 0.8877 - val_loss: 0.3009 - val_sparse_categorical_accuracy: 0.8885\n",
            "Epoch 27/200\n",
            "782/782 [==============================] - 7s 8ms/step - loss: 0.2948 - sparse_categorical_accuracy: 0.8869 - val_loss: 0.2885 - val_sparse_categorical_accuracy: 0.8926\n",
            "Epoch 28/200\n",
            "782/782 [==============================] - 6s 7ms/step - loss: 0.2913 - sparse_categorical_accuracy: 0.8902 - val_loss: 0.3048 - val_sparse_categorical_accuracy: 0.8869\n",
            "Epoch 29/200\n",
            "782/782 [==============================] - 6s 8ms/step - loss: 0.2895 - sparse_categorical_accuracy: 0.8905 - val_loss: 0.2964 - val_sparse_categorical_accuracy: 0.8934\n",
            "Epoch 30/200\n",
            "782/782 [==============================] - 6s 7ms/step - loss: 0.2889 - sparse_categorical_accuracy: 0.8917 - val_loss: 0.2862 - val_sparse_categorical_accuracy: 0.8912\n",
            "Epoch 31/200\n",
            "782/782 [==============================] - 6s 8ms/step - loss: 0.2824 - sparse_categorical_accuracy: 0.8942 - val_loss: 0.2951 - val_sparse_categorical_accuracy: 0.8948\n",
            "Epoch 32/200\n",
            "782/782 [==============================] - 6s 7ms/step - loss: 0.2836 - sparse_categorical_accuracy: 0.8916 - val_loss: 0.2834 - val_sparse_categorical_accuracy: 0.8964\n",
            "Epoch 33/200\n",
            "782/782 [==============================] - 5s 7ms/step - loss: 0.2836 - sparse_categorical_accuracy: 0.8937 - val_loss: 0.2969 - val_sparse_categorical_accuracy: 0.8924\n",
            "Epoch 34/200\n",
            "782/782 [==============================] - 6s 8ms/step - loss: 0.2794 - sparse_categorical_accuracy: 0.8940 - val_loss: 0.2817 - val_sparse_categorical_accuracy: 0.8957\n",
            "Epoch 35/200\n",
            "782/782 [==============================] - 6s 8ms/step - loss: 0.2778 - sparse_categorical_accuracy: 0.8948 - val_loss: 0.2897 - val_sparse_categorical_accuracy: 0.8917\n",
            "Epoch 36/200\n",
            "782/782 [==============================] - 6s 8ms/step - loss: 0.2778 - sparse_categorical_accuracy: 0.8960 - val_loss: 0.2889 - val_sparse_categorical_accuracy: 0.8966\n",
            "Epoch 37/200\n",
            "782/782 [==============================] - 6s 8ms/step - loss: 0.2756 - sparse_categorical_accuracy: 0.8946 - val_loss: 0.2915 - val_sparse_categorical_accuracy: 0.8934\n",
            "Epoch 38/200\n",
            "782/782 [==============================] - 6s 8ms/step - loss: 0.2728 - sparse_categorical_accuracy: 0.8968 - val_loss: 0.2932 - val_sparse_categorical_accuracy: 0.8937\n",
            "Epoch 39/200\n",
            "782/782 [==============================] - 7s 8ms/step - loss: 0.2722 - sparse_categorical_accuracy: 0.8965 - val_loss: 0.2844 - val_sparse_categorical_accuracy: 0.8984\n",
            "Epoch 40/200\n",
            "782/782 [==============================] - 8s 10ms/step - loss: 0.2742 - sparse_categorical_accuracy: 0.8957 - val_loss: 0.2919 - val_sparse_categorical_accuracy: 0.8937\n",
            "Epoch 41/200\n",
            "782/782 [==============================] - 6s 7ms/step - loss: 0.2719 - sparse_categorical_accuracy: 0.8979 - val_loss: 0.2961 - val_sparse_categorical_accuracy: 0.8922\n",
            "Epoch 42/200\n",
            "782/782 [==============================] - 7s 9ms/step - loss: 0.2677 - sparse_categorical_accuracy: 0.8986 - val_loss: 0.2977 - val_sparse_categorical_accuracy: 0.8961\n",
            "Epoch 43/200\n",
            "782/782 [==============================] - 6s 7ms/step - loss: 0.2676 - sparse_categorical_accuracy: 0.8971 - val_loss: 0.2862 - val_sparse_categorical_accuracy: 0.8991\n",
            "Epoch 44/200\n",
            "782/782 [==============================] - 6s 8ms/step - loss: 0.2678 - sparse_categorical_accuracy: 0.8980 - val_loss: 0.2938 - val_sparse_categorical_accuracy: 0.8955\n",
            "Epoch 45/200\n",
            "782/782 [==============================] - 6s 8ms/step - loss: 0.2646 - sparse_categorical_accuracy: 0.8987 - val_loss: 0.2756 - val_sparse_categorical_accuracy: 0.8992\n",
            "Epoch 46/200\n",
            "782/782 [==============================] - 6s 8ms/step - loss: 0.2650 - sparse_categorical_accuracy: 0.8979 - val_loss: 0.2785 - val_sparse_categorical_accuracy: 0.8971\n",
            "Epoch 47/200\n",
            "782/782 [==============================] - 6s 7ms/step - loss: 0.2634 - sparse_categorical_accuracy: 0.9004 - val_loss: 0.2854 - val_sparse_categorical_accuracy: 0.8973\n",
            "Epoch 48/200\n",
            "782/782 [==============================] - 6s 7ms/step - loss: 0.2648 - sparse_categorical_accuracy: 0.8988 - val_loss: 0.2845 - val_sparse_categorical_accuracy: 0.8973\n",
            "Epoch 49/200\n",
            "782/782 [==============================] - 6s 8ms/step - loss: 0.2581 - sparse_categorical_accuracy: 0.9021 - val_loss: 0.2756 - val_sparse_categorical_accuracy: 0.8987\n",
            "Epoch 50/200\n",
            "782/782 [==============================] - 6s 7ms/step - loss: 0.2575 - sparse_categorical_accuracy: 0.9023 - val_loss: 0.2759 - val_sparse_categorical_accuracy: 0.8984\n",
            "Epoch 51/200\n",
            "782/782 [==============================] - 7s 9ms/step - loss: 0.2571 - sparse_categorical_accuracy: 0.9018 - val_loss: 0.2835 - val_sparse_categorical_accuracy: 0.8968\n",
            "Epoch 52/200\n",
            "782/782 [==============================] - 6s 8ms/step - loss: 0.2557 - sparse_categorical_accuracy: 0.9013 - val_loss: 0.2852 - val_sparse_categorical_accuracy: 0.8975\n",
            "Epoch 53/200\n",
            "782/782 [==============================] - 6s 8ms/step - loss: 0.2569 - sparse_categorical_accuracy: 0.9016 - val_loss: 0.2806 - val_sparse_categorical_accuracy: 0.8970\n",
            "Epoch 54/200\n",
            "782/782 [==============================] - 6s 8ms/step - loss: 0.2548 - sparse_categorical_accuracy: 0.9024 - val_loss: 0.2744 - val_sparse_categorical_accuracy: 0.8998\n",
            "Epoch 55/200\n",
            "782/782 [==============================] - 6s 8ms/step - loss: 0.2543 - sparse_categorical_accuracy: 0.9022 - val_loss: 0.2772 - val_sparse_categorical_accuracy: 0.9008\n",
            "Epoch 56/200\n",
            "782/782 [==============================] - 5s 7ms/step - loss: 0.2528 - sparse_categorical_accuracy: 0.9039 - val_loss: 0.2748 - val_sparse_categorical_accuracy: 0.9013\n",
            "Epoch 57/200\n",
            "782/782 [==============================] - 6s 8ms/step - loss: 0.2521 - sparse_categorical_accuracy: 0.9014 - val_loss: 0.2773 - val_sparse_categorical_accuracy: 0.9009\n",
            "Epoch 58/200\n",
            "782/782 [==============================] - 6s 7ms/step - loss: 0.2509 - sparse_categorical_accuracy: 0.9045 - val_loss: 0.2807 - val_sparse_categorical_accuracy: 0.8963\n",
            "Epoch 59/200\n",
            "782/782 [==============================] - 6s 8ms/step - loss: 0.2512 - sparse_categorical_accuracy: 0.9031 - val_loss: 0.2837 - val_sparse_categorical_accuracy: 0.9008\n",
            "Epoch 60/200\n",
            "782/782 [==============================] - 6s 7ms/step - loss: 0.2499 - sparse_categorical_accuracy: 0.9043 - val_loss: 0.2781 - val_sparse_categorical_accuracy: 0.9005\n",
            "Epoch 61/200\n",
            "782/782 [==============================] - 6s 8ms/step - loss: 0.2470 - sparse_categorical_accuracy: 0.9063 - val_loss: 0.2776 - val_sparse_categorical_accuracy: 0.8996\n",
            "Epoch 62/200\n",
            "782/782 [==============================] - 5s 7ms/step - loss: 0.2496 - sparse_categorical_accuracy: 0.9041 - val_loss: 0.2801 - val_sparse_categorical_accuracy: 0.8983\n",
            "Epoch 63/200\n",
            "782/782 [==============================] - 6s 7ms/step - loss: 0.2465 - sparse_categorical_accuracy: 0.9062 - val_loss: 0.2791 - val_sparse_categorical_accuracy: 0.8993\n",
            "Epoch 64/200\n",
            "782/782 [==============================] - 6s 7ms/step - loss: 0.2470 - sparse_categorical_accuracy: 0.9047 - val_loss: 0.2799 - val_sparse_categorical_accuracy: 0.8976\n",
            "Epoch 65/200\n",
            "782/782 [==============================] - 6s 8ms/step - loss: 0.2433 - sparse_categorical_accuracy: 0.9075 - val_loss: 0.2745 - val_sparse_categorical_accuracy: 0.9005\n",
            "Epoch 66/200\n",
            "782/782 [==============================] - 6s 8ms/step - loss: 0.2464 - sparse_categorical_accuracy: 0.9052 - val_loss: 0.2767 - val_sparse_categorical_accuracy: 0.8998\n",
            "Epoch 67/200\n",
            "782/782 [==============================] - 6s 8ms/step - loss: 0.2462 - sparse_categorical_accuracy: 0.9060 - val_loss: 0.2873 - val_sparse_categorical_accuracy: 0.8967\n",
            "Epoch 68/200\n",
            "782/782 [==============================] - 7s 8ms/step - loss: 0.2419 - sparse_categorical_accuracy: 0.9068 - val_loss: 0.2792 - val_sparse_categorical_accuracy: 0.8978\n",
            "Epoch 69/200\n",
            "782/782 [==============================] - 7s 8ms/step - loss: 0.2440 - sparse_categorical_accuracy: 0.9078 - val_loss: 0.2811 - val_sparse_categorical_accuracy: 0.9014\n",
            "Epoch 70/200\n",
            "782/782 [==============================] - 7s 8ms/step - loss: 0.2461 - sparse_categorical_accuracy: 0.9052 - val_loss: 0.2844 - val_sparse_categorical_accuracy: 0.8953\n",
            "Epoch 71/200\n",
            "782/782 [==============================] - 6s 7ms/step - loss: 0.2413 - sparse_categorical_accuracy: 0.9073 - val_loss: 0.2726 - val_sparse_categorical_accuracy: 0.8994\n",
            "Epoch 72/200\n",
            "782/782 [==============================] - 6s 8ms/step - loss: 0.2413 - sparse_categorical_accuracy: 0.9070 - val_loss: 0.2921 - val_sparse_categorical_accuracy: 0.8963\n",
            "Epoch 73/200\n",
            "782/782 [==============================] - 6s 7ms/step - loss: 0.2369 - sparse_categorical_accuracy: 0.9096 - val_loss: 0.2714 - val_sparse_categorical_accuracy: 0.8983\n",
            "Epoch 74/200\n",
            "782/782 [==============================] - 6s 8ms/step - loss: 0.2371 - sparse_categorical_accuracy: 0.9101 - val_loss: 0.2774 - val_sparse_categorical_accuracy: 0.9006\n",
            "Epoch 75/200\n",
            "782/782 [==============================] - 5s 7ms/step - loss: 0.2381 - sparse_categorical_accuracy: 0.9093 - val_loss: 0.2775 - val_sparse_categorical_accuracy: 0.9010\n",
            "Epoch 76/200\n",
            "782/782 [==============================] - 6s 8ms/step - loss: 0.2396 - sparse_categorical_accuracy: 0.9078 - val_loss: 0.2714 - val_sparse_categorical_accuracy: 0.9044\n",
            "Epoch 77/200\n",
            "782/782 [==============================] - 6s 7ms/step - loss: 0.2375 - sparse_categorical_accuracy: 0.9094 - val_loss: 0.2800 - val_sparse_categorical_accuracy: 0.9015\n",
            "Epoch 78/200\n",
            "782/782 [==============================] - 6s 7ms/step - loss: 0.2373 - sparse_categorical_accuracy: 0.9084 - val_loss: 0.2869 - val_sparse_categorical_accuracy: 0.8997\n",
            "Epoch 79/200\n",
            "782/782 [==============================] - 6s 8ms/step - loss: 0.2338 - sparse_categorical_accuracy: 0.9100 - val_loss: 0.2785 - val_sparse_categorical_accuracy: 0.9011\n",
            "Epoch 80/200\n",
            "782/782 [==============================] - 6s 7ms/step - loss: 0.2358 - sparse_categorical_accuracy: 0.9110 - val_loss: 0.2691 - val_sparse_categorical_accuracy: 0.9036\n",
            "Epoch 81/200\n",
            "782/782 [==============================] - 6s 8ms/step - loss: 0.2361 - sparse_categorical_accuracy: 0.9100 - val_loss: 0.2878 - val_sparse_categorical_accuracy: 0.8991\n",
            "Epoch 82/200\n",
            "782/782 [==============================] - 5s 7ms/step - loss: 0.2331 - sparse_categorical_accuracy: 0.9104 - val_loss: 0.2707 - val_sparse_categorical_accuracy: 0.9033\n",
            "Epoch 83/200\n",
            "782/782 [==============================] - 6s 8ms/step - loss: 0.2343 - sparse_categorical_accuracy: 0.9098 - val_loss: 0.2753 - val_sparse_categorical_accuracy: 0.9019\n",
            "Epoch 84/200\n",
            "782/782 [==============================] - 6s 8ms/step - loss: 0.2334 - sparse_categorical_accuracy: 0.9115 - val_loss: 0.2800 - val_sparse_categorical_accuracy: 0.9015\n",
            "Epoch 85/200\n",
            "782/782 [==============================] - 7s 9ms/step - loss: 0.2298 - sparse_categorical_accuracy: 0.9116 - val_loss: 0.2702 - val_sparse_categorical_accuracy: 0.9032\n",
            "Epoch 86/200\n",
            "782/782 [==============================] - 6s 8ms/step - loss: 0.2300 - sparse_categorical_accuracy: 0.9121 - val_loss: 0.2850 - val_sparse_categorical_accuracy: 0.9008\n",
            "Epoch 87/200\n",
            "782/782 [==============================] - 7s 9ms/step - loss: 0.2311 - sparse_categorical_accuracy: 0.9102 - val_loss: 0.2739 - val_sparse_categorical_accuracy: 0.9014\n",
            "Epoch 88/200\n",
            "782/782 [==============================] - 6s 8ms/step - loss: 0.2317 - sparse_categorical_accuracy: 0.9094 - val_loss: 0.2858 - val_sparse_categorical_accuracy: 0.8971\n",
            "Epoch 89/200\n",
            "782/782 [==============================] - 6s 8ms/step - loss: 0.2300 - sparse_categorical_accuracy: 0.9111 - val_loss: 0.2816 - val_sparse_categorical_accuracy: 0.8993\n",
            "Epoch 90/200\n",
            "782/782 [==============================] - 6s 8ms/step - loss: 0.2270 - sparse_categorical_accuracy: 0.9126 - val_loss: 0.2769 - val_sparse_categorical_accuracy: 0.8995\n",
            "Epoch 91/200\n",
            "782/782 [==============================] - 7s 8ms/step - loss: 0.2288 - sparse_categorical_accuracy: 0.9116 - val_loss: 0.2777 - val_sparse_categorical_accuracy: 0.9043\n",
            "Epoch 92/200\n",
            "782/782 [==============================] - 6s 7ms/step - loss: 0.2240 - sparse_categorical_accuracy: 0.9130 - val_loss: 0.2797 - val_sparse_categorical_accuracy: 0.9002\n",
            "Epoch 93/200\n",
            "782/782 [==============================] - 7s 9ms/step - loss: 0.2246 - sparse_categorical_accuracy: 0.9149 - val_loss: 0.2729 - val_sparse_categorical_accuracy: 0.9027\n",
            "Epoch 94/200\n",
            "782/782 [==============================] - 6s 7ms/step - loss: 0.2268 - sparse_categorical_accuracy: 0.9129 - val_loss: 0.2760 - val_sparse_categorical_accuracy: 0.9014\n",
            "Epoch 95/200\n",
            "782/782 [==============================] - 7s 9ms/step - loss: 0.2294 - sparse_categorical_accuracy: 0.9124 - val_loss: 0.2791 - val_sparse_categorical_accuracy: 0.9034\n",
            "Epoch 96/200\n",
            "782/782 [==============================] - 6s 8ms/step - loss: 0.2249 - sparse_categorical_accuracy: 0.9129 - val_loss: 0.2757 - val_sparse_categorical_accuracy: 0.9010\n",
            "Epoch 97/200\n",
            "782/782 [==============================] - 6s 7ms/step - loss: 0.2279 - sparse_categorical_accuracy: 0.9132 - val_loss: 0.2793 - val_sparse_categorical_accuracy: 0.9023\n",
            "Epoch 98/200\n",
            "782/782 [==============================] - 6s 8ms/step - loss: 0.2252 - sparse_categorical_accuracy: 0.9132 - val_loss: 0.2813 - val_sparse_categorical_accuracy: 0.9025\n",
            "Epoch 99/200\n",
            "782/782 [==============================] - 6s 7ms/step - loss: 0.2277 - sparse_categorical_accuracy: 0.9137 - val_loss: 0.2846 - val_sparse_categorical_accuracy: 0.8992\n",
            "Epoch 100/200\n",
            "782/782 [==============================] - 6s 7ms/step - loss: 0.2235 - sparse_categorical_accuracy: 0.9133 - val_loss: 0.2734 - val_sparse_categorical_accuracy: 0.9049\n",
            "Epoch 101/200\n",
            "782/782 [==============================] - 6s 7ms/step - loss: 0.2248 - sparse_categorical_accuracy: 0.9120 - val_loss: 0.2761 - val_sparse_categorical_accuracy: 0.9031\n",
            "Epoch 102/200\n",
            "782/782 [==============================] - 6s 7ms/step - loss: 0.2208 - sparse_categorical_accuracy: 0.9158 - val_loss: 0.2826 - val_sparse_categorical_accuracy: 0.9000\n",
            "Epoch 103/200\n",
            "782/782 [==============================] - 5s 7ms/step - loss: 0.2230 - sparse_categorical_accuracy: 0.9120 - val_loss: 0.2747 - val_sparse_categorical_accuracy: 0.9033\n",
            "Epoch 104/200\n",
            "782/782 [==============================] - 6s 8ms/step - loss: 0.2241 - sparse_categorical_accuracy: 0.9142 - val_loss: 0.2826 - val_sparse_categorical_accuracy: 0.9010\n",
            "Epoch 105/200\n",
            "782/782 [==============================] - 6s 7ms/step - loss: 0.2200 - sparse_categorical_accuracy: 0.9155 - val_loss: 0.2759 - val_sparse_categorical_accuracy: 0.9035\n",
            "Epoch 106/200\n",
            "782/782 [==============================] - 6s 7ms/step - loss: 0.2219 - sparse_categorical_accuracy: 0.9142 - val_loss: 0.2819 - val_sparse_categorical_accuracy: 0.9024\n",
            "Epoch 107/200\n",
            "782/782 [==============================] - 6s 7ms/step - loss: 0.2219 - sparse_categorical_accuracy: 0.9153 - val_loss: 0.2885 - val_sparse_categorical_accuracy: 0.8993\n",
            "Epoch 108/200\n",
            "782/782 [==============================] - 5s 7ms/step - loss: 0.2242 - sparse_categorical_accuracy: 0.9137 - val_loss: 0.2766 - val_sparse_categorical_accuracy: 0.9037\n",
            "Epoch 109/200\n",
            "782/782 [==============================] - 6s 7ms/step - loss: 0.2183 - sparse_categorical_accuracy: 0.9152 - val_loss: 0.2733 - val_sparse_categorical_accuracy: 0.9050\n",
            "Epoch 110/200\n",
            "782/782 [==============================] - 6s 7ms/step - loss: 0.2206 - sparse_categorical_accuracy: 0.9138 - val_loss: 0.2800 - val_sparse_categorical_accuracy: 0.9033\n",
            "Epoch 111/200\n",
            "782/782 [==============================] - 6s 7ms/step - loss: 0.2171 - sparse_categorical_accuracy: 0.9178 - val_loss: 0.2720 - val_sparse_categorical_accuracy: 0.9053\n",
            "Epoch 112/200\n",
            "782/782 [==============================] - 5s 7ms/step - loss: 0.2192 - sparse_categorical_accuracy: 0.9158 - val_loss: 0.2684 - val_sparse_categorical_accuracy: 0.9064\n",
            "Epoch 113/200\n",
            "782/782 [==============================] - 6s 7ms/step - loss: 0.2215 - sparse_categorical_accuracy: 0.9146 - val_loss: 0.2711 - val_sparse_categorical_accuracy: 0.9039\n",
            "Epoch 114/200\n",
            "782/782 [==============================] - 6s 7ms/step - loss: 0.2194 - sparse_categorical_accuracy: 0.9154 - val_loss: 0.2811 - val_sparse_categorical_accuracy: 0.9030\n",
            "Epoch 115/200\n",
            "782/782 [==============================] - 5s 7ms/step - loss: 0.2170 - sparse_categorical_accuracy: 0.9175 - val_loss: 0.2840 - val_sparse_categorical_accuracy: 0.9036\n",
            "Epoch 116/200\n",
            "782/782 [==============================] - 6s 7ms/step - loss: 0.2173 - sparse_categorical_accuracy: 0.9158 - val_loss: 0.2814 - val_sparse_categorical_accuracy: 0.9037\n",
            "Epoch 117/200\n",
            "782/782 [==============================] - 6s 7ms/step - loss: 0.2140 - sparse_categorical_accuracy: 0.9176 - val_loss: 0.2770 - val_sparse_categorical_accuracy: 0.9036\n",
            "Epoch 118/200\n",
            "782/782 [==============================] - 6s 7ms/step - loss: 0.2162 - sparse_categorical_accuracy: 0.9154 - val_loss: 0.2778 - val_sparse_categorical_accuracy: 0.9013\n",
            "Epoch 119/200\n",
            "782/782 [==============================] - 6s 7ms/step - loss: 0.2171 - sparse_categorical_accuracy: 0.9148 - val_loss: 0.2830 - val_sparse_categorical_accuracy: 0.9024\n",
            "Epoch 120/200\n",
            "782/782 [==============================] - 6s 8ms/step - loss: 0.2133 - sparse_categorical_accuracy: 0.9166 - val_loss: 0.2748 - val_sparse_categorical_accuracy: 0.9044\n",
            "Epoch 121/200\n",
            "782/782 [==============================] - 5s 7ms/step - loss: 0.2166 - sparse_categorical_accuracy: 0.9161 - val_loss: 0.2740 - val_sparse_categorical_accuracy: 0.9052\n",
            "Epoch 122/200\n",
            "782/782 [==============================] - 6s 7ms/step - loss: 0.2162 - sparse_categorical_accuracy: 0.9174 - val_loss: 0.2747 - val_sparse_categorical_accuracy: 0.9046\n",
            "Epoch 123/200\n",
            "782/782 [==============================] - 6s 8ms/step - loss: 0.2129 - sparse_categorical_accuracy: 0.9176 - val_loss: 0.2707 - val_sparse_categorical_accuracy: 0.9046\n",
            "Epoch 124/200\n",
            "782/782 [==============================] - 5s 7ms/step - loss: 0.2132 - sparse_categorical_accuracy: 0.9185 - val_loss: 0.2810 - val_sparse_categorical_accuracy: 0.9003\n",
            "Epoch 125/200\n",
            "782/782 [==============================] - 6s 7ms/step - loss: 0.2151 - sparse_categorical_accuracy: 0.9171 - val_loss: 0.2711 - val_sparse_categorical_accuracy: 0.9032\n",
            "Epoch 126/200\n",
            "782/782 [==============================] - 5s 7ms/step - loss: 0.2126 - sparse_categorical_accuracy: 0.9190 - val_loss: 0.2784 - val_sparse_categorical_accuracy: 0.9045\n",
            "Epoch 127/200\n",
            "782/782 [==============================] - 6s 8ms/step - loss: 0.2150 - sparse_categorical_accuracy: 0.9156 - val_loss: 0.2772 - val_sparse_categorical_accuracy: 0.9046\n",
            "Epoch 128/200\n",
            "782/782 [==============================] - 5s 7ms/step - loss: 0.2132 - sparse_categorical_accuracy: 0.9165 - val_loss: 0.2752 - val_sparse_categorical_accuracy: 0.9035\n",
            "Epoch 129/200\n",
            "782/782 [==============================] - 6s 8ms/step - loss: 0.2129 - sparse_categorical_accuracy: 0.9179 - val_loss: 0.2761 - val_sparse_categorical_accuracy: 0.9039\n",
            "Epoch 130/200\n",
            "782/782 [==============================] - 5s 7ms/step - loss: 0.2128 - sparse_categorical_accuracy: 0.9171 - val_loss: 0.2780 - val_sparse_categorical_accuracy: 0.9029\n",
            "Epoch 131/200\n",
            "782/782 [==============================] - 6s 7ms/step - loss: 0.2127 - sparse_categorical_accuracy: 0.9187 - val_loss: 0.2789 - val_sparse_categorical_accuracy: 0.9024\n",
            "Epoch 132/200\n",
            "782/782 [==============================] - 6s 8ms/step - loss: 0.2084 - sparse_categorical_accuracy: 0.9200 - val_loss: 0.2721 - val_sparse_categorical_accuracy: 0.9050\n",
            "Epoch 133/200\n",
            "782/782 [==============================] - 6s 7ms/step - loss: 0.2108 - sparse_categorical_accuracy: 0.9185 - val_loss: 0.2778 - val_sparse_categorical_accuracy: 0.9011\n",
            "Epoch 134/200\n",
            "782/782 [==============================] - 6s 8ms/step - loss: 0.2106 - sparse_categorical_accuracy: 0.9184 - val_loss: 0.2820 - val_sparse_categorical_accuracy: 0.9022\n",
            "Epoch 135/200\n",
            "782/782 [==============================] - 5s 7ms/step - loss: 0.2115 - sparse_categorical_accuracy: 0.9188 - val_loss: 0.2767 - val_sparse_categorical_accuracy: 0.9054\n",
            "Epoch 136/200\n",
            "782/782 [==============================] - 6s 8ms/step - loss: 0.2111 - sparse_categorical_accuracy: 0.9182 - val_loss: 0.2783 - val_sparse_categorical_accuracy: 0.9040\n",
            "Epoch 137/200\n",
            "782/782 [==============================] - 5s 7ms/step - loss: 0.2121 - sparse_categorical_accuracy: 0.9191 - val_loss: 0.2710 - val_sparse_categorical_accuracy: 0.9052\n",
            "Epoch 138/200\n",
            "782/782 [==============================] - 6s 7ms/step - loss: 0.2093 - sparse_categorical_accuracy: 0.9206 - val_loss: 0.2852 - val_sparse_categorical_accuracy: 0.9017\n",
            "Epoch 139/200\n",
            "782/782 [==============================] - 6s 7ms/step - loss: 0.2104 - sparse_categorical_accuracy: 0.9171 - val_loss: 0.2738 - val_sparse_categorical_accuracy: 0.9049\n",
            "Epoch 140/200\n",
            "782/782 [==============================] - 6s 7ms/step - loss: 0.2089 - sparse_categorical_accuracy: 0.9195 - val_loss: 0.2749 - val_sparse_categorical_accuracy: 0.9028\n",
            "Epoch 141/200\n",
            "782/782 [==============================] - 6s 8ms/step - loss: 0.2092 - sparse_categorical_accuracy: 0.9188 - val_loss: 0.2690 - val_sparse_categorical_accuracy: 0.9054\n",
            "Epoch 142/200\n",
            "782/782 [==============================] - 5s 7ms/step - loss: 0.2070 - sparse_categorical_accuracy: 0.9189 - val_loss: 0.2802 - val_sparse_categorical_accuracy: 0.9021\n",
            "Epoch 143/200\n",
            "782/782 [==============================] - 6s 8ms/step - loss: 0.2093 - sparse_categorical_accuracy: 0.9196 - val_loss: 0.2804 - val_sparse_categorical_accuracy: 0.9027\n",
            "Epoch 144/200\n",
            "782/782 [==============================] - 6s 7ms/step - loss: 0.2110 - sparse_categorical_accuracy: 0.9177 - val_loss: 0.2740 - val_sparse_categorical_accuracy: 0.9054\n",
            "Epoch 145/200\n",
            "782/782 [==============================] - 6s 8ms/step - loss: 0.2091 - sparse_categorical_accuracy: 0.9205 - val_loss: 0.2706 - val_sparse_categorical_accuracy: 0.9045\n",
            "Epoch 146/200\n",
            "782/782 [==============================] - 5s 7ms/step - loss: 0.2073 - sparse_categorical_accuracy: 0.9195 - val_loss: 0.2760 - val_sparse_categorical_accuracy: 0.9019\n",
            "Epoch 147/200\n",
            "782/782 [==============================] - 6s 7ms/step - loss: 0.2087 - sparse_categorical_accuracy: 0.9194 - val_loss: 0.2806 - val_sparse_categorical_accuracy: 0.9045\n",
            "Epoch 148/200\n",
            "782/782 [==============================] - 6s 8ms/step - loss: 0.2113 - sparse_categorical_accuracy: 0.9177 - val_loss: 0.2676 - val_sparse_categorical_accuracy: 0.9063\n",
            "Epoch 149/200\n",
            "782/782 [==============================] - 6s 7ms/step - loss: 0.2074 - sparse_categorical_accuracy: 0.9208 - val_loss: 0.2736 - val_sparse_categorical_accuracy: 0.9029\n",
            "Epoch 150/200\n",
            "782/782 [==============================] - 6s 7ms/step - loss: 0.2075 - sparse_categorical_accuracy: 0.9196 - val_loss: 0.2831 - val_sparse_categorical_accuracy: 0.8993\n",
            "Epoch 151/200\n",
            "782/782 [==============================] - 6s 7ms/step - loss: 0.2067 - sparse_categorical_accuracy: 0.9214 - val_loss: 0.2774 - val_sparse_categorical_accuracy: 0.9040\n",
            "Epoch 152/200\n",
            "782/782 [==============================] - 6s 8ms/step - loss: 0.2066 - sparse_categorical_accuracy: 0.9187 - val_loss: 0.2838 - val_sparse_categorical_accuracy: 0.9009\n",
            "Epoch 153/200\n",
            "782/782 [==============================] - 6s 7ms/step - loss: 0.2072 - sparse_categorical_accuracy: 0.9190 - val_loss: 0.2782 - val_sparse_categorical_accuracy: 0.9047\n",
            "Epoch 154/200\n",
            "782/782 [==============================] - 6s 7ms/step - loss: 0.2057 - sparse_categorical_accuracy: 0.9210 - val_loss: 0.2725 - val_sparse_categorical_accuracy: 0.9048\n",
            "Epoch 155/200\n",
            "782/782 [==============================] - 6s 7ms/step - loss: 0.2039 - sparse_categorical_accuracy: 0.9212 - val_loss: 0.2769 - val_sparse_categorical_accuracy: 0.9051\n",
            "Epoch 156/200\n",
            "782/782 [==============================] - 6s 7ms/step - loss: 0.2082 - sparse_categorical_accuracy: 0.9193 - val_loss: 0.2759 - val_sparse_categorical_accuracy: 0.9057\n",
            "Epoch 157/200\n",
            "782/782 [==============================] - 6s 8ms/step - loss: 0.2051 - sparse_categorical_accuracy: 0.9209 - val_loss: 0.2750 - val_sparse_categorical_accuracy: 0.9047\n",
            "Epoch 158/200\n",
            "782/782 [==============================] - 6s 7ms/step - loss: 0.2050 - sparse_categorical_accuracy: 0.9202 - val_loss: 0.2784 - val_sparse_categorical_accuracy: 0.9041\n",
            "Epoch 159/200\n",
            "782/782 [==============================] - 6s 7ms/step - loss: 0.2025 - sparse_categorical_accuracy: 0.9207 - val_loss: 0.2733 - val_sparse_categorical_accuracy: 0.9068\n",
            "Epoch 160/200\n",
            "782/782 [==============================] - 5s 7ms/step - loss: 0.2058 - sparse_categorical_accuracy: 0.9203 - val_loss: 0.2787 - val_sparse_categorical_accuracy: 0.9034\n",
            "Epoch 161/200\n",
            "782/782 [==============================] - 6s 8ms/step - loss: 0.2096 - sparse_categorical_accuracy: 0.9189 - val_loss: 0.2712 - val_sparse_categorical_accuracy: 0.9054\n",
            "Epoch 162/200\n",
            "782/782 [==============================] - 5s 7ms/step - loss: 0.2054 - sparse_categorical_accuracy: 0.9212 - val_loss: 0.2766 - val_sparse_categorical_accuracy: 0.9048\n",
            "Epoch 163/200\n",
            "782/782 [==============================] - 6s 7ms/step - loss: 0.2053 - sparse_categorical_accuracy: 0.9206 - val_loss: 0.2742 - val_sparse_categorical_accuracy: 0.9059\n",
            "Epoch 164/200\n",
            "782/782 [==============================] - 6s 7ms/step - loss: 0.2033 - sparse_categorical_accuracy: 0.9221 - val_loss: 0.2791 - val_sparse_categorical_accuracy: 0.9046\n",
            "Epoch 165/200\n",
            "782/782 [==============================] - 5s 7ms/step - loss: 0.2051 - sparse_categorical_accuracy: 0.9202 - val_loss: 0.2787 - val_sparse_categorical_accuracy: 0.9053\n",
            "Epoch 166/200\n",
            "782/782 [==============================] - 6s 7ms/step - loss: 0.2065 - sparse_categorical_accuracy: 0.9192 - val_loss: 0.2765 - val_sparse_categorical_accuracy: 0.9043\n",
            "Epoch 167/200\n",
            "782/782 [==============================] - 5s 7ms/step - loss: 0.2063 - sparse_categorical_accuracy: 0.9207 - val_loss: 0.2841 - val_sparse_categorical_accuracy: 0.9039\n",
            "Epoch 168/200\n",
            "782/782 [==============================] - 6s 8ms/step - loss: 0.2001 - sparse_categorical_accuracy: 0.9229 - val_loss: 0.2741 - val_sparse_categorical_accuracy: 0.9058\n",
            "Epoch 169/200\n",
            "782/782 [==============================] - 6s 7ms/step - loss: 0.2024 - sparse_categorical_accuracy: 0.9212 - val_loss: 0.2851 - val_sparse_categorical_accuracy: 0.9041\n",
            "Epoch 170/200\n",
            "782/782 [==============================] - 6s 7ms/step - loss: 0.2020 - sparse_categorical_accuracy: 0.9214 - val_loss: 0.2766 - val_sparse_categorical_accuracy: 0.9040\n",
            "Epoch 171/200\n",
            "782/782 [==============================] - 6s 7ms/step - loss: 0.2045 - sparse_categorical_accuracy: 0.9207 - val_loss: 0.2792 - val_sparse_categorical_accuracy: 0.9030\n",
            "Epoch 172/200\n",
            "782/782 [==============================] - 6s 7ms/step - loss: 0.2003 - sparse_categorical_accuracy: 0.9234 - val_loss: 0.2795 - val_sparse_categorical_accuracy: 0.9038\n",
            "Epoch 173/200\n",
            "782/782 [==============================] - 6s 7ms/step - loss: 0.2021 - sparse_categorical_accuracy: 0.9221 - val_loss: 0.2772 - val_sparse_categorical_accuracy: 0.9043\n",
            "Epoch 174/200\n",
            "782/782 [==============================] - 5s 7ms/step - loss: 0.2047 - sparse_categorical_accuracy: 0.9226 - val_loss: 0.2711 - val_sparse_categorical_accuracy: 0.9043\n",
            "Epoch 175/200\n",
            "782/782 [==============================] - 6s 7ms/step - loss: 0.1995 - sparse_categorical_accuracy: 0.9226 - val_loss: 0.2753 - val_sparse_categorical_accuracy: 0.9039\n",
            "Epoch 176/200\n",
            "782/782 [==============================] - 6s 7ms/step - loss: 0.2014 - sparse_categorical_accuracy: 0.9222 - val_loss: 0.2744 - val_sparse_categorical_accuracy: 0.9068\n",
            "Epoch 177/200\n",
            "782/782 [==============================] - 6s 8ms/step - loss: 0.1984 - sparse_categorical_accuracy: 0.9226 - val_loss: 0.2718 - val_sparse_categorical_accuracy: 0.9055\n",
            "Epoch 178/200\n",
            "782/782 [==============================] - 5s 7ms/step - loss: 0.2017 - sparse_categorical_accuracy: 0.9217 - val_loss: 0.2718 - val_sparse_categorical_accuracy: 0.9068\n",
            "Epoch 179/200\n",
            "782/782 [==============================] - 7s 8ms/step - loss: 0.1993 - sparse_categorical_accuracy: 0.9211 - val_loss: 0.2786 - val_sparse_categorical_accuracy: 0.9050\n",
            "Epoch 180/200\n",
            "782/782 [==============================] - 5s 7ms/step - loss: 0.1987 - sparse_categorical_accuracy: 0.9232 - val_loss: 0.2769 - val_sparse_categorical_accuracy: 0.9051\n",
            "Epoch 181/200\n",
            "782/782 [==============================] - 5s 7ms/step - loss: 0.2004 - sparse_categorical_accuracy: 0.9231 - val_loss: 0.2761 - val_sparse_categorical_accuracy: 0.9046\n",
            "Epoch 182/200\n",
            "782/782 [==============================] - 6s 8ms/step - loss: 0.1982 - sparse_categorical_accuracy: 0.9242 - val_loss: 0.2767 - val_sparse_categorical_accuracy: 0.9053\n",
            "Epoch 183/200\n",
            "782/782 [==============================] - 5s 7ms/step - loss: 0.1985 - sparse_categorical_accuracy: 0.9222 - val_loss: 0.2741 - val_sparse_categorical_accuracy: 0.9038\n",
            "Epoch 184/200\n",
            "782/782 [==============================] - 6s 8ms/step - loss: 0.2000 - sparse_categorical_accuracy: 0.9238 - val_loss: 0.2728 - val_sparse_categorical_accuracy: 0.9068\n",
            "Epoch 185/200\n",
            "782/782 [==============================] - 6s 7ms/step - loss: 0.1975 - sparse_categorical_accuracy: 0.9241 - val_loss: 0.2809 - val_sparse_categorical_accuracy: 0.9042\n",
            "Epoch 186/200\n",
            "782/782 [==============================] - 6s 8ms/step - loss: 0.2009 - sparse_categorical_accuracy: 0.9234 - val_loss: 0.2774 - val_sparse_categorical_accuracy: 0.9039\n",
            "Epoch 187/200\n",
            "782/782 [==============================] - 6s 7ms/step - loss: 0.1992 - sparse_categorical_accuracy: 0.9228 - val_loss: 0.2787 - val_sparse_categorical_accuracy: 0.9051\n",
            "Epoch 188/200\n",
            "782/782 [==============================] - 6s 8ms/step - loss: 0.1969 - sparse_categorical_accuracy: 0.9234 - val_loss: 0.2831 - val_sparse_categorical_accuracy: 0.9037\n",
            "Epoch 189/200\n",
            "782/782 [==============================] - 6s 8ms/step - loss: 0.2016 - sparse_categorical_accuracy: 0.9210 - val_loss: 0.2769 - val_sparse_categorical_accuracy: 0.9047\n",
            "Epoch 190/200\n",
            "782/782 [==============================] - 6s 7ms/step - loss: 0.2010 - sparse_categorical_accuracy: 0.9230 - val_loss: 0.2809 - val_sparse_categorical_accuracy: 0.9036\n",
            "Epoch 191/200\n",
            "782/782 [==============================] - 6s 8ms/step - loss: 0.1974 - sparse_categorical_accuracy: 0.9235 - val_loss: 0.2735 - val_sparse_categorical_accuracy: 0.9061\n",
            "Epoch 192/200\n",
            "782/782 [==============================] - 5s 7ms/step - loss: 0.1983 - sparse_categorical_accuracy: 0.9226 - val_loss: 0.2812 - val_sparse_categorical_accuracy: 0.9044\n",
            "Epoch 193/200\n",
            "782/782 [==============================] - 6s 8ms/step - loss: 0.1991 - sparse_categorical_accuracy: 0.9231 - val_loss: 0.2783 - val_sparse_categorical_accuracy: 0.9071\n",
            "Epoch 194/200\n",
            "782/782 [==============================] - 6s 7ms/step - loss: 0.1931 - sparse_categorical_accuracy: 0.9253 - val_loss: 0.2845 - val_sparse_categorical_accuracy: 0.9066\n",
            "Epoch 195/200\n",
            "782/782 [==============================] - 6s 8ms/step - loss: 0.1984 - sparse_categorical_accuracy: 0.9238 - val_loss: 0.2792 - val_sparse_categorical_accuracy: 0.9050\n",
            "Epoch 196/200\n",
            "782/782 [==============================] - 6s 7ms/step - loss: 0.1980 - sparse_categorical_accuracy: 0.9239 - val_loss: 0.2852 - val_sparse_categorical_accuracy: 0.9050\n",
            "Epoch 197/200\n",
            "782/782 [==============================] - 6s 8ms/step - loss: 0.1991 - sparse_categorical_accuracy: 0.9235 - val_loss: 0.2859 - val_sparse_categorical_accuracy: 0.9052\n",
            "Epoch 198/200\n",
            "782/782 [==============================] - 6s 8ms/step - loss: 0.1998 - sparse_categorical_accuracy: 0.9224 - val_loss: 0.2805 - val_sparse_categorical_accuracy: 0.9024\n",
            "Epoch 199/200\n",
            "782/782 [==============================] - 6s 8ms/step - loss: 0.1946 - sparse_categorical_accuracy: 0.9249 - val_loss: 0.2847 - val_sparse_categorical_accuracy: 0.9038\n",
            "Epoch 200/200\n",
            "782/782 [==============================] - 5s 7ms/step - loss: 0.1941 - sparse_categorical_accuracy: 0.9244 - val_loss: 0.2876 - val_sparse_categorical_accuracy: 0.9013\n",
            "313/313 [==============================] - 1s 2ms/step - loss: 0.3064 - sparse_categorical_accuracy: 0.8979\n",
            "\n",
            "Test accuracy: 0.8978999853134155\n"
          ]
        }
      ]
    },
    {
      "cell_type": "code",
      "source": [
        "print('\\nhistory dict:', list(history.history.keys()))"
      ],
      "metadata": {
        "id": "CxRE-B_Q6Sii",
        "colab": {
          "base_uri": "https://localhost:8080/"
        },
        "outputId": "8948ecd2-4c08-4930-d082-77d4a7d2c856"
      },
      "execution_count": 31,
      "outputs": [
        {
          "output_type": "stream",
          "name": "stdout",
          "text": [
            "\n",
            "history dict: ['loss', 'sparse_categorical_accuracy', 'val_loss', 'val_sparse_categorical_accuracy']\n"
          ]
        }
      ]
    },
    {
      "cell_type": "code",
      "source": [
        "result = model.evaluate(x_test, y_test)\n",
        "print(result)"
      ],
      "metadata": {
        "id": "YXpwRRTvTBNg",
        "colab": {
          "base_uri": "https://localhost:8080/"
        },
        "outputId": "1ad8c686-96ec-404f-dd24-6d678d69ec52"
      },
      "execution_count": 32,
      "outputs": [
        {
          "output_type": "stream",
          "name": "stdout",
          "text": [
            "313/313 [==============================] - 1s 2ms/step - loss: 0.3064 - sparse_categorical_accuracy: 0.8979\n",
            "[0.3063792586326599, 0.8978999853134155]\n"
          ]
        }
      ]
    },
    {
      "cell_type": "code",
      "source": [
        "# from keras.models import load_model\n",
        "# saved_model = load_model('best_model.h5')\n",
        "# # _, train_acc = saved_model.evaluate(x_train, y_train, verbose=0)\n",
        "# _, test_acc = saved_model.evaluate(x_test, y_test, verbose=0)\n",
        "# print('Test: %.3f' % (test_acc))"
      ],
      "metadata": {
        "id": "DR_MS9DABo_K"
      },
      "execution_count": 33,
      "outputs": []
    },
    {
      "cell_type": "code",
      "source": [
        "history_dict = history.history\n",
        "loss_values = history_dict['loss']\n",
        "val_loss_values = history_dict['val_loss']\n",
        "\n",
        "epochs = range(1, len(history_dict['loss']) + 1)\n",
        "\n",
        "plt.figure(figsize=(10, 5))\n",
        "plt.plot(epochs, loss_values, 'bo', label='Training loss')\n",
        "plt.plot(epochs, val_loss_values, 'r', label='Validation loss')\n",
        "plt.title('Training and validation loss')\n",
        "plt.xlabel('Epochs')\n",
        "plt.ylabel('Loss')\n",
        "# plt.legend()\n",
        "plt.grid(True)\n",
        "plt.show()\n",
        "\n",
        "plt.clf()\n",
        "plt.figure(figsize=(10, 5))\n",
        "val_acc_values = history_dict['sparse_categorical_accuracy']\n",
        "plt.plot(epochs, history_dict['sparse_categorical_accuracy'], 'bo', label='Training acc')\n",
        "plt.plot(epochs, history_dict['val_sparse_categorical_accuracy'], 'r', label='Validation acc')\n",
        "plt.title('Training and validation accuracy')\n",
        "plt.xlabel('Epochs')\n",
        "plt.ylabel('Accuracy')\n",
        "plt.legend()\n",
        "plt.grid(True)"
      ],
      "metadata": {
        "id": "2Ll_5sGlXKMH",
        "colab": {
          "base_uri": "https://localhost:8080/",
          "height": 975
        },
        "outputId": "6261897a-efbd-4797-eeec-7ece85c86dd2"
      },
      "execution_count": 34,
      "outputs": [
        {
          "output_type": "display_data",
          "data": {
            "text/plain": [
              "<Figure size 1000x500 with 1 Axes>"
            ],
            "image/png": "[encoded data removed]"
          },
          "metadata": {}
        },
        {
          "output_type": "display_data",
          "data": {
            "text/plain": [
              "<Figure size 640x480 with 0 Axes>"
            ]
          },
          "metadata": {}
        },
        {
          "output_type": "display_data",
          "data": {
            "text/plain": [
              "<Figure size 1000x500 with 1 Axes>"
            ],
            "image/png": "[encoded data removed]"
          },
          "metadata": {}
        }
      ]
    },
    {
      "cell_type": "code",
      "source": [
        "probability_model = tf.keras.Sequential([model,\n",
        "                                         tf.keras.layers.Softmax()])"
      ],
      "metadata": {
        "id": "VzOdKAT_uV-f"
      },
      "execution_count": 35,
      "outputs": []
    },
    {
      "cell_type": "code",
      "source": [
        "predictions = probability_model.predict(x_test)"
      ],
      "metadata": {
        "id": "f4is3NFruYom",
        "colab": {
          "base_uri": "https://localhost:8080/"
        },
        "outputId": "ffe03ac4-8783-4693-9e69-cdf407b4b68a"
      },
      "execution_count": 36,
      "outputs": [
        {
          "output_type": "stream",
          "name": "stdout",
          "text": [
            "313/313 [==============================] - 1s 2ms/step\n"
          ]
        }
      ]
    },
    {
      "cell_type": "code",
      "source": [
        "predictions[0]"
      ],
      "metadata": {
        "id": "82cigvlZudz_",
        "colab": {
          "base_uri": "https://localhost:8080/"
        },
        "outputId": "0d893f0f-7965-402e-a062-29faef97a7c1"
      },
      "execution_count": 37,
      "outputs": [
        {
          "output_type": "execute_result",
          "data": {
            "text/plain": [
              "array([0.08534129, 0.08534129, 0.08534129, 0.08534129, 0.08534129,\n",
              "       0.08535089, 0.08534129, 0.08536275, 0.08534129, 0.23189731],\n",
              "      dtype=float32)"
            ]
          },
          "metadata": {},
          "execution_count": 37
        }
      ]
    },
    {
      "cell_type": "code",
      "source": [
        "model.summary()"
      ],
      "metadata": {
        "id": "6RsQPHyYuNGe",
        "colab": {
          "base_uri": "https://localhost:8080/"
        },
        "outputId": "61f9683c-be72-43d5-87a9-41ade4b42aec"
      },
      "execution_count": 38,
      "outputs": [
        {
          "output_type": "stream",
          "name": "stdout",
          "text": [
            "Model: \"sequential_2\"\n",
            "_________________________________________________________________\n",
            " Layer (type)                Output Shape              Param #   \n",
            "=================================================================\n",
            " flatten_1 (Flatten)         (None, 784)               0         \n",
            "                                                                 \n",
            " dropout_4 (Dropout)         (None, 784)               0         \n",
            "                                                                 \n",
            " dense_4 (Dense)             (None, 256)               200960    \n",
            "                                                                 \n",
            " batch_normalization_3 (Bat  (None, 256)               1024      \n",
            " chNormalization)                                                \n",
            "                                                                 \n",
            " dropout_5 (Dropout)         (None, 256)               0         \n",
            "                                                                 \n",
            " dense_5 (Dense)             (None, 512)               131584    \n",
            "                                                                 \n",
            " batch_normalization_4 (Bat  (None, 512)               2048      \n",
            " chNormalization)                                                \n",
            "                                                                 \n",
            " dropout_6 (Dropout)         (None, 512)               0         \n",
            "                                                                 \n",
            " dense_6 (Dense)             (None, 512)               262656    \n",
            "                                                                 \n",
            " batch_normalization_5 (Bat  (None, 512)               2048      \n",
            " chNormalization)                                                \n",
            "                                                                 \n",
            " dropout_7 (Dropout)         (None, 512)               0         \n",
            "                                                                 \n",
            " dense_7 (Dense)             (None, 10)                5130      \n",
            "                                                                 \n",
            "=================================================================\n",
            "Total params: 605450 (2.31 MB)\n",
            "Trainable params: 602890 (2.30 MB)\n",
            "Non-trainable params: 2560 (10.00 KB)\n",
            "_________________________________________________________________\n"
          ]
        }
      ]
    }
  ]
}