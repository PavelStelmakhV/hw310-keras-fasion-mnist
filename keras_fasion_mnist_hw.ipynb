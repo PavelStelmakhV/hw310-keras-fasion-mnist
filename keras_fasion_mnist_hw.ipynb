{
  "nbformat": 4,
  "nbformat_minor": 0,
  "metadata": {
    "colab": {
      "provenance": [],
      "gpuType": "T4",
      "authorship_tag": "ABX9TyOcnrwAQ1A2UFDUIY9zd0+F",
      "include_colab_link": true
    },
    "kernelspec": {
      "name": "python3",
      "display_name": "Python 3"
    },
    "language_info": {
      "name": "python"
    },
    "accelerator": "GPU"
  },
  "cells": [
    {
      "cell_type": "markdown",
      "metadata": {
        "id": "view-in-github",
        "colab_type": "text"
      },
      "source": [
        "<a href=\"https://colab.research.google.com/github/PavelStelmakhV/hw310-keras-fasion-mnist/blob/main/keras_fasion_mnist_hw.ipynb\" target=\"_parent\"><img src=\"https://colab.research.google.com/assets/colab-badge.svg\" alt=\"Open In Colab\"/></a>"
      ]
    },
    {
      "cell_type": "code",
      "execution_count": 1,
      "metadata": {
        "id": "vv7w0bgAVQPO"
      },
      "outputs": [],
      "source": [
        "import tensorflow as tf\n",
        "import numpy as np\n",
        "import matplotlib.pyplot as plt\n",
        "\n",
        "from keras import layers\n",
        "from keras import regularizers\n",
        "from keras import callbacks\n",
        "from keras import initializers\n",
        "from keras.layers import BatchNormalization\n",
        "from keras.models import load_model"
      ]
    },
    {
      "cell_type": "code",
      "source": [
        "fashion_mnist = tf.keras.datasets.fashion_mnist\n",
        "\n",
        "(x_train, y_train), (x_test, y_test) = fashion_mnist.load_data()"
      ],
      "metadata": {
        "id": "mOpywsNAzfGB",
        "colab": {
          "base_uri": "https://localhost:8080/"
        },
        "outputId": "e71b3cfc-2837-46c9-bc08-0bd5c65d01f1"
      },
      "execution_count": 2,
      "outputs": [
        {
          "output_type": "stream",
          "name": "stdout",
          "text": [
            "Downloading data from https://storage.googleapis.com/tensorflow/tf-keras-datasets/train-labels-idx1-ubyte.gz\n",
            "29515/29515 [==============================] - 0s 0us/step\n",
            "Downloading data from https://storage.googleapis.com/tensorflow/tf-keras-datasets/train-images-idx3-ubyte.gz\n",
            "26421880/26421880 [==============================] - 0s 0us/step\n",
            "Downloading data from https://storage.googleapis.com/tensorflow/tf-keras-datasets/t10k-labels-idx1-ubyte.gz\n",
            "5148/5148 [==============================] - 0s 0us/step\n",
            "Downloading data from https://storage.googleapis.com/tensorflow/tf-keras-datasets/t10k-images-idx3-ubyte.gz\n",
            "4422102/4422102 [==============================] - 0s 0us/step\n"
          ]
        }
      ]
    },
    {
      "cell_type": "code",
      "source": [
        "# x_train = x_train.reshape(60000, 784).astype('float32') / 255\n",
        "# x_test = x_test.reshape(10000, 784).astype('float32') / 255\n",
        "x_train = x_train.astype('float32') / 255\n",
        "x_test = x_test.astype('float32') / 255\n",
        "\n",
        "y_train = y_train.astype('float32')\n",
        "y_test = y_test.astype('float32')\n",
        "\n",
        "# Перемешаем тренировочные данные\n",
        "# train_data = tf.data.Dataset.from_tensor_slices((x_train, y_train))\n",
        "# train_data = train_data.repeat().shuffle(5000).batch(batch_size).prefetch(1)"
      ],
      "metadata": {
        "id": "t2gucjsJ0KUi"
      },
      "execution_count": 3,
      "outputs": []
    },
    {
      "cell_type": "code",
      "source": [
        "# x_val = x_train[-10000:]\n",
        "# y_val = y_train[-10000:]\n",
        "# x_train = x_train[:-10000]\n",
        "# y_train = y_train[:-10000]"
      ],
      "metadata": {
        "id": "fLPNXab5dHwO"
      },
      "execution_count": 4,
      "outputs": []
    },
    {
      "cell_type": "code",
      "source": [],
      "metadata": {
        "id": "bU5TK5YdlnU5"
      },
      "execution_count": 4,
      "outputs": []
    },
    {
      "cell_type": "code",
      "source": [
        "w_init_tanh = initializers.glorot_normal(seed=42)\n",
        "w_init_relu = initializers.HeNormal(seed=42)\n",
        "b_init = initializers.Zeros()"
      ],
      "metadata": {
        "id": "yL9QTEtBGy4N"
      },
      "execution_count": 5,
      "outputs": []
    },
    {
      "cell_type": "code",
      "source": [
        "model = tf.keras.Sequential()\n",
        "\n",
        "drop_out = 0.30\n",
        "lern_rat = 0.001\n",
        "neurons = 256\n",
        "\n",
        "model.add(layers.Flatten(input_shape=(28, 28)))\n",
        "model.add(layers.Dropout(drop_out))\n",
        "\n",
        "model.add(BatchNormalization())\n",
        "model.add(layers.Dense(neurons * 1, activation='elu', kernel_initializer=w_init_relu, bias_initializer=b_init)) #, kernel_regularizer=regularizers.l2(lern_rat)\n",
        "# model.add(BatchNormalization())\n",
        "model.add(layers.Dropout(drop_out))\n",
        "\n",
        "model.add(BatchNormalization())\n",
        "model.add(layers.Dense(neurons * 2, activation='tanh', kernel_initializer=w_init_tanh, bias_initializer=b_init))\n",
        "model.add(layers.Dropout(drop_out))\n",
        "\n",
        "model.add(BatchNormalization())\n",
        "model.add(layers.Dense(neurons * 2, activation='elu', kernel_initializer=w_init_relu, bias_initializer=b_init))\n",
        "# model.add(BatchNormalization())\n",
        "model.add(layers.Dropout(drop_out))\n",
        "\n",
        "# model.add(layers.Dense(neurons * 2, activation='relu'))\n",
        "# model.add(BatchNormalization())\n",
        "# model.add(layers.Dropout(drop_out * 2))\n",
        "\n",
        "model.add(layers.Dense(10, activation='softmax'))"
      ],
      "metadata": {
        "id": "atS39i4d0aqW"
      },
      "execution_count": 6,
      "outputs": []
    },
    {
      "cell_type": "code",
      "source": [],
      "metadata": {
        "id": "EzfnaqIZlfy8"
      },
      "execution_count": 6,
      "outputs": []
    },
    {
      "cell_type": "code",
      "source": [
        "model.compile(#optimizer='adam',\n",
        "              # optimizer='adamax',\n",
        "              optimizer='nadam',\n",
        "              # optimizer='rmsprop',\n",
        "              # optimizer='sgd',\n",
        "              # optimizer='adadelta',\n",
        "              # loss='binary_crossentropy',\n",
        "              loss=tf.keras.losses.SparseCategoricalCrossentropy(),\n",
        "              metrics=['sparse_categorical_accuracy']) # sparse_categorical_accuracy"
      ],
      "metadata": {
        "id": "hENVaAC7ilNY"
      },
      "execution_count": 7,
      "outputs": []
    },
    {
      "cell_type": "code",
      "source": [
        "x = np.random.random((1, 28, 28))\n",
        "a = model.predict(x)\n",
        "_ = plt.hist(np.transpose(a))"
      ],
      "metadata": {
        "id": "RFgZHNNFMa8p",
        "outputId": "2d67fb18-b9df-4531-c0c9-4dc83e2d4a8d",
        "colab": {
          "base_uri": "https://localhost:8080/",
          "height": 448
        }
      },
      "execution_count": 8,
      "outputs": [
        {
          "output_type": "stream",
          "name": "stdout",
          "text": [
            "1/1 [==============================] - 2s 2s/step\n"
          ]
        },
        {
          "output_type": "display_data",
          "data": {
            "text/plain": [
              "<Figure size 640x480 with 1 Axes>"
            ],
            "image/png": "[encoded data removed]"
          },
          "metadata": {}
        }
      ]
    },
    {
      "cell_type": "code",
      "source": [
        "y_pred = model.predict(x_test)"
      ],
      "metadata": {
        "id": "UDP8OKKZ8oQa",
        "outputId": "ba10f71f-6bc7-4715-b6a4-079228e8359c",
        "colab": {
          "base_uri": "https://localhost:8080/"
        }
      },
      "execution_count": 9,
      "outputs": [
        {
          "output_type": "stream",
          "name": "stdout",
          "text": [
            "313/313 [==============================] - 1s 4ms/step\n"
          ]
        }
      ]
    },
    {
      "cell_type": "code",
      "source": [
        "callback = callbacks.EarlyStopping(monitor='val_loss',\n",
        "                                   patience=50,\n",
        "                                   restore_best_weights=True,\n",
        "                                   )\n",
        "es = callbacks.EarlyStopping(monitor='val_loss', mode='min', verbose=1, patience=200)\n",
        "mc = callbacks.ModelCheckpoint('best_model.h5', monitor='sparse_categorical_accuracy', mode='max', verbose=0, save_best_only=True)\n"
      ],
      "metadata": {
        "id": "5ihU4exVlsjm"
      },
      "execution_count": 10,
      "outputs": []
    },
    {
      "cell_type": "code",
      "source": [
        "# model.fit(train_images, train_labels, epochs=20)\n",
        "history = model.fit(x_train, y_train,\n",
        "                    epochs=100,\n",
        "                    batch_size=128,\n",
        "                    # callbacks=[callback],\n",
        "                    callbacks=[mc],\n",
        "                    verbose=1, #многословие\n",
        "                    validation_split=0.2\n",
        "                    # validation_data=(x_val, y_val)\n",
        "                    )\n",
        "test_loss, test_acc = model.evaluate(x_test, y_test)\n",
        "print('\\nTest accuracy:', test_acc)"
      ],
      "metadata": {
        "id": "FH8HcMNm233I",
        "outputId": "24be802c-dbf7-4017-a9ed-395abb0af797",
        "colab": {
          "base_uri": "https://localhost:8080/"
        }
      },
      "execution_count": 11,
      "outputs": [
        {
          "output_type": "stream",
          "name": "stdout",
          "text": [
            "Epoch 1/100\n",
            "375/375 [==============================] - 17s 9ms/step - loss: 0.7651 - sparse_categorical_accuracy: 0.7432 - val_loss: 0.4677 - val_sparse_categorical_accuracy: 0.8358\n",
            "Epoch 2/100\n",
            " 17/375 [>.............................] - ETA: 2s - loss: 0.6064 - sparse_categorical_accuracy: 0.7812"
          ]
        },
        {
          "output_type": "stream",
          "name": "stderr",
          "text": [
            "/usr/local/lib/python3.10/dist-packages/keras/src/engine/training.py:3103: UserWarning: You are saving your model as an HDF5 file via `model.save()`. This file format is considered legacy. We recommend using instead the native Keras format, e.g. `model.save('my_model.keras')`.\n",
            "  saving_api.save_model(\n"
          ]
        },
        {
          "output_type": "stream",
          "name": "stdout",
          "text": [
            "375/375 [==============================] - 3s 8ms/step - loss: 0.5412 - sparse_categorical_accuracy: 0.8037 - val_loss: 0.4233 - val_sparse_categorical_accuracy: 0.8523\n",
            "Epoch 3/100\n",
            "375/375 [==============================] - 3s 8ms/step - loss: 0.4860 - sparse_categorical_accuracy: 0.8202 - val_loss: 0.3841 - val_sparse_categorical_accuracy: 0.8572\n",
            "Epoch 4/100\n",
            "375/375 [==============================] - 3s 8ms/step - loss: 0.4544 - sparse_categorical_accuracy: 0.8309 - val_loss: 0.3755 - val_sparse_categorical_accuracy: 0.8608\n",
            "Epoch 5/100\n",
            "375/375 [==============================] - 3s 7ms/step - loss: 0.4384 - sparse_categorical_accuracy: 0.8365 - val_loss: 0.3819 - val_sparse_categorical_accuracy: 0.8621\n",
            "Epoch 6/100\n",
            "375/375 [==============================] - 3s 8ms/step - loss: 0.4239 - sparse_categorical_accuracy: 0.8432 - val_loss: 0.3629 - val_sparse_categorical_accuracy: 0.8634\n",
            "Epoch 7/100\n",
            "375/375 [==============================] - 3s 9ms/step - loss: 0.4128 - sparse_categorical_accuracy: 0.8468 - val_loss: 0.3507 - val_sparse_categorical_accuracy: 0.8699\n",
            "Epoch 8/100\n",
            "375/375 [==============================] - 3s 7ms/step - loss: 0.4018 - sparse_categorical_accuracy: 0.8501 - val_loss: 0.3349 - val_sparse_categorical_accuracy: 0.8731\n",
            "Epoch 9/100\n",
            "375/375 [==============================] - 3s 8ms/step - loss: 0.3922 - sparse_categorical_accuracy: 0.8548 - val_loss: 0.3262 - val_sparse_categorical_accuracy: 0.8802\n",
            "Epoch 10/100\n",
            "375/375 [==============================] - 3s 7ms/step - loss: 0.3849 - sparse_categorical_accuracy: 0.8544 - val_loss: 0.3471 - val_sparse_categorical_accuracy: 0.8706\n",
            "Epoch 11/100\n",
            "375/375 [==============================] - 3s 9ms/step - loss: 0.3800 - sparse_categorical_accuracy: 0.8568 - val_loss: 0.3365 - val_sparse_categorical_accuracy: 0.8723\n",
            "Epoch 12/100\n",
            "375/375 [==============================] - 3s 8ms/step - loss: 0.3746 - sparse_categorical_accuracy: 0.8593 - val_loss: 0.3329 - val_sparse_categorical_accuracy: 0.8759\n",
            "Epoch 13/100\n",
            "375/375 [==============================] - 3s 8ms/step - loss: 0.3702 - sparse_categorical_accuracy: 0.8609 - val_loss: 0.3292 - val_sparse_categorical_accuracy: 0.8747\n",
            "Epoch 14/100\n",
            "375/375 [==============================] - 3s 7ms/step - loss: 0.3641 - sparse_categorical_accuracy: 0.8641 - val_loss: 0.3111 - val_sparse_categorical_accuracy: 0.8852\n",
            "Epoch 15/100\n",
            "375/375 [==============================] - 4s 9ms/step - loss: 0.3578 - sparse_categorical_accuracy: 0.8644 - val_loss: 0.3147 - val_sparse_categorical_accuracy: 0.8831\n",
            "Epoch 16/100\n",
            "375/375 [==============================] - 3s 8ms/step - loss: 0.3530 - sparse_categorical_accuracy: 0.8658 - val_loss: 0.3004 - val_sparse_categorical_accuracy: 0.8867\n",
            "Epoch 17/100\n",
            "375/375 [==============================] - 3s 8ms/step - loss: 0.3498 - sparse_categorical_accuracy: 0.8680 - val_loss: 0.3113 - val_sparse_categorical_accuracy: 0.8841\n",
            "Epoch 18/100\n",
            "375/375 [==============================] - 3s 8ms/step - loss: 0.3468 - sparse_categorical_accuracy: 0.8689 - val_loss: 0.3166 - val_sparse_categorical_accuracy: 0.8850\n",
            "Epoch 19/100\n",
            "375/375 [==============================] - 3s 9ms/step - loss: 0.3496 - sparse_categorical_accuracy: 0.8668 - val_loss: 0.3122 - val_sparse_categorical_accuracy: 0.8866\n",
            "Epoch 20/100\n",
            "375/375 [==============================] - 3s 8ms/step - loss: 0.3347 - sparse_categorical_accuracy: 0.8737 - val_loss: 0.3017 - val_sparse_categorical_accuracy: 0.8878\n",
            "Epoch 21/100\n",
            "375/375 [==============================] - 3s 9ms/step - loss: 0.3382 - sparse_categorical_accuracy: 0.8722 - val_loss: 0.3124 - val_sparse_categorical_accuracy: 0.8852\n",
            "Epoch 22/100\n",
            "375/375 [==============================] - 3s 8ms/step - loss: 0.3325 - sparse_categorical_accuracy: 0.8737 - val_loss: 0.2990 - val_sparse_categorical_accuracy: 0.8906\n",
            "Epoch 23/100\n",
            "375/375 [==============================] - 3s 9ms/step - loss: 0.3322 - sparse_categorical_accuracy: 0.8730 - val_loss: 0.3085 - val_sparse_categorical_accuracy: 0.8878\n",
            "Epoch 24/100\n",
            "375/375 [==============================] - 3s 8ms/step - loss: 0.3273 - sparse_categorical_accuracy: 0.8764 - val_loss: 0.3050 - val_sparse_categorical_accuracy: 0.8901\n",
            "Epoch 25/100\n",
            "375/375 [==============================] - 3s 8ms/step - loss: 0.3250 - sparse_categorical_accuracy: 0.8745 - val_loss: 0.2857 - val_sparse_categorical_accuracy: 0.8950\n",
            "Epoch 26/100\n",
            "375/375 [==============================] - 3s 8ms/step - loss: 0.3242 - sparse_categorical_accuracy: 0.8767 - val_loss: 0.2995 - val_sparse_categorical_accuracy: 0.8899\n",
            "Epoch 27/100\n",
            "375/375 [==============================] - 5s 13ms/step - loss: 0.3196 - sparse_categorical_accuracy: 0.8801 - val_loss: 0.2906 - val_sparse_categorical_accuracy: 0.8942\n",
            "Epoch 28/100\n",
            "375/375 [==============================] - 3s 8ms/step - loss: 0.3164 - sparse_categorical_accuracy: 0.8802 - val_loss: 0.2921 - val_sparse_categorical_accuracy: 0.8923\n",
            "Epoch 29/100\n",
            "375/375 [==============================] - 3s 8ms/step - loss: 0.3154 - sparse_categorical_accuracy: 0.8807 - val_loss: 0.2919 - val_sparse_categorical_accuracy: 0.8919\n",
            "Epoch 30/100\n",
            "375/375 [==============================] - 3s 9ms/step - loss: 0.3137 - sparse_categorical_accuracy: 0.8821 - val_loss: 0.2977 - val_sparse_categorical_accuracy: 0.8895\n",
            "Epoch 31/100\n",
            "375/375 [==============================] - 3s 8ms/step - loss: 0.3123 - sparse_categorical_accuracy: 0.8824 - val_loss: 0.2965 - val_sparse_categorical_accuracy: 0.8925\n",
            "Epoch 32/100\n",
            "375/375 [==============================] - 3s 7ms/step - loss: 0.3106 - sparse_categorical_accuracy: 0.8825 - val_loss: 0.2898 - val_sparse_categorical_accuracy: 0.8952\n",
            "Epoch 33/100\n",
            "375/375 [==============================] - 3s 7ms/step - loss: 0.3072 - sparse_categorical_accuracy: 0.8839 - val_loss: 0.2874 - val_sparse_categorical_accuracy: 0.8941\n",
            "Epoch 34/100\n",
            "375/375 [==============================] - 3s 8ms/step - loss: 0.3053 - sparse_categorical_accuracy: 0.8834 - val_loss: 0.2850 - val_sparse_categorical_accuracy: 0.8954\n",
            "Epoch 35/100\n",
            "375/375 [==============================] - 3s 8ms/step - loss: 0.3058 - sparse_categorical_accuracy: 0.8843 - val_loss: 0.2882 - val_sparse_categorical_accuracy: 0.8962\n",
            "Epoch 36/100\n",
            "375/375 [==============================] - 3s 7ms/step - loss: 0.3056 - sparse_categorical_accuracy: 0.8838 - val_loss: 0.2891 - val_sparse_categorical_accuracy: 0.8942\n",
            "Epoch 37/100\n",
            "375/375 [==============================] - 3s 7ms/step - loss: 0.3049 - sparse_categorical_accuracy: 0.8843 - val_loss: 0.2879 - val_sparse_categorical_accuracy: 0.8953\n",
            "Epoch 38/100\n",
            "375/375 [==============================] - 3s 7ms/step - loss: 0.3026 - sparse_categorical_accuracy: 0.8851 - val_loss: 0.2869 - val_sparse_categorical_accuracy: 0.8977\n",
            "Epoch 39/100\n",
            "375/375 [==============================] - 3s 9ms/step - loss: 0.3013 - sparse_categorical_accuracy: 0.8849 - val_loss: 0.2912 - val_sparse_categorical_accuracy: 0.8970\n",
            "Epoch 40/100\n",
            "375/375 [==============================] - 3s 7ms/step - loss: 0.3019 - sparse_categorical_accuracy: 0.8859 - val_loss: 0.2795 - val_sparse_categorical_accuracy: 0.8992\n",
            "Epoch 41/100\n",
            "375/375 [==============================] - 3s 8ms/step - loss: 0.2959 - sparse_categorical_accuracy: 0.8882 - val_loss: 0.2837 - val_sparse_categorical_accuracy: 0.8959\n",
            "Epoch 42/100\n",
            "375/375 [==============================] - 3s 7ms/step - loss: 0.2964 - sparse_categorical_accuracy: 0.8881 - val_loss: 0.2867 - val_sparse_categorical_accuracy: 0.8948\n",
            "Epoch 43/100\n",
            "375/375 [==============================] - 3s 9ms/step - loss: 0.2983 - sparse_categorical_accuracy: 0.8874 - val_loss: 0.2906 - val_sparse_categorical_accuracy: 0.8943\n",
            "Epoch 44/100\n",
            "375/375 [==============================] - 3s 8ms/step - loss: 0.2977 - sparse_categorical_accuracy: 0.8870 - val_loss: 0.2982 - val_sparse_categorical_accuracy: 0.8930\n",
            "Epoch 45/100\n",
            "375/375 [==============================] - 3s 8ms/step - loss: 0.2943 - sparse_categorical_accuracy: 0.8885 - val_loss: 0.2866 - val_sparse_categorical_accuracy: 0.8973\n",
            "Epoch 46/100\n",
            "375/375 [==============================] - 3s 7ms/step - loss: 0.2936 - sparse_categorical_accuracy: 0.8878 - val_loss: 0.2899 - val_sparse_categorical_accuracy: 0.8963\n",
            "Epoch 47/100\n",
            "375/375 [==============================] - 4s 9ms/step - loss: 0.2911 - sparse_categorical_accuracy: 0.8901 - val_loss: 0.2884 - val_sparse_categorical_accuracy: 0.8988\n",
            "Epoch 48/100\n",
            "375/375 [==============================] - 3s 8ms/step - loss: 0.2872 - sparse_categorical_accuracy: 0.8912 - val_loss: 0.2953 - val_sparse_categorical_accuracy: 0.8933\n",
            "Epoch 49/100\n",
            "375/375 [==============================] - 3s 8ms/step - loss: 0.2870 - sparse_categorical_accuracy: 0.8907 - val_loss: 0.2876 - val_sparse_categorical_accuracy: 0.8970\n",
            "Epoch 50/100\n",
            "375/375 [==============================] - 3s 7ms/step - loss: 0.2922 - sparse_categorical_accuracy: 0.8904 - val_loss: 0.2793 - val_sparse_categorical_accuracy: 0.8997\n",
            "Epoch 51/100\n",
            "375/375 [==============================] - 3s 9ms/step - loss: 0.2910 - sparse_categorical_accuracy: 0.8904 - val_loss: 0.2841 - val_sparse_categorical_accuracy: 0.8981\n",
            "Epoch 52/100\n",
            "375/375 [==============================] - 3s 8ms/step - loss: 0.2842 - sparse_categorical_accuracy: 0.8922 - val_loss: 0.2921 - val_sparse_categorical_accuracy: 0.8947\n",
            "Epoch 53/100\n",
            "375/375 [==============================] - 3s 8ms/step - loss: 0.2859 - sparse_categorical_accuracy: 0.8907 - val_loss: 0.2779 - val_sparse_categorical_accuracy: 0.9013\n",
            "Epoch 54/100\n",
            "375/375 [==============================] - 3s 8ms/step - loss: 0.2873 - sparse_categorical_accuracy: 0.8906 - val_loss: 0.2858 - val_sparse_categorical_accuracy: 0.8975\n",
            "Epoch 55/100\n",
            "375/375 [==============================] - 3s 9ms/step - loss: 0.2821 - sparse_categorical_accuracy: 0.8922 - val_loss: 0.2841 - val_sparse_categorical_accuracy: 0.8995\n",
            "Epoch 56/100\n",
            "375/375 [==============================] - 3s 8ms/step - loss: 0.2820 - sparse_categorical_accuracy: 0.8940 - val_loss: 0.2826 - val_sparse_categorical_accuracy: 0.9022\n",
            "Epoch 57/100\n",
            "375/375 [==============================] - 3s 7ms/step - loss: 0.2770 - sparse_categorical_accuracy: 0.8940 - val_loss: 0.2840 - val_sparse_categorical_accuracy: 0.9008\n",
            "Epoch 58/100\n",
            "375/375 [==============================] - 3s 7ms/step - loss: 0.2804 - sparse_categorical_accuracy: 0.8937 - val_loss: 0.2882 - val_sparse_categorical_accuracy: 0.8988\n",
            "Epoch 59/100\n",
            "375/375 [==============================] - 3s 8ms/step - loss: 0.2804 - sparse_categorical_accuracy: 0.8946 - val_loss: 0.2855 - val_sparse_categorical_accuracy: 0.8983\n",
            "Epoch 60/100\n",
            "375/375 [==============================] - 3s 9ms/step - loss: 0.2860 - sparse_categorical_accuracy: 0.8926 - val_loss: 0.2757 - val_sparse_categorical_accuracy: 0.9022\n",
            "Epoch 61/100\n",
            "375/375 [==============================] - 3s 8ms/step - loss: 0.2805 - sparse_categorical_accuracy: 0.8914 - val_loss: 0.2882 - val_sparse_categorical_accuracy: 0.8972\n",
            "Epoch 62/100\n",
            "375/375 [==============================] - 3s 8ms/step - loss: 0.2818 - sparse_categorical_accuracy: 0.8929 - val_loss: 0.2813 - val_sparse_categorical_accuracy: 0.8978\n",
            "Epoch 63/100\n",
            "375/375 [==============================] - 3s 9ms/step - loss: 0.2762 - sparse_categorical_accuracy: 0.8953 - val_loss: 0.2898 - val_sparse_categorical_accuracy: 0.8995\n",
            "Epoch 64/100\n",
            "375/375 [==============================] - 3s 8ms/step - loss: 0.2790 - sparse_categorical_accuracy: 0.8937 - val_loss: 0.2840 - val_sparse_categorical_accuracy: 0.8981\n",
            "Epoch 65/100\n",
            "375/375 [==============================] - 3s 7ms/step - loss: 0.2796 - sparse_categorical_accuracy: 0.8926 - val_loss: 0.2812 - val_sparse_categorical_accuracy: 0.9002\n",
            "Epoch 66/100\n",
            "375/375 [==============================] - 3s 7ms/step - loss: 0.2741 - sparse_categorical_accuracy: 0.8949 - val_loss: 0.2875 - val_sparse_categorical_accuracy: 0.8999\n",
            "Epoch 67/100\n",
            "375/375 [==============================] - 3s 9ms/step - loss: 0.2744 - sparse_categorical_accuracy: 0.8947 - val_loss: 0.2850 - val_sparse_categorical_accuracy: 0.8990\n",
            "Epoch 68/100\n",
            "375/375 [==============================] - 3s 8ms/step - loss: 0.2748 - sparse_categorical_accuracy: 0.8952 - val_loss: 0.2896 - val_sparse_categorical_accuracy: 0.8987\n",
            "Epoch 69/100\n",
            "375/375 [==============================] - 3s 8ms/step - loss: 0.2720 - sparse_categorical_accuracy: 0.8966 - val_loss: 0.2976 - val_sparse_categorical_accuracy: 0.8944\n",
            "Epoch 70/100\n",
            "375/375 [==============================] - 3s 7ms/step - loss: 0.2749 - sparse_categorical_accuracy: 0.8964 - val_loss: 0.2872 - val_sparse_categorical_accuracy: 0.8972\n",
            "Epoch 71/100\n",
            "375/375 [==============================] - 3s 8ms/step - loss: 0.2770 - sparse_categorical_accuracy: 0.8957 - val_loss: 0.2788 - val_sparse_categorical_accuracy: 0.8995\n",
            "Epoch 72/100\n",
            "375/375 [==============================] - 3s 9ms/step - loss: 0.2715 - sparse_categorical_accuracy: 0.8951 - val_loss: 0.2902 - val_sparse_categorical_accuracy: 0.8978\n",
            "Epoch 73/100\n",
            "375/375 [==============================] - 3s 7ms/step - loss: 0.2725 - sparse_categorical_accuracy: 0.8954 - val_loss: 0.2823 - val_sparse_categorical_accuracy: 0.9009\n",
            "Epoch 74/100\n",
            "375/375 [==============================] - 3s 7ms/step - loss: 0.2701 - sparse_categorical_accuracy: 0.8971 - val_loss: 0.2894 - val_sparse_categorical_accuracy: 0.8965\n",
            "Epoch 75/100\n",
            "375/375 [==============================] - 3s 8ms/step - loss: 0.2673 - sparse_categorical_accuracy: 0.8988 - val_loss: 0.2978 - val_sparse_categorical_accuracy: 0.8981\n",
            "Epoch 76/100\n",
            "375/375 [==============================] - 3s 8ms/step - loss: 0.2728 - sparse_categorical_accuracy: 0.8970 - val_loss: 0.2849 - val_sparse_categorical_accuracy: 0.8982\n",
            "Epoch 77/100\n",
            "375/375 [==============================] - 3s 7ms/step - loss: 0.2685 - sparse_categorical_accuracy: 0.8977 - val_loss: 0.2910 - val_sparse_categorical_accuracy: 0.8972\n",
            "Epoch 78/100\n",
            "375/375 [==============================] - 3s 8ms/step - loss: 0.2647 - sparse_categorical_accuracy: 0.8991 - val_loss: 0.2917 - val_sparse_categorical_accuracy: 0.8977\n",
            "Epoch 79/100\n",
            "375/375 [==============================] - 3s 8ms/step - loss: 0.2692 - sparse_categorical_accuracy: 0.8966 - val_loss: 0.2851 - val_sparse_categorical_accuracy: 0.9012\n",
            "Epoch 80/100\n",
            "375/375 [==============================] - 3s 9ms/step - loss: 0.2636 - sparse_categorical_accuracy: 0.8989 - val_loss: 0.2813 - val_sparse_categorical_accuracy: 0.9000\n",
            "Epoch 81/100\n",
            "375/375 [==============================] - 3s 8ms/step - loss: 0.2714 - sparse_categorical_accuracy: 0.8972 - val_loss: 0.2872 - val_sparse_categorical_accuracy: 0.9003\n",
            "Epoch 82/100\n",
            "375/375 [==============================] - 3s 8ms/step - loss: 0.2656 - sparse_categorical_accuracy: 0.8981 - val_loss: 0.2862 - val_sparse_categorical_accuracy: 0.8981\n",
            "Epoch 83/100\n",
            "375/375 [==============================] - 3s 8ms/step - loss: 0.2686 - sparse_categorical_accuracy: 0.8998 - val_loss: 0.2760 - val_sparse_categorical_accuracy: 0.9030\n",
            "Epoch 84/100\n",
            "375/375 [==============================] - 4s 10ms/step - loss: 0.2644 - sparse_categorical_accuracy: 0.8996 - val_loss: 0.2807 - val_sparse_categorical_accuracy: 0.9002\n",
            "Epoch 85/100\n",
            "375/375 [==============================] - 3s 8ms/step - loss: 0.2680 - sparse_categorical_accuracy: 0.8989 - val_loss: 0.2840 - val_sparse_categorical_accuracy: 0.8997\n",
            "Epoch 86/100\n",
            "375/375 [==============================] - 3s 8ms/step - loss: 0.2652 - sparse_categorical_accuracy: 0.8993 - val_loss: 0.2879 - val_sparse_categorical_accuracy: 0.9001\n",
            "Epoch 87/100\n",
            "375/375 [==============================] - 3s 8ms/step - loss: 0.2616 - sparse_categorical_accuracy: 0.8994 - val_loss: 0.2827 - val_sparse_categorical_accuracy: 0.9020\n",
            "Epoch 88/100\n",
            "375/375 [==============================] - 4s 9ms/step - loss: 0.2628 - sparse_categorical_accuracy: 0.9007 - val_loss: 0.2857 - val_sparse_categorical_accuracy: 0.8982\n",
            "Epoch 89/100\n",
            "375/375 [==============================] - 3s 8ms/step - loss: 0.2615 - sparse_categorical_accuracy: 0.9014 - val_loss: 0.2866 - val_sparse_categorical_accuracy: 0.9010\n",
            "Epoch 90/100\n",
            "375/375 [==============================] - 3s 8ms/step - loss: 0.2666 - sparse_categorical_accuracy: 0.8991 - val_loss: 0.2793 - val_sparse_categorical_accuracy: 0.9029\n",
            "Epoch 91/100\n",
            "375/375 [==============================] - 3s 8ms/step - loss: 0.2625 - sparse_categorical_accuracy: 0.8997 - val_loss: 0.2888 - val_sparse_categorical_accuracy: 0.8970\n",
            "Epoch 92/100\n",
            "375/375 [==============================] - 4s 10ms/step - loss: 0.2633 - sparse_categorical_accuracy: 0.8989 - val_loss: 0.2810 - val_sparse_categorical_accuracy: 0.8995\n",
            "Epoch 93/100\n",
            "375/375 [==============================] - 3s 7ms/step - loss: 0.2608 - sparse_categorical_accuracy: 0.9010 - val_loss: 0.2828 - val_sparse_categorical_accuracy: 0.8992\n",
            "Epoch 94/100\n",
            "375/375 [==============================] - 3s 8ms/step - loss: 0.2598 - sparse_categorical_accuracy: 0.8999 - val_loss: 0.2829 - val_sparse_categorical_accuracy: 0.9004\n",
            "Epoch 95/100\n",
            "375/375 [==============================] - 3s 8ms/step - loss: 0.2597 - sparse_categorical_accuracy: 0.9007 - val_loss: 0.2822 - val_sparse_categorical_accuracy: 0.9025\n",
            "Epoch 96/100\n",
            "375/375 [==============================] - 3s 9ms/step - loss: 0.2601 - sparse_categorical_accuracy: 0.9006 - val_loss: 0.2827 - val_sparse_categorical_accuracy: 0.9013\n",
            "Epoch 97/100\n",
            "375/375 [==============================] - 3s 8ms/step - loss: 0.2623 - sparse_categorical_accuracy: 0.9003 - val_loss: 0.2888 - val_sparse_categorical_accuracy: 0.8996\n",
            "Epoch 98/100\n",
            "375/375 [==============================] - 3s 8ms/step - loss: 0.2547 - sparse_categorical_accuracy: 0.9012 - val_loss: 0.2774 - val_sparse_categorical_accuracy: 0.9013\n",
            "Epoch 99/100\n",
            "375/375 [==============================] - 3s 8ms/step - loss: 0.2621 - sparse_categorical_accuracy: 0.8983 - val_loss: 0.2805 - val_sparse_categorical_accuracy: 0.8980\n",
            "Epoch 100/100\n",
            "375/375 [==============================] - 3s 9ms/step - loss: 0.2574 - sparse_categorical_accuracy: 0.9018 - val_loss: 0.2834 - val_sparse_categorical_accuracy: 0.9001\n",
            "313/313 [==============================] - 1s 3ms/step - loss: 0.3031 - sparse_categorical_accuracy: 0.8962\n",
            "\n",
            "Test accuracy: 0.8962000012397766\n"
          ]
        }
      ]
    },
    {
      "cell_type": "code",
      "source": [
        "print('\\nhistory dict:', list(history.history.keys()))"
      ],
      "metadata": {
        "id": "CxRE-B_Q6Sii",
        "colab": {
          "base_uri": "https://localhost:8080/"
        },
        "outputId": "fd775bea-e95d-4056-9ac3-ada83816ec75"
      },
      "execution_count": 12,
      "outputs": [
        {
          "output_type": "stream",
          "name": "stdout",
          "text": [
            "\n",
            "history dict: ['loss', 'sparse_categorical_accuracy', 'val_loss', 'val_sparse_categorical_accuracy']\n"
          ]
        }
      ]
    },
    {
      "cell_type": "code",
      "source": [
        "result = model.evaluate(x_test, y_test)\n",
        "print(result)"
      ],
      "metadata": {
        "id": "YXpwRRTvTBNg",
        "colab": {
          "base_uri": "https://localhost:8080/"
        },
        "outputId": "5fef8d84-54b9-4c7b-936b-2f8f2dfd7c65"
      },
      "execution_count": 13,
      "outputs": [
        {
          "output_type": "stream",
          "name": "stdout",
          "text": [
            "313/313 [==============================] - 1s 3ms/step - loss: 0.3031 - sparse_categorical_accuracy: 0.8962\n",
            "[0.3031199276447296, 0.8962000012397766]\n"
          ]
        }
      ]
    },
    {
      "cell_type": "code",
      "source": [
        "saved_model = load_model('best_model.h5')\n",
        "result = saved_model.evaluate(x_test, y_test)\n",
        "print(result)"
      ],
      "metadata": {
        "colab": {
          "base_uri": "https://localhost:8080/"
        },
        "id": "dpaZAW0vp1AZ",
        "outputId": "19124f11-3bda-4cc9-b0d6-18ce9a5dc368"
      },
      "execution_count": 14,
      "outputs": [
        {
          "output_type": "stream",
          "name": "stdout",
          "text": [
            "313/313 [==============================] - 1s 3ms/step - loss: 0.3031 - sparse_categorical_accuracy: 0.8962\n",
            "[0.3031199276447296, 0.8962000012397766]\n"
          ]
        }
      ]
    },
    {
      "cell_type": "code",
      "source": [
        "# from keras.models import load_model\n",
        "# saved_model = load_model('best_model.h5')\n",
        "# # _, train_acc = saved_model.evaluate(x_train, y_train, verbose=0)\n",
        "# _, test_acc = saved_model.evaluate(x_test, y_test, verbose=0)\n",
        "# print('Test: %.3f' % (test_acc))"
      ],
      "metadata": {
        "id": "DR_MS9DABo_K"
      },
      "execution_count": 15,
      "outputs": []
    },
    {
      "cell_type": "code",
      "source": [
        "history_dict = history.history\n",
        "loss_values = history_dict['loss']\n",
        "val_loss_values = history_dict['val_loss']\n",
        "\n",
        "epochs = range(1, len(history_dict['loss']) + 1)\n",
        "\n",
        "plt.figure(figsize=(10, 5))\n",
        "plt.plot(epochs, loss_values, 'bo', label='Training loss')\n",
        "plt.plot(epochs, val_loss_values, 'r', label='Validation loss')\n",
        "plt.title('Training and validation loss')\n",
        "plt.xlabel('Epochs')\n",
        "plt.ylabel('Loss')\n",
        "# plt.legend()\n",
        "plt.grid(True)\n",
        "plt.show()\n",
        "1\n",
        "plt.clf()\n",
        "plt.figure(figsize=(10, 5))\n",
        "val_acc_values = history_dict['sparse_categorical_accuracy']\n",
        "plt.plot(epochs, history_dict['sparse_categorical_accuracy'], 'bo', label='Training acc')\n",
        "plt.plot(epochs, history_dict['val_sparse_categorical_accuracy'], 'r', label='Validation acc')\n",
        "plt.ylim (0.88, 0.94)\n",
        "plt.title('Training and validation accuracy')\n",
        "plt.xlabel('Epochs')\n",
        "plt.ylabel('Accuracy')\n",
        "plt.legend()\n",
        "plt.grid(True)"
      ],
      "metadata": {
        "id": "2Ll_5sGlXKMH",
        "colab": {
          "base_uri": "https://localhost:8080/",
          "height": 975
        },
        "outputId": "124b9252-e636-46c0-d7dd-3bf1cff40cf0"
      },
      "execution_count": 16,
      "outputs": [
        {
          "output_type": "display_data",
          "data": {
            "text/plain": [
              "<Figure size 1000x500 with 1 Axes>"
            ],
            "image/png": "[encoded data removed]"
          },
          "metadata": {}
        },
        {
          "output_type": "display_data",
          "data": {
            "text/plain": [
              "<Figure size 640x480 with 0 Axes>"
            ]
          },
          "metadata": {}
        },
        {
          "output_type": "display_data",
          "data": {
            "text/plain": [
              "<Figure size 1000x500 with 1 Axes>"
            ],
            "image/png": "[encoded data removed]"
          },
          "metadata": {}
        }
      ]
    },
    {
      "cell_type": "code",
      "source": [
        "probability_model = tf.keras.Sequential([model,\n",
        "                                         tf.keras.layers.Softmax()])"
      ],
      "metadata": {
        "id": "VzOdKAT_uV-f"
      },
      "execution_count": 17,
      "outputs": []
    },
    {
      "cell_type": "code",
      "source": [
        "predictions = probability_model.predict(x_test)"
      ],
      "metadata": {
        "id": "f4is3NFruYom",
        "colab": {
          "base_uri": "https://localhost:8080/"
        },
        "outputId": "213fa007-b431-46e0-b9e6-ea2fdd41bddd"
      },
      "execution_count": 18,
      "outputs": [
        {
          "output_type": "stream",
          "name": "stdout",
          "text": [
            "313/313 [==============================] - 1s 2ms/step\n"
          ]
        }
      ]
    },
    {
      "cell_type": "code",
      "source": [
        "predictions[0]"
      ],
      "metadata": {
        "id": "82cigvlZudz_",
        "colab": {
          "base_uri": "https://localhost:8080/"
        },
        "outputId": "2fe9e3d9-d44e-49c7-ca9d-cc371939fd5c"
      },
      "execution_count": 19,
      "outputs": [
        {
          "output_type": "execute_result",
          "data": {
            "text/plain": [
              "array([0.0853432 , 0.0853432 , 0.0853432 , 0.0853432 , 0.0853432 ,\n",
              "       0.08534711, 0.0853432 , 0.0853833 , 0.0853432 , 0.23186721],\n",
              "      dtype=float32)"
            ]
          },
          "metadata": {},
          "execution_count": 19
        }
      ]
    },
    {
      "cell_type": "code",
      "source": [
        "model.summary()"
      ],
      "metadata": {
        "id": "6RsQPHyYuNGe",
        "colab": {
          "base_uri": "https://localhost:8080/"
        },
        "outputId": "cdcd7cf4-16a0-4ac7-c40c-26f22f5a057c"
      },
      "execution_count": 20,
      "outputs": [
        {
          "output_type": "stream",
          "name": "stdout",
          "text": [
            "Model: \"sequential\"\n",
            "_________________________________________________________________\n",
            " Layer (type)                Output Shape              Param #   \n",
            "=================================================================\n",
            " flatten (Flatten)           (None, 784)               0         \n",
            "                                                                 \n",
            " dropout (Dropout)           (None, 784)               0         \n",
            "                                                                 \n",
            " batch_normalization (Batch  (None, 784)               3136      \n",
            " Normalization)                                                  \n",
            "                                                                 \n",
            " dense (Dense)               (None, 256)               200960    \n",
            "                                                                 \n",
            " dropout_1 (Dropout)         (None, 256)               0         \n",
            "                                                                 \n",
            " batch_normalization_1 (Bat  (None, 256)               1024      \n",
            " chNormalization)                                                \n",
            "                                                                 \n",
            " dense_1 (Dense)             (None, 512)               131584    \n",
            "                                                                 \n",
            " dropout_2 (Dropout)         (None, 512)               0         \n",
            "                                                                 \n",
            " batch_normalization_2 (Bat  (None, 512)               2048      \n",
            " chNormalization)                                                \n",
            "                                                                 \n",
            " dense_2 (Dense)             (None, 512)               262656    \n",
            "                                                                 \n",
            " dropout_3 (Dropout)         (None, 512)               0         \n",
            "                                                                 \n",
            " dense_3 (Dense)             (None, 10)                5130      \n",
            "                                                                 \n",
            "=================================================================\n",
            "Total params: 606538 (2.31 MB)\n",
            "Trainable params: 603434 (2.30 MB)\n",
            "Non-trainable params: 3104 (12.12 KB)\n",
            "_________________________________________________________________\n"
          ]
        }
      ]
    }
  ]
}