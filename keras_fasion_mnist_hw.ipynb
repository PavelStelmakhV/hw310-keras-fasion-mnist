{
  "nbformat": 4,
  "nbformat_minor": 0,
  "metadata": {
    "colab": {
      "provenance": [],
      "gpuType": "T4",
      "authorship_tag": "ABX9TyMbIFCU48ZyMBE5MjhQLbMl",
      "include_colab_link": true
    },
    "kernelspec": {
      "name": "python3",
      "display_name": "Python 3"
    },
    "language_info": {
      "name": "python"
    },
    "accelerator": "GPU"
  },
  "cells": [
    {
      "cell_type": "markdown",
      "metadata": {
        "id": "view-in-github",
        "colab_type": "text"
      },
      "source": [
        "<a href=\"https://colab.research.google.com/github/PavelStelmakhV/hw310-keras-fasion-mnist/blob/main/keras_fasion_mnist_hw.ipynb\" target=\"_parent\"><img src=\"https://colab.research.google.com/assets/colab-badge.svg\" alt=\"Open In Colab\"/></a>"
      ]
    },
    {
      "cell_type": "code",
      "execution_count": 1,
      "metadata": {
        "id": "vv7w0bgAVQPO"
      },
      "outputs": [],
      "source": [
        "import tensorflow as tf\n",
        "import numpy as np\n",
        "import matplotlib.pyplot as plt\n",
        "import tf_keras\n",
        "\n",
        "from keras import layers\n",
        "from keras import regularizers\n",
        "from keras import callbacks\n",
        "from keras import initializers\n",
        "from keras.layers import BatchNormalization\n",
        "from keras.models import load_model"
      ]
    },
    {
      "cell_type": "code",
      "source": [
        "fashion_mnist = tf.keras.datasets.fashion_mnist\n",
        "\n",
        "(x_train, y_train), (x_test, y_test) = fashion_mnist.load_data()"
      ],
      "metadata": {
        "id": "mOpywsNAzfGB",
        "outputId": "4a8e1a02-92f4-4a62-ffad-8a2a95929801",
        "colab": {
          "base_uri": "https://localhost:8080/"
        }
      },
      "execution_count": 2,
      "outputs": [
        {
          "output_type": "stream",
          "name": "stdout",
          "text": [
            "Downloading data from https://storage.googleapis.com/tensorflow/tf-keras-datasets/train-labels-idx1-ubyte.gz\n",
            "29515/29515 [==============================] - 0s 0us/step\n",
            "Downloading data from https://storage.googleapis.com/tensorflow/tf-keras-datasets/train-images-idx3-ubyte.gz\n",
            "26421880/26421880 [==============================] - 0s 0us/step\n",
            "Downloading data from https://storage.googleapis.com/tensorflow/tf-keras-datasets/t10k-labels-idx1-ubyte.gz\n",
            "5148/5148 [==============================] - 0s 0us/step\n",
            "Downloading data from https://storage.googleapis.com/tensorflow/tf-keras-datasets/t10k-images-idx3-ubyte.gz\n",
            "4422102/4422102 [==============================] - 0s 0us/step\n"
          ]
        }
      ]
    },
    {
      "cell_type": "code",
      "source": [
        "x_train = x_train.astype('float32') / 255\n",
        "x_test = x_test.astype('float32') / 255\n",
        "\n",
        "y_train = y_train.astype('float32')\n",
        "y_test = y_test.astype('float32')"
      ],
      "metadata": {
        "id": "t2gucjsJ0KUi"
      },
      "execution_count": 3,
      "outputs": []
    },
    {
      "cell_type": "code",
      "source": [
        "w_init_tanh = initializers.glorot_normal(seed=66)\n",
        "w_init_relu = initializers.HeNormal(seed=66)\n",
        "b_init = initializers.Zeros()"
      ],
      "metadata": {
        "id": "yL9QTEtBGy4N"
      },
      "execution_count": 4,
      "outputs": []
    },
    {
      "cell_type": "code",
      "source": [
        "drop_out = 0.25"
      ],
      "metadata": {
        "id": "flsDcVTnU10J"
      },
      "execution_count": 5,
      "outputs": []
    },
    {
      "cell_type": "code",
      "source": [
        "def layer_relu(model, neurons):\n",
        "  model.add(BatchNormalization())\n",
        "  model.add(layers.Dense(neurons,\n",
        "                       activation='relu',\n",
        "                       kernel_initializer=w_init_relu,\n",
        "                       bias_initializer=b_init))\n",
        "  model.add(layers.Dropout(drop_out))\n",
        "  return model"
      ],
      "metadata": {
        "id": "ZZgs_25rKBCp"
      },
      "execution_count": 6,
      "outputs": []
    },
    {
      "cell_type": "code",
      "source": [
        "def layer_tanh(model, neurons):\n",
        "  model.add(BatchNormalization())\n",
        "  model.add(layers.Dense(neurons,\n",
        "                        activation='tanh',\n",
        "                        kernel_initializer=w_init_tanh,\n",
        "                        bias_initializer=b_init))\n",
        "  model.add(layers.Dropout(drop_out))\n",
        "  return model"
      ],
      "metadata": {
        "id": "90JLLnkBR50t"
      },
      "execution_count": 7,
      "outputs": []
    },
    {
      "cell_type": "code",
      "source": [],
      "metadata": {
        "id": "Va9BaQ9eG_uz"
      },
      "execution_count": 7,
      "outputs": []
    },
    {
      "cell_type": "code",
      "source": [
        "model = tf.keras.Sequential()\n",
        "\n",
        "# drop_out = 0.50\n",
        "neurons = 256\n",
        "\n",
        "model.add(layers.Flatten(input_shape=(28, 28)))\n",
        "model.add(layers.Dropout(drop_out))\n",
        "\n",
        "model = layer_relu(model, neurons*1)\n",
        "# model = layer_tanh(model, neurons*1)\n",
        "model = layer_tanh(model, neurons*2)\n",
        "model = layer_relu(model, neurons*2)\n",
        "\n",
        "model.add(layers.Dense(10, activation='softmax'))"
      ],
      "metadata": {
        "id": "atS39i4d0aqW"
      },
      "execution_count": 8,
      "outputs": []
    },
    {
      "cell_type": "markdown",
      "source": [
        "++++++++++++++++++++++++++++++++++++++++++++++++++++++++++++++++++++++++++++++++"
      ],
      "metadata": {
        "id": "tZO7hl7pM63y"
      }
    },
    {
      "cell_type": "code",
      "source": [
        "# learning_rate=0.0004\n",
        "# beta_1=0.95,\n",
        "# beta_2=0.999,\n",
        "# epsilon=1e-07\n",
        "optimizer = tf.keras.optimizers.Nadam(learning_rate=0.00025,\n",
        "                                      beta_1=0.92,\n",
        "                                      beta_2=0.999,\n",
        "                                      epsilon=1e-04\n",
        ")"
      ],
      "metadata": {
        "id": "EzfnaqIZlfy8"
      },
      "execution_count": 9,
      "outputs": []
    },
    {
      "cell_type": "markdown",
      "source": [
        "++++++++++++++++++++++++++++++++++++++++++++++++++++++++++++++++++++++++++++++++"
      ],
      "metadata": {
        "id": "KHmBptvOM95Z"
      }
    },
    {
      "cell_type": "code",
      "source": [
        "model.compile(#optimizer='adam',\n",
        "              # optimizer='adamax',\n",
        "              optimizer=optimizer,\n",
        "              # optimizer='rmsprop',\n",
        "              # optimizer='sgd',\n",
        "              # optimizer='adadelta',\n",
        "              # loss='binary_crossentropy',\n",
        "              loss=tf.keras.losses.SparseCategoricalCrossentropy(),\n",
        "              metrics=['sparse_categorical_accuracy']) # sparse_categorical_accuracy"
      ],
      "metadata": {
        "id": "hENVaAC7ilNY"
      },
      "execution_count": 10,
      "outputs": []
    },
    {
      "cell_type": "code",
      "source": [
        "x = np.random.random((1, 28, 28))\n",
        "a = model.predict(x)\n",
        "_ = plt.hist(np.transpose(a))"
      ],
      "metadata": {
        "id": "RFgZHNNFMa8p",
        "outputId": "b1c59bdf-e17b-494b-b591-4da35a6ba91e",
        "colab": {
          "base_uri": "https://localhost:8080/",
          "height": 448
        }
      },
      "execution_count": 11,
      "outputs": [
        {
          "output_type": "stream",
          "name": "stdout",
          "text": [
            "1/1 [==============================] - 0s 195ms/step\n"
          ]
        },
        {
          "output_type": "display_data",
          "data": {
            "text/plain": [
              "<Figure size 640x480 with 1 Axes>"
            ],
            "image/png": "[encoded data removed]"
          },
          "metadata": {}
        }
      ]
    },
    {
      "cell_type": "code",
      "source": [
        "y_pred = model.predict(x_test)"
      ],
      "metadata": {
        "id": "UDP8OKKZ8oQa",
        "outputId": "84d3be95-7579-46fd-8ded-1fc1211b5e8c",
        "colab": {
          "base_uri": "https://localhost:8080/"
        }
      },
      "execution_count": 12,
      "outputs": [
        {
          "output_type": "stream",
          "name": "stdout",
          "text": [
            "313/313 [==============================] - 3s 8ms/step\n"
          ]
        }
      ]
    },
    {
      "cell_type": "code",
      "source": [
        "callback = callbacks.EarlyStopping(monitor='val_loss',\n",
        "                                   patience=50,\n",
        "                                   restore_best_weights=True,\n",
        "                                   )\n",
        "es = callbacks.EarlyStopping(monitor='val_loss', mode='min', verbose=0, patience=40)\n",
        "mc = callbacks.ModelCheckpoint('best_model.h5', monitor='sparse_categorical_accuracy', mode='max', verbose=0, save_best_only=True)\n"
      ],
      "metadata": {
        "id": "5ihU4exVlsjm"
      },
      "execution_count": 13,
      "outputs": []
    },
    {
      "cell_type": "code",
      "source": [
        "history = model.fit(x_train, y_train,\n",
        "                    epochs=400,\n",
        "                    batch_size=128,\n",
        "                    # callbacks=[callback],\n",
        "                    callbacks=[mc],\n",
        "                    verbose=1, #многословие\n",
        "                    validation_split=0.1\n",
        "                    # validation_data=(x_val, y_val)\n",
        "                    )\n",
        "test_loss, test_acc = model.evaluate(x_test, y_test)\n",
        "print('\\nTest accuracy:', test_acc)"
      ],
      "metadata": {
        "id": "FH8HcMNm233I",
        "outputId": "69ee1d93-7fcb-46de-a6ca-10019b8d7d90",
        "colab": {
          "base_uri": "https://localhost:8080/"
        }
      },
      "execution_count": 14,
      "outputs": [
        {
          "output_type": "stream",
          "name": "stdout",
          "text": [
            "Epoch 1/300\n",
            "422/422 [==============================] - 22s 36ms/step - loss: 1.0323 - sparse_categorical_accuracy: 0.6425 - val_loss: 0.5265 - val_sparse_categorical_accuracy: 0.8057\n",
            "Epoch 2/300\n",
            "  3/422 [..............................] - ETA: 13s - loss: 0.7427 - sparse_categorical_accuracy: 0.7214"
          ]
        },
        {
          "output_type": "stream",
          "name": "stderr",
          "text": [
            "/usr/local/lib/python3.10/dist-packages/keras/src/engine/training.py:3103: UserWarning: You are saving your model as an HDF5 file via `model.save()`. This file format is considered legacy. We recommend using instead the native Keras format, e.g. `model.save('my_model.keras')`.\n",
            "  saving_api.save_model(\n"
          ]
        },
        {
          "output_type": "stream",
          "name": "stdout",
          "text": [
            "422/422 [==============================] - 10s 22ms/step - loss: 0.6960 - sparse_categorical_accuracy: 0.7513 - val_loss: 0.4777 - val_sparse_categorical_accuracy: 0.8260\n",
            "Epoch 3/300\n",
            "422/422 [==============================] - 10s 24ms/step - loss: 0.6197 - sparse_categorical_accuracy: 0.7776 - val_loss: 0.4319 - val_sparse_categorical_accuracy: 0.8380\n",
            "Epoch 4/300\n",
            "422/422 [==============================] - 10s 24ms/step - loss: 0.5803 - sparse_categorical_accuracy: 0.7887 - val_loss: 0.4158 - val_sparse_categorical_accuracy: 0.8435\n",
            "Epoch 5/300\n",
            "422/422 [==============================] - 10s 24ms/step - loss: 0.5459 - sparse_categorical_accuracy: 0.8011 - val_loss: 0.4045 - val_sparse_categorical_accuracy: 0.8505\n",
            "Epoch 6/300\n",
            "422/422 [==============================] - 11s 25ms/step - loss: 0.5233 - sparse_categorical_accuracy: 0.8072 - val_loss: 0.3963 - val_sparse_categorical_accuracy: 0.8563\n",
            "Epoch 7/300\n",
            "422/422 [==============================] - 10s 23ms/step - loss: 0.5044 - sparse_categorical_accuracy: 0.8135 - val_loss: 0.3850 - val_sparse_categorical_accuracy: 0.8588\n",
            "Epoch 8/300\n",
            "422/422 [==============================] - 10s 25ms/step - loss: 0.4830 - sparse_categorical_accuracy: 0.8220 - val_loss: 0.3782 - val_sparse_categorical_accuracy: 0.8620\n",
            "Epoch 9/300\n",
            "422/422 [==============================] - 10s 24ms/step - loss: 0.4772 - sparse_categorical_accuracy: 0.8244 - val_loss: 0.3705 - val_sparse_categorical_accuracy: 0.8625\n",
            "Epoch 10/300\n",
            "422/422 [==============================] - 11s 26ms/step - loss: 0.4606 - sparse_categorical_accuracy: 0.8304 - val_loss: 0.3599 - val_sparse_categorical_accuracy: 0.8692\n",
            "Epoch 11/300\n",
            "422/422 [==============================] - 11s 25ms/step - loss: 0.4479 - sparse_categorical_accuracy: 0.8329 - val_loss: 0.3663 - val_sparse_categorical_accuracy: 0.8658\n",
            "Epoch 12/300\n",
            "422/422 [==============================] - 10s 25ms/step - loss: 0.4390 - sparse_categorical_accuracy: 0.8373 - val_loss: 0.3492 - val_sparse_categorical_accuracy: 0.8713\n",
            "Epoch 13/300\n",
            "422/422 [==============================] - 9s 22ms/step - loss: 0.4309 - sparse_categorical_accuracy: 0.8399 - val_loss: 0.3497 - val_sparse_categorical_accuracy: 0.8725\n",
            "Epoch 14/300\n",
            "422/422 [==============================] - 10s 24ms/step - loss: 0.4253 - sparse_categorical_accuracy: 0.8419 - val_loss: 0.3484 - val_sparse_categorical_accuracy: 0.8727\n",
            "Epoch 15/300\n",
            "422/422 [==============================] - 10s 24ms/step - loss: 0.4202 - sparse_categorical_accuracy: 0.8436 - val_loss: 0.3391 - val_sparse_categorical_accuracy: 0.8760\n",
            "Epoch 16/300\n",
            "422/422 [==============================] - 10s 25ms/step - loss: 0.4140 - sparse_categorical_accuracy: 0.8450 - val_loss: 0.3361 - val_sparse_categorical_accuracy: 0.8770\n",
            "Epoch 17/300\n",
            "422/422 [==============================] - 10s 24ms/step - loss: 0.4036 - sparse_categorical_accuracy: 0.8502 - val_loss: 0.3361 - val_sparse_categorical_accuracy: 0.8768\n",
            "Epoch 18/300\n",
            "422/422 [==============================] - 9s 22ms/step - loss: 0.3981 - sparse_categorical_accuracy: 0.8524 - val_loss: 0.3313 - val_sparse_categorical_accuracy: 0.8787\n",
            "Epoch 19/300\n",
            "422/422 [==============================] - 10s 24ms/step - loss: 0.3957 - sparse_categorical_accuracy: 0.8509 - val_loss: 0.3366 - val_sparse_categorical_accuracy: 0.8780\n",
            "Epoch 20/300\n",
            "422/422 [==============================] - 10s 24ms/step - loss: 0.3909 - sparse_categorical_accuracy: 0.8540 - val_loss: 0.3315 - val_sparse_categorical_accuracy: 0.8773\n",
            "Epoch 21/300\n",
            "422/422 [==============================] - 10s 24ms/step - loss: 0.3877 - sparse_categorical_accuracy: 0.8561 - val_loss: 0.3287 - val_sparse_categorical_accuracy: 0.8797\n",
            "Epoch 22/300\n",
            "422/422 [==============================] - 10s 24ms/step - loss: 0.3804 - sparse_categorical_accuracy: 0.8580 - val_loss: 0.3312 - val_sparse_categorical_accuracy: 0.8792\n",
            "Epoch 23/300\n",
            "422/422 [==============================] - 9s 22ms/step - loss: 0.3787 - sparse_categorical_accuracy: 0.8582 - val_loss: 0.3203 - val_sparse_categorical_accuracy: 0.8828\n",
            "Epoch 24/300\n",
            "422/422 [==============================] - 10s 25ms/step - loss: 0.3779 - sparse_categorical_accuracy: 0.8579 - val_loss: 0.3188 - val_sparse_categorical_accuracy: 0.8827\n",
            "Epoch 25/300\n",
            "422/422 [==============================] - 10s 24ms/step - loss: 0.3715 - sparse_categorical_accuracy: 0.8625 - val_loss: 0.3164 - val_sparse_categorical_accuracy: 0.8837\n",
            "Epoch 26/300\n",
            "422/422 [==============================] - 10s 25ms/step - loss: 0.3668 - sparse_categorical_accuracy: 0.8629 - val_loss: 0.3202 - val_sparse_categorical_accuracy: 0.8828\n",
            "Epoch 27/300\n",
            "422/422 [==============================] - 10s 25ms/step - loss: 0.3628 - sparse_categorical_accuracy: 0.8637 - val_loss: 0.3224 - val_sparse_categorical_accuracy: 0.8812\n",
            "Epoch 28/300\n",
            "422/422 [==============================] - 10s 23ms/step - loss: 0.3614 - sparse_categorical_accuracy: 0.8649 - val_loss: 0.3149 - val_sparse_categorical_accuracy: 0.8830\n",
            "Epoch 29/300\n",
            "422/422 [==============================] - 10s 24ms/step - loss: 0.3572 - sparse_categorical_accuracy: 0.8661 - val_loss: 0.3139 - val_sparse_categorical_accuracy: 0.8842\n",
            "Epoch 30/300\n",
            "422/422 [==============================] - 10s 24ms/step - loss: 0.3544 - sparse_categorical_accuracy: 0.8665 - val_loss: 0.3135 - val_sparse_categorical_accuracy: 0.8865\n",
            "Epoch 31/300\n",
            "422/422 [==============================] - 10s 24ms/step - loss: 0.3537 - sparse_categorical_accuracy: 0.8674 - val_loss: 0.3149 - val_sparse_categorical_accuracy: 0.8845\n",
            "Epoch 32/300\n",
            "422/422 [==============================] - 10s 24ms/step - loss: 0.3487 - sparse_categorical_accuracy: 0.8682 - val_loss: 0.3122 - val_sparse_categorical_accuracy: 0.8863\n",
            "Epoch 33/300\n",
            "422/422 [==============================] - 10s 23ms/step - loss: 0.3460 - sparse_categorical_accuracy: 0.8707 - val_loss: 0.3050 - val_sparse_categorical_accuracy: 0.8863\n",
            "Epoch 34/300\n",
            "422/422 [==============================] - 10s 23ms/step - loss: 0.3475 - sparse_categorical_accuracy: 0.8696 - val_loss: 0.3070 - val_sparse_categorical_accuracy: 0.8880\n",
            "Epoch 35/300\n",
            "422/422 [==============================] - 10s 24ms/step - loss: 0.3453 - sparse_categorical_accuracy: 0.8702 - val_loss: 0.3086 - val_sparse_categorical_accuracy: 0.8863\n",
            "Epoch 36/300\n",
            "422/422 [==============================] - 10s 25ms/step - loss: 0.3392 - sparse_categorical_accuracy: 0.8728 - val_loss: 0.3066 - val_sparse_categorical_accuracy: 0.8870\n",
            "Epoch 37/300\n",
            "422/422 [==============================] - 10s 24ms/step - loss: 0.3399 - sparse_categorical_accuracy: 0.8723 - val_loss: 0.3059 - val_sparse_categorical_accuracy: 0.8882\n",
            "Epoch 38/300\n",
            "422/422 [==============================] - 10s 24ms/step - loss: 0.3375 - sparse_categorical_accuracy: 0.8714 - val_loss: 0.2999 - val_sparse_categorical_accuracy: 0.8885\n",
            "Epoch 39/300\n",
            "422/422 [==============================] - 10s 23ms/step - loss: 0.3345 - sparse_categorical_accuracy: 0.8749 - val_loss: 0.2978 - val_sparse_categorical_accuracy: 0.8885\n",
            "Epoch 40/300\n",
            "422/422 [==============================] - 10s 24ms/step - loss: 0.3347 - sparse_categorical_accuracy: 0.8736 - val_loss: 0.2971 - val_sparse_categorical_accuracy: 0.8895\n",
            "Epoch 41/300\n",
            "422/422 [==============================] - 10s 24ms/step - loss: 0.3313 - sparse_categorical_accuracy: 0.8738 - val_loss: 0.2982 - val_sparse_categorical_accuracy: 0.8892\n",
            "Epoch 42/300\n",
            "422/422 [==============================] - 10s 24ms/step - loss: 0.3287 - sparse_categorical_accuracy: 0.8759 - val_loss: 0.3012 - val_sparse_categorical_accuracy: 0.8887\n",
            "Epoch 43/300\n",
            "422/422 [==============================] - 10s 24ms/step - loss: 0.3289 - sparse_categorical_accuracy: 0.8758 - val_loss: 0.2940 - val_sparse_categorical_accuracy: 0.8892\n",
            "Epoch 44/300\n",
            "422/422 [==============================] - 9s 22ms/step - loss: 0.3255 - sparse_categorical_accuracy: 0.8782 - val_loss: 0.2937 - val_sparse_categorical_accuracy: 0.8898\n",
            "Epoch 45/300\n",
            "422/422 [==============================] - 10s 24ms/step - loss: 0.3254 - sparse_categorical_accuracy: 0.8767 - val_loss: 0.2955 - val_sparse_categorical_accuracy: 0.8912\n",
            "Epoch 46/300\n",
            "422/422 [==============================] - 10s 24ms/step - loss: 0.3220 - sparse_categorical_accuracy: 0.8786 - val_loss: 0.2967 - val_sparse_categorical_accuracy: 0.8912\n",
            "Epoch 47/300\n",
            "422/422 [==============================] - 10s 24ms/step - loss: 0.3213 - sparse_categorical_accuracy: 0.8778 - val_loss: 0.2964 - val_sparse_categorical_accuracy: 0.8897\n",
            "Epoch 48/300\n",
            "422/422 [==============================] - 10s 24ms/step - loss: 0.3191 - sparse_categorical_accuracy: 0.8791 - val_loss: 0.2904 - val_sparse_categorical_accuracy: 0.8922\n",
            "Epoch 49/300\n",
            "422/422 [==============================] - 9s 22ms/step - loss: 0.3177 - sparse_categorical_accuracy: 0.8805 - val_loss: 0.2891 - val_sparse_categorical_accuracy: 0.8922\n",
            "Epoch 50/300\n",
            "422/422 [==============================] - 10s 24ms/step - loss: 0.3165 - sparse_categorical_accuracy: 0.8791 - val_loss: 0.2923 - val_sparse_categorical_accuracy: 0.8918\n",
            "Epoch 51/300\n",
            "422/422 [==============================] - 10s 25ms/step - loss: 0.3128 - sparse_categorical_accuracy: 0.8814 - val_loss: 0.2886 - val_sparse_categorical_accuracy: 0.8908\n",
            "Epoch 52/300\n",
            "422/422 [==============================] - 10s 24ms/step - loss: 0.3131 - sparse_categorical_accuracy: 0.8809 - val_loss: 0.2876 - val_sparse_categorical_accuracy: 0.8897\n",
            "Epoch 53/300\n",
            "422/422 [==============================] - 10s 24ms/step - loss: 0.3133 - sparse_categorical_accuracy: 0.8811 - val_loss: 0.2853 - val_sparse_categorical_accuracy: 0.8912\n",
            "Epoch 54/300\n",
            "422/422 [==============================] - 9s 22ms/step - loss: 0.3089 - sparse_categorical_accuracy: 0.8834 - val_loss: 0.2840 - val_sparse_categorical_accuracy: 0.8920\n",
            "Epoch 55/300\n",
            "422/422 [==============================] - 10s 24ms/step - loss: 0.3110 - sparse_categorical_accuracy: 0.8836 - val_loss: 0.2888 - val_sparse_categorical_accuracy: 0.8932\n",
            "Epoch 56/300\n",
            "422/422 [==============================] - 10s 24ms/step - loss: 0.3064 - sparse_categorical_accuracy: 0.8833 - val_loss: 0.2821 - val_sparse_categorical_accuracy: 0.8938\n",
            "Epoch 57/300\n",
            "422/422 [==============================] - 10s 25ms/step - loss: 0.3052 - sparse_categorical_accuracy: 0.8855 - val_loss: 0.2816 - val_sparse_categorical_accuracy: 0.8942\n",
            "Epoch 58/300\n",
            "422/422 [==============================] - 10s 24ms/step - loss: 0.3053 - sparse_categorical_accuracy: 0.8848 - val_loss: 0.2890 - val_sparse_categorical_accuracy: 0.8907\n",
            "Epoch 59/300\n",
            "422/422 [==============================] - 9s 22ms/step - loss: 0.3038 - sparse_categorical_accuracy: 0.8845 - val_loss: 0.2829 - val_sparse_categorical_accuracy: 0.8937\n",
            "Epoch 60/300\n",
            "422/422 [==============================] - 10s 25ms/step - loss: 0.3019 - sparse_categorical_accuracy: 0.8862 - val_loss: 0.2837 - val_sparse_categorical_accuracy: 0.8947\n",
            "Epoch 61/300\n",
            "422/422 [==============================] - 10s 24ms/step - loss: 0.3024 - sparse_categorical_accuracy: 0.8856 - val_loss: 0.2848 - val_sparse_categorical_accuracy: 0.8952\n",
            "Epoch 62/300\n",
            "422/422 [==============================] - 10s 24ms/step - loss: 0.3025 - sparse_categorical_accuracy: 0.8855 - val_loss: 0.2825 - val_sparse_categorical_accuracy: 0.8965\n",
            "Epoch 63/300\n",
            "422/422 [==============================] - 10s 24ms/step - loss: 0.2965 - sparse_categorical_accuracy: 0.8872 - val_loss: 0.2883 - val_sparse_categorical_accuracy: 0.8942\n",
            "Epoch 64/300\n",
            "422/422 [==============================] - 9s 22ms/step - loss: 0.2993 - sparse_categorical_accuracy: 0.8869 - val_loss: 0.2814 - val_sparse_categorical_accuracy: 0.8962\n",
            "Epoch 65/300\n",
            "422/422 [==============================] - 10s 24ms/step - loss: 0.2973 - sparse_categorical_accuracy: 0.8871 - val_loss: 0.2822 - val_sparse_categorical_accuracy: 0.8963\n",
            "Epoch 66/300\n",
            "422/422 [==============================] - 10s 24ms/step - loss: 0.2957 - sparse_categorical_accuracy: 0.8871 - val_loss: 0.2829 - val_sparse_categorical_accuracy: 0.8960\n",
            "Epoch 67/300\n",
            "422/422 [==============================] - 10s 24ms/step - loss: 0.2951 - sparse_categorical_accuracy: 0.8878 - val_loss: 0.2837 - val_sparse_categorical_accuracy: 0.8953\n",
            "Epoch 68/300\n",
            "422/422 [==============================] - 10s 24ms/step - loss: 0.2945 - sparse_categorical_accuracy: 0.8885 - val_loss: 0.2784 - val_sparse_categorical_accuracy: 0.8967\n",
            "Epoch 69/300\n",
            "422/422 [==============================] - 9s 22ms/step - loss: 0.2939 - sparse_categorical_accuracy: 0.8876 - val_loss: 0.2780 - val_sparse_categorical_accuracy: 0.8972\n",
            "Epoch 70/300\n",
            "422/422 [==============================] - 10s 25ms/step - loss: 0.2902 - sparse_categorical_accuracy: 0.8912 - val_loss: 0.2790 - val_sparse_categorical_accuracy: 0.8982\n",
            "Epoch 71/300\n",
            "422/422 [==============================] - 10s 25ms/step - loss: 0.2874 - sparse_categorical_accuracy: 0.8911 - val_loss: 0.2809 - val_sparse_categorical_accuracy: 0.8967\n",
            "Epoch 72/300\n",
            "422/422 [==============================] - 10s 24ms/step - loss: 0.2906 - sparse_categorical_accuracy: 0.8884 - val_loss: 0.2817 - val_sparse_categorical_accuracy: 0.8965\n",
            "Epoch 73/300\n",
            "422/422 [==============================] - 10s 24ms/step - loss: 0.2910 - sparse_categorical_accuracy: 0.8894 - val_loss: 0.2749 - val_sparse_categorical_accuracy: 0.8995\n",
            "Epoch 74/300\n",
            "422/422 [==============================] - 10s 24ms/step - loss: 0.2876 - sparse_categorical_accuracy: 0.8910 - val_loss: 0.2773 - val_sparse_categorical_accuracy: 0.8982\n",
            "Epoch 75/300\n",
            "422/422 [==============================] - 10s 24ms/step - loss: 0.2855 - sparse_categorical_accuracy: 0.8905 - val_loss: 0.2776 - val_sparse_categorical_accuracy: 0.8978\n",
            "Epoch 76/300\n",
            "422/422 [==============================] - 10s 25ms/step - loss: 0.2863 - sparse_categorical_accuracy: 0.8891 - val_loss: 0.2743 - val_sparse_categorical_accuracy: 0.8990\n",
            "Epoch 77/300\n",
            "422/422 [==============================] - 10s 25ms/step - loss: 0.2856 - sparse_categorical_accuracy: 0.8906 - val_loss: 0.2742 - val_sparse_categorical_accuracy: 0.8992\n",
            "Epoch 78/300\n",
            "422/422 [==============================] - 10s 25ms/step - loss: 0.2849 - sparse_categorical_accuracy: 0.8912 - val_loss: 0.2728 - val_sparse_categorical_accuracy: 0.8997\n",
            "Epoch 79/300\n",
            "422/422 [==============================] - 10s 25ms/step - loss: 0.2857 - sparse_categorical_accuracy: 0.8915 - val_loss: 0.2789 - val_sparse_categorical_accuracy: 0.8965\n",
            "Epoch 80/300\n",
            "422/422 [==============================] - 10s 23ms/step - loss: 0.2821 - sparse_categorical_accuracy: 0.8930 - val_loss: 0.2795 - val_sparse_categorical_accuracy: 0.8968\n",
            "Epoch 81/300\n",
            "422/422 [==============================] - 10s 25ms/step - loss: 0.2799 - sparse_categorical_accuracy: 0.8951 - val_loss: 0.2766 - val_sparse_categorical_accuracy: 0.8995\n",
            "Epoch 82/300\n",
            "422/422 [==============================] - 10s 25ms/step - loss: 0.2798 - sparse_categorical_accuracy: 0.8919 - val_loss: 0.2740 - val_sparse_categorical_accuracy: 0.8970\n",
            "Epoch 83/300\n",
            "422/422 [==============================] - 10s 25ms/step - loss: 0.2828 - sparse_categorical_accuracy: 0.8925 - val_loss: 0.2722 - val_sparse_categorical_accuracy: 0.9007\n",
            "Epoch 84/300\n",
            "422/422 [==============================] - 10s 25ms/step - loss: 0.2798 - sparse_categorical_accuracy: 0.8919 - val_loss: 0.2754 - val_sparse_categorical_accuracy: 0.8972\n",
            "Epoch 85/300\n",
            "422/422 [==============================] - 10s 23ms/step - loss: 0.2775 - sparse_categorical_accuracy: 0.8940 - val_loss: 0.2735 - val_sparse_categorical_accuracy: 0.8990\n",
            "Epoch 86/300\n",
            "422/422 [==============================] - 10s 23ms/step - loss: 0.2786 - sparse_categorical_accuracy: 0.8937 - val_loss: 0.2747 - val_sparse_categorical_accuracy: 0.9007\n",
            "Epoch 87/300\n",
            "422/422 [==============================] - 10s 24ms/step - loss: 0.2758 - sparse_categorical_accuracy: 0.8949 - val_loss: 0.2739 - val_sparse_categorical_accuracy: 0.8978\n",
            "Epoch 88/300\n",
            "422/422 [==============================] - 10s 25ms/step - loss: 0.2737 - sparse_categorical_accuracy: 0.8961 - val_loss: 0.2756 - val_sparse_categorical_accuracy: 0.8968\n",
            "Epoch 89/300\n",
            "422/422 [==============================] - 10s 25ms/step - loss: 0.2740 - sparse_categorical_accuracy: 0.8971 - val_loss: 0.2755 - val_sparse_categorical_accuracy: 0.8992\n",
            "Epoch 90/300\n",
            "422/422 [==============================] - 10s 23ms/step - loss: 0.2772 - sparse_categorical_accuracy: 0.8934 - val_loss: 0.2746 - val_sparse_categorical_accuracy: 0.8992\n",
            "Epoch 91/300\n",
            "422/422 [==============================] - 10s 23ms/step - loss: 0.2714 - sparse_categorical_accuracy: 0.8964 - val_loss: 0.2750 - val_sparse_categorical_accuracy: 0.8995\n",
            "Epoch 92/300\n",
            "422/422 [==============================] - 10s 24ms/step - loss: 0.2724 - sparse_categorical_accuracy: 0.8957 - val_loss: 0.2738 - val_sparse_categorical_accuracy: 0.8987\n",
            "Epoch 93/300\n",
            "422/422 [==============================] - 10s 24ms/step - loss: 0.2717 - sparse_categorical_accuracy: 0.8963 - val_loss: 0.2717 - val_sparse_categorical_accuracy: 0.8992\n",
            "Epoch 94/300\n",
            "422/422 [==============================] - 10s 24ms/step - loss: 0.2742 - sparse_categorical_accuracy: 0.8954 - val_loss: 0.2734 - val_sparse_categorical_accuracy: 0.8995\n",
            "Epoch 95/300\n",
            "422/422 [==============================] - 10s 23ms/step - loss: 0.2710 - sparse_categorical_accuracy: 0.8968 - val_loss: 0.2689 - val_sparse_categorical_accuracy: 0.8983\n",
            "Epoch 96/300\n",
            "422/422 [==============================] - 10s 23ms/step - loss: 0.2701 - sparse_categorical_accuracy: 0.8982 - val_loss: 0.2720 - val_sparse_categorical_accuracy: 0.8997\n",
            "Epoch 97/300\n",
            "422/422 [==============================] - 11s 25ms/step - loss: 0.2662 - sparse_categorical_accuracy: 0.8983 - val_loss: 0.2699 - val_sparse_categorical_accuracy: 0.9002\n",
            "Epoch 98/300\n",
            "422/422 [==============================] - 10s 25ms/step - loss: 0.2658 - sparse_categorical_accuracy: 0.8980 - val_loss: 0.2728 - val_sparse_categorical_accuracy: 0.8988\n",
            "Epoch 99/300\n",
            "422/422 [==============================] - 10s 25ms/step - loss: 0.2692 - sparse_categorical_accuracy: 0.8971 - val_loss: 0.2705 - val_sparse_categorical_accuracy: 0.9000\n",
            "Epoch 100/300\n",
            "422/422 [==============================] - 10s 25ms/step - loss: 0.2697 - sparse_categorical_accuracy: 0.8963 - val_loss: 0.2720 - val_sparse_categorical_accuracy: 0.8992\n",
            "Epoch 101/300\n",
            "422/422 [==============================] - 10s 22ms/step - loss: 0.2650 - sparse_categorical_accuracy: 0.8991 - val_loss: 0.2668 - val_sparse_categorical_accuracy: 0.9017\n",
            "Epoch 102/300\n",
            "422/422 [==============================] - 10s 25ms/step - loss: 0.2653 - sparse_categorical_accuracy: 0.8987 - val_loss: 0.2682 - val_sparse_categorical_accuracy: 0.9030\n",
            "Epoch 103/300\n",
            "422/422 [==============================] - 10s 24ms/step - loss: 0.2672 - sparse_categorical_accuracy: 0.8982 - val_loss: 0.2714 - val_sparse_categorical_accuracy: 0.9022\n",
            "Epoch 104/300\n",
            "422/422 [==============================] - 10s 24ms/step - loss: 0.2648 - sparse_categorical_accuracy: 0.9004 - val_loss: 0.2686 - val_sparse_categorical_accuracy: 0.9017\n",
            "Epoch 105/300\n",
            "422/422 [==============================] - 10s 24ms/step - loss: 0.2625 - sparse_categorical_accuracy: 0.8994 - val_loss: 0.2671 - val_sparse_categorical_accuracy: 0.9025\n",
            "Epoch 106/300\n",
            "422/422 [==============================] - 9s 22ms/step - loss: 0.2638 - sparse_categorical_accuracy: 0.8988 - val_loss: 0.2712 - val_sparse_categorical_accuracy: 0.9000\n",
            "Epoch 107/300\n",
            "422/422 [==============================] - 10s 24ms/step - loss: 0.2618 - sparse_categorical_accuracy: 0.9004 - val_loss: 0.2708 - val_sparse_categorical_accuracy: 0.8997\n",
            "Epoch 108/300\n",
            "422/422 [==============================] - 10s 24ms/step - loss: 0.2612 - sparse_categorical_accuracy: 0.9000 - val_loss: 0.2677 - val_sparse_categorical_accuracy: 0.9017\n",
            "Epoch 109/300\n",
            "422/422 [==============================] - 10s 25ms/step - loss: 0.2621 - sparse_categorical_accuracy: 0.8991 - val_loss: 0.2691 - val_sparse_categorical_accuracy: 0.9000\n",
            "Epoch 110/300\n",
            "422/422 [==============================] - 10s 24ms/step - loss: 0.2604 - sparse_categorical_accuracy: 0.9012 - val_loss: 0.2679 - val_sparse_categorical_accuracy: 0.9025\n",
            "Epoch 111/300\n",
            "422/422 [==============================] - 9s 22ms/step - loss: 0.2598 - sparse_categorical_accuracy: 0.9000 - val_loss: 0.2680 - val_sparse_categorical_accuracy: 0.9025\n",
            "Epoch 112/300\n",
            "422/422 [==============================] - 10s 24ms/step - loss: 0.2603 - sparse_categorical_accuracy: 0.8994 - val_loss: 0.2669 - val_sparse_categorical_accuracy: 0.9028\n",
            "Epoch 113/300\n",
            "422/422 [==============================] - 10s 24ms/step - loss: 0.2609 - sparse_categorical_accuracy: 0.9007 - val_loss: 0.2664 - val_sparse_categorical_accuracy: 0.9025\n",
            "Epoch 114/300\n",
            "422/422 [==============================] - 10s 24ms/step - loss: 0.2559 - sparse_categorical_accuracy: 0.9019 - val_loss: 0.2664 - val_sparse_categorical_accuracy: 0.9018\n",
            "Epoch 115/300\n",
            "422/422 [==============================] - 10s 25ms/step - loss: 0.2589 - sparse_categorical_accuracy: 0.9011 - val_loss: 0.2694 - val_sparse_categorical_accuracy: 0.9005\n",
            "Epoch 116/300\n",
            "422/422 [==============================] - 9s 22ms/step - loss: 0.2601 - sparse_categorical_accuracy: 0.9006 - val_loss: 0.2682 - val_sparse_categorical_accuracy: 0.9030\n",
            "Epoch 117/300\n",
            "422/422 [==============================] - 10s 25ms/step - loss: 0.2547 - sparse_categorical_accuracy: 0.9030 - val_loss: 0.2647 - val_sparse_categorical_accuracy: 0.9022\n",
            "Epoch 118/300\n",
            "422/422 [==============================] - 10s 25ms/step - loss: 0.2538 - sparse_categorical_accuracy: 0.9016 - val_loss: 0.2655 - val_sparse_categorical_accuracy: 0.9030\n",
            "Epoch 119/300\n",
            "422/422 [==============================] - 10s 24ms/step - loss: 0.2569 - sparse_categorical_accuracy: 0.9010 - val_loss: 0.2670 - val_sparse_categorical_accuracy: 0.9030\n",
            "Epoch 120/300\n",
            "422/422 [==============================] - 10s 25ms/step - loss: 0.2537 - sparse_categorical_accuracy: 0.9019 - val_loss: 0.2658 - val_sparse_categorical_accuracy: 0.9023\n",
            "Epoch 121/300\n",
            "422/422 [==============================] - 10s 23ms/step - loss: 0.2517 - sparse_categorical_accuracy: 0.9027 - val_loss: 0.2671 - val_sparse_categorical_accuracy: 0.9018\n",
            "Epoch 122/300\n",
            "422/422 [==============================] - 10s 24ms/step - loss: 0.2551 - sparse_categorical_accuracy: 0.9032 - val_loss: 0.2644 - val_sparse_categorical_accuracy: 0.9033\n",
            "Epoch 123/300\n",
            "422/422 [==============================] - 10s 25ms/step - loss: 0.2538 - sparse_categorical_accuracy: 0.9019 - val_loss: 0.2724 - val_sparse_categorical_accuracy: 0.9022\n",
            "Epoch 124/300\n",
            "422/422 [==============================] - 10s 25ms/step - loss: 0.2530 - sparse_categorical_accuracy: 0.9034 - val_loss: 0.2657 - val_sparse_categorical_accuracy: 0.9033\n",
            "Epoch 125/300\n",
            "422/422 [==============================] - 10s 24ms/step - loss: 0.2526 - sparse_categorical_accuracy: 0.9024 - val_loss: 0.2666 - val_sparse_categorical_accuracy: 0.9037\n",
            "Epoch 126/300\n",
            "422/422 [==============================] - 10s 24ms/step - loss: 0.2508 - sparse_categorical_accuracy: 0.9034 - val_loss: 0.2654 - val_sparse_categorical_accuracy: 0.9035\n",
            "Epoch 127/300\n",
            "422/422 [==============================] - 10s 23ms/step - loss: 0.2514 - sparse_categorical_accuracy: 0.9046 - val_loss: 0.2676 - val_sparse_categorical_accuracy: 0.9023\n",
            "Epoch 128/300\n",
            "422/422 [==============================] - 10s 24ms/step - loss: 0.2509 - sparse_categorical_accuracy: 0.9040 - val_loss: 0.2660 - val_sparse_categorical_accuracy: 0.9042\n",
            "Epoch 129/300\n",
            "422/422 [==============================] - 10s 25ms/step - loss: 0.2485 - sparse_categorical_accuracy: 0.9050 - val_loss: 0.2647 - val_sparse_categorical_accuracy: 0.9052\n",
            "Epoch 130/300\n",
            "422/422 [==============================] - 10s 25ms/step - loss: 0.2504 - sparse_categorical_accuracy: 0.9035 - val_loss: 0.2658 - val_sparse_categorical_accuracy: 0.9030\n",
            "Epoch 131/300\n",
            "422/422 [==============================] - 10s 25ms/step - loss: 0.2485 - sparse_categorical_accuracy: 0.9063 - val_loss: 0.2646 - val_sparse_categorical_accuracy: 0.9052\n",
            "Epoch 132/300\n",
            "422/422 [==============================] - 9s 22ms/step - loss: 0.2494 - sparse_categorical_accuracy: 0.9036 - val_loss: 0.2681 - val_sparse_categorical_accuracy: 0.9022\n",
            "Epoch 133/300\n",
            "422/422 [==============================] - 10s 25ms/step - loss: 0.2496 - sparse_categorical_accuracy: 0.9044 - val_loss: 0.2623 - val_sparse_categorical_accuracy: 0.9032\n",
            "Epoch 134/300\n",
            "422/422 [==============================] - 10s 25ms/step - loss: 0.2478 - sparse_categorical_accuracy: 0.9047 - val_loss: 0.2627 - val_sparse_categorical_accuracy: 0.9057\n",
            "Epoch 135/300\n",
            "422/422 [==============================] - 10s 25ms/step - loss: 0.2464 - sparse_categorical_accuracy: 0.9057 - val_loss: 0.2635 - val_sparse_categorical_accuracy: 0.9037\n",
            "Epoch 136/300\n",
            "422/422 [==============================] - 10s 25ms/step - loss: 0.2507 - sparse_categorical_accuracy: 0.9037 - val_loss: 0.2649 - val_sparse_categorical_accuracy: 0.9053\n",
            "Epoch 137/300\n",
            "422/422 [==============================] - 9s 22ms/step - loss: 0.2448 - sparse_categorical_accuracy: 0.9055 - val_loss: 0.2656 - val_sparse_categorical_accuracy: 0.9043\n",
            "Epoch 138/300\n",
            "422/422 [==============================] - 10s 25ms/step - loss: 0.2465 - sparse_categorical_accuracy: 0.9052 - val_loss: 0.2620 - val_sparse_categorical_accuracy: 0.9038\n",
            "Epoch 139/300\n",
            "422/422 [==============================] - 10s 25ms/step - loss: 0.2486 - sparse_categorical_accuracy: 0.9051 - val_loss: 0.2638 - val_sparse_categorical_accuracy: 0.9047\n",
            "Epoch 140/300\n",
            "422/422 [==============================] - 10s 25ms/step - loss: 0.2460 - sparse_categorical_accuracy: 0.9052 - val_loss: 0.2648 - val_sparse_categorical_accuracy: 0.9042\n",
            "Epoch 141/300\n",
            "422/422 [==============================] - 10s 25ms/step - loss: 0.2464 - sparse_categorical_accuracy: 0.9068 - val_loss: 0.2647 - val_sparse_categorical_accuracy: 0.9062\n",
            "Epoch 142/300\n",
            "422/422 [==============================] - 10s 24ms/step - loss: 0.2423 - sparse_categorical_accuracy: 0.9071 - val_loss: 0.2654 - val_sparse_categorical_accuracy: 0.9038\n",
            "Epoch 143/300\n",
            "422/422 [==============================] - 10s 23ms/step - loss: 0.2439 - sparse_categorical_accuracy: 0.9065 - val_loss: 0.2682 - val_sparse_categorical_accuracy: 0.9023\n",
            "Epoch 144/300\n",
            "422/422 [==============================] - 10s 24ms/step - loss: 0.2441 - sparse_categorical_accuracy: 0.9067 - val_loss: 0.2664 - val_sparse_categorical_accuracy: 0.9042\n",
            "Epoch 145/300\n",
            "422/422 [==============================] - 10s 25ms/step - loss: 0.2388 - sparse_categorical_accuracy: 0.9089 - val_loss: 0.2657 - val_sparse_categorical_accuracy: 0.9033\n",
            "Epoch 146/300\n",
            "422/422 [==============================] - 10s 24ms/step - loss: 0.2433 - sparse_categorical_accuracy: 0.9064 - val_loss: 0.2668 - val_sparse_categorical_accuracy: 0.9025\n",
            "Epoch 147/300\n",
            "422/422 [==============================] - 10s 24ms/step - loss: 0.2384 - sparse_categorical_accuracy: 0.9097 - val_loss: 0.2625 - val_sparse_categorical_accuracy: 0.9040\n",
            "Epoch 148/300\n",
            "422/422 [==============================] - 10s 23ms/step - loss: 0.2395 - sparse_categorical_accuracy: 0.9076 - val_loss: 0.2674 - val_sparse_categorical_accuracy: 0.9050\n",
            "Epoch 149/300\n",
            "422/422 [==============================] - 10s 25ms/step - loss: 0.2414 - sparse_categorical_accuracy: 0.9079 - val_loss: 0.2644 - val_sparse_categorical_accuracy: 0.9012\n",
            "Epoch 150/300\n",
            "422/422 [==============================] - 10s 25ms/step - loss: 0.2415 - sparse_categorical_accuracy: 0.9075 - val_loss: 0.2625 - val_sparse_categorical_accuracy: 0.9043\n",
            "Epoch 151/300\n",
            "422/422 [==============================] - 10s 25ms/step - loss: 0.2400 - sparse_categorical_accuracy: 0.9079 - val_loss: 0.2634 - val_sparse_categorical_accuracy: 0.9028\n",
            "Epoch 152/300\n",
            "422/422 [==============================] - 10s 25ms/step - loss: 0.2380 - sparse_categorical_accuracy: 0.9084 - val_loss: 0.2675 - val_sparse_categorical_accuracy: 0.9045\n",
            "Epoch 153/300\n",
            "422/422 [==============================] - 9s 22ms/step - loss: 0.2366 - sparse_categorical_accuracy: 0.9087 - val_loss: 0.2691 - val_sparse_categorical_accuracy: 0.9037\n",
            "Epoch 154/300\n",
            "422/422 [==============================] - 10s 25ms/step - loss: 0.2375 - sparse_categorical_accuracy: 0.9086 - val_loss: 0.2652 - val_sparse_categorical_accuracy: 0.9038\n",
            "Epoch 155/300\n",
            "422/422 [==============================] - 10s 25ms/step - loss: 0.2389 - sparse_categorical_accuracy: 0.9081 - val_loss: 0.2659 - val_sparse_categorical_accuracy: 0.9045\n",
            "Epoch 156/300\n",
            "422/422 [==============================] - 10s 25ms/step - loss: 0.2388 - sparse_categorical_accuracy: 0.9079 - val_loss: 0.2673 - val_sparse_categorical_accuracy: 0.9060\n",
            "Epoch 157/300\n",
            "422/422 [==============================] - 11s 25ms/step - loss: 0.2355 - sparse_categorical_accuracy: 0.9082 - val_loss: 0.2639 - val_sparse_categorical_accuracy: 0.9048\n",
            "Epoch 158/300\n",
            "422/422 [==============================] - 9s 22ms/step - loss: 0.2373 - sparse_categorical_accuracy: 0.9084 - val_loss: 0.2632 - val_sparse_categorical_accuracy: 0.9042\n",
            "Epoch 159/300\n",
            "422/422 [==============================] - 10s 25ms/step - loss: 0.2386 - sparse_categorical_accuracy: 0.9085 - val_loss: 0.2655 - val_sparse_categorical_accuracy: 0.9040\n",
            "Epoch 160/300\n",
            "422/422 [==============================] - 11s 25ms/step - loss: 0.2369 - sparse_categorical_accuracy: 0.9093 - val_loss: 0.2630 - val_sparse_categorical_accuracy: 0.9047\n",
            "Epoch 161/300\n",
            "422/422 [==============================] - 11s 25ms/step - loss: 0.2343 - sparse_categorical_accuracy: 0.9111 - val_loss: 0.2646 - val_sparse_categorical_accuracy: 0.9032\n",
            "Epoch 162/300\n",
            "422/422 [==============================] - 11s 25ms/step - loss: 0.2344 - sparse_categorical_accuracy: 0.9086 - val_loss: 0.2652 - val_sparse_categorical_accuracy: 0.9028\n",
            "Epoch 163/300\n",
            "422/422 [==============================] - 11s 25ms/step - loss: 0.2369 - sparse_categorical_accuracy: 0.9083 - val_loss: 0.2612 - val_sparse_categorical_accuracy: 0.9058\n",
            "Epoch 164/300\n",
            "422/422 [==============================] - 10s 23ms/step - loss: 0.2370 - sparse_categorical_accuracy: 0.9084 - val_loss: 0.2613 - val_sparse_categorical_accuracy: 0.9033\n",
            "Epoch 165/300\n",
            "422/422 [==============================] - 11s 25ms/step - loss: 0.2361 - sparse_categorical_accuracy: 0.9086 - val_loss: 0.2641 - val_sparse_categorical_accuracy: 0.9058\n",
            "Epoch 166/300\n",
            "422/422 [==============================] - 10s 25ms/step - loss: 0.2354 - sparse_categorical_accuracy: 0.9089 - val_loss: 0.2620 - val_sparse_categorical_accuracy: 0.9053\n",
            "Epoch 167/300\n",
            "422/422 [==============================] - 11s 25ms/step - loss: 0.2376 - sparse_categorical_accuracy: 0.9093 - val_loss: 0.2626 - val_sparse_categorical_accuracy: 0.9053\n",
            "Epoch 168/300\n",
            "422/422 [==============================] - 10s 25ms/step - loss: 0.2357 - sparse_categorical_accuracy: 0.9104 - val_loss: 0.2626 - val_sparse_categorical_accuracy: 0.9042\n",
            "Epoch 169/300\n",
            "422/422 [==============================] - 10s 24ms/step - loss: 0.2308 - sparse_categorical_accuracy: 0.9112 - val_loss: 0.2625 - val_sparse_categorical_accuracy: 0.9037\n",
            "Epoch 170/300\n",
            "422/422 [==============================] - 10s 24ms/step - loss: 0.2322 - sparse_categorical_accuracy: 0.9113 - val_loss: 0.2645 - val_sparse_categorical_accuracy: 0.9032\n",
            "Epoch 171/300\n",
            "422/422 [==============================] - 11s 25ms/step - loss: 0.2339 - sparse_categorical_accuracy: 0.9109 - val_loss: 0.2637 - val_sparse_categorical_accuracy: 0.9052\n",
            "Epoch 172/300\n",
            "422/422 [==============================] - 10s 25ms/step - loss: 0.2341 - sparse_categorical_accuracy: 0.9092 - val_loss: 0.2593 - val_sparse_categorical_accuracy: 0.9060\n",
            "Epoch 173/300\n",
            "422/422 [==============================] - 10s 25ms/step - loss: 0.2313 - sparse_categorical_accuracy: 0.9111 - val_loss: 0.2655 - val_sparse_categorical_accuracy: 0.9057\n",
            "Epoch 174/300\n",
            "422/422 [==============================] - 11s 25ms/step - loss: 0.2324 - sparse_categorical_accuracy: 0.9114 - val_loss: 0.2648 - val_sparse_categorical_accuracy: 0.9057\n",
            "Epoch 175/300\n",
            "422/422 [==============================] - 9s 22ms/step - loss: 0.2300 - sparse_categorical_accuracy: 0.9108 - val_loss: 0.2650 - val_sparse_categorical_accuracy: 0.9048\n",
            "Epoch 176/300\n",
            "422/422 [==============================] - 10s 25ms/step - loss: 0.2295 - sparse_categorical_accuracy: 0.9117 - val_loss: 0.2622 - val_sparse_categorical_accuracy: 0.9060\n",
            "Epoch 177/300\n",
            "422/422 [==============================] - 10s 25ms/step - loss: 0.2305 - sparse_categorical_accuracy: 0.9107 - val_loss: 0.2630 - val_sparse_categorical_accuracy: 0.9042\n",
            "Epoch 178/300\n",
            "422/422 [==============================] - 10s 25ms/step - loss: 0.2319 - sparse_categorical_accuracy: 0.9100 - val_loss: 0.2641 - val_sparse_categorical_accuracy: 0.9043\n",
            "Epoch 179/300\n",
            "422/422 [==============================] - 11s 25ms/step - loss: 0.2288 - sparse_categorical_accuracy: 0.9127 - val_loss: 0.2641 - val_sparse_categorical_accuracy: 0.9050\n",
            "Epoch 180/300\n",
            "422/422 [==============================] - 10s 24ms/step - loss: 0.2322 - sparse_categorical_accuracy: 0.9109 - val_loss: 0.2633 - val_sparse_categorical_accuracy: 0.9042\n",
            "Epoch 181/300\n",
            "422/422 [==============================] - 10s 24ms/step - loss: 0.2295 - sparse_categorical_accuracy: 0.9116 - val_loss: 0.2653 - val_sparse_categorical_accuracy: 0.9052\n",
            "Epoch 182/300\n",
            "422/422 [==============================] - 10s 25ms/step - loss: 0.2269 - sparse_categorical_accuracy: 0.9125 - val_loss: 0.2620 - val_sparse_categorical_accuracy: 0.9047\n",
            "Epoch 183/300\n",
            "422/422 [==============================] - 10s 25ms/step - loss: 0.2315 - sparse_categorical_accuracy: 0.9114 - val_loss: 0.2637 - val_sparse_categorical_accuracy: 0.9062\n",
            "Epoch 184/300\n",
            "422/422 [==============================] - 11s 25ms/step - loss: 0.2285 - sparse_categorical_accuracy: 0.9128 - val_loss: 0.2600 - val_sparse_categorical_accuracy: 0.9060\n",
            "Epoch 185/300\n",
            "422/422 [==============================] - 11s 25ms/step - loss: 0.2268 - sparse_categorical_accuracy: 0.9127 - val_loss: 0.2633 - val_sparse_categorical_accuracy: 0.9040\n",
            "Epoch 186/300\n",
            "422/422 [==============================] - 10s 23ms/step - loss: 0.2299 - sparse_categorical_accuracy: 0.9111 - val_loss: 0.2629 - val_sparse_categorical_accuracy: 0.9043\n",
            "Epoch 187/300\n",
            "422/422 [==============================] - 11s 25ms/step - loss: 0.2284 - sparse_categorical_accuracy: 0.9119 - val_loss: 0.2613 - val_sparse_categorical_accuracy: 0.9042\n",
            "Epoch 188/300\n",
            "422/422 [==============================] - 11s 25ms/step - loss: 0.2283 - sparse_categorical_accuracy: 0.9131 - val_loss: 0.2606 - val_sparse_categorical_accuracy: 0.9068\n",
            "Epoch 189/300\n",
            "422/422 [==============================] - 11s 25ms/step - loss: 0.2272 - sparse_categorical_accuracy: 0.9128 - val_loss: 0.2625 - val_sparse_categorical_accuracy: 0.9045\n",
            "Epoch 190/300\n",
            "422/422 [==============================] - 11s 25ms/step - loss: 0.2267 - sparse_categorical_accuracy: 0.9136 - val_loss: 0.2604 - val_sparse_categorical_accuracy: 0.9042\n",
            "Epoch 191/300\n",
            "422/422 [==============================] - 10s 24ms/step - loss: 0.2269 - sparse_categorical_accuracy: 0.9117 - val_loss: 0.2594 - val_sparse_categorical_accuracy: 0.9053\n",
            "Epoch 192/300\n",
            "422/422 [==============================] - 10s 24ms/step - loss: 0.2266 - sparse_categorical_accuracy: 0.9120 - val_loss: 0.2630 - val_sparse_categorical_accuracy: 0.9052\n",
            "Epoch 193/300\n",
            "422/422 [==============================] - 11s 25ms/step - loss: 0.2232 - sparse_categorical_accuracy: 0.9141 - val_loss: 0.2624 - val_sparse_categorical_accuracy: 0.9060\n",
            "Epoch 194/300\n",
            "422/422 [==============================] - 11s 25ms/step - loss: 0.2239 - sparse_categorical_accuracy: 0.9141 - val_loss: 0.2619 - val_sparse_categorical_accuracy: 0.9048\n",
            "Epoch 195/300\n",
            "422/422 [==============================] - 11s 25ms/step - loss: 0.2227 - sparse_categorical_accuracy: 0.9134 - val_loss: 0.2618 - val_sparse_categorical_accuracy: 0.9040\n",
            "Epoch 196/300\n",
            "422/422 [==============================] - 10s 25ms/step - loss: 0.2231 - sparse_categorical_accuracy: 0.9133 - val_loss: 0.2657 - val_sparse_categorical_accuracy: 0.9057\n",
            "Epoch 197/300\n",
            "422/422 [==============================] - 10s 23ms/step - loss: 0.2214 - sparse_categorical_accuracy: 0.9164 - val_loss: 0.2681 - val_sparse_categorical_accuracy: 0.9057\n",
            "Epoch 198/300\n",
            "422/422 [==============================] - 11s 25ms/step - loss: 0.2242 - sparse_categorical_accuracy: 0.9134 - val_loss: 0.2651 - val_sparse_categorical_accuracy: 0.9042\n",
            "Epoch 199/300\n",
            "422/422 [==============================] - 10s 25ms/step - loss: 0.2241 - sparse_categorical_accuracy: 0.9128 - val_loss: 0.2627 - val_sparse_categorical_accuracy: 0.9057\n",
            "Epoch 200/300\n",
            "422/422 [==============================] - 11s 25ms/step - loss: 0.2242 - sparse_categorical_accuracy: 0.9123 - val_loss: 0.2642 - val_sparse_categorical_accuracy: 0.9043\n",
            "Epoch 201/300\n",
            "422/422 [==============================] - 11s 25ms/step - loss: 0.2227 - sparse_categorical_accuracy: 0.9133 - val_loss: 0.2617 - val_sparse_categorical_accuracy: 0.9053\n",
            "Epoch 202/300\n",
            "422/422 [==============================] - 10s 23ms/step - loss: 0.2215 - sparse_categorical_accuracy: 0.9148 - val_loss: 0.2623 - val_sparse_categorical_accuracy: 0.9057\n",
            "Epoch 203/300\n",
            "422/422 [==============================] - 10s 25ms/step - loss: 0.2237 - sparse_categorical_accuracy: 0.9125 - val_loss: 0.2594 - val_sparse_categorical_accuracy: 0.9067\n",
            "Epoch 204/300\n",
            "422/422 [==============================] - 11s 25ms/step - loss: 0.2229 - sparse_categorical_accuracy: 0.9141 - val_loss: 0.2616 - val_sparse_categorical_accuracy: 0.9067\n",
            "Epoch 205/300\n",
            "422/422 [==============================] - 11s 25ms/step - loss: 0.2182 - sparse_categorical_accuracy: 0.9158 - val_loss: 0.2622 - val_sparse_categorical_accuracy: 0.9062\n",
            "Epoch 206/300\n",
            "422/422 [==============================] - 11s 25ms/step - loss: 0.2217 - sparse_categorical_accuracy: 0.9147 - val_loss: 0.2640 - val_sparse_categorical_accuracy: 0.9062\n",
            "Epoch 207/300\n",
            "422/422 [==============================] - 10s 24ms/step - loss: 0.2183 - sparse_categorical_accuracy: 0.9153 - val_loss: 0.2630 - val_sparse_categorical_accuracy: 0.9062\n",
            "Epoch 208/300\n",
            "422/422 [==============================] - 10s 24ms/step - loss: 0.2211 - sparse_categorical_accuracy: 0.9148 - val_loss: 0.2627 - val_sparse_categorical_accuracy: 0.9072\n",
            "Epoch 209/300\n",
            "422/422 [==============================] - 11s 25ms/step - loss: 0.2195 - sparse_categorical_accuracy: 0.9147 - val_loss: 0.2666 - val_sparse_categorical_accuracy: 0.9052\n",
            "Epoch 210/300\n",
            "422/422 [==============================] - 11s 25ms/step - loss: 0.2213 - sparse_categorical_accuracy: 0.9145 - val_loss: 0.2627 - val_sparse_categorical_accuracy: 0.9072\n",
            "Epoch 211/300\n",
            "422/422 [==============================] - 11s 25ms/step - loss: 0.2187 - sparse_categorical_accuracy: 0.9149 - val_loss: 0.2613 - val_sparse_categorical_accuracy: 0.9068\n",
            "Epoch 212/300\n",
            "422/422 [==============================] - 11s 25ms/step - loss: 0.2178 - sparse_categorical_accuracy: 0.9153 - val_loss: 0.2632 - val_sparse_categorical_accuracy: 0.9075\n",
            "Epoch 213/300\n",
            "422/422 [==============================] - 10s 23ms/step - loss: 0.2164 - sparse_categorical_accuracy: 0.9154 - val_loss: 0.2642 - val_sparse_categorical_accuracy: 0.9062\n",
            "Epoch 214/300\n",
            "422/422 [==============================] - 11s 25ms/step - loss: 0.2182 - sparse_categorical_accuracy: 0.9157 - val_loss: 0.2647 - val_sparse_categorical_accuracy: 0.9065\n",
            "Epoch 215/300\n",
            "422/422 [==============================] - 11s 25ms/step - loss: 0.2204 - sparse_categorical_accuracy: 0.9137 - val_loss: 0.2643 - val_sparse_categorical_accuracy: 0.9058\n",
            "Epoch 216/300\n",
            "422/422 [==============================] - 11s 25ms/step - loss: 0.2182 - sparse_categorical_accuracy: 0.9155 - val_loss: 0.2621 - val_sparse_categorical_accuracy: 0.9060\n",
            "Epoch 217/300\n",
            "422/422 [==============================] - 11s 25ms/step - loss: 0.2208 - sparse_categorical_accuracy: 0.9141 - val_loss: 0.2618 - val_sparse_categorical_accuracy: 0.9077\n",
            "Epoch 218/300\n",
            "422/422 [==============================] - 10s 24ms/step - loss: 0.2161 - sparse_categorical_accuracy: 0.9157 - val_loss: 0.2644 - val_sparse_categorical_accuracy: 0.9062\n",
            "Epoch 219/300\n",
            "422/422 [==============================] - 10s 23ms/step - loss: 0.2181 - sparse_categorical_accuracy: 0.9156 - val_loss: 0.2641 - val_sparse_categorical_accuracy: 0.9085\n",
            "Epoch 220/300\n",
            "422/422 [==============================] - 11s 25ms/step - loss: 0.2155 - sparse_categorical_accuracy: 0.9163 - val_loss: 0.2617 - val_sparse_categorical_accuracy: 0.9060\n",
            "Epoch 221/300\n",
            "422/422 [==============================] - 11s 25ms/step - loss: 0.2183 - sparse_categorical_accuracy: 0.9150 - val_loss: 0.2653 - val_sparse_categorical_accuracy: 0.9088\n",
            "Epoch 222/300\n",
            "422/422 [==============================] - 11s 25ms/step - loss: 0.2158 - sparse_categorical_accuracy: 0.9160 - val_loss: 0.2634 - val_sparse_categorical_accuracy: 0.9072\n",
            "Epoch 223/300\n",
            "422/422 [==============================] - 11s 25ms/step - loss: 0.2164 - sparse_categorical_accuracy: 0.9169 - val_loss: 0.2671 - val_sparse_categorical_accuracy: 0.9067\n",
            "Epoch 224/300\n",
            "422/422 [==============================] - 10s 23ms/step - loss: 0.2164 - sparse_categorical_accuracy: 0.9172 - val_loss: 0.2623 - val_sparse_categorical_accuracy: 0.9060\n",
            "Epoch 225/300\n",
            "422/422 [==============================] - 11s 25ms/step - loss: 0.2166 - sparse_categorical_accuracy: 0.9171 - val_loss: 0.2615 - val_sparse_categorical_accuracy: 0.9065\n",
            "Epoch 226/300\n",
            "422/422 [==============================] - 11s 26ms/step - loss: 0.2143 - sparse_categorical_accuracy: 0.9177 - val_loss: 0.2652 - val_sparse_categorical_accuracy: 0.9058\n",
            "Epoch 227/300\n",
            "422/422 [==============================] - 11s 25ms/step - loss: 0.2190 - sparse_categorical_accuracy: 0.9149 - val_loss: 0.2639 - val_sparse_categorical_accuracy: 0.9052\n",
            "Epoch 228/300\n",
            "422/422 [==============================] - 11s 25ms/step - loss: 0.2157 - sparse_categorical_accuracy: 0.9162 - val_loss: 0.2663 - val_sparse_categorical_accuracy: 0.9052\n",
            "Epoch 229/300\n",
            "422/422 [==============================] - 11s 26ms/step - loss: 0.2146 - sparse_categorical_accuracy: 0.9172 - val_loss: 0.2656 - val_sparse_categorical_accuracy: 0.9047\n",
            "Epoch 230/300\n",
            "422/422 [==============================] - 10s 23ms/step - loss: 0.2161 - sparse_categorical_accuracy: 0.9166 - val_loss: 0.2643 - val_sparse_categorical_accuracy: 0.9065\n",
            "Epoch 231/300\n",
            "422/422 [==============================] - 11s 25ms/step - loss: 0.2122 - sparse_categorical_accuracy: 0.9176 - val_loss: 0.2634 - val_sparse_categorical_accuracy: 0.9045\n",
            "Epoch 232/300\n",
            "422/422 [==============================] - 11s 25ms/step - loss: 0.2126 - sparse_categorical_accuracy: 0.9173 - val_loss: 0.2634 - val_sparse_categorical_accuracy: 0.9065\n",
            "Epoch 233/300\n",
            "422/422 [==============================] - 11s 25ms/step - loss: 0.2149 - sparse_categorical_accuracy: 0.9170 - val_loss: 0.2638 - val_sparse_categorical_accuracy: 0.9043\n",
            "Epoch 234/300\n",
            "422/422 [==============================] - 11s 26ms/step - loss: 0.2147 - sparse_categorical_accuracy: 0.9170 - val_loss: 0.2615 - val_sparse_categorical_accuracy: 0.9078\n",
            "Epoch 235/300\n",
            "422/422 [==============================] - 10s 24ms/step - loss: 0.2108 - sparse_categorical_accuracy: 0.9181 - val_loss: 0.2634 - val_sparse_categorical_accuracy: 0.9075\n",
            "Epoch 236/300\n",
            "422/422 [==============================] - 10s 24ms/step - loss: 0.2157 - sparse_categorical_accuracy: 0.9174 - val_loss: 0.2658 - val_sparse_categorical_accuracy: 0.9075\n",
            "Epoch 237/300\n",
            "422/422 [==============================] - 11s 25ms/step - loss: 0.2135 - sparse_categorical_accuracy: 0.9180 - val_loss: 0.2643 - val_sparse_categorical_accuracy: 0.9070\n",
            "Epoch 238/300\n",
            "422/422 [==============================] - 11s 25ms/step - loss: 0.2135 - sparse_categorical_accuracy: 0.9169 - val_loss: 0.2607 - val_sparse_categorical_accuracy: 0.9078\n",
            "Epoch 239/300\n",
            "422/422 [==============================] - 11s 25ms/step - loss: 0.2120 - sparse_categorical_accuracy: 0.9174 - val_loss: 0.2628 - val_sparse_categorical_accuracy: 0.9068\n",
            "Epoch 240/300\n",
            "422/422 [==============================] - 11s 26ms/step - loss: 0.2108 - sparse_categorical_accuracy: 0.9186 - val_loss: 0.2651 - val_sparse_categorical_accuracy: 0.9062\n",
            "Epoch 241/300\n",
            "422/422 [==============================] - 10s 23ms/step - loss: 0.2123 - sparse_categorical_accuracy: 0.9174 - val_loss: 0.2618 - val_sparse_categorical_accuracy: 0.9057\n",
            "Epoch 242/300\n",
            "422/422 [==============================] - 11s 25ms/step - loss: 0.2137 - sparse_categorical_accuracy: 0.9177 - val_loss: 0.2640 - val_sparse_categorical_accuracy: 0.9070\n",
            "Epoch 243/300\n",
            "422/422 [==============================] - 11s 25ms/step - loss: 0.2114 - sparse_categorical_accuracy: 0.9173 - val_loss: 0.2604 - val_sparse_categorical_accuracy: 0.9077\n",
            "Epoch 244/300\n",
            "422/422 [==============================] - 11s 25ms/step - loss: 0.2130 - sparse_categorical_accuracy: 0.9192 - val_loss: 0.2632 - val_sparse_categorical_accuracy: 0.9057\n",
            "Epoch 245/300\n",
            "422/422 [==============================] - 11s 25ms/step - loss: 0.2127 - sparse_categorical_accuracy: 0.9176 - val_loss: 0.2610 - val_sparse_categorical_accuracy: 0.9072\n",
            "Epoch 246/300\n",
            "422/422 [==============================] - 11s 25ms/step - loss: 0.2131 - sparse_categorical_accuracy: 0.9185 - val_loss: 0.2615 - val_sparse_categorical_accuracy: 0.9058\n",
            "Epoch 247/300\n",
            "422/422 [==============================] - 10s 23ms/step - loss: 0.2119 - sparse_categorical_accuracy: 0.9191 - val_loss: 0.2625 - val_sparse_categorical_accuracy: 0.9080\n",
            "Epoch 248/300\n",
            "422/422 [==============================] - 11s 26ms/step - loss: 0.2103 - sparse_categorical_accuracy: 0.9199 - val_loss: 0.2631 - val_sparse_categorical_accuracy: 0.9072\n",
            "Epoch 249/300\n",
            "422/422 [==============================] - 11s 25ms/step - loss: 0.2102 - sparse_categorical_accuracy: 0.9196 - val_loss: 0.2664 - val_sparse_categorical_accuracy: 0.9075\n",
            "Epoch 250/300\n",
            "422/422 [==============================] - 11s 26ms/step - loss: 0.2087 - sparse_categorical_accuracy: 0.9205 - val_loss: 0.2627 - val_sparse_categorical_accuracy: 0.9067\n",
            "Epoch 251/300\n",
            "422/422 [==============================] - 11s 26ms/step - loss: 0.2104 - sparse_categorical_accuracy: 0.9181 - val_loss: 0.2623 - val_sparse_categorical_accuracy: 0.9072\n",
            "Epoch 252/300\n",
            "422/422 [==============================] - 10s 25ms/step - loss: 0.2114 - sparse_categorical_accuracy: 0.9174 - val_loss: 0.2607 - val_sparse_categorical_accuracy: 0.9075\n",
            "Epoch 253/300\n",
            "422/422 [==============================] - 10s 23ms/step - loss: 0.2096 - sparse_categorical_accuracy: 0.9188 - val_loss: 0.2638 - val_sparse_categorical_accuracy: 0.9067\n",
            "Epoch 254/300\n",
            "422/422 [==============================] - 11s 25ms/step - loss: 0.2126 - sparse_categorical_accuracy: 0.9182 - val_loss: 0.2630 - val_sparse_categorical_accuracy: 0.9087\n",
            "Epoch 255/300\n",
            "422/422 [==============================] - 11s 25ms/step - loss: 0.2101 - sparse_categorical_accuracy: 0.9179 - val_loss: 0.2599 - val_sparse_categorical_accuracy: 0.9077\n",
            "Epoch 256/300\n",
            "422/422 [==============================] - 11s 26ms/step - loss: 0.2116 - sparse_categorical_accuracy: 0.9179 - val_loss: 0.2610 - val_sparse_categorical_accuracy: 0.9080\n",
            "Epoch 257/300\n",
            "422/422 [==============================] - 11s 26ms/step - loss: 0.2101 - sparse_categorical_accuracy: 0.9191 - val_loss: 0.2597 - val_sparse_categorical_accuracy: 0.9068\n",
            "Epoch 258/300\n",
            "422/422 [==============================] - 11s 25ms/step - loss: 0.2048 - sparse_categorical_accuracy: 0.9208 - val_loss: 0.2646 - val_sparse_categorical_accuracy: 0.9090\n",
            "Epoch 259/300\n",
            "422/422 [==============================] - 10s 24ms/step - loss: 0.2080 - sparse_categorical_accuracy: 0.9186 - val_loss: 0.2623 - val_sparse_categorical_accuracy: 0.9057\n",
            "Epoch 260/300\n",
            "422/422 [==============================] - 11s 26ms/step - loss: 0.2086 - sparse_categorical_accuracy: 0.9208 - val_loss: 0.2636 - val_sparse_categorical_accuracy: 0.9068\n",
            "Epoch 261/300\n",
            "422/422 [==============================] - 11s 26ms/step - loss: 0.2102 - sparse_categorical_accuracy: 0.9193 - val_loss: 0.2665 - val_sparse_categorical_accuracy: 0.9055\n",
            "Epoch 262/300\n",
            "422/422 [==============================] - 11s 25ms/step - loss: 0.2072 - sparse_categorical_accuracy: 0.9200 - val_loss: 0.2636 - val_sparse_categorical_accuracy: 0.9063\n",
            "Epoch 263/300\n",
            "422/422 [==============================] - 11s 26ms/step - loss: 0.2079 - sparse_categorical_accuracy: 0.9195 - val_loss: 0.2626 - val_sparse_categorical_accuracy: 0.9085\n",
            "Epoch 264/300\n",
            "422/422 [==============================] - 11s 25ms/step - loss: 0.2081 - sparse_categorical_accuracy: 0.9197 - val_loss: 0.2647 - val_sparse_categorical_accuracy: 0.9073\n",
            "Epoch 265/300\n",
            "422/422 [==============================] - 10s 24ms/step - loss: 0.2061 - sparse_categorical_accuracy: 0.9204 - val_loss: 0.2634 - val_sparse_categorical_accuracy: 0.9060\n",
            "Epoch 266/300\n",
            "422/422 [==============================] - 11s 25ms/step - loss: 0.2083 - sparse_categorical_accuracy: 0.9196 - val_loss: 0.2637 - val_sparse_categorical_accuracy: 0.9043\n",
            "Epoch 267/300\n",
            "422/422 [==============================] - 11s 25ms/step - loss: 0.2085 - sparse_categorical_accuracy: 0.9197 - val_loss: 0.2613 - val_sparse_categorical_accuracy: 0.9067\n",
            "Epoch 268/300\n",
            "422/422 [==============================] - 11s 26ms/step - loss: 0.2071 - sparse_categorical_accuracy: 0.9194 - val_loss: 0.2626 - val_sparse_categorical_accuracy: 0.9073\n",
            "Epoch 269/300\n",
            "422/422 [==============================] - 11s 25ms/step - loss: 0.2065 - sparse_categorical_accuracy: 0.9199 - val_loss: 0.2615 - val_sparse_categorical_accuracy: 0.9047\n",
            "Epoch 270/300\n",
            "422/422 [==============================] - 10s 24ms/step - loss: 0.2046 - sparse_categorical_accuracy: 0.9205 - val_loss: 0.2647 - val_sparse_categorical_accuracy: 0.9063\n",
            "Epoch 271/300\n",
            "422/422 [==============================] - 10s 24ms/step - loss: 0.2078 - sparse_categorical_accuracy: 0.9200 - val_loss: 0.2677 - val_sparse_categorical_accuracy: 0.9082\n",
            "Epoch 272/300\n",
            "422/422 [==============================] - 11s 26ms/step - loss: 0.2053 - sparse_categorical_accuracy: 0.9201 - val_loss: 0.2603 - val_sparse_categorical_accuracy: 0.9080\n",
            "Epoch 273/300\n",
            "422/422 [==============================] - 11s 26ms/step - loss: 0.2061 - sparse_categorical_accuracy: 0.9204 - val_loss: 0.2622 - val_sparse_categorical_accuracy: 0.9060\n",
            "Epoch 274/300\n",
            "422/422 [==============================] - 11s 26ms/step - loss: 0.2076 - sparse_categorical_accuracy: 0.9206 - val_loss: 0.2660 - val_sparse_categorical_accuracy: 0.9053\n",
            "Epoch 275/300\n",
            "422/422 [==============================] - 11s 26ms/step - loss: 0.2076 - sparse_categorical_accuracy: 0.9199 - val_loss: 0.2688 - val_sparse_categorical_accuracy: 0.9057\n",
            "Epoch 276/300\n",
            "422/422 [==============================] - 11s 25ms/step - loss: 0.2063 - sparse_categorical_accuracy: 0.9201 - val_loss: 0.2656 - val_sparse_categorical_accuracy: 0.9062\n",
            "Epoch 277/300\n",
            "422/422 [==============================] - 11s 25ms/step - loss: 0.2079 - sparse_categorical_accuracy: 0.9195 - val_loss: 0.2635 - val_sparse_categorical_accuracy: 0.9055\n",
            "Epoch 278/300\n",
            "422/422 [==============================] - 11s 26ms/step - loss: 0.2072 - sparse_categorical_accuracy: 0.9207 - val_loss: 0.2661 - val_sparse_categorical_accuracy: 0.9050\n",
            "Epoch 279/300\n",
            "422/422 [==============================] - 11s 26ms/step - loss: 0.2065 - sparse_categorical_accuracy: 0.9195 - val_loss: 0.2618 - val_sparse_categorical_accuracy: 0.9067\n",
            "Epoch 280/300\n",
            "422/422 [==============================] - 11s 26ms/step - loss: 0.2043 - sparse_categorical_accuracy: 0.9204 - val_loss: 0.2630 - val_sparse_categorical_accuracy: 0.9072\n",
            "Epoch 281/300\n",
            "422/422 [==============================] - 11s 26ms/step - loss: 0.2045 - sparse_categorical_accuracy: 0.9203 - val_loss: 0.2658 - val_sparse_categorical_accuracy: 0.9060\n",
            "Epoch 282/300\n",
            "422/422 [==============================] - 11s 26ms/step - loss: 0.2032 - sparse_categorical_accuracy: 0.9221 - val_loss: 0.2656 - val_sparse_categorical_accuracy: 0.9092\n",
            "Epoch 283/300\n",
            "422/422 [==============================] - 10s 25ms/step - loss: 0.2041 - sparse_categorical_accuracy: 0.9207 - val_loss: 0.2628 - val_sparse_categorical_accuracy: 0.9073\n",
            "Epoch 284/300\n",
            "422/422 [==============================] - 11s 25ms/step - loss: 0.2062 - sparse_categorical_accuracy: 0.9197 - val_loss: 0.2605 - val_sparse_categorical_accuracy: 0.9082\n",
            "Epoch 285/300\n",
            "422/422 [==============================] - 11s 26ms/step - loss: 0.2070 - sparse_categorical_accuracy: 0.9209 - val_loss: 0.2617 - val_sparse_categorical_accuracy: 0.9065\n",
            "Epoch 286/300\n",
            "422/422 [==============================] - 11s 26ms/step - loss: 0.2040 - sparse_categorical_accuracy: 0.9204 - val_loss: 0.2649 - val_sparse_categorical_accuracy: 0.9075\n",
            "Epoch 287/300\n",
            "422/422 [==============================] - 11s 26ms/step - loss: 0.2019 - sparse_categorical_accuracy: 0.9205 - val_loss: 0.2643 - val_sparse_categorical_accuracy: 0.9060\n",
            "Epoch 288/300\n",
            "422/422 [==============================] - 11s 26ms/step - loss: 0.2045 - sparse_categorical_accuracy: 0.9221 - val_loss: 0.2640 - val_sparse_categorical_accuracy: 0.9070\n",
            "Epoch 289/300\n",
            "422/422 [==============================] - 11s 25ms/step - loss: 0.2043 - sparse_categorical_accuracy: 0.9206 - val_loss: 0.2635 - val_sparse_categorical_accuracy: 0.9087\n",
            "Epoch 290/300\n",
            "422/422 [==============================] - 10s 24ms/step - loss: 0.2033 - sparse_categorical_accuracy: 0.9201 - val_loss: 0.2659 - val_sparse_categorical_accuracy: 0.9073\n",
            "Epoch 291/300\n",
            "422/422 [==============================] - 11s 25ms/step - loss: 0.2020 - sparse_categorical_accuracy: 0.9214 - val_loss: 0.2651 - val_sparse_categorical_accuracy: 0.9073\n",
            "Epoch 292/300\n",
            "422/422 [==============================] - 11s 27ms/step - loss: 0.2039 - sparse_categorical_accuracy: 0.9211 - val_loss: 0.2632 - val_sparse_categorical_accuracy: 0.9080\n",
            "Epoch 293/300\n",
            "422/422 [==============================] - 11s 26ms/step - loss: 0.2029 - sparse_categorical_accuracy: 0.9221 - val_loss: 0.2668 - val_sparse_categorical_accuracy: 0.9075\n",
            "Epoch 294/300\n",
            "422/422 [==============================] - 11s 26ms/step - loss: 0.2036 - sparse_categorical_accuracy: 0.9216 - val_loss: 0.2674 - val_sparse_categorical_accuracy: 0.9068\n",
            "Epoch 295/300\n",
            "422/422 [==============================] - 11s 25ms/step - loss: 0.2053 - sparse_categorical_accuracy: 0.9203 - val_loss: 0.2588 - val_sparse_categorical_accuracy: 0.9067\n",
            "Epoch 296/300\n",
            "422/422 [==============================] - 10s 24ms/step - loss: 0.2017 - sparse_categorical_accuracy: 0.9211 - val_loss: 0.2628 - val_sparse_categorical_accuracy: 0.9068\n",
            "Epoch 297/300\n",
            "422/422 [==============================] - 11s 25ms/step - loss: 0.2049 - sparse_categorical_accuracy: 0.9217 - val_loss: 0.2638 - val_sparse_categorical_accuracy: 0.9077\n",
            "Epoch 298/300\n",
            "422/422 [==============================] - 11s 26ms/step - loss: 0.1996 - sparse_categorical_accuracy: 0.9229 - val_loss: 0.2609 - val_sparse_categorical_accuracy: 0.9080\n",
            "Epoch 299/300\n",
            "422/422 [==============================] - 11s 26ms/step - loss: 0.2002 - sparse_categorical_accuracy: 0.9224 - val_loss: 0.2644 - val_sparse_categorical_accuracy: 0.9083\n",
            "Epoch 300/300\n",
            "422/422 [==============================] - 11s 26ms/step - loss: 0.2012 - sparse_categorical_accuracy: 0.9217 - val_loss: 0.2618 - val_sparse_categorical_accuracy: 0.9080\n",
            "313/313 [==============================] - 1s 3ms/step - loss: 0.2905 - sparse_categorical_accuracy: 0.9027\n",
            "\n",
            "Test accuracy: 0.9027000069618225\n"
          ]
        }
      ]
    },
    {
      "cell_type": "code",
      "source": [
        "print('\\nhistory dict:', list(history.history.keys()))"
      ],
      "metadata": {
        "id": "CxRE-B_Q6Sii",
        "colab": {
          "base_uri": "https://localhost:8080/"
        },
        "outputId": "017ab3b1-59c7-4f7f-dff0-4ec02abb47c2"
      },
      "execution_count": 15,
      "outputs": [
        {
          "output_type": "stream",
          "name": "stdout",
          "text": [
            "\n",
            "history dict: ['loss', 'sparse_categorical_accuracy', 'val_loss', 'val_sparse_categorical_accuracy']\n"
          ]
        }
      ]
    },
    {
      "cell_type": "code",
      "source": [
        "result = model.evaluate(x_test, y_test)\n",
        "print(result)"
      ],
      "metadata": {
        "id": "YXpwRRTvTBNg",
        "colab": {
          "base_uri": "https://localhost:8080/"
        },
        "outputId": "3b573e4e-afa8-4398-e2bb-4b69510350b3"
      },
      "execution_count": 16,
      "outputs": [
        {
          "output_type": "stream",
          "name": "stdout",
          "text": [
            "313/313 [==============================] - 1s 3ms/step - loss: 0.2905 - sparse_categorical_accuracy: 0.9027\n",
            "[0.2905222177505493, 0.9027000069618225]\n"
          ]
        }
      ]
    },
    {
      "cell_type": "code",
      "source": [
        "saved_model = load_model('best_model.h5')\n",
        "result = saved_model.evaluate(x_test, y_test)\n",
        "print(result)"
      ],
      "metadata": {
        "colab": {
          "base_uri": "https://localhost:8080/"
        },
        "id": "dpaZAW0vp1AZ",
        "outputId": "3d41317d-1a88-4268-944d-653df7f80340"
      },
      "execution_count": 17,
      "outputs": [
        {
          "output_type": "stream",
          "name": "stdout",
          "text": [
            "313/313 [==============================] - 1s 3ms/step - loss: 0.2884 - sparse_categorical_accuracy: 0.9033\n",
            "[0.28836700320243835, 0.9032999873161316]\n"
          ]
        }
      ]
    },
    {
      "cell_type": "code",
      "source": [
        "# from keras.models import load_model\n",
        "# saved_model = load_model('best_model.h5')\n",
        "# # _, train_acc = saved_model.evaluate(x_train, y_train, verbose=0)\n",
        "# _, test_acc = saved_model.evaluate(x_test, y_test, verbose=0)\n",
        "# print('Test: %.3f' % (test_acc))"
      ],
      "metadata": {
        "id": "DR_MS9DABo_K"
      },
      "execution_count": 18,
      "outputs": []
    },
    {
      "cell_type": "code",
      "source": [
        "history_dict = history.history\n",
        "loss_values = history_dict['loss']\n",
        "val_loss_values = history_dict['val_loss']\n",
        "\n",
        "epochs = range(1, len(history_dict['loss']) + 1)\n",
        "\n",
        "plt.figure(figsize=(10, 5))\n",
        "plt.plot(epochs, loss_values, 'bo', label='Training loss')\n",
        "plt.plot(epochs, val_loss_values, 'r', label='Validation loss')\n",
        "plt.ylim (0.2, 0.5)\n",
        "plt.title('Training and validation loss')\n",
        "plt.xlabel('Epochs')\n",
        "plt.ylabel('Loss')\n",
        "plt.legend()\n",
        "plt.grid(True)\n",
        "plt.show()\n",
        "1\n",
        "plt.clf()\n",
        "plt.figure(figsize=(10, 5))\n",
        "val_acc_values = history_dict['sparse_categorical_accuracy']\n",
        "plt.plot(epochs, history_dict['sparse_categorical_accuracy'], 'bo', label='Training acc')\n",
        "plt.plot(epochs, history_dict['val_sparse_categorical_accuracy'], 'r', label='Validation acc')\n",
        "plt.ylim (0.88, 0.94)\n",
        "plt.title('Training and validation accuracy')\n",
        "plt.xlabel('Epochs')\n",
        "plt.ylabel('Accuracy')\n",
        "plt.legend()\n",
        "plt.grid(True)"
      ],
      "metadata": {
        "id": "2Ll_5sGlXKMH",
        "colab": {
          "base_uri": "https://localhost:8080/",
          "height": 975
        },
        "outputId": "dba6e462-4fa3-492d-a0d1-26834e808629"
      },
      "execution_count": 19,
      "outputs": [
        {
          "output_type": "display_data",
          "data": {
            "text/plain": [
              "<Figure size 1000x500 with 1 Axes>"
            ],
            "image/png": "[encoded data removed]"
          },
          "metadata": {}
        },
        {
          "output_type": "display_data",
          "data": {
            "text/plain": [
              "<Figure size 640x480 with 0 Axes>"
            ]
          },
          "metadata": {}
        },
        {
          "output_type": "display_data",
          "data": {
            "text/plain": [
              "<Figure size 1000x500 with 1 Axes>"
            ],
            "image/png": "[encoded data removed]"
          },
          "metadata": {}
        }
      ]
    },
    {
      "cell_type": "code",
      "source": [
        "probability_model = tf.keras.Sequential([model,\n",
        "                                         tf.keras.layers.Softmax()])"
      ],
      "metadata": {
        "id": "VzOdKAT_uV-f"
      },
      "execution_count": 20,
      "outputs": []
    },
    {
      "cell_type": "code",
      "source": [
        "predictions = probability_model.predict(x_test)"
      ],
      "metadata": {
        "id": "f4is3NFruYom",
        "colab": {
          "base_uri": "https://localhost:8080/"
        },
        "outputId": "315989dd-2cb0-4b2c-bcf7-a7644432b9b2"
      },
      "execution_count": 21,
      "outputs": [
        {
          "output_type": "stream",
          "name": "stdout",
          "text": [
            "313/313 [==============================] - 1s 3ms/step\n"
          ]
        }
      ]
    },
    {
      "cell_type": "code",
      "source": [
        "predictions[0]"
      ],
      "metadata": {
        "id": "82cigvlZudz_",
        "colab": {
          "base_uri": "https://localhost:8080/"
        },
        "outputId": "08bba073-c7a9-45f0-dd89-407284d5b712"
      },
      "execution_count": 22,
      "outputs": [
        {
          "output_type": "execute_result",
          "data": {
            "text/plain": [
              "array([0.08533944, 0.08533944, 0.08533944, 0.08533944, 0.08533944,\n",
              "       0.08533963, 0.08533944, 0.08535761, 0.08533944, 0.23192677],\n",
              "      dtype=float32)"
            ]
          },
          "metadata": {},
          "execution_count": 22
        }
      ]
    },
    {
      "cell_type": "code",
      "source": [
        "model.summary()"
      ],
      "metadata": {
        "id": "6RsQPHyYuNGe",
        "colab": {
          "base_uri": "https://localhost:8080/"
        },
        "outputId": "f2e2d7dd-5601-4e9a-e40d-f94b02c88956"
      },
      "execution_count": 23,
      "outputs": [
        {
          "output_type": "stream",
          "name": "stdout",
          "text": [
            "Model: \"sequential\"\n",
            "_________________________________________________________________\n",
            " Layer (type)                Output Shape              Param #   \n",
            "=================================================================\n",
            " flatten (Flatten)           (None, 784)               0         \n",
            "                                                                 \n",
            " dropout (Dropout)           (None, 784)               0         \n",
            "                                                                 \n",
            " batch_normalization (Batch  (None, 784)               3136      \n",
            " Normalization)                                                  \n",
            "                                                                 \n",
            " dense (Dense)               (None, 256)               200960    \n",
            "                                                                 \n",
            " dropout_1 (Dropout)         (None, 256)               0         \n",
            "                                                                 \n",
            " batch_normalization_1 (Bat  (None, 256)               1024      \n",
            " chNormalization)                                                \n",
            "                                                                 \n",
            " dense_1 (Dense)             (None, 512)               131584    \n",
            "                                                                 \n",
            " dropout_2 (Dropout)         (None, 512)               0         \n",
            "                                                                 \n",
            " batch_normalization_2 (Bat  (None, 512)               2048      \n",
            " chNormalization)                                                \n",
            "                                                                 \n",
            " dense_2 (Dense)             (None, 512)               262656    \n",
            "                                                                 \n",
            " dropout_3 (Dropout)         (None, 512)               0         \n",
            "                                                                 \n",
            " dense_3 (Dense)             (None, 10)                5130      \n",
            "                                                                 \n",
            "=================================================================\n",
            "Total params: 606538 (2.31 MB)\n",
            "Trainable params: 603434 (2.30 MB)\n",
            "Non-trainable params: 3104 (12.12 KB)\n",
            "_________________________________________________________________\n"
          ]
        }
      ]
    },
    {
      "cell_type": "code",
      "source": [
        "hnyetjn hrte()"
      ],
      "metadata": {
        "id": "S4hcxZttmp-0",
        "outputId": "75e9ef12-1933-434e-da28-b5c792a98cb7",
        "colab": {
          "base_uri": "https://localhost:8080/",
          "height": 143
        }
      },
      "execution_count": 24,
      "outputs": [
        {
          "output_type": "error",
          "ename": "SyntaxError",
          "evalue": "invalid syntax (<ipython-input-24-1a3818e70946>, line 1)",
          "traceback": [
            "\u001b[0;36m  File \u001b[0;32m\"<ipython-input-24-1a3818e70946>\"\u001b[0;36m, line \u001b[0;32m1\u001b[0m\n\u001b[0;31m    hnyetjn hrte()\u001b[0m\n\u001b[0m            ^\u001b[0m\n\u001b[0;31mSyntaxError\u001b[0m\u001b[0;31m:\u001b[0m invalid syntax\n"
          ]
        }
      ]
    }
  ]
}