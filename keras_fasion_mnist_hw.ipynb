{
  "nbformat": 4,
  "nbformat_minor": 0,
  "metadata": {
    "colab": {
      "provenance": [],
      "gpuType": "T4",
      "authorship_tag": "ABX9TyMY8g9m26XWph2B4L8YkNSz",
      "include_colab_link": true
    },
    "kernelspec": {
      "name": "python3",
      "display_name": "Python 3"
    },
    "language_info": {
      "name": "python"
    },
    "accelerator": "GPU"
  },
  "cells": [
    {
      "cell_type": "markdown",
      "metadata": {
        "id": "view-in-github",
        "colab_type": "text"
      },
      "source": [
        "<a href=\"https://colab.research.google.com/github/PavelStelmakhV/hw310-keras-fasion-mnist/blob/main/keras_fasion_mnist_hw.ipynb\" target=\"_parent\"><img src=\"https://colab.research.google.com/assets/colab-badge.svg\" alt=\"Open In Colab\"/></a>"
      ]
    },
    {
      "cell_type": "code",
      "source": [
        "import tensorflow as tf\n",
        "from tensorflow.python.client import device_lib\n",
        "print(device_lib.list_local_devices())"
      ],
      "metadata": {
        "colab": {
          "base_uri": "https://localhost:8080/"
        },
        "id": "CQL6wYJUms6Y",
        "outputId": "0285f900-9941-45b6-fa47-641656582bc0"
      },
      "execution_count": 1,
      "outputs": [
        {
          "output_type": "stream",
          "name": "stdout",
          "text": [
            "[name: \"/device:CPU:0\"\n",
            "device_type: \"CPU\"\n",
            "memory_limit: 268435456\n",
            "locality {\n",
            "}\n",
            "incarnation: 11866892764601594010\n",
            "xla_global_id: -1\n",
            "]\n"
          ]
        }
      ]
    },
    {
      "cell_type": "code",
      "execution_count": 2,
      "metadata": {
        "id": "vv7w0bgAVQPO"
      },
      "outputs": [],
      "source": [
        "import tensorflow as tf\n",
        "import numpy as np\n",
        "import matplotlib.pyplot as plt\n",
        "import tf_keras\n",
        "\n",
        "from keras import layers\n",
        "from keras import models\n",
        "from keras import regularizers\n",
        "from keras import callbacks\n",
        "from keras import initializers\n",
        "from keras.layers import BatchNormalization\n",
        "from keras.models import load_model\n",
        "from tensorflow.keras.utils import to_categorical"
      ]
    },
    {
      "cell_type": "code",
      "source": [
        "num_classes = 10"
      ],
      "metadata": {
        "id": "RvT1uYJsa5cn"
      },
      "execution_count": 3,
      "outputs": []
    },
    {
      "cell_type": "code",
      "source": [
        "fashion_mnist = tf.keras.datasets.fashion_mnist\n",
        "\n",
        "(x_train, y_train), (x_test, y_test) = fashion_mnist.load_data()"
      ],
      "metadata": {
        "id": "mOpywsNAzfGB",
        "outputId": "b24d6f9e-dad2-4195-b732-2caee27e2925",
        "colab": {
          "base_uri": "https://localhost:8080/"
        }
      },
      "execution_count": 4,
      "outputs": [
        {
          "output_type": "stream",
          "name": "stdout",
          "text": [
            "Downloading data from https://storage.googleapis.com/tensorflow/tf-keras-datasets/train-labels-idx1-ubyte.gz\n",
            "29515/29515 [==============================] - 0s 0us/step\n",
            "Downloading data from https://storage.googleapis.com/tensorflow/tf-keras-datasets/train-images-idx3-ubyte.gz\n",
            "26421880/26421880 [==============================] - 0s 0us/step\n",
            "Downloading data from https://storage.googleapis.com/tensorflow/tf-keras-datasets/t10k-labels-idx1-ubyte.gz\n",
            "5148/5148 [==============================] - 0s 0us/step\n",
            "Downloading data from https://storage.googleapis.com/tensorflow/tf-keras-datasets/t10k-images-idx3-ubyte.gz\n",
            "4422102/4422102 [==============================] - 0s 0us/step\n"
          ]
        }
      ]
    },
    {
      "cell_type": "code",
      "source": [
        "def drow_hist(data):\n",
        "  plt.figure(figsize=(8,6), dpi= 80)\n",
        "  _ = plt.hist(data,\n",
        "              bins=num_classes,\n",
        "              stacked=True,\n",
        "              density=False,\n",
        "              range=(0,10),\n",
        "              rwidth=0.9,\n",
        "              )"
      ],
      "metadata": {
        "id": "NjEvuOvomEoT"
      },
      "execution_count": 5,
      "outputs": []
    },
    {
      "cell_type": "code",
      "source": [
        "# create validation data\n",
        "val_size = 6600\n",
        "\n",
        "x_val = x_train[-val_size:, :, :]\n",
        "x_train = x_train[:-val_size, :, :]\n",
        "\n",
        "y_val = y_train[-val_size:]\n",
        "y_train = y_train[:-val_size]"
      ],
      "metadata": {
        "id": "jAs92sDoVU89"
      },
      "execution_count": 6,
      "outputs": []
    },
    {
      "cell_type": "code",
      "source": [
        "# mirror train image\n",
        "# x_train_add = np.rot90(x_train, k=1, axes=(1,2))\n",
        "# x_train_add = np.transpose(x_train_add, (0, 2, 1))"
      ],
      "metadata": {
        "id": "UHNuw-3D_v7x"
      },
      "execution_count": 7,
      "outputs": []
    },
    {
      "cell_type": "code",
      "source": [
        "# y_train_add = y_train.copy()"
      ],
      "metadata": {
        "id": "TNDXV8RfZbt1"
      },
      "execution_count": 8,
      "outputs": []
    },
    {
      "cell_type": "code",
      "source": [
        "# # remove boots image from addition data [5, 7, 9]\n",
        "# for i in [5, 7, 9]:\n",
        "#     index = np.where(y_train_add == i )\n",
        "#     x_train_add = np.delete(x_train_add, index , axis=0)\n",
        "#     y_train_add = np.delete(y_train_add, index , axis=0)"
      ],
      "metadata": {
        "id": "506yp4e5UqKp"
      },
      "execution_count": 9,
      "outputs": []
    },
    {
      "cell_type": "code",
      "source": [
        "# x_train_add.shape"
      ],
      "metadata": {
        "id": "WB-PVgBb116E"
      },
      "execution_count": 10,
      "outputs": []
    },
    {
      "cell_type": "code",
      "source": [
        "# y_train_add.shape"
      ],
      "metadata": {
        "id": "MjteIWwr2V-N"
      },
      "execution_count": 11,
      "outputs": []
    },
    {
      "cell_type": "code",
      "source": [
        "# x_train = np.concatenate([\n",
        "#     x_train,\n",
        "#     x_train_add[:10000:, :, :]\n",
        "# ])"
      ],
      "metadata": {
        "id": "C25g0-L5PuhV"
      },
      "execution_count": 12,
      "outputs": []
    },
    {
      "cell_type": "code",
      "source": [
        "# y_train = np.concatenate([\n",
        "#     y_train,\n",
        "#     y_train_add[:10000]\n",
        "# ])"
      ],
      "metadata": {
        "id": "JiyI9CE-RWnR"
      },
      "execution_count": 13,
      "outputs": []
    },
    {
      "cell_type": "code",
      "source": [
        "# drow_hist(y_train)"
      ],
      "metadata": {
        "id": "j0FZ4_7DpRVw"
      },
      "execution_count": 14,
      "outputs": []
    },
    {
      "cell_type": "code",
      "source": [
        "# plt.figure()\n",
        "# plt.imshow(x_train[7])\n",
        "# plt.colorbar()\n",
        "# plt.grid(False)\n",
        "# plt.show()"
      ],
      "metadata": {
        "id": "mq_QalIABCeU"
      },
      "execution_count": 15,
      "outputs": []
    },
    {
      "cell_type": "code",
      "source": [
        "# plt.figure()\n",
        "# plt.imshow(x_train_add[0])\n",
        "# plt.colorbar()\n",
        "# plt.grid(False)\n",
        "# plt.show()"
      ],
      "metadata": {
        "id": "CDLNL7Zw3HEc"
      },
      "execution_count": 16,
      "outputs": []
    },
    {
      "cell_type": "code",
      "source": [
        "x_train = x_train.astype('float32') / 255\n",
        "x_test = x_test.astype('float32') / 255\n",
        "x_val = x_val.astype('float32') / 255\n",
        "\n",
        "y_train = to_categorical(y_train)\n",
        "y_test = to_categorical(y_test)\n",
        "y_val = to_categorical(y_val)"
      ],
      "metadata": {
        "id": "t2gucjsJ0KUi"
      },
      "execution_count": 17,
      "outputs": []
    },
    {
      "cell_type": "code",
      "source": [
        "# class_names = ['T-shirt/top', 'Trouser', 'Pullover', 'Dress', 'Coat',\n",
        "#                'Sandal', 'Shirt', 'Sneaker', 'Bag', 'Ankle boot']\n",
        "\n",
        "# plt.figure(figsize=(10,10))\n",
        "# for i in range(25):\n",
        "#     plt.subplot(5,5,i+1)\n",
        "#     plt.xticks([])\n",
        "#     plt.yticks([])\n",
        "#     plt.grid(False)\n",
        "#     plt.imshow(x_train[i+50000], cmap=plt.cm.binary)\n",
        "#     plt.xlabel(class_names[int(y_train[i+50000])])\n",
        "# plt.show()"
      ],
      "metadata": {
        "id": "h4LveKxM4hyC"
      },
      "execution_count": 18,
      "outputs": []
    },
    {
      "cell_type": "code",
      "source": [
        "# plt.figure(figsize=(10,10))\n",
        "# for i in range(25):\n",
        "#     plt.subplot(5,5,i+1)\n",
        "#     plt.xticks([])\n",
        "#     plt.yticks([])\n",
        "#     plt.grid(False)\n",
        "#     plt.imshow(x_train[i], cmap=plt.cm.binary)\n",
        "#     plt.xlabel(class_names[int(y_train[i])])\n",
        "# plt.show()"
      ],
      "metadata": {
        "id": "hljEDYd55d8Q"
      },
      "execution_count": 19,
      "outputs": []
    },
    {
      "cell_type": "code",
      "source": [
        "w_init_tanh = initializers.glorot_normal(seed=111)\n",
        "w_init_relu = initializers.HeNormal(seed=66)\n",
        "# w_init_relu = initializers.HeUniform(seed=24)\n",
        "b_init = initializers.Zeros()"
      ],
      "metadata": {
        "id": "yL9QTEtBGy4N"
      },
      "execution_count": 20,
      "outputs": []
    },
    {
      "cell_type": "code",
      "source": [
        "def layer_relu(model, neurons, drop_out):\n",
        "  model.add(BatchNormalization())\n",
        "  model.add(layers.Dense(neurons,\n",
        "                       activation='relu',\n",
        "                       kernel_initializer=w_init_relu,\n",
        "                       bias_initializer=b_init))\n",
        "  model.add(layers.Dropout(drop_out))\n",
        "  print(drop_out)\n",
        "  return model"
      ],
      "metadata": {
        "id": "ZZgs_25rKBCp"
      },
      "execution_count": 21,
      "outputs": []
    },
    {
      "cell_type": "code",
      "source": [
        "def layer_tanh(model, neurons, drop_out):\n",
        "  model.add(BatchNormalization())\n",
        "  model.add(layers.Dense(neurons,\n",
        "                        activation='tanh',\n",
        "                        kernel_initializer=w_init_tanh,\n",
        "                        bias_initializer=b_init))\n",
        "  model.add(layers.Dropout(drop_out))\n",
        "  return model"
      ],
      "metadata": {
        "id": "90JLLnkBR50t"
      },
      "execution_count": 22,
      "outputs": []
    },
    {
      "cell_type": "code",
      "source": [
        "model = models.Sequential()\n",
        "\n",
        "neurons = 256\n",
        "drop_out = 0.5\n",
        "\n",
        "model.add(layers.Flatten(input_shape=(28, 28)))\n",
        "model.add(layers.Dropout(0.3))\n",
        "\n",
        "model = layer_relu(model, neurons*1, drop_out)\n",
        "model = layer_tanh(model, neurons*2, drop_out)\n",
        "model = layer_relu(model, neurons*2, drop_out)\n",
        "# model = layer_relu(model, neurons*2)\n",
        "\n",
        "\n",
        "model.add(layers.Dense(10, activation='softmax'))"
      ],
      "metadata": {
        "id": "atS39i4d0aqW",
        "colab": {
          "base_uri": "https://localhost:8080/"
        },
        "outputId": "6871d245-ffe3-49e4-8393-e346326cf1aa"
      },
      "execution_count": 23,
      "outputs": [
        {
          "output_type": "stream",
          "name": "stdout",
          "text": [
            "0.4\n",
            "0.4\n"
          ]
        }
      ]
    },
    {
      "cell_type": "markdown",
      "source": [
        "++++++++++++++++++++++++++++++++++++++++++++++++++++++++++++++++++++++++++++++++"
      ],
      "metadata": {
        "id": "tZO7hl7pM63y"
      }
    },
    {
      "cell_type": "code",
      "source": [
        "optimizer = tf.keras.optimizers.Nadam(learning_rate=0.0004,\n",
        "                                      beta_1=0.9,\n",
        "                                      beta_2=0.999,\n",
        "                                      epsilon=1e-06\n",
        ")\n",
        "# optimizer = tf.keras.optimizers.experimental.RMSprop(learning_rate=0.0005,\n",
        "#                                                     rho=0.5,\n",
        "#                                                     momentum=-16,\n",
        "#                                                     epsilon=1e-07,\n",
        "#                                                     centered=False,\n",
        "#                                                     weight_decay=None,\n",
        "#                                                     clipnorm=None,\n",
        "#                                                     clipvalue=None,\n",
        "#                                                     global_clipnorm=None,\n",
        "#                                                     use_ema=False,\n",
        "#                                                     ema_momentum=0.99,\n",
        "#                                                     ema_overwrite_frequency=100,\n",
        "#                                                     jit_compile=True,\n",
        "#                                                     name='RMSprop',\n",
        "# )"
      ],
      "metadata": {
        "id": "EzfnaqIZlfy8"
      },
      "execution_count": 24,
      "outputs": []
    },
    {
      "cell_type": "markdown",
      "source": [
        "++++++++++++++++++++++++++++++++++++++++++++++++++++++++++++++++++++++++++++++++"
      ],
      "metadata": {
        "id": "KHmBptvOM95Z"
      }
    },
    {
      "cell_type": "code",
      "source": [
        "model.compile(#optimizer='adam',\n",
        "              # optimizer='adamax',\n",
        "              optimizer=optimizer,\n",
        "              # optimizer='rmsprop',\n",
        "              # optimizer='sgd',\n",
        "              # optimizer='adadelta',\n",
        "              # loss='binary_crossentropy',\n",
        "              loss=tf.keras.losses.CategoricalCrossentropy(),\n",
        "              metrics=['categorical_accuracy']) # sparse_categorical_accuracy"
      ],
      "metadata": {
        "id": "hENVaAC7ilNY"
      },
      "execution_count": 25,
      "outputs": []
    },
    {
      "cell_type": "code",
      "source": [
        "# callback = callbacks.EarlyStopping(monitor='val_loss',\n",
        "#                                    patience=15,\n",
        "#                                    restore_best_weights=True,\n",
        "#                                    )\n",
        "es = callbacks.EarlyStopping(monitor='val_loss', mode='min', verbose=0, patience=60)\n",
        "mc = callbacks.ModelCheckpoint('best_model.h5', monitor='categorical_accuracy', mode='max', verbose=0, save_best_only=True)\n"
      ],
      "metadata": {
        "id": "5ihU4exVlsjm"
      },
      "execution_count": 26,
      "outputs": []
    },
    {
      "cell_type": "code",
      "source": [
        "history = model.fit(x_train, y_train,\n",
        "                    epochs=1000,\n",
        "                    batch_size=128,\n",
        "                    # callbacks=[callback],\n",
        "                    callbacks=[mc, es],\n",
        "                    verbose=1, #многословие\n",
        "                    # validation_split=0.2\n",
        "                    validation_data=(x_val, y_val)\n",
        "                    )\n",
        "test_loss, test_acc = model.evaluate(x_test, y_test)\n",
        "print('\\nTest accuracy:', test_acc)"
      ],
      "metadata": {
        "id": "FH8HcMNm233I",
        "outputId": "fe6bf1ee-5c75-406a-c4b8-ad3b83ac6cf2",
        "colab": {
          "base_uri": "https://localhost:8080/"
        }
      },
      "execution_count": 27,
      "outputs": [
        {
          "output_type": "stream",
          "name": "stdout",
          "text": [
            "Epoch 1/1000\n",
            "418/418 [==============================] - 25s 50ms/step - loss: 0.9944 - categorical_accuracy: 0.6648 - val_loss: 0.4913 - val_categorical_accuracy: 0.8229\n",
            "Epoch 2/1000\n",
            "  2/418 [..............................] - ETA: 20s - loss: 0.6146 - categorical_accuracy: 0.7891"
          ]
        },
        {
          "output_type": "stream",
          "name": "stderr",
          "text": [
            "/usr/local/lib/python3.10/dist-packages/keras/src/engine/training.py:3103: UserWarning: You are saving your model as an HDF5 file via `model.save()`. This file format is considered legacy. We recommend using instead the native Keras format, e.g. `model.save('my_model.keras')`.\n",
            "  saving_api.save_model(\n"
          ]
        },
        {
          "output_type": "stream",
          "name": "stdout",
          "text": [
            "418/418 [==============================] - 13s 32ms/step - loss: 0.6548 - categorical_accuracy: 0.7643 - val_loss: 0.4425 - val_categorical_accuracy: 0.8345\n",
            "Epoch 3/1000\n",
            "418/418 [==============================] - 11s 26ms/step - loss: 0.5756 - categorical_accuracy: 0.7894 - val_loss: 0.4223 - val_categorical_accuracy: 0.8427\n",
            "Epoch 4/1000\n",
            "418/418 [==============================] - 11s 26ms/step - loss: 0.5327 - categorical_accuracy: 0.8041 - val_loss: 0.4075 - val_categorical_accuracy: 0.8456\n",
            "Epoch 5/1000\n",
            "418/418 [==============================] - 11s 26ms/step - loss: 0.5013 - categorical_accuracy: 0.8153 - val_loss: 0.3864 - val_categorical_accuracy: 0.8553\n",
            "Epoch 6/1000\n",
            "418/418 [==============================] - 10s 24ms/step - loss: 0.4866 - categorical_accuracy: 0.8221 - val_loss: 0.3876 - val_categorical_accuracy: 0.8541\n",
            "Epoch 7/1000\n",
            "418/418 [==============================] - 11s 26ms/step - loss: 0.4676 - categorical_accuracy: 0.8272 - val_loss: 0.3685 - val_categorical_accuracy: 0.8595\n",
            "Epoch 8/1000\n",
            "418/418 [==============================] - 11s 26ms/step - loss: 0.4501 - categorical_accuracy: 0.8324 - val_loss: 0.3706 - val_categorical_accuracy: 0.8609\n",
            "Epoch 9/1000\n",
            "418/418 [==============================] - 11s 26ms/step - loss: 0.4396 - categorical_accuracy: 0.8374 - val_loss: 0.3607 - val_categorical_accuracy: 0.8667\n",
            "Epoch 10/1000\n",
            "418/418 [==============================] - 11s 26ms/step - loss: 0.4355 - categorical_accuracy: 0.8404 - val_loss: 0.3545 - val_categorical_accuracy: 0.8659\n",
            "Epoch 11/1000\n",
            "418/418 [==============================] - 11s 27ms/step - loss: 0.4217 - categorical_accuracy: 0.8418 - val_loss: 0.3454 - val_categorical_accuracy: 0.8708\n",
            "Epoch 12/1000\n",
            "418/418 [==============================] - 11s 27ms/step - loss: 0.4153 - categorical_accuracy: 0.8454 - val_loss: 0.3443 - val_categorical_accuracy: 0.8711\n",
            "Epoch 13/1000\n",
            "418/418 [==============================] - 10s 24ms/step - loss: 0.4054 - categorical_accuracy: 0.8487 - val_loss: 0.3426 - val_categorical_accuracy: 0.8729\n",
            "Epoch 14/1000\n",
            "418/418 [==============================] - 11s 26ms/step - loss: 0.4048 - categorical_accuracy: 0.8478 - val_loss: 0.3378 - val_categorical_accuracy: 0.8750\n",
            "Epoch 15/1000\n",
            "418/418 [==============================] - 11s 26ms/step - loss: 0.3975 - categorical_accuracy: 0.8519 - val_loss: 0.3265 - val_categorical_accuracy: 0.8803\n",
            "Epoch 16/1000\n",
            "418/418 [==============================] - 11s 26ms/step - loss: 0.3909 - categorical_accuracy: 0.8540 - val_loss: 0.3257 - val_categorical_accuracy: 0.8780\n",
            "Epoch 17/1000\n",
            "418/418 [==============================] - 11s 26ms/step - loss: 0.3844 - categorical_accuracy: 0.8561 - val_loss: 0.3232 - val_categorical_accuracy: 0.8821\n",
            "Epoch 18/1000\n",
            "418/418 [==============================] - 11s 26ms/step - loss: 0.3815 - categorical_accuracy: 0.8575 - val_loss: 0.3300 - val_categorical_accuracy: 0.8780\n",
            "Epoch 19/1000\n",
            "418/418 [==============================] - 10s 25ms/step - loss: 0.3800 - categorical_accuracy: 0.8577 - val_loss: 0.3221 - val_categorical_accuracy: 0.8806\n",
            "Epoch 20/1000\n",
            "418/418 [==============================] - 10s 25ms/step - loss: 0.3752 - categorical_accuracy: 0.8589 - val_loss: 0.3098 - val_categorical_accuracy: 0.8853\n",
            "Epoch 21/1000\n",
            "418/418 [==============================] - 11s 26ms/step - loss: 0.3733 - categorical_accuracy: 0.8597 - val_loss: 0.3105 - val_categorical_accuracy: 0.8830\n",
            "Epoch 22/1000\n",
            "418/418 [==============================] - 11s 26ms/step - loss: 0.3677 - categorical_accuracy: 0.8638 - val_loss: 0.3085 - val_categorical_accuracy: 0.8885\n",
            "Epoch 23/1000\n",
            "418/418 [==============================] - 11s 26ms/step - loss: 0.3646 - categorical_accuracy: 0.8637 - val_loss: 0.3125 - val_categorical_accuracy: 0.8845\n",
            "Epoch 24/1000\n",
            "418/418 [==============================] - 11s 26ms/step - loss: 0.3634 - categorical_accuracy: 0.8638 - val_loss: 0.3154 - val_categorical_accuracy: 0.8845\n",
            "Epoch 25/1000\n",
            "418/418 [==============================] - 10s 25ms/step - loss: 0.3595 - categorical_accuracy: 0.8658 - val_loss: 0.3105 - val_categorical_accuracy: 0.8848\n",
            "Epoch 26/1000\n",
            "418/418 [==============================] - 10s 24ms/step - loss: 0.3590 - categorical_accuracy: 0.8637 - val_loss: 0.3040 - val_categorical_accuracy: 0.8894\n",
            "Epoch 27/1000\n",
            "418/418 [==============================] - 11s 26ms/step - loss: 0.3526 - categorical_accuracy: 0.8688 - val_loss: 0.3019 - val_categorical_accuracy: 0.8911\n",
            "Epoch 28/1000\n",
            "418/418 [==============================] - 11s 26ms/step - loss: 0.3493 - categorical_accuracy: 0.8689 - val_loss: 0.3027 - val_categorical_accuracy: 0.8900\n",
            "Epoch 29/1000\n",
            "418/418 [==============================] - 11s 26ms/step - loss: 0.3491 - categorical_accuracy: 0.8684 - val_loss: 0.2983 - val_categorical_accuracy: 0.8903\n",
            "Epoch 30/1000\n",
            "418/418 [==============================] - 11s 26ms/step - loss: 0.3536 - categorical_accuracy: 0.8677 - val_loss: 0.2987 - val_categorical_accuracy: 0.8882\n",
            "Epoch 31/1000\n",
            "418/418 [==============================] - 11s 26ms/step - loss: 0.3469 - categorical_accuracy: 0.8700 - val_loss: 0.3046 - val_categorical_accuracy: 0.8879\n",
            "Epoch 32/1000\n",
            "418/418 [==============================] - 10s 24ms/step - loss: 0.3435 - categorical_accuracy: 0.8713 - val_loss: 0.2956 - val_categorical_accuracy: 0.8895\n",
            "Epoch 33/1000\n",
            "418/418 [==============================] - 12s 29ms/step - loss: 0.3397 - categorical_accuracy: 0.8714 - val_loss: 0.2949 - val_categorical_accuracy: 0.8895\n",
            "Epoch 34/1000\n",
            "418/418 [==============================] - 11s 26ms/step - loss: 0.3398 - categorical_accuracy: 0.8725 - val_loss: 0.2977 - val_categorical_accuracy: 0.8891\n",
            "Epoch 35/1000\n",
            "418/418 [==============================] - 11s 26ms/step - loss: 0.3352 - categorical_accuracy: 0.8748 - val_loss: 0.2939 - val_categorical_accuracy: 0.8914\n",
            "Epoch 36/1000\n",
            "418/418 [==============================] - 11s 26ms/step - loss: 0.3373 - categorical_accuracy: 0.8730 - val_loss: 0.2906 - val_categorical_accuracy: 0.8921\n",
            "Epoch 37/1000\n",
            "418/418 [==============================] - 11s 26ms/step - loss: 0.3383 - categorical_accuracy: 0.8742 - val_loss: 0.2900 - val_categorical_accuracy: 0.8930\n",
            "Epoch 38/1000\n",
            "418/418 [==============================] - 11s 27ms/step - loss: 0.3329 - categorical_accuracy: 0.8753 - val_loss: 0.2948 - val_categorical_accuracy: 0.8912\n",
            "Epoch 39/1000\n",
            "418/418 [==============================] - 10s 24ms/step - loss: 0.3343 - categorical_accuracy: 0.8746 - val_loss: 0.2954 - val_categorical_accuracy: 0.8923\n",
            "Epoch 40/1000\n",
            "418/418 [==============================] - 10s 25ms/step - loss: 0.3328 - categorical_accuracy: 0.8752 - val_loss: 0.2895 - val_categorical_accuracy: 0.8921\n",
            "Epoch 41/1000\n",
            "418/418 [==============================] - 11s 26ms/step - loss: 0.3314 - categorical_accuracy: 0.8753 - val_loss: 0.2861 - val_categorical_accuracy: 0.8929\n",
            "Epoch 42/1000\n",
            "418/418 [==============================] - 11s 26ms/step - loss: 0.3296 - categorical_accuracy: 0.8760 - val_loss: 0.2947 - val_categorical_accuracy: 0.8911\n",
            "Epoch 43/1000\n",
            "418/418 [==============================] - 11s 26ms/step - loss: 0.3266 - categorical_accuracy: 0.8789 - val_loss: 0.2860 - val_categorical_accuracy: 0.8950\n",
            "Epoch 44/1000\n",
            "418/418 [==============================] - 11s 26ms/step - loss: 0.3280 - categorical_accuracy: 0.8767 - val_loss: 0.2918 - val_categorical_accuracy: 0.8950\n",
            "Epoch 45/1000\n",
            "418/418 [==============================] - 11s 26ms/step - loss: 0.3244 - categorical_accuracy: 0.8778 - val_loss: 0.2889 - val_categorical_accuracy: 0.8950\n",
            "Epoch 46/1000\n",
            "418/418 [==============================] - 10s 24ms/step - loss: 0.3258 - categorical_accuracy: 0.8777 - val_loss: 0.2848 - val_categorical_accuracy: 0.8947\n",
            "Epoch 47/1000\n",
            "418/418 [==============================] - 11s 26ms/step - loss: 0.3219 - categorical_accuracy: 0.8794 - val_loss: 0.2842 - val_categorical_accuracy: 0.8930\n",
            "Epoch 48/1000\n",
            "418/418 [==============================] - 11s 26ms/step - loss: 0.3203 - categorical_accuracy: 0.8812 - val_loss: 0.2861 - val_categorical_accuracy: 0.8945\n",
            "Epoch 49/1000\n",
            "418/418 [==============================] - 11s 26ms/step - loss: 0.3176 - categorical_accuracy: 0.8812 - val_loss: 0.2879 - val_categorical_accuracy: 0.8950\n",
            "Epoch 50/1000\n",
            "418/418 [==============================] - 11s 26ms/step - loss: 0.3208 - categorical_accuracy: 0.8774 - val_loss: 0.2880 - val_categorical_accuracy: 0.8948\n",
            "Epoch 51/1000\n",
            "418/418 [==============================] - 11s 26ms/step - loss: 0.3204 - categorical_accuracy: 0.8804 - val_loss: 0.2866 - val_categorical_accuracy: 0.8944\n",
            "Epoch 52/1000\n",
            "418/418 [==============================] - 10s 25ms/step - loss: 0.3191 - categorical_accuracy: 0.8811 - val_loss: 0.2873 - val_categorical_accuracy: 0.8933\n",
            "Epoch 53/1000\n",
            "418/418 [==============================] - 10s 25ms/step - loss: 0.3154 - categorical_accuracy: 0.8807 - val_loss: 0.2837 - val_categorical_accuracy: 0.8948\n",
            "Epoch 54/1000\n",
            "418/418 [==============================] - 11s 27ms/step - loss: 0.3186 - categorical_accuracy: 0.8813 - val_loss: 0.2902 - val_categorical_accuracy: 0.8939\n",
            "Epoch 55/1000\n",
            "418/418 [==============================] - 12s 28ms/step - loss: 0.3155 - categorical_accuracy: 0.8817 - val_loss: 0.2804 - val_categorical_accuracy: 0.8962\n",
            "Epoch 56/1000\n",
            "418/418 [==============================] - 11s 26ms/step - loss: 0.3152 - categorical_accuracy: 0.8821 - val_loss: 0.2778 - val_categorical_accuracy: 0.8950\n",
            "Epoch 57/1000\n",
            "418/418 [==============================] - 11s 26ms/step - loss: 0.3155 - categorical_accuracy: 0.8823 - val_loss: 0.2846 - val_categorical_accuracy: 0.8927\n",
            "Epoch 58/1000\n",
            "418/418 [==============================] - 11s 26ms/step - loss: 0.3111 - categorical_accuracy: 0.8828 - val_loss: 0.2819 - val_categorical_accuracy: 0.8973\n",
            "Epoch 59/1000\n",
            "418/418 [==============================] - 11s 26ms/step - loss: 0.3141 - categorical_accuracy: 0.8826 - val_loss: 0.2803 - val_categorical_accuracy: 0.8974\n",
            "Epoch 60/1000\n",
            "418/418 [==============================] - 10s 24ms/step - loss: 0.3095 - categorical_accuracy: 0.8838 - val_loss: 0.2809 - val_categorical_accuracy: 0.8994\n",
            "Epoch 61/1000\n",
            "418/418 [==============================] - 11s 26ms/step - loss: 0.3101 - categorical_accuracy: 0.8831 - val_loss: 0.2792 - val_categorical_accuracy: 0.8980\n",
            "Epoch 62/1000\n",
            "418/418 [==============================] - 11s 26ms/step - loss: 0.3088 - categorical_accuracy: 0.8836 - val_loss: 0.2750 - val_categorical_accuracy: 0.8994\n",
            "Epoch 63/1000\n",
            "418/418 [==============================] - 11s 26ms/step - loss: 0.3109 - categorical_accuracy: 0.8831 - val_loss: 0.2767 - val_categorical_accuracy: 0.9002\n",
            "Epoch 64/1000\n",
            "418/418 [==============================] - 11s 26ms/step - loss: 0.3070 - categorical_accuracy: 0.8843 - val_loss: 0.2780 - val_categorical_accuracy: 0.8967\n",
            "Epoch 65/1000\n",
            "418/418 [==============================] - 11s 26ms/step - loss: 0.3052 - categorical_accuracy: 0.8854 - val_loss: 0.2841 - val_categorical_accuracy: 0.8973\n",
            "Epoch 66/1000\n",
            "418/418 [==============================] - 10s 25ms/step - loss: 0.3052 - categorical_accuracy: 0.8848 - val_loss: 0.2804 - val_categorical_accuracy: 0.8974\n",
            "Epoch 67/1000\n",
            "418/418 [==============================] - 11s 25ms/step - loss: 0.3065 - categorical_accuracy: 0.8849 - val_loss: 0.2784 - val_categorical_accuracy: 0.8977\n",
            "Epoch 68/1000\n",
            "418/418 [==============================] - 11s 26ms/step - loss: 0.3007 - categorical_accuracy: 0.8866 - val_loss: 0.2812 - val_categorical_accuracy: 0.8974\n",
            "Epoch 69/1000\n",
            "418/418 [==============================] - 11s 26ms/step - loss: 0.3051 - categorical_accuracy: 0.8849 - val_loss: 0.2751 - val_categorical_accuracy: 0.8980\n",
            "Epoch 70/1000\n",
            "418/418 [==============================] - 11s 26ms/step - loss: 0.3004 - categorical_accuracy: 0.8866 - val_loss: 0.2806 - val_categorical_accuracy: 0.8988\n",
            "Epoch 71/1000\n",
            "418/418 [==============================] - 11s 26ms/step - loss: 0.3032 - categorical_accuracy: 0.8865 - val_loss: 0.2757 - val_categorical_accuracy: 0.8980\n",
            "Epoch 72/1000\n",
            "418/418 [==============================] - 11s 26ms/step - loss: 0.3035 - categorical_accuracy: 0.8856 - val_loss: 0.2821 - val_categorical_accuracy: 0.8982\n",
            "Epoch 73/1000\n",
            "418/418 [==============================] - 10s 24ms/step - loss: 0.2997 - categorical_accuracy: 0.8857 - val_loss: 0.2818 - val_categorical_accuracy: 0.8938\n",
            "Epoch 74/1000\n",
            "418/418 [==============================] - 11s 26ms/step - loss: 0.3019 - categorical_accuracy: 0.8874 - val_loss: 0.2790 - val_categorical_accuracy: 0.8995\n",
            "Epoch 75/1000\n",
            "418/418 [==============================] - 11s 26ms/step - loss: 0.2966 - categorical_accuracy: 0.8886 - val_loss: 0.2748 - val_categorical_accuracy: 0.8968\n",
            "Epoch 76/1000\n",
            "418/418 [==============================] - 12s 29ms/step - loss: 0.3023 - categorical_accuracy: 0.8859 - val_loss: 0.2833 - val_categorical_accuracy: 0.8929\n",
            "Epoch 77/1000\n",
            "418/418 [==============================] - 11s 26ms/step - loss: 0.2971 - categorical_accuracy: 0.8870 - val_loss: 0.2764 - val_categorical_accuracy: 0.8962\n",
            "Epoch 78/1000\n",
            "418/418 [==============================] - 11s 26ms/step - loss: 0.3003 - categorical_accuracy: 0.8875 - val_loss: 0.2738 - val_categorical_accuracy: 0.8980\n",
            "Epoch 79/1000\n",
            "418/418 [==============================] - 11s 27ms/step - loss: 0.3005 - categorical_accuracy: 0.8864 - val_loss: 0.2737 - val_categorical_accuracy: 0.8973\n",
            "Epoch 80/1000\n",
            "418/418 [==============================] - 10s 25ms/step - loss: 0.3014 - categorical_accuracy: 0.8858 - val_loss: 0.2748 - val_categorical_accuracy: 0.9008\n",
            "Epoch 81/1000\n",
            "418/418 [==============================] - 11s 26ms/step - loss: 0.2971 - categorical_accuracy: 0.8880 - val_loss: 0.2738 - val_categorical_accuracy: 0.8995\n",
            "Epoch 82/1000\n",
            "418/418 [==============================] - 11s 26ms/step - loss: 0.2986 - categorical_accuracy: 0.8869 - val_loss: 0.2729 - val_categorical_accuracy: 0.8988\n",
            "Epoch 83/1000\n",
            "418/418 [==============================] - 11s 26ms/step - loss: 0.2980 - categorical_accuracy: 0.8869 - val_loss: 0.2775 - val_categorical_accuracy: 0.8980\n",
            "Epoch 84/1000\n",
            "418/418 [==============================] - 11s 26ms/step - loss: 0.2964 - categorical_accuracy: 0.8873 - val_loss: 0.2792 - val_categorical_accuracy: 0.8962\n",
            "Epoch 85/1000\n",
            "418/418 [==============================] - 11s 26ms/step - loss: 0.2953 - categorical_accuracy: 0.8890 - val_loss: 0.2726 - val_categorical_accuracy: 0.8965\n",
            "Epoch 86/1000\n",
            "418/418 [==============================] - 11s 26ms/step - loss: 0.2977 - categorical_accuracy: 0.8864 - val_loss: 0.2746 - val_categorical_accuracy: 0.8988\n",
            "Epoch 87/1000\n",
            "418/418 [==============================] - 10s 24ms/step - loss: 0.2968 - categorical_accuracy: 0.8877 - val_loss: 0.2738 - val_categorical_accuracy: 0.9000\n",
            "Epoch 88/1000\n",
            "418/418 [==============================] - 11s 26ms/step - loss: 0.2953 - categorical_accuracy: 0.8882 - val_loss: 0.2785 - val_categorical_accuracy: 0.8952\n",
            "Epoch 89/1000\n",
            "418/418 [==============================] - 11s 26ms/step - loss: 0.2944 - categorical_accuracy: 0.8893 - val_loss: 0.2722 - val_categorical_accuracy: 0.8968\n",
            "Epoch 90/1000\n",
            "418/418 [==============================] - 11s 26ms/step - loss: 0.2964 - categorical_accuracy: 0.8883 - val_loss: 0.2757 - val_categorical_accuracy: 0.8983\n",
            "Epoch 91/1000\n",
            "418/418 [==============================] - 11s 26ms/step - loss: 0.2925 - categorical_accuracy: 0.8887 - val_loss: 0.2750 - val_categorical_accuracy: 0.9014\n",
            "Epoch 92/1000\n",
            "418/418 [==============================] - 11s 26ms/step - loss: 0.2922 - categorical_accuracy: 0.8905 - val_loss: 0.2728 - val_categorical_accuracy: 0.8967\n",
            "Epoch 93/1000\n",
            "418/418 [==============================] - 11s 25ms/step - loss: 0.2922 - categorical_accuracy: 0.8890 - val_loss: 0.2771 - val_categorical_accuracy: 0.8977\n",
            "Epoch 94/1000\n",
            "418/418 [==============================] - 10s 25ms/step - loss: 0.2942 - categorical_accuracy: 0.8897 - val_loss: 0.2712 - val_categorical_accuracy: 0.8986\n",
            "Epoch 95/1000\n",
            "418/418 [==============================] - 11s 27ms/step - loss: 0.2899 - categorical_accuracy: 0.8910 - val_loss: 0.2732 - val_categorical_accuracy: 0.8971\n",
            "Epoch 96/1000\n",
            "418/418 [==============================] - 11s 26ms/step - loss: 0.2881 - categorical_accuracy: 0.8902 - val_loss: 0.2733 - val_categorical_accuracy: 0.8989\n",
            "Epoch 97/1000\n",
            "418/418 [==============================] - 12s 29ms/step - loss: 0.2903 - categorical_accuracy: 0.8903 - val_loss: 0.2737 - val_categorical_accuracy: 0.8992\n",
            "Epoch 98/1000\n",
            "418/418 [==============================] - 11s 26ms/step - loss: 0.2919 - categorical_accuracy: 0.8908 - val_loss: 0.2733 - val_categorical_accuracy: 0.9005\n",
            "Epoch 99/1000\n",
            "418/418 [==============================] - 11s 26ms/step - loss: 0.2922 - categorical_accuracy: 0.8899 - val_loss: 0.2770 - val_categorical_accuracy: 0.8968\n",
            "Epoch 100/1000\n",
            "418/418 [==============================] - 10s 25ms/step - loss: 0.2895 - categorical_accuracy: 0.8908 - val_loss: 0.2719 - val_categorical_accuracy: 0.9000\n",
            "Epoch 101/1000\n",
            "418/418 [==============================] - 11s 25ms/step - loss: 0.2874 - categorical_accuracy: 0.8903 - val_loss: 0.2761 - val_categorical_accuracy: 0.8970\n",
            "Epoch 102/1000\n",
            "418/418 [==============================] - 11s 27ms/step - loss: 0.2900 - categorical_accuracy: 0.8913 - val_loss: 0.2711 - val_categorical_accuracy: 0.8976\n",
            "Epoch 103/1000\n",
            "418/418 [==============================] - 11s 26ms/step - loss: 0.2892 - categorical_accuracy: 0.8922 - val_loss: 0.2791 - val_categorical_accuracy: 0.8986\n",
            "Epoch 104/1000\n",
            "418/418 [==============================] - 11s 26ms/step - loss: 0.2889 - categorical_accuracy: 0.8903 - val_loss: 0.2758 - val_categorical_accuracy: 0.8980\n",
            "Epoch 105/1000\n",
            "418/418 [==============================] - 11s 26ms/step - loss: 0.2894 - categorical_accuracy: 0.8906 - val_loss: 0.2746 - val_categorical_accuracy: 0.9008\n",
            "Epoch 106/1000\n",
            "418/418 [==============================] - 11s 26ms/step - loss: 0.2860 - categorical_accuracy: 0.8914 - val_loss: 0.2809 - val_categorical_accuracy: 0.9002\n",
            "Epoch 107/1000\n",
            "418/418 [==============================] - 10s 24ms/step - loss: 0.2866 - categorical_accuracy: 0.8918 - val_loss: 0.2744 - val_categorical_accuracy: 0.9014\n",
            "Epoch 108/1000\n",
            "418/418 [==============================] - 11s 26ms/step - loss: 0.2850 - categorical_accuracy: 0.8924 - val_loss: 0.2738 - val_categorical_accuracy: 0.9005\n",
            "Epoch 109/1000\n",
            "418/418 [==============================] - 11s 26ms/step - loss: 0.2853 - categorical_accuracy: 0.8898 - val_loss: 0.2746 - val_categorical_accuracy: 0.9015\n",
            "Epoch 110/1000\n",
            "418/418 [==============================] - 11s 26ms/step - loss: 0.2861 - categorical_accuracy: 0.8908 - val_loss: 0.2723 - val_categorical_accuracy: 0.9032\n",
            "Epoch 111/1000\n",
            "418/418 [==============================] - 11s 26ms/step - loss: 0.2875 - categorical_accuracy: 0.8910 - val_loss: 0.2720 - val_categorical_accuracy: 0.9030\n",
            "Epoch 112/1000\n",
            "418/418 [==============================] - 11s 26ms/step - loss: 0.2848 - categorical_accuracy: 0.8919 - val_loss: 0.2739 - val_categorical_accuracy: 0.9033\n",
            "Epoch 113/1000\n",
            "418/418 [==============================] - 11s 25ms/step - loss: 0.2841 - categorical_accuracy: 0.8924 - val_loss: 0.2732 - val_categorical_accuracy: 0.9009\n",
            "Epoch 114/1000\n",
            "418/418 [==============================] - 11s 26ms/step - loss: 0.2823 - categorical_accuracy: 0.8937 - val_loss: 0.2663 - val_categorical_accuracy: 0.9015\n",
            "Epoch 115/1000\n",
            "418/418 [==============================] - 11s 27ms/step - loss: 0.2839 - categorical_accuracy: 0.8928 - val_loss: 0.2692 - val_categorical_accuracy: 0.8986\n",
            "Epoch 116/1000\n",
            "418/418 [==============================] - 11s 26ms/step - loss: 0.2824 - categorical_accuracy: 0.8939 - val_loss: 0.2718 - val_categorical_accuracy: 0.8997\n",
            "Epoch 117/1000\n",
            "418/418 [==============================] - 11s 26ms/step - loss: 0.2875 - categorical_accuracy: 0.8918 - val_loss: 0.2740 - val_categorical_accuracy: 0.8983\n",
            "Epoch 118/1000\n",
            "418/418 [==============================] - 12s 29ms/step - loss: 0.2852 - categorical_accuracy: 0.8916 - val_loss: 0.2759 - val_categorical_accuracy: 0.9012\n",
            "Epoch 119/1000\n",
            "418/418 [==============================] - 11s 26ms/step - loss: 0.2825 - categorical_accuracy: 0.8927 - val_loss: 0.2690 - val_categorical_accuracy: 0.9024\n",
            "Epoch 120/1000\n",
            "418/418 [==============================] - 10s 24ms/step - loss: 0.2809 - categorical_accuracy: 0.8946 - val_loss: 0.2716 - val_categorical_accuracy: 0.9018\n",
            "Epoch 121/1000\n",
            "418/418 [==============================] - 11s 27ms/step - loss: 0.2839 - categorical_accuracy: 0.8925 - val_loss: 0.2738 - val_categorical_accuracy: 0.9015\n",
            "Epoch 122/1000\n",
            "418/418 [==============================] - 11s 26ms/step - loss: 0.2784 - categorical_accuracy: 0.8944 - val_loss: 0.2719 - val_categorical_accuracy: 0.8997\n",
            "Epoch 123/1000\n",
            "418/418 [==============================] - 11s 27ms/step - loss: 0.2769 - categorical_accuracy: 0.8947 - val_loss: 0.2715 - val_categorical_accuracy: 0.8980\n",
            "Epoch 124/1000\n",
            "418/418 [==============================] - 11s 27ms/step - loss: 0.2803 - categorical_accuracy: 0.8928 - val_loss: 0.2712 - val_categorical_accuracy: 0.9018\n",
            "Epoch 125/1000\n",
            "418/418 [==============================] - 11s 27ms/step - loss: 0.2830 - categorical_accuracy: 0.8923 - val_loss: 0.2758 - val_categorical_accuracy: 0.8992\n",
            "Epoch 126/1000\n",
            "418/418 [==============================] - 11s 26ms/step - loss: 0.2812 - categorical_accuracy: 0.8931 - val_loss: 0.2730 - val_categorical_accuracy: 0.8985\n",
            "Epoch 127/1000\n",
            "418/418 [==============================] - 10s 25ms/step - loss: 0.2811 - categorical_accuracy: 0.8943 - val_loss: 0.2730 - val_categorical_accuracy: 0.8986\n",
            "Epoch 128/1000\n",
            "418/418 [==============================] - 11s 27ms/step - loss: 0.2778 - categorical_accuracy: 0.8955 - val_loss: 0.2750 - val_categorical_accuracy: 0.9005\n",
            "Epoch 129/1000\n",
            "418/418 [==============================] - 11s 26ms/step - loss: 0.2810 - categorical_accuracy: 0.8939 - val_loss: 0.2713 - val_categorical_accuracy: 0.9017\n",
            "Epoch 130/1000\n",
            "418/418 [==============================] - 11s 26ms/step - loss: 0.2780 - categorical_accuracy: 0.8940 - val_loss: 0.2740 - val_categorical_accuracy: 0.8995\n",
            "Epoch 131/1000\n",
            "418/418 [==============================] - 11s 26ms/step - loss: 0.2807 - categorical_accuracy: 0.8934 - val_loss: 0.2703 - val_categorical_accuracy: 0.9009\n",
            "Epoch 132/1000\n",
            "418/418 [==============================] - 11s 27ms/step - loss: 0.2800 - categorical_accuracy: 0.8947 - val_loss: 0.2739 - val_categorical_accuracy: 0.8998\n",
            "Epoch 133/1000\n",
            "418/418 [==============================] - 11s 25ms/step - loss: 0.2770 - categorical_accuracy: 0.8945 - val_loss: 0.2800 - val_categorical_accuracy: 0.8983\n",
            "Epoch 134/1000\n",
            "418/418 [==============================] - 10s 25ms/step - loss: 0.2807 - categorical_accuracy: 0.8944 - val_loss: 0.2711 - val_categorical_accuracy: 0.9021\n",
            "Epoch 135/1000\n",
            "418/418 [==============================] - 11s 26ms/step - loss: 0.2781 - categorical_accuracy: 0.8951 - val_loss: 0.2735 - val_categorical_accuracy: 0.9011\n",
            "Epoch 136/1000\n",
            "418/418 [==============================] - 11s 26ms/step - loss: 0.2814 - categorical_accuracy: 0.8935 - val_loss: 0.2723 - val_categorical_accuracy: 0.9002\n",
            "Epoch 137/1000\n",
            "418/418 [==============================] - 11s 27ms/step - loss: 0.2786 - categorical_accuracy: 0.8936 - val_loss: 0.2720 - val_categorical_accuracy: 0.8980\n",
            "Epoch 138/1000\n",
            "418/418 [==============================] - 11s 26ms/step - loss: 0.2772 - categorical_accuracy: 0.8950 - val_loss: 0.2684 - val_categorical_accuracy: 0.8976\n",
            "Epoch 139/1000\n",
            "418/418 [==============================] - 12s 30ms/step - loss: 0.2792 - categorical_accuracy: 0.8941 - val_loss: 0.2699 - val_categorical_accuracy: 0.8998\n",
            "Epoch 140/1000\n",
            "418/418 [==============================] - 11s 26ms/step - loss: 0.2783 - categorical_accuracy: 0.8954 - val_loss: 0.2718 - val_categorical_accuracy: 0.8989\n",
            "Epoch 141/1000\n",
            "418/418 [==============================] - 10s 25ms/step - loss: 0.2755 - categorical_accuracy: 0.8955 - val_loss: 0.2694 - val_categorical_accuracy: 0.9015\n",
            "Epoch 142/1000\n",
            "418/418 [==============================] - 11s 26ms/step - loss: 0.2769 - categorical_accuracy: 0.8948 - val_loss: 0.2727 - val_categorical_accuracy: 0.9003\n",
            "Epoch 143/1000\n",
            "418/418 [==============================] - 11s 26ms/step - loss: 0.2794 - categorical_accuracy: 0.8949 - val_loss: 0.2723 - val_categorical_accuracy: 0.9015\n",
            "Epoch 144/1000\n",
            "418/418 [==============================] - 11s 27ms/step - loss: 0.2743 - categorical_accuracy: 0.8963 - val_loss: 0.2732 - val_categorical_accuracy: 0.9008\n",
            "Epoch 145/1000\n",
            "418/418 [==============================] - 11s 27ms/step - loss: 0.2740 - categorical_accuracy: 0.8955 - val_loss: 0.2672 - val_categorical_accuracy: 0.9030\n",
            "Epoch 146/1000\n",
            "418/418 [==============================] - 11s 27ms/step - loss: 0.2808 - categorical_accuracy: 0.8946 - val_loss: 0.2669 - val_categorical_accuracy: 0.9026\n",
            "Epoch 147/1000\n",
            "418/418 [==============================] - 10s 25ms/step - loss: 0.2730 - categorical_accuracy: 0.8957 - val_loss: 0.2712 - val_categorical_accuracy: 0.9020\n",
            "Epoch 148/1000\n",
            "418/418 [==============================] - 11s 26ms/step - loss: 0.2728 - categorical_accuracy: 0.8973 - val_loss: 0.2685 - val_categorical_accuracy: 0.9029\n",
            "Epoch 149/1000\n",
            "418/418 [==============================] - 11s 26ms/step - loss: 0.2756 - categorical_accuracy: 0.8959 - val_loss: 0.2665 - val_categorical_accuracy: 0.9026\n",
            "Epoch 150/1000\n",
            "418/418 [==============================] - 11s 27ms/step - loss: 0.2735 - categorical_accuracy: 0.8962 - val_loss: 0.2625 - val_categorical_accuracy: 0.9035\n",
            "Epoch 151/1000\n",
            "418/418 [==============================] - 11s 27ms/step - loss: 0.2775 - categorical_accuracy: 0.8939 - val_loss: 0.2654 - val_categorical_accuracy: 0.9024\n",
            "Epoch 152/1000\n",
            "418/418 [==============================] - 11s 27ms/step - loss: 0.2749 - categorical_accuracy: 0.8964 - val_loss: 0.2721 - val_categorical_accuracy: 0.9026\n",
            "Epoch 153/1000\n",
            "418/418 [==============================] - 11s 27ms/step - loss: 0.2756 - categorical_accuracy: 0.8959 - val_loss: 0.2688 - val_categorical_accuracy: 0.9024\n",
            "Epoch 154/1000\n",
            "418/418 [==============================] - 10s 25ms/step - loss: 0.2699 - categorical_accuracy: 0.8971 - val_loss: 0.2728 - val_categorical_accuracy: 0.9009\n",
            "Epoch 155/1000\n",
            "418/418 [==============================] - 11s 26ms/step - loss: 0.2757 - categorical_accuracy: 0.8958 - val_loss: 0.2677 - val_categorical_accuracy: 0.9005\n",
            "Epoch 156/1000\n",
            "418/418 [==============================] - 11s 27ms/step - loss: 0.2721 - categorical_accuracy: 0.8954 - val_loss: 0.2726 - val_categorical_accuracy: 0.9008\n",
            "Epoch 157/1000\n",
            "418/418 [==============================] - 11s 27ms/step - loss: 0.2731 - categorical_accuracy: 0.8969 - val_loss: 0.2647 - val_categorical_accuracy: 0.8998\n",
            "Epoch 158/1000\n",
            "418/418 [==============================] - 11s 27ms/step - loss: 0.2727 - categorical_accuracy: 0.8970 - val_loss: 0.2684 - val_categorical_accuracy: 0.9015\n",
            "Epoch 159/1000\n",
            "418/418 [==============================] - 11s 27ms/step - loss: 0.2725 - categorical_accuracy: 0.8982 - val_loss: 0.2694 - val_categorical_accuracy: 0.8992\n",
            "Epoch 160/1000\n",
            "418/418 [==============================] - 12s 30ms/step - loss: 0.2706 - categorical_accuracy: 0.8975 - val_loss: 0.2693 - val_categorical_accuracy: 0.9012\n",
            "Epoch 161/1000\n",
            "418/418 [==============================] - 10s 25ms/step - loss: 0.2742 - categorical_accuracy: 0.8961 - val_loss: 0.2734 - val_categorical_accuracy: 0.9012\n",
            "Epoch 162/1000\n",
            "418/418 [==============================] - 11s 26ms/step - loss: 0.2716 - categorical_accuracy: 0.8968 - val_loss: 0.2724 - val_categorical_accuracy: 0.9000\n",
            "Epoch 163/1000\n",
            "418/418 [==============================] - 11s 26ms/step - loss: 0.2741 - categorical_accuracy: 0.8956 - val_loss: 0.2708 - val_categorical_accuracy: 0.9014\n",
            "Epoch 164/1000\n",
            "418/418 [==============================] - 11s 26ms/step - loss: 0.2732 - categorical_accuracy: 0.8953 - val_loss: 0.2662 - val_categorical_accuracy: 0.9014\n",
            "Epoch 165/1000\n",
            "418/418 [==============================] - 11s 27ms/step - loss: 0.2712 - categorical_accuracy: 0.8967 - val_loss: 0.2709 - val_categorical_accuracy: 0.9000\n",
            "Epoch 166/1000\n",
            "418/418 [==============================] - 11s 27ms/step - loss: 0.2706 - categorical_accuracy: 0.8985 - val_loss: 0.2703 - val_categorical_accuracy: 0.8997\n",
            "Epoch 167/1000\n",
            "418/418 [==============================] - 11s 27ms/step - loss: 0.2726 - categorical_accuracy: 0.8981 - val_loss: 0.2727 - val_categorical_accuracy: 0.9005\n",
            "Epoch 168/1000\n",
            "418/418 [==============================] - 10s 25ms/step - loss: 0.2721 - categorical_accuracy: 0.8978 - val_loss: 0.2739 - val_categorical_accuracy: 0.9002\n",
            "Epoch 169/1000\n",
            "418/418 [==============================] - 11s 26ms/step - loss: 0.2698 - categorical_accuracy: 0.8984 - val_loss: 0.2698 - val_categorical_accuracy: 0.9015\n",
            "Epoch 170/1000\n",
            "418/418 [==============================] - 11s 27ms/step - loss: 0.2685 - categorical_accuracy: 0.8984 - val_loss: 0.2674 - val_categorical_accuracy: 0.9026\n",
            "Epoch 171/1000\n",
            "418/418 [==============================] - 11s 27ms/step - loss: 0.2717 - categorical_accuracy: 0.8973 - val_loss: 0.2672 - val_categorical_accuracy: 0.9023\n",
            "Epoch 172/1000\n",
            "418/418 [==============================] - 11s 27ms/step - loss: 0.2705 - categorical_accuracy: 0.8972 - val_loss: 0.2674 - val_categorical_accuracy: 0.9012\n",
            "Epoch 173/1000\n",
            "418/418 [==============================] - 11s 27ms/step - loss: 0.2737 - categorical_accuracy: 0.8971 - val_loss: 0.2716 - val_categorical_accuracy: 0.9033\n",
            "Epoch 174/1000\n",
            "418/418 [==============================] - 11s 27ms/step - loss: 0.2719 - categorical_accuracy: 0.8974 - val_loss: 0.2692 - val_categorical_accuracy: 0.9000\n",
            "Epoch 175/1000\n",
            "418/418 [==============================] - 11s 25ms/step - loss: 0.2655 - categorical_accuracy: 0.8993 - val_loss: 0.2686 - val_categorical_accuracy: 0.9012\n",
            "Epoch 176/1000\n",
            "418/418 [==============================] - 11s 26ms/step - loss: 0.2697 - categorical_accuracy: 0.8984 - val_loss: 0.2677 - val_categorical_accuracy: 0.9005\n",
            "Epoch 177/1000\n",
            "418/418 [==============================] - 11s 27ms/step - loss: 0.2681 - categorical_accuracy: 0.8975 - val_loss: 0.2652 - val_categorical_accuracy: 0.9036\n",
            "Epoch 178/1000\n",
            "418/418 [==============================] - 11s 27ms/step - loss: 0.2688 - categorical_accuracy: 0.8983 - val_loss: 0.2701 - val_categorical_accuracy: 0.9030\n",
            "Epoch 179/1000\n",
            "418/418 [==============================] - 11s 27ms/step - loss: 0.2676 - categorical_accuracy: 0.8987 - val_loss: 0.2695 - val_categorical_accuracy: 0.8988\n",
            "Epoch 180/1000\n",
            "418/418 [==============================] - 11s 27ms/step - loss: 0.2695 - categorical_accuracy: 0.8978 - val_loss: 0.2683 - val_categorical_accuracy: 0.9015\n",
            "Epoch 181/1000\n",
            "418/418 [==============================] - 12s 30ms/step - loss: 0.2652 - categorical_accuracy: 0.8986 - val_loss: 0.2687 - val_categorical_accuracy: 0.9017\n",
            "Epoch 182/1000\n",
            "418/418 [==============================] - 11s 26ms/step - loss: 0.2685 - categorical_accuracy: 0.8988 - val_loss: 0.2716 - val_categorical_accuracy: 0.9015\n",
            "Epoch 183/1000\n",
            "418/418 [==============================] - 11s 26ms/step - loss: 0.2645 - categorical_accuracy: 0.8998 - val_loss: 0.2671 - val_categorical_accuracy: 0.9003\n",
            "Epoch 184/1000\n",
            "418/418 [==============================] - 11s 27ms/step - loss: 0.2670 - categorical_accuracy: 0.8997 - val_loss: 0.2719 - val_categorical_accuracy: 0.9002\n",
            "Epoch 185/1000\n",
            "418/418 [==============================] - 11s 27ms/step - loss: 0.2684 - categorical_accuracy: 0.8980 - val_loss: 0.2690 - val_categorical_accuracy: 0.9024\n",
            "Epoch 186/1000\n",
            "418/418 [==============================] - 11s 27ms/step - loss: 0.2665 - categorical_accuracy: 0.8988 - val_loss: 0.2650 - val_categorical_accuracy: 0.9036\n",
            "Epoch 187/1000\n",
            "418/418 [==============================] - 11s 27ms/step - loss: 0.2674 - categorical_accuracy: 0.8979 - val_loss: 0.2702 - val_categorical_accuracy: 0.9023\n",
            "Epoch 188/1000\n",
            "418/418 [==============================] - 11s 27ms/step - loss: 0.2697 - categorical_accuracy: 0.8965 - val_loss: 0.2704 - val_categorical_accuracy: 0.9038\n",
            "Epoch 189/1000\n",
            "418/418 [==============================] - 11s 25ms/step - loss: 0.2686 - categorical_accuracy: 0.8978 - val_loss: 0.2734 - val_categorical_accuracy: 0.9030\n",
            "Epoch 190/1000\n",
            "418/418 [==============================] - 11s 26ms/step - loss: 0.2650 - categorical_accuracy: 0.8990 - val_loss: 0.2694 - val_categorical_accuracy: 0.8991\n",
            "Epoch 191/1000\n",
            "418/418 [==============================] - 11s 27ms/step - loss: 0.2655 - categorical_accuracy: 0.8994 - val_loss: 0.2680 - val_categorical_accuracy: 0.9024\n",
            "Epoch 192/1000\n",
            "418/418 [==============================] - 11s 27ms/step - loss: 0.2671 - categorical_accuracy: 0.8976 - val_loss: 0.2710 - val_categorical_accuracy: 0.9012\n",
            "Epoch 193/1000\n",
            "418/418 [==============================] - 11s 27ms/step - loss: 0.2649 - categorical_accuracy: 0.8992 - val_loss: 0.2724 - val_categorical_accuracy: 0.9014\n",
            "Epoch 194/1000\n",
            "418/418 [==============================] - 11s 27ms/step - loss: 0.2630 - categorical_accuracy: 0.9013 - val_loss: 0.2702 - val_categorical_accuracy: 0.9008\n",
            "Epoch 195/1000\n",
            "418/418 [==============================] - 11s 27ms/step - loss: 0.2686 - categorical_accuracy: 0.8989 - val_loss: 0.2686 - val_categorical_accuracy: 0.9014\n",
            "Epoch 196/1000\n",
            "418/418 [==============================] - 10s 25ms/step - loss: 0.2662 - categorical_accuracy: 0.8991 - val_loss: 0.2691 - val_categorical_accuracy: 0.9014\n",
            "Epoch 197/1000\n",
            "418/418 [==============================] - 11s 26ms/step - loss: 0.2679 - categorical_accuracy: 0.8995 - val_loss: 0.2674 - val_categorical_accuracy: 0.9038\n",
            "Epoch 198/1000\n",
            "418/418 [==============================] - 11s 27ms/step - loss: 0.2693 - categorical_accuracy: 0.8984 - val_loss: 0.2752 - val_categorical_accuracy: 0.9033\n",
            "Epoch 199/1000\n",
            "418/418 [==============================] - 11s 27ms/step - loss: 0.2660 - categorical_accuracy: 0.8991 - val_loss: 0.2709 - val_categorical_accuracy: 0.9006\n",
            "Epoch 200/1000\n",
            "418/418 [==============================] - 11s 27ms/step - loss: 0.2635 - categorical_accuracy: 0.9004 - val_loss: 0.2727 - val_categorical_accuracy: 0.9017\n",
            "Epoch 201/1000\n",
            "418/418 [==============================] - 17s 41ms/step - loss: 0.2657 - categorical_accuracy: 0.8986 - val_loss: 0.2702 - val_categorical_accuracy: 0.9011\n",
            "Epoch 202/1000\n",
            "418/418 [==============================] - 13s 32ms/step - loss: 0.2664 - categorical_accuracy: 0.8992 - val_loss: 0.2721 - val_categorical_accuracy: 0.9021\n",
            "Epoch 203/1000\n",
            "418/418 [==============================] - 11s 27ms/step - loss: 0.2661 - categorical_accuracy: 0.8993 - val_loss: 0.2681 - val_categorical_accuracy: 0.9020\n",
            "Epoch 204/1000\n",
            "418/418 [==============================] - 11s 27ms/step - loss: 0.2632 - categorical_accuracy: 0.9004 - val_loss: 0.2658 - val_categorical_accuracy: 0.9015\n",
            "Epoch 205/1000\n",
            "418/418 [==============================] - 11s 27ms/step - loss: 0.2662 - categorical_accuracy: 0.8984 - val_loss: 0.2694 - val_categorical_accuracy: 0.9014\n",
            "Epoch 206/1000\n",
            "418/418 [==============================] - 11s 27ms/step - loss: 0.2647 - categorical_accuracy: 0.8984 - val_loss: 0.2720 - val_categorical_accuracy: 0.9003\n",
            "Epoch 207/1000\n",
            "418/418 [==============================] - 11s 26ms/step - loss: 0.2682 - categorical_accuracy: 0.8980 - val_loss: 0.2700 - val_categorical_accuracy: 0.9009\n",
            "Epoch 208/1000\n",
            "418/418 [==============================] - 11s 26ms/step - loss: 0.2632 - categorical_accuracy: 0.9007 - val_loss: 0.2721 - val_categorical_accuracy: 0.9032\n",
            "Epoch 209/1000\n",
            "418/418 [==============================] - 12s 28ms/step - loss: 0.2639 - categorical_accuracy: 0.9009 - val_loss: 0.2714 - val_categorical_accuracy: 0.9009\n",
            "Epoch 210/1000\n",
            "418/418 [==============================] - 12s 28ms/step - loss: 0.2631 - categorical_accuracy: 0.9003 - val_loss: 0.2672 - val_categorical_accuracy: 0.9038\n",
            "313/313 [==============================] - 1s 4ms/step - loss: 0.2865 - categorical_accuracy: 0.8988\n",
            "\n",
            "Test accuracy: 0.8988000154495239\n"
          ]
        }
      ]
    },
    {
      "cell_type": "code",
      "source": [
        "print('\\nhistory dict:', list(history.history.keys()))"
      ],
      "metadata": {
        "id": "CxRE-B_Q6Sii",
        "outputId": "b4666628-d28d-4383-de59-9f3e667a476a",
        "colab": {
          "base_uri": "https://localhost:8080/"
        }
      },
      "execution_count": 28,
      "outputs": [
        {
          "output_type": "stream",
          "name": "stdout",
          "text": [
            "\n",
            "history dict: ['loss', 'categorical_accuracy', 'val_loss', 'val_categorical_accuracy']\n"
          ]
        }
      ]
    },
    {
      "cell_type": "code",
      "source": [
        "result = model.evaluate(x_test, y_test)\n",
        "print(result)"
      ],
      "metadata": {
        "id": "YXpwRRTvTBNg",
        "outputId": "930413ab-db26-472b-bd22-d6ceaeffa2c3",
        "colab": {
          "base_uri": "https://localhost:8080/"
        }
      },
      "execution_count": 29,
      "outputs": [
        {
          "output_type": "stream",
          "name": "stdout",
          "text": [
            "313/313 [==============================] - 1s 3ms/step - loss: 0.2865 - categorical_accuracy: 0.8988\n",
            "[0.2864854633808136, 0.8988000154495239]\n"
          ]
        }
      ]
    },
    {
      "cell_type": "code",
      "source": [
        "saved_model = load_model('best_model.h5')\n",
        "result = saved_model.evaluate(x_test, y_test)\n",
        "print(result)"
      ],
      "metadata": {
        "id": "dpaZAW0vp1AZ",
        "outputId": "d99433d9-1fb1-4cbd-d737-36418f496b1e",
        "colab": {
          "base_uri": "https://localhost:8080/"
        }
      },
      "execution_count": 30,
      "outputs": [
        {
          "output_type": "stream",
          "name": "stdout",
          "text": [
            "313/313 [==============================] - 2s 6ms/step - loss: 0.2895 - categorical_accuracy: 0.8970\n",
            "[0.2894606292247772, 0.8970000147819519]\n"
          ]
        }
      ]
    },
    {
      "cell_type": "code",
      "source": [
        "# from keras.models import load_model\n",
        "# saved_model = load_model('best_model.h5')\n",
        "# # _, train_acc = saved_model.evaluate(x_train, y_train, verbose=0)\n",
        "# _, test_acc = saved_model.evaluate(x_test, y_test, verbose=0)\n",
        "# print('Test: %.3f' % (test_acc))"
      ],
      "metadata": {
        "id": "DR_MS9DABo_K"
      },
      "execution_count": 31,
      "outputs": []
    },
    {
      "cell_type": "code",
      "source": [
        "history_dict = history.history\n",
        "loss_values = history_dict['loss']\n",
        "val_loss_values = history_dict['val_loss']\n",
        "\n",
        "epochs = range(1, len(history_dict['loss']) + 1)\n",
        "\n",
        "plt.figure(figsize=(10, 5))\n",
        "plt.plot(epochs, loss_values, 'bo', label='Training loss')\n",
        "plt.plot(epochs, val_loss_values, 'r', label='Validation loss')\n",
        "# plt.ylim (0.2, 0.5)\n",
        "plt.title('Training and validation loss')\n",
        "plt.xlabel('Epochs')\n",
        "plt.ylabel('Loss')\n",
        "plt.legend()\n",
        "plt.grid(True)\n",
        "plt.show()\n",
        "1\n",
        "plt.clf()\n",
        "plt.figure(figsize=(10, 5))\n",
        "val_acc_values = history_dict['categorical_accuracy']\n",
        "plt.plot(epochs, history_dict['categorical_accuracy'], 'bo', label='Training acc')\n",
        "plt.plot(epochs, history_dict['val_categorical_accuracy'], 'r', label='Validation acc')\n",
        "plt.ylim (0.86, 0.94)\n",
        "plt.title('Training and validation accuracy')\n",
        "plt.xlabel('Epochs')\n",
        "plt.ylabel('Accuracy')\n",
        "plt.legend()\n",
        "plt.grid(True)"
      ],
      "metadata": {
        "id": "2Ll_5sGlXKMH",
        "outputId": "77d8681e-16d6-4de5-e224-eac3d3df283d",
        "colab": {
          "base_uri": "https://localhost:8080/",
          "height": 975
        }
      },
      "execution_count": 32,
      "outputs": [
        {
          "output_type": "display_data",
          "data": {
            "text/plain": [
              "<Figure size 1000x500 with 1 Axes>"
            ],
            "image/png": "[encoded data removed]"
          },
          "metadata": {}
        },
        {
          "output_type": "display_data",
          "data": {
            "text/plain": [
              "<Figure size 640x480 with 0 Axes>"
            ]
          },
          "metadata": {}
        },
        {
          "output_type": "display_data",
          "data": {
            "text/plain": [
              "<Figure size 1000x500 with 1 Axes>"
            ],
            "image/png": "[encoded data removed]"
          },
          "metadata": {}
        }
      ]
    },
    {
      "cell_type": "code",
      "source": [
        "probability_model = tf.keras.Sequential([model,\n",
        "                                         tf.keras.layers.Softmax()])"
      ],
      "metadata": {
        "id": "VzOdKAT_uV-f"
      },
      "execution_count": 33,
      "outputs": []
    },
    {
      "cell_type": "code",
      "source": [
        "predictions = probability_model.predict(x_test)"
      ],
      "metadata": {
        "id": "f4is3NFruYom",
        "outputId": "5385c65d-f704-40d4-f6cb-cc29f796bb93",
        "colab": {
          "base_uri": "https://localhost:8080/"
        }
      },
      "execution_count": 34,
      "outputs": [
        {
          "output_type": "stream",
          "name": "stdout",
          "text": [
            "313/313 [==============================] - 1s 3ms/step\n"
          ]
        }
      ]
    },
    {
      "cell_type": "code",
      "source": [
        "predictions[0]"
      ],
      "metadata": {
        "id": "82cigvlZudz_",
        "outputId": "7c0bb0f2-3bf3-4129-8905-b60e4ab8ff8b",
        "colab": {
          "base_uri": "https://localhost:8080/"
        }
      },
      "execution_count": 35,
      "outputs": [
        {
          "output_type": "execute_result",
          "data": {
            "text/plain": [
              "array([0.08537207, 0.08537207, 0.08537207, 0.08537207, 0.08537207,\n",
              "       0.08537914, 0.08537207, 0.0856069 , 0.08537207, 0.23140961],\n",
              "      dtype=float32)"
            ]
          },
          "metadata": {},
          "execution_count": 35
        }
      ]
    },
    {
      "cell_type": "code",
      "source": [
        "model.summary()"
      ],
      "metadata": {
        "id": "6RsQPHyYuNGe",
        "outputId": "499a4876-413b-4c78-d510-f851183e5544",
        "colab": {
          "base_uri": "https://localhost:8080/"
        }
      },
      "execution_count": 36,
      "outputs": [
        {
          "output_type": "stream",
          "name": "stdout",
          "text": [
            "Model: \"sequential\"\n",
            "_________________________________________________________________\n",
            " Layer (type)                Output Shape              Param #   \n",
            "=================================================================\n",
            " flatten (Flatten)           (None, 784)               0         \n",
            "                                                                 \n",
            " dropout (Dropout)           (None, 784)               0         \n",
            "                                                                 \n",
            " batch_normalization (Batch  (None, 784)               3136      \n",
            " Normalization)                                                  \n",
            "                                                                 \n",
            " dense (Dense)               (None, 256)               200960    \n",
            "                                                                 \n",
            " dropout_1 (Dropout)         (None, 256)               0         \n",
            "                                                                 \n",
            " batch_normalization_1 (Bat  (None, 256)               1024      \n",
            " chNormalization)                                                \n",
            "                                                                 \n",
            " dense_1 (Dense)             (None, 512)               131584    \n",
            "                                                                 \n",
            " dropout_2 (Dropout)         (None, 512)               0         \n",
            "                                                                 \n",
            " batch_normalization_2 (Bat  (None, 512)               2048      \n",
            " chNormalization)                                                \n",
            "                                                                 \n",
            " dense_2 (Dense)             (None, 512)               262656    \n",
            "                                                                 \n",
            " dropout_3 (Dropout)         (None, 512)               0         \n",
            "                                                                 \n",
            " dense_3 (Dense)             (None, 10)                5130      \n",
            "                                                                 \n",
            "=================================================================\n",
            "Total params: 606538 (2.31 MB)\n",
            "Trainable params: 603434 (2.30 MB)\n",
            "Non-trainable params: 3104 (12.12 KB)\n",
            "_________________________________________________________________\n"
          ]
        }
      ]
    },
    {
      "cell_type": "code",
      "source": [
        "\n",
        "\n",
        "hnyetjn hrte()"
      ],
      "metadata": {
        "id": "S4hcxZttmp-0",
        "outputId": "481a2858-929d-4c14-d28b-e281ee3b87fb",
        "colab": {
          "base_uri": "https://localhost:8080/",
          "height": 108
        }
      },
      "execution_count": 37,
      "outputs": [
        {
          "output_type": "error",
          "ename": "SyntaxError",
          "evalue": "invalid syntax (<ipython-input-37-1a3818e70946>, line 1)",
          "traceback": [
            "\u001b[0;36m  File \u001b[0;32m\"<ipython-input-37-1a3818e70946>\"\u001b[0;36m, line \u001b[0;32m1\u001b[0m\n\u001b[0;31m    hnyetjn hrte()\u001b[0m\n\u001b[0m            ^\u001b[0m\n\u001b[0;31mSyntaxError\u001b[0m\u001b[0;31m:\u001b[0m invalid syntax\n"
          ]
        }
      ]
    }
  ]
}