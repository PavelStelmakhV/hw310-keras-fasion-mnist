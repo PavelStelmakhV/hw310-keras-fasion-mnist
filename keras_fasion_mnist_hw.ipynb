{
  "nbformat": 4,
  "nbformat_minor": 0,
  "metadata": {
    "colab": {
      "provenance": [],
      "gpuType": "T4",
      "authorship_tag": "ABX9TyOha5BCYqQZWxlY/pKhuyfp",
      "include_colab_link": true
    },
    "kernelspec": {
      "name": "python3",
      "display_name": "Python 3"
    },
    "language_info": {
      "name": "python"
    },
    "accelerator": "GPU"
  },
  "cells": [
    {
      "cell_type": "markdown",
      "metadata": {
        "id": "view-in-github",
        "colab_type": "text"
      },
      "source": [
        "<a href=\"https://colab.research.google.com/github/PavelStelmakhV/hw310-keras-fasion-mnist/blob/main/keras_fasion_mnist_hw.ipynb\" target=\"_parent\"><img src=\"https://colab.research.google.com/assets/colab-badge.svg\" alt=\"Open In Colab\"/></a>"
      ]
    },
    {
      "cell_type": "code",
      "source": [
        "import tensorflow as tf\n",
        "from tensorflow.python.client import device_lib\n",
        "print(device_lib.list_local_devices())"
      ],
      "metadata": {
        "colab": {
          "base_uri": "https://localhost:8080/"
        },
        "id": "CQL6wYJUms6Y",
        "outputId": "cd44a0c2-1ea9-45fc-a969-a47f4d5c9660"
      },
      "execution_count": 1,
      "outputs": [
        {
          "output_type": "stream",
          "name": "stdout",
          "text": [
            "[name: \"/device:CPU:0\"\n",
            "device_type: \"CPU\"\n",
            "memory_limit: 268435456\n",
            "locality {\n",
            "}\n",
            "incarnation: 11587792704621995568\n",
            "xla_global_id: -1\n",
            "]\n"
          ]
        }
      ]
    },
    {
      "cell_type": "code",
      "execution_count": 2,
      "metadata": {
        "id": "vv7w0bgAVQPO"
      },
      "outputs": [],
      "source": [
        "import tensorflow as tf\n",
        "import numpy as np\n",
        "import matplotlib.pyplot as plt\n",
        "import tf_keras\n",
        "\n",
        "from keras import layers\n",
        "from keras import models\n",
        "from keras import regularizers\n",
        "from keras import callbacks\n",
        "from keras import initializers\n",
        "from keras.layers import BatchNormalization\n",
        "from keras.models import load_model\n",
        "from tensorflow.keras.utils import to_categorical"
      ]
    },
    {
      "cell_type": "code",
      "source": [
        "num_classes = 10"
      ],
      "metadata": {
        "id": "RvT1uYJsa5cn"
      },
      "execution_count": 3,
      "outputs": []
    },
    {
      "cell_type": "code",
      "source": [
        "fashion_mnist = tf.keras.datasets.fashion_mnist\n",
        "\n",
        "(x_train, y_train), (x_test, y_test) = fashion_mnist.load_data()"
      ],
      "metadata": {
        "id": "mOpywsNAzfGB",
        "outputId": "09d0ac73-b0e3-47b8-8956-5ea7c13490bb",
        "colab": {
          "base_uri": "https://localhost:8080/"
        }
      },
      "execution_count": 4,
      "outputs": [
        {
          "output_type": "stream",
          "name": "stdout",
          "text": [
            "Downloading data from https://storage.googleapis.com/tensorflow/tf-keras-datasets/train-labels-idx1-ubyte.gz\n",
            "29515/29515 [==============================] - 0s 0us/step\n",
            "Downloading data from https://storage.googleapis.com/tensorflow/tf-keras-datasets/train-images-idx3-ubyte.gz\n",
            "26421880/26421880 [==============================] - 0s 0us/step\n",
            "Downloading data from https://storage.googleapis.com/tensorflow/tf-keras-datasets/t10k-labels-idx1-ubyte.gz\n",
            "5148/5148 [==============================] - 0s 0us/step\n",
            "Downloading data from https://storage.googleapis.com/tensorflow/tf-keras-datasets/t10k-images-idx3-ubyte.gz\n",
            "4422102/4422102 [==============================] - 0s 0us/step\n"
          ]
        }
      ]
    },
    {
      "cell_type": "code",
      "source": [
        "def drow_hist(data):\n",
        "  plt.figure(figsize=(8,6), dpi= 80)\n",
        "  _ = plt.hist(data,\n",
        "              bins=num_classes,\n",
        "              stacked=True,\n",
        "              density=False,\n",
        "              range=(0,10),\n",
        "              rwidth=0.9,\n",
        "              )"
      ],
      "metadata": {
        "id": "NjEvuOvomEoT"
      },
      "execution_count": 5,
      "outputs": []
    },
    {
      "cell_type": "code",
      "source": [
        "# create validation data\n",
        "val_size =6000\n",
        "\n",
        "x_val = x_train[-val_size:, :, :]\n",
        "x_train = x_train[:-val_size, :, :]\n",
        "\n",
        "y_val = y_train[-val_size:]\n",
        "y_train = y_train[:-val_size]"
      ],
      "metadata": {
        "id": "jAs92sDoVU89"
      },
      "execution_count": 6,
      "outputs": []
    },
    {
      "cell_type": "code",
      "source": [
        "x_train = x_train.astype('float32') / 255\n",
        "x_test = x_test.astype('float32') / 255\n",
        "x_val = x_val.astype('float32') / 255\n",
        "\n",
        "y_train = to_categorical(y_train)\n",
        "y_test = to_categorical(y_test)\n",
        "y_val = to_categorical(y_val)"
      ],
      "metadata": {
        "id": "t2gucjsJ0KUi"
      },
      "execution_count": 7,
      "outputs": []
    },
    {
      "cell_type": "code",
      "source": [
        "w_init_tanh = initializers.glorot_normal(seed=111)\n",
        "w_init_relu = initializers.HeNormal(seed=66)\n",
        "# w_init_relu = initializers.HeUniform(seed=24)\n",
        "b_init = initializers.Zeros()"
      ],
      "metadata": {
        "id": "yL9QTEtBGy4N"
      },
      "execution_count": 8,
      "outputs": []
    },
    {
      "cell_type": "code",
      "source": [
        "def layer_relu(model, neurons, drop_out):\n",
        "  model.add(BatchNormalization())\n",
        "  model.add(layers.Dense(neurons,\n",
        "                        activation='relu',\n",
        "                        kernel_initializer=w_init_relu,\n",
        "                        bias_initializer=b_init,\n",
        "                        kernel_regularizer=regularizers.L1L2(l1=1e-3, l2=1e-3),\n",
        "                        bias_regularizer=regularizers.L1L2(l1=1e-3, l2=1e-3),\n",
        "                        activity_regularizer=regularizers.L1L2(l1=1e-3, l2=1e-3)\n",
        "                         )\n",
        "  )\n",
        "  model.add(layers.Dropout(drop_out))\n",
        "  print(drop_out)\n",
        "  return model"
      ],
      "metadata": {
        "id": "ZZgs_25rKBCp"
      },
      "execution_count": 9,
      "outputs": []
    },
    {
      "cell_type": "code",
      "source": [
        "def layer_tanh(model, neurons, drop_out):\n",
        "  model.add(BatchNormalization())\n",
        "  model.add(layers.Dense(neurons,\n",
        "                        activation='tanh',\n",
        "                        kernel_initializer=w_init_tanh,\n",
        "                        bias_initializer=b_init\n",
        "                         )\n",
        "  )\n",
        "  model.add(layers.Dropout(drop_out))\n",
        "  return model"
      ],
      "metadata": {
        "id": "90JLLnkBR50t"
      },
      "execution_count": 10,
      "outputs": []
    },
    {
      "cell_type": "code",
      "source": [
        "model = models.Sequential()\n",
        "\n",
        "neurons = 256\n",
        "drop_out = 0.35\n",
        "\n",
        "model.add(layers.Flatten(input_shape=(28, 28)))\n",
        "model.add(layers.Dropout(0.13))\n",
        "\n",
        "model = layer_relu(model, neurons*1, 0.3)\n",
        "model = layer_relu(model, neurons*2, 0.35)\n",
        "model = layer_relu(model, neurons*2, 0.4)\n",
        "# model = layer_relu(model, neurons*2)\n",
        "\n",
        "\n",
        "model.add(layers.Dense(10, activation='softmax'))"
      ],
      "metadata": {
        "id": "atS39i4d0aqW",
        "colab": {
          "base_uri": "https://localhost:8080/"
        },
        "outputId": "7400bcad-64cd-45ac-89c5-2dc5e7bf5b2e"
      },
      "execution_count": 11,
      "outputs": [
        {
          "output_type": "stream",
          "name": "stdout",
          "text": [
            "0.3\n",
            "0.35\n",
            "0.4\n"
          ]
        }
      ]
    },
    {
      "cell_type": "markdown",
      "source": [
        "++++++++++++++++++++++++++++++++++++++++++++++++++++++++++++++++++++++++++++++++"
      ],
      "metadata": {
        "id": "tZO7hl7pM63y"
      }
    },
    {
      "cell_type": "code",
      "source": [
        "optimizer = tf.keras.optimizers.Nadam(learning_rate=0.0004,\n",
        "                                      beta_1=0.9,\n",
        "                                      beta_2=0.999,\n",
        "                                      epsilon=1e-06\n",
        ")\n",
        "# optimizer = tf.keras.optimizers.experimental.RMSprop(learning_rate=0.0005,\n",
        "#                                                     rho=0.5,\n",
        "#                                                     momentum=-16,\n",
        "#                                                     epsilon=1e-07,\n",
        "#                                                     centered=False,\n",
        "#                                                     weight_decay=None,\n",
        "#                                                     clipnorm=None,\n",
        "#                                                     clipvalue=None,\n",
        "#                                                     global_clipnorm=None,\n",
        "#                                                     use_ema=False,\n",
        "#                                                     ema_momentum=0.99,\n",
        "#                                                     ema_overwrite_frequency=100,\n",
        "#                                                     jit_compile=True,\n",
        "#                                                     name='RMSprop',\n",
        "# )"
      ],
      "metadata": {
        "id": "EzfnaqIZlfy8"
      },
      "execution_count": 12,
      "outputs": []
    },
    {
      "cell_type": "markdown",
      "source": [
        "++++++++++++++++++++++++++++++++++++++++++++++++++++++++++++++++++++++++++++++++"
      ],
      "metadata": {
        "id": "KHmBptvOM95Z"
      }
    },
    {
      "cell_type": "code",
      "source": [
        "model.compile(#optimizer='adam',\n",
        "              # optimizer='adamax',\n",
        "              optimizer=optimizer,\n",
        "              # optimizer='rmsprop',\n",
        "              # optimizer='sgd',\n",
        "              # optimizer='adadelta',\n",
        "              # loss='binary_crossentropy',\n",
        "              loss=tf.keras.losses.CategoricalCrossentropy(),\n",
        "              metrics=['categorical_accuracy']) # sparse_categorical_accuracy"
      ],
      "metadata": {
        "id": "hENVaAC7ilNY"
      },
      "execution_count": 13,
      "outputs": []
    },
    {
      "cell_type": "code",
      "source": [
        "# callback = callbacks.EarlyStopping(monitor='val_loss',\n",
        "#                                    patience=15,\n",
        "#                                    restore_best_weights=True,\n",
        "#                                    )\n",
        "es = callbacks.EarlyStopping(monitor='val_loss', mode='min', verbose=0, patience=60)\n",
        "mc = callbacks.ModelCheckpoint('best_model.h5', monitor='categorical_accuracy', mode='max', verbose=0, save_best_only=True)\n"
      ],
      "metadata": {
        "id": "5ihU4exVlsjm"
      },
      "execution_count": 14,
      "outputs": []
    },
    {
      "cell_type": "code",
      "source": [
        "history = model.fit(x_train, y_train,\n",
        "                    epochs=300,\n",
        "                    batch_size=128,\n",
        "                    # callbacks=[callback],\n",
        "                    callbacks=[mc, es],\n",
        "                    verbose=1, #многословие\n",
        "                    # validation_split=0.2\n",
        "                    validation_data=(x_val, y_val)\n",
        "                    )\n",
        "test_loss, test_acc = model.evaluate(x_test, y_test)\n",
        "print('\\nTest accuracy:', test_acc)"
      ],
      "metadata": {
        "id": "FH8HcMNm233I",
        "outputId": "b93c6bcc-85d4-4fde-b988-5c5df1fea9ac",
        "colab": {
          "base_uri": "https://localhost:8080/"
        }
      },
      "execution_count": 15,
      "outputs": [
        {
          "output_type": "stream",
          "name": "stdout",
          "text": [
            "Epoch 1/300\n",
            "422/422 [==============================] - 31s 55ms/step - loss: 24.1222 - categorical_accuracy: 0.6988 - val_loss: 12.3783 - val_categorical_accuracy: 0.7708\n",
            "Epoch 2/300\n",
            "  3/422 [..............................] - ETA: 10s - loss: 12.3609 - categorical_accuracy: 0.8073"
          ]
        },
        {
          "output_type": "stream",
          "name": "stderr",
          "text": [
            "/usr/local/lib/python3.10/dist-packages/keras/src/engine/training.py:3103: UserWarning: You are saving your model as an HDF5 file via `model.save()`. This file format is considered legacy. We recommend using instead the native Keras format, e.g. `model.save('my_model.keras')`.\n",
            "  saving_api.save_model(\n"
          ]
        },
        {
          "output_type": "stream",
          "name": "stdout",
          "text": [
            "422/422 [==============================] - 12s 29ms/step - loss: 6.4153 - categorical_accuracy: 0.8077 - val_loss: 3.0194 - val_categorical_accuracy: 0.8207\n",
            "Epoch 3/300\n",
            "422/422 [==============================] - 13s 30ms/step - loss: 1.8668 - categorical_accuracy: 0.8134 - val_loss: 1.4742 - val_categorical_accuracy: 0.8283\n",
            "Epoch 4/300\n",
            "422/422 [==============================] - 12s 29ms/step - loss: 1.4207 - categorical_accuracy: 0.8111 - val_loss: 1.3008 - val_categorical_accuracy: 0.8263\n",
            "Epoch 5/300\n",
            "422/422 [==============================] - 12s 29ms/step - loss: 1.3329 - categorical_accuracy: 0.8142 - val_loss: 1.1939 - val_categorical_accuracy: 0.8470\n",
            "Epoch 6/300\n",
            "422/422 [==============================] - 12s 29ms/step - loss: 1.2724 - categorical_accuracy: 0.8194 - val_loss: 1.1622 - val_categorical_accuracy: 0.8432\n",
            "Epoch 7/300\n",
            "422/422 [==============================] - 12s 29ms/step - loss: 1.2384 - categorical_accuracy: 0.8189 - val_loss: 1.1392 - val_categorical_accuracy: 0.8445\n",
            "Epoch 8/300\n",
            "422/422 [==============================] - 12s 29ms/step - loss: 1.2254 - categorical_accuracy: 0.8193 - val_loss: 1.1088 - val_categorical_accuracy: 0.8518\n",
            "Epoch 9/300\n",
            "422/422 [==============================] - 12s 28ms/step - loss: 1.2094 - categorical_accuracy: 0.8209 - val_loss: 1.1343 - val_categorical_accuracy: 0.8405\n",
            "Epoch 10/300\n",
            "422/422 [==============================] - 13s 30ms/step - loss: 1.1950 - categorical_accuracy: 0.8224 - val_loss: 1.1120 - val_categorical_accuracy: 0.8492\n",
            "Epoch 11/300\n",
            "422/422 [==============================] - 13s 30ms/step - loss: 1.1787 - categorical_accuracy: 0.8236 - val_loss: 1.0853 - val_categorical_accuracy: 0.8560\n",
            "Epoch 12/300\n",
            "422/422 [==============================] - 12s 28ms/step - loss: 1.1770 - categorical_accuracy: 0.8230 - val_loss: 1.1049 - val_categorical_accuracy: 0.8475\n",
            "Epoch 13/300\n",
            "422/422 [==============================] - 12s 29ms/step - loss: 1.1833 - categorical_accuracy: 0.8238 - val_loss: 1.0990 - val_categorical_accuracy: 0.8470\n",
            "Epoch 14/300\n",
            "422/422 [==============================] - 12s 29ms/step - loss: 1.1732 - categorical_accuracy: 0.8251 - val_loss: 1.0697 - val_categorical_accuracy: 0.8460\n",
            "Epoch 15/300\n",
            "422/422 [==============================] - 12s 29ms/step - loss: 1.1505 - categorical_accuracy: 0.8259 - val_loss: 1.0673 - val_categorical_accuracy: 0.8488\n",
            "Epoch 16/300\n",
            "422/422 [==============================] - 13s 30ms/step - loss: 1.1478 - categorical_accuracy: 0.8256 - val_loss: 1.0733 - val_categorical_accuracy: 0.8422\n",
            "Epoch 17/300\n",
            "422/422 [==============================] - 12s 29ms/step - loss: 1.1600 - categorical_accuracy: 0.8250 - val_loss: 1.0491 - val_categorical_accuracy: 0.8542\n",
            "Epoch 18/300\n",
            "422/422 [==============================] - 12s 29ms/step - loss: 1.1548 - categorical_accuracy: 0.8266 - val_loss: 1.0954 - val_categorical_accuracy: 0.8512\n",
            "Epoch 19/300\n",
            "422/422 [==============================] - 12s 29ms/step - loss: 1.1556 - categorical_accuracy: 0.8271 - val_loss: 1.1170 - val_categorical_accuracy: 0.8348\n",
            "Epoch 20/300\n",
            "422/422 [==============================] - 12s 29ms/step - loss: 1.1385 - categorical_accuracy: 0.8274 - val_loss: 1.0423 - val_categorical_accuracy: 0.8542\n",
            "Epoch 21/300\n",
            "422/422 [==============================] - 12s 29ms/step - loss: 1.1364 - categorical_accuracy: 0.8259 - val_loss: 1.0580 - val_categorical_accuracy: 0.8530\n",
            "Epoch 22/300\n",
            "422/422 [==============================] - 12s 29ms/step - loss: 1.1209 - categorical_accuracy: 0.8278 - val_loss: 1.0355 - val_categorical_accuracy: 0.8530\n",
            "Epoch 23/300\n",
            "422/422 [==============================] - 12s 29ms/step - loss: 1.1454 - categorical_accuracy: 0.8258 - val_loss: 1.0454 - val_categorical_accuracy: 0.8540\n",
            "Epoch 24/300\n",
            "422/422 [==============================] - 12s 29ms/step - loss: 1.1374 - categorical_accuracy: 0.8275 - val_loss: 1.0750 - val_categorical_accuracy: 0.8238\n",
            "Epoch 25/300\n",
            "422/422 [==============================] - 12s 29ms/step - loss: 1.1364 - categorical_accuracy: 0.8253 - val_loss: 1.0853 - val_categorical_accuracy: 0.8467\n",
            "Epoch 26/300\n",
            "422/422 [==============================] - 12s 29ms/step - loss: 1.1343 - categorical_accuracy: 0.8277 - val_loss: 1.0497 - val_categorical_accuracy: 0.8580\n",
            "Epoch 27/300\n",
            "422/422 [==============================] - 12s 29ms/step - loss: 1.1198 - categorical_accuracy: 0.8262 - val_loss: 1.0292 - val_categorical_accuracy: 0.8552\n",
            "Epoch 28/300\n",
            "422/422 [==============================] - 12s 29ms/step - loss: 1.1087 - categorical_accuracy: 0.8277 - val_loss: 1.0041 - val_categorical_accuracy: 0.8478\n",
            "Epoch 29/300\n",
            "422/422 [==============================] - 13s 30ms/step - loss: 1.0837 - categorical_accuracy: 0.8297 - val_loss: 1.0286 - val_categorical_accuracy: 0.8485\n",
            "Epoch 30/300\n",
            "422/422 [==============================] - 12s 30ms/step - loss: 1.0828 - categorical_accuracy: 0.8291 - val_loss: 1.0003 - val_categorical_accuracy: 0.8440\n",
            "Epoch 31/300\n",
            "422/422 [==============================] - 12s 29ms/step - loss: 1.0859 - categorical_accuracy: 0.8284 - val_loss: 1.0013 - val_categorical_accuracy: 0.8547\n",
            "Epoch 32/300\n",
            "422/422 [==============================] - 13s 30ms/step - loss: 1.0901 - categorical_accuracy: 0.8278 - val_loss: 0.9644 - val_categorical_accuracy: 0.8585\n",
            "Epoch 33/300\n",
            "422/422 [==============================] - 12s 29ms/step - loss: 1.0902 - categorical_accuracy: 0.8277 - val_loss: 0.9992 - val_categorical_accuracy: 0.8553\n",
            "Epoch 34/300\n",
            "422/422 [==============================] - 12s 30ms/step - loss: 1.0862 - categorical_accuracy: 0.8288 - val_loss: 1.0269 - val_categorical_accuracy: 0.8527\n",
            "Epoch 35/300\n",
            "422/422 [==============================] - 12s 29ms/step - loss: 1.1124 - categorical_accuracy: 0.8277 - val_loss: 1.0363 - val_categorical_accuracy: 0.8582\n",
            "Epoch 36/300\n",
            "422/422 [==============================] - 12s 29ms/step - loss: 1.0702 - categorical_accuracy: 0.8277 - val_loss: 0.9664 - val_categorical_accuracy: 0.8595\n",
            "Epoch 37/300\n",
            "422/422 [==============================] - 12s 29ms/step - loss: 1.0427 - categorical_accuracy: 0.8315 - val_loss: 0.9570 - val_categorical_accuracy: 0.8547\n",
            "Epoch 38/300\n",
            "422/422 [==============================] - 12s 29ms/step - loss: 1.0463 - categorical_accuracy: 0.8274 - val_loss: 0.9798 - val_categorical_accuracy: 0.8485\n",
            "Epoch 39/300\n",
            "422/422 [==============================] - 13s 30ms/step - loss: 1.0729 - categorical_accuracy: 0.8283 - val_loss: 1.0088 - val_categorical_accuracy: 0.8478\n",
            "Epoch 40/300\n",
            "422/422 [==============================] - 12s 30ms/step - loss: 1.0548 - categorical_accuracy: 0.8281 - val_loss: 0.9804 - val_categorical_accuracy: 0.8470\n",
            "Epoch 41/300\n",
            "422/422 [==============================] - 13s 30ms/step - loss: 1.0265 - categorical_accuracy: 0.8321 - val_loss: 0.9314 - val_categorical_accuracy: 0.8593\n",
            "Epoch 42/300\n",
            "422/422 [==============================] - 13s 31ms/step - loss: 1.0372 - categorical_accuracy: 0.8307 - val_loss: 0.9750 - val_categorical_accuracy: 0.8527\n",
            "Epoch 43/300\n",
            "422/422 [==============================] - 13s 30ms/step - loss: 1.0418 - categorical_accuracy: 0.8293 - val_loss: 0.9610 - val_categorical_accuracy: 0.8622\n",
            "Epoch 44/300\n",
            "422/422 [==============================] - 13s 30ms/step - loss: 1.0565 - categorical_accuracy: 0.8309 - val_loss: 0.9783 - val_categorical_accuracy: 0.8542\n",
            "Epoch 45/300\n",
            "422/422 [==============================] - 13s 30ms/step - loss: 1.0346 - categorical_accuracy: 0.8332 - val_loss: 0.9405 - val_categorical_accuracy: 0.8555\n",
            "Epoch 46/300\n",
            "422/422 [==============================] - 13s 30ms/step - loss: 1.0426 - categorical_accuracy: 0.8294 - val_loss: 0.9706 - val_categorical_accuracy: 0.8483\n",
            "Epoch 47/300\n",
            "422/422 [==============================] - 13s 30ms/step - loss: 1.0510 - categorical_accuracy: 0.8286 - val_loss: 0.9739 - val_categorical_accuracy: 0.8545\n",
            "Epoch 48/300\n",
            "422/422 [==============================] - 13s 30ms/step - loss: 1.0156 - categorical_accuracy: 0.8299 - val_loss: 0.9660 - val_categorical_accuracy: 0.8347\n",
            "Epoch 49/300\n",
            "422/422 [==============================] - 13s 31ms/step - loss: 1.0151 - categorical_accuracy: 0.8291 - val_loss: 0.9112 - val_categorical_accuracy: 0.8560\n",
            "Epoch 50/300\n",
            "422/422 [==============================] - 13s 30ms/step - loss: 1.0058 - categorical_accuracy: 0.8305 - val_loss: 0.9149 - val_categorical_accuracy: 0.8632\n",
            "Epoch 51/300\n",
            "422/422 [==============================] - 13s 31ms/step - loss: 1.0246 - categorical_accuracy: 0.8305 - val_loss: 0.9241 - val_categorical_accuracy: 0.8562\n",
            "Epoch 52/300\n",
            "422/422 [==============================] - 13s 30ms/step - loss: 1.0086 - categorical_accuracy: 0.8309 - val_loss: 0.8805 - val_categorical_accuracy: 0.8608\n",
            "Epoch 53/300\n",
            "422/422 [==============================] - 13s 30ms/step - loss: 0.9848 - categorical_accuracy: 0.8311 - val_loss: 0.9206 - val_categorical_accuracy: 0.8460\n",
            "Epoch 54/300\n",
            "422/422 [==============================] - 12s 29ms/step - loss: 0.9863 - categorical_accuracy: 0.8308 - val_loss: 0.8810 - val_categorical_accuracy: 0.8570\n",
            "Epoch 55/300\n",
            "422/422 [==============================] - 13s 30ms/step - loss: 0.9914 - categorical_accuracy: 0.8308 - val_loss: 0.8827 - val_categorical_accuracy: 0.8645\n",
            "Epoch 56/300\n",
            "422/422 [==============================] - 13s 30ms/step - loss: 0.9663 - categorical_accuracy: 0.8325 - val_loss: 0.8977 - val_categorical_accuracy: 0.8535\n",
            "Epoch 57/300\n",
            "422/422 [==============================] - 12s 29ms/step - loss: 0.9919 - categorical_accuracy: 0.8309 - val_loss: 0.9462 - val_categorical_accuracy: 0.8497\n",
            "Epoch 58/300\n",
            "422/422 [==============================] - 12s 29ms/step - loss: 1.0241 - categorical_accuracy: 0.8294 - val_loss: 0.9465 - val_categorical_accuracy: 0.8513\n",
            "Epoch 59/300\n",
            "422/422 [==============================] - 13s 30ms/step - loss: 1.0096 - categorical_accuracy: 0.8289 - val_loss: 0.8659 - val_categorical_accuracy: 0.8577\n",
            "Epoch 60/300\n",
            "422/422 [==============================] - 13s 31ms/step - loss: 0.9901 - categorical_accuracy: 0.8289 - val_loss: 0.9255 - val_categorical_accuracy: 0.8583\n",
            "Epoch 61/300\n",
            "422/422 [==============================] - 13s 30ms/step - loss: 1.0018 - categorical_accuracy: 0.8305 - val_loss: 0.9368 - val_categorical_accuracy: 0.8570\n",
            "Epoch 62/300\n",
            "422/422 [==============================] - 13s 30ms/step - loss: 0.9726 - categorical_accuracy: 0.8313 - val_loss: 0.8494 - val_categorical_accuracy: 0.8597\n",
            "Epoch 63/300\n",
            "422/422 [==============================] - 13s 30ms/step - loss: 0.9594 - categorical_accuracy: 0.8313 - val_loss: 0.8621 - val_categorical_accuracy: 0.8622\n",
            "Epoch 64/300\n",
            "422/422 [==============================] - 13s 30ms/step - loss: 0.9755 - categorical_accuracy: 0.8330 - val_loss: 0.9025 - val_categorical_accuracy: 0.8522\n",
            "Epoch 65/300\n",
            "422/422 [==============================] - 13s 30ms/step - loss: 0.9612 - categorical_accuracy: 0.8341 - val_loss: 0.8602 - val_categorical_accuracy: 0.8560\n",
            "Epoch 66/300\n",
            "422/422 [==============================] - 13s 30ms/step - loss: 0.9526 - categorical_accuracy: 0.8334 - val_loss: 0.8438 - val_categorical_accuracy: 0.8675\n",
            "Epoch 67/300\n",
            "422/422 [==============================] - 13s 30ms/step - loss: 0.9920 - categorical_accuracy: 0.8311 - val_loss: 0.8913 - val_categorical_accuracy: 0.8550\n",
            "Epoch 68/300\n",
            "422/422 [==============================] - 13s 30ms/step - loss: 0.9606 - categorical_accuracy: 0.8324 - val_loss: 0.8419 - val_categorical_accuracy: 0.8588\n",
            "Epoch 69/300\n",
            "422/422 [==============================] - 13s 30ms/step - loss: 0.9441 - categorical_accuracy: 0.8326 - val_loss: 0.8602 - val_categorical_accuracy: 0.8598\n",
            "Epoch 70/300\n",
            "422/422 [==============================] - 13s 30ms/step - loss: 0.9613 - categorical_accuracy: 0.8333 - val_loss: 0.8692 - val_categorical_accuracy: 0.8572\n",
            "Epoch 71/300\n",
            "422/422 [==============================] - 13s 30ms/step - loss: 0.9381 - categorical_accuracy: 0.8334 - val_loss: 0.8535 - val_categorical_accuracy: 0.8553\n",
            "Epoch 72/300\n",
            "422/422 [==============================] - 13s 30ms/step - loss: 0.9623 - categorical_accuracy: 0.8306 - val_loss: 0.8869 - val_categorical_accuracy: 0.8585\n",
            "Epoch 73/300\n",
            "422/422 [==============================] - 13s 30ms/step - loss: 0.9423 - categorical_accuracy: 0.8335 - val_loss: 0.8823 - val_categorical_accuracy: 0.8578\n",
            "Epoch 74/300\n",
            "422/422 [==============================] - 13s 30ms/step - loss: 0.9526 - categorical_accuracy: 0.8327 - val_loss: 0.8750 - val_categorical_accuracy: 0.8598\n",
            "Epoch 75/300\n",
            "422/422 [==============================] - 13s 30ms/step - loss: 0.9338 - categorical_accuracy: 0.8356 - val_loss: 0.8754 - val_categorical_accuracy: 0.8547\n",
            "Epoch 76/300\n",
            "422/422 [==============================] - 13s 30ms/step - loss: 0.9332 - categorical_accuracy: 0.8344 - val_loss: 0.8232 - val_categorical_accuracy: 0.8640\n",
            "Epoch 77/300\n",
            "422/422 [==============================] - 13s 30ms/step - loss: 0.9389 - categorical_accuracy: 0.8348 - val_loss: 0.8404 - val_categorical_accuracy: 0.8575\n",
            "Epoch 78/300\n",
            "422/422 [==============================] - 13s 30ms/step - loss: 0.9265 - categorical_accuracy: 0.8334 - val_loss: 0.8476 - val_categorical_accuracy: 0.8625\n",
            "Epoch 79/300\n",
            "422/422 [==============================] - 13s 31ms/step - loss: 0.9207 - categorical_accuracy: 0.8349 - val_loss: 0.8235 - val_categorical_accuracy: 0.8553\n",
            "Epoch 80/300\n",
            "422/422 [==============================] - 13s 30ms/step - loss: 0.9115 - categorical_accuracy: 0.8320 - val_loss: 0.8254 - val_categorical_accuracy: 0.8588\n",
            "Epoch 81/300\n",
            "422/422 [==============================] - 13s 30ms/step - loss: 0.9167 - categorical_accuracy: 0.8327 - val_loss: 0.8307 - val_categorical_accuracy: 0.8582\n",
            "Epoch 82/300\n",
            "422/422 [==============================] - 13s 30ms/step - loss: 0.9107 - categorical_accuracy: 0.8332 - val_loss: 0.8372 - val_categorical_accuracy: 0.8535\n",
            "Epoch 83/300\n",
            "422/422 [==============================] - 12s 29ms/step - loss: 0.9052 - categorical_accuracy: 0.8358 - val_loss: 0.8153 - val_categorical_accuracy: 0.8567\n",
            "Epoch 84/300\n",
            "422/422 [==============================] - 12s 30ms/step - loss: 0.9192 - categorical_accuracy: 0.8328 - val_loss: 0.8309 - val_categorical_accuracy: 0.8595\n",
            "Epoch 85/300\n",
            "422/422 [==============================] - 13s 30ms/step - loss: 0.9340 - categorical_accuracy: 0.8326 - val_loss: 0.8888 - val_categorical_accuracy: 0.8543\n",
            "Epoch 86/300\n",
            "422/422 [==============================] - 13s 30ms/step - loss: 0.9305 - categorical_accuracy: 0.8333 - val_loss: 0.8841 - val_categorical_accuracy: 0.8518\n",
            "Epoch 87/300\n",
            "422/422 [==============================] - 12s 29ms/step - loss: 0.9316 - categorical_accuracy: 0.8351 - val_loss: 0.8071 - val_categorical_accuracy: 0.8495\n",
            "Epoch 88/300\n",
            "422/422 [==============================] - 12s 30ms/step - loss: 0.9070 - categorical_accuracy: 0.8324 - val_loss: 0.8185 - val_categorical_accuracy: 0.8647\n",
            "Epoch 89/300\n",
            "422/422 [==============================] - 13s 31ms/step - loss: 0.9019 - categorical_accuracy: 0.8311 - val_loss: 0.8252 - val_categorical_accuracy: 0.8612\n",
            "Epoch 90/300\n",
            "422/422 [==============================] - 13s 31ms/step - loss: 0.9074 - categorical_accuracy: 0.8345 - val_loss: 0.8328 - val_categorical_accuracy: 0.8580\n",
            "Epoch 91/300\n",
            "422/422 [==============================] - 13s 31ms/step - loss: 0.9083 - categorical_accuracy: 0.8324 - val_loss: 0.8256 - val_categorical_accuracy: 0.8603\n",
            "Epoch 92/300\n",
            "422/422 [==============================] - 13s 30ms/step - loss: 0.9053 - categorical_accuracy: 0.8323 - val_loss: 0.8259 - val_categorical_accuracy: 0.8585\n",
            "Epoch 93/300\n",
            "422/422 [==============================] - 13s 30ms/step - loss: 0.8832 - categorical_accuracy: 0.8338 - val_loss: 0.7702 - val_categorical_accuracy: 0.8642\n",
            "Epoch 94/300\n",
            "422/422 [==============================] - 13s 31ms/step - loss: 0.8909 - categorical_accuracy: 0.8319 - val_loss: 0.8042 - val_categorical_accuracy: 0.8567\n",
            "Epoch 95/300\n",
            "422/422 [==============================] - 13s 31ms/step - loss: 0.9026 - categorical_accuracy: 0.8333 - val_loss: 0.8113 - val_categorical_accuracy: 0.8552\n",
            "Epoch 96/300\n",
            "422/422 [==============================] - 13s 30ms/step - loss: 0.8865 - categorical_accuracy: 0.8340 - val_loss: 0.7810 - val_categorical_accuracy: 0.8632\n",
            "Epoch 97/300\n",
            "422/422 [==============================] - 13s 30ms/step - loss: 0.8756 - categorical_accuracy: 0.8353 - val_loss: 0.7761 - val_categorical_accuracy: 0.8568\n",
            "Epoch 98/300\n",
            "422/422 [==============================] - 13s 30ms/step - loss: 0.8698 - categorical_accuracy: 0.8344 - val_loss: 0.7992 - val_categorical_accuracy: 0.8550\n",
            "Epoch 99/300\n",
            "422/422 [==============================] - 13s 30ms/step - loss: 0.9125 - categorical_accuracy: 0.8331 - val_loss: 0.8211 - val_categorical_accuracy: 0.8650\n",
            "Epoch 100/300\n",
            "422/422 [==============================] - 13s 30ms/step - loss: 0.8920 - categorical_accuracy: 0.8340 - val_loss: 0.7854 - val_categorical_accuracy: 0.8608\n",
            "Epoch 101/300\n",
            "422/422 [==============================] - 13s 30ms/step - loss: 0.8997 - categorical_accuracy: 0.8328 - val_loss: 0.8064 - val_categorical_accuracy: 0.8635\n",
            "Epoch 102/300\n",
            "422/422 [==============================] - 13s 30ms/step - loss: 0.9272 - categorical_accuracy: 0.8334 - val_loss: 0.7845 - val_categorical_accuracy: 0.8693\n",
            "Epoch 103/300\n",
            "422/422 [==============================] - 13s 31ms/step - loss: 0.8805 - categorical_accuracy: 0.8339 - val_loss: 0.7796 - val_categorical_accuracy: 0.8622\n",
            "Epoch 104/300\n",
            "422/422 [==============================] - 13s 30ms/step - loss: 0.8884 - categorical_accuracy: 0.8337 - val_loss: 0.7816 - val_categorical_accuracy: 0.8622\n",
            "Epoch 105/300\n",
            "422/422 [==============================] - 13s 30ms/step - loss: 0.8795 - categorical_accuracy: 0.8351 - val_loss: 0.7885 - val_categorical_accuracy: 0.8630\n",
            "Epoch 106/300\n",
            "422/422 [==============================] - 13s 30ms/step - loss: 0.8874 - categorical_accuracy: 0.8336 - val_loss: 0.7917 - val_categorical_accuracy: 0.8560\n",
            "Epoch 107/300\n",
            "422/422 [==============================] - 13s 30ms/step - loss: 0.8870 - categorical_accuracy: 0.8336 - val_loss: 0.7610 - val_categorical_accuracy: 0.8670\n",
            "Epoch 108/300\n",
            "422/422 [==============================] - 13s 30ms/step - loss: 0.8775 - categorical_accuracy: 0.8339 - val_loss: 0.7964 - val_categorical_accuracy: 0.8628\n",
            "Epoch 109/300\n",
            "422/422 [==============================] - 13s 30ms/step - loss: 0.8661 - categorical_accuracy: 0.8366 - val_loss: 0.7705 - val_categorical_accuracy: 0.8598\n",
            "Epoch 110/300\n",
            "422/422 [==============================] - 13s 31ms/step - loss: 0.8641 - categorical_accuracy: 0.8345 - val_loss: 0.7722 - val_categorical_accuracy: 0.8622\n",
            "Epoch 111/300\n",
            "422/422 [==============================] - 13s 31ms/step - loss: 0.8755 - categorical_accuracy: 0.8346 - val_loss: 0.7736 - val_categorical_accuracy: 0.8598\n",
            "Epoch 112/300\n",
            "422/422 [==============================] - 13s 30ms/step - loss: 0.8678 - categorical_accuracy: 0.8333 - val_loss: 0.7842 - val_categorical_accuracy: 0.8622\n",
            "Epoch 113/300\n",
            "422/422 [==============================] - 13s 30ms/step - loss: 0.8685 - categorical_accuracy: 0.8339 - val_loss: 0.7499 - val_categorical_accuracy: 0.8650\n",
            "Epoch 114/300\n",
            "422/422 [==============================] - 13s 30ms/step - loss: 0.8519 - categorical_accuracy: 0.8352 - val_loss: 0.7633 - val_categorical_accuracy: 0.8683\n",
            "Epoch 115/300\n",
            "422/422 [==============================] - 13s 30ms/step - loss: 0.8669 - categorical_accuracy: 0.8340 - val_loss: 0.8145 - val_categorical_accuracy: 0.8467\n",
            "Epoch 116/300\n",
            "422/422 [==============================] - 12s 29ms/step - loss: 0.8629 - categorical_accuracy: 0.8351 - val_loss: 0.7727 - val_categorical_accuracy: 0.8637\n",
            "Epoch 117/300\n",
            "422/422 [==============================] - 13s 30ms/step - loss: 0.8575 - categorical_accuracy: 0.8334 - val_loss: 0.7485 - val_categorical_accuracy: 0.8730\n",
            "Epoch 118/300\n",
            "422/422 [==============================] - 13s 30ms/step - loss: 0.8654 - categorical_accuracy: 0.8319 - val_loss: 0.7867 - val_categorical_accuracy: 0.8552\n",
            "Epoch 119/300\n",
            "422/422 [==============================] - 13s 30ms/step - loss: 0.8779 - categorical_accuracy: 0.8321 - val_loss: 0.8017 - val_categorical_accuracy: 0.8553\n",
            "Epoch 120/300\n",
            "422/422 [==============================] - 12s 29ms/step - loss: 0.8802 - categorical_accuracy: 0.8327 - val_loss: 0.7547 - val_categorical_accuracy: 0.8668\n",
            "Epoch 121/300\n",
            "422/422 [==============================] - 12s 29ms/step - loss: 0.8520 - categorical_accuracy: 0.8327 - val_loss: 0.7659 - val_categorical_accuracy: 0.8645\n",
            "Epoch 122/300\n",
            "422/422 [==============================] - 13s 30ms/step - loss: 0.8601 - categorical_accuracy: 0.8352 - val_loss: 0.7565 - val_categorical_accuracy: 0.8635\n",
            "Epoch 123/300\n",
            "422/422 [==============================] - 13s 30ms/step - loss: 0.8601 - categorical_accuracy: 0.8339 - val_loss: 0.7559 - val_categorical_accuracy: 0.8677\n",
            "Epoch 124/300\n",
            "422/422 [==============================] - 13s 30ms/step - loss: 0.8759 - categorical_accuracy: 0.8334 - val_loss: 0.8065 - val_categorical_accuracy: 0.8603\n",
            "Epoch 125/300\n",
            "422/422 [==============================] - 13s 30ms/step - loss: 0.8713 - categorical_accuracy: 0.8334 - val_loss: 0.8062 - val_categorical_accuracy: 0.8635\n",
            "Epoch 126/300\n",
            "422/422 [==============================] - 13s 30ms/step - loss: 0.8704 - categorical_accuracy: 0.8350 - val_loss: 0.7806 - val_categorical_accuracy: 0.8625\n",
            "Epoch 127/300\n",
            "422/422 [==============================] - 13s 30ms/step - loss: 0.8668 - categorical_accuracy: 0.8331 - val_loss: 0.7783 - val_categorical_accuracy: 0.8617\n",
            "Epoch 128/300\n",
            "422/422 [==============================] - 13s 30ms/step - loss: 0.8532 - categorical_accuracy: 0.8348 - val_loss: 0.7627 - val_categorical_accuracy: 0.8573\n",
            "Epoch 129/300\n",
            "422/422 [==============================] - 13s 30ms/step - loss: 0.8645 - categorical_accuracy: 0.8322 - val_loss: 0.7605 - val_categorical_accuracy: 0.8682\n",
            "Epoch 130/300\n",
            "422/422 [==============================] - 13s 30ms/step - loss: 0.8660 - categorical_accuracy: 0.8346 - val_loss: 0.7532 - val_categorical_accuracy: 0.8672\n",
            "Epoch 131/300\n",
            "422/422 [==============================] - 13s 31ms/step - loss: 0.8420 - categorical_accuracy: 0.8364 - val_loss: 0.7476 - val_categorical_accuracy: 0.8560\n",
            "Epoch 132/300\n",
            "422/422 [==============================] - 13s 30ms/step - loss: 0.8386 - categorical_accuracy: 0.8354 - val_loss: 0.7456 - val_categorical_accuracy: 0.8620\n",
            "Epoch 133/300\n",
            "422/422 [==============================] - 13s 30ms/step - loss: 0.8393 - categorical_accuracy: 0.8339 - val_loss: 0.7620 - val_categorical_accuracy: 0.8648\n",
            "Epoch 134/300\n",
            "422/422 [==============================] - 13s 30ms/step - loss: 0.8504 - categorical_accuracy: 0.8359 - val_loss: 0.7487 - val_categorical_accuracy: 0.8675\n",
            "Epoch 135/300\n",
            "422/422 [==============================] - 13s 30ms/step - loss: 0.8451 - categorical_accuracy: 0.8359 - val_loss: 0.7552 - val_categorical_accuracy: 0.8627\n",
            "Epoch 136/300\n",
            "422/422 [==============================] - 13s 30ms/step - loss: 0.8517 - categorical_accuracy: 0.8355 - val_loss: 0.7494 - val_categorical_accuracy: 0.8625\n",
            "Epoch 137/300\n",
            "422/422 [==============================] - 13s 30ms/step - loss: 0.8477 - categorical_accuracy: 0.8333 - val_loss: 0.7454 - val_categorical_accuracy: 0.8590\n",
            "Epoch 138/300\n",
            "422/422 [==============================] - 13s 31ms/step - loss: 0.8379 - categorical_accuracy: 0.8340 - val_loss: 0.7503 - val_categorical_accuracy: 0.8637\n",
            "Epoch 139/300\n",
            "422/422 [==============================] - 13s 30ms/step - loss: 0.8461 - categorical_accuracy: 0.8334 - val_loss: 0.7477 - val_categorical_accuracy: 0.8652\n",
            "Epoch 140/300\n",
            "422/422 [==============================] - 13s 30ms/step - loss: 0.8341 - categorical_accuracy: 0.8358 - val_loss: 0.7558 - val_categorical_accuracy: 0.8657\n",
            "Epoch 141/300\n",
            "422/422 [==============================] - 13s 30ms/step - loss: 0.8375 - categorical_accuracy: 0.8322 - val_loss: 0.7232 - val_categorical_accuracy: 0.8633\n",
            "Epoch 142/300\n",
            "422/422 [==============================] - 13s 30ms/step - loss: 0.8308 - categorical_accuracy: 0.8338 - val_loss: 0.7291 - val_categorical_accuracy: 0.8642\n",
            "Epoch 143/300\n",
            "422/422 [==============================] - 13s 31ms/step - loss: 0.8421 - categorical_accuracy: 0.8341 - val_loss: 0.7644 - val_categorical_accuracy: 0.8617\n",
            "Epoch 144/300\n",
            "422/422 [==============================] - 13s 30ms/step - loss: 0.8376 - categorical_accuracy: 0.8341 - val_loss: 0.7604 - val_categorical_accuracy: 0.8572\n",
            "Epoch 145/300\n",
            "422/422 [==============================] - 13s 30ms/step - loss: 0.8500 - categorical_accuracy: 0.8350 - val_loss: 0.7560 - val_categorical_accuracy: 0.8575\n",
            "Epoch 146/300\n",
            "422/422 [==============================] - 13s 30ms/step - loss: 0.8472 - categorical_accuracy: 0.8350 - val_loss: 0.7481 - val_categorical_accuracy: 0.8635\n",
            "Epoch 147/300\n",
            "422/422 [==============================] - 13s 30ms/step - loss: 0.8354 - categorical_accuracy: 0.8352 - val_loss: 0.7241 - val_categorical_accuracy: 0.8678\n",
            "Epoch 148/300\n",
            "422/422 [==============================] - 13s 30ms/step - loss: 0.8373 - categorical_accuracy: 0.8329 - val_loss: 0.7398 - val_categorical_accuracy: 0.8628\n",
            "Epoch 149/300\n",
            "422/422 [==============================] - 12s 30ms/step - loss: 0.8320 - categorical_accuracy: 0.8352 - val_loss: 0.7474 - val_categorical_accuracy: 0.8678\n",
            "Epoch 150/300\n",
            "422/422 [==============================] - 13s 30ms/step - loss: 0.8485 - categorical_accuracy: 0.8335 - val_loss: 0.7432 - val_categorical_accuracy: 0.8623\n",
            "Epoch 151/300\n",
            "422/422 [==============================] - 13s 30ms/step - loss: 0.8588 - categorical_accuracy: 0.8334 - val_loss: 0.7497 - val_categorical_accuracy: 0.8650\n",
            "Epoch 152/300\n",
            "422/422 [==============================] - 12s 29ms/step - loss: 0.8500 - categorical_accuracy: 0.8352 - val_loss: 0.7785 - val_categorical_accuracy: 0.8608\n",
            "Epoch 153/300\n",
            "422/422 [==============================] - 13s 30ms/step - loss: 0.8415 - categorical_accuracy: 0.8362 - val_loss: 0.7315 - val_categorical_accuracy: 0.8642\n",
            "Epoch 154/300\n",
            "422/422 [==============================] - 12s 29ms/step - loss: 0.8530 - categorical_accuracy: 0.8354 - val_loss: 0.7667 - val_categorical_accuracy: 0.8617\n",
            "Epoch 155/300\n",
            "422/422 [==============================] - 13s 30ms/step - loss: 0.8418 - categorical_accuracy: 0.8349 - val_loss: 0.7410 - val_categorical_accuracy: 0.8672\n",
            "Epoch 156/300\n",
            "422/422 [==============================] - 13s 30ms/step - loss: 0.8435 - categorical_accuracy: 0.8312 - val_loss: 0.7372 - val_categorical_accuracy: 0.8608\n",
            "Epoch 157/300\n",
            "422/422 [==============================] - 13s 30ms/step - loss: 0.8398 - categorical_accuracy: 0.8339 - val_loss: 0.7450 - val_categorical_accuracy: 0.8597\n",
            "Epoch 158/300\n",
            "422/422 [==============================] - 13s 30ms/step - loss: 0.8242 - categorical_accuracy: 0.8344 - val_loss: 0.7330 - val_categorical_accuracy: 0.8667\n",
            "Epoch 159/300\n",
            "422/422 [==============================] - 13s 30ms/step - loss: 0.8293 - categorical_accuracy: 0.8358 - val_loss: 0.7517 - val_categorical_accuracy: 0.8570\n",
            "Epoch 160/300\n",
            "422/422 [==============================] - 13s 30ms/step - loss: 0.8309 - categorical_accuracy: 0.8348 - val_loss: 0.7327 - val_categorical_accuracy: 0.8640\n",
            "Epoch 161/300\n",
            "422/422 [==============================] - 13s 30ms/step - loss: 0.8314 - categorical_accuracy: 0.8344 - val_loss: 0.7317 - val_categorical_accuracy: 0.8635\n",
            "Epoch 162/300\n",
            "422/422 [==============================] - 13s 30ms/step - loss: 0.8318 - categorical_accuracy: 0.8319 - val_loss: 0.7247 - val_categorical_accuracy: 0.8607\n",
            "Epoch 163/300\n",
            "422/422 [==============================] - 13s 30ms/step - loss: 0.8280 - categorical_accuracy: 0.8333 - val_loss: 0.7372 - val_categorical_accuracy: 0.8640\n",
            "Epoch 164/300\n",
            "422/422 [==============================] - 13s 30ms/step - loss: 0.8366 - categorical_accuracy: 0.8351 - val_loss: 0.7374 - val_categorical_accuracy: 0.8603\n",
            "Epoch 165/300\n",
            "422/422 [==============================] - 13s 30ms/step - loss: 0.8288 - categorical_accuracy: 0.8350 - val_loss: 0.7479 - val_categorical_accuracy: 0.8575\n",
            "Epoch 166/300\n",
            "422/422 [==============================] - 13s 30ms/step - loss: 0.8256 - categorical_accuracy: 0.8349 - val_loss: 0.7285 - val_categorical_accuracy: 0.8605\n",
            "Epoch 167/300\n",
            "422/422 [==============================] - 13s 30ms/step - loss: 0.8316 - categorical_accuracy: 0.8329 - val_loss: 0.7176 - val_categorical_accuracy: 0.8688\n",
            "Epoch 168/300\n",
            "422/422 [==============================] - 13s 30ms/step - loss: 0.8247 - categorical_accuracy: 0.8327 - val_loss: 0.7302 - val_categorical_accuracy: 0.8662\n",
            "Epoch 169/300\n",
            "422/422 [==============================] - 13s 31ms/step - loss: 0.8397 - categorical_accuracy: 0.8339 - val_loss: 0.7445 - val_categorical_accuracy: 0.8670\n",
            "Epoch 170/300\n",
            "422/422 [==============================] - 13s 30ms/step - loss: 0.8450 - categorical_accuracy: 0.8333 - val_loss: 0.7368 - val_categorical_accuracy: 0.8650\n",
            "Epoch 171/300\n",
            "422/422 [==============================] - 13s 30ms/step - loss: 0.8208 - categorical_accuracy: 0.8313 - val_loss: 0.7199 - val_categorical_accuracy: 0.8625\n",
            "Epoch 172/300\n",
            "422/422 [==============================] - 13s 30ms/step - loss: 0.8247 - categorical_accuracy: 0.8343 - val_loss: 0.7454 - val_categorical_accuracy: 0.8567\n",
            "Epoch 173/300\n",
            "422/422 [==============================] - 13s 30ms/step - loss: 0.8303 - categorical_accuracy: 0.8343 - val_loss: 0.7352 - val_categorical_accuracy: 0.8580\n",
            "Epoch 174/300\n",
            "422/422 [==============================] - 13s 30ms/step - loss: 0.8229 - categorical_accuracy: 0.8330 - val_loss: 0.7277 - val_categorical_accuracy: 0.8640\n",
            "Epoch 175/300\n",
            "422/422 [==============================] - 13s 30ms/step - loss: 0.8210 - categorical_accuracy: 0.8339 - val_loss: 0.7414 - val_categorical_accuracy: 0.8627\n",
            "Epoch 176/300\n",
            "422/422 [==============================] - 13s 31ms/step - loss: 0.8123 - categorical_accuracy: 0.8348 - val_loss: 0.7151 - val_categorical_accuracy: 0.8605\n",
            "Epoch 177/300\n",
            "422/422 [==============================] - 13s 30ms/step - loss: 0.8167 - categorical_accuracy: 0.8353 - val_loss: 0.7172 - val_categorical_accuracy: 0.8655\n",
            "Epoch 178/300\n",
            "422/422 [==============================] - 13s 30ms/step - loss: 0.8131 - categorical_accuracy: 0.8346 - val_loss: 0.7181 - val_categorical_accuracy: 0.8627\n",
            "Epoch 179/300\n",
            "422/422 [==============================] - 13s 30ms/step - loss: 0.8107 - categorical_accuracy: 0.8350 - val_loss: 0.7284 - val_categorical_accuracy: 0.8613\n",
            "Epoch 180/300\n",
            "422/422 [==============================] - 12s 30ms/step - loss: 0.8294 - categorical_accuracy: 0.8337 - val_loss: 0.7391 - val_categorical_accuracy: 0.8617\n",
            "Epoch 181/300\n",
            "422/422 [==============================] - 13s 30ms/step - loss: 0.8203 - categorical_accuracy: 0.8336 - val_loss: 0.7026 - val_categorical_accuracy: 0.8632\n",
            "Epoch 182/300\n",
            "422/422 [==============================] - 13s 30ms/step - loss: 0.8103 - categorical_accuracy: 0.8356 - val_loss: 0.7066 - val_categorical_accuracy: 0.8638\n",
            "Epoch 183/300\n",
            "422/422 [==============================] - 12s 30ms/step - loss: 0.8056 - categorical_accuracy: 0.8360 - val_loss: 0.7178 - val_categorical_accuracy: 0.8633\n",
            "Epoch 184/300\n",
            "422/422 [==============================] - 13s 30ms/step - loss: 0.8223 - categorical_accuracy: 0.8330 - val_loss: 0.7343 - val_categorical_accuracy: 0.8598\n",
            "Epoch 185/300\n",
            "422/422 [==============================] - 13s 30ms/step - loss: 0.8288 - categorical_accuracy: 0.8342 - val_loss: 0.7180 - val_categorical_accuracy: 0.8600\n",
            "Epoch 186/300\n",
            "422/422 [==============================] - 13s 30ms/step - loss: 0.8252 - categorical_accuracy: 0.8328 - val_loss: 0.7430 - val_categorical_accuracy: 0.8553\n",
            "Epoch 187/300\n",
            "422/422 [==============================] - 13s 30ms/step - loss: 0.8161 - categorical_accuracy: 0.8343 - val_loss: 0.7095 - val_categorical_accuracy: 0.8642\n",
            "Epoch 188/300\n",
            "422/422 [==============================] - 13s 30ms/step - loss: 0.8124 - categorical_accuracy: 0.8362 - val_loss: 0.7044 - val_categorical_accuracy: 0.8700\n",
            "Epoch 189/300\n",
            "422/422 [==============================] - 13s 30ms/step - loss: 0.8069 - categorical_accuracy: 0.8350 - val_loss: 0.7046 - val_categorical_accuracy: 0.8665\n",
            "Epoch 190/300\n",
            "422/422 [==============================] - 13s 30ms/step - loss: 0.8251 - categorical_accuracy: 0.8324 - val_loss: 0.7423 - val_categorical_accuracy: 0.8512\n",
            "Epoch 191/300\n",
            "422/422 [==============================] - 13s 30ms/step - loss: 0.8218 - categorical_accuracy: 0.8331 - val_loss: 0.7231 - val_categorical_accuracy: 0.8625\n",
            "Epoch 192/300\n",
            "422/422 [==============================] - 13s 30ms/step - loss: 0.8205 - categorical_accuracy: 0.8327 - val_loss: 0.7036 - val_categorical_accuracy: 0.8667\n",
            "Epoch 193/300\n",
            "422/422 [==============================] - 13s 30ms/step - loss: 0.8154 - categorical_accuracy: 0.8328 - val_loss: 0.7112 - val_categorical_accuracy: 0.8653\n",
            "Epoch 194/300\n",
            "422/422 [==============================] - 13s 30ms/step - loss: 0.8102 - categorical_accuracy: 0.8326 - val_loss: 0.7182 - val_categorical_accuracy: 0.8682\n",
            "Epoch 195/300\n",
            "422/422 [==============================] - 13s 30ms/step - loss: 0.8109 - categorical_accuracy: 0.8344 - val_loss: 0.7194 - val_categorical_accuracy: 0.8597\n",
            "Epoch 196/300\n",
            "422/422 [==============================] - 13s 30ms/step - loss: 0.8221 - categorical_accuracy: 0.8332 - val_loss: 0.7107 - val_categorical_accuracy: 0.8652\n",
            "Epoch 197/300\n",
            "422/422 [==============================] - 13s 30ms/step - loss: 0.8327 - categorical_accuracy: 0.8343 - val_loss: 0.7241 - val_categorical_accuracy: 0.8645\n",
            "Epoch 198/300\n",
            "422/422 [==============================] - 13s 31ms/step - loss: 0.8165 - categorical_accuracy: 0.8350 - val_loss: 0.7267 - val_categorical_accuracy: 0.8577\n",
            "Epoch 199/300\n",
            "422/422 [==============================] - 13s 30ms/step - loss: 0.8152 - categorical_accuracy: 0.8341 - val_loss: 0.6962 - val_categorical_accuracy: 0.8618\n",
            "Epoch 200/300\n",
            "422/422 [==============================] - 13s 30ms/step - loss: 0.8023 - categorical_accuracy: 0.8366 - val_loss: 0.7082 - val_categorical_accuracy: 0.8627\n",
            "Epoch 201/300\n",
            "422/422 [==============================] - 13s 30ms/step - loss: 0.8001 - categorical_accuracy: 0.8359 - val_loss: 0.7172 - val_categorical_accuracy: 0.8578\n",
            "Epoch 202/300\n",
            "422/422 [==============================] - 13s 31ms/step - loss: 0.8025 - categorical_accuracy: 0.8330 - val_loss: 0.7141 - val_categorical_accuracy: 0.8588\n",
            "Epoch 203/300\n",
            "422/422 [==============================] - 13s 31ms/step - loss: 0.8143 - categorical_accuracy: 0.8341 - val_loss: 0.6924 - val_categorical_accuracy: 0.8662\n",
            "Epoch 204/300\n",
            "422/422 [==============================] - 13s 30ms/step - loss: 0.8010 - categorical_accuracy: 0.8329 - val_loss: 0.7168 - val_categorical_accuracy: 0.8598\n",
            "Epoch 205/300\n",
            "422/422 [==============================] - 13s 30ms/step - loss: 0.8097 - categorical_accuracy: 0.8331 - val_loss: 0.7241 - val_categorical_accuracy: 0.8635\n",
            "Epoch 206/300\n",
            "422/422 [==============================] - 13s 30ms/step - loss: 0.7999 - categorical_accuracy: 0.8348 - val_loss: 0.7065 - val_categorical_accuracy: 0.8568\n",
            "Epoch 207/300\n",
            "422/422 [==============================] - 13s 31ms/step - loss: 0.8045 - categorical_accuracy: 0.8319 - val_loss: 0.7039 - val_categorical_accuracy: 0.8598\n",
            "Epoch 208/300\n",
            "422/422 [==============================] - 13s 30ms/step - loss: 0.8036 - categorical_accuracy: 0.8346 - val_loss: 0.7077 - val_categorical_accuracy: 0.8675\n",
            "Epoch 209/300\n",
            "422/422 [==============================] - 13s 30ms/step - loss: 0.7974 - categorical_accuracy: 0.8337 - val_loss: 0.6993 - val_categorical_accuracy: 0.8673\n",
            "Epoch 210/300\n",
            "422/422 [==============================] - 13s 30ms/step - loss: 0.8057 - categorical_accuracy: 0.8338 - val_loss: 0.7345 - val_categorical_accuracy: 0.8632\n",
            "Epoch 211/300\n",
            "422/422 [==============================] - 13s 31ms/step - loss: 0.8127 - categorical_accuracy: 0.8351 - val_loss: 0.7100 - val_categorical_accuracy: 0.8560\n",
            "Epoch 212/300\n",
            "422/422 [==============================] - 13s 30ms/step - loss: 0.8051 - categorical_accuracy: 0.8323 - val_loss: 0.7186 - val_categorical_accuracy: 0.8602\n",
            "Epoch 213/300\n",
            "422/422 [==============================] - 13s 30ms/step - loss: 0.8029 - categorical_accuracy: 0.8338 - val_loss: 0.6872 - val_categorical_accuracy: 0.8707\n",
            "Epoch 214/300\n",
            "422/422 [==============================] - 13s 30ms/step - loss: 0.8105 - categorical_accuracy: 0.8353 - val_loss: 0.7224 - val_categorical_accuracy: 0.8638\n",
            "Epoch 215/300\n",
            "422/422 [==============================] - 13s 30ms/step - loss: 0.8179 - categorical_accuracy: 0.8339 - val_loss: 0.7048 - val_categorical_accuracy: 0.8645\n",
            "Epoch 216/300\n",
            "422/422 [==============================] - 13s 30ms/step - loss: 0.8008 - categorical_accuracy: 0.8355 - val_loss: 0.7069 - val_categorical_accuracy: 0.8653\n",
            "Epoch 217/300\n",
            "422/422 [==============================] - 13s 31ms/step - loss: 0.8058 - categorical_accuracy: 0.8350 - val_loss: 0.6926 - val_categorical_accuracy: 0.8662\n",
            "Epoch 218/300\n",
            "422/422 [==============================] - 13s 30ms/step - loss: 0.7955 - categorical_accuracy: 0.8360 - val_loss: 0.7098 - val_categorical_accuracy: 0.8668\n",
            "Epoch 219/300\n",
            "422/422 [==============================] - 13s 30ms/step - loss: 0.8181 - categorical_accuracy: 0.8342 - val_loss: 0.7264 - val_categorical_accuracy: 0.8610\n",
            "Epoch 220/300\n",
            "422/422 [==============================] - 13s 30ms/step - loss: 0.8123 - categorical_accuracy: 0.8352 - val_loss: 0.7204 - val_categorical_accuracy: 0.8568\n",
            "Epoch 221/300\n",
            "422/422 [==============================] - 13s 31ms/step - loss: 0.8137 - categorical_accuracy: 0.8352 - val_loss: 0.7185 - val_categorical_accuracy: 0.8613\n",
            "Epoch 222/300\n",
            "422/422 [==============================] - 13s 31ms/step - loss: 0.8075 - categorical_accuracy: 0.8366 - val_loss: 0.7180 - val_categorical_accuracy: 0.8637\n",
            "Epoch 223/300\n",
            "422/422 [==============================] - 13s 30ms/step - loss: 0.8062 - categorical_accuracy: 0.8355 - val_loss: 0.6947 - val_categorical_accuracy: 0.8628\n",
            "Epoch 224/300\n",
            "422/422 [==============================] - 13s 30ms/step - loss: 0.8085 - categorical_accuracy: 0.8333 - val_loss: 0.7132 - val_categorical_accuracy: 0.8590\n",
            "Epoch 225/300\n",
            "422/422 [==============================] - 13s 31ms/step - loss: 0.7975 - categorical_accuracy: 0.8349 - val_loss: 0.7138 - val_categorical_accuracy: 0.8647\n",
            "Epoch 226/300\n",
            "422/422 [==============================] - 13s 32ms/step - loss: 0.8023 - categorical_accuracy: 0.8325 - val_loss: 0.7085 - val_categorical_accuracy: 0.8612\n",
            "Epoch 227/300\n",
            "422/422 [==============================] - 13s 31ms/step - loss: 0.8088 - categorical_accuracy: 0.8335 - val_loss: 0.7247 - val_categorical_accuracy: 0.8622\n",
            "Epoch 228/300\n",
            "422/422 [==============================] - 13s 31ms/step - loss: 0.8119 - categorical_accuracy: 0.8344 - val_loss: 0.6950 - val_categorical_accuracy: 0.8620\n",
            "Epoch 229/300\n",
            "422/422 [==============================] - 13s 32ms/step - loss: 0.8001 - categorical_accuracy: 0.8345 - val_loss: 0.7145 - val_categorical_accuracy: 0.8628\n",
            "Epoch 230/300\n",
            "422/422 [==============================] - 13s 31ms/step - loss: 0.7924 - categorical_accuracy: 0.8356 - val_loss: 0.6988 - val_categorical_accuracy: 0.8642\n",
            "Epoch 231/300\n",
            "422/422 [==============================] - 13s 31ms/step - loss: 0.7977 - categorical_accuracy: 0.8346 - val_loss: 0.6984 - val_categorical_accuracy: 0.8650\n",
            "Epoch 232/300\n",
            "422/422 [==============================] - 13s 31ms/step - loss: 0.8047 - categorical_accuracy: 0.8345 - val_loss: 0.7136 - val_categorical_accuracy: 0.8655\n",
            "Epoch 233/300\n",
            "422/422 [==============================] - 13s 31ms/step - loss: 0.8238 - categorical_accuracy: 0.8320 - val_loss: 0.7270 - val_categorical_accuracy: 0.8600\n",
            "Epoch 234/300\n",
            "422/422 [==============================] - 13s 32ms/step - loss: 0.8099 - categorical_accuracy: 0.8350 - val_loss: 0.7071 - val_categorical_accuracy: 0.8598\n",
            "Epoch 235/300\n",
            "422/422 [==============================] - 13s 31ms/step - loss: 0.7999 - categorical_accuracy: 0.8348 - val_loss: 0.7064 - val_categorical_accuracy: 0.8590\n",
            "Epoch 236/300\n",
            "422/422 [==============================] - 13s 31ms/step - loss: 0.7969 - categorical_accuracy: 0.8364 - val_loss: 0.7079 - val_categorical_accuracy: 0.8598\n",
            "Epoch 237/300\n",
            "422/422 [==============================] - 13s 31ms/step - loss: 0.7994 - categorical_accuracy: 0.8364 - val_loss: 0.7086 - val_categorical_accuracy: 0.8638\n",
            "Epoch 238/300\n",
            "422/422 [==============================] - 13s 31ms/step - loss: 0.7941 - categorical_accuracy: 0.8363 - val_loss: 0.7117 - val_categorical_accuracy: 0.8532\n",
            "Epoch 239/300\n",
            "422/422 [==============================] - 14s 32ms/step - loss: 0.7947 - categorical_accuracy: 0.8329 - val_loss: 0.6930 - val_categorical_accuracy: 0.8652\n",
            "Epoch 240/300\n",
            "422/422 [==============================] - 14s 32ms/step - loss: 0.7991 - categorical_accuracy: 0.8356 - val_loss: 0.6962 - val_categorical_accuracy: 0.8692\n",
            "Epoch 241/300\n",
            "422/422 [==============================] - 13s 31ms/step - loss: 0.8003 - categorical_accuracy: 0.8354 - val_loss: 0.7132 - val_categorical_accuracy: 0.8638\n",
            "Epoch 242/300\n",
            "422/422 [==============================] - 13s 31ms/step - loss: 0.7999 - categorical_accuracy: 0.8341 - val_loss: 0.6960 - val_categorical_accuracy: 0.8672\n",
            "Epoch 243/300\n",
            "422/422 [==============================] - 13s 31ms/step - loss: 0.7906 - categorical_accuracy: 0.8344 - val_loss: 0.7113 - val_categorical_accuracy: 0.8613\n",
            "Epoch 244/300\n",
            "422/422 [==============================] - 13s 31ms/step - loss: 0.7977 - categorical_accuracy: 0.8336 - val_loss: 0.7050 - val_categorical_accuracy: 0.8637\n",
            "Epoch 245/300\n",
            "422/422 [==============================] - 13s 31ms/step - loss: 0.7963 - categorical_accuracy: 0.8334 - val_loss: 0.7052 - val_categorical_accuracy: 0.8638\n",
            "Epoch 246/300\n",
            "422/422 [==============================] - 13s 31ms/step - loss: 0.8109 - categorical_accuracy: 0.8342 - val_loss: 0.7311 - val_categorical_accuracy: 0.8570\n",
            "Epoch 247/300\n",
            "422/422 [==============================] - 13s 31ms/step - loss: 0.7960 - categorical_accuracy: 0.8358 - val_loss: 0.6962 - val_categorical_accuracy: 0.8627\n",
            "Epoch 248/300\n",
            "422/422 [==============================] - 13s 31ms/step - loss: 0.8164 - categorical_accuracy: 0.8337 - val_loss: 0.7267 - val_categorical_accuracy: 0.8615\n",
            "Epoch 249/300\n",
            "422/422 [==============================] - 13s 31ms/step - loss: 0.8080 - categorical_accuracy: 0.8301 - val_loss: 0.7117 - val_categorical_accuracy: 0.8610\n",
            "Epoch 250/300\n",
            "422/422 [==============================] - 13s 31ms/step - loss: 0.7937 - categorical_accuracy: 0.8356 - val_loss: 0.6922 - val_categorical_accuracy: 0.8675\n",
            "Epoch 251/300\n",
            "422/422 [==============================] - 13s 31ms/step - loss: 0.7914 - categorical_accuracy: 0.8355 - val_loss: 0.6954 - val_categorical_accuracy: 0.8635\n",
            "Epoch 252/300\n",
            "422/422 [==============================] - 13s 31ms/step - loss: 0.7893 - categorical_accuracy: 0.8350 - val_loss: 0.6837 - val_categorical_accuracy: 0.8670\n",
            "Epoch 253/300\n",
            "422/422 [==============================] - 13s 31ms/step - loss: 0.7930 - categorical_accuracy: 0.8326 - val_loss: 0.6944 - val_categorical_accuracy: 0.8610\n",
            "Epoch 254/300\n",
            "422/422 [==============================] - 13s 31ms/step - loss: 0.7960 - categorical_accuracy: 0.8368 - val_loss: 0.6848 - val_categorical_accuracy: 0.8613\n",
            "Epoch 255/300\n",
            "422/422 [==============================] - 13s 31ms/step - loss: 0.7905 - categorical_accuracy: 0.8358 - val_loss: 0.7101 - val_categorical_accuracy: 0.8603\n",
            "Epoch 256/300\n",
            "422/422 [==============================] - 14s 32ms/step - loss: 0.7937 - categorical_accuracy: 0.8350 - val_loss: 0.7040 - val_categorical_accuracy: 0.8643\n",
            "Epoch 257/300\n",
            "422/422 [==============================] - 13s 31ms/step - loss: 0.7912 - categorical_accuracy: 0.8370 - val_loss: 0.6906 - val_categorical_accuracy: 0.8667\n",
            "Epoch 258/300\n",
            "422/422 [==============================] - 13s 31ms/step - loss: 0.7925 - categorical_accuracy: 0.8344 - val_loss: 0.6830 - val_categorical_accuracy: 0.8703\n",
            "Epoch 259/300\n",
            "422/422 [==============================] - 13s 31ms/step - loss: 0.7959 - categorical_accuracy: 0.8337 - val_loss: 0.7020 - val_categorical_accuracy: 0.8560\n",
            "Epoch 260/300\n",
            "422/422 [==============================] - 13s 31ms/step - loss: 0.7867 - categorical_accuracy: 0.8348 - val_loss: 0.7009 - val_categorical_accuracy: 0.8645\n",
            "Epoch 261/300\n",
            "422/422 [==============================] - 13s 31ms/step - loss: 0.7909 - categorical_accuracy: 0.8352 - val_loss: 0.6973 - val_categorical_accuracy: 0.8688\n",
            "Epoch 262/300\n",
            "422/422 [==============================] - 14s 32ms/step - loss: 0.8036 - categorical_accuracy: 0.8332 - val_loss: 0.7183 - val_categorical_accuracy: 0.8577\n",
            "Epoch 263/300\n",
            "422/422 [==============================] - 13s 31ms/step - loss: 0.7997 - categorical_accuracy: 0.8343 - val_loss: 0.6953 - val_categorical_accuracy: 0.8643\n",
            "Epoch 264/300\n",
            "422/422 [==============================] - 13s 31ms/step - loss: 0.7894 - categorical_accuracy: 0.8362 - val_loss: 0.6858 - val_categorical_accuracy: 0.8643\n",
            "Epoch 265/300\n",
            "422/422 [==============================] - 13s 31ms/step - loss: 0.7951 - categorical_accuracy: 0.8331 - val_loss: 0.7164 - val_categorical_accuracy: 0.8645\n",
            "Epoch 266/300\n",
            "422/422 [==============================] - 13s 31ms/step - loss: 0.8018 - categorical_accuracy: 0.8349 - val_loss: 0.6972 - val_categorical_accuracy: 0.8675\n",
            "Epoch 267/300\n",
            "422/422 [==============================] - 13s 31ms/step - loss: 0.7962 - categorical_accuracy: 0.8340 - val_loss: 0.6952 - val_categorical_accuracy: 0.8648\n",
            "Epoch 268/300\n",
            "422/422 [==============================] - 13s 31ms/step - loss: 0.7842 - categorical_accuracy: 0.8354 - val_loss: 0.6845 - val_categorical_accuracy: 0.8640\n",
            "Epoch 269/300\n",
            "422/422 [==============================] - 13s 31ms/step - loss: 0.7983 - categorical_accuracy: 0.8346 - val_loss: 0.6965 - val_categorical_accuracy: 0.8627\n",
            "Epoch 270/300\n",
            "422/422 [==============================] - 13s 31ms/step - loss: 0.7874 - categorical_accuracy: 0.8355 - val_loss: 0.6865 - val_categorical_accuracy: 0.8597\n",
            "Epoch 271/300\n",
            "422/422 [==============================] - 13s 31ms/step - loss: 0.8027 - categorical_accuracy: 0.8328 - val_loss: 0.7054 - val_categorical_accuracy: 0.8690\n",
            "Epoch 272/300\n",
            "422/422 [==============================] - 13s 32ms/step - loss: 0.8101 - categorical_accuracy: 0.8344 - val_loss: 0.7053 - val_categorical_accuracy: 0.8602\n",
            "Epoch 273/300\n",
            "422/422 [==============================] - 13s 31ms/step - loss: 0.7959 - categorical_accuracy: 0.8331 - val_loss: 0.7275 - val_categorical_accuracy: 0.8550\n",
            "Epoch 274/300\n",
            "422/422 [==============================] - 13s 31ms/step - loss: 0.7928 - categorical_accuracy: 0.8357 - val_loss: 0.7087 - val_categorical_accuracy: 0.8642\n",
            "Epoch 275/300\n",
            "422/422 [==============================] - 13s 31ms/step - loss: 0.7917 - categorical_accuracy: 0.8333 - val_loss: 0.6846 - val_categorical_accuracy: 0.8635\n",
            "Epoch 276/300\n",
            "422/422 [==============================] - 13s 31ms/step - loss: 0.7942 - categorical_accuracy: 0.8318 - val_loss: 0.6935 - val_categorical_accuracy: 0.8680\n",
            "Epoch 277/300\n",
            "422/422 [==============================] - 13s 31ms/step - loss: 0.7883 - categorical_accuracy: 0.8353 - val_loss: 0.6902 - val_categorical_accuracy: 0.8642\n",
            "Epoch 278/300\n",
            "422/422 [==============================] - 13s 31ms/step - loss: 0.7868 - categorical_accuracy: 0.8345 - val_loss: 0.6892 - val_categorical_accuracy: 0.8593\n",
            "Epoch 279/300\n",
            "422/422 [==============================] - 13s 31ms/step - loss: 0.7862 - categorical_accuracy: 0.8331 - val_loss: 0.6914 - val_categorical_accuracy: 0.8645\n",
            "Epoch 280/300\n",
            "422/422 [==============================] - 14s 32ms/step - loss: 0.7860 - categorical_accuracy: 0.8343 - val_loss: 0.6778 - val_categorical_accuracy: 0.8635\n",
            "Epoch 281/300\n",
            "422/422 [==============================] - 13s 31ms/step - loss: 0.7871 - categorical_accuracy: 0.8339 - val_loss: 0.6925 - val_categorical_accuracy: 0.8648\n",
            "Epoch 282/300\n",
            "422/422 [==============================] - 13s 31ms/step - loss: 0.7961 - categorical_accuracy: 0.8340 - val_loss: 0.6944 - val_categorical_accuracy: 0.8623\n",
            "Epoch 283/300\n",
            "422/422 [==============================] - 13s 31ms/step - loss: 0.7914 - categorical_accuracy: 0.8356 - val_loss: 0.7075 - val_categorical_accuracy: 0.8575\n",
            "Epoch 284/300\n",
            "422/422 [==============================] - 13s 31ms/step - loss: 0.7970 - categorical_accuracy: 0.8353 - val_loss: 0.7113 - val_categorical_accuracy: 0.8582\n",
            "Epoch 285/300\n",
            "422/422 [==============================] - 13s 31ms/step - loss: 0.7924 - categorical_accuracy: 0.8349 - val_loss: 0.6850 - val_categorical_accuracy: 0.8657\n",
            "Epoch 286/300\n",
            "422/422 [==============================] - 13s 31ms/step - loss: 0.7928 - categorical_accuracy: 0.8343 - val_loss: 0.7052 - val_categorical_accuracy: 0.8613\n",
            "Epoch 287/300\n",
            "422/422 [==============================] - 13s 31ms/step - loss: 0.7881 - categorical_accuracy: 0.8350 - val_loss: 0.6787 - val_categorical_accuracy: 0.8615\n",
            "Epoch 288/300\n",
            "422/422 [==============================] - 13s 31ms/step - loss: 0.7865 - categorical_accuracy: 0.8343 - val_loss: 0.6942 - val_categorical_accuracy: 0.8670\n",
            "Epoch 289/300\n",
            "422/422 [==============================] - 13s 31ms/step - loss: 0.7835 - categorical_accuracy: 0.8349 - val_loss: 0.6856 - val_categorical_accuracy: 0.8638\n",
            "Epoch 290/300\n",
            "422/422 [==============================] - 13s 31ms/step - loss: 0.7872 - categorical_accuracy: 0.8349 - val_loss: 0.6793 - val_categorical_accuracy: 0.8690\n",
            "Epoch 291/300\n",
            "422/422 [==============================] - 13s 32ms/step - loss: 0.7814 - categorical_accuracy: 0.8352 - val_loss: 0.6934 - val_categorical_accuracy: 0.8602\n",
            "Epoch 292/300\n",
            "422/422 [==============================] - 13s 31ms/step - loss: 0.7970 - categorical_accuracy: 0.8328 - val_loss: 0.6907 - val_categorical_accuracy: 0.8672\n",
            "Epoch 293/300\n",
            "422/422 [==============================] - 13s 32ms/step - loss: 0.7885 - categorical_accuracy: 0.8353 - val_loss: 0.6997 - val_categorical_accuracy: 0.8628\n",
            "Epoch 294/300\n",
            "422/422 [==============================] - 14s 32ms/step - loss: 0.7891 - categorical_accuracy: 0.8343 - val_loss: 0.6836 - val_categorical_accuracy: 0.8615\n",
            "Epoch 295/300\n",
            "422/422 [==============================] - 13s 32ms/step - loss: 0.7921 - categorical_accuracy: 0.8343 - val_loss: 0.6846 - val_categorical_accuracy: 0.8648\n",
            "Epoch 296/300\n",
            "422/422 [==============================] - 13s 31ms/step - loss: 0.7844 - categorical_accuracy: 0.8329 - val_loss: 0.6975 - val_categorical_accuracy: 0.8653\n",
            "Epoch 297/300\n",
            "422/422 [==============================] - 13s 31ms/step - loss: 0.7981 - categorical_accuracy: 0.8342 - val_loss: 0.6954 - val_categorical_accuracy: 0.8638\n",
            "Epoch 298/300\n",
            "422/422 [==============================] - 13s 32ms/step - loss: 0.7931 - categorical_accuracy: 0.8337 - val_loss: 0.6783 - val_categorical_accuracy: 0.8670\n",
            "Epoch 299/300\n",
            "422/422 [==============================] - 13s 31ms/step - loss: 0.7776 - categorical_accuracy: 0.8340 - val_loss: 0.6885 - val_categorical_accuracy: 0.8625\n",
            "Epoch 300/300\n",
            "422/422 [==============================] - 13s 31ms/step - loss: 0.7963 - categorical_accuracy: 0.8342 - val_loss: 0.7196 - val_categorical_accuracy: 0.8608\n",
            "313/313 [==============================] - 2s 5ms/step - loss: 0.7428 - categorical_accuracy: 0.8483\n",
            "\n",
            "Test accuracy: 0.8482999801635742\n"
          ]
        }
      ]
    },
    {
      "cell_type": "code",
      "source": [
        "print('\\nhistory dict:', list(history.history.keys()))"
      ],
      "metadata": {
        "id": "CxRE-B_Q6Sii",
        "outputId": "ded37f01-a5ef-4673-9a4b-d24f135a6608",
        "colab": {
          "base_uri": "https://localhost:8080/"
        }
      },
      "execution_count": 16,
      "outputs": [
        {
          "output_type": "stream",
          "name": "stdout",
          "text": [
            "\n",
            "history dict: ['loss', 'categorical_accuracy', 'val_loss', 'val_categorical_accuracy']\n"
          ]
        }
      ]
    },
    {
      "cell_type": "code",
      "source": [
        "result = model.evaluate(x_test, y_test)\n",
        "print(result)"
      ],
      "metadata": {
        "id": "YXpwRRTvTBNg",
        "outputId": "6255f874-9e84-4072-ba7d-993eb529e53f",
        "colab": {
          "base_uri": "https://localhost:8080/"
        }
      },
      "execution_count": 17,
      "outputs": [
        {
          "output_type": "stream",
          "name": "stdout",
          "text": [
            "313/313 [==============================] - 1s 4ms/step - loss: 0.7428 - categorical_accuracy: 0.8483\n",
            "[0.7428407669067383, 0.8482999801635742]\n"
          ]
        }
      ]
    },
    {
      "cell_type": "code",
      "source": [
        "saved_model = load_model('best_model.h5')\n",
        "result = saved_model.evaluate(x_test, y_test)\n",
        "print(result)"
      ],
      "metadata": {
        "id": "dpaZAW0vp1AZ",
        "outputId": "936e4f61-f989-4c16-ec16-52a61c17ed27",
        "colab": {
          "base_uri": "https://localhost:8080/"
        }
      },
      "execution_count": 18,
      "outputs": [
        {
          "output_type": "stream",
          "name": "stdout",
          "text": [
            "313/313 [==============================] - 2s 4ms/step - loss: 0.7154 - categorical_accuracy: 0.8583\n",
            "[0.7154227495193481, 0.858299970626831]\n"
          ]
        }
      ]
    },
    {
      "cell_type": "code",
      "source": [
        "# from keras.models import load_model\n",
        "# saved_model = load_model('best_model.h5')\n",
        "# # _, train_acc = saved_model.evaluate(x_train, y_train, verbose=0)\n",
        "# _, test_acc = saved_model.evaluate(x_test, y_test, verbose=0)\n",
        "# print('Test: %.3f' % (test_acc))"
      ],
      "metadata": {
        "id": "DR_MS9DABo_K"
      },
      "execution_count": 19,
      "outputs": []
    },
    {
      "cell_type": "code",
      "source": [
        "history_dict = history.history\n",
        "loss_values = history_dict['loss']\n",
        "val_loss_values = history_dict['val_loss']\n",
        "\n",
        "epochs = range(1, len(history_dict['loss']) + 1)\n",
        "\n",
        "plt.figure(figsize=(10, 5))\n",
        "plt.plot(epochs, loss_values, 'bo', label='Training loss')\n",
        "plt.plot(epochs, val_loss_values, 'r', label='Validation loss')\n",
        "# plt.ylim (0.2, 0.5)\n",
        "plt.title('Training and validation loss')\n",
        "plt.xlabel('Epochs')\n",
        "plt.ylabel('Loss')\n",
        "plt.legend()\n",
        "plt.grid(True)\n",
        "plt.show()\n",
        "1\n",
        "plt.clf()\n",
        "plt.figure(figsize=(10, 5))\n",
        "val_acc_values = history_dict['categorical_accuracy']\n",
        "plt.plot(epochs, history_dict['categorical_accuracy'], 'bo', label='Training acc')\n",
        "plt.plot(epochs, history_dict['val_categorical_accuracy'], 'r', label='Validation acc')\n",
        "plt.ylim (0.86, 0.94)\n",
        "plt.title('Training and validation accuracy')\n",
        "plt.xlabel('Epochs')\n",
        "plt.ylabel('Accuracy')\n",
        "plt.legend()\n",
        "plt.grid(True)"
      ],
      "metadata": {
        "id": "2Ll_5sGlXKMH",
        "outputId": "95662d8e-8839-4553-bb31-e90778df359e",
        "colab": {
          "base_uri": "https://localhost:8080/",
          "height": 975
        }
      },
      "execution_count": 20,
      "outputs": [
        {
          "output_type": "display_data",
          "data": {
            "text/plain": [
              "<Figure size 1000x500 with 1 Axes>"
            ],
            "image/png": "[encoded data removed]"
          },
          "metadata": {}
        },
        {
          "output_type": "display_data",
          "data": {
            "text/plain": [
              "<Figure size 640x480 with 0 Axes>"
            ]
          },
          "metadata": {}
        },
        {
          "output_type": "display_data",
          "data": {
            "text/plain": [
              "<Figure size 1000x500 with 1 Axes>"
            ],
            "image/png": "[encoded data removed]"
          },
          "metadata": {}
        }
      ]
    },
    {
      "cell_type": "code",
      "source": [
        "probability_model = tf.keras.Sequential([model,\n",
        "                                         tf.keras.layers.Softmax()])"
      ],
      "metadata": {
        "id": "VzOdKAT_uV-f"
      },
      "execution_count": 21,
      "outputs": []
    },
    {
      "cell_type": "code",
      "source": [
        "predictions = probability_model.predict(x_test)"
      ],
      "metadata": {
        "id": "f4is3NFruYom",
        "outputId": "ab21eb77-53ae-4b50-d2de-f01340dded32",
        "colab": {
          "base_uri": "https://localhost:8080/"
        }
      },
      "execution_count": 22,
      "outputs": [
        {
          "output_type": "stream",
          "name": "stdout",
          "text": [
            "313/313 [==============================] - 2s 5ms/step\n"
          ]
        }
      ]
    },
    {
      "cell_type": "code",
      "source": [
        "predictions[0]"
      ],
      "metadata": {
        "id": "82cigvlZudz_",
        "outputId": "59f6d201-bed4-48d5-b5cb-e0b0c2c7dff2",
        "colab": {
          "base_uri": "https://localhost:8080/"
        }
      },
      "execution_count": 23,
      "outputs": [
        {
          "output_type": "execute_result",
          "data": {
            "text/plain": [
              "array([0.08610022, 0.08609761, 0.08609781, 0.08609909, 0.08609843,\n",
              "       0.08759163, 0.08609927, 0.09018335, 0.08613569, 0.21949688],\n",
              "      dtype=float32)"
            ]
          },
          "metadata": {},
          "execution_count": 23
        }
      ]
    },
    {
      "cell_type": "code",
      "source": [
        "model.summary()"
      ],
      "metadata": {
        "id": "6RsQPHyYuNGe",
        "outputId": "d25d1e3d-c476-4e8c-e10b-c708d678f712",
        "colab": {
          "base_uri": "https://localhost:8080/"
        }
      },
      "execution_count": 24,
      "outputs": [
        {
          "output_type": "stream",
          "name": "stdout",
          "text": [
            "Model: \"sequential\"\n",
            "_________________________________________________________________\n",
            " Layer (type)                Output Shape              Param #   \n",
            "=================================================================\n",
            " flatten (Flatten)           (None, 784)               0         \n",
            "                                                                 \n",
            " dropout (Dropout)           (None, 784)               0         \n",
            "                                                                 \n",
            " batch_normalization (Batch  (None, 784)               3136      \n",
            " Normalization)                                                  \n",
            "                                                                 \n",
            " dense (Dense)               (None, 256)               200960    \n",
            "                                                                 \n",
            " dropout_1 (Dropout)         (None, 256)               0         \n",
            "                                                                 \n",
            " batch_normalization_1 (Bat  (None, 256)               1024      \n",
            " chNormalization)                                                \n",
            "                                                                 \n",
            " dense_1 (Dense)             (None, 512)               131584    \n",
            "                                                                 \n",
            " dropout_2 (Dropout)         (None, 512)               0         \n",
            "                                                                 \n",
            " batch_normalization_2 (Bat  (None, 512)               2048      \n",
            " chNormalization)                                                \n",
            "                                                                 \n",
            " dense_2 (Dense)             (None, 512)               262656    \n",
            "                                                                 \n",
            " dropout_3 (Dropout)         (None, 512)               0         \n",
            "                                                                 \n",
            " dense_3 (Dense)             (None, 10)                5130      \n",
            "                                                                 \n",
            "=================================================================\n",
            "Total params: 606538 (2.31 MB)\n",
            "Trainable params: 603434 (2.30 MB)\n",
            "Non-trainable params: 3104 (12.12 KB)\n",
            "_________________________________________________________________\n"
          ]
        }
      ]
    }
  ]
}